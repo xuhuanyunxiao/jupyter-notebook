{
 "cells": [
  {
   "cell_type": "code",
   "execution_count": null,
   "metadata": {},
   "outputs": [],
   "source": [
    "%matplotlib inline"
   ]
  },
  {
   "cell_type": "markdown",
   "metadata": {},
   "source": [
    "\n",
    "# Precision-Recall\n",
    "\n",
    "\n",
    "Example of Precision-Recall metric to evaluate classifier output quality.\n",
    "\n",
    "Precision-Recall is a useful measure of success of prediction when the\n",
    "classes are very imbalanced. In information retrieval, precision is a\n",
    "measure of result relevancy, while recall is a measure of how many truly\n",
    "relevant results are returned.\n",
    "\n",
    "The precision-recall curve shows the tradeoff between precision and\n",
    "recall for different threshold. A high area under the curve represents\n",
    "both high recall and high precision, where high precision relates to a\n",
    "low false positive rate, and high recall relates to a low false negative\n",
    "rate. High scores for both show that the classifier is returning accurate\n",
    "results (high precision), as well as returning a majority of all positive\n",
    "results (high recall).\n",
    "\n",
    "A system with high recall but low precision returns many results, but most of\n",
    "its predicted labels are incorrect when compared to the training labels. A\n",
    "system with high precision but low recall is just the opposite, returning very\n",
    "few results, but most of its predicted labels are correct when compared to the\n",
    "training labels. An ideal system with high precision and high recall will\n",
    "return many results, with all results labeled correctly.\n",
    "\n",
    "Precision ($P$) is defined as the number of true positives ($T_p$)\n",
    "over the number of true positives plus the number of false positives\n",
    "($F_p$).\n",
    "\n",
    "$P = \\frac{T_p}{T_p+F_p}$\n",
    "\n",
    "Recall ($R$) is defined as the number of true positives ($T_p$)\n",
    "over the number of true positives plus the number of false negatives\n",
    "($F_n$).\n",
    "\n",
    "$R = \\frac{T_p}{T_p + F_n}$\n",
    "\n",
    "These quantities are also related to the ($F_1$) score, which is defined\n",
    "as the harmonic mean of precision and recall.\n",
    "\n",
    "$F1 = 2\\frac{P \\times R}{P+R}$\n",
    "\n",
    "Note that the precision may not decrease with recall. The\n",
    "definition of precision ($\\frac{T_p}{T_p + F_p}$) shows that lowering\n",
    "the threshold of a classifier may increase the denominator, by increasing the\n",
    "number of results returned. If the threshold was previously set too high, the\n",
    "new results may all be true positives, which will increase precision. If the\n",
    "previous threshold was about right or too low, further lowering the threshold\n",
    "will introduce false positives, decreasing precision.\n",
    "\n",
    "Recall is defined as $\\frac{T_p}{T_p+F_n}$, where $T_p+F_n$ does\n",
    "not depend on the classifier threshold. This means that lowering the classifier\n",
    "threshold may increase recall, by increasing the number of true positive\n",
    "results. It is also possible that lowering the threshold may leave recall\n",
    "unchanged, while the precision fluctuates.\n",
    "\n",
    "The relationship between recall and precision can be observed in the\n",
    "stairstep area of the plot - at the edges of these steps a small change\n",
    "in the threshold considerably reduces precision, with only a minor gain in\n",
    "recall.\n",
    "\n",
    "**Average precision** (AP) summarizes such a plot as the weighted mean of\n",
    "precisions achieved at each threshold, with the increase in recall from the\n",
    "previous threshold used as the weight:\n",
    "\n",
    "$\\text{AP} = \\sum_n (R_n - R_{n-1}) P_n$\n",
    "\n",
    "where $P_n$ and $R_n$ are the precision and recall at the\n",
    "nth threshold. A pair $(R_k, P_k)$ is referred to as an\n",
    "*operating point*.\n",
    "\n",
    "AP and the trapezoidal area under the operating points\n",
    "(:func:`sklearn.metrics.auc`) are common ways to summarize a precision-recall\n",
    "curve that lead to different results. Read more in the\n",
    "`User Guide <precision_recall_f_measure_metrics>`.\n",
    "\n",
    "Precision-recall curves are typically used in binary classification to study\n",
    "the output of a classifier. In order to extend the precision-recall curve and\n",
    "average precision to multi-class or multi-label classification, it is necessary\n",
    "to binarize the output. One curve can be drawn per label, but one can also draw\n",
    "a precision-recall curve by considering each element of the label indicator\n",
    "matrix as a binary prediction (micro-averaging).\n",
    "\n",
    "<div class=\"alert alert-info\"><h4>Note</h4><p>See also :func:`sklearn.metrics.average_precision_score`,\n",
    "             :func:`sklearn.metrics.recall_score`,\n",
    "             :func:`sklearn.metrics.precision_score`,\n",
    "             :func:`sklearn.metrics.f1_score`</p></div>\n",
    "\n"
   ]
  },
  {
   "cell_type": "code",
   "execution_count": 1,
   "metadata": {
    "ExecuteTime": {
     "end_time": "2018-06-11T06:44:54.911509Z",
     "start_time": "2018-06-11T06:44:54.908509Z"
    }
   },
   "outputs": [],
   "source": [
    "from __future__ import print_function"
   ]
  },
  {
   "cell_type": "markdown",
   "metadata": {},
   "source": [
    "In binary classification settings\n",
    "--------------------------------------------------------\n",
    "\n",
    "Create simple data\n",
    "..................\n",
    "\n",
    "Try to differentiate the two first classes of the iris data\n",
    "\n"
   ]
  },
  {
   "cell_type": "code",
   "execution_count": 15,
   "metadata": {
    "ExecuteTime": {
     "end_time": "2018-06-11T06:53:35.699297Z",
     "start_time": "2018-06-11T06:53:35.647294Z"
    }
   },
   "outputs": [],
   "source": [
    "from sklearn import svm, datasets\n",
    "from sklearn.model_selection import train_test_split\n",
    "import numpy as np\n",
    "%matplotlib inline\n",
    "\n",
    "iris = datasets.load_iris()\n",
    "X = iris.data\n",
    "y = iris.target\n",
    "\n",
    "# Add noisy features\n",
    "random_state = np.random.RandomState(0)\n",
    "n_samples, n_features = X.shape\n",
    "X = np.c_[X, random_state.randn(n_samples, 200 * n_features)]\n",
    "\n",
    "# Limit to the two first classes, and split into training and test\n",
    "X_train, X_test, y_train, y_test = train_test_split(X[y < 2], y[y < 2],\n",
    "                                                    test_size=.5,\n",
    "                                                    random_state=random_state)\n",
    "\n",
    "# Create a simple classifier\n",
    "classifier = svm.LinearSVC(random_state=random_state)\n",
    "classifier.fit(X_train, y_train)\n",
    "y_score = classifier.decision_function(X_test)"
   ]
  },
  {
   "cell_type": "code",
   "execution_count": 18,
   "metadata": {
    "ExecuteTime": {
     "end_time": "2018-06-11T10:00:13.305763Z",
     "start_time": "2018-06-11T10:00:13.298763Z"
    }
   },
   "outputs": [
    {
     "data": {
      "text/plain": [
       "array([-0.20078873,  0.30423755,  0.20105913,  0.27523707,  0.42593232,\n",
       "       -0.15043845, -0.08794778, -0.12733551,  0.22931435, -0.23913589,\n",
       "       -0.06386273, -0.14958498, -0.04914892,  0.09898308,  0.05156143,\n",
       "       -0.11429615,  0.18899632,  0.04871816, -0.08258227, -0.26105581,\n",
       "        0.24693108, -0.18318469, -0.38385182,  0.26336702,  0.12585387,\n",
       "       -0.03991333,  0.39424515,  0.42411475, -0.47904513, -0.30529129,\n",
       "       -0.09282077,  0.01213395, -0.20204191,  0.40148907, -0.04536207,\n",
       "        0.12179039,  0.06493686, -0.07007254,  0.0032903 , -0.39635824,\n",
       "        0.02619399,  0.20018636,  0.06502152,  0.49589642, -0.28221988,\n",
       "        0.31364507,  0.19062117,  0.11549291,  0.03145852,  0.22408626])"
      ]
     },
     "execution_count": 18,
     "metadata": {},
     "output_type": "execute_result"
    }
   ],
   "source": [
    "y_score"
   ]
  },
  {
   "cell_type": "code",
   "execution_count": 19,
   "metadata": {
    "ExecuteTime": {
     "end_time": "2018-06-11T10:00:34.438972Z",
     "start_time": "2018-06-11T10:00:34.432971Z"
    }
   },
   "outputs": [
    {
     "data": {
      "text/plain": [
       "array([1, 1, 1, 1, 1, 0, 1, 0, 1, 0, 0, 1, 0, 0, 1, 0, 0, 0, 1, 0, 1, 0,\n",
       "       0, 1, 1, 1, 1, 1, 0, 0, 0, 1, 0, 1, 0, 1, 0, 0, 0, 0, 1, 1, 1, 1,\n",
       "       0, 1, 1, 0, 1, 0])"
      ]
     },
     "execution_count": 19,
     "metadata": {},
     "output_type": "execute_result"
    }
   ],
   "source": [
    "y_test"
   ]
  },
  {
   "cell_type": "markdown",
   "metadata": {},
   "source": [
    "Compute the average precision score\n",
    "...................................\n",
    "\n"
   ]
  },
  {
   "cell_type": "code",
   "execution_count": 16,
   "metadata": {
    "ExecuteTime": {
     "end_time": "2018-06-11T06:53:38.618463Z",
     "start_time": "2018-06-11T06:53:38.594462Z"
    }
   },
   "outputs": [
    {
     "name": "stdout",
     "output_type": "stream",
     "text": [
      "Average precision-recall score: 0.88\n"
     ]
    }
   ],
   "source": [
    "from sklearn.metrics import average_precision_score\n",
    "average_precision = average_precision_score(y_test, y_score)\n",
    "\n",
    "print('Average precision-recall score: {0:0.2f}'.format(\n",
    "      average_precision))"
   ]
  },
  {
   "cell_type": "code",
   "execution_count": 13,
   "metadata": {
    "ExecuteTime": {
     "end_time": "2018-06-11T06:51:58.678747Z",
     "start_time": "2018-06-11T06:51:58.672747Z"
    }
   },
   "outputs": [
    {
     "data": {
      "text/plain": [
       "array([1, 1, 1, 1, 1, 0, 1, 0, 1, 0, 0, 1, 0, 0, 1, 0, 0, 0, 1, 0, 1, 0,\n",
       "       0, 1, 1, 1, 1, 1, 0, 0, 0, 1, 0, 1, 0, 1, 0, 0, 0, 0, 1, 1, 1, 1,\n",
       "       0, 1, 1, 0, 1, 0])"
      ]
     },
     "execution_count": 13,
     "metadata": {},
     "output_type": "execute_result"
    }
   ],
   "source": [
    "y_test"
   ]
  },
  {
   "cell_type": "markdown",
   "metadata": {},
   "source": [
    "Plot the Precision-Recall curve\n",
    "................................\n",
    "\n"
   ]
  },
  {
   "cell_type": "code",
   "execution_count": 17,
   "metadata": {
    "ExecuteTime": {
     "end_time": "2018-06-11T06:53:42.177667Z",
     "start_time": "2018-06-11T06:53:42.019658Z"
    }
   },
   "outputs": [
    {
     "data": {
      "text/plain": [
       "Text(0.5,1,'2-class Precision-Recall curve: AP=0.88')"
      ]
     },
     "execution_count": 17,
     "metadata": {},
     "output_type": "execute_result"
    },
    {
     "data": {
      "image/png": "[encoded data removed]",
      "text/plain": [
       "<matplotlib.figure.Figure at 0x98d08d0>"
      ]
     },
     "metadata": {},
     "output_type": "display_data"
    }
   ],
   "source": [
    "from sklearn.metrics import precision_recall_curve\n",
    "import matplotlib.pyplot as plt\n",
    "from sklearn.utils.fixes import signature\n",
    "\n",
    "precision, recall, _ = precision_recall_curve(y_test, y_score)\n",
    "\n",
    "# In matplotlib < 1.5, plt.fill_between does not have a 'step' argument\n",
    "step_kwargs = ({'step': 'post'}\n",
    "               if 'step' in signature(plt.fill_between).parameters\n",
    "               else {})\n",
    "plt.step(recall, precision, color='b', alpha=0.2,\n",
    "         where='post')\n",
    "# plt.fill_between(recall, precision, alpha=0.2, color='b', **step_kwargs)\n",
    "\n",
    "plt.xlabel('Recall')\n",
    "plt.ylabel('Precision')\n",
    "plt.ylim([0.0, 1.05])\n",
    "plt.xlim([0.0, 1.0])\n",
    "plt.title('2-class Precision-Recall curve: AP={0:0.2f}'.format(\n",
    "          average_precision))"
   ]
  },
  {
   "cell_type": "markdown",
   "metadata": {},
   "source": [
    "In multi-label settings\n",
    "------------------------\n",
    "\n",
    "Create multi-label data, fit, and predict\n",
    "...........................................\n",
    "\n",
    "We create a multi-label dataset, to illustrate the precision-recall in\n",
    "multi-label settings\n",
    "\n"
   ]
  },
  {
   "cell_type": "code",
   "execution_count": 7,
   "metadata": {
    "ExecuteTime": {
     "end_time": "2018-06-11T06:47:42.838114Z",
     "start_time": "2018-06-11T06:47:42.693106Z"
    }
   },
   "outputs": [],
   "source": [
    "from sklearn.preprocessing import label_binarize\n",
    "\n",
    "# Use label_binarize to be multi-label like settings\n",
    "Y = label_binarize(y, classes=[0, 1, 2])\n",
    "n_classes = Y.shape[1]\n",
    "\n",
    "# Split into training and test\n",
    "X_train, X_test, Y_train, Y_test = train_test_split(X, Y, test_size=.5,\n",
    "                                                    random_state=random_state)\n",
    "\n",
    "# We use OneVsRestClassifier for multi-label prediction\n",
    "from sklearn.multiclass import OneVsRestClassifier\n",
    "\n",
    "# Run classifier\n",
    "classifier = OneVsRestClassifier(svm.LinearSVC(random_state=random_state))\n",
    "classifier.fit(X_train, Y_train)\n",
    "y_score = classifier.decision_function(X_test)"
   ]
  },
  {
   "cell_type": "code",
   "execution_count": 12,
   "metadata": {
    "ExecuteTime": {
     "end_time": "2018-06-11T06:49:00.733569Z",
     "start_time": "2018-06-11T06:49:00.714568Z"
    }
   },
   "outputs": [
    {
     "data": {
      "text/plain": [
       "array([[1, 0, 0],\n",
       "       [0, 0, 1],\n",
       "       [0, 1, 0],\n",
       "       [0, 0, 1],\n",
       "       [0, 1, 0],\n",
       "       [1, 0, 0],\n",
       "       [1, 0, 0],\n",
       "       [1, 0, 0],\n",
       "       [0, 0, 1],\n",
       "       [1, 0, 0],\n",
       "       [0, 1, 0],\n",
       "       [0, 1, 0],\n",
       "       [0, 1, 0],\n",
       "       [0, 0, 1],\n",
       "       [0, 1, 0],\n",
       "       [0, 1, 0],\n",
       "       [0, 0, 1],\n",
       "       [0, 1, 0],\n",
       "       [1, 0, 0],\n",
       "       [0, 1, 0],\n",
       "       [0, 1, 0],\n",
       "       [0, 1, 0],\n",
       "       [0, 0, 1],\n",
       "       [0, 0, 1],\n",
       "       [0, 1, 0],\n",
       "       [0, 1, 0],\n",
       "       [0, 1, 0],\n",
       "       [1, 0, 0],\n",
       "       [0, 1, 0],\n",
       "       [0, 1, 0],\n",
       "       [0, 1, 0],\n",
       "       [0, 0, 1],\n",
       "       [1, 0, 0],\n",
       "       [0, 0, 1],\n",
       "       [1, 0, 0],\n",
       "       [0, 1, 0],\n",
       "       [0, 0, 1],\n",
       "       [0, 0, 1],\n",
       "       [0, 0, 1],\n",
       "       [0, 0, 1],\n",
       "       [1, 0, 0],\n",
       "       [0, 0, 1],\n",
       "       [1, 0, 0],\n",
       "       [1, 0, 0],\n",
       "       [1, 0, 0],\n",
       "       [0, 0, 1],\n",
       "       [0, 0, 1],\n",
       "       [0, 0, 1],\n",
       "       [0, 0, 1],\n",
       "       [1, 0, 0],\n",
       "       [0, 1, 0],\n",
       "       [0, 1, 0],\n",
       "       [0, 1, 0],\n",
       "       [0, 1, 0],\n",
       "       [0, 1, 0],\n",
       "       [0, 0, 1],\n",
       "       [1, 0, 0],\n",
       "       [0, 0, 1],\n",
       "       [0, 0, 1],\n",
       "       [0, 1, 0],\n",
       "       [0, 1, 0],\n",
       "       [0, 0, 1],\n",
       "       [1, 0, 0],\n",
       "       [0, 1, 0],\n",
       "       [1, 0, 0],\n",
       "       [0, 0, 1],\n",
       "       [0, 0, 1],\n",
       "       [0, 0, 1],\n",
       "       [0, 1, 0],\n",
       "       [0, 0, 1],\n",
       "       [0, 0, 1],\n",
       "       [0, 1, 0],\n",
       "       [0, 1, 0],\n",
       "       [1, 0, 0],\n",
       "       [1, 0, 0]])"
      ]
     },
     "execution_count": 12,
     "metadata": {},
     "output_type": "execute_result"
    }
   ],
   "source": [
    "Y_test"
   ]
  },
  {
   "cell_type": "markdown",
   "metadata": {},
   "source": [
    "The average precision score in multi-label settings\n",
    "....................................................\n",
    "\n"
   ]
  },
  {
   "cell_type": "code",
   "execution_count": 8,
   "metadata": {
    "ExecuteTime": {
     "end_time": "2018-06-11T06:47:45.782282Z",
     "start_time": "2018-06-11T06:47:45.745280Z"
    }
   },
   "outputs": [
    {
     "name": "stdout",
     "output_type": "stream",
     "text": [
      "Average precision score, micro-averaged over all classes: 0.43\n"
     ]
    }
   ],
   "source": [
    "from sklearn.metrics import precision_recall_curve\n",
    "from sklearn.metrics import average_precision_score\n",
    "\n",
    "# For each class\n",
    "precision = dict()\n",
    "recall = dict()\n",
    "average_precision = dict()\n",
    "for i in range(n_classes):\n",
    "    precision[i], recall[i], _ = precision_recall_curve(Y_test[:, i],\n",
    "                                                        y_score[:, i])\n",
    "    average_precision[i] = average_precision_score(Y_test[:, i], y_score[:, i])\n",
    "\n",
    "# A \"micro-average\": quantifying score on all classes jointly\n",
    "precision[\"micro\"], recall[\"micro\"], _ = precision_recall_curve(Y_test.ravel(),\n",
    "    y_score.ravel())\n",
    "average_precision[\"micro\"] = average_precision_score(Y_test, y_score,\n",
    "                                                     average=\"micro\")\n",
    "print('Average precision score, micro-averaged over all classes: {0:0.2f}'\n",
    "      .format(average_precision[\"micro\"]))"
   ]
  },
  {
   "cell_type": "markdown",
   "metadata": {},
   "source": [
    "Plot the micro-averaged Precision-Recall curve\n",
    "...............................................\n",
    "\n",
    "\n"
   ]
  },
  {
   "cell_type": "code",
   "execution_count": 9,
   "metadata": {
    "ExecuteTime": {
     "end_time": "2018-06-11T06:47:49.810513Z",
     "start_time": "2018-06-11T06:47:49.635503Z"
    }
   },
   "outputs": [
    {
     "data": {
      "text/plain": [
       "Text(0.5,1,'Average precision score, micro-averaged over all classes: AP=0.43')"
      ]
     },
     "execution_count": 9,
     "metadata": {},
     "output_type": "execute_result"
    },
    {
     "data": {
      "image/png": "[encoded data removed]",
      "text/plain": [
       "<matplotlib.figure.Figure at 0x57fd908>"
      ]
     },
     "metadata": {},
     "output_type": "display_data"
    }
   ],
   "source": [
    "plt.figure()\n",
    "plt.step(recall['micro'], precision['micro'], color='b', alpha=0.2,\n",
    "         where='post')\n",
    "plt.fill_between(recall[\"micro\"], precision[\"micro\"], alpha=0.2, color='b',\n",
    "                 **step_kwargs)\n",
    "\n",
    "plt.xlabel('Recall')\n",
    "plt.ylabel('Precision')\n",
    "plt.ylim([0.0, 1.05])\n",
    "plt.xlim([0.0, 1.0])\n",
    "plt.title(\n",
    "    'Average precision score, micro-averaged over all classes: AP={0:0.2f}'\n",
    "    .format(average_precision[\"micro\"]))"
   ]
  },
  {
   "cell_type": "code",
   "execution_count": 11,
   "metadata": {
    "ExecuteTime": {
     "end_time": "2018-06-11T06:48:11.727766Z",
     "start_time": "2018-06-11T06:48:11.707765Z"
    }
   },
   "outputs": [
    {
     "data": {
      "text/plain": [
       "{0: array([0.296875  , 0.28571429, 0.29032258, 0.29508197, 0.3       ,\n",
       "        0.30508475, 0.29310345, 0.29824561, 0.30357143, 0.30909091,\n",
       "        0.31481481, 0.32075472, 0.32692308, 0.31372549, 0.32      ,\n",
       "        0.32653061, 0.33333333, 0.34042553, 0.34782609, 0.35555556,\n",
       "        0.36363636, 0.34883721, 0.35714286, 0.36585366, 0.375     ,\n",
       "        0.38461538, 0.39473684, 0.40540541, 0.41666667, 0.42857143,\n",
       "        0.44117647, 0.45454545, 0.46875   , 0.48387097, 0.46666667,\n",
       "        0.44827586, 0.46428571, 0.48148148, 0.5       , 0.48      ,\n",
       "        0.45833333, 0.47826087, 0.45454545, 0.47619048, 0.5       ,\n",
       "        0.47368421, 0.5       , 0.47058824, 0.5       , 0.53333333,\n",
       "        0.57142857, 0.61538462, 0.66666667, 0.63636364, 0.7       ,\n",
       "        0.66666667, 0.75      , 0.71428571, 0.66666667, 0.6       ,\n",
       "        0.75      , 0.66666667, 0.5       , 1.        , 1.        ]),\n",
       " 1: array([0.38666667, 0.37837838, 0.38356164, 0.38888889, 0.3943662 ,\n",
       "        0.4       , 0.4057971 , 0.41176471, 0.40298507, 0.39393939,\n",
       "        0.4       , 0.40625   , 0.41269841, 0.40322581, 0.40983607,\n",
       "        0.4       , 0.40677966, 0.4137931 , 0.42105263, 0.42857143,\n",
       "        0.41818182, 0.40740741, 0.41509434, 0.40384615, 0.41176471,\n",
       "        0.42      , 0.40816327, 0.41666667, 0.42553191, 0.43478261,\n",
       "        0.42222222, 0.40909091, 0.39534884, 0.38095238, 0.3902439 ,\n",
       "        0.375     , 0.38461538, 0.39473684, 0.37837838, 0.36111111,\n",
       "        0.37142857, 0.38235294, 0.39393939, 0.375     , 0.38709677,\n",
       "        0.4       , 0.37931034, 0.35714286, 0.33333333, 0.30769231,\n",
       "        0.32      , 0.33333333, 0.30434783, 0.31818182, 0.33333333,\n",
       "        0.35      , 0.36842105, 0.33333333, 0.29411765, 0.25      ,\n",
       "        0.26666667, 0.28571429, 0.23076923, 0.25      , 0.18181818,\n",
       "        0.2       , 0.11111111, 0.125     , 0.14285714, 0.        ,\n",
       "        0.        , 0.        , 0.        , 0.        , 0.        ,\n",
       "        1.        ]),\n",
       " 2: array([0.36986301, 0.36111111, 0.36619718, 0.37142857, 0.36231884,\n",
       "        0.36764706, 0.35820896, 0.34848485, 0.33846154, 0.328125  ,\n",
       "        0.33333333, 0.33870968, 0.3442623 , 0.35      , 0.3559322 ,\n",
       "        0.34482759, 0.35087719, 0.35714286, 0.36363636, 0.37037037,\n",
       "        0.37735849, 0.38461538, 0.37254902, 0.36      , 0.36734694,\n",
       "        0.375     , 0.38297872, 0.39130435, 0.4       , 0.38636364,\n",
       "        0.39534884, 0.38095238, 0.36585366, 0.375     , 0.38461538,\n",
       "        0.39473684, 0.37837838, 0.38888889, 0.4       , 0.38235294,\n",
       "        0.36363636, 0.34375   , 0.32258065, 0.3       , 0.31034483,\n",
       "        0.32142857, 0.33333333, 0.34615385, 0.32      , 0.33333333,\n",
       "        0.34782609, 0.31818182, 0.33333333, 0.35      , 0.36842105,\n",
       "        0.38888889, 0.41176471, 0.4375    , 0.4       , 0.42857143,\n",
       "        0.46153846, 0.5       , 0.54545455, 0.6       , 0.66666667,\n",
       "        0.625     , 0.71428571, 0.83333333, 0.8       , 0.75      ,\n",
       "        0.66666667, 0.5       , 1.        , 1.        ]),\n",
       " 'micro': array([0.3440367 , 0.34101382, 0.34259259, 0.34418605, 0.34579439,\n",
       "        0.34741784, 0.3490566 , 0.3507109 , 0.35238095, 0.35406699,\n",
       "        0.35576923, 0.352657  , 0.35436893, 0.35609756, 0.35784314,\n",
       "        0.35960591, 0.36138614, 0.36318408, 0.36      , 0.36180905,\n",
       "        0.36363636, 0.36040609, 0.35714286, 0.35897436, 0.36082474,\n",
       "        0.3626943 , 0.359375  , 0.35602094, 0.35789474, 0.35978836,\n",
       "        0.36170213, 0.35828877, 0.36021505, 0.36216216, 0.36413043,\n",
       "        0.36612022, 0.36813187, 0.37016575, 0.36666667, 0.36871508,\n",
       "        0.37078652, 0.37288136, 0.36931818, 0.37142857, 0.36781609,\n",
       "        0.3699422 , 0.37209302, 0.36842105, 0.36470588, 0.36686391,\n",
       "        0.36309524, 0.35928144, 0.35542169, 0.35151515, 0.35365854,\n",
       "        0.35582822, 0.35802469, 0.36024845, 0.3625    , 0.36477987,\n",
       "        0.36708861, 0.36942675, 0.36538462, 0.36774194, 0.37012987,\n",
       "        0.37254902, 0.36842105, 0.37086093, 0.37333333, 0.37583893,\n",
       "        0.37837838, 0.38095238, 0.37671233, 0.37931034, 0.375     ,\n",
       "        0.37062937, 0.36619718, 0.36170213, 0.36428571, 0.36690647,\n",
       "        0.36956522, 0.37226277, 0.375     , 0.37777778, 0.37313433,\n",
       "        0.37593985, 0.37878788, 0.38167939, 0.37692308, 0.37209302,\n",
       "        0.375     , 0.37007874, 0.37301587, 0.376     , 0.37903226,\n",
       "        0.37398374, 0.37704918, 0.38016529, 0.38333333, 0.38655462,\n",
       "        0.38983051, 0.39316239, 0.39655172, 0.4       , 0.39473684,\n",
       "        0.39823009, 0.40178571, 0.40540541, 0.40909091, 0.40366972,\n",
       "        0.40740741, 0.41121495, 0.41509434, 0.40952381, 0.40384615,\n",
       "        0.40776699, 0.41176471, 0.40594059, 0.4       , 0.4040404 ,\n",
       "        0.39795918, 0.40206186, 0.40625   , 0.4       , 0.40425532,\n",
       "        0.39784946, 0.40217391, 0.3956044 , 0.4       , 0.39325843,\n",
       "        0.38636364, 0.3908046 , 0.39534884, 0.4       , 0.4047619 ,\n",
       "        0.39759036, 0.3902439 , 0.38271605, 0.3875    , 0.37974684,\n",
       "        0.37179487, 0.37662338, 0.36842105, 0.37333333, 0.36486486,\n",
       "        0.36986301, 0.36111111, 0.36619718, 0.37142857, 0.37681159,\n",
       "        0.38235294, 0.37313433, 0.36363636, 0.36923077, 0.359375  ,\n",
       "        0.36507937, 0.35483871, 0.36065574, 0.36666667, 0.37288136,\n",
       "        0.37931034, 0.36842105, 0.375     , 0.38181818, 0.38888889,\n",
       "        0.39622642, 0.38461538, 0.39215686, 0.38      , 0.3877551 ,\n",
       "        0.375     , 0.38297872, 0.39130435, 0.4       , 0.38636364,\n",
       "        0.39534884, 0.4047619 , 0.3902439 , 0.4       , 0.38461538,\n",
       "        0.39473684, 0.40540541, 0.41666667, 0.42857143, 0.41176471,\n",
       "        0.42424242, 0.4375    , 0.4516129 , 0.43333333, 0.4137931 ,\n",
       "        0.39285714, 0.37037037, 0.38461538, 0.4       , 0.375     ,\n",
       "        0.39130435, 0.40909091, 0.42857143, 0.45      , 0.47368421,\n",
       "        0.5       , 0.52941176, 0.5625    , 0.53333333, 0.57142857,\n",
       "        0.61538462, 0.66666667, 0.72727273, 0.7       , 0.66666667,\n",
       "        0.625     , 0.57142857, 0.66666667, 0.6       , 0.5       ,\n",
       "        0.66666667, 1.        , 1.        , 1.        ])}"
      ]
     },
     "execution_count": 11,
     "metadata": {},
     "output_type": "execute_result"
    }
   ],
   "source": [
    "precision"
   ]
  },
  {
   "cell_type": "markdown",
   "metadata": {},
   "source": [
    "Plot Precision-Recall curve for each class and iso-f1 curves\n",
    ".............................................................\n",
    "\n",
    "\n"
   ]
  },
  {
   "cell_type": "code",
   "execution_count": 10,
   "metadata": {
    "ExecuteTime": {
     "end_time": "2018-06-11T06:47:54.990809Z",
     "start_time": "2018-06-11T06:47:54.643789Z"
    }
   },
   "outputs": [
    {
     "data": {
      "image/png": "[encoded data removed]",
      "text/plain": [
       "<matplotlib.figure.Figure at 0x985bf98>"
      ]
     },
     "metadata": {},
     "output_type": "display_data"
    }
   ],
   "source": [
    "from itertools import cycle\n",
    "# setup plot details\n",
    "colors = cycle(['navy', 'turquoise', 'darkorange', 'cornflowerblue', 'teal'])\n",
    "\n",
    "plt.figure(figsize=(7, 8))\n",
    "f_scores = np.linspace(0.2, 0.8, num=4)\n",
    "lines = []\n",
    "labels = []\n",
    "for f_score in f_scores:\n",
    "    x = np.linspace(0.01, 1)\n",
    "    y = f_score * x / (2 * x - f_score)\n",
    "    l, = plt.plot(x[y >= 0], y[y >= 0], color='gray', alpha=0.2)\n",
    "    plt.annotate('f1={0:0.1f}'.format(f_score), xy=(0.9, y[45] + 0.02))\n",
    "\n",
    "lines.append(l)\n",
    "labels.append('iso-f1 curves')\n",
    "l, = plt.plot(recall[\"micro\"], precision[\"micro\"], color='gold', lw=2)\n",
    "lines.append(l)\n",
    "labels.append('micro-average Precision-recall (area = {0:0.2f})'\n",
    "              ''.format(average_precision[\"micro\"]))\n",
    "\n",
    "for i, color in zip(range(n_classes), colors):\n",
    "    l, = plt.plot(recall[i], precision[i], color=color, lw=2)\n",
    "    lines.append(l)\n",
    "    labels.append('Precision-recall for class {0} (area = {1:0.2f})'\n",
    "                  ''.format(i, average_precision[i]))\n",
    "\n",
    "fig = plt.gcf()\n",
    "fig.subplots_adjust(bottom=0.25)\n",
    "plt.xlim([0.0, 1.0])\n",
    "plt.ylim([0.0, 1.05])\n",
    "plt.xlabel('Recall')\n",
    "plt.ylabel('Precision')\n",
    "plt.title('Extension of Precision-Recall curve to multi-class')\n",
    "plt.legend(lines, labels, loc=(0, -.38), prop=dict(size=14))\n",
    "\n",
    "\n",
    "plt.show()"
   ]
  }
 ],
 "metadata": {
  "kernelspec": {
   "display_name": "Python 3",
   "language": "python",
   "name": "python3"
  },
  "language_info": {
   "codemirror_mode": {
    "name": "ipython",
    "version": 3
   },
   "file_extension": ".py",
   "mimetype": "text/x-python",
   "name": "python",
   "nbconvert_exporter": "python",
   "pygments_lexer": "ipython3",
   "version": "3.6.3"
  },
  "toc": {
   "nav_menu": {},
   "number_sections": true,
   "sideBar": true,
   "skip_h1_title": false,
   "title_cell": "Table of Contents",
   "title_sidebar": "Contents",
   "toc_cell": false,
   "toc_position": {},
   "toc_section_display": true,
   "toc_window_display": false
  },
  "varInspector": {
   "cols": {
    "lenName": 16,
    "lenType": 16,
    "lenVar": 40
   },
   "kernels_config": {
    "python": {
     "delete_cmd_postfix": "",
     "delete_cmd_prefix": "del ",
     "library": "var_list.py",
     "varRefreshCmd": "print(var_dic_list())"
    },
    "r": {
     "delete_cmd_postfix": ") ",
     "delete_cmd_prefix": "rm(",
     "library": "var_list.r",
     "varRefreshCmd": "cat(var_dic_list()) "
    }
   },
   "types_to_exclude": [
    "module",
    "function",
    "builtin_function_or_method",
    "instance",
    "_Feature"
   ],
   "window_display": false
  }
 },
 "nbformat": 4,
 "nbformat_minor": 1
}
