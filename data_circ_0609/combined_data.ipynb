{
 "cells": [
  {
   "cell_type": "markdown",
   "metadata": {},
   "source": [
    "# 基本设置"
   ]
  },
  {
   "cell_type": "code",
   "execution_count": 6,
   "metadata": {
    "ExecuteTime": {
     "end_time": "2018-09-10T09:54:49.067921Z",
     "start_time": "2018-09-10T09:54:48.670899Z"
    },
    "collapsed": true
   },
   "outputs": [],
   "source": [
    "import os\n",
    "import pandas as pd"
   ]
  },
  {
   "cell_type": "code",
   "execution_count": 2,
   "metadata": {
    "ExecuteTime": {
     "end_time": "2018-09-10T09:53:34.306645Z",
     "start_time": "2018-09-10T09:53:34.289644Z"
    },
    "collapsed": true
   },
   "outputs": [],
   "source": [
    "def get_txt_encode(file_path):\n",
    "    '''\n",
    "    Function:\n",
    "        获取txt文档的编码格式\n",
    "    Arguments:\n",
    "        file_path -> string -- 文档所在路径\n",
    "    Return:\n",
    "        encode -> string -- txt文档的编码格式\n",
    "    '''\n",
    "    decode_set = ['utf-8','gb18030','ISO-8859-2','gb2312','gbk', 'ANSI'] # 编码集\n",
    "    encode = 0\n",
    "    for k in decode_set:\n",
    "        try :\n",
    "            file = open(file_path, 'r', encoding = k).read()\n",
    "            # print('\\n\\t读取成功： %s \\n\\t编码方式为： %s' %(file_path, k))\n",
    "            encode = k\n",
    "            break\n",
    "        except :\n",
    "            continue\n",
    "    if encode:\n",
    "        return encode\n",
    "    else :\n",
    "        return 'No encode'"
   ]
  },
  {
   "cell_type": "code",
   "execution_count": 13,
   "metadata": {
    "ExecuteTime": {
     "end_time": "2018-09-10T09:57:09.261940Z",
     "start_time": "2018-09-10T09:57:09.234938Z"
    },
    "collapsed": true
   },
   "outputs": [],
   "source": [
    "def combined_data(data_folder, save_filename, label):\n",
    "    file_list = os.listdir(data_folder)\n",
    "    combined_data = []\n",
    "    for file in file_list:\n",
    "        tmp = os.getcwd() + '\\\\' + data_folder + '\\\\' + file\n",
    "        encoding = get_txt_encode(tmp)\n",
    "        f = open(tmp, \"r+\", encoding = encoding)\n",
    "        lines = ''\n",
    "        for line in f:\n",
    "            lines += line.strip()\n",
    "        f.close()\n",
    "        combined_data.append(lines)\n",
    "        \n",
    "    combined_data  = pd.DataFrame(combined_data, columns = ['content'])\n",
    "    combined_data['label'] = str(label)\n",
    "    combined_data['title'] = ''\n",
    "    combined_data.to_excel(save_filename, index = False)\n",
    "#     fid = open(save_filename, \"w+\", encoding='UTF-8')\n",
    "#     for data in combined_data:\n",
    "#         fid.write(data + '\\n')\n",
    "#     fid.close()"
   ]
  },
  {
   "cell_type": "markdown",
   "metadata": {},
   "source": [
    "# 保监会"
   ]
  },
  {
   "cell_type": "markdown",
   "metadata": {
    "collapsed": true
   },
   "source": [
    "## 负面数据"
   ]
  },
  {
   "cell_type": "code",
   "execution_count": 2,
   "metadata": {
    "ExecuteTime": {
     "end_time": "2018-06-14T02:18:48.828480Z",
     "start_time": "2018-06-14T02:18:48.819479Z"
    },
    "collapsed": true
   },
   "outputs": [],
   "source": [
    "circ_neg_folder = r'0604-0608保监会负面'\n",
    "circ_neg_filename = 'data/circ_0609_neg_raw_data.txt'"
   ]
  },
  {
   "cell_type": "code",
   "execution_count": 28,
   "metadata": {
    "ExecuteTime": {
     "end_time": "2018-06-12T07:08:28.118655Z",
     "start_time": "2018-06-12T07:08:27.862641Z"
    },
    "collapsed": true
   },
   "outputs": [],
   "source": [
    "combined_data(circ_neg_folder, circ_neg_filename)"
   ]
  },
  {
   "cell_type": "markdown",
   "metadata": {},
   "source": [
    "## 误判为负面数据（正面）"
   ]
  },
  {
   "cell_type": "code",
   "execution_count": 29,
   "metadata": {
    "ExecuteTime": {
     "end_time": "2018-06-12T07:08:29.100711Z",
     "start_time": "2018-06-12T07:08:29.092711Z"
    },
    "collapsed": true
   },
   "outputs": [],
   "source": [
    "circ_pos_folder = r'0604-0608保监会误判为负面的数据'\n",
    "circ_pos_filename = 'data/circ_0609_pos_raw_data.txt'"
   ]
  },
  {
   "cell_type": "code",
   "execution_count": 30,
   "metadata": {
    "ExecuteTime": {
     "end_time": "2018-06-12T07:08:30.117770Z",
     "start_time": "2018-06-12T07:08:29.849754Z"
    },
    "collapsed": true
   },
   "outputs": [],
   "source": [
    "combined_data(circ_pos_folder, circ_pos_filename)"
   ]
  },
  {
   "cell_type": "markdown",
   "metadata": {
    "collapsed": true
   },
   "source": [
    "# 银监会"
   ]
  },
  {
   "cell_type": "markdown",
   "metadata": {
    "collapsed": true
   },
   "source": [
    "## 负面数据"
   ]
  },
  {
   "cell_type": "code",
   "execution_count": 17,
   "metadata": {
    "ExecuteTime": {
     "end_time": "2018-09-10T09:57:18.506469Z",
     "start_time": "2018-09-10T09:57:18.498468Z"
    },
    "collapsed": true
   },
   "outputs": [],
   "source": [
    "cbrc_neg_folder = r'0604-0608银监会负面'\n",
    "cbrc_neg_filename = 'data/cbrc_0609_neg_raw_data.xlsx'"
   ]
  },
  {
   "cell_type": "code",
   "execution_count": 18,
   "metadata": {
    "ExecuteTime": {
     "end_time": "2018-09-10T09:57:19.337516Z",
     "start_time": "2018-09-10T09:57:18.949494Z"
    }
   },
   "outputs": [],
   "source": [
    "combined_data(cbrc_neg_folder, cbrc_neg_filename, 0)"
   ]
  },
  {
   "cell_type": "markdown",
   "metadata": {},
   "source": [
    "## 误判为负面数据（正面）"
   ]
  },
  {
   "cell_type": "code",
   "execution_count": 19,
   "metadata": {
    "ExecuteTime": {
     "end_time": "2018-09-10T09:57:19.886548Z",
     "start_time": "2018-09-10T09:57:19.880547Z"
    },
    "collapsed": true
   },
   "outputs": [],
   "source": [
    "cbrc_pos_folder = r'0604-0608银监误判为负面的数据'\n",
    "cbrc_pos_filename = 'data/cbrc_0609_pos_raw_data.xlsx'"
   ]
  },
  {
   "cell_type": "code",
   "execution_count": 20,
   "metadata": {
    "ExecuteTime": {
     "end_time": "2018-09-10T09:57:21.140619Z",
     "start_time": "2018-09-10T09:57:20.656592Z"
    },
    "collapsed": true
   },
   "outputs": [],
   "source": [
    "combined_data(cbrc_pos_folder, cbrc_pos_filename, 1)"
   ]
  },
  {
   "cell_type": "code",
   "execution_count": null,
   "metadata": {
    "collapsed": true
   },
   "outputs": [],
   "source": []
  }
 ],
 "metadata": {
  "kernelspec": {
   "display_name": "Python 3",
   "language": "python",
   "name": "python3"
  },
  "language_info": {
   "codemirror_mode": {
    "name": "ipython",
    "version": 3
   },
   "file_extension": ".py",
   "mimetype": "text/x-python",
   "name": "python",
   "nbconvert_exporter": "python",
   "pygments_lexer": "ipython3",
   "version": "3.6.3"
  },
  "toc": {
   "nav_menu": {},
   "number_sections": true,
   "sideBar": true,
   "skip_h1_title": false,
   "title_cell": "Table of Contents",
   "title_sidebar": "Contents",
   "toc_cell": false,
   "toc_position": {},
   "toc_section_display": true,
   "toc_window_display": false
  },
  "varInspector": {
   "cols": {
    "lenName": 16,
    "lenType": 16,
    "lenVar": 40
   },
   "kernels_config": {
    "python": {
     "delete_cmd_postfix": "",
     "delete_cmd_prefix": "del ",
     "library": "var_list.py",
     "varRefreshCmd": "print(var_dic_list())"
    },
    "r": {
     "delete_cmd_postfix": ") ",
     "delete_cmd_prefix": "rm(",
     "library": "var_list.r",
     "varRefreshCmd": "cat(var_dic_list()) "
    }
   },
   "types_to_exclude": [
    "module",
    "function",
    "builtin_function_or_method",
    "instance",
    "_Feature"
   ],
   "window_display": false
  }
 },
 "nbformat": 4,
 "nbformat_minor": 2
}
