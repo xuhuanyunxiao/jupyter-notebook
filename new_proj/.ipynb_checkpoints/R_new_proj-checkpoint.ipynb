{
 "cells": [
  {
   "cell_type": "code",
   "execution_count": null,
   "metadata": {},
   "outputs": [],
   "source": []
  },
  {
   "cell_type": "code",
   "execution_count": 2,
   "metadata": {
    "ExecuteTime": {
     "end_time": "2019-01-08T11:58:27.265307Z",
     "start_time": "2019-01-08T11:58:27.176Z"
    }
   },
   "outputs": [],
   "source": [
    "# R.version"
   ]
  },
  {
   "cell_type": "code",
   "execution_count": 10,
   "metadata": {
    "ExecuteTime": {
     "end_time": "2019-01-08T12:19:12.409526Z",
     "start_time": "2019-01-08T12:19:12.074Z"
    }
   },
   "outputs": [
    {
     "name": "stderr",
     "output_type": "stream",
     "text": [
      "\n",
      "Attaching package: 'OpenMx'\n",
      "\n",
      "The following object is masked from 'package:lavaan':\n",
      "\n",
      "    vech\n",
      "\n",
      "Loading required package: ggplot2\n"
     ]
    }
   ],
   "source": [
    "# install.packages( \"lavaan\")\n",
    "# install.packages( \"OpenMx\")\n",
    "# install.packages( \"semPlot\")\n",
    "# install.packages( \"GGally\")\n",
    "# install.packages( \"corrplot\")\n",
    "# install.packages(\"readxl\")\n",
    "library(lavaan)\n",
    "library(semPlot)\n",
    "library(OpenMx)\n",
    "library(GGally)\n",
    "# library(corrplot) \n",
    "library(readxl)"
   ]
  },
  {
   "cell_type": "code",
   "execution_count": 8,
   "metadata": {
    "ExecuteTime": {
     "end_time": "2019-01-08T12:15:27.621668Z",
     "start_time": "2019-01-08T12:15:27.160Z"
    }
   },
   "outputs": [
    {
     "data": {
      "text/html": [
       "<table>\n",
       "<thead><tr><th scope=col>B2r7c1</th><th scope=col>B2r37c1</th><th scope=col>B2r31c1</th><th scope=col>B2r42c1</th><th scope=col>B1r1c1</th><th scope=col>B1r5c1</th><th scope=col>B1r33c1</th><th scope=col>B1r34c1</th><th scope=col>B1r35c1</th><th scope=col>B1r36c1</th><th scope=col>...</th><th scope=col>B1r38c1</th><th scope=col>B2r40c1</th><th scope=col>B2r8c1</th><th scope=col>B2r20c1</th><th scope=col>B1r29c1</th><th scope=col>B1r43c1</th><th scope=col>B1r44c1</th><th scope=col>B1r45c1</th><th scope=col>B2r46c1</th><th scope=col>B2r47c1</th></tr></thead>\n",
       "<tbody>\n",
       "\t<tr><td>1  </td><td>1  </td><td>0  </td><td>1  </td><td>1  </td><td>0  </td><td>0  </td><td>0  </td><td>0  </td><td>0  </td><td>...</td><td>0  </td><td>1  </td><td>1  </td><td>0  </td><td>0  </td><td>1  </td><td>0  </td><td>1  </td><td>0  </td><td>1  </td></tr>\n",
       "\t<tr><td>1  </td><td>1  </td><td>1  </td><td>1  </td><td>1  </td><td>1  </td><td>1  </td><td>1  </td><td>1  </td><td>1  </td><td>...</td><td>1  </td><td>1  </td><td>1  </td><td>1  </td><td>1  </td><td>1  </td><td>1  </td><td>1  </td><td>1  </td><td>1  </td></tr>\n",
       "\t<tr><td>1  </td><td>1  </td><td>1  </td><td>0  </td><td>0  </td><td>0  </td><td>0  </td><td>0  </td><td>0  </td><td>0  </td><td>...</td><td>0  </td><td>0  </td><td>0  </td><td>1  </td><td>0  </td><td>0  </td><td>1  </td><td>0  </td><td>1  </td><td>1  </td></tr>\n",
       "\t<tr><td>1  </td><td>1  </td><td>1  </td><td>1  </td><td>1  </td><td>0  </td><td>1  </td><td>1  </td><td>0  </td><td>1  </td><td>...</td><td>0  </td><td>0  </td><td>0  </td><td>0  </td><td>1  </td><td>1  </td><td>1  </td><td>0  </td><td>1  </td><td>1  </td></tr>\n",
       "\t<tr><td>0  </td><td>0  </td><td>0  </td><td>1  </td><td>0  </td><td>0  </td><td>0  </td><td>0  </td><td>0  </td><td>0  </td><td>...</td><td>0  </td><td>0  </td><td>0  </td><td>1  </td><td>0  </td><td>0  </td><td>0  </td><td>0  </td><td>0  </td><td>1  </td></tr>\n",
       "</tbody>\n",
       "</table>\n"
      ],
      "text/latex": [
       "\\begin{tabular}{r|lllllllllllllllllllllllll}\n",
       " B2r7c1 & B2r37c1 & B2r31c1 & B2r42c1 & B1r1c1 & B1r5c1 & B1r33c1 & B1r34c1 & B1r35c1 & B1r36c1 & ... & B1r38c1 & B2r40c1 & B2r8c1 & B2r20c1 & B1r29c1 & B1r43c1 & B1r44c1 & B1r45c1 & B2r46c1 & B2r47c1\\\\\n",
       "\\hline\n",
       "\t 1   & 1   & 0   & 1   & 1   & 0   & 0   & 0   & 0   & 0   & ... & 0   & 1   & 1   & 0   & 0   & 1   & 0   & 1   & 0   & 1  \\\\\n",
       "\t 1   & 1   & 1   & 1   & 1   & 1   & 1   & 1   & 1   & 1   & ... & 1   & 1   & 1   & 1   & 1   & 1   & 1   & 1   & 1   & 1  \\\\\n",
       "\t 1   & 1   & 1   & 0   & 0   & 0   & 0   & 0   & 0   & 0   & ... & 0   & 0   & 0   & 1   & 0   & 0   & 1   & 0   & 1   & 1  \\\\\n",
       "\t 1   & 1   & 1   & 1   & 1   & 0   & 1   & 1   & 0   & 1   & ... & 0   & 0   & 0   & 0   & 1   & 1   & 1   & 0   & 1   & 1  \\\\\n",
       "\t 0   & 0   & 0   & 1   & 0   & 0   & 0   & 0   & 0   & 0   & ... & 0   & 0   & 0   & 1   & 0   & 0   & 0   & 0   & 0   & 1  \\\\\n",
       "\\end{tabular}\n"
      ],
      "text/markdown": [
       "\n",
       "B2r7c1 | B2r37c1 | B2r31c1 | B2r42c1 | B1r1c1 | B1r5c1 | B1r33c1 | B1r34c1 | B1r35c1 | B1r36c1 | ... | B1r38c1 | B2r40c1 | B2r8c1 | B2r20c1 | B1r29c1 | B1r43c1 | B1r44c1 | B1r45c1 | B2r46c1 | B2r47c1 | \n",
       "|---|---|---|---|---|\n",
       "| 1   | 1   | 0   | 1   | 1   | 0   | 0   | 0   | 0   | 0   | ... | 0   | 1   | 1   | 0   | 0   | 1   | 0   | 1   | 0   | 1   | \n",
       "| 1   | 1   | 1   | 1   | 1   | 1   | 1   | 1   | 1   | 1   | ... | 1   | 1   | 1   | 1   | 1   | 1   | 1   | 1   | 1   | 1   | \n",
       "| 1   | 1   | 1   | 0   | 0   | 0   | 0   | 0   | 0   | 0   | ... | 0   | 0   | 0   | 1   | 0   | 0   | 1   | 0   | 1   | 1   | \n",
       "| 1   | 1   | 1   | 1   | 1   | 0   | 1   | 1   | 0   | 1   | ... | 0   | 0   | 0   | 0   | 1   | 1   | 1   | 0   | 1   | 1   | \n",
       "| 0   | 0   | 0   | 1   | 0   | 0   | 0   | 0   | 0   | 0   | ... | 0   | 0   | 0   | 1   | 0   | 0   | 0   | 0   | 0   | 1   | \n",
       "\n",
       "\n"
      ],
      "text/plain": [
       "  B2r7c1 B2r37c1 B2r31c1 B2r42c1 B1r1c1 B1r5c1 B1r33c1 B1r34c1 B1r35c1 B1r36c1\n",
       "1 1      1       0       1       1      0      0       0       0       0      \n",
       "2 1      1       1       1       1      1      1       1       1       1      \n",
       "3 1      1       1       0       0      0      0       0       0       0      \n",
       "4 1      1       1       1       1      0      1       1       0       1      \n",
       "5 0      0       0       1       0      0      0       0       0       0      \n",
       "  ... B1r38c1 B2r40c1 B2r8c1 B2r20c1 B1r29c1 B1r43c1 B1r44c1 B1r45c1 B2r46c1\n",
       "1 ... 0       1       1      0       0       1       0       1       0      \n",
       "2 ... 1       1       1      1       1       1       1       1       1      \n",
       "3 ... 0       0       0      1       0       0       1       0       1      \n",
       "4 ... 0       0       0      0       1       1       1       0       1      \n",
       "5 ... 0       0       0      1       0       0       0       0       0      \n",
       "  B2r47c1\n",
       "1 1      \n",
       "2 1      \n",
       "3 1      \n",
       "4 1      \n",
       "5 1      "
      ]
     },
     "metadata": {},
     "output_type": "display_data"
    }
   ],
   "source": [
    "file_folder <- \"D:/XH/Python_Project/notebook/new_proj\"\n",
    "# getwd()\n",
    "setwd(file_folder)\n",
    "\n",
    "data <- read_excel('data_sel_1.xlsx')\n",
    "head(data, n = 5) "
   ]
  },
  {
   "cell_type": "code",
   "execution_count": 14,
   "metadata": {
    "ExecuteTime": {
     "end_time": "2019-01-08T12:20:19.126342Z",
     "start_time": "2019-01-08T12:20:19.076Z"
    }
   },
   "outputs": [],
   "source": [
    "model = 'B2r7c1 ~ B2r37c1 + B2r31c1 + B2r42c1 \n",
    "B2r37c1 ~ B2r1c1 + B2r5c1 + B2r33c1 + B2r34c1 + B2r35c1 + B2r36c1 + B2r21c1 \n",
    "B2r31c1 ~ B2r13c1 + B2r16c1 + B2r23c1 + B2r25c1 + B2r38c1 + B2r40c1 \n",
    "B2r42c1 ~ B2r8c1 + B2r20c1 + B2r29c1 + B2r43c1 + B2r43c1 + B2r43c1 + B2r43c1 + B2r43c1'"
   ]
  },
  {
   "cell_type": "code",
   "execution_count": 15,
   "metadata": {
    "ExecuteTime": {
     "end_time": "2019-01-08T12:20:22.317524Z",
     "start_time": "2019-01-08T12:20:21.610Z"
    }
   },
   "outputs": [
    {
     "name": "stdout",
     "output_type": "stream",
     "text": [
      "lavaan 0.6-2 ended normally after 12 iterations\n",
      "\n",
      "  Optimization method                           NLMINB\n",
      "  Number of free parameters                          4\n",
      "\n",
      "  Number of observations                          1310\n",
      "\n",
      "  Estimator                                         ML\n",
      "  Model Fit Test Statistic                       0.000\n",
      "  Degrees of freedom                                 0\n",
      "\n",
      "Model test baseline model:\n",
      "\n",
      "  Minimum Function Test Statistic              500.223\n",
      "  Degrees of freedom                                 3\n",
      "  P-value                                        0.000\n",
      "\n",
      "User model versus baseline model:\n",
      "\n",
      "  Comparative Fit Index (CFI)                    1.000\n",
      "  Tucker-Lewis Index (TLI)                       1.000\n",
      "\n",
      "Loglikelihood and Information Criteria:\n",
      "\n",
      "  Loglikelihood user model (H0)               -565.335\n",
      "  Loglikelihood unrestricted model (H1)       -565.335\n",
      "\n",
      "  Number of free parameters                          4\n",
      "  Akaike (AIC)                                1138.670\n",
      "  Bayesian (BIC)                              1159.381\n",
      "  Sample-size adjusted Bayesian (BIC)         1146.675\n",
      "\n",
      "Root Mean Square Error of Approximation:\n",
      "\n",
      "  RMSEA                                          0.000\n",
      "  90 Percent Confidence Interval          0.000  0.000\n",
      "  P-value RMSEA <= 0.05                             NA\n",
      "\n",
      "Standardized Root Mean Square Residual:\n",
      "\n",
      "  SRMR                                           0.000\n",
      "\n",
      "Parameter Estimates:\n",
      "\n",
      "  Information                                 Expected\n",
      "  Information saturated (h1) model          Structured\n",
      "  Standard Errors                             Standard\n",
      "\n",
      "Regressions:\n",
      "                   Estimate  Std.Err  z-value  P(>|z|)   Std.lv  Std.all\n",
      "  B2r7c1 ~                                                              \n",
      "    B2r37c1           0.306    0.027   11.473    0.000    0.306    0.305\n",
      "    B2r31c1           0.202    0.024    8.333    0.000    0.202    0.214\n",
      "    B2r42c1           0.206    0.028    7.482    0.000    0.206    0.198\n",
      "\n",
      "Variances:\n",
      "                   Estimate  Std.Err  z-value  P(>|z|)   Std.lv  Std.all\n",
      "   .B2r7c1            0.139    0.005   25.593    0.000    0.139    0.683\n",
      "\n",
      "R-Square:\n",
      "                   Estimate\n",
      "    B2r7c1            0.317\n",
      "\n"
     ]
    }
   ],
   "source": [
    "fit1 = cfa(model, data = data)\n",
    "summary(fit1, fit.measures = TRUE, standardized = TRUE, rsquare = TRUE)"
   ]
  },
  {
   "cell_type": "code",
   "execution_count": 16,
   "metadata": {
    "ExecuteTime": {
     "end_time": "2019-01-08T12:20:35.077254Z",
     "start_time": "2019-01-08T12:20:34.685Z"
    }
   },
   "outputs": [
    {
     "data": {
      "image/png": "[encoded data removed]",
      "text/plain": [
       "plot without title"
      ]
     },
     "metadata": {},
     "output_type": "display_data"
    }
   ],
   "source": [
    "semPaths(fit1, 'std', layout = 'circle') "
   ]
  },
  {
   "cell_type": "code",
   "execution_count": 17,
   "metadata": {
    "ExecuteTime": {
     "end_time": "2019-01-08T12:21:13.748466Z",
     "start_time": "2019-01-08T12:21:13.512Z"
    }
   },
   "outputs": [
    {
     "name": "stdout",
     "output_type": "stream",
     "text": [
      "lavaan 0.6-2 ended normally after 12 iterations\n",
      "\n",
      "  Optimization method                           NLMINB\n",
      "  Number of free parameters                          4\n",
      "\n",
      "  Number of observations                          1310\n",
      "\n",
      "  Estimator                                         ML\n",
      "  Model Fit Test Statistic                       0.000\n",
      "  Degrees of freedom                                 0\n",
      "\n",
      "Parameter Estimates:\n",
      "\n",
      "  Information                                 Expected\n",
      "  Information saturated (h1) model          Structured\n",
      "  Standard Errors                             Standard\n",
      "\n",
      "Regressions:\n",
      "                   Estimate  Std.Err  z-value  P(>|z|)\n",
      "  B2r7c1 ~                                            \n",
      "    B2r37c1           0.306    0.027   11.473    0.000\n",
      "    B2r31c1           0.202    0.024    8.333    0.000\n",
      "    B2r42c1           0.206    0.028    7.482    0.000\n",
      "\n",
      "Variances:\n",
      "                   Estimate  Std.Err  z-value  P(>|z|)\n",
      "   .B2r7c1            0.139    0.005   25.593    0.000\n",
      "\n"
     ]
    }
   ],
   "source": [
    "fit2 = cfa(model, data = data)\n",
    "summary(fit2) "
   ]
  },
  {
   "cell_type": "code",
   "execution_count": 18,
   "metadata": {
    "ExecuteTime": {
     "end_time": "2019-01-08T12:21:22.614973Z",
     "start_time": "2019-01-08T12:21:22.357Z"
    }
   },
   "outputs": [
    {
     "data": {
      "image/png": "[encoded data removed]",
      "text/plain": [
       "plot without title"
      ]
     },
     "metadata": {},
     "output_type": "display_data"
    }
   ],
   "source": [
    "semPaths(fit2, 'std', 'est', curveAdjacent = TRUE, style = \"lisrel\")"
   ]
  },
  {
   "cell_type": "code",
   "execution_count": null,
   "metadata": {},
   "outputs": [],
   "source": []
  }
 ],
 "metadata": {
  "kernelspec": {
   "display_name": "R",
   "language": "R",
   "name": "ir"
  },
  "language_info": {
   "codemirror_mode": "r",
   "file_extension": ".r",
   "mimetype": "text/x-r-source",
   "name": "R",
   "pygments_lexer": "r",
   "version": "3.5.1"
  },
  "toc": {
   "nav_menu": {},
   "number_sections": true,
   "sideBar": true,
   "skip_h1_title": false,
   "title_cell": "Table of Contents",
   "title_sidebar": "Contents",
   "toc_cell": false,
   "toc_position": {},
   "toc_section_display": true,
   "toc_window_display": false
  },
  "varInspector": {
   "cols": {
    "lenName": 16,
    "lenType": 16,
    "lenVar": 40
   },
   "kernels_config": {
    "python": {
     "delete_cmd_postfix": "",
     "delete_cmd_prefix": "del ",
     "library": "var_list.py",
     "varRefreshCmd": "print(var_dic_list())"
    },
    "r": {
     "delete_cmd_postfix": ") ",
     "delete_cmd_prefix": "rm(",
     "library": "var_list.r",
     "varRefreshCmd": "cat(var_dic_list()) "
    }
   },
   "types_to_exclude": [
    "module",
    "function",
    "builtin_function_or_method",
    "instance",
    "_Feature"
   ],
   "window_display": false
  }
 },
 "nbformat": 4,
 "nbformat_minor": 2
}
