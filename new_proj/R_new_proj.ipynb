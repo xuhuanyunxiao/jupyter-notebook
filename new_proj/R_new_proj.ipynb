{
 "cells": [
  {
   "cell_type": "markdown",
   "metadata": {},
   "source": [
    "# 基本设置"
   ]
  },
  {
   "cell_type": "code",
   "execution_count": 1,
   "metadata": {
    "ExecuteTime": {
     "end_time": "2019-03-06T11:39:52.449651Z",
     "start_time": "2019-03-06T11:39:52.401Z"
    }
   },
   "outputs": [
    {
     "data": {
      "text/plain": [
       "               _                           \n",
       "platform       x86_64-w64-mingw32          \n",
       "arch           x86_64                      \n",
       "os             mingw32                     \n",
       "system         x86_64, mingw32             \n",
       "status                                     \n",
       "major          3                           \n",
       "minor          5.2                         \n",
       "year           2018                        \n",
       "month          12                          \n",
       "day            20                          \n",
       "svn rev        75870                       \n",
       "language       R                           \n",
       "version.string R version 3.5.2 (2018-12-20)\n",
       "nickname       Eggshell Igloo              "
      ]
     },
     "metadata": {},
     "output_type": "display_data"
    }
   ],
   "source": [
    "R.version"
   ]
  },
  {
   "cell_type": "code",
   "execution_count": 3,
   "metadata": {
    "ExecuteTime": {
     "end_time": "2019-03-06T11:44:49.376286Z",
     "start_time": "2019-03-06T11:44:49.324Z"
    }
   },
   "outputs": [],
   "source": [
    "# install.packages( \"lavaan\")\n",
    "# install.packages( \"OpenMx\")\n",
    "# install.packages( \"semPlot\")\n",
    "# install.packages( \"GGally\")\n",
    "# install.packages( \"corrplot\")\n",
    "# install.packages(\"readxl\")\n",
    "library(lavaan)\n",
    "library(semPlot)\n",
    "library(OpenMx)\n",
    "library(GGally)\n",
    "library(corrplot) \n",
    "library(readxl)"
   ]
  },
  {
   "cell_type": "markdown",
   "metadata": {},
   "source": [
    "# 201901"
   ]
  },
  {
   "cell_type": "markdown",
   "metadata": {},
   "source": [
    "## 导入数据"
   ]
  },
  {
   "cell_type": "code",
   "execution_count": 17,
   "metadata": {
    "ExecuteTime": {
     "end_time": "2019-03-07T08:11:32.931046Z",
     "start_time": "2019-03-07T08:11:32.032Z"
    }
   },
   "outputs": [
    {
     "data": {
      "text/html": [
       "<table>\n",
       "<thead><tr><th scope=col>B2r7c1</th><th scope=col>B2r37c1</th><th scope=col>B2r31c1</th><th scope=col>B2r42c1</th><th scope=col>B1r1c1</th><th scope=col>B1r5c1</th><th scope=col>B1r33c1</th><th scope=col>B1r34c1</th><th scope=col>B1r35c1</th><th scope=col>B1r36c1</th><th scope=col>...</th><th scope=col>B1r38c1</th><th scope=col>B2r40c1</th><th scope=col>B2r8c1</th><th scope=col>B2r20c1</th><th scope=col>B1r29c1</th><th scope=col>B1r43c1</th><th scope=col>B1r44c1</th><th scope=col>B1r45c1</th><th scope=col>B2r46c1</th><th scope=col>B2r47c1</th></tr></thead>\n",
       "<tbody>\n",
       "\t<tr><td>1  </td><td>1  </td><td>0  </td><td>1  </td><td>1  </td><td>0  </td><td>0  </td><td>0  </td><td>0  </td><td>0  </td><td>...</td><td>0  </td><td>1  </td><td>1  </td><td>0  </td><td>0  </td><td>1  </td><td>0  </td><td>1  </td><td>0  </td><td>1  </td></tr>\n",
       "\t<tr><td>1  </td><td>1  </td><td>1  </td><td>1  </td><td>1  </td><td>1  </td><td>1  </td><td>1  </td><td>1  </td><td>1  </td><td>...</td><td>1  </td><td>1  </td><td>1  </td><td>1  </td><td>1  </td><td>1  </td><td>1  </td><td>1  </td><td>1  </td><td>1  </td></tr>\n",
       "\t<tr><td>1  </td><td>1  </td><td>1  </td><td>0  </td><td>0  </td><td>0  </td><td>0  </td><td>0  </td><td>0  </td><td>0  </td><td>...</td><td>0  </td><td>0  </td><td>0  </td><td>1  </td><td>0  </td><td>0  </td><td>1  </td><td>0  </td><td>1  </td><td>1  </td></tr>\n",
       "\t<tr><td>1  </td><td>1  </td><td>1  </td><td>1  </td><td>1  </td><td>0  </td><td>1  </td><td>1  </td><td>0  </td><td>1  </td><td>...</td><td>0  </td><td>0  </td><td>0  </td><td>0  </td><td>1  </td><td>1  </td><td>1  </td><td>0  </td><td>1  </td><td>1  </td></tr>\n",
       "\t<tr><td>0  </td><td>0  </td><td>0  </td><td>1  </td><td>0  </td><td>0  </td><td>0  </td><td>0  </td><td>0  </td><td>0  </td><td>...</td><td>0  </td><td>0  </td><td>0  </td><td>1  </td><td>0  </td><td>0  </td><td>0  </td><td>0  </td><td>0  </td><td>1  </td></tr>\n",
       "</tbody>\n",
       "</table>\n"
      ],
      "text/latex": [
       "\\begin{tabular}{r|lllllllllllllllllllllllll}\n",
       " B2r7c1 & B2r37c1 & B2r31c1 & B2r42c1 & B1r1c1 & B1r5c1 & B1r33c1 & B1r34c1 & B1r35c1 & B1r36c1 & ... & B1r38c1 & B2r40c1 & B2r8c1 & B2r20c1 & B1r29c1 & B1r43c1 & B1r44c1 & B1r45c1 & B2r46c1 & B2r47c1\\\\\n",
       "\\hline\n",
       "\t 1   & 1   & 0   & 1   & 1   & 0   & 0   & 0   & 0   & 0   & ... & 0   & 1   & 1   & 0   & 0   & 1   & 0   & 1   & 0   & 1  \\\\\n",
       "\t 1   & 1   & 1   & 1   & 1   & 1   & 1   & 1   & 1   & 1   & ... & 1   & 1   & 1   & 1   & 1   & 1   & 1   & 1   & 1   & 1  \\\\\n",
       "\t 1   & 1   & 1   & 0   & 0   & 0   & 0   & 0   & 0   & 0   & ... & 0   & 0   & 0   & 1   & 0   & 0   & 1   & 0   & 1   & 1  \\\\\n",
       "\t 1   & 1   & 1   & 1   & 1   & 0   & 1   & 1   & 0   & 1   & ... & 0   & 0   & 0   & 0   & 1   & 1   & 1   & 0   & 1   & 1  \\\\\n",
       "\t 0   & 0   & 0   & 1   & 0   & 0   & 0   & 0   & 0   & 0   & ... & 0   & 0   & 0   & 1   & 0   & 0   & 0   & 0   & 0   & 1  \\\\\n",
       "\\end{tabular}\n"
      ],
      "text/markdown": [
       "\n",
       "| B2r7c1 | B2r37c1 | B2r31c1 | B2r42c1 | B1r1c1 | B1r5c1 | B1r33c1 | B1r34c1 | B1r35c1 | B1r36c1 | ... | B1r38c1 | B2r40c1 | B2r8c1 | B2r20c1 | B1r29c1 | B1r43c1 | B1r44c1 | B1r45c1 | B2r46c1 | B2r47c1 |\n",
       "|---|---|---|---|---|---|---|---|---|---|---|---|---|---|---|---|---|---|---|---|---|\n",
       "| 1   | 1   | 0   | 1   | 1   | 0   | 0   | 0   | 0   | 0   | ... | 0   | 1   | 1   | 0   | 0   | 1   | 0   | 1   | 0   | 1   |\n",
       "| 1   | 1   | 1   | 1   | 1   | 1   | 1   | 1   | 1   | 1   | ... | 1   | 1   | 1   | 1   | 1   | 1   | 1   | 1   | 1   | 1   |\n",
       "| 1   | 1   | 1   | 0   | 0   | 0   | 0   | 0   | 0   | 0   | ... | 0   | 0   | 0   | 1   | 0   | 0   | 1   | 0   | 1   | 1   |\n",
       "| 1   | 1   | 1   | 1   | 1   | 0   | 1   | 1   | 0   | 1   | ... | 0   | 0   | 0   | 0   | 1   | 1   | 1   | 0   | 1   | 1   |\n",
       "| 0   | 0   | 0   | 1   | 0   | 0   | 0   | 0   | 0   | 0   | ... | 0   | 0   | 0   | 1   | 0   | 0   | 0   | 0   | 0   | 1   |\n",
       "\n"
      ],
      "text/plain": [
       "  B2r7c1 B2r37c1 B2r31c1 B2r42c1 B1r1c1 B1r5c1 B1r33c1 B1r34c1 B1r35c1 B1r36c1\n",
       "1 1      1       0       1       1      0      0       0       0       0      \n",
       "2 1      1       1       1       1      1      1       1       1       1      \n",
       "3 1      1       1       0       0      0      0       0       0       0      \n",
       "4 1      1       1       1       1      0      1       1       0       1      \n",
       "5 0      0       0       1       0      0      0       0       0       0      \n",
       "  ... B1r38c1 B2r40c1 B2r8c1 B2r20c1 B1r29c1 B1r43c1 B1r44c1 B1r45c1 B2r46c1\n",
       "1 ... 0       1       1      0       0       1       0       1       0      \n",
       "2 ... 1       1       1      1       1       1       1       1       1      \n",
       "3 ... 0       0       0      1       0       0       1       0       1      \n",
       "4 ... 0       0       0      0       1       1       1       0       1      \n",
       "5 ... 0       0       0      1       0       0       0       0       0      \n",
       "  B2r47c1\n",
       "1 1      \n",
       "2 1      \n",
       "3 1      \n",
       "4 1      \n",
       "5 1      "
      ]
     },
     "metadata": {},
     "output_type": "display_data"
    }
   ],
   "source": [
    "file_folder <- \"D:/XH/Python_Project/notebook/new_proj/201901\"\n",
    "# getwd()\n",
    "setwd(file_folder)\n",
    "\n",
    "data <- read_excel('data_sel_1.xlsx')\n",
    "head(data, n = 5) "
   ]
  },
  {
   "cell_type": "markdown",
   "metadata": {},
   "source": [
    "## 路径分析"
   ]
  },
  {
   "cell_type": "code",
   "execution_count": 18,
   "metadata": {
    "ExecuteTime": {
     "end_time": "2019-03-07T08:11:36.872501Z",
     "start_time": "2019-03-07T08:11:36.802Z"
    },
    "collapsed": true
   },
   "outputs": [],
   "source": [
    "model = 'B2r7c1 ~ B2r37c1 + B2r31c1 + B2r42c1 \n",
    "B2r37c1 ~ B1r1c1 + B1r5c1 + B1r33c1 + B1r34c1 + B1r35c1 + B1r36c1 + B2r21c1 \n",
    "B2r31c1 ~ B2r13c1 + B1r16c1 + B1r23c1 + B1r25c1 + B1r38c1 + B2r40c1 \n",
    "B2r42c1 ~ B2r8c1 + B2r20c1 + B1r29c1 + B1r43c1 + B1r44c1 + B1r45c1 + B2r46c1 + B2r47c1 \n",
    "B1r23c1 ~ B1r16c1\n",
    "B2r13c1 ~ B1r23c1 \n",
    "B2r21c1 ~ B1r1c1 + B1r34c1 + B1r5c1 + B1r35c1 \n",
    "B1r34c1 ~ B1r33c1 \n",
    "B1r35c1 ~ B1r33c1 \n",
    "B2r8c1 ~ B1r29c1 + B1r43c1 + B1r44c1 \n",
    "B1r43c1 ~ B1r45c1 \n",
    "'"
   ]
  },
  {
   "cell_type": "code",
   "execution_count": 19,
   "metadata": {
    "ExecuteTime": {
     "end_time": "2019-03-07T08:11:38.609311Z",
     "start_time": "2019-03-07T08:11:37.866Z"
    }
   },
   "outputs": [
    {
     "name": "stdout",
     "output_type": "stream",
     "text": [
      "lavaan 0.6-3 ended normally after 43 iterations\n",
      "\n",
      "  Optimization method                           NLMINB\n",
      "  Number of free parameters                         47\n",
      "\n",
      "  Number of observations                          1310\n",
      "\n",
      "  Estimator                                         ML\n",
      "  Model Fit Test Statistic                    3073.731\n",
      "  Degrees of freedom                               173\n",
      "  P-value (Chi-square)                           0.000\n",
      "\n",
      "Model test baseline model:\n",
      "\n",
      "  Minimum Function Test Statistic             7274.969\n",
      "  Degrees of freedom                               209\n",
      "  P-value                                        0.000\n",
      "\n",
      "User model versus baseline model:\n",
      "\n",
      "  Comparative Fit Index (CFI)                    0.589\n",
      "  Tucker-Lewis Index (TLI)                       0.504\n",
      "\n",
      "Loglikelihood and Information Criteria:\n",
      "\n",
      "  Loglikelihood user model (H0)              -7123.658\n",
      "  Loglikelihood unrestricted model (H1)      -5586.792\n",
      "\n",
      "  Number of free parameters                         47\n",
      "  Akaike (AIC)                               14341.316\n",
      "  Bayesian (BIC)                             14584.672\n",
      "  Sample-size adjusted Bayesian (BIC)        14435.375\n",
      "\n",
      "Root Mean Square Error of Approximation:\n",
      "\n",
      "  RMSEA                                          0.113\n",
      "  90 Percent Confidence Interval          0.110  0.117\n",
      "  P-value RMSEA <= 0.05                          0.000\n",
      "\n",
      "Standardized Root Mean Square Residual:\n",
      "\n",
      "  SRMR                                           0.181\n",
      "\n",
      "Parameter Estimates:\n",
      "\n",
      "  Information                                 Expected\n",
      "  Information saturated (h1) model          Structured\n",
      "  Standard Errors                             Standard\n",
      "\n",
      "Regressions:\n",
      "                   Estimate  Std.Err  z-value  P(>|z|)   Std.lv  Std.all\n",
      "  B2r7c1 ~                                                              \n",
      "    B2r37c1           0.306    0.024   12.721    0.000    0.306    0.313\n",
      "    B2r31c1           0.202    0.023    8.763    0.000    0.202    0.215\n",
      "    B2r42c1           0.206    0.025    8.219    0.000    0.206    0.202\n",
      "  B2r37c1 ~                                                             \n",
      "    B1r1c1            0.172    0.027    6.424    0.000    0.172    0.180\n",
      "    B1r5c1            0.106    0.026    4.083    0.000    0.106    0.113\n",
      "    B1r33c1           0.061    0.030    2.006    0.045    0.061    0.065\n",
      "    B1r34c1           0.061    0.024    2.573    0.010    0.061    0.068\n",
      "    B1r35c1           0.038    0.025    1.508    0.132    0.038    0.040\n",
      "    B1r36c1           0.118    0.026    4.502    0.000    0.118    0.124\n",
      "    B2r21c1           0.212    0.026    8.287    0.000    0.212    0.222\n",
      "  B2r31c1 ~                                                             \n",
      "    B2r13c1           0.244    0.024   10.111    0.000    0.244    0.255\n",
      "    B1r16c1           0.053    0.028    1.869    0.062    0.053    0.052\n",
      "    B1r23c1           0.144    0.027    5.289    0.000    0.144    0.143\n",
      "    B1r25c1           0.146    0.027    5.511    0.000    0.146    0.154\n",
      "    B1r38c1           0.114    0.023    4.922    0.000    0.114    0.126\n",
      "    B2r40c1           0.154    0.025    6.216    0.000    0.154    0.163\n",
      "  B2r42c1 ~                                                             \n",
      "    B2r8c1            0.214    0.024    9.038    0.000    0.214    0.229\n",
      "    B2r20c1           0.049    0.023    2.110    0.035    0.049    0.058\n",
      "    B1r29c1           0.053    0.024    2.245    0.025    0.053    0.060\n",
      "    B1r43c1           0.178    0.025    7.059    0.000    0.178    0.184\n",
      "    B1r44c1           0.079    0.025    3.132    0.002    0.079    0.087\n",
      "    B1r45c1           0.104    0.028    3.715    0.000    0.104    0.107\n",
      "    B2r46c1          -0.040    0.022   -1.776    0.076   -0.040   -0.047\n",
      "    B2r47c1           0.179    0.025    7.055    0.000    0.179    0.186\n",
      "  B1r23c1 ~                                                             \n",
      "    B1r16c1           0.390    0.026   15.071    0.000    0.390    0.384\n",
      "  B2r13c1 ~                                                             \n",
      "    B1r23c1           0.379    0.027   14.041    0.000    0.379    0.362\n",
      "  B2r21c1 ~                                                             \n",
      "    B1r1c1            0.130    0.027    4.843    0.000    0.130    0.130\n",
      "    B1r34c1           0.198    0.023    8.488    0.000    0.198    0.211\n",
      "    B1r5c1            0.175    0.026    6.681    0.000    0.175    0.179\n",
      "    B1r35c1           0.249    0.024   10.220    0.000    0.249    0.253\n",
      "  B1r34c1 ~                                                             \n",
      "    B1r33c1           0.460    0.026   17.808    0.000    0.460    0.441\n",
      "  B1r35c1 ~                                                             \n",
      "    B1r33c1           0.438    0.025   17.659    0.000    0.438    0.438\n",
      "  B2r8c1 ~                                                              \n",
      "    B1r29c1           0.159    0.026    6.188    0.000    0.159    0.167\n",
      "    B1r43c1           0.226    0.026    8.517    0.000    0.226    0.217\n",
      "    B1r44c1           0.219    0.026    8.291    0.000    0.219    0.224\n",
      "  B1r43c1 ~                                                             \n",
      "    B1r45c1           0.427    0.025   17.109    0.000    0.427    0.427\n",
      "\n",
      "Variances:\n",
      "                   Estimate  Std.Err  z-value  P(>|z|)   Std.lv  Std.all\n",
      "   .B2r7c1            0.139    0.005   25.593    0.000    0.139    0.766\n",
      "   .B2r37c1           0.134    0.005   25.593    0.000    0.134    0.705\n",
      "   .B2r31c1           0.149    0.006   25.593    0.000    0.149    0.725\n",
      "   .B2r42c1           0.121    0.005   25.593    0.000    0.121    0.691\n",
      "   .B1r23c1           0.175    0.007   25.593    0.000    0.175    0.852\n",
      "   .B2r13c1           0.195    0.008   25.593    0.000    0.195    0.869\n",
      "   .B2r21c1           0.156    0.006   25.593    0.000    0.156    0.747\n",
      "   .B1r34c1           0.190    0.007   25.593    0.000    0.190    0.805\n",
      "   .B1r35c1           0.174    0.007   25.593    0.000    0.174    0.808\n",
      "   .B2r8c1            0.164    0.006   25.593    0.000    0.164    0.820\n",
      "   .B1r43c1           0.152    0.006   25.593    0.000    0.152    0.817\n",
      "\n",
      "R-Square:\n",
      "                   Estimate\n",
      "    B2r7c1            0.234\n",
      "    B2r37c1           0.295\n",
      "    B2r31c1           0.275\n",
      "    B2r42c1           0.309\n",
      "    B1r23c1           0.148\n",
      "    B2r13c1           0.131\n",
      "    B2r21c1           0.253\n",
      "    B1r34c1           0.195\n",
      "    B1r35c1           0.192\n",
      "    B2r8c1            0.180\n",
      "    B1r43c1           0.183\n",
      "\n"
     ]
    }
   ],
   "source": [
    "fit1 = cfa(model, data = data)\n",
    "summary(fit1, fit.measures = TRUE, standardized = TRUE, rsquare = TRUE)"
   ]
  },
  {
   "cell_type": "code",
   "execution_count": 27,
   "metadata": {
    "ExecuteTime": {
     "end_time": "2019-03-07T08:29:07.470016Z",
     "start_time": "2019-03-07T08:29:06.159Z"
    },
    "scrolled": false
   },
   "outputs": [
    {
     "ename": "ERROR",
     "evalue": "Error in png(tf, width, height, \"in\", pointsize, bg, res, antialias = antialias): 无法启动png()装置\n",
     "output_type": "error",
     "traceback": [
      "Error in png(tf, width, height, \"in\", pointsize, bg, res, antialias = antialias): 无法启动png()装置\nTraceback:\n"
     ]
    },
    {
     "data": {
      "text/plain": [
       "plot without title"
      ]
     },
     "metadata": {},
     "output_type": "display_data"
    }
   ],
   "source": [
    "semPaths(fit1, 'std', layout = 'tree2') "
   ]
  },
  {
   "cell_type": "code",
   "execution_count": 25,
   "metadata": {
    "ExecuteTime": {
     "end_time": "2019-03-07T08:27:58.076518Z",
     "start_time": "2019-03-07T08:27:57.943Z"
    }
   },
   "outputs": [
    {
     "data": {
      "text/html": [
       "<strong>png:</strong> 2"
      ],
      "text/latex": [
       "\\textbf{png:} 2"
      ],
      "text/markdown": [
       "**png:** 2"
      ],
      "text/plain": [
       "png \n",
       "  2 "
      ]
     },
     "metadata": {},
     "output_type": "display_data"
    }
   ],
   "source": [
    "png(\"bla.png\");plot(1:10);dev.off()"
   ]
  },
  {
   "cell_type": "code",
   "execution_count": 28,
   "metadata": {
    "ExecuteTime": {
     "end_time": "2019-01-08T12:29:25.275579Z",
     "start_time": "2019-01-08T12:29:24.985Z"
    }
   },
   "outputs": [
    {
     "name": "stdout",
     "output_type": "stream",
     "text": [
      "lavaan 0.6-2 ended normally after 30 iterations\n",
      "\n",
      "  Optimization method                           NLMINB\n",
      "  Number of free parameters                         28\n",
      "\n",
      "  Number of observations                          1310\n",
      "\n",
      "  Estimator                                         ML\n",
      "  Model Fit Test Statistic                     669.004\n",
      "  Degrees of freedom                                66\n",
      "  P-value (Chi-square)                           0.000\n",
      "\n",
      "Parameter Estimates:\n",
      "\n",
      "  Information                                 Expected\n",
      "  Information saturated (h1) model          Structured\n",
      "  Standard Errors                             Standard\n",
      "\n",
      "Regressions:\n",
      "                   Estimate  Std.Err  z-value  P(>|z|)\n",
      "  B2r7c1 ~                                            \n",
      "    B2r37c1           0.306    0.024   12.653    0.000\n",
      "    B2r31c1           0.202    0.023    8.850    0.000\n",
      "    B2r42c1           0.206    0.025    8.222    0.000\n",
      "  B2r37c1 ~                                           \n",
      "    B1r1c1            0.172    0.027    6.252    0.000\n",
      "    B1r5c1            0.106    0.026    3.995    0.000\n",
      "    B1r33c1           0.061    0.027    2.212    0.027\n",
      "    B1r34c1           0.061    0.026    2.376    0.017\n",
      "    B1r35c1           0.038    0.028    1.363    0.173\n",
      "    B1r36c1           0.118    0.027    4.299    0.000\n",
      "    B2r21c1           0.212    0.026    8.044    0.000\n",
      "  B2r31c1 ~                                           \n",
      "    B2r13c1           0.244    0.027    9.013    0.000\n",
      "    B1r16c1           0.053    0.028    1.911    0.056\n",
      "    B1r23c1           0.144    0.027    5.266    0.000\n",
      "    B1r25c1           0.146    0.027    5.351    0.000\n",
      "    B1r38c1           0.114    0.023    4.886    0.000\n",
      "    B2r40c1           0.154    0.026    5.911    0.000\n",
      "  B2r42c1 ~                                           \n",
      "    B2r8c1            0.214    0.025    8.433    0.000\n",
      "    B2r20c1           0.049    0.024    2.074    0.038\n",
      "    B1r29c1           0.053    0.024    2.255    0.024\n",
      "    B1r43c1           0.178    0.027    6.587    0.000\n",
      "    B1r44c1           0.079    0.025    3.130    0.002\n",
      "    B1r45c1           0.104    0.027    3.877    0.000\n",
      "    B2r46c1          -0.040    0.023   -1.765    0.078\n",
      "    B2r47c1           0.179    0.026    6.775    0.000\n",
      "\n",
      "Variances:\n",
      "                   Estimate  Std.Err  z-value  P(>|z|)\n",
      "   .B2r7c1            0.139    0.005   25.593    0.000\n",
      "   .B2r37c1           0.134    0.005   25.593    0.000\n",
      "   .B2r31c1           0.149    0.006   25.593    0.000\n",
      "   .B2r42c1           0.121    0.005   25.593    0.000\n",
      "\n"
     ]
    }
   ],
   "source": [
    "fit2 = cfa(model, data = data)\n",
    "summary(fit2) "
   ]
  },
  {
   "cell_type": "code",
   "execution_count": 29,
   "metadata": {
    "ExecuteTime": {
     "end_time": "2019-01-08T12:29:27.879728Z",
     "start_time": "2019-01-08T12:29:26.249Z"
    }
   },
   "outputs": [
    {
     "data": {
      "image/png": "[encoded data removed]",
      "text/plain": [
       "plot without title"
      ]
     },
     "metadata": {},
     "output_type": "display_data"
    }
   ],
   "source": [
    "semPaths(fit2, 'std', 'est', curveAdjacent = TRUE, style = \"lisrel\")"
   ]
  },
  {
   "cell_type": "code",
   "execution_count": null,
   "metadata": {
    "collapsed": true
   },
   "outputs": [],
   "source": []
  },
  {
   "cell_type": "code",
   "execution_count": 32,
   "metadata": {
    "ExecuteTime": {
     "end_time": "2019-01-08T12:34:03.683503Z",
     "start_time": "2019-01-08T12:34:03.310Z"
    }
   },
   "outputs": [
    {
     "name": "stdout",
     "output_type": "stream",
     "text": [
      "lavaan 0.6-2 ended normally after 30 iterations\n",
      "\n",
      "  Optimization method                           NLMINB\n",
      "  Number of free parameters                         28\n",
      "\n",
      "  Number of observations                          1310\n",
      "\n",
      "  Estimator                                         ML\n",
      "  Model Fit Test Statistic                     669.004\n",
      "  Degrees of freedom                                66\n",
      "  P-value (Chi-square)                           0.000\n",
      "\n",
      "Parameter Estimates:\n",
      "\n",
      "  Information                                 Expected\n",
      "  Information saturated (h1) model          Structured\n",
      "  Standard Errors                             Standard\n",
      "\n",
      "Regressions:\n",
      "                   Estimate  Std.Err  z-value  P(>|z|)\n",
      "  B2r7c1 ~                                            \n",
      "    B2r37c1           0.306    0.024   12.653    0.000\n",
      "    B2r31c1           0.202    0.023    8.850    0.000\n",
      "    B2r42c1           0.206    0.025    8.222    0.000\n",
      "  B2r37c1 ~                                           \n",
      "    B1r1c1            0.172    0.027    6.252    0.000\n",
      "    B1r5c1            0.106    0.026    3.995    0.000\n",
      "    B1r33c1           0.061    0.027    2.212    0.027\n",
      "    B1r34c1           0.061    0.026    2.376    0.017\n",
      "    B1r35c1           0.038    0.028    1.363    0.173\n",
      "    B1r36c1           0.118    0.027    4.299    0.000\n",
      "    B2r21c1           0.212    0.026    8.044    0.000\n",
      "  B2r31c1 ~                                           \n",
      "    B2r13c1           0.244    0.027    9.013    0.000\n",
      "    B1r16c1           0.053    0.028    1.911    0.056\n",
      "    B1r23c1           0.144    0.027    5.266    0.000\n",
      "    B1r25c1           0.146    0.027    5.351    0.000\n",
      "    B1r38c1           0.114    0.023    4.886    0.000\n",
      "    B2r40c1           0.154    0.026    5.911    0.000\n",
      "  B2r42c1 ~                                           \n",
      "    B2r8c1            0.214    0.025    8.433    0.000\n",
      "    B2r20c1           0.049    0.024    2.074    0.038\n",
      "    B1r29c1           0.053    0.024    2.255    0.024\n",
      "    B1r43c1           0.178    0.027    6.587    0.000\n",
      "    B1r44c1           0.079    0.025    3.130    0.002\n",
      "    B1r45c1           0.104    0.027    3.877    0.000\n",
      "    B2r46c1          -0.040    0.023   -1.765    0.078\n",
      "    B2r47c1           0.179    0.026    6.775    0.000\n",
      "\n",
      "Variances:\n",
      "                   Estimate  Std.Err  z-value  P(>|z|)\n",
      "   .B2r7c1            0.139    0.005   25.593    0.000\n",
      "   .B2r37c1           0.134    0.005   25.593    0.000\n",
      "   .B2r31c1           0.149    0.006   25.593    0.000\n",
      "   .B2r42c1           0.121    0.005   25.593    0.000\n",
      "\n"
     ]
    }
   ],
   "source": [
    "fit <- sem(model, data=data)\n",
    "summary(fit)"
   ]
  },
  {
   "cell_type": "code",
   "execution_count": null,
   "metadata": {
    "collapsed": true
   },
   "outputs": [],
   "source": []
  },
  {
   "cell_type": "markdown",
   "metadata": {},
   "source": [
    "# 201903"
   ]
  },
  {
   "cell_type": "markdown",
   "metadata": {},
   "source": [
    "## 导入数据"
   ]
  },
  {
   "cell_type": "code",
   "execution_count": 29,
   "metadata": {
    "ExecuteTime": {
     "end_time": "2019-03-07T10:45:46.665134Z",
     "start_time": "2019-03-07T10:45:46.426Z"
    }
   },
   "outputs": [
    {
     "name": "stdout",
     "output_type": "stream",
     "text": [
      "[1] 1656   35\n"
     ]
    },
    {
     "data": {
      "text/html": [
       "<table>\n",
       "<thead><tr><th scope=col>E1</th><th scope=col>E2</th><th scope=col>E3</th><th scope=col>E4</th><th scope=col>E5</th><th scope=col>E6</th><th scope=col>E7</th><th scope=col>E8</th><th scope=col>E9</th><th scope=col>E10</th><th scope=col>...</th><th scope=col>E26</th><th scope=col>E27</th><th scope=col>E28</th><th scope=col>E29</th><th scope=col>E30</th><th scope=col>E31</th><th scope=col>E32</th><th scope=col>D1</th><th scope=col>D2</th><th scope=col>D3</th></tr></thead>\n",
       "<tbody>\n",
       "\t<tr><td>5       </td><td>3.333333</td><td>2       </td><td>4       </td><td>3.5     </td><td>4       </td><td>5       </td><td>4.5     </td><td>4.142857</td><td>4       </td><td>...     </td><td>5       </td><td>3.666667</td><td>5       </td><td>4       </td><td>4       </td><td>3       </td><td>4       </td><td>4       </td><td>5       </td><td>5       </td></tr>\n",
       "\t<tr><td>4       </td><td>3.166667</td><td>4       </td><td>3       </td><td>3.5     </td><td>3       </td><td>4       </td><td>3.5     </td><td>3.142857</td><td>4       </td><td>...     </td><td>4       </td><td>4.000000</td><td>4       </td><td>4       </td><td>4       </td><td>3       </td><td>4       </td><td>4       </td><td>4       </td><td>4       </td></tr>\n",
       "\t<tr><td>4       </td><td>3.833333</td><td>4       </td><td>5       </td><td>4.5     </td><td>5       </td><td>5       </td><td>4.0     </td><td>3.714286</td><td>2       </td><td>...     </td><td>5       </td><td>4.666667</td><td>5       </td><td>4       </td><td>5       </td><td>5       </td><td>5       </td><td>4       </td><td>4       </td><td>4       </td></tr>\n",
       "\t<tr><td>4       </td><td>3.833333</td><td>4       </td><td>3       </td><td>3.5     </td><td>4       </td><td>4       </td><td>4.0     </td><td>3.571429</td><td>3       </td><td>...     </td><td>3       </td><td>3.333333</td><td>3       </td><td>4       </td><td>4       </td><td>4       </td><td>4       </td><td>3       </td><td>3       </td><td>4       </td></tr>\n",
       "\t<tr><td>4       </td><td>3.666667</td><td>4       </td><td>3       </td><td>3.5     </td><td>3       </td><td>3       </td><td>4.0     </td><td>3.142857</td><td>4       </td><td>...     </td><td>4       </td><td>3.666667</td><td>4       </td><td>4       </td><td>4       </td><td>3       </td><td>4       </td><td>4       </td><td>5       </td><td>4       </td></tr>\n",
       "</tbody>\n",
       "</table>\n"
      ],
      "text/latex": [
       "\\begin{tabular}{r|lllllllllllllllllllllllllllllllllll}\n",
       " E1 & E2 & E3 & E4 & E5 & E6 & E7 & E8 & E9 & E10 & ... & E26 & E27 & E28 & E29 & E30 & E31 & E32 & D1 & D2 & D3\\\\\n",
       "\\hline\n",
       "\t 5        & 3.333333 & 2        & 4        & 3.5      & 4        & 5        & 4.5      & 4.142857 & 4        & ...      & 5        & 3.666667 & 5        & 4        & 4        & 3        & 4        & 4        & 5        & 5       \\\\\n",
       "\t 4        & 3.166667 & 4        & 3        & 3.5      & 3        & 4        & 3.5      & 3.142857 & 4        & ...      & 4        & 4.000000 & 4        & 4        & 4        & 3        & 4        & 4        & 4        & 4       \\\\\n",
       "\t 4        & 3.833333 & 4        & 5        & 4.5      & 5        & 5        & 4.0      & 3.714286 & 2        & ...      & 5        & 4.666667 & 5        & 4        & 5        & 5        & 5        & 4        & 4        & 4       \\\\\n",
       "\t 4        & 3.833333 & 4        & 3        & 3.5      & 4        & 4        & 4.0      & 3.571429 & 3        & ...      & 3        & 3.333333 & 3        & 4        & 4        & 4        & 4        & 3        & 3        & 4       \\\\\n",
       "\t 4        & 3.666667 & 4        & 3        & 3.5      & 3        & 3        & 4.0      & 3.142857 & 4        & ...      & 4        & 3.666667 & 4        & 4        & 4        & 3        & 4        & 4        & 5        & 4       \\\\\n",
       "\\end{tabular}\n"
      ],
      "text/markdown": [
       "\n",
       "| E1 | E2 | E3 | E4 | E5 | E6 | E7 | E8 | E9 | E10 | ... | E26 | E27 | E28 | E29 | E30 | E31 | E32 | D1 | D2 | D3 |\n",
       "|---|---|---|---|---|---|---|---|---|---|---|---|---|---|---|---|---|---|---|---|---|\n",
       "| 5        | 3.333333 | 2        | 4        | 3.5      | 4        | 5        | 4.5      | 4.142857 | 4        | ...      | 5        | 3.666667 | 5        | 4        | 4        | 3        | 4        | 4        | 5        | 5        |\n",
       "| 4        | 3.166667 | 4        | 3        | 3.5      | 3        | 4        | 3.5      | 3.142857 | 4        | ...      | 4        | 4.000000 | 4        | 4        | 4        | 3        | 4        | 4        | 4        | 4        |\n",
       "| 4        | 3.833333 | 4        | 5        | 4.5      | 5        | 5        | 4.0      | 3.714286 | 2        | ...      | 5        | 4.666667 | 5        | 4        | 5        | 5        | 5        | 4        | 4        | 4        |\n",
       "| 4        | 3.833333 | 4        | 3        | 3.5      | 4        | 4        | 4.0      | 3.571429 | 3        | ...      | 3        | 3.333333 | 3        | 4        | 4        | 4        | 4        | 3        | 3        | 4        |\n",
       "| 4        | 3.666667 | 4        | 3        | 3.5      | 3        | 3        | 4.0      | 3.142857 | 4        | ...      | 4        | 3.666667 | 4        | 4        | 4        | 3        | 4        | 4        | 5        | 4        |\n",
       "\n"
      ],
      "text/plain": [
       "  E1 E2       E3 E4 E5  E6 E7 E8  E9       E10 ... E26 E27      E28 E29 E30 E31\n",
       "1 5  3.333333 2  4  3.5 4  5  4.5 4.142857 4   ... 5   3.666667 5   4   4   3  \n",
       "2 4  3.166667 4  3  3.5 3  4  3.5 3.142857 4   ... 4   4.000000 4   4   4   3  \n",
       "3 4  3.833333 4  5  4.5 5  5  4.0 3.714286 2   ... 5   4.666667 5   4   5   5  \n",
       "4 4  3.833333 4  3  3.5 4  4  4.0 3.571429 3   ... 3   3.333333 3   4   4   4  \n",
       "5 4  3.666667 4  3  3.5 3  3  4.0 3.142857 4   ... 4   3.666667 4   4   4   3  \n",
       "  E32 D1 D2 D3\n",
       "1 4   4  5  5 \n",
       "2 4   4  4  4 \n",
       "3 5   4  4  4 \n",
       "4 4   3  3  4 \n",
       "5 4   4  5  4 "
      ]
     },
     "metadata": {},
     "output_type": "display_data"
    }
   ],
   "source": [
    "file_folder <- \"D:/XH/Python_Project/notebook/new_proj/201903\"\n",
    "# getwd()\n",
    "setwd(file_folder)\n",
    "\n",
    "# data <- read_excel('tengxun.xlsx')\n",
    "data <- read_excel('data_combined.xlsx')\n",
    "print(dim(data))\n",
    "head(data, n = 5) "
   ]
  },
  {
   "cell_type": "markdown",
   "metadata": {
    "collapsed": true
   },
   "source": [
    "## 描述性统计分析"
   ]
  },
  {
   "cell_type": "code",
   "execution_count": 30,
   "metadata": {
    "ExecuteTime": {
     "end_time": "2019-03-07T10:45:51.520331Z",
     "start_time": "2019-03-07T10:45:51.458Z"
    }
   },
   "outputs": [
    {
     "data": {
      "text/plain": [
       "       E1              E2              E3              E4              E5      \n",
       " Min.   :1.000   Min.   :1.000   Min.   :1.000   Min.   :1.000   Min.   :1.00  \n",
       " 1st Qu.:4.000   1st Qu.:3.500   1st Qu.:3.000   1st Qu.:4.000   1st Qu.:3.50  \n",
       " Median :4.000   Median :4.000   Median :4.000   Median :4.000   Median :4.00  \n",
       " Mean   :4.146   Mean   :3.921   Mean   :3.942   Mean   :4.037   Mean   :4.01  \n",
       " 3rd Qu.:5.000   3rd Qu.:4.333   3rd Qu.:5.000   3rd Qu.:5.000   3rd Qu.:4.50  \n",
       " Max.   :5.000   Max.   :5.000   Max.   :5.000   Max.   :5.000   Max.   :5.00  \n",
       "       E6              E7              E8              E9             E10      \n",
       " Min.   :1.000   Min.   :1.000   Min.   :1.000   Min.   :1.000   Min.   :1.00  \n",
       " 1st Qu.:4.000   1st Qu.:3.000   1st Qu.:3.500   1st Qu.:3.429   1st Qu.:3.00  \n",
       " Median :4.000   Median :4.000   Median :4.000   Median :3.857   Median :4.00  \n",
       " Mean   :4.153   Mean   :4.019   Mean   :4.102   Mean   :3.830   Mean   :3.83  \n",
       " 3rd Qu.:5.000   3rd Qu.:5.000   3rd Qu.:4.500   3rd Qu.:4.286   3rd Qu.:5.00  \n",
       " Max.   :5.000   Max.   :5.000   Max.   :5.000   Max.   :5.000   Max.   :5.00  \n",
       "      E11             E12             E13             E14       \n",
       " Min.   :1.000   Min.   :1.000   Min.   :1.000   Min.   :1.000  \n",
       " 1st Qu.:3.333   1st Qu.:4.000   1st Qu.:4.000   1st Qu.:3.500  \n",
       " Median :4.000   Median :4.500   Median :4.000   Median :4.000  \n",
       " Mean   :3.757   Mean   :4.231   Mean   :4.247   Mean   :3.988  \n",
       " 3rd Qu.:4.333   3rd Qu.:5.000   3rd Qu.:5.000   3rd Qu.:4.500  \n",
       " Max.   :5.000   Max.   :5.000   Max.   :5.000   Max.   :5.000  \n",
       "      E15             E16             E17             E18       \n",
       " Min.   :1.000   Min.   :1.000   Min.   :1.000   Min.   :1.000  \n",
       " 1st Qu.:4.000   1st Qu.:4.000   1st Qu.:4.000   1st Qu.:3.500  \n",
       " Median :4.000   Median :4.000   Median :4.000   Median :4.000  \n",
       " Mean   :4.104   Mean   :4.136   Mean   :4.131   Mean   :3.985  \n",
       " 3rd Qu.:5.000   3rd Qu.:5.000   3rd Qu.:5.000   3rd Qu.:4.500  \n",
       " Max.   :5.000   Max.   :5.000   Max.   :5.000   Max.   :5.000  \n",
       "      E19             E20             E21            E22            E23       \n",
       " Min.   :1.000   Min.   :1.000   Min.   :1.00   Min.   :1.00   Min.   :1.000  \n",
       " 1st Qu.:3.000   1st Qu.:4.000   1st Qu.:3.50   1st Qu.:3.75   1st Qu.:3.667  \n",
       " Median :4.000   Median :4.000   Median :4.00   Median :4.00   Median :4.000  \n",
       " Mean   :3.975   Mean   :4.111   Mean   :4.11   Mean   :4.02   Mean   :4.037  \n",
       " 3rd Qu.:5.000   3rd Qu.:5.000   3rd Qu.:4.50   3rd Qu.:4.50   3rd Qu.:4.667  \n",
       " Max.   :5.000   Max.   :5.000   Max.   :5.00   Max.   :5.00   Max.   :5.000  \n",
       "      E24           E25             E26             E27             E28       \n",
       " Min.   :1.0   Min.   :1.000   Min.   :1.000   Min.   :1.000   Min.   :1.000  \n",
       " 1st Qu.:4.0   1st Qu.:3.000   1st Qu.:3.000   1st Qu.:3.667   1st Qu.:3.000  \n",
       " Median :4.0   Median :4.000   Median :4.000   Median :4.000   Median :4.000  \n",
       " Mean   :4.1   Mean   :3.992   Mean   :3.912   Mean   :3.938   Mean   :3.934  \n",
       " 3rd Qu.:5.0   3rd Qu.:5.000   3rd Qu.:5.000   3rd Qu.:4.333   3rd Qu.:5.000  \n",
       " Max.   :5.0   Max.   :5.000   Max.   :5.000   Max.   :5.000   Max.   :5.000  \n",
       "      E29             E30             E31             E32       \n",
       " Min.   :1.000   Min.   :1.000   Min.   :1.000   Min.   :1.000  \n",
       " 1st Qu.:3.000   1st Qu.:3.000   1st Qu.:3.000   1st Qu.:3.000  \n",
       " Median :4.000   Median :4.000   Median :4.000   Median :4.000  \n",
       " Mean   :3.978   Mean   :3.915   Mean   :3.893   Mean   :3.948  \n",
       " 3rd Qu.:5.000   3rd Qu.:5.000   3rd Qu.:5.000   3rd Qu.:5.000  \n",
       " Max.   :5.000   Max.   :5.000   Max.   :5.000   Max.   :5.000  \n",
       "       D1              D2              D3       \n",
       " Min.   :1.000   Min.   :1.000   Min.   :1.000  \n",
       " 1st Qu.:4.000   1st Qu.:4.000   1st Qu.:4.000  \n",
       " Median :4.000   Median :4.000   Median :4.000  \n",
       " Mean   :4.057   Mean   :4.144   Mean   :4.128  \n",
       " 3rd Qu.:5.000   3rd Qu.:5.000   3rd Qu.:5.000  \n",
       " Max.   :5.000   Max.   :5.000   Max.   :5.000  "
      ]
     },
     "metadata": {},
     "output_type": "display_data"
    }
   ],
   "source": [
    "summary(data)\n",
    "\n",
    "# options(scipen = 200)\n",
    "\n",
    "# if(!require(pastecs)){install.packages(\"pastecs\")}\n",
    "# library(pastecs)\n",
    "# stat.desc(data,basic=TRUE, desc=FALSE, norm=TRUE, p=0.95) "
   ]
  },
  {
   "cell_type": "markdown",
   "metadata": {
    "ExecuteTime": {
     "end_time": "2019-03-06T10:18:45.977808Z",
     "start_time": "2019-03-06T10:18:43.968Z"
    },
    "collapsed": true
   },
   "source": [
    "## 相关矩阵"
   ]
  },
  {
   "cell_type": "code",
   "execution_count": 31,
   "metadata": {
    "ExecuteTime": {
     "end_time": "2019-03-07T10:46:12.717354Z",
     "start_time": "2019-03-07T10:46:02.737Z"
    }
   },
   "outputs": [],
   "source": [
    "if(!require(xlsx)){install.packages(\"xlsx\")}\n",
    "\n",
    "library(xlsx) #load the package\n",
    "write.xlsx(x = cor_matr, file = \"cor.xlsx\",\n",
    "        sheetName = \"TestSheet\", row.names = TRUE)"
   ]
  },
  {
   "cell_type": "code",
   "execution_count": null,
   "metadata": {
    "ExecuteTime": {
     "end_time": "2019-03-07T10:46:13.438272Z",
     "start_time": "2019-03-07T10:46:04.167Z"
    }
   },
   "outputs": [],
   "source": [
    "print(mode(cor_matr))\n",
    "cor_matr = data.frame(cor_matr)\n",
    "print(mode(cor_matr))\n",
    "cor_matr"
   ]
  },
  {
   "cell_type": "code",
   "execution_count": 32,
   "metadata": {
    "ExecuteTime": {
     "end_time": "2019-03-07T10:46:18.019825Z",
     "start_time": "2019-03-07T10:46:17.782Z"
    }
   },
   "outputs": [
    {
     "name": "stdout",
     "output_type": "stream",
     "text": [
      "[1] \"numeric\"\n"
     ]
    },
    {
     "data": {
      "text/html": [
       "<table>\n",
       "<thead><tr><th></th><th scope=col>E1</th><th scope=col>E2</th><th scope=col>E3</th><th scope=col>E4</th><th scope=col>E5</th><th scope=col>E6</th><th scope=col>E7</th><th scope=col>E8</th><th scope=col>E9</th><th scope=col>E10</th><th scope=col>...</th><th scope=col>E26</th><th scope=col>E27</th><th scope=col>E28</th><th scope=col>E29</th><th scope=col>E30</th><th scope=col>E31</th><th scope=col>E32</th><th scope=col>D1</th><th scope=col>D2</th><th scope=col>D3</th></tr></thead>\n",
       "<tbody>\n",
       "\t<tr><th scope=row>E1</th><td>1.0000000</td><td>0.4378247</td><td>0.2777784</td><td>0.3662899</td><td>0.3423167</td><td>0.3731715</td><td>0.2613640</td><td>0.3144545</td><td>0.3118134</td><td>0.2200815</td><td>...      </td><td>0.2232130</td><td>0.3072871</td><td>0.2893436</td><td>0.2280322</td><td>0.2227160</td><td>0.2020105</td><td>0.2276934</td><td>0.2611176</td><td>0.2932929</td><td>0.2596458</td></tr>\n",
       "\t<tr><th scope=row>E2</th><td>0.4378247</td><td>1.0000000</td><td>0.4914139</td><td>0.4487345</td><td>0.5295613</td><td>0.4137540</td><td>0.3737713</td><td>0.4067616</td><td>0.5171421</td><td>0.4058307</td><td>...      </td><td>0.3501188</td><td>0.4622507</td><td>0.3845680</td><td>0.3397766</td><td>0.3632433</td><td>0.3348670</td><td>0.3440861</td><td>0.3394176</td><td>0.3105965</td><td>0.3063478</td></tr>\n",
       "\t<tr><th scope=row>E3</th><td>0.2777784</td><td>0.4914139</td><td>1.0000000</td><td>0.3056772</td><td>0.3635121</td><td>0.3011548</td><td>0.2670427</td><td>0.2746161</td><td>0.3499902</td><td>0.2824887</td><td>...      </td><td>0.2518171</td><td>0.3015037</td><td>0.2463708</td><td>0.2497269</td><td>0.2857953</td><td>0.2136885</td><td>0.2151031</td><td>0.2257276</td><td>0.2154286</td><td>0.1924497</td></tr>\n",
       "\t<tr><th scope=row>E4</th><td>0.3662899</td><td>0.4487345</td><td>0.3056772</td><td>1.0000000</td><td>0.4146197</td><td>0.3346038</td><td>0.2793368</td><td>0.2820657</td><td>0.3352419</td><td>0.2200794</td><td>...      </td><td>0.2283727</td><td>0.3085828</td><td>0.2728347</td><td>0.2401352</td><td>0.1979794</td><td>0.2477594</td><td>0.2362591</td><td>0.2756096</td><td>0.2929223</td><td>0.2303021</td></tr>\n",
       "\t<tr><th scope=row>E5</th><td>0.3423167</td><td>0.5295613</td><td>0.3635121</td><td>0.4146197</td><td>1.0000000</td><td>0.3902814</td><td>0.2945199</td><td>0.3445179</td><td>0.4220524</td><td>0.2974614</td><td>...      </td><td>0.3014414</td><td>0.3612262</td><td>0.3135489</td><td>0.2969843</td><td>0.2405200</td><td>0.2702344</td><td>0.3016126</td><td>0.2851080</td><td>0.2861408</td><td>0.2886387</td></tr>\n",
       "\t<tr><th scope=row>E6</th><td>0.3731715</td><td>0.4137540</td><td>0.3011548</td><td>0.3346038</td><td>0.3902814</td><td>1.0000000</td><td>0.2778538</td><td>0.3220606</td><td>0.2599907</td><td>0.1957790</td><td>...      </td><td>0.1967158</td><td>0.2697144</td><td>0.2370559</td><td>0.2336606</td><td>0.1937361</td><td>0.2048334</td><td>0.2522525</td><td>0.2463890</td><td>0.2683276</td><td>0.2801696</td></tr>\n",
       "\t<tr><th scope=row>E7</th><td>0.2613640</td><td>0.3737713</td><td>0.2670427</td><td>0.2793368</td><td>0.2945199</td><td>0.2778538</td><td>1.0000000</td><td>0.4408888</td><td>0.4500451</td><td>0.3334249</td><td>...      </td><td>0.2746952</td><td>0.3671278</td><td>0.3288641</td><td>0.3179782</td><td>0.2876457</td><td>0.3232329</td><td>0.2938511</td><td>0.3262335</td><td>0.3114982</td><td>0.3178815</td></tr>\n",
       "\t<tr><th scope=row>E8</th><td>0.3144545</td><td>0.4067616</td><td>0.2746161</td><td>0.2820657</td><td>0.3445179</td><td>0.3220606</td><td>0.4408888</td><td>1.0000000</td><td>0.4289165</td><td>0.3178587</td><td>...      </td><td>0.2960722</td><td>0.4231343</td><td>0.3521654</td><td>0.3638448</td><td>0.3106951</td><td>0.3282861</td><td>0.3336993</td><td>0.4082495</td><td>0.4106233</td><td>0.4090347</td></tr>\n",
       "\t<tr><th scope=row>E9</th><td>0.3118134</td><td>0.5171421</td><td>0.3499902</td><td>0.3352419</td><td>0.4220524</td><td>0.2599907</td><td>0.4500451</td><td>0.4289165</td><td>1.0000000</td><td>0.5666445</td><td>...      </td><td>0.4504576</td><td>0.4877508</td><td>0.4006666</td><td>0.4229764</td><td>0.4176692</td><td>0.4878869</td><td>0.4090864</td><td>0.3510997</td><td>0.3344526</td><td>0.3160817</td></tr>\n",
       "\t<tr><th scope=row>E10</th><td>0.2200815</td><td>0.4058307</td><td>0.2824887</td><td>0.2200794</td><td>0.2974614</td><td>0.1957790</td><td>0.3334249</td><td>0.3178587</td><td>0.5666445</td><td>1.0000000</td><td>...      </td><td>0.3033100</td><td>0.3568934</td><td>0.3000231</td><td>0.2867631</td><td>0.2967389</td><td>0.3633575</td><td>0.3026252</td><td>0.2763056</td><td>0.2147169</td><td>0.2292553</td></tr>\n",
       "\t<tr><th scope=row>E11</th><td>0.2459532</td><td>0.4581116</td><td>0.3189945</td><td>0.2802886</td><td>0.3613417</td><td>0.2117230</td><td>0.3886857</td><td>0.3103030</td><td>0.7474741</td><td>0.5248681</td><td>...      </td><td>0.3737248</td><td>0.4393187</td><td>0.3466598</td><td>0.3218023</td><td>0.3630502</td><td>0.3985162</td><td>0.3266052</td><td>0.2763952</td><td>0.2359393</td><td>0.2135636</td></tr>\n",
       "\t<tr><th scope=row>E12</th><td>0.3352878</td><td>0.3665526</td><td>0.2218603</td><td>0.2967320</td><td>0.3252808</td><td>0.3109727</td><td>0.3841199</td><td>0.5765629</td><td>0.3523287</td><td>0.2489323</td><td>...      </td><td>0.2763474</td><td>0.3633888</td><td>0.3211780</td><td>0.3325112</td><td>0.2562368</td><td>0.3027577</td><td>0.2735037</td><td>0.3643465</td><td>0.4042765</td><td>0.4064717</td></tr>\n",
       "\t<tr><th scope=row>E13</th><td>0.3222193</td><td>0.3441855</td><td>0.1919017</td><td>0.2659615</td><td>0.2936356</td><td>0.3117523</td><td>0.3713270</td><td>0.4631687</td><td>0.3131608</td><td>0.2262858</td><td>...      </td><td>0.2491393</td><td>0.3200269</td><td>0.2825823</td><td>0.3286766</td><td>0.2113811</td><td>0.2525877</td><td>0.2729979</td><td>0.3392836</td><td>0.3867593</td><td>0.3551646</td></tr>\n",
       "\t<tr><th scope=row>E14</th><td>0.2765653</td><td>0.4501411</td><td>0.2761372</td><td>0.2904832</td><td>0.3451275</td><td>0.3081977</td><td>0.4305277</td><td>0.4443026</td><td>0.5389765</td><td>0.3792191</td><td>...      </td><td>0.3317767</td><td>0.4227625</td><td>0.3335793</td><td>0.3372752</td><td>0.2987927</td><td>0.3327556</td><td>0.2725253</td><td>0.3069592</td><td>0.3176048</td><td>0.3137128</td></tr>\n",
       "\t<tr><th scope=row>E15</th><td>0.2908759</td><td>0.3359354</td><td>0.2436179</td><td>0.2681062</td><td>0.2710870</td><td>0.2761842</td><td>0.3579868</td><td>0.4580921</td><td>0.3841432</td><td>0.2615869</td><td>...      </td><td>0.2610431</td><td>0.3396638</td><td>0.3155413</td><td>0.3074037</td><td>0.2557314</td><td>0.2588742</td><td>0.2625873</td><td>0.3169361</td><td>0.2967084</td><td>0.3394803</td></tr>\n",
       "\t<tr><th scope=row>E16</th><td>0.2961732</td><td>0.3514825</td><td>0.2199153</td><td>0.2545257</td><td>0.2887970</td><td>0.3106838</td><td>0.3690012</td><td>0.4812326</td><td>0.3645348</td><td>0.2827706</td><td>...      </td><td>0.2772134</td><td>0.3677992</td><td>0.2788543</td><td>0.3516620</td><td>0.2456999</td><td>0.2853732</td><td>0.2740246</td><td>0.3625154</td><td>0.3419780</td><td>0.3414320</td></tr>\n",
       "\t<tr><th scope=row>E17</th><td>0.2888053</td><td>0.3411124</td><td>0.2228971</td><td>0.2476338</td><td>0.2983370</td><td>0.2765342</td><td>0.3369953</td><td>0.4676051</td><td>0.3296356</td><td>0.2672770</td><td>...      </td><td>0.2729805</td><td>0.3056137</td><td>0.2647211</td><td>0.2666325</td><td>0.2325911</td><td>0.2331138</td><td>0.2224483</td><td>0.3147151</td><td>0.3039477</td><td>0.3027030</td></tr>\n",
       "\t<tr><th scope=row>E18</th><td>0.2983357</td><td>0.4444164</td><td>0.2818946</td><td>0.3110123</td><td>0.3479385</td><td>0.2925982</td><td>0.4254214</td><td>0.5044138</td><td>0.5834056</td><td>0.4516267</td><td>...      </td><td>0.3456483</td><td>0.4178519</td><td>0.3788183</td><td>0.3825246</td><td>0.3321396</td><td>0.4046681</td><td>0.3874590</td><td>0.3338183</td><td>0.3603483</td><td>0.3575358</td></tr>\n",
       "\t<tr><th scope=row>E19</th><td>0.2742007</td><td>0.4013838</td><td>0.2957126</td><td>0.2491307</td><td>0.3127466</td><td>0.2651152</td><td>0.3680404</td><td>0.4108257</td><td>0.4776377</td><td>0.3442715</td><td>...      </td><td>0.3019048</td><td>0.3788120</td><td>0.2972239</td><td>0.3250186</td><td>0.2496364</td><td>0.3016205</td><td>0.3035924</td><td>0.2712025</td><td>0.2912310</td><td>0.3112594</td></tr>\n",
       "\t<tr><th scope=row>E20</th><td>0.2690539</td><td>0.3260828</td><td>0.2297298</td><td>0.2362512</td><td>0.2926739</td><td>0.2449409</td><td>0.3153963</td><td>0.4086589</td><td>0.3395440</td><td>0.2661938</td><td>...      </td><td>0.2659053</td><td>0.3504411</td><td>0.2658258</td><td>0.2853498</td><td>0.2241797</td><td>0.2349237</td><td>0.2055402</td><td>0.3270841</td><td>0.3233519</td><td>0.3181264</td></tr>\n",
       "\t<tr><th scope=row>E21</th><td>0.3344863</td><td>0.4213709</td><td>0.2626904</td><td>0.3034659</td><td>0.3575642</td><td>0.3448770</td><td>0.4192259</td><td>0.5604942</td><td>0.4442863</td><td>0.2867239</td><td>...      </td><td>0.2902313</td><td>0.4132466</td><td>0.3332703</td><td>0.3754525</td><td>0.3263825</td><td>0.3031325</td><td>0.3341271</td><td>0.3822189</td><td>0.3855759</td><td>0.3741091</td></tr>\n",
       "\t<tr><th scope=row>E22</th><td>0.3631821</td><td>0.5202116</td><td>0.3470423</td><td>0.3925004</td><td>0.4249406</td><td>0.3790694</td><td>0.4995113</td><td>0.5801962</td><td>0.6007282</td><td>0.4313046</td><td>...      </td><td>0.3849831</td><td>0.5007398</td><td>0.4181028</td><td>0.4194304</td><td>0.3692968</td><td>0.4001212</td><td>0.3844913</td><td>0.4268309</td><td>0.4281644</td><td>0.4075066</td></tr>\n",
       "\t<tr><th scope=row>E23</th><td>0.3044805</td><td>0.4628334</td><td>0.2830883</td><td>0.3134984</td><td>0.3814175</td><td>0.2959821</td><td>0.4660033</td><td>0.5364888</td><td>0.5207755</td><td>0.3858123</td><td>...      </td><td>0.3338192</td><td>0.4733630</td><td>0.3456879</td><td>0.3487193</td><td>0.3254255</td><td>0.3791498</td><td>0.3511830</td><td>0.3727338</td><td>0.3628630</td><td>0.3775266</td></tr>\n",
       "\t<tr><th scope=row>E24</th><td>0.2751023</td><td>0.3674482</td><td>0.2458832</td><td>0.2547228</td><td>0.2893810</td><td>0.2799705</td><td>0.3721181</td><td>0.4769119</td><td>0.3558985</td><td>0.2482476</td><td>...      </td><td>0.2801233</td><td>0.3880574</td><td>0.2979830</td><td>0.2750735</td><td>0.2289201</td><td>0.2277980</td><td>0.2529634</td><td>0.3209334</td><td>0.3122515</td><td>0.3398961</td></tr>\n",
       "\t<tr><th scope=row>E25</th><td>0.2474708</td><td>0.3811047</td><td>0.2920210</td><td>0.2445084</td><td>0.2812599</td><td>0.2193699</td><td>0.2609358</td><td>0.3514403</td><td>0.3885223</td><td>0.3259281</td><td>...      </td><td>0.4198466</td><td>0.5592693</td><td>0.4185853</td><td>0.4139431</td><td>0.4141542</td><td>0.4042219</td><td>0.3355836</td><td>0.3920782</td><td>0.4011323</td><td>0.3985127</td></tr>\n",
       "\t<tr><th scope=row>E26</th><td>0.2232130</td><td>0.3501188</td><td>0.2518171</td><td>0.2283727</td><td>0.3014414</td><td>0.1967158</td><td>0.2746952</td><td>0.2960722</td><td>0.4504576</td><td>0.3033100</td><td>...      </td><td>1.0000000</td><td>0.5532548</td><td>0.3440154</td><td>0.4030736</td><td>0.4359515</td><td>0.3785575</td><td>0.3903540</td><td>0.3420646</td><td>0.3560172</td><td>0.3366530</td></tr>\n",
       "\t<tr><th scope=row>E27</th><td>0.3072871</td><td>0.4622507</td><td>0.3015037</td><td>0.3085828</td><td>0.3612262</td><td>0.2697144</td><td>0.3671278</td><td>0.4231343</td><td>0.4877508</td><td>0.3568934</td><td>...      </td><td>0.5532548</td><td>1.0000000</td><td>0.5064431</td><td>0.5002025</td><td>0.5214799</td><td>0.4886495</td><td>0.4837343</td><td>0.4881492</td><td>0.4572074</td><td>0.4742706</td></tr>\n",
       "\t<tr><th scope=row>E28</th><td>0.2893436</td><td>0.3845680</td><td>0.2463708</td><td>0.2728347</td><td>0.3135489</td><td>0.2370559</td><td>0.3288641</td><td>0.3521654</td><td>0.4006666</td><td>0.3000231</td><td>...      </td><td>0.3440154</td><td>0.5064431</td><td>1.0000000</td><td>0.4291258</td><td>0.3963744</td><td>0.4354692</td><td>0.4289980</td><td>0.4084183</td><td>0.3751722</td><td>0.4164349</td></tr>\n",
       "\t<tr><th scope=row>E29</th><td>0.2280322</td><td>0.3397766</td><td>0.2497269</td><td>0.2401352</td><td>0.2969843</td><td>0.2336606</td><td>0.3179782</td><td>0.3638448</td><td>0.4229764</td><td>0.2867631</td><td>...      </td><td>0.4030736</td><td>0.5002025</td><td>0.4291258</td><td>1.0000000</td><td>0.4345337</td><td>0.4330208</td><td>0.4530045</td><td>0.4525115</td><td>0.3931408</td><td>0.4052381</td></tr>\n",
       "\t<tr><th scope=row>E30</th><td>0.2227160</td><td>0.3632433</td><td>0.2857953</td><td>0.1979794</td><td>0.2405200</td><td>0.1937361</td><td>0.2876457</td><td>0.3106951</td><td>0.4176692</td><td>0.2967389</td><td>...      </td><td>0.4359515</td><td>0.5214799</td><td>0.3963744</td><td>0.4345337</td><td>1.0000000</td><td>0.3772558</td><td>0.4185328</td><td>0.4121479</td><td>0.3339383</td><td>0.3132553</td></tr>\n",
       "\t<tr><th scope=row>E31</th><td>0.2020105</td><td>0.3348670</td><td>0.2136885</td><td>0.2477594</td><td>0.2702344</td><td>0.2048334</td><td>0.3232329</td><td>0.3282861</td><td>0.4878869</td><td>0.3633575</td><td>...      </td><td>0.3785575</td><td>0.4886495</td><td>0.4354692</td><td>0.4330208</td><td>0.3772558</td><td>1.0000000</td><td>0.4788635</td><td>0.3960888</td><td>0.3692852</td><td>0.4211153</td></tr>\n",
       "\t<tr><th scope=row>E32</th><td>0.2276934</td><td>0.3440861</td><td>0.2151031</td><td>0.2362591</td><td>0.3016126</td><td>0.2522525</td><td>0.2938511</td><td>0.3336993</td><td>0.4090864</td><td>0.3026252</td><td>...      </td><td>0.3903540</td><td>0.4837343</td><td>0.4289980</td><td>0.4530045</td><td>0.4185328</td><td>0.4788635</td><td>1.0000000</td><td>0.4081247</td><td>0.3626875</td><td>0.3856036</td></tr>\n",
       "\t<tr><th scope=row>D1</th><td>0.2611176</td><td>0.3394176</td><td>0.2257276</td><td>0.2756096</td><td>0.2851080</td><td>0.2463890</td><td>0.3262335</td><td>0.4082495</td><td>0.3510997</td><td>0.2763056</td><td>...      </td><td>0.3420646</td><td>0.4881492</td><td>0.4084183</td><td>0.4525115</td><td>0.4121479</td><td>0.3960888</td><td>0.4081247</td><td>1.0000000</td><td>0.4488237</td><td>0.4284160</td></tr>\n",
       "\t<tr><th scope=row>D2</th><td>0.2932929</td><td>0.3105965</td><td>0.2154286</td><td>0.2929223</td><td>0.2861408</td><td>0.2683276</td><td>0.3114982</td><td>0.4106233</td><td>0.3344526</td><td>0.2147169</td><td>...      </td><td>0.3560172</td><td>0.4572074</td><td>0.3751722</td><td>0.3931408</td><td>0.3339383</td><td>0.3692852</td><td>0.3626875</td><td>0.4488237</td><td>1.0000000</td><td>0.4417485</td></tr>\n",
       "\t<tr><th scope=row>D3</th><td>0.2596458</td><td>0.3063478</td><td>0.1924497</td><td>0.2303021</td><td>0.2886387</td><td>0.2801696</td><td>0.3178815</td><td>0.4090347</td><td>0.3160817</td><td>0.2292553</td><td>...      </td><td>0.3366530</td><td>0.4742706</td><td>0.4164349</td><td>0.4052381</td><td>0.3132553</td><td>0.4211153</td><td>0.3856036</td><td>0.4284160</td><td>0.4417485</td><td>1.0000000</td></tr>\n",
       "</tbody>\n",
       "</table>\n"
      ],
      "text/latex": [
       "\\begin{tabular}{r|lllllllllllllllllllllllllllllllllll}\n",
       "  & E1 & E2 & E3 & E4 & E5 & E6 & E7 & E8 & E9 & E10 & ... & E26 & E27 & E28 & E29 & E30 & E31 & E32 & D1 & D2 & D3\\\\\n",
       "\\hline\n",
       "\tE1 & 1.0000000 & 0.4378247 & 0.2777784 & 0.3662899 & 0.3423167 & 0.3731715 & 0.2613640 & 0.3144545 & 0.3118134 & 0.2200815 & ...       & 0.2232130 & 0.3072871 & 0.2893436 & 0.2280322 & 0.2227160 & 0.2020105 & 0.2276934 & 0.2611176 & 0.2932929 & 0.2596458\\\\\n",
       "\tE2 & 0.4378247 & 1.0000000 & 0.4914139 & 0.4487345 & 0.5295613 & 0.4137540 & 0.3737713 & 0.4067616 & 0.5171421 & 0.4058307 & ...       & 0.3501188 & 0.4622507 & 0.3845680 & 0.3397766 & 0.3632433 & 0.3348670 & 0.3440861 & 0.3394176 & 0.3105965 & 0.3063478\\\\\n",
       "\tE3 & 0.2777784 & 0.4914139 & 1.0000000 & 0.3056772 & 0.3635121 & 0.3011548 & 0.2670427 & 0.2746161 & 0.3499902 & 0.2824887 & ...       & 0.2518171 & 0.3015037 & 0.2463708 & 0.2497269 & 0.2857953 & 0.2136885 & 0.2151031 & 0.2257276 & 0.2154286 & 0.1924497\\\\\n",
       "\tE4 & 0.3662899 & 0.4487345 & 0.3056772 & 1.0000000 & 0.4146197 & 0.3346038 & 0.2793368 & 0.2820657 & 0.3352419 & 0.2200794 & ...       & 0.2283727 & 0.3085828 & 0.2728347 & 0.2401352 & 0.1979794 & 0.2477594 & 0.2362591 & 0.2756096 & 0.2929223 & 0.2303021\\\\\n",
       "\tE5 & 0.3423167 & 0.5295613 & 0.3635121 & 0.4146197 & 1.0000000 & 0.3902814 & 0.2945199 & 0.3445179 & 0.4220524 & 0.2974614 & ...       & 0.3014414 & 0.3612262 & 0.3135489 & 0.2969843 & 0.2405200 & 0.2702344 & 0.3016126 & 0.2851080 & 0.2861408 & 0.2886387\\\\\n",
       "\tE6 & 0.3731715 & 0.4137540 & 0.3011548 & 0.3346038 & 0.3902814 & 1.0000000 & 0.2778538 & 0.3220606 & 0.2599907 & 0.1957790 & ...       & 0.1967158 & 0.2697144 & 0.2370559 & 0.2336606 & 0.1937361 & 0.2048334 & 0.2522525 & 0.2463890 & 0.2683276 & 0.2801696\\\\\n",
       "\tE7 & 0.2613640 & 0.3737713 & 0.2670427 & 0.2793368 & 0.2945199 & 0.2778538 & 1.0000000 & 0.4408888 & 0.4500451 & 0.3334249 & ...       & 0.2746952 & 0.3671278 & 0.3288641 & 0.3179782 & 0.2876457 & 0.3232329 & 0.2938511 & 0.3262335 & 0.3114982 & 0.3178815\\\\\n",
       "\tE8 & 0.3144545 & 0.4067616 & 0.2746161 & 0.2820657 & 0.3445179 & 0.3220606 & 0.4408888 & 1.0000000 & 0.4289165 & 0.3178587 & ...       & 0.2960722 & 0.4231343 & 0.3521654 & 0.3638448 & 0.3106951 & 0.3282861 & 0.3336993 & 0.4082495 & 0.4106233 & 0.4090347\\\\\n",
       "\tE9 & 0.3118134 & 0.5171421 & 0.3499902 & 0.3352419 & 0.4220524 & 0.2599907 & 0.4500451 & 0.4289165 & 1.0000000 & 0.5666445 & ...       & 0.4504576 & 0.4877508 & 0.4006666 & 0.4229764 & 0.4176692 & 0.4878869 & 0.4090864 & 0.3510997 & 0.3344526 & 0.3160817\\\\\n",
       "\tE10 & 0.2200815 & 0.4058307 & 0.2824887 & 0.2200794 & 0.2974614 & 0.1957790 & 0.3334249 & 0.3178587 & 0.5666445 & 1.0000000 & ...       & 0.3033100 & 0.3568934 & 0.3000231 & 0.2867631 & 0.2967389 & 0.3633575 & 0.3026252 & 0.2763056 & 0.2147169 & 0.2292553\\\\\n",
       "\tE11 & 0.2459532 & 0.4581116 & 0.3189945 & 0.2802886 & 0.3613417 & 0.2117230 & 0.3886857 & 0.3103030 & 0.7474741 & 0.5248681 & ...       & 0.3737248 & 0.4393187 & 0.3466598 & 0.3218023 & 0.3630502 & 0.3985162 & 0.3266052 & 0.2763952 & 0.2359393 & 0.2135636\\\\\n",
       "\tE12 & 0.3352878 & 0.3665526 & 0.2218603 & 0.2967320 & 0.3252808 & 0.3109727 & 0.3841199 & 0.5765629 & 0.3523287 & 0.2489323 & ...       & 0.2763474 & 0.3633888 & 0.3211780 & 0.3325112 & 0.2562368 & 0.3027577 & 0.2735037 & 0.3643465 & 0.4042765 & 0.4064717\\\\\n",
       "\tE13 & 0.3222193 & 0.3441855 & 0.1919017 & 0.2659615 & 0.2936356 & 0.3117523 & 0.3713270 & 0.4631687 & 0.3131608 & 0.2262858 & ...       & 0.2491393 & 0.3200269 & 0.2825823 & 0.3286766 & 0.2113811 & 0.2525877 & 0.2729979 & 0.3392836 & 0.3867593 & 0.3551646\\\\\n",
       "\tE14 & 0.2765653 & 0.4501411 & 0.2761372 & 0.2904832 & 0.3451275 & 0.3081977 & 0.4305277 & 0.4443026 & 0.5389765 & 0.3792191 & ...       & 0.3317767 & 0.4227625 & 0.3335793 & 0.3372752 & 0.2987927 & 0.3327556 & 0.2725253 & 0.3069592 & 0.3176048 & 0.3137128\\\\\n",
       "\tE15 & 0.2908759 & 0.3359354 & 0.2436179 & 0.2681062 & 0.2710870 & 0.2761842 & 0.3579868 & 0.4580921 & 0.3841432 & 0.2615869 & ...       & 0.2610431 & 0.3396638 & 0.3155413 & 0.3074037 & 0.2557314 & 0.2588742 & 0.2625873 & 0.3169361 & 0.2967084 & 0.3394803\\\\\n",
       "\tE16 & 0.2961732 & 0.3514825 & 0.2199153 & 0.2545257 & 0.2887970 & 0.3106838 & 0.3690012 & 0.4812326 & 0.3645348 & 0.2827706 & ...       & 0.2772134 & 0.3677992 & 0.2788543 & 0.3516620 & 0.2456999 & 0.2853732 & 0.2740246 & 0.3625154 & 0.3419780 & 0.3414320\\\\\n",
       "\tE17 & 0.2888053 & 0.3411124 & 0.2228971 & 0.2476338 & 0.2983370 & 0.2765342 & 0.3369953 & 0.4676051 & 0.3296356 & 0.2672770 & ...       & 0.2729805 & 0.3056137 & 0.2647211 & 0.2666325 & 0.2325911 & 0.2331138 & 0.2224483 & 0.3147151 & 0.3039477 & 0.3027030\\\\\n",
       "\tE18 & 0.2983357 & 0.4444164 & 0.2818946 & 0.3110123 & 0.3479385 & 0.2925982 & 0.4254214 & 0.5044138 & 0.5834056 & 0.4516267 & ...       & 0.3456483 & 0.4178519 & 0.3788183 & 0.3825246 & 0.3321396 & 0.4046681 & 0.3874590 & 0.3338183 & 0.3603483 & 0.3575358\\\\\n",
       "\tE19 & 0.2742007 & 0.4013838 & 0.2957126 & 0.2491307 & 0.3127466 & 0.2651152 & 0.3680404 & 0.4108257 & 0.4776377 & 0.3442715 & ...       & 0.3019048 & 0.3788120 & 0.2972239 & 0.3250186 & 0.2496364 & 0.3016205 & 0.3035924 & 0.2712025 & 0.2912310 & 0.3112594\\\\\n",
       "\tE20 & 0.2690539 & 0.3260828 & 0.2297298 & 0.2362512 & 0.2926739 & 0.2449409 & 0.3153963 & 0.4086589 & 0.3395440 & 0.2661938 & ...       & 0.2659053 & 0.3504411 & 0.2658258 & 0.2853498 & 0.2241797 & 0.2349237 & 0.2055402 & 0.3270841 & 0.3233519 & 0.3181264\\\\\n",
       "\tE21 & 0.3344863 & 0.4213709 & 0.2626904 & 0.3034659 & 0.3575642 & 0.3448770 & 0.4192259 & 0.5604942 & 0.4442863 & 0.2867239 & ...       & 0.2902313 & 0.4132466 & 0.3332703 & 0.3754525 & 0.3263825 & 0.3031325 & 0.3341271 & 0.3822189 & 0.3855759 & 0.3741091\\\\\n",
       "\tE22 & 0.3631821 & 0.5202116 & 0.3470423 & 0.3925004 & 0.4249406 & 0.3790694 & 0.4995113 & 0.5801962 & 0.6007282 & 0.4313046 & ...       & 0.3849831 & 0.5007398 & 0.4181028 & 0.4194304 & 0.3692968 & 0.4001212 & 0.3844913 & 0.4268309 & 0.4281644 & 0.4075066\\\\\n",
       "\tE23 & 0.3044805 & 0.4628334 & 0.2830883 & 0.3134984 & 0.3814175 & 0.2959821 & 0.4660033 & 0.5364888 & 0.5207755 & 0.3858123 & ...       & 0.3338192 & 0.4733630 & 0.3456879 & 0.3487193 & 0.3254255 & 0.3791498 & 0.3511830 & 0.3727338 & 0.3628630 & 0.3775266\\\\\n",
       "\tE24 & 0.2751023 & 0.3674482 & 0.2458832 & 0.2547228 & 0.2893810 & 0.2799705 & 0.3721181 & 0.4769119 & 0.3558985 & 0.2482476 & ...       & 0.2801233 & 0.3880574 & 0.2979830 & 0.2750735 & 0.2289201 & 0.2277980 & 0.2529634 & 0.3209334 & 0.3122515 & 0.3398961\\\\\n",
       "\tE25 & 0.2474708 & 0.3811047 & 0.2920210 & 0.2445084 & 0.2812599 & 0.2193699 & 0.2609358 & 0.3514403 & 0.3885223 & 0.3259281 & ...       & 0.4198466 & 0.5592693 & 0.4185853 & 0.4139431 & 0.4141542 & 0.4042219 & 0.3355836 & 0.3920782 & 0.4011323 & 0.3985127\\\\\n",
       "\tE26 & 0.2232130 & 0.3501188 & 0.2518171 & 0.2283727 & 0.3014414 & 0.1967158 & 0.2746952 & 0.2960722 & 0.4504576 & 0.3033100 & ...       & 1.0000000 & 0.5532548 & 0.3440154 & 0.4030736 & 0.4359515 & 0.3785575 & 0.3903540 & 0.3420646 & 0.3560172 & 0.3366530\\\\\n",
       "\tE27 & 0.3072871 & 0.4622507 & 0.3015037 & 0.3085828 & 0.3612262 & 0.2697144 & 0.3671278 & 0.4231343 & 0.4877508 & 0.3568934 & ...       & 0.5532548 & 1.0000000 & 0.5064431 & 0.5002025 & 0.5214799 & 0.4886495 & 0.4837343 & 0.4881492 & 0.4572074 & 0.4742706\\\\\n",
       "\tE28 & 0.2893436 & 0.3845680 & 0.2463708 & 0.2728347 & 0.3135489 & 0.2370559 & 0.3288641 & 0.3521654 & 0.4006666 & 0.3000231 & ...       & 0.3440154 & 0.5064431 & 1.0000000 & 0.4291258 & 0.3963744 & 0.4354692 & 0.4289980 & 0.4084183 & 0.3751722 & 0.4164349\\\\\n",
       "\tE29 & 0.2280322 & 0.3397766 & 0.2497269 & 0.2401352 & 0.2969843 & 0.2336606 & 0.3179782 & 0.3638448 & 0.4229764 & 0.2867631 & ...       & 0.4030736 & 0.5002025 & 0.4291258 & 1.0000000 & 0.4345337 & 0.4330208 & 0.4530045 & 0.4525115 & 0.3931408 & 0.4052381\\\\\n",
       "\tE30 & 0.2227160 & 0.3632433 & 0.2857953 & 0.1979794 & 0.2405200 & 0.1937361 & 0.2876457 & 0.3106951 & 0.4176692 & 0.2967389 & ...       & 0.4359515 & 0.5214799 & 0.3963744 & 0.4345337 & 1.0000000 & 0.3772558 & 0.4185328 & 0.4121479 & 0.3339383 & 0.3132553\\\\\n",
       "\tE31 & 0.2020105 & 0.3348670 & 0.2136885 & 0.2477594 & 0.2702344 & 0.2048334 & 0.3232329 & 0.3282861 & 0.4878869 & 0.3633575 & ...       & 0.3785575 & 0.4886495 & 0.4354692 & 0.4330208 & 0.3772558 & 1.0000000 & 0.4788635 & 0.3960888 & 0.3692852 & 0.4211153\\\\\n",
       "\tE32 & 0.2276934 & 0.3440861 & 0.2151031 & 0.2362591 & 0.3016126 & 0.2522525 & 0.2938511 & 0.3336993 & 0.4090864 & 0.3026252 & ...       & 0.3903540 & 0.4837343 & 0.4289980 & 0.4530045 & 0.4185328 & 0.4788635 & 1.0000000 & 0.4081247 & 0.3626875 & 0.3856036\\\\\n",
       "\tD1 & 0.2611176 & 0.3394176 & 0.2257276 & 0.2756096 & 0.2851080 & 0.2463890 & 0.3262335 & 0.4082495 & 0.3510997 & 0.2763056 & ...       & 0.3420646 & 0.4881492 & 0.4084183 & 0.4525115 & 0.4121479 & 0.3960888 & 0.4081247 & 1.0000000 & 0.4488237 & 0.4284160\\\\\n",
       "\tD2 & 0.2932929 & 0.3105965 & 0.2154286 & 0.2929223 & 0.2861408 & 0.2683276 & 0.3114982 & 0.4106233 & 0.3344526 & 0.2147169 & ...       & 0.3560172 & 0.4572074 & 0.3751722 & 0.3931408 & 0.3339383 & 0.3692852 & 0.3626875 & 0.4488237 & 1.0000000 & 0.4417485\\\\\n",
       "\tD3 & 0.2596458 & 0.3063478 & 0.1924497 & 0.2303021 & 0.2886387 & 0.2801696 & 0.3178815 & 0.4090347 & 0.3160817 & 0.2292553 & ...       & 0.3366530 & 0.4742706 & 0.4164349 & 0.4052381 & 0.3132553 & 0.4211153 & 0.3856036 & 0.4284160 & 0.4417485 & 1.0000000\\\\\n",
       "\\end{tabular}\n"
      ],
      "text/markdown": [
       "\n",
       "| <!--/--> | E1 | E2 | E3 | E4 | E5 | E6 | E7 | E8 | E9 | E10 | ... | E26 | E27 | E28 | E29 | E30 | E31 | E32 | D1 | D2 | D3 |\n",
       "|---|---|---|---|---|---|---|---|---|---|---|---|---|---|---|---|---|---|---|---|---|---|\n",
       "| E1 | 1.0000000 | 0.4378247 | 0.2777784 | 0.3662899 | 0.3423167 | 0.3731715 | 0.2613640 | 0.3144545 | 0.3118134 | 0.2200815 | ...       | 0.2232130 | 0.3072871 | 0.2893436 | 0.2280322 | 0.2227160 | 0.2020105 | 0.2276934 | 0.2611176 | 0.2932929 | 0.2596458 |\n",
       "| E2 | 0.4378247 | 1.0000000 | 0.4914139 | 0.4487345 | 0.5295613 | 0.4137540 | 0.3737713 | 0.4067616 | 0.5171421 | 0.4058307 | ...       | 0.3501188 | 0.4622507 | 0.3845680 | 0.3397766 | 0.3632433 | 0.3348670 | 0.3440861 | 0.3394176 | 0.3105965 | 0.3063478 |\n",
       "| E3 | 0.2777784 | 0.4914139 | 1.0000000 | 0.3056772 | 0.3635121 | 0.3011548 | 0.2670427 | 0.2746161 | 0.3499902 | 0.2824887 | ...       | 0.2518171 | 0.3015037 | 0.2463708 | 0.2497269 | 0.2857953 | 0.2136885 | 0.2151031 | 0.2257276 | 0.2154286 | 0.1924497 |\n",
       "| E4 | 0.3662899 | 0.4487345 | 0.3056772 | 1.0000000 | 0.4146197 | 0.3346038 | 0.2793368 | 0.2820657 | 0.3352419 | 0.2200794 | ...       | 0.2283727 | 0.3085828 | 0.2728347 | 0.2401352 | 0.1979794 | 0.2477594 | 0.2362591 | 0.2756096 | 0.2929223 | 0.2303021 |\n",
       "| E5 | 0.3423167 | 0.5295613 | 0.3635121 | 0.4146197 | 1.0000000 | 0.3902814 | 0.2945199 | 0.3445179 | 0.4220524 | 0.2974614 | ...       | 0.3014414 | 0.3612262 | 0.3135489 | 0.2969843 | 0.2405200 | 0.2702344 | 0.3016126 | 0.2851080 | 0.2861408 | 0.2886387 |\n",
       "| E6 | 0.3731715 | 0.4137540 | 0.3011548 | 0.3346038 | 0.3902814 | 1.0000000 | 0.2778538 | 0.3220606 | 0.2599907 | 0.1957790 | ...       | 0.1967158 | 0.2697144 | 0.2370559 | 0.2336606 | 0.1937361 | 0.2048334 | 0.2522525 | 0.2463890 | 0.2683276 | 0.2801696 |\n",
       "| E7 | 0.2613640 | 0.3737713 | 0.2670427 | 0.2793368 | 0.2945199 | 0.2778538 | 1.0000000 | 0.4408888 | 0.4500451 | 0.3334249 | ...       | 0.2746952 | 0.3671278 | 0.3288641 | 0.3179782 | 0.2876457 | 0.3232329 | 0.2938511 | 0.3262335 | 0.3114982 | 0.3178815 |\n",
       "| E8 | 0.3144545 | 0.4067616 | 0.2746161 | 0.2820657 | 0.3445179 | 0.3220606 | 0.4408888 | 1.0000000 | 0.4289165 | 0.3178587 | ...       | 0.2960722 | 0.4231343 | 0.3521654 | 0.3638448 | 0.3106951 | 0.3282861 | 0.3336993 | 0.4082495 | 0.4106233 | 0.4090347 |\n",
       "| E9 | 0.3118134 | 0.5171421 | 0.3499902 | 0.3352419 | 0.4220524 | 0.2599907 | 0.4500451 | 0.4289165 | 1.0000000 | 0.5666445 | ...       | 0.4504576 | 0.4877508 | 0.4006666 | 0.4229764 | 0.4176692 | 0.4878869 | 0.4090864 | 0.3510997 | 0.3344526 | 0.3160817 |\n",
       "| E10 | 0.2200815 | 0.4058307 | 0.2824887 | 0.2200794 | 0.2974614 | 0.1957790 | 0.3334249 | 0.3178587 | 0.5666445 | 1.0000000 | ...       | 0.3033100 | 0.3568934 | 0.3000231 | 0.2867631 | 0.2967389 | 0.3633575 | 0.3026252 | 0.2763056 | 0.2147169 | 0.2292553 |\n",
       "| E11 | 0.2459532 | 0.4581116 | 0.3189945 | 0.2802886 | 0.3613417 | 0.2117230 | 0.3886857 | 0.3103030 | 0.7474741 | 0.5248681 | ...       | 0.3737248 | 0.4393187 | 0.3466598 | 0.3218023 | 0.3630502 | 0.3985162 | 0.3266052 | 0.2763952 | 0.2359393 | 0.2135636 |\n",
       "| E12 | 0.3352878 | 0.3665526 | 0.2218603 | 0.2967320 | 0.3252808 | 0.3109727 | 0.3841199 | 0.5765629 | 0.3523287 | 0.2489323 | ...       | 0.2763474 | 0.3633888 | 0.3211780 | 0.3325112 | 0.2562368 | 0.3027577 | 0.2735037 | 0.3643465 | 0.4042765 | 0.4064717 |\n",
       "| E13 | 0.3222193 | 0.3441855 | 0.1919017 | 0.2659615 | 0.2936356 | 0.3117523 | 0.3713270 | 0.4631687 | 0.3131608 | 0.2262858 | ...       | 0.2491393 | 0.3200269 | 0.2825823 | 0.3286766 | 0.2113811 | 0.2525877 | 0.2729979 | 0.3392836 | 0.3867593 | 0.3551646 |\n",
       "| E14 | 0.2765653 | 0.4501411 | 0.2761372 | 0.2904832 | 0.3451275 | 0.3081977 | 0.4305277 | 0.4443026 | 0.5389765 | 0.3792191 | ...       | 0.3317767 | 0.4227625 | 0.3335793 | 0.3372752 | 0.2987927 | 0.3327556 | 0.2725253 | 0.3069592 | 0.3176048 | 0.3137128 |\n",
       "| E15 | 0.2908759 | 0.3359354 | 0.2436179 | 0.2681062 | 0.2710870 | 0.2761842 | 0.3579868 | 0.4580921 | 0.3841432 | 0.2615869 | ...       | 0.2610431 | 0.3396638 | 0.3155413 | 0.3074037 | 0.2557314 | 0.2588742 | 0.2625873 | 0.3169361 | 0.2967084 | 0.3394803 |\n",
       "| E16 | 0.2961732 | 0.3514825 | 0.2199153 | 0.2545257 | 0.2887970 | 0.3106838 | 0.3690012 | 0.4812326 | 0.3645348 | 0.2827706 | ...       | 0.2772134 | 0.3677992 | 0.2788543 | 0.3516620 | 0.2456999 | 0.2853732 | 0.2740246 | 0.3625154 | 0.3419780 | 0.3414320 |\n",
       "| E17 | 0.2888053 | 0.3411124 | 0.2228971 | 0.2476338 | 0.2983370 | 0.2765342 | 0.3369953 | 0.4676051 | 0.3296356 | 0.2672770 | ...       | 0.2729805 | 0.3056137 | 0.2647211 | 0.2666325 | 0.2325911 | 0.2331138 | 0.2224483 | 0.3147151 | 0.3039477 | 0.3027030 |\n",
       "| E18 | 0.2983357 | 0.4444164 | 0.2818946 | 0.3110123 | 0.3479385 | 0.2925982 | 0.4254214 | 0.5044138 | 0.5834056 | 0.4516267 | ...       | 0.3456483 | 0.4178519 | 0.3788183 | 0.3825246 | 0.3321396 | 0.4046681 | 0.3874590 | 0.3338183 | 0.3603483 | 0.3575358 |\n",
       "| E19 | 0.2742007 | 0.4013838 | 0.2957126 | 0.2491307 | 0.3127466 | 0.2651152 | 0.3680404 | 0.4108257 | 0.4776377 | 0.3442715 | ...       | 0.3019048 | 0.3788120 | 0.2972239 | 0.3250186 | 0.2496364 | 0.3016205 | 0.3035924 | 0.2712025 | 0.2912310 | 0.3112594 |\n",
       "| E20 | 0.2690539 | 0.3260828 | 0.2297298 | 0.2362512 | 0.2926739 | 0.2449409 | 0.3153963 | 0.4086589 | 0.3395440 | 0.2661938 | ...       | 0.2659053 | 0.3504411 | 0.2658258 | 0.2853498 | 0.2241797 | 0.2349237 | 0.2055402 | 0.3270841 | 0.3233519 | 0.3181264 |\n",
       "| E21 | 0.3344863 | 0.4213709 | 0.2626904 | 0.3034659 | 0.3575642 | 0.3448770 | 0.4192259 | 0.5604942 | 0.4442863 | 0.2867239 | ...       | 0.2902313 | 0.4132466 | 0.3332703 | 0.3754525 | 0.3263825 | 0.3031325 | 0.3341271 | 0.3822189 | 0.3855759 | 0.3741091 |\n",
       "| E22 | 0.3631821 | 0.5202116 | 0.3470423 | 0.3925004 | 0.4249406 | 0.3790694 | 0.4995113 | 0.5801962 | 0.6007282 | 0.4313046 | ...       | 0.3849831 | 0.5007398 | 0.4181028 | 0.4194304 | 0.3692968 | 0.4001212 | 0.3844913 | 0.4268309 | 0.4281644 | 0.4075066 |\n",
       "| E23 | 0.3044805 | 0.4628334 | 0.2830883 | 0.3134984 | 0.3814175 | 0.2959821 | 0.4660033 | 0.5364888 | 0.5207755 | 0.3858123 | ...       | 0.3338192 | 0.4733630 | 0.3456879 | 0.3487193 | 0.3254255 | 0.3791498 | 0.3511830 | 0.3727338 | 0.3628630 | 0.3775266 |\n",
       "| E24 | 0.2751023 | 0.3674482 | 0.2458832 | 0.2547228 | 0.2893810 | 0.2799705 | 0.3721181 | 0.4769119 | 0.3558985 | 0.2482476 | ...       | 0.2801233 | 0.3880574 | 0.2979830 | 0.2750735 | 0.2289201 | 0.2277980 | 0.2529634 | 0.3209334 | 0.3122515 | 0.3398961 |\n",
       "| E25 | 0.2474708 | 0.3811047 | 0.2920210 | 0.2445084 | 0.2812599 | 0.2193699 | 0.2609358 | 0.3514403 | 0.3885223 | 0.3259281 | ...       | 0.4198466 | 0.5592693 | 0.4185853 | 0.4139431 | 0.4141542 | 0.4042219 | 0.3355836 | 0.3920782 | 0.4011323 | 0.3985127 |\n",
       "| E26 | 0.2232130 | 0.3501188 | 0.2518171 | 0.2283727 | 0.3014414 | 0.1967158 | 0.2746952 | 0.2960722 | 0.4504576 | 0.3033100 | ...       | 1.0000000 | 0.5532548 | 0.3440154 | 0.4030736 | 0.4359515 | 0.3785575 | 0.3903540 | 0.3420646 | 0.3560172 | 0.3366530 |\n",
       "| E27 | 0.3072871 | 0.4622507 | 0.3015037 | 0.3085828 | 0.3612262 | 0.2697144 | 0.3671278 | 0.4231343 | 0.4877508 | 0.3568934 | ...       | 0.5532548 | 1.0000000 | 0.5064431 | 0.5002025 | 0.5214799 | 0.4886495 | 0.4837343 | 0.4881492 | 0.4572074 | 0.4742706 |\n",
       "| E28 | 0.2893436 | 0.3845680 | 0.2463708 | 0.2728347 | 0.3135489 | 0.2370559 | 0.3288641 | 0.3521654 | 0.4006666 | 0.3000231 | ...       | 0.3440154 | 0.5064431 | 1.0000000 | 0.4291258 | 0.3963744 | 0.4354692 | 0.4289980 | 0.4084183 | 0.3751722 | 0.4164349 |\n",
       "| E29 | 0.2280322 | 0.3397766 | 0.2497269 | 0.2401352 | 0.2969843 | 0.2336606 | 0.3179782 | 0.3638448 | 0.4229764 | 0.2867631 | ...       | 0.4030736 | 0.5002025 | 0.4291258 | 1.0000000 | 0.4345337 | 0.4330208 | 0.4530045 | 0.4525115 | 0.3931408 | 0.4052381 |\n",
       "| E30 | 0.2227160 | 0.3632433 | 0.2857953 | 0.1979794 | 0.2405200 | 0.1937361 | 0.2876457 | 0.3106951 | 0.4176692 | 0.2967389 | ...       | 0.4359515 | 0.5214799 | 0.3963744 | 0.4345337 | 1.0000000 | 0.3772558 | 0.4185328 | 0.4121479 | 0.3339383 | 0.3132553 |\n",
       "| E31 | 0.2020105 | 0.3348670 | 0.2136885 | 0.2477594 | 0.2702344 | 0.2048334 | 0.3232329 | 0.3282861 | 0.4878869 | 0.3633575 | ...       | 0.3785575 | 0.4886495 | 0.4354692 | 0.4330208 | 0.3772558 | 1.0000000 | 0.4788635 | 0.3960888 | 0.3692852 | 0.4211153 |\n",
       "| E32 | 0.2276934 | 0.3440861 | 0.2151031 | 0.2362591 | 0.3016126 | 0.2522525 | 0.2938511 | 0.3336993 | 0.4090864 | 0.3026252 | ...       | 0.3903540 | 0.4837343 | 0.4289980 | 0.4530045 | 0.4185328 | 0.4788635 | 1.0000000 | 0.4081247 | 0.3626875 | 0.3856036 |\n",
       "| D1 | 0.2611176 | 0.3394176 | 0.2257276 | 0.2756096 | 0.2851080 | 0.2463890 | 0.3262335 | 0.4082495 | 0.3510997 | 0.2763056 | ...       | 0.3420646 | 0.4881492 | 0.4084183 | 0.4525115 | 0.4121479 | 0.3960888 | 0.4081247 | 1.0000000 | 0.4488237 | 0.4284160 |\n",
       "| D2 | 0.2932929 | 0.3105965 | 0.2154286 | 0.2929223 | 0.2861408 | 0.2683276 | 0.3114982 | 0.4106233 | 0.3344526 | 0.2147169 | ...       | 0.3560172 | 0.4572074 | 0.3751722 | 0.3931408 | 0.3339383 | 0.3692852 | 0.3626875 | 0.4488237 | 1.0000000 | 0.4417485 |\n",
       "| D3 | 0.2596458 | 0.3063478 | 0.1924497 | 0.2303021 | 0.2886387 | 0.2801696 | 0.3178815 | 0.4090347 | 0.3160817 | 0.2292553 | ...       | 0.3366530 | 0.4742706 | 0.4164349 | 0.4052381 | 0.3132553 | 0.4211153 | 0.3856036 | 0.4284160 | 0.4417485 | 1.0000000 |\n",
       "\n"
      ],
      "text/plain": [
       "    E1        E2        E3        E4        E5        E6        E7       \n",
       "E1  1.0000000 0.4378247 0.2777784 0.3662899 0.3423167 0.3731715 0.2613640\n",
       "E2  0.4378247 1.0000000 0.4914139 0.4487345 0.5295613 0.4137540 0.3737713\n",
       "E3  0.2777784 0.4914139 1.0000000 0.3056772 0.3635121 0.3011548 0.2670427\n",
       "E4  0.3662899 0.4487345 0.3056772 1.0000000 0.4146197 0.3346038 0.2793368\n",
       "E5  0.3423167 0.5295613 0.3635121 0.4146197 1.0000000 0.3902814 0.2945199\n",
       "E6  0.3731715 0.4137540 0.3011548 0.3346038 0.3902814 1.0000000 0.2778538\n",
       "E7  0.2613640 0.3737713 0.2670427 0.2793368 0.2945199 0.2778538 1.0000000\n",
       "E8  0.3144545 0.4067616 0.2746161 0.2820657 0.3445179 0.3220606 0.4408888\n",
       "E9  0.3118134 0.5171421 0.3499902 0.3352419 0.4220524 0.2599907 0.4500451\n",
       "E10 0.2200815 0.4058307 0.2824887 0.2200794 0.2974614 0.1957790 0.3334249\n",
       "E11 0.2459532 0.4581116 0.3189945 0.2802886 0.3613417 0.2117230 0.3886857\n",
       "E12 0.3352878 0.3665526 0.2218603 0.2967320 0.3252808 0.3109727 0.3841199\n",
       "E13 0.3222193 0.3441855 0.1919017 0.2659615 0.2936356 0.3117523 0.3713270\n",
       "E14 0.2765653 0.4501411 0.2761372 0.2904832 0.3451275 0.3081977 0.4305277\n",
       "E15 0.2908759 0.3359354 0.2436179 0.2681062 0.2710870 0.2761842 0.3579868\n",
       "E16 0.2961732 0.3514825 0.2199153 0.2545257 0.2887970 0.3106838 0.3690012\n",
       "E17 0.2888053 0.3411124 0.2228971 0.2476338 0.2983370 0.2765342 0.3369953\n",
       "E18 0.2983357 0.4444164 0.2818946 0.3110123 0.3479385 0.2925982 0.4254214\n",
       "E19 0.2742007 0.4013838 0.2957126 0.2491307 0.3127466 0.2651152 0.3680404\n",
       "E20 0.2690539 0.3260828 0.2297298 0.2362512 0.2926739 0.2449409 0.3153963\n",
       "E21 0.3344863 0.4213709 0.2626904 0.3034659 0.3575642 0.3448770 0.4192259\n",
       "E22 0.3631821 0.5202116 0.3470423 0.3925004 0.4249406 0.3790694 0.4995113\n",
       "E23 0.3044805 0.4628334 0.2830883 0.3134984 0.3814175 0.2959821 0.4660033\n",
       "E24 0.2751023 0.3674482 0.2458832 0.2547228 0.2893810 0.2799705 0.3721181\n",
       "E25 0.2474708 0.3811047 0.2920210 0.2445084 0.2812599 0.2193699 0.2609358\n",
       "E26 0.2232130 0.3501188 0.2518171 0.2283727 0.3014414 0.1967158 0.2746952\n",
       "E27 0.3072871 0.4622507 0.3015037 0.3085828 0.3612262 0.2697144 0.3671278\n",
       "E28 0.2893436 0.3845680 0.2463708 0.2728347 0.3135489 0.2370559 0.3288641\n",
       "E29 0.2280322 0.3397766 0.2497269 0.2401352 0.2969843 0.2336606 0.3179782\n",
       "E30 0.2227160 0.3632433 0.2857953 0.1979794 0.2405200 0.1937361 0.2876457\n",
       "E31 0.2020105 0.3348670 0.2136885 0.2477594 0.2702344 0.2048334 0.3232329\n",
       "E32 0.2276934 0.3440861 0.2151031 0.2362591 0.3016126 0.2522525 0.2938511\n",
       "D1  0.2611176 0.3394176 0.2257276 0.2756096 0.2851080 0.2463890 0.3262335\n",
       "D2  0.2932929 0.3105965 0.2154286 0.2929223 0.2861408 0.2683276 0.3114982\n",
       "D3  0.2596458 0.3063478 0.1924497 0.2303021 0.2886387 0.2801696 0.3178815\n",
       "    E8        E9        E10       ... E26       E27       E28       E29      \n",
       "E1  0.3144545 0.3118134 0.2200815 ... 0.2232130 0.3072871 0.2893436 0.2280322\n",
       "E2  0.4067616 0.5171421 0.4058307 ... 0.3501188 0.4622507 0.3845680 0.3397766\n",
       "E3  0.2746161 0.3499902 0.2824887 ... 0.2518171 0.3015037 0.2463708 0.2497269\n",
       "E4  0.2820657 0.3352419 0.2200794 ... 0.2283727 0.3085828 0.2728347 0.2401352\n",
       "E5  0.3445179 0.4220524 0.2974614 ... 0.3014414 0.3612262 0.3135489 0.2969843\n",
       "E6  0.3220606 0.2599907 0.1957790 ... 0.1967158 0.2697144 0.2370559 0.2336606\n",
       "E7  0.4408888 0.4500451 0.3334249 ... 0.2746952 0.3671278 0.3288641 0.3179782\n",
       "E8  1.0000000 0.4289165 0.3178587 ... 0.2960722 0.4231343 0.3521654 0.3638448\n",
       "E9  0.4289165 1.0000000 0.5666445 ... 0.4504576 0.4877508 0.4006666 0.4229764\n",
       "E10 0.3178587 0.5666445 1.0000000 ... 0.3033100 0.3568934 0.3000231 0.2867631\n",
       "E11 0.3103030 0.7474741 0.5248681 ... 0.3737248 0.4393187 0.3466598 0.3218023\n",
       "E12 0.5765629 0.3523287 0.2489323 ... 0.2763474 0.3633888 0.3211780 0.3325112\n",
       "E13 0.4631687 0.3131608 0.2262858 ... 0.2491393 0.3200269 0.2825823 0.3286766\n",
       "E14 0.4443026 0.5389765 0.3792191 ... 0.3317767 0.4227625 0.3335793 0.3372752\n",
       "E15 0.4580921 0.3841432 0.2615869 ... 0.2610431 0.3396638 0.3155413 0.3074037\n",
       "E16 0.4812326 0.3645348 0.2827706 ... 0.2772134 0.3677992 0.2788543 0.3516620\n",
       "E17 0.4676051 0.3296356 0.2672770 ... 0.2729805 0.3056137 0.2647211 0.2666325\n",
       "E18 0.5044138 0.5834056 0.4516267 ... 0.3456483 0.4178519 0.3788183 0.3825246\n",
       "E19 0.4108257 0.4776377 0.3442715 ... 0.3019048 0.3788120 0.2972239 0.3250186\n",
       "E20 0.4086589 0.3395440 0.2661938 ... 0.2659053 0.3504411 0.2658258 0.2853498\n",
       "E21 0.5604942 0.4442863 0.2867239 ... 0.2902313 0.4132466 0.3332703 0.3754525\n",
       "E22 0.5801962 0.6007282 0.4313046 ... 0.3849831 0.5007398 0.4181028 0.4194304\n",
       "E23 0.5364888 0.5207755 0.3858123 ... 0.3338192 0.4733630 0.3456879 0.3487193\n",
       "E24 0.4769119 0.3558985 0.2482476 ... 0.2801233 0.3880574 0.2979830 0.2750735\n",
       "E25 0.3514403 0.3885223 0.3259281 ... 0.4198466 0.5592693 0.4185853 0.4139431\n",
       "E26 0.2960722 0.4504576 0.3033100 ... 1.0000000 0.5532548 0.3440154 0.4030736\n",
       "E27 0.4231343 0.4877508 0.3568934 ... 0.5532548 1.0000000 0.5064431 0.5002025\n",
       "E28 0.3521654 0.4006666 0.3000231 ... 0.3440154 0.5064431 1.0000000 0.4291258\n",
       "E29 0.3638448 0.4229764 0.2867631 ... 0.4030736 0.5002025 0.4291258 1.0000000\n",
       "E30 0.3106951 0.4176692 0.2967389 ... 0.4359515 0.5214799 0.3963744 0.4345337\n",
       "E31 0.3282861 0.4878869 0.3633575 ... 0.3785575 0.4886495 0.4354692 0.4330208\n",
       "E32 0.3336993 0.4090864 0.3026252 ... 0.3903540 0.4837343 0.4289980 0.4530045\n",
       "D1  0.4082495 0.3510997 0.2763056 ... 0.3420646 0.4881492 0.4084183 0.4525115\n",
       "D2  0.4106233 0.3344526 0.2147169 ... 0.3560172 0.4572074 0.3751722 0.3931408\n",
       "D3  0.4090347 0.3160817 0.2292553 ... 0.3366530 0.4742706 0.4164349 0.4052381\n",
       "    E30       E31       E32       D1        D2        D3       \n",
       "E1  0.2227160 0.2020105 0.2276934 0.2611176 0.2932929 0.2596458\n",
       "E2  0.3632433 0.3348670 0.3440861 0.3394176 0.3105965 0.3063478\n",
       "E3  0.2857953 0.2136885 0.2151031 0.2257276 0.2154286 0.1924497\n",
       "E4  0.1979794 0.2477594 0.2362591 0.2756096 0.2929223 0.2303021\n",
       "E5  0.2405200 0.2702344 0.3016126 0.2851080 0.2861408 0.2886387\n",
       "E6  0.1937361 0.2048334 0.2522525 0.2463890 0.2683276 0.2801696\n",
       "E7  0.2876457 0.3232329 0.2938511 0.3262335 0.3114982 0.3178815\n",
       "E8  0.3106951 0.3282861 0.3336993 0.4082495 0.4106233 0.4090347\n",
       "E9  0.4176692 0.4878869 0.4090864 0.3510997 0.3344526 0.3160817\n",
       "E10 0.2967389 0.3633575 0.3026252 0.2763056 0.2147169 0.2292553\n",
       "E11 0.3630502 0.3985162 0.3266052 0.2763952 0.2359393 0.2135636\n",
       "E12 0.2562368 0.3027577 0.2735037 0.3643465 0.4042765 0.4064717\n",
       "E13 0.2113811 0.2525877 0.2729979 0.3392836 0.3867593 0.3551646\n",
       "E14 0.2987927 0.3327556 0.2725253 0.3069592 0.3176048 0.3137128\n",
       "E15 0.2557314 0.2588742 0.2625873 0.3169361 0.2967084 0.3394803\n",
       "E16 0.2456999 0.2853732 0.2740246 0.3625154 0.3419780 0.3414320\n",
       "E17 0.2325911 0.2331138 0.2224483 0.3147151 0.3039477 0.3027030\n",
       "E18 0.3321396 0.4046681 0.3874590 0.3338183 0.3603483 0.3575358\n",
       "E19 0.2496364 0.3016205 0.3035924 0.2712025 0.2912310 0.3112594\n",
       "E20 0.2241797 0.2349237 0.2055402 0.3270841 0.3233519 0.3181264\n",
       "E21 0.3263825 0.3031325 0.3341271 0.3822189 0.3855759 0.3741091\n",
       "E22 0.3692968 0.4001212 0.3844913 0.4268309 0.4281644 0.4075066\n",
       "E23 0.3254255 0.3791498 0.3511830 0.3727338 0.3628630 0.3775266\n",
       "E24 0.2289201 0.2277980 0.2529634 0.3209334 0.3122515 0.3398961\n",
       "E25 0.4141542 0.4042219 0.3355836 0.3920782 0.4011323 0.3985127\n",
       "E26 0.4359515 0.3785575 0.3903540 0.3420646 0.3560172 0.3366530\n",
       "E27 0.5214799 0.4886495 0.4837343 0.4881492 0.4572074 0.4742706\n",
       "E28 0.3963744 0.4354692 0.4289980 0.4084183 0.3751722 0.4164349\n",
       "E29 0.4345337 0.4330208 0.4530045 0.4525115 0.3931408 0.4052381\n",
       "E30 1.0000000 0.3772558 0.4185328 0.4121479 0.3339383 0.3132553\n",
       "E31 0.3772558 1.0000000 0.4788635 0.3960888 0.3692852 0.4211153\n",
       "E32 0.4185328 0.4788635 1.0000000 0.4081247 0.3626875 0.3856036\n",
       "D1  0.4121479 0.3960888 0.4081247 1.0000000 0.4488237 0.4284160\n",
       "D2  0.3339383 0.3692852 0.3626875 0.4488237 1.0000000 0.4417485\n",
       "D3  0.3132553 0.4211153 0.3856036 0.4284160 0.4417485 1.0000000"
      ]
     },
     "metadata": {},
     "output_type": "display_data"
    }
   ],
   "source": [
    "if(!require(caret)){install.packages(\"caret\")}\n",
    "library(caret)\n",
    "cor_matr = cor(data)\n",
    "print(mode(cor_matr))\n",
    "cor_matr"
   ]
  },
  {
   "cell_type": "code",
   "execution_count": 33,
   "metadata": {
    "ExecuteTime": {
     "end_time": "2019-03-07T10:46:27.976169Z",
     "start_time": "2019-03-07T10:46:27.816Z"
    }
   },
   "outputs": [
    {
     "data": {
      "text/html": [],
      "text/latex": [],
      "text/markdown": [],
      "text/plain": [
       "integer(0)"
      ]
     },
     "metadata": {},
     "output_type": "display_data"
    }
   ],
   "source": [
    "#调用findCorrelation函数找到关联度超过0.75的属性\n",
    "highly_correlations = findCorrelation(cor_matr,cutoff = 0.75)\n",
    "highly_correlations"
   ]
  },
  {
   "cell_type": "code",
   "execution_count": 34,
   "metadata": {
    "ExecuteTime": {
     "end_time": "2019-03-07T10:46:29.494420Z",
     "start_time": "2019-03-07T10:46:28.831Z"
    }
   },
   "outputs": [
    {
     "name": "stderr",
     "output_type": "stream",
     "text": [
      "Loading required package: Hmisc\n",
      "Loading required package: survival\n",
      "\n",
      "Attaching package: 'survival'\n",
      "\n",
      "The following object is masked from 'package:caret':\n",
      "\n",
      "    cluster\n",
      "\n",
      "Loading required package: Formula\n",
      "\n",
      "Attaching package: 'Hmisc'\n",
      "\n",
      "The following object is masked from 'package:psych':\n",
      "\n",
      "    describe\n",
      "\n",
      "The following objects are masked from 'package:base':\n",
      "\n",
      "    format.pval, units\n",
      "\n"
     ]
    },
    {
     "data": {
      "text/plain": [
       "      E1   E2   E3   E4   E5   E6   E7   E8   E9  E10  E11  E12  E13  E14  E15\n",
       "E1  1.00 0.44 0.28 0.37 0.34 0.37 0.26 0.31 0.31 0.22 0.25 0.34 0.32 0.28 0.29\n",
       "E2  0.44 1.00 0.49 0.45 0.53 0.41 0.37 0.41 0.52 0.41 0.46 0.37 0.34 0.45 0.34\n",
       "E3  0.28 0.49 1.00 0.31 0.36 0.30 0.27 0.27 0.35 0.28 0.32 0.22 0.19 0.28 0.24\n",
       "E4  0.37 0.45 0.31 1.00 0.41 0.33 0.28 0.28 0.34 0.22 0.28 0.30 0.27 0.29 0.27\n",
       "E5  0.34 0.53 0.36 0.41 1.00 0.39 0.29 0.34 0.42 0.30 0.36 0.33 0.29 0.35 0.27\n",
       "E6  0.37 0.41 0.30 0.33 0.39 1.00 0.28 0.32 0.26 0.20 0.21 0.31 0.31 0.31 0.28\n",
       "E7  0.26 0.37 0.27 0.28 0.29 0.28 1.00 0.44 0.45 0.33 0.39 0.38 0.37 0.43 0.36\n",
       "E8  0.31 0.41 0.27 0.28 0.34 0.32 0.44 1.00 0.43 0.32 0.31 0.58 0.46 0.44 0.46\n",
       "E9  0.31 0.52 0.35 0.34 0.42 0.26 0.45 0.43 1.00 0.57 0.75 0.35 0.31 0.54 0.38\n",
       "E10 0.22 0.41 0.28 0.22 0.30 0.20 0.33 0.32 0.57 1.00 0.52 0.25 0.23 0.38 0.26\n",
       "E11 0.25 0.46 0.32 0.28 0.36 0.21 0.39 0.31 0.75 0.52 1.00 0.24 0.20 0.43 0.29\n",
       "E12 0.34 0.37 0.22 0.30 0.33 0.31 0.38 0.58 0.35 0.25 0.24 1.00 0.54 0.45 0.44\n",
       "E13 0.32 0.34 0.19 0.27 0.29 0.31 0.37 0.46 0.31 0.23 0.20 0.54 1.00 0.38 0.38\n",
       "E14 0.28 0.45 0.28 0.29 0.35 0.31 0.43 0.44 0.54 0.38 0.43 0.45 0.38 1.00 0.39\n",
       "E15 0.29 0.34 0.24 0.27 0.27 0.28 0.36 0.46 0.38 0.26 0.29 0.44 0.38 0.39 1.00\n",
       "E16 0.30 0.35 0.22 0.25 0.29 0.31 0.37 0.48 0.36 0.28 0.28 0.46 0.40 0.37 0.40\n",
       "E17 0.29 0.34 0.22 0.25 0.30 0.28 0.34 0.47 0.33 0.27 0.25 0.46 0.41 0.39 0.39\n",
       "E18 0.30 0.44 0.28 0.31 0.35 0.29 0.43 0.50 0.58 0.45 0.49 0.45 0.43 0.49 0.41\n",
       "E19 0.27 0.40 0.30 0.25 0.31 0.27 0.37 0.41 0.48 0.34 0.38 0.38 0.36 0.41 0.36\n",
       "E20 0.27 0.33 0.23 0.24 0.29 0.24 0.32 0.41 0.34 0.27 0.26 0.44 0.40 0.40 0.35\n",
       "E21 0.33 0.42 0.26 0.30 0.36 0.34 0.42 0.56 0.44 0.29 0.35 0.56 0.51 0.47 0.45\n",
       "E22 0.36 0.52 0.35 0.39 0.42 0.38 0.50 0.58 0.60 0.43 0.51 0.54 0.47 0.54 0.48\n",
       "E23 0.30 0.46 0.28 0.31 0.38 0.30 0.47 0.54 0.52 0.39 0.45 0.52 0.45 0.51 0.46\n",
       "E24 0.28 0.37 0.25 0.25 0.29 0.28 0.37 0.48 0.36 0.25 0.27 0.47 0.38 0.41 0.40\n",
       "E25 0.25 0.38 0.29 0.24 0.28 0.22 0.26 0.35 0.39 0.33 0.35 0.32 0.27 0.34 0.26\n",
       "E26 0.22 0.35 0.25 0.23 0.30 0.20 0.27 0.30 0.45 0.30 0.37 0.28 0.25 0.33 0.26\n",
       "E27 0.31 0.46 0.30 0.31 0.36 0.27 0.37 0.42 0.49 0.36 0.44 0.36 0.32 0.42 0.34\n",
       "E28 0.29 0.38 0.25 0.27 0.31 0.24 0.33 0.35 0.40 0.30 0.35 0.32 0.28 0.33 0.32\n",
       "E29 0.23 0.34 0.25 0.24 0.30 0.23 0.32 0.36 0.42 0.29 0.32 0.33 0.33 0.34 0.31\n",
       "E30 0.22 0.36 0.29 0.20 0.24 0.19 0.29 0.31 0.42 0.30 0.36 0.26 0.21 0.30 0.26\n",
       "E31 0.20 0.33 0.21 0.25 0.27 0.20 0.32 0.33 0.49 0.36 0.40 0.30 0.25 0.33 0.26\n",
       "E32 0.23 0.34 0.22 0.24 0.30 0.25 0.29 0.33 0.41 0.30 0.33 0.27 0.27 0.27 0.26\n",
       "D1  0.26 0.34 0.23 0.28 0.29 0.25 0.33 0.41 0.35 0.28 0.28 0.36 0.34 0.31 0.32\n",
       "D2  0.29 0.31 0.22 0.29 0.29 0.27 0.31 0.41 0.33 0.21 0.24 0.40 0.39 0.32 0.30\n",
       "D3  0.26 0.31 0.19 0.23 0.29 0.28 0.32 0.41 0.32 0.23 0.21 0.41 0.36 0.31 0.34\n",
       "     E16  E17  E18  E19  E20  E21  E22  E23  E24  E25  E26  E27  E28  E29  E30\n",
       "E1  0.30 0.29 0.30 0.27 0.27 0.33 0.36 0.30 0.28 0.25 0.22 0.31 0.29 0.23 0.22\n",
       "E2  0.35 0.34 0.44 0.40 0.33 0.42 0.52 0.46 0.37 0.38 0.35 0.46 0.38 0.34 0.36\n",
       "E3  0.22 0.22 0.28 0.30 0.23 0.26 0.35 0.28 0.25 0.29 0.25 0.30 0.25 0.25 0.29\n",
       "E4  0.25 0.25 0.31 0.25 0.24 0.30 0.39 0.31 0.25 0.24 0.23 0.31 0.27 0.24 0.20\n",
       "E5  0.29 0.30 0.35 0.31 0.29 0.36 0.42 0.38 0.29 0.28 0.30 0.36 0.31 0.30 0.24\n",
       "E6  0.31 0.28 0.29 0.27 0.24 0.34 0.38 0.30 0.28 0.22 0.20 0.27 0.24 0.23 0.19\n",
       "E7  0.37 0.34 0.43 0.37 0.32 0.42 0.50 0.47 0.37 0.26 0.27 0.37 0.33 0.32 0.29\n",
       "E8  0.48 0.47 0.50 0.41 0.41 0.56 0.58 0.54 0.48 0.35 0.30 0.42 0.35 0.36 0.31\n",
       "E9  0.36 0.33 0.58 0.48 0.34 0.44 0.60 0.52 0.36 0.39 0.45 0.49 0.40 0.42 0.42\n",
       "E10 0.28 0.27 0.45 0.34 0.27 0.29 0.43 0.39 0.25 0.33 0.30 0.36 0.30 0.29 0.30\n",
       "E11 0.28 0.25 0.49 0.38 0.26 0.35 0.51 0.45 0.27 0.35 0.37 0.44 0.35 0.32 0.36\n",
       "E12 0.46 0.46 0.45 0.38 0.44 0.56 0.54 0.52 0.47 0.32 0.28 0.36 0.32 0.33 0.26\n",
       "E13 0.40 0.41 0.43 0.36 0.40 0.51 0.47 0.45 0.38 0.27 0.25 0.32 0.28 0.33 0.21\n",
       "E14 0.37 0.39 0.49 0.41 0.40 0.47 0.54 0.51 0.41 0.34 0.33 0.42 0.33 0.34 0.30\n",
       "E15 0.40 0.39 0.41 0.36 0.35 0.45 0.48 0.46 0.40 0.26 0.26 0.34 0.32 0.31 0.26\n",
       "E16 1.00 0.42 0.45 0.35 0.36 0.48 0.47 0.42 0.38 0.32 0.28 0.37 0.28 0.35 0.25\n",
       "E17 0.42 1.00 0.41 0.35 0.38 0.45 0.48 0.43 0.41 0.26 0.27 0.31 0.26 0.27 0.23\n",
       "E18 0.45 0.41 1.00 0.46 0.36 0.49 0.60 0.53 0.39 0.33 0.35 0.42 0.38 0.38 0.33\n",
       "E19 0.35 0.35 0.46 1.00 0.34 0.42 0.49 0.46 0.33 0.28 0.30 0.38 0.30 0.33 0.25\n",
       "E20 0.36 0.38 0.36 0.34 1.00 0.44 0.48 0.46 0.37 0.29 0.27 0.35 0.27 0.29 0.22\n",
       "E21 0.48 0.45 0.49 0.42 0.44 1.00 0.60 0.52 0.48 0.36 0.29 0.41 0.33 0.38 0.33\n",
       "E22 0.47 0.48 0.60 0.49 0.48 0.60 1.00 0.59 0.49 0.41 0.38 0.50 0.42 0.42 0.37\n",
       "E23 0.42 0.43 0.53 0.46 0.46 0.52 0.59 1.00 0.48 0.36 0.33 0.47 0.35 0.35 0.33\n",
       "E24 0.38 0.41 0.39 0.33 0.37 0.48 0.49 0.48 1.00 0.31 0.28 0.39 0.30 0.28 0.23\n",
       "E25 0.32 0.26 0.33 0.28 0.29 0.36 0.41 0.36 0.31 1.00 0.42 0.56 0.42 0.41 0.41\n",
       "E26 0.28 0.27 0.35 0.30 0.27 0.29 0.38 0.33 0.28 0.42 1.00 0.55 0.34 0.40 0.44\n",
       "E27 0.37 0.31 0.42 0.38 0.35 0.41 0.50 0.47 0.39 0.56 0.55 1.00 0.51 0.50 0.52\n",
       "E28 0.28 0.26 0.38 0.30 0.27 0.33 0.42 0.35 0.30 0.42 0.34 0.51 1.00 0.43 0.40\n",
       "E29 0.35 0.27 0.38 0.33 0.29 0.38 0.42 0.35 0.28 0.41 0.40 0.50 0.43 1.00 0.43\n",
       "E30 0.25 0.23 0.33 0.25 0.22 0.33 0.37 0.33 0.23 0.41 0.44 0.52 0.40 0.43 1.00\n",
       "E31 0.29 0.23 0.40 0.30 0.23 0.30 0.40 0.38 0.23 0.40 0.38 0.49 0.44 0.43 0.38\n",
       "E32 0.27 0.22 0.39 0.30 0.21 0.33 0.38 0.35 0.25 0.34 0.39 0.48 0.43 0.45 0.42\n",
       "D1  0.36 0.31 0.33 0.27 0.33 0.38 0.43 0.37 0.32 0.39 0.34 0.49 0.41 0.45 0.41\n",
       "D2  0.34 0.30 0.36 0.29 0.32 0.39 0.43 0.36 0.31 0.40 0.36 0.46 0.38 0.39 0.33\n",
       "D3  0.34 0.30 0.36 0.31 0.32 0.37 0.41 0.38 0.34 0.40 0.34 0.47 0.42 0.41 0.31\n",
       "     E31  E32   D1   D2   D3\n",
       "E1  0.20 0.23 0.26 0.29 0.26\n",
       "E2  0.33 0.34 0.34 0.31 0.31\n",
       "E3  0.21 0.22 0.23 0.22 0.19\n",
       "E4  0.25 0.24 0.28 0.29 0.23\n",
       "E5  0.27 0.30 0.29 0.29 0.29\n",
       "E6  0.20 0.25 0.25 0.27 0.28\n",
       "E7  0.32 0.29 0.33 0.31 0.32\n",
       "E8  0.33 0.33 0.41 0.41 0.41\n",
       "E9  0.49 0.41 0.35 0.33 0.32\n",
       "E10 0.36 0.30 0.28 0.21 0.23\n",
       "E11 0.40 0.33 0.28 0.24 0.21\n",
       "E12 0.30 0.27 0.36 0.40 0.41\n",
       "E13 0.25 0.27 0.34 0.39 0.36\n",
       "E14 0.33 0.27 0.31 0.32 0.31\n",
       "E15 0.26 0.26 0.32 0.30 0.34\n",
       "E16 0.29 0.27 0.36 0.34 0.34\n",
       "E17 0.23 0.22 0.31 0.30 0.30\n",
       "E18 0.40 0.39 0.33 0.36 0.36\n",
       "E19 0.30 0.30 0.27 0.29 0.31\n",
       "E20 0.23 0.21 0.33 0.32 0.32\n",
       "E21 0.30 0.33 0.38 0.39 0.37\n",
       "E22 0.40 0.38 0.43 0.43 0.41\n",
       "E23 0.38 0.35 0.37 0.36 0.38\n",
       "E24 0.23 0.25 0.32 0.31 0.34\n",
       "E25 0.40 0.34 0.39 0.40 0.40\n",
       "E26 0.38 0.39 0.34 0.36 0.34\n",
       "E27 0.49 0.48 0.49 0.46 0.47\n",
       "E28 0.44 0.43 0.41 0.38 0.42\n",
       "E29 0.43 0.45 0.45 0.39 0.41\n",
       "E30 0.38 0.42 0.41 0.33 0.31\n",
       "E31 1.00 0.48 0.40 0.37 0.42\n",
       "E32 0.48 1.00 0.41 0.36 0.39\n",
       "D1  0.40 0.41 1.00 0.45 0.43\n",
       "D2  0.37 0.36 0.45 1.00 0.44\n",
       "D3  0.42 0.39 0.43 0.44 1.00\n",
       "\n",
       "n= 1656 \n",
       "\n",
       "\n",
       "P\n",
       "    E1 E2 E3 E4 E5 E6 E7 E8 E9 E10 E11 E12 E13 E14 E15 E16 E17 E18 E19 E20 E21\n",
       "E1      0  0  0  0  0  0  0  0  0   0   0   0   0   0   0   0   0   0   0   0 \n",
       "E2   0     0  0  0  0  0  0  0  0   0   0   0   0   0   0   0   0   0   0   0 \n",
       "E3   0  0     0  0  0  0  0  0  0   0   0   0   0   0   0   0   0   0   0   0 \n",
       "E4   0  0  0     0  0  0  0  0  0   0   0   0   0   0   0   0   0   0   0   0 \n",
       "E5   0  0  0  0     0  0  0  0  0   0   0   0   0   0   0   0   0   0   0   0 \n",
       "E6   0  0  0  0  0     0  0  0  0   0   0   0   0   0   0   0   0   0   0   0 \n",
       "E7   0  0  0  0  0  0     0  0  0   0   0   0   0   0   0   0   0   0   0   0 \n",
       "E8   0  0  0  0  0  0  0     0  0   0   0   0   0   0   0   0   0   0   0   0 \n",
       "E9   0  0  0  0  0  0  0  0     0   0   0   0   0   0   0   0   0   0   0   0 \n",
       "E10  0  0  0  0  0  0  0  0  0      0   0   0   0   0   0   0   0   0   0   0 \n",
       "E11  0  0  0  0  0  0  0  0  0  0       0   0   0   0   0   0   0   0   0   0 \n",
       "E12  0  0  0  0  0  0  0  0  0  0   0       0   0   0   0   0   0   0   0   0 \n",
       "E13  0  0  0  0  0  0  0  0  0  0   0   0       0   0   0   0   0   0   0   0 \n",
       "E14  0  0  0  0  0  0  0  0  0  0   0   0   0       0   0   0   0   0   0   0 \n",
       "E15  0  0  0  0  0  0  0  0  0  0   0   0   0   0       0   0   0   0   0   0 \n",
       "E16  0  0  0  0  0  0  0  0  0  0   0   0   0   0   0       0   0   0   0   0 \n",
       "E17  0  0  0  0  0  0  0  0  0  0   0   0   0   0   0   0       0   0   0   0 \n",
       "E18  0  0  0  0  0  0  0  0  0  0   0   0   0   0   0   0   0       0   0   0 \n",
       "E19  0  0  0  0  0  0  0  0  0  0   0   0   0   0   0   0   0   0       0   0 \n",
       "E20  0  0  0  0  0  0  0  0  0  0   0   0   0   0   0   0   0   0   0       0 \n",
       "E21  0  0  0  0  0  0  0  0  0  0   0   0   0   0   0   0   0   0   0   0     \n",
       "E22  0  0  0  0  0  0  0  0  0  0   0   0   0   0   0   0   0   0   0   0   0 \n",
       "E23  0  0  0  0  0  0  0  0  0  0   0   0   0   0   0   0   0   0   0   0   0 \n",
       "E24  0  0  0  0  0  0  0  0  0  0   0   0   0   0   0   0   0   0   0   0   0 \n",
       "E25  0  0  0  0  0  0  0  0  0  0   0   0   0   0   0   0   0   0   0   0   0 \n",
       "E26  0  0  0  0  0  0  0  0  0  0   0   0   0   0   0   0   0   0   0   0   0 \n",
       "E27  0  0  0  0  0  0  0  0  0  0   0   0   0   0   0   0   0   0   0   0   0 \n",
       "E28  0  0  0  0  0  0  0  0  0  0   0   0   0   0   0   0   0   0   0   0   0 \n",
       "E29  0  0  0  0  0  0  0  0  0  0   0   0   0   0   0   0   0   0   0   0   0 \n",
       "E30  0  0  0  0  0  0  0  0  0  0   0   0   0   0   0   0   0   0   0   0   0 \n",
       "E31  0  0  0  0  0  0  0  0  0  0   0   0   0   0   0   0   0   0   0   0   0 \n",
       "E32  0  0  0  0  0  0  0  0  0  0   0   0   0   0   0   0   0   0   0   0   0 \n",
       "D1   0  0  0  0  0  0  0  0  0  0   0   0   0   0   0   0   0   0   0   0   0 \n",
       "D2   0  0  0  0  0  0  0  0  0  0   0   0   0   0   0   0   0   0   0   0   0 \n",
       "D3   0  0  0  0  0  0  0  0  0  0   0   0   0   0   0   0   0   0   0   0   0 \n",
       "    E22 E23 E24 E25 E26 E27 E28 E29 E30 E31 E32 D1 D2 D3\n",
       "E1   0   0   0   0   0   0   0   0   0   0   0   0  0  0\n",
       "E2   0   0   0   0   0   0   0   0   0   0   0   0  0  0\n",
       "E3   0   0   0   0   0   0   0   0   0   0   0   0  0  0\n",
       "E4   0   0   0   0   0   0   0   0   0   0   0   0  0  0\n",
       "E5   0   0   0   0   0   0   0   0   0   0   0   0  0  0\n",
       "E6   0   0   0   0   0   0   0   0   0   0   0   0  0  0\n",
       "E7   0   0   0   0   0   0   0   0   0   0   0   0  0  0\n",
       "E8   0   0   0   0   0   0   0   0   0   0   0   0  0  0\n",
       "E9   0   0   0   0   0   0   0   0   0   0   0   0  0  0\n",
       "E10  0   0   0   0   0   0   0   0   0   0   0   0  0  0\n",
       "E11  0   0   0   0   0   0   0   0   0   0   0   0  0  0\n",
       "E12  0   0   0   0   0   0   0   0   0   0   0   0  0  0\n",
       "E13  0   0   0   0   0   0   0   0   0   0   0   0  0  0\n",
       "E14  0   0   0   0   0   0   0   0   0   0   0   0  0  0\n",
       "E15  0   0   0   0   0   0   0   0   0   0   0   0  0  0\n",
       "E16  0   0   0   0   0   0   0   0   0   0   0   0  0  0\n",
       "E17  0   0   0   0   0   0   0   0   0   0   0   0  0  0\n",
       "E18  0   0   0   0   0   0   0   0   0   0   0   0  0  0\n",
       "E19  0   0   0   0   0   0   0   0   0   0   0   0  0  0\n",
       "E20  0   0   0   0   0   0   0   0   0   0   0   0  0  0\n",
       "E21  0   0   0   0   0   0   0   0   0   0   0   0  0  0\n",
       "E22      0   0   0   0   0   0   0   0   0   0   0  0  0\n",
       "E23  0       0   0   0   0   0   0   0   0   0   0  0  0\n",
       "E24  0   0       0   0   0   0   0   0   0   0   0  0  0\n",
       "E25  0   0   0       0   0   0   0   0   0   0   0  0  0\n",
       "E26  0   0   0   0       0   0   0   0   0   0   0  0  0\n",
       "E27  0   0   0   0   0       0   0   0   0   0   0  0  0\n",
       "E28  0   0   0   0   0   0       0   0   0   0   0  0  0\n",
       "E29  0   0   0   0   0   0   0       0   0   0   0  0  0\n",
       "E30  0   0   0   0   0   0   0   0       0   0   0  0  0\n",
       "E31  0   0   0   0   0   0   0   0   0       0   0  0  0\n",
       "E32  0   0   0   0   0   0   0   0   0   0       0  0  0\n",
       "D1   0   0   0   0   0   0   0   0   0   0   0      0  0\n",
       "D2   0   0   0   0   0   0   0   0   0   0   0   0     0\n",
       "D3   0   0   0   0   0   0   0   0   0   0   0   0  0   "
      ]
     },
     "metadata": {},
     "output_type": "display_data"
    }
   ],
   "source": [
    "if(!require(Hmisc)){install.packages(\"Hmisc\")}\n",
    "library(Hmisc)\n",
    "# 输出说明：\n",
    "# r ：第一个矩阵为相关性矩阵\n",
    "# n :  处理数据的总记录数（行数）\n",
    "# P :  显著性水平矩阵（越小说明越显著）\n",
    "rnp = rcorr(as.matrix(data))\n",
    "rnp"
   ]
  },
  {
   "cell_type": "code",
   "execution_count": 35,
   "metadata": {
    "ExecuteTime": {
     "end_time": "2019-03-07T10:46:38.112648Z",
     "start_time": "2019-03-07T10:46:38.056Z"
    }
   },
   "outputs": [
    {
     "data": {
      "text/html": [
       "'list'"
      ],
      "text/latex": [
       "'list'"
      ],
      "text/markdown": [
       "'list'"
      ],
      "text/plain": [
       "[1] \"list\""
      ]
     },
     "metadata": {},
     "output_type": "display_data"
    }
   ],
   "source": [
    "mode(rnp)"
   ]
  },
  {
   "cell_type": "code",
   "execution_count": null,
   "metadata": {
    "ExecuteTime": {
     "end_time": "2019-03-07T10:46:39.053150Z",
     "start_time": "2019-03-07T10:46:38.969Z"
    }
   },
   "outputs": [],
   "source": [
    "library(corrplot)\n",
    "corrplot(cor_matr, type=\"upper\", order=\"hclust\", tl.col=\"black\", tl.srt=45)"
   ]
  },
  {
   "cell_type": "code",
   "execution_count": 36,
   "metadata": {
    "ExecuteTime": {
     "end_time": "2019-03-07T10:47:14.216202Z",
     "start_time": "2019-03-07T10:46:43.625Z"
    }
   },
   "outputs": [
    {
     "name": "stderr",
     "output_type": "stream",
     "text": [
      "Loading required package: PerformanceAnalytics\n",
      "Loading required package: xts\n",
      "Loading required package: zoo\n",
      "\n",
      "Attaching package: 'zoo'\n",
      "\n",
      "The following objects are masked from 'package:base':\n",
      "\n",
      "    as.Date, as.Date.numeric\n",
      "\n",
      "\n",
      "Attaching package: 'PerformanceAnalytics'\n",
      "\n",
      "The following object is masked from 'package:graphics':\n",
      "\n",
      "    legend\n",
      "\n"
     ]
    },
    {
     "ename": "ERROR",
     "evalue": "Error in png(tf, width, height, \"in\", pointsize, bg, res, antialias = antialias): 无法启动png()装置\n",
     "output_type": "error",
     "traceback": [
      "Error in png(tf, width, height, \"in\", pointsize, bg, res, antialias = antialias): 无法启动png()装置\nTraceback:\n"
     ]
    },
    {
     "data": {
      "text/plain": [
       "Plot with title \"\""
      ]
     },
     "metadata": {},
     "output_type": "display_data"
    }
   ],
   "source": [
    "if(!require(PerformanceAnalytics)){install.packages(\"PerformanceAnalytics\")}\n",
    "library(PerformanceAnalytics)\n",
    "chart.Correlation(data,histogram = TRUE,pch=19)"
   ]
  },
  {
   "cell_type": "markdown",
   "metadata": {},
   "source": [
    "## 变量重要性"
   ]
  },
  {
   "cell_type": "code",
   "execution_count": null,
   "metadata": {
    "collapsed": true
   },
   "outputs": [],
   "source": []
  },
  {
   "cell_type": "code",
   "execution_count": null,
   "metadata": {
    "collapsed": true
   },
   "outputs": [],
   "source": []
  },
  {
   "cell_type": "code",
   "execution_count": null,
   "metadata": {
    "collapsed": true
   },
   "outputs": [],
   "source": []
  },
  {
   "cell_type": "markdown",
   "metadata": {},
   "source": [
    "## 多重线性回归"
   ]
  },
  {
   "cell_type": "code",
   "execution_count": 37,
   "metadata": {
    "ExecuteTime": {
     "end_time": "2019-03-07T10:49:32.549148Z",
     "start_time": "2019-03-07T10:49:32.372Z"
    }
   },
   "outputs": [
    {
     "data": {
      "text/plain": [
       "\n",
       "Call:\n",
       "lm(formula = linear_model_1, data = data)\n",
       "\n",
       "Residuals:\n",
       "     Min       1Q   Median       3Q      Max \n",
       "-2.74321 -0.41108  0.02377  0.45241  2.09457 \n",
       "\n",
       "Coefficients:\n",
       "             Estimate Std. Error t value Pr(>|t|)    \n",
       "(Intercept)  0.205053   0.142573   1.438 0.150560    \n",
       "E1           0.009521   0.024620   0.387 0.699018    \n",
       "E2          -0.014594   0.041550  -0.351 0.725462    \n",
       "E3          -0.010342   0.021563  -0.480 0.631568    \n",
       "E4           0.051662   0.023900   2.162 0.030795 *  \n",
       "E5           0.004837   0.029215   0.166 0.868531    \n",
       "E6           0.001074   0.023639   0.045 0.963773    \n",
       "E7           0.027909   0.024029   1.162 0.245609    \n",
       "E8           0.090845   0.034288   2.649 0.008140 ** \n",
       "E9          -0.040261   0.046402  -0.868 0.385714    \n",
       "E10          0.022646   0.021740   1.042 0.297720    \n",
       "E11         -0.033210   0.034394  -0.966 0.334395    \n",
       "E12          0.020857   0.032467   0.642 0.520701    \n",
       "E13          0.047208   0.025909   1.822 0.068628 .  \n",
       "E14         -0.043821   0.030551  -1.434 0.151666    \n",
       "E15          0.017294   0.024147   0.716 0.473972    \n",
       "E16          0.068351   0.025166   2.716 0.006678 ** \n",
       "E17          0.036437   0.024742   1.473 0.141026    \n",
       "E18         -0.069545   0.031991  -2.174 0.029857 *  \n",
       "E19         -0.040002   0.023120  -1.730 0.083791 .  \n",
       "E20          0.058342   0.023167   2.518 0.011889 *  \n",
       "E21          0.015600   0.033562   0.465 0.642131    \n",
       "E22          0.061003   0.042636   1.431 0.152686    \n",
       "E23          0.002969   0.034447   0.086 0.931326    \n",
       "E24          0.018985   0.025157   0.755 0.450546    \n",
       "E25          0.044865   0.023330   1.923 0.054650 .  \n",
       "E26         -0.005911   0.023455  -0.252 0.801051    \n",
       "E27          0.148114   0.036178   4.094 4.45e-05 ***\n",
       "E28          0.068316   0.023467   2.911 0.003651 ** \n",
       "E29          0.126367   0.024212   5.219 2.03e-07 ***\n",
       "E30          0.109296   0.023321   4.687 3.01e-06 ***\n",
       "E31          0.071808   0.023285   3.084 0.002077 ** \n",
       "E32          0.087614   0.024493   3.577 0.000358 ***\n",
       "---\n",
       "Signif. codes:  0 '***' 0.001 '**' 0.01 '*' 0.05 '.' 0.1 ' ' 1\n",
       "\n",
       "Residual standard error: 0.6572 on 1623 degrees of freedom\n",
       "Multiple R-squared:  0.3908,\tAdjusted R-squared:  0.3788 \n",
       "F-statistic: 32.54 on 32 and 1623 DF,  p-value: < 2.2e-16\n"
      ]
     },
     "metadata": {},
     "output_type": "display_data"
    }
   ],
   "source": [
    "linear_model_1 = 'D1 ~ E1 + E2 + E3 + E4 + E5 + E6 + E7 + E8 + E9 + E10 + E11 + E12 + E13 + E14 + E15 + E16 + E17 + E18 + E19 + E20 + E21 + E22 + E23 + E24 + E25 + E26 + E27 + E28 + E29 + E30 + E31 + E32'\n",
    "linear_fit_1 <- lm(linear_model_1, data = data)\n",
    "# print(coef(linear_fit_1))\n",
    "# print('---------------------------------------------')\n",
    "summary(linear_fit_1)"
   ]
  },
  {
   "cell_type": "code",
   "execution_count": 39,
   "metadata": {
    "ExecuteTime": {
     "end_time": "2019-03-07T10:50:01.182666Z",
     "start_time": "2019-03-07T10:50:01.127Z"
    }
   },
   "outputs": [
    {
     "data": {
      "text/plain": [
       "\n",
       "Call:\n",
       "lm(formula = linear_model_2, data = data)\n",
       "\n",
       "Residuals:\n",
       "     Min       1Q   Median       3Q      Max \n",
       "-2.76130 -0.44105  0.03511  0.47332  2.24953 \n",
       "\n",
       "Coefficients:\n",
       "             Estimate Std. Error t value Pr(>|t|)    \n",
       "(Intercept)  0.319120   0.146069   2.185 0.029052 *  \n",
       "E1           0.054015   0.025223   2.141 0.032385 *  \n",
       "E2          -0.092921   0.042569  -2.183 0.029193 *  \n",
       "E3          -0.002860   0.022092  -0.129 0.897013    \n",
       "E4           0.070371   0.024486   2.874 0.004107 ** \n",
       "E5           0.012610   0.029931   0.421 0.673591    \n",
       "E6           0.026204   0.024219   1.082 0.279419    \n",
       "E7           0.019418   0.024618   0.789 0.430373    \n",
       "E8           0.092039   0.035129   2.620 0.008875 ** \n",
       "E9           0.010583   0.047540   0.223 0.823866    \n",
       "E10         -0.044467   0.022273  -1.996 0.046051 *  \n",
       "E11         -0.080701   0.035238  -2.290 0.022138 *  \n",
       "E12          0.082927   0.033263   2.493 0.012764 *  \n",
       "E13          0.102601   0.026545   3.865 0.000115 ***\n",
       "E14         -0.017877   0.031301  -0.571 0.567981    \n",
       "E15         -0.015983   0.024739  -0.646 0.518319    \n",
       "E16          0.026665   0.025783   1.034 0.301199    \n",
       "E17          0.003657   0.025348   0.144 0.885311    \n",
       "E18          0.022957   0.032775   0.700 0.483752    \n",
       "E19         -0.006805   0.023687  -0.287 0.773924    \n",
       "E20          0.041700   0.023736   1.757 0.079134 .  \n",
       "E21          0.013134   0.034385   0.382 0.702545    \n",
       "E22          0.078037   0.043682   1.786 0.074208 .  \n",
       "E23         -0.014190   0.035292  -0.402 0.687673    \n",
       "E24         -0.004597   0.025774  -0.178 0.858467    \n",
       "E25          0.101538   0.023902   4.248 2.28e-05 ***\n",
       "E26          0.056939   0.024030   2.370 0.017927 *  \n",
       "E27          0.132167   0.037065   3.566 0.000373 ***\n",
       "E28          0.052565   0.024043   2.186 0.028935 *  \n",
       "E29          0.059978   0.024805   2.418 0.015718 *  \n",
       "E30          0.031128   0.023893   1.303 0.192824    \n",
       "E31          0.069006   0.023856   2.893 0.003871 ** \n",
       "E32          0.056517   0.025094   2.252 0.024442 *  \n",
       "---\n",
       "Signif. codes:  0 '***' 0.001 '**' 0.01 '*' 0.05 '.' 0.1 ' ' 1\n",
       "\n",
       "Residual standard error: 0.6733 on 1623 degrees of freedom\n",
       "Multiple R-squared:  0.3656,\tAdjusted R-squared:  0.3531 \n",
       "F-statistic: 29.23 on 32 and 1623 DF,  p-value: < 2.2e-16\n"
      ]
     },
     "metadata": {},
     "output_type": "display_data"
    }
   ],
   "source": [
    "linear_model_2 = 'D2 ~ E1 + E2 + E3 + E4 + E5 + E6 + E7 + E8 + E9 + E10 + E11 + E12 + E13 + E14 + E15 + E16 + E17 + E18 + E19 + E20 + E21 + E22 + E23 + E24 + E25 + E26 + E27 + E28 + E29 + E30 + E31 + E32'\n",
    "linear_fit_2 <- lm(linear_model_2, data = data)\n",
    "summary(linear_fit_2)"
   ]
  },
  {
   "cell_type": "code",
   "execution_count": 40,
   "metadata": {
    "ExecuteTime": {
     "end_time": "2019-03-07T10:50:07.588699Z",
     "start_time": "2019-03-07T10:50:07.489Z"
    }
   },
   "outputs": [
    {
     "data": {
      "text/plain": [
       "\n",
       "Call:\n",
       "lm(formula = linear_model_3, data = data)\n",
       "\n",
       "Residuals:\n",
       "     Min       1Q   Median       3Q      Max \n",
       "-2.72890 -0.41115  0.02581  0.46059  2.38522 \n",
       "\n",
       "Coefficients:\n",
       "             Estimate Std. Error t value Pr(>|t|)    \n",
       "(Intercept)  0.372072   0.144755   2.570 0.010248 *  \n",
       "E1           0.015734   0.024996   0.629 0.529137    \n",
       "E2          -0.057696   0.042187  -1.368 0.171612    \n",
       "E3          -0.026352   0.021893  -1.204 0.228897    \n",
       "E4          -0.017412   0.024266  -0.718 0.473136    \n",
       "E5           0.043726   0.029662   1.474 0.140637    \n",
       "E6           0.059786   0.024001   2.491 0.012839 *  \n",
       "E7           0.030849   0.024397   1.264 0.206243    \n",
       "E8           0.069686   0.034813   2.002 0.045482 *  \n",
       "E9          -0.041925   0.047112  -0.890 0.373654    \n",
       "E10         -0.017355   0.022073  -0.786 0.431822    \n",
       "E11         -0.120833   0.034921  -3.460 0.000554 ***\n",
       "E12          0.094494   0.032964   2.867 0.004203 ** \n",
       "E13          0.041303   0.026306   1.570 0.116584    \n",
       "E14         -0.026727   0.031019  -0.862 0.389023    \n",
       "E15          0.054152   0.024517   2.209 0.027329 *  \n",
       "E16          0.019197   0.025551   0.751 0.452580    \n",
       "E17          0.002905   0.025120   0.116 0.907947    \n",
       "E18          0.022345   0.032481   0.688 0.491578    \n",
       "E19          0.025475   0.023474   1.085 0.277985    \n",
       "E20          0.038420   0.023522   1.633 0.102592    \n",
       "E21         -0.002768   0.034076  -0.081 0.935268    \n",
       "E22          0.014958   0.043289   0.346 0.729730    \n",
       "E23          0.010557   0.034974   0.302 0.762799    \n",
       "E24          0.040923   0.025542   1.602 0.109309    \n",
       "E25          0.088393   0.023687   3.732 0.000197 ***\n",
       "E26          0.023546   0.023814   0.989 0.322922    \n",
       "E27          0.168004   0.036732   4.574 5.15e-06 ***\n",
       "E28          0.100640   0.023827   4.224 2.53e-05 ***\n",
       "E29          0.068846   0.024582   2.801 0.005161 ** \n",
       "E30         -0.008722   0.023678  -0.368 0.712647    \n",
       "E31          0.139378   0.023641   5.896 4.53e-09 ***\n",
       "E32          0.066898   0.024868   2.690 0.007216 ** \n",
       "---\n",
       "Signif. codes:  0 '***' 0.001 '**' 0.01 '*' 0.05 '.' 0.1 ' ' 1\n",
       "\n",
       "Residual standard error: 0.6672 on 1623 degrees of freedom\n",
       "Multiple R-squared:  0.387,\tAdjusted R-squared:  0.375 \n",
       "F-statistic: 32.03 on 32 and 1623 DF,  p-value: < 2.2e-16\n"
      ]
     },
     "metadata": {},
     "output_type": "display_data"
    }
   ],
   "source": [
    "linear_model_3 = 'D3 ~ E1 + E2 + E3 + E4 + E5 + E6 + E7 + E8 + E9 + E10 + E11 + E12 + E13 + E14 + E15 + E16 + E17 + E18 + E19 + E20 + E21 + E22 + E23 + E24 + E25 + E26 + E27 + E28 + E29 + E30 + E31 + E32'\n",
    "linear_fit_3 <- lm(linear_model_3, data = data)\n",
    "summary(linear_fit_3)"
   ]
  },
  {
   "cell_type": "markdown",
   "metadata": {},
   "source": [
    "## 因子分析"
   ]
  },
  {
   "cell_type": "code",
   "execution_count": 23,
   "metadata": {
    "ExecuteTime": {
     "end_time": "2019-03-07T08:21:52.872968Z",
     "start_time": "2019-03-07T08:21:52.808Z"
    }
   },
   "outputs": [],
   "source": [
    "if(!require(psych)){install.packages(\"psych\")}\n",
    "library(psych)"
   ]
  },
  {
   "cell_type": "code",
   "execution_count": null,
   "metadata": {
    "collapsed": true
   },
   "outputs": [],
   "source": []
  },
  {
   "cell_type": "code",
   "execution_count": null,
   "metadata": {
    "collapsed": true
   },
   "outputs": [],
   "source": []
  },
  {
   "cell_type": "code",
   "execution_count": null,
   "metadata": {
    "collapsed": true
   },
   "outputs": [],
   "source": []
  },
  {
   "cell_type": "markdown",
   "metadata": {},
   "source": [
    "## 路径分析"
   ]
  },
  {
   "cell_type": "code",
   "execution_count": 15,
   "metadata": {
    "ExecuteTime": {
     "end_time": "2019-03-07T08:10:28.134720Z",
     "start_time": "2019-03-07T08:07:39.643Z"
    }
   },
   "outputs": [
    {
     "name": "stdout",
     "output_type": "stream",
     "text": [
      "lavaan 0.6-3 ended normally after 37 iterations\n",
      "\n",
      "  Optimization method                           NLMINB\n",
      "  Number of free parameters                        180\n",
      "\n",
      "  Number of observations                          1656\n",
      "\n",
      "  Estimator                                         ML\n",
      "  Model Fit Test Statistic                       0.000\n",
      "  Degrees of freedom                                 0\n",
      "\n",
      "Model test baseline model:\n",
      "\n",
      "  Minimum Function Test Statistic             2604.306\n",
      "  Degrees of freedom                               177\n",
      "  P-value                                        0.000\n",
      "\n",
      "User model versus baseline model:\n",
      "\n",
      "  Comparative Fit Index (CFI)                    1.000\n",
      "  Tucker-Lewis Index (TLI)                       1.000\n",
      "\n",
      "Loglikelihood and Information Criteria:\n",
      "\n",
      "  Loglikelihood user model (H0)              -4869.383\n",
      "  Loglikelihood unrestricted model (H1)      -4869.383\n",
      "\n",
      "  Number of free parameters                        180\n",
      "  Akaike (AIC)                               10098.766\n",
      "  Bayesian (BIC)                             11072.955\n",
      "  Sample-size adjusted Bayesian (BIC)        10501.123\n",
      "\n",
      "Root Mean Square Error of Approximation:\n",
      "\n",
      "  RMSEA                                          0.000\n",
      "  90 Percent Confidence Interval          0.000  0.000\n",
      "  P-value RMSEA <= 0.05                             NA\n",
      "\n",
      "Standardized Root Mean Square Residual:\n",
      "\n",
      "  SRMR                                           0.000\n",
      "\n",
      "Parameter Estimates:\n",
      "\n",
      "  Information                                 Expected\n",
      "  Information saturated (h1) model          Structured\n",
      "  Standard Errors                             Standard\n",
      "\n",
      "Regressions:\n",
      "                   Estimate  Std.Err  z-value  P(>|z|)   Std.lv  Std.all\n",
      "  D1 ~                                                                  \n",
      "    C1                0.007    0.024    0.282    0.778    0.007    0.006\n",
      "    C2                0.024    0.023    1.045    0.296    0.024    0.024\n",
      "    C3                0.015    0.020    0.710    0.478    0.015    0.016\n",
      "    C4                0.012    0.018    0.655    0.513    0.012    0.015\n",
      "    C5               -0.012    0.021   -0.550    0.582   -0.012   -0.013\n",
      "    C6                0.040    0.024    1.716    0.086    0.040    0.039\n",
      "    C7                0.044    0.022    1.965    0.049    0.044    0.044\n",
      "    C8               -0.036    0.023   -1.606    0.108   -0.036   -0.037\n",
      "    C9               -0.003    0.024   -0.110    0.912   -0.003   -0.003\n",
      "    C10              -0.012    0.021   -0.592    0.554   -0.012   -0.014\n",
      "    C11              -0.035    0.023   -1.569    0.117   -0.035   -0.036\n",
      "    C12               0.004    0.023    0.159    0.873    0.004    0.004\n",
      "    C13               0.029    0.024    1.239    0.215    0.029    0.030\n",
      "    C14               0.033    0.025    1.342    0.180    0.033    0.033\n",
      "    C15               0.028    0.024    1.180    0.238    0.028    0.028\n",
      "    C16              -0.032    0.023   -1.384    0.166   -0.032   -0.034\n",
      "    C17               0.019    0.021    0.888    0.375    0.019    0.021\n",
      "    C18               0.020    0.023    0.861    0.389    0.020    0.020\n",
      "    C19              -0.040    0.022   -1.817    0.069   -0.040   -0.046\n",
      "    C20              -0.011    0.021   -0.542    0.588   -0.011   -0.014\n",
      "    C21               0.005    0.022    0.213    0.831    0.005    0.005\n",
      "    C22               0.026    0.022    1.204    0.229    0.026    0.030\n",
      "    C23               0.021    0.021    1.029    0.303    0.021    0.025\n",
      "    C24               0.010    0.021    0.463    0.644    0.010    0.012\n",
      "    C25              -0.029    0.022   -1.300    0.194   -0.029   -0.032\n",
      "    C26               0.040    0.026    1.554    0.120    0.040    0.039\n",
      "    C27               0.027    0.026    1.062    0.288    0.027    0.027\n",
      "    C28               0.027    0.023    1.134    0.257    0.027    0.028\n",
      "    C29               0.018    0.024    0.755    0.450    0.018    0.018\n",
      "    C30               0.064    0.025    2.577    0.010    0.064    0.063\n",
      "    C31               0.025    0.025    1.007    0.314    0.025    0.024\n",
      "    C32               0.003    0.024    0.109    0.913    0.003    0.003\n",
      "    C33              -0.032    0.023   -1.389    0.165   -0.032   -0.033\n",
      "    C34              -0.068    0.023   -2.946    0.003   -0.068   -0.070\n",
      "    C35               0.054    0.023    2.347    0.019    0.054    0.056\n",
      "    C36               0.004    0.023    0.190    0.849    0.004    0.005\n",
      "    C37               0.015    0.025    0.582    0.560    0.015    0.014\n",
      "    C38              -0.002    0.024   -0.072    0.943   -0.002   -0.002\n",
      "    C39              -0.026    0.022   -1.183    0.237   -0.026   -0.028\n",
      "    C40               0.004    0.024    0.163    0.871    0.004    0.004\n",
      "    C41               0.027    0.023    1.156    0.247    0.027    0.028\n",
      "    C42              -0.037    0.025   -1.499    0.134   -0.037   -0.037\n",
      "    C43              -0.013    0.024   -0.546    0.585   -0.013   -0.013\n",
      "    C44               0.040    0.022    1.839    0.066    0.040    0.043\n",
      "    C45               0.014    0.025    0.565    0.572    0.014    0.014\n",
      "    C46               0.009    0.021    0.422    0.673    0.009    0.010\n",
      "    C47              -0.053    0.020   -2.652    0.008   -0.053   -0.061\n",
      "    C48               0.020    0.024    0.871    0.384    0.020    0.021\n",
      "    C49               0.045    0.023    1.971    0.049    0.045    0.049\n",
      "    C50               0.003    0.023    0.109    0.913    0.003    0.003\n",
      "    C51               0.027    0.023    1.157    0.247    0.027    0.028\n",
      "    C52               0.024    0.022    1.056    0.291    0.024    0.025\n",
      "    C53               0.111    0.024    4.651    0.000    0.111    0.115\n",
      "    C54               0.064    0.023    2.780    0.005    0.064    0.068\n",
      "    C55               0.115    0.024    4.824    0.000    0.115    0.119\n",
      "    C56               0.117    0.023    5.063    0.000    0.117    0.124\n",
      "    C57               0.079    0.023    3.460    0.001    0.079    0.086\n",
      "    C58               0.086    0.024    3.561    0.000    0.086    0.087\n",
      "  D2 ~                                                                  \n",
      "    C1                0.047    0.025    1.883    0.060    0.047    0.044\n",
      "    C2               -0.021    0.024   -0.884    0.377   -0.021   -0.021\n",
      "    C3               -0.043    0.021   -2.058    0.040   -0.043   -0.047\n",
      "    C4               -0.015    0.019   -0.784    0.433   -0.015   -0.018\n",
      "    C5                0.000    0.022    0.021    0.983    0.000    0.000\n",
      "    C6                0.066    0.024    2.742    0.006    0.066    0.064\n",
      "    C7               -0.001    0.023   -0.057    0.955   -0.001   -0.001\n",
      "    C8                0.019    0.023    0.796    0.426    0.019    0.019\n",
      "    C9                0.020    0.024    0.832    0.405    0.020    0.020\n",
      "    C10              -0.033    0.021   -1.538    0.124   -0.033   -0.036\n",
      "    C11               0.005    0.023    0.194    0.846    0.005    0.005\n",
      "    C12               0.021    0.024    0.860    0.390    0.021    0.020\n",
      "    C13               0.024    0.025    0.975    0.329    0.024    0.024\n",
      "    C14               0.033    0.026    1.287    0.198    0.033    0.033\n",
      "    C15               0.043    0.024    1.746    0.081    0.043    0.042\n",
      "    C16               0.013    0.024    0.561    0.575    0.013    0.014\n",
      "    C17               0.018    0.022    0.841    0.400    0.018    0.020\n",
      "    C18               0.014    0.024    0.602    0.547    0.014    0.014\n",
      "    C19              -0.005    0.023   -0.203    0.839   -0.005   -0.005\n",
      "    C20              -0.017    0.022   -0.783    0.434   -0.017   -0.020\n",
      "    C21               0.001    0.023    0.031    0.976    0.001    0.001\n",
      "    C22              -0.042    0.022   -1.909    0.056   -0.042   -0.048\n",
      "    C23              -0.005    0.021   -0.220    0.826   -0.005   -0.006\n",
      "    C24              -0.012    0.022   -0.567    0.571   -0.012   -0.015\n",
      "    C25              -0.045    0.023   -1.964    0.049   -0.045   -0.050\n",
      "    C26               0.049    0.027    1.852    0.064    0.049    0.048\n",
      "    C27               0.098    0.026    3.716    0.000    0.098    0.096\n",
      "    C28              -0.003    0.024   -0.125    0.901   -0.003   -0.003\n",
      "    C29              -0.013    0.025   -0.523    0.601   -0.013   -0.013\n",
      "    C30               0.022    0.026    0.859    0.390    0.022    0.022\n",
      "    C31              -0.007    0.025   -0.282    0.778   -0.007   -0.007\n",
      "    C32               0.002    0.025    0.063    0.950    0.002    0.002\n",
      "    C33              -0.003    0.024   -0.142    0.887   -0.003   -0.003\n",
      "    C34               0.022    0.024    0.932    0.351    0.022    0.023\n",
      "    C35               0.031    0.024    1.299    0.194    0.031    0.032\n",
      "    C36              -0.002    0.024   -0.069    0.945   -0.002   -0.002\n",
      "    C37               0.012    0.026    0.480    0.631    0.012    0.012\n",
      "    C38              -0.009    0.025   -0.376    0.707   -0.009   -0.009\n",
      "    C39              -0.019    0.022   -0.840    0.401   -0.019   -0.020\n",
      "    C40               0.002    0.024    0.068    0.946    0.002    0.002\n",
      "    C41               0.001    0.024    0.024    0.981    0.001    0.001\n",
      "    C42               0.028    0.025    1.102    0.270    0.028    0.028\n",
      "    C43              -0.009    0.024   -0.361    0.718   -0.009   -0.009\n",
      "    C44               0.027    0.022    1.225    0.220    0.027    0.029\n",
      "    C45              -0.009    0.026   -0.345    0.730   -0.009   -0.009\n",
      "    C46              -0.005    0.022   -0.248    0.804   -0.005   -0.006\n",
      "    C47              -0.008    0.021   -0.390    0.697   -0.008   -0.009\n",
      "    C48               0.070    0.024    2.905    0.004    0.070    0.072\n",
      "    C49               0.104    0.024    4.357    0.000    0.104    0.111\n",
      "    C50               0.054    0.024    2.262    0.024    0.054    0.057\n",
      "    C51               0.106    0.024    4.395    0.000    0.106    0.111\n",
      "    C52              -0.028    0.023   -1.235    0.217   -0.028   -0.031\n",
      "    C53               0.071    0.025    2.909    0.004    0.071    0.074\n",
      "    C54               0.048    0.024    2.025    0.043    0.048    0.051\n",
      "    C55               0.057    0.025    2.314    0.021    0.057    0.059\n",
      "    C56               0.034    0.024    1.432    0.152    0.034    0.036\n",
      "    C57               0.073    0.024    3.099    0.002    0.073    0.079\n",
      "    C58               0.047    0.025    1.901    0.057    0.047    0.048\n",
      "  D3 ~                                                                  \n",
      "    C1                0.010    0.025    0.406    0.685    0.010    0.009\n",
      "    C2               -0.042    0.023   -1.808    0.071   -0.042   -0.042\n",
      "    C3               -0.050    0.021   -2.403    0.016   -0.050   -0.053\n",
      "    C4                0.007    0.019    0.385    0.700    0.007    0.009\n",
      "    C5               -0.024    0.022   -1.121    0.262   -0.024   -0.026\n",
      "    C6               -0.033    0.024   -1.387    0.165   -0.033   -0.032\n",
      "    C7                0.044    0.023    1.943    0.052    0.044    0.044\n",
      "    C8                0.005    0.023    0.199    0.842    0.005    0.005\n",
      "    C9                0.053    0.024    2.227    0.026    0.053    0.051\n",
      "    C10              -0.012    0.021   -0.575    0.565   -0.012   -0.013\n",
      "    C11               0.020    0.023    0.888    0.375    0.020    0.021\n",
      "    C12               0.041    0.023    1.740    0.082    0.041    0.040\n",
      "    C13               0.032    0.024    1.339    0.181    0.032    0.032\n",
      "    C14               0.012    0.025    0.458    0.647    0.012    0.011\n",
      "    C15               0.029    0.024    1.195    0.232    0.029    0.028\n",
      "    C16              -0.006    0.023   -0.255    0.798   -0.006   -0.006\n",
      "    C17               0.022    0.021    1.023    0.306    0.022    0.024\n",
      "    C18               0.018    0.023    0.789    0.430    0.018    0.018\n",
      "    C19              -0.026    0.022   -1.162    0.245   -0.026   -0.030\n",
      "    C20              -0.049    0.021   -2.329    0.020   -0.049   -0.059\n",
      "    C21               0.031    0.022    1.404    0.160    0.031    0.035\n",
      "    C22              -0.021    0.022   -0.952    0.341   -0.021   -0.023\n",
      "    C23              -0.012    0.021   -0.594    0.552   -0.012   -0.015\n",
      "    C24              -0.057    0.022   -2.624    0.009   -0.057   -0.065\n",
      "    C25              -0.007    0.022   -0.302    0.763   -0.007   -0.007\n",
      "    C26               0.075    0.026    2.876    0.004    0.075    0.073\n",
      "    C27               0.021    0.026    0.809    0.418    0.021    0.020\n",
      "    C28               0.019    0.024    0.799    0.424    0.019    0.019\n",
      "    C29               0.060    0.024    2.494    0.013    0.060    0.059\n",
      "    C30               0.010    0.025    0.393    0.694    0.010    0.010\n",
      "    C31              -0.011    0.025   -0.463    0.643   -0.011   -0.011\n",
      "    C32               0.005    0.024    0.192    0.848    0.005    0.005\n",
      "    C33               0.036    0.023    1.560    0.119    0.036    0.037\n",
      "    C34               0.019    0.023    0.803    0.422    0.019    0.019\n",
      "    C35               0.034    0.023    1.446    0.148    0.034    0.034\n",
      "    C36              -0.039    0.023   -1.704    0.088   -0.039   -0.041\n",
      "    C37               0.046    0.025    1.793    0.073    0.046    0.044\n",
      "    C38              -0.025    0.024   -1.027    0.304   -0.025   -0.024\n",
      "    C39              -0.019    0.022   -0.875    0.382   -0.019   -0.021\n",
      "    C40               0.010    0.024    0.442    0.659    0.010    0.011\n",
      "    C41               0.018    0.024    0.739    0.460    0.018    0.018\n",
      "    C42               0.003    0.025    0.105    0.917    0.003    0.003\n",
      "    C43              -0.006    0.024   -0.251    0.802   -0.006   -0.006\n",
      "    C44               0.032    0.022    1.466    0.143    0.032    0.034\n",
      "    C45               0.031    0.025    1.248    0.212    0.031    0.031\n",
      "    C46              -0.012    0.021   -0.551    0.582   -0.012   -0.014\n",
      "    C47              -0.033    0.020   -1.596    0.110   -0.033   -0.037\n",
      "    C48              -0.006    0.024   -0.242    0.809   -0.006   -0.006\n",
      "    C49               0.088    0.023    3.775    0.000    0.088    0.093\n",
      "    C50               0.031    0.024    1.328    0.184    0.031    0.033\n",
      "    C51               0.039    0.024    1.653    0.098    0.039    0.041\n",
      "    C52               0.006    0.022    0.255    0.798    0.006    0.006\n",
      "    C53               0.148    0.024    6.154    0.000    0.148    0.151\n",
      "    C54               0.095    0.023    4.044    0.000    0.095    0.098\n",
      "    C55               0.059    0.024    2.451    0.014    0.059    0.060\n",
      "    C56               0.001    0.023    0.030    0.976    0.001    0.001\n",
      "    C57               0.149    0.023    6.433    0.000    0.149    0.160\n",
      "    C58               0.055    0.024    2.264    0.024    0.055    0.056\n",
      "\n",
      "Covariances:\n",
      "                   Estimate  Std.Err  z-value  P(>|z|)   Std.lv  Std.all\n",
      " .D1 ~~                                                                 \n",
      "   .D2                0.058    0.010    5.545    0.000    0.058    0.138\n",
      "   .D3                0.034    0.010    3.330    0.001    0.034    0.082\n",
      " .D2 ~~                                                                 \n",
      "   .D3                0.049    0.011    4.604    0.000    0.049    0.114\n",
      "\n",
      "Variances:\n",
      "                   Estimate  Std.Err  z-value  P(>|z|)   Std.lv  Std.all\n",
      "   .D1                0.410    0.014   28.775    0.000    0.410    0.590\n",
      "   .D2                0.435    0.015   28.775    0.000    0.435    0.621\n",
      "   .D3                0.418    0.015   28.775    0.000    0.418    0.588\n",
      "\n",
      "R-Square:\n",
      "                   Estimate\n",
      "    D1                0.410\n",
      "    D2                0.379\n",
      "    D3                0.412\n",
      "\n"
     ]
    }
   ],
   "source": [
    "model_3 = 'D1 ~ C1 + C2 + C3 + C4 + C5 + C6 + C7 + C8 + C9 + C10 + C11 + C12 + C13 + C14 + C15 + C16 + C17 + C18 + C19 + C20 + C21 + C22 + C23 + C24 + C25 + C26 + C27 + C28 + C29 + C30 + C31 + C32 + C33 + C34 + C35 + C36 + C37 + C38 + C39 + C40 + C41 + C42 + C43 + C44 + C45 + C46 + C47 + C48 + C49 + C50 + C51 + C52 + C53 + C54 + C55 + C56 + C57 + C58\n",
    "D2 ~ C1 + C2 + C3 + C4 + C5 + C6 + C7 + C8 + C9 + C10 + C11 + C12 + C13 + C14 + C15 + C16 + C17 + C18 + C19 + C20 + C21 + C22 + C23 + C24 + C25 + C26 + C27 + C28 + C29 + C30 + C31 + C32 + C33 + C34 + C35 + C36 + C37 + C38 + C39 + C40 + C41 + C42 + C43 + C44 + C45 + C46 + C47 + C48 + C49 + C50 + C51 + C52 + C53 + C54 + C55 + C56 + C57 + C58\n",
    "D3 ~ C1 + C2 + C3 + C4 + C5 + C6 + C7 + C8 + C9 + C10 + C11 + C12 + C13 + C14 + C15 + C16 + C17 + C18 + C19 + C20 + C21 + C22 + C23 + C24 + C25 + C26 + C27 + C28 + C29 + C30 + C31 + C32 + C33 + C34 + C35 + C36 + C37 + C38 + C39 + C40 + C41 + C42 + C43 + C44 + C45 + C46 + C47 + C48 + C49 + C50 + C51 + C52 + C53 + C54 + C55 + C56 + C57 + C58\n",
    "'\n",
    "\n",
    "fit_3 = cfa(model_3, data = data)\n",
    "summary(fit_3, fit.measures = TRUE, standardized = TRUE, rsquare = TRUE)"
   ]
  },
  {
   "cell_type": "code",
   "execution_count": 16,
   "metadata": {
    "ExecuteTime": {
     "end_time": "2019-03-07T08:11:06.172181Z",
     "start_time": "2019-03-07T08:10:46.914Z"
    }
   },
   "outputs": [
    {
     "ename": "ERROR",
     "evalue": "Error in png(tf, width, height, \"in\", pointsize, bg, res, antialias = antialias): 无法启动png()装置\n",
     "output_type": "error",
     "traceback": [
      "Error in png(tf, width, height, \"in\", pointsize, bg, res, antialias = antialias): 无法启动png()装置\nTraceback:\n"
     ]
    },
    {
     "data": {
      "text/plain": [
       "plot without title"
      ]
     },
     "metadata": {},
     "output_type": "display_data"
    }
   ],
   "source": [
    "semPaths(fit_3, 'std', 'est', curveAdjacent = TRUE, style = \"lisrel\")"
   ]
  },
  {
   "cell_type": "code",
   "execution_count": null,
   "metadata": {
    "collapsed": true
   },
   "outputs": [],
   "source": []
  },
  {
   "cell_type": "markdown",
   "metadata": {},
   "source": [
    "## 结构方程模型"
   ]
  },
  {
   "cell_type": "code",
   "execution_count": null,
   "metadata": {
    "collapsed": true
   },
   "outputs": [],
   "source": []
  },
  {
   "cell_type": "code",
   "execution_count": null,
   "metadata": {
    "collapsed": true
   },
   "outputs": [],
   "source": []
  },
  {
   "cell_type": "code",
   "execution_count": null,
   "metadata": {
    "collapsed": true
   },
   "outputs": [],
   "source": []
  }
 ],
 "metadata": {
  "kernelspec": {
   "display_name": "R",
   "language": "R",
   "name": "ir"
  },
  "language_info": {
   "codemirror_mode": "r",
   "file_extension": ".r",
   "mimetype": "text/x-r-source",
   "name": "R",
   "pygments_lexer": "r",
   "version": "3.5.2"
  },
  "toc": {
   "base_numbering": 1,
   "nav_menu": {},
   "number_sections": true,
   "sideBar": true,
   "skip_h1_title": false,
   "title_cell": "Table of Contents",
   "title_sidebar": "Contents",
   "toc_cell": false,
   "toc_position": {
    "height": "calc(100% - 180px)",
    "left": "10px",
    "top": "150px",
    "width": "273px"
   },
   "toc_section_display": true,
   "toc_window_display": true
  },
  "varInspector": {
   "cols": {
    "lenName": 16,
    "lenType": 16,
    "lenVar": 40
   },
   "kernels_config": {
    "python": {
     "delete_cmd_postfix": "",
     "delete_cmd_prefix": "del ",
     "library": "var_list.py",
     "varRefreshCmd": "print(var_dic_list())"
    },
    "r": {
     "delete_cmd_postfix": ") ",
     "delete_cmd_prefix": "rm(",
     "library": "var_list.r",
     "varRefreshCmd": "cat(var_dic_list()) "
    }
   },
   "position": {
    "height": "246px",
    "left": "996px",
    "right": "20px",
    "top": "120px",
    "width": "350px"
   },
   "types_to_exclude": [
    "module",
    "function",
    "builtin_function_or_method",
    "instance",
    "_Feature"
   ],
   "window_display": false
  }
 },
 "nbformat": 4,
 "nbformat_minor": 2
}
