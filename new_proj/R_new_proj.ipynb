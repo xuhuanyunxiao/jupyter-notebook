{
 "cells": [
  {
   "cell_type": "code",
   "execution_count": null,
   "metadata": {},
   "outputs": [],
   "source": []
  },
  {
   "cell_type": "code",
   "execution_count": 53,
   "metadata": {
    "ExecuteTime": {
     "end_time": "2019-01-09T06:43:20.057674Z",
     "start_time": "2019-01-09T06:43:19.892Z"
    }
   },
   "outputs": [
    {
     "data": {
      "text/plain": [
       "               _                           \n",
       "platform       x86_64-w64-mingw32          \n",
       "arch           x86_64                      \n",
       "os             mingw32                     \n",
       "system         x86_64, mingw32             \n",
       "status                                     \n",
       "major          3                           \n",
       "minor          5.1                         \n",
       "year           2018                        \n",
       "month          07                          \n",
       "day            02                          \n",
       "svn rev        74947                       \n",
       "language       R                           \n",
       "version.string R version 3.5.1 (2018-07-02)\n",
       "nickname       Feather Spray               "
      ]
     },
     "metadata": {},
     "output_type": "display_data"
    }
   ],
   "source": [
    "R.version"
   ]
  },
  {
   "cell_type": "code",
   "execution_count": 54,
   "metadata": {
    "ExecuteTime": {
     "end_time": "2019-01-09T08:42:47.136608Z",
     "start_time": "2019-01-09T08:42:46.874Z"
    }
   },
   "outputs": [
    {
     "name": "stderr",
     "output_type": "stream",
     "text": [
      "corrplot 0.84 loaded\n"
     ]
    }
   ],
   "source": [
    "# install.packages( \"lavaan\")\n",
    "# install.packages( \"OpenMx\")\n",
    "# install.packages( \"semPlot\")\n",
    "# install.packages( \"GGally\")\n",
    "# install.packages( \"corrplot\")\n",
    "# install.packages(\"readxl\")\n",
    "library(lavaan)\n",
    "library(semPlot)\n",
    "library(OpenMx)\n",
    "library(GGally)\n",
    "library(corrplot) \n",
    "library(readxl)"
   ]
  },
  {
   "cell_type": "code",
   "execution_count": 8,
   "metadata": {
    "ExecuteTime": {
     "end_time": "2019-01-08T12:15:27.621668Z",
     "start_time": "2019-01-08T12:15:27.160Z"
    }
   },
   "outputs": [
    {
     "data": {
      "text/html": [
       "<table>\n",
       "<thead><tr><th scope=col>B2r7c1</th><th scope=col>B2r37c1</th><th scope=col>B2r31c1</th><th scope=col>B2r42c1</th><th scope=col>B1r1c1</th><th scope=col>B1r5c1</th><th scope=col>B1r33c1</th><th scope=col>B1r34c1</th><th scope=col>B1r35c1</th><th scope=col>B1r36c1</th><th scope=col>...</th><th scope=col>B1r38c1</th><th scope=col>B2r40c1</th><th scope=col>B2r8c1</th><th scope=col>B2r20c1</th><th scope=col>B1r29c1</th><th scope=col>B1r43c1</th><th scope=col>B1r44c1</th><th scope=col>B1r45c1</th><th scope=col>B2r46c1</th><th scope=col>B2r47c1</th></tr></thead>\n",
       "<tbody>\n",
       "\t<tr><td>1  </td><td>1  </td><td>0  </td><td>1  </td><td>1  </td><td>0  </td><td>0  </td><td>0  </td><td>0  </td><td>0  </td><td>...</td><td>0  </td><td>1  </td><td>1  </td><td>0  </td><td>0  </td><td>1  </td><td>0  </td><td>1  </td><td>0  </td><td>1  </td></tr>\n",
       "\t<tr><td>1  </td><td>1  </td><td>1  </td><td>1  </td><td>1  </td><td>1  </td><td>1  </td><td>1  </td><td>1  </td><td>1  </td><td>...</td><td>1  </td><td>1  </td><td>1  </td><td>1  </td><td>1  </td><td>1  </td><td>1  </td><td>1  </td><td>1  </td><td>1  </td></tr>\n",
       "\t<tr><td>1  </td><td>1  </td><td>1  </td><td>0  </td><td>0  </td><td>0  </td><td>0  </td><td>0  </td><td>0  </td><td>0  </td><td>...</td><td>0  </td><td>0  </td><td>0  </td><td>1  </td><td>0  </td><td>0  </td><td>1  </td><td>0  </td><td>1  </td><td>1  </td></tr>\n",
       "\t<tr><td>1  </td><td>1  </td><td>1  </td><td>1  </td><td>1  </td><td>0  </td><td>1  </td><td>1  </td><td>0  </td><td>1  </td><td>...</td><td>0  </td><td>0  </td><td>0  </td><td>0  </td><td>1  </td><td>1  </td><td>1  </td><td>0  </td><td>1  </td><td>1  </td></tr>\n",
       "\t<tr><td>0  </td><td>0  </td><td>0  </td><td>1  </td><td>0  </td><td>0  </td><td>0  </td><td>0  </td><td>0  </td><td>0  </td><td>...</td><td>0  </td><td>0  </td><td>0  </td><td>1  </td><td>0  </td><td>0  </td><td>0  </td><td>0  </td><td>0  </td><td>1  </td></tr>\n",
       "</tbody>\n",
       "</table>\n"
      ],
      "text/latex": [
       "\\begin{tabular}{r|lllllllllllllllllllllllll}\n",
       " B2r7c1 & B2r37c1 & B2r31c1 & B2r42c1 & B1r1c1 & B1r5c1 & B1r33c1 & B1r34c1 & B1r35c1 & B1r36c1 & ... & B1r38c1 & B2r40c1 & B2r8c1 & B2r20c1 & B1r29c1 & B1r43c1 & B1r44c1 & B1r45c1 & B2r46c1 & B2r47c1\\\\\n",
       "\\hline\n",
       "\t 1   & 1   & 0   & 1   & 1   & 0   & 0   & 0   & 0   & 0   & ... & 0   & 1   & 1   & 0   & 0   & 1   & 0   & 1   & 0   & 1  \\\\\n",
       "\t 1   & 1   & 1   & 1   & 1   & 1   & 1   & 1   & 1   & 1   & ... & 1   & 1   & 1   & 1   & 1   & 1   & 1   & 1   & 1   & 1  \\\\\n",
       "\t 1   & 1   & 1   & 0   & 0   & 0   & 0   & 0   & 0   & 0   & ... & 0   & 0   & 0   & 1   & 0   & 0   & 1   & 0   & 1   & 1  \\\\\n",
       "\t 1   & 1   & 1   & 1   & 1   & 0   & 1   & 1   & 0   & 1   & ... & 0   & 0   & 0   & 0   & 1   & 1   & 1   & 0   & 1   & 1  \\\\\n",
       "\t 0   & 0   & 0   & 1   & 0   & 0   & 0   & 0   & 0   & 0   & ... & 0   & 0   & 0   & 1   & 0   & 0   & 0   & 0   & 0   & 1  \\\\\n",
       "\\end{tabular}\n"
      ],
      "text/markdown": [
       "\n",
       "B2r7c1 | B2r37c1 | B2r31c1 | B2r42c1 | B1r1c1 | B1r5c1 | B1r33c1 | B1r34c1 | B1r35c1 | B1r36c1 | ... | B1r38c1 | B2r40c1 | B2r8c1 | B2r20c1 | B1r29c1 | B1r43c1 | B1r44c1 | B1r45c1 | B2r46c1 | B2r47c1 | \n",
       "|---|---|---|---|---|\n",
       "| 1   | 1   | 0   | 1   | 1   | 0   | 0   | 0   | 0   | 0   | ... | 0   | 1   | 1   | 0   | 0   | 1   | 0   | 1   | 0   | 1   | \n",
       "| 1   | 1   | 1   | 1   | 1   | 1   | 1   | 1   | 1   | 1   | ... | 1   | 1   | 1   | 1   | 1   | 1   | 1   | 1   | 1   | 1   | \n",
       "| 1   | 1   | 1   | 0   | 0   | 0   | 0   | 0   | 0   | 0   | ... | 0   | 0   | 0   | 1   | 0   | 0   | 1   | 0   | 1   | 1   | \n",
       "| 1   | 1   | 1   | 1   | 1   | 0   | 1   | 1   | 0   | 1   | ... | 0   | 0   | 0   | 0   | 1   | 1   | 1   | 0   | 1   | 1   | \n",
       "| 0   | 0   | 0   | 1   | 0   | 0   | 0   | 0   | 0   | 0   | ... | 0   | 0   | 0   | 1   | 0   | 0   | 0   | 0   | 0   | 1   | \n",
       "\n",
       "\n"
      ],
      "text/plain": [
       "  B2r7c1 B2r37c1 B2r31c1 B2r42c1 B1r1c1 B1r5c1 B1r33c1 B1r34c1 B1r35c1 B1r36c1\n",
       "1 1      1       0       1       1      0      0       0       0       0      \n",
       "2 1      1       1       1       1      1      1       1       1       1      \n",
       "3 1      1       1       0       0      0      0       0       0       0      \n",
       "4 1      1       1       1       1      0      1       1       0       1      \n",
       "5 0      0       0       1       0      0      0       0       0       0      \n",
       "  ... B1r38c1 B2r40c1 B2r8c1 B2r20c1 B1r29c1 B1r43c1 B1r44c1 B1r45c1 B2r46c1\n",
       "1 ... 0       1       1      0       0       1       0       1       0      \n",
       "2 ... 1       1       1      1       1       1       1       1       1      \n",
       "3 ... 0       0       0      1       0       0       1       0       1      \n",
       "4 ... 0       0       0      0       1       1       1       0       1      \n",
       "5 ... 0       0       0      1       0       0       0       0       0      \n",
       "  B2r47c1\n",
       "1 1      \n",
       "2 1      \n",
       "3 1      \n",
       "4 1      \n",
       "5 1      "
      ]
     },
     "metadata": {},
     "output_type": "display_data"
    }
   ],
   "source": [
    "file_folder <- \"D:/XH/Python_Project/notebook/new_proj\"\n",
    "# getwd()\n",
    "setwd(file_folder)\n",
    "\n",
    "data <- read_excel('data_sel_1.xlsx')\n",
    "head(data, n = 5) "
   ]
  },
  {
   "cell_type": "code",
   "execution_count": 50,
   "metadata": {
    "ExecuteTime": {
     "end_time": "2019-01-09T05:50:00.282658Z",
     "start_time": "2019-01-09T05:50:00.230Z"
    }
   },
   "outputs": [],
   "source": [
    "model = 'B2r7c1 ~ B2r37c1 + B2r31c1 + B2r42c1 \n",
    "B2r37c1 ~ B1r1c1 + B1r5c1 + B1r33c1 + B1r34c1 + B1r35c1 + B1r36c1 + B2r21c1 \n",
    "B2r31c1 ~ B2r13c1 + B1r16c1 + B1r23c1 + B1r25c1 + B1r38c1 + B2r40c1 \n",
    "B2r42c1 ~ B2r8c1 + B2r20c1 + B1r29c1 + B1r43c1 + B1r44c1 + B1r45c1 + B2r46c1 + B2r47c1 \n",
    "B1r23c1 ~ B1r16c1\n",
    "B2r13c1 ~ B1r23c1 \n",
    "B2r21c1 ~ B1r1c1 + B1r34c1 + B1r5c1 + B1r35c1 \n",
    "B1r34c1 ~ B1r33c1 \n",
    "B1r35c1 ~ B1r33c1 \n",
    "B2r8c1 ~ B1r29c1 + B1r43c1 + B1r44c1 \n",
    "B1r43c1 ~ B1r45c1 \n",
    "'"
   ]
  },
  {
   "cell_type": "code",
   "execution_count": 51,
   "metadata": {
    "ExecuteTime": {
     "end_time": "2019-01-09T05:50:03.265828Z",
     "start_time": "2019-01-09T05:50:02.834Z"
    }
   },
   "outputs": [
    {
     "name": "stdout",
     "output_type": "stream",
     "text": [
      "lavaan 0.6-2 ended normally after 43 iterations\n",
      "\n",
      "  Optimization method                           NLMINB\n",
      "  Number of free parameters                         47\n",
      "\n",
      "  Number of observations                          1310\n",
      "\n",
      "  Estimator                                         ML\n",
      "  Model Fit Test Statistic                    3073.731\n",
      "  Degrees of freedom                               173\n",
      "  P-value (Chi-square)                           0.000\n",
      "\n",
      "Model test baseline model:\n",
      "\n",
      "  Minimum Function Test Statistic             7274.969\n",
      "  Degrees of freedom                               209\n",
      "  P-value                                        0.000\n",
      "\n",
      "User model versus baseline model:\n",
      "\n",
      "  Comparative Fit Index (CFI)                    0.589\n",
      "  Tucker-Lewis Index (TLI)                       0.504\n",
      "\n",
      "Loglikelihood and Information Criteria:\n",
      "\n",
      "  Loglikelihood user model (H0)              -7123.658\n",
      "  Loglikelihood unrestricted model (H1)      -5586.792\n",
      "\n",
      "  Number of free parameters                         47\n",
      "  Akaike (AIC)                               14341.316\n",
      "  Bayesian (BIC)                             14584.672\n",
      "  Sample-size adjusted Bayesian (BIC)        14435.375\n",
      "\n",
      "Root Mean Square Error of Approximation:\n",
      "\n",
      "  RMSEA                                          0.113\n",
      "  90 Percent Confidence Interval          0.110  0.117\n",
      "  P-value RMSEA <= 0.05                          0.000\n",
      "\n",
      "Standardized Root Mean Square Residual:\n",
      "\n",
      "  SRMR                                           0.181\n",
      "\n",
      "Parameter Estimates:\n",
      "\n",
      "  Information                                 Expected\n",
      "  Information saturated (h1) model          Structured\n",
      "  Standard Errors                             Standard\n",
      "\n",
      "Regressions:\n",
      "                   Estimate  Std.Err  z-value  P(>|z|)   Std.lv  Std.all\n",
      "  B2r7c1 ~                                                              \n",
      "    B2r37c1           0.306    0.024   12.721    0.000    0.306    0.313\n",
      "    B2r31c1           0.202    0.023    8.763    0.000    0.202    0.215\n",
      "    B2r42c1           0.206    0.025    8.219    0.000    0.206    0.202\n",
      "  B2r37c1 ~                                                             \n",
      "    B1r1c1            0.172    0.027    6.424    0.000    0.172    0.180\n",
      "    B1r5c1            0.106    0.026    4.083    0.000    0.106    0.113\n",
      "    B1r33c1           0.061    0.030    2.006    0.045    0.061    0.065\n",
      "    B1r34c1           0.061    0.024    2.573    0.010    0.061    0.068\n",
      "    B1r35c1           0.038    0.025    1.508    0.132    0.038    0.040\n",
      "    B1r36c1           0.118    0.026    4.502    0.000    0.118    0.124\n",
      "    B2r21c1           0.212    0.026    8.287    0.000    0.212    0.222\n",
      "  B2r31c1 ~                                                             \n",
      "    B2r13c1           0.244    0.024   10.111    0.000    0.244    0.255\n",
      "    B1r16c1           0.053    0.028    1.869    0.062    0.053    0.052\n",
      "    B1r23c1           0.144    0.027    5.289    0.000    0.144    0.143\n",
      "    B1r25c1           0.146    0.027    5.511    0.000    0.146    0.154\n",
      "    B1r38c1           0.114    0.023    4.922    0.000    0.114    0.126\n",
      "    B2r40c1           0.154    0.025    6.216    0.000    0.154    0.163\n",
      "  B2r42c1 ~                                                             \n",
      "    B2r8c1            0.214    0.024    9.038    0.000    0.214    0.229\n",
      "    B2r20c1           0.049    0.023    2.110    0.035    0.049    0.058\n",
      "    B1r29c1           0.053    0.024    2.245    0.025    0.053    0.060\n",
      "    B1r43c1           0.178    0.025    7.059    0.000    0.178    0.184\n",
      "    B1r44c1           0.079    0.025    3.132    0.002    0.079    0.087\n",
      "    B1r45c1           0.104    0.028    3.715    0.000    0.104    0.107\n",
      "    B2r46c1          -0.040    0.022   -1.776    0.076   -0.040   -0.047\n",
      "    B2r47c1           0.179    0.025    7.055    0.000    0.179    0.186\n",
      "  B1r23c1 ~                                                             \n",
      "    B1r16c1           0.390    0.026   15.071    0.000    0.390    0.384\n",
      "  B2r13c1 ~                                                             \n",
      "    B1r23c1           0.379    0.027   14.041    0.000    0.379    0.362\n",
      "  B2r21c1 ~                                                             \n",
      "    B1r1c1            0.130    0.027    4.843    0.000    0.130    0.130\n",
      "    B1r34c1           0.198    0.023    8.488    0.000    0.198    0.211\n",
      "    B1r5c1            0.175    0.026    6.681    0.000    0.175    0.179\n",
      "    B1r35c1           0.249    0.024   10.220    0.000    0.249    0.253\n",
      "  B1r34c1 ~                                                             \n",
      "    B1r33c1           0.460    0.026   17.808    0.000    0.460    0.441\n",
      "  B1r35c1 ~                                                             \n",
      "    B1r33c1           0.438    0.025   17.659    0.000    0.438    0.438\n",
      "  B2r8c1 ~                                                              \n",
      "    B1r29c1           0.159    0.026    6.188    0.000    0.159    0.167\n",
      "    B1r43c1           0.226    0.026    8.517    0.000    0.226    0.217\n",
      "    B1r44c1           0.219    0.026    8.291    0.000    0.219    0.224\n",
      "  B1r43c1 ~                                                             \n",
      "    B1r45c1           0.427    0.025   17.109    0.000    0.427    0.427\n",
      "\n",
      "Variances:\n",
      "                   Estimate  Std.Err  z-value  P(>|z|)   Std.lv  Std.all\n",
      "   .B2r7c1            0.139    0.005   25.593    0.000    0.139    0.766\n",
      "   .B2r37c1           0.134    0.005   25.593    0.000    0.134    0.705\n",
      "   .B2r31c1           0.149    0.006   25.593    0.000    0.149    0.725\n",
      "   .B2r42c1           0.121    0.005   25.593    0.000    0.121    0.691\n",
      "   .B1r23c1           0.175    0.007   25.593    0.000    0.175    0.852\n",
      "   .B2r13c1           0.195    0.008   25.593    0.000    0.195    0.869\n",
      "   .B2r21c1           0.156    0.006   25.593    0.000    0.156    0.747\n",
      "   .B1r34c1           0.190    0.007   25.593    0.000    0.190    0.805\n",
      "   .B1r35c1           0.174    0.007   25.593    0.000    0.174    0.808\n",
      "   .B2r8c1            0.164    0.006   25.593    0.000    0.164    0.820\n",
      "   .B1r43c1           0.152    0.006   25.593    0.000    0.152    0.817\n",
      "\n",
      "R-Square:\n",
      "                   Estimate\n",
      "    B2r7c1            0.234\n",
      "    B2r37c1           0.295\n",
      "    B2r31c1           0.275\n",
      "    B2r42c1           0.309\n",
      "    B1r23c1           0.148\n",
      "    B2r13c1           0.131\n",
      "    B2r21c1           0.253\n",
      "    B1r34c1           0.195\n",
      "    B1r35c1           0.192\n",
      "    B2r8c1            0.180\n",
      "    B1r43c1           0.183\n",
      "\n"
     ]
    }
   ],
   "source": [
    "fit1 = cfa(model, data = data)\n",
    "summary(fit1, fit.measures = TRUE, standardized = TRUE, rsquare = TRUE)"
   ]
  },
  {
   "cell_type": "code",
   "execution_count": 52,
   "metadata": {
    "ExecuteTime": {
     "end_time": "2019-01-09T05:50:15.230513Z",
     "start_time": "2019-01-09T05:50:13.812Z"
    },
    "scrolled": false
   },
   "outputs": [
    {
     "data": {
      "image/png": "[encoded data removed]",
      "text/plain": [
       "plot without title"
      ]
     },
     "metadata": {},
     "output_type": "display_data"
    }
   ],
   "source": [
    "semPaths(fit1, 'std', layout = 'tree2') "
   ]
  },
  {
   "cell_type": "code",
   "execution_count": 28,
   "metadata": {
    "ExecuteTime": {
     "end_time": "2019-01-08T12:29:25.275579Z",
     "start_time": "2019-01-08T12:29:24.985Z"
    }
   },
   "outputs": [
    {
     "name": "stdout",
     "output_type": "stream",
     "text": [
      "lavaan 0.6-2 ended normally after 30 iterations\n",
      "\n",
      "  Optimization method                           NLMINB\n",
      "  Number of free parameters                         28\n",
      "\n",
      "  Number of observations                          1310\n",
      "\n",
      "  Estimator                                         ML\n",
      "  Model Fit Test Statistic                     669.004\n",
      "  Degrees of freedom                                66\n",
      "  P-value (Chi-square)                           0.000\n",
      "\n",
      "Parameter Estimates:\n",
      "\n",
      "  Information                                 Expected\n",
      "  Information saturated (h1) model          Structured\n",
      "  Standard Errors                             Standard\n",
      "\n",
      "Regressions:\n",
      "                   Estimate  Std.Err  z-value  P(>|z|)\n",
      "  B2r7c1 ~                                            \n",
      "    B2r37c1           0.306    0.024   12.653    0.000\n",
      "    B2r31c1           0.202    0.023    8.850    0.000\n",
      "    B2r42c1           0.206    0.025    8.222    0.000\n",
      "  B2r37c1 ~                                           \n",
      "    B1r1c1            0.172    0.027    6.252    0.000\n",
      "    B1r5c1            0.106    0.026    3.995    0.000\n",
      "    B1r33c1           0.061    0.027    2.212    0.027\n",
      "    B1r34c1           0.061    0.026    2.376    0.017\n",
      "    B1r35c1           0.038    0.028    1.363    0.173\n",
      "    B1r36c1           0.118    0.027    4.299    0.000\n",
      "    B2r21c1           0.212    0.026    8.044    0.000\n",
      "  B2r31c1 ~                                           \n",
      "    B2r13c1           0.244    0.027    9.013    0.000\n",
      "    B1r16c1           0.053    0.028    1.911    0.056\n",
      "    B1r23c1           0.144    0.027    5.266    0.000\n",
      "    B1r25c1           0.146    0.027    5.351    0.000\n",
      "    B1r38c1           0.114    0.023    4.886    0.000\n",
      "    B2r40c1           0.154    0.026    5.911    0.000\n",
      "  B2r42c1 ~                                           \n",
      "    B2r8c1            0.214    0.025    8.433    0.000\n",
      "    B2r20c1           0.049    0.024    2.074    0.038\n",
      "    B1r29c1           0.053    0.024    2.255    0.024\n",
      "    B1r43c1           0.178    0.027    6.587    0.000\n",
      "    B1r44c1           0.079    0.025    3.130    0.002\n",
      "    B1r45c1           0.104    0.027    3.877    0.000\n",
      "    B2r46c1          -0.040    0.023   -1.765    0.078\n",
      "    B2r47c1           0.179    0.026    6.775    0.000\n",
      "\n",
      "Variances:\n",
      "                   Estimate  Std.Err  z-value  P(>|z|)\n",
      "   .B2r7c1            0.139    0.005   25.593    0.000\n",
      "   .B2r37c1           0.134    0.005   25.593    0.000\n",
      "   .B2r31c1           0.149    0.006   25.593    0.000\n",
      "   .B2r42c1           0.121    0.005   25.593    0.000\n",
      "\n"
     ]
    }
   ],
   "source": [
    "fit2 = cfa(model, data = data)\n",
    "summary(fit2) "
   ]
  },
  {
   "cell_type": "code",
   "execution_count": 29,
   "metadata": {
    "ExecuteTime": {
     "end_time": "2019-01-08T12:29:27.879728Z",
     "start_time": "2019-01-08T12:29:26.249Z"
    }
   },
   "outputs": [
    {
     "data": {
      "image/png": "[encoded data removed]",
      "text/plain": [
       "plot without title"
      ]
     },
     "metadata": {},
     "output_type": "display_data"
    }
   ],
   "source": [
    "semPaths(fit2, 'std', 'est', curveAdjacent = TRUE, style = \"lisrel\")"
   ]
  },
  {
   "cell_type": "code",
   "execution_count": null,
   "metadata": {},
   "outputs": [],
   "source": []
  },
  {
   "cell_type": "code",
   "execution_count": 32,
   "metadata": {
    "ExecuteTime": {
     "end_time": "2019-01-08T12:34:03.683503Z",
     "start_time": "2019-01-08T12:34:03.310Z"
    }
   },
   "outputs": [
    {
     "name": "stdout",
     "output_type": "stream",
     "text": [
      "lavaan 0.6-2 ended normally after 30 iterations\n",
      "\n",
      "  Optimization method                           NLMINB\n",
      "  Number of free parameters                         28\n",
      "\n",
      "  Number of observations                          1310\n",
      "\n",
      "  Estimator                                         ML\n",
      "  Model Fit Test Statistic                     669.004\n",
      "  Degrees of freedom                                66\n",
      "  P-value (Chi-square)                           0.000\n",
      "\n",
      "Parameter Estimates:\n",
      "\n",
      "  Information                                 Expected\n",
      "  Information saturated (h1) model          Structured\n",
      "  Standard Errors                             Standard\n",
      "\n",
      "Regressions:\n",
      "                   Estimate  Std.Err  z-value  P(>|z|)\n",
      "  B2r7c1 ~                                            \n",
      "    B2r37c1           0.306    0.024   12.653    0.000\n",
      "    B2r31c1           0.202    0.023    8.850    0.000\n",
      "    B2r42c1           0.206    0.025    8.222    0.000\n",
      "  B2r37c1 ~                                           \n",
      "    B1r1c1            0.172    0.027    6.252    0.000\n",
      "    B1r5c1            0.106    0.026    3.995    0.000\n",
      "    B1r33c1           0.061    0.027    2.212    0.027\n",
      "    B1r34c1           0.061    0.026    2.376    0.017\n",
      "    B1r35c1           0.038    0.028    1.363    0.173\n",
      "    B1r36c1           0.118    0.027    4.299    0.000\n",
      "    B2r21c1           0.212    0.026    8.044    0.000\n",
      "  B2r31c1 ~                                           \n",
      "    B2r13c1           0.244    0.027    9.013    0.000\n",
      "    B1r16c1           0.053    0.028    1.911    0.056\n",
      "    B1r23c1           0.144    0.027    5.266    0.000\n",
      "    B1r25c1           0.146    0.027    5.351    0.000\n",
      "    B1r38c1           0.114    0.023    4.886    0.000\n",
      "    B2r40c1           0.154    0.026    5.911    0.000\n",
      "  B2r42c1 ~                                           \n",
      "    B2r8c1            0.214    0.025    8.433    0.000\n",
      "    B2r20c1           0.049    0.024    2.074    0.038\n",
      "    B1r29c1           0.053    0.024    2.255    0.024\n",
      "    B1r43c1           0.178    0.027    6.587    0.000\n",
      "    B1r44c1           0.079    0.025    3.130    0.002\n",
      "    B1r45c1           0.104    0.027    3.877    0.000\n",
      "    B2r46c1          -0.040    0.023   -1.765    0.078\n",
      "    B2r47c1           0.179    0.026    6.775    0.000\n",
      "\n",
      "Variances:\n",
      "                   Estimate  Std.Err  z-value  P(>|z|)\n",
      "   .B2r7c1            0.139    0.005   25.593    0.000\n",
      "   .B2r37c1           0.134    0.005   25.593    0.000\n",
      "   .B2r31c1           0.149    0.006   25.593    0.000\n",
      "   .B2r42c1           0.121    0.005   25.593    0.000\n",
      "\n"
     ]
    }
   ],
   "source": [
    "fit <- sem(model, data=data)\n",
    "summary(fit)"
   ]
  },
  {
   "cell_type": "code",
   "execution_count": null,
   "metadata": {},
   "outputs": [],
   "source": []
  }
 ],
 "metadata": {
  "kernelspec": {
   "display_name": "R",
   "language": "R",
   "name": "ir"
  },
  "language_info": {
   "codemirror_mode": "r",
   "file_extension": ".r",
   "mimetype": "text/x-r-source",
   "name": "R",
   "pygments_lexer": "r",
   "version": "3.5.1"
  },
  "toc": {
   "nav_menu": {},
   "number_sections": true,
   "sideBar": true,
   "skip_h1_title": false,
   "title_cell": "Table of Contents",
   "title_sidebar": "Contents",
   "toc_cell": false,
   "toc_position": {},
   "toc_section_display": true,
   "toc_window_display": false
  },
  "varInspector": {
   "cols": {
    "lenName": 16,
    "lenType": 16,
    "lenVar": 40
   },
   "kernels_config": {
    "python": {
     "delete_cmd_postfix": "",
     "delete_cmd_prefix": "del ",
     "library": "var_list.py",
     "varRefreshCmd": "print(var_dic_list())"
    },
    "r": {
     "delete_cmd_postfix": ") ",
     "delete_cmd_prefix": "rm(",
     "library": "var_list.r",
     "varRefreshCmd": "cat(var_dic_list()) "
    }
   },
   "types_to_exclude": [
    "module",
    "function",
    "builtin_function_or_method",
    "instance",
    "_Feature"
   ],
   "window_display": false
  }
 },
 "nbformat": 4,
 "nbformat_minor": 2
}
