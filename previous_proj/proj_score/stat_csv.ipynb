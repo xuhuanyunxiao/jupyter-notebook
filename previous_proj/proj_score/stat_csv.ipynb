{
 "cells": [
  {
   "cell_type": "markdown",
   "metadata": {},
   "source": [
    "# 基本设置"
   ]
  },
  {
   "cell_type": "markdown",
   "metadata": {},
   "source": [
    "## 导入包库"
   ]
  },
  {
   "cell_type": "code",
   "execution_count": 2,
   "metadata": {
    "ExecuteTime": {
     "end_time": "2018-05-11T09:09:34.369166Z",
     "start_time": "2018-05-11T09:09:34.160440Z"
    }
   },
   "outputs": [],
   "source": [
    "# 三方库\n",
    "import pandas as pd\n",
    "import numpy as np\n"
   ]
  },
  {
   "cell_type": "code",
   "execution_count": 5,
   "metadata": {
    "ExecuteTime": {
     "end_time": "2018-05-11T09:13:15.124870Z",
     "start_time": "2018-05-11T09:13:15.120428Z"
    }
   },
   "outputs": [
    {
     "name": "stdout",
     "output_type": "stream",
     "text": [
      "1 : /root/proj_3_wzty/score/notebook_score\n",
      "1 : /root/proj_3_wzty/score/data\n"
     ]
    }
   ],
   "source": [
    "# 标准库 && 自建库\n",
    "import os\n",
    "\n",
    "data_folder  = '/root/proj_3_wzty/score/data'\n",
    "result_folder = '/root/proj_3_wzty/score/result'\n",
    "\n",
    "print('1 :',os.getcwd())\n",
    "os.chdir(data_folder)\n",
    "print('2 :',os.getcwd())"
   ]
  },
  {
   "cell_type": "markdown",
   "metadata": {
    "ExecuteTime": {
     "end_time": "2018-05-11T09:09:43.885227Z",
     "start_time": "2018-05-11T09:09:43.845076Z"
    }
   },
   "source": [
    "## 相关函数"
   ]
  },
  {
   "cell_type": "code",
   "execution_count": null,
   "metadata": {},
   "outputs": [],
   "source": [
    "# 字节bytes转化kb\\m\\g\n",
    "def formatSize(bytes):\n",
    "    try:\n",
    "        bytes = float(bytes)\n",
    "        kb = bytes / 1024\n",
    "    except:\n",
    "        print(\"传入的字节格式不对\")\n",
    "        return \"Error\"\n",
    "\n",
    "    if kb >= 1024:\n",
    "        M = kb / 1024\n",
    "        if M >= 1024:\n",
    "            G = M / 1024\n",
    "            return \"%fG\" % (G)\n",
    "        else:\n",
    "            return \"%fM\" % (M)\n",
    "    else:\n",
    "        return \"%fkb\" % (kb)"
   ]
  },
  {
   "cell_type": "code",
   "execution_count": null,
   "metadata": {},
   "outputs": [],
   "source": [
    "# data 基本信息\n",
    "def print_info(data, file_path):\n",
    "    print('  ---------------------------------------------------------------------------  ')    \n",
    "    print(data.shape)\n",
    "    print('  ---------------------------------------------------------------------------  ')\n",
    "    print(data.columns)\n",
    "    print('  ---------------  内存大小：  ----------------------------------------------  ')    \n",
    "    print(data.info(memory_usage = 'deep')) # 准确内存大小\n",
    "    print('  ---------------  文件大小：  ----------------------------------------------  ')    \n",
    "    size = os.path.getsize(file_path)\n",
    "    print(formatSize(size))\n",
    "    print('  ---------------------------------------------------------------------------  ')\n",
    "    print(data.head())"
   ]
  },
  {
   "cell_type": "markdown",
   "metadata": {},
   "source": [
    "# 读入csv数据\n",
    "- chanle_id\t所属企业的chanle_id\n",
    "- company_gather_time（gather_time）\t采集或更新时间\n",
    "- company_name\t企业名称"
   ]
  },
  {
   "cell_type": "code",
   "execution_count": 7,
   "metadata": {
    "ExecuteTime": {
     "end_time": "2018-05-11T09:21:11.616374Z",
     "start_time": "2018-05-11T09:21:11.611459Z"
    }
   },
   "outputs": [
    {
     "data": {
      "text/plain": [
       "['company_imp_exp_credit_info.csv',\n",
       " 'company_branch_new.csv',\n",
       " 'company_base_business_info.csv',\n",
       " 'company_base_business_merge_new.csv',\n",
       " 'company_promoters_info_new.csv',\n",
       " 'company_base_contact_info_new.csv',\n",
       " 'company_business_change_new.csv']"
      ]
     },
     "execution_count": 7,
     "metadata": {},
     "output_type": "execute_result"
    }
   ],
   "source": [
    "# 文件列表\n",
    "file_list = os.listdir(data_folder)\n",
    "file_list"
   ]
  },
  {
   "cell_type": "markdown",
   "metadata": {},
   "source": [
    "## company_base_business_merge_new（企业工商注册）\n",
    "- company_regis_capital\t注册资本(万元)\n",
    "- company_operat_state\t经营状态\n",
    "- company_type\t企业(机构)类型\n",
    "- company_currency\t币种\n",
    "- company_registration_time\t注册时间\n",
    "- company_regis_capital\t注册资本(万元)\n",
    "- company_area_code\t地区行政编码\n",
    "- company_industry\t行业\n",
    "- company_legal_name\t法定代表人姓名"
   ]
  },
  {
   "cell_type": "markdown",
   "metadata": {},
   "source": [
    "## company_base_contact_info_new（企业联系方式）\n",
    "- company_company_size\t公司规模\n",
    "- company_email\t邮箱\n",
    "- company_telephone\t电话\n",
    "- company_web_site_url\t网址"
   ]
  },
  {
   "cell_type": "markdown",
   "metadata": {},
   "source": [
    "## company_branch_new（分支机构）\n",
    "- father_company_name\t父级企业名称，即当前企业"
   ]
  },
  {
   "cell_type": "markdown",
   "metadata": {},
   "source": [
    "## company_business_change_new（工商变更信息）\n",
    "- change_project\t变更项目\n",
    "- change_time\t变更时间"
   ]
  },
  {
   "cell_type": "markdown",
   "metadata": {},
   "source": [
    "## company_promoters_info_new（投资人、股东、发起人信息）\n",
    "- company_initiate_type\t发起人类型；0：未知；1：个人；2：企业"
   ]
  },
  {
   "cell_type": "markdown",
   "metadata": {},
   "source": [
    "## company_senior_manager_new（主要管理人员、高管等信息）\n",
    "- company_employee_name\t人员姓名\n",
    "- company_posite\t职务"
   ]
  },
  {
   "cell_type": "markdown",
   "metadata": {},
   "source": [
    "## company_execute_persons（失信被执行人信息）\n",
    "- execute_type\t类型（自然人(0)或企业(1)）\n",
    "- execute_perform\t被执行人的履行情况"
   ]
  },
  {
   "cell_type": "markdown",
   "metadata": {},
   "source": [
    "## company_imp_exp_credit_info（进出口信用信息）\n",
    "- company_annual_report\t年报情况\n",
    "- company_cancellate_no\t海关注销标志\n",
    "- company_credit_level\t信用等级\n",
    "- company_economic_region\t经济地区\n",
    "- company_oper_class\t经营类别\n",
    "- company_spe_trade_area\t特殊贸易区域"
   ]
  },
  {
   "cell_type": "code",
   "execution_count": 31,
   "metadata": {
    "ExecuteTime": {
     "end_time": "2018-05-11T09:52:11.508454Z",
     "start_time": "2018-05-11T09:52:10.818621Z"
    }
   },
   "outputs": [
    {
     "data": {
      "text/plain": [
       "'32.967723M'"
      ]
     },
     "execution_count": 31,
     "metadata": {},
     "output_type": "execute_result"
    }
   ],
   "source": [
    "company_imp_exp_credit_info = pd.read_csv(file_list[0], sep = '^')\n",
    "\n",
    "size = os.path.getsize(file_list[0])\n",
    "formatSize(size)"
   ]
  },
  {
   "cell_type": "code",
   "execution_count": 34,
   "metadata": {
    "ExecuteTime": {
     "end_time": "2018-05-11T10:02:29.216549Z",
     "start_time": "2018-05-11T10:02:29.004136Z"
    }
   },
   "outputs": [
    {
     "name": "stdout",
     "output_type": "stream",
     "text": [
      "  ---------------------------------------------------------------------------  \n",
      "(176981, 9)\n",
      "  ---------------------------------------------------------------------------  \n",
      "Index(['company_annual_report', 'company_cancellate_no',\n",
      "       'company_credit_level', 'company_economic_region', 'company_oper_class',\n",
      "       'company_spe_trade_area', 'chanle_id', 'company_gather_time',\n",
      "       'company_name'],\n",
      "      dtype='object')\n",
      "  ---------------  内存大小：  ----------------------------------------------  \n",
      "<class 'pandas.core.frame.DataFrame'>\n",
      "RangeIndex: 176981 entries, 0 to 176980\n",
      "Data columns (total 9 columns):\n",
      "company_annual_report      176981 non-null object\n",
      "company_cancellate_no      176981 non-null object\n",
      "company_credit_level       171967 non-null object\n",
      "company_economic_region    176981 non-null object\n",
      "company_oper_class         176981 non-null object\n",
      "company_spe_trade_area     176958 non-null object\n",
      "chanle_id                  176981 non-null object\n",
      "company_gather_time        176981 non-null object\n",
      "company_name               176981 non-null object\n",
      "dtypes: object(9)\n",
      "memory usage: 139.4 MB\n",
      "None\n",
      "  ---------------  文件大小：  ----------------------------------------------  \n",
      "32.967723M\n",
      "  ---------------------------------------------------------------------------  \n",
      "  company_annual_report company_cancellate_no company_credit_level  \\\n",
      "0                 超期未报送                    正常               一般信用企业   \n",
      "1                   已报送                    正常               一般认证企业   \n",
      "2                 超期未报送                    正常               一般信用企业   \n",
      "3                 超期未报送                    正常               一般信用企业   \n",
      "4                 超期未报送                    注销               一般信用企业   \n",
      "\n",
      "  company_economic_region company_oper_class company_spe_trade_area  \\\n",
      "0                  一般经济区域            进出口收发货人                  非特殊区域   \n",
      "1                  一般经济区域            进出口收发货人                  非特殊区域   \n",
      "2                  一般经济区域            进出口收发货人                  非特殊区域   \n",
      "3                  一般经济区域            进出口收发货人                  非特殊区域   \n",
      "4                  一般经济区域            进出口收发货人                  非特殊区域   \n",
      "\n",
      "                              chanle_id  company_gather_time      company_name  \n",
      "0  b7afee83-0435-45ed-867e-aae6807fff4b  2018-01-12 12:57:31        青岛正兴集团有限公司  \n",
      "1  ed2574a3-8a67-475f-ab77-0da147f71f9c  2017-12-26 20:42:22  大安东方国际贸易（北京）有限公司  \n",
      "2  58d25de5-1120-4b1f-9b01-96a0eefd1f73  2018-01-20 12:22:22      湖北高曼重工股份有限公司  \n",
      "3  d04d116d-bfde-4558-a3b8-697e31d2c2e3  2017-12-23 06:57:38        枣庄嘉瑞服饰有限公司  \n",
      "4  afb26331-ef3b-4761-af39-49d108e6f341  2017-11-16 05:37:55        茂名鼎晟表业有限公司  \n"
     ]
    }
   ],
   "source": [
    "print_info(company_imp_exp_credit_info, file_list[0])"
   ]
  },
  {
   "cell_type": "code",
   "execution_count": 22,
   "metadata": {
    "ExecuteTime": {
     "end_time": "2018-05-11T09:41:55.484823Z",
     "start_time": "2018-05-11T09:41:55.445119Z"
    }
   },
   "outputs": [
    {
     "data": {
      "text/plain": [
       "超期未报送    112148\n",
       "已报送       54889\n",
       "超期报送       4495\n",
       "未报送        4443\n",
       "不需要        1006\n",
       "Name: company_annual_report, dtype: int64"
      ]
     },
     "execution_count": 22,
     "metadata": {},
     "output_type": "execute_result"
    }
   ],
   "source": [
    "company_imp_exp_credit_info['company_annual_report'].value_counts(dropna = False)"
   ]
  },
  {
   "cell_type": "code",
   "execution_count": 23,
   "metadata": {
    "ExecuteTime": {
     "end_time": "2018-05-11T09:43:35.346472Z",
     "start_time": "2018-05-11T09:43:35.314721Z"
    }
   },
   "outputs": [
    {
     "data": {
      "text/plain": [
       "正常    116302\n",
       "注销     60679\n",
       "Name: company_cancellate_no, dtype: int64"
      ]
     },
     "execution_count": 23,
     "metadata": {},
     "output_type": "execute_result"
    }
   ],
   "source": [
    "company_imp_exp_credit_info['company_cancellate_no'].value_counts(dropna = False)"
   ]
  },
  {
   "cell_type": "code",
   "execution_count": 24,
   "metadata": {
    "ExecuteTime": {
     "end_time": "2018-05-11T09:43:51.909660Z",
     "start_time": "2018-05-11T09:43:51.876425Z"
    }
   },
   "outputs": [
    {
     "data": {
      "text/plain": [
       "一般信用企业    162678\n",
       "一般认证企业      7133\n",
       "NaN         5014\n",
       "高级认证企业      1202\n",
       "失信企业         954\n",
       "Name: company_credit_level, dtype: int64"
      ]
     },
     "execution_count": 24,
     "metadata": {},
     "output_type": "execute_result"
    }
   ],
   "source": [
    "company_imp_exp_credit_info['company_credit_level'].value_counts(dropna = False)"
   ]
  },
  {
   "cell_type": "code",
   "execution_count": 25,
   "metadata": {
    "ExecuteTime": {
     "end_time": "2018-05-11T09:44:08.797651Z",
     "start_time": "2018-05-11T09:44:08.765319Z"
    }
   },
   "outputs": [
    {
     "data": {
      "text/plain": [
       "一般经济区域        140992\n",
       "经济特区           14161\n",
       "经济技术开发全区        8674\n",
       "高新技术产业开发区       6393\n",
       "保税区             4630\n",
       "00               942\n",
       "保税港区、综合保税区       745\n",
       "出口加工区            357\n",
       "保税物流园区            84\n",
       "0W                 3\n",
       "Name: company_economic_region, dtype: int64"
      ]
     },
     "execution_count": 25,
     "metadata": {},
     "output_type": "execute_result"
    }
   ],
   "source": [
    "company_imp_exp_credit_info['company_economic_region'].value_counts(dropna = False)"
   ]
  },
  {
   "cell_type": "code",
   "execution_count": 26,
   "metadata": {
    "ExecuteTime": {
     "end_time": "2018-05-11T09:44:22.172272Z",
     "start_time": "2018-05-11T09:44:22.139416Z"
    }
   },
   "outputs": [
    {
     "data": {
      "text/plain": [
       "进出口收发货人        168518\n",
       "加工生产企业           5881\n",
       "报关企业             2015\n",
       "临时注册企业            281\n",
       "报关企业分支机构          201\n",
       "特殊监管区双重身份企业        34\n",
       "进出境运输工具负责人         22\n",
       "保税仓库               16\n",
       "0000000001         13\n",
       "Name: company_oper_class, dtype: int64"
      ]
     },
     "execution_count": 26,
     "metadata": {},
     "output_type": "execute_result"
    }
   ],
   "source": [
    "company_imp_exp_credit_info['company_oper_class'].value_counts(dropna = False)"
   ]
  },
  {
   "cell_type": "code",
   "execution_count": 27,
   "metadata": {
    "ExecuteTime": {
     "end_time": "2018-05-11T09:44:35.841923Z",
     "start_time": "2018-05-11T09:44:35.807939Z"
    }
   },
   "outputs": [
    {
     "data": {
      "text/plain": [
       "非特殊区域            174160\n",
       "外高桥保税区             1179\n",
       "陆家嘴金融片区             378\n",
       "张江高科技片区             206\n",
       "滨海商务区保税区海港          203\n",
       "东疆保税港区              133\n",
       "上海金桥开发区             117\n",
       "厦门非特殊监管区            112\n",
       "蛇口非特殊监管区             61\n",
       "浦东机场综合保税区            60\n",
       "南沙新区非特殊监管区           50\n",
       "天津机场保税区空港            49\n",
       "珠海横琴新区               48\n",
       "洋山保税港区               46\n",
       "厦门象屿保税区              45\n",
       "NaN                  23\n",
       "广州南沙保税港区             14\n",
       "滨海商务区非特殊监管区          13\n",
       "福州保税区                12\n",
       "厦门海沧保税港区             11\n",
       "3501F203             10\n",
       "象屿保税物流园区             10\n",
       "福州经开区非特殊监管区          10\n",
       "滨海商务区保税物流园            5\n",
       "蛇口前海保税港区              5\n",
       "外高桥保税物流园区             5\n",
       "天津机场滨海新区综合保税区         5\n",
       "3512F001              3\n",
       "3501F063              3\n",
       "天津机场非特殊监管区            3\n",
       "福州保税港区                1\n",
       "平潭综合实验区               1\n",
       "Name: company_spe_trade_area, dtype: int64"
      ]
     },
     "execution_count": 27,
     "metadata": {},
     "output_type": "execute_result"
    }
   ],
   "source": [
    "company_imp_exp_credit_info['company_spe_trade_area'].value_counts(dropna = False)"
   ]
  },
  {
   "cell_type": "markdown",
   "metadata": {},
   "source": [
    "## company_outbound_investment_new（对外投资）\n",
    "- investment_company_name\t所投企业(机构)名称"
   ]
  },
  {
   "cell_type": "markdown",
   "metadata": {},
   "source": [
    "## company_custom_rating（海关评级信息）\n",
    "- business_level\t海关评级\n",
    "- industry_type\t行业种类"
   ]
  },
  {
   "cell_type": "code",
   "execution_count": null,
   "metadata": {},
   "outputs": [],
   "source": []
  },
  {
   "cell_type": "code",
   "execution_count": null,
   "metadata": {},
   "outputs": [],
   "source": []
  }
 ],
 "metadata": {
  "kernelspec": {
   "display_name": "Python 3",
   "language": "python",
   "name": "python3"
  },
  "language_info": {
   "codemirror_mode": {
    "name": "ipython",
    "version": 3
   },
   "file_extension": ".py",
   "mimetype": "text/x-python",
   "name": "python",
   "nbconvert_exporter": "python",
   "pygments_lexer": "ipython3",
   "version": "3.6.3"
  },
  "toc": {
   "base_numbering": 1,
   "nav_menu": {},
   "number_sections": true,
   "sideBar": true,
   "skip_h1_title": false,
   "title_cell": "Table of Contents",
   "title_sidebar": "Contents",
   "toc_cell": false,
   "toc_position": {},
   "toc_section_display": true,
   "toc_window_display": true
  },
  "varInspector": {
   "cols": {
    "lenName": 16,
    "lenType": 16,
    "lenVar": 40
   },
   "kernels_config": {
    "python": {
     "delete_cmd_postfix": "",
     "delete_cmd_prefix": "del ",
     "library": "var_list.py",
     "varRefreshCmd": "print(var_dic_list())"
    },
    "r": {
     "delete_cmd_postfix": ") ",
     "delete_cmd_prefix": "rm(",
     "library": "var_list.r",
     "varRefreshCmd": "cat(var_dic_list()) "
    }
   },
   "types_to_exclude": [
    "module",
    "function",
    "builtin_function_or_method",
    "instance",
    "_Feature"
   ],
   "window_display": false
  }
 },
 "nbformat": 4,
 "nbformat_minor": 2
}
