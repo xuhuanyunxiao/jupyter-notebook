{
 "cells": [
  {
   "cell_type": "markdown",
   "metadata": {},
   "source": [
    "# 本文件说明\n",
    "- 读取数据、预处理数据"
   ]
  },
  {
   "cell_type": "markdown",
   "metadata": {},
   "source": [
    "# 基本设置"
   ]
  },
  {
   "cell_type": "code",
   "execution_count": 13,
   "metadata": {
    "ExecuteTime": {
     "end_time": "2018-11-18T08:21:11.540998Z",
     "start_time": "2018-11-18T08:21:11.381989Z"
    }
   },
   "outputs": [],
   "source": [
    "import xlrd\n",
    "\n",
    "%matplotlib inline\n",
    "import numpy as np\n",
    "import pandas as pd\n",
    "from toolkits.nlp import pre_cor_circ\n",
    "from toolkits.nlp import pre_cor_cbrc\n",
    "from toolkits.setup.specific_func import contain_ch, set_ch_pd\n",
    "set_ch_pd()\n",
    "from sklearn import metrics\n",
    "\n",
    "import warnings\n",
    "warnings.filterwarnings('ignore')"
   ]
  },
  {
   "cell_type": "code",
   "execution_count": 14,
   "metadata": {
    "ExecuteTime": {
     "end_time": "2018-11-18T08:21:11.672006Z",
     "start_time": "2018-11-18T08:21:11.546999Z"
    }
   },
   "outputs": [
    {
     "name": "stdout",
     "output_type": "stream",
     "text": [
      "The autoreload extension is already loaded. To reload it, use:\n",
      "  %reload_ext autoreload\n"
     ]
    }
   ],
   "source": [
    "%load_ext autoreload\n",
    "%autoreload 2"
   ]
  },
  {
   "cell_type": "markdown",
   "metadata": {},
   "source": [
    "## 一些函数"
   ]
  },
  {
   "cell_type": "code",
   "execution_count": 15,
   "metadata": {
    "ExecuteTime": {
     "end_time": "2018-11-18T08:21:11.820014Z",
     "start_time": "2018-11-18T08:21:11.677006Z"
    },
    "collapsed": true
   },
   "outputs": [],
   "source": [
    "def predict_right(folder, file_list):\n",
    "    '''预测正确数据'''\n",
    "    right_data = pd.DataFrame()\n",
    "    for file_name in file_list:\n",
    "        currentPath  = '{0}/{1}'.format(folder, file_name)\n",
    "        excel = xlrd.open_workbook(currentPath)\n",
    "        sheet_names = [sheet.name for sheet in excel.sheets()]\n",
    "        for sheet_name in sheet_names:    \n",
    "            tmp_data = pd.read_excel(currentPath, sheet_name)\n",
    "    #         tmp_data = tmp_data[tmp_data['R_W'] == 'Right']\n",
    "            print('去空值前： ', tmp_data.shape, file_name, sheet_name)\n",
    "#             tmp_data = tmp_data[tmp_data['备注'] != '删除']\n",
    "    #         tmp_data = tmp_data.dropna(subset = ['raw_title'], axis = 0)\n",
    "#             print('去空值后： ', tmp_data.shape, file_name, sheet_name)\n",
    "            right_data = pd.concat([right_data, tmp_data], axis = 0)    \n",
    "    return right_data"
   ]
  },
  {
   "cell_type": "code",
   "execution_count": 16,
   "metadata": {
    "ExecuteTime": {
     "end_time": "2018-11-18T08:21:11.968023Z",
     "start_time": "2018-11-18T08:21:11.823014Z"
    },
    "collapsed": true
   },
   "outputs": [],
   "source": [
    "def correct_wrong_data(folder, file_list):\n",
    "    '''预测错误修正后数据'''\n",
    "    correct_wrong_data = pd.DataFrame()\n",
    "    for file_name in file_list:\n",
    "        currentPath  = '{0}/{1}'.format(folder, file_name)\n",
    "        excel = xlrd.open_workbook(currentPath)\n",
    "        sheet_names = [sheet.name for sheet in excel.sheets()]\n",
    "        for sheet_name in sheet_names:    \n",
    "            tmp_data = pd.read_excel(currentPath, sheet_name)\n",
    "    #         tmp_data = tmp_data[tmp_data['R_W'] == 'Wrong']\n",
    "            print('去删除前： ', tmp_data.shape, file_name, sheet_name)\n",
    "            tmp_data = tmp_data[tmp_data['备注'] != '删除']\n",
    "    #         tmp_data = tmp_data.dropna(subset = ['raw_title'], axis = 0)\n",
    "            print('去删除后： ', tmp_data.shape, file_name, sheet_name)\n",
    "\n",
    "            tmp_data['人工判断'] = tmp_data.apply(lambda x:1 if x['label'] == x['备注'] else 0, axis = 1)\n",
    "            tmp_data['算法判断'] = tmp_data.apply(lambda x:1 if x['predict_label'] == x['备注'] else 0, axis = 1)\n",
    "            print('人工误判率： %0.2f'%(1 - tmp_data['人工判断'].sum() / tmp_data.shape[0]),\n",
    "                  '算法误判率： %0.2f'%(1 - tmp_data['算法判断'].sum() / tmp_data.shape[0]))\n",
    "            print()\n",
    "\n",
    "            correct_wrong_data = pd.concat([correct_wrong_data, tmp_data], axis = 0)\n",
    "    return correct_wrong_data"
   ]
  },
  {
   "cell_type": "code",
   "execution_count": 17,
   "metadata": {
    "ExecuteTime": {
     "end_time": "2018-11-18T08:21:12.109031Z",
     "start_time": "2018-11-18T08:21:11.971023Z"
    },
    "collapsed": true
   },
   "outputs": [],
   "source": [
    "def get_new_data(folder, file_list):\n",
    "    '''新补充数据'''\n",
    "    new_data = pd.DataFrame()\n",
    "    for file_name in file_list:\n",
    "        currentPath  = '{0}/{1}'.format(folder, file_name)\n",
    "        excel = xlrd.open_workbook(currentPath)\n",
    "        sheet_names = [sheet.name for sheet in excel.sheets()]\n",
    "        for sheet_name in sheet_names:    \n",
    "            tmp_data = pd.read_excel(currentPath, sheet_name)\n",
    "            print(tmp_data.columns)\n",
    "            tmp_data = tmp_data[['label', 'title', 'content']]\n",
    "            print('去空值前： ', tmp_data.shape, file_name, sheet_name)\n",
    "            tmp_data = tmp_data.dropna(subset = ['label'], axis = 0)\n",
    "            print('去空值后： ', tmp_data.shape, file_name, sheet_name)\n",
    "            new_data = pd.concat([new_data, tmp_data], axis = 0)    \n",
    "    return new_data"
   ]
  },
  {
   "cell_type": "code",
   "execution_count": 18,
   "metadata": {
    "ExecuteTime": {
     "end_time": "2018-11-18T08:21:12.264040Z",
     "start_time": "2018-11-18T08:21:12.113031Z"
    },
    "collapsed": true
   },
   "outputs": [],
   "source": [
    "def get_PR_plot_data(feedback_data, date, plot_data):\n",
    "    y_pred_class = feedback_data[feedback_data['date'] == date]['predict_label'].tolist()\n",
    "    y_test = feedback_data[feedback_data['date'] == date]['label'].tolist()\n",
    "    print('accuracy_score: ', metrics.accuracy_score(y_test, y_pred_class)) # 指所有分类正确的百分比\n",
    "    print(metrics.classification_report(y_test, y_pred_class))\n",
    "    print('confusion_matrix: ')\n",
    "    print( metrics.confusion_matrix(y_test, y_pred_class))\n",
    "    print()       \n",
    "    \n",
    "    classification_report = metrics.classification_report(y_test, y_pred_class)\n",
    "    lines = classification_report.split('\\n')\n",
    "    # plot_data = []\n",
    "    for index, line in enumerate(lines[2 : len(lines)]):\n",
    "        t = line.strip().split()\n",
    "        if len(t) < 2: continue    \n",
    "        if (index + 2) < (len(lines) - 2):\n",
    "            t = [float(v) if i > 0 else v for i, v in enumerate(t)]\n",
    "            plot_data.append(t + [date])\n",
    "        else :\n",
    "            t = [float(v) if i > 2 else v for i, v in enumerate(t) ]\n",
    "            plot_data.append(['avg/total'] + t[3:] + [date])    \n",
    "            \n",
    "    return plot_data"
   ]
  },
  {
   "cell_type": "code",
   "execution_count": 19,
   "metadata": {
    "ExecuteTime": {
     "end_time": "2018-11-18T08:21:12.508054Z",
     "start_time": "2018-11-18T08:21:12.268040Z"
    },
    "collapsed": true
   },
   "outputs": [],
   "source": [
    "def get_feedback_data(folder, file_list):\n",
    "    '''模型预测后反馈数据'''\n",
    "    feedback_data = pd.DataFrame()\n",
    "    label_list = []\n",
    "    sum_list = []\n",
    "    right_list = []\n",
    "    plot_data = []\n",
    "    for file_name in file_list:\n",
    "        print('  ----    ', file_name)\n",
    "        date = file_name.split('_')[0]\n",
    "        currentPath  = '{0}/{1}'.format(folder, file_name)\n",
    "        excel = xlrd.open_workbook(currentPath)\n",
    "        sheet_names = [sheet.name for sheet in excel.sheets()]\n",
    "        for sheet_name in sheet_names:   \n",
    "            tmp_data = pd.read_excel(currentPath, sheet_name)    \n",
    "            tmp_data = tmp_data[tmp_data['label'] != '删除']\n",
    "            tmp_data_1 = tmp_data[tmp_data['label'] == sheet_name]\n",
    "\n",
    "            label_list.append(sheet_name)\n",
    "            sum_list.append(tmp_data.shape[0])\n",
    "            right_list.append(tmp_data_1.shape[0])\n",
    "            print('类别：', sheet_name, '总数：', tmp_data.shape[0], \n",
    "                  '正确数', tmp_data_1.shape[0], \n",
    "                  '正确比例', tmp_data_1.shape[0]/tmp_data.shape[0])\n",
    "            \n",
    "            if 'predict_label' in tmp_data_1.columns:\n",
    "                tmp_data_1 = tmp_data[['predict_label', 'label', 'title', 'content']]\n",
    "            else :\n",
    "                tmp_data_1 = tmp_data[['label', 'title', 'content']]\n",
    "                if contain_ch(sheet_name) :\n",
    "                    tmp_data_1['predict_label'] = sheet_name\n",
    "                else :\n",
    "                    tmp_data_1['predict_label'] = ''\n",
    "                \n",
    "            tmp_data_1['date'] = date\n",
    "            print('去空值前： ', tmp_data_1.shape, file_name, sheet_name)\n",
    "            tmp_data_1 = tmp_data_1.dropna(subset = ['label'], axis = 0)\n",
    "            print('去空值后： ', tmp_data_1.shape, file_name, sheet_name)\n",
    "            feedback_data = pd.concat([feedback_data, tmp_data_1], axis = 0)\n",
    "            print() \n",
    "                        \n",
    "        plot_data = get_PR_plot_data(feedback_data, date, plot_data) \n",
    "            \n",
    "    PR_data = feedback_data[['date', 'predict_label', 'label']]\n",
    "    feedback_data = feedback_data.drop('date', axis = 1)\n",
    "    feedback_data = feedback_data.drop('predict_label', axis = 1)\n",
    "    PR_plot_data  = pd.DataFrame(plot_data, columns = ['label', 'precision', 'recall', \n",
    "                                                    'f1-score', 'support', 'date'])     \n",
    "    \n",
    "    return feedback_data, PR_data, PR_plot_data"
   ]
  },
  {
   "cell_type": "code",
   "execution_count": 20,
   "metadata": {
    "ExecuteTime": {
     "end_time": "2018-11-18T08:21:12.674063Z",
     "start_time": "2018-11-18T08:21:12.512054Z"
    },
    "collapsed": true
   },
   "outputs": [],
   "source": [
    "def pre_save(pre_func, data, save_folder):\n",
    "    print(data.shape)\n",
    "    print('save_folder: ', save_folder)\n",
    "    \n",
    "    titles = pre_func(data['title'].tolist())\n",
    "    print('title num: ', len(titles))\n",
    "    save_filename = save_folder + 'corpus/titles.txt'\n",
    "    fid = open(save_filename, \"w+\", encoding='UTF-8')\n",
    "    for line in titles:\n",
    "        fid.write(line + '\\n')\n",
    "    fid.close()  \n",
    "    \n",
    "#     print(len(data['content'].tolist()))\n",
    "    contents = pre_func(data['content'].tolist())\n",
    "    print('content num: ', len(contents))\n",
    "    print(contents[0])\n",
    "    # contents = [re.sub(r'[a-z]*', '', x) for x in contents]\n",
    "    # print(len(contents))\n",
    "    # print(contents[:2])\n",
    "    coprus_save_filename = save_folder + 'corpus/contents.txt'\n",
    "    f = open(coprus_save_filename, \"w+\", encoding='UTF-8')\n",
    "    for line in contents:\n",
    "        f.write(line + '\\n')\n",
    "    f.close()    \n",
    "\n",
    "    label = data['label'].tolist()\n",
    "    print('label num: ', len(label))\n",
    "    coprus_save_filename = save_folder + 'corpus/labels.txt'\n",
    "    f = open(coprus_save_filename, \"w+\", encoding='UTF-8')\n",
    "    for line in label:\n",
    "        f.write(str(line) + '\\n')\n",
    "    f.close()\n",
    "\n",
    "    data.to_excel(save_folder + 'corpus/title_content_label.xlsx', index = False)\n",
    "    "
   ]
  },
  {
   "cell_type": "markdown",
   "metadata": {},
   "source": [
    "# 西藏教育厅：1 八分类"
   ]
  },
  {
   "cell_type": "markdown",
   "metadata": {},
   "source": [
    "## 读取数据"
   ]
  },
  {
   "cell_type": "code",
   "execution_count": 21,
   "metadata": {
    "ExecuteTime": {
     "end_time": "2018-11-18T08:21:12.795070Z",
     "start_time": "2018-11-18T08:21:12.677063Z"
    },
    "collapsed": true
   },
   "outputs": [],
   "source": [
    "folder = 'cor_data/20181118'"
   ]
  },
  {
   "cell_type": "markdown",
   "metadata": {},
   "source": [
    "### 预测正确数据"
   ]
  },
  {
   "cell_type": "code",
   "execution_count": 22,
   "metadata": {
    "ExecuteTime": {
     "end_time": "2018-11-18T08:21:12.920077Z",
     "start_time": "2018-11-18T08:21:12.798070Z"
    }
   },
   "outputs": [],
   "source": [
    "# file_list_1 = ['circ_class_sel_else_20180827.xlsx',]\n",
    "# circ_raw_class_1 = predict_right(folder, file_list_1)\n",
    "\n",
    "# circ_raw_class_1['label'] = circ_raw_class_1['label'].apply(lambda x:x.strip())    \n",
    "# circ_raw_class_1 = circ_raw_class_1[['label', 'raw_title', 'raw_content']]\n",
    "# circ_raw_class_1.columns = ['label', 'title', 'content']\n",
    "# print('总数：', circ_raw_class_1.shape)\n",
    "# circ_raw_class_1.head()"
   ]
  },
  {
   "cell_type": "code",
   "execution_count": 23,
   "metadata": {
    "ExecuteTime": {
     "end_time": "2018-11-18T08:21:13.041084Z",
     "start_time": "2018-11-18T08:21:12.925077Z"
    }
   },
   "outputs": [],
   "source": [
    "# circ_raw_class_1['label'].value_counts()"
   ]
  },
  {
   "cell_type": "markdown",
   "metadata": {},
   "source": [
    "### 预测错误修正后数据"
   ]
  },
  {
   "cell_type": "code",
   "execution_count": 24,
   "metadata": {
    "ExecuteTime": {
     "end_time": "2018-11-18T08:21:13.165091Z",
     "start_time": "2018-11-18T08:21:13.044084Z"
    }
   },
   "outputs": [],
   "source": [
    "# file_list_2 = ['circ_class_sel_20180827-1.xlsx','circ_class_sel_20180827-2.xlsx']\n",
    "\n",
    "# circ_raw_class_2 = correct_wrong_data(folder, file_list_2)\n",
    "# circ_raw_class_2['label'] = circ_raw_class_2['label'].apply(lambda x:x.strip())  \n",
    "# circ_raw_class_2 = circ_raw_class_2[['备注', 'raw_title', 'raw_content']]\n",
    "# circ_raw_class_2.columns = ['label', 'title', 'content']\n",
    "# print('总数：', circ_raw_class_2.shape)\n",
    "# circ_raw_class_2.head()"
   ]
  },
  {
   "cell_type": "code",
   "execution_count": 25,
   "metadata": {
    "ExecuteTime": {
     "end_time": "2018-11-18T08:21:13.286098Z",
     "start_time": "2018-11-18T08:21:13.168091Z"
    }
   },
   "outputs": [],
   "source": [
    "# circ_raw_class_2['label'].value_counts()"
   ]
  },
  {
   "cell_type": "markdown",
   "metadata": {},
   "source": [
    "### 新补充数据"
   ]
  },
  {
   "cell_type": "code",
   "execution_count": 28,
   "metadata": {
    "ExecuteTime": {
     "end_time": "2018-11-18T08:22:36.141837Z",
     "start_time": "2018-11-18T08:22:35.897823Z"
    }
   },
   "outputs": [
    {
     "name": "stdout",
     "output_type": "stream",
     "text": [
      "Index(['label', 'title', 'content'], dtype='object')\n",
      "去空值前：  (938, 3) 20181118西藏教育.xlsx Sheet1\n",
      "去空值后：  (938, 3) 20181118西藏教育.xlsx Sheet1\n",
      "总数： (938, 3)\n"
     ]
    },
    {
     "data": {
      "text/html": [
       "<div>\n",
       "<style scoped>\n",
       "    .dataframe tbody tr th:only-of-type {\n",
       "        vertical-align: middle;\n",
       "    }\n",
       "\n",
       "    .dataframe tbody tr th {\n",
       "        vertical-align: top;\n",
       "    }\n",
       "\n",
       "    .dataframe thead th {\n",
       "        text-align: right;\n",
       "    }\n",
       "</style>\n",
       "<table border=\"1\" class=\"dataframe\">\n",
       "  <thead>\n",
       "    <tr style=\"text-align: right;\">\n",
       "      <th></th>\n",
       "      <th>label</th>\n",
       "      <th>title</th>\n",
       "      <th>content</th>\n",
       "    </tr>\n",
       "  </thead>\n",
       "  <tbody>\n",
       "    <tr>\n",
       "      <th>0</th>\n",
       "      <td>0</td>\n",
       "      <td>校友焦念勇 | 医者仁心援藏路</td>\n",
       "      <td>北京市第八批援藏医疗队员,来到我们即将工作、生活的地方-—拉萨市尼木县人民医院,机场外我们受到了北京援藏指挥部及拉萨市领导的热情迎接,我们不仅感受到了政府和医院领导对我们新一批援藏队员无微不至的关怀和重视,为期一年的援藏工作即将开始了,还有即将结束援藏任务的第二期老队员,作为北京市第八批第三期援藏医疗队队员的我们就此踏上了西藏这片神奇的土地,医者仁心援藏路 焦念勇,也见证了老一批援藏队员在这一年中做出的成绩,始终以尼木县人民医院</td>\n",
       "    </tr>\n",
       "    <tr>\n",
       "      <th>1</th>\n",
       "      <td>0</td>\n",
       "      <td>5个贫困村的一抹“税务蓝”</td>\n",
       "      <td>区国税局第七批驻谢通门县仁钦则乡工作队为5名贫困群众提供了厨师工作岗位,并由区国税局第七批驻谢通门县仁钦则乡工作队和村,区国税局第七批驻谢通门县仁钦则乡工作队和村,自治区国税局第七批驻村工作队于2018年1月3日正式入驻谢通门县仁钦则乡5个贫困村,驻村工作队自筹资金91600元对229个贫困家庭进行了慰问,区国税局第七批驻谢通门县仁钦则乡工作队开展了, 西藏自治区国税局第七批驻谢通门县仁钦则乡工作队队员们不仅把驻村工作作为重要政治任务,区国税局第七批驻谢通门县仁钦则乡工作队总队长珠加说,永不走的驻村工作队,区国税局第七批驻谢通门县仁钦则乡工作队立即成立了临时党支部</td>\n",
       "    </tr>\n",
       "    <tr>\n",
       "      <th>2</th>\n",
       "      <td>0</td>\n",
       "      <td>实探鼓楼滨江丨全方位完胜！120万起网红餐饮铺将加推</td>\n",
       "      <td>①中海桃源印巷②世茂外滩茂悦里③恒大滨江④证大阅公馆⑤中冶盛世滨江,1、全鼓楼滨江唯一能做餐饮的、目前可售的只有世茂外滩茂悦里,世茂外滩·茂悦里 鼓楼熟铺,△茂悦里商业6效果图 看点 03 鼓楼滨江唯一一家能买到、可做餐饮的商铺 核心卖点越多得分越高,世茂外滩茂悦里商业6即将加推,中冶(4-6万/㎡)＞中海(5万/㎡)＞证大、恒大(4万/㎡)＞世茂(不到4万/㎡),2、世茂外滩茂悦里、证大阅公馆及中冶盛世滨江都可以坐享校区经济,2、就总价而言最低的是世茂外滩茂悦里,有3组客户在看外滩茂悦里的商铺,世茂外滩茂悦里即将加推商业6 案场到访越多得分越高</td>\n",
       "    </tr>\n",
       "    <tr>\n",
       "      <th>3</th>\n",
       "      <td>0</td>\n",
       "      <td>全球首创！这款“庐阳制造”让火灾报警变预警！</td>\n",
       "      <td>我们便着手研发电气火灾预警探测器,可以精准预警电气火灾,是电气火灾,电气火灾到底有多可怕,67%的重特大火灾也是因为电气造成,目前国内火灾起因30%是因为电气造成,该产品传感器的精度是报警器的6-8个数量值,而目前全世界针对电气引发的火灾采取的都是安装火灾报警器,庐阳区IE果园一入驻企业成功研发了超前预警型电气火灾物联网探测器,一旦发生电气火灾 切记先断电</td>\n",
       "    </tr>\n",
       "    <tr>\n",
       "      <th>4</th>\n",
       "      <td>0</td>\n",
       "      <td>文化馨香飘雅砻 ——改革开放40年山南文化事业发展成就综述</td>\n",
       "      <td>打造雅砻文化品牌,积极打造雅砻文化品牌 乃东县民族哗叽手工编织专业合作社创建的,山南大力实施文化精品工程,为雅砻文化繁荣发展添砖加瓦 山南具有深厚的文化底蕴,山南市还积极打造特色文化活动品牌,举办中国西藏雅砻文化节、吐蕃文化旅游节,我市把文化惠民工程作为全市,全市文化类企业发展到1010户,文化品牌,山南坚持把文化基础设施建设作为健全公共文化服务体系最基础的工作</td>\n",
       "    </tr>\n",
       "  </tbody>\n",
       "</table>\n",
       "</div>"
      ],
      "text/plain": [
       "   label                          title  \\\n",
       "0      0                校友焦念勇 | 医者仁心援藏路   \n",
       "1      0                  5个贫困村的一抹“税务蓝”   \n",
       "2      0     实探鼓楼滨江丨全方位完胜！120万起网红餐饮铺将加推   \n",
       "3      0         全球首创！这款“庐阳制造”让火灾报警变预警！   \n",
       "4      0  文化馨香飘雅砻 ——改革开放40年山南文化事业发展成就综述   \n",
       "\n",
       "                                                                                                                                                                                                                                                                                         content  \n",
       "0                                                                       北京市第八批援藏医疗队员,来到我们即将工作、生活的地方-—拉萨市尼木县人民医院,机场外我们受到了北京援藏指挥部及拉萨市领导的热情迎接,我们不仅感受到了政府和医院领导对我们新一批援藏队员无微不至的关怀和重视,为期一年的援藏工作即将开始了,还有即将结束援藏任务的第二期老队员,作为北京市第八批第三期援藏医疗队队员的我们就此踏上了西藏这片神奇的土地,医者仁心援藏路 焦念勇,也见证了老一批援藏队员在这一年中做出的成绩,始终以尼木县人民医院  \n",
       "1  区国税局第七批驻谢通门县仁钦则乡工作队为5名贫困群众提供了厨师工作岗位,并由区国税局第七批驻谢通门县仁钦则乡工作队和村,区国税局第七批驻谢通门县仁钦则乡工作队和村,自治区国税局第七批驻村工作队于2018年1月3日正式入驻谢通门县仁钦则乡5个贫困村,驻村工作队自筹资金91600元对229个贫困家庭进行了慰问,区国税局第七批驻谢通门县仁钦则乡工作队开展了, 西藏自治区国税局第七批驻谢通门县仁钦则乡工作队队员们不仅把驻村工作作为重要政治任务,区国税局第七批驻谢通门县仁钦则乡工作队总队长珠加说,永不走的驻村工作队,区国税局第七批驻谢通门县仁钦则乡工作队立即成立了临时党支部  \n",
       "2           ①中海桃源印巷②世茂外滩茂悦里③恒大滨江④证大阅公馆⑤中冶盛世滨江,1、全鼓楼滨江唯一能做餐饮的、目前可售的只有世茂外滩茂悦里,世茂外滩·茂悦里 鼓楼熟铺,△茂悦里商业6效果图 看点 03 鼓楼滨江唯一一家能买到、可做餐饮的商铺 核心卖点越多得分越高,世茂外滩茂悦里商业6即将加推,中冶(4-6万/㎡)＞中海(5万/㎡)＞证大、恒大(4万/㎡)＞世茂(不到4万/㎡),2、世茂外滩茂悦里、证大阅公馆及中冶盛世滨江都可以坐享校区经济,2、就总价而言最低的是世茂外滩茂悦里,有3组客户在看外滩茂悦里的商铺,世茂外滩茂悦里即将加推商业6 案场到访越多得分越高  \n",
       "3                                                                                                            我们便着手研发电气火灾预警探测器,可以精准预警电气火灾,是电气火灾,电气火灾到底有多可怕,67%的重特大火灾也是因为电气造成,目前国内火灾起因30%是因为电气造成,该产品传感器的精度是报警器的6-8个数量值,而目前全世界针对电气引发的火灾采取的都是安装火灾报警器,庐阳区IE果园一入驻企业成功研发了超前预警型电气火灾物联网探测器,一旦发生电气火灾 切记先断电  \n",
       "4                                                                                                         打造雅砻文化品牌,积极打造雅砻文化品牌 乃东县民族哗叽手工编织专业合作社创建的,山南大力实施文化精品工程,为雅砻文化繁荣发展添砖加瓦 山南具有深厚的文化底蕴,山南市还积极打造特色文化活动品牌,举办中国西藏雅砻文化节、吐蕃文化旅游节,我市把文化惠民工程作为全市,全市文化类企业发展到1010户,文化品牌,山南坚持把文化基础设施建设作为健全公共文化服务体系最基础的工作  "
      ]
     },
     "execution_count": 28,
     "metadata": {},
     "output_type": "execute_result"
    }
   ],
   "source": [
    "file_list_3 = ['20181118西藏教育.xlsx'\n",
    "               ] # 多个 sheet\n",
    "\n",
    "circ_raw_class_3 = get_new_data(folder, file_list_3)\n",
    "\n",
    "# circ_raw_class_3['label'] = circ_raw_class_3['label'].apply(lambda x:x.strip())    \n",
    "print('总数：', circ_raw_class_3.shape)\n",
    "circ_raw_class_3.head()"
   ]
  },
  {
   "cell_type": "code",
   "execution_count": 29,
   "metadata": {
    "ExecuteTime": {
     "end_time": "2018-11-18T08:22:40.886108Z",
     "start_time": "2018-11-18T08:22:40.696098Z"
    }
   },
   "outputs": [
    {
     "data": {
      "text/plain": [
       "0    616\n",
       "1    322\n",
       "Name: label, dtype: int64"
      ]
     },
     "execution_count": 29,
     "metadata": {},
     "output_type": "execute_result"
    }
   ],
   "source": [
    "circ_raw_class_3['label'].value_counts()"
   ]
  },
  {
   "cell_type": "markdown",
   "metadata": {},
   "source": [
    "### 模型预测后反馈数据"
   ]
  },
  {
   "cell_type": "code",
   "execution_count": 30,
   "metadata": {
    "ExecuteTime": {
     "end_time": "2018-11-18T08:22:44.017288Z",
     "start_time": "2018-11-18T08:22:43.886280Z"
    }
   },
   "outputs": [],
   "source": [
    "# file_list_4 = ['20180904_circ_class_feedback.xlsx', '20180905_circ_class_feedback.xlsx',\n",
    "#                '20180912_circ_class_feedback.xlsx','20180920_circ_class_feedback.xlsx',\n",
    "#                '20180925_circ_class_feedback.xlsx', '20181008_circ_class_feedback.xlsx',\n",
    "#                '20181019_circ_class_feedback.xlsx', '20181112_circ_class_feedback.xlsx'\n",
    "#               ] # 多个 sheet\n",
    "\n",
    "# circ_raw_class_4, PR_data, PR_plot_data = get_feedback_data(folder, file_list_4)\n",
    "\n",
    "# circ_raw_class_4['label'] = circ_raw_class_4['label'].apply(lambda x:x.strip())    \n",
    "# print('总数：', circ_raw_class_4.shape)\n",
    "# circ_raw_class_4.head()"
   ]
  },
  {
   "cell_type": "code",
   "execution_count": 31,
   "metadata": {
    "ExecuteTime": {
     "end_time": "2018-11-18T08:22:44.962342Z",
     "start_time": "2018-11-18T08:22:44.829334Z"
    }
   },
   "outputs": [],
   "source": [
    "# circ_raw_class_4['label'].value_counts()"
   ]
  },
  {
   "cell_type": "markdown",
   "metadata": {},
   "source": [
    "#### PR"
   ]
  },
  {
   "cell_type": "code",
   "execution_count": 32,
   "metadata": {
    "ExecuteTime": {
     "end_time": "2018-11-18T08:22:46.046404Z",
     "start_time": "2018-11-18T08:22:45.910396Z"
    }
   },
   "outputs": [],
   "source": [
    "# y_pred_class = PR_data['predict_label'].tolist()\n",
    "# y_test = PR_data['label'].tolist()\n",
    "# print('accuracy_score: ', metrics.accuracy_score(y_test, y_pred_class)) # 指所有分类正确的百分比\n",
    "# print(metrics.classification_report(y_test, y_pred_class))\n",
    "# print('confusion_matrix: ')\n",
    "# print( metrics.confusion_matrix(y_test, y_pred_class))\n",
    "# # PR_data.head()"
   ]
  },
  {
   "cell_type": "code",
   "execution_count": 33,
   "metadata": {
    "ExecuteTime": {
     "end_time": "2018-11-18T08:22:46.467428Z",
     "start_time": "2018-11-18T08:22:46.349421Z"
    },
    "collapsed": true
   },
   "outputs": [],
   "source": [
    "# PR_plot_data\n",
    "# PR_plot_data = PR_plot_data.reset_index('date')"
   ]
  },
  {
   "cell_type": "code",
   "execution_count": 34,
   "metadata": {
    "ExecuteTime": {
     "end_time": "2018-11-18T08:22:46.883452Z",
     "start_time": "2018-11-18T08:22:46.759444Z"
    }
   },
   "outputs": [],
   "source": [
    "# PR_plot_data[PR_plot_data['label'] == 'avg/total'][[ 'date', 'precision', 'recall' ,'f1-score']].plot(x = 'date')\n",
    "# PR_plot_data[PR_plot_data['label'] == 'avg/total']"
   ]
  },
  {
   "cell_type": "code",
   "execution_count": 35,
   "metadata": {
    "ExecuteTime": {
     "end_time": "2018-11-18T08:22:47.300475Z",
     "start_time": "2018-11-18T08:22:47.166468Z"
    }
   },
   "outputs": [],
   "source": [
    "# P_data = PR_plot_data[PR_plot_data['label'] != 'avg/total'][ ['date', 'label', 'precision']]\n",
    "# P_data.set_index(['date','label']).unstack('label').plot(figsize = (15,6))\n",
    "# P_data.set_index(['date','label']).unstack('label')"
   ]
  },
  {
   "cell_type": "code",
   "execution_count": 36,
   "metadata": {
    "ExecuteTime": {
     "end_time": "2018-11-18T08:22:47.717499Z",
     "start_time": "2018-11-18T08:22:47.603493Z"
    }
   },
   "outputs": [],
   "source": [
    "# P_data = PR_plot_data[PR_plot_data['label'] != 'avg/total'][ ['date', 'label', 'recall']]\n",
    "# P_data.set_index(['date','label']).unstack('label').plot(figsize = (15,6))\n",
    "# P_data.set_index(['date','label']).unstack('label')"
   ]
  },
  {
   "cell_type": "code",
   "execution_count": 37,
   "metadata": {
    "ExecuteTime": {
     "end_time": "2018-11-18T08:22:48.116522Z",
     "start_time": "2018-11-18T08:22:47.998515Z"
    }
   },
   "outputs": [],
   "source": [
    "# P_data = PR_plot_data[PR_plot_data['label'] != 'avg/total'][ ['date', 'label', 'f1-score']]\n",
    "# P_data.set_index(['date','label']).unstack('label').plot(figsize = (15,6))\n",
    "# P_data.set_index(['date','label']).unstack('label')"
   ]
  },
  {
   "cell_type": "markdown",
   "metadata": {},
   "source": [
    "### 补录与预警数据"
   ]
  },
  {
   "cell_type": "code",
   "execution_count": 38,
   "metadata": {
    "ExecuteTime": {
     "end_time": "2018-11-18T08:22:48.545547Z",
     "start_time": "2018-11-18T08:22:48.422540Z"
    },
    "collapsed": true
   },
   "outputs": [],
   "source": [
    "# file_list_5 = ['20180917_circ_class_feedback.xlsx'\n",
    "#               ] \n",
    "# add_warn_data = pd.DataFrame()\n",
    "# for file_name in file_list_5:\n",
    "#     currentPath  = '{0}/{1}'.format(folder, file_name)\n",
    "#     excel = xlrd.open_workbook(currentPath)\n",
    "#     sheet_names = [sheet.name for sheet in excel.sheets()]\n",
    "#     for sheet_name in sheet_names:   \n",
    "#         tmp_data = pd.read_excel(currentPath, sheet_name)    \n",
    "#         tmp_data = tmp_data[tmp_data['label'] != '删除']\n",
    "#         add_warn_data = pd.concat([add_warn_data, tmp_data], axis = 0)\n",
    "\n",
    "# circ_raw_class_5 = add_warn_data[['label', 'title', 'content']]"
   ]
  },
  {
   "cell_type": "code",
   "execution_count": 39,
   "metadata": {
    "ExecuteTime": {
     "end_time": "2018-11-18T08:22:48.939569Z",
     "start_time": "2018-11-18T08:22:48.817562Z"
    }
   },
   "outputs": [],
   "source": [
    "# from sklearn import metrics\n",
    "\n",
    "# y_pred_class = add_warn_data['predict_label']\n",
    "# y_test = add_warn_data['label']\n",
    "# print('accuracy_score: ', metrics.accuracy_score(y_test, y_pred_class)) # 指所有分类正确的百分比\n",
    "# print(metrics.classification_report(y_test, y_pred_class))\n",
    "# print('confusion_matrix: ')\n",
    "# print( metrics.confusion_matrix(y_test, y_pred_class))"
   ]
  },
  {
   "cell_type": "code",
   "execution_count": 40,
   "metadata": {
    "ExecuteTime": {
     "end_time": "2018-11-18T08:22:49.356593Z",
     "start_time": "2018-11-18T08:22:49.236586Z"
    }
   },
   "outputs": [],
   "source": [
    "# circ_raw_class_5['label'].value_counts()"
   ]
  },
  {
   "cell_type": "markdown",
   "metadata": {},
   "source": [
    "## 合并数据"
   ]
  },
  {
   "cell_type": "code",
   "execution_count": 77,
   "metadata": {
    "ExecuteTime": {
     "end_time": "2018-11-13T07:51:43.265194Z",
     "start_time": "2018-11-13T07:51:43.131186Z"
    },
    "collapsed": true
   },
   "outputs": [],
   "source": [
    "# file_list_4 = ['20181019_circ_class_feedback.xlsx'] # 多个 sheet\n",
    "# circ_raw_class_4, PR_data, PR_plot_data = get_feedback_data(folder, file_list_4)\n",
    "# circ_raw_class_4['label'] = circ_raw_class_4['label'].apply(lambda x:x.strip())    \n",
    "# print('总数：', circ_raw_class_4.shape)\n",
    "# circ_raw_class_4.head()"
   ]
  },
  {
   "cell_type": "code",
   "execution_count": 42,
   "metadata": {
    "ExecuteTime": {
     "end_time": "2018-11-18T08:23:06.331564Z",
     "start_time": "2018-11-18T08:23:06.098551Z"
    }
   },
   "outputs": [
    {
     "name": "stdout",
     "output_type": "stream",
     "text": [
      "去重前：  (938, 5)\n",
      "去重后：  (938, 5)\n"
     ]
    },
    {
     "data": {
      "text/html": [
       "<div>\n",
       "<style scoped>\n",
       "    .dataframe tbody tr th:only-of-type {\n",
       "        vertical-align: middle;\n",
       "    }\n",
       "\n",
       "    .dataframe tbody tr th {\n",
       "        vertical-align: top;\n",
       "    }\n",
       "\n",
       "    .dataframe thead th {\n",
       "        text-align: right;\n",
       "    }\n",
       "</style>\n",
       "<table border=\"1\" class=\"dataframe\">\n",
       "  <thead>\n",
       "    <tr style=\"text-align: right;\">\n",
       "      <th></th>\n",
       "      <th>label</th>\n",
       "      <th>title</th>\n",
       "      <th>content</th>\n",
       "      <th>title_content</th>\n",
       "      <th>index</th>\n",
       "    </tr>\n",
       "  </thead>\n",
       "  <tbody>\n",
       "    <tr>\n",
       "      <th>0</th>\n",
       "      <td>0</td>\n",
       "      <td>校友焦念勇 | 医者仁心援藏路</td>\n",
       "      <td>北京市第八批援藏医疗队员,来到我们即将工作、生活的地方-—拉萨市尼木县人民医院,机场外我们受到了北京援藏指挥部及拉萨市领导的热情迎接,我们不仅感受到了政府和医院领导对我们新一批援藏队员无微不至的关怀和重视,为期一年的援藏工作即将开始了,还有即将结束援藏任务的第二期老队员,作为北京市第八批第三期援藏医疗队队员的我们就此踏上了西藏这片神奇的土地,医者仁心援藏路 焦念勇,也见证了老一批援藏队员在这一年中做出的成绩,始终以尼木县人民医院</td>\n",
       "      <td>校友焦念勇 | 医者仁心援藏路。北京市第八批援藏医疗队员,来到我们即将工作、生活的地方-—拉萨市尼木县人民医院,机场外我们受到了北京援藏指挥部及拉萨市领导的热情迎接,我们不仅感受到了政府和医院领导对我们新一批援藏队员无微不至的关怀和重视,为期一年的援藏工作即将开始了,还有即将结束援藏任务的第二期老队员,作为北京市第八批第三期援藏医疗队队员的我们就此踏上了西藏这片神奇的土地,医者仁心援藏路 焦念勇,也见证了老一批援藏队员在这一年中做出的成绩,始终以尼木县人民医院</td>\n",
       "      <td>0</td>\n",
       "    </tr>\n",
       "    <tr>\n",
       "      <th>1</th>\n",
       "      <td>0</td>\n",
       "      <td>5个贫困村的一抹“税务蓝”</td>\n",
       "      <td>区国税局第七批驻谢通门县仁钦则乡工作队为5名贫困群众提供了厨师工作岗位,并由区国税局第七批驻谢通门县仁钦则乡工作队和村,区国税局第七批驻谢通门县仁钦则乡工作队和村,自治区国税局第七批驻村工作队于2018年1月3日正式入驻谢通门县仁钦则乡5个贫困村,驻村工作队自筹资金91600元对229个贫困家庭进行了慰问,区国税局第七批驻谢通门县仁钦则乡工作队开展了, 西藏自治区国税局第七批驻谢通门县仁钦则乡工作队队员们不仅把驻村工作作为重要政治任务,区国税局第七批驻谢通门县仁钦则乡工作队总队长珠加说,永不走的驻村工作队,区国税局第七批驻谢通门县仁钦则乡工作队立即成立了临时党支部</td>\n",
       "      <td>5个贫困村的一抹“税务蓝”。区国税局第七批驻谢通门县仁钦则乡工作队为5名贫困群众提供了厨师工作岗位,并由区国税局第七批驻谢通门县仁钦则乡工作队和村,区国税局第七批驻谢通门县仁钦则乡工作队和村,自治区国税局第七批驻村工作队于2018年1月3日正式入驻谢通门县仁钦则乡5个贫困村,驻村工作队自筹资金91600元对229个贫困家庭进行了慰问,区国税局第七批驻谢通门县仁钦则乡工作队开展了, 西藏自治区国税局第七批驻谢通门县仁钦则乡工作队队员们不仅把驻村工作作为重要政治任务,区国税局第七批驻谢通门县仁钦则乡工作队总队长珠加说,永不走的驻村工作队,区国税局第七批驻谢通门县仁钦则乡工作队立即成立了临时党支部</td>\n",
       "      <td>1</td>\n",
       "    </tr>\n",
       "    <tr>\n",
       "      <th>2</th>\n",
       "      <td>0</td>\n",
       "      <td>实探鼓楼滨江丨全方位完胜！120万起网红餐饮铺将加推</td>\n",
       "      <td>①中海桃源印巷②世茂外滩茂悦里③恒大滨江④证大阅公馆⑤中冶盛世滨江,1、全鼓楼滨江唯一能做餐饮的、目前可售的只有世茂外滩茂悦里,世茂外滩·茂悦里 鼓楼熟铺,△茂悦里商业6效果图 看点 03 鼓楼滨江唯一一家能买到、可做餐饮的商铺 核心卖点越多得分越高,世茂外滩茂悦里商业6即将加推,中冶(4-6万/㎡)＞中海(5万/㎡)＞证大、恒大(4万/㎡)＞世茂(不到4万/㎡),2、世茂外滩茂悦里、证大阅公馆及中冶盛世滨江都可以坐享校区经济,2、就总价而言最低的是世茂外滩茂悦里,有3组客户在看外滩茂悦里的商铺,世茂外滩茂悦里即将加推商业6 案场到访越多得分越高</td>\n",
       "      <td>实探鼓楼滨江丨全方位完胜！120万起网红餐饮铺将加推。①中海桃源印巷②世茂外滩茂悦里③恒大滨江④证大阅公馆⑤中冶盛世滨江,1、全鼓楼滨江唯一能做餐饮的、目前可售的只有世茂外滩茂悦里,世茂外滩·茂悦里 鼓楼熟铺,△茂悦里商业6效果图 看点 03 鼓楼滨江唯一一家能买到、可做餐饮的商铺 核心卖点越多得分越高,世茂外滩茂悦里商业6即将加推,中冶(4-6万/㎡)＞中海(5万/㎡)＞证大、恒大(4万/㎡)＞世茂(不到4万/㎡),2、世茂外滩茂悦里、证大阅公馆及中冶盛世滨江都可以坐享校区经济,2、就总价而言最低的是世茂外滩茂悦里,有3组客户在看外滩茂悦里的商铺,世茂外滩茂悦里即将加推商业6 案场到访越多得分越高</td>\n",
       "      <td>2</td>\n",
       "    </tr>\n",
       "    <tr>\n",
       "      <th>3</th>\n",
       "      <td>0</td>\n",
       "      <td>全球首创！这款“庐阳制造”让火灾报警变预警！</td>\n",
       "      <td>我们便着手研发电气火灾预警探测器,可以精准预警电气火灾,是电气火灾,电气火灾到底有多可怕,67%的重特大火灾也是因为电气造成,目前国内火灾起因30%是因为电气造成,该产品传感器的精度是报警器的6-8个数量值,而目前全世界针对电气引发的火灾采取的都是安装火灾报警器,庐阳区IE果园一入驻企业成功研发了超前预警型电气火灾物联网探测器,一旦发生电气火灾 切记先断电</td>\n",
       "      <td>全球首创！这款“庐阳制造”让火灾报警变预警！。我们便着手研发电气火灾预警探测器,可以精准预警电气火灾,是电气火灾,电气火灾到底有多可怕,67%的重特大火灾也是因为电气造成,目前国内火灾起因30%是因为电气造成,该产品传感器的精度是报警器的6-8个数量值,而目前全世界针对电气引发的火灾采取的都是安装火灾报警器,庐阳区IE果园一入驻企业成功研发了超前预警型电气火灾物联网探测器,一旦发生电气火灾 切记先断电</td>\n",
       "      <td>3</td>\n",
       "    </tr>\n",
       "    <tr>\n",
       "      <th>4</th>\n",
       "      <td>0</td>\n",
       "      <td>文化馨香飘雅砻 ——改革开放40年山南文化事业发展成就综述</td>\n",
       "      <td>打造雅砻文化品牌,积极打造雅砻文化品牌 乃东县民族哗叽手工编织专业合作社创建的,山南大力实施文化精品工程,为雅砻文化繁荣发展添砖加瓦 山南具有深厚的文化底蕴,山南市还积极打造特色文化活动品牌,举办中国西藏雅砻文化节、吐蕃文化旅游节,我市把文化惠民工程作为全市,全市文化类企业发展到1010户,文化品牌,山南坚持把文化基础设施建设作为健全公共文化服务体系最基础的工作</td>\n",
       "      <td>文化馨香飘雅砻 ——改革开放40年山南文化事业发展成就综述。打造雅砻文化品牌,积极打造雅砻文化品牌 乃东县民族哗叽手工编织专业合作社创建的,山南大力实施文化精品工程,为雅砻文化繁荣发展添砖加瓦 山南具有深厚的文化底蕴,山南市还积极打造特色文化活动品牌,举办中国西藏雅砻文化节、吐蕃文化旅游节,我市把文化惠民工程作为全市,全市文化类企业发展到1010户,文化品牌,山南坚持把文化基础设施建设作为健全公共文化服务体系最基础的工作</td>\n",
       "      <td>4</td>\n",
       "    </tr>\n",
       "  </tbody>\n",
       "</table>\n",
       "</div>"
      ],
      "text/plain": [
       "   label                          title  \\\n",
       "0      0                校友焦念勇 | 医者仁心援藏路   \n",
       "1      0                  5个贫困村的一抹“税务蓝”   \n",
       "2      0     实探鼓楼滨江丨全方位完胜！120万起网红餐饮铺将加推   \n",
       "3      0         全球首创！这款“庐阳制造”让火灾报警变预警！   \n",
       "4      0  文化馨香飘雅砻 ——改革开放40年山南文化事业发展成就综述   \n",
       "\n",
       "                                                                                                                                                                                                                                                                                         content  \\\n",
       "0                                                                       北京市第八批援藏医疗队员,来到我们即将工作、生活的地方-—拉萨市尼木县人民医院,机场外我们受到了北京援藏指挥部及拉萨市领导的热情迎接,我们不仅感受到了政府和医院领导对我们新一批援藏队员无微不至的关怀和重视,为期一年的援藏工作即将开始了,还有即将结束援藏任务的第二期老队员,作为北京市第八批第三期援藏医疗队队员的我们就此踏上了西藏这片神奇的土地,医者仁心援藏路 焦念勇,也见证了老一批援藏队员在这一年中做出的成绩,始终以尼木县人民医院   \n",
       "1  区国税局第七批驻谢通门县仁钦则乡工作队为5名贫困群众提供了厨师工作岗位,并由区国税局第七批驻谢通门县仁钦则乡工作队和村,区国税局第七批驻谢通门县仁钦则乡工作队和村,自治区国税局第七批驻村工作队于2018年1月3日正式入驻谢通门县仁钦则乡5个贫困村,驻村工作队自筹资金91600元对229个贫困家庭进行了慰问,区国税局第七批驻谢通门县仁钦则乡工作队开展了, 西藏自治区国税局第七批驻谢通门县仁钦则乡工作队队员们不仅把驻村工作作为重要政治任务,区国税局第七批驻谢通门县仁钦则乡工作队总队长珠加说,永不走的驻村工作队,区国税局第七批驻谢通门县仁钦则乡工作队立即成立了临时党支部   \n",
       "2           ①中海桃源印巷②世茂外滩茂悦里③恒大滨江④证大阅公馆⑤中冶盛世滨江,1、全鼓楼滨江唯一能做餐饮的、目前可售的只有世茂外滩茂悦里,世茂外滩·茂悦里 鼓楼熟铺,△茂悦里商业6效果图 看点 03 鼓楼滨江唯一一家能买到、可做餐饮的商铺 核心卖点越多得分越高,世茂外滩茂悦里商业6即将加推,中冶(4-6万/㎡)＞中海(5万/㎡)＞证大、恒大(4万/㎡)＞世茂(不到4万/㎡),2、世茂外滩茂悦里、证大阅公馆及中冶盛世滨江都可以坐享校区经济,2、就总价而言最低的是世茂外滩茂悦里,有3组客户在看外滩茂悦里的商铺,世茂外滩茂悦里即将加推商业6 案场到访越多得分越高   \n",
       "3                                                                                                            我们便着手研发电气火灾预警探测器,可以精准预警电气火灾,是电气火灾,电气火灾到底有多可怕,67%的重特大火灾也是因为电气造成,目前国内火灾起因30%是因为电气造成,该产品传感器的精度是报警器的6-8个数量值,而目前全世界针对电气引发的火灾采取的都是安装火灾报警器,庐阳区IE果园一入驻企业成功研发了超前预警型电气火灾物联网探测器,一旦发生电气火灾 切记先断电   \n",
       "4                                                                                                         打造雅砻文化品牌,积极打造雅砻文化品牌 乃东县民族哗叽手工编织专业合作社创建的,山南大力实施文化精品工程,为雅砻文化繁荣发展添砖加瓦 山南具有深厚的文化底蕴,山南市还积极打造特色文化活动品牌,举办中国西藏雅砻文化节、吐蕃文化旅游节,我市把文化惠民工程作为全市,全市文化类企业发展到1010户,文化品牌,山南坚持把文化基础设施建设作为健全公共文化服务体系最基础的工作   \n",
       "\n",
       "                                                                                                                                                                                                                                                                                                     title_content  \\\n",
       "0                                                                         校友焦念勇 | 医者仁心援藏路。北京市第八批援藏医疗队员,来到我们即将工作、生活的地方-—拉萨市尼木县人民医院,机场外我们受到了北京援藏指挥部及拉萨市领导的热情迎接,我们不仅感受到了政府和医院领导对我们新一批援藏队员无微不至的关怀和重视,为期一年的援藏工作即将开始了,还有即将结束援藏任务的第二期老队员,作为北京市第八批第三期援藏医疗队队员的我们就此踏上了西藏这片神奇的土地,医者仁心援藏路 焦念勇,也见证了老一批援藏队员在这一年中做出的成绩,始终以尼木县人民医院   \n",
       "1      5个贫困村的一抹“税务蓝”。区国税局第七批驻谢通门县仁钦则乡工作队为5名贫困群众提供了厨师工作岗位,并由区国税局第七批驻谢通门县仁钦则乡工作队和村,区国税局第七批驻谢通门县仁钦则乡工作队和村,自治区国税局第七批驻村工作队于2018年1月3日正式入驻谢通门县仁钦则乡5个贫困村,驻村工作队自筹资金91600元对229个贫困家庭进行了慰问,区国税局第七批驻谢通门县仁钦则乡工作队开展了, 西藏自治区国税局第七批驻谢通门县仁钦则乡工作队队员们不仅把驻村工作作为重要政治任务,区国税局第七批驻谢通门县仁钦则乡工作队总队长珠加说,永不走的驻村工作队,区国税局第七批驻谢通门县仁钦则乡工作队立即成立了临时党支部   \n",
       "2  实探鼓楼滨江丨全方位完胜！120万起网红餐饮铺将加推。①中海桃源印巷②世茂外滩茂悦里③恒大滨江④证大阅公馆⑤中冶盛世滨江,1、全鼓楼滨江唯一能做餐饮的、目前可售的只有世茂外滩茂悦里,世茂外滩·茂悦里 鼓楼熟铺,△茂悦里商业6效果图 看点 03 鼓楼滨江唯一一家能买到、可做餐饮的商铺 核心卖点越多得分越高,世茂外滩茂悦里商业6即将加推,中冶(4-6万/㎡)＞中海(5万/㎡)＞证大、恒大(4万/㎡)＞世茂(不到4万/㎡),2、世茂外滩茂悦里、证大阅公馆及中冶盛世滨江都可以坐享校区经济,2、就总价而言最低的是世茂外滩茂悦里,有3组客户在看外滩茂悦里的商铺,世茂外滩茂悦里即将加推商业6 案场到访越多得分越高   \n",
       "3                                                                                                       全球首创！这款“庐阳制造”让火灾报警变预警！。我们便着手研发电气火灾预警探测器,可以精准预警电气火灾,是电气火灾,电气火灾到底有多可怕,67%的重特大火灾也是因为电气造成,目前国内火灾起因30%是因为电气造成,该产品传感器的精度是报警器的6-8个数量值,而目前全世界针对电气引发的火灾采取的都是安装火灾报警器,庐阳区IE果园一入驻企业成功研发了超前预警型电气火灾物联网探测器,一旦发生电气火灾 切记先断电   \n",
       "4                                                                                             文化馨香飘雅砻 ——改革开放40年山南文化事业发展成就综述。打造雅砻文化品牌,积极打造雅砻文化品牌 乃东县民族哗叽手工编织专业合作社创建的,山南大力实施文化精品工程,为雅砻文化繁荣发展添砖加瓦 山南具有深厚的文化底蕴,山南市还积极打造特色文化活动品牌,举办中国西藏雅砻文化节、吐蕃文化旅游节,我市把文化惠民工程作为全市,全市文化类企业发展到1010户,文化品牌,山南坚持把文化基础设施建设作为健全公共文化服务体系最基础的工作   \n",
       "\n",
       "   index  \n",
       "0      0  \n",
       "1      1  \n",
       "2      2  \n",
       "3      3  \n",
       "4      4  "
      ]
     },
     "execution_count": 42,
     "metadata": {},
     "output_type": "execute_result"
    }
   ],
   "source": [
    "# circ_raw_class = pd.concat([circ_raw_class_1, circ_raw_class_2,\n",
    "#                           circ_raw_class_3, circ_raw_class_4,\n",
    "#                            circ_raw_class_5], \n",
    "#                          axis = 0)\n",
    "\n",
    "circ_raw_class = circ_raw_class_3\n",
    "circ_raw_class['title_content'] = circ_raw_class['title'].astype(str) + '。' + circ_raw_class['content'].astype(str)\n",
    "# circ_raw_class['label'] = circ_raw_class['label'].apply(lambda x:x.strip())\n",
    "circ_raw_class['index'] = range(circ_raw_class.shape[0])\n",
    "print('去重前： ', circ_raw_class.shape)\n",
    "circ_raw_class = circ_raw_class.drop_duplicates(subset = 'title_content')\n",
    "print('去重后： ', circ_raw_class.shape)\n",
    "circ_raw_class.head()"
   ]
  },
  {
   "cell_type": "code",
   "execution_count": 43,
   "metadata": {
    "ExecuteTime": {
     "end_time": "2018-11-18T08:23:11.839879Z",
     "start_time": "2018-11-18T08:23:11.701871Z"
    }
   },
   "outputs": [
    {
     "name": "stdout",
     "output_type": "stream",
     "text": [
      "(938, 5)\n"
     ]
    },
    {
     "data": {
      "text/plain": [
       "label\n",
       "0    616\n",
       "1    322\n",
       "Name: title, dtype: int64"
      ]
     },
     "execution_count": 43,
     "metadata": {},
     "output_type": "execute_result"
    }
   ],
   "source": [
    "print(circ_raw_class.shape)\n",
    "circ_raw_class.groupby('label')['title'].count()"
   ]
  },
  {
   "cell_type": "markdown",
   "metadata": {},
   "source": [
    "## 预处理"
   ]
  },
  {
   "cell_type": "code",
   "execution_count": 45,
   "metadata": {
    "ExecuteTime": {
     "end_time": "2018-11-18T08:23:45.629812Z",
     "start_time": "2018-11-18T08:23:44.043721Z"
    }
   },
   "outputs": [
    {
     "name": "stdout",
     "output_type": "stream",
     "text": [
      "(938, 5)\n",
      "save_folder:  cor_result/\n",
      "title num:  938\n",
      "content num:  938\n",
      "北京市 第八 批 援藏 医疗 队员 来到 工作 生活 地方 拉萨市 尼木县 医院 机场 外 北京 援藏 指挥部 拉萨市 领导 热情 迎接 感受 政府 医院 领导 新 一批 援藏 队员 无微不至 \n",
      "label num:  938\n"
     ]
    }
   ],
   "source": [
    "save_folder = 'cor_result/'\n",
    "pre_save(pre_cor_circ.handle_contents, circ_raw_class, save_folder)"
   ]
  }
 ],
 "metadata": {
  "kernelspec": {
   "display_name": "Python 3",
   "language": "python",
   "name": "python3"
  },
  "language_info": {
   "codemirror_mode": {
    "name": "ipython",
    "version": 3
   },
   "file_extension": ".py",
   "mimetype": "text/x-python",
   "name": "python",
   "nbconvert_exporter": "python",
   "pygments_lexer": "ipython3",
   "version": "3.6.3"
  },
  "toc": {
   "nav_menu": {},
   "number_sections": true,
   "sideBar": true,
   "skip_h1_title": false,
   "title_cell": "Table of Contents",
   "title_sidebar": "Contents",
   "toc_cell": false,
   "toc_position": {
    "height": "calc(100% - 180px)",
    "left": "10px",
    "top": "150px",
    "width": "376px"
   },
   "toc_section_display": true,
   "toc_window_display": true
  },
  "varInspector": {
   "cols": {
    "lenName": 16,
    "lenType": 16,
    "lenVar": 40
   },
   "kernels_config": {
    "python": {
     "delete_cmd_postfix": "",
     "delete_cmd_prefix": "del ",
     "library": "var_list.py",
     "varRefreshCmd": "print(var_dic_list())"
    },
    "r": {
     "delete_cmd_postfix": ") ",
     "delete_cmd_prefix": "rm(",
     "library": "var_list.r",
     "varRefreshCmd": "cat(var_dic_list()) "
    }
   },
   "types_to_exclude": [
    "module",
    "function",
    "builtin_function_or_method",
    "instance",
    "_Feature"
   ],
   "window_display": false
  }
 },
 "nbformat": 4,
 "nbformat_minor": 2
}
