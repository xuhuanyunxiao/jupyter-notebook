{
 "cells": [
  {
   "cell_type": "markdown",
   "metadata": {},
   "source": [
    "# 本文件说明\n",
    "- 读取数据、预处理数据"
   ]
  },
  {
   "cell_type": "markdown",
   "metadata": {},
   "source": [
    "# 基本设置"
   ]
  },
  {
   "cell_type": "code",
   "execution_count": 1,
   "metadata": {
    "ExecuteTime": {
     "end_time": "2018-11-20T02:53:06.035400Z",
     "start_time": "2018-11-20T02:53:03.455253Z"
    }
   },
   "outputs": [
    {
     "name": "stderr",
     "output_type": "stream",
     "text": [
      "Building prefix dict from the default dictionary ...\n",
      "Loading model from cache C:\\Users\\ADMINI~1\\AppData\\Local\\Temp\\jieba.cache\n",
      "Loading model cost 0.977 seconds.\n",
      "Prefix dict has been built succesfully.\n"
     ]
    }
   ],
   "source": [
    "import xlrd\n",
    "\n",
    "%matplotlib inline\n",
    "import numpy as np\n",
    "import pandas as pd\n",
    "import pre_cor_circ\n",
    "\n",
    "from toolkits.setup.specific_func import contain_ch, set_ch_pd\n",
    "set_ch_pd()\n",
    "from sklearn import metrics\n",
    "\n",
    "import warnings\n",
    "warnings.filterwarnings('ignore')"
   ]
  },
  {
   "cell_type": "code",
   "execution_count": 2,
   "metadata": {
    "ExecuteTime": {
     "end_time": "2018-11-20T02:53:06.263413Z",
     "start_time": "2018-11-20T02:53:06.038401Z"
    },
    "collapsed": true
   },
   "outputs": [],
   "source": [
    "%load_ext autoreload\n",
    "%autoreload 2"
   ]
  },
  {
   "cell_type": "markdown",
   "metadata": {},
   "source": [
    "## 一些函数"
   ]
  },
  {
   "cell_type": "code",
   "execution_count": 3,
   "metadata": {
    "ExecuteTime": {
     "end_time": "2018-11-20T02:53:06.591432Z",
     "start_time": "2018-11-20T02:53:06.268414Z"
    },
    "collapsed": true
   },
   "outputs": [],
   "source": [
    "def predict_right(folder, file_list):\n",
    "    '''预测正确数据'''\n",
    "    right_data = pd.DataFrame()\n",
    "    for file_name in file_list:\n",
    "        currentPath  = '{0}/{1}'.format(folder, file_name)\n",
    "        excel = xlrd.open_workbook(currentPath)\n",
    "        sheet_names = [sheet.name for sheet in excel.sheets()]\n",
    "        for sheet_name in sheet_names:    \n",
    "            tmp_data = pd.read_excel(currentPath, sheet_name)\n",
    "    #         tmp_data = tmp_data[tmp_data['R_W'] == 'Right']\n",
    "            print('去空值前： ', tmp_data.shape, file_name, sheet_name)\n",
    "#             tmp_data = tmp_data[tmp_data['备注'] != '删除']\n",
    "    #         tmp_data = tmp_data.dropna(subset = ['raw_title'], axis = 0)\n",
    "#             print('去空值后： ', tmp_data.shape, file_name, sheet_name)\n",
    "            right_data = pd.concat([right_data, tmp_data], axis = 0)    \n",
    "    return right_data"
   ]
  },
  {
   "cell_type": "code",
   "execution_count": 4,
   "metadata": {
    "ExecuteTime": {
     "end_time": "2018-11-20T02:53:06.929451Z",
     "start_time": "2018-11-20T02:53:06.596432Z"
    },
    "collapsed": true
   },
   "outputs": [],
   "source": [
    "def correct_wrong_data(folder, file_list):\n",
    "    '''预测错误修正后数据'''\n",
    "    correct_wrong_data = pd.DataFrame()\n",
    "    for file_name in file_list:\n",
    "        currentPath  = '{0}/{1}'.format(folder, file_name)\n",
    "        excel = xlrd.open_workbook(currentPath)\n",
    "        sheet_names = [sheet.name for sheet in excel.sheets()]\n",
    "        for sheet_name in sheet_names:    \n",
    "            tmp_data = pd.read_excel(currentPath, sheet_name)\n",
    "    #         tmp_data = tmp_data[tmp_data['R_W'] == 'Wrong']\n",
    "            print('去删除前： ', tmp_data.shape, file_name, sheet_name)\n",
    "            tmp_data = tmp_data[tmp_data['备注'] != '删除']\n",
    "    #         tmp_data = tmp_data.dropna(subset = ['raw_title'], axis = 0)\n",
    "            print('去删除后： ', tmp_data.shape, file_name, sheet_name)\n",
    "\n",
    "            tmp_data['人工判断'] = tmp_data.apply(lambda x:1 if x['label'] == x['备注'] else 0, axis = 1)\n",
    "            tmp_data['算法判断'] = tmp_data.apply(lambda x:1 if x['predict_label'] == x['备注'] else 0, axis = 1)\n",
    "            print('人工误判率： %0.2f'%(1 - tmp_data['人工判断'].sum() / tmp_data.shape[0]),\n",
    "                  '算法误判率： %0.2f'%(1 - tmp_data['算法判断'].sum() / tmp_data.shape[0]))\n",
    "            print()\n",
    "\n",
    "            correct_wrong_data = pd.concat([correct_wrong_data, tmp_data], axis = 0)\n",
    "    return correct_wrong_data"
   ]
  },
  {
   "cell_type": "code",
   "execution_count": 5,
   "metadata": {
    "ExecuteTime": {
     "end_time": "2018-11-20T02:53:07.152464Z",
     "start_time": "2018-11-20T02:53:06.932452Z"
    },
    "collapsed": true
   },
   "outputs": [],
   "source": [
    "def get_new_data(folder, file_list):\n",
    "    '''新补充数据'''\n",
    "    new_data = pd.DataFrame()\n",
    "    for file_name in file_list:\n",
    "        currentPath  = '{0}/{1}'.format(folder, file_name)\n",
    "        excel = xlrd.open_workbook(currentPath)\n",
    "        sheet_names = [sheet.name for sheet in excel.sheets()]\n",
    "        for sheet_name in sheet_names:    \n",
    "            tmp_data = pd.read_excel(currentPath, sheet_name)\n",
    "            print(tmp_data.columns)\n",
    "            tmp_data = tmp_data[['label', 'title', 'content']]\n",
    "            print('去空值前： ', tmp_data.shape, file_name, sheet_name)\n",
    "            tmp_data = tmp_data.dropna(subset = ['label'], axis = 0)\n",
    "            print('去空值后： ', tmp_data.shape, file_name, sheet_name)\n",
    "            new_data = pd.concat([new_data, tmp_data], axis = 0)    \n",
    "    return new_data"
   ]
  },
  {
   "cell_type": "code",
   "execution_count": 6,
   "metadata": {
    "ExecuteTime": {
     "end_time": "2018-11-20T02:53:07.416479Z",
     "start_time": "2018-11-20T02:53:07.156464Z"
    },
    "collapsed": true
   },
   "outputs": [],
   "source": [
    "def get_PR_plot_data(feedback_data, date, plot_data):\n",
    "    y_pred_class = feedback_data[feedback_data['date'] == date]['predict_label'].tolist()\n",
    "    y_test = feedback_data[feedback_data['date'] == date]['label'].tolist()\n",
    "    print('accuracy_score: ', metrics.accuracy_score(y_test, y_pred_class)) # 指所有分类正确的百分比\n",
    "    print(metrics.classification_report(y_test, y_pred_class))\n",
    "    print('confusion_matrix: ')\n",
    "    print( metrics.confusion_matrix(y_test, y_pred_class))\n",
    "    print()       \n",
    "    \n",
    "    classification_report = metrics.classification_report(y_test, y_pred_class)\n",
    "    lines = classification_report.split('\\n')\n",
    "    # plot_data = []\n",
    "    for index, line in enumerate(lines[2 : len(lines)]):\n",
    "        t = line.strip().split()\n",
    "        if len(t) < 2: continue    \n",
    "        if (index + 2) < (len(lines) - 2):\n",
    "            t = [float(v) if i > 0 else v for i, v in enumerate(t)]\n",
    "            plot_data.append(t + [date])\n",
    "        else :\n",
    "            t = [float(v) if i > 2 else v for i, v in enumerate(t) ]\n",
    "            plot_data.append(['avg/total'] + t[3:] + [date])    \n",
    "            \n",
    "    return plot_data"
   ]
  },
  {
   "cell_type": "code",
   "execution_count": 7,
   "metadata": {
    "ExecuteTime": {
     "end_time": "2018-11-20T02:53:07.737498Z",
     "start_time": "2018-11-20T02:53:07.421480Z"
    },
    "collapsed": true
   },
   "outputs": [],
   "source": [
    "def get_feedback_data(folder, file_list):\n",
    "    '''模型预测后反馈数据'''\n",
    "    feedback_data = pd.DataFrame()\n",
    "    label_list = []\n",
    "    sum_list = []\n",
    "    right_list = []\n",
    "    plot_data = []\n",
    "    for file_name in file_list:\n",
    "        print('  ----    ', file_name)\n",
    "        date = file_name.split('_')[0]\n",
    "        currentPath  = '{0}/{1}'.format(folder, file_name)\n",
    "        excel = xlrd.open_workbook(currentPath)\n",
    "        sheet_names = [sheet.name for sheet in excel.sheets()]\n",
    "        for sheet_name in sheet_names:   \n",
    "            tmp_data = pd.read_excel(currentPath, sheet_name)    \n",
    "            tmp_data = tmp_data[tmp_data['label'] != '删除']\n",
    "            tmp_data_1 = tmp_data[tmp_data['label'] == sheet_name]\n",
    "\n",
    "            label_list.append(sheet_name)\n",
    "            sum_list.append(tmp_data.shape[0])\n",
    "            right_list.append(tmp_data_1.shape[0])\n",
    "            print('类别：', sheet_name, '总数：', tmp_data.shape[0], \n",
    "                  '正确数', tmp_data_1.shape[0], \n",
    "                  '正确比例', tmp_data_1.shape[0]/tmp_data.shape[0])\n",
    "            \n",
    "            if 'predict_label' in tmp_data_1.columns:\n",
    "                tmp_data_1 = tmp_data[['predict_label', 'label', 'title', 'content']]\n",
    "            else :\n",
    "                tmp_data_1 = tmp_data[['label', 'title', 'content']]\n",
    "                if contain_ch(sheet_name) :\n",
    "                    tmp_data_1['predict_label'] = sheet_name\n",
    "                else :\n",
    "                    tmp_data_1['predict_label'] = ''\n",
    "                \n",
    "            tmp_data_1['date'] = date\n",
    "            print('去空值前： ', tmp_data_1.shape, file_name, sheet_name)\n",
    "            tmp_data_1 = tmp_data_1.dropna(subset = ['label'], axis = 0)\n",
    "            print('去空值后： ', tmp_data_1.shape, file_name, sheet_name)\n",
    "            feedback_data = pd.concat([feedback_data, tmp_data_1], axis = 0)\n",
    "            print() \n",
    "                        \n",
    "        plot_data = get_PR_plot_data(feedback_data, date, plot_data) \n",
    "            \n",
    "    PR_data = feedback_data[['date', 'predict_label', 'label']]\n",
    "    feedback_data = feedback_data.drop('date', axis = 1)\n",
    "    feedback_data = feedback_data.drop('predict_label', axis = 1)\n",
    "    PR_plot_data  = pd.DataFrame(plot_data, columns = ['label', 'precision', 'recall', \n",
    "                                                    'f1-score', 'support', 'date'])     \n",
    "    \n",
    "    return feedback_data, PR_data, PR_plot_data"
   ]
  },
  {
   "cell_type": "code",
   "execution_count": 8,
   "metadata": {
    "ExecuteTime": {
     "end_time": "2018-11-20T02:53:07.993512Z",
     "start_time": "2018-11-20T02:53:07.742498Z"
    },
    "collapsed": true
   },
   "outputs": [],
   "source": [
    "def pre_save(pre_func, data, save_folder):\n",
    "    print(data.shape)\n",
    "    print('save_folder: ', save_folder)\n",
    "    \n",
    "    titles = pre_func(data['title'].tolist())\n",
    "    print('title num: ', len(titles))\n",
    "    save_filename = save_folder + 'corpus/titles.txt'\n",
    "    fid = open(save_filename, \"w+\", encoding='UTF-8')\n",
    "    for line in titles:\n",
    "        fid.write(line + '\\n')\n",
    "    fid.close()  \n",
    "    \n",
    "#     print(len(data['content'].tolist()))\n",
    "    contents = pre_func(data['content'].tolist())\n",
    "    print('content num: ', len(contents))\n",
    "    print(contents[0])\n",
    "    # contents = [re.sub(r'[a-z]*', '', x) for x in contents]\n",
    "    # print(len(contents))\n",
    "    # print(contents[:2])\n",
    "    coprus_save_filename = save_folder + 'corpus/contents.txt'\n",
    "    f = open(coprus_save_filename, \"w+\", encoding='UTF-8')\n",
    "    for line in contents:\n",
    "        f.write(line + '\\n')\n",
    "    f.close()    \n",
    "\n",
    "    label = data['label'].tolist()\n",
    "    print('label num: ', len(label))\n",
    "    coprus_save_filename = save_folder + 'corpus/labels.txt'\n",
    "    f = open(coprus_save_filename, \"w+\", encoding='UTF-8')\n",
    "    for line in label:\n",
    "        f.write(str(line) + '\\n')\n",
    "    f.close()\n",
    "\n",
    "    data.to_excel(save_folder + 'corpus/title_content_label.xlsx', index = False)\n",
    "    "
   ]
  },
  {
   "cell_type": "markdown",
   "metadata": {},
   "source": [
    "# 西藏教育厅：1 八分类"
   ]
  },
  {
   "cell_type": "markdown",
   "metadata": {},
   "source": [
    "## 读取数据：0 不相关 1 相关"
   ]
  },
  {
   "cell_type": "code",
   "execution_count": 9,
   "metadata": {
    "ExecuteTime": {
     "end_time": "2018-11-20T02:53:08.208525Z",
     "start_time": "2018-11-20T02:53:07.996513Z"
    },
    "collapsed": true
   },
   "outputs": [],
   "source": [
    "folder = 'cor_data/20181120'"
   ]
  },
  {
   "cell_type": "markdown",
   "metadata": {},
   "source": [
    "### 预测正确数据"
   ]
  },
  {
   "cell_type": "code",
   "execution_count": 10,
   "metadata": {
    "ExecuteTime": {
     "end_time": "2018-11-20T02:53:08.457539Z",
     "start_time": "2018-11-20T02:53:08.211525Z"
    },
    "collapsed": true
   },
   "outputs": [],
   "source": [
    "# file_list_1 = ['circ_class_sel_else_20180827.xlsx',]\n",
    "# circ_raw_class_1 = predict_right(folder, file_list_1)\n",
    "\n",
    "# circ_raw_class_1['label'] = circ_raw_class_1['label'].apply(lambda x:x.strip())    \n",
    "# circ_raw_class_1 = circ_raw_class_1[['label', 'raw_title', 'raw_content']]\n",
    "# circ_raw_class_1.columns = ['label', 'title', 'content']\n",
    "# print('总数：', circ_raw_class_1.shape)\n",
    "# circ_raw_class_1.head()"
   ]
  },
  {
   "cell_type": "code",
   "execution_count": 11,
   "metadata": {
    "ExecuteTime": {
     "end_time": "2018-11-20T02:53:08.716554Z",
     "start_time": "2018-11-20T02:53:08.461539Z"
    },
    "collapsed": true
   },
   "outputs": [],
   "source": [
    "# circ_raw_class_1['label'].value_counts()"
   ]
  },
  {
   "cell_type": "markdown",
   "metadata": {},
   "source": [
    "### 预测错误修正后数据"
   ]
  },
  {
   "cell_type": "code",
   "execution_count": 12,
   "metadata": {
    "ExecuteTime": {
     "end_time": "2018-11-20T02:53:08.920565Z",
     "start_time": "2018-11-20T02:53:08.719554Z"
    },
    "collapsed": true
   },
   "outputs": [],
   "source": [
    "# file_list_2 = ['circ_class_sel_20180827-1.xlsx','circ_class_sel_20180827-2.xlsx']\n",
    "\n",
    "# circ_raw_class_2 = correct_wrong_data(folder, file_list_2)\n",
    "# circ_raw_class_2['label'] = circ_raw_class_2['label'].apply(lambda x:x.strip())  \n",
    "# circ_raw_class_2 = circ_raw_class_2[['备注', 'raw_title', 'raw_content']]\n",
    "# circ_raw_class_2.columns = ['label', 'title', 'content']\n",
    "# print('总数：', circ_raw_class_2.shape)\n",
    "# circ_raw_class_2.head()"
   ]
  },
  {
   "cell_type": "code",
   "execution_count": 13,
   "metadata": {
    "ExecuteTime": {
     "end_time": "2018-11-20T02:53:09.124577Z",
     "start_time": "2018-11-20T02:53:08.924566Z"
    },
    "collapsed": true
   },
   "outputs": [],
   "source": [
    "# circ_raw_class_2['label'].value_counts()"
   ]
  },
  {
   "cell_type": "markdown",
   "metadata": {},
   "source": [
    "### 新补充数据"
   ]
  },
  {
   "cell_type": "code",
   "execution_count": 14,
   "metadata": {
    "ExecuteTime": {
     "end_time": "2018-11-20T02:53:18.139093Z",
     "start_time": "2018-11-20T02:53:17.231041Z"
    }
   },
   "outputs": [
    {
     "name": "stdout",
     "output_type": "stream",
     "text": [
      "Index(['title', 'content', 'label'], dtype='object')\n",
      "去空值前：  (616, 3) 181120西藏教育厅（与教育相关否）.xlsx 不相关\n",
      "去空值后：  (616, 3) 181120西藏教育厅（与教育相关否）.xlsx 不相关\n",
      "Index(['title', 'content', 'label'], dtype='object')\n",
      "去空值前：  (433, 3) 181120西藏教育厅（与教育相关否）.xlsx 相关\n",
      "去空值后：  (433, 3) 181120西藏教育厅（与教育相关否）.xlsx 相关\n",
      "总数： (1049, 3)\n"
     ]
    },
    {
     "data": {
      "text/html": [
       "<div>\n",
       "<style scoped>\n",
       "    .dataframe tbody tr th:only-of-type {\n",
       "        vertical-align: middle;\n",
       "    }\n",
       "\n",
       "    .dataframe tbody tr th {\n",
       "        vertical-align: top;\n",
       "    }\n",
       "\n",
       "    .dataframe thead th {\n",
       "        text-align: right;\n",
       "    }\n",
       "</style>\n",
       "<table border=\"1\" class=\"dataframe\">\n",
       "  <thead>\n",
       "    <tr style=\"text-align: right;\">\n",
       "      <th></th>\n",
       "      <th>label</th>\n",
       "      <th>title</th>\n",
       "      <th>content</th>\n",
       "    </tr>\n",
       "  </thead>\n",
       "  <tbody>\n",
       "    <tr>\n",
       "      <th>0</th>\n",
       "      <td>1</td>\n",
       "      <td>萨基会“回到拉萨”——足球时间圆梦世界屋脊</td>\n",
       "      <td>正是他们的足球梦想让萨马兰奇足球时间三星足球教室不远万里克服重重困难来到这里助他们圆梦足球,西藏优秀中学生放眼祖国公益活动 本次萨马兰奇足球时间三星足球教室也是在5100西藏冰川矿泉水有限公司的鼎力协助下进驻拉萨,训后教练团队表示小球员们的身体素质和个人技能在同龄的孩子中已经是相当的优秀了,萨马兰奇足球时间三星足球教室走进拉萨当雄县中学,萨马兰奇足球时间才得以走进拉萨,教练员为大家做训前动员 接受训练的小球员们普遍有着良好的身体素质与个人技巧,热爱足球的80名青少年,希望孩子们在足球的道路上越走越远,圆梦足球,成立了5100西藏体育教育专项基金</td>\n",
       "    </tr>\n",
       "    <tr>\n",
       "      <th>1</th>\n",
       "      <td>1</td>\n",
       "      <td>我，和梁思成、刘长春在东大的日子</td>\n",
       "      <td>东北大学优秀社会实践团队,均获得东北大学优秀学生称号和校优秀学生一等奖学金,连续两年获得东北大学优秀学生标兵、国家奖学金及东北大学优秀学生一等奖学金,东北大学优秀团队,东北大学优秀学生一等奖学金,还积极参加社会实践活动,团队成员在学习、工作活动等其他各个方面都取得了优异的成绩,东北大学优秀学生,并获得社会实践优秀团队和优秀个人,荣获东北大学工商管理学院优秀党员等称号</td>\n",
       "    </tr>\n",
       "    <tr>\n",
       "      <th>2</th>\n",
       "      <td>1</td>\n",
       "      <td>六十五载桃李路 千言万语华职情~~~</td>\n",
       "      <td>由泉州华职语文学科组主办的第九届普通话形象大使比赛暨,比赛的选手则是来自2018级各个专业的同学,就在明天 咱一起华职校园回忆青春 文字,华职学子展现出独一无二的青春风采,       此次比赛也进一步推广了普通话在校园的使用,演讲比赛中展现出积极向上的精神面貌,评委老师们主要从演讲内容、语音、情感、流畅度、仪态等方面为选手进行打分,演讲比赛隆重举行,有的选手一展歌喉,       幼教、财会专业的选手围绕着</td>\n",
       "    </tr>\n",
       "    <tr>\n",
       "      <th>3</th>\n",
       "      <td>0</td>\n",
       "      <td>我市90后医生莫就如援藏归来</td>\n",
       "      <td>莫就如与同事分享援藏经历时间,莫就如也会向市妇幼保健院的专家请教,还会派驻像莫就如一样的优秀医生到西藏去,在莫就如的努力下,把在阳江掌握的技术带到雪域高原,为了藏区孩子的健康,更好地施救患儿,是阳江市妇幼保健院新生儿科一名医生,莫就如到西藏在林芝市人民医院儿科报到,要用自己的医疗技术给孩子带来健康</td>\n",
       "    </tr>\n",
       "    <tr>\n",
       "      <th>4</th>\n",
       "      <td>0</td>\n",
       "      <td>关于藏医传承，堆龙德庆区这样做</td>\n",
       "      <td>拉萨市堆龙德庆区卫计委委托西藏母子保健协会举办的拉萨市堆龙德庆区乡村医生藏医药技术骨干培训班于11月14日正式开班,在拉萨市堆龙德庆区乡村医生藏医药技术骨干培训开班典礼上,此次培训的目标旨在提升基层藏医医疗机构的藏医传统诊疗服务,这一期培训是协会与堆龙德庆区卫计委第二次合作项目,开班典礼 拉萨市堆龙德庆区卫计委医政科夏辉老师、藏医科德吉康珠老师,感谢堆龙德庆区领导再一次把培训任务交给协会,自治区母子保健协会副会长丹增曲珍等相关工作人员以及来自堆龙德庆区的16名乡村医生参加了开班典礼,培训内容按照拉萨市堆龙德庆区卫计委要求,按照《基层藏医药服务能力提升工程项目任务方案》,藏医培训 藏医药是中国医学宝库中一颗璀璨的明珠</td>\n",
       "    </tr>\n",
       "  </tbody>\n",
       "</table>\n",
       "</div>"
      ],
      "text/plain": [
       "   label                  title  \\\n",
       "0      1  萨基会“回到拉萨”——足球时间圆梦世界屋脊   \n",
       "1      1       我，和梁思成、刘长春在东大的日子   \n",
       "2      1     六十五载桃李路 千言万语华职情~~~   \n",
       "3      0         我市90后医生莫就如援藏归来   \n",
       "4      0        关于藏医传承，堆龙德庆区这样做   \n",
       "\n",
       "                                                                                                                                                                                                                                                                                                                   content  \n",
       "0                                      正是他们的足球梦想让萨马兰奇足球时间三星足球教室不远万里克服重重困难来到这里助他们圆梦足球,西藏优秀中学生放眼祖国公益活动 本次萨马兰奇足球时间三星足球教室也是在5100西藏冰川矿泉水有限公司的鼎力协助下进驻拉萨,训后教练团队表示小球员们的身体素质和个人技能在同龄的孩子中已经是相当的优秀了,萨马兰奇足球时间三星足球教室走进拉萨当雄县中学,萨马兰奇足球时间才得以走进拉萨,教练员为大家做训前动员 接受训练的小球员们普遍有着良好的身体素质与个人技巧,热爱足球的80名青少年,希望孩子们在足球的道路上越走越远,圆梦足球,成立了5100西藏体育教育专项基金  \n",
       "1                                                                                                                                 东北大学优秀社会实践团队,均获得东北大学优秀学生称号和校优秀学生一等奖学金,连续两年获得东北大学优秀学生标兵、国家奖学金及东北大学优秀学生一等奖学金,东北大学优秀团队,东北大学优秀学生一等奖学金,还积极参加社会实践活动,团队成员在学习、工作活动等其他各个方面都取得了优异的成绩,东北大学优秀学生,并获得社会实践优秀团队和优秀个人,荣获东北大学工商管理学院优秀党员等称号  \n",
       "2                                                                                                           由泉州华职语文学科组主办的第九届普通话形象大使比赛暨,比赛的选手则是来自2018级各个专业的同学,就在明天 咱一起华职校园回忆青春 文字,华职学子展现出独一无二的青春风采,       此次比赛也进一步推广了普通话在校园的使用,演讲比赛中展现出积极向上的精神面貌,评委老师们主要从演讲内容、语音、情感、流畅度、仪态等方面为选手进行打分,演讲比赛隆重举行,有的选手一展歌喉,       幼教、财会专业的选手围绕着  \n",
       "3                                                                                                                                                                    莫就如与同事分享援藏经历时间,莫就如也会向市妇幼保健院的专家请教,还会派驻像莫就如一样的优秀医生到西藏去,在莫就如的努力下,把在阳江掌握的技术带到雪域高原,为了藏区孩子的健康,更好地施救患儿,是阳江市妇幼保健院新生儿科一名医生,莫就如到西藏在林芝市人民医院儿科报到,要用自己的医疗技术给孩子带来健康  \n",
       "4  拉萨市堆龙德庆区卫计委委托西藏母子保健协会举办的拉萨市堆龙德庆区乡村医生藏医药技术骨干培训班于11月14日正式开班,在拉萨市堆龙德庆区乡村医生藏医药技术骨干培训开班典礼上,此次培训的目标旨在提升基层藏医医疗机构的藏医传统诊疗服务,这一期培训是协会与堆龙德庆区卫计委第二次合作项目,开班典礼 拉萨市堆龙德庆区卫计委医政科夏辉老师、藏医科德吉康珠老师,感谢堆龙德庆区领导再一次把培训任务交给协会,自治区母子保健协会副会长丹增曲珍等相关工作人员以及来自堆龙德庆区的16名乡村医生参加了开班典礼,培训内容按照拉萨市堆龙德庆区卫计委要求,按照《基层藏医药服务能力提升工程项目任务方案》,藏医培训 藏医药是中国医学宝库中一颗璀璨的明珠  "
      ]
     },
     "execution_count": 14,
     "metadata": {},
     "output_type": "execute_result"
    }
   ],
   "source": [
    "file_list_3 = ['181120西藏教育厅（与教育相关否）.xlsx',\n",
    "               ] # 多个 sheet\n",
    "\n",
    "circ_raw_class_3 = get_new_data(folder, file_list_3)\n",
    "\n",
    "# circ_raw_class_3['label'] = circ_raw_class_3['label'].apply(lambda x:x.strip())    \n",
    "print('总数：', circ_raw_class_3.shape)\n",
    "circ_raw_class_3.head()"
   ]
  },
  {
   "cell_type": "code",
   "execution_count": 15,
   "metadata": {
    "ExecuteTime": {
     "end_time": "2018-11-20T02:53:24.845476Z",
     "start_time": "2018-11-20T02:53:24.606463Z"
    }
   },
   "outputs": [
    {
     "data": {
      "text/plain": [
       "0    625\n",
       "1    424\n",
       "Name: label, dtype: int64"
      ]
     },
     "execution_count": 15,
     "metadata": {},
     "output_type": "execute_result"
    }
   ],
   "source": [
    "circ_raw_class_3['label'].value_counts()"
   ]
  },
  {
   "cell_type": "markdown",
   "metadata": {},
   "source": [
    "### 模型预测后反馈数据"
   ]
  },
  {
   "cell_type": "code",
   "execution_count": 17,
   "metadata": {
    "ExecuteTime": {
     "end_time": "2018-11-19T06:05:02.656940Z",
     "start_time": "2018-11-19T06:05:02.520932Z"
    },
    "collapsed": true
   },
   "outputs": [],
   "source": [
    "# file_list_4 = ['20180904_circ_class_feedback.xlsx', '20180905_circ_class_feedback.xlsx',\n",
    "#                '20180912_circ_class_feedback.xlsx','20180920_circ_class_feedback.xlsx',\n",
    "#                '20180925_circ_class_feedback.xlsx', '20181008_circ_class_feedback.xlsx',\n",
    "#                '20181019_circ_class_feedback.xlsx', '20181112_circ_class_feedback.xlsx'\n",
    "#               ] # 多个 sheet\n",
    "\n",
    "# circ_raw_class_4, PR_data, PR_plot_data = get_feedback_data(folder, file_list_4)\n",
    "\n",
    "# circ_raw_class_4['label'] = circ_raw_class_4['label'].apply(lambda x:x.strip())    \n",
    "# print('总数：', circ_raw_class_4.shape)\n",
    "# circ_raw_class_4.head()"
   ]
  },
  {
   "cell_type": "code",
   "execution_count": 18,
   "metadata": {
    "ExecuteTime": {
     "end_time": "2018-11-19T06:05:02.846950Z",
     "start_time": "2018-11-19T06:05:02.726944Z"
    },
    "collapsed": true
   },
   "outputs": [],
   "source": [
    "# circ_raw_class_4['label'].value_counts()"
   ]
  },
  {
   "cell_type": "markdown",
   "metadata": {},
   "source": [
    "#### PR"
   ]
  },
  {
   "cell_type": "code",
   "execution_count": 19,
   "metadata": {
    "ExecuteTime": {
     "end_time": "2018-11-19T06:05:02.973958Z",
     "start_time": "2018-11-19T06:05:02.849951Z"
    },
    "collapsed": true
   },
   "outputs": [],
   "source": [
    "# y_pred_class = PR_data['predict_label'].tolist()\n",
    "# y_test = PR_data['label'].tolist()\n",
    "# print('accuracy_score: ', metrics.accuracy_score(y_test, y_pred_class)) # 指所有分类正确的百分比\n",
    "# print(metrics.classification_report(y_test, y_pred_class))\n",
    "# print('confusion_matrix: ')\n",
    "# print( metrics.confusion_matrix(y_test, y_pred_class))\n",
    "# # PR_data.head()"
   ]
  },
  {
   "cell_type": "code",
   "execution_count": 20,
   "metadata": {
    "ExecuteTime": {
     "end_time": "2018-11-19T06:05:03.106965Z",
     "start_time": "2018-11-19T06:05:02.977958Z"
    },
    "collapsed": true
   },
   "outputs": [],
   "source": [
    "# PR_plot_data\n",
    "# PR_plot_data = PR_plot_data.reset_index('date')"
   ]
  },
  {
   "cell_type": "code",
   "execution_count": 21,
   "metadata": {
    "ExecuteTime": {
     "end_time": "2018-11-19T06:05:03.252974Z",
     "start_time": "2018-11-19T06:05:03.110966Z"
    },
    "collapsed": true
   },
   "outputs": [],
   "source": [
    "# PR_plot_data[PR_plot_data['label'] == 'avg/total'][[ 'date', 'precision', 'recall' ,'f1-score']].plot(x = 'date')\n",
    "# PR_plot_data[PR_plot_data['label'] == 'avg/total']"
   ]
  },
  {
   "cell_type": "code",
   "execution_count": 22,
   "metadata": {
    "ExecuteTime": {
     "end_time": "2018-11-19T06:05:03.384981Z",
     "start_time": "2018-11-19T06:05:03.256974Z"
    },
    "collapsed": true
   },
   "outputs": [],
   "source": [
    "# P_data = PR_plot_data[PR_plot_data['label'] != 'avg/total'][ ['date', 'label', 'precision']]\n",
    "# P_data.set_index(['date','label']).unstack('label').plot(figsize = (15,6))\n",
    "# P_data.set_index(['date','label']).unstack('label')"
   ]
  },
  {
   "cell_type": "code",
   "execution_count": 23,
   "metadata": {
    "ExecuteTime": {
     "end_time": "2018-11-19T06:05:03.514989Z",
     "start_time": "2018-11-19T06:05:03.388981Z"
    },
    "collapsed": true
   },
   "outputs": [],
   "source": [
    "# P_data = PR_plot_data[PR_plot_data['label'] != 'avg/total'][ ['date', 'label', 'recall']]\n",
    "# P_data.set_index(['date','label']).unstack('label').plot(figsize = (15,6))\n",
    "# P_data.set_index(['date','label']).unstack('label')"
   ]
  },
  {
   "cell_type": "code",
   "execution_count": 24,
   "metadata": {
    "ExecuteTime": {
     "end_time": "2018-11-19T06:05:03.645996Z",
     "start_time": "2018-11-19T06:05:03.521989Z"
    },
    "collapsed": true
   },
   "outputs": [],
   "source": [
    "# P_data = PR_plot_data[PR_plot_data['label'] != 'avg/total'][ ['date', 'label', 'f1-score']]\n",
    "# P_data.set_index(['date','label']).unstack('label').plot(figsize = (15,6))\n",
    "# P_data.set_index(['date','label']).unstack('label')"
   ]
  },
  {
   "cell_type": "markdown",
   "metadata": {},
   "source": [
    "### 补录与预警数据"
   ]
  },
  {
   "cell_type": "code",
   "execution_count": 25,
   "metadata": {
    "ExecuteTime": {
     "end_time": "2018-11-19T06:05:03.774003Z",
     "start_time": "2018-11-19T06:05:03.650996Z"
    },
    "collapsed": true
   },
   "outputs": [],
   "source": [
    "# file_list_5 = ['20180917_circ_class_feedback.xlsx'\n",
    "#               ] \n",
    "# add_warn_data = pd.DataFrame()\n",
    "# for file_name in file_list_5:\n",
    "#     currentPath  = '{0}/{1}'.format(folder, file_name)\n",
    "#     excel = xlrd.open_workbook(currentPath)\n",
    "#     sheet_names = [sheet.name for sheet in excel.sheets()]\n",
    "#     for sheet_name in sheet_names:   \n",
    "#         tmp_data = pd.read_excel(currentPath, sheet_name)    \n",
    "#         tmp_data = tmp_data[tmp_data['label'] != '删除']\n",
    "#         add_warn_data = pd.concat([add_warn_data, tmp_data], axis = 0)\n",
    "\n",
    "# circ_raw_class_5 = add_warn_data[['label', 'title', 'content']]"
   ]
  },
  {
   "cell_type": "code",
   "execution_count": 26,
   "metadata": {
    "ExecuteTime": {
     "end_time": "2018-11-19T06:05:03.907011Z",
     "start_time": "2018-11-19T06:05:03.779004Z"
    },
    "collapsed": true
   },
   "outputs": [],
   "source": [
    "# from sklearn import metrics\n",
    "\n",
    "# y_pred_class = add_warn_data['predict_label']\n",
    "# y_test = add_warn_data['label']\n",
    "# print('accuracy_score: ', metrics.accuracy_score(y_test, y_pred_class)) # 指所有分类正确的百分比\n",
    "# print(metrics.classification_report(y_test, y_pred_class))\n",
    "# print('confusion_matrix: ')\n",
    "# print( metrics.confusion_matrix(y_test, y_pred_class))"
   ]
  },
  {
   "cell_type": "code",
   "execution_count": 27,
   "metadata": {
    "ExecuteTime": {
     "end_time": "2018-11-19T06:05:04.034018Z",
     "start_time": "2018-11-19T06:05:03.910011Z"
    },
    "collapsed": true
   },
   "outputs": [],
   "source": [
    "# circ_raw_class_5['label'].value_counts()"
   ]
  },
  {
   "cell_type": "markdown",
   "metadata": {},
   "source": [
    "## 合并数据"
   ]
  },
  {
   "cell_type": "code",
   "execution_count": 28,
   "metadata": {
    "ExecuteTime": {
     "end_time": "2018-11-19T06:05:04.161026Z",
     "start_time": "2018-11-19T06:05:04.037018Z"
    },
    "collapsed": true
   },
   "outputs": [],
   "source": [
    "# file_list_4 = ['20181019_circ_class_feedback.xlsx'] # 多个 sheet\n",
    "# circ_raw_class_4, PR_data, PR_plot_data = get_feedback_data(folder, file_list_4)\n",
    "# circ_raw_class_4['label'] = circ_raw_class_4['label'].apply(lambda x:x.strip())    \n",
    "# print('总数：', circ_raw_class_4.shape)\n",
    "# circ_raw_class_4.head()"
   ]
  },
  {
   "cell_type": "code",
   "execution_count": 17,
   "metadata": {
    "ExecuteTime": {
     "end_time": "2018-11-20T02:54:23.767846Z",
     "start_time": "2018-11-20T02:54:23.519832Z"
    }
   },
   "outputs": [
    {
     "name": "stdout",
     "output_type": "stream",
     "text": [
      "去重前：  (1049, 5)\n",
      "去重后：  (958, 5)\n",
      "去重后：  (933, 5)\n"
     ]
    },
    {
     "data": {
      "text/html": [
       "<div>\n",
       "<style scoped>\n",
       "    .dataframe tbody tr th:only-of-type {\n",
       "        vertical-align: middle;\n",
       "    }\n",
       "\n",
       "    .dataframe tbody tr th {\n",
       "        vertical-align: top;\n",
       "    }\n",
       "\n",
       "    .dataframe thead th {\n",
       "        text-align: right;\n",
       "    }\n",
       "</style>\n",
       "<table border=\"1\" class=\"dataframe\">\n",
       "  <thead>\n",
       "    <tr style=\"text-align: right;\">\n",
       "      <th></th>\n",
       "      <th>label</th>\n",
       "      <th>title</th>\n",
       "      <th>content</th>\n",
       "      <th>title_content</th>\n",
       "      <th>index</th>\n",
       "    </tr>\n",
       "  </thead>\n",
       "  <tbody>\n",
       "    <tr>\n",
       "      <th>0</th>\n",
       "      <td>1</td>\n",
       "      <td>萨基会“回到拉萨”——足球时间圆梦世界屋脊</td>\n",
       "      <td>正是他们的足球梦想让萨马兰奇足球时间三星足球教室不远万里克服重重困难来到这里助他们圆梦足球,西藏优秀中学生放眼祖国公益活动 本次萨马兰奇足球时间三星足球教室也是在5100西藏冰川矿泉水有限公司的鼎力协助下进驻拉萨,训后教练团队表示小球员们的身体素质和个人技能在同龄的孩子中已经是相当的优秀了,萨马兰奇足球时间三星足球教室走进拉萨当雄县中学,萨马兰奇足球时间才得以走进拉萨,教练员为大家做训前动员 接受训练的小球员们普遍有着良好的身体素质与个人技巧,热爱足球的80名青少年,希望孩子们在足球的道路上越走越远,圆梦足球,成立了5100西藏体育教育专项基金</td>\n",
       "      <td>萨基会“回到拉萨”——足球时间圆梦世界屋脊。正是他们的足球梦想让萨马兰奇足球时间三星足球教室不远万里克服重重困难来到这里助他们圆梦足球,西藏优秀中学生放眼祖国公益活动 本次萨马兰奇足球时间三星足球教室也是在5100西藏冰川矿泉水有限公司的鼎力协助下进驻拉萨,训后教练团队表示小球员们的身体素质和个人技能在同龄的孩子中已经是相当的优秀了,萨马兰奇足球时间三星足球教室走进拉萨当雄县中学,萨马兰奇足球时间才得以走进拉萨,教练员为大家做训前动员 接受训练的小球员们普遍有着良好的身体素质与个人技巧,热爱足球的80名青少年,希望孩子们在足球的道路上越走越远,圆梦足球,成立了5100西藏体育教育专项基金</td>\n",
       "      <td>0</td>\n",
       "    </tr>\n",
       "    <tr>\n",
       "      <th>1</th>\n",
       "      <td>1</td>\n",
       "      <td>我，和梁思成、刘长春在东大的日子</td>\n",
       "      <td>东北大学优秀社会实践团队,均获得东北大学优秀学生称号和校优秀学生一等奖学金,连续两年获得东北大学优秀学生标兵、国家奖学金及东北大学优秀学生一等奖学金,东北大学优秀团队,东北大学优秀学生一等奖学金,还积极参加社会实践活动,团队成员在学习、工作活动等其他各个方面都取得了优异的成绩,东北大学优秀学生,并获得社会实践优秀团队和优秀个人,荣获东北大学工商管理学院优秀党员等称号</td>\n",
       "      <td>我，和梁思成、刘长春在东大的日子。东北大学优秀社会实践团队,均获得东北大学优秀学生称号和校优秀学生一等奖学金,连续两年获得东北大学优秀学生标兵、国家奖学金及东北大学优秀学生一等奖学金,东北大学优秀团队,东北大学优秀学生一等奖学金,还积极参加社会实践活动,团队成员在学习、工作活动等其他各个方面都取得了优异的成绩,东北大学优秀学生,并获得社会实践优秀团队和优秀个人,荣获东北大学工商管理学院优秀党员等称号</td>\n",
       "      <td>1</td>\n",
       "    </tr>\n",
       "    <tr>\n",
       "      <th>2</th>\n",
       "      <td>1</td>\n",
       "      <td>六十五载桃李路 千言万语华职情~~~</td>\n",
       "      <td>由泉州华职语文学科组主办的第九届普通话形象大使比赛暨,比赛的选手则是来自2018级各个专业的同学,就在明天 咱一起华职校园回忆青春 文字,华职学子展现出独一无二的青春风采,       此次比赛也进一步推广了普通话在校园的使用,演讲比赛中展现出积极向上的精神面貌,评委老师们主要从演讲内容、语音、情感、流畅度、仪态等方面为选手进行打分,演讲比赛隆重举行,有的选手一展歌喉,       幼教、财会专业的选手围绕着</td>\n",
       "      <td>六十五载桃李路 千言万语华职情~~~。由泉州华职语文学科组主办的第九届普通话形象大使比赛暨,比赛的选手则是来自2018级各个专业的同学,就在明天 咱一起华职校园回忆青春 文字,华职学子展现出独一无二的青春风采,       此次比赛也进一步推广了普通话在校园的使用,演讲比赛中展现出积极向上的精神面貌,评委老师们主要从演讲内容、语音、情感、流畅度、仪态等方面为选手进行打分,演讲比赛隆重举行,有的选手一展歌喉,       幼教、财会专业的选手围绕着</td>\n",
       "      <td>2</td>\n",
       "    </tr>\n",
       "    <tr>\n",
       "      <th>3</th>\n",
       "      <td>0</td>\n",
       "      <td>我市90后医生莫就如援藏归来</td>\n",
       "      <td>莫就如与同事分享援藏经历时间,莫就如也会向市妇幼保健院的专家请教,还会派驻像莫就如一样的优秀医生到西藏去,在莫就如的努力下,把在阳江掌握的技术带到雪域高原,为了藏区孩子的健康,更好地施救患儿,是阳江市妇幼保健院新生儿科一名医生,莫就如到西藏在林芝市人民医院儿科报到,要用自己的医疗技术给孩子带来健康</td>\n",
       "      <td>我市90后医生莫就如援藏归来。莫就如与同事分享援藏经历时间,莫就如也会向市妇幼保健院的专家请教,还会派驻像莫就如一样的优秀医生到西藏去,在莫就如的努力下,把在阳江掌握的技术带到雪域高原,为了藏区孩子的健康,更好地施救患儿,是阳江市妇幼保健院新生儿科一名医生,莫就如到西藏在林芝市人民医院儿科报到,要用自己的医疗技术给孩子带来健康</td>\n",
       "      <td>3</td>\n",
       "    </tr>\n",
       "    <tr>\n",
       "      <th>4</th>\n",
       "      <td>0</td>\n",
       "      <td>关于藏医传承，堆龙德庆区这样做</td>\n",
       "      <td>拉萨市堆龙德庆区卫计委委托西藏母子保健协会举办的拉萨市堆龙德庆区乡村医生藏医药技术骨干培训班于11月14日正式开班,在拉萨市堆龙德庆区乡村医生藏医药技术骨干培训开班典礼上,此次培训的目标旨在提升基层藏医医疗机构的藏医传统诊疗服务,这一期培训是协会与堆龙德庆区卫计委第二次合作项目,开班典礼 拉萨市堆龙德庆区卫计委医政科夏辉老师、藏医科德吉康珠老师,感谢堆龙德庆区领导再一次把培训任务交给协会,自治区母子保健协会副会长丹增曲珍等相关工作人员以及来自堆龙德庆区的16名乡村医生参加了开班典礼,培训内容按照拉萨市堆龙德庆区卫计委要求,按照《基层藏医药服务能力提升工程项目任务方案》,藏医培训 藏医药是中国医学宝库中一颗璀璨的明珠</td>\n",
       "      <td>关于藏医传承，堆龙德庆区这样做。拉萨市堆龙德庆区卫计委委托西藏母子保健协会举办的拉萨市堆龙德庆区乡村医生藏医药技术骨干培训班于11月14日正式开班,在拉萨市堆龙德庆区乡村医生藏医药技术骨干培训开班典礼上,此次培训的目标旨在提升基层藏医医疗机构的藏医传统诊疗服务,这一期培训是协会与堆龙德庆区卫计委第二次合作项目,开班典礼 拉萨市堆龙德庆区卫计委医政科夏辉老师、藏医科德吉康珠老师,感谢堆龙德庆区领导再一次把培训任务交给协会,自治区母子保健协会副会长丹增曲珍等相关工作人员以及来自堆龙德庆区的16名乡村医生参加了开班典礼,培训内容按照拉萨市堆龙德庆区卫计委要求,按照《基层藏医药服务能力提升工程项目任务方案》,藏医培训 藏医药是中国医学宝库中一颗璀璨的明珠</td>\n",
       "      <td>4</td>\n",
       "    </tr>\n",
       "  </tbody>\n",
       "</table>\n",
       "</div>"
      ],
      "text/plain": [
       "   label                  title  \\\n",
       "0      1  萨基会“回到拉萨”——足球时间圆梦世界屋脊   \n",
       "1      1       我，和梁思成、刘长春在东大的日子   \n",
       "2      1     六十五载桃李路 千言万语华职情~~~   \n",
       "3      0         我市90后医生莫就如援藏归来   \n",
       "4      0        关于藏医传承，堆龙德庆区这样做   \n",
       "\n",
       "                                                                                                                                                                                                                                                                                                                   content  \\\n",
       "0                                      正是他们的足球梦想让萨马兰奇足球时间三星足球教室不远万里克服重重困难来到这里助他们圆梦足球,西藏优秀中学生放眼祖国公益活动 本次萨马兰奇足球时间三星足球教室也是在5100西藏冰川矿泉水有限公司的鼎力协助下进驻拉萨,训后教练团队表示小球员们的身体素质和个人技能在同龄的孩子中已经是相当的优秀了,萨马兰奇足球时间三星足球教室走进拉萨当雄县中学,萨马兰奇足球时间才得以走进拉萨,教练员为大家做训前动员 接受训练的小球员们普遍有着良好的身体素质与个人技巧,热爱足球的80名青少年,希望孩子们在足球的道路上越走越远,圆梦足球,成立了5100西藏体育教育专项基金   \n",
       "1                                                                                                                                 东北大学优秀社会实践团队,均获得东北大学优秀学生称号和校优秀学生一等奖学金,连续两年获得东北大学优秀学生标兵、国家奖学金及东北大学优秀学生一等奖学金,东北大学优秀团队,东北大学优秀学生一等奖学金,还积极参加社会实践活动,团队成员在学习、工作活动等其他各个方面都取得了优异的成绩,东北大学优秀学生,并获得社会实践优秀团队和优秀个人,荣获东北大学工商管理学院优秀党员等称号   \n",
       "2                                                                                                           由泉州华职语文学科组主办的第九届普通话形象大使比赛暨,比赛的选手则是来自2018级各个专业的同学,就在明天 咱一起华职校园回忆青春 文字,华职学子展现出独一无二的青春风采,       此次比赛也进一步推广了普通话在校园的使用,演讲比赛中展现出积极向上的精神面貌,评委老师们主要从演讲内容、语音、情感、流畅度、仪态等方面为选手进行打分,演讲比赛隆重举行,有的选手一展歌喉,       幼教、财会专业的选手围绕着   \n",
       "3                                                                                                                                                                    莫就如与同事分享援藏经历时间,莫就如也会向市妇幼保健院的专家请教,还会派驻像莫就如一样的优秀医生到西藏去,在莫就如的努力下,把在阳江掌握的技术带到雪域高原,为了藏区孩子的健康,更好地施救患儿,是阳江市妇幼保健院新生儿科一名医生,莫就如到西藏在林芝市人民医院儿科报到,要用自己的医疗技术给孩子带来健康   \n",
       "4  拉萨市堆龙德庆区卫计委委托西藏母子保健协会举办的拉萨市堆龙德庆区乡村医生藏医药技术骨干培训班于11月14日正式开班,在拉萨市堆龙德庆区乡村医生藏医药技术骨干培训开班典礼上,此次培训的目标旨在提升基层藏医医疗机构的藏医传统诊疗服务,这一期培训是协会与堆龙德庆区卫计委第二次合作项目,开班典礼 拉萨市堆龙德庆区卫计委医政科夏辉老师、藏医科德吉康珠老师,感谢堆龙德庆区领导再一次把培训任务交给协会,自治区母子保健协会副会长丹增曲珍等相关工作人员以及来自堆龙德庆区的16名乡村医生参加了开班典礼,培训内容按照拉萨市堆龙德庆区卫计委要求,按照《基层藏医药服务能力提升工程项目任务方案》,藏医培训 藏医药是中国医学宝库中一颗璀璨的明珠   \n",
       "\n",
       "                                                                                                                                                                                                                                                                                                                             title_content  \\\n",
       "0                                萨基会“回到拉萨”——足球时间圆梦世界屋脊。正是他们的足球梦想让萨马兰奇足球时间三星足球教室不远万里克服重重困难来到这里助他们圆梦足球,西藏优秀中学生放眼祖国公益活动 本次萨马兰奇足球时间三星足球教室也是在5100西藏冰川矿泉水有限公司的鼎力协助下进驻拉萨,训后教练团队表示小球员们的身体素质和个人技能在同龄的孩子中已经是相当的优秀了,萨马兰奇足球时间三星足球教室走进拉萨当雄县中学,萨马兰奇足球时间才得以走进拉萨,教练员为大家做训前动员 接受训练的小球员们普遍有着良好的身体素质与个人技巧,热爱足球的80名青少年,希望孩子们在足球的道路上越走越远,圆梦足球,成立了5100西藏体育教育专项基金   \n",
       "1                                                                                                                                我，和梁思成、刘长春在东大的日子。东北大学优秀社会实践团队,均获得东北大学优秀学生称号和校优秀学生一等奖学金,连续两年获得东北大学优秀学生标兵、国家奖学金及东北大学优秀学生一等奖学金,东北大学优秀团队,东北大学优秀学生一等奖学金,还积极参加社会实践活动,团队成员在学习、工作活动等其他各个方面都取得了优异的成绩,东北大学优秀学生,并获得社会实践优秀团队和优秀个人,荣获东北大学工商管理学院优秀党员等称号   \n",
       "2                                                                                                        六十五载桃李路 千言万语华职情~~~。由泉州华职语文学科组主办的第九届普通话形象大使比赛暨,比赛的选手则是来自2018级各个专业的同学,就在明天 咱一起华职校园回忆青春 文字,华职学子展现出独一无二的青春风采,       此次比赛也进一步推广了普通话在校园的使用,演讲比赛中展现出积极向上的精神面貌,评委老师们主要从演讲内容、语音、情感、流畅度、仪态等方面为选手进行打分,演讲比赛隆重举行,有的选手一展歌喉,       幼教、财会专业的选手围绕着   \n",
       "3                                                                                                                                                                     我市90后医生莫就如援藏归来。莫就如与同事分享援藏经历时间,莫就如也会向市妇幼保健院的专家请教,还会派驻像莫就如一样的优秀医生到西藏去,在莫就如的努力下,把在阳江掌握的技术带到雪域高原,为了藏区孩子的健康,更好地施救患儿,是阳江市妇幼保健院新生儿科一名医生,莫就如到西藏在林芝市人民医院儿科报到,要用自己的医疗技术给孩子带来健康   \n",
       "4  关于藏医传承，堆龙德庆区这样做。拉萨市堆龙德庆区卫计委委托西藏母子保健协会举办的拉萨市堆龙德庆区乡村医生藏医药技术骨干培训班于11月14日正式开班,在拉萨市堆龙德庆区乡村医生藏医药技术骨干培训开班典礼上,此次培训的目标旨在提升基层藏医医疗机构的藏医传统诊疗服务,这一期培训是协会与堆龙德庆区卫计委第二次合作项目,开班典礼 拉萨市堆龙德庆区卫计委医政科夏辉老师、藏医科德吉康珠老师,感谢堆龙德庆区领导再一次把培训任务交给协会,自治区母子保健协会副会长丹增曲珍等相关工作人员以及来自堆龙德庆区的16名乡村医生参加了开班典礼,培训内容按照拉萨市堆龙德庆区卫计委要求,按照《基层藏医药服务能力提升工程项目任务方案》,藏医培训 藏医药是中国医学宝库中一颗璀璨的明珠   \n",
       "\n",
       "   index  \n",
       "0      0  \n",
       "1      1  \n",
       "2      2  \n",
       "3      3  \n",
       "4      4  "
      ]
     },
     "execution_count": 17,
     "metadata": {},
     "output_type": "execute_result"
    }
   ],
   "source": [
    "# circ_raw_class = pd.concat([circ_raw_class_1, circ_raw_class_2,\n",
    "#                           circ_raw_class_3, circ_raw_class_4,\n",
    "#                            circ_raw_class_5], \n",
    "#                          axis = 0)\n",
    "\n",
    "circ_raw_class = circ_raw_class_3\n",
    "circ_raw_class['title_content'] = circ_raw_class['title'].astype(str) + '。' + circ_raw_class['content'].astype(str)\n",
    "# circ_raw_class['label'] = circ_raw_class['label'].apply(lambda x:x.strip())\n",
    "circ_raw_class['index'] = range(circ_raw_class.shape[0])\n",
    "print('去重前： ', circ_raw_class.shape)\n",
    "circ_raw_class = circ_raw_class.drop_duplicates(subset = 'title')\n",
    "print('去重后： ', circ_raw_class.shape)\n",
    "circ_raw_class = circ_raw_class.drop_duplicates(subset = 'content')\n",
    "print('去重后： ', circ_raw_class.shape)\n",
    "circ_raw_class.head()"
   ]
  },
  {
   "cell_type": "code",
   "execution_count": 18,
   "metadata": {
    "ExecuteTime": {
     "end_time": "2018-11-20T02:54:34.381453Z",
     "start_time": "2018-11-20T02:54:34.152440Z"
    }
   },
   "outputs": [
    {
     "name": "stdout",
     "output_type": "stream",
     "text": [
      "(933, 5)\n"
     ]
    },
    {
     "data": {
      "text/plain": [
       "label\n",
       "0    605\n",
       "1    328\n",
       "Name: title, dtype: int64"
      ]
     },
     "execution_count": 18,
     "metadata": {},
     "output_type": "execute_result"
    }
   ],
   "source": [
    "print(circ_raw_class.shape)\n",
    "circ_raw_class.groupby('label')['title'].count()"
   ]
  },
  {
   "cell_type": "markdown",
   "metadata": {},
   "source": [
    "## 预处理"
   ]
  },
  {
   "cell_type": "code",
   "execution_count": 19,
   "metadata": {
    "ExecuteTime": {
     "end_time": "2018-11-20T02:54:59.888912Z",
     "start_time": "2018-11-20T02:54:57.759791Z"
    }
   },
   "outputs": [
    {
     "name": "stdout",
     "output_type": "stream",
     "text": [
      "(933, 5)\n",
      "save_folder:  cor_result/\n",
      "title num:  933\n",
      "content num:  933\n",
      "足球 梦想 萨马兰奇 足球 时间 三星 足球 教室 不远万里 克服 重重困难 来到 助 圆梦 足球 西藏 优秀 中学生 放眼 祖国 公益活动 本次 萨马兰奇 足球 时间 三星 足球 教室 西藏 冰川 矿泉水 有限公司 鼎力 协助 进驻 拉萨 训后 教练 团队 小球员 身体素质 技能 孩子 中 优秀 萨马兰奇 足球 时间 三星 足球 教室 走进 拉萨 当雄县 中学 萨马兰奇 足球 时间 得以 走进 拉萨 教练员 做 训前 动员 接受 训练 小球员 身体素质 技巧 热爱 足球 名 青少年 希望 孩子 足球 道路 越走越远 圆梦 足球 成立 西藏 体育 教育 专项基金 \n",
      "label num:  933\n"
     ]
    }
   ],
   "source": [
    "save_folder = 'cor_result/'\n",
    "pre_save(pre_cor_circ.handle_contents, circ_raw_class, save_folder)"
   ]
  },
  {
   "cell_type": "code",
   "execution_count": null,
   "metadata": {
    "collapsed": true
   },
   "outputs": [],
   "source": []
  }
 ],
 "metadata": {
  "kernelspec": {
   "display_name": "Python 3",
   "language": "python",
   "name": "python3"
  },
  "language_info": {
   "codemirror_mode": {
    "name": "ipython",
    "version": 3
   },
   "file_extension": ".py",
   "mimetype": "text/x-python",
   "name": "python",
   "nbconvert_exporter": "python",
   "pygments_lexer": "ipython3",
   "version": "3.6.3"
  },
  "toc": {
   "nav_menu": {},
   "number_sections": true,
   "sideBar": true,
   "skip_h1_title": false,
   "title_cell": "Table of Contents",
   "title_sidebar": "Contents",
   "toc_cell": false,
   "toc_position": {
    "height": "calc(100% - 180px)",
    "left": "10px",
    "top": "150px",
    "width": "376px"
   },
   "toc_section_display": true,
   "toc_window_display": true
  },
  "varInspector": {
   "cols": {
    "lenName": 16,
    "lenType": 16,
    "lenVar": 40
   },
   "kernels_config": {
    "python": {
     "delete_cmd_postfix": "",
     "delete_cmd_prefix": "del ",
     "library": "var_list.py",
     "varRefreshCmd": "print(var_dic_list())"
    },
    "r": {
     "delete_cmd_postfix": ") ",
     "delete_cmd_prefix": "rm(",
     "library": "var_list.r",
     "varRefreshCmd": "cat(var_dic_list()) "
    }
   },
   "types_to_exclude": [
    "module",
    "function",
    "builtin_function_or_method",
    "instance",
    "_Feature"
   ],
   "window_display": false
  }
 },
 "nbformat": 4,
 "nbformat_minor": 2
}
