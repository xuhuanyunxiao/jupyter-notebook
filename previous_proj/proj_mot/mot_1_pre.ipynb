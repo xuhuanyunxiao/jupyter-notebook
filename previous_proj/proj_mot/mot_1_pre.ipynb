{
 "cells": [
  {
   "cell_type": "markdown",
   "metadata": {},
   "source": [
    "# 本文件说明\n",
    "- 读取数据、预处理数据"
   ]
  },
  {
   "cell_type": "markdown",
   "metadata": {},
   "source": [
    "# 基本设置"
   ]
  },
  {
   "cell_type": "code",
   "execution_count": 19,
   "metadata": {
    "ExecuteTime": {
     "end_time": "2019-01-02T06:07:21.537032Z",
     "start_time": "2019-01-02T06:07:21.358022Z"
    }
   },
   "outputs": [],
   "source": [
    "import xlrd\n",
    "\n",
    "%matplotlib inline\n",
    "import numpy as np\n",
    "import pandas as pd\n",
    "import pre_cor_circ\n",
    "\n",
    "from sklearn import metrics\n",
    "\n",
    "import warnings\n",
    "warnings.filterwarnings('ignore')"
   ]
  },
  {
   "cell_type": "code",
   "execution_count": 20,
   "metadata": {
    "ExecuteTime": {
     "end_time": "2019-01-02T06:07:22.285075Z",
     "start_time": "2019-01-02T06:07:22.122066Z"
    }
   },
   "outputs": [
    {
     "name": "stdout",
     "output_type": "stream",
     "text": [
      "The autoreload extension is already loaded. To reload it, use:\n",
      "  %reload_ext autoreload\n"
     ]
    }
   ],
   "source": [
    "%load_ext autoreload\n",
    "%autoreload 2"
   ]
  },
  {
   "cell_type": "markdown",
   "metadata": {},
   "source": [
    "## 一些函数"
   ]
  },
  {
   "cell_type": "code",
   "execution_count": 3,
   "metadata": {
    "ExecuteTime": {
     "end_time": "2019-01-02T06:01:58.008528Z",
     "start_time": "2019-01-02T06:01:57.829517Z"
    }
   },
   "outputs": [],
   "source": [
    "def predict_right(folder, file_list):\n",
    "    '''预测正确数据'''\n",
    "    right_data = pd.DataFrame()\n",
    "    for file_name in file_list:\n",
    "        currentPath  = '{0}/{1}'.format(folder, file_name)\n",
    "        excel = xlrd.open_workbook(currentPath)\n",
    "        sheet_names = [sheet.name for sheet in excel.sheets()]\n",
    "        for sheet_name in sheet_names:    \n",
    "            tmp_data = pd.read_excel(currentPath, sheet_name)\n",
    "    #         tmp_data = tmp_data[tmp_data['R_W'] == 'Right']\n",
    "            print('去空值前： ', tmp_data.shape, file_name, sheet_name)\n",
    "#             tmp_data = tmp_data[tmp_data['备注'] != '删除']\n",
    "    #         tmp_data = tmp_data.dropna(subset = ['raw_title'], axis = 0)\n",
    "#             print('去空值后： ', tmp_data.shape, file_name, sheet_name)\n",
    "            right_data = pd.concat([right_data, tmp_data], axis = 0)    \n",
    "    return right_data"
   ]
  },
  {
   "cell_type": "code",
   "execution_count": 4,
   "metadata": {
    "ExecuteTime": {
     "end_time": "2019-01-02T06:01:58.629563Z",
     "start_time": "2019-01-02T06:01:58.429552Z"
    }
   },
   "outputs": [],
   "source": [
    "def correct_wrong_data(folder, file_list):\n",
    "    '''预测错误修正后数据'''\n",
    "    correct_wrong_data = pd.DataFrame()\n",
    "    for file_name in file_list:\n",
    "        currentPath  = '{0}/{1}'.format(folder, file_name)\n",
    "        excel = xlrd.open_workbook(currentPath)\n",
    "        sheet_names = [sheet.name for sheet in excel.sheets()]\n",
    "        for sheet_name in sheet_names:    \n",
    "            tmp_data = pd.read_excel(currentPath, sheet_name)\n",
    "    #         tmp_data = tmp_data[tmp_data['R_W'] == 'Wrong']\n",
    "            print('去删除前： ', tmp_data.shape, file_name, sheet_name)\n",
    "            tmp_data = tmp_data[tmp_data['备注'] != '删除']\n",
    "    #         tmp_data = tmp_data.dropna(subset = ['raw_title'], axis = 0)\n",
    "            print('去删除后： ', tmp_data.shape, file_name, sheet_name)\n",
    "\n",
    "            tmp_data['人工判断'] = tmp_data.apply(lambda x:1 if x['label'] == x['备注'] else 0, axis = 1)\n",
    "            tmp_data['算法判断'] = tmp_data.apply(lambda x:1 if x['predict_label'] == x['备注'] else 0, axis = 1)\n",
    "            print('人工误判率： %0.2f'%(1 - tmp_data['人工判断'].sum() / tmp_data.shape[0]),\n",
    "                  '算法误判率： %0.2f'%(1 - tmp_data['算法判断'].sum() / tmp_data.shape[0]))\n",
    "            print()\n",
    "\n",
    "            correct_wrong_data = pd.concat([correct_wrong_data, tmp_data], axis = 0)\n",
    "    return correct_wrong_data"
   ]
  },
  {
   "cell_type": "code",
   "execution_count": 5,
   "metadata": {
    "ExecuteTime": {
     "end_time": "2019-01-02T06:01:59.124591Z",
     "start_time": "2019-01-02T06:01:58.955582Z"
    }
   },
   "outputs": [],
   "source": [
    "def get_new_data(folder, file_list):\n",
    "    '''新补充数据'''\n",
    "    new_data = pd.DataFrame()\n",
    "    for file_name in file_list:\n",
    "        currentPath  = '{0}/{1}'.format(folder, file_name)\n",
    "        excel = xlrd.open_workbook(currentPath)\n",
    "        sheet_names = [sheet.name for sheet in excel.sheets()]\n",
    "        for sheet_name in sheet_names:    \n",
    "            tmp_data = pd.read_excel(currentPath, sheet_name)\n",
    "            print(tmp_data.columns)\n",
    "            tmp_data = tmp_data[['label', 'title', 'content']]\n",
    "            print('去空值前： ', tmp_data.shape, file_name, sheet_name)\n",
    "            tmp_data = tmp_data.dropna(subset = ['label'], axis = 0)\n",
    "            print('去空值后： ', tmp_data.shape, file_name, sheet_name)\n",
    "            new_data = pd.concat([new_data, tmp_data], axis = 0)    \n",
    "    return new_data"
   ]
  },
  {
   "cell_type": "code",
   "execution_count": 6,
   "metadata": {
    "ExecuteTime": {
     "end_time": "2019-01-02T06:01:59.896636Z",
     "start_time": "2019-01-02T06:01:59.530615Z"
    }
   },
   "outputs": [],
   "source": [
    "def get_PR_plot_data(feedback_data, date, plot_data):\n",
    "    y_pred_class = feedback_data[feedback_data['date'] == date]['predict_label'].tolist()\n",
    "    y_test = feedback_data[feedback_data['date'] == date]['label'].tolist()\n",
    "    print('accuracy_score: ', metrics.accuracy_score(y_test, y_pred_class)) # 指所有分类正确的百分比\n",
    "    print(metrics.classification_report(y_test, y_pred_class))\n",
    "    print('confusion_matrix: ')\n",
    "    print( metrics.confusion_matrix(y_test, y_pred_class))\n",
    "    print()       \n",
    "    \n",
    "    classification_report = metrics.classification_report(y_test, y_pred_class)\n",
    "    lines = classification_report.split('\\n')\n",
    "    # plot_data = []\n",
    "    for index, line in enumerate(lines[2 : len(lines)]):\n",
    "        t = line.strip().split()\n",
    "        if len(t) < 2: continue    \n",
    "        if (index + 2) < (len(lines) - 2):\n",
    "            t = [float(v) if i > 0 else v for i, v in enumerate(t)]\n",
    "            plot_data.append(t + [date])\n",
    "        else :\n",
    "            t = [float(v) if i > 2 else v for i, v in enumerate(t) ]\n",
    "            plot_data.append(['avg/total'] + t[3:] + [date])    \n",
    "            \n",
    "    return plot_data"
   ]
  },
  {
   "cell_type": "code",
   "execution_count": 7,
   "metadata": {
    "ExecuteTime": {
     "end_time": "2019-01-02T06:02:00.504670Z",
     "start_time": "2019-01-02T06:02:00.241655Z"
    }
   },
   "outputs": [],
   "source": [
    "def get_feedback_data(folder, file_list):\n",
    "    '''模型预测后反馈数据'''\n",
    "    feedback_data = pd.DataFrame()\n",
    "    label_list = []\n",
    "    sum_list = []\n",
    "    right_list = []\n",
    "    plot_data = []\n",
    "    for file_name in file_list:\n",
    "        print('  ----    ', file_name)\n",
    "        date = file_name.split('_')[0]\n",
    "        currentPath  = '{0}/{1}'.format(folder, file_name)\n",
    "        excel = xlrd.open_workbook(currentPath)\n",
    "        sheet_names = [sheet.name for sheet in excel.sheets()]\n",
    "        for sheet_name in sheet_names:   \n",
    "            tmp_data = pd.read_excel(currentPath, sheet_name)    \n",
    "            tmp_data = tmp_data[tmp_data['label'] != '删除']\n",
    "            tmp_data_1 = tmp_data[tmp_data['label'] == sheet_name]\n",
    "\n",
    "            label_list.append(sheet_name)\n",
    "            sum_list.append(tmp_data.shape[0])\n",
    "            right_list.append(tmp_data_1.shape[0])\n",
    "            print('类别：', sheet_name, '总数：', tmp_data.shape[0], \n",
    "                  '正确数', tmp_data_1.shape[0], \n",
    "                  '正确比例', tmp_data_1.shape[0]/tmp_data.shape[0])\n",
    "            \n",
    "            if 'predict_label' in tmp_data_1.columns:\n",
    "                tmp_data_1 = tmp_data[['predict_label', 'label', 'title', 'content']]\n",
    "            else :\n",
    "                tmp_data_1 = tmp_data[['label', 'title', 'content']]\n",
    "                if contain_ch(sheet_name) :\n",
    "                    tmp_data_1['predict_label'] = sheet_name\n",
    "                else :\n",
    "                    tmp_data_1['predict_label'] = ''\n",
    "                \n",
    "            tmp_data_1['date'] = date\n",
    "            print('去空值前： ', tmp_data_1.shape, file_name, sheet_name)\n",
    "            tmp_data_1 = tmp_data_1.dropna(subset = ['label'], axis = 0)\n",
    "            print('去空值后： ', tmp_data_1.shape, file_name, sheet_name)\n",
    "            feedback_data = pd.concat([feedback_data, tmp_data_1], axis = 0)\n",
    "            print() \n",
    "                        \n",
    "        plot_data = get_PR_plot_data(feedback_data, date, plot_data) \n",
    "            \n",
    "    PR_data = feedback_data[['date', 'predict_label', 'label']]\n",
    "    feedback_data = feedback_data.drop('date', axis = 1)\n",
    "    feedback_data = feedback_data.drop('predict_label', axis = 1)\n",
    "    PR_plot_data  = pd.DataFrame(plot_data, columns = ['label', 'precision', 'recall', \n",
    "                                                    'f1-score', 'support', 'date'])     \n",
    "    \n",
    "    return feedback_data, PR_data, PR_plot_data"
   ]
  },
  {
   "cell_type": "code",
   "execution_count": 8,
   "metadata": {
    "ExecuteTime": {
     "end_time": "2019-01-02T06:02:01.212711Z",
     "start_time": "2019-01-02T06:02:01.010699Z"
    }
   },
   "outputs": [],
   "source": [
    "def pre_save(pre_func, data, save_folder):\n",
    "    print(data.shape)\n",
    "    print('save_folder: ', save_folder)\n",
    "    \n",
    "    titles = pre_func(data['title'].tolist())\n",
    "    print('title num: ', len(titles))\n",
    "    save_filename = save_folder + 'corpus/titles.txt'\n",
    "    fid = open(save_filename, \"w+\", encoding='UTF-8')\n",
    "    for line in titles:\n",
    "        fid.write(line + '\\n')\n",
    "    fid.close()  \n",
    "    \n",
    "#     print(len(data['content'].tolist()))\n",
    "    contents = pre_func(data['content'].tolist())\n",
    "    print('content num: ', len(contents))\n",
    "    print(contents[0])\n",
    "    # contents = [re.sub(r'[a-z]*', '', x) for x in contents]\n",
    "    # print(len(contents))\n",
    "    # print(contents[:2])\n",
    "    coprus_save_filename = save_folder + 'corpus/contents.txt'\n",
    "    f = open(coprus_save_filename, \"w+\", encoding='UTF-8')\n",
    "    for line in contents:\n",
    "        f.write(line + '\\n')\n",
    "    f.close()    \n",
    "\n",
    "    label = data['label'].tolist()\n",
    "    print('label num: ', len(label))\n",
    "    coprus_save_filename = save_folder + 'corpus/labels.txt'\n",
    "    f = open(coprus_save_filename, \"w+\", encoding='UTF-8')\n",
    "    for line in label:\n",
    "        f.write(str(line) + '\\n')\n",
    "    f.close()\n",
    "\n",
    "    data.to_excel(save_folder + 'corpus/title_content_label.xlsx', index = False)\n",
    "    "
   ]
  },
  {
   "cell_type": "markdown",
   "metadata": {},
   "source": [
    "# 交通部：1 二分类"
   ]
  },
  {
   "cell_type": "markdown",
   "metadata": {},
   "source": [
    "## 读取数据：0 不相关 1 相关"
   ]
  },
  {
   "cell_type": "code",
   "execution_count": 9,
   "metadata": {
    "ExecuteTime": {
     "end_time": "2019-01-02T06:02:27.427210Z",
     "start_time": "2019-01-02T06:02:27.276202Z"
    }
   },
   "outputs": [],
   "source": [
    "folder = 'cor_data/20190102'"
   ]
  },
  {
   "cell_type": "markdown",
   "metadata": {},
   "source": [
    "### 预测正确数据"
   ]
  },
  {
   "cell_type": "code",
   "execution_count": 15,
   "metadata": {
    "ExecuteTime": {
     "end_time": "2019-01-02T06:04:18.706575Z",
     "start_time": "2019-01-02T06:04:18.533565Z"
    }
   },
   "outputs": [],
   "source": [
    "# file_list_1 = ['190102交通相关-4244条.xlsx',]\n",
    "# circ_raw_class_1 = predict_right(folder, file_list_1)\n",
    "\n",
    "# circ_raw_class_1['label'] = circ_raw_class_1['label'].apply(lambda x:x.strip())    \n",
    "# circ_raw_class_1 = circ_raw_class_1[['label', 'raw_title', 'raw_content']]\n",
    "# circ_raw_class_1.columns = ['label', 'title', 'content']\n",
    "# print('总数：', circ_raw_class_1.shape)\n",
    "# circ_raw_class_1.head()"
   ]
  },
  {
   "cell_type": "code",
   "execution_count": 11,
   "metadata": {
    "ExecuteTime": {
     "end_time": "2019-01-02T06:02:29.088305Z",
     "start_time": "2019-01-02T06:02:28.930296Z"
    }
   },
   "outputs": [],
   "source": [
    "# circ_raw_class_1['label'].value_counts()"
   ]
  },
  {
   "cell_type": "markdown",
   "metadata": {},
   "source": [
    "### 预测错误修正后数据"
   ]
  },
  {
   "cell_type": "code",
   "execution_count": 12,
   "metadata": {
    "ExecuteTime": {
     "end_time": "2019-01-02T06:02:29.454326Z",
     "start_time": "2019-01-02T06:02:29.277316Z"
    }
   },
   "outputs": [],
   "source": [
    "# file_list_2 = ['circ_class_sel_20180827-1.xlsx','circ_class_sel_20180827-2.xlsx']\n",
    "\n",
    "# circ_raw_class_2 = correct_wrong_data(folder, file_list_2)\n",
    "# circ_raw_class_2['label'] = circ_raw_class_2['label'].apply(lambda x:x.strip())  \n",
    "# circ_raw_class_2 = circ_raw_class_2[['备注', 'raw_title', 'raw_content']]\n",
    "# circ_raw_class_2.columns = ['label', 'title', 'content']\n",
    "# print('总数：', circ_raw_class_2.shape)\n",
    "# circ_raw_class_2.head()"
   ]
  },
  {
   "cell_type": "code",
   "execution_count": 13,
   "metadata": {
    "ExecuteTime": {
     "end_time": "2019-01-02T06:02:29.791345Z",
     "start_time": "2019-01-02T06:02:29.630336Z"
    }
   },
   "outputs": [],
   "source": [
    "# circ_raw_class_2['label'].value_counts()"
   ]
  },
  {
   "cell_type": "markdown",
   "metadata": {},
   "source": [
    "### 新补充数据"
   ]
  },
  {
   "cell_type": "code",
   "execution_count": 25,
   "metadata": {
    "ExecuteTime": {
     "end_time": "2019-01-02T06:28:34.539844Z",
     "start_time": "2019-01-02T06:28:26.359376Z"
    }
   },
   "outputs": [
    {
     "name": "stdout",
     "output_type": "stream",
     "text": [
      "Index(['title', 'title 2', 'content', 'url', 'site_name', '倾向性', 'label'], dtype='object')\n",
      "去空值前：  (4244, 3) 190102交通相关-4244条.xlsx 交通语料\n",
      "去空值后：  (4244, 3) 190102交通相关-4244条.xlsx 交通语料\n",
      "Index(['title', 'url', 'content', '入库时间', 'label'], dtype='object')\n",
      "去空值前：  (1594, 3) 190102（1228导出数据标注）.xlsx 入库数据|最大ID（3800825）\n",
      "去空值后：  (1594, 3) 190102（1228导出数据标注）.xlsx 入库数据|最大ID（3800825）\n",
      "总数： (5838, 3)\n"
     ]
    },
    {
     "data": {
      "text/html": [
       "<div>\n",
       "<style scoped>\n",
       "    .dataframe tbody tr th:only-of-type {\n",
       "        vertical-align: middle;\n",
       "    }\n",
       "\n",
       "    .dataframe tbody tr th {\n",
       "        vertical-align: top;\n",
       "    }\n",
       "\n",
       "    .dataframe thead th {\n",
       "        text-align: right;\n",
       "    }\n",
       "</style>\n",
       "<table border=\"1\" class=\"dataframe\">\n",
       "  <thead>\n",
       "    <tr style=\"text-align: right;\">\n",
       "      <th></th>\n",
       "      <th>label</th>\n",
       "      <th>title</th>\n",
       "      <th>content</th>\n",
       "    </tr>\n",
       "  </thead>\n",
       "  <tbody>\n",
       "    <tr>\n",
       "      <th>0</th>\n",
       "      <td>1</td>\n",
       "      <td>注意在合肥这8条道路乱停放共享单车将受罚-新华网安徽频道</td>\n",
       "      <td>记者日前从合肥市庐阳区城管委获悉，庐阳区在划定北一环路、长江中路两条路为首批共享单车...</td>\n",
       "    </tr>\n",
       "    <tr>\n",
       "      <th>1</th>\n",
       "      <td>1</td>\n",
       "      <td>高速路倒车不仅走错还要挨罚</td>\n",
       "      <td>高速公路上倒车是一个非常危险的举动。近日，高警局湘潭支队民警在沪昆高速东往西1080公里...</td>\n",
       "    </tr>\n",
       "    <tr>\n",
       "      <th>2</th>\n",
       "      <td>1</td>\n",
       "      <td>台铁出轨事故：200余人死伤1名陆配伤势较重</td>\n",
       "      <td>据新华社台北10月22日电 据台湾铁路局消息，截至22日10时，台铁6432次普悠玛列车...</td>\n",
       "    </tr>\n",
       "    <tr>\n",
       "      <th>3</th>\n",
       "      <td>1</td>\n",
       "      <td>注意合肥长江中路划定非机动车停放区域乱停车将被拖移-新华网安徽频道</td>\n",
       "      <td>近日，记者从庐阳区城管委获悉，为了解决停放区域标线不明显、共享单车等非机动车乱停乱放...</td>\n",
       "    </tr>\n",
       "    <tr>\n",
       "      <th>4</th>\n",
       "      <td>1</td>\n",
       "      <td>国庆假期长沙查处1.6万起交通违法无较大交通事故</td>\n",
       "      <td>2018 年国庆期间，长沙交警紧紧围绕 \" 四个不发生和一个明显减少 \" 的安保目标，全...</td>\n",
       "    </tr>\n",
       "  </tbody>\n",
       "</table>\n",
       "</div>"
      ],
      "text/plain": [
       "   label                              title  \\\n",
       "0      1       注意在合肥这8条道路乱停放共享单车将受罚-新华网安徽频道   \n",
       "1      1                      高速路倒车不仅走错还要挨罚   \n",
       "2      1             台铁出轨事故：200余人死伤1名陆配伤势较重   \n",
       "3      1  注意合肥长江中路划定非机动车停放区域乱停车将被拖移-新华网安徽频道   \n",
       "4      1           国庆假期长沙查处1.6万起交通违法无较大交通事故   \n",
       "\n",
       "                                             content  \n",
       "0      记者日前从合肥市庐阳区城管委获悉，庐阳区在划定北一环路、长江中路两条路为首批共享单车...  \n",
       "1  　　高速公路上倒车是一个非常危险的举动。近日，高警局湘潭支队民警在沪昆高速东往西1080公里...  \n",
       "2  　　据新华社台北10月22日电 据台湾铁路局消息，截至22日10时，台铁6432次普悠玛列车...  \n",
       "3      近日，记者从庐阳区城管委获悉，为了解决停放区域标线不明显、共享单车等非机动车乱停乱放...  \n",
       "4  　　2018 年国庆期间，长沙交警紧紧围绕 \" 四个不发生和一个明显减少 \" 的安保目标，全...  "
      ]
     },
     "execution_count": 25,
     "metadata": {},
     "output_type": "execute_result"
    }
   ],
   "source": [
    "file_list_3 = ['190102交通相关-4244条.xlsx','190102（1228导出数据标注）.xlsx'\n",
    "               ] # 多个 sheet\n",
    "\n",
    "circ_raw_class_3 = get_new_data(folder, file_list_3)\n",
    "\n",
    "# circ_raw_class_3['label'] = circ_raw_class_3['label'].apply(lambda x:x.strip())    \n",
    "print('总数：', circ_raw_class_3.shape)\n",
    "circ_raw_class_3.head()"
   ]
  },
  {
   "cell_type": "code",
   "execution_count": 26,
   "metadata": {
    "ExecuteTime": {
     "end_time": "2019-01-02T06:28:34.940867Z",
     "start_time": "2019-01-02T06:28:34.767857Z"
    }
   },
   "outputs": [
    {
     "data": {
      "text/plain": [
       "1    4895\n",
       "0     943\n",
       "Name: label, dtype: int64"
      ]
     },
     "execution_count": 26,
     "metadata": {},
     "output_type": "execute_result"
    }
   ],
   "source": [
    "circ_raw_class_3['label'].value_counts()"
   ]
  },
  {
   "cell_type": "markdown",
   "metadata": {},
   "source": [
    "### 模型预测后反馈数据"
   ]
  },
  {
   "cell_type": "code",
   "execution_count": 17,
   "metadata": {
    "ExecuteTime": {
     "end_time": "2018-11-19T06:05:02.656940Z",
     "start_time": "2018-11-19T06:05:02.520932Z"
    },
    "collapsed": true
   },
   "outputs": [],
   "source": [
    "# file_list_4 = ['20180904_circ_class_feedback.xlsx', '20180905_circ_class_feedback.xlsx',\n",
    "#                '20180912_circ_class_feedback.xlsx','20180920_circ_class_feedback.xlsx',\n",
    "#                '20180925_circ_class_feedback.xlsx', '20181008_circ_class_feedback.xlsx',\n",
    "#                '20181019_circ_class_feedback.xlsx', '20181112_circ_class_feedback.xlsx'\n",
    "#               ] # 多个 sheet\n",
    "\n",
    "# circ_raw_class_4, PR_data, PR_plot_data = get_feedback_data(folder, file_list_4)\n",
    "\n",
    "# circ_raw_class_4['label'] = circ_raw_class_4['label'].apply(lambda x:x.strip())    \n",
    "# print('总数：', circ_raw_class_4.shape)\n",
    "# circ_raw_class_4.head()"
   ]
  },
  {
   "cell_type": "code",
   "execution_count": 18,
   "metadata": {
    "ExecuteTime": {
     "end_time": "2018-11-19T06:05:02.846950Z",
     "start_time": "2018-11-19T06:05:02.726944Z"
    },
    "collapsed": true
   },
   "outputs": [],
   "source": [
    "# circ_raw_class_4['label'].value_counts()"
   ]
  },
  {
   "cell_type": "markdown",
   "metadata": {},
   "source": [
    "#### PR"
   ]
  },
  {
   "cell_type": "code",
   "execution_count": 19,
   "metadata": {
    "ExecuteTime": {
     "end_time": "2018-11-19T06:05:02.973958Z",
     "start_time": "2018-11-19T06:05:02.849951Z"
    },
    "collapsed": true
   },
   "outputs": [],
   "source": [
    "# y_pred_class = PR_data['predict_label'].tolist()\n",
    "# y_test = PR_data['label'].tolist()\n",
    "# print('accuracy_score: ', metrics.accuracy_score(y_test, y_pred_class)) # 指所有分类正确的百分比\n",
    "# print(metrics.classification_report(y_test, y_pred_class))\n",
    "# print('confusion_matrix: ')\n",
    "# print( metrics.confusion_matrix(y_test, y_pred_class))\n",
    "# # PR_data.head()"
   ]
  },
  {
   "cell_type": "code",
   "execution_count": 20,
   "metadata": {
    "ExecuteTime": {
     "end_time": "2018-11-19T06:05:03.106965Z",
     "start_time": "2018-11-19T06:05:02.977958Z"
    },
    "collapsed": true
   },
   "outputs": [],
   "source": [
    "# PR_plot_data\n",
    "# PR_plot_data = PR_plot_data.reset_index('date')"
   ]
  },
  {
   "cell_type": "code",
   "execution_count": 21,
   "metadata": {
    "ExecuteTime": {
     "end_time": "2018-11-19T06:05:03.252974Z",
     "start_time": "2018-11-19T06:05:03.110966Z"
    },
    "collapsed": true
   },
   "outputs": [],
   "source": [
    "# PR_plot_data[PR_plot_data['label'] == 'avg/total'][[ 'date', 'precision', 'recall' ,'f1-score']].plot(x = 'date')\n",
    "# PR_plot_data[PR_plot_data['label'] == 'avg/total']"
   ]
  },
  {
   "cell_type": "code",
   "execution_count": 22,
   "metadata": {
    "ExecuteTime": {
     "end_time": "2018-11-19T06:05:03.384981Z",
     "start_time": "2018-11-19T06:05:03.256974Z"
    },
    "collapsed": true
   },
   "outputs": [],
   "source": [
    "# P_data = PR_plot_data[PR_plot_data['label'] != 'avg/total'][ ['date', 'label', 'precision']]\n",
    "# P_data.set_index(['date','label']).unstack('label').plot(figsize = (15,6))\n",
    "# P_data.set_index(['date','label']).unstack('label')"
   ]
  },
  {
   "cell_type": "code",
   "execution_count": 23,
   "metadata": {
    "ExecuteTime": {
     "end_time": "2018-11-19T06:05:03.514989Z",
     "start_time": "2018-11-19T06:05:03.388981Z"
    },
    "collapsed": true
   },
   "outputs": [],
   "source": [
    "# P_data = PR_plot_data[PR_plot_data['label'] != 'avg/total'][ ['date', 'label', 'recall']]\n",
    "# P_data.set_index(['date','label']).unstack('label').plot(figsize = (15,6))\n",
    "# P_data.set_index(['date','label']).unstack('label')"
   ]
  },
  {
   "cell_type": "code",
   "execution_count": 24,
   "metadata": {
    "ExecuteTime": {
     "end_time": "2018-11-19T06:05:03.645996Z",
     "start_time": "2018-11-19T06:05:03.521989Z"
    },
    "collapsed": true
   },
   "outputs": [],
   "source": [
    "# P_data = PR_plot_data[PR_plot_data['label'] != 'avg/total'][ ['date', 'label', 'f1-score']]\n",
    "# P_data.set_index(['date','label']).unstack('label').plot(figsize = (15,6))\n",
    "# P_data.set_index(['date','label']).unstack('label')"
   ]
  },
  {
   "cell_type": "markdown",
   "metadata": {},
   "source": [
    "### 补录与预警数据"
   ]
  },
  {
   "cell_type": "code",
   "execution_count": 25,
   "metadata": {
    "ExecuteTime": {
     "end_time": "2018-11-19T06:05:03.774003Z",
     "start_time": "2018-11-19T06:05:03.650996Z"
    },
    "collapsed": true
   },
   "outputs": [],
   "source": [
    "# file_list_5 = ['20180917_circ_class_feedback.xlsx'\n",
    "#               ] \n",
    "# add_warn_data = pd.DataFrame()\n",
    "# for file_name in file_list_5:\n",
    "#     currentPath  = '{0}/{1}'.format(folder, file_name)\n",
    "#     excel = xlrd.open_workbook(currentPath)\n",
    "#     sheet_names = [sheet.name for sheet in excel.sheets()]\n",
    "#     for sheet_name in sheet_names:   \n",
    "#         tmp_data = pd.read_excel(currentPath, sheet_name)    \n",
    "#         tmp_data = tmp_data[tmp_data['label'] != '删除']\n",
    "#         add_warn_data = pd.concat([add_warn_data, tmp_data], axis = 0)\n",
    "\n",
    "# circ_raw_class_5 = add_warn_data[['label', 'title', 'content']]"
   ]
  },
  {
   "cell_type": "code",
   "execution_count": 26,
   "metadata": {
    "ExecuteTime": {
     "end_time": "2018-11-19T06:05:03.907011Z",
     "start_time": "2018-11-19T06:05:03.779004Z"
    },
    "collapsed": true
   },
   "outputs": [],
   "source": [
    "# from sklearn import metrics\n",
    "\n",
    "# y_pred_class = add_warn_data['predict_label']\n",
    "# y_test = add_warn_data['label']\n",
    "# print('accuracy_score: ', metrics.accuracy_score(y_test, y_pred_class)) # 指所有分类正确的百分比\n",
    "# print(metrics.classification_report(y_test, y_pred_class))\n",
    "# print('confusion_matrix: ')\n",
    "# print( metrics.confusion_matrix(y_test, y_pred_class))"
   ]
  },
  {
   "cell_type": "code",
   "execution_count": 27,
   "metadata": {
    "ExecuteTime": {
     "end_time": "2018-11-19T06:05:04.034018Z",
     "start_time": "2018-11-19T06:05:03.910011Z"
    },
    "collapsed": true
   },
   "outputs": [],
   "source": [
    "# circ_raw_class_5['label'].value_counts()"
   ]
  },
  {
   "cell_type": "markdown",
   "metadata": {},
   "source": [
    "## 合并数据"
   ]
  },
  {
   "cell_type": "code",
   "execution_count": 28,
   "metadata": {
    "ExecuteTime": {
     "end_time": "2018-11-19T06:05:04.161026Z",
     "start_time": "2018-11-19T06:05:04.037018Z"
    },
    "collapsed": true
   },
   "outputs": [],
   "source": [
    "# file_list_4 = ['20181019_circ_class_feedback.xlsx'] # 多个 sheet\n",
    "# circ_raw_class_4, PR_data, PR_plot_data = get_feedback_data(folder, file_list_4)\n",
    "# circ_raw_class_4['label'] = circ_raw_class_4['label'].apply(lambda x:x.strip())    \n",
    "# print('总数：', circ_raw_class_4.shape)\n",
    "# circ_raw_class_4.head()"
   ]
  },
  {
   "cell_type": "code",
   "execution_count": 27,
   "metadata": {
    "ExecuteTime": {
     "end_time": "2019-01-02T06:28:44.985441Z",
     "start_time": "2019-01-02T06:28:44.785430Z"
    }
   },
   "outputs": [
    {
     "name": "stdout",
     "output_type": "stream",
     "text": [
      "去重前：  (5838, 5)\n",
      "去重后：  (5838, 5)\n",
      "去重后：  (5628, 5)\n"
     ]
    },
    {
     "data": {
      "text/html": [
       "<div>\n",
       "<style scoped>\n",
       "    .dataframe tbody tr th:only-of-type {\n",
       "        vertical-align: middle;\n",
       "    }\n",
       "\n",
       "    .dataframe tbody tr th {\n",
       "        vertical-align: top;\n",
       "    }\n",
       "\n",
       "    .dataframe thead th {\n",
       "        text-align: right;\n",
       "    }\n",
       "</style>\n",
       "<table border=\"1\" class=\"dataframe\">\n",
       "  <thead>\n",
       "    <tr style=\"text-align: right;\">\n",
       "      <th></th>\n",
       "      <th>label</th>\n",
       "      <th>title</th>\n",
       "      <th>content</th>\n",
       "      <th>title_content</th>\n",
       "      <th>index</th>\n",
       "    </tr>\n",
       "  </thead>\n",
       "  <tbody>\n",
       "    <tr>\n",
       "      <th>0</th>\n",
       "      <td>1</td>\n",
       "      <td>注意在合肥这8条道路乱停放共享单车将受罚-新华网安徽频道</td>\n",
       "      <td>记者日前从合肥市庐阳区城管委获悉，庐阳区在划定北一环路、长江中路两条路为首批共享单车...</td>\n",
       "      <td>注意在合肥这8条道路乱停放共享单车将受罚-新华网安徽频道。    记者日前从合肥市庐阳区城管...</td>\n",
       "      <td>0</td>\n",
       "    </tr>\n",
       "    <tr>\n",
       "      <th>1</th>\n",
       "      <td>1</td>\n",
       "      <td>高速路倒车不仅走错还要挨罚</td>\n",
       "      <td>高速公路上倒车是一个非常危险的举动。近日，高警局湘潭支队民警在沪昆高速东往西1080公里...</td>\n",
       "      <td>高速路倒车不仅走错还要挨罚。　　高速公路上倒车是一个非常危险的举动。近日，高警局湘潭支队民警...</td>\n",
       "      <td>1</td>\n",
       "    </tr>\n",
       "    <tr>\n",
       "      <th>2</th>\n",
       "      <td>1</td>\n",
       "      <td>台铁出轨事故：200余人死伤1名陆配伤势较重</td>\n",
       "      <td>据新华社台北10月22日电 据台湾铁路局消息，截至22日10时，台铁6432次普悠玛列车...</td>\n",
       "      <td>台铁出轨事故：200余人死伤1名陆配伤势较重。　　据新华社台北10月22日电 据台湾铁路局消...</td>\n",
       "      <td>2</td>\n",
       "    </tr>\n",
       "    <tr>\n",
       "      <th>3</th>\n",
       "      <td>1</td>\n",
       "      <td>注意合肥长江中路划定非机动车停放区域乱停车将被拖移-新华网安徽频道</td>\n",
       "      <td>近日，记者从庐阳区城管委获悉，为了解决停放区域标线不明显、共享单车等非机动车乱停乱放...</td>\n",
       "      <td>注意合肥长江中路划定非机动车停放区域乱停车将被拖移-新华网安徽频道。    近日，记者从庐阳...</td>\n",
       "      <td>3</td>\n",
       "    </tr>\n",
       "    <tr>\n",
       "      <th>4</th>\n",
       "      <td>1</td>\n",
       "      <td>国庆假期长沙查处1.6万起交通违法无较大交通事故</td>\n",
       "      <td>2018 年国庆期间，长沙交警紧紧围绕 \" 四个不发生和一个明显减少 \" 的安保目标，全...</td>\n",
       "      <td>国庆假期长沙查处1.6万起交通违法无较大交通事故。　　2018 年国庆期间，长沙交警紧紧围绕...</td>\n",
       "      <td>4</td>\n",
       "    </tr>\n",
       "  </tbody>\n",
       "</table>\n",
       "</div>"
      ],
      "text/plain": [
       "   label                              title  \\\n",
       "0      1       注意在合肥这8条道路乱停放共享单车将受罚-新华网安徽频道   \n",
       "1      1                      高速路倒车不仅走错还要挨罚   \n",
       "2      1             台铁出轨事故：200余人死伤1名陆配伤势较重   \n",
       "3      1  注意合肥长江中路划定非机动车停放区域乱停车将被拖移-新华网安徽频道   \n",
       "4      1           国庆假期长沙查处1.6万起交通违法无较大交通事故   \n",
       "\n",
       "                                             content  \\\n",
       "0      记者日前从合肥市庐阳区城管委获悉，庐阳区在划定北一环路、长江中路两条路为首批共享单车...   \n",
       "1  　　高速公路上倒车是一个非常危险的举动。近日，高警局湘潭支队民警在沪昆高速东往西1080公里...   \n",
       "2  　　据新华社台北10月22日电 据台湾铁路局消息，截至22日10时，台铁6432次普悠玛列车...   \n",
       "3      近日，记者从庐阳区城管委获悉，为了解决停放区域标线不明显、共享单车等非机动车乱停乱放...   \n",
       "4  　　2018 年国庆期间，长沙交警紧紧围绕 \" 四个不发生和一个明显减少 \" 的安保目标，全...   \n",
       "\n",
       "                                       title_content  index  \n",
       "0  注意在合肥这8条道路乱停放共享单车将受罚-新华网安徽频道。    记者日前从合肥市庐阳区城管...      0  \n",
       "1  高速路倒车不仅走错还要挨罚。　　高速公路上倒车是一个非常危险的举动。近日，高警局湘潭支队民警...      1  \n",
       "2  台铁出轨事故：200余人死伤1名陆配伤势较重。　　据新华社台北10月22日电 据台湾铁路局消...      2  \n",
       "3  注意合肥长江中路划定非机动车停放区域乱停车将被拖移-新华网安徽频道。    近日，记者从庐阳...      3  \n",
       "4  国庆假期长沙查处1.6万起交通违法无较大交通事故。　　2018 年国庆期间，长沙交警紧紧围绕...      4  "
      ]
     },
     "execution_count": 27,
     "metadata": {},
     "output_type": "execute_result"
    }
   ],
   "source": [
    "# circ_raw_class = pd.concat([circ_raw_class_1, circ_raw_class_2,\n",
    "#                           circ_raw_class_3, circ_raw_class_4,\n",
    "#                            circ_raw_class_5], \n",
    "#                          axis = 0)\n",
    "\n",
    "circ_raw_class = circ_raw_class_3\n",
    "circ_raw_class['title_content'] = circ_raw_class['title'].astype(str) + '。' + circ_raw_class['content'].astype(str)\n",
    "# circ_raw_class['label'] = circ_raw_class['label'].apply(lambda x:x.strip())\n",
    "circ_raw_class['index'] = range(circ_raw_class.shape[0])\n",
    "print('去重前： ', circ_raw_class.shape)\n",
    "circ_raw_class = circ_raw_class.drop_duplicates(subset = 'title')\n",
    "print('去重后： ', circ_raw_class.shape)\n",
    "circ_raw_class = circ_raw_class.drop_duplicates(subset = 'content')\n",
    "print('去重后： ', circ_raw_class.shape)\n",
    "circ_raw_class.head()"
   ]
  },
  {
   "cell_type": "code",
   "execution_count": 28,
   "metadata": {
    "ExecuteTime": {
     "end_time": "2019-01-02T06:28:46.093505Z",
     "start_time": "2019-01-02T06:28:45.925495Z"
    }
   },
   "outputs": [
    {
     "name": "stdout",
     "output_type": "stream",
     "text": [
      "(5628, 5)\n"
     ]
    },
    {
     "data": {
      "text/plain": [
       "label\n",
       "0     925\n",
       "1    4703\n",
       "Name: title, dtype: int64"
      ]
     },
     "execution_count": 28,
     "metadata": {},
     "output_type": "execute_result"
    }
   ],
   "source": [
    "print(circ_raw_class.shape)\n",
    "circ_raw_class.groupby('label')['title'].count()"
   ]
  },
  {
   "cell_type": "markdown",
   "metadata": {},
   "source": [
    "## 预处理"
   ]
  },
  {
   "cell_type": "code",
   "execution_count": 29,
   "metadata": {
    "ExecuteTime": {
     "end_time": "2019-01-02T06:29:31.010074Z",
     "start_time": "2019-01-02T06:28:51.492814Z"
    }
   },
   "outputs": [
    {
     "name": "stdout",
     "output_type": "stream",
     "text": [
      "(5628, 5)\n",
      "save_folder:  cor_result/\n",
      "title num:  5628\n",
      "content num:  5628\n",
      "记者 日前 合肥市 庐阳区 城 管委 获悉 庐阳区 划定 北 环路 长江中路 两条路 首批 共享 单车 严管 路段 含 山路 环城路 条 道路 共享 单车 禁停 路段 禁停 路段 发现 乱 停放 共享 单车 庐阳区 城 管委 督促 单车 企业 分钟 清运 拖移 处置 后期 用户 违停 收到 单车 平台 提醒 收取 调度 费 扣取 信用 分 影响 后续 用车 条 路段 为北 环路 长江中路 含 山路 环城路 宿州 路 可苑 路 茨 河路 义井路 一步 庐阳区 城 管委 督促 单车 企业 利用 电子 围栏 定位 技术 平台 显示 禁停 路段 庐阳区 城 管委 负 用户 执意 挪车 各家 单车 企业 收取 调度 费 扣取 信用 分 影响 后续 用车 希望 正面 清单 负面 清单 相结合 停放 管理模式 培养 市民 停车 习惯 维护 出行 环境 \n",
      "label num:  5628\n"
     ]
    }
   ],
   "source": [
    "save_folder = 'cor_result/'\n",
    "pre_save(pre_cor_circ.handle_contents, circ_raw_class, save_folder)"
   ]
  },
  {
   "cell_type": "code",
   "execution_count": null,
   "metadata": {
    "collapsed": true
   },
   "outputs": [],
   "source": []
  }
 ],
 "metadata": {
  "kernelspec": {
   "display_name": "Python 3",
   "language": "python",
   "name": "python3"
  },
  "language_info": {
   "codemirror_mode": {
    "name": "ipython",
    "version": 3
   },
   "file_extension": ".py",
   "mimetype": "text/x-python",
   "name": "python",
   "nbconvert_exporter": "python",
   "pygments_lexer": "ipython3",
   "version": "3.6.3"
  },
  "toc": {
   "nav_menu": {},
   "number_sections": true,
   "sideBar": true,
   "skip_h1_title": false,
   "title_cell": "Table of Contents",
   "title_sidebar": "Contents",
   "toc_cell": false,
   "toc_position": {
    "height": "calc(100% - 180px)",
    "left": "10px",
    "top": "150px",
    "width": "376px"
   },
   "toc_section_display": true,
   "toc_window_display": true
  },
  "varInspector": {
   "cols": {
    "lenName": 16,
    "lenType": 16,
    "lenVar": 40
   },
   "kernels_config": {
    "python": {
     "delete_cmd_postfix": "",
     "delete_cmd_prefix": "del ",
     "library": "var_list.py",
     "varRefreshCmd": "print(var_dic_list())"
    },
    "r": {
     "delete_cmd_postfix": ") ",
     "delete_cmd_prefix": "rm(",
     "library": "var_list.r",
     "varRefreshCmd": "cat(var_dic_list()) "
    }
   },
   "types_to_exclude": [
    "module",
    "function",
    "builtin_function_or_method",
    "instance",
    "_Feature"
   ],
   "window_display": false
  }
 },
 "nbformat": 4,
 "nbformat_minor": 2
}
