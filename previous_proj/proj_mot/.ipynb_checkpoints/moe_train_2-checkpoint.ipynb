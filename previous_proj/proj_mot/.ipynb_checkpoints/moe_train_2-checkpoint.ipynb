{
 "cells": [
  {
   "cell_type": "markdown",
   "metadata": {
    "ExecuteTime": {
     "end_time": "2018-09-10T06:12:36.169323Z",
     "start_time": "2018-09-10T06:12:36.152322Z"
    }
   },
   "source": [
    "# 本文件说明\n",
    "- 训练模型,查看模型结果：包括K-fold、概率结果"
   ]
  },
  {
   "cell_type": "markdown",
   "metadata": {},
   "source": [
    "# 基本设置"
   ]
  },
  {
   "cell_type": "code",
   "execution_count": 1,
   "metadata": {
    "ExecuteTime": {
     "end_time": "2018-11-20T02:55:10.062494Z",
     "start_time": "2018-11-20T02:55:07.462346Z"
    },
    "collapsed": true
   },
   "outputs": [],
   "source": [
    "import jieba\n",
    "from jieba import analyse\n",
    "import sys\n",
    "import re\n",
    "import time\n",
    "import string\n",
    "from sklearn import feature_extraction\n",
    "from sklearn.pipeline import Pipeline,FeatureUnion\n",
    "from sklearn.model_selection import GridSearchCV\n",
    "from sklearn.feature_extraction.text import TfidfTransformer\n",
    "from sklearn.feature_extraction.text import CountVectorizer\n",
    "\n",
    "from sklearn.feature_extraction.text import TfidfVectorizer\n",
    "from sklearn.feature_selection import SelectKBest, chi2,mutual_info_classif,f_classif \n",
    "from sklearn.preprocessing import StandardScaler\n",
    "\n",
    "import xgboost as xgb\n",
    "from xgboost import XGBClassifier\n",
    "from sklearn import metrics\n",
    "\n",
    "from sklearn.base import BaseEstimator, TransformerMixin\n",
    "\n",
    "%matplotlib inline\n",
    "import numpy as np\n",
    "import pandas as pd\n",
    "import os\n",
    "from sklearn.model_selection import train_test_split\n",
    "from collections import Counter\n",
    "\n",
    "import warnings\n",
    "warnings.filterwarnings('ignore')"
   ]
  },
  {
   "cell_type": "code",
   "execution_count": 2,
   "metadata": {
    "ExecuteTime": {
     "end_time": "2018-11-20T02:55:11.021549Z",
     "start_time": "2018-11-20T02:55:10.064494Z"
    },
    "collapsed": true
   },
   "outputs": [],
   "source": [
    "from toolkits.nlp.generate_keywords import generate_keywords\n",
    "import myclass_circ\n",
    "from toolkits.nlp import load_save_plot_file"
   ]
  },
  {
   "cell_type": "code",
   "execution_count": 3,
   "metadata": {
    "ExecuteTime": {
     "end_time": "2018-11-20T02:55:11.255563Z",
     "start_time": "2018-11-20T02:55:11.024549Z"
    }
   },
   "outputs": [],
   "source": [
    "%load_ext autoreload\n",
    "%autoreload 2"
   ]
  },
  {
   "cell_type": "markdown",
   "metadata": {},
   "source": [
    "## 一些函数"
   ]
  },
  {
   "cell_type": "code",
   "execution_count": 4,
   "metadata": {
    "ExecuteTime": {
     "end_time": "2018-11-20T02:55:11.614583Z",
     "start_time": "2018-11-20T02:55:11.258563Z"
    },
    "collapsed": true
   },
   "outputs": [],
   "source": [
    "def cal_kfold(title_content, label, pipeline, raw_folder, filename, class_name_dict):\n",
    "    from sklearn.model_selection import KFold\n",
    "    import numpy as np\n",
    "\n",
    "    data_raw = pd.read_excel('%s/corpus/title_content_label.xlsx'%raw_folder)\n",
    "    raw_title = np.array(data_raw['title'])\n",
    "    raw_content = np.array(data_raw['content'])\n",
    "    print('data_raw: ', data_raw.shape)\n",
    "\n",
    "    kf = KFold(n_splits=5, shuffle=True, random_state=0)\n",
    "    title_content = np.array(title_content)\n",
    "    label = np.array(label)\n",
    "    \n",
    "    kfold_res = {'raw_title':[], 'raw_content':[], 'label':[], \n",
    "             'predict_label':[], 'title_content':[], 'predict_proba':[]}\n",
    "\n",
    "    num = 0\n",
    "    for train_index , test_index in kf.split(title_content):\n",
    "        print('---- %s'%(num+1))\n",
    "        X_train,X_test = title_content[train_index], title_content[test_index]\n",
    "        y_train,y_test = label[train_index], label[test_index]\n",
    "        \n",
    "        pipeline.fit(X_train, y_train)\n",
    "        print(pipeline.score(X_train, y_train))    \n",
    "\n",
    "        y_pred_class = pipeline.predict(X_test)\n",
    "        print('accuracy_score: ', metrics.accuracy_score(y_test, y_pred_class)) # 指所有分类正确的百分比\n",
    "        print(metrics.classification_report(y_test, y_pred_class))\n",
    "        print('confusion_matrix: ')\n",
    "        print( metrics.confusion_matrix(y_test, y_pred_class))   \n",
    "        \n",
    "        y_pred_prob = pipeline.predict_proba(X_test)\n",
    "\n",
    "        kfold_res['raw_title'] += list(raw_title[test_index])\n",
    "        kfold_res['raw_content'] += list(raw_content[test_index])\n",
    "        kfold_res['title_content'] += list(X_test)\n",
    "        kfold_res['label'] += [class_name_dict[i] for i in y_test]\n",
    "        kfold_res['predict_label'] += [class_name_dict[i] for i in y_pred_class]\n",
    "        kfold_res['predict_proba'] += list(y_pred_prob.max(axis = 1))\n",
    "    \n",
    "        num += 1\n",
    "        \n",
    "    kfold_result = pd.DataFrame.from_dict(kfold_res, orient = 'index').T\n",
    "    kfold_result['R_W'] = kfold_result.apply(lambda x: 'Right' if x['label'] == x['predict_label'] else 'Wrong', axis = 1)\n",
    "    print('kfold_result: ', kfold_result.shape)\n",
    "    \n",
    "    with pd.ExcelWriter('%s/corpus/%s'%(raw_folder, filename)) as writer:\n",
    "        for label in kfold_result['label'].unique():\n",
    "            tmp_data = kfold_result[kfold_result['label'] == label]\n",
    "            tmp_data.to_excel(writer, label, index = False)\n",
    "        writer.save()"
   ]
  },
  {
   "cell_type": "code",
   "execution_count": 5,
   "metadata": {
    "ExecuteTime": {
     "end_time": "2018-11-20T02:55:11.878598Z",
     "start_time": "2018-11-20T02:55:11.618583Z"
    },
    "collapsed": true
   },
   "outputs": [],
   "source": [
    "def plot_class_proba(y_pred_class, y_pred_prob):\n",
    "    import seaborn as sns\n",
    "    import matplotlib.pyplot as plt\n",
    "\n",
    "    sel_data = pd.DataFrame()\n",
    "    sel_data['predict_label'] = y_pred_class\n",
    "    sel_data['predict_proba'] = y_pred_prob\n",
    "    sel_data['label'] = y_test\n",
    "\n",
    "    label_dic={'监管':1,'行业':2,'产品销售':3,'资本市场':4,'公司内部管理':5,'消费服务':6,'其他相关报道':7,'噪音':8}\n",
    "    # sel_data['predict_label'] = sel_data['predict_label'].apply(lambda x:label_dic[x])\n",
    "    g = sns.FacetGrid(sel_data, col=\"predict_label\", col_wrap=4, sharex=False)\n",
    "    g.map(plt.hist, \"predict_proba\", bins = 10)\n",
    "\n",
    "    sel_data['proba'] = sel_data['predict_proba'].apply(lambda x:round(x, 1))\n",
    "    sel_data_stat = sel_data.groupby(['predict_label', 'proba'])['predict_proba'].count().unstack().fillna(0)\n",
    "    sel_data_stat['sum'] = sel_data_stat.sum(axis = 1)\n",
    "    sel_data_stat.loc['sum'] = sel_data_stat.sum(axis = 0)\n",
    "    return sel_data_stat"
   ]
  },
  {
   "cell_type": "markdown",
   "metadata": {
    "collapsed": true
   },
   "source": [
    "# 西藏教育厅：1 八分类"
   ]
  },
  {
   "cell_type": "markdown",
   "metadata": {},
   "source": [
    "## 导入与分割数据"
   ]
  },
  {
   "cell_type": "code",
   "execution_count": 6,
   "metadata": {
    "ExecuteTime": {
     "end_time": "2018-11-20T02:55:14.394742Z",
     "start_time": "2018-11-20T02:55:14.170729Z"
    }
   },
   "outputs": [
    {
     "name": "stdout",
     "output_type": "stream",
     "text": [
      "title num:  933\n",
      "['萨基会 回到 拉萨 足球 时间 圆梦 世界屋脊', '梁思成 刘长春 东大 日子']\n",
      "content num:  933\n",
      "title_content num:  933\n",
      "label num:  933\n",
      "['1', '1', '1', '0', '0']\n"
     ]
    },
    {
     "data": {
      "text/plain": [
       "[1, 1, 1, 0, 0]"
      ]
     },
     "execution_count": 6,
     "metadata": {},
     "output_type": "execute_result"
    }
   ],
   "source": [
    "cbrc_filepath_class = 'cor_result/corpus/'\n",
    "title_content, label, title, content = load_save_plot_file.title_content_label(cbrc_filepath_class)\n",
    "label = [int(l) for l in label]\n",
    "label[:5]"
   ]
  },
  {
   "cell_type": "code",
   "execution_count": 7,
   "metadata": {
    "ExecuteTime": {
     "end_time": "2018-11-20T02:55:15.410800Z",
     "start_time": "2018-11-20T02:55:15.105783Z"
    }
   },
   "outputs": [
    {
     "data": {
      "text/plain": [
       "{0: '不相关', 1: '相关'}"
      ]
     },
     "execution_count": 7,
     "metadata": {},
     "output_type": "execute_result"
    }
   ],
   "source": [
    "label_dic={'不相关':0,'相关':1}\n",
    "class_name_dict = {v: k for k, v in label_dic.items()}\n",
    "class_name_dict"
   ]
  },
  {
   "cell_type": "code",
   "execution_count": 8,
   "metadata": {
    "ExecuteTime": {
     "end_time": "2018-11-20T02:55:16.841882Z",
     "start_time": "2018-11-20T02:55:16.590868Z"
    }
   },
   "outputs": [
    {
     "name": "stdout",
     "output_type": "stream",
     "text": [
      "训练集： 653\n",
      "训练集-各类数量： Counter({0: 419, 1: 234})\n",
      "测试集： 280\n",
      "测试集-各类数量： Counter({0: 186, 1: 94})\n"
     ]
    }
   ],
   "source": [
    "X_train, X_test, y_train, y_test = train_test_split(title_content, label, test_size=0.3, random_state=42)\n",
    "print('训练集：',len(y_train))\n",
    "print('训练集-各类数量：',Counter(y_train))\n",
    "print('测试集：',len(y_test))\n",
    "print('测试集-各类数量：',Counter(y_test))"
   ]
  },
  {
   "cell_type": "markdown",
   "metadata": {},
   "source": [
    "## 生成词典"
   ]
  },
  {
   "cell_type": "code",
   "execution_count": 26,
   "metadata": {
    "ExecuteTime": {
     "end_time": "2018-11-19T08:16:24.767770Z",
     "start_time": "2018-11-19T08:16:24.577760Z"
    },
    "collapsed": true
   },
   "outputs": [],
   "source": [
    "# g_k = generate_keywords(500)\n",
    "# g_k.gen_keywords_by_class(title_content, label, v_thre = 3)"
   ]
  },
  {
   "cell_type": "code",
   "execution_count": 27,
   "metadata": {
    "ExecuteTime": {
     "end_time": "2018-11-19T08:16:25.156793Z",
     "start_time": "2018-11-19T08:16:24.975782Z"
    },
    "collapsed": true
   },
   "outputs": [],
   "source": [
    "# g_k.save_txt('keywords_i.txt')"
   ]
  },
  {
   "cell_type": "markdown",
   "metadata": {},
   "source": [
    "## features"
   ]
  },
  {
   "cell_type": "code",
   "execution_count": 38,
   "metadata": {
    "ExecuteTime": {
     "end_time": "2018-11-19T09:04:08.989595Z",
     "start_time": "2018-11-19T09:04:08.790583Z"
    },
    "collapsed": true
   },
   "outputs": [],
   "source": [
    "# org = 'moe'\n",
    "# model = 'class'\n",
    "# date = '20181119'"
   ]
  },
  {
   "cell_type": "code",
   "execution_count": 39,
   "metadata": {
    "ExecuteTime": {
     "end_time": "2018-11-19T09:04:12.889818Z",
     "start_time": "2018-11-19T09:04:12.018768Z"
    }
   },
   "outputs": [
    {
     "name": "stdout",
     "output_type": "stream",
     "text": [
      "(1049, 2009)\n"
     ]
    },
    {
     "data": {
      "text/plain": [
       "['model/moe_class_labels_20181119.pkl.z']"
      ]
     },
     "execution_count": 39,
     "metadata": {},
     "output_type": "execute_result"
    }
   ],
   "source": [
    "# pipeline = Pipeline([\n",
    "#     ('features', FeatureUnion([\n",
    "#         ('tf_idf', Pipeline([\n",
    "#             ('counts', CountVectorizer(max_df=0.95, min_df=2)),\n",
    "#             ('tf_idf', TfidfTransformer()),\n",
    "#             ('chi', SelectKBest(chi2, k=2000))\n",
    "#         ])),\n",
    "#         ('len_stats', myclass_circ.StatsFeatures_cor()),\n",
    "#        # ('tf', myclass_circ.Statskeywords_cor(topk = 5000))\n",
    "#     ])),\n",
    "#     ('standard', StandardScaler(with_mean=False))\n",
    "# ])\n",
    "\n",
    "# pipeline_train = pipeline.fit(title_content, label)\n",
    "# X_features = pipeline_train.transform(title_content)\n",
    "# print(X_features.shape)\n",
    "\n",
    "# from sklearn.externals import joblib\n",
    "# joblib.dump(pipeline_train, \"model/%s_%s_pipeline_%s.pkl.z\"%(org, model, date))\n",
    "# joblib.dump(X_features, \"model/%s_%s_features_%s.pkl.z\"%(org, model, date))\n",
    "# joblib.dump(label, \"model/%s_%s_labels_%s.pkl.z\"%(org, model, date))"
   ]
  },
  {
   "cell_type": "code",
   "execution_count": null,
   "metadata": {
    "collapsed": true
   },
   "outputs": [],
   "source": [
    "# from sklearn.externals import joblib\n",
    "# pipeline_train = joblib.load( \"model/circ_class_pipeline_20181108.pkl.z\")\n",
    "# X_features = joblib.load( \"model/circ_class_features_20181108.pkl.z\")\n",
    "# label = joblib.load( \"model/circ_class_labels_20181108.pkl.z\")\n",
    "# print(X_features.shape)\n",
    "# print(len(label))"
   ]
  },
  {
   "cell_type": "markdown",
   "metadata": {},
   "source": [
    "### tf"
   ]
  },
  {
   "cell_type": "code",
   "execution_count": 10,
   "metadata": {
    "ExecuteTime": {
     "end_time": "2018-11-20T02:55:36.160987Z",
     "start_time": "2018-11-20T02:55:35.736963Z"
    }
   },
   "outputs": [
    {
     "name": "stdout",
     "output_type": "stream",
     "text": [
      "(14658, 2)\n",
      "(2000, 2)\n"
     ]
    },
    {
     "data": {
      "text/html": [
       "<div>\n",
       "<style scoped>\n",
       "    .dataframe tbody tr th:only-of-type {\n",
       "        vertical-align: middle;\n",
       "    }\n",
       "\n",
       "    .dataframe tbody tr th {\n",
       "        vertical-align: top;\n",
       "    }\n",
       "\n",
       "    .dataframe thead th {\n",
       "        text-align: right;\n",
       "    }\n",
       "</style>\n",
       "<table border=\"1\" class=\"dataframe\">\n",
       "  <thead>\n",
       "    <tr style=\"text-align: right;\">\n",
       "      <th></th>\n",
       "      <th>word</th>\n",
       "      <th>count</th>\n",
       "    </tr>\n",
       "  </thead>\n",
       "  <tbody>\n",
       "    <tr>\n",
       "      <th>16</th>\n",
       "      <td>西藏</td>\n",
       "      <td>615</td>\n",
       "    </tr>\n",
       "    <tr>\n",
       "      <th>213</th>\n",
       "      <td>中国</td>\n",
       "      <td>558</td>\n",
       "    </tr>\n",
       "    <tr>\n",
       "      <th>78</th>\n",
       "      <td>工作</td>\n",
       "      <td>403</td>\n",
       "    </tr>\n",
       "    <tr>\n",
       "      <th>258</th>\n",
       "      <td>大学</td>\n",
       "      <td>388</td>\n",
       "    </tr>\n",
       "    <tr>\n",
       "      <th>56</th>\n",
       "      <td>教育</td>\n",
       "      <td>387</td>\n",
       "    </tr>\n",
       "  </tbody>\n",
       "</table>\n",
       "</div>"
      ],
      "text/plain": [
       "    word  count\n",
       "16    西藏    615\n",
       "213   中国    558\n",
       "78    工作    403\n",
       "258   大学    388\n",
       "56    教育    387"
      ]
     },
     "execution_count": 10,
     "metadata": {},
     "output_type": "execute_result"
    }
   ],
   "source": [
    "from collections import Counter\n",
    "word_count = Counter(\" \".join(title_content).split())\n",
    "# word_count_sel = word_count.most_common(2000)\n",
    "# word_count_sel\n",
    "# word_count\n",
    "\n",
    "word_count = pd.DataFrame.from_dict(word_count, orient='index' ).reset_index()\n",
    "word_count.columns = ['word', 'count']\n",
    "word_count = word_count.sort_values(by = 'count', ascending = False)\n",
    "print(word_count.shape)\n",
    "word_count_sel = word_count.iloc[:2000, :]\n",
    "print(word_count_sel.shape)\n",
    "word_count_sel.to_excel(r'cor_result\\result\\word_count_20181120.xlsx', index = False)\n",
    "word_count.head()"
   ]
  },
  {
   "cell_type": "markdown",
   "metadata": {},
   "source": [
    "## train & test"
   ]
  },
  {
   "cell_type": "code",
   "execution_count": 28,
   "metadata": {
    "ExecuteTime": {
     "end_time": "2018-11-19T08:16:25.495812Z",
     "start_time": "2018-11-19T08:16:25.332803Z"
    },
    "collapsed": true
   },
   "outputs": [],
   "source": [
    "# a = myclass_circ.Statskeywords_cor(5000)\n",
    "# len(a.keywords)"
   ]
  },
  {
   "cell_type": "code",
   "execution_count": 11,
   "metadata": {
    "ExecuteTime": {
     "end_time": "2018-11-20T02:55:44.272451Z",
     "start_time": "2018-11-20T02:55:42.292338Z"
    }
   },
   "outputs": [
    {
     "name": "stdout",
     "output_type": "stream",
     "text": [
      "0.996937212863706\n"
     ]
    },
    {
     "data": {
      "text/plain": [
       "Pipeline(memory=None,\n",
       "     steps=[('features', FeatureUnion(n_jobs=1,\n",
       "       transformer_list=[('tf_idf', Pipeline(memory=None,\n",
       "     steps=[('counts', CountVectorizer(analyzer='word', binary=False, decode_error='strict',\n",
       "        dtype=<class 'numpy.int64'>, encoding='utf-8', input='content',\n",
       "        lowercase=True, max_df=0.9...tate=0, reg_alpha=0, reg_lambda=1, scale_pos_weight=1,\n",
       "       seed=None, silent=True, subsample=1))])"
      ]
     },
     "execution_count": 11,
     "metadata": {},
     "output_type": "execute_result"
    }
   ],
   "source": [
    "pipeline = Pipeline([\n",
    "    ('features', FeatureUnion([\n",
    "        ('tf_idf', Pipeline([\n",
    "            ('counts', CountVectorizer(max_df=0.95, min_df=2)),\n",
    "            ('tf_idf', TfidfTransformer()),\n",
    "            ('chi', SelectKBest(chi2, k=2000))\n",
    "        ])),\n",
    "        ('len_stats', myclass_circ.StatsFeatures_cor()),\n",
    "       # ('tf', myclass_circ.Statskeywords_cor(topk = 5000))\n",
    "    ])),\n",
    "    ('standard', StandardScaler(with_mean=False)),\n",
    "    ('classifier', XGBClassifier(max_depth=7,objective='multi:softmax', num_class=2))\n",
    "])\n",
    "\n",
    "pipeline.fit(X_train, y_train)\n",
    "print(pipeline.score(X_train, y_train))\n",
    "pipeline"
   ]
  },
  {
   "cell_type": "code",
   "execution_count": 12,
   "metadata": {
    "ExecuteTime": {
     "end_time": "2018-11-20T02:55:45.839541Z",
     "start_time": "2018-11-20T02:55:45.559525Z"
    }
   },
   "outputs": [
    {
     "name": "stdout",
     "output_type": "stream",
     "text": [
      "accuracy_score:  0.9071428571428571\n",
      "             precision    recall  f1-score   support\n",
      "\n",
      "          0       0.93      0.93      0.93       186\n",
      "          1       0.86      0.86      0.86        94\n",
      "\n",
      "avg / total       0.91      0.91      0.91       280\n",
      "\n",
      "confusion_matrix: \n",
      "[[173  13]\n",
      " [ 13  81]]\n"
     ]
    }
   ],
   "source": [
    "y_pred_class = pipeline.predict(X_test)\n",
    "print('accuracy_score: ', metrics.accuracy_score(y_test, y_pred_class)) # 指所有分类正确的百分比\n",
    "print(metrics.classification_report(y_test, y_pred_class))\n",
    "print('confusion_matrix: ')\n",
    "print( metrics.confusion_matrix(y_test, y_pred_class))"
   ]
  },
  {
   "cell_type": "markdown",
   "metadata": {},
   "source": [
    "## 概率结果"
   ]
  },
  {
   "cell_type": "code",
   "execution_count": 23,
   "metadata": {
    "ExecuteTime": {
     "end_time": "2018-11-18T08:28:15.774263Z",
     "start_time": "2018-11-18T08:28:15.259234Z"
    }
   },
   "outputs": [
    {
     "data": {
      "text/plain": [
       "<matplotlib.axes._subplots.AxesSubplot at 0x13fac978>"
      ]
     },
     "execution_count": 23,
     "metadata": {},
     "output_type": "execute_result"
    },
    {
     "data": {
      "image/png": "[encoded data removed]",
      "text/plain": [
       "<matplotlib.figure.Figure at 0x13fd46d8>"
      ]
     },
     "metadata": {},
     "output_type": "display_data"
    }
   ],
   "source": [
    "y_pred_prob = pipeline.predict_proba(X_test)\n",
    "pd.DataFrame(y_pred_prob.max(axis = 1)).plot.hist(bins = 100)"
   ]
  },
  {
   "cell_type": "code",
   "execution_count": 24,
   "metadata": {
    "ExecuteTime": {
     "end_time": "2018-11-18T08:28:16.753319Z",
     "start_time": "2018-11-18T08:28:16.489304Z"
    }
   },
   "outputs": [
    {
     "data": {
      "text/html": [
       "<div>\n",
       "<style scoped>\n",
       "    .dataframe tbody tr th:only-of-type {\n",
       "        vertical-align: middle;\n",
       "    }\n",
       "\n",
       "    .dataframe tbody tr th {\n",
       "        vertical-align: top;\n",
       "    }\n",
       "\n",
       "    .dataframe thead th {\n",
       "        text-align: right;\n",
       "    }\n",
       "</style>\n",
       "<table border=\"1\" class=\"dataframe\">\n",
       "  <thead>\n",
       "    <tr style=\"text-align: right;\">\n",
       "      <th>proba</th>\n",
       "      <th>1.0</th>\n",
       "      <th>sum</th>\n",
       "    </tr>\n",
       "    <tr>\n",
       "      <th>predict_label</th>\n",
       "      <th></th>\n",
       "      <th></th>\n",
       "    </tr>\n",
       "  </thead>\n",
       "  <tbody>\n",
       "    <tr>\n",
       "      <th>0</th>\n",
       "      <td>203</td>\n",
       "      <td>203</td>\n",
       "    </tr>\n",
       "    <tr>\n",
       "      <th>1</th>\n",
       "      <td>79</td>\n",
       "      <td>79</td>\n",
       "    </tr>\n",
       "    <tr>\n",
       "      <th>sum</th>\n",
       "      <td>282</td>\n",
       "      <td>282</td>\n",
       "    </tr>\n",
       "  </tbody>\n",
       "</table>\n",
       "</div>"
      ],
      "text/plain": [
       "proba          1.0  sum\n",
       "predict_label          \n",
       "0              203  203\n",
       "1               79   79\n",
       "sum            282  282"
      ]
     },
     "execution_count": 24,
     "metadata": {},
     "output_type": "execute_result"
    },
    {
     "data": {
      "image/png": "[encoded data removed]",
      "text/plain": [
       "<matplotlib.figure.Figure at 0x11f705c0>"
      ]
     },
     "metadata": {},
     "output_type": "display_data"
    }
   ],
   "source": [
    "sel_data_stat = plot_class_proba(y_pred_class, y_pred_prob.max(axis = 1))\n",
    "sel_data_stat"
   ]
  },
  {
   "cell_type": "markdown",
   "metadata": {},
   "source": [
    "## K-fold"
   ]
  },
  {
   "cell_type": "code",
   "execution_count": 13,
   "metadata": {
    "ExecuteTime": {
     "end_time": "2018-11-20T02:56:21.438577Z",
     "start_time": "2018-11-20T02:56:11.786025Z"
    }
   },
   "outputs": [
    {
     "name": "stdout",
     "output_type": "stream",
     "text": [
      "data_raw:  (933, 5)\n",
      "---- 1\n",
      "0.9946380697050938\n",
      "accuracy_score:  0.8716577540106952\n",
      "             precision    recall  f1-score   support\n",
      "\n",
      "          0       0.87      0.93      0.90       117\n",
      "          1       0.87      0.77      0.82        70\n",
      "\n",
      "avg / total       0.87      0.87      0.87       187\n",
      "\n",
      "confusion_matrix: \n",
      "[[109   8]\n",
      " [ 16  54]]\n",
      "---- 2\n",
      "0.9946380697050938\n",
      "accuracy_score:  0.9037433155080213\n",
      "             precision    recall  f1-score   support\n",
      "\n",
      "          0       0.91      0.94      0.93       123\n",
      "          1       0.88      0.83      0.85        64\n",
      "\n",
      "avg / total       0.90      0.90      0.90       187\n",
      "\n",
      "confusion_matrix: \n",
      "[[116   7]\n",
      " [ 11  53]]\n",
      "---- 3\n",
      "0.9959785522788204\n",
      "accuracy_score:  0.8877005347593583\n",
      "             precision    recall  f1-score   support\n",
      "\n",
      "          0       0.88      0.97      0.92       125\n",
      "          1       0.92      0.73      0.81        62\n",
      "\n",
      "avg / total       0.89      0.89      0.88       187\n",
      "\n",
      "confusion_matrix: \n",
      "[[121   4]\n",
      " [ 17  45]]\n",
      "---- 4\n",
      "0.9973226238286479\n",
      "accuracy_score:  0.8602150537634409\n",
      "             precision    recall  f1-score   support\n",
      "\n",
      "          0       0.85      0.93      0.89       114\n",
      "          1       0.87      0.75      0.81        72\n",
      "\n",
      "avg / total       0.86      0.86      0.86       186\n",
      "\n",
      "confusion_matrix: \n",
      "[[106   8]\n",
      " [ 18  54]]\n",
      "---- 5\n",
      "0.9973226238286479\n",
      "accuracy_score:  0.8655913978494624\n",
      "             precision    recall  f1-score   support\n",
      "\n",
      "          0       0.90      0.90      0.90       126\n",
      "          1       0.79      0.80      0.79        60\n",
      "\n",
      "avg / total       0.87      0.87      0.87       186\n",
      "\n",
      "confusion_matrix: \n",
      "[[113  13]\n",
      " [ 12  48]]\n",
      "kfold_result:  (933, 7)\n"
     ]
    }
   ],
   "source": [
    "pipeline = Pipeline([\n",
    "    ('features', FeatureUnion([\n",
    "        ('tf_idf', Pipeline([\n",
    "            ('counts', CountVectorizer(max_df=0.95, min_df=2)),\n",
    "            ('tf_idf', TfidfTransformer()),\n",
    "            ('chi', SelectKBest(chi2, k=2000))\n",
    "        ])),\n",
    "        ('len_stats', myclass_circ.StatsFeatures_cor()),\n",
    "       # ('tf', myclass_circ.Statskeywords_cor(topk = 5000))\n",
    "    ])),\n",
    "    ('standard', StandardScaler(with_mean=False)),\n",
    "    ('classifier', XGBClassifier(max_depth=7,objective='multi:softmax', num_class=2))\n",
    "])\n",
    "\n",
    "filename = 'moe_class_label_proba_20181120.xlsx'\n",
    "cal_kfold(title_content, label, pipeline, 'cor_result', filename, class_name_dict)"
   ]
  },
  {
   "cell_type": "code",
   "execution_count": null,
   "metadata": {
    "ExecuteTime": {
     "start_time": "2018-09-19T02:37:27.493Z"
    },
    "collapsed": true
   },
   "outputs": [],
   "source": [
    "# import xlrd\n",
    "\n",
    "# kfold_result = pd.DataFrame()\n",
    "\n",
    "# currentPath  = 'circ_result_class/corpus/circ_class_label_proba_20181008.xlsx'\n",
    "# excel = xlrd.open_workbook(currentPath)\n",
    "# sheet_names = [sheet.name for sheet in excel.sheets()]\n",
    "# for sheet_name in sheet_names:   \n",
    "#     tmp_data = pd.read_excel(currentPath, sheet_name)     \n",
    "#     kfold_result = pd.concat([kfold_result, tmp_data], axis = 0)\n",
    "\n",
    "# kfold_result.index = range(kfold_result.shape[0])\n",
    "# kfold_result.insert(0, '备注', '')\n",
    "# print('总数：', kfold_result.shape)\n",
    "# # kfold_result.head()"
   ]
  },
  {
   "cell_type": "code",
   "execution_count": null,
   "metadata": {
    "ExecuteTime": {
     "start_time": "2018-09-19T02:39:45.140Z"
    },
    "collapsed": true
   },
   "outputs": [],
   "source": [
    "# K_S_sel = kfold_result[(kfold_result['predict_proba'] < 0.65) | (kfold_result['R_W'] == 'Wrong')]\n",
    "# K_S_else = kfold_result[~((kfold_result['predict_proba'] < 0.65) | (kfold_result['R_W'] == 'Wrong'))]\n",
    "# print(kfold_result.shape)\n",
    "# print(K_S_else.shape)\n",
    "# print(K_S_sel.shape)\n",
    "# K_S_sel.groupby(['R_W', 'predict_label'])['label'].count()"
   ]
  },
  {
   "cell_type": "code",
   "execution_count": null,
   "metadata": {
    "collapsed": true
   },
   "outputs": [],
   "source": [
    "# fea_filename = 'cbrc_result_class/result/20181008_circ_class_sel.xlsx'\n",
    "# with pd.ExcelWriter(fea_filename) as writer:\n",
    "#     for label in K_S_sel['predict_label'].unique():\n",
    "#         tmp_data = K_S_sel[K_S_sel['predict_label'] == label]\n",
    "#         N = tmp_data.shape[0]\n",
    "#         tmp_data.sample(n = N, axis = 0, random_state=42).to_excel(writer,label, index = False)    \n",
    "#     writer.save()\n",
    "    \n",
    "# fea_filename = 'cbrc_result_class/result/20181008_circ_class_else.xlsx'\n",
    "# with pd.ExcelWriter(fea_filename) as writer:\n",
    "#     for label in K_S_else['predict_label'].unique():\n",
    "#         tmp_data = K_S_else[K_S_else['predict_label'] == label]\n",
    "#         N = tmp_data.shape[0]\n",
    "#         tmp_data.sample(n = N, axis = 0, random_state=42).to_excel(writer,label, index = False)    \n",
    "#     writer.save()    "
   ]
  },
  {
   "cell_type": "code",
   "execution_count": null,
   "metadata": {
    "ExecuteTime": {
     "start_time": "2018-09-19T02:39:51.232Z"
    },
    "collapsed": true
   },
   "outputs": [],
   "source": [
    "# y_test = kfold_result['predict_label'].tolist()\n",
    "# y_pred_class = kfold_result['label'].tolist()\n",
    "# print('accuracy_score: ', metrics.accuracy_score(y_test, y_pred_class)) # 指所有分类正确的百分比\n",
    "# print(metrics.classification_report(y_test, y_pred_class))\n",
    "# print('confusion_matrix: ')\n",
    "# print( metrics.confusion_matrix(y_test, y_pred_class))"
   ]
  },
  {
   "cell_type": "code",
   "execution_count": null,
   "metadata": {
    "ExecuteTime": {
     "start_time": "2018-09-19T02:39:51.922Z"
    },
    "collapsed": true
   },
   "outputs": [],
   "source": [
    "# y_pred_prob = kfold_result['predict_proba'].tolist()\n",
    "\n",
    "# sel_data_stat = plot_class_proba(y_pred_class, y_pred_prob)\n",
    "# sel_data_stat"
   ]
  },
  {
   "cell_type": "markdown",
   "metadata": {},
   "source": [
    "## 保存模型"
   ]
  },
  {
   "cell_type": "code",
   "execution_count": 14,
   "metadata": {
    "ExecuteTime": {
     "end_time": "2018-11-20T02:56:52.163334Z",
     "start_time": "2018-11-20T02:56:49.990210Z"
    }
   },
   "outputs": [
    {
     "name": "stdout",
     "output_type": "stream",
     "text": [
      "0.9935691318327974\n"
     ]
    },
    {
     "data": {
      "text/plain": [
       "Pipeline(memory=None,\n",
       "     steps=[('features', FeatureUnion(n_jobs=1,\n",
       "       transformer_list=[('tf_idf', Pipeline(memory=None,\n",
       "     steps=[('counts', CountVectorizer(analyzer='word', binary=False, decode_error='strict',\n",
       "        dtype=<class 'numpy.int64'>, encoding='utf-8', input='content',\n",
       "        lowercase=True, max_df=0.9...tate=0, reg_alpha=0, reg_lambda=1, scale_pos_weight=1,\n",
       "       seed=None, silent=True, subsample=1))])"
      ]
     },
     "execution_count": 14,
     "metadata": {},
     "output_type": "execute_result"
    }
   ],
   "source": [
    "pipeline = Pipeline([\n",
    "    ('features', FeatureUnion([\n",
    "        ('tf_idf', Pipeline([\n",
    "            ('counts', CountVectorizer(max_df=0.95, min_df=2)),\n",
    "            ('tf_idf', TfidfTransformer()),\n",
    "            ('chi', SelectKBest(chi2, k=2000))\n",
    "        ])),\n",
    "        ('len_stats', myclass_circ.StatsFeatures_cor()),\n",
    "        # ('tf', myclass_circ.Statskeywords_cor(topk = 5000))\n",
    "    ])),\n",
    "    ('standard', StandardScaler(with_mean=False)),\n",
    "    ('classifier', XGBClassifier(max_depth=7,objective='multi:softmax', num_class=2))\n",
    "])\n",
    "\n",
    "pipeline.fit(title_content, label)\n",
    "print(pipeline.score(title_content, label))\n",
    "pipeline"
   ]
  },
  {
   "cell_type": "code",
   "execution_count": 15,
   "metadata": {
    "ExecuteTime": {
     "end_time": "2018-11-20T02:56:55.623532Z",
     "start_time": "2018-11-20T02:56:55.109503Z"
    }
   },
   "outputs": [
    {
     "data": {
      "text/plain": [
       "['model/moe_cor_1120.pkl.z']"
      ]
     },
     "execution_count": 15,
     "metadata": {},
     "output_type": "execute_result"
    }
   ],
   "source": [
    "from sklearn.externals import joblib\n",
    "joblib.dump(pipeline, \"model/moe_cor_1120.pkl.z\")"
   ]
  },
  {
   "cell_type": "markdown",
   "metadata": {},
   "source": [
    "# test online model"
   ]
  },
  {
   "cell_type": "code",
   "execution_count": 22,
   "metadata": {
    "ExecuteTime": {
     "end_time": "2018-11-20T03:30:08.581523Z",
     "start_time": "2018-11-20T03:30:07.393455Z"
    },
    "collapsed": true
   },
   "outputs": [],
   "source": [
    "import pandas as pd\n",
    "import requests,json\n",
    "from sklearn import metrics\n",
    "import pre_cor_circ"
   ]
  },
  {
   "cell_type": "code",
   "execution_count": 17,
   "metadata": {
    "ExecuteTime": {
     "end_time": "2018-11-20T03:26:30.777065Z",
     "start_time": "2018-11-20T03:26:30.539051Z"
    },
    "collapsed": true
   },
   "outputs": [],
   "source": [
    "def get_server_res(data, url, col_name):\n",
    "    '''\n",
    "    服务器接口测试程序\n",
    "    传入 dict, 传出 DataFrame\n",
    "    '''\n",
    "    # data = {'record':[{'id':0,'title':'ss','content':'zzz'},]}\n",
    "    # data = {\"record\":marked_human_data.iloc[:5,:3].to_dict(orient = 'records')}\n",
    "    # url \"http://47.93.77.19:10000/correlation_negative\"\n",
    "    headers={'content-type':'application/json'}\n",
    "    result = requests.post(url,\n",
    "                      data = json.dumps(data),\n",
    "                      headers=headers, allow_redirects=True)\n",
    "    # print(result.text)\n",
    "    json_data = json.loads(result.text)\n",
    "    parse_data = []\n",
    "    elapsed_time = json_data['elapsed_time']\n",
    "    for i in range(len(json_data['docs'])):\n",
    "        parse_data.append([json_data['docs'][i]['id'],\n",
    "                          json_data['docs'][i][col_name]])\n",
    "    parse_data = pd.DataFrame(parse_data, columns = ['id', col_name])    \n",
    "    return parse_data, elapsed_time"
   ]
  },
  {
   "cell_type": "code",
   "execution_count": 20,
   "metadata": {
    "ExecuteTime": {
     "end_time": "2018-11-20T03:29:41.263960Z",
     "start_time": "2018-11-20T03:29:38.355794Z"
    }
   },
   "outputs": [
    {
     "name": "stdout",
     "output_type": "stream",
     "text": [
      "(15144, 8)\n",
      "(2001, 8)\n"
     ]
    }
   ],
   "source": [
    "fiel_path = r'cor_data\\circ_class_predict_mysql_2018-11-10.xlsx'\n",
    "\n",
    "# combined_data_1 = pd.read_excel(fiel_path, '0')\n",
    "# combined_data_2 = pd.read_excel(fiel_path, '-1')\n",
    "# combined_data = pd.concat([combined_data_1, combined_data_2])\n",
    "combined_data_all = pd.read_excel(fiel_path)\n",
    "combined_data_all['title_content'] = combined_data_all['title']+'。'+combined_data_all['content']\n",
    "print(combined_data_all.shape)\n",
    "combined_data = combined_data_all.loc[:2000, :]\n",
    "print(combined_data.shape)"
   ]
  },
  {
   "cell_type": "code",
   "execution_count": 23,
   "metadata": {
    "ExecuteTime": {
     "end_time": "2018-11-20T03:30:29.248705Z",
     "start_time": "2018-11-20T03:30:12.106724Z"
    }
   },
   "outputs": [
    {
     "name": "stdout",
     "output_type": "stream",
     "text": [
      "(2001, 9)\n"
     ]
    },
    {
     "data": {
      "text/html": [
       "<div>\n",
       "<style scoped>\n",
       "    .dataframe tbody tr th:only-of-type {\n",
       "        vertical-align: middle;\n",
       "    }\n",
       "\n",
       "    .dataframe tbody tr th {\n",
       "        vertical-align: top;\n",
       "    }\n",
       "\n",
       "    .dataframe thead th {\n",
       "        text-align: right;\n",
       "    }\n",
       "</style>\n",
       "<table border=\"1\" class=\"dataframe\">\n",
       "  <thead>\n",
       "    <tr style=\"text-align: right;\">\n",
       "      <th></th>\n",
       "      <th>id</th>\n",
       "      <th>group_id</th>\n",
       "      <th>predict_label</th>\n",
       "      <th>label</th>\n",
       "      <th>title</th>\n",
       "      <th>content</th>\n",
       "      <th>publishtime</th>\n",
       "      <th>title_content</th>\n",
       "      <th>local_label</th>\n",
       "    </tr>\n",
       "  </thead>\n",
       "  <tbody>\n",
       "    <tr>\n",
       "      <th>0</th>\n",
       "      <td>12008398</td>\n",
       "      <td>微信</td>\n",
       "      <td>其他相关报道</td>\n",
       "      <td>NaN</td>\n",
       "      <td>【明天最后一天】立冬送温暖，这个冬季来续保，背着惊喜继续跑</td>\n",
       "      <td>平常上班，工作繁忙？ 爱车保险到期，没空处理？ 险种太多，不懂选择？ 没关系 河南宜华荣威4...</td>\n",
       "      <td>2018-11-10 17:26:23</td>\n",
       "      <td>【明天最后一天】立冬送温暖，这个冬季来续保，背着惊喜继续跑。平常上班，工作繁忙？ 爱车保险到...</td>\n",
       "      <td>0</td>\n",
       "    </tr>\n",
       "    <tr>\n",
       "      <th>1</th>\n",
       "      <td>11997219</td>\n",
       "      <td>新闻</td>\n",
       "      <td>资本市场</td>\n",
       "      <td>NaN</td>\n",
       "      <td>主力为何需要构筑市场底</td>\n",
       "      <td>今日三大指数集体低开，券商板块一度冲高，但受银行股大跌拖累，沪指震荡走弱。午后指数跌幅扩大，...</td>\n",
       "      <td>2018-11-10 00:46:00</td>\n",
       "      <td>主力为何需要构筑市场底。今日三大指数集体低开，券商板块一度冲高，但受银行股大跌拖累，沪指震荡...</td>\n",
       "      <td>0</td>\n",
       "    </tr>\n",
       "    <tr>\n",
       "      <th>2</th>\n",
       "      <td>11998545</td>\n",
       "      <td>新闻</td>\n",
       "      <td>资本市场</td>\n",
       "      <td>NaN</td>\n",
       "      <td>A股11月9日早盘热点资讯</td>\n",
       "      <td>竞彩操盘风向新版重磅上线！_高峰竞彩联盟优彩师热度工具入口... 在税收日常检查中总结的几点...</td>\n",
       "      <td>2018-11-10 03:43:00</td>\n",
       "      <td>A股11月9日早盘热点资讯。竞彩操盘风向新版重磅上线！_高峰竞彩联盟优彩师热度工具入口......</td>\n",
       "      <td>0</td>\n",
       "    </tr>\n",
       "    <tr>\n",
       "      <th>3</th>\n",
       "      <td>12003791</td>\n",
       "      <td>新闻</td>\n",
       "      <td>监管</td>\n",
       "      <td>NaN</td>\n",
       "      <td>10家大机构发声，银河中信建投东兴等3券商、工行农行等银行参与</td>\n",
       "      <td>11月9日上午，人民银行营业管理部联合北京银保监局筹备组、北京证监局、北京市地方金融监管局共...</td>\n",
       "      <td>2018-11-10 10:12:50</td>\n",
       "      <td>10家大机构发声，银河中信建投东兴等3券商、工行农行等银行参与。11月9日上午，人民银行营业...</td>\n",
       "      <td>0</td>\n",
       "    </tr>\n",
       "    <tr>\n",
       "      <th>4</th>\n",
       "      <td>12014219</td>\n",
       "      <td>微信</td>\n",
       "      <td>资本市场</td>\n",
       "      <td>NaN</td>\n",
       "      <td>市场为何“跌跌不休”：主要有这三大因素！</td>\n",
       "      <td>热点分析： 由于银行保险等权重的意外杀跌，导致大盘跌破了2600点，并且在这一点位附近展开争...</td>\n",
       "      <td>2018-11-10 23:21:58</td>\n",
       "      <td>市场为何“跌跌不休”：主要有这三大因素！。热点分析： 由于银行保险等权重的意外杀跌，导致大盘...</td>\n",
       "      <td>0</td>\n",
       "    </tr>\n",
       "  </tbody>\n",
       "</table>\n",
       "</div>"
      ],
      "text/plain": [
       "         id group_id predict_label  label                            title  \\\n",
       "0  12008398       微信        其他相关报道    NaN    【明天最后一天】立冬送温暖，这个冬季来续保，背着惊喜继续跑   \n",
       "1  11997219       新闻          资本市场    NaN                      主力为何需要构筑市场底   \n",
       "2  11998545       新闻          资本市场    NaN                    A股11月9日早盘热点资讯   \n",
       "3  12003791       新闻            监管    NaN  10家大机构发声，银河中信建投东兴等3券商、工行农行等银行参与   \n",
       "4  12014219       微信          资本市场    NaN             市场为何“跌跌不休”：主要有这三大因素！   \n",
       "\n",
       "                                             content         publishtime  \\\n",
       "0  平常上班，工作繁忙？ 爱车保险到期，没空处理？ 险种太多，不懂选择？ 没关系 河南宜华荣威4... 2018-11-10 17:26:23   \n",
       "1  今日三大指数集体低开，券商板块一度冲高，但受银行股大跌拖累，沪指震荡走弱。午后指数跌幅扩大，... 2018-11-10 00:46:00   \n",
       "2  竞彩操盘风向新版重磅上线！_高峰竞彩联盟优彩师热度工具入口... 在税收日常检查中总结的几点... 2018-11-10 03:43:00   \n",
       "3  11月9日上午，人民银行营业管理部联合北京银保监局筹备组、北京证监局、北京市地方金融监管局共... 2018-11-10 10:12:50   \n",
       "4  热点分析： 由于银行保险等权重的意外杀跌，导致大盘跌破了2600点，并且在这一点位附近展开争... 2018-11-10 23:21:58   \n",
       "\n",
       "                                       title_content  local_label  \n",
       "0  【明天最后一天】立冬送温暖，这个冬季来续保，背着惊喜继续跑。平常上班，工作繁忙？ 爱车保险到...            0  \n",
       "1  主力为何需要构筑市场底。今日三大指数集体低开，券商板块一度冲高，但受银行股大跌拖累，沪指震荡...            0  \n",
       "2  A股11月9日早盘热点资讯。竞彩操盘风向新版重磅上线！_高峰竞彩联盟优彩师热度工具入口......            0  \n",
       "3  10家大机构发声，银河中信建投东兴等3券商、工行农行等银行参与。11月9日上午，人民银行营业...            0  \n",
       "4  市场为何“跌跌不休”：主要有这三大因素！。热点分析： 由于银行保险等权重的意外杀跌，导致大盘...            0  "
      ]
     },
     "execution_count": 23,
     "metadata": {},
     "output_type": "execute_result"
    }
   ],
   "source": [
    "from sklearn.externals import joblib\n",
    "pipeline = joblib.load(\"model/moe_cor_1120.pkl.z\")\n",
    "\n",
    "title_content = pre_cor_circ.handle_contents(combined_data['title_content'].tolist())\n",
    "local_label = pipeline.predict(title_content)\n",
    "combined_data['local_label'] = local_label\n",
    "\n",
    "print(combined_data.shape)\n",
    "combined_data.head()"
   ]
  },
  {
   "cell_type": "code",
   "execution_count": 25,
   "metadata": {
    "ExecuteTime": {
     "end_time": "2018-11-20T03:31:28.828113Z",
     "start_time": "2018-11-20T03:31:10.213048Z"
    }
   },
   "outputs": [
    {
     "name": "stdout",
     "output_type": "stream",
     "text": [
      "(2001, 2)\n"
     ]
    },
    {
     "data": {
      "text/html": [
       "<div>\n",
       "<style scoped>\n",
       "    .dataframe tbody tr th:only-of-type {\n",
       "        vertical-align: middle;\n",
       "    }\n",
       "\n",
       "    .dataframe tbody tr th {\n",
       "        vertical-align: top;\n",
       "    }\n",
       "\n",
       "    .dataframe thead th {\n",
       "        text-align: right;\n",
       "    }\n",
       "</style>\n",
       "<table border=\"1\" class=\"dataframe\">\n",
       "  <thead>\n",
       "    <tr style=\"text-align: right;\">\n",
       "      <th></th>\n",
       "      <th>id</th>\n",
       "      <th>online_label</th>\n",
       "    </tr>\n",
       "  </thead>\n",
       "  <tbody>\n",
       "    <tr>\n",
       "      <th>0</th>\n",
       "      <td>12008398</td>\n",
       "      <td>0</td>\n",
       "    </tr>\n",
       "    <tr>\n",
       "      <th>1</th>\n",
       "      <td>11997219</td>\n",
       "      <td>0</td>\n",
       "    </tr>\n",
       "    <tr>\n",
       "      <th>2</th>\n",
       "      <td>11998545</td>\n",
       "      <td>0</td>\n",
       "    </tr>\n",
       "    <tr>\n",
       "      <th>3</th>\n",
       "      <td>12003791</td>\n",
       "      <td>0</td>\n",
       "    </tr>\n",
       "    <tr>\n",
       "      <th>4</th>\n",
       "      <td>12014219</td>\n",
       "      <td>0</td>\n",
       "    </tr>\n",
       "  </tbody>\n",
       "</table>\n",
       "</div>"
      ],
      "text/plain": [
       "         id  online_label\n",
       "0  12008398             0\n",
       "1  11997219             0\n",
       "2  11998545             0\n",
       "3  12003791             0\n",
       "4  12014219             0"
      ]
     },
     "execution_count": 25,
     "metadata": {},
     "output_type": "execute_result"
    }
   ],
   "source": [
    "# combined_data['id'] = range(combined_data.shape[0])\n",
    "combined_data['title'] = combined_data['title'].astype(str) \n",
    "combined_data['content'] = combined_data['content'].astype(str)\n",
    "data = {\"record\":combined_data.loc[:,['id', 'title' ,'content']].to_dict(orient = 'records')}\n",
    "url = \"http://59.110.221.156:9000/judge_correlation\"\n",
    "col_name = 'cor'\n",
    "parse_data, elapsed_time = get_server_res(data, url, col_name)\n",
    "parse_data.columns = ['id', 'online_label']\n",
    "print(parse_data.shape)\n",
    "parse_data.head()"
   ]
  },
  {
   "cell_type": "code",
   "execution_count": 26,
   "metadata": {
    "ExecuteTime": {
     "end_time": "2018-11-20T03:32:08.123360Z",
     "start_time": "2018-11-20T03:32:07.714337Z"
    }
   },
   "outputs": [
    {
     "name": "stdout",
     "output_type": "stream",
     "text": [
      "(2001, 10)\n"
     ]
    },
    {
     "data": {
      "text/html": [
       "<div>\n",
       "<style scoped>\n",
       "    .dataframe tbody tr th:only-of-type {\n",
       "        vertical-align: middle;\n",
       "    }\n",
       "\n",
       "    .dataframe tbody tr th {\n",
       "        vertical-align: top;\n",
       "    }\n",
       "\n",
       "    .dataframe thead th {\n",
       "        text-align: right;\n",
       "    }\n",
       "</style>\n",
       "<table border=\"1\" class=\"dataframe\">\n",
       "  <thead>\n",
       "    <tr style=\"text-align: right;\">\n",
       "      <th></th>\n",
       "      <th>id</th>\n",
       "      <th>online_label</th>\n",
       "      <th>group_id</th>\n",
       "      <th>predict_label</th>\n",
       "      <th>label</th>\n",
       "      <th>title</th>\n",
       "      <th>content</th>\n",
       "      <th>publishtime</th>\n",
       "      <th>title_content</th>\n",
       "      <th>local_label</th>\n",
       "    </tr>\n",
       "  </thead>\n",
       "  <tbody>\n",
       "    <tr>\n",
       "      <th>0</th>\n",
       "      <td>12008398</td>\n",
       "      <td>0</td>\n",
       "      <td>微信</td>\n",
       "      <td>其他相关报道</td>\n",
       "      <td>NaN</td>\n",
       "      <td>【明天最后一天】立冬送温暖，这个冬季来续保，背着惊喜继续跑</td>\n",
       "      <td>平常上班，工作繁忙？ 爱车保险到期，没空处理？ 险种太多，不懂选择？ 没关系 河南宜华荣威4...</td>\n",
       "      <td>2018-11-10 17:26:23</td>\n",
       "      <td>【明天最后一天】立冬送温暖，这个冬季来续保，背着惊喜继续跑。平常上班，工作繁忙？ 爱车保险到...</td>\n",
       "      <td>0</td>\n",
       "    </tr>\n",
       "    <tr>\n",
       "      <th>1</th>\n",
       "      <td>11997219</td>\n",
       "      <td>0</td>\n",
       "      <td>新闻</td>\n",
       "      <td>资本市场</td>\n",
       "      <td>NaN</td>\n",
       "      <td>主力为何需要构筑市场底</td>\n",
       "      <td>今日三大指数集体低开，券商板块一度冲高，但受银行股大跌拖累，沪指震荡走弱。午后指数跌幅扩大，...</td>\n",
       "      <td>2018-11-10 00:46:00</td>\n",
       "      <td>主力为何需要构筑市场底。今日三大指数集体低开，券商板块一度冲高，但受银行股大跌拖累，沪指震荡...</td>\n",
       "      <td>0</td>\n",
       "    </tr>\n",
       "    <tr>\n",
       "      <th>2</th>\n",
       "      <td>11998545</td>\n",
       "      <td>0</td>\n",
       "      <td>新闻</td>\n",
       "      <td>资本市场</td>\n",
       "      <td>NaN</td>\n",
       "      <td>A股11月9日早盘热点资讯</td>\n",
       "      <td>竞彩操盘风向新版重磅上线！_高峰竞彩联盟优彩师热度工具入口... 在税收日常检查中总结的几点...</td>\n",
       "      <td>2018-11-10 03:43:00</td>\n",
       "      <td>A股11月9日早盘热点资讯。竞彩操盘风向新版重磅上线！_高峰竞彩联盟优彩师热度工具入口......</td>\n",
       "      <td>0</td>\n",
       "    </tr>\n",
       "    <tr>\n",
       "      <th>3</th>\n",
       "      <td>12003791</td>\n",
       "      <td>0</td>\n",
       "      <td>新闻</td>\n",
       "      <td>监管</td>\n",
       "      <td>NaN</td>\n",
       "      <td>10家大机构发声，银河中信建投东兴等3券商、工行农行等银行参与</td>\n",
       "      <td>11月9日上午，人民银行营业管理部联合北京银保监局筹备组、北京证监局、北京市地方金融监管局共...</td>\n",
       "      <td>2018-11-10 10:12:50</td>\n",
       "      <td>10家大机构发声，银河中信建投东兴等3券商、工行农行等银行参与。11月9日上午，人民银行营业...</td>\n",
       "      <td>0</td>\n",
       "    </tr>\n",
       "    <tr>\n",
       "      <th>4</th>\n",
       "      <td>12014219</td>\n",
       "      <td>0</td>\n",
       "      <td>微信</td>\n",
       "      <td>资本市场</td>\n",
       "      <td>NaN</td>\n",
       "      <td>市场为何“跌跌不休”：主要有这三大因素！</td>\n",
       "      <td>热点分析： 由于银行保险等权重的意外杀跌，导致大盘跌破了2600点，并且在这一点位附近展开争...</td>\n",
       "      <td>2018-11-10 23:21:58</td>\n",
       "      <td>市场为何“跌跌不休”：主要有这三大因素！。热点分析： 由于银行保险等权重的意外杀跌，导致大盘...</td>\n",
       "      <td>0</td>\n",
       "    </tr>\n",
       "  </tbody>\n",
       "</table>\n",
       "</div>"
      ],
      "text/plain": [
       "         id  online_label group_id predict_label  label  \\\n",
       "0  12008398             0       微信        其他相关报道    NaN   \n",
       "1  11997219             0       新闻          资本市场    NaN   \n",
       "2  11998545             0       新闻          资本市场    NaN   \n",
       "3  12003791             0       新闻            监管    NaN   \n",
       "4  12014219             0       微信          资本市场    NaN   \n",
       "\n",
       "                             title  \\\n",
       "0    【明天最后一天】立冬送温暖，这个冬季来续保，背着惊喜继续跑   \n",
       "1                      主力为何需要构筑市场底   \n",
       "2                    A股11月9日早盘热点资讯   \n",
       "3  10家大机构发声，银河中信建投东兴等3券商、工行农行等银行参与   \n",
       "4             市场为何“跌跌不休”：主要有这三大因素！   \n",
       "\n",
       "                                             content         publishtime  \\\n",
       "0  平常上班，工作繁忙？ 爱车保险到期，没空处理？ 险种太多，不懂选择？ 没关系 河南宜华荣威4... 2018-11-10 17:26:23   \n",
       "1  今日三大指数集体低开，券商板块一度冲高，但受银行股大跌拖累，沪指震荡走弱。午后指数跌幅扩大，... 2018-11-10 00:46:00   \n",
       "2  竞彩操盘风向新版重磅上线！_高峰竞彩联盟优彩师热度工具入口... 在税收日常检查中总结的几点... 2018-11-10 03:43:00   \n",
       "3  11月9日上午，人民银行营业管理部联合北京银保监局筹备组、北京证监局、北京市地方金融监管局共... 2018-11-10 10:12:50   \n",
       "4  热点分析： 由于银行保险等权重的意外杀跌，导致大盘跌破了2600点，并且在这一点位附近展开争... 2018-11-10 23:21:58   \n",
       "\n",
       "                                       title_content  local_label  \n",
       "0  【明天最后一天】立冬送温暖，这个冬季来续保，背着惊喜继续跑。平常上班，工作繁忙？ 爱车保险到...            0  \n",
       "1  主力为何需要构筑市场底。今日三大指数集体低开，券商板块一度冲高，但受银行股大跌拖累，沪指震荡...            0  \n",
       "2  A股11月9日早盘热点资讯。竞彩操盘风向新版重磅上线！_高峰竞彩联盟优彩师热度工具入口......            0  \n",
       "3  10家大机构发声，银河中信建投东兴等3券商、工行农行等银行参与。11月9日上午，人民银行营业...            0  \n",
       "4  市场为何“跌跌不休”：主要有这三大因素！。热点分析： 由于银行保险等权重的意外杀跌，导致大盘...            0  "
      ]
     },
     "execution_count": 26,
     "metadata": {},
     "output_type": "execute_result"
    }
   ],
   "source": [
    "tend_data = pd.merge(parse_data, combined_data, on = 'id', how = 'inner')\n",
    "print(tend_data.shape)\n",
    "tend_data.head()"
   ]
  },
  {
   "cell_type": "code",
   "execution_count": 27,
   "metadata": {
    "ExecuteTime": {
     "end_time": "2018-11-20T03:32:24.624304Z",
     "start_time": "2018-11-20T03:32:24.409292Z"
    }
   },
   "outputs": [
    {
     "name": "stdout",
     "output_type": "stream",
     "text": [
      "accuracy_score:  1.0\n",
      "             precision    recall  f1-score   support\n",
      "\n",
      "          0       1.00      1.00      1.00      1874\n",
      "          1       1.00      1.00      1.00       127\n",
      "\n",
      "avg / total       1.00      1.00      1.00      2001\n",
      "\n",
      "confusion_matrix: \n",
      "[[1874    0]\n",
      " [   0  127]]\n"
     ]
    }
   ],
   "source": [
    "# y_pred_class = pipeline.predict(X_test)\n",
    "y_pred_class = tend_data['online_label'].tolist()\n",
    "y_test = tend_data['local_label'].tolist()\n",
    "print('accuracy_score: ', metrics.accuracy_score(y_test, y_pred_class)) # 指所有分类正确的百分比\n",
    "print(metrics.classification_report(y_test, y_pred_class))\n",
    "print('confusion_matrix: ')\n",
    "print( metrics.confusion_matrix(y_test, y_pred_class))"
   ]
  },
  {
   "cell_type": "code",
   "execution_count": 29,
   "metadata": {
    "ExecuteTime": {
     "end_time": "2018-11-20T03:37:56.867307Z",
     "start_time": "2018-11-20T03:36:27.802213Z"
    }
   },
   "outputs": [
    {
     "name": "stdout",
     "output_type": "stream",
     "text": [
      "(2001, 2)\n",
      "第 2 次，数据量：2001，耗时：17.00 s\n",
      "(2001, 2)\n",
      "第 3 次，数据量：2001，耗时：18.00 s\n",
      "(2001, 2)\n",
      "第 4 次，数据量：2001，耗时：23.00 s\n",
      "(2001, 2)\n",
      "第 5 次，数据量：2001，耗时：28.00 s\n"
     ]
    }
   ],
   "source": [
    "for k in range(1,5):    \n",
    "    combined_data = combined_data_all.loc[2000 * (k-1):2000 * k, :]\n",
    "    combined_data['title'] = combined_data['title'].astype(str) \n",
    "    combined_data['content'] = combined_data['content'].astype(str)\n",
    "    data = {\"record\":combined_data.loc[:,['id', 'title' ,'content']].to_dict(orient = 'records')}\n",
    "    url = \"http://59.110.221.156:9000/judge_correlation\"\n",
    "    col_name = 'cor'\n",
    "    parse_data, elapsed_time = get_server_res(data, url, col_name)\n",
    "    parse_data.columns = ['id', 'online_label']\n",
    "#     print(parse_data.shape)\n",
    "    parse_data.head()\n",
    "    print(\"第 %s 次，数据量：%s，耗时：%s s\"%(k, combined_data.shape[0], elapsed_time))"
   ]
  }
 ],
 "metadata": {
  "kernelspec": {
   "display_name": "Python 3",
   "language": "python",
   "name": "python3"
  },
  "language_info": {
   "codemirror_mode": {
    "name": "ipython",
    "version": 3
   },
   "file_extension": ".py",
   "mimetype": "text/x-python",
   "name": "python",
   "nbconvert_exporter": "python",
   "pygments_lexer": "ipython3",
   "version": "3.6.3"
  },
  "toc": {
   "nav_menu": {},
   "number_sections": true,
   "sideBar": true,
   "skip_h1_title": false,
   "title_cell": "Table of Contents",
   "title_sidebar": "Contents",
   "toc_cell": false,
   "toc_position": {
    "height": "calc(100% - 180px)",
    "left": "10px",
    "top": "150px",
    "width": "376px"
   },
   "toc_section_display": true,
   "toc_window_display": true
  },
  "varInspector": {
   "cols": {
    "lenName": 16,
    "lenType": 16,
    "lenVar": 40
   },
   "kernels_config": {
    "python": {
     "delete_cmd_postfix": "",
     "delete_cmd_prefix": "del ",
     "library": "var_list.py",
     "varRefreshCmd": "print(var_dic_list())"
    },
    "r": {
     "delete_cmd_postfix": ") ",
     "delete_cmd_prefix": "rm(",
     "library": "var_list.r",
     "varRefreshCmd": "cat(var_dic_list()) "
    }
   },
   "types_to_exclude": [
    "module",
    "function",
    "builtin_function_or_method",
    "instance",
    "_Feature"
   ],
   "window_display": false
  }
 },
 "nbformat": 4,
 "nbformat_minor": 2
}
