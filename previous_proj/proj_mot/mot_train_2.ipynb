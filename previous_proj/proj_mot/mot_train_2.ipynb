{
 "cells": [
  {
   "cell_type": "markdown",
   "metadata": {
    "ExecuteTime": {
     "end_time": "2018-09-10T06:12:36.169323Z",
     "start_time": "2018-09-10T06:12:36.152322Z"
    }
   },
   "source": [
    "# 本文件说明\n",
    "- 训练模型,查看模型结果：包括K-fold、概率结果"
   ]
  },
  {
   "cell_type": "markdown",
   "metadata": {},
   "source": [
    "# 基本设置"
   ]
  },
  {
   "cell_type": "code",
   "execution_count": 2,
   "metadata": {
    "ExecuteTime": {
     "end_time": "2019-01-02T06:15:01.665350Z",
     "start_time": "2019-01-02T06:14:59.035200Z"
    }
   },
   "outputs": [],
   "source": [
    "import jieba\n",
    "from jieba import analyse\n",
    "import sys\n",
    "import re\n",
    "import time\n",
    "import string\n",
    "from sklearn import feature_extraction\n",
    "from sklearn.pipeline import Pipeline,FeatureUnion\n",
    "from sklearn.model_selection import GridSearchCV\n",
    "from sklearn.feature_extraction.text import TfidfTransformer\n",
    "from sklearn.feature_extraction.text import CountVectorizer\n",
    "\n",
    "from sklearn.feature_extraction.text import TfidfVectorizer\n",
    "from sklearn.feature_selection import SelectKBest, chi2,mutual_info_classif,f_classif \n",
    "from sklearn.preprocessing import StandardScaler\n",
    "\n",
    "import xgboost as xgb\n",
    "from xgboost import XGBClassifier\n",
    "from sklearn import metrics\n",
    "\n",
    "from sklearn.base import BaseEstimator, TransformerMixin\n",
    "\n",
    "%matplotlib inline\n",
    "import numpy as np\n",
    "import pandas as pd\n",
    "import os\n",
    "from sklearn.model_selection import train_test_split\n",
    "from collections import Counter\n",
    "\n",
    "import warnings\n",
    "warnings.filterwarnings('ignore')"
   ]
  },
  {
   "cell_type": "code",
   "execution_count": 8,
   "metadata": {
    "ExecuteTime": {
     "end_time": "2019-01-02T06:16:24.937113Z",
     "start_time": "2019-01-02T06:16:23.961057Z"
    }
   },
   "outputs": [],
   "source": [
    "# from toolkits.nlp.generate_keywords import generate_keywords\n",
    "import myclass_circ\n",
    "import load_save_plot_file"
   ]
  },
  {
   "cell_type": "code",
   "execution_count": 4,
   "metadata": {
    "ExecuteTime": {
     "end_time": "2019-01-02T06:15:02.086374Z",
     "start_time": "2019-01-02T06:15:01.903364Z"
    }
   },
   "outputs": [],
   "source": [
    "%load_ext autoreload\n",
    "%autoreload 2"
   ]
  },
  {
   "cell_type": "markdown",
   "metadata": {},
   "source": [
    "## 一些函数"
   ]
  },
  {
   "cell_type": "code",
   "execution_count": 5,
   "metadata": {
    "ExecuteTime": {
     "end_time": "2019-01-02T06:15:03.612462Z",
     "start_time": "2019-01-02T06:15:03.334446Z"
    }
   },
   "outputs": [],
   "source": [
    "def cal_kfold(title_content, label, pipeline, raw_folder, filename, class_name_dict):\n",
    "    from sklearn.model_selection import KFold\n",
    "    import numpy as np\n",
    "\n",
    "    data_raw = pd.read_excel('%s/corpus/title_content_label.xlsx'%raw_folder)\n",
    "    raw_title = np.array(data_raw['title'])\n",
    "    raw_content = np.array(data_raw['content'])\n",
    "    print('data_raw: ', data_raw.shape)\n",
    "\n",
    "    kf = KFold(n_splits=5, shuffle=True, random_state=0)\n",
    "    title_content = np.array(title_content)\n",
    "    label = np.array(label)\n",
    "    \n",
    "    kfold_res = {'raw_title':[], 'raw_content':[], 'label':[], \n",
    "             'predict_label':[], 'title_content':[], 'predict_proba':[]}\n",
    "\n",
    "    num = 0\n",
    "    for train_index , test_index in kf.split(title_content):\n",
    "        print('---- %s'%(num+1))\n",
    "        X_train,X_test = title_content[train_index], title_content[test_index]\n",
    "        y_train,y_test = label[train_index], label[test_index]\n",
    "        \n",
    "        pipeline.fit(X_train, y_train)\n",
    "        print(pipeline.score(X_train, y_train))    \n",
    "\n",
    "        y_pred_class = pipeline.predict(X_test)\n",
    "        print('accuracy_score: ', metrics.accuracy_score(y_test, y_pred_class)) # 指所有分类正确的百分比\n",
    "        print(metrics.classification_report(y_test, y_pred_class))\n",
    "        print('confusion_matrix: ')\n",
    "        print( metrics.confusion_matrix(y_test, y_pred_class))   \n",
    "        \n",
    "        y_pred_prob = pipeline.predict_proba(X_test)\n",
    "\n",
    "        kfold_res['raw_title'] += list(raw_title[test_index])\n",
    "        kfold_res['raw_content'] += list(raw_content[test_index])\n",
    "        kfold_res['title_content'] += list(X_test)\n",
    "        kfold_res['label'] += [class_name_dict[i] for i in y_test]\n",
    "        kfold_res['predict_label'] += [class_name_dict[i] for i in y_pred_class]\n",
    "        kfold_res['predict_proba'] += list(y_pred_prob.max(axis = 1))\n",
    "    \n",
    "        num += 1\n",
    "        \n",
    "    kfold_result = pd.DataFrame.from_dict(kfold_res, orient = 'index').T\n",
    "    kfold_result['R_W'] = kfold_result.apply(lambda x: 'Right' if x['label'] == x['predict_label'] else 'Wrong', axis = 1)\n",
    "    print('kfold_result: ', kfold_result.shape)\n",
    "    \n",
    "    with pd.ExcelWriter('%s/corpus/%s'%(raw_folder, filename)) as writer:\n",
    "        for label in kfold_result['label'].unique():\n",
    "            tmp_data = kfold_result[kfold_result['label'] == label]\n",
    "            tmp_data.to_excel(writer, label, index = False)\n",
    "        writer.save()"
   ]
  },
  {
   "cell_type": "code",
   "execution_count": 6,
   "metadata": {
    "ExecuteTime": {
     "end_time": "2019-01-02T06:15:04.053487Z",
     "start_time": "2019-01-02T06:15:03.859476Z"
    }
   },
   "outputs": [],
   "source": [
    "def plot_class_proba(y_pred_class, y_pred_prob):\n",
    "    import seaborn as sns\n",
    "    import matplotlib.pyplot as plt\n",
    "\n",
    "    sel_data = pd.DataFrame()\n",
    "    sel_data['predict_label'] = y_pred_class\n",
    "    sel_data['predict_proba'] = y_pred_prob\n",
    "    sel_data['label'] = y_test\n",
    "\n",
    "    label_dic={'监管':1,'行业':2,'产品销售':3,'资本市场':4,'公司内部管理':5,'消费服务':6,'其他相关报道':7,'噪音':8}\n",
    "    # sel_data['predict_label'] = sel_data['predict_label'].apply(lambda x:label_dic[x])\n",
    "    g = sns.FacetGrid(sel_data, col=\"predict_label\", col_wrap=4, sharex=False)\n",
    "    g.map(plt.hist, \"predict_proba\", bins = 10)\n",
    "\n",
    "    sel_data['proba'] = sel_data['predict_proba'].apply(lambda x:round(x, 1))\n",
    "    sel_data_stat = sel_data.groupby(['predict_label', 'proba'])['predict_proba'].count().unstack().fillna(0)\n",
    "    sel_data_stat['sum'] = sel_data_stat.sum(axis = 1)\n",
    "    sel_data_stat.loc['sum'] = sel_data_stat.sum(axis = 0)\n",
    "    return sel_data_stat"
   ]
  },
  {
   "cell_type": "markdown",
   "metadata": {
    "collapsed": true
   },
   "source": [
    "# 教育部：1 二分类"
   ]
  },
  {
   "cell_type": "markdown",
   "metadata": {},
   "source": [
    "## 导入与分割数据"
   ]
  },
  {
   "cell_type": "code",
   "execution_count": 30,
   "metadata": {
    "ExecuteTime": {
     "end_time": "2019-01-02T07:25:47.161179Z",
     "start_time": "2019-01-02T07:25:46.882163Z"
    }
   },
   "outputs": [
    {
     "name": "stdout",
     "output_type": "stream",
     "text": [
      "title num:  5628\n",
      "['合肥 条 道路 乱 停放 共享 单车 受罚 新华网 安徽 频道', '高速路 倒车 走 错 挨罚']\n",
      "content num:  5628\n",
      "title_content num:  5628\n",
      "label num:  5628\n",
      "['1', '1', '1', '1', '1']\n"
     ]
    },
    {
     "data": {
      "text/plain": [
       "[1, 1, 1, 1, 1]"
      ]
     },
     "execution_count": 30,
     "metadata": {},
     "output_type": "execute_result"
    }
   ],
   "source": [
    "cbrc_filepath_class = 'cor_result/corpus/'\n",
    "title_content, label, title, content = load_save_plot_file.title_content_label(cbrc_filepath_class)\n",
    "label = [int(l) for l in label]\n",
    "label[:5]"
   ]
  },
  {
   "cell_type": "code",
   "execution_count": 33,
   "metadata": {
    "ExecuteTime": {
     "end_time": "2019-01-02T09:28:29.593286Z",
     "start_time": "2019-01-02T09:28:29.384274Z"
    }
   },
   "outputs": [],
   "source": [
    "from sklearn.utils.class_weight import compute_class_weight"
   ]
  },
  {
   "cell_type": "code",
   "execution_count": 34,
   "metadata": {
    "ExecuteTime": {
     "end_time": "2019-01-02T09:29:39.269271Z",
     "start_time": "2019-01-02T09:29:39.053259Z"
    }
   },
   "outputs": [
    {
     "name": "stdout",
     "output_type": "stream",
     "text": [
      "[3.04216216 0.59834148]\n"
     ]
    }
   ],
   "source": [
    "class_weight = 'balanced'\n",
    "classes=[0, 1]\n",
    "weight = compute_class_weight(class_weight, classes, label)\n",
    "print(weight)"
   ]
  },
  {
   "cell_type": "code",
   "execution_count": 19,
   "metadata": {
    "ExecuteTime": {
     "end_time": "2019-01-02T06:29:46.161941Z",
     "start_time": "2019-01-02T06:29:45.976930Z"
    }
   },
   "outputs": [
    {
     "data": {
      "text/plain": [
       "{0: '不相关', 1: '相关'}"
      ]
     },
     "execution_count": 19,
     "metadata": {},
     "output_type": "execute_result"
    }
   ],
   "source": [
    "label_dic={'不相关':0,'相关':1}\n",
    "class_name_dict = {v: k for k, v in label_dic.items()}\n",
    "class_name_dict"
   ]
  },
  {
   "cell_type": "code",
   "execution_count": 20,
   "metadata": {
    "ExecuteTime": {
     "end_time": "2019-01-02T06:29:46.983988Z",
     "start_time": "2019-01-02T06:29:46.743974Z"
    }
   },
   "outputs": [
    {
     "name": "stdout",
     "output_type": "stream",
     "text": [
      "训练集： 3939\n",
      "训练集-各类数量： Counter({1: 3305, 0: 634})\n",
      "测试集： 1689\n",
      "测试集-各类数量： Counter({1: 1398, 0: 291})\n"
     ]
    }
   ],
   "source": [
    "X_train, X_test, y_train, y_test = train_test_split(title_content, label, test_size=0.3, random_state=42)\n",
    "print('训练集：',len(y_train))\n",
    "print('训练集-各类数量：',Counter(y_train))\n",
    "print('测试集：',len(y_test))\n",
    "print('测试集-各类数量：',Counter(y_test))"
   ]
  },
  {
   "cell_type": "markdown",
   "metadata": {},
   "source": [
    "## 生成词典"
   ]
  },
  {
   "cell_type": "code",
   "execution_count": 26,
   "metadata": {
    "ExecuteTime": {
     "end_time": "2018-11-19T08:16:24.767770Z",
     "start_time": "2018-11-19T08:16:24.577760Z"
    },
    "collapsed": true
   },
   "outputs": [],
   "source": [
    "# g_k = generate_keywords(500)\n",
    "# g_k.gen_keywords_by_class(title_content, label, v_thre = 3)"
   ]
  },
  {
   "cell_type": "code",
   "execution_count": 27,
   "metadata": {
    "ExecuteTime": {
     "end_time": "2018-11-19T08:16:25.156793Z",
     "start_time": "2018-11-19T08:16:24.975782Z"
    },
    "collapsed": true
   },
   "outputs": [],
   "source": [
    "# g_k.save_txt('keywords_i.txt')"
   ]
  },
  {
   "cell_type": "markdown",
   "metadata": {},
   "source": [
    "## features"
   ]
  },
  {
   "cell_type": "code",
   "execution_count": 38,
   "metadata": {
    "ExecuteTime": {
     "end_time": "2018-11-19T09:04:08.989595Z",
     "start_time": "2018-11-19T09:04:08.790583Z"
    },
    "collapsed": true
   },
   "outputs": [],
   "source": [
    "# org = 'moe'\n",
    "# model = 'class'\n",
    "# date = '20181119'"
   ]
  },
  {
   "cell_type": "code",
   "execution_count": 39,
   "metadata": {
    "ExecuteTime": {
     "end_time": "2018-11-19T09:04:12.889818Z",
     "start_time": "2018-11-19T09:04:12.018768Z"
    }
   },
   "outputs": [
    {
     "name": "stdout",
     "output_type": "stream",
     "text": [
      "(1049, 2009)\n"
     ]
    },
    {
     "data": {
      "text/plain": [
       "['model/moe_class_labels_20181119.pkl.z']"
      ]
     },
     "execution_count": 39,
     "metadata": {},
     "output_type": "execute_result"
    }
   ],
   "source": [
    "# pipeline = Pipeline([\n",
    "#     ('features', FeatureUnion([\n",
    "#         ('tf_idf', Pipeline([\n",
    "#             ('counts', CountVectorizer(max_df=0.95, min_df=2)),\n",
    "#             ('tf_idf', TfidfTransformer()),\n",
    "#             ('chi', SelectKBest(chi2, k=2000))\n",
    "#         ])),\n",
    "#         ('len_stats', myclass_circ.StatsFeatures_cor()),\n",
    "#        # ('tf', myclass_circ.Statskeywords_cor(topk = 5000))\n",
    "#     ])),\n",
    "#     ('standard', StandardScaler(with_mean=False))\n",
    "# ])\n",
    "\n",
    "# pipeline_train = pipeline.fit(title_content, label)\n",
    "# X_features = pipeline_train.transform(title_content)\n",
    "# print(X_features.shape)\n",
    "\n",
    "# from sklearn.externals import joblib\n",
    "# joblib.dump(pipeline_train, \"model/%s_%s_pipeline_%s.pkl.z\"%(org, model, date))\n",
    "# joblib.dump(X_features, \"model/%s_%s_features_%s.pkl.z\"%(org, model, date))\n",
    "# joblib.dump(label, \"model/%s_%s_labels_%s.pkl.z\"%(org, model, date))"
   ]
  },
  {
   "cell_type": "code",
   "execution_count": null,
   "metadata": {
    "collapsed": true
   },
   "outputs": [],
   "source": [
    "# from sklearn.externals import joblib\n",
    "# pipeline_train = joblib.load( \"model/circ_class_pipeline_20181108.pkl.z\")\n",
    "# X_features = joblib.load( \"model/circ_class_features_20181108.pkl.z\")\n",
    "# label = joblib.load( \"model/circ_class_labels_20181108.pkl.z\")\n",
    "# print(X_features.shape)\n",
    "# print(len(label))"
   ]
  },
  {
   "cell_type": "markdown",
   "metadata": {},
   "source": [
    "### tf"
   ]
  },
  {
   "cell_type": "code",
   "execution_count": 1,
   "metadata": {
    "ExecuteTime": {
     "end_time": "2019-01-02T06:13:55.640574Z",
     "start_time": "2019-01-02T06:13:55.623573Z"
    }
   },
   "outputs": [],
   "source": [
    "# from collections import Counter\n",
    "# word_count = Counter(\" \".join(title_content).split())\n",
    "# # word_count_sel = word_count.most_common(2000)\n",
    "# # word_count_sel\n",
    "# # word_count\n",
    "\n",
    "# word_count = pd.DataFrame.from_dict(word_count, orient='index' ).reset_index()\n",
    "# word_count.columns = ['word', 'count']\n",
    "# word_count = word_count.sort_values(by = 'count', ascending = False)\n",
    "# print(word_count.shape)\n",
    "# word_count_sel = word_count.iloc[:2000, :]\n",
    "# print(word_count_sel.shape)\n",
    "# word_count_sel.to_excel(r'cor_result\\result\\word_count_20181120.xlsx', index = False)\n",
    "# word_count.head()"
   ]
  },
  {
   "cell_type": "markdown",
   "metadata": {},
   "source": [
    "## train & test"
   ]
  },
  {
   "cell_type": "code",
   "execution_count": 28,
   "metadata": {
    "ExecuteTime": {
     "end_time": "2018-11-19T08:16:25.495812Z",
     "start_time": "2018-11-19T08:16:25.332803Z"
    },
    "collapsed": true
   },
   "outputs": [],
   "source": [
    "# a = myclass_circ.Statskeywords_cor(5000)\n",
    "# len(a.keywords)"
   ]
  },
  {
   "cell_type": "code",
   "execution_count": 45,
   "metadata": {
    "ExecuteTime": {
     "end_time": "2019-01-02T09:48:01.262301Z",
     "start_time": "2019-01-02T09:47:41.115149Z"
    }
   },
   "outputs": [
    {
     "name": "stdout",
     "output_type": "stream",
     "text": [
      "0.9865448083269865\n"
     ]
    },
    {
     "data": {
      "text/plain": [
       "Pipeline(memory=None,\n",
       "     steps=[('features', FeatureUnion(n_jobs=None,\n",
       "       transformer_list=[('tf_idf', Pipeline(memory=None,\n",
       "     steps=[('counts', CountVectorizer(analyzer='word', binary=False, decode_error='strict',\n",
       "        dtype=<class 'numpy.int64'>, encoding='utf-8', input='content',\n",
       "        lowercase=True, max_df=...      reg_alpha=0, reg_lambda=1, scale_pos_weight=0.5, seed=None,\n",
       "       silent=True, subsample=1))])"
      ]
     },
     "execution_count": 45,
     "metadata": {},
     "output_type": "execute_result"
    }
   ],
   "source": [
    "pipeline = Pipeline([\n",
    "    ('features', FeatureUnion([\n",
    "        ('tf_idf', Pipeline([\n",
    "            ('counts', CountVectorizer(max_df=0.95, min_df=2)),\n",
    "            ('tf_idf', TfidfTransformer()),\n",
    "            ('chi', SelectKBest(chi2, k=20000))\n",
    "        ])),\n",
    "#         ('len_stats', myclass_circ.StatsFeatures_cor()),\n",
    "       # ('tf', myclass_circ.Statskeywords_cor(topk = 5000))\n",
    "    ])),\n",
    "    ('standard', StandardScaler(with_mean=False)),\n",
    "    ('classifier', XGBClassifier(max_depth=7,objective='binary:logistic', scale_pos_weight=0.5))\n",
    "])\n",
    "\n",
    "pipeline.fit(X_train, y_train)\n",
    "print(pipeline.score(X_train, y_train))\n",
    "pipeline"
   ]
  },
  {
   "cell_type": "code",
   "execution_count": 51,
   "metadata": {
    "ExecuteTime": {
     "end_time": "2019-01-02T09:55:09.836814Z",
     "start_time": "2019-01-02T09:55:09.137774Z"
    }
   },
   "outputs": [
    {
     "name": "stdout",
     "output_type": "stream",
     "text": [
      "AUC：0.935\n",
      "ACC: 0.967\n",
      "              precision    recall  f1-score   support\n",
      "\n",
      "           0       0.92      0.89      0.90       291\n",
      "           1       0.98      0.98      0.98      1398\n",
      "\n",
      "   micro avg       0.97      0.97      0.97      1689\n",
      "   macro avg       0.95      0.94      0.94      1689\n",
      "weighted avg       0.97      0.97      0.97      1689\n",
      "\n",
      "confusion_matrix: \n",
      "[[ 258   33]\n",
      " [  23 1375]]\n"
     ]
    }
   ],
   "source": [
    "y_pred_class = pipeline.predict(X_test)\n",
    "fpr, tpr, thresholds = metrics.roc_curve(y_test, y_pred_class)\n",
    "print('AUC：%0.3f'%metrics.auc(fpr, tpr))\n",
    "print('ACC: %0.3f'%metrics.accuracy_score(y_test, y_pred_class)) # 指所有分类正确的百分比\n",
    "print(metrics.classification_report(y_test, y_pred_class))\n",
    "print('confusion_matrix: ')\n",
    "print( metrics.confusion_matrix(y_test, y_pred_class))"
   ]
  },
  {
   "cell_type": "code",
   "execution_count": 53,
   "metadata": {
    "ExecuteTime": {
     "end_time": "2019-01-02T09:57:38.001289Z",
     "start_time": "2019-01-02T09:57:37.785277Z"
    }
   },
   "outputs": [
    {
     "ename": "TypeError",
     "evalue": "list indices must be integers or slices, not tuple",
     "output_type": "error",
     "traceback": [
      "\u001b[1;31m---------------------------------------------------------------------------\u001b[0m",
      "\u001b[1;31mTypeError\u001b[0m                                 Traceback (most recent call last)",
      "\u001b[1;32m<ipython-input-53-896b0ef92da7>\u001b[0m in \u001b[0;36m<module>\u001b[1;34m()\u001b[0m\n\u001b[0;32m      5\u001b[0m \u001b[0mn_classes\u001b[0m \u001b[1;33m=\u001b[0m \u001b[1;36m2\u001b[0m\u001b[1;33m\u001b[0m\u001b[0m\n\u001b[0;32m      6\u001b[0m \u001b[1;32mfor\u001b[0m \u001b[0mi\u001b[0m \u001b[1;32min\u001b[0m \u001b[0mrange\u001b[0m\u001b[1;33m(\u001b[0m\u001b[0mn_classes\u001b[0m\u001b[1;33m)\u001b[0m\u001b[1;33m:\u001b[0m\u001b[1;33m\u001b[0m\u001b[0m\n\u001b[1;32m----> 7\u001b[1;33m     \u001b[0mfpr\u001b[0m\u001b[1;33m[\u001b[0m\u001b[0mi\u001b[0m\u001b[1;33m]\u001b[0m\u001b[1;33m,\u001b[0m \u001b[0mtpr\u001b[0m\u001b[1;33m[\u001b[0m\u001b[0mi\u001b[0m\u001b[1;33m]\u001b[0m\u001b[1;33m,\u001b[0m \u001b[0m_\u001b[0m \u001b[1;33m=\u001b[0m \u001b[0mmetrics\u001b[0m\u001b[1;33m.\u001b[0m\u001b[0mroc_curve\u001b[0m\u001b[1;33m(\u001b[0m\u001b[0my_test\u001b[0m\u001b[1;33m[\u001b[0m\u001b[1;33m:\u001b[0m\u001b[1;33m,\u001b[0m \u001b[0mi\u001b[0m\u001b[1;33m]\u001b[0m\u001b[1;33m,\u001b[0m \u001b[0my_score\u001b[0m\u001b[1;33m[\u001b[0m\u001b[1;33m:\u001b[0m\u001b[1;33m,\u001b[0m \u001b[0mi\u001b[0m\u001b[1;33m]\u001b[0m\u001b[1;33m)\u001b[0m\u001b[1;33m\u001b[0m\u001b[0m\n\u001b[0m\u001b[0;32m      8\u001b[0m     \u001b[0mroc_auc\u001b[0m\u001b[1;33m[\u001b[0m\u001b[0mi\u001b[0m\u001b[1;33m]\u001b[0m \u001b[1;33m=\u001b[0m \u001b[0mauc\u001b[0m\u001b[1;33m(\u001b[0m\u001b[0mfpr\u001b[0m\u001b[1;33m[\u001b[0m\u001b[0mi\u001b[0m\u001b[1;33m]\u001b[0m\u001b[1;33m,\u001b[0m \u001b[0mtpr\u001b[0m\u001b[1;33m[\u001b[0m\u001b[0mi\u001b[0m\u001b[1;33m]\u001b[0m\u001b[1;33m)\u001b[0m\u001b[1;33m\u001b[0m\u001b[0m\n\u001b[0;32m      9\u001b[0m \u001b[1;33m\u001b[0m\u001b[0m\n",
      "\u001b[1;31mTypeError\u001b[0m: list indices must be integers or slices, not tuple"
     ]
    }
   ],
   "source": [
    "# Compute ROC curve and ROC area for each class\n",
    "fpr = dict()\n",
    "tpr = dict()\n",
    "roc_auc = dict()\n",
    "n_classes = 2\n",
    "for i in range(n_classes):\n",
    "    fpr[i], tpr[i], _ = metrics.roc_curve(y_test[:, i], y_score[:, i])\n",
    "    roc_auc[i] = auc(fpr[i], tpr[i])\n",
    "\n",
    "# Compute micro-average ROC curve and ROC area\n",
    "fpr[\"micro\"], tpr[\"micro\"], _ = metrics.roc_curve(y_test.ravel(), y_score.ravel())\n",
    "roc_auc[\"micro\"] = auc(fpr[\"micro\"], tpr[\"micro\"])"
   ]
  },
  {
   "cell_type": "code",
   "execution_count": null,
   "metadata": {},
   "outputs": [],
   "source": [
    "plt.figure()\n",
    "lw = 2\n",
    "plt.plot(fpr[2], tpr[2], color='darkorange',\n",
    "         lw=lw, label='ROC curve (area = %0.2f)' % roc_auc[2])\n",
    "plt.plot([0, 1], [0, 1], color='navy', lw=lw, linestyle='--')\n",
    "plt.xlim([0.0, 1.0])\n",
    "plt.ylim([0.0, 1.05])\n",
    "plt.xlabel('False Positive Rate')\n",
    "plt.ylabel('True Positive Rate')\n",
    "plt.title('Receiver operating characteristic example')\n",
    "plt.legend(loc=\"lower right\")\n",
    "plt.show()"
   ]
  },
  {
   "cell_type": "code",
   "execution_count": 35,
   "metadata": {
    "ExecuteTime": {
     "end_time": "2019-01-02T09:30:56.923713Z",
     "start_time": "2019-01-02T09:30:56.666698Z"
    }
   },
   "outputs": [
    {
     "name": "stdout",
     "output_type": "stream",
     "text": [
      "Help on class XGBClassifier in module xgboost.sklearn:\n",
      "\n",
      "class XGBClassifier(XGBModel, sklearn.base.ClassifierMixin)\n",
      " |  Implementation of the scikit-learn API for XGBoost classification.\n",
      " |  \n",
      " |      Parameters\n",
      " |  ----------\n",
      " |  max_depth : int\n",
      " |      Maximum tree depth for base learners.\n",
      " |  learning_rate : float\n",
      " |      Boosting learning rate (xgb's \"eta\")\n",
      " |  n_estimators : int\n",
      " |      Number of boosted trees to fit.\n",
      " |  silent : boolean\n",
      " |      Whether to print messages while running boosting.\n",
      " |  objective : string or callable\n",
      " |      Specify the learning task and the corresponding learning objective or\n",
      " |      a custom objective function to be used (see note below).\n",
      " |  booster: string\n",
      " |      Specify which booster to use: gbtree, gblinear or dart.\n",
      " |  nthread : int\n",
      " |      Number of parallel threads used to run xgboost.  (Deprecated, please use n_jobs)\n",
      " |  n_jobs : int\n",
      " |      Number of parallel threads used to run xgboost.  (replaces nthread)\n",
      " |  gamma : float\n",
      " |      Minimum loss reduction required to make a further partition on a leaf node of the tree.\n",
      " |  min_child_weight : int\n",
      " |      Minimum sum of instance weight(hessian) needed in a child.\n",
      " |  max_delta_step : int\n",
      " |      Maximum delta step we allow each tree's weight estimation to be.\n",
      " |  subsample : float\n",
      " |      Subsample ratio of the training instance.\n",
      " |  colsample_bytree : float\n",
      " |      Subsample ratio of columns when constructing each tree.\n",
      " |  colsample_bylevel : float\n",
      " |      Subsample ratio of columns for each split, in each level.\n",
      " |  reg_alpha : float (xgb's alpha)\n",
      " |      L1 regularization term on weights\n",
      " |  reg_lambda : float (xgb's lambda)\n",
      " |      L2 regularization term on weights\n",
      " |  scale_pos_weight : float\n",
      " |      Balancing of positive and negative weights.\n",
      " |  base_score:\n",
      " |      The initial prediction score of all instances, global bias.\n",
      " |  seed : int\n",
      " |      Random number seed.  (Deprecated, please use random_state)\n",
      " |  random_state : int\n",
      " |      Random number seed.  (replaces seed)\n",
      " |  missing : float, optional\n",
      " |      Value in the data which needs to be present as a missing value. If\n",
      " |      None, defaults to np.nan.\n",
      " |  **kwargs : dict, optional\n",
      " |      Keyword arguments for XGBoost Booster object.  Full documentation of parameters can\n",
      " |      be found here: https://github.com/dmlc/xgboost/blob/master/doc/parameter.md.\n",
      " |      Attempting to set a parameter via the constructor args and **kwargs dict simultaneously\n",
      " |      will result in a TypeError.\n",
      " |      Note:\n",
      " |          **kwargs is unsupported by Sklearn.  We do not guarantee that parameters passed via\n",
      " |          this argument will interact properly with Sklearn.\n",
      " |  \n",
      " |  Note\n",
      " |  ----\n",
      " |  A custom objective function can be provided for the ``objective``\n",
      " |  parameter. In this case, it should have the signature\n",
      " |  ``objective(y_true, y_pred) -> grad, hess``:\n",
      " |  \n",
      " |  y_true: array_like of shape [n_samples]\n",
      " |      The target values\n",
      " |  y_pred: array_like of shape [n_samples]\n",
      " |      The predicted values\n",
      " |  \n",
      " |  grad: array_like of shape [n_samples]\n",
      " |      The value of the gradient for each sample point.\n",
      " |  hess: array_like of shape [n_samples]\n",
      " |      The value of the second derivative for each sample point\n",
      " |  \n",
      " |  Method resolution order:\n",
      " |      XGBClassifier\n",
      " |      XGBModel\n",
      " |      sklearn.base.BaseEstimator\n",
      " |      sklearn.base.ClassifierMixin\n",
      " |      builtins.object\n",
      " |  \n",
      " |  Methods defined here:\n",
      " |  \n",
      " |  __init__(self, max_depth=3, learning_rate=0.1, n_estimators=100, silent=True, objective='binary:logistic', booster='gbtree', n_jobs=1, nthread=None, gamma=0, min_child_weight=1, max_delta_step=0, subsample=1, colsample_bytree=1, colsample_bylevel=1, reg_alpha=0, reg_lambda=1, scale_pos_weight=1, base_score=0.5, random_state=0, seed=None, missing=None, **kwargs)\n",
      " |      Initialize self.  See help(type(self)) for accurate signature.\n",
      " |  \n",
      " |  evals_result(self)\n",
      " |      Return the evaluation results.\n",
      " |      \n",
      " |      If eval_set is passed to the `fit` function, you can call evals_result() to\n",
      " |      get evaluation results for all passed eval_sets. When eval_metric is also\n",
      " |      passed to the `fit` function, the evals_result will contain the eval_metrics\n",
      " |      passed to the `fit` function\n",
      " |      \n",
      " |      Returns\n",
      " |      -------\n",
      " |      evals_result : dictionary\n",
      " |      \n",
      " |      Example\n",
      " |      -------\n",
      " |      param_dist = {'objective':'binary:logistic', 'n_estimators':2}\n",
      " |      \n",
      " |      clf = xgb.XGBClassifier(**param_dist)\n",
      " |      \n",
      " |      clf.fit(X_train, y_train,\n",
      " |              eval_set=[(X_train, y_train), (X_test, y_test)],\n",
      " |              eval_metric='logloss',\n",
      " |              verbose=True)\n",
      " |      \n",
      " |      evals_result = clf.evals_result()\n",
      " |      \n",
      " |      The variable evals_result will contain:\n",
      " |      {'validation_0': {'logloss': ['0.604835', '0.531479']},\n",
      " |       'validation_1': {'logloss': ['0.41965', '0.17686']}}\n",
      " |  \n",
      " |  fit(self, X, y, sample_weight=None, eval_set=None, eval_metric=None, early_stopping_rounds=None, verbose=True, xgb_model=None)\n",
      " |      Fit gradient boosting classifier\n",
      " |      \n",
      " |      Parameters\n",
      " |      ----------\n",
      " |      X : array_like\n",
      " |          Feature matrix\n",
      " |      y : array_like\n",
      " |          Labels\n",
      " |      sample_weight : array_like\n",
      " |          Weight for each instance\n",
      " |      eval_set : list, optional\n",
      " |          A list of (X, y) pairs to use as a validation set for\n",
      " |          early-stopping\n",
      " |      eval_metric : str, callable, optional\n",
      " |          If a str, should be a built-in evaluation metric to use. See\n",
      " |          doc/parameter.md. If callable, a custom evaluation metric. The call\n",
      " |          signature is func(y_predicted, y_true) where y_true will be a\n",
      " |          DMatrix object such that you may need to call the get_label\n",
      " |          method. It must return a str, value pair where the str is a name\n",
      " |          for the evaluation and value is the value of the evaluation\n",
      " |          function. This objective is always minimized.\n",
      " |      early_stopping_rounds : int, optional\n",
      " |          Activates early stopping. Validation error needs to decrease at\n",
      " |          least every <early_stopping_rounds> round(s) to continue training.\n",
      " |          Requires at least one item in evals.  If there's more than one,\n",
      " |          will use the last. Returns the model from the last iteration\n",
      " |          (not the best one). If early stopping occurs, the model will\n",
      " |          have three additional fields: bst.best_score, bst.best_iteration\n",
      " |          and bst.best_ntree_limit.\n",
      " |          (Use bst.best_ntree_limit to get the correct value if num_parallel_tree\n",
      " |          and/or num_class appears in the parameters)\n",
      " |      verbose : bool\n",
      " |          If `verbose` and an evaluation set is used, writes the evaluation\n",
      " |          metric measured on the validation set to stderr.\n",
      " |      xgb_model : str\n",
      " |          file name of stored xgb model or 'Booster' instance Xgb model to be\n",
      " |          loaded before training (allows training continuation).\n",
      " |  \n",
      " |  predict(self, data, output_margin=False, ntree_limit=0)\n",
      " |  \n",
      " |  predict_proba(self, data, output_margin=False, ntree_limit=0)\n",
      " |  \n",
      " |  ----------------------------------------------------------------------\n",
      " |  Methods inherited from XGBModel:\n",
      " |  \n",
      " |  __setstate__(self, state)\n",
      " |  \n",
      " |  apply(self, X, ntree_limit=0)\n",
      " |      Return the predicted leaf every tree for each sample.\n",
      " |      \n",
      " |      Parameters\n",
      " |      ----------\n",
      " |      X : array_like, shape=[n_samples, n_features]\n",
      " |          Input features matrix.\n",
      " |      \n",
      " |      ntree_limit : int\n",
      " |          Limit number of trees in the prediction; defaults to 0 (use all trees).\n",
      " |      \n",
      " |      Returns\n",
      " |      -------\n",
      " |      X_leaves : array_like, shape=[n_samples, n_trees]\n",
      " |          For each datapoint x in X and for each tree, return the index of the\n",
      " |          leaf x ends up in. Leaves are numbered within\n",
      " |          ``[0; 2**(self.max_depth+1))``, possibly with gaps in the numbering.\n",
      " |  \n",
      " |  get_booster(self)\n",
      " |      Get the underlying xgboost Booster of this model.\n",
      " |      \n",
      " |      This will raise an exception when fit was not called\n",
      " |      \n",
      " |      Returns\n",
      " |      -------\n",
      " |      booster : a xgboost booster of underlying model\n",
      " |  \n",
      " |  get_params(self, deep=False)\n",
      " |      Get parameters.\n",
      " |  \n",
      " |  get_xgb_params(self)\n",
      " |      Get xgboost type parameters.\n",
      " |  \n",
      " |  ----------------------------------------------------------------------\n",
      " |  Data descriptors inherited from XGBModel:\n",
      " |  \n",
      " |  feature_importances_\n",
      " |      Returns\n",
      " |      -------\n",
      " |      feature_importances_ : array of shape = [n_features]\n",
      " |  \n",
      " |  ----------------------------------------------------------------------\n",
      " |  Methods inherited from sklearn.base.BaseEstimator:\n",
      " |  \n",
      " |  __getstate__(self)\n",
      " |  \n",
      " |  __repr__(self)\n",
      " |      Return repr(self).\n",
      " |  \n",
      " |  set_params(self, **params)\n",
      " |      Set the parameters of this estimator.\n",
      " |      \n",
      " |      The method works on simple estimators as well as on nested objects\n",
      " |      (such as pipelines). The latter have parameters of the form\n",
      " |      ``<component>__<parameter>`` so that it's possible to update each\n",
      " |      component of a nested object.\n",
      " |      \n",
      " |      Returns\n",
      " |      -------\n",
      " |      self\n",
      " |  \n",
      " |  ----------------------------------------------------------------------\n",
      " |  Data descriptors inherited from sklearn.base.BaseEstimator:\n",
      " |  \n",
      " |  __dict__\n",
      " |      dictionary for instance variables (if defined)\n",
      " |  \n",
      " |  __weakref__\n",
      " |      list of weak references to the object (if defined)\n",
      " |  \n",
      " |  ----------------------------------------------------------------------\n",
      " |  Methods inherited from sklearn.base.ClassifierMixin:\n",
      " |  \n",
      " |  score(self, X, y, sample_weight=None)\n",
      " |      Returns the mean accuracy on the given test data and labels.\n",
      " |      \n",
      " |      In multi-label classification, this is the subset accuracy\n",
      " |      which is a harsh metric since you require for each sample that\n",
      " |      each label set be correctly predicted.\n",
      " |      \n",
      " |      Parameters\n",
      " |      ----------\n",
      " |      X : array-like, shape = (n_samples, n_features)\n",
      " |          Test samples.\n",
      " |      \n",
      " |      y : array-like, shape = (n_samples) or (n_samples, n_outputs)\n",
      " |          True labels for X.\n",
      " |      \n",
      " |      sample_weight : array-like, shape = [n_samples], optional\n",
      " |          Sample weights.\n",
      " |      \n",
      " |      Returns\n",
      " |      -------\n",
      " |      score : float\n",
      " |          Mean accuracy of self.predict(X) wrt. y.\n",
      "\n"
     ]
    }
   ],
   "source": [
    "help(XGBClassifier)"
   ]
  },
  {
   "cell_type": "markdown",
   "metadata": {},
   "source": [
    "## 不平衡样本"
   ]
  },
  {
   "cell_type": "code",
   "execution_count": null,
   "metadata": {
    "ExecuteTime": {
     "start_time": "2019-01-02T08:10:38.431Z"
    }
   },
   "outputs": [],
   "source": [
    "import pandas as pd\n",
    "# 过抽样处理库SMOTE\n",
    "from imblearn.over_sampling import SMOTE \n",
    "# 欠抽样处理库RandomUnderSampler\n",
    "from imblearn.under_sampling import RandomUnderSampler \n",
    "from sklearn.svm import SVC #SVM中的分类算法SVC\n",
    "# 简单集成方法EasyEnsemble\n",
    "from imblearn.ensemble import EasyEnsemble "
   ]
  },
  {
   "cell_type": "code",
   "execution_count": 32,
   "metadata": {
    "ExecuteTime": {
     "end_time": "2019-01-02T08:12:38.154958Z",
     "start_time": "2019-01-02T08:12:37.563925Z"
    }
   },
   "outputs": [
    {
     "ename": "ValueError",
     "evalue": "Expected 2D array, got 1D array instead:\narray=['合肥 条 道路 乱 停放 共享 单车 受罚 新华网 安徽 频道 记者 日前 合肥市 庐阳区 城 管委 获悉 庐阳区 划定 北 环路 长江中路 两条路 首批 共享 单车 严管 路段 含 山路 环城路 条 道路 共享 单车 禁停 路段 禁停 路段 发现 乱 停放 共享 单车 庐阳区 城 管委 督促 单车 企业 分钟 清运 拖移 处置 后期 用户 违停 收到 单车 平台 提醒 收取 调度 费 扣取 信用 分 影响 后续 用车 条 路段 为北 环路 长江中路 含 山路 环城路 宿州 路 可苑 路 茨 河路 义井路 一步 庐阳区 城 管委 督促 单车 企业 利用 电子 围栏 定位 技术 平台 显示 禁停 路段 庐阳区 城 管委 负 用户 执意 挪车 各家 单车 企业 收取 调度 费 扣取 信用 分 影响 后续 用车 希望 正面 清单 负面 清单 相结合 停放 管理模式 培养 市民 停车 习惯 维护 出行 环境'\n '高速路 倒车 走 错 挨罚 高速公路 倒车 危险 举动 近日 高 警局 湘潭 支队 民警 沪 昆 高速 东往 西 公里 塔岭 互通 处 路面 监控 抓拍 高速公路 行车道 停车 倒车 违法行为 事后 驾驶员 发现 危险 倒车 受罚 走 错 路 高 警局 湘潭 支队 湘潭 大队 民警 肖志威 介绍 视频 巡逻 民警 发现 岳临 高速 沪 昆 高速 交会 口有 一台 黑色 尼桑 小车 停 行车道 走 几米 车 停住 后方 车 纷纷 紧急制动 避让 小车 行车道 停车 慢慢 往后 倒车 见此 情况 湘潭 大队 指挥 研判 室 公安 网 系统 查询 车主 电话 通知 驾驶员 当日 下午 湘潭 大队 接受 驾驶员 郭某 介绍 当天 经沪昆 高速 转岳临 高速 益阳 南岳 走错 路 贸然 高速公路 倒车 实际上 郭某 当天 沪 昆 高速 塔岭 互通 倒车 驶入 匝道 前往 岳阳 方向 前往 南岳 方向 匝道 前方 余米 地方 用不着 倒车 最终 车主 处以 罚款 元 记分 处罚 邢佳'\n '台铁 出轨 事故 余人 死伤 名陆配 伤势 重 新华社 台北 月 日电 台湾 铁路局 消息 日时 台铁次 普悠玛 列车 出轨 翻覆 事故 死亡 受伤 台湾 死伤者 家属 舆论 希望 厘清 事故 原因 台铁 事故 官方 调查小组 负 超速 原因 邢佳'\n ...\n '四川 新开工 建设 交通 重点项目 总 投资 亿元 国内 第一 经济网 年 四川省 交通 重点项目 开工 动员 日 成都 青白江 该省 交通 重点项目 个国省 干线 项目 开工 交通 重点项目 涉及 四川省 经济区 城市群 市 高速公路 项目 为线 南充 成都 段 高速公路 扩容 工程 德昌 会理 高速公路 记者 到线 南充 成都 段 高速公路 国家 十纵 十横 综合 运输 大通道 横 六线 沿江 运输 通道 组成部分 国家 高速公路网 东西 横线 路段 国家 区域 高速公路网 中 地位 高速公路 最为 繁忙 最为 拥堵 高速公路 亟待 实施 扩容 改造 项目 建设 德昌 会理 高速公路 四川省 高速公路网 规划 中线 北京 昆明 线 成都 丽江 两条 国家 高速公路 联络线 项目 实施 会理 凉山州 州府 西昌 便捷 通道 一步 规划 乐山 云南 高速公路 会理 禄劝 段 衔接 通往 昆明 出川 通道 当日 开工 国省 干线 公路 项目 总 里程 公里 总 投资 亿元 线会 东鲁 昆山 隧道 线 会东县 城经 铅锌 镇至 野牛 坪 美姑县 峨美 公路 椅子 垭口 隧道 项目 四川省 甘孜 阿坝 凉山 三州 旅游 公路 扶贫 公路 线 犍为 石溪镇 泉水 镇段 线 锦屏 龙华 段 线 泸县 界经 白沙 白米 互通 段 项目 四川省 国省 干线 公路 提档 升级 项目 经济 干线 四川省 交通运输 厅 副厅长 张琪 年 年 四川省 进出 川 高速公路 大通道 拥挤 路段 扩容 建设 重点 加快 公路 水运 交通 基础设施 建设 三年 规划 投资 亿元 力争 年 高速公路 通车 总 里程 公里 建成 在建 总 里程 突破 公里 国道 二级 比重 省 道 三级 比重 油 路通 乡 硬化 路 具备条件 客车 通村 三个 目标 级 航道 总 里程 突破 公里 集装箱 吞吐能力 突破 万标箱 感谢您 访问 第一 经济网'\n '天津 航空公司 变相 收取 费用 月 日 乘坐 天津 航空公司 飞机 天津 行李 托运 时 告诉 我折 机票 托运 挂 羊头 卖狗肉 旅客 身上 强制 消费 托运费 天津 航空公司 取消 餐饮 收取 行李 托运费 航空公司 免费 公斤 行李 取消 打电话 天津 航空公司 客服 说 行李 想 说 提醒 态度恶劣 托运 时 告诉 我斤 元 财经 理财 黄金 外汇 股票 基金 功夫 财经网 此稿 网友 上传 至华声 在线 投诉 直通车 记者 进一步 调查核实 中 未经 华声 在线 许可 严禁 转载'\n '线 康定 市 过境 段 公路 项目 开工 网讯 月 日 年 全省 交通 重点项目 开工 动员 活动 总 投资 亿元 交通 重点项目 亮相 项目 涉及 五大 经济区 四大 城市群 市 掀起 全省 交通 建设 一轮 新 热潮 开工 项目 含线 南充 成都 段 高速公路 扩容 工程 德昌 会理 高速公路 高速公路 项目 总长 公里 投资 亿元 线会 东鲁 昆山 隧道 线 康定 市 过境 段 国省 干线 公路 项目 总长 公里 总 投资 亿元 交旅 融合 元素 这批 项目 中有 体现 新开工 国省 干线 公路 项目 有个 甘孜 阿坝 凉山州 旅游 公路 扶贫 公路 这批 项目 开工 建设 改善 区域 交通 条件 提高 通道 通行 能力 服务水平 实施 精准 扶贫 推动 交通 旅游 融合 发展 区域 经济社会 发展 旅游 资源 开发 服务 全省 干 五区 协同 区域 发展 新格局 意义 副省长 杨洪波 开工 王眉灵'].\nReshape your data either using array.reshape(-1, 1) if your data has a single feature or array.reshape(1, -1) if it contains a single sample.",
     "output_type": "error",
     "traceback": [
      "\u001b[1;31m---------------------------------------------------------------------------\u001b[0m",
      "\u001b[1;31mValueError\u001b[0m                                Traceback (most recent call last)",
      "\u001b[1;32m<ipython-input-32-0db3e632181e>\u001b[0m in \u001b[0;36m<module>\u001b[1;34m()\u001b[0m\n\u001b[0;32m      1\u001b[0m \u001b[0mmodel_smote\u001b[0m \u001b[1;33m=\u001b[0m \u001b[0mSMOTE\u001b[0m\u001b[1;33m(\u001b[0m\u001b[1;33m)\u001b[0m \u001b[1;31m# 建立SMOTE模型对象\u001b[0m\u001b[1;33m\u001b[0m\u001b[0m\n\u001b[1;32m----> 2\u001b[1;33m \u001b[0mx_smote_resampled\u001b[0m\u001b[1;33m,\u001b[0m \u001b[0my_smote_resampled\u001b[0m \u001b[1;33m=\u001b[0m \u001b[0mmodel_smote\u001b[0m\u001b[1;33m.\u001b[0m\u001b[0mfit_sample\u001b[0m\u001b[1;33m(\u001b[0m\u001b[0mtitle_content\u001b[0m\u001b[1;33m,\u001b[0m \u001b[0mlabel\u001b[0m\u001b[1;33m)\u001b[0m \u001b[1;31m# 输入数据并作过抽样处理\u001b[0m\u001b[1;33m\u001b[0m\u001b[0m\n\u001b[0m",
      "\u001b[1;32mD:\\software\\conda\\lib\\site-packages\\imblearn\\base.py\u001b[0m in \u001b[0;36mfit_resample\u001b[1;34m(self, X, y)\u001b[0m\n\u001b[0;32m     78\u001b[0m         \u001b[0mself\u001b[0m\u001b[1;33m.\u001b[0m\u001b[0m_deprecate_ratio\u001b[0m\u001b[1;33m(\u001b[0m\u001b[1;33m)\u001b[0m\u001b[1;33m\u001b[0m\u001b[0m\n\u001b[0;32m     79\u001b[0m \u001b[1;33m\u001b[0m\u001b[0m\n\u001b[1;32m---> 80\u001b[1;33m         \u001b[0mX\u001b[0m\u001b[1;33m,\u001b[0m \u001b[0my\u001b[0m\u001b[1;33m,\u001b[0m \u001b[0mbinarize_y\u001b[0m \u001b[1;33m=\u001b[0m \u001b[0mself\u001b[0m\u001b[1;33m.\u001b[0m\u001b[0m_check_X_y\u001b[0m\u001b[1;33m(\u001b[0m\u001b[0mX\u001b[0m\u001b[1;33m,\u001b[0m \u001b[0my\u001b[0m\u001b[1;33m)\u001b[0m\u001b[1;33m\u001b[0m\u001b[0m\n\u001b[0m\u001b[0;32m     81\u001b[0m \u001b[1;33m\u001b[0m\u001b[0m\n\u001b[0;32m     82\u001b[0m         self.sampling_strategy_ = check_sampling_strategy(\n",
      "\u001b[1;32mD:\\software\\conda\\lib\\site-packages\\imblearn\\base.py\u001b[0m in \u001b[0;36m_check_X_y\u001b[1;34m(X, y)\u001b[0m\n\u001b[0;32m    136\u001b[0m     \u001b[1;32mdef\u001b[0m \u001b[0m_check_X_y\u001b[0m\u001b[1;33m(\u001b[0m\u001b[0mX\u001b[0m\u001b[1;33m,\u001b[0m \u001b[0my\u001b[0m\u001b[1;33m)\u001b[0m\u001b[1;33m:\u001b[0m\u001b[1;33m\u001b[0m\u001b[0m\n\u001b[0;32m    137\u001b[0m         \u001b[0my\u001b[0m\u001b[1;33m,\u001b[0m \u001b[0mbinarize_y\u001b[0m \u001b[1;33m=\u001b[0m \u001b[0mcheck_target_type\u001b[0m\u001b[1;33m(\u001b[0m\u001b[0my\u001b[0m\u001b[1;33m,\u001b[0m \u001b[0mindicate_one_vs_all\u001b[0m\u001b[1;33m=\u001b[0m\u001b[1;32mTrue\u001b[0m\u001b[1;33m)\u001b[0m\u001b[1;33m\u001b[0m\u001b[0m\n\u001b[1;32m--> 138\u001b[1;33m         \u001b[0mX\u001b[0m\u001b[1;33m,\u001b[0m \u001b[0my\u001b[0m \u001b[1;33m=\u001b[0m \u001b[0mcheck_X_y\u001b[0m\u001b[1;33m(\u001b[0m\u001b[0mX\u001b[0m\u001b[1;33m,\u001b[0m \u001b[0my\u001b[0m\u001b[1;33m,\u001b[0m \u001b[0maccept_sparse\u001b[0m\u001b[1;33m=\u001b[0m\u001b[1;33m[\u001b[0m\u001b[1;34m'csr'\u001b[0m\u001b[1;33m,\u001b[0m \u001b[1;34m'csc'\u001b[0m\u001b[1;33m]\u001b[0m\u001b[1;33m)\u001b[0m\u001b[1;33m\u001b[0m\u001b[0m\n\u001b[0m\u001b[0;32m    139\u001b[0m         \u001b[1;32mreturn\u001b[0m \u001b[0mX\u001b[0m\u001b[1;33m,\u001b[0m \u001b[0my\u001b[0m\u001b[1;33m,\u001b[0m \u001b[0mbinarize_y\u001b[0m\u001b[1;33m\u001b[0m\u001b[0m\n\u001b[0;32m    140\u001b[0m \u001b[1;33m\u001b[0m\u001b[0m\n",
      "\u001b[1;32mD:\\software\\conda\\lib\\site-packages\\sklearn\\utils\\validation.py\u001b[0m in \u001b[0;36mcheck_X_y\u001b[1;34m(X, y, accept_sparse, accept_large_sparse, dtype, order, copy, force_all_finite, ensure_2d, allow_nd, multi_output, ensure_min_samples, ensure_min_features, y_numeric, warn_on_dtype, estimator)\u001b[0m\n\u001b[0;32m    754\u001b[0m                     \u001b[0mensure_min_features\u001b[0m\u001b[1;33m=\u001b[0m\u001b[0mensure_min_features\u001b[0m\u001b[1;33m,\u001b[0m\u001b[1;33m\u001b[0m\u001b[0m\n\u001b[0;32m    755\u001b[0m                     \u001b[0mwarn_on_dtype\u001b[0m\u001b[1;33m=\u001b[0m\u001b[0mwarn_on_dtype\u001b[0m\u001b[1;33m,\u001b[0m\u001b[1;33m\u001b[0m\u001b[0m\n\u001b[1;32m--> 756\u001b[1;33m                     estimator=estimator)\n\u001b[0m\u001b[0;32m    757\u001b[0m     \u001b[1;32mif\u001b[0m \u001b[0mmulti_output\u001b[0m\u001b[1;33m:\u001b[0m\u001b[1;33m\u001b[0m\u001b[0m\n\u001b[0;32m    758\u001b[0m         y = check_array(y, 'csr', force_all_finite=True, ensure_2d=False,\n",
      "\u001b[1;32mD:\\software\\conda\\lib\\site-packages\\sklearn\\utils\\validation.py\u001b[0m in \u001b[0;36mcheck_array\u001b[1;34m(array, accept_sparse, accept_large_sparse, dtype, order, copy, force_all_finite, ensure_2d, allow_nd, ensure_min_samples, ensure_min_features, warn_on_dtype, estimator)\u001b[0m\n\u001b[0;32m    550\u001b[0m                     \u001b[1;34m\"Reshape your data either using array.reshape(-1, 1) if \"\u001b[0m\u001b[1;33m\u001b[0m\u001b[0m\n\u001b[0;32m    551\u001b[0m                     \u001b[1;34m\"your data has a single feature or array.reshape(1, -1) \"\u001b[0m\u001b[1;33m\u001b[0m\u001b[0m\n\u001b[1;32m--> 552\u001b[1;33m                     \"if it contains a single sample.\".format(array))\n\u001b[0m\u001b[0;32m    553\u001b[0m \u001b[1;33m\u001b[0m\u001b[0m\n\u001b[0;32m    554\u001b[0m         \u001b[1;31m# in the future np.flexible dtypes will be handled like object dtypes\u001b[0m\u001b[1;33m\u001b[0m\u001b[1;33m\u001b[0m\u001b[0m\n",
      "\u001b[1;31mValueError\u001b[0m: Expected 2D array, got 1D array instead:\narray=['合肥 条 道路 乱 停放 共享 单车 受罚 新华网 安徽 频道 记者 日前 合肥市 庐阳区 城 管委 获悉 庐阳区 划定 北 环路 长江中路 两条路 首批 共享 单车 严管 路段 含 山路 环城路 条 道路 共享 单车 禁停 路段 禁停 路段 发现 乱 停放 共享 单车 庐阳区 城 管委 督促 单车 企业 分钟 清运 拖移 处置 后期 用户 违停 收到 单车 平台 提醒 收取 调度 费 扣取 信用 分 影响 后续 用车 条 路段 为北 环路 长江中路 含 山路 环城路 宿州 路 可苑 路 茨 河路 义井路 一步 庐阳区 城 管委 督促 单车 企业 利用 电子 围栏 定位 技术 平台 显示 禁停 路段 庐阳区 城 管委 负 用户 执意 挪车 各家 单车 企业 收取 调度 费 扣取 信用 分 影响 后续 用车 希望 正面 清单 负面 清单 相结合 停放 管理模式 培养 市民 停车 习惯 维护 出行 环境'\n '高速路 倒车 走 错 挨罚 高速公路 倒车 危险 举动 近日 高 警局 湘潭 支队 民警 沪 昆 高速 东往 西 公里 塔岭 互通 处 路面 监控 抓拍 高速公路 行车道 停车 倒车 违法行为 事后 驾驶员 发现 危险 倒车 受罚 走 错 路 高 警局 湘潭 支队 湘潭 大队 民警 肖志威 介绍 视频 巡逻 民警 发现 岳临 高速 沪 昆 高速 交会 口有 一台 黑色 尼桑 小车 停 行车道 走 几米 车 停住 后方 车 纷纷 紧急制动 避让 小车 行车道 停车 慢慢 往后 倒车 见此 情况 湘潭 大队 指挥 研判 室 公安 网 系统 查询 车主 电话 通知 驾驶员 当日 下午 湘潭 大队 接受 驾驶员 郭某 介绍 当天 经沪昆 高速 转岳临 高速 益阳 南岳 走错 路 贸然 高速公路 倒车 实际上 郭某 当天 沪 昆 高速 塔岭 互通 倒车 驶入 匝道 前往 岳阳 方向 前往 南岳 方向 匝道 前方 余米 地方 用不着 倒车 最终 车主 处以 罚款 元 记分 处罚 邢佳'\n '台铁 出轨 事故 余人 死伤 名陆配 伤势 重 新华社 台北 月 日电 台湾 铁路局 消息 日时 台铁次 普悠玛 列车 出轨 翻覆 事故 死亡 受伤 台湾 死伤者 家属 舆论 希望 厘清 事故 原因 台铁 事故 官方 调查小组 负 超速 原因 邢佳'\n ...\n '四川 新开工 建设 交通 重点项目 总 投资 亿元 国内 第一 经济网 年 四川省 交通 重点项目 开工 动员 日 成都 青白江 该省 交通 重点项目 个国省 干线 项目 开工 交通 重点项目 涉及 四川省 经济区 城市群 市 高速公路 项目 为线 南充 成都 段 高速公路 扩容 工程 德昌 会理 高速公路 记者 到线 南充 成都 段 高速公路 国家 十纵 十横 综合 运输 大通道 横 六线 沿江 运输 通道 组成部分 国家 高速公路网 东西 横线 路段 国家 区域 高速公路网 中 地位 高速公路 最为 繁忙 最为 拥堵 高速公路 亟待 实施 扩容 改造 项目 建设 德昌 会理 高速公路 四川省 高速公路网 规划 中线 北京 昆明 线 成都 丽江 两条 国家 高速公路 联络线 项目 实施 会理 凉山州 州府 西昌 便捷 通道 一步 规划 乐山 云南 高速公路 会理 禄劝 段 衔接 通往 昆明 出川 通道 当日 开工 国省 干线 公路 项目 总 里程 公里 总 投资 亿元 线会 东鲁 昆山 隧道 线 会东县 城经 铅锌 镇至 野牛 坪 美姑县 峨美 公路 椅子 垭口 隧道 项目 四川省 甘孜 阿坝 凉山 三州 旅游 公路 扶贫 公路 线 犍为 石溪镇 泉水 镇段 线 锦屏 龙华 段 线 泸县 界经 白沙 白米 互通 段 项目 四川省 国省 干线 公路 提档 升级 项目 经济 干线 四川省 交通运输 厅 副厅长 张琪 年 年 四川省 进出 川 高速公路 大通道 拥挤 路段 扩容 建设 重点 加快 公路 水运 交通 基础设施 建设 三年 规划 投资 亿元 力争 年 高速公路 通车 总 里程 公里 建成 在建 总 里程 突破 公里 国道 二级 比重 省 道 三级 比重 油 路通 乡 硬化 路 具备条件 客车 通村 三个 目标 级 航道 总 里程 突破 公里 集装箱 吞吐能力 突破 万标箱 感谢您 访问 第一 经济网'\n '天津 航空公司 变相 收取 费用 月 日 乘坐 天津 航空公司 飞机 天津 行李 托运 时 告诉 我折 机票 托运 挂 羊头 卖狗肉 旅客 身上 强制 消费 托运费 天津 航空公司 取消 餐饮 收取 行李 托运费 航空公司 免费 公斤 行李 取消 打电话 天津 航空公司 客服 说 行李 想 说 提醒 态度恶劣 托运 时 告诉 我斤 元 财经 理财 黄金 外汇 股票 基金 功夫 财经网 此稿 网友 上传 至华声 在线 投诉 直通车 记者 进一步 调查核实 中 未经 华声 在线 许可 严禁 转载'\n '线 康定 市 过境 段 公路 项目 开工 网讯 月 日 年 全省 交通 重点项目 开工 动员 活动 总 投资 亿元 交通 重点项目 亮相 项目 涉及 五大 经济区 四大 城市群 市 掀起 全省 交通 建设 一轮 新 热潮 开工 项目 含线 南充 成都 段 高速公路 扩容 工程 德昌 会理 高速公路 高速公路 项目 总长 公里 投资 亿元 线会 东鲁 昆山 隧道 线 康定 市 过境 段 国省 干线 公路 项目 总长 公里 总 投资 亿元 交旅 融合 元素 这批 项目 中有 体现 新开工 国省 干线 公路 项目 有个 甘孜 阿坝 凉山州 旅游 公路 扶贫 公路 这批 项目 开工 建设 改善 区域 交通 条件 提高 通道 通行 能力 服务水平 实施 精准 扶贫 推动 交通 旅游 融合 发展 区域 经济社会 发展 旅游 资源 开发 服务 全省 干 五区 协同 区域 发展 新格局 意义 副省长 杨洪波 开工 王眉灵'].\nReshape your data either using array.reshape(-1, 1) if your data has a single feature or array.reshape(1, -1) if it contains a single sample."
     ]
    }
   ],
   "source": [
    "model_smote = SMOTE() # 建立SMOTE模型对象\n",
    "x_smote_resampled, y_smote_resampled = model_smote.fit_sample(title_content, label) # 输入数据并作过抽样处理"
   ]
  },
  {
   "cell_type": "code",
   "execution_count": null,
   "metadata": {},
   "outputs": [],
   "source": [
    "# 使用SMOTE方法进行过抽样处理\n",
    "model_smote = SMOTE() # 建立SMOTE模型对象\n",
    "x_smote_resampled, y_smote_resampled = model_smote.fit_sample(x,y) # 输入数据并作过抽样处理\n",
    "x_smote_resampled = pd.DataFrame(x_smote_resampled, columns=['col1','col2', 'col3', 'col4', 'col5']) # 将数据转换为数据框并命名列名\n",
    "y_smote_resampled = pd.DataFrame(y_smote_resampled,columns=['label']) # 将数据转换为数据框并命名列名\n",
    "smote_resampled = pd.concat([x_smote_resampled, y_smote_resampled],axis=1) # 按列合并数据框\n",
    "groupby_data_smote = smote_resampled.groupby('label').count() # 对label做分类汇总\n",
    "print(groupby_data_smote) # 打印输出经过SMOTE处理后的数据集样本分类分布"
   ]
  },
  {
   "cell_type": "code",
   "execution_count": null,
   "metadata": {},
   "outputs": [],
   "source": [
    "title_content, label"
   ]
  },
  {
   "cell_type": "code",
   "execution_count": null,
   "metadata": {},
   "outputs": [],
   "source": []
  },
  {
   "cell_type": "markdown",
   "metadata": {},
   "source": [
    "## 概率结果"
   ]
  },
  {
   "cell_type": "code",
   "execution_count": 23,
   "metadata": {
    "ExecuteTime": {
     "end_time": "2019-01-02T06:30:08.738232Z",
     "start_time": "2019-01-02T06:30:07.506161Z"
    }
   },
   "outputs": [
    {
     "data": {
      "text/plain": [
       "<matplotlib.axes._subplots.AxesSubplot at 0x1c7b9390>"
      ]
     },
     "execution_count": 23,
     "metadata": {},
     "output_type": "execute_result"
    },
    {
     "data": {
      "image/png": "[encoded data removed]",
      "text/plain": [
       "<matplotlib.figure.Figure at 0x1a88fbe0>"
      ]
     },
     "metadata": {},
     "output_type": "display_data"
    }
   ],
   "source": [
    "y_pred_prob = pipeline.predict_proba(X_test)\n",
    "pd.DataFrame(y_pred_prob.max(axis = 1)).plot.hist(bins = 100)"
   ]
  },
  {
   "cell_type": "code",
   "execution_count": 24,
   "metadata": {
    "ExecuteTime": {
     "end_time": "2019-01-02T06:30:09.577280Z",
     "start_time": "2019-01-02T06:30:09.153256Z"
    }
   },
   "outputs": [
    {
     "data": {
      "text/html": [
       "<div>\n",
       "<style scoped>\n",
       "    .dataframe tbody tr th:only-of-type {\n",
       "        vertical-align: middle;\n",
       "    }\n",
       "\n",
       "    .dataframe tbody tr th {\n",
       "        vertical-align: top;\n",
       "    }\n",
       "\n",
       "    .dataframe thead th {\n",
       "        text-align: right;\n",
       "    }\n",
       "</style>\n",
       "<table border=\"1\" class=\"dataframe\">\n",
       "  <thead>\n",
       "    <tr style=\"text-align: right;\">\n",
       "      <th>proba</th>\n",
       "      <th>1.0</th>\n",
       "      <th>sum</th>\n",
       "    </tr>\n",
       "    <tr>\n",
       "      <th>predict_label</th>\n",
       "      <th></th>\n",
       "      <th></th>\n",
       "    </tr>\n",
       "  </thead>\n",
       "  <tbody>\n",
       "    <tr>\n",
       "      <th>0</th>\n",
       "      <td>169</td>\n",
       "      <td>169</td>\n",
       "    </tr>\n",
       "    <tr>\n",
       "      <th>1</th>\n",
       "      <td>1520</td>\n",
       "      <td>1520</td>\n",
       "    </tr>\n",
       "    <tr>\n",
       "      <th>sum</th>\n",
       "      <td>1689</td>\n",
       "      <td>1689</td>\n",
       "    </tr>\n",
       "  </tbody>\n",
       "</table>\n",
       "</div>"
      ],
      "text/plain": [
       "proba           1.0   sum\n",
       "predict_label            \n",
       "0               169   169\n",
       "1              1520  1520\n",
       "sum            1689  1689"
      ]
     },
     "execution_count": 24,
     "metadata": {},
     "output_type": "execute_result"
    },
    {
     "data": {
      "image/png": "[encoded data removed]",
      "text/plain": [
       "<matplotlib.figure.Figure at 0x1cec9160>"
      ]
     },
     "metadata": {},
     "output_type": "display_data"
    }
   ],
   "source": [
    "sel_data_stat = plot_class_proba(y_pred_class, y_pred_prob.max(axis = 1))\n",
    "sel_data_stat"
   ]
  },
  {
   "cell_type": "markdown",
   "metadata": {},
   "source": [
    "## K-fold"
   ]
  },
  {
   "cell_type": "code",
   "execution_count": 47,
   "metadata": {
    "ExecuteTime": {
     "end_time": "2019-01-02T09:50:10.922717Z",
     "start_time": "2019-01-02T09:49:08.534149Z"
    }
   },
   "outputs": [
    {
     "name": "stdout",
     "output_type": "stream",
     "text": [
      "data_raw:  (5628, 5)\n",
      "---- 1\n",
      "0.9791203909373611\n",
      "accuracy_score:  0.9174067495559503\n",
      "              precision    recall  f1-score   support\n",
      "\n",
      "           0       0.75      0.71      0.73       177\n",
      "           1       0.95      0.96      0.95       949\n",
      "\n",
      "   micro avg       0.92      0.92      0.92      1126\n",
      "   macro avg       0.85      0.83      0.84      1126\n",
      "weighted avg       0.92      0.92      0.92      1126\n",
      "\n",
      "confusion_matrix: \n",
      "[[125  52]\n",
      " [ 41 908]]\n",
      "---- 2\n",
      "0.9791203909373611\n",
      "accuracy_score:  0.9236234458259325\n",
      "              precision    recall  f1-score   support\n",
      "\n",
      "           0       0.83      0.73      0.77       203\n",
      "           1       0.94      0.97      0.95       923\n",
      "\n",
      "   micro avg       0.92      0.92      0.92      1126\n",
      "   macro avg       0.88      0.85      0.86      1126\n",
      "weighted avg       0.92      0.92      0.92      1126\n",
      "\n",
      "confusion_matrix: \n",
      "[[148  55]\n",
      " [ 31 892]]\n",
      "---- 3\n",
      "0.9793425144380276\n",
      "accuracy_score:  0.9218472468916519\n",
      "              precision    recall  f1-score   support\n",
      "\n",
      "           0       0.76      0.72      0.74       173\n",
      "           1       0.95      0.96      0.95       953\n",
      "\n",
      "   micro avg       0.92      0.92      0.92      1126\n",
      "   macro avg       0.85      0.84      0.85      1126\n",
      "weighted avg       0.92      0.92      0.92      1126\n",
      "\n",
      "confusion_matrix: \n",
      "[[124  49]\n",
      " [ 39 914]]\n",
      "---- 4\n",
      "0.9791250277592716\n",
      "accuracy_score:  0.8986666666666666\n",
      "              precision    recall  f1-score   support\n",
      "\n",
      "           0       0.73      0.68      0.70       200\n",
      "           1       0.93      0.95      0.94       925\n",
      "\n",
      "   micro avg       0.90      0.90      0.90      1125\n",
      "   macro avg       0.83      0.81      0.82      1125\n",
      "weighted avg       0.90      0.90      0.90      1125\n",
      "\n",
      "confusion_matrix: \n",
      "[[136  64]\n",
      " [ 50 875]]\n",
      "---- 5\n",
      "0.9766822118587608\n",
      "accuracy_score:  0.92\n",
      "              precision    recall  f1-score   support\n",
      "\n",
      "           0       0.76      0.70      0.73       172\n",
      "           1       0.95      0.96      0.95       953\n",
      "\n",
      "   micro avg       0.92      0.92      0.92      1125\n",
      "   macro avg       0.85      0.83      0.84      1125\n",
      "weighted avg       0.92      0.92      0.92      1125\n",
      "\n",
      "confusion_matrix: \n",
      "[[121  51]\n",
      " [ 39 914]]\n",
      "kfold_result:  (5628, 7)\n"
     ]
    }
   ],
   "source": [
    "pipeline = Pipeline([\n",
    "    ('features', FeatureUnion([\n",
    "        ('tf_idf', Pipeline([\n",
    "            ('counts', CountVectorizer(max_df=0.95, min_df=2)),\n",
    "            ('tf_idf', TfidfTransformer()),\n",
    "            ('chi', SelectKBest(chi2, k=2000))\n",
    "        ])),\n",
    "#         ('len_stats', myclass_circ.StatsFeatures_cor()),\n",
    "       # ('tf', myclass_circ.Statskeywords_cor(topk = 5000))\n",
    "    ])),\n",
    "    ('standard', StandardScaler(with_mean=False)),\n",
    "    ('classifier', XGBClassifier(max_depth=7,objective='binary:logistic', scale_pos_weight=0.5))\n",
    "])\n",
    "\n",
    "filename = 'mot_class_label_proba_20190102.xlsx'\n",
    "cal_kfold(title_content, label, pipeline, 'cor_result', filename, class_name_dict)"
   ]
  },
  {
   "cell_type": "code",
   "execution_count": null,
   "metadata": {
    "ExecuteTime": {
     "start_time": "2018-09-19T02:37:27.493Z"
    },
    "collapsed": true
   },
   "outputs": [],
   "source": [
    "# import xlrd\n",
    "\n",
    "# kfold_result = pd.DataFrame()\n",
    "\n",
    "# currentPath  = 'circ_result_class/corpus/circ_class_label_proba_20181008.xlsx'\n",
    "# excel = xlrd.open_workbook(currentPath)\n",
    "# sheet_names = [sheet.name for sheet in excel.sheets()]\n",
    "# for sheet_name in sheet_names:   \n",
    "#     tmp_data = pd.read_excel(currentPath, sheet_name)     \n",
    "#     kfold_result = pd.concat([kfold_result, tmp_data], axis = 0)\n",
    "\n",
    "# kfold_result.index = range(kfold_result.shape[0])\n",
    "# kfold_result.insert(0, '备注', '')\n",
    "# print('总数：', kfold_result.shape)\n",
    "# # kfold_result.head()"
   ]
  },
  {
   "cell_type": "code",
   "execution_count": null,
   "metadata": {
    "ExecuteTime": {
     "start_time": "2018-09-19T02:39:45.140Z"
    },
    "collapsed": true
   },
   "outputs": [],
   "source": [
    "# K_S_sel = kfold_result[(kfold_result['predict_proba'] < 0.65) | (kfold_result['R_W'] == 'Wrong')]\n",
    "# K_S_else = kfold_result[~((kfold_result['predict_proba'] < 0.65) | (kfold_result['R_W'] == 'Wrong'))]\n",
    "# print(kfold_result.shape)\n",
    "# print(K_S_else.shape)\n",
    "# print(K_S_sel.shape)\n",
    "# K_S_sel.groupby(['R_W', 'predict_label'])['label'].count()"
   ]
  },
  {
   "cell_type": "code",
   "execution_count": null,
   "metadata": {
    "collapsed": true
   },
   "outputs": [],
   "source": [
    "# fea_filename = 'cbrc_result_class/result/20181008_circ_class_sel.xlsx'\n",
    "# with pd.ExcelWriter(fea_filename) as writer:\n",
    "#     for label in K_S_sel['predict_label'].unique():\n",
    "#         tmp_data = K_S_sel[K_S_sel['predict_label'] == label]\n",
    "#         N = tmp_data.shape[0]\n",
    "#         tmp_data.sample(n = N, axis = 0, random_state=42).to_excel(writer,label, index = False)    \n",
    "#     writer.save()\n",
    "    \n",
    "# fea_filename = 'cbrc_result_class/result/20181008_circ_class_else.xlsx'\n",
    "# with pd.ExcelWriter(fea_filename) as writer:\n",
    "#     for label in K_S_else['predict_label'].unique():\n",
    "#         tmp_data = K_S_else[K_S_else['predict_label'] == label]\n",
    "#         N = tmp_data.shape[0]\n",
    "#         tmp_data.sample(n = N, axis = 0, random_state=42).to_excel(writer,label, index = False)    \n",
    "#     writer.save()    "
   ]
  },
  {
   "cell_type": "code",
   "execution_count": null,
   "metadata": {
    "ExecuteTime": {
     "start_time": "2018-09-19T02:39:51.232Z"
    },
    "collapsed": true
   },
   "outputs": [],
   "source": [
    "# y_test = kfold_result['predict_label'].tolist()\n",
    "# y_pred_class = kfold_result['label'].tolist()\n",
    "# print('accuracy_score: ', metrics.accuracy_score(y_test, y_pred_class)) # 指所有分类正确的百分比\n",
    "# print(metrics.classification_report(y_test, y_pred_class))\n",
    "# print('confusion_matrix: ')\n",
    "# print( metrics.confusion_matrix(y_test, y_pred_class))"
   ]
  },
  {
   "cell_type": "code",
   "execution_count": null,
   "metadata": {
    "ExecuteTime": {
     "start_time": "2018-09-19T02:39:51.922Z"
    },
    "collapsed": true
   },
   "outputs": [],
   "source": [
    "# y_pred_prob = kfold_result['predict_proba'].tolist()\n",
    "\n",
    "# sel_data_stat = plot_class_proba(y_pred_class, y_pred_prob)\n",
    "# sel_data_stat"
   ]
  },
  {
   "cell_type": "markdown",
   "metadata": {},
   "source": [
    "## 保存模型"
   ]
  },
  {
   "cell_type": "code",
   "execution_count": 26,
   "metadata": {
    "ExecuteTime": {
     "end_time": "2019-01-02T06:32:27.682179Z",
     "start_time": "2019-01-02T06:32:05.641918Z"
    }
   },
   "outputs": [
    {
     "name": "stdout",
     "output_type": "stream",
     "text": [
      "0.9818763326226013\n"
     ]
    },
    {
     "data": {
      "text/plain": [
       "Pipeline(memory=None,\n",
       "     steps=[('features', FeatureUnion(n_jobs=None,\n",
       "       transformer_list=[('tf_idf', Pipeline(memory=None,\n",
       "     steps=[('counts', CountVectorizer(analyzer='word', binary=False, decode_error='strict',\n",
       "        dtype=<class 'numpy.int64'>, encoding='utf-8', input='content',\n",
       "        lowercase=True, max_df=...tate=0, reg_alpha=0, reg_lambda=1, scale_pos_weight=1,\n",
       "       seed=None, silent=True, subsample=1))])"
      ]
     },
     "execution_count": 26,
     "metadata": {},
     "output_type": "execute_result"
    }
   ],
   "source": [
    "pipeline = Pipeline([\n",
    "    ('features', FeatureUnion([\n",
    "        ('tf_idf', Pipeline([\n",
    "            ('counts', CountVectorizer(max_df=0.95, min_df=2)),\n",
    "            ('tf_idf', TfidfTransformer()),\n",
    "            ('chi', SelectKBest(chi2, k=2000))\n",
    "        ])),\n",
    "#         ('len_stats', myclass_circ.StatsFeatures_cor()),\n",
    "        # ('tf', myclass_circ.Statskeywords_cor(topk = 5000))\n",
    "    ])),\n",
    "    ('standard', StandardScaler(with_mean=False)),\n",
    "    ('classifier', XGBClassifier(max_depth=7,objective='multi:softmax', num_class=2))\n",
    "])\n",
    "\n",
    "pipeline.fit(title_content, label)\n",
    "print(pipeline.score(title_content, label))\n",
    "pipeline"
   ]
  },
  {
   "cell_type": "code",
   "execution_count": 27,
   "metadata": {
    "ExecuteTime": {
     "end_time": "2019-01-02T06:32:30.616347Z",
     "start_time": "2019-01-02T06:32:28.041199Z"
    }
   },
   "outputs": [
    {
     "data": {
      "text/plain": [
       "['model/mot_cor_0102.pkl.z']"
      ]
     },
     "execution_count": 27,
     "metadata": {},
     "output_type": "execute_result"
    }
   ],
   "source": [
    "from sklearn.externals import joblib\n",
    "joblib.dump(pipeline, \"model/mot_cor_0102.pkl.z\")"
   ]
  },
  {
   "cell_type": "code",
   "execution_count": null,
   "metadata": {},
   "outputs": [],
   "source": []
  }
 ],
 "metadata": {
  "kernelspec": {
   "display_name": "Python 3",
   "language": "python",
   "name": "python3"
  },
  "language_info": {
   "codemirror_mode": {
    "name": "ipython",
    "version": 3
   },
   "file_extension": ".py",
   "mimetype": "text/x-python",
   "name": "python",
   "nbconvert_exporter": "python",
   "pygments_lexer": "ipython3",
   "version": "3.6.3"
  },
  "toc": {
   "nav_menu": {},
   "number_sections": true,
   "sideBar": true,
   "skip_h1_title": false,
   "title_cell": "Table of Contents",
   "title_sidebar": "Contents",
   "toc_cell": false,
   "toc_position": {
    "height": "calc(100% - 180px)",
    "left": "10px",
    "top": "150px",
    "width": "376px"
   },
   "toc_section_display": true,
   "toc_window_display": true
  },
  "varInspector": {
   "cols": {
    "lenName": 16,
    "lenType": 16,
    "lenVar": 40
   },
   "kernels_config": {
    "python": {
     "delete_cmd_postfix": "",
     "delete_cmd_prefix": "del ",
     "library": "var_list.py",
     "varRefreshCmd": "print(var_dic_list())"
    },
    "r": {
     "delete_cmd_postfix": ") ",
     "delete_cmd_prefix": "rm(",
     "library": "var_list.r",
     "varRefreshCmd": "cat(var_dic_list()) "
    }
   },
   "types_to_exclude": [
    "module",
    "function",
    "builtin_function_or_method",
    "instance",
    "_Feature"
   ],
   "window_display": false
  }
 },
 "nbformat": 4,
 "nbformat_minor": 2
}
