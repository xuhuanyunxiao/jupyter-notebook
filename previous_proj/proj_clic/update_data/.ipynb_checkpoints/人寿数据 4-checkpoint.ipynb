{
 "cells": [
  {
   "cell_type": "markdown",
   "metadata": {},
   "source": [
    "- 中国人寿及其同业数据，补充八分类和倾向性结果\n",
    "> - 七月及以前数据：db_docinfo_backup、db_docinfo_text_backup\n",
    "> - 七月之后数据：db_docinfo_trade、db_docinfo_text"
   ]
  },
  {
   "cell_type": "markdown",
   "metadata": {},
   "source": [
    "# 基本设置"
   ]
  },
  {
   "cell_type": "code",
   "execution_count": 1,
   "metadata": {
    "ExecuteTime": {
     "end_time": "2018-11-07T08:47:16.983498Z",
     "start_time": "2018-11-07T08:47:15.435410Z"
    },
    "collapsed": true
   },
   "outputs": [],
   "source": [
    "import numpy as np\n",
    "import pandas as pd\n",
    "import os\n",
    "import datetime\n",
    "\n",
    "import requests,json\n",
    "from sklearn.externals import joblib\n",
    "\n",
    "import seaborn as sns\n",
    "import matplotlib as mpl\n",
    "import matplotlib.pyplot as plt\n",
    "%matplotlib inline\n",
    "\n",
    "import warnings\n",
    "warnings.filterwarnings('ignore')"
   ]
  },
  {
   "cell_type": "code",
   "execution_count": 2,
   "metadata": {
    "ExecuteTime": {
     "end_time": "2018-11-07T08:47:17.010500Z",
     "start_time": "2018-11-07T08:47:16.998499Z"
    },
    "collapsed": true
   },
   "outputs": [],
   "source": [
    "from toolkits.setup.date_time import get_day_list\n",
    "from toolkits.setup import specific_func\n",
    "specific_func.set_ch_pd()"
   ]
  },
  {
   "cell_type": "markdown",
   "metadata": {},
   "source": [
    "# 连接数据库"
   ]
  },
  {
   "cell_type": "code",
   "execution_count": 3,
   "metadata": {
    "ExecuteTime": {
     "end_time": "2018-11-07T08:47:28.683167Z",
     "start_time": "2018-11-07T08:47:17.032501Z"
    },
    "collapsed": true
   },
   "outputs": [],
   "source": [
    "engine = specific_func.get_engine('cbirc')"
   ]
  },
  {
   "cell_type": "code",
   "execution_count": 4,
   "metadata": {
    "ExecuteTime": {
     "end_time": "2018-11-07T08:47:28.730170Z",
     "start_time": "2018-11-07T08:47:28.708169Z"
    }
   },
   "outputs": [
    {
     "data": {
      "text/plain": [
       "{1: '监管',\n",
       " 2: '行业',\n",
       " 3: '产品销售',\n",
       " 4: '资本市场',\n",
       " 5: '公司内部管理',\n",
       " 6: '消费服务',\n",
       " 7: '其他相关报道',\n",
       " 8: '噪音'}"
      ]
     },
     "execution_count": 4,
     "metadata": {},
     "output_type": "execute_result"
    }
   ],
   "source": [
    "label_dic={'监管':1,'行业':2,'产品销售':3,'资本市场':4,'公司内部管理':5,'消费服务':6,'其他相关报道':7,'噪音':8}\n",
    "class_name_dict = {v: k for k, v in label_dic.items()}\n",
    "class_name_dict"
   ]
  },
  {
   "cell_type": "markdown",
   "metadata": {},
   "source": [
    "# 七月及以前数据"
   ]
  },
  {
   "cell_type": "code",
   "execution_count": 5,
   "metadata": {
    "ExecuteTime": {
     "end_time": "2018-11-07T08:47:28.840176Z",
     "start_time": "2018-11-07T08:47:28.752171Z"
    },
    "collapsed": true
   },
   "outputs": [],
   "source": [
    "ip_port = '47.93.183.157:10000'\n",
    "\n",
    "headers={'content-type':'application/json'}\n",
    "url_cor = \"http://%s/judge_correlation_i\"%ip_port\n",
    "url_tend = \"http://%s/tendency_analysis_i\"%ip_port\n",
    "url_warn = \"http://%s/early_warning_i\"%ip_port"
   ]
  },
  {
   "cell_type": "markdown",
   "metadata": {},
   "source": [
    "# 七月之后数据"
   ]
  },
  {
   "cell_type": "code",
   "execution_count": 6,
   "metadata": {
    "ExecuteTime": {
     "end_time": "2018-11-07T08:48:57.148227Z",
     "start_time": "2018-11-07T08:47:28.868178Z"
    }
   },
   "outputs": [
    {
     "name": "stdout",
     "output_type": "stream",
     "text": [
      "raw/同业  8-10月.xlsx   ----------------\n",
      "总量： (69244, 12)\n",
      "缺失值数量： (16560, 12)\n",
      "无缺失值数量： (52684, 12)\n",
      "id_list:  6070\n",
      "count:  [6070]\n",
      "title_content:  (6070, 3)\n"
     ]
    },
    {
     "ename": "NameError",
     "evalue": "name 'i' is not defined",
     "output_type": "error",
     "traceback": [
      "\u001b[1;31m---------------------------------------------------------------------------\u001b[0m",
      "\u001b[1;31mNameError\u001b[0m                                 Traceback (most recent call last)",
      "\u001b[1;32m<ipython-input-6-57da31020356>\u001b[0m in \u001b[0;36m<module>\u001b[1;34m()\u001b[0m\n\u001b[0;32m     24\u001b[0m \u001b[0mprint\u001b[0m\u001b[1;33m(\u001b[0m\u001b[1;34m'title_content: '\u001b[0m\u001b[1;33m,\u001b[0m \u001b[0mtitle_content\u001b[0m\u001b[1;33m.\u001b[0m\u001b[0mshape\u001b[0m\u001b[1;33m)\u001b[0m\u001b[1;33m\u001b[0m\u001b[0m\n\u001b[0;32m     25\u001b[0m \u001b[1;33m\u001b[0m\u001b[0m\n\u001b[1;32m---> 26\u001b[1;33m \u001b[0mprint\u001b[0m\u001b[1;33m(\u001b[0m\u001b[1;34m'    %s  title_id: '\u001b[0m\u001b[1;33m%\u001b[0m\u001b[0mi\u001b[0m\u001b[1;33m,\u001b[0m \u001b[0mtitle_id\u001b[0m\u001b[1;33m.\u001b[0m\u001b[0mshape\u001b[0m\u001b[1;33m)\u001b[0m\u001b[1;33m\u001b[0m\u001b[0m\n\u001b[0m\u001b[0;32m     27\u001b[0m \u001b[0mprint\u001b[0m\u001b[1;33m(\u001b[0m\u001b[1;34m'    %s  content_id: '\u001b[0m\u001b[1;33m%\u001b[0m\u001b[0mi\u001b[0m\u001b[1;33m,\u001b[0m \u001b[0mcontent_id\u001b[0m\u001b[1;33m.\u001b[0m\u001b[0mshape\u001b[0m\u001b[1;33m)\u001b[0m\u001b[1;33m\u001b[0m\u001b[0m\n\u001b[0;32m     28\u001b[0m \u001b[0mprint\u001b[0m\u001b[1;33m(\u001b[0m\u001b[1;34m'    %s  title_content: '\u001b[0m\u001b[1;33m%\u001b[0m\u001b[0mi\u001b[0m\u001b[1;33m,\u001b[0m \u001b[0mtitle_content\u001b[0m\u001b[1;33m.\u001b[0m\u001b[0mshape\u001b[0m\u001b[1;33m)\u001b[0m\u001b[1;33m\u001b[0m\u001b[0m\n",
      "\u001b[1;31mNameError\u001b[0m: name 'i' is not defined"
     ]
    }
   ],
   "source": [
    "filename = 'raw/同业  8-10月.xlsx'\n",
    "print(filename, '  ----------------')\n",
    "data = pd.read_excel(filename)\n",
    "data_null = data[data['八大分险类型'].isnull() | data['文章倾向性'].isnull()]\n",
    "data_full = data[data['八大分险类型'].notnull() & data['文章倾向性'].notnull()]\n",
    "print('总量：', data.shape)\n",
    "print('缺失值数量：', data_null.shape)\n",
    "print('无缺失值数量：', data_full.shape)\n",
    "\n",
    "id_list = tuple(data_null['id'].unique().tolist())\n",
    "print('id_list: ', len(id_list))\n",
    "\n",
    "sql_count = \"select count(t1.id) \\\n",
    "                    from db_docinfo t1 \\\n",
    "                        where t1.id in {0}\".format(id_list)\n",
    "count = pd.read_sql_query(sql_count, engine)\n",
    "print('count: ', list(count.values)[0])\n",
    "\n",
    "sql_title = \"select t1.id, t1.title \\\n",
    "                    from db_docinfo t1 \\\n",
    "                        where t1.id in {0}\".format(id_list)\n",
    "\n",
    "sql_content = \"select t1.id, t2.text as content \\\n",
    "                    from db_docinfo t1, db_docinfo_text t2 \\\n",
    "                        where t1.urlhash = t2.urlhash \\\n",
    "                            and t1.id in {0}\".format(id_list)\n",
    "\n",
    "title_id = pd.read_sql_query(sql_title, engine)\n",
    "content_id = pd.read_sql_query(sql_content, engine)\n",
    "title_content = pd.merge(title_id, content_id, on = 'id', how = 'left')\n",
    "print('title_content: ', title_content.shape)"
   ]
  },
  {
   "cell_type": "code",
   "execution_count": 7,
   "metadata": {
    "ExecuteTime": {
     "end_time": "2018-11-07T08:51:16.886220Z",
     "start_time": "2018-11-07T08:50:32.250667Z"
    }
   },
   "outputs": [
    {
     "name": "stdout",
     "output_type": "stream",
     "text": [
      "id_list_sel:  0 100\n",
      "id_list_sel:  100 200\n",
      "id_list_sel:  200 300\n",
      "id_list_sel:  300 400\n",
      "id_list_sel:  400 500\n",
      "id_list_sel:  500 600\n",
      "id_list_sel:  600 700\n",
      "id_list_sel:  700 800\n",
      "id_list_sel:  800 900\n",
      "id_list_sel:  900 1000\n",
      "id_list_sel:  1000 1100\n",
      "id_list_sel:  1100 1200\n",
      "id_list_sel:  1200 1300\n",
      "id_list_sel:  1300 1400\n",
      "id_list_sel:  1400 1500\n",
      "id_list_sel:  1500 1600\n",
      "id_list_sel:  1600 1700\n",
      "id_list_sel:  1700 1800\n",
      "id_list_sel:  1800 1900\n",
      "id_list_sel:  1900 2000\n",
      "id_list_sel:  2000 2100\n",
      "id_list_sel:  2100 2200\n",
      "id_list_sel:  2200 2300\n",
      "id_list_sel:  2300 2400\n",
      "id_list_sel:  2400 2500\n",
      "id_list_sel:  2500 2600\n",
      "id_list_sel:  2600 2700\n",
      "id_list_sel:  2700 2800\n",
      "id_list_sel:  2800 2900\n",
      "id_list_sel:  2900 3000\n",
      "id_list_sel:  3000 3100\n",
      "id_list_sel:  3100 3200\n",
      "id_list_sel:  3200 3300\n",
      "id_list_sel:  3300 3400\n",
      "id_list_sel:  3400 3500\n",
      "id_list_sel:  3500 3600\n",
      "id_list_sel:  3600 3700\n",
      "id_list_sel:  3700 3800\n",
      "id_list_sel:  3800 3900\n",
      "id_list_sel:  3900 4000\n",
      "id_list_sel:  4000 4100\n",
      "id_list_sel:  4100 4200\n",
      "id_list_sel:  4200 4300\n",
      "id_list_sel:  4300 4400\n",
      "id_list_sel:  4400 4500\n",
      "id_list_sel:  4500 4600\n",
      "id_list_sel:  4600 4700\n",
      "id_list_sel:  4700 4800\n",
      "id_list_sel:  4800 4900\n",
      "id_list_sel:  4900 5000\n",
      "id_list_sel:  5000 5100\n",
      "id_list_sel:  5100 5200\n",
      "id_list_sel:  5200 5300\n",
      "id_list_sel:  5300 5400\n",
      "id_list_sel:  5400 5500\n",
      "id_list_sel:  5500 5600\n",
      "id_list_sel:  5600 5700\n",
      "id_list_sel:  5700 5800\n",
      "cor elapsed_time:  2.00\n",
      "tend elapsed_time:  13.00\n",
      "    57  title_id:  (6070, 2)\n",
      "    57  content_id:  (6070, 2)\n",
      "    57  title_content:  (6070, 3)\n",
      "    57  title_content_com:  (100, 3)\n",
      "id_list_sel:  5800 5900\n",
      "cor elapsed_time:  2.00\n",
      "    58  title_id:  (6070, 2)\n",
      "    58  content_id:  (6070, 2)\n",
      "    58  title_content:  (6070, 3)\n",
      "    58  title_content_com:  (100, 3)\n",
      "id_list_sel:  5900 6000\n",
      "cor elapsed_time:  2.00\n",
      "tend elapsed_time:  12.00\n",
      "    59  title_id:  (6070, 2)\n",
      "    59  content_id:  (6070, 2)\n",
      "    59  title_content:  (6070, 3)\n",
      "    59  title_content_com:  (200, 3)\n",
      "id_list_sel:  6000 6100\n",
      "cor elapsed_time:  1.00\n",
      "tend elapsed_time:  6.00\n",
      "    60  title_id:  (6070, 2)\n",
      "    60  content_id:  (6070, 2)\n",
      "    60  title_content:  (6070, 3)\n",
      "    60  title_content_com:  (270, 3)\n"
     ]
    }
   ],
   "source": [
    "chunksize = 100\n",
    "loop = int(len(id_list) / chunksize) + 1\n",
    "title_content_com = pd.DataFrame()\n",
    "\n",
    "for i in range(loop):\n",
    "    print('id_list_sel: ', 0 + i * chunksize, chunksize + i * chunksize)        \n",
    "    data = {\"types\":3, \"record\":title_content.iloc[0 + i * chunksize:chunksize + i * chunksize,\n",
    "                                                   [0, 1, 2]].to_dict(orient = 'records')}\n",
    "\n",
    "    if i < 57: continue\n",
    "        \n",
    "    # 相关性模型\n",
    "    result = requests.post(url_cor, data = json.dumps(data),\n",
    "                           headers=headers, allow_redirects=True)\n",
    "    json_data = json.loads(result.text)\n",
    "    cor_elapsed_time = json_data['elapsed_time']\n",
    "    print('cor elapsed_time: ', cor_elapsed_time)\n",
    "    cor_list = [[j['cor'], j['id']] for j in json_data['docs']]\n",
    "    cor_list = pd.DataFrame(cor_list, columns = ['八大分险类型', 'id'])\n",
    "\n",
    "    # 倾向性模型\n",
    "    if i != 58:\n",
    "        try :\n",
    "            result = requests.post(url_tend, data = json.dumps(data),\n",
    "                                   headers=headers, allow_redirects=True)\n",
    "            json_data = json.loads(result.text)\n",
    "            tend_elapsed_time = json_data['elapsed_time'] \n",
    "            print('tend elapsed_time: ', tend_elapsed_time)\n",
    "            tendency_list = [[j['tendency'], j['id']] for j in json_data['docs']]            \n",
    "        except Exception as e:\n",
    "            print('error: ', e)\n",
    "            tendency_list = []\n",
    "            for index in range(len(data['record'])):\n",
    "    #                 print(index, '.................')\n",
    "                data_sel = {\"types\":3, \"record\":[data['record'][index]]}\n",
    "    #                 print('data_sel: ', data_sel)\n",
    "                try :\n",
    "                    result = requests.post(url_tend, data = json.dumps(data_sel),\n",
    "                                           headers=headers, allow_redirects=True)\n",
    "                    json_data = json.loads(result.text) \n",
    "                    tendency_list.append([json_data['docs'][0]['tendency'], json_data['docs'][0]['id']])\n",
    "                except Exception as e1:\n",
    "                    print('error again...    ', e1)\n",
    "                    print(data['record'][index])\n",
    "                    tendency_list.append([0, data['record'][index]['id']])  \n",
    "    else :\n",
    "        tendency_list = []\n",
    "        for index in range(len(data['record'])):\n",
    "            tendency_list.append([0, data['record'][index]['id']])         \n",
    "\n",
    "    tendency_list = pd.DataFrame(tendency_list, columns = ['文章倾向性', 'id'])\n",
    "\n",
    "    cor_tend = pd.merge(cor_list, tendency_list, on = 'id', how = 'inner')\n",
    "    title_content_com = pd.concat([title_content_com, cor_tend], axis = 0)                \n",
    "    print('    %s  title_id: '%i, title_id.shape)\n",
    "    print('    %s  content_id: '%i, content_id.shape)\n",
    "    print('    %s  title_content: '%i, title_content.shape)\n",
    "    print('    %s  title_content_com: '%i, title_content_com.shape)\n",
    "    cor_tend.to_excel('res/cor_tend_%s.xlsx'%i, index = False)"
   ]
  },
  {
   "cell_type": "code",
   "execution_count": 9,
   "metadata": {
    "ExecuteTime": {
     "end_time": "2018-11-07T08:55:00.330000Z",
     "start_time": "2018-11-07T08:54:59.811971Z"
    }
   },
   "outputs": [
    {
     "name": "stdout",
     "output_type": "stream",
     "text": [
      "    0  title_content_com:  (100, 3)\n",
      "    1  title_content_com:  (200, 3)\n",
      "    2  title_content_com:  (300, 3)\n",
      "    3  title_content_com:  (400, 3)\n",
      "    4  title_content_com:  (500, 3)\n",
      "    5  title_content_com:  (600, 3)\n",
      "    6  title_content_com:  (700, 3)\n",
      "    7  title_content_com:  (800, 3)\n",
      "    8  title_content_com:  (900, 3)\n",
      "    9  title_content_com:  (1000, 3)\n",
      "    10  title_content_com:  (1100, 3)\n",
      "    11  title_content_com:  (1200, 3)\n",
      "    12  title_content_com:  (1300, 3)\n",
      "    13  title_content_com:  (1400, 3)\n",
      "    14  title_content_com:  (1500, 3)\n",
      "    15  title_content_com:  (1600, 3)\n",
      "    16  title_content_com:  (1700, 3)\n",
      "    17  title_content_com:  (1800, 3)\n",
      "    18  title_content_com:  (1900, 3)\n",
      "    19  title_content_com:  (2000, 3)\n",
      "    20  title_content_com:  (2100, 3)\n",
      "    21  title_content_com:  (2200, 3)\n",
      "    22  title_content_com:  (2300, 3)\n",
      "    23  title_content_com:  (2400, 3)\n",
      "    24  title_content_com:  (2500, 3)\n",
      "    25  title_content_com:  (2600, 3)\n",
      "    26  title_content_com:  (2700, 3)\n",
      "    27  title_content_com:  (2800, 3)\n",
      "    28  title_content_com:  (2900, 3)\n",
      "    29  title_content_com:  (3000, 3)\n",
      "    30  title_content_com:  (3100, 3)\n",
      "    31  title_content_com:  (3200, 3)\n",
      "    32  title_content_com:  (3300, 3)\n",
      "    33  title_content_com:  (3400, 3)\n",
      "    34  title_content_com:  (3500, 3)\n",
      "    35  title_content_com:  (3600, 3)\n",
      "    36  title_content_com:  (3700, 3)\n",
      "    37  title_content_com:  (3800, 3)\n",
      "    38  title_content_com:  (3900, 3)\n",
      "    39  title_content_com:  (4000, 3)\n",
      "    40  title_content_com:  (4100, 3)\n",
      "    41  title_content_com:  (4200, 3)\n",
      "    42  title_content_com:  (4300, 3)\n",
      "    43  title_content_com:  (4400, 3)\n",
      "    44  title_content_com:  (4500, 3)\n",
      "    45  title_content_com:  (4600, 3)\n",
      "    46  title_content_com:  (4600, 3)\n",
      "    47  title_content_com:  (4700, 3)\n",
      "    48  title_content_com:  (4800, 3)\n",
      "    49  title_content_com:  (4900, 3)\n",
      "    50  title_content_com:  (5000, 3)\n",
      "    51  title_content_com:  (5100, 3)\n",
      "    52  title_content_com:  (5200, 3)\n",
      "    53  title_content_com:  (5300, 3)\n",
      "    54  title_content_com:  (5400, 3)\n",
      "    55  title_content_com:  (5500, 3)\n",
      "    56  title_content_com:  (5600, 3)\n",
      "    57  title_content_com:  (5700, 3)\n",
      "    58  title_content_com:  (5700, 3)\n",
      "    59  title_content_com:  (5800, 3)\n",
      "    60  title_content_com:  (5870, 3)\n",
      "title_content_com:  (5870, 3)\n"
     ]
    }
   ],
   "source": [
    "chunksize = 100\n",
    "loop = int(len(id_list) / chunksize) + 1\n",
    "title_content_com = pd.DataFrame()\n",
    "\n",
    "for i in range(loop):\n",
    "#     print(i, '-----')\n",
    "    cor_tend = pd.read_excel('res/cor_tend_%s.xlsx'%i)\n",
    "    title_content_com = pd.concat([title_content_com, cor_tend], axis = 0)    \n",
    "    print('    %s  title_content_com: '%i, title_content_com.shape)\n",
    "\n",
    "print('title_content_com: ', title_content_com.shape)    "
   ]
  },
  {
   "cell_type": "code",
   "execution_count": null,
   "metadata": {
    "ExecuteTime": {
     "start_time": "2018-11-07T08:02:24.064Z"
    },
    "collapsed": true
   },
   "outputs": [],
   "source": [
    "title_content_com.index = range(title_content_com.shape[0])\n",
    "data_null = data_null.drop(['八大分险类型', '文章倾向性'], axis = 1)\n",
    "print('data_null: ', data_null.shape) \n",
    "data_null = pd.merge(data_null, title_content_com, on = 'id', how = 'left')\n",
    "print('combined_data: ', data_null.shape)    \n",
    "data_null_still = data_null[data_null['八大分险类型'].isnull() | data_null['文章倾向性'].isnull()]\n",
    "print('data_null_still: ', data_null_still.shape) \n",
    "data_null['八大分险类型'] = data_null['八大分险类型'].apply(lambda x: class_name_dict[x])\n",
    "data_null['文章倾向性'] = data_null['文章倾向性'].apply(lambda x: '非负' if x == 0 else '负面')\n",
    "\n",
    "update_data = pd.concat([data_null, data_full], axis = 0)\n",
    "print('update_data: ', update_data.shape) \n",
    "\n",
    "writer = pd.ExcelWriter('result/{0}'.format(filename.split('/')[1]),\n",
    "                        engine='xlsxwriter',\n",
    "                        options={'strings_to_urls': False})\n",
    "\n",
    "update_data.to_excel(writer, sheet_name='Sheet1', index = False)\n",
    "writer.save()    "
   ]
  },
  {
   "cell_type": "code",
   "execution_count": null,
   "metadata": {
    "collapsed": true
   },
   "outputs": [],
   "source": []
  }
 ],
 "metadata": {
  "kernelspec": {
   "display_name": "Python 3",
   "language": "python",
   "name": "python3"
  },
  "language_info": {
   "codemirror_mode": {
    "name": "ipython",
    "version": 3
   },
   "file_extension": ".py",
   "mimetype": "text/x-python",
   "name": "python",
   "nbconvert_exporter": "python",
   "pygments_lexer": "ipython3",
   "version": "3.6.3"
  },
  "toc": {
   "nav_menu": {},
   "number_sections": true,
   "sideBar": true,
   "skip_h1_title": false,
   "title_cell": "Table of Contents",
   "title_sidebar": "Contents",
   "toc_cell": false,
   "toc_position": {},
   "toc_section_display": true,
   "toc_window_display": true
  },
  "varInspector": {
   "cols": {
    "lenName": 16,
    "lenType": 16,
    "lenVar": 40
   },
   "kernels_config": {
    "python": {
     "delete_cmd_postfix": "",
     "delete_cmd_prefix": "del ",
     "library": "var_list.py",
     "varRefreshCmd": "print(var_dic_list())"
    },
    "r": {
     "delete_cmd_postfix": ") ",
     "delete_cmd_prefix": "rm(",
     "library": "var_list.r",
     "varRefreshCmd": "cat(var_dic_list()) "
    }
   },
   "position": {
    "height": "739px",
    "left": "1510px",
    "right": "20px",
    "top": "120px",
    "width": "350px"
   },
   "types_to_exclude": [
    "module",
    "function",
    "builtin_function_or_method",
    "instance",
    "_Feature"
   ],
   "window_display": false
  }
 },
 "nbformat": 4,
 "nbformat_minor": 2
}
