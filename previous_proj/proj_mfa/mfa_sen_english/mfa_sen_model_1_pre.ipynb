{
 "cells": [
  {
   "cell_type": "markdown",
   "metadata": {},
   "source": [
    "- 保监会 相关性模型 1 预处理"
   ]
  },
  {
   "cell_type": "markdown",
   "metadata": {},
   "source": [
    "# 基本设置"
   ]
  },
  {
   "cell_type": "code",
   "execution_count": 1,
   "metadata": {
    "ExecuteTime": {
     "end_time": "2018-08-28T01:21:08.645281Z",
     "start_time": "2018-08-28T01:21:05.827120Z"
    },
    "collapsed": true
   },
   "outputs": [],
   "source": [
    "import jieba\n",
    "import sys\n",
    "import re\n",
    "import time\n",
    "import string\n",
    "\n",
    "%matplotlib inline\n",
    "import numpy as np\n",
    "import pandas as pd\n",
    "import pre\n",
    "import os\n",
    "from sqlalchemy import create_engine\n",
    "from pandas.io import sql\n",
    "\n",
    "import warnings\n",
    "warnings.filterwarnings('ignore')"
   ]
  },
  {
   "cell_type": "code",
   "execution_count": 2,
   "metadata": {
    "ExecuteTime": {
     "end_time": "2018-08-28T01:21:11.433441Z",
     "start_time": "2018-08-28T01:21:11.350436Z"
    },
    "collapsed": true
   },
   "outputs": [],
   "source": [
    "def set_ch():\n",
    "    '''\n",
    "    功能：设定绘图时显示中文\n",
    "    '''\t\n",
    "    from pylab import mpl\n",
    "    mpl.rcParams['font.sans-serif'] = ['FangSong'] # 指定默认字体\n",
    "    mpl.rcParams['axes.unicode_minus'] = False   # 解决保存图像是负号'-'显示为方块的问题\n",
    "set_ch()"
   ]
  },
  {
   "cell_type": "markdown",
   "metadata": {},
   "source": [
    "# 导入数据"
   ]
  },
  {
   "cell_type": "code",
   "execution_count": 4,
   "metadata": {
    "ExecuteTime": {
     "end_time": "2018-08-28T01:23:32.893532Z",
     "start_time": "2018-08-28T01:23:32.889531Z"
    },
    "collapsed": true
   },
   "outputs": [],
   "source": [
    "folder = '20180808' # 数据文件夹"
   ]
  },
  {
   "cell_type": "code",
   "execution_count": 12,
   "metadata": {
    "ExecuteTime": {
     "end_time": "2018-08-28T01:27:54.594099Z",
     "start_time": "2018-08-28T01:27:47.912118Z"
    }
   },
   "outputs": [
    {
     "name": "stdout",
     "output_type": "stream",
     "text": [
      "20180808/mfa_cor_english_2.xlsx\n",
      "去重前： (6000, 4)\n",
      "去重后： (5807, 4)\n"
     ]
    },
    {
     "data": {
      "text/html": [
       "<div>\n",
       "<style scoped>\n",
       "    .dataframe tbody tr th:only-of-type {\n",
       "        vertical-align: middle;\n",
       "    }\n",
       "\n",
       "    .dataframe tbody tr th {\n",
       "        vertical-align: top;\n",
       "    }\n",
       "\n",
       "    .dataframe thead th {\n",
       "        text-align: right;\n",
       "    }\n",
       "</style>\n",
       "<table border=\"1\" class=\"dataframe\">\n",
       "  <thead>\n",
       "    <tr style=\"text-align: right;\">\n",
       "      <th></th>\n",
       "      <th>title</th>\n",
       "      <th>sensitivity</th>\n",
       "      <th>content</th>\n",
       "      <th>title_content</th>\n",
       "    </tr>\n",
       "  </thead>\n",
       "  <tbody>\n",
       "    <tr>\n",
       "      <th>0</th>\n",
       "      <td>Despite US Warning, Turkey Has No Plans to Aba...</td>\n",
       "      <td>0</td>\n",
       "      <td>Recai Berber, member of Turkish parliament fro...</td>\n",
       "      <td>Despite US Warning, Turkey Has No Plans to Aba...</td>\n",
       "    </tr>\n",
       "    <tr>\n",
       "      <th>1</th>\n",
       "      <td>Moscow denounces ’anti-Russian’ US nuclear policy</td>\n",
       "      <td>0</td>\n",
       "      <td>MOSCOW (AFP) - Moscow on Saturday (Feb 3) deno...</td>\n",
       "      <td>Moscow denounces ’anti-Russian’ US nuclear pol...</td>\n",
       "    </tr>\n",
       "    <tr>\n",
       "      <th>2</th>\n",
       "      <td>Iran’s Rouhani raps US nuclear expansion plan ...</td>\n",
       "      <td>0</td>\n",
       "      <td>Dubai: Iran accused the United States on Sunda...</td>\n",
       "      <td>Iran’s Rouhani raps US nuclear expansion plan ...</td>\n",
       "    </tr>\n",
       "    <tr>\n",
       "      <th>3</th>\n",
       "      <td>Iranian President Hassan Rouhani raps new US n...</td>\n",
       "      <td>0</td>\n",
       "      <td>Iran accused the United States on Sunday of th...</td>\n",
       "      <td>Iranian President Hassan Rouhani raps new US n...</td>\n",
       "    </tr>\n",
       "    <tr>\n",
       "      <th>4</th>\n",
       "      <td>Iran’s Rouhani raps new U.S. nuclear plan as t...</td>\n",
       "      <td>0</td>\n",
       "      <td>DUBAI (Reuters) - Iran accused the United Stat...</td>\n",
       "      <td>Iran’s Rouhani raps new U.S. nuclear plan as t...</td>\n",
       "    </tr>\n",
       "  </tbody>\n",
       "</table>\n",
       "</div>"
      ],
      "text/plain": [
       "                                               title  sensitivity  \\\n",
       "0  Despite US Warning, Turkey Has No Plans to Aba...            0   \n",
       "1  Moscow denounces ’anti-Russian’ US nuclear policy            0   \n",
       "2  Iran’s Rouhani raps US nuclear expansion plan ...            0   \n",
       "3  Iranian President Hassan Rouhani raps new US n...            0   \n",
       "4  Iran’s Rouhani raps new U.S. nuclear plan as t...            0   \n",
       "\n",
       "                                             content  \\\n",
       "0  Recai Berber, member of Turkish parliament fro...   \n",
       "1  MOSCOW (AFP) - Moscow on Saturday (Feb 3) deno...   \n",
       "2  Dubai: Iran accused the United States on Sunda...   \n",
       "3  Iran accused the United States on Sunday of th...   \n",
       "4  DUBAI (Reuters) - Iran accused the United Stat...   \n",
       "\n",
       "                                       title_content  \n",
       "0  Despite US Warning, Turkey Has No Plans to Aba...  \n",
       "1  Moscow denounces ’anti-Russian’ US nuclear pol...  \n",
       "2  Iran’s Rouhani raps US nuclear expansion plan ...  \n",
       "3  Iranian President Hassan Rouhani raps new US n...  \n",
       "4  Iran’s Rouhani raps new U.S. nuclear plan as t...  "
      ]
     },
     "execution_count": 12,
     "metadata": {},
     "output_type": "execute_result"
    }
   ],
   "source": [
    "file_name = '{0}/mfa_cor_english_2.xlsx'.format(folder)\n",
    "print(file_name)\n",
    "cor_1 = pd.read_excel('data/%s'%file_name)\n",
    "cor_1.columns = ['title', 'sensitivity', 'content']\n",
    "cor_1['title_content'] = cor_1['title'] + '. ' + cor_1['content']\n",
    "cor_1['sensitivity'] = cor_1['sensitivity'].apply(lambda x:0 if x != 1 else x)\n",
    "print('去重前：', cor_1.shape)\n",
    "cor_1 = cor_1.drop_duplicates(subset = 'title')\n",
    "print('去重后：', cor_1.shape)\n",
    "cor_1.head()"
   ]
  },
  {
   "cell_type": "code",
   "execution_count": 13,
   "metadata": {
    "ExecuteTime": {
     "end_time": "2018-08-28T01:27:54.720106Z",
     "start_time": "2018-08-28T01:27:54.711106Z"
    }
   },
   "outputs": [
    {
     "data": {
      "text/plain": [
       "0    2927\n",
       "1    2880\n",
       "Name: sensitivity, dtype: int64"
      ]
     },
     "execution_count": 13,
     "metadata": {},
     "output_type": "execute_result"
    }
   ],
   "source": [
    "cor_1['sensitivity'].value_counts()"
   ]
  },
  {
   "cell_type": "markdown",
   "metadata": {},
   "source": [
    "## 外交部-敏感"
   ]
  },
  {
   "cell_type": "code",
   "execution_count": 14,
   "metadata": {
    "ExecuteTime": {
     "end_time": "2018-08-28T01:27:59.259763Z",
     "start_time": "2018-08-28T01:27:59.236761Z"
    }
   },
   "outputs": [
    {
     "name": "stdout",
     "output_type": "stream",
     "text": [
      "(2880, 4)\n"
     ]
    },
    {
     "data": {
      "text/html": [
       "<div>\n",
       "<style scoped>\n",
       "    .dataframe tbody tr th:only-of-type {\n",
       "        vertical-align: middle;\n",
       "    }\n",
       "\n",
       "    .dataframe tbody tr th {\n",
       "        vertical-align: top;\n",
       "    }\n",
       "\n",
       "    .dataframe thead th {\n",
       "        text-align: right;\n",
       "    }\n",
       "</style>\n",
       "<table border=\"1\" class=\"dataframe\">\n",
       "  <thead>\n",
       "    <tr style=\"text-align: right;\">\n",
       "      <th></th>\n",
       "      <th>title</th>\n",
       "      <th>sensitivity</th>\n",
       "      <th>content</th>\n",
       "      <th>title_content</th>\n",
       "    </tr>\n",
       "  </thead>\n",
       "  <tbody>\n",
       "    <tr>\n",
       "      <th>6</th>\n",
       "      <td>Russia, Japan call for Korean Peninsula denucl...</td>\n",
       "      <td>1</td>\n",
       "      <td>TOKYO, February 7. /TASS/. The common objectiv...</td>\n",
       "      <td>Russia, Japan call for Korean Peninsula denucl...</td>\n",
       "    </tr>\n",
       "    <tr>\n",
       "      <th>7</th>\n",
       "      <td>UK’s May lays out measures against Russia</td>\n",
       "      <td>1</td>\n",
       "      <td>PRIME MINISTER THERESA MAY’S LIST OF ACTIONS A...</td>\n",
       "      <td>UK’s May lays out measures against Russia. PRI...</td>\n",
       "    </tr>\n",
       "    <tr>\n",
       "      <th>8</th>\n",
       "      <td>Russia receives list of 23 Russian diplomats e...</td>\n",
       "      <td>1</td>\n",
       "      <td>\\n\\nRead also\\n\\n \\n\\n\\n\\nUK to expel 23 Russi...</td>\n",
       "      <td>Russia receives list of 23 Russian diplomats e...</td>\n",
       "    </tr>\n",
       "    <tr>\n",
       "      <th>9</th>\n",
       "      <td>US ’stands in solidarity’ with UK on Russia</td>\n",
       "      <td>1</td>\n",
       "      <td>The White House says it \"stands in solidarity\"...</td>\n",
       "      <td>US ’stands in solidarity’ with UK on Russia. T...</td>\n",
       "    </tr>\n",
       "    <tr>\n",
       "      <th>10</th>\n",
       "      <td>Russia to expel UK diplomats as row over spy a...</td>\n",
       "      <td>1</td>\n",
       "      <td>\\nMOSCOW/LONDON - Russia will soon expel Briti...</td>\n",
       "      <td>Russia to expel UK diplomats as row over spy a...</td>\n",
       "    </tr>\n",
       "  </tbody>\n",
       "</table>\n",
       "</div>"
      ],
      "text/plain": [
       "                                                title  sensitivity  \\\n",
       "6   Russia, Japan call for Korean Peninsula denucl...            1   \n",
       "7           UK’s May lays out measures against Russia            1   \n",
       "8   Russia receives list of 23 Russian diplomats e...            1   \n",
       "9         US ’stands in solidarity’ with UK on Russia            1   \n",
       "10  Russia to expel UK diplomats as row over spy a...            1   \n",
       "\n",
       "                                              content  \\\n",
       "6   TOKYO, February 7. /TASS/. The common objectiv...   \n",
       "7   PRIME MINISTER THERESA MAY’S LIST OF ACTIONS A...   \n",
       "8   \\n\\nRead also\\n\\n \\n\\n\\n\\nUK to expel 23 Russi...   \n",
       "9   The White House says it \"stands in solidarity\"...   \n",
       "10  \\nMOSCOW/LONDON - Russia will soon expel Briti...   \n",
       "\n",
       "                                        title_content  \n",
       "6   Russia, Japan call for Korean Peninsula denucl...  \n",
       "7   UK’s May lays out measures against Russia. PRI...  \n",
       "8   Russia receives list of 23 Russian diplomats e...  \n",
       "9   US ’stands in solidarity’ with UK on Russia. T...  \n",
       "10  Russia to expel UK diplomats as row over spy a...  "
      ]
     },
     "execution_count": 14,
     "metadata": {},
     "output_type": "execute_result"
    }
   ],
   "source": [
    "sen_1 = cor_1[cor_1['sensitivity'] == 1]\n",
    "print(sen_1.shape)\n",
    "sen_1.head()"
   ]
  },
  {
   "cell_type": "markdown",
   "metadata": {},
   "source": [
    "## 外交部-不敏感"
   ]
  },
  {
   "cell_type": "code",
   "execution_count": 15,
   "metadata": {
    "ExecuteTime": {
     "end_time": "2018-08-28T01:28:01.029864Z",
     "start_time": "2018-08-28T01:28:00.996862Z"
    }
   },
   "outputs": [
    {
     "name": "stdout",
     "output_type": "stream",
     "text": [
      "(2927, 4)\n"
     ]
    },
    {
     "data": {
      "text/html": [
       "<div>\n",
       "<style scoped>\n",
       "    .dataframe tbody tr th:only-of-type {\n",
       "        vertical-align: middle;\n",
       "    }\n",
       "\n",
       "    .dataframe tbody tr th {\n",
       "        vertical-align: top;\n",
       "    }\n",
       "\n",
       "    .dataframe thead th {\n",
       "        text-align: right;\n",
       "    }\n",
       "</style>\n",
       "<table border=\"1\" class=\"dataframe\">\n",
       "  <thead>\n",
       "    <tr style=\"text-align: right;\">\n",
       "      <th></th>\n",
       "      <th>title</th>\n",
       "      <th>sensitivity</th>\n",
       "      <th>content</th>\n",
       "      <th>title_content</th>\n",
       "    </tr>\n",
       "  </thead>\n",
       "  <tbody>\n",
       "    <tr>\n",
       "      <th>0</th>\n",
       "      <td>Despite US Warning, Turkey Has No Plans to Aba...</td>\n",
       "      <td>0</td>\n",
       "      <td>Recai Berber, member of Turkish parliament fro...</td>\n",
       "      <td>Despite US Warning, Turkey Has No Plans to Aba...</td>\n",
       "    </tr>\n",
       "    <tr>\n",
       "      <th>1</th>\n",
       "      <td>Moscow denounces ’anti-Russian’ US nuclear policy</td>\n",
       "      <td>0</td>\n",
       "      <td>MOSCOW (AFP) - Moscow on Saturday (Feb 3) deno...</td>\n",
       "      <td>Moscow denounces ’anti-Russian’ US nuclear pol...</td>\n",
       "    </tr>\n",
       "    <tr>\n",
       "      <th>2</th>\n",
       "      <td>Iran’s Rouhani raps US nuclear expansion plan ...</td>\n",
       "      <td>0</td>\n",
       "      <td>Dubai: Iran accused the United States on Sunda...</td>\n",
       "      <td>Iran’s Rouhani raps US nuclear expansion plan ...</td>\n",
       "    </tr>\n",
       "    <tr>\n",
       "      <th>3</th>\n",
       "      <td>Iranian President Hassan Rouhani raps new US n...</td>\n",
       "      <td>0</td>\n",
       "      <td>Iran accused the United States on Sunday of th...</td>\n",
       "      <td>Iranian President Hassan Rouhani raps new US n...</td>\n",
       "    </tr>\n",
       "    <tr>\n",
       "      <th>4</th>\n",
       "      <td>Iran’s Rouhani raps new U.S. nuclear plan as t...</td>\n",
       "      <td>0</td>\n",
       "      <td>DUBAI (Reuters) - Iran accused the United Stat...</td>\n",
       "      <td>Iran’s Rouhani raps new U.S. nuclear plan as t...</td>\n",
       "    </tr>\n",
       "  </tbody>\n",
       "</table>\n",
       "</div>"
      ],
      "text/plain": [
       "                                               title  sensitivity  \\\n",
       "0  Despite US Warning, Turkey Has No Plans to Aba...            0   \n",
       "1  Moscow denounces ’anti-Russian’ US nuclear policy            0   \n",
       "2  Iran’s Rouhani raps US nuclear expansion plan ...            0   \n",
       "3  Iranian President Hassan Rouhani raps new US n...            0   \n",
       "4  Iran’s Rouhani raps new U.S. nuclear plan as t...            0   \n",
       "\n",
       "                                             content  \\\n",
       "0  Recai Berber, member of Turkish parliament fro...   \n",
       "1  MOSCOW (AFP) - Moscow on Saturday (Feb 3) deno...   \n",
       "2  Dubai: Iran accused the United States on Sunda...   \n",
       "3  Iran accused the United States on Sunday of th...   \n",
       "4  DUBAI (Reuters) - Iran accused the United Stat...   \n",
       "\n",
       "                                       title_content  \n",
       "0  Despite US Warning, Turkey Has No Plans to Aba...  \n",
       "1  Moscow denounces ’anti-Russian’ US nuclear pol...  \n",
       "2  Iran’s Rouhani raps US nuclear expansion plan ...  \n",
       "3  Iranian President Hassan Rouhani raps new US n...  \n",
       "4  Iran’s Rouhani raps new U.S. nuclear plan as t...  "
      ]
     },
     "execution_count": 15,
     "metadata": {},
     "output_type": "execute_result"
    }
   ],
   "source": [
    "unsen_1 = cor_1[cor_1['sensitivity'] == 0]\n",
    "print(unsen_1.shape)\n",
    "unsen_1.head()"
   ]
  },
  {
   "cell_type": "markdown",
   "metadata": {},
   "source": [
    "## 合并数据"
   ]
  },
  {
   "cell_type": "code",
   "execution_count": 16,
   "metadata": {
    "ExecuteTime": {
     "end_time": "2018-08-28T01:30:41.140499Z",
     "start_time": "2018-08-28T01:30:40.931487Z"
    }
   },
   "outputs": [
    {
     "name": "stdout",
     "output_type": "stream",
     "text": [
      "去重前：  (5807, 5)\n",
      "去重后：  (5807, 5)\n"
     ]
    },
    {
     "data": {
      "text/html": [
       "<div>\n",
       "<style scoped>\n",
       "    .dataframe tbody tr th:only-of-type {\n",
       "        vertical-align: middle;\n",
       "    }\n",
       "\n",
       "    .dataframe tbody tr th {\n",
       "        vertical-align: top;\n",
       "    }\n",
       "\n",
       "    .dataframe thead th {\n",
       "        text-align: right;\n",
       "    }\n",
       "</style>\n",
       "<table border=\"1\" class=\"dataframe\">\n",
       "  <thead>\n",
       "    <tr style=\"text-align: right;\">\n",
       "      <th></th>\n",
       "      <th>title</th>\n",
       "      <th>sensitivity</th>\n",
       "      <th>content</th>\n",
       "      <th>title_content</th>\n",
       "      <th>index</th>\n",
       "    </tr>\n",
       "  </thead>\n",
       "  <tbody>\n",
       "    <tr>\n",
       "      <th>6</th>\n",
       "      <td>Russia, Japan call for Korean Peninsula denucl...</td>\n",
       "      <td>1</td>\n",
       "      <td>TOKYO, February 7. /TASS/. The common objectiv...</td>\n",
       "      <td>Russia, Japan call for Korean Peninsula denucl...</td>\n",
       "      <td>0</td>\n",
       "    </tr>\n",
       "    <tr>\n",
       "      <th>7</th>\n",
       "      <td>UK’s May lays out measures against Russia</td>\n",
       "      <td>1</td>\n",
       "      <td>PRIME MINISTER THERESA MAY’S LIST OF ACTIONS A...</td>\n",
       "      <td>UK’s May lays out measures against Russia。PRIM...</td>\n",
       "      <td>1</td>\n",
       "    </tr>\n",
       "    <tr>\n",
       "      <th>8</th>\n",
       "      <td>Russia receives list of 23 Russian diplomats e...</td>\n",
       "      <td>1</td>\n",
       "      <td>\\n\\nRead also\\n\\n \\n\\n\\n\\nUK to expel 23 Russi...</td>\n",
       "      <td>Russia receives list of 23 Russian diplomats e...</td>\n",
       "      <td>2</td>\n",
       "    </tr>\n",
       "    <tr>\n",
       "      <th>9</th>\n",
       "      <td>US ’stands in solidarity’ with UK on Russia</td>\n",
       "      <td>1</td>\n",
       "      <td>The White House says it \"stands in solidarity\"...</td>\n",
       "      <td>US ’stands in solidarity’ with UK on Russia。Th...</td>\n",
       "      <td>3</td>\n",
       "    </tr>\n",
       "    <tr>\n",
       "      <th>10</th>\n",
       "      <td>Russia to expel UK diplomats as row over spy a...</td>\n",
       "      <td>1</td>\n",
       "      <td>\\nMOSCOW/LONDON - Russia will soon expel Briti...</td>\n",
       "      <td>Russia to expel UK diplomats as row over spy a...</td>\n",
       "      <td>4</td>\n",
       "    </tr>\n",
       "  </tbody>\n",
       "</table>\n",
       "</div>"
      ],
      "text/plain": [
       "                                                title  sensitivity  \\\n",
       "6   Russia, Japan call for Korean Peninsula denucl...            1   \n",
       "7           UK’s May lays out measures against Russia            1   \n",
       "8   Russia receives list of 23 Russian diplomats e...            1   \n",
       "9         US ’stands in solidarity’ with UK on Russia            1   \n",
       "10  Russia to expel UK diplomats as row over spy a...            1   \n",
       "\n",
       "                                              content  \\\n",
       "6   TOKYO, February 7. /TASS/. The common objectiv...   \n",
       "7   PRIME MINISTER THERESA MAY’S LIST OF ACTIONS A...   \n",
       "8   \\n\\nRead also\\n\\n \\n\\n\\n\\nUK to expel 23 Russi...   \n",
       "9   The White House says it \"stands in solidarity\"...   \n",
       "10  \\nMOSCOW/LONDON - Russia will soon expel Briti...   \n",
       "\n",
       "                                        title_content  index  \n",
       "6   Russia, Japan call for Korean Peninsula denucl...      0  \n",
       "7   UK’s May lays out measures against Russia。PRIM...      1  \n",
       "8   Russia receives list of 23 Russian diplomats e...      2  \n",
       "9   US ’stands in solidarity’ with UK on Russia。Th...      3  \n",
       "10  Russia to expel UK diplomats as row over spy a...      4  "
      ]
     },
     "execution_count": 16,
     "metadata": {},
     "output_type": "execute_result"
    }
   ],
   "source": [
    "circ_sen_raw = pd.concat([sen_1, unsen_1], axis = 0)\n",
    "\n",
    "circ_sen_raw['title_content'] = circ_sen_raw['title'].astype(str) + '。' + circ_sen_raw['content'].astype(str)\n",
    "circ_sen_raw['index'] = range(circ_sen_raw.shape[0])\n",
    "print('去重前： ', circ_sen_raw.shape)\n",
    "circ_sen_raw = circ_sen_raw.drop_duplicates(subset = 'title_content')\n",
    "print('去重后： ', circ_sen_raw.shape)\n",
    "circ_sen_raw.head()"
   ]
  },
  {
   "cell_type": "markdown",
   "metadata": {},
   "source": [
    "# 预处理数据"
   ]
  },
  {
   "cell_type": "code",
   "execution_count": 17,
   "metadata": {
    "ExecuteTime": {
     "end_time": "2018-08-28T01:32:24.610783Z",
     "start_time": "2018-08-28T01:32:20.802186Z"
    }
   },
   "outputs": [
    {
     "name": "stdout",
     "output_type": "stream",
     "text": [
      "5807\n"
     ]
    }
   ],
   "source": [
    "# titles = pre_cor_1.handle_contents(cir_data_raw['title'].tolist())\n",
    "titles = pre.handle_contents(circ_sen_raw['title'].tolist())\n",
    "print(len(titles))\n",
    "\n",
    "save_filename = 'data/titles.txt'\n",
    "fid = open(save_filename, \"w+\", encoding='UTF-8')\n",
    "for data in titles:\n",
    "    fid.write(data + '\\n')\n",
    "fid.close()"
   ]
  },
  {
   "cell_type": "code",
   "execution_count": 18,
   "metadata": {
    "ExecuteTime": {
     "end_time": "2018-08-28T01:33:39.476073Z",
     "start_time": "2018-08-28T01:32:47.542439Z"
    }
   },
   "outputs": [
    {
     "name": "stdout",
     "output_type": "stream",
     "text": [
      "5807\n",
      "['tokyo february ta common objective japan russia term north korean issue denuclearization korean peninsula party continue cooperate closely including ensure compliance security council resolution stance reiterated kenji kanasugi directorgeneral japanese foreign ministry asian oceanian affair bureau represents country talk situation korean peninsula russian deputy foreign minister igor morgulov japanese foreign ministry reported wednesday meeting tokyo senior diplomat exchanged view situation north korea welcomed dialogue seoul pyongyang aimed pyeongchang game successful tuesday morgulov japanese counterpart takeo mori round consultation bilateral relation peace treaty russian foreign ministry talk focused issue joint economic activity southern kuril island', 'prime minister theresa list action russia expel russian diplomat identified undeclared intelligence officer week leave single biggest expulsion reflecting time russia acted britain freeze russian asset evidence threaten life property national resident develop law harden defence form hostile activity including detain suspected hostile activity britain apos border british minister royal family attend soccer suspend planned level bilateral contact russian federation capability enforcement brought bear criminal corrupt elite fundamentally degrade russian intelligence capability prevent rebuilding start monitor track intention travelling engaged activity threatens britain ally including increased check private flight custom freight interior minister counterespionage power clamp hostile activity foreign agent britain seek strengthen government apos power impose sanction response violation human right disagreement russian people russian citizen living britain lawabiding tragic president putin chosen hear jason pellegrino managing director google australia zealand susan lloydhurwitz mirvac mike henry president operation mineral australia moderated australian editor john lehmannpm thursday ballroom level george street sydney']\n"
     ]
    }
   ],
   "source": [
    "# contents = pre_cor_1.handle_contents(cir_data_raw['content'].tolist())\n",
    "contents = pre.handle_contents(circ_sen_raw['content'].tolist())\n",
    "print(len(contents))\n",
    "print(contents[:2])\n",
    "# contents = [re.sub(r'[a-z]*', '', x) for x in contents]\n",
    "# print(len(contents))\n",
    "# print(contents[:2])\n",
    "\n",
    "coprus_save_filename = 'data/contents.txt'\n",
    "f = open(coprus_save_filename, \"w+\", encoding='UTF-8')\n",
    "for data in contents:\n",
    "    f.write(data + '\\n')\n",
    "f.close()"
   ]
  },
  {
   "cell_type": "code",
   "execution_count": 20,
   "metadata": {
    "ExecuteTime": {
     "end_time": "2018-08-28T01:33:59.019152Z",
     "start_time": "2018-08-28T01:33:58.988150Z"
    }
   },
   "outputs": [
    {
     "name": "stdout",
     "output_type": "stream",
     "text": [
      "5807\n"
     ]
    }
   ],
   "source": [
    "label = circ_sen_raw['sensitivity'].tolist()\n",
    "print(len(label))\n",
    "\n",
    "coprus_save_filename = 'data/labels.txt'\n",
    "f = open(coprus_save_filename, \"w+\", encoding='UTF-8')\n",
    "for data in label:\n",
    "    f.write(str(data) + '\\n')\n",
    "f.close()"
   ]
  },
  {
   "cell_type": "code",
   "execution_count": 22,
   "metadata": {
    "ExecuteTime": {
     "end_time": "2018-08-28T01:34:27.304075Z",
     "start_time": "2018-08-28T01:34:21.110148Z"
    }
   },
   "outputs": [
    {
     "data": {
      "text/plain": [
       "(5807, 5)"
      ]
     },
     "execution_count": 22,
     "metadata": {},
     "output_type": "execute_result"
    }
   ],
   "source": [
    "circ_sen_raw.to_excel('data/result/title_content_label.xlsx', index = False)\n",
    "circ_sen_raw.shape"
   ]
  },
  {
   "cell_type": "markdown",
   "metadata": {
    "collapsed": true
   },
   "source": [
    "# 保存本文件"
   ]
  },
  {
   "cell_type": "code",
   "execution_count": 70,
   "metadata": {
    "ExecuteTime": {
     "end_time": "2018-06-27T08:59:12.287167Z",
     "start_time": "2018-06-27T08:59:12.234164Z"
    },
    "collapsed": true
   },
   "outputs": [],
   "source": [
    "if 0:\n",
    "    import datetime as dt\n",
    "    \n",
    "    def output_HTML(read_file, output_file):\n",
    "        from nbconvert import HTMLExporter\n",
    "        import codecs\n",
    "        import nbformat\n",
    "        exporter = HTMLExporter()\n",
    "        # read_file is '.ipynb', output_file is '.html'\n",
    "        output_notebook = nbformat.read(read_file, as_version=4)\n",
    "        output, resources = exporter.from_notebook_node(output_notebook)\n",
    "        codecs.open(output_file, 'w', encoding='utf-8').write(output)\n",
    "\n",
    "    html_file_folder = 'html_files'\n",
    "    if not os.path.exists(html_file_folder):\n",
    "        os.makedirs(html_file_folder)\n",
    "\n",
    "    today = dt.datetime.now().strftime('%Y%m%d')\n",
    "    current_file = 'circ_cor_model_1_pre.ipynb'\n",
    "    output_file = 'html_files\\%s_%s.html'%(os.path.splitext(current_file)[0], today)\n",
    "    output_HTML(current_file, output_file)"
   ]
  }
 ],
 "metadata": {
  "kernelspec": {
   "display_name": "Python 3",
   "language": "python",
   "name": "python3"
  },
  "language_info": {
   "codemirror_mode": {
    "name": "ipython",
    "version": 3
   },
   "file_extension": ".py",
   "mimetype": "text/x-python",
   "name": "python",
   "nbconvert_exporter": "python",
   "pygments_lexer": "ipython3",
   "version": "3.6.3"
  },
  "toc": {
   "nav_menu": {},
   "number_sections": true,
   "sideBar": true,
   "skip_h1_title": false,
   "title_cell": "Table of Contents",
   "title_sidebar": "Contents",
   "toc_cell": false,
   "toc_position": {
    "height": "calc(100% - 180px)",
    "left": "10px",
    "top": "150px",
    "width": "376px"
   },
   "toc_section_display": true,
   "toc_window_display": true
  },
  "varInspector": {
   "cols": {
    "lenName": 16,
    "lenType": 16,
    "lenVar": 40
   },
   "kernels_config": {
    "python": {
     "delete_cmd_postfix": "",
     "delete_cmd_prefix": "del ",
     "library": "var_list.py",
     "varRefreshCmd": "print(var_dic_list())"
    },
    "r": {
     "delete_cmd_postfix": ") ",
     "delete_cmd_prefix": "rm(",
     "library": "var_list.r",
     "varRefreshCmd": "cat(var_dic_list()) "
    }
   },
   "types_to_exclude": [
    "module",
    "function",
    "builtin_function_or_method",
    "instance",
    "_Feature"
   ],
   "window_display": false
  }
 },
 "nbformat": 4,
 "nbformat_minor": 2
}
