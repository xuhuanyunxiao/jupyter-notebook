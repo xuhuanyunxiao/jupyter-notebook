{
 "cells": [
  {
   "cell_type": "markdown",
   "metadata": {},
   "source": [
    "- 保监会 相关性模型 1 预处理"
   ]
  },
  {
   "cell_type": "markdown",
   "metadata": {},
   "source": [
    "# 基本设置"
   ]
  },
  {
   "cell_type": "code",
   "execution_count": 1,
   "metadata": {
    "ExecuteTime": {
     "end_time": "2018-08-09T05:59:30.338656Z",
     "start_time": "2018-08-09T05:59:29.187590Z"
    },
    "collapsed": true
   },
   "outputs": [],
   "source": [
    "import jieba\n",
    "import sys\n",
    "import re\n",
    "import time\n",
    "import string\n",
    "\n",
    "%matplotlib inline\n",
    "import numpy as np\n",
    "import pandas as pd\n",
    "# import pre_cor\n",
    "import os\n",
    "from sqlalchemy import create_engine\n",
    "from pandas.io import sql\n",
    "\n",
    "import warnings\n",
    "warnings.filterwarnings('ignore')"
   ]
  },
  {
   "cell_type": "code",
   "execution_count": 2,
   "metadata": {
    "ExecuteTime": {
     "end_time": "2018-08-09T05:59:30.380658Z",
     "start_time": "2018-08-09T05:59:30.344656Z"
    },
    "collapsed": true
   },
   "outputs": [],
   "source": [
    "def set_ch():\n",
    "    '''\n",
    "    功能：设定绘图时显示中文\n",
    "    '''\t\n",
    "    from pylab import mpl\n",
    "    mpl.rcParams['font.sans-serif'] = ['FangSong'] # 指定默认字体\n",
    "    mpl.rcParams['axes.unicode_minus'] = False   # 解决保存图像是负号'-'显示为方块的问题\n",
    "set_ch()"
   ]
  },
  {
   "cell_type": "markdown",
   "metadata": {},
   "source": [
    "# 导入数据"
   ]
  },
  {
   "cell_type": "code",
   "execution_count": 3,
   "metadata": {
    "ExecuteTime": {
     "end_time": "2018-08-09T05:59:30.454662Z",
     "start_time": "2018-08-09T05:59:30.382658Z"
    },
    "collapsed": true
   },
   "outputs": [],
   "source": [
    "folder = '20180808' # 数据文件夹"
   ]
  },
  {
   "cell_type": "markdown",
   "metadata": {},
   "source": [
    "## 外交部-相关"
   ]
  },
  {
   "cell_type": "code",
   "execution_count": 89,
   "metadata": {
    "ExecuteTime": {
     "end_time": "2018-08-09T09:15:05.416864Z",
     "start_time": "2018-08-09T09:14:58.400463Z"
    }
   },
   "outputs": [
    {
     "name": "stdout",
     "output_type": "stream",
     "text": [
      "20180808/mfa_cor_english_2.xlsx\n",
      "(6000, 4)\n"
     ]
    },
    {
     "data": {
      "text/html": [
       "<div>\n",
       "<style scoped>\n",
       "    .dataframe tbody tr th:only-of-type {\n",
       "        vertical-align: middle;\n",
       "    }\n",
       "\n",
       "    .dataframe tbody tr th {\n",
       "        vertical-align: top;\n",
       "    }\n",
       "\n",
       "    .dataframe thead th {\n",
       "        text-align: right;\n",
       "    }\n",
       "</style>\n",
       "<table border=\"1\" class=\"dataframe\">\n",
       "  <thead>\n",
       "    <tr style=\"text-align: right;\">\n",
       "      <th></th>\n",
       "      <th>title</th>\n",
       "      <th>sensitivity</th>\n",
       "      <th>content</th>\n",
       "      <th>title_content</th>\n",
       "    </tr>\n",
       "  </thead>\n",
       "  <tbody>\n",
       "    <tr>\n",
       "      <th>0</th>\n",
       "      <td>Despite US Warning, Turkey Has No Plans to Aba...</td>\n",
       "      <td>NaN</td>\n",
       "      <td>Recai Berber, member of Turkish parliament fro...</td>\n",
       "      <td>Despite US Warning, Turkey Has No Plans to Aba...</td>\n",
       "    </tr>\n",
       "    <tr>\n",
       "      <th>1</th>\n",
       "      <td>Moscow denounces ’anti-Russian’ US nuclear policy</td>\n",
       "      <td>NaN</td>\n",
       "      <td>MOSCOW (AFP) - Moscow on Saturday (Feb 3) deno...</td>\n",
       "      <td>Moscow denounces ’anti-Russian’ US nuclear pol...</td>\n",
       "    </tr>\n",
       "    <tr>\n",
       "      <th>2</th>\n",
       "      <td>Iran’s Rouhani raps US nuclear expansion plan ...</td>\n",
       "      <td>NaN</td>\n",
       "      <td>Dubai: Iran accused the United States on Sunda...</td>\n",
       "      <td>Iran’s Rouhani raps US nuclear expansion plan ...</td>\n",
       "    </tr>\n",
       "    <tr>\n",
       "      <th>3</th>\n",
       "      <td>Iranian President Hassan Rouhani raps new US n...</td>\n",
       "      <td>NaN</td>\n",
       "      <td>Iran accused the United States on Sunday of th...</td>\n",
       "      <td>Iranian President Hassan Rouhani raps new US n...</td>\n",
       "    </tr>\n",
       "    <tr>\n",
       "      <th>4</th>\n",
       "      <td>Iran’s Rouhani raps new U.S. nuclear plan as t...</td>\n",
       "      <td>NaN</td>\n",
       "      <td>DUBAI (Reuters) - Iran accused the United Stat...</td>\n",
       "      <td>Iran’s Rouhani raps new U.S. nuclear plan as t...</td>\n",
       "    </tr>\n",
       "  </tbody>\n",
       "</table>\n",
       "</div>"
      ],
      "text/plain": [
       "                                               title sensitivity  \\\n",
       "0  Despite US Warning, Turkey Has No Plans to Aba...         NaN   \n",
       "1  Moscow denounces ’anti-Russian’ US nuclear policy         NaN   \n",
       "2  Iran’s Rouhani raps US nuclear expansion plan ...         NaN   \n",
       "3  Iranian President Hassan Rouhani raps new US n...         NaN   \n",
       "4  Iran’s Rouhani raps new U.S. nuclear plan as t...         NaN   \n",
       "\n",
       "                                             content  \\\n",
       "0  Recai Berber, member of Turkish parliament fro...   \n",
       "1  MOSCOW (AFP) - Moscow on Saturday (Feb 3) deno...   \n",
       "2  Dubai: Iran accused the United States on Sunda...   \n",
       "3  Iran accused the United States on Sunday of th...   \n",
       "4  DUBAI (Reuters) - Iran accused the United Stat...   \n",
       "\n",
       "                                       title_content  \n",
       "0  Despite US Warning, Turkey Has No Plans to Aba...  \n",
       "1  Moscow denounces ’anti-Russian’ US nuclear pol...  \n",
       "2  Iran’s Rouhani raps US nuclear expansion plan ...  \n",
       "3  Iranian President Hassan Rouhani raps new US n...  \n",
       "4  Iran’s Rouhani raps new U.S. nuclear plan as t...  "
      ]
     },
     "execution_count": 89,
     "metadata": {},
     "output_type": "execute_result"
    }
   ],
   "source": [
    "file_name = '{0}/mfa_cor_english_2.xlsx'.format(folder)\n",
    "print(file_name)\n",
    "cor_1 = pd.read_excel('data/%s'%file_name)\n",
    "cor_1.columns = ['title', 'sensitivity', 'content']\n",
    "cor_1['title_content'] = cor_1['title'] + '. ' + cor_1['content']\n",
    "print(cor_1.shape)\n",
    "cor_1.head()"
   ]
  },
  {
   "cell_type": "markdown",
   "metadata": {},
   "source": [
    "## 外交部-不相关"
   ]
  },
  {
   "cell_type": "code",
   "execution_count": 90,
   "metadata": {
    "ExecuteTime": {
     "end_time": "2018-08-09T09:15:15.221425Z",
     "start_time": "2018-08-09T09:15:14.635391Z"
    }
   },
   "outputs": [
    {
     "name": "stdout",
     "output_type": "stream",
     "text": [
      "20180808/mfa_uncor_english_2_1.xlsx\n",
      "(5497, 3)\n"
     ]
    },
    {
     "data": {
      "text/html": [
       "<div>\n",
       "<style scoped>\n",
       "    .dataframe tbody tr th:only-of-type {\n",
       "        vertical-align: middle;\n",
       "    }\n",
       "\n",
       "    .dataframe tbody tr th {\n",
       "        vertical-align: top;\n",
       "    }\n",
       "\n",
       "    .dataframe thead th {\n",
       "        text-align: right;\n",
       "    }\n",
       "</style>\n",
       "<table border=\"1\" class=\"dataframe\">\n",
       "  <thead>\n",
       "    <tr style=\"text-align: right;\">\n",
       "      <th></th>\n",
       "      <th>title</th>\n",
       "      <th>content</th>\n",
       "      <th>title_content</th>\n",
       "    </tr>\n",
       "  </thead>\n",
       "  <tbody>\n",
       "    <tr>\n",
       "      <th>0</th>\n",
       "      <td>Thai vendors rubbish criticism of famous Mae K...</td>\n",
       "      <td>BANGKOK (THE NATION/ASIA NEWS NETWORK) - Vendo...</td>\n",
       "      <td>Thai vendors rubbish criticism of famous Mae K...</td>\n",
       "    </tr>\n",
       "    <tr>\n",
       "      <th>1</th>\n",
       "      <td>French Politician Arrested for Justifying Terr...</td>\n",
       "      <td>Police arrested Stephane Poussier in his home ...</td>\n",
       "      <td>French Politician Arrested for Justifying Terr...</td>\n",
       "    </tr>\n",
       "    <tr>\n",
       "      <th>2</th>\n",
       "      <td>The classic explanation for the Black Death pl...</td>\n",
       "      <td>Plague came to Europe in the 14th century and ...</td>\n",
       "      <td>The classic explanation for the Black Death pl...</td>\n",
       "    </tr>\n",
       "    <tr>\n",
       "      <th>3</th>\n",
       "      <td>BRIEF-Sinopec Oilfield Service Gets Approval T...</td>\n",
       "      <td>Jan 17 (Reuters) - Sinopec Oilfield Service Co...</td>\n",
       "      <td>BRIEF-Sinopec Oilfield Service Gets Approval T...</td>\n",
       "    </tr>\n",
       "    <tr>\n",
       "      <th>4</th>\n",
       "      <td>BRIEF-Sinopec Oilfield Service Says Lock-Up Pe...</td>\n",
       "      <td>Dec 22 (Reuters) - Sinopec Oilfield Service Co...</td>\n",
       "      <td>BRIEF-Sinopec Oilfield Service Says Lock-Up Pe...</td>\n",
       "    </tr>\n",
       "  </tbody>\n",
       "</table>\n",
       "</div>"
      ],
      "text/plain": [
       "                                               title  \\\n",
       "0  Thai vendors rubbish criticism of famous Mae K...   \n",
       "1  French Politician Arrested for Justifying Terr...   \n",
       "2  The classic explanation for the Black Death pl...   \n",
       "3  BRIEF-Sinopec Oilfield Service Gets Approval T...   \n",
       "4  BRIEF-Sinopec Oilfield Service Says Lock-Up Pe...   \n",
       "\n",
       "                                             content  \\\n",
       "0  BANGKOK (THE NATION/ASIA NEWS NETWORK) - Vendo...   \n",
       "1  Police arrested Stephane Poussier in his home ...   \n",
       "2  Plague came to Europe in the 14th century and ...   \n",
       "3  Jan 17 (Reuters) - Sinopec Oilfield Service Co...   \n",
       "4  Dec 22 (Reuters) - Sinopec Oilfield Service Co...   \n",
       "\n",
       "                                       title_content  \n",
       "0  Thai vendors rubbish criticism of famous Mae K...  \n",
       "1  French Politician Arrested for Justifying Terr...  \n",
       "2  The classic explanation for the Black Death pl...  \n",
       "3  BRIEF-Sinopec Oilfield Service Gets Approval T...  \n",
       "4  BRIEF-Sinopec Oilfield Service Says Lock-Up Pe...  "
      ]
     },
     "execution_count": 90,
     "metadata": {},
     "output_type": "execute_result"
    }
   ],
   "source": [
    "file_name = '{0}/mfa_uncor_english_2_1.xlsx'.format(folder)\n",
    "print(file_name)\n",
    "uncor_1 = pd.read_excel('data/%s'%file_name)\n",
    "uncor_1.columns = ['title', 'content']\n",
    "uncor_1['title_content'] = uncor_1['title'] + '. ' + uncor_1['content']\n",
    "print(uncor_1.shape)\n",
    "uncor_1.head()"
   ]
  },
  {
   "cell_type": "markdown",
   "metadata": {},
   "source": [
    "## 合并数据"
   ]
  },
  {
   "cell_type": "code",
   "execution_count": 99,
   "metadata": {
    "ExecuteTime": {
     "end_time": "2018-08-09T09:17:45.622027Z",
     "start_time": "2018-08-09T09:17:45.600026Z"
    }
   },
   "outputs": [
    {
     "name": "stdout",
     "output_type": "stream",
     "text": [
      "去重前： (6000, 4)\n",
      "去重后： (5807, 4)\n"
     ]
    },
    {
     "data": {
      "text/html": [
       "<div>\n",
       "<style scoped>\n",
       "    .dataframe tbody tr th:only-of-type {\n",
       "        vertical-align: middle;\n",
       "    }\n",
       "\n",
       "    .dataframe tbody tr th {\n",
       "        vertical-align: top;\n",
       "    }\n",
       "\n",
       "    .dataframe thead th {\n",
       "        text-align: right;\n",
       "    }\n",
       "</style>\n",
       "<table border=\"1\" class=\"dataframe\">\n",
       "  <thead>\n",
       "    <tr style=\"text-align: right;\">\n",
       "      <th></th>\n",
       "      <th>title</th>\n",
       "      <th>sensitivity</th>\n",
       "      <th>content</th>\n",
       "      <th>title_content</th>\n",
       "    </tr>\n",
       "  </thead>\n",
       "  <tbody>\n",
       "    <tr>\n",
       "      <th>0</th>\n",
       "      <td>Despite US Warning, Turkey Has No Plans to Aba...</td>\n",
       "      <td>NaN</td>\n",
       "      <td>Recai Berber, member of Turkish parliament fro...</td>\n",
       "      <td>Despite US Warning, Turkey Has No Plans to Aba...</td>\n",
       "    </tr>\n",
       "    <tr>\n",
       "      <th>1</th>\n",
       "      <td>Moscow denounces ’anti-Russian’ US nuclear policy</td>\n",
       "      <td>NaN</td>\n",
       "      <td>MOSCOW (AFP) - Moscow on Saturday (Feb 3) deno...</td>\n",
       "      <td>Moscow denounces ’anti-Russian’ US nuclear pol...</td>\n",
       "    </tr>\n",
       "    <tr>\n",
       "      <th>2</th>\n",
       "      <td>Iran’s Rouhani raps US nuclear expansion plan ...</td>\n",
       "      <td>NaN</td>\n",
       "      <td>Dubai: Iran accused the United States on Sunda...</td>\n",
       "      <td>Iran’s Rouhani raps US nuclear expansion plan ...</td>\n",
       "    </tr>\n",
       "    <tr>\n",
       "      <th>3</th>\n",
       "      <td>Iranian President Hassan Rouhani raps new US n...</td>\n",
       "      <td>NaN</td>\n",
       "      <td>Iran accused the United States on Sunday of th...</td>\n",
       "      <td>Iranian President Hassan Rouhani raps new US n...</td>\n",
       "    </tr>\n",
       "    <tr>\n",
       "      <th>4</th>\n",
       "      <td>Iran’s Rouhani raps new U.S. nuclear plan as t...</td>\n",
       "      <td>NaN</td>\n",
       "      <td>DUBAI (Reuters) - Iran accused the United Stat...</td>\n",
       "      <td>Iran’s Rouhani raps new U.S. nuclear plan as t...</td>\n",
       "    </tr>\n",
       "  </tbody>\n",
       "</table>\n",
       "</div>"
      ],
      "text/plain": [
       "                                               title sensitivity  \\\n",
       "0  Despite US Warning, Turkey Has No Plans to Aba...         NaN   \n",
       "1  Moscow denounces ’anti-Russian’ US nuclear policy         NaN   \n",
       "2  Iran’s Rouhani raps US nuclear expansion plan ...         NaN   \n",
       "3  Iranian President Hassan Rouhani raps new US n...         NaN   \n",
       "4  Iran’s Rouhani raps new U.S. nuclear plan as t...         NaN   \n",
       "\n",
       "                                             content  \\\n",
       "0  Recai Berber, member of Turkish parliament fro...   \n",
       "1  MOSCOW (AFP) - Moscow on Saturday (Feb 3) deno...   \n",
       "2  Dubai: Iran accused the United States on Sunda...   \n",
       "3  Iran accused the United States on Sunday of th...   \n",
       "4  DUBAI (Reuters) - Iran accused the United Stat...   \n",
       "\n",
       "                                       title_content  \n",
       "0  Despite US Warning, Turkey Has No Plans to Aba...  \n",
       "1  Moscow denounces ’anti-Russian’ US nuclear pol...  \n",
       "2  Iran’s Rouhani raps US nuclear expansion plan ...  \n",
       "3  Iranian President Hassan Rouhani raps new US n...  \n",
       "4  Iran’s Rouhani raps new U.S. nuclear plan as t...  "
      ]
     },
     "execution_count": 99,
     "metadata": {},
     "output_type": "execute_result"
    }
   ],
   "source": [
    "# 相关\n",
    "cor_data_raw = cor_1\n",
    "print('去重前：', cor_data_raw.shape)\n",
    "cor_data_raw = cor_data_raw.drop_duplicates(subset = 'title')\n",
    "print('去重后：', cor_data_raw.shape)\n",
    "cor_data_raw.head()"
   ]
  },
  {
   "cell_type": "code",
   "execution_count": 100,
   "metadata": {
    "ExecuteTime": {
     "end_time": "2018-08-09T09:17:46.413072Z",
     "start_time": "2018-08-09T09:17:46.386071Z"
    }
   },
   "outputs": [
    {
     "name": "stdout",
     "output_type": "stream",
     "text": [
      "去重前： (5497, 3)\n",
      "去重后： (5492, 3)\n"
     ]
    },
    {
     "data": {
      "text/html": [
       "<div>\n",
       "<style scoped>\n",
       "    .dataframe tbody tr th:only-of-type {\n",
       "        vertical-align: middle;\n",
       "    }\n",
       "\n",
       "    .dataframe tbody tr th {\n",
       "        vertical-align: top;\n",
       "    }\n",
       "\n",
       "    .dataframe thead th {\n",
       "        text-align: right;\n",
       "    }\n",
       "</style>\n",
       "<table border=\"1\" class=\"dataframe\">\n",
       "  <thead>\n",
       "    <tr style=\"text-align: right;\">\n",
       "      <th></th>\n",
       "      <th>title</th>\n",
       "      <th>content</th>\n",
       "      <th>title_content</th>\n",
       "    </tr>\n",
       "  </thead>\n",
       "  <tbody>\n",
       "    <tr>\n",
       "      <th>0</th>\n",
       "      <td>Thai vendors rubbish criticism of famous Mae K...</td>\n",
       "      <td>BANGKOK (THE NATION/ASIA NEWS NETWORK) - Vendo...</td>\n",
       "      <td>Thai vendors rubbish criticism of famous Mae K...</td>\n",
       "    </tr>\n",
       "    <tr>\n",
       "      <th>1</th>\n",
       "      <td>French Politician Arrested for Justifying Terr...</td>\n",
       "      <td>Police arrested Stephane Poussier in his home ...</td>\n",
       "      <td>French Politician Arrested for Justifying Terr...</td>\n",
       "    </tr>\n",
       "    <tr>\n",
       "      <th>2</th>\n",
       "      <td>The classic explanation for the Black Death pl...</td>\n",
       "      <td>Plague came to Europe in the 14th century and ...</td>\n",
       "      <td>The classic explanation for the Black Death pl...</td>\n",
       "    </tr>\n",
       "    <tr>\n",
       "      <th>3</th>\n",
       "      <td>BRIEF-Sinopec Oilfield Service Gets Approval T...</td>\n",
       "      <td>Jan 17 (Reuters) - Sinopec Oilfield Service Co...</td>\n",
       "      <td>BRIEF-Sinopec Oilfield Service Gets Approval T...</td>\n",
       "    </tr>\n",
       "    <tr>\n",
       "      <th>4</th>\n",
       "      <td>BRIEF-Sinopec Oilfield Service Says Lock-Up Pe...</td>\n",
       "      <td>Dec 22 (Reuters) - Sinopec Oilfield Service Co...</td>\n",
       "      <td>BRIEF-Sinopec Oilfield Service Says Lock-Up Pe...</td>\n",
       "    </tr>\n",
       "  </tbody>\n",
       "</table>\n",
       "</div>"
      ],
      "text/plain": [
       "                                               title  \\\n",
       "0  Thai vendors rubbish criticism of famous Mae K...   \n",
       "1  French Politician Arrested for Justifying Terr...   \n",
       "2  The classic explanation for the Black Death pl...   \n",
       "3  BRIEF-Sinopec Oilfield Service Gets Approval T...   \n",
       "4  BRIEF-Sinopec Oilfield Service Says Lock-Up Pe...   \n",
       "\n",
       "                                             content  \\\n",
       "0  BANGKOK (THE NATION/ASIA NEWS NETWORK) - Vendo...   \n",
       "1  Police arrested Stephane Poussier in his home ...   \n",
       "2  Plague came to Europe in the 14th century and ...   \n",
       "3  Jan 17 (Reuters) - Sinopec Oilfield Service Co...   \n",
       "4  Dec 22 (Reuters) - Sinopec Oilfield Service Co...   \n",
       "\n",
       "                                       title_content  \n",
       "0  Thai vendors rubbish criticism of famous Mae K...  \n",
       "1  French Politician Arrested for Justifying Terr...  \n",
       "2  The classic explanation for the Black Death pl...  \n",
       "3  BRIEF-Sinopec Oilfield Service Gets Approval T...  \n",
       "4  BRIEF-Sinopec Oilfield Service Says Lock-Up Pe...  "
      ]
     },
     "execution_count": 100,
     "metadata": {},
     "output_type": "execute_result"
    }
   ],
   "source": [
    "# 不相关\n",
    "uncor_data_raw = uncor_1\n",
    "print('去重前：', uncor_data_raw.shape)\n",
    "uncor_data_raw = uncor_data_raw.drop_duplicates( subset = 'title')\n",
    "print('去重后：', uncor_data_raw.shape)\n",
    "uncor_data_raw.head()"
   ]
  },
  {
   "cell_type": "code",
   "execution_count": 102,
   "metadata": {
    "ExecuteTime": {
     "end_time": "2018-08-09T09:18:17.035824Z",
     "start_time": "2018-08-09T09:18:16.790810Z"
    }
   },
   "outputs": [
    {
     "name": "stdout",
     "output_type": "stream",
     "text": [
      "去重前： (11299, 4)\n",
      "去重后： (11237, 4)\n",
      "cor_data_raw:  (5776, 3)\n",
      "uncor_data_raw:  (5461, 3)\n"
     ]
    }
   ],
   "source": [
    "# 相关与不相关\n",
    "cor_data_raw['label'] = 1\n",
    "uncor_data_raw['label'] = 0\n",
    "data_raw = pd.concat([cor_data_raw[['label', 'title', 'content', 'title_content']], \n",
    "                      uncor_data_raw[['label', 'title', 'content', 'title_content']]])\n",
    "print('去重前：', data_raw.shape)\n",
    "data_raw = data_raw.drop_duplicates( subset = 'title', keep = False)\n",
    "print('去重后：', data_raw.shape)\n",
    "\n",
    "cor_data_raw = data_raw[data_raw['label'] == 1][['title', 'content', 'title_content']]\n",
    "uncor_data_raw = data_raw[data_raw['label'] == 0][['title', 'content', 'title_content']]\n",
    "print('cor_data_raw: ', cor_data_raw.shape)\n",
    "print('uncor_data_raw: ', uncor_data_raw.shape)"
   ]
  },
  {
   "cell_type": "code",
   "execution_count": null,
   "metadata": {
    "collapsed": true
   },
   "outputs": [],
   "source": []
  },
  {
   "cell_type": "code",
   "execution_count": null,
   "metadata": {
    "collapsed": true
   },
   "outputs": [],
   "source": []
  },
  {
   "cell_type": "markdown",
   "metadata": {},
   "source": [
    "# 预处理数据"
   ]
  },
  {
   "cell_type": "code",
   "execution_count": 103,
   "metadata": {
    "ExecuteTime": {
     "end_time": "2018-08-09T09:18:22.473135Z",
     "start_time": "2018-08-09T09:18:22.462134Z"
    }
   },
   "outputs": [
    {
     "name": "stdout",
     "output_type": "stream",
     "text": [
      "5776\n"
     ]
    },
    {
     "data": {
      "text/plain": [
       "'Despite US Warning, Turkey Has No Plans to Abandon S-400 Deal With Russia – MP - Sputnik International. Recai Berber, member of\\xa0Turkish parliament from\\xa0the ruling Justice and Development Party and chairman of\\xa0the parliamentary Turkish-Russian Friendship Group, has recalled that Ankara decided to\\xa0purchase the S-400 systems after\\xa0holding talks and reaching relevant agreements with\\xa0all its allies.\\n\"Consequently, we know that this decision cannot contradict our membership in NATO and allied relations with\\xa0the United States. Within the framework of\\xa0the agreement on\\xa0S-400, it is also a matter of\\xa0technology exchange between\\xa0Russia and Turkey. So NATO allies opposing it is out\\xa0of the question,\" Berber said.\\n\\n                        ©\\n                    Sputnik/ Alexey MalgavkoUS May Sanction Turkey Following Purchase of Russian S-400 Systems - ReportsHe pointed to \"contradictory messages to\\xa0the public \" issued by\\xa0the US State Department, the Pentagon and the US President, which he said led to\\xa0the situation when \"neither we nor the international community can understand which of\\xa0the messages reflects the true will of\\xa0the US Administration.\"\\nAccording to\\xa0him, the State Department’s statement was made without\\xa0any consultations given that positions on\\xa0the matter \"have already been clearly defined by\\xa0Turkey and NATO.\"\\n\"We have no doubt about\\xa0the purchase of\\xa0the S-400. Turkey adopted a relevant decision and clinched an agreement to\\xa0further develop the entire subsequent process. Such a statement by\\xa0the US State Department does not oblige Turkey to\\xa0anything,\" Berber emphasized.\\nHe was echoed by\\xa0Beyazıt Karatas, retired Major-General of\\xa0the Turkish Air Force, who specifically cited Ankara’s current \"sharp anti-American stance.\"\\n\"The US has repeatedly put obstacles to\\xa0Turkey’s attempts to\\xa0purchase long-range air defense systems. However, taking a decision on\\xa0the S-400, due to\\xa0be used separately from\\xa0NATO to\\xa0provide Turkey’s national security, Ankara made a meticulous long-term assessment of\\xa0the situation,\" Karatas noted.\\nHe recalled that the US continues to\\xa0exert all sorts of\\xa0pressure on\\xa0Turkey in\\xa0order to\\xa0prevent it from\\xa0purchasing the S-400 systems. According to\\xa0him, the main question is \"what steps the US will take regarding Ankara’s purchase of\\xa0these systems from\\xa0Russia.\"\\nREAD MORE: What’s Behind NATO’s Decision to\\xa0Accept Turkey’s Russian S-400 Purchase\\nCiting \"the political and military situation\", Karatas suggested that the US will be unable to\\xa0keep Turkey from\\xa0buying the S-400.\\n\"The US has lost support in\\xa0Turkey, both politically and socially, as\\xa085 percent of\\xa0the Turkish public supports the anti-American and anti-NATO stance. I believe that amid the ongoing Afrin military operation and Ankara’s further actions in\\xa0Syria as\\xa0part of\\xa0anti-terror fight, Turkey will not change its decision on\\xa0the purchase of\\xa0the S-400,\" he concluded.\\n\\n                        ©\\n                    REUTERS/ Mahmoud HebboAfrin Tensions: US Warns Turkey Against Actions on Syrian Kurds as Ankara Insists on Right to Self-DefenseEarlier this week, the US State Department threatened to\\xa0slap \"appropriate measures\" against\\xa0those countries which are willing to\\xa0agree with\\xa0Russia on\\xa0buying the S-400 systems.\\nIn September 2017, Moscow and Ankara clinched a deal on\\xa0the delivery of\\xa0the S-400 surface-to-air missile systems to\\xa0Turkey. Later that month, Russian presidential aide Vladimir Kozhin confirmed Turkey’s up-front payment for\\xa0the S-400s, saying that the delivery is scheduled for\\xa02019.\\nThe agreement caused uproar in\\xa0Washington, prompting Turkish President Recep Tayyip Erdogan to\\xa0underscore that his country was free to\\xa0make independent decisions about\\xa0its national security.\\nThe views and opinions expressed by\\xa0Recai Berber and Beyazıt Karatas are those of\\xa0the speakers and do not necessarily reflect Sputnik’s position.'"
      ]
     },
     "execution_count": 103,
     "metadata": {},
     "output_type": "execute_result"
    }
   ],
   "source": [
    "text = cor_data_raw['title_content'].tolist()\n",
    "print(len(text))\n",
    "text[0]"
   ]
  },
  {
   "cell_type": "markdown",
   "metadata": {},
   "source": [
    "## 合并步骤"
   ]
  },
  {
   "cell_type": "code",
   "execution_count": 113,
   "metadata": {
    "ExecuteTime": {
     "end_time": "2018-08-09T09:18:48.649632Z",
     "start_time": "2018-08-09T09:18:48.639631Z"
    },
    "collapsed": true
   },
   "outputs": [],
   "source": [
    "import nltk\n",
    "from nltk.stem import WordNetLemmatizer\n",
    "from string import digits\n",
    "import re\n",
    "\n",
    "stopwords = {}\n",
    "stw = open(\"corpus/stopwords.txt\", encoding='UTF-8')\n",
    "for ws in stw:\n",
    "    ws = ws.replace(\"\\n\", \"\")\n",
    "    ws = ws.replace(\"\\r\", \"\")\n",
    "    stopwords[ws] = 1\n",
    "stw.close()"
   ]
  },
  {
   "cell_type": "code",
   "execution_count": 114,
   "metadata": {
    "ExecuteTime": {
     "end_time": "2018-08-09T09:18:51.115773Z",
     "start_time": "2018-08-09T09:18:51.110773Z"
    },
    "collapsed": true
   },
   "outputs": [],
   "source": [
    "def handle_contents(l_contents):\n",
    "    lines = []\n",
    "    for line in l_contents:\n",
    "        lines.append(handle_content(line))\n",
    "    return lines    "
   ]
  },
  {
   "cell_type": "code",
   "execution_count": 115,
   "metadata": {
    "ExecuteTime": {
     "end_time": "2018-08-09T09:18:51.933820Z",
     "start_time": "2018-08-09T09:18:51.895818Z"
    },
    "collapsed": true
   },
   "outputs": [],
   "source": [
    "def handle_content(content):\n",
    "    content = str(content)\n",
    "    raw = content.strip()\n",
    "    line = \"\"\n",
    "    if raw != \"\":       \n",
    "        # 1 清理字符串\n",
    "        content = clean_sent(content)\n",
    "\n",
    "        # 2 分句\n",
    "        sent_tokenize_list = nltk.sent_tokenize(content)\n",
    "        \n",
    "        # 3 清理句子\n",
    "        clean_sent_list = [clean_sent(sent) for sent in sent_tokenize_list]\n",
    "        \n",
    "        # 4 分词 \n",
    "        # 去掉长度小于3、去掉数字、去掉标点符号/去掉 non-alpha 词\n",
    "        word_tokenize_list = []\n",
    "        for sent in clean_sent_list:\n",
    "            word_t_l = filter(lambda x: len(x) > 3, map(clean_word, nltk.word_tokenize(sent)))\n",
    "            word_tokenize_list += list(word_t_l)\n",
    "        \n",
    "        # 5 清理词\n",
    "        # 去掉停用词、，小写化\n",
    "        word_list = [word.lower() for word in word_tokenize_list if word.lower() not in stopwords]\n",
    "        \n",
    "        # 6 词形还原\n",
    "        wnl = WordNetLemmatizer()\n",
    "        word_list = [wnl.lemmatize(word) for word in word_list]\n",
    "\n",
    "        line = \" \".join(word_list)\n",
    "    return line"
   ]
  },
  {
   "cell_type": "code",
   "execution_count": 116,
   "metadata": {
    "ExecuteTime": {
     "end_time": "2018-08-09T09:18:52.781868Z",
     "start_time": "2018-08-09T09:18:52.759867Z"
    },
    "collapsed": true
   },
   "outputs": [],
   "source": [
    "def clean_sent(sent):\n",
    "    sent = sent.replace(\"\\n\", \" \").replace('\\r',' ').replace('\\r\\n',' ')\n",
    "    sent = sent.replace('\\t', ' ').replace('\\xa0', ' ')\n",
    "    reobj = re.compile('//@(.*?)[:\\s]')\n",
    "    sent = reobj.sub(\"\", sent)\n",
    "    reobj = re.compile(\"@(.*?)[:\\s]\")\n",
    "    sent = reobj.sub(\"\", sent)\n",
    "    reobj = re.compile(r\"\\[[^\\[\\]]*?\\]\")\n",
    "    sent = reobj.sub(\"\", sent)\n",
    "\n",
    "    sent = sent.replace(\"，\", \",\")\n",
    "    sent = sent.replace(\"。\", \".\")\n",
    "    sent = sent.replace(\"！\", \"!\")\n",
    "    sent = sent.replace(\"？\", \"?\")\n",
    "    reobj = re.compile(\"//(.*?)[:\\s]\")\n",
    "    sent = reobj.sub(\"\", sent)\n",
    "    return sent"
   ]
  },
  {
   "cell_type": "code",
   "execution_count": 117,
   "metadata": {
    "ExecuteTime": {
     "end_time": "2018-08-09T09:18:53.362902Z",
     "start_time": "2018-08-09T09:18:53.352901Z"
    },
    "collapsed": true
   },
   "outputs": [],
   "source": [
    "def clean_word(s):  \n",
    "    # 去除标点和特殊字符、数字、汉字\n",
    "    regex = re.compile(r\"[^a-zA-Z]\")\n",
    "    s = regex.sub('', s)\n",
    "    \n",
    "    # 去除字符串中的数字 s = 'abc123def456ghi789zero0'\n",
    "    remove_digits = str.maketrans('', '', digits)\n",
    "    res = s.translate(remove_digits)\n",
    "    return res"
   ]
  },
  {
   "cell_type": "code",
   "execution_count": 118,
   "metadata": {
    "ExecuteTime": {
     "end_time": "2018-08-09T09:18:54.969994Z",
     "start_time": "2018-08-09T09:18:54.957993Z"
    }
   },
   "outputs": [
    {
     "data": {
      "text/plain": [
       "['Recai Berber, member of\\xa0Turkish parliament from\\xa0the ruling Justice and Development Party and chairman of\\xa0the parliamentary Turkish-Russian Friendship Group, has recalled that Ankara decided to\\xa0purchase the S-400 systems after\\xa0holding talks and reaching relevant agreements with\\xa0all its allies.\\n\"Consequently, we know that this decision cannot contradict our membership in NATO and allied relations with\\xa0the United States. Within the framework of\\xa0the agreement on\\xa0S-400, it is also a matter of\\xa0technology exchange between\\xa0Russia and Turkey. So NATO allies opposing it is out\\xa0of the question,\" Berber said.\\n\\n                        ©\\n                    Sputnik/ Alexey MalgavkoUS May Sanction Turkey Following Purchase of Russian S-400 Systems - ReportsHe pointed to \"contradictory messages to\\xa0the public \" issued by\\xa0the US State Department, the Pentagon and the US President, which he said led to\\xa0the situation when \"neither we nor the international community can understand which of\\xa0the messages reflects the true will of\\xa0the US Administration.\"\\nAccording to\\xa0him, the State Department’s statement was made without\\xa0any consultations given that positions on\\xa0the matter \"have already been clearly defined by\\xa0Turkey and NATO.\"\\n\"We have no doubt about\\xa0the purchase of\\xa0the S-400. Turkey adopted a relevant decision and clinched an agreement to\\xa0further develop the entire subsequent process. Such a statement by\\xa0the US State Department does not oblige Turkey to\\xa0anything,\" Berber emphasized.\\nHe was echoed by\\xa0Beyazıt Karatas, retired Major-General of\\xa0the Turkish Air Force, who specifically cited Ankara’s current \"sharp anti-American stance.\"\\n\"The US has repeatedly put obstacles to\\xa0Turkey’s attempts to\\xa0purchase long-range air defense systems. However, taking a decision on\\xa0the S-400, due to\\xa0be used separately from\\xa0NATO to\\xa0provide Turkey’s national security, Ankara made a meticulous long-term assessment of\\xa0the situation,\" Karatas noted.\\nHe recalled that the US continues to\\xa0exert all sorts of\\xa0pressure on\\xa0Turkey in\\xa0order to\\xa0prevent it from\\xa0purchasing the S-400 systems. According to\\xa0him, the main question is \"what steps the US will take regarding Ankara’s purchase of\\xa0these systems from\\xa0Russia.\"\\nREAD MORE: What’s Behind NATO’s Decision to\\xa0Accept Turkey’s Russian S-400 Purchase\\nCiting \"the political and military situation\", Karatas suggested that the US will be unable to\\xa0keep Turkey from\\xa0buying the S-400.\\n\"The US has lost support in\\xa0Turkey, both politically and socially, as\\xa085 percent of\\xa0the Turkish public supports the anti-American and anti-NATO stance. I believe that amid the ongoing Afrin military operation and Ankara’s further actions in\\xa0Syria as\\xa0part of\\xa0anti-terror fight, Turkey will not change its decision on\\xa0the purchase of\\xa0the S-400,\" he concluded.\\n\\n                        ©\\n                    REUTERS/ Mahmoud HebboAfrin Tensions: US Warns Turkey Against Actions on Syrian Kurds as Ankara Insists on Right to Self-DefenseEarlier this week, the US State Department threatened to\\xa0slap \"appropriate measures\" against\\xa0those countries which are willing to\\xa0agree with\\xa0Russia on\\xa0buying the S-400 systems.\\nIn September 2017, Moscow and Ankara clinched a deal on\\xa0the delivery of\\xa0the S-400 surface-to-air missile systems to\\xa0Turkey. Later that month, Russian presidential aide Vladimir Kozhin confirmed Turkey’s up-front payment for\\xa0the S-400s, saying that the delivery is scheduled for\\xa02019.\\nThe agreement caused uproar in\\xa0Washington, prompting Turkish President Recep Tayyip Erdogan to\\xa0underscore that his country was free to\\xa0make independent decisions about\\xa0its national security.\\nThe views and opinions expressed by\\xa0Recai Berber and Beyazıt Karatas are those of\\xa0the speakers and do not necessarily reflect Sputnik’s position.',\n",
       " 'MOSCOW (AFP) - Moscow on Saturday (Feb 3) denounced the \"bellicose\" and \"anti-Russian\" nature of new US nuclear policy, warning it would take necessary measures to ensure its own security.\\n\"The bellicose and anti-Russian nature of this document is obvious,\" the foreign ministry said in a statement, adding that it was \"deeply disappointed\".\\nThe Pentagon on Friday revealed plans to revamp its nuclear arsenal, largely in response to Russian actions in recent years.\\nThe so-called Nuclear Posture Review, released on Friday, outlines the Pentagon’s nuclear ambitions under President Donald Trump and is the first time since 2010 that the military has spelled out how it foresees nuclear threats in the coming decades.\\nWhile the document underscores the administration’s concerns about North Korea, Iran and China, the focus falls largely on Russia.\\n\"This is a response to Russian expansion of their capability and the nature of their strategy and doctrine,\" Defence Secretary James Mattis wrote in the introduction to the 75-page document.\\n\"These developments, coupled with Russia’s seizure of Crimea and nuclear threats against our allies, mark Moscow’s decided return to Great Power competition,\" he also wrote.\\nThe Pentagon worries Russia assumes America’s regular, large-yield weapons are essentially too big to ever be detonated, as their use would likely result in large-scale retaliation and wipe much of humanity off the map.\\n\"There are strong indications that our current strategy posture and capabilities are perceived by the Russians as potentially inadequate to deter them,\" Mr Greg Weaver, the deputy director of strategic capabilities for the military’s Joint Staff, told reporters.\\n\"The US and Nato require a wider range of credible low-yield nuclear options to do a very specific thing: to convince the Russian leadership that if they initiate limited nuclear use, in a war with the alliance, our response will deny them the objective they seek and impose costs that far outweigh those benefits they can achieve,\" he added.\\nThe document, an earlier version of which was leaked last month, says that by having more, smaller nukes the Pentagon can counter adversaries’ \"misperceptions\" that the United States would not respond to another country using its own low-yield bomb.']"
      ]
     },
     "execution_count": 118,
     "metadata": {},
     "output_type": "execute_result"
    }
   ],
   "source": [
    "cor_data[:2]"
   ]
  },
  {
   "cell_type": "code",
   "execution_count": 119,
   "metadata": {
    "ExecuteTime": {
     "end_time": "2018-08-09T09:18:55.946049Z",
     "start_time": "2018-08-09T09:18:55.920048Z"
    }
   },
   "outputs": [
    {
     "data": {
      "text/plain": [
       "['recai berber turkish parliament ruling justice development party chairman parliamentary turkishrussian friendship recalled ankara decided purchase system holding talk reaching relevant agreement ally decision contradict membership nato allied relation united framework agreement matter technology exchange russia turkey nato ally opposing question berber sputnik alexey malgavkous sanction turkey purchase russian system reportshe contradictory message public issued department pentagon president situation international community understand message reflects true administration department statement consultation position matter defined turkey nato doubt purchase turkey relevant decision clinched agreement develop entire subsequent process statement department oblige turkey berber emphasized echoed beyazt karatas retired majorgeneral turkish force cited ankara current sharp antiamerican stance repeatedly obstacle turkey attempt purchase longrange defense system decision separately nato provide turkey national security ankara meticulous longterm assessment situation karatas recalled continues exert sort pressure turkey prevent purchasing system main question step ankara purchase system russia read nato decision accept turkey russian purchase citing political military situation karatas suggested unable turkey buying lost support turkey politically socially percent turkish public support antiamerican antinato stance amid ongoing afrin military operation ankara action syria antiterror fight turkey change decision purchase concluded reuters mahmoud hebboafrin tension warns turkey action syrian kurd ankara insists selfdefenseearlier week department threatened slap measure country agree russia buying system september moscow ankara clinched deal delivery surfacetoair missile system turkey month russian presidential aide vladimir kozhin confirmed turkey upfront payment delivery scheduled agreement caused uproar washington prompting turkish president recep tayyip erdogan underscore country free independent decision national security view opinion expressed recai berber beyazt karatas speaker reflect sputnik position',\n",
       " 'moscow moscow saturday denounced bellicose antirussian nature nuclear policy warning measure ensure security bellicose antirussian nature document obvious foreign ministry statement adding deeply disappointed pentagon friday revealed plan revamp nuclear arsenal response russian action socalled nuclear posture review released friday outline pentagon nuclear ambition president donald trump time military spelled foresees nuclear threat coming decade document underscore administration concern north korea iran china focus fall russia response russian expansion capability nature strategy doctrine defence secretary james mattis wrote introduction document development coupled russia seizure crimea nuclear threat ally mark moscow decided return power competition wrote pentagon worry russia assumes america regular largeyield weapon essentially detonated result largescale retaliation wipe humanity strong indication current strategy posture capability perceived russian inadequate deter greg weaver deputy director strategic capability military joint staff told reporter nato require wider range credible lowyield nuclear option specific convince russian leadership initiate limited nuclear alliance response deny objective seek impose cost outweigh benefit achieve document earlier version leaked month nuke pentagon counter adversary misperceptions united respond country lowyield bomb']"
      ]
     },
     "execution_count": 119,
     "metadata": {},
     "output_type": "execute_result"
    }
   ],
   "source": [
    "handle_contents(cor_data[:2])"
   ]
  },
  {
   "cell_type": "code",
   "execution_count": 120,
   "metadata": {
    "ExecuteTime": {
     "end_time": "2018-08-09T09:19:56.716525Z",
     "start_time": "2018-08-09T09:18:58.432192Z"
    }
   },
   "outputs": [
    {
     "name": "stdout",
     "output_type": "stream",
     "text": [
      "5776\n",
      "data/20180808/corpus_pre_cor_0809.txt\n"
     ]
    }
   ],
   "source": [
    "# 相关数据\n",
    "cor_data = cor_data_raw['content'].tolist()\n",
    "print(len(cor_data))\n",
    "corpus_cor = handle_contents(cor_data)\n",
    "\n",
    "save_filename = 'data/{0}/corpus_pre_cor_0809.txt'.format(folder)\n",
    "print(save_filename)\n",
    "fid = open(save_filename, \"w+\", encoding='UTF-8')\n",
    "for data in corpus_cor:\n",
    "    fid.write(data + '\\n')\n",
    "fid.close()"
   ]
  },
  {
   "cell_type": "code",
   "execution_count": 121,
   "metadata": {
    "ExecuteTime": {
     "end_time": "2018-08-09T09:20:45.971342Z",
     "start_time": "2018-08-09T09:19:57.211554Z"
    }
   },
   "outputs": [
    {
     "name": "stdout",
     "output_type": "stream",
     "text": [
      "5461\n",
      "data/20180808/corpus_pre_uncor_0809.txt\n"
     ]
    }
   ],
   "source": [
    "# 不相关数据\n",
    "uncor_data = uncor_data_raw['content'].tolist()\n",
    "print(len(uncor_data))\n",
    "corpus_uncor = handle_contents(uncor_data)\n",
    "\n",
    "save_filename = 'data/{0}/corpus_pre_uncor_0809.txt'.format(folder)\n",
    "print(save_filename)\n",
    "fid = open(save_filename, \"w+\", encoding='UTF-8')\n",
    "for data in corpus_uncor:\n",
    "    fid.write(data + '\\n')\n",
    "fid.close()"
   ]
  },
  {
   "cell_type": "markdown",
   "metadata": {
    "collapsed": true
   },
   "source": [
    "# 保存本文件"
   ]
  },
  {
   "cell_type": "code",
   "execution_count": 70,
   "metadata": {
    "ExecuteTime": {
     "end_time": "2018-06-27T08:59:12.287167Z",
     "start_time": "2018-06-27T08:59:12.234164Z"
    },
    "collapsed": true
   },
   "outputs": [],
   "source": [
    "if 0:\n",
    "    import datetime as dt\n",
    "    \n",
    "    def output_HTML(read_file, output_file):\n",
    "        from nbconvert import HTMLExporter\n",
    "        import codecs\n",
    "        import nbformat\n",
    "        exporter = HTMLExporter()\n",
    "        # read_file is '.ipynb', output_file is '.html'\n",
    "        output_notebook = nbformat.read(read_file, as_version=4)\n",
    "        output, resources = exporter.from_notebook_node(output_notebook)\n",
    "        codecs.open(output_file, 'w', encoding='utf-8').write(output)\n",
    "\n",
    "    html_file_folder = 'html_files'\n",
    "    if not os.path.exists(html_file_folder):\n",
    "        os.makedirs(html_file_folder)\n",
    "\n",
    "    today = dt.datetime.now().strftime('%Y%m%d')\n",
    "    current_file = 'circ_cor_model_1_pre.ipynb'\n",
    "    output_file = 'html_files\\%s_%s.html'%(os.path.splitext(current_file)[0], today)\n",
    "    output_HTML(current_file, output_file)"
   ]
  }
 ],
 "metadata": {
  "kernelspec": {
   "display_name": "Python 3",
   "language": "python",
   "name": "python3"
  },
  "language_info": {
   "codemirror_mode": {
    "name": "ipython",
    "version": 3
   },
   "file_extension": ".py",
   "mimetype": "text/x-python",
   "name": "python",
   "nbconvert_exporter": "python",
   "pygments_lexer": "ipython3",
   "version": "3.6.3"
  },
  "toc": {
   "nav_menu": {},
   "number_sections": true,
   "sideBar": true,
   "skip_h1_title": false,
   "title_cell": "Table of Contents",
   "title_sidebar": "Contents",
   "toc_cell": false,
   "toc_position": {
    "height": "calc(100% - 180px)",
    "left": "10px",
    "top": "150px",
    "width": "376px"
   },
   "toc_section_display": true,
   "toc_window_display": true
  },
  "varInspector": {
   "cols": {
    "lenName": 16,
    "lenType": 16,
    "lenVar": 40
   },
   "kernels_config": {
    "python": {
     "delete_cmd_postfix": "",
     "delete_cmd_prefix": "del ",
     "library": "var_list.py",
     "varRefreshCmd": "print(var_dic_list())"
    },
    "r": {
     "delete_cmd_postfix": ") ",
     "delete_cmd_prefix": "rm(",
     "library": "var_list.r",
     "varRefreshCmd": "cat(var_dic_list()) "
    }
   },
   "types_to_exclude": [
    "module",
    "function",
    "builtin_function_or_method",
    "instance",
    "_Feature"
   ],
   "window_display": false
  }
 },
 "nbformat": 4,
 "nbformat_minor": 2
}
