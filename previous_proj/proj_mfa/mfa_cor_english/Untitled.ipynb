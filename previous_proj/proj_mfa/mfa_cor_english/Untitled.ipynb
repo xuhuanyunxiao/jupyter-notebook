{
 "cells": [
  {
   "cell_type": "code",
   "execution_count": 1,
   "metadata": {
    "ExecuteTime": {
     "end_time": "2019-04-03T06:07:18.589000Z",
     "start_time": "2019-04-03T06:07:18.560000Z"
    },
    "collapsed": true
   },
   "outputs": [],
   "source": [
    "import chardet"
   ]
  },
  {
   "cell_type": "code",
   "execution_count": 3,
   "metadata": {
    "ExecuteTime": {
     "end_time": "2019-04-03T06:07:26.463000Z",
     "start_time": "2019-04-03T06:07:26.451000Z"
    }
   },
   "outputs": [
    {
     "name": "stdout",
     "output_type": "stream",
     "text": [
      "\\xe6\\x97\\xa0\\xe6\\xb3\\x95\\xe5\\x8a\\xa0\\xe8\\xbd\\xbd\\xe6\\x8e\\xa7\\xe5\\x88\\xb6\\xe5\\x99\\xa8:Index.php\n"
     ]
    },
    {
     "data": {
      "text/plain": [
       "{'confidence': 1.0, 'encoding': 'ascii', 'language': ''}"
      ]
     },
     "execution_count": 3,
     "metadata": {},
     "output_type": "execute_result"
    }
   ],
   "source": [
    "t= r'\\xe6\\x97\\xa0\\xe6\\xb3\\x95\\xe5\\x8a\\xa0\\xe8\\xbd\\xbd\\xe6\\x8e\\xa7\\xe5\\x88\\xb6\\xe5\\x99\\xa8:Index.php'\n",
    "print(t)\n",
    "chardet.detect(t)"
   ]
  },
  {
   "cell_type": "code",
   "execution_count": 4,
   "metadata": {
    "ExecuteTime": {
     "end_time": "2019-04-03T06:07:41.599000Z",
     "start_time": "2019-04-03T06:07:41.588000Z"
    }
   },
   "outputs": [
    {
     "name": "stdout",
     "output_type": "stream",
     "text": [
      "\\xe6\\x97\\xa0\\xe6\\xb3\\x95\\xe5\\x8a\\xa0\\xe8\\xbd\\xbd\\xe6\\x8e\\xa7\\xe5\\x88\\xb6\\xe5\\x99\\xa8:Index.php\n"
     ]
    },
    {
     "data": {
      "text/plain": [
       "u'\\\\xe6\\\\x97\\\\xa0\\\\xe6\\\\xb3\\\\x95\\\\xe5\\\\x8a\\\\xa0\\\\xe8\\\\xbd\\\\xbd\\\\xe6\\\\x8e\\\\xa7\\\\xe5\\\\x88\\\\xb6\\\\xe5\\\\x99\\\\xa8:Index.php'"
      ]
     },
     "execution_count": 4,
     "metadata": {},
     "output_type": "execute_result"
    }
   ],
   "source": [
    "print t.decode('ascii')\n",
    "t.decode('ascii')"
   ]
  },
  {
   "cell_type": "code",
   "execution_count": 11,
   "metadata": {
    "ExecuteTime": {
     "end_time": "2019-04-03T06:09:35.917000Z",
     "start_time": "2019-04-03T06:09:35.898000Z"
    }
   },
   "outputs": [
    {
     "ename": "UnicodeDecodeError",
     "evalue": "'ascii' codec can't decode byte 0xa0 in position 0: ordinal not in range(128)",
     "output_type": "error",
     "traceback": [
      "\u001b[1;31m---------------------------------------------------------------------------\u001b[0m",
      "\u001b[1;31mUnicodeDecodeError\u001b[0m                        Traceback (most recent call last)",
      "\u001b[1;32m<ipython-input-11-17ae93e3f4b7>\u001b[0m in \u001b[0;36m<module>\u001b[1;34m()\u001b[0m\n\u001b[0;32m      1\u001b[0m \u001b[0mstrs\u001b[0m \u001b[1;33m=\u001b[0m \u001b[1;34m'\\xa0'\u001b[0m\u001b[1;33m\u001b[0m\u001b[0m\n\u001b[1;32m----> 2\u001b[1;33m \u001b[0mbytes\u001b[0m\u001b[1;33m(\u001b[0m\u001b[0mstrs\u001b[0m\u001b[1;33m)\u001b[0m\u001b[1;33m.\u001b[0m\u001b[0mdecode\u001b[0m\u001b[1;33m(\u001b[0m\u001b[1;34m'ascii'\u001b[0m\u001b[1;33m)\u001b[0m\u001b[1;33m\u001b[0m\u001b[0m\n\u001b[0m",
      "\u001b[1;31mUnicodeDecodeError\u001b[0m: 'ascii' codec can't decode byte 0xa0 in position 0: ordinal not in range(128)"
     ]
    }
   ],
   "source": [
    "strs = '\\xa0'\n",
    "strs.decode('ascii')"
   ]
  },
  {
   "cell_type": "code",
   "execution_count": 12,
   "metadata": {
    "ExecuteTime": {
     "end_time": "2019-04-03T08:50:07.062000Z",
     "start_time": "2019-04-03T08:50:06.964000Z"
    }
   },
   "outputs": [
    {
     "name": "stdout",
     "output_type": "stream",
     "text": [
      "马克, 有空吗？\n"
     ]
    }
   ],
   "source": [
    "import re\n",
    "\n",
    "supportProjectDict = {u'名字':u'马克'}\n",
    "line = u'名字, 有空吗？'\n",
    "for key, value in supportProjectDict.iteritems():\n",
    "        line = re.sub(ur'%s,' % key, ur'%s,' % value, line, flags=re.UNICODE)\n",
    "print line"
   ]
  },
  {
   "cell_type": "code",
   "execution_count": null,
   "metadata": {
    "collapsed": true
   },
   "outputs": [],
   "source": []
  }
 ],
 "metadata": {
  "kernelspec": {
   "display_name": "Python 2",
   "language": "python",
   "name": "python2"
  },
  "language_info": {
   "codemirror_mode": {
    "name": "ipython",
    "version": 2
   },
   "file_extension": ".py",
   "mimetype": "text/x-python",
   "name": "python",
   "nbconvert_exporter": "python",
   "pygments_lexer": "ipython2",
   "version": "2.7.15"
  },
  "toc": {
   "base_numbering": 1,
   "nav_menu": {},
   "number_sections": true,
   "sideBar": true,
   "skip_h1_title": false,
   "title_cell": "Table of Contents",
   "title_sidebar": "Contents",
   "toc_cell": false,
   "toc_position": {},
   "toc_section_display": true,
   "toc_window_display": false
  },
  "varInspector": {
   "cols": {
    "lenName": 16,
    "lenType": 16,
    "lenVar": 40
   },
   "kernels_config": {
    "python": {
     "delete_cmd_postfix": "",
     "delete_cmd_prefix": "del ",
     "library": "var_list.py",
     "varRefreshCmd": "print(var_dic_list())"
    },
    "r": {
     "delete_cmd_postfix": ") ",
     "delete_cmd_prefix": "rm(",
     "library": "var_list.r",
     "varRefreshCmd": "cat(var_dic_list()) "
    }
   },
   "types_to_exclude": [
    "module",
    "function",
    "builtin_function_or_method",
    "instance",
    "_Feature"
   ],
   "window_display": false
  }
 },
 "nbformat": 4,
 "nbformat_minor": 2
}
