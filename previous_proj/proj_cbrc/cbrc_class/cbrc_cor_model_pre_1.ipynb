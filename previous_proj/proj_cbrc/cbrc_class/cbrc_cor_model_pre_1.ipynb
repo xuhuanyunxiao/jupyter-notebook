{
 "cells": [
  {
   "cell_type": "markdown",
   "metadata": {},
   "source": [
    "# 基本设置"
   ]
  },
  {
   "cell_type": "code",
   "execution_count": 1,
   "metadata": {
    "ExecuteTime": {
     "end_time": "2018-08-27T03:57:38.206539Z",
     "start_time": "2018-08-27T03:57:33.534560Z"
    }
   },
   "outputs": [
    {
     "name": "stderr",
     "output_type": "stream",
     "text": [
      "Building prefix dict from the default dictionary ...\n",
      "Loading model from cache /tmp/jieba.cache\n",
      "Loading model cost 1.392 seconds.\n",
      "Prefix dict has been built succesfully.\n"
     ]
    }
   ],
   "source": [
    "import sys\n",
    "import re\n",
    "import time\n",
    "import string\n",
    "\n",
    "import xlrd\n",
    "\n",
    "%matplotlib inline\n",
    "import numpy as np\n",
    "import pandas as pd\n",
    "import pre_cor_b\n",
    "# import pre_cor\n",
    "import os\n",
    "from sqlalchemy import create_engine\n",
    "from pandas.io import sql\n",
    "import re \n",
    "import warnings\n",
    "warnings.filterwarnings('ignore')"
   ]
  },
  {
   "cell_type": "markdown",
   "metadata": {},
   "source": [
    "# 读取文件"
   ]
  },
  {
   "cell_type": "code",
   "execution_count": 2,
   "metadata": {
    "ExecuteTime": {
     "end_time": "2018-08-27T03:57:38.212825Z",
     "start_time": "2018-08-27T03:57:38.209003Z"
    }
   },
   "outputs": [],
   "source": [
    "folder = '20180814'"
   ]
  },
  {
   "cell_type": "markdown",
   "metadata": {},
   "source": [
    "## 预测正确数据"
   ]
  },
  {
   "cell_type": "code",
   "execution_count": 3,
   "metadata": {
    "ExecuteTime": {
     "end_time": "2018-08-27T03:57:38.220080Z",
     "start_time": "2018-08-27T03:57:38.214939Z"
    }
   },
   "outputs": [],
   "source": [
    "# file_list_1 = ['class_predict_result_20180806_c.xlsx',]"
   ]
  },
  {
   "cell_type": "code",
   "execution_count": 4,
   "metadata": {
    "ExecuteTime": {
     "end_time": "2018-08-27T03:57:38.229582Z",
     "start_time": "2018-08-27T03:57:38.222256Z"
    }
   },
   "outputs": [],
   "source": [
    "# cir_data_raw_1 = pd.DataFrame()\n",
    "# for file_name in file_list_1:\n",
    "#     currentPath  = 'data/20180808/{0}'.format(file_name)\n",
    "#     excel = xlrd.open_workbook(currentPath)\n",
    "#     sheet_names = [sheet.name for sheet in excel.sheets()]\n",
    "#     for sheet_name in sheet_names:    \n",
    "#         tmp_data = pd.read_excel(currentPath, sheet_name)\n",
    "#         tmp_data = tmp_data[tmp_data['R_W'] == 'Right']\n",
    "#         print('去空值前： ', tmp_data.shape, file_name, sheet_name)\n",
    "#         tmp_data = tmp_data[tmp_data['备注'] != '删除']\n",
    "# #         tmp_data = tmp_data.dropna(subset = ['raw_title'], axis = 0)\n",
    "#         print('去空值后： ', tmp_data.shape, file_name, sheet_name)\n",
    "#         cir_data_raw_1 = pd.concat([cir_data_raw_1, tmp_data], axis = 0)\n",
    "\n",
    "# cir_data_raw_1['label'] = cir_data_raw_1['label'].apply(lambda x:x.strip())    \n",
    "# cir_data_raw_1 = cir_data_raw_1[['label', 'raw_title', 'raw_content']]\n",
    "# cir_data_raw_1.columns = ['label', 'title', 'content']\n",
    "# print('总数：', cir_data_raw_1.shape)\n",
    "# cir_data_raw_1.head()"
   ]
  },
  {
   "cell_type": "code",
   "execution_count": 5,
   "metadata": {
    "ExecuteTime": {
     "end_time": "2018-08-27T03:57:38.236227Z",
     "start_time": "2018-08-27T03:57:38.231787Z"
    }
   },
   "outputs": [],
   "source": [
    "# cir_data_raw_1['label'].value_counts()"
   ]
  },
  {
   "cell_type": "markdown",
   "metadata": {},
   "source": [
    "## 预测错误修正后数据"
   ]
  },
  {
   "cell_type": "code",
   "execution_count": 6,
   "metadata": {
    "ExecuteTime": {
     "end_time": "2018-08-27T03:57:38.242996Z",
     "start_time": "2018-08-27T03:57:38.238483Z"
    }
   },
   "outputs": [],
   "source": [
    "# file_list_2 = ['20180807_class_predict_result_check.xlsx',]"
   ]
  },
  {
   "cell_type": "code",
   "execution_count": 7,
   "metadata": {
    "ExecuteTime": {
     "end_time": "2018-08-27T03:57:38.250742Z",
     "start_time": "2018-08-27T03:57:38.245250Z"
    }
   },
   "outputs": [],
   "source": [
    "# cir_data_raw_2 = pd.DataFrame()\n",
    "# for file_name in file_list_2:\n",
    "#     currentPath  = 'data/20180808/{0}'.format(file_name)\n",
    "#     excel = xlrd.open_workbook(currentPath)\n",
    "#     sheet_names = [sheet.name for sheet in excel.sheets()]\n",
    "#     for sheet_name in sheet_names:    \n",
    "#         tmp_data = pd.read_excel(currentPath, sheet_name)\n",
    "#         tmp_data = tmp_data[tmp_data['R_W'] == 'Wrong']\n",
    "#         print('去空值前： ', tmp_data.shape, file_name, sheet_name)\n",
    "#         tmp_data = tmp_data[tmp_data['备注'] != '删除']\n",
    "# #         tmp_data = tmp_data.dropna(subset = ['raw_title'], axis = 0)\n",
    "#         print('去空值后： ', tmp_data.shape, file_name, sheet_name)\n",
    "#         cir_data_raw_2 = pd.concat([cir_data_raw_2, tmp_data], axis = 0)\n",
    "\n",
    "# cir_data_raw_2['label'] = cir_data_raw_2['label'].apply(lambda x:x.strip())  \n",
    "# cir_data_raw_2 = cir_data_raw_2[['备注', 'raw_title', 'raw_content']]\n",
    "# cir_data_raw_2.columns = ['label', 'title', 'content']\n",
    "# print('总数：', cir_data_raw_2.shape)\n",
    "# cir_data_raw_2.head()"
   ]
  },
  {
   "cell_type": "code",
   "execution_count": 8,
   "metadata": {
    "ExecuteTime": {
     "end_time": "2018-08-27T03:57:38.259579Z",
     "start_time": "2018-08-27T03:57:38.252978Z"
    }
   },
   "outputs": [],
   "source": [
    "# cir_data_raw_2['label'].value_counts()"
   ]
  },
  {
   "cell_type": "markdown",
   "metadata": {},
   "source": [
    "## 新补充数据"
   ]
  },
  {
   "cell_type": "code",
   "execution_count": 9,
   "metadata": {
    "ExecuteTime": {
     "end_time": "2018-08-27T03:57:38.267367Z",
     "start_time": "2018-08-27T03:57:38.261829Z"
    }
   },
   "outputs": [],
   "source": [
    "file_list_3 = ['20180814_cbrc_class_1.xlsx', '20180814_cbrc_class_2.xlsx',\n",
    "               '20180817_cbrc_class_1.xlsx', '20180823_cbrc_class_1.xlsx',\n",
    "               '20180823_cbrc_class_2.xlsx', '20180823_cbrc_class_3.xlsx', \n",
    "               '20180824_cbrc_class_1.xlsx', '20180824_cbrc_class_2.xlsx', \n",
    "               '20180824_cbrc_class_3.xlsx'] # 多个 sheet"
   ]
  },
  {
   "cell_type": "code",
   "execution_count": 10,
   "metadata": {
    "ExecuteTime": {
     "end_time": "2018-08-27T03:57:41.959228Z",
     "start_time": "2018-08-27T03:57:38.269602Z"
    }
   },
   "outputs": [
    {
     "name": "stdout",
     "output_type": "stream",
     "text": [
      "Index(['url', 'title', 'content', 'label'], dtype='object')\n",
      "去空值前：  (100, 3) 20180814_cbrc_class_1.xlsx 噪音\n",
      "去空值后：  (100, 3) 20180814_cbrc_class_1.xlsx 噪音\n",
      "Index(['title', 'content', 'label'], dtype='object')\n",
      "去空值前：  (100, 3) 20180814_cbrc_class_1.xlsx 公司内部管理\n",
      "去空值后：  (100, 3) 20180814_cbrc_class_1.xlsx 公司内部管理\n",
      "Index(['title', 'content', 'label'], dtype='object')\n",
      "去空值前：  (100, 3) 20180814_cbrc_class_1.xlsx 行业\n",
      "去空值后：  (100, 3) 20180814_cbrc_class_1.xlsx 行业\n",
      "Index(['title', 'content', 'label'], dtype='object')\n",
      "去空值前：  (100, 3) 20180814_cbrc_class_1.xlsx 监管\n",
      "去空值后：  (100, 3) 20180814_cbrc_class_1.xlsx 监管\n",
      "Index(['title', 'content', 'label'], dtype='object')\n",
      "去空值前：  (100, 3) 20180814_cbrc_class_1.xlsx 消费服务\n",
      "去空值后：  (100, 3) 20180814_cbrc_class_1.xlsx 消费服务\n",
      "Index(['title', 'content', 'label'], dtype='object')\n",
      "去空值前：  (107, 3) 20180814_cbrc_class_1.xlsx 资本市场\n",
      "去空值后：  (107, 3) 20180814_cbrc_class_1.xlsx 资本市场\n",
      "Index(['title', 'content', 'label'], dtype='object')\n",
      "去空值前：  (100, 3) 20180814_cbrc_class_1.xlsx 产品销售\n",
      "去空值后：  (100, 3) 20180814_cbrc_class_1.xlsx 产品销售\n",
      "Index(['title', 'content', 'label'], dtype='object')\n",
      "去空值前：  (105, 3) 20180814_cbrc_class_1.xlsx 其他相关报道\n",
      "去空值后：  (105, 3) 20180814_cbrc_class_1.xlsx 其他相关报道\n",
      "Index(['url', 'title', 'content', 'titlehash', 'label'], dtype='object')\n",
      "去空值前：  (800, 3) 20180814_cbrc_class_2.xlsx Sheet1\n",
      "去空值后：  (800, 3) 20180814_cbrc_class_2.xlsx Sheet1\n",
      "Index(['title', 'content', 'label'], dtype='object')\n",
      "去空值前：  (462, 3) 20180817_cbrc_class_1.xlsx Sheet1\n",
      "去空值后：  (462, 3) 20180817_cbrc_class_1.xlsx Sheet1\n",
      "Index(['title', 'content', 'label'], dtype='object')\n",
      "去空值前：  (200, 3) 20180823_cbrc_class_1.xlsx 公司内部管理\n",
      "去空值后：  (200, 3) 20180823_cbrc_class_1.xlsx 公司内部管理\n",
      "Index(['title', 'content', 'label'], dtype='object')\n",
      "去空值前：  (718, 3) 20180823_cbrc_class_1.xlsx 消费服务\n",
      "去空值后：  (718, 3) 20180823_cbrc_class_1.xlsx 消费服务\n",
      "Index(['title', 'content', 'label'], dtype='object')\n",
      "去空值前：  (47, 3) 20180823_cbrc_class_1.xlsx 其他相关报道\n",
      "去空值后：  (47, 3) 20180823_cbrc_class_1.xlsx 其他相关报道\n",
      "Index(['title', 'content', 'label'], dtype='object')\n",
      "去空值前：  (91, 3) 20180823_cbrc_class_1.xlsx 资本市场\n",
      "去空值后：  (91, 3) 20180823_cbrc_class_1.xlsx 资本市场\n",
      "Index(['title', 'content', 'label'], dtype='object')\n",
      "去空值前：  (50, 3) 20180823_cbrc_class_1.xlsx 产品销售\n",
      "去空值后：  (50, 3) 20180823_cbrc_class_1.xlsx 产品销售\n",
      "Index(['title', 'content', 'label'], dtype='object')\n",
      "去空值前：  (944, 3) 20180823_cbrc_class_2.xlsx Sheet1\n",
      "去空值后：  (944, 3) 20180823_cbrc_class_2.xlsx Sheet1\n",
      "Index(['predict_proba', 'predict_label', 'label', 'title', 'content'], dtype='object')\n",
      "去空值前：  (508, 3) 20180823_cbrc_class_3.xlsx 其他相关报道\n",
      "去空值后：  (389, 3) 20180823_cbrc_class_3.xlsx 其他相关报道\n",
      "Index(['predict_proba', 'predict_label', 'label', 'title', 'content'], dtype='object')\n",
      "去空值前：  (278, 3) 20180823_cbrc_class_3.xlsx 资本市场\n",
      "去空值后：  (109, 3) 20180823_cbrc_class_3.xlsx 资本市场\n",
      "Index(['predict_proba', 'predict_label', 'label', 'title', 'content'], dtype='object')\n",
      "去空值前：  (722, 3) 20180823_cbrc_class_3.xlsx 产品销售\n",
      "去空值后：  (380, 3) 20180823_cbrc_class_3.xlsx 产品销售\n",
      "Index(['predict_proba', 'predict_label', 'label', 'title', 'content'], dtype='object')\n",
      "去空值前：  (826, 3) 20180824_cbrc_class_1.xlsx 消费服务\n",
      "去空值后：  (51, 3) 20180824_cbrc_class_1.xlsx 消费服务\n",
      "Index(['predict_proba', 'predict_label', 'label', 'title', 'content'], dtype='object')\n",
      "去空值前：  (685, 3) 20180824_cbrc_class_1.xlsx 监管\n",
      "去空值后：  (200, 3) 20180824_cbrc_class_1.xlsx 监管\n",
      "Index(['predict_proba', 'predict_label', 'label', 'title', 'content'], dtype='object')\n",
      "去空值前：  (213, 3) 20180824_cbrc_class_1.xlsx 公司内部管理\n",
      "去空值后：  (133, 3) 20180824_cbrc_class_1.xlsx 公司内部管理\n",
      "Index(['predict_label', 'label', 'title', 'content'], dtype='object')\n",
      "去空值前：  (58, 3) 20180824_cbrc_class_2.xlsx 公司内部管理\n",
      "去空值后：  (58, 3) 20180824_cbrc_class_2.xlsx 公司内部管理\n",
      "Index(['predict_label', 'label', 'title', 'content'], dtype='object')\n",
      "去空值前：  (102, 3) 20180824_cbrc_class_2.xlsx 资本市场\n",
      "去空值后：  (102, 3) 20180824_cbrc_class_2.xlsx 资本市场\n",
      "Index(['title', 'content', 'label'], dtype='object')\n",
      "去空值前：  (153, 3) 20180824_cbrc_class_3.xlsx 其他相关报道\n",
      "去空值后：  (153, 3) 20180824_cbrc_class_3.xlsx 其他相关报道\n",
      "Index(['title', 'content', 'label'], dtype='object')\n",
      "去空值前：  (52, 3) 20180824_cbrc_class_3.xlsx 公司内部管理\n",
      "去空值后：  (52, 3) 20180824_cbrc_class_3.xlsx 公司内部管理\n",
      "Index(['title', 'content', 'label'], dtype='object')\n",
      "去空值前：  (100, 3) 20180824_cbrc_class_3.xlsx 资本市场\n",
      "去空值后：  (100, 3) 20180824_cbrc_class_3.xlsx 资本市场\n",
      "总数： (5851, 3)\n"
     ]
    },
    {
     "data": {
      "text/html": [
       "<div>\n",
       "<style scoped>\n",
       "    .dataframe tbody tr th:only-of-type {\n",
       "        vertical-align: middle;\n",
       "    }\n",
       "\n",
       "    .dataframe tbody tr th {\n",
       "        vertical-align: top;\n",
       "    }\n",
       "\n",
       "    .dataframe thead th {\n",
       "        text-align: right;\n",
       "    }\n",
       "</style>\n",
       "<table border=\"1\" class=\"dataframe\">\n",
       "  <thead>\n",
       "    <tr style=\"text-align: right;\">\n",
       "      <th></th>\n",
       "      <th>label</th>\n",
       "      <th>title</th>\n",
       "      <th>content</th>\n",
       "    </tr>\n",
       "  </thead>\n",
       "  <tbody>\n",
       "    <tr>\n",
       "      <th>0</th>\n",
       "      <td>噪音</td>\n",
       "      <td>小白学保险之基础篇——买好宝宝保险，第一步该做啥？</td>\n",
       "      <td>话说上回，在《给宝宝买保险，你说该信谁？》 中，身为一家之主的小白，想为家里挑些合适的保险，...</td>\n",
       "    </tr>\n",
       "    <tr>\n",
       "      <th>1</th>\n",
       "      <td>噪音</td>\n",
       "      <td>过诉讼时效的债务如何处理？看最高法院的5个答复(全)</td>\n",
       "      <td>作者｜赫少华律师，远闻(上海)律师事务所，摘自微信公号“儒者如墨”，转载请注明 ▌一、...</td>\n",
       "    </tr>\n",
       "    <tr>\n",
       "      <th>2</th>\n",
       "      <td>噪音</td>\n",
       "      <td>国家旅游局局长李金早：推动从“高速旅游增长”向“优质旅游发展”转变</td>\n",
       "      <td>权威声音 1月8日全国旅游工作会议在厦门召开，国家旅游局局长李金早做了题为《以习近平新时代中...</td>\n",
       "    </tr>\n",
       "    <tr>\n",
       "      <th>3</th>\n",
       "      <td>噪音</td>\n",
       "      <td>【法律宣传】状告百度们侵犯隐私,须用好公益诉讼利剑</td>\n",
       "      <td>1月1日,李书福在谈及电话、微信的保密问题时隔空diss马化腾,称其肯定天天在看我...</td>\n",
       "    </tr>\n",
       "    <tr>\n",
       "      <th>4</th>\n",
       "      <td>噪音</td>\n",
       "      <td>百度被起诉，支付宝被约谈，网上隐私的边界在哪里？</td>\n",
       "      <td>据国家互联网信息办公室网站消息，针对近日新闻媒体报道的“支付宝年度账单事件”，1月6日，国家...</td>\n",
       "    </tr>\n",
       "  </tbody>\n",
       "</table>\n",
       "</div>"
      ],
      "text/plain": [
       "  label                              title  \\\n",
       "0    噪音          小白学保险之基础篇——买好宝宝保险，第一步该做啥？   \n",
       "1    噪音         过诉讼时效的债务如何处理？看最高法院的5个答复(全)   \n",
       "2    噪音  国家旅游局局长李金早：推动从“高速旅游增长”向“优质旅游发展”转变   \n",
       "3    噪音          【法律宣传】状告百度们侵犯隐私,须用好公益诉讼利剑   \n",
       "4    噪音           百度被起诉，支付宝被约谈，网上隐私的边界在哪里？   \n",
       "\n",
       "                                             content  \n",
       "0  话说上回，在《给宝宝买保险，你说该信谁？》 中，身为一家之主的小白，想为家里挑些合适的保险，...  \n",
       "1  　　 作者｜赫少华律师，远闻(上海)律师事务所，摘自微信公号“儒者如墨”，转载请注明 ▌一、...  \n",
       "2  权威声音 1月8日全国旅游工作会议在厦门召开，国家旅游局局长李金早做了题为《以习近平新时代中...  \n",
       "3       1月1日,李书福在谈及电话、微信的保密问题时隔空diss马化腾,称其肯定天天在看我...  \n",
       "4  据国家互联网信息办公室网站消息，针对近日新闻媒体报道的“支付宝年度账单事件”，1月6日，国家...  "
      ]
     },
     "execution_count": 10,
     "metadata": {},
     "output_type": "execute_result"
    }
   ],
   "source": [
    "cir_data_raw_3 = pd.DataFrame()\n",
    "for file_name in file_list_3:\n",
    "    currentPath  = 'data/{0}/{1}'.format(folder, file_name)\n",
    "    excel = xlrd.open_workbook(currentPath)\n",
    "    sheet_names = [sheet.name for sheet in excel.sheets()]\n",
    "    for sheet_name in sheet_names:    \n",
    "        tmp_data = pd.read_excel(currentPath, sheet_name)\n",
    "        print(tmp_data.columns)\n",
    "        if 'label' in tmp_data.columns:\n",
    "            tmp_data = tmp_data[['label', 'title', 'content']]\n",
    "            print('去空值前： ', tmp_data.shape, file_name, sheet_name)\n",
    "            tmp_data = tmp_data.dropna(subset = ['label'], axis = 0)\n",
    "            print('去空值后： ', tmp_data.shape, file_name, sheet_name)\n",
    "            cir_data_raw_3 = pd.concat([cir_data_raw_3, tmp_data], axis = 0)\n",
    "\n",
    "cir_data_raw_3['label'] = cir_data_raw_3['label'].apply(lambda x:x.strip())    \n",
    "print('总数：', cir_data_raw_3.shape)\n",
    "cir_data_raw_3.head()"
   ]
  },
  {
   "cell_type": "code",
   "execution_count": 11,
   "metadata": {
    "ExecuteTime": {
     "end_time": "2018-08-27T03:57:41.969466Z",
     "start_time": "2018-08-27T03:57:41.961748Z"
    }
   },
   "outputs": [
    {
     "data": {
      "text/plain": [
       "监管        1273\n",
       "消费服务      1076\n",
       "行业         941\n",
       "其他相关报道     717\n",
       "公司内部管理     675\n",
       "产品销售       554\n",
       "资本市场       515\n",
       "噪音         100\n",
       "Name: label, dtype: int64"
      ]
     },
     "execution_count": 11,
     "metadata": {},
     "output_type": "execute_result"
    }
   ],
   "source": [
    "cir_data_raw_3['label'].value_counts()"
   ]
  },
  {
   "cell_type": "markdown",
   "metadata": {},
   "source": [
    "## 模型预测后反馈数据"
   ]
  },
  {
   "cell_type": "code",
   "execution_count": 12,
   "metadata": {
    "ExecuteTime": {
     "end_time": "2018-08-27T03:57:41.989616Z",
     "start_time": "2018-08-27T03:57:41.972037Z"
    }
   },
   "outputs": [],
   "source": [
    "file_list_4 = ['20180816_cbrc_class_feedback.xlsx', '20180816_cbrc_class_feedback_2.xlsx'\n",
    "              ] # 多个 sheet"
   ]
  },
  {
   "cell_type": "code",
   "execution_count": 13,
   "metadata": {
    "ExecuteTime": {
     "end_time": "2018-08-27T03:57:45.014446Z",
     "start_time": "2018-08-27T03:57:41.992354Z"
    }
   },
   "outputs": [
    {
     "name": "stdout",
     "output_type": "stream",
     "text": [
      "产品销售 453 25 0.05518763796909492\n",
      "去空值前：  (25, 3) 20180816_cbrc_class_feedback.xlsx 产品销售\n",
      "去空值后：  (25, 3) 20180816_cbrc_class_feedback.xlsx 产品销售\n",
      "\n",
      "噪音 700 700 1.0\n",
      "去空值前：  (700, 3) 20180816_cbrc_class_feedback.xlsx 噪音\n",
      "去空值后：  (700, 3) 20180816_cbrc_class_feedback.xlsx 噪音\n",
      "\n",
      "消费服务 290 3 0.010344827586206896\n",
      "去空值前：  (3, 3) 20180816_cbrc_class_feedback.xlsx 消费服务\n",
      "去空值后：  (3, 3) 20180816_cbrc_class_feedback.xlsx 消费服务\n",
      "\n",
      "行业 226 46 0.20353982300884957\n",
      "去空值前：  (46, 3) 20180816_cbrc_class_feedback.xlsx 行业\n",
      "去空值后：  (46, 3) 20180816_cbrc_class_feedback.xlsx 行业\n",
      "\n",
      "公司内部管理 120 7 0.058333333333333334\n",
      "去空值前：  (7, 3) 20180816_cbrc_class_feedback.xlsx 公司内部管理\n",
      "去空值后：  (7, 3) 20180816_cbrc_class_feedback.xlsx 公司内部管理\n",
      "\n",
      "资本市场 724 137 0.18922651933701656\n",
      "去空值前：  (137, 3) 20180816_cbrc_class_feedback_2.xlsx 资本市场\n",
      "去空值后：  (137, 3) 20180816_cbrc_class_feedback_2.xlsx 资本市场\n",
      "\n",
      "监管 258 78 0.3023255813953488\n",
      "去空值前：  (78, 3) 20180816_cbrc_class_feedback_2.xlsx 监管\n",
      "去空值后：  (78, 3) 20180816_cbrc_class_feedback_2.xlsx 监管\n",
      "\n",
      "其他相关报道 165 24 0.14545454545454545\n",
      "去空值前：  (24, 3) 20180816_cbrc_class_feedback_2.xlsx 其他相关报道\n",
      "去空值后：  (24, 3) 20180816_cbrc_class_feedback_2.xlsx 其他相关报道\n",
      "\n",
      "总数： (1020, 3)\n"
     ]
    },
    {
     "data": {
      "text/html": [
       "<div>\n",
       "<style scoped>\n",
       "    .dataframe tbody tr th:only-of-type {\n",
       "        vertical-align: middle;\n",
       "    }\n",
       "\n",
       "    .dataframe tbody tr th {\n",
       "        vertical-align: top;\n",
       "    }\n",
       "\n",
       "    .dataframe thead th {\n",
       "        text-align: right;\n",
       "    }\n",
       "</style>\n",
       "<table border=\"1\" class=\"dataframe\">\n",
       "  <thead>\n",
       "    <tr style=\"text-align: right;\">\n",
       "      <th></th>\n",
       "      <th>label</th>\n",
       "      <th>title</th>\n",
       "      <th>content</th>\n",
       "    </tr>\n",
       "  </thead>\n",
       "  <tbody>\n",
       "    <tr>\n",
       "      <th>6</th>\n",
       "      <td>产品销售</td>\n",
       "      <td>弘扬中华优秀传统文化农行尊师系列信用卡精彩上市</td>\n",
       "      <td>近日，中国农业银行发布首张文化教育主题信用卡———尊师系列信用卡。该产品旨在弘扬尊师重道...</td>\n",
       "    </tr>\n",
       "    <tr>\n",
       "      <th>12</th>\n",
       "      <td>产品销售</td>\n",
       "      <td>信用卡额度怎么提高</td>\n",
       "      <td>\\n\\n平安的业务很多，而平安银行的主要业务那肯定就是信贷了，想必绝大多数小伙伴们想到的...</td>\n",
       "    </tr>\n",
       "    <tr>\n",
       "      <th>41</th>\n",
       "      <td>产品销售</td>\n",
       "      <td>有钱人都喜欢刷什么信用卡？</td>\n",
       "      <td>小编每次说“有钱人更容易申请到高端信用卡”的时候，总有不明真相的人跳出来怼我“有钱谁还用信用...</td>\n",
       "    </tr>\n",
       "    <tr>\n",
       "      <th>43</th>\n",
       "      <td>产品销售</td>\n",
       "      <td>今日工商银行理财产品排行榜（8月1日）</td>\n",
       "      <td>分享至：\\n\\n电邮\\n\\n打印\\n\\n评论(\\n0\\n)\\n\\n今日工商银行理财产品排行榜...</td>\n",
       "    </tr>\n",
       "    <tr>\n",
       "      <th>47</th>\n",
       "      <td>产品销售</td>\n",
       "      <td>信用卡是否可以提前还款？应该提前还款么？</td>\n",
       "      <td>在信用卡还款时，你会选择提前还款吗？怎样提前还款会对我们更有利？下面魔王就来说说提前还款那些...</td>\n",
       "    </tr>\n",
       "  </tbody>\n",
       "</table>\n",
       "</div>"
      ],
      "text/plain": [
       "   label                    title  \\\n",
       "6   产品销售  弘扬中华优秀传统文化农行尊师系列信用卡精彩上市   \n",
       "12  产品销售                信用卡额度怎么提高   \n",
       "41  产品销售            有钱人都喜欢刷什么信用卡？   \n",
       "43  产品销售      今日工商银行理财产品排行榜（8月1日）   \n",
       "47  产品销售     信用卡是否可以提前还款？应该提前还款么？   \n",
       "\n",
       "                                              content  \n",
       "6   　　近日，中国农业银行发布首张文化教育主题信用卡———尊师系列信用卡。该产品旨在弘扬尊师重道...  \n",
       "12  　　\\n\\n平安的业务很多，而平安银行的主要业务那肯定就是信贷了，想必绝大多数小伙伴们想到的...  \n",
       "41  小编每次说“有钱人更容易申请到高端信用卡”的时候，总有不明真相的人跳出来怼我“有钱谁还用信用...  \n",
       "43  分享至：\\n\\n电邮\\n\\n打印\\n\\n评论(\\n0\\n)\\n\\n今日工商银行理财产品排行榜...  \n",
       "47  在信用卡还款时，你会选择提前还款吗？怎样提前还款会对我们更有利？下面魔王就来说说提前还款那些...  "
      ]
     },
     "execution_count": 13,
     "metadata": {},
     "output_type": "execute_result"
    }
   ],
   "source": [
    "cir_data_raw_4 = pd.DataFrame()\n",
    "label_list = []\n",
    "sum_list = []\n",
    "right_list = []\n",
    "for file_name in file_list_4:\n",
    "    currentPath  = 'data/{0}/{1}'.format(folder, file_name)\n",
    "    excel = xlrd.open_workbook(currentPath)\n",
    "    sheet_names = [sheet.name for sheet in excel.sheets()]\n",
    "    for sheet_name in sheet_names:   \n",
    "        tmp_data = pd.read_excel(currentPath, sheet_name)        \n",
    "#         print(tmp_data.columns)\n",
    "        tmp_data_1 = tmp_data[tmp_data['label'] == sheet_name]\n",
    "        \n",
    "        label_list.append(sheet_name)\n",
    "        sum_list.append(tmp_data.shape[0])\n",
    "        right_list.append(tmp_data_1.shape[0])\n",
    "        print(sheet_name, tmp_data.shape[0], tmp_data_1.shape[0], tmp_data_1.shape[0]/tmp_data.shape[0])\n",
    "        \n",
    "        tmp_data_1 = tmp_data_1[['label', 'title', 'content']]\n",
    "        print('去空值前： ', tmp_data_1.shape, file_name, sheet_name)\n",
    "        tmp_data_1 = tmp_data_1.dropna(subset = ['title'], axis = 0)\n",
    "        print('去空值后： ', tmp_data_1.shape, file_name, sheet_name)\n",
    "        cir_data_raw_4 = pd.concat([cir_data_raw_4, tmp_data_1], axis = 0)\n",
    "        print()\n",
    "\n",
    "cir_data_raw_4['label'] = cir_data_raw_4['label'].apply(lambda x:x.strip())    \n",
    "print('总数：', cir_data_raw_4.shape)\n",
    "cir_data_raw_4.head()"
   ]
  },
  {
   "cell_type": "code",
   "execution_count": 14,
   "metadata": {
    "ExecuteTime": {
     "end_time": "2018-08-27T03:57:45.025414Z",
     "start_time": "2018-08-27T03:57:45.017099Z"
    }
   },
   "outputs": [
    {
     "data": {
      "text/plain": [
       "噪音        700\n",
       "资本市场      137\n",
       "监管         78\n",
       "行业         46\n",
       "产品销售       25\n",
       "其他相关报道     24\n",
       "公司内部管理      7\n",
       "消费服务        3\n",
       "Name: label, dtype: int64"
      ]
     },
     "execution_count": 14,
     "metadata": {},
     "output_type": "execute_result"
    }
   ],
   "source": [
    "cir_data_raw_4['label'].value_counts()"
   ]
  },
  {
   "cell_type": "markdown",
   "metadata": {},
   "source": [
    "## 合并数据"
   ]
  },
  {
   "cell_type": "code",
   "execution_count": 15,
   "metadata": {
    "ExecuteTime": {
     "end_time": "2018-08-27T03:57:45.311046Z",
     "start_time": "2018-08-27T03:57:45.027811Z"
    }
   },
   "outputs": [
    {
     "name": "stdout",
     "output_type": "stream",
     "text": [
      "去重前：  (6871, 5)\n",
      "去重后：  (6526, 5)\n"
     ]
    },
    {
     "data": {
      "text/html": [
       "<div>\n",
       "<style scoped>\n",
       "    .dataframe tbody tr th:only-of-type {\n",
       "        vertical-align: middle;\n",
       "    }\n",
       "\n",
       "    .dataframe tbody tr th {\n",
       "        vertical-align: top;\n",
       "    }\n",
       "\n",
       "    .dataframe thead th {\n",
       "        text-align: right;\n",
       "    }\n",
       "</style>\n",
       "<table border=\"1\" class=\"dataframe\">\n",
       "  <thead>\n",
       "    <tr style=\"text-align: right;\">\n",
       "      <th></th>\n",
       "      <th>label</th>\n",
       "      <th>title</th>\n",
       "      <th>content</th>\n",
       "      <th>title_content</th>\n",
       "      <th>index</th>\n",
       "    </tr>\n",
       "  </thead>\n",
       "  <tbody>\n",
       "    <tr>\n",
       "      <th>0</th>\n",
       "      <td>噪音</td>\n",
       "      <td>小白学保险之基础篇——买好宝宝保险，第一步该做啥？</td>\n",
       "      <td>话说上回，在《给宝宝买保险，你说该信谁？》 中，身为一家之主的小白，想为家里挑些合适的保险，...</td>\n",
       "      <td>小白学保险之基础篇——买好宝宝保险，第一步该做啥？。话说上回，在《给宝宝买保险，你说该信谁？...</td>\n",
       "      <td>0</td>\n",
       "    </tr>\n",
       "    <tr>\n",
       "      <th>1</th>\n",
       "      <td>噪音</td>\n",
       "      <td>过诉讼时效的债务如何处理？看最高法院的5个答复(全)</td>\n",
       "      <td>作者｜赫少华律师，远闻(上海)律师事务所，摘自微信公号“儒者如墨”，转载请注明 ▌一、...</td>\n",
       "      <td>过诉讼时效的债务如何处理？看最高法院的5个答复(全)。　　 作者｜赫少华律师，远闻(上海)律...</td>\n",
       "      <td>1</td>\n",
       "    </tr>\n",
       "    <tr>\n",
       "      <th>2</th>\n",
       "      <td>噪音</td>\n",
       "      <td>国家旅游局局长李金早：推动从“高速旅游增长”向“优质旅游发展”转变</td>\n",
       "      <td>权威声音 1月8日全国旅游工作会议在厦门召开，国家旅游局局长李金早做了题为《以习近平新时代中...</td>\n",
       "      <td>国家旅游局局长李金早：推动从“高速旅游增长”向“优质旅游发展”转变。权威声音 1月8日全国旅...</td>\n",
       "      <td>2</td>\n",
       "    </tr>\n",
       "    <tr>\n",
       "      <th>3</th>\n",
       "      <td>噪音</td>\n",
       "      <td>【法律宣传】状告百度们侵犯隐私,须用好公益诉讼利剑</td>\n",
       "      <td>1月1日,李书福在谈及电话、微信的保密问题时隔空diss马化腾,称其肯定天天在看我...</td>\n",
       "      <td>【法律宣传】状告百度们侵犯隐私,须用好公益诉讼利剑。     1月1日,李书福在谈及电话、微...</td>\n",
       "      <td>3</td>\n",
       "    </tr>\n",
       "    <tr>\n",
       "      <th>4</th>\n",
       "      <td>噪音</td>\n",
       "      <td>百度被起诉，支付宝被约谈，网上隐私的边界在哪里？</td>\n",
       "      <td>据国家互联网信息办公室网站消息，针对近日新闻媒体报道的“支付宝年度账单事件”，1月6日，国家...</td>\n",
       "      <td>百度被起诉，支付宝被约谈，网上隐私的边界在哪里？。据国家互联网信息办公室网站消息，针对近日新...</td>\n",
       "      <td>4</td>\n",
       "    </tr>\n",
       "  </tbody>\n",
       "</table>\n",
       "</div>"
      ],
      "text/plain": [
       "  label                              title  \\\n",
       "0    噪音          小白学保险之基础篇——买好宝宝保险，第一步该做啥？   \n",
       "1    噪音         过诉讼时效的债务如何处理？看最高法院的5个答复(全)   \n",
       "2    噪音  国家旅游局局长李金早：推动从“高速旅游增长”向“优质旅游发展”转变   \n",
       "3    噪音          【法律宣传】状告百度们侵犯隐私,须用好公益诉讼利剑   \n",
       "4    噪音           百度被起诉，支付宝被约谈，网上隐私的边界在哪里？   \n",
       "\n",
       "                                             content  \\\n",
       "0  话说上回，在《给宝宝买保险，你说该信谁？》 中，身为一家之主的小白，想为家里挑些合适的保险，...   \n",
       "1  　　 作者｜赫少华律师，远闻(上海)律师事务所，摘自微信公号“儒者如墨”，转载请注明 ▌一、...   \n",
       "2  权威声音 1月8日全国旅游工作会议在厦门召开，国家旅游局局长李金早做了题为《以习近平新时代中...   \n",
       "3       1月1日,李书福在谈及电话、微信的保密问题时隔空diss马化腾,称其肯定天天在看我...   \n",
       "4  据国家互联网信息办公室网站消息，针对近日新闻媒体报道的“支付宝年度账单事件”，1月6日，国家...   \n",
       "\n",
       "                                       title_content  index  \n",
       "0  小白学保险之基础篇——买好宝宝保险，第一步该做啥？。话说上回，在《给宝宝买保险，你说该信谁？...      0  \n",
       "1  过诉讼时效的债务如何处理？看最高法院的5个答复(全)。　　 作者｜赫少华律师，远闻(上海)律...      1  \n",
       "2  国家旅游局局长李金早：推动从“高速旅游增长”向“优质旅游发展”转变。权威声音 1月8日全国旅...      2  \n",
       "3  【法律宣传】状告百度们侵犯隐私,须用好公益诉讼利剑。     1月1日,李书福在谈及电话、微...      3  \n",
       "4  百度被起诉，支付宝被约谈，网上隐私的边界在哪里？。据国家互联网信息办公室网站消息，针对近日新...      4  "
      ]
     },
     "execution_count": 15,
     "metadata": {},
     "output_type": "execute_result"
    }
   ],
   "source": [
    "cir_data_raw = pd.concat([#cir_data_raw_1, cir_data_raw_2,\n",
    "                          cir_data_raw_3, cir_data_raw_4], \n",
    "                         axis = 0)\n",
    "\n",
    "# cir_data_raw = cir_data_raw_3\n",
    "cir_data_raw['title_content'] = cir_data_raw['title'].astype(str) + '。' + cir_data_raw['content'].astype(str)\n",
    "cir_data_raw['label'] = cir_data_raw['label'].apply(lambda x:x.strip())\n",
    "cir_data_raw['index'] = range(cir_data_raw.shape[0])\n",
    "print('去重前： ', cir_data_raw.shape)\n",
    "cir_data_raw = cir_data_raw.drop_duplicates(subset = 'title_content')\n",
    "print('去重后： ', cir_data_raw.shape)\n",
    "cir_data_raw.head()"
   ]
  },
  {
   "cell_type": "code",
   "execution_count": 16,
   "metadata": {
    "ExecuteTime": {
     "end_time": "2018-08-27T03:57:45.327985Z",
     "start_time": "2018-08-27T03:57:45.314340Z"
    }
   },
   "outputs": [
    {
     "name": "stdout",
     "output_type": "stream",
     "text": [
      "(6526, 5)\n"
     ]
    },
    {
     "data": {
      "text/plain": [
       "label\n",
       "产品销售       537\n",
       "公司内部管理     632\n",
       "其他相关报道     720\n",
       "噪音         800\n",
       "消费服务       877\n",
       "监管        1334\n",
       "行业         984\n",
       "资本市场       642\n",
       "Name: title, dtype: int64"
      ]
     },
     "execution_count": 16,
     "metadata": {},
     "output_type": "execute_result"
    }
   ],
   "source": [
    "print(cir_data_raw.shape)\n",
    "cir_data_raw.groupby('label')['title'].count()"
   ]
  },
  {
   "cell_type": "code",
   "execution_count": 17,
   "metadata": {
    "ExecuteTime": {
     "end_time": "2018-08-27T03:57:45.351031Z",
     "start_time": "2018-08-27T03:57:45.330599Z"
    }
   },
   "outputs": [],
   "source": [
    "test_index = []\n",
    "val_index = []\n",
    "train_index = []\n",
    "\n",
    "for label in cir_data_raw['label'].unique():\n",
    "    indexs = cir_data_raw[cir_data_raw['label'] == label]['index'].tolist()\n",
    "    test_index += indexs[:40] # 40\n",
    "    val_index += indexs[40:60] # 20\n",
    "    train_index += indexs[60:]"
   ]
  },
  {
   "cell_type": "code",
   "execution_count": 18,
   "metadata": {
    "ExecuteTime": {
     "end_time": "2018-08-27T03:57:45.378562Z",
     "start_time": "2018-08-27T03:57:45.353538Z"
    }
   },
   "outputs": [
    {
     "name": "stdout",
     "output_type": "stream",
     "text": [
      "(320, 2)\n"
     ]
    }
   ],
   "source": [
    "coprus_save_filename = 'data/cnews.test.txt'\n",
    "\n",
    "test_data = np.array(cir_data_raw[cir_data_raw['index'].isin(test_index)][['label', 'title_content']])\n",
    "print(test_data.shape)\n",
    "\n",
    "f = open(coprus_save_filename, \"w+\", encoding='UTF-8')\n",
    "for [l, d] in test_data:\n",
    "    f.write(l + '----' + d + '\\n')\n",
    "f.close()"
   ]
  },
  {
   "cell_type": "code",
   "execution_count": 19,
   "metadata": {
    "ExecuteTime": {
     "end_time": "2018-08-27T03:57:45.395012Z",
     "start_time": "2018-08-27T03:57:45.382547Z"
    }
   },
   "outputs": [
    {
     "name": "stdout",
     "output_type": "stream",
     "text": [
      "(160, 2)\n"
     ]
    }
   ],
   "source": [
    "coprus_save_filename = 'data/cnews.val.txt'\n",
    "\n",
    "val_data = np.array(cir_data_raw[cir_data_raw['index'].isin(val_index)][['label', 'title_content']])\n",
    "print(val_data.shape)\n",
    "\n",
    "f = open(coprus_save_filename, \"w+\", encoding='UTF-8')\n",
    "for [l, d] in val_data:\n",
    "    f.write(l + '----' + d + '\\n')\n",
    "f.close()"
   ]
  },
  {
   "cell_type": "code",
   "execution_count": 20,
   "metadata": {
    "ExecuteTime": {
     "end_time": "2018-08-27T03:57:45.499476Z",
     "start_time": "2018-08-27T03:57:45.398138Z"
    }
   },
   "outputs": [
    {
     "name": "stdout",
     "output_type": "stream",
     "text": [
      "(6046, 2)\n"
     ]
    }
   ],
   "source": [
    "coprus_save_filename = 'data/cnews.train.txt'\n",
    "\n",
    "train_data = np.array(cir_data_raw[cir_data_raw['index'].isin(train_index)][['label', 'title_content']])\n",
    "print(train_data.shape)\n",
    "\n",
    "f = open(coprus_save_filename, \"w+\", encoding='UTF-8')\n",
    "for [l, d] in train_data:\n",
    "    f.write(l + '----' + d + '\\n')\n",
    "f.close()"
   ]
  },
  {
   "cell_type": "code",
   "execution_count": 21,
   "metadata": {
    "ExecuteTime": {
     "end_time": "2018-08-27T03:57:45.511619Z",
     "start_time": "2018-08-27T03:57:45.502626Z"
    }
   },
   "outputs": [
    {
     "data": {
      "text/plain": [
       "dict_keys(['监管', '行业', '产品销售', '资本市场', '公司内部管理', '消费服务', '其他相关报道', '噪音'])"
      ]
     },
     "execution_count": 21,
     "metadata": {},
     "output_type": "execute_result"
    }
   ],
   "source": [
    "label_dic={'监管':1,'行业':2,'产品销售':3,'资本市场':4,'公司内部管理':5,'消费服务':6,'其他相关报道':7,'噪音':8}\n",
    "label_dic.keys()"
   ]
  },
  {
   "cell_type": "markdown",
   "metadata": {},
   "source": [
    "# 预处理"
   ]
  },
  {
   "cell_type": "code",
   "execution_count": 22,
   "metadata": {
    "ExecuteTime": {
     "end_time": "2018-08-27T03:57:48.895201Z",
     "start_time": "2018-08-27T03:57:45.514502Z"
    }
   },
   "outputs": [
    {
     "name": "stdout",
     "output_type": "stream",
     "text": [
      "6526\n"
     ]
    }
   ],
   "source": [
    "# titles = pre_cor_1.handle_contents(cir_data_raw['title'].tolist())\n",
    "titles = pre_cor_b.handle_contents(cir_data_raw['title'].tolist())\n",
    "print(len(titles))\n",
    "\n",
    "save_filename = 'data/titles0.txt'\n",
    "fid = open(save_filename, \"w+\", encoding='UTF-8')\n",
    "for data in titles:\n",
    "    fid.write(data + '\\n')\n",
    "fid.close()"
   ]
  },
  {
   "cell_type": "code",
   "execution_count": 23,
   "metadata": {
    "ExecuteTime": {
     "end_time": "2018-08-27T04:00:00.190360Z",
     "start_time": "2018-08-27T03:57:48.899942Z"
    }
   },
   "outputs": [
    {
     "name": "stdout",
     "output_type": "stream",
     "text": [
      "6526\n",
      "话 说 上 给 宝宝 买 保险 说 该 信 中 身为 一家之主 小白 想 为 家里 挑些 合适 保险 却 快 被 各种 产品 各种 术语 绕晕 貌似 为 孩子 买 保险 妈妈 比较 上心 一筹莫展 之际 小白 偶然 结识 精算师 徐 老师 徐 老师 短暂 交流 让 小白 受益匪浅 内心 窃喜 终于 找到 一个 谱 人 小白 迫不及待 直接 给 徐 老师 发了 几份 保险 计划书 希望 徐 老师 帮忙 分析 分析 徐 老师 计划书 心中 暗暗 叫苦 最最 基础 保险 知识 懂 来 比较 产品 这是 没上 产前 训练班 带 宝宝 徐 老师 没有 直接 回答 小白 问题 而是 眉头 略微 一 紧 缓缓 问道 在你看来 保险 究竟 什么 小白 脱口而出 保险 理财 工具 万一出 事儿 得到 保险金 减轻负担 要是 一直 平安无事 当存 银行 徐 老师 哭笑不得 妈妈 保险 可不是 这么回事 保险 究竟 揭开 保险 神秘 面纱 无 保障 保险 未来 特定 保险 事故 发生 时 给予 被保险人 受益人 一定 经济 补偿 这是 教科书 上 保险 定义 而 徐 老师 认为 保险 保险 顾名思义 保障 风险 非 纯粹 保险 保险 保 纯粹 风险 也就是说 风险 发生 只 可能 带来 损失 而 不会 带来 收益 炒股 炒房 赌博 买 彩票 不保 财产 意外 死亡 医疗 保 抗 风险 找 保险 爱车 一般 预备 胎 因为 事故 说不定 会 发生 换上 还 出发 而 保险 家庭 经济 预备 胎 不能 直接 避免 风险 发生 但 至少 万一 发生 不幸 宝宝 奶粉 钱 不用 担心 家庭 经济 不会 垮掉 听 完徐 老师 讲解 小白 若有所思 但 生 疑问 为啥 接触 到 保险 跟 徐 老师 所说 一样 徐 老师 对 手机 屏 叹 一口气 给 小白 这口 锅 还是 甩 给 部分 代理人 保险 代理人 现状 带 大家 看看 现在 很多 保险 代理人 一些 通病 如 不适 自动 省略 段 培训 时间 短 培训 质量 差 按照 相关 规定 保险代理 业务人员 上岗 前 接受 培训 时间 不得 少于 小时 上岗 后 每人每年 接受 培训 教育 时间 累计 不得 少于 小时 其中 法律 知识 培训 职业道德 教育 不得 少于 小时 然而 小时 学习 经历 显然 不足以 让 一个 保险 领域 入门级 菜鸟 变成 高端 级 大师 尤其 小时 中 时间 极有 可能 用于 销售 培训 因此 才能 夸夸其谈 谈笑风生 生活虎 狐假虎威 威逼利诱 诱 买 保险 徐 老师 说 现在 很多 保险 代理人 专业 外 服务 专业 内 服务差 扬长避短 销售 客观 公司 投资 类 保险 恰好 兼顾 保障 投资收益 双重 需求 建议您 从 攻防 兼顾 角度 思考 投资 理财 架构 适度 保险 防守 点上 加大 投入 投资 类 保险 本身 可能 带给 投资收益 不断 增加 保险金额 扩充 保障 利益 这话 说 真是 毫无 痕迹 从 这位 代理人 分析 角度 看出 代理人 总会 捡 产品 一面 说 强调 投资 功能 强调 收益率 然而 产品 瑕疵 部分 如 费用率 大多数 代理人 直接 选择 忽略 比如 某款 万能 险 产品 首年 费用率 高达 意味着 首 年 进入 投资 环节 资金 保费 一半 先 花掉 一半 交 钱 去 用做 费用 发工资 剩下 钱 再 去 投资 但 很多 妈妈 只 看到 多少 多少 年 以后 多么 高 收益 不知不觉 地进 设下 坑 而 产品 买 想 退 没法 退 钱 已经 被 当作 费用 花掉 产销 脱节 细节 不明确 设计 保险 销售 保险 人员 脱节 具体 而言 保险 设计 资深 精算师 完成 会 考虑 到 各种 成本 费用 利润 然后 根据 相关 要求 设计 出 一份 产品 这份 产品 种种 审批 手续 之后 会 交到 代理人 手中 进行 销售 而 代理人 销售 之前 可能 接受 产品 细节 培训 远远 不及 应该 了解 部分 多半 是因为 不想 了解 想 了解 也 不是 很 懂 此 情况 下 一些 关于 产品 保险合同 细节 部分 不是 很 清晰 销售 时候 除非 客户 主动 提及 否则 不会 涉及 精算师 常 出来 解释 但是 设计 产品 被代理人 卖成 甚至 导致 大批 吃瓜 群众 对 保险 印象 不好 精算师 也 很 绝望 通过 授业解惑 搭救 一个 一个 听 完 小白 恍然大悟 但 转念 一想 普通 老百姓 平时 想买份 保险 基本 找 代理人 如果 不靠谱 让 该 如何是好 甭 急 徐 老师 说 条条大路通罗马 现在 移动 互联网 发达 买 保险 根本 一定 找 代理人 动动手 指 手机 上 完成 投保 而且 互联网 保险 保障 功能 强 性价比 还 高 为了 让 小白 妈妈 进一步 了解 徐 老师 娓娓道来 互联网 销售 保险 也 谱 网销 一个 渠道 在线 上 买 到 保险 在线 下 代理人 买 保险 一样 一样 互联网 保险 保险公司 销售 保险 一个 渠道 只不过 出道 较晚 比起 让 代理人 卖 个代 渠道 让 银行 理财 经理 卖 银保 渠道 渠道 而言 名气 没有 大 但 别忘了 出道 晚 也 正规军 正规 渠道 买到 保险 保单 合同 保单 号 保证 买到 真 保险 天猫 旗舰店 品牌 专卖店 买 到 正品 一个 道理 保单 才 硬道理 根据 对 我国 保险法 第十三条 以及 合同法 条 规定 解读 以 数据 电文 形式 载体 电子 保单 被 我国 法律 认可 从 法律 上 来说 电子 保单 纸质 保单 一样 具有 法律效力 而 网上 买 保险 投保 时候 通常 要求 投保人 填写 邮箱 千万 不要 写错 因为 付款 确认 投保 成功 后 约 分钟 内 会 收到 一封 保险 承保 成功 通知 邮件 邮件 内附 电子 保险单 这张 电子 保险单 相当于 保险公司 签订 保险合同 记录 投保 信息 保险条款 敲 黑板 电子 保单 纸质 保单 一样 真实有效 甚至 更 可信 W 原来如此 小白 心想 搞懂 保险 什么 明白 网上 卖 保险 挺 谱 也 该 去 挑选 一些 产品 小白 迫不及待 地问 徐 老师 孩子 该 买 什么 产品 看到 条 消息 徐 老师 心中 很 无奈 小白 太 急于求成 心急 吃 不了 热豆腐 没有 弄清 家人 保险 需求 直接 去 买 保险 可能 买 到 合适 徐 老师 道 别急 先 来 看看 宝宝 家里人 保险 需求 未完待续 敬请期待 下期 关于 保险 知识 如果 妈妈 对 篇文章 任何 疑问 添加 徐 老师 微信 FCAA 咨询 点击 阅读 原文 收听 少儿 保险 徐 老师 课程 如何 为 宝宝 配置 高性价比 保险 方案 \n"
     ]
    }
   ],
   "source": [
    "# contents = pre_cor_1.handle_contents(cir_data_raw['content'].tolist())\n",
    "contents = pre_cor_b.handle_contents(cir_data_raw['content'].tolist())\n",
    "print(len(contents))\n",
    "print(contents[0])\n",
    "# contents = [re.sub(r'[a-z]*', '', x) for x in contents]\n",
    "# print(len(contents))\n",
    "# print(contents[:2])\n",
    "\n",
    "coprus_save_filename = 'data/contents0.txt'\n",
    "f = open(coprus_save_filename, \"w+\", encoding='UTF-8')\n",
    "for data in contents:\n",
    "    f.write(data + '\\n')\n",
    "f.close()"
   ]
  },
  {
   "cell_type": "code",
   "execution_count": 24,
   "metadata": {
    "ExecuteTime": {
     "end_time": "2018-08-27T04:00:00.222070Z",
     "start_time": "2018-08-27T04:00:00.193574Z"
    }
   },
   "outputs": [
    {
     "name": "stdout",
     "output_type": "stream",
     "text": [
      "6526\n"
     ]
    }
   ],
   "source": [
    "label = cir_data_raw['label'].tolist()\n",
    "print(len(label))\n",
    "\n",
    "coprus_save_filename = 'data/labels.txt'\n",
    "f = open(coprus_save_filename, \"w+\", encoding='UTF-8')\n",
    "for data in label:\n",
    "    f.write(data + '\\n')\n",
    "f.close()"
   ]
  },
  {
   "cell_type": "code",
   "execution_count": 25,
   "metadata": {
    "ExecuteTime": {
     "end_time": "2018-08-27T04:00:09.369853Z",
     "start_time": "2018-08-27T04:00:00.225300Z"
    }
   },
   "outputs": [
    {
     "data": {
      "text/plain": [
       "(6526, 5)"
      ]
     },
     "execution_count": 25,
     "metadata": {},
     "output_type": "execute_result"
    }
   ],
   "source": [
    "cir_data_raw.to_excel('data/title_content_label.xlsx', index = False)\n",
    "cir_data_raw.shape"
   ]
  },
  {
   "cell_type": "code",
   "execution_count": null,
   "metadata": {},
   "outputs": [],
   "source": []
  }
 ],
 "metadata": {
  "kernelspec": {
   "display_name": "Python 3",
   "language": "python",
   "name": "python3"
  },
  "language_info": {
   "codemirror_mode": {
    "name": "ipython",
    "version": 3
   },
   "file_extension": ".py",
   "mimetype": "text/x-python",
   "name": "python",
   "nbconvert_exporter": "python",
   "pygments_lexer": "ipython3",
   "version": "3.6.4"
  },
  "toc": {
   "base_numbering": 1,
   "nav_menu": {},
   "number_sections": true,
   "sideBar": true,
   "skip_h1_title": false,
   "title_cell": "Table of Contents",
   "title_sidebar": "Contents",
   "toc_cell": false,
   "toc_position": {
    "height": "calc(100% - 180px)",
    "left": "10px",
    "top": "150px",
    "width": "376px"
   },
   "toc_section_display": true,
   "toc_window_display": true
  }
 },
 "nbformat": 4,
 "nbformat_minor": 2
}
