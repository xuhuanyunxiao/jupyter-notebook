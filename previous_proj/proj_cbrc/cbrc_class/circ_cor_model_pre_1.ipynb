{
 "cells": [
  {
   "cell_type": "markdown",
   "metadata": {},
   "source": [
    "# 基本设置"
   ]
  },
  {
   "cell_type": "code",
   "execution_count": 30,
   "metadata": {
    "ExecuteTime": {
     "end_time": "2018-08-10T09:51:14.500839Z",
     "start_time": "2018-08-10T09:51:14.490455Z"
    }
   },
   "outputs": [],
   "source": [
    "import sys\n",
    "import re\n",
    "import time\n",
    "import string\n",
    "\n",
    "import xlrd\n",
    "\n",
    "%matplotlib inline\n",
    "import numpy as np\n",
    "import pandas as pd\n",
    "import pre_cor_1\n",
    "import pre_cor\n",
    "import os\n",
    "from sqlalchemy import create_engine\n",
    "from pandas.io import sql\n",
    "import re \n",
    "import warnings\n",
    "warnings.filterwarnings('ignore')"
   ]
  },
  {
   "cell_type": "markdown",
   "metadata": {},
   "source": [
    "# 读取文件"
   ]
  },
  {
   "cell_type": "code",
   "execution_count": 2,
   "metadata": {
    "ExecuteTime": {
     "end_time": "2018-08-10T09:48:43.929123Z",
     "start_time": "2018-08-10T09:48:43.926508Z"
    }
   },
   "outputs": [],
   "source": [
    "#这两个文件是自行爬取的正文\n",
    "# file_list1 = ['20180723_revise_clearn.xlsx','20180725_clearn.xlsx']"
   ]
  },
  {
   "cell_type": "code",
   "execution_count": 3,
   "metadata": {
    "ExecuteTime": {
     "end_time": "2018-08-10T09:48:43.934606Z",
     "start_time": "2018-08-10T09:48:43.931337Z"
    },
    "scrolled": true
   },
   "outputs": [],
   "source": [
    "# cir_data_raw_1 = pd.DataFrame()\n",
    "# for file_name in file_list1:\n",
    "#     tmp_data = pd.read_excel('data/result/{0}'.format(file_name))\n",
    "#     print(tmp_data.shape, file_name)\n",
    "#     cir_data_raw_1 = pd.concat([cir_data_raw_1, tmp_data], axis = 0)\n",
    "\n",
    "# print('总数：', cir_data_raw_1.shape)\n",
    "# cir_data_raw_1 = cir_data_raw_1[cir_data_raw_1['label'] != '噪音']\n",
    "# cir_data_raw_1 = cir_data_raw_1[cir_data_raw_1['label'] != '产品销售']\n",
    "# cir_data_raw_1 = cir_data_raw_1[cir_data_raw_1['label'] != '行业']\n",
    "# print('去除噪音后，总数：', cir_data_raw_1.shape)\n",
    "\n",
    "# # print(cir_data_raw_1[cir_data_raw_1['title']=='听说出来了一款保证续保的医疗险?真相如何?'])\n",
    "# cir_data_raw_1.head()"
   ]
  },
  {
   "cell_type": "code",
   "execution_count": 4,
   "metadata": {
    "ExecuteTime": {
     "end_time": "2018-08-10T09:48:43.954254Z",
     "start_time": "2018-08-10T09:48:43.936961Z"
    }
   },
   "outputs": [],
   "source": [
    "# cir_data_raw_1['label'].value_counts()"
   ]
  },
  {
   "cell_type": "code",
   "execution_count": 5,
   "metadata": {
    "ExecuteTime": {
     "end_time": "2018-08-10T09:48:43.964632Z",
     "start_time": "2018-08-10T09:48:43.956617Z"
    }
   },
   "outputs": [],
   "source": [
    "# #这些文件是自身带有正文的文件\n",
    "# file_list2 = ['20180727_circ_class_1.xlsx', '20180803_circ_class_1.xlsx', \n",
    "#               '20180803_circ_class_2.xlsx', '20180803_circ_class_3.xlsx', \n",
    "#               '20180807_circ_class_1.xlsx'] # 多个 sheet"
   ]
  },
  {
   "cell_type": "code",
   "execution_count": 6,
   "metadata": {
    "ExecuteTime": {
     "end_time": "2018-08-10T09:48:43.976933Z",
     "start_time": "2018-08-10T09:48:43.966947Z"
    }
   },
   "outputs": [],
   "source": [
    "# cir_data_raw_2 = pd.DataFrame()\n",
    "# for file_name in file_list2:\n",
    "#     currentPath  = 'data/raw_data/{0}'.format(file_name)\n",
    "#     excel = xlrd.open_workbook(currentPath)\n",
    "#     sheet_names = [sheet.name for sheet in excel.sheets()]\n",
    "#     for sheet_name in sheet_names:    \n",
    "#         tmp_data = pd.read_excel(currentPath, sheet_name)\n",
    "#         if 'label' in tmp_data.columns:\n",
    "#             tmp_data = tmp_data[['label', 'title', 'content']]\n",
    "#             print('去空值前： ', tmp_data.shape, file_name, sheet_name)\n",
    "#             tmp_data = tmp_data.dropna(subset = ['title'], axis = 0)\n",
    "#             print('去空值后： ', tmp_data.shape, file_name, sheet_name)\n",
    "#             cir_data_raw_2 = pd.concat([cir_data_raw_2, tmp_data], axis = 0)\n",
    "\n",
    "# cir_data_raw_2['label'] = cir_data_raw_2['label'].apply(lambda x:x.strip())    \n",
    "# print('总数：', cir_data_raw_2.shape)\n",
    "# cir_data_raw_2.head()"
   ]
  },
  {
   "cell_type": "code",
   "execution_count": 7,
   "metadata": {
    "ExecuteTime": {
     "end_time": "2018-08-10T09:48:43.986632Z",
     "start_time": "2018-08-10T09:48:43.979124Z"
    }
   },
   "outputs": [],
   "source": [
    "# cir_data_raw_2['label'].value_counts()"
   ]
  },
  {
   "cell_type": "markdown",
   "metadata": {},
   "source": [
    "## 预测正确数据"
   ]
  },
  {
   "cell_type": "code",
   "execution_count": 8,
   "metadata": {
    "ExecuteTime": {
     "end_time": "2018-08-10T09:48:43.998414Z",
     "start_time": "2018-08-10T09:48:43.988908Z"
    }
   },
   "outputs": [],
   "source": [
    "file_list_1 = ['class_predict_result_20180806_c.xlsx',]"
   ]
  },
  {
   "cell_type": "code",
   "execution_count": 9,
   "metadata": {
    "ExecuteTime": {
     "end_time": "2018-08-10T09:49:02.157403Z",
     "start_time": "2018-08-10T09:48:44.000771Z"
    }
   },
   "outputs": [
    {
     "name": "stdout",
     "output_type": "stream",
     "text": [
      "去空值前：  (715, 7) class_predict_result_20180806_c.xlsx 公司内部管理\n",
      "去空值后：  (705, 7) class_predict_result_20180806_c.xlsx 公司内部管理\n",
      "去空值前：  (3073, 7) class_predict_result_20180806_c.xlsx 噪音\n",
      "去空值后：  (3046, 7) class_predict_result_20180806_c.xlsx 噪音\n",
      "去空值前：  (480, 7) class_predict_result_20180806_c.xlsx 行业\n",
      "去空值后：  (478, 7) class_predict_result_20180806_c.xlsx 行业\n",
      "去空值前：  (1463, 7) class_predict_result_20180806_c.xlsx 消费服务\n",
      "去空值后：  (1462, 7) class_predict_result_20180806_c.xlsx 消费服务\n",
      "去空值前：  (434, 7) class_predict_result_20180806_c.xlsx 资本市场\n",
      "去空值后：  (430, 7) class_predict_result_20180806_c.xlsx 资本市场\n",
      "去空值前：  (1307, 7) class_predict_result_20180806_c.xlsx 监管\n",
      "去空值后：  (1287, 7) class_predict_result_20180806_c.xlsx 监管\n",
      "去空值前：  (201, 7) class_predict_result_20180806_c.xlsx 产品销售\n",
      "去空值后：  (176, 7) class_predict_result_20180806_c.xlsx 产品销售\n",
      "去空值前：  (1323, 7) class_predict_result_20180806_c.xlsx 其他相关报道\n",
      "去空值后：  (1312, 7) class_predict_result_20180806_c.xlsx 其他相关报道\n",
      "总数： (8896, 3)\n"
     ]
    },
    {
     "data": {
      "text/html": [
       "<div>\n",
       "<style scoped>\n",
       "    .dataframe tbody tr th:only-of-type {\n",
       "        vertical-align: middle;\n",
       "    }\n",
       "\n",
       "    .dataframe tbody tr th {\n",
       "        vertical-align: top;\n",
       "    }\n",
       "\n",
       "    .dataframe thead th {\n",
       "        text-align: right;\n",
       "    }\n",
       "</style>\n",
       "<table border=\"1\" class=\"dataframe\">\n",
       "  <thead>\n",
       "    <tr style=\"text-align: right;\">\n",
       "      <th></th>\n",
       "      <th>label</th>\n",
       "      <th>title</th>\n",
       "      <th>content</th>\n",
       "    </tr>\n",
       "  </thead>\n",
       "  <tbody>\n",
       "    <tr>\n",
       "      <th>2</th>\n",
       "      <td>公司内部管理</td>\n",
       "      <td>中华保险因未按规定报送可疑交易报告等遭央行罚9万</td>\n",
       "      <td>中华保险因未按规定报送可疑交易报告等遭央行罚9万\\n\\r2018.01.04 09:17:...</td>\n",
       "    </tr>\n",
       "    <tr>\n",
       "      <th>4</th>\n",
       "      <td>公司内部管理</td>\n",
       "      <td>中国人寿北京违法欺骗投保人_保险_金融频道首页_财经网</td>\n",
       "      <td>中国经济网北京1月2日讯北京保监局于2017年12月27日对中国人寿保险股份有限公司北京市...</td>\n",
       "    </tr>\n",
       "    <tr>\n",
       "      <th>5</th>\n",
       "      <td>公司内部管理</td>\n",
       "      <td>中国人寿北京市分公司因欺骗投保人被保监局罚款30万元</td>\n",
       "      <td>中国人寿\\n\\r北京市分公司因欺骗投保人被保监局罚款30万元\\n\\r千龙网北京1月2日讯 ...</td>\n",
       "    </tr>\n",
       "    <tr>\n",
       "      <th>6</th>\n",
       "      <td>公司内部管理</td>\n",
       "      <td>中国人寿|北京保监局_新浪财经_新浪网</td>\n",
       "      <td>中国经济网北京1月2日讯 北京保监局于2017年12月27日对\\n\\r中国人寿\\n\\r...</td>\n",
       "    </tr>\n",
       "    <tr>\n",
       "      <th>8</th>\n",
       "      <td>公司内部管理</td>\n",
       "      <td>中国人保分公司涉嫌编制虚假报告 被保监会罚款27万</td>\n",
       "      <td>中国人保分公司涉嫌编制虚假报告 被保监会罚款27万\\n\\r1\\n评论\\n\\r2018-01...</td>\n",
       "    </tr>\n",
       "  </tbody>\n",
       "</table>\n",
       "</div>"
      ],
      "text/plain": [
       "    label                        title  \\\n",
       "2  公司内部管理     中华保险因未按规定报送可疑交易报告等遭央行罚9万   \n",
       "4  公司内部管理  中国人寿北京违法欺骗投保人_保险_金融频道首页_财经网   \n",
       "5  公司内部管理   中国人寿北京市分公司因欺骗投保人被保监局罚款30万元   \n",
       "6  公司内部管理          中国人寿|北京保监局_新浪财经_新浪网   \n",
       "8  公司内部管理    中国人保分公司涉嫌编制虚假报告 被保监会罚款27万   \n",
       "\n",
       "                                             content  \n",
       "2   中华保险因未按规定报送可疑交易报告等遭央行罚9万\\n\\r2018.01.04 09:17:...  \n",
       "4   中国经济网北京1月2日讯北京保监局于2017年12月27日对中国人寿保险股份有限公司北京市...  \n",
       "5   中国人寿\\n\\r北京市分公司因欺骗投保人被保监局罚款30万元\\n\\r千龙网北京1月2日讯 ...  \n",
       "6   　　中国经济网北京1月2日讯 北京保监局于2017年12月27日对\\n\\r中国人寿\\n\\r...  \n",
       "8   中国人保分公司涉嫌编制虚假报告 被保监会罚款27万\\n\\r1\\n评论\\n\\r2018-01...  "
      ]
     },
     "execution_count": 9,
     "metadata": {},
     "output_type": "execute_result"
    }
   ],
   "source": [
    "cir_data_raw_1 = pd.DataFrame()\n",
    "for file_name in file_list_1:\n",
    "    currentPath  = 'data/20180808/{0}'.format(file_name)\n",
    "    excel = xlrd.open_workbook(currentPath)\n",
    "    sheet_names = [sheet.name for sheet in excel.sheets()]\n",
    "    for sheet_name in sheet_names:    \n",
    "        tmp_data = pd.read_excel(currentPath, sheet_name)\n",
    "        tmp_data = tmp_data[tmp_data['R_W'] == 'Right']\n",
    "        print('去空值前： ', tmp_data.shape, file_name, sheet_name)\n",
    "        tmp_data = tmp_data[tmp_data['备注'] != '删除']\n",
    "#         tmp_data = tmp_data.dropna(subset = ['raw_title'], axis = 0)\n",
    "        print('去空值后： ', tmp_data.shape, file_name, sheet_name)\n",
    "        cir_data_raw_1 = pd.concat([cir_data_raw_1, tmp_data], axis = 0)\n",
    "\n",
    "cir_data_raw_1['label'] = cir_data_raw_1['label'].apply(lambda x:x.strip())    \n",
    "cir_data_raw_1 = cir_data_raw_1[['label', 'raw_title', 'raw_content']]\n",
    "cir_data_raw_1.columns = ['label', 'title', 'content']\n",
    "print('总数：', cir_data_raw_1.shape)\n",
    "cir_data_raw_1.head()"
   ]
  },
  {
   "cell_type": "code",
   "execution_count": 10,
   "metadata": {
    "ExecuteTime": {
     "end_time": "2018-08-10T09:49:02.168819Z",
     "start_time": "2018-08-10T09:49:02.160583Z"
    }
   },
   "outputs": [
    {
     "data": {
      "text/plain": [
       "噪音        3046\n",
       "消费服务      1462\n",
       "其他相关报道    1312\n",
       "监管        1287\n",
       "公司内部管理     705\n",
       "行业         478\n",
       "资本市场       430\n",
       "产品销售       176\n",
       "Name: label, dtype: int64"
      ]
     },
     "execution_count": 10,
     "metadata": {},
     "output_type": "execute_result"
    }
   ],
   "source": [
    "cir_data_raw_1['label'].value_counts()"
   ]
  },
  {
   "cell_type": "markdown",
   "metadata": {},
   "source": [
    "## 预测错误修正后数据"
   ]
  },
  {
   "cell_type": "code",
   "execution_count": 11,
   "metadata": {
    "ExecuteTime": {
     "end_time": "2018-08-10T09:49:02.182074Z",
     "start_time": "2018-08-10T09:49:02.171384Z"
    }
   },
   "outputs": [],
   "source": [
    "file_list_2 = ['20180807_class_predict_result_check.xlsx',]"
   ]
  },
  {
   "cell_type": "code",
   "execution_count": 12,
   "metadata": {
    "ExecuteTime": {
     "end_time": "2018-08-10T09:49:05.354176Z",
     "start_time": "2018-08-10T09:49:02.184539Z"
    }
   },
   "outputs": [
    {
     "name": "stdout",
     "output_type": "stream",
     "text": [
      "去空值前：  (183, 7) 20180807_class_predict_result_check.xlsx 公司内部管理\n",
      "去空值后：  (171, 7) 20180807_class_predict_result_check.xlsx 公司内部管理\n",
      "去空值前：  (281, 7) 20180807_class_predict_result_check.xlsx 行业\n",
      "去空值后：  (274, 7) 20180807_class_predict_result_check.xlsx 行业\n",
      "去空值前：  (302, 7) 20180807_class_predict_result_check.xlsx 噪音\n",
      "去空值后：  (298, 7) 20180807_class_predict_result_check.xlsx 噪音\n",
      "去空值前：  (107, 7) 20180807_class_predict_result_check.xlsx 消费服务\n",
      "去空值后：  (101, 7) 20180807_class_predict_result_check.xlsx 消费服务\n",
      "去空值前：  (148, 7) 20180807_class_predict_result_check.xlsx 资本市场\n",
      "去空值后：  (144, 7) 20180807_class_predict_result_check.xlsx 资本市场\n",
      "去空值前：  (176, 7) 20180807_class_predict_result_check.xlsx 监管\n",
      "去空值后：  (173, 7) 20180807_class_predict_result_check.xlsx 监管\n",
      "去空值前：  (186, 7) 20180807_class_predict_result_check.xlsx 产品销售\n",
      "去空值后：  (181, 7) 20180807_class_predict_result_check.xlsx 产品销售\n",
      "去空值前：  (132, 7) 20180807_class_predict_result_check.xlsx 其他相关报道\n",
      "去空值后：  (131, 7) 20180807_class_predict_result_check.xlsx 其他相关报道\n",
      "总数： (1473, 3)\n"
     ]
    },
    {
     "data": {
      "text/html": [
       "<div>\n",
       "<style scoped>\n",
       "    .dataframe tbody tr th:only-of-type {\n",
       "        vertical-align: middle;\n",
       "    }\n",
       "\n",
       "    .dataframe tbody tr th {\n",
       "        vertical-align: top;\n",
       "    }\n",
       "\n",
       "    .dataframe thead th {\n",
       "        text-align: right;\n",
       "    }\n",
       "</style>\n",
       "<table border=\"1\" class=\"dataframe\">\n",
       "  <thead>\n",
       "    <tr style=\"text-align: right;\">\n",
       "      <th></th>\n",
       "      <th>label</th>\n",
       "      <th>title</th>\n",
       "      <th>content</th>\n",
       "    </tr>\n",
       "  </thead>\n",
       "  <tbody>\n",
       "    <tr>\n",
       "      <th>0</th>\n",
       "      <td>公司内部管理</td>\n",
       "      <td>最高可获赔付金100万元</td>\n",
       "      <td>南方日报讯 （记者/吴珂 通讯员/黄康灵 翟洪亮）1月5日，省公安厅与中国人民财产保险股份...</td>\n",
       "    </tr>\n",
       "    <tr>\n",
       "      <th>2</th>\n",
       "      <td>公司内部管理</td>\n",
       "      <td>中国人寿去年净利增68.6%</td>\n",
       "      <td>昨日晚间，中国人寿披露的2017年年报显示，公司去年实现净利润322.53亿元，同比...</td>\n",
       "    </tr>\n",
       "    <tr>\n",
       "      <th>3</th>\n",
       "      <td>其他相关报道</td>\n",
       "      <td>我国首家科技保险公司获批开业 注册地为浙江嘉兴</td>\n",
       "      <td>金融界保险1月9日讯 今日，中国保监会公布《关于太平科技保险股份有限公司开业的批复》\\...</td>\n",
       "    </tr>\n",
       "    <tr>\n",
       "      <th>4</th>\n",
       "      <td>公司内部管理</td>\n",
       "      <td>腾讯微保被指违规经营 互联网保险业务边界屡受争议</td>\n",
       "      <td>腾讯微保被指违规经营 互联网保险业务边界屡受争议\\n\\r2018.01.10 09:04:...</td>\n",
       "    </tr>\n",
       "    <tr>\n",
       "      <th>5</th>\n",
       "      <td>公司内部管理</td>\n",
       "      <td>泰康资产管理_泰康资产管理公司_泰康资产怎么样</td>\n",
       "      <td>泰康人寿副总裁兼泰康资产首席投资官 邢怡\\n\\r中国网财经5月27日讯(记者 郭伟莹) 今...</td>\n",
       "    </tr>\n",
       "  </tbody>\n",
       "</table>\n",
       "</div>"
      ],
      "text/plain": [
       "    label                     title  \\\n",
       "0  公司内部管理              最高可获赔付金100万元   \n",
       "2  公司内部管理            中国人寿去年净利增68.6%   \n",
       "3  其他相关报道   我国首家科技保险公司获批开业 注册地为浙江嘉兴   \n",
       "4  公司内部管理  腾讯微保被指违规经营 互联网保险业务边界屡受争议   \n",
       "5  公司内部管理   泰康资产管理_泰康资产管理公司_泰康资产怎么样   \n",
       "\n",
       "                                             content  \n",
       "0   南方日报讯 （记者/吴珂 通讯员/黄康灵 翟洪亮）1月5日，省公安厅与中国人民财产保险股份...  \n",
       "2   　  昨日晚间，中国人寿披露的2017年年报显示，公司去年实现净利润322.53亿元，同比...  \n",
       "3   　　金融界保险1月9日讯 今日，中国保监会公布《关于太平科技保险股份有限公司开业的批复》\\...  \n",
       "4   腾讯微保被指违规经营 互联网保险业务边界屡受争议\\n\\r2018.01.10 09:04:...  \n",
       "5   泰康人寿副总裁兼泰康资产首席投资官 邢怡\\n\\r中国网财经5月27日讯(记者 郭伟莹) 今...  "
      ]
     },
     "execution_count": 12,
     "metadata": {},
     "output_type": "execute_result"
    }
   ],
   "source": [
    "cir_data_raw_2 = pd.DataFrame()\n",
    "for file_name in file_list_2:\n",
    "    currentPath  = 'data/20180808/{0}'.format(file_name)\n",
    "    excel = xlrd.open_workbook(currentPath)\n",
    "    sheet_names = [sheet.name for sheet in excel.sheets()]\n",
    "    for sheet_name in sheet_names:    \n",
    "        tmp_data = pd.read_excel(currentPath, sheet_name)\n",
    "        tmp_data = tmp_data[tmp_data['R_W'] == 'Wrong']\n",
    "        print('去空值前： ', tmp_data.shape, file_name, sheet_name)\n",
    "        tmp_data = tmp_data[tmp_data['备注'] != '删除']\n",
    "#         tmp_data = tmp_data.dropna(subset = ['raw_title'], axis = 0)\n",
    "        print('去空值后： ', tmp_data.shape, file_name, sheet_name)\n",
    "        cir_data_raw_2 = pd.concat([cir_data_raw_2, tmp_data], axis = 0)\n",
    "\n",
    "cir_data_raw_2['label'] = cir_data_raw_2['label'].apply(lambda x:x.strip())  \n",
    "cir_data_raw_2 = cir_data_raw_2[['备注', 'raw_title', 'raw_content']]\n",
    "cir_data_raw_2.columns = ['label', 'title', 'content']\n",
    "print('总数：', cir_data_raw_2.shape)\n",
    "cir_data_raw_2.head()"
   ]
  },
  {
   "cell_type": "code",
   "execution_count": 13,
   "metadata": {
    "ExecuteTime": {
     "end_time": "2018-08-10T09:49:05.365055Z",
     "start_time": "2018-08-10T09:49:05.356495Z"
    }
   },
   "outputs": [
    {
     "data": {
      "text/plain": [
       "噪音        337\n",
       "行业        300\n",
       "公司内部管理    198\n",
       "其他相关报道    169\n",
       "监管        153\n",
       "产品销售      137\n",
       "资本市场      107\n",
       "消费服务       72\n",
       "Name: label, dtype: int64"
      ]
     },
     "execution_count": 13,
     "metadata": {},
     "output_type": "execute_result"
    }
   ],
   "source": [
    "cir_data_raw_2['label'].value_counts()"
   ]
  },
  {
   "cell_type": "markdown",
   "metadata": {},
   "source": [
    "## 新补充数据"
   ]
  },
  {
   "cell_type": "code",
   "execution_count": 14,
   "metadata": {
    "ExecuteTime": {
     "end_time": "2018-08-10T09:49:05.372083Z",
     "start_time": "2018-08-10T09:49:05.367448Z"
    }
   },
   "outputs": [],
   "source": [
    "file_list_3 = ['20180807_circ_class_1.xlsx', '20180808_circ_class_1.xlsx', \n",
    "               '20180808_circ_class_2.xlsx', '20180808_circ_class_3.xlsx',\n",
    "               '20180809_circ_class_1.xlsx', '20180810_circ_class_1.xlsx'] # 多个 sheet"
   ]
  },
  {
   "cell_type": "code",
   "execution_count": 15,
   "metadata": {
    "ExecuteTime": {
     "end_time": "2018-08-10T09:49:15.936266Z",
     "start_time": "2018-08-10T09:49:05.374579Z"
    }
   },
   "outputs": [
    {
     "name": "stdout",
     "output_type": "stream",
     "text": [
      "Index(['title', 'content', 'label'], dtype='object')\n",
      "去空值前：  (84, 3) 20180807_circ_class_1.xlsx 产品销售\n",
      "去空值后：  (84, 3) 20180807_circ_class_1.xlsx 产品销售\n",
      "Index(['title', 'content', 'label'], dtype='object')\n",
      "去空值前：  (119, 3) 20180807_circ_class_1.xlsx 公司内部管理\n",
      "去空值后：  (119, 3) 20180807_circ_class_1.xlsx 公司内部管理\n",
      "Index(['title', 'content', 'label'], dtype='object')\n",
      "去空值前：  (95, 3) 20180807_circ_class_1.xlsx 行业\n",
      "去空值后：  (95, 3) 20180807_circ_class_1.xlsx 行业\n",
      "Index(['title', 'content', 'label'], dtype='object')\n",
      "去空值前：  (15, 3) 20180807_circ_class_1.xlsx 资本市场\n",
      "去空值后：  (15, 3) 20180807_circ_class_1.xlsx 资本市场\n",
      "Index(['id', 'predict_label', 'label', 'title', 'content', 'publishtime'], dtype='object')\n",
      "去空值前：  (111, 3) 20180808_circ_class_1.xlsx Sheet1\n",
      "去空值后：  (111, 3) 20180808_circ_class_1.xlsx Sheet1\n",
      "Index(['title', 'content', 'label'], dtype='object')\n",
      "去空值前：  (1038607, 3) 20180808_circ_class_1.xlsx Sheet4\n",
      "去空值后：  (32, 3) 20180808_circ_class_1.xlsx Sheet4\n",
      "Index(['label', 'title', 'content'], dtype='object')\n",
      "去空值前：  (281, 3) 20180808_circ_class_2.xlsx Sheet1\n",
      "去空值后：  (281, 3) 20180808_circ_class_2.xlsx Sheet1\n",
      "Index(['predict_label', 'label', 'title', 'content'], dtype='object')\n",
      "去空值前：  (83, 3) 20180808_circ_class_3.xlsx Sheet1\n",
      "去空值后：  (83, 3) 20180808_circ_class_3.xlsx Sheet1\n",
      "Index(['id', 'predict_label', 'label', 'title', 'content', 'publishtime'], dtype='object')\n",
      "去空值前：  (231, 3) 20180809_circ_class_1.xlsx Sheet1\n",
      "去空值后：  (231, 3) 20180809_circ_class_1.xlsx Sheet1\n",
      "Index(['id', 'predict_label', 'label', 'title', 'content', 'publishtime'], dtype='object')\n",
      "去空值前：  (96, 3) 20180810_circ_class_1.xlsx Sheet1\n",
      "去空值后：  (96, 3) 20180810_circ_class_1.xlsx Sheet1\n",
      "总数： (1147, 3)\n"
     ]
    },
    {
     "data": {
      "text/html": [
       "<div>\n",
       "<style scoped>\n",
       "    .dataframe tbody tr th:only-of-type {\n",
       "        vertical-align: middle;\n",
       "    }\n",
       "\n",
       "    .dataframe tbody tr th {\n",
       "        vertical-align: top;\n",
       "    }\n",
       "\n",
       "    .dataframe thead th {\n",
       "        text-align: right;\n",
       "    }\n",
       "</style>\n",
       "<table border=\"1\" class=\"dataframe\">\n",
       "  <thead>\n",
       "    <tr style=\"text-align: right;\">\n",
       "      <th></th>\n",
       "      <th>label</th>\n",
       "      <th>title</th>\n",
       "      <th>content</th>\n",
       "    </tr>\n",
       "  </thead>\n",
       "  <tbody>\n",
       "    <tr>\n",
       "      <th>0</th>\n",
       "      <td>产品销售</td>\n",
       "      <td>几款热销的性价比高消费型重疾险产品测评对比</td>\n",
       "      <td>几款热销的性价比高消费型重疾险产品测评对比 　　慧财365慧财365昨天     　　现...</td>\n",
       "    </tr>\n",
       "    <tr>\n",
       "      <th>1</th>\n",
       "      <td>产品销售</td>\n",
       "      <td>平安人寿推出“爱满分保险产品计划”</td>\n",
       "      <td>专题平安人寿重磅推出新款少儿险“爱满分保险产品计划1”(以下简称“爱满分”),该产品针对0-...</td>\n",
       "    </tr>\n",
       "    <tr>\n",
       "      <th>2</th>\n",
       "      <td>产品销售</td>\n",
       "      <td>少儿保障再升级 平安人寿“爱满分保险产品计划”上市</td>\n",
       "      <td>时六一儿童节之际，平安人寿重磅推出新款少儿险“爱满分保险产品计划1”（以下简称“爱满分”），...</td>\n",
       "    </tr>\n",
       "    <tr>\n",
       "      <th>3</th>\n",
       "      <td>产品销售</td>\n",
       "      <td>国寿少儿住院医疗保险，0免赔，不限社保，住院津贴补助，保费只需240元</td>\n",
       "      <td>投保须知 年龄 0岁-17岁 保期 1年 责任 疾病+意外+住院津贴多重保障，意外住院报销0...</td>\n",
       "    </tr>\n",
       "    <tr>\n",
       "      <th>4</th>\n",
       "      <td>产品销售</td>\n",
       "      <td>中国人寿推出国寿福（优享版）保险产品组合</td>\n",
       "      <td>近日，寿险公司推出国寿福（优享版）保险产品组合,涵盖重大疾病、特定疾病、意外伤害、保费豁免等...</td>\n",
       "    </tr>\n",
       "  </tbody>\n",
       "</table>\n",
       "</div>"
      ],
      "text/plain": [
       "  label                                title  \\\n",
       "0  产品销售                几款热销的性价比高消费型重疾险产品测评对比   \n",
       "1  产品销售                    平安人寿推出“爱满分保险产品计划”   \n",
       "2  产品销售            少儿保障再升级 平安人寿“爱满分保险产品计划”上市   \n",
       "3  产品销售  国寿少儿住院医疗保险，0免赔，不限社保，住院津贴补助，保费只需240元   \n",
       "4  产品销售                 中国人寿推出国寿福（优享版）保险产品组合   \n",
       "\n",
       "                                             content  \n",
       "0  　　几款热销的性价比高消费型重疾险产品测评对比 　　慧财365慧财365昨天     　　现...  \n",
       "1  专题平安人寿重磅推出新款少儿险“爱满分保险产品计划1”(以下简称“爱满分”),该产品针对0-...  \n",
       "2  时六一儿童节之际，平安人寿重磅推出新款少儿险“爱满分保险产品计划1”（以下简称“爱满分”），...  \n",
       "3  投保须知 年龄 0岁-17岁 保期 1年 责任 疾病+意外+住院津贴多重保障，意外住院报销0...  \n",
       "4  近日，寿险公司推出国寿福（优享版）保险产品组合,涵盖重大疾病、特定疾病、意外伤害、保费豁免等...  "
      ]
     },
     "execution_count": 15,
     "metadata": {},
     "output_type": "execute_result"
    }
   ],
   "source": [
    "cir_data_raw_3 = pd.DataFrame()\n",
    "for file_name in file_list_3:\n",
    "    currentPath  = 'data/20180808/{0}'.format(file_name)\n",
    "    excel = xlrd.open_workbook(currentPath)\n",
    "    sheet_names = [sheet.name for sheet in excel.sheets()]\n",
    "    for sheet_name in sheet_names:    \n",
    "        tmp_data = pd.read_excel(currentPath, sheet_name)\n",
    "        print(tmp_data.columns)\n",
    "        if 'label' in tmp_data.columns:\n",
    "            tmp_data = tmp_data[['label', 'title', 'content']]\n",
    "            print('去空值前： ', tmp_data.shape, file_name, sheet_name)\n",
    "            tmp_data = tmp_data.dropna(subset = ['title'], axis = 0)\n",
    "            print('去空值后： ', tmp_data.shape, file_name, sheet_name)\n",
    "            cir_data_raw_3 = pd.concat([cir_data_raw_3, tmp_data], axis = 0)\n",
    "\n",
    "cir_data_raw_3['label'] = cir_data_raw_3['label'].apply(lambda x:x.strip())    \n",
    "print('总数：', cir_data_raw_3.shape)\n",
    "cir_data_raw_3.head()"
   ]
  },
  {
   "cell_type": "code",
   "execution_count": 16,
   "metadata": {
    "ExecuteTime": {
     "end_time": "2018-08-10T09:49:15.947042Z",
     "start_time": "2018-08-10T09:49:15.939572Z"
    }
   },
   "outputs": [
    {
     "data": {
      "text/plain": [
       "行业        356\n",
       "资本市场      272\n",
       "产品销售      252\n",
       "公司内部管理    198\n",
       "监管         49\n",
       "消费服务       10\n",
       "其他相关报道     10\n",
       "Name: label, dtype: int64"
      ]
     },
     "execution_count": 16,
     "metadata": {},
     "output_type": "execute_result"
    }
   ],
   "source": [
    "cir_data_raw_3['label'].value_counts()"
   ]
  },
  {
   "cell_type": "markdown",
   "metadata": {},
   "source": [
    "## 模型预测后反馈数据"
   ]
  },
  {
   "cell_type": "code",
   "execution_count": 17,
   "metadata": {
    "ExecuteTime": {
     "end_time": "2018-08-10T09:49:15.967918Z",
     "start_time": "2018-08-10T09:49:15.949220Z"
    }
   },
   "outputs": [],
   "source": [
    "file_list_4 = ['20180810_circ_class_feedback.xlsx', \n",
    "              ] # 多个 sheet"
   ]
  },
  {
   "cell_type": "code",
   "execution_count": 18,
   "metadata": {
    "ExecuteTime": {
     "end_time": "2018-08-10T09:49:17.951649Z",
     "start_time": "2018-08-10T09:49:15.970534Z"
    }
   },
   "outputs": [
    {
     "name": "stdout",
     "output_type": "stream",
     "text": [
      "行业 198 116 0.5858585858585859\n",
      "去空值前：  (116, 3) 20180810_circ_class_feedback.xlsx 行业\n",
      "去空值后：  (116, 3) 20180810_circ_class_feedback.xlsx 行业\n",
      "\n",
      "监管 197 133 0.6751269035532995\n",
      "去空值前：  (133, 3) 20180810_circ_class_feedback.xlsx 监管\n",
      "去空值后：  (133, 3) 20180810_circ_class_feedback.xlsx 监管\n",
      "\n",
      "其他相关报道 198 131 0.6616161616161617\n",
      "去空值前：  (131, 3) 20180810_circ_class_feedback.xlsx 其他相关报道\n",
      "去空值后：  (131, 3) 20180810_circ_class_feedback.xlsx 其他相关报道\n",
      "\n",
      "噪音 198 117 0.5909090909090909\n",
      "去空值前：  (117, 3) 20180810_circ_class_feedback.xlsx 噪音\n",
      "去空值后：  (117, 3) 20180810_circ_class_feedback.xlsx 噪音\n",
      "\n",
      "公司内部管理 194 117 0.6030927835051546\n",
      "去空值前：  (117, 3) 20180810_circ_class_feedback.xlsx 公司内部管理\n",
      "去空值后：  (117, 3) 20180810_circ_class_feedback.xlsx 公司内部管理\n",
      "\n",
      "消费服务 195 140 0.717948717948718\n",
      "去空值前：  (140, 3) 20180810_circ_class_feedback.xlsx 消费服务\n",
      "去空值后：  (140, 3) 20180810_circ_class_feedback.xlsx 消费服务\n",
      "\n",
      "资本市场 172 127 0.7383720930232558\n",
      "去空值前：  (127, 3) 20180810_circ_class_feedback.xlsx 资本市场\n",
      "去空值后：  (127, 3) 20180810_circ_class_feedback.xlsx 资本市场\n",
      "\n",
      "产品销售 279 122 0.43727598566308246\n",
      "去空值前：  (122, 3) 20180810_circ_class_feedback.xlsx 产品销售\n",
      "去空值后：  (122, 3) 20180810_circ_class_feedback.xlsx 产品销售\n",
      "\n",
      "总数： (1003, 3)\n"
     ]
    },
    {
     "data": {
      "text/html": [
       "<div>\n",
       "<style scoped>\n",
       "    .dataframe tbody tr th:only-of-type {\n",
       "        vertical-align: middle;\n",
       "    }\n",
       "\n",
       "    .dataframe tbody tr th {\n",
       "        vertical-align: top;\n",
       "    }\n",
       "\n",
       "    .dataframe thead th {\n",
       "        text-align: right;\n",
       "    }\n",
       "</style>\n",
       "<table border=\"1\" class=\"dataframe\">\n",
       "  <thead>\n",
       "    <tr style=\"text-align: right;\">\n",
       "      <th></th>\n",
       "      <th>label</th>\n",
       "      <th>title</th>\n",
       "      <th>content</th>\n",
       "    </tr>\n",
       "  </thead>\n",
       "  <tbody>\n",
       "    <tr>\n",
       "      <th>0</th>\n",
       "      <td>行业</td>\n",
       "      <td>专栏文章|订单随意取消太任性？订单取消险了解一下！</td>\n",
       "      <td>前言 如今互联网的迅猛发展使得不少网购族享受到网上购买商品或者服务带来的便利。“七天无理由退...</td>\n",
       "    </tr>\n",
       "    <tr>\n",
       "      <th>1</th>\n",
       "      <td>行业</td>\n",
       "      <td>寿险公司二季度报告：前海人寿等四家险企亏损严重</td>\n",
       "      <td>一半是海水，一半是火焰。\\n\\n　　根据21世纪经济报道记者统计，截至8月5日，在72家统...</td>\n",
       "    </tr>\n",
       "    <tr>\n",
       "      <th>2</th>\n",
       "      <td>行业</td>\n",
       "      <td>【贝叶思报告】2018年保险业声誉风险管理周报（7月21日-7月27日）</td>\n",
       "      <td>一、本周舆情概述 2018年7月21日-7月27日，贝叶思监测数据显示，全网有关保险行业的声...</td>\n",
       "    </tr>\n",
       "    <tr>\n",
       "      <th>3</th>\n",
       "      <td>行业</td>\n",
       "      <td>“信保贷”在保项目金额为54.3亿元</td>\n",
       "      <td>有效降低贷款业务风险。保险机构有3家。    除了“信保贷”项目，我市上半年其他保险重点项目...</td>\n",
       "    </tr>\n",
       "    <tr>\n",
       "      <th>4</th>\n",
       "      <td>行业</td>\n",
       "      <td>健康险发展缓慢--</td>\n",
       "      <td>今日，中信保诚人寿在客服节启动仪式上首发《国民健康大数据白皮书》，其中显示，虽然疾病费用开销...</td>\n",
       "    </tr>\n",
       "  </tbody>\n",
       "</table>\n",
       "</div>"
      ],
      "text/plain": [
       "  label                                 title  \\\n",
       "0    行业             专栏文章|订单随意取消太任性？订单取消险了解一下！   \n",
       "1    行业               寿险公司二季度报告：前海人寿等四家险企亏损严重   \n",
       "2    行业  【贝叶思报告】2018年保险业声誉风险管理周报（7月21日-7月27日）   \n",
       "3    行业                    “信保贷”在保项目金额为54.3亿元   \n",
       "4    行业                             健康险发展缓慢--   \n",
       "\n",
       "                                             content  \n",
       "0  前言 如今互联网的迅猛发展使得不少网购族享受到网上购买商品或者服务带来的便利。“七天无理由退...  \n",
       "1  　一半是海水，一半是火焰。\\n\\n　　根据21世纪经济报道记者统计，截至8月5日，在72家统...  \n",
       "2  一、本周舆情概述 2018年7月21日-7月27日，贝叶思监测数据显示，全网有关保险行业的声...  \n",
       "3  有效降低贷款业务风险。保险机构有3家。    除了“信保贷”项目，我市上半年其他保险重点项目...  \n",
       "4  今日，中信保诚人寿在客服节启动仪式上首发《国民健康大数据白皮书》，其中显示，虽然疾病费用开销...  "
      ]
     },
     "execution_count": 18,
     "metadata": {},
     "output_type": "execute_result"
    }
   ],
   "source": [
    "cir_data_raw_4 = pd.DataFrame()\n",
    "label_list = []\n",
    "sum_list = []\n",
    "right_list = []\n",
    "for file_name in file_list_4:\n",
    "    currentPath  = 'data/20180808/{0}'.format(file_name)\n",
    "    excel = xlrd.open_workbook(currentPath)\n",
    "    sheet_names = [sheet.name for sheet in excel.sheets()]\n",
    "    for sheet_name in sheet_names:   \n",
    "        tmp_data = pd.read_excel(currentPath, sheet_name)        \n",
    "#         print(tmp_data.columns)\n",
    "        tmp_data_1 = tmp_data[tmp_data['label'] == sheet_name]\n",
    "        \n",
    "        label_list.append(sheet_name)\n",
    "        sum_list.append(tmp_data.shape[0])\n",
    "        right_list.append(tmp_data_1.shape[0])\n",
    "        print(sheet_name, tmp_data.shape[0], tmp_data_1.shape[0], tmp_data_1.shape[0]/tmp_data.shape[0])\n",
    "        \n",
    "        tmp_data_1 = tmp_data_1[['label', 'title', 'content']]\n",
    "        print('去空值前： ', tmp_data_1.shape, file_name, sheet_name)\n",
    "        tmp_data_1 = tmp_data_1.dropna(subset = ['title'], axis = 0)\n",
    "        print('去空值后： ', tmp_data_1.shape, file_name, sheet_name)\n",
    "        cir_data_raw_4 = pd.concat([cir_data_raw_4, tmp_data_1], axis = 0)\n",
    "        print()\n",
    "\n",
    "cir_data_raw_4['label'] = cir_data_raw_4['label'].apply(lambda x:x.strip())    \n",
    "print('总数：', cir_data_raw_4.shape)\n",
    "cir_data_raw_4.head()"
   ]
  },
  {
   "cell_type": "code",
   "execution_count": 19,
   "metadata": {
    "ExecuteTime": {
     "end_time": "2018-08-10T09:49:17.962911Z",
     "start_time": "2018-08-10T09:49:17.954367Z"
    }
   },
   "outputs": [
    {
     "data": {
      "text/plain": [
       "消费服务      140\n",
       "监管        133\n",
       "其他相关报道    131\n",
       "资本市场      127\n",
       "产品销售      122\n",
       "公司内部管理    117\n",
       "噪音        117\n",
       "行业        116\n",
       "Name: label, dtype: int64"
      ]
     },
     "execution_count": 19,
     "metadata": {},
     "output_type": "execute_result"
    }
   ],
   "source": [
    "cir_data_raw_4['label'].value_counts()"
   ]
  },
  {
   "cell_type": "markdown",
   "metadata": {},
   "source": [
    "## 合并数据"
   ]
  },
  {
   "cell_type": "code",
   "execution_count": 20,
   "metadata": {
    "ExecuteTime": {
     "end_time": "2018-08-10T09:49:18.392106Z",
     "start_time": "2018-08-10T09:49:17.965801Z"
    }
   },
   "outputs": [
    {
     "name": "stdout",
     "output_type": "stream",
     "text": [
      "去重前：  (12519, 5)\n",
      "去重后：  (11979, 5)\n"
     ]
    },
    {
     "data": {
      "text/html": [
       "<div>\n",
       "<style scoped>\n",
       "    .dataframe tbody tr th:only-of-type {\n",
       "        vertical-align: middle;\n",
       "    }\n",
       "\n",
       "    .dataframe tbody tr th {\n",
       "        vertical-align: top;\n",
       "    }\n",
       "\n",
       "    .dataframe thead th {\n",
       "        text-align: right;\n",
       "    }\n",
       "</style>\n",
       "<table border=\"1\" class=\"dataframe\">\n",
       "  <thead>\n",
       "    <tr style=\"text-align: right;\">\n",
       "      <th></th>\n",
       "      <th>label</th>\n",
       "      <th>title</th>\n",
       "      <th>content</th>\n",
       "      <th>title_content</th>\n",
       "      <th>index</th>\n",
       "    </tr>\n",
       "  </thead>\n",
       "  <tbody>\n",
       "    <tr>\n",
       "      <th>2</th>\n",
       "      <td>公司内部管理</td>\n",
       "      <td>中华保险因未按规定报送可疑交易报告等遭央行罚9万</td>\n",
       "      <td>中华保险因未按规定报送可疑交易报告等遭央行罚9万\\n\\r2018.01.04 09:17:...</td>\n",
       "      <td>中华保险因未按规定报送可疑交易报告等遭央行罚9万。 中华保险因未按规定报送可疑交易报告等遭央...</td>\n",
       "      <td>0</td>\n",
       "    </tr>\n",
       "    <tr>\n",
       "      <th>4</th>\n",
       "      <td>公司内部管理</td>\n",
       "      <td>中国人寿北京违法欺骗投保人_保险_金融频道首页_财经网</td>\n",
       "      <td>中国经济网北京1月2日讯北京保监局于2017年12月27日对中国人寿保险股份有限公司北京市...</td>\n",
       "      <td>中国人寿北京违法欺骗投保人_保险_金融频道首页_财经网。 中国经济网北京1月2日讯北京保监局...</td>\n",
       "      <td>1</td>\n",
       "    </tr>\n",
       "    <tr>\n",
       "      <th>5</th>\n",
       "      <td>公司内部管理</td>\n",
       "      <td>中国人寿北京市分公司因欺骗投保人被保监局罚款30万元</td>\n",
       "      <td>中国人寿\\n\\r北京市分公司因欺骗投保人被保监局罚款30万元\\n\\r千龙网北京1月2日讯 ...</td>\n",
       "      <td>中国人寿北京市分公司因欺骗投保人被保监局罚款30万元。 中国人寿\\n\\r北京市分公司因欺骗投...</td>\n",
       "      <td>2</td>\n",
       "    </tr>\n",
       "    <tr>\n",
       "      <th>6</th>\n",
       "      <td>公司内部管理</td>\n",
       "      <td>中国人寿|北京保监局_新浪财经_新浪网</td>\n",
       "      <td>中国经济网北京1月2日讯 北京保监局于2017年12月27日对\\n\\r中国人寿\\n\\r...</td>\n",
       "      <td>中国人寿|北京保监局_新浪财经_新浪网。 　　中国经济网北京1月2日讯 北京保监局于2017...</td>\n",
       "      <td>3</td>\n",
       "    </tr>\n",
       "    <tr>\n",
       "      <th>8</th>\n",
       "      <td>公司内部管理</td>\n",
       "      <td>中国人保分公司涉嫌编制虚假报告 被保监会罚款27万</td>\n",
       "      <td>中国人保分公司涉嫌编制虚假报告 被保监会罚款27万\\n\\r1\\n评论\\n\\r2018-01...</td>\n",
       "      <td>中国人保分公司涉嫌编制虚假报告 被保监会罚款27万。 中国人保分公司涉嫌编制虚假报告 被保监...</td>\n",
       "      <td>4</td>\n",
       "    </tr>\n",
       "  </tbody>\n",
       "</table>\n",
       "</div>"
      ],
      "text/plain": [
       "    label                        title  \\\n",
       "2  公司内部管理     中华保险因未按规定报送可疑交易报告等遭央行罚9万   \n",
       "4  公司内部管理  中国人寿北京违法欺骗投保人_保险_金融频道首页_财经网   \n",
       "5  公司内部管理   中国人寿北京市分公司因欺骗投保人被保监局罚款30万元   \n",
       "6  公司内部管理          中国人寿|北京保监局_新浪财经_新浪网   \n",
       "8  公司内部管理    中国人保分公司涉嫌编制虚假报告 被保监会罚款27万   \n",
       "\n",
       "                                             content  \\\n",
       "2   中华保险因未按规定报送可疑交易报告等遭央行罚9万\\n\\r2018.01.04 09:17:...   \n",
       "4   中国经济网北京1月2日讯北京保监局于2017年12月27日对中国人寿保险股份有限公司北京市...   \n",
       "5   中国人寿\\n\\r北京市分公司因欺骗投保人被保监局罚款30万元\\n\\r千龙网北京1月2日讯 ...   \n",
       "6   　　中国经济网北京1月2日讯 北京保监局于2017年12月27日对\\n\\r中国人寿\\n\\r...   \n",
       "8   中国人保分公司涉嫌编制虚假报告 被保监会罚款27万\\n\\r1\\n评论\\n\\r2018-01...   \n",
       "\n",
       "                                       title_content  index  \n",
       "2  中华保险因未按规定报送可疑交易报告等遭央行罚9万。 中华保险因未按规定报送可疑交易报告等遭央...      0  \n",
       "4  中国人寿北京违法欺骗投保人_保险_金融频道首页_财经网。 中国经济网北京1月2日讯北京保监局...      1  \n",
       "5  中国人寿北京市分公司因欺骗投保人被保监局罚款30万元。 中国人寿\\n\\r北京市分公司因欺骗投...      2  \n",
       "6  中国人寿|北京保监局_新浪财经_新浪网。 　　中国经济网北京1月2日讯 北京保监局于2017...      3  \n",
       "8  中国人保分公司涉嫌编制虚假报告 被保监会罚款27万。 中国人保分公司涉嫌编制虚假报告 被保监...      4  "
      ]
     },
     "execution_count": 20,
     "metadata": {},
     "output_type": "execute_result"
    }
   ],
   "source": [
    "cir_data_raw = pd.concat([cir_data_raw_1, cir_data_raw_2,\n",
    "                          cir_data_raw_3, cir_data_raw_4], \n",
    "                         axis = 0)\n",
    "\n",
    "# cir_data_raw = cir_data_raw_2\n",
    "cir_data_raw['title_content'] = cir_data_raw['title'].astype(str) + '。' + cir_data_raw['content'].astype(str)\n",
    "cir_data_raw['label'] = cir_data_raw['label'].apply(lambda x:x.strip())\n",
    "cir_data_raw['index'] = range(cir_data_raw.shape[0])\n",
    "print('去重前： ', cir_data_raw.shape)\n",
    "cir_data_raw = cir_data_raw.drop_duplicates(subset = 'title_content')\n",
    "print('去重后： ', cir_data_raw.shape)\n",
    "cir_data_raw.head()"
   ]
  },
  {
   "cell_type": "code",
   "execution_count": 21,
   "metadata": {
    "ExecuteTime": {
     "end_time": "2018-08-10T09:49:18.404779Z",
     "start_time": "2018-08-10T09:49:18.394926Z"
    }
   },
   "outputs": [
    {
     "name": "stdout",
     "output_type": "stream",
     "text": [
      "(11979, 5)\n"
     ]
    },
    {
     "data": {
      "text/plain": [
       "label\n",
       "产品销售       669\n",
       "公司内部管理    1161\n",
       "其他相关报道    1571\n",
       "噪音        3474\n",
       "消费服务      1521\n",
       "监管        1519\n",
       "行业        1201\n",
       "资本市场       863\n",
       "Name: title, dtype: int64"
      ]
     },
     "execution_count": 21,
     "metadata": {},
     "output_type": "execute_result"
    }
   ],
   "source": [
    "print(cir_data_raw.shape)\n",
    "cir_data_raw.groupby('label')['title'].count()"
   ]
  },
  {
   "cell_type": "code",
   "execution_count": 22,
   "metadata": {
    "ExecuteTime": {
     "end_time": "2018-08-10T09:49:18.430081Z",
     "start_time": "2018-08-10T09:49:18.407296Z"
    }
   },
   "outputs": [],
   "source": [
    "test_index = []\n",
    "val_index = []\n",
    "train_index = []\n",
    "\n",
    "for label in cir_data_raw['label'].unique():\n",
    "    indexs = cir_data_raw[cir_data_raw['label'] == label]['index'].tolist()\n",
    "    test_index += indexs[:40] # 40\n",
    "    val_index += indexs[40:60] # 20\n",
    "    train_index += indexs[60:]"
   ]
  },
  {
   "cell_type": "code",
   "execution_count": 23,
   "metadata": {
    "ExecuteTime": {
     "end_time": "2018-08-10T09:49:18.444871Z",
     "start_time": "2018-08-10T09:49:18.432614Z"
    }
   },
   "outputs": [
    {
     "name": "stdout",
     "output_type": "stream",
     "text": [
      "(320, 2)\n"
     ]
    }
   ],
   "source": [
    "coprus_save_filename = 'data/cnews.test.txt'\n",
    "\n",
    "test_data = np.array(cir_data_raw[cir_data_raw['index'].isin(test_index)][['label', 'title_content']])\n",
    "print(test_data.shape)\n",
    "\n",
    "f = open(coprus_save_filename, \"w+\", encoding='UTF-8')\n",
    "for [l, d] in test_data:\n",
    "    f.write(l + '----' + d + '\\n')\n",
    "f.close()"
   ]
  },
  {
   "cell_type": "code",
   "execution_count": 24,
   "metadata": {
    "ExecuteTime": {
     "end_time": "2018-08-10T09:49:18.456558Z",
     "start_time": "2018-08-10T09:49:18.447277Z"
    }
   },
   "outputs": [
    {
     "name": "stdout",
     "output_type": "stream",
     "text": [
      "(160, 2)\n"
     ]
    }
   ],
   "source": [
    "coprus_save_filename = 'data/cnews.val.txt'\n",
    "\n",
    "val_data = np.array(cir_data_raw[cir_data_raw['index'].isin(val_index)][['label', 'title_content']])\n",
    "print(val_data.shape)\n",
    "\n",
    "f = open(coprus_save_filename, \"w+\", encoding='UTF-8')\n",
    "for [l, d] in val_data:\n",
    "    f.write(l + '----' + d + '\\n')\n",
    "f.close()"
   ]
  },
  {
   "cell_type": "code",
   "execution_count": 25,
   "metadata": {
    "ExecuteTime": {
     "end_time": "2018-08-10T09:49:18.668920Z",
     "start_time": "2018-08-10T09:49:18.458930Z"
    }
   },
   "outputs": [
    {
     "name": "stdout",
     "output_type": "stream",
     "text": [
      "(11499, 2)\n"
     ]
    }
   ],
   "source": [
    "coprus_save_filename = 'data/cnews.train.txt'\n",
    "\n",
    "train_data = np.array(cir_data_raw[cir_data_raw['index'].isin(train_index)][['label', 'title_content']])\n",
    "print(train_data.shape)\n",
    "\n",
    "f = open(coprus_save_filename, \"w+\", encoding='UTF-8')\n",
    "for [l, d] in train_data:\n",
    "    f.write(l + '----' + d + '\\n')\n",
    "f.close()"
   ]
  },
  {
   "cell_type": "code",
   "execution_count": 26,
   "metadata": {
    "ExecuteTime": {
     "end_time": "2018-08-10T09:49:18.677707Z",
     "start_time": "2018-08-10T09:49:18.671729Z"
    }
   },
   "outputs": [
    {
     "data": {
      "text/plain": [
       "dict_keys(['监管', '行业', '产品销售', '资本市场', '公司内部管理', '消费服务', '其他相关报道', '噪音'])"
      ]
     },
     "execution_count": 26,
     "metadata": {},
     "output_type": "execute_result"
    }
   ],
   "source": [
    "label_dic={'监管':1,'行业':2,'产品销售':3,'资本市场':4,'公司内部管理':5,'消费服务':6,'其他相关报道':7,'噪音':8}\n",
    "label_dic.keys()"
   ]
  },
  {
   "cell_type": "markdown",
   "metadata": {},
   "source": [
    "# 预处理"
   ]
  },
  {
   "cell_type": "code",
   "execution_count": 64,
   "metadata": {
    "ExecuteTime": {
     "end_time": "2018-08-10T08:51:41.999055Z",
     "start_time": "2018-08-10T08:51:37.693868Z"
    }
   },
   "outputs": [
    {
     "name": "stdout",
     "output_type": "stream",
     "text": [
      "11979\n"
     ]
    }
   ],
   "source": [
    "# titles = pre_cor_1.handle_contents(cir_data_raw['title'].tolist())\n",
    "titles = pre_cor.handle_contents(cir_data_raw['title'].tolist())\n",
    "print(len(titles))\n",
    "\n",
    "save_filename = 'data/titles0.txt'\n",
    "fid = open(save_filename, \"w+\", encoding='UTF-8')\n",
    "for data in titles:\n",
    "    fid.write(data + '\\n')\n",
    "fid.close()"
   ]
  },
  {
   "cell_type": "code",
   "execution_count": 65,
   "metadata": {
    "ExecuteTime": {
     "end_time": "2018-08-10T08:55:15.459172Z",
     "start_time": "2018-08-10T08:51:42.001428Z"
    }
   },
   "outputs": [
    {
     "name": "stdout",
     "output_type": "stream",
     "text": [
      "11979\n",
      "['中华保险 因未 按规定 报送 可疑交易 报告 遭 央行 罚 万 n r n 新浪 综合 n r 图片 n r 千 新闻网 n r 月 日 中国人民银行 阿坝州 中心 支行 发布 行政处罚 信息 公示 表 显示 中华联合财产保险股份有限公司 阿坝 中心 支公司 因 存在 未 按照 规定 履行 客户 身份 识别 义务 未 按照 规定 报送 可疑交易 报告 行为 被 处以罚款 万元 相关 责任人 被 处以罚款 万元 作出 行政处罚 决定 日期 为 年 月 日 n r 图片 r n t t t t t t t t t 图片 n r 资料 显示 中华联合财产保险股份有限公司 最早 成立 年 前身 为 国家财政部 农业部 拔 专款 新疆生产建设兵团 组建 成立 新疆 兵团 保险公司 年 更名 为 中华联合财险 年 实行 一改 三 整体 改制 成立 中华 联合 控股公司 下设 中华联合财险 中华联合人寿 n r 责任编辑 杜琰 SF n r 图片 n ', '中国 经济网 北京 月 日讯 北京保监局 年 月 日 对 中国人寿保险股份有限公司 北京市 分公司 以下 简称 国寿北分 作出 京 保监 罚 号 处罚 决定 并 今日 公布 北京保监局 核查 国寿北分 经营 过程 中 存在 欺骗 投保人 违法行为 n r 北京保监局 表示 国寿北分 欺骗 投保人 行为 违反 中华人民共和国 保险法 一百一十 六条 规定 依据 该法 第一百六十一条 对国寿北分 处以罚款 万元 行政处罚 并 责令 改正 违法违规 行为 n r 此外 时任 国寿北分 副总经理 张 松山 身份证号 XXXXXXXX 时任 国寿北分 银行 保险 部 总经理 程炳华 身份证号 XXXXXXXX 对 上述 违规 问题 直接 负责 主管人员 时任 国寿北分 银行 保险 部 理财 管理部 经理 朱宇阳 身份证号 XXXXXXXX 上述 违规 问题 直接 责任人员 北京保监局 根据 中华人民共和国 保险法 一百七十 一条 决定 对张 松山 给予警告 并处 万元 罚款 行政处罚 对 程炳华 给予警告 并处 万元 罚款 行政处罚 对 朱宇阳 给予警告 并处 万元 罚款 行政处罚 n r 图片 n r 编辑 许楠楠 n r 关键字 n r 投保人 n r 北京 n r 人寿 n r 中国 n r 违法 n ']\n",
      "11979\n",
      "['中华保险 因未 按规定 报送 可疑交易 报告 遭 央行 罚 万    新浪 综合   图片   千 新闻网   月 日 中国人民银行 阿坝州 中心 支行 发布 行政处罚 信息 公示 表 显示 中华联合财产保险股份有限公司 阿坝 中心 支公司 因 存在 未 按照 规定 履行 客户 身份 识别 义务 未 按照 规定 报送 可疑交易 报告 行为 被 处以罚款 万元 相关 责任人 被 处以罚款 万元 作出 行政处罚 决定 日期 为 年 月 日   图片            图片   资料 显示 中华联合财产保险股份有限公司 最早 成立 年 前身 为 国家财政部 农业部 拔 专款 新疆生产建设兵团 组建 成立 新疆 兵团 保险公司 年 更名 为 中华联合财险 年 实行 一改 三 整体 改制 成立 中华 联合 控股公司 下设 中华联合财险 中华联合人寿   责任编辑 杜琰 SF   图片  ', '中国 经济网 北京 月 日讯 北京保监局 年 月 日 对 中国人寿保险股份有限公司 北京市 分公司 以下 简称 国寿北分 作出 京 保监 罚 号 处罚 决定 并 今日 公布 北京保监局 核查 国寿北分 经营 过程 中 存在 欺骗 投保人 违法行为   北京保监局 表示 国寿北分 欺骗 投保人 行为 违反 中华人民共和国 保险法 一百一十 六条 规定 依据 该法 第一百六十一条 对国寿北分 处以罚款 万元 行政处罚 并 责令 改正 违法违规 行为   此外 时任 国寿北分 副总经理 张 松山 身份证号 XXXXXXXX 时任 国寿北分 银行 保险 部 总经理 程炳华 身份证号 XXXXXXXX 对 上述 违规 问题 直接 负责 主管人员 时任 国寿北分 银行 保险 部 理财 管理部 经理 朱宇阳 身份证号 XXXXXXXX 上述 违规 问题 直接 责任人员 北京保监局 根据 中华人民共和国 保险法 一百七十 一条 决定 对张 松山 给予警告 并处 万元 罚款 行政处罚 对 程炳华 给予警告 并处 万元 罚款 行政处罚 对 朱宇阳 给予警告 并处 万元 罚款 行政处罚   图片   编辑 许楠楠   关键字   投保人   北京   人寿   中国   违法  ']\n"
     ]
    }
   ],
   "source": [
    "# contents = pre_cor_1.handle_contents(cir_data_raw['content'].tolist())\n",
    "contents = pre_cor.handle_contents(cir_data_raw['content'].tolist())\n",
    "print(len(contents))\n",
    "print(contents[:2])\n",
    "contents = [re.sub(r'[a-z]*', '', x) for x in contents]\n",
    "print(len(contents))\n",
    "print(contents[:2])\n",
    "\n",
    "coprus_save_filename = 'data/contents0.txt'\n",
    "f = open(coprus_save_filename, \"w+\", encoding='UTF-8')\n",
    "for data in contents:\n",
    "    f.write(data + '\\n')\n",
    "f.close()"
   ]
  },
  {
   "cell_type": "code",
   "execution_count": 66,
   "metadata": {
    "ExecuteTime": {
     "end_time": "2018-08-10T08:55:15.480340Z",
     "start_time": "2018-08-10T08:55:15.462459Z"
    }
   },
   "outputs": [
    {
     "name": "stdout",
     "output_type": "stream",
     "text": [
      "11979\n"
     ]
    }
   ],
   "source": [
    "label = cir_data_raw['label'].tolist()\n",
    "print(len(label))\n",
    "\n",
    "coprus_save_filename = 'data/labels.txt'\n",
    "f = open(coprus_save_filename, \"w+\", encoding='UTF-8')\n",
    "for data in label:\n",
    "    f.write(data + '\\n')\n",
    "f.close()"
   ]
  },
  {
   "cell_type": "code",
   "execution_count": 67,
   "metadata": {
    "ExecuteTime": {
     "end_time": "2018-08-10T08:55:26.796971Z",
     "start_time": "2018-08-10T08:55:15.482913Z"
    }
   },
   "outputs": [
    {
     "data": {
      "text/plain": [
       "(11979, 5)"
      ]
     },
     "execution_count": 67,
     "metadata": {},
     "output_type": "execute_result"
    }
   ],
   "source": [
    "cir_data_raw.to_excel('data/result/title_content_label.xlsx', index = False)\n",
    "cir_data_raw.shape"
   ]
  },
  {
   "cell_type": "code",
   "execution_count": null,
   "metadata": {},
   "outputs": [],
   "source": []
  }
 ],
 "metadata": {
  "kernelspec": {
   "display_name": "Python 3",
   "language": "python",
   "name": "python3"
  },
  "language_info": {
   "codemirror_mode": {
    "name": "ipython",
    "version": 3
   },
   "file_extension": ".py",
   "mimetype": "text/x-python",
   "name": "python",
   "nbconvert_exporter": "python",
   "pygments_lexer": "ipython3",
   "version": "3.6.4"
  },
  "toc": {
   "base_numbering": 1,
   "nav_menu": {},
   "number_sections": true,
   "sideBar": true,
   "skip_h1_title": false,
   "title_cell": "Table of Contents",
   "title_sidebar": "Contents",
   "toc_cell": false,
   "toc_position": {
    "height": "calc(100% - 180px)",
    "left": "10px",
    "top": "150px",
    "width": "376px"
   },
   "toc_section_display": true,
   "toc_window_display": true
  }
 },
 "nbformat": 4,
 "nbformat_minor": 2
}
