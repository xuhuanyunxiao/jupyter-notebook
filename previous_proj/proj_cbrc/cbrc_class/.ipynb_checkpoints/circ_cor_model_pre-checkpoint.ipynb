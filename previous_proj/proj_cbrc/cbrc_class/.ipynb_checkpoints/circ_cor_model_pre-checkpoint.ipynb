{
 "cells": [
  {
   "cell_type": "code",
   "execution_count": 16,
   "metadata": {
    "ExecuteTime": {
     "end_time": "2018-07-30T07:22:00.247275Z",
     "start_time": "2018-07-30T07:22:00.238006Z"
    }
   },
   "outputs": [],
   "source": [
    "\n",
    "import sys\n",
    "import re\n",
    "import time\n",
    "import string\n",
    "\n",
    "%matplotlib inline\n",
    "import numpy as np\n",
    "import pandas as pd\n",
    "import pre_cor\n",
    "import os\n",
    "from sqlalchemy import create_engine\n",
    "from pandas.io import sql\n",
    "import re \n",
    "import warnings\n",
    "warnings.filterwarnings('ignore')"
   ]
  },
  {
   "cell_type": "markdown",
   "metadata": {},
   "source": [
    "# 读取文件"
   ]
  },
  {
   "cell_type": "code",
   "execution_count": 17,
   "metadata": {
    "ExecuteTime": {
     "end_time": "2018-07-30T07:22:03.587760Z",
     "start_time": "2018-07-30T07:22:03.576196Z"
    }
   },
   "outputs": [],
   "source": [
    "#这两个文件是自行爬取的正文\n",
    "file_list1 = ['20180723_revise_clearn.xlsx','20180725_clearn.xlsx']"
   ]
  },
  {
   "cell_type": "code",
   "execution_count": 19,
   "metadata": {
    "ExecuteTime": {
     "end_time": "2018-07-30T07:22:16.723466Z",
     "start_time": "2018-07-30T07:22:16.094197Z"
    },
    "scrolled": true
   },
   "outputs": [
    {
     "name": "stdout",
     "output_type": "stream",
     "text": [
      "(1413, 5) 20180723_revise_clearn.xlsx\n",
      "(1621, 5) 20180725_clearn.xlsx\n",
      "总数： (3034, 5)\n"
     ]
    },
    {
     "data": {
      "text/html": [
       "<div>\n",
       "<style scoped>\n",
       "    .dataframe tbody tr th:only-of-type {\n",
       "        vertical-align: middle;\n",
       "    }\n",
       "\n",
       "    .dataframe tbody tr th {\n",
       "        vertical-align: top;\n",
       "    }\n",
       "\n",
       "    .dataframe thead th {\n",
       "        text-align: right;\n",
       "    }\n",
       "</style>\n",
       "<table border=\"1\" class=\"dataframe\">\n",
       "  <thead>\n",
       "    <tr style=\"text-align: right;\">\n",
       "      <th></th>\n",
       "      <th>label</th>\n",
       "      <th>title</th>\n",
       "      <th>content</th>\n",
       "      <th>url</th>\n",
       "      <th>title_url</th>\n",
       "    </tr>\n",
       "  </thead>\n",
       "  <tbody>\n",
       "    <tr>\n",
       "      <th>0</th>\n",
       "      <td>噪音</td>\n",
       "      <td>做好规划不当月光族不做守财奴</td>\n",
       "      <td>一一妈妈说理财·出品\\n (图片)\\n\\r月光族困惑：···这个月才过半，各种经费不够啊！...</td>\n",
       "      <td>https://xueqiu.com/1983578372/98551727</td>\n",
       "      <td>妈妈说理财: 做好规划不当月光族不做守财奴 一一妈妈说理财·出品 月光族困惑：···这个月才...</td>\n",
       "    </tr>\n",
       "    <tr>\n",
       "      <th>1</th>\n",
       "      <td>噪音</td>\n",
       "      <td>做车险代理的前景如何 谊信合让你的财富事业迈上新高度</td>\n",
       "      <td>小本创业网\\n\\r»\\n\\r加盟项目资讯›\\n\\r»\\n\\r资讯中心\\n\\r»\\n\\r做车...</td>\n",
       "      <td>http://jxhb.91cy.cn/119134.shtml</td>\n",
       "      <td>做车险代理的前景如何 谊信合让你的财富事业迈上新高度</td>\n",
       "    </tr>\n",
       "    <tr>\n",
       "      <th>2</th>\n",
       "      <td>产品销售</td>\n",
       "      <td>坐飞机必须买保险？航意险适合哪些人？</td>\n",
       "      <td>坐飞机必须买保险？航意险适合哪些人？\\n\\r　　随着经济的发展，大家对生活品质的追求，越来...</td>\n",
       "      <td>http://www.dtnews.cn/2018/january/99502C93.html</td>\n",
       "      <td>坐飞机必须买保险？航意险适合哪些人？\\r\\n        - 大同新闻网</td>\n",
       "    </tr>\n",
       "    <tr>\n",
       "      <th>3</th>\n",
       "      <td>噪音</td>\n",
       "      <td>左权县人民政府金融工作办公室2017年统筹整合财政资金项目公示</td>\n",
       "      <td>\\n\\r为推进我县\\n“五位一体”扶贫小额信贷工作，各承贷银行对全县建档立卡贫困户累计备案...</td>\n",
       "      <td>http://www.zqxzf.com/newscont.asp?id=61811&amp;pid...</td>\n",
       "      <td>左权县人民政府金融工作办公室2017年统筹整合财政资金项目公示</td>\n",
       "    </tr>\n",
       "    <tr>\n",
       "      <th>4</th>\n",
       "      <td>消费服务</td>\n",
       "      <td>昨天车险报案比平常翻倍</td>\n",
       "      <td>(图片)\\n\\r雪中骑行滑倒 朱小军 摄\\n\\r　　一场暴雪让扬州各家保险公司忙翻了天，车...</td>\n",
       "      <td>http://3g.k.sohu.com/t/n253854349</td>\n",
       "      <td>昨天车险报案比平常翻倍</td>\n",
       "    </tr>\n",
       "  </tbody>\n",
       "</table>\n",
       "</div>"
      ],
      "text/plain": [
       "  label                            title  \\\n",
       "0    噪音                   做好规划不当月光族不做守财奴   \n",
       "1    噪音       做车险代理的前景如何 谊信合让你的财富事业迈上新高度   \n",
       "2  产品销售               坐飞机必须买保险？航意险适合哪些人？   \n",
       "3    噪音  左权县人民政府金融工作办公室2017年统筹整合财政资金项目公示   \n",
       "4  消费服务                      昨天车险报案比平常翻倍   \n",
       "\n",
       "                                             content  \\\n",
       "0   一一妈妈说理财·出品\\n (图片)\\n\\r月光族困惑：···这个月才过半，各种经费不够啊！...   \n",
       "1   小本创业网\\n\\r»\\n\\r加盟项目资讯›\\n\\r»\\n\\r资讯中心\\n\\r»\\n\\r做车...   \n",
       "2   坐飞机必须买保险？航意险适合哪些人？\\n\\r　　随着经济的发展，大家对生活品质的追求，越来...   \n",
       "3   \\n\\r为推进我县\\n“五位一体”扶贫小额信贷工作，各承贷银行对全县建档立卡贫困户累计备案...   \n",
       "4   (图片)\\n\\r雪中骑行滑倒 朱小军 摄\\n\\r　　一场暴雪让扬州各家保险公司忙翻了天，车...   \n",
       "\n",
       "                                                 url  \\\n",
       "0             https://xueqiu.com/1983578372/98551727   \n",
       "1                   http://jxhb.91cy.cn/119134.shtml   \n",
       "2    http://www.dtnews.cn/2018/january/99502C93.html   \n",
       "3  http://www.zqxzf.com/newscont.asp?id=61811&pid...   \n",
       "4                  http://3g.k.sohu.com/t/n253854349   \n",
       "\n",
       "                                           title_url  \n",
       "0  妈妈说理财: 做好规划不当月光族不做守财奴 一一妈妈说理财·出品 月光族困惑：···这个月才...  \n",
       "1                         做车险代理的前景如何 谊信合让你的财富事业迈上新高度  \n",
       "2              坐飞机必须买保险？航意险适合哪些人？\\r\\n        - 大同新闻网  \n",
       "3                    左权县人民政府金融工作办公室2017年统筹整合财政资金项目公示  \n",
       "4                                        昨天车险报案比平常翻倍  "
      ]
     },
     "execution_count": 19,
     "metadata": {},
     "output_type": "execute_result"
    }
   ],
   "source": [
    "cir_data_raw_1 = pd.DataFrame()\n",
    "for file_name in file_list1:\n",
    "    tmp_data = pd.read_excel('data/result/{0}'.format(file_name))\n",
    "    print(tmp_data.shape, file_name)\n",
    "    cir_data_raw_1 = pd.concat([cir_data_raw_1, tmp_data], axis = 0)\n",
    "\n",
    "# result.to_excel('data/result/class_data_raw_1.xlsx', index = False)\n",
    "print('总数：', cir_data_raw_1.shape)\n",
    "cir_data_raw_1.head()"
   ]
  },
  {
   "cell_type": "code",
   "execution_count": 20,
   "metadata": {
    "ExecuteTime": {
     "end_time": "2018-07-30T07:25:14.487586Z",
     "start_time": "2018-07-30T07:25:14.484106Z"
    }
   },
   "outputs": [],
   "source": [
    "#这些文件是自身带有正文的文件  20180727_circ_class_1.xls中合并了7.30号监管类补录数据\n",
    "file_list2 = ['20180727_circ_class_1.xlsx']"
   ]
  },
  {
   "cell_type": "code",
   "execution_count": 21,
   "metadata": {
    "ExecuteTime": {
     "end_time": "2018-07-30T07:25:17.389059Z",
     "start_time": "2018-07-30T07:25:16.678640Z"
    }
   },
   "outputs": [
    {
     "name": "stdout",
     "output_type": "stream",
     "text": [
      "(4478, 4) 20180727_circ_class_1.xlsx\n",
      "总数： (4478, 4)\n"
     ]
    },
    {
     "data": {
      "text/html": [
       "<div>\n",
       "<style scoped>\n",
       "    .dataframe tbody tr th:only-of-type {\n",
       "        vertical-align: middle;\n",
       "    }\n",
       "\n",
       "    .dataframe tbody tr th {\n",
       "        vertical-align: top;\n",
       "    }\n",
       "\n",
       "    .dataframe thead th {\n",
       "        text-align: right;\n",
       "    }\n",
       "</style>\n",
       "<table border=\"1\" class=\"dataframe\">\n",
       "  <thead>\n",
       "    <tr style=\"text-align: right;\">\n",
       "      <th></th>\n",
       "      <th>number</th>\n",
       "      <th>title</th>\n",
       "      <th>content</th>\n",
       "      <th>label</th>\n",
       "    </tr>\n",
       "  </thead>\n",
       "  <tbody>\n",
       "    <tr>\n",
       "      <th>0</th>\n",
       "      <td>1</td>\n",
       "      <td>做人干干净净，善良终有好报！</td>\n",
       "      <td>牵手国寿 中国人寿，一言九鼎；相知多年，值得托付！ 做人，就两个字：善良。 善良的人，永远都...</td>\n",
       "      <td>产品销售</td>\n",
       "    </tr>\n",
       "    <tr>\n",
       "      <th>1</th>\n",
       "      <td>2</td>\n",
       "      <td>做个好人心正身安魂梦稳 行些善事天知地鉴鬼神钦 以人为本 以天为则</td>\n",
       "      <td>完整财富=家庭 健康 教育 事业 服务 金钱 精神 传播聚财 守财 传财 散财 善财之道 家...</td>\n",
       "      <td>产品销售</td>\n",
       "    </tr>\n",
       "    <tr>\n",
       "      <th>2</th>\n",
       "      <td>3</td>\n",
       "      <td>昨天这对夫妻的聊天记录曝光了，网友们都炸了，女人，要不娘家有钱，要不自己有保险...</td>\n",
       "      <td>爱华云服务 让生活更美好，让华夏充满爱！ 关注 什么是女人的安全感？不是什么漂亮的...</td>\n",
       "      <td>产品销售</td>\n",
       "    </tr>\n",
       "    <tr>\n",
       "      <th>3</th>\n",
       "      <td>4</td>\n",
       "      <td>尊享代驾  安全快捷送您回家</td>\n",
       "      <td>为回馈广大客户，富德生命人寿第十二届客服节期间特意为客户提供了免费补发保单、尊享代驾等增值服...</td>\n",
       "      <td>消费服务</td>\n",
       "    </tr>\n",
       "    <tr>\n",
       "      <th>4</th>\n",
       "      <td>5</td>\n",
       "      <td>尊享e生旗舰版震撼升级！上海质子重离子医院治疗也可100%报销！！！</td>\n",
       "      <td>各位亲爱的会员，国民医保再次升级，现在购买尊享e生旗舰版，可自主增加质子重离子医院治...</td>\n",
       "      <td>产品销售</td>\n",
       "    </tr>\n",
       "  </tbody>\n",
       "</table>\n",
       "</div>"
      ],
      "text/plain": [
       "   number                                       title  \\\n",
       "0       1                              做人干干净净，善良终有好报！   \n",
       "1       2           做个好人心正身安魂梦稳 行些善事天知地鉴鬼神钦 以人为本 以天为则   \n",
       "2       3  昨天这对夫妻的聊天记录曝光了，网友们都炸了，女人，要不娘家有钱，要不自己有保险...   \n",
       "3       4                              尊享代驾  安全快捷送您回家   \n",
       "4       5          尊享e生旗舰版震撼升级！上海质子重离子医院治疗也可100%报销！！！   \n",
       "\n",
       "                                             content label  \n",
       "0  牵手国寿 中国人寿，一言九鼎；相知多年，值得托付！ 做人，就两个字：善良。 善良的人，永远都...  产品销售  \n",
       "1  完整财富=家庭 健康 教育 事业 服务 金钱 精神 传播聚财 守财 传财 散财 善财之道 家...  产品销售  \n",
       "2       爱华云服务 让生活更美好，让华夏充满爱！ 关注 什么是女人的安全感？不是什么漂亮的...  产品销售  \n",
       "3  为回馈广大客户，富德生命人寿第十二届客服节期间特意为客户提供了免费补发保单、尊享代驾等增值服...  消费服务  \n",
       "4      各位亲爱的会员，国民医保再次升级，现在购买尊享e生旗舰版，可自主增加质子重离子医院治...  产品销售  "
      ]
     },
     "execution_count": 21,
     "metadata": {},
     "output_type": "execute_result"
    }
   ],
   "source": [
    "cir_data_raw_2 = pd.DataFrame()\n",
    "for file_name in file_list2:\n",
    "    tmp_data = pd.read_excel('data/raw_data/{0}'.format(file_name))\n",
    "    print(tmp_data.shape, file_name)\n",
    "    cir_data_raw_2 = pd.concat([cir_data_raw_2, tmp_data], axis = 0)\n",
    "    \n",
    "print('总数：', cir_data_raw_2.shape)\n",
    "cir_data_raw_2.head()"
   ]
  },
  {
   "cell_type": "code",
   "execution_count": 22,
   "metadata": {
    "ExecuteTime": {
     "end_time": "2018-07-30T07:25:35.447817Z",
     "start_time": "2018-07-30T07:25:35.428345Z"
    }
   },
   "outputs": [
    {
     "name": "stdout",
     "output_type": "stream",
     "text": [
      "(7512, 3)\n"
     ]
    },
    {
     "data": {
      "text/html": [
       "<div>\n",
       "<style scoped>\n",
       "    .dataframe tbody tr th:only-of-type {\n",
       "        vertical-align: middle;\n",
       "    }\n",
       "\n",
       "    .dataframe tbody tr th {\n",
       "        vertical-align: top;\n",
       "    }\n",
       "\n",
       "    .dataframe thead th {\n",
       "        text-align: right;\n",
       "    }\n",
       "</style>\n",
       "<table border=\"1\" class=\"dataframe\">\n",
       "  <thead>\n",
       "    <tr style=\"text-align: right;\">\n",
       "      <th></th>\n",
       "      <th>title</th>\n",
       "      <th>content</th>\n",
       "      <th>label</th>\n",
       "    </tr>\n",
       "  </thead>\n",
       "  <tbody>\n",
       "    <tr>\n",
       "      <th>0</th>\n",
       "      <td>做好规划不当月光族不做守财奴</td>\n",
       "      <td>一一妈妈说理财·出品\\n (图片)\\n\\r月光族困惑：···这个月才过半，各种经费不够啊！...</td>\n",
       "      <td>噪音</td>\n",
       "    </tr>\n",
       "    <tr>\n",
       "      <th>1</th>\n",
       "      <td>做车险代理的前景如何 谊信合让你的财富事业迈上新高度</td>\n",
       "      <td>小本创业网\\n\\r»\\n\\r加盟项目资讯›\\n\\r»\\n\\r资讯中心\\n\\r»\\n\\r做车...</td>\n",
       "      <td>噪音</td>\n",
       "    </tr>\n",
       "    <tr>\n",
       "      <th>2</th>\n",
       "      <td>坐飞机必须买保险？航意险适合哪些人？</td>\n",
       "      <td>坐飞机必须买保险？航意险适合哪些人？\\n\\r　　随着经济的发展，大家对生活品质的追求，越来...</td>\n",
       "      <td>产品销售</td>\n",
       "    </tr>\n",
       "    <tr>\n",
       "      <th>3</th>\n",
       "      <td>左权县人民政府金融工作办公室2017年统筹整合财政资金项目公示</td>\n",
       "      <td>\\n\\r为推进我县\\n“五位一体”扶贫小额信贷工作，各承贷银行对全县建档立卡贫困户累计备案...</td>\n",
       "      <td>噪音</td>\n",
       "    </tr>\n",
       "    <tr>\n",
       "      <th>4</th>\n",
       "      <td>昨天车险报案比平常翻倍</td>\n",
       "      <td>(图片)\\n\\r雪中骑行滑倒 朱小军 摄\\n\\r　　一场暴雪让扬州各家保险公司忙翻了天，车...</td>\n",
       "      <td>消费服务</td>\n",
       "    </tr>\n",
       "  </tbody>\n",
       "</table>\n",
       "</div>"
      ],
      "text/plain": [
       "                             title  \\\n",
       "0                   做好规划不当月光族不做守财奴   \n",
       "1       做车险代理的前景如何 谊信合让你的财富事业迈上新高度   \n",
       "2               坐飞机必须买保险？航意险适合哪些人？   \n",
       "3  左权县人民政府金融工作办公室2017年统筹整合财政资金项目公示   \n",
       "4                      昨天车险报案比平常翻倍   \n",
       "\n",
       "                                             content label  \n",
       "0   一一妈妈说理财·出品\\n (图片)\\n\\r月光族困惑：···这个月才过半，各种经费不够啊！...    噪音  \n",
       "1   小本创业网\\n\\r»\\n\\r加盟项目资讯›\\n\\r»\\n\\r资讯中心\\n\\r»\\n\\r做车...    噪音  \n",
       "2   坐飞机必须买保险？航意险适合哪些人？\\n\\r　　随着经济的发展，大家对生活品质的追求，越来...  产品销售  \n",
       "3   \\n\\r为推进我县\\n“五位一体”扶贫小额信贷工作，各承贷银行对全县建档立卡贫困户累计备案...    噪音  \n",
       "4   (图片)\\n\\r雪中骑行滑倒 朱小军 摄\\n\\r　　一场暴雪让扬州各家保险公司忙翻了天，车...  消费服务  "
      ]
     },
     "execution_count": 22,
     "metadata": {},
     "output_type": "execute_result"
    }
   ],
   "source": [
    "cir_data_raw = pd.concat([cir_data_raw_1[['title', 'content', 'label']], \n",
    "                          cir_data_raw_2[['title', 'content', 'label']]], \n",
    "                         axis = 0)\n",
    "print(cir_data_raw.shape)\n",
    "cir_data_raw.head()"
   ]
  },
  {
   "cell_type": "code",
   "execution_count": 23,
   "metadata": {
    "ExecuteTime": {
     "end_time": "2018-07-30T07:29:08.223937Z",
     "start_time": "2018-07-30T07:29:08.213412Z"
    }
   },
   "outputs": [
    {
     "data": {
      "text/plain": [
       "label\n",
       "产品销售       322\n",
       "公司内部管理     580\n",
       "其他相关报道     679\n",
       "噪音        3375\n",
       "噪音           6\n",
       "消费服务       280\n",
       "监管        1490\n",
       "行业         318\n",
       "资本市场       461\n",
       "Name: title, dtype: int64"
      ]
     },
     "execution_count": 23,
     "metadata": {},
     "output_type": "execute_result"
    }
   ],
   "source": [
    "cir_data_raw.groupby('label')['title'].count()#‘噪音 ’ ‘噪音’会引起标签名不同  直接分组统计存在问题"
   ]
  },
  {
   "cell_type": "markdown",
   "metadata": {},
   "source": [
    "# 对标题 正文 和标签进行处理"
   ]
  },
  {
   "cell_type": "code",
   "execution_count": 25,
   "metadata": {
    "ExecuteTime": {
     "end_time": "2018-07-30T07:32:25.529187Z",
     "start_time": "2018-07-30T07:29:33.109422Z"
    }
   },
   "outputs": [
    {
     "name": "stdout",
     "output_type": "stream",
     "text": [
      "7512 7512 7512\n"
     ]
    }
   ],
   "source": [
    "contents=[re.sub(r'n+ r*', '', x) for x in pre_cor.handle_contents(cir_data_raw_1['content'].tolist())]+pre_cor.handle_contents(cir_data_raw_2['content'].tolist())#去除爬取的正文所包含\\n、\\r\n",
    "titles= pre_cor.handle_contents(cir_data_raw_1['title'].tolist()+cir_data_raw_2['title'].tolist())\n",
    "labels=cir_data_raw_1['label'].tolist()+cir_data_raw_2['label'].tolist()\n",
    "print(len(contents),len(titles),len(labels))"
   ]
  },
  {
   "cell_type": "code",
   "execution_count": 26,
   "metadata": {
    "ExecuteTime": {
     "end_time": "2018-07-30T07:33:34.493856Z",
     "start_time": "2018-07-30T07:33:34.440351Z"
    }
   },
   "outputs": [
    {
     "name": "stdout",
     "output_type": "stream",
     "text": [
      "7512\n"
     ]
    }
   ],
   "source": [
    "#合并标记与正文\n",
    "title_contents=[]\n",
    "for i in range(len(titles)):\n",
    "    title_contents.append(titles[i]+'title_contents '+contents[i])\n",
    "print(len(title_contents))"
   ]
  },
  {
   "cell_type": "markdown",
   "metadata": {},
   "source": [
    "# 分别保存正文、标题、标题+正文的分词结果 以及对应 标签"
   ]
  },
  {
   "cell_type": "code",
   "execution_count": 28,
   "metadata": {
    "ExecuteTime": {
     "end_time": "2018-07-30T07:37:15.671589Z",
     "start_time": "2018-07-30T07:37:15.663864Z"
    }
   },
   "outputs": [
    {
     "name": "stdout",
     "output_type": "stream",
     "text": [
      "监管:   0.1983493077742279\n",
      "行业:   0.04233226837060703\n",
      "产品销售:   0.04286474973375932\n",
      "资本市场:   0.061368477103301386\n",
      "公司内部管理:   0.077209797657082\n",
      "消费服务:   0.03727369542066028\n",
      "其他相关报道:   0.09038871139510117\n",
      "噪音:   0.4494142705005325\n"
     ]
    }
   ],
   "source": [
    "for i,name in enumerate([ '监管','行业','产品销售','资本市场','公司内部管理','消费服务','其他相关报道','噪音']):\n",
    "    print('{0}:   {1}'.format(name,labels.count(name)/len(labels)))"
   ]
  },
  {
   "cell_type": "code",
   "execution_count": 13,
   "metadata": {
    "ExecuteTime": {
     "end_time": "2018-07-30T02:21:16.463879Z",
     "start_time": "2018-07-30T02:21:16.284791Z"
    }
   },
   "outputs": [],
   "source": [
    "coprus_save_filename = 'data/result/all_contents_pre.txt'\n",
    "f = open(coprus_save_filename, \"w+\", encoding='UTF-8')\n",
    "for data in contents:\n",
    "    f.write(data + '\\n')\n",
    "f.close()"
   ]
  },
  {
   "cell_type": "code",
   "execution_count": 14,
   "metadata": {
    "ExecuteTime": {
     "end_time": "2018-07-30T02:21:19.410038Z",
     "start_time": "2018-07-30T02:21:19.389157Z"
    }
   },
   "outputs": [],
   "source": [
    "titles_save_filename= 'data/result/all_titles_pre.txt'\n",
    "ff = open(titles_save_filename, \"w+\", encoding='UTF-8')\n",
    "for data in titles:\n",
    "    ff.write(data + '\\n')\n",
    "ff.close()"
   ]
  },
  {
   "cell_type": "code",
   "execution_count": 17,
   "metadata": {
    "ExecuteTime": {
     "end_time": "2018-07-30T03:23:17.701545Z",
     "start_time": "2018-07-30T03:23:17.538652Z"
    }
   },
   "outputs": [],
   "source": [
    "title_contents_save_filename= 'data/result/all_titles+contents_pre.txt'\n",
    "ff = open(title_contents_save_filename, \"w+\", encoding='UTF-8')\n",
    "for data in title_contents:\n",
    "    ff.write(data + '\\n')\n",
    "ff.close()"
   ]
  },
  {
   "cell_type": "code",
   "execution_count": 16,
   "metadata": {
    "ExecuteTime": {
     "end_time": "2018-07-30T02:21:23.727609Z",
     "start_time": "2018-07-30T02:21:23.692742Z"
    }
   },
   "outputs": [],
   "source": [
    "labels_save_filename= 'data/result/all_labels_pre.txt'\n",
    "fff = open(labels_save_filename, \"w+\", encoding='UTF-8')\n",
    "for data in labels:\n",
    "    fff.write(data + '\\n')\n",
    "fff.close()"
   ]
  },
  {
   "cell_type": "markdown",
   "metadata": {},
   "source": [
    "# 导出模型分类错输的数据"
   ]
  },
  {
   "cell_type": "code",
   "execution_count": 23,
   "metadata": {
    "ExecuteTime": {
     "end_time": "2018-07-30T03:28:05.853269Z",
     "start_time": "2018-07-30T03:28:03.242344Z"
    }
   },
   "outputs": [],
   "source": [
    "import dict_dbutils\n",
    "from sklearn.base import BaseEstimator, TransformerMixin\n",
    "class StatsFeatures_cor(BaseEstimator, TransformerMixin):\n",
    "    \n",
    "    def __init__(self):\n",
    "        self.neg = set()\n",
    "        f = open(\"corpus/neg_words.txt\",\"r+\", encoding='UTF-8')\n",
    "        for content in f:\n",
    "            self.neg.add(content)\n",
    "        f.close()\n",
    "        dict_org=dict_dbutils.get_dicts()\n",
    "        self.org=set(dict_org.keys())\n",
    "        \n",
    "        \n",
    "\n",
    "    def fit(self, X, y=None):\n",
    "        return self\n",
    "\n",
    "    def getcnt(self,x):        \n",
    "        return len(list(set(x)))\n",
    "\n",
    "    def getnegcnt(self,x):\n",
    "        negcnt = 0\n",
    "        words = x.split()\n",
    "        for w in words:\n",
    "            if w in self.neg:\n",
    "                negcnt = negcnt+1\n",
    "        return negcnt\n",
    "    def getorgcnttf(self,x):\n",
    "        orgcnt=0\n",
    "        orgtf=0\n",
    "        words = x.split()\n",
    "        for w in words:\n",
    "            if w in self.org:\n",
    "                orgcnt = orgcnt+1\n",
    "                orgtf=orgtf+words.count(w)\n",
    "        if(orgcnt>0):\n",
    "            return orgcnt,orgtf\n",
    "        else:\n",
    "            return orgcnt,orgtf\n",
    "    \n",
    "    \n",
    "    def transform(self, X):\n",
    "        data = []\n",
    "        for x in X:\n",
    "            if len(x) == 0:\n",
    "                length  = 1\n",
    "            else :\n",
    "                length = len(x)\n",
    "            orgcnt,orgtf=self.getorgcnttf(x)\n",
    "            data.append([len(x),self.getcnt(x),self.getcnt(x)/length,\n",
    "                         self.getnegcnt(x),self.getnegcnt(x)/length,\n",
    "                         orgcnt,orgtf])            \n",
    "        return data\n",
    "from sklearn.externals import joblib\n",
    "pipeline=joblib.load(\"model/circ_8classifier_0730.pkl.z\")"
   ]
  },
  {
   "cell_type": "code",
   "execution_count": 45,
   "metadata": {
    "ExecuteTime": {
     "end_time": "2018-07-30T03:53:18.685642Z",
     "start_time": "2018-07-30T03:53:18.680700Z"
    }
   },
   "outputs": [],
   "source": [
    "label_dic={'监管':1,'行业':2,'产品销售':3,'资本市场':4,'公司内部管理':5,'消费服务':6,'其他相关报道':7,'噪音':8}\n",
    "label_dic_turn={1:'监管',2:'行业',3:'产品销售',4:'资本市场',5:'公司内部管理',6:'消费服务',7:'其他相关报道',8:'噪音'}"
   ]
  },
  {
   "cell_type": "code",
   "execution_count": 24,
   "metadata": {
    "ExecuteTime": {
     "end_time": "2018-07-30T03:28:09.698292Z",
     "start_time": "2018-07-30T03:28:09.689936Z"
    }
   },
   "outputs": [
    {
     "name": "stdout",
     "output_type": "stream",
     "text": [
      "7644 7644\n"
     ]
    }
   ],
   "source": [
    "label=[]\n",
    "label=[label_dic[x.strip()] for x in labels]\n",
    "print(len(title_contents),len(label))"
   ]
  },
  {
   "cell_type": "code",
   "execution_count": 26,
   "metadata": {
    "ExecuteTime": {
     "end_time": "2018-07-30T03:30:10.456359Z",
     "start_time": "2018-07-30T03:29:59.930235Z"
    }
   },
   "outputs": [
    {
     "name": "stdout",
     "output_type": "stream",
     "text": [
      "accuracy_score:  0.9767137624280482\n",
      "             precision    recall  f1-score   support\n",
      "\n",
      "          1       0.97      0.99      0.98      1510\n",
      "          2       0.97      0.92      0.95       327\n",
      "          3       0.98      0.92      0.95       339\n",
      "          4       0.98      0.97      0.97       472\n",
      "          5       0.98      0.95      0.96       594\n",
      "          6       0.98      0.94      0.96       285\n",
      "          7       0.98      0.97      0.98       690\n",
      "          8       0.98      0.99      0.98      3427\n",
      "\n",
      "avg / total       0.98      0.98      0.98      7644\n",
      "\n",
      "confusion_matrix: \n",
      "[[1488    3    1    2    2    0    1   13]\n",
      " [   6  302    1    0    2    1    2   13]\n",
      " [   1    3  312    0    2    0    4   17]\n",
      " [   3    0    0  456    2    0    0   11]\n",
      " [  14    1    2    0  566    2    2    7]\n",
      " [   1    0    0    0    0  267    4   13]\n",
      " [   3    0    3    0    4    2  671    7]\n",
      " [  12    2    0    7    2    0    0 3404]]\n"
     ]
    },
    {
     "name": "stderr",
     "output_type": "stream",
     "text": [
      "/data/anaconda/anaconda3/lib/python3.6/site-packages/sklearn/preprocessing/label.py:151: DeprecationWarning: The truth value of an empty array is ambiguous. Returning False, but in future this will result in an error. Use `array.size > 0` to check that an array is not empty.\n",
      "  if diff:\n"
     ]
    }
   ],
   "source": [
    "from sklearn import metrics\n",
    "y_pred_class = pipeline.predict(title_contents)\n",
    "print('accuracy_score: ', metrics.accuracy_score(label, y_pred_class)) # 指所有分类正确的百分比\n",
    "print(metrics.classification_report(label, y_pred_class))\n",
    "print('confusion_matrix: ')\n",
    "print( metrics.confusion_matrix(label, y_pred_class))"
   ]
  },
  {
   "cell_type": "code",
   "execution_count": 50,
   "metadata": {
    "ExecuteTime": {
     "end_time": "2018-07-30T03:56:02.192374Z",
     "start_time": "2018-07-30T03:56:02.168438Z"
    }
   },
   "outputs": [
    {
     "data": {
      "text/html": [
       "<div>\n",
       "<style scoped>\n",
       "    .dataframe tbody tr th:only-of-type {\n",
       "        vertical-align: middle;\n",
       "    }\n",
       "\n",
       "    .dataframe tbody tr th {\n",
       "        vertical-align: top;\n",
       "    }\n",
       "\n",
       "    .dataframe thead th {\n",
       "        text-align: right;\n",
       "    }\n",
       "</style>\n",
       "<table border=\"1\" class=\"dataframe\">\n",
       "  <thead>\n",
       "    <tr style=\"text-align: right;\">\n",
       "      <th></th>\n",
       "      <th>title</th>\n",
       "      <th>content</th>\n",
       "      <th>label</th>\n",
       "      <th>predict_labels</th>\n",
       "    </tr>\n",
       "  </thead>\n",
       "  <tbody>\n",
       "    <tr>\n",
       "      <th>0</th>\n",
       "      <td>做好规划不当月光族不做守财奴</td>\n",
       "      <td>一一妈妈说理财·出品\\n (图片)\\n\\r月光族困惑：···这个月才过半，各种经费不够啊！...</td>\n",
       "      <td>噪音</td>\n",
       "      <td>噪音</td>\n",
       "    </tr>\n",
       "    <tr>\n",
       "      <th>1</th>\n",
       "      <td>做车险代理的前景如何 谊信合让你的财富事业迈上新高度</td>\n",
       "      <td>小本创业网\\n\\r»\\n\\r加盟项目资讯›\\n\\r»\\n\\r资讯中心\\n\\r»\\n\\r做车...</td>\n",
       "      <td>噪音</td>\n",
       "      <td>噪音</td>\n",
       "    </tr>\n",
       "    <tr>\n",
       "      <th>2</th>\n",
       "      <td>坐顺风车出事了，车险理赔吗</td>\n",
       "      <td>相关文章\\n\"}}</td>\n",
       "      <td>噪音</td>\n",
       "      <td>噪音</td>\n",
       "    </tr>\n",
       "    <tr>\n",
       "      <th>3</th>\n",
       "      <td>坐飞机必须买保险？航意险适合哪些人？</td>\n",
       "      <td>坐飞机必须买保险？航意险适合哪些人？\\n\\r　　随着经济的发展，大家对生活品质的追求，越来...</td>\n",
       "      <td>产品销售</td>\n",
       "      <td>产品销售</td>\n",
       "    </tr>\n",
       "    <tr>\n",
       "      <th>4</th>\n",
       "      <td>左权县人民政府金融工作办公室2017年统筹整合财政资金项目公示</td>\n",
       "      <td>\\n\\r为推进我县\\n“五位一体”扶贫小额信贷工作，各承贷银行对全县建档立卡贫困户累计备案...</td>\n",
       "      <td>噪音</td>\n",
       "      <td>噪音</td>\n",
       "    </tr>\n",
       "  </tbody>\n",
       "</table>\n",
       "</div>"
      ],
      "text/plain": [
       "                             title  \\\n",
       "0                   做好规划不当月光族不做守财奴   \n",
       "1       做车险代理的前景如何 谊信合让你的财富事业迈上新高度   \n",
       "2                    坐顺风车出事了，车险理赔吗   \n",
       "3               坐飞机必须买保险？航意险适合哪些人？   \n",
       "4  左权县人民政府金融工作办公室2017年统筹整合财政资金项目公示   \n",
       "\n",
       "                                             content label predict_labels  \n",
       "0   一一妈妈说理财·出品\\n (图片)\\n\\r月光族困惑：···这个月才过半，各种经费不够啊！...    噪音             噪音  \n",
       "1   小本创业网\\n\\r»\\n\\r加盟项目资讯›\\n\\r»\\n\\r资讯中心\\n\\r»\\n\\r做车...    噪音             噪音  \n",
       "2                                          相关文章\\n\"}}    噪音             噪音  \n",
       "3   坐飞机必须买保险？航意险适合哪些人？\\n\\r　　随着经济的发展，大家对生活品质的追求，越来...  产品销售           产品销售  \n",
       "4   \\n\\r为推进我县\\n“五位一体”扶贫小额信贷工作，各承贷银行对全县建档立卡贫困户累计备案...    噪音             噪音  "
      ]
     },
     "execution_count": 50,
     "metadata": {},
     "output_type": "execute_result"
    }
   ],
   "source": [
    "df_empty = pd.DataFrame(columns=['title', 'content', 'label', 'predict_labels'])\n",
    "df_empty['title']=cir_data_raw_1['title'].tolist()+cir_data_raw_2['title'].tolist()\n",
    "df_empty['content']=cir_data_raw_1['content'].tolist()+cir_data_raw_2['content'].tolist()\n",
    "df_empty['label']=[x.strip() for x in labels]\n",
    "df_empty['predict_labels']=[label_dic_turn[x] for x in y_pred_class]\n",
    "df_empty.head()"
   ]
  },
  {
   "cell_type": "code",
   "execution_count": 54,
   "metadata": {
    "ExecuteTime": {
     "end_time": "2018-07-30T03:56:56.250265Z",
     "start_time": "2018-07-30T03:56:56.163310Z"
    }
   },
   "outputs": [
    {
     "data": {
      "text/html": [
       "<div>\n",
       "<style scoped>\n",
       "    .dataframe tbody tr th:only-of-type {\n",
       "        vertical-align: middle;\n",
       "    }\n",
       "\n",
       "    .dataframe tbody tr th {\n",
       "        vertical-align: top;\n",
       "    }\n",
       "\n",
       "    .dataframe thead th {\n",
       "        text-align: right;\n",
       "    }\n",
       "</style>\n",
       "<table border=\"1\" class=\"dataframe\">\n",
       "  <thead>\n",
       "    <tr style=\"text-align: right;\">\n",
       "      <th></th>\n",
       "      <th>title</th>\n",
       "      <th>content</th>\n",
       "      <th>label</th>\n",
       "      <th>predict_labels</th>\n",
       "    </tr>\n",
       "  </thead>\n",
       "  <tbody>\n",
       "    <tr>\n",
       "      <th>19</th>\n",
       "      <td>紫金一女子被恙虫咬伤住院 保险公司拒绝理赔</td>\n",
       "      <td>去年底，家住紫金县龙窝镇的邓女士因感染恙虫病住院治疗，康复出院后，邓女士便拿着医疗费用清单...</td>\n",
       "      <td>消费服务</td>\n",
       "      <td>噪音</td>\n",
       "    </tr>\n",
       "    <tr>\n",
       "      <th>56</th>\n",
       "      <td>重疾，意外在网上保险平台买保险公司的靠谱么</td>\n",
       "      <td>保险不管怎么说，是有保监会和法律保护的，是以白纸黑字做依据的。\\n\\r太离谱的，是不会出现...</td>\n",
       "      <td>噪音</td>\n",
       "      <td>监管</td>\n",
       "    </tr>\n",
       "    <tr>\n",
       "      <th>79</th>\n",
       "      <td>众安修订与平安车险共保比例保费五五分</td>\n",
       "      <td>众安修订与平安车险共保比例保费五五分\\n\\r2018/1/5 16:49:50\\n\\r作者...</td>\n",
       "      <td>公司内部管理</td>\n",
       "      <td>噪音</td>\n",
       "    </tr>\n",
       "    <tr>\n",
       "      <th>96</th>\n",
       "      <td>中新（重庆）战略性互联互通示范项目联合工作委员会高官会第二次会议在新举行</td>\n",
       "      <td>商务部网站版权与免责声明：\\n\\r1、凡本站及其子站注明“文章类型：原创”的所有作品，其版...</td>\n",
       "      <td>监管</td>\n",
       "      <td>噪音</td>\n",
       "    </tr>\n",
       "    <tr>\n",
       "      <th>106</th>\n",
       "      <td>中宏保险业务范围介绍</td>\n",
       "      <td>\\n【摘要】\\n\\r中宏人寿\\n保险有限公司是国内首家中外合资人寿保险公司，由加拿大宏...</td>\n",
       "      <td>公司内部管理</td>\n",
       "      <td>产品销售</td>\n",
       "    </tr>\n",
       "  </tbody>\n",
       "</table>\n",
       "</div>"
      ],
      "text/plain": [
       "                                    title  \\\n",
       "19                  紫金一女子被恙虫咬伤住院 保险公司拒绝理赔   \n",
       "56                  重疾，意外在网上保险平台买保险公司的靠谱么   \n",
       "79                     众安修订与平安车险共保比例保费五五分   \n",
       "96   中新（重庆）战略性互联互通示范项目联合工作委员会高官会第二次会议在新举行   \n",
       "106                            中宏保险业务范围介绍   \n",
       "\n",
       "                                               content   label predict_labels  \n",
       "19    去年底，家住紫金县龙窝镇的邓女士因感染恙虫病住院治疗，康复出院后，邓女士便拿着医疗费用清单...    消费服务             噪音  \n",
       "56    保险不管怎么说，是有保监会和法律保护的，是以白纸黑字做依据的。\\n\\r太离谱的，是不会出现...      噪音             监管  \n",
       "79    众安修订与平安车险共保比例保费五五分\\n\\r2018/1/5 16:49:50\\n\\r作者...  公司内部管理             噪音  \n",
       "96    商务部网站版权与免责声明：\\n\\r1、凡本站及其子站注明“文章类型：原创”的所有作品，其版...      监管             噪音  \n",
       "106   　　\\n【摘要】\\n\\r中宏人寿\\n保险有限公司是国内首家中外合资人寿保险公司，由加拿大宏...  公司内部管理           产品销售  "
      ]
     },
     "execution_count": 54,
     "metadata": {},
     "output_type": "execute_result"
    }
   ],
   "source": [
    "result=df_empty[df_empty['label']!=df_empty['predict_labels']]\n",
    "result.to_excel('data/result/predict_wrong.xlsx', index = False)\n",
    "result.head()"
   ]
  },
  {
   "cell_type": "code",
   "execution_count": 53,
   "metadata": {
    "ExecuteTime": {
     "end_time": "2018-07-30T03:56:48.429434Z",
     "start_time": "2018-07-30T03:56:48.414918Z"
    }
   },
   "outputs": [
    {
     "name": "stdout",
     "output_type": "stream",
     "text": [
      "(178, 4)\n"
     ]
    }
   ],
   "source": [
    "print(result.shape)"
   ]
  }
 ],
 "metadata": {
  "kernelspec": {
   "display_name": "Python 3",
   "language": "python",
   "name": "python3"
  },
  "language_info": {
   "codemirror_mode": {
    "name": "ipython",
    "version": 3
   },
   "file_extension": ".py",
   "mimetype": "text/x-python",
   "name": "python",
   "nbconvert_exporter": "python",
   "pygments_lexer": "ipython3",
   "version": "3.6.4"
  },
  "toc": {
   "base_numbering": 1,
   "nav_menu": {},
   "number_sections": true,
   "sideBar": true,
   "skip_h1_title": false,
   "title_cell": "Table of Contents",
   "title_sidebar": "Contents",
   "toc_cell": false,
   "toc_position": {},
   "toc_section_display": true,
   "toc_window_display": true
  }
 },
 "nbformat": 4,
 "nbformat_minor": 2
}
