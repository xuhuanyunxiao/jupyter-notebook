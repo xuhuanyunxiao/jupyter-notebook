{
 "cells": [
  {
   "cell_type": "markdown",
   "metadata": {},
   "source": [
    "- 保监会 相关性模型 1 预处理"
   ]
  },
  {
   "cell_type": "markdown",
   "metadata": {},
   "source": [
    "# 基本设置"
   ]
  },
  {
   "cell_type": "code",
   "execution_count": 4,
   "metadata": {
    "ExecuteTime": {
     "end_time": "2018-08-09T03:09:20.144666Z",
     "start_time": "2018-08-09T03:09:20.133665Z"
    },
    "collapsed": true
   },
   "outputs": [],
   "source": [
    "import jieba\n",
    "import sys\n",
    "import re\n",
    "import time\n",
    "import string\n",
    "\n",
    "%matplotlib inline\n",
    "import numpy as np\n",
    "import pandas as pd\n",
    "# import pre_cor\n",
    "import os\n",
    "\n",
    "import warnings\n",
    "warnings.filterwarnings('ignore')"
   ]
  },
  {
   "cell_type": "code",
   "execution_count": 5,
   "metadata": {
    "ExecuteTime": {
     "end_time": "2018-08-09T03:09:20.786703Z",
     "start_time": "2018-08-09T03:09:20.781703Z"
    },
    "collapsed": true
   },
   "outputs": [],
   "source": [
    "def set_ch():\n",
    "    '''\n",
    "    功能：设定绘图时显示中文\n",
    "    '''\t\n",
    "    from pylab import mpl\n",
    "    mpl.rcParams['font.sans-serif'] = ['FangSong'] # 指定默认字体\n",
    "    mpl.rcParams['axes.unicode_minus'] = False   # 解决保存图像是负号'-'显示为方块的问题\n",
    "set_ch()"
   ]
  },
  {
   "cell_type": "markdown",
   "metadata": {},
   "source": [
    "# 导入数据"
   ]
  },
  {
   "cell_type": "markdown",
   "metadata": {},
   "source": [
    "## train_set"
   ]
  },
  {
   "cell_type": "code",
   "execution_count": null,
   "metadata": {
    "ExecuteTime": {
     "start_time": "2018-08-09T03:09:32.802Z"
    }
   },
   "outputs": [],
   "source": [
    "train_set = pd.read_csv('data/train_set.csv')\n",
    "# cor_1.columns = ['title', 'sensitivity', 'content']\n",
    "print(train_set.shape)\n",
    "train_set.head()"
   ]
  },
  {
   "cell_type": "markdown",
   "metadata": {},
   "source": [
    "## 保监会不相关"
   ]
  },
  {
   "cell_type": "code",
   "execution_count": 9,
   "metadata": {
    "ExecuteTime": {
     "end_time": "2018-08-09T02:24:03.652292Z",
     "start_time": "2018-08-09T02:24:03.010255Z"
    }
   },
   "outputs": [
    {
     "name": "stdout",
     "output_type": "stream",
     "text": [
      "20180808/mfa_uncor_english_2.xlsx\n",
      "(5497, 2)\n"
     ]
    },
    {
     "data": {
      "text/html": [
       "<div>\n",
       "<style scoped>\n",
       "    .dataframe tbody tr th:only-of-type {\n",
       "        vertical-align: middle;\n",
       "    }\n",
       "\n",
       "    .dataframe tbody tr th {\n",
       "        vertical-align: top;\n",
       "    }\n",
       "\n",
       "    .dataframe thead th {\n",
       "        text-align: right;\n",
       "    }\n",
       "</style>\n",
       "<table border=\"1\" class=\"dataframe\">\n",
       "  <thead>\n",
       "    <tr style=\"text-align: right;\">\n",
       "      <th></th>\n",
       "      <th>title</th>\n",
       "      <th>content</th>\n",
       "    </tr>\n",
       "  </thead>\n",
       "  <tbody>\n",
       "    <tr>\n",
       "      <th>0</th>\n",
       "      <td>Thai vendors rubbish criticism of famous Mae K...</td>\n",
       "      <td></td>\n",
       "    </tr>\n",
       "    <tr>\n",
       "      <th>1</th>\n",
       "      <td>French Politician Arrested for Justifying Terr...</td>\n",
       "      <td>﻿        GOOGL 2.07%      The parent company o...</td>\n",
       "    </tr>\n",
       "    <tr>\n",
       "      <th>2</th>\n",
       "      <td>The classic explanation for the Black Death pl...</td>\n",
       "      <td>Bob Gamgort       has sold Americans Ko...</td>\n",
       "    </tr>\n",
       "    <tr>\n",
       "      <th>3</th>\n",
       "      <td>BRIEF-Sinopec Oilfield Service Gets Approval T...</td>\n",
       "      <td>* Bond yields drop as China dismisses repo...</td>\n",
       "    </tr>\n",
       "    <tr>\n",
       "      <th>4</th>\n",
       "      <td>BRIEF-Sinopec Oilfield Service Says Lock-Up Pe...</td>\n",
       "      <td>* Bonds give up ground as ECB minutes sugg...</td>\n",
       "    </tr>\n",
       "  </tbody>\n",
       "</table>\n",
       "</div>"
      ],
      "text/plain": [
       "                                               title  \\\n",
       "0  Thai vendors rubbish criticism of famous Mae K...   \n",
       "1  French Politician Arrested for Justifying Terr...   \n",
       "2  The classic explanation for the Black Death pl...   \n",
       "3  BRIEF-Sinopec Oilfield Service Gets Approval T...   \n",
       "4  BRIEF-Sinopec Oilfield Service Says Lock-Up Pe...   \n",
       "\n",
       "                                             content  \n",
       "0                                                     \n",
       "1  ﻿        GOOGL 2.07%      The parent company o...  \n",
       "2         Bob Gamgort       has sold Americans Ko...  \n",
       "3      * Bond yields drop as China dismisses repo...  \n",
       "4      * Bonds give up ground as ECB minutes sugg...  "
      ]
     },
     "execution_count": 9,
     "metadata": {},
     "output_type": "execute_result"
    }
   ],
   "source": [
    "uncor_data_raw = pd.DataFrame()\n",
    "\n",
    "file_name = '{0}/mfa_uncor_english_2.xlsx'.format(folder)\n",
    "print(file_name)\n",
    "uncor_1 = pd.read_excel('data/%s'%file_name)\n",
    "uncor_1.columns = ['title', 'content']\n",
    "print(uncor_1.shape)\n",
    "uncor_1.head()"
   ]
  },
  {
   "cell_type": "markdown",
   "metadata": {},
   "source": [
    "## 合并数据"
   ]
  },
  {
   "cell_type": "code",
   "execution_count": 13,
   "metadata": {
    "ExecuteTime": {
     "end_time": "2018-08-09T03:01:46.136698Z",
     "start_time": "2018-08-09T03:01:46.087696Z"
    }
   },
   "outputs": [
    {
     "name": "stdout",
     "output_type": "stream",
     "text": [
      "去重前： (6000, 3)\n",
      "去重后： (5807, 3)\n"
     ]
    },
    {
     "data": {
      "text/html": [
       "<div>\n",
       "<style scoped>\n",
       "    .dataframe tbody tr th:only-of-type {\n",
       "        vertical-align: middle;\n",
       "    }\n",
       "\n",
       "    .dataframe tbody tr th {\n",
       "        vertical-align: top;\n",
       "    }\n",
       "\n",
       "    .dataframe thead th {\n",
       "        text-align: right;\n",
       "    }\n",
       "</style>\n",
       "<table border=\"1\" class=\"dataframe\">\n",
       "  <thead>\n",
       "    <tr style=\"text-align: right;\">\n",
       "      <th></th>\n",
       "      <th>title</th>\n",
       "      <th>sensitivity</th>\n",
       "      <th>content</th>\n",
       "    </tr>\n",
       "  </thead>\n",
       "  <tbody>\n",
       "    <tr>\n",
       "      <th>0</th>\n",
       "      <td>Despite US Warning, Turkey Has No Plans to Aba...</td>\n",
       "      <td>NaN</td>\n",
       "      <td>Recai Berber, member of Turkish parliament fro...</td>\n",
       "    </tr>\n",
       "    <tr>\n",
       "      <th>1</th>\n",
       "      <td>Moscow denounces ’anti-Russian’ US nuclear policy</td>\n",
       "      <td>NaN</td>\n",
       "      <td>MOSCOW (AFP) - Moscow on Saturday (Feb 3) deno...</td>\n",
       "    </tr>\n",
       "    <tr>\n",
       "      <th>2</th>\n",
       "      <td>Iran’s Rouhani raps US nuclear expansion plan ...</td>\n",
       "      <td>NaN</td>\n",
       "      <td>Dubai: Iran accused the United States on Sunda...</td>\n",
       "    </tr>\n",
       "    <tr>\n",
       "      <th>3</th>\n",
       "      <td>Iranian President Hassan Rouhani raps new US n...</td>\n",
       "      <td>NaN</td>\n",
       "      <td>Iran accused the United States on Sunday of th...</td>\n",
       "    </tr>\n",
       "    <tr>\n",
       "      <th>4</th>\n",
       "      <td>Iran’s Rouhani raps new U.S. nuclear plan as t...</td>\n",
       "      <td>NaN</td>\n",
       "      <td>DUBAI (Reuters) - Iran accused the United Stat...</td>\n",
       "    </tr>\n",
       "  </tbody>\n",
       "</table>\n",
       "</div>"
      ],
      "text/plain": [
       "                                               title sensitivity  \\\n",
       "0  Despite US Warning, Turkey Has No Plans to Aba...         NaN   \n",
       "1  Moscow denounces ’anti-Russian’ US nuclear policy         NaN   \n",
       "2  Iran’s Rouhani raps US nuclear expansion plan ...         NaN   \n",
       "3  Iranian President Hassan Rouhani raps new US n...         NaN   \n",
       "4  Iran’s Rouhani raps new U.S. nuclear plan as t...         NaN   \n",
       "\n",
       "                                             content  \n",
       "0  Recai Berber, member of Turkish parliament fro...  \n",
       "1  MOSCOW (AFP) - Moscow on Saturday (Feb 3) deno...  \n",
       "2  Dubai: Iran accused the United States on Sunda...  \n",
       "3  Iran accused the United States on Sunday of th...  \n",
       "4  DUBAI (Reuters) - Iran accused the United Stat...  "
      ]
     },
     "execution_count": 13,
     "metadata": {},
     "output_type": "execute_result"
    }
   ],
   "source": [
    "# 相关\n",
    "cor_data_raw = cor_1\n",
    "print('去重前：', cor_data_raw.shape)\n",
    "cor_data_raw = cor_data_raw.drop_duplicates(subset = 'title')\n",
    "print('去重后：', cor_data_raw.shape)\n",
    "cor_data_raw.head()"
   ]
  },
  {
   "cell_type": "code",
   "execution_count": 14,
   "metadata": {
    "ExecuteTime": {
     "end_time": "2018-08-09T03:02:16.809453Z",
     "start_time": "2018-08-09T03:02:16.787451Z"
    }
   },
   "outputs": [
    {
     "name": "stdout",
     "output_type": "stream",
     "text": [
      "去重前： (5497, 2)\n",
      "去重后： (5492, 2)\n"
     ]
    },
    {
     "data": {
      "text/html": [
       "<div>\n",
       "<style scoped>\n",
       "    .dataframe tbody tr th:only-of-type {\n",
       "        vertical-align: middle;\n",
       "    }\n",
       "\n",
       "    .dataframe tbody tr th {\n",
       "        vertical-align: top;\n",
       "    }\n",
       "\n",
       "    .dataframe thead th {\n",
       "        text-align: right;\n",
       "    }\n",
       "</style>\n",
       "<table border=\"1\" class=\"dataframe\">\n",
       "  <thead>\n",
       "    <tr style=\"text-align: right;\">\n",
       "      <th></th>\n",
       "      <th>title</th>\n",
       "      <th>content</th>\n",
       "    </tr>\n",
       "  </thead>\n",
       "  <tbody>\n",
       "    <tr>\n",
       "      <th>0</th>\n",
       "      <td>Thai vendors rubbish criticism of famous Mae K...</td>\n",
       "      <td></td>\n",
       "    </tr>\n",
       "    <tr>\n",
       "      <th>1</th>\n",
       "      <td>French Politician Arrested for Justifying Terr...</td>\n",
       "      <td>﻿        GOOGL 2.07%      The parent company o...</td>\n",
       "    </tr>\n",
       "    <tr>\n",
       "      <th>2</th>\n",
       "      <td>The classic explanation for the Black Death pl...</td>\n",
       "      <td>Bob Gamgort       has sold Americans Ko...</td>\n",
       "    </tr>\n",
       "    <tr>\n",
       "      <th>3</th>\n",
       "      <td>BRIEF-Sinopec Oilfield Service Gets Approval T...</td>\n",
       "      <td>* Bond yields drop as China dismisses repo...</td>\n",
       "    </tr>\n",
       "    <tr>\n",
       "      <th>4</th>\n",
       "      <td>BRIEF-Sinopec Oilfield Service Says Lock-Up Pe...</td>\n",
       "      <td>* Bonds give up ground as ECB minutes sugg...</td>\n",
       "    </tr>\n",
       "  </tbody>\n",
       "</table>\n",
       "</div>"
      ],
      "text/plain": [
       "                                               title  \\\n",
       "0  Thai vendors rubbish criticism of famous Mae K...   \n",
       "1  French Politician Arrested for Justifying Terr...   \n",
       "2  The classic explanation for the Black Death pl...   \n",
       "3  BRIEF-Sinopec Oilfield Service Gets Approval T...   \n",
       "4  BRIEF-Sinopec Oilfield Service Says Lock-Up Pe...   \n",
       "\n",
       "                                             content  \n",
       "0                                                     \n",
       "1  ﻿        GOOGL 2.07%      The parent company o...  \n",
       "2         Bob Gamgort       has sold Americans Ko...  \n",
       "3      * Bond yields drop as China dismisses repo...  \n",
       "4      * Bonds give up ground as ECB minutes sugg...  "
      ]
     },
     "execution_count": 14,
     "metadata": {},
     "output_type": "execute_result"
    }
   ],
   "source": [
    "# 不相关\n",
    "uncor_data_raw = uncor_1\n",
    "print('去重前：', uncor_data_raw.shape)\n",
    "uncor_data_raw = uncor_data_raw.drop_duplicates( subset = 'title')\n",
    "print('去重后：', uncor_data_raw.shape)\n",
    "uncor_data_raw.head()"
   ]
  },
  {
   "cell_type": "code",
   "execution_count": 15,
   "metadata": {
    "ExecuteTime": {
     "end_time": "2018-08-09T03:02:20.745678Z",
     "start_time": "2018-08-09T03:02:20.594669Z"
    }
   },
   "outputs": [
    {
     "name": "stdout",
     "output_type": "stream",
     "text": [
      "去重前： (11299, 4)\n",
      "去重后： (11237, 4)\n",
      "cor_data_raw:  (5776, 2)\n",
      "uncor_data_raw:  (5461, 2)\n"
     ]
    }
   ],
   "source": [
    "# 相关与不相关\n",
    "cor_data_raw['label'] = 1\n",
    "uncor_data_raw['label'] = 0\n",
    "data_raw = pd.concat([cor_data_raw, uncor_data_raw])\n",
    "print('去重前：', data_raw.shape)\n",
    "data_raw = data_raw.drop_duplicates( subset = 'title', keep = False)\n",
    "print('去重后：', data_raw.shape)\n",
    "\n",
    "cor_data_raw = data_raw[data_raw['label'] == 1][['title', 'content']]\n",
    "uncor_data_raw = data_raw[data_raw['label'] == 0][['title', 'content']]\n",
    "print('cor_data_raw: ', cor_data_raw.shape)\n",
    "print('uncor_data_raw: ', uncor_data_raw.shape)"
   ]
  },
  {
   "cell_type": "code",
   "execution_count": null,
   "metadata": {
    "collapsed": true
   },
   "outputs": [],
   "source": []
  },
  {
   "cell_type": "markdown",
   "metadata": {},
   "source": [
    "# 预处理数据"
   ]
  },
  {
   "cell_type": "code",
   "execution_count": 73,
   "metadata": {
    "ExecuteTime": {
     "end_time": "2018-07-03T06:47:46.735784Z",
     "start_time": "2018-07-03T06:46:50.231626Z"
    }
   },
   "outputs": [
    {
     "name": "stdout",
     "output_type": "stream",
     "text": [
      "6111\n",
      "data/20180703/corpus_pre_cor_0703.txt\n"
     ]
    }
   ],
   "source": [
    "# 相关数据\n",
    "cor_data = cor_data_raw['content'].tolist()\n",
    "print(len(cor_data))\n",
    "corpus_cor = pre_cor.handle_contents(cor_data)\n",
    "\n",
    "save_filename = 'data/{0}/corpus_pre_cor_0703.txt'.format(folder)\n",
    "print(save_filename)\n",
    "fid = open(save_filename, \"w+\", encoding='UTF-8')\n",
    "for data in corpus_cor:\n",
    "    fid.write(data + '\\n')\n",
    "fid.close()"
   ]
  },
  {
   "cell_type": "code",
   "execution_count": 74,
   "metadata": {
    "ExecuteTime": {
     "end_time": "2018-07-03T06:49:18.621632Z",
     "start_time": "2018-07-03T06:47:52.405087Z"
    }
   },
   "outputs": [
    {
     "name": "stdout",
     "output_type": "stream",
     "text": [
      "8949\n",
      "data/20180703/corpus_pre_uncor_0703.txt\n"
     ]
    }
   ],
   "source": [
    "# 不相关数据\n",
    "uncor_data = uncor_data_raw['content'].tolist()\n",
    "print(len(uncor_data))\n",
    "corpus_uncor = pre_cor.handle_contents(uncor_data)\n",
    "\n",
    "save_filename = 'data/{0}/corpus_pre_uncor_0703.txt'.format(folder)\n",
    "print(save_filename)\n",
    "fid = open(save_filename, \"w+\", encoding='UTF-8')\n",
    "for data in corpus_uncor:\n",
    "    fid.write(data + '\\n')\n",
    "fid.close()"
   ]
  },
  {
   "cell_type": "markdown",
   "metadata": {
    "collapsed": true
   },
   "source": [
    "# 保存本文件"
   ]
  },
  {
   "cell_type": "code",
   "execution_count": 70,
   "metadata": {
    "ExecuteTime": {
     "end_time": "2018-06-27T08:59:12.287167Z",
     "start_time": "2018-06-27T08:59:12.234164Z"
    },
    "collapsed": true
   },
   "outputs": [],
   "source": [
    "if 0:\n",
    "    import datetime as dt\n",
    "    \n",
    "    def output_HTML(read_file, output_file):\n",
    "        from nbconvert import HTMLExporter\n",
    "        import codecs\n",
    "        import nbformat\n",
    "        exporter = HTMLExporter()\n",
    "        # read_file is '.ipynb', output_file is '.html'\n",
    "        output_notebook = nbformat.read(read_file, as_version=4)\n",
    "        output, resources = exporter.from_notebook_node(output_notebook)\n",
    "        codecs.open(output_file, 'w', encoding='utf-8').write(output)\n",
    "\n",
    "    html_file_folder = 'html_files'\n",
    "    if not os.path.exists(html_file_folder):\n",
    "        os.makedirs(html_file_folder)\n",
    "\n",
    "    today = dt.datetime.now().strftime('%Y%m%d')\n",
    "    current_file = 'circ_cor_model_1_pre.ipynb'\n",
    "    output_file = 'html_files\\%s_%s.html'%(os.path.splitext(current_file)[0], today)\n",
    "    output_HTML(current_file, output_file)"
   ]
  }
 ],
 "metadata": {
  "kernelspec": {
   "display_name": "Python 3",
   "language": "python",
   "name": "python3"
  },
  "language_info": {
   "codemirror_mode": {
    "name": "ipython",
    "version": 3
   },
   "file_extension": ".py",
   "mimetype": "text/x-python",
   "name": "python",
   "nbconvert_exporter": "python",
   "pygments_lexer": "ipython3",
   "version": "3.6.3"
  },
  "toc": {
   "nav_menu": {},
   "number_sections": true,
   "sideBar": true,
   "skip_h1_title": false,
   "title_cell": "Table of Contents",
   "title_sidebar": "Contents",
   "toc_cell": false,
   "toc_position": {
    "height": "calc(100% - 180px)",
    "left": "10px",
    "top": "150px",
    "width": "376px"
   },
   "toc_section_display": true,
   "toc_window_display": true
  },
  "varInspector": {
   "cols": {
    "lenName": 16,
    "lenType": 16,
    "lenVar": 40
   },
   "kernels_config": {
    "python": {
     "delete_cmd_postfix": "",
     "delete_cmd_prefix": "del ",
     "library": "var_list.py",
     "varRefreshCmd": "print(var_dic_list())"
    },
    "r": {
     "delete_cmd_postfix": ") ",
     "delete_cmd_prefix": "rm(",
     "library": "var_list.r",
     "varRefreshCmd": "cat(var_dic_list()) "
    }
   },
   "types_to_exclude": [
    "module",
    "function",
    "builtin_function_or_method",
    "instance",
    "_Feature"
   ],
   "window_display": false
  }
 },
 "nbformat": 4,
 "nbformat_minor": 2
}
