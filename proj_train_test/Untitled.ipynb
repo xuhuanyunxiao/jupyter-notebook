{
 "cells": [
  {
   "cell_type": "code",
   "execution_count": 18,
   "metadata": {
    "ExecuteTime": {
     "end_time": "2018-11-16T06:48:09.151403Z",
     "start_time": "2018-11-16T06:48:09.143402Z"
    }
   },
   "outputs": [],
   "source": [
    "import pandas as pd\n",
    "import requests,json\n",
    "from sklearn import metrics\n",
    "from toolkits.nlp import pre_cor_circ"
   ]
  },
  {
   "cell_type": "code",
   "execution_count": 19,
   "metadata": {
    "ExecuteTime": {
     "end_time": "2018-11-16T06:48:09.707435Z",
     "start_time": "2018-11-16T06:48:09.679433Z"
    },
    "collapsed": true
   },
   "outputs": [],
   "source": [
    "def get_server_res(data, url, col_name):\n",
    "    '''\n",
    "    服务器接口测试程序\n",
    "    传入 dict, 传出 DataFrame\n",
    "    '''\n",
    "    # data = {'record':[{'id':0,'title':'ss','content':'zzz'},]}\n",
    "    # data = {\"record\":marked_human_data.iloc[:5,:3].to_dict(orient = 'records')}\n",
    "    # url \"http://47.93.77.19:10000/correlation_negative\"\n",
    "    headers={'content-type':'application/json'}\n",
    "    result = requests.post(url,\n",
    "                      data = json.dumps(data),\n",
    "                      headers=headers, allow_redirects=True)\n",
    "    # print(result.text)\n",
    "    json_data = json.loads(result.text)\n",
    "    parse_data = []\n",
    "    elapsed_time = json_data['elapsed_time']\n",
    "    for i in range(len(json_data['docs'])):\n",
    "        parse_data.append([json_data['docs'][i]['id'],\n",
    "                          json_data['docs'][i][col_name]])\n",
    "    parse_data = pd.DataFrame(parse_data, columns = ['id', col_name])    \n",
    "    return parse_data, elapsed_time"
   ]
  },
  {
   "cell_type": "code",
   "execution_count": 24,
   "metadata": {
    "ExecuteTime": {
     "end_time": "2018-11-16T06:48:56.848131Z",
     "start_time": "2018-11-16T06:48:56.688122Z"
    }
   },
   "outputs": [],
   "source": [
    "fiel_path = r'circ_data_tendency\\20181112\\circ_tendency_feedback_20181116.xlsx'\n",
    "\n",
    "combined_data_1 = pd.read_excel(fiel_path, '0')\n",
    "combined_data_2 = pd.read_excel(fiel_path, '-1')\n",
    "combined_data = pd.concat([combined_data_1, combined_data_2])\n",
    "combined_data['title_content'] = combined_data['title']+'。'+combined_data['content']"
   ]
  },
  {
   "cell_type": "code",
   "execution_count": 25,
   "metadata": {
    "ExecuteTime": {
     "end_time": "2018-11-16T06:49:00.998368Z",
     "start_time": "2018-11-16T06:48:57.654177Z"
    }
   },
   "outputs": [
    {
     "name": "stdout",
     "output_type": "stream",
     "text": [
      "(400, 10)\n"
     ]
    },
    {
     "name": "stderr",
     "output_type": "stream",
     "text": [
      "D:\\software\\conda\\lib\\site-packages\\sklearn\\preprocessing\\label.py:151: DeprecationWarning: The truth value of an empty array is ambiguous. Returning False, but in future this will result in an error. Use `array.size > 0` to check that an array is not empty.\n",
      "  if diff:\n"
     ]
    },
    {
     "data": {
      "text/html": [
       "<div>\n",
       "<style scoped>\n",
       "    .dataframe tbody tr th:only-of-type {\n",
       "        vertical-align: middle;\n",
       "    }\n",
       "\n",
       "    .dataframe tbody tr th {\n",
       "        vertical-align: top;\n",
       "    }\n",
       "\n",
       "    .dataframe thead th {\n",
       "        text-align: right;\n",
       "    }\n",
       "</style>\n",
       "<table border=\"1\" class=\"dataframe\">\n",
       "  <thead>\n",
       "    <tr style=\"text-align: right;\">\n",
       "      <th></th>\n",
       "      <th>id</th>\n",
       "      <th>group_id</th>\n",
       "      <th>predict_label</th>\n",
       "      <th>tendency</th>\n",
       "      <th>label</th>\n",
       "      <th>title</th>\n",
       "      <th>content</th>\n",
       "      <th>publishtime</th>\n",
       "      <th>title_content</th>\n",
       "      <th>local_label</th>\n",
       "    </tr>\n",
       "  </thead>\n",
       "  <tbody>\n",
       "    <tr>\n",
       "      <th>0</th>\n",
       "      <td>11967202</td>\n",
       "      <td>微信</td>\n",
       "      <td>消费服务</td>\n",
       "      <td>0</td>\n",
       "      <td>0</td>\n",
       "      <td>车辆被撞对方耍赖怎么办？看这里彻底帮你搞定！| 保险与你</td>\n",
       "      <td>来源：财险互动 如果开车正常行驶被别人撞了，对方全责，找对方赔偿就好。 可事情并不总是那么简...</td>\n",
       "      <td>2018-11-08 23:55:00</td>\n",
       "      <td>车辆被撞对方耍赖怎么办？看这里彻底帮你搞定！| 保险与你。来源：财险互动 如果开车正常行驶被...</td>\n",
       "      <td>-1</td>\n",
       "    </tr>\n",
       "    <tr>\n",
       "      <th>1</th>\n",
       "      <td>11915584</td>\n",
       "      <td>微博</td>\n",
       "      <td>资本市场</td>\n",
       "      <td>0</td>\n",
       "      <td>0</td>\n",
       "      <td>【板王快讯：中国平安取代贝莱德 成汇丰控股第一大股东】在最近一次增持后，中国平安已取代贝莱德...</td>\n",
       "      <td>【板王快讯：中国平安取代贝莱德 成汇丰控股第一大股东】在最近一次增持后，中国平安已取代贝莱德...</td>\n",
       "      <td>2018-11-06 18:41:26</td>\n",
       "      <td>【板王快讯：中国平安取代贝莱德 成汇丰控股第一大股东】在最近一次增持后，中国平安已取代贝莱德...</td>\n",
       "      <td>-1</td>\n",
       "    </tr>\n",
       "    <tr>\n",
       "      <th>2</th>\n",
       "      <td>11936030</td>\n",
       "      <td>新闻</td>\n",
       "      <td>消费服务</td>\n",
       "      <td>0</td>\n",
       "      <td>0</td>\n",
       "      <td>旅责险统保示范项目显成效</td>\n",
       "      <td>阳光产险30万元的旅游意外保险赔偿金于近日送达山东邹平孙某某的遗属。旅行社责任保险统保示...</td>\n",
       "      <td>2018-11-07 16:46:41</td>\n",
       "      <td>旅责险统保示范项目显成效。　　阳光产险30万元的旅游意外保险赔偿金于近日送达山东邹平孙某某的...</td>\n",
       "      <td>-1</td>\n",
       "    </tr>\n",
       "    <tr>\n",
       "      <th>3</th>\n",
       "      <td>11902803</td>\n",
       "      <td>新闻</td>\n",
       "      <td>公司内部管理</td>\n",
       "      <td>0</td>\n",
       "      <td>0</td>\n",
       "      <td>香港金融科技潮起 累计募资达9.4亿美元</td>\n",
       "      <td>（原标题：香港金融科技潮起）香港金融局在金融科技周上宣布，新推出的贸易融资数码化平台——“贸...</td>\n",
       "      <td>2018-11-06 07:21:27</td>\n",
       "      <td>香港金融科技潮起 累计募资达9.4亿美元。（原标题：香港金融科技潮起）香港金融局在金融科技周...</td>\n",
       "      <td>0</td>\n",
       "    </tr>\n",
       "    <tr>\n",
       "      <th>4</th>\n",
       "      <td>11959788</td>\n",
       "      <td>微信</td>\n",
       "      <td>产品销售</td>\n",
       "      <td>0</td>\n",
       "      <td>0</td>\n",
       "      <td>如何像挑选口红一样为自己配置保险</td>\n",
       "      <td>今天转载一篇同事Margaret的原创文章， 日常使用的口红，是要经过挑选才能在成百上千的试...</td>\n",
       "      <td>2018-11-08 17:25:58</td>\n",
       "      <td>如何像挑选口红一样为自己配置保险。今天转载一篇同事Margaret的原创文章， 日常使用的口...</td>\n",
       "      <td>0</td>\n",
       "    </tr>\n",
       "  </tbody>\n",
       "</table>\n",
       "</div>"
      ],
      "text/plain": [
       "         id group_id predict_label  tendency  label  \\\n",
       "0  11967202       微信          消费服务         0      0   \n",
       "1  11915584       微博          资本市场         0      0   \n",
       "2  11936030       新闻          消费服务         0      0   \n",
       "3  11902803       新闻        公司内部管理         0      0   \n",
       "4  11959788       微信          产品销售         0      0   \n",
       "\n",
       "                                               title  \\\n",
       "0                       车辆被撞对方耍赖怎么办？看这里彻底帮你搞定！| 保险与你   \n",
       "1  【板王快讯：中国平安取代贝莱德 成汇丰控股第一大股东】在最近一次增持后，中国平安已取代贝莱德...   \n",
       "2                                       旅责险统保示范项目显成效   \n",
       "3                               香港金融科技潮起 累计募资达9.4亿美元   \n",
       "4                                   如何像挑选口红一样为自己配置保险   \n",
       "\n",
       "                                             content         publishtime  \\\n",
       "0  来源：财险互动 如果开车正常行驶被别人撞了，对方全责，找对方赔偿就好。 可事情并不总是那么简... 2018-11-08 23:55:00   \n",
       "1  【板王快讯：中国平安取代贝莱德 成汇丰控股第一大股东】在最近一次增持后，中国平安已取代贝莱德... 2018-11-06 18:41:26   \n",
       "2  　　阳光产险30万元的旅游意外保险赔偿金于近日送达山东邹平孙某某的遗属。旅行社责任保险统保示... 2018-11-07 16:46:41   \n",
       "3  （原标题：香港金融科技潮起）香港金融局在金融科技周上宣布，新推出的贸易融资数码化平台——“贸... 2018-11-06 07:21:27   \n",
       "4  今天转载一篇同事Margaret的原创文章， 日常使用的口红，是要经过挑选才能在成百上千的试... 2018-11-08 17:25:58   \n",
       "\n",
       "                                       title_content  local_label  \n",
       "0  车辆被撞对方耍赖怎么办？看这里彻底帮你搞定！| 保险与你。来源：财险互动 如果开车正常行驶被...           -1  \n",
       "1  【板王快讯：中国平安取代贝莱德 成汇丰控股第一大股东】在最近一次增持后，中国平安已取代贝莱德...           -1  \n",
       "2  旅责险统保示范项目显成效。　　阳光产险30万元的旅游意外保险赔偿金于近日送达山东邹平孙某某的...           -1  \n",
       "3  香港金融科技潮起 累计募资达9.4亿美元。（原标题：香港金融科技潮起）香港金融局在金融科技周...            0  \n",
       "4  如何像挑选口红一样为自己配置保险。今天转载一篇同事Margaret的原创文章， 日常使用的口...            0  "
      ]
     },
     "execution_count": 25,
     "metadata": {},
     "output_type": "execute_result"
    }
   ],
   "source": [
    "from sklearn.externals import joblib\n",
    "pipeline = joblib.load(\"model/cbrc_chapter_tendency_1114.pkl.z\")\n",
    "\n",
    "title_content = pre_cor_circ.handle_contents(combined_data['title_content'].tolist())\n",
    "local_label = pipeline.predict(title_content)\n",
    "combined_data['local_label'] = local_label\n",
    "\n",
    "print(combined_data.shape)\n",
    "combined_data.head()"
   ]
  },
  {
   "cell_type": "code",
   "execution_count": 28,
   "metadata": {
    "ExecuteTime": {
     "end_time": "2018-11-16T06:49:48.104063Z",
     "start_time": "2018-11-16T06:49:48.089062Z"
    }
   },
   "outputs": [
    {
     "name": "stdout",
     "output_type": "stream",
     "text": [
      "accuracy_score:  0.4175\n",
      "             precision    recall  f1-score   support\n",
      "\n",
      "         -1       0.17      0.69      0.27        64\n",
      "          0       0.86      0.37      0.51       336\n",
      "\n",
      "avg / total       0.75      0.42      0.48       400\n",
      "\n",
      "confusion_matrix: \n",
      "[[ 44  20]\n",
      " [213 123]]\n"
     ]
    }
   ],
   "source": [
    "# y_pred_class = pipeline.predict(X_test)\n",
    "y_pred_class = tend_data['local_label'].tolist()\n",
    "y_test = tend_data['label'].tolist()\n",
    "print('accuracy_score: ', metrics.accuracy_score(y_test, y_pred_class)) # 指所有分类正确的百分比\n",
    "print(metrics.classification_report(y_test, y_pred_class))\n",
    "print('confusion_matrix: ')\n",
    "print( metrics.confusion_matrix(y_test, y_pred_class))"
   ]
  },
  {
   "cell_type": "code",
   "execution_count": 26,
   "metadata": {
    "ExecuteTime": {
     "end_time": "2018-11-16T06:49:35.191324Z",
     "start_time": "2018-11-16T06:49:10.767927Z"
    }
   },
   "outputs": [
    {
     "name": "stdout",
     "output_type": "stream",
     "text": [
      "(400, 2)\n"
     ]
    },
    {
     "data": {
      "text/html": [
       "<div>\n",
       "<style scoped>\n",
       "    .dataframe tbody tr th:only-of-type {\n",
       "        vertical-align: middle;\n",
       "    }\n",
       "\n",
       "    .dataframe tbody tr th {\n",
       "        vertical-align: top;\n",
       "    }\n",
       "\n",
       "    .dataframe thead th {\n",
       "        text-align: right;\n",
       "    }\n",
       "</style>\n",
       "<table border=\"1\" class=\"dataframe\">\n",
       "  <thead>\n",
       "    <tr style=\"text-align: right;\">\n",
       "      <th></th>\n",
       "      <th>id</th>\n",
       "      <th>online_label</th>\n",
       "    </tr>\n",
       "  </thead>\n",
       "  <tbody>\n",
       "    <tr>\n",
       "      <th>0</th>\n",
       "      <td>11967202</td>\n",
       "      <td>-1</td>\n",
       "    </tr>\n",
       "    <tr>\n",
       "      <th>1</th>\n",
       "      <td>11915584</td>\n",
       "      <td>0</td>\n",
       "    </tr>\n",
       "    <tr>\n",
       "      <th>2</th>\n",
       "      <td>11936030</td>\n",
       "      <td>0</td>\n",
       "    </tr>\n",
       "    <tr>\n",
       "      <th>3</th>\n",
       "      <td>11902803</td>\n",
       "      <td>0</td>\n",
       "    </tr>\n",
       "    <tr>\n",
       "      <th>4</th>\n",
       "      <td>11959788</td>\n",
       "      <td>0</td>\n",
       "    </tr>\n",
       "  </tbody>\n",
       "</table>\n",
       "</div>"
      ],
      "text/plain": [
       "         id  online_label\n",
       "0  11967202            -1\n",
       "1  11915584             0\n",
       "2  11936030             0\n",
       "3  11902803             0\n",
       "4  11959788             0"
      ]
     },
     "execution_count": 26,
     "metadata": {},
     "output_type": "execute_result"
    }
   ],
   "source": [
    "# combined_data['id'] = range(combined_data.shape[0])\n",
    "combined_data['title'] = combined_data['title'].astype(str) \n",
    "combined_data['content'] = combined_data['content'].astype(str)\n",
    "data = {\"record\":combined_data.loc[:,['id', 'title' ,'content']].to_dict(orient = 'records')}\n",
    "url = \"http://47.93.77.19:10000/tendency_analysis_i\"\n",
    "col_name = 'tendency'\n",
    "parse_data, elapsed_time = get_server_res(data, url, col_name)\n",
    "parse_data.columns = ['id', 'online_label']\n",
    "print(parse_data.shape)\n",
    "parse_data.head()"
   ]
  },
  {
   "cell_type": "code",
   "execution_count": 27,
   "metadata": {
    "ExecuteTime": {
     "end_time": "2018-11-16T06:49:35.499342Z",
     "start_time": "2018-11-16T06:49:35.456339Z"
    }
   },
   "outputs": [
    {
     "name": "stdout",
     "output_type": "stream",
     "text": [
      "(400, 11)\n"
     ]
    },
    {
     "data": {
      "text/html": [
       "<div>\n",
       "<style scoped>\n",
       "    .dataframe tbody tr th:only-of-type {\n",
       "        vertical-align: middle;\n",
       "    }\n",
       "\n",
       "    .dataframe tbody tr th {\n",
       "        vertical-align: top;\n",
       "    }\n",
       "\n",
       "    .dataframe thead th {\n",
       "        text-align: right;\n",
       "    }\n",
       "</style>\n",
       "<table border=\"1\" class=\"dataframe\">\n",
       "  <thead>\n",
       "    <tr style=\"text-align: right;\">\n",
       "      <th></th>\n",
       "      <th>id</th>\n",
       "      <th>online_label</th>\n",
       "      <th>group_id</th>\n",
       "      <th>predict_label</th>\n",
       "      <th>tendency</th>\n",
       "      <th>label</th>\n",
       "      <th>title</th>\n",
       "      <th>content</th>\n",
       "      <th>publishtime</th>\n",
       "      <th>title_content</th>\n",
       "      <th>local_label</th>\n",
       "    </tr>\n",
       "  </thead>\n",
       "  <tbody>\n",
       "    <tr>\n",
       "      <th>0</th>\n",
       "      <td>11967202</td>\n",
       "      <td>-1</td>\n",
       "      <td>微信</td>\n",
       "      <td>消费服务</td>\n",
       "      <td>0</td>\n",
       "      <td>0</td>\n",
       "      <td>车辆被撞对方耍赖怎么办？看这里彻底帮你搞定！| 保险与你</td>\n",
       "      <td>来源：财险互动 如果开车正常行驶被别人撞了，对方全责，找对方赔偿就好。 可事情并不总是那么简...</td>\n",
       "      <td>2018-11-08 23:55:00</td>\n",
       "      <td>车辆被撞对方耍赖怎么办？看这里彻底帮你搞定！| 保险与你。来源：财险互动 如果开车正常行驶被...</td>\n",
       "      <td>-1</td>\n",
       "    </tr>\n",
       "    <tr>\n",
       "      <th>1</th>\n",
       "      <td>11915584</td>\n",
       "      <td>0</td>\n",
       "      <td>微博</td>\n",
       "      <td>资本市场</td>\n",
       "      <td>0</td>\n",
       "      <td>0</td>\n",
       "      <td>【板王快讯：中国平安取代贝莱德 成汇丰控股第一大股东】在最近一次增持后，中国平安已取代贝莱德...</td>\n",
       "      <td>【板王快讯：中国平安取代贝莱德 成汇丰控股第一大股东】在最近一次增持后，中国平安已取代贝莱德...</td>\n",
       "      <td>2018-11-06 18:41:26</td>\n",
       "      <td>【板王快讯：中国平安取代贝莱德 成汇丰控股第一大股东】在最近一次增持后，中国平安已取代贝莱德...</td>\n",
       "      <td>-1</td>\n",
       "    </tr>\n",
       "    <tr>\n",
       "      <th>2</th>\n",
       "      <td>11936030</td>\n",
       "      <td>0</td>\n",
       "      <td>新闻</td>\n",
       "      <td>消费服务</td>\n",
       "      <td>0</td>\n",
       "      <td>0</td>\n",
       "      <td>旅责险统保示范项目显成效</td>\n",
       "      <td>阳光产险30万元的旅游意外保险赔偿金于近日送达山东邹平孙某某的遗属。旅行社责任保险统保示...</td>\n",
       "      <td>2018-11-07 16:46:41</td>\n",
       "      <td>旅责险统保示范项目显成效。　　阳光产险30万元的旅游意外保险赔偿金于近日送达山东邹平孙某某的...</td>\n",
       "      <td>-1</td>\n",
       "    </tr>\n",
       "    <tr>\n",
       "      <th>3</th>\n",
       "      <td>11902803</td>\n",
       "      <td>0</td>\n",
       "      <td>新闻</td>\n",
       "      <td>公司内部管理</td>\n",
       "      <td>0</td>\n",
       "      <td>0</td>\n",
       "      <td>香港金融科技潮起 累计募资达9.4亿美元</td>\n",
       "      <td>（原标题：香港金融科技潮起）香港金融局在金融科技周上宣布，新推出的贸易融资数码化平台——“贸...</td>\n",
       "      <td>2018-11-06 07:21:27</td>\n",
       "      <td>香港金融科技潮起 累计募资达9.4亿美元。（原标题：香港金融科技潮起）香港金融局在金融科技周...</td>\n",
       "      <td>0</td>\n",
       "    </tr>\n",
       "    <tr>\n",
       "      <th>4</th>\n",
       "      <td>11959788</td>\n",
       "      <td>0</td>\n",
       "      <td>微信</td>\n",
       "      <td>产品销售</td>\n",
       "      <td>0</td>\n",
       "      <td>0</td>\n",
       "      <td>如何像挑选口红一样为自己配置保险</td>\n",
       "      <td>今天转载一篇同事Margaret的原创文章， 日常使用的口红，是要经过挑选才能在成百上千的试...</td>\n",
       "      <td>2018-11-08 17:25:58</td>\n",
       "      <td>如何像挑选口红一样为自己配置保险。今天转载一篇同事Margaret的原创文章， 日常使用的口...</td>\n",
       "      <td>0</td>\n",
       "    </tr>\n",
       "  </tbody>\n",
       "</table>\n",
       "</div>"
      ],
      "text/plain": [
       "         id  online_label group_id predict_label  tendency  label  \\\n",
       "0  11967202            -1       微信          消费服务         0      0   \n",
       "1  11915584             0       微博          资本市场         0      0   \n",
       "2  11936030             0       新闻          消费服务         0      0   \n",
       "3  11902803             0       新闻        公司内部管理         0      0   \n",
       "4  11959788             0       微信          产品销售         0      0   \n",
       "\n",
       "                                               title  \\\n",
       "0                       车辆被撞对方耍赖怎么办？看这里彻底帮你搞定！| 保险与你   \n",
       "1  【板王快讯：中国平安取代贝莱德 成汇丰控股第一大股东】在最近一次增持后，中国平安已取代贝莱德...   \n",
       "2                                       旅责险统保示范项目显成效   \n",
       "3                               香港金融科技潮起 累计募资达9.4亿美元   \n",
       "4                                   如何像挑选口红一样为自己配置保险   \n",
       "\n",
       "                                             content         publishtime  \\\n",
       "0  来源：财险互动 如果开车正常行驶被别人撞了，对方全责，找对方赔偿就好。 可事情并不总是那么简... 2018-11-08 23:55:00   \n",
       "1  【板王快讯：中国平安取代贝莱德 成汇丰控股第一大股东】在最近一次增持后，中国平安已取代贝莱德... 2018-11-06 18:41:26   \n",
       "2  　　阳光产险30万元的旅游意外保险赔偿金于近日送达山东邹平孙某某的遗属。旅行社责任保险统保示... 2018-11-07 16:46:41   \n",
       "3  （原标题：香港金融科技潮起）香港金融局在金融科技周上宣布，新推出的贸易融资数码化平台——“贸... 2018-11-06 07:21:27   \n",
       "4  今天转载一篇同事Margaret的原创文章， 日常使用的口红，是要经过挑选才能在成百上千的试... 2018-11-08 17:25:58   \n",
       "\n",
       "                                       title_content  local_label  \n",
       "0  车辆被撞对方耍赖怎么办？看这里彻底帮你搞定！| 保险与你。来源：财险互动 如果开车正常行驶被...           -1  \n",
       "1  【板王快讯：中国平安取代贝莱德 成汇丰控股第一大股东】在最近一次增持后，中国平安已取代贝莱德...           -1  \n",
       "2  旅责险统保示范项目显成效。　　阳光产险30万元的旅游意外保险赔偿金于近日送达山东邹平孙某某的...           -1  \n",
       "3  香港金融科技潮起 累计募资达9.4亿美元。（原标题：香港金融科技潮起）香港金融局在金融科技周...            0  \n",
       "4  如何像挑选口红一样为自己配置保险。今天转载一篇同事Margaret的原创文章， 日常使用的口...            0  "
      ]
     },
     "execution_count": 27,
     "metadata": {},
     "output_type": "execute_result"
    }
   ],
   "source": [
    "tend_data = pd.merge(parse_data, combined_data, on = 'id', how = 'inner')\n",
    "print(tend_data.shape)\n",
    "tend_data.head()"
   ]
  },
  {
   "cell_type": "code",
   "execution_count": null,
   "metadata": {
    "collapsed": true
   },
   "outputs": [],
   "source": []
  },
  {
   "cell_type": "code",
   "execution_count": 29,
   "metadata": {
    "ExecuteTime": {
     "end_time": "2018-11-16T06:50:20.647924Z",
     "start_time": "2018-11-16T06:50:20.632923Z"
    }
   },
   "outputs": [
    {
     "name": "stdout",
     "output_type": "stream",
     "text": [
      "accuracy_score:  0.6325\n",
      "             precision    recall  f1-score   support\n",
      "\n",
      "         -1       0.27      0.75      0.40        64\n",
      "          0       0.93      0.61      0.74       336\n",
      "\n",
      "avg / total       0.82      0.63      0.68       400\n",
      "\n",
      "confusion_matrix: \n",
      "[[ 48  16]\n",
      " [131 205]]\n"
     ]
    }
   ],
   "source": [
    "# y_pred_class = pipeline.predict(X_test)\n",
    "y_pred_class = tend_data['online_label'].tolist()\n",
    "y_test = tend_data['label'].tolist()\n",
    "print('accuracy_score: ', metrics.accuracy_score(y_test, y_pred_class)) # 指所有分类正确的百分比\n",
    "print(metrics.classification_report(y_test, y_pred_class))\n",
    "print('confusion_matrix: ')\n",
    "print( metrics.confusion_matrix(y_test, y_pred_class))"
   ]
  },
  {
   "cell_type": "code",
   "execution_count": null,
   "metadata": {
    "collapsed": true
   },
   "outputs": [],
   "source": []
  },
  {
   "cell_type": "code",
   "execution_count": null,
   "metadata": {
    "collapsed": true
   },
   "outputs": [],
   "source": []
  },
  {
   "cell_type": "code",
   "execution_count": null,
   "metadata": {
    "collapsed": true
   },
   "outputs": [],
   "source": []
  },
  {
   "cell_type": "code",
   "execution_count": null,
   "metadata": {
    "collapsed": true
   },
   "outputs": [],
   "source": []
  },
  {
   "cell_type": "code",
   "execution_count": null,
   "metadata": {
    "collapsed": true
   },
   "outputs": [],
   "source": []
  }
 ],
 "metadata": {
  "kernelspec": {
   "display_name": "Python 3",
   "language": "python",
   "name": "python3"
  },
  "language_info": {
   "codemirror_mode": {
    "name": "ipython",
    "version": 3
   },
   "file_extension": ".py",
   "mimetype": "text/x-python",
   "name": "python",
   "nbconvert_exporter": "python",
   "pygments_lexer": "ipython3",
   "version": "3.6.3"
  },
  "toc": {
   "nav_menu": {},
   "number_sections": true,
   "sideBar": true,
   "skip_h1_title": false,
   "title_cell": "Table of Contents",
   "title_sidebar": "Contents",
   "toc_cell": false,
   "toc_position": {},
   "toc_section_display": true,
   "toc_window_display": false
  },
  "varInspector": {
   "cols": {
    "lenName": 16,
    "lenType": 16,
    "lenVar": 40
   },
   "kernels_config": {
    "python": {
     "delete_cmd_postfix": "",
     "delete_cmd_prefix": "del ",
     "library": "var_list.py",
     "varRefreshCmd": "print(var_dic_list())"
    },
    "r": {
     "delete_cmd_postfix": ") ",
     "delete_cmd_prefix": "rm(",
     "library": "var_list.r",
     "varRefreshCmd": "cat(var_dic_list()) "
    }
   },
   "types_to_exclude": [
    "module",
    "function",
    "builtin_function_or_method",
    "instance",
    "_Feature"
   ],
   "window_display": false
  }
 },
 "nbformat": 4,
 "nbformat_minor": 2
}
