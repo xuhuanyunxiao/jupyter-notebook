{
 "cells": [
  {
   "cell_type": "markdown",
   "metadata": {
    "ExecuteTime": {
     "end_time": "2018-09-10T06:12:36.169323Z",
     "start_time": "2018-09-10T06:12:36.152322Z"
    }
   },
   "source": [
    "# 本文件说明\n",
    "- 训练模型,查看模型结果：包括K-fold、概率结果"
   ]
  },
  {
   "cell_type": "markdown",
   "metadata": {},
   "source": [
    "# 基本设置"
   ]
  },
  {
   "cell_type": "code",
   "execution_count": 1,
   "metadata": {
    "ExecuteTime": {
     "end_time": "2018-11-14T07:12:11.914457Z",
     "start_time": "2018-11-14T07:12:09.967346Z"
    },
    "collapsed": true
   },
   "outputs": [],
   "source": [
    "import jieba\n",
    "from jieba import analyse\n",
    "import sys\n",
    "import re\n",
    "import time\n",
    "import string\n",
    "from sklearn import feature_extraction\n",
    "from sklearn.pipeline import Pipeline,FeatureUnion\n",
    "from sklearn.model_selection import GridSearchCV\n",
    "from sklearn.feature_extraction.text import TfidfTransformer\n",
    "from sklearn.feature_extraction.text import CountVectorizer\n",
    "\n",
    "from sklearn.feature_extraction.text import TfidfVectorizer\n",
    "from sklearn.feature_selection import SelectKBest, chi2,mutual_info_classif,f_classif \n",
    "from sklearn.preprocessing import StandardScaler\n",
    "\n",
    "import xgboost as xgb\n",
    "from xgboost import XGBClassifier\n",
    "from sklearn import metrics\n",
    "\n",
    "from sklearn.base import BaseEstimator, TransformerMixin\n",
    "\n",
    "%matplotlib inline\n",
    "import numpy as np\n",
    "import pandas as pd\n",
    "import os\n",
    "from sklearn.model_selection import train_test_split\n",
    "from collections import Counter\n",
    "\n",
    "import warnings\n",
    "warnings.filterwarnings('ignore')"
   ]
  },
  {
   "cell_type": "code",
   "execution_count": 2,
   "metadata": {
    "ExecuteTime": {
     "end_time": "2018-11-14T07:12:12.144471Z",
     "start_time": "2018-11-14T07:12:11.918458Z"
    },
    "collapsed": true
   },
   "outputs": [],
   "source": [
    "from toolkits.nlp.generate_keywords import generate_keywords\n",
    "from toolkits.nlp import myclass_circ\n",
    "from toolkits.nlp import myclass_cbrc\n",
    "from toolkits.nlp import load_save_plot_file"
   ]
  },
  {
   "cell_type": "markdown",
   "metadata": {},
   "source": [
    "## 一些函数"
   ]
  },
  {
   "cell_type": "code",
   "execution_count": 3,
   "metadata": {
    "ExecuteTime": {
     "end_time": "2018-11-14T07:12:12.299479Z",
     "start_time": "2018-11-14T07:12:12.149471Z"
    },
    "collapsed": true
   },
   "outputs": [],
   "source": [
    "def cal_kfold(title_content, label, pipeline, raw_folder, filename, class_name_dict):\n",
    "    from sklearn.model_selection import KFold\n",
    "    import numpy as np\n",
    "\n",
    "    data_raw = pd.read_excel('%s/corpus/title_content_label.xlsx'%raw_folder)\n",
    "    raw_title = np.array(data_raw['title'])\n",
    "    raw_content = np.array(data_raw['content'])\n",
    "    print('data_raw: ', data_raw.shape)\n",
    "\n",
    "    kf = KFold(n_splits=5, shuffle=True, random_state=0)\n",
    "    title_content = np.array(title_content)\n",
    "    label = np.array(label)\n",
    "    \n",
    "    kfold_res = {'raw_title':[], 'raw_content':[], 'label':[], \n",
    "             'predict_label':[], 'title_content':[], 'predict_proba':[]}\n",
    "\n",
    "    num = 0\n",
    "    for train_index , test_index in kf.split(title_content):\n",
    "        print('---- %s'%(num+1))\n",
    "        X_train,X_test = title_content[train_index], title_content[test_index]\n",
    "        y_train,y_test = label[train_index], label[test_index]\n",
    "        \n",
    "        pipeline.fit(X_train, y_train)\n",
    "        print(pipeline.score(X_train, y_train))    \n",
    "\n",
    "        y_pred_class = pipeline.predict(X_test)\n",
    "        print('accuracy_score: ', metrics.accuracy_score(y_test, y_pred_class)) # 指所有分类正确的百分比\n",
    "        print(metrics.classification_report(y_test, y_pred_class))\n",
    "        print('confusion_matrix: ')\n",
    "        print( metrics.confusion_matrix(y_test, y_pred_class))   \n",
    "        \n",
    "        y_pred_prob = pipeline.predict_proba(X_test)\n",
    "\n",
    "        kfold_res['raw_title'] += list(raw_title[test_index])\n",
    "        kfold_res['raw_content'] += list(raw_content[test_index])\n",
    "        kfold_res['title_content'] += list(X_test)\n",
    "        kfold_res['label'] += [class_name_dict[i] for i in y_test]\n",
    "        kfold_res['predict_label'] += [class_name_dict[i] for i in y_pred_class]\n",
    "        kfold_res['predict_proba'] += list(y_pred_prob.max(axis = 1))\n",
    "    \n",
    "        num += 1\n",
    "        \n",
    "    kfold_result = pd.DataFrame.from_dict(kfold_res, orient = 'index').T\n",
    "    kfold_result['R_W'] = kfold_result.apply(lambda x: 'Right' if x['label'] == x['predict_label'] else 'Wrong', axis = 1)\n",
    "    print('kfold_result: ', kfold_result.shape)\n",
    "    \n",
    "    with pd.ExcelWriter('%s/corpus/%s'%(raw_folder, filename)) as writer:\n",
    "        for label in kfold_result['label'].unique():\n",
    "            tmp_data = kfold_result[kfold_result['label'] == label]\n",
    "            tmp_data.to_excel(writer, label, index = False)\n",
    "        writer.save()"
   ]
  },
  {
   "cell_type": "code",
   "execution_count": 4,
   "metadata": {
    "ExecuteTime": {
     "end_time": "2018-11-14T07:12:12.374484Z",
     "start_time": "2018-11-14T07:12:12.302480Z"
    },
    "collapsed": true
   },
   "outputs": [],
   "source": [
    "def plot_class_proba(y_pred_class, y_pred_prob):\n",
    "    import seaborn as sns\n",
    "    import matplotlib.pyplot as plt\n",
    "\n",
    "    sel_data = pd.DataFrame()\n",
    "    sel_data['predict_label'] = y_pred_class\n",
    "    sel_data['predict_proba'] = y_pred_prob\n",
    "    sel_data['label'] = y_test\n",
    "\n",
    "    label_dic={'监管':1,'行业':2,'产品销售':3,'资本市场':4,'公司内部管理':5,'消费服务':6,'其他相关报道':7,'噪音':8}\n",
    "    # sel_data['predict_label'] = sel_data['predict_label'].apply(lambda x:label_dic[x])\n",
    "    g = sns.FacetGrid(sel_data, col=\"predict_label\", col_wrap=4, sharex=False)\n",
    "    g.map(plt.hist, \"predict_proba\", bins = 10)\n",
    "\n",
    "    sel_data['proba'] = sel_data['predict_proba'].apply(lambda x:round(x, 1))\n",
    "    sel_data_stat = sel_data.groupby(['predict_label', 'proba'])['predict_proba'].count().unstack().fillna(0)\n",
    "    sel_data_stat['sum'] = sel_data_stat.sum(axis = 1)\n",
    "    sel_data_stat.loc['sum'] = sel_data_stat.sum(axis = 0)\n",
    "    return sel_data_stat"
   ]
  },
  {
   "cell_type": "markdown",
   "metadata": {
    "collapsed": true
   },
   "source": [
    "# 保险业：1 八分类"
   ]
  },
  {
   "cell_type": "markdown",
   "metadata": {},
   "source": [
    "## 导入与分割数据"
   ]
  },
  {
   "cell_type": "code",
   "execution_count": 37,
   "metadata": {
    "ExecuteTime": {
     "end_time": "2018-11-13T07:56:03.042052Z",
     "start_time": "2018-11-13T07:56:02.410016Z"
    }
   },
   "outputs": [
    {
     "name": "stdout",
     "output_type": "stream",
     "text": [
      "title num:  23559\n",
      "['天安 销售 虚列费用 员工 发 福利 相', '泰康人寿 疑设 招聘 骗局 元 底薪 扣到 剩元']\n",
      "content num:  23559\n",
      "title_content num:  23559\n",
      "label num:  23559\n",
      "['公司内部管理', '公司内部管理', '公司内部管理', '公司内部管理', '公司内部管理']\n"
     ]
    }
   ],
   "source": [
    "cbrc_filepath_class = 'circ_result_class/corpus/'\n",
    "title_content, label, title, content = load_save_plot_file.title_content_label(cbrc_filepath_class)"
   ]
  },
  {
   "cell_type": "code",
   "execution_count": 38,
   "metadata": {
    "ExecuteTime": {
     "end_time": "2018-11-13T07:56:04.340127Z",
     "start_time": "2018-11-13T07:56:04.321125Z"
    }
   },
   "outputs": [
    {
     "data": {
      "text/plain": [
       "{1: '监管',\n",
       " 2: '行业',\n",
       " 3: '产品销售',\n",
       " 4: '资本市场',\n",
       " 5: '公司内部管理',\n",
       " 6: '消费服务',\n",
       " 7: '其他相关报道',\n",
       " 8: '噪音'}"
      ]
     },
     "execution_count": 38,
     "metadata": {},
     "output_type": "execute_result"
    }
   ],
   "source": [
    "label_dic={'监管':1,'行业':2,'产品销售':3,'资本市场':4,'公司内部管理':5,'消费服务':6,'其他相关报道':7,'噪音':8}\n",
    "class_name_dict = {v: k for k, v in label_dic.items()}\n",
    "class_name_dict"
   ]
  },
  {
   "cell_type": "code",
   "execution_count": 39,
   "metadata": {
    "ExecuteTime": {
     "end_time": "2018-11-13T07:56:05.916217Z",
     "start_time": "2018-11-13T07:56:05.903216Z"
    }
   },
   "outputs": [
    {
     "data": {
      "text/plain": [
       "[5, 5, 5, 5, 5]"
      ]
     },
     "execution_count": 39,
     "metadata": {},
     "output_type": "execute_result"
    }
   ],
   "source": [
    "label = [label_dic[l] for l in label]\n",
    "label[:5]"
   ]
  },
  {
   "cell_type": "code",
   "execution_count": 40,
   "metadata": {
    "ExecuteTime": {
     "end_time": "2018-11-13T07:56:07.508308Z",
     "start_time": "2018-11-13T07:56:07.477306Z"
    }
   },
   "outputs": [
    {
     "name": "stdout",
     "output_type": "stream",
     "text": [
      "训练集： 16491\n",
      "训练集-各类数量： Counter({8: 4380, 2: 2284, 5: 2124, 1: 2001, 6: 1927, 7: 1625, 4: 1288, 3: 862})\n",
      "测试集： 7068\n",
      "测试集-各类数量： Counter({8: 1933, 1: 946, 2: 935, 5: 906, 6: 803, 7: 650, 4: 505, 3: 390})\n"
     ]
    }
   ],
   "source": [
    "X_train, X_test, y_train, y_test = train_test_split(title_content, label, test_size=0.3, random_state=42)\n",
    "print('训练集：',len(y_train))\n",
    "print('训练集-各类数量：',Counter(y_train))\n",
    "print('测试集：',len(y_test))\n",
    "print('测试集-各类数量：',Counter(y_test))"
   ]
  },
  {
   "cell_type": "markdown",
   "metadata": {},
   "source": [
    "## 生成词典"
   ]
  },
  {
   "cell_type": "code",
   "execution_count": 41,
   "metadata": {
    "ExecuteTime": {
     "end_time": "2018-11-13T08:11:56.769400Z",
     "start_time": "2018-11-13T07:57:18.490368Z"
    }
   },
   "outputs": [
    {
     "name": "stderr",
     "output_type": "stream",
     "text": [
      "Building prefix dict from the default dictionary ...\n",
      "Loading model from cache C:\\Users\\ADMINI~1\\AppData\\Local\\Temp\\jieba.cache\n"
     ]
    },
    {
     "name": "stdout",
     "output_type": "stream",
     "text": [
      "class_label:  [1 2 3 4 5 6 7 8]\n",
      "\n",
      "依据类别生成关键词：\n"
     ]
    },
    {
     "name": "stderr",
     "output_type": "stream",
     "text": [
      "Loading model cost 0.990 seconds.\n",
      "Prefix dict has been built succesfully.\n"
     ]
    },
    {
     "name": "stdout",
     "output_type": "stream",
     "text": [
      "['监管', '风险', '投资', '银行', '金融', '管理', '机构', '产品', '业务', '资产']\n",
      "keywords num:  500\n",
      "类别：1 -- 文本个数：2947，label个数:2947，取词个数：500\n",
      "['公司', '保险公司', '中国', '保费', '业务', '产品', '市场', '投资', '风险', '人寿']\n",
      "keywords num:  500\n",
      "类别：2 -- 文本个数：3219，label个数:3219，取词个数：500\n",
      "['保障', '产品', '保费', '疾病', '保险', '投保', '保险公司', '客户', '服务', '保额']\n",
      "keywords num:  500\n",
      "类别：3 -- 文本个数：1252，label个数:1252，取词个数：500\n",
      "['中国', '市场', '公司', '板块', '投资', '资金', '股份', '个股', '银行', '指数']\n",
      "keywords num:  500\n",
      "类别：4 -- 文本个数：1793，label个数:1793，取词个数：500\n",
      "['公司', '中国', '业务', '有限公司', '保险', '人寿', '服务', '罚款', '财险', '发展']\n",
      "keywords num:  500\n",
      "类别：5 -- 文本个数：3030，label个数:3030，取词个数：500\n",
      "['理赔', '客户', '人寿', '服务', '公司', '保险公司', '事故', '保险', '生命', '分公司']\n",
      "keywords num:  500\n",
      "类别：6 -- 文本个数：2730，label个数:2730，取词个数：500\n",
      "['公司', '活动', '分公司', '中国', '人寿', '有限公司', '服务', '扶贫', '客户', '股份']\n",
      "keywords num:  500\n",
      "类别：7 -- 文本个数：2275，label个数:2275，取词个数：500\n",
      "['工作', '公司', '企业', '服务', '招聘', '中国', '项目', '管理', '银行', '提供']\n",
      "keywords num:  500\n",
      "类别：8 -- 文本个数：6313，label个数:6313，取词个数：500\n",
      "\n",
      "去除词（key_count_list）个数： 370\n",
      "词典词（key_dict）个数： 1689\n",
      "\n",
      "前后对比：去除超过阈值的词\n",
      "['过渡期', '银行业', '金融风险', '非标', '加快', '意见', '化解', '整治', '杠杆', '协调']\n",
      "类别：1 -- 去除前：500， 去除后：221\n",
      "['抵押', '老年人', '住房', '反向', '下滑', '房子', '人身险', '房屋', '亏损', '充足率']\n",
      "类别：2 -- 去除前：500， 去除后：175\n",
      "['保额', '疾险', '身故', '轻症', '豁免', '住院', '癌症', '附加', '治疗', '医疗险']\n",
      "类别：3 -- 去除前：500， 去除后：251\n",
      "['个股', '反弹', '上涨', '持股', '大盘', '股市', '行情', '下跌', '涨幅', '港股']\n",
      "类别：4 -- 去除前：500， 去除后：282\n",
      "['罚款', '决定书', '行政处罚', '当事人', '事实', '违反', '之日起', '充足率', '收到', '总经理']\n",
      "类别：5 -- 去除前：500， 去除后：195\n",
      "['报案', '女士', '家属', '赔款', '查勘', '法院', '保额', '治疗', '接到', '身故']\n",
      "类别：6 -- 去除前：500， 去除后：286\n",
      "['收悉', '批复', '收到', '作出', '管理人员', '监事', '董事', '健步', '之日起', '公益']\n",
      "类别：7 -- 去除前：500， 去除后：248\n",
      "['招聘', '报名', '招标', '岗位', '资格', '待遇', '经验', '缴费', '工资', '采购']\n",
      "类别：8 -- 去除前：500， 去除后：210\n",
      "['后遗症', '证券期货', '支柱', '标的', '防控', '盘面', '本金', '批复', '打非', '支行']\n",
      "len(keywords):  1319\n"
     ]
    }
   ],
   "source": [
    "g_k = generate_keywords(500)\n",
    "g_k.gen_keywords_by_class(title_content, label, v_thre = 3)"
   ]
  },
  {
   "cell_type": "code",
   "execution_count": 42,
   "metadata": {
    "ExecuteTime": {
     "end_time": "2018-11-13T08:11:58.045473Z",
     "start_time": "2018-11-13T08:11:58.036472Z"
    }
   },
   "outputs": [
    {
     "name": "stdout",
     "output_type": "stream",
     "text": [
      "file_path:  d:\\xh\\python_project\\tool\\toolkits\\nlp\\corpus\\keywords_i.txt\n"
     ]
    }
   ],
   "source": [
    "g_k.save_txt('keywords_i.txt')"
   ]
  },
  {
   "cell_type": "markdown",
   "metadata": {},
   "source": [
    "## train & test"
   ]
  },
  {
   "cell_type": "code",
   "execution_count": 22,
   "metadata": {
    "ExecuteTime": {
     "end_time": "2018-11-05T10:01:19.010832Z",
     "start_time": "2018-11-05T09:59:26.049371Z"
    }
   },
   "outputs": [
    {
     "name": "stdout",
     "output_type": "stream",
     "text": [
      "d:\\xh\\python_project\\tool\\toolkits\\nlp\n",
      "d:\\xh\\python_project\\tool\\toolkits\\nlp\n",
      "(21981, 21330)\n"
     ]
    },
    {
     "data": {
      "text/plain": [
       "['model/circ_labels_20181105.pkl.z']"
      ]
     },
     "execution_count": 22,
     "metadata": {},
     "output_type": "execute_result"
    }
   ],
   "source": [
    "## 保存特征\n",
    "# pipeline = Pipeline([\n",
    "#     ('features', FeatureUnion([\n",
    "#         ('tf_idf', Pipeline([\n",
    "#             ('counts', CountVectorizer(max_df=0.95, min_df=2)),\n",
    "#             ('tf_idf', TfidfTransformer()),\n",
    "#             ('chi', SelectKBest(chi2, k=20000))\n",
    "#         ])),\n",
    "#         ('len_stats', myclass_circ.StatsFeatures_cor()),\n",
    "#         ('tf', myclass_circ.Statskeywords_cor(topk = 5000))\n",
    "#     ])),\n",
    "#     ('standard', StandardScaler(with_mean=False))\n",
    "# ])\n",
    "\n",
    "# pipeline_train = pipeline.fit(title_content, label)\n",
    "# X_features = pipeline_train.transform(title_content)\n",
    "# print(X_features.shape)\n",
    "\n",
    "# from sklearn.externals import joblib\n",
    "# joblib.dump(pipeline_train, \"model/circ_pipeline_20181105.pkl.z\")\n",
    "# joblib.dump(X_features, \"model/circ_features_20181105.pkl.z\")\n",
    "# joblib.dump(label, \"model/circ_labels_20181105.pkl.z\")"
   ]
  },
  {
   "cell_type": "code",
   "execution_count": 28,
   "metadata": {
    "ExecuteTime": {
     "end_time": "2018-11-05T10:09:51.037118Z",
     "start_time": "2018-11-05T10:09:45.330792Z"
    }
   },
   "outputs": [
    {
     "name": "stdout",
     "output_type": "stream",
     "text": [
      "(1580, 21330)\n",
      "1580\n"
     ]
    },
    {
     "data": {
      "text/plain": [
       "['model/circ_labels_20181105_test.pkl.z']"
      ]
     },
     "execution_count": 28,
     "metadata": {},
     "output_type": "execute_result"
    }
   ],
   "source": [
    "# from sklearn.externals import joblib\n",
    "# pipeline_train = joblib.load( \"model/circ_pipeline_20181105.pkl.z\")\n",
    "\n",
    "# X_features_test = pipeline_train.transform(title_content)\n",
    "# print(X_features_test.shape)\n",
    "# print(len(label))\n",
    "\n",
    "# joblib.dump(X_features_test, \"model/circ_features_20181105_test.pkl.z\")\n",
    "# joblib.dump(label, \"model/circ_labels_20181105_test.pkl.z\")"
   ]
  },
  {
   "cell_type": "code",
   "execution_count": 6,
   "metadata": {
    "ExecuteTime": {
     "end_time": "2018-11-06T01:38:23.894811Z",
     "start_time": "2018-11-06T01:38:22.972758Z"
    }
   },
   "outputs": [
    {
     "name": "stdout",
     "output_type": "stream",
     "text": [
      "(21981, 21330)\n",
      "21981\n",
      "(1580, 21330)\n",
      "1580\n"
     ]
    }
   ],
   "source": [
    "# from sklearn.externals import joblib\n",
    "# X_features = joblib.load( \"model/circ_features_20181105.pkl.z\")\n",
    "# label = joblib.load( \"model/circ_labels_20181105.pkl.z\")\n",
    "# print(X_features.shape)\n",
    "# print(len(label))\n",
    "\n",
    "# X_features = joblib.load( \"model/circ_features_20181105_test.pkl.z\")\n",
    "# label = joblib.load( \"model/circ_labels_20181105_test.pkl.z\")\n",
    "# print(X_features.shape)\n",
    "# print(len(label))"
   ]
  },
  {
   "cell_type": "code",
   "execution_count": 43,
   "metadata": {
    "ExecuteTime": {
     "end_time": "2018-11-13T08:11:59.261542Z",
     "start_time": "2018-11-13T08:11:59.249542Z"
    }
   },
   "outputs": [
    {
     "name": "stdout",
     "output_type": "stream",
     "text": [
      "d:\\xh\\python_project\\tool\\toolkits\\nlp\n"
     ]
    },
    {
     "data": {
      "text/plain": [
       "1319"
      ]
     },
     "execution_count": 43,
     "metadata": {},
     "output_type": "execute_result"
    }
   ],
   "source": [
    "a = myclass_circ.Statskeywords_cor(5000)\n",
    "len(a.keywords)"
   ]
  },
  {
   "cell_type": "code",
   "execution_count": 44,
   "metadata": {
    "ExecuteTime": {
     "end_time": "2018-11-13T08:28:43.461306Z",
     "start_time": "2018-11-13T08:12:00.471612Z"
    }
   },
   "outputs": [
    {
     "name": "stdout",
     "output_type": "stream",
     "text": [
      "d:\\xh\\python_project\\tool\\toolkits\\nlp\n",
      "d:\\xh\\python_project\\tool\\toolkits\\nlp\n",
      "0.9711964101631193\n"
     ]
    },
    {
     "data": {
      "text/plain": [
       "Pipeline(memory=None,\n",
       "     steps=[('features', FeatureUnion(n_jobs=1,\n",
       "       transformer_list=[('tf_idf', Pipeline(memory=None,\n",
       "     steps=[('counts', CountVectorizer(analyzer='word', binary=False, decode_error='strict',\n",
       "        dtype=<class 'numpy.int64'>, encoding='utf-8', input='content',\n",
       "        lowercase=True, max_df=0.9...tate=0, reg_alpha=0, reg_lambda=1, scale_pos_weight=1,\n",
       "       seed=None, silent=True, subsample=1))])"
      ]
     },
     "execution_count": 44,
     "metadata": {},
     "output_type": "execute_result"
    }
   ],
   "source": [
    "pipeline = Pipeline([\n",
    "    ('features', FeatureUnion([\n",
    "        ('tf_idf', Pipeline([\n",
    "            ('counts', CountVectorizer(max_df=0.95, min_df=2)),\n",
    "            ('tf_idf', TfidfTransformer()),\n",
    "            ('chi', SelectKBest(chi2, k=20000))\n",
    "        ])),\n",
    "        ('len_stats', myclass_circ.StatsFeatures_cor()),\n",
    "        ('tf', myclass_circ.Statskeywords_cor(topk = 5000))\n",
    "    ])),\n",
    "    ('standard', StandardScaler(with_mean=False)),\n",
    "    ('classifier', XGBClassifier(max_depth=7,objective='multi:softmax', num_class=8))\n",
    "])\n",
    "\n",
    "pipeline.fit(X_train, y_train)\n",
    "print(pipeline.score(X_train, y_train))\n",
    "pipeline"
   ]
  },
  {
   "cell_type": "code",
   "execution_count": 45,
   "metadata": {
    "ExecuteTime": {
     "end_time": "2018-11-13T08:28:58.107807Z",
     "start_time": "2018-11-13T08:28:44.994187Z"
    }
   },
   "outputs": [
    {
     "name": "stdout",
     "output_type": "stream",
     "text": [
      "accuracy_score:  0.8239954725523486\n",
      "             precision    recall  f1-score   support\n",
      "\n",
      "          1       0.81      0.85      0.83       946\n",
      "          2       0.79      0.83      0.81       935\n",
      "          3       0.86      0.71      0.78       390\n",
      "          4       0.84      0.81      0.82       505\n",
      "          5       0.79      0.83      0.81       906\n",
      "          6       0.83      0.86      0.85       803\n",
      "          7       0.87      0.83      0.85       650\n",
      "          8       0.84      0.82      0.83      1933\n",
      "\n",
      "avg / total       0.83      0.82      0.82      7068\n",
      "\n",
      "confusion_matrix: \n",
      "[[ 801   57    1    2    9    4    4   68]\n",
      " [  26  774   13   12   24   21    7   58]\n",
      " [   3   20  278    0   19   32    9   29]\n",
      " [   8   14    1  407   29    1    2   43]\n",
      " [   5   56    4   12  752   23   19   35]\n",
      " [   3   17    5    3   34  689   10   42]\n",
      " [   8   12    4    0   42   12  540   32]\n",
      " [ 129   35   17   49   46   44   30 1583]]\n"
     ]
    }
   ],
   "source": [
    "y_pred_class = pipeline.predict(X_test)\n",
    "print('accuracy_score: ', metrics.accuracy_score(y_test, y_pred_class)) # 指所有分类正确的百分比\n",
    "print(metrics.classification_report(y_test, y_pred_class))\n",
    "print('confusion_matrix: ')\n",
    "print( metrics.confusion_matrix(y_test, y_pred_class))"
   ]
  },
  {
   "cell_type": "markdown",
   "metadata": {},
   "source": [
    "## 概率结果"
   ]
  },
  {
   "cell_type": "code",
   "execution_count": 16,
   "metadata": {
    "ExecuteTime": {
     "end_time": "2018-10-15T02:39:21.591959Z",
     "start_time": "2018-10-15T02:39:06.250082Z"
    }
   },
   "outputs": [
    {
     "data": {
      "text/plain": [
       "<matplotlib.axes._subplots.AxesSubplot at 0x20fcdb00>"
      ]
     },
     "execution_count": 16,
     "metadata": {},
     "output_type": "execute_result"
    },
    {
     "data": {
      "image/png": "[encoded data removed]",
      "text/plain": [
       "<matplotlib.figure.Figure at 0x3848470>"
      ]
     },
     "metadata": {},
     "output_type": "display_data"
    }
   ],
   "source": [
    "y_pred_prob = pipeline.predict_proba(X_test)\n",
    "pd.DataFrame(y_pred_prob.max(axis = 1)).plot.hist(bins = 100)"
   ]
  },
  {
   "cell_type": "code",
   "execution_count": 17,
   "metadata": {
    "ExecuteTime": {
     "end_time": "2018-10-15T02:39:24.906149Z",
     "start_time": "2018-10-15T02:39:23.298057Z"
    }
   },
   "outputs": [
    {
     "data": {
      "text/html": [
       "<div>\n",
       "<style scoped>\n",
       "    .dataframe tbody tr th:only-of-type {\n",
       "        vertical-align: middle;\n",
       "    }\n",
       "\n",
       "    .dataframe tbody tr th {\n",
       "        vertical-align: top;\n",
       "    }\n",
       "\n",
       "    .dataframe thead th {\n",
       "        text-align: right;\n",
       "    }\n",
       "</style>\n",
       "<table border=\"1\" class=\"dataframe\">\n",
       "  <thead>\n",
       "    <tr style=\"text-align: right;\">\n",
       "      <th>proba</th>\n",
       "      <th>0.2</th>\n",
       "      <th>0.3</th>\n",
       "      <th>0.4</th>\n",
       "      <th>0.5</th>\n",
       "      <th>0.6</th>\n",
       "      <th>0.7</th>\n",
       "      <th>0.8</th>\n",
       "      <th>0.9</th>\n",
       "      <th>1.0</th>\n",
       "      <th>sum</th>\n",
       "    </tr>\n",
       "    <tr>\n",
       "      <th>predict_label</th>\n",
       "      <th></th>\n",
       "      <th></th>\n",
       "      <th></th>\n",
       "      <th></th>\n",
       "      <th></th>\n",
       "      <th></th>\n",
       "      <th></th>\n",
       "      <th></th>\n",
       "      <th></th>\n",
       "      <th></th>\n",
       "    </tr>\n",
       "  </thead>\n",
       "  <tbody>\n",
       "    <tr>\n",
       "      <th>1</th>\n",
       "      <td>1.0</td>\n",
       "      <td>3.0</td>\n",
       "      <td>27.0</td>\n",
       "      <td>82.0</td>\n",
       "      <td>82.0</td>\n",
       "      <td>118.0</td>\n",
       "      <td>121.0</td>\n",
       "      <td>250.0</td>\n",
       "      <td>206.0</td>\n",
       "      <td>890.0</td>\n",
       "    </tr>\n",
       "    <tr>\n",
       "      <th>2</th>\n",
       "      <td>2.0</td>\n",
       "      <td>15.0</td>\n",
       "      <td>49.0</td>\n",
       "      <td>100.0</td>\n",
       "      <td>82.0</td>\n",
       "      <td>72.0</td>\n",
       "      <td>112.0</td>\n",
       "      <td>219.0</td>\n",
       "      <td>265.0</td>\n",
       "      <td>916.0</td>\n",
       "    </tr>\n",
       "    <tr>\n",
       "      <th>3</th>\n",
       "      <td>0.0</td>\n",
       "      <td>8.0</td>\n",
       "      <td>15.0</td>\n",
       "      <td>25.0</td>\n",
       "      <td>27.0</td>\n",
       "      <td>32.0</td>\n",
       "      <td>28.0</td>\n",
       "      <td>51.0</td>\n",
       "      <td>89.0</td>\n",
       "      <td>275.0</td>\n",
       "    </tr>\n",
       "    <tr>\n",
       "      <th>4</th>\n",
       "      <td>0.0</td>\n",
       "      <td>5.0</td>\n",
       "      <td>11.0</td>\n",
       "      <td>28.0</td>\n",
       "      <td>38.0</td>\n",
       "      <td>46.0</td>\n",
       "      <td>47.0</td>\n",
       "      <td>107.0</td>\n",
       "      <td>155.0</td>\n",
       "      <td>437.0</td>\n",
       "    </tr>\n",
       "    <tr>\n",
       "      <th>5</th>\n",
       "      <td>6.0</td>\n",
       "      <td>28.0</td>\n",
       "      <td>72.0</td>\n",
       "      <td>98.0</td>\n",
       "      <td>81.0</td>\n",
       "      <td>102.0</td>\n",
       "      <td>95.0</td>\n",
       "      <td>175.0</td>\n",
       "      <td>246.0</td>\n",
       "      <td>903.0</td>\n",
       "    </tr>\n",
       "    <tr>\n",
       "      <th>6</th>\n",
       "      <td>1.0</td>\n",
       "      <td>14.0</td>\n",
       "      <td>31.0</td>\n",
       "      <td>34.0</td>\n",
       "      <td>52.0</td>\n",
       "      <td>57.0</td>\n",
       "      <td>98.0</td>\n",
       "      <td>160.0</td>\n",
       "      <td>350.0</td>\n",
       "      <td>797.0</td>\n",
       "    </tr>\n",
       "    <tr>\n",
       "      <th>7</th>\n",
       "      <td>1.0</td>\n",
       "      <td>8.0</td>\n",
       "      <td>21.0</td>\n",
       "      <td>41.0</td>\n",
       "      <td>34.0</td>\n",
       "      <td>38.0</td>\n",
       "      <td>59.0</td>\n",
       "      <td>95.0</td>\n",
       "      <td>323.0</td>\n",
       "      <td>620.0</td>\n",
       "    </tr>\n",
       "    <tr>\n",
       "      <th>8</th>\n",
       "      <td>3.0</td>\n",
       "      <td>40.0</td>\n",
       "      <td>78.0</td>\n",
       "      <td>119.0</td>\n",
       "      <td>114.0</td>\n",
       "      <td>96.0</td>\n",
       "      <td>136.0</td>\n",
       "      <td>270.0</td>\n",
       "      <td>901.0</td>\n",
       "      <td>1757.0</td>\n",
       "    </tr>\n",
       "    <tr>\n",
       "      <th>sum</th>\n",
       "      <td>14.0</td>\n",
       "      <td>121.0</td>\n",
       "      <td>304.0</td>\n",
       "      <td>527.0</td>\n",
       "      <td>510.0</td>\n",
       "      <td>561.0</td>\n",
       "      <td>696.0</td>\n",
       "      <td>1327.0</td>\n",
       "      <td>2535.0</td>\n",
       "      <td>6595.0</td>\n",
       "    </tr>\n",
       "  </tbody>\n",
       "</table>\n",
       "</div>"
      ],
      "text/plain": [
       "proba           0.2    0.3    0.4    0.5    0.6    0.7    0.8     0.9     1.0  \\\n",
       "predict_label                                                                   \n",
       "1               1.0    3.0   27.0   82.0   82.0  118.0  121.0   250.0   206.0   \n",
       "2               2.0   15.0   49.0  100.0   82.0   72.0  112.0   219.0   265.0   \n",
       "3               0.0    8.0   15.0   25.0   27.0   32.0   28.0    51.0    89.0   \n",
       "4               0.0    5.0   11.0   28.0   38.0   46.0   47.0   107.0   155.0   \n",
       "5               6.0   28.0   72.0   98.0   81.0  102.0   95.0   175.0   246.0   \n",
       "6               1.0   14.0   31.0   34.0   52.0   57.0   98.0   160.0   350.0   \n",
       "7               1.0    8.0   21.0   41.0   34.0   38.0   59.0    95.0   323.0   \n",
       "8               3.0   40.0   78.0  119.0  114.0   96.0  136.0   270.0   901.0   \n",
       "sum            14.0  121.0  304.0  527.0  510.0  561.0  696.0  1327.0  2535.0   \n",
       "\n",
       "proba             sum  \n",
       "predict_label          \n",
       "1               890.0  \n",
       "2               916.0  \n",
       "3               275.0  \n",
       "4               437.0  \n",
       "5               903.0  \n",
       "6               797.0  \n",
       "7               620.0  \n",
       "8              1757.0  \n",
       "sum            6595.0  "
      ]
     },
     "execution_count": 17,
     "metadata": {},
     "output_type": "execute_result"
    },
    {
     "data": {
      "image/png": "[encoded data removed]",
      "text/plain": [
       "<matplotlib.figure.Figure at 0x3160c860>"
      ]
     },
     "metadata": {},
     "output_type": "display_data"
    }
   ],
   "source": [
    "sel_data_stat = plot_class_proba(y_pred_class, y_pred_prob.max(axis = 1))\n",
    "sel_data_stat"
   ]
  },
  {
   "cell_type": "markdown",
   "metadata": {},
   "source": [
    "## K-fold"
   ]
  },
  {
   "cell_type": "code",
   "execution_count": null,
   "metadata": {
    "ExecuteTime": {
     "start_time": "2018-09-19T02:37:15.664Z"
    }
   },
   "outputs": [
    {
     "name": "stdout",
     "output_type": "stream",
     "text": [
      "d:\\xh\\python_project\\tool\\toolkits\\nlp\n",
      "d:\\xh\\python_project\\tool\\toolkits\\nlp\n",
      "data_raw:  (18022, 5)\n",
      "---- 1\n",
      "0.9890407158215995\n",
      "accuracy_score:  0.860748959778086\n",
      "             precision    recall  f1-score   support\n",
      "\n",
      "          1       0.82      0.83      0.83       431\n",
      "          2       0.84      0.85      0.84       487\n",
      "          3       0.89      0.73      0.80       187\n",
      "          4       0.90      0.80      0.85       244\n",
      "          5       0.80      0.85      0.83       456\n",
      "          6       0.90      0.93      0.91       388\n",
      "          7       0.91      0.83      0.86       382\n",
      "          8       0.87      0.90      0.89      1030\n",
      "\n",
      "avg / total       0.86      0.86      0.86      3605\n",
      "\n",
      "confusion_matrix: \n",
      "[[358  22   0   1   5   0   1  44]\n",
      " [ 18 416   2   2  16   7   3  23]\n",
      " [  1   7 136   0  16  13   3  11]\n",
      " [  7   8   0 196  12   0   0  21]\n",
      " [  4  27   3   3 389   8  11  11]\n",
      " [  1   2   1   0   6 361   6  11]\n",
      " [  7   8   4   1  25   7 316  14]\n",
      " [ 39   8   7  14  15   7   9 931]]\n",
      "---- 2\n",
      "0.9900117916348755\n",
      "accuracy_score:  0.8649098474341192\n",
      "             precision    recall  f1-score   support\n",
      "\n",
      "          1       0.85      0.86      0.86       433\n",
      "          2       0.81      0.84      0.83       480\n",
      "          3       0.89      0.80      0.85       204\n",
      "          4       0.91      0.81      0.86       278\n",
      "          5       0.82      0.82      0.82       426\n",
      "          6       0.88      0.93      0.91       355\n",
      "          7       0.90      0.87      0.88       389\n",
      "          8       0.88      0.90      0.89      1040\n",
      "\n",
      "avg / total       0.87      0.86      0.86      3605\n",
      "\n",
      "confusion_matrix: \n",
      "[[373  21   1   0   1   0   4  33]\n",
      " [ 16 403   4   3  14  10   4  26]\n",
      " [  0  11 164   0   6  11   2  10]\n",
      " [  6  12   0 226  14   1   0  19]\n",
      " [  3  22   7   5 350  10  12  17]\n",
      " [  3   4   3   0   5 331   5   4]\n",
      " [  2   4   0   1  20   7 338  17]\n",
      " [ 34  18   5  13  19   6  12 933]]\n",
      "---- 3\n"
     ]
    }
   ],
   "source": [
    "pipeline = Pipeline([\n",
    "    ('features', FeatureUnion([\n",
    "        ('tf_idf', Pipeline([\n",
    "            ('counts', CountVectorizer(max_df=0.95, min_df=2)),\n",
    "            ('tf_idf', TfidfTransformer()),\n",
    "            ('chi', SelectKBest(chi2, k=20000))\n",
    "        ])),\n",
    "        ('len_stats', myclass_circ.StatsFeatures_cor()),\n",
    "        ('tf', myclass_circ.Statskeywords_cor(topk = 5000))\n",
    "    ])),\n",
    "    ('standard', StandardScaler(with_mean=False)),\n",
    "    ('classifier', XGBClassifier(max_depth=7,objective='multi:softmax', num_class=8))\n",
    "])\n",
    "\n",
    "filename = 'circ_class_label_proba_20181008.xlsx'\n",
    "cal_kfold(title_content, label, pipeline, 'circ_result_class', filename, class_name_dict)"
   ]
  },
  {
   "cell_type": "code",
   "execution_count": null,
   "metadata": {
    "ExecuteTime": {
     "start_time": "2018-09-19T02:37:27.493Z"
    },
    "collapsed": true
   },
   "outputs": [],
   "source": [
    "import xlrd\n",
    "\n",
    "kfold_result = pd.DataFrame()\n",
    "\n",
    "currentPath  = 'circ_result_class/corpus/circ_class_label_proba_20181008.xlsx'\n",
    "excel = xlrd.open_workbook(currentPath)\n",
    "sheet_names = [sheet.name for sheet in excel.sheets()]\n",
    "for sheet_name in sheet_names:   \n",
    "    tmp_data = pd.read_excel(currentPath, sheet_name)     \n",
    "    kfold_result = pd.concat([kfold_result, tmp_data], axis = 0)\n",
    "\n",
    "kfold_result.index = range(kfold_result.shape[0])\n",
    "kfold_result.insert(0, '备注', '')\n",
    "print('总数：', kfold_result.shape)\n",
    "# kfold_result.head()"
   ]
  },
  {
   "cell_type": "code",
   "execution_count": null,
   "metadata": {
    "ExecuteTime": {
     "start_time": "2018-09-19T02:39:45.140Z"
    },
    "collapsed": true
   },
   "outputs": [],
   "source": [
    "K_S_sel = kfold_result[(kfold_result['predict_proba'] < 0.65) | (kfold_result['R_W'] == 'Wrong')]\n",
    "K_S_else = kfold_result[~((kfold_result['predict_proba'] < 0.65) | (kfold_result['R_W'] == 'Wrong'))]\n",
    "print(kfold_result.shape)\n",
    "print(K_S_else.shape)\n",
    "print(K_S_sel.shape)\n",
    "K_S_sel.groupby(['R_W', 'predict_label'])['label'].count()"
   ]
  },
  {
   "cell_type": "code",
   "execution_count": null,
   "metadata": {
    "collapsed": true
   },
   "outputs": [],
   "source": [
    "fea_filename = 'cbrc_result_class/result/20181008_circ_class_sel.xlsx'\n",
    "with pd.ExcelWriter(fea_filename) as writer:\n",
    "    for label in K_S_sel['predict_label'].unique():\n",
    "        tmp_data = K_S_sel[K_S_sel['predict_label'] == label]\n",
    "        N = tmp_data.shape[0]\n",
    "        tmp_data.sample(n = N, axis = 0, random_state=42).to_excel(writer,label, index = False)    \n",
    "    writer.save()\n",
    "    \n",
    "fea_filename = 'cbrc_result_class/result/20181008_circ_class_else.xlsx'\n",
    "with pd.ExcelWriter(fea_filename) as writer:\n",
    "    for label in K_S_else['predict_label'].unique():\n",
    "        tmp_data = K_S_else[K_S_else['predict_label'] == label]\n",
    "        N = tmp_data.shape[0]\n",
    "        tmp_data.sample(n = N, axis = 0, random_state=42).to_excel(writer,label, index = False)    \n",
    "    writer.save()    "
   ]
  },
  {
   "cell_type": "code",
   "execution_count": null,
   "metadata": {
    "ExecuteTime": {
     "start_time": "2018-09-19T02:39:51.232Z"
    },
    "collapsed": true
   },
   "outputs": [],
   "source": [
    "y_test = kfold_result['predict_label'].tolist()\n",
    "y_pred_class = kfold_result['label'].tolist()\n",
    "print('accuracy_score: ', metrics.accuracy_score(y_test, y_pred_class)) # 指所有分类正确的百分比\n",
    "print(metrics.classification_report(y_test, y_pred_class))\n",
    "print('confusion_matrix: ')\n",
    "print( metrics.confusion_matrix(y_test, y_pred_class))"
   ]
  },
  {
   "cell_type": "code",
   "execution_count": null,
   "metadata": {
    "ExecuteTime": {
     "start_time": "2018-09-19T02:39:51.922Z"
    },
    "collapsed": true
   },
   "outputs": [],
   "source": [
    "y_pred_prob = kfold_result['predict_proba'].tolist()\n",
    "\n",
    "sel_data_stat = plot_class_proba(y_pred_class, y_pred_prob)\n",
    "sel_data_stat"
   ]
  },
  {
   "cell_type": "markdown",
   "metadata": {},
   "source": [
    "## 保存模型"
   ]
  },
  {
   "cell_type": "code",
   "execution_count": 46,
   "metadata": {
    "ExecuteTime": {
     "end_time": "2018-11-13T08:54:17.845161Z",
     "start_time": "2018-11-13T08:28:59.463876Z"
    }
   },
   "outputs": [
    {
     "name": "stdout",
     "output_type": "stream",
     "text": [
      "d:\\xh\\python_project\\tool\\toolkits\\nlp\n",
      "d:\\xh\\python_project\\tool\\toolkits\\nlp\n",
      "0.9585720955897958\n"
     ]
    },
    {
     "data": {
      "text/plain": [
       "Pipeline(memory=None,\n",
       "     steps=[('features', FeatureUnion(n_jobs=1,\n",
       "       transformer_list=[('tf_idf', Pipeline(memory=None,\n",
       "     steps=[('counts', CountVectorizer(analyzer='word', binary=False, decode_error='strict',\n",
       "        dtype=<class 'numpy.int64'>, encoding='utf-8', input='content',\n",
       "        lowercase=True, max_df=0.9...tate=0, reg_alpha=0, reg_lambda=1, scale_pos_weight=1,\n",
       "       seed=None, silent=True, subsample=1))])"
      ]
     },
     "execution_count": 46,
     "metadata": {},
     "output_type": "execute_result"
    }
   ],
   "source": [
    "pipeline = Pipeline([\n",
    "    ('features', FeatureUnion([\n",
    "        ('tf_idf', Pipeline([\n",
    "            ('counts', CountVectorizer(max_df=0.95, min_df=2)),\n",
    "            ('tf_idf', TfidfTransformer()),\n",
    "            ('chi', SelectKBest(chi2, k=20000))\n",
    "        ])),\n",
    "        ('len_stats', myclass_circ.StatsFeatures_cor()),\n",
    "        ('tf', myclass_circ.Statskeywords_cor(topk = 5000))\n",
    "    ])),\n",
    "    ('standard', StandardScaler(with_mean=False)),\n",
    "    ('classifier', XGBClassifier(max_depth=7,objective='multi:softmax', num_class=8))\n",
    "])\n",
    "\n",
    "pipeline.fit(title_content, label)\n",
    "print(pipeline.score(title_content, label))\n",
    "pipeline"
   ]
  },
  {
   "cell_type": "code",
   "execution_count": 47,
   "metadata": {
    "ExecuteTime": {
     "end_time": "2018-11-13T08:54:23.789677Z",
     "start_time": "2018-11-13T08:54:19.191238Z"
    }
   },
   "outputs": [
    {
     "data": {
      "text/plain": [
       "['model/circ_8classifier_1113.pkl.z']"
      ]
     },
     "execution_count": 47,
     "metadata": {},
     "output_type": "execute_result"
    }
   ],
   "source": [
    "from sklearn.externals import joblib\n",
    "joblib.dump(pipeline, \"model/circ_8classifier_1113.pkl.z\")"
   ]
  },
  {
   "cell_type": "markdown",
   "metadata": {
    "collapsed": true
   },
   "source": [
    "# 保险业：2 倾向性"
   ]
  },
  {
   "cell_type": "markdown",
   "metadata": {},
   "source": [
    "## 导入与分割数据"
   ]
  },
  {
   "cell_type": "code",
   "execution_count": 5,
   "metadata": {
    "ExecuteTime": {
     "end_time": "2018-11-14T07:12:16.889742Z",
     "start_time": "2018-11-14T07:12:16.807737Z"
    }
   },
   "outputs": [
    {
     "name": "stdout",
     "output_type": "stream",
     "text": [
      "title num:  3473\n",
      "['决定书 国寿财险 瑞金 支公司 违法行为', '转型 阵痛 净利下滑']\n",
      "content num:  3473\n",
      "title_content num:  3473\n",
      "label num:  3473\n",
      "['-1', '-1', '-1', '-1', '-1']\n"
     ]
    },
    {
     "data": {
      "text/plain": [
       "[-1, -1, -1, -1, -1]"
      ]
     },
     "execution_count": 5,
     "metadata": {},
     "output_type": "execute_result"
    }
   ],
   "source": [
    "cbrc_filepath_class = 'circ_result_tendency/corpus/'\n",
    "title_content, label, title, content = load_save_plot_file.title_content_label(cbrc_filepath_class)\n",
    "label = [int(l) for l in label]\n",
    "label[:5]"
   ]
  },
  {
   "cell_type": "code",
   "execution_count": 6,
   "metadata": {
    "ExecuteTime": {
     "end_time": "2018-11-14T07:12:17.386770Z",
     "start_time": "2018-11-14T07:12:17.376770Z"
    }
   },
   "outputs": [
    {
     "data": {
      "text/plain": [
       "{-1: '负面', 0: '非负'}"
      ]
     },
     "execution_count": 6,
     "metadata": {},
     "output_type": "execute_result"
    }
   ],
   "source": [
    "label_dic={'非负':0,'负面':-1}\n",
    "class_name_dict = {v: k for k, v in label_dic.items()}\n",
    "class_name_dict"
   ]
  },
  {
   "cell_type": "code",
   "execution_count": 7,
   "metadata": {
    "ExecuteTime": {
     "end_time": "2018-11-14T07:12:18.016806Z",
     "start_time": "2018-11-14T07:12:18.006806Z"
    }
   },
   "outputs": [
    {
     "name": "stdout",
     "output_type": "stream",
     "text": [
      "训练集： 2431\n",
      "训练集-各类数量： Counter({-1: 1656, 0: 775})\n",
      "测试集： 1042\n",
      "测试集-各类数量： Counter({-1: 716, 0: 326})\n"
     ]
    }
   ],
   "source": [
    "X_train, X_test, y_train, y_test = train_test_split(title_content, label, test_size=0.3, random_state=42)\n",
    "print('训练集：',len(y_train))\n",
    "print('训练集-各类数量：',Counter(y_train))\n",
    "print('测试集：',len(y_test))\n",
    "print('测试集-各类数量：',Counter(y_test))"
   ]
  },
  {
   "cell_type": "markdown",
   "metadata": {},
   "source": [
    "## train & test"
   ]
  },
  {
   "cell_type": "code",
   "execution_count": 8,
   "metadata": {
    "ExecuteTime": {
     "end_time": "2018-11-14T07:12:33.486691Z",
     "start_time": "2018-11-14T07:12:19.542894Z"
    }
   },
   "outputs": [
    {
     "name": "stdout",
     "output_type": "stream",
     "text": [
      "d:\\xh\\python_project\\tool\\toolkits\\nlp\n",
      "0.9950637597696421\n"
     ]
    },
    {
     "data": {
      "text/plain": [
       "Pipeline(memory=None,\n",
       "     steps=[('features', FeatureUnion(n_jobs=1,\n",
       "       transformer_list=[('tf_idf', Pipeline(memory=None,\n",
       "     steps=[('counts', CountVectorizer(analyzer='word', binary=False, decode_error='strict',\n",
       "        dtype=<class 'numpy.int64'>, encoding='utf-8', input='content',\n",
       "        lowercase=True, max_df=0.9...tate=0, reg_alpha=0, reg_lambda=1, scale_pos_weight=1,\n",
       "       seed=None, silent=True, subsample=1))])"
      ]
     },
     "execution_count": 8,
     "metadata": {},
     "output_type": "execute_result"
    }
   ],
   "source": [
    "pipeline = Pipeline([\n",
    "    ('features', FeatureUnion([\n",
    "        ('tf_idf', Pipeline([\n",
    "            ('counts', CountVectorizer(max_df=0.95, min_df=2)),\n",
    "            ('tf_idf', TfidfTransformer()),\n",
    "            ('chi', SelectKBest(chi2, k=2000))\n",
    "        ])),\n",
    "        ('len_stats', myclass_circ.StatsFeatures_tendency()),\n",
    "    ])),\n",
    "    ('standard', StandardScaler(with_mean=False)),\n",
    "    ('classifier', XGBClassifier(max_depth=7,objective='multi:softmax', num_class=2))\n",
    "])\n",
    "\n",
    "pipeline.fit(X_train, y_train)\n",
    "print(pipeline.score(X_train, y_train))\n",
    "pipeline"
   ]
  },
  {
   "cell_type": "code",
   "execution_count": 9,
   "metadata": {
    "ExecuteTime": {
     "end_time": "2018-11-14T07:12:34.295737Z",
     "start_time": "2018-11-14T07:12:33.636700Z"
    }
   },
   "outputs": [
    {
     "name": "stdout",
     "output_type": "stream",
     "text": [
      "accuracy_score:  0.9059500959692899\n",
      "             precision    recall  f1-score   support\n",
      "\n",
      "         -1       0.91      0.95      0.93       716\n",
      "          0       0.89      0.80      0.84       326\n",
      "\n",
      "avg / total       0.91      0.91      0.90      1042\n",
      "\n",
      "confusion_matrix: \n",
      "[[682  34]\n",
      " [ 64 262]]\n"
     ]
    }
   ],
   "source": [
    "y_pred_class = pipeline.predict(X_test)\n",
    "print('accuracy_score: ', metrics.accuracy_score(y_test, y_pred_class)) # 指所有分类正确的百分比\n",
    "print(metrics.classification_report(y_test, y_pred_class))\n",
    "print('confusion_matrix: ')\n",
    "print( metrics.confusion_matrix(y_test, y_pred_class))"
   ]
  },
  {
   "cell_type": "markdown",
   "metadata": {},
   "source": [
    "## 概率结果"
   ]
  },
  {
   "cell_type": "code",
   "execution_count": 32,
   "metadata": {
    "ExecuteTime": {
     "end_time": "2018-11-13T07:46:00.800607Z",
     "start_time": "2018-11-13T07:45:59.749547Z"
    }
   },
   "outputs": [
    {
     "data": {
      "text/plain": [
       "<matplotlib.axes._subplots.AxesSubplot at 0x1b141780>"
      ]
     },
     "execution_count": 32,
     "metadata": {},
     "output_type": "execute_result"
    },
    {
     "data": {
      "image/png": "[encoded data removed]",
      "text/plain": [
       "<matplotlib.figure.Figure at 0x1b141f60>"
      ]
     },
     "metadata": {},
     "output_type": "display_data"
    }
   ],
   "source": [
    "y_pred_prob = pipeline.predict_proba(X_test)\n",
    "pd.DataFrame(y_pred_prob.max(axis = 1)).plot.hist(bins = 100)"
   ]
  },
  {
   "cell_type": "code",
   "execution_count": 34,
   "metadata": {
    "ExecuteTime": {
     "end_time": "2018-11-13T07:46:08.028021Z",
     "start_time": "2018-11-13T07:46:08.011020Z"
    },
    "collapsed": true
   },
   "outputs": [],
   "source": [
    "# sel_data_stat = plot_class_proba(y_pred_class, y_pred_prob)\n",
    "# sel_data_stat"
   ]
  },
  {
   "cell_type": "markdown",
   "metadata": {},
   "source": [
    "## K-fold"
   ]
  },
  {
   "cell_type": "code",
   "execution_count": 29,
   "metadata": {
    "ExecuteTime": {
     "end_time": "2018-11-13T07:45:32.088965Z",
     "start_time": "2018-11-13T07:43:31.494568Z"
    }
   },
   "outputs": [
    {
     "name": "stdout",
     "output_type": "stream",
     "text": [
      "d:\\xh\\python_project\\tool\\toolkits\\nlp\n",
      "data_raw:  (3473, 4)\n",
      "---- 1\n",
      "0.996040316774658\n",
      "accuracy_score:  0.920863309352518\n",
      "             precision    recall  f1-score   support\n",
      "\n",
      "         -1       0.92      0.96      0.94       460\n",
      "          0       0.92      0.84      0.88       235\n",
      "\n",
      "avg / total       0.92      0.92      0.92       695\n",
      "\n",
      "confusion_matrix: \n",
      "[[443  17]\n",
      " [ 38 197]]\n",
      "---- 2\n",
      "0.9964002879769619\n",
      "accuracy_score:  0.9294964028776979\n",
      "             precision    recall  f1-score   support\n",
      "\n",
      "         -1       0.94      0.96      0.95       492\n",
      "          0       0.90      0.85      0.88       203\n",
      "\n",
      "avg / total       0.93      0.93      0.93       695\n",
      "\n",
      "confusion_matrix: \n",
      "[[473  19]\n",
      " [ 30 173]]\n",
      "---- 3\n",
      "0.9946004319654428\n",
      "accuracy_score:  0.935251798561151\n",
      "             precision    recall  f1-score   support\n",
      "\n",
      "         -1       0.94      0.97      0.95       482\n",
      "          0       0.92      0.86      0.89       213\n",
      "\n",
      "avg / total       0.93      0.94      0.93       695\n",
      "\n",
      "confusion_matrix: \n",
      "[[467  15]\n",
      " [ 30 183]]\n",
      "---- 4\n",
      "0.9949622166246851\n",
      "accuracy_score:  0.9135446685878963\n",
      "             precision    recall  f1-score   support\n",
      "\n",
      "         -1       0.91      0.96      0.94       459\n",
      "          0       0.92      0.82      0.86       235\n",
      "\n",
      "avg / total       0.91      0.91      0.91       694\n",
      "\n",
      "confusion_matrix: \n",
      "[[442  17]\n",
      " [ 43 192]]\n",
      "---- 5\n",
      "0.9949622166246851\n",
      "accuracy_score:  0.930835734870317\n",
      "             precision    recall  f1-score   support\n",
      "\n",
      "         -1       0.93      0.97      0.95       479\n",
      "          0       0.93      0.84      0.88       215\n",
      "\n",
      "avg / total       0.93      0.93      0.93       694\n",
      "\n",
      "confusion_matrix: \n",
      "[[465  14]\n",
      " [ 34 181]]\n",
      "kfold_result:  (3473, 7)\n"
     ]
    }
   ],
   "source": [
    "pipeline = Pipeline([\n",
    "    ('features', FeatureUnion([\n",
    "        ('tf_idf', Pipeline([\n",
    "            ('counts', CountVectorizer(max_df=0.95, min_df=2)),\n",
    "            ('tf_idf', TfidfTransformer()),\n",
    "            ('chi', SelectKBest(chi2, k=2000))\n",
    "        ])),\n",
    "        ('len_stats', myclass_circ.StatsFeatures_tendency()),\n",
    "    ])),\n",
    "    ('standard', StandardScaler(with_mean=False)),\n",
    "    ('classifier', XGBClassifier(max_depth=7,objective='multi:softmax', num_class=2))\n",
    "])\n",
    "\n",
    "filename = 'circ_tendency_label_proba_20181113.xlsx'\n",
    "cal_kfold(title_content, label, pipeline, 'circ_result_tendency', filename, class_name_dict)"
   ]
  },
  {
   "cell_type": "markdown",
   "metadata": {},
   "source": [
    "## 保存模型"
   ]
  },
  {
   "cell_type": "code",
   "execution_count": 56,
   "metadata": {
    "ExecuteTime": {
     "end_time": "2018-11-13T09:11:41.000780Z",
     "start_time": "2018-11-13T09:11:21.565668Z"
    }
   },
   "outputs": [
    {
     "name": "stdout",
     "output_type": "stream",
     "text": [
      "d:\\xh\\python_project\\tool\\toolkits\\nlp\n",
      "0.9916498704290239\n"
     ]
    },
    {
     "data": {
      "text/plain": [
       "Pipeline(memory=None,\n",
       "     steps=[('features', FeatureUnion(n_jobs=1,\n",
       "       transformer_list=[('tf_idf', Pipeline(memory=None,\n",
       "     steps=[('counts', CountVectorizer(analyzer='word', binary=False, decode_error='strict',\n",
       "        dtype=<class 'numpy.int64'>, encoding='utf-8', input='content',\n",
       "        lowercase=True, max_df=0.9...tate=0, reg_alpha=0, reg_lambda=1, scale_pos_weight=1,\n",
       "       seed=None, silent=True, subsample=1))])"
      ]
     },
     "execution_count": 56,
     "metadata": {},
     "output_type": "execute_result"
    }
   ],
   "source": [
    "pipeline = Pipeline([\n",
    "    ('features', FeatureUnion([\n",
    "        ('tf_idf', Pipeline([\n",
    "            ('counts', CountVectorizer(max_df=0.95, min_df=2)),\n",
    "            ('tf_idf', TfidfTransformer()),\n",
    "            ('chi', SelectKBest(chi2, k=2000))\n",
    "        ])),\n",
    "        ('len_stats', myclass_circ.StatsFeatures_tendency()),\n",
    "    ])),\n",
    "    ('standard', StandardScaler(with_mean=False)),\n",
    "    ('classifier', XGBClassifier(max_depth=7,objective='multi:softmax', num_class=2))\n",
    "])\n",
    "\n",
    "pipeline.fit(title_content, label)\n",
    "print(pipeline.score(title_content, label))\n",
    "pipeline"
   ]
  },
  {
   "cell_type": "code",
   "execution_count": 57,
   "metadata": {
    "ExecuteTime": {
     "end_time": "2018-11-13T09:11:42.372858Z",
     "start_time": "2018-11-13T09:11:41.274795Z"
    }
   },
   "outputs": [
    {
     "data": {
      "text/plain": [
       "['model/circ_chapter_tendency_1113.pkl.z']"
      ]
     },
     "execution_count": 57,
     "metadata": {},
     "output_type": "execute_result"
    }
   ],
   "source": [
    "from sklearn.externals import joblib\n",
    "joblib.dump(pipeline, \"model/circ_chapter_tendency_1113.pkl.z\")"
   ]
  },
  {
   "cell_type": "markdown",
   "metadata": {
    "collapsed": true
   },
   "source": [
    "# 保险业：3 预警模型"
   ]
  },
  {
   "cell_type": "markdown",
   "metadata": {},
   "source": [
    "## 导入与分割数据"
   ]
  },
  {
   "cell_type": "code",
   "execution_count": null,
   "metadata": {
    "ExecuteTime": {
     "start_time": "2018-09-11T08:01:33.627Z"
    },
    "collapsed": true
   },
   "outputs": [],
   "source": [
    "cbrc_filepath_class = 'circ_result_warn/corpus/'\n",
    "title_content, label, title, content = load_save_plot_file.title_content_label(cbrc_filepath_class)"
   ]
  },
  {
   "cell_type": "code",
   "execution_count": null,
   "metadata": {
    "ExecuteTime": {
     "start_time": "2018-09-11T08:01:33.632Z"
    },
    "collapsed": true
   },
   "outputs": [],
   "source": [
    "X_train, X_test, y_train, y_test = train_test_split(title_content, label, test_size=0.3, random_state=42)\n",
    "print('训练集：',len(y_train))\n",
    "print('训练集-各类数量：',Counter(y_train))\n",
    "print('测试集：',len(y_test))\n",
    "print('测试集-各类数量：',Counter(y_test))"
   ]
  },
  {
   "cell_type": "markdown",
   "metadata": {},
   "source": [
    "## train & test"
   ]
  },
  {
   "cell_type": "code",
   "execution_count": null,
   "metadata": {
    "ExecuteTime": {
     "start_time": "2018-09-11T08:01:33.638Z"
    },
    "collapsed": true
   },
   "outputs": [],
   "source": [
    "pipeline = Pipeline([\n",
    "    ('features', FeatureUnion([\n",
    "        ('tf_idf', Pipeline([\n",
    "            ('counts', CountVectorizer(max_df=0.95, min_df=2)),\n",
    "            ('tf_idf', TfidfTransformer()),\n",
    "            ('chi', SelectKBest(chi2, k=2000))\n",
    "        ])),\n",
    "        ('len_stats', myclass_circ.StatsFeatures_warn()),\n",
    "    ])),\n",
    "    ('standard', StandardScaler(with_mean=False)),\n",
    "    ('classifier', XGBClassifier(max_depth=7,objective='multi:softmax', num_class=8))\n",
    "])\n",
    "\n",
    "pipeline.fit(X_train, y_train)\n",
    "print(pipeline.score(X_train, y_train))\n",
    "pipeline"
   ]
  },
  {
   "cell_type": "code",
   "execution_count": null,
   "metadata": {
    "ExecuteTime": {
     "start_time": "2018-09-11T08:01:33.642Z"
    },
    "collapsed": true
   },
   "outputs": [],
   "source": [
    "y_pred_class = pipeline.predict(X_test)\n",
    "print('accuracy_score: ', metrics.accuracy_score(y_test, y_pred_class)) # 指所有分类正确的百分比\n",
    "print(metrics.classification_report(y_test, y_pred_class))\n",
    "print('confusion_matrix: ')\n",
    "print( metrics.confusion_matrix(y_test, y_pred_class))"
   ]
  },
  {
   "cell_type": "markdown",
   "metadata": {},
   "source": [
    "## 概率结果"
   ]
  },
  {
   "cell_type": "code",
   "execution_count": null,
   "metadata": {
    "ExecuteTime": {
     "start_time": "2018-09-11T08:01:33.650Z"
    },
    "collapsed": true
   },
   "outputs": [],
   "source": [
    "y_pred_prob = pipeline.predict_proba(X_test)\n",
    "pd.DataFrame(y_pred_prob.max(axis = 1)).plot.hist(bins = 100)"
   ]
  },
  {
   "cell_type": "code",
   "execution_count": null,
   "metadata": {
    "ExecuteTime": {
     "start_time": "2018-09-11T08:01:33.656Z"
    },
    "collapsed": true
   },
   "outputs": [],
   "source": [
    "sel_data_stat = plot_class_proba(y_pred_class, y_pred_prob)\n",
    "sel_data_stat"
   ]
  },
  {
   "cell_type": "markdown",
   "metadata": {},
   "source": [
    "## K-fold"
   ]
  },
  {
   "cell_type": "code",
   "execution_count": null,
   "metadata": {
    "ExecuteTime": {
     "start_time": "2018-09-11T08:01:33.664Z"
    },
    "collapsed": true
   },
   "outputs": [],
   "source": [
    "pipeline = Pipeline([\n",
    "    ('features', FeatureUnion([\n",
    "        ('tf_idf', Pipeline([\n",
    "            ('counts', CountVectorizer(max_df=0.95, min_df=2)),\n",
    "            ('tf_idf', TfidfTransformer()),\n",
    "            ('chi', SelectKBest(chi2, k=2000))\n",
    "        ])),\n",
    "        ('len_stats', myclass_circ.StatsFeatures_warn()),\n",
    "    ])),\n",
    "    ('standard', StandardScaler(with_mean=False)),\n",
    "    ('classifier', XGBClassifier(max_depth=7,objective='multi:softmax', num_class=8))\n",
    "])\n",
    "\n",
    "cal_kfold(title_content, label, pipeline)"
   ]
  },
  {
   "cell_type": "markdown",
   "metadata": {},
   "source": [
    "## 保存模型"
   ]
  },
  {
   "cell_type": "code",
   "execution_count": null,
   "metadata": {
    "ExecuteTime": {
     "start_time": "2018-09-11T08:01:33.671Z"
    },
    "collapsed": true
   },
   "outputs": [],
   "source": [
    "pipeline = Pipeline([\n",
    "    ('features', FeatureUnion([\n",
    "        ('tf_idf', Pipeline([\n",
    "            ('counts', CountVectorizer(max_df=0.95, min_df=2)),\n",
    "            ('tf_idf', TfidfTransformer()),\n",
    "            ('chi', SelectKBest(chi2, k=2000))\n",
    "        ])),\n",
    "        ('len_stats', myclass_circ.StatsFeatures_warn()),\n",
    "    ])),\n",
    "    ('standard', StandardScaler(with_mean=False)),\n",
    "    ('classifier', XGBClassifier(max_depth=7,objective='multi:softmax', num_class=8))\n",
    "])\n",
    "\n",
    "pipeline.fit(title_content, label)\n",
    "print(pipeline.score(title_content, label))\n",
    "pipeline"
   ]
  },
  {
   "cell_type": "code",
   "execution_count": null,
   "metadata": {
    "ExecuteTime": {
     "start_time": "2018-09-11T08:01:33.676Z"
    },
    "collapsed": true
   },
   "outputs": [],
   "source": [
    "from sklearn.externals import joblib\n",
    "joblib.dump(pipeline, \"model/circ_warning_0621.pkl.z\")"
   ]
  },
  {
   "cell_type": "markdown",
   "metadata": {},
   "source": [
    "# 银行业：1 八分类"
   ]
  },
  {
   "cell_type": "markdown",
   "metadata": {},
   "source": [
    "## 导入与分割数据"
   ]
  },
  {
   "cell_type": "code",
   "execution_count": 7,
   "metadata": {
    "ExecuteTime": {
     "end_time": "2018-11-05T03:24:39.138557Z",
     "start_time": "2018-11-05T03:24:38.646529Z"
    }
   },
   "outputs": [
    {
     "name": "stdout",
     "output_type": "stream",
     "text": [
      "title num:  14192\n",
      "['月线 反转 阴包 阳 原油 高 先空 股友 zevS 东方 财富网 博客', '汇乔 金色 名 售 价格 元 平方米']\n",
      "content num:  14192\n",
      "title_content num:  14192\n",
      "label num:  14192\n",
      "['噪音', '噪音', '噪音', '噪音', '噪音']\n"
     ]
    }
   ],
   "source": [
    "cbrc_filepath_class = 'cbrc_result_class/corpus/'\n",
    "title_content, label, title, content = load_save_plot_file.title_content_label(cbrc_filepath_class)"
   ]
  },
  {
   "cell_type": "code",
   "execution_count": 8,
   "metadata": {
    "ExecuteTime": {
     "end_time": "2018-11-05T03:24:40.901658Z",
     "start_time": "2018-11-05T03:24:40.875656Z"
    }
   },
   "outputs": [
    {
     "data": {
      "text/plain": [
       "{1: '监管',\n",
       " 2: '行业',\n",
       " 3: '产品销售',\n",
       " 4: '资本市场',\n",
       " 5: '公司内部管理',\n",
       " 6: '消费服务',\n",
       " 7: '其他相关报道',\n",
       " 8: '噪音'}"
      ]
     },
     "execution_count": 8,
     "metadata": {},
     "output_type": "execute_result"
    }
   ],
   "source": [
    "label_dic={'监管':1,'行业':2,'产品销售':3,'资本市场':4,'公司内部管理':5,'消费服务':6,'其他相关报道':7,'噪音':8}\n",
    "class_name_dict = {v: k for k, v in label_dic.items()}\n",
    "class_name_dict"
   ]
  },
  {
   "cell_type": "code",
   "execution_count": 9,
   "metadata": {
    "ExecuteTime": {
     "end_time": "2018-11-05T03:24:41.799709Z",
     "start_time": "2018-11-05T03:24:41.788709Z"
    }
   },
   "outputs": [
    {
     "data": {
      "text/plain": [
       "[8, 8, 8, 8, 8]"
      ]
     },
     "execution_count": 9,
     "metadata": {},
     "output_type": "execute_result"
    }
   ],
   "source": [
    "label = [label_dic[l] for l in label]\n",
    "label[:5]"
   ]
  },
  {
   "cell_type": "code",
   "execution_count": 10,
   "metadata": {
    "ExecuteTime": {
     "end_time": "2018-11-05T03:24:42.913773Z",
     "start_time": "2018-11-05T03:24:42.879771Z"
    }
   },
   "outputs": [
    {
     "name": "stdout",
     "output_type": "stream",
     "text": [
      "训练集： 9934\n",
      "训练集-各类数量： Counter({8: 1924, 7: 1430, 2: 1252, 6: 1183, 1: 1133, 4: 1123, 5: 973, 3: 916})\n",
      "测试集： 4258\n",
      "测试集-各类数量： Counter({8: 797, 7: 600, 2: 534, 6: 527, 1: 507, 4: 456, 5: 442, 3: 395})\n"
     ]
    }
   ],
   "source": [
    "X_train, X_test, y_train, y_test = train_test_split(title_content, label, test_size=0.3, random_state=42)\n",
    "print('训练集：',len(y_train))\n",
    "print('训练集-各类数量：',Counter(y_train))\n",
    "print('测试集：',len(y_test))\n",
    "print('测试集-各类数量：',Counter(y_test))"
   ]
  },
  {
   "cell_type": "markdown",
   "metadata": {},
   "source": [
    "## 生成词典"
   ]
  },
  {
   "cell_type": "code",
   "execution_count": 11,
   "metadata": {
    "ExecuteTime": {
     "end_time": "2018-11-05T03:33:31.337997Z",
     "start_time": "2018-11-05T03:24:52.814339Z"
    }
   },
   "outputs": [
    {
     "name": "stderr",
     "output_type": "stream",
     "text": [
      "Building prefix dict from the default dictionary ...\n",
      "Loading model from cache C:\\Users\\ADMINI~1\\AppData\\Local\\Temp\\jieba.cache\n"
     ]
    },
    {
     "name": "stdout",
     "output_type": "stream",
     "text": [
      "class_label:  [1 2 3 4 5 6 7 8]\n",
      "\n",
      "依据类别生成关键词：\n"
     ]
    },
    {
     "name": "stderr",
     "output_type": "stream",
     "text": [
      "Loading model cost 1.156 seconds.\n",
      "Prefix dict has been built succesfully.\n"
     ]
    },
    {
     "name": "stdout",
     "output_type": "stream",
     "text": [
      "['金融', '监管', '风险', '银行', '经济', '中国', '机构', '工作', '发展', '管理']\n",
      "keywords num:  400\n",
      "类别：1 -- 文本个数：1640，label个数:1640，取词个数：400\n",
      "['银行', '金融', '中国', '业务', '市场', '风险', '发展', '企业', '贷款', '资金']\n",
      "keywords num:  400\n",
      "类别：2 -- 文本个数：1786，label个数:1786，取词个数：400\n",
      "['信用卡', '银行', '活动', '产品', '理财', '优惠', '观影', '客户', '享受', '投资']\n",
      "keywords num:  400\n",
      "类别：3 -- 文本个数：1311，label个数:1311，取词个数：400\n",
      "['公司', '市场', '银行', '投资', '股份', '股东', '资金', '中国', '有限公司', '经济']\n",
      "keywords num:  400\n",
      "类别：4 -- 文本个数：1579，label个数:1579，取词个数：400\n",
      "['银行', '分行', '业务', '金融', '发展', '有限公司', '服务', '行政处罚', '中国', '违规']\n",
      "keywords num:  400\n",
      "类别：5 -- 文本个数：1415，label个数:1415，取词个数：400\n",
      "['银行', '服务', '信用卡', '业务', '办理', '贷款', '客户', '申请', '金融', '支行']\n",
      "keywords num:  400\n",
      "类别：6 -- 文本个数：1710，label个数:1710，取词个数：400\n",
      "['活动', '银行', '金融', '支行', '分行', '知识', '中国', '宣传', '工作', '批复']\n",
      "keywords num:  400\n",
      "类别：7 -- 文本个数：2030，label个数:2030，取词个数：400\n",
      "['公司', '中国', '企业', '市场', '发展', '投资', '工作', '银行', '经济', '服务']\n",
      "keywords num:  400\n",
      "类别：8 -- 文本个数：2721，label个数:2721，取词个数：400\n",
      "\n",
      "去除词（key_count_list）个数： 198\n",
      "词典词（key_dict）个数： 1368\n",
      "\n",
      "前后对比：去除超过阈值的词\n",
      "['保险公司', '银行业', '监督管理', '保险', '主席', '实体', '防范', '整治', '制度', '乱象']\n",
      "类别：1 -- 去除前：400， 去除后：243\n",
      "['银行业', '收益率', '资管', '流动性', '美国', '实体', '杠杆', '上浮', '月份', '转型']\n",
      "类别：2 -- 去除前：400， 去除后：217\n",
      "['优惠', '观影', '享受', '点击', '影城', '购票', '刷卡', '电影', '原文', '额度']\n",
      "类别：3 -- 去除前：400， 去除后：267\n",
      "['A股', '板块', '股票', '美国', '指数', '控股', '持有', '下跌', '质押', '个股']\n",
      "类别：4 -- 去除前：400， 去除后：241\n",
      "['行政处罚', '罚款', '银行业', '中华人民共和国', '分局', '处罚', '违法', '违反', '银监', '行长']\n",
      "类别：5 -- 去除前：400， 去除后：223\n",
      "['电话', '还款', '额度', '工作人员', '小时', '客服', '利息', '回答', '柜台', '投诉']\n",
      "类别：6 -- 去除前：400， 去除后：251\n",
      "['知识', '批复', '资格', '任职', '分局', '行政许可', '核准', '到任', '普及', '事项']\n",
      "类别：7 -- 去除前：400， 去除后：260\n",
      "['美国', '生活', '世界', '孩子', '电话', '发现', '生产', '招聘', '教育', '学习']\n",
      "类别：8 -- 去除前：400， 去除后：215\n",
      "['终止', '网友', '股指', '起购', '对面', '购票', '历史', '票价', '方案', '找到']\n",
      "len(keywords):  1170\n"
     ]
    }
   ],
   "source": [
    "g_k = generate_keywords(400)\n",
    "g_k.gen_keywords_by_class(title_content, label, v_thre = 4)"
   ]
  },
  {
   "cell_type": "code",
   "execution_count": 12,
   "metadata": {
    "ExecuteTime": {
     "end_time": "2018-11-05T03:33:32.434060Z",
     "start_time": "2018-11-05T03:33:32.425059Z"
    }
   },
   "outputs": [
    {
     "name": "stdout",
     "output_type": "stream",
     "text": [
      "file_path:  d:\\xh\\python_project\\tool\\toolkits\\nlp\\corpus\\keywords_b.txt\n"
     ]
    }
   ],
   "source": [
    "g_k.save_txt('keywords_b.txt')"
   ]
  },
  {
   "cell_type": "markdown",
   "metadata": {},
   "source": [
    "## train & test"
   ]
  },
  {
   "cell_type": "code",
   "execution_count": 13,
   "metadata": {
    "ExecuteTime": {
     "end_time": "2018-11-05T03:33:33.500121Z",
     "start_time": "2018-11-05T03:33:33.487120Z"
    }
   },
   "outputs": [
    {
     "name": "stdout",
     "output_type": "stream",
     "text": [
      "d:\\xh\\python_project\\tool\\toolkits\\nlp\n",
      "keywords num:  1170\n"
     ]
    },
    {
     "data": {
      "text/plain": [
       "1170"
      ]
     },
     "execution_count": 13,
     "metadata": {},
     "output_type": "execute_result"
    }
   ],
   "source": [
    "a = myclass_cbrc.Statskeywords_cor(5000)\n",
    "len(a.keywords)"
   ]
  },
  {
   "cell_type": "code",
   "execution_count": 14,
   "metadata": {
    "ExecuteTime": {
     "end_time": "2018-11-05T03:44:03.083131Z",
     "start_time": "2018-11-05T03:33:34.653187Z"
    }
   },
   "outputs": [
    {
     "name": "stdout",
     "output_type": "stream",
     "text": [
      "d:\\xh\\python_project\\tool\\toolkits\\nlp\n",
      "d:\\xh\\python_project\\tool\\toolkits\\nlp\n",
      "keywords num:  1170\n",
      "0.9913428628951078\n"
     ]
    },
    {
     "data": {
      "text/plain": [
       "Pipeline(memory=None,\n",
       "     steps=[('features', FeatureUnion(n_jobs=1,\n",
       "       transformer_list=[('tf_idf', Pipeline(memory=None,\n",
       "     steps=[('counts', CountVectorizer(analyzer='word', binary=False, decode_error='strict',\n",
       "        dtype=<class 'numpy.int64'>, encoding='utf-8', input='content',\n",
       "        lowercase=True, max_df=0.9...tate=0, reg_alpha=0, reg_lambda=1, scale_pos_weight=1,\n",
       "       seed=None, silent=True, subsample=1))])"
      ]
     },
     "execution_count": 14,
     "metadata": {},
     "output_type": "execute_result"
    }
   ],
   "source": [
    "pipeline = Pipeline([\n",
    "    ('features', FeatureUnion([\n",
    "        ('tf_idf', Pipeline([\n",
    "            ('counts', CountVectorizer(max_df=0.95, min_df=2)),\n",
    "            ('tf_idf', TfidfTransformer()),\n",
    "            ('chi', SelectKBest(chi2, k=20000))\n",
    "        ])),\n",
    "        ('len_stats', myclass_cbrc.StatsFeatures_cor()),\n",
    "        ('tf', myclass_cbrc.Statskeywords_cor(topk = 5000))\n",
    "    ])),\n",
    "    ('standard', StandardScaler(with_mean=False)),\n",
    "    ('classifier', XGBClassifier(max_depth=7,objective='multi:softmax', num_class=8))\n",
    "])\n",
    "\n",
    "pipeline.fit(X_train, y_train)\n",
    "print(pipeline.score(X_train, y_train))\n",
    "pipeline"
   ]
  },
  {
   "cell_type": "code",
   "execution_count": 15,
   "metadata": {
    "ExecuteTime": {
     "end_time": "2018-11-05T03:44:12.047644Z",
     "start_time": "2018-11-05T03:44:03.992183Z"
    }
   },
   "outputs": [
    {
     "name": "stdout",
     "output_type": "stream",
     "text": [
      "accuracy_score:  0.8323156411460779\n",
      "             precision    recall  f1-score   support\n",
      "\n",
      "          1       0.87      0.92      0.89       507\n",
      "          2       0.79      0.82      0.81       534\n",
      "          3       0.87      0.87      0.87       395\n",
      "          4       0.84      0.79      0.81       456\n",
      "          5       0.83      0.77      0.80       442\n",
      "          6       0.81      0.77      0.79       527\n",
      "          7       0.86      0.91      0.89       600\n",
      "          8       0.80      0.81      0.80       797\n",
      "\n",
      "avg / total       0.83      0.83      0.83      4258\n",
      "\n",
      "confusion_matrix: \n",
      "[[465  16   0   2   2   2   2  18]\n",
      " [ 15 438   6  15  15  11   9  25]\n",
      " [  1  10 344   1   2  19   7  11]\n",
      " [ 15  18   2 361   6  16   2  36]\n",
      " [  5  28   1  15 340  16  23  14]\n",
      " [  6  15  29   2  18 406  14  37]\n",
      " [  2   8   3   2  14   6 546  19]\n",
      " [ 25  18  11  34  11  24  30 644]]\n"
     ]
    }
   ],
   "source": [
    "y_pred_class = pipeline.predict(X_test)\n",
    "print('accuracy_score: ', metrics.accuracy_score(y_test, y_pred_class)) # 指所有分类正确的百分比\n",
    "print(metrics.classification_report(y_test, y_pred_class))\n",
    "print('confusion_matrix: ')\n",
    "print( metrics.confusion_matrix(y_test, y_pred_class))"
   ]
  },
  {
   "cell_type": "markdown",
   "metadata": {},
   "source": [
    "## 概率结果"
   ]
  },
  {
   "cell_type": "code",
   "execution_count": 16,
   "metadata": {
    "ExecuteTime": {
     "end_time": "2018-11-05T03:44:21.867205Z",
     "start_time": "2018-11-05T03:44:12.947695Z"
    }
   },
   "outputs": [
    {
     "data": {
      "text/plain": [
       "<matplotlib.axes._subplots.AxesSubplot at 0x1bdc8fd0>"
      ]
     },
     "execution_count": 16,
     "metadata": {},
     "output_type": "execute_result"
    },
    {
     "data": {
      "image/png": "[encoded data removed]",
      "text/plain": [
       "<matplotlib.figure.Figure at 0x385e198>"
      ]
     },
     "metadata": {},
     "output_type": "display_data"
    }
   ],
   "source": [
    "y_pred_prob = pipeline.predict_proba(X_test)\n",
    "pd.DataFrame(y_pred_prob.max(axis = 1)).plot.hist(bins = 100)"
   ]
  },
  {
   "cell_type": "code",
   "execution_count": 17,
   "metadata": {
    "ExecuteTime": {
     "end_time": "2018-11-05T03:44:27.443524Z",
     "start_time": "2018-11-05T03:44:22.853262Z"
    }
   },
   "outputs": [
    {
     "data": {
      "text/html": [
       "<div>\n",
       "<style scoped>\n",
       "    .dataframe tbody tr th:only-of-type {\n",
       "        vertical-align: middle;\n",
       "    }\n",
       "\n",
       "    .dataframe tbody tr th {\n",
       "        vertical-align: top;\n",
       "    }\n",
       "\n",
       "    .dataframe thead th {\n",
       "        text-align: right;\n",
       "    }\n",
       "</style>\n",
       "<table border=\"1\" class=\"dataframe\">\n",
       "  <thead>\n",
       "    <tr style=\"text-align: right;\">\n",
       "      <th>proba</th>\n",
       "      <th>0.2</th>\n",
       "      <th>0.3</th>\n",
       "      <th>0.4</th>\n",
       "      <th>0.5</th>\n",
       "      <th>0.6</th>\n",
       "      <th>0.7</th>\n",
       "      <th>0.8</th>\n",
       "      <th>0.9</th>\n",
       "      <th>1.0</th>\n",
       "      <th>sum</th>\n",
       "    </tr>\n",
       "    <tr>\n",
       "      <th>predict_label</th>\n",
       "      <th></th>\n",
       "      <th></th>\n",
       "      <th></th>\n",
       "      <th></th>\n",
       "      <th></th>\n",
       "      <th></th>\n",
       "      <th></th>\n",
       "      <th></th>\n",
       "      <th></th>\n",
       "      <th></th>\n",
       "    </tr>\n",
       "  </thead>\n",
       "  <tbody>\n",
       "    <tr>\n",
       "      <th>1</th>\n",
       "      <td>0.0</td>\n",
       "      <td>6.0</td>\n",
       "      <td>18.0</td>\n",
       "      <td>29.0</td>\n",
       "      <td>37.0</td>\n",
       "      <td>28.0</td>\n",
       "      <td>44.0</td>\n",
       "      <td>97.0</td>\n",
       "      <td>275.0</td>\n",
       "      <td>534.0</td>\n",
       "    </tr>\n",
       "    <tr>\n",
       "      <th>2</th>\n",
       "      <td>2.0</td>\n",
       "      <td>22.0</td>\n",
       "      <td>31.0</td>\n",
       "      <td>40.0</td>\n",
       "      <td>58.0</td>\n",
       "      <td>41.0</td>\n",
       "      <td>53.0</td>\n",
       "      <td>146.0</td>\n",
       "      <td>158.0</td>\n",
       "      <td>551.0</td>\n",
       "    </tr>\n",
       "    <tr>\n",
       "      <th>3</th>\n",
       "      <td>0.0</td>\n",
       "      <td>11.0</td>\n",
       "      <td>22.0</td>\n",
       "      <td>23.0</td>\n",
       "      <td>24.0</td>\n",
       "      <td>30.0</td>\n",
       "      <td>36.0</td>\n",
       "      <td>80.0</td>\n",
       "      <td>170.0</td>\n",
       "      <td>396.0</td>\n",
       "    </tr>\n",
       "    <tr>\n",
       "      <th>4</th>\n",
       "      <td>1.0</td>\n",
       "      <td>8.0</td>\n",
       "      <td>19.0</td>\n",
       "      <td>34.0</td>\n",
       "      <td>39.0</td>\n",
       "      <td>44.0</td>\n",
       "      <td>52.0</td>\n",
       "      <td>136.0</td>\n",
       "      <td>99.0</td>\n",
       "      <td>432.0</td>\n",
       "    </tr>\n",
       "    <tr>\n",
       "      <th>5</th>\n",
       "      <td>2.0</td>\n",
       "      <td>14.0</td>\n",
       "      <td>38.0</td>\n",
       "      <td>35.0</td>\n",
       "      <td>29.0</td>\n",
       "      <td>41.0</td>\n",
       "      <td>40.0</td>\n",
       "      <td>62.0</td>\n",
       "      <td>147.0</td>\n",
       "      <td>408.0</td>\n",
       "    </tr>\n",
       "    <tr>\n",
       "      <th>6</th>\n",
       "      <td>2.0</td>\n",
       "      <td>20.0</td>\n",
       "      <td>29.0</td>\n",
       "      <td>43.0</td>\n",
       "      <td>34.0</td>\n",
       "      <td>34.0</td>\n",
       "      <td>50.0</td>\n",
       "      <td>168.0</td>\n",
       "      <td>120.0</td>\n",
       "      <td>500.0</td>\n",
       "    </tr>\n",
       "    <tr>\n",
       "      <th>7</th>\n",
       "      <td>1.0</td>\n",
       "      <td>13.0</td>\n",
       "      <td>22.0</td>\n",
       "      <td>20.0</td>\n",
       "      <td>27.0</td>\n",
       "      <td>25.0</td>\n",
       "      <td>52.0</td>\n",
       "      <td>109.0</td>\n",
       "      <td>364.0</td>\n",
       "      <td>633.0</td>\n",
       "    </tr>\n",
       "    <tr>\n",
       "      <th>8</th>\n",
       "      <td>5.0</td>\n",
       "      <td>25.0</td>\n",
       "      <td>37.0</td>\n",
       "      <td>73.0</td>\n",
       "      <td>68.0</td>\n",
       "      <td>80.0</td>\n",
       "      <td>98.0</td>\n",
       "      <td>186.0</td>\n",
       "      <td>232.0</td>\n",
       "      <td>804.0</td>\n",
       "    </tr>\n",
       "    <tr>\n",
       "      <th>sum</th>\n",
       "      <td>13.0</td>\n",
       "      <td>119.0</td>\n",
       "      <td>216.0</td>\n",
       "      <td>297.0</td>\n",
       "      <td>316.0</td>\n",
       "      <td>323.0</td>\n",
       "      <td>425.0</td>\n",
       "      <td>984.0</td>\n",
       "      <td>1565.0</td>\n",
       "      <td>4258.0</td>\n",
       "    </tr>\n",
       "  </tbody>\n",
       "</table>\n",
       "</div>"
      ],
      "text/plain": [
       "proba           0.2    0.3    0.4    0.5    0.6    0.7    0.8    0.9     1.0  \\\n",
       "predict_label                                                                  \n",
       "1               0.0    6.0   18.0   29.0   37.0   28.0   44.0   97.0   275.0   \n",
       "2               2.0   22.0   31.0   40.0   58.0   41.0   53.0  146.0   158.0   \n",
       "3               0.0   11.0   22.0   23.0   24.0   30.0   36.0   80.0   170.0   \n",
       "4               1.0    8.0   19.0   34.0   39.0   44.0   52.0  136.0    99.0   \n",
       "5               2.0   14.0   38.0   35.0   29.0   41.0   40.0   62.0   147.0   \n",
       "6               2.0   20.0   29.0   43.0   34.0   34.0   50.0  168.0   120.0   \n",
       "7               1.0   13.0   22.0   20.0   27.0   25.0   52.0  109.0   364.0   \n",
       "8               5.0   25.0   37.0   73.0   68.0   80.0   98.0  186.0   232.0   \n",
       "sum            13.0  119.0  216.0  297.0  316.0  323.0  425.0  984.0  1565.0   \n",
       "\n",
       "proba             sum  \n",
       "predict_label          \n",
       "1               534.0  \n",
       "2               551.0  \n",
       "3               396.0  \n",
       "4               432.0  \n",
       "5               408.0  \n",
       "6               500.0  \n",
       "7               633.0  \n",
       "8               804.0  \n",
       "sum            4258.0  "
      ]
     },
     "execution_count": 17,
     "metadata": {},
     "output_type": "execute_result"
    },
    {
     "data": {
      "image/png": "[encoded data removed]",
      "text/plain": [
       "<matplotlib.figure.Figure at 0x1ae61c88>"
      ]
     },
     "metadata": {},
     "output_type": "display_data"
    }
   ],
   "source": [
    "sel_data_stat = plot_class_proba(y_pred_class, y_pred_prob.max(axis = 1))\n",
    "sel_data_stat"
   ]
  },
  {
   "cell_type": "markdown",
   "metadata": {},
   "source": [
    "## K-fold"
   ]
  },
  {
   "cell_type": "code",
   "execution_count": 10,
   "metadata": {
    "ExecuteTime": {
     "end_time": "2018-09-18T03:41:46.392036Z",
     "start_time": "2018-09-18T03:21:02.995901Z"
    }
   },
   "outputs": [
    {
     "name": "stdout",
     "output_type": "stream",
     "text": [
      "d:\\xh\\python_project\\tool\\toolkits\\nlp\n",
      "d:\\xh\\python_project\\tool\\toolkits\\nlp\n",
      "keywords num:  1314\n",
      "data_raw:  (9826, 4)\n",
      "---- 1\n",
      "0.9968193384223919\n",
      "accuracy_score:  0.8748728382502543\n",
      "             precision    recall  f1-score   support\n",
      "\n",
      "          1       0.88      0.93      0.90       270\n",
      "          2       0.86      0.84      0.85       256\n",
      "          3       0.91      0.92      0.92       194\n",
      "          4       0.84      0.84      0.84       209\n",
      "          5       0.88      0.83      0.85       203\n",
      "          6       0.87      0.86      0.87       205\n",
      "          7       0.92      0.93      0.93       299\n",
      "          8       0.84      0.84      0.84       330\n",
      "\n",
      "avg / total       0.87      0.87      0.87      1966\n",
      "\n",
      "confusion_matrix: \n",
      "[[251   9   0   1   1   0   3   5]\n",
      " [ 15 214   1   5   6   5   4   6]\n",
      " [  1   3 179   1   0   6   2   2]\n",
      " [  4   3   2 175   5   4   0  16]\n",
      " [  3   8   1   8 168   6   4   5]\n",
      " [  1   3   8   1   5 177   2   8]\n",
      " [  1   3   2   0   4   1 279   9]\n",
      " [ 10   5   3  18   3   5   9 277]]\n",
      "---- 2\n",
      "0.9960564813636942\n",
      "accuracy_score:  0.8834605597964377\n",
      "             precision    recall  f1-score   support\n",
      "\n",
      "          1       0.91      0.93      0.92       274\n",
      "          2       0.86      0.86      0.86       262\n",
      "          3       0.89      0.89      0.89       188\n",
      "          4       0.87      0.81      0.84       221\n",
      "          5       0.86      0.84      0.85       185\n",
      "          6       0.89      0.91      0.90       225\n",
      "          7       0.93      0.93      0.93       298\n",
      "          8       0.85      0.87      0.86       312\n",
      "\n",
      "avg / total       0.88      0.88      0.88      1965\n",
      "\n",
      "confusion_matrix: \n",
      "[[255  11   0   2   2   0   0   4]\n",
      " [  8 226   4   7   7   1   1   8]\n",
      " [  0   1 168   1   2   8   5   3]\n",
      " [  2   9   0 179   2   9   0  20]\n",
      " [  2   7   3   6 155   4   6   2]\n",
      " [  2   1   7   0   5 205   2   3]\n",
      " [  2   2   0   0   6   1 278   9]\n",
      " [  8   7   7  10   2   2   6 270]]\n",
      "---- 3\n",
      "0.9969469533138278\n",
      "accuracy_score:  0.8870229007633588\n",
      "             precision    recall  f1-score   support\n",
      "\n",
      "          1       0.91      0.94      0.92       262\n",
      "          2       0.90      0.85      0.87       282\n",
      "          3       0.88      0.86      0.87       181\n",
      "          4       0.85      0.82      0.83       223\n",
      "          5       0.92      0.86      0.89       184\n",
      "          6       0.91      0.88      0.89       216\n",
      "          7       0.92      0.94      0.93       299\n",
      "          8       0.84      0.92      0.88       318\n",
      "\n",
      "avg / total       0.89      0.89      0.89      1965\n",
      "\n",
      "confusion_matrix: \n",
      "[[246   7   0   1   0   0   1   7]\n",
      " [ 12 239   3   8   6   1   3  10]\n",
      " [  1   2 155   2   1   7   6   7]\n",
      " [  1   6   5 182   3   6   2  18]\n",
      " [  5   7   0   6 158   2   6   0]\n",
      " [  4   3  12   0   0 189   3   5]\n",
      " [  1   1   2   2   1   1 282   9]\n",
      " [  1   2   0  14   3   1   5 292]]\n",
      "---- 4\n",
      "0.9964381121994658\n",
      "accuracy_score:  0.8910941475826972\n",
      "             precision    recall  f1-score   support\n",
      "\n",
      "          1       0.95      0.94      0.94       295\n",
      "          2       0.82      0.89      0.85       244\n",
      "          3       0.93      0.92      0.92       199\n",
      "          4       0.89      0.88      0.88       202\n",
      "          5       0.90      0.82      0.86       210\n",
      "          6       0.90      0.86      0.88       194\n",
      "          7       0.90      0.91      0.91       302\n",
      "          8       0.86      0.89      0.87       319\n",
      "\n",
      "avg / total       0.89      0.89      0.89      1965\n",
      "\n",
      "confusion_matrix: \n",
      "[[277   8   0   1   2   1   1   5]\n",
      " [  7 216   2   5   3   1   4   6]\n",
      " [  1   3 183   0   2   3   3   4]\n",
      " [  2   9   1 177   2   5   0   6]\n",
      " [  4  13   0   4 173   2   9   5]\n",
      " [  0   4   5   0   2 166   6  11]\n",
      " [  0   4   2   1   5   5 275  10]\n",
      " [  1   7   4  11   3   2   7 284]]\n",
      "---- 5\n",
      "0.9970741635924183\n",
      "accuracy_score:  0.8870229007633588\n",
      "             precision    recall  f1-score   support\n",
      "\n",
      "          1       0.90      0.94      0.92       287\n",
      "          2       0.85      0.88      0.86       240\n",
      "          3       0.89      0.88      0.88       182\n",
      "          4       0.87      0.85      0.86       183\n",
      "          5       0.92      0.83      0.88       218\n",
      "          6       0.90      0.86      0.88       221\n",
      "          7       0.92      0.93      0.92       315\n",
      "          8       0.85      0.88      0.87       319\n",
      "\n",
      "avg / total       0.89      0.89      0.89      1965\n",
      "\n",
      "confusion_matrix: \n",
      "[[271  10   0   0   0   1   1   4]\n",
      " [ 13 210   2   6   3   1   0   5]\n",
      " [  1   5 160   1   0   5   3   7]\n",
      " [  3   5   0 155   2   6   0  12]\n",
      " [  3  11   1   4 182   4   8   5]\n",
      " [  1   4  12   3   1 190   3   7]\n",
      " [  2   0   0   3   8   1 293   8]\n",
      " [  7   3   5   7   1   3  11 282]]\n",
      "kfold_result:  (9826, 7)\n"
     ]
    }
   ],
   "source": [
    "pipeline = Pipeline([\n",
    "    ('features', FeatureUnion([\n",
    "        ('tf_idf', Pipeline([\n",
    "            ('counts', CountVectorizer(max_df=0.95, min_df=2)),\n",
    "            ('tf_idf', TfidfTransformer()),\n",
    "            ('chi', SelectKBest(chi2, k=2000))\n",
    "        ])),\n",
    "        ('len_stats', myclass_cbrc.StatsFeatures_cor()),\n",
    "        ('tf', myclass_cbrc.Statskeywords_cor(topk = 5000))\n",
    "    ])),\n",
    "    ('standard', StandardScaler(with_mean=False)),\n",
    "    ('classifier', XGBClassifier(max_depth=7,objective='multi:softmax', num_class=8))\n",
    "])\n",
    "\n",
    "filename = 'cbrc_class_label_proba_20180917.xlsx'\n",
    "cal_kfold(title_content, label, pipeline, 'cbrc_result_class', filename, class_name_dict)"
   ]
  },
  {
   "cell_type": "code",
   "execution_count": 28,
   "metadata": {
    "ExecuteTime": {
     "end_time": "2018-09-18T04:02:37.814068Z",
     "start_time": "2018-09-18T04:02:23.631257Z"
    }
   },
   "outputs": [
    {
     "name": "stdout",
     "output_type": "stream",
     "text": [
      "总数： (9826, 8)\n"
     ]
    },
    {
     "data": {
      "text/html": [
       "<div>\n",
       "<style scoped>\n",
       "    .dataframe tbody tr th:only-of-type {\n",
       "        vertical-align: middle;\n",
       "    }\n",
       "\n",
       "    .dataframe tbody tr th {\n",
       "        vertical-align: top;\n",
       "    }\n",
       "\n",
       "    .dataframe thead th {\n",
       "        text-align: right;\n",
       "    }\n",
       "</style>\n",
       "<table border=\"1\" class=\"dataframe\">\n",
       "  <thead>\n",
       "    <tr style=\"text-align: right;\">\n",
       "      <th></th>\n",
       "      <th>备注</th>\n",
       "      <th>raw_title</th>\n",
       "      <th>raw_content</th>\n",
       "      <th>label</th>\n",
       "      <th>predict_label</th>\n",
       "      <th>title_content</th>\n",
       "      <th>predict_proba</th>\n",
       "      <th>R_W</th>\n",
       "    </tr>\n",
       "  </thead>\n",
       "  <tbody>\n",
       "    <tr>\n",
       "      <th>0</th>\n",
       "      <td></td>\n",
       "      <td>聚焦今晚PPI数据 黄金或摆脱十字路口徘徊行情</td>\n",
       "      <td>周三(1月10日)，美元遭受暴击，终止三日连涨的走势，黄金获利走高，最高触及近四月高位132...</td>\n",
       "      <td>噪音</td>\n",
       "      <td>噪音</td>\n",
       "      <td>聚焦 今晚 PPI 数据 黄金 摆脱 十字路口 徘徊 行情 周三 月 日 美元 遭受 暴击 ...</td>\n",
       "      <td>0.665914</td>\n",
       "      <td>Right</td>\n",
       "    </tr>\n",
       "    <tr>\n",
       "      <th>1</th>\n",
       "      <td></td>\n",
       "      <td>驻店销售代表（泉港区、前黄、涂岭、山腰）</td>\n",
       "      <td>公司简介PPF集团PPF集团是捷信集团的母公司，是中东欧地区最大的国际金融和投资集团之一，业...</td>\n",
       "      <td>噪音</td>\n",
       "      <td>公司内部管理</td>\n",
       "      <td>驻店 销售 代表 泉港区 前 黄 涂岭 山腰 公司简介 PPF 集团 PPF 集团 捷信 集...</td>\n",
       "      <td>0.274292</td>\n",
       "      <td>Wrong</td>\n",
       "    </tr>\n",
       "    <tr>\n",
       "      <th>2</th>\n",
       "      <td></td>\n",
       "      <td>陈御贺：主力拉盘轰炸避险黄金暴涨20点，后期低多为主</td>\n",
       "      <td>近期美国国债收益率一直稳步走高，在本周二日本央行公布调整购债后，美债价格进一步跌向熊市。日本...</td>\n",
       "      <td>噪音</td>\n",
       "      <td>噪音</td>\n",
       "      <td>陈御 贺 主力 拉盘 轰炸 避险 黄金 暴涨 点 后期 低多 近期 美国 国债 收益率 稳步...</td>\n",
       "      <td>0.898844</td>\n",
       "      <td>Right</td>\n",
       "    </tr>\n",
       "    <tr>\n",
       "      <th>3</th>\n",
       "      <td></td>\n",
       "      <td>华为给员工建3万套福利房，一平米8500元带精装修 | 早报</td>\n",
       "      <td>【国内】 27家乐视供应商发布呼吁对话书，希望与甘薇、贾跃民对话 1月9日晚，记者从一位乐视...</td>\n",
       "      <td>噪音</td>\n",
       "      <td>噪音</td>\n",
       "      <td>华为 员工 建 万套 福利 房 平米 元带 精装修 早报 国内 家乐 视 供应商 发布 呼吁...</td>\n",
       "      <td>0.980682</td>\n",
       "      <td>Right</td>\n",
       "    </tr>\n",
       "    <tr>\n",
       "      <th>4</th>\n",
       "      <td></td>\n",
       "      <td>一个烟酒店老板全干货揭秘：「开店」和「看店」的区别！</td>\n",
       "      <td>“我是个小烟酒店的老板，我的生意不大，但是我总结出不少生意经，献丑和大家说说，但愿抛砖引玉，...</td>\n",
       "      <td>噪音</td>\n",
       "      <td>噪音</td>\n",
       "      <td>烟酒 店老板 全 干货 揭秘 开店 看店 区别 小烟 酒店 老板 生意 生意经 献丑 说 说...</td>\n",
       "      <td>0.984564</td>\n",
       "      <td>Right</td>\n",
       "    </tr>\n",
       "  </tbody>\n",
       "</table>\n",
       "</div>"
      ],
      "text/plain": [
       "  备注                       raw_title  \\\n",
       "0            聚焦今晚PPI数据 黄金或摆脱十字路口徘徊行情   \n",
       "1               驻店销售代表（泉港区、前黄、涂岭、山腰）   \n",
       "2         陈御贺：主力拉盘轰炸避险黄金暴涨20点，后期低多为主   \n",
       "3     华为给员工建3万套福利房，一平米8500元带精装修 | 早报   \n",
       "4         一个烟酒店老板全干货揭秘：「开店」和「看店」的区别！   \n",
       "\n",
       "                                         raw_content label predict_label  \\\n",
       "0  周三(1月10日)，美元遭受暴击，终止三日连涨的走势，黄金获利走高，最高触及近四月高位132...    噪音            噪音   \n",
       "1  公司简介PPF集团PPF集团是捷信集团的母公司，是中东欧地区最大的国际金融和投资集团之一，业...    噪音        公司内部管理   \n",
       "2  近期美国国债收益率一直稳步走高，在本周二日本央行公布调整购债后，美债价格进一步跌向熊市。日本...    噪音            噪音   \n",
       "3  【国内】 27家乐视供应商发布呼吁对话书，希望与甘薇、贾跃民对话 1月9日晚，记者从一位乐视...    噪音            噪音   \n",
       "4  “我是个小烟酒店的老板，我的生意不大，但是我总结出不少生意经，献丑和大家说说，但愿抛砖引玉，...    噪音            噪音   \n",
       "\n",
       "                                       title_content  predict_proba    R_W  \n",
       "0  聚焦 今晚 PPI 数据 黄金 摆脱 十字路口 徘徊 行情 周三 月 日 美元 遭受 暴击 ...       0.665914  Right  \n",
       "1  驻店 销售 代表 泉港区 前 黄 涂岭 山腰 公司简介 PPF 集团 PPF 集团 捷信 集...       0.274292  Wrong  \n",
       "2  陈御 贺 主力 拉盘 轰炸 避险 黄金 暴涨 点 后期 低多 近期 美国 国债 收益率 稳步...       0.898844  Right  \n",
       "3  华为 员工 建 万套 福利 房 平米 元带 精装修 早报 国内 家乐 视 供应商 发布 呼吁...       0.980682  Right  \n",
       "4  烟酒 店老板 全 干货 揭秘 开店 看店 区别 小烟 酒店 老板 生意 生意经 献丑 说 说...       0.984564  Right  "
      ]
     },
     "execution_count": 28,
     "metadata": {},
     "output_type": "execute_result"
    }
   ],
   "source": [
    "import xlrd\n",
    "\n",
    "kfold_result = pd.DataFrame()\n",
    "\n",
    "currentPath  = 'cbrc_result_class/corpus/cbrc_class_label_proba_20180917.xlsx'\n",
    "excel = xlrd.open_workbook(currentPath)\n",
    "sheet_names = [sheet.name for sheet in excel.sheets()]\n",
    "for sheet_name in sheet_names:   \n",
    "    tmp_data = pd.read_excel(currentPath, sheet_name)     \n",
    "    kfold_result = pd.concat([kfold_result, tmp_data], axis = 0)\n",
    "\n",
    "kfold_result.index = range(kfold_result.shape[0])\n",
    "kfold_result.insert(0, '备注', '')\n",
    "print('总数：', kfold_result.shape)\n",
    "# kfold_result.head()"
   ]
  },
  {
   "cell_type": "code",
   "execution_count": 29,
   "metadata": {
    "ExecuteTime": {
     "end_time": "2018-09-18T04:03:13.038083Z",
     "start_time": "2018-09-18T04:03:12.986080Z"
    }
   },
   "outputs": [
    {
     "name": "stdout",
     "output_type": "stream",
     "text": [
      "(9826, 8)\n",
      "(8196, 8)\n",
      "(1630, 8)\n"
     ]
    },
    {
     "data": {
      "text/plain": [
       "R_W    predict_label\n",
       "Right  产品销售              42\n",
       "       公司内部管理            42\n",
       "       其他相关报道            36\n",
       "       噪音                95\n",
       "       消费服务              53\n",
       "       监管                53\n",
       "       行业                89\n",
       "       资本市场              87\n",
       "Wrong  产品销售              94\n",
       "       公司内部管理            98\n",
       "       其他相关报道           126\n",
       "       噪音               251\n",
       "       消费服务             110\n",
       "       监管               129\n",
       "       行业               186\n",
       "       资本市场             139\n",
       "Name: label, dtype: int64"
      ]
     },
     "execution_count": 29,
     "metadata": {},
     "output_type": "execute_result"
    }
   ],
   "source": [
    "K_S_sel = kfold_result[(kfold_result['predict_proba'] < 0.65) | (kfold_result['R_W'] == 'Wrong')]\n",
    "K_S_else = kfold_result[~((kfold_result['predict_proba'] < 0.65) | (kfold_result['R_W'] == 'Wrong'))]\n",
    "print(kfold_result.shape)\n",
    "print(K_S_else.shape)\n",
    "print(K_S_sel.shape)\n",
    "K_S_sel.groupby(['R_W', 'predict_label'])['label'].count()"
   ]
  },
  {
   "cell_type": "code",
   "execution_count": 30,
   "metadata": {
    "ExecuteTime": {
     "end_time": "2018-09-18T04:03:23.968708Z",
     "start_time": "2018-09-18T04:03:15.929248Z"
    },
    "collapsed": true
   },
   "outputs": [],
   "source": [
    "fea_filename = 'cbrc_result_class/result/20180918_cbrc_class_sel.xlsx'\n",
    "with pd.ExcelWriter(fea_filename) as writer:\n",
    "    for label in K_S_sel['predict_label'].unique():\n",
    "        tmp_data = K_S_sel[K_S_sel['predict_label'] == label]\n",
    "        N = tmp_data.shape[0]\n",
    "        tmp_data.sample(n = N, axis = 0, random_state=42).to_excel(writer,label, index = False)    \n",
    "    writer.save()\n",
    "    \n",
    "fea_filename = 'cbrc_result_class/result/20180918_cbrc_class_else.xlsx'\n",
    "with pd.ExcelWriter(fea_filename) as writer:\n",
    "    for label in K_S_else['predict_label'].unique():\n",
    "        tmp_data = K_S_else[K_S_else['predict_label'] == label]\n",
    "        N = tmp_data.shape[0]\n",
    "        tmp_data.sample(n = N, axis = 0, random_state=42).to_excel(writer,label, index = False)    \n",
    "    writer.save()    "
   ]
  },
  {
   "cell_type": "code",
   "execution_count": 12,
   "metadata": {
    "ExecuteTime": {
     "end_time": "2018-09-18T03:45:21.677147Z",
     "start_time": "2018-09-18T03:45:21.601142Z"
    }
   },
   "outputs": [
    {
     "name": "stdout",
     "output_type": "stream",
     "text": [
      "accuracy_score:  0.8846936698554855\n",
      "             precision    recall  f1-score   support\n",
      "\n",
      "       产品销售       0.90      0.90      0.90       939\n",
      "     公司内部管理       0.84      0.90      0.86       934\n",
      "     其他相关报道       0.93      0.92      0.92      1533\n",
      "         噪音       0.88      0.85      0.86      1656\n",
      "       消费服务       0.87      0.89      0.88      1037\n",
      "         监管       0.94      0.91      0.92      1429\n",
      "         行业       0.86      0.86      0.86      1291\n",
      "       资本市场       0.84      0.86      0.85      1007\n",
      "\n",
      "avg / total       0.89      0.88      0.88      9826\n",
      "\n",
      "confusion_matrix: \n",
      "[[ 845    5    6   19   44    0   12    8]\n",
      " [   5  836   24   12   13    5   25   14]\n",
      " [  19   33 1407   38   16    6   12    2]\n",
      " [  23   17   45 1405   34   25   35   72]\n",
      " [  29   18    9   13  927    2    9   30]\n",
      " [   4   17    6   27    8 1300   55   12]\n",
      " [  14   46   10   24   15   45 1105   32]\n",
      " [   5   28    6   60    4    5   31  868]]\n"
     ]
    }
   ],
   "source": [
    "y_test = kfold_result['predict_label'].tolist()\n",
    "y_pred_class = kfold_result['label'].tolist()\n",
    "print('accuracy_score: ', metrics.accuracy_score(y_test, y_pred_class)) # 指所有分类正确的百分比\n",
    "print(metrics.classification_report(y_test, y_pred_class))\n",
    "print('confusion_matrix: ')\n",
    "print( metrics.confusion_matrix(y_test, y_pred_class))"
   ]
  },
  {
   "cell_type": "code",
   "execution_count": 13,
   "metadata": {
    "ExecuteTime": {
     "end_time": "2018-09-18T03:45:40.843243Z",
     "start_time": "2018-09-18T03:45:39.733180Z"
    }
   },
   "outputs": [
    {
     "data": {
      "text/html": [
       "<div>\n",
       "<style scoped>\n",
       "    .dataframe tbody tr th:only-of-type {\n",
       "        vertical-align: middle;\n",
       "    }\n",
       "\n",
       "    .dataframe tbody tr th {\n",
       "        vertical-align: top;\n",
       "    }\n",
       "\n",
       "    .dataframe thead th {\n",
       "        text-align: right;\n",
       "    }\n",
       "</style>\n",
       "<table border=\"1\" class=\"dataframe\">\n",
       "  <thead>\n",
       "    <tr style=\"text-align: right;\">\n",
       "      <th>proba</th>\n",
       "      <th>0.2</th>\n",
       "      <th>0.3</th>\n",
       "      <th>0.4</th>\n",
       "      <th>0.5</th>\n",
       "      <th>0.6</th>\n",
       "      <th>0.7</th>\n",
       "      <th>0.8</th>\n",
       "      <th>0.9</th>\n",
       "      <th>1.0</th>\n",
       "      <th>sum</th>\n",
       "    </tr>\n",
       "    <tr>\n",
       "      <th>predict_label</th>\n",
       "      <th></th>\n",
       "      <th></th>\n",
       "      <th></th>\n",
       "      <th></th>\n",
       "      <th></th>\n",
       "      <th></th>\n",
       "      <th></th>\n",
       "      <th></th>\n",
       "      <th></th>\n",
       "      <th></th>\n",
       "    </tr>\n",
       "  </thead>\n",
       "  <tbody>\n",
       "    <tr>\n",
       "      <th>产品销售</th>\n",
       "      <td>3.0</td>\n",
       "      <td>13.0</td>\n",
       "      <td>11.0</td>\n",
       "      <td>34.0</td>\n",
       "      <td>38.0</td>\n",
       "      <td>39.0</td>\n",
       "      <td>41.0</td>\n",
       "      <td>114.0</td>\n",
       "      <td>651.0</td>\n",
       "      <td>944.0</td>\n",
       "    </tr>\n",
       "    <tr>\n",
       "      <th>公司内部管理</th>\n",
       "      <td>1.0</td>\n",
       "      <td>21.0</td>\n",
       "      <td>31.0</td>\n",
       "      <td>38.0</td>\n",
       "      <td>41.0</td>\n",
       "      <td>44.0</td>\n",
       "      <td>69.0</td>\n",
       "      <td>126.0</td>\n",
       "      <td>629.0</td>\n",
       "      <td>1000.0</td>\n",
       "    </tr>\n",
       "    <tr>\n",
       "      <th>其他相关报道</th>\n",
       "      <td>0.0</td>\n",
       "      <td>12.0</td>\n",
       "      <td>20.0</td>\n",
       "      <td>31.0</td>\n",
       "      <td>26.0</td>\n",
       "      <td>43.0</td>\n",
       "      <td>55.0</td>\n",
       "      <td>155.0</td>\n",
       "      <td>1171.0</td>\n",
       "      <td>1513.0</td>\n",
       "    </tr>\n",
       "    <tr>\n",
       "      <th>噪音</th>\n",
       "      <td>1.0</td>\n",
       "      <td>25.0</td>\n",
       "      <td>41.0</td>\n",
       "      <td>57.0</td>\n",
       "      <td>60.0</td>\n",
       "      <td>110.0</td>\n",
       "      <td>150.0</td>\n",
       "      <td>334.0</td>\n",
       "      <td>820.0</td>\n",
       "      <td>1598.0</td>\n",
       "    </tr>\n",
       "    <tr>\n",
       "      <th>消费服务</th>\n",
       "      <td>1.0</td>\n",
       "      <td>27.0</td>\n",
       "      <td>28.0</td>\n",
       "      <td>40.0</td>\n",
       "      <td>35.0</td>\n",
       "      <td>45.0</td>\n",
       "      <td>52.0</td>\n",
       "      <td>147.0</td>\n",
       "      <td>686.0</td>\n",
       "      <td>1061.0</td>\n",
       "    </tr>\n",
       "    <tr>\n",
       "      <th>监管</th>\n",
       "      <td>1.0</td>\n",
       "      <td>8.0</td>\n",
       "      <td>16.0</td>\n",
       "      <td>24.0</td>\n",
       "      <td>45.0</td>\n",
       "      <td>54.0</td>\n",
       "      <td>96.0</td>\n",
       "      <td>192.0</td>\n",
       "      <td>952.0</td>\n",
       "      <td>1388.0</td>\n",
       "    </tr>\n",
       "    <tr>\n",
       "      <th>行业</th>\n",
       "      <td>3.0</td>\n",
       "      <td>14.0</td>\n",
       "      <td>35.0</td>\n",
       "      <td>67.0</td>\n",
       "      <td>57.0</td>\n",
       "      <td>77.0</td>\n",
       "      <td>100.0</td>\n",
       "      <td>230.0</td>\n",
       "      <td>701.0</td>\n",
       "      <td>1284.0</td>\n",
       "    </tr>\n",
       "    <tr>\n",
       "      <th>资本市场</th>\n",
       "      <td>2.0</td>\n",
       "      <td>10.0</td>\n",
       "      <td>24.0</td>\n",
       "      <td>72.0</td>\n",
       "      <td>56.0</td>\n",
       "      <td>85.0</td>\n",
       "      <td>101.0</td>\n",
       "      <td>240.0</td>\n",
       "      <td>448.0</td>\n",
       "      <td>1038.0</td>\n",
       "    </tr>\n",
       "    <tr>\n",
       "      <th>sum</th>\n",
       "      <td>12.0</td>\n",
       "      <td>130.0</td>\n",
       "      <td>206.0</td>\n",
       "      <td>363.0</td>\n",
       "      <td>358.0</td>\n",
       "      <td>497.0</td>\n",
       "      <td>664.0</td>\n",
       "      <td>1538.0</td>\n",
       "      <td>6058.0</td>\n",
       "      <td>9826.0</td>\n",
       "    </tr>\n",
       "  </tbody>\n",
       "</table>\n",
       "</div>"
      ],
      "text/plain": [
       "proba           0.2    0.3    0.4    0.5    0.6    0.7    0.8     0.9     1.0  \\\n",
       "predict_label                                                                   \n",
       "产品销售            3.0   13.0   11.0   34.0   38.0   39.0   41.0   114.0   651.0   \n",
       "公司内部管理          1.0   21.0   31.0   38.0   41.0   44.0   69.0   126.0   629.0   \n",
       "其他相关报道          0.0   12.0   20.0   31.0   26.0   43.0   55.0   155.0  1171.0   \n",
       "噪音              1.0   25.0   41.0   57.0   60.0  110.0  150.0   334.0   820.0   \n",
       "消费服务            1.0   27.0   28.0   40.0   35.0   45.0   52.0   147.0   686.0   \n",
       "监管              1.0    8.0   16.0   24.0   45.0   54.0   96.0   192.0   952.0   \n",
       "行业              3.0   14.0   35.0   67.0   57.0   77.0  100.0   230.0   701.0   \n",
       "资本市场            2.0   10.0   24.0   72.0   56.0   85.0  101.0   240.0   448.0   \n",
       "sum            12.0  130.0  206.0  363.0  358.0  497.0  664.0  1538.0  6058.0   \n",
       "\n",
       "proba             sum  \n",
       "predict_label          \n",
       "产品销售            944.0  \n",
       "公司内部管理         1000.0  \n",
       "其他相关报道         1513.0  \n",
       "噪音             1598.0  \n",
       "消费服务           1061.0  \n",
       "监管             1388.0  \n",
       "行业             1284.0  \n",
       "资本市场           1038.0  \n",
       "sum            9826.0  "
      ]
     },
     "execution_count": 13,
     "metadata": {},
     "output_type": "execute_result"
    },
    {
     "data": {
      "image/png": "[encoded data removed]",
      "text/plain": [
       "<matplotlib.figure.Figure at 0x18c962b0>"
      ]
     },
     "metadata": {},
     "output_type": "display_data"
    }
   ],
   "source": [
    "y_pred_prob = kfold_result['predict_proba'].tolist()\n",
    "\n",
    "sel_data_stat = plot_class_proba(y_pred_class, y_pred_prob)\n",
    "sel_data_stat"
   ]
  },
  {
   "cell_type": "markdown",
   "metadata": {},
   "source": [
    "## 保存模型"
   ]
  },
  {
   "cell_type": "code",
   "execution_count": 31,
   "metadata": {
    "ExecuteTime": {
     "end_time": "2018-10-15T03:41:32.200435Z",
     "start_time": "2018-10-15T03:33:29.211603Z"
    }
   },
   "outputs": [
    {
     "name": "stdout",
     "output_type": "stream",
     "text": [
      "d:\\xh\\python_project\\tool\\toolkits\\nlp\n",
      "d:\\xh\\python_project\\tool\\toolkits\\nlp\n",
      "keywords num:  1229\n",
      "0.9902132998745294\n"
     ]
    },
    {
     "data": {
      "text/plain": [
       "Pipeline(memory=None,\n",
       "     steps=[('features', FeatureUnion(n_jobs=1,\n",
       "       transformer_list=[('tf_idf', Pipeline(memory=None,\n",
       "     steps=[('counts', CountVectorizer(analyzer='word', binary=False, decode_error='strict',\n",
       "        dtype=<class 'numpy.int64'>, encoding='utf-8', input='content',\n",
       "        lowercase=True, max_df=0.9...tate=0, reg_alpha=0, reg_lambda=1, scale_pos_weight=1,\n",
       "       seed=None, silent=True, subsample=1))])"
      ]
     },
     "execution_count": 31,
     "metadata": {},
     "output_type": "execute_result"
    }
   ],
   "source": [
    "pipeline = Pipeline([\n",
    "    ('features', FeatureUnion([\n",
    "        ('tf_idf', Pipeline([\n",
    "            ('counts', CountVectorizer(max_df=0.95, min_df=2)),\n",
    "            ('tf_idf', TfidfTransformer()),\n",
    "            ('chi', SelectKBest(chi2, k=2000))\n",
    "        ])),\n",
    "        ('len_stats', myclass_cbrc.StatsFeatures_cor()),\n",
    "        ('tf', myclass_cbrc.Statskeywords_cor(topk = 5000))\n",
    "    ])),\n",
    "    ('standard', StandardScaler(with_mean=False)),\n",
    "    ('classifier', XGBClassifier(max_depth=7,objective='multi:softmax', num_class=8))\n",
    "])\n",
    "\n",
    "pipeline.fit(title_content, label)\n",
    "print(pipeline.score(title_content, label))\n",
    "pipeline"
   ]
  },
  {
   "cell_type": "code",
   "execution_count": 32,
   "metadata": {
    "ExecuteTime": {
     "end_time": "2018-10-15T03:41:42.289216Z",
     "start_time": "2018-10-15T03:41:33.164557Z"
    }
   },
   "outputs": [
    {
     "data": {
      "text/plain": [
       "['model/cbrc_8classifier_1015.pkl.z']"
      ]
     },
     "execution_count": 32,
     "metadata": {},
     "output_type": "execute_result"
    }
   ],
   "source": [
    "from sklearn.externals import joblib\n",
    "joblib.dump(pipeline, \"model/cbrc_8classifier_1105.pkl.z\")"
   ]
  },
  {
   "cell_type": "markdown",
   "metadata": {
    "collapsed": true
   },
   "source": [
    "# 银行业：2 倾向性"
   ]
  },
  {
   "cell_type": "markdown",
   "metadata": {},
   "source": [
    "## 导入与分割数据"
   ]
  },
  {
   "cell_type": "code",
   "execution_count": 18,
   "metadata": {
    "ExecuteTime": {
     "end_time": "2018-11-14T08:27:13.501933Z",
     "start_time": "2018-11-14T08:27:13.393927Z"
    }
   },
   "outputs": [
    {
     "name": "stdout",
     "output_type": "stream",
     "text": [
      "title num:  3982\n",
      "['推荐 评级 银行业 动态 报告 同业存单 监管 银行 利空', '年 中国 投资 行业 管理 万亿美元 资产']\n",
      "content num:  3982\n",
      "title_content num:  3982\n",
      "label num:  3982\n",
      "['0', '0', '0', '0', '0']\n"
     ]
    },
    {
     "data": {
      "text/plain": [
       "[0, 0, 0, 0, 0]"
      ]
     },
     "execution_count": 18,
     "metadata": {},
     "output_type": "execute_result"
    }
   ],
   "source": [
    "cbrc_filepath_class = 'cbrc_result_tendency/corpus/'\n",
    "title_content, label, title, content = load_save_plot_file.title_content_label(cbrc_filepath_class)\n",
    "label = [int(l) for l in label]\n",
    "label[:5]"
   ]
  },
  {
   "cell_type": "code",
   "execution_count": 19,
   "metadata": {
    "ExecuteTime": {
     "end_time": "2018-11-14T08:27:27.029707Z",
     "start_time": "2018-11-14T08:27:27.020707Z"
    }
   },
   "outputs": [
    {
     "data": {
      "text/plain": [
       "{-1: '负面', 0: '非负'}"
      ]
     },
     "execution_count": 19,
     "metadata": {},
     "output_type": "execute_result"
    }
   ],
   "source": [
    "label_dic={'非负':0,'负面':-1}\n",
    "class_name_dict = {v: k for k, v in label_dic.items()}\n",
    "class_name_dict"
   ]
  },
  {
   "cell_type": "code",
   "execution_count": 20,
   "metadata": {
    "ExecuteTime": {
     "end_time": "2018-11-14T08:27:28.208775Z",
     "start_time": "2018-11-14T08:27:28.186773Z"
    }
   },
   "outputs": [
    {
     "name": "stdout",
     "output_type": "stream",
     "text": [
      "训练集： 2787\n",
      "训练集-各类数量： Counter({-1: 1447, 0: 1340})\n",
      "测试集： 1195\n",
      "测试集-各类数量： Counter({-1: 601, 0: 594})\n"
     ]
    }
   ],
   "source": [
    "X_train, X_test, y_train, y_test = train_test_split(title_content, label, test_size=0.3, random_state=42)\n",
    "print('训练集：',len(y_train))\n",
    "print('训练集-各类数量：',Counter(y_train))\n",
    "print('测试集：',len(y_test))\n",
    "print('测试集-各类数量：',Counter(y_test))"
   ]
  },
  {
   "cell_type": "markdown",
   "metadata": {},
   "source": [
    "## train & test"
   ]
  },
  {
   "cell_type": "code",
   "execution_count": 21,
   "metadata": {
    "ExecuteTime": {
     "end_time": "2018-11-14T08:28:02.235721Z",
     "start_time": "2018-11-14T08:27:41.991563Z"
    }
   },
   "outputs": [
    {
     "name": "stdout",
     "output_type": "stream",
     "text": [
      "d:\\xh\\python_project\\tool\\toolkits\\nlp\n",
      "0.9967707212055974\n"
     ]
    },
    {
     "data": {
      "text/plain": [
       "Pipeline(memory=None,\n",
       "     steps=[('features', FeatureUnion(n_jobs=1,\n",
       "       transformer_list=[('tf_idf', Pipeline(memory=None,\n",
       "     steps=[('counts', CountVectorizer(analyzer='word', binary=False, decode_error='strict',\n",
       "        dtype=<class 'numpy.int64'>, encoding='utf-8', input='content',\n",
       "        lowercase=True, max_df=0.9...tate=0, reg_alpha=0, reg_lambda=1, scale_pos_weight=1,\n",
       "       seed=None, silent=True, subsample=1))])"
      ]
     },
     "execution_count": 21,
     "metadata": {},
     "output_type": "execute_result"
    }
   ],
   "source": [
    "pipeline = Pipeline([\n",
    "    ('features', FeatureUnion([\n",
    "        ('tf_idf', Pipeline([\n",
    "            ('counts', CountVectorizer(max_df=0.95, min_df=2)),\n",
    "            ('tf_idf', TfidfTransformer()),\n",
    "            ('chi', SelectKBest(chi2, k=2000))\n",
    "        ])),\n",
    "        ('len_stats', myclass_cbrc.StatsFeatures_tendency()),\n",
    "    ])),\n",
    "    ('standard', StandardScaler(with_mean=False)),\n",
    "    ('classifier', XGBClassifier(max_depth=7,objective='multi:softmax', num_class=2))\n",
    "])\n",
    "\n",
    "pipeline.fit(X_train, y_train)\n",
    "print(pipeline.score(X_train, y_train))\n",
    "pipeline"
   ]
  },
  {
   "cell_type": "code",
   "execution_count": 22,
   "metadata": {
    "ExecuteTime": {
     "end_time": "2018-11-14T08:28:02.980763Z",
     "start_time": "2018-11-14T08:28:02.378729Z"
    }
   },
   "outputs": [
    {
     "name": "stdout",
     "output_type": "stream",
     "text": [
      "accuracy_score:  0.9313807531380753\n",
      "             precision    recall  f1-score   support\n",
      "\n",
      "         -1       0.95      0.92      0.93       601\n",
      "          0       0.92      0.95      0.93       594\n",
      "\n",
      "avg / total       0.93      0.93      0.93      1195\n",
      "\n",
      "confusion_matrix: \n",
      "[[550  51]\n",
      " [ 31 563]]\n"
     ]
    }
   ],
   "source": [
    "y_pred_class = pipeline.predict(X_test)\n",
    "print('accuracy_score: ', metrics.accuracy_score(y_test, y_pred_class)) # 指所有分类正确的百分比\n",
    "print(metrics.classification_report(y_test, y_pred_class))\n",
    "print('confusion_matrix: ')\n",
    "print( metrics.confusion_matrix(y_test, y_pred_class))"
   ]
  },
  {
   "cell_type": "markdown",
   "metadata": {},
   "source": [
    "## 概率结果"
   ]
  },
  {
   "cell_type": "code",
   "execution_count": null,
   "metadata": {
    "ExecuteTime": {
     "start_time": "2018-09-11T08:01:33.796Z"
    },
    "collapsed": true
   },
   "outputs": [],
   "source": [
    "y_pred_prob = pipeline.predict_proba(X_test)\n",
    "pd.DataFrame(y_pred_prob.max(axis = 1)).plot.hist(bins = 100)"
   ]
  },
  {
   "cell_type": "code",
   "execution_count": null,
   "metadata": {
    "ExecuteTime": {
     "start_time": "2018-09-11T08:01:33.804Z"
    },
    "collapsed": true
   },
   "outputs": [],
   "source": [
    "sel_data_stat = plot_class_proba(y_pred_class, y_pred_prob)\n",
    "sel_data_stat"
   ]
  },
  {
   "cell_type": "markdown",
   "metadata": {},
   "source": [
    "## K-fold"
   ]
  },
  {
   "cell_type": "code",
   "execution_count": 24,
   "metadata": {
    "ExecuteTime": {
     "end_time": "2018-11-14T08:31:25.551350Z",
     "start_time": "2018-11-14T08:29:26.761555Z"
    }
   },
   "outputs": [
    {
     "name": "stdout",
     "output_type": "stream",
     "text": [
      "d:\\xh\\python_project\\tool\\toolkits\\nlp\n",
      "data_raw:  (3982, 4)\n",
      "---- 1\n",
      "0.9962323390894819\n",
      "accuracy_score:  0.944792973651192\n",
      "             precision    recall  f1-score   support\n",
      "\n",
      "         -1       0.95      0.94      0.95       407\n",
      "          0       0.93      0.95      0.94       390\n",
      "\n",
      "avg / total       0.94      0.94      0.94       797\n",
      "\n",
      "confusion_matrix: \n",
      "[[381  26]\n",
      " [ 18 372]]\n",
      "---- 2\n",
      "0.9949764521193093\n",
      "accuracy_score:  0.9360100376411543\n",
      "             precision    recall  f1-score   support\n",
      "\n",
      "         -1       0.95      0.92      0.93       399\n",
      "          0       0.92      0.95      0.94       398\n",
      "\n",
      "avg / total       0.94      0.94      0.94       797\n",
      "\n",
      "confusion_matrix: \n",
      "[[366  33]\n",
      " [ 18 380]]\n",
      "---- 3\n",
      "0.9956057752667922\n",
      "accuracy_score:  0.9309045226130653\n",
      "             precision    recall  f1-score   support\n",
      "\n",
      "         -1       0.94      0.93      0.93       417\n",
      "          0       0.92      0.93      0.93       379\n",
      "\n",
      "avg / total       0.93      0.93      0.93       796\n",
      "\n",
      "confusion_matrix: \n",
      "[[387  30]\n",
      " [ 25 354]]\n",
      "---- 4\n",
      "0.9956057752667922\n",
      "accuracy_score:  0.9258793969849246\n",
      "             precision    recall  f1-score   support\n",
      "\n",
      "         -1       0.96      0.90      0.93       426\n",
      "          0       0.89      0.96      0.92       370\n",
      "\n",
      "avg / total       0.93      0.93      0.93       796\n",
      "\n",
      "confusion_matrix: \n",
      "[[383  43]\n",
      " [ 16 354]]\n",
      "---- 5\n",
      "0.9962335216572504\n",
      "accuracy_score:  0.9258793969849246\n",
      "             precision    recall  f1-score   support\n",
      "\n",
      "         -1       0.93      0.93      0.93       399\n",
      "          0       0.93      0.92      0.93       397\n",
      "\n",
      "avg / total       0.93      0.93      0.93       796\n",
      "\n",
      "confusion_matrix: \n",
      "[[370  29]\n",
      " [ 30 367]]\n",
      "kfold_result:  (3982, 7)\n"
     ]
    }
   ],
   "source": [
    "pipeline = Pipeline([\n",
    "    ('features', FeatureUnion([\n",
    "        ('tf_idf', Pipeline([\n",
    "            ('counts', CountVectorizer(max_df=0.95, min_df=2)),\n",
    "            ('tf_idf', TfidfTransformer()),\n",
    "            ('chi', SelectKBest(chi2, k=2000))\n",
    "        ])),\n",
    "        ('len_stats', myclass_cbrc.StatsFeatures_tendency()),\n",
    "    ])),\n",
    "    ('standard', StandardScaler(with_mean=False)),\n",
    "    ('classifier', XGBClassifier(max_depth=7,objective='multi:softmax', num_class=2))\n",
    "])\n",
    "\n",
    "filename = 'cbrc_tendency_label_proba_20181114.xlsx'\n",
    "cal_kfold(title_content, label, pipeline, 'cbrc_result_tendency', filename, class_name_dict)"
   ]
  },
  {
   "cell_type": "markdown",
   "metadata": {},
   "source": [
    "## 保存模型"
   ]
  },
  {
   "cell_type": "code",
   "execution_count": 25,
   "metadata": {
    "ExecuteTime": {
     "end_time": "2018-11-14T08:32:11.119956Z",
     "start_time": "2018-11-14T08:31:40.154185Z"
    }
   },
   "outputs": [
    {
     "name": "stdout",
     "output_type": "stream",
     "text": [
      "d:\\xh\\python_project\\tool\\toolkits\\nlp\n",
      "0.9937217478653942\n"
     ]
    },
    {
     "data": {
      "text/plain": [
       "Pipeline(memory=None,\n",
       "     steps=[('features', FeatureUnion(n_jobs=1,\n",
       "       transformer_list=[('tf_idf', Pipeline(memory=None,\n",
       "     steps=[('counts', CountVectorizer(analyzer='word', binary=False, decode_error='strict',\n",
       "        dtype=<class 'numpy.int64'>, encoding='utf-8', input='content',\n",
       "        lowercase=True, max_df=0.9...tate=0, reg_alpha=0, reg_lambda=1, scale_pos_weight=1,\n",
       "       seed=None, silent=True, subsample=1))])"
      ]
     },
     "execution_count": 25,
     "metadata": {},
     "output_type": "execute_result"
    }
   ],
   "source": [
    "pipeline = Pipeline([\n",
    "    ('features', FeatureUnion([\n",
    "        ('tf_idf', Pipeline([\n",
    "            ('counts', CountVectorizer(max_df=0.95, min_df=2)),\n",
    "            ('tf_idf', TfidfTransformer()),\n",
    "            ('chi', SelectKBest(chi2, k=2000))\n",
    "        ])),\n",
    "        ('len_stats', myclass_cbrc.StatsFeatures_tendency()),\n",
    "    ])),\n",
    "    ('standard', StandardScaler(with_mean=False)),\n",
    "    ('classifier', XGBClassifier(max_depth=7,objective='multi:softmax', num_class=2))\n",
    "])\n",
    "\n",
    "pipeline.fit(title_content, label)\n",
    "print(pipeline.score(title_content, label))\n",
    "pipeline"
   ]
  },
  {
   "cell_type": "code",
   "execution_count": 27,
   "metadata": {
    "ExecuteTime": {
     "end_time": "2018-11-14T08:32:43.283796Z",
     "start_time": "2018-11-14T08:32:42.178733Z"
    }
   },
   "outputs": [
    {
     "data": {
      "text/plain": [
       "['model/cbrc_chapter_tendency_1114.pkl.z']"
      ]
     },
     "execution_count": 27,
     "metadata": {},
     "output_type": "execute_result"
    }
   ],
   "source": [
    "from sklearn.externals import joblib\n",
    "joblib.dump(pipeline, \"model/cbrc_chapter_tendency_1114.pkl.z\")"
   ]
  },
  {
   "cell_type": "markdown",
   "metadata": {
    "collapsed": true
   },
   "source": [
    "# 保存本文件"
   ]
  },
  {
   "cell_type": "code",
   "execution_count": null,
   "metadata": {
    "ExecuteTime": {
     "start_time": "2018-09-11T08:01:33.839Z"
    },
    "collapsed": true
   },
   "outputs": [],
   "source": [
    "if 0:\n",
    "    import datetime as dt\n",
    "    \n",
    "    def output_HTML(read_file, output_file):\n",
    "        from nbconvert import HTMLExporter\n",
    "        import codecs\n",
    "        import nbformat\n",
    "        exporter = HTMLExporter()\n",
    "        # read_file is '.ipynb', output_file is '.html'\n",
    "        output_notebook = nbformat.read(read_file, as_version=4)\n",
    "        output, resources = exporter.from_notebook_node(output_notebook)\n",
    "        codecs.open(output_file, 'w', encoding='utf-8').write(output)\n",
    "\n",
    "    html_file_folder = 'html_files'\n",
    "    if not os.path.exists(html_file_folder):\n",
    "        os.makedirs(html_file_folder)\n",
    "\n",
    "    today = dt.datetime.now().strftime('%Y%m%d')\n",
    "    current_file = 'circ_cor_model_2_train.ipynb'\n",
    "    output_file = 'html_files\\%s_%s.html'%(os.path.splitext(current_file)[0], today)\n",
    "    output_HTML(current_file, output_file)"
   ]
  }
 ],
 "metadata": {
  "kernelspec": {
   "display_name": "Python 3",
   "language": "python",
   "name": "python3"
  },
  "language_info": {
   "codemirror_mode": {
    "name": "ipython",
    "version": 3
   },
   "file_extension": ".py",
   "mimetype": "text/x-python",
   "name": "python",
   "nbconvert_exporter": "python",
   "pygments_lexer": "ipython3",
   "version": "3.6.3"
  },
  "toc": {
   "nav_menu": {},
   "number_sections": true,
   "sideBar": true,
   "skip_h1_title": false,
   "title_cell": "Table of Contents",
   "title_sidebar": "Contents",
   "toc_cell": false,
   "toc_position": {
    "height": "calc(100% - 180px)",
    "left": "10px",
    "top": "150px",
    "width": "376px"
   },
   "toc_section_display": true,
   "toc_window_display": true
  },
  "varInspector": {
   "cols": {
    "lenName": 16,
    "lenType": 16,
    "lenVar": 40
   },
   "kernels_config": {
    "python": {
     "delete_cmd_postfix": "",
     "delete_cmd_prefix": "del ",
     "library": "var_list.py",
     "varRefreshCmd": "print(var_dic_list())"
    },
    "r": {
     "delete_cmd_postfix": ") ",
     "delete_cmd_prefix": "rm(",
     "library": "var_list.r",
     "varRefreshCmd": "cat(var_dic_list()) "
    }
   },
   "types_to_exclude": [
    "module",
    "function",
    "builtin_function_or_method",
    "instance",
    "_Feature"
   ],
   "window_display": false
  }
 },
 "nbformat": 4,
 "nbformat_minor": 2
}
