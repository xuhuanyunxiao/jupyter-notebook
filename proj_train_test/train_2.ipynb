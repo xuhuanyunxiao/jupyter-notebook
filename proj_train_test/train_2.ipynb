{
 "cells": [
  {
   "cell_type": "markdown",
   "metadata": {
    "ExecuteTime": {
     "end_time": "2018-09-10T06:12:36.169323Z",
     "start_time": "2018-09-10T06:12:36.152322Z"
    }
   },
   "source": [
    "# 本文件说明\n",
    "- 训练模型,查看模型结果：包括K-fold、概率结果"
   ]
  },
  {
   "cell_type": "markdown",
   "metadata": {},
   "source": [
    "# 基本设置"
   ]
  },
  {
   "cell_type": "code",
   "execution_count": 1,
   "metadata": {
    "ExecuteTime": {
     "end_time": "2018-12-03T05:54:06.779448Z",
     "start_time": "2018-12-03T05:54:04.749331Z"
    },
    "collapsed": true
   },
   "outputs": [],
   "source": [
    "import jieba\n",
    "from jieba import analyse\n",
    "import sys\n",
    "import re\n",
    "import time\n",
    "import datetime\n",
    "import string\n",
    "from sklearn import feature_extraction\n",
    "from sklearn.pipeline import Pipeline,FeatureUnion\n",
    "from sklearn.model_selection import GridSearchCV\n",
    "from sklearn.feature_extraction.text import TfidfTransformer\n",
    "from sklearn.feature_extraction.text import CountVectorizer\n",
    "\n",
    "from sklearn.feature_extraction.text import TfidfVectorizer\n",
    "from sklearn.feature_selection import SelectKBest, chi2,mutual_info_classif,f_classif \n",
    "from sklearn.preprocessing import StandardScaler\n",
    "\n",
    "import xgboost as xgb\n",
    "from xgboost import XGBClassifier\n",
    "from sklearn import metrics\n",
    "\n",
    "from sklearn.base import BaseEstimator, TransformerMixin\n",
    "\n",
    "%matplotlib inline\n",
    "import numpy as np\n",
    "import pandas as pd\n",
    "import os\n",
    "from sklearn.model_selection import train_test_split\n",
    "from collections import Counter\n",
    "\n",
    "import warnings\n",
    "warnings.filterwarnings('ignore')"
   ]
  },
  {
   "cell_type": "code",
   "execution_count": 2,
   "metadata": {
    "ExecuteTime": {
     "end_time": "2018-12-03T05:54:06.954458Z",
     "start_time": "2018-12-03T05:54:06.783448Z"
    },
    "collapsed": true
   },
   "outputs": [],
   "source": [
    "from toolkits.nlp.generate_keywords import generate_keywords\n",
    "from toolkits.nlp import myclass_circ\n",
    "from toolkits.nlp import myclass_cbrc\n",
    "from toolkits.nlp import load_save_plot_file"
   ]
  },
  {
   "cell_type": "code",
   "execution_count": 3,
   "metadata": {
    "ExecuteTime": {
     "end_time": "2018-12-03T05:54:07.122467Z",
     "start_time": "2018-12-03T05:54:06.957458Z"
    },
    "collapsed": true
   },
   "outputs": [],
   "source": [
    "%load_ext autoreload\n",
    "%autoreload 2"
   ]
  },
  {
   "cell_type": "markdown",
   "metadata": {},
   "source": [
    "## 一些函数"
   ]
  },
  {
   "cell_type": "code",
   "execution_count": 4,
   "metadata": {
    "ExecuteTime": {
     "end_time": "2018-12-03T05:54:07.398483Z",
     "start_time": "2018-12-03T05:54:07.126467Z"
    },
    "collapsed": true
   },
   "outputs": [],
   "source": [
    "def cal_kfold(title_content, label, pipeline, raw_folder, filename, class_name_dict):\n",
    "    from sklearn.model_selection import KFold\n",
    "    import numpy as np\n",
    "\n",
    "    data_raw = pd.read_excel('%s/corpus/title_content_label.xlsx'%raw_folder)\n",
    "    raw_title = np.array(data_raw['title'])\n",
    "    raw_content = np.array(data_raw['content'])\n",
    "    print('data_raw: ', data_raw.shape)\n",
    "\n",
    "    kf = KFold(n_splits=5, shuffle=True, random_state=0)\n",
    "    title_content = np.array(title_content)\n",
    "    label = np.array(label)\n",
    "    \n",
    "    kfold_res = {'raw_title':[], 'raw_content':[], 'label':[], \n",
    "             'predict_label':[], 'title_content':[], 'predict_proba':[]}\n",
    "\n",
    "    num = 0\n",
    "    for train_index , test_index in kf.split(title_content):\n",
    "        print('---- %s'%(num+1))\n",
    "        X_train,X_test = title_content[train_index], title_content[test_index]\n",
    "        y_train,y_test = label[train_index], label[test_index]\n",
    "        \n",
    "        pipeline.fit(X_train, y_train)\n",
    "        print(pipeline.score(X_train, y_train))    \n",
    "\n",
    "        y_pred_class = pipeline.predict(X_test)\n",
    "        print('accuracy_score: ', metrics.accuracy_score(y_test, y_pred_class)) # 指所有分类正确的百分比\n",
    "        print(metrics.classification_report(y_test, y_pred_class))\n",
    "        print('confusion_matrix: ')\n",
    "        print( metrics.confusion_matrix(y_test, y_pred_class))   \n",
    "        \n",
    "        y_pred_prob = pipeline.predict_proba(X_test)\n",
    "\n",
    "        kfold_res['raw_title'] += list(raw_title[test_index])\n",
    "        kfold_res['raw_content'] += list(raw_content[test_index])\n",
    "        kfold_res['title_content'] += list(X_test)\n",
    "        kfold_res['label'] += [class_name_dict[i] for i in y_test]\n",
    "        kfold_res['predict_label'] += [class_name_dict[i] for i in y_pred_class]\n",
    "        kfold_res['predict_proba'] += list(y_pred_prob.max(axis = 1))\n",
    "    \n",
    "        num += 1\n",
    "        \n",
    "    kfold_result = pd.DataFrame.from_dict(kfold_res, orient = 'index').T\n",
    "    kfold_result['R_W'] = kfold_result.apply(lambda x: 'Right' if x['label'] == x['predict_label'] else 'Wrong', axis = 1)\n",
    "    print('kfold_result: ', kfold_result.shape)\n",
    "    \n",
    "    with pd.ExcelWriter('%s/corpus/%s'%(raw_folder, filename)) as writer:\n",
    "        for label in kfold_result['label'].unique():\n",
    "            tmp_data = kfold_result[kfold_result['label'] == label]\n",
    "            tmp_data.to_excel(writer, label, index = False)\n",
    "        writer.save()"
   ]
  },
  {
   "cell_type": "code",
   "execution_count": 5,
   "metadata": {
    "ExecuteTime": {
     "end_time": "2018-12-03T05:54:07.611495Z",
     "start_time": "2018-12-03T05:54:07.402483Z"
    },
    "collapsed": true
   },
   "outputs": [],
   "source": [
    "def plot_class_proba(y_pred_class, y_pred_prob):\n",
    "    import seaborn as sns\n",
    "    import matplotlib.pyplot as plt\n",
    "\n",
    "    sel_data = pd.DataFrame()\n",
    "    sel_data['predict_label'] = y_pred_class\n",
    "    sel_data['predict_proba'] = y_pred_prob\n",
    "    sel_data['label'] = y_test\n",
    "\n",
    "    label_dic={'监管':1,'行业':2,'产品销售':3,'资本市场':4,'公司内部管理':5,'消费服务':6,'其他相关报道':7,'噪音':8}\n",
    "    # sel_data['predict_label'] = sel_data['predict_label'].apply(lambda x:label_dic[x])\n",
    "    g = sns.FacetGrid(sel_data, col=\"predict_label\", col_wrap=4, sharex=False)\n",
    "    g.map(plt.hist, \"predict_proba\", bins = 10)\n",
    "\n",
    "    sel_data['proba'] = sel_data['predict_proba'].apply(lambda x:round(x, 1))\n",
    "    sel_data_stat = sel_data.groupby(['predict_label', 'proba'])['predict_proba'].count().unstack().fillna(0)\n",
    "    sel_data_stat['sum'] = sel_data_stat.sum(axis = 1)\n",
    "    sel_data_stat.loc['sum'] = sel_data_stat.sum(axis = 0)\n",
    "    return sel_data_stat"
   ]
  },
  {
   "cell_type": "code",
   "execution_count": 24,
   "metadata": {
    "ExecuteTime": {
     "end_time": "2018-12-03T06:21:02.786878Z",
     "start_time": "2018-12-03T06:21:02.536864Z"
    }
   },
   "outputs": [],
   "source": [
    "def save_model_report(filename, proj_name):\n",
    "    now = datetime.datetime.now().strftime(\"%Y-%m-%d %H:%S:%M\")\n",
    "    model_result = []\n",
    "    model_result.append(['项目-模型：', proj_name, '日期：', now])\n",
    "    model_result.append(['accuracy_score', metrics.accuracy_score(y_test, y_pred_class)])\n",
    "    classification_report = metrics.classification_report(y_test, y_pred_class)\n",
    "    lines = classification_report.split('\\n')\n",
    "    plot_data = []\n",
    "    for index, line in enumerate(lines):\n",
    "        t = line.strip().split()\n",
    "        if len(t) < 2: continue        \n",
    "        if index == 0:\n",
    "            plot_data.append([''] + t)   \n",
    "        elif index == len(lines) -2:\n",
    "            t = [float(v) if i > 2 else v for i, v in enumerate(t) ]\n",
    "            plot_data.append(['avg/total'] + t[3:])             \n",
    "        else :\n",
    "            t = [float(v) if i > 0 else v for i, v in enumerate(t)]\n",
    "            plot_data.append(t)\n",
    "    model_result = model_result + plot_data\n",
    "    \n",
    "    model_result.append(['confusion_matrix'])    \n",
    "    confusion_matrix = metrics.confusion_matrix(y_test, y_pred_class)\n",
    "    model_result = model_result + confusion_matrix.tolist()\n",
    "    \n",
    "    model_result = pd.DataFrame(model_result)\n",
    "    model_result.to_csv(filename, index = False, mode = 'a', encoding = 'utf-8')"
   ]
  },
  {
   "cell_type": "markdown",
   "metadata": {
    "collapsed": true
   },
   "source": [
    "# 保险业：1 八分类"
   ]
  },
  {
   "cell_type": "markdown",
   "metadata": {},
   "source": [
    "## 导入与分割数据"
   ]
  },
  {
   "cell_type": "code",
   "execution_count": 7,
   "metadata": {
    "ExecuteTime": {
     "end_time": "2018-12-03T05:54:16.977031Z",
     "start_time": "2018-12-03T05:54:16.264990Z"
    }
   },
   "outputs": [
    {
     "name": "stdout",
     "output_type": "stream",
     "text": [
      "title num:  23559\n",
      "['天安 销售 虚列费用 员工 发 福利 相', '泰康人寿 疑设 招聘 骗局 元 底薪 扣到 剩元']\n",
      "content num:  23559\n",
      "title_content num:  23559\n",
      "label num:  23559\n",
      "['公司内部管理', '公司内部管理', '公司内部管理', '公司内部管理', '公司内部管理']\n"
     ]
    }
   ],
   "source": [
    "cbrc_filepath_class = 'circ_result_class/corpus/'\n",
    "title_content, label, title, content = load_save_plot_file.title_content_label(cbrc_filepath_class)"
   ]
  },
  {
   "cell_type": "code",
   "execution_count": 8,
   "metadata": {
    "ExecuteTime": {
     "end_time": "2018-12-03T05:54:19.195158Z",
     "start_time": "2018-12-03T05:54:19.027148Z"
    }
   },
   "outputs": [
    {
     "data": {
      "text/plain": [
       "{1: '监管',\n",
       " 2: '行业',\n",
       " 3: '产品销售',\n",
       " 4: '资本市场',\n",
       " 5: '公司内部管理',\n",
       " 6: '消费服务',\n",
       " 7: '其他相关报道',\n",
       " 8: '噪音'}"
      ]
     },
     "execution_count": 8,
     "metadata": {},
     "output_type": "execute_result"
    }
   ],
   "source": [
    "label_dic={'监管':1,'行业':2,'产品销售':3,'资本市场':4,'公司内部管理':5,'消费服务':6,'其他相关报道':7,'噪音':8}\n",
    "class_name_dict = {v: k for k, v in label_dic.items()}\n",
    "class_name_dict"
   ]
  },
  {
   "cell_type": "code",
   "execution_count": 9,
   "metadata": {
    "ExecuteTime": {
     "end_time": "2018-12-03T05:54:21.246275Z",
     "start_time": "2018-12-03T05:54:21.062264Z"
    }
   },
   "outputs": [
    {
     "data": {
      "text/plain": [
       "[5, 5, 5, 5, 5]"
      ]
     },
     "execution_count": 9,
     "metadata": {},
     "output_type": "execute_result"
    }
   ],
   "source": [
    "label = [label_dic[l] for l in label]\n",
    "label[:5]"
   ]
  },
  {
   "cell_type": "code",
   "execution_count": 10,
   "metadata": {
    "ExecuteTime": {
     "end_time": "2018-12-03T05:54:23.002375Z",
     "start_time": "2018-12-03T05:54:22.848367Z"
    }
   },
   "outputs": [
    {
     "name": "stdout",
     "output_type": "stream",
     "text": [
      "训练集： 16491\n",
      "训练集-各类数量： Counter({8: 4380, 2: 2284, 5: 2124, 1: 2001, 6: 1927, 7: 1625, 4: 1288, 3: 862})\n",
      "测试集： 7068\n",
      "测试集-各类数量： Counter({8: 1933, 1: 946, 2: 935, 5: 906, 6: 803, 7: 650, 4: 505, 3: 390})\n"
     ]
    }
   ],
   "source": [
    "X_train, X_test, y_train, y_test = train_test_split(title_content, label, test_size=0.3, random_state=42)\n",
    "print('训练集：',len(y_train))\n",
    "print('训练集-各类数量：',Counter(y_train))\n",
    "print('测试集：',len(y_test))\n",
    "print('测试集-各类数量：',Counter(y_test))"
   ]
  },
  {
   "cell_type": "markdown",
   "metadata": {},
   "source": [
    "## 生成词典"
   ]
  },
  {
   "cell_type": "code",
   "execution_count": 57,
   "metadata": {
    "ExecuteTime": {
     "end_time": "2018-12-03T04:05:47.604716Z",
     "start_time": "2018-12-03T03:51:29.100612Z"
    }
   },
   "outputs": [
    {
     "name": "stderr",
     "output_type": "stream",
     "text": [
      "Building prefix dict from the default dictionary ...\n",
      "Loading model from cache C:\\Users\\ADMINI~1\\AppData\\Local\\Temp\\jieba.cache\n"
     ]
    },
    {
     "name": "stdout",
     "output_type": "stream",
     "text": [
      "class_label:  [1 2 3 4 5 6 7 8]\n",
      "\n",
      "依据类别生成关键词：\n"
     ]
    },
    {
     "name": "stderr",
     "output_type": "stream",
     "text": [
      "Loading model cost 1.173 seconds.\n",
      "Prefix dict has been built succesfully.\n"
     ]
    },
    {
     "name": "stdout",
     "output_type": "stream",
     "text": [
      "['监管', '风险', '投资', '银行', '金融', '管理', '机构', '产品', '业务', '资产']\n",
      "keywords num:  500\n",
      "类别：1 -- 文本个数：2947，label个数:2947，取词个数：500\n",
      "['公司', '保险公司', '中国', '保费', '业务', '产品', '市场', '投资', '风险', '人寿']\n",
      "keywords num:  500\n",
      "类别：2 -- 文本个数：3219，label个数:3219，取词个数：500\n",
      "['保障', '产品', '保费', '疾病', '保险', '投保', '保险公司', '客户', '服务', '保额']\n",
      "keywords num:  500\n",
      "类别：3 -- 文本个数：1252，label个数:1252，取词个数：500\n",
      "['中国', '市场', '公司', '板块', '投资', '资金', '股份', '个股', '银行', '指数']\n",
      "keywords num:  500\n",
      "类别：4 -- 文本个数：1793，label个数:1793，取词个数：500\n",
      "['公司', '中国', '业务', '有限公司', '保险', '人寿', '服务', '罚款', '财险', '发展']\n",
      "keywords num:  500\n",
      "类别：5 -- 文本个数：3030，label个数:3030，取词个数：500\n",
      "['理赔', '客户', '人寿', '服务', '公司', '保险公司', '事故', '保险', '生命', '分公司']\n",
      "keywords num:  500\n",
      "类别：6 -- 文本个数：2730，label个数:2730，取词个数：500\n",
      "['公司', '活动', '分公司', '中国', '人寿', '有限公司', '服务', '扶贫', '客户', '股份']\n",
      "keywords num:  500\n",
      "类别：7 -- 文本个数：2275，label个数:2275，取词个数：500\n",
      "['工作', '公司', '企业', '服务', '招聘', '中国', '项目', '管理', '银行', '提供']\n",
      "keywords num:  500\n",
      "类别：8 -- 文本个数：6313，label个数:6313，取词个数：500\n",
      "\n",
      "去除词（key_count_list）个数： 370\n",
      "词典词（key_dict）个数： 1689\n",
      "\n",
      "前后对比：去除超过阈值的词\n",
      "['过渡期', '银行业', '金融风险', '非标', '加快', '意见', '化解', '整治', '杠杆', '协调']\n",
      "类别：1 -- 去除前：500， 去除后：221\n",
      "['抵押', '老年人', '住房', '反向', '下滑', '房子', '人身险', '房屋', '亏损', '充足率']\n",
      "类别：2 -- 去除前：500， 去除后：175\n",
      "['保额', '疾险', '身故', '轻症', '豁免', '住院', '癌症', '附加', '治疗', '医疗险']\n",
      "类别：3 -- 去除前：500， 去除后：251\n",
      "['个股', '反弹', '上涨', '持股', '大盘', '股市', '行情', '下跌', '涨幅', '港股']\n",
      "类别：4 -- 去除前：500， 去除后：282\n",
      "['罚款', '决定书', '行政处罚', '当事人', '事实', '违反', '之日起', '充足率', '收到', '总经理']\n",
      "类别：5 -- 去除前：500， 去除后：195\n",
      "['报案', '女士', '家属', '赔款', '查勘', '法院', '保额', '治疗', '接到', '身故']\n",
      "类别：6 -- 去除前：500， 去除后：286\n",
      "['收悉', '批复', '收到', '作出', '管理人员', '监事', '董事', '健步', '之日起', '公益']\n",
      "类别：7 -- 去除前：500， 去除后：248\n",
      "['招聘', '报名', '招标', '岗位', '资格', '待遇', '经验', '缴费', '工资', '采购']\n",
      "类别：8 -- 去除前：500， 去除后：210\n",
      "['会员', '设备', '住房', '迎来', '学历', '次新股', '投票', '流向', '加仓', '台风']\n",
      "len(keywords):  1319\n"
     ]
    }
   ],
   "source": [
    "g_k = generate_keywords(500)\n",
    "g_k.gen_keywords_by_class(title_content, label, v_thre = 3)"
   ]
  },
  {
   "cell_type": "code",
   "execution_count": 58,
   "metadata": {
    "ExecuteTime": {
     "end_time": "2018-12-03T04:05:48.822786Z",
     "start_time": "2018-12-03T04:05:48.638775Z"
    }
   },
   "outputs": [
    {
     "name": "stdout",
     "output_type": "stream",
     "text": [
      "file_path:  d:\\xh\\python_project\\tool\\toolkits\\nlp\\corpus\\keywords_i.txt\n"
     ]
    }
   ],
   "source": [
    "g_k.save_txt('keywords_i.txt')"
   ]
  },
  {
   "cell_type": "markdown",
   "metadata": {},
   "source": [
    "## train & test"
   ]
  },
  {
   "cell_type": "code",
   "execution_count": 22,
   "metadata": {
    "ExecuteTime": {
     "end_time": "2018-11-05T10:01:19.010832Z",
     "start_time": "2018-11-05T09:59:26.049371Z"
    }
   },
   "outputs": [
    {
     "name": "stdout",
     "output_type": "stream",
     "text": [
      "d:\\xh\\python_project\\tool\\toolkits\\nlp\n",
      "d:\\xh\\python_project\\tool\\toolkits\\nlp\n",
      "(21981, 21330)\n"
     ]
    },
    {
     "data": {
      "text/plain": [
       "['model/circ_labels_20181105.pkl.z']"
      ]
     },
     "execution_count": 22,
     "metadata": {},
     "output_type": "execute_result"
    }
   ],
   "source": [
    "## 保存特征\n",
    "# pipeline = Pipeline([\n",
    "#     ('features', FeatureUnion([\n",
    "#         ('tf_idf', Pipeline([\n",
    "#             ('counts', CountVectorizer(max_df=0.95, min_df=2)),\n",
    "#             ('tf_idf', TfidfTransformer()),\n",
    "#             ('chi', SelectKBest(chi2, k=20000))\n",
    "#         ])),\n",
    "#         ('len_stats', myclass_circ.StatsFeatures_cor()),\n",
    "#         ('tf', myclass_circ.Statskeywords_cor(topk = 5000))\n",
    "#     ])),\n",
    "#     ('standard', StandardScaler(with_mean=False))\n",
    "# ])\n",
    "\n",
    "# pipeline_train = pipeline.fit(title_content, label)\n",
    "# X_features = pipeline_train.transform(title_content)\n",
    "# print(X_features.shape)\n",
    "\n",
    "# from sklearn.externals import joblib\n",
    "# joblib.dump(pipeline_train, \"model/circ_pipeline_20181105.pkl.z\")\n",
    "# joblib.dump(X_features, \"model/circ_features_20181105.pkl.z\")\n",
    "# joblib.dump(label, \"model/circ_labels_20181105.pkl.z\")"
   ]
  },
  {
   "cell_type": "code",
   "execution_count": 28,
   "metadata": {
    "ExecuteTime": {
     "end_time": "2018-11-05T10:09:51.037118Z",
     "start_time": "2018-11-05T10:09:45.330792Z"
    }
   },
   "outputs": [
    {
     "name": "stdout",
     "output_type": "stream",
     "text": [
      "(1580, 21330)\n",
      "1580\n"
     ]
    },
    {
     "data": {
      "text/plain": [
       "['model/circ_labels_20181105_test.pkl.z']"
      ]
     },
     "execution_count": 28,
     "metadata": {},
     "output_type": "execute_result"
    }
   ],
   "source": [
    "# from sklearn.externals import joblib\n",
    "# pipeline_train = joblib.load( \"model/circ_pipeline_20181105.pkl.z\")\n",
    "\n",
    "# X_features_test = pipeline_train.transform(title_content)\n",
    "# print(X_features_test.shape)\n",
    "# print(len(label))\n",
    "\n",
    "# joblib.dump(X_features_test, \"model/circ_features_20181105_test.pkl.z\")\n",
    "# joblib.dump(label, \"model/circ_labels_20181105_test.pkl.z\")"
   ]
  },
  {
   "cell_type": "code",
   "execution_count": 6,
   "metadata": {
    "ExecuteTime": {
     "end_time": "2018-11-06T01:38:23.894811Z",
     "start_time": "2018-11-06T01:38:22.972758Z"
    }
   },
   "outputs": [
    {
     "name": "stdout",
     "output_type": "stream",
     "text": [
      "(21981, 21330)\n",
      "21981\n",
      "(1580, 21330)\n",
      "1580\n"
     ]
    }
   ],
   "source": [
    "# from sklearn.externals import joblib\n",
    "# X_features = joblib.load( \"model/circ_features_20181105.pkl.z\")\n",
    "# label = joblib.load( \"model/circ_labels_20181105.pkl.z\")\n",
    "# print(X_features.shape)\n",
    "# print(len(label))\n",
    "\n",
    "# X_features = joblib.load( \"model/circ_features_20181105_test.pkl.z\")\n",
    "# label = joblib.load( \"model/circ_labels_20181105_test.pkl.z\")\n",
    "# print(X_features.shape)\n",
    "# print(len(label))"
   ]
  },
  {
   "cell_type": "code",
   "execution_count": 59,
   "metadata": {
    "ExecuteTime": {
     "end_time": "2018-12-03T04:05:50.050856Z",
     "start_time": "2018-12-03T04:05:49.902847Z"
    }
   },
   "outputs": [
    {
     "name": "stdout",
     "output_type": "stream",
     "text": [
      "d:\\xh\\python_project\\tool\\toolkits\\nlp\n"
     ]
    },
    {
     "data": {
      "text/plain": [
       "1319"
      ]
     },
     "execution_count": 59,
     "metadata": {},
     "output_type": "execute_result"
    }
   ],
   "source": [
    "a = myclass_circ.Statskeywords_cor(5000)\n",
    "len(a.keywords)"
   ]
  },
  {
   "cell_type": "code",
   "execution_count": 11,
   "metadata": {
    "ExecuteTime": {
     "end_time": "2018-12-03T06:11:20.601579Z",
     "start_time": "2018-12-03T05:55:00.684531Z"
    }
   },
   "outputs": [
    {
     "name": "stdout",
     "output_type": "stream",
     "text": [
      "d:\\xh\\python_project\\tool\\toolkits\\nlp\n",
      "d:\\xh\\python_project\\tool\\toolkits\\nlp\n",
      "0.9711964101631193\n"
     ]
    },
    {
     "data": {
      "text/plain": [
       "Pipeline(memory=None,\n",
       "     steps=[('features', FeatureUnion(n_jobs=1,\n",
       "       transformer_list=[('tf_idf', Pipeline(memory=None,\n",
       "     steps=[('counts', CountVectorizer(analyzer='word', binary=False, decode_error='strict',\n",
       "        dtype=<class 'numpy.int64'>, encoding='utf-8', input='content',\n",
       "        lowercase=True, max_df=0.9...tate=0, reg_alpha=0, reg_lambda=1, scale_pos_weight=1,\n",
       "       seed=None, silent=True, subsample=1))])"
      ]
     },
     "execution_count": 11,
     "metadata": {},
     "output_type": "execute_result"
    }
   ],
   "source": [
    "pipeline = Pipeline([\n",
    "    ('features', FeatureUnion([\n",
    "        ('tf_idf', Pipeline([\n",
    "            ('counts', CountVectorizer(max_df=0.95, min_df=2)),\n",
    "            ('tf_idf', TfidfTransformer()),\n",
    "            ('chi', SelectKBest(chi2, k=20000))\n",
    "        ])),\n",
    "        ('len_stats', myclass_circ.StatsFeatures_cor()),\n",
    "        ('tf', myclass_circ.Statskeywords_cor(topk = 5000))\n",
    "    ])),\n",
    "    ('standard', StandardScaler(with_mean=False)),\n",
    "    ('classifier', XGBClassifier(max_depth=7,objective='multi:softmax', num_class=8))\n",
    "])\n",
    "\n",
    "pipeline.fit(X_train, y_train)\n",
    "print(pipeline.score(X_train, y_train))\n",
    "pipeline"
   ]
  },
  {
   "cell_type": "code",
   "execution_count": 25,
   "metadata": {
    "ExecuteTime": {
     "end_time": "2018-12-03T06:21:21.113926Z",
     "start_time": "2018-12-03T06:21:09.018234Z"
    }
   },
   "outputs": [
    {
     "name": "stdout",
     "output_type": "stream",
     "text": [
      "accuracy_score:  0.8239954725523486\n",
      "             precision    recall  f1-score   support\n",
      "\n",
      "          1       0.81      0.85      0.83       946\n",
      "          2       0.79      0.83      0.81       935\n",
      "          3       0.86      0.71      0.78       390\n",
      "          4       0.84      0.81      0.82       505\n",
      "          5       0.79      0.83      0.81       906\n",
      "          6       0.83      0.86      0.85       803\n",
      "          7       0.87      0.83      0.85       650\n",
      "          8       0.84      0.82      0.83      1933\n",
      "\n",
      "avg / total       0.83      0.82      0.82      7068\n",
      "\n",
      "confusion_matrix: \n",
      "[[ 801   57    1    2    9    4    4   68]\n",
      " [  26  774   13   12   24   21    7   58]\n",
      " [   3   20  278    0   19   32    9   29]\n",
      " [   8   14    1  407   29    1    2   43]\n",
      " [   5   56    4   12  752   23   19   35]\n",
      " [   3   17    5    3   34  689   10   42]\n",
      " [   8   12    4    0   42   12  540   32]\n",
      " [ 129   35   17   49   46   44   30 1583]]\n"
     ]
    }
   ],
   "source": [
    "y_pred_class = pipeline.predict(X_test)\n",
    "print('accuracy_score: ', metrics.accuracy_score(y_test, y_pred_class)) # 指所有分类正确的百分比\n",
    "print(metrics.classification_report(y_test, y_pred_class))\n",
    "print('confusion_matrix: ')\n",
    "print( metrics.confusion_matrix(y_test, y_pred_class))\n",
    "\n",
    "filename = 'statistics_result/CIRC_class_model_report.csv'\n",
    "save_model_report(filename, 'CIRC_class_model_report')"
   ]
  },
  {
   "cell_type": "markdown",
   "metadata": {},
   "source": [
    "## 概率结果"
   ]
  },
  {
   "cell_type": "code",
   "execution_count": 62,
   "metadata": {
    "ExecuteTime": {
     "end_time": "2018-12-03T04:21:33.146798Z",
     "start_time": "2018-12-03T04:21:20.828093Z"
    }
   },
   "outputs": [
    {
     "data": {
      "text/plain": [
       "<matplotlib.axes._subplots.AxesSubplot at 0x167011d0>"
      ]
     },
     "execution_count": 62,
     "metadata": {},
     "output_type": "execute_result"
    },
    {
     "data": {
      "image/png": "[encoded data removed]",
      "text/plain": [
       "<matplotlib.figure.Figure at 0x21b117b8>"
      ]
     },
     "metadata": {},
     "output_type": "display_data"
    }
   ],
   "source": [
    "y_pred_prob = pipeline.predict_proba(X_test)\n",
    "pd.DataFrame(y_pred_prob.max(axis = 1)).plot.hist(bins = 100)"
   ]
  },
  {
   "cell_type": "code",
   "execution_count": 63,
   "metadata": {
    "ExecuteTime": {
     "end_time": "2018-12-03T04:21:35.175914Z",
     "start_time": "2018-12-03T04:21:34.185857Z"
    }
   },
   "outputs": [
    {
     "data": {
      "text/html": [
       "<div>\n",
       "<style scoped>\n",
       "    .dataframe tbody tr th:only-of-type {\n",
       "        vertical-align: middle;\n",
       "    }\n",
       "\n",
       "    .dataframe tbody tr th {\n",
       "        vertical-align: top;\n",
       "    }\n",
       "\n",
       "    .dataframe thead th {\n",
       "        text-align: right;\n",
       "    }\n",
       "</style>\n",
       "<table border=\"1\" class=\"dataframe\">\n",
       "  <thead>\n",
       "    <tr style=\"text-align: right;\">\n",
       "      <th>proba</th>\n",
       "      <th>0.2</th>\n",
       "      <th>0.3</th>\n",
       "      <th>0.4</th>\n",
       "      <th>0.5</th>\n",
       "      <th>0.6</th>\n",
       "      <th>0.7</th>\n",
       "      <th>0.8</th>\n",
       "      <th>0.9</th>\n",
       "      <th>1.0</th>\n",
       "      <th>sum</th>\n",
       "    </tr>\n",
       "    <tr>\n",
       "      <th>predict_label</th>\n",
       "      <th></th>\n",
       "      <th></th>\n",
       "      <th></th>\n",
       "      <th></th>\n",
       "      <th></th>\n",
       "      <th></th>\n",
       "      <th></th>\n",
       "      <th></th>\n",
       "      <th></th>\n",
       "      <th></th>\n",
       "    </tr>\n",
       "  </thead>\n",
       "  <tbody>\n",
       "    <tr>\n",
       "      <th>1</th>\n",
       "      <td>0.0</td>\n",
       "      <td>9.0</td>\n",
       "      <td>33.0</td>\n",
       "      <td>92.0</td>\n",
       "      <td>101.0</td>\n",
       "      <td>128.0</td>\n",
       "      <td>160.0</td>\n",
       "      <td>250.0</td>\n",
       "      <td>210.0</td>\n",
       "      <td>983.0</td>\n",
       "    </tr>\n",
       "    <tr>\n",
       "      <th>2</th>\n",
       "      <td>1.0</td>\n",
       "      <td>25.0</td>\n",
       "      <td>62.0</td>\n",
       "      <td>82.0</td>\n",
       "      <td>83.0</td>\n",
       "      <td>98.0</td>\n",
       "      <td>128.0</td>\n",
       "      <td>232.0</td>\n",
       "      <td>274.0</td>\n",
       "      <td>985.0</td>\n",
       "    </tr>\n",
       "    <tr>\n",
       "      <th>3</th>\n",
       "      <td>8.0</td>\n",
       "      <td>14.0</td>\n",
       "      <td>26.0</td>\n",
       "      <td>40.0</td>\n",
       "      <td>21.0</td>\n",
       "      <td>19.0</td>\n",
       "      <td>33.0</td>\n",
       "      <td>78.0</td>\n",
       "      <td>84.0</td>\n",
       "      <td>323.0</td>\n",
       "    </tr>\n",
       "    <tr>\n",
       "      <th>4</th>\n",
       "      <td>0.0</td>\n",
       "      <td>6.0</td>\n",
       "      <td>15.0</td>\n",
       "      <td>36.0</td>\n",
       "      <td>43.0</td>\n",
       "      <td>49.0</td>\n",
       "      <td>54.0</td>\n",
       "      <td>115.0</td>\n",
       "      <td>167.0</td>\n",
       "      <td>485.0</td>\n",
       "    </tr>\n",
       "    <tr>\n",
       "      <th>5</th>\n",
       "      <td>22.0</td>\n",
       "      <td>45.0</td>\n",
       "      <td>69.0</td>\n",
       "      <td>98.0</td>\n",
       "      <td>88.0</td>\n",
       "      <td>103.0</td>\n",
       "      <td>119.0</td>\n",
       "      <td>186.0</td>\n",
       "      <td>225.0</td>\n",
       "      <td>955.0</td>\n",
       "    </tr>\n",
       "    <tr>\n",
       "      <th>6</th>\n",
       "      <td>3.0</td>\n",
       "      <td>15.0</td>\n",
       "      <td>34.0</td>\n",
       "      <td>47.0</td>\n",
       "      <td>50.0</td>\n",
       "      <td>80.0</td>\n",
       "      <td>84.0</td>\n",
       "      <td>198.0</td>\n",
       "      <td>315.0</td>\n",
       "      <td>826.0</td>\n",
       "    </tr>\n",
       "    <tr>\n",
       "      <th>7</th>\n",
       "      <td>1.0</td>\n",
       "      <td>10.0</td>\n",
       "      <td>34.0</td>\n",
       "      <td>42.0</td>\n",
       "      <td>43.0</td>\n",
       "      <td>55.0</td>\n",
       "      <td>50.0</td>\n",
       "      <td>88.0</td>\n",
       "      <td>298.0</td>\n",
       "      <td>621.0</td>\n",
       "    </tr>\n",
       "    <tr>\n",
       "      <th>8</th>\n",
       "      <td>8.0</td>\n",
       "      <td>48.0</td>\n",
       "      <td>93.0</td>\n",
       "      <td>120.0</td>\n",
       "      <td>144.0</td>\n",
       "      <td>134.0</td>\n",
       "      <td>143.0</td>\n",
       "      <td>370.0</td>\n",
       "      <td>830.0</td>\n",
       "      <td>1890.0</td>\n",
       "    </tr>\n",
       "    <tr>\n",
       "      <th>sum</th>\n",
       "      <td>43.0</td>\n",
       "      <td>172.0</td>\n",
       "      <td>366.0</td>\n",
       "      <td>557.0</td>\n",
       "      <td>573.0</td>\n",
       "      <td>666.0</td>\n",
       "      <td>771.0</td>\n",
       "      <td>1517.0</td>\n",
       "      <td>2403.0</td>\n",
       "      <td>7068.0</td>\n",
       "    </tr>\n",
       "  </tbody>\n",
       "</table>\n",
       "</div>"
      ],
      "text/plain": [
       "proba           0.2    0.3    0.4    0.5    0.6    0.7    0.8     0.9     1.0  \\\n",
       "predict_label                                                                   \n",
       "1               0.0    9.0   33.0   92.0  101.0  128.0  160.0   250.0   210.0   \n",
       "2               1.0   25.0   62.0   82.0   83.0   98.0  128.0   232.0   274.0   \n",
       "3               8.0   14.0   26.0   40.0   21.0   19.0   33.0    78.0    84.0   \n",
       "4               0.0    6.0   15.0   36.0   43.0   49.0   54.0   115.0   167.0   \n",
       "5              22.0   45.0   69.0   98.0   88.0  103.0  119.0   186.0   225.0   \n",
       "6               3.0   15.0   34.0   47.0   50.0   80.0   84.0   198.0   315.0   \n",
       "7               1.0   10.0   34.0   42.0   43.0   55.0   50.0    88.0   298.0   \n",
       "8               8.0   48.0   93.0  120.0  144.0  134.0  143.0   370.0   830.0   \n",
       "sum            43.0  172.0  366.0  557.0  573.0  666.0  771.0  1517.0  2403.0   \n",
       "\n",
       "proba             sum  \n",
       "predict_label          \n",
       "1               983.0  \n",
       "2               985.0  \n",
       "3               323.0  \n",
       "4               485.0  \n",
       "5               955.0  \n",
       "6               826.0  \n",
       "7               621.0  \n",
       "8              1890.0  \n",
       "sum            7068.0  "
      ]
     },
     "execution_count": 63,
     "metadata": {},
     "output_type": "execute_result"
    },
    {
     "data": {
      "image/png": "[encoded data removed]",
      "text/plain": [
       "<matplotlib.figure.Figure at 0x21461e10>"
      ]
     },
     "metadata": {},
     "output_type": "display_data"
    }
   ],
   "source": [
    "sel_data_stat = plot_class_proba(y_pred_class, y_pred_prob.max(axis = 1))\n",
    "sel_data_stat"
   ]
  },
  {
   "cell_type": "markdown",
   "metadata": {},
   "source": [
    "## K-fold"
   ]
  },
  {
   "cell_type": "code",
   "execution_count": null,
   "metadata": {
    "ExecuteTime": {
     "start_time": "2018-09-19T02:37:15.664Z"
    }
   },
   "outputs": [
    {
     "name": "stdout",
     "output_type": "stream",
     "text": [
      "d:\\xh\\python_project\\tool\\toolkits\\nlp\n",
      "d:\\xh\\python_project\\tool\\toolkits\\nlp\n",
      "data_raw:  (18022, 5)\n",
      "---- 1\n",
      "0.9890407158215995\n",
      "accuracy_score:  0.860748959778086\n",
      "             precision    recall  f1-score   support\n",
      "\n",
      "          1       0.82      0.83      0.83       431\n",
      "          2       0.84      0.85      0.84       487\n",
      "          3       0.89      0.73      0.80       187\n",
      "          4       0.90      0.80      0.85       244\n",
      "          5       0.80      0.85      0.83       456\n",
      "          6       0.90      0.93      0.91       388\n",
      "          7       0.91      0.83      0.86       382\n",
      "          8       0.87      0.90      0.89      1030\n",
      "\n",
      "avg / total       0.86      0.86      0.86      3605\n",
      "\n",
      "confusion_matrix: \n",
      "[[358  22   0   1   5   0   1  44]\n",
      " [ 18 416   2   2  16   7   3  23]\n",
      " [  1   7 136   0  16  13   3  11]\n",
      " [  7   8   0 196  12   0   0  21]\n",
      " [  4  27   3   3 389   8  11  11]\n",
      " [  1   2   1   0   6 361   6  11]\n",
      " [  7   8   4   1  25   7 316  14]\n",
      " [ 39   8   7  14  15   7   9 931]]\n",
      "---- 2\n",
      "0.9900117916348755\n",
      "accuracy_score:  0.8649098474341192\n",
      "             precision    recall  f1-score   support\n",
      "\n",
      "          1       0.85      0.86      0.86       433\n",
      "          2       0.81      0.84      0.83       480\n",
      "          3       0.89      0.80      0.85       204\n",
      "          4       0.91      0.81      0.86       278\n",
      "          5       0.82      0.82      0.82       426\n",
      "          6       0.88      0.93      0.91       355\n",
      "          7       0.90      0.87      0.88       389\n",
      "          8       0.88      0.90      0.89      1040\n",
      "\n",
      "avg / total       0.87      0.86      0.86      3605\n",
      "\n",
      "confusion_matrix: \n",
      "[[373  21   1   0   1   0   4  33]\n",
      " [ 16 403   4   3  14  10   4  26]\n",
      " [  0  11 164   0   6  11   2  10]\n",
      " [  6  12   0 226  14   1   0  19]\n",
      " [  3  22   7   5 350  10  12  17]\n",
      " [  3   4   3   0   5 331   5   4]\n",
      " [  2   4   0   1  20   7 338  17]\n",
      " [ 34  18   5  13  19   6  12 933]]\n",
      "---- 3\n"
     ]
    }
   ],
   "source": [
    "pipeline = Pipeline([\n",
    "    ('features', FeatureUnion([\n",
    "        ('tf_idf', Pipeline([\n",
    "            ('counts', CountVectorizer(max_df=0.95, min_df=2)),\n",
    "            ('tf_idf', TfidfTransformer()),\n",
    "            ('chi', SelectKBest(chi2, k=20000))\n",
    "        ])),\n",
    "        ('len_stats', myclass_circ.StatsFeatures_cor()),\n",
    "        ('tf', myclass_circ.Statskeywords_cor(topk = 5000))\n",
    "    ])),\n",
    "    ('standard', StandardScaler(with_mean=False)),\n",
    "    ('classifier', XGBClassifier(max_depth=7,objective='multi:softmax', num_class=8))\n",
    "])\n",
    "\n",
    "filename = 'circ_class_label_proba_20181008.xlsx'\n",
    "cal_kfold(title_content, label, pipeline, 'circ_result_class', filename, class_name_dict)"
   ]
  },
  {
   "cell_type": "code",
   "execution_count": null,
   "metadata": {
    "ExecuteTime": {
     "start_time": "2018-09-19T02:37:27.493Z"
    },
    "collapsed": true
   },
   "outputs": [],
   "source": [
    "import xlrd\n",
    "\n",
    "kfold_result = pd.DataFrame()\n",
    "\n",
    "currentPath  = 'circ_result_class/corpus/circ_class_label_proba_20181008.xlsx'\n",
    "excel = xlrd.open_workbook(currentPath)\n",
    "sheet_names = [sheet.name for sheet in excel.sheets()]\n",
    "for sheet_name in sheet_names:   \n",
    "    tmp_data = pd.read_excel(currentPath, sheet_name)     \n",
    "    kfold_result = pd.concat([kfold_result, tmp_data], axis = 0)\n",
    "\n",
    "kfold_result.index = range(kfold_result.shape[0])\n",
    "kfold_result.insert(0, '备注', '')\n",
    "print('总数：', kfold_result.shape)\n",
    "# kfold_result.head()"
   ]
  },
  {
   "cell_type": "code",
   "execution_count": null,
   "metadata": {
    "ExecuteTime": {
     "start_time": "2018-09-19T02:39:45.140Z"
    },
    "collapsed": true
   },
   "outputs": [],
   "source": [
    "K_S_sel = kfold_result[(kfold_result['predict_proba'] < 0.65) | (kfold_result['R_W'] == 'Wrong')]\n",
    "K_S_else = kfold_result[~((kfold_result['predict_proba'] < 0.65) | (kfold_result['R_W'] == 'Wrong'))]\n",
    "print(kfold_result.shape)\n",
    "print(K_S_else.shape)\n",
    "print(K_S_sel.shape)\n",
    "K_S_sel.groupby(['R_W', 'predict_label'])['label'].count()"
   ]
  },
  {
   "cell_type": "code",
   "execution_count": null,
   "metadata": {
    "collapsed": true
   },
   "outputs": [],
   "source": [
    "fea_filename = 'cbrc_result_class/result/20181008_circ_class_sel.xlsx'\n",
    "with pd.ExcelWriter(fea_filename) as writer:\n",
    "    for label in K_S_sel['predict_label'].unique():\n",
    "        tmp_data = K_S_sel[K_S_sel['predict_label'] == label]\n",
    "        N = tmp_data.shape[0]\n",
    "        tmp_data.sample(n = N, axis = 0, random_state=42).to_excel(writer,label, index = False)    \n",
    "    writer.save()\n",
    "    \n",
    "fea_filename = 'cbrc_result_class/result/20181008_circ_class_else.xlsx'\n",
    "with pd.ExcelWriter(fea_filename) as writer:\n",
    "    for label in K_S_else['predict_label'].unique():\n",
    "        tmp_data = K_S_else[K_S_else['predict_label'] == label]\n",
    "        N = tmp_data.shape[0]\n",
    "        tmp_data.sample(n = N, axis = 0, random_state=42).to_excel(writer,label, index = False)    \n",
    "    writer.save()    "
   ]
  },
  {
   "cell_type": "code",
   "execution_count": null,
   "metadata": {
    "ExecuteTime": {
     "start_time": "2018-09-19T02:39:51.232Z"
    },
    "collapsed": true
   },
   "outputs": [],
   "source": [
    "y_test = kfold_result['predict_label'].tolist()\n",
    "y_pred_class = kfold_result['label'].tolist()\n",
    "print('accuracy_score: ', metrics.accuracy_score(y_test, y_pred_class)) # 指所有分类正确的百分比\n",
    "print(metrics.classification_report(y_test, y_pred_class))\n",
    "print('confusion_matrix: ')\n",
    "print( metrics.confusion_matrix(y_test, y_pred_class))"
   ]
  },
  {
   "cell_type": "code",
   "execution_count": null,
   "metadata": {
    "ExecuteTime": {
     "start_time": "2018-09-19T02:39:51.922Z"
    },
    "collapsed": true
   },
   "outputs": [],
   "source": [
    "y_pred_prob = kfold_result['predict_proba'].tolist()\n",
    "\n",
    "sel_data_stat = plot_class_proba(y_pred_class, y_pred_prob)\n",
    "sel_data_stat"
   ]
  },
  {
   "cell_type": "markdown",
   "metadata": {},
   "source": [
    "## 保存模型"
   ]
  },
  {
   "cell_type": "code",
   "execution_count": 64,
   "metadata": {
    "ExecuteTime": {
     "end_time": "2018-12-03T04:44:02.436973Z",
     "start_time": "2018-12-03T04:21:36.215973Z"
    }
   },
   "outputs": [
    {
     "name": "stdout",
     "output_type": "stream",
     "text": [
      "d:\\xh\\python_project\\tool\\toolkits\\nlp\n",
      "d:\\xh\\python_project\\tool\\toolkits\\nlp\n",
      "0.9585720955897958\n"
     ]
    },
    {
     "data": {
      "text/plain": [
       "Pipeline(memory=None,\n",
       "     steps=[('features', FeatureUnion(n_jobs=1,\n",
       "       transformer_list=[('tf_idf', Pipeline(memory=None,\n",
       "     steps=[('counts', CountVectorizer(analyzer='word', binary=False, decode_error='strict',\n",
       "        dtype=<class 'numpy.int64'>, encoding='utf-8', input='content',\n",
       "        lowercase=True, max_df=0.9...tate=0, reg_alpha=0, reg_lambda=1, scale_pos_weight=1,\n",
       "       seed=None, silent=True, subsample=1))])"
      ]
     },
     "execution_count": 64,
     "metadata": {},
     "output_type": "execute_result"
    }
   ],
   "source": [
    "pipeline = Pipeline([\n",
    "    ('features', FeatureUnion([\n",
    "        ('tf_idf', Pipeline([\n",
    "            ('counts', CountVectorizer(max_df=0.95, min_df=2)),\n",
    "            ('tf_idf', TfidfTransformer()),\n",
    "            ('chi', SelectKBest(chi2, k=20000))\n",
    "        ])),\n",
    "        ('len_stats', myclass_circ.StatsFeatures_cor()),\n",
    "        ('tf', myclass_circ.Statskeywords_cor(topk = 5000))\n",
    "    ])),\n",
    "    ('standard', StandardScaler(with_mean=False)),\n",
    "    ('classifier', XGBClassifier(max_depth=7,objective='multi:softmax', num_class=8))\n",
    "])\n",
    "\n",
    "pipeline.fit(title_content, label)\n",
    "print(pipeline.score(title_content, label))\n",
    "pipeline"
   ]
  },
  {
   "cell_type": "code",
   "execution_count": 65,
   "metadata": {
    "ExecuteTime": {
     "end_time": "2018-12-03T04:44:08.066295Z",
     "start_time": "2018-12-03T04:44:03.502034Z"
    }
   },
   "outputs": [
    {
     "data": {
      "text/plain": [
       "['model/circ_8classifier_1203.pkl.z']"
      ]
     },
     "execution_count": 65,
     "metadata": {},
     "output_type": "execute_result"
    }
   ],
   "source": [
    "from sklearn.externals import joblib\n",
    "joblib.dump(pipeline, \"model/circ_8classifier_1203.pkl.z\")"
   ]
  },
  {
   "cell_type": "markdown",
   "metadata": {
    "collapsed": true
   },
   "source": [
    "# 保险业--中国人保：1 十分类"
   ]
  },
  {
   "cell_type": "markdown",
   "metadata": {},
   "source": [
    "## 导入与分割数据"
   ]
  },
  {
   "cell_type": "code",
   "execution_count": 26,
   "metadata": {
    "ExecuteTime": {
     "end_time": "2018-12-03T06:24:34.218971Z",
     "start_time": "2018-12-03T06:24:32.861894Z"
    }
   },
   "outputs": [
    {
     "name": "stdout",
     "output_type": "stream",
     "text": [
      "title num:  29748\n",
      "['天安 销售 虚列费用 员工 发 福利 相', '泰康人寿 疑设 招聘 骗局 元 底薪 扣到 剩元']\n",
      "content num:  29748\n",
      "title_content num:  29748\n",
      "label num:  29748\n",
      "['公司内部管理', '公司内部管理', '公司内部管理', '公司内部管理', '公司内部管理']\n"
     ]
    }
   ],
   "source": [
    "cbrc_filepath_class = 'picc_result_class/corpus/'\n",
    "title_content, label, title, content = load_save_plot_file.title_content_label(cbrc_filepath_class)"
   ]
  },
  {
   "cell_type": "code",
   "execution_count": 27,
   "metadata": {
    "ExecuteTime": {
     "end_time": "2018-12-03T06:24:57.695314Z",
     "start_time": "2018-12-03T06:24:57.539305Z"
    }
   },
   "outputs": [
    {
     "data": {
      "text/plain": [
       "{1: '监管',\n",
       " 2: '行业',\n",
       " 3: '产品销售',\n",
       " 4: '资本市场',\n",
       " 5: '公司内部管理',\n",
       " 6: '消费服务',\n",
       " 7: '其他相关报道',\n",
       " 8: '噪音',\n",
       " 9: '交通',\n",
       " 10: '环保'}"
      ]
     },
     "execution_count": 27,
     "metadata": {},
     "output_type": "execute_result"
    }
   ],
   "source": [
    "label_dic={'监管':1,'行业':2,'产品销售':3,'资本市场':4,'公司内部管理':5,'消费服务':6,\n",
    "           '其他相关报道':7,'噪音':8,'交通':9,'环保':10}\n",
    "class_name_dict = {v: k for k, v in label_dic.items()}\n",
    "class_name_dict"
   ]
  },
  {
   "cell_type": "code",
   "execution_count": 28,
   "metadata": {
    "ExecuteTime": {
     "end_time": "2018-12-03T06:25:00.307463Z",
     "start_time": "2018-12-03T06:25:00.149454Z"
    }
   },
   "outputs": [
    {
     "data": {
      "text/plain": [
       "[5, 5, 5, 5, 5]"
      ]
     },
     "execution_count": 28,
     "metadata": {},
     "output_type": "execute_result"
    }
   ],
   "source": [
    "label = [label_dic[l] for l in label]\n",
    "label[:5]"
   ]
  },
  {
   "cell_type": "code",
   "execution_count": 29,
   "metadata": {
    "ExecuteTime": {
     "end_time": "2018-12-03T06:25:03.108624Z",
     "start_time": "2018-12-03T06:25:02.919613Z"
    }
   },
   "outputs": [
    {
     "name": "stdout",
     "output_type": "stream",
     "text": [
      "训练集： 20823\n",
      "训练集-各类数量： Counter({8: 4979, 9: 3078, 2: 2326, 5: 2202, 1: 2095, 6: 1953, 7: 1665, 4: 1268, 3: 882, 10: 375})\n",
      "测试集： 8925\n",
      "测试集-各类数量： Counter({8: 2169, 9: 1396, 2: 965, 1: 930, 5: 898, 6: 804, 7: 682, 4: 531, 3: 384, 10: 166})\n"
     ]
    }
   ],
   "source": [
    "X_train, X_test, y_train, y_test = train_test_split(title_content, label, test_size=0.3, random_state=42)\n",
    "print('训练集：',len(y_train))\n",
    "print('训练集-各类数量：',Counter(y_train))\n",
    "print('测试集：',len(y_test))\n",
    "print('测试集-各类数量：',Counter(y_test))"
   ]
  },
  {
   "cell_type": "markdown",
   "metadata": {},
   "source": [
    "## 生成词典"
   ]
  },
  {
   "cell_type": "code",
   "execution_count": 31,
   "metadata": {
    "ExecuteTime": {
     "end_time": "2018-12-03T06:44:29.101314Z",
     "start_time": "2018-12-03T06:27:18.461365Z"
    }
   },
   "outputs": [
    {
     "name": "stdout",
     "output_type": "stream",
     "text": [
      "class_label:  [ 1  2  3  4  5  6  7  8  9 10]\n",
      "\n",
      "依据类别生成关键词：\n",
      "['监管', '风险', '投资', '银行', '金融', '管理', '机构', '产品', '业务', '资产']\n",
      "keywords num:  500\n",
      "类别：1 -- 文本个数：3025，label个数:3025，取词个数：500\n",
      "['公司', '保险公司', '中国', '保费', '业务', '产品', '市场', '投资', '人寿', '风险']\n",
      "keywords num:  500\n",
      "类别：2 -- 文本个数：3291，label个数:3291，取词个数：500\n",
      "['保障', '产品', '保费', '疾病', '保险', '投保', '保险公司', '客户', '服务', '保额']\n",
      "keywords num:  500\n",
      "类别：3 -- 文本个数：1266，label个数:1266，取词个数：500\n",
      "['中国', '市场', '公司', '投资', '板块', '资金', '股份', '个股', '银行', '集团']\n",
      "keywords num:  500\n",
      "类别：4 -- 文本个数：1799，label个数:1799，取词个数：500\n",
      "['公司', '中国', '业务', '有限公司', '保险', '人寿', '服务', '罚款', '财险', '发展']\n",
      "keywords num:  500\n",
      "类别：5 -- 文本个数：3100，label个数:3100，取词个数：500\n",
      "['理赔', '客户', '人寿', '服务', '公司', '保险公司', '事故', '保险', '生命', '分公司']\n",
      "keywords num:  500\n",
      "类别：6 -- 文本个数：2757，label个数:2757，取词个数：500\n",
      "['活动', '公司', '分公司', '中国', '人寿', '有限公司', '服务', '扶贫', '客户', '股份']\n",
      "keywords num:  500\n",
      "类别：7 -- 文本个数：2347，label个数:2347，取词个数：500\n",
      "['工作', '公司', '企业', '中国', '服务', '招聘', '项目', '管理', '银行', '提供']\n",
      "keywords num:  500\n",
      "类别：8 -- 文本个数：7148，label个数:7148，取词个数：500\n",
      "['车辆', '交通', '发生', '记者', '事故', '现场', '建设', '铁路', '驾驶', '公司']\n",
      "keywords num:  500\n",
      "类别：9 -- 文本个数：4474，label个数:4474，取词个数：500\n",
      "['地震', '发生', '台风', '中国', '时分', '应急', '台网', '影响', '深度', '震源']\n",
      "keywords num:  500\n",
      "类别：10 -- 文本个数：541，label个数:541，取词个数：500\n",
      "\n",
      "去除词（key_count_list）个数： 421\n",
      "词典词（key_dict）个数： 2110\n",
      "\n",
      "前后对比：去除超过阈值的词\n",
      "['银行业', '过渡期', '金融风险', '非标', '加快', '意见', '化解', '杠杆', '协调', '民营企业']\n",
      "类别：1 -- 去除前：500， 去除后：206\n",
      "['抵押', '老年人', '住房', '反向', '下滑', '房子', '人身险', '亏损', '充足率', '证券日报']\n",
      "类别：2 -- 去除前：500， 去除后：159\n",
      "['保额', '疾险', '身故', '轻症', '豁免', '住院', '癌症', '附加', '医疗险', '无忧']\n",
      "类别：3 -- 去除前：500， 去除后：242\n",
      "['个股', '反弹', '上涨', '持股', '大盘', '股市', '行情', '下跌', '涨幅', '港股']\n",
      "类别：4 -- 去除前：500， 去除后：274\n",
      "['决定书', '行政处罚', '当事人', '事实', '违反', '之日起', '充足率', '总经理', '保险法', '监管局']\n",
      "类别：5 -- 去除前：500， 去除后：183\n",
      "['报案', '家属', '赔款', '查勘', '保额', '身故', '出险', '台风', '家人', '住院']\n",
      "类别：6 -- 去除前：500， 去除后：258\n",
      "['收悉', '批复', '管理人员', '监事', '作出', '董事', '健步', '之日起', '公益', '捐赠']\n",
      "类别：7 -- 去除前：500， 去除后：226\n",
      "['招聘', '报名', '招标', '岗位', '资格', '待遇', '经验', '缴费', '工资', '采购']\n",
      "类别：8 -- 去除前：500， 去除后：180\n",
      "['铁路', '民警', '机场', '司机', '高速公路', '施工', '旅客', '乘客', '公路', '路段']\n",
      "类别：9 -- 去除前：500， 去除后：275\n",
      "['地震', '台风', '时分', '台网', '深度', '震源', '测定', '堰塞湖', '天气', '桃芝']\n",
      "类别：10 -- 去除前：500， 去除后：364\n",
      "['生物', '有望', '新闻记者', '送到', '送往', '失信', '管理人员', '主力', '位置', '定点']\n",
      "len(keywords):  1689\n"
     ]
    }
   ],
   "source": [
    "g_k = generate_keywords(500)\n",
    "g_k.gen_keywords_by_class(title_content, label, v_thre = 3)"
   ]
  },
  {
   "cell_type": "code",
   "execution_count": 32,
   "metadata": {
    "ExecuteTime": {
     "end_time": "2018-12-03T06:44:31.874473Z",
     "start_time": "2018-12-03T06:44:31.707464Z"
    }
   },
   "outputs": [
    {
     "name": "stdout",
     "output_type": "stream",
     "text": [
      "file_path:  d:\\xh\\python_project\\tool\\toolkits\\nlp\\corpus\\keywords_i.txt\n"
     ]
    }
   ],
   "source": [
    "g_k.save_txt('keywords_i.txt')"
   ]
  },
  {
   "cell_type": "markdown",
   "metadata": {},
   "source": [
    "## train & test"
   ]
  },
  {
   "cell_type": "code",
   "execution_count": 33,
   "metadata": {
    "ExecuteTime": {
     "end_time": "2018-12-03T06:44:34.733637Z",
     "start_time": "2018-12-03T06:44:34.585628Z"
    }
   },
   "outputs": [
    {
     "name": "stdout",
     "output_type": "stream",
     "text": [
      "d:\\xh\\python_project\\tool\\toolkits\\nlp\n"
     ]
    },
    {
     "data": {
      "text/plain": [
       "1689"
      ]
     },
     "execution_count": 33,
     "metadata": {},
     "output_type": "execute_result"
    }
   ],
   "source": [
    "a = myclass_circ.Statskeywords_cor(5000)\n",
    "len(a.keywords)"
   ]
  },
  {
   "cell_type": "code",
   "execution_count": 34,
   "metadata": {
    "ExecuteTime": {
     "end_time": "2018-12-03T07:06:35.428176Z",
     "start_time": "2018-12-03T06:44:37.222779Z"
    }
   },
   "outputs": [
    {
     "name": "stdout",
     "output_type": "stream",
     "text": [
      "d:\\xh\\python_project\\tool\\toolkits\\nlp\n",
      "d:\\xh\\python_project\\tool\\toolkits\\nlp\n",
      "0.9632137540219949\n"
     ]
    },
    {
     "data": {
      "text/plain": [
       "Pipeline(memory=None,\n",
       "     steps=[('features', FeatureUnion(n_jobs=1,\n",
       "       transformer_list=[('tf_idf', Pipeline(memory=None,\n",
       "     steps=[('counts', CountVectorizer(analyzer='word', binary=False, decode_error='strict',\n",
       "        dtype=<class 'numpy.int64'>, encoding='utf-8', input='content',\n",
       "        lowercase=True, max_df=0.9...tate=0, reg_alpha=0, reg_lambda=1, scale_pos_weight=1,\n",
       "       seed=None, silent=True, subsample=1))])"
      ]
     },
     "execution_count": 34,
     "metadata": {},
     "output_type": "execute_result"
    }
   ],
   "source": [
    "pipeline = Pipeline([\n",
    "    ('features', FeatureUnion([\n",
    "        ('tf_idf', Pipeline([\n",
    "            ('counts', CountVectorizer(max_df=0.95, min_df=2)),\n",
    "            ('tf_idf', TfidfTransformer()),\n",
    "            ('chi', SelectKBest(chi2, k=20000))\n",
    "        ])),\n",
    "        ('len_stats', myclass_circ.StatsFeatures_cor()),\n",
    "        ('tf', myclass_circ.Statskeywords_cor(topk = 5000)),\n",
    "        # ('picc_tf', myclass_circ.StatsFeatures_tf())\n",
    "    ])),\n",
    "    ('standard', StandardScaler(with_mean=False)),\n",
    "    ('classifier', XGBClassifier(max_depth=7,objective='multi:softmax', num_class=10))\n",
    "])\n",
    "\n",
    "pipeline.fit(X_train, y_train)\n",
    "print(pipeline.score(X_train, y_train))\n",
    "pipeline"
   ]
  },
  {
   "cell_type": "code",
   "execution_count": 35,
   "metadata": {
    "ExecuteTime": {
     "end_time": "2018-12-03T07:06:52.742166Z",
     "start_time": "2018-12-03T07:06:37.888317Z"
    }
   },
   "outputs": [
    {
     "name": "stdout",
     "output_type": "stream",
     "text": [
      "accuracy_score:  0.8258823529411765\n",
      "             precision    recall  f1-score   support\n",
      "\n",
      "          1       0.80      0.88      0.84       930\n",
      "          2       0.77      0.79      0.78       965\n",
      "          3       0.82      0.72      0.77       384\n",
      "          4       0.85      0.81      0.83       531\n",
      "          5       0.76      0.82      0.79       898\n",
      "          6       0.82      0.84      0.83       804\n",
      "          7       0.87      0.82      0.84       682\n",
      "          8       0.81      0.78      0.80      2169\n",
      "          9       0.92      0.92      0.92      1396\n",
      "         10       0.92      0.84      0.88       166\n",
      "\n",
      "avg / total       0.83      0.83      0.83      8925\n",
      "\n",
      "confusion_matrix: \n",
      "[[ 815   51    0    1    7    1    3   50    2    0]\n",
      " [  36  759   18   11   40   24    7   65    5    0]\n",
      " [   3   18  277    1   21   25    7   31    1    0]\n",
      " [  13   19    2  430   35    2    0   29    1    0]\n",
      " [   2   55    2   12  740   27   26   34    0    0]\n",
      " [   5   15    8    3   46  673   14   31    9    0]\n",
      " [  10   14    4    0   36   16  559   41    2    0]\n",
      " [ 129   48   27   43   54   47   27 1697   88    9]\n",
      " [   1    1    0    4    1    5    0  100 1281    3]\n",
      " [   1    1    0    0    0    0    0   15    9  140]]\n"
     ]
    }
   ],
   "source": [
    "y_pred_class = pipeline.predict(X_test)\n",
    "print('accuracy_score: ', metrics.accuracy_score(y_test, y_pred_class)) # 指所有分类正确的百分比\n",
    "print(metrics.classification_report(y_test, y_pred_class))\n",
    "print('confusion_matrix: ')\n",
    "print( metrics.confusion_matrix(y_test, y_pred_class))\n",
    "filename = 'statistics_result/PICC_class_model_report.csv'\n",
    "save_model_report(filename, 'PICC_class_model_report')"
   ]
  },
  {
   "cell_type": "code",
   "execution_count": 36,
   "metadata": {
    "ExecuteTime": {
     "end_time": "2018-12-03T07:30:18.873592Z",
     "start_time": "2018-12-03T07:06:55.285312Z"
    }
   },
   "outputs": [
    {
     "name": "stdout",
     "output_type": "stream",
     "text": [
      "d:\\xh\\python_project\\tool\\toolkits\\nlp\n",
      "d:\\xh\\python_project\\tool\\toolkits\\nlp\n",
      "0.9639341113192144\n"
     ]
    },
    {
     "data": {
      "text/plain": [
       "Pipeline(memory=None,\n",
       "     steps=[('features', FeatureUnion(n_jobs=1,\n",
       "       transformer_list=[('tf_idf', Pipeline(memory=None,\n",
       "     steps=[('counts', CountVectorizer(analyzer='word', binary=False, decode_error='strict',\n",
       "        dtype=<class 'numpy.int64'>, encoding='utf-8', input='content',\n",
       "        lowercase=True, max_df=0.9...tate=0, reg_alpha=0, reg_lambda=1, scale_pos_weight=1,\n",
       "       seed=None, silent=True, subsample=1))])"
      ]
     },
     "execution_count": 36,
     "metadata": {},
     "output_type": "execute_result"
    }
   ],
   "source": [
    "pipeline = Pipeline([\n",
    "    ('features', FeatureUnion([\n",
    "        ('tf_idf', Pipeline([\n",
    "            ('counts', CountVectorizer(max_df=0.95, min_df=2)),\n",
    "            ('tf_idf', TfidfTransformer()),\n",
    "            ('chi', SelectKBest(chi2, k=20000))\n",
    "        ])),\n",
    "        ('len_stats', myclass_circ.StatsFeatures_cor()),\n",
    "        ('tf', myclass_circ.Statskeywords_cor(topk = 5000)),\n",
    "        ('picc_tf', myclass_circ.StatsFeatures_tf())\n",
    "    ])),\n",
    "    ('standard', StandardScaler(with_mean=False)),\n",
    "    ('classifier', XGBClassifier(max_depth=7,objective='multi:softmax', num_class=10))\n",
    "])\n",
    "\n",
    "pipeline.fit(X_train, y_train)\n",
    "print(pipeline.score(X_train, y_train))\n",
    "pipeline"
   ]
  },
  {
   "cell_type": "code",
   "execution_count": 37,
   "metadata": {
    "ExecuteTime": {
     "end_time": "2018-12-03T07:30:37.930682Z",
     "start_time": "2018-12-03T07:30:21.584748Z"
    }
   },
   "outputs": [
    {
     "name": "stdout",
     "output_type": "stream",
     "text": [
      "accuracy_score:  0.8272268907563025\n",
      "             precision    recall  f1-score   support\n",
      "\n",
      "          1       0.80      0.88      0.84       930\n",
      "          2       0.78      0.79      0.78       965\n",
      "          3       0.82      0.72      0.77       384\n",
      "          4       0.84      0.81      0.83       531\n",
      "          5       0.76      0.82      0.79       898\n",
      "          6       0.82      0.84      0.83       804\n",
      "          7       0.87      0.82      0.84       682\n",
      "          8       0.81      0.78      0.80      2169\n",
      "          9       0.91      0.92      0.92      1396\n",
      "         10       0.91      0.82      0.86       166\n",
      "\n",
      "avg / total       0.83      0.83      0.83      8925\n",
      "\n",
      "confusion_matrix: \n",
      "[[ 814   49    0    2    7    0    4   53    1    0]\n",
      " [  34  759   19   13   34   24   10   67    5    0]\n",
      " [   3   19  276    1   20   27    7   30    1    0]\n",
      " [  14   19    0  431   35    2    0   29    1    0]\n",
      " [   2   49    3   13  740   29   26   36    0    0]\n",
      " [   3   16    6    4   45  676   14   30   10    0]\n",
      " [  10   13    5    0   37   15  561   39    2    0]\n",
      " [ 131   46   26   43   53   46   26 1699   89   10]\n",
      " [   1    1    0    4    1    6    0   89 1291    3]\n",
      " [   1    1    0    0    0    0    0   14   14  136]]\n"
     ]
    }
   ],
   "source": [
    "y_pred_class = pipeline.predict(X_test)\n",
    "print('accuracy_score: ', metrics.accuracy_score(y_test, y_pred_class)) # 指所有分类正确的百分比\n",
    "print(metrics.classification_report(y_test, y_pred_class))\n",
    "print('confusion_matrix: ')\n",
    "print( metrics.confusion_matrix(y_test, y_pred_class))\n",
    "filename = 'statistics_result/PICC_class_model_report.csv'\n",
    "save_model_report(filename, 'PICC_class_model_report')"
   ]
  },
  {
   "cell_type": "markdown",
   "metadata": {},
   "source": [
    "## 概率结果"
   ]
  },
  {
   "cell_type": "code",
   "execution_count": 38,
   "metadata": {
    "ExecuteTime": {
     "end_time": "2018-12-03T07:30:59.460914Z",
     "start_time": "2018-12-03T07:30:40.393823Z"
    }
   },
   "outputs": [
    {
     "data": {
      "text/plain": [
       "<matplotlib.axes._subplots.AxesSubplot at 0x28f03c8>"
      ]
     },
     "execution_count": 38,
     "metadata": {},
     "output_type": "execute_result"
    },
    {
     "data": {
      "image/png": "[encoded data removed]",
      "text/plain": [
       "<matplotlib.figure.Figure at 0x38e75f8>"
      ]
     },
     "metadata": {},
     "output_type": "display_data"
    }
   ],
   "source": [
    "y_pred_prob = pipeline.predict_proba(X_test)\n",
    "pd.DataFrame(y_pred_prob.max(axis = 1)).plot.hist(bins = 100)"
   ]
  },
  {
   "cell_type": "code",
   "execution_count": 39,
   "metadata": {
    "ExecuteTime": {
     "end_time": "2018-12-03T07:31:03.966172Z",
     "start_time": "2018-12-03T07:31:02.013060Z"
    }
   },
   "outputs": [
    {
     "data": {
      "text/html": [
       "<div>\n",
       "<style scoped>\n",
       "    .dataframe tbody tr th:only-of-type {\n",
       "        vertical-align: middle;\n",
       "    }\n",
       "\n",
       "    .dataframe tbody tr th {\n",
       "        vertical-align: top;\n",
       "    }\n",
       "\n",
       "    .dataframe thead th {\n",
       "        text-align: right;\n",
       "    }\n",
       "</style>\n",
       "<table border=\"1\" class=\"dataframe\">\n",
       "  <thead>\n",
       "    <tr style=\"text-align: right;\">\n",
       "      <th>proba</th>\n",
       "      <th>0.2</th>\n",
       "      <th>0.3</th>\n",
       "      <th>0.4</th>\n",
       "      <th>0.5</th>\n",
       "      <th>0.6</th>\n",
       "      <th>0.7</th>\n",
       "      <th>0.8</th>\n",
       "      <th>0.9</th>\n",
       "      <th>1.0</th>\n",
       "      <th>sum</th>\n",
       "    </tr>\n",
       "    <tr>\n",
       "      <th>predict_label</th>\n",
       "      <th></th>\n",
       "      <th></th>\n",
       "      <th></th>\n",
       "      <th></th>\n",
       "      <th></th>\n",
       "      <th></th>\n",
       "      <th></th>\n",
       "      <th></th>\n",
       "      <th></th>\n",
       "      <th></th>\n",
       "    </tr>\n",
       "  </thead>\n",
       "  <tbody>\n",
       "    <tr>\n",
       "      <th>1</th>\n",
       "      <td>0.0</td>\n",
       "      <td>7.0</td>\n",
       "      <td>37.0</td>\n",
       "      <td>88.0</td>\n",
       "      <td>131.0</td>\n",
       "      <td>115.0</td>\n",
       "      <td>177.0</td>\n",
       "      <td>280.0</td>\n",
       "      <td>178.0</td>\n",
       "      <td>1013.0</td>\n",
       "    </tr>\n",
       "    <tr>\n",
       "      <th>2</th>\n",
       "      <td>0.0</td>\n",
       "      <td>24.0</td>\n",
       "      <td>68.0</td>\n",
       "      <td>85.0</td>\n",
       "      <td>91.0</td>\n",
       "      <td>96.0</td>\n",
       "      <td>134.0</td>\n",
       "      <td>236.0</td>\n",
       "      <td>238.0</td>\n",
       "      <td>972.0</td>\n",
       "    </tr>\n",
       "    <tr>\n",
       "      <th>3</th>\n",
       "      <td>1.0</td>\n",
       "      <td>8.0</td>\n",
       "      <td>29.0</td>\n",
       "      <td>39.0</td>\n",
       "      <td>27.0</td>\n",
       "      <td>35.0</td>\n",
       "      <td>41.0</td>\n",
       "      <td>70.0</td>\n",
       "      <td>85.0</td>\n",
       "      <td>335.0</td>\n",
       "    </tr>\n",
       "    <tr>\n",
       "      <th>4</th>\n",
       "      <td>1.0</td>\n",
       "      <td>6.0</td>\n",
       "      <td>23.0</td>\n",
       "      <td>33.0</td>\n",
       "      <td>35.0</td>\n",
       "      <td>41.0</td>\n",
       "      <td>70.0</td>\n",
       "      <td>132.0</td>\n",
       "      <td>170.0</td>\n",
       "      <td>511.0</td>\n",
       "    </tr>\n",
       "    <tr>\n",
       "      <th>5</th>\n",
       "      <td>4.0</td>\n",
       "      <td>53.0</td>\n",
       "      <td>102.0</td>\n",
       "      <td>104.0</td>\n",
       "      <td>99.0</td>\n",
       "      <td>79.0</td>\n",
       "      <td>128.0</td>\n",
       "      <td>195.0</td>\n",
       "      <td>208.0</td>\n",
       "      <td>972.0</td>\n",
       "    </tr>\n",
       "    <tr>\n",
       "      <th>6</th>\n",
       "      <td>1.0</td>\n",
       "      <td>12.0</td>\n",
       "      <td>25.0</td>\n",
       "      <td>51.0</td>\n",
       "      <td>74.0</td>\n",
       "      <td>66.0</td>\n",
       "      <td>89.0</td>\n",
       "      <td>197.0</td>\n",
       "      <td>310.0</td>\n",
       "      <td>825.0</td>\n",
       "    </tr>\n",
       "    <tr>\n",
       "      <th>7</th>\n",
       "      <td>2.0</td>\n",
       "      <td>16.0</td>\n",
       "      <td>38.0</td>\n",
       "      <td>40.0</td>\n",
       "      <td>36.0</td>\n",
       "      <td>37.0</td>\n",
       "      <td>63.0</td>\n",
       "      <td>114.0</td>\n",
       "      <td>302.0</td>\n",
       "      <td>648.0</td>\n",
       "    </tr>\n",
       "    <tr>\n",
       "      <th>8</th>\n",
       "      <td>8.0</td>\n",
       "      <td>50.0</td>\n",
       "      <td>130.0</td>\n",
       "      <td>219.0</td>\n",
       "      <td>233.0</td>\n",
       "      <td>213.0</td>\n",
       "      <td>266.0</td>\n",
       "      <td>321.0</td>\n",
       "      <td>646.0</td>\n",
       "      <td>2086.0</td>\n",
       "    </tr>\n",
       "    <tr>\n",
       "      <th>9</th>\n",
       "      <td>0.0</td>\n",
       "      <td>2.0</td>\n",
       "      <td>23.0</td>\n",
       "      <td>91.0</td>\n",
       "      <td>103.0</td>\n",
       "      <td>114.0</td>\n",
       "      <td>189.0</td>\n",
       "      <td>385.0</td>\n",
       "      <td>507.0</td>\n",
       "      <td>1414.0</td>\n",
       "    </tr>\n",
       "    <tr>\n",
       "      <th>10</th>\n",
       "      <td>0.0</td>\n",
       "      <td>1.0</td>\n",
       "      <td>2.0</td>\n",
       "      <td>7.0</td>\n",
       "      <td>6.0</td>\n",
       "      <td>16.0</td>\n",
       "      <td>18.0</td>\n",
       "      <td>30.0</td>\n",
       "      <td>69.0</td>\n",
       "      <td>149.0</td>\n",
       "    </tr>\n",
       "    <tr>\n",
       "      <th>sum</th>\n",
       "      <td>17.0</td>\n",
       "      <td>179.0</td>\n",
       "      <td>477.0</td>\n",
       "      <td>757.0</td>\n",
       "      <td>835.0</td>\n",
       "      <td>812.0</td>\n",
       "      <td>1175.0</td>\n",
       "      <td>1960.0</td>\n",
       "      <td>2713.0</td>\n",
       "      <td>8925.0</td>\n",
       "    </tr>\n",
       "  </tbody>\n",
       "</table>\n",
       "</div>"
      ],
      "text/plain": [
       "proba           0.2    0.3    0.4    0.5    0.6    0.7     0.8     0.9  \\\n",
       "predict_label                                                            \n",
       "1               0.0    7.0   37.0   88.0  131.0  115.0   177.0   280.0   \n",
       "2               0.0   24.0   68.0   85.0   91.0   96.0   134.0   236.0   \n",
       "3               1.0    8.0   29.0   39.0   27.0   35.0    41.0    70.0   \n",
       "4               1.0    6.0   23.0   33.0   35.0   41.0    70.0   132.0   \n",
       "5               4.0   53.0  102.0  104.0   99.0   79.0   128.0   195.0   \n",
       "6               1.0   12.0   25.0   51.0   74.0   66.0    89.0   197.0   \n",
       "7               2.0   16.0   38.0   40.0   36.0   37.0    63.0   114.0   \n",
       "8               8.0   50.0  130.0  219.0  233.0  213.0   266.0   321.0   \n",
       "9               0.0    2.0   23.0   91.0  103.0  114.0   189.0   385.0   \n",
       "10              0.0    1.0    2.0    7.0    6.0   16.0    18.0    30.0   \n",
       "sum            17.0  179.0  477.0  757.0  835.0  812.0  1175.0  1960.0   \n",
       "\n",
       "proba             1.0     sum  \n",
       "predict_label                  \n",
       "1               178.0  1013.0  \n",
       "2               238.0   972.0  \n",
       "3                85.0   335.0  \n",
       "4               170.0   511.0  \n",
       "5               208.0   972.0  \n",
       "6               310.0   825.0  \n",
       "7               302.0   648.0  \n",
       "8               646.0  2086.0  \n",
       "9               507.0  1414.0  \n",
       "10               69.0   149.0  \n",
       "sum            2713.0  8925.0  "
      ]
     },
     "execution_count": 39,
     "metadata": {},
     "output_type": "execute_result"
    },
    {
     "data": {
      "image/png": "[encoded data removed]",
      "text/plain": [
       "<matplotlib.figure.Figure at 0x3cabb470>"
      ]
     },
     "metadata": {},
     "output_type": "display_data"
    }
   ],
   "source": [
    "sel_data_stat = plot_class_proba(y_pred_class, y_pred_prob.max(axis = 1))\n",
    "sel_data_stat"
   ]
  },
  {
   "cell_type": "markdown",
   "metadata": {},
   "source": [
    "## K-fold"
   ]
  },
  {
   "cell_type": "code",
   "execution_count": null,
   "metadata": {
    "ExecuteTime": {
     "start_time": "2018-09-19T02:37:15.664Z"
    }
   },
   "outputs": [
    {
     "name": "stdout",
     "output_type": "stream",
     "text": [
      "d:\\xh\\python_project\\tool\\toolkits\\nlp\n",
      "d:\\xh\\python_project\\tool\\toolkits\\nlp\n",
      "data_raw:  (18022, 5)\n",
      "---- 1\n",
      "0.9890407158215995\n",
      "accuracy_score:  0.860748959778086\n",
      "             precision    recall  f1-score   support\n",
      "\n",
      "          1       0.82      0.83      0.83       431\n",
      "          2       0.84      0.85      0.84       487\n",
      "          3       0.89      0.73      0.80       187\n",
      "          4       0.90      0.80      0.85       244\n",
      "          5       0.80      0.85      0.83       456\n",
      "          6       0.90      0.93      0.91       388\n",
      "          7       0.91      0.83      0.86       382\n",
      "          8       0.87      0.90      0.89      1030\n",
      "\n",
      "avg / total       0.86      0.86      0.86      3605\n",
      "\n",
      "confusion_matrix: \n",
      "[[358  22   0   1   5   0   1  44]\n",
      " [ 18 416   2   2  16   7   3  23]\n",
      " [  1   7 136   0  16  13   3  11]\n",
      " [  7   8   0 196  12   0   0  21]\n",
      " [  4  27   3   3 389   8  11  11]\n",
      " [  1   2   1   0   6 361   6  11]\n",
      " [  7   8   4   1  25   7 316  14]\n",
      " [ 39   8   7  14  15   7   9 931]]\n",
      "---- 2\n",
      "0.9900117916348755\n",
      "accuracy_score:  0.8649098474341192\n",
      "             precision    recall  f1-score   support\n",
      "\n",
      "          1       0.85      0.86      0.86       433\n",
      "          2       0.81      0.84      0.83       480\n",
      "          3       0.89      0.80      0.85       204\n",
      "          4       0.91      0.81      0.86       278\n",
      "          5       0.82      0.82      0.82       426\n",
      "          6       0.88      0.93      0.91       355\n",
      "          7       0.90      0.87      0.88       389\n",
      "          8       0.88      0.90      0.89      1040\n",
      "\n",
      "avg / total       0.87      0.86      0.86      3605\n",
      "\n",
      "confusion_matrix: \n",
      "[[373  21   1   0   1   0   4  33]\n",
      " [ 16 403   4   3  14  10   4  26]\n",
      " [  0  11 164   0   6  11   2  10]\n",
      " [  6  12   0 226  14   1   0  19]\n",
      " [  3  22   7   5 350  10  12  17]\n",
      " [  3   4   3   0   5 331   5   4]\n",
      " [  2   4   0   1  20   7 338  17]\n",
      " [ 34  18   5  13  19   6  12 933]]\n",
      "---- 3\n"
     ]
    }
   ],
   "source": [
    "pipeline = Pipeline([\n",
    "    ('features', FeatureUnion([\n",
    "        ('tf_idf', Pipeline([\n",
    "            ('counts', CountVectorizer(max_df=0.95, min_df=2)),\n",
    "            ('tf_idf', TfidfTransformer()),\n",
    "            ('chi', SelectKBest(chi2, k=20000))\n",
    "        ])),\n",
    "        ('len_stats', myclass_circ.StatsFeatures_cor()),\n",
    "        ('tf', myclass_circ.Statskeywords_cor(topk = 5000))\n",
    "    ])),\n",
    "    ('standard', StandardScaler(with_mean=False)),\n",
    "    ('classifier', XGBClassifier(max_depth=7,objective='multi:softmax', num_class=10))\n",
    "])\n",
    "\n",
    "filename = 'circ_class_label_proba_20181008.xlsx'\n",
    "cal_kfold(title_content, label, pipeline, 'circ_result_class', filename, class_name_dict)"
   ]
  },
  {
   "cell_type": "code",
   "execution_count": null,
   "metadata": {
    "ExecuteTime": {
     "start_time": "2018-09-19T02:37:27.493Z"
    },
    "collapsed": true
   },
   "outputs": [],
   "source": [
    "import xlrd\n",
    "\n",
    "kfold_result = pd.DataFrame()\n",
    "\n",
    "currentPath  = 'circ_result_class/corpus/circ_class_label_proba_20181008.xlsx'\n",
    "excel = xlrd.open_workbook(currentPath)\n",
    "sheet_names = [sheet.name for sheet in excel.sheets()]\n",
    "for sheet_name in sheet_names:   \n",
    "    tmp_data = pd.read_excel(currentPath, sheet_name)     \n",
    "    kfold_result = pd.concat([kfold_result, tmp_data], axis = 0)\n",
    "\n",
    "kfold_result.index = range(kfold_result.shape[0])\n",
    "kfold_result.insert(0, '备注', '')\n",
    "print('总数：', kfold_result.shape)\n",
    "# kfold_result.head()"
   ]
  },
  {
   "cell_type": "code",
   "execution_count": null,
   "metadata": {
    "ExecuteTime": {
     "start_time": "2018-09-19T02:39:45.140Z"
    },
    "collapsed": true
   },
   "outputs": [],
   "source": [
    "K_S_sel = kfold_result[(kfold_result['predict_proba'] < 0.65) | (kfold_result['R_W'] == 'Wrong')]\n",
    "K_S_else = kfold_result[~((kfold_result['predict_proba'] < 0.65) | (kfold_result['R_W'] == 'Wrong'))]\n",
    "print(kfold_result.shape)\n",
    "print(K_S_else.shape)\n",
    "print(K_S_sel.shape)\n",
    "K_S_sel.groupby(['R_W', 'predict_label'])['label'].count()"
   ]
  },
  {
   "cell_type": "code",
   "execution_count": null,
   "metadata": {
    "collapsed": true
   },
   "outputs": [],
   "source": [
    "fea_filename = 'cbrc_result_class/result/20181008_circ_class_sel.xlsx'\n",
    "with pd.ExcelWriter(fea_filename) as writer:\n",
    "    for label in K_S_sel['predict_label'].unique():\n",
    "        tmp_data = K_S_sel[K_S_sel['predict_label'] == label]\n",
    "        N = tmp_data.shape[0]\n",
    "        tmp_data.sample(n = N, axis = 0, random_state=42).to_excel(writer,label, index = False)    \n",
    "    writer.save()\n",
    "    \n",
    "fea_filename = 'cbrc_result_class/result/20181008_circ_class_else.xlsx'\n",
    "with pd.ExcelWriter(fea_filename) as writer:\n",
    "    for label in K_S_else['predict_label'].unique():\n",
    "        tmp_data = K_S_else[K_S_else['predict_label'] == label]\n",
    "        N = tmp_data.shape[0]\n",
    "        tmp_data.sample(n = N, axis = 0, random_state=42).to_excel(writer,label, index = False)    \n",
    "    writer.save()    "
   ]
  },
  {
   "cell_type": "code",
   "execution_count": null,
   "metadata": {
    "ExecuteTime": {
     "start_time": "2018-09-19T02:39:51.232Z"
    },
    "collapsed": true
   },
   "outputs": [],
   "source": [
    "y_test = kfold_result['predict_label'].tolist()\n",
    "y_pred_class = kfold_result['label'].tolist()\n",
    "print('accuracy_score: ', metrics.accuracy_score(y_test, y_pred_class)) # 指所有分类正确的百分比\n",
    "print(metrics.classification_report(y_test, y_pred_class))\n",
    "print('confusion_matrix: ')\n",
    "print( metrics.confusion_matrix(y_test, y_pred_class))"
   ]
  },
  {
   "cell_type": "code",
   "execution_count": null,
   "metadata": {
    "ExecuteTime": {
     "start_time": "2018-09-19T02:39:51.922Z"
    },
    "collapsed": true
   },
   "outputs": [],
   "source": [
    "y_pred_prob = kfold_result['predict_proba'].tolist()\n",
    "\n",
    "sel_data_stat = plot_class_proba(y_pred_class, y_pred_prob)\n",
    "sel_data_stat"
   ]
  },
  {
   "cell_type": "markdown",
   "metadata": {},
   "source": [
    "## 保存模型"
   ]
  },
  {
   "cell_type": "code",
   "execution_count": 40,
   "metadata": {
    "ExecuteTime": {
     "end_time": "2018-12-03T08:05:28.810274Z",
     "start_time": "2018-12-03T07:31:06.532318Z"
    }
   },
   "outputs": [
    {
     "name": "stdout",
     "output_type": "stream",
     "text": [
      "d:\\xh\\python_project\\tool\\toolkits\\nlp\n",
      "d:\\xh\\python_project\\tool\\toolkits\\nlp\n",
      "0.9533750168078526\n"
     ]
    },
    {
     "data": {
      "text/plain": [
       "Pipeline(memory=None,\n",
       "     steps=[('features', FeatureUnion(n_jobs=1,\n",
       "       transformer_list=[('tf_idf', Pipeline(memory=None,\n",
       "     steps=[('counts', CountVectorizer(analyzer='word', binary=False, decode_error='strict',\n",
       "        dtype=<class 'numpy.int64'>, encoding='utf-8', input='content',\n",
       "        lowercase=True, max_df=0.9...tate=0, reg_alpha=0, reg_lambda=1, scale_pos_weight=1,\n",
       "       seed=None, silent=True, subsample=1))])"
      ]
     },
     "execution_count": 40,
     "metadata": {},
     "output_type": "execute_result"
    }
   ],
   "source": [
    "pipeline = Pipeline([\n",
    "    ('features', FeatureUnion([\n",
    "        ('tf_idf', Pipeline([\n",
    "            ('counts', CountVectorizer(max_df=0.95, min_df=2)),\n",
    "            ('tf_idf', TfidfTransformer()),\n",
    "            ('chi', SelectKBest(chi2, k=20000))\n",
    "        ])),\n",
    "        ('len_stats', myclass_circ.StatsFeatures_cor()),\n",
    "        ('tf', myclass_circ.Statskeywords_cor(topk = 5000)),\n",
    "        ('picc_tf', myclass_circ.StatsFeatures_tf())\n",
    "    ])),\n",
    "    ('standard', StandardScaler(with_mean=False)),\n",
    "    ('classifier', XGBClassifier(max_depth=7,objective='multi:softmax', num_class=10))\n",
    "])\n",
    "\n",
    "pipeline.fit(title_content, label)\n",
    "print(pipeline.score(title_content, label))\n",
    "pipeline"
   ]
  },
  {
   "cell_type": "code",
   "execution_count": 41,
   "metadata": {
    "ExecuteTime": {
     "end_time": "2018-12-03T08:05:37.837790Z",
     "start_time": "2018-12-03T08:05:31.533430Z"
    }
   },
   "outputs": [
    {
     "data": {
      "text/plain": [
       "['model/circ_picc_10classifier_1203.pkl.z']"
      ]
     },
     "execution_count": 41,
     "metadata": {},
     "output_type": "execute_result"
    }
   ],
   "source": [
    "from sklearn.externals import joblib\n",
    "joblib.dump(pipeline, \"model/circ_picc_10classifier_1203.pkl.z\")"
   ]
  },
  {
   "cell_type": "markdown",
   "metadata": {
    "collapsed": true
   },
   "source": [
    "# 保险业：2 倾向性"
   ]
  },
  {
   "cell_type": "markdown",
   "metadata": {},
   "source": [
    "## 导入与分割数据"
   ]
  },
  {
   "cell_type": "code",
   "execution_count": 42,
   "metadata": {
    "ExecuteTime": {
     "end_time": "2018-12-03T08:18:50.818146Z",
     "start_time": "2018-12-03T08:18:46.013871Z"
    }
   },
   "outputs": [
    {
     "name": "stdout",
     "output_type": "stream",
     "text": [
      "title num:  3873\n",
      "['决定书 国寿财险 瑞金 支公司 违法行为', '转型 阵痛 净利下滑']\n",
      "content num:  3873\n",
      "title_content num:  3873\n",
      "label num:  3873\n",
      "['-1', '-1', '-1', '-1', '-1']\n"
     ]
    },
    {
     "data": {
      "text/plain": [
       "[-1, -1, -1, -1, -1]"
      ]
     },
     "execution_count": 42,
     "metadata": {},
     "output_type": "execute_result"
    }
   ],
   "source": [
    "cbrc_filepath_class = 'circ_result_tendency/corpus/'\n",
    "title_content, label, title, content = load_save_plot_file.title_content_label(cbrc_filepath_class)\n",
    "label = [int(l) for l in label]\n",
    "label[:5]"
   ]
  },
  {
   "cell_type": "code",
   "execution_count": 43,
   "metadata": {
    "ExecuteTime": {
     "end_time": "2018-12-03T08:18:52.458240Z",
     "start_time": "2018-12-03T08:18:52.278230Z"
    }
   },
   "outputs": [
    {
     "data": {
      "text/plain": [
       "{-1: '负面', 0: '非负'}"
      ]
     },
     "execution_count": 43,
     "metadata": {},
     "output_type": "execute_result"
    }
   ],
   "source": [
    "label_dic={'非负':0,'负面':-1}\n",
    "class_name_dict = {v: k for k, v in label_dic.items()}\n",
    "class_name_dict"
   ]
  },
  {
   "cell_type": "code",
   "execution_count": 44,
   "metadata": {
    "ExecuteTime": {
     "end_time": "2018-12-03T08:18:54.150337Z",
     "start_time": "2018-12-03T08:18:53.909323Z"
    }
   },
   "outputs": [
    {
     "name": "stdout",
     "output_type": "stream",
     "text": [
      "训练集： 2711\n",
      "训练集-各类数量： Counter({-1: 1688, 0: 1023})\n",
      "测试集： 1162\n",
      "测试集-各类数量： Counter({-1: 748, 0: 414})\n"
     ]
    }
   ],
   "source": [
    "X_train, X_test, y_train, y_test = train_test_split(title_content, label, test_size=0.3, random_state=42)\n",
    "print('训练集：',len(y_train))\n",
    "print('训练集-各类数量：',Counter(y_train))\n",
    "print('测试集：',len(y_test))\n",
    "print('测试集-各类数量：',Counter(y_test))"
   ]
  },
  {
   "cell_type": "markdown",
   "metadata": {},
   "source": [
    "## train & test"
   ]
  },
  {
   "cell_type": "code",
   "execution_count": 47,
   "metadata": {
    "ExecuteTime": {
     "end_time": "2018-12-03T08:25:04.428515Z",
     "start_time": "2018-12-03T08:24:29.569522Z"
    }
   },
   "outputs": [
    {
     "name": "stdout",
     "output_type": "stream",
     "text": [
      "d:\\xh\\python_project\\tool\\toolkits\\nlp\n",
      "0.9933603836222796\n"
     ]
    },
    {
     "data": {
      "text/plain": [
       "Pipeline(memory=None,\n",
       "     steps=[('features', FeatureUnion(n_jobs=1,\n",
       "       transformer_list=[('tf_idf', Pipeline(memory=None,\n",
       "     steps=[('counts', CountVectorizer(analyzer='word', binary=False, decode_error='strict',\n",
       "        dtype=<class 'numpy.int64'>, encoding='utf-8', input='content',\n",
       "        lowercase=True, max_df=0.9...tate=0, reg_alpha=0, reg_lambda=1, scale_pos_weight=1,\n",
       "       seed=None, silent=True, subsample=1))])"
      ]
     },
     "execution_count": 47,
     "metadata": {},
     "output_type": "execute_result"
    }
   ],
   "source": [
    "pipeline = Pipeline([\n",
    "    ('features', FeatureUnion([\n",
    "        ('tf_idf', Pipeline([\n",
    "            ('counts', CountVectorizer(max_df=0.95, min_df=2)),\n",
    "            ('tf_idf', TfidfTransformer()),\n",
    "            ('chi', SelectKBest(chi2, k=20000))\n",
    "        ])),\n",
    "        ('len_stats', myclass_circ.StatsFeatures_tendency()),\n",
    "    ])),\n",
    "    ('standard', StandardScaler(with_mean=False)),\n",
    "    ('classifier', XGBClassifier(max_depth=7,objective='multi:softmax', num_class=2))\n",
    "])\n",
    "\n",
    "pipeline.fit(X_train, y_train)\n",
    "print(pipeline.score(X_train, y_train))\n",
    "pipeline"
   ]
  },
  {
   "cell_type": "code",
   "execution_count": 48,
   "metadata": {
    "ExecuteTime": {
     "end_time": "2018-12-03T08:25:11.227904Z",
     "start_time": "2018-12-03T08:25:10.340854Z"
    }
   },
   "outputs": [
    {
     "name": "stdout",
     "output_type": "stream",
     "text": [
      "accuracy_score:  0.9027538726333907\n",
      "             precision    recall  f1-score   support\n",
      "\n",
      "         -1       0.93      0.92      0.92       748\n",
      "          0       0.86      0.87      0.86       414\n",
      "\n",
      "avg / total       0.90      0.90      0.90      1162\n",
      "\n",
      "confusion_matrix: \n",
      "[[689  59]\n",
      " [ 54 360]]\n"
     ]
    }
   ],
   "source": [
    "y_pred_class = pipeline.predict(X_test)\n",
    "print('accuracy_score: ', metrics.accuracy_score(y_test, y_pred_class)) # 指所有分类正确的百分比\n",
    "print(metrics.classification_report(y_test, y_pred_class))\n",
    "print('confusion_matrix: ')\n",
    "print( metrics.confusion_matrix(y_test, y_pred_class))\n",
    "filename = 'statistics_result/CIRC_tendency_model_report.csv'\n",
    "save_model_report(filename, 'CIRC_tendency_model_report')"
   ]
  },
  {
   "cell_type": "markdown",
   "metadata": {},
   "source": [
    "## 概率结果"
   ]
  },
  {
   "cell_type": "code",
   "execution_count": 32,
   "metadata": {
    "ExecuteTime": {
     "end_time": "2018-11-13T07:46:00.800607Z",
     "start_time": "2018-11-13T07:45:59.749547Z"
    }
   },
   "outputs": [
    {
     "data": {
      "text/plain": [
       "<matplotlib.axes._subplots.AxesSubplot at 0x1b141780>"
      ]
     },
     "execution_count": 32,
     "metadata": {},
     "output_type": "execute_result"
    },
    {
     "data": {
      "image/png": "[encoded data removed]",
      "text/plain": [
       "<matplotlib.figure.Figure at 0x1b141f60>"
      ]
     },
     "metadata": {},
     "output_type": "display_data"
    }
   ],
   "source": [
    "y_pred_prob = pipeline.predict_proba(X_test)\n",
    "pd.DataFrame(y_pred_prob.max(axis = 1)).plot.hist(bins = 100)"
   ]
  },
  {
   "cell_type": "code",
   "execution_count": 34,
   "metadata": {
    "ExecuteTime": {
     "end_time": "2018-11-13T07:46:08.028021Z",
     "start_time": "2018-11-13T07:46:08.011020Z"
    },
    "collapsed": true
   },
   "outputs": [],
   "source": [
    "# sel_data_stat = plot_class_proba(y_pred_class, y_pred_prob)\n",
    "# sel_data_stat"
   ]
  },
  {
   "cell_type": "markdown",
   "metadata": {},
   "source": [
    "## K-fold"
   ]
  },
  {
   "cell_type": "code",
   "execution_count": 13,
   "metadata": {
    "ExecuteTime": {
     "end_time": "2018-12-03T02:57:59.172015Z",
     "start_time": "2018-12-03T02:56:24.472598Z"
    }
   },
   "outputs": [
    {
     "name": "stdout",
     "output_type": "stream",
     "text": [
      "d:\\xh\\python_project\\tool\\toolkits\\nlp\n",
      "data_raw:  (3873, 4)\n",
      "---- 1\n",
      "0.988056810845707\n",
      "accuracy_score:  0.912258064516129\n",
      "             precision    recall  f1-score   support\n",
      "\n",
      "         -1       0.93      0.93      0.93       486\n",
      "          0       0.88      0.89      0.88       289\n",
      "\n",
      "avg / total       0.91      0.91      0.91       775\n",
      "\n",
      "confusion_matrix: \n",
      "[[450  36]\n",
      " [ 32 257]]\n",
      "---- 2\n",
      "0.9877340219496449\n",
      "accuracy_score:  0.9058064516129032\n",
      "             precision    recall  f1-score   support\n",
      "\n",
      "         -1       0.92      0.93      0.93       491\n",
      "          0       0.88      0.86      0.87       284\n",
      "\n",
      "avg / total       0.91      0.91      0.91       775\n",
      "\n",
      "confusion_matrix: \n",
      "[[459  32]\n",
      " [ 41 243]]\n",
      "---- 3\n",
      "0.9874112330535829\n",
      "accuracy_score:  0.9148387096774193\n",
      "             precision    recall  f1-score   support\n",
      "\n",
      "         -1       0.94      0.93      0.93       483\n",
      "          0       0.88      0.90      0.89       292\n",
      "\n",
      "avg / total       0.92      0.91      0.92       775\n",
      "\n",
      "confusion_matrix: \n",
      "[[447  36]\n",
      " [ 30 262]]\n",
      "---- 4\n",
      "0.9877379799935463\n",
      "accuracy_score:  0.8940568475452196\n",
      "             precision    recall  f1-score   support\n",
      "\n",
      "         -1       0.94      0.89      0.91       484\n",
      "          0       0.83      0.90      0.86       290\n",
      "\n",
      "avg / total       0.90      0.89      0.89       774\n",
      "\n",
      "confusion_matrix: \n",
      "[[431  53]\n",
      " [ 29 261]]\n",
      "---- 5\n",
      "0.9877379799935463\n",
      "accuracy_score:  0.9250645994832042\n",
      "             precision    recall  f1-score   support\n",
      "\n",
      "         -1       0.93      0.95      0.94       492\n",
      "          0       0.91      0.88      0.90       282\n",
      "\n",
      "avg / total       0.92      0.93      0.92       774\n",
      "\n",
      "confusion_matrix: \n",
      "[[468  24]\n",
      " [ 34 248]]\n",
      "kfold_result:  (3873, 7)\n"
     ]
    }
   ],
   "source": [
    "pipeline = Pipeline([\n",
    "    ('features', FeatureUnion([\n",
    "        ('tf_idf', Pipeline([\n",
    "            ('counts', CountVectorizer(max_df=0.95, min_df=2)),\n",
    "            ('tf_idf', TfidfTransformer()),\n",
    "            ('chi', SelectKBest(chi2, k=2000))\n",
    "        ])),\n",
    "        ('len_stats', myclass_circ.StatsFeatures_tendency()),\n",
    "    ])),\n",
    "    ('standard', StandardScaler(with_mean=False)),\n",
    "    ('classifier', XGBClassifier(max_depth=7,objective='multi:softmax', num_class=2))\n",
    "])\n",
    "\n",
    "filename = 'circ_tendency_label_proba_20181203.xlsx'\n",
    "cal_kfold(title_content, label, pipeline, 'circ_result_tendency', filename, class_name_dict)"
   ]
  },
  {
   "cell_type": "markdown",
   "metadata": {},
   "source": [
    "## 保存模型"
   ]
  },
  {
   "cell_type": "code",
   "execution_count": 14,
   "metadata": {
    "ExecuteTime": {
     "end_time": "2018-12-03T02:58:37.689218Z",
     "start_time": "2018-12-03T02:58:16.555009Z"
    }
   },
   "outputs": [
    {
     "name": "stdout",
     "output_type": "stream",
     "text": [
      "d:\\xh\\python_project\\tool\\toolkits\\nlp\n",
      "0.9873483088045443\n"
     ]
    },
    {
     "data": {
      "text/plain": [
       "Pipeline(memory=None,\n",
       "     steps=[('features', FeatureUnion(n_jobs=1,\n",
       "       transformer_list=[('tf_idf', Pipeline(memory=None,\n",
       "     steps=[('counts', CountVectorizer(analyzer='word', binary=False, decode_error='strict',\n",
       "        dtype=<class 'numpy.int64'>, encoding='utf-8', input='content',\n",
       "        lowercase=True, max_df=0.9...tate=0, reg_alpha=0, reg_lambda=1, scale_pos_weight=1,\n",
       "       seed=None, silent=True, subsample=1))])"
      ]
     },
     "execution_count": 14,
     "metadata": {},
     "output_type": "execute_result"
    }
   ],
   "source": [
    "pipeline = Pipeline([\n",
    "    ('features', FeatureUnion([\n",
    "        ('tf_idf', Pipeline([\n",
    "            ('counts', CountVectorizer(max_df=0.95, min_df=2)),\n",
    "            ('tf_idf', TfidfTransformer()),\n",
    "            ('chi', SelectKBest(chi2, k=2000))\n",
    "        ])),\n",
    "        ('len_stats', myclass_circ.StatsFeatures_tendency()),\n",
    "    ])),\n",
    "    ('standard', StandardScaler(with_mean=False)),\n",
    "    ('classifier', XGBClassifier(max_depth=7,objective='multi:softmax', num_class=2))\n",
    "])\n",
    "\n",
    "pipeline.fit(title_content, label)\n",
    "print(pipeline.score(title_content, label))\n",
    "pipeline"
   ]
  },
  {
   "cell_type": "code",
   "execution_count": 15,
   "metadata": {
    "ExecuteTime": {
     "end_time": "2018-12-03T02:58:39.262308Z",
     "start_time": "2018-12-03T02:58:37.979235Z"
    }
   },
   "outputs": [
    {
     "data": {
      "text/plain": [
       "['model/circ_chapter_tendency_1203.pkl.z']"
      ]
     },
     "execution_count": 15,
     "metadata": {},
     "output_type": "execute_result"
    }
   ],
   "source": [
    "from sklearn.externals import joblib\n",
    "joblib.dump(pipeline, \"model/circ_chapter_tendency_1203.pkl.z\")"
   ]
  },
  {
   "cell_type": "markdown",
   "metadata": {
    "collapsed": true
   },
   "source": [
    "# 保险业：3 预警模型"
   ]
  },
  {
   "cell_type": "markdown",
   "metadata": {},
   "source": [
    "## 导入与分割数据"
   ]
  },
  {
   "cell_type": "code",
   "execution_count": null,
   "metadata": {
    "ExecuteTime": {
     "start_time": "2018-09-11T08:01:33.627Z"
    },
    "collapsed": true
   },
   "outputs": [],
   "source": [
    "cbrc_filepath_class = 'circ_result_warn/corpus/'\n",
    "title_content, label, title, content = load_save_plot_file.title_content_label(cbrc_filepath_class)"
   ]
  },
  {
   "cell_type": "code",
   "execution_count": null,
   "metadata": {
    "ExecuteTime": {
     "start_time": "2018-09-11T08:01:33.632Z"
    },
    "collapsed": true
   },
   "outputs": [],
   "source": [
    "X_train, X_test, y_train, y_test = train_test_split(title_content, label, test_size=0.3, random_state=42)\n",
    "print('训练集：',len(y_train))\n",
    "print('训练集-各类数量：',Counter(y_train))\n",
    "print('测试集：',len(y_test))\n",
    "print('测试集-各类数量：',Counter(y_test))"
   ]
  },
  {
   "cell_type": "markdown",
   "metadata": {},
   "source": [
    "## train & test"
   ]
  },
  {
   "cell_type": "code",
   "execution_count": null,
   "metadata": {
    "ExecuteTime": {
     "start_time": "2018-09-11T08:01:33.638Z"
    },
    "collapsed": true
   },
   "outputs": [],
   "source": [
    "pipeline = Pipeline([\n",
    "    ('features', FeatureUnion([\n",
    "        ('tf_idf', Pipeline([\n",
    "            ('counts', CountVectorizer(max_df=0.95, min_df=2)),\n",
    "            ('tf_idf', TfidfTransformer()),\n",
    "            ('chi', SelectKBest(chi2, k=2000))\n",
    "        ])),\n",
    "        ('len_stats', myclass_circ.StatsFeatures_warn()),\n",
    "    ])),\n",
    "    ('standard', StandardScaler(with_mean=False)),\n",
    "    ('classifier', XGBClassifier(max_depth=7,objective='multi:softmax', num_class=8))\n",
    "])\n",
    "\n",
    "pipeline.fit(X_train, y_train)\n",
    "print(pipeline.score(X_train, y_train))\n",
    "pipeline"
   ]
  },
  {
   "cell_type": "code",
   "execution_count": null,
   "metadata": {
    "ExecuteTime": {
     "start_time": "2018-09-11T08:01:33.642Z"
    },
    "collapsed": true
   },
   "outputs": [],
   "source": [
    "y_pred_class = pipeline.predict(X_test)\n",
    "print('accuracy_score: ', metrics.accuracy_score(y_test, y_pred_class)) # 指所有分类正确的百分比\n",
    "print(metrics.classification_report(y_test, y_pred_class))\n",
    "print('confusion_matrix: ')\n",
    "print( metrics.confusion_matrix(y_test, y_pred_class))"
   ]
  },
  {
   "cell_type": "markdown",
   "metadata": {},
   "source": [
    "## 概率结果"
   ]
  },
  {
   "cell_type": "code",
   "execution_count": null,
   "metadata": {
    "ExecuteTime": {
     "start_time": "2018-09-11T08:01:33.650Z"
    },
    "collapsed": true
   },
   "outputs": [],
   "source": [
    "y_pred_prob = pipeline.predict_proba(X_test)\n",
    "pd.DataFrame(y_pred_prob.max(axis = 1)).plot.hist(bins = 100)"
   ]
  },
  {
   "cell_type": "code",
   "execution_count": null,
   "metadata": {
    "ExecuteTime": {
     "start_time": "2018-09-11T08:01:33.656Z"
    },
    "collapsed": true
   },
   "outputs": [],
   "source": [
    "sel_data_stat = plot_class_proba(y_pred_class, y_pred_prob)\n",
    "sel_data_stat"
   ]
  },
  {
   "cell_type": "markdown",
   "metadata": {},
   "source": [
    "## K-fold"
   ]
  },
  {
   "cell_type": "code",
   "execution_count": null,
   "metadata": {
    "ExecuteTime": {
     "start_time": "2018-09-11T08:01:33.664Z"
    },
    "collapsed": true
   },
   "outputs": [],
   "source": [
    "pipeline = Pipeline([\n",
    "    ('features', FeatureUnion([\n",
    "        ('tf_idf', Pipeline([\n",
    "            ('counts', CountVectorizer(max_df=0.95, min_df=2)),\n",
    "            ('tf_idf', TfidfTransformer()),\n",
    "            ('chi', SelectKBest(chi2, k=2000))\n",
    "        ])),\n",
    "        ('len_stats', myclass_circ.StatsFeatures_warn()),\n",
    "    ])),\n",
    "    ('standard', StandardScaler(with_mean=False)),\n",
    "    ('classifier', XGBClassifier(max_depth=7,objective='multi:softmax', num_class=8))\n",
    "])\n",
    "\n",
    "cal_kfold(title_content, label, pipeline)"
   ]
  },
  {
   "cell_type": "markdown",
   "metadata": {},
   "source": [
    "## 保存模型"
   ]
  },
  {
   "cell_type": "code",
   "execution_count": null,
   "metadata": {
    "ExecuteTime": {
     "start_time": "2018-09-11T08:01:33.671Z"
    },
    "collapsed": true
   },
   "outputs": [],
   "source": [
    "pipeline = Pipeline([\n",
    "    ('features', FeatureUnion([\n",
    "        ('tf_idf', Pipeline([\n",
    "            ('counts', CountVectorizer(max_df=0.95, min_df=2)),\n",
    "            ('tf_idf', TfidfTransformer()),\n",
    "            ('chi', SelectKBest(chi2, k=2000))\n",
    "        ])),\n",
    "        ('len_stats', myclass_circ.StatsFeatures_warn()),\n",
    "    ])),\n",
    "    ('standard', StandardScaler(with_mean=False)),\n",
    "    ('classifier', XGBClassifier(max_depth=7,objective='multi:softmax', num_class=8))\n",
    "])\n",
    "\n",
    "pipeline.fit(title_content, label)\n",
    "print(pipeline.score(title_content, label))\n",
    "pipeline"
   ]
  },
  {
   "cell_type": "code",
   "execution_count": null,
   "metadata": {
    "ExecuteTime": {
     "start_time": "2018-09-11T08:01:33.676Z"
    },
    "collapsed": true
   },
   "outputs": [],
   "source": [
    "from sklearn.externals import joblib\n",
    "joblib.dump(pipeline, \"model/circ_warning_0621.pkl.z\")"
   ]
  },
  {
   "cell_type": "markdown",
   "metadata": {},
   "source": [
    "# 银行业：1 八分类"
   ]
  },
  {
   "cell_type": "markdown",
   "metadata": {},
   "source": [
    "## 导入与分割数据"
   ]
  },
  {
   "cell_type": "code",
   "execution_count": 5,
   "metadata": {
    "ExecuteTime": {
     "end_time": "2018-11-16T06:32:08.706469Z",
     "start_time": "2018-11-16T06:32:08.454454Z"
    }
   },
   "outputs": [
    {
     "name": "stdout",
     "output_type": "stream",
     "text": [
      "title num:  14192\n",
      "['月线 反转 阴包 阳 原油 高 先空 股友 东方 财富网 博客', '汇乔 金色 名 售 价格 元 平方米']\n",
      "content num:  14192\n",
      "title_content num:  14192\n",
      "label num:  14192\n",
      "['噪音', '噪音', '噪音', '噪音', '噪音']\n"
     ]
    }
   ],
   "source": [
    "cbrc_filepath_class = 'cbrc_result_class/corpus/'\n",
    "title_content, label, title, content = load_save_plot_file.title_content_label(cbrc_filepath_class)"
   ]
  },
  {
   "cell_type": "code",
   "execution_count": 6,
   "metadata": {
    "ExecuteTime": {
     "end_time": "2018-11-16T06:32:09.529516Z",
     "start_time": "2018-11-16T06:32:09.520515Z"
    }
   },
   "outputs": [
    {
     "data": {
      "text/plain": [
       "{1: '监管',\n",
       " 2: '行业',\n",
       " 3: '产品销售',\n",
       " 4: '资本市场',\n",
       " 5: '公司内部管理',\n",
       " 6: '消费服务',\n",
       " 7: '其他相关报道',\n",
       " 8: '噪音'}"
      ]
     },
     "execution_count": 6,
     "metadata": {},
     "output_type": "execute_result"
    }
   ],
   "source": [
    "label_dic={'监管':1,'行业':2,'产品销售':3,'资本市场':4,'公司内部管理':5,'消费服务':6,'其他相关报道':7,'噪音':8}\n",
    "class_name_dict = {v: k for k, v in label_dic.items()}\n",
    "class_name_dict"
   ]
  },
  {
   "cell_type": "code",
   "execution_count": 7,
   "metadata": {
    "ExecuteTime": {
     "end_time": "2018-11-16T06:32:10.465569Z",
     "start_time": "2018-11-16T06:32:10.451568Z"
    }
   },
   "outputs": [
    {
     "data": {
      "text/plain": [
       "[8, 8, 8, 8, 8]"
      ]
     },
     "execution_count": 7,
     "metadata": {},
     "output_type": "execute_result"
    }
   ],
   "source": [
    "label = [label_dic[l] for l in label]\n",
    "label[:5]"
   ]
  },
  {
   "cell_type": "code",
   "execution_count": 8,
   "metadata": {
    "ExecuteTime": {
     "end_time": "2018-11-16T06:32:11.400623Z",
     "start_time": "2018-11-16T06:32:11.378621Z"
    }
   },
   "outputs": [
    {
     "name": "stdout",
     "output_type": "stream",
     "text": [
      "训练集： 9934\n",
      "训练集-各类数量： Counter({8: 1924, 7: 1430, 2: 1252, 6: 1183, 1: 1133, 4: 1123, 5: 973, 3: 916})\n",
      "测试集： 4258\n",
      "测试集-各类数量： Counter({8: 797, 7: 600, 2: 534, 6: 527, 1: 507, 4: 456, 5: 442, 3: 395})\n"
     ]
    }
   ],
   "source": [
    "X_train, X_test, y_train, y_test = train_test_split(title_content, label, test_size=0.3, random_state=42)\n",
    "print('训练集：',len(y_train))\n",
    "print('训练集-各类数量：',Counter(y_train))\n",
    "print('测试集：',len(y_test))\n",
    "print('测试集-各类数量：',Counter(y_test))"
   ]
  },
  {
   "cell_type": "markdown",
   "metadata": {},
   "source": [
    "## 生成词典"
   ]
  },
  {
   "cell_type": "code",
   "execution_count": 9,
   "metadata": {
    "ExecuteTime": {
     "end_time": "2018-11-16T06:38:56.294781Z",
     "start_time": "2018-11-16T06:32:17.253958Z"
    }
   },
   "outputs": [
    {
     "name": "stderr",
     "output_type": "stream",
     "text": [
      "Building prefix dict from the default dictionary ...\n",
      "Loading model from cache C:\\Users\\ADMINI~1\\AppData\\Local\\Temp\\jieba.cache\n"
     ]
    },
    {
     "name": "stdout",
     "output_type": "stream",
     "text": [
      "class_label:  [1 2 3 4 5 6 7 8]\n",
      "\n",
      "依据类别生成关键词：\n"
     ]
    },
    {
     "name": "stderr",
     "output_type": "stream",
     "text": [
      "Loading model cost 1.048 seconds.\n",
      "Prefix dict has been built succesfully.\n"
     ]
    },
    {
     "name": "stdout",
     "output_type": "stream",
     "text": [
      "['金融', '监管', '风险', '银行', '中国', '经济', '机构', '工作', '投资', '产品']\n",
      "keywords num:  400\n",
      "类别：1 -- 文本个数：1640，label个数:1640，取词个数：400\n",
      "['银行', '金融', '中国', '业务', '市场', '风险', '贷款', '发展', '资金', '企业']\n",
      "keywords num:  400\n",
      "类别：2 -- 文本个数：1786，label个数:1786，取词个数：400\n",
      "['信用卡', '银行', '活动', '理财', '产品', '优惠', '观影', '享受', '客户', '点击']\n",
      "keywords num:  400\n",
      "类别：3 -- 文本个数：1311，label个数:1311，取词个数：400\n",
      "['公司', '市场', '银行', '投资', '股份', '股东', '中国', '资金', '有限公司', '显示']\n",
      "keywords num:  400\n",
      "类别：4 -- 文本个数：1579，label个数:1579，取词个数：400\n",
      "['银行', '分行', '业务', '金融', '行政处罚', '发展', '有限公司', '中国', '服务', '贷款']\n",
      "keywords num:  400\n",
      "类别：5 -- 文本个数：1415，label个数:1415，取词个数：400\n",
      "['银行', '信用卡', '服务', '贷款', '业务', '办理', '客户', '金融', '申请', '手机']\n",
      "keywords num:  400\n",
      "类别：6 -- 文本个数：1710，label个数:1710，取词个数：400\n",
      "['活动', '银行', '支行', '金融', '分行', '中国', '知识', '宣传', '工作', '服务']\n",
      "keywords num:  400\n",
      "类别：7 -- 文本个数：2030，label个数:2030，取词个数：400\n",
      "['公司', '中国', '企业', '市场', '发展', '投资', '工作', '银行', '经济', '服务']\n",
      "keywords num:  400\n",
      "类别：8 -- 文本个数：2721，label个数:2721，取词个数：400\n",
      "\n",
      "去除词（key_count_list）个数： 204\n",
      "词典词（key_dict）个数： 1363\n",
      "\n",
      "前后对比：去除超过阈值的词\n",
      "['金融机构', '保险公司', '银行业', '保险', '监督管理', '实体', '金融风险', '整治', '乱象', '保险业']\n",
      "类别：1 -- 去除前：400， 去除后：236\n",
      "['银行业', '金融机构', '增速', '资管', '收益率', '美国', '杠杆', '流动性', '月份', '协会']\n",
      "类别：2 -- 去除前：400， 去除后：215\n",
      "['优惠', '观影', '享受', '点击', '影城', '刷卡', '购票', '原文', '电影', '地址']\n",
      "类别：3 -- 去除前：400， 去除后：272\n",
      "['板块', '指数', '控股', '美国', '持有', '下跌', '持股', '上涨', '个股', '股市']\n",
      "类别：4 -- 去除前：400， 去除后：240\n",
      "['行政处罚', '罚款', '银行业', '中华人民共和国', '分局', '违反', '银监', '违法', '处罚', '监督管理']\n",
      "类别：5 -- 去除前：400， 去除后：219\n",
      "['电话', '还款', '客服', '工作人员', '额度', '利息', '小时', '回答', '电子', '投诉']\n",
      "类别：6 -- 去除前：400， 去除后：249\n",
      "['知识', '收悉', '分局', '行政许可', '事项', '实施办法', '金融机构', '普及', '银行业', '银监']\n",
      "类别：7 -- 去除前：400， 去除后：258\n",
      "['美国', '世界', '孩子', '电话', '招聘', '黄金', '生产', '朋友', '报名', '学习']\n",
      "类别：8 -- 去除前：400， 去除后：212\n",
      "['出口', '请以', '电影票', '规划', '分析师', '保护', '副行长', '自查', '原文', '主力']\n",
      "len(keywords):  1159\n"
     ]
    }
   ],
   "source": [
    "g_k = generate_keywords(400)\n",
    "g_k.gen_keywords_by_class(title_content, label, v_thre = 4)"
   ]
  },
  {
   "cell_type": "code",
   "execution_count": 10,
   "metadata": {
    "ExecuteTime": {
     "end_time": "2018-11-16T06:38:57.421846Z",
     "start_time": "2018-11-16T06:38:57.409845Z"
    }
   },
   "outputs": [
    {
     "name": "stdout",
     "output_type": "stream",
     "text": [
      "file_path:  d:\\xh\\python_project\\tool\\toolkits\\nlp\\corpus\\keywords_b.txt\n"
     ]
    }
   ],
   "source": [
    "g_k.save_txt('keywords_b.txt')"
   ]
  },
  {
   "cell_type": "markdown",
   "metadata": {},
   "source": [
    "## train & test"
   ]
  },
  {
   "cell_type": "code",
   "execution_count": 11,
   "metadata": {
    "ExecuteTime": {
     "end_time": "2018-11-16T06:38:58.542910Z",
     "start_time": "2018-11-16T06:38:58.523909Z"
    }
   },
   "outputs": [
    {
     "name": "stdout",
     "output_type": "stream",
     "text": [
      "d:\\xh\\python_project\\tool\\toolkits\\nlp\n",
      "keywords num:  1159\n"
     ]
    },
    {
     "data": {
      "text/plain": [
       "1159"
      ]
     },
     "execution_count": 11,
     "metadata": {},
     "output_type": "execute_result"
    }
   ],
   "source": [
    "a = myclass_cbrc.Statskeywords_cor(5000)\n",
    "len(a.keywords)"
   ]
  },
  {
   "cell_type": "code",
   "execution_count": 12,
   "metadata": {
    "ExecuteTime": {
     "end_time": "2018-11-16T06:47:17.128427Z",
     "start_time": "2018-11-16T06:38:59.746979Z"
    }
   },
   "outputs": [
    {
     "name": "stdout",
     "output_type": "stream",
     "text": [
      "d:\\xh\\python_project\\tool\\toolkits\\nlp\n",
      "d:\\xh\\python_project\\tool\\toolkits\\nlp\n",
      "keywords num:  1159\n",
      "0.9853029997986712\n"
     ]
    },
    {
     "data": {
      "text/plain": [
       "Pipeline(memory=None,\n",
       "     steps=[('features', FeatureUnion(n_jobs=1,\n",
       "       transformer_list=[('tf_idf', Pipeline(memory=None,\n",
       "     steps=[('counts', CountVectorizer(analyzer='word', binary=False, decode_error='strict',\n",
       "        dtype=<class 'numpy.int64'>, encoding='utf-8', input='content',\n",
       "        lowercase=True, max_df=0.9...tate=0, reg_alpha=0, reg_lambda=1, scale_pos_weight=1,\n",
       "       seed=None, silent=True, subsample=1))])"
      ]
     },
     "execution_count": 12,
     "metadata": {},
     "output_type": "execute_result"
    }
   ],
   "source": [
    "pipeline = Pipeline([\n",
    "    ('features', FeatureUnion([\n",
    "        ('tf_idf', Pipeline([\n",
    "            ('counts', CountVectorizer(max_df=0.95, min_df=2)),\n",
    "            ('tf_idf', TfidfTransformer()),\n",
    "            ('chi', SelectKBest(chi2, k=20000))\n",
    "        ])),\n",
    "        ('len_stats', myclass_cbrc.StatsFeatures_cor()),\n",
    "        ('tf', myclass_cbrc.Statskeywords_cor(topk = 5000))\n",
    "    ])),\n",
    "    ('standard', StandardScaler(with_mean=False)),\n",
    "    ('classifier', XGBClassifier(max_depth=7,objective='multi:softmax', num_class=8))\n",
    "])\n",
    "\n",
    "pipeline.fit(X_train, y_train)\n",
    "print(pipeline.score(X_train, y_train))\n",
    "pipeline"
   ]
  },
  {
   "cell_type": "code",
   "execution_count": 13,
   "metadata": {
    "ExecuteTime": {
     "end_time": "2018-11-16T06:47:23.839811Z",
     "start_time": "2018-11-16T06:47:18.082482Z"
    }
   },
   "outputs": [
    {
     "name": "stdout",
     "output_type": "stream",
     "text": [
      "accuracy_score:  0.8191639267261626\n",
      "             precision    recall  f1-score   support\n",
      "\n",
      "          1       0.84      0.92      0.88       507\n",
      "          2       0.78      0.79      0.79       534\n",
      "          3       0.86      0.84      0.85       395\n",
      "          4       0.82      0.80      0.81       456\n",
      "          5       0.84      0.76      0.80       442\n",
      "          6       0.80      0.74      0.77       527\n",
      "          7       0.87      0.91      0.89       600\n",
      "          8       0.77      0.80      0.79       797\n",
      "\n",
      "avg / total       0.82      0.82      0.82      4258\n",
      "\n",
      "confusion_matrix: \n",
      "[[465  15   0   2   2   5   2  16]\n",
      " [ 21 421   7  18  16   8  11  32]\n",
      " [  1  13 332   3   3  23   4  16]\n",
      " [ 17  17   2 363   7  12   2  36]\n",
      " [  7  27   3  15 334  19  19  18]\n",
      " [  8  15  31   2  17 390  17  47]\n",
      " [  5   8   3   1   9   8 544  22]\n",
      " [ 29  22  10  36   8  25  28 639]]\n"
     ]
    }
   ],
   "source": [
    "y_pred_class = pipeline.predict(X_test)\n",
    "print('accuracy_score: ', metrics.accuracy_score(y_test, y_pred_class)) # 指所有分类正确的百分比\n",
    "print(metrics.classification_report(y_test, y_pred_class))\n",
    "print('confusion_matrix: ')\n",
    "print( metrics.confusion_matrix(y_test, y_pred_class))\n",
    "filename = 'statistics_result/CBRC_class_model_report.csv'\n",
    "save_model_report(filename, 'CBRC_class_model_report')"
   ]
  },
  {
   "cell_type": "markdown",
   "metadata": {},
   "source": [
    "## 概率结果"
   ]
  },
  {
   "cell_type": "code",
   "execution_count": 14,
   "metadata": {
    "ExecuteTime": {
     "end_time": "2018-11-16T06:47:31.411244Z",
     "start_time": "2018-11-16T06:47:25.048880Z"
    }
   },
   "outputs": [
    {
     "data": {
      "text/plain": [
       "<matplotlib.axes._subplots.AxesSubplot at 0x1a2d8748>"
      ]
     },
     "execution_count": 14,
     "metadata": {},
     "output_type": "execute_result"
    },
    {
     "data": {
      "image/png": "[encoded data removed]",
      "text/plain": [
       "<matplotlib.figure.Figure at 0x351d2b0>"
      ]
     },
     "metadata": {},
     "output_type": "display_data"
    }
   ],
   "source": [
    "y_pred_prob = pipeline.predict_proba(X_test)\n",
    "pd.DataFrame(y_pred_prob.max(axis = 1)).plot.hist(bins = 100)"
   ]
  },
  {
   "cell_type": "code",
   "execution_count": 17,
   "metadata": {
    "ExecuteTime": {
     "end_time": "2018-11-05T03:44:27.443524Z",
     "start_time": "2018-11-05T03:44:22.853262Z"
    }
   },
   "outputs": [
    {
     "data": {
      "text/html": [
       "<div>\n",
       "<style scoped>\n",
       "    .dataframe tbody tr th:only-of-type {\n",
       "        vertical-align: middle;\n",
       "    }\n",
       "\n",
       "    .dataframe tbody tr th {\n",
       "        vertical-align: top;\n",
       "    }\n",
       "\n",
       "    .dataframe thead th {\n",
       "        text-align: right;\n",
       "    }\n",
       "</style>\n",
       "<table border=\"1\" class=\"dataframe\">\n",
       "  <thead>\n",
       "    <tr style=\"text-align: right;\">\n",
       "      <th>proba</th>\n",
       "      <th>0.2</th>\n",
       "      <th>0.3</th>\n",
       "      <th>0.4</th>\n",
       "      <th>0.5</th>\n",
       "      <th>0.6</th>\n",
       "      <th>0.7</th>\n",
       "      <th>0.8</th>\n",
       "      <th>0.9</th>\n",
       "      <th>1.0</th>\n",
       "      <th>sum</th>\n",
       "    </tr>\n",
       "    <tr>\n",
       "      <th>predict_label</th>\n",
       "      <th></th>\n",
       "      <th></th>\n",
       "      <th></th>\n",
       "      <th></th>\n",
       "      <th></th>\n",
       "      <th></th>\n",
       "      <th></th>\n",
       "      <th></th>\n",
       "      <th></th>\n",
       "      <th></th>\n",
       "    </tr>\n",
       "  </thead>\n",
       "  <tbody>\n",
       "    <tr>\n",
       "      <th>1</th>\n",
       "      <td>0.0</td>\n",
       "      <td>6.0</td>\n",
       "      <td>18.0</td>\n",
       "      <td>29.0</td>\n",
       "      <td>37.0</td>\n",
       "      <td>28.0</td>\n",
       "      <td>44.0</td>\n",
       "      <td>97.0</td>\n",
       "      <td>275.0</td>\n",
       "      <td>534.0</td>\n",
       "    </tr>\n",
       "    <tr>\n",
       "      <th>2</th>\n",
       "      <td>2.0</td>\n",
       "      <td>22.0</td>\n",
       "      <td>31.0</td>\n",
       "      <td>40.0</td>\n",
       "      <td>58.0</td>\n",
       "      <td>41.0</td>\n",
       "      <td>53.0</td>\n",
       "      <td>146.0</td>\n",
       "      <td>158.0</td>\n",
       "      <td>551.0</td>\n",
       "    </tr>\n",
       "    <tr>\n",
       "      <th>3</th>\n",
       "      <td>0.0</td>\n",
       "      <td>11.0</td>\n",
       "      <td>22.0</td>\n",
       "      <td>23.0</td>\n",
       "      <td>24.0</td>\n",
       "      <td>30.0</td>\n",
       "      <td>36.0</td>\n",
       "      <td>80.0</td>\n",
       "      <td>170.0</td>\n",
       "      <td>396.0</td>\n",
       "    </tr>\n",
       "    <tr>\n",
       "      <th>4</th>\n",
       "      <td>1.0</td>\n",
       "      <td>8.0</td>\n",
       "      <td>19.0</td>\n",
       "      <td>34.0</td>\n",
       "      <td>39.0</td>\n",
       "      <td>44.0</td>\n",
       "      <td>52.0</td>\n",
       "      <td>136.0</td>\n",
       "      <td>99.0</td>\n",
       "      <td>432.0</td>\n",
       "    </tr>\n",
       "    <tr>\n",
       "      <th>5</th>\n",
       "      <td>2.0</td>\n",
       "      <td>14.0</td>\n",
       "      <td>38.0</td>\n",
       "      <td>35.0</td>\n",
       "      <td>29.0</td>\n",
       "      <td>41.0</td>\n",
       "      <td>40.0</td>\n",
       "      <td>62.0</td>\n",
       "      <td>147.0</td>\n",
       "      <td>408.0</td>\n",
       "    </tr>\n",
       "    <tr>\n",
       "      <th>6</th>\n",
       "      <td>2.0</td>\n",
       "      <td>20.0</td>\n",
       "      <td>29.0</td>\n",
       "      <td>43.0</td>\n",
       "      <td>34.0</td>\n",
       "      <td>34.0</td>\n",
       "      <td>50.0</td>\n",
       "      <td>168.0</td>\n",
       "      <td>120.0</td>\n",
       "      <td>500.0</td>\n",
       "    </tr>\n",
       "    <tr>\n",
       "      <th>7</th>\n",
       "      <td>1.0</td>\n",
       "      <td>13.0</td>\n",
       "      <td>22.0</td>\n",
       "      <td>20.0</td>\n",
       "      <td>27.0</td>\n",
       "      <td>25.0</td>\n",
       "      <td>52.0</td>\n",
       "      <td>109.0</td>\n",
       "      <td>364.0</td>\n",
       "      <td>633.0</td>\n",
       "    </tr>\n",
       "    <tr>\n",
       "      <th>8</th>\n",
       "      <td>5.0</td>\n",
       "      <td>25.0</td>\n",
       "      <td>37.0</td>\n",
       "      <td>73.0</td>\n",
       "      <td>68.0</td>\n",
       "      <td>80.0</td>\n",
       "      <td>98.0</td>\n",
       "      <td>186.0</td>\n",
       "      <td>232.0</td>\n",
       "      <td>804.0</td>\n",
       "    </tr>\n",
       "    <tr>\n",
       "      <th>sum</th>\n",
       "      <td>13.0</td>\n",
       "      <td>119.0</td>\n",
       "      <td>216.0</td>\n",
       "      <td>297.0</td>\n",
       "      <td>316.0</td>\n",
       "      <td>323.0</td>\n",
       "      <td>425.0</td>\n",
       "      <td>984.0</td>\n",
       "      <td>1565.0</td>\n",
       "      <td>4258.0</td>\n",
       "    </tr>\n",
       "  </tbody>\n",
       "</table>\n",
       "</div>"
      ],
      "text/plain": [
       "proba           0.2    0.3    0.4    0.5    0.6    0.7    0.8    0.9     1.0  \\\n",
       "predict_label                                                                  \n",
       "1               0.0    6.0   18.0   29.0   37.0   28.0   44.0   97.0   275.0   \n",
       "2               2.0   22.0   31.0   40.0   58.0   41.0   53.0  146.0   158.0   \n",
       "3               0.0   11.0   22.0   23.0   24.0   30.0   36.0   80.0   170.0   \n",
       "4               1.0    8.0   19.0   34.0   39.0   44.0   52.0  136.0    99.0   \n",
       "5               2.0   14.0   38.0   35.0   29.0   41.0   40.0   62.0   147.0   \n",
       "6               2.0   20.0   29.0   43.0   34.0   34.0   50.0  168.0   120.0   \n",
       "7               1.0   13.0   22.0   20.0   27.0   25.0   52.0  109.0   364.0   \n",
       "8               5.0   25.0   37.0   73.0   68.0   80.0   98.0  186.0   232.0   \n",
       "sum            13.0  119.0  216.0  297.0  316.0  323.0  425.0  984.0  1565.0   \n",
       "\n",
       "proba             sum  \n",
       "predict_label          \n",
       "1               534.0  \n",
       "2               551.0  \n",
       "3               396.0  \n",
       "4               432.0  \n",
       "5               408.0  \n",
       "6               500.0  \n",
       "7               633.0  \n",
       "8               804.0  \n",
       "sum            4258.0  "
      ]
     },
     "execution_count": 17,
     "metadata": {},
     "output_type": "execute_result"
    },
    {
     "data": {
      "image/png": "[encoded data removed]",
      "text/plain": [
       "<matplotlib.figure.Figure at 0x1ae61c88>"
      ]
     },
     "metadata": {},
     "output_type": "display_data"
    }
   ],
   "source": [
    "sel_data_stat = plot_class_proba(y_pred_class, y_pred_prob.max(axis = 1))\n",
    "sel_data_stat"
   ]
  },
  {
   "cell_type": "markdown",
   "metadata": {},
   "source": [
    "## K-fold"
   ]
  },
  {
   "cell_type": "code",
   "execution_count": 10,
   "metadata": {
    "ExecuteTime": {
     "end_time": "2018-09-18T03:41:46.392036Z",
     "start_time": "2018-09-18T03:21:02.995901Z"
    }
   },
   "outputs": [
    {
     "name": "stdout",
     "output_type": "stream",
     "text": [
      "d:\\xh\\python_project\\tool\\toolkits\\nlp\n",
      "d:\\xh\\python_project\\tool\\toolkits\\nlp\n",
      "keywords num:  1314\n",
      "data_raw:  (9826, 4)\n",
      "---- 1\n",
      "0.9968193384223919\n",
      "accuracy_score:  0.8748728382502543\n",
      "             precision    recall  f1-score   support\n",
      "\n",
      "          1       0.88      0.93      0.90       270\n",
      "          2       0.86      0.84      0.85       256\n",
      "          3       0.91      0.92      0.92       194\n",
      "          4       0.84      0.84      0.84       209\n",
      "          5       0.88      0.83      0.85       203\n",
      "          6       0.87      0.86      0.87       205\n",
      "          7       0.92      0.93      0.93       299\n",
      "          8       0.84      0.84      0.84       330\n",
      "\n",
      "avg / total       0.87      0.87      0.87      1966\n",
      "\n",
      "confusion_matrix: \n",
      "[[251   9   0   1   1   0   3   5]\n",
      " [ 15 214   1   5   6   5   4   6]\n",
      " [  1   3 179   1   0   6   2   2]\n",
      " [  4   3   2 175   5   4   0  16]\n",
      " [  3   8   1   8 168   6   4   5]\n",
      " [  1   3   8   1   5 177   2   8]\n",
      " [  1   3   2   0   4   1 279   9]\n",
      " [ 10   5   3  18   3   5   9 277]]\n",
      "---- 2\n",
      "0.9960564813636942\n",
      "accuracy_score:  0.8834605597964377\n",
      "             precision    recall  f1-score   support\n",
      "\n",
      "          1       0.91      0.93      0.92       274\n",
      "          2       0.86      0.86      0.86       262\n",
      "          3       0.89      0.89      0.89       188\n",
      "          4       0.87      0.81      0.84       221\n",
      "          5       0.86      0.84      0.85       185\n",
      "          6       0.89      0.91      0.90       225\n",
      "          7       0.93      0.93      0.93       298\n",
      "          8       0.85      0.87      0.86       312\n",
      "\n",
      "avg / total       0.88      0.88      0.88      1965\n",
      "\n",
      "confusion_matrix: \n",
      "[[255  11   0   2   2   0   0   4]\n",
      " [  8 226   4   7   7   1   1   8]\n",
      " [  0   1 168   1   2   8   5   3]\n",
      " [  2   9   0 179   2   9   0  20]\n",
      " [  2   7   3   6 155   4   6   2]\n",
      " [  2   1   7   0   5 205   2   3]\n",
      " [  2   2   0   0   6   1 278   9]\n",
      " [  8   7   7  10   2   2   6 270]]\n",
      "---- 3\n",
      "0.9969469533138278\n",
      "accuracy_score:  0.8870229007633588\n",
      "             precision    recall  f1-score   support\n",
      "\n",
      "          1       0.91      0.94      0.92       262\n",
      "          2       0.90      0.85      0.87       282\n",
      "          3       0.88      0.86      0.87       181\n",
      "          4       0.85      0.82      0.83       223\n",
      "          5       0.92      0.86      0.89       184\n",
      "          6       0.91      0.88      0.89       216\n",
      "          7       0.92      0.94      0.93       299\n",
      "          8       0.84      0.92      0.88       318\n",
      "\n",
      "avg / total       0.89      0.89      0.89      1965\n",
      "\n",
      "confusion_matrix: \n",
      "[[246   7   0   1   0   0   1   7]\n",
      " [ 12 239   3   8   6   1   3  10]\n",
      " [  1   2 155   2   1   7   6   7]\n",
      " [  1   6   5 182   3   6   2  18]\n",
      " [  5   7   0   6 158   2   6   0]\n",
      " [  4   3  12   0   0 189   3   5]\n",
      " [  1   1   2   2   1   1 282   9]\n",
      " [  1   2   0  14   3   1   5 292]]\n",
      "---- 4\n",
      "0.9964381121994658\n",
      "accuracy_score:  0.8910941475826972\n",
      "             precision    recall  f1-score   support\n",
      "\n",
      "          1       0.95      0.94      0.94       295\n",
      "          2       0.82      0.89      0.85       244\n",
      "          3       0.93      0.92      0.92       199\n",
      "          4       0.89      0.88      0.88       202\n",
      "          5       0.90      0.82      0.86       210\n",
      "          6       0.90      0.86      0.88       194\n",
      "          7       0.90      0.91      0.91       302\n",
      "          8       0.86      0.89      0.87       319\n",
      "\n",
      "avg / total       0.89      0.89      0.89      1965\n",
      "\n",
      "confusion_matrix: \n",
      "[[277   8   0   1   2   1   1   5]\n",
      " [  7 216   2   5   3   1   4   6]\n",
      " [  1   3 183   0   2   3   3   4]\n",
      " [  2   9   1 177   2   5   0   6]\n",
      " [  4  13   0   4 173   2   9   5]\n",
      " [  0   4   5   0   2 166   6  11]\n",
      " [  0   4   2   1   5   5 275  10]\n",
      " [  1   7   4  11   3   2   7 284]]\n",
      "---- 5\n",
      "0.9970741635924183\n",
      "accuracy_score:  0.8870229007633588\n",
      "             precision    recall  f1-score   support\n",
      "\n",
      "          1       0.90      0.94      0.92       287\n",
      "          2       0.85      0.88      0.86       240\n",
      "          3       0.89      0.88      0.88       182\n",
      "          4       0.87      0.85      0.86       183\n",
      "          5       0.92      0.83      0.88       218\n",
      "          6       0.90      0.86      0.88       221\n",
      "          7       0.92      0.93      0.92       315\n",
      "          8       0.85      0.88      0.87       319\n",
      "\n",
      "avg / total       0.89      0.89      0.89      1965\n",
      "\n",
      "confusion_matrix: \n",
      "[[271  10   0   0   0   1   1   4]\n",
      " [ 13 210   2   6   3   1   0   5]\n",
      " [  1   5 160   1   0   5   3   7]\n",
      " [  3   5   0 155   2   6   0  12]\n",
      " [  3  11   1   4 182   4   8   5]\n",
      " [  1   4  12   3   1 190   3   7]\n",
      " [  2   0   0   3   8   1 293   8]\n",
      " [  7   3   5   7   1   3  11 282]]\n",
      "kfold_result:  (9826, 7)\n"
     ]
    }
   ],
   "source": [
    "pipeline = Pipeline([\n",
    "    ('features', FeatureUnion([\n",
    "        ('tf_idf', Pipeline([\n",
    "            ('counts', CountVectorizer(max_df=0.95, min_df=2)),\n",
    "            ('tf_idf', TfidfTransformer()),\n",
    "            ('chi', SelectKBest(chi2, k=2000))\n",
    "        ])),\n",
    "        ('len_stats', myclass_cbrc.StatsFeatures_cor()),\n",
    "        ('tf', myclass_cbrc.Statskeywords_cor(topk = 5000))\n",
    "    ])),\n",
    "    ('standard', StandardScaler(with_mean=False)),\n",
    "    ('classifier', XGBClassifier(max_depth=7,objective='multi:softmax', num_class=8))\n",
    "])\n",
    "\n",
    "filename = 'cbrc_class_label_proba_20180917.xlsx'\n",
    "cal_kfold(title_content, label, pipeline, 'cbrc_result_class', filename, class_name_dict)"
   ]
  },
  {
   "cell_type": "code",
   "execution_count": 28,
   "metadata": {
    "ExecuteTime": {
     "end_time": "2018-09-18T04:02:37.814068Z",
     "start_time": "2018-09-18T04:02:23.631257Z"
    }
   },
   "outputs": [
    {
     "name": "stdout",
     "output_type": "stream",
     "text": [
      "总数： (9826, 8)\n"
     ]
    },
    {
     "data": {
      "text/html": [
       "<div>\n",
       "<style scoped>\n",
       "    .dataframe tbody tr th:only-of-type {\n",
       "        vertical-align: middle;\n",
       "    }\n",
       "\n",
       "    .dataframe tbody tr th {\n",
       "        vertical-align: top;\n",
       "    }\n",
       "\n",
       "    .dataframe thead th {\n",
       "        text-align: right;\n",
       "    }\n",
       "</style>\n",
       "<table border=\"1\" class=\"dataframe\">\n",
       "  <thead>\n",
       "    <tr style=\"text-align: right;\">\n",
       "      <th></th>\n",
       "      <th>备注</th>\n",
       "      <th>raw_title</th>\n",
       "      <th>raw_content</th>\n",
       "      <th>label</th>\n",
       "      <th>predict_label</th>\n",
       "      <th>title_content</th>\n",
       "      <th>predict_proba</th>\n",
       "      <th>R_W</th>\n",
       "    </tr>\n",
       "  </thead>\n",
       "  <tbody>\n",
       "    <tr>\n",
       "      <th>0</th>\n",
       "      <td></td>\n",
       "      <td>聚焦今晚PPI数据 黄金或摆脱十字路口徘徊行情</td>\n",
       "      <td>周三(1月10日)，美元遭受暴击，终止三日连涨的走势，黄金获利走高，最高触及近四月高位132...</td>\n",
       "      <td>噪音</td>\n",
       "      <td>噪音</td>\n",
       "      <td>聚焦 今晚 PPI 数据 黄金 摆脱 十字路口 徘徊 行情 周三 月 日 美元 遭受 暴击 ...</td>\n",
       "      <td>0.665914</td>\n",
       "      <td>Right</td>\n",
       "    </tr>\n",
       "    <tr>\n",
       "      <th>1</th>\n",
       "      <td></td>\n",
       "      <td>驻店销售代表（泉港区、前黄、涂岭、山腰）</td>\n",
       "      <td>公司简介PPF集团PPF集团是捷信集团的母公司，是中东欧地区最大的国际金融和投资集团之一，业...</td>\n",
       "      <td>噪音</td>\n",
       "      <td>公司内部管理</td>\n",
       "      <td>驻店 销售 代表 泉港区 前 黄 涂岭 山腰 公司简介 PPF 集团 PPF 集团 捷信 集...</td>\n",
       "      <td>0.274292</td>\n",
       "      <td>Wrong</td>\n",
       "    </tr>\n",
       "    <tr>\n",
       "      <th>2</th>\n",
       "      <td></td>\n",
       "      <td>陈御贺：主力拉盘轰炸避险黄金暴涨20点，后期低多为主</td>\n",
       "      <td>近期美国国债收益率一直稳步走高，在本周二日本央行公布调整购债后，美债价格进一步跌向熊市。日本...</td>\n",
       "      <td>噪音</td>\n",
       "      <td>噪音</td>\n",
       "      <td>陈御 贺 主力 拉盘 轰炸 避险 黄金 暴涨 点 后期 低多 近期 美国 国债 收益率 稳步...</td>\n",
       "      <td>0.898844</td>\n",
       "      <td>Right</td>\n",
       "    </tr>\n",
       "    <tr>\n",
       "      <th>3</th>\n",
       "      <td></td>\n",
       "      <td>华为给员工建3万套福利房，一平米8500元带精装修 | 早报</td>\n",
       "      <td>【国内】 27家乐视供应商发布呼吁对话书，希望与甘薇、贾跃民对话 1月9日晚，记者从一位乐视...</td>\n",
       "      <td>噪音</td>\n",
       "      <td>噪音</td>\n",
       "      <td>华为 员工 建 万套 福利 房 平米 元带 精装修 早报 国内 家乐 视 供应商 发布 呼吁...</td>\n",
       "      <td>0.980682</td>\n",
       "      <td>Right</td>\n",
       "    </tr>\n",
       "    <tr>\n",
       "      <th>4</th>\n",
       "      <td></td>\n",
       "      <td>一个烟酒店老板全干货揭秘：「开店」和「看店」的区别！</td>\n",
       "      <td>“我是个小烟酒店的老板，我的生意不大，但是我总结出不少生意经，献丑和大家说说，但愿抛砖引玉，...</td>\n",
       "      <td>噪音</td>\n",
       "      <td>噪音</td>\n",
       "      <td>烟酒 店老板 全 干货 揭秘 开店 看店 区别 小烟 酒店 老板 生意 生意经 献丑 说 说...</td>\n",
       "      <td>0.984564</td>\n",
       "      <td>Right</td>\n",
       "    </tr>\n",
       "  </tbody>\n",
       "</table>\n",
       "</div>"
      ],
      "text/plain": [
       "  备注                       raw_title  \\\n",
       "0            聚焦今晚PPI数据 黄金或摆脱十字路口徘徊行情   \n",
       "1               驻店销售代表（泉港区、前黄、涂岭、山腰）   \n",
       "2         陈御贺：主力拉盘轰炸避险黄金暴涨20点，后期低多为主   \n",
       "3     华为给员工建3万套福利房，一平米8500元带精装修 | 早报   \n",
       "4         一个烟酒店老板全干货揭秘：「开店」和「看店」的区别！   \n",
       "\n",
       "                                         raw_content label predict_label  \\\n",
       "0  周三(1月10日)，美元遭受暴击，终止三日连涨的走势，黄金获利走高，最高触及近四月高位132...    噪音            噪音   \n",
       "1  公司简介PPF集团PPF集团是捷信集团的母公司，是中东欧地区最大的国际金融和投资集团之一，业...    噪音        公司内部管理   \n",
       "2  近期美国国债收益率一直稳步走高，在本周二日本央行公布调整购债后，美债价格进一步跌向熊市。日本...    噪音            噪音   \n",
       "3  【国内】 27家乐视供应商发布呼吁对话书，希望与甘薇、贾跃民对话 1月9日晚，记者从一位乐视...    噪音            噪音   \n",
       "4  “我是个小烟酒店的老板，我的生意不大，但是我总结出不少生意经，献丑和大家说说，但愿抛砖引玉，...    噪音            噪音   \n",
       "\n",
       "                                       title_content  predict_proba    R_W  \n",
       "0  聚焦 今晚 PPI 数据 黄金 摆脱 十字路口 徘徊 行情 周三 月 日 美元 遭受 暴击 ...       0.665914  Right  \n",
       "1  驻店 销售 代表 泉港区 前 黄 涂岭 山腰 公司简介 PPF 集团 PPF 集团 捷信 集...       0.274292  Wrong  \n",
       "2  陈御 贺 主力 拉盘 轰炸 避险 黄金 暴涨 点 后期 低多 近期 美国 国债 收益率 稳步...       0.898844  Right  \n",
       "3  华为 员工 建 万套 福利 房 平米 元带 精装修 早报 国内 家乐 视 供应商 发布 呼吁...       0.980682  Right  \n",
       "4  烟酒 店老板 全 干货 揭秘 开店 看店 区别 小烟 酒店 老板 生意 生意经 献丑 说 说...       0.984564  Right  "
      ]
     },
     "execution_count": 28,
     "metadata": {},
     "output_type": "execute_result"
    }
   ],
   "source": [
    "import xlrd\n",
    "\n",
    "kfold_result = pd.DataFrame()\n",
    "\n",
    "currentPath  = 'cbrc_result_class/corpus/cbrc_class_label_proba_20180917.xlsx'\n",
    "excel = xlrd.open_workbook(currentPath)\n",
    "sheet_names = [sheet.name for sheet in excel.sheets()]\n",
    "for sheet_name in sheet_names:   \n",
    "    tmp_data = pd.read_excel(currentPath, sheet_name)     \n",
    "    kfold_result = pd.concat([kfold_result, tmp_data], axis = 0)\n",
    "\n",
    "kfold_result.index = range(kfold_result.shape[0])\n",
    "kfold_result.insert(0, '备注', '')\n",
    "print('总数：', kfold_result.shape)\n",
    "# kfold_result.head()"
   ]
  },
  {
   "cell_type": "code",
   "execution_count": 29,
   "metadata": {
    "ExecuteTime": {
     "end_time": "2018-09-18T04:03:13.038083Z",
     "start_time": "2018-09-18T04:03:12.986080Z"
    }
   },
   "outputs": [
    {
     "name": "stdout",
     "output_type": "stream",
     "text": [
      "(9826, 8)\n",
      "(8196, 8)\n",
      "(1630, 8)\n"
     ]
    },
    {
     "data": {
      "text/plain": [
       "R_W    predict_label\n",
       "Right  产品销售              42\n",
       "       公司内部管理            42\n",
       "       其他相关报道            36\n",
       "       噪音                95\n",
       "       消费服务              53\n",
       "       监管                53\n",
       "       行业                89\n",
       "       资本市场              87\n",
       "Wrong  产品销售              94\n",
       "       公司内部管理            98\n",
       "       其他相关报道           126\n",
       "       噪音               251\n",
       "       消费服务             110\n",
       "       监管               129\n",
       "       行业               186\n",
       "       资本市场             139\n",
       "Name: label, dtype: int64"
      ]
     },
     "execution_count": 29,
     "metadata": {},
     "output_type": "execute_result"
    }
   ],
   "source": [
    "K_S_sel = kfold_result[(kfold_result['predict_proba'] < 0.65) | (kfold_result['R_W'] == 'Wrong')]\n",
    "K_S_else = kfold_result[~((kfold_result['predict_proba'] < 0.65) | (kfold_result['R_W'] == 'Wrong'))]\n",
    "print(kfold_result.shape)\n",
    "print(K_S_else.shape)\n",
    "print(K_S_sel.shape)\n",
    "K_S_sel.groupby(['R_W', 'predict_label'])['label'].count()"
   ]
  },
  {
   "cell_type": "code",
   "execution_count": 30,
   "metadata": {
    "ExecuteTime": {
     "end_time": "2018-09-18T04:03:23.968708Z",
     "start_time": "2018-09-18T04:03:15.929248Z"
    },
    "collapsed": true
   },
   "outputs": [],
   "source": [
    "fea_filename = 'cbrc_result_class/result/20180918_cbrc_class_sel.xlsx'\n",
    "with pd.ExcelWriter(fea_filename) as writer:\n",
    "    for label in K_S_sel['predict_label'].unique():\n",
    "        tmp_data = K_S_sel[K_S_sel['predict_label'] == label]\n",
    "        N = tmp_data.shape[0]\n",
    "        tmp_data.sample(n = N, axis = 0, random_state=42).to_excel(writer,label, index = False)    \n",
    "    writer.save()\n",
    "    \n",
    "fea_filename = 'cbrc_result_class/result/20180918_cbrc_class_else.xlsx'\n",
    "with pd.ExcelWriter(fea_filename) as writer:\n",
    "    for label in K_S_else['predict_label'].unique():\n",
    "        tmp_data = K_S_else[K_S_else['predict_label'] == label]\n",
    "        N = tmp_data.shape[0]\n",
    "        tmp_data.sample(n = N, axis = 0, random_state=42).to_excel(writer,label, index = False)    \n",
    "    writer.save()    "
   ]
  },
  {
   "cell_type": "code",
   "execution_count": 12,
   "metadata": {
    "ExecuteTime": {
     "end_time": "2018-09-18T03:45:21.677147Z",
     "start_time": "2018-09-18T03:45:21.601142Z"
    }
   },
   "outputs": [
    {
     "name": "stdout",
     "output_type": "stream",
     "text": [
      "accuracy_score:  0.8846936698554855\n",
      "             precision    recall  f1-score   support\n",
      "\n",
      "       产品销售       0.90      0.90      0.90       939\n",
      "     公司内部管理       0.84      0.90      0.86       934\n",
      "     其他相关报道       0.93      0.92      0.92      1533\n",
      "         噪音       0.88      0.85      0.86      1656\n",
      "       消费服务       0.87      0.89      0.88      1037\n",
      "         监管       0.94      0.91      0.92      1429\n",
      "         行业       0.86      0.86      0.86      1291\n",
      "       资本市场       0.84      0.86      0.85      1007\n",
      "\n",
      "avg / total       0.89      0.88      0.88      9826\n",
      "\n",
      "confusion_matrix: \n",
      "[[ 845    5    6   19   44    0   12    8]\n",
      " [   5  836   24   12   13    5   25   14]\n",
      " [  19   33 1407   38   16    6   12    2]\n",
      " [  23   17   45 1405   34   25   35   72]\n",
      " [  29   18    9   13  927    2    9   30]\n",
      " [   4   17    6   27    8 1300   55   12]\n",
      " [  14   46   10   24   15   45 1105   32]\n",
      " [   5   28    6   60    4    5   31  868]]\n"
     ]
    }
   ],
   "source": [
    "y_test = kfold_result['predict_label'].tolist()\n",
    "y_pred_class = kfold_result['label'].tolist()\n",
    "print('accuracy_score: ', metrics.accuracy_score(y_test, y_pred_class)) # 指所有分类正确的百分比\n",
    "print(metrics.classification_report(y_test, y_pred_class))\n",
    "print('confusion_matrix: ')\n",
    "print( metrics.confusion_matrix(y_test, y_pred_class))"
   ]
  },
  {
   "cell_type": "code",
   "execution_count": 13,
   "metadata": {
    "ExecuteTime": {
     "end_time": "2018-09-18T03:45:40.843243Z",
     "start_time": "2018-09-18T03:45:39.733180Z"
    }
   },
   "outputs": [
    {
     "data": {
      "text/html": [
       "<div>\n",
       "<style scoped>\n",
       "    .dataframe tbody tr th:only-of-type {\n",
       "        vertical-align: middle;\n",
       "    }\n",
       "\n",
       "    .dataframe tbody tr th {\n",
       "        vertical-align: top;\n",
       "    }\n",
       "\n",
       "    .dataframe thead th {\n",
       "        text-align: right;\n",
       "    }\n",
       "</style>\n",
       "<table border=\"1\" class=\"dataframe\">\n",
       "  <thead>\n",
       "    <tr style=\"text-align: right;\">\n",
       "      <th>proba</th>\n",
       "      <th>0.2</th>\n",
       "      <th>0.3</th>\n",
       "      <th>0.4</th>\n",
       "      <th>0.5</th>\n",
       "      <th>0.6</th>\n",
       "      <th>0.7</th>\n",
       "      <th>0.8</th>\n",
       "      <th>0.9</th>\n",
       "      <th>1.0</th>\n",
       "      <th>sum</th>\n",
       "    </tr>\n",
       "    <tr>\n",
       "      <th>predict_label</th>\n",
       "      <th></th>\n",
       "      <th></th>\n",
       "      <th></th>\n",
       "      <th></th>\n",
       "      <th></th>\n",
       "      <th></th>\n",
       "      <th></th>\n",
       "      <th></th>\n",
       "      <th></th>\n",
       "      <th></th>\n",
       "    </tr>\n",
       "  </thead>\n",
       "  <tbody>\n",
       "    <tr>\n",
       "      <th>产品销售</th>\n",
       "      <td>3.0</td>\n",
       "      <td>13.0</td>\n",
       "      <td>11.0</td>\n",
       "      <td>34.0</td>\n",
       "      <td>38.0</td>\n",
       "      <td>39.0</td>\n",
       "      <td>41.0</td>\n",
       "      <td>114.0</td>\n",
       "      <td>651.0</td>\n",
       "      <td>944.0</td>\n",
       "    </tr>\n",
       "    <tr>\n",
       "      <th>公司内部管理</th>\n",
       "      <td>1.0</td>\n",
       "      <td>21.0</td>\n",
       "      <td>31.0</td>\n",
       "      <td>38.0</td>\n",
       "      <td>41.0</td>\n",
       "      <td>44.0</td>\n",
       "      <td>69.0</td>\n",
       "      <td>126.0</td>\n",
       "      <td>629.0</td>\n",
       "      <td>1000.0</td>\n",
       "    </tr>\n",
       "    <tr>\n",
       "      <th>其他相关报道</th>\n",
       "      <td>0.0</td>\n",
       "      <td>12.0</td>\n",
       "      <td>20.0</td>\n",
       "      <td>31.0</td>\n",
       "      <td>26.0</td>\n",
       "      <td>43.0</td>\n",
       "      <td>55.0</td>\n",
       "      <td>155.0</td>\n",
       "      <td>1171.0</td>\n",
       "      <td>1513.0</td>\n",
       "    </tr>\n",
       "    <tr>\n",
       "      <th>噪音</th>\n",
       "      <td>1.0</td>\n",
       "      <td>25.0</td>\n",
       "      <td>41.0</td>\n",
       "      <td>57.0</td>\n",
       "      <td>60.0</td>\n",
       "      <td>110.0</td>\n",
       "      <td>150.0</td>\n",
       "      <td>334.0</td>\n",
       "      <td>820.0</td>\n",
       "      <td>1598.0</td>\n",
       "    </tr>\n",
       "    <tr>\n",
       "      <th>消费服务</th>\n",
       "      <td>1.0</td>\n",
       "      <td>27.0</td>\n",
       "      <td>28.0</td>\n",
       "      <td>40.0</td>\n",
       "      <td>35.0</td>\n",
       "      <td>45.0</td>\n",
       "      <td>52.0</td>\n",
       "      <td>147.0</td>\n",
       "      <td>686.0</td>\n",
       "      <td>1061.0</td>\n",
       "    </tr>\n",
       "    <tr>\n",
       "      <th>监管</th>\n",
       "      <td>1.0</td>\n",
       "      <td>8.0</td>\n",
       "      <td>16.0</td>\n",
       "      <td>24.0</td>\n",
       "      <td>45.0</td>\n",
       "      <td>54.0</td>\n",
       "      <td>96.0</td>\n",
       "      <td>192.0</td>\n",
       "      <td>952.0</td>\n",
       "      <td>1388.0</td>\n",
       "    </tr>\n",
       "    <tr>\n",
       "      <th>行业</th>\n",
       "      <td>3.0</td>\n",
       "      <td>14.0</td>\n",
       "      <td>35.0</td>\n",
       "      <td>67.0</td>\n",
       "      <td>57.0</td>\n",
       "      <td>77.0</td>\n",
       "      <td>100.0</td>\n",
       "      <td>230.0</td>\n",
       "      <td>701.0</td>\n",
       "      <td>1284.0</td>\n",
       "    </tr>\n",
       "    <tr>\n",
       "      <th>资本市场</th>\n",
       "      <td>2.0</td>\n",
       "      <td>10.0</td>\n",
       "      <td>24.0</td>\n",
       "      <td>72.0</td>\n",
       "      <td>56.0</td>\n",
       "      <td>85.0</td>\n",
       "      <td>101.0</td>\n",
       "      <td>240.0</td>\n",
       "      <td>448.0</td>\n",
       "      <td>1038.0</td>\n",
       "    </tr>\n",
       "    <tr>\n",
       "      <th>sum</th>\n",
       "      <td>12.0</td>\n",
       "      <td>130.0</td>\n",
       "      <td>206.0</td>\n",
       "      <td>363.0</td>\n",
       "      <td>358.0</td>\n",
       "      <td>497.0</td>\n",
       "      <td>664.0</td>\n",
       "      <td>1538.0</td>\n",
       "      <td>6058.0</td>\n",
       "      <td>9826.0</td>\n",
       "    </tr>\n",
       "  </tbody>\n",
       "</table>\n",
       "</div>"
      ],
      "text/plain": [
       "proba           0.2    0.3    0.4    0.5    0.6    0.7    0.8     0.9     1.0  \\\n",
       "predict_label                                                                   \n",
       "产品销售            3.0   13.0   11.0   34.0   38.0   39.0   41.0   114.0   651.0   \n",
       "公司内部管理          1.0   21.0   31.0   38.0   41.0   44.0   69.0   126.0   629.0   \n",
       "其他相关报道          0.0   12.0   20.0   31.0   26.0   43.0   55.0   155.0  1171.0   \n",
       "噪音              1.0   25.0   41.0   57.0   60.0  110.0  150.0   334.0   820.0   \n",
       "消费服务            1.0   27.0   28.0   40.0   35.0   45.0   52.0   147.0   686.0   \n",
       "监管              1.0    8.0   16.0   24.0   45.0   54.0   96.0   192.0   952.0   \n",
       "行业              3.0   14.0   35.0   67.0   57.0   77.0  100.0   230.0   701.0   \n",
       "资本市场            2.0   10.0   24.0   72.0   56.0   85.0  101.0   240.0   448.0   \n",
       "sum            12.0  130.0  206.0  363.0  358.0  497.0  664.0  1538.0  6058.0   \n",
       "\n",
       "proba             sum  \n",
       "predict_label          \n",
       "产品销售            944.0  \n",
       "公司内部管理         1000.0  \n",
       "其他相关报道         1513.0  \n",
       "噪音             1598.0  \n",
       "消费服务           1061.0  \n",
       "监管             1388.0  \n",
       "行业             1284.0  \n",
       "资本市场           1038.0  \n",
       "sum            9826.0  "
      ]
     },
     "execution_count": 13,
     "metadata": {},
     "output_type": "execute_result"
    },
    {
     "data": {
      "image/png": "[encoded data removed]",
      "text/plain": [
       "<matplotlib.figure.Figure at 0x18c962b0>"
      ]
     },
     "metadata": {},
     "output_type": "display_data"
    }
   ],
   "source": [
    "y_pred_prob = kfold_result['predict_proba'].tolist()\n",
    "\n",
    "sel_data_stat = plot_class_proba(y_pred_class, y_pred_prob)\n",
    "sel_data_stat"
   ]
  },
  {
   "cell_type": "markdown",
   "metadata": {},
   "source": [
    "## 保存模型"
   ]
  },
  {
   "cell_type": "code",
   "execution_count": 15,
   "metadata": {
    "ExecuteTime": {
     "end_time": "2018-11-16T06:54:05.868806Z",
     "start_time": "2018-11-16T06:47:32.422302Z"
    }
   },
   "outputs": [
    {
     "name": "stdout",
     "output_type": "stream",
     "text": [
      "d:\\xh\\python_project\\tool\\toolkits\\nlp\n",
      "d:\\xh\\python_project\\tool\\toolkits\\nlp\n",
      "keywords num:  1159\n",
      "0.9737880496054115\n"
     ]
    },
    {
     "data": {
      "text/plain": [
       "Pipeline(memory=None,\n",
       "     steps=[('features', FeatureUnion(n_jobs=1,\n",
       "       transformer_list=[('tf_idf', Pipeline(memory=None,\n",
       "     steps=[('counts', CountVectorizer(analyzer='word', binary=False, decode_error='strict',\n",
       "        dtype=<class 'numpy.int64'>, encoding='utf-8', input='content',\n",
       "        lowercase=True, max_df=0.9...tate=0, reg_alpha=0, reg_lambda=1, scale_pos_weight=1,\n",
       "       seed=None, silent=True, subsample=1))])"
      ]
     },
     "execution_count": 15,
     "metadata": {},
     "output_type": "execute_result"
    }
   ],
   "source": [
    "pipeline = Pipeline([\n",
    "    ('features', FeatureUnion([\n",
    "        ('tf_idf', Pipeline([\n",
    "            ('counts', CountVectorizer(max_df=0.95, min_df=2)),\n",
    "            ('tf_idf', TfidfTransformer()),\n",
    "            ('chi', SelectKBest(chi2, k=2000))\n",
    "        ])),\n",
    "        ('len_stats', myclass_cbrc.StatsFeatures_cor()),\n",
    "        ('tf', myclass_cbrc.Statskeywords_cor(topk = 5000))\n",
    "    ])),\n",
    "    ('standard', StandardScaler(with_mean=False)),\n",
    "    ('classifier', XGBClassifier(max_depth=7,objective='multi:softmax', num_class=8))\n",
    "])\n",
    "\n",
    "pipeline.fit(title_content, label)\n",
    "print(pipeline.score(title_content, label))\n",
    "pipeline"
   ]
  },
  {
   "cell_type": "code",
   "execution_count": 16,
   "metadata": {
    "ExecuteTime": {
     "end_time": "2018-11-16T06:54:10.444068Z",
     "start_time": "2018-11-16T06:54:06.974869Z"
    }
   },
   "outputs": [
    {
     "data": {
      "text/plain": [
       "['model/cbrc_8classifier_1116.pkl.z']"
      ]
     },
     "execution_count": 16,
     "metadata": {},
     "output_type": "execute_result"
    }
   ],
   "source": [
    "from sklearn.externals import joblib\n",
    "joblib.dump(pipeline, \"model/cbrc_8classifier_1116.pkl.z\")"
   ]
  },
  {
   "cell_type": "markdown",
   "metadata": {
    "collapsed": true
   },
   "source": [
    "# 银行业：2 倾向性"
   ]
  },
  {
   "cell_type": "markdown",
   "metadata": {},
   "source": [
    "## 导入与分割数据"
   ]
  },
  {
   "cell_type": "code",
   "execution_count": 18,
   "metadata": {
    "ExecuteTime": {
     "end_time": "2018-11-14T08:27:13.501933Z",
     "start_time": "2018-11-14T08:27:13.393927Z"
    }
   },
   "outputs": [
    {
     "name": "stdout",
     "output_type": "stream",
     "text": [
      "title num:  3982\n",
      "['推荐 评级 银行业 动态 报告 同业存单 监管 银行 利空', '年 中国 投资 行业 管理 万亿美元 资产']\n",
      "content num:  3982\n",
      "title_content num:  3982\n",
      "label num:  3982\n",
      "['0', '0', '0', '0', '0']\n"
     ]
    },
    {
     "data": {
      "text/plain": [
       "[0, 0, 0, 0, 0]"
      ]
     },
     "execution_count": 18,
     "metadata": {},
     "output_type": "execute_result"
    }
   ],
   "source": [
    "cbrc_filepath_class = 'cbrc_result_tendency/corpus/'\n",
    "title_content, label, title, content = load_save_plot_file.title_content_label(cbrc_filepath_class)\n",
    "label = [int(l) for l in label]\n",
    "label[:5]"
   ]
  },
  {
   "cell_type": "code",
   "execution_count": 19,
   "metadata": {
    "ExecuteTime": {
     "end_time": "2018-11-14T08:27:27.029707Z",
     "start_time": "2018-11-14T08:27:27.020707Z"
    }
   },
   "outputs": [
    {
     "data": {
      "text/plain": [
       "{-1: '负面', 0: '非负'}"
      ]
     },
     "execution_count": 19,
     "metadata": {},
     "output_type": "execute_result"
    }
   ],
   "source": [
    "label_dic={'非负':0,'负面':-1}\n",
    "class_name_dict = {v: k for k, v in label_dic.items()}\n",
    "class_name_dict"
   ]
  },
  {
   "cell_type": "code",
   "execution_count": 20,
   "metadata": {
    "ExecuteTime": {
     "end_time": "2018-11-14T08:27:28.208775Z",
     "start_time": "2018-11-14T08:27:28.186773Z"
    }
   },
   "outputs": [
    {
     "name": "stdout",
     "output_type": "stream",
     "text": [
      "训练集： 2787\n",
      "训练集-各类数量： Counter({-1: 1447, 0: 1340})\n",
      "测试集： 1195\n",
      "测试集-各类数量： Counter({-1: 601, 0: 594})\n"
     ]
    }
   ],
   "source": [
    "X_train, X_test, y_train, y_test = train_test_split(title_content, label, test_size=0.3, random_state=42)\n",
    "print('训练集：',len(y_train))\n",
    "print('训练集-各类数量：',Counter(y_train))\n",
    "print('测试集：',len(y_test))\n",
    "print('测试集-各类数量：',Counter(y_test))"
   ]
  },
  {
   "cell_type": "markdown",
   "metadata": {},
   "source": [
    "## train & test"
   ]
  },
  {
   "cell_type": "code",
   "execution_count": 21,
   "metadata": {
    "ExecuteTime": {
     "end_time": "2018-11-14T08:28:02.235721Z",
     "start_time": "2018-11-14T08:27:41.991563Z"
    }
   },
   "outputs": [
    {
     "name": "stdout",
     "output_type": "stream",
     "text": [
      "d:\\xh\\python_project\\tool\\toolkits\\nlp\n",
      "0.9967707212055974\n"
     ]
    },
    {
     "data": {
      "text/plain": [
       "Pipeline(memory=None,\n",
       "     steps=[('features', FeatureUnion(n_jobs=1,\n",
       "       transformer_list=[('tf_idf', Pipeline(memory=None,\n",
       "     steps=[('counts', CountVectorizer(analyzer='word', binary=False, decode_error='strict',\n",
       "        dtype=<class 'numpy.int64'>, encoding='utf-8', input='content',\n",
       "        lowercase=True, max_df=0.9...tate=0, reg_alpha=0, reg_lambda=1, scale_pos_weight=1,\n",
       "       seed=None, silent=True, subsample=1))])"
      ]
     },
     "execution_count": 21,
     "metadata": {},
     "output_type": "execute_result"
    }
   ],
   "source": [
    "pipeline = Pipeline([\n",
    "    ('features', FeatureUnion([\n",
    "        ('tf_idf', Pipeline([\n",
    "            ('counts', CountVectorizer(max_df=0.95, min_df=2)),\n",
    "            ('tf_idf', TfidfTransformer()),\n",
    "            ('chi', SelectKBest(chi2, k=2000))\n",
    "        ])),\n",
    "        ('len_stats', myclass_cbrc.StatsFeatures_tendency()),\n",
    "    ])),\n",
    "    ('standard', StandardScaler(with_mean=False)),\n",
    "    ('classifier', XGBClassifier(max_depth=7,objective='multi:softmax', num_class=2))\n",
    "])\n",
    "\n",
    "pipeline.fit(X_train, y_train)\n",
    "print(pipeline.score(X_train, y_train))\n",
    "pipeline"
   ]
  },
  {
   "cell_type": "code",
   "execution_count": 22,
   "metadata": {
    "ExecuteTime": {
     "end_time": "2018-11-14T08:28:02.980763Z",
     "start_time": "2018-11-14T08:28:02.378729Z"
    }
   },
   "outputs": [
    {
     "name": "stdout",
     "output_type": "stream",
     "text": [
      "accuracy_score:  0.9313807531380753\n",
      "             precision    recall  f1-score   support\n",
      "\n",
      "         -1       0.95      0.92      0.93       601\n",
      "          0       0.92      0.95      0.93       594\n",
      "\n",
      "avg / total       0.93      0.93      0.93      1195\n",
      "\n",
      "confusion_matrix: \n",
      "[[550  51]\n",
      " [ 31 563]]\n"
     ]
    }
   ],
   "source": [
    "y_pred_class = pipeline.predict(X_test)\n",
    "print('accuracy_score: ', metrics.accuracy_score(y_test, y_pred_class)) # 指所有分类正确的百分比\n",
    "print(metrics.classification_report(y_test, y_pred_class))\n",
    "print('confusion_matrix: ')\n",
    "print( metrics.confusion_matrix(y_test, y_pred_class))\n",
    "filename = 'statistics_result/CBRC_tendency_model_report.csv'\n",
    "save_model_report(filename, 'CBRC_tendency_model_report')"
   ]
  },
  {
   "cell_type": "markdown",
   "metadata": {},
   "source": [
    "## 概率结果"
   ]
  },
  {
   "cell_type": "code",
   "execution_count": null,
   "metadata": {
    "ExecuteTime": {
     "start_time": "2018-09-11T08:01:33.796Z"
    },
    "collapsed": true
   },
   "outputs": [],
   "source": [
    "y_pred_prob = pipeline.predict_proba(X_test)\n",
    "pd.DataFrame(y_pred_prob.max(axis = 1)).plot.hist(bins = 100)"
   ]
  },
  {
   "cell_type": "code",
   "execution_count": null,
   "metadata": {
    "ExecuteTime": {
     "start_time": "2018-09-11T08:01:33.804Z"
    },
    "collapsed": true
   },
   "outputs": [],
   "source": [
    "sel_data_stat = plot_class_proba(y_pred_class, y_pred_prob)\n",
    "sel_data_stat"
   ]
  },
  {
   "cell_type": "markdown",
   "metadata": {},
   "source": [
    "## K-fold"
   ]
  },
  {
   "cell_type": "code",
   "execution_count": 24,
   "metadata": {
    "ExecuteTime": {
     "end_time": "2018-11-14T08:31:25.551350Z",
     "start_time": "2018-11-14T08:29:26.761555Z"
    }
   },
   "outputs": [
    {
     "name": "stdout",
     "output_type": "stream",
     "text": [
      "d:\\xh\\python_project\\tool\\toolkits\\nlp\n",
      "data_raw:  (3982, 4)\n",
      "---- 1\n",
      "0.9962323390894819\n",
      "accuracy_score:  0.944792973651192\n",
      "             precision    recall  f1-score   support\n",
      "\n",
      "         -1       0.95      0.94      0.95       407\n",
      "          0       0.93      0.95      0.94       390\n",
      "\n",
      "avg / total       0.94      0.94      0.94       797\n",
      "\n",
      "confusion_matrix: \n",
      "[[381  26]\n",
      " [ 18 372]]\n",
      "---- 2\n",
      "0.9949764521193093\n",
      "accuracy_score:  0.9360100376411543\n",
      "             precision    recall  f1-score   support\n",
      "\n",
      "         -1       0.95      0.92      0.93       399\n",
      "          0       0.92      0.95      0.94       398\n",
      "\n",
      "avg / total       0.94      0.94      0.94       797\n",
      "\n",
      "confusion_matrix: \n",
      "[[366  33]\n",
      " [ 18 380]]\n",
      "---- 3\n",
      "0.9956057752667922\n",
      "accuracy_score:  0.9309045226130653\n",
      "             precision    recall  f1-score   support\n",
      "\n",
      "         -1       0.94      0.93      0.93       417\n",
      "          0       0.92      0.93      0.93       379\n",
      "\n",
      "avg / total       0.93      0.93      0.93       796\n",
      "\n",
      "confusion_matrix: \n",
      "[[387  30]\n",
      " [ 25 354]]\n",
      "---- 4\n",
      "0.9956057752667922\n",
      "accuracy_score:  0.9258793969849246\n",
      "             precision    recall  f1-score   support\n",
      "\n",
      "         -1       0.96      0.90      0.93       426\n",
      "          0       0.89      0.96      0.92       370\n",
      "\n",
      "avg / total       0.93      0.93      0.93       796\n",
      "\n",
      "confusion_matrix: \n",
      "[[383  43]\n",
      " [ 16 354]]\n",
      "---- 5\n",
      "0.9962335216572504\n",
      "accuracy_score:  0.9258793969849246\n",
      "             precision    recall  f1-score   support\n",
      "\n",
      "         -1       0.93      0.93      0.93       399\n",
      "          0       0.93      0.92      0.93       397\n",
      "\n",
      "avg / total       0.93      0.93      0.93       796\n",
      "\n",
      "confusion_matrix: \n",
      "[[370  29]\n",
      " [ 30 367]]\n",
      "kfold_result:  (3982, 7)\n"
     ]
    }
   ],
   "source": [
    "pipeline = Pipeline([\n",
    "    ('features', FeatureUnion([\n",
    "        ('tf_idf', Pipeline([\n",
    "            ('counts', CountVectorizer(max_df=0.95, min_df=2)),\n",
    "            ('tf_idf', TfidfTransformer()),\n",
    "            ('chi', SelectKBest(chi2, k=2000))\n",
    "        ])),\n",
    "        ('len_stats', myclass_cbrc.StatsFeatures_tendency()),\n",
    "    ])),\n",
    "    ('standard', StandardScaler(with_mean=False)),\n",
    "    ('classifier', XGBClassifier(max_depth=7,objective='multi:softmax', num_class=2))\n",
    "])\n",
    "\n",
    "filename = 'cbrc_tendency_label_proba_20181114.xlsx'\n",
    "cal_kfold(title_content, label, pipeline, 'cbrc_result_tendency', filename, class_name_dict)"
   ]
  },
  {
   "cell_type": "markdown",
   "metadata": {},
   "source": [
    "## 保存模型"
   ]
  },
  {
   "cell_type": "code",
   "execution_count": 25,
   "metadata": {
    "ExecuteTime": {
     "end_time": "2018-11-14T08:32:11.119956Z",
     "start_time": "2018-11-14T08:31:40.154185Z"
    }
   },
   "outputs": [
    {
     "name": "stdout",
     "output_type": "stream",
     "text": [
      "d:\\xh\\python_project\\tool\\toolkits\\nlp\n",
      "0.9937217478653942\n"
     ]
    },
    {
     "data": {
      "text/plain": [
       "Pipeline(memory=None,\n",
       "     steps=[('features', FeatureUnion(n_jobs=1,\n",
       "       transformer_list=[('tf_idf', Pipeline(memory=None,\n",
       "     steps=[('counts', CountVectorizer(analyzer='word', binary=False, decode_error='strict',\n",
       "        dtype=<class 'numpy.int64'>, encoding='utf-8', input='content',\n",
       "        lowercase=True, max_df=0.9...tate=0, reg_alpha=0, reg_lambda=1, scale_pos_weight=1,\n",
       "       seed=None, silent=True, subsample=1))])"
      ]
     },
     "execution_count": 25,
     "metadata": {},
     "output_type": "execute_result"
    }
   ],
   "source": [
    "pipeline = Pipeline([\n",
    "    ('features', FeatureUnion([\n",
    "        ('tf_idf', Pipeline([\n",
    "            ('counts', CountVectorizer(max_df=0.95, min_df=2)),\n",
    "            ('tf_idf', TfidfTransformer()),\n",
    "            ('chi', SelectKBest(chi2, k=2000))\n",
    "        ])),\n",
    "        ('len_stats', myclass_cbrc.StatsFeatures_tendency()),\n",
    "    ])),\n",
    "    ('standard', StandardScaler(with_mean=False)),\n",
    "    ('classifier', XGBClassifier(max_depth=7,objective='multi:softmax', num_class=2))\n",
    "])\n",
    "\n",
    "pipeline.fit(title_content, label)\n",
    "print(pipeline.score(title_content, label))\n",
    "pipeline"
   ]
  },
  {
   "cell_type": "code",
   "execution_count": 27,
   "metadata": {
    "ExecuteTime": {
     "end_time": "2018-11-14T08:32:43.283796Z",
     "start_time": "2018-11-14T08:32:42.178733Z"
    }
   },
   "outputs": [
    {
     "data": {
      "text/plain": [
       "['model/cbrc_chapter_tendency_1114.pkl.z']"
      ]
     },
     "execution_count": 27,
     "metadata": {},
     "output_type": "execute_result"
    }
   ],
   "source": [
    "from sklearn.externals import joblib\n",
    "joblib.dump(pipeline, \"model/cbrc_chapter_tendency_1114.pkl.z\")"
   ]
  },
  {
   "cell_type": "markdown",
   "metadata": {
    "collapsed": true
   },
   "source": [
    "# 保存本文件"
   ]
  },
  {
   "cell_type": "code",
   "execution_count": null,
   "metadata": {
    "ExecuteTime": {
     "start_time": "2018-09-11T08:01:33.839Z"
    },
    "collapsed": true
   },
   "outputs": [],
   "source": [
    "if 0:\n",
    "    import datetime as dt\n",
    "    \n",
    "    def output_HTML(read_file, output_file):\n",
    "        from nbconvert import HTMLExporter\n",
    "        import codecs\n",
    "        import nbformat\n",
    "        exporter = HTMLExporter()\n",
    "        # read_file is '.ipynb', output_file is '.html'\n",
    "        output_notebook = nbformat.read(read_file, as_version=4)\n",
    "        output, resources = exporter.from_notebook_node(output_notebook)\n",
    "        codecs.open(output_file, 'w', encoding='utf-8').write(output)\n",
    "\n",
    "    html_file_folder = 'html_files'\n",
    "    if not os.path.exists(html_file_folder):\n",
    "        os.makedirs(html_file_folder)\n",
    "\n",
    "    today = dt.datetime.now().strftime('%Y%m%d')\n",
    "    current_file = 'circ_cor_model_2_train.ipynb'\n",
    "    output_file = 'html_files\\%s_%s.html'%(os.path.splitext(current_file)[0], today)\n",
    "    output_HTML(current_file, output_file)"
   ]
  }
 ],
 "metadata": {
  "kernelspec": {
   "display_name": "Python 3",
   "language": "python",
   "name": "python3"
  },
  "language_info": {
   "codemirror_mode": {
    "name": "ipython",
    "version": 3
   },
   "file_extension": ".py",
   "mimetype": "text/x-python",
   "name": "python",
   "nbconvert_exporter": "python",
   "pygments_lexer": "ipython3",
   "version": "3.6.3"
  },
  "toc": {
   "nav_menu": {},
   "number_sections": true,
   "sideBar": true,
   "skip_h1_title": false,
   "title_cell": "Table of Contents",
   "title_sidebar": "Contents",
   "toc_cell": false,
   "toc_position": {
    "height": "calc(100% - 180px)",
    "left": "10px",
    "top": "150px",
    "width": "376px"
   },
   "toc_section_display": true,
   "toc_window_display": true
  },
  "varInspector": {
   "cols": {
    "lenName": 16,
    "lenType": 16,
    "lenVar": 40
   },
   "kernels_config": {
    "python": {
     "delete_cmd_postfix": "",
     "delete_cmd_prefix": "del ",
     "library": "var_list.py",
     "varRefreshCmd": "print(var_dic_list())"
    },
    "r": {
     "delete_cmd_postfix": ") ",
     "delete_cmd_prefix": "rm(",
     "library": "var_list.r",
     "varRefreshCmd": "cat(var_dic_list()) "
    }
   },
   "types_to_exclude": [
    "module",
    "function",
    "builtin_function_or_method",
    "instance",
    "_Feature"
   ],
   "window_display": false
  }
 },
 "nbformat": 4,
 "nbformat_minor": 2
}
