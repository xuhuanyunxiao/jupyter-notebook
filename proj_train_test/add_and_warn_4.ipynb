{
 "cells": [
  {
   "cell_type": "markdown",
   "metadata": {},
   "source": [
    "# 本文件说明\n",
    "- 统计分析\n",
    "> - 八分类模型数据：噪音与非噪音\n",
    "> - 补录和预警数据"
   ]
  },
  {
   "cell_type": "markdown",
   "metadata": {},
   "source": [
    "# 基本设置"
   ]
  },
  {
   "cell_type": "code",
   "execution_count": 1,
   "metadata": {
    "ExecuteTime": {
     "end_time": "2018-11-12T01:23:40.842793Z",
     "start_time": "2018-11-12T01:23:39.238701Z"
    },
    "collapsed": true
   },
   "outputs": [],
   "source": [
    "import numpy as np\n",
    "import pandas as pd\n",
    "import os\n",
    "import datetime\n",
    "\n",
    "import requests,json\n",
    "from sklearn.externals import joblib\n",
    "\n",
    "import seaborn as sns\n",
    "import matplotlib as mpl\n",
    "import matplotlib.pyplot as plt\n",
    "%matplotlib inline\n",
    "\n",
    "import warnings\n",
    "warnings.filterwarnings('ignore')"
   ]
  },
  {
   "cell_type": "code",
   "execution_count": 2,
   "metadata": {
    "ExecuteTime": {
     "end_time": "2018-11-12T01:23:41.065806Z",
     "start_time": "2018-11-12T01:23:40.845793Z"
    },
    "collapsed": true
   },
   "outputs": [],
   "source": [
    "from toolkits.setup.date_time import get_day_list\n",
    "from toolkits.setup import specific_func\n",
    "specific_func.set_ch_pd()"
   ]
  },
  {
   "cell_type": "markdown",
   "metadata": {},
   "source": [
    "## 一些函数"
   ]
  },
  {
   "cell_type": "code",
   "execution_count": 3,
   "metadata": {
    "ExecuteTime": {
     "end_time": "2018-11-12T01:23:41.147810Z",
     "start_time": "2018-11-12T01:23:41.070806Z"
    },
    "collapsed": true
   },
   "outputs": [],
   "source": [
    "def plot_cor(count_data, day_thing, title):\n",
    "    fig = plt.figure(figsize = (15,6))\n",
    "    ax1 = fig.add_subplot(111)\n",
    "    rects = count_data[['al_cor', 'al_uncor']].plot(kind = 'bar', ax = ax1, alpha=0.5, stacked=True)\n",
    "    ax1.set_ylabel('num', fontsize = 16)\n",
    "    ax1.set_title(title, fontsize = 20)\n",
    "    ax1.legend(['al-cor', 'al-uncor'], loc='upper left')\n",
    "\n",
    "    ax2 = ax1.twinx()  # this is the important function\n",
    "    count_data[['al_cor_rate', 'al_uncor_rate']].plot(x = count_data['publishtime'],\n",
    "                                              kind = 'line', ax = ax2, marker = 'D')\n",
    "    ax2.set_ylabel('rate', fontsize = 16)\n",
    "    ax2.set_xlabel('publishtime', fontsize = 16)\n",
    "    ax2.set_ylim(0, 1)\n",
    "    ax2.legend(['al-cor-rate', 'al-uncor-rate'], loc='upper center')\n",
    "\n",
    "    y_list = [0.65, 0.75, 0.85, 0.95]\n",
    "    m = 0\n",
    "    for [d, t] in day_thing:    \n",
    "        if d in count_data['publishtime'].tolist():\n",
    "            x = count_data['publishtime'].tolist().index(d)\n",
    "            ax2.axvline(x=x, ymin = y_list[m] - 0.1, ymax = y_list[m] + 0.1, \n",
    "                        color='k', linestyle = \"--\", alpha = 0.75)\n",
    "            ax2.text(x - 0.25, y_list[m], t, va='center', fontsize = 12)\n",
    "            if m == 3: \n",
    "                m = 0\n",
    "            else :\n",
    "                m += 1\n",
    "\n",
    "    plt.grid(True, linestyle = \"--\", color = \"r\", alpha = 0.3) \n",
    "    plt.show()\n",
    "\n",
    "    print(count_data.sort_values(by = 'publishtime', ascending = False).head())"
   ]
  },
  {
   "cell_type": "code",
   "execution_count": 4,
   "metadata": {
    "ExecuteTime": {
     "end_time": "2018-11-12T01:23:41.284818Z",
     "start_time": "2018-11-12T01:23:41.154811Z"
    },
    "collapsed": true
   },
   "outputs": [],
   "source": [
    "def plot_tend(tend_count, day_thing, title):\n",
    "    tend_counts = tend_count.set_index([\"tendency\", 'publishtime']).unstack('tendency')\n",
    "    tend_counts.columns = ['neg', 'pos']\n",
    "    tend_counts['sum'] = tend_counts.sum(axis = 1)\n",
    "    tend_counts['neg_rate'] =  tend_counts['neg'] / tend_counts['sum']\n",
    "    tend_counts['pos_rate'] =  tend_counts['pos'] / tend_counts['sum']\n",
    "    tend_counts = tend_counts.reset_index('publishtime')\n",
    "\n",
    "    tend_counts = tend_counts.sort_values(by = 'publishtime')\n",
    "    fig = plt.figure(figsize = (15,6))\n",
    "    ax1 = fig.add_subplot(111)\n",
    "    tend_counts[['neg', 'pos']].plot(kind = 'bar', ax = ax1, alpha=0.5, stacked=True)\n",
    "    ax1.set_ylabel('N', fontsize = 16)\n",
    "    ax1.set_title(title, fontsize = 20)\n",
    "    ax1.legend(['neg N', 'pos N'], loc='upper left')\n",
    "\n",
    "    ax2 = ax1.twinx()  # this is the important function\n",
    "    tend_counts[['neg_rate', 'pos_rate']].plot(x = tend_counts['publishtime'],\n",
    "                                             kind = 'line', ax = ax2, marker = 'D')\n",
    "    ax2.set_ylabel('rate', fontsize = 16)\n",
    "    ax2.set_xlabel('publishtime', fontsize = 16)\n",
    "    ax2.set_ylim(0, 1)\n",
    "    ax2.legend(loc='upper center')\n",
    "    y_list = [0.65, 0.75, 0.85, 0.95]\n",
    "    m = 0\n",
    "    for [d, t] in day_thing:    \n",
    "        if d in tend_counts['publishtime'].tolist():\n",
    "            x = tend_counts['publishtime'].tolist().index(d)\n",
    "            ax2.axvline(x=x, ymin = y_list[m] - 0.1, ymax = y_list[m] + 0.1, \n",
    "                        color='k', linestyle = \"--\", alpha = 0.75)\n",
    "            ax2.text(x - 0.25, y_list[m], t, va='center', fontsize = 12)\n",
    "            if m == 3: \n",
    "                m = 0\n",
    "            else :\n",
    "                m += 1\n",
    "\n",
    "    plt.grid(True, linestyle = \"--\", color = \"r\", alpha = 0.3) \n",
    "    plt.show()\n",
    "\n",
    "    print(tend_counts.sort_values(by = 'publishtime', ascending = False).head())"
   ]
  },
  {
   "cell_type": "code",
   "execution_count": 5,
   "metadata": {
    "ExecuteTime": {
     "end_time": "2018-11-12T01:23:41.404825Z",
     "start_time": "2018-11-12T01:23:41.287818Z"
    },
    "collapsed": true
   },
   "outputs": [],
   "source": [
    "def get_server_res(data, url):\n",
    "    '''\n",
    "    服务器接口测试程序\n",
    "    传入 dict, 传出 DataFrame\n",
    "    '''\n",
    "    # data = {'record':[{'id':0,'title':'ss','content':'zzz'},]}\n",
    "    # data = {\"record\":marked_human_data.iloc[:5,:3].to_dict(orient = 'records')}\n",
    "    # url \"http://47.93.77.19:10000/correlation_negative\"\n",
    "    headers={'content-type':'application/json'}\n",
    "    result = requests.post(url,\n",
    "                      data = json.dumps(data),\n",
    "                      headers=headers, allow_redirects=True)\n",
    "    # print(result.text)\n",
    "    json_data = json.loads(result.text)\n",
    "    parse_data = []\n",
    "    elapsed_time = json_data['elapsed_time']\n",
    "    for i in range(len(json_data['docs'])):\n",
    "        parse_data.append([json_data['docs'][i]['id'],\n",
    "                          json_data['docs'][i]['cor']])\n",
    "    parse_data = pd.DataFrame(parse_data, columns = ['id', 'cor'])    \n",
    "    return parse_data, elapsed_time"
   ]
  },
  {
   "cell_type": "code",
   "execution_count": 6,
   "metadata": {
    "ExecuteTime": {
     "end_time": "2018-11-12T01:23:41.500830Z",
     "start_time": "2018-11-12T01:23:41.408825Z"
    },
    "collapsed": true
   },
   "outputs": [],
   "source": [
    "def get_server_res_yjh(data, url, col_name):\n",
    "    '''\n",
    "    服务器接口测试程序\n",
    "    传入 dict, 传出 DataFrame\n",
    "    '''\n",
    "    # data = {'record':[{'id':0,'title':'ss','content':'zzz'},]}\n",
    "    # data = {\"record\":marked_human_data.iloc[:5,:3].to_dict(orient = 'records')}\n",
    "    # url \"http://47.93.77.19:10000/correlation_negative\"\n",
    "    headers={'content-type':'application/json'}\n",
    "    result = requests.post(url,\n",
    "                      data = json.dumps(data),\n",
    "                      headers=headers, allow_redirects=True)\n",
    "    # print(result.text)\n",
    "    json_data = json.loads(result.text)\n",
    "    parse_data = []\n",
    "#     elapsed_time = json_data['elapsed_time']\n",
    "    for i in range(len(json_data['docs'])):\n",
    "        parse_data.append([json_data['docs'][i]['id'],\n",
    "                          json_data['docs'][i][col_name]])\n",
    "    parse_data = pd.DataFrame(parse_data, columns = ['id', col_name])    \n",
    "    return parse_data #, elapsed_time"
   ]
  },
  {
   "cell_type": "code",
   "execution_count": 7,
   "metadata": {
    "ExecuteTime": {
     "end_time": "2018-11-12T01:23:41.586835Z",
     "start_time": "2018-11-12T01:23:41.503831Z"
    },
    "collapsed": true
   },
   "outputs": [],
   "source": [
    "def get_period_data_for_training(human_additional, warning, url, folder, filename, flag):\n",
    "    combined_data = pd.concat([human_additional, warning])\n",
    "    print('去重前', combined_data.shape)\n",
    "    combined_data = combined_data.drop_duplicates(subset = 'id')\n",
    "    print('去重后', combined_data.shape)\n",
    "\n",
    "    # predict\n",
    "    data = {\"record\":combined_data.loc[:,['id', 'title' ,'content']].to_dict(orient = 'records')}\n",
    "    if flag == 'circ':\n",
    "        parse_data, elapsed_time = get_server_res(data, url)\n",
    "    elif flag == 'cbrc':\n",
    "        col_name = 'sec'\n",
    "        parse_data = get_server_res_yjh(data, url, col_name)\n",
    "        \n",
    "    print(parse_data.shape)\n",
    "    # parse_data.head()  \n",
    "\n",
    "    parse_data.columns = ['id', 'predict_label']\n",
    "    parse_data['predict_label'] = parse_data['predict_label'].apply(lambda x:class_name_dict[x])\n",
    "    parse_data['label'] = ''\n",
    "    # parse_data['cor'] = parse_data['predict_label'].apply(lambda x:1 if x in ['监管', '行业', '经营管理', '消费服务'] else 0)\n",
    "    # parse_data['all_cor'] = parse_data['predict_label'].apply(lambda x:1 if x != '噪音' else 0)\n",
    "    print(parse_data.shape)\n",
    "    # parse_data.head()\n",
    "\n",
    "    combined_data = pd.merge(combined_data, parse_data, on  = 'id')\n",
    "    print(combined_data.head())\n",
    "\n",
    "    file_path = '%s/result/%s'%(folder, filename)\n",
    "    combined_data[['id', 'predict_label', \n",
    "                   'label', 'title', 'content']].to_excel(file_path, index = False)"
   ]
  },
  {
   "cell_type": "code",
   "execution_count": 8,
   "metadata": {
    "ExecuteTime": {
     "end_time": "2018-11-12T01:23:41.706842Z",
     "start_time": "2018-11-12T01:23:41.591836Z"
    },
    "collapsed": true
   },
   "outputs": [],
   "source": [
    "def get_class_data(class_count):\n",
    "    class_count['c'] = class_count['publishtime'] + class_count['classify']\n",
    "    class_count.index = range(class_count.shape[0])\n",
    "    combined_count = {}\n",
    "    for index in class_count.index:\n",
    "        c = class_count.loc[index, 'c']\n",
    "        if c not in combined_count:\n",
    "            combined_count[c] = {}\n",
    "            combined_count[c]['count'] = class_count.loc[index, 'count']\n",
    "        else :\n",
    "            combined_count[c]['count'] = combined_count[c]['count'] + class_count.loc[index, 'count']\n",
    "\n",
    "        combined_count[c]['publishtime'] = class_count.loc[index, 'publishtime']\n",
    "        combined_count[c]['classify'] = class_count.loc[index, 'classify']\n",
    "\n",
    "    class_count = pd.DataFrame().from_dict(combined_count, orient = 'index')\n",
    "    class_count.index = range(class_count.shape[0])    \n",
    "\n",
    "    cor_class = class_count.set_index(['publishtime', 'classify']).unstack()#.reset_index('publishtime')\n",
    "    cor_class['总量'] = cor_class['count'].sum(axis = 1)\n",
    "    cor_class_1 = cor_class.copy()\n",
    "    cor_class_1['非噪音'] = cor_class_1['总量'] - cor_class_1['count', '噪音']\n",
    "    cor_class_1['非噪音-比例'] = cor_class_1['非噪音'] / cor_class_1['总量']\n",
    "    cor_class_1['噪音-比例'] = cor_class_1['count', '噪音'] / cor_class_1['总量']\n",
    "    # cor_class_1.sort_index(ascending = False).head()    \n",
    "    \n",
    "    for k in cor_class['count'].columns.tolist():\n",
    "        cor_class['rate', k] = cor_class['count', k] / cor_class['总量']\n",
    "#     cor_class.sort_index(ascending = False).head()\n",
    "\n",
    "    count_data_7 = cor_class_1[['总量',  '非噪音', '非噪音-比例', '噪音-比例']]\n",
    "    count_data_7.insert(2, '噪音', cor_class_1['count', '噪音'])\n",
    "    count_data_7.columns = ['sum', 'al_cor', 'al_uncor', 'al_cor_rate', 'al_uncor_rate']\n",
    "    count_data_7 = count_data_7.reset_index()\n",
    "\n",
    "    cor_list = ['监管', '行业', '公司内部管理', '消费服务']\n",
    "    count_data_4 = cor_class_1['count'][cor_list].sum(axis = 1).reset_index()\n",
    "    ss = cor_class_1.reset_index()\n",
    "    count_data_4 = pd.merge(count_data_4, ss[['总量', 'publishtime']], on = 'publishtime')\n",
    "    count_data_4.columns = ['publishtime', 'al_cor', 'sum']\n",
    "    count_data_4['al_uncor'] = count_data_4['sum'] - count_data_4['al_cor']\n",
    "    count_data_4['al_cor_rate'] = count_data_4['al_cor'] / count_data_4['sum']\n",
    "    count_data_4['al_uncor_rate'] = count_data_4['al_uncor'] / count_data_4['sum']\n",
    "\n",
    "    return cor_class_1, cor_class, count_data_7, count_data_4"
   ]
  },
  {
   "cell_type": "markdown",
   "metadata": {},
   "source": [
    "# 参数设置"
   ]
  },
  {
   "cell_type": "code",
   "execution_count": 9,
   "metadata": {
    "ExecuteTime": {
     "end_time": "2018-11-12T01:23:41.820849Z",
     "start_time": "2018-11-12T01:23:41.709842Z"
    }
   },
   "outputs": [
    {
     "name": "stdout",
     "output_type": "stream",
     "text": [
      "今天是： 2018-11-12\n",
      "昨天是： 2018-11-11\n",
      "统计的是昨天的数据，即 2018-11-11 的数据\n",
      "start_day： 2018-10-12\n",
      "end_day： 2018-11-12\n"
     ]
    }
   ],
   "source": [
    "today = datetime.datetime.now()\n",
    "today_str = today.strftime(\"%Y-%m-%d\")\n",
    "yesterday = today - datetime.timedelta(days=1)\n",
    "yesterday_str = yesterday.strftime(\"%Y-%m-%d\")\n",
    "# data_folder = r'D:\\XH\\OneDrive\\网智天元\\4 银保监会\\cbirc_获取用于人工判断数据\\%s'% yesterday_str\n",
    "# if not os.path.exists(data_folder):\n",
    "#     os.makedirs(data_folder)\n",
    "\n",
    "print('今天是：',today.strftime(\"%Y-%m-%d\"))\n",
    "print('昨天是：',yesterday_str)\n",
    "print('统计的是昨天的数据，即 %s 的数据'%yesterday_str)\n",
    "# print('文件存储位置: ', data_folder)\n",
    "\n",
    "start_day = today - datetime.timedelta(days=31) # 30 天\n",
    "start_day = start_day.strftime(\"%Y-%m-%d\") # '2018-08-12'  # 含\n",
    "end_day = today_str # yesterday_str    # 含\n",
    "print('start_day：',start_day)\n",
    "print('end_day：',end_day)"
   ]
  },
  {
   "cell_type": "code",
   "execution_count": 10,
   "metadata": {
    "ExecuteTime": {
     "end_time": "2018-11-12T01:23:41.939856Z",
     "start_time": "2018-11-12T01:23:41.829849Z"
    }
   },
   "outputs": [
    {
     "data": {
      "text/plain": [
       "{0: '补录',\n",
       " 1: '监管',\n",
       " 2: '行业',\n",
       " 3: '产品销售',\n",
       " 4: '资本市场',\n",
       " 5: '公司内部管理',\n",
       " 6: '消费服务',\n",
       " 7: '其他相关报道',\n",
       " 8: '噪音'}"
      ]
     },
     "execution_count": 10,
     "metadata": {},
     "output_type": "execute_result"
    }
   ],
   "source": [
    "label_dic={'补录':0,'监管':1,'行业':2,'产品销售':3,'资本市场':4,'公司内部管理':5,'消费服务':6,'其他相关报道':7,'噪音':8}\n",
    "class_name_dict = {v: k for k, v in label_dic.items()}\n",
    "class_name_dict"
   ]
  },
  {
   "cell_type": "code",
   "execution_count": 11,
   "metadata": {
    "ExecuteTime": {
     "end_time": "2018-11-12T01:23:42.019860Z",
     "start_time": "2018-11-12T01:23:41.944856Z"
    }
   },
   "outputs": [
    {
     "data": {
      "text/plain": [
       "{'1': '新闻',\n",
       " '11': '微信',\n",
       " '13': '新闻客户端',\n",
       " '15': '推特',\n",
       " '2': '论坛',\n",
       " '3': '博客',\n",
       " '4': '微博',\n",
       " '5': '纸媒',\n",
       " '6': '视频',\n",
       " '7': '外媒',\n",
       " '8': '广播',\n",
       " '9': '电视'}"
      ]
     },
     "execution_count": 11,
     "metadata": {},
     "output_type": "execute_result"
    }
   ],
   "source": [
    "group = '1-新闻，2-论坛，3-博客，4-微博，5-纸媒，6-视频，7-外媒，8-广播，9-电视，11-微信，13-新闻客户端，15-推特'\n",
    "group_dict = dict([x.split('-') for x in group.split('，')])\n",
    "group_dict"
   ]
  },
  {
   "cell_type": "markdown",
   "metadata": {},
   "source": [
    "# 保险业--旧"
   ]
  },
  {
   "cell_type": "markdown",
   "metadata": {},
   "source": [
    "## 特殊时间点"
   ]
  },
  {
   "cell_type": "code",
   "execution_count": 12,
   "metadata": {
    "ExecuteTime": {
     "end_time": "2018-11-12T01:23:52.878481Z",
     "start_time": "2018-11-12T01:23:42.022860Z"
    },
    "collapsed": true
   },
   "outputs": [],
   "source": [
    "engine = specific_func.get_engine('circ')"
   ]
  },
  {
   "cell_type": "code",
   "execution_count": 13,
   "metadata": {
    "ExecuteTime": {
     "end_time": "2018-11-12T01:23:52.913483Z",
     "start_time": "2018-11-12T01:23:52.889482Z"
    },
    "collapsed": true
   },
   "outputs": [],
   "source": [
    "circ_day_thing = [['2018-05-31', '上线倾向性模型'], \n",
    "             ['2018-06-12', '更新倾向性模型'], \n",
    "             ['2018-06-13', '更新倾向性模型'], \n",
    "             ['2018-06-15', '更新相关性模型'], \n",
    "             ['2018-06-19', '修复bug'], \n",
    "             ['2018-06-24', '更新相关性模型'],\n",
    "             ['2018-06-24', '上线预警模型'], \n",
    "             ['2018-06-25', '更新相关性模型（加入交集数据作为噪音）']]"
   ]
  },
  {
   "cell_type": "markdown",
   "metadata": {},
   "source": [
    "## 八分类"
   ]
  },
  {
   "cell_type": "code",
   "execution_count": 14,
   "metadata": {
    "ExecuteTime": {
     "end_time": "2018-11-12T01:24:04.314135Z",
     "start_time": "2018-11-12T01:23:52.917483Z"
    }
   },
   "outputs": [
    {
     "data": {
      "text/html": [
       "<div>\n",
       "<style scoped>\n",
       "    .dataframe tbody tr th:only-of-type {\n",
       "        vertical-align: middle;\n",
       "    }\n",
       "\n",
       "    .dataframe tbody tr th {\n",
       "        vertical-align: top;\n",
       "    }\n",
       "\n",
       "    .dataframe thead th {\n",
       "        text-align: right;\n",
       "    }\n",
       "</style>\n",
       "<table border=\"1\" class=\"dataframe\">\n",
       "  <thead>\n",
       "    <tr style=\"text-align: right;\">\n",
       "      <th></th>\n",
       "      <th>publishtime</th>\n",
       "      <th>classify</th>\n",
       "      <th>count</th>\n",
       "    </tr>\n",
       "  </thead>\n",
       "  <tbody>\n",
       "    <tr>\n",
       "      <th>0</th>\n",
       "      <td>2018-11-12</td>\n",
       "      <td>补录</td>\n",
       "      <td>1</td>\n",
       "    </tr>\n",
       "    <tr>\n",
       "      <th>1</th>\n",
       "      <td>2018-11-12</td>\n",
       "      <td>监管</td>\n",
       "      <td>777</td>\n",
       "    </tr>\n",
       "    <tr>\n",
       "      <th>2</th>\n",
       "      <td>2018-11-12</td>\n",
       "      <td>行业</td>\n",
       "      <td>356</td>\n",
       "    </tr>\n",
       "    <tr>\n",
       "      <th>3</th>\n",
       "      <td>2018-11-12</td>\n",
       "      <td>产品销售</td>\n",
       "      <td>261</td>\n",
       "    </tr>\n",
       "    <tr>\n",
       "      <th>4</th>\n",
       "      <td>2018-11-12</td>\n",
       "      <td>资本市场</td>\n",
       "      <td>1542</td>\n",
       "    </tr>\n",
       "  </tbody>\n",
       "</table>\n",
       "</div>"
      ],
      "text/plain": [
       "  publishtime classify  count\n",
       "0  2018-11-12       补录      1\n",
       "1  2018-11-12       监管    777\n",
       "2  2018-11-12       行业    356\n",
       "3  2018-11-12     产品销售    261\n",
       "4  2018-11-12     资本市场   1542"
      ]
     },
     "execution_count": 14,
     "metadata": {},
     "output_type": "execute_result"
    }
   ],
   "source": [
    "# 相关数据\n",
    "sql_circ_cor = \"select date_format(t1.publishtime,'%%Y-%%m-%%d') as publishtime, t1.classify, \\\n",
    "                            count(t1.id) as count \\\n",
    "                            from wise_web_docinfo t1 \\\n",
    "                                where (date_format(publishtime, '%%Y-%%m-%%d') >= '{0}' and \\\n",
    "                                      date_format(publishtime, '%%Y-%%m-%%d') <= '{1}') \\\n",
    "                                group by date_format(t1.publishtime,'%%Y-%%m-%%d'), t1.classify \\\n",
    "                                order by date_format(t1.publishtime,'%%Y-%%m-%%d') desc\".format(start_day, end_day) \n",
    "\n",
    "circ_cor_count = pd.read_sql(sql_circ_cor, engine)\n",
    "circ_cor_count['classify'] = circ_cor_count['classify'].apply(lambda x:class_name_dict[x])\n",
    "circ_cor_count.head()"
   ]
  },
  {
   "cell_type": "code",
   "execution_count": 15,
   "metadata": {
    "ExecuteTime": {
     "end_time": "2018-11-12T01:32:01.024402Z",
     "start_time": "2018-11-12T01:24:04.327136Z"
    }
   },
   "outputs": [
    {
     "data": {
      "text/html": [
       "<div>\n",
       "<style scoped>\n",
       "    .dataframe tbody tr th:only-of-type {\n",
       "        vertical-align: middle;\n",
       "    }\n",
       "\n",
       "    .dataframe tbody tr th {\n",
       "        vertical-align: top;\n",
       "    }\n",
       "\n",
       "    .dataframe thead th {\n",
       "        text-align: right;\n",
       "    }\n",
       "</style>\n",
       "<table border=\"1\" class=\"dataframe\">\n",
       "  <thead>\n",
       "    <tr style=\"text-align: right;\">\n",
       "      <th></th>\n",
       "      <th>publishtime</th>\n",
       "      <th>classify</th>\n",
       "      <th>count</th>\n",
       "    </tr>\n",
       "  </thead>\n",
       "  <tbody>\n",
       "    <tr>\n",
       "      <th>0</th>\n",
       "      <td>2018-11-12</td>\n",
       "      <td>噪音</td>\n",
       "      <td>16370</td>\n",
       "    </tr>\n",
       "    <tr>\n",
       "      <th>1</th>\n",
       "      <td>2018-11-11</td>\n",
       "      <td>噪音</td>\n",
       "      <td>55065</td>\n",
       "    </tr>\n",
       "    <tr>\n",
       "      <th>2</th>\n",
       "      <td>2018-11-10</td>\n",
       "      <td>噪音</td>\n",
       "      <td>74683</td>\n",
       "    </tr>\n",
       "    <tr>\n",
       "      <th>3</th>\n",
       "      <td>2018-11-09</td>\n",
       "      <td>噪音</td>\n",
       "      <td>113016</td>\n",
       "    </tr>\n",
       "    <tr>\n",
       "      <th>4</th>\n",
       "      <td>2018-11-08</td>\n",
       "      <td>噪音</td>\n",
       "      <td>110738</td>\n",
       "    </tr>\n",
       "  </tbody>\n",
       "</table>\n",
       "</div>"
      ],
      "text/plain": [
       "  publishtime classify   count\n",
       "0  2018-11-12       噪音   16370\n",
       "1  2018-11-11       噪音   55065\n",
       "2  2018-11-10       噪音   74683\n",
       "3  2018-11-09       噪音  113016\n",
       "4  2018-11-08       噪音  110738"
      ]
     },
     "execution_count": 15,
     "metadata": {},
     "output_type": "execute_result"
    }
   ],
   "source": [
    "# 不相关数据\n",
    "sql_circ_uncor = \"select date_format(t1.publishtime,'%%Y-%%m-%%d') as publishtime,t1.classify, count(t1.id) as count \\\n",
    "                            from wise_web_docinfo_uncorr t1 \\\n",
    "                                where (date_format(t1.publishtime, '%%Y-%%m-%%d') >= '{0}' and \\\n",
    "                                      date_format(t1.publishtime, '%%Y-%%m-%%d') <= '{1}') \\\n",
    "                                group by t1.classify, date_format(t1.publishtime,'%%Y-%%m-%%d') \\\n",
    "                                order by date_format(t1.publishtime,'%%Y-%%m-%%d') desc\".format(start_day, end_day) \n",
    "\n",
    "circ_uncor_count = pd.read_sql(sql_circ_uncor, engine)\n",
    "circ_uncor_count['classify'] = circ_uncor_count['classify'].apply(lambda x:class_name_dict[x])\n",
    "circ_uncor_count.head()"
   ]
  },
  {
   "cell_type": "markdown",
   "metadata": {},
   "source": [
    "### 补录数据"
   ]
  },
  {
   "cell_type": "code",
   "execution_count": 16,
   "metadata": {
    "ExecuteTime": {
     "end_time": "2018-11-12T01:32:01.640437Z",
     "start_time": "2018-11-12T01:32:01.032402Z"
    }
   },
   "outputs": [
    {
     "data": {
      "text/html": [
       "<div>\n",
       "<style scoped>\n",
       "    .dataframe tbody tr th:only-of-type {\n",
       "        vertical-align: middle;\n",
       "    }\n",
       "\n",
       "    .dataframe tbody tr th {\n",
       "        vertical-align: top;\n",
       "    }\n",
       "\n",
       "    .dataframe thead th {\n",
       "        text-align: right;\n",
       "    }\n",
       "</style>\n",
       "<table border=\"1\" class=\"dataframe\">\n",
       "  <thead>\n",
       "    <tr style=\"text-align: right;\">\n",
       "      <th></th>\n",
       "      <th>publishtime</th>\n",
       "      <th>补录</th>\n",
       "    </tr>\n",
       "  </thead>\n",
       "  <tbody>\n",
       "    <tr>\n",
       "      <th>0</th>\n",
       "      <td>2018-11-12</td>\n",
       "      <td>1</td>\n",
       "    </tr>\n",
       "    <tr>\n",
       "      <th>8</th>\n",
       "      <td>2018-11-11</td>\n",
       "      <td>2</td>\n",
       "    </tr>\n",
       "    <tr>\n",
       "      <th>23</th>\n",
       "      <td>2018-11-09</td>\n",
       "      <td>10</td>\n",
       "    </tr>\n",
       "    <tr>\n",
       "      <th>31</th>\n",
       "      <td>2018-11-08</td>\n",
       "      <td>3</td>\n",
       "    </tr>\n",
       "    <tr>\n",
       "      <th>39</th>\n",
       "      <td>2018-11-07</td>\n",
       "      <td>6</td>\n",
       "    </tr>\n",
       "  </tbody>\n",
       "</table>\n",
       "</div>"
      ],
      "text/plain": [
       "   publishtime  补录\n",
       "0   2018-11-12   1\n",
       "8   2018-11-11   2\n",
       "23  2018-11-09  10\n",
       "31  2018-11-08   3\n",
       "39  2018-11-07   6"
      ]
     },
     "execution_count": 16,
     "metadata": {},
     "output_type": "execute_result"
    },
    {
     "data": {
      "image/png": "[encoded data removed]",
      "text/plain": [
       "<matplotlib.figure.Figure at 0xc2e7dd8>"
      ]
     },
     "metadata": {},
     "output_type": "display_data"
    }
   ],
   "source": [
    "# 补录\n",
    "apend = circ_cor_count[circ_cor_count['classify'] == '补录'][['publishtime', 'count']]\n",
    "apend.columns = ['publishtime', '补录']\n",
    "apend = apend.sort_values(by = 'publishtime', ascending = True)\n",
    "apend.plot(kind = 'bar', x = 'publishtime', y = '补录', figsize=(15,6), \n",
    "           title = '补录数据-每天', grid = True)\n",
    "apend.sort_values(by = 'publishtime', ascending = False).head()"
   ]
  },
  {
   "cell_type": "markdown",
   "metadata": {},
   "source": [
    "### class"
   ]
  },
  {
   "cell_type": "code",
   "execution_count": 17,
   "metadata": {
    "ExecuteTime": {
     "end_time": "2018-11-12T01:32:02.012458Z",
     "start_time": "2018-11-12T01:32:01.643437Z"
    }
   },
   "outputs": [
    {
     "data": {
      "text/html": [
       "<div>\n",
       "<style scoped>\n",
       "    .dataframe tbody tr th:only-of-type {\n",
       "        vertical-align: middle;\n",
       "    }\n",
       "\n",
       "    .dataframe tbody tr th {\n",
       "        vertical-align: top;\n",
       "    }\n",
       "\n",
       "    .dataframe thead tr th {\n",
       "        text-align: left;\n",
       "    }\n",
       "\n",
       "    .dataframe thead tr:last-of-type th {\n",
       "        text-align: right;\n",
       "    }\n",
       "</style>\n",
       "<table border=\"1\" class=\"dataframe\">\n",
       "  <thead>\n",
       "    <tr>\n",
       "      <th></th>\n",
       "      <th colspan=\"9\" halign=\"left\">count</th>\n",
       "      <th>总量</th>\n",
       "      <th>非噪音</th>\n",
       "      <th>非噪音-比例</th>\n",
       "      <th>噪音-比例</th>\n",
       "    </tr>\n",
       "    <tr>\n",
       "      <th>classify</th>\n",
       "      <th>产品销售</th>\n",
       "      <th>公司内部管理</th>\n",
       "      <th>其他相关报道</th>\n",
       "      <th>噪音</th>\n",
       "      <th>消费服务</th>\n",
       "      <th>监管</th>\n",
       "      <th>行业</th>\n",
       "      <th>补录</th>\n",
       "      <th>资本市场</th>\n",
       "      <th></th>\n",
       "      <th></th>\n",
       "      <th></th>\n",
       "      <th></th>\n",
       "    </tr>\n",
       "    <tr>\n",
       "      <th>publishtime</th>\n",
       "      <th></th>\n",
       "      <th></th>\n",
       "      <th></th>\n",
       "      <th></th>\n",
       "      <th></th>\n",
       "      <th></th>\n",
       "      <th></th>\n",
       "      <th></th>\n",
       "      <th></th>\n",
       "      <th></th>\n",
       "      <th></th>\n",
       "      <th></th>\n",
       "      <th></th>\n",
       "    </tr>\n",
       "  </thead>\n",
       "  <tbody>\n",
       "    <tr>\n",
       "      <th>2018-11-12</th>\n",
       "      <td>261.000</td>\n",
       "      <td>328.000</td>\n",
       "      <td>260.000</td>\n",
       "      <td>16370.000</td>\n",
       "      <td>256.000</td>\n",
       "      <td>777.000</td>\n",
       "      <td>356.000</td>\n",
       "      <td>1.000</td>\n",
       "      <td>1542.000</td>\n",
       "      <td>20151.000</td>\n",
       "      <td>3781.000</td>\n",
       "      <td>0.188</td>\n",
       "      <td>0.812</td>\n",
       "    </tr>\n",
       "    <tr>\n",
       "      <th>2018-11-11</th>\n",
       "      <td>906.000</td>\n",
       "      <td>1012.000</td>\n",
       "      <td>396.000</td>\n",
       "      <td>55065.000</td>\n",
       "      <td>686.000</td>\n",
       "      <td>1444.000</td>\n",
       "      <td>1326.000</td>\n",
       "      <td>2.000</td>\n",
       "      <td>2417.000</td>\n",
       "      <td>63254.000</td>\n",
       "      <td>8189.000</td>\n",
       "      <td>0.129</td>\n",
       "      <td>0.871</td>\n",
       "    </tr>\n",
       "    <tr>\n",
       "      <th>2018-11-10</th>\n",
       "      <td>1391.000</td>\n",
       "      <td>1008.000</td>\n",
       "      <td>1136.000</td>\n",
       "      <td>74683.000</td>\n",
       "      <td>1537.000</td>\n",
       "      <td>2453.000</td>\n",
       "      <td>1342.000</td>\n",
       "      <td>nan</td>\n",
       "      <td>2979.000</td>\n",
       "      <td>86529.000</td>\n",
       "      <td>11846.000</td>\n",
       "      <td>0.137</td>\n",
       "      <td>0.863</td>\n",
       "    </tr>\n",
       "    <tr>\n",
       "      <th>2018-11-09</th>\n",
       "      <td>1678.000</td>\n",
       "      <td>2341.000</td>\n",
       "      <td>1778.000</td>\n",
       "      <td>113016.000</td>\n",
       "      <td>2198.000</td>\n",
       "      <td>9410.000</td>\n",
       "      <td>2250.000</td>\n",
       "      <td>10.000</td>\n",
       "      <td>7655.000</td>\n",
       "      <td>140336.000</td>\n",
       "      <td>27320.000</td>\n",
       "      <td>0.195</td>\n",
       "      <td>0.805</td>\n",
       "    </tr>\n",
       "    <tr>\n",
       "      <th>2018-11-08</th>\n",
       "      <td>2131.000</td>\n",
       "      <td>2138.000</td>\n",
       "      <td>1750.000</td>\n",
       "      <td>110738.000</td>\n",
       "      <td>2122.000</td>\n",
       "      <td>5236.000</td>\n",
       "      <td>3558.000</td>\n",
       "      <td>3.000</td>\n",
       "      <td>7682.000</td>\n",
       "      <td>135358.000</td>\n",
       "      <td>24620.000</td>\n",
       "      <td>0.182</td>\n",
       "      <td>0.818</td>\n",
       "    </tr>\n",
       "  </tbody>\n",
       "</table>\n",
       "</div>"
      ],
      "text/plain": [
       "               count                                                          \\\n",
       "classify        产品销售   公司内部管理   其他相关报道         噪音     消费服务       监管       行业   \n",
       "publishtime                                                                    \n",
       "2018-11-12   261.000  328.000  260.000  16370.000  256.000  777.000  356.000   \n",
       "2018-11-11   906.000 1012.000  396.000  55065.000  686.000 1444.000 1326.000   \n",
       "2018-11-10  1391.000 1008.000 1136.000  74683.000 1537.000 2453.000 1342.000   \n",
       "2018-11-09  1678.000 2341.000 1778.000 113016.000 2198.000 9410.000 2250.000   \n",
       "2018-11-08  2131.000 2138.000 1750.000 110738.000 2122.000 5236.000 3558.000   \n",
       "\n",
       "                                    总量       非噪音 非噪音-比例 噪音-比例  \n",
       "classify        补录     资本市场                                    \n",
       "publishtime                                                    \n",
       "2018-11-12   1.000 1542.000  20151.000  3781.000  0.188 0.812  \n",
       "2018-11-11   2.000 2417.000  63254.000  8189.000  0.129 0.871  \n",
       "2018-11-10     nan 2979.000  86529.000 11846.000  0.137 0.863  \n",
       "2018-11-09  10.000 7655.000 140336.000 27320.000  0.195 0.805  \n",
       "2018-11-08   3.000 7682.000 135358.000 24620.000  0.182 0.818  "
      ]
     },
     "execution_count": 17,
     "metadata": {},
     "output_type": "execute_result"
    }
   ],
   "source": [
    "class_count = pd.concat([circ_cor_count, circ_uncor_count])\n",
    "cor_class_1, cor_class, count_data_7, count_data_4 = get_class_data(class_count)\n",
    "cor_class_1.sort_index(ascending = False).head()"
   ]
  },
  {
   "cell_type": "code",
   "execution_count": 18,
   "metadata": {
    "ExecuteTime": {
     "end_time": "2018-11-12T01:32:02.371479Z",
     "start_time": "2018-11-12T01:32:02.015458Z"
    }
   },
   "outputs": [
    {
     "data": {
      "text/html": [
       "<div>\n",
       "<style scoped>\n",
       "    .dataframe tbody tr th:only-of-type {\n",
       "        vertical-align: middle;\n",
       "    }\n",
       "\n",
       "    .dataframe tbody tr th {\n",
       "        vertical-align: top;\n",
       "    }\n",
       "\n",
       "    .dataframe thead tr th {\n",
       "        text-align: left;\n",
       "    }\n",
       "\n",
       "    .dataframe thead tr:last-of-type th {\n",
       "        text-align: right;\n",
       "    }\n",
       "</style>\n",
       "<table border=\"1\" class=\"dataframe\">\n",
       "  <thead>\n",
       "    <tr>\n",
       "      <th></th>\n",
       "      <th colspan=\"9\" halign=\"left\">count</th>\n",
       "      <th>总量</th>\n",
       "      <th colspan=\"9\" halign=\"left\">rate</th>\n",
       "    </tr>\n",
       "    <tr>\n",
       "      <th>classify</th>\n",
       "      <th>产品销售</th>\n",
       "      <th>公司内部管理</th>\n",
       "      <th>其他相关报道</th>\n",
       "      <th>噪音</th>\n",
       "      <th>消费服务</th>\n",
       "      <th>监管</th>\n",
       "      <th>行业</th>\n",
       "      <th>补录</th>\n",
       "      <th>资本市场</th>\n",
       "      <th></th>\n",
       "      <th>产品销售</th>\n",
       "      <th>公司内部管理</th>\n",
       "      <th>其他相关报道</th>\n",
       "      <th>噪音</th>\n",
       "      <th>消费服务</th>\n",
       "      <th>监管</th>\n",
       "      <th>行业</th>\n",
       "      <th>补录</th>\n",
       "      <th>资本市场</th>\n",
       "    </tr>\n",
       "    <tr>\n",
       "      <th>publishtime</th>\n",
       "      <th></th>\n",
       "      <th></th>\n",
       "      <th></th>\n",
       "      <th></th>\n",
       "      <th></th>\n",
       "      <th></th>\n",
       "      <th></th>\n",
       "      <th></th>\n",
       "      <th></th>\n",
       "      <th></th>\n",
       "      <th></th>\n",
       "      <th></th>\n",
       "      <th></th>\n",
       "      <th></th>\n",
       "      <th></th>\n",
       "      <th></th>\n",
       "      <th></th>\n",
       "      <th></th>\n",
       "      <th></th>\n",
       "    </tr>\n",
       "  </thead>\n",
       "  <tbody>\n",
       "    <tr>\n",
       "      <th>2018-11-12</th>\n",
       "      <td>261.000</td>\n",
       "      <td>328.000</td>\n",
       "      <td>260.000</td>\n",
       "      <td>16370.000</td>\n",
       "      <td>256.000</td>\n",
       "      <td>777.000</td>\n",
       "      <td>356.000</td>\n",
       "      <td>1.000</td>\n",
       "      <td>1542.000</td>\n",
       "      <td>20151.000</td>\n",
       "      <td>0.013</td>\n",
       "      <td>0.016</td>\n",
       "      <td>0.013</td>\n",
       "      <td>0.812</td>\n",
       "      <td>0.013</td>\n",
       "      <td>0.039</td>\n",
       "      <td>0.018</td>\n",
       "      <td>0.000</td>\n",
       "      <td>0.077</td>\n",
       "    </tr>\n",
       "    <tr>\n",
       "      <th>2018-11-11</th>\n",
       "      <td>906.000</td>\n",
       "      <td>1012.000</td>\n",
       "      <td>396.000</td>\n",
       "      <td>55065.000</td>\n",
       "      <td>686.000</td>\n",
       "      <td>1444.000</td>\n",
       "      <td>1326.000</td>\n",
       "      <td>2.000</td>\n",
       "      <td>2417.000</td>\n",
       "      <td>63254.000</td>\n",
       "      <td>0.014</td>\n",
       "      <td>0.016</td>\n",
       "      <td>0.006</td>\n",
       "      <td>0.871</td>\n",
       "      <td>0.011</td>\n",
       "      <td>0.023</td>\n",
       "      <td>0.021</td>\n",
       "      <td>0.000</td>\n",
       "      <td>0.038</td>\n",
       "    </tr>\n",
       "    <tr>\n",
       "      <th>2018-11-10</th>\n",
       "      <td>1391.000</td>\n",
       "      <td>1008.000</td>\n",
       "      <td>1136.000</td>\n",
       "      <td>74683.000</td>\n",
       "      <td>1537.000</td>\n",
       "      <td>2453.000</td>\n",
       "      <td>1342.000</td>\n",
       "      <td>nan</td>\n",
       "      <td>2979.000</td>\n",
       "      <td>86529.000</td>\n",
       "      <td>0.016</td>\n",
       "      <td>0.012</td>\n",
       "      <td>0.013</td>\n",
       "      <td>0.863</td>\n",
       "      <td>0.018</td>\n",
       "      <td>0.028</td>\n",
       "      <td>0.016</td>\n",
       "      <td>nan</td>\n",
       "      <td>0.034</td>\n",
       "    </tr>\n",
       "    <tr>\n",
       "      <th>2018-11-09</th>\n",
       "      <td>1678.000</td>\n",
       "      <td>2341.000</td>\n",
       "      <td>1778.000</td>\n",
       "      <td>113016.000</td>\n",
       "      <td>2198.000</td>\n",
       "      <td>9410.000</td>\n",
       "      <td>2250.000</td>\n",
       "      <td>10.000</td>\n",
       "      <td>7655.000</td>\n",
       "      <td>140336.000</td>\n",
       "      <td>0.012</td>\n",
       "      <td>0.017</td>\n",
       "      <td>0.013</td>\n",
       "      <td>0.805</td>\n",
       "      <td>0.016</td>\n",
       "      <td>0.067</td>\n",
       "      <td>0.016</td>\n",
       "      <td>0.000</td>\n",
       "      <td>0.055</td>\n",
       "    </tr>\n",
       "    <tr>\n",
       "      <th>2018-11-08</th>\n",
       "      <td>2131.000</td>\n",
       "      <td>2138.000</td>\n",
       "      <td>1750.000</td>\n",
       "      <td>110738.000</td>\n",
       "      <td>2122.000</td>\n",
       "      <td>5236.000</td>\n",
       "      <td>3558.000</td>\n",
       "      <td>3.000</td>\n",
       "      <td>7682.000</td>\n",
       "      <td>135358.000</td>\n",
       "      <td>0.016</td>\n",
       "      <td>0.016</td>\n",
       "      <td>0.013</td>\n",
       "      <td>0.818</td>\n",
       "      <td>0.016</td>\n",
       "      <td>0.039</td>\n",
       "      <td>0.026</td>\n",
       "      <td>0.000</td>\n",
       "      <td>0.057</td>\n",
       "    </tr>\n",
       "  </tbody>\n",
       "</table>\n",
       "</div>"
      ],
      "text/plain": [
       "               count                                                          \\\n",
       "classify        产品销售   公司内部管理   其他相关报道         噪音     消费服务       监管       行业   \n",
       "publishtime                                                                    \n",
       "2018-11-12   261.000  328.000  260.000  16370.000  256.000  777.000  356.000   \n",
       "2018-11-11   906.000 1012.000  396.000  55065.000  686.000 1444.000 1326.000   \n",
       "2018-11-10  1391.000 1008.000 1136.000  74683.000 1537.000 2453.000 1342.000   \n",
       "2018-11-09  1678.000 2341.000 1778.000 113016.000 2198.000 9410.000 2250.000   \n",
       "2018-11-08  2131.000 2138.000 1750.000 110738.000 2122.000 5236.000 3558.000   \n",
       "\n",
       "                                    总量  rate                                  \\\n",
       "classify        补录     资本市场             产品销售 公司内部管理 其他相关报道    噪音  消费服务    监管   \n",
       "publishtime                                                                    \n",
       "2018-11-12   1.000 1542.000  20151.000 0.013  0.016  0.013 0.812 0.013 0.039   \n",
       "2018-11-11   2.000 2417.000  63254.000 0.014  0.016  0.006 0.871 0.011 0.023   \n",
       "2018-11-10     nan 2979.000  86529.000 0.016  0.012  0.013 0.863 0.018 0.028   \n",
       "2018-11-09  10.000 7655.000 140336.000 0.012  0.017  0.013 0.805 0.016 0.067   \n",
       "2018-11-08   3.000 7682.000 135358.000 0.016  0.016  0.013 0.818 0.016 0.039   \n",
       "\n",
       "                               \n",
       "classify       行业    补录  资本市场  \n",
       "publishtime                    \n",
       "2018-11-12  0.018 0.000 0.077  \n",
       "2018-11-11  0.021 0.000 0.038  \n",
       "2018-11-10  0.016   nan 0.034  \n",
       "2018-11-09  0.016 0.000 0.055  \n",
       "2018-11-08  0.026 0.000 0.057  "
      ]
     },
     "execution_count": 18,
     "metadata": {},
     "output_type": "execute_result"
    },
    {
     "data": {
      "image/png": "[encoded data removed]",
      "text/plain": [
       "<matplotlib.figure.Figure at 0xc676fd0>"
      ]
     },
     "metadata": {},
     "output_type": "display_data"
    }
   ],
   "source": [
    "cor_class['rate'].reset_index().fillna(0).plot(x = 'publishtime', figsize = (15,6))\n",
    "cor_class.sort_index(ascending = False).head()"
   ]
  },
  {
   "cell_type": "markdown",
   "metadata": {},
   "source": [
    "### 总体"
   ]
  },
  {
   "cell_type": "code",
   "execution_count": 19,
   "metadata": {
    "ExecuteTime": {
     "end_time": "2018-11-12T01:32:02.974513Z",
     "start_time": "2018-11-12T01:32:02.376479Z"
    }
   },
   "outputs": [
    {
     "data": {
      "image/png": "[encoded data removed]",
      "text/plain": [
       "<matplotlib.figure.Figure at 0xc6ef0f0>"
      ]
     },
     "metadata": {},
     "output_type": "display_data"
    },
    {
     "name": "stdout",
     "output_type": "stream",
     "text": [
      "   publishtime        sum    al_cor   al_uncor  al_cor_rate  al_uncor_rate\n",
      "31  2018-11-12  20151.000  3781.000  16370.000        0.188          0.812\n",
      "30  2018-11-11  63254.000  8189.000  55065.000        0.129          0.871\n",
      "29  2018-11-10  86529.000 11846.000  74683.000        0.137          0.863\n",
      "28  2018-11-09 140336.000 27320.000 113016.000        0.195          0.805\n",
      "27  2018-11-08 135358.000 24620.000 110738.000        0.182          0.818\n"
     ]
    }
   ],
   "source": [
    "plot_cor(count_data_7, circ_day_thing, \"CIRC 8-class cor&uncor:7-1\")"
   ]
  },
  {
   "cell_type": "code",
   "execution_count": 20,
   "metadata": {
    "ExecuteTime": {
     "end_time": "2018-11-12T01:32:03.474542Z",
     "start_time": "2018-11-12T01:32:02.977513Z"
    }
   },
   "outputs": [
    {
     "data": {
      "image/png": "[encoded data removed]",
      "text/plain": [
       "<matplotlib.figure.Figure at 0xc62ddd8>"
      ]
     },
     "metadata": {},
     "output_type": "display_data"
    },
    {
     "name": "stdout",
     "output_type": "stream",
     "text": [
      "   publishtime    al_cor        sum   al_uncor  al_cor_rate  al_uncor_rate\n",
      "31  2018-11-12  1717.000  20151.000  18434.000        0.085          0.915\n",
      "30  2018-11-11  4468.000  63254.000  58786.000        0.071          0.929\n",
      "29  2018-11-10  6340.000  86529.000  80189.000        0.073          0.927\n",
      "28  2018-11-09 16199.000 140336.000 124137.000        0.115          0.885\n",
      "27  2018-11-08 13054.000 135358.000 122304.000        0.096          0.904\n"
     ]
    }
   ],
   "source": [
    "plot_cor(count_data_4, circ_day_thing, \"CIRC 8-class cor&uncor:4-4\")"
   ]
  },
  {
   "cell_type": "markdown",
   "metadata": {},
   "source": [
    "## 倾向性"
   ]
  },
  {
   "cell_type": "code",
   "execution_count": 21,
   "metadata": {
    "ExecuteTime": {
     "end_time": "2018-11-12T01:32:30.612094Z",
     "start_time": "2018-11-12T01:32:03.479542Z"
    }
   },
   "outputs": [
    {
     "data": {
      "text/html": [
       "<div>\n",
       "<style scoped>\n",
       "    .dataframe tbody tr th:only-of-type {\n",
       "        vertical-align: middle;\n",
       "    }\n",
       "\n",
       "    .dataframe tbody tr th {\n",
       "        vertical-align: top;\n",
       "    }\n",
       "\n",
       "    .dataframe thead th {\n",
       "        text-align: right;\n",
       "    }\n",
       "</style>\n",
       "<table border=\"1\" class=\"dataframe\">\n",
       "  <thead>\n",
       "    <tr style=\"text-align: right;\">\n",
       "      <th></th>\n",
       "      <th>publishtime</th>\n",
       "      <th>tendency</th>\n",
       "      <th>count</th>\n",
       "    </tr>\n",
       "  </thead>\n",
       "  <tbody>\n",
       "    <tr>\n",
       "      <th>0</th>\n",
       "      <td>2018-11-12</td>\n",
       "      <td>-1</td>\n",
       "      <td>459</td>\n",
       "    </tr>\n",
       "    <tr>\n",
       "      <th>1</th>\n",
       "      <td>2018-11-12</td>\n",
       "      <td>0</td>\n",
       "      <td>3659</td>\n",
       "    </tr>\n",
       "    <tr>\n",
       "      <th>2</th>\n",
       "      <td>2018-11-11</td>\n",
       "      <td>-1</td>\n",
       "      <td>864</td>\n",
       "    </tr>\n",
       "    <tr>\n",
       "      <th>3</th>\n",
       "      <td>2018-11-11</td>\n",
       "      <td>0</td>\n",
       "      <td>7333</td>\n",
       "    </tr>\n",
       "    <tr>\n",
       "      <th>4</th>\n",
       "      <td>2018-11-10</td>\n",
       "      <td>-1</td>\n",
       "      <td>1368</td>\n",
       "    </tr>\n",
       "  </tbody>\n",
       "</table>\n",
       "</div>"
      ],
      "text/plain": [
       "  publishtime  tendency  count\n",
       "0  2018-11-12        -1    459\n",
       "1  2018-11-12         0   3659\n",
       "2  2018-11-11        -1    864\n",
       "3  2018-11-11         0   7333\n",
       "4  2018-11-10        -1   1368"
      ]
     },
     "execution_count": 21,
     "metadata": {},
     "output_type": "execute_result"
    }
   ],
   "source": [
    "sql_tend = \"select date_format(t1.publishtime,'%%Y-%%m-%%d') as publishtime, t1.tendency, \\\n",
    "                            count(t1.id) as count \\\n",
    "                            from wise_web_docinfo t1 \\\n",
    "                                where (date_format(publishtime, '%%Y-%%m-%%d') >= '{0}' and \\\n",
    "                                      date_format(publishtime, '%%Y-%%m-%%d') <= '{1}') \\\n",
    "                                group by date_format(t1.publishtime,'%%Y-%%m-%%d'), t1.tendency \\\n",
    "                                order by date_format(t1.publishtime,'%%Y-%%m-%%d') desc\".format(start_day, end_day) \n",
    "\n",
    "tend_count = pd.read_sql(sql_tend, engine)\n",
    "tend_count.head()"
   ]
  },
  {
   "cell_type": "code",
   "execution_count": 22,
   "metadata": {
    "ExecuteTime": {
     "end_time": "2018-11-12T01:32:31.164125Z",
     "start_time": "2018-11-12T01:32:30.617094Z"
    }
   },
   "outputs": [
    {
     "data": {
      "image/png": "[encoded data removed]",
      "text/plain": [
       "<matplotlib.figure.Figure at 0xc774400>"
      ]
     },
     "metadata": {},
     "output_type": "display_data"
    },
    {
     "name": "stdout",
     "output_type": "stream",
     "text": [
      "   publishtime   neg    pos    sum  neg_rate  pos_rate\n",
      "31  2018-11-12   459   3659   4118     0.111     0.889\n",
      "30  2018-11-11   864   7333   8197     0.105     0.895\n",
      "29  2018-11-10  1368  10483  11851     0.115     0.885\n",
      "28  2018-11-09  2208  25133  27341     0.081     0.919\n",
      "27  2018-11-08  2116  22509  24625     0.086     0.914\n"
     ]
    }
   ],
   "source": [
    "plot_tend(tend_count, circ_day_thing, \"CIRC - tendency \")"
   ]
  },
  {
   "cell_type": "markdown",
   "metadata": {},
   "source": [
    "### group_id"
   ]
  },
  {
   "cell_type": "code",
   "execution_count": 23,
   "metadata": {
    "ExecuteTime": {
     "end_time": "2018-11-12T01:32:31.178126Z",
     "start_time": "2018-11-12T01:32:31.166126Z"
    },
    "collapsed": true
   },
   "outputs": [],
   "source": [
    "# sql_tend_group = \"select date_format(t1.publishtime,'%%Y-%%m-%%d') as publishtime, \\\n",
    "#                             t1.tendency, t1.group_id, count(t1.id) as cor_count \\\n",
    "#                             from wise_web_docinfo t1 \\\n",
    "#                                 where (date_format(t1.publishtime, '%%Y-%%m-%%d') >= '{0}' and \\\n",
    "#                                       date_format(t1.publishtime, '%%Y-%%m-%%d') <= '{1}') \\\n",
    "#                                 group by date_format(t1.publishtime,'%%Y-%%m-%%d'), t1.tendency, t1.group_id \\\n",
    "#                                 order by date_format(t1.publishtime,'%%Y-%%m-%%d') desc\".format(start_day, end_day) \n",
    "\n",
    "# tend_group_count = pd.read_sql(sql_tend_group, engine)\n",
    "# tend_group_count['group_id'] = tend_group_count['group_id'].apply(lambda x: group_dict[str(x)])\n",
    "# tend_group_count.head()"
   ]
  },
  {
   "cell_type": "markdown",
   "metadata": {},
   "source": [
    "## 补录和预警"
   ]
  },
  {
   "cell_type": "markdown",
   "metadata": {},
   "source": [
    "### 一周数据"
   ]
  },
  {
   "cell_type": "code",
   "execution_count": 24,
   "metadata": {
    "ExecuteTime": {
     "end_time": "2018-11-12T01:32:31.375138Z",
     "start_time": "2018-11-12T01:32:31.188127Z"
    },
    "collapsed": true
   },
   "outputs": [],
   "source": [
    "add_start_day = '2018-10-27'\n",
    "add_end_day = '2018-11-02'"
   ]
  },
  {
   "cell_type": "code",
   "execution_count": 25,
   "metadata": {
    "ExecuteTime": {
     "end_time": "2018-11-12T01:32:47.063035Z",
     "start_time": "2018-11-12T01:32:31.385138Z"
    }
   },
   "outputs": [
    {
     "name": "stdout",
     "output_type": "stream",
     "text": [
      "(68, 7)\n"
     ]
    }
   ],
   "source": [
    "# 人工补录\n",
    "sql_human_additional = \"select t1.id, t1.group_id, date_format(t1.publishtime,'%%Y-%%m-%%d') as publishtime,  \\\n",
    "                            t1.gather_type, t1.submited, t1.title, t2.center as content\\\n",
    "                            from wise_web_docinfo t1, wise_web_docinfo_center t2 \\\n",
    "                                where (date_format(publishtime, '%%Y-%%m-%%d') >= '{0}' and \\\n",
    "                                      date_format(publishtime, '%%Y-%%m-%%d') <= '{1}') and \\\n",
    "                                      t1.id = t2.doc_id and \\\n",
    "                                      t1.gather_type = 1 \".format(add_start_day, add_end_day) \n",
    "\n",
    "human_additional = pd.read_sql(sql_human_additional, engine)\n",
    "print(human_additional.shape)\n",
    "# human_additional.head()"
   ]
  },
  {
   "cell_type": "code",
   "execution_count": 26,
   "metadata": {
    "ExecuteTime": {
     "end_time": "2018-11-12T01:32:58.772705Z",
     "start_time": "2018-11-12T01:32:47.067035Z"
    }
   },
   "outputs": [
    {
     "name": "stdout",
     "output_type": "stream",
     "text": [
      "(124, 7)\n"
     ]
    }
   ],
   "source": [
    "# 预警数据\n",
    "sql_warning =  \"select t1.id, t1.group_id, date_format(t1.publishtime,'%%Y-%%m-%%d') as publishtime,  \\\n",
    "                            t1.gather_type, t1.submited, t1.title, t2.center as content\\\n",
    "                            from wise_web_docinfo t1, wise_web_docinfo_center t2 \\\n",
    "                                where (date_format(publishtime, '%%Y-%%m-%%d') >= '{0}' and \\\n",
    "                                      date_format(publishtime, '%%Y-%%m-%%d') <= '{1}') and \\\n",
    "                                      t1.id = t2.doc_id and \\\n",
    "                                      t1.submited = 1 \".format(add_start_day, add_end_day) \n",
    "\n",
    "warning = pd.read_sql(sql_warning, engine)\n",
    "print(warning.shape)\n",
    "# warning.head()"
   ]
  },
  {
   "cell_type": "code",
   "execution_count": 27,
   "metadata": {
    "ExecuteTime": {
     "end_time": "2018-11-12T01:32:58.895712Z",
     "start_time": "2018-11-12T01:32:58.782705Z"
    }
   },
   "outputs": [
    {
     "name": "stdout",
     "output_type": "stream",
     "text": [
      "去重前 (192, 7)\n",
      "去重后 (126, 7)\n"
     ]
    }
   ],
   "source": [
    "combined_data = pd.concat([human_additional, warning])\n",
    "print('去重前', combined_data.shape)\n",
    "combined_data = combined_data.drop_duplicates(subset = 'id')\n",
    "print('去重后', combined_data.shape)\n",
    "\n",
    "combined_data['group_id'] = combined_data['group_id'].apply(lambda x:group_dict[str(x)])\n",
    "combined_data['gather_type'] = combined_data['gather_type'].replace(1, '人工补录').replace(2, '人工修改')\n",
    "combined_data['submited'] = combined_data['submited'].replace(0, '不预警').replace(1, '预警')"
   ]
  },
  {
   "cell_type": "code",
   "execution_count": 28,
   "metadata": {
    "ExecuteTime": {
     "end_time": "2018-11-12T01:33:03.361967Z",
     "start_time": "2018-11-12T01:32:58.898712Z"
    }
   },
   "outputs": [
    {
     "data": {
      "text/html": [
       "<div>\n",
       "<style scoped>\n",
       "    .dataframe tbody tr th:only-of-type {\n",
       "        vertical-align: middle;\n",
       "    }\n",
       "\n",
       "    .dataframe tbody tr th {\n",
       "        vertical-align: top;\n",
       "    }\n",
       "\n",
       "    .dataframe thead th {\n",
       "        text-align: right;\n",
       "    }\n",
       "</style>\n",
       "<table border=\"1\" class=\"dataframe\">\n",
       "  <thead>\n",
       "    <tr style=\"text-align: right;\">\n",
       "      <th></th>\n",
       "      <th>id</th>\n",
       "      <th>predict_label</th>\n",
       "      <th>label</th>\n",
       "      <th>cor</th>\n",
       "      <th>all_cor</th>\n",
       "    </tr>\n",
       "  </thead>\n",
       "  <tbody>\n",
       "    <tr>\n",
       "      <th>0</th>\n",
       "      <td>11677278</td>\n",
       "      <td>噪音</td>\n",
       "      <td></td>\n",
       "      <td>0</td>\n",
       "      <td>0</td>\n",
       "    </tr>\n",
       "    <tr>\n",
       "      <th>1</th>\n",
       "      <td>11684462</td>\n",
       "      <td>噪音</td>\n",
       "      <td></td>\n",
       "      <td>0</td>\n",
       "      <td>0</td>\n",
       "    </tr>\n",
       "    <tr>\n",
       "      <th>2</th>\n",
       "      <td>11686197</td>\n",
       "      <td>产品销售</td>\n",
       "      <td></td>\n",
       "      <td>0</td>\n",
       "      <td>1</td>\n",
       "    </tr>\n",
       "    <tr>\n",
       "      <th>3</th>\n",
       "      <td>11686236</td>\n",
       "      <td>噪音</td>\n",
       "      <td></td>\n",
       "      <td>0</td>\n",
       "      <td>0</td>\n",
       "    </tr>\n",
       "    <tr>\n",
       "      <th>4</th>\n",
       "      <td>11686238</td>\n",
       "      <td>消费服务</td>\n",
       "      <td></td>\n",
       "      <td>1</td>\n",
       "      <td>1</td>\n",
       "    </tr>\n",
       "  </tbody>\n",
       "</table>\n",
       "</div>"
      ],
      "text/plain": [
       "         id predict_label label  cor  all_cor\n",
       "0  11677278            噪音          0        0\n",
       "1  11684462            噪音          0        0\n",
       "2  11686197          产品销售          0        1\n",
       "3  11686236            噪音          0        0\n",
       "4  11686238          消费服务          1        1"
      ]
     },
     "execution_count": 28,
     "metadata": {},
     "output_type": "execute_result"
    }
   ],
   "source": [
    "# predict\n",
    "data = {\"record\":combined_data.loc[:,['id', 'title' ,'content']].to_dict(orient = 'records')}\n",
    "# url = \"http://192.168.0.104:11000/judge_correlation_i\"\n",
    "url = \"http://47.93.77.19:10000/judge_correlation_i\"\n",
    "parse_data, elapsed_time = get_server_res(data, url)\n",
    "# parse_data.head()  \n",
    "\n",
    "parse_data.columns = ['id', 'predict_label']\n",
    "parse_data['predict_label'] = parse_data['predict_label'].apply(lambda x:class_name_dict[x])\n",
    "parse_data['label'] = ''\n",
    "parse_data['cor'] = parse_data['predict_label'].apply(lambda x:1 if x in ['监管', '行业', '经营管理', '消费服务'] else 0)\n",
    "parse_data['all_cor'] = parse_data['predict_label'].apply(lambda x:1 if x != '噪音' else 0)\n",
    "parse_data.head()"
   ]
  },
  {
   "cell_type": "code",
   "execution_count": 29,
   "metadata": {
    "ExecuteTime": {
     "end_time": "2018-11-12T01:33:03.447972Z",
     "start_time": "2018-11-12T01:33:03.363967Z"
    },
    "collapsed": true
   },
   "outputs": [],
   "source": [
    "combined_data = pd.merge(combined_data, parse_data, on  = 'id')\n",
    "stat = combined_data.groupby(['group_id', 'gather_type', 'submited'])['id'].count().reset_index()\n",
    "\n",
    "# 补录\n",
    "stat_a = combined_data.groupby(['group_id', 'gather_type'])['id'].count().reset_index()\n",
    "stat_a = stat_a[stat_a['gather_type'] == '人工补录']\n",
    "\n",
    "# 补录且预警\n",
    "stat_a_w = combined_data[combined_data['submited'] == '预警'].groupby(['group_id', 'gather_type'])['id'].count().reset_index()\n",
    "stat_a_w = stat_a_w[stat_a_w['gather_type'] == '人工补录']\n",
    "\n",
    "# 预警\n",
    "stat_w = combined_data.groupby(['group_id', 'submited'])['id'].count().reset_index()\n",
    "stat_w = stat_w[stat_w['submited'] == '预警']\n",
    "\n",
    "# 补录-过算法\n",
    "stat_a_cor = combined_data[combined_data['gather_type'] == '人工补录'].groupby(['group_id', 'cor'])['id'].count().reset_index()\n",
    "stat_a_cor = stat_a_cor[stat_a_cor['cor'] == 1]\n",
    "\n",
    "# 补录且预警-过算法\n",
    "stat_a_w_cor = combined_data[(combined_data['submited'] == '预警') & \\\n",
    "                             (combined_data['gather_type'] == '人工补录')\\\n",
    "                            ].groupby(['group_id', 'cor'])['id'].count().reset_index()\n",
    "stat_a_w_cor = stat_a_w_cor[stat_a_w_cor['cor'] == 1]\n",
    "\n",
    "# 补录-过算法\n",
    "stat_a_cor_7 = combined_data[combined_data['gather_type'] == '人工补录'].groupby(['group_id', 'all_cor'])['id'].count().reset_index()\n",
    "stat_a_cor_7 = stat_a_cor_7[stat_a_cor_7['all_cor'] == 1]\n",
    "\n",
    "# 补录且预警-过算法\n",
    "stat_a_w_cor_7 = combined_data[(combined_data['submited'] == '预警') & \\\n",
    "                             (combined_data['gather_type'] == '人工补录')\\\n",
    "                            ].groupby(['group_id', 'all_cor'])['id'].count().reset_index()\n",
    "stat_a_w_cor_7 = stat_a_w_cor_7[stat_a_w_cor_7['all_cor'] == 1]"
   ]
  },
  {
   "cell_type": "code",
   "execution_count": 30,
   "metadata": {
    "ExecuteTime": {
     "end_time": "2018-11-12T01:33:03.482974Z",
     "start_time": "2018-11-12T01:33:03.449972Z"
    },
    "collapsed": true
   },
   "outputs": [],
   "source": [
    "stat_a = stat_a[['group_id', 'id']]\n",
    "stat_a.columns = ['来源', '补录']\n",
    "stat_a_w = stat_a_w[['group_id', 'id']]\n",
    "stat_a_w.columns = ['来源', '补录且预警']\n",
    "stat_w = stat_w[['group_id', 'id']]\n",
    "stat_w.columns = ['来源', '预警数量']\n",
    "stat_a_cor = stat_a_cor[['group_id', 'id']]\n",
    "stat_a_cor.columns = ['来源', '补录&过算法(4类)']\n",
    "stat_a_w_cor = stat_a_w_cor[['group_id', 'id']]\n",
    "stat_a_w_cor.columns = ['来源', '补录且预警&过算法(4类)']\n",
    "stat_a_cor_7 = stat_a_cor_7[['group_id', 'id']]\n",
    "stat_a_cor_7.columns = ['来源', '补录&过算法(7类)']\n",
    "stat_a_w_cor_7 = stat_a_w_cor_7[['group_id', 'id']]\n",
    "stat_a_w_cor_7.columns = ['来源', '补录且预警&过算法(7类)']"
   ]
  },
  {
   "cell_type": "code",
   "execution_count": 31,
   "metadata": {
    "ExecuteTime": {
     "end_time": "2018-11-12T01:33:03.662984Z",
     "start_time": "2018-11-12T01:33:03.484974Z"
    }
   },
   "outputs": [
    {
     "data": {
      "text/html": [
       "<div>\n",
       "<style scoped>\n",
       "    .dataframe tbody tr th:only-of-type {\n",
       "        vertical-align: middle;\n",
       "    }\n",
       "\n",
       "    .dataframe tbody tr th {\n",
       "        vertical-align: top;\n",
       "    }\n",
       "\n",
       "    .dataframe thead th {\n",
       "        text-align: right;\n",
       "    }\n",
       "</style>\n",
       "<table border=\"1\" class=\"dataframe\">\n",
       "  <thead>\n",
       "    <tr style=\"text-align: right;\">\n",
       "      <th>来源</th>\n",
       "      <th>微信</th>\n",
       "      <th>新闻</th>\n",
       "      <th>新闻客户端</th>\n",
       "      <th>纸媒</th>\n",
       "      <th>视频</th>\n",
       "      <th>总量</th>\n",
       "    </tr>\n",
       "    <tr>\n",
       "      <th>保监会：2018-10-27 到 2018-11-02</th>\n",
       "      <th></th>\n",
       "      <th></th>\n",
       "      <th></th>\n",
       "      <th></th>\n",
       "      <th></th>\n",
       "      <th></th>\n",
       "    </tr>\n",
       "  </thead>\n",
       "  <tbody>\n",
       "    <tr>\n",
       "      <th>补录</th>\n",
       "      <td>12.000</td>\n",
       "      <td>42.000</td>\n",
       "      <td>3.000</td>\n",
       "      <td>9.000</td>\n",
       "      <td>2.000</td>\n",
       "      <td>68.000</td>\n",
       "    </tr>\n",
       "    <tr>\n",
       "      <th>预警数量</th>\n",
       "      <td>12.000</td>\n",
       "      <td>73.000</td>\n",
       "      <td>2.000</td>\n",
       "      <td>35.000</td>\n",
       "      <td>2.000</td>\n",
       "      <td>124.000</td>\n",
       "    </tr>\n",
       "    <tr>\n",
       "      <th>补录且预警</th>\n",
       "      <td>12.000</td>\n",
       "      <td>41.000</td>\n",
       "      <td>2.000</td>\n",
       "      <td>9.000</td>\n",
       "      <td>2.000</td>\n",
       "      <td>66.000</td>\n",
       "    </tr>\n",
       "    <tr>\n",
       "      <th>补录&amp;过算法(7类)</th>\n",
       "      <td>11.000</td>\n",
       "      <td>37.000</td>\n",
       "      <td>3.000</td>\n",
       "      <td>9.000</td>\n",
       "      <td>1.000</td>\n",
       "      <td>61.000</td>\n",
       "    </tr>\n",
       "    <tr>\n",
       "      <th>补录且预警&amp;过算法(7类)</th>\n",
       "      <td>11.000</td>\n",
       "      <td>36.000</td>\n",
       "      <td>2.000</td>\n",
       "      <td>9.000</td>\n",
       "      <td>1.000</td>\n",
       "      <td>59.000</td>\n",
       "    </tr>\n",
       "    <tr>\n",
       "      <th>补录且预警 / 预警-比例</th>\n",
       "      <td>100%</td>\n",
       "      <td>56%</td>\n",
       "      <td>100%</td>\n",
       "      <td>26%</td>\n",
       "      <td>100%</td>\n",
       "      <td>53%</td>\n",
       "    </tr>\n",
       "    <tr>\n",
       "      <th>补录且预警 / 补录-比例</th>\n",
       "      <td>100%</td>\n",
       "      <td>98%</td>\n",
       "      <td>67%</td>\n",
       "      <td>100%</td>\n",
       "      <td>100%</td>\n",
       "      <td>97%</td>\n",
       "    </tr>\n",
       "    <tr>\n",
       "      <th>补录&amp;过算法(7类) / 补录-比例</th>\n",
       "      <td>92%</td>\n",
       "      <td>88%</td>\n",
       "      <td>100%</td>\n",
       "      <td>100%</td>\n",
       "      <td>50%</td>\n",
       "      <td>90%</td>\n",
       "    </tr>\n",
       "    <tr>\n",
       "      <th>补录且预警&amp;过算法(7类) / 补录且预警-比例</th>\n",
       "      <td>92%</td>\n",
       "      <td>88%</td>\n",
       "      <td>100%</td>\n",
       "      <td>100%</td>\n",
       "      <td>50%</td>\n",
       "      <td>89%</td>\n",
       "    </tr>\n",
       "  </tbody>\n",
       "</table>\n",
       "</div>"
      ],
      "text/plain": [
       "来源                              微信     新闻 新闻客户端     纸媒    视频      总量\n",
       "保监会：2018-10-27 到 2018-11-02                                         \n",
       "补录                          12.000 42.000 3.000  9.000 2.000  68.000\n",
       "预警数量                        12.000 73.000 2.000 35.000 2.000 124.000\n",
       "补录且预警                       12.000 41.000 2.000  9.000 2.000  66.000\n",
       "补录&过算法(7类)                  11.000 37.000 3.000  9.000 1.000  61.000\n",
       "补录且预警&过算法(7类)               11.000 36.000 2.000  9.000 1.000  59.000\n",
       "补录且预警 / 预警-比例                 100%    56%  100%    26%  100%     53%\n",
       "补录且预警 / 补录-比例                 100%    98%   67%   100%  100%     97%\n",
       "补录&过算法(7类) / 补录-比例             92%    88%  100%   100%   50%     90%\n",
       "补录且预警&过算法(7类) / 补录且预警-比例       92%    88%  100%   100%   50%     89%"
      ]
     },
     "execution_count": 31,
     "metadata": {},
     "output_type": "execute_result"
    }
   ],
   "source": [
    "stat = pd.merge(stat_a, stat_w, on = '来源', how = 'outer')\n",
    "stat = pd.merge(stat, stat_a_w, on = '来源', how = 'outer')\n",
    "# stat = pd.merge(stat, stat_a_cor, on = '来源', how = 'outer')\n",
    "# stat = pd.merge(stat, stat_a_w_cor, on = '来源', how = 'outer')\n",
    "stat = pd.merge(stat, stat_a_cor_7, on = '来源', how = 'outer')\n",
    "stat = pd.merge(stat, stat_a_w_cor_7, on = '来源', how = 'outer')\n",
    "stat = stat.set_index('来源').stack().unstack(0)\n",
    "stat['总量'] =  stat.sum(axis = 1)\n",
    "stat.loc['补录且预警 / 预警-比例'] = stat.loc['补录且预警'] / stat.loc['预警数量'] \n",
    "stat.loc['补录且预警 / 预警-比例'] = stat.loc['补录且预警 / 预警-比例'].apply(lambda x: '{:.0f}%'.format(x*100))\n",
    "stat.loc['补录且预警 / 补录-比例'] = stat.loc['补录且预警'] / stat.loc['补录'] \n",
    "stat.loc['补录且预警 / 补录-比例'] = stat.loc['补录且预警 / 补录-比例'].apply(lambda x: '{:.0f}%'.format(x*100))\n",
    "# stat.loc['补录&过算法(4类) / 补录-比例'] = stat.loc['补录&过算法(4类)'] / stat.loc['补录'] \n",
    "# stat.loc['补录&过算法(4类) / 补录-比例'] = stat.loc['补录&过算法(4类) / 补录-比例'].apply(lambda x: '{:.0f}%'.format(x*100))\n",
    "# stat.loc['补录且预警&过算法(4类) / 预警-比例'] = stat.loc['补录且预警&过算法(4类)'] / stat.loc['预警数量'] \n",
    "# stat.loc['补录且预警&过算法(4类) / 预警-比例'] = stat.loc['补录且预警&过算法(4类) / 预警-比例'].apply(lambda x: '{:.0f}%'.format(x*100))\n",
    "stat.loc['补录&过算法(7类) / 补录-比例'] = stat.loc['补录&过算法(7类)'] / stat.loc['补录'] \n",
    "stat.loc['补录&过算法(7类) / 补录-比例'] = stat.loc['补录&过算法(7类) / 补录-比例'].apply(lambda x: '{:.0f}%'.format(x*100))\n",
    "stat.loc['补录且预警&过算法(7类) / 补录且预警-比例'] = stat.loc['补录且预警&过算法(7类)'] / stat.loc['补录且预警'] \n",
    "stat.loc['补录且预警&过算法(7类) / 补录且预警-比例'] = stat.loc['补录且预警&过算法(7类) / 补录且预警-比例'].apply(lambda x: '{:.0f}%'.format(x*100))\n",
    "stat.index.name = '保监会：{0} 到 {1}'.format(add_start_day, add_end_day)\n",
    "stat"
   ]
  },
  {
   "cell_type": "markdown",
   "metadata": {},
   "source": [
    "### 导出一段时间补录数据用于训练"
   ]
  },
  {
   "cell_type": "code",
   "execution_count": 32,
   "metadata": {
    "ExecuteTime": {
     "end_time": "2018-11-12T01:33:03.683986Z",
     "start_time": "2018-11-12T01:33:03.665984Z"
    },
    "collapsed": true
   },
   "outputs": [],
   "source": [
    "# 人工补录\n",
    "sql_human_additional = \"select t1.id, t1.group_id, date_format(t1.publishtime,'%%Y-%%m-%%d') as publishtime,  \\\n",
    "                            t1.gather_type, t1.submited, t1.title, t2.center as content\\\n",
    "                            from wise_web_docinfo t1, wise_web_docinfo_center t2 \\\n",
    "                                where (date_format(publishtime, '%%Y-%%m-%%d') >= '{0}' and \\\n",
    "                                      date_format(publishtime, '%%Y-%%m-%%d') <= '{1}') and \\\n",
    "                                      t1.id = t2.doc_id and \\\n",
    "                                      t1.gather_type = 1 \".format('2018-08-20', '2018-09-16') \n",
    "\n",
    "# human_additional = pd.read_sql(sql_human_additional, engine)\n",
    "# print(human_additional.shape)\n",
    "# human_additional.head()"
   ]
  },
  {
   "cell_type": "code",
   "execution_count": 33,
   "metadata": {
    "ExecuteTime": {
     "end_time": "2018-11-12T01:33:03.797992Z",
     "start_time": "2018-11-12T01:33:03.687986Z"
    },
    "collapsed": true
   },
   "outputs": [],
   "source": [
    "# 预警数据\n",
    "sql_warning =  \"select t1.id, t1.group_id, date_format(t1.publishtime,'%%Y-%%m-%%d') as publishtime,  \\\n",
    "                            t1.gather_type, t1.submited, t1.title, t2.center as content\\\n",
    "                            from wise_web_docinfo t1, wise_web_docinfo_center t2 \\\n",
    "                                where (date_format(publishtime, '%%Y-%%m-%%d') >= '{0}' and \\\n",
    "                                      date_format(publishtime, '%%Y-%%m-%%d') <= '{1}') and \\\n",
    "                                      t1.id = t2.doc_id and \\\n",
    "                                      t1.submited = 1 \".format('2018-08-20', '2018-09-16') \n",
    "\n",
    "# warning = pd.read_sql(sql_warning, engine)\n",
    "# print(warning.shape)\n",
    "# warning.head()"
   ]
  },
  {
   "cell_type": "code",
   "execution_count": 34,
   "metadata": {
    "ExecuteTime": {
     "end_time": "2018-11-12T01:33:03.886997Z",
     "start_time": "2018-11-12T01:33:03.806993Z"
    },
    "collapsed": true
   },
   "outputs": [],
   "source": [
    "if 0:\n",
    "    # url = \"http://192.168.0.104:11000/judge_correlation_i\"\n",
    "    url = \"http://47.93.77.19:10000/judge_correlation_i\"\n",
    "    folder = 'circ_result_class'\n",
    "    filename = 'circ_add&warning_20180917(0820-0916).xlsx'\n",
    "    get_period_data_for_training(human_additional, warning, url, folder, filename, 'circ')"
   ]
  },
  {
   "cell_type": "markdown",
   "metadata": {},
   "source": [
    "# 银行业--旧"
   ]
  },
  {
   "cell_type": "markdown",
   "metadata": {},
   "source": [
    "## 特殊时间点"
   ]
  },
  {
   "cell_type": "code",
   "execution_count": 35,
   "metadata": {
    "ExecuteTime": {
     "end_time": "2018-11-12T01:33:04.033005Z",
     "start_time": "2018-11-12T01:33:03.889997Z"
    },
    "collapsed": true
   },
   "outputs": [],
   "source": [
    "engine = specific_func.get_engine('cbrc')"
   ]
  },
  {
   "cell_type": "code",
   "execution_count": 36,
   "metadata": {
    "ExecuteTime": {
     "end_time": "2018-11-12T01:33:04.049006Z",
     "start_time": "2018-11-12T01:33:04.037006Z"
    },
    "collapsed": true
   },
   "outputs": [],
   "source": [
    "cbrc_day_thing = [['2018-05-02', '相关性模型'], \n",
    "             ['2018-06-01', '更新相关性模型'], \n",
    "             ['2018-06-12', '更新相关性模型'], \n",
    "             ['2018-06-12', '上线倾向性模型']\n",
    "            ]"
   ]
  },
  {
   "cell_type": "markdown",
   "metadata": {},
   "source": [
    "## 八分类"
   ]
  },
  {
   "cell_type": "code",
   "execution_count": 37,
   "metadata": {
    "ExecuteTime": {
     "end_time": "2018-11-12T01:34:30.282939Z",
     "start_time": "2018-11-12T01:33:04.053007Z"
    }
   },
   "outputs": [
    {
     "data": {
      "text/html": [
       "<div>\n",
       "<style scoped>\n",
       "    .dataframe tbody tr th:only-of-type {\n",
       "        vertical-align: middle;\n",
       "    }\n",
       "\n",
       "    .dataframe tbody tr th {\n",
       "        vertical-align: top;\n",
       "    }\n",
       "\n",
       "    .dataframe thead th {\n",
       "        text-align: right;\n",
       "    }\n",
       "</style>\n",
       "<table border=\"1\" class=\"dataframe\">\n",
       "  <thead>\n",
       "    <tr style=\"text-align: right;\">\n",
       "      <th></th>\n",
       "      <th>publishtime</th>\n",
       "      <th>classify</th>\n",
       "      <th>count</th>\n",
       "    </tr>\n",
       "  </thead>\n",
       "  <tbody>\n",
       "    <tr>\n",
       "      <th>0</th>\n",
       "      <td>2018-11-12</td>\n",
       "      <td>监管</td>\n",
       "      <td>3241</td>\n",
       "    </tr>\n",
       "    <tr>\n",
       "      <th>1</th>\n",
       "      <td>2018-11-12</td>\n",
       "      <td>行业</td>\n",
       "      <td>2955</td>\n",
       "    </tr>\n",
       "    <tr>\n",
       "      <th>2</th>\n",
       "      <td>2018-11-12</td>\n",
       "      <td>产品销售</td>\n",
       "      <td>547</td>\n",
       "    </tr>\n",
       "    <tr>\n",
       "      <th>3</th>\n",
       "      <td>2018-11-12</td>\n",
       "      <td>资本市场</td>\n",
       "      <td>4242</td>\n",
       "    </tr>\n",
       "    <tr>\n",
       "      <th>4</th>\n",
       "      <td>2018-11-12</td>\n",
       "      <td>公司内部管理</td>\n",
       "      <td>647</td>\n",
       "    </tr>\n",
       "  </tbody>\n",
       "</table>\n",
       "</div>"
      ],
      "text/plain": [
       "  publishtime classify  count\n",
       "0  2018-11-12       监管   3241\n",
       "1  2018-11-12       行业   2955\n",
       "2  2018-11-12     产品销售    547\n",
       "3  2018-11-12     资本市场   4242\n",
       "4  2018-11-12   公司内部管理    647"
      ]
     },
     "execution_count": 37,
     "metadata": {},
     "output_type": "execute_result"
    }
   ],
   "source": [
    "sql_cbrc = \"select date_format(t1.publishtime,'%%Y-%%m-%%d') as publishtime, \\\n",
    "                        t2.traffic_id as classify, count(t1.id) as count \\\n",
    "                            from wise_web_docinfo_basic t1, wise_web_classify_traffic_docinfo t2 \\\n",
    "                                where (date_format(t1.publishtime, '%%Y-%%m-%%d') >= '{0}' and \\\n",
    "                                      date_format(t1.publishtime, '%%Y-%%m-%%d') <= '{1}') and \\\n",
    "                                      t2.base_id=t1.id \\\n",
    "                                group by date_format(t1.publishtime,'%%Y-%%m-%%d'), t2.traffic_id \\\n",
    "                                order by date_format(t1.publishtime,'%%Y-%%m-%%d') desc\".format(start_day, end_day) \n",
    "\n",
    "cbrc_count = pd.read_sql(sql_cbrc, engine)\n",
    "cbrc_count['classify'] = cbrc_count['classify'].apply(lambda x:class_name_dict[x])\n",
    "cbrc_count.head()"
   ]
  },
  {
   "cell_type": "markdown",
   "metadata": {
    "collapsed": true
   },
   "source": [
    "### class"
   ]
  },
  {
   "cell_type": "code",
   "execution_count": 38,
   "metadata": {
    "ExecuteTime": {
     "end_time": "2018-11-12T01:34:30.366944Z",
     "start_time": "2018-11-12T01:34:30.286939Z"
    }
   },
   "outputs": [
    {
     "data": {
      "text/html": [
       "<div>\n",
       "<style scoped>\n",
       "    .dataframe tbody tr th:only-of-type {\n",
       "        vertical-align: middle;\n",
       "    }\n",
       "\n",
       "    .dataframe tbody tr th {\n",
       "        vertical-align: top;\n",
       "    }\n",
       "\n",
       "    .dataframe thead tr th {\n",
       "        text-align: left;\n",
       "    }\n",
       "\n",
       "    .dataframe thead tr:last-of-type th {\n",
       "        text-align: right;\n",
       "    }\n",
       "</style>\n",
       "<table border=\"1\" class=\"dataframe\">\n",
       "  <thead>\n",
       "    <tr>\n",
       "      <th></th>\n",
       "      <th colspan=\"8\" halign=\"left\">count</th>\n",
       "      <th>总量</th>\n",
       "      <th>非噪音</th>\n",
       "      <th>非噪音-比例</th>\n",
       "      <th>噪音-比例</th>\n",
       "    </tr>\n",
       "    <tr>\n",
       "      <th>classify</th>\n",
       "      <th>产品销售</th>\n",
       "      <th>公司内部管理</th>\n",
       "      <th>其他相关报道</th>\n",
       "      <th>噪音</th>\n",
       "      <th>消费服务</th>\n",
       "      <th>监管</th>\n",
       "      <th>行业</th>\n",
       "      <th>资本市场</th>\n",
       "      <th></th>\n",
       "      <th></th>\n",
       "      <th></th>\n",
       "      <th></th>\n",
       "    </tr>\n",
       "    <tr>\n",
       "      <th>publishtime</th>\n",
       "      <th></th>\n",
       "      <th></th>\n",
       "      <th></th>\n",
       "      <th></th>\n",
       "      <th></th>\n",
       "      <th></th>\n",
       "      <th></th>\n",
       "      <th></th>\n",
       "      <th></th>\n",
       "      <th></th>\n",
       "      <th></th>\n",
       "      <th></th>\n",
       "    </tr>\n",
       "  </thead>\n",
       "  <tbody>\n",
       "    <tr>\n",
       "      <th>2018-11-12</th>\n",
       "      <td>547</td>\n",
       "      <td>647</td>\n",
       "      <td>818</td>\n",
       "      <td>16265</td>\n",
       "      <td>2664</td>\n",
       "      <td>3241</td>\n",
       "      <td>2955</td>\n",
       "      <td>4242</td>\n",
       "      <td>31379</td>\n",
       "      <td>15114</td>\n",
       "      <td>0.482</td>\n",
       "      <td>0.518</td>\n",
       "    </tr>\n",
       "    <tr>\n",
       "      <th>2018-11-11</th>\n",
       "      <td>2049</td>\n",
       "      <td>1290</td>\n",
       "      <td>2130</td>\n",
       "      <td>54320</td>\n",
       "      <td>8200</td>\n",
       "      <td>7087</td>\n",
       "      <td>5787</td>\n",
       "      <td>7753</td>\n",
       "      <td>88616</td>\n",
       "      <td>34296</td>\n",
       "      <td>0.387</td>\n",
       "      <td>0.613</td>\n",
       "    </tr>\n",
       "    <tr>\n",
       "      <th>2018-11-10</th>\n",
       "      <td>3314</td>\n",
       "      <td>2206</td>\n",
       "      <td>2553</td>\n",
       "      <td>72025</td>\n",
       "      <td>18529</td>\n",
       "      <td>12314</td>\n",
       "      <td>7666</td>\n",
       "      <td>10208</td>\n",
       "      <td>128815</td>\n",
       "      <td>56790</td>\n",
       "      <td>0.441</td>\n",
       "      <td>0.559</td>\n",
       "    </tr>\n",
       "    <tr>\n",
       "      <th>2018-11-09</th>\n",
       "      <td>4657</td>\n",
       "      <td>4607</td>\n",
       "      <td>4979</td>\n",
       "      <td>111312</td>\n",
       "      <td>30860</td>\n",
       "      <td>20996</td>\n",
       "      <td>14731</td>\n",
       "      <td>23947</td>\n",
       "      <td>216089</td>\n",
       "      <td>104777</td>\n",
       "      <td>0.485</td>\n",
       "      <td>0.515</td>\n",
       "    </tr>\n",
       "    <tr>\n",
       "      <th>2018-11-08</th>\n",
       "      <td>4028</td>\n",
       "      <td>4865</td>\n",
       "      <td>4689</td>\n",
       "      <td>111610</td>\n",
       "      <td>25060</td>\n",
       "      <td>15553</td>\n",
       "      <td>14531</td>\n",
       "      <td>25191</td>\n",
       "      <td>205527</td>\n",
       "      <td>93917</td>\n",
       "      <td>0.457</td>\n",
       "      <td>0.543</td>\n",
       "    </tr>\n",
       "  </tbody>\n",
       "</table>\n",
       "</div>"
      ],
      "text/plain": [
       "            count                                                        总量  \\\n",
       "classify     产品销售 公司内部管理 其他相关报道      噪音   消费服务     监管     行业   资本市场           \n",
       "publishtime                                                                   \n",
       "2018-11-12    547    647    818   16265   2664   3241   2955   4242   31379   \n",
       "2018-11-11   2049   1290   2130   54320   8200   7087   5787   7753   88616   \n",
       "2018-11-10   3314   2206   2553   72025  18529  12314   7666  10208  128815   \n",
       "2018-11-09   4657   4607   4979  111312  30860  20996  14731  23947  216089   \n",
       "2018-11-08   4028   4865   4689  111610  25060  15553  14531  25191  205527   \n",
       "\n",
       "                非噪音 非噪音-比例 噪音-比例  \n",
       "classify                          \n",
       "publishtime                       \n",
       "2018-11-12    15114  0.482 0.518  \n",
       "2018-11-11    34296  0.387 0.613  \n",
       "2018-11-10    56790  0.441 0.559  \n",
       "2018-11-09   104777  0.485 0.515  \n",
       "2018-11-08    93917  0.457 0.543  "
      ]
     },
     "execution_count": 38,
     "metadata": {},
     "output_type": "execute_result"
    }
   ],
   "source": [
    "class_count = cbrc_count\n",
    "cor_class_1, cor_class, count_data_7, count_data_4 = get_class_data(class_count)\n",
    "cor_class_1.sort_index(ascending = False).head()"
   ]
  },
  {
   "cell_type": "code",
   "execution_count": 39,
   "metadata": {
    "ExecuteTime": {
     "end_time": "2018-11-12T01:34:30.757966Z",
     "start_time": "2018-11-12T01:34:30.373944Z"
    }
   },
   "outputs": [
    {
     "data": {
      "text/html": [
       "<div>\n",
       "<style scoped>\n",
       "    .dataframe tbody tr th:only-of-type {\n",
       "        vertical-align: middle;\n",
       "    }\n",
       "\n",
       "    .dataframe tbody tr th {\n",
       "        vertical-align: top;\n",
       "    }\n",
       "\n",
       "    .dataframe thead tr th {\n",
       "        text-align: left;\n",
       "    }\n",
       "\n",
       "    .dataframe thead tr:last-of-type th {\n",
       "        text-align: right;\n",
       "    }\n",
       "</style>\n",
       "<table border=\"1\" class=\"dataframe\">\n",
       "  <thead>\n",
       "    <tr>\n",
       "      <th></th>\n",
       "      <th colspan=\"8\" halign=\"left\">count</th>\n",
       "      <th>总量</th>\n",
       "      <th colspan=\"8\" halign=\"left\">rate</th>\n",
       "    </tr>\n",
       "    <tr>\n",
       "      <th>classify</th>\n",
       "      <th>产品销售</th>\n",
       "      <th>公司内部管理</th>\n",
       "      <th>其他相关报道</th>\n",
       "      <th>噪音</th>\n",
       "      <th>消费服务</th>\n",
       "      <th>监管</th>\n",
       "      <th>行业</th>\n",
       "      <th>资本市场</th>\n",
       "      <th></th>\n",
       "      <th>产品销售</th>\n",
       "      <th>公司内部管理</th>\n",
       "      <th>其他相关报道</th>\n",
       "      <th>噪音</th>\n",
       "      <th>消费服务</th>\n",
       "      <th>监管</th>\n",
       "      <th>行业</th>\n",
       "      <th>资本市场</th>\n",
       "    </tr>\n",
       "    <tr>\n",
       "      <th>publishtime</th>\n",
       "      <th></th>\n",
       "      <th></th>\n",
       "      <th></th>\n",
       "      <th></th>\n",
       "      <th></th>\n",
       "      <th></th>\n",
       "      <th></th>\n",
       "      <th></th>\n",
       "      <th></th>\n",
       "      <th></th>\n",
       "      <th></th>\n",
       "      <th></th>\n",
       "      <th></th>\n",
       "      <th></th>\n",
       "      <th></th>\n",
       "      <th></th>\n",
       "      <th></th>\n",
       "    </tr>\n",
       "  </thead>\n",
       "  <tbody>\n",
       "    <tr>\n",
       "      <th>2018-11-12</th>\n",
       "      <td>547</td>\n",
       "      <td>647</td>\n",
       "      <td>818</td>\n",
       "      <td>16265</td>\n",
       "      <td>2664</td>\n",
       "      <td>3241</td>\n",
       "      <td>2955</td>\n",
       "      <td>4242</td>\n",
       "      <td>31379</td>\n",
       "      <td>0.017</td>\n",
       "      <td>0.021</td>\n",
       "      <td>0.026</td>\n",
       "      <td>0.518</td>\n",
       "      <td>0.085</td>\n",
       "      <td>0.103</td>\n",
       "      <td>0.094</td>\n",
       "      <td>0.135</td>\n",
       "    </tr>\n",
       "    <tr>\n",
       "      <th>2018-11-11</th>\n",
       "      <td>2049</td>\n",
       "      <td>1290</td>\n",
       "      <td>2130</td>\n",
       "      <td>54320</td>\n",
       "      <td>8200</td>\n",
       "      <td>7087</td>\n",
       "      <td>5787</td>\n",
       "      <td>7753</td>\n",
       "      <td>88616</td>\n",
       "      <td>0.023</td>\n",
       "      <td>0.015</td>\n",
       "      <td>0.024</td>\n",
       "      <td>0.613</td>\n",
       "      <td>0.093</td>\n",
       "      <td>0.080</td>\n",
       "      <td>0.065</td>\n",
       "      <td>0.087</td>\n",
       "    </tr>\n",
       "    <tr>\n",
       "      <th>2018-11-10</th>\n",
       "      <td>3314</td>\n",
       "      <td>2206</td>\n",
       "      <td>2553</td>\n",
       "      <td>72025</td>\n",
       "      <td>18529</td>\n",
       "      <td>12314</td>\n",
       "      <td>7666</td>\n",
       "      <td>10208</td>\n",
       "      <td>128815</td>\n",
       "      <td>0.026</td>\n",
       "      <td>0.017</td>\n",
       "      <td>0.020</td>\n",
       "      <td>0.559</td>\n",
       "      <td>0.144</td>\n",
       "      <td>0.096</td>\n",
       "      <td>0.060</td>\n",
       "      <td>0.079</td>\n",
       "    </tr>\n",
       "    <tr>\n",
       "      <th>2018-11-09</th>\n",
       "      <td>4657</td>\n",
       "      <td>4607</td>\n",
       "      <td>4979</td>\n",
       "      <td>111312</td>\n",
       "      <td>30860</td>\n",
       "      <td>20996</td>\n",
       "      <td>14731</td>\n",
       "      <td>23947</td>\n",
       "      <td>216089</td>\n",
       "      <td>0.022</td>\n",
       "      <td>0.021</td>\n",
       "      <td>0.023</td>\n",
       "      <td>0.515</td>\n",
       "      <td>0.143</td>\n",
       "      <td>0.097</td>\n",
       "      <td>0.068</td>\n",
       "      <td>0.111</td>\n",
       "    </tr>\n",
       "    <tr>\n",
       "      <th>2018-11-08</th>\n",
       "      <td>4028</td>\n",
       "      <td>4865</td>\n",
       "      <td>4689</td>\n",
       "      <td>111610</td>\n",
       "      <td>25060</td>\n",
       "      <td>15553</td>\n",
       "      <td>14531</td>\n",
       "      <td>25191</td>\n",
       "      <td>205527</td>\n",
       "      <td>0.020</td>\n",
       "      <td>0.024</td>\n",
       "      <td>0.023</td>\n",
       "      <td>0.543</td>\n",
       "      <td>0.122</td>\n",
       "      <td>0.076</td>\n",
       "      <td>0.071</td>\n",
       "      <td>0.123</td>\n",
       "    </tr>\n",
       "  </tbody>\n",
       "</table>\n",
       "</div>"
      ],
      "text/plain": [
       "            count                                                        总量  \\\n",
       "classify     产品销售 公司内部管理 其他相关报道      噪音   消费服务     监管     行业   资本市场           \n",
       "publishtime                                                                   \n",
       "2018-11-12    547    647    818   16265   2664   3241   2955   4242   31379   \n",
       "2018-11-11   2049   1290   2130   54320   8200   7087   5787   7753   88616   \n",
       "2018-11-10   3314   2206   2553   72025  18529  12314   7666  10208  128815   \n",
       "2018-11-09   4657   4607   4979  111312  30860  20996  14731  23947  216089   \n",
       "2018-11-08   4028   4865   4689  111610  25060  15553  14531  25191  205527   \n",
       "\n",
       "             rate                                              \n",
       "classify     产品销售 公司内部管理 其他相关报道    噪音  消费服务    监管    行业  资本市场  \n",
       "publishtime                                                    \n",
       "2018-11-12  0.017  0.021  0.026 0.518 0.085 0.103 0.094 0.135  \n",
       "2018-11-11  0.023  0.015  0.024 0.613 0.093 0.080 0.065 0.087  \n",
       "2018-11-10  0.026  0.017  0.020 0.559 0.144 0.096 0.060 0.079  \n",
       "2018-11-09  0.022  0.021  0.023 0.515 0.143 0.097 0.068 0.111  \n",
       "2018-11-08  0.020  0.024  0.023 0.543 0.122 0.076 0.071 0.123  "
      ]
     },
     "execution_count": 39,
     "metadata": {},
     "output_type": "execute_result"
    },
    {
     "data": {
      "image/png": "[encoded data removed]",
      "text/plain": [
       "<matplotlib.figure.Figure at 0xd4c6208>"
      ]
     },
     "metadata": {},
     "output_type": "display_data"
    }
   ],
   "source": [
    "cor_class['rate'].reset_index().fillna(0).plot(x = 'publishtime', figsize = (15,6))\n",
    "cor_class.sort_index(ascending = False).head()"
   ]
  },
  {
   "cell_type": "markdown",
   "metadata": {
    "ExecuteTime": {
     "end_time": "2018-09-18T06:21:17.584594Z",
     "start_time": "2018-09-18T06:21:17.570593Z"
    }
   },
   "source": [
    "### 总体"
   ]
  },
  {
   "cell_type": "code",
   "execution_count": 40,
   "metadata": {
    "ExecuteTime": {
     "end_time": "2018-11-12T01:34:31.472007Z",
     "start_time": "2018-11-12T01:34:30.761966Z"
    }
   },
   "outputs": [
    {
     "data": {
      "image/png": "[encoded data removed]",
      "text/plain": [
       "<matplotlib.figure.Figure at 0xd5819b0>"
      ]
     },
     "metadata": {},
     "output_type": "display_data"
    },
    {
     "name": "stdout",
     "output_type": "stream",
     "text": [
      "   publishtime     sum  al_cor  al_uncor  al_cor_rate  al_uncor_rate\n",
      "31  2018-11-12   31379   15114     16265        0.482          0.518\n",
      "30  2018-11-11   88616   34296     54320        0.387          0.613\n",
      "29  2018-11-10  128815   56790     72025        0.441          0.559\n",
      "28  2018-11-09  216089  104777    111312        0.485          0.515\n",
      "27  2018-11-08  205527   93917    111610        0.457          0.543\n"
     ]
    }
   ],
   "source": [
    "plot_cor(count_data_7, cbrc_day_thing, \"CBRC 8-class cor&uncor:7-1\")"
   ]
  },
  {
   "cell_type": "code",
   "execution_count": 41,
   "metadata": {
    "ExecuteTime": {
     "end_time": "2018-11-12T01:34:31.973035Z",
     "start_time": "2018-11-12T01:34:31.480007Z"
    }
   },
   "outputs": [
    {
     "data": {
      "image/png": "[encoded data removed]",
      "text/plain": [
       "<matplotlib.figure.Figure at 0xd597da0>"
      ]
     },
     "metadata": {},
     "output_type": "display_data"
    },
    {
     "name": "stdout",
     "output_type": "stream",
     "text": [
      "   publishtime  al_cor     sum  al_uncor  al_cor_rate  al_uncor_rate\n",
      "31  2018-11-12    9507   31379     21872        0.303          0.697\n",
      "30  2018-11-11   22364   88616     66252        0.252          0.748\n",
      "29  2018-11-10   40715  128815     88100        0.316          0.684\n",
      "28  2018-11-09   71194  216089    144895        0.329          0.671\n",
      "27  2018-11-08   60009  205527    145518        0.292          0.708\n"
     ]
    }
   ],
   "source": [
    "plot_cor(count_data_4, cbrc_day_thing, \"CBRC 8-class cor&uncor:4-4\")"
   ]
  },
  {
   "cell_type": "markdown",
   "metadata": {},
   "source": [
    "## 倾向性"
   ]
  },
  {
   "cell_type": "code",
   "execution_count": 42,
   "metadata": {
    "ExecuteTime": {
     "end_time": "2018-11-12T01:40:20.246753Z",
     "start_time": "2018-11-12T01:34:31.976036Z"
    }
   },
   "outputs": [
    {
     "data": {
      "text/html": [
       "<div>\n",
       "<style scoped>\n",
       "    .dataframe tbody tr th:only-of-type {\n",
       "        vertical-align: middle;\n",
       "    }\n",
       "\n",
       "    .dataframe tbody tr th {\n",
       "        vertical-align: top;\n",
       "    }\n",
       "\n",
       "    .dataframe thead th {\n",
       "        text-align: right;\n",
       "    }\n",
       "</style>\n",
       "<table border=\"1\" class=\"dataframe\">\n",
       "  <thead>\n",
       "    <tr style=\"text-align: right;\">\n",
       "      <th></th>\n",
       "      <th>publishtime</th>\n",
       "      <th>tendency</th>\n",
       "      <th>cor_count</th>\n",
       "    </tr>\n",
       "  </thead>\n",
       "  <tbody>\n",
       "    <tr>\n",
       "      <th>0</th>\n",
       "      <td>2018-11-12</td>\n",
       "      <td>-1</td>\n",
       "      <td>418</td>\n",
       "    </tr>\n",
       "    <tr>\n",
       "      <th>1</th>\n",
       "      <td>2018-11-12</td>\n",
       "      <td>0</td>\n",
       "      <td>9098</td>\n",
       "    </tr>\n",
       "    <tr>\n",
       "      <th>2</th>\n",
       "      <td>2018-11-11</td>\n",
       "      <td>-1</td>\n",
       "      <td>1081</td>\n",
       "    </tr>\n",
       "    <tr>\n",
       "      <th>3</th>\n",
       "      <td>2018-11-11</td>\n",
       "      <td>0</td>\n",
       "      <td>21287</td>\n",
       "    </tr>\n",
       "    <tr>\n",
       "      <th>5</th>\n",
       "      <td>2018-11-10</td>\n",
       "      <td>-1</td>\n",
       "      <td>1119</td>\n",
       "    </tr>\n",
       "  </tbody>\n",
       "</table>\n",
       "</div>"
      ],
      "text/plain": [
       "  publishtime  tendency  cor_count\n",
       "0  2018-11-12        -1        418\n",
       "1  2018-11-12         0       9098\n",
       "2  2018-11-11        -1       1081\n",
       "3  2018-11-11         0      21287\n",
       "5  2018-11-10        -1       1119"
      ]
     },
     "execution_count": 42,
     "metadata": {},
     "output_type": "execute_result"
    }
   ],
   "source": [
    "sql_tend = \"select date_format(t1.publishtime,'%%Y-%%m-%%d') as publishtime, t1.sen as tendency, count(t1.id) as cor_count \\\n",
    "                            from elint_web_docinfo t1 \\\n",
    "                                where (date_format(t1.publishtime, '%%Y-%%m-%%d') >= '{0}' and \\\n",
    "                                      date_format(t1.publishtime, '%%Y-%%m-%%d') <= '{1}') \\\n",
    "                                group by date_format(t1.publishtime,'%%Y-%%m-%%d'), t1.sen \\\n",
    "                                order by date_format(t1.publishtime,'%%Y-%%m-%%d') desc\".format(start_day, end_day) \n",
    "\n",
    "tend_count = pd.read_sql(sql_tend, engine)\n",
    "tend_count = tend_count[tend_count['tendency'] != 1]\n",
    "tend_count.head()"
   ]
  },
  {
   "cell_type": "code",
   "execution_count": 43,
   "metadata": {
    "ExecuteTime": {
     "end_time": "2018-11-12T01:40:20.788784Z",
     "start_time": "2018-11-12T01:40:20.273754Z"
    }
   },
   "outputs": [
    {
     "data": {
      "image/png": "[encoded data removed]",
      "text/plain": [
       "<matplotlib.figure.Figure at 0xd162438>"
      ]
     },
     "metadata": {},
     "output_type": "display_data"
    },
    {
     "name": "stdout",
     "output_type": "stream",
     "text": [
      "   publishtime   neg    pos    sum  neg_rate  pos_rate\n",
      "31  2018-11-12   418   9098   9516     0.044     0.956\n",
      "30  2018-11-11  1081  21287  22368     0.048     0.952\n",
      "29  2018-11-10  1119  39590  40709     0.027     0.973\n",
      "28  2018-11-09  2194  69487  71681     0.031     0.969\n",
      "27  2018-11-08  2369  58044  60413     0.039     0.961\n"
     ]
    }
   ],
   "source": [
    "plot_tend(tend_count, cbrc_day_thing, \"CBRC - tendency \")"
   ]
  },
  {
   "cell_type": "markdown",
   "metadata": {},
   "source": [
    "## 补录和预警"
   ]
  },
  {
   "cell_type": "markdown",
   "metadata": {},
   "source": [
    "### 补录数据"
   ]
  },
  {
   "cell_type": "code",
   "execution_count": 44,
   "metadata": {
    "ExecuteTime": {
     "end_time": "2018-11-12T01:40:21.715837Z",
     "start_time": "2018-11-12T01:40:20.790784Z"
    }
   },
   "outputs": [
    {
     "data": {
      "text/html": [
       "<div>\n",
       "<style scoped>\n",
       "    .dataframe tbody tr th:only-of-type {\n",
       "        vertical-align: middle;\n",
       "    }\n",
       "\n",
       "    .dataframe tbody tr th {\n",
       "        vertical-align: top;\n",
       "    }\n",
       "\n",
       "    .dataframe thead th {\n",
       "        text-align: right;\n",
       "    }\n",
       "</style>\n",
       "<table border=\"1\" class=\"dataframe\">\n",
       "  <thead>\n",
       "    <tr style=\"text-align: right;\">\n",
       "      <th></th>\n",
       "      <th>publishtime</th>\n",
       "      <th>gather_type</th>\n",
       "      <th>count</th>\n",
       "    </tr>\n",
       "  </thead>\n",
       "  <tbody>\n",
       "    <tr>\n",
       "      <th>0</th>\n",
       "      <td>2018-11-12</td>\n",
       "      <td>1</td>\n",
       "      <td>3</td>\n",
       "    </tr>\n",
       "    <tr>\n",
       "      <th>1</th>\n",
       "      <td>2018-11-11</td>\n",
       "      <td>1</td>\n",
       "      <td>4</td>\n",
       "    </tr>\n",
       "    <tr>\n",
       "      <th>2</th>\n",
       "      <td>2018-11-10</td>\n",
       "      <td>1</td>\n",
       "      <td>3</td>\n",
       "    </tr>\n",
       "    <tr>\n",
       "      <th>3</th>\n",
       "      <td>2018-11-09</td>\n",
       "      <td>1</td>\n",
       "      <td>19</td>\n",
       "    </tr>\n",
       "    <tr>\n",
       "      <th>4</th>\n",
       "      <td>2018-11-08</td>\n",
       "      <td>1</td>\n",
       "      <td>32</td>\n",
       "    </tr>\n",
       "  </tbody>\n",
       "</table>\n",
       "</div>"
      ],
      "text/plain": [
       "  publishtime  gather_type  count\n",
       "0  2018-11-12            1      3\n",
       "1  2018-11-11            1      4\n",
       "2  2018-11-10            1      3\n",
       "3  2018-11-09            1     19\n",
       "4  2018-11-08            1     32"
      ]
     },
     "execution_count": 44,
     "metadata": {},
     "output_type": "execute_result"
    }
   ],
   "source": [
    "sql_human_additional = \"select date_format(t1.publishtime,'%%Y-%%m-%%d') as publishtime,  \\\n",
    "                            t1.gather_type, count(t1.id) as count \\\n",
    "                            from elint_web_docinfo t1 \\\n",
    "                                where (date_format(publishtime, '%%Y-%%m-%%d') >= '{0}' and \\\n",
    "                                      date_format(publishtime, '%%Y-%%m-%%d') <= '{1}') and \\\n",
    "                                      t1.gather_type = 1 \\\n",
    "                                group by date_format(t1.publishtime,'%%Y-%%m-%%d') \\\n",
    "                                order by date_format(t1.publishtime,'%%Y-%%m-%%d') desc\".format(start_day, end_day) \n",
    "\n",
    "human_additional_count = pd.read_sql(sql_human_additional, engine)\n",
    "human_additional_count.sort_values(by = 'publishtime', ascending = False).head()"
   ]
  },
  {
   "cell_type": "code",
   "execution_count": 45,
   "metadata": {
    "ExecuteTime": {
     "end_time": "2018-11-12T01:40:22.311871Z",
     "start_time": "2018-11-12T01:40:21.720837Z"
    }
   },
   "outputs": [
    {
     "data": {
      "image/png": "[encoded data removed]",
      "text/plain": [
       "<matplotlib.figure.Figure at 0xd1a5ef0>"
      ]
     },
     "metadata": {},
     "output_type": "display_data"
    },
    {
     "data": {
      "text/html": [
       "<div>\n",
       "<style scoped>\n",
       "    .dataframe tbody tr th:only-of-type {\n",
       "        vertical-align: middle;\n",
       "    }\n",
       "\n",
       "    .dataframe tbody tr th {\n",
       "        vertical-align: top;\n",
       "    }\n",
       "\n",
       "    .dataframe thead th {\n",
       "        text-align: right;\n",
       "    }\n",
       "</style>\n",
       "<table border=\"1\" class=\"dataframe\">\n",
       "  <thead>\n",
       "    <tr style=\"text-align: right;\">\n",
       "      <th></th>\n",
       "      <th>publishtime</th>\n",
       "      <th>gather_type</th>\n",
       "      <th>count</th>\n",
       "    </tr>\n",
       "  </thead>\n",
       "  <tbody>\n",
       "    <tr>\n",
       "      <th>0</th>\n",
       "      <td>2018-11-12</td>\n",
       "      <td>1</td>\n",
       "      <td>3</td>\n",
       "    </tr>\n",
       "    <tr>\n",
       "      <th>1</th>\n",
       "      <td>2018-11-11</td>\n",
       "      <td>1</td>\n",
       "      <td>4</td>\n",
       "    </tr>\n",
       "    <tr>\n",
       "      <th>2</th>\n",
       "      <td>2018-11-10</td>\n",
       "      <td>1</td>\n",
       "      <td>3</td>\n",
       "    </tr>\n",
       "    <tr>\n",
       "      <th>3</th>\n",
       "      <td>2018-11-09</td>\n",
       "      <td>1</td>\n",
       "      <td>19</td>\n",
       "    </tr>\n",
       "    <tr>\n",
       "      <th>4</th>\n",
       "      <td>2018-11-08</td>\n",
       "      <td>1</td>\n",
       "      <td>32</td>\n",
       "    </tr>\n",
       "  </tbody>\n",
       "</table>\n",
       "</div>"
      ],
      "text/plain": [
       "  publishtime  gather_type  count\n",
       "0  2018-11-12            1      3\n",
       "1  2018-11-11            1      4\n",
       "2  2018-11-10            1      3\n",
       "3  2018-11-09            1     19\n",
       "4  2018-11-08            1     32"
      ]
     },
     "execution_count": 45,
     "metadata": {},
     "output_type": "execute_result"
    }
   ],
   "source": [
    "human_additional_count = human_additional_count.sort_values(by = 'publishtime')\n",
    "fig = plt.figure(figsize = (15,6))\n",
    "ax1 = fig.add_subplot(111)\n",
    "human_additional_count.plot(x = 'publishtime', y = 'count', kind = 'bar', figsize = (15, 6), ax = ax1)\n",
    "ax1.set_ylabel('数据量', fontsize = 16)\n",
    "ax1.set_title(\"（银监会）人工补录\", fontsize = 20)\n",
    "\n",
    "ax2 = ax1.twinx()  # this is the important function\n",
    "ax2.set_ylim(0, 1)\n",
    "y_list = [0.65, 0.75, 0.85, 0.95]\n",
    "m = 0\n",
    "for [d, t] in cbrc_day_thing:    \n",
    "    if d in human_additional_count['publishtime'].tolist():\n",
    "        x = human_additional_count['publishtime'].tolist().index(d)\n",
    "        ax2.axvline(x=x, ymin = y_list[m] - 0.1, ymax = y_list[m] + 0.1, \n",
    "                    color='k', linestyle = \"--\", alpha = 0.75)\n",
    "        ax2.text(x - 0.25, y_list[m], t, va='center', fontsize = 12)\n",
    "        if m == 3: \n",
    "            m = 0\n",
    "        else :\n",
    "            m += 1\n",
    "        \n",
    "plt.grid(True, linestyle = \"--\", color = \"r\", alpha = 0.3) \n",
    "plt.show()\n",
    "\n",
    "human_additional_count.sort_values(by = 'publishtime', ascending = False).head()"
   ]
  },
  {
   "cell_type": "markdown",
   "metadata": {},
   "source": [
    "### 一周数据"
   ]
  },
  {
   "cell_type": "code",
   "execution_count": 46,
   "metadata": {
    "ExecuteTime": {
     "end_time": "2018-11-12T01:40:22.319871Z",
     "start_time": "2018-11-12T01:40:22.313871Z"
    },
    "collapsed": true
   },
   "outputs": [],
   "source": [
    "add_start_day = '2018-10-27'\n",
    "add_end_day = '2018-11-02'"
   ]
  },
  {
   "cell_type": "code",
   "execution_count": 47,
   "metadata": {
    "ExecuteTime": {
     "end_time": "2018-11-12T01:40:23.223923Z",
     "start_time": "2018-11-12T01:40:22.323872Z"
    }
   },
   "outputs": [
    {
     "name": "stdout",
     "output_type": "stream",
     "text": [
      "(352, 7)\n"
     ]
    }
   ],
   "source": [
    "# 人工补录\n",
    "sql_human_additional = \"select t1.id, t1.group_id, date_format(t1.publishtime,'%%Y-%%m-%%d') as publishtime,  \\\n",
    "                            t1.gather_type, t1.sec, t1.title, t2.text as content\\\n",
    "                            from elint_web_docinfo t1, wise_web_docinfo_text t2\\\n",
    "                                where (date_format(publishtime, '%%Y-%%m-%%d') >= '{0}' and \\\n",
    "                                      date_format(publishtime, '%%Y-%%m-%%d') <= '{1}') and \\\n",
    "                                      t1.id = t2.doc_id and \\\n",
    "                                      t1.gather_type = 1 \".format(add_start_day, add_end_day) \n",
    "\n",
    "human_additional = pd.read_sql(sql_human_additional, engine)\n",
    "print(human_additional.shape)\n",
    "# human_additional.head()"
   ]
  },
  {
   "cell_type": "code",
   "execution_count": 48,
   "metadata": {
    "ExecuteTime": {
     "end_time": "2018-11-12T01:40:29.936307Z",
     "start_time": "2018-11-12T01:40:23.228923Z"
    }
   },
   "outputs": [
    {
     "name": "stdout",
     "output_type": "stream",
     "text": [
      "(597, 7)\n"
     ]
    }
   ],
   "source": [
    "# 预警数据\n",
    "sql_warning =  \"select t1.id, t1.group_id, date_format(t1.publishtime,'%%Y-%%m-%%d') as publishtime,  \\\n",
    "                            t1.gather_type, t1.sec, t1.title, t2.text as content\\\n",
    "                            from elint_web_docinfo t1, wise_web_docinfo_text t2\\\n",
    "                                where (date_format(publishtime, '%%Y-%%m-%%d') >= '{0}' and \\\n",
    "                                      date_format(publishtime, '%%Y-%%m-%%d') <= '{1}') and \\\n",
    "                                      t1.id = t2.doc_id and \\\n",
    "                                      t1.sec in (7,8,9) \".format(add_start_day, add_end_day)  \n",
    "\n",
    "warning = pd.read_sql(sql_warning, engine)\n",
    "print(warning.shape)\n",
    "# warning.head()"
   ]
  },
  {
   "cell_type": "code",
   "execution_count": 49,
   "metadata": {
    "ExecuteTime": {
     "end_time": "2018-11-12T01:40:30.041313Z",
     "start_time": "2018-11-12T01:40:29.943308Z"
    }
   },
   "outputs": [
    {
     "name": "stdout",
     "output_type": "stream",
     "text": [
      "去重前 (949, 7)\n",
      "去重后 (598, 7)\n"
     ]
    }
   ],
   "source": [
    "combined_data = pd.concat([human_additional, warning])\n",
    "print('去重前', combined_data.shape)\n",
    "combined_data = combined_data.drop_duplicates(subset = 'id')\n",
    "print('去重后', combined_data.shape)\n",
    "\n",
    "combined_data['group_id'] = combined_data['group_id'].apply(lambda x:group_dict[str(x)])\n",
    "combined_data['gather_type'] = combined_data['gather_type'].replace(0, '系统采集').replace(1, '人工补录').replace(2, '人工修改')\n",
    "combined_data['submited'] = combined_data['sec'].apply(lambda x: '预警' if x in [7,8,9] else '不预警')\n",
    "# combined_data.head()"
   ]
  },
  {
   "cell_type": "code",
   "execution_count": 50,
   "metadata": {
    "ExecuteTime": {
     "end_time": "2018-11-12T01:40:30.057314Z",
     "start_time": "2018-11-12T01:40:30.044313Z"
    }
   },
   "outputs": [
    {
     "data": {
      "text/plain": [
       "gather_type  group_id  submited\n",
       "4            微博        预警           42\n",
       "人工修改         外媒        预警            1\n",
       "             微信        预警            1\n",
       "             微博        预警           68\n",
       "             新闻        预警           50\n",
       "             新闻客户端     预警            2\n",
       "             纸媒        预警           73\n",
       "             论坛        预警            9\n",
       "人工补录         微信        预警            3\n",
       "             微博        预警          319\n",
       "             新闻        不预警           1\n",
       "                       预警           18\n",
       "             纸媒        预警            6\n",
       "             论坛        预警            5\n",
       "Name: id, dtype: int64"
      ]
     },
     "execution_count": 50,
     "metadata": {},
     "output_type": "execute_result"
    }
   ],
   "source": [
    "combined_data.groupby(['gather_type', 'group_id', 'submited'])['id'].count()"
   ]
  },
  {
   "cell_type": "code",
   "execution_count": 51,
   "metadata": {
    "ExecuteTime": {
     "end_time": "2018-11-12T01:40:37.359732Z",
     "start_time": "2018-11-12T01:40:30.061314Z"
    }
   },
   "outputs": [
    {
     "data": {
      "text/html": [
       "<div>\n",
       "<style scoped>\n",
       "    .dataframe tbody tr th:only-of-type {\n",
       "        vertical-align: middle;\n",
       "    }\n",
       "\n",
       "    .dataframe tbody tr th {\n",
       "        vertical-align: top;\n",
       "    }\n",
       "\n",
       "    .dataframe thead th {\n",
       "        text-align: right;\n",
       "    }\n",
       "</style>\n",
       "<table border=\"1\" class=\"dataframe\">\n",
       "  <thead>\n",
       "    <tr style=\"text-align: right;\">\n",
       "      <th></th>\n",
       "      <th>id</th>\n",
       "      <th>predict_label</th>\n",
       "      <th>label</th>\n",
       "      <th>cor</th>\n",
       "      <th>all_cor</th>\n",
       "    </tr>\n",
       "  </thead>\n",
       "  <tbody>\n",
       "    <tr>\n",
       "      <th>0</th>\n",
       "      <td>266631913</td>\n",
       "      <td>行业</td>\n",
       "      <td></td>\n",
       "      <td>1</td>\n",
       "      <td>1</td>\n",
       "    </tr>\n",
       "    <tr>\n",
       "      <th>1</th>\n",
       "      <td>266632075</td>\n",
       "      <td>行业</td>\n",
       "      <td></td>\n",
       "      <td>1</td>\n",
       "      <td>1</td>\n",
       "    </tr>\n",
       "    <tr>\n",
       "      <th>2</th>\n",
       "      <td>266676256</td>\n",
       "      <td>噪音</td>\n",
       "      <td></td>\n",
       "      <td>0</td>\n",
       "      <td>0</td>\n",
       "    </tr>\n",
       "    <tr>\n",
       "      <th>3</th>\n",
       "      <td>266683362</td>\n",
       "      <td>消费服务</td>\n",
       "      <td></td>\n",
       "      <td>1</td>\n",
       "      <td>1</td>\n",
       "    </tr>\n",
       "    <tr>\n",
       "      <th>4</th>\n",
       "      <td>266683767</td>\n",
       "      <td>消费服务</td>\n",
       "      <td></td>\n",
       "      <td>1</td>\n",
       "      <td>1</td>\n",
       "    </tr>\n",
       "  </tbody>\n",
       "</table>\n",
       "</div>"
      ],
      "text/plain": [
       "          id predict_label label  cor  all_cor\n",
       "0  266631913            行业          1        1\n",
       "1  266632075            行业          1        1\n",
       "2  266676256            噪音          0        0\n",
       "3  266683362          消费服务          1        1\n",
       "4  266683767          消费服务          1        1"
      ]
     },
     "execution_count": 51,
     "metadata": {},
     "output_type": "execute_result"
    }
   ],
   "source": [
    "# predict\n",
    "data = {\"record\":combined_data.loc[:,['id', 'title' ,'content']].to_dict(orient = 'records')}\n",
    "# url = \"http://192.168.0.104:11000/judge_correlation_yjh\"\n",
    "url = \"http://47.93.77.19:6001/judge_correlation_yjh\"\n",
    "parse_data = get_server_res_yjh(data, url, 'sec')\n",
    "# parse_data.head()  \n",
    "\n",
    "parse_data.columns = ['id', 'predict_label']\n",
    "parse_data['predict_label'] = parse_data['predict_label'].apply(lambda x:class_name_dict[x])\n",
    "parse_data['label'] = ''\n",
    "parse_data['cor'] = parse_data['predict_label'].apply(lambda x:1 if x in ['监管', '行业', '经营管理', '消费服务'] else 0)\n",
    "parse_data['all_cor'] = parse_data['predict_label'].apply(lambda x:1 if x != '噪音' else 0)\n",
    "parse_data.head()"
   ]
  },
  {
   "cell_type": "code",
   "execution_count": 52,
   "metadata": {
    "ExecuteTime": {
     "end_time": "2018-11-12T01:40:37.456737Z",
     "start_time": "2018-11-12T01:40:37.363732Z"
    },
    "collapsed": true
   },
   "outputs": [],
   "source": [
    "combined_data = pd.merge(combined_data, parse_data, on  = 'id')\n",
    "stat = combined_data.groupby(['group_id', 'gather_type', 'submited'])['id'].count().reset_index()\n",
    "\n",
    "# 补录\n",
    "stat_a = combined_data.groupby(['group_id', 'gather_type'])['id'].count().reset_index()\n",
    "stat_a = stat_a[stat_a['gather_type'] == '人工补录']\n",
    "\n",
    "# 补录且预警\n",
    "stat_a_w = combined_data[combined_data['submited'] == '预警'].groupby(['group_id', 'gather_type'])['id'].count().reset_index()\n",
    "stat_a_w = stat_a_w[stat_a_w['gather_type'] == '人工补录']\n",
    "\n",
    "# 预警\n",
    "stat_w = combined_data.groupby(['group_id', 'submited'])['id'].count().reset_index()\n",
    "stat_w = stat_w[stat_w['submited'] == '预警']\n",
    "\n",
    "# 补录-过算法\n",
    "stat_a_cor = combined_data[combined_data['gather_type'] == '人工补录'].groupby(['group_id', 'cor'])['id'].count().reset_index()\n",
    "stat_a_cor = stat_a_cor[stat_a_cor['cor'] == 1]\n",
    "\n",
    "# 补录且预警-过算法\n",
    "stat_a_w_cor = combined_data[(combined_data['submited'] == '预警') & \\\n",
    "                             (combined_data['gather_type'] == '人工补录')\\\n",
    "                            ].groupby(['group_id', 'cor'])['id'].count().reset_index()\n",
    "stat_a_w_cor = stat_a_w_cor[stat_a_w_cor['cor'] == 1]\n",
    "\n",
    "# 补录-过算法\n",
    "stat_a_cor_7 = combined_data[combined_data['gather_type'] == '人工补录'].groupby(['group_id', 'all_cor'])['id'].count().reset_index()\n",
    "stat_a_cor_7 = stat_a_cor_7[stat_a_cor_7['all_cor'] == 1]\n",
    "\n",
    "# 补录且预警-过算法\n",
    "stat_a_w_cor_7 = combined_data[(combined_data['submited'] == '预警') & \\\n",
    "                             (combined_data['gather_type'] == '人工补录')\\\n",
    "                            ].groupby(['group_id', 'all_cor'])['id'].count().reset_index()\n",
    "stat_a_w_cor_7 = stat_a_w_cor_7[stat_a_w_cor_7['all_cor'] == 1]"
   ]
  },
  {
   "cell_type": "code",
   "execution_count": 53,
   "metadata": {
    "ExecuteTime": {
     "end_time": "2018-11-12T01:40:37.514741Z",
     "start_time": "2018-11-12T01:40:37.458737Z"
    },
    "collapsed": true
   },
   "outputs": [],
   "source": [
    "stat_a = stat_a[['group_id', 'id']]\n",
    "stat_a.columns = ['来源', '补录']\n",
    "stat_a_w = stat_a_w[['group_id', 'id']]\n",
    "stat_a_w.columns = ['来源', '补录且预警']\n",
    "stat_w = stat_w[['group_id', 'id']]\n",
    "stat_w.columns = ['来源', '预警数量']\n",
    "stat_a_cor = stat_a_cor[['group_id', 'id']]\n",
    "stat_a_cor.columns = ['来源', '补录&过算法(4类)']\n",
    "stat_a_w_cor = stat_a_w_cor[['group_id', 'id']]\n",
    "stat_a_w_cor.columns = ['来源', '补录且预警&过算法(4类)']\n",
    "stat_a_cor_7 = stat_a_cor_7[['group_id', 'id']]\n",
    "stat_a_cor_7.columns = ['来源', '补录&过算法(7类)']\n",
    "stat_a_w_cor_7 = stat_a_w_cor_7[['group_id', 'id']]\n",
    "stat_a_w_cor_7.columns = ['来源', '补录且预警&过算法(7类)']"
   ]
  },
  {
   "cell_type": "code",
   "execution_count": 54,
   "metadata": {
    "ExecuteTime": {
     "end_time": "2018-11-12T01:40:37.622747Z",
     "start_time": "2018-11-12T01:40:37.516741Z"
    }
   },
   "outputs": [
    {
     "data": {
      "text/html": [
       "<div>\n",
       "<style scoped>\n",
       "    .dataframe tbody tr th:only-of-type {\n",
       "        vertical-align: middle;\n",
       "    }\n",
       "\n",
       "    .dataframe tbody tr th {\n",
       "        vertical-align: top;\n",
       "    }\n",
       "\n",
       "    .dataframe thead th {\n",
       "        text-align: right;\n",
       "    }\n",
       "</style>\n",
       "<table border=\"1\" class=\"dataframe\">\n",
       "  <thead>\n",
       "    <tr style=\"text-align: right;\">\n",
       "      <th></th>\n",
       "      <th>group_id</th>\n",
       "      <th>gather_type</th>\n",
       "      <th>submited</th>\n",
       "      <th>id</th>\n",
       "    </tr>\n",
       "  </thead>\n",
       "  <tbody>\n",
       "    <tr>\n",
       "      <th>0</th>\n",
       "      <td>外媒</td>\n",
       "      <td>人工修改</td>\n",
       "      <td>预警</td>\n",
       "      <td>1</td>\n",
       "    </tr>\n",
       "    <tr>\n",
       "      <th>1</th>\n",
       "      <td>微信</td>\n",
       "      <td>人工修改</td>\n",
       "      <td>预警</td>\n",
       "      <td>1</td>\n",
       "    </tr>\n",
       "    <tr>\n",
       "      <th>2</th>\n",
       "      <td>微信</td>\n",
       "      <td>人工补录</td>\n",
       "      <td>预警</td>\n",
       "      <td>3</td>\n",
       "    </tr>\n",
       "    <tr>\n",
       "      <th>3</th>\n",
       "      <td>微博</td>\n",
       "      <td>4</td>\n",
       "      <td>预警</td>\n",
       "      <td>42</td>\n",
       "    </tr>\n",
       "    <tr>\n",
       "      <th>4</th>\n",
       "      <td>微博</td>\n",
       "      <td>人工修改</td>\n",
       "      <td>预警</td>\n",
       "      <td>68</td>\n",
       "    </tr>\n",
       "    <tr>\n",
       "      <th>5</th>\n",
       "      <td>微博</td>\n",
       "      <td>人工补录</td>\n",
       "      <td>预警</td>\n",
       "      <td>319</td>\n",
       "    </tr>\n",
       "    <tr>\n",
       "      <th>6</th>\n",
       "      <td>新闻</td>\n",
       "      <td>人工修改</td>\n",
       "      <td>预警</td>\n",
       "      <td>50</td>\n",
       "    </tr>\n",
       "    <tr>\n",
       "      <th>7</th>\n",
       "      <td>新闻</td>\n",
       "      <td>人工补录</td>\n",
       "      <td>不预警</td>\n",
       "      <td>1</td>\n",
       "    </tr>\n",
       "    <tr>\n",
       "      <th>8</th>\n",
       "      <td>新闻</td>\n",
       "      <td>人工补录</td>\n",
       "      <td>预警</td>\n",
       "      <td>18</td>\n",
       "    </tr>\n",
       "    <tr>\n",
       "      <th>9</th>\n",
       "      <td>新闻客户端</td>\n",
       "      <td>人工修改</td>\n",
       "      <td>预警</td>\n",
       "      <td>2</td>\n",
       "    </tr>\n",
       "    <tr>\n",
       "      <th>10</th>\n",
       "      <td>纸媒</td>\n",
       "      <td>人工修改</td>\n",
       "      <td>预警</td>\n",
       "      <td>73</td>\n",
       "    </tr>\n",
       "    <tr>\n",
       "      <th>11</th>\n",
       "      <td>纸媒</td>\n",
       "      <td>人工补录</td>\n",
       "      <td>预警</td>\n",
       "      <td>6</td>\n",
       "    </tr>\n",
       "    <tr>\n",
       "      <th>12</th>\n",
       "      <td>论坛</td>\n",
       "      <td>人工修改</td>\n",
       "      <td>预警</td>\n",
       "      <td>9</td>\n",
       "    </tr>\n",
       "    <tr>\n",
       "      <th>13</th>\n",
       "      <td>论坛</td>\n",
       "      <td>人工补录</td>\n",
       "      <td>预警</td>\n",
       "      <td>5</td>\n",
       "    </tr>\n",
       "  </tbody>\n",
       "</table>\n",
       "</div>"
      ],
      "text/plain": [
       "   group_id gather_type submited   id\n",
       "0        外媒        人工修改       预警    1\n",
       "1        微信        人工修改       预警    1\n",
       "2        微信        人工补录       预警    3\n",
       "3        微博           4       预警   42\n",
       "4        微博        人工修改       预警   68\n",
       "5        微博        人工补录       预警  319\n",
       "6        新闻        人工修改       预警   50\n",
       "7        新闻        人工补录      不预警    1\n",
       "8        新闻        人工补录       预警   18\n",
       "9     新闻客户端        人工修改       预警    2\n",
       "10       纸媒        人工修改       预警   73\n",
       "11       纸媒        人工补录       预警    6\n",
       "12       论坛        人工修改       预警    9\n",
       "13       论坛        人工补录       预警    5"
      ]
     },
     "execution_count": 54,
     "metadata": {},
     "output_type": "execute_result"
    }
   ],
   "source": [
    "stat"
   ]
  },
  {
   "cell_type": "code",
   "execution_count": 55,
   "metadata": {
    "ExecuteTime": {
     "end_time": "2018-11-12T01:40:37.772755Z",
     "start_time": "2018-11-12T01:40:37.630747Z"
    }
   },
   "outputs": [
    {
     "data": {
      "text/html": [
       "<div>\n",
       "<style scoped>\n",
       "    .dataframe tbody tr th:only-of-type {\n",
       "        vertical-align: middle;\n",
       "    }\n",
       "\n",
       "    .dataframe tbody tr th {\n",
       "        vertical-align: top;\n",
       "    }\n",
       "\n",
       "    .dataframe thead th {\n",
       "        text-align: right;\n",
       "    }\n",
       "</style>\n",
       "<table border=\"1\" class=\"dataframe\">\n",
       "  <thead>\n",
       "    <tr style=\"text-align: right;\">\n",
       "      <th>来源</th>\n",
       "      <th>微信</th>\n",
       "      <th>微博</th>\n",
       "      <th>新闻</th>\n",
       "      <th>纸媒</th>\n",
       "      <th>论坛</th>\n",
       "      <th>总量</th>\n",
       "    </tr>\n",
       "    <tr>\n",
       "      <th>保监会：2018-10-27 到 2018-11-02</th>\n",
       "      <th></th>\n",
       "      <th></th>\n",
       "      <th></th>\n",
       "      <th></th>\n",
       "      <th></th>\n",
       "      <th></th>\n",
       "    </tr>\n",
       "  </thead>\n",
       "  <tbody>\n",
       "    <tr>\n",
       "      <th>补录</th>\n",
       "      <td>3.000</td>\n",
       "      <td>319.000</td>\n",
       "      <td>19.000</td>\n",
       "      <td>6.000</td>\n",
       "      <td>5.000</td>\n",
       "      <td>352.000</td>\n",
       "    </tr>\n",
       "    <tr>\n",
       "      <th>预警数量</th>\n",
       "      <td>4.000</td>\n",
       "      <td>429.000</td>\n",
       "      <td>68.000</td>\n",
       "      <td>79.000</td>\n",
       "      <td>14.000</td>\n",
       "      <td>594.000</td>\n",
       "    </tr>\n",
       "    <tr>\n",
       "      <th>补录且预警</th>\n",
       "      <td>3.000</td>\n",
       "      <td>319.000</td>\n",
       "      <td>18.000</td>\n",
       "      <td>6.000</td>\n",
       "      <td>5.000</td>\n",
       "      <td>351.000</td>\n",
       "    </tr>\n",
       "    <tr>\n",
       "      <th>补录&amp;过算法(4类)</th>\n",
       "      <td>3.000</td>\n",
       "      <td>302.000</td>\n",
       "      <td>12.000</td>\n",
       "      <td>5.000</td>\n",
       "      <td>4.000</td>\n",
       "      <td>326.000</td>\n",
       "    </tr>\n",
       "    <tr>\n",
       "      <th>补录且预警&amp;过算法(4类)</th>\n",
       "      <td>3.000</td>\n",
       "      <td>302.000</td>\n",
       "      <td>11.000</td>\n",
       "      <td>5.000</td>\n",
       "      <td>4.000</td>\n",
       "      <td>325.000</td>\n",
       "    </tr>\n",
       "    <tr>\n",
       "      <th>补录&amp;过算法(7类)</th>\n",
       "      <td>3.000</td>\n",
       "      <td>315.000</td>\n",
       "      <td>17.000</td>\n",
       "      <td>6.000</td>\n",
       "      <td>4.000</td>\n",
       "      <td>345.000</td>\n",
       "    </tr>\n",
       "    <tr>\n",
       "      <th>补录且预警&amp;过算法(7类)</th>\n",
       "      <td>3.000</td>\n",
       "      <td>315.000</td>\n",
       "      <td>16.000</td>\n",
       "      <td>6.000</td>\n",
       "      <td>4.000</td>\n",
       "      <td>344.000</td>\n",
       "    </tr>\n",
       "    <tr>\n",
       "      <th>补录且预警 / 预警-比例</th>\n",
       "      <td>75%</td>\n",
       "      <td>74%</td>\n",
       "      <td>26%</td>\n",
       "      <td>8%</td>\n",
       "      <td>36%</td>\n",
       "      <td>59%</td>\n",
       "    </tr>\n",
       "  </tbody>\n",
       "</table>\n",
       "</div>"
      ],
      "text/plain": [
       "来源                             微信      微博     新闻     纸媒     论坛      总量\n",
       "保监会：2018-10-27 到 2018-11-02                                           \n",
       "补录                          3.000 319.000 19.000  6.000  5.000 352.000\n",
       "预警数量                        4.000 429.000 68.000 79.000 14.000 594.000\n",
       "补录且预警                       3.000 319.000 18.000  6.000  5.000 351.000\n",
       "补录&过算法(4类)                  3.000 302.000 12.000  5.000  4.000 326.000\n",
       "补录且预警&过算法(4类)               3.000 302.000 11.000  5.000  4.000 325.000\n",
       "补录&过算法(7类)                  3.000 315.000 17.000  6.000  4.000 345.000\n",
       "补录且预警&过算法(7类)               3.000 315.000 16.000  6.000  4.000 344.000\n",
       "补录且预警 / 预警-比例                 75%     74%    26%     8%    36%     59%"
      ]
     },
     "execution_count": 55,
     "metadata": {},
     "output_type": "execute_result"
    }
   ],
   "source": [
    "stat = pd.merge(stat_a, stat_w, on = '来源', how = 'outer')\n",
    "stat = pd.merge(stat, stat_a_w, on = '来源', how = 'outer')\n",
    "stat = pd.merge(stat, stat_a_cor, on = '来源')\n",
    "stat = pd.merge(stat, stat_a_w_cor, on = '来源')\n",
    "stat = pd.merge(stat, stat_a_cor_7, on = '来源', how = 'outer')\n",
    "stat = pd.merge(stat, stat_a_w_cor_7, on = '来源', how = 'outer')\n",
    "stat = stat.set_index('来源').stack().unstack(0)\n",
    "stat = stat.fillna(0)\n",
    "stat['总量'] =  stat.sum(axis = 1)\n",
    "stat.loc['补录且预警 / 预警-比例'] = stat.loc['补录且预警'] / stat.loc['预警数量'] \n",
    "stat.loc['补录且预警 / 预警-比例'] = stat.loc['补录且预警 / 预警-比例'].apply(lambda x: '{:.0f}%'.format(x*100))\n",
    "# stat.loc['补录且预警 / 补录-比例'] = stat.loc['补录且预警'] / stat.loc['补录'] \n",
    "# stat.loc['补录且预警 / 补录-比例'] = stat.loc['补录且预警 / 补录-比例'].apply(lambda x: '{:.0f}%'.format(x*100))\n",
    "# stat.loc['补录&过算法(4类) / 补录-比例'] = stat.loc['补录&过算法(4类)'] / stat.loc['补录'] \n",
    "# stat.loc['补录&过算法(4类) / 补录-比例'] = stat.loc['补录&过算法(4类) / 补录-比例'].apply(lambda x: '{:.0f}%'.format(x*100))\n",
    "# stat.loc['补录且预警&过算法(4类) / 预警-比例'] = stat.loc['补录且预警&过算法(4类)'] / stat.loc['预警数量'] \n",
    "# stat.loc['补录且预警&过算法(4类) / 预警-比例'] = stat.loc['补录且预警&过算法(4类) / 预警-比例'].apply(lambda x: '{:.0f}%'.format(x*100))\n",
    "# stat.loc['补录&过算法(7类) / 补录-比例'] = stat.loc['补录&过算法(7类)'] / stat.loc['补录'] \n",
    "# stat.loc['补录&过算法(7类) / 补录-比例'] = stat.loc['补录&过算法(7类) / 补录-比例'].apply(lambda x: '{:.0f}%'.format(x*100))\n",
    "# stat.loc['补录且预警&过算法(7类) / 补录且预警-比例'] = stat.loc['补录且预警&过算法(7类)'] / stat.loc['补录且预警'] \n",
    "# stat.loc['补录且预警&过算法(7类) / 补录且预警-比例'] = stat.loc['补录且预警&过算法(7类) / 补录且预警-比例'].apply(lambda x: '{:.0f}%'.format(x*100))\n",
    "stat.index.name = '保监会：{0} 到 {1}'.format(add_start_day, add_end_day)\n",
    "stat.fillna(0)"
   ]
  },
  {
   "cell_type": "markdown",
   "metadata": {},
   "source": [
    "### 导出一段时间补录数据用于训练"
   ]
  },
  {
   "cell_type": "code",
   "execution_count": 56,
   "metadata": {
    "ExecuteTime": {
     "end_time": "2018-11-12T01:40:37.851760Z",
     "start_time": "2018-11-12T01:40:37.779756Z"
    },
    "collapsed": true
   },
   "outputs": [],
   "source": [
    "# 人工补录\n",
    "sql_human_additional = \"select t1.id, t1.group_id, date_format(t1.publishtime,'%%Y-%%m-%%d') as publishtime,  \\\n",
    "                            t1.gather_type, t1.sec, t1.title, t2.text as content\\\n",
    "                            from elint_web_docinfo t1, wise_web_docinfo_text t2\\\n",
    "                                where (date_format(publishtime, '%%Y-%%m-%%d') >= '{0}' and \\\n",
    "                                      date_format(publishtime, '%%Y-%%m-%%d') <= '{1}') and \\\n",
    "                                      t1.id = t2.doc_id and \\\n",
    "                                      t1.gather_type = 1 \".format('2018-08-20', '2018-09-16') \n",
    "\n",
    "# human_additional = pd.read_sql(sql_human_additional, engine)\n",
    "# print(human_additional.shape)\n",
    "# human_additional.head()"
   ]
  },
  {
   "cell_type": "code",
   "execution_count": 57,
   "metadata": {
    "ExecuteTime": {
     "end_time": "2018-11-12T01:40:37.918764Z",
     "start_time": "2018-11-12T01:40:37.855760Z"
    },
    "collapsed": true
   },
   "outputs": [],
   "source": [
    "# 预警数据\n",
    "sql_warning =  \"select t1.id, t1.group_id, date_format(t1.publishtime,'%%Y-%%m-%%d') as publishtime,  \\\n",
    "                            t1.gather_type, t1.sec, t1.title, t2.text as content\\\n",
    "                            from elint_web_docinfo t1, wise_web_docinfo_text t2\\\n",
    "                                where (date_format(publishtime, '%%Y-%%m-%%d') >= '{0}' and \\\n",
    "                                      date_format(publishtime, '%%Y-%%m-%%d') <= '{1}') and \\\n",
    "                                      t1.id = t2.doc_id and \\\n",
    "                                      t1.sec in (7,8,9) \".format('2018-08-20', '2018-09-16') \n",
    "\n",
    "# warning = pd.read_sql(sql_warning, engine)\n",
    "# print(warning.shape)\n",
    "# warning.head()"
   ]
  },
  {
   "cell_type": "code",
   "execution_count": 58,
   "metadata": {
    "ExecuteTime": {
     "end_time": "2018-11-12T01:40:38.025770Z",
     "start_time": "2018-11-12T01:40:37.922764Z"
    },
    "collapsed": true
   },
   "outputs": [],
   "source": [
    "if 0:\n",
    "    # url = \"http://192.168.0.104:11000/judge_correlation_yjh\"\n",
    "    url = \"http://47.93.77.19:6001/judge_correlation_yjh\"\n",
    "    folder = 'cbrc_result_class'\n",
    "    filename = 'cbrc_add&warning_20180917(0820-0916).xlsx'\n",
    "    get_period_data_for_training(human_additional, warning, url, folder, filename, 'cbrc')"
   ]
  },
  {
   "cell_type": "markdown",
   "metadata": {},
   "source": [
    "# 银保监会--新"
   ]
  },
  {
   "cell_type": "markdown",
   "metadata": {},
   "source": [
    "## 特殊时间点"
   ]
  },
  {
   "cell_type": "code",
   "execution_count": 59,
   "metadata": {
    "ExecuteTime": {
     "end_time": "2018-11-12T01:40:48.168350Z",
     "start_time": "2018-11-12T01:40:38.034770Z"
    },
    "collapsed": true
   },
   "outputs": [],
   "source": [
    "engine = specific_func.get_engine('cbirc')"
   ]
  },
  {
   "cell_type": "code",
   "execution_count": 60,
   "metadata": {
    "ExecuteTime": {
     "end_time": "2018-11-12T01:40:48.182351Z",
     "start_time": "2018-11-12T01:40:48.176350Z"
    },
    "collapsed": true
   },
   "outputs": [],
   "source": [
    "cbirc_day_thing = [['2018-05-02', '相关性模型'], \n",
    "             ['2018-06-01', '更新相关性模型'], \n",
    "             ['2018-06-12', '更新相关性模型'], \n",
    "             ['2018-06-12', '上线倾向性模型']\n",
    "            ]"
   ]
  },
  {
   "cell_type": "code",
   "execution_count": null,
   "metadata": {
    "ExecuteTime": {
     "start_time": "2018-11-12T01:23:39.643Z"
    }
   },
   "outputs": [
    {
     "name": "stdout",
     "output_type": "stream",
     "text": [
      "start_day： 2018-11-04\n",
      "end_day： 2018-11-11\n"
     ]
    }
   ],
   "source": [
    "start_day = today - datetime.timedelta(days=8) # 30 天\n",
    "start_day = start_day.strftime(\"%Y-%m-%d\") # '2018-08-12'  # 含\n",
    "end_day = yesterday_str    # 含\n",
    "print('start_day：',start_day)\n",
    "print('end_day：',end_day)"
   ]
  },
  {
   "cell_type": "markdown",
   "metadata": {},
   "source": [
    "## 八分类"
   ]
  },
  {
   "cell_type": "code",
   "execution_count": null,
   "metadata": {
    "ExecuteTime": {
     "start_time": "2018-11-12T01:23:39.650Z"
    }
   },
   "outputs": [],
   "source": [
    "sql_cbirc = '''\n",
    "SELECT \n",
    "    DATE_FORMAT(t3.publishtime, '%%Y-%%m-%%d') AS publishtime,\n",
    "    t2.type,\n",
    "    t1.traffic_id AS classify,\n",
    "    COUNT(t1.id) AS count\n",
    "FROM\n",
    "    cbrc_circ.db_classify_traffic_docinfo t1\n",
    "        LEFT JOIN\n",
    "    cbrc_circ.db_docinfo_trade t2 ON t1.urlhash = t2.urlhash\n",
    "        LEFT JOIN\n",
    "    cbrc_circ.db_docinfo t3 ON t2.urlhash = t3.urlhash\n",
    "WHERE\n",
    "    date_format(t3.publishtime, '%%Y-%%m-%%d') >= '{0}'\n",
    "        AND date_format(t3.publishtime, '%%Y-%%m-%%d') <= '{1}'\n",
    "GROUP BY DATE_FORMAT(t3.publishtime, '%%Y-%%m-%%d') , t2.type , t1.traffic_id\n",
    "'''.format(start_day, end_day)\n",
    "\n",
    "cbirc_count = pd.read_sql(sql_cbirc, engine)\n",
    "cbirc_count['classify'] = cbirc_count['classify'].apply(lambda x:class_name_dict[x])\n",
    "print(cbirc_count.shape)\n",
    "print(cbirc_count.info(memory_usage = 'deep'))\n",
    "cbirc_count.head()"
   ]
  },
  {
   "cell_type": "code",
   "execution_count": null,
   "metadata": {
    "ExecuteTime": {
     "start_time": "2018-11-12T01:23:39.656Z"
    }
   },
   "outputs": [],
   "source": [
    "print(cbirc_count['count'].sum())\n",
    "cbirc_count.pivot_table(index = ['publishtime'], columns = ['type'], \n",
    "                        aggfunc = [np.sum], values = ['count'], \n",
    "                        fill_value = 0, margins = True)"
   ]
  },
  {
   "cell_type": "code",
   "execution_count": null,
   "metadata": {
    "ExecuteTime": {
     "start_time": "2018-11-12T01:23:39.661Z"
    },
    "collapsed": true
   },
   "outputs": [],
   "source": [
    "# sql_1 = '''\n",
    "# select \n",
    "#     t1.urlhash, t1.type, date_format(t2.publishtime,'%%Y-%%m-%%d') as publishtime\n",
    "# from \n",
    "#     db_docinfo_trade t1, db_docinfo t2\n",
    "# where (date_format(t2.publishtime, '%%Y-%%m-%%d') >= '{0}' and \n",
    "#       date_format(t2.publishtime, '%%Y-%%m-%%d') <= '{1}') and\n",
    "#       t1.urlhash = t2.urlhash'''.format(start_day, end_day) \n",
    "\n",
    "# cbirc_count_1 = pd.read_sql(sql_1, engine)\n",
    "# print(cbirc_count_1.shape)\n",
    "# print(cbirc_count_1.info(memory_usage = 'deep'))\n",
    "# cbirc_count_1.head()"
   ]
  },
  {
   "cell_type": "code",
   "execution_count": null,
   "metadata": {
    "ExecuteTime": {
     "start_time": "2018-11-12T01:23:39.666Z"
    },
    "collapsed": true
   },
   "outputs": [],
   "source": [
    "# sql_2 = '''\n",
    "# select \n",
    "#     t1.urlhash, t1.traffic_id as classify\n",
    "# from \n",
    "#     db_classify_traffic_docinfo t1, db_docinfo t2\n",
    "# where (date_format(t2.publishtime, '%%Y-%%m-%%d') >= '{0}' and \n",
    "#       date_format(t2.publishtime, '%%Y-%%m-%%d') <= '{1}') and\n",
    "#       t1.urlhash = t2.urlhash'''.format(start_day, end_day) \n",
    "\n",
    "# cbirc_count_2 = pd.read_sql(sql_2, engine)\n",
    "# print(cbirc_count_2.shape)\n",
    "# print(cbirc_count_2.info(memory_usage = 'deep'))\n",
    "# cbirc_count_2.head()"
   ]
  },
  {
   "cell_type": "code",
   "execution_count": null,
   "metadata": {
    "ExecuteTime": {
     "start_time": "2018-11-12T01:23:39.671Z"
    },
    "collapsed": true
   },
   "outputs": [],
   "source": [
    "# cbirc_merge = pd.merge(cbirc_count_1, cbirc_count_2, on = 'urlhash', how = 'inner')\n",
    "# print(cbirc_merge.shape)\n",
    "# cbirc_merge.head()"
   ]
  },
  {
   "cell_type": "code",
   "execution_count": null,
   "metadata": {
    "ExecuteTime": {
     "start_time": "2018-11-12T01:23:39.677Z"
    },
    "collapsed": true
   },
   "outputs": [],
   "source": [
    "# cbirc_merge.pivot_table(index = ['publishtime'], columns = ['type'], \n",
    "#                         aggfunc = [len], values = ['urlhash'], \n",
    "#                         fill_value = 0, margins = True)"
   ]
  },
  {
   "cell_type": "code",
   "execution_count": null,
   "metadata": {
    "ExecuteTime": {
     "start_time": "2018-11-12T01:23:39.682Z"
    },
    "collapsed": true
   },
   "outputs": [],
   "source": [
    "# cbirc_count = cbirc_merge.groupby(['type', 'publishtime', 'classify'])['urlhash'].count().reset_index()\n",
    "# cbirc_count.columns = ['type', 'publishtime', 'classify', 'count']\n",
    "# cbirc_count.sort_values(by = 'publishtime', ascending = False).head()"
   ]
  },
  {
   "cell_type": "markdown",
   "metadata": {
    "collapsed": true
   },
   "source": [
    "### 银监会"
   ]
  },
  {
   "cell_type": "code",
   "execution_count": null,
   "metadata": {
    "ExecuteTime": {
     "start_time": "2018-11-12T01:23:39.691Z"
    }
   },
   "outputs": [],
   "source": [
    "class_count = cbirc_count[cbirc_count['type'] == 1].drop('type', axis = 1)\n",
    "cor_class_1, cor_class, count_data_7, count_data_4 = get_class_data(class_count)\n",
    "cor_class_1.sort_index(ascending = False).head()"
   ]
  },
  {
   "cell_type": "code",
   "execution_count": null,
   "metadata": {
    "ExecuteTime": {
     "start_time": "2018-11-12T01:23:39.699Z"
    }
   },
   "outputs": [],
   "source": [
    "cor_class['rate'].reset_index().fillna(0).plot(x = 'publishtime', figsize = (15,6))\n",
    "cor_class.sort_index(ascending = False).head()"
   ]
  },
  {
   "cell_type": "code",
   "execution_count": null,
   "metadata": {
    "ExecuteTime": {
     "start_time": "2018-11-12T01:23:39.703Z"
    }
   },
   "outputs": [],
   "source": [
    "plot_cor(count_data_7, cbirc_day_thing, \"CBRC 8-class cor&uncor:7-1\")"
   ]
  },
  {
   "cell_type": "code",
   "execution_count": null,
   "metadata": {
    "ExecuteTime": {
     "start_time": "2018-11-12T01:23:39.708Z"
    }
   },
   "outputs": [],
   "source": [
    "plot_cor(count_data_4, cbirc_day_thing, \"CBRC 8-class cor&uncor:4-4\")"
   ]
  },
  {
   "cell_type": "code",
   "execution_count": null,
   "metadata": {
    "ExecuteTime": {
     "start_time": "2018-11-12T01:23:39.714Z"
    }
   },
   "outputs": [],
   "source": [
    "class_count = cbirc_count[cbirc_count['type'] == 1].drop('type', axis = 1)\n",
    "cor_class_1, cor_class, count_data_7, count_data_4 = get_class_data(class_count)\n",
    "cor_class_1.sort_index(ascending = False).head()"
   ]
  },
  {
   "cell_type": "code",
   "execution_count": null,
   "metadata": {
    "ExecuteTime": {
     "start_time": "2018-11-12T01:23:39.721Z"
    }
   },
   "outputs": [],
   "source": [
    "cor_class['rate'].reset_index().fillna(0).plot(x = 'publishtime', figsize = (15,6))\n",
    "cor_class.sort_index(ascending = False).head()"
   ]
  },
  {
   "cell_type": "code",
   "execution_count": null,
   "metadata": {
    "ExecuteTime": {
     "start_time": "2018-11-12T01:23:39.726Z"
    }
   },
   "outputs": [],
   "source": [
    "plot_cor(count_data_7, cbirc_day_thing, \"CBRC 8-class cor&uncor:7-1\")"
   ]
  },
  {
   "cell_type": "code",
   "execution_count": null,
   "metadata": {
    "ExecuteTime": {
     "start_time": "2018-11-12T01:23:39.731Z"
    }
   },
   "outputs": [],
   "source": [
    "plot_cor(count_data_4, cbirc_day_thing, \"CBRC 8-class cor&uncor:4-4\")"
   ]
  },
  {
   "cell_type": "markdown",
   "metadata": {},
   "source": [
    "### 保监会"
   ]
  },
  {
   "cell_type": "code",
   "execution_count": null,
   "metadata": {
    "ExecuteTime": {
     "start_time": "2018-11-12T01:23:39.737Z"
    }
   },
   "outputs": [],
   "source": [
    "class_count = cbirc_count[cbirc_count['type'] == 2].drop('type', axis = 1)\n",
    "cor_class_1, cor_class, count_data_7, count_data_4 = get_class_data(class_count)\n",
    "cor_class_1.sort_index(ascending = False).head()"
   ]
  },
  {
   "cell_type": "code",
   "execution_count": null,
   "metadata": {
    "ExecuteTime": {
     "start_time": "2018-11-12T01:23:39.744Z"
    }
   },
   "outputs": [],
   "source": [
    "cor_class['rate'].reset_index().fillna(0).plot(x = 'publishtime', figsize = (15,6))\n",
    "cor_class.sort_index(ascending = False).head()"
   ]
  },
  {
   "cell_type": "code",
   "execution_count": null,
   "metadata": {
    "ExecuteTime": {
     "start_time": "2018-11-12T01:23:39.751Z"
    }
   },
   "outputs": [],
   "source": [
    "plot_cor(count_data_7, cbirc_day_thing, \"CIRC 8-class cor&uncor:7-1\")"
   ]
  },
  {
   "cell_type": "code",
   "execution_count": null,
   "metadata": {
    "ExecuteTime": {
     "start_time": "2018-11-12T01:23:39.756Z"
    }
   },
   "outputs": [],
   "source": [
    "plot_cor(count_data_4, cbirc_day_thing, \"CIRC 8-class cor&uncor:4-4\")"
   ]
  },
  {
   "cell_type": "code",
   "execution_count": null,
   "metadata": {
    "collapsed": true
   },
   "outputs": [],
   "source": []
  },
  {
   "cell_type": "markdown",
   "metadata": {},
   "source": [
    "### 中国人寿"
   ]
  },
  {
   "cell_type": "code",
   "execution_count": null,
   "metadata": {
    "ExecuteTime": {
     "start_time": "2018-11-12T01:23:39.766Z"
    }
   },
   "outputs": [],
   "source": [
    "class_count = cbirc_count[cbirc_count['type'] == 3].drop('type', axis = 1)\n",
    "cor_class_1, cor_class, count_data_7, count_data_4 = get_class_data(class_count)\n",
    "cor_class_1.sort_index(ascending = False).head()"
   ]
  },
  {
   "cell_type": "code",
   "execution_count": null,
   "metadata": {
    "ExecuteTime": {
     "start_time": "2018-11-12T01:23:39.772Z"
    }
   },
   "outputs": [],
   "source": [
    "cor_class['rate'].reset_index().fillna(0).plot(x = 'publishtime', figsize = (15,6))\n",
    "cor_class.sort_index(ascending = False).head()"
   ]
  },
  {
   "cell_type": "code",
   "execution_count": null,
   "metadata": {
    "ExecuteTime": {
     "start_time": "2018-11-12T01:23:39.777Z"
    }
   },
   "outputs": [],
   "source": [
    "plot_cor(count_data_7, cbirc_day_thing, \"CLIC 8-class cor&uncor:7-1\")"
   ]
  },
  {
   "cell_type": "code",
   "execution_count": null,
   "metadata": {
    "ExecuteTime": {
     "start_time": "2018-11-12T01:23:39.782Z"
    }
   },
   "outputs": [],
   "source": [
    "plot_cor(count_data_4, cbirc_day_thing, \"CLIC 8-class cor&uncor:4-4\")"
   ]
  },
  {
   "cell_type": "markdown",
   "metadata": {},
   "source": [
    "### 建行北分"
   ]
  },
  {
   "cell_type": "code",
   "execution_count": null,
   "metadata": {
    "ExecuteTime": {
     "start_time": "2018-11-12T01:23:39.791Z"
    }
   },
   "outputs": [],
   "source": [
    "class_count = cbirc_count[cbirc_count['type'] == 4].drop('type', axis = 1)\n",
    "cor_class_1, cor_class, count_data_7, count_data_4 = get_class_data(class_count)\n",
    "cor_class_1.sort_index(ascending = False).head()"
   ]
  },
  {
   "cell_type": "code",
   "execution_count": null,
   "metadata": {
    "ExecuteTime": {
     "start_time": "2018-11-12T01:23:39.797Z"
    }
   },
   "outputs": [],
   "source": [
    "cor_class['rate'].reset_index().fillna(0).plot(x = 'publishtime', figsize = (15,6))\n",
    "cor_class.sort_index(ascending = False).head()"
   ]
  },
  {
   "cell_type": "code",
   "execution_count": null,
   "metadata": {
    "ExecuteTime": {
     "start_time": "2018-11-12T01:23:39.801Z"
    }
   },
   "outputs": [],
   "source": [
    "plot_cor(count_data_7, cbirc_day_thing, \"CCB 8-class cor&uncor:7-1\")"
   ]
  },
  {
   "cell_type": "code",
   "execution_count": null,
   "metadata": {
    "ExecuteTime": {
     "start_time": "2018-11-12T01:23:39.806Z"
    }
   },
   "outputs": [],
   "source": [
    "plot_cor(count_data_4, cbirc_day_thing, \"CCB 8-class cor&uncor:4-4\")"
   ]
  },
  {
   "cell_type": "markdown",
   "metadata": {},
   "source": [
    "## 倾向性"
   ]
  },
  {
   "cell_type": "code",
   "execution_count": null,
   "metadata": {
    "ExecuteTime": {
     "start_time": "2018-11-12T01:23:39.815Z"
    }
   },
   "outputs": [],
   "source": [
    "sql_tend = \"select date_format(t2.publishtime,'%%Y-%%m-%%d') as publishtime, t1.type, \\\n",
    "                    t1.sen as tendency, count(t1.id) as cor_count \\\n",
    "                            from db_docinfo_trade t1, db_docinfo t2 \\\n",
    "                                where (date_format(t2.publishtime, '%%Y-%%m-%%d') >= '{0}' and \\\n",
    "                                      date_format(t2.publishtime, '%%Y-%%m-%%d') <= '{1}') and \\\n",
    "                                      t1.urlhash = t2.urlhash \\\n",
    "                                group by date_format(t2.publishtime,'%%Y-%%m-%%d'), t1.type, t1.sen \\\n",
    "                                order by date_format(t2.publishtime,'%%Y-%%m-%%d') desc\".format(start_day, end_day) \n",
    "\n",
    "tend_count = pd.read_sql(sql_tend, engine)\n",
    "tend_count = tend_count[tend_count['tendency'] != 1]\n",
    "print(tend_count.shape)\n",
    "print(tend_count.info(memory_usage = 'deep'))\n",
    "tend_count.head()"
   ]
  },
  {
   "cell_type": "code",
   "execution_count": null,
   "metadata": {
    "ExecuteTime": {
     "start_time": "2018-11-12T01:23:39.820Z"
    }
   },
   "outputs": [],
   "source": [
    "print(tend_count['cor_count'].sum())\n",
    "tend_count.pivot_table(index = ['publishtime'], columns = ['type'], \n",
    "                        aggfunc = [np.sum], values = ['cor_count'], \n",
    "                        fill_value = 0, margins = True)"
   ]
  },
  {
   "cell_type": "markdown",
   "metadata": {},
   "source": [
    "### 银监会"
   ]
  },
  {
   "cell_type": "code",
   "execution_count": null,
   "metadata": {
    "ExecuteTime": {
     "start_time": "2018-11-12T01:23:39.827Z"
    }
   },
   "outputs": [],
   "source": [
    "plot_tend(tend_count[tend_count['type'] == 1].drop('type', axis = 1), cbirc_day_thing, \"CBRC - tendency \")"
   ]
  },
  {
   "cell_type": "markdown",
   "metadata": {},
   "source": [
    "### 保监会"
   ]
  },
  {
   "cell_type": "code",
   "execution_count": null,
   "metadata": {
    "ExecuteTime": {
     "start_time": "2018-11-12T01:23:39.833Z"
    }
   },
   "outputs": [],
   "source": [
    "plot_tend(tend_count[tend_count['type'] == 2].drop('type', axis = 1), cbirc_day_thing, \"CIRC - tendency \")"
   ]
  },
  {
   "cell_type": "markdown",
   "metadata": {},
   "source": [
    "### 中国人寿"
   ]
  },
  {
   "cell_type": "code",
   "execution_count": null,
   "metadata": {
    "ExecuteTime": {
     "start_time": "2018-11-12T01:23:39.841Z"
    }
   },
   "outputs": [],
   "source": [
    "plot_tend(tend_count[tend_count['type'] == 3].drop('type', axis = 1), cbirc_day_thing, \"CLIC - tendency \")"
   ]
  },
  {
   "cell_type": "markdown",
   "metadata": {},
   "source": [
    "### 建行北分"
   ]
  },
  {
   "cell_type": "code",
   "execution_count": null,
   "metadata": {
    "ExecuteTime": {
     "start_time": "2018-11-12T01:23:39.847Z"
    }
   },
   "outputs": [],
   "source": [
    "plot_tend(tend_count[tend_count['type'] == 4].drop('type', axis = 1), cbirc_day_thing, \"CCB - tendency \")"
   ]
  },
  {
   "cell_type": "markdown",
   "metadata": {},
   "source": [
    "## 补录和预警"
   ]
  },
  {
   "cell_type": "code",
   "execution_count": null,
   "metadata": {
    "collapsed": true
   },
   "outputs": [],
   "source": []
  },
  {
   "cell_type": "code",
   "execution_count": null,
   "metadata": {
    "collapsed": true
   },
   "outputs": [],
   "source": []
  }
 ],
 "metadata": {
  "kernelspec": {
   "display_name": "Python 3",
   "language": "python",
   "name": "python3"
  },
  "language_info": {
   "codemirror_mode": {
    "name": "ipython",
    "version": 3
   },
   "file_extension": ".py",
   "mimetype": "text/x-python",
   "name": "python",
   "nbconvert_exporter": "python",
   "pygments_lexer": "ipython3",
   "version": "3.6.3"
  },
  "toc": {
   "nav_menu": {},
   "number_sections": true,
   "sideBar": true,
   "skip_h1_title": false,
   "title_cell": "Table of Contents",
   "title_sidebar": "Contents",
   "toc_cell": false,
   "toc_position": {
    "height": "calc(100% - 180px)",
    "left": "10px",
    "top": "150px",
    "width": "376px"
   },
   "toc_section_display": true,
   "toc_window_display": true
  },
  "varInspector": {
   "cols": {
    "lenName": 16,
    "lenType": 16,
    "lenVar": 40
   },
   "kernels_config": {
    "python": {
     "delete_cmd_postfix": "",
     "delete_cmd_prefix": "del ",
     "library": "var_list.py",
     "varRefreshCmd": "print(var_dic_list())"
    },
    "r": {
     "delete_cmd_postfix": ") ",
     "delete_cmd_prefix": "rm(",
     "library": "var_list.r",
     "varRefreshCmd": "cat(var_dic_list()) "
    }
   },
   "types_to_exclude": [
    "module",
    "function",
    "builtin_function_or_method",
    "instance",
    "_Feature"
   ],
   "window_display": false
  }
 },
 "nbformat": 4,
 "nbformat_minor": 2
}
