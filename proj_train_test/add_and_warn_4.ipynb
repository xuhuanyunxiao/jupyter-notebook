{
 "cells": [
  {
   "cell_type": "markdown",
   "metadata": {},
   "source": [
    "# 本文件说明\n",
    "- 统计分析\n",
    "> - 八分类模型数据：噪音与非噪音\n",
    "> - 补录和预警数据"
   ]
  },
  {
   "cell_type": "markdown",
   "metadata": {},
   "source": [
    "# 基本设置"
   ]
  },
  {
   "cell_type": "code",
   "execution_count": 1,
   "metadata": {
    "ExecuteTime": {
     "end_time": "2018-12-04T01:35:00.382609Z",
     "start_time": "2018-12-04T01:34:56.790404Z"
    },
    "collapsed": true
   },
   "outputs": [],
   "source": [
    "import numpy as np\n",
    "import pandas as pd\n",
    "import os\n",
    "import datetime\n",
    "import time\n",
    "\n",
    "import requests,json\n",
    "from sklearn.externals import joblib\n",
    "\n",
    "import seaborn as sns\n",
    "import matplotlib as mpl\n",
    "import matplotlib.pyplot as plt\n",
    "%matplotlib inline\n",
    "\n",
    "import warnings\n",
    "warnings.filterwarnings('ignore')"
   ]
  },
  {
   "cell_type": "code",
   "execution_count": 2,
   "metadata": {
    "ExecuteTime": {
     "end_time": "2018-12-04T01:35:00.724629Z",
     "start_time": "2018-12-04T01:35:00.391610Z"
    },
    "collapsed": true
   },
   "outputs": [],
   "source": [
    "from toolkits.setup.date_time import get_day_list\n",
    "from toolkits.setup import specific_func\n",
    "specific_func.set_ch_pd()"
   ]
  },
  {
   "cell_type": "markdown",
   "metadata": {},
   "source": [
    "## 一些函数"
   ]
  },
  {
   "cell_type": "code",
   "execution_count": 3,
   "metadata": {
    "ExecuteTime": {
     "end_time": "2018-12-04T01:35:00.814634Z",
     "start_time": "2018-12-04T01:35:00.730629Z"
    },
    "collapsed": true
   },
   "outputs": [],
   "source": [
    "def plot_cor(count_data, day_thing, title):\n",
    "    fig = plt.figure(figsize = (15,6))\n",
    "    ax1 = fig.add_subplot(111)\n",
    "    rects = count_data[['al_cor', 'al_uncor']].plot(kind = 'bar', ax = ax1, alpha=0.5, stacked=True)\n",
    "    ax1.set_ylabel('num', fontsize = 16)\n",
    "    ax1.set_title(title, fontsize = 20)\n",
    "    ax1.legend(['al-cor', 'al-uncor'], loc='upper left')\n",
    "\n",
    "    ax2 = ax1.twinx()  # this is the important function\n",
    "    count_data[['al_cor_rate', 'al_uncor_rate']].plot(x = count_data['publishtime'],\n",
    "                                              kind = 'line', ax = ax2, marker = 'D')\n",
    "    ax2.set_ylabel('rate', fontsize = 16)\n",
    "    ax2.set_xlabel('publishtime', fontsize = 16)\n",
    "    ax2.set_ylim(0, 1)\n",
    "    ax2.legend(['al-cor-rate', 'al-uncor-rate'], loc='upper center')\n",
    "\n",
    "    y_list = [0.65, 0.75, 0.85, 0.95]\n",
    "    m = 0\n",
    "    for [d, t] in day_thing:    \n",
    "        if d in count_data['publishtime'].tolist():\n",
    "            x = count_data['publishtime'].tolist().index(d)\n",
    "            ax2.axvline(x=x, ymin = y_list[m] - 0.1, ymax = y_list[m] + 0.1, \n",
    "                        color='k', linestyle = \"--\", alpha = 0.75)\n",
    "            ax2.text(x - 0.25, y_list[m], t, va='center', fontsize = 12)\n",
    "            if m == 3: \n",
    "                m = 0\n",
    "            else :\n",
    "                m += 1\n",
    "\n",
    "    plt.grid(True, linestyle = \"--\", color = \"r\", alpha = 0.3) \n",
    "    plt.show()\n",
    "    \n",
    "    now = datetime.datetime.now().strftime(\"%Y-%m-%d\")\n",
    "    plt.savefig(\"figure\\plot_cor\\%s_%s.jpg\"%(now, title))\n",
    "\n",
    "    print(count_data.sort_values(by = 'publishtime', ascending = False).head())"
   ]
  },
  {
   "cell_type": "code",
   "execution_count": 4,
   "metadata": {
    "ExecuteTime": {
     "end_time": "2018-12-04T01:35:00.959642Z",
     "start_time": "2018-12-04T01:35:00.818634Z"
    },
    "collapsed": true
   },
   "outputs": [],
   "source": [
    "def plot_tend(tend_count, day_thing, title):\n",
    "    tend_counts = tend_count.set_index([\"tendency\", 'publishtime']).unstack('tendency')\n",
    "    tend_counts.columns = ['neg', 'pos']\n",
    "    tend_counts['sum'] = tend_counts.sum(axis = 1)\n",
    "    tend_counts['neg_rate'] =  tend_counts['neg'] / tend_counts['sum']\n",
    "    tend_counts['pos_rate'] =  tend_counts['pos'] / tend_counts['sum']\n",
    "    tend_counts = tend_counts.reset_index('publishtime')\n",
    "\n",
    "    tend_counts = tend_counts.sort_values(by = 'publishtime')\n",
    "    fig = plt.figure(figsize = (15,6))\n",
    "    ax1 = fig.add_subplot(111)\n",
    "    tend_counts[['neg', 'pos']].plot(kind = 'bar', ax = ax1, alpha=0.5, stacked=True)\n",
    "    ax1.set_ylabel('N', fontsize = 16)\n",
    "    ax1.set_title(title, fontsize = 20)\n",
    "    ax1.legend(['neg N', 'pos N'], loc='upper left')\n",
    "\n",
    "    ax2 = ax1.twinx()  # this is the important function\n",
    "    tend_counts[['neg_rate', 'pos_rate']].plot(x = tend_counts['publishtime'],\n",
    "                                             kind = 'line', ax = ax2, marker = 'D')\n",
    "    ax2.set_ylabel('rate', fontsize = 16)\n",
    "    ax2.set_xlabel('publishtime', fontsize = 16)\n",
    "    ax2.set_ylim(0, 1)\n",
    "    ax2.legend(loc='upper center')\n",
    "    y_list = [0.65, 0.75, 0.85, 0.95]\n",
    "    m = 0\n",
    "    for [d, t] in day_thing:    \n",
    "        if d in tend_counts['publishtime'].tolist():\n",
    "            x = tend_counts['publishtime'].tolist().index(d)\n",
    "            ax2.axvline(x=x, ymin = y_list[m] - 0.1, ymax = y_list[m] + 0.1, \n",
    "                        color='k', linestyle = \"--\", alpha = 0.75)\n",
    "            ax2.text(x - 0.25, y_list[m], t, va='center', fontsize = 12)\n",
    "            if m == 3: \n",
    "                m = 0\n",
    "            else :\n",
    "                m += 1\n",
    "\n",
    "    plt.grid(True, linestyle = \"--\", color = \"r\", alpha = 0.3) \n",
    "    plt.show()\n",
    "    \n",
    "    now = datetime.datetime.now().strftime(\"%Y-%m-%d\")\n",
    "    plt.savefig(\"figure\\plot_tend\\%s_%s.jpg\"%(now, title))\n",
    "    \n",
    "    print(tend_counts.sort_values(by = 'publishtime', ascending = False).head())"
   ]
  },
  {
   "cell_type": "code",
   "execution_count": 5,
   "metadata": {
    "ExecuteTime": {
     "end_time": "2018-12-04T01:35:01.150653Z",
     "start_time": "2018-12-04T01:35:00.963642Z"
    },
    "collapsed": true
   },
   "outputs": [],
   "source": [
    "def get_server_res(data, url):\n",
    "    '''\n",
    "    服务器接口测试程序\n",
    "    传入 dict, 传出 DataFrame\n",
    "    '''\n",
    "    # data = {'record':[{'id':0,'title':'ss','content':'zzz'},]}\n",
    "    # data = {\"record\":marked_human_data.iloc[:5,:3].to_dict(orient = 'records')}\n",
    "    # url \"http://47.93.77.19:10000/correlation_negative\"\n",
    "    headers={'content-type':'application/json'}\n",
    "    result = requests.post(url,\n",
    "                      data = json.dumps(data),\n",
    "                      headers=headers, allow_redirects=True)\n",
    "    # print(result.text)\n",
    "    json_data = json.loads(result.text)\n",
    "    parse_data = []\n",
    "    elapsed_time = json_data['elapsed_time']\n",
    "    for i in range(len(json_data['docs'])):\n",
    "        parse_data.append([json_data['docs'][i]['id'],\n",
    "                          json_data['docs'][i]['cor']])\n",
    "    parse_data = pd.DataFrame(parse_data, columns = ['id', 'cor'])    \n",
    "    return parse_data, elapsed_time"
   ]
  },
  {
   "cell_type": "code",
   "execution_count": 6,
   "metadata": {
    "ExecuteTime": {
     "end_time": "2018-12-04T01:35:01.309662Z",
     "start_time": "2018-12-04T01:35:01.154653Z"
    },
    "collapsed": true
   },
   "outputs": [],
   "source": [
    "def get_server_res_yjh(data, url, col_name):\n",
    "    '''\n",
    "    服务器接口测试程序\n",
    "    传入 dict, 传出 DataFrame\n",
    "    '''\n",
    "    # data = {'record':[{'id':0,'title':'ss','content':'zzz'},]}\n",
    "    # data = {\"record\":marked_human_data.iloc[:5,:3].to_dict(orient = 'records')}\n",
    "    # url \"http://47.93.77.19:10000/correlation_negative\"\n",
    "    headers={'content-type':'application/json'}\n",
    "    result = requests.post(url,\n",
    "                      data = json.dumps(data),\n",
    "                      headers=headers, allow_redirects=True)\n",
    "    # print(result.text)\n",
    "    json_data = json.loads(result.text)\n",
    "    parse_data = []\n",
    "#     elapsed_time = json_data['elapsed_time']\n",
    "    for i in range(len(json_data['docs'])):\n",
    "        parse_data.append([json_data['docs'][i]['id'],\n",
    "                          json_data['docs'][i][col_name]])\n",
    "    parse_data = pd.DataFrame(parse_data, columns = ['id', col_name])    \n",
    "    return parse_data #, elapsed_time"
   ]
  },
  {
   "cell_type": "code",
   "execution_count": 7,
   "metadata": {
    "ExecuteTime": {
     "end_time": "2018-12-04T01:35:01.513674Z",
     "start_time": "2018-12-04T01:35:01.315662Z"
    },
    "collapsed": true
   },
   "outputs": [],
   "source": [
    "def get_period_data_for_training(human_additional, warning, url, folder, filename, flag):\n",
    "    combined_data = pd.concat([human_additional, warning])\n",
    "    print('去重前', combined_data.shape)\n",
    "    combined_data = combined_data.drop_duplicates(subset = 'id')\n",
    "    print('去重后', combined_data.shape)\n",
    "\n",
    "    # predict\n",
    "    data = {\"record\":combined_data.loc[:,['id', 'title' ,'content']].to_dict(orient = 'records')}\n",
    "    if flag == 'circ':\n",
    "        parse_data, elapsed_time = get_server_res(data, url)\n",
    "    elif flag == 'cbrc':\n",
    "        col_name = 'sec'\n",
    "        parse_data = get_server_res_yjh(data, url, col_name)\n",
    "        \n",
    "    print(parse_data.shape)\n",
    "    # parse_data.head()  \n",
    "\n",
    "    parse_data.columns = ['id', 'predict_label']\n",
    "    parse_data['predict_label'] = parse_data['predict_label'].apply(lambda x:class_name_dict[x])\n",
    "    parse_data['label'] = ''\n",
    "    # parse_data['cor'] = parse_data['predict_label'].apply(lambda x:1 if x in ['监管', '行业', '经营管理', '消费服务'] else 0)\n",
    "    # parse_data['all_cor'] = parse_data['predict_label'].apply(lambda x:1 if x != '噪音' else 0)\n",
    "    print(parse_data.shape)\n",
    "    # parse_data.head()\n",
    "\n",
    "    combined_data = pd.merge(combined_data, parse_data, on  = 'id')\n",
    "    print(combined_data.head())\n",
    "\n",
    "    file_path = '%s/result/%s'%(folder, filename)\n",
    "    combined_data[['id', 'predict_label', \n",
    "                   'label', 'title', 'content']].to_excel(file_path, index = False)"
   ]
  },
  {
   "cell_type": "code",
   "execution_count": 8,
   "metadata": {
    "ExecuteTime": {
     "end_time": "2018-12-04T01:35:01.668683Z",
     "start_time": "2018-12-04T01:35:01.521674Z"
    },
    "collapsed": true
   },
   "outputs": [],
   "source": [
    "def get_class_data(class_count):\n",
    "    class_count['c'] = class_count['publishtime'] + class_count['classify']\n",
    "    class_count.index = range(class_count.shape[0])\n",
    "    combined_count = {}\n",
    "    for index in class_count.index:\n",
    "        c = class_count.loc[index, 'c']\n",
    "        if c not in combined_count:\n",
    "            combined_count[c] = {}\n",
    "            combined_count[c]['count'] = class_count.loc[index, 'count']\n",
    "        else :\n",
    "            combined_count[c]['count'] = combined_count[c]['count'] + class_count.loc[index, 'count']\n",
    "\n",
    "        combined_count[c]['publishtime'] = class_count.loc[index, 'publishtime']\n",
    "        combined_count[c]['classify'] = class_count.loc[index, 'classify']\n",
    "\n",
    "    class_count = pd.DataFrame().from_dict(combined_count, orient = 'index')\n",
    "    class_count.index = range(class_count.shape[0])    \n",
    "\n",
    "    cor_class = class_count.set_index(['publishtime', 'classify']).unstack()#.reset_index('publishtime')\n",
    "    cor_class['总量'] = cor_class['count'].sum(axis = 1)\n",
    "    cor_class_1 = cor_class.copy()\n",
    "    cor_class_1['非噪音'] = cor_class_1['总量'] - cor_class_1['count', '噪音']\n",
    "    cor_class_1['非噪音-比例'] = cor_class_1['非噪音'] / cor_class_1['总量']\n",
    "    cor_class_1['噪音-比例'] = cor_class_1['count', '噪音'] / cor_class_1['总量']\n",
    "    # cor_class_1.sort_index(ascending = False).head()    \n",
    "    \n",
    "    for k in cor_class['count'].columns.tolist():\n",
    "        cor_class['rate', k] = cor_class['count', k] / cor_class['总量']\n",
    "#     cor_class.sort_index(ascending = False).head()\n",
    "\n",
    "    count_data_7 = cor_class_1[['总量',  '非噪音', '非噪音-比例', '噪音-比例']]\n",
    "    count_data_7.insert(2, '噪音', cor_class_1['count', '噪音'])\n",
    "    count_data_7.columns = ['sum', 'al_cor', 'al_uncor', 'al_cor_rate', 'al_uncor_rate']\n",
    "    count_data_7 = count_data_7.reset_index()\n",
    "\n",
    "    cor_list = ['监管', '行业', '公司内部管理', '消费服务']\n",
    "    count_data_4 = cor_class_1['count'][cor_list].sum(axis = 1).reset_index()\n",
    "    ss = cor_class_1.reset_index()\n",
    "    count_data_4 = pd.merge(count_data_4, ss[['总量', 'publishtime']], on = 'publishtime')\n",
    "    count_data_4.columns = ['publishtime', 'al_cor', 'sum']\n",
    "    count_data_4['al_uncor'] = count_data_4['sum'] - count_data_4['al_cor']\n",
    "    count_data_4['al_cor_rate'] = count_data_4['al_cor'] / count_data_4['sum']\n",
    "    count_data_4['al_uncor_rate'] = count_data_4['al_uncor'] / count_data_4['sum']\n",
    "\n",
    "    return cor_class_1, cor_class, count_data_7, count_data_4"
   ]
  },
  {
   "cell_type": "markdown",
   "metadata": {},
   "source": [
    "# 参数设置"
   ]
  },
  {
   "cell_type": "code",
   "execution_count": 9,
   "metadata": {
    "ExecuteTime": {
     "end_time": "2018-12-04T01:35:01.865694Z",
     "start_time": "2018-12-04T01:35:01.671683Z"
    }
   },
   "outputs": [
    {
     "name": "stdout",
     "output_type": "stream",
     "text": [
      "今天是： 2018-12-04\n",
      "昨天是： 2018-12-03\n",
      "统计的是昨天的数据，即 2018-12-03 的数据\n",
      "start_day： 2018-11-03\n",
      "end_day： 2018-12-04\n"
     ]
    }
   ],
   "source": [
    "today = datetime.datetime.now()\n",
    "today_str = today.strftime(\"%Y-%m-%d\")\n",
    "yesterday = today - datetime.timedelta(days=1)\n",
    "yesterday_str = yesterday.strftime(\"%Y-%m-%d\")\n",
    "# data_folder = r'D:\\XH\\OneDrive\\网智天元\\4 银保监会\\cbirc_获取用于人工判断数据\\%s'% yesterday_str\n",
    "# if not os.path.exists(data_folder):\n",
    "#     os.makedirs(data_folder)\n",
    "\n",
    "print('今天是：',today.strftime(\"%Y-%m-%d\"))\n",
    "print('昨天是：',yesterday_str)\n",
    "print('统计的是昨天的数据，即 %s 的数据'%yesterday_str)\n",
    "# print('文件存储位置: ', data_folder)\n",
    "\n",
    "start_day = today - datetime.timedelta(days=31) # 30 天\n",
    "start_day = start_day.strftime(\"%Y-%m-%d\") # '2018-08-12'  # 含\n",
    "end_day = today_str # yesterday_str    # 含\n",
    "print('start_day：',start_day)\n",
    "print('end_day：',end_day)"
   ]
  },
  {
   "cell_type": "code",
   "execution_count": 10,
   "metadata": {
    "ExecuteTime": {
     "end_time": "2018-12-04T01:35:02.013702Z",
     "start_time": "2018-12-04T01:35:01.871694Z"
    }
   },
   "outputs": [
    {
     "data": {
      "text/plain": [
       "{0: '补录',\n",
       " 1: '监管',\n",
       " 2: '行业',\n",
       " 3: '产品销售',\n",
       " 4: '资本市场',\n",
       " 5: '公司内部管理',\n",
       " 6: '消费服务',\n",
       " 7: '其他相关报道',\n",
       " 8: '噪音',\n",
       " 9: '交通',\n",
       " 10: '环保'}"
      ]
     },
     "execution_count": 10,
     "metadata": {},
     "output_type": "execute_result"
    }
   ],
   "source": [
    "label_dic={'补录':0,'监管':1,'行业':2,'产品销售':3,'资本市场':4,'公司内部管理':5,\n",
    "           '消费服务':6,'其他相关报道':7,'噪音':8,'交通':9,'环保':10}\n",
    "class_name_dict = {v: k for k, v in label_dic.items()}\n",
    "class_name_dict"
   ]
  },
  {
   "cell_type": "code",
   "execution_count": 11,
   "metadata": {
    "ExecuteTime": {
     "end_time": "2018-12-04T01:35:02.136709Z",
     "start_time": "2018-12-04T01:35:02.017703Z"
    }
   },
   "outputs": [
    {
     "data": {
      "text/plain": [
       "{'1': '新闻',\n",
       " '11': '微信',\n",
       " '13': '新闻客户端',\n",
       " '15': '推特',\n",
       " '2': '论坛',\n",
       " '3': '博客',\n",
       " '4': '微博',\n",
       " '5': '纸媒',\n",
       " '6': '视频',\n",
       " '7': '外媒',\n",
       " '8': '广播',\n",
       " '9': '电视'}"
      ]
     },
     "execution_count": 11,
     "metadata": {},
     "output_type": "execute_result"
    }
   ],
   "source": [
    "group = '1-新闻，2-论坛，3-博客，4-微博，5-纸媒，6-视频，7-外媒，8-广播，9-电视，11-微信，13-新闻客户端，15-推特'\n",
    "group_dict = dict([x.split('-') for x in group.split('，')])\n",
    "group_dict"
   ]
  },
  {
   "cell_type": "code",
   "execution_count": 12,
   "metadata": {
    "ExecuteTime": {
     "end_time": "2018-12-04T01:35:02.341721Z",
     "start_time": "2018-12-04T01:35:02.140710Z"
    }
   },
   "outputs": [
    {
     "data": {
      "text/plain": [
       "{1: '银监会', 2: '保监会', 3: '中国人寿', 4: '建行北分', 5: '中国人保'}"
      ]
     },
     "execution_count": 12,
     "metadata": {},
     "output_type": "execute_result"
    }
   ],
   "source": [
    "proj_dic={'银监会':1,'保监会':2,'中国人寿':3,'建行北分':4,'中国人保':5}\n",
    "proj_name_dict = {v: k for k, v in proj_dic.items()}\n",
    "proj_name_dict"
   ]
  },
  {
   "cell_type": "markdown",
   "metadata": {},
   "source": [
    "# 保险业--旧"
   ]
  },
  {
   "cell_type": "markdown",
   "metadata": {},
   "source": [
    "## 特殊时间点"
   ]
  },
  {
   "cell_type": "code",
   "execution_count": 13,
   "metadata": {
    "ExecuteTime": {
     "end_time": "2018-12-03T07:23:26.760021Z",
     "start_time": "2018-12-03T07:23:15.820395Z"
    },
    "collapsed": true
   },
   "outputs": [],
   "source": [
    "engine = specific_func.get_engine('circ')"
   ]
  },
  {
   "cell_type": "code",
   "execution_count": 14,
   "metadata": {
    "ExecuteTime": {
     "end_time": "2018-12-03T07:23:26.781022Z",
     "start_time": "2018-12-03T07:23:26.765021Z"
    },
    "collapsed": true
   },
   "outputs": [],
   "source": [
    "circ_day_thing = [['2018-05-31', '上线倾向性模型'], \n",
    "             ['2018-06-12', '更新倾向性模型'], \n",
    "             ['2018-06-13', '更新倾向性模型'], \n",
    "             ['2018-06-15', '更新相关性模型'], \n",
    "             ['2018-06-19', '修复bug'], \n",
    "             ['2018-06-24', '更新相关性模型'],\n",
    "             ['2018-06-24', '上线预警模型'], \n",
    "             ['2018-06-25', '更新相关性模型（加入交集数据作为噪音）']]"
   ]
  },
  {
   "cell_type": "markdown",
   "metadata": {},
   "source": [
    "## 八分类"
   ]
  },
  {
   "cell_type": "code",
   "execution_count": 15,
   "metadata": {
    "ExecuteTime": {
     "end_time": "2018-12-03T07:23:56.197705Z",
     "start_time": "2018-12-03T07:23:26.791023Z"
    }
   },
   "outputs": [
    {
     "data": {
      "text/html": [
       "<div>\n",
       "<style scoped>\n",
       "    .dataframe tbody tr th:only-of-type {\n",
       "        vertical-align: middle;\n",
       "    }\n",
       "\n",
       "    .dataframe tbody tr th {\n",
       "        vertical-align: top;\n",
       "    }\n",
       "\n",
       "    .dataframe thead th {\n",
       "        text-align: right;\n",
       "    }\n",
       "</style>\n",
       "<table border=\"1\" class=\"dataframe\">\n",
       "  <thead>\n",
       "    <tr style=\"text-align: right;\">\n",
       "      <th></th>\n",
       "      <th>publishtime</th>\n",
       "      <th>classify</th>\n",
       "      <th>count</th>\n",
       "    </tr>\n",
       "  </thead>\n",
       "  <tbody>\n",
       "    <tr>\n",
       "      <th>0</th>\n",
       "      <td>2018-12-03</td>\n",
       "      <td>补录</td>\n",
       "      <td>4</td>\n",
       "    </tr>\n",
       "    <tr>\n",
       "      <th>1</th>\n",
       "      <td>2018-12-03</td>\n",
       "      <td>监管</td>\n",
       "      <td>3252</td>\n",
       "    </tr>\n",
       "    <tr>\n",
       "      <th>2</th>\n",
       "      <td>2018-12-03</td>\n",
       "      <td>行业</td>\n",
       "      <td>1336</td>\n",
       "    </tr>\n",
       "    <tr>\n",
       "      <th>3</th>\n",
       "      <td>2018-12-03</td>\n",
       "      <td>产品销售</td>\n",
       "      <td>788</td>\n",
       "    </tr>\n",
       "    <tr>\n",
       "      <th>4</th>\n",
       "      <td>2018-12-03</td>\n",
       "      <td>资本市场</td>\n",
       "      <td>2767</td>\n",
       "    </tr>\n",
       "  </tbody>\n",
       "</table>\n",
       "</div>"
      ],
      "text/plain": [
       "  publishtime classify  count\n",
       "0  2018-12-03       补录      4\n",
       "1  2018-12-03       监管   3252\n",
       "2  2018-12-03       行业   1336\n",
       "3  2018-12-03     产品销售    788\n",
       "4  2018-12-03     资本市场   2767"
      ]
     },
     "execution_count": 15,
     "metadata": {},
     "output_type": "execute_result"
    }
   ],
   "source": [
    "# 相关数据\n",
    "sql_circ_cor = \"select date_format(t1.publishtime,'%%Y-%%m-%%d') as publishtime, t1.classify, \\\n",
    "                            count(t1.id) as count \\\n",
    "                            from wise_web_docinfo t1 \\\n",
    "                                where (date_format(publishtime, '%%Y-%%m-%%d') >= '{0}' and \\\n",
    "                                      date_format(publishtime, '%%Y-%%m-%%d') <= '{1}') \\\n",
    "                                group by date_format(t1.publishtime,'%%Y-%%m-%%d'), t1.classify \\\n",
    "                                order by date_format(t1.publishtime,'%%Y-%%m-%%d') desc\".format(start_day, end_day) \n",
    "\n",
    "circ_cor_count = pd.read_sql(sql_circ_cor, engine)\n",
    "circ_cor_count['classify'] = circ_cor_count['classify'].apply(lambda x:class_name_dict[x])\n",
    "circ_cor_count.head()"
   ]
  },
  {
   "cell_type": "code",
   "execution_count": 16,
   "metadata": {
    "ExecuteTime": {
     "end_time": "2018-12-03T07:32:46.238021Z",
     "start_time": "2018-12-03T07:23:56.201705Z"
    }
   },
   "outputs": [
    {
     "data": {
      "text/html": [
       "<div>\n",
       "<style scoped>\n",
       "    .dataframe tbody tr th:only-of-type {\n",
       "        vertical-align: middle;\n",
       "    }\n",
       "\n",
       "    .dataframe tbody tr th {\n",
       "        vertical-align: top;\n",
       "    }\n",
       "\n",
       "    .dataframe thead th {\n",
       "        text-align: right;\n",
       "    }\n",
       "</style>\n",
       "<table border=\"1\" class=\"dataframe\">\n",
       "  <thead>\n",
       "    <tr style=\"text-align: right;\">\n",
       "      <th></th>\n",
       "      <th>publishtime</th>\n",
       "      <th>classify</th>\n",
       "      <th>count</th>\n",
       "    </tr>\n",
       "  </thead>\n",
       "  <tbody>\n",
       "    <tr>\n",
       "      <th>0</th>\n",
       "      <td>2018-12-03</td>\n",
       "      <td>噪音</td>\n",
       "      <td>45975</td>\n",
       "    </tr>\n",
       "    <tr>\n",
       "      <th>1</th>\n",
       "      <td>2018-12-02</td>\n",
       "      <td>噪音</td>\n",
       "      <td>63127</td>\n",
       "    </tr>\n",
       "    <tr>\n",
       "      <th>2</th>\n",
       "      <td>2018-12-01</td>\n",
       "      <td>噪音</td>\n",
       "      <td>92916</td>\n",
       "    </tr>\n",
       "    <tr>\n",
       "      <th>3</th>\n",
       "      <td>2018-11-30</td>\n",
       "      <td>噪音</td>\n",
       "      <td>109332</td>\n",
       "    </tr>\n",
       "    <tr>\n",
       "      <th>4</th>\n",
       "      <td>2018-11-29</td>\n",
       "      <td>噪音</td>\n",
       "      <td>129477</td>\n",
       "    </tr>\n",
       "  </tbody>\n",
       "</table>\n",
       "</div>"
      ],
      "text/plain": [
       "  publishtime classify   count\n",
       "0  2018-12-03       噪音   45975\n",
       "1  2018-12-02       噪音   63127\n",
       "2  2018-12-01       噪音   92916\n",
       "3  2018-11-30       噪音  109332\n",
       "4  2018-11-29       噪音  129477"
      ]
     },
     "execution_count": 16,
     "metadata": {},
     "output_type": "execute_result"
    }
   ],
   "source": [
    "# 不相关数据\n",
    "sql_circ_uncor = \"select date_format(t1.publishtime,'%%Y-%%m-%%d') as publishtime,t1.classify, count(t1.id) as count \\\n",
    "                            from wise_web_docinfo_uncorr t1 \\\n",
    "                                where (date_format(t1.publishtime, '%%Y-%%m-%%d') >= '{0}' and \\\n",
    "                                      date_format(t1.publishtime, '%%Y-%%m-%%d') <= '{1}') \\\n",
    "                                group by t1.classify, date_format(t1.publishtime,'%%Y-%%m-%%d') \\\n",
    "                                order by date_format(t1.publishtime,'%%Y-%%m-%%d') desc\".format(start_day, end_day) \n",
    "\n",
    "circ_uncor_count = pd.read_sql(sql_circ_uncor, engine)\n",
    "circ_uncor_count['classify'] = circ_uncor_count['classify'].apply(lambda x:class_name_dict[x])\n",
    "circ_uncor_count.head()"
   ]
  },
  {
   "cell_type": "markdown",
   "metadata": {},
   "source": [
    "### 补录数据"
   ]
  },
  {
   "cell_type": "code",
   "execution_count": 17,
   "metadata": {
    "ExecuteTime": {
     "end_time": "2018-12-03T07:32:47.205077Z",
     "start_time": "2018-12-03T07:32:46.241021Z"
    }
   },
   "outputs": [
    {
     "data": {
      "text/html": [
       "<div>\n",
       "<style scoped>\n",
       "    .dataframe tbody tr th:only-of-type {\n",
       "        vertical-align: middle;\n",
       "    }\n",
       "\n",
       "    .dataframe tbody tr th {\n",
       "        vertical-align: top;\n",
       "    }\n",
       "\n",
       "    .dataframe thead th {\n",
       "        text-align: right;\n",
       "    }\n",
       "</style>\n",
       "<table border=\"1\" class=\"dataframe\">\n",
       "  <thead>\n",
       "    <tr style=\"text-align: right;\">\n",
       "      <th></th>\n",
       "      <th>publishtime</th>\n",
       "      <th>补录</th>\n",
       "    </tr>\n",
       "  </thead>\n",
       "  <tbody>\n",
       "    <tr>\n",
       "      <th>0</th>\n",
       "      <td>2018-12-03</td>\n",
       "      <td>4</td>\n",
       "    </tr>\n",
       "    <tr>\n",
       "      <th>22</th>\n",
       "      <td>2018-11-30</td>\n",
       "      <td>5</td>\n",
       "    </tr>\n",
       "    <tr>\n",
       "      <th>30</th>\n",
       "      <td>2018-11-29</td>\n",
       "      <td>5</td>\n",
       "    </tr>\n",
       "    <tr>\n",
       "      <th>38</th>\n",
       "      <td>2018-11-28</td>\n",
       "      <td>6</td>\n",
       "    </tr>\n",
       "    <tr>\n",
       "      <th>46</th>\n",
       "      <td>2018-11-27</td>\n",
       "      <td>14</td>\n",
       "    </tr>\n",
       "  </tbody>\n",
       "</table>\n",
       "</div>"
      ],
      "text/plain": [
       "   publishtime  补录\n",
       "0   2018-12-03   4\n",
       "22  2018-11-30   5\n",
       "30  2018-11-29   5\n",
       "38  2018-11-28   6\n",
       "46  2018-11-27  14"
      ]
     },
     "execution_count": 17,
     "metadata": {},
     "output_type": "execute_result"
    },
    {
     "data": {
      "image/png": "[encoded data removed]",
      "text/plain": [
       "<matplotlib.figure.Figure at 0xc7d7eb8>"
      ]
     },
     "metadata": {},
     "output_type": "display_data"
    }
   ],
   "source": [
    "# 补录\n",
    "apend = circ_cor_count[circ_cor_count['classify'] == '补录'][['publishtime', 'count']]\n",
    "apend.columns = ['publishtime', '补录']\n",
    "apend = apend.sort_values(by = 'publishtime', ascending = True)\n",
    "apend.plot(kind = 'bar', x = 'publishtime', y = '补录', figsize=(15,6), \n",
    "           title = '补录数据-每天', grid = True)\n",
    "apend.sort_values(by = 'publishtime', ascending = False).head()"
   ]
  },
  {
   "cell_type": "markdown",
   "metadata": {},
   "source": [
    "### class"
   ]
  },
  {
   "cell_type": "code",
   "execution_count": 18,
   "metadata": {
    "ExecuteTime": {
     "end_time": "2018-12-03T07:32:47.577098Z",
     "start_time": "2018-12-03T07:32:47.212077Z"
    }
   },
   "outputs": [
    {
     "data": {
      "text/html": [
       "<div>\n",
       "<style scoped>\n",
       "    .dataframe tbody tr th:only-of-type {\n",
       "        vertical-align: middle;\n",
       "    }\n",
       "\n",
       "    .dataframe tbody tr th {\n",
       "        vertical-align: top;\n",
       "    }\n",
       "\n",
       "    .dataframe thead tr th {\n",
       "        text-align: left;\n",
       "    }\n",
       "\n",
       "    .dataframe thead tr:last-of-type th {\n",
       "        text-align: right;\n",
       "    }\n",
       "</style>\n",
       "<table border=\"1\" class=\"dataframe\">\n",
       "  <thead>\n",
       "    <tr>\n",
       "      <th></th>\n",
       "      <th colspan=\"9\" halign=\"left\">count</th>\n",
       "      <th>总量</th>\n",
       "      <th>非噪音</th>\n",
       "      <th>非噪音-比例</th>\n",
       "      <th>噪音-比例</th>\n",
       "    </tr>\n",
       "    <tr>\n",
       "      <th>classify</th>\n",
       "      <th>产品销售</th>\n",
       "      <th>公司内部管理</th>\n",
       "      <th>其他相关报道</th>\n",
       "      <th>噪音</th>\n",
       "      <th>消费服务</th>\n",
       "      <th>监管</th>\n",
       "      <th>行业</th>\n",
       "      <th>补录</th>\n",
       "      <th>资本市场</th>\n",
       "      <th></th>\n",
       "      <th></th>\n",
       "      <th></th>\n",
       "      <th></th>\n",
       "    </tr>\n",
       "    <tr>\n",
       "      <th>publishtime</th>\n",
       "      <th></th>\n",
       "      <th></th>\n",
       "      <th></th>\n",
       "      <th></th>\n",
       "      <th></th>\n",
       "      <th></th>\n",
       "      <th></th>\n",
       "      <th></th>\n",
       "      <th></th>\n",
       "      <th></th>\n",
       "      <th></th>\n",
       "      <th></th>\n",
       "      <th></th>\n",
       "    </tr>\n",
       "  </thead>\n",
       "  <tbody>\n",
       "    <tr>\n",
       "      <th>2018-12-03</th>\n",
       "      <td>788.000</td>\n",
       "      <td>970.000</td>\n",
       "      <td>1055.000</td>\n",
       "      <td>45975.000</td>\n",
       "      <td>804.000</td>\n",
       "      <td>3252.000</td>\n",
       "      <td>1336.000</td>\n",
       "      <td>4.000</td>\n",
       "      <td>2767.000</td>\n",
       "      <td>56951.000</td>\n",
       "      <td>10976.000</td>\n",
       "      <td>0.193</td>\n",
       "      <td>0.807</td>\n",
       "    </tr>\n",
       "    <tr>\n",
       "      <th>2018-12-02</th>\n",
       "      <td>1803.000</td>\n",
       "      <td>701.000</td>\n",
       "      <td>687.000</td>\n",
       "      <td>63127.000</td>\n",
       "      <td>1138.000</td>\n",
       "      <td>3509.000</td>\n",
       "      <td>973.000</td>\n",
       "      <td>nan</td>\n",
       "      <td>2193.000</td>\n",
       "      <td>74131.000</td>\n",
       "      <td>11004.000</td>\n",
       "      <td>0.148</td>\n",
       "      <td>0.852</td>\n",
       "    </tr>\n",
       "    <tr>\n",
       "      <th>2018-12-01</th>\n",
       "      <td>2178.000</td>\n",
       "      <td>2067.000</td>\n",
       "      <td>1993.000</td>\n",
       "      <td>92916.000</td>\n",
       "      <td>1674.000</td>\n",
       "      <td>4496.000</td>\n",
       "      <td>2713.000</td>\n",
       "      <td>nan</td>\n",
       "      <td>3409.000</td>\n",
       "      <td>111446.000</td>\n",
       "      <td>18530.000</td>\n",
       "      <td>0.166</td>\n",
       "      <td>0.834</td>\n",
       "    </tr>\n",
       "    <tr>\n",
       "      <th>2018-11-30</th>\n",
       "      <td>1947.000</td>\n",
       "      <td>1910.000</td>\n",
       "      <td>2369.000</td>\n",
       "      <td>109332.000</td>\n",
       "      <td>2254.000</td>\n",
       "      <td>4856.000</td>\n",
       "      <td>1895.000</td>\n",
       "      <td>5.000</td>\n",
       "      <td>4669.000</td>\n",
       "      <td>129237.000</td>\n",
       "      <td>19905.000</td>\n",
       "      <td>0.154</td>\n",
       "      <td>0.846</td>\n",
       "    </tr>\n",
       "    <tr>\n",
       "      <th>2018-11-29</th>\n",
       "      <td>3041.000</td>\n",
       "      <td>2661.000</td>\n",
       "      <td>2584.000</td>\n",
       "      <td>129477.000</td>\n",
       "      <td>3200.000</td>\n",
       "      <td>5003.000</td>\n",
       "      <td>3136.000</td>\n",
       "      <td>5.000</td>\n",
       "      <td>5860.000</td>\n",
       "      <td>154967.000</td>\n",
       "      <td>25490.000</td>\n",
       "      <td>0.164</td>\n",
       "      <td>0.836</td>\n",
       "    </tr>\n",
       "  </tbody>\n",
       "</table>\n",
       "</div>"
      ],
      "text/plain": [
       "               count                                                          \\\n",
       "classify        产品销售   公司内部管理   其他相关报道         噪音     消费服务       监管       行业   \n",
       "publishtime                                                                    \n",
       "2018-12-03   788.000  970.000 1055.000  45975.000  804.000 3252.000 1336.000   \n",
       "2018-12-02  1803.000  701.000  687.000  63127.000 1138.000 3509.000  973.000   \n",
       "2018-12-01  2178.000 2067.000 1993.000  92916.000 1674.000 4496.000 2713.000   \n",
       "2018-11-30  1947.000 1910.000 2369.000 109332.000 2254.000 4856.000 1895.000   \n",
       "2018-11-29  3041.000 2661.000 2584.000 129477.000 3200.000 5003.000 3136.000   \n",
       "\n",
       "                                   总量       非噪音 非噪音-比例 噪音-比例  \n",
       "classify       补录     资本市场                                    \n",
       "publishtime                                                   \n",
       "2018-12-03  4.000 2767.000  56951.000 10976.000  0.193 0.807  \n",
       "2018-12-02    nan 2193.000  74131.000 11004.000  0.148 0.852  \n",
       "2018-12-01    nan 3409.000 111446.000 18530.000  0.166 0.834  \n",
       "2018-11-30  5.000 4669.000 129237.000 19905.000  0.154 0.846  \n",
       "2018-11-29  5.000 5860.000 154967.000 25490.000  0.164 0.836  "
      ]
     },
     "execution_count": 18,
     "metadata": {},
     "output_type": "execute_result"
    }
   ],
   "source": [
    "class_count = pd.concat([circ_cor_count, circ_uncor_count])\n",
    "cor_class_1, cor_class, count_data_7, count_data_4 = get_class_data(class_count)\n",
    "cor_class_1.sort_index(ascending = False).head()"
   ]
  },
  {
   "cell_type": "code",
   "execution_count": 19,
   "metadata": {
    "ExecuteTime": {
     "end_time": "2018-12-03T07:32:48.028124Z",
     "start_time": "2018-12-03T07:32:47.581098Z"
    }
   },
   "outputs": [
    {
     "data": {
      "text/html": [
       "<div>\n",
       "<style scoped>\n",
       "    .dataframe tbody tr th:only-of-type {\n",
       "        vertical-align: middle;\n",
       "    }\n",
       "\n",
       "    .dataframe tbody tr th {\n",
       "        vertical-align: top;\n",
       "    }\n",
       "\n",
       "    .dataframe thead tr th {\n",
       "        text-align: left;\n",
       "    }\n",
       "\n",
       "    .dataframe thead tr:last-of-type th {\n",
       "        text-align: right;\n",
       "    }\n",
       "</style>\n",
       "<table border=\"1\" class=\"dataframe\">\n",
       "  <thead>\n",
       "    <tr>\n",
       "      <th></th>\n",
       "      <th colspan=\"9\" halign=\"left\">count</th>\n",
       "      <th>总量</th>\n",
       "      <th colspan=\"9\" halign=\"left\">rate</th>\n",
       "    </tr>\n",
       "    <tr>\n",
       "      <th>classify</th>\n",
       "      <th>产品销售</th>\n",
       "      <th>公司内部管理</th>\n",
       "      <th>其他相关报道</th>\n",
       "      <th>噪音</th>\n",
       "      <th>消费服务</th>\n",
       "      <th>监管</th>\n",
       "      <th>行业</th>\n",
       "      <th>补录</th>\n",
       "      <th>资本市场</th>\n",
       "      <th></th>\n",
       "      <th>产品销售</th>\n",
       "      <th>公司内部管理</th>\n",
       "      <th>其他相关报道</th>\n",
       "      <th>噪音</th>\n",
       "      <th>消费服务</th>\n",
       "      <th>监管</th>\n",
       "      <th>行业</th>\n",
       "      <th>补录</th>\n",
       "      <th>资本市场</th>\n",
       "    </tr>\n",
       "    <tr>\n",
       "      <th>publishtime</th>\n",
       "      <th></th>\n",
       "      <th></th>\n",
       "      <th></th>\n",
       "      <th></th>\n",
       "      <th></th>\n",
       "      <th></th>\n",
       "      <th></th>\n",
       "      <th></th>\n",
       "      <th></th>\n",
       "      <th></th>\n",
       "      <th></th>\n",
       "      <th></th>\n",
       "      <th></th>\n",
       "      <th></th>\n",
       "      <th></th>\n",
       "      <th></th>\n",
       "      <th></th>\n",
       "      <th></th>\n",
       "      <th></th>\n",
       "    </tr>\n",
       "  </thead>\n",
       "  <tbody>\n",
       "    <tr>\n",
       "      <th>2018-12-03</th>\n",
       "      <td>788.000</td>\n",
       "      <td>970.000</td>\n",
       "      <td>1055.000</td>\n",
       "      <td>45975.000</td>\n",
       "      <td>804.000</td>\n",
       "      <td>3252.000</td>\n",
       "      <td>1336.000</td>\n",
       "      <td>4.000</td>\n",
       "      <td>2767.000</td>\n",
       "      <td>56951.000</td>\n",
       "      <td>0.014</td>\n",
       "      <td>0.017</td>\n",
       "      <td>0.019</td>\n",
       "      <td>0.807</td>\n",
       "      <td>0.014</td>\n",
       "      <td>0.057</td>\n",
       "      <td>0.023</td>\n",
       "      <td>0.000</td>\n",
       "      <td>0.049</td>\n",
       "    </tr>\n",
       "    <tr>\n",
       "      <th>2018-12-02</th>\n",
       "      <td>1803.000</td>\n",
       "      <td>701.000</td>\n",
       "      <td>687.000</td>\n",
       "      <td>63127.000</td>\n",
       "      <td>1138.000</td>\n",
       "      <td>3509.000</td>\n",
       "      <td>973.000</td>\n",
       "      <td>nan</td>\n",
       "      <td>2193.000</td>\n",
       "      <td>74131.000</td>\n",
       "      <td>0.024</td>\n",
       "      <td>0.009</td>\n",
       "      <td>0.009</td>\n",
       "      <td>0.852</td>\n",
       "      <td>0.015</td>\n",
       "      <td>0.047</td>\n",
       "      <td>0.013</td>\n",
       "      <td>nan</td>\n",
       "      <td>0.030</td>\n",
       "    </tr>\n",
       "    <tr>\n",
       "      <th>2018-12-01</th>\n",
       "      <td>2178.000</td>\n",
       "      <td>2067.000</td>\n",
       "      <td>1993.000</td>\n",
       "      <td>92916.000</td>\n",
       "      <td>1674.000</td>\n",
       "      <td>4496.000</td>\n",
       "      <td>2713.000</td>\n",
       "      <td>nan</td>\n",
       "      <td>3409.000</td>\n",
       "      <td>111446.000</td>\n",
       "      <td>0.020</td>\n",
       "      <td>0.019</td>\n",
       "      <td>0.018</td>\n",
       "      <td>0.834</td>\n",
       "      <td>0.015</td>\n",
       "      <td>0.040</td>\n",
       "      <td>0.024</td>\n",
       "      <td>nan</td>\n",
       "      <td>0.031</td>\n",
       "    </tr>\n",
       "    <tr>\n",
       "      <th>2018-11-30</th>\n",
       "      <td>1947.000</td>\n",
       "      <td>1910.000</td>\n",
       "      <td>2369.000</td>\n",
       "      <td>109332.000</td>\n",
       "      <td>2254.000</td>\n",
       "      <td>4856.000</td>\n",
       "      <td>1895.000</td>\n",
       "      <td>5.000</td>\n",
       "      <td>4669.000</td>\n",
       "      <td>129237.000</td>\n",
       "      <td>0.015</td>\n",
       "      <td>0.015</td>\n",
       "      <td>0.018</td>\n",
       "      <td>0.846</td>\n",
       "      <td>0.017</td>\n",
       "      <td>0.038</td>\n",
       "      <td>0.015</td>\n",
       "      <td>0.000</td>\n",
       "      <td>0.036</td>\n",
       "    </tr>\n",
       "    <tr>\n",
       "      <th>2018-11-29</th>\n",
       "      <td>3041.000</td>\n",
       "      <td>2661.000</td>\n",
       "      <td>2584.000</td>\n",
       "      <td>129477.000</td>\n",
       "      <td>3200.000</td>\n",
       "      <td>5003.000</td>\n",
       "      <td>3136.000</td>\n",
       "      <td>5.000</td>\n",
       "      <td>5860.000</td>\n",
       "      <td>154967.000</td>\n",
       "      <td>0.020</td>\n",
       "      <td>0.017</td>\n",
       "      <td>0.017</td>\n",
       "      <td>0.836</td>\n",
       "      <td>0.021</td>\n",
       "      <td>0.032</td>\n",
       "      <td>0.020</td>\n",
       "      <td>0.000</td>\n",
       "      <td>0.038</td>\n",
       "    </tr>\n",
       "  </tbody>\n",
       "</table>\n",
       "</div>"
      ],
      "text/plain": [
       "               count                                                          \\\n",
       "classify        产品销售   公司内部管理   其他相关报道         噪音     消费服务       监管       行业   \n",
       "publishtime                                                                    \n",
       "2018-12-03   788.000  970.000 1055.000  45975.000  804.000 3252.000 1336.000   \n",
       "2018-12-02  1803.000  701.000  687.000  63127.000 1138.000 3509.000  973.000   \n",
       "2018-12-01  2178.000 2067.000 1993.000  92916.000 1674.000 4496.000 2713.000   \n",
       "2018-11-30  1947.000 1910.000 2369.000 109332.000 2254.000 4856.000 1895.000   \n",
       "2018-11-29  3041.000 2661.000 2584.000 129477.000 3200.000 5003.000 3136.000   \n",
       "\n",
       "                                   总量  rate                                  \\\n",
       "classify       补录     资本市场             产品销售 公司内部管理 其他相关报道    噪音  消费服务    监管   \n",
       "publishtime                                                                   \n",
       "2018-12-03  4.000 2767.000  56951.000 0.014  0.017  0.019 0.807 0.014 0.057   \n",
       "2018-12-02    nan 2193.000  74131.000 0.024  0.009  0.009 0.852 0.015 0.047   \n",
       "2018-12-01    nan 3409.000 111446.000 0.020  0.019  0.018 0.834 0.015 0.040   \n",
       "2018-11-30  5.000 4669.000 129237.000 0.015  0.015  0.018 0.846 0.017 0.038   \n",
       "2018-11-29  5.000 5860.000 154967.000 0.020  0.017  0.017 0.836 0.021 0.032   \n",
       "\n",
       "                               \n",
       "classify       行业    补录  资本市场  \n",
       "publishtime                    \n",
       "2018-12-03  0.023 0.000 0.049  \n",
       "2018-12-02  0.013   nan 0.030  \n",
       "2018-12-01  0.024   nan 0.031  \n",
       "2018-11-30  0.015 0.000 0.036  \n",
       "2018-11-29  0.020 0.000 0.038  "
      ]
     },
     "execution_count": 19,
     "metadata": {},
     "output_type": "execute_result"
    },
    {
     "data": {
      "image/png": "[encoded data removed]",
      "text/plain": [
       "<matplotlib.figure.Figure at 0xc5782e8>"
      ]
     },
     "metadata": {},
     "output_type": "display_data"
    }
   ],
   "source": [
    "cor_class['rate'].reset_index().fillna(0).plot(x = 'publishtime', figsize = (15,6))\n",
    "cor_class.sort_index(ascending = False).head()"
   ]
  },
  {
   "cell_type": "markdown",
   "metadata": {},
   "source": [
    "### 总体"
   ]
  },
  {
   "cell_type": "code",
   "execution_count": 20,
   "metadata": {
    "ExecuteTime": {
     "end_time": "2018-12-03T07:32:48.678161Z",
     "start_time": "2018-12-03T07:32:48.031124Z"
    }
   },
   "outputs": [
    {
     "data": {
      "image/png": "[encoded data removed]",
      "text/plain": [
       "<matplotlib.figure.Figure at 0xc766358>"
      ]
     },
     "metadata": {},
     "output_type": "display_data"
    },
    {
     "name": "stdout",
     "output_type": "stream",
     "text": [
      "   publishtime        sum    al_cor   al_uncor  al_cor_rate  al_uncor_rate\n",
      "31  2018-12-03  56951.000 10976.000  45975.000        0.193          0.807\n",
      "30  2018-12-02  74131.000 11004.000  63127.000        0.148          0.852\n",
      "29  2018-12-01 111446.000 18530.000  92916.000        0.166          0.834\n",
      "28  2018-11-30 129237.000 19905.000 109332.000        0.154          0.846\n",
      "27  2018-11-29 154967.000 25490.000 129477.000        0.164          0.836\n"
     ]
    }
   ],
   "source": [
    "plot_cor(count_data_7, circ_day_thing, \"CIRC 8-class cor&uncor:7-1\")"
   ]
  },
  {
   "cell_type": "code",
   "execution_count": 21,
   "metadata": {
    "ExecuteTime": {
     "end_time": "2018-12-03T07:32:49.430204Z",
     "start_time": "2018-12-03T07:32:48.683161Z"
    }
   },
   "outputs": [
    {
     "data": {
      "image/png": "[encoded data removed]",
      "text/plain": [
       "<matplotlib.figure.Figure at 0xc504da0>"
      ]
     },
     "metadata": {},
     "output_type": "display_data"
    },
    {
     "name": "stdout",
     "output_type": "stream",
     "text": [
      "   publishtime    al_cor        sum   al_uncor  al_cor_rate  al_uncor_rate\n",
      "31  2018-12-03  6362.000  56951.000  50589.000        0.112          0.888\n",
      "30  2018-12-02  6321.000  74131.000  67810.000        0.085          0.915\n",
      "29  2018-12-01 10950.000 111446.000 100496.000        0.098          0.902\n",
      "28  2018-11-30 10915.000 129237.000 118322.000        0.084          0.916\n",
      "27  2018-11-29 14000.000 154967.000 140967.000        0.090          0.910\n"
     ]
    }
   ],
   "source": [
    "plot_cor(count_data_4, circ_day_thing, \"CIRC 8-class cor&uncor:4-4\")"
   ]
  },
  {
   "cell_type": "markdown",
   "metadata": {},
   "source": [
    "## 倾向性"
   ]
  },
  {
   "cell_type": "code",
   "execution_count": 22,
   "metadata": {
    "ExecuteTime": {
     "end_time": "2018-12-03T07:33:24.907233Z",
     "start_time": "2018-12-03T07:32:49.544210Z"
    }
   },
   "outputs": [
    {
     "data": {
      "text/html": [
       "<div>\n",
       "<style scoped>\n",
       "    .dataframe tbody tr th:only-of-type {\n",
       "        vertical-align: middle;\n",
       "    }\n",
       "\n",
       "    .dataframe tbody tr th {\n",
       "        vertical-align: top;\n",
       "    }\n",
       "\n",
       "    .dataframe thead th {\n",
       "        text-align: right;\n",
       "    }\n",
       "</style>\n",
       "<table border=\"1\" class=\"dataframe\">\n",
       "  <thead>\n",
       "    <tr style=\"text-align: right;\">\n",
       "      <th></th>\n",
       "      <th>publishtime</th>\n",
       "      <th>tendency</th>\n",
       "      <th>count</th>\n",
       "    </tr>\n",
       "  </thead>\n",
       "  <tbody>\n",
       "    <tr>\n",
       "      <th>0</th>\n",
       "      <td>2018-12-03</td>\n",
       "      <td>-1</td>\n",
       "      <td>3017</td>\n",
       "    </tr>\n",
       "    <tr>\n",
       "      <th>1</th>\n",
       "      <td>2018-12-03</td>\n",
       "      <td>0</td>\n",
       "      <td>8163</td>\n",
       "    </tr>\n",
       "    <tr>\n",
       "      <th>2</th>\n",
       "      <td>2018-12-02</td>\n",
       "      <td>-1</td>\n",
       "      <td>2609</td>\n",
       "    </tr>\n",
       "    <tr>\n",
       "      <th>3</th>\n",
       "      <td>2018-12-02</td>\n",
       "      <td>0</td>\n",
       "      <td>8404</td>\n",
       "    </tr>\n",
       "    <tr>\n",
       "      <th>4</th>\n",
       "      <td>2018-12-01</td>\n",
       "      <td>-1</td>\n",
       "      <td>3998</td>\n",
       "    </tr>\n",
       "  </tbody>\n",
       "</table>\n",
       "</div>"
      ],
      "text/plain": [
       "  publishtime  tendency  count\n",
       "0  2018-12-03        -1   3017\n",
       "1  2018-12-03         0   8163\n",
       "2  2018-12-02        -1   2609\n",
       "3  2018-12-02         0   8404\n",
       "4  2018-12-01        -1   3998"
      ]
     },
     "execution_count": 22,
     "metadata": {},
     "output_type": "execute_result"
    }
   ],
   "source": [
    "sql_tend = \"select date_format(t1.publishtime,'%%Y-%%m-%%d') as publishtime, t1.tendency, \\\n",
    "                            count(t1.id) as count \\\n",
    "                            from wise_web_docinfo t1 \\\n",
    "                                where (date_format(publishtime, '%%Y-%%m-%%d') >= '{0}' and \\\n",
    "                                      date_format(publishtime, '%%Y-%%m-%%d') <= '{1}') \\\n",
    "                                group by date_format(t1.publishtime,'%%Y-%%m-%%d'), t1.tendency \\\n",
    "                                order by date_format(t1.publishtime,'%%Y-%%m-%%d') desc\".format(start_day, end_day) \n",
    "\n",
    "tend_count = pd.read_sql(sql_tend, engine)\n",
    "tend_count.head()"
   ]
  },
  {
   "cell_type": "code",
   "execution_count": 23,
   "metadata": {
    "ExecuteTime": {
     "end_time": "2018-12-03T07:33:25.537269Z",
     "start_time": "2018-12-03T07:33:24.910233Z"
    }
   },
   "outputs": [
    {
     "data": {
      "image/png": "[encoded data removed]",
      "text/plain": [
       "<matplotlib.figure.Figure at 0xd0e8668>"
      ]
     },
     "metadata": {},
     "output_type": "display_data"
    },
    {
     "name": "stdout",
     "output_type": "stream",
     "text": [
      "   publishtime   neg    pos    sum  neg_rate  pos_rate\n",
      "31  2018-12-03  3017   8163  11180     0.270     0.730\n",
      "30  2018-12-02  2609   8404  11013     0.237     0.763\n",
      "29  2018-12-01  3998  14536  18534     0.216     0.784\n",
      "28  2018-11-30  4954  14954  19908     0.249     0.751\n",
      "27  2018-11-29  6335  19239  25574     0.248     0.752\n"
     ]
    }
   ],
   "source": [
    "plot_tend(tend_count, circ_day_thing, \"CIRC - tendency \")"
   ]
  },
  {
   "cell_type": "markdown",
   "metadata": {},
   "source": [
    "### group_id"
   ]
  },
  {
   "cell_type": "code",
   "execution_count": 24,
   "metadata": {
    "ExecuteTime": {
     "end_time": "2018-12-03T07:33:25.551270Z",
     "start_time": "2018-12-03T07:33:25.543269Z"
    },
    "collapsed": true
   },
   "outputs": [],
   "source": [
    "# sql_tend_group = \"select date_format(t1.publishtime,'%%Y-%%m-%%d') as publishtime, \\\n",
    "#                             t1.tendency, t1.group_id, count(t1.id) as cor_count \\\n",
    "#                             from wise_web_docinfo t1 \\\n",
    "#                                 where (date_format(t1.publishtime, '%%Y-%%m-%%d') >= '{0}' and \\\n",
    "#                                       date_format(t1.publishtime, '%%Y-%%m-%%d') <= '{1}') \\\n",
    "#                                 group by date_format(t1.publishtime,'%%Y-%%m-%%d'), t1.tendency, t1.group_id \\\n",
    "#                                 order by date_format(t1.publishtime,'%%Y-%%m-%%d') desc\".format(start_day, end_day) \n",
    "\n",
    "# tend_group_count = pd.read_sql(sql_tend_group, engine)\n",
    "# tend_group_count['group_id'] = tend_group_count['group_id'].apply(lambda x: group_dict[str(x)])\n",
    "# tend_group_count.head()"
   ]
  },
  {
   "cell_type": "markdown",
   "metadata": {},
   "source": [
    "## 补录和预警"
   ]
  },
  {
   "cell_type": "markdown",
   "metadata": {},
   "source": [
    "### 一周数据"
   ]
  },
  {
   "cell_type": "code",
   "execution_count": 25,
   "metadata": {
    "ExecuteTime": {
     "end_time": "2018-12-03T07:33:25.679277Z",
     "start_time": "2018-12-03T07:33:25.558270Z"
    },
    "collapsed": true
   },
   "outputs": [],
   "source": [
    "add_start_day = '2018-10-27'\n",
    "add_end_day = '2018-11-02'"
   ]
  },
  {
   "cell_type": "code",
   "execution_count": 26,
   "metadata": {
    "ExecuteTime": {
     "end_time": "2018-12-03T07:33:43.492296Z",
     "start_time": "2018-12-03T07:33:25.682277Z"
    }
   },
   "outputs": [
    {
     "name": "stdout",
     "output_type": "stream",
     "text": [
      "(68, 7)\n"
     ]
    }
   ],
   "source": [
    "# 人工补录\n",
    "sql_human_additional = \"select t1.id, t1.group_id, date_format(t1.publishtime,'%%Y-%%m-%%d') as publishtime,  \\\n",
    "                            t1.gather_type, t1.submited, t1.title, t2.center as content\\\n",
    "                            from wise_web_docinfo t1, wise_web_docinfo_center t2 \\\n",
    "                                where (date_format(publishtime, '%%Y-%%m-%%d') >= '{0}' and \\\n",
    "                                      date_format(publishtime, '%%Y-%%m-%%d') <= '{1}') and \\\n",
    "                                      t1.id = t2.doc_id and \\\n",
    "                                      t1.gather_type = 1 \".format(add_start_day, add_end_day) \n",
    "\n",
    "human_additional = pd.read_sql(sql_human_additional, engine)\n",
    "print(human_additional.shape)\n",
    "# human_additional.head()"
   ]
  },
  {
   "cell_type": "code",
   "execution_count": 27,
   "metadata": {
    "ExecuteTime": {
     "end_time": "2018-12-03T07:34:01.207309Z",
     "start_time": "2018-12-03T07:33:43.497296Z"
    }
   },
   "outputs": [
    {
     "name": "stdout",
     "output_type": "stream",
     "text": [
      "(124, 7)\n"
     ]
    }
   ],
   "source": [
    "# 预警数据\n",
    "sql_warning =  \"select t1.id, t1.group_id, date_format(t1.publishtime,'%%Y-%%m-%%d') as publishtime,  \\\n",
    "                            t1.gather_type, t1.submited, t1.title, t2.center as content\\\n",
    "                            from wise_web_docinfo t1, wise_web_docinfo_center t2 \\\n",
    "                                where (date_format(publishtime, '%%Y-%%m-%%d') >= '{0}' and \\\n",
    "                                      date_format(publishtime, '%%Y-%%m-%%d') <= '{1}') and \\\n",
    "                                      t1.id = t2.doc_id and \\\n",
    "                                      t1.submited = 1 \".format(add_start_day, add_end_day) \n",
    "\n",
    "warning = pd.read_sql(sql_warning, engine)\n",
    "print(warning.shape)\n",
    "# warning.head()"
   ]
  },
  {
   "cell_type": "code",
   "execution_count": 28,
   "metadata": {
    "ExecuteTime": {
     "end_time": "2018-12-03T07:34:01.315315Z",
     "start_time": "2018-12-03T07:34:01.210309Z"
    }
   },
   "outputs": [
    {
     "name": "stdout",
     "output_type": "stream",
     "text": [
      "去重前 (192, 7)\n",
      "去重后 (126, 7)\n"
     ]
    }
   ],
   "source": [
    "combined_data = pd.concat([human_additional, warning])\n",
    "print('去重前', combined_data.shape)\n",
    "combined_data = combined_data.drop_duplicates(subset = 'id')\n",
    "print('去重后', combined_data.shape)\n",
    "\n",
    "combined_data['group_id'] = combined_data['group_id'].apply(lambda x:group_dict[str(x)])\n",
    "combined_data['gather_type'] = combined_data['gather_type'].replace(1, '人工补录').replace(2, '人工修改')\n",
    "combined_data['submited'] = combined_data['submited'].replace(0, '不预警').replace(1, '预警')"
   ]
  },
  {
   "cell_type": "code",
   "execution_count": 29,
   "metadata": {
    "ExecuteTime": {
     "end_time": "2018-12-03T07:34:03.937465Z",
     "start_time": "2018-12-03T07:34:01.321316Z"
    }
   },
   "outputs": [
    {
     "data": {
      "text/html": [
       "<div>\n",
       "<style scoped>\n",
       "    .dataframe tbody tr th:only-of-type {\n",
       "        vertical-align: middle;\n",
       "    }\n",
       "\n",
       "    .dataframe tbody tr th {\n",
       "        vertical-align: top;\n",
       "    }\n",
       "\n",
       "    .dataframe thead th {\n",
       "        text-align: right;\n",
       "    }\n",
       "</style>\n",
       "<table border=\"1\" class=\"dataframe\">\n",
       "  <thead>\n",
       "    <tr style=\"text-align: right;\">\n",
       "      <th></th>\n",
       "      <th>id</th>\n",
       "      <th>predict_label</th>\n",
       "      <th>label</th>\n",
       "      <th>cor</th>\n",
       "      <th>all_cor</th>\n",
       "    </tr>\n",
       "  </thead>\n",
       "  <tbody>\n",
       "    <tr>\n",
       "      <th>0</th>\n",
       "      <td>11677278</td>\n",
       "      <td>监管</td>\n",
       "      <td></td>\n",
       "      <td>1</td>\n",
       "      <td>1</td>\n",
       "    </tr>\n",
       "    <tr>\n",
       "      <th>1</th>\n",
       "      <td>11684462</td>\n",
       "      <td>噪音</td>\n",
       "      <td></td>\n",
       "      <td>0</td>\n",
       "      <td>0</td>\n",
       "    </tr>\n",
       "    <tr>\n",
       "      <th>2</th>\n",
       "      <td>11686197</td>\n",
       "      <td>产品销售</td>\n",
       "      <td></td>\n",
       "      <td>0</td>\n",
       "      <td>1</td>\n",
       "    </tr>\n",
       "    <tr>\n",
       "      <th>3</th>\n",
       "      <td>11686236</td>\n",
       "      <td>噪音</td>\n",
       "      <td></td>\n",
       "      <td>0</td>\n",
       "      <td>0</td>\n",
       "    </tr>\n",
       "    <tr>\n",
       "      <th>4</th>\n",
       "      <td>11686238</td>\n",
       "      <td>消费服务</td>\n",
       "      <td></td>\n",
       "      <td>1</td>\n",
       "      <td>1</td>\n",
       "    </tr>\n",
       "  </tbody>\n",
       "</table>\n",
       "</div>"
      ],
      "text/plain": [
       "         id predict_label label  cor  all_cor\n",
       "0  11677278            监管          1        1\n",
       "1  11684462            噪音          0        0\n",
       "2  11686197          产品销售          0        1\n",
       "3  11686236            噪音          0        0\n",
       "4  11686238          消费服务          1        1"
      ]
     },
     "execution_count": 29,
     "metadata": {},
     "output_type": "execute_result"
    }
   ],
   "source": [
    "# predict\n",
    "data = {\"record\":combined_data.loc[:,['id', 'title' ,'content']].to_dict(orient = 'records')}\n",
    "# url = \"http://192.168.0.104:11000/judge_correlation_i\"\n",
    "url = \"http://47.93.77.19:10000/judge_correlation_i\"\n",
    "parse_data, elapsed_time = get_server_res(data, url)\n",
    "# parse_data.head()  \n",
    "\n",
    "parse_data.columns = ['id', 'predict_label']\n",
    "parse_data['predict_label'] = parse_data['predict_label'].apply(lambda x:class_name_dict[x])\n",
    "parse_data['label'] = ''\n",
    "parse_data['cor'] = parse_data['predict_label'].apply(lambda x:1 if x in ['监管', '行业', '经营管理', '消费服务'] else 0)\n",
    "parse_data['all_cor'] = parse_data['predict_label'].apply(lambda x:1 if x != '噪音' else 0)\n",
    "parse_data.head()"
   ]
  },
  {
   "cell_type": "code",
   "execution_count": 30,
   "metadata": {
    "ExecuteTime": {
     "end_time": "2018-12-03T07:34:04.077473Z",
     "start_time": "2018-12-03T07:34:03.941466Z"
    },
    "collapsed": true
   },
   "outputs": [],
   "source": [
    "combined_data = pd.merge(combined_data, parse_data, on  = 'id')\n",
    "stat = combined_data.groupby(['group_id', 'gather_type', 'submited'])['id'].count().reset_index()\n",
    "\n",
    "# 补录\n",
    "stat_a = combined_data.groupby(['group_id', 'gather_type'])['id'].count().reset_index()\n",
    "stat_a = stat_a[stat_a['gather_type'] == '人工补录']\n",
    "\n",
    "# 补录且预警\n",
    "stat_a_w = combined_data[combined_data['submited'] == '预警'].groupby(['group_id', 'gather_type'])['id'].count().reset_index()\n",
    "stat_a_w = stat_a_w[stat_a_w['gather_type'] == '人工补录']\n",
    "\n",
    "# 预警\n",
    "stat_w = combined_data.groupby(['group_id', 'submited'])['id'].count().reset_index()\n",
    "stat_w = stat_w[stat_w['submited'] == '预警']\n",
    "\n",
    "# 补录-过算法\n",
    "stat_a_cor = combined_data[combined_data['gather_type'] == '人工补录'].groupby(['group_id', 'cor'])['id'].count().reset_index()\n",
    "stat_a_cor = stat_a_cor[stat_a_cor['cor'] == 1]\n",
    "\n",
    "# 补录且预警-过算法\n",
    "stat_a_w_cor = combined_data[(combined_data['submited'] == '预警') & \\\n",
    "                             (combined_data['gather_type'] == '人工补录')\\\n",
    "                            ].groupby(['group_id', 'cor'])['id'].count().reset_index()\n",
    "stat_a_w_cor = stat_a_w_cor[stat_a_w_cor['cor'] == 1]\n",
    "\n",
    "# 补录-过算法\n",
    "stat_a_cor_7 = combined_data[combined_data['gather_type'] == '人工补录'].groupby(['group_id', 'all_cor'])['id'].count().reset_index()\n",
    "stat_a_cor_7 = stat_a_cor_7[stat_a_cor_7['all_cor'] == 1]\n",
    "\n",
    "# 补录且预警-过算法\n",
    "stat_a_w_cor_7 = combined_data[(combined_data['submited'] == '预警') & \\\n",
    "                             (combined_data['gather_type'] == '人工补录')\\\n",
    "                            ].groupby(['group_id', 'all_cor'])['id'].count().reset_index()\n",
    "stat_a_w_cor_7 = stat_a_w_cor_7[stat_a_w_cor_7['all_cor'] == 1]"
   ]
  },
  {
   "cell_type": "code",
   "execution_count": 31,
   "metadata": {
    "ExecuteTime": {
     "end_time": "2018-12-03T07:34:04.130476Z",
     "start_time": "2018-12-03T07:34:04.080474Z"
    },
    "collapsed": true
   },
   "outputs": [],
   "source": [
    "stat_a = stat_a[['group_id', 'id']]\n",
    "stat_a.columns = ['来源', '补录']\n",
    "stat_a_w = stat_a_w[['group_id', 'id']]\n",
    "stat_a_w.columns = ['来源', '补录且预警']\n",
    "stat_w = stat_w[['group_id', 'id']]\n",
    "stat_w.columns = ['来源', '预警数量']\n",
    "stat_a_cor = stat_a_cor[['group_id', 'id']]\n",
    "stat_a_cor.columns = ['来源', '补录&过算法(4类)']\n",
    "stat_a_w_cor = stat_a_w_cor[['group_id', 'id']]\n",
    "stat_a_w_cor.columns = ['来源', '补录且预警&过算法(4类)']\n",
    "stat_a_cor_7 = stat_a_cor_7[['group_id', 'id']]\n",
    "stat_a_cor_7.columns = ['来源', '补录&过算法(7类)']\n",
    "stat_a_w_cor_7 = stat_a_w_cor_7[['group_id', 'id']]\n",
    "stat_a_w_cor_7.columns = ['来源', '补录且预警&过算法(7类)']"
   ]
  },
  {
   "cell_type": "code",
   "execution_count": 32,
   "metadata": {
    "ExecuteTime": {
     "end_time": "2018-12-03T07:34:04.326488Z",
     "start_time": "2018-12-03T07:34:04.134477Z"
    }
   },
   "outputs": [
    {
     "data": {
      "text/html": [
       "<div>\n",
       "<style scoped>\n",
       "    .dataframe tbody tr th:only-of-type {\n",
       "        vertical-align: middle;\n",
       "    }\n",
       "\n",
       "    .dataframe tbody tr th {\n",
       "        vertical-align: top;\n",
       "    }\n",
       "\n",
       "    .dataframe thead th {\n",
       "        text-align: right;\n",
       "    }\n",
       "</style>\n",
       "<table border=\"1\" class=\"dataframe\">\n",
       "  <thead>\n",
       "    <tr style=\"text-align: right;\">\n",
       "      <th>来源</th>\n",
       "      <th>微信</th>\n",
       "      <th>新闻</th>\n",
       "      <th>新闻客户端</th>\n",
       "      <th>纸媒</th>\n",
       "      <th>视频</th>\n",
       "      <th>总量</th>\n",
       "    </tr>\n",
       "    <tr>\n",
       "      <th>保监会：2018-10-27 到 2018-11-02</th>\n",
       "      <th></th>\n",
       "      <th></th>\n",
       "      <th></th>\n",
       "      <th></th>\n",
       "      <th></th>\n",
       "      <th></th>\n",
       "    </tr>\n",
       "  </thead>\n",
       "  <tbody>\n",
       "    <tr>\n",
       "      <th>补录</th>\n",
       "      <td>12.000</td>\n",
       "      <td>42.000</td>\n",
       "      <td>3.000</td>\n",
       "      <td>9.000</td>\n",
       "      <td>2.000</td>\n",
       "      <td>68.000</td>\n",
       "    </tr>\n",
       "    <tr>\n",
       "      <th>预警数量</th>\n",
       "      <td>12.000</td>\n",
       "      <td>73.000</td>\n",
       "      <td>2.000</td>\n",
       "      <td>35.000</td>\n",
       "      <td>2.000</td>\n",
       "      <td>124.000</td>\n",
       "    </tr>\n",
       "    <tr>\n",
       "      <th>补录且预警</th>\n",
       "      <td>12.000</td>\n",
       "      <td>41.000</td>\n",
       "      <td>2.000</td>\n",
       "      <td>9.000</td>\n",
       "      <td>2.000</td>\n",
       "      <td>66.000</td>\n",
       "    </tr>\n",
       "    <tr>\n",
       "      <th>补录&amp;过算法(7类)</th>\n",
       "      <td>11.000</td>\n",
       "      <td>37.000</td>\n",
       "      <td>3.000</td>\n",
       "      <td>8.000</td>\n",
       "      <td>1.000</td>\n",
       "      <td>60.000</td>\n",
       "    </tr>\n",
       "    <tr>\n",
       "      <th>补录且预警&amp;过算法(7类)</th>\n",
       "      <td>11.000</td>\n",
       "      <td>36.000</td>\n",
       "      <td>2.000</td>\n",
       "      <td>8.000</td>\n",
       "      <td>1.000</td>\n",
       "      <td>58.000</td>\n",
       "    </tr>\n",
       "    <tr>\n",
       "      <th>补录且预警 / 预警-比例</th>\n",
       "      <td>100%</td>\n",
       "      <td>56%</td>\n",
       "      <td>100%</td>\n",
       "      <td>26%</td>\n",
       "      <td>100%</td>\n",
       "      <td>53%</td>\n",
       "    </tr>\n",
       "    <tr>\n",
       "      <th>补录且预警 / 补录-比例</th>\n",
       "      <td>100%</td>\n",
       "      <td>98%</td>\n",
       "      <td>67%</td>\n",
       "      <td>100%</td>\n",
       "      <td>100%</td>\n",
       "      <td>97%</td>\n",
       "    </tr>\n",
       "    <tr>\n",
       "      <th>补录&amp;过算法(7类) / 补录-比例</th>\n",
       "      <td>92%</td>\n",
       "      <td>88%</td>\n",
       "      <td>100%</td>\n",
       "      <td>89%</td>\n",
       "      <td>50%</td>\n",
       "      <td>88%</td>\n",
       "    </tr>\n",
       "    <tr>\n",
       "      <th>补录且预警&amp;过算法(7类) / 补录且预警-比例</th>\n",
       "      <td>92%</td>\n",
       "      <td>88%</td>\n",
       "      <td>100%</td>\n",
       "      <td>89%</td>\n",
       "      <td>50%</td>\n",
       "      <td>88%</td>\n",
       "    </tr>\n",
       "  </tbody>\n",
       "</table>\n",
       "</div>"
      ],
      "text/plain": [
       "来源                              微信     新闻 新闻客户端     纸媒    视频      总量\n",
       "保监会：2018-10-27 到 2018-11-02                                         \n",
       "补录                          12.000 42.000 3.000  9.000 2.000  68.000\n",
       "预警数量                        12.000 73.000 2.000 35.000 2.000 124.000\n",
       "补录且预警                       12.000 41.000 2.000  9.000 2.000  66.000\n",
       "补录&过算法(7类)                  11.000 37.000 3.000  8.000 1.000  60.000\n",
       "补录且预警&过算法(7类)               11.000 36.000 2.000  8.000 1.000  58.000\n",
       "补录且预警 / 预警-比例                 100%    56%  100%    26%  100%     53%\n",
       "补录且预警 / 补录-比例                 100%    98%   67%   100%  100%     97%\n",
       "补录&过算法(7类) / 补录-比例             92%    88%  100%    89%   50%     88%\n",
       "补录且预警&过算法(7类) / 补录且预警-比例       92%    88%  100%    89%   50%     88%"
      ]
     },
     "execution_count": 32,
     "metadata": {},
     "output_type": "execute_result"
    }
   ],
   "source": [
    "stat = pd.merge(stat_a, stat_w, on = '来源', how = 'outer')\n",
    "stat = pd.merge(stat, stat_a_w, on = '来源', how = 'outer')\n",
    "# stat = pd.merge(stat, stat_a_cor, on = '来源', how = 'outer')\n",
    "# stat = pd.merge(stat, stat_a_w_cor, on = '来源', how = 'outer')\n",
    "stat = pd.merge(stat, stat_a_cor_7, on = '来源', how = 'outer')\n",
    "stat = pd.merge(stat, stat_a_w_cor_7, on = '来源', how = 'outer')\n",
    "stat = stat.set_index('来源').stack().unstack(0)\n",
    "stat['总量'] =  stat.sum(axis = 1)\n",
    "stat.loc['补录且预警 / 预警-比例'] = stat.loc['补录且预警'] / stat.loc['预警数量'] \n",
    "stat.loc['补录且预警 / 预警-比例'] = stat.loc['补录且预警 / 预警-比例'].apply(lambda x: '{:.0f}%'.format(x*100))\n",
    "stat.loc['补录且预警 / 补录-比例'] = stat.loc['补录且预警'] / stat.loc['补录'] \n",
    "stat.loc['补录且预警 / 补录-比例'] = stat.loc['补录且预警 / 补录-比例'].apply(lambda x: '{:.0f}%'.format(x*100))\n",
    "# stat.loc['补录&过算法(4类) / 补录-比例'] = stat.loc['补录&过算法(4类)'] / stat.loc['补录'] \n",
    "# stat.loc['补录&过算法(4类) / 补录-比例'] = stat.loc['补录&过算法(4类) / 补录-比例'].apply(lambda x: '{:.0f}%'.format(x*100))\n",
    "# stat.loc['补录且预警&过算法(4类) / 预警-比例'] = stat.loc['补录且预警&过算法(4类)'] / stat.loc['预警数量'] \n",
    "# stat.loc['补录且预警&过算法(4类) / 预警-比例'] = stat.loc['补录且预警&过算法(4类) / 预警-比例'].apply(lambda x: '{:.0f}%'.format(x*100))\n",
    "stat.loc['补录&过算法(7类) / 补录-比例'] = stat.loc['补录&过算法(7类)'] / stat.loc['补录'] \n",
    "stat.loc['补录&过算法(7类) / 补录-比例'] = stat.loc['补录&过算法(7类) / 补录-比例'].apply(lambda x: '{:.0f}%'.format(x*100))\n",
    "stat.loc['补录且预警&过算法(7类) / 补录且预警-比例'] = stat.loc['补录且预警&过算法(7类)'] / stat.loc['补录且预警'] \n",
    "stat.loc['补录且预警&过算法(7类) / 补录且预警-比例'] = stat.loc['补录且预警&过算法(7类) / 补录且预警-比例'].apply(lambda x: '{:.0f}%'.format(x*100))\n",
    "stat.index.name = '保监会：{0} 到 {1}'.format(add_start_day, add_end_day)\n",
    "stat"
   ]
  },
  {
   "cell_type": "markdown",
   "metadata": {},
   "source": [
    "### 导出一段时间补录数据用于训练"
   ]
  },
  {
   "cell_type": "code",
   "execution_count": 33,
   "metadata": {
    "ExecuteTime": {
     "end_time": "2018-12-03T07:34:04.478496Z",
     "start_time": "2018-12-03T07:34:04.332488Z"
    },
    "collapsed": true
   },
   "outputs": [],
   "source": [
    "# 人工补录\n",
    "sql_human_additional = \"select t1.id, t1.group_id, date_format(t1.publishtime,'%%Y-%%m-%%d') as publishtime,  \\\n",
    "                            t1.gather_type, t1.submited, t1.title, t2.center as content\\\n",
    "                            from wise_web_docinfo t1, wise_web_docinfo_center t2 \\\n",
    "                                where (date_format(publishtime, '%%Y-%%m-%%d') >= '{0}' and \\\n",
    "                                      date_format(publishtime, '%%Y-%%m-%%d') <= '{1}') and \\\n",
    "                                      t1.id = t2.doc_id and \\\n",
    "                                      t1.gather_type = 1 \".format('2018-08-20', '2018-09-16') \n",
    "\n",
    "# human_additional = pd.read_sql(sql_human_additional, engine)\n",
    "# print(human_additional.shape)\n",
    "# human_additional.head()"
   ]
  },
  {
   "cell_type": "code",
   "execution_count": 34,
   "metadata": {
    "ExecuteTime": {
     "end_time": "2018-12-03T07:34:04.607504Z",
     "start_time": "2018-12-03T07:34:04.484497Z"
    },
    "collapsed": true
   },
   "outputs": [],
   "source": [
    "# 预警数据\n",
    "sql_warning =  \"select t1.id, t1.group_id, date_format(t1.publishtime,'%%Y-%%m-%%d') as publishtime,  \\\n",
    "                            t1.gather_type, t1.submited, t1.title, t2.center as content\\\n",
    "                            from wise_web_docinfo t1, wise_web_docinfo_center t2 \\\n",
    "                                where (date_format(publishtime, '%%Y-%%m-%%d') >= '{0}' and \\\n",
    "                                      date_format(publishtime, '%%Y-%%m-%%d') <= '{1}') and \\\n",
    "                                      t1.id = t2.doc_id and \\\n",
    "                                      t1.submited = 1 \".format('2018-08-20', '2018-09-16') \n",
    "\n",
    "# warning = pd.read_sql(sql_warning, engine)\n",
    "# print(warning.shape)\n",
    "# warning.head()"
   ]
  },
  {
   "cell_type": "code",
   "execution_count": 35,
   "metadata": {
    "ExecuteTime": {
     "end_time": "2018-12-03T07:34:04.712510Z",
     "start_time": "2018-12-03T07:34:04.610504Z"
    },
    "collapsed": true
   },
   "outputs": [],
   "source": [
    "if 0:\n",
    "    # url = \"http://192.168.0.104:11000/judge_correlation_i\"\n",
    "    url = \"http://47.93.77.19:10000/judge_correlation_i\"\n",
    "    folder = 'circ_result_class'\n",
    "    filename = 'circ_add&warning_20180917(0820-0916).xlsx'\n",
    "    get_period_data_for_training(human_additional, warning, url, folder, filename, 'circ')"
   ]
  },
  {
   "cell_type": "markdown",
   "metadata": {},
   "source": [
    "# 银行业--旧"
   ]
  },
  {
   "cell_type": "markdown",
   "metadata": {},
   "source": [
    "## 特殊时间点"
   ]
  },
  {
   "cell_type": "code",
   "execution_count": 36,
   "metadata": {
    "ExecuteTime": {
     "end_time": "2018-12-03T07:34:04.909521Z",
     "start_time": "2018-12-03T07:34:04.715510Z"
    },
    "collapsed": true
   },
   "outputs": [],
   "source": [
    "engine = specific_func.get_engine('cbrc')"
   ]
  },
  {
   "cell_type": "code",
   "execution_count": 37,
   "metadata": {
    "ExecuteTime": {
     "end_time": "2018-12-03T07:34:04.931522Z",
     "start_time": "2018-12-03T07:34:04.913521Z"
    },
    "collapsed": true
   },
   "outputs": [],
   "source": [
    "cbrc_day_thing = [['2018-05-02', '相关性模型'], \n",
    "             ['2018-06-01', '更新相关性模型'], \n",
    "             ['2018-06-12', '更新相关性模型'], \n",
    "             ['2018-06-12', '上线倾向性模型']\n",
    "            ]"
   ]
  },
  {
   "cell_type": "markdown",
   "metadata": {},
   "source": [
    "## 八分类"
   ]
  },
  {
   "cell_type": "code",
   "execution_count": 38,
   "metadata": {
    "ExecuteTime": {
     "end_time": "2018-12-03T07:40:10.347423Z",
     "start_time": "2018-12-03T07:34:04.935522Z"
    }
   },
   "outputs": [
    {
     "data": {
      "text/html": [
       "<div>\n",
       "<style scoped>\n",
       "    .dataframe tbody tr th:only-of-type {\n",
       "        vertical-align: middle;\n",
       "    }\n",
       "\n",
       "    .dataframe tbody tr th {\n",
       "        vertical-align: top;\n",
       "    }\n",
       "\n",
       "    .dataframe thead th {\n",
       "        text-align: right;\n",
       "    }\n",
       "</style>\n",
       "<table border=\"1\" class=\"dataframe\">\n",
       "  <thead>\n",
       "    <tr style=\"text-align: right;\">\n",
       "      <th></th>\n",
       "      <th>publishtime</th>\n",
       "      <th>classify</th>\n",
       "      <th>count</th>\n",
       "    </tr>\n",
       "  </thead>\n",
       "  <tbody>\n",
       "    <tr>\n",
       "      <th>0</th>\n",
       "      <td>2018-12-03</td>\n",
       "      <td>监管</td>\n",
       "      <td>5549</td>\n",
       "    </tr>\n",
       "    <tr>\n",
       "      <th>1</th>\n",
       "      <td>2018-12-03</td>\n",
       "      <td>行业</td>\n",
       "      <td>7575</td>\n",
       "    </tr>\n",
       "    <tr>\n",
       "      <th>2</th>\n",
       "      <td>2018-12-03</td>\n",
       "      <td>产品销售</td>\n",
       "      <td>1667</td>\n",
       "    </tr>\n",
       "    <tr>\n",
       "      <th>3</th>\n",
       "      <td>2018-12-03</td>\n",
       "      <td>资本市场</td>\n",
       "      <td>10411</td>\n",
       "    </tr>\n",
       "    <tr>\n",
       "      <th>4</th>\n",
       "      <td>2018-12-03</td>\n",
       "      <td>公司内部管理</td>\n",
       "      <td>1995</td>\n",
       "    </tr>\n",
       "  </tbody>\n",
       "</table>\n",
       "</div>"
      ],
      "text/plain": [
       "  publishtime classify  count\n",
       "0  2018-12-03       监管   5549\n",
       "1  2018-12-03       行业   7575\n",
       "2  2018-12-03     产品销售   1667\n",
       "3  2018-12-03     资本市场  10411\n",
       "4  2018-12-03   公司内部管理   1995"
      ]
     },
     "execution_count": 38,
     "metadata": {},
     "output_type": "execute_result"
    }
   ],
   "source": [
    "sql_cbrc = \"select date_format(t1.publishtime,'%%Y-%%m-%%d') as publishtime, \\\n",
    "                        t2.traffic_id as classify, count(t1.id) as count \\\n",
    "                            from wise_web_docinfo_basic t1, wise_web_classify_traffic_docinfo t2 \\\n",
    "                                where (date_format(t1.publishtime, '%%Y-%%m-%%d') >= '{0}' and \\\n",
    "                                      date_format(t1.publishtime, '%%Y-%%m-%%d') <= '{1}') and \\\n",
    "                                      t2.base_id=t1.id \\\n",
    "                                group by date_format(t1.publishtime,'%%Y-%%m-%%d'), t2.traffic_id \\\n",
    "                                order by date_format(t1.publishtime,'%%Y-%%m-%%d') desc\".format(start_day, end_day) \n",
    "\n",
    "cbrc_count = pd.read_sql(sql_cbrc, engine)\n",
    "cbrc_count['classify'] = cbrc_count['classify'].apply(lambda x:class_name_dict[x])\n",
    "cbrc_count.head()"
   ]
  },
  {
   "cell_type": "markdown",
   "metadata": {
    "collapsed": true
   },
   "source": [
    "### class"
   ]
  },
  {
   "cell_type": "code",
   "execution_count": 39,
   "metadata": {
    "ExecuteTime": {
     "end_time": "2018-12-03T07:40:10.448429Z",
     "start_time": "2018-12-03T07:40:10.352423Z"
    }
   },
   "outputs": [
    {
     "data": {
      "text/html": [
       "<div>\n",
       "<style scoped>\n",
       "    .dataframe tbody tr th:only-of-type {\n",
       "        vertical-align: middle;\n",
       "    }\n",
       "\n",
       "    .dataframe tbody tr th {\n",
       "        vertical-align: top;\n",
       "    }\n",
       "\n",
       "    .dataframe thead tr th {\n",
       "        text-align: left;\n",
       "    }\n",
       "\n",
       "    .dataframe thead tr:last-of-type th {\n",
       "        text-align: right;\n",
       "    }\n",
       "</style>\n",
       "<table border=\"1\" class=\"dataframe\">\n",
       "  <thead>\n",
       "    <tr>\n",
       "      <th></th>\n",
       "      <th colspan=\"8\" halign=\"left\">count</th>\n",
       "      <th>总量</th>\n",
       "      <th>非噪音</th>\n",
       "      <th>非噪音-比例</th>\n",
       "      <th>噪音-比例</th>\n",
       "    </tr>\n",
       "    <tr>\n",
       "      <th>classify</th>\n",
       "      <th>产品销售</th>\n",
       "      <th>公司内部管理</th>\n",
       "      <th>其他相关报道</th>\n",
       "      <th>噪音</th>\n",
       "      <th>消费服务</th>\n",
       "      <th>监管</th>\n",
       "      <th>行业</th>\n",
       "      <th>资本市场</th>\n",
       "      <th></th>\n",
       "      <th></th>\n",
       "      <th></th>\n",
       "      <th></th>\n",
       "    </tr>\n",
       "    <tr>\n",
       "      <th>publishtime</th>\n",
       "      <th></th>\n",
       "      <th></th>\n",
       "      <th></th>\n",
       "      <th></th>\n",
       "      <th></th>\n",
       "      <th></th>\n",
       "      <th></th>\n",
       "      <th></th>\n",
       "      <th></th>\n",
       "      <th></th>\n",
       "      <th></th>\n",
       "      <th></th>\n",
       "    </tr>\n",
       "  </thead>\n",
       "  <tbody>\n",
       "    <tr>\n",
       "      <th>2018-12-03</th>\n",
       "      <td>1667</td>\n",
       "      <td>1995</td>\n",
       "      <td>2135</td>\n",
       "      <td>53993</td>\n",
       "      <td>5894</td>\n",
       "      <td>5549</td>\n",
       "      <td>7575</td>\n",
       "      <td>10411</td>\n",
       "      <td>89219</td>\n",
       "      <td>35226</td>\n",
       "      <td>0.395</td>\n",
       "      <td>0.605</td>\n",
       "    </tr>\n",
       "    <tr>\n",
       "      <th>2018-12-02</th>\n",
       "      <td>2157</td>\n",
       "      <td>1171</td>\n",
       "      <td>2012</td>\n",
       "      <td>73829</td>\n",
       "      <td>11398</td>\n",
       "      <td>4783</td>\n",
       "      <td>6699</td>\n",
       "      <td>8745</td>\n",
       "      <td>110794</td>\n",
       "      <td>36965</td>\n",
       "      <td>0.334</td>\n",
       "      <td>0.666</td>\n",
       "    </tr>\n",
       "    <tr>\n",
       "      <th>2018-12-01</th>\n",
       "      <td>2854</td>\n",
       "      <td>2658</td>\n",
       "      <td>4567</td>\n",
       "      <td>100148</td>\n",
       "      <td>17427</td>\n",
       "      <td>7781</td>\n",
       "      <td>9173</td>\n",
       "      <td>16010</td>\n",
       "      <td>160618</td>\n",
       "      <td>60470</td>\n",
       "      <td>0.376</td>\n",
       "      <td>0.624</td>\n",
       "    </tr>\n",
       "    <tr>\n",
       "      <th>2018-11-30</th>\n",
       "      <td>3790</td>\n",
       "      <td>3392</td>\n",
       "      <td>5135</td>\n",
       "      <td>118762</td>\n",
       "      <td>32445</td>\n",
       "      <td>8460</td>\n",
       "      <td>14131</td>\n",
       "      <td>20433</td>\n",
       "      <td>206548</td>\n",
       "      <td>87786</td>\n",
       "      <td>0.425</td>\n",
       "      <td>0.575</td>\n",
       "    </tr>\n",
       "    <tr>\n",
       "      <th>2018-11-29</th>\n",
       "      <td>3902</td>\n",
       "      <td>3953</td>\n",
       "      <td>5907</td>\n",
       "      <td>130227</td>\n",
       "      <td>27170</td>\n",
       "      <td>9813</td>\n",
       "      <td>16708</td>\n",
       "      <td>24100</td>\n",
       "      <td>221780</td>\n",
       "      <td>91553</td>\n",
       "      <td>0.413</td>\n",
       "      <td>0.587</td>\n",
       "    </tr>\n",
       "  </tbody>\n",
       "</table>\n",
       "</div>"
      ],
      "text/plain": [
       "            count                                                       总量  \\\n",
       "classify     产品销售 公司内部管理 其他相关报道      噪音   消费服务    监管     行业   资本市场           \n",
       "publishtime                                                                  \n",
       "2018-12-03   1667   1995   2135   53993   5894  5549   7575  10411   89219   \n",
       "2018-12-02   2157   1171   2012   73829  11398  4783   6699   8745  110794   \n",
       "2018-12-01   2854   2658   4567  100148  17427  7781   9173  16010  160618   \n",
       "2018-11-30   3790   3392   5135  118762  32445  8460  14131  20433  206548   \n",
       "2018-11-29   3902   3953   5907  130227  27170  9813  16708  24100  221780   \n",
       "\n",
       "               非噪音 非噪音-比例 噪音-比例  \n",
       "classify                         \n",
       "publishtime                      \n",
       "2018-12-03   35226  0.395 0.605  \n",
       "2018-12-02   36965  0.334 0.666  \n",
       "2018-12-01   60470  0.376 0.624  \n",
       "2018-11-30   87786  0.425 0.575  \n",
       "2018-11-29   91553  0.413 0.587  "
      ]
     },
     "execution_count": 39,
     "metadata": {},
     "output_type": "execute_result"
    }
   ],
   "source": [
    "class_count = cbrc_count\n",
    "cor_class_1, cor_class, count_data_7, count_data_4 = get_class_data(class_count)\n",
    "cor_class_1.sort_index(ascending = False).head()"
   ]
  },
  {
   "cell_type": "code",
   "execution_count": 40,
   "metadata": {
    "ExecuteTime": {
     "end_time": "2018-12-03T07:40:10.801449Z",
     "start_time": "2018-12-03T07:40:10.453429Z"
    }
   },
   "outputs": [
    {
     "data": {
      "text/html": [
       "<div>\n",
       "<style scoped>\n",
       "    .dataframe tbody tr th:only-of-type {\n",
       "        vertical-align: middle;\n",
       "    }\n",
       "\n",
       "    .dataframe tbody tr th {\n",
       "        vertical-align: top;\n",
       "    }\n",
       "\n",
       "    .dataframe thead tr th {\n",
       "        text-align: left;\n",
       "    }\n",
       "\n",
       "    .dataframe thead tr:last-of-type th {\n",
       "        text-align: right;\n",
       "    }\n",
       "</style>\n",
       "<table border=\"1\" class=\"dataframe\">\n",
       "  <thead>\n",
       "    <tr>\n",
       "      <th></th>\n",
       "      <th colspan=\"8\" halign=\"left\">count</th>\n",
       "      <th>总量</th>\n",
       "      <th colspan=\"8\" halign=\"left\">rate</th>\n",
       "    </tr>\n",
       "    <tr>\n",
       "      <th>classify</th>\n",
       "      <th>产品销售</th>\n",
       "      <th>公司内部管理</th>\n",
       "      <th>其他相关报道</th>\n",
       "      <th>噪音</th>\n",
       "      <th>消费服务</th>\n",
       "      <th>监管</th>\n",
       "      <th>行业</th>\n",
       "      <th>资本市场</th>\n",
       "      <th></th>\n",
       "      <th>产品销售</th>\n",
       "      <th>公司内部管理</th>\n",
       "      <th>其他相关报道</th>\n",
       "      <th>噪音</th>\n",
       "      <th>消费服务</th>\n",
       "      <th>监管</th>\n",
       "      <th>行业</th>\n",
       "      <th>资本市场</th>\n",
       "    </tr>\n",
       "    <tr>\n",
       "      <th>publishtime</th>\n",
       "      <th></th>\n",
       "      <th></th>\n",
       "      <th></th>\n",
       "      <th></th>\n",
       "      <th></th>\n",
       "      <th></th>\n",
       "      <th></th>\n",
       "      <th></th>\n",
       "      <th></th>\n",
       "      <th></th>\n",
       "      <th></th>\n",
       "      <th></th>\n",
       "      <th></th>\n",
       "      <th></th>\n",
       "      <th></th>\n",
       "      <th></th>\n",
       "      <th></th>\n",
       "    </tr>\n",
       "  </thead>\n",
       "  <tbody>\n",
       "    <tr>\n",
       "      <th>2018-12-03</th>\n",
       "      <td>1667</td>\n",
       "      <td>1995</td>\n",
       "      <td>2135</td>\n",
       "      <td>53993</td>\n",
       "      <td>5894</td>\n",
       "      <td>5549</td>\n",
       "      <td>7575</td>\n",
       "      <td>10411</td>\n",
       "      <td>89219</td>\n",
       "      <td>0.019</td>\n",
       "      <td>0.022</td>\n",
       "      <td>0.024</td>\n",
       "      <td>0.605</td>\n",
       "      <td>0.066</td>\n",
       "      <td>0.062</td>\n",
       "      <td>0.085</td>\n",
       "      <td>0.117</td>\n",
       "    </tr>\n",
       "    <tr>\n",
       "      <th>2018-12-02</th>\n",
       "      <td>2157</td>\n",
       "      <td>1171</td>\n",
       "      <td>2012</td>\n",
       "      <td>73829</td>\n",
       "      <td>11398</td>\n",
       "      <td>4783</td>\n",
       "      <td>6699</td>\n",
       "      <td>8745</td>\n",
       "      <td>110794</td>\n",
       "      <td>0.019</td>\n",
       "      <td>0.011</td>\n",
       "      <td>0.018</td>\n",
       "      <td>0.666</td>\n",
       "      <td>0.103</td>\n",
       "      <td>0.043</td>\n",
       "      <td>0.060</td>\n",
       "      <td>0.079</td>\n",
       "    </tr>\n",
       "    <tr>\n",
       "      <th>2018-12-01</th>\n",
       "      <td>2854</td>\n",
       "      <td>2658</td>\n",
       "      <td>4567</td>\n",
       "      <td>100148</td>\n",
       "      <td>17427</td>\n",
       "      <td>7781</td>\n",
       "      <td>9173</td>\n",
       "      <td>16010</td>\n",
       "      <td>160618</td>\n",
       "      <td>0.018</td>\n",
       "      <td>0.017</td>\n",
       "      <td>0.028</td>\n",
       "      <td>0.624</td>\n",
       "      <td>0.108</td>\n",
       "      <td>0.048</td>\n",
       "      <td>0.057</td>\n",
       "      <td>0.100</td>\n",
       "    </tr>\n",
       "    <tr>\n",
       "      <th>2018-11-30</th>\n",
       "      <td>3790</td>\n",
       "      <td>3392</td>\n",
       "      <td>5135</td>\n",
       "      <td>118762</td>\n",
       "      <td>32445</td>\n",
       "      <td>8460</td>\n",
       "      <td>14131</td>\n",
       "      <td>20433</td>\n",
       "      <td>206548</td>\n",
       "      <td>0.018</td>\n",
       "      <td>0.016</td>\n",
       "      <td>0.025</td>\n",
       "      <td>0.575</td>\n",
       "      <td>0.157</td>\n",
       "      <td>0.041</td>\n",
       "      <td>0.068</td>\n",
       "      <td>0.099</td>\n",
       "    </tr>\n",
       "    <tr>\n",
       "      <th>2018-11-29</th>\n",
       "      <td>3902</td>\n",
       "      <td>3953</td>\n",
       "      <td>5907</td>\n",
       "      <td>130227</td>\n",
       "      <td>27170</td>\n",
       "      <td>9813</td>\n",
       "      <td>16708</td>\n",
       "      <td>24100</td>\n",
       "      <td>221780</td>\n",
       "      <td>0.018</td>\n",
       "      <td>0.018</td>\n",
       "      <td>0.027</td>\n",
       "      <td>0.587</td>\n",
       "      <td>0.123</td>\n",
       "      <td>0.044</td>\n",
       "      <td>0.075</td>\n",
       "      <td>0.109</td>\n",
       "    </tr>\n",
       "  </tbody>\n",
       "</table>\n",
       "</div>"
      ],
      "text/plain": [
       "            count                                                       总量  \\\n",
       "classify     产品销售 公司内部管理 其他相关报道      噪音   消费服务    监管     行业   资本市场           \n",
       "publishtime                                                                  \n",
       "2018-12-03   1667   1995   2135   53993   5894  5549   7575  10411   89219   \n",
       "2018-12-02   2157   1171   2012   73829  11398  4783   6699   8745  110794   \n",
       "2018-12-01   2854   2658   4567  100148  17427  7781   9173  16010  160618   \n",
       "2018-11-30   3790   3392   5135  118762  32445  8460  14131  20433  206548   \n",
       "2018-11-29   3902   3953   5907  130227  27170  9813  16708  24100  221780   \n",
       "\n",
       "             rate                                              \n",
       "classify     产品销售 公司内部管理 其他相关报道    噪音  消费服务    监管    行业  资本市场  \n",
       "publishtime                                                    \n",
       "2018-12-03  0.019  0.022  0.024 0.605 0.066 0.062 0.085 0.117  \n",
       "2018-12-02  0.019  0.011  0.018 0.666 0.103 0.043 0.060 0.079  \n",
       "2018-12-01  0.018  0.017  0.028 0.624 0.108 0.048 0.057 0.100  \n",
       "2018-11-30  0.018  0.016  0.025 0.575 0.157 0.041 0.068 0.099  \n",
       "2018-11-29  0.018  0.018  0.027 0.587 0.123 0.044 0.075 0.109  "
      ]
     },
     "execution_count": 40,
     "metadata": {},
     "output_type": "execute_result"
    },
    {
     "data": {
      "image/png": "[encoded data removed]",
      "text/plain": [
       "<matplotlib.figure.Figure at 0xc7175c0>"
      ]
     },
     "metadata": {},
     "output_type": "display_data"
    }
   ],
   "source": [
    "cor_class['rate'].reset_index().fillna(0).plot(x = 'publishtime', figsize = (15,6))\n",
    "cor_class.sort_index(ascending = False).head()"
   ]
  },
  {
   "cell_type": "markdown",
   "metadata": {
    "ExecuteTime": {
     "end_time": "2018-09-18T06:21:17.584594Z",
     "start_time": "2018-09-18T06:21:17.570593Z"
    }
   },
   "source": [
    "### 总体"
   ]
  },
  {
   "cell_type": "code",
   "execution_count": 41,
   "metadata": {
    "ExecuteTime": {
     "end_time": "2018-12-03T07:40:11.445486Z",
     "start_time": "2018-12-03T07:40:10.804449Z"
    }
   },
   "outputs": [
    {
     "data": {
      "image/png": "[encoded data removed]",
      "text/plain": [
       "<matplotlib.figure.Figure at 0xc64fa58>"
      ]
     },
     "metadata": {},
     "output_type": "display_data"
    },
    {
     "name": "stdout",
     "output_type": "stream",
     "text": [
      "   publishtime     sum  al_cor  al_uncor  al_cor_rate  al_uncor_rate\n",
      "31  2018-12-03   89219   35226     53993        0.395          0.605\n",
      "30  2018-12-02  110794   36965     73829        0.334          0.666\n",
      "29  2018-12-01  160618   60470    100148        0.376          0.624\n",
      "28  2018-11-30  206548   87786    118762        0.425          0.575\n",
      "27  2018-11-29  221780   91553    130227        0.413          0.587\n"
     ]
    }
   ],
   "source": [
    "plot_cor(count_data_7, cbrc_day_thing, \"CBRC 8-class cor&uncor:7-1\")"
   ]
  },
  {
   "cell_type": "code",
   "execution_count": 42,
   "metadata": {
    "ExecuteTime": {
     "end_time": "2018-12-03T07:40:12.132525Z",
     "start_time": "2018-12-03T07:40:11.448486Z"
    }
   },
   "outputs": [
    {
     "data": {
      "image/png": "[encoded data removed]",
      "text/plain": [
       "<matplotlib.figure.Figure at 0xce03630>"
      ]
     },
     "metadata": {},
     "output_type": "display_data"
    },
    {
     "name": "stdout",
     "output_type": "stream",
     "text": [
      "   publishtime  al_cor     sum  al_uncor  al_cor_rate  al_uncor_rate\n",
      "31  2018-12-03   21013   89219     68206        0.236          0.764\n",
      "30  2018-12-02   24051  110794     86743        0.217          0.783\n",
      "29  2018-12-01   37039  160618    123579        0.231          0.769\n",
      "28  2018-11-30   58428  206548    148120        0.283          0.717\n",
      "27  2018-11-29   57644  221780    164136        0.260          0.740\n"
     ]
    }
   ],
   "source": [
    "plot_cor(count_data_4, cbrc_day_thing, \"CBRC 8-class cor&uncor:4-4\")"
   ]
  },
  {
   "cell_type": "markdown",
   "metadata": {},
   "source": [
    "## 倾向性"
   ]
  },
  {
   "cell_type": "code",
   "execution_count": 43,
   "metadata": {
    "ExecuteTime": {
     "end_time": "2018-12-03T07:46:37.539569Z",
     "start_time": "2018-12-03T07:40:12.135525Z"
    }
   },
   "outputs": [
    {
     "data": {
      "text/html": [
       "<div>\n",
       "<style scoped>\n",
       "    .dataframe tbody tr th:only-of-type {\n",
       "        vertical-align: middle;\n",
       "    }\n",
       "\n",
       "    .dataframe tbody tr th {\n",
       "        vertical-align: top;\n",
       "    }\n",
       "\n",
       "    .dataframe thead th {\n",
       "        text-align: right;\n",
       "    }\n",
       "</style>\n",
       "<table border=\"1\" class=\"dataframe\">\n",
       "  <thead>\n",
       "    <tr style=\"text-align: right;\">\n",
       "      <th></th>\n",
       "      <th>publishtime</th>\n",
       "      <th>tendency</th>\n",
       "      <th>cor_count</th>\n",
       "    </tr>\n",
       "  </thead>\n",
       "  <tbody>\n",
       "    <tr>\n",
       "      <th>0</th>\n",
       "      <td>2018-12-03</td>\n",
       "      <td>-1</td>\n",
       "      <td>7636</td>\n",
       "    </tr>\n",
       "    <tr>\n",
       "      <th>1</th>\n",
       "      <td>2018-12-03</td>\n",
       "      <td>0</td>\n",
       "      <td>13755</td>\n",
       "    </tr>\n",
       "    <tr>\n",
       "      <th>3</th>\n",
       "      <td>2018-12-02</td>\n",
       "      <td>-1</td>\n",
       "      <td>12630</td>\n",
       "    </tr>\n",
       "    <tr>\n",
       "      <th>4</th>\n",
       "      <td>2018-12-02</td>\n",
       "      <td>0</td>\n",
       "      <td>11439</td>\n",
       "    </tr>\n",
       "    <tr>\n",
       "      <th>5</th>\n",
       "      <td>2018-12-01</td>\n",
       "      <td>-1</td>\n",
       "      <td>18451</td>\n",
       "    </tr>\n",
       "  </tbody>\n",
       "</table>\n",
       "</div>"
      ],
      "text/plain": [
       "  publishtime  tendency  cor_count\n",
       "0  2018-12-03        -1       7636\n",
       "1  2018-12-03         0      13755\n",
       "3  2018-12-02        -1      12630\n",
       "4  2018-12-02         0      11439\n",
       "5  2018-12-01        -1      18451"
      ]
     },
     "execution_count": 43,
     "metadata": {},
     "output_type": "execute_result"
    }
   ],
   "source": [
    "sql_tend = \"select date_format(t1.publishtime,'%%Y-%%m-%%d') as publishtime, t1.sen as tendency, count(t1.id) as cor_count \\\n",
    "                            from elint_web_docinfo t1 \\\n",
    "                                where (date_format(t1.publishtime, '%%Y-%%m-%%d') >= '{0}' and \\\n",
    "                                      date_format(t1.publishtime, '%%Y-%%m-%%d') <= '{1}') \\\n",
    "                                group by date_format(t1.publishtime,'%%Y-%%m-%%d'), t1.sen \\\n",
    "                                order by date_format(t1.publishtime,'%%Y-%%m-%%d') desc\".format(start_day, end_day) \n",
    "\n",
    "tend_count = pd.read_sql(sql_tend, engine)\n",
    "tend_count = tend_count[tend_count['tendency'] != 1]\n",
    "tend_count.head()"
   ]
  },
  {
   "cell_type": "code",
   "execution_count": 44,
   "metadata": {
    "ExecuteTime": {
     "end_time": "2018-12-03T07:46:38.320614Z",
     "start_time": "2018-12-03T07:46:37.543569Z"
    }
   },
   "outputs": [
    {
     "data": {
      "image/png": "[encoded data removed]",
      "text/plain": [
       "<matplotlib.figure.Figure at 0xc975908>"
      ]
     },
     "metadata": {},
     "output_type": "display_data"
    },
    {
     "name": "stdout",
     "output_type": "stream",
     "text": [
      "   publishtime    neg    pos    sum  neg_rate  pos_rate\n",
      "31  2018-12-03   7636  13755  21391     0.357     0.643\n",
      "30  2018-12-02  12630  11439  24069     0.525     0.475\n",
      "29  2018-12-01  18451  18593  37044     0.498     0.502\n",
      "28  2018-11-30  34860  23814  58674     0.594     0.406\n",
      "27  2018-11-29  29166  28783  57949     0.503     0.497\n"
     ]
    }
   ],
   "source": [
    "plot_tend(tend_count, cbrc_day_thing, \"CBRC - tendency \")"
   ]
  },
  {
   "cell_type": "markdown",
   "metadata": {},
   "source": [
    "## 补录和预警"
   ]
  },
  {
   "cell_type": "markdown",
   "metadata": {},
   "source": [
    "### 补录数据"
   ]
  },
  {
   "cell_type": "code",
   "execution_count": 45,
   "metadata": {
    "ExecuteTime": {
     "end_time": "2018-12-03T07:46:39.339672Z",
     "start_time": "2018-12-03T07:46:38.324614Z"
    }
   },
   "outputs": [
    {
     "data": {
      "text/html": [
       "<div>\n",
       "<style scoped>\n",
       "    .dataframe tbody tr th:only-of-type {\n",
       "        vertical-align: middle;\n",
       "    }\n",
       "\n",
       "    .dataframe tbody tr th {\n",
       "        vertical-align: top;\n",
       "    }\n",
       "\n",
       "    .dataframe thead th {\n",
       "        text-align: right;\n",
       "    }\n",
       "</style>\n",
       "<table border=\"1\" class=\"dataframe\">\n",
       "  <thead>\n",
       "    <tr style=\"text-align: right;\">\n",
       "      <th></th>\n",
       "      <th>publishtime</th>\n",
       "      <th>gather_type</th>\n",
       "      <th>count</th>\n",
       "    </tr>\n",
       "  </thead>\n",
       "  <tbody>\n",
       "    <tr>\n",
       "      <th>0</th>\n",
       "      <td>2018-12-03</td>\n",
       "      <td>1</td>\n",
       "      <td>25</td>\n",
       "    </tr>\n",
       "    <tr>\n",
       "      <th>1</th>\n",
       "      <td>2018-12-02</td>\n",
       "      <td>1</td>\n",
       "      <td>7</td>\n",
       "    </tr>\n",
       "    <tr>\n",
       "      <th>2</th>\n",
       "      <td>2018-12-01</td>\n",
       "      <td>1</td>\n",
       "      <td>10</td>\n",
       "    </tr>\n",
       "    <tr>\n",
       "      <th>3</th>\n",
       "      <td>2018-11-30</td>\n",
       "      <td>1</td>\n",
       "      <td>109</td>\n",
       "    </tr>\n",
       "    <tr>\n",
       "      <th>4</th>\n",
       "      <td>2018-11-29</td>\n",
       "      <td>1</td>\n",
       "      <td>92</td>\n",
       "    </tr>\n",
       "  </tbody>\n",
       "</table>\n",
       "</div>"
      ],
      "text/plain": [
       "  publishtime  gather_type  count\n",
       "0  2018-12-03            1     25\n",
       "1  2018-12-02            1      7\n",
       "2  2018-12-01            1     10\n",
       "3  2018-11-30            1    109\n",
       "4  2018-11-29            1     92"
      ]
     },
     "execution_count": 45,
     "metadata": {},
     "output_type": "execute_result"
    }
   ],
   "source": [
    "sql_human_additional = \"select date_format(t1.publishtime,'%%Y-%%m-%%d') as publishtime,  \\\n",
    "                            t1.gather_type, count(t1.id) as count \\\n",
    "                            from elint_web_docinfo t1 \\\n",
    "                                where (date_format(publishtime, '%%Y-%%m-%%d') >= '{0}' and \\\n",
    "                                      date_format(publishtime, '%%Y-%%m-%%d') <= '{1}') and \\\n",
    "                                      t1.gather_type = 1 \\\n",
    "                                group by date_format(t1.publishtime,'%%Y-%%m-%%d') \\\n",
    "                                order by date_format(t1.publishtime,'%%Y-%%m-%%d') desc\".format(start_day, end_day) \n",
    "\n",
    "human_additional_count = pd.read_sql(sql_human_additional, engine)\n",
    "human_additional_count.sort_values(by = 'publishtime', ascending = False).head()"
   ]
  },
  {
   "cell_type": "code",
   "execution_count": 46,
   "metadata": {
    "ExecuteTime": {
     "end_time": "2018-12-03T07:46:39.992709Z",
     "start_time": "2018-12-03T07:46:39.342672Z"
    }
   },
   "outputs": [
    {
     "data": {
      "image/png": "[encoded data removed]",
      "text/plain": [
       "<matplotlib.figure.Figure at 0xd0c72b0>"
      ]
     },
     "metadata": {},
     "output_type": "display_data"
    },
    {
     "data": {
      "text/html": [
       "<div>\n",
       "<style scoped>\n",
       "    .dataframe tbody tr th:only-of-type {\n",
       "        vertical-align: middle;\n",
       "    }\n",
       "\n",
       "    .dataframe tbody tr th {\n",
       "        vertical-align: top;\n",
       "    }\n",
       "\n",
       "    .dataframe thead th {\n",
       "        text-align: right;\n",
       "    }\n",
       "</style>\n",
       "<table border=\"1\" class=\"dataframe\">\n",
       "  <thead>\n",
       "    <tr style=\"text-align: right;\">\n",
       "      <th></th>\n",
       "      <th>publishtime</th>\n",
       "      <th>gather_type</th>\n",
       "      <th>count</th>\n",
       "    </tr>\n",
       "  </thead>\n",
       "  <tbody>\n",
       "    <tr>\n",
       "      <th>0</th>\n",
       "      <td>2018-12-03</td>\n",
       "      <td>1</td>\n",
       "      <td>25</td>\n",
       "    </tr>\n",
       "    <tr>\n",
       "      <th>1</th>\n",
       "      <td>2018-12-02</td>\n",
       "      <td>1</td>\n",
       "      <td>7</td>\n",
       "    </tr>\n",
       "    <tr>\n",
       "      <th>2</th>\n",
       "      <td>2018-12-01</td>\n",
       "      <td>1</td>\n",
       "      <td>10</td>\n",
       "    </tr>\n",
       "    <tr>\n",
       "      <th>3</th>\n",
       "      <td>2018-11-30</td>\n",
       "      <td>1</td>\n",
       "      <td>109</td>\n",
       "    </tr>\n",
       "    <tr>\n",
       "      <th>4</th>\n",
       "      <td>2018-11-29</td>\n",
       "      <td>1</td>\n",
       "      <td>92</td>\n",
       "    </tr>\n",
       "  </tbody>\n",
       "</table>\n",
       "</div>"
      ],
      "text/plain": [
       "  publishtime  gather_type  count\n",
       "0  2018-12-03            1     25\n",
       "1  2018-12-02            1      7\n",
       "2  2018-12-01            1     10\n",
       "3  2018-11-30            1    109\n",
       "4  2018-11-29            1     92"
      ]
     },
     "execution_count": 46,
     "metadata": {},
     "output_type": "execute_result"
    }
   ],
   "source": [
    "human_additional_count = human_additional_count.sort_values(by = 'publishtime')\n",
    "fig = plt.figure(figsize = (15,6))\n",
    "ax1 = fig.add_subplot(111)\n",
    "human_additional_count.plot(x = 'publishtime', y = 'count', kind = 'bar', figsize = (15, 6), ax = ax1)\n",
    "ax1.set_ylabel('数据量', fontsize = 16)\n",
    "ax1.set_title(\"（银监会）人工补录\", fontsize = 20)\n",
    "\n",
    "ax2 = ax1.twinx()  # this is the important function\n",
    "ax2.set_ylim(0, 1)\n",
    "y_list = [0.65, 0.75, 0.85, 0.95]\n",
    "m = 0\n",
    "for [d, t] in cbrc_day_thing:    \n",
    "    if d in human_additional_count['publishtime'].tolist():\n",
    "        x = human_additional_count['publishtime'].tolist().index(d)\n",
    "        ax2.axvline(x=x, ymin = y_list[m] - 0.1, ymax = y_list[m] + 0.1, \n",
    "                    color='k', linestyle = \"--\", alpha = 0.75)\n",
    "        ax2.text(x - 0.25, y_list[m], t, va='center', fontsize = 12)\n",
    "        if m == 3: \n",
    "            m = 0\n",
    "        else :\n",
    "            m += 1\n",
    "        \n",
    "plt.grid(True, linestyle = \"--\", color = \"r\", alpha = 0.3) \n",
    "plt.show()\n",
    "\n",
    "human_additional_count.sort_values(by = 'publishtime', ascending = False).head()"
   ]
  },
  {
   "cell_type": "markdown",
   "metadata": {},
   "source": [
    "### 一周数据"
   ]
  },
  {
   "cell_type": "code",
   "execution_count": 47,
   "metadata": {
    "ExecuteTime": {
     "end_time": "2018-12-03T07:46:40.004710Z",
     "start_time": "2018-12-03T07:46:39.997710Z"
    },
    "collapsed": true
   },
   "outputs": [],
   "source": [
    "add_start_day = '2018-10-27'\n",
    "add_end_day = '2018-11-02'"
   ]
  },
  {
   "cell_type": "code",
   "execution_count": 48,
   "metadata": {
    "ExecuteTime": {
     "end_time": "2018-12-03T07:46:40.332729Z",
     "start_time": "2018-12-03T07:46:40.008710Z"
    }
   },
   "outputs": [
    {
     "name": "stdout",
     "output_type": "stream",
     "text": [
      "(352, 7)\n"
     ]
    }
   ],
   "source": [
    "# 人工补录\n",
    "sql_human_additional = \"select t1.id, t1.group_id, date_format(t1.publishtime,'%%Y-%%m-%%d') as publishtime,  \\\n",
    "                            t1.gather_type, t1.sec, t1.title, t2.text as content\\\n",
    "                            from elint_web_docinfo t1, wise_web_docinfo_text t2\\\n",
    "                                where (date_format(publishtime, '%%Y-%%m-%%d') >= '{0}' and \\\n",
    "                                      date_format(publishtime, '%%Y-%%m-%%d') <= '{1}') and \\\n",
    "                                      t1.id = t2.doc_id and \\\n",
    "                                      t1.gather_type = 1 \".format(add_start_day, add_end_day) \n",
    "\n",
    "human_additional = pd.read_sql(sql_human_additional, engine)\n",
    "print(human_additional.shape)\n",
    "# human_additional.head()"
   ]
  },
  {
   "cell_type": "code",
   "execution_count": 49,
   "metadata": {
    "ExecuteTime": {
     "end_time": "2018-12-03T07:46:54.439536Z",
     "start_time": "2018-12-03T07:46:40.336729Z"
    }
   },
   "outputs": [
    {
     "name": "stdout",
     "output_type": "stream",
     "text": [
      "(597, 7)\n"
     ]
    }
   ],
   "source": [
    "# 预警数据\n",
    "sql_warning =  \"select t1.id, t1.group_id, date_format(t1.publishtime,'%%Y-%%m-%%d') as publishtime,  \\\n",
    "                            t1.gather_type, t1.sec, t1.title, t2.text as content\\\n",
    "                            from elint_web_docinfo t1, wise_web_docinfo_text t2\\\n",
    "                                where (date_format(publishtime, '%%Y-%%m-%%d') >= '{0}' and \\\n",
    "                                      date_format(publishtime, '%%Y-%%m-%%d') <= '{1}') and \\\n",
    "                                      t1.id = t2.doc_id and \\\n",
    "                                      t1.sec in (7,8,9) \".format(add_start_day, add_end_day)  \n",
    "\n",
    "warning = pd.read_sql(sql_warning, engine)\n",
    "print(warning.shape)\n",
    "# warning.head()"
   ]
  },
  {
   "cell_type": "code",
   "execution_count": 50,
   "metadata": {
    "ExecuteTime": {
     "end_time": "2018-12-03T07:46:54.556542Z",
     "start_time": "2018-12-03T07:46:54.444536Z"
    }
   },
   "outputs": [
    {
     "name": "stdout",
     "output_type": "stream",
     "text": [
      "去重前 (949, 7)\n",
      "去重后 (598, 7)\n"
     ]
    }
   ],
   "source": [
    "combined_data = pd.concat([human_additional, warning])\n",
    "print('去重前', combined_data.shape)\n",
    "combined_data = combined_data.drop_duplicates(subset = 'id')\n",
    "print('去重后', combined_data.shape)\n",
    "\n",
    "combined_data['group_id'] = combined_data['group_id'].apply(lambda x:group_dict[str(x)])\n",
    "combined_data['gather_type'] = combined_data['gather_type'].replace(0, '系统采集').replace(1, '人工补录').replace(2, '人工修改')\n",
    "combined_data['submited'] = combined_data['sec'].apply(lambda x: '预警' if x in [7,8,9] else '不预警')\n",
    "# combined_data.head()"
   ]
  },
  {
   "cell_type": "code",
   "execution_count": 51,
   "metadata": {
    "ExecuteTime": {
     "end_time": "2018-12-03T07:46:54.577543Z",
     "start_time": "2018-12-03T07:46:54.560542Z"
    }
   },
   "outputs": [
    {
     "data": {
      "text/plain": [
       "gather_type  group_id  submited\n",
       "4            微博        预警           42\n",
       "人工修改         外媒        预警            1\n",
       "             微信        预警            1\n",
       "             微博        预警           68\n",
       "             新闻        预警           50\n",
       "             新闻客户端     预警            2\n",
       "             纸媒        预警           73\n",
       "             论坛        预警            9\n",
       "人工补录         微信        预警            3\n",
       "             微博        预警          319\n",
       "             新闻        不预警           1\n",
       "                       预警           18\n",
       "             纸媒        预警            6\n",
       "             论坛        预警            5\n",
       "Name: id, dtype: int64"
      ]
     },
     "execution_count": 51,
     "metadata": {},
     "output_type": "execute_result"
    }
   ],
   "source": [
    "combined_data.groupby(['gather_type', 'group_id', 'submited'])['id'].count()"
   ]
  },
  {
   "cell_type": "code",
   "execution_count": 52,
   "metadata": {
    "ExecuteTime": {
     "end_time": "2018-12-03T07:47:12.689579Z",
     "start_time": "2018-12-03T07:46:54.581544Z"
    }
   },
   "outputs": [
    {
     "data": {
      "text/html": [
       "<div>\n",
       "<style scoped>\n",
       "    .dataframe tbody tr th:only-of-type {\n",
       "        vertical-align: middle;\n",
       "    }\n",
       "\n",
       "    .dataframe tbody tr th {\n",
       "        vertical-align: top;\n",
       "    }\n",
       "\n",
       "    .dataframe thead th {\n",
       "        text-align: right;\n",
       "    }\n",
       "</style>\n",
       "<table border=\"1\" class=\"dataframe\">\n",
       "  <thead>\n",
       "    <tr style=\"text-align: right;\">\n",
       "      <th></th>\n",
       "      <th>id</th>\n",
       "      <th>predict_label</th>\n",
       "      <th>label</th>\n",
       "      <th>cor</th>\n",
       "      <th>all_cor</th>\n",
       "    </tr>\n",
       "  </thead>\n",
       "  <tbody>\n",
       "    <tr>\n",
       "      <th>0</th>\n",
       "      <td>266631913</td>\n",
       "      <td>行业</td>\n",
       "      <td></td>\n",
       "      <td>1</td>\n",
       "      <td>1</td>\n",
       "    </tr>\n",
       "    <tr>\n",
       "      <th>1</th>\n",
       "      <td>266632075</td>\n",
       "      <td>噪音</td>\n",
       "      <td></td>\n",
       "      <td>0</td>\n",
       "      <td>0</td>\n",
       "    </tr>\n",
       "    <tr>\n",
       "      <th>2</th>\n",
       "      <td>266676256</td>\n",
       "      <td>噪音</td>\n",
       "      <td></td>\n",
       "      <td>0</td>\n",
       "      <td>0</td>\n",
       "    </tr>\n",
       "    <tr>\n",
       "      <th>3</th>\n",
       "      <td>266683362</td>\n",
       "      <td>消费服务</td>\n",
       "      <td></td>\n",
       "      <td>1</td>\n",
       "      <td>1</td>\n",
       "    </tr>\n",
       "    <tr>\n",
       "      <th>4</th>\n",
       "      <td>266683767</td>\n",
       "      <td>消费服务</td>\n",
       "      <td></td>\n",
       "      <td>1</td>\n",
       "      <td>1</td>\n",
       "    </tr>\n",
       "  </tbody>\n",
       "</table>\n",
       "</div>"
      ],
      "text/plain": [
       "          id predict_label label  cor  all_cor\n",
       "0  266631913            行业          1        1\n",
       "1  266632075            噪音          0        0\n",
       "2  266676256            噪音          0        0\n",
       "3  266683362          消费服务          1        1\n",
       "4  266683767          消费服务          1        1"
      ]
     },
     "execution_count": 52,
     "metadata": {},
     "output_type": "execute_result"
    }
   ],
   "source": [
    "# predict\n",
    "data = {\"record\":combined_data.loc[:,['id', 'title' ,'content']].to_dict(orient = 'records')}\n",
    "# url = \"http://192.168.0.104:11000/judge_correlation_yjh\"\n",
    "url = \"http://47.93.77.19:6001/judge_correlation_yjh\"\n",
    "parse_data = get_server_res_yjh(data, url, 'sec')\n",
    "# parse_data.head()  \n",
    "\n",
    "parse_data.columns = ['id', 'predict_label']\n",
    "parse_data['predict_label'] = parse_data['predict_label'].apply(lambda x:class_name_dict[x])\n",
    "parse_data['label'] = ''\n",
    "parse_data['cor'] = parse_data['predict_label'].apply(lambda x:1 if x in ['监管', '行业', '经营管理', '消费服务'] else 0)\n",
    "parse_data['all_cor'] = parse_data['predict_label'].apply(lambda x:1 if x != '噪音' else 0)\n",
    "parse_data.head()"
   ]
  },
  {
   "cell_type": "code",
   "execution_count": 53,
   "metadata": {
    "ExecuteTime": {
     "end_time": "2018-12-03T07:47:12.804586Z",
     "start_time": "2018-12-03T07:47:12.693580Z"
    },
    "collapsed": true
   },
   "outputs": [],
   "source": [
    "combined_data = pd.merge(combined_data, parse_data, on  = 'id')\n",
    "stat = combined_data.groupby(['group_id', 'gather_type', 'submited'])['id'].count().reset_index()\n",
    "\n",
    "# 补录\n",
    "stat_a = combined_data.groupby(['group_id', 'gather_type'])['id'].count().reset_index()\n",
    "stat_a = stat_a[stat_a['gather_type'] == '人工补录']\n",
    "\n",
    "# 补录且预警\n",
    "stat_a_w = combined_data[combined_data['submited'] == '预警'].groupby(['group_id', 'gather_type'])['id'].count().reset_index()\n",
    "stat_a_w = stat_a_w[stat_a_w['gather_type'] == '人工补录']\n",
    "\n",
    "# 预警\n",
    "stat_w = combined_data.groupby(['group_id', 'submited'])['id'].count().reset_index()\n",
    "stat_w = stat_w[stat_w['submited'] == '预警']\n",
    "\n",
    "# 补录-过算法\n",
    "stat_a_cor = combined_data[combined_data['gather_type'] == '人工补录'].groupby(['group_id', 'cor'])['id'].count().reset_index()\n",
    "stat_a_cor = stat_a_cor[stat_a_cor['cor'] == 1]\n",
    "\n",
    "# 补录且预警-过算法\n",
    "stat_a_w_cor = combined_data[(combined_data['submited'] == '预警') & \\\n",
    "                             (combined_data['gather_type'] == '人工补录')\\\n",
    "                            ].groupby(['group_id', 'cor'])['id'].count().reset_index()\n",
    "stat_a_w_cor = stat_a_w_cor[stat_a_w_cor['cor'] == 1]\n",
    "\n",
    "# 补录-过算法\n",
    "stat_a_cor_7 = combined_data[combined_data['gather_type'] == '人工补录'].groupby(['group_id', 'all_cor'])['id'].count().reset_index()\n",
    "stat_a_cor_7 = stat_a_cor_7[stat_a_cor_7['all_cor'] == 1]\n",
    "\n",
    "# 补录且预警-过算法\n",
    "stat_a_w_cor_7 = combined_data[(combined_data['submited'] == '预警') & \\\n",
    "                             (combined_data['gather_type'] == '人工补录')\\\n",
    "                            ].groupby(['group_id', 'all_cor'])['id'].count().reset_index()\n",
    "stat_a_w_cor_7 = stat_a_w_cor_7[stat_a_w_cor_7['all_cor'] == 1]"
   ]
  },
  {
   "cell_type": "code",
   "execution_count": 54,
   "metadata": {
    "ExecuteTime": {
     "end_time": "2018-12-03T07:47:12.979596Z",
     "start_time": "2018-12-03T07:47:12.807586Z"
    },
    "collapsed": true
   },
   "outputs": [],
   "source": [
    "stat_a = stat_a[['group_id', 'id']]\n",
    "stat_a.columns = ['来源', '补录']\n",
    "stat_a_w = stat_a_w[['group_id', 'id']]\n",
    "stat_a_w.columns = ['来源', '补录且预警']\n",
    "stat_w = stat_w[['group_id', 'id']]\n",
    "stat_w.columns = ['来源', '预警数量']\n",
    "stat_a_cor = stat_a_cor[['group_id', 'id']]\n",
    "stat_a_cor.columns = ['来源', '补录&过算法(4类)']\n",
    "stat_a_w_cor = stat_a_w_cor[['group_id', 'id']]\n",
    "stat_a_w_cor.columns = ['来源', '补录且预警&过算法(4类)']\n",
    "stat_a_cor_7 = stat_a_cor_7[['group_id', 'id']]\n",
    "stat_a_cor_7.columns = ['来源', '补录&过算法(7类)']\n",
    "stat_a_w_cor_7 = stat_a_w_cor_7[['group_id', 'id']]\n",
    "stat_a_w_cor_7.columns = ['来源', '补录且预警&过算法(7类)']"
   ]
  },
  {
   "cell_type": "code",
   "execution_count": 55,
   "metadata": {
    "ExecuteTime": {
     "end_time": "2018-12-03T07:47:13.180608Z",
     "start_time": "2018-12-03T07:47:12.987596Z"
    }
   },
   "outputs": [
    {
     "data": {
      "text/html": [
       "<div>\n",
       "<style scoped>\n",
       "    .dataframe tbody tr th:only-of-type {\n",
       "        vertical-align: middle;\n",
       "    }\n",
       "\n",
       "    .dataframe tbody tr th {\n",
       "        vertical-align: top;\n",
       "    }\n",
       "\n",
       "    .dataframe thead th {\n",
       "        text-align: right;\n",
       "    }\n",
       "</style>\n",
       "<table border=\"1\" class=\"dataframe\">\n",
       "  <thead>\n",
       "    <tr style=\"text-align: right;\">\n",
       "      <th></th>\n",
       "      <th>group_id</th>\n",
       "      <th>gather_type</th>\n",
       "      <th>submited</th>\n",
       "      <th>id</th>\n",
       "    </tr>\n",
       "  </thead>\n",
       "  <tbody>\n",
       "    <tr>\n",
       "      <th>0</th>\n",
       "      <td>外媒</td>\n",
       "      <td>人工修改</td>\n",
       "      <td>预警</td>\n",
       "      <td>1</td>\n",
       "    </tr>\n",
       "    <tr>\n",
       "      <th>1</th>\n",
       "      <td>微信</td>\n",
       "      <td>人工修改</td>\n",
       "      <td>预警</td>\n",
       "      <td>1</td>\n",
       "    </tr>\n",
       "    <tr>\n",
       "      <th>2</th>\n",
       "      <td>微信</td>\n",
       "      <td>人工补录</td>\n",
       "      <td>预警</td>\n",
       "      <td>3</td>\n",
       "    </tr>\n",
       "    <tr>\n",
       "      <th>3</th>\n",
       "      <td>微博</td>\n",
       "      <td>4</td>\n",
       "      <td>预警</td>\n",
       "      <td>42</td>\n",
       "    </tr>\n",
       "    <tr>\n",
       "      <th>4</th>\n",
       "      <td>微博</td>\n",
       "      <td>人工修改</td>\n",
       "      <td>预警</td>\n",
       "      <td>68</td>\n",
       "    </tr>\n",
       "    <tr>\n",
       "      <th>5</th>\n",
       "      <td>微博</td>\n",
       "      <td>人工补录</td>\n",
       "      <td>预警</td>\n",
       "      <td>319</td>\n",
       "    </tr>\n",
       "    <tr>\n",
       "      <th>6</th>\n",
       "      <td>新闻</td>\n",
       "      <td>人工修改</td>\n",
       "      <td>预警</td>\n",
       "      <td>50</td>\n",
       "    </tr>\n",
       "    <tr>\n",
       "      <th>7</th>\n",
       "      <td>新闻</td>\n",
       "      <td>人工补录</td>\n",
       "      <td>不预警</td>\n",
       "      <td>1</td>\n",
       "    </tr>\n",
       "    <tr>\n",
       "      <th>8</th>\n",
       "      <td>新闻</td>\n",
       "      <td>人工补录</td>\n",
       "      <td>预警</td>\n",
       "      <td>18</td>\n",
       "    </tr>\n",
       "    <tr>\n",
       "      <th>9</th>\n",
       "      <td>新闻客户端</td>\n",
       "      <td>人工修改</td>\n",
       "      <td>预警</td>\n",
       "      <td>2</td>\n",
       "    </tr>\n",
       "    <tr>\n",
       "      <th>10</th>\n",
       "      <td>纸媒</td>\n",
       "      <td>人工修改</td>\n",
       "      <td>预警</td>\n",
       "      <td>73</td>\n",
       "    </tr>\n",
       "    <tr>\n",
       "      <th>11</th>\n",
       "      <td>纸媒</td>\n",
       "      <td>人工补录</td>\n",
       "      <td>预警</td>\n",
       "      <td>6</td>\n",
       "    </tr>\n",
       "    <tr>\n",
       "      <th>12</th>\n",
       "      <td>论坛</td>\n",
       "      <td>人工修改</td>\n",
       "      <td>预警</td>\n",
       "      <td>9</td>\n",
       "    </tr>\n",
       "    <tr>\n",
       "      <th>13</th>\n",
       "      <td>论坛</td>\n",
       "      <td>人工补录</td>\n",
       "      <td>预警</td>\n",
       "      <td>5</td>\n",
       "    </tr>\n",
       "  </tbody>\n",
       "</table>\n",
       "</div>"
      ],
      "text/plain": [
       "   group_id gather_type submited   id\n",
       "0        外媒        人工修改       预警    1\n",
       "1        微信        人工修改       预警    1\n",
       "2        微信        人工补录       预警    3\n",
       "3        微博           4       预警   42\n",
       "4        微博        人工修改       预警   68\n",
       "5        微博        人工补录       预警  319\n",
       "6        新闻        人工修改       预警   50\n",
       "7        新闻        人工补录      不预警    1\n",
       "8        新闻        人工补录       预警   18\n",
       "9     新闻客户端        人工修改       预警    2\n",
       "10       纸媒        人工修改       预警   73\n",
       "11       纸媒        人工补录       预警    6\n",
       "12       论坛        人工修改       预警    9\n",
       "13       论坛        人工补录       预警    5"
      ]
     },
     "execution_count": 55,
     "metadata": {},
     "output_type": "execute_result"
    }
   ],
   "source": [
    "stat"
   ]
  },
  {
   "cell_type": "code",
   "execution_count": 56,
   "metadata": {
    "ExecuteTime": {
     "end_time": "2018-12-03T07:47:13.615632Z",
     "start_time": "2018-12-03T07:47:13.185608Z"
    }
   },
   "outputs": [
    {
     "data": {
      "text/html": [
       "<div>\n",
       "<style scoped>\n",
       "    .dataframe tbody tr th:only-of-type {\n",
       "        vertical-align: middle;\n",
       "    }\n",
       "\n",
       "    .dataframe tbody tr th {\n",
       "        vertical-align: top;\n",
       "    }\n",
       "\n",
       "    .dataframe thead th {\n",
       "        text-align: right;\n",
       "    }\n",
       "</style>\n",
       "<table border=\"1\" class=\"dataframe\">\n",
       "  <thead>\n",
       "    <tr style=\"text-align: right;\">\n",
       "      <th>来源</th>\n",
       "      <th>微信</th>\n",
       "      <th>微博</th>\n",
       "      <th>新闻</th>\n",
       "      <th>纸媒</th>\n",
       "      <th>论坛</th>\n",
       "      <th>总量</th>\n",
       "    </tr>\n",
       "    <tr>\n",
       "      <th>保监会：2018-10-27 到 2018-11-02</th>\n",
       "      <th></th>\n",
       "      <th></th>\n",
       "      <th></th>\n",
       "      <th></th>\n",
       "      <th></th>\n",
       "      <th></th>\n",
       "    </tr>\n",
       "  </thead>\n",
       "  <tbody>\n",
       "    <tr>\n",
       "      <th>补录</th>\n",
       "      <td>3.000</td>\n",
       "      <td>319.000</td>\n",
       "      <td>19.000</td>\n",
       "      <td>6.000</td>\n",
       "      <td>5.000</td>\n",
       "      <td>352.000</td>\n",
       "    </tr>\n",
       "    <tr>\n",
       "      <th>预警数量</th>\n",
       "      <td>4.000</td>\n",
       "      <td>429.000</td>\n",
       "      <td>68.000</td>\n",
       "      <td>79.000</td>\n",
       "      <td>14.000</td>\n",
       "      <td>594.000</td>\n",
       "    </tr>\n",
       "    <tr>\n",
       "      <th>补录且预警</th>\n",
       "      <td>3.000</td>\n",
       "      <td>319.000</td>\n",
       "      <td>18.000</td>\n",
       "      <td>6.000</td>\n",
       "      <td>5.000</td>\n",
       "      <td>351.000</td>\n",
       "    </tr>\n",
       "    <tr>\n",
       "      <th>补录&amp;过算法(4类)</th>\n",
       "      <td>3.000</td>\n",
       "      <td>298.000</td>\n",
       "      <td>10.000</td>\n",
       "      <td>5.000</td>\n",
       "      <td>4.000</td>\n",
       "      <td>320.000</td>\n",
       "    </tr>\n",
       "    <tr>\n",
       "      <th>补录且预警&amp;过算法(4类)</th>\n",
       "      <td>3.000</td>\n",
       "      <td>298.000</td>\n",
       "      <td>9.000</td>\n",
       "      <td>5.000</td>\n",
       "      <td>4.000</td>\n",
       "      <td>319.000</td>\n",
       "    </tr>\n",
       "    <tr>\n",
       "      <th>补录&amp;过算法(7类)</th>\n",
       "      <td>3.000</td>\n",
       "      <td>307.000</td>\n",
       "      <td>15.000</td>\n",
       "      <td>6.000</td>\n",
       "      <td>5.000</td>\n",
       "      <td>336.000</td>\n",
       "    </tr>\n",
       "    <tr>\n",
       "      <th>补录且预警&amp;过算法(7类)</th>\n",
       "      <td>3.000</td>\n",
       "      <td>307.000</td>\n",
       "      <td>14.000</td>\n",
       "      <td>6.000</td>\n",
       "      <td>5.000</td>\n",
       "      <td>335.000</td>\n",
       "    </tr>\n",
       "    <tr>\n",
       "      <th>补录且预警 / 预警-比例</th>\n",
       "      <td>75%</td>\n",
       "      <td>74%</td>\n",
       "      <td>26%</td>\n",
       "      <td>8%</td>\n",
       "      <td>36%</td>\n",
       "      <td>59%</td>\n",
       "    </tr>\n",
       "  </tbody>\n",
       "</table>\n",
       "</div>"
      ],
      "text/plain": [
       "来源                             微信      微博     新闻     纸媒     论坛      总量\n",
       "保监会：2018-10-27 到 2018-11-02                                           \n",
       "补录                          3.000 319.000 19.000  6.000  5.000 352.000\n",
       "预警数量                        4.000 429.000 68.000 79.000 14.000 594.000\n",
       "补录且预警                       3.000 319.000 18.000  6.000  5.000 351.000\n",
       "补录&过算法(4类)                  3.000 298.000 10.000  5.000  4.000 320.000\n",
       "补录且预警&过算法(4类)               3.000 298.000  9.000  5.000  4.000 319.000\n",
       "补录&过算法(7类)                  3.000 307.000 15.000  6.000  5.000 336.000\n",
       "补录且预警&过算法(7类)               3.000 307.000 14.000  6.000  5.000 335.000\n",
       "补录且预警 / 预警-比例                 75%     74%    26%     8%    36%     59%"
      ]
     },
     "execution_count": 56,
     "metadata": {},
     "output_type": "execute_result"
    }
   ],
   "source": [
    "stat = pd.merge(stat_a, stat_w, on = '来源', how = 'outer')\n",
    "stat = pd.merge(stat, stat_a_w, on = '来源', how = 'outer')\n",
    "stat = pd.merge(stat, stat_a_cor, on = '来源')\n",
    "stat = pd.merge(stat, stat_a_w_cor, on = '来源')\n",
    "stat = pd.merge(stat, stat_a_cor_7, on = '来源', how = 'outer')\n",
    "stat = pd.merge(stat, stat_a_w_cor_7, on = '来源', how = 'outer')\n",
    "stat = stat.set_index('来源').stack().unstack(0)\n",
    "stat = stat.fillna(0)\n",
    "stat['总量'] =  stat.sum(axis = 1)\n",
    "stat.loc['补录且预警 / 预警-比例'] = stat.loc['补录且预警'] / stat.loc['预警数量'] \n",
    "stat.loc['补录且预警 / 预警-比例'] = stat.loc['补录且预警 / 预警-比例'].apply(lambda x: '{:.0f}%'.format(x*100))\n",
    "# stat.loc['补录且预警 / 补录-比例'] = stat.loc['补录且预警'] / stat.loc['补录'] \n",
    "# stat.loc['补录且预警 / 补录-比例'] = stat.loc['补录且预警 / 补录-比例'].apply(lambda x: '{:.0f}%'.format(x*100))\n",
    "# stat.loc['补录&过算法(4类) / 补录-比例'] = stat.loc['补录&过算法(4类)'] / stat.loc['补录'] \n",
    "# stat.loc['补录&过算法(4类) / 补录-比例'] = stat.loc['补录&过算法(4类) / 补录-比例'].apply(lambda x: '{:.0f}%'.format(x*100))\n",
    "# stat.loc['补录且预警&过算法(4类) / 预警-比例'] = stat.loc['补录且预警&过算法(4类)'] / stat.loc['预警数量'] \n",
    "# stat.loc['补录且预警&过算法(4类) / 预警-比例'] = stat.loc['补录且预警&过算法(4类) / 预警-比例'].apply(lambda x: '{:.0f}%'.format(x*100))\n",
    "# stat.loc['补录&过算法(7类) / 补录-比例'] = stat.loc['补录&过算法(7类)'] / stat.loc['补录'] \n",
    "# stat.loc['补录&过算法(7类) / 补录-比例'] = stat.loc['补录&过算法(7类) / 补录-比例'].apply(lambda x: '{:.0f}%'.format(x*100))\n",
    "# stat.loc['补录且预警&过算法(7类) / 补录且预警-比例'] = stat.loc['补录且预警&过算法(7类)'] / stat.loc['补录且预警'] \n",
    "# stat.loc['补录且预警&过算法(7类) / 补录且预警-比例'] = stat.loc['补录且预警&过算法(7类) / 补录且预警-比例'].apply(lambda x: '{:.0f}%'.format(x*100))\n",
    "stat.index.name = '保监会：{0} 到 {1}'.format(add_start_day, add_end_day)\n",
    "stat.fillna(0)"
   ]
  },
  {
   "cell_type": "markdown",
   "metadata": {},
   "source": [
    "### 导出一段时间补录数据用于训练"
   ]
  },
  {
   "cell_type": "code",
   "execution_count": 57,
   "metadata": {
    "ExecuteTime": {
     "end_time": "2018-12-03T07:47:13.676636Z",
     "start_time": "2018-12-03T07:47:13.626633Z"
    },
    "collapsed": true
   },
   "outputs": [],
   "source": [
    "# 人工补录\n",
    "sql_human_additional = \"select t1.id, t1.group_id, date_format(t1.publishtime,'%%Y-%%m-%%d') as publishtime,  \\\n",
    "                            t1.gather_type, t1.sec, t1.title, t2.text as content\\\n",
    "                            from elint_web_docinfo t1, wise_web_docinfo_text t2\\\n",
    "                                where (date_format(publishtime, '%%Y-%%m-%%d') >= '{0}' and \\\n",
    "                                      date_format(publishtime, '%%Y-%%m-%%d') <= '{1}') and \\\n",
    "                                      t1.id = t2.doc_id and \\\n",
    "                                      t1.gather_type = 1 \".format('2018-08-20', '2018-09-16') \n",
    "\n",
    "# human_additional = pd.read_sql(sql_human_additional, engine)\n",
    "# print(human_additional.shape)\n",
    "# human_additional.head()"
   ]
  },
  {
   "cell_type": "code",
   "execution_count": 58,
   "metadata": {
    "ExecuteTime": {
     "end_time": "2018-12-03T07:47:13.787642Z",
     "start_time": "2018-12-03T07:47:13.682636Z"
    },
    "collapsed": true
   },
   "outputs": [],
   "source": [
    "# 预警数据\n",
    "sql_warning =  \"select t1.id, t1.group_id, date_format(t1.publishtime,'%%Y-%%m-%%d') as publishtime,  \\\n",
    "                            t1.gather_type, t1.sec, t1.title, t2.text as content\\\n",
    "                            from elint_web_docinfo t1, wise_web_docinfo_text t2\\\n",
    "                                where (date_format(publishtime, '%%Y-%%m-%%d') >= '{0}' and \\\n",
    "                                      date_format(publishtime, '%%Y-%%m-%%d') <= '{1}') and \\\n",
    "                                      t1.id = t2.doc_id and \\\n",
    "                                      t1.sec in (7,8,9) \".format('2018-08-20', '2018-09-16') \n",
    "\n",
    "# warning = pd.read_sql(sql_warning, engine)\n",
    "# print(warning.shape)\n",
    "# warning.head()"
   ]
  },
  {
   "cell_type": "code",
   "execution_count": 59,
   "metadata": {
    "ExecuteTime": {
     "end_time": "2018-12-03T07:47:13.876647Z",
     "start_time": "2018-12-03T07:47:13.792643Z"
    },
    "collapsed": true
   },
   "outputs": [],
   "source": [
    "if 0:\n",
    "    # url = \"http://192.168.0.104:11000/judge_correlation_yjh\"\n",
    "    url = \"http://47.93.77.19:6001/judge_correlation_yjh\"\n",
    "    folder = 'cbrc_result_class'\n",
    "    filename = 'cbrc_add&warning_20180917(0820-0916).xlsx'\n",
    "    get_period_data_for_training(human_additional, warning, url, folder, filename, 'cbrc')"
   ]
  },
  {
   "cell_type": "markdown",
   "metadata": {},
   "source": [
    "# 银保监会--新"
   ]
  },
  {
   "cell_type": "markdown",
   "metadata": {},
   "source": [
    "## 特殊时间点"
   ]
  },
  {
   "cell_type": "code",
   "execution_count": 13,
   "metadata": {
    "ExecuteTime": {
     "end_time": "2018-12-04T01:35:23.631939Z",
     "start_time": "2018-12-04T01:35:12.891325Z"
    },
    "collapsed": true
   },
   "outputs": [],
   "source": [
    "engine = specific_func.get_engine('cbirc')"
   ]
  },
  {
   "cell_type": "code",
   "execution_count": 14,
   "metadata": {
    "ExecuteTime": {
     "end_time": "2018-12-04T01:35:23.646940Z",
     "start_time": "2018-12-04T01:35:23.638939Z"
    },
    "collapsed": true
   },
   "outputs": [],
   "source": [
    "cbirc_day_thing = [['2018-05-02', '相关性模型'], \n",
    "             ['2018-06-01', '更新相关性模型'], \n",
    "             ['2018-06-12', '更新相关性模型'], \n",
    "             ['2018-06-12', '上线倾向性模型']\n",
    "            ]"
   ]
  },
  {
   "cell_type": "code",
   "execution_count": null,
   "metadata": {
    "ExecuteTime": {
     "start_time": "2018-12-04T01:35:12.894Z"
    }
   },
   "outputs": [
    {
     "name": "stdout",
     "output_type": "stream",
     "text": [
      "start_day： 2018-11-26\n",
      "end_day： 2018-12-03\n"
     ]
    }
   ],
   "source": [
    "start_day = today - datetime.timedelta(days=8) # 30 天\n",
    "start_day = start_day.strftime(\"%Y-%m-%d\") # '2018-08-12'  # 含\n",
    "end_day = yesterday_str    # 含\n",
    "print('start_day：',start_day)\n",
    "print('end_day：',end_day)"
   ]
  },
  {
   "cell_type": "markdown",
   "metadata": {},
   "source": [
    "## 获取数据"
   ]
  },
  {
   "cell_type": "code",
   "execution_count": null,
   "metadata": {
    "ExecuteTime": {
     "start_time": "2018-12-04T01:35:12.900Z"
    }
   },
   "outputs": [
    {
     "name": "stdout",
     "output_type": "stream",
     "text": [
      "获取 中国人寿 的数据 -------\n",
      "    耗时：194.40511965751648 s\n",
      "获取 建行北分 的数据 -------\n",
      "    耗时：277.348863363266 s\n",
      "获取 中国人保 的数据 -------\n"
     ]
    }
   ],
   "source": [
    "cbirc_count_all = pd.DataFrame()\n",
    "for t in range(3, len(proj_name_dict) + 1):\n",
    "    t0 = time.time()\n",
    "    print('获取 %s 的数据 -------'%(proj_name_dict[t]))\n",
    "    sql_cbirc = '''\n",
    "    SELECT \n",
    "        DATE_FORMAT(t3.publishtime, '%%Y-%%m-%%d') AS publishtime,\n",
    "        t2.type,\n",
    "        t1.traffic_id AS classify,\n",
    "        t2.sen as tendency, \n",
    "        COUNT(t1.id) AS count\n",
    "    FROM\n",
    "        cbrc_circ.db_classify_traffic_docinfo t1\n",
    "            LEFT JOIN\n",
    "        cbrc_circ.db_docinfo_trade t2 ON t1.urlhash = t2.urlhash\n",
    "            LEFT JOIN\n",
    "        cbrc_circ.db_docinfo t3 ON t2.urlhash = t3.urlhash\n",
    "    WHERE\n",
    "        date_format(t3.publishtime, '%%Y-%%m-%%d') >= '{0}'\n",
    "            AND date_format(t3.publishtime, '%%Y-%%m-%%d') <= '{1}'\n",
    "            and t2.type = {2}\n",
    "            and t1.type = t2.type\n",
    "    GROUP BY DATE_FORMAT(t3.publishtime, '%%Y-%%m-%%d') , t2.type , t1.traffic_id, t2.sen\n",
    "    '''.format(start_day, end_day, t)\n",
    "\n",
    "    cbirc_count_type = pd.read_sql(sql_cbirc, engine)\n",
    "    cbirc_count_all = pd.concat([cbirc_count_all, cbirc_count_type], axis = 0)\n",
    "    print('    耗时：%s s'%(time.time() - t0))"
   ]
  },
  {
   "cell_type": "code",
   "execution_count": null,
   "metadata": {
    "ExecuteTime": {
     "start_time": "2018-12-04T01:35:12.907Z"
    }
   },
   "outputs": [],
   "source": [
    "# cbirc_count_all = pd.DataFrame()\n",
    "t = 2\n",
    "t0 = time.time()\n",
    "print('获取 %s 的数据 -------'%(proj_name_dict[t]))\n",
    "sql_cbirc = '''\n",
    "SELECT \n",
    "    DATE_FORMAT(t3.publishtime, '%%Y-%%m-%%d') AS publishtime,\n",
    "    t2.type,\n",
    "    t1.traffic_id AS classify,\n",
    "    t2.sen as tendency, \n",
    "    COUNT(t1.id) AS count\n",
    "FROM\n",
    "    cbrc_circ.db_classify_traffic_docinfo t1\n",
    "        LEFT JOIN\n",
    "    cbrc_circ.db_docinfo_trade t2 ON t1.urlhash = t2.urlhash\n",
    "        LEFT JOIN\n",
    "    cbrc_circ.db_docinfo t3 ON t2.urlhash = t3.urlhash\n",
    "WHERE\n",
    "    date_format(t3.publishtime, '%%Y-%%m-%%d') >= '{0}'\n",
    "        AND date_format(t3.publishtime, '%%Y-%%m-%%d') <= '{1}'\n",
    "        and t2.type = {2}\n",
    "        and t1.type = t2.type        \n",
    "GROUP BY DATE_FORMAT(t3.publishtime, '%%Y-%%m-%%d') , t2.type , t1.traffic_id, t2.sen\n",
    "'''.format(start_day, end_day, t)\n",
    "\n",
    "cbirc_count_type = pd.read_sql(sql_cbirc, engine)\n",
    "cbirc_count_all = pd.concat([cbirc_count_all, cbirc_count_type], axis = 0)\n",
    "print('    耗时：%s s'%(time.time() - t0))"
   ]
  },
  {
   "cell_type": "code",
   "execution_count": null,
   "metadata": {
    "ExecuteTime": {
     "start_time": "2018-12-04T01:35:12.913Z"
    },
    "collapsed": true
   },
   "outputs": [],
   "source": [
    "# cbirc_count_all = pd.DataFrame()\n",
    "t = 1\n",
    "t0 = time.time()\n",
    "print('获取 %s 的数据 -------'%(proj_name_dict[t]))\n",
    "sql_cbirc = '''\n",
    "SELECT \n",
    "    DATE_FORMAT(t3.publishtime, '%%Y-%%m-%%d') AS publishtime,\n",
    "    t2.type,\n",
    "    t1.traffic_id AS classify,\n",
    "    t2.sen as tendency, \n",
    "    COUNT(t1.id) AS count\n",
    "FROM\n",
    "    cbrc_circ.db_classify_traffic_docinfo t1\n",
    "        LEFT JOIN\n",
    "    cbrc_circ.db_docinfo_trade t2 ON t1.urlhash = t2.urlhash\n",
    "        LEFT JOIN\n",
    "    cbrc_circ.db_docinfo t3 ON t2.urlhash = t3.urlhash\n",
    "WHERE\n",
    "    date_format(t3.publishtime, '%%Y-%%m-%%d') >= '{0}'\n",
    "        AND date_format(t3.publishtime, '%%Y-%%m-%%d') <= '{1}'\n",
    "        and t2.type = {2}\n",
    "        and t1.type = t2.type\n",
    "GROUP BY DATE_FORMAT(t3.publishtime, '%%Y-%%m-%%d') , t2.type , t1.traffic_id, t2.sen\n",
    "'''.format(start_day, end_day, t)\n",
    "\n",
    "cbirc_count_type = pd.read_sql(sql_cbirc, engine)\n",
    "cbirc_count_all = pd.concat([cbirc_count_all, cbirc_count_type], axis = 0)\n",
    "print('    耗时：%s s'%(time.time() - t0))"
   ]
  },
  {
   "cell_type": "code",
   "execution_count": null,
   "metadata": {
    "ExecuteTime": {
     "start_time": "2018-12-04T01:35:12.918Z"
    },
    "collapsed": true
   },
   "outputs": [],
   "source": [
    "print(cbirc_count_all.shape)\n",
    "cbirc_count_all.head()"
   ]
  },
  {
   "cell_type": "markdown",
   "metadata": {},
   "source": [
    "### 八分类数据"
   ]
  },
  {
   "cell_type": "code",
   "execution_count": null,
   "metadata": {
    "ExecuteTime": {
     "start_time": "2018-12-04T01:35:12.925Z"
    },
    "collapsed": true
   },
   "outputs": [],
   "source": [
    "cbirc_count = cbirc_count_all.groupby(['publishtime', 'type', 'classify'])['count'].sum()\n",
    "cbirc_count = cbirc_count.reset_index(['publishtime', 'type', 'classify'])\n",
    "cbirc_count.head()"
   ]
  },
  {
   "cell_type": "code",
   "execution_count": null,
   "metadata": {
    "ExecuteTime": {
     "start_time": "2018-12-04T01:35:12.931Z"
    },
    "collapsed": true
   },
   "outputs": [],
   "source": [
    "cbirc_count['classify'] = cbirc_count['classify'].apply(lambda x:class_name_dict[int(x)])\n",
    "cbirc_count['type'] = cbirc_count['type'].apply(lambda x:proj_name_dict[int(x)])\n",
    "print(cbirc_count.shape)\n",
    "print(cbirc_count.info(memory_usage = 'deep'))\n",
    "# cbirc_count.head()\n",
    "\n",
    "print(cbirc_count['count'].sum())\n",
    "cbirc_count.pivot_table(index = ['publishtime'], columns = ['type'], \n",
    "                        aggfunc = [np.sum], values = ['count'], \n",
    "                        fill_value = 0, margins = True)"
   ]
  },
  {
   "cell_type": "code",
   "execution_count": null,
   "metadata": {
    "ExecuteTime": {
     "start_time": "2018-12-04T01:35:12.941Z"
    },
    "collapsed": true
   },
   "outputs": [],
   "source": [
    "# sql_cbirc = '''\n",
    "# SELECT \n",
    "#     DATE_FORMAT(t3.publishtime, '%%Y-%%m-%%d') AS publishtime,\n",
    "#     t2.type,\n",
    "#     t1.traffic_id AS classify,\n",
    "#     COUNT(t1.id) AS count\n",
    "# FROM\n",
    "#     cbrc_circ.db_classify_traffic_docinfo t1\n",
    "#         LEFT JOIN\n",
    "#     cbrc_circ.db_docinfo_trade t2 ON t1.urlhash = t2.urlhash\n",
    "#         LEFT JOIN\n",
    "#     cbrc_circ.db_docinfo t3 ON t2.urlhash = t3.urlhash\n",
    "# WHERE\n",
    "#     date_format(t3.publishtime, '%%Y-%%m-%%d') >= '{0}'\n",
    "#         AND date_format(t3.publishtime, '%%Y-%%m-%%d') <= '{1}'\n",
    "# GROUP BY DATE_FORMAT(t3.publishtime, '%%Y-%%m-%%d') , t2.type , t1.traffic_id\n",
    "# '''.format(start_day, end_day)\n",
    "\n",
    "# cbirc_count = pd.read_sql(sql_cbirc, engine)\n",
    "# cbirc_count['classify'] = cbirc_count['classify'].apply(lambda x:class_name_dict[x])\n",
    "# print(cbirc_count.shape)\n",
    "# print(cbirc_count.info(memory_usage = 'deep'))\n",
    "# cbirc_count.head()"
   ]
  },
  {
   "cell_type": "markdown",
   "metadata": {},
   "source": [
    "### 倾向性数据"
   ]
  },
  {
   "cell_type": "code",
   "execution_count": null,
   "metadata": {
    "ExecuteTime": {
     "start_time": "2018-12-04T01:35:12.949Z"
    },
    "collapsed": true
   },
   "outputs": [],
   "source": [
    "tend_count = cbirc_count_all.groupby(['publishtime', 'type', 'tendency'])['count'].sum()\n",
    "tend_count = tend_count.reset_index(['publishtime', 'type', 'tendency'])\n",
    "tend_count.head()"
   ]
  },
  {
   "cell_type": "code",
   "execution_count": null,
   "metadata": {
    "ExecuteTime": {
     "start_time": "2018-12-04T01:35:12.962Z"
    },
    "collapsed": true
   },
   "outputs": [],
   "source": [
    "tend_count['type'] = tend_count['type'].apply(lambda x:proj_name_dict[int(x)])\n",
    "print(tend_count.shape)\n",
    "print(tend_count.info(memory_usage = 'deep'))\n",
    "# tend_count.head()\n",
    "\n",
    "print(tend_count['count'].sum())\n",
    "tend_count.pivot_table(index = ['publishtime'], columns = ['type'], \n",
    "                        aggfunc = [np.sum], values = ['count'], \n",
    "                        fill_value = 0, margins = True)"
   ]
  },
  {
   "cell_type": "code",
   "execution_count": null,
   "metadata": {
    "ExecuteTime": {
     "start_time": "2018-12-04T01:35:12.973Z"
    },
    "collapsed": true
   },
   "outputs": [],
   "source": [
    "# sql_tend = \"select date_format(t2.publishtime,'%%Y-%%m-%%d') as publishtime, t1.type, \\\n",
    "#                     t1.sen as tendency, count(t1.id) as cor_count \\\n",
    "#                             from db_docinfo_trade t1, db_docinfo t2 \\\n",
    "#                                 where (date_format(t2.publishtime, '%%Y-%%m-%%d') >= '{0}' and \\\n",
    "#                                       date_format(t2.publishtime, '%%Y-%%m-%%d') <= '{1}') and \\\n",
    "#                                       t1.urlhash = t2.urlhash \\\n",
    "#                                 group by date_format(t2.publishtime,'%%Y-%%m-%%d'), t1.type, t1.sen \\\n",
    "#                                 order by date_format(t2.publishtime,'%%Y-%%m-%%d') desc\".format(start_day, end_day) \n",
    "\n",
    "# tend_count = pd.read_sql(sql_tend, engine)\n",
    "# tend_count = tend_count[tend_count['tendency'] != 1]\n",
    "# print(tend_count.shape)\n",
    "# print(tend_count.info(memory_usage = 'deep'))\n",
    "# tend_count.head()"
   ]
  },
  {
   "cell_type": "markdown",
   "metadata": {},
   "source": [
    "## 八分类"
   ]
  },
  {
   "cell_type": "markdown",
   "metadata": {
    "collapsed": true
   },
   "source": [
    "### 银监会"
   ]
  },
  {
   "cell_type": "code",
   "execution_count": null,
   "metadata": {
    "ExecuteTime": {
     "start_time": "2018-12-04T01:35:12.980Z"
    },
    "collapsed": true
   },
   "outputs": [],
   "source": [
    "class_count = cbirc_count[cbirc_count['type'] == 1].drop('type', axis = 1)\n",
    "cor_class_1, cor_class, count_data_7, count_data_4 = get_class_data(class_count)\n",
    "cor_class_1.sort_index(ascending = False).head()"
   ]
  },
  {
   "cell_type": "code",
   "execution_count": null,
   "metadata": {
    "ExecuteTime": {
     "start_time": "2018-12-04T01:35:12.985Z"
    },
    "collapsed": true
   },
   "outputs": [],
   "source": [
    "cor_class['rate'].reset_index().fillna(0).plot(x = 'publishtime', figsize = (15,6))\n",
    "cor_class.sort_index(ascending = False).head()"
   ]
  },
  {
   "cell_type": "code",
   "execution_count": null,
   "metadata": {
    "ExecuteTime": {
     "start_time": "2018-12-04T01:35:12.992Z"
    },
    "collapsed": true
   },
   "outputs": [],
   "source": [
    "plot_cor(count_data_7, cbirc_day_thing, \"CBRC 8-class cor&uncor:7-1\")"
   ]
  },
  {
   "cell_type": "code",
   "execution_count": null,
   "metadata": {
    "ExecuteTime": {
     "start_time": "2018-12-04T01:35:12.999Z"
    },
    "collapsed": true
   },
   "outputs": [],
   "source": [
    "plot_cor(count_data_4, cbirc_day_thing, \"CBRC 8-class cor&uncor:4-4\")"
   ]
  },
  {
   "cell_type": "markdown",
   "metadata": {},
   "source": [
    "### 保监会"
   ]
  },
  {
   "cell_type": "code",
   "execution_count": null,
   "metadata": {
    "ExecuteTime": {
     "start_time": "2018-12-04T01:35:13.006Z"
    },
    "collapsed": true
   },
   "outputs": [],
   "source": [
    "class_count = cbirc_count[cbirc_count['type'] == 2].drop('type', axis = 1)\n",
    "cor_class_1, cor_class, count_data_7, count_data_4 = get_class_data(class_count)\n",
    "cor_class_1.sort_index(ascending = False).head()"
   ]
  },
  {
   "cell_type": "code",
   "execution_count": null,
   "metadata": {
    "ExecuteTime": {
     "start_time": "2018-12-04T01:35:13.012Z"
    },
    "collapsed": true
   },
   "outputs": [],
   "source": [
    "cor_class['rate'].reset_index().fillna(0).plot(x = 'publishtime', figsize = (15,6))\n",
    "cor_class.sort_index(ascending = False).head()"
   ]
  },
  {
   "cell_type": "code",
   "execution_count": null,
   "metadata": {
    "ExecuteTime": {
     "start_time": "2018-12-04T01:35:13.017Z"
    },
    "collapsed": true
   },
   "outputs": [],
   "source": [
    "plot_cor(count_data_7, cbirc_day_thing, \"CIRC 8-class cor&uncor:7-1\")"
   ]
  },
  {
   "cell_type": "code",
   "execution_count": null,
   "metadata": {
    "ExecuteTime": {
     "start_time": "2018-12-04T01:35:13.023Z"
    },
    "collapsed": true
   },
   "outputs": [],
   "source": [
    "plot_cor(count_data_4, cbirc_day_thing, \"CIRC 8-class cor&uncor:4-4\")"
   ]
  },
  {
   "cell_type": "code",
   "execution_count": null,
   "metadata": {
    "collapsed": true
   },
   "outputs": [],
   "source": []
  },
  {
   "cell_type": "markdown",
   "metadata": {},
   "source": [
    "### 中国人寿"
   ]
  },
  {
   "cell_type": "code",
   "execution_count": null,
   "metadata": {
    "ExecuteTime": {
     "start_time": "2018-12-04T01:35:13.029Z"
    },
    "collapsed": true
   },
   "outputs": [],
   "source": [
    "class_count = cbirc_count[cbirc_count['type'] == '中国人寿'].drop('type', axis = 1)\n",
    "cor_class_1, cor_class, count_data_7, count_data_4 = get_class_data(class_count)\n",
    "cor_class_1.sort_index(ascending = False).head()"
   ]
  },
  {
   "cell_type": "code",
   "execution_count": null,
   "metadata": {
    "ExecuteTime": {
     "start_time": "2018-12-04T01:35:13.035Z"
    },
    "collapsed": true
   },
   "outputs": [],
   "source": [
    "cor_class['rate'].reset_index().fillna(0).plot(x = 'publishtime', figsize = (15,6))\n",
    "cor_class.sort_index(ascending = False).head()"
   ]
  },
  {
   "cell_type": "code",
   "execution_count": null,
   "metadata": {
    "ExecuteTime": {
     "start_time": "2018-12-04T01:35:13.039Z"
    },
    "collapsed": true
   },
   "outputs": [],
   "source": [
    "plot_cor(count_data_7, cbirc_day_thing, \"CLIC 8-class cor&uncor:7-1\")"
   ]
  },
  {
   "cell_type": "code",
   "execution_count": null,
   "metadata": {
    "ExecuteTime": {
     "start_time": "2018-12-04T01:35:13.044Z"
    },
    "collapsed": true
   },
   "outputs": [],
   "source": [
    "plot_cor(count_data_4, cbirc_day_thing, \"CLIC 8-class cor&uncor:4-4\")"
   ]
  },
  {
   "cell_type": "markdown",
   "metadata": {},
   "source": [
    "### 建行北分"
   ]
  },
  {
   "cell_type": "code",
   "execution_count": null,
   "metadata": {
    "ExecuteTime": {
     "start_time": "2018-12-04T01:35:13.050Z"
    },
    "collapsed": true
   },
   "outputs": [],
   "source": [
    "class_count = cbirc_count[cbirc_count['type'] == '建行北分'].drop('type', axis = 1)\n",
    "cor_class_1, cor_class, count_data_7, count_data_4 = get_class_data(class_count)\n",
    "cor_class_1.sort_index(ascending = False).head()"
   ]
  },
  {
   "cell_type": "code",
   "execution_count": null,
   "metadata": {
    "ExecuteTime": {
     "start_time": "2018-12-04T01:35:13.055Z"
    },
    "collapsed": true
   },
   "outputs": [],
   "source": [
    "cor_class['rate'].reset_index().fillna(0).plot(x = 'publishtime', figsize = (15,6))\n",
    "cor_class.sort_index(ascending = False).head()"
   ]
  },
  {
   "cell_type": "code",
   "execution_count": null,
   "metadata": {
    "ExecuteTime": {
     "start_time": "2018-12-04T01:35:13.060Z"
    },
    "collapsed": true
   },
   "outputs": [],
   "source": [
    "plot_cor(count_data_7, cbirc_day_thing, \"CCB 8-class cor&uncor:7-1\")"
   ]
  },
  {
   "cell_type": "code",
   "execution_count": null,
   "metadata": {
    "ExecuteTime": {
     "start_time": "2018-12-04T01:35:13.065Z"
    },
    "collapsed": true
   },
   "outputs": [],
   "source": [
    "plot_cor(count_data_4, cbirc_day_thing, \"CCB 8-class cor&uncor:4-4\")"
   ]
  },
  {
   "cell_type": "markdown",
   "metadata": {},
   "source": [
    "### 中国人保"
   ]
  },
  {
   "cell_type": "code",
   "execution_count": null,
   "metadata": {
    "ExecuteTime": {
     "start_time": "2018-12-04T01:35:13.077Z"
    },
    "collapsed": true
   },
   "outputs": [],
   "source": [
    "class_count = cbirc_count[cbirc_count['type'] == '中国人保'].drop('type', axis = 1)\n",
    "cor_class_1, cor_class, count_data_7, count_data_4 = get_class_data(class_count)\n",
    "cor_class_1.sort_index(ascending = False).head()"
   ]
  },
  {
   "cell_type": "code",
   "execution_count": null,
   "metadata": {
    "ExecuteTime": {
     "start_time": "2018-12-04T01:35:13.081Z"
    },
    "collapsed": true
   },
   "outputs": [],
   "source": [
    "cor_class['rate'].reset_index().fillna(0).plot(x = 'publishtime', figsize = (15,6))\n",
    "cor_class.sort_index(ascending = False).head()"
   ]
  },
  {
   "cell_type": "code",
   "execution_count": null,
   "metadata": {
    "ExecuteTime": {
     "start_time": "2018-12-04T01:35:13.088Z"
    },
    "collapsed": true
   },
   "outputs": [],
   "source": [
    "plot_cor(count_data_7, cbirc_day_thing, \"PICC 8-class cor&uncor:7-1\")"
   ]
  },
  {
   "cell_type": "code",
   "execution_count": null,
   "metadata": {
    "ExecuteTime": {
     "start_time": "2018-12-04T01:35:13.095Z"
    },
    "collapsed": true
   },
   "outputs": [],
   "source": [
    "plot_cor(count_data_4, cbirc_day_thing, \"PICC 8-class cor&uncor:4-4\")"
   ]
  },
  {
   "cell_type": "markdown",
   "metadata": {},
   "source": [
    "## 倾向性"
   ]
  },
  {
   "cell_type": "markdown",
   "metadata": {},
   "source": [
    "### 银监会"
   ]
  },
  {
   "cell_type": "code",
   "execution_count": null,
   "metadata": {
    "ExecuteTime": {
     "start_time": "2018-12-04T01:35:13.100Z"
    },
    "collapsed": true
   },
   "outputs": [],
   "source": [
    "plot_tend(tend_count[tend_count['type'] == 1].drop('type', axis = 1), cbirc_day_thing, \"CBRC - tendency \")"
   ]
  },
  {
   "cell_type": "markdown",
   "metadata": {},
   "source": [
    "### 保监会"
   ]
  },
  {
   "cell_type": "code",
   "execution_count": null,
   "metadata": {
    "ExecuteTime": {
     "start_time": "2018-12-04T01:35:13.106Z"
    },
    "collapsed": true
   },
   "outputs": [],
   "source": [
    "plot_tend(tend_count[tend_count['type'] == 2].drop('type', axis = 1), cbirc_day_thing, \"CIRC - tendency \")"
   ]
  },
  {
   "cell_type": "markdown",
   "metadata": {},
   "source": [
    "### 中国人寿"
   ]
  },
  {
   "cell_type": "code",
   "execution_count": null,
   "metadata": {
    "ExecuteTime": {
     "start_time": "2018-12-04T01:35:13.113Z"
    },
    "collapsed": true
   },
   "outputs": [],
   "source": [
    "plot_tend(tend_count[tend_count['type'] == '中国人寿'].drop('type', axis = 1), cbirc_day_thing, \"CLIC - tendency \")"
   ]
  },
  {
   "cell_type": "markdown",
   "metadata": {},
   "source": [
    "### 建行北分"
   ]
  },
  {
   "cell_type": "code",
   "execution_count": null,
   "metadata": {
    "ExecuteTime": {
     "start_time": "2018-12-04T01:35:13.120Z"
    },
    "collapsed": true
   },
   "outputs": [],
   "source": [
    "plot_tend(tend_count[tend_count['type'] == '建行北分'].drop('type', axis = 1), cbirc_day_thing, \"CCB - tendency \")"
   ]
  },
  {
   "cell_type": "markdown",
   "metadata": {},
   "source": [
    "### 中国人保"
   ]
  },
  {
   "cell_type": "code",
   "execution_count": null,
   "metadata": {
    "ExecuteTime": {
     "start_time": "2018-12-04T01:35:13.126Z"
    },
    "collapsed": true
   },
   "outputs": [],
   "source": [
    "plot_tend(tend_count[tend_count['type'] == '建行北分'].drop('type', axis = 1), cbirc_day_thing, \"PICC - tendency \")"
   ]
  },
  {
   "cell_type": "markdown",
   "metadata": {},
   "source": [
    "## 补录和预警"
   ]
  },
  {
   "cell_type": "code",
   "execution_count": null,
   "metadata": {
    "collapsed": true
   },
   "outputs": [],
   "source": []
  },
  {
   "cell_type": "code",
   "execution_count": null,
   "metadata": {
    "collapsed": true
   },
   "outputs": [],
   "source": []
  }
 ],
 "metadata": {
  "kernelspec": {
   "display_name": "Python 3",
   "language": "python",
   "name": "python3"
  },
  "language_info": {
   "codemirror_mode": {
    "name": "ipython",
    "version": 3
   },
   "file_extension": ".py",
   "mimetype": "text/x-python",
   "name": "python",
   "nbconvert_exporter": "python",
   "pygments_lexer": "ipython3",
   "version": "3.6.3"
  },
  "toc": {
   "nav_menu": {},
   "number_sections": true,
   "sideBar": true,
   "skip_h1_title": false,
   "title_cell": "Table of Contents",
   "title_sidebar": "Contents",
   "toc_cell": false,
   "toc_position": {
    "height": "calc(100% - 180px)",
    "left": "10px",
    "top": "150px",
    "width": "376px"
   },
   "toc_section_display": true,
   "toc_window_display": true
  },
  "varInspector": {
   "cols": {
    "lenName": 16,
    "lenType": 16,
    "lenVar": 40
   },
   "kernels_config": {
    "python": {
     "delete_cmd_postfix": "",
     "delete_cmd_prefix": "del ",
     "library": "var_list.py",
     "varRefreshCmd": "print(var_dic_list())"
    },
    "r": {
     "delete_cmd_postfix": ") ",
     "delete_cmd_prefix": "rm(",
     "library": "var_list.r",
     "varRefreshCmd": "cat(var_dic_list()) "
    }
   },
   "types_to_exclude": [
    "module",
    "function",
    "builtin_function_or_method",
    "instance",
    "_Feature"
   ],
   "window_display": false
  }
 },
 "nbformat": 4,
 "nbformat_minor": 2
}
