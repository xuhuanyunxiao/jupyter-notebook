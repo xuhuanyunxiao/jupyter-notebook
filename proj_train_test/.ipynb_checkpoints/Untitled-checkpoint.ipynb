{
 "cells": [
  {
   "cell_type": "code",
   "execution_count": 18,
   "metadata": {
    "ExecuteTime": {
     "end_time": "2018-11-16T06:48:09.151403Z",
     "start_time": "2018-11-16T06:48:09.143402Z"
    },
    "collapsed": true,
    "slideshow": {
     "slide_type": "slide"
    }
   },
   "outputs": [],
   "source": [
    "import pandas as pd\n",
    "import requests,json\n",
    "from sklearn import metrics\n",
    "from toolkits.nlp import pre_cor_circ"
   ]
  },
  {
   "cell_type": "code",
   "execution_count": 19,
   "metadata": {
    "ExecuteTime": {
     "end_time": "2018-11-16T06:48:09.707435Z",
     "start_time": "2018-11-16T06:48:09.679433Z"
    },
    "collapsed": true,
    "slideshow": {
     "slide_type": "slide"
    }
   },
   "outputs": [],
   "source": [
    "def get_server_res(data, url, col_name):\n",
    "    '''\n",
    "    服务器接口测试程序\n",
    "    传入 dict, 传出 DataFrame\n",
    "    '''\n",
    "    # data = {'record':[{'id':0,'title':'ss','content':'zzz'},]}\n",
    "    # data = {\"record\":marked_human_data.iloc[:5,:3].to_dict(orient = 'records')}\n",
    "    # url \"http://47.93.77.19:10000/correlation_negative\"\n",
    "    headers={'content-type':'application/json'}\n",
    "    result = requests.post(url,\n",
    "                      data = json.dumps(data),\n",
    "                      headers=headers, allow_redirects=True)\n",
    "    # print(result.text)\n",
    "    json_data = json.loads(result.text)\n",
    "    parse_data = []\n",
    "    elapsed_time = json_data['elapsed_time']\n",
    "    for i in range(len(json_data['docs'])):\n",
    "        parse_data.append([json_data['docs'][i]['id'],\n",
    "                          json_data['docs'][i][col_name]])\n",
    "    parse_data = pd.DataFrame(parse_data, columns = ['id', col_name])    \n",
    "    return parse_data, elapsed_time"
   ]
  },
  {
   "cell_type": "code",
   "execution_count": 24,
   "metadata": {
    "ExecuteTime": {
     "end_time": "2018-11-16T06:48:56.848131Z",
     "start_time": "2018-11-16T06:48:56.688122Z"
    },
    "collapsed": true,
    "slideshow": {
     "slide_type": "slide"
    }
   },
   "outputs": [],
   "source": [
    "fiel_path = r'circ_data_tendency\\20181112\\circ_tendency_feedback_20181116.xlsx'\n",
    "\n",
    "combined_data_1 = pd.read_excel(fiel_path, '0')\n",
    "combined_data_2 = pd.read_excel(fiel_path, '-1')\n",
    "combined_data = pd.concat([combined_data_1, combined_data_2])\n",
    "combined_data['title_content'] = combined_data['title']+'。'+combined_data['content']"
   ]
  },
  {
   "cell_type": "code",
   "execution_count": 25,
   "metadata": {
    "ExecuteTime": {
     "end_time": "2018-11-16T06:49:00.998368Z",
     "start_time": "2018-11-16T06:48:57.654177Z"
    },
    "slideshow": {
     "slide_type": "subslide"
    }
   },
   "outputs": [
    {
     "name": "stdout",
     "output_type": "stream",
     "text": [
      "(400, 10)\n"
     ]
    },
    {
     "name": "stderr",
     "output_type": "stream",
     "text": [
      "D:\\software\\conda\\lib\\site-packages\\sklearn\\preprocessing\\label.py:151: DeprecationWarning: The truth value of an empty array is ambiguous. Returning False, but in future this will result in an error. Use `array.size > 0` to check that an array is not empty.\n",
      "  if diff:\n"
     ]
    },
    {
     "data": {
      "text/html": [
       "<div>\n",
       "<style scoped>\n",
       "    .dataframe tbody tr th:only-of-type {\n",
       "        vertical-align: middle;\n",
       "    }\n",
       "\n",
       "    .dataframe tbody tr th {\n",
       "        vertical-align: top;\n",
       "    }\n",
       "\n",
       "    .dataframe thead th {\n",
       "        text-align: right;\n",
       "    }\n",
       "</style>\n",
       "<table border=\"1\" class=\"dataframe\">\n",
       "  <thead>\n",
       "    <tr style=\"text-align: right;\">\n",
       "      <th></th>\n",
       "      <th>id</th>\n",
       "      <th>group_id</th>\n",
       "      <th>predict_label</th>\n",
       "      <th>tendency</th>\n",
       "      <th>label</th>\n",
       "      <th>title</th>\n",
       "      <th>content</th>\n",
       "      <th>publishtime</th>\n",
       "      <th>title_content</th>\n",
       "      <th>local_label</th>\n",
       "    </tr>\n",
       "  </thead>\n",
       "  <tbody>\n",
       "    <tr>\n",
       "      <th>0</th>\n",
       "      <td>11967202</td>\n",
       "      <td>微信</td>\n",
       "      <td>消费服务</td>\n",
       "      <td>0</td>\n",
       "      <td>0</td>\n",
       "      <td>车辆被撞对方耍赖怎么办？看这里彻底帮你搞定！| 保险与你</td>\n",
       "      <td>来源：财险互动 如果开车正常行驶被别人撞了，对方全责，找对方赔偿就好。 可事情并不总是那么简...</td>\n",
       "      <td>2018-11-08 23:55:00</td>\n",
       "      <td>车辆被撞对方耍赖怎么办？看这里彻底帮你搞定！| 保险与你。来源：财险互动 如果开车正常行驶被...</td>\n",
       "      <td>-1</td>\n",
       "    </tr>\n",
       "    <tr>\n",
       "      <th>1</th>\n",
       "      <td>11915584</td>\n",
       "      <td>微博</td>\n",
       "      <td>资本市场</td>\n",
       "      <td>0</td>\n",
       "      <td>0</td>\n",
       "      <td>【板王快讯：中国平安取代贝莱德 成汇丰控股第一大股东】在最近一次增持后，中国平安已取代贝莱德...</td>\n",
       "      <td>【板王快讯：中国平安取代贝莱德 成汇丰控股第一大股东】在最近一次增持后，中国平安已取代贝莱德...</td>\n",
       "      <td>2018-11-06 18:41:26</td>\n",
       "      <td>【板王快讯：中国平安取代贝莱德 成汇丰控股第一大股东】在最近一次增持后，中国平安已取代贝莱德...</td>\n",
       "      <td>-1</td>\n",
       "    </tr>\n",
       "    <tr>\n",
       "      <th>2</th>\n",
       "      <td>11936030</td>\n",
       "      <td>新闻</td>\n",
       "      <td>消费服务</td>\n",
       "      <td>0</td>\n",
       "      <td>0</td>\n",
       "      <td>旅责险统保示范项目显成效</td>\n",
       "      <td>阳光产险30万元的旅游意外保险赔偿金于近日送达山东邹平孙某某的遗属。旅行社责任保险统保示...</td>\n",
       "      <td>2018-11-07 16:46:41</td>\n",
       "      <td>旅责险统保示范项目显成效。　　阳光产险30万元的旅游意外保险赔偿金于近日送达山东邹平孙某某的...</td>\n",
       "      <td>-1</td>\n",
       "    </tr>\n",
       "    <tr>\n",
       "      <th>3</th>\n",
       "      <td>11902803</td>\n",
       "      <td>新闻</td>\n",
       "      <td>公司内部管理</td>\n",
       "      <td>0</td>\n",
       "      <td>0</td>\n",
       "      <td>香港金融科技潮起 累计募资达9.4亿美元</td>\n",
       "      <td>（原标题：香港金融科技潮起）香港金融局在金融科技周上宣布，新推出的贸易融资数码化平台——“贸...</td>\n",
       "      <td>2018-11-06 07:21:27</td>\n",
       "      <td>香港金融科技潮起 累计募资达9.4亿美元。（原标题：香港金融科技潮起）香港金融局在金融科技周...</td>\n",
       "      <td>0</td>\n",
       "    </tr>\n",
       "    <tr>\n",
       "      <th>4</th>\n",
       "      <td>11959788</td>\n",
       "      <td>微信</td>\n",
       "      <td>产品销售</td>\n",
       "      <td>0</td>\n",
       "      <td>0</td>\n",
       "      <td>如何像挑选口红一样为自己配置保险</td>\n",
       "      <td>今天转载一篇同事Margaret的原创文章， 日常使用的口红，是要经过挑选才能在成百上千的试...</td>\n",
       "      <td>2018-11-08 17:25:58</td>\n",
       "      <td>如何像挑选口红一样为自己配置保险。今天转载一篇同事Margaret的原创文章， 日常使用的口...</td>\n",
       "      <td>0</td>\n",
       "    </tr>\n",
       "  </tbody>\n",
       "</table>\n",
       "</div>"
      ],
      "text/plain": [
       "         id group_id predict_label  tendency  label  \\\n",
       "0  11967202       微信          消费服务         0      0   \n",
       "1  11915584       微博          资本市场         0      0   \n",
       "2  11936030       新闻          消费服务         0      0   \n",
       "3  11902803       新闻        公司内部管理         0      0   \n",
       "4  11959788       微信          产品销售         0      0   \n",
       "\n",
       "                                               title  \\\n",
       "0                       车辆被撞对方耍赖怎么办？看这里彻底帮你搞定！| 保险与你   \n",
       "1  【板王快讯：中国平安取代贝莱德 成汇丰控股第一大股东】在最近一次增持后，中国平安已取代贝莱德...   \n",
       "2                                       旅责险统保示范项目显成效   \n",
       "3                               香港金融科技潮起 累计募资达9.4亿美元   \n",
       "4                                   如何像挑选口红一样为自己配置保险   \n",
       "\n",
       "                                             content         publishtime  \\\n",
       "0  来源：财险互动 如果开车正常行驶被别人撞了，对方全责，找对方赔偿就好。 可事情并不总是那么简... 2018-11-08 23:55:00   \n",
       "1  【板王快讯：中国平安取代贝莱德 成汇丰控股第一大股东】在最近一次增持后，中国平安已取代贝莱德... 2018-11-06 18:41:26   \n",
       "2  　　阳光产险30万元的旅游意外保险赔偿金于近日送达山东邹平孙某某的遗属。旅行社责任保险统保示... 2018-11-07 16:46:41   \n",
       "3  （原标题：香港金融科技潮起）香港金融局在金融科技周上宣布，新推出的贸易融资数码化平台——“贸... 2018-11-06 07:21:27   \n",
       "4  今天转载一篇同事Margaret的原创文章， 日常使用的口红，是要经过挑选才能在成百上千的试... 2018-11-08 17:25:58   \n",
       "\n",
       "                                       title_content  local_label  \n",
       "0  车辆被撞对方耍赖怎么办？看这里彻底帮你搞定！| 保险与你。来源：财险互动 如果开车正常行驶被...           -1  \n",
       "1  【板王快讯：中国平安取代贝莱德 成汇丰控股第一大股东】在最近一次增持后，中国平安已取代贝莱德...           -1  \n",
       "2  旅责险统保示范项目显成效。　　阳光产险30万元的旅游意外保险赔偿金于近日送达山东邹平孙某某的...           -1  \n",
       "3  香港金融科技潮起 累计募资达9.4亿美元。（原标题：香港金融科技潮起）香港金融局在金融科技周...            0  \n",
       "4  如何像挑选口红一样为自己配置保险。今天转载一篇同事Margaret的原创文章， 日常使用的口...            0  "
      ]
     },
     "execution_count": 25,
     "metadata": {},
     "output_type": "execute_result"
    }
   ],
   "source": [
    "from sklearn.externals import joblib\n",
    "pipeline = joblib.load(\"model/cbrc_chapter_tendency_1114.pkl.z\")\n",
    "\n",
    "title_content = pre_cor_circ.handle_contents(combined_data['title_content'].tolist())\n",
    "local_label = pipeline.predict(title_content)\n",
    "combined_data['local_label'] = local_label\n",
    "\n",
    "print(combined_data.shape)\n",
    "combined_data.head()"
   ]
  },
  {
   "cell_type": "code",
   "execution_count": 28,
   "metadata": {
    "ExecuteTime": {
     "end_time": "2018-11-16T06:49:48.104063Z",
     "start_time": "2018-11-16T06:49:48.089062Z"
    },
    "slideshow": {
     "slide_type": "subslide"
    }
   },
   "outputs": [
    {
     "name": "stdout",
     "output_type": "stream",
     "text": [
      "accuracy_score:  0.4175\n",
      "             precision    recall  f1-score   support\n",
      "\n",
      "         -1       0.17      0.69      0.27        64\n",
      "          0       0.86      0.37      0.51       336\n",
      "\n",
      "avg / total       0.75      0.42      0.48       400\n",
      "\n",
      "confusion_matrix: \n",
      "[[ 44  20]\n",
      " [213 123]]\n"
     ]
    }
   ],
   "source": [
    "# y_pred_class = pipeline.predict(X_test)\n",
    "y_pred_class = tend_data['local_label'].tolist()\n",
    "y_test = tend_data['label'].tolist()\n",
    "print('accuracy_score: ', metrics.accuracy_score(y_test, y_pred_class)) # 指所有分类正确的百分比\n",
    "print(metrics.classification_report(y_test, y_pred_class))\n",
    "print('confusion_matrix: ')\n",
    "print( metrics.confusion_matrix(y_test, y_pred_class))"
   ]
  },
  {
   "cell_type": "code",
   "execution_count": 26,
   "metadata": {
    "ExecuteTime": {
     "end_time": "2018-11-16T06:49:35.191324Z",
     "start_time": "2018-11-16T06:49:10.767927Z"
    },
    "slideshow": {
     "slide_type": "slide"
    }
   },
   "outputs": [
    {
     "name": "stdout",
     "output_type": "stream",
     "text": [
      "(400, 2)\n"
     ]
    },
    {
     "data": {
      "text/html": [
       "<div>\n",
       "<style scoped>\n",
       "    .dataframe tbody tr th:only-of-type {\n",
       "        vertical-align: middle;\n",
       "    }\n",
       "\n",
       "    .dataframe tbody tr th {\n",
       "        vertical-align: top;\n",
       "    }\n",
       "\n",
       "    .dataframe thead th {\n",
       "        text-align: right;\n",
       "    }\n",
       "</style>\n",
       "<table border=\"1\" class=\"dataframe\">\n",
       "  <thead>\n",
       "    <tr style=\"text-align: right;\">\n",
       "      <th></th>\n",
       "      <th>id</th>\n",
       "      <th>online_label</th>\n",
       "    </tr>\n",
       "  </thead>\n",
       "  <tbody>\n",
       "    <tr>\n",
       "      <th>0</th>\n",
       "      <td>11967202</td>\n",
       "      <td>-1</td>\n",
       "    </tr>\n",
       "    <tr>\n",
       "      <th>1</th>\n",
       "      <td>11915584</td>\n",
       "      <td>0</td>\n",
       "    </tr>\n",
       "    <tr>\n",
       "      <th>2</th>\n",
       "      <td>11936030</td>\n",
       "      <td>0</td>\n",
       "    </tr>\n",
       "    <tr>\n",
       "      <th>3</th>\n",
       "      <td>11902803</td>\n",
       "      <td>0</td>\n",
       "    </tr>\n",
       "    <tr>\n",
       "      <th>4</th>\n",
       "      <td>11959788</td>\n",
       "      <td>0</td>\n",
       "    </tr>\n",
       "  </tbody>\n",
       "</table>\n",
       "</div>"
      ],
      "text/plain": [
       "         id  online_label\n",
       "0  11967202            -1\n",
       "1  11915584             0\n",
       "2  11936030             0\n",
       "3  11902803             0\n",
       "4  11959788             0"
      ]
     },
     "execution_count": 26,
     "metadata": {},
     "output_type": "execute_result"
    }
   ],
   "source": [
    "# combined_data['id'] = range(combined_data.shape[0])\n",
    "combined_data['title'] = combined_data['title'].astype(str) \n",
    "combined_data['content'] = combined_data['content'].astype(str)\n",
    "data = {\"record\":combined_data.loc[:,['id', 'title' ,'content']].to_dict(orient = 'records')}\n",
    "url = \"http://47.93.77.19:10000/tendency_analysis_i\"\n",
    "col_name = 'tendency'\n",
    "parse_data, elapsed_time = get_server_res(data, url, col_name)\n",
    "parse_data.columns = ['id', 'online_label']\n",
    "print(parse_data.shape)\n",
    "parse_data.head()"
   ]
  },
  {
   "cell_type": "code",
   "execution_count": 27,
   "metadata": {
    "ExecuteTime": {
     "end_time": "2018-11-16T06:49:35.499342Z",
     "start_time": "2018-11-16T06:49:35.456339Z"
    },
    "slideshow": {
     "slide_type": "subslide"
    }
   },
   "outputs": [
    {
     "name": "stdout",
     "output_type": "stream",
     "text": [
      "(400, 11)\n"
     ]
    },
    {
     "data": {
      "text/html": [
       "<div>\n",
       "<style scoped>\n",
       "    .dataframe tbody tr th:only-of-type {\n",
       "        vertical-align: middle;\n",
       "    }\n",
       "\n",
       "    .dataframe tbody tr th {\n",
       "        vertical-align: top;\n",
       "    }\n",
       "\n",
       "    .dataframe thead th {\n",
       "        text-align: right;\n",
       "    }\n",
       "</style>\n",
       "<table border=\"1\" class=\"dataframe\">\n",
       "  <thead>\n",
       "    <tr style=\"text-align: right;\">\n",
       "      <th></th>\n",
       "      <th>id</th>\n",
       "      <th>online_label</th>\n",
       "      <th>group_id</th>\n",
       "      <th>predict_label</th>\n",
       "      <th>tendency</th>\n",
       "      <th>label</th>\n",
       "      <th>title</th>\n",
       "      <th>content</th>\n",
       "      <th>publishtime</th>\n",
       "      <th>title_content</th>\n",
       "      <th>local_label</th>\n",
       "    </tr>\n",
       "  </thead>\n",
       "  <tbody>\n",
       "    <tr>\n",
       "      <th>0</th>\n",
       "      <td>11967202</td>\n",
       "      <td>-1</td>\n",
       "      <td>微信</td>\n",
       "      <td>消费服务</td>\n",
       "      <td>0</td>\n",
       "      <td>0</td>\n",
       "      <td>车辆被撞对方耍赖怎么办？看这里彻底帮你搞定！| 保险与你</td>\n",
       "      <td>来源：财险互动 如果开车正常行驶被别人撞了，对方全责，找对方赔偿就好。 可事情并不总是那么简...</td>\n",
       "      <td>2018-11-08 23:55:00</td>\n",
       "      <td>车辆被撞对方耍赖怎么办？看这里彻底帮你搞定！| 保险与你。来源：财险互动 如果开车正常行驶被...</td>\n",
       "      <td>-1</td>\n",
       "    </tr>\n",
       "    <tr>\n",
       "      <th>1</th>\n",
       "      <td>11915584</td>\n",
       "      <td>0</td>\n",
       "      <td>微博</td>\n",
       "      <td>资本市场</td>\n",
       "      <td>0</td>\n",
       "      <td>0</td>\n",
       "      <td>【板王快讯：中国平安取代贝莱德 成汇丰控股第一大股东】在最近一次增持后，中国平安已取代贝莱德...</td>\n",
       "      <td>【板王快讯：中国平安取代贝莱德 成汇丰控股第一大股东】在最近一次增持后，中国平安已取代贝莱德...</td>\n",
       "      <td>2018-11-06 18:41:26</td>\n",
       "      <td>【板王快讯：中国平安取代贝莱德 成汇丰控股第一大股东】在最近一次增持后，中国平安已取代贝莱德...</td>\n",
       "      <td>-1</td>\n",
       "    </tr>\n",
       "    <tr>\n",
       "      <th>2</th>\n",
       "      <td>11936030</td>\n",
       "      <td>0</td>\n",
       "      <td>新闻</td>\n",
       "      <td>消费服务</td>\n",
       "      <td>0</td>\n",
       "      <td>0</td>\n",
       "      <td>旅责险统保示范项目显成效</td>\n",
       "      <td>阳光产险30万元的旅游意外保险赔偿金于近日送达山东邹平孙某某的遗属。旅行社责任保险统保示...</td>\n",
       "      <td>2018-11-07 16:46:41</td>\n",
       "      <td>旅责险统保示范项目显成效。　　阳光产险30万元的旅游意外保险赔偿金于近日送达山东邹平孙某某的...</td>\n",
       "      <td>-1</td>\n",
       "    </tr>\n",
       "    <tr>\n",
       "      <th>3</th>\n",
       "      <td>11902803</td>\n",
       "      <td>0</td>\n",
       "      <td>新闻</td>\n",
       "      <td>公司内部管理</td>\n",
       "      <td>0</td>\n",
       "      <td>0</td>\n",
       "      <td>香港金融科技潮起 累计募资达9.4亿美元</td>\n",
       "      <td>（原标题：香港金融科技潮起）香港金融局在金融科技周上宣布，新推出的贸易融资数码化平台——“贸...</td>\n",
       "      <td>2018-11-06 07:21:27</td>\n",
       "      <td>香港金融科技潮起 累计募资达9.4亿美元。（原标题：香港金融科技潮起）香港金融局在金融科技周...</td>\n",
       "      <td>0</td>\n",
       "    </tr>\n",
       "    <tr>\n",
       "      <th>4</th>\n",
       "      <td>11959788</td>\n",
       "      <td>0</td>\n",
       "      <td>微信</td>\n",
       "      <td>产品销售</td>\n",
       "      <td>0</td>\n",
       "      <td>0</td>\n",
       "      <td>如何像挑选口红一样为自己配置保险</td>\n",
       "      <td>今天转载一篇同事Margaret的原创文章， 日常使用的口红，是要经过挑选才能在成百上千的试...</td>\n",
       "      <td>2018-11-08 17:25:58</td>\n",
       "      <td>如何像挑选口红一样为自己配置保险。今天转载一篇同事Margaret的原创文章， 日常使用的口...</td>\n",
       "      <td>0</td>\n",
       "    </tr>\n",
       "  </tbody>\n",
       "</table>\n",
       "</div>"
      ],
      "text/plain": [
       "         id  online_label group_id predict_label  tendency  label  \\\n",
       "0  11967202            -1       微信          消费服务         0      0   \n",
       "1  11915584             0       微博          资本市场         0      0   \n",
       "2  11936030             0       新闻          消费服务         0      0   \n",
       "3  11902803             0       新闻        公司内部管理         0      0   \n",
       "4  11959788             0       微信          产品销售         0      0   \n",
       "\n",
       "                                               title  \\\n",
       "0                       车辆被撞对方耍赖怎么办？看这里彻底帮你搞定！| 保险与你   \n",
       "1  【板王快讯：中国平安取代贝莱德 成汇丰控股第一大股东】在最近一次增持后，中国平安已取代贝莱德...   \n",
       "2                                       旅责险统保示范项目显成效   \n",
       "3                               香港金融科技潮起 累计募资达9.4亿美元   \n",
       "4                                   如何像挑选口红一样为自己配置保险   \n",
       "\n",
       "                                             content         publishtime  \\\n",
       "0  来源：财险互动 如果开车正常行驶被别人撞了，对方全责，找对方赔偿就好。 可事情并不总是那么简... 2018-11-08 23:55:00   \n",
       "1  【板王快讯：中国平安取代贝莱德 成汇丰控股第一大股东】在最近一次增持后，中国平安已取代贝莱德... 2018-11-06 18:41:26   \n",
       "2  　　阳光产险30万元的旅游意外保险赔偿金于近日送达山东邹平孙某某的遗属。旅行社责任保险统保示... 2018-11-07 16:46:41   \n",
       "3  （原标题：香港金融科技潮起）香港金融局在金融科技周上宣布，新推出的贸易融资数码化平台——“贸... 2018-11-06 07:21:27   \n",
       "4  今天转载一篇同事Margaret的原创文章， 日常使用的口红，是要经过挑选才能在成百上千的试... 2018-11-08 17:25:58   \n",
       "\n",
       "                                       title_content  local_label  \n",
       "0  车辆被撞对方耍赖怎么办？看这里彻底帮你搞定！| 保险与你。来源：财险互动 如果开车正常行驶被...           -1  \n",
       "1  【板王快讯：中国平安取代贝莱德 成汇丰控股第一大股东】在最近一次增持后，中国平安已取代贝莱德...           -1  \n",
       "2  旅责险统保示范项目显成效。　　阳光产险30万元的旅游意外保险赔偿金于近日送达山东邹平孙某某的...           -1  \n",
       "3  香港金融科技潮起 累计募资达9.4亿美元。（原标题：香港金融科技潮起）香港金融局在金融科技周...            0  \n",
       "4  如何像挑选口红一样为自己配置保险。今天转载一篇同事Margaret的原创文章， 日常使用的口...            0  "
      ]
     },
     "execution_count": 27,
     "metadata": {},
     "output_type": "execute_result"
    }
   ],
   "source": [
    "tend_data = pd.merge(parse_data, combined_data, on = 'id', how = 'inner')\n",
    "print(tend_data.shape)\n",
    "tend_data.head()"
   ]
  },
  {
   "cell_type": "code",
   "execution_count": null,
   "metadata": {
    "collapsed": true
   },
   "outputs": [],
   "source": []
  },
  {
   "cell_type": "code",
   "execution_count": 29,
   "metadata": {
    "ExecuteTime": {
     "end_time": "2018-11-16T06:50:20.647924Z",
     "start_time": "2018-11-16T06:50:20.632923Z"
    }
   },
   "outputs": [
    {
     "name": "stdout",
     "output_type": "stream",
     "text": [
      "accuracy_score:  0.6325\n",
      "             precision    recall  f1-score   support\n",
      "\n",
      "         -1       0.27      0.75      0.40        64\n",
      "          0       0.93      0.61      0.74       336\n",
      "\n",
      "avg / total       0.82      0.63      0.68       400\n",
      "\n",
      "confusion_matrix: \n",
      "[[ 48  16]\n",
      " [131 205]]\n"
     ]
    }
   ],
   "source": [
    "# y_pred_class = pipeline.predict(X_test)\n",
    "y_pred_class = tend_data['online_label'].tolist()\n",
    "y_test = tend_data['label'].tolist()\n",
    "print('accuracy_score: ', metrics.accuracy_score(y_test, y_pred_class)) # 指所有分类正确的百分比\n",
    "print(metrics.classification_report(y_test, y_pred_class))\n",
    "print('confusion_matrix: ')\n",
    "print( metrics.confusion_matrix(y_test, y_pred_class))"
   ]
  },
  {
   "cell_type": "code",
   "execution_count": null,
   "metadata": {
    "collapsed": true
   },
   "outputs": [],
   "source": []
  },
  {
   "cell_type": "code",
   "execution_count": null,
   "metadata": {
    "collapsed": true
   },
   "outputs": [],
   "source": []
  },
  {
   "cell_type": "code",
   "execution_count": null,
   "metadata": {
    "collapsed": true
   },
   "outputs": [],
   "source": []
  },
  {
   "cell_type": "code",
   "execution_count": 1,
   "metadata": {
    "ExecuteTime": {
     "end_time": "2018-12-18T07:44:08.206476Z",
     "start_time": "2018-12-18T07:44:07.558439Z"
    },
    "collapsed": true
   },
   "outputs": [],
   "source": [
    "from toolkits.setup.date_time import get_day_list\n",
    "from toolkits.setup import specific_func\n",
    "specific_func.set_ch_pd()\n",
    "\n",
    "import numpy as np\n",
    "import pandas as pd\n",
    "import os\n",
    "import datetime\n",
    "import time"
   ]
  },
  {
   "cell_type": "code",
   "execution_count": 2,
   "metadata": {
    "ExecuteTime": {
     "end_time": "2018-12-18T07:44:08.362485Z",
     "start_time": "2018-12-18T07:44:08.344484Z"
    }
   },
   "outputs": [
    {
     "name": "stdout",
     "output_type": "stream",
     "text": [
      "今天是： 2018-12-18\n",
      "昨天是： 2018-12-17\n",
      "统计的是昨天的数据，即 2018-12-17 的数据\n",
      "start_day： 2018-11-17\n",
      "end_day： 2018-12-18\n"
     ]
    }
   ],
   "source": [
    "today = datetime.datetime.now()\n",
    "today_str = today.strftime(\"%Y-%m-%d\")\n",
    "yesterday = today - datetime.timedelta(days=1)\n",
    "yesterday_str = yesterday.strftime(\"%Y-%m-%d\")\n",
    "# data_folder = r'D:\\XH\\OneDrive\\网智天元\\4 银保监会\\cbirc_获取用于人工判断数据\\%s'% yesterday_str\n",
    "# if not os.path.exists(data_folder):\n",
    "#     os.makedirs(data_folder)\n",
    "\n",
    "print('今天是：',today.strftime(\"%Y-%m-%d\"))\n",
    "print('昨天是：',yesterday_str)\n",
    "print('统计的是昨天的数据，即 %s 的数据'%yesterday_str)\n",
    "# print('文件存储位置: ', data_folder)\n",
    "\n",
    "start_day = today - datetime.timedelta(days=31) # 30 天\n",
    "start_day = start_day.strftime(\"%Y-%m-%d\") # '2018-08-12'  # 含\n",
    "end_day = today_str # yesterday_str    # 含\n",
    "print('start_day：',start_day)\n",
    "print('end_day：',end_day)"
   ]
  },
  {
   "cell_type": "code",
   "execution_count": 3,
   "metadata": {
    "ExecuteTime": {
     "end_time": "2018-12-18T07:44:08.975520Z",
     "start_time": "2018-12-18T07:44:08.964520Z"
    }
   },
   "outputs": [
    {
     "name": "stdout",
     "output_type": "stream",
     "text": [
      "start_day： 2018-11-16\n",
      "end_day： 2018-12-17\n",
      "['2018-11-17', '2018-11-18', '2018-11-19', '2018-11-20', '2018-11-21', '2018-11-22', '2018-11-23', '2018-11-24', '2018-11-25', '2018-11-26', '2018-11-27', '2018-11-28', '2018-11-29', '2018-11-30', '2018-12-01', '2018-12-02', '2018-12-03', '2018-12-04', '2018-12-05', '2018-12-06', '2018-12-07', '2018-12-08', '2018-12-09', '2018-12-10', '2018-12-11', '2018-12-12', '2018-12-13', '2018-12-14', '2018-12-15', '2018-12-16', '2018-12-17']\n"
     ]
    }
   ],
   "source": [
    "start_day = today - datetime.timedelta(days=32) # 30 天\n",
    "start_day = start_day.strftime(\"%Y-%m-%d\") # '2018-08-12'  # 含\n",
    "end_day = yesterday_str    # 含\n",
    "print('start_day：',start_day)\n",
    "print('end_day：',end_day)\n",
    "\n",
    "# day_select = '2018-09-09'\n",
    "day_list = get_day_list(start_day, end_day)\n",
    "print(day_list)"
   ]
  },
  {
   "cell_type": "code",
   "execution_count": 4,
   "metadata": {
    "ExecuteTime": {
     "end_time": "2018-12-18T07:44:11.697676Z",
     "start_time": "2018-12-18T07:44:11.687675Z"
    }
   },
   "outputs": [
    {
     "data": {
      "text/plain": [
       "{1: '银监会', 2: '保监会', 3: '中国人寿', 4: '建行北分', 5: '中国人保', 6: '安徽银监局'}"
      ]
     },
     "execution_count": 4,
     "metadata": {},
     "output_type": "execute_result"
    }
   ],
   "source": [
    "proj_dic={'银监会':1,'保监会':2,'中国人寿':3,'建行北分':4,'中国人保':5,'安徽银监局':6}\n",
    "proj_name_dict = {v: k for k, v in proj_dic.items()}\n",
    "proj_name_dict"
   ]
  },
  {
   "cell_type": "code",
   "execution_count": 5,
   "metadata": {
    "ExecuteTime": {
     "end_time": "2018-12-18T07:44:23.458349Z",
     "start_time": "2018-12-18T07:44:13.227763Z"
    }
   },
   "outputs": [
    {
     "name": "stderr",
     "output_type": "stream",
     "text": [
      "D:\\software\\conda\\lib\\site-packages\\pymysql\\cursors.py:166: Warning: (1287, \"'@@tx_isolation' is deprecated and will be removed in a future release. Please use '@@transaction_isolation' instead\")\n",
      "  result = self._query(query)\n"
     ]
    }
   ],
   "source": [
    "engine = specific_func.get_engine('cbirc')"
   ]
  },
  {
   "cell_type": "code",
   "execution_count": 6,
   "metadata": {
    "ExecuteTime": {
     "end_time": "2018-12-18T09:27:01.452566Z",
     "start_time": "2018-12-18T07:44:40.369316Z"
    }
   },
   "outputs": [
    {
     "name": "stdout",
     "output_type": "stream",
     "text": [
      "获取 中国人保 的数据 -------\n",
      "   已存在： statistics_result/mysql_daily_count_by_condition/中国人保_2018-11-17_mysql_stat.xlsx\n",
      "   日期：2018-11-18 ；耗时：212.97718167304993 s\n",
      "   已生成： statistics_result/mysql_daily_count_by_condition/中国人保_2018-11-18_mysql_stat.xlsx\n",
      "   日期：2018-11-19 ；耗时：358.8895273208618 s\n",
      "   已生成： statistics_result/mysql_daily_count_by_condition/中国人保_2018-11-19_mysql_stat.xlsx\n",
      "   日期：2018-11-20 ；耗时：235.25745582580566 s\n",
      "   已生成： statistics_result/mysql_daily_count_by_condition/中国人保_2018-11-20_mysql_stat.xlsx\n",
      "   日期：2018-11-21 ；耗时：198.47435212135315 s\n",
      "   已生成： statistics_result/mysql_daily_count_by_condition/中国人保_2018-11-21_mysql_stat.xlsx\n",
      "   日期：2018-11-22 ；耗时：166.40551805496216 s\n",
      "   已生成： statistics_result/mysql_daily_count_by_condition/中国人保_2018-11-22_mysql_stat.xlsx\n",
      "   日期：2018-11-23 ；耗时：179.07924270629883 s\n",
      "   已生成： statistics_result/mysql_daily_count_by_condition/中国人保_2018-11-23_mysql_stat.xlsx\n",
      "   日期：2018-11-24 ；耗时：174.7319939136505 s\n",
      "   已生成： statistics_result/mysql_daily_count_by_condition/中国人保_2018-11-24_mysql_stat.xlsx\n",
      "   日期：2018-11-25 ；耗时：149.12452936172485 s\n",
      "   已生成： statistics_result/mysql_daily_count_by_condition/中国人保_2018-11-25_mysql_stat.xlsx\n",
      "   日期：2018-11-26 ；耗时：343.8926694393158 s\n",
      "   已生成： statistics_result/mysql_daily_count_by_condition/中国人保_2018-11-26_mysql_stat.xlsx\n",
      "   日期：2018-11-27 ；耗时：266.4472396373749 s\n",
      "   已生成： statistics_result/mysql_daily_count_by_condition/中国人保_2018-11-27_mysql_stat.xlsx\n",
      "   日期：2018-11-28 ；耗时：304.78743290901184 s\n",
      "   已生成： statistics_result/mysql_daily_count_by_condition/中国人保_2018-11-28_mysql_stat.xlsx\n",
      "   日期：2018-11-29 ；耗时：291.7196855545044 s\n",
      "   已生成： statistics_result/mysql_daily_count_by_condition/中国人保_2018-11-29_mysql_stat.xlsx\n",
      "   日期：2018-11-30 ；耗时：236.47952604293823 s\n",
      "   已生成： statistics_result/mysql_daily_count_by_condition/中国人保_2018-11-30_mysql_stat.xlsx\n",
      "   日期：2018-12-01 ；耗时：357.53744983673096 s\n",
      "   已生成： statistics_result/mysql_daily_count_by_condition/中国人保_2018-12-01_mysql_stat.xlsx\n",
      "   日期：2018-12-02 ；耗时：165.196448802948 s\n",
      "   已生成： statistics_result/mysql_daily_count_by_condition/中国人保_2018-12-02_mysql_stat.xlsx\n",
      "   日期：2018-12-03 ；耗时：224.2078239917755 s\n",
      "   已生成： statistics_result/mysql_daily_count_by_condition/中国人保_2018-12-03_mysql_stat.xlsx\n",
      "   日期：2018-12-04 ；耗时：267.51730132102966 s\n",
      "   已生成： statistics_result/mysql_daily_count_by_condition/中国人保_2018-12-04_mysql_stat.xlsx\n",
      "   日期：2018-12-05 ；耗时：286.23837184906006 s\n",
      "   已生成： statistics_result/mysql_daily_count_by_condition/中国人保_2018-12-05_mysql_stat.xlsx\n",
      "   日期：2018-12-06 ；耗时：231.00721263885498 s\n",
      "   已生成： statistics_result/mysql_daily_count_by_condition/中国人保_2018-12-06_mysql_stat.xlsx\n",
      "   日期：2018-12-07 ；耗时：225.8639190196991 s\n",
      "   已生成： statistics_result/mysql_daily_count_by_condition/中国人保_2018-12-07_mysql_stat.xlsx\n",
      "   日期：2018-12-08 ；耗时：143.84222722053528 s\n",
      "   已生成： statistics_result/mysql_daily_count_by_condition/中国人保_2018-12-08_mysql_stat.xlsx\n",
      "   日期：2018-12-09 ；耗时：119.2148187160492 s\n",
      "   已生成： statistics_result/mysql_daily_count_by_condition/中国人保_2018-12-09_mysql_stat.xlsx\n",
      "   日期：2018-12-10 ；耗时：241.86583399772644 s\n",
      "   已生成： statistics_result/mysql_daily_count_by_condition/中国人保_2018-12-10_mysql_stat.xlsx\n",
      "   日期：2018-12-11 ；耗时：196.67124891281128 s\n",
      "   已生成： statistics_result/mysql_daily_count_by_condition/中国人保_2018-12-11_mysql_stat.xlsx\n",
      "   日期：2018-12-12 ；耗时：157.13498783111572 s\n",
      "   已生成： statistics_result/mysql_daily_count_by_condition/中国人保_2018-12-12_mysql_stat.xlsx\n",
      "   日期：2018-12-13 ；耗时：132.3555703163147 s\n",
      "   已生成： statistics_result/mysql_daily_count_by_condition/中国人保_2018-12-13_mysql_stat.xlsx\n",
      "   日期：2018-12-14 ；耗时：109.58626794815063 s\n",
      "   已生成： statistics_result/mysql_daily_count_by_condition/中国人保_2018-12-14_mysql_stat.xlsx\n",
      "   日期：2018-12-15 ；耗时：52.96602940559387 s\n",
      "   已生成： statistics_result/mysql_daily_count_by_condition/中国人保_2018-12-15_mysql_stat.xlsx\n",
      "   日期：2018-12-16 ；耗时：51.79896283149719 s\n",
      "   已生成： statistics_result/mysql_daily_count_by_condition/中国人保_2018-12-16_mysql_stat.xlsx\n",
      "   日期：2018-12-17 ；耗时：59.75841784477234 s\n",
      "   已生成： statistics_result/mysql_daily_count_by_condition/中国人保_2018-12-17_mysql_stat.xlsx\n"
     ]
    }
   ],
   "source": [
    "for t in range(5, 6):\n",
    "    print('获取 %s 的数据 -------'%(proj_name_dict[t]))\n",
    "    for day in day_list:\n",
    "        filename = 'statistics_result/mysql_daily_count_by_condition/%s_%s_mysql_stat.xlsx'%(proj_name_dict[t], day)\n",
    "        if os.path.exists(filename):\n",
    "            print('   已存在：', filename)\n",
    "        else :\n",
    "            t0 = time.time()\n",
    "            sql_cbirc = '''\n",
    "            SELECT\n",
    "                t2.type,\n",
    "                t1.traffic_id AS classify,\n",
    "                t2.sen as tendency, \n",
    "                COUNT(t1.id) AS count\n",
    "            FROM\n",
    "                cbrc_circ.db_classify_traffic_docinfo t1\n",
    "                    LEFT JOIN\n",
    "                cbrc_circ.db_docinfo_trade t2 ON t1.urlhash = t2.urlhash\n",
    "                    LEFT JOIN\n",
    "                cbrc_circ.db_docinfo t3 ON t2.urlhash = t3.urlhash\n",
    "            WHERE\n",
    "                t3.publishtime >= '{0} 00:00:00'\n",
    "                AND t3.publishtime <= '{0} 23:59:59'\n",
    "                    and t2.type = {1}\n",
    "                    and t1.type = t2.type\n",
    "            GROUP BY t2.type , t1.traffic_id, t2.sen\n",
    "            '''.format(day, t)\n",
    "\n",
    "            cbirc_count_type = pd.read_sql(sql_cbirc, engine)     \n",
    "            cbirc_count_type['publishtime'] = day\n",
    "            cbirc_count_type.to_excel(filename, index = False)    \n",
    "            print('   日期：%s ；耗时：%s s'%(day, time.time() - t0))\n",
    "            print('   已生成：', filename)"
   ]
  },
  {
   "cell_type": "code",
   "execution_count": null,
   "metadata": {
    "ExecuteTime": {
     "start_time": "2018-12-18T07:20:44.406Z"
    },
    "collapsed": true
   },
   "outputs": [],
   "source": [
    "cbirc_count_all = pd.DataFrame()\n",
    "for t in range(5, 6):\n",
    "    print('获取 %s 的数据 -------'%(proj_name_dict[t]))\n",
    "    for day in day_list:\n",
    "        filename = 'statistics_result/mysql_daily_count_by_condition/%s_%s_mysql_stat.xlsx'%(proj_name_dict[t], day)\n",
    "        if os.path.exists(filename):\n",
    "            cbirc_count_type = pd.read_excel(filename)\n",
    "            cbirc_count_all = pd.concat([cbirc_count_all, cbirc_count_type], axis = 0)\n",
    "        else :\n",
    "            print('   不存在：', filename)"
   ]
  },
  {
   "cell_type": "code",
   "execution_count": null,
   "metadata": {
    "ExecuteTime": {
     "start_time": "2018-12-18T07:20:45.552Z"
    },
    "collapsed": true
   },
   "outputs": [],
   "source": [
    "print(cbirc_count_all.shape)\n",
    "cbirc_count_all.head()"
   ]
  },
  {
   "cell_type": "code",
   "execution_count": null,
   "metadata": {
    "collapsed": true
   },
   "outputs": [],
   "source": []
  },
  {
   "cell_type": "code",
   "execution_count": null,
   "metadata": {
    "collapsed": true
   },
   "outputs": [],
   "source": [
    "day"
   ]
  },
  {
   "cell_type": "code",
   "execution_count": 14,
   "metadata": {
    "ExecuteTime": {
     "end_time": "2018-12-18T10:04:37.374597Z",
     "start_time": "2018-12-18T10:04:26.729988Z"
    }
   },
   "outputs": [
    {
     "name": "stdout",
     "output_type": "stream",
     "text": [
      "   日期：2018-11-17 ；耗时：3.724212884902954 s\n",
      "   已生成： statistics_result/mysql_daily_count_by_condition/补录_CBIRC_2018-11-17_mysql_stat.xlsx\n",
      "   日期：2018-11-18 ；耗时：1.9351110458374023 s\n",
      "   已生成： statistics_result/mysql_daily_count_by_condition/补录_CBIRC_2018-11-18_mysql_stat.xlsx\n",
      "   日期：2018-11-19 ；耗时：0.12900733947753906 s\n",
      "   已生成： statistics_result/mysql_daily_count_by_condition/补录_CBIRC_2018-11-19_mysql_stat.xlsx\n",
      "   日期：2018-11-20 ；耗时：0.14500808715820312 s\n",
      "   已生成： statistics_result/mysql_daily_count_by_condition/补录_CBIRC_2018-11-20_mysql_stat.xlsx\n",
      "   日期：2018-11-21 ；耗时：0.14000797271728516 s\n",
      "   已生成： statistics_result/mysql_daily_count_by_condition/补录_CBIRC_2018-11-21_mysql_stat.xlsx\n",
      "   日期：2018-11-22 ；耗时：0.3670210838317871 s\n",
      "   已生成： statistics_result/mysql_daily_count_by_condition/补录_CBIRC_2018-11-22_mysql_stat.xlsx\n",
      "   日期：2018-11-23 ；耗时：0.128007173538208 s\n",
      "   已生成： statistics_result/mysql_daily_count_by_condition/补录_CBIRC_2018-11-23_mysql_stat.xlsx\n",
      "   日期：2018-11-24 ；耗时：0.13500761985778809 s\n",
      "   已生成： statistics_result/mysql_daily_count_by_condition/补录_CBIRC_2018-11-24_mysql_stat.xlsx\n",
      "   日期：2018-11-25 ；耗时：0.1260073184967041 s\n",
      "   已生成： statistics_result/mysql_daily_count_by_condition/补录_CBIRC_2018-11-25_mysql_stat.xlsx\n",
      "   日期：2018-11-26 ；耗时：0.2040116786956787 s\n",
      "   已生成： statistics_result/mysql_daily_count_by_condition/补录_CBIRC_2018-11-26_mysql_stat.xlsx\n",
      "   日期：2018-11-27 ；耗时：0.1540086269378662 s\n",
      "   已生成： statistics_result/mysql_daily_count_by_condition/补录_CBIRC_2018-11-27_mysql_stat.xlsx\n",
      "   日期：2018-11-28 ；耗时：0.14200806617736816 s\n",
      "   已生成： statistics_result/mysql_daily_count_by_condition/补录_CBIRC_2018-11-28_mysql_stat.xlsx\n",
      "   日期：2018-11-29 ；耗时：0.16000914573669434 s\n",
      "   已生成： statistics_result/mysql_daily_count_by_condition/补录_CBIRC_2018-11-29_mysql_stat.xlsx\n",
      "   日期：2018-11-30 ；耗时：0.15300869941711426 s\n",
      "   已生成： statistics_result/mysql_daily_count_by_condition/补录_CBIRC_2018-11-30_mysql_stat.xlsx\n",
      "   日期：2018-12-01 ；耗时：0.12700748443603516 s\n",
      "   已生成： statistics_result/mysql_daily_count_by_condition/补录_CBIRC_2018-12-01_mysql_stat.xlsx\n",
      "   日期：2018-12-02 ；耗时：0.139007568359375 s\n",
      "   已生成： statistics_result/mysql_daily_count_by_condition/补录_CBIRC_2018-12-02_mysql_stat.xlsx\n",
      "   日期：2018-12-03 ；耗时：0.17701005935668945 s\n",
      "   已生成： statistics_result/mysql_daily_count_by_condition/补录_CBIRC_2018-12-03_mysql_stat.xlsx\n",
      "   日期：2018-12-04 ；耗时：0.18101048469543457 s\n",
      "   已生成： statistics_result/mysql_daily_count_by_condition/补录_CBIRC_2018-12-04_mysql_stat.xlsx\n",
      "   日期：2018-12-05 ；耗时：0.18001008033752441 s\n",
      "   已生成： statistics_result/mysql_daily_count_by_condition/补录_CBIRC_2018-12-05_mysql_stat.xlsx\n",
      "   日期：2018-12-06 ；耗时：0.10900592803955078 s\n",
      "   已生成： statistics_result/mysql_daily_count_by_condition/补录_CBIRC_2018-12-06_mysql_stat.xlsx\n",
      "   日期：2018-12-07 ；耗时：0.1240072250366211 s\n",
      "   已生成： statistics_result/mysql_daily_count_by_condition/补录_CBIRC_2018-12-07_mysql_stat.xlsx\n",
      "   日期：2018-12-08 ；耗时：0.1540088653564453 s\n",
      "   已生成： statistics_result/mysql_daily_count_by_condition/补录_CBIRC_2018-12-08_mysql_stat.xlsx\n",
      "   日期：2018-12-09 ；耗时：0.13200759887695312 s\n",
      "   已生成： statistics_result/mysql_daily_count_by_condition/补录_CBIRC_2018-12-09_mysql_stat.xlsx\n",
      "   日期：2018-12-10 ；耗时：0.1740097999572754 s\n",
      "   已生成： statistics_result/mysql_daily_count_by_condition/补录_CBIRC_2018-12-10_mysql_stat.xlsx\n",
      "   日期：2018-12-11 ；耗时：0.2700157165527344 s\n",
      "   已生成： statistics_result/mysql_daily_count_by_condition/补录_CBIRC_2018-12-11_mysql_stat.xlsx\n",
      "   日期：2018-12-12 ；耗时：0.23301339149475098 s\n",
      "   已生成： statistics_result/mysql_daily_count_by_condition/补录_CBIRC_2018-12-12_mysql_stat.xlsx\n",
      "   日期：2018-12-13 ；耗时：0.1390080451965332 s\n",
      "   已生成： statistics_result/mysql_daily_count_by_condition/补录_CBIRC_2018-12-13_mysql_stat.xlsx\n",
      "   日期：2018-12-14 ；耗时：0.18001031875610352 s\n",
      "   已生成： statistics_result/mysql_daily_count_by_condition/补录_CBIRC_2018-12-14_mysql_stat.xlsx\n",
      "   日期：2018-12-15 ；耗时：0.1480083465576172 s\n",
      "   已生成： statistics_result/mysql_daily_count_by_condition/补录_CBIRC_2018-12-15_mysql_stat.xlsx\n",
      "   日期：2018-12-16 ；耗时：0.20801210403442383 s\n",
      "   已生成： statistics_result/mysql_daily_count_by_condition/补录_CBIRC_2018-12-16_mysql_stat.xlsx\n",
      "   日期：2018-12-17 ；耗时：0.2870163917541504 s\n",
      "   已生成： statistics_result/mysql_daily_count_by_condition/补录_CBIRC_2018-12-17_mysql_stat.xlsx\n"
     ]
    }
   ],
   "source": [
    "for day in day_list:\n",
    "    filename = 'statistics_result/mysql_daily_count_by_condition/补录_CBIRC_%s_mysql_stat.xlsx'%(day)\n",
    "    if os.path.exists(filename):\n",
    "        print('   已存在：', filename)\n",
    "    else :\n",
    "        t0 = time.time()\n",
    "        sql_cbirc = '''\n",
    "        SELECT            \n",
    "            t2.type,\n",
    "            t1.traffic_id AS classify,\n",
    "            t2.sen as tendency, \n",
    "            COUNT(t1.id) AS count,\n",
    "            t2.gather_type\n",
    "        FROM\n",
    "            cbrc_circ.db_classify_traffic_docinfo t1\n",
    "                LEFT JOIN\n",
    "            cbrc_circ.db_docinfo_trade t2 ON t1.urlhash = t2.urlhash\n",
    "                LEFT JOIN\n",
    "            cbrc_circ.db_docinfo t3 ON t2.urlhash = t3.urlhash\n",
    "        WHERE\n",
    "            t3.publishtime >= '{0} 00:00:00'\n",
    "            AND t3.publishtime <= '{0} 23:59:59'\n",
    "                and t1.type = t2.type\n",
    "                and t2.gather_type in (1,3)\n",
    "        GROUP BY t2.type , t1.traffic_id, t2.sen\n",
    "        '''.format(day)\n",
    "\n",
    "        cbirc_count_type = pd.read_sql(sql_cbirc, engine)     \n",
    "        cbirc_count_type['publishtime'] = day\n",
    "        cbirc_count_type.to_excel(filename, index = False)    \n",
    "        print('   日期：%s ；耗时：%s s'%(day, time.time() - t0))\n",
    "        print('   已生成：', filename)"
   ]
  },
  {
   "cell_type": "code",
   "execution_count": 15,
   "metadata": {
    "ExecuteTime": {
     "end_time": "2018-12-18T10:04:41.154813Z",
     "start_time": "2018-12-18T10:04:40.930801Z"
    },
    "collapsed": true
   },
   "outputs": [],
   "source": [
    "cbirc_add_count_all = pd.DataFrame()\n",
    "for day in day_list:\n",
    "    filename = 'statistics_result/mysql_daily_count_by_condition/补录_CBIRC_%s_mysql_stat.xlsx'%(day)\n",
    "    if os.path.exists(filename):\n",
    "        cbirc_count_type = pd.read_excel(filename)\n",
    "        cbirc_add_count_all = pd.concat([cbirc_add_count_all, cbirc_count_type], axis = 0)\n",
    "    else :\n",
    "        print('   不存在：', filename)"
   ]
  },
  {
   "cell_type": "code",
   "execution_count": 16,
   "metadata": {
    "ExecuteTime": {
     "end_time": "2018-12-18T10:04:41.686844Z",
     "start_time": "2018-12-18T10:04:41.667843Z"
    }
   },
   "outputs": [
    {
     "name": "stdout",
     "output_type": "stream",
     "text": [
      "(221, 6)\n"
     ]
    },
    {
     "data": {
      "text/html": [
       "<div>\n",
       "<style scoped>\n",
       "    .dataframe tbody tr th:only-of-type {\n",
       "        vertical-align: middle;\n",
       "    }\n",
       "\n",
       "    .dataframe tbody tr th {\n",
       "        vertical-align: top;\n",
       "    }\n",
       "\n",
       "    .dataframe thead th {\n",
       "        text-align: right;\n",
       "    }\n",
       "</style>\n",
       "<table border=\"1\" class=\"dataframe\">\n",
       "  <thead>\n",
       "    <tr style=\"text-align: right;\">\n",
       "      <th></th>\n",
       "      <th>type</th>\n",
       "      <th>classify</th>\n",
       "      <th>tendency</th>\n",
       "      <th>count</th>\n",
       "      <th>gather_type</th>\n",
       "      <th>publishtime</th>\n",
       "    </tr>\n",
       "  </thead>\n",
       "  <tbody>\n",
       "    <tr>\n",
       "      <th>0</th>\n",
       "      <td>3</td>\n",
       "      <td>6</td>\n",
       "      <td>-1</td>\n",
       "      <td>1</td>\n",
       "      <td>1</td>\n",
       "      <td>2018-11-17</td>\n",
       "    </tr>\n",
       "    <tr>\n",
       "      <th>1</th>\n",
       "      <td>4</td>\n",
       "      <td>5</td>\n",
       "      <td>0</td>\n",
       "      <td>3</td>\n",
       "      <td>1</td>\n",
       "      <td>2018-11-17</td>\n",
       "    </tr>\n",
       "    <tr>\n",
       "      <th>0</th>\n",
       "      <td>3</td>\n",
       "      <td>6</td>\n",
       "      <td>-1</td>\n",
       "      <td>2</td>\n",
       "      <td>1</td>\n",
       "      <td>2018-11-18</td>\n",
       "    </tr>\n",
       "    <tr>\n",
       "      <th>1</th>\n",
       "      <td>5</td>\n",
       "      <td>10</td>\n",
       "      <td>-1</td>\n",
       "      <td>1</td>\n",
       "      <td>1</td>\n",
       "      <td>2018-11-18</td>\n",
       "    </tr>\n",
       "    <tr>\n",
       "      <th>0</th>\n",
       "      <td>1</td>\n",
       "      <td>6</td>\n",
       "      <td>-1</td>\n",
       "      <td>1</td>\n",
       "      <td>1</td>\n",
       "      <td>2018-11-19</td>\n",
       "    </tr>\n",
       "  </tbody>\n",
       "</table>\n",
       "</div>"
      ],
      "text/plain": [
       "   type  classify  tendency  count  gather_type publishtime\n",
       "0     3         6        -1      1            1  2018-11-17\n",
       "1     4         5         0      3            1  2018-11-17\n",
       "0     3         6        -1      2            1  2018-11-18\n",
       "1     5        10        -1      1            1  2018-11-18\n",
       "0     1         6        -1      1            1  2018-11-19"
      ]
     },
     "execution_count": 16,
     "metadata": {},
     "output_type": "execute_result"
    }
   ],
   "source": [
    "print(cbirc_add_count_all.shape)\n",
    "cbirc_add_count_all.head()"
   ]
  },
  {
   "cell_type": "code",
   "execution_count": 18,
   "metadata": {
    "ExecuteTime": {
     "end_time": "2018-12-18T10:06:39.986610Z",
     "start_time": "2018-12-18T10:06:39.958609Z"
    }
   },
   "outputs": [
    {
     "data": {
      "text/html": [
       "<div>\n",
       "<style scoped>\n",
       "    .dataframe tbody tr th:only-of-type {\n",
       "        vertical-align: middle;\n",
       "    }\n",
       "\n",
       "    .dataframe tbody tr th {\n",
       "        vertical-align: top;\n",
       "    }\n",
       "\n",
       "    .dataframe thead th {\n",
       "        text-align: right;\n",
       "    }\n",
       "</style>\n",
       "<table border=\"1\" class=\"dataframe\">\n",
       "  <thead>\n",
       "    <tr style=\"text-align: right;\">\n",
       "      <th></th>\n",
       "      <th>publishtime</th>\n",
       "      <th>type</th>\n",
       "      <th>count</th>\n",
       "    </tr>\n",
       "  </thead>\n",
       "  <tbody>\n",
       "    <tr>\n",
       "      <th>0</th>\n",
       "      <td>2018-11-17</td>\n",
       "      <td>3</td>\n",
       "      <td>1</td>\n",
       "    </tr>\n",
       "    <tr>\n",
       "      <th>1</th>\n",
       "      <td>2018-11-17</td>\n",
       "      <td>4</td>\n",
       "      <td>3</td>\n",
       "    </tr>\n",
       "    <tr>\n",
       "      <th>2</th>\n",
       "      <td>2018-11-18</td>\n",
       "      <td>3</td>\n",
       "      <td>2</td>\n",
       "    </tr>\n",
       "    <tr>\n",
       "      <th>3</th>\n",
       "      <td>2018-11-18</td>\n",
       "      <td>5</td>\n",
       "      <td>1</td>\n",
       "    </tr>\n",
       "    <tr>\n",
       "      <th>4</th>\n",
       "      <td>2018-11-19</td>\n",
       "      <td>1</td>\n",
       "      <td>3</td>\n",
       "    </tr>\n",
       "  </tbody>\n",
       "</table>\n",
       "</div>"
      ],
      "text/plain": [
       "  publishtime  type  count\n",
       "0  2018-11-17     3      1\n",
       "1  2018-11-17     4      3\n",
       "2  2018-11-18     3      2\n",
       "3  2018-11-18     5      1\n",
       "4  2018-11-19     1      3"
      ]
     },
     "execution_count": 18,
     "metadata": {},
     "output_type": "execute_result"
    }
   ],
   "source": [
    "cbirc_add_count = cbirc_add_count_all.groupby(['publishtime', 'type'])['count'].sum()\n",
    "cbirc_add_count = cbirc_add_count.reset_index(['publishtime', 'type'])\n",
    "cbirc_add_count['type'] = cbirc_add_count['type'].apply(lambda x:proj_name_dict[int(x)])\n",
    "cbirc_add_count.head()"
   ]
  },
  {
   "cell_type": "code",
   "execution_count": 23,
   "metadata": {
    "ExecuteTime": {
     "end_time": "2018-12-18T10:10:49.901904Z",
     "start_time": "2018-12-18T10:10:49.840901Z"
    }
   },
   "outputs": [
    {
     "name": "stdout",
     "output_type": "stream",
     "text": [
      "432\n"
     ]
    },
    {
     "data": {
      "text/html": [
       "<div>\n",
       "<style scoped>\n",
       "    .dataframe tbody tr th:only-of-type {\n",
       "        vertical-align: middle;\n",
       "    }\n",
       "\n",
       "    .dataframe tbody tr th {\n",
       "        vertical-align: top;\n",
       "    }\n",
       "\n",
       "    .dataframe thead tr th {\n",
       "        text-align: left;\n",
       "    }\n",
       "\n",
       "    .dataframe thead tr:last-of-type th {\n",
       "        text-align: right;\n",
       "    }\n",
       "</style>\n",
       "<table border=\"1\" class=\"dataframe\">\n",
       "  <thead>\n",
       "    <tr>\n",
       "      <th></th>\n",
       "      <th colspan=\"5\" halign=\"left\">sum</th>\n",
       "    </tr>\n",
       "    <tr>\n",
       "      <th></th>\n",
       "      <th colspan=\"5\" halign=\"left\">count</th>\n",
       "    </tr>\n",
       "    <tr>\n",
       "      <th>type</th>\n",
       "      <th>中国人保</th>\n",
       "      <th>中国人寿</th>\n",
       "      <th>建行北分</th>\n",
       "      <th>银监会</th>\n",
       "      <th>All</th>\n",
       "    </tr>\n",
       "    <tr>\n",
       "      <th>publishtime</th>\n",
       "      <th></th>\n",
       "      <th></th>\n",
       "      <th></th>\n",
       "      <th></th>\n",
       "      <th></th>\n",
       "    </tr>\n",
       "  </thead>\n",
       "  <tbody>\n",
       "    <tr>\n",
       "      <th>2018-11-17</th>\n",
       "      <td>0</td>\n",
       "      <td>1</td>\n",
       "      <td>3</td>\n",
       "      <td>0</td>\n",
       "      <td>4</td>\n",
       "    </tr>\n",
       "    <tr>\n",
       "      <th>2018-11-18</th>\n",
       "      <td>1</td>\n",
       "      <td>2</td>\n",
       "      <td>0</td>\n",
       "      <td>0</td>\n",
       "      <td>3</td>\n",
       "    </tr>\n",
       "    <tr>\n",
       "      <th>2018-11-19</th>\n",
       "      <td>8</td>\n",
       "      <td>1</td>\n",
       "      <td>0</td>\n",
       "      <td>3</td>\n",
       "      <td>12</td>\n",
       "    </tr>\n",
       "    <tr>\n",
       "      <th>2018-11-20</th>\n",
       "      <td>6</td>\n",
       "      <td>0</td>\n",
       "      <td>1</td>\n",
       "      <td>1</td>\n",
       "      <td>8</td>\n",
       "    </tr>\n",
       "    <tr>\n",
       "      <th>2018-11-21</th>\n",
       "      <td>7</td>\n",
       "      <td>1</td>\n",
       "      <td>1</td>\n",
       "      <td>1</td>\n",
       "      <td>10</td>\n",
       "    </tr>\n",
       "    <tr>\n",
       "      <th>2018-11-22</th>\n",
       "      <td>11</td>\n",
       "      <td>2</td>\n",
       "      <td>0</td>\n",
       "      <td>0</td>\n",
       "      <td>13</td>\n",
       "    </tr>\n",
       "    <tr>\n",
       "      <th>2018-11-23</th>\n",
       "      <td>8</td>\n",
       "      <td>0</td>\n",
       "      <td>0</td>\n",
       "      <td>0</td>\n",
       "      <td>8</td>\n",
       "    </tr>\n",
       "    <tr>\n",
       "      <th>2018-11-24</th>\n",
       "      <td>0</td>\n",
       "      <td>0</td>\n",
       "      <td>1</td>\n",
       "      <td>0</td>\n",
       "      <td>1</td>\n",
       "    </tr>\n",
       "    <tr>\n",
       "      <th>2018-11-25</th>\n",
       "      <td>2</td>\n",
       "      <td>1</td>\n",
       "      <td>0</td>\n",
       "      <td>0</td>\n",
       "      <td>3</td>\n",
       "    </tr>\n",
       "    <tr>\n",
       "      <th>2018-11-26</th>\n",
       "      <td>2</td>\n",
       "      <td>3</td>\n",
       "      <td>24</td>\n",
       "      <td>0</td>\n",
       "      <td>29</td>\n",
       "    </tr>\n",
       "    <tr>\n",
       "      <th>2018-11-27</th>\n",
       "      <td>7</td>\n",
       "      <td>1</td>\n",
       "      <td>20</td>\n",
       "      <td>1</td>\n",
       "      <td>29</td>\n",
       "    </tr>\n",
       "    <tr>\n",
       "      <th>2018-11-28</th>\n",
       "      <td>6</td>\n",
       "      <td>0</td>\n",
       "      <td>12</td>\n",
       "      <td>0</td>\n",
       "      <td>18</td>\n",
       "    </tr>\n",
       "    <tr>\n",
       "      <th>2018-11-29</th>\n",
       "      <td>9</td>\n",
       "      <td>0</td>\n",
       "      <td>7</td>\n",
       "      <td>0</td>\n",
       "      <td>16</td>\n",
       "    </tr>\n",
       "    <tr>\n",
       "      <th>2018-11-30</th>\n",
       "      <td>13</td>\n",
       "      <td>1</td>\n",
       "      <td>44</td>\n",
       "      <td>0</td>\n",
       "      <td>58</td>\n",
       "    </tr>\n",
       "    <tr>\n",
       "      <th>2018-12-01</th>\n",
       "      <td>4</td>\n",
       "      <td>1</td>\n",
       "      <td>2</td>\n",
       "      <td>0</td>\n",
       "      <td>7</td>\n",
       "    </tr>\n",
       "    <tr>\n",
       "      <th>2018-12-02</th>\n",
       "      <td>3</td>\n",
       "      <td>2</td>\n",
       "      <td>0</td>\n",
       "      <td>0</td>\n",
       "      <td>5</td>\n",
       "    </tr>\n",
       "    <tr>\n",
       "      <th>2018-12-03</th>\n",
       "      <td>11</td>\n",
       "      <td>10</td>\n",
       "      <td>22</td>\n",
       "      <td>0</td>\n",
       "      <td>43</td>\n",
       "    </tr>\n",
       "    <tr>\n",
       "      <th>2018-12-04</th>\n",
       "      <td>4</td>\n",
       "      <td>13</td>\n",
       "      <td>7</td>\n",
       "      <td>0</td>\n",
       "      <td>24</td>\n",
       "    </tr>\n",
       "    <tr>\n",
       "      <th>2018-12-05</th>\n",
       "      <td>6</td>\n",
       "      <td>11</td>\n",
       "      <td>9</td>\n",
       "      <td>0</td>\n",
       "      <td>26</td>\n",
       "    </tr>\n",
       "    <tr>\n",
       "      <th>2018-12-06</th>\n",
       "      <td>1</td>\n",
       "      <td>4</td>\n",
       "      <td>8</td>\n",
       "      <td>0</td>\n",
       "      <td>13</td>\n",
       "    </tr>\n",
       "    <tr>\n",
       "      <th>2018-12-07</th>\n",
       "      <td>2</td>\n",
       "      <td>4</td>\n",
       "      <td>7</td>\n",
       "      <td>0</td>\n",
       "      <td>13</td>\n",
       "    </tr>\n",
       "    <tr>\n",
       "      <th>2018-12-08</th>\n",
       "      <td>0</td>\n",
       "      <td>0</td>\n",
       "      <td>2</td>\n",
       "      <td>0</td>\n",
       "      <td>2</td>\n",
       "    </tr>\n",
       "    <tr>\n",
       "      <th>2018-12-09</th>\n",
       "      <td>1</td>\n",
       "      <td>0</td>\n",
       "      <td>1</td>\n",
       "      <td>0</td>\n",
       "      <td>2</td>\n",
       "    </tr>\n",
       "    <tr>\n",
       "      <th>2018-12-10</th>\n",
       "      <td>6</td>\n",
       "      <td>3</td>\n",
       "      <td>3</td>\n",
       "      <td>0</td>\n",
       "      <td>12</td>\n",
       "    </tr>\n",
       "    <tr>\n",
       "      <th>2018-12-11</th>\n",
       "      <td>2</td>\n",
       "      <td>10</td>\n",
       "      <td>2</td>\n",
       "      <td>0</td>\n",
       "      <td>14</td>\n",
       "    </tr>\n",
       "    <tr>\n",
       "      <th>2018-12-12</th>\n",
       "      <td>6</td>\n",
       "      <td>8</td>\n",
       "      <td>4</td>\n",
       "      <td>0</td>\n",
       "      <td>18</td>\n",
       "    </tr>\n",
       "    <tr>\n",
       "      <th>2018-12-13</th>\n",
       "      <td>3</td>\n",
       "      <td>8</td>\n",
       "      <td>5</td>\n",
       "      <td>0</td>\n",
       "      <td>16</td>\n",
       "    </tr>\n",
       "    <tr>\n",
       "      <th>2018-12-14</th>\n",
       "      <td>1</td>\n",
       "      <td>8</td>\n",
       "      <td>7</td>\n",
       "      <td>0</td>\n",
       "      <td>16</td>\n",
       "    </tr>\n",
       "    <tr>\n",
       "      <th>2018-12-15</th>\n",
       "      <td>0</td>\n",
       "      <td>0</td>\n",
       "      <td>2</td>\n",
       "      <td>0</td>\n",
       "      <td>2</td>\n",
       "    </tr>\n",
       "    <tr>\n",
       "      <th>2018-12-16</th>\n",
       "      <td>1</td>\n",
       "      <td>0</td>\n",
       "      <td>1</td>\n",
       "      <td>0</td>\n",
       "      <td>2</td>\n",
       "    </tr>\n",
       "    <tr>\n",
       "      <th>2018-12-17</th>\n",
       "      <td>4</td>\n",
       "      <td>0</td>\n",
       "      <td>1</td>\n",
       "      <td>0</td>\n",
       "      <td>5</td>\n",
       "    </tr>\n",
       "    <tr>\n",
       "      <th>All</th>\n",
       "      <td>135</td>\n",
       "      <td>95</td>\n",
       "      <td>196</td>\n",
       "      <td>6</td>\n",
       "      <td>432</td>\n",
       "    </tr>\n",
       "  </tbody>\n",
       "</table>\n",
       "</div>"
      ],
      "text/plain": [
       "              sum                   \n",
       "            count                   \n",
       "type         中国人保 中国人寿 建行北分 银监会  All\n",
       "publishtime                         \n",
       "2018-11-17      0    1    3   0    4\n",
       "2018-11-18      1    2    0   0    3\n",
       "2018-11-19      8    1    0   3   12\n",
       "2018-11-20      6    0    1   1    8\n",
       "2018-11-21      7    1    1   1   10\n",
       "2018-11-22     11    2    0   0   13\n",
       "2018-11-23      8    0    0   0    8\n",
       "2018-11-24      0    0    1   0    1\n",
       "2018-11-25      2    1    0   0    3\n",
       "2018-11-26      2    3   24   0   29\n",
       "2018-11-27      7    1   20   1   29\n",
       "2018-11-28      6    0   12   0   18\n",
       "2018-11-29      9    0    7   0   16\n",
       "2018-11-30     13    1   44   0   58\n",
       "2018-12-01      4    1    2   0    7\n",
       "2018-12-02      3    2    0   0    5\n",
       "2018-12-03     11   10   22   0   43\n",
       "2018-12-04      4   13    7   0   24\n",
       "2018-12-05      6   11    9   0   26\n",
       "2018-12-06      1    4    8   0   13\n",
       "2018-12-07      2    4    7   0   13\n",
       "2018-12-08      0    0    2   0    2\n",
       "2018-12-09      1    0    1   0    2\n",
       "2018-12-10      6    3    3   0   12\n",
       "2018-12-11      2   10    2   0   14\n",
       "2018-12-12      6    8    4   0   18\n",
       "2018-12-13      3    8    5   0   16\n",
       "2018-12-14      1    8    7   0   16\n",
       "2018-12-15      0    0    2   0    2\n",
       "2018-12-16      1    0    1   0    2\n",
       "2018-12-17      4    0    1   0    5\n",
       "All           135   95  196   6  432"
      ]
     },
     "execution_count": 23,
     "metadata": {},
     "output_type": "execute_result"
    }
   ],
   "source": [
    "print(cbirc_add_count['count'].sum())\n",
    "cbirc_add_count_table = cbirc_add_count.pivot_table(index = ['publishtime'], columns = ['type'], \n",
    "                        aggfunc = [np.sum], values = ['count'], \n",
    "                        fill_value = 0, margins = True)\n",
    "cbirc_add_count_table"
   ]
  },
  {
   "cell_type": "code",
   "execution_count": 33,
   "metadata": {
    "ExecuteTime": {
     "end_time": "2018-12-18T10:14:19.531895Z",
     "start_time": "2018-12-18T10:14:19.518894Z"
    }
   },
   "outputs": [
    {
     "data": {
      "text/plain": [
       "MultiIndex(levels=[['sum'], ['count'], ['All', '中国人保', '中国人寿', '建行北分', '银监会']],\n",
       "           labels=[[0, 0, 0, 0, 0], [0, 0, 0, 0, 0], [1, 2, 3, 4, 0]],\n",
       "           names=[None, None, 'type'])"
      ]
     },
     "execution_count": 33,
     "metadata": {},
     "output_type": "execute_result"
    }
   ],
   "source": [
    "idx = pd.IndexSlice\n",
    "cbirc_add_count_table_sel = cbirc_add_count_table[cbirc_add_count_table['All']]\n",
    "\n",
    "cbirc_add_count_table.columns"
   ]
  },
  {
   "cell_type": "code",
   "execution_count": 45,
   "metadata": {
    "ExecuteTime": {
     "end_time": "2018-12-19T02:10:31.026356Z",
     "start_time": "2018-12-19T02:10:31.015356Z"
    }
   },
   "outputs": [
    {
     "data": {
      "text/plain": [
       "publishtime\n",
       "2018-11-17      4\n",
       "2018-11-18      3\n",
       "2018-11-19     12\n",
       "2018-11-20      8\n",
       "2018-11-21     10\n",
       "2018-11-22     13\n",
       "2018-11-23      8\n",
       "2018-11-24      1\n",
       "2018-11-25      3\n",
       "2018-11-26     29\n",
       "2018-11-27     29\n",
       "2018-11-28     18\n",
       "2018-11-29     16\n",
       "2018-11-30     58\n",
       "2018-12-01      7\n",
       "2018-12-02      5\n",
       "2018-12-03     43\n",
       "2018-12-04     24\n",
       "2018-12-05     26\n",
       "2018-12-06     13\n",
       "2018-12-07     13\n",
       "2018-12-08      2\n",
       "2018-12-09      2\n",
       "2018-12-10     12\n",
       "2018-12-11     14\n",
       "2018-12-12     18\n",
       "2018-12-13     16\n",
       "2018-12-14     16\n",
       "2018-12-15      2\n",
       "2018-12-16      2\n",
       "2018-12-17      5\n",
       "All           432\n",
       "Name: All, dtype: int64"
      ]
     },
     "execution_count": 45,
     "metadata": {},
     "output_type": "execute_result"
    }
   ],
   "source": [
    "cbirc_add_count_table['sum']['count']['All']"
   ]
  },
  {
   "cell_type": "code",
   "execution_count": 50,
   "metadata": {
    "ExecuteTime": {
     "end_time": "2018-12-19T02:22:37.238893Z",
     "start_time": "2018-12-19T02:22:36.657860Z"
    }
   },
   "outputs": [
    {
     "data": {
      "text/plain": [
       "<matplotlib.axes._subplots.AxesSubplot at 0xbcad0b8>"
      ]
     },
     "execution_count": 50,
     "metadata": {},
     "output_type": "execute_result"
    },
    {
     "data": {
      "image/png": "[encoded data removed]",
      "text/plain": [
       "<matplotlib.figure.Figure at 0xbd74be0>"
      ]
     },
     "metadata": {},
     "output_type": "display_data"
    }
   ],
   "source": [
    "import matplotlib as mpl\n",
    "import matplotlib.pyplot as plt\n",
    "%matplotlib inline\n",
    "\n",
    "cbirc_add_count_table[:-1]['sum']['count'][['中国人保', '中国人寿', '建行北分', '银监会']].plot.bar(figsize = (15,6))"
   ]
  },
  {
   "cell_type": "code",
   "execution_count": null,
   "metadata": {
    "collapsed": true
   },
   "outputs": [],
   "source": []
  },
  {
   "cell_type": "code",
   "execution_count": 37,
   "metadata": {
    "ExecuteTime": {
     "end_time": "2018-12-19T02:01:54.513814Z",
     "start_time": "2018-12-19T02:01:54.489812Z"
    }
   },
   "outputs": [
    {
     "data": {
      "text/html": [
       "<div>\n",
       "<style scoped>\n",
       "    .dataframe tbody tr th:only-of-type {\n",
       "        vertical-align: middle;\n",
       "    }\n",
       "\n",
       "    .dataframe tbody tr th {\n",
       "        vertical-align: top;\n",
       "    }\n",
       "\n",
       "    .dataframe thead th {\n",
       "        text-align: right;\n",
       "    }\n",
       "</style>\n",
       "<table border=\"1\" class=\"dataframe\">\n",
       "  <thead>\n",
       "    <tr style=\"text-align: right;\">\n",
       "      <th></th>\n",
       "      <th>class</th>\n",
       "      <th>id</th>\n",
       "      <th>value</th>\n",
       "    </tr>\n",
       "  </thead>\n",
       "  <tbody>\n",
       "    <tr>\n",
       "      <th>0</th>\n",
       "      <td>A</td>\n",
       "      <td>a</td>\n",
       "      <td>1</td>\n",
       "    </tr>\n",
       "    <tr>\n",
       "      <th>1</th>\n",
       "      <td>A</td>\n",
       "      <td>b</td>\n",
       "      <td>2</td>\n",
       "    </tr>\n",
       "    <tr>\n",
       "      <th>2</th>\n",
       "      <td>A</td>\n",
       "      <td>c</td>\n",
       "      <td>3</td>\n",
       "    </tr>\n",
       "    <tr>\n",
       "      <th>3</th>\n",
       "      <td>B</td>\n",
       "      <td>a</td>\n",
       "      <td>4</td>\n",
       "    </tr>\n",
       "    <tr>\n",
       "      <th>4</th>\n",
       "      <td>B</td>\n",
       "      <td>b</td>\n",
       "      <td>5</td>\n",
       "    </tr>\n",
       "    <tr>\n",
       "      <th>5</th>\n",
       "      <td>B</td>\n",
       "      <td>c</td>\n",
       "      <td>6</td>\n",
       "    </tr>\n",
       "    <tr>\n",
       "      <th>6</th>\n",
       "      <td>C</td>\n",
       "      <td>a</td>\n",
       "      <td>7</td>\n",
       "    </tr>\n",
       "    <tr>\n",
       "      <th>7</th>\n",
       "      <td>C</td>\n",
       "      <td>b</td>\n",
       "      <td>8</td>\n",
       "    </tr>\n",
       "  </tbody>\n",
       "</table>\n",
       "</div>"
      ],
      "text/plain": [
       "  class id  value\n",
       "0     A  a      1\n",
       "1     A  b      2\n",
       "2     A  c      3\n",
       "3     B  a      4\n",
       "4     B  b      5\n",
       "5     B  c      6\n",
       "6     C  a      7\n",
       "7     C  b      8"
      ]
     },
     "execution_count": 37,
     "metadata": {},
     "output_type": "execute_result"
    }
   ],
   "source": [
    "df = pd.DataFrame({'class':['A','A','A','B','B','B','C','C'],\n",
    "                   'id':['a','b','c','a','b','c','a','b'],\n",
    "                   'value':[1,2,3,4,5,6,7,8]})\n",
    "df"
   ]
  },
  {
   "cell_type": "code",
   "execution_count": 38,
   "metadata": {
    "ExecuteTime": {
     "end_time": "2018-12-19T02:02:06.442496Z",
     "start_time": "2018-12-19T02:02:06.432495Z"
    },
    "collapsed": true
   },
   "outputs": [],
   "source": [
    "df = df.set_index(['class','id'])"
   ]
  },
  {
   "cell_type": "code",
   "execution_count": 39,
   "metadata": {
    "ExecuteTime": {
     "end_time": "2018-12-19T02:02:10.634736Z",
     "start_time": "2018-12-19T02:02:10.613734Z"
    }
   },
   "outputs": [
    {
     "data": {
      "text/html": [
       "<div>\n",
       "<style scoped>\n",
       "    .dataframe tbody tr th:only-of-type {\n",
       "        vertical-align: middle;\n",
       "    }\n",
       "\n",
       "    .dataframe tbody tr th {\n",
       "        vertical-align: top;\n",
       "    }\n",
       "\n",
       "    .dataframe thead th {\n",
       "        text-align: right;\n",
       "    }\n",
       "</style>\n",
       "<table border=\"1\" class=\"dataframe\">\n",
       "  <thead>\n",
       "    <tr style=\"text-align: right;\">\n",
       "      <th></th>\n",
       "      <th></th>\n",
       "      <th>value</th>\n",
       "    </tr>\n",
       "    <tr>\n",
       "      <th>class</th>\n",
       "      <th>id</th>\n",
       "      <th></th>\n",
       "    </tr>\n",
       "  </thead>\n",
       "  <tbody>\n",
       "    <tr>\n",
       "      <th rowspan=\"3\" valign=\"top\">A</th>\n",
       "      <th>a</th>\n",
       "      <td>1</td>\n",
       "    </tr>\n",
       "    <tr>\n",
       "      <th>b</th>\n",
       "      <td>2</td>\n",
       "    </tr>\n",
       "    <tr>\n",
       "      <th>c</th>\n",
       "      <td>3</td>\n",
       "    </tr>\n",
       "    <tr>\n",
       "      <th rowspan=\"3\" valign=\"top\">B</th>\n",
       "      <th>a</th>\n",
       "      <td>4</td>\n",
       "    </tr>\n",
       "    <tr>\n",
       "      <th>b</th>\n",
       "      <td>5</td>\n",
       "    </tr>\n",
       "    <tr>\n",
       "      <th>c</th>\n",
       "      <td>6</td>\n",
       "    </tr>\n",
       "    <tr>\n",
       "      <th rowspan=\"2\" valign=\"top\">C</th>\n",
       "      <th>a</th>\n",
       "      <td>7</td>\n",
       "    </tr>\n",
       "    <tr>\n",
       "      <th>b</th>\n",
       "      <td>8</td>\n",
       "    </tr>\n",
       "  </tbody>\n",
       "</table>\n",
       "</div>"
      ],
      "text/plain": [
       "          value\n",
       "class id       \n",
       "A     a       1\n",
       "      b       2\n",
       "      c       3\n",
       "B     a       4\n",
       "      b       5\n",
       "      c       6\n",
       "C     a       7\n",
       "      b       8"
      ]
     },
     "execution_count": 39,
     "metadata": {},
     "output_type": "execute_result"
    }
   ],
   "source": [
    "df"
   ]
  }
 ],
 "metadata": {
  "celltoolbar": "Slideshow",
  "kernelspec": {
   "display_name": "Python 3",
   "language": "python",
   "name": "python3"
  },
  "language_info": {
   "codemirror_mode": {
    "name": "ipython",
    "version": 3
   },
   "file_extension": ".py",
   "mimetype": "text/x-python",
   "name": "python",
   "nbconvert_exporter": "python",
   "pygments_lexer": "ipython3",
   "version": "3.6.3"
  },
  "toc": {
   "nav_menu": {},
   "number_sections": true,
   "sideBar": true,
   "skip_h1_title": false,
   "title_cell": "Table of Contents",
   "title_sidebar": "Contents",
   "toc_cell": false,
   "toc_position": {},
   "toc_section_display": true,
   "toc_window_display": false
  },
  "varInspector": {
   "cols": {
    "lenName": 16,
    "lenType": 16,
    "lenVar": 40
   },
   "kernels_config": {
    "python": {
     "delete_cmd_postfix": "",
     "delete_cmd_prefix": "del ",
     "library": "var_list.py",
     "varRefreshCmd": "print(var_dic_list())"
    },
    "r": {
     "delete_cmd_postfix": ") ",
     "delete_cmd_prefix": "rm(",
     "library": "var_list.r",
     "varRefreshCmd": "cat(var_dic_list()) "
    }
   },
   "types_to_exclude": [
    "module",
    "function",
    "builtin_function_or_method",
    "instance",
    "_Feature"
   ],
   "window_display": false
  }
 },
 "nbformat": 4,
 "nbformat_minor": 2
}
