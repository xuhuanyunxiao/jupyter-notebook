{
 "cells": [
  {
   "cell_type": "markdown",
   "metadata": {},
   "source": [
    "# 本文件说明\n",
    "- 主题概率模型"
   ]
  },
  {
   "cell_type": "markdown",
   "metadata": {},
   "source": [
    "# 基本设置"
   ]
  },
  {
   "cell_type": "code",
   "execution_count": 1,
   "metadata": {
    "ExecuteTime": {
     "end_time": "2018-11-10T01:52:57.402821Z",
     "start_time": "2018-11-10T01:52:54.831079Z"
    },
    "collapsed": true
   },
   "outputs": [],
   "source": [
    "import jieba\n",
    "from jieba import analyse\n",
    "import sys\n",
    "import re\n",
    "import time\n",
    "import string\n",
    "from sklearn import feature_extraction\n",
    "from sklearn.pipeline import Pipeline,FeatureUnion\n",
    "from sklearn.model_selection import GridSearchCV\n",
    "from sklearn.feature_extraction.text import TfidfTransformer\n",
    "from sklearn.feature_extraction.text import CountVectorizer\n",
    "\n",
    "from sklearn.feature_extraction.text import TfidfVectorizer\n",
    "from sklearn.feature_selection import SelectKBest, chi2,mutual_info_classif,f_classif \n",
    "from sklearn.preprocessing import StandardScaler\n",
    "\n",
    "import xgboost as xgb\n",
    "from xgboost import XGBClassifier\n",
    "from sklearn import metrics\n",
    "\n",
    "from sklearn.base import BaseEstimator, TransformerMixin\n",
    "\n",
    "%matplotlib inline\n",
    "import numpy as np\n",
    "import pandas as pd\n",
    "import os\n",
    "from sklearn.model_selection import train_test_split\n",
    "from collections import Counter\n",
    "\n",
    "from mpl_toolkits.mplot3d import Axes3D\n",
    "import matplotlib.pyplot as plt\n",
    "import seaborn as sns\n",
    "\n",
    "colors = sns.color_palette(\"Set2\", 8)\n",
    "\n",
    "import warnings\n",
    "warnings.filterwarnings('ignore')"
   ]
  },
  {
   "cell_type": "code",
   "execution_count": 7,
   "metadata": {
    "ExecuteTime": {
     "end_time": "2018-11-10T01:55:19.518951Z",
     "start_time": "2018-11-10T01:55:19.495950Z"
    },
    "collapsed": true
   },
   "outputs": [],
   "source": [
    "from toolkits.nlp.generate_keywords import generate_keywords\n",
    "from toolkits.nlp import myclass_circ\n",
    "from toolkits.nlp import myclass_cbrc\n",
    "from toolkits.nlp import preprocess\n",
    "from toolkits.setup.specific_func import set_ch_pd\n",
    "set_ch_pd()"
   ]
  },
  {
   "cell_type": "markdown",
   "metadata": {},
   "source": [
    "## 一些函数"
   ]
  },
  {
   "cell_type": "code",
   "execution_count": 42,
   "metadata": {
    "ExecuteTime": {
     "end_time": "2018-11-10T03:38:25.723945Z",
     "start_time": "2018-11-10T03:38:25.705944Z"
    },
    "collapsed": true
   },
   "outputs": [],
   "source": [
    "def print_topic(topic_term, topic_id, feature_names, n_top_words):\n",
    "    print(\"Topic # {:2d} \".format(topic_id))\n",
    "    print(\" \".join(vocabulary[i] for i in topic_term[topic_id].argsort()[:-n_top_words:-1]))"
   ]
  },
  {
   "cell_type": "markdown",
   "metadata": {},
   "source": [
    "# 导入数据"
   ]
  },
  {
   "cell_type": "code",
   "execution_count": 5,
   "metadata": {
    "ExecuteTime": {
     "end_time": "2018-11-10T01:52:57.665836Z",
     "start_time": "2018-11-10T01:52:57.557830Z"
    },
    "collapsed": true
   },
   "outputs": [],
   "source": [
    "label_dic={'监管':1,'行业':2,'产品销售':3,'资本市场':4,'公司内部管理':5,'消费服务':6,'其他相关报道':7,'噪音':8}\n",
    "class_name_dict = {v: k for k, v in label_dic.items()}"
   ]
  },
  {
   "cell_type": "code",
   "execution_count": 8,
   "metadata": {
    "ExecuteTime": {
     "end_time": "2018-11-10T01:55:30.350721Z",
     "start_time": "2018-11-10T01:55:29.658889Z"
    }
   },
   "outputs": [
    {
     "name": "stdout",
     "output_type": "stream",
     "text": [
      "title num:  14192\n",
      "['月线 反转 阴包 阳 原油 高 先空 股友 zevS 东方 财富网 博客', '汇乔 金色 名 售 价格 元 平方米']\n",
      "content num:  14192\n",
      "title_content num:  14192\n",
      "label num:  14192\n",
      "['噪音', '噪音', '噪音', '噪音', '噪音']\n"
     ]
    }
   ],
   "source": [
    "# file_path = 'circ_result_class/corpus/'\n",
    "file_path = 'cbrc_result_class/corpus/'\n",
    "\n",
    "title_content, label = preprocess.title_content_label(file_path)"
   ]
  },
  {
   "cell_type": "code",
   "execution_count": 9,
   "metadata": {
    "ExecuteTime": {
     "end_time": "2018-11-10T01:55:32.689027Z",
     "start_time": "2018-11-10T01:55:32.655025Z"
    }
   },
   "outputs": [
    {
     "name": "stdout",
     "output_type": "stream",
     "text": [
      "训练集： 9934\n",
      "训练集-各类数量： Counter({'噪音': 1924, '其他相关报道': 1430, '行业': 1252, '消费服务': 1183, '监管': 1133, '资本市场': 1123, '公司内部管理': 973, '产品销售': 916})\n",
      "测试集： 4258\n",
      "测试集-各类数量： Counter({'噪音': 797, '其他相关报道': 600, '行业': 534, '消费服务': 527, '监管': 507, '资本市场': 456, '公司内部管理': 442, '产品销售': 395})\n"
     ]
    }
   ],
   "source": [
    "X_train, X_test, y_train, y_test = train_test_split(title_content, label, test_size=0.3, random_state=42)\n",
    "print('训练集：',len(y_train))\n",
    "print('训练集-各类数量：',Counter(y_train))\n",
    "print('测试集：',len(y_test))\n",
    "print('测试集-各类数量：',Counter(y_test))"
   ]
  },
  {
   "cell_type": "markdown",
   "metadata": {},
   "source": [
    "## sklearn"
   ]
  },
  {
   "cell_type": "code",
   "execution_count": 17,
   "metadata": {
    "ExecuteTime": {
     "end_time": "2018-11-10T02:19:00.370293Z",
     "start_time": "2018-11-10T02:18:52.335277Z"
    }
   },
   "outputs": [
    {
     "name": "stdout",
     "output_type": "stream",
     "text": [
      "(9934, 71365)\n",
      "(4258, 71365)\n"
     ]
    }
   ],
   "source": [
    "from sklearn.feature_extraction.text import CountVectorizer\n",
    "\n",
    "tf_vectorizer  = CountVectorizer(max_df=0.95, min_df=2)\n",
    "tf_vectorizer.fit(X_train)\n",
    "\n",
    "tf_train = tf_vectorizer.transform(X_train)\n",
    "tf_test = tf_vectorizer.transform(X_test)\n",
    "\n",
    "print(tf_train.shape)\n",
    "print(tf_test.shape)"
   ]
  },
  {
   "cell_type": "markdown",
   "metadata": {},
   "source": [
    "## gensim"
   ]
  },
  {
   "cell_type": "code",
   "execution_count": 13,
   "metadata": {
    "ExecuteTime": {
     "end_time": "2018-11-10T02:06:22.139078Z",
     "start_time": "2018-11-10T02:06:09.542591Z"
    }
   },
   "outputs": [],
   "source": [
    "from gensim import corpora, models\n",
    "\n",
    "tokens = [t.split() for t in title_content]\n",
    "# 得到单词的ID,统计单词出现的次数以及统计信息\n",
    "\n",
    "dictionary = corpora.Dictionary(tokens)   \n",
    "# dictionary.token2id         # 可以得到单词的id信息  <dict>\n",
    "\n",
    "# 将dictionary转化为一个词袋，得到文档-单词矩阵\n",
    "# 预处理完的分词结果\n",
    "texts = [dictionary.doc2bow(text) for text in tokens]\n",
    "\n",
    "# 文档的tf-idf形式(训练加转换的模式)\n",
    "texts_tf_idf = models.TfidfModel(texts)[texts]   \n",
    "# 逐行打印得到每篇文档的每个单词的TD-IDF的特征值\n",
    "# for text in texts_tf_idf:  print text          "
   ]
  },
  {
   "cell_type": "markdown",
   "metadata": {},
   "source": [
    "# LDA"
   ]
  },
  {
   "cell_type": "markdown",
   "metadata": {},
   "source": [
    "## sklearn"
   ]
  },
  {
   "cell_type": "code",
   "execution_count": 18,
   "metadata": {
    "ExecuteTime": {
     "end_time": "2018-11-10T02:27:06.587545Z",
     "start_time": "2018-11-10T02:20:33.632586Z"
    }
   },
   "outputs": [
    {
     "data": {
      "text/plain": [
       "3800.505173946505"
      ]
     },
     "execution_count": 18,
     "metadata": {},
     "output_type": "execute_result"
    }
   ],
   "source": [
    "from sklearn.decomposition import LatentDirichletAllocation\n",
    "\n",
    "lda = LatentDirichletAllocation(n_topics=100, learning_method='batch', random_state=0)\n",
    "lda.fit(tf_train)"
   ]
  },
  {
   "cell_type": "markdown",
   "metadata": {},
   "source": [
    "### Inspect topics"
   ]
  },
  {
   "cell_type": "code",
   "execution_count": 34,
   "metadata": {
    "ExecuteTime": {
     "end_time": "2018-11-10T03:28:02.392536Z",
     "start_time": "2018-11-10T03:28:02.354336Z"
    }
   },
   "outputs": [
    {
     "name": "stdout",
     "output_type": "stream",
     "text": [
      "10\n",
      "(100, 71365)\n",
      "[[0.01       0.01       0.01       ... 0.01       0.01       0.01      ]\n",
      " [0.01       0.01       0.01       ... 0.01       0.01       0.01      ]\n",
      " [0.01       0.01       0.01       ... 0.01       0.01       0.01      ]\n",
      " ...\n",
      " [7.20965303 0.01       0.01       ... 0.01       0.01       0.01      ]\n",
      " [0.01       0.01       0.01       ... 0.01       0.01       0.01      ]\n",
      " [2.66775795 0.01       0.01       ... 0.01       0.01       0.01      ]]\n"
     ]
    }
   ],
   "source": [
    "print(lda.n_iter_)\n",
    "print(lda.components_.shape)\n",
    "print(lda.components_)\n",
    "# print(lda.components_.sum(axis=1))"
   ]
  },
  {
   "cell_type": "code",
   "execution_count": 43,
   "metadata": {
    "ExecuteTime": {
     "end_time": "2018-11-10T03:38:32.485905Z",
     "start_time": "2018-11-10T03:38:31.938878Z"
    }
   },
   "outputs": [
    {
     "name": "stdout",
     "output_type": "stream",
     "text": [
      "['aa', 'abcd', 'acc', 'act', 'adam', 'adobe', 'advisers', 'after', 'ago', 'aig']\n",
      "Topic #  0 \n",
      "the 诈骗 to of in and 骗子 is that 信息 it 电信 you for 电话 短信 on 被骗 密码\n",
      "Topic #  1 \n",
      "住房 房价 房地产 城市 市场 楼市 租赁 公积金 购房 政策 买房 调控 贷款 房子 上涨 深圳 房贷 银行 购房者\n",
      "Topic #  2 \n",
      "活动 金融 宣传 知识 支行 普及 现场 防范 消费者 客户 分行 服务 社区 意识 支付 提升 主题 社会 工作人员\n",
      "Topic #  3 \n",
      "产品 投资 资金 项目 收益 专项 资产 保险资金 市场 风险 万亿元 长期 险资 报告 养老 发行 国有资产 情况 国务院\n",
      "Topic #  4 \n",
      "杠杆 中国 风险 市场 政府 金融机构 资产 发生 导致 去杠杆 美团 持续 选择 经济 未来 银行 兜底 违约 债务\n",
      "Topic #  5 \n",
      "评级 农商行 九江银行 前海人寿 大额存单 银行 该行 资产 风险 报告 穆迪 质量 不良贷款 投资 城商行 发行 汽车 主体 监管\n",
      "Topic #  6 \n",
      "投资 资产管理 计划 投资者 机构 经营 证券期货 管理 资产 资管 业务 风险 产品 证券 私募 兑付 资金 中国证监会 合同\n",
      "Topic #  7 \n",
      "停电 活动 线路 时间 报名 户外 公变 kv 费用 出发 退出 名称 计划 影响 电话 领队 微信 小区 地点\n",
      "Topic #  8 \n",
      "合作 协议 战略 发展 签署 中国 the 集团 项目 of 签约 仪式 一带 一路 国家 经济 支持 and 银行\n",
      "Topic #  9 \n",
      "图片 服务 志愿 滴滴 社会 组织 答案 单项 选择题 志愿者 解析 选择 沈阳 慈善 信息 公司 以太 录音 时间\n",
      "Topic # 10 \n",
      "农村 农业 支付 乡村 农民 服务 振兴 万元 建设 支持 创业 农户 村民 三农 项目 资金 提供 土地 农行\n",
      "Topic # 11 \n",
      "支行 员工 分行 客户 工作 业务 该行 网点 服务 行长 营销 管理 活动 数据 全行 邮储银行 提升 慰问 工行\n",
      "Topic # 12 \n",
      "预售 商品房 公司 市场 房地产 资金 发展 北上 机构 房屋 合同 行业 西藏 开发商 取消 个股 中国 开发 看好\n",
      "Topic # 13 \n",
      "柳擎宇 sh 景区 兼职 交通 文化 赚钱 门票 说道 关山 前往 sb 小时 镇长 行程 古城 大理 费用 大坝\n",
      "Topic # 14 \n",
      "金融 工作 一带 一路 经济 人民银行 会议 金融风险 推进 痛点 开放 建设 党中央 政治 服务 习近平 保险业 支持 防范\n",
      "Topic # 15 \n",
      "犯罪 扫黑 除恶 农药 案件 非法 黑恶势力 组织 专项斗争 法律 行政 违法 嫌疑人 国家 违法犯罪 非法经营 打击 公安机关 合同\n",
      "Topic # 16 \n",
      "医疗 补贴 医院 工作 人才 健康 技术 医生 患者 治疗 广州 相关 手术 建设 能力 质量 提升 疾病 本月\n",
      "Topic # 17 \n",
      "中国 美国 经济 国家 全球 日本 世界 亿美元 贸易 特朗普 国际 政府 投资 英国 国内 出口 社会 欧洲 金融危机\n",
      "Topic # 18 \n",
      "办理 登记 证明 申请 信用 身份证 不动产 材料 信息 注销 抵押 失信 提供 单位 复印件 资料 合同 手续 生产\n",
      "Topic # 19 \n",
      "建行 工作 香港 建设银行 负责 经验 优先 能力 服务 销售 奔驰 微信 百度 经理 维修 相关 提供 内地 支付\n",
      "Topic # 20 \n",
      "孩子 学生 教育 学习 老师 学校 家长 大学 家庭 课程 教师 分享 社会 生活 同学 父母 儿童 英语 留学\n",
      "Topic # 21 \n",
      "合规 融资担保 公司 风险 管理 经营 反弹 预告 中国 业绩 时间 办法 业务 修正 市场 建议 合作 图片 制度\n",
      "Topic # 22 \n",
      "证券 券商 证券公司 四川 董事长 行长 方正 服务 香港 华泰 太平洋 bb 金顶 业务 投行 token 微粒 列车 国信\n",
      "Topic # 23 \n",
      "支付宝 支付 银行 余额宝 企业 资金 孩子 规则 汇丰 微信 用户 过桥 风险 短期贷款 手机 图片 利息 续贷 转移\n",
      "Topic # 24 \n",
      "万元 罚款 行政处罚 处罚 违规 分行 中国 有限公司 银行业 被罚 违反 罚单 支行 股份 银监 业务 信息 贷款 显示\n",
      "Topic # 25 \n",
      "保单 贴现 爱心 美的 小天鹅 公益 万元 学校 社会 国际 贴现业务 投资人 研究 机构 国家 新生 关系 公司 相关\n",
      "Topic # 26 \n",
      "公寓 提前 租金 长租 违约金 还款 租客 公司 还贷 房租 房东 业务 收取 合同 贷款 平安银行 租赁 记者 产品\n",
      "Topic # 27 \n",
      "投资 草根 保险公司 关联交易 关联方 管理 公司 关系 投资人 融资 有限公司 阜兴系 图片 阜兴 基金 金忠 股东 控制 华闻\n",
      "Topic # 28 \n",
      "民间借贷 通知 非法 活动 金融机构 非法集资 催收 规范 银行业 发放贷款 经济 资金 贷款 金融 依法 部门 民间 吸收 金融秩序\n",
      "Topic # 29 \n",
      "消费者 产品 销售 开门红 保险公司 投资 购买 保障 风险 分红 保险产品 保监会 消费 谨防 保证 连结 提示 活动 利用\n",
      "Topic # 30 \n",
      "兴业银行 阿里巴巴 马云 阿里 应急 演练 图片 hk 宣昌能 掌柜 投资 退休 比率 管理 钱大 盐城 公司 朱鹤新 沽空\n",
      "Topic # 31 \n",
      "亿元 增长 银行 同比 净利润 收入 上半年 资产 下降 增速 规模 上市 业绩 显示 业务 年末 资本 营业 百分点\n",
      "Topic # 32 \n",
      "中国 品牌 农信社 图片 香港 财富 特斯拉 李嘉诚 false 口令 佤族 女性 借条 十年 投资 人物 首富 贵金属 创业\n",
      "Topic # 33 \n",
      "郭树清 银监会 监管 中国 主席 银行业 银保监会 保监会 金融 机构 改革 工作 保险业 担任 出任 证监会 经济 成立 风险\n",
      "Topic # 34 \n",
      "金融 中国 金融科技 发展 科技 论坛 创新 研究 行业 主题 时代 国际 经济 演讲 未来 研究院 世界 财富 全球\n",
      "Topic # 35 \n",
      "发行 南京银行 该行 上市 资本充足率 资本 ipo a股 补充 一级 银行 亿元 公开 证监会 定增 核心 审核 申请 记者\n",
      "Topic # 36 \n",
      "发展 服务 企业 金融 创新 客户 业务 产品 提供 数据 模式 金融服务 经济 行业 平台 需求 转型 提升 银行\n",
      "Topic # 37 \n",
      "企业 银行 服务 业务 办理 开户 小微 续贷 客户 村镇银行 窗口 记者 时间 自助 优化 网点 政策 资金 结算\n",
      "Topic # 38 \n",
      "债务 在线 单车 政府 押金 地方 ofo 公众 共享 联系电话 珠海 转载 社区支行 小区 户型 隐性 微信 重阳 作品\n",
      "Topic # 39 \n",
      "公司 股价 信息 媒体 no 账户 营销 破净 披露 周伟 杭州银行 增持 从业人员 稳定 成都 a股 股票 每股 发布\n",
      "Topic # 40 \n",
      "民营银行 董事 独立 保险机构 银行 微众银行 股东 互联网银行 企业 发展 董事会 网商银行 试点 商会 牌照 监管 市场 提名 业务\n",
      "Topic # 41 \n",
      "指数 泰国 收报 白条 套现 德意志银行 京东 大连 硬币 资产 亿美元 商家 港元 环球 王室 公式 财富 欧元 神奇\n",
      "Topic # 42 \n",
      "银行 利率 存款 记者 贷款 上浮 规模 下降 资金 月份 信贷 融资 发行 压力 市场 央行 收益率 流动性 平均\n",
      "Topic # 43 \n",
      "任职 资格 批复 中国 核准 有限公司 分局 股份 银监会 支行 分行 行政许可 到任 监管 请示 银监 收悉 审核 行长\n",
      "Topic # 44 \n",
      "北京 中心 城市 图片 万科 交易 计划 存量 资产 城市更新 改造 更新 汇源 中信银行 服务 生活 战略 出国 爆炸\n",
      "Topic # 45 \n",
      "信托 信托公司 财产 受托人 业务 委托人 计划 信托业 资金 管理 公司 金融 数据 中国 集合 成立 基金 证券 受益人\n",
      "Topic # 46 \n",
      "比赛 大赛 广场 选手 城市 人口 参赛 体育 丰收 赛事 竞赛 音乐 公里 观众 文化 大道 健康 决赛 联赛\n",
      "Topic # 47 \n",
      "基金 城市 市场 上涨 同比 环比 数据 房企 显示 下降 亿元 三季度 销售 土地 房地产 公司 增长 月份 二季度\n",
      "Topic # 48 \n",
      "贷款 企业 小微 信贷 担保 金融机构 余额 亿元 融资 支持 授信 万元 发放 银行 提供 抵押 审批 利率 资金\n",
      "Topic # 49 \n",
      "货币 数字 风险 监管 比特 虚拟 区块 交易所 互联网 交易 整治 加密 投资者 互联网金融 中国 发行 机构 代币 专项\n",
      "Topic # 50 \n",
      "公司 乐视 物流 行业 服务 投资 房产 中国 市场 影业 经纪 视网 股权 融创 项目 收益 运营 方式 产业\n",
      "Topic # 51 \n",
      "银行 交易 账户 人民币 公会 企业 转账 大额 上海 税务 客户 老板 对公 现金 上海市 上犹 人民银行 个人账户 委内瑞拉\n",
      "Topic # 52 \n",
      "平台 网贷 行业 监管 pp 互联网金融 机构 业务 合规 风险 信息 工作 投资人 资金 金融 存管 互联网 检查 借款人\n",
      "Topic # 53 \n",
      "rdquo ldquo mdash 图片 hellip rsquo lsquo 新闻 middot 新华 平台 市场 阿拉山口 推出 挂职 模式 投资 新闻网 业务\n",
      "Topic # 54 \n",
      "生活 朋友 事情 真的 儿子 图片 孩子 喜欢 东西 发现 两个 故事 一点 时间 男人 父亲 希望 女人 世界\n",
      "Topic # 55 \n",
      "车辆 苹果 etc 汽车 驾驶 车主 高速 车型 设计 手机 行驶 电动车 自动 新车 特斯拉 iphone 停车 车位 图片\n",
      "Topic # 56 \n",
      "区块 技术 用户 数据 智能 平台 支付 科技 服务 互联网 领域 系统 人工智能 公司 场景 未来 产品 全球 ai\n",
      "Topic # 57 \n",
      "美元 市场 美国 预期 美联储 加息 数据 指数 黄金 利率 下跌 经济 上涨 公布 央行 投资者 影响 走势 欧元\n",
      "Topic # 58 \n",
      "资管新规 资产 市场 政策 指导 嘉兴 规划 经济 产品 发展 执行 金融机构 通知 进一步 安排 证监会 运行 非标 行业\n",
      "Topic # 59 \n",
      "国有 缴费 供热 金融资本 业主 信保 服务 wang 天气 alexander 事件 发生 大风 陆家嘴 金茂 缴纳 热力 燕郊 用户\n",
      "Topic # 60 \n",
      "活动 支付 优惠 用户 微信 手机 app 点击 享受 即可 二维码 客服 还款 购买 时间 选择 免费 消费 电话\n",
      "Topic # 61 \n",
      "人民币 融资 中国 市场 汇率 资本 机构 境外 开放 投资 国际 债券 央行 亿美元 跨境 企业 我国 资金 外汇\n",
      "Topic # 62 \n",
      "公交 重庆 万元 媒体 车险 银联 乘车 大地保险 公司 期间 公交车 分公司 飞机 净增 闪付 成交 出行 活动 保险法\n",
      "Topic # 63 \n",
      "公司 股东 有限公司 集团 股权 投资 股份 控股 持股 亿元 董事会 公告 董事长 成立 持有 增资 子公司 企业 北京\n",
      "Topic # 64 \n",
      "武汉 影子银行 亿元 恒丰银行 有限公司 中国 规模 投资 业务 股份 非银 评级 图片 蛟河农商行 国资 疫苗 公司 逾期 生物\n",
      "Topic # 65 \n",
      "活动 观影 信用卡 外资银行 外资 影城 电影 银行业 购票 银行 葫芦岛银行 优惠 享受 限购 中资银行 每卡 王学伶 对外开放 时间\n",
      "Topic # 66 \n",
      "监察 监督 委员会 gt 配送 图片 人员 纪检监察 俄国 时间 中国 挂失 北京银行 监察机关 即时 etf 报告 人大常委会 补办\n",
      "Topic # 67 \n",
      "上市 资产 融资 香港 发行 reits 企业 证券 公司 投资者 abs 基础 市场 集团 收益权 计划 亿元 港股 支持\n",
      "Topic # 68 \n",
      "旅游 发展 投资 中国 股权 旅游业 景区 产业 建设 游客 债权 推动 全国 破产 推进 申报 工作 提升 优质\n",
      "Topic # 69 \n",
      "nbsp 湖北银行 湖北 集团 有限公司 企业 拍卖 图片 中国 银行 投资 股权 监管局 张伟 记者 相关 万元 地产 简称\n",
      "Topic # 70 \n",
      "银行 风险 商业银行 资产 贷款 银行业 资金 监管 不良资产 业务 企业 金融 市场 经营 不良 中国 杠杆 资本 规模\n",
      "Topic # 71 \n",
      "养老金 企业 养老保险 用户 网易 养老 二手车 调整 运营 科技 公司 行业 电影 ip 互联网 内容 爱奇艺 医疗保险 缴费\n",
      "Topic # 72 \n",
      "招聘 考试 专业 工作 岗位 报名 毕业生 担保 公司 相关 时间 银行 人员 培训 面试 大学生 能力 笔试 硕士\n",
      "Topic # 73 \n",
      "股权 股份 股东 公司 质押 亿元 上市公司 持有 投资 万股 转让 控股 公告 显示 持股 有限公司 万元 集团 比例\n",
      "Topic # 74 \n",
      "消费 a股 公司 市场 中国 世界 平凡 新兴 清算 声明 外资 阿根廷 纳入 收费 遗失 指数 登记 申报 增长\n",
      "Topic # 75 \n",
      "市场 板块 a股 资金 个股 股票 行情 亿元 证券 股市 指数 下跌 股份 估值 涨幅 行业 反弹 回购 创业板\n",
      "Topic # 76 \n",
      "配资 垃圾 邮政 服务 银行 观影 中行 股票 信用卡 体验 免费 卡车 吃饭 每人 影城 儿童 炒股 生活 天然\n",
      "Topic # 77 \n",
      "资金 公司 亿元 交易 上市公司 科技 企业 收购 本次 募集 公告 资产 相关 股份 万元 情况 到期 发行 债务\n",
      "Topic # 78 \n",
      "法院 法律 案件 征信 执行 相关 当事人 信息 情况 管理 依法 财产 万元 履行 人民法院 义务 诉讼 程序 证据\n",
      "Topic # 79 \n",
      "扶贫 脱贫 精准 攻坚 贫困户 工作 邮储银行 金融 帮扶 贫困 贫困地区 项目 产业 资金 支持 贷款 政策 亿滔 发展\n",
      "Topic # 80 \n",
      "产品 font 保险公司 销售 color ff 监管 公司 重点 保监会 乱象 消费者 专项 违法违规 整治 人身保险 中介机构 工作 风险\n",
      "Topic # 81 \n",
      "银行 银行卡 中国银行 工作人员 女士 办理 业务 电话 发现 柜台 手机 密码 客服 经理 转账 民警 小时 账户 窗口\n",
      "Topic # 82 \n",
      "信用卡 银行 额度 客户 消费 申请 ensp 持卡人 积分 提额 刷卡 广发银行 手续费 办理 还款 账单 商户 白金卡 办卡\n",
      "Topic # 83 \n",
      "基金 投资 私募 管理 资产 财富 托管 投资者 市场 机构 产品 配置 股权 收益 证券 养老 行业 理财 股票\n",
      "Topic # 84 \n",
      "房地产 市场 交易 房价 部门 px 企业 违法违规 价格 征收 开发 专项 新区 资金 购房人 经纪 查处 成都 投机\n",
      "Topic # 85 \n",
      "京东 金融 快递 图片 报名 人数 税务局 国家税务总局 北京 湖南 科员 西藏 职位 刘强 培训 审核 学员 国考 国家\n",
      "Topic # 86 \n",
      "工作 发展 建设 改革 推进 部门 推动 机构 管理 完善 重点 治理 落实 制度 机制 组织 生产 建立 社会\n",
      "Topic # 87 \n",
      "业务 投资 资管 产品 资产 监管 管理 金融机构 风险 机构 资金 资管新规 银行 办法 市场 规范 资产管理 意见 商业银行\n",
      "Topic # 88 \n",
      "项目 地产 城市 房地产 集团 图片 商业 万科 房企 海航 徐州 网络 招商 企业 投资 中国 苏州 发展 有限公司\n",
      "Topic # 89 \n",
      "公司 文化 中南 中国 温州 一汽 亿元 诊股 股市 资金 传媒 万元 市值 重工 净利润 股票 同比 投资 汽车\n",
      "Topic # 90 \n",
      "有限公司 行情 操作 黄金 校区 拍卖 震荡 均线 信息 中心 止损 周三 周四 原油 周二 周五 一线 运行 关注\n",
      "Topic # 91 \n",
      "财经 黄金 资讯 期货 股票 债券 综合 门户 外汇 信托 财经网 基金 河北 金融 传销 内容 本站 机器人 文字\n",
      "Topic # 92 \n",
      "货币 市场 经济 央行 价格 比特 中国 债转股 投资 美国 通胀 万亿 导致 国家 全球 周期 增长 企业 世纪\n",
      "Topic # 93 \n",
      "企业 工业 环保 政策 发展 支持 环境 项目 绿色 产业 实施 中小企业 知识产权 经济 奖励 三板 国家 创新 人才\n",
      "Topic # 94 \n",
      "理财产品 理财 产品 收益 银行 风险 收益率 投资 投资者 监管 预期 金融 保本 发行 期限 年化 银行理财 管理 净值\n",
      "Topic # 95 \n",
      "经济 政策 企业 金融 市场 发展 实体 政府 风险 地方 融资 会议 改革 货币政策 去杠杆 稳定 中国 杠杆 供给\n",
      "Topic # 96 \n",
      "信息 扣除 增值税 企业 纳税人 纳税 核查 申报 缴纳 税务 部门 发票 开具 涉嫌 收受 国家税务总局 专项 受贿 支出\n",
      "Topic # 97 \n",
      "人民币 外汇 违规 保本 万元 办理 支付 业务 案例 银行 管理条例 非法 转口贸易 处以罚款 跨境 企业 违反 分行 逃汇\n",
      "Topic # 98 \n",
      "工作 学习 活动 精神 党建 党员 橄榄球 青岛 发展 党支部 绿色 文明 思想 青年 文化 建设 支行 组织 参加\n",
      "Topic # 99 \n",
      "网络安全 宣传周 国家 中国 超市 作品 父子 博物馆 文化 孩子 网络 财商 银联卡 体验 工作人员 宿迁 时间 信用 地址\n"
     ]
    }
   ],
   "source": [
    "topic_term = lda.components_  # 主题-词语分布矩阵\n",
    "tf_feature_names = tf_vectorizer.get_feature_names()\n",
    "print(tf_feature_names[:100:10])\n",
    "\n",
    "n_top_words=20\n",
    "tf_feature_names = tf_vectorizer.get_feature_names()\n",
    "for i, _  in enumerate(topic_term):\n",
    "    print_topic(topic_term, i, tf_feature_names, n_top_words)"
   ]
  },
  {
   "cell_type": "markdown",
   "metadata": {},
   "source": [
    "### Inspect a document in the corpus"
   ]
  },
  {
   "cell_type": "code",
   "execution_count": null,
   "metadata": {
    "collapsed": true
   },
   "outputs": [],
   "source": [
    "docres_train = lda.transform(tf_train)\n",
    "docres_test = lda.transform(tf_test)"
   ]
  },
  {
   "cell_type": "code",
   "execution_count": 24,
   "metadata": {
    "ExecuteTime": {
     "end_time": "2018-11-10T02:59:59.891569Z",
     "start_time": "2018-11-10T02:59:59.873568Z"
    }
   },
   "outputs": [
    {
     "name": "stdout",
     "output_type": "stream",
     "text": [
      "(9934, 100)\n"
     ]
    }
   ],
   "source": [
    "print(docres_train.shape)"
   ]
  },
  {
   "cell_type": "code",
   "execution_count": 47,
   "metadata": {
    "ExecuteTime": {
     "end_time": "2018-11-10T03:41:08.329545Z",
     "start_time": "2018-11-10T03:41:08.317545Z"
    }
   },
   "outputs": [
    {
     "name": "stdout",
     "output_type": "stream",
     "text": [
      "[87 75 95 42 83]\n",
      "\n",
      "A股 有望 迎来 银行 系 长期 资金 利于 提振 股市 信心 A股 有望 迎来 银行 系 长期 资金 利于 提振 股市 信心 来源 证券日报 作者 包 兴安 字号 小大 核心 提示 接受 记者 采访 专家 银行理财 子公司 发行 公募 产品 获准 投资 股市 A股 迎来 银行 系 长期 资金 有利于 提振 股市 信心 带动 资金 股市 徽商银行 近日 公告 称 进一步 推动 理财业务 发展 深化 理财 治理 体系 改革 该行 拟 设立 资管 子公司 包括 徽商银行 兴业银行 浦发银行 杭州银行 在内 家 银行 拟 设立 理财 子公司 接受 记者 采访 专家 银行理财 子公司 发行 公募 产品 获准 投资 股市 A股 迎来 银行 系 长期 资金 有利于 提振 股市 信心 带动 资金 股市 投资 股票 资管 机构 扩容 资管 行业 改革 原则 金融 细分 行业 资管 产品 监管 平等 差异 监管套利 通道 业务 东北 证券 固定 收益 分析师 刘辰涵 证券日报 记者 证券 行业 信托 行业 资管 产品 投资 股票 银行理财 子公司 发行 公募 产品 投资 股市 事实上 公平 符合 改革 思路 月 日 中共中央政治局 委员 国务院 副 总理 刘鹤 经济 金融热点 接受 记者 采访 刘鹤 采访 中 银行理财 子公司 资本 市场 投资 金融机构 科学合理 做好 股权 质押 融资 业务 风险管理 鼓励 地方 政府 管理 基金 私募 股权 基金 发展前景 公司 纾解 股权 质押 困难 同日 银保监会 发布 商业银行 理财 子公司 管理 办法 征求意见 稿 提出 前期 银行 私募 理财产品 投资 股票 公募 理财产品 公募 基金 间接 投资 股票 基础 进一步 子公司 发行 公募 理财产品 投资 股票 参照 资管 产品 监管 设置 理财产品 销售 起点 金额 稳 市场 措施 ldquo 银行理财 子公司 发行 公募 产品 投资 股市 贯彻落实 近期 决策层 稳定 资本 市场 恐慌 情绪 政策 目标 rdquo 苏宁 金融 研究院 宏观经济 研究 中心 主任 黄志 证券日报 记者 A股 市场 估值 低于 估值 银行理财 子公司 发行 公募 产品 股市 设置 产品销售 起点 金额 监管部门 股市 进一步 下跌 可能性 投资者 银行 公募 理财产品 股市 投资 风险 特别 刘辰涵 实施 市场 参与 股票投资 资管 机构 银行 系 参与 股票投资 基金 系 券商 系 银行 系 发行 投资 股票 公募 产品 未来 资管 行业 内部 竞争 激烈 此前 银行理财 业务 监管 制度 私募 理财产品 投资 股票 公募 理财产品 只能 投资 货币 型 债券 型基金 银保监会 部门 负责人 商业银行 设立 理财 子公司 资管 业务 有利于 强化 银行理财 业务 风险 隔离 推动 银行理财 回归 资管 业务 本源 有序 打破 刚性兑付 ldquo 卖者 有责 rdquo 基础 ldquo 买者 自负 rdquo 有利于 优化 组织 管理体系 建立 符合 资管 业务 风 控制 度 激励机制 理财业务 规范 转型 万博 兄弟 资产管理公司 总裁 刘哲 证券日报 记者 商业银行 理财 子公司 管理 办法 商业银行理财业务 监督管理 办法 配套 制度 贯彻 理财 回归 资管 本质 理财 子公司 资管 机构 投资 趋同化 打破 投资 标的 银行理财 子公司 约束 有利于 提升 银行理财 资管 同业 竞争力 刘辰涵 证券 系 基金 系 发行 公募 性质 资管 产品 市场 渠道 最广 银行 系 公募 性质 牌照 符合 资管 行业 主体 平等 观点 银行 系 理财 子公司 未来 类似 基金 公司 式 运作 增量 资金 入市 提振 股市 信心 银行理财 子公司 发行 公募 产品 投资 股市 A股 带来 巨额 增量 资金 中国 劳动 关系 学院 经济学 副教授 党印 证券日报 记者 银行理财 子公司 发行 公募 产品 股市 增加 居民 理财产品 投资 渠道 有利于 盘活 存量 资金 提振 股市 信心 带动 资金 股市 刘哲 银行理财 资金 入市 循序渐进 过程 预计 短期 规模有限 长期 万亿元 非 保本 理财产品 规模 计算 预计 市场 格局 成熟 银行理财 子公司 机构 投资者 入市 有望 A股 带来 万亿元 资金 中信 建投 银行业 首席 分析师 杨荣 非 保本 银行 理财产品 最新 规模 统计 万亿元 配置 权益 包括 一级 二级 市场 预计 未来 二级 权益 市场 配置 占 回升 还会 万亿元 万亿元 理财 资金 流入 股票市场 黄志 新规 增强 股市 上涨 信心 短期内 入市 资金 规模 很大 公募 理财产品 经历 较长 产品设计 募集 期 股市 上涨 前景 这类 公募 产品 投资者 观望 一段时间 长期 改善 资金 供应 规模 市场 预期 实实在在 利好 刘辰涵 银行理财 子公司 初建 阶段 股票 权益 类 投研 体系 人才 配备 梯队 建设 尚未 完善 理财 子公司 初期 大规模 发行 偏 股票 类 产品 ldquo 风险 偏好 高 投资者 资金 规模 增加 理财 子公司 产品 吸引 投资 资金 伴随 基金 系 产品 赎回 总 股市 增量 资金 额外 增多 rdquo 刘辰涵 长期 银行理财 内部 偏大类 资产 配置 理财产品 一部分 股市 增量 资金 ldquo 银行理财 子公司 机构 投资者 入市 有利于 优化 资本 市场 投资者 结构 推动 中长期 价值 投资 理念 提升 资本 市场 价格 发现 功能 rdquo 刘哲 指出 国内 资管 机构 越来越 成熟 有利于 进一步 提升 整体 资产管理 能力 改善 市场 投资 环境 引导 市场 走向 理性 健康 原 标题 A股 迎 长期 资金 万亿元 银行理财 入市 分享 编辑 zsw 相关 新闻\n"
     ]
    }
   ],
   "source": [
    "top_topics = (docres_train[1234]).argsort()[:-6:-1]\n",
    "print(top_topics)\n",
    "print()\n",
    "print(X_train[1234])"
   ]
  },
  {
   "cell_type": "code",
   "execution_count": 44,
   "metadata": {
    "ExecuteTime": {
     "end_time": "2018-11-10T03:39:00.339214Z",
     "start_time": "2018-11-10T03:39:00.310212Z"
    }
   },
   "outputs": [
    {
     "name": "stdout",
     "output_type": "stream",
     "text": [
      "Topic # 87 \n",
      "业务 投资 资管 产品 资产 监管 管理 金融机构 风险 机构 资金 资管新规 银行 办法 市场 规范 资产管理 意见 商业银行\n",
      "Topic # 75 \n",
      "市场 板块 a股 资金 个股 股票 行情 亿元 证券 股市 指数 下跌 股份 估值 涨幅 行业 反弹 回购 创业板\n",
      "Topic # 95 \n",
      "经济 政策 企业 金融 市场 发展 实体 政府 风险 地方 融资 会议 改革 货币政策 去杠杆 稳定 中国 杠杆 供给\n",
      "Topic # 42 \n",
      "银行 利率 存款 记者 贷款 上浮 规模 下降 资金 月份 信贷 融资 发行 压力 市场 央行 收益率 流动性 平均\n",
      "Topic # 83 \n",
      "基金 投资 私募 管理 资产 财富 托管 投资者 市场 机构 产品 配置 股权 收益 证券 养老 行业 理财 股票\n"
     ]
    }
   ],
   "source": [
    "for i in top_topics:\n",
    "    print_topic(topic_term, i, tf_feature_names, n_top_words)"
   ]
  },
  {
   "cell_type": "markdown",
   "metadata": {},
   "source": [
    "### Visualization"
   ]
  },
  {
   "cell_type": "code",
   "execution_count": 19,
   "metadata": {
    "ExecuteTime": {
     "end_time": "2018-11-10T02:52:06.619018Z",
     "start_time": "2018-11-10T02:52:05.916189Z"
    },
    "collapsed": true
   },
   "outputs": [],
   "source": [
    "import pyLDAvis\n",
    "import pyLDAvis.sklearn\n",
    "import pyLDAvis.gensim\n",
    "\n",
    "pyLDAvis.enable_notebook()"
   ]
  },
  {
   "cell_type": "code",
   "execution_count": 49,
   "metadata": {
    "ExecuteTime": {
     "end_time": "2018-11-10T03:51:45.066204Z",
     "start_time": "2018-11-10T03:47:05.194136Z"
    }
   },
   "outputs": [
    {
     "name": "stdout",
     "output_type": "stream",
     "text": [
      "\n",
      "Note: if you're in the IPython notebook, pyLDAvis.show() is not the best command\n",
      "      to use. Consider using pyLDAvis.display(), or pyLDAvis.enable_notebook().\n",
      "      See more information at http://pyLDAvis.github.io/quickstart.html .\n",
      "\n",
      "You must interrupt the kernel to end this command\n",
      "\n",
      "Serving to http://127.0.0.1:8889/    [Ctrl-C to exit]\n"
     ]
    },
    {
     "name": "stderr",
     "output_type": "stream",
     "text": [
      "127.0.0.1 - - [10/Nov/2018 11:48:22] \"GET / HTTP/1.1\" 200 -\n",
      "127.0.0.1 - - [10/Nov/2018 11:48:22] \"GET /LDAvis.css HTTP/1.1\" 200 -\n",
      "127.0.0.1 - - [10/Nov/2018 11:48:23] \"GET /d3.js HTTP/1.1\" 200 -\n",
      "127.0.0.1 - - [10/Nov/2018 11:48:25] \"GET /LDAvis.js HTTP/1.1\" 200 -\n"
     ]
    },
    {
     "name": "stdout",
     "output_type": "stream",
     "text": [
      "\n",
      "stopping Server...\n"
     ]
    }
   ],
   "source": [
    "# lda_vis = pyLDAvis.sklearn.prepare(lda, tf_train, tf_vectorizer)\n",
    "doc_lengths = [len(t) for t in X_train]\n",
    "term_frequency = np.asarray(tf_train.sum(axis=0)).squeeze()\n",
    "lda_vis = pyLDAvis.prepare(topic_term_dists = topic_term,\n",
    "                           doc_topic_dists = docres_train,\n",
    "                           doc_lengths = doc_lengths,\n",
    "                           vocab = tf_feature_names,\n",
    "                           term_frequency = term_frequency)\n",
    "\n",
    "pyLDAvis.display(lda_vis)\n",
    "# pyLDAvis.show(lda_vis)\n",
    "# pyLDAvis.save_html(lda_vis, 'lda.html')"
   ]
  },
  {
   "cell_type": "markdown",
   "metadata": {},
   "source": [
    "## 效果评价\n",
    "- 对于LDA模型，最常用的两个评价方法困惑度（Perplexity）、相似度（Corre）。\n",
    "- 困惑度（Perplexity）\n",
    "  - 其中困惑度可以理解为对于一篇文章d，所训练出来的模型对文档d属于哪个主题有多不确定，这个不确定成都就是困惑度。\n",
    "  - 困惑度越低，说明聚类的效果越好。\n",
    "  - 对于不同Topic所训练出来的模型，计算它的困惑度。最小困惑度所对应的Topic就是最优的主题数。"
   ]
  },
  {
   "cell_type": "markdown",
   "metadata": {},
   "source": [
    "### sklearn"
   ]
  },
  {
   "cell_type": "code",
   "execution_count": 51,
   "metadata": {
    "ExecuteTime": {
     "end_time": "2018-11-10T06:00:06.131874Z",
     "start_time": "2018-11-10T05:59:36.927669Z"
    }
   },
   "outputs": [
    {
     "name": "stdout",
     "output_type": "stream",
     "text": [
      "3800.505173946505\n",
      "10294.939626958849\n"
     ]
    }
   ],
   "source": [
    "# print(lda.perplexity(tf_train))\n",
    "# print(lda.perplexity(tf_test))"
   ]
  },
  {
   "cell_type": "code",
   "execution_count": null,
   "metadata": {
    "ExecuteTime": {
     "start_time": "2018-11-10T06:12:52.935Z"
    }
   },
   "outputs": [
    {
     "name": "stdout",
     "output_type": "stream",
     "text": [
      "Topic Num = 1; sklearn preplexity: train=7743.821, test=7762.879; done in 7.602s.\n",
      "Topic Num = 6; sklearn preplexity: train=5387.093, test=6481.527; done in 118.423s.\n",
      "Topic Num = 11; sklearn preplexity: train=4920.832, test=6522.206; done in 136.262s.\n",
      "Topic Num = 16; sklearn preplexity: train=4595.860, test=6565.111; done in 135.727s.\n",
      "Topic Num = 21; sklearn preplexity: train=4465.102, test=6779.196; done in 156.157s.\n",
      "Topic Num = 26; sklearn preplexity: train=4328.924, test=6931.780; done in 166.934s.\n"
     ]
    }
   ],
   "source": [
    "grid = dict()\n",
    "for i in range(1,100, 5): ###100个主题，以5为间隔\n",
    "    t0 = time.time()\n",
    "    grid[i] = list()\n",
    "    n_topics = i\n",
    "\n",
    "    lda = LatentDirichletAllocation(n_components=n_topics, max_iter=10,\n",
    "                                    learning_method='batch',\n",
    "                                    learning_offset=50.,random_state=0)\n",
    "    lda.fit(tf_train) ###训练参数\n",
    "    train_gamma = lda.transform(tf_train) ##得到topic-document 分布\n",
    "    train_perplexity = lda.perplexity(tf_train)\n",
    "    test_perplexity = lda.perplexity(tf_test) ###s计算测试集困惑度\n",
    "    grid[i].append(train_perplexity)\n",
    "    print('Topic Num = %d; sklearn preplexity: train=%.3f, test=%.3f; done in %0.3fs.'\\\n",
    "          %(i, train_perplexity, test_perplexity, time.time() - t0))\n",
    "\n",
    "df = pd.DataFrame(grid)"
   ]
  },
  {
   "cell_type": "code",
   "execution_count": null,
   "metadata": {
    "collapsed": true
   },
   "outputs": [],
   "source": [
    "plt.figure(figsize=(15,6), dpi=120)\n",
    "#plt.subplot(221)\n",
    "plt.plot(df.columns.values, df.iloc[0].values, '#007A99')\n",
    "plt.xticks(df.columns.values)\n",
    "plt.ylabel('train Perplexity')\n",
    "plt.show()"
   ]
  },
  {
   "cell_type": "markdown",
   "metadata": {},
   "source": [
    "# LSI"
   ]
  },
  {
   "cell_type": "code",
   "execution_count": 14,
   "metadata": {
    "ExecuteTime": {
     "end_time": "2018-11-10T02:13:32.251432Z",
     "start_time": "2018-11-10T02:08:43.553061Z"
    }
   },
   "outputs": [
    {
     "data": {
      "text/plain": [
       "[(0, '0.005*\"月\" + 0.005*\"年\" + 0.004*\"工作\" + 0.004*\"活动\"'),\n",
       " (1, '0.011*\"年\" + 0.009*\"月\" + 0.009*\"银行\" + 0.007*\"市场\"'),\n",
       " (2, '0.009*\"金融\" + 0.007*\"企业\" + 0.007*\"月\" + 0.007*\"发展\"')]"
      ]
     },
     "execution_count": 14,
     "metadata": {},
     "output_type": "execute_result"
    }
   ],
   "source": [
    "lda = models.ldamodel.LdaModel(corpus=texts, id2word=dictionary, num_topics=3,update_every=0,passes=20)\n",
    "texts_lda = lda[texts_tf_idf]\n",
    "lda.print_topics(num_topics=3, num_words=4)\n",
    "# print(lda.print_topics(num_topics=5, num_words=3))"
   ]
  },
  {
   "cell_type": "code",
   "execution_count": null,
   "metadata": {
    "collapsed": true
   },
   "outputs": [],
   "source": [
    "lsi = models.lsimodel.LsiModel(corpus=texts, id2word=dictionary, num_topics=3)    # 初始化一个LSI转换\n",
    "texts_lsi = lsi[texts_tf_idf]                # 对其在向量空间进行转换\n",
    "lsi.print_topics(num_topics=3, num_words=4)"
   ]
  },
  {
   "cell_type": "code",
   "execution_count": null,
   "metadata": {
    "collapsed": true
   },
   "outputs": [],
   "source": []
  },
  {
   "cell_type": "code",
   "execution_count": null,
   "metadata": {
    "collapsed": true
   },
   "outputs": [],
   "source": []
  },
  {
   "cell_type": "code",
   "execution_count": null,
   "metadata": {
    "collapsed": true
   },
   "outputs": [],
   "source": []
  },
  {
   "cell_type": "code",
   "execution_count": null,
   "metadata": {
    "collapsed": true
   },
   "outputs": [],
   "source": []
  },
  {
   "cell_type": "code",
   "execution_count": null,
   "metadata": {
    "collapsed": true
   },
   "outputs": [],
   "source": []
  }
 ],
 "metadata": {
  "kernelspec": {
   "display_name": "Python 3",
   "language": "python",
   "name": "python3"
  },
  "language_info": {
   "codemirror_mode": {
    "name": "ipython",
    "version": 3
   },
   "file_extension": ".py",
   "mimetype": "text/x-python",
   "name": "python",
   "nbconvert_exporter": "python",
   "pygments_lexer": "ipython3",
   "version": "3.6.3"
  },
  "toc": {
   "nav_menu": {},
   "number_sections": true,
   "sideBar": true,
   "skip_h1_title": false,
   "title_cell": "Table of Contents",
   "title_sidebar": "Contents",
   "toc_cell": false,
   "toc_position": {
    "height": "calc(100% - 180px)",
    "left": "10px",
    "top": "150px",
    "width": "376px"
   },
   "toc_section_display": true,
   "toc_window_display": true
  },
  "varInspector": {
   "cols": {
    "lenName": 16,
    "lenType": 16,
    "lenVar": 40
   },
   "kernels_config": {
    "python": {
     "delete_cmd_postfix": "",
     "delete_cmd_prefix": "del ",
     "library": "var_list.py",
     "varRefreshCmd": "print(var_dic_list())"
    },
    "r": {
     "delete_cmd_postfix": ") ",
     "delete_cmd_prefix": "rm(",
     "library": "var_list.r",
     "varRefreshCmd": "cat(var_dic_list()) "
    }
   },
   "position": {
    "height": "605px",
    "left": "1510px",
    "right": "20px",
    "top": "120px",
    "width": "350px"
   },
   "types_to_exclude": [
    "module",
    "function",
    "builtin_function_or_method",
    "instance",
    "_Feature"
   ],
   "window_display": false
  }
 },
 "nbformat": 4,
 "nbformat_minor": 2
}
