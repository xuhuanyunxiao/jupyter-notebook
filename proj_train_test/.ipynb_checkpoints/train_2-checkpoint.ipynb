{
 "cells": [
  {
   "cell_type": "markdown",
   "metadata": {
    "ExecuteTime": {
     "end_time": "2018-09-10T06:12:36.169323Z",
     "start_time": "2018-09-10T06:12:36.152322Z"
    }
   },
   "source": [
    "# 本文件说明\n",
    "- 训练模型,查看模型结果：包括K-fold、概率结果"
   ]
  },
  {
   "cell_type": "markdown",
   "metadata": {},
   "source": [
    "# 基本设置"
   ]
  },
  {
   "cell_type": "code",
   "execution_count": 1,
   "metadata": {
    "ExecuteTime": {
     "end_time": "2018-12-29T01:41:03.214289Z",
     "start_time": "2018-12-29T01:40:58.535022Z"
    }
   },
   "outputs": [],
   "source": [
    "import jieba\n",
    "from jieba import analyse\n",
    "import sys\n",
    "import re\n",
    "import time\n",
    "import datetime\n",
    "import string\n",
    "from sklearn import feature_extraction\n",
    "from sklearn.pipeline import Pipeline,FeatureUnion\n",
    "from sklearn.model_selection import GridSearchCV\n",
    "from sklearn.feature_extraction.text import TfidfTransformer\n",
    "from sklearn.feature_extraction.text import CountVectorizer\n",
    "\n",
    "from sklearn.feature_extraction.text import TfidfVectorizer\n",
    "from sklearn.feature_selection import SelectKBest, chi2,mutual_info_classif,f_classif \n",
    "from sklearn.preprocessing import StandardScaler\n",
    "\n",
    "import xgboost as xgb\n",
    "from xgboost import XGBClassifier\n",
    "from sklearn import metrics\n",
    "\n",
    "from sklearn.base import BaseEstimator, TransformerMixin\n",
    "\n",
    "%matplotlib inline\n",
    "import numpy as np\n",
    "import pandas as pd\n",
    "import os\n",
    "from sklearn.model_selection import train_test_split\n",
    "from collections import Counter\n",
    "\n",
    "import warnings\n",
    "warnings.filterwarnings('ignore')"
   ]
  },
  {
   "cell_type": "code",
   "execution_count": 2,
   "metadata": {
    "ExecuteTime": {
     "end_time": "2018-12-29T01:41:07.356526Z",
     "start_time": "2018-12-29T01:41:03.219289Z"
    }
   },
   "outputs": [
    {
     "name": "stderr",
     "output_type": "stream",
     "text": [
      "Building prefix dict from the default dictionary ...\n",
      "Loading model from cache C:\\Users\\ADMINI~1\\AppData\\Local\\Temp\\jieba.cache\n",
      "Loading model cost 1.033 seconds.\n",
      "Prefix dict has been built succesfully.\n"
     ]
    }
   ],
   "source": [
    "from toolkits.nlp.generate_keywords import generate_keywords\n",
    "from toolkits.nlp import pre_cor_circ\n",
    "from toolkits.nlp import pre_cor_cbrc\n",
    "from toolkits.nlp import myclass_circ\n",
    "from toolkits.nlp import myclass_cbrc\n",
    "from toolkits.nlp import load_save_plot_file"
   ]
  },
  {
   "cell_type": "code",
   "execution_count": 3,
   "metadata": {
    "ExecuteTime": {
     "end_time": "2018-12-29T01:41:07.546537Z",
     "start_time": "2018-12-29T01:41:07.365527Z"
    }
   },
   "outputs": [],
   "source": [
    "%load_ext autoreload\n",
    "%autoreload 2"
   ]
  },
  {
   "cell_type": "markdown",
   "metadata": {},
   "source": [
    "## 一些函数"
   ]
  },
  {
   "cell_type": "code",
   "execution_count": 4,
   "metadata": {
    "ExecuteTime": {
     "end_time": "2018-12-29T01:41:07.811552Z",
     "start_time": "2018-12-29T01:41:07.549537Z"
    }
   },
   "outputs": [],
   "source": [
    "def cal_kfold(title_content, label, pipeline, raw_folder, filename, class_name_dict):\n",
    "    from sklearn.model_selection import KFold\n",
    "    import numpy as np\n",
    "\n",
    "    data_raw = pd.read_excel('%s/corpus/title_content_label.xlsx'%raw_folder)\n",
    "    raw_title = np.array(data_raw['title'])\n",
    "    raw_content = np.array(data_raw['content'])\n",
    "    print('data_raw: ', data_raw.shape)\n",
    "\n",
    "    kf = KFold(n_splits=5, shuffle=True, random_state=0)\n",
    "    title_content = np.array(title_content)\n",
    "    label = np.array(label)\n",
    "    \n",
    "    kfold_res = {'raw_title':[], 'raw_content':[], 'label':[], \n",
    "             'predict_label':[], 'title_content':[], 'predict_proba':[]}\n",
    "\n",
    "    num = 0\n",
    "    for train_index , test_index in kf.split(title_content):\n",
    "        print('---- %s'%(num+1))\n",
    "        X_train,X_test = title_content[train_index], title_content[test_index]\n",
    "        y_train,y_test = label[train_index], label[test_index]\n",
    "        \n",
    "        pipeline.fit(X_train, y_train)\n",
    "        print(pipeline.score(X_train, y_train))    \n",
    "\n",
    "        y_pred_class = pipeline.predict(X_test)\n",
    "        print('accuracy_score: ', metrics.accuracy_score(y_test, y_pred_class)) # 指所有分类正确的百分比\n",
    "        print(metrics.classification_report(y_test, y_pred_class))\n",
    "        print('confusion_matrix: ')\n",
    "        print( metrics.confusion_matrix(y_test, y_pred_class))   \n",
    "        \n",
    "        y_pred_prob = pipeline.predict_proba(X_test)\n",
    "\n",
    "        kfold_res['raw_title'] += list(raw_title[test_index])\n",
    "        kfold_res['raw_content'] += list(raw_content[test_index])\n",
    "        kfold_res['title_content'] += list(X_test)\n",
    "        kfold_res['label'] += [class_name_dict[i] for i in y_test]\n",
    "        kfold_res['predict_label'] += [class_name_dict[i] for i in y_pred_class]\n",
    "        kfold_res['predict_proba'] += list(y_pred_prob.max(axis = 1))\n",
    "    \n",
    "        num += 1\n",
    "        \n",
    "    kfold_result = pd.DataFrame.from_dict(kfold_res, orient = 'index').T\n",
    "    kfold_result['R_W'] = kfold_result.apply(lambda x: 'Right' if x['label'] == x['predict_label'] else 'Wrong', axis = 1)\n",
    "    print('kfold_result: ', kfold_result.shape)\n",
    "    \n",
    "    with pd.ExcelWriter('%s/corpus/%s'%(raw_folder, filename)) as writer:\n",
    "        for label in kfold_result['label'].unique():\n",
    "            tmp_data = kfold_result[kfold_result['label'] == label]\n",
    "            tmp_data.to_excel(writer, label, index = False)\n",
    "        writer.save()"
   ]
  },
  {
   "cell_type": "code",
   "execution_count": 5,
   "metadata": {
    "ExecuteTime": {
     "end_time": "2018-12-29T01:41:08.096568Z",
     "start_time": "2018-12-29T01:41:07.814552Z"
    }
   },
   "outputs": [],
   "source": [
    "def plot_class_proba(y_pred_class, y_pred_prob):\n",
    "    import seaborn as sns\n",
    "    import matplotlib.pyplot as plt\n",
    "\n",
    "    sel_data = pd.DataFrame()\n",
    "    sel_data['predict_label'] = y_pred_class\n",
    "    sel_data['predict_proba'] = y_pred_prob\n",
    "    sel_data['label'] = y_test\n",
    "\n",
    "    label_dic={'监管':1,'行业':2,'产品销售':3,'资本市场':4,'公司内部管理':5,'消费服务':6,'其他相关报道':7,'噪音':8}\n",
    "    # sel_data['predict_label'] = sel_data['predict_label'].apply(lambda x:label_dic[x])\n",
    "    g = sns.FacetGrid(sel_data, col=\"predict_label\", col_wrap=4, sharex=False)\n",
    "    g.map(plt.hist, \"predict_proba\", bins = 10)\n",
    "\n",
    "    sel_data['proba'] = sel_data['predict_proba'].apply(lambda x:round(x, 1))\n",
    "    sel_data_stat = sel_data.groupby(['predict_label', 'proba'])['predict_proba'].count().unstack().fillna(0)\n",
    "    sel_data_stat['sum'] = sel_data_stat.sum(axis = 1)\n",
    "    sel_data_stat.loc['sum'] = sel_data_stat.sum(axis = 0)\n",
    "    return sel_data_stat"
   ]
  },
  {
   "cell_type": "code",
   "execution_count": 6,
   "metadata": {
    "ExecuteTime": {
     "end_time": "2018-12-29T01:41:08.318581Z",
     "start_time": "2018-12-29T01:41:08.101569Z"
    }
   },
   "outputs": [],
   "source": [
    "def save_model_report(filename, proj_name):\n",
    "    now = datetime.datetime.now().strftime(\"%Y-%m-%d %H:%S:%M\")\n",
    "    model_result = []\n",
    "    model_result.append(['项目-模型：', proj_name, '日期：', now])\n",
    "    model_result.append(['accuracy_score', metrics.accuracy_score(y_test, y_pred_class)])\n",
    "    classification_report = metrics.classification_report(y_test, y_pred_class)\n",
    "    lines = classification_report.split('\\n')\n",
    "    plot_data = []\n",
    "    for index, line in enumerate(lines):\n",
    "        t = line.strip().split()\n",
    "        if len(t) < 2: continue        \n",
    "        if index == 0:\n",
    "            plot_data.append([''] + t)   \n",
    "        elif index == len(lines) -2:\n",
    "            t = [float(v) if i > 2 else v for i, v in enumerate(t) ]\n",
    "            plot_data.append(['avg/total'] + t[3:])             \n",
    "        else :\n",
    "            t = [float(v) if i > 0 else v for i, v in enumerate(t)]\n",
    "            plot_data.append(t)\n",
    "    model_result = model_result + plot_data\n",
    "    \n",
    "    model_result.append(['confusion_matrix'])    \n",
    "    confusion_matrix = metrics.confusion_matrix(y_test, y_pred_class)\n",
    "    model_result = model_result + confusion_matrix.tolist()\n",
    "    \n",
    "    model_result = pd.DataFrame(model_result)\n",
    "    model_result.to_csv(filename, index = False, mode = 'a', encoding = 'utf-8')"
   ]
  },
  {
   "cell_type": "markdown",
   "metadata": {
    "collapsed": true
   },
   "source": [
    "# 保险业：1 八分类"
   ]
  },
  {
   "cell_type": "markdown",
   "metadata": {},
   "source": [
    "## 导入与分割数据"
   ]
  },
  {
   "cell_type": "code",
   "execution_count": 76,
   "metadata": {
    "ExecuteTime": {
     "end_time": "2018-12-21T09:02:12.360576Z",
     "start_time": "2018-12-21T09:02:08.592361Z"
    }
   },
   "outputs": [
    {
     "name": "stdout",
     "output_type": "stream",
     "text": [
      "title num:  26452\n",
      "['天安 销售 虚列费用 员工 发 福利 相关 负责人 被处罚', '泰康人寿 疑设 招聘 骗局 元 底薪 扣到 剩元']\n",
      "content num:  26452\n",
      "title_content num:  26452\n",
      "label num:  26452\n",
      "['公司内部管理', '公司内部管理', '公司内部管理', '公司内部管理', '公司内部管理']\n"
     ]
    }
   ],
   "source": [
    "cbrc_filepath_class = 'circ_result_class/corpus/'\n",
    "title_content, label, title, content = load_save_plot_file.title_content_label(cbrc_filepath_class)"
   ]
  },
  {
   "cell_type": "code",
   "execution_count": 77,
   "metadata": {
    "ExecuteTime": {
     "end_time": "2018-12-21T09:02:16.855833Z",
     "start_time": "2018-12-21T09:02:16.674823Z"
    }
   },
   "outputs": [
    {
     "data": {
      "text/plain": [
       "{1: '监管',\n",
       " 2: '行业',\n",
       " 3: '产品销售',\n",
       " 4: '资本市场',\n",
       " 5: '公司内部管理',\n",
       " 6: '消费服务',\n",
       " 7: '其他相关报道',\n",
       " 8: '噪音'}"
      ]
     },
     "execution_count": 77,
     "metadata": {},
     "output_type": "execute_result"
    }
   ],
   "source": [
    "label_dic={'监管':1,'行业':2,'产品销售':3,'资本市场':4,'公司内部管理':5,'消费服务':6,'其他相关报道':7,'噪音':8}\n",
    "class_name_dict = {v: k for k, v in label_dic.items()}\n",
    "class_name_dict"
   ]
  },
  {
   "cell_type": "code",
   "execution_count": 78,
   "metadata": {
    "ExecuteTime": {
     "end_time": "2018-12-21T09:02:20.700053Z",
     "start_time": "2018-12-21T09:02:20.544044Z"
    }
   },
   "outputs": [
    {
     "data": {
      "text/plain": [
       "[5, 5, 5, 5, 5]"
      ]
     },
     "execution_count": 78,
     "metadata": {},
     "output_type": "execute_result"
    }
   ],
   "source": [
    "label = [label_dic[l] for l in label]\n",
    "label[:5]"
   ]
  },
  {
   "cell_type": "code",
   "execution_count": 79,
   "metadata": {
    "ExecuteTime": {
     "end_time": "2018-12-21T09:02:36.684968Z",
     "start_time": "2018-12-21T09:02:36.488956Z"
    }
   },
   "outputs": [
    {
     "name": "stdout",
     "output_type": "stream",
     "text": [
      "训练集： 18516\n",
      "训练集-各类数量： Counter({8: 4828, 2: 2600, 5: 2396, 1: 2261, 6: 2241, 7: 1774, 4: 1430, 3: 986})\n",
      "测试集： 7936\n",
      "测试集-各类数量： Counter({8: 2062, 2: 1101, 5: 1017, 1: 1004, 6: 913, 7: 765, 4: 596, 3: 478})\n"
     ]
    }
   ],
   "source": [
    "X_train, X_test, y_train, y_test = train_test_split(title_content, label, test_size=0.3, random_state=42)\n",
    "print('训练集：',len(y_train))\n",
    "print('训练集-各类数量：',Counter(y_train))\n",
    "print('测试集：',len(y_test))\n",
    "print('测试集-各类数量：',Counter(y_test))"
   ]
  },
  {
   "cell_type": "markdown",
   "metadata": {},
   "source": [
    "## 生成词典"
   ]
  },
  {
   "cell_type": "code",
   "execution_count": 49,
   "metadata": {
    "ExecuteTime": {
     "end_time": "2018-12-21T07:00:34.155143Z",
     "start_time": "2018-12-21T06:44:09.120802Z"
    }
   },
   "outputs": [
    {
     "name": "stdout",
     "output_type": "stream",
     "text": [
      "class_label:  [1 2 3 4 5 6 7 8]\n",
      "\n",
      "依据类别生成关键词：\n",
      "['监管', '投资', '风险', '机构', '保险', '产品', '业务', '发展', '金融', '市场']\n",
      "keywords num:  500\n",
      "类别：1 -- 文本个数：3265，label个数:3265，取词个数：500\n",
      "['保险', '公司', '保险公司', '业务', '产品', '市场', '投资', '发展', '风险', '中国']\n",
      "keywords num:  500\n",
      "类别：2 -- 文本个数：3701，label个数:3701，取词个数：500\n",
      "['保险', '保障', '产品', '保费', '投保', '疾病', '保险公司', '客户', '服务', '保额']\n",
      "keywords num:  500\n",
      "类别：3 -- 文本个数：1464，label个数:1464，取词个数：500\n",
      "['市场', '公司', '投资', '板块', '资金', '中国', '股份', '个股', '保险', '指数']\n",
      "keywords num:  500\n",
      "类别：4 -- 文本个数：2026，label个数:2026，取词个数：500\n",
      "['公司', '保险', '业务', '服务', '发展', '罚款', '进行', '中国', '投资', '分公司']\n",
      "keywords num:  500\n",
      "类别：5 -- 文本个数：3413，label个数:3413，取词个数：500\n",
      "['理赔', '保险', '客户', '服务', '保险公司', '公司', '事故', '进行', '车辆', '发生']\n",
      "keywords num:  500\n",
      "类别：6 -- 文本个数：3154，label个数:3154，取词个数：500\n",
      "['保险', '活动', '公司', '分公司', '服务', '扶贫', '客户', '开展', '中国', '批复']\n",
      "keywords num:  500\n",
      "类别：7 -- 文本个数：2539，label个数:2539，取词个数：500\n",
      "['工作', '公司', '企业', '服务', '招聘', '要求', '相关', '项目', '进行', '市场']\n",
      "keywords num:  500\n",
      "类别：8 -- 文本个数：6890，label个数:6890，取词个数：500\n",
      "\n",
      "去除词（key_count_list）个数： 384\n",
      "词典词（key_dict）个数： 1624\n",
      "\n",
      "前后对比：去除超过阈值的词\n",
      "['理财产品', '规范', '意见', '银行业', '过渡期', '金融风险', '非标', '民营企业', '监管部门', '化解']\n",
      "类别：1 -- 去除前：500， 去除后：214\n",
      "['财险', '增速', '老年人', '抵押', '住房', '偿付能力', '亏损', '传统', '人身险', '罚款']\n",
      "类别：2 -- 去除前：500， 去除后：171\n",
      "['保额', '身故', '轻症', '豁免', '给付', '住院', '癌症', '治疗', '附加', '人生']\n",
      "类别：3 -- 去除前：500， 去除后：234\n",
      "['板块', '个股', '反弹', '上涨', '大盘', '持股', '下跌', '行情', '股市', '涨幅']\n",
      "类别：4 -- 去除前：500， 去除后：278\n",
      "['罚款', '行政处罚', '决定书', '当事人', '事实', '保险法', '总经理', '调查', '违反', '时任']\n",
      "类别：5 -- 去除前：500， 去除后：184\n",
      "['报案', '女士', '家属', '赔款', '先生', '法院', '治疗', '查勘', '身故', '生命']\n",
      "类别：6 -- 去除前：500， 去除后：256\n",
      "['批复', '请示', '公益', '之日起', '核准', '作出', '董事', '任命', '监事', '收到']\n",
      "类别：7 -- 去除前：500， 去除后：236\n",
      "['招聘', '报名', '招标', '岗位', '文件', '经验', '工资', '待遇', '缴费', '采购']\n",
      "类别：8 -- 去除前：500， 去除后：183\n",
      "['市民', '技能', '司法', '探索', '通关', '扩大', '中资', '关系', '低迷', '表达']\n",
      "len(keywords):  1240\n"
     ]
    }
   ],
   "source": [
    "g_k = generate_keywords(500)\n",
    "g_k.gen_keywords_by_class(title_content, label, v_thre = 3)"
   ]
  },
  {
   "cell_type": "code",
   "execution_count": 50,
   "metadata": {
    "ExecuteTime": {
     "end_time": "2018-12-21T07:00:38.547394Z",
     "start_time": "2018-12-21T07:00:38.356383Z"
    }
   },
   "outputs": [
    {
     "name": "stdout",
     "output_type": "stream",
     "text": [
      "file_path:  d:\\xh\\python_project\\tool\\toolkits\\nlp\\corpus\\keywords_i_circ.txt\n"
     ]
    }
   ],
   "source": [
    "g_k.save_txt('keywords_i_circ.txt')"
   ]
  },
  {
   "cell_type": "markdown",
   "metadata": {},
   "source": [
    "## train & test"
   ]
  },
  {
   "cell_type": "code",
   "execution_count": 51,
   "metadata": {
    "ExecuteTime": {
     "end_time": "2018-12-21T07:00:42.811638Z",
     "start_time": "2018-12-21T07:00:42.657629Z"
    },
    "collapsed": true
   },
   "outputs": [],
   "source": [
    "## 保存特征\n",
    "# pipeline = Pipeline([\n",
    "#     ('features', FeatureUnion([\n",
    "#         ('tf_idf', Pipeline([\n",
    "#             ('counts', CountVectorizer(max_df=0.95, min_df=2)),\n",
    "#             ('tf_idf', TfidfTransformer()),\n",
    "#             ('chi', SelectKBest(chi2, k=20000))\n",
    "#         ])),\n",
    "#         ('len_stats', myclass_circ.StatsFeatures_cor()),\n",
    "#         ('tf', myclass_circ.Statskeywords_cor(topk = 5000))\n",
    "#     ])),\n",
    "#     ('standard', StandardScaler(with_mean=False))\n",
    "# ])\n",
    "\n",
    "# pipeline_train = pipeline.fit(title_content, label)\n",
    "# X_features = pipeline_train.transform(title_content)\n",
    "# print(X_features.shape)\n",
    "\n",
    "# from sklearn.externals import joblib\n",
    "# joblib.dump(pipeline_train, \"model/circ_pipeline_20181105.pkl.z\")\n",
    "# joblib.dump(X_features, \"model/circ_features_20181105.pkl.z\")\n",
    "# joblib.dump(label, \"model/circ_labels_20181105.pkl.z\")"
   ]
  },
  {
   "cell_type": "code",
   "execution_count": 52,
   "metadata": {
    "ExecuteTime": {
     "end_time": "2018-12-21T07:00:47.120884Z",
     "start_time": "2018-12-21T07:00:46.959875Z"
    },
    "collapsed": true
   },
   "outputs": [],
   "source": [
    "# from sklearn.externals import joblib\n",
    "# pipeline_train = joblib.load( \"model/circ_pipeline_20181105.pkl.z\")\n",
    "\n",
    "# X_features_test = pipeline_train.transform(title_content)\n",
    "# print(X_features_test.shape)\n",
    "# print(len(label))\n",
    "\n",
    "# joblib.dump(X_features_test, \"model/circ_features_20181105_test.pkl.z\")\n",
    "# joblib.dump(label, \"model/circ_labels_20181105_test.pkl.z\")"
   ]
  },
  {
   "cell_type": "code",
   "execution_count": 53,
   "metadata": {
    "ExecuteTime": {
     "end_time": "2018-12-21T07:00:51.461133Z",
     "start_time": "2018-12-21T07:00:51.300123Z"
    },
    "collapsed": true
   },
   "outputs": [],
   "source": [
    "# from sklearn.externals import joblib\n",
    "# X_features = joblib.load( \"model/circ_features_20181105.pkl.z\")\n",
    "# label = joblib.load( \"model/circ_labels_20181105.pkl.z\")\n",
    "# print(X_features.shape)\n",
    "# print(len(label))\n",
    "\n",
    "# X_features = joblib.load( \"model/circ_features_20181105_test.pkl.z\")\n",
    "# label = joblib.load( \"model/circ_labels_20181105_test.pkl.z\")\n",
    "# print(X_features.shape)\n",
    "# print(len(label))"
   ]
  },
  {
   "cell_type": "code",
   "execution_count": 82,
   "metadata": {
    "ExecuteTime": {
     "end_time": "2018-12-21T09:03:00.516331Z",
     "start_time": "2018-12-21T09:03:00.343321Z"
    }
   },
   "outputs": [
    {
     "name": "stdout",
     "output_type": "stream",
     "text": [
      "d:\\xh\\python_project\\tool\\toolkits\\nlp\n"
     ]
    },
    {
     "data": {
      "text/plain": [
       "1240"
      ]
     },
     "execution_count": 82,
     "metadata": {},
     "output_type": "execute_result"
    }
   ],
   "source": [
    "a = myclass_circ.Statskeywords_cor(5000, 'circ')\n",
    "len(a.keywords)"
   ]
  },
  {
   "cell_type": "code",
   "execution_count": 55,
   "metadata": {
    "ExecuteTime": {
     "end_time": "2018-12-21T07:25:18.522044Z",
     "start_time": "2018-12-21T07:00:59.826611Z"
    }
   },
   "outputs": [
    {
     "name": "stdout",
     "output_type": "stream",
     "text": [
      "d:\\xh\\python_project\\tool\\toolkits\\nlp\n",
      "d:\\xh\\python_project\\tool\\toolkits\\nlp\n",
      "0.9760207388204796\n"
     ]
    },
    {
     "data": {
      "text/plain": [
       "Pipeline(memory=None,\n",
       "     steps=[('features', FeatureUnion(n_jobs=1,\n",
       "       transformer_list=[('tf_idf', Pipeline(memory=None,\n",
       "     steps=[('counts', CountVectorizer(analyzer='word', binary=False, decode_error='strict',\n",
       "        dtype=<class 'numpy.int64'>, encoding='utf-8', input='content',\n",
       "        lowercase=True, max_df=0.9...tate=0, reg_alpha=0, reg_lambda=1, scale_pos_weight=1,\n",
       "       seed=None, silent=True, subsample=1))])"
      ]
     },
     "execution_count": 55,
     "metadata": {},
     "output_type": "execute_result"
    }
   ],
   "source": [
    "pipeline = Pipeline([\n",
    "    ('features', FeatureUnion([\n",
    "        ('tf_idf', Pipeline([\n",
    "            ('counts', CountVectorizer(max_df=0.95, min_df=2)),\n",
    "            ('tf_idf', TfidfTransformer()),\n",
    "            ('chi', SelectKBest(chi2, k=20000))\n",
    "        ])),\n",
    "        ('len_stats', myclass_circ.StatsFeatures_cor()),\n",
    "        ('tf', myclass_circ.Statskeywords_cor(topk = 5000,types = 'circ'))\n",
    "    ])),\n",
    "    ('standard', StandardScaler(with_mean=False)),\n",
    "    ('classifier', XGBClassifier(max_depth=7,objective='multi:softmax', num_class=8))\n",
    "])\n",
    "\n",
    "pipeline.fit(X_train, y_train)\n",
    "print(pipeline.score(X_train, y_train))\n",
    "pipeline"
   ]
  },
  {
   "cell_type": "code",
   "execution_count": 56,
   "metadata": {
    "ExecuteTime": {
     "end_time": "2018-12-21T07:25:41.597364Z",
     "start_time": "2018-12-21T07:25:22.946297Z"
    }
   },
   "outputs": [
    {
     "name": "stdout",
     "output_type": "stream",
     "text": [
      "accuracy_score:  0.8293850806451613\n",
      "             precision    recall  f1-score   support\n",
      "\n",
      "          1       0.80      0.86      0.83      1004\n",
      "          2       0.80      0.82      0.81      1101\n",
      "          3       0.86      0.73      0.79       478\n",
      "          4       0.88      0.84      0.86       596\n",
      "          5       0.79      0.82      0.80      1017\n",
      "          6       0.80      0.85      0.83       913\n",
      "          7       0.87      0.84      0.86       765\n",
      "          8       0.86      0.83      0.85      2062\n",
      "\n",
      "avg / total       0.83      0.83      0.83      7936\n",
      "\n",
      "confusion_matrix: \n",
      "[[ 866   48    1    2    9    3    4   71]\n",
      " [  47  905   14   14   40   29   13   39]\n",
      " [   2   21  347    2   24   40   12   30]\n",
      " [   7   16    0  500   34    5    1   33]\n",
      " [   7   67    5   16  830   42   20   30]\n",
      " [   6   25   14    2   33  779   14   40]\n",
      " [  14   17    2    0   36   19  645   32]\n",
      " [ 133   37   22   33   46   51   30 1710]]\n"
     ]
    }
   ],
   "source": [
    "y_pred_class = pipeline.predict(X_test)\n",
    "print('accuracy_score: ', metrics.accuracy_score(y_test, y_pred_class)) # 指所有分类正确的百分比\n",
    "print(metrics.classification_report(y_test, y_pred_class))\n",
    "print('confusion_matrix: ')\n",
    "print( metrics.confusion_matrix(y_test, y_pred_class))\n",
    "\n",
    "filename = 'statistics_result/CIRC_class_model_report.csv'\n",
    "save_model_report(filename, 'CIRC_class_model_report')"
   ]
  },
  {
   "cell_type": "markdown",
   "metadata": {},
   "source": [
    "### 不平衡数据处理"
   ]
  },
  {
   "cell_type": "code",
   "execution_count": null,
   "metadata": {},
   "outputs": [],
   "source": [
    "from imblearn.under_sampling import NearMiss\n",
    "from imblearn.pipeline import make_pipeline\n",
    "from imblearn.metrics import classification_report_imbalanced"
   ]
  },
  {
   "cell_type": "code",
   "execution_count": null,
   "metadata": {},
   "outputs": [],
   "source": [
    "## 保存特征\n",
    "pipeline = Pipeline([\n",
    "    ('features', FeatureUnion([\n",
    "        ('tf_idf', Pipeline([\n",
    "            ('counts', CountVectorizer(max_df=0.95, min_df=2)),\n",
    "            ('tf_idf', TfidfTransformer()),\n",
    "            ('chi', SelectKBest(chi2, k=20000))\n",
    "        ])),\n",
    "        ('len_stats', myclass_circ.StatsFeatures_cor()),\n",
    "        ('tf', myclass_circ.Statskeywords_cor(topk = 5000,types = 'circ'))\n",
    "    ])),\n",
    "    ('standard', StandardScaler(with_mean=False)),\n",
    "])\n",
    "\n",
    "pipeline_feature = pipeline.fit(X_train, y_train)\n",
    "X_features = pipeline_train.transform(X_train)\n",
    "print(X_features.shape)\n",
    "\n",
    "# pipeline_train = pipeline.fit(title_content, label)\n",
    "# X_features = pipeline_train.transform(title_content)\n",
    "# print(X_features.shape)\n",
    "\n",
    "# from sklearn.externals import joblib\n",
    "# joblib.dump(pipeline_train, \"model/circ_pipeline_20181105.pkl.z\")\n",
    "# joblib.dump(X_features, \"model/circ_features_20181105.pkl.z\")\n",
    "# joblib.dump(label, \"model/circ_labels_20181105.pkl.z\")"
   ]
  },
  {
   "cell_type": "code",
   "execution_count": null,
   "metadata": {},
   "outputs": [],
   "source": [
    "clf = make_pipeline(NearMiss(),\n",
    "                    XGBClassifier(max_depth=7,objective='multi:softmax', num_class=2))\n",
    "\n",
    "clf.fit(X_features, y_train)\n",
    "print(clf.score(X_features, y_train))\n",
    "clf"
   ]
  },
  {
   "cell_type": "code",
   "execution_count": null,
   "metadata": {},
   "outputs": [],
   "source": [
    "y_pred_class = clf.predict(pipeline_train.transform(X_test))\n",
    "print('accuracy_score: ', metrics.accuracy_score(y_test, y_pred_class)) # 指所有分类正确的百分比\n",
    "print(metrics.classification_report(y_test, y_pred_class))\n",
    "print('confusion_matrix: ')\n",
    "print( metrics.confusion_matrix(y_test, y_pred_class))"
   ]
  },
  {
   "cell_type": "markdown",
   "metadata": {},
   "source": [
    "## 概率结果"
   ]
  },
  {
   "cell_type": "code",
   "execution_count": 57,
   "metadata": {
    "ExecuteTime": {
     "end_time": "2018-12-21T07:26:05.248716Z",
     "start_time": "2018-12-21T07:25:45.821605Z"
    }
   },
   "outputs": [
    {
     "data": {
      "text/plain": [
       "<matplotlib.axes._subplots.AxesSubplot at 0x27fcc3c8>"
      ]
     },
     "execution_count": 57,
     "metadata": {},
     "output_type": "execute_result"
    },
    {
     "data": {
      "image/png": "[encoded data removed]",
      "text/plain": [
       "<matplotlib.figure.Figure at 0x802c6a0>"
      ]
     },
     "metadata": {},
     "output_type": "display_data"
    }
   ],
   "source": [
    "y_pred_prob = pipeline.predict_proba(X_test)\n",
    "pd.DataFrame(y_pred_prob.max(axis = 1)).plot.hist(bins = 100)"
   ]
  },
  {
   "cell_type": "code",
   "execution_count": 58,
   "metadata": {
    "ExecuteTime": {
     "end_time": "2018-12-21T07:26:10.800034Z",
     "start_time": "2018-12-21T07:26:09.403954Z"
    }
   },
   "outputs": [
    {
     "data": {
      "text/html": [
       "<div>\n",
       "<style scoped>\n",
       "    .dataframe tbody tr th:only-of-type {\n",
       "        vertical-align: middle;\n",
       "    }\n",
       "\n",
       "    .dataframe tbody tr th {\n",
       "        vertical-align: top;\n",
       "    }\n",
       "\n",
       "    .dataframe thead th {\n",
       "        text-align: right;\n",
       "    }\n",
       "</style>\n",
       "<table border=\"1\" class=\"dataframe\">\n",
       "  <thead>\n",
       "    <tr style=\"text-align: right;\">\n",
       "      <th>proba</th>\n",
       "      <th>0.2</th>\n",
       "      <th>0.3</th>\n",
       "      <th>0.4</th>\n",
       "      <th>0.5</th>\n",
       "      <th>0.6</th>\n",
       "      <th>0.7</th>\n",
       "      <th>0.8</th>\n",
       "      <th>0.9</th>\n",
       "      <th>1.0</th>\n",
       "      <th>sum</th>\n",
       "    </tr>\n",
       "    <tr>\n",
       "      <th>predict_label</th>\n",
       "      <th></th>\n",
       "      <th></th>\n",
       "      <th></th>\n",
       "      <th></th>\n",
       "      <th></th>\n",
       "      <th></th>\n",
       "      <th></th>\n",
       "      <th></th>\n",
       "      <th></th>\n",
       "      <th></th>\n",
       "    </tr>\n",
       "  </thead>\n",
       "  <tbody>\n",
       "    <tr>\n",
       "      <th>1</th>\n",
       "      <td>0.0</td>\n",
       "      <td>5.0</td>\n",
       "      <td>34.0</td>\n",
       "      <td>102.0</td>\n",
       "      <td>119.0</td>\n",
       "      <td>126.0</td>\n",
       "      <td>179.0</td>\n",
       "      <td>291.0</td>\n",
       "      <td>226.0</td>\n",
       "      <td>1082.0</td>\n",
       "    </tr>\n",
       "    <tr>\n",
       "      <th>2</th>\n",
       "      <td>3.0</td>\n",
       "      <td>26.0</td>\n",
       "      <td>73.0</td>\n",
       "      <td>89.0</td>\n",
       "      <td>114.0</td>\n",
       "      <td>110.0</td>\n",
       "      <td>141.0</td>\n",
       "      <td>299.0</td>\n",
       "      <td>281.0</td>\n",
       "      <td>1136.0</td>\n",
       "    </tr>\n",
       "    <tr>\n",
       "      <th>3</th>\n",
       "      <td>3.0</td>\n",
       "      <td>17.0</td>\n",
       "      <td>30.0</td>\n",
       "      <td>32.0</td>\n",
       "      <td>36.0</td>\n",
       "      <td>37.0</td>\n",
       "      <td>57.0</td>\n",
       "      <td>101.0</td>\n",
       "      <td>92.0</td>\n",
       "      <td>405.0</td>\n",
       "    </tr>\n",
       "    <tr>\n",
       "      <th>4</th>\n",
       "      <td>0.0</td>\n",
       "      <td>10.0</td>\n",
       "      <td>25.0</td>\n",
       "      <td>29.0</td>\n",
       "      <td>42.0</td>\n",
       "      <td>51.0</td>\n",
       "      <td>61.0</td>\n",
       "      <td>152.0</td>\n",
       "      <td>199.0</td>\n",
       "      <td>569.0</td>\n",
       "    </tr>\n",
       "    <tr>\n",
       "      <th>5</th>\n",
       "      <td>13.0</td>\n",
       "      <td>38.0</td>\n",
       "      <td>76.0</td>\n",
       "      <td>103.0</td>\n",
       "      <td>99.0</td>\n",
       "      <td>114.0</td>\n",
       "      <td>133.0</td>\n",
       "      <td>209.0</td>\n",
       "      <td>267.0</td>\n",
       "      <td>1052.0</td>\n",
       "    </tr>\n",
       "    <tr>\n",
       "      <th>6</th>\n",
       "      <td>2.0</td>\n",
       "      <td>35.0</td>\n",
       "      <td>42.0</td>\n",
       "      <td>58.0</td>\n",
       "      <td>72.0</td>\n",
       "      <td>84.0</td>\n",
       "      <td>122.0</td>\n",
       "      <td>221.0</td>\n",
       "      <td>332.0</td>\n",
       "      <td>968.0</td>\n",
       "    </tr>\n",
       "    <tr>\n",
       "      <th>7</th>\n",
       "      <td>4.0</td>\n",
       "      <td>18.0</td>\n",
       "      <td>43.0</td>\n",
       "      <td>45.0</td>\n",
       "      <td>46.0</td>\n",
       "      <td>52.0</td>\n",
       "      <td>70.0</td>\n",
       "      <td>145.0</td>\n",
       "      <td>316.0</td>\n",
       "      <td>739.0</td>\n",
       "    </tr>\n",
       "    <tr>\n",
       "      <th>8</th>\n",
       "      <td>8.0</td>\n",
       "      <td>32.0</td>\n",
       "      <td>78.0</td>\n",
       "      <td>162.0</td>\n",
       "      <td>124.0</td>\n",
       "      <td>121.0</td>\n",
       "      <td>130.0</td>\n",
       "      <td>354.0</td>\n",
       "      <td>976.0</td>\n",
       "      <td>1985.0</td>\n",
       "    </tr>\n",
       "    <tr>\n",
       "      <th>sum</th>\n",
       "      <td>33.0</td>\n",
       "      <td>181.0</td>\n",
       "      <td>401.0</td>\n",
       "      <td>620.0</td>\n",
       "      <td>652.0</td>\n",
       "      <td>695.0</td>\n",
       "      <td>893.0</td>\n",
       "      <td>1772.0</td>\n",
       "      <td>2689.0</td>\n",
       "      <td>7936.0</td>\n",
       "    </tr>\n",
       "  </tbody>\n",
       "</table>\n",
       "</div>"
      ],
      "text/plain": [
       "proba           0.2    0.3    0.4    0.5    0.6    0.7    0.8     0.9     1.0  \\\n",
       "predict_label                                                                   \n",
       "1               0.0    5.0   34.0  102.0  119.0  126.0  179.0   291.0   226.0   \n",
       "2               3.0   26.0   73.0   89.0  114.0  110.0  141.0   299.0   281.0   \n",
       "3               3.0   17.0   30.0   32.0   36.0   37.0   57.0   101.0    92.0   \n",
       "4               0.0   10.0   25.0   29.0   42.0   51.0   61.0   152.0   199.0   \n",
       "5              13.0   38.0   76.0  103.0   99.0  114.0  133.0   209.0   267.0   \n",
       "6               2.0   35.0   42.0   58.0   72.0   84.0  122.0   221.0   332.0   \n",
       "7               4.0   18.0   43.0   45.0   46.0   52.0   70.0   145.0   316.0   \n",
       "8               8.0   32.0   78.0  162.0  124.0  121.0  130.0   354.0   976.0   \n",
       "sum            33.0  181.0  401.0  620.0  652.0  695.0  893.0  1772.0  2689.0   \n",
       "\n",
       "proba             sum  \n",
       "predict_label          \n",
       "1              1082.0  \n",
       "2              1136.0  \n",
       "3               405.0  \n",
       "4               569.0  \n",
       "5              1052.0  \n",
       "6               968.0  \n",
       "7               739.0  \n",
       "8              1985.0  \n",
       "sum            7936.0  "
      ]
     },
     "execution_count": 58,
     "metadata": {},
     "output_type": "execute_result"
    },
    {
     "data": {
      "image/png": "[encoded data removed]",
      "text/plain": [
       "<matplotlib.figure.Figure at 0x317c2978>"
      ]
     },
     "metadata": {},
     "output_type": "display_data"
    }
   ],
   "source": [
    "sel_data_stat = plot_class_proba(y_pred_class, y_pred_prob.max(axis = 1))\n",
    "sel_data_stat"
   ]
  },
  {
   "cell_type": "markdown",
   "metadata": {},
   "source": [
    "## K-fold"
   ]
  },
  {
   "cell_type": "code",
   "execution_count": null,
   "metadata": {
    "ExecuteTime": {
     "start_time": "2018-09-19T02:37:15.664Z"
    }
   },
   "outputs": [
    {
     "name": "stdout",
     "output_type": "stream",
     "text": [
      "d:\\xh\\python_project\\tool\\toolkits\\nlp\n",
      "d:\\xh\\python_project\\tool\\toolkits\\nlp\n",
      "data_raw:  (18022, 5)\n",
      "---- 1\n",
      "0.9890407158215995\n",
      "accuracy_score:  0.860748959778086\n",
      "             precision    recall  f1-score   support\n",
      "\n",
      "          1       0.82      0.83      0.83       431\n",
      "          2       0.84      0.85      0.84       487\n",
      "          3       0.89      0.73      0.80       187\n",
      "          4       0.90      0.80      0.85       244\n",
      "          5       0.80      0.85      0.83       456\n",
      "          6       0.90      0.93      0.91       388\n",
      "          7       0.91      0.83      0.86       382\n",
      "          8       0.87      0.90      0.89      1030\n",
      "\n",
      "avg / total       0.86      0.86      0.86      3605\n",
      "\n",
      "confusion_matrix: \n",
      "[[358  22   0   1   5   0   1  44]\n",
      " [ 18 416   2   2  16   7   3  23]\n",
      " [  1   7 136   0  16  13   3  11]\n",
      " [  7   8   0 196  12   0   0  21]\n",
      " [  4  27   3   3 389   8  11  11]\n",
      " [  1   2   1   0   6 361   6  11]\n",
      " [  7   8   4   1  25   7 316  14]\n",
      " [ 39   8   7  14  15   7   9 931]]\n",
      "---- 2\n",
      "0.9900117916348755\n",
      "accuracy_score:  0.8649098474341192\n",
      "             precision    recall  f1-score   support\n",
      "\n",
      "          1       0.85      0.86      0.86       433\n",
      "          2       0.81      0.84      0.83       480\n",
      "          3       0.89      0.80      0.85       204\n",
      "          4       0.91      0.81      0.86       278\n",
      "          5       0.82      0.82      0.82       426\n",
      "          6       0.88      0.93      0.91       355\n",
      "          7       0.90      0.87      0.88       389\n",
      "          8       0.88      0.90      0.89      1040\n",
      "\n",
      "avg / total       0.87      0.86      0.86      3605\n",
      "\n",
      "confusion_matrix: \n",
      "[[373  21   1   0   1   0   4  33]\n",
      " [ 16 403   4   3  14  10   4  26]\n",
      " [  0  11 164   0   6  11   2  10]\n",
      " [  6  12   0 226  14   1   0  19]\n",
      " [  3  22   7   5 350  10  12  17]\n",
      " [  3   4   3   0   5 331   5   4]\n",
      " [  2   4   0   1  20   7 338  17]\n",
      " [ 34  18   5  13  19   6  12 933]]\n",
      "---- 3\n"
     ]
    }
   ],
   "source": [
    "pipeline = Pipeline([\n",
    "    ('features', FeatureUnion([\n",
    "        ('tf_idf', Pipeline([\n",
    "            ('counts', CountVectorizer(max_df=0.95, min_df=2)),\n",
    "            ('tf_idf', TfidfTransformer()),\n",
    "            ('chi', SelectKBest(chi2, k=20000))\n",
    "        ])),\n",
    "        ('len_stats', myclass_circ.StatsFeatures_cor()),\n",
    "        ('tf', myclass_circ.Statskeywords_cor(topk = 5000))\n",
    "    ])),\n",
    "    ('standard', StandardScaler(with_mean=False)),\n",
    "    ('classifier', XGBClassifier(max_depth=7,objective='multi:softmax', num_class=8))\n",
    "])\n",
    "\n",
    "filename = 'circ_class_label_proba_20181008.xlsx'\n",
    "cal_kfold(title_content, label, pipeline, 'circ_result_class', filename, class_name_dict)"
   ]
  },
  {
   "cell_type": "code",
   "execution_count": null,
   "metadata": {
    "ExecuteTime": {
     "start_time": "2018-09-19T02:37:27.493Z"
    },
    "collapsed": true
   },
   "outputs": [],
   "source": [
    "import xlrd\n",
    "\n",
    "kfold_result = pd.DataFrame()\n",
    "\n",
    "currentPath  = 'circ_result_class/corpus/circ_class_label_proba_20181008.xlsx'\n",
    "excel = xlrd.open_workbook(currentPath)\n",
    "sheet_names = [sheet.name for sheet in excel.sheets()]\n",
    "for sheet_name in sheet_names:   \n",
    "    tmp_data = pd.read_excel(currentPath, sheet_name)     \n",
    "    kfold_result = pd.concat([kfold_result, tmp_data], axis = 0)\n",
    "\n",
    "kfold_result.index = range(kfold_result.shape[0])\n",
    "kfold_result.insert(0, '备注', '')\n",
    "print('总数：', kfold_result.shape)\n",
    "# kfold_result.head()"
   ]
  },
  {
   "cell_type": "code",
   "execution_count": null,
   "metadata": {
    "ExecuteTime": {
     "start_time": "2018-09-19T02:39:45.140Z"
    },
    "collapsed": true
   },
   "outputs": [],
   "source": [
    "K_S_sel = kfold_result[(kfold_result['predict_proba'] < 0.65) | (kfold_result['R_W'] == 'Wrong')]\n",
    "K_S_else = kfold_result[~((kfold_result['predict_proba'] < 0.65) | (kfold_result['R_W'] == 'Wrong'))]\n",
    "print(kfold_result.shape)\n",
    "print(K_S_else.shape)\n",
    "print(K_S_sel.shape)\n",
    "K_S_sel.groupby(['R_W', 'predict_label'])['label'].count()"
   ]
  },
  {
   "cell_type": "code",
   "execution_count": null,
   "metadata": {
    "collapsed": true
   },
   "outputs": [],
   "source": [
    "fea_filename = 'cbrc_result_class/result/20181008_circ_class_sel.xlsx'\n",
    "with pd.ExcelWriter(fea_filename) as writer:\n",
    "    for label in K_S_sel['predict_label'].unique():\n",
    "        tmp_data = K_S_sel[K_S_sel['predict_label'] == label]\n",
    "        N = tmp_data.shape[0]\n",
    "        tmp_data.sample(n = N, axis = 0, random_state=42).to_excel(writer,label, index = False)    \n",
    "    writer.save()\n",
    "    \n",
    "fea_filename = 'cbrc_result_class/result/20181008_circ_class_else.xlsx'\n",
    "with pd.ExcelWriter(fea_filename) as writer:\n",
    "    for label in K_S_else['predict_label'].unique():\n",
    "        tmp_data = K_S_else[K_S_else['predict_label'] == label]\n",
    "        N = tmp_data.shape[0]\n",
    "        tmp_data.sample(n = N, axis = 0, random_state=42).to_excel(writer,label, index = False)    \n",
    "    writer.save()    "
   ]
  },
  {
   "cell_type": "code",
   "execution_count": null,
   "metadata": {
    "ExecuteTime": {
     "start_time": "2018-09-19T02:39:51.232Z"
    },
    "collapsed": true
   },
   "outputs": [],
   "source": [
    "y_test = kfold_result['predict_label'].tolist()\n",
    "y_pred_class = kfold_result['label'].tolist()\n",
    "print('accuracy_score: ', metrics.accuracy_score(y_test, y_pred_class)) # 指所有分类正确的百分比\n",
    "print(metrics.classification_report(y_test, y_pred_class))\n",
    "print('confusion_matrix: ')\n",
    "print( metrics.confusion_matrix(y_test, y_pred_class))"
   ]
  },
  {
   "cell_type": "code",
   "execution_count": null,
   "metadata": {
    "ExecuteTime": {
     "start_time": "2018-09-19T02:39:51.922Z"
    },
    "collapsed": true
   },
   "outputs": [],
   "source": [
    "y_pred_prob = kfold_result['predict_proba'].tolist()\n",
    "\n",
    "sel_data_stat = plot_class_proba(y_pred_class, y_pred_prob)\n",
    "sel_data_stat"
   ]
  },
  {
   "cell_type": "markdown",
   "metadata": {},
   "source": [
    "## 保存模型"
   ]
  },
  {
   "cell_type": "code",
   "execution_count": 83,
   "metadata": {
    "ExecuteTime": {
     "end_time": "2018-12-21T09:42:14.673981Z",
     "start_time": "2018-12-21T09:03:13.769089Z"
    }
   },
   "outputs": [
    {
     "name": "stdout",
     "output_type": "stream",
     "text": [
      "d:\\xh\\python_project\\tool\\toolkits\\nlp\n",
      "d:\\xh\\python_project\\tool\\toolkits\\nlp\n",
      "0.9651444125207924\n"
     ]
    },
    {
     "data": {
      "text/plain": [
       "Pipeline(memory=None,\n",
       "     steps=[('features', FeatureUnion(n_jobs=1,\n",
       "       transformer_list=[('tf_idf', Pipeline(memory=None,\n",
       "     steps=[('counts', CountVectorizer(analyzer='word', binary=False, decode_error='strict',\n",
       "        dtype=<class 'numpy.int64'>, encoding='utf-8', input='content',\n",
       "        lowercase=True, max_df=0.9...tate=0, reg_alpha=0, reg_lambda=1, scale_pos_weight=1,\n",
       "       seed=None, silent=True, subsample=1))])"
      ]
     },
     "execution_count": 83,
     "metadata": {},
     "output_type": "execute_result"
    }
   ],
   "source": [
    "pipeline = Pipeline([\n",
    "    ('features', FeatureUnion([\n",
    "        ('tf_idf', Pipeline([\n",
    "            ('counts', CountVectorizer(max_df=0.95, min_df=2)),\n",
    "            ('tf_idf', TfidfTransformer()),\n",
    "            ('chi', SelectKBest(chi2, k=20000))\n",
    "        ])),\n",
    "        ('len_stats', myclass_circ.StatsFeatures_cor()),\n",
    "        ('tf', myclass_circ.Statskeywords_cor(topk = 5000, types = 'circ'))\n",
    "    ])),\n",
    "    ('standard', StandardScaler(with_mean=False)),\n",
    "    ('classifier', XGBClassifier(max_depth=7,objective='multi:softmax', num_class=8))\n",
    "])\n",
    "\n",
    "pipeline.fit(title_content, label)\n",
    "print(pipeline.score(title_content, label))\n",
    "pipeline"
   ]
  },
  {
   "cell_type": "code",
   "execution_count": 84,
   "metadata": {
    "ExecuteTime": {
     "end_time": "2018-12-21T09:42:36.926254Z",
     "start_time": "2018-12-21T09:42:22.446425Z"
    }
   },
   "outputs": [
    {
     "data": {
      "text/plain": [
       "['model/circ_8classifier_1221.pkl.z']"
      ]
     },
     "execution_count": 84,
     "metadata": {},
     "output_type": "execute_result"
    }
   ],
   "source": [
    "from sklearn.externals import joblib\n",
    "joblib.dump(pipeline, \"model/circ_8classifier_1221.pkl.z\")"
   ]
  },
  {
   "cell_type": "markdown",
   "metadata": {
    "collapsed": true
   },
   "source": [
    "# 保险业--中国人寿：1 广发银行"
   ]
  },
  {
   "cell_type": "markdown",
   "metadata": {},
   "source": [
    "## 导入与分割数据"
   ]
  },
  {
   "cell_type": "code",
   "execution_count": 31,
   "metadata": {
    "ExecuteTime": {
     "end_time": "2018-12-24T03:51:44.090443Z",
     "start_time": "2018-12-24T03:51:42.564355Z"
    }
   },
   "outputs": [
    {
     "name": "stdout",
     "output_type": "stream",
     "text": [
      "title num:  26636\n",
      "['天安 销售 虚列费用 员工 发 福利 相关 负责人 被处罚', '泰康人寿 疑设 招聘 骗局 元 底薪 扣到 剩元']\n",
      "content num:  26636\n",
      "title_content num:  26636\n",
      "label num:  26636\n",
      "['公司内部管理', '公司内部管理', '公司内部管理', '公司内部管理', '公司内部管理']\n"
     ]
    }
   ],
   "source": [
    "cbrc_filepath_class = 'clic_result_class/corpus/'\n",
    "title_content, label, title, content = load_save_plot_file.title_content_label(cbrc_filepath_class)"
   ]
  },
  {
   "cell_type": "code",
   "execution_count": 32,
   "metadata": {
    "ExecuteTime": {
     "end_time": "2018-12-24T03:51:48.617701Z",
     "start_time": "2018-12-24T03:51:48.347686Z"
    }
   },
   "outputs": [
    {
     "data": {
      "text/plain": [
       "{1: '监管',\n",
       " 2: '行业',\n",
       " 3: '产品销售',\n",
       " 4: '资本市场',\n",
       " 5: '公司内部管理',\n",
       " 6: '消费服务',\n",
       " 7: '其他相关报道',\n",
       " 8: '噪音',\n",
       " 9: '交通',\n",
       " 10: '环保'}"
      ]
     },
     "execution_count": 32,
     "metadata": {},
     "output_type": "execute_result"
    }
   ],
   "source": [
    "label_dic={'监管':1,'行业':2,'产品销售':3,'资本市场':4,'公司内部管理':5,'消费服务':6,\n",
    "           '其他相关报道':7,'噪音':8,'交通':9,'环保':10}\n",
    "class_name_dict = {v: k for k, v in label_dic.items()}\n",
    "class_name_dict"
   ]
  },
  {
   "cell_type": "code",
   "execution_count": 33,
   "metadata": {
    "ExecuteTime": {
     "end_time": "2018-12-24T03:51:52.959950Z",
     "start_time": "2018-12-24T03:51:52.749938Z"
    }
   },
   "outputs": [
    {
     "data": {
      "text/plain": [
       "[5, 5, 5, 5, 5]"
      ]
     },
     "execution_count": 33,
     "metadata": {},
     "output_type": "execute_result"
    }
   ],
   "source": [
    "label = [label_dic[l] for l in label]\n",
    "label[:5]"
   ]
  },
  {
   "cell_type": "code",
   "execution_count": 34,
   "metadata": {
    "ExecuteTime": {
     "end_time": "2018-12-24T03:51:57.309199Z",
     "start_time": "2018-12-24T03:51:57.076185Z"
    }
   },
   "outputs": [
    {
     "name": "stdout",
     "output_type": "stream",
     "text": [
      "训练集： 18645\n",
      "训练集-各类数量： Counter({8: 4850, 2: 2643, 5: 2470, 1: 2240, 6: 2219, 7: 1776, 4: 1443, 3: 1004})\n",
      "测试集： 7991\n",
      "测试集-各类数量： Counter({8: 2059, 2: 1133, 1: 1030, 5: 999, 6: 945, 7: 774, 4: 588, 3: 463})\n"
     ]
    }
   ],
   "source": [
    "X_train, X_test, y_train, y_test = train_test_split(title_content, label, test_size=0.3, random_state=42)\n",
    "print('训练集：',len(y_train))\n",
    "print('训练集-各类数量：',Counter(y_train))\n",
    "print('测试集：',len(y_test))\n",
    "print('测试集-各类数量：',Counter(y_test))"
   ]
  },
  {
   "cell_type": "markdown",
   "metadata": {},
   "source": [
    "## 生成词典"
   ]
  },
  {
   "cell_type": "code",
   "execution_count": 36,
   "metadata": {
    "ExecuteTime": {
     "end_time": "2018-12-20T06:24:24.919848Z",
     "start_time": "2018-12-20T06:08:24.429911Z"
    }
   },
   "outputs": [
    {
     "name": "stdout",
     "output_type": "stream",
     "text": [
      "class_label:  [1 2 3 4 5 6 7 8]\n",
      "\n",
      "依据类别生成关键词：\n",
      "['监管', '风险', '投资', '银行', '金融', '机构', '管理', '产品', '业务', '发展']\n",
      "keywords num:  500\n",
      "类别：1 -- 文本个数：3270，label个数:3270，取词个数：500\n",
      "['公司', '保险公司', '中国', '保费', '业务', '产品', '市场', '风险', '投资', '人寿']\n",
      "keywords num:  500\n",
      "类别：2 -- 文本个数：3776，label个数:3776，取词个数：500\n",
      "['保障', '产品', '保费', '疾病', '投保', '保险', '保险公司', '客户', '服务', '中国']\n",
      "keywords num:  500\n",
      "类别：3 -- 文本个数：1467，label个数:1467，取词个数：500\n",
      "['中国', '市场', '公司', '板块', '投资', '资金', '股份', '个股', '银行', '指数']\n",
      "keywords num:  500\n",
      "类别：4 -- 文本个数：2031，label个数:2031，取词个数：500\n",
      "['公司', '中国', '业务', '有限公司', '人寿', '保险', '服务', '财险', '发展', '罚款']\n",
      "keywords num:  500\n",
      "类别：5 -- 文本个数：3469，label个数:3469，取词个数：500\n",
      "['理赔', '客户', '人寿', '服务', '保险公司', '公司', '事故', '保险', '中国', '分公司']\n",
      "keywords num:  500\n",
      "类别：6 -- 文本个数：3164，label个数:3164，取词个数：500\n",
      "['活动', '公司', '中国', '分公司', '人寿', '有限公司', '服务', '扶贫', '客户', '股份']\n",
      "keywords num:  500\n",
      "类别：7 -- 文本个数：2550，label个数:2550，取词个数：500\n",
      "['工作', '公司', '企业', '中国', '服务', '招聘', '项目', '管理', '银行', '市场']\n",
      "keywords num:  500\n",
      "类别：8 -- 文本个数：6909，label个数:6909，取词个数：500\n",
      "\n",
      "去除词（key_count_list）个数： 371\n",
      "词典词（key_dict）个数： 1650\n",
      "\n",
      "前后对比：去除超过阈值的词\n",
      "['银行业', '监督管理', '过渡期', '金融风险', '加快', '意见', '非标', '化解', '民营企业', '整治']\n",
      "类别：1 -- 去除前：500， 去除后：219\n",
      "['抵押', '老年人', '住房', '反向', '下滑', '人身险', '亏损', '净利润', '罚款', '房子']\n",
      "类别：2 -- 去除前：500， 去除后：172\n",
      "['保额', '疾险', '身故', '豁免', '轻症', '住院', '癌症', '治疗', '附加', '医疗险']\n",
      "类别：3 -- 去除前：500， 去除后：245\n",
      "['个股', '反弹', '上涨', '大盘', '持股', '下跌', '股市', '行情', '涨幅', '震荡']\n",
      "类别：4 -- 去除前：500， 去除后：284\n",
      "['罚款', '行政处罚', '决定书', '当事人', '事实', '违反', '充足率', '收到', '之日起', '给予']\n",
      "类别：5 -- 去除前：500， 去除后：190\n",
      "['报案', '女士', '家属', '赔款', '法院', '查勘', '保额', '治疗', '驾驶', '工作人员']\n",
      "类别：6 -- 去除前：500， 去除后：274\n",
      "['收悉', '批复', '收到', '管理人员', '作出', '监事', '公益', '董事', '捐赠', '健步']\n",
      "类别：7 -- 去除前：500， 去除后：245\n",
      "['招聘', '报名', '招标', '岗位', '资格', '待遇', '工资', '缴费', '采购', '投标']\n",
      "类别：8 -- 去除前：500， 去除后：200\n",
      "['背景', '值得', '历史', '受损', '边际', '人数', '互助', '火灾', '公益', '人才']\n",
      "len(keywords):  1279\n"
     ]
    }
   ],
   "source": [
    "g_k = generate_keywords(500)\n",
    "g_k.gen_keywords_by_class(title_content, label, v_thre = 3)"
   ]
  },
  {
   "cell_type": "code",
   "execution_count": 37,
   "metadata": {
    "ExecuteTime": {
     "end_time": "2018-12-20T06:24:27.646003Z",
     "start_time": "2018-12-20T06:24:27.497995Z"
    }
   },
   "outputs": [
    {
     "name": "stdout",
     "output_type": "stream",
     "text": [
      "file_path:  d:\\xh\\python_project\\tool\\toolkits\\nlp\\corpus\\keywords_i_clic.txt\n"
     ]
    }
   ],
   "source": [
    "g_k.save_txt('keywords_i_clic.txt')"
   ]
  },
  {
   "cell_type": "markdown",
   "metadata": {},
   "source": [
    "## train & test"
   ]
  },
  {
   "cell_type": "code",
   "execution_count": 35,
   "metadata": {
    "ExecuteTime": {
     "end_time": "2018-12-24T03:52:01.723451Z",
     "start_time": "2018-12-24T03:52:01.478437Z"
    }
   },
   "outputs": [
    {
     "name": "stdout",
     "output_type": "stream",
     "text": [
      "d:\\xh\\python_project\\tool\\toolkits\\nlp\n"
     ]
    },
    {
     "data": {
      "text/plain": [
       "1279"
      ]
     },
     "execution_count": 35,
     "metadata": {},
     "output_type": "execute_result"
    }
   ],
   "source": [
    "a = myclass_circ.Statskeywords_cor(5000, 'clic')\n",
    "len(a.keywords)"
   ]
  },
  {
   "cell_type": "code",
   "execution_count": 36,
   "metadata": {
    "ExecuteTime": {
     "end_time": "2018-12-24T04:16:19.439828Z",
     "start_time": "2018-12-24T03:52:05.859688Z"
    }
   },
   "outputs": [
    {
     "name": "stdout",
     "output_type": "stream",
     "text": [
      "d:\\xh\\python_project\\tool\\toolkits\\nlp\n",
      "d:\\xh\\python_project\\tool\\toolkits\\nlp\n",
      "0.9750603378921963\n"
     ]
    },
    {
     "data": {
      "text/plain": [
       "Pipeline(memory=None,\n",
       "     steps=[('features', FeatureUnion(n_jobs=1,\n",
       "       transformer_list=[('tf_idf', Pipeline(memory=None,\n",
       "     steps=[('counts', CountVectorizer(analyzer='word', binary=False, decode_error='strict',\n",
       "        dtype=<class 'numpy.int64'>, encoding='utf-8', input='content',\n",
       "        lowercase=True, max_df=0.9...tate=0, reg_alpha=0, reg_lambda=1, scale_pos_weight=1,\n",
       "       seed=None, silent=True, subsample=1))])"
      ]
     },
     "execution_count": 36,
     "metadata": {},
     "output_type": "execute_result"
    }
   ],
   "source": [
    "pipeline = Pipeline([\n",
    "    ('features', FeatureUnion([\n",
    "        ('tf_idf', Pipeline([\n",
    "            ('counts', CountVectorizer(max_df=0.95, min_df=2)),\n",
    "            ('tf_idf', TfidfTransformer()),\n",
    "            ('chi', SelectKBest(chi2, k=20000))\n",
    "        ])),\n",
    "        ('len_stats', myclass_circ.StatsFeatures_cor()),\n",
    "        ('tf', myclass_circ.Statskeywords_cor(topk = 5000, types = 'clic')),\n",
    "        # ('picc_tf', myclass_circ.StatsFeatures_tf())\n",
    "    ])),\n",
    "    ('standard', StandardScaler(with_mean=False)),\n",
    "    ('classifier', XGBClassifier(max_depth=7,objective='multi:softmax', num_class=10))\n",
    "])\n",
    "\n",
    "pipeline.fit(X_train, y_train)\n",
    "print(pipeline.score(X_train, y_train))\n",
    "pipeline"
   ]
  },
  {
   "cell_type": "code",
   "execution_count": 37,
   "metadata": {
    "ExecuteTime": {
     "end_time": "2018-12-24T04:16:42.006118Z",
     "start_time": "2018-12-24T04:16:23.736073Z"
    }
   },
   "outputs": [
    {
     "name": "stdout",
     "output_type": "stream",
     "text": [
      "accuracy_score:  0.822550369165311\n",
      "             precision    recall  f1-score   support\n",
      "\n",
      "          1       0.81      0.85      0.83      1030\n",
      "          2       0.79      0.81      0.80      1133\n",
      "          3       0.81      0.71      0.76       463\n",
      "          4       0.88      0.82      0.85       588\n",
      "          5       0.75      0.81      0.78       999\n",
      "          6       0.84      0.86      0.85       945\n",
      "          7       0.86      0.83      0.85       774\n",
      "          8       0.85      0.82      0.84      2059\n",
      "\n",
      "avg / total       0.82      0.82      0.82      7991\n",
      "\n",
      "confusion_matrix: \n",
      "[[ 879   61    1    1   10    2    3   73]\n",
      " [  49  921   16   17   37   21   13   59]\n",
      " [   2   30  329    0   37   32    8   25]\n",
      " [  10   16    1  485   40    3    1   32]\n",
      " [   6   61    7   20  812   35   25   33]\n",
      " [   7   23   15    1   35  815   18   31]\n",
      " [  12   18    3    1   40   18  644   38]\n",
      " [ 124   40   33   28   65   48   33 1688]]\n"
     ]
    }
   ],
   "source": [
    "y_pred_class = pipeline.predict(X_test)\n",
    "print('accuracy_score: ', metrics.accuracy_score(y_test, y_pred_class)) # 指所有分类正确的百分比\n",
    "print(metrics.classification_report(y_test, y_pred_class))\n",
    "print('confusion_matrix: ')\n",
    "print( metrics.confusion_matrix(y_test, y_pred_class))\n",
    "\n",
    "filename = 'statistics_result/PICC_class_model_report.csv'\n",
    "save_model_report(filename, 'PICC_class_model_report')"
   ]
  },
  {
   "cell_type": "code",
   "execution_count": 38,
   "metadata": {
    "ExecuteTime": {
     "end_time": "2018-12-24T04:40:57.715380Z",
     "start_time": "2018-12-24T04:16:46.261362Z"
    }
   },
   "outputs": [
    {
     "name": "stdout",
     "output_type": "stream",
     "text": [
      "d:\\xh\\python_project\\tool\\toolkits\\nlp\n",
      "d:\\xh\\python_project\\tool\\toolkits\\nlp\n",
      "0.9754357736658622\n"
     ]
    },
    {
     "data": {
      "text/plain": [
       "Pipeline(memory=None,\n",
       "     steps=[('features', FeatureUnion(n_jobs=1,\n",
       "       transformer_list=[('tf_idf', Pipeline(memory=None,\n",
       "     steps=[('counts', CountVectorizer(analyzer='word', binary=False, decode_error='strict',\n",
       "        dtype=<class 'numpy.int64'>, encoding='utf-8', input='content',\n",
       "        lowercase=True, max_df=0.9...tate=0, reg_alpha=0, reg_lambda=1, scale_pos_weight=1,\n",
       "       seed=None, silent=True, subsample=1))])"
      ]
     },
     "execution_count": 38,
     "metadata": {},
     "output_type": "execute_result"
    }
   ],
   "source": [
    "pipeline = Pipeline([\n",
    "    ('features', FeatureUnion([\n",
    "        ('tf_idf', Pipeline([\n",
    "            ('counts', CountVectorizer(max_df=0.95, min_df=2)),\n",
    "            ('tf_idf', TfidfTransformer()),\n",
    "            ('chi', SelectKBest(chi2, k=20000))\n",
    "        ])),\n",
    "        ('len_stats', myclass_circ.StatsFeatures_cor()),\n",
    "        ('tf', myclass_circ.Statskeywords_cor(topk = 5000, types = 'clic')),\n",
    "        ('clic_tf', myclass_circ.StatsFeatures_tf_clic()),\n",
    "    ])),\n",
    "    ('standard', StandardScaler(with_mean=False)),\n",
    "    ('classifier', XGBClassifier(max_depth=7,objective='multi:softmax', num_class=8))\n",
    "])\n",
    "\n",
    "pipeline.fit(X_train, y_train)\n",
    "print(pipeline.score(X_train, y_train))\n",
    "pipeline"
   ]
  },
  {
   "cell_type": "code",
   "execution_count": 39,
   "metadata": {
    "ExecuteTime": {
     "end_time": "2018-12-24T04:41:20.811701Z",
     "start_time": "2018-12-24T04:41:02.022627Z"
    }
   },
   "outputs": [
    {
     "name": "stdout",
     "output_type": "stream",
     "text": [
      "accuracy_score:  0.8216743836816418\n",
      "             precision    recall  f1-score   support\n",
      "\n",
      "          1       0.81      0.86      0.84      1030\n",
      "          2       0.79      0.80      0.80      1133\n",
      "          3       0.81      0.71      0.76       463\n",
      "          4       0.87      0.83      0.85       588\n",
      "          5       0.75      0.80      0.78       999\n",
      "          6       0.82      0.87      0.84       945\n",
      "          7       0.86      0.82      0.84       774\n",
      "          8       0.85      0.82      0.84      2059\n",
      "\n",
      "avg / total       0.82      0.82      0.82      7991\n",
      "\n",
      "confusion_matrix: \n",
      "[[ 887   57    1    0    9    2    3   71]\n",
      " [  48  912   17   18   43   28   12   55]\n",
      " [   1   28  330    0   33   33    9   29]\n",
      " [   9   16    1  486   43    3    1   29]\n",
      " [   7   66    6   21  802   39   23   35]\n",
      " [   6   24   16    1   32  819   19   28]\n",
      " [  13   17    3    1   42   20  638   40]\n",
      " [ 122   36   33   30   63   50   33 1692]]\n"
     ]
    }
   ],
   "source": [
    "y_pred_class = pipeline.predict(X_test)\n",
    "print('accuracy_score: ', metrics.accuracy_score(y_test, y_pred_class)) # 指所有分类正确的百分比\n",
    "print(metrics.classification_report(y_test, y_pred_class))\n",
    "print('confusion_matrix: ')\n",
    "print( metrics.confusion_matrix(y_test, y_pred_class))\n",
    "\n",
    "filename = 'statistics_result/CLIC_class_model_report.csv'\n",
    "save_model_report(filename, 'CLIC_class_model_report')"
   ]
  },
  {
   "cell_type": "markdown",
   "metadata": {},
   "source": [
    "## 概率结果"
   ]
  },
  {
   "cell_type": "code",
   "execution_count": 45,
   "metadata": {
    "ExecuteTime": {
     "end_time": "2018-12-20T07:11:01.406797Z",
     "start_time": "2018-12-20T07:10:46.224929Z"
    }
   },
   "outputs": [
    {
     "data": {
      "text/plain": [
       "<matplotlib.axes._subplots.AxesSubplot at 0x2a2a5d30>"
      ]
     },
     "execution_count": 45,
     "metadata": {},
     "output_type": "execute_result"
    },
    {
     "data": {
      "image/png": "[encoded data removed]",
      "text/plain": [
       "<matplotlib.figure.Figure at 0x1c5bdbe0>"
      ]
     },
     "metadata": {},
     "output_type": "display_data"
    }
   ],
   "source": [
    "y_pred_prob = pipeline.predict_proba(X_test)\n",
    "pd.DataFrame(y_pred_prob.max(axis = 1)).plot.hist(bins = 100)"
   ]
  },
  {
   "cell_type": "code",
   "execution_count": 46,
   "metadata": {
    "ExecuteTime": {
     "end_time": "2018-12-20T07:11:05.179013Z",
     "start_time": "2018-12-20T07:11:03.977944Z"
    }
   },
   "outputs": [
    {
     "data": {
      "text/html": [
       "<div>\n",
       "<style scoped>\n",
       "    .dataframe tbody tr th:only-of-type {\n",
       "        vertical-align: middle;\n",
       "    }\n",
       "\n",
       "    .dataframe tbody tr th {\n",
       "        vertical-align: top;\n",
       "    }\n",
       "\n",
       "    .dataframe thead th {\n",
       "        text-align: right;\n",
       "    }\n",
       "</style>\n",
       "<table border=\"1\" class=\"dataframe\">\n",
       "  <thead>\n",
       "    <tr style=\"text-align: right;\">\n",
       "      <th>proba</th>\n",
       "      <th>0.2</th>\n",
       "      <th>0.3</th>\n",
       "      <th>0.4</th>\n",
       "      <th>0.5</th>\n",
       "      <th>0.6</th>\n",
       "      <th>0.7</th>\n",
       "      <th>0.8</th>\n",
       "      <th>0.9</th>\n",
       "      <th>1.0</th>\n",
       "      <th>sum</th>\n",
       "    </tr>\n",
       "    <tr>\n",
       "      <th>predict_label</th>\n",
       "      <th></th>\n",
       "      <th></th>\n",
       "      <th></th>\n",
       "      <th></th>\n",
       "      <th></th>\n",
       "      <th></th>\n",
       "      <th></th>\n",
       "      <th></th>\n",
       "      <th></th>\n",
       "      <th></th>\n",
       "    </tr>\n",
       "  </thead>\n",
       "  <tbody>\n",
       "    <tr>\n",
       "      <th>1</th>\n",
       "      <td>1.0</td>\n",
       "      <td>13.0</td>\n",
       "      <td>40.0</td>\n",
       "      <td>114.0</td>\n",
       "      <td>102.0</td>\n",
       "      <td>131.0</td>\n",
       "      <td>185.0</td>\n",
       "      <td>307.0</td>\n",
       "      <td>190.0</td>\n",
       "      <td>1083.0</td>\n",
       "    </tr>\n",
       "    <tr>\n",
       "      <th>2</th>\n",
       "      <td>3.0</td>\n",
       "      <td>24.0</td>\n",
       "      <td>79.0</td>\n",
       "      <td>104.0</td>\n",
       "      <td>121.0</td>\n",
       "      <td>118.0</td>\n",
       "      <td>169.0</td>\n",
       "      <td>265.0</td>\n",
       "      <td>277.0</td>\n",
       "      <td>1160.0</td>\n",
       "    </tr>\n",
       "    <tr>\n",
       "      <th>3</th>\n",
       "      <td>2.0</td>\n",
       "      <td>17.0</td>\n",
       "      <td>30.0</td>\n",
       "      <td>45.0</td>\n",
       "      <td>32.0</td>\n",
       "      <td>38.0</td>\n",
       "      <td>59.0</td>\n",
       "      <td>78.0</td>\n",
       "      <td>91.0</td>\n",
       "      <td>392.0</td>\n",
       "    </tr>\n",
       "    <tr>\n",
       "      <th>4</th>\n",
       "      <td>0.0</td>\n",
       "      <td>11.0</td>\n",
       "      <td>25.0</td>\n",
       "      <td>43.0</td>\n",
       "      <td>37.0</td>\n",
       "      <td>45.0</td>\n",
       "      <td>69.0</td>\n",
       "      <td>140.0</td>\n",
       "      <td>185.0</td>\n",
       "      <td>555.0</td>\n",
       "    </tr>\n",
       "    <tr>\n",
       "      <th>5</th>\n",
       "      <td>9.0</td>\n",
       "      <td>53.0</td>\n",
       "      <td>108.0</td>\n",
       "      <td>103.0</td>\n",
       "      <td>103.0</td>\n",
       "      <td>125.0</td>\n",
       "      <td>127.0</td>\n",
       "      <td>205.0</td>\n",
       "      <td>237.0</td>\n",
       "      <td>1070.0</td>\n",
       "    </tr>\n",
       "    <tr>\n",
       "      <th>6</th>\n",
       "      <td>2.0</td>\n",
       "      <td>31.0</td>\n",
       "      <td>52.0</td>\n",
       "      <td>67.0</td>\n",
       "      <td>77.0</td>\n",
       "      <td>84.0</td>\n",
       "      <td>117.0</td>\n",
       "      <td>234.0</td>\n",
       "      <td>307.0</td>\n",
       "      <td>971.0</td>\n",
       "    </tr>\n",
       "    <tr>\n",
       "      <th>7</th>\n",
       "      <td>5.0</td>\n",
       "      <td>18.0</td>\n",
       "      <td>46.0</td>\n",
       "      <td>52.0</td>\n",
       "      <td>39.0</td>\n",
       "      <td>51.0</td>\n",
       "      <td>73.0</td>\n",
       "      <td>132.0</td>\n",
       "      <td>317.0</td>\n",
       "      <td>733.0</td>\n",
       "    </tr>\n",
       "    <tr>\n",
       "      <th>8</th>\n",
       "      <td>4.0</td>\n",
       "      <td>41.0</td>\n",
       "      <td>96.0</td>\n",
       "      <td>178.0</td>\n",
       "      <td>135.0</td>\n",
       "      <td>151.0</td>\n",
       "      <td>198.0</td>\n",
       "      <td>463.0</td>\n",
       "      <td>761.0</td>\n",
       "      <td>2027.0</td>\n",
       "    </tr>\n",
       "    <tr>\n",
       "      <th>sum</th>\n",
       "      <td>26.0</td>\n",
       "      <td>208.0</td>\n",
       "      <td>476.0</td>\n",
       "      <td>706.0</td>\n",
       "      <td>646.0</td>\n",
       "      <td>743.0</td>\n",
       "      <td>997.0</td>\n",
       "      <td>1824.0</td>\n",
       "      <td>2365.0</td>\n",
       "      <td>7991.0</td>\n",
       "    </tr>\n",
       "  </tbody>\n",
       "</table>\n",
       "</div>"
      ],
      "text/plain": [
       "proba           0.2    0.3    0.4    0.5    0.6    0.7    0.8     0.9     1.0  \\\n",
       "predict_label                                                                   \n",
       "1               1.0   13.0   40.0  114.0  102.0  131.0  185.0   307.0   190.0   \n",
       "2               3.0   24.0   79.0  104.0  121.0  118.0  169.0   265.0   277.0   \n",
       "3               2.0   17.0   30.0   45.0   32.0   38.0   59.0    78.0    91.0   \n",
       "4               0.0   11.0   25.0   43.0   37.0   45.0   69.0   140.0   185.0   \n",
       "5               9.0   53.0  108.0  103.0  103.0  125.0  127.0   205.0   237.0   \n",
       "6               2.0   31.0   52.0   67.0   77.0   84.0  117.0   234.0   307.0   \n",
       "7               5.0   18.0   46.0   52.0   39.0   51.0   73.0   132.0   317.0   \n",
       "8               4.0   41.0   96.0  178.0  135.0  151.0  198.0   463.0   761.0   \n",
       "sum            26.0  208.0  476.0  706.0  646.0  743.0  997.0  1824.0  2365.0   \n",
       "\n",
       "proba             sum  \n",
       "predict_label          \n",
       "1              1083.0  \n",
       "2              1160.0  \n",
       "3               392.0  \n",
       "4               555.0  \n",
       "5              1070.0  \n",
       "6               971.0  \n",
       "7               733.0  \n",
       "8              2027.0  \n",
       "sum            7991.0  "
      ]
     },
     "execution_count": 46,
     "metadata": {},
     "output_type": "execute_result"
    },
    {
     "data": {
      "image/png": "[encoded data removed]",
      "text/plain": [
       "<matplotlib.figure.Figure at 0x2708e908>"
      ]
     },
     "metadata": {},
     "output_type": "display_data"
    }
   ],
   "source": [
    "sel_data_stat = plot_class_proba(y_pred_class, y_pred_prob.max(axis = 1))\n",
    "sel_data_stat"
   ]
  },
  {
   "cell_type": "markdown",
   "metadata": {},
   "source": [
    "## K-fold"
   ]
  },
  {
   "cell_type": "code",
   "execution_count": null,
   "metadata": {
    "ExecuteTime": {
     "start_time": "2018-09-19T02:37:15.664Z"
    }
   },
   "outputs": [
    {
     "name": "stdout",
     "output_type": "stream",
     "text": [
      "d:\\xh\\python_project\\tool\\toolkits\\nlp\n",
      "d:\\xh\\python_project\\tool\\toolkits\\nlp\n",
      "data_raw:  (18022, 5)\n",
      "---- 1\n",
      "0.9890407158215995\n",
      "accuracy_score:  0.860748959778086\n",
      "             precision    recall  f1-score   support\n",
      "\n",
      "          1       0.82      0.83      0.83       431\n",
      "          2       0.84      0.85      0.84       487\n",
      "          3       0.89      0.73      0.80       187\n",
      "          4       0.90      0.80      0.85       244\n",
      "          5       0.80      0.85      0.83       456\n",
      "          6       0.90      0.93      0.91       388\n",
      "          7       0.91      0.83      0.86       382\n",
      "          8       0.87      0.90      0.89      1030\n",
      "\n",
      "avg / total       0.86      0.86      0.86      3605\n",
      "\n",
      "confusion_matrix: \n",
      "[[358  22   0   1   5   0   1  44]\n",
      " [ 18 416   2   2  16   7   3  23]\n",
      " [  1   7 136   0  16  13   3  11]\n",
      " [  7   8   0 196  12   0   0  21]\n",
      " [  4  27   3   3 389   8  11  11]\n",
      " [  1   2   1   0   6 361   6  11]\n",
      " [  7   8   4   1  25   7 316  14]\n",
      " [ 39   8   7  14  15   7   9 931]]\n",
      "---- 2\n",
      "0.9900117916348755\n",
      "accuracy_score:  0.8649098474341192\n",
      "             precision    recall  f1-score   support\n",
      "\n",
      "          1       0.85      0.86      0.86       433\n",
      "          2       0.81      0.84      0.83       480\n",
      "          3       0.89      0.80      0.85       204\n",
      "          4       0.91      0.81      0.86       278\n",
      "          5       0.82      0.82      0.82       426\n",
      "          6       0.88      0.93      0.91       355\n",
      "          7       0.90      0.87      0.88       389\n",
      "          8       0.88      0.90      0.89      1040\n",
      "\n",
      "avg / total       0.87      0.86      0.86      3605\n",
      "\n",
      "confusion_matrix: \n",
      "[[373  21   1   0   1   0   4  33]\n",
      " [ 16 403   4   3  14  10   4  26]\n",
      " [  0  11 164   0   6  11   2  10]\n",
      " [  6  12   0 226  14   1   0  19]\n",
      " [  3  22   7   5 350  10  12  17]\n",
      " [  3   4   3   0   5 331   5   4]\n",
      " [  2   4   0   1  20   7 338  17]\n",
      " [ 34  18   5  13  19   6  12 933]]\n",
      "---- 3\n"
     ]
    }
   ],
   "source": [
    "pipeline = Pipeline([\n",
    "    ('features', FeatureUnion([\n",
    "        ('tf_idf', Pipeline([\n",
    "            ('counts', CountVectorizer(max_df=0.95, min_df=2)),\n",
    "            ('tf_idf', TfidfTransformer()),\n",
    "            ('chi', SelectKBest(chi2, k=20000))\n",
    "        ])),\n",
    "        ('len_stats', myclass_circ.StatsFeatures_cor()),\n",
    "        ('tf', myclass_circ.Statskeywords_cor(topk = 5000))\n",
    "    ])),\n",
    "    ('standard', StandardScaler(with_mean=False)),\n",
    "    ('classifier', XGBClassifier(max_depth=7,objective='multi:softmax', num_class=8))\n",
    "])\n",
    "\n",
    "filename = 'clic_class_label_proba_20181008.xlsx'\n",
    "cal_kfold(title_content, label, pipeline, 'circ_result_class', filename, class_name_dict)"
   ]
  },
  {
   "cell_type": "code",
   "execution_count": null,
   "metadata": {
    "ExecuteTime": {
     "start_time": "2018-09-19T02:37:27.493Z"
    },
    "collapsed": true
   },
   "outputs": [],
   "source": [
    "import xlrd\n",
    "\n",
    "kfold_result = pd.DataFrame()\n",
    "\n",
    "currentPath  = 'clic_result_class/corpus/clic_class_label_proba_20181008.xlsx'\n",
    "excel = xlrd.open_workbook(currentPath)\n",
    "sheet_names = [sheet.name for sheet in excel.sheets()]\n",
    "for sheet_name in sheet_names:   \n",
    "    tmp_data = pd.read_excel(currentPath, sheet_name)     \n",
    "    kfold_result = pd.concat([kfold_result, tmp_data], axis = 0)\n",
    "\n",
    "kfold_result.index = range(kfold_result.shape[0])\n",
    "kfold_result.insert(0, '备注', '')\n",
    "print('总数：', kfold_result.shape)\n",
    "# kfold_result.head()"
   ]
  },
  {
   "cell_type": "code",
   "execution_count": null,
   "metadata": {
    "ExecuteTime": {
     "start_time": "2018-09-19T02:39:45.140Z"
    },
    "collapsed": true
   },
   "outputs": [],
   "source": [
    "K_S_sel = kfold_result[(kfold_result['predict_proba'] < 0.65) | (kfold_result['R_W'] == 'Wrong')]\n",
    "K_S_else = kfold_result[~((kfold_result['predict_proba'] < 0.65) | (kfold_result['R_W'] == 'Wrong'))]\n",
    "print(kfold_result.shape)\n",
    "print(K_S_else.shape)\n",
    "print(K_S_sel.shape)\n",
    "K_S_sel.groupby(['R_W', 'predict_label'])['label'].count()"
   ]
  },
  {
   "cell_type": "code",
   "execution_count": null,
   "metadata": {
    "collapsed": true
   },
   "outputs": [],
   "source": [
    "fea_filename = 'clic_result_class/result/20181008_clic_class_sel.xlsx'\n",
    "with pd.ExcelWriter(fea_filename) as writer:\n",
    "    for label in K_S_sel['predict_label'].unique():\n",
    "        tmp_data = K_S_sel[K_S_sel['predict_label'] == label]\n",
    "        N = tmp_data.shape[0]\n",
    "        tmp_data.sample(n = N, axis = 0, random_state=42).to_excel(writer,label, index = False)    \n",
    "    writer.save()\n",
    "    \n",
    "fea_filename = 'clic_result_class/result/20181008_clic_class_else.xlsx'\n",
    "with pd.ExcelWriter(fea_filename) as writer:\n",
    "    for label in K_S_else['predict_label'].unique():\n",
    "        tmp_data = K_S_else[K_S_else['predict_label'] == label]\n",
    "        N = tmp_data.shape[0]\n",
    "        tmp_data.sample(n = N, axis = 0, random_state=42).to_excel(writer,label, index = False)    \n",
    "    writer.save()    "
   ]
  },
  {
   "cell_type": "code",
   "execution_count": null,
   "metadata": {
    "ExecuteTime": {
     "start_time": "2018-09-19T02:39:51.232Z"
    },
    "collapsed": true
   },
   "outputs": [],
   "source": [
    "y_test = kfold_result['predict_label'].tolist()\n",
    "y_pred_class = kfold_result['label'].tolist()\n",
    "print('accuracy_score: ', metrics.accuracy_score(y_test, y_pred_class)) # 指所有分类正确的百分比\n",
    "print(metrics.classification_report(y_test, y_pred_class))\n",
    "print('confusion_matrix: ')\n",
    "print( metrics.confusion_matrix(y_test, y_pred_class))"
   ]
  },
  {
   "cell_type": "code",
   "execution_count": null,
   "metadata": {
    "ExecuteTime": {
     "start_time": "2018-09-19T02:39:51.922Z"
    },
    "collapsed": true
   },
   "outputs": [],
   "source": [
    "y_pred_prob = kfold_result['predict_proba'].tolist()\n",
    "\n",
    "sel_data_stat = plot_class_proba(y_pred_class, y_pred_prob)\n",
    "sel_data_stat"
   ]
  },
  {
   "cell_type": "markdown",
   "metadata": {},
   "source": [
    "## 保存模型"
   ]
  },
  {
   "cell_type": "code",
   "execution_count": 40,
   "metadata": {
    "ExecuteTime": {
     "end_time": "2018-12-24T05:16:35.131633Z",
     "start_time": "2018-12-24T04:41:25.066945Z"
    }
   },
   "outputs": [
    {
     "name": "stdout",
     "output_type": "stream",
     "text": [
      "d:\\xh\\python_project\\tool\\toolkits\\nlp\n",
      "d:\\xh\\python_project\\tool\\toolkits\\nlp\n",
      "0.9645216999549482\n"
     ]
    },
    {
     "data": {
      "text/plain": [
       "Pipeline(memory=None,\n",
       "     steps=[('features', FeatureUnion(n_jobs=1,\n",
       "       transformer_list=[('tf_idf', Pipeline(memory=None,\n",
       "     steps=[('counts', CountVectorizer(analyzer='word', binary=False, decode_error='strict',\n",
       "        dtype=<class 'numpy.int64'>, encoding='utf-8', input='content',\n",
       "        lowercase=True, max_df=0.9...tate=0, reg_alpha=0, reg_lambda=1, scale_pos_weight=1,\n",
       "       seed=None, silent=True, subsample=1))])"
      ]
     },
     "execution_count": 40,
     "metadata": {},
     "output_type": "execute_result"
    }
   ],
   "source": [
    "pipeline = Pipeline([\n",
    "    ('features', FeatureUnion([\n",
    "        ('tf_idf', Pipeline([\n",
    "            ('counts', CountVectorizer(max_df=0.95, min_df=2)),\n",
    "            ('tf_idf', TfidfTransformer()),\n",
    "            ('chi', SelectKBest(chi2, k=20000))\n",
    "        ])),\n",
    "        ('len_stats', myclass_circ.StatsFeatures_cor()),\n",
    "        ('tf', myclass_circ.Statskeywords_cor(topk = 5000, types = 'clic')),\n",
    "        ('clic_tf', myclass_circ.StatsFeatures_tf_clic()),\n",
    "    ])),\n",
    "    ('standard', StandardScaler(with_mean=False)),\n",
    "    ('classifier', XGBClassifier(max_depth=7,objective='multi:softmax', num_class=8))\n",
    "])\n",
    "\n",
    "pipeline.fit(title_content, label)\n",
    "print(pipeline.score(title_content, label))\n",
    "pipeline"
   ]
  },
  {
   "cell_type": "code",
   "execution_count": 41,
   "metadata": {
    "ExecuteTime": {
     "end_time": "2018-12-24T05:16:45.040200Z",
     "start_time": "2018-12-24T05:16:39.632891Z"
    }
   },
   "outputs": [
    {
     "data": {
      "text/plain": [
       "['model/circ_clic_8classifier_1224.pkl.z']"
      ]
     },
     "execution_count": 41,
     "metadata": {},
     "output_type": "execute_result"
    }
   ],
   "source": [
    "from sklearn.externals import joblib\n",
    "joblib.dump(pipeline, \"model/circ_clic_8classifier_1224.pkl.z\")"
   ]
  },
  {
   "cell_type": "markdown",
   "metadata": {
    "collapsed": true
   },
   "source": [
    "# 保险业--中国人保：1 十分类"
   ]
  },
  {
   "cell_type": "markdown",
   "metadata": {},
   "source": [
    "## 导入与分割数据"
   ]
  },
  {
   "cell_type": "code",
   "execution_count": 29,
   "metadata": {
    "ExecuteTime": {
     "end_time": "2018-12-21T06:32:46.980786Z",
     "start_time": "2018-12-21T06:32:42.013502Z"
    }
   },
   "outputs": [
    {
     "name": "stdout",
     "output_type": "stream",
     "text": [
      "title num:  29107\n",
      "['天安 销售 虚列费用 员工 发 福利 相关 负责人 被处罚', '泰康人寿 疑设 招聘 骗局 元 底薪 扣到 剩元']\n",
      "content num:  29107\n",
      "title_content num:  29107\n",
      "label num:  29107\n",
      "['公司内部管理', '公司内部管理', '公司内部管理', '公司内部管理', '公司内部管理']\n"
     ]
    }
   ],
   "source": [
    "cbrc_filepath_class = 'picc_result_class/corpus/'\n",
    "title_content, label, title, content = load_save_plot_file.title_content_label(cbrc_filepath_class)"
   ]
  },
  {
   "cell_type": "code",
   "execution_count": 30,
   "metadata": {
    "ExecuteTime": {
     "end_time": "2018-12-21T06:32:49.380923Z",
     "start_time": "2018-12-21T06:32:49.201913Z"
    }
   },
   "outputs": [
    {
     "data": {
      "text/plain": [
       "{1: '监管',\n",
       " 2: '行业',\n",
       " 3: '产品销售',\n",
       " 4: '资本市场',\n",
       " 5: '公司内部管理',\n",
       " 6: '消费服务',\n",
       " 7: '其他相关报道',\n",
       " 8: '噪音',\n",
       " 9: '交通',\n",
       " 10: '环保'}"
      ]
     },
     "execution_count": 30,
     "metadata": {},
     "output_type": "execute_result"
    }
   ],
   "source": [
    "label_dic={'监管':1,'行业':2,'产品销售':3,'资本市场':4,'公司内部管理':5,'消费服务':6,\n",
    "           '其他相关报道':7,'噪音':8,'交通':9,'环保':10}\n",
    "class_name_dict = {v: k for k, v in label_dic.items()}\n",
    "class_name_dict"
   ]
  },
  {
   "cell_type": "code",
   "execution_count": 31,
   "metadata": {
    "ExecuteTime": {
     "end_time": "2018-12-21T06:32:51.840064Z",
     "start_time": "2018-12-21T06:32:51.678055Z"
    }
   },
   "outputs": [
    {
     "data": {
      "text/plain": [
       "[5, 5, 5, 5, 5]"
      ]
     },
     "execution_count": 31,
     "metadata": {},
     "output_type": "execute_result"
    }
   ],
   "source": [
    "label = [label_dic[l] for l in label]\n",
    "label[:5]"
   ]
  },
  {
   "cell_type": "code",
   "execution_count": 32,
   "metadata": {
    "ExecuteTime": {
     "end_time": "2018-12-21T06:32:54.223200Z",
     "start_time": "2018-12-21T06:32:53.978186Z"
    }
   },
   "outputs": [
    {
     "name": "stdout",
     "output_type": "stream",
     "text": [
      "训练集： 20374\n",
      "训练集-各类数量： Counter({8: 6133, 2: 2597, 5: 2387, 1: 2278, 6: 2264, 7: 1764, 4: 1417, 3: 1024, 10: 281, 9: 229})\n",
      "测试集： 8733\n",
      "测试集-各类数量： Counter({8: 2630, 2: 1106, 5: 1027, 1: 988, 6: 923, 7: 777, 4: 609, 3: 441, 10: 141, 9: 91})\n"
     ]
    }
   ],
   "source": [
    "X_train, X_test, y_train, y_test = train_test_split(title_content, label, test_size=0.3, random_state=42)\n",
    "print('训练集：',len(y_train))\n",
    "print('训练集-各类数量：',Counter(y_train))\n",
    "print('测试集：',len(y_test))\n",
    "print('测试集-各类数量：',Counter(y_test))"
   ]
  },
  {
   "cell_type": "markdown",
   "metadata": {},
   "source": [
    "## 生成词典"
   ]
  },
  {
   "cell_type": "code",
   "execution_count": 11,
   "metadata": {
    "ExecuteTime": {
     "end_time": "2018-12-21T01:48:26.843002Z",
     "start_time": "2018-12-21T01:30:30.615445Z"
    }
   },
   "outputs": [
    {
     "name": "stdout",
     "output_type": "stream",
     "text": [
      "class_label:  [ 1  2  3  4  5  6  7  8  9 10]\n",
      "\n",
      "依据类别生成关键词：\n",
      "['监管', '投资', '风险', '机构', '保险', '产品', '业务', '发展', '金融', '市场']\n",
      "keywords num:  500\n",
      "类别：1 -- 文本个数：3266，label个数:3266，取词个数：500\n",
      "['保险', '公司', '保险公司', '业务', '产品', '市场', '投资', '发展', '风险', '中国']\n",
      "keywords num:  500\n",
      "类别：2 -- 文本个数：3703，label个数:3703，取词个数：500\n",
      "['保险', '保障', '产品', '保费', '投保', '疾病', '保险公司', '客户', '服务', '保额']\n",
      "keywords num:  500\n",
      "类别：3 -- 文本个数：1465，label个数:1465，取词个数：500\n",
      "['市场', '公司', '投资', '板块', '资金', '中国', '股份', '个股', '保险', '指数']\n",
      "keywords num:  500\n",
      "类别：4 -- 文本个数：2026，label个数:2026，取词个数：500\n",
      "['公司', '保险', '业务', '服务', '发展', '罚款', '进行', '中国', '投资', '分公司']\n",
      "keywords num:  500\n",
      "类别：5 -- 文本个数：3414，label个数:3414，取词个数：500\n",
      "['理赔', '保险', '客户', '服务', '保险公司', '公司', '事故', '进行', '车辆', '发生']\n",
      "keywords num:  500\n",
      "类别：6 -- 文本个数：3187，label个数:3187，取词个数：500\n",
      "['保险', '活动', '公司', '分公司', '服务', '扶贫', '客户', '开展', '中国', '批复']\n",
      "keywords num:  500\n",
      "类别：7 -- 文本个数：2541，label个数:2541，取词个数：500\n",
      "['工作', '公司', '企业', '进行', '服务', '要求', '招聘', '相关', '中国', '项目']\n",
      "keywords num:  500\n",
      "类别：8 -- 文本个数：8763，label个数:8763，取词个数：500\n",
      "['发生', '事故', '现场', '受伤', '死亡', '造成', '调查', '交通事故', '车辆', '记者']\n",
      "keywords num:  500\n",
      "类别：9 -- 文本个数：320，label个数:320，取词个数：500\n",
      "['发生', '地震', '中国', '时分', '台风', '台网', '深度', '震源', '测定', '影响']\n",
      "keywords num:  500\n",
      "类别：10 -- 文本个数：422，label个数:422，取词个数：500\n",
      "\n",
      "去除词（key_count_list）个数： 421\n",
      "词典词（key_dict）个数： 2185\n",
      "\n",
      "前后对比：去除超过阈值的词\n",
      "['理财产品', '规范', '意见', '银行业', '过渡期', '金融风险', '非标', '民营企业', '化解', '监管部门']\n",
      "类别：1 -- 去除前：500， 去除后：206\n",
      "['财险', '增速', '老年人', '抵押', '住房', '偿付能力', '收益率', '亏损', '传统', '人身险']\n",
      "类别：2 -- 去除前：500， 去除后：166\n",
      "['保额', '身故', '轻症', '豁免', '给付', '住院', '癌症', '附加', '人生', '医疗险']\n",
      "类别：3 -- 去除前：500， 去除后：222\n",
      "['个股', '反弹', '上涨', '大盘', '持股', '下跌', '行情', '股市', '涨幅', '震荡']\n",
      "类别：4 -- 去除前：500， 去除后：269\n",
      "['罚款', '行政处罚', '决定书', '当事人', '事实', '保险法', '总经理', '违反', '时任', '代理']\n",
      "类别：5 -- 去除前：500， 去除后：179\n",
      "['报案', '家属', '赔款', '先生', '查勘', '身故', '保额', '出险', '机动车', '驾驶']\n",
      "类别：6 -- 去除前：500， 去除后：235\n",
      "['批复', '任职', '请示', '公益', '之日起', '核准', '作出', '董事', '任命', '监事']\n",
      "类别：7 -- 去除前：500， 去除后：223\n",
      "['招聘', '报名', '招标', '岗位', '文件', '经验', '工程', '工资', '待遇', '缴费']\n",
      "类别：8 -- 去除前：500， 去除后：159\n",
      "['受伤', '司机', '车祸', '货车', '相撞', '事发', '起火', '路段', '警方', '行驶']\n",
      "类别：9 -- 去除前：500， 去除后：372\n",
      "['地震', '时分', '台网', '深度', '震源', '测定', '堰塞湖', '桃芝', '海域', '南海']\n",
      "类别：10 -- 去除前：500， 去除后：362\n",
      "['桥梁', '扩大', '低迷', '抢救', '回复', '步数', '看病', '引导', '中介机构', '大桥']\n",
      "len(keywords):  1764\n"
     ]
    }
   ],
   "source": [
    "g_k = generate_keywords(500)\n",
    "g_k.gen_keywords_by_class(title_content, label, v_thre = 3)"
   ]
  },
  {
   "cell_type": "code",
   "execution_count": 12,
   "metadata": {
    "ExecuteTime": {
     "end_time": "2018-12-21T01:48:30.791228Z",
     "start_time": "2018-12-21T01:48:30.638219Z"
    }
   },
   "outputs": [
    {
     "name": "stdout",
     "output_type": "stream",
     "text": [
      "file_path:  d:\\xh\\python_project\\tool\\toolkits\\nlp\\corpus\\keywords_i_picc.txt\n"
     ]
    }
   ],
   "source": [
    "g_k.save_txt('keywords_i_picc.txt')"
   ]
  },
  {
   "cell_type": "markdown",
   "metadata": {},
   "source": [
    "## train & test"
   ]
  },
  {
   "cell_type": "code",
   "execution_count": 29,
   "metadata": {
    "ExecuteTime": {
     "end_time": "2018-12-24T03:13:30.531258Z",
     "start_time": "2018-12-24T03:13:30.218241Z"
    }
   },
   "outputs": [
    {
     "name": "stdout",
     "output_type": "stream",
     "text": [
      "d:\\xh\\python_project\\tool\\toolkits\\nlp\n"
     ]
    },
    {
     "data": {
      "text/plain": [
       "1764"
      ]
     },
     "execution_count": 29,
     "metadata": {},
     "output_type": "execute_result"
    }
   ],
   "source": [
    "a = myclass_circ.Statskeywords_cor(5000, 'picc')\n",
    "len(a.keywords)"
   ]
  },
  {
   "cell_type": "code",
   "execution_count": 14,
   "metadata": {
    "ExecuteTime": {
     "end_time": "2018-12-21T02:19:42.190266Z",
     "start_time": "2018-12-21T01:48:37.477610Z"
    }
   },
   "outputs": [
    {
     "name": "stdout",
     "output_type": "stream",
     "text": [
      "d:\\xh\\python_project\\tool\\toolkits\\nlp\n",
      "d:\\xh\\python_project\\tool\\toolkits\\nlp\n",
      "0.976195150682242\n"
     ]
    },
    {
     "data": {
      "text/plain": [
       "Pipeline(memory=None,\n",
       "     steps=[('features', FeatureUnion(n_jobs=1,\n",
       "       transformer_list=[('tf_idf', Pipeline(memory=None,\n",
       "     steps=[('counts', CountVectorizer(analyzer='word', binary=False, decode_error='strict',\n",
       "        dtype=<class 'numpy.int64'>, encoding='utf-8', input='content',\n",
       "        lowercase=True, max_df=0.9...tate=0, reg_alpha=0, reg_lambda=1, scale_pos_weight=1,\n",
       "       seed=None, silent=True, subsample=1))])"
      ]
     },
     "execution_count": 14,
     "metadata": {},
     "output_type": "execute_result"
    }
   ],
   "source": [
    "pipeline = Pipeline([\n",
    "    ('features', FeatureUnion([\n",
    "        ('tf_idf', Pipeline([\n",
    "            ('counts', CountVectorizer(max_df=0.95, min_df=2)),\n",
    "            ('tf_idf', TfidfTransformer()),\n",
    "            ('chi', SelectKBest(chi2, k=20000))\n",
    "        ])),\n",
    "        ('len_stats', myclass_circ.StatsFeatures_cor()),\n",
    "        ('tf', myclass_circ.Statskeywords_cor(topk = 5000, types = 'picc')),\n",
    "        # ('picc_tf', myclass_circ.StatsFeatures_tf())\n",
    "    ])),\n",
    "    ('standard', StandardScaler(with_mean=False)),\n",
    "    ('classifier', XGBClassifier(max_depth=7,objective='multi:softmax', num_class=10))\n",
    "])\n",
    "\n",
    "pipeline.fit(X_train, y_train)\n",
    "print(pipeline.score(X_train, y_train))\n",
    "pipeline"
   ]
  },
  {
   "cell_type": "code",
   "execution_count": 15,
   "metadata": {
    "ExecuteTime": {
     "end_time": "2018-12-21T02:20:08.048745Z",
     "start_time": "2018-12-21T02:19:45.574459Z"
    }
   },
   "outputs": [
    {
     "name": "stdout",
     "output_type": "stream",
     "text": [
      "accuracy_score:  0.836596816672392\n",
      "             precision    recall  f1-score   support\n",
      "\n",
      "          1       0.83      0.85      0.84       988\n",
      "          2       0.79      0.83      0.81      1106\n",
      "          3       0.84      0.75      0.79       441\n",
      "          4       0.87      0.83      0.85       609\n",
      "          5       0.80      0.79      0.80      1027\n",
      "          6       0.81      0.88      0.84       923\n",
      "          7       0.86      0.82      0.84       777\n",
      "          8       0.86      0.87      0.86      2630\n",
      "          9       0.83      0.64      0.72        91\n",
      "         10       0.93      0.77      0.84       141\n",
      "\n",
      "avg / total       0.84      0.84      0.84      8733\n",
      "\n",
      "confusion_matrix: \n",
      "[[ 841   46    3    1    7    3    2   85    0    0]\n",
      " [  37  923   14    9   31   26   18   48    0    0]\n",
      " [   3   24  330    3   19   37    7   18    0    0]\n",
      " [  11   19    0  508   32    5    3   31    0    0]\n",
      " [   3   76    4   18  808   49   29   40    0    0]\n",
      " [   7   24   16    1   24  813   11   26    1    0]\n",
      " [  16   14    3    1   37   16  638   52    0    0]\n",
      " [  98   42   25   40   47   53   30 2279   10    6]\n",
      " [   0    0    0    0    0    0    0   31   58    2]\n",
      " [   0    0    0    0    0    0    0   32    1  108]]\n"
     ]
    }
   ],
   "source": [
    "y_pred_class = pipeline.predict(X_test)\n",
    "print('accuracy_score: ', metrics.accuracy_score(y_test, y_pred_class)) # 指所有分类正确的百分比\n",
    "print(metrics.classification_report(y_test, y_pred_class))\n",
    "print('confusion_matrix: ')\n",
    "print( metrics.confusion_matrix(y_test, y_pred_class))\n",
    "filename = 'statistics_result/PICC_class_model_report.csv'\n",
    "save_model_report(filename, 'PICC_class_model_report')"
   ]
  },
  {
   "cell_type": "code",
   "execution_count": null,
   "metadata": {
    "ExecuteTime": {
     "start_time": "2018-12-21T05:59:38.067Z"
    }
   },
   "outputs": [
    {
     "name": "stdout",
     "output_type": "stream",
     "text": [
      "d:\\xh\\python_project\\tool\\toolkits\\nlp\n",
      "d:\\xh\\python_project\\tool\\toolkits\\nlp\n"
     ]
    }
   ],
   "source": [
    "pipeline = Pipeline([\n",
    "    ('features', FeatureUnion([\n",
    "        ('tf_idf', Pipeline([\n",
    "            ('counts', CountVectorizer(max_df=0.95, min_df=2)),\n",
    "            ('tf_idf', TfidfTransformer()),\n",
    "            ('chi', SelectKBest(chi2, k=20000))\n",
    "        ])),\n",
    "        ('len_stats', myclass_circ.StatsFeatures_cor()),\n",
    "        ('tf', myclass_circ.Statskeywords_cor(topk = 5000, types = 'picc')),\n",
    "        ('picc_tf', myclass_circ.StatsFeatures_tf_picc()),\n",
    "    ])),\n",
    "    ('standard', StandardScaler(with_mean=False)),\n",
    "    ('classifier', XGBClassifier(max_depth=7,objective='multi:softmax', num_class=10))\n",
    "])\n",
    "\n",
    "pipeline.fit(X_train, y_train)\n",
    "print(pipeline.score(X_train, y_train))\n",
    "pipeline"
   ]
  },
  {
   "cell_type": "code",
   "execution_count": 33,
   "metadata": {
    "ExecuteTime": {
     "end_time": "2018-12-21T06:33:26.672056Z",
     "start_time": "2018-12-21T06:33:03.778747Z"
    }
   },
   "outputs": [
    {
     "name": "stdout",
     "output_type": "stream",
     "text": [
      "accuracy_score:  0.8372838657964045\n",
      "             precision    recall  f1-score   support\n",
      "\n",
      "          1       0.83      0.86      0.85       988\n",
      "          2       0.79      0.83      0.81      1106\n",
      "          3       0.84      0.76      0.79       441\n",
      "          4       0.87      0.83      0.85       609\n",
      "          5       0.79      0.79      0.79      1027\n",
      "          6       0.81      0.87      0.84       923\n",
      "          7       0.86      0.81      0.84       777\n",
      "          8       0.87      0.87      0.87      2630\n",
      "          9       0.86      0.66      0.75        91\n",
      "         10       0.92      0.77      0.84       141\n",
      "\n",
      "avg / total       0.84      0.84      0.84      8733\n",
      "\n",
      "confusion_matrix: \n",
      "[[ 852   44    3    1    5    4    2   77    0    0]\n",
      " [  39  921   14   13   32   26   17   44    0    0]\n",
      " [   2   22  333    3   21   34    8   18    0    0]\n",
      " [  11   18    0  507   37    4    3   29    0    0]\n",
      " [   2   76    4   18  814   45   29   39    0    0]\n",
      " [   5   27   13    1   27  805   13   32    0    0]\n",
      " [  16   13    3    2   41   17  633   52    0    0]\n",
      " [  99   38   28   37   52   53   29 2278    9    7]\n",
      " [   0    0    0    0    0    0    0   29   60    2]\n",
      " [   0    0    0    0    0    0    0   31    1  109]]\n"
     ]
    }
   ],
   "source": [
    "y_pred_class = pipeline.predict(X_test)\n",
    "print('accuracy_score: ', metrics.accuracy_score(y_test, y_pred_class)) # 指所有分类正确的百分比\n",
    "print(metrics.classification_report(y_test, y_pred_class))\n",
    "print('confusion_matrix: ')\n",
    "print( metrics.confusion_matrix(y_test, y_pred_class))\n",
    "filename = 'statistics_result/PICC_class_model_report.csv'\n",
    "save_model_report(filename, 'PICC_class_model_report')"
   ]
  },
  {
   "cell_type": "markdown",
   "metadata": {},
   "source": [
    "## 概率结果"
   ]
  },
  {
   "cell_type": "code",
   "execution_count": 38,
   "metadata": {
    "ExecuteTime": {
     "end_time": "2018-12-03T07:30:59.460914Z",
     "start_time": "2018-12-03T07:30:40.393823Z"
    }
   },
   "outputs": [
    {
     "data": {
      "text/plain": [
       "<matplotlib.axes._subplots.AxesSubplot at 0x28f03c8>"
      ]
     },
     "execution_count": 38,
     "metadata": {},
     "output_type": "execute_result"
    },
    {
     "data": {
      "image/png": "[encoded data removed]",
      "text/plain": [
       "<matplotlib.figure.Figure at 0x38e75f8>"
      ]
     },
     "metadata": {},
     "output_type": "display_data"
    }
   ],
   "source": [
    "y_pred_prob = pipeline.predict_proba(X_test)\n",
    "pd.DataFrame(y_pred_prob.max(axis = 1)).plot.hist(bins = 100)"
   ]
  },
  {
   "cell_type": "code",
   "execution_count": 39,
   "metadata": {
    "ExecuteTime": {
     "end_time": "2018-12-03T07:31:03.966172Z",
     "start_time": "2018-12-03T07:31:02.013060Z"
    }
   },
   "outputs": [
    {
     "data": {
      "text/html": [
       "<div>\n",
       "<style scoped>\n",
       "    .dataframe tbody tr th:only-of-type {\n",
       "        vertical-align: middle;\n",
       "    }\n",
       "\n",
       "    .dataframe tbody tr th {\n",
       "        vertical-align: top;\n",
       "    }\n",
       "\n",
       "    .dataframe thead th {\n",
       "        text-align: right;\n",
       "    }\n",
       "</style>\n",
       "<table border=\"1\" class=\"dataframe\">\n",
       "  <thead>\n",
       "    <tr style=\"text-align: right;\">\n",
       "      <th>proba</th>\n",
       "      <th>0.2</th>\n",
       "      <th>0.3</th>\n",
       "      <th>0.4</th>\n",
       "      <th>0.5</th>\n",
       "      <th>0.6</th>\n",
       "      <th>0.7</th>\n",
       "      <th>0.8</th>\n",
       "      <th>0.9</th>\n",
       "      <th>1.0</th>\n",
       "      <th>sum</th>\n",
       "    </tr>\n",
       "    <tr>\n",
       "      <th>predict_label</th>\n",
       "      <th></th>\n",
       "      <th></th>\n",
       "      <th></th>\n",
       "      <th></th>\n",
       "      <th></th>\n",
       "      <th></th>\n",
       "      <th></th>\n",
       "      <th></th>\n",
       "      <th></th>\n",
       "      <th></th>\n",
       "    </tr>\n",
       "  </thead>\n",
       "  <tbody>\n",
       "    <tr>\n",
       "      <th>1</th>\n",
       "      <td>0.0</td>\n",
       "      <td>7.0</td>\n",
       "      <td>37.0</td>\n",
       "      <td>88.0</td>\n",
       "      <td>131.0</td>\n",
       "      <td>115.0</td>\n",
       "      <td>177.0</td>\n",
       "      <td>280.0</td>\n",
       "      <td>178.0</td>\n",
       "      <td>1013.0</td>\n",
       "    </tr>\n",
       "    <tr>\n",
       "      <th>2</th>\n",
       "      <td>0.0</td>\n",
       "      <td>24.0</td>\n",
       "      <td>68.0</td>\n",
       "      <td>85.0</td>\n",
       "      <td>91.0</td>\n",
       "      <td>96.0</td>\n",
       "      <td>134.0</td>\n",
       "      <td>236.0</td>\n",
       "      <td>238.0</td>\n",
       "      <td>972.0</td>\n",
       "    </tr>\n",
       "    <tr>\n",
       "      <th>3</th>\n",
       "      <td>1.0</td>\n",
       "      <td>8.0</td>\n",
       "      <td>29.0</td>\n",
       "      <td>39.0</td>\n",
       "      <td>27.0</td>\n",
       "      <td>35.0</td>\n",
       "      <td>41.0</td>\n",
       "      <td>70.0</td>\n",
       "      <td>85.0</td>\n",
       "      <td>335.0</td>\n",
       "    </tr>\n",
       "    <tr>\n",
       "      <th>4</th>\n",
       "      <td>1.0</td>\n",
       "      <td>6.0</td>\n",
       "      <td>23.0</td>\n",
       "      <td>33.0</td>\n",
       "      <td>35.0</td>\n",
       "      <td>41.0</td>\n",
       "      <td>70.0</td>\n",
       "      <td>132.0</td>\n",
       "      <td>170.0</td>\n",
       "      <td>511.0</td>\n",
       "    </tr>\n",
       "    <tr>\n",
       "      <th>5</th>\n",
       "      <td>4.0</td>\n",
       "      <td>53.0</td>\n",
       "      <td>102.0</td>\n",
       "      <td>104.0</td>\n",
       "      <td>99.0</td>\n",
       "      <td>79.0</td>\n",
       "      <td>128.0</td>\n",
       "      <td>195.0</td>\n",
       "      <td>208.0</td>\n",
       "      <td>972.0</td>\n",
       "    </tr>\n",
       "    <tr>\n",
       "      <th>6</th>\n",
       "      <td>1.0</td>\n",
       "      <td>12.0</td>\n",
       "      <td>25.0</td>\n",
       "      <td>51.0</td>\n",
       "      <td>74.0</td>\n",
       "      <td>66.0</td>\n",
       "      <td>89.0</td>\n",
       "      <td>197.0</td>\n",
       "      <td>310.0</td>\n",
       "      <td>825.0</td>\n",
       "    </tr>\n",
       "    <tr>\n",
       "      <th>7</th>\n",
       "      <td>2.0</td>\n",
       "      <td>16.0</td>\n",
       "      <td>38.0</td>\n",
       "      <td>40.0</td>\n",
       "      <td>36.0</td>\n",
       "      <td>37.0</td>\n",
       "      <td>63.0</td>\n",
       "      <td>114.0</td>\n",
       "      <td>302.0</td>\n",
       "      <td>648.0</td>\n",
       "    </tr>\n",
       "    <tr>\n",
       "      <th>8</th>\n",
       "      <td>8.0</td>\n",
       "      <td>50.0</td>\n",
       "      <td>130.0</td>\n",
       "      <td>219.0</td>\n",
       "      <td>233.0</td>\n",
       "      <td>213.0</td>\n",
       "      <td>266.0</td>\n",
       "      <td>321.0</td>\n",
       "      <td>646.0</td>\n",
       "      <td>2086.0</td>\n",
       "    </tr>\n",
       "    <tr>\n",
       "      <th>9</th>\n",
       "      <td>0.0</td>\n",
       "      <td>2.0</td>\n",
       "      <td>23.0</td>\n",
       "      <td>91.0</td>\n",
       "      <td>103.0</td>\n",
       "      <td>114.0</td>\n",
       "      <td>189.0</td>\n",
       "      <td>385.0</td>\n",
       "      <td>507.0</td>\n",
       "      <td>1414.0</td>\n",
       "    </tr>\n",
       "    <tr>\n",
       "      <th>10</th>\n",
       "      <td>0.0</td>\n",
       "      <td>1.0</td>\n",
       "      <td>2.0</td>\n",
       "      <td>7.0</td>\n",
       "      <td>6.0</td>\n",
       "      <td>16.0</td>\n",
       "      <td>18.0</td>\n",
       "      <td>30.0</td>\n",
       "      <td>69.0</td>\n",
       "      <td>149.0</td>\n",
       "    </tr>\n",
       "    <tr>\n",
       "      <th>sum</th>\n",
       "      <td>17.0</td>\n",
       "      <td>179.0</td>\n",
       "      <td>477.0</td>\n",
       "      <td>757.0</td>\n",
       "      <td>835.0</td>\n",
       "      <td>812.0</td>\n",
       "      <td>1175.0</td>\n",
       "      <td>1960.0</td>\n",
       "      <td>2713.0</td>\n",
       "      <td>8925.0</td>\n",
       "    </tr>\n",
       "  </tbody>\n",
       "</table>\n",
       "</div>"
      ],
      "text/plain": [
       "proba           0.2    0.3    0.4    0.5    0.6    0.7     0.8     0.9  \\\n",
       "predict_label                                                            \n",
       "1               0.0    7.0   37.0   88.0  131.0  115.0   177.0   280.0   \n",
       "2               0.0   24.0   68.0   85.0   91.0   96.0   134.0   236.0   \n",
       "3               1.0    8.0   29.0   39.0   27.0   35.0    41.0    70.0   \n",
       "4               1.0    6.0   23.0   33.0   35.0   41.0    70.0   132.0   \n",
       "5               4.0   53.0  102.0  104.0   99.0   79.0   128.0   195.0   \n",
       "6               1.0   12.0   25.0   51.0   74.0   66.0    89.0   197.0   \n",
       "7               2.0   16.0   38.0   40.0   36.0   37.0    63.0   114.0   \n",
       "8               8.0   50.0  130.0  219.0  233.0  213.0   266.0   321.0   \n",
       "9               0.0    2.0   23.0   91.0  103.0  114.0   189.0   385.0   \n",
       "10              0.0    1.0    2.0    7.0    6.0   16.0    18.0    30.0   \n",
       "sum            17.0  179.0  477.0  757.0  835.0  812.0  1175.0  1960.0   \n",
       "\n",
       "proba             1.0     sum  \n",
       "predict_label                  \n",
       "1               178.0  1013.0  \n",
       "2               238.0   972.0  \n",
       "3                85.0   335.0  \n",
       "4               170.0   511.0  \n",
       "5               208.0   972.0  \n",
       "6               310.0   825.0  \n",
       "7               302.0   648.0  \n",
       "8               646.0  2086.0  \n",
       "9               507.0  1414.0  \n",
       "10               69.0   149.0  \n",
       "sum            2713.0  8925.0  "
      ]
     },
     "execution_count": 39,
     "metadata": {},
     "output_type": "execute_result"
    },
    {
     "data": {
      "image/png": "[encoded data removed]",
      "text/plain": [
       "<matplotlib.figure.Figure at 0x3cabb470>"
      ]
     },
     "metadata": {},
     "output_type": "display_data"
    }
   ],
   "source": [
    "sel_data_stat = plot_class_proba(y_pred_class, y_pred_prob.max(axis = 1))\n",
    "sel_data_stat"
   ]
  },
  {
   "cell_type": "markdown",
   "metadata": {},
   "source": [
    "## K-fold"
   ]
  },
  {
   "cell_type": "code",
   "execution_count": null,
   "metadata": {
    "ExecuteTime": {
     "start_time": "2018-09-19T02:37:15.664Z"
    }
   },
   "outputs": [
    {
     "name": "stdout",
     "output_type": "stream",
     "text": [
      "d:\\xh\\python_project\\tool\\toolkits\\nlp\n",
      "d:\\xh\\python_project\\tool\\toolkits\\nlp\n",
      "data_raw:  (18022, 5)\n",
      "---- 1\n",
      "0.9890407158215995\n",
      "accuracy_score:  0.860748959778086\n",
      "             precision    recall  f1-score   support\n",
      "\n",
      "          1       0.82      0.83      0.83       431\n",
      "          2       0.84      0.85      0.84       487\n",
      "          3       0.89      0.73      0.80       187\n",
      "          4       0.90      0.80      0.85       244\n",
      "          5       0.80      0.85      0.83       456\n",
      "          6       0.90      0.93      0.91       388\n",
      "          7       0.91      0.83      0.86       382\n",
      "          8       0.87      0.90      0.89      1030\n",
      "\n",
      "avg / total       0.86      0.86      0.86      3605\n",
      "\n",
      "confusion_matrix: \n",
      "[[358  22   0   1   5   0   1  44]\n",
      " [ 18 416   2   2  16   7   3  23]\n",
      " [  1   7 136   0  16  13   3  11]\n",
      " [  7   8   0 196  12   0   0  21]\n",
      " [  4  27   3   3 389   8  11  11]\n",
      " [  1   2   1   0   6 361   6  11]\n",
      " [  7   8   4   1  25   7 316  14]\n",
      " [ 39   8   7  14  15   7   9 931]]\n",
      "---- 2\n",
      "0.9900117916348755\n",
      "accuracy_score:  0.8649098474341192\n",
      "             precision    recall  f1-score   support\n",
      "\n",
      "          1       0.85      0.86      0.86       433\n",
      "          2       0.81      0.84      0.83       480\n",
      "          3       0.89      0.80      0.85       204\n",
      "          4       0.91      0.81      0.86       278\n",
      "          5       0.82      0.82      0.82       426\n",
      "          6       0.88      0.93      0.91       355\n",
      "          7       0.90      0.87      0.88       389\n",
      "          8       0.88      0.90      0.89      1040\n",
      "\n",
      "avg / total       0.87      0.86      0.86      3605\n",
      "\n",
      "confusion_matrix: \n",
      "[[373  21   1   0   1   0   4  33]\n",
      " [ 16 403   4   3  14  10   4  26]\n",
      " [  0  11 164   0   6  11   2  10]\n",
      " [  6  12   0 226  14   1   0  19]\n",
      " [  3  22   7   5 350  10  12  17]\n",
      " [  3   4   3   0   5 331   5   4]\n",
      " [  2   4   0   1  20   7 338  17]\n",
      " [ 34  18   5  13  19   6  12 933]]\n",
      "---- 3\n"
     ]
    }
   ],
   "source": [
    "pipeline = Pipeline([\n",
    "    ('features', FeatureUnion([\n",
    "        ('tf_idf', Pipeline([\n",
    "            ('counts', CountVectorizer(max_df=0.95, min_df=2)),\n",
    "            ('tf_idf', TfidfTransformer()),\n",
    "            ('chi', SelectKBest(chi2, k=20000))\n",
    "        ])),\n",
    "        ('len_stats', myclass_circ.StatsFeatures_cor()),\n",
    "        ('tf', myclass_circ.Statskeywords_cor(topk = 5000))\n",
    "    ])),\n",
    "    ('standard', StandardScaler(with_mean=False)),\n",
    "    ('classifier', XGBClassifier(max_depth=7,objective='multi:softmax', num_class=10))\n",
    "])\n",
    "\n",
    "filename = 'picc_class_label_proba_20181008.xlsx'\n",
    "cal_kfold(title_content, label, pipeline, 'picc_result_class', filename, class_name_dict)"
   ]
  },
  {
   "cell_type": "code",
   "execution_count": null,
   "metadata": {
    "ExecuteTime": {
     "start_time": "2018-09-19T02:37:27.493Z"
    },
    "collapsed": true
   },
   "outputs": [],
   "source": [
    "import xlrd\n",
    "\n",
    "kfold_result = pd.DataFrame()\n",
    "\n",
    "currentPath  = 'picc_result_class/corpus/picc_class_label_proba_20181008.xlsx'\n",
    "excel = xlrd.open_workbook(currentPath)\n",
    "sheet_names = [sheet.name for sheet in excel.sheets()]\n",
    "for sheet_name in sheet_names:   \n",
    "    tmp_data = pd.read_excel(currentPath, sheet_name)     \n",
    "    kfold_result = pd.concat([kfold_result, tmp_data], axis = 0)\n",
    "\n",
    "kfold_result.index = range(kfold_result.shape[0])\n",
    "kfold_result.insert(0, '备注', '')\n",
    "print('总数：', kfold_result.shape)\n",
    "# kfold_result.head()"
   ]
  },
  {
   "cell_type": "code",
   "execution_count": null,
   "metadata": {
    "ExecuteTime": {
     "start_time": "2018-09-19T02:39:45.140Z"
    },
    "collapsed": true
   },
   "outputs": [],
   "source": [
    "K_S_sel = kfold_result[(kfold_result['predict_proba'] < 0.65) | (kfold_result['R_W'] == 'Wrong')]\n",
    "K_S_else = kfold_result[~((kfold_result['predict_proba'] < 0.65) | (kfold_result['R_W'] == 'Wrong'))]\n",
    "print(kfold_result.shape)\n",
    "print(K_S_else.shape)\n",
    "print(K_S_sel.shape)\n",
    "K_S_sel.groupby(['R_W', 'predict_label'])['label'].count()"
   ]
  },
  {
   "cell_type": "code",
   "execution_count": null,
   "metadata": {
    "collapsed": true
   },
   "outputs": [],
   "source": [
    "fea_filename = 'picc_result_class/result/20181008_picc_class_sel.xlsx'\n",
    "with pd.ExcelWriter(fea_filename) as writer:\n",
    "    for label in K_S_sel['predict_label'].unique():\n",
    "        tmp_data = K_S_sel[K_S_sel['predict_label'] == label]\n",
    "        N = tmp_data.shape[0]\n",
    "        tmp_data.sample(n = N, axis = 0, random_state=42).to_excel(writer,label, index = False)    \n",
    "    writer.save()\n",
    "    \n",
    "fea_filename = 'picc_result_class/result/20181008_picc_class_else.xlsx'\n",
    "with pd.ExcelWriter(fea_filename) as writer:\n",
    "    for label in K_S_else['predict_label'].unique():\n",
    "        tmp_data = K_S_else[K_S_else['predict_label'] == label]\n",
    "        N = tmp_data.shape[0]\n",
    "        tmp_data.sample(n = N, axis = 0, random_state=42).to_excel(writer,label, index = False)    \n",
    "    writer.save()    "
   ]
  },
  {
   "cell_type": "code",
   "execution_count": null,
   "metadata": {
    "ExecuteTime": {
     "start_time": "2018-09-19T02:39:51.232Z"
    },
    "collapsed": true
   },
   "outputs": [],
   "source": [
    "y_test = kfold_result['predict_label'].tolist()\n",
    "y_pred_class = kfold_result['label'].tolist()\n",
    "print('accuracy_score: ', metrics.accuracy_score(y_test, y_pred_class)) # 指所有分类正确的百分比\n",
    "print(metrics.classification_report(y_test, y_pred_class))\n",
    "print('confusion_matrix: ')\n",
    "print( metrics.confusion_matrix(y_test, y_pred_class))"
   ]
  },
  {
   "cell_type": "code",
   "execution_count": null,
   "metadata": {
    "ExecuteTime": {
     "start_time": "2018-09-19T02:39:51.922Z"
    },
    "collapsed": true
   },
   "outputs": [],
   "source": [
    "y_pred_prob = kfold_result['predict_proba'].tolist()\n",
    "\n",
    "sel_data_stat = plot_class_proba(y_pred_class, y_pred_prob)\n",
    "sel_data_stat"
   ]
  },
  {
   "cell_type": "markdown",
   "metadata": {},
   "source": [
    "## 保存模型"
   ]
  },
  {
   "cell_type": "code",
   "execution_count": 30,
   "metadata": {
    "ExecuteTime": {
     "end_time": "2018-12-24T03:51:37.189048Z",
     "start_time": "2018-12-24T03:14:27.861538Z"
    }
   },
   "outputs": [
    {
     "name": "stdout",
     "output_type": "stream",
     "text": [
      "d:\\xh\\python_project\\tool\\toolkits\\nlp\n",
      "d:\\xh\\python_project\\tool\\toolkits\\nlp\n",
      "0.9643339840816939\n"
     ]
    },
    {
     "data": {
      "text/plain": [
       "Pipeline(memory=None,\n",
       "     steps=[('features', FeatureUnion(n_jobs=1,\n",
       "       transformer_list=[('tf_idf', Pipeline(memory=None,\n",
       "     steps=[('counts', CountVectorizer(analyzer='word', binary=False, decode_error='strict',\n",
       "        dtype=<class 'numpy.int64'>, encoding='utf-8', input='content',\n",
       "        lowercase=True, max_df=0.9...tate=0, reg_alpha=0, reg_lambda=1, scale_pos_weight=1,\n",
       "       seed=None, silent=True, subsample=1))])"
      ]
     },
     "execution_count": 30,
     "metadata": {},
     "output_type": "execute_result"
    }
   ],
   "source": [
    "pipeline = Pipeline([\n",
    "    ('features', FeatureUnion([\n",
    "        ('tf_idf', Pipeline([\n",
    "            ('counts', CountVectorizer(max_df=0.95, min_df=2)),\n",
    "            ('tf_idf', TfidfTransformer()),\n",
    "            ('chi', SelectKBest(chi2, k=20000))\n",
    "        ])),\n",
    "        ('len_stats', myclass_circ.StatsFeatures_cor()),\n",
    "        ('tf', myclass_circ.Statskeywords_cor(topk = 5000, types = 'picc')),\n",
    "        ('picc_tf', myclass_circ.StatsFeatures_tf_picc()),\n",
    "    ])),\n",
    "    ('standard', StandardScaler(with_mean=False)),\n",
    "    ('classifier', XGBClassifier(max_depth=7,objective='multi:softmax', num_class=10))\n",
    "])\n",
    "\n",
    "pipeline.fit(title_content, label)\n",
    "print(pipeline.score(title_content, label))\n",
    "pipeline"
   ]
  },
  {
   "cell_type": "code",
   "execution_count": 19,
   "metadata": {
    "ExecuteTime": {
     "end_time": "2018-12-21T04:01:51.393836Z",
     "start_time": "2018-12-21T04:01:45.621506Z"
    }
   },
   "outputs": [
    {
     "data": {
      "text/plain": [
       "['model/circ_picc_10classifier_1221.pkl.z']"
      ]
     },
     "execution_count": 19,
     "metadata": {},
     "output_type": "execute_result"
    }
   ],
   "source": [
    "from sklearn.externals import joblib\n",
    "joblib.dump(pipeline, \"model/circ_picc_10classifier_1221.pkl.z\")"
   ]
  },
  {
   "cell_type": "code",
   "execution_count": 20,
   "metadata": {
    "ExecuteTime": {
     "end_time": "2018-12-21T04:01:58.301231Z",
     "start_time": "2018-12-21T04:01:54.760028Z"
    }
   },
   "outputs": [
    {
     "name": "stdout",
     "output_type": "stream",
     "text": [
      "(18861, 11)\n",
      "交通    17793\n",
      "环保     1068\n",
      "Name: predict_label_mysql, dtype: int64\n"
     ]
    },
    {
     "data": {
      "text/html": [
       "<div>\n",
       "<style scoped>\n",
       "    .dataframe tbody tr th:only-of-type {\n",
       "        vertical-align: middle;\n",
       "    }\n",
       "\n",
       "    .dataframe tbody tr th {\n",
       "        vertical-align: top;\n",
       "    }\n",
       "\n",
       "    .dataframe thead th {\n",
       "        text-align: right;\n",
       "    }\n",
       "</style>\n",
       "<table border=\"1\" class=\"dataframe\">\n",
       "  <thead>\n",
       "    <tr style=\"text-align: right;\">\n",
       "      <th></th>\n",
       "      <th>id</th>\n",
       "      <th>gather_type</th>\n",
       "      <th>type</th>\n",
       "      <th>urlhash</th>\n",
       "      <th>predict_label_mysql</th>\n",
       "      <th>label</th>\n",
       "      <th>title</th>\n",
       "      <th>content</th>\n",
       "      <th>group_id</th>\n",
       "      <th>publishtime</th>\n",
       "      <th>tendency</th>\n",
       "    </tr>\n",
       "  </thead>\n",
       "  <tbody>\n",
       "    <tr>\n",
       "      <th>0</th>\n",
       "      <td>12442494</td>\n",
       "      <td>系统采集</td>\n",
       "      <td>中国人保</td>\n",
       "      <td>-1751185622673544960</td>\n",
       "      <td>交通</td>\n",
       "      <td>NaN</td>\n",
       "      <td>石油从地下开采，长此以往会破坏地球的内部结构，地球会塌陷？</td>\n",
       "      <td>石油从地下开采，长此以往会破坏地球的内部结构，地球会塌陷？石油是地球上流动的黄金，是人类最重...</td>\n",
       "      <td>新闻</td>\n",
       "      <td>2018-12-10 19:27:52</td>\n",
       "      <td>0</td>\n",
       "    </tr>\n",
       "  </tbody>\n",
       "</table>\n",
       "</div>"
      ],
      "text/plain": [
       "         id gather_type  type              urlhash predict_label_mysql  label  \\\n",
       "0  12442494        系统采集  中国人保 -1751185622673544960                  交通    NaN   \n",
       "\n",
       "                           title  \\\n",
       "0  石油从地下开采，长此以往会破坏地球的内部结构，地球会塌陷？   \n",
       "\n",
       "                                             content group_id  \\\n",
       "0  石油从地下开采，长此以往会破坏地球的内部结构，地球会塌陷？石油是地球上流动的黄金，是人类最重...       新闻   \n",
       "\n",
       "          publishtime  tendency  \n",
       "0 2018-12-10 19:27:52         0  "
      ]
     },
     "execution_count": 20,
     "metadata": {},
     "output_type": "execute_result"
    }
   ],
   "source": [
    "picc_data = pd.read_excel('picc_result_class/picc_data_20181220(1210-1219).xlsx')\n",
    "picc_data.rename(columns = {'predict_label':'predict_label_mysql'}, inplace=True)\n",
    "print(picc_data.shape)\n",
    "print(picc_data['predict_label_mysql'].value_counts())\n",
    "picc_data.iloc[:1,:]"
   ]
  },
  {
   "cell_type": "code",
   "execution_count": 21,
   "metadata": {
    "ExecuteTime": {
     "end_time": "2018-12-21T04:05:21.301842Z",
     "start_time": "2018-12-21T04:02:01.687425Z"
    }
   },
   "outputs": [
    {
     "name": "stdout",
     "output_type": "stream",
     "text": [
      "8     12946\n",
      "9      3292\n",
      "10     2492\n",
      "6        46\n",
      "7        35\n",
      "5        26\n",
      "4        20\n",
      "2         2\n",
      "1         2\n",
      "Name: predict_label, dtype: int64\n"
     ]
    }
   ],
   "source": [
    "picc_data_sel = picc_data[['id', 'title', 'content']]\n",
    "picc_data_sel['title_content'] = picc_data_sel['title'].astype(str) + '。' + picc_data_sel['content'].astype(str)\n",
    "data_list = picc_data_sel['title_content'].astype(str).tolist()\n",
    "picc_data_sel_pre = pre_cor_circ.handle_contents(data_list)\n",
    "\n",
    "correlation_pipeline = joblib.load(\"model/circ_picc_10classifier_1221.pkl.z\")\n",
    "correlation_res = correlation_pipeline.predict(picc_data_sel_pre)\n",
    "picc_data_sel['predict_label'] = correlation_res\n",
    "print(picc_data_sel['predict_label'].value_counts())"
   ]
  },
  {
   "cell_type": "code",
   "execution_count": 26,
   "metadata": {
    "ExecuteTime": {
     "end_time": "2018-12-21T05:59:17.423846Z",
     "start_time": "2018-12-21T05:59:17.115828Z"
    },
    "collapsed": true
   },
   "outputs": [],
   "source": [
    "# picc_data = pd.merge(picc_data, picc_data_sel[['id', 'predict_label']], on='id')\n",
    "# print(picc_data.shape)\n",
    "# print(picc_data['predict_label_mysql'].value_counts())\n",
    "\n",
    "# picc_data['predict_label'] = picc_data['predict_label'].apply(lambda x:class_name_dict[x])\n",
    "\n",
    "# fea_filename = 'picc_result_class/picc_data_local_predict_20181220(1210-1219).xlsx'\n",
    "# with pd.ExcelWriter(fea_filename) as writer:\n",
    "#     picc_data[picc_data['predict_label'] == '交通'].to_excel(writer,'交通')\n",
    "#     picc_data[picc_data['predict_label'] == '环保'].to_excel(writer,'环保')\n",
    "#     writer.save()"
   ]
  },
  {
   "cell_type": "markdown",
   "metadata": {
    "collapsed": true
   },
   "source": [
    "# 保险业：2 倾向性"
   ]
  },
  {
   "cell_type": "markdown",
   "metadata": {},
   "source": [
    "## 导入与分割数据"
   ]
  },
  {
   "cell_type": "code",
   "execution_count": 7,
   "metadata": {
    "ExecuteTime": {
     "end_time": "2018-12-29T01:41:29.498793Z",
     "start_time": "2018-12-29T01:41:28.869757Z"
    }
   },
   "outputs": [
    {
     "name": "stdout",
     "output_type": "stream",
     "text": [
      "title num:  6545\n",
      "['决定书 国寿财险 瑞金 支公司 存在 以下 违法行为', '转型 阵痛 净利下滑']\n",
      "content num:  6545\n",
      "title_content num:  6545\n",
      "label num:  6545\n",
      "['-1', '-1', '-1', '-1', '-1']\n"
     ]
    },
    {
     "data": {
      "text/plain": [
       "[-1, -1, -1, -1, -1]"
      ]
     },
     "execution_count": 7,
     "metadata": {},
     "output_type": "execute_result"
    }
   ],
   "source": [
    "cbrc_filepath_class = 'circ_result_tendency/corpus/'\n",
    "title_content, label, title, content = load_save_plot_file.title_content_label(cbrc_filepath_class)\n",
    "label = [int(l) for l in label]\n",
    "label[:5]"
   ]
  },
  {
   "cell_type": "code",
   "execution_count": 8,
   "metadata": {
    "ExecuteTime": {
     "end_time": "2018-12-29T01:41:30.441846Z",
     "start_time": "2018-12-29T01:41:30.305839Z"
    }
   },
   "outputs": [
    {
     "data": {
      "text/plain": [
       "{-1: '负面', 0: '非负'}"
      ]
     },
     "execution_count": 8,
     "metadata": {},
     "output_type": "execute_result"
    }
   ],
   "source": [
    "label_dic={'非负':0,'负面':-1}\n",
    "class_name_dict = {v: k for k, v in label_dic.items()}\n",
    "class_name_dict"
   ]
  },
  {
   "cell_type": "code",
   "execution_count": 9,
   "metadata": {
    "ExecuteTime": {
     "end_time": "2018-12-29T01:41:31.467905Z",
     "start_time": "2018-12-29T01:41:31.287895Z"
    }
   },
   "outputs": [
    {
     "name": "stdout",
     "output_type": "stream",
     "text": [
      "训练集： 4581\n",
      "训练集-各类数量： Counter({-1: 2358, 0: 2223})\n",
      "测试集： 1964\n",
      "测试集-各类数量： Counter({-1: 1021, 0: 943})\n"
     ]
    }
   ],
   "source": [
    "X_train, X_test, y_train, y_test = train_test_split(title_content, label, test_size=0.3, random_state=42)\n",
    "print('训练集：',len(y_train))\n",
    "print('训练集-各类数量：',Counter(y_train))\n",
    "print('测试集：',len(y_test))\n",
    "print('测试集-各类数量：',Counter(y_test))"
   ]
  },
  {
   "cell_type": "markdown",
   "metadata": {},
   "source": [
    "## train & test"
   ]
  },
  {
   "cell_type": "code",
   "execution_count": 10,
   "metadata": {
    "ExecuteTime": {
     "end_time": "2018-12-28T09:09:58.007465Z",
     "start_time": "2018-12-28T09:08:38.489917Z"
    }
   },
   "outputs": [
    {
     "name": "stdout",
     "output_type": "stream",
     "text": [
      "d:\\xh\\python_project\\tool\\toolkits\\nlp\n",
      "0.9851560794586335\n"
     ]
    },
    {
     "data": {
      "text/plain": [
       "Pipeline(memory=None,\n",
       "     steps=[('features', FeatureUnion(n_jobs=1,\n",
       "       transformer_list=[('tf_idf', Pipeline(memory=None,\n",
       "     steps=[('counts', CountVectorizer(analyzer='word', binary=False, decode_error='strict',\n",
       "        dtype=<class 'numpy.int64'>, encoding='utf-8', input='content',\n",
       "        lowercase=True, max_df=0.9...tate=0, reg_alpha=0, reg_lambda=1, scale_pos_weight=1,\n",
       "       seed=None, silent=True, subsample=1))])"
      ]
     },
     "execution_count": 10,
     "metadata": {},
     "output_type": "execute_result"
    }
   ],
   "source": [
    "pipeline = Pipeline([\n",
    "    ('features', FeatureUnion([\n",
    "        ('tf_idf', Pipeline([\n",
    "            ('counts', CountVectorizer(max_df=0.95, min_df=2)),\n",
    "            ('tf_idf', TfidfTransformer()),\n",
    "            ('chi', SelectKBest(chi2, k=20000))\n",
    "        ])),\n",
    "        ('len_stats', myclass_circ.StatsFeatures_tendency()),\n",
    "    ])),\n",
    "    ('standard', StandardScaler(with_mean=False)),\n",
    "    ('classifier', XGBClassifier(max_depth=7,objective='multi:softmax', num_class=2))\n",
    "])\n",
    "\n",
    "pipeline.fit(X_train, y_train)\n",
    "print(pipeline.score(X_train, y_train))\n",
    "pipeline"
   ]
  },
  {
   "cell_type": "code",
   "execution_count": 11,
   "metadata": {
    "ExecuteTime": {
     "end_time": "2018-12-28T09:10:01.040638Z",
     "start_time": "2018-12-28T09:09:58.594498Z"
    }
   },
   "outputs": [
    {
     "name": "stdout",
     "output_type": "stream",
     "text": [
      "accuracy_score:  0.8905295315682281\n",
      "             precision    recall  f1-score   support\n",
      "\n",
      "         -1       0.92      0.87      0.89      1021\n",
      "          0       0.86      0.92      0.89       943\n",
      "\n",
      "avg / total       0.89      0.89      0.89      1964\n",
      "\n",
      "confusion_matrix: \n",
      "[[884 137]\n",
      " [ 78 865]]\n"
     ]
    }
   ],
   "source": [
    "y_pred_class = pipeline.predict(X_test)\n",
    "print('accuracy_score: ', metrics.accuracy_score(y_test, y_pred_class)) # 指所有分类正确的百分比\n",
    "print(metrics.classification_report(y_test, y_pred_class))\n",
    "print('confusion_matrix: ')\n",
    "print( metrics.confusion_matrix(y_test, y_pred_class))\n",
    "filename = 'statistics_result/CIRC_tendency_model_report.csv'\n",
    "save_model_report(filename, 'CIRC_tendency_model_report')"
   ]
  },
  {
   "cell_type": "code",
   "execution_count": 72,
   "metadata": {
    "ExecuteTime": {
     "end_time": "2018-12-21T08:30:11.270696Z",
     "start_time": "2018-12-21T08:22:07.440023Z"
    }
   },
   "outputs": [
    {
     "name": "stdout",
     "output_type": "stream",
     "text": [
      "d:\\xh\\python_project\\tool\\toolkits\\nlp\n",
      "0.9875573018991487\n"
     ]
    },
    {
     "data": {
      "text/plain": [
       "Pipeline(memory=None,\n",
       "     steps=[('features', FeatureUnion(n_jobs=1,\n",
       "       transformer_list=[('tf_idf', Pipeline(memory=None,\n",
       "     steps=[('counts', CountVectorizer(analyzer='word', binary=False, decode_error='strict',\n",
       "        dtype=<class 'numpy.int64'>, encoding='utf-8', input='content',\n",
       "        lowercase=True, max_df=0.9...tate=0, reg_alpha=0, reg_lambda=1, scale_pos_weight=1,\n",
       "       seed=None, silent=True, subsample=1))])"
      ]
     },
     "execution_count": 72,
     "metadata": {},
     "output_type": "execute_result"
    }
   ],
   "source": [
    "pipeline = Pipeline([\n",
    "    ('features', FeatureUnion([\n",
    "        ('tf_idf', Pipeline([\n",
    "            ('counts', CountVectorizer(max_df=0.95, min_df=2)),\n",
    "            ('tf_idf', TfidfTransformer()),\n",
    "            ('chi', SelectKBest(chi2, k=20000))\n",
    "        ])),\n",
    "        ('len_stats', myclass_circ.StatsFeatures_tendency()),\n",
    "        ('tf_tendency', myclass_circ.StatsFeatures_tf_tendency()),\n",
    "    ])),\n",
    "    ('standard', StandardScaler(with_mean=False)),\n",
    "    ('classifier', XGBClassifier(max_depth=7,objective='multi:softmax', num_class=2))\n",
    "])\n",
    "\n",
    "pipeline.fit(X_train, y_train)\n",
    "print(pipeline.score(X_train, y_train))\n",
    "pipeline"
   ]
  },
  {
   "cell_type": "code",
   "execution_count": 73,
   "metadata": {
    "ExecuteTime": {
     "end_time": "2018-12-21T08:33:11.055979Z",
     "start_time": "2018-12-21T08:31:34.990485Z"
    }
   },
   "outputs": [
    {
     "name": "stdout",
     "output_type": "stream",
     "text": [
      "accuracy_score:  0.8940936863543788\n",
      "             precision    recall  f1-score   support\n",
      "\n",
      "         -1       0.92      0.87      0.90      1021\n",
      "          0       0.87      0.92      0.89       943\n",
      "\n",
      "avg / total       0.90      0.89      0.89      1964\n",
      "\n",
      "confusion_matrix: \n",
      "[[888 133]\n",
      " [ 75 868]]\n"
     ]
    }
   ],
   "source": [
    "y_pred_class = pipeline.predict(X_test)\n",
    "print('accuracy_score: ', metrics.accuracy_score(y_test, y_pred_class)) # 指所有分类正确的百分比\n",
    "print(metrics.classification_report(y_test, y_pred_class))\n",
    "print('confusion_matrix: ')\n",
    "print( metrics.confusion_matrix(y_test, y_pred_class))\n",
    "filename = 'statistics_result/CIRC_tendency_model_report.csv'\n",
    "save_model_report(filename, 'CIRC_tendency_model_report')"
   ]
  },
  {
   "cell_type": "markdown",
   "metadata": {},
   "source": [
    "### 不平衡数据处理"
   ]
  },
  {
   "cell_type": "code",
   "execution_count": 10,
   "metadata": {
    "ExecuteTime": {
     "end_time": "2018-12-29T01:41:40.786438Z",
     "start_time": "2018-12-29T01:41:39.279352Z"
    }
   },
   "outputs": [],
   "source": [
    "from imblearn.under_sampling import NearMiss\n",
    "from imblearn.pipeline import make_pipeline\n",
    "from imblearn.metrics import classification_report_imbalanced"
   ]
  },
  {
   "cell_type": "code",
   "execution_count": 17,
   "metadata": {
    "ExecuteTime": {
     "end_time": "2018-12-29T01:48:51.897096Z",
     "start_time": "2018-12-29T01:48:44.450670Z"
    }
   },
   "outputs": [
    {
     "name": "stdout",
     "output_type": "stream",
     "text": [
      "d:\\xh\\python_project\\tool\\toolkits\\nlp\n",
      "(4581, 20009)\n"
     ]
    }
   ],
   "source": [
    "## 保存特征\n",
    "pipeline = Pipeline([\n",
    "    ('features', FeatureUnion([\n",
    "        ('tf_idf', Pipeline([\n",
    "            ('counts', CountVectorizer(max_df=0.95, min_df=2)),\n",
    "            ('tf_idf', TfidfTransformer()),\n",
    "            ('chi', SelectKBest(chi2, k=20000))\n",
    "        ])),\n",
    "        ('len_stats', myclass_circ.StatsFeatures_tendency()),\n",
    "    ])),\n",
    "    ('standard', StandardScaler(with_mean=False)),\n",
    "])\n",
    "\n",
    "pipeline_train = pipeline.fit(X_train, y_train)\n",
    "X_features = pipeline_train.transform(X_train)\n",
    "print(X_features.shape)\n",
    "\n",
    "# pipeline_train = pipeline.fit(title_content, label)\n",
    "# X_features = pipeline_train.transform(title_content)\n",
    "# print(X_features.shape)\n",
    "\n",
    "# from sklearn.externals import joblib\n",
    "# joblib.dump(pipeline_train, \"model/circ_pipeline_20181105.pkl.z\")\n",
    "# joblib.dump(X_features, \"model/circ_features_20181105.pkl.z\")\n",
    "# joblib.dump(label, \"model/circ_labels_20181105.pkl.z\")"
   ]
  },
  {
   "cell_type": "code",
   "execution_count": 16,
   "metadata": {
    "ExecuteTime": {
     "end_time": "2018-12-29T01:48:29.916839Z",
     "start_time": "2018-12-29T01:47:21.648934Z"
    }
   },
   "outputs": [
    {
     "name": "stdout",
     "output_type": "stream",
     "text": [
      "0.9777341191879503\n"
     ]
    },
    {
     "data": {
      "text/plain": [
       "Pipeline(memory=None,\n",
       "     steps=[('nearmiss', NearMiss(n_jobs=1, n_neighbors=3, n_neighbors_ver3=3, random_state=None,\n",
       "     ratio=None, return_indices=False, sampling_strategy='auto', version=1)), ('xgbclassifier', XGBClassifier(base_score=0.5, booster='gbtree', colsample_bylevel=1,\n",
       "       colsample_bytree=1, gamma=0, learni...tate=0, reg_alpha=0, reg_lambda=1, scale_pos_weight=1,\n",
       "       seed=None, silent=True, subsample=1))])"
      ]
     },
     "execution_count": 16,
     "metadata": {},
     "output_type": "execute_result"
    }
   ],
   "source": [
    "clf = make_pipeline(NearMiss(),\n",
    "                    XGBClassifier(max_depth=7,objective='multi:softmax', num_class=2))\n",
    "\n",
    "clf.fit(X_features, y_train)\n",
    "print(clf.score(X_features, y_train))\n",
    "clf"
   ]
  },
  {
   "cell_type": "code",
   "execution_count": 18,
   "metadata": {
    "ExecuteTime": {
     "end_time": "2018-12-29T01:49:17.744575Z",
     "start_time": "2018-12-29T01:49:17.240546Z"
    }
   },
   "outputs": [
    {
     "name": "stdout",
     "output_type": "stream",
     "text": [
      "accuracy_score:  0.9777341191879503\n",
      "              precision    recall  f1-score   support\n",
      "\n",
      "          -1       1.00      0.96      0.98      2358\n",
      "           0       0.96      1.00      0.98      2223\n",
      "\n",
      "   micro avg       0.98      0.98      0.98      4581\n",
      "   macro avg       0.98      0.98      0.98      4581\n",
      "weighted avg       0.98      0.98      0.98      4581\n",
      "\n",
      "confusion_matrix: \n",
      "[[2260   98]\n",
      " [   4 2219]]\n"
     ]
    }
   ],
   "source": [
    "y_pred_class = clf.predict(X_features)\n",
    "print('accuracy_score: ', metrics.accuracy_score(y_train, y_pred_class)) # 指所有分类正确的百分比\n",
    "print(metrics.classification_report(y_train, y_pred_class))\n",
    "print('confusion_matrix: ')\n",
    "print( metrics.confusion_matrix(y_train, y_pred_class))"
   ]
  },
  {
   "cell_type": "code",
   "execution_count": 19,
   "metadata": {
    "ExecuteTime": {
     "end_time": "2018-12-29T01:49:49.254377Z",
     "start_time": "2018-12-29T01:49:47.595282Z"
    }
   },
   "outputs": [
    {
     "name": "stdout",
     "output_type": "stream",
     "text": [
      "accuracy_score:  0.8920570264765784\n",
      "              precision    recall  f1-score   support\n",
      "\n",
      "          -1       0.93      0.86      0.89      1021\n",
      "           0       0.86      0.93      0.89       943\n",
      "\n",
      "   micro avg       0.89      0.89      0.89      1964\n",
      "   macro avg       0.89      0.89      0.89      1964\n",
      "weighted avg       0.90      0.89      0.89      1964\n",
      "\n",
      "confusion_matrix: \n",
      "[[874 147]\n",
      " [ 65 878]]\n"
     ]
    }
   ],
   "source": [
    "y_pred_class = clf.predict(pipeline_train.transform(X_test))\n",
    "print('accuracy_score: ', metrics.accuracy_score(y_test, y_pred_class)) # 指所有分类正确的百分比\n",
    "print(metrics.classification_report(y_test, y_pred_class))\n",
    "print('confusion_matrix: ')\n",
    "print( metrics.confusion_matrix(y_test, y_pred_class))"
   ]
  },
  {
   "cell_type": "code",
   "execution_count": 13,
   "metadata": {
    "ExecuteTime": {
     "end_time": "2018-12-28T10:02:31.368827Z",
     "start_time": "2018-12-28T10:02:31.092811Z"
    }
   },
   "outputs": [
    {
     "name": "stdout",
     "output_type": "stream",
     "text": [
      "d:\\xh\\python_project\\tool\\toolkits\\nlp\n"
     ]
    },
    {
     "ename": "TypeError",
     "evalue": "Last step of Pipeline should implement fit. '[('features', FeatureUnion(n_jobs=None,\n       transformer_list=[('tf_idf', Pipeline(memory=None,\n     steps=[('counts', CountVectorizer(analyzer='word', binary=False, decode_error='strict',\n        dtype=<class 'numpy.int64'>, encoding='utf-8', input='content',\n        lowercase=True, max_df=0.95, max_features=None, min_df=2,\n        ngram_rang...000, score_func=<function chi2 at 0x0000000008332AE8>))])), ('len_stats', StatsFeatures_tendency())],\n       transformer_weights=None)), ('standard', StandardScaler(copy=True, with_mean=False, with_std=True)), NearMiss(n_jobs=1, n_neighbors=3, n_neighbors_ver3=3, random_state=None,\n     ratio=None, return_indices=False, sampling_strategy='auto', version=2), ('classifier', XGBClassifier(base_score=0.5, booster='gbtree', colsample_bylevel=1,\n       colsample_bytree=1, gamma=0, learning_rate=0.1, max_delta_step=0,\n       max_depth=7, min_child_weight=1, missing=None, n_estimators=100,\n       n_jobs=1, nthread=None, num_class=2, objective='multi:softmax',\n       random_state=0, reg_alpha=0, reg_lambda=1, scale_pos_weight=1,\n       seed=None, silent=True, subsample=1))]' (type <class 'list'>) doesn't",
     "output_type": "error",
     "traceback": [
      "\u001b[1;31m---------------------------------------------------------------------------\u001b[0m",
      "\u001b[1;31mTypeError\u001b[0m                                 Traceback (most recent call last)",
      "\u001b[1;32m<ipython-input-13-8f7d7bb4ca4d>\u001b[0m in \u001b[0;36m<module>\u001b[1;34m()\u001b[0m\n\u001b[0;32m     10\u001b[0m     \u001b[1;33m(\u001b[0m\u001b[1;34m'standard'\u001b[0m\u001b[1;33m,\u001b[0m \u001b[0mStandardScaler\u001b[0m\u001b[1;33m(\u001b[0m\u001b[0mwith_mean\u001b[0m\u001b[1;33m=\u001b[0m\u001b[1;32mFalse\u001b[0m\u001b[1;33m)\u001b[0m\u001b[1;33m)\u001b[0m\u001b[1;33m,\u001b[0m\u001b[1;33m\u001b[0m\u001b[0m\n\u001b[0;32m     11\u001b[0m     \u001b[0mNearMiss\u001b[0m\u001b[1;33m(\u001b[0m\u001b[0mversion\u001b[0m\u001b[1;33m=\u001b[0m\u001b[1;36m2\u001b[0m\u001b[1;33m)\u001b[0m\u001b[1;33m,\u001b[0m\u001b[1;33m\u001b[0m\u001b[0m\n\u001b[1;32m---> 12\u001b[1;33m     \u001b[1;33m(\u001b[0m\u001b[1;34m'classifier'\u001b[0m\u001b[1;33m,\u001b[0m \u001b[0mXGBClassifier\u001b[0m\u001b[1;33m(\u001b[0m\u001b[0mmax_depth\u001b[0m\u001b[1;33m=\u001b[0m\u001b[1;36m7\u001b[0m\u001b[1;33m,\u001b[0m\u001b[0mobjective\u001b[0m\u001b[1;33m=\u001b[0m\u001b[1;34m'multi:softmax'\u001b[0m\u001b[1;33m,\u001b[0m \u001b[0mnum_class\u001b[0m\u001b[1;33m=\u001b[0m\u001b[1;36m2\u001b[0m\u001b[1;33m)\u001b[0m\u001b[1;33m)\u001b[0m\u001b[1;33m\u001b[0m\u001b[0m\n\u001b[0m\u001b[0;32m     13\u001b[0m ])\n\u001b[0;32m     14\u001b[0m \u001b[1;33m\u001b[0m\u001b[0m\n",
      "\u001b[1;32mD:\\software\\conda\\lib\\site-packages\\imblearn\\pipeline.py\u001b[0m in \u001b[0;36mmake_pipeline\u001b[1;34m(*steps, **kwargs)\u001b[0m\n\u001b[0;32m    625\u001b[0m         raise TypeError('Unknown keyword arguments: \"{}\"'\n\u001b[0;32m    626\u001b[0m                         .format(list(kwargs.keys())[0]))\n\u001b[1;32m--> 627\u001b[1;33m     \u001b[1;32mreturn\u001b[0m \u001b[0mPipeline\u001b[0m\u001b[1;33m(\u001b[0m\u001b[0mpipeline\u001b[0m\u001b[1;33m.\u001b[0m\u001b[0m_name_estimators\u001b[0m\u001b[1;33m(\u001b[0m\u001b[0msteps\u001b[0m\u001b[1;33m)\u001b[0m\u001b[1;33m,\u001b[0m \u001b[0mmemory\u001b[0m\u001b[1;33m=\u001b[0m\u001b[0mmemory\u001b[0m\u001b[1;33m)\u001b[0m\u001b[1;33m\u001b[0m\u001b[0m\n\u001b[0m",
      "\u001b[1;32mD:\\software\\conda\\lib\\site-packages\\sklearn\\pipeline.py\u001b[0m in \u001b[0;36m__init__\u001b[1;34m(self, steps, memory)\u001b[0m\n\u001b[0;32m    117\u001b[0m     \u001b[1;32mdef\u001b[0m \u001b[0m__init__\u001b[0m\u001b[1;33m(\u001b[0m\u001b[0mself\u001b[0m\u001b[1;33m,\u001b[0m \u001b[0msteps\u001b[0m\u001b[1;33m,\u001b[0m \u001b[0mmemory\u001b[0m\u001b[1;33m=\u001b[0m\u001b[1;32mNone\u001b[0m\u001b[1;33m)\u001b[0m\u001b[1;33m:\u001b[0m\u001b[1;33m\u001b[0m\u001b[0m\n\u001b[0;32m    118\u001b[0m         \u001b[0mself\u001b[0m\u001b[1;33m.\u001b[0m\u001b[0msteps\u001b[0m \u001b[1;33m=\u001b[0m \u001b[0msteps\u001b[0m\u001b[1;33m\u001b[0m\u001b[0m\n\u001b[1;32m--> 119\u001b[1;33m         \u001b[0mself\u001b[0m\u001b[1;33m.\u001b[0m\u001b[0m_validate_steps\u001b[0m\u001b[1;33m(\u001b[0m\u001b[1;33m)\u001b[0m\u001b[1;33m\u001b[0m\u001b[0m\n\u001b[0m\u001b[0;32m    120\u001b[0m         \u001b[0mself\u001b[0m\u001b[1;33m.\u001b[0m\u001b[0mmemory\u001b[0m \u001b[1;33m=\u001b[0m \u001b[0mmemory\u001b[0m\u001b[1;33m\u001b[0m\u001b[0m\n\u001b[0;32m    121\u001b[0m \u001b[1;33m\u001b[0m\u001b[0m\n",
      "\u001b[1;32mD:\\software\\conda\\lib\\site-packages\\imblearn\\pipeline.py\u001b[0m in \u001b[0;36m_validate_steps\u001b[1;34m(self)\u001b[0m\n\u001b[0;32m    151\u001b[0m             raise TypeError(\"Last step of Pipeline should implement fit. \"\n\u001b[0;32m    152\u001b[0m                             \"'%s' (type %s) doesn't\" % (estimator,\n\u001b[1;32m--> 153\u001b[1;33m                                                         type(estimator)))\n\u001b[0m\u001b[0;32m    154\u001b[0m \u001b[1;33m\u001b[0m\u001b[0m\n\u001b[0;32m    155\u001b[0m     \u001b[1;31m# Estimator interface\u001b[0m\u001b[1;33m\u001b[0m\u001b[1;33m\u001b[0m\u001b[0m\n",
      "\u001b[1;31mTypeError\u001b[0m: Last step of Pipeline should implement fit. '[('features', FeatureUnion(n_jobs=None,\n       transformer_list=[('tf_idf', Pipeline(memory=None,\n     steps=[('counts', CountVectorizer(analyzer='word', binary=False, decode_error='strict',\n        dtype=<class 'numpy.int64'>, encoding='utf-8', input='content',\n        lowercase=True, max_df=0.95, max_features=None, min_df=2,\n        ngram_rang...000, score_func=<function chi2 at 0x0000000008332AE8>))])), ('len_stats', StatsFeatures_tendency())],\n       transformer_weights=None)), ('standard', StandardScaler(copy=True, with_mean=False, with_std=True)), NearMiss(n_jobs=1, n_neighbors=3, n_neighbors_ver3=3, random_state=None,\n     ratio=None, return_indices=False, sampling_strategy='auto', version=2), ('classifier', XGBClassifier(base_score=0.5, booster='gbtree', colsample_bylevel=1,\n       colsample_bytree=1, gamma=0, learning_rate=0.1, max_delta_step=0,\n       max_depth=7, min_child_weight=1, missing=None, n_estimators=100,\n       n_jobs=1, nthread=None, num_class=2, objective='multi:softmax',\n       random_state=0, reg_alpha=0, reg_lambda=1, scale_pos_weight=1,\n       seed=None, silent=True, subsample=1))]' (type <class 'list'>) doesn't"
     ]
    }
   ],
   "source": [
    "pipeline = make_pipeline([\n",
    "    ('features', FeatureUnion([\n",
    "        ('tf_idf', Pipeline([\n",
    "            ('counts', CountVectorizer(max_df=0.95, min_df=2)),\n",
    "            ('tf_idf', TfidfTransformer()),\n",
    "            ('chi', SelectKBest(chi2, k=20000))\n",
    "        ])),\n",
    "        ('len_stats', myclass_circ.StatsFeatures_tendency()),\n",
    "    ])),\n",
    "    ('standard', StandardScaler(with_mean=False)),\n",
    "    NearMiss(version=2),\n",
    "    ('classifier', XGBClassifier(max_depth=7,objective='multi:softmax', num_class=2))\n",
    "])\n",
    "\n",
    "pipeline.fit(X_train, y_train)\n",
    "print(pipeline.score(X_train, y_train))\n",
    "pipeline"
   ]
  },
  {
   "cell_type": "code",
   "execution_count": null,
   "metadata": {},
   "outputs": [],
   "source": [
    "y_pred_class = pipeline.predict(X_test)\n",
    "print('accuracy_score: ', metrics.accuracy_score(y_test, y_pred_class)) # 指所有分类正确的百分比\n",
    "print(metrics.classification_report(y_test, y_pred_class))\n",
    "print('confusion_matrix: ')\n",
    "print( metrics.confusion_matrix(y_test, y_pred_class))\n",
    "filename = 'statistics_result/CIRC_tendency_model_report.csv'\n",
    "save_model_report(filename, 'CIRC_tendency_model_report')"
   ]
  },
  {
   "cell_type": "markdown",
   "metadata": {},
   "source": [
    "## 概率结果"
   ]
  },
  {
   "cell_type": "code",
   "execution_count": 39,
   "metadata": {
    "ExecuteTime": {
     "end_time": "2018-12-21T06:36:22.569117Z",
     "start_time": "2018-12-21T06:36:19.766957Z"
    }
   },
   "outputs": [
    {
     "data": {
      "text/plain": [
       "<matplotlib.axes._subplots.AxesSubplot at 0x26fc60b8>"
      ]
     },
     "execution_count": 39,
     "metadata": {},
     "output_type": "execute_result"
    },
    {
     "data": {
      "image/png": "[encoded data removed]",
      "text/plain": [
       "<matplotlib.figure.Figure at 0x2970d080>"
      ]
     },
     "metadata": {},
     "output_type": "display_data"
    }
   ],
   "source": [
    "y_pred_prob = pipeline.predict_proba(X_test)\n",
    "pd.DataFrame(y_pred_prob.max(axis = 1)).plot.hist(bins = 100)"
   ]
  },
  {
   "cell_type": "code",
   "execution_count": 13,
   "metadata": {
    "ExecuteTime": {
     "end_time": "2018-12-14T09:11:38.360297Z",
     "start_time": "2018-12-14T09:11:38.169286Z"
    }
   },
   "outputs": [
    {
     "data": {
      "text/plain": [
       "array([[1., 0.],\n",
       "       [1., 0.],\n",
       "       [0., 1.],\n",
       "       ...,\n",
       "       [1., 0.],\n",
       "       [1., 0.],\n",
       "       [0., 1.]], dtype=float32)"
      ]
     },
     "execution_count": 13,
     "metadata": {},
     "output_type": "execute_result"
    }
   ],
   "source": [
    "y_pred_prob"
   ]
  },
  {
   "cell_type": "code",
   "execution_count": 34,
   "metadata": {
    "ExecuteTime": {
     "end_time": "2018-11-13T07:46:08.028021Z",
     "start_time": "2018-11-13T07:46:08.011020Z"
    },
    "collapsed": true
   },
   "outputs": [],
   "source": [
    "# sel_data_stat = plot_class_proba(y_pred_class, y_pred_prob)\n",
    "# sel_data_stat"
   ]
  },
  {
   "cell_type": "markdown",
   "metadata": {},
   "source": [
    "## K-fold"
   ]
  },
  {
   "cell_type": "code",
   "execution_count": 24,
   "metadata": {
    "ExecuteTime": {
     "end_time": "2018-12-24T03:09:35.960842Z",
     "start_time": "2018-12-24T03:02:04.395014Z"
    }
   },
   "outputs": [
    {
     "name": "stdout",
     "output_type": "stream",
     "text": [
      "d:\\xh\\python_project\\tool\\toolkits\\nlp\n",
      "data_raw:  (6545, 4)\n",
      "---- 1\n",
      "0.9849121466768526\n",
      "accuracy_score:  0.8869365928189458\n",
      "             precision    recall  f1-score   support\n",
      "\n",
      "         -1       0.90      0.87      0.88       645\n",
      "          0       0.88      0.90      0.89       664\n",
      "\n",
      "avg / total       0.89      0.89      0.89      1309\n",
      "\n",
      "confusion_matrix: \n",
      "[[562  83]\n",
      " [ 65 599]]\n",
      "---- 2\n",
      "0.9814744079449962\n",
      "accuracy_score:  0.894576012223071\n",
      "             precision    recall  f1-score   support\n",
      "\n",
      "         -1       0.92      0.87      0.90       681\n",
      "          0       0.87      0.92      0.89       628\n",
      "\n",
      "avg / total       0.90      0.89      0.89      1309\n",
      "\n",
      "confusion_matrix: \n",
      "[[592  89]\n",
      " [ 49 579]]\n",
      "---- 3\n",
      "0.9830022918258212\n",
      "accuracy_score:  0.8754774637127578\n",
      "             precision    recall  f1-score   support\n",
      "\n",
      "         -1       0.90      0.86      0.88       687\n",
      "          0       0.85      0.90      0.87       622\n",
      "\n",
      "avg / total       0.88      0.88      0.88      1309\n",
      "\n",
      "confusion_matrix: \n",
      "[[588  99]\n",
      " [ 64 558]]\n",
      "---- 4\n",
      "0.9831932773109243\n",
      "accuracy_score:  0.9029793735676088\n",
      "             precision    recall  f1-score   support\n",
      "\n",
      "         -1       0.93      0.88      0.90       684\n",
      "          0       0.88      0.93      0.90       625\n",
      "\n",
      "avg / total       0.90      0.90      0.90      1309\n",
      "\n",
      "confusion_matrix: \n",
      "[[603  81]\n",
      " [ 46 579]]\n",
      "---- 5\n",
      "0.9820473644003056\n",
      "accuracy_score:  0.8831168831168831\n",
      "             precision    recall  f1-score   support\n",
      "\n",
      "         -1       0.93      0.84      0.88       682\n",
      "          0       0.84      0.93      0.88       627\n",
      "\n",
      "avg / total       0.89      0.88      0.88      1309\n",
      "\n",
      "confusion_matrix: \n",
      "[[574 108]\n",
      " [ 45 582]]\n",
      "kfold_result:  (6545, 7)\n"
     ]
    }
   ],
   "source": [
    "pipeline = Pipeline([\n",
    "    ('features', FeatureUnion([\n",
    "        ('tf_idf', Pipeline([\n",
    "            ('counts', CountVectorizer(max_df=0.95, min_df=2)),\n",
    "            ('tf_idf', TfidfTransformer()),\n",
    "            ('chi', SelectKBest(chi2, k=20000))\n",
    "        ])),\n",
    "        ('len_stats', myclass_circ.StatsFeatures_tendency()),\n",
    "    ])),\n",
    "    ('standard', StandardScaler(with_mean=False)),\n",
    "    ('classifier', XGBClassifier(max_depth=7,objective='multi:softmax', num_class=2))\n",
    "])\n",
    "\n",
    "filename = 'circ_tendency_label_proba_20181224.xlsx'\n",
    "cal_kfold(title_content, label, pipeline, 'circ_result_tendency', filename, class_name_dict)"
   ]
  },
  {
   "cell_type": "markdown",
   "metadata": {},
   "source": [
    "## 保存模型"
   ]
  },
  {
   "cell_type": "code",
   "execution_count": 10,
   "metadata": {
    "ExecuteTime": {
     "end_time": "2018-12-24T02:11:39.602005Z",
     "start_time": "2018-12-24T02:10:43.580801Z"
    }
   },
   "outputs": [
    {
     "name": "stdout",
     "output_type": "stream",
     "text": [
      "d:\\xh\\python_project\\tool\\toolkits\\nlp\n",
      "0.9726508785332315\n"
     ]
    },
    {
     "data": {
      "text/plain": [
       "Pipeline(memory=None,\n",
       "     steps=[('features', FeatureUnion(n_jobs=1,\n",
       "       transformer_list=[('tf_idf', Pipeline(memory=None,\n",
       "     steps=[('counts', CountVectorizer(analyzer='word', binary=False, decode_error='strict',\n",
       "        dtype=<class 'numpy.int64'>, encoding='utf-8', input='content',\n",
       "        lowercase=True, max_df=0.9...tate=0, reg_alpha=0, reg_lambda=1, scale_pos_weight=1,\n",
       "       seed=None, silent=True, subsample=1))])"
      ]
     },
     "execution_count": 10,
     "metadata": {},
     "output_type": "execute_result"
    }
   ],
   "source": [
    "pipeline = Pipeline([\n",
    "    ('features', FeatureUnion([\n",
    "        ('tf_idf', Pipeline([\n",
    "            ('counts', CountVectorizer(max_df=0.95, min_df=2)),\n",
    "            ('tf_idf', TfidfTransformer()),\n",
    "            ('chi', SelectKBest(chi2, k=2000))\n",
    "        ])),\n",
    "        ('len_stats', myclass_circ.StatsFeatures_tendency()),\n",
    "#         ('tf_tendency', myclass_circ.StatsFeatures_tf_tendency()),\n",
    "    ])),\n",
    "    ('standard', StandardScaler(with_mean=False)),\n",
    "    ('classifier', XGBClassifier(max_depth=7,objective='multi:softmax', num_class=2))\n",
    "])\n",
    "\n",
    "pipeline.fit(title_content, label)\n",
    "print(pipeline.score(title_content, label))\n",
    "pipeline"
   ]
  },
  {
   "cell_type": "code",
   "execution_count": 12,
   "metadata": {
    "ExecuteTime": {
     "end_time": "2018-12-24T02:16:08.215369Z",
     "start_time": "2018-12-24T02:16:05.687225Z"
    }
   },
   "outputs": [
    {
     "data": {
      "text/plain": [
       "['model/circ_chapter_tendency_1224.pkl.z']"
      ]
     },
     "execution_count": 12,
     "metadata": {},
     "output_type": "execute_result"
    }
   ],
   "source": [
    "from sklearn.externals import joblib\n",
    "joblib.dump(pipeline, \"model/circ_chapter_tendency_1224.pkl.z\")"
   ]
  },
  {
   "cell_type": "code",
   "execution_count": 19,
   "metadata": {
    "ExecuteTime": {
     "end_time": "2018-12-24T02:46:45.652465Z",
     "start_time": "2018-12-24T02:46:43.782358Z"
    }
   },
   "outputs": [
    {
     "name": "stdout",
     "output_type": "stream",
     "text": [
      "(10642, 8)\n",
      " 0    9000\n",
      "-1    1642\n",
      "Name: tendency, dtype: int64\n"
     ]
    },
    {
     "data": {
      "text/html": [
       "<div>\n",
       "<style scoped>\n",
       "    .dataframe tbody tr th:only-of-type {\n",
       "        vertical-align: middle;\n",
       "    }\n",
       "\n",
       "    .dataframe tbody tr th {\n",
       "        vertical-align: top;\n",
       "    }\n",
       "\n",
       "    .dataframe thead th {\n",
       "        text-align: right;\n",
       "    }\n",
       "</style>\n",
       "<table border=\"1\" class=\"dataframe\">\n",
       "  <thead>\n",
       "    <tr style=\"text-align: right;\">\n",
       "      <th></th>\n",
       "      <th>id</th>\n",
       "      <th>group_id</th>\n",
       "      <th>predict_label_mysql</th>\n",
       "      <th>tendency</th>\n",
       "      <th>label</th>\n",
       "      <th>title</th>\n",
       "      <th>content</th>\n",
       "      <th>publishtime</th>\n",
       "    </tr>\n",
       "  </thead>\n",
       "  <tbody>\n",
       "    <tr>\n",
       "      <th>0</th>\n",
       "      <td>12872437</td>\n",
       "      <td>新闻</td>\n",
       "      <td>行业</td>\n",
       "      <td>0</td>\n",
       "      <td>NaN</td>\n",
       "      <td>甘肃保险业“成就与展望”主题论坛召开</td>\n",
       "      <td>12月14日上午，甘肃省保险学会、甘肃省保险行业协会联合兰州财经大学共同举办的“成就与展望—...</td>\n",
       "      <td>2018-12-14</td>\n",
       "    </tr>\n",
       "  </tbody>\n",
       "</table>\n",
       "</div>"
      ],
      "text/plain": [
       "         id group_id predict_label_mysql  tendency  label               title  \\\n",
       "0  12872437       新闻                  行业         0    NaN  甘肃保险业“成就与展望”主题论坛召开   \n",
       "\n",
       "                                             content publishtime  \n",
       "0  12月14日上午，甘肃省保险学会、甘肃省保险行业协会联合兰州财经大学共同举办的“成就与展望—...  2018-12-14  "
      ]
     },
     "execution_count": 19,
     "metadata": {},
     "output_type": "execute_result"
    }
   ],
   "source": [
    "circ_data = pd.read_excel('circ_result_tendency/circ_tendency_data_20181224(1217-1219).xlsx')\n",
    "circ_data.rename(columns = {'predict_label':'predict_label_mysql'}, inplace=True)\n",
    "print(circ_data.shape)\n",
    "print(circ_data['tendency'].value_counts())\n",
    "circ_data.iloc[:1,:]"
   ]
  },
  {
   "cell_type": "code",
   "execution_count": 20,
   "metadata": {
    "ExecuteTime": {
     "end_time": "2018-12-24T02:50:37.621733Z",
     "start_time": "2018-12-24T02:46:47.795587Z"
    }
   },
   "outputs": [
    {
     "name": "stdout",
     "output_type": "stream",
     "text": [
      " 0    9454\n",
      "-1    1188\n",
      "Name: predict_label, dtype: int64\n",
      "(10642, 9)\n"
     ]
    }
   ],
   "source": [
    "circ_data_sel = circ_data[['id', 'title', 'content']]\n",
    "circ_data_sel['title_content'] = circ_data_sel['title'].astype(str) + '。' + circ_data_sel['content'].astype(str)\n",
    "data_list = circ_data_sel['title_content'].astype(str).tolist()\n",
    "circ_data_sel_pre = pre_cor_circ.handle_contents(data_list)\n",
    "\n",
    "correlation_pipeline = joblib.load(\"model/circ_chapter_tendency_1224.pkl.z\")\n",
    "correlation_res = correlation_pipeline.predict(circ_data_sel_pre)\n",
    "circ_data_sel['predict_label'] = correlation_res\n",
    "print(circ_data_sel['predict_label'].value_counts())\n",
    "\n",
    "circ_data = pd.merge(circ_data, circ_data_sel[['id', 'predict_label']], on='id')\n",
    "print(circ_data.shape)"
   ]
  },
  {
   "cell_type": "code",
   "execution_count": 22,
   "metadata": {
    "ExecuteTime": {
     "end_time": "2018-12-24T02:52:00.529475Z",
     "start_time": "2018-12-24T02:51:58.624366Z"
    }
   },
   "outputs": [
    {
     "name": "stdout",
     "output_type": "stream",
     "text": [
      "predict_label    -1     0    All\n",
      "tendency                        \n",
      "-1              858   784   1642\n",
      "0               330  8670   9000\n",
      "All            1188  9454  10642\n"
     ]
    }
   ],
   "source": [
    "print(circ_data.pivot_table(index = ['tendency'], columns = ['predict_label'],\n",
    "                            values = 'title', aggfunc=len, \n",
    "                            fill_value=0, margins=True))\n",
    "\n",
    "fea_filename = 'circ_result_tendency/circ_tendency_data_local_predict_20181224(1214-1216).xlsx'\n",
    "with pd.ExcelWriter(fea_filename) as writer:\n",
    "    circ_data[circ_data['predict_label'] == -1].sample(n = 1000, axis = 0, random_state=3).to_excel(writer,'-1')\n",
    "    circ_data[circ_data['predict_label'] == 0].sample(n = 1000, axis = 0, random_state=3).to_excel(writer,'0')\n",
    "    writer.save()"
   ]
  },
  {
   "cell_type": "markdown",
   "metadata": {
    "collapsed": true
   },
   "source": [
    "# 保险业：3 预警模型"
   ]
  },
  {
   "cell_type": "markdown",
   "metadata": {},
   "source": [
    "## 导入与分割数据"
   ]
  },
  {
   "cell_type": "code",
   "execution_count": null,
   "metadata": {
    "ExecuteTime": {
     "start_time": "2018-09-11T08:01:33.627Z"
    },
    "collapsed": true
   },
   "outputs": [],
   "source": [
    "cbrc_filepath_class = 'circ_result_warn/corpus/'\n",
    "title_content, label, title, content = load_save_plot_file.title_content_label(cbrc_filepath_class)"
   ]
  },
  {
   "cell_type": "code",
   "execution_count": null,
   "metadata": {
    "ExecuteTime": {
     "start_time": "2018-09-11T08:01:33.632Z"
    },
    "collapsed": true
   },
   "outputs": [],
   "source": [
    "X_train, X_test, y_train, y_test = train_test_split(title_content, label, test_size=0.3, random_state=42)\n",
    "print('训练集：',len(y_train))\n",
    "print('训练集-各类数量：',Counter(y_train))\n",
    "print('测试集：',len(y_test))\n",
    "print('测试集-各类数量：',Counter(y_test))"
   ]
  },
  {
   "cell_type": "markdown",
   "metadata": {},
   "source": [
    "## train & test"
   ]
  },
  {
   "cell_type": "code",
   "execution_count": null,
   "metadata": {
    "ExecuteTime": {
     "start_time": "2018-09-11T08:01:33.638Z"
    },
    "collapsed": true
   },
   "outputs": [],
   "source": [
    "pipeline = Pipeline([\n",
    "    ('features', FeatureUnion([\n",
    "        ('tf_idf', Pipeline([\n",
    "            ('counts', CountVectorizer(max_df=0.95, min_df=2)),\n",
    "            ('tf_idf', TfidfTransformer()),\n",
    "            ('chi', SelectKBest(chi2, k=2000))\n",
    "        ])),\n",
    "        ('len_stats', myclass_circ.StatsFeatures_warn()),\n",
    "    ])),\n",
    "    ('standard', StandardScaler(with_mean=False)),\n",
    "    ('classifier', XGBClassifier(max_depth=7,objective='multi:softmax', num_class=8))\n",
    "])\n",
    "\n",
    "pipeline.fit(X_train, y_train)\n",
    "print(pipeline.score(X_train, y_train))\n",
    "pipeline"
   ]
  },
  {
   "cell_type": "code",
   "execution_count": null,
   "metadata": {
    "ExecuteTime": {
     "start_time": "2018-09-11T08:01:33.642Z"
    },
    "collapsed": true
   },
   "outputs": [],
   "source": [
    "y_pred_class = pipeline.predict(X_test)\n",
    "print('accuracy_score: ', metrics.accuracy_score(y_test, y_pred_class)) # 指所有分类正确的百分比\n",
    "print(metrics.classification_report(y_test, y_pred_class))\n",
    "print('confusion_matrix: ')\n",
    "print( metrics.confusion_matrix(y_test, y_pred_class))"
   ]
  },
  {
   "cell_type": "markdown",
   "metadata": {},
   "source": [
    "## 概率结果"
   ]
  },
  {
   "cell_type": "code",
   "execution_count": null,
   "metadata": {
    "ExecuteTime": {
     "start_time": "2018-09-11T08:01:33.650Z"
    },
    "collapsed": true
   },
   "outputs": [],
   "source": [
    "y_pred_prob = pipeline.predict_proba(X_test)\n",
    "pd.DataFrame(y_pred_prob.max(axis = 1)).plot.hist(bins = 100)"
   ]
  },
  {
   "cell_type": "code",
   "execution_count": null,
   "metadata": {
    "ExecuteTime": {
     "start_time": "2018-09-11T08:01:33.656Z"
    },
    "collapsed": true
   },
   "outputs": [],
   "source": [
    "sel_data_stat = plot_class_proba(y_pred_class, y_pred_prob)\n",
    "sel_data_stat"
   ]
  },
  {
   "cell_type": "markdown",
   "metadata": {},
   "source": [
    "## K-fold"
   ]
  },
  {
   "cell_type": "code",
   "execution_count": null,
   "metadata": {
    "ExecuteTime": {
     "start_time": "2018-09-11T08:01:33.664Z"
    },
    "collapsed": true
   },
   "outputs": [],
   "source": [
    "pipeline = Pipeline([\n",
    "    ('features', FeatureUnion([\n",
    "        ('tf_idf', Pipeline([\n",
    "            ('counts', CountVectorizer(max_df=0.95, min_df=2)),\n",
    "            ('tf_idf', TfidfTransformer()),\n",
    "            ('chi', SelectKBest(chi2, k=2000))\n",
    "        ])),\n",
    "        ('len_stats', myclass_circ.StatsFeatures_warn()),\n",
    "    ])),\n",
    "    ('standard', StandardScaler(with_mean=False)),\n",
    "    ('classifier', XGBClassifier(max_depth=7,objective='multi:softmax', num_class=8))\n",
    "])\n",
    "\n",
    "cal_kfold(title_content, label, pipeline)"
   ]
  },
  {
   "cell_type": "markdown",
   "metadata": {},
   "source": [
    "## 保存模型"
   ]
  },
  {
   "cell_type": "code",
   "execution_count": null,
   "metadata": {
    "ExecuteTime": {
     "start_time": "2018-09-11T08:01:33.671Z"
    },
    "collapsed": true
   },
   "outputs": [],
   "source": [
    "pipeline = Pipeline([\n",
    "    ('features', FeatureUnion([\n",
    "        ('tf_idf', Pipeline([\n",
    "            ('counts', CountVectorizer(max_df=0.95, min_df=2)),\n",
    "            ('tf_idf', TfidfTransformer()),\n",
    "            ('chi', SelectKBest(chi2, k=2000))\n",
    "        ])),\n",
    "        ('len_stats', myclass_circ.StatsFeatures_warn()),\n",
    "    ])),\n",
    "    ('standard', StandardScaler(with_mean=False)),\n",
    "    ('classifier', XGBClassifier(max_depth=7,objective='multi:softmax', num_class=8))\n",
    "])\n",
    "\n",
    "pipeline.fit(title_content, label)\n",
    "print(pipeline.score(title_content, label))\n",
    "pipeline"
   ]
  },
  {
   "cell_type": "code",
   "execution_count": null,
   "metadata": {
    "ExecuteTime": {
     "start_time": "2018-09-11T08:01:33.676Z"
    },
    "collapsed": true
   },
   "outputs": [],
   "source": [
    "from sklearn.externals import joblib\n",
    "joblib.dump(pipeline, \"model/circ_warning_0621.pkl.z\")"
   ]
  },
  {
   "cell_type": "markdown",
   "metadata": {},
   "source": [
    "# 银行业：1 八分类"
   ]
  },
  {
   "cell_type": "markdown",
   "metadata": {},
   "source": [
    "## 导入与分割数据"
   ]
  },
  {
   "cell_type": "code",
   "execution_count": 66,
   "metadata": {
    "ExecuteTime": {
     "end_time": "2018-12-24T06:44:42.349045Z",
     "start_time": "2018-12-24T06:44:40.280927Z"
    }
   },
   "outputs": [
    {
     "name": "stdout",
     "output_type": "stream",
     "text": [
      "title num:  19531\n",
      "['月线 反转 阴包 阳 原油 逢 高 先空 股友 东方 财富网 博客', '汇乔 金色 名 售 价格 元 平方米']\n",
      "content num:  19531\n",
      "title_content num:  19531\n",
      "label num:  19531\n",
      "['噪音', '噪音', '噪音', '噪音', '噪音']\n"
     ]
    }
   ],
   "source": [
    "cbrc_filepath_class = 'cbrc_result_class/corpus/'\n",
    "title_content, label, title, content = load_save_plot_file.title_content_label(cbrc_filepath_class)"
   ]
  },
  {
   "cell_type": "code",
   "execution_count": 67,
   "metadata": {
    "ExecuteTime": {
     "end_time": "2018-12-24T06:44:45.780241Z",
     "start_time": "2018-12-24T06:44:45.554228Z"
    }
   },
   "outputs": [
    {
     "data": {
      "text/plain": [
       "{1: '监管',\n",
       " 2: '行业',\n",
       " 3: '产品销售',\n",
       " 4: '资本市场',\n",
       " 5: '公司内部管理',\n",
       " 6: '消费服务',\n",
       " 7: '其他相关报道',\n",
       " 8: '噪音'}"
      ]
     },
     "execution_count": 67,
     "metadata": {},
     "output_type": "execute_result"
    }
   ],
   "source": [
    "label_dic={'监管':1,'行业':2,'产品销售':3,'资本市场':4,'公司内部管理':5,'消费服务':6,'其他相关报道':7,'噪音':8}\n",
    "class_name_dict = {v: k for k, v in label_dic.items()}\n",
    "class_name_dict"
   ]
  },
  {
   "cell_type": "code",
   "execution_count": 68,
   "metadata": {
    "ExecuteTime": {
     "end_time": "2018-12-24T06:44:49.118432Z",
     "start_time": "2018-12-24T06:44:48.900420Z"
    }
   },
   "outputs": [
    {
     "data": {
      "text/plain": [
       "[8, 8, 8, 8, 8]"
      ]
     },
     "execution_count": 68,
     "metadata": {},
     "output_type": "execute_result"
    }
   ],
   "source": [
    "label = [label_dic[l] for l in label]\n",
    "label[:5]"
   ]
  },
  {
   "cell_type": "code",
   "execution_count": 69,
   "metadata": {
    "ExecuteTime": {
     "end_time": "2018-12-24T06:44:52.383619Z",
     "start_time": "2018-12-24T06:44:52.142605Z"
    }
   },
   "outputs": [
    {
     "name": "stdout",
     "output_type": "stream",
     "text": [
      "训练集： 13671\n",
      "训练集-各类数量： Counter({6: 3255, 8: 2078, 2: 1773, 7: 1557, 1: 1350, 5: 1327, 4: 1225, 3: 1106})\n",
      "测试集： 5860\n",
      "测试集-各类数量： Counter({6: 1415, 8: 865, 2: 775, 7: 654, 1: 611, 5: 549, 4: 524, 3: 467})\n"
     ]
    }
   ],
   "source": [
    "X_train, X_test, y_train, y_test = train_test_split(title_content, label, test_size=0.3, random_state=42)\n",
    "print('训练集：',len(y_train))\n",
    "print('训练集-各类数量：',Counter(y_train))\n",
    "print('测试集：',len(y_test))\n",
    "print('测试集-各类数量：',Counter(y_test))"
   ]
  },
  {
   "cell_type": "markdown",
   "metadata": {},
   "source": [
    "## 生成词典"
   ]
  },
  {
   "cell_type": "code",
   "execution_count": 70,
   "metadata": {
    "ExecuteTime": {
     "end_time": "2018-12-24T06:54:25.558403Z",
     "start_time": "2018-12-24T06:44:56.044828Z"
    }
   },
   "outputs": [
    {
     "name": "stdout",
     "output_type": "stream",
     "text": [
      "class_label:  [1 2 3 4 5 6 7 8]\n",
      "\n",
      "依据类别生成关键词：\n",
      "['金融', '监管', '风险', '经济', '机构', '中国', '工作', '发展', '市场', '企业']\n",
      "keywords num:  500\n",
      "类别：1 -- 文本个数：1961，label个数:1961，取词个数：500\n",
      "['银行', '金融', '企业', '业务', '市场', '发展', '风险', '中国', '经济', '贷款']\n",
      "keywords num:  500\n",
      "类别：2 -- 文本个数：2548，label个数:2548，取词个数：500\n",
      "['信用卡', '活动', '优惠', '产品', '理财', '银行', '客户', '享受', '观影', '点击']\n",
      "keywords num:  500\n",
      "类别：3 -- 文本个数：1573，label个数:1573，取词个数：500\n",
      "['公司', '市场', '投资', '股份', '资金', '银行', '股东', '有限公司', '股权', '中国']\n",
      "keywords num:  500\n",
      "类别：4 -- 文本个数：1749，label个数:1749，取词个数：500\n",
      "['业务', '分行', '发展', '行政处罚', '中国', '服务', '有限公司', '贷款', '金融', '银行']\n",
      "keywords num:  500\n",
      "类别：5 -- 文本个数：1876，label个数:1876，取词个数：500\n",
      "['银行', '信用卡', '业务', '没有', '服务', '办理', '客户', '贷款', '支行', '电话']\n",
      "keywords num:  500\n",
      "类别：6 -- 文本个数：4670，label个数:4670，取词个数：500\n",
      "['活动', '金融', '支行', '开展', '分行', '知识', '工作', '宣传', '中国', '服务']\n",
      "keywords num:  500\n",
      "类别：7 -- 文本个数：2211，label个数:2211，取词个数：500\n",
      "['公司', '中国', '企业', '市场', '发展', '没有', '投资', '工作', '经济', '进行']\n",
      "keywords num:  500\n",
      "类别：8 -- 文本个数：2943，label个数:2943，取词个数：500\n",
      "\n",
      "去除词（key_count_list）个数： 277\n",
      "词典词（key_dict）个数： 1630\n",
      "\n",
      "前后对比：去除超过阈值的词\n",
      "['保险公司', '银行业', '实体', '主席', '制度', '整治', '金融风险', '乱象', '保险业', '治理']\n",
      "类别：1 -- 去除前：500， 去除后：275\n",
      "['银行业', '增速', '收益率', '实体', '美国', '流动性', '传统', '月份', '上浮', '区块']\n",
      "类别：2 -- 去除前：500， 去除后：243\n",
      "['优惠', '享受', '观影', '点击', '影城', '刷卡', '购票', '电影', '二维码', '额度']\n",
      "类别：3 -- 去除前：500， 去除后：313\n",
      "['板块', '指数', '持有', '控股', '美国', '下跌', '持股', '个股', '上涨', '股价']\n",
      "类别：4 -- 去除前：500， 去除后：287\n",
      "['行政处罚', '罚款', '中华人民共和国', '银行业', '处罚', '违规', '违反', '作出', '决定', '监督管理']\n",
      "类别：5 -- 去除前：500， 去除后：254\n",
      "['客服', '知道', '小时', '柜台', '还款', '垃圾', '额度', '投诉', '客户服务', '效率']\n",
      "类别：6 -- 去除前：500， 去除后：295\n",
      "['知识', '批复', '资格', '任职', '请示', '行政许可', '分局', '核准', '实施办法', '到任']\n",
      "类别：7 -- 去除前：500， 去除后：303\n",
      "['美国', '世界', '孩子', '知道', '生产', '招聘', '报名', '教育', '学习', '黄金']\n",
      "类别：8 -- 去除前：500， 去除后：245\n",
      "['慰问', '设备', '经典', '博会', '生气', '应收', '主题', '省长', '事件', '电影城']\n",
      "len(keywords):  1353\n"
     ]
    }
   ],
   "source": [
    "g_k = generate_keywords(500)\n",
    "g_k.gen_keywords_by_class(title_content, label, v_thre = 4)"
   ]
  },
  {
   "cell_type": "code",
   "execution_count": 71,
   "metadata": {
    "ExecuteTime": {
     "end_time": "2018-12-24T06:54:29.110606Z",
     "start_time": "2018-12-24T06:54:28.893593Z"
    }
   },
   "outputs": [
    {
     "name": "stdout",
     "output_type": "stream",
     "text": [
      "file_path:  d:\\xh\\python_project\\tool\\toolkits\\nlp\\corpus\\keywords_b.txt\n"
     ]
    }
   ],
   "source": [
    "g_k.save_txt('keywords_b.txt')"
   ]
  },
  {
   "cell_type": "markdown",
   "metadata": {},
   "source": [
    "## train & test"
   ]
  },
  {
   "cell_type": "code",
   "execution_count": 72,
   "metadata": {
    "ExecuteTime": {
     "end_time": "2018-12-24T06:54:32.492799Z",
     "start_time": "2018-12-24T06:54:32.265786Z"
    }
   },
   "outputs": [
    {
     "name": "stdout",
     "output_type": "stream",
     "text": [
      "d:\\xh\\python_project\\tool\\toolkits\\nlp\n",
      "keywords num:  1353\n"
     ]
    },
    {
     "data": {
      "text/plain": [
       "1353"
      ]
     },
     "execution_count": 72,
     "metadata": {},
     "output_type": "execute_result"
    }
   ],
   "source": [
    "a = myclass_cbrc.Statskeywords_cor(5000)\n",
    "len(a.keywords)"
   ]
  },
  {
   "cell_type": "code",
   "execution_count": 73,
   "metadata": {
    "ExecuteTime": {
     "end_time": "2018-12-24T07:09:11.289064Z",
     "start_time": "2018-12-24T06:54:35.729984Z"
    }
   },
   "outputs": [
    {
     "name": "stdout",
     "output_type": "stream",
     "text": [
      "d:\\xh\\python_project\\tool\\toolkits\\nlp\n",
      "d:\\xh\\python_project\\tool\\toolkits\\nlp\n",
      "keywords num:  1353\n",
      "0.9837612464340575\n"
     ]
    },
    {
     "data": {
      "text/plain": [
       "Pipeline(memory=None,\n",
       "     steps=[('features', FeatureUnion(n_jobs=1,\n",
       "       transformer_list=[('tf_idf', Pipeline(memory=None,\n",
       "     steps=[('counts', CountVectorizer(analyzer='word', binary=False, decode_error='strict',\n",
       "        dtype=<class 'numpy.int64'>, encoding='utf-8', input='content',\n",
       "        lowercase=True, max_df=0.9...tate=0, reg_alpha=0, reg_lambda=1, scale_pos_weight=1,\n",
       "       seed=None, silent=True, subsample=1))])"
      ]
     },
     "execution_count": 73,
     "metadata": {},
     "output_type": "execute_result"
    }
   ],
   "source": [
    "pipeline = Pipeline([\n",
    "    ('features', FeatureUnion([\n",
    "        ('tf_idf', Pipeline([\n",
    "            ('counts', CountVectorizer(max_df=0.95, min_df=2)),\n",
    "            ('tf_idf', TfidfTransformer()),\n",
    "            ('chi', SelectKBest(chi2, k=20000))\n",
    "        ])),\n",
    "        ('len_stats', myclass_cbrc.StatsFeatures_cor()),\n",
    "        ('tf', myclass_cbrc.Statskeywords_cor(topk = 5000))\n",
    "    ])),\n",
    "    ('standard', StandardScaler(with_mean=False)),\n",
    "    ('classifier', XGBClassifier(max_depth=7,objective='multi:softmax', num_class=8))\n",
    "])\n",
    "\n",
    "pipeline.fit(X_train, y_train)\n",
    "print(pipeline.score(X_train, y_train))\n",
    "pipeline"
   ]
  },
  {
   "cell_type": "code",
   "execution_count": 74,
   "metadata": {
    "ExecuteTime": {
     "end_time": "2018-12-24T07:09:25.659886Z",
     "start_time": "2018-12-24T07:09:14.533249Z"
    }
   },
   "outputs": [
    {
     "name": "stdout",
     "output_type": "stream",
     "text": [
      "accuracy_score:  0.830716723549488\n",
      "             precision    recall  f1-score   support\n",
      "\n",
      "          1       0.85      0.88      0.86       611\n",
      "          2       0.77      0.80      0.79       775\n",
      "          3       0.88      0.84      0.86       467\n",
      "          4       0.82      0.80      0.81       524\n",
      "          5       0.81      0.76      0.78       549\n",
      "          6       0.88      0.89      0.89      1415\n",
      "          7       0.86      0.85      0.86       654\n",
      "          8       0.75      0.77      0.76       865\n",
      "\n",
      "avg / total       0.83      0.83      0.83      5860\n",
      "\n",
      "confusion_matrix: \n",
      "[[ 538   29    1    1    2    6    4   30]\n",
      " [  36  619    3   24   14   23   10   46]\n",
      " [   4   10  390    1    4   39    3   16]\n",
      " [  11   28    1  419    5   11    2   47]\n",
      " [   8   40    1   14  415   31   19   21]\n",
      " [   7   29   34    2   34 1262   24   23]\n",
      " [   7   12    3    1   20   15  559   37]\n",
      " [  23   32   10   46   16   43   29  666]]\n"
     ]
    }
   ],
   "source": [
    "y_pred_class = pipeline.predict(X_test)\n",
    "print('accuracy_score: ', metrics.accuracy_score(y_test, y_pred_class)) # 指所有分类正确的百分比\n",
    "print(metrics.classification_report(y_test, y_pred_class))\n",
    "print('confusion_matrix: ')\n",
    "print( metrics.confusion_matrix(y_test, y_pred_class))\n",
    "filename = 'statistics_result/CBRC_class_model_report.csv'\n",
    "save_model_report(filename, 'CBRC_class_model_report')"
   ]
  },
  {
   "cell_type": "markdown",
   "metadata": {},
   "source": [
    "## 概率结果"
   ]
  },
  {
   "cell_type": "code",
   "execution_count": 14,
   "metadata": {
    "ExecuteTime": {
     "end_time": "2018-11-16T06:47:31.411244Z",
     "start_time": "2018-11-16T06:47:25.048880Z"
    }
   },
   "outputs": [
    {
     "data": {
      "text/plain": [
       "<matplotlib.axes._subplots.AxesSubplot at 0x1a2d8748>"
      ]
     },
     "execution_count": 14,
     "metadata": {},
     "output_type": "execute_result"
    },
    {
     "data": {
      "image/png": "[encoded data removed]",
      "text/plain": [
       "<matplotlib.figure.Figure at 0x351d2b0>"
      ]
     },
     "metadata": {},
     "output_type": "display_data"
    }
   ],
   "source": [
    "y_pred_prob = pipeline.predict_proba(X_test)\n",
    "pd.DataFrame(y_pred_prob.max(axis = 1)).plot.hist(bins = 100)"
   ]
  },
  {
   "cell_type": "code",
   "execution_count": 17,
   "metadata": {
    "ExecuteTime": {
     "end_time": "2018-11-05T03:44:27.443524Z",
     "start_time": "2018-11-05T03:44:22.853262Z"
    }
   },
   "outputs": [
    {
     "data": {
      "text/html": [
       "<div>\n",
       "<style scoped>\n",
       "    .dataframe tbody tr th:only-of-type {\n",
       "        vertical-align: middle;\n",
       "    }\n",
       "\n",
       "    .dataframe tbody tr th {\n",
       "        vertical-align: top;\n",
       "    }\n",
       "\n",
       "    .dataframe thead th {\n",
       "        text-align: right;\n",
       "    }\n",
       "</style>\n",
       "<table border=\"1\" class=\"dataframe\">\n",
       "  <thead>\n",
       "    <tr style=\"text-align: right;\">\n",
       "      <th>proba</th>\n",
       "      <th>0.2</th>\n",
       "      <th>0.3</th>\n",
       "      <th>0.4</th>\n",
       "      <th>0.5</th>\n",
       "      <th>0.6</th>\n",
       "      <th>0.7</th>\n",
       "      <th>0.8</th>\n",
       "      <th>0.9</th>\n",
       "      <th>1.0</th>\n",
       "      <th>sum</th>\n",
       "    </tr>\n",
       "    <tr>\n",
       "      <th>predict_label</th>\n",
       "      <th></th>\n",
       "      <th></th>\n",
       "      <th></th>\n",
       "      <th></th>\n",
       "      <th></th>\n",
       "      <th></th>\n",
       "      <th></th>\n",
       "      <th></th>\n",
       "      <th></th>\n",
       "      <th></th>\n",
       "    </tr>\n",
       "  </thead>\n",
       "  <tbody>\n",
       "    <tr>\n",
       "      <th>1</th>\n",
       "      <td>0.0</td>\n",
       "      <td>6.0</td>\n",
       "      <td>18.0</td>\n",
       "      <td>29.0</td>\n",
       "      <td>37.0</td>\n",
       "      <td>28.0</td>\n",
       "      <td>44.0</td>\n",
       "      <td>97.0</td>\n",
       "      <td>275.0</td>\n",
       "      <td>534.0</td>\n",
       "    </tr>\n",
       "    <tr>\n",
       "      <th>2</th>\n",
       "      <td>2.0</td>\n",
       "      <td>22.0</td>\n",
       "      <td>31.0</td>\n",
       "      <td>40.0</td>\n",
       "      <td>58.0</td>\n",
       "      <td>41.0</td>\n",
       "      <td>53.0</td>\n",
       "      <td>146.0</td>\n",
       "      <td>158.0</td>\n",
       "      <td>551.0</td>\n",
       "    </tr>\n",
       "    <tr>\n",
       "      <th>3</th>\n",
       "      <td>0.0</td>\n",
       "      <td>11.0</td>\n",
       "      <td>22.0</td>\n",
       "      <td>23.0</td>\n",
       "      <td>24.0</td>\n",
       "      <td>30.0</td>\n",
       "      <td>36.0</td>\n",
       "      <td>80.0</td>\n",
       "      <td>170.0</td>\n",
       "      <td>396.0</td>\n",
       "    </tr>\n",
       "    <tr>\n",
       "      <th>4</th>\n",
       "      <td>1.0</td>\n",
       "      <td>8.0</td>\n",
       "      <td>19.0</td>\n",
       "      <td>34.0</td>\n",
       "      <td>39.0</td>\n",
       "      <td>44.0</td>\n",
       "      <td>52.0</td>\n",
       "      <td>136.0</td>\n",
       "      <td>99.0</td>\n",
       "      <td>432.0</td>\n",
       "    </tr>\n",
       "    <tr>\n",
       "      <th>5</th>\n",
       "      <td>2.0</td>\n",
       "      <td>14.0</td>\n",
       "      <td>38.0</td>\n",
       "      <td>35.0</td>\n",
       "      <td>29.0</td>\n",
       "      <td>41.0</td>\n",
       "      <td>40.0</td>\n",
       "      <td>62.0</td>\n",
       "      <td>147.0</td>\n",
       "      <td>408.0</td>\n",
       "    </tr>\n",
       "    <tr>\n",
       "      <th>6</th>\n",
       "      <td>2.0</td>\n",
       "      <td>20.0</td>\n",
       "      <td>29.0</td>\n",
       "      <td>43.0</td>\n",
       "      <td>34.0</td>\n",
       "      <td>34.0</td>\n",
       "      <td>50.0</td>\n",
       "      <td>168.0</td>\n",
       "      <td>120.0</td>\n",
       "      <td>500.0</td>\n",
       "    </tr>\n",
       "    <tr>\n",
       "      <th>7</th>\n",
       "      <td>1.0</td>\n",
       "      <td>13.0</td>\n",
       "      <td>22.0</td>\n",
       "      <td>20.0</td>\n",
       "      <td>27.0</td>\n",
       "      <td>25.0</td>\n",
       "      <td>52.0</td>\n",
       "      <td>109.0</td>\n",
       "      <td>364.0</td>\n",
       "      <td>633.0</td>\n",
       "    </tr>\n",
       "    <tr>\n",
       "      <th>8</th>\n",
       "      <td>5.0</td>\n",
       "      <td>25.0</td>\n",
       "      <td>37.0</td>\n",
       "      <td>73.0</td>\n",
       "      <td>68.0</td>\n",
       "      <td>80.0</td>\n",
       "      <td>98.0</td>\n",
       "      <td>186.0</td>\n",
       "      <td>232.0</td>\n",
       "      <td>804.0</td>\n",
       "    </tr>\n",
       "    <tr>\n",
       "      <th>sum</th>\n",
       "      <td>13.0</td>\n",
       "      <td>119.0</td>\n",
       "      <td>216.0</td>\n",
       "      <td>297.0</td>\n",
       "      <td>316.0</td>\n",
       "      <td>323.0</td>\n",
       "      <td>425.0</td>\n",
       "      <td>984.0</td>\n",
       "      <td>1565.0</td>\n",
       "      <td>4258.0</td>\n",
       "    </tr>\n",
       "  </tbody>\n",
       "</table>\n",
       "</div>"
      ],
      "text/plain": [
       "proba           0.2    0.3    0.4    0.5    0.6    0.7    0.8    0.9     1.0  \\\n",
       "predict_label                                                                  \n",
       "1               0.0    6.0   18.0   29.0   37.0   28.0   44.0   97.0   275.0   \n",
       "2               2.0   22.0   31.0   40.0   58.0   41.0   53.0  146.0   158.0   \n",
       "3               0.0   11.0   22.0   23.0   24.0   30.0   36.0   80.0   170.0   \n",
       "4               1.0    8.0   19.0   34.0   39.0   44.0   52.0  136.0    99.0   \n",
       "5               2.0   14.0   38.0   35.0   29.0   41.0   40.0   62.0   147.0   \n",
       "6               2.0   20.0   29.0   43.0   34.0   34.0   50.0  168.0   120.0   \n",
       "7               1.0   13.0   22.0   20.0   27.0   25.0   52.0  109.0   364.0   \n",
       "8               5.0   25.0   37.0   73.0   68.0   80.0   98.0  186.0   232.0   \n",
       "sum            13.0  119.0  216.0  297.0  316.0  323.0  425.0  984.0  1565.0   \n",
       "\n",
       "proba             sum  \n",
       "predict_label          \n",
       "1               534.0  \n",
       "2               551.0  \n",
       "3               396.0  \n",
       "4               432.0  \n",
       "5               408.0  \n",
       "6               500.0  \n",
       "7               633.0  \n",
       "8               804.0  \n",
       "sum            4258.0  "
      ]
     },
     "execution_count": 17,
     "metadata": {},
     "output_type": "execute_result"
    },
    {
     "data": {
      "image/png": "[encoded data removed]",
      "text/plain": [
       "<matplotlib.figure.Figure at 0x1ae61c88>"
      ]
     },
     "metadata": {},
     "output_type": "display_data"
    }
   ],
   "source": [
    "sel_data_stat = plot_class_proba(y_pred_class, y_pred_prob.max(axis = 1))\n",
    "sel_data_stat"
   ]
  },
  {
   "cell_type": "markdown",
   "metadata": {},
   "source": [
    "## K-fold"
   ]
  },
  {
   "cell_type": "code",
   "execution_count": 10,
   "metadata": {
    "ExecuteTime": {
     "end_time": "2018-09-18T03:41:46.392036Z",
     "start_time": "2018-09-18T03:21:02.995901Z"
    }
   },
   "outputs": [
    {
     "name": "stdout",
     "output_type": "stream",
     "text": [
      "d:\\xh\\python_project\\tool\\toolkits\\nlp\n",
      "d:\\xh\\python_project\\tool\\toolkits\\nlp\n",
      "keywords num:  1314\n",
      "data_raw:  (9826, 4)\n",
      "---- 1\n",
      "0.9968193384223919\n",
      "accuracy_score:  0.8748728382502543\n",
      "             precision    recall  f1-score   support\n",
      "\n",
      "          1       0.88      0.93      0.90       270\n",
      "          2       0.86      0.84      0.85       256\n",
      "          3       0.91      0.92      0.92       194\n",
      "          4       0.84      0.84      0.84       209\n",
      "          5       0.88      0.83      0.85       203\n",
      "          6       0.87      0.86      0.87       205\n",
      "          7       0.92      0.93      0.93       299\n",
      "          8       0.84      0.84      0.84       330\n",
      "\n",
      "avg / total       0.87      0.87      0.87      1966\n",
      "\n",
      "confusion_matrix: \n",
      "[[251   9   0   1   1   0   3   5]\n",
      " [ 15 214   1   5   6   5   4   6]\n",
      " [  1   3 179   1   0   6   2   2]\n",
      " [  4   3   2 175   5   4   0  16]\n",
      " [  3   8   1   8 168   6   4   5]\n",
      " [  1   3   8   1   5 177   2   8]\n",
      " [  1   3   2   0   4   1 279   9]\n",
      " [ 10   5   3  18   3   5   9 277]]\n",
      "---- 2\n",
      "0.9960564813636942\n",
      "accuracy_score:  0.8834605597964377\n",
      "             precision    recall  f1-score   support\n",
      "\n",
      "          1       0.91      0.93      0.92       274\n",
      "          2       0.86      0.86      0.86       262\n",
      "          3       0.89      0.89      0.89       188\n",
      "          4       0.87      0.81      0.84       221\n",
      "          5       0.86      0.84      0.85       185\n",
      "          6       0.89      0.91      0.90       225\n",
      "          7       0.93      0.93      0.93       298\n",
      "          8       0.85      0.87      0.86       312\n",
      "\n",
      "avg / total       0.88      0.88      0.88      1965\n",
      "\n",
      "confusion_matrix: \n",
      "[[255  11   0   2   2   0   0   4]\n",
      " [  8 226   4   7   7   1   1   8]\n",
      " [  0   1 168   1   2   8   5   3]\n",
      " [  2   9   0 179   2   9   0  20]\n",
      " [  2   7   3   6 155   4   6   2]\n",
      " [  2   1   7   0   5 205   2   3]\n",
      " [  2   2   0   0   6   1 278   9]\n",
      " [  8   7   7  10   2   2   6 270]]\n",
      "---- 3\n",
      "0.9969469533138278\n",
      "accuracy_score:  0.8870229007633588\n",
      "             precision    recall  f1-score   support\n",
      "\n",
      "          1       0.91      0.94      0.92       262\n",
      "          2       0.90      0.85      0.87       282\n",
      "          3       0.88      0.86      0.87       181\n",
      "          4       0.85      0.82      0.83       223\n",
      "          5       0.92      0.86      0.89       184\n",
      "          6       0.91      0.88      0.89       216\n",
      "          7       0.92      0.94      0.93       299\n",
      "          8       0.84      0.92      0.88       318\n",
      "\n",
      "avg / total       0.89      0.89      0.89      1965\n",
      "\n",
      "confusion_matrix: \n",
      "[[246   7   0   1   0   0   1   7]\n",
      " [ 12 239   3   8   6   1   3  10]\n",
      " [  1   2 155   2   1   7   6   7]\n",
      " [  1   6   5 182   3   6   2  18]\n",
      " [  5   7   0   6 158   2   6   0]\n",
      " [  4   3  12   0   0 189   3   5]\n",
      " [  1   1   2   2   1   1 282   9]\n",
      " [  1   2   0  14   3   1   5 292]]\n",
      "---- 4\n",
      "0.9964381121994658\n",
      "accuracy_score:  0.8910941475826972\n",
      "             precision    recall  f1-score   support\n",
      "\n",
      "          1       0.95      0.94      0.94       295\n",
      "          2       0.82      0.89      0.85       244\n",
      "          3       0.93      0.92      0.92       199\n",
      "          4       0.89      0.88      0.88       202\n",
      "          5       0.90      0.82      0.86       210\n",
      "          6       0.90      0.86      0.88       194\n",
      "          7       0.90      0.91      0.91       302\n",
      "          8       0.86      0.89      0.87       319\n",
      "\n",
      "avg / total       0.89      0.89      0.89      1965\n",
      "\n",
      "confusion_matrix: \n",
      "[[277   8   0   1   2   1   1   5]\n",
      " [  7 216   2   5   3   1   4   6]\n",
      " [  1   3 183   0   2   3   3   4]\n",
      " [  2   9   1 177   2   5   0   6]\n",
      " [  4  13   0   4 173   2   9   5]\n",
      " [  0   4   5   0   2 166   6  11]\n",
      " [  0   4   2   1   5   5 275  10]\n",
      " [  1   7   4  11   3   2   7 284]]\n",
      "---- 5\n",
      "0.9970741635924183\n",
      "accuracy_score:  0.8870229007633588\n",
      "             precision    recall  f1-score   support\n",
      "\n",
      "          1       0.90      0.94      0.92       287\n",
      "          2       0.85      0.88      0.86       240\n",
      "          3       0.89      0.88      0.88       182\n",
      "          4       0.87      0.85      0.86       183\n",
      "          5       0.92      0.83      0.88       218\n",
      "          6       0.90      0.86      0.88       221\n",
      "          7       0.92      0.93      0.92       315\n",
      "          8       0.85      0.88      0.87       319\n",
      "\n",
      "avg / total       0.89      0.89      0.89      1965\n",
      "\n",
      "confusion_matrix: \n",
      "[[271  10   0   0   0   1   1   4]\n",
      " [ 13 210   2   6   3   1   0   5]\n",
      " [  1   5 160   1   0   5   3   7]\n",
      " [  3   5   0 155   2   6   0  12]\n",
      " [  3  11   1   4 182   4   8   5]\n",
      " [  1   4  12   3   1 190   3   7]\n",
      " [  2   0   0   3   8   1 293   8]\n",
      " [  7   3   5   7   1   3  11 282]]\n",
      "kfold_result:  (9826, 7)\n"
     ]
    }
   ],
   "source": [
    "pipeline = Pipeline([\n",
    "    ('features', FeatureUnion([\n",
    "        ('tf_idf', Pipeline([\n",
    "            ('counts', CountVectorizer(max_df=0.95, min_df=2)),\n",
    "            ('tf_idf', TfidfTransformer()),\n",
    "            ('chi', SelectKBest(chi2, k=2000))\n",
    "        ])),\n",
    "        ('len_stats', myclass_cbrc.StatsFeatures_cor()),\n",
    "        ('tf', myclass_cbrc.Statskeywords_cor(topk = 5000))\n",
    "    ])),\n",
    "    ('standard', StandardScaler(with_mean=False)),\n",
    "    ('classifier', XGBClassifier(max_depth=7,objective='multi:softmax', num_class=8))\n",
    "])\n",
    "\n",
    "filename = 'cbrc_class_label_proba_20180917.xlsx'\n",
    "cal_kfold(title_content, label, pipeline, 'cbrc_result_class', filename, class_name_dict)"
   ]
  },
  {
   "cell_type": "code",
   "execution_count": 28,
   "metadata": {
    "ExecuteTime": {
     "end_time": "2018-09-18T04:02:37.814068Z",
     "start_time": "2018-09-18T04:02:23.631257Z"
    }
   },
   "outputs": [
    {
     "name": "stdout",
     "output_type": "stream",
     "text": [
      "总数： (9826, 8)\n"
     ]
    },
    {
     "data": {
      "text/html": [
       "<div>\n",
       "<style scoped>\n",
       "    .dataframe tbody tr th:only-of-type {\n",
       "        vertical-align: middle;\n",
       "    }\n",
       "\n",
       "    .dataframe tbody tr th {\n",
       "        vertical-align: top;\n",
       "    }\n",
       "\n",
       "    .dataframe thead th {\n",
       "        text-align: right;\n",
       "    }\n",
       "</style>\n",
       "<table border=\"1\" class=\"dataframe\">\n",
       "  <thead>\n",
       "    <tr style=\"text-align: right;\">\n",
       "      <th></th>\n",
       "      <th>备注</th>\n",
       "      <th>raw_title</th>\n",
       "      <th>raw_content</th>\n",
       "      <th>label</th>\n",
       "      <th>predict_label</th>\n",
       "      <th>title_content</th>\n",
       "      <th>predict_proba</th>\n",
       "      <th>R_W</th>\n",
       "    </tr>\n",
       "  </thead>\n",
       "  <tbody>\n",
       "    <tr>\n",
       "      <th>0</th>\n",
       "      <td></td>\n",
       "      <td>聚焦今晚PPI数据 黄金或摆脱十字路口徘徊行情</td>\n",
       "      <td>周三(1月10日)，美元遭受暴击，终止三日连涨的走势，黄金获利走高，最高触及近四月高位132...</td>\n",
       "      <td>噪音</td>\n",
       "      <td>噪音</td>\n",
       "      <td>聚焦 今晚 PPI 数据 黄金 摆脱 十字路口 徘徊 行情 周三 月 日 美元 遭受 暴击 ...</td>\n",
       "      <td>0.665914</td>\n",
       "      <td>Right</td>\n",
       "    </tr>\n",
       "    <tr>\n",
       "      <th>1</th>\n",
       "      <td></td>\n",
       "      <td>驻店销售代表（泉港区、前黄、涂岭、山腰）</td>\n",
       "      <td>公司简介PPF集团PPF集团是捷信集团的母公司，是中东欧地区最大的国际金融和投资集团之一，业...</td>\n",
       "      <td>噪音</td>\n",
       "      <td>公司内部管理</td>\n",
       "      <td>驻店 销售 代表 泉港区 前 黄 涂岭 山腰 公司简介 PPF 集团 PPF 集团 捷信 集...</td>\n",
       "      <td>0.274292</td>\n",
       "      <td>Wrong</td>\n",
       "    </tr>\n",
       "    <tr>\n",
       "      <th>2</th>\n",
       "      <td></td>\n",
       "      <td>陈御贺：主力拉盘轰炸避险黄金暴涨20点，后期低多为主</td>\n",
       "      <td>近期美国国债收益率一直稳步走高，在本周二日本央行公布调整购债后，美债价格进一步跌向熊市。日本...</td>\n",
       "      <td>噪音</td>\n",
       "      <td>噪音</td>\n",
       "      <td>陈御 贺 主力 拉盘 轰炸 避险 黄金 暴涨 点 后期 低多 近期 美国 国债 收益率 稳步...</td>\n",
       "      <td>0.898844</td>\n",
       "      <td>Right</td>\n",
       "    </tr>\n",
       "    <tr>\n",
       "      <th>3</th>\n",
       "      <td></td>\n",
       "      <td>华为给员工建3万套福利房，一平米8500元带精装修 | 早报</td>\n",
       "      <td>【国内】 27家乐视供应商发布呼吁对话书，希望与甘薇、贾跃民对话 1月9日晚，记者从一位乐视...</td>\n",
       "      <td>噪音</td>\n",
       "      <td>噪音</td>\n",
       "      <td>华为 员工 建 万套 福利 房 平米 元带 精装修 早报 国内 家乐 视 供应商 发布 呼吁...</td>\n",
       "      <td>0.980682</td>\n",
       "      <td>Right</td>\n",
       "    </tr>\n",
       "    <tr>\n",
       "      <th>4</th>\n",
       "      <td></td>\n",
       "      <td>一个烟酒店老板全干货揭秘：「开店」和「看店」的区别！</td>\n",
       "      <td>“我是个小烟酒店的老板，我的生意不大，但是我总结出不少生意经，献丑和大家说说，但愿抛砖引玉，...</td>\n",
       "      <td>噪音</td>\n",
       "      <td>噪音</td>\n",
       "      <td>烟酒 店老板 全 干货 揭秘 开店 看店 区别 小烟 酒店 老板 生意 生意经 献丑 说 说...</td>\n",
       "      <td>0.984564</td>\n",
       "      <td>Right</td>\n",
       "    </tr>\n",
       "  </tbody>\n",
       "</table>\n",
       "</div>"
      ],
      "text/plain": [
       "  备注                       raw_title  \\\n",
       "0            聚焦今晚PPI数据 黄金或摆脱十字路口徘徊行情   \n",
       "1               驻店销售代表（泉港区、前黄、涂岭、山腰）   \n",
       "2         陈御贺：主力拉盘轰炸避险黄金暴涨20点，后期低多为主   \n",
       "3     华为给员工建3万套福利房，一平米8500元带精装修 | 早报   \n",
       "4         一个烟酒店老板全干货揭秘：「开店」和「看店」的区别！   \n",
       "\n",
       "                                         raw_content label predict_label  \\\n",
       "0  周三(1月10日)，美元遭受暴击，终止三日连涨的走势，黄金获利走高，最高触及近四月高位132...    噪音            噪音   \n",
       "1  公司简介PPF集团PPF集团是捷信集团的母公司，是中东欧地区最大的国际金融和投资集团之一，业...    噪音        公司内部管理   \n",
       "2  近期美国国债收益率一直稳步走高，在本周二日本央行公布调整购债后，美债价格进一步跌向熊市。日本...    噪音            噪音   \n",
       "3  【国内】 27家乐视供应商发布呼吁对话书，希望与甘薇、贾跃民对话 1月9日晚，记者从一位乐视...    噪音            噪音   \n",
       "4  “我是个小烟酒店的老板，我的生意不大，但是我总结出不少生意经，献丑和大家说说，但愿抛砖引玉，...    噪音            噪音   \n",
       "\n",
       "                                       title_content  predict_proba    R_W  \n",
       "0  聚焦 今晚 PPI 数据 黄金 摆脱 十字路口 徘徊 行情 周三 月 日 美元 遭受 暴击 ...       0.665914  Right  \n",
       "1  驻店 销售 代表 泉港区 前 黄 涂岭 山腰 公司简介 PPF 集团 PPF 集团 捷信 集...       0.274292  Wrong  \n",
       "2  陈御 贺 主力 拉盘 轰炸 避险 黄金 暴涨 点 后期 低多 近期 美国 国债 收益率 稳步...       0.898844  Right  \n",
       "3  华为 员工 建 万套 福利 房 平米 元带 精装修 早报 国内 家乐 视 供应商 发布 呼吁...       0.980682  Right  \n",
       "4  烟酒 店老板 全 干货 揭秘 开店 看店 区别 小烟 酒店 老板 生意 生意经 献丑 说 说...       0.984564  Right  "
      ]
     },
     "execution_count": 28,
     "metadata": {},
     "output_type": "execute_result"
    }
   ],
   "source": [
    "import xlrd\n",
    "\n",
    "kfold_result = pd.DataFrame()\n",
    "\n",
    "currentPath  = 'cbrc_result_class/corpus/cbrc_class_label_proba_20180917.xlsx'\n",
    "excel = xlrd.open_workbook(currentPath)\n",
    "sheet_names = [sheet.name for sheet in excel.sheets()]\n",
    "for sheet_name in sheet_names:   \n",
    "    tmp_data = pd.read_excel(currentPath, sheet_name)     \n",
    "    kfold_result = pd.concat([kfold_result, tmp_data], axis = 0)\n",
    "\n",
    "kfold_result.index = range(kfold_result.shape[0])\n",
    "kfold_result.insert(0, '备注', '')\n",
    "print('总数：', kfold_result.shape)\n",
    "# kfold_result.head()"
   ]
  },
  {
   "cell_type": "code",
   "execution_count": 29,
   "metadata": {
    "ExecuteTime": {
     "end_time": "2018-09-18T04:03:13.038083Z",
     "start_time": "2018-09-18T04:03:12.986080Z"
    }
   },
   "outputs": [
    {
     "name": "stdout",
     "output_type": "stream",
     "text": [
      "(9826, 8)\n",
      "(8196, 8)\n",
      "(1630, 8)\n"
     ]
    },
    {
     "data": {
      "text/plain": [
       "R_W    predict_label\n",
       "Right  产品销售              42\n",
       "       公司内部管理            42\n",
       "       其他相关报道            36\n",
       "       噪音                95\n",
       "       消费服务              53\n",
       "       监管                53\n",
       "       行业                89\n",
       "       资本市场              87\n",
       "Wrong  产品销售              94\n",
       "       公司内部管理            98\n",
       "       其他相关报道           126\n",
       "       噪音               251\n",
       "       消费服务             110\n",
       "       监管               129\n",
       "       行业               186\n",
       "       资本市场             139\n",
       "Name: label, dtype: int64"
      ]
     },
     "execution_count": 29,
     "metadata": {},
     "output_type": "execute_result"
    }
   ],
   "source": [
    "K_S_sel = kfold_result[(kfold_result['predict_proba'] < 0.65) | (kfold_result['R_W'] == 'Wrong')]\n",
    "K_S_else = kfold_result[~((kfold_result['predict_proba'] < 0.65) | (kfold_result['R_W'] == 'Wrong'))]\n",
    "print(kfold_result.shape)\n",
    "print(K_S_else.shape)\n",
    "print(K_S_sel.shape)\n",
    "K_S_sel.groupby(['R_W', 'predict_label'])['label'].count()"
   ]
  },
  {
   "cell_type": "code",
   "execution_count": 30,
   "metadata": {
    "ExecuteTime": {
     "end_time": "2018-09-18T04:03:23.968708Z",
     "start_time": "2018-09-18T04:03:15.929248Z"
    },
    "collapsed": true
   },
   "outputs": [],
   "source": [
    "fea_filename = 'cbrc_result_class/result/20180918_cbrc_class_sel.xlsx'\n",
    "with pd.ExcelWriter(fea_filename) as writer:\n",
    "    for label in K_S_sel['predict_label'].unique():\n",
    "        tmp_data = K_S_sel[K_S_sel['predict_label'] == label]\n",
    "        N = tmp_data.shape[0]\n",
    "        tmp_data.sample(n = N, axis = 0, random_state=42).to_excel(writer,label, index = False)    \n",
    "    writer.save()\n",
    "    \n",
    "fea_filename = 'cbrc_result_class/result/20180918_cbrc_class_else.xlsx'\n",
    "with pd.ExcelWriter(fea_filename) as writer:\n",
    "    for label in K_S_else['predict_label'].unique():\n",
    "        tmp_data = K_S_else[K_S_else['predict_label'] == label]\n",
    "        N = tmp_data.shape[0]\n",
    "        tmp_data.sample(n = N, axis = 0, random_state=42).to_excel(writer,label, index = False)    \n",
    "    writer.save()    "
   ]
  },
  {
   "cell_type": "code",
   "execution_count": 12,
   "metadata": {
    "ExecuteTime": {
     "end_time": "2018-09-18T03:45:21.677147Z",
     "start_time": "2018-09-18T03:45:21.601142Z"
    }
   },
   "outputs": [
    {
     "name": "stdout",
     "output_type": "stream",
     "text": [
      "accuracy_score:  0.8846936698554855\n",
      "             precision    recall  f1-score   support\n",
      "\n",
      "       产品销售       0.90      0.90      0.90       939\n",
      "     公司内部管理       0.84      0.90      0.86       934\n",
      "     其他相关报道       0.93      0.92      0.92      1533\n",
      "         噪音       0.88      0.85      0.86      1656\n",
      "       消费服务       0.87      0.89      0.88      1037\n",
      "         监管       0.94      0.91      0.92      1429\n",
      "         行业       0.86      0.86      0.86      1291\n",
      "       资本市场       0.84      0.86      0.85      1007\n",
      "\n",
      "avg / total       0.89      0.88      0.88      9826\n",
      "\n",
      "confusion_matrix: \n",
      "[[ 845    5    6   19   44    0   12    8]\n",
      " [   5  836   24   12   13    5   25   14]\n",
      " [  19   33 1407   38   16    6   12    2]\n",
      " [  23   17   45 1405   34   25   35   72]\n",
      " [  29   18    9   13  927    2    9   30]\n",
      " [   4   17    6   27    8 1300   55   12]\n",
      " [  14   46   10   24   15   45 1105   32]\n",
      " [   5   28    6   60    4    5   31  868]]\n"
     ]
    }
   ],
   "source": [
    "y_test = kfold_result['predict_label'].tolist()\n",
    "y_pred_class = kfold_result['label'].tolist()\n",
    "print('accuracy_score: ', metrics.accuracy_score(y_test, y_pred_class)) # 指所有分类正确的百分比\n",
    "print(metrics.classification_report(y_test, y_pred_class))\n",
    "print('confusion_matrix: ')\n",
    "print( metrics.confusion_matrix(y_test, y_pred_class))"
   ]
  },
  {
   "cell_type": "code",
   "execution_count": 13,
   "metadata": {
    "ExecuteTime": {
     "end_time": "2018-09-18T03:45:40.843243Z",
     "start_time": "2018-09-18T03:45:39.733180Z"
    }
   },
   "outputs": [
    {
     "data": {
      "text/html": [
       "<div>\n",
       "<style scoped>\n",
       "    .dataframe tbody tr th:only-of-type {\n",
       "        vertical-align: middle;\n",
       "    }\n",
       "\n",
       "    .dataframe tbody tr th {\n",
       "        vertical-align: top;\n",
       "    }\n",
       "\n",
       "    .dataframe thead th {\n",
       "        text-align: right;\n",
       "    }\n",
       "</style>\n",
       "<table border=\"1\" class=\"dataframe\">\n",
       "  <thead>\n",
       "    <tr style=\"text-align: right;\">\n",
       "      <th>proba</th>\n",
       "      <th>0.2</th>\n",
       "      <th>0.3</th>\n",
       "      <th>0.4</th>\n",
       "      <th>0.5</th>\n",
       "      <th>0.6</th>\n",
       "      <th>0.7</th>\n",
       "      <th>0.8</th>\n",
       "      <th>0.9</th>\n",
       "      <th>1.0</th>\n",
       "      <th>sum</th>\n",
       "    </tr>\n",
       "    <tr>\n",
       "      <th>predict_label</th>\n",
       "      <th></th>\n",
       "      <th></th>\n",
       "      <th></th>\n",
       "      <th></th>\n",
       "      <th></th>\n",
       "      <th></th>\n",
       "      <th></th>\n",
       "      <th></th>\n",
       "      <th></th>\n",
       "      <th></th>\n",
       "    </tr>\n",
       "  </thead>\n",
       "  <tbody>\n",
       "    <tr>\n",
       "      <th>产品销售</th>\n",
       "      <td>3.0</td>\n",
       "      <td>13.0</td>\n",
       "      <td>11.0</td>\n",
       "      <td>34.0</td>\n",
       "      <td>38.0</td>\n",
       "      <td>39.0</td>\n",
       "      <td>41.0</td>\n",
       "      <td>114.0</td>\n",
       "      <td>651.0</td>\n",
       "      <td>944.0</td>\n",
       "    </tr>\n",
       "    <tr>\n",
       "      <th>公司内部管理</th>\n",
       "      <td>1.0</td>\n",
       "      <td>21.0</td>\n",
       "      <td>31.0</td>\n",
       "      <td>38.0</td>\n",
       "      <td>41.0</td>\n",
       "      <td>44.0</td>\n",
       "      <td>69.0</td>\n",
       "      <td>126.0</td>\n",
       "      <td>629.0</td>\n",
       "      <td>1000.0</td>\n",
       "    </tr>\n",
       "    <tr>\n",
       "      <th>其他相关报道</th>\n",
       "      <td>0.0</td>\n",
       "      <td>12.0</td>\n",
       "      <td>20.0</td>\n",
       "      <td>31.0</td>\n",
       "      <td>26.0</td>\n",
       "      <td>43.0</td>\n",
       "      <td>55.0</td>\n",
       "      <td>155.0</td>\n",
       "      <td>1171.0</td>\n",
       "      <td>1513.0</td>\n",
       "    </tr>\n",
       "    <tr>\n",
       "      <th>噪音</th>\n",
       "      <td>1.0</td>\n",
       "      <td>25.0</td>\n",
       "      <td>41.0</td>\n",
       "      <td>57.0</td>\n",
       "      <td>60.0</td>\n",
       "      <td>110.0</td>\n",
       "      <td>150.0</td>\n",
       "      <td>334.0</td>\n",
       "      <td>820.0</td>\n",
       "      <td>1598.0</td>\n",
       "    </tr>\n",
       "    <tr>\n",
       "      <th>消费服务</th>\n",
       "      <td>1.0</td>\n",
       "      <td>27.0</td>\n",
       "      <td>28.0</td>\n",
       "      <td>40.0</td>\n",
       "      <td>35.0</td>\n",
       "      <td>45.0</td>\n",
       "      <td>52.0</td>\n",
       "      <td>147.0</td>\n",
       "      <td>686.0</td>\n",
       "      <td>1061.0</td>\n",
       "    </tr>\n",
       "    <tr>\n",
       "      <th>监管</th>\n",
       "      <td>1.0</td>\n",
       "      <td>8.0</td>\n",
       "      <td>16.0</td>\n",
       "      <td>24.0</td>\n",
       "      <td>45.0</td>\n",
       "      <td>54.0</td>\n",
       "      <td>96.0</td>\n",
       "      <td>192.0</td>\n",
       "      <td>952.0</td>\n",
       "      <td>1388.0</td>\n",
       "    </tr>\n",
       "    <tr>\n",
       "      <th>行业</th>\n",
       "      <td>3.0</td>\n",
       "      <td>14.0</td>\n",
       "      <td>35.0</td>\n",
       "      <td>67.0</td>\n",
       "      <td>57.0</td>\n",
       "      <td>77.0</td>\n",
       "      <td>100.0</td>\n",
       "      <td>230.0</td>\n",
       "      <td>701.0</td>\n",
       "      <td>1284.0</td>\n",
       "    </tr>\n",
       "    <tr>\n",
       "      <th>资本市场</th>\n",
       "      <td>2.0</td>\n",
       "      <td>10.0</td>\n",
       "      <td>24.0</td>\n",
       "      <td>72.0</td>\n",
       "      <td>56.0</td>\n",
       "      <td>85.0</td>\n",
       "      <td>101.0</td>\n",
       "      <td>240.0</td>\n",
       "      <td>448.0</td>\n",
       "      <td>1038.0</td>\n",
       "    </tr>\n",
       "    <tr>\n",
       "      <th>sum</th>\n",
       "      <td>12.0</td>\n",
       "      <td>130.0</td>\n",
       "      <td>206.0</td>\n",
       "      <td>363.0</td>\n",
       "      <td>358.0</td>\n",
       "      <td>497.0</td>\n",
       "      <td>664.0</td>\n",
       "      <td>1538.0</td>\n",
       "      <td>6058.0</td>\n",
       "      <td>9826.0</td>\n",
       "    </tr>\n",
       "  </tbody>\n",
       "</table>\n",
       "</div>"
      ],
      "text/plain": [
       "proba           0.2    0.3    0.4    0.5    0.6    0.7    0.8     0.9     1.0  \\\n",
       "predict_label                                                                   \n",
       "产品销售            3.0   13.0   11.0   34.0   38.0   39.0   41.0   114.0   651.0   \n",
       "公司内部管理          1.0   21.0   31.0   38.0   41.0   44.0   69.0   126.0   629.0   \n",
       "其他相关报道          0.0   12.0   20.0   31.0   26.0   43.0   55.0   155.0  1171.0   \n",
       "噪音              1.0   25.0   41.0   57.0   60.0  110.0  150.0   334.0   820.0   \n",
       "消费服务            1.0   27.0   28.0   40.0   35.0   45.0   52.0   147.0   686.0   \n",
       "监管              1.0    8.0   16.0   24.0   45.0   54.0   96.0   192.0   952.0   \n",
       "行业              3.0   14.0   35.0   67.0   57.0   77.0  100.0   230.0   701.0   \n",
       "资本市场            2.0   10.0   24.0   72.0   56.0   85.0  101.0   240.0   448.0   \n",
       "sum            12.0  130.0  206.0  363.0  358.0  497.0  664.0  1538.0  6058.0   \n",
       "\n",
       "proba             sum  \n",
       "predict_label          \n",
       "产品销售            944.0  \n",
       "公司内部管理         1000.0  \n",
       "其他相关报道         1513.0  \n",
       "噪音             1598.0  \n",
       "消费服务           1061.0  \n",
       "监管             1388.0  \n",
       "行业             1284.0  \n",
       "资本市场           1038.0  \n",
       "sum            9826.0  "
      ]
     },
     "execution_count": 13,
     "metadata": {},
     "output_type": "execute_result"
    },
    {
     "data": {
      "image/png": "[encoded data removed]",
      "text/plain": [
       "<matplotlib.figure.Figure at 0x18c962b0>"
      ]
     },
     "metadata": {},
     "output_type": "display_data"
    }
   ],
   "source": [
    "y_pred_prob = kfold_result['predict_proba'].tolist()\n",
    "\n",
    "sel_data_stat = plot_class_proba(y_pred_class, y_pred_prob)\n",
    "sel_data_stat"
   ]
  },
  {
   "cell_type": "markdown",
   "metadata": {},
   "source": [
    "## 保存模型"
   ]
  },
  {
   "cell_type": "code",
   "execution_count": 75,
   "metadata": {
    "ExecuteTime": {
     "end_time": "2018-12-24T07:30:34.432455Z",
     "start_time": "2018-12-24T07:09:28.594053Z"
    }
   },
   "outputs": [
    {
     "name": "stdout",
     "output_type": "stream",
     "text": [
      "d:\\xh\\python_project\\tool\\toolkits\\nlp\n",
      "d:\\xh\\python_project\\tool\\toolkits\\nlp\n",
      "keywords num:  1353\n",
      "0.9756796887000153\n"
     ]
    },
    {
     "data": {
      "text/plain": [
       "Pipeline(memory=None,\n",
       "     steps=[('features', FeatureUnion(n_jobs=1,\n",
       "       transformer_list=[('tf_idf', Pipeline(memory=None,\n",
       "     steps=[('counts', CountVectorizer(analyzer='word', binary=False, decode_error='strict',\n",
       "        dtype=<class 'numpy.int64'>, encoding='utf-8', input='content',\n",
       "        lowercase=True, max_df=0.9...tate=0, reg_alpha=0, reg_lambda=1, scale_pos_weight=1,\n",
       "       seed=None, silent=True, subsample=1))])"
      ]
     },
     "execution_count": 75,
     "metadata": {},
     "output_type": "execute_result"
    }
   ],
   "source": [
    "pipeline = Pipeline([\n",
    "    ('features', FeatureUnion([\n",
    "        ('tf_idf', Pipeline([\n",
    "            ('counts', CountVectorizer(max_df=0.95, min_df=2)),\n",
    "            ('tf_idf', TfidfTransformer()),\n",
    "            ('chi', SelectKBest(chi2, k=20000))\n",
    "        ])),\n",
    "        ('len_stats', myclass_cbrc.StatsFeatures_cor()),\n",
    "        ('tf', myclass_cbrc.Statskeywords_cor(topk = 5000))\n",
    "    ])),\n",
    "    ('standard', StandardScaler(with_mean=False)),\n",
    "    ('classifier', XGBClassifier(max_depth=7,objective='multi:softmax', num_class=8))\n",
    "])\n",
    "\n",
    "pipeline.fit(title_content, label)\n",
    "print(pipeline.score(title_content, label))\n",
    "pipeline"
   ]
  },
  {
   "cell_type": "code",
   "execution_count": 76,
   "metadata": {
    "ExecuteTime": {
     "end_time": "2018-12-24T07:30:42.100894Z",
     "start_time": "2018-12-24T07:30:37.521632Z"
    }
   },
   "outputs": [
    {
     "data": {
      "text/plain": [
       "['model/cbrc_8classifier_1224.pkl.z']"
      ]
     },
     "execution_count": 76,
     "metadata": {},
     "output_type": "execute_result"
    }
   ],
   "source": [
    "from sklearn.externals import joblib\n",
    "joblib.dump(pipeline, \"model/cbrc_8classifier_1224.pkl.z\")"
   ]
  },
  {
   "cell_type": "markdown",
   "metadata": {
    "collapsed": true
   },
   "source": [
    "# 银行业：2 倾向性"
   ]
  },
  {
   "cell_type": "markdown",
   "metadata": {},
   "source": [
    "## 导入与分割数据"
   ]
  },
  {
   "cell_type": "code",
   "execution_count": 42,
   "metadata": {
    "ExecuteTime": {
     "end_time": "2018-12-24T05:35:47.694556Z",
     "start_time": "2018-12-24T05:35:46.709500Z"
    }
   },
   "outputs": [
    {
     "name": "stdout",
     "output_type": "stream",
     "text": [
      "title num:  9301\n",
      "['推荐 评级 银行业 动态 报告 同业存单 监管 银行 利空', '年 中国 投资 行业 管理 万亿美元 资产']\n",
      "content num:  9301\n",
      "title_content num:  9301\n",
      "label num:  9301\n",
      "['0', '0', '0', '0', '0']\n"
     ]
    },
    {
     "data": {
      "text/plain": [
       "[0, 0, 0, 0, 0]"
      ]
     },
     "execution_count": 42,
     "metadata": {},
     "output_type": "execute_result"
    }
   ],
   "source": [
    "cbrc_filepath_class = 'cbrc_result_tendency/corpus/'\n",
    "title_content, label, title, content = load_save_plot_file.title_content_label(cbrc_filepath_class)\n",
    "label = [int(l) for l in label]\n",
    "label[:5]"
   ]
  },
  {
   "cell_type": "code",
   "execution_count": 43,
   "metadata": {
    "ExecuteTime": {
     "end_time": "2018-12-24T05:35:51.025747Z",
     "start_time": "2018-12-24T05:35:50.784733Z"
    }
   },
   "outputs": [
    {
     "data": {
      "text/plain": [
       "{-1: '负面', 0: '非负'}"
      ]
     },
     "execution_count": 43,
     "metadata": {},
     "output_type": "execute_result"
    }
   ],
   "source": [
    "label_dic={'非负':0,'负面':-1}\n",
    "class_name_dict = {v: k for k, v in label_dic.items()}\n",
    "class_name_dict"
   ]
  },
  {
   "cell_type": "code",
   "execution_count": 44,
   "metadata": {
    "ExecuteTime": {
     "end_time": "2018-12-24T05:35:54.160926Z",
     "start_time": "2018-12-24T05:35:53.883910Z"
    }
   },
   "outputs": [
    {
     "name": "stdout",
     "output_type": "stream",
     "text": [
      "训练集： 6510\n",
      "训练集-各类数量： Counter({-1: 3813, 0: 2697})\n",
      "测试集： 2791\n",
      "测试集-各类数量： Counter({-1: 1610, 0: 1181})\n"
     ]
    }
   ],
   "source": [
    "X_train, X_test, y_train, y_test = train_test_split(title_content, label, test_size=0.3, random_state=42)\n",
    "print('训练集：',len(y_train))\n",
    "print('训练集-各类数量：',Counter(y_train))\n",
    "print('测试集：',len(y_test))\n",
    "print('测试集-各类数量：',Counter(y_test))"
   ]
  },
  {
   "cell_type": "markdown",
   "metadata": {},
   "source": [
    "## train & test"
   ]
  },
  {
   "cell_type": "code",
   "execution_count": 43,
   "metadata": {
    "ExecuteTime": {
     "end_time": "2018-12-21T06:39:02.453262Z",
     "start_time": "2018-12-21T06:38:11.680358Z"
    }
   },
   "outputs": [
    {
     "name": "stdout",
     "output_type": "stream",
     "text": [
      "d:\\xh\\python_project\\tool\\toolkits\\nlp\n",
      "0.9823348694316436\n"
     ]
    },
    {
     "data": {
      "text/plain": [
       "Pipeline(memory=None,\n",
       "     steps=[('features', FeatureUnion(n_jobs=1,\n",
       "       transformer_list=[('tf_idf', Pipeline(memory=None,\n",
       "     steps=[('counts', CountVectorizer(analyzer='word', binary=False, decode_error='strict',\n",
       "        dtype=<class 'numpy.int64'>, encoding='utf-8', input='content',\n",
       "        lowercase=True, max_df=0.9...tate=0, reg_alpha=0, reg_lambda=1, scale_pos_weight=1,\n",
       "       seed=None, silent=True, subsample=1))])"
      ]
     },
     "execution_count": 43,
     "metadata": {},
     "output_type": "execute_result"
    }
   ],
   "source": [
    "pipeline = Pipeline([\n",
    "    ('features', FeatureUnion([\n",
    "        ('tf_idf', Pipeline([\n",
    "            ('counts', CountVectorizer(max_df=0.95, min_df=2)),\n",
    "            ('tf_idf', TfidfTransformer()),\n",
    "            ('chi', SelectKBest(chi2, k=2000))\n",
    "        ])),\n",
    "        ('len_stats', myclass_cbrc.StatsFeatures_tendency()),\n",
    "    ])),\n",
    "    ('standard', StandardScaler(with_mean=False)),\n",
    "    ('classifier', XGBClassifier(max_depth=7,objective='multi:softmax', num_class=2))\n",
    "])\n",
    "\n",
    "pipeline.fit(X_train, y_train)\n",
    "print(pipeline.score(X_train, y_train))\n",
    "pipeline"
   ]
  },
  {
   "cell_type": "code",
   "execution_count": 44,
   "metadata": {
    "ExecuteTime": {
     "end_time": "2018-12-21T06:39:06.361485Z",
     "start_time": "2018-12-21T06:39:04.470377Z"
    }
   },
   "outputs": [
    {
     "name": "stdout",
     "output_type": "stream",
     "text": [
      "accuracy_score:  0.9226083840917234\n",
      "             precision    recall  f1-score   support\n",
      "\n",
      "         -1       0.94      0.92      0.93      1610\n",
      "          0       0.90      0.92      0.91      1181\n",
      "\n",
      "avg / total       0.92      0.92      0.92      2791\n",
      "\n",
      "confusion_matrix: \n",
      "[[1488  122]\n",
      " [  94 1087]]\n"
     ]
    }
   ],
   "source": [
    "y_pred_class = pipeline.predict(X_test)\n",
    "print('accuracy_score: ', metrics.accuracy_score(y_test, y_pred_class)) # 指所有分类正确的百分比\n",
    "print(metrics.classification_report(y_test, y_pred_class))\n",
    "print('confusion_matrix: ')\n",
    "print( metrics.confusion_matrix(y_test, y_pred_class))\n",
    "filename = 'statistics_result/CBRC_tendency_model_report.csv'\n",
    "save_model_report(filename, 'CBRC_tendency_model_report')"
   ]
  },
  {
   "cell_type": "markdown",
   "metadata": {},
   "source": [
    "## 概率结果"
   ]
  },
  {
   "cell_type": "code",
   "execution_count": null,
   "metadata": {
    "ExecuteTime": {
     "start_time": "2018-09-11T08:01:33.796Z"
    },
    "collapsed": true
   },
   "outputs": [],
   "source": [
    "y_pred_prob = pipeline.predict_proba(X_test)\n",
    "pd.DataFrame(y_pred_prob.max(axis = 1)).plot.hist(bins = 100)"
   ]
  },
  {
   "cell_type": "code",
   "execution_count": null,
   "metadata": {
    "ExecuteTime": {
     "start_time": "2018-09-11T08:01:33.804Z"
    },
    "collapsed": true
   },
   "outputs": [],
   "source": [
    "sel_data_stat = plot_class_proba(y_pred_class, y_pred_prob)\n",
    "sel_data_stat"
   ]
  },
  {
   "cell_type": "markdown",
   "metadata": {},
   "source": [
    "## K-fold"
   ]
  },
  {
   "cell_type": "code",
   "execution_count": 24,
   "metadata": {
    "ExecuteTime": {
     "end_time": "2018-11-14T08:31:25.551350Z",
     "start_time": "2018-11-14T08:29:26.761555Z"
    }
   },
   "outputs": [
    {
     "name": "stdout",
     "output_type": "stream",
     "text": [
      "d:\\xh\\python_project\\tool\\toolkits\\nlp\n",
      "data_raw:  (3982, 4)\n",
      "---- 1\n",
      "0.9962323390894819\n",
      "accuracy_score:  0.944792973651192\n",
      "             precision    recall  f1-score   support\n",
      "\n",
      "         -1       0.95      0.94      0.95       407\n",
      "          0       0.93      0.95      0.94       390\n",
      "\n",
      "avg / total       0.94      0.94      0.94       797\n",
      "\n",
      "confusion_matrix: \n",
      "[[381  26]\n",
      " [ 18 372]]\n",
      "---- 2\n",
      "0.9949764521193093\n",
      "accuracy_score:  0.9360100376411543\n",
      "             precision    recall  f1-score   support\n",
      "\n",
      "         -1       0.95      0.92      0.93       399\n",
      "          0       0.92      0.95      0.94       398\n",
      "\n",
      "avg / total       0.94      0.94      0.94       797\n",
      "\n",
      "confusion_matrix: \n",
      "[[366  33]\n",
      " [ 18 380]]\n",
      "---- 3\n",
      "0.9956057752667922\n",
      "accuracy_score:  0.9309045226130653\n",
      "             precision    recall  f1-score   support\n",
      "\n",
      "         -1       0.94      0.93      0.93       417\n",
      "          0       0.92      0.93      0.93       379\n",
      "\n",
      "avg / total       0.93      0.93      0.93       796\n",
      "\n",
      "confusion_matrix: \n",
      "[[387  30]\n",
      " [ 25 354]]\n",
      "---- 4\n",
      "0.9956057752667922\n",
      "accuracy_score:  0.9258793969849246\n",
      "             precision    recall  f1-score   support\n",
      "\n",
      "         -1       0.96      0.90      0.93       426\n",
      "          0       0.89      0.96      0.92       370\n",
      "\n",
      "avg / total       0.93      0.93      0.93       796\n",
      "\n",
      "confusion_matrix: \n",
      "[[383  43]\n",
      " [ 16 354]]\n",
      "---- 5\n",
      "0.9962335216572504\n",
      "accuracy_score:  0.9258793969849246\n",
      "             precision    recall  f1-score   support\n",
      "\n",
      "         -1       0.93      0.93      0.93       399\n",
      "          0       0.93      0.92      0.93       397\n",
      "\n",
      "avg / total       0.93      0.93      0.93       796\n",
      "\n",
      "confusion_matrix: \n",
      "[[370  29]\n",
      " [ 30 367]]\n",
      "kfold_result:  (3982, 7)\n"
     ]
    }
   ],
   "source": [
    "pipeline = Pipeline([\n",
    "    ('features', FeatureUnion([\n",
    "        ('tf_idf', Pipeline([\n",
    "            ('counts', CountVectorizer(max_df=0.95, min_df=2)),\n",
    "            ('tf_idf', TfidfTransformer()),\n",
    "            ('chi', SelectKBest(chi2, k=2000))\n",
    "        ])),\n",
    "        ('len_stats', myclass_cbrc.StatsFeatures_tendency()),\n",
    "    ])),\n",
    "    ('standard', StandardScaler(with_mean=False)),\n",
    "    ('classifier', XGBClassifier(max_depth=7,objective='multi:softmax', num_class=2))\n",
    "])\n",
    "\n",
    "filename = 'cbrc_tendency_label_proba_20181114.xlsx'\n",
    "cal_kfold(title_content, label, pipeline, 'cbrc_result_tendency', filename, class_name_dict)"
   ]
  },
  {
   "cell_type": "markdown",
   "metadata": {},
   "source": [
    "## 保存模型"
   ]
  },
  {
   "cell_type": "code",
   "execution_count": 46,
   "metadata": {
    "ExecuteTime": {
     "end_time": "2018-12-24T05:37:56.912947Z",
     "start_time": "2018-12-24T05:36:42.104668Z"
    }
   },
   "outputs": [
    {
     "name": "stdout",
     "output_type": "stream",
     "text": [
      "d:\\xh\\python_project\\tool\\toolkits\\nlp\n",
      "0.9795720890226858\n"
     ]
    },
    {
     "data": {
      "text/plain": [
       "Pipeline(memory=None,\n",
       "     steps=[('features', FeatureUnion(n_jobs=1,\n",
       "       transformer_list=[('tf_idf', Pipeline(memory=None,\n",
       "     steps=[('counts', CountVectorizer(analyzer='word', binary=False, decode_error='strict',\n",
       "        dtype=<class 'numpy.int64'>, encoding='utf-8', input='content',\n",
       "        lowercase=True, max_df=0.9...tate=0, reg_alpha=0, reg_lambda=1, scale_pos_weight=1,\n",
       "       seed=None, silent=True, subsample=1))])"
      ]
     },
     "execution_count": 46,
     "metadata": {},
     "output_type": "execute_result"
    }
   ],
   "source": [
    "pipeline = Pipeline([\n",
    "    ('features', FeatureUnion([\n",
    "        ('tf_idf', Pipeline([\n",
    "            ('counts', CountVectorizer(max_df=0.95, min_df=2)),\n",
    "            ('tf_idf', TfidfTransformer()),\n",
    "            ('chi', SelectKBest(chi2, k=2000))\n",
    "        ])),\n",
    "        ('len_stats', myclass_cbrc.StatsFeatures_tendency()),\n",
    "    ])),\n",
    "    ('standard', StandardScaler(with_mean=False)),\n",
    "    ('classifier', XGBClassifier(max_depth=7,objective='multi:softmax', num_class=2))\n",
    "])\n",
    "\n",
    "pipeline.fit(title_content, label)\n",
    "print(pipeline.score(title_content, label))\n",
    "pipeline"
   ]
  },
  {
   "cell_type": "code",
   "execution_count": 48,
   "metadata": {
    "ExecuteTime": {
     "end_time": "2018-12-24T05:38:08.727623Z",
     "start_time": "2018-12-24T05:38:06.615502Z"
    }
   },
   "outputs": [
    {
     "data": {
      "text/plain": [
       "['model/cbrc_chapter_tendency_1224.pkl.z']"
      ]
     },
     "execution_count": 48,
     "metadata": {},
     "output_type": "execute_result"
    }
   ],
   "source": [
    "from sklearn.externals import joblib\n",
    "joblib.dump(pipeline, \"model/cbrc_chapter_tendency_1224.pkl.z\")"
   ]
  },
  {
   "cell_type": "code",
   "execution_count": 63,
   "metadata": {
    "ExecuteTime": {
     "end_time": "2018-12-24T06:39:06.545838Z",
     "start_time": "2018-12-24T06:39:05.176760Z"
    }
   },
   "outputs": [
    {
     "name": "stdout",
     "output_type": "stream",
     "text": [
      "(7645, 9)\n",
      " 0    4704\n",
      "-1    2941\n",
      "Name: tendency, dtype: int64\n"
     ]
    },
    {
     "data": {
      "text/html": [
       "<div>\n",
       "<style scoped>\n",
       "    .dataframe tbody tr th:only-of-type {\n",
       "        vertical-align: middle;\n",
       "    }\n",
       "\n",
       "    .dataframe tbody tr th {\n",
       "        vertical-align: top;\n",
       "    }\n",
       "\n",
       "    .dataframe thead th {\n",
       "        text-align: right;\n",
       "    }\n",
       "</style>\n",
       "<table border=\"1\" class=\"dataframe\">\n",
       "  <thead>\n",
       "    <tr style=\"text-align: right;\">\n",
       "      <th></th>\n",
       "      <th>id</th>\n",
       "      <th>urlhash</th>\n",
       "      <th>group_id</th>\n",
       "      <th>predict_label_mysql</th>\n",
       "      <th>tendency</th>\n",
       "      <th>label</th>\n",
       "      <th>title</th>\n",
       "      <th>content</th>\n",
       "      <th>publishtime</th>\n",
       "    </tr>\n",
       "  </thead>\n",
       "  <tbody>\n",
       "    <tr>\n",
       "      <th>0</th>\n",
       "      <td>269202300</td>\n",
       "      <td>4990773528943324160</td>\n",
       "      <td>新闻</td>\n",
       "      <td>公司内部管理</td>\n",
       "      <td>0</td>\n",
       "      <td>NaN</td>\n",
       "      <td>微信闭环营销策略与社群经营</td>\n",
       "      <td>ACI注册国际职业培训师，DISC版权认证讲师 互联网金融线上营销实战派专家 产品营销和...</td>\n",
       "      <td>2018-12-14 09:00:00</td>\n",
       "    </tr>\n",
       "  </tbody>\n",
       "</table>\n",
       "</div>"
      ],
      "text/plain": [
       "          id              urlhash group_id predict_label_mysql  tendency  \\\n",
       "0  269202300  4990773528943324160       新闻              公司内部管理         0   \n",
       "\n",
       "   label          title                                            content  \\\n",
       "0    NaN  微信闭环营销策略与社群经营  ACI注册国际职业培训师，DISC版权认证讲师 互联网金融线上营销实战派专家 产品营销和...   \n",
       "\n",
       "          publishtime  \n",
       "0 2018-12-14 09:00:00  "
      ]
     },
     "execution_count": 63,
     "metadata": {},
     "output_type": "execute_result"
    }
   ],
   "source": [
    "cbrc_data = pd.read_excel('cbrc_result_tendency/cbrc_tendency_data_20181224(1214-1216).xlsx')\n",
    "cbrc_data.rename(columns = {'predict_label':'predict_label_mysql'}, inplace=True)\n",
    "print(cbrc_data.shape)\n",
    "print(cbrc_data['tendency'].value_counts())\n",
    "cbrc_data.iloc[:1,:]"
   ]
  },
  {
   "cell_type": "code",
   "execution_count": 64,
   "metadata": {
    "ExecuteTime": {
     "end_time": "2018-12-24T06:42:12.669484Z",
     "start_time": "2018-12-24T06:39:10.997093Z"
    }
   },
   "outputs": [
    {
     "name": "stdout",
     "output_type": "stream",
     "text": [
      " 0    5830\n",
      "-1    1815\n",
      "Name: predict_label, dtype: int64\n",
      "(7645, 10)\n"
     ]
    }
   ],
   "source": [
    "cbrc_data_sel = cbrc_data[['id', 'title', 'content']]\n",
    "cbrc_data_sel['title_content'] = cbrc_data_sel['title'].astype(str) + '。' + cbrc_data_sel['content'].astype(str)\n",
    "data_list = cbrc_data_sel['title_content'].astype(str).tolist()\n",
    "cbrc_data_sel_pre = pre_cor_cbrc.handle_contents(data_list)\n",
    "\n",
    "correlation_pipeline = joblib.load(\"model/cbrc_chapter_tendency_1224.pkl.z\")\n",
    "correlation_res = correlation_pipeline.predict(cbrc_data_sel_pre)\n",
    "cbrc_data_sel['predict_label'] = correlation_res\n",
    "print(cbrc_data_sel['predict_label'].value_counts())\n",
    "\n",
    "cbrc_data = pd.merge(cbrc_data, cbrc_data_sel[['id', 'predict_label']], on='id')\n",
    "print(cbrc_data.shape)"
   ]
  },
  {
   "cell_type": "code",
   "execution_count": 65,
   "metadata": {
    "ExecuteTime": {
     "end_time": "2018-12-24T06:42:18.009789Z",
     "start_time": "2018-12-24T06:42:16.098680Z"
    }
   },
   "outputs": [
    {
     "name": "stdout",
     "output_type": "stream",
     "text": [
      "predict_label    -1     0   All\n",
      "tendency                       \n",
      "-1             1666  1275  2941\n",
      "0               149  4555  4704\n",
      "All            1815  5830  7645\n"
     ]
    }
   ],
   "source": [
    "print(cbrc_data.pivot_table(index = ['tendency'], columns = ['predict_label'],\n",
    "                            values = 'title', aggfunc=len, \n",
    "                            fill_value=0, margins=True))\n",
    "\n",
    "fea_filename = 'cbrc_result_tendency/cbrc_tendency_data_local_predict_20181224(1214-1216).xlsx'\n",
    "with pd.ExcelWriter(fea_filename) as writer:\n",
    "    cbrc_data[cbrc_data['predict_label'] == -1].sample(n = 1000, axis = 0, random_state=3).to_excel(writer,'-1')\n",
    "    cbrc_data[cbrc_data['predict_label'] == 0].sample(n = 1000, axis = 0, random_state=3).to_excel(writer,'0')\n",
    "    writer.save()"
   ]
  },
  {
   "cell_type": "markdown",
   "metadata": {
    "collapsed": true
   },
   "source": [
    "# 保存本文件"
   ]
  },
  {
   "cell_type": "code",
   "execution_count": null,
   "metadata": {
    "ExecuteTime": {
     "start_time": "2018-09-11T08:01:33.839Z"
    },
    "collapsed": true
   },
   "outputs": [],
   "source": [
    "if 0:\n",
    "    import datetime as dt\n",
    "    \n",
    "    def output_HTML(read_file, output_file):\n",
    "        from nbconvert import HTMLExporter\n",
    "        import codecs\n",
    "        import nbformat\n",
    "        exporter = HTMLExporter()\n",
    "        # read_file is '.ipynb', output_file is '.html'\n",
    "        output_notebook = nbformat.read(read_file, as_version=4)\n",
    "        output, resources = exporter.from_notebook_node(output_notebook)\n",
    "        codecs.open(output_file, 'w', encoding='utf-8').write(output)\n",
    "\n",
    "    html_file_folder = 'html_files'\n",
    "    if not os.path.exists(html_file_folder):\n",
    "        os.makedirs(html_file_folder)\n",
    "\n",
    "    today = dt.datetime.now().strftime('%Y%m%d')\n",
    "    current_file = 'circ_cor_model_2_train.ipynb'\n",
    "    output_file = 'html_files\\%s_%s.html'%(os.path.splitext(current_file)[0], today)\n",
    "    output_HTML(current_file, output_file)"
   ]
  }
 ],
 "metadata": {
  "kernelspec": {
   "display_name": "Python 3",
   "language": "python",
   "name": "python3"
  },
  "language_info": {
   "codemirror_mode": {
    "name": "ipython",
    "version": 3
   },
   "file_extension": ".py",
   "mimetype": "text/x-python",
   "name": "python",
   "nbconvert_exporter": "python",
   "pygments_lexer": "ipython3",
   "version": "3.6.3"
  },
  "toc": {
   "nav_menu": {},
   "number_sections": true,
   "sideBar": true,
   "skip_h1_title": false,
   "title_cell": "Table of Contents",
   "title_sidebar": "Contents",
   "toc_cell": false,
   "toc_position": {
    "height": "calc(100% - 180px)",
    "left": "10px",
    "top": "150px",
    "width": "376px"
   },
   "toc_section_display": true,
   "toc_window_display": true
  },
  "varInspector": {
   "cols": {
    "lenName": 16,
    "lenType": 16,
    "lenVar": 40
   },
   "kernels_config": {
    "python": {
     "delete_cmd_postfix": "",
     "delete_cmd_prefix": "del ",
     "library": "var_list.py",
     "varRefreshCmd": "print(var_dic_list())"
    },
    "r": {
     "delete_cmd_postfix": ") ",
     "delete_cmd_prefix": "rm(",
     "library": "var_list.r",
     "varRefreshCmd": "cat(var_dic_list()) "
    }
   },
   "types_to_exclude": [
    "module",
    "function",
    "builtin_function_or_method",
    "instance",
    "_Feature"
   ],
   "window_display": false
  }
 },
 "nbformat": 4,
 "nbformat_minor": 2
}
