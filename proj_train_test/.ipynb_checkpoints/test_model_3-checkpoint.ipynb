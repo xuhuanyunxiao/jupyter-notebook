{
 "cells": [
  {
   "cell_type": "markdown",
   "metadata": {},
   "source": [
    "# 本文件说明\n",
    "- 数据库里导出数据，本地模型、线上模型测试"
   ]
  },
  {
   "cell_type": "markdown",
   "metadata": {},
   "source": [
    "# 基本设置"
   ]
  },
  {
   "cell_type": "code",
   "execution_count": 1,
   "metadata": {
    "ExecuteTime": {
     "end_time": "2018-12-21T01:37:16.476659Z",
     "start_time": "2018-12-21T01:37:15.002575Z"
    },
    "collapsed": true
   },
   "outputs": [],
   "source": [
    "import numpy as np\n",
    "import pandas as pd\n",
    "\n",
    "import os\n",
    "\n",
    "import requests,json\n",
    "from sklearn.externals import joblib\n",
    "\n",
    "import seaborn as sns\n",
    "import matplotlib as mpl\n",
    "import matplotlib.pyplot as plt\n",
    "%matplotlib inline\n",
    "\n",
    "import warnings\n",
    "warnings.filterwarnings('ignore')"
   ]
  },
  {
   "cell_type": "code",
   "execution_count": 2,
   "metadata": {
    "ExecuteTime": {
     "end_time": "2018-12-21T01:37:19.801849Z",
     "start_time": "2018-12-21T01:37:16.481659Z"
    }
   },
   "outputs": [
    {
     "name": "stderr",
     "output_type": "stream",
     "text": [
      "Building prefix dict from the default dictionary ...\n",
      "Loading model from cache C:\\Users\\ADMINI~1\\AppData\\Local\\Temp\\jieba.cache\n",
      "Loading model cost 1.096 seconds.\n",
      "Prefix dict has been built succesfully.\n"
     ]
    }
   ],
   "source": [
    "from toolkits.setup.date_time import get_day_list\n",
    "from toolkits.setup import specific_func\n",
    "\n",
    "from toolkits.nlp import pre_cor_circ\n",
    "from toolkits.nlp import pre_cor_cbrc"
   ]
  },
  {
   "cell_type": "markdown",
   "metadata": {
    "collapsed": true
   },
   "source": [
    "## 一些函数"
   ]
  },
  {
   "cell_type": "code",
   "execution_count": 3,
   "metadata": {
    "ExecuteTime": {
     "end_time": "2018-12-21T01:37:19.825851Z",
     "start_time": "2018-12-21T01:37:19.805849Z"
    },
    "collapsed": true
   },
   "outputs": [],
   "source": [
    "def get_server_res_yjh(data, url, col_name):\n",
    "    '''\n",
    "    服务器接口测试程序\n",
    "    传入 dict, 传出 DataFrame\n",
    "    '''\n",
    "    # data = {'record':[{'id':0,'title':'ss','content':'zzz'},]}\n",
    "    # data = {\"record\":marked_human_data.iloc[:5,:3].to_dict(orient = 'records')}\n",
    "    # url \"http://47.93.77.19:10000/correlation_negative\"\n",
    "    headers={'content-type':'application/json'}\n",
    "    result = requests.post(url,\n",
    "                      data = json.dumps(data),\n",
    "                      headers=headers, allow_redirects=True)\n",
    "    # print(result.text)\n",
    "    json_data = json.loads(result.text)\n",
    "    parse_data = []\n",
    "    elapsed_time = json_data['elapsed_time']\n",
    "    for i in range(len(json_data['docs'])):\n",
    "        parse_data.append([json_data['docs'][i]['id'],\n",
    "                          json_data['docs'][i][col_name]])\n",
    "    parse_data = pd.DataFrame(parse_data, columns = ['id', col_name])    \n",
    "    return parse_data , elapsed_time"
   ]
  },
  {
   "cell_type": "code",
   "execution_count": 4,
   "metadata": {
    "ExecuteTime": {
     "end_time": "2018-12-21T01:37:19.893855Z",
     "start_time": "2018-12-21T01:37:19.829851Z"
    },
    "collapsed": true
   },
   "outputs": [],
   "source": [
    "def get_serve_data_yjh(day_list, sql_one_day, url, col_name, save_filename):    \n",
    "    chunksize = 1000\n",
    "    for day_select in day_list:\n",
    "        print('-- day_select: ', day_select)\n",
    "        mysql_data = pd.read_sql(eval(sql_one_day), engine, chunksize= chunksize)\n",
    "        num = 1\n",
    "        combined_data = pd.DataFrame()\n",
    "        for tmp_data in mysql_data:  \n",
    "            print('---- loop num: ', num, 'tmp_data: ', tmp_data.shape)\n",
    "            data = {\"record\":tmp_data.loc[:,['id', 'title' ,'content']].to_dict(orient = 'records')}\n",
    "            parse_data = get_server_res_yjh(data, url, col_name)\n",
    "\n",
    "            parse_data.columns = ['id', 'predict_label']\n",
    "            \n",
    "            parse_data['label'] = ''\n",
    "            combined_tmp = pd.merge(parse_data, tmp_data, on = 'id', how = 'inner')\n",
    "            combined_data = pd.concat([combined_tmp, combined_data])\n",
    "\n",
    "        combined_data['predict_label'] = combined_data['predict_label'].apply(lambda x:class_name_dict[x])\n",
    "        combined_data['group_id'] = combined_data['group_id'].apply(lambda x:group_dict[str(x)])\n",
    "        combined_data.to_excel(eval(save_filename), index = False)\n",
    "        print(combined_data['predict_label'].value_counts())"
   ]
  },
  {
   "cell_type": "code",
   "execution_count": 5,
   "metadata": {
    "ExecuteTime": {
     "end_time": "2018-12-21T01:37:20.020862Z",
     "start_time": "2018-12-21T01:37:19.897855Z"
    },
    "collapsed": true
   },
   "outputs": [],
   "source": [
    "def get_server_res(data, url, col_name):\n",
    "    '''\n",
    "    服务器接口测试程序\n",
    "    传入 dict, 传出 DataFrame\n",
    "    '''\n",
    "    # data = {'record':[{'id':0,'title':'ss','content':'zzz'},]}\n",
    "    # data = {\"record\":marked_human_data.iloc[:5,:3].to_dict(orient = 'records')}\n",
    "    # url \"http://47.93.77.19:10000/correlation_negative\"\n",
    "    headers={'content-type':'application/json'}\n",
    "    result = requests.post(url,\n",
    "                      data = json.dumps(data),\n",
    "                      headers=headers, allow_redirects=True)\n",
    "    # print(result.text)\n",
    "    json_data = json.loads(result.text)\n",
    "    parse_data = []\n",
    "    elapsed_time = json_data['elapsed_time']\n",
    "    for i in range(len(json_data['docs'])):\n",
    "        parse_data.append([json_data['docs'][i]['id'],\n",
    "                          json_data['docs'][i][col_name]])\n",
    "    parse_data = pd.DataFrame(parse_data, columns = ['id', col_name])    \n",
    "    return parse_data, elapsed_time"
   ]
  },
  {
   "cell_type": "code",
   "execution_count": 6,
   "metadata": {
    "ExecuteTime": {
     "end_time": "2018-12-21T01:37:20.115867Z",
     "start_time": "2018-12-21T01:37:20.028862Z"
    },
    "collapsed": true
   },
   "outputs": [],
   "source": [
    "def get_serve_data(day_list, sql_one_day, url, col_name):\n",
    "    combined_data = pd.DataFrame()\n",
    "    for day_select in day_list:\n",
    "        print('-- day_select: ', day_select)\n",
    "        mysql_data = pd.read_sql(eval(sql_one_day), engine)\n",
    "        print('去空值前：', mysql_data.shape)\n",
    "        mysql_data = mysql_data.drop_duplicates(subset = ['title', 'content'])\n",
    "        print('去空值后：', mysql_data.shape)\n",
    "        data = {\"record\":mysql_data.loc[:,['id', 'title' ,'content']].to_dict(orient = 'records')}\n",
    "        \n",
    "        parse_data, elapsed_time = get_server_res(data, url)\n",
    "        print('elapsed_time: ', elapsed_time)\n",
    "        \n",
    "        parse_data.columns = ['id', 'predict_label']\n",
    "        parse_data['predict_label'] = parse_data['predict_label'].apply(lambda x:class_name_dict[x])\n",
    "        parse_data['label'] = ''\n",
    "        combined_cor = pd.merge(parse_data, mysql_data, on = 'id', how = 'inner')\n",
    "        combined_data = pd.concat([combined_data, combined_cor], axis = 0)\n",
    "\n",
    "        print(combined_cor['predict_label'].value_counts())\n",
    "    return combined_data"
   ]
  },
  {
   "cell_type": "markdown",
   "metadata": {},
   "source": [
    "# 基本信息"
   ]
  },
  {
   "cell_type": "code",
   "execution_count": 7,
   "metadata": {
    "ExecuteTime": {
     "end_time": "2018-12-21T01:37:20.202872Z",
     "start_time": "2018-12-21T01:37:20.118867Z"
    }
   },
   "outputs": [
    {
     "data": {
      "text/plain": [
       "{0: '补录',\n",
       " 1: '监管',\n",
       " 2: '行业',\n",
       " 3: '产品销售',\n",
       " 4: '资本市场',\n",
       " 5: '公司内部管理',\n",
       " 6: '消费服务',\n",
       " 7: '其他相关报道',\n",
       " 8: '噪音',\n",
       " 9: '交通',\n",
       " 10: '环保'}"
      ]
     },
     "execution_count": 7,
     "metadata": {},
     "output_type": "execute_result"
    }
   ],
   "source": [
    "label_dic={'补录':0,'监管':1,'行业':2,'产品销售':3,'资本市场':4,'公司内部管理':5,\n",
    "           '消费服务':6,'其他相关报道':7,'噪音':8,'交通':9,'环保':10}\n",
    "class_name_dict = {v: k for k, v in label_dic.items()}\n",
    "class_name_dict"
   ]
  },
  {
   "cell_type": "code",
   "execution_count": 8,
   "metadata": {
    "ExecuteTime": {
     "end_time": "2018-12-21T01:37:20.293877Z",
     "start_time": "2018-12-21T01:37:20.208873Z"
    }
   },
   "outputs": [
    {
     "data": {
      "text/plain": [
       "{'1': '新闻',\n",
       " '11': '微信',\n",
       " '13': '新闻客户端',\n",
       " '15': '推特',\n",
       " '2': '论坛',\n",
       " '3': '博客',\n",
       " '4': '微博',\n",
       " '5': '纸媒',\n",
       " '6': '视频',\n",
       " '7': '外媒',\n",
       " '8': '广播',\n",
       " '9': '电视'}"
      ]
     },
     "execution_count": 8,
     "metadata": {},
     "output_type": "execute_result"
    }
   ],
   "source": [
    "group = '1-新闻，2-论坛，3-博客，4-微博，5-纸媒，6-视频，7-外媒，8-广播，9-电视，11-微信，13-新闻客户端，15-推特'\n",
    "group_dict = dict([x.split('-') for x in group.split('，')])\n",
    "group_dict"
   ]
  },
  {
   "cell_type": "code",
   "execution_count": 9,
   "metadata": {
    "ExecuteTime": {
     "end_time": "2018-12-21T01:37:20.375882Z",
     "start_time": "2018-12-21T01:37:20.297878Z"
    }
   },
   "outputs": [
    {
     "data": {
      "text/plain": [
       "{1: '银监会', 2: '保监会', 3: '中国人寿', 4: '建行北分', 5: '中国人保', 6: '安徽银监局'}"
      ]
     },
     "execution_count": 9,
     "metadata": {},
     "output_type": "execute_result"
    }
   ],
   "source": [
    "proj_dic={'银监会':1,'保监会':2,'中国人寿':3,'建行北分':4,'中国人保':5,'安徽银监局':6}\n",
    "proj_name_dict = {v: k for k, v in proj_dic.items()}\n",
    "proj_name_dict"
   ]
  },
  {
   "cell_type": "code",
   "execution_count": 10,
   "metadata": {
    "ExecuteTime": {
     "end_time": "2018-12-21T01:37:20.450886Z",
     "start_time": "2018-12-21T01:37:20.379882Z"
    }
   },
   "outputs": [
    {
     "data": {
      "text/plain": [
       "{0: '系统采集', 1: '补录', 2: '校正', 3: '导入数据', 4: '其它'}"
      ]
     },
     "execution_count": 10,
     "metadata": {},
     "output_type": "execute_result"
    }
   ],
   "source": [
    "gather_type_dic={'系统采集':0,'补录':1,'校正':2,'导入数据':3,'其它':4}\n",
    "gather_type_name_dict = {v: k for k, v in gather_type_dic.items()}\n",
    "gather_type_name_dict"
   ]
  },
  {
   "cell_type": "code",
   "execution_count": 11,
   "metadata": {
    "ExecuteTime": {
     "end_time": "2018-12-21T01:37:20.661898Z",
     "start_time": "2018-12-21T01:37:20.460887Z"
    },
    "collapsed": true
   },
   "outputs": [],
   "source": [
    "file_path = 'cbirc_result\\pom.json'\n",
    "\n",
    "with open(file_path,'r',encoding='utf-8-sig') as json_file:\n",
    "    cbrc_data = json.load(json_file)  \n",
    "    \n",
    "# cbrc_data = pd.DataFrame.from_dict(json_data['record'], orient='index' ) \n",
    "# cbrc_data.shape"
   ]
  },
  {
   "cell_type": "code",
   "execution_count": 12,
   "metadata": {
    "ExecuteTime": {
     "end_time": "2018-12-21T01:37:20.723902Z",
     "start_time": "2018-12-21T01:37:20.666899Z"
    },
    "collapsed": true
   },
   "outputs": [],
   "source": [
    "# from langconv import *\n",
    "from toolkits.nlp.langconv import *\n",
    "\n",
    "def Traditional2Simplified(sentence):\n",
    "    '''\n",
    "    将sentence中的繁体字转为简体字\n",
    "    :param sentence: 待转换的句子\n",
    "    :return: 将句子中繁体字转换为简体字之后的句子\n",
    "    '''\n",
    "    sentence = Converter('zh-hans').convert(sentence)\n",
    "    return sentence\n"
   ]
  },
  {
   "cell_type": "code",
   "execution_count": 13,
   "metadata": {
    "ExecuteTime": {
     "end_time": "2018-12-21T01:37:21.056921Z",
     "start_time": "2018-12-21T01:37:20.730902Z"
    }
   },
   "outputs": [
    {
     "ename": "NameError",
     "evalue": "name 'data' is not defined",
     "output_type": "error",
     "traceback": [
      "\u001b[1;31m---------------------------------------------------------------------------\u001b[0m",
      "\u001b[1;31mNameError\u001b[0m                                 Traceback (most recent call last)",
      "\u001b[1;32m<ipython-input-13-62e54cc4f3d1>\u001b[0m in \u001b[0;36m<module>\u001b[1;34m()\u001b[0m\n\u001b[0;32m      3\u001b[0m \u001b[1;31m# url = \"http://47.93.77.19:6001/judge_correlation_yjh\"\u001b[0m\u001b[1;33m\u001b[0m\u001b[1;33m\u001b[0m\u001b[0m\n\u001b[0;32m      4\u001b[0m data = {\"record\":[{'id':'1', \n\u001b[1;32m----> 5\u001b[1;33m                    \u001b[1;34m'title'\u001b[0m\u001b[1;33m:\u001b[0m \u001b[0mTraditional2Simplified\u001b[0m\u001b[1;33m(\u001b[0m\u001b[0mdata\u001b[0m\u001b[1;33m[\u001b[0m\u001b[1;34m'record'\u001b[0m\u001b[1;33m]\u001b[0m\u001b[1;33m[\u001b[0m\u001b[1;36m0\u001b[0m\u001b[1;33m]\u001b[0m\u001b[1;33m[\u001b[0m\u001b[1;34m'title'\u001b[0m\u001b[1;33m]\u001b[0m\u001b[1;33m)\u001b[0m\u001b[1;33m,\u001b[0m\u001b[1;33m\u001b[0m\u001b[0m\n\u001b[0m\u001b[0;32m      6\u001b[0m                    'content': Traditional2Simplified(data['record'][0]['content'])},]}\n\u001b[0;32m      7\u001b[0m \u001b[0murl\u001b[0m \u001b[1;33m=\u001b[0m \u001b[1;34m\"http://192.168.0.104:8100/judge_correlation_yjh\"\u001b[0m\u001b[1;33m\u001b[0m\u001b[0m\n",
      "\u001b[1;31mNameError\u001b[0m: name 'data' is not defined"
     ]
    }
   ],
   "source": [
    "index = 481\n",
    "# data = {\"record\":[cbrc_data['record'][index],]}\n",
    "# url = \"http://47.93.77.19:6001/judge_correlation_yjh\"\n",
    "data = {\"record\":[{'id':'1', \n",
    "                   'title': Traditional2Simplified(data['record'][0]['title']),  \n",
    "                   'content': Traditional2Simplified(data['record'][0]['content'])},]}\n",
    "url = \"http://192.168.0.104:8100/judge_correlation_yjh\"\n",
    "col_name = 'sec'\n",
    "\n",
    "parse_data , elapsed_time = get_server_res_yjh(data, url, col_name)\n",
    "print(index, '  耗时：%s s'%(elapsed_time))"
   ]
  },
  {
   "cell_type": "code",
   "execution_count": null,
   "metadata": {
    "ExecuteTime": {
     "end_time": "2018-12-21T01:37:21.058921Z",
     "start_time": "2018-12-21T01:37:15.150Z"
    },
    "collapsed": true
   },
   "outputs": [],
   "source": [
    "data['record'][0]['content']"
   ]
  },
  {
   "cell_type": "code",
   "execution_count": null,
   "metadata": {
    "ExecuteTime": {
     "end_time": "2018-12-21T01:37:21.060921Z",
     "start_time": "2018-12-21T01:37:15.158Z"
    },
    "collapsed": true
   },
   "outputs": [],
   "source": [
    "{\"record\":[cbrc_data['record'][152:155],]}"
   ]
  },
  {
   "cell_type": "code",
   "execution_count": null,
   "metadata": {
    "ExecuteTime": {
     "end_time": "2018-12-21T01:37:21.064922Z",
     "start_time": "2018-12-21T01:37:15.167Z"
    },
    "collapsed": true
   },
   "outputs": [],
   "source": [
    "{\"record\":[cbrc_data['record'][154],]}"
   ]
  },
  {
   "cell_type": "code",
   "execution_count": null,
   "metadata": {
    "ExecuteTime": {
     "end_time": "2018-12-21T01:37:21.068922Z",
     "start_time": "2018-12-21T01:37:15.177Z"
    },
    "collapsed": true
   },
   "outputs": [],
   "source": [
    "# data = {\"record\":combined_data.loc[:,['id', 'title' ,'content']].to_dict(orient = 'records')}\n",
    "import time\n",
    "for index in range(len(cbrc_data['record'])):\n",
    "#     data = {\"record\":[cbrc_data['record'][index],]}\n",
    "#     url = \"http://47.93.77.19:6001/judge_correlation_yjh\"\n",
    "    data = {\"record\":[{'id':cbrc_data['record'][index]['id'], \n",
    "                       'title': Traditional2Simplified(cbrc_data['record'][index]['title']),  \n",
    "                       'content': Traditional2Simplified(cbrc_data['record'][index]['content'])},]}\n",
    "    url = \"http://192.168.0.104:8100/judge_correlation_yjh\"\n",
    "    col_name = 'sec'\n",
    "    \n",
    "    parse_data , elapsed_time = get_server_res_yjh(data, url, col_name)\n",
    "    print(index, '  耗时：%s s'%(elapsed_time))"
   ]
  },
  {
   "cell_type": "code",
   "execution_count": null,
   "metadata": {
    "ExecuteTime": {
     "end_time": "2018-12-21T01:37:21.071922Z",
     "start_time": "2018-12-21T01:37:15.186Z"
    },
    "collapsed": true
   },
   "outputs": [],
   "source": [
    "import time\n",
    "for index in range(len(cbrc_data['record'])):\n",
    "    data = {\"record\":[cbrc_data['record'][index],]}\n",
    "#     url = \"http://47.93.77.19:6001/judge_correlation_yjh\"\n",
    "    url = \"http://192.168.0.104:8100/judge_correlation_yjh\"\n",
    "    col_name = 'sec'\n",
    "    \n",
    "    parse_data , elapsed_time = get_server_res_yjh(data, url, col_name)\n",
    "    print(index, '  耗时：%s s'%(elapsed_time))"
   ]
  },
  {
   "cell_type": "code",
   "execution_count": null,
   "metadata": {
    "ExecuteTime": {
     "end_time": "2018-12-21T01:37:21.076922Z",
     "start_time": "2018-12-21T01:37:15.195Z"
    },
    "collapsed": true
   },
   "outputs": [],
   "source": [
    "data = {\"record\":cbrc_data['record']}\n",
    "#     url = \"http://47.93.77.19:6001/judge_correlation_yjh\"\n",
    "url = \"http://192.168.0.104:8100/judge_correlation_yjh\"\n",
    "col_name = 'sec'\n",
    "\n",
    "parse_data , elapsed_time = get_server_res_yjh(data, url, col_name)\n",
    "print(index, '  耗时：%s s'%(elapsed_time))"
   ]
  },
  {
   "cell_type": "code",
   "execution_count": null,
   "metadata": {
    "ExecuteTime": {
     "end_time": "2018-12-21T01:37:21.080922Z",
     "start_time": "2018-12-21T01:37:15.204Z"
    },
    "collapsed": true
   },
   "outputs": [],
   "source": [
    "parse_data"
   ]
  },
  {
   "cell_type": "code",
   "execution_count": null,
   "metadata": {
    "ExecuteTime": {
     "end_time": "2018-12-21T01:37:21.083923Z",
     "start_time": "2018-12-21T01:37:15.214Z"
    },
    "collapsed": true
   },
   "outputs": [],
   "source": [
    "# data = {\"record\":combined_data.loc[:,['id', 'title' ,'content']].to_dict(orient = 'records')}\n",
    "import time\n",
    "for index in range(len(cbrc_data['record'])):\n",
    "    data = {\"record\":[cbrc_data['record'][index],]}\n",
    "#     url = \"http://47.93.77.19:6001/judge_correlation_yjh\"\n",
    "    url = \"http://192.168.0.104:8100/judge_correlation_yjh\"\n",
    "    col_name = 'sec'\n",
    "    \n",
    "    parse_data , elapsed_time = get_server_res_yjh(data, url, col_name)\n",
    "    print(index, '  耗时：%s s'%(elapsed_time))"
   ]
  },
  {
   "cell_type": "code",
   "execution_count": null,
   "metadata": {
    "ExecuteTime": {
     "end_time": "2018-12-21T01:37:21.087923Z",
     "start_time": "2018-12-21T01:37:15.223Z"
    },
    "collapsed": true
   },
   "outputs": [],
   "source": [
    "data = {\"record\":[cbrc_data['record'][0], ]}\n",
    "data"
   ]
  },
  {
   "cell_type": "code",
   "execution_count": null,
   "metadata": {
    "ExecuteTime": {
     "end_time": "2018-12-21T01:37:21.091923Z",
     "start_time": "2018-12-21T01:37:15.233Z"
    },
    "collapsed": true
   },
   "outputs": [],
   "source": [
    "cbrc_data['record'][0]\n",
    "len(cbrc_data['record'])"
   ]
  },
  {
   "cell_type": "markdown",
   "metadata": {
    "collapsed": true
   },
   "source": [
    "# 保险业--旧"
   ]
  },
  {
   "cell_type": "code",
   "execution_count": 16,
   "metadata": {
    "ExecuteTime": {
     "end_time": "2018-12-14T09:16:23.336597Z",
     "start_time": "2018-12-14T09:16:13.130013Z"
    },
    "collapsed": true
   },
   "outputs": [],
   "source": [
    "engine = specific_func.get_engine('circ')"
   ]
  },
  {
   "cell_type": "markdown",
   "metadata": {
    "collapsed": true
   },
   "source": [
    "## mysql 数据"
   ]
  },
  {
   "cell_type": "markdown",
   "metadata": {},
   "source": [
    "### 八分类"
   ]
  },
  {
   "cell_type": "code",
   "execution_count": 14,
   "metadata": {
    "ExecuteTime": {
     "end_time": "2018-12-14T09:15:42.190243Z",
     "start_time": "2018-12-14T09:15:42.181243Z"
    }
   },
   "outputs": [
    {
     "name": "stdout",
     "output_type": "stream",
     "text": [
      "['2018-12-08', '2018-12-09', '2018-12-10', '2018-12-11', '2018-12-12', '2018-12-13']\n"
     ]
    }
   ],
   "source": [
    "# day_select = '2018-09-09'\n",
    "day_list = get_day_list('2018-12-07', '2018-12-13')\n",
    "print(day_list)"
   ]
  },
  {
   "cell_type": "markdown",
   "metadata": {},
   "source": [
    "#### 获取数据--系统采集"
   ]
  },
  {
   "cell_type": "code",
   "execution_count": 17,
   "metadata": {
    "ExecuteTime": {
     "end_time": "2018-12-14T09:45:09.680338Z",
     "start_time": "2018-12-14T09:16:23.406601Z"
    }
   },
   "outputs": [
    {
     "name": "stdout",
     "output_type": "stream",
     "text": [
      "-- day_select:  2018-12-08\n",
      "circ_cor:  (4552, 6)\n",
      "circ_uncor:  (16098, 6)\n",
      "去重前： (20650, 6)\n",
      "去重后： (12808, 6)\n",
      "去空值后： (12808, 6)\n",
      "(12808, 7)\n",
      "噪音        8256\n",
      "资本市场       984\n",
      "监管         968\n",
      "消费服务       713\n",
      "产品销售       659\n",
      "其他相关报道     498\n",
      "行业         385\n",
      "公司内部管理     345\n",
      "Name: predict_label, dtype: int64\n",
      "-- day_select:  2018-12-09\n",
      "circ_cor:  (3720, 6)\n",
      "circ_uncor:  (17265, 6)\n",
      "去重前： (20985, 6)\n",
      "去重后： (13080, 6)\n",
      "去空值后： (13080, 6)\n",
      "(13080, 7)\n",
      "噪音        9360\n",
      "资本市场       660\n",
      "监管         655\n",
      "消费服务       607\n",
      "其他相关报道     556\n",
      "产品销售       537\n",
      "行业         432\n",
      "公司内部管理     273\n",
      "Name: predict_label, dtype: int64\n",
      "-- day_select:  2018-12-10\n",
      "circ_cor:  (5441, 6)\n",
      "circ_uncor:  (24823, 6)\n",
      "去重前： (30264, 6)\n",
      "去重后： (16171, 6)\n",
      "去空值后： (16171, 6)\n",
      "(16171, 7)\n",
      "噪音        10730\n",
      "资本市场       1596\n",
      "监管          920\n",
      "消费服务        726\n",
      "其他相关报道      681\n",
      "行业          556\n",
      "公司内部管理      536\n",
      "产品销售        426\n",
      "Name: predict_label, dtype: int64\n",
      "-- day_select:  2018-12-11\n",
      "circ_cor:  (5654, 6)\n",
      "circ_uncor:  (27224, 6)\n",
      "去重前： (32878, 6)\n",
      "去重后： (17581, 6)\n",
      "去空值后： (17581, 6)\n",
      "(17581, 7)\n",
      "噪音        11927\n",
      "资本市场       1451\n",
      "消费服务        986\n",
      "监管          766\n",
      "公司内部管理      732\n",
      "行业          645\n",
      "其他相关报道      602\n",
      "产品销售        472\n",
      "Name: predict_label, dtype: int64\n",
      "-- day_select:  2018-12-12\n",
      "circ_cor:  (5378, 6)\n",
      "circ_uncor:  (26787, 6)\n",
      "去重前： (32165, 6)\n",
      "去重后： (16906, 6)\n",
      "去空值后： (16906, 6)\n",
      "(16906, 7)\n",
      "噪音        11528\n",
      "资本市场       1500\n",
      "消费服务        954\n",
      "监管          744\n",
      "行业          595\n",
      "公司内部管理      588\n",
      "其他相关报道      543\n",
      "产品销售        454\n",
      "Name: predict_label, dtype: int64\n",
      "-- day_select:  2018-12-13\n",
      "circ_cor:  (5738, 6)\n",
      "circ_uncor:  (25835, 6)\n",
      "去重前： (31573, 6)\n",
      "去重后： (16940, 6)\n",
      "去空值后： (16940, 6)\n",
      "(16940, 7)\n",
      "噪音        11202\n",
      "资本市场       1426\n",
      "消费服务       1007\n",
      "监管          867\n",
      "公司内部管理      781\n",
      "行业          671\n",
      "其他相关报道      577\n",
      "产品销售        409\n",
      "Name: predict_label, dtype: int64\n"
     ]
    }
   ],
   "source": [
    "gather_types = '采集'\n",
    "\n",
    "for day_select in day_list:\n",
    "    print('-- day_select: ', day_select)\n",
    "\n",
    "    # 相关数据\n",
    "    sql_one_day = \"select t1.id, t1.group_id,t1.classify as predict_label,\\\n",
    "                        t1.title,t2.center as content, t1.publishtime as publishtime \\\n",
    "                        from wise_web_docinfo t1, wise_web_docinfo_center t2 \\\n",
    "                            where t1.id=t2.doc_id \\\n",
    "                                  and  date_format(t1.publishtime, '%%Y-%%m-%%d') = '{0}' \\\n",
    "                                  and t1.gather_type = 0 \\\n",
    "                                  group by t1.titlehash\".format(day_select) # \n",
    "    # # titlehash 去重后\n",
    "    circ_cor = pd.read_sql(sql_one_day, engine)\n",
    "    print('circ_cor: ', circ_cor.shape  )\n",
    "    \n",
    "    # 不相关数据\n",
    "    sql_one_day = \"select t1.id, t1.group_id,t1.title,t2.center as content, t1.publishtime as publishtime \\\n",
    "                        from wise_web_docinfo_uncorr t1, wise_web_docinfo_center_uncurr t2 \\\n",
    "                            where t1.id=t2.doc_id \\\n",
    "                                  and t1.publishtime >= '{0} 8:00:00' \\\n",
    "                              and t1.publishtime <= '{0} 14:00:00'\".format(day_select)\n",
    "    # 一段时间\n",
    "    circ_uncor = pd.read_sql(sql_one_day, engine)\n",
    "    circ_uncor.insert(2, 'predict_label', 8) # 噪音\n",
    "    print('circ_uncor: ', circ_uncor.shape)\n",
    "\n",
    "    circ_data = pd.concat([circ_cor, circ_uncor], axis = 0)\n",
    "    print('去重前：', circ_data.shape)\n",
    "    circ_data = circ_data.drop_duplicates(subset = 'title')\n",
    "    print('去重后：', circ_data.shape)  \n",
    "    circ_data = circ_data.dropna(subset = ['content'], axis = 0)\n",
    "    print('去空值后：', circ_data.shape)  \n",
    "\n",
    "    circ_data['predict_label'] = circ_data['predict_label'].apply(lambda x:class_name_dict[x])\n",
    "    circ_data['group_id'] = circ_data['group_id'].apply(lambda x:group_dict[str(x)])\n",
    "    circ_data.insert(3, 'label', '')\n",
    "    fea_filename = 'circ_result_class/result/%s_circ_class_predict_mysql_%s.xlsx'%(gather_types, day_select)\n",
    "    circ_data.to_excel(fea_filename, index = False)\n",
    "    print(circ_data.shape)\n",
    "    print(circ_data['predict_label'].value_counts())"
   ]
  },
  {
   "cell_type": "markdown",
   "metadata": {},
   "source": [
    "#### 合并 & 保存"
   ]
  },
  {
   "cell_type": "code",
   "execution_count": 18,
   "metadata": {
    "ExecuteTime": {
     "end_time": "2018-12-14T09:45:26.090276Z",
     "start_time": "2018-12-14T09:45:09.852348Z"
    }
   },
   "outputs": [
    {
     "name": "stdout",
     "output_type": "stream",
     "text": [
      "circ_result_class/result/采集_circ_class_predict_mysql_2018-12-08.xlsx\n",
      "circ_result_class/result/采集_circ_class_predict_mysql_2018-12-09.xlsx\n",
      "circ_result_class/result/采集_circ_class_predict_mysql_2018-12-10.xlsx\n",
      "circ_result_class/result/采集_circ_class_predict_mysql_2018-12-11.xlsx\n",
      "circ_result_class/result/采集_circ_class_predict_mysql_2018-12-12.xlsx\n",
      "circ_result_class/result/采集_circ_class_predict_mysql_2018-12-13.xlsx\n",
      "(93486, 7)\n",
      "去重前： (93486, 7)\n",
      "去重后： (86871, 7)\n",
      "去空值后： (86859, 7)\n",
      "噪音        59432\n",
      "资本市场       7019\n",
      "消费服务       4605\n",
      "监管         4251\n",
      "其他相关报道     3130\n",
      "公司内部管理     2930\n",
      "行业         2907\n",
      "产品销售       2585\n",
      "Name: predict_label, dtype: int64\n"
     ]
    },
    {
     "data": {
      "text/html": [
       "<div>\n",
       "<style scoped>\n",
       "    .dataframe tbody tr th:only-of-type {\n",
       "        vertical-align: middle;\n",
       "    }\n",
       "\n",
       "    .dataframe tbody tr th {\n",
       "        vertical-align: top;\n",
       "    }\n",
       "\n",
       "    .dataframe thead th {\n",
       "        text-align: right;\n",
       "    }\n",
       "</style>\n",
       "<table border=\"1\" class=\"dataframe\">\n",
       "  <thead>\n",
       "    <tr style=\"text-align: right;\">\n",
       "      <th></th>\n",
       "      <th>id</th>\n",
       "      <th>group_id</th>\n",
       "      <th>predict_label</th>\n",
       "      <th>label</th>\n",
       "      <th>title</th>\n",
       "      <th>content</th>\n",
       "      <th>publishtime</th>\n",
       "    </tr>\n",
       "  </thead>\n",
       "  <tbody>\n",
       "    <tr>\n",
       "      <th>0</th>\n",
       "      <td>12679251</td>\n",
       "      <td>微信</td>\n",
       "      <td>行业</td>\n",
       "      <td>NaN</td>\n",
       "      <td>周延礼：协同构建保险科技的新生态系统</td>\n",
       "      <td>12月5日，以“防范金融风险 维护金融安全”为主题的2018年北京金融安全论坛举行。全国政协...</td>\n",
       "      <td>2018-12-08 15:25:23</td>\n",
       "    </tr>\n",
       "    <tr>\n",
       "      <th>1</th>\n",
       "      <td>12657194</td>\n",
       "      <td>新闻</td>\n",
       "      <td>资本市场</td>\n",
       "      <td>NaN</td>\n",
       "      <td>中国人寿(601628)融资融券信息(12-07)</td>\n",
       "      <td>中国人寿(601628)融资融券信息(12-07)2018年12月08日 07:39来源：东...</td>\n",
       "      <td>2018-12-08 04:20:14</td>\n",
       "    </tr>\n",
       "    <tr>\n",
       "      <th>2</th>\n",
       "      <td>12677044</td>\n",
       "      <td>微博</td>\n",
       "      <td>消费服务</td>\n",
       "      <td>NaN</td>\n",
       "      <td>#普法判例#【交通事故受害人用医保卡支付医疗费 保险公司可否拒赔？！】 ​</td>\n",
       "      <td>#普法判例#【交通事故受害人用医保卡支付医疗费 保险公司可否拒赔？！】 ​</td>\n",
       "      <td>2018-12-08 11:12:54</td>\n",
       "    </tr>\n",
       "    <tr>\n",
       "      <th>3</th>\n",
       "      <td>12657807</td>\n",
       "      <td>新闻</td>\n",
       "      <td>消费服务</td>\n",
       "      <td>NaN</td>\n",
       "      <td>从申请到结案“8秒” 太平人寿“秒赔”就是快</td>\n",
       "      <td>客户李女士在太平人寿黑龙江分公司为自己投保了爱无忧系列意外伤害保险。2018年9月27日，李...</td>\n",
       "      <td>2018-12-08 08:57:00</td>\n",
       "    </tr>\n",
       "    <tr>\n",
       "      <th>4</th>\n",
       "      <td>12654634</td>\n",
       "      <td>微信</td>\n",
       "      <td>消费服务</td>\n",
       "      <td>NaN</td>\n",
       "      <td>茂名某学生在饭堂发生意外，诉状学校、保险公司，结果.....</td>\n",
       "      <td>学生在饭堂就餐时摔伤     法院判决学校和保险公司担责   近日，信宜法院执结了一起人身损...</td>\n",
       "      <td>2018-12-08 00:30:12</td>\n",
       "    </tr>\n",
       "  </tbody>\n",
       "</table>\n",
       "</div>"
      ],
      "text/plain": [
       "         id group_id predict_label  label  \\\n",
       "0  12679251       微信            行业    NaN   \n",
       "1  12657194       新闻          资本市场    NaN   \n",
       "2  12677044       微博          消费服务    NaN   \n",
       "3  12657807       新闻          消费服务    NaN   \n",
       "4  12654634       微信          消费服务    NaN   \n",
       "\n",
       "                                   title  \\\n",
       "0                     周延礼：协同构建保险科技的新生态系统   \n",
       "1              中国人寿(601628)融资融券信息(12-07)   \n",
       "2  #普法判例#【交通事故受害人用医保卡支付医疗费 保险公司可否拒赔？！】 ​   \n",
       "3                 从申请到结案“8秒” 太平人寿“秒赔”就是快   \n",
       "4         茂名某学生在饭堂发生意外，诉状学校、保险公司，结果.....   \n",
       "\n",
       "                                             content         publishtime  \n",
       "0  12月5日，以“防范金融风险 维护金融安全”为主题的2018年北京金融安全论坛举行。全国政协... 2018-12-08 15:25:23  \n",
       "1  中国人寿(601628)融资融券信息(12-07)2018年12月08日 07:39来源：东... 2018-12-08 04:20:14  \n",
       "2              #普法判例#【交通事故受害人用医保卡支付医疗费 保险公司可否拒赔？！】 ​ 2018-12-08 11:12:54  \n",
       "3  客户李女士在太平人寿黑龙江分公司为自己投保了爱无忧系列意外伤害保险。2018年9月27日，李... 2018-12-08 08:57:00  \n",
       "4  学生在饭堂就餐时摔伤     法院判决学校和保险公司担责   近日，信宜法院执结了一起人身损... 2018-12-08 00:30:12  "
      ]
     },
     "execution_count": 18,
     "metadata": {},
     "output_type": "execute_result"
    }
   ],
   "source": [
    "combined_data = pd.DataFrame()\n",
    "for day_select in day_list:\n",
    "    file_name = 'circ_result_class/result/%s_circ_class_predict_mysql_%s.xlsx'%(gather_types, day_select)\n",
    "    if os.path.isfile(file_name):\n",
    "        print(file_name)\n",
    "        tmp_data = pd.read_excel(file_name)\n",
    "        combined_data = pd.concat([combined_data, tmp_data], axis = 0)\n",
    "\n",
    "if gather_types != '补录':\n",
    "    combined_data = combined_data[combined_data['predict_label'] != '补录']\n",
    "print(combined_data.shape)  \n",
    "print('去重前：', combined_data.shape)\n",
    "combined_data = combined_data.drop_duplicates(subset = 'title')\n",
    "print('去重后：', combined_data.shape)  \n",
    "combined_data = combined_data.dropna(subset = ['content'], axis = 0)\n",
    "print('去空值后：', combined_data.shape)  \n",
    "\n",
    "print(combined_data['predict_label'].value_counts())\n",
    "combined_data.head()"
   ]
  },
  {
   "cell_type": "code",
   "execution_count": 19,
   "metadata": {
    "ExecuteTime": {
     "end_time": "2018-12-14T09:45:27.864378Z",
     "start_time": "2018-12-14T09:45:26.305289Z"
    }
   },
   "outputs": [
    {
     "name": "stdout",
     "output_type": "stream",
     "text": [
      "噪音        59432\n",
      "资本市场       7019\n",
      "消费服务       4605\n",
      "监管         4251\n",
      "其他相关报道     3130\n",
      "公司内部管理     2930\n",
      "行业         2907\n",
      "产品销售       2585\n",
      "Name: predict_label, dtype: int64\n"
     ]
    }
   ],
   "source": [
    "fea_filename = 'circ_result_class/result/%s_circ_class_predict_mysql_20181214(1208-1213).xlsx'%gather_types\n",
    "# sel_col = ['行业','资本市场', '消费服务', '公司内部管理', '监管']\n",
    "# sel_col = ['其他相关报道','行业',  '公司内部管理', '监管']\n",
    "sel_col = combined_data['predict_label'].unique().tolist()\n",
    "sel_data = combined_data[combined_data['predict_label'].isin(sel_col)]\n",
    "print(sel_data['predict_label'].value_counts())\n",
    "with pd.ExcelWriter(fea_filename) as writer:\n",
    "    for label in sel_data['predict_label'].unique():\n",
    "        tmp_data = sel_data[sel_data['predict_label'] == label]\n",
    "        if gather_types == '补录':\n",
    "            N = tmp_data.shape[0]\n",
    "        else :\n",
    "            if tmp_data.shape[0] > 200:\n",
    "                N = 200\n",
    "            else :\n",
    "                N = tmp_data.shape[0]\n",
    "    #         if label == '公司内部管理': \n",
    "    #             N = 200\n",
    "        tmp_data.sample(n = N, axis = 0, random_state=3).to_excel(writer,label, index = False)\n",
    "    \n",
    "    writer.save()"
   ]
  },
  {
   "cell_type": "markdown",
   "metadata": {},
   "source": [
    "### 倾向性"
   ]
  },
  {
   "cell_type": "code",
   "execution_count": 20,
   "metadata": {
    "ExecuteTime": {
     "end_time": "2018-12-14T09:45:28.123393Z",
     "start_time": "2018-12-14T09:45:28.115392Z"
    }
   },
   "outputs": [
    {
     "name": "stdout",
     "output_type": "stream",
     "text": [
      "['2018-12-08', '2018-12-09', '2018-12-10', '2018-12-11', '2018-12-12', '2018-12-13']\n"
     ]
    }
   ],
   "source": [
    "# day_select = '2018-09-09'\n",
    "day_list = get_day_list('2018-12-07', '2018-12-13')\n",
    "print(day_list)"
   ]
  },
  {
   "cell_type": "markdown",
   "metadata": {},
   "source": [
    "#### 获取数据"
   ]
  },
  {
   "cell_type": "code",
   "execution_count": 21,
   "metadata": {
    "ExecuteTime": {
     "end_time": "2018-12-14T09:52:52.389803Z",
     "start_time": "2018-12-14T09:45:28.375407Z"
    }
   },
   "outputs": [
    {
     "name": "stdout",
     "output_type": "stream",
     "text": [
      "-- day_select:  2018-12-08\n",
      "circ_cor:  (4553, 7)\n",
      "去重前： (4553, 7)\n",
      "去重后： (4553, 7)\n",
      "去空值后： (4553, 7)\n",
      "(4553, 8)\n",
      "predict_label  产品销售  公司内部管理  其他相关报道  消费服务   监管   行业  资本市场   All\n",
      "tendency                                                       \n",
      "-1                7      61       4   153  134   69   308   736\n",
      "0               652     284     495   560  834  316   676  3817\n",
      "All             659     345     499   713  968  385   984  4553\n",
      "-- day_select:  2018-12-09\n",
      "circ_cor:  (3720, 7)\n",
      "去重前： (3720, 7)\n",
      "去重后： (3720, 7)\n",
      "去空值后： (3720, 7)\n",
      "(3720, 8)\n",
      "predict_label  产品销售  公司内部管理  其他相关报道  消费服务   监管   行业  资本市场   All\n",
      "tendency                                                       \n",
      "-1                5      50       3   155   73   79   138   503\n",
      "0               532     223     553   452  582  353   522  3217\n",
      "All             537     273     556   607  655  432   660  3720\n",
      "-- day_select:  2018-12-10\n",
      "circ_cor:  (5442, 7)\n",
      "去重前： (5442, 7)\n",
      "去重后： (5442, 7)\n",
      "去空值后： (5442, 7)\n",
      "(5442, 8)\n",
      "predict_label  产品销售  公司内部管理  其他相关报道  消费服务   监管   行业  资本市场   All\n",
      "tendency                                                       \n",
      "-1                3      88      40   156  122   99   241   749\n",
      "0               423     448     641   571  798  457  1355  4693\n",
      "All             426     536     681   727  920  556  1596  5442\n",
      "-- day_select:  2018-12-11\n",
      "circ_cor:  (5654, 7)\n",
      "去重前： (5654, 7)\n",
      "去重后： (5654, 7)\n",
      "去空值后： (5654, 7)\n",
      "(5654, 8)\n",
      "predict_label  产品销售  公司内部管理  其他相关报道  消费服务   监管   行业  资本市场   All\n",
      "tendency                                                       \n",
      "-1                4     111      19   283   70  116   207   810\n",
      "0               468     621     583   703  696  529  1244  4844\n",
      "All             472     732     602   986  766  645  1451  5654\n",
      "-- day_select:  2018-12-12\n",
      "circ_cor:  (5388, 7)\n",
      "去重前： (5388, 7)\n",
      "去重后： (5388, 7)\n",
      "去空值后： (5388, 7)\n",
      "(5388, 8)\n",
      "predict_label  产品销售  公司内部管理  其他相关报道  消费服务   监管   行业  资本市场   All\n",
      "tendency                                                       \n",
      "-1               11     122       7   269   80  126   267   882\n",
      "0               444     468     537   686  665  469  1237  4506\n",
      "All             455     590     544   955  745  595  1504  5388\n",
      "-- day_select:  2018-12-13\n",
      "circ_cor:  (5749, 7)\n",
      "去重前： (5749, 7)\n",
      "去重后： (5749, 7)\n",
      "去空值后： (5749, 7)\n",
      "(5749, 8)\n",
      "predict_label  产品销售  公司内部管理  其他相关报道  消费服务   监管   行业  资本市场   All\n",
      "tendency                                                       \n",
      "-1                6     183      12   361   74  147   278  1061\n",
      "0               403     599     570   650  794  524  1148  4688\n",
      "All             409     782     582  1011  868  671  1426  5749\n"
     ]
    }
   ],
   "source": [
    "for day_select in day_list:\n",
    "    print('-- day_select: ', day_select)\n",
    "\n",
    "    # 相关数据\n",
    "    sql_one_day = \"select t1.id, t1.group_id,t1.classify as predict_label, t1.tendency,\\\n",
    "                        t1.title,t2.center as content, t1.publishtime as publishtime \\\n",
    "                        from wise_web_docinfo t1, wise_web_docinfo_center t2 \\\n",
    "                            where t1.id=t2.doc_id \\\n",
    "                                  and  date_format(t1.publishtime, '%%Y-%%m-%%d') = '{0}' \\\n",
    "                                  and t1.gather_type = 0 \\\n",
    "                                  group by t1.titlehash\".format(day_select) # \n",
    "    # # titlehash 去重后\n",
    "    circ_cor = pd.read_sql(sql_one_day, engine)\n",
    "    print('circ_cor: ', circ_cor.shape  )\n",
    "\n",
    "    circ_data = circ_cor\n",
    "    print('去重前：', circ_data.shape)\n",
    "    circ_data = circ_data.drop_duplicates(subset = 'title')\n",
    "    print('去重后：', circ_data.shape)  \n",
    "    circ_data = circ_data.dropna(subset = ['content'], axis = 0)\n",
    "    print('去空值后：', circ_data.shape)  \n",
    "\n",
    "    circ_data['predict_label'] = circ_data['predict_label'].apply(lambda x:class_name_dict[x])\n",
    "    circ_data['group_id'] = circ_data['group_id'].apply(lambda x:group_dict[str(x)])\n",
    "    circ_data.insert(4, 'label', '')\n",
    "    fea_filename = 'circ_result_tendency/result/circ_tendency_predict_mysql_%s.xlsx'%day_select\n",
    "    circ_data.to_excel(fea_filename, index = False)\n",
    "    print(circ_data.shape)\n",
    "    \n",
    "    print(circ_data.pivot_table(index = ['tendency'], columns = ['predict_label'], \n",
    "                          values = 'title', aggfunc=len, \n",
    "                          fill_value=0, margins=True))"
   ]
  },
  {
   "cell_type": "markdown",
   "metadata": {},
   "source": [
    "#### 合并 & 保存"
   ]
  },
  {
   "cell_type": "code",
   "execution_count": 22,
   "metadata": {
    "ExecuteTime": {
     "end_time": "2018-12-14T09:52:58.180135Z",
     "start_time": "2018-12-14T09:52:52.643818Z"
    }
   },
   "outputs": [
    {
     "name": "stdout",
     "output_type": "stream",
     "text": [
      "(30506, 8)\n",
      "去重前： (30506, 8)\n",
      "去重后： (27551, 8)\n",
      "去空值后： (27551, 8)\n",
      " 0    23211\n",
      "-1     4340\n",
      "Name: tendency, dtype: int64\n"
     ]
    },
    {
     "data": {
      "text/html": [
       "<div>\n",
       "<style scoped>\n",
       "    .dataframe tbody tr th:only-of-type {\n",
       "        vertical-align: middle;\n",
       "    }\n",
       "\n",
       "    .dataframe tbody tr th {\n",
       "        vertical-align: top;\n",
       "    }\n",
       "\n",
       "    .dataframe thead th {\n",
       "        text-align: right;\n",
       "    }\n",
       "</style>\n",
       "<table border=\"1\" class=\"dataframe\">\n",
       "  <thead>\n",
       "    <tr style=\"text-align: right;\">\n",
       "      <th></th>\n",
       "      <th>predict_label</th>\n",
       "      <th>产品销售</th>\n",
       "      <th>公司内部管理</th>\n",
       "      <th>其他相关报道</th>\n",
       "      <th>消费服务</th>\n",
       "      <th>监管</th>\n",
       "      <th>行业</th>\n",
       "      <th>资本市场</th>\n",
       "      <th>All</th>\n",
       "    </tr>\n",
       "    <tr>\n",
       "      <th>tendency</th>\n",
       "      <th>group_id</th>\n",
       "      <th></th>\n",
       "      <th></th>\n",
       "      <th></th>\n",
       "      <th></th>\n",
       "      <th></th>\n",
       "      <th></th>\n",
       "      <th></th>\n",
       "      <th></th>\n",
       "    </tr>\n",
       "  </thead>\n",
       "  <tbody>\n",
       "    <tr>\n",
       "      <th rowspan=\"8\" valign=\"top\">-1</th>\n",
       "      <th>博客</th>\n",
       "      <td>0</td>\n",
       "      <td>2</td>\n",
       "      <td>0</td>\n",
       "      <td>6</td>\n",
       "      <td>4</td>\n",
       "      <td>2</td>\n",
       "      <td>37</td>\n",
       "      <td>51</td>\n",
       "    </tr>\n",
       "    <tr>\n",
       "      <th>外媒</th>\n",
       "      <td>0</td>\n",
       "      <td>3</td>\n",
       "      <td>0</td>\n",
       "      <td>0</td>\n",
       "      <td>0</td>\n",
       "      <td>1</td>\n",
       "      <td>3</td>\n",
       "      <td>7</td>\n",
       "    </tr>\n",
       "    <tr>\n",
       "      <th>微信</th>\n",
       "      <td>3</td>\n",
       "      <td>17</td>\n",
       "      <td>1</td>\n",
       "      <td>84</td>\n",
       "      <td>22</td>\n",
       "      <td>41</td>\n",
       "      <td>36</td>\n",
       "      <td>204</td>\n",
       "    </tr>\n",
       "    <tr>\n",
       "      <th>微博</th>\n",
       "      <td>4</td>\n",
       "      <td>15</td>\n",
       "      <td>1</td>\n",
       "      <td>39</td>\n",
       "      <td>53</td>\n",
       "      <td>7</td>\n",
       "      <td>9</td>\n",
       "      <td>128</td>\n",
       "    </tr>\n",
       "    <tr>\n",
       "      <th>新闻</th>\n",
       "      <td>25</td>\n",
       "      <td>478</td>\n",
       "      <td>81</td>\n",
       "      <td>882</td>\n",
       "      <td>354</td>\n",
       "      <td>465</td>\n",
       "      <td>1145</td>\n",
       "      <td>3430</td>\n",
       "    </tr>\n",
       "    <tr>\n",
       "      <th>新闻客户端</th>\n",
       "      <td>2</td>\n",
       "      <td>46</td>\n",
       "      <td>1</td>\n",
       "      <td>216</td>\n",
       "      <td>36</td>\n",
       "      <td>39</td>\n",
       "      <td>89</td>\n",
       "      <td>429</td>\n",
       "    </tr>\n",
       "    <tr>\n",
       "      <th>纸媒</th>\n",
       "      <td>1</td>\n",
       "      <td>7</td>\n",
       "      <td>1</td>\n",
       "      <td>41</td>\n",
       "      <td>13</td>\n",
       "      <td>15</td>\n",
       "      <td>11</td>\n",
       "      <td>89</td>\n",
       "    </tr>\n",
       "    <tr>\n",
       "      <th>论坛</th>\n",
       "      <td>0</td>\n",
       "      <td>0</td>\n",
       "      <td>0</td>\n",
       "      <td>1</td>\n",
       "      <td>0</td>\n",
       "      <td>0</td>\n",
       "      <td>1</td>\n",
       "      <td>2</td>\n",
       "    </tr>\n",
       "    <tr>\n",
       "      <th rowspan=\"8\" valign=\"top\">0</th>\n",
       "      <th>博客</th>\n",
       "      <td>49</td>\n",
       "      <td>12</td>\n",
       "      <td>7</td>\n",
       "      <td>7</td>\n",
       "      <td>15</td>\n",
       "      <td>13</td>\n",
       "      <td>330</td>\n",
       "      <td>433</td>\n",
       "    </tr>\n",
       "    <tr>\n",
       "      <th>外媒</th>\n",
       "      <td>0</td>\n",
       "      <td>4</td>\n",
       "      <td>2</td>\n",
       "      <td>4</td>\n",
       "      <td>10</td>\n",
       "      <td>7</td>\n",
       "      <td>7</td>\n",
       "      <td>34</td>\n",
       "    </tr>\n",
       "    <tr>\n",
       "      <th>微信</th>\n",
       "      <td>697</td>\n",
       "      <td>88</td>\n",
       "      <td>198</td>\n",
       "      <td>287</td>\n",
       "      <td>262</td>\n",
       "      <td>185</td>\n",
       "      <td>138</td>\n",
       "      <td>1855</td>\n",
       "    </tr>\n",
       "    <tr>\n",
       "      <th>微博</th>\n",
       "      <td>83</td>\n",
       "      <td>70</td>\n",
       "      <td>63</td>\n",
       "      <td>158</td>\n",
       "      <td>164</td>\n",
       "      <td>75</td>\n",
       "      <td>166</td>\n",
       "      <td>779</td>\n",
       "    </tr>\n",
       "    <tr>\n",
       "      <th>新闻</th>\n",
       "      <td>1292</td>\n",
       "      <td>1897</td>\n",
       "      <td>2368</td>\n",
       "      <td>2278</td>\n",
       "      <td>2909</td>\n",
       "      <td>1825</td>\n",
       "      <td>4397</td>\n",
       "      <td>16966</td>\n",
       "    </tr>\n",
       "    <tr>\n",
       "      <th>新闻客户端</th>\n",
       "      <td>373</td>\n",
       "      <td>213</td>\n",
       "      <td>294</td>\n",
       "      <td>505</td>\n",
       "      <td>377</td>\n",
       "      <td>196</td>\n",
       "      <td>611</td>\n",
       "      <td>2569</td>\n",
       "    </tr>\n",
       "    <tr>\n",
       "      <th>纸媒</th>\n",
       "      <td>64</td>\n",
       "      <td>92</td>\n",
       "      <td>132</td>\n",
       "      <td>111</td>\n",
       "      <td>59</td>\n",
       "      <td>50</td>\n",
       "      <td>55</td>\n",
       "      <td>563</td>\n",
       "    </tr>\n",
       "    <tr>\n",
       "      <th>论坛</th>\n",
       "      <td>0</td>\n",
       "      <td>2</td>\n",
       "      <td>5</td>\n",
       "      <td>2</td>\n",
       "      <td>0</td>\n",
       "      <td>1</td>\n",
       "      <td>2</td>\n",
       "      <td>12</td>\n",
       "    </tr>\n",
       "    <tr>\n",
       "      <th>All</th>\n",
       "      <th></th>\n",
       "      <td>2593</td>\n",
       "      <td>2946</td>\n",
       "      <td>3154</td>\n",
       "      <td>4621</td>\n",
       "      <td>4278</td>\n",
       "      <td>2922</td>\n",
       "      <td>7037</td>\n",
       "      <td>27551</td>\n",
       "    </tr>\n",
       "  </tbody>\n",
       "</table>\n",
       "</div>"
      ],
      "text/plain": [
       "predict_label      产品销售  公司内部管理  其他相关报道  消费服务    监管    行业  资本市场    All\n",
       "tendency group_id                                                     \n",
       "-1       博客           0       2       0     6     4     2    37     51\n",
       "         外媒           0       3       0     0     0     1     3      7\n",
       "         微信           3      17       1    84    22    41    36    204\n",
       "         微博           4      15       1    39    53     7     9    128\n",
       "         新闻          25     478      81   882   354   465  1145   3430\n",
       "         新闻客户端        2      46       1   216    36    39    89    429\n",
       "         纸媒           1       7       1    41    13    15    11     89\n",
       "         论坛           0       0       0     1     0     0     1      2\n",
       "0        博客          49      12       7     7    15    13   330    433\n",
       "         外媒           0       4       2     4    10     7     7     34\n",
       "         微信         697      88     198   287   262   185   138   1855\n",
       "         微博          83      70      63   158   164    75   166    779\n",
       "         新闻        1292    1897    2368  2278  2909  1825  4397  16966\n",
       "         新闻客户端      373     213     294   505   377   196   611   2569\n",
       "         纸媒          64      92     132   111    59    50    55    563\n",
       "         论坛           0       2       5     2     0     1     2     12\n",
       "All                2593    2946    3154  4621  4278  2922  7037  27551"
      ]
     },
     "execution_count": 22,
     "metadata": {},
     "output_type": "execute_result"
    }
   ],
   "source": [
    "combined_data = pd.DataFrame()\n",
    "for day_select in day_list:\n",
    "    tmp_data = pd.read_excel('circ_result_tendency/result/circ_tendency_predict_mysql_%s.xlsx'%day_select)\n",
    "    combined_data = pd.concat([combined_data, tmp_data], axis = 0)\n",
    "\n",
    "combined_data = combined_data[combined_data['predict_label'] != '补录']\n",
    "print(combined_data.shape)  \n",
    "print('去重前：', combined_data.shape)\n",
    "combined_data = combined_data.drop_duplicates(subset = 'title')\n",
    "print('去重后：', combined_data.shape)  \n",
    "combined_data = combined_data.dropna(subset = ['content'], axis = 0)\n",
    "print('去空值后：', combined_data.shape)  \n",
    "\n",
    "print(combined_data['tendency'].value_counts())\n",
    "combined_data.pivot_table(index = ['tendency', 'group_id'], \n",
    "                                columns = ['predict_label'], \n",
    "                                values = 'title', aggfunc=len, \n",
    "                                fill_value=0, margins=True)\n",
    "# combined_data.head()"
   ]
  },
  {
   "cell_type": "code",
   "execution_count": 27,
   "metadata": {
    "ExecuteTime": {
     "end_time": "2018-12-14T10:15:15.823643Z",
     "start_time": "2018-12-14T10:15:13.929535Z"
    }
   },
   "outputs": [
    {
     "name": "stdout",
     "output_type": "stream",
     "text": [
      " 0    23211\n",
      "-1     4340\n",
      "Name: tendency, dtype: int64\n",
      "正负各 1000 条，共 7 类， 每类各 242 条\n",
      "predict_label  产品销售  公司内部管理  其他相关报道  消费服务    监管    行业  资本市场    All\n",
      "tendency                                                          \n",
      "0              2558    2378    3069  3352  3796  2352  5706  23211\n",
      "All            2558    2378    3069  3352  3796  2352  5706  23211\n",
      "tendency: 0, predict_label: 行业, size: (242, 8)\n",
      "tendency: 0, predict_label: 资本市场, size: (484, 8)\n",
      "tendency: 0, predict_label: 消费服务, size: (726, 8)\n",
      "tendency: 0, predict_label: 监管, size: (968, 8)\n",
      "tendency: 0, predict_label: 公司内部管理, size: (1210, 8)\n",
      "tendency: 0, predict_label: 产品销售, size: (1452, 8)\n",
      "tendency: 0, predict_label: 其他相关报道, size: (1694, 8)\n",
      "predict_label  产品销售  公司内部管理  其他相关报道  消费服务   监管   行业  资本市场   All\n",
      "tendency                                                       \n",
      "0               136     142     148   139  144  155   136  1000\n",
      "All             136     142     148   139  144  155   136  1000\n",
      "predict_label  产品销售  公司内部管理  其他相关报道  消费服务   监管   行业  资本市场   All\n",
      "tendency                                                       \n",
      "-1               35     568      85  1269  482  570  1331  4340\n",
      "All              35     568      85  1269  482  570  1331  4340\n",
      "tendency: -1, predict_label: 行业, size: (242, 8)\n",
      "tendency: -1, predict_label: 资本市场, size: (484, 8)\n",
      "tendency: -1, predict_label: 消费服务, size: (726, 8)\n",
      "tendency: -1, predict_label: 监管, size: (968, 8)\n",
      "tendency: -1, predict_label: 公司内部管理, size: (1210, 8)\n",
      "tendency: -1, predict_label: 产品销售, size: (1245, 8)\n",
      "tendency: -1, predict_label: 其他相关报道, size: (1330, 8)\n",
      "predict_label  产品销售  公司内部管理  其他相关报道  消费服务   监管   行业  资本市场   All\n",
      "tendency                                                       \n",
      "-1               27     181      61   181  186  187   177  1000\n",
      "All              27     181      61   181  186  187   177  1000\n"
     ]
    }
   ],
   "source": [
    "fea_filename = 'circ_result_tendency/result/circ_tendency_predict_mysql_20181214(1208-1213).xlsx'\n",
    "# sel_col = combined_data['predict_label'].unique().tolist()\n",
    "# sel_data = combined_data[combined_data['tendency'].isin(sel_col)]\n",
    "print(combined_data['tendency'].value_counts())\n",
    "\n",
    "N = 1000 # 每类 N 条数据\n",
    "class_n = int(combined_data['predict_label'].unique().shape[0])\n",
    "n = int(N / class_n) + 100\n",
    "\n",
    "print('正负各 %s 条，共 %s 类， 每类各 %s 条'%(N, class_n, n))\n",
    "with pd.ExcelWriter(fea_filename) as writer:\n",
    "    for tendency in combined_data['tendency'].unique():\n",
    "        tmp_data = pd.DataFrame()\n",
    "        sel_data = combined_data[combined_data['tendency'] == tendency]    \n",
    "        print(sel_data.pivot_table(index = ['tendency'], \n",
    "                            columns = ['predict_label'], \n",
    "                            values = 'title', aggfunc=len, \n",
    "                            fill_value=0, margins=True))  \n",
    "        for predict_label in combined_data['predict_label'].unique():\n",
    "            label_data = sel_data[sel_data['predict_label'] == predict_label]\n",
    "            if label_data.shape[0] > n:\n",
    "                sel_label_data = label_data.sample(n = n, axis = 0, random_state=3)\n",
    "            else :\n",
    "                sel_label_data = label_data\n",
    "            tmp_data = pd.concat([tmp_data, sel_label_data], axis = 0)        \n",
    "            print('tendency: %s, predict_label: %s, size: %s'%(tendency, predict_label, tmp_data.shape))\n",
    "        \n",
    "        if tmp_data.shape[0] > N:\n",
    "            t_n = N\n",
    "        else :\n",
    "            t_n = tmp_data.shape[0]\n",
    "        \n",
    "        tmp_data = tmp_data.sample(n = N, axis = 0, random_state=3)\n",
    "        tmp_data.to_excel(writer,str(tendency), index = False)\n",
    "        print(tmp_data.pivot_table(index = ['tendency'], \n",
    "                                    columns = ['predict_label'], \n",
    "                                    values = 'title', aggfunc=len, \n",
    "                                    fill_value=0, margins=True))    \n",
    "    writer.save()"
   ]
  },
  {
   "cell_type": "markdown",
   "metadata": {},
   "source": [
    "### 补录数据"
   ]
  },
  {
   "cell_type": "code",
   "execution_count": 58,
   "metadata": {
    "ExecuteTime": {
     "end_time": "2018-12-03T09:29:11.314545Z",
     "start_time": "2018-12-03T09:28:41.011812Z"
    }
   },
   "outputs": [
    {
     "name": "stdout",
     "output_type": "stream",
     "text": [
      "title 去重前： (573, 8)\n",
      "title 去重后： (573, 8)\n",
      "content 去重后： (573, 8)\n",
      "title 去空值后： (573, 8)\n"
     ]
    },
    {
     "data": {
      "text/html": [
       "<div>\n",
       "<style scoped>\n",
       "    .dataframe tbody tr th:only-of-type {\n",
       "        vertical-align: middle;\n",
       "    }\n",
       "\n",
       "    .dataframe tbody tr th {\n",
       "        vertical-align: top;\n",
       "    }\n",
       "\n",
       "    .dataframe thead th {\n",
       "        text-align: right;\n",
       "    }\n",
       "</style>\n",
       "<table border=\"1\" class=\"dataframe\">\n",
       "  <thead>\n",
       "    <tr style=\"text-align: right;\">\n",
       "      <th></th>\n",
       "      <th>id</th>\n",
       "      <th>group_id</th>\n",
       "      <th>publishtime</th>\n",
       "      <th>gather_type</th>\n",
       "      <th>tendency</th>\n",
       "      <th>mysql_label</th>\n",
       "      <th>title</th>\n",
       "      <th>content</th>\n",
       "    </tr>\n",
       "  </thead>\n",
       "  <tbody>\n",
       "    <tr>\n",
       "      <th>0</th>\n",
       "      <td>10933233</td>\n",
       "      <td>微信</td>\n",
       "      <td>2018-09-20</td>\n",
       "      <td>1</td>\n",
       "      <td>0</td>\n",
       "      <td>0</td>\n",
       "      <td>外资股东全搜罗：隐身中资险企，财险、寿险市场份额双双接近10%</td>\n",
       "      <td>(图片)\\n\\n说到外资在国内保险市场的表现，很多人首先就会想到市场份额低这一点。确实，自...</td>\n",
       "    </tr>\n",
       "    <tr>\n",
       "      <th>1</th>\n",
       "      <td>10910821</td>\n",
       "      <td>微信</td>\n",
       "      <td>2018-09-18</td>\n",
       "      <td>1</td>\n",
       "      <td>0</td>\n",
       "      <td>0</td>\n",
       "      <td>从“天鸽”到“山竹”，保险业用这些方法更好的“管住”风险</td>\n",
       "      <td>(图片)\\n\\n台风“山竹”在广东西部沿海过境已经3天，得益于国家及地方政府相关部门的及早...</td>\n",
       "    </tr>\n",
       "    <tr>\n",
       "      <th>2</th>\n",
       "      <td>11483454</td>\n",
       "      <td>微信</td>\n",
       "      <td>2018-10-20</td>\n",
       "      <td>1</td>\n",
       "      <td>-1</td>\n",
       "      <td>0</td>\n",
       "      <td>突发，上市公司举报“平安养老风控总监伪造公章夺控制权”</td>\n",
       "      <td>\\n\\t\\t\\t\\t\\t 关于&lt;font color=\"#FF0000\"&gt;平安养老保险&lt;/...</td>\n",
       "    </tr>\n",
       "    <tr>\n",
       "      <th>3</th>\n",
       "      <td>11666987</td>\n",
       "      <td>微信</td>\n",
       "      <td>2018-10-26</td>\n",
       "      <td>1</td>\n",
       "      <td>-1</td>\n",
       "      <td>0</td>\n",
       "      <td>上半年持续亏损   董事长遭逮捕华安保险精达股份玩起“二人转” | 保险</td>\n",
       "      <td>\\n\\t\\t\\t\\t\\t 特华投资与&lt;font color=\"#FF0000\"&gt;华安保险&lt;...</td>\n",
       "    </tr>\n",
       "    <tr>\n",
       "      <th>4</th>\n",
       "      <td>11765888</td>\n",
       "      <td>纸媒</td>\n",
       "      <td>2018-10-31</td>\n",
       "      <td>1</td>\n",
       "      <td>0</td>\n",
       "      <td>0</td>\n",
       "      <td>2018年10月31日--视点--业内专家分析如何保障重疾险消费者权益</td>\n",
       "      <td>\\n\\t\\t\\t\\t\\t \\n\\t\\t\\t\\t\\t今年6月,中国&lt;font color=\"...</td>\n",
       "    </tr>\n",
       "  </tbody>\n",
       "</table>\n",
       "</div>"
      ],
      "text/plain": [
       "         id group_id publishtime  gather_type  tendency  mysql_label  \\\n",
       "0  10933233       微信  2018-09-20            1         0            0   \n",
       "1  10910821       微信  2018-09-18            1         0            0   \n",
       "2  11483454       微信  2018-10-20            1        -1            0   \n",
       "3  11666987       微信  2018-10-26            1        -1            0   \n",
       "4  11765888       纸媒  2018-10-31            1         0            0   \n",
       "\n",
       "                                  title  \\\n",
       "0       外资股东全搜罗：隐身中资险企，财险、寿险市场份额双双接近10%   \n",
       "1          从“天鸽”到“山竹”，保险业用这些方法更好的“管住”风险   \n",
       "2           突发，上市公司举报“平安养老风控总监伪造公章夺控制权”   \n",
       "3  上半年持续亏损   董事长遭逮捕华安保险精达股份玩起“二人转” | 保险   \n",
       "4   2018年10月31日--视点--业内专家分析如何保障重疾险消费者权益   \n",
       "\n",
       "                                             content  \n",
       "0   (图片)\\n\\n说到外资在国内保险市场的表现，很多人首先就会想到市场份额低这一点。确实，自...  \n",
       "1   (图片)\\n\\n台风“山竹”在广东西部沿海过境已经3天，得益于国家及地方政府相关部门的及早...  \n",
       "2   \\n\\t\\t\\t\\t\\t 关于<font color=\"#FF0000\">平安养老保险</...  \n",
       "3   \\n\\t\\t\\t\\t\\t 特华投资与<font color=\"#FF0000\">华安保险<...  \n",
       "4   \\n\\t\\t\\t\\t\\t \\n\\t\\t\\t\\t\\t今年6月,中国<font color=\"...  "
      ]
     },
     "execution_count": 58,
     "metadata": {},
     "output_type": "execute_result"
    }
   ],
   "source": [
    "# 人工补录\n",
    "sql_human_additional = \"select t1.id, t1.group_id, date_format(t1.publishtime,'%%Y-%%m-%%d') as publishtime,  \\\n",
    "                            t1.gather_type, t1.tendency,t1.classify as mysql_label, \\\n",
    "                            t1.title, t2.center as content\\\n",
    "                            from wise_web_docinfo t1, wise_web_docinfo_center t2 \\\n",
    "                                where (date_format(publishtime, '%%Y-%%m-%%d') >= '{0}' and \\\n",
    "                                      date_format(publishtime, '%%Y-%%m-%%d') <= '{1}') and \\\n",
    "                                      t1.id = t2.doc_id and \\\n",
    "                                      t1.gather_type in (1,3) \\\n",
    "                            group by t1.titlehash\".format('2018-09-16', '2018-12-03') \n",
    "\n",
    "human_additional = pd.read_sql(sql_human_additional, engine)\n",
    "human_additional['group_id'] = human_additional['group_id'].apply(lambda x:group_dict[str(x)])\n",
    "print('title 去重前：', human_additional.shape)\n",
    "human_additional = human_additional.drop_duplicates(subset = 'title')\n",
    "print('title 去重后：', human_additional.shape)  \n",
    "human_additional = human_additional.drop_duplicates(subset = ['content'])\n",
    "print('content 去重后：', human_additional.shape)  \n",
    "human_additional = human_additional.dropna(subset = ['title'], axis = 0)\n",
    "print('title 去空值后：', human_additional.shape) \n",
    "human_additional.head()"
   ]
  },
  {
   "cell_type": "code",
   "execution_count": 59,
   "metadata": {
    "ExecuteTime": {
     "end_time": "2018-12-03T09:29:23.324232Z",
     "start_time": "2018-12-03T09:29:12.009585Z"
    }
   },
   "outputs": [
    {
     "name": "stdout",
     "output_type": "stream",
     "text": [
      "行业        180\n",
      "监管        109\n",
      "噪音        106\n",
      "公司内部管理    102\n",
      "资本市场       44\n",
      "消费服务       20\n",
      "产品销售       12\n",
      "Name: predict_label, dtype: int64\n"
     ]
    },
    {
     "data": {
      "text/html": [
       "<div>\n",
       "<style scoped>\n",
       "    .dataframe tbody tr th:only-of-type {\n",
       "        vertical-align: middle;\n",
       "    }\n",
       "\n",
       "    .dataframe tbody tr th {\n",
       "        vertical-align: top;\n",
       "    }\n",
       "\n",
       "    .dataframe thead th {\n",
       "        text-align: right;\n",
       "    }\n",
       "</style>\n",
       "<table border=\"1\" class=\"dataframe\">\n",
       "  <thead>\n",
       "    <tr style=\"text-align: right;\">\n",
       "      <th></th>\n",
       "      <th>id</th>\n",
       "      <th>group_id</th>\n",
       "      <th>publishtime</th>\n",
       "      <th>gather_type</th>\n",
       "      <th>tendency</th>\n",
       "      <th>mysql_label</th>\n",
       "      <th>label</th>\n",
       "      <th>title</th>\n",
       "      <th>content</th>\n",
       "      <th>predict_label</th>\n",
       "    </tr>\n",
       "  </thead>\n",
       "  <tbody>\n",
       "    <tr>\n",
       "      <th>0</th>\n",
       "      <td>10933233</td>\n",
       "      <td>微信</td>\n",
       "      <td>2018-09-20</td>\n",
       "      <td>1</td>\n",
       "      <td>0</td>\n",
       "      <td>0</td>\n",
       "      <td></td>\n",
       "      <td>外资股东全搜罗：隐身中资险企，财险、寿险市场份额双双接近10%</td>\n",
       "      <td>(图片)\\n\\n说到外资在国内保险市场的表现，很多人首先就会想到市场份额低这一点。确实，自...</td>\n",
       "      <td>行业</td>\n",
       "    </tr>\n",
       "    <tr>\n",
       "      <th>1</th>\n",
       "      <td>10910821</td>\n",
       "      <td>微信</td>\n",
       "      <td>2018-09-18</td>\n",
       "      <td>1</td>\n",
       "      <td>0</td>\n",
       "      <td>0</td>\n",
       "      <td></td>\n",
       "      <td>从“天鸽”到“山竹”，保险业用这些方法更好的“管住”风险</td>\n",
       "      <td>(图片)\\n\\n台风“山竹”在广东西部沿海过境已经3天，得益于国家及地方政府相关部门的及早...</td>\n",
       "      <td>行业</td>\n",
       "    </tr>\n",
       "    <tr>\n",
       "      <th>2</th>\n",
       "      <td>11483454</td>\n",
       "      <td>微信</td>\n",
       "      <td>2018-10-20</td>\n",
       "      <td>1</td>\n",
       "      <td>-1</td>\n",
       "      <td>0</td>\n",
       "      <td></td>\n",
       "      <td>突发，上市公司举报“平安养老风控总监伪造公章夺控制权”</td>\n",
       "      <td>\\n\\t\\t\\t\\t\\t 关于&lt;font color=\"#FF0000\"&gt;平安养老保险&lt;/...</td>\n",
       "      <td>资本市场</td>\n",
       "    </tr>\n",
       "    <tr>\n",
       "      <th>3</th>\n",
       "      <td>11666987</td>\n",
       "      <td>微信</td>\n",
       "      <td>2018-10-26</td>\n",
       "      <td>1</td>\n",
       "      <td>-1</td>\n",
       "      <td>0</td>\n",
       "      <td></td>\n",
       "      <td>上半年持续亏损   董事长遭逮捕华安保险精达股份玩起“二人转” | 保险</td>\n",
       "      <td>\\n\\t\\t\\t\\t\\t 特华投资与&lt;font color=\"#FF0000\"&gt;华安保险&lt;...</td>\n",
       "      <td>公司内部管理</td>\n",
       "    </tr>\n",
       "    <tr>\n",
       "      <th>4</th>\n",
       "      <td>11765888</td>\n",
       "      <td>纸媒</td>\n",
       "      <td>2018-10-31</td>\n",
       "      <td>1</td>\n",
       "      <td>0</td>\n",
       "      <td>0</td>\n",
       "      <td></td>\n",
       "      <td>2018年10月31日--视点--业内专家分析如何保障重疾险消费者权益</td>\n",
       "      <td>\\n\\t\\t\\t\\t\\t \\n\\t\\t\\t\\t\\t今年6月,中国&lt;font color=\"...</td>\n",
       "      <td>噪音</td>\n",
       "    </tr>\n",
       "  </tbody>\n",
       "</table>\n",
       "</div>"
      ],
      "text/plain": [
       "         id group_id publishtime  gather_type  tendency  mysql_label label  \\\n",
       "0  10933233       微信  2018-09-20            1         0            0         \n",
       "1  10910821       微信  2018-09-18            1         0            0         \n",
       "2  11483454       微信  2018-10-20            1        -1            0         \n",
       "3  11666987       微信  2018-10-26            1        -1            0         \n",
       "4  11765888       纸媒  2018-10-31            1         0            0         \n",
       "\n",
       "                                  title  \\\n",
       "0       外资股东全搜罗：隐身中资险企，财险、寿险市场份额双双接近10%   \n",
       "1          从“天鸽”到“山竹”，保险业用这些方法更好的“管住”风险   \n",
       "2           突发，上市公司举报“平安养老风控总监伪造公章夺控制权”   \n",
       "3  上半年持续亏损   董事长遭逮捕华安保险精达股份玩起“二人转” | 保险   \n",
       "4   2018年10月31日--视点--业内专家分析如何保障重疾险消费者权益   \n",
       "\n",
       "                                             content predict_label  \n",
       "0   (图片)\\n\\n说到外资在国内保险市场的表现，很多人首先就会想到市场份额低这一点。确实，自...            行业  \n",
       "1   (图片)\\n\\n台风“山竹”在广东西部沿海过境已经3天，得益于国家及地方政府相关部门的及早...            行业  \n",
       "2   \\n\\t\\t\\t\\t\\t 关于<font color=\"#FF0000\">平安养老保险</...          资本市场  \n",
       "3   \\n\\t\\t\\t\\t\\t 特华投资与<font color=\"#FF0000\">华安保险<...        公司内部管理  \n",
       "4   \\n\\t\\t\\t\\t\\t \\n\\t\\t\\t\\t\\t今年6月,中国<font color=\"...            噪音  "
      ]
     },
     "execution_count": 59,
     "metadata": {},
     "output_type": "execute_result"
    }
   ],
   "source": [
    "human_additional['title'] = human_additional['title'].astype(str) \n",
    "human_additional['content'] = human_additional['content'].astype(str)\n",
    "data = {\"record\":human_additional.loc[:,['id', 'title' ,'content']].to_dict(orient = 'records')}\n",
    "url = \"http://47.93.77.19:10000/judge_correlation_i\"\n",
    "col_name = 'cor'\n",
    "parse_data, elapsed_time = get_server_res(data, url, col_name)\n",
    "parse_data.columns = ['id', 'predict_label']\n",
    "human_additional = pd.merge(human_additional, parse_data, on = 'id', how = 'left')\n",
    "human_additional['predict_label'] = human_additional['predict_label'].apply(lambda x:class_name_dict[x])\n",
    "human_additional.insert(6, 'label', '')\n",
    "print(human_additional['predict_label'].value_counts())\n",
    "human_additional.head()"
   ]
  },
  {
   "cell_type": "code",
   "execution_count": 60,
   "metadata": {
    "ExecuteTime": {
     "end_time": "2018-12-03T09:29:24.581304Z",
     "start_time": "2018-12-03T09:29:23.882264Z"
    }
   },
   "outputs": [
    {
     "name": "stdout",
     "output_type": "stream",
     "text": [
      "circ_result_class/result/补录_保监会（旧）_class_predict_mysql_20181203(0917-1203).xlsx\n",
      "行业        180\n",
      "监管        109\n",
      "噪音        106\n",
      "公司内部管理    102\n",
      "资本市场       44\n",
      "消费服务       20\n",
      "产品销售       12\n",
      "Name: predict_label, dtype: int64\n",
      "\n",
      "predict_label  产品销售  公司内部管理   噪音  消费服务   监管   行业  资本市场  All\n",
      "group_id                                                   \n",
      "微信                3      23   27     2   26   69    11  161\n",
      "微博                0       0    1     0    0    0     0    1\n",
      "新闻                9      72   64    15   65   87    31  343\n",
      "新闻客户端             0       4    3     0    7    5     1   20\n",
      "纸媒                0       3    3     1   11   18     1   37\n",
      "视频                0       0    8     1    0    1     0   10\n",
      "论坛                0       0    0     1    0    0     0    1\n",
      "All              12     102  106    20  109  180    44  573\n"
     ]
    }
   ],
   "source": [
    "fea_filename = 'circ_result_class/result/补录_保监会（旧）_class_predict_mysql_20181203(0917-1203).xlsx'\n",
    "print(fea_filename)\n",
    "\n",
    "sel_col = ['噪音', '消费服务', '公司内部管理', '监管',\n",
    "           '行业', '资本市场', '其他相关报道','产品销售','交通','环保']\n",
    "sel_data = human_additional[human_additional['predict_label'].isin(sel_col)]\n",
    "print(sel_data['predict_label'].value_counts())\n",
    "print()\n",
    "\n",
    "c_data = pd.DataFrame()\n",
    "with pd.ExcelWriter(fea_filename) as writer:\n",
    "    for label in sel_data['predict_label'].unique():\n",
    "        tmp_data = sel_data[sel_data['predict_label'] == label]\n",
    "        N = tmp_data.shape[0]            \n",
    "        save_data = tmp_data.sample(n = N, axis = 0, random_state=42)\n",
    "        save_data.to_excel(writer,label, index = False)\n",
    "        c_data = pd.concat([c_data, save_data], axis = 0)\n",
    "    print(c_data.pivot_table(index = ['group_id'], \n",
    "                                columns = ['predict_label'], \n",
    "                                values = 'title', aggfunc=len, \n",
    "                                fill_value=0, margins=True))      \n",
    "    writer.save()"
   ]
  },
  {
   "cell_type": "code",
   "execution_count": 61,
   "metadata": {
    "ExecuteTime": {
     "end_time": "2018-12-03T09:29:25.627363Z",
     "start_time": "2018-12-03T09:29:25.075332Z"
    }
   },
   "outputs": [
    {
     "name": "stdout",
     "output_type": "stream",
     "text": [
      "circ_result_tendency/result/补录_保监会（旧）_tendency_predict_mysql_20181203(0917-1203).xlsx\n",
      " 0    381\n",
      "-1    192\n",
      "Name: tendency, dtype: int64\n"
     ]
    }
   ],
   "source": [
    "fea_filename = 'circ_result_tendency/result/补录_保监会（旧）_tendency_predict_mysql_20181203(0917-1203).xlsx'\n",
    "print(fea_filename)\n",
    "print(human_additional['tendency'].value_counts())\n",
    "\n",
    "with pd.ExcelWriter(fea_filename) as writer:\n",
    "    for tendency in human_additional['tendency'].unique():\n",
    "        sel_data = human_additional[human_additional['tendency'] == tendency]    \n",
    "        t_n = sel_data.shape[0]        \n",
    "        tmp_data = sel_data.sample(n = t_n, axis = 0, random_state=3)\n",
    "        tmp_data.to_excel(writer,str(tendency), index = False)           \n",
    "    writer.save()"
   ]
  },
  {
   "cell_type": "markdown",
   "metadata": {},
   "source": [
    "## 本地模型"
   ]
  },
  {
   "cell_type": "markdown",
   "metadata": {},
   "source": [
    "### 八分类"
   ]
  },
  {
   "cell_type": "code",
   "execution_count": null,
   "metadata": {
    "ExecuteTime": {
     "end_time": "2018-09-20T03:26:26.197443Z",
     "start_time": "2018-09-20T03:26:23.897915Z"
    },
    "collapsed": true
   },
   "outputs": [],
   "source": [
    "from sklearn.externals import joblib\n",
    "pipeline_old = joblib.load( \"model/circ_8classifier_1015.pkl.z\")"
   ]
  },
  {
   "cell_type": "code",
   "execution_count": null,
   "metadata": {
    "ExecuteTime": {
     "end_time": "2018-09-20T03:30:52.594390Z",
     "start_time": "2018-09-20T03:28:37.834752Z"
    },
    "collapsed": true
   },
   "outputs": [],
   "source": [
    "combined_data['title_content'] = combined_data['title'].astype(str) + '。' + combined_data['content'].astype(str)\n",
    "title_content = pre_cor_circ.handle_contents(combined_data['title_content'].tolist())\n",
    "print(len(title_content))"
   ]
  },
  {
   "cell_type": "code",
   "execution_count": null,
   "metadata": {
    "ExecuteTime": {
     "start_time": "2018-09-20T03:50:00.412Z"
    },
    "collapsed": true
   },
   "outputs": [],
   "source": [
    "local_label = pipeline_old.predict(title_content)\n",
    "local_proba = pipeline_old.predict_proba(title_content)\n",
    "\n",
    "combined_data['local_label'] = local_label\n",
    "combined_data['local_proba'] = local_proba.max(axis = 1)\n",
    "combined_data['local_label'] = combined_data['local_label'].apply(lambda x:class_name_dict[x])\n",
    "print(combined_data.shape)\n",
    "combined_data.iloc[:2, :]"
   ]
  },
  {
   "cell_type": "markdown",
   "metadata": {},
   "source": [
    "#### 线上线下一致性: mysql 与 local"
   ]
  },
  {
   "cell_type": "code",
   "execution_count": null,
   "metadata": {
    "ExecuteTime": {
     "end_time": "2018-09-20T03:48:25.094577Z",
     "start_time": "2018-09-20T03:48:24.380536Z"
    },
    "collapsed": true
   },
   "outputs": [],
   "source": [
    "combined_data['R_W'] = combined_data.apply(lambda x: 'Right' if x['local_label'] == x['predict_label'] else 'Wrong', axis = 1)\n",
    "print(combined_data[combined_data['R_W'] == 'Right'].shape[0]/combined_data.shape[0])\n",
    "print(combined_data['R_W'].value_counts())\n",
    "combined_data[combined_data['R_W'] == 'Wrong'].pivot_table(index = ['local_label'], columns = ['predict_label'], \n",
    "                                                            aggfunc = [len], values = ['id'], \n",
    "                                                            fill_value = 0, margins = True)"
   ]
  },
  {
   "cell_type": "markdown",
   "metadata": {},
   "source": [
    "#### 线上线下一致性: online 与 local"
   ]
  },
  {
   "cell_type": "code",
   "execution_count": null,
   "metadata": {
    "collapsed": true
   },
   "outputs": [],
   "source": [
    "combined_data['id'] = range(combined_data.shape[0])\n",
    "combined_data['title'] = combined_data['title'].astype(str) \n",
    "combined_data['content'] = combined_data['content'].astype(str)\n",
    "data = {\"record\":combined_data.loc[:,['id', 'title' ,'content']].to_dict(orient = 'records')}\n",
    "url = \"http://47.93.77.19:10000/judge_correlation_i\"\n",
    "col_name = 'cor'\n",
    "parse_data, elapsed_time = get_server_res(data, url, col_name)\n",
    "parse_data.columns = ['id', 'online_label']\n",
    "parse_data.head()"
   ]
  },
  {
   "cell_type": "code",
   "execution_count": null,
   "metadata": {
    "collapsed": true
   },
   "outputs": [],
   "source": [
    "combined_data = pd.merge(combined_data, parse_data, on  = 'id')\n",
    "print(combined_data.shape)\n",
    "combined_data['O_R_W'] = combined_data.apply(lambda x: 'Right' if x['local_label'] == x['online_label'] else 'Wrong', axis = 1)\n",
    "print(combined_data[combined_data['O_R_W'] == 'Right'].shape[0]/combined_data.shape[0])\n",
    "print(combined_data['O_R_W'].value_counts())\n",
    "combined_data[combined_data['O_R_W'] == 'Wrong'].pivot_table(index = ['local_label'], columns = ['online_label'], \n",
    "                                                            aggfunc = [len], values = ['urlhash'], \n",
    "                                                            fill_value = 0, margins = True)"
   ]
  },
  {
   "cell_type": "markdown",
   "metadata": {
    "collapsed": true
   },
   "source": [
    "# 银行业--旧"
   ]
  },
  {
   "cell_type": "code",
   "execution_count": 14,
   "metadata": {
    "ExecuteTime": {
     "end_time": "2018-12-18T03:48:05.196398Z",
     "start_time": "2018-12-18T03:48:04.907382Z"
    },
    "collapsed": true
   },
   "outputs": [],
   "source": [
    "engine = specific_func.get_engine('cbrc')"
   ]
  },
  {
   "cell_type": "code",
   "execution_count": 20,
   "metadata": {
    "ExecuteTime": {
     "end_time": "2018-12-18T07:22:12.775238Z",
     "start_time": "2018-12-18T07:22:12.759237Z"
    }
   },
   "outputs": [
    {
     "name": "stdout",
     "output_type": "stream",
     "text": [
      "['2018-12-02', '2018-12-03', '2018-12-04', '2018-12-05']\n"
     ]
    }
   ],
   "source": [
    "# day_select = '2018-09-09'\n",
    "day_list = get_day_list('2018-12-01', '2018-12-05')\n",
    "print(day_list)"
   ]
  },
  {
   "cell_type": "markdown",
   "metadata": {
    "collapsed": true
   },
   "source": [
    "## mysql 数据"
   ]
  },
  {
   "cell_type": "markdown",
   "metadata": {},
   "source": [
    "### 八分类数据"
   ]
  },
  {
   "cell_type": "markdown",
   "metadata": {},
   "source": [
    "#### 获取数据"
   ]
  },
  {
   "cell_type": "code",
   "execution_count": null,
   "metadata": {
    "ExecuteTime": {
     "end_time": "2018-11-12T03:49:29.356849Z",
     "start_time": "2018-11-12T03:49:29.348848Z"
    },
    "collapsed": true
   },
   "outputs": [],
   "source": [
    "# sql_circ_cor_one_day = \"select t1.id, t1.publishtime, t1.title,t2.text as content \\\n",
    "#                             from elint_web_docinfo t1, wise_web_docinfo_text t2 \\\n",
    "#                                 where t1.id = t2.doc_id \\\n",
    "#                                   and date_format(t1.publishtime, '%%Y-%%m-%%d') = '{0}'\".format('2018-08-07')\n",
    "# # 实际\n",
    "# circ_cor = pd.read_sql(sql_circ_cor_one_day, engine)\n",
    "# print(circ_cor.shape)\n",
    "# circ_cor.head()"
   ]
  },
  {
   "cell_type": "code",
   "execution_count": 16,
   "metadata": {
    "ExecuteTime": {
     "end_time": "2018-12-18T05:45:07.587056Z",
     "start_time": "2018-12-18T03:48:18.853180Z"
    }
   },
   "outputs": [
    {
     "name": "stdout",
     "output_type": "stream",
     "text": [
      "-- day_select:  2018-12-02\n",
      "cbrc_flag： (136661, 3)\n",
      "cbrc_cor： (3096, 5)\n",
      "cbrc_uncor： (5003, 5)\n",
      "去重前： (8099, 5)\n",
      "去重后： (7031, 5)\n",
      "去空值后： (7031, 5)\n",
      "(6781, 7)\n",
      "噪音        3145\n",
      "消费服务      1781\n",
      "行业         727\n",
      "监管         442\n",
      "资本市场       350\n",
      "公司内部管理     145\n",
      "产品销售       105\n",
      "其他相关报道      86\n",
      "Name: predict_label, dtype: int64\n",
      "-- day_select:  2018-12-03\n",
      "cbrc_flag： (199498, 3)\n",
      "cbrc_cor： (5964, 5)\n",
      "cbrc_uncor： (5003, 5)\n",
      "去重前： (10967, 5)\n",
      "去重后： (10035, 5)\n",
      "去空值后： (10035, 5)\n",
      "(9840, 7)\n",
      "噪音        3168\n",
      "消费服务      2250\n",
      "行业        1792\n",
      "监管        1294\n",
      "资本市场       553\n",
      "公司内部管理     540\n",
      "其他相关报道     147\n",
      "产品销售        96\n",
      "Name: predict_label, dtype: int64\n",
      "-- day_select:  2018-12-04\n",
      "cbrc_flag： (213134, 3)\n",
      "cbrc_cor： (5996, 5)\n",
      "cbrc_uncor： (5003, 5)\n",
      "去重前： (10999, 5)\n",
      "去重后： (10151, 5)\n",
      "去空值后： (10151, 5)\n",
      "(10012, 7)\n",
      "噪音        3042\n",
      "消费服务      2819\n",
      "行业        1661\n",
      "监管         964\n",
      "资本市场       733\n",
      "公司内部管理     528\n",
      "其他相关报道     151\n",
      "产品销售       114\n",
      "Name: predict_label, dtype: int64\n",
      "-- day_select:  2018-12-05\n",
      "cbrc_flag： (216402, 3)\n",
      "cbrc_cor： (5618, 5)\n",
      "cbrc_uncor： (5003, 5)\n",
      "去重前： (10621, 5)\n",
      "去重后： (9600, 5)\n",
      "去空值后： (9600, 5)\n",
      "(9379, 7)\n",
      "噪音        3047\n",
      "消费服务      2652\n",
      "行业        1451\n",
      "监管         961\n",
      "资本市场       587\n",
      "公司内部管理     435\n",
      "其他相关报道     162\n",
      "产品销售        84\n",
      "Name: predict_label, dtype: int64\n",
      "-- day_select:  2018-12-06\n",
      "cbrc_flag： (219173, 3)\n",
      "cbrc_cor： (5739, 5)\n",
      "cbrc_uncor： (5005, 5)\n",
      "去重前： (10744, 5)\n",
      "去重后： (9622, 5)\n",
      "去空值后： (9622, 5)\n",
      "(9165, 7)\n",
      "噪音        3035\n",
      "消费服务      2411\n",
      "行业        1593\n",
      "监管         811\n",
      "公司内部管理     537\n",
      "资本市场       530\n",
      "其他相关报道     136\n",
      "产品销售       112\n",
      "Name: predict_label, dtype: int64\n",
      "-- day_select:  2018-12-07\n",
      "cbrc_flag： (216759, 3)\n",
      "cbrc_cor： (6076, 5)\n",
      "cbrc_uncor： (5004, 5)\n",
      "去重前： (11080, 5)\n",
      "去重后： (10088, 5)\n",
      "去空值后： (10088, 5)\n",
      "(9630, 7)\n",
      "噪音        3112\n",
      "消费服务      2688\n",
      "行业        1522\n",
      "监管         967\n",
      "公司内部管理     605\n",
      "资本市场       474\n",
      "其他相关报道     146\n",
      "产品销售       116\n",
      "Name: predict_label, dtype: int64\n",
      "-- day_select:  2018-12-08\n",
      "cbrc_flag： (145356, 3)\n",
      "cbrc_cor： (3329, 5)\n",
      "cbrc_uncor： (5005, 5)\n",
      "去重前： (8334, 5)\n",
      "去重后： (6750, 5)\n",
      "去空值后： (6750, 5)\n",
      "(6694, 7)\n",
      "噪音        2827\n",
      "消费服务      1525\n",
      "行业         914\n",
      "监管         625\n",
      "资本市场       353\n",
      "公司内部管理     262\n",
      "其他相关报道     103\n",
      "产品销售        85\n",
      "Name: predict_label, dtype: int64\n",
      "-- day_select:  2018-12-09\n",
      "cbrc_flag： (118076, 3)\n",
      "cbrc_cor： (2402, 5)\n",
      "cbrc_uncor： (5005, 5)\n",
      "去重前： (7407, 5)\n",
      "去重后： (5913, 5)\n",
      "去空值后： (5913, 5)\n",
      "(5669, 7)\n",
      "噪音        2808\n",
      "消费服务      1073\n",
      "行业         841\n",
      "监管         330\n",
      "资本市场       282\n",
      "公司内部管理     158\n",
      "其他相关报道      90\n",
      "产品销售        87\n",
      "Name: predict_label, dtype: int64\n",
      "-- day_select:  2018-12-10\n",
      "cbrc_flag： (178445, 3)\n",
      "cbrc_cor： (4009, 5)\n",
      "cbrc_uncor： (5005, 5)\n",
      "去重前： (9014, 5)\n",
      "去重后： (7650, 5)\n",
      "去空值后： (7650, 5)\n",
      "(7180, 7)\n",
      "噪音        2807\n",
      "行业        1412\n",
      "消费服务      1142\n",
      "监管         706\n",
      "资本市场       534\n",
      "公司内部管理     358\n",
      "其他相关报道     141\n",
      "产品销售        80\n",
      "Name: predict_label, dtype: int64\n",
      "-- day_select:  2018-12-11\n",
      "cbrc_flag： (179142, 3)\n",
      "cbrc_cor： (4140, 5)\n",
      "cbrc_uncor： (5005, 5)\n",
      "去重前： (9145, 5)\n",
      "去重后： (7861, 5)\n",
      "去空值后： (7861, 5)\n",
      "(7269, 7)\n",
      "噪音        2709\n",
      "行业        1455\n",
      "消费服务      1311\n",
      "资本市场       564\n",
      "监管         529\n",
      "公司内部管理     489\n",
      "其他相关报道     133\n",
      "产品销售        79\n",
      "Name: predict_label, dtype: int64\n",
      "-- day_select:  2018-12-12\n",
      "cbrc_flag： (173929, 3)\n",
      "cbrc_cor： (4298, 5)\n",
      "cbrc_uncor： (5004, 5)\n",
      "去重前： (9302, 5)\n",
      "去重后： (7995, 5)\n",
      "去空值后： (7995, 5)\n",
      "(7775, 7)\n",
      "噪音        2774\n",
      "行业        1865\n",
      "消费服务      1332\n",
      "资本市场       572\n",
      "监管         519\n",
      "公司内部管理     471\n",
      "其他相关报道     144\n",
      "产品销售        98\n",
      "Name: predict_label, dtype: int64\n",
      "-- day_select:  2018-12-13\n",
      "cbrc_flag： (180305, 3)\n",
      "cbrc_cor： (4541, 5)\n",
      "cbrc_uncor： (5005, 5)\n",
      "去重前： (9546, 5)\n",
      "去重后： (8288, 5)\n",
      "去空值后： (8288, 5)\n",
      "(7735, 7)\n",
      "噪音        2742\n",
      "行业        1705\n",
      "消费服务      1245\n",
      "监管         751\n",
      "资本市场       566\n",
      "公司内部管理     497\n",
      "其他相关报道     133\n",
      "产品销售        96\n",
      "Name: predict_label, dtype: int64\n",
      "-- day_select:  2018-12-14\n",
      "cbrc_flag： (170458, 3)\n",
      "cbrc_cor： (4598, 5)\n",
      "cbrc_uncor： (5004, 5)\n",
      "去重前： (9602, 5)\n",
      "去重后： (8495, 5)\n",
      "去空值后： (8495, 5)\n",
      "(8110, 7)\n",
      "噪音        3020\n",
      "行业        1664\n",
      "消费服务      1371\n",
      "监管         690\n",
      "公司内部管理     572\n",
      "资本市场       556\n",
      "其他相关报道     150\n",
      "产品销售        87\n",
      "Name: predict_label, dtype: int64\n",
      "-- day_select:  2018-12-15\n",
      "cbrc_flag： (99194, 3)\n",
      "cbrc_cor： (2138, 5)\n",
      "cbrc_uncor： (5005, 5)\n",
      "去重前： (7143, 5)\n",
      "去重后： (5541, 5)\n",
      "去空值后： (5541, 5)\n",
      "(5450, 7)\n",
      "噪音        2730\n",
      "消费服务       799\n",
      "行业         723\n",
      "监管         382\n",
      "资本市场       359\n",
      "公司内部管理     233\n",
      "其他相关报道     124\n",
      "产品销售       100\n",
      "Name: predict_label, dtype: int64\n",
      "-- day_select:  2018-12-16\n",
      "cbrc_flag： (78896, 3)\n",
      "cbrc_cor： (1412, 5)\n",
      "cbrc_uncor： (5004, 5)\n",
      "去重前： (6416, 5)\n",
      "去重后： (4773, 5)\n",
      "去空值后： (4773, 5)\n",
      "(4665, 7)\n",
      "噪音        2736\n",
      "消费服务       554\n",
      "行业         529\n",
      "资本市场       350\n",
      "监管         197\n",
      "公司内部管理     131\n",
      "产品销售        95\n",
      "其他相关报道      73\n",
      "Name: predict_label, dtype: int64\n",
      "-- day_select:  2018-12-17\n",
      "cbrc_flag： (176336, 3)\n",
      "cbrc_cor： (4330, 5)\n",
      "cbrc_uncor： (5005, 5)\n",
      "去重前： (9335, 5)\n",
      "去重后： (7879, 5)\n",
      "去空值后： (7879, 5)\n",
      "(7419, 7)\n",
      "噪音        2749\n",
      "行业        1489\n",
      "消费服务      1225\n",
      "监管         715\n",
      "资本市场       570\n",
      "公司内部管理     497\n",
      "其他相关报道      97\n",
      "产品销售        77\n",
      "Name: predict_label, dtype: int64\n",
      "-- day_select:  2018-12-18\n",
      "cbrc_flag： (50753, 3)\n",
      "cbrc_cor： (2243, 5)\n",
      "cbrc_uncor： (0, 5)\n",
      "去重前： (2243, 5)\n",
      "去重后： (2243, 5)\n",
      "去空值后： (2243, 5)\n",
      "(1999, 7)\n",
      "行业        829\n",
      "消费服务      611\n",
      "监管        327\n",
      "公司内部管理    232\n",
      "Name: predict_label, dtype: int64\n"
     ]
    }
   ],
   "source": [
    "for day_select in day_list:\n",
    "    print('-- day_select: ', day_select)\n",
    "    \n",
    "    # 获取八分类\n",
    "    sql_one_day = \"select t2.urlhash, t1.traffic_id, t2.title as title_1\\\n",
    "                        from wise_web_classify_traffic_docinfo t1, wise_web_docinfo_basic t2 \\\n",
    "                            where t1.base_id=t2.id \\\n",
    "                                  and date_format(t2.publishtime, '%%Y-%%m-%%d') = '{0}' \".format(day_select)\n",
    "    cbrc_flag = pd.read_sql(sql_one_day, engine)\n",
    "    print('cbrc_flag：', cbrc_flag.shape)\n",
    "    \n",
    "    # 相关数据\n",
    "    sql_one_day = \"select t1.urlhash, t1.title,t2.text as content, t1.group_id, t1.publishtime as publishtime \\\n",
    "                        from elint_web_docinfo t1, wise_web_docinfo_text t2 \\\n",
    "                            where t1.id=t2.doc_id \\\n",
    "                                  and t1.publishtime >= '{0} 08:00:00' \\\n",
    "                                  and t1.publishtime <= '{0} 14:00:00' \\\n",
    "                                group by t1.titlehash\".format(day_select)\n",
    "    # titlehash 去重后\n",
    "    cbrc_cor = pd.read_sql(sql_one_day, engine) \n",
    "    print('cbrc_cor：', cbrc_cor.shape)\n",
    "    \n",
    "    # 不相关数据\n",
    "    sql_cbrc_uncor = \"select urlhash, title, content, group_id, publishtime \\\n",
    "                            from wise_web_docinfo_uncor \\\n",
    "                            where date_format(publishtime, '%%Y-%%m-%%d') = '{0}'\".format(day_select)\n",
    "    cbrc_uncor = pd.read_sql(sql_cbrc_uncor, engine)  \n",
    "    print('cbrc_uncor：', cbrc_uncor.shape)\n",
    "\n",
    "    cbrc_data = pd.concat([cbrc_cor, cbrc_uncor], axis = 0)\n",
    "    print('去重前：', cbrc_data.shape)\n",
    "    cbrc_data = cbrc_data.drop_duplicates(subset = 'title')\n",
    "    print('去重后：', cbrc_data.shape)  \n",
    "    cbrc_data = cbrc_data.dropna(subset = ['content'], axis = 0)\n",
    "    print('去空值后：', cbrc_data.shape)  \n",
    "\n",
    "    cbrc_combined = pd.merge(cbrc_flag, cbrc_data, how = 'inner', on = 'urlhash')\n",
    "    cbrc_combined['predict_label'] = cbrc_combined['traffic_id'].apply(lambda x:class_name_dict[x])\n",
    "    cbrc_combined['group_id'] = cbrc_combined['group_id'].apply(lambda x:group_dict[str(x)])\n",
    "    cbrc_combined['label'] = ''\n",
    "    cbrc_combined = cbrc_combined[['urlhash', 'predict_label', 'label', 'title', 'content', 'group_id', 'publishtime']]\n",
    "    fea_filename = 'cbrc_result_class/result/cbrc_class_predict_mysql_%s.xlsx'%day_select\n",
    "    cbrc_combined.to_excel(fea_filename, index = False)\n",
    "    print(cbrc_combined.shape)\n",
    "    print(cbrc_combined['predict_label'].value_counts())\n",
    "    "
   ]
  },
  {
   "cell_type": "markdown",
   "metadata": {},
   "source": [
    "#### 合并 & 保存"
   ]
  },
  {
   "cell_type": "code",
   "execution_count": 17,
   "metadata": {
    "ExecuteTime": {
     "end_time": "2018-12-18T05:49:16.110271Z",
     "start_time": "2018-12-18T05:48:54.031008Z"
    }
   },
   "outputs": [
    {
     "name": "stdout",
     "output_type": "stream",
     "text": [
      "(124772, 7)\n",
      "去重前： (124772, 7)\n",
      "去重后： (115169, 7)\n",
      "去空值后： (114701, 7)\n",
      "噪音        43441\n",
      "消费服务      25144\n",
      "行业        19446\n",
      "监管         9922\n",
      "资本市场       7435\n",
      "公司内部管理     6084\n",
      "其他相关报道     1843\n",
      "产品销售       1386\n",
      "Name: predict_label, dtype: int64\n"
     ]
    },
    {
     "data": {
      "text/html": [
       "<div>\n",
       "<style scoped>\n",
       "    .dataframe tbody tr th:only-of-type {\n",
       "        vertical-align: middle;\n",
       "    }\n",
       "\n",
       "    .dataframe tbody tr th {\n",
       "        vertical-align: top;\n",
       "    }\n",
       "\n",
       "    .dataframe thead th {\n",
       "        text-align: right;\n",
       "    }\n",
       "</style>\n",
       "<table border=\"1\" class=\"dataframe\">\n",
       "  <thead>\n",
       "    <tr style=\"text-align: right;\">\n",
       "      <th></th>\n",
       "      <th>urlhash</th>\n",
       "      <th>predict_label</th>\n",
       "      <th>label</th>\n",
       "      <th>title</th>\n",
       "      <th>content</th>\n",
       "      <th>group_id</th>\n",
       "      <th>publishtime</th>\n",
       "    </tr>\n",
       "  </thead>\n",
       "  <tbody>\n",
       "    <tr>\n",
       "      <th>0</th>\n",
       "      <td>6750155780831993856</td>\n",
       "      <td>噪音</td>\n",
       "      <td>NaN</td>\n",
       "      <td>登高望远，牢牢把握世界经济正确方向</td>\n",
       "      <td>尊敬的马克里总统，\\n\\n\\n　　各位同事：\\n\\n　　今年是国际金融危机发生10周年，...</td>\n",
       "      <td>纸媒</td>\n",
       "      <td>2018-12-02 12:45:13</td>\n",
       "    </tr>\n",
       "    <tr>\n",
       "      <th>1</th>\n",
       "      <td>7404290198078509056</td>\n",
       "      <td>消费服务</td>\n",
       "      <td>NaN</td>\n",
       "      <td>首笔对泰跨境人民币贷款落地</td>\n",
       "      <td>广州日报讯（全媒体记者 林晓丽）记者昨日了解到，继今年3月份与菲律宾首都银行专项营运资金...</td>\n",
       "      <td>纸媒</td>\n",
       "      <td>2018-12-02 12:45:43</td>\n",
       "    </tr>\n",
       "  </tbody>\n",
       "</table>\n",
       "</div>"
      ],
      "text/plain": [
       "               urlhash predict_label  label              title  \\\n",
       "0  6750155780831993856            噪音    NaN  登高望远，牢牢把握世界经济正确方向   \n",
       "1  7404290198078509056          消费服务    NaN      首笔对泰跨境人民币贷款落地   \n",
       "\n",
       "                                             content group_id  \\\n",
       "0  　　尊敬的马克里总统，\\n\\n\\n　　各位同事：\\n\\n　　今年是国际金融危机发生10周年，...       纸媒   \n",
       "1  　　广州日报讯（全媒体记者 林晓丽）记者昨日了解到，继今年3月份与菲律宾首都银行专项营运资金...       纸媒   \n",
       "\n",
       "          publishtime  \n",
       "0 2018-12-02 12:45:13  \n",
       "1 2018-12-02 12:45:43  "
      ]
     },
     "execution_count": 17,
     "metadata": {},
     "output_type": "execute_result"
    }
   ],
   "source": [
    "combined_data = pd.DataFrame()\n",
    "for day_select in day_list:\n",
    "    tmp_data = pd.read_excel('cbrc_result_class/result/cbrc_class_predict_mysql_%s.xlsx'%day_select)\n",
    "    combined_data = pd.concat([combined_data, tmp_data], axis = 0)\n",
    "\n",
    "combined_data = combined_data[combined_data['predict_label'] != '补录']\n",
    "print(combined_data.shape)  \n",
    "print('去重前：', combined_data.shape)\n",
    "combined_data = combined_data.drop_duplicates(subset = 'title')\n",
    "print('去重后：', combined_data.shape)  \n",
    "combined_data = combined_data.dropna(subset = ['content'], axis = 0)\n",
    "print('去空值后：', combined_data.shape)  \n",
    "\n",
    "print(combined_data['predict_label'].value_counts())\n",
    "combined_data.iloc[:2, :]"
   ]
  },
  {
   "cell_type": "code",
   "execution_count": null,
   "metadata": {
    "ExecuteTime": {
     "end_time": "2018-11-12T05:37:37.756021Z",
     "start_time": "2018-11-12T05:37:36.778775Z"
    },
    "collapsed": true
   },
   "outputs": [],
   "source": [
    "fea_filename = 'cbrc_result_class/result/cbrc_class_predict_mysql_20181112(1106-1110).xlsx'\n",
    "# sel_col = ['噪音', '消费服务', '公司内部管理', '监管',\n",
    "#            '行业', '资本市场', '其他相关报道','产品销售']\n",
    "sel_col = ['公司内部管理', '监管', '行业', '产品销售']\n",
    "# sel_col = combined_data['predict_label'].unique().tolist()\n",
    "sel_data = combined_data[combined_data['predict_label'].isin(sel_col)]\n",
    "print(sel_data['predict_label'].value_counts())\n",
    "with pd.ExcelWriter(fea_filename) as writer:\n",
    "    for label in sel_data['predict_label'].unique():\n",
    "        tmp_data = sel_data[sel_data['predict_label'] == label]\n",
    "        if tmp_data.shape[0] > 300:\n",
    "            N = 300\n",
    "        else :\n",
    "            N = tmp_data.shape[0]\n",
    "        tmp_data.sample(n = N, axis = 0, random_state=42).to_excel(writer,label, index = False)\n",
    "    \n",
    "    writer.save()"
   ]
  },
  {
   "cell_type": "markdown",
   "metadata": {},
   "source": [
    "### 倾向性"
   ]
  },
  {
   "cell_type": "markdown",
   "metadata": {},
   "source": [
    "#### 获取数据"
   ]
  },
  {
   "cell_type": "code",
   "execution_count": 18,
   "metadata": {
    "ExecuteTime": {
     "end_time": "2018-12-18T07:19:52.863235Z",
     "start_time": "2018-12-18T05:51:37.225342Z"
    }
   },
   "outputs": [
    {
     "name": "stdout",
     "output_type": "stream",
     "text": [
      "-- day_select:  2018-12-02\n",
      "cbrc_flag： (136661, 3)\n",
      "cbrc_cor： (3096, 6)\n",
      "去重前： (3096, 6)\n",
      "去重后： (3096, 6)\n",
      "去空值后： (3096, 6)\n",
      "(3095, 8)\n",
      "predict_label  公司内部管理  消费服务   监管   行业   All\n",
      "tendency                                   \n",
      "-1                 25  1650   89  147  1911\n",
      "0                 120   131  353  580  1184\n",
      "All               145  1781  442  727  3095\n",
      "-- day_select:  2018-12-03\n",
      "cbrc_flag： (199498, 3)\n",
      "cbrc_cor： (5964, 6)\n",
      "去重前： (5964, 6)\n",
      "去重后： (5964, 6)\n",
      "去空值后： (5964, 6)\n",
      "(5880, 8)\n",
      "predict_label  公司内部管理  噪音  消费服务    监管    行业  资本市场   All\n",
      "tendency                                               \n",
      "-1                140   0  1870   175   321     0  2506\n",
      "0                 400   4   379  1119  1471     1  3374\n",
      "All               540   4  2249  1294  1792     1  5880\n",
      "-- day_select:  2018-12-04\n",
      "cbrc_flag： (213135, 3)\n",
      "cbrc_cor： (5996, 6)\n",
      "去重前： (5996, 6)\n",
      "去重后： (5996, 6)\n",
      "去空值后： (5996, 6)\n",
      "(5972, 8)\n",
      "predict_label  公司内部管理  噪音  消费服务   监管    行业   All\n",
      "tendency                                        \n",
      "-1                122   0  2508  136   265  3031\n",
      "0                 405   1   311  828  1396  2941\n",
      "All               527   1  2819  964  1661  5972\n",
      "-- day_select:  2018-12-05\n",
      "cbrc_flag： (216402, 3)\n",
      "cbrc_cor： (5618, 6)\n",
      "去重前： (5618, 6)\n",
      "去重后： (5618, 6)\n",
      "去空值后： (5618, 6)\n",
      "(5500, 8)\n",
      "predict_label  产品销售  公司内部管理  噪音  消费服务   监管    行业   All\n",
      "tendency                                              \n",
      "-1                0     115   0  2327  116   215  2773\n",
      "0                 1     320   2   323  845  1236  2727\n",
      "All               1     435   2  2650  961  1451  5500\n",
      "-- day_select:  2018-12-06\n",
      "cbrc_flag： (219173, 3)\n",
      "cbrc_cor： (5739, 6)\n",
      "去重前： (5739, 6)\n",
      "去重后： (5739, 6)\n",
      "去空值后： (5739, 6)\n",
      "(5361, 8)\n",
      "predict_label  公司内部管理  其他相关报道  噪音  消费服务   监管    行业  资本市场   All\n",
      "tendency                                                      \n",
      "-1                128       0   0  2023  127   228     0  2506\n",
      "0                 409       1   6   388  684  1365     2  2855\n",
      "All               537       1   6  2411  811  1593     2  5361\n",
      "-- day_select:  2018-12-07\n",
      "cbrc_flag： (216759, 3)\n",
      "cbrc_cor： (6076, 6)\n",
      "去重前： (6076, 6)\n",
      "去重后： (6076, 6)\n",
      "去空值后： (6076, 6)\n",
      "(5802, 8)\n",
      "predict_label  产品销售  公司内部管理  其他相关报道  噪音  消费服务   监管    行业  资本市场   All\n",
      "tendency                                                            \n",
      "-1                0     235       0   0  2284  239   241     1  3000\n",
      "0                 3     370       3  12   404  727  1281     1  2801\n",
      "1                 0       0       0   0     0    1     0     0     1\n",
      "All               3     605       3  12  2688  967  1522     2  5802\n",
      "-- day_select:  2018-12-08\n",
      "cbrc_flag： (145362, 3)\n",
      "cbrc_cor： (3329, 6)\n",
      "去重前： (3329, 6)\n",
      "去重后： (3329, 6)\n",
      "去空值后： (3329, 6)\n",
      "(3328, 8)\n",
      "predict_label  公司内部管理  消费服务   监管   行业  资本市场   All\n",
      "tendency                                         \n",
      "-1                 87  1309  211  181     0  1788\n",
      "0                 175   216  414  733     2  1540\n",
      "All               262  1525  625  914     2  3328\n",
      "-- day_select:  2018-12-09\n",
      "cbrc_flag： (118076, 3)\n",
      "cbrc_cor： (2402, 6)\n",
      "去重前： (2402, 6)\n",
      "去重后： (2402, 6)\n",
      "去空值后： (2402, 6)\n",
      "(2402, 8)\n",
      "predict_label  公司内部管理  消费服务   监管   行业   All\n",
      "tendency                                   \n",
      "-1                 61   929   89  109  1188\n",
      "0                  97   144  241  732  1214\n",
      "All               158  1073  330  841  2402\n",
      "-- day_select:  2018-12-10\n",
      "cbrc_flag： (178445, 3)\n",
      "cbrc_cor： (4009, 6)\n",
      "去重前： (4009, 6)\n",
      "去重后： (4009, 6)\n",
      "去空值后： (4009, 6)\n",
      "(3618, 8)\n",
      "predict_label  公司内部管理  消费服务   监管    行业   All\n",
      "tendency                                    \n",
      "-1                 88   928  182   201  1399\n",
      "0                 270   214  524  1211  2219\n",
      "All               358  1142  706  1412  3618\n",
      "-- day_select:  2018-12-11\n",
      "cbrc_flag： (179183, 3)\n",
      "cbrc_cor： (4140, 6)\n",
      "去重前： (4140, 6)\n",
      "去重后： (4140, 6)\n",
      "去空值后： (4140, 6)\n",
      "(3785, 8)\n",
      "predict_label  公司内部管理  噪音  消费服务   监管    行业   All\n",
      "tendency                                        \n",
      "-1                149   0  1051  109   213  1522\n",
      "0                 340   1   260  420  1242  2263\n",
      "All               489   1  1311  529  1455  3785\n",
      "-- day_select:  2018-12-12\n",
      "cbrc_flag： (174071, 3)\n",
      "cbrc_cor： (4299, 6)\n",
      "去重前： (4299, 6)\n",
      "去重后： (4299, 6)\n",
      "去空值后： (4299, 6)\n",
      "(4188, 8)\n",
      "predict_label  公司内部管理  消费服务   监管    行业   All\n",
      "tendency                                    \n",
      "-1                129  1080  107   209  1525\n",
      "0                 342   252  413  1656  2663\n",
      "All               471  1332  520  1865  4188\n",
      "-- day_select:  2018-12-13\n",
      "cbrc_flag： (180497, 3)\n",
      "cbrc_cor： (4546, 6)\n",
      "去重前： (4546, 6)\n",
      "去重后： (4546, 6)\n",
      "去空值后： (4546, 6)\n",
      "(4203, 8)\n",
      "predict_label  公司内部管理  消费服务   监管    行业  资本市场   All\n",
      "tendency                                          \n",
      "-1                135   967  111   202     0  1415\n",
      "0                 362   281  640  1504     1  2788\n",
      "All               497  1248  751  1706     1  4203\n",
      "-- day_select:  2018-12-14\n",
      "cbrc_flag： (170888, 3)\n",
      "cbrc_cor： (4600, 6)\n",
      "去重前： (4600, 6)\n",
      "去重后： (4600, 6)\n",
      "去空值后： (4600, 6)\n",
      "(4300, 8)\n",
      "predict_label  公司内部管理  消费服务   监管    行业  资本市场   All\n",
      "tendency                                          \n",
      "-1                141  1121   89   158     0  1509\n",
      "0                 431   250  601  1507     2  2791\n",
      "All               572  1371  690  1665     2  4300\n",
      "-- day_select:  2018-12-15\n",
      "cbrc_flag： (99494, 3)\n",
      "cbrc_cor： (2138, 6)\n",
      "去重前： (2138, 6)\n",
      "去重后： (2138, 6)\n",
      "去空值后： (2138, 6)\n",
      "(2138, 8)\n",
      "predict_label  公司内部管理  消费服务   监管   行业  资本市场   All\n",
      "tendency                                         \n",
      "-1                 43   644   50  113     0   850\n",
      "0                 190   155  332  610     1  1288\n",
      "All               233   799  382  723     1  2138\n",
      "-- day_select:  2018-12-16\n",
      "cbrc_flag： (79204, 3)\n",
      "cbrc_cor： (1415, 6)\n",
      "去重前： (1415, 6)\n",
      "去重后： (1415, 6)\n",
      "去空值后： (1415, 6)\n",
      "(1415, 8)\n",
      "predict_label  公司内部管理  噪音  消费服务   监管   行业   All\n",
      "tendency                                       \n",
      "-1                 31   0   472   23   76   602\n",
      "0                 100   1    83  174  455   813\n",
      "All               131   1   555  197  531  1415\n",
      "-- day_select:  2018-12-17\n",
      "cbrc_flag： (178019, 3)\n",
      "cbrc_cor： (4343, 6)\n",
      "去重前： (4343, 6)\n",
      "去重后： (4343, 6)\n",
      "去空值后： (4343, 6)\n",
      "(3940, 8)\n",
      "predict_label  产品销售  公司内部管理  消费服务   监管    行业   All\n",
      "tendency                                          \n",
      "-1                0     191  1007   88   183  1469\n",
      "0                 1     309   222  629  1310  2471\n",
      "All               1     500  1229  717  1493  3940\n",
      "-- day_select:  2018-12-18\n",
      "cbrc_flag： (68281, 3)\n",
      "cbrc_cor： (3115, 6)\n",
      "去重前： (3115, 6)\n",
      "去重后： (3115, 6)\n",
      "去空值后： (3115, 6)\n",
      "(2717, 8)\n",
      "predict_label  公司内部管理  消费服务   监管    行业   All\n",
      "tendency                                    \n",
      "-1                 76   711   51   197  1035\n",
      "0                 241   179  379   883  1682\n",
      "All               317   890  430  1080  2717\n"
     ]
    }
   ],
   "source": [
    "for day_select in day_list:\n",
    "    print('-- day_select: ', day_select)\n",
    "    \n",
    "    # 获取八分类\n",
    "    sql_one_day = \"select t2.urlhash, t1.traffic_id, t2.title as title_1\\\n",
    "                        from wise_web_classify_traffic_docinfo t1, wise_web_docinfo_basic t2 \\\n",
    "                            where t1.base_id=t2.id \\\n",
    "                                  and date_format(t2.publishtime, '%%Y-%%m-%%d') = '{0}' \".format(day_select)\n",
    "    cbrc_flag = pd.read_sql(sql_one_day, engine)\n",
    "    print('cbrc_flag：', cbrc_flag.shape)\n",
    "    \n",
    "    # 相关数据\n",
    "    sql_one_day = \"select t1.urlhash, t1.title,t2.text as content, t1.group_id, \\\n",
    "                            t1.sen as tendency, t1.publishtime as publishtime \\\n",
    "                        from elint_web_docinfo t1, wise_web_docinfo_text t2 \\\n",
    "                            where t1.id=t2.doc_id \\\n",
    "                                  and t1.publishtime >= '{0} 08:00:00' \\\n",
    "                                  and t1.publishtime <= '{0} 14:00:00' \\\n",
    "                                group by t1.titlehash\".format(day_select)\n",
    "    # titlehash 去重后\n",
    "    cbrc_cor = pd.read_sql(sql_one_day, engine) \n",
    "    print('cbrc_cor：', cbrc_cor.shape)\n",
    "\n",
    "    cbrc_data = cbrc_cor\n",
    "    print('去重前：', cbrc_data.shape)\n",
    "    cbrc_data = cbrc_data.drop_duplicates(subset = 'title')\n",
    "    print('去重后：', cbrc_data.shape)  \n",
    "    cbrc_data = cbrc_data.dropna(subset = ['content'], axis = 0)\n",
    "    print('去空值后：', cbrc_data.shape)  \n",
    "\n",
    "    cbrc_combined = pd.merge(cbrc_flag, cbrc_data, how = 'inner', on = 'urlhash')\n",
    "    cbrc_combined['predict_label'] = cbrc_combined['traffic_id'].apply(lambda x:class_name_dict[x])\n",
    "    cbrc_combined['group_id'] = cbrc_combined['group_id'].apply(lambda x:group_dict[str(x)])\n",
    "    cbrc_combined['label'] = ''\n",
    "    cbrc_combined = cbrc_combined[['urlhash', 'group_id', 'predict_label', 'tendency', \n",
    "                                   'label', 'title', 'content', 'publishtime']]\n",
    "    fea_filename = 'cbrc_result_tendency/result/cbrc_tendency_predict_mysql_%s.xlsx'%day_select\n",
    "    cbrc_combined.to_excel(fea_filename, index = False)\n",
    "    print(cbrc_combined.shape)\n",
    "    print(cbrc_combined.pivot_table(index = ['tendency'], columns = ['predict_label'], \n",
    "                          values = 'title', aggfunc=len, \n",
    "                          fill_value=0, margins=True))\n",
    "    "
   ]
  },
  {
   "cell_type": "markdown",
   "metadata": {},
   "source": [
    "#### 合并 & 保存"
   ]
  },
  {
   "cell_type": "code",
   "execution_count": 24,
   "metadata": {
    "ExecuteTime": {
     "end_time": "2018-12-18T07:24:44.949942Z",
     "start_time": "2018-12-18T07:24:41.916768Z"
    }
   },
   "outputs": [
    {
     "name": "stdout",
     "output_type": "stream",
     "text": [
      "(20447, 8)\n",
      "去重前： (20447, 8)\n",
      "去重后： (19399, 8)\n",
      "去空值后： (19397, 8)\n",
      "-1    9859\n",
      " 0    9538\n",
      "Name: tendency, dtype: int64\n"
     ]
    },
    {
     "data": {
      "text/html": [
       "<div>\n",
       "<style scoped>\n",
       "    .dataframe tbody tr th:only-of-type {\n",
       "        vertical-align: middle;\n",
       "    }\n",
       "\n",
       "    .dataframe tbody tr th {\n",
       "        vertical-align: top;\n",
       "    }\n",
       "\n",
       "    .dataframe thead th {\n",
       "        text-align: right;\n",
       "    }\n",
       "</style>\n",
       "<table border=\"1\" class=\"dataframe\">\n",
       "  <thead>\n",
       "    <tr style=\"text-align: right;\">\n",
       "      <th></th>\n",
       "      <th>predict_label</th>\n",
       "      <th>产品销售</th>\n",
       "      <th>公司内部管理</th>\n",
       "      <th>噪音</th>\n",
       "      <th>消费服务</th>\n",
       "      <th>监管</th>\n",
       "      <th>行业</th>\n",
       "      <th>资本市场</th>\n",
       "      <th>All</th>\n",
       "    </tr>\n",
       "    <tr>\n",
       "      <th>tendency</th>\n",
       "      <th>group_id</th>\n",
       "      <th></th>\n",
       "      <th></th>\n",
       "      <th></th>\n",
       "      <th></th>\n",
       "      <th></th>\n",
       "      <th></th>\n",
       "      <th></th>\n",
       "      <th></th>\n",
       "    </tr>\n",
       "  </thead>\n",
       "  <tbody>\n",
       "    <tr>\n",
       "      <th rowspan=\"8\" valign=\"top\">-1</th>\n",
       "      <th>博客</th>\n",
       "      <td>0</td>\n",
       "      <td>1</td>\n",
       "      <td>0</td>\n",
       "      <td>274</td>\n",
       "      <td>3</td>\n",
       "      <td>18</td>\n",
       "      <td>0</td>\n",
       "      <td>296</td>\n",
       "    </tr>\n",
       "    <tr>\n",
       "      <th>外媒</th>\n",
       "      <td>0</td>\n",
       "      <td>0</td>\n",
       "      <td>0</td>\n",
       "      <td>2</td>\n",
       "      <td>1</td>\n",
       "      <td>1</td>\n",
       "      <td>0</td>\n",
       "      <td>4</td>\n",
       "    </tr>\n",
       "    <tr>\n",
       "      <th>微信</th>\n",
       "      <td>0</td>\n",
       "      <td>16</td>\n",
       "      <td>0</td>\n",
       "      <td>625</td>\n",
       "      <td>66</td>\n",
       "      <td>137</td>\n",
       "      <td>0</td>\n",
       "      <td>844</td>\n",
       "    </tr>\n",
       "    <tr>\n",
       "      <th>微博</th>\n",
       "      <td>0</td>\n",
       "      <td>17</td>\n",
       "      <td>0</td>\n",
       "      <td>4224</td>\n",
       "      <td>68</td>\n",
       "      <td>29</td>\n",
       "      <td>0</td>\n",
       "      <td>4338</td>\n",
       "    </tr>\n",
       "    <tr>\n",
       "      <th>新闻</th>\n",
       "      <td>0</td>\n",
       "      <td>314</td>\n",
       "      <td>0</td>\n",
       "      <td>2466</td>\n",
       "      <td>286</td>\n",
       "      <td>592</td>\n",
       "      <td>0</td>\n",
       "      <td>3658</td>\n",
       "    </tr>\n",
       "    <tr>\n",
       "      <th>新闻客户端</th>\n",
       "      <td>0</td>\n",
       "      <td>28</td>\n",
       "      <td>0</td>\n",
       "      <td>422</td>\n",
       "      <td>35</td>\n",
       "      <td>80</td>\n",
       "      <td>0</td>\n",
       "      <td>565</td>\n",
       "    </tr>\n",
       "    <tr>\n",
       "      <th>纸媒</th>\n",
       "      <td>0</td>\n",
       "      <td>6</td>\n",
       "      <td>0</td>\n",
       "      <td>76</td>\n",
       "      <td>11</td>\n",
       "      <td>18</td>\n",
       "      <td>0</td>\n",
       "      <td>111</td>\n",
       "    </tr>\n",
       "    <tr>\n",
       "      <th>论坛</th>\n",
       "      <td>0</td>\n",
       "      <td>6</td>\n",
       "      <td>0</td>\n",
       "      <td>34</td>\n",
       "      <td>2</td>\n",
       "      <td>1</td>\n",
       "      <td>0</td>\n",
       "      <td>43</td>\n",
       "    </tr>\n",
       "    <tr>\n",
       "      <th rowspan=\"8\" valign=\"top\">0</th>\n",
       "      <th>博客</th>\n",
       "      <td>0</td>\n",
       "      <td>9</td>\n",
       "      <td>0</td>\n",
       "      <td>25</td>\n",
       "      <td>18</td>\n",
       "      <td>66</td>\n",
       "      <td>0</td>\n",
       "      <td>118</td>\n",
       "    </tr>\n",
       "    <tr>\n",
       "      <th>外媒</th>\n",
       "      <td>0</td>\n",
       "      <td>1</td>\n",
       "      <td>0</td>\n",
       "      <td>4</td>\n",
       "      <td>6</td>\n",
       "      <td>5</td>\n",
       "      <td>0</td>\n",
       "      <td>16</td>\n",
       "    </tr>\n",
       "    <tr>\n",
       "      <th>微信</th>\n",
       "      <td>0</td>\n",
       "      <td>72</td>\n",
       "      <td>0</td>\n",
       "      <td>83</td>\n",
       "      <td>494</td>\n",
       "      <td>476</td>\n",
       "      <td>0</td>\n",
       "      <td>1125</td>\n",
       "    </tr>\n",
       "    <tr>\n",
       "      <th>微博</th>\n",
       "      <td>1</td>\n",
       "      <td>13</td>\n",
       "      <td>6</td>\n",
       "      <td>173</td>\n",
       "      <td>78</td>\n",
       "      <td>48</td>\n",
       "      <td>1</td>\n",
       "      <td>320</td>\n",
       "    </tr>\n",
       "    <tr>\n",
       "      <th>新闻</th>\n",
       "      <td>0</td>\n",
       "      <td>922</td>\n",
       "      <td>1</td>\n",
       "      <td>662</td>\n",
       "      <td>2003</td>\n",
       "      <td>3210</td>\n",
       "      <td>0</td>\n",
       "      <td>6798</td>\n",
       "    </tr>\n",
       "    <tr>\n",
       "      <th>新闻客户端</th>\n",
       "      <td>0</td>\n",
       "      <td>76</td>\n",
       "      <td>0</td>\n",
       "      <td>100</td>\n",
       "      <td>252</td>\n",
       "      <td>441</td>\n",
       "      <td>0</td>\n",
       "      <td>869</td>\n",
       "    </tr>\n",
       "    <tr>\n",
       "      <th>纸媒</th>\n",
       "      <td>0</td>\n",
       "      <td>69</td>\n",
       "      <td>0</td>\n",
       "      <td>39</td>\n",
       "      <td>59</td>\n",
       "      <td>103</td>\n",
       "      <td>0</td>\n",
       "      <td>270</td>\n",
       "    </tr>\n",
       "    <tr>\n",
       "      <th>论坛</th>\n",
       "      <td>0</td>\n",
       "      <td>7</td>\n",
       "      <td>0</td>\n",
       "      <td>4</td>\n",
       "      <td>4</td>\n",
       "      <td>7</td>\n",
       "      <td>0</td>\n",
       "      <td>22</td>\n",
       "    </tr>\n",
       "    <tr>\n",
       "      <th>All</th>\n",
       "      <th></th>\n",
       "      <td>1</td>\n",
       "      <td>1557</td>\n",
       "      <td>7</td>\n",
       "      <td>9213</td>\n",
       "      <td>3386</td>\n",
       "      <td>5232</td>\n",
       "      <td>1</td>\n",
       "      <td>19397</td>\n",
       "    </tr>\n",
       "  </tbody>\n",
       "</table>\n",
       "</div>"
      ],
      "text/plain": [
       "predict_label      产品销售  公司内部管理  噪音  消费服务    监管    行业  资本市场    All\n",
       "tendency group_id                                                 \n",
       "-1       博客           0       1   0   274     3    18     0    296\n",
       "         外媒           0       0   0     2     1     1     0      4\n",
       "         微信           0      16   0   625    66   137     0    844\n",
       "         微博           0      17   0  4224    68    29     0   4338\n",
       "         新闻           0     314   0  2466   286   592     0   3658\n",
       "         新闻客户端        0      28   0   422    35    80     0    565\n",
       "         纸媒           0       6   0    76    11    18     0    111\n",
       "         论坛           0       6   0    34     2     1     0     43\n",
       "0        博客           0       9   0    25    18    66     0    118\n",
       "         外媒           0       1   0     4     6     5     0     16\n",
       "         微信           0      72   0    83   494   476     0   1125\n",
       "         微博           1      13   6   173    78    48     1    320\n",
       "         新闻           0     922   1   662  2003  3210     0   6798\n",
       "         新闻客户端        0      76   0   100   252   441     0    869\n",
       "         纸媒           0      69   0    39    59   103     0    270\n",
       "         论坛           0       7   0     4     4     7     0     22\n",
       "All                   1    1557   7  9213  3386  5232     1  19397"
      ]
     },
     "execution_count": 24,
     "metadata": {},
     "output_type": "execute_result"
    }
   ],
   "source": [
    "combined_data = pd.DataFrame()\n",
    "for day_select in day_list:\n",
    "    tmp_data = pd.read_excel('cbrc_result_tendency/result/cbrc_tendency_predict_mysql_%s.xlsx'%day_select)\n",
    "    combined_data = pd.concat([combined_data, tmp_data], axis = 0)\n",
    "\n",
    "combined_data = combined_data[combined_data['predict_label'] != '补录']\n",
    "# sel_col = [ '消费服务', '公司内部管理', '监管','行业']\n",
    "# sel_col = ['噪音', '消费服务', '公司内部管理', '监管',\n",
    "#            '行业', '资本市场', '其他相关报道','产品销售']\n",
    "# sel_col = ['公司内部管理', '监管', '行业', '产品销售']\n",
    "sel_col = combined_data['predict_label'].unique().tolist()\n",
    "\n",
    "combined_data = combined_data[combined_data['predict_label'].isin(sel_col)]\n",
    "print(combined_data.shape)  \n",
    "print('去重前：', combined_data.shape)\n",
    "combined_data = combined_data.drop_duplicates(subset = 'title')\n",
    "print('去重后：', combined_data.shape)  \n",
    "combined_data = combined_data.dropna(subset = ['content'], axis = 0)\n",
    "print('去空值后：', combined_data.shape)  \n",
    "\n",
    "print(combined_data['tendency'].value_counts())\n",
    "combined_data.pivot_table(index = ['tendency', 'group_id'], \n",
    "                                columns = ['predict_label'], \n",
    "                                values = 'title', aggfunc=len, \n",
    "                                fill_value=0, margins=True)\n",
    "# combined_data.iloc[:2, :]"
   ]
  },
  {
   "cell_type": "code",
   "execution_count": 25,
   "metadata": {
    "ExecuteTime": {
     "end_time": "2018-12-18T07:26:43.418718Z",
     "start_time": "2018-12-18T07:26:41.821626Z"
    }
   },
   "outputs": [
    {
     "name": "stdout",
     "output_type": "stream",
     "text": [
      "-1    9859\n",
      " 0    9538\n",
      "Name: tendency, dtype: int64\n",
      "正负各 1000 条，共 7 类， 每类各 342 条\n",
      "tendency: -1, predict_label: 消费服务, size: (342, 8)\n",
      "tendency: -1, predict_label: 行业, size: (684, 8)\n",
      "tendency: -1, predict_label: 公司内部管理, size: (1026, 8)\n",
      "tendency: -1, predict_label: 监管, size: (1368, 8)\n",
      "tendency: -1, predict_label: 噪音, size: (1368, 8)\n",
      "tendency: -1, predict_label: 资本市场, size: (1368, 8)\n",
      "tendency: -1, predict_label: 产品销售, size: (1368, 8)\n",
      "predict_label  公司内部管理  消费服务   监管   行业   All\n",
      "tendency                                   \n",
      "-1                252   243  258  247  1000\n",
      "All               252   243  258  247  1000\n",
      "tendency: 0, predict_label: 消费服务, size: (342, 8)\n",
      "tendency: 0, predict_label: 行业, size: (684, 8)\n",
      "tendency: 0, predict_label: 公司内部管理, size: (1026, 8)\n",
      "tendency: 0, predict_label: 监管, size: (1368, 8)\n",
      "tendency: 0, predict_label: 噪音, size: (1375, 8)\n",
      "tendency: 0, predict_label: 资本市场, size: (1376, 8)\n",
      "tendency: 0, predict_label: 产品销售, size: (1377, 8)\n",
      "predict_label  产品销售  公司内部管理  噪音  消费服务   监管   行业  资本市场   All\n",
      "tendency                                                   \n",
      "0                 1     252   4   243  254  245     1  1000\n",
      "All               1     252   4   243  254  245     1  1000\n"
     ]
    }
   ],
   "source": [
    "fea_filename = 'cbrc_result_tendency/result/cbrc_tendency_predict_mysql_20181218(1202-1205).xlsx'\n",
    "print(combined_data['tendency'].value_counts())\n",
    "\n",
    "N = 1000 # 每类 N 条数据\n",
    "class_n = int(combined_data['predict_label'].unique().shape[0])\n",
    "n = int(N / class_n) + 200\n",
    "\n",
    "print('正负各 %s 条，共 %s 类， 每类各 %s 条'%(N, class_n, n))\n",
    "with pd.ExcelWriter(fea_filename) as writer:\n",
    "    for tendency in combined_data['tendency'].unique():\n",
    "        tmp_data = pd.DataFrame()\n",
    "        sel_data = combined_data[combined_data['tendency'] == tendency]        \n",
    "        for predict_label in combined_data['predict_label'].unique():\n",
    "            label_data = sel_data[sel_data['predict_label'] == predict_label]\n",
    "            if label_data.shape[0] > n:\n",
    "                sel_label_data = label_data.sample(n = n, axis = 0, random_state=3)\n",
    "            else :\n",
    "                sel_label_data = label_data\n",
    "            tmp_data = pd.concat([tmp_data, sel_label_data], axis = 0)        \n",
    "            print('tendency: %s, predict_label: %s, size: %s'%(tendency, predict_label, tmp_data.shape))\n",
    "        \n",
    "        if tmp_data.shape[0] > N:\n",
    "            t_n = N\n",
    "        else :\n",
    "            t_n = tmp_data.shape[0]\n",
    "        \n",
    "        tmp_data = tmp_data.sample(n = N, axis = 0, random_state=3)\n",
    "        tmp_data.to_excel(writer,str(tendency), index = False)\n",
    "        print(tmp_data.pivot_table(index = ['tendency'], \n",
    "                                    columns = ['predict_label'], \n",
    "                                    values = 'title', aggfunc=len, \n",
    "                                    fill_value=0, margins=True))    \n",
    "    writer.save()"
   ]
  },
  {
   "cell_type": "markdown",
   "metadata": {},
   "source": [
    "### 补录数据"
   ]
  },
  {
   "cell_type": "code",
   "execution_count": 20,
   "metadata": {
    "ExecuteTime": {
     "end_time": "2018-12-04T01:39:49.448143Z",
     "start_time": "2018-12-04T01:39:41.537690Z"
    }
   },
   "outputs": [
    {
     "name": "stdout",
     "output_type": "stream",
     "text": [
      "title 去重前： (3334, 7)\n",
      "title 去重后： (3334, 7)\n",
      "content 去重后： (3334, 7)\n",
      "title 去空值后： (3334, 7)\n"
     ]
    },
    {
     "data": {
      "text/html": [
       "<div>\n",
       "<style scoped>\n",
       "    .dataframe tbody tr th:only-of-type {\n",
       "        vertical-align: middle;\n",
       "    }\n",
       "\n",
       "    .dataframe tbody tr th {\n",
       "        vertical-align: top;\n",
       "    }\n",
       "\n",
       "    .dataframe thead th {\n",
       "        text-align: right;\n",
       "    }\n",
       "</style>\n",
       "<table border=\"1\" class=\"dataframe\">\n",
       "  <thead>\n",
       "    <tr style=\"text-align: right;\">\n",
       "      <th></th>\n",
       "      <th>id</th>\n",
       "      <th>group_id</th>\n",
       "      <th>publishtime</th>\n",
       "      <th>gather_type</th>\n",
       "      <th>tendency</th>\n",
       "      <th>title</th>\n",
       "      <th>content</th>\n",
       "    </tr>\n",
       "  </thead>\n",
       "  <tbody>\n",
       "    <tr>\n",
       "      <th>0</th>\n",
       "      <td>267289612</td>\n",
       "      <td>微博</td>\n",
       "      <td>2018-10-31 12:11:44</td>\n",
       "      <td>1</td>\n",
       "      <td>-1</td>\n",
       "      <td>24号没叫取了28号给我 26号后直接跳到了32号 @中国工商银行 麻烦请加强下底层工作人员...</td>\n",
       "      <td>24号没叫取了28号给我\\n26号后直接跳到了32号\\n@中国工商银行 麻烦请加强下底层工作...</td>\n",
       "    </tr>\n",
       "    <tr>\n",
       "      <th>1</th>\n",
       "      <td>266932412</td>\n",
       "      <td>微博</td>\n",
       "      <td>2018-10-30 11:46:06</td>\n",
       "      <td>1</td>\n",
       "      <td>-1</td>\n",
       "      <td>#魔法万圣节# 在建行庆祝万圣节 各种暂停服务 没人的情况下等待二十分钟 后边的一个叔叔等待...</td>\n",
       "      <td>#魔法万圣节# 在建行庆祝万圣节 各种暂停服务 没人的情况下等待二十分钟 后边的一个叔叔等待...</td>\n",
       "    </tr>\n",
       "    <tr>\n",
       "      <th>2</th>\n",
       "      <td>249135456</td>\n",
       "      <td>微博</td>\n",
       "      <td>2018-09-28 10:31:29</td>\n",
       "      <td>1</td>\n",
       "      <td>-1</td>\n",
       "      <td>工商银行的服务真是稀烂！不是财大气粗吗？从工作人员的业务熟悉度到业务平台系统都是渣渣！</td>\n",
       "      <td>工商银行的服务真是稀烂！不是财大气粗吗？从工作人员的业务熟悉度到业务平台系统都是渣渣！</td>\n",
       "    </tr>\n",
       "    <tr>\n",
       "      <th>3</th>\n",
       "      <td>263284185</td>\n",
       "      <td>微信</td>\n",
       "      <td>2018-10-17 00:00:00</td>\n",
       "      <td>1</td>\n",
       "      <td>-1</td>\n",
       "      <td>老牌长租公寓也摊事儿！雷军等明星投资人加持却也难逃一劫，年内已有5家爆雷</td>\n",
       "      <td>(图片)\\n\\n(图片)\\n\\n长租公寓又“摊上事儿”了。\\n\\n上海老牌长租公寓  寓见...</td>\n",
       "    </tr>\n",
       "    <tr>\n",
       "      <th>4</th>\n",
       "      <td>269162185</td>\n",
       "      <td>微博</td>\n",
       "      <td>2018-11-06 20:42:00</td>\n",
       "      <td>1</td>\n",
       "      <td>-1</td>\n",
       "      <td>不得不表扬下@招商银行信用卡 了，前几天在...</td>\n",
       "      <td>不得不表扬下\\n@招商银行信用卡\\n 了，前几天在苏格兰玩儿弄丢了卡，发现可以直接打开手机...</td>\n",
       "    </tr>\n",
       "  </tbody>\n",
       "</table>\n",
       "</div>"
      ],
      "text/plain": [
       "          id group_id         publishtime  gather_type  tendency  \\\n",
       "0  267289612       微博 2018-10-31 12:11:44            1        -1   \n",
       "1  266932412       微博 2018-10-30 11:46:06            1        -1   \n",
       "2  249135456       微博 2018-09-28 10:31:29            1        -1   \n",
       "3  263284185       微信 2018-10-17 00:00:00            1        -1   \n",
       "4  269162185       微博 2018-11-06 20:42:00            1        -1   \n",
       "\n",
       "                                               title  \\\n",
       "0  24号没叫取了28号给我 26号后直接跳到了32号 @中国工商银行 麻烦请加强下底层工作人员...   \n",
       "1  #魔法万圣节# 在建行庆祝万圣节 各种暂停服务 没人的情况下等待二十分钟 后边的一个叔叔等待...   \n",
       "2        工商银行的服务真是稀烂！不是财大气粗吗？从工作人员的业务熟悉度到业务平台系统都是渣渣！   \n",
       "3               老牌长租公寓也摊事儿！雷军等明星投资人加持却也难逃一劫，年内已有5家爆雷   \n",
       "4                           不得不表扬下@招商银行信用卡 了，前几天在...   \n",
       "\n",
       "                                             content  \n",
       "0  24号没叫取了28号给我\\n26号后直接跳到了32号\\n@中国工商银行 麻烦请加强下底层工作...  \n",
       "1  #魔法万圣节# 在建行庆祝万圣节 各种暂停服务 没人的情况下等待二十分钟 后边的一个叔叔等待...  \n",
       "2        工商银行的服务真是稀烂！不是财大气粗吗？从工作人员的业务熟悉度到业务平台系统都是渣渣！  \n",
       "3   (图片)\\n\\n(图片)\\n\\n长租公寓又“摊上事儿”了。\\n\\n上海老牌长租公寓  寓见...  \n",
       "4   不得不表扬下\\n@招商银行信用卡\\n 了，前几天在苏格兰玩儿弄丢了卡，发现可以直接打开手机...  "
      ]
     },
     "execution_count": 20,
     "metadata": {},
     "output_type": "execute_result"
    }
   ],
   "source": [
    "# 人工补录\n",
    "sql_one_day = \"select t1.id, t1.group_id, t1.publishtime as publishtime, t1.gather_type, \\\n",
    "                    t1.sen as tendency, t1.title,t2.text as content \\\n",
    "                    from elint_web_docinfo t1, wise_web_docinfo_text t2 \\\n",
    "                        where t1.id=t2.doc_id \\\n",
    "                              and t1.publishtime >= '{0} 00:00:00' \\\n",
    "                              and t1.publishtime <= '{1} 23:59:59' \\\n",
    "                              and t1.gather_type in (1,3) \\\n",
    "                            group by t1.titlehash\".format('2018-09-01', '2018-12-03')\n",
    "# titlehash 去重后\n",
    "human_additional = pd.read_sql(sql_one_day, engine) \n",
    "human_additional['group_id'] = human_additional['group_id'].apply(lambda x:group_dict[str(x)])\n",
    "print('title 去重前：', human_additional.shape)\n",
    "human_additional = human_additional.drop_duplicates(subset = 'title')\n",
    "print('title 去重后：', human_additional.shape)  \n",
    "human_additional = human_additional.drop_duplicates(subset = ['content'])\n",
    "print('content 去重后：', human_additional.shape)  \n",
    "human_additional = human_additional.dropna(subset = ['title'], axis = 0)\n",
    "print('title 去空值后：', human_additional.shape) \n",
    "human_additional.head()"
   ]
  },
  {
   "cell_type": "code",
   "execution_count": 21,
   "metadata": {
    "ExecuteTime": {
     "end_time": "2018-12-04T01:41:39.411432Z",
     "start_time": "2018-12-04T01:39:59.952744Z"
    }
   },
   "outputs": [
    {
     "name": "stdout",
     "output_type": "stream",
     "text": [
      "消费服务      2366\n",
      "行业         290\n",
      "噪音         252\n",
      "资本市场       131\n",
      "监管         103\n",
      "公司内部管理     101\n",
      "产品销售        80\n",
      "其他相关报道      11\n",
      "Name: predict_label, dtype: int64\n"
     ]
    },
    {
     "data": {
      "text/html": [
       "<div>\n",
       "<style scoped>\n",
       "    .dataframe tbody tr th:only-of-type {\n",
       "        vertical-align: middle;\n",
       "    }\n",
       "\n",
       "    .dataframe tbody tr th {\n",
       "        vertical-align: top;\n",
       "    }\n",
       "\n",
       "    .dataframe thead th {\n",
       "        text-align: right;\n",
       "    }\n",
       "</style>\n",
       "<table border=\"1\" class=\"dataframe\">\n",
       "  <thead>\n",
       "    <tr style=\"text-align: right;\">\n",
       "      <th></th>\n",
       "      <th>id</th>\n",
       "      <th>group_id</th>\n",
       "      <th>publishtime</th>\n",
       "      <th>gather_type</th>\n",
       "      <th>tendency</th>\n",
       "      <th>label</th>\n",
       "      <th>title</th>\n",
       "      <th>content</th>\n",
       "      <th>predict_label</th>\n",
       "    </tr>\n",
       "  </thead>\n",
       "  <tbody>\n",
       "    <tr>\n",
       "      <th>0</th>\n",
       "      <td>267289612</td>\n",
       "      <td>微博</td>\n",
       "      <td>2018-10-31 12:11:44</td>\n",
       "      <td>1</td>\n",
       "      <td>-1</td>\n",
       "      <td></td>\n",
       "      <td>24号没叫取了28号给我 26号后直接跳到了32号 @中国工商银行 麻烦请加强下底层工作人员...</td>\n",
       "      <td>24号没叫取了28号给我\\n26号后直接跳到了32号\\n@中国工商银行 麻烦请加强下底层工作...</td>\n",
       "      <td>消费服务</td>\n",
       "    </tr>\n",
       "    <tr>\n",
       "      <th>1</th>\n",
       "      <td>266932412</td>\n",
       "      <td>微博</td>\n",
       "      <td>2018-10-30 11:46:06</td>\n",
       "      <td>1</td>\n",
       "      <td>-1</td>\n",
       "      <td></td>\n",
       "      <td>#魔法万圣节# 在建行庆祝万圣节 各种暂停服务 没人的情况下等待二十分钟 后边的一个叔叔等待...</td>\n",
       "      <td>#魔法万圣节# 在建行庆祝万圣节 各种暂停服务 没人的情况下等待二十分钟 后边的一个叔叔等待...</td>\n",
       "      <td>消费服务</td>\n",
       "    </tr>\n",
       "    <tr>\n",
       "      <th>2</th>\n",
       "      <td>249135456</td>\n",
       "      <td>微博</td>\n",
       "      <td>2018-09-28 10:31:29</td>\n",
       "      <td>1</td>\n",
       "      <td>-1</td>\n",
       "      <td></td>\n",
       "      <td>工商银行的服务真是稀烂！不是财大气粗吗？从工作人员的业务熟悉度到业务平台系统都是渣渣！</td>\n",
       "      <td>工商银行的服务真是稀烂！不是财大气粗吗？从工作人员的业务熟悉度到业务平台系统都是渣渣！</td>\n",
       "      <td>消费服务</td>\n",
       "    </tr>\n",
       "    <tr>\n",
       "      <th>3</th>\n",
       "      <td>263284185</td>\n",
       "      <td>微信</td>\n",
       "      <td>2018-10-17 00:00:00</td>\n",
       "      <td>1</td>\n",
       "      <td>-1</td>\n",
       "      <td></td>\n",
       "      <td>老牌长租公寓也摊事儿！雷军等明星投资人加持却也难逃一劫，年内已有5家爆雷</td>\n",
       "      <td>(图片)\\n\\n(图片)\\n\\n长租公寓又“摊上事儿”了。\\n\\n上海老牌长租公寓  寓见...</td>\n",
       "      <td>行业</td>\n",
       "    </tr>\n",
       "    <tr>\n",
       "      <th>4</th>\n",
       "      <td>269162185</td>\n",
       "      <td>微博</td>\n",
       "      <td>2018-11-06 20:42:00</td>\n",
       "      <td>1</td>\n",
       "      <td>-1</td>\n",
       "      <td></td>\n",
       "      <td>不得不表扬下@招商银行信用卡 了，前几天在...</td>\n",
       "      <td>不得不表扬下\\n@招商银行信用卡\\n 了，前几天在苏格兰玩儿弄丢了卡，发现可以直接打开手机...</td>\n",
       "      <td>消费服务</td>\n",
       "    </tr>\n",
       "  </tbody>\n",
       "</table>\n",
       "</div>"
      ],
      "text/plain": [
       "          id group_id         publishtime  gather_type  tendency label  \\\n",
       "0  267289612       微博 2018-10-31 12:11:44            1        -1         \n",
       "1  266932412       微博 2018-10-30 11:46:06            1        -1         \n",
       "2  249135456       微博 2018-09-28 10:31:29            1        -1         \n",
       "3  263284185       微信 2018-10-17 00:00:00            1        -1         \n",
       "4  269162185       微博 2018-11-06 20:42:00            1        -1         \n",
       "\n",
       "                                               title  \\\n",
       "0  24号没叫取了28号给我 26号后直接跳到了32号 @中国工商银行 麻烦请加强下底层工作人员...   \n",
       "1  #魔法万圣节# 在建行庆祝万圣节 各种暂停服务 没人的情况下等待二十分钟 后边的一个叔叔等待...   \n",
       "2        工商银行的服务真是稀烂！不是财大气粗吗？从工作人员的业务熟悉度到业务平台系统都是渣渣！   \n",
       "3               老牌长租公寓也摊事儿！雷军等明星投资人加持却也难逃一劫，年内已有5家爆雷   \n",
       "4                           不得不表扬下@招商银行信用卡 了，前几天在...   \n",
       "\n",
       "                                             content predict_label  \n",
       "0  24号没叫取了28号给我\\n26号后直接跳到了32号\\n@中国工商银行 麻烦请加强下底层工作...          消费服务  \n",
       "1  #魔法万圣节# 在建行庆祝万圣节 各种暂停服务 没人的情况下等待二十分钟 后边的一个叔叔等待...          消费服务  \n",
       "2        工商银行的服务真是稀烂！不是财大气粗吗？从工作人员的业务熟悉度到业务平台系统都是渣渣！          消费服务  \n",
       "3   (图片)\\n\\n(图片)\\n\\n长租公寓又“摊上事儿”了。\\n\\n上海老牌长租公寓  寓见...            行业  \n",
       "4   不得不表扬下\\n@招商银行信用卡\\n 了，前几天在苏格兰玩儿弄丢了卡，发现可以直接打开手机...          消费服务  "
      ]
     },
     "execution_count": 21,
     "metadata": {},
     "output_type": "execute_result"
    }
   ],
   "source": [
    "human_additional['title'] = human_additional['title'].astype(str) \n",
    "human_additional['content'] = human_additional['content'].astype(str)\n",
    "data = {\"record\":human_additional.loc[:,['id', 'title' ,'content']].to_dict(orient = 'records')}\n",
    "url = \"http://47.93.77.19:6001/judge_correlation_yjh\"\n",
    "col_name = 'sec'\n",
    "parse_data, elapsed_time = get_server_res(data, url, col_name)\n",
    "parse_data.columns = ['id', 'predict_label']\n",
    "human_additional = pd.merge(human_additional, parse_data, on = 'id', how = 'left')\n",
    "human_additional['predict_label'] = human_additional['predict_label'].apply(lambda x:class_name_dict[x])\n",
    "human_additional.insert(5, 'label', '')\n",
    "print(human_additional['predict_label'].value_counts())\n",
    "human_additional.head()"
   ]
  },
  {
   "cell_type": "code",
   "execution_count": 24,
   "metadata": {
    "ExecuteTime": {
     "end_time": "2018-12-04T01:55:29.838930Z",
     "start_time": "2018-12-04T01:55:28.249839Z"
    }
   },
   "outputs": [
    {
     "name": "stdout",
     "output_type": "stream",
     "text": [
      "cbrc_result_class/result/补录_银监会（旧）_class_predict_mysql_20181203(0901-1203).xlsx\n",
      "消费服务      2366\n",
      "行业         290\n",
      "噪音         252\n",
      "资本市场       131\n",
      "监管         103\n",
      "公司内部管理     101\n",
      "产品销售        80\n",
      "其他相关报道      11\n",
      "Name: predict_label, dtype: int64\n",
      "\n",
      "predict_label  产品销售  公司内部管理  其他相关报道   噪音  消费服务   监管   行业  资本市场   All\n",
      "group_id                                                            \n",
      "博客                0       0       0    0     1    0    0     0     1\n",
      "微信                0       3       0    2     5    4   12     6    32\n",
      "微博               76       3       6  153  2282    4    9     4  2537\n",
      "新闻                2      86       4   64    23   61  165    63   468\n",
      "新闻客户端             0       2       0    2     0    4    1     2    11\n",
      "纸媒                0       5       1   25     7   30  103    56   227\n",
      "论坛                2       2       0    6    48    0    0     0    58\n",
      "All              80     101      11  252  2366  103  290   131  3334\n"
     ]
    }
   ],
   "source": [
    "fea_filename = 'cbrc_result_class/result/补录_银监会（旧）_class_predict_mysql_20181203(0901-1203).xlsx'\n",
    "print(fea_filename)\n",
    "\n",
    "sel_col = ['噪音', '消费服务', '公司内部管理', '监管',\n",
    "           '行业', '资本市场', '其他相关报道','产品销售','交通','环保']\n",
    "sel_data = human_additional[human_additional['predict_label'].isin(sel_col)]\n",
    "print(sel_data['predict_label'].value_counts())\n",
    "print()\n",
    "\n",
    "c_data = pd.DataFrame()\n",
    "with pd.ExcelWriter(fea_filename) as writer:\n",
    "    for label in sel_data['predict_label'].unique():\n",
    "        tmp_data = sel_data[sel_data['predict_label'] == label]\n",
    "        N = tmp_data.shape[0]            \n",
    "        save_data = tmp_data.sample(n = N, axis = 0, random_state=42)\n",
    "        save_data.to_excel(writer,label, index = False)\n",
    "        c_data = pd.concat([c_data, save_data], axis = 0)\n",
    "    print(c_data.pivot_table(index = ['group_id'], \n",
    "                                columns = ['predict_label'], \n",
    "                                values = 'title', aggfunc=len, \n",
    "                                fill_value=0, margins=True))      \n",
    "    writer.save()"
   ]
  },
  {
   "cell_type": "code",
   "execution_count": 25,
   "metadata": {
    "ExecuteTime": {
     "end_time": "2018-12-04T01:55:42.394648Z",
     "start_time": "2018-12-04T01:55:41.037570Z"
    }
   },
   "outputs": [
    {
     "name": "stdout",
     "output_type": "stream",
     "text": [
      "cbrc_result_tendency/result/补录_银监会（旧）_tendency_predict_mysql_20181204(0901-1203).xlsx\n",
      "-1    2892\n",
      " 0     345\n",
      " 1      97\n",
      "Name: tendency, dtype: int64\n"
     ]
    }
   ],
   "source": [
    "fea_filename = 'cbrc_result_tendency/result/补录_银监会（旧）_tendency_predict_mysql_20181204(0901-1203).xlsx'\n",
    "print(fea_filename)\n",
    "print(human_additional['tendency'].value_counts())\n",
    "\n",
    "with pd.ExcelWriter(fea_filename) as writer:\n",
    "    for tendency in human_additional['tendency'].unique():\n",
    "        sel_data = human_additional[human_additional['tendency'] == tendency]    \n",
    "        t_n = sel_data.shape[0]        \n",
    "        tmp_data = sel_data.sample(n = t_n, axis = 0, random_state=3)\n",
    "        tmp_data.to_excel(writer,str(tendency), index = False)           \n",
    "    writer.save()"
   ]
  },
  {
   "cell_type": "markdown",
   "metadata": {
    "collapsed": true
   },
   "source": [
    "## 本地模型"
   ]
  },
  {
   "cell_type": "markdown",
   "metadata": {},
   "source": [
    "### 八分类"
   ]
  },
  {
   "cell_type": "code",
   "execution_count": null,
   "metadata": {
    "ExecuteTime": {
     "end_time": "2018-10-08T06:08:55.607050Z",
     "start_time": "2018-10-08T06:08:53.117234Z"
    },
    "collapsed": true
   },
   "outputs": [],
   "source": [
    "from sklearn.externals import joblib\n",
    "pipeline_old = joblib.load( \"model/cbrc_8classifier_1015.pkl.z\")"
   ]
  },
  {
   "cell_type": "code",
   "execution_count": null,
   "metadata": {
    "ExecuteTime": {
     "end_time": "2018-10-08T06:18:52.561354Z",
     "start_time": "2018-10-08T06:08:56.797702Z"
    },
    "collapsed": true
   },
   "outputs": [],
   "source": [
    "combined_data['title_content'] = combined_data['title'].astype(str) + '。' + combined_data['content'].astype(str)\n",
    "title_content = pre_cor_cbrc.handle_contents(combined_data['title_content'].tolist())\n",
    "print(len(title_content))\n",
    "\n",
    "local_label = pipeline_old.predict(title_content)\n",
    "local_proba = pipeline_old.predict_proba(title_content)"
   ]
  },
  {
   "cell_type": "code",
   "execution_count": null,
   "metadata": {
    "ExecuteTime": {
     "end_time": "2018-10-08T06:18:53.780509Z",
     "start_time": "2018-10-08T06:18:53.751505Z"
    },
    "collapsed": true
   },
   "outputs": [],
   "source": [
    "combined_data['local_label'] = local_label\n",
    "combined_data['local_proba'] = local_proba.max(axis = 1)\n",
    "combined_data['local_label'] = combined_data['local_label'].apply(lambda x:class_name_dict[x])\n",
    "print(combined_data.shape)\n",
    "combined_data.iloc[:2, :]"
   ]
  },
  {
   "cell_type": "markdown",
   "metadata": {},
   "source": [
    "#### 线上线下一致性: mysql 与 local"
   ]
  },
  {
   "cell_type": "code",
   "execution_count": null,
   "metadata": {
    "ExecuteTime": {
     "end_time": "2018-10-08T06:18:57.152437Z",
     "start_time": "2018-10-08T06:18:55.000164Z"
    },
    "collapsed": true
   },
   "outputs": [],
   "source": [
    "combined_data['R_W'] = combined_data.apply(lambda x: 'Right' if x['local_label'] == x['predict_label'] else 'Wrong', axis = 1)\n",
    "print(combined_data[combined_data['R_W'] == 'Right'].shape[0]/combined_data.shape[0])\n",
    "print(combined_data['R_W'].value_counts())\n",
    "combined_data[combined_data['R_W'] == 'Wrong'].pivot_table(index = ['local_label'], columns = ['predict_label'], \n",
    "                                                            aggfunc = [len], values = ['urlhash'], \n",
    "                                                            fill_value = 0, margins = True)"
   ]
  },
  {
   "cell_type": "markdown",
   "metadata": {},
   "source": [
    "#### 线上线下一致性: online 与 local"
   ]
  },
  {
   "cell_type": "code",
   "execution_count": null,
   "metadata": {
    "ExecuteTime": {
     "end_time": "2018-10-08T06:18:58.463103Z",
     "start_time": "2018-10-08T06:18:58.420598Z"
    },
    "collapsed": true
   },
   "outputs": [],
   "source": [
    "combined_data['id'] = range(combined_data.shape[0])\n",
    "combined_data['title'] = combined_data['title'].astype(str) \n",
    "combined_data['content'] = combined_data['content'].astype(str)"
   ]
  },
  {
   "cell_type": "code",
   "execution_count": null,
   "metadata": {
    "ExecuteTime": {
     "end_time": "2018-10-08T06:49:05.543073Z",
     "start_time": "2018-10-08T06:18:59.725264Z"
    },
    "collapsed": true
   },
   "outputs": [],
   "source": [
    "data = {\"record\":combined_data.loc[:,['id', 'title' ,'content']].to_dict(orient = 'records')}\n",
    "url = \"http://47.93.77.19:6001/judge_correlation_yjh\"\n",
    "col_name = 'sec'\n",
    "parse_data = get_server_res_yjh(data, url, col_name)\n",
    "parse_data.columns = ['id', 'online_label']\n",
    "parse_data.head()"
   ]
  },
  {
   "cell_type": "code",
   "execution_count": null,
   "metadata": {
    "ExecuteTime": {
     "end_time": "2018-10-08T06:49:09.341056Z",
     "start_time": "2018-10-08T06:49:06.973255Z"
    },
    "collapsed": true
   },
   "outputs": [],
   "source": [
    "combined_data = pd.merge(combined_data, parse_data, on  = 'id')\n",
    "print(combined_data.shape)\n",
    "combined_data['online_label'] = combined_data['online_label'].apply(lambda x:class_name_dict[x])\n",
    "combined_data['O_R_W'] = combined_data.apply(lambda x: 'Right' if x['local_label'] == x['online_label'] else 'Wrong', axis = 1)\n",
    "print(combined_data[combined_data['O_R_W'] == 'Right'].shape[0]/combined_data.shape[0])\n",
    "print(combined_data['O_R_W'].value_counts())\n",
    "combined_data[combined_data['O_R_W'] == 'Wrong'].pivot_table(index = ['local_label'], columns = ['online_label'], \n",
    "                                                            aggfunc = [len], values = ['urlhash'], \n",
    "                                                            fill_value = 0, margins = True)"
   ]
  },
  {
   "cell_type": "markdown",
   "metadata": {},
   "source": [
    "#### 线上线下一致性: online 与 mysql"
   ]
  },
  {
   "cell_type": "code",
   "execution_count": null,
   "metadata": {
    "ExecuteTime": {
     "end_time": "2018-10-08T06:49:13.415073Z",
     "start_time": "2018-10-08T06:49:10.973263Z"
    },
    "collapsed": true
   },
   "outputs": [],
   "source": [
    "combined_data['O_R_W'] = combined_data.apply(lambda x: 'Right' if x['predict_label'] == x['online_label'] else 'Wrong', axis = 1)\n",
    "print(combined_data[combined_data['O_R_W'] == 'Right'].shape[0]/combined_data.shape[0])\n",
    "print(combined_data['O_R_W'].value_counts())\n",
    "combined_data[combined_data['O_R_W'] == 'Wrong'].pivot_table(index = ['predict_label'], columns = ['online_label'], \n",
    "                                                            aggfunc = [len], values = ['urlhash'], \n",
    "                                                            fill_value = 0, margins = True)"
   ]
  },
  {
   "cell_type": "markdown",
   "metadata": {},
   "source": [
    "### 倾向性"
   ]
  },
  {
   "cell_type": "code",
   "execution_count": null,
   "metadata": {
    "ExecuteTime": {
     "end_time": "2018-10-08T06:08:55.607050Z",
     "start_time": "2018-10-08T06:08:53.117234Z"
    },
    "collapsed": true
   },
   "outputs": [],
   "source": [
    "from sklearn.externals import joblib\n",
    "pipeline_old = joblib.load( \"model/cbrc_8classifier_1015.pkl.z\")"
   ]
  },
  {
   "cell_type": "code",
   "execution_count": null,
   "metadata": {
    "ExecuteTime": {
     "end_time": "2018-10-08T06:18:52.561354Z",
     "start_time": "2018-10-08T06:08:56.797702Z"
    },
    "collapsed": true
   },
   "outputs": [],
   "source": [
    "combined_data['title_content'] = combined_data['title'].astype(str) + '。' + combined_data['content'].astype(str)\n",
    "title_content = pre_cor_cbrc.handle_contents(combined_data['title_content'].tolist())\n",
    "print(len(title_content))\n",
    "\n",
    "local_label = pipeline_old.predict(title_content)\n",
    "local_proba = pipeline_old.predict_proba(title_content)"
   ]
  },
  {
   "cell_type": "code",
   "execution_count": null,
   "metadata": {
    "ExecuteTime": {
     "end_time": "2018-10-08T06:18:53.780509Z",
     "start_time": "2018-10-08T06:18:53.751505Z"
    },
    "collapsed": true
   },
   "outputs": [],
   "source": [
    "combined_data['local_label'] = local_label\n",
    "combined_data['local_proba'] = local_proba.max(axis = 1)\n",
    "combined_data['local_label'] = combined_data['local_label'].apply(lambda x:class_name_dict[x])\n",
    "print(combined_data.shape)\n",
    "combined_data.iloc[:2, :]"
   ]
  },
  {
   "cell_type": "markdown",
   "metadata": {},
   "source": [
    "#### 线上线下一致性: mysql 与 local"
   ]
  },
  {
   "cell_type": "code",
   "execution_count": null,
   "metadata": {
    "ExecuteTime": {
     "end_time": "2018-10-08T06:18:57.152437Z",
     "start_time": "2018-10-08T06:18:55.000164Z"
    },
    "collapsed": true
   },
   "outputs": [],
   "source": [
    "combined_data['R_W'] = combined_data.apply(lambda x: 'Right' if x['local_label'] == x['predict_label'] else 'Wrong', axis = 1)\n",
    "print(combined_data[combined_data['R_W'] == 'Right'].shape[0]/combined_data.shape[0])\n",
    "print(combined_data['R_W'].value_counts())\n",
    "combined_data[combined_data['R_W'] == 'Wrong'].pivot_table(index = ['local_label'], columns = ['predict_label'], \n",
    "                                                            aggfunc = [len], values = ['urlhash'], \n",
    "                                                            fill_value = 0, margins = True)"
   ]
  },
  {
   "cell_type": "markdown",
   "metadata": {},
   "source": [
    "#### 线上线下一致性: online 与 local"
   ]
  },
  {
   "cell_type": "code",
   "execution_count": null,
   "metadata": {
    "ExecuteTime": {
     "end_time": "2018-10-08T06:18:58.463103Z",
     "start_time": "2018-10-08T06:18:58.420598Z"
    },
    "collapsed": true
   },
   "outputs": [],
   "source": [
    "combined_data['id'] = range(combined_data.shape[0])\n",
    "combined_data['title'] = combined_data['title'].astype(str) \n",
    "combined_data['content'] = combined_data['content'].astype(str)"
   ]
  },
  {
   "cell_type": "code",
   "execution_count": null,
   "metadata": {
    "ExecuteTime": {
     "end_time": "2018-10-08T06:49:05.543073Z",
     "start_time": "2018-10-08T06:18:59.725264Z"
    },
    "collapsed": true
   },
   "outputs": [],
   "source": [
    "data = {\"record\":combined_data.loc[:,['id', 'title' ,'content']].to_dict(orient = 'records')}\n",
    "url = \"http://47.93.77.19:6001/judge_correlation_yjh\"\n",
    "col_name = 'sec'\n",
    "parse_data = get_server_res_yjh(data, url, col_name)\n",
    "parse_data.columns = ['id', 'online_label']\n",
    "parse_data.head()"
   ]
  },
  {
   "cell_type": "code",
   "execution_count": null,
   "metadata": {
    "ExecuteTime": {
     "end_time": "2018-10-08T06:49:09.341056Z",
     "start_time": "2018-10-08T06:49:06.973255Z"
    },
    "collapsed": true
   },
   "outputs": [],
   "source": [
    "combined_data = pd.merge(combined_data, parse_data, on  = 'id')\n",
    "print(combined_data.shape)\n",
    "combined_data['online_label'] = combined_data['online_label'].apply(lambda x:class_name_dict[x])\n",
    "combined_data['O_R_W'] = combined_data.apply(lambda x: 'Right' if x['local_label'] == x['online_label'] else 'Wrong', axis = 1)\n",
    "print(combined_data[combined_data['O_R_W'] == 'Right'].shape[0]/combined_data.shape[0])\n",
    "print(combined_data['O_R_W'].value_counts())\n",
    "combined_data[combined_data['O_R_W'] == 'Wrong'].pivot_table(index = ['local_label'], columns = ['online_label'], \n",
    "                                                            aggfunc = [len], values = ['urlhash'], \n",
    "                                                            fill_value = 0, margins = True)"
   ]
  },
  {
   "cell_type": "markdown",
   "metadata": {},
   "source": [
    "#### 线上线下一致性: online 与 mysql"
   ]
  },
  {
   "cell_type": "code",
   "execution_count": null,
   "metadata": {
    "ExecuteTime": {
     "end_time": "2018-10-08T06:49:13.415073Z",
     "start_time": "2018-10-08T06:49:10.973263Z"
    },
    "collapsed": true
   },
   "outputs": [],
   "source": [
    "combined_data['O_R_W'] = combined_data.apply(lambda x: 'Right' if x['predict_label'] == x['online_label'] else 'Wrong', axis = 1)\n",
    "print(combined_data[combined_data['O_R_W'] == 'Right'].shape[0]/combined_data.shape[0])\n",
    "print(combined_data['O_R_W'].value_counts())\n",
    "combined_data[combined_data['O_R_W'] == 'Wrong'].pivot_table(index = ['predict_label'], columns = ['online_label'], \n",
    "                                                            aggfunc = [len], values = ['urlhash'], \n",
    "                                                            fill_value = 0, margins = True)"
   ]
  },
  {
   "cell_type": "code",
   "execution_count": null,
   "metadata": {
    "collapsed": true
   },
   "outputs": [],
   "source": []
  },
  {
   "cell_type": "code",
   "execution_count": null,
   "metadata": {
    "collapsed": true
   },
   "outputs": [],
   "source": []
  },
  {
   "cell_type": "markdown",
   "metadata": {
    "ExecuteTime": {
     "end_time": "2018-09-11T03:51:49.646007Z",
     "start_time": "2018-09-11T03:51:48.860962Z"
    },
    "collapsed": true
   },
   "source": [
    "# 银行业与保险业--新"
   ]
  },
  {
   "cell_type": "markdown",
   "metadata": {
    "collapsed": true
   },
   "source": [
    "## mysql 数据"
   ]
  },
  {
   "cell_type": "code",
   "execution_count": 14,
   "metadata": {
    "ExecuteTime": {
     "end_time": "2018-12-21T01:37:44.849282Z",
     "start_time": "2018-12-21T01:37:34.167671Z"
    },
    "collapsed": true
   },
   "outputs": [],
   "source": [
    "engine = specific_func.get_engine('cbirc')"
   ]
  },
  {
   "cell_type": "code",
   "execution_count": 15,
   "metadata": {
    "ExecuteTime": {
     "end_time": "2018-12-21T01:37:54.964860Z",
     "start_time": "2018-12-21T01:37:44.892284Z"
    },
    "collapsed": true
   },
   "outputs": [],
   "source": [
    "engine = specific_func.get_engine('ahyjj')"
   ]
  },
  {
   "cell_type": "code",
   "execution_count": 21,
   "metadata": {
    "ExecuteTime": {
     "end_time": "2018-12-20T09:41:02.254616Z",
     "start_time": "2018-12-20T09:41:02.249616Z"
    }
   },
   "outputs": [
    {
     "name": "stdout",
     "output_type": "stream",
     "text": [
      "['2018-12-10', '2018-12-11', '2018-12-12', '2018-12-13', '2018-12-14', '2018-12-15', '2018-12-16', '2018-12-17', '2018-12-18', '2018-12-19']\n"
     ]
    }
   ],
   "source": [
    "# day_select = '2018-09-09'\n",
    "day_list = get_day_list('2018-12-09', '2018-12-19')\n",
    "print(day_list)"
   ]
  },
  {
   "cell_type": "code",
   "execution_count": 97,
   "metadata": {
    "ExecuteTime": {
     "end_time": "2018-12-21T03:31:00.302960Z",
     "start_time": "2018-12-21T03:31:00.208954Z"
    }
   },
   "outputs": [
    {
     "name": "stdout",
     "output_type": "stream",
     "text": [
      "(253, 6)\n"
     ]
    },
    {
     "data": {
      "text/html": [
       "<div>\n",
       "<style scoped>\n",
       "    .dataframe tbody tr th:only-of-type {\n",
       "        vertical-align: middle;\n",
       "    }\n",
       "\n",
       "    .dataframe tbody tr th {\n",
       "        vertical-align: top;\n",
       "    }\n",
       "\n",
       "    .dataframe thead th {\n",
       "        text-align: right;\n",
       "    }\n",
       "</style>\n",
       "<table border=\"1\" class=\"dataframe\">\n",
       "  <thead>\n",
       "    <tr style=\"text-align: right;\">\n",
       "      <th></th>\n",
       "      <th>id</th>\n",
       "      <th>title</th>\n",
       "      <th>group_id</th>\n",
       "      <th>publishtime</th>\n",
       "      <th>url</th>\n",
       "      <th>urlhash</th>\n",
       "    </tr>\n",
       "  </thead>\n",
       "  <tbody>\n",
       "    <tr>\n",
       "      <th>0</th>\n",
       "      <td>108726599</td>\n",
       "      <td>2018平安银行芜湖分行社会招聘公告</td>\n",
       "      <td>新闻客户端</td>\n",
       "      <td>2018-12-03 11:40:00</td>\n",
       "      <td>http://3g.k.sohu.com/t/n325538801</td>\n",
       "      <td>803618480861443952</td>\n",
       "    </tr>\n",
       "  </tbody>\n",
       "</table>\n",
       "</div>"
      ],
      "text/plain": [
       "          id               title group_id         publishtime  \\\n",
       "0  108726599  2018平安银行芜湖分行社会招聘公告    新闻客户端 2018-12-03 11:40:00   \n",
       "\n",
       "                                 url             urlhash  \n",
       "0  http://3g.k.sohu.com/t/n325538801  803618480861443952  "
      ]
     },
     "execution_count": 97,
     "metadata": {},
     "output_type": "execute_result"
    }
   ],
   "source": [
    "# ahyyj_data = pd.read_excel('cbrc_data_class/安徽银监局数据_20181221.xlsx')\n",
    "# print(ahyyj_data.shape)\n",
    "# # ahyyj_data.iloc[:1,:]\n",
    "\n",
    "# url_list = tuple(ahyyj_data['url'].tolist())\n",
    "# sql_label = '''\n",
    "#         SELECT \n",
    "#             t3.id, t3.title, t3.group_id, t3.publishtime, t3.url, t3.urlhash\n",
    "#         FROM\n",
    "#             ahyjj.db_docinfo t3\n",
    "#         WHERE\n",
    "#             t3.url in {0}\n",
    "#         '''.format(url_list)\n",
    "\n",
    "# ahyjj_label = pd.read_sql(sql_label, engine)\n",
    "# # ahyjj_label['predict_label_mysql'] = ahyjj_label['traffic_id'].apply(lambda x:class_name_dict[x])\n",
    "# ahyjj_label['group_id'] = ahyjj_label['group_id'].apply(lambda x:group_dict[str(x)])\n",
    "# # ahyjj_label['type'] = ahyjj_label['type'].apply(lambda x:proj_name_dict[6])\n",
    "# print(ahyjj_label.shape)\n",
    "# # ahyjj_label.iloc[:1,:]\n",
    "\n",
    "# url_l = ahyjj_label['urlhash'].tolist()\n",
    "# url_list = tuple(url_l)\n",
    "# sql_content = '''\n",
    "# SELECT \n",
    "#     t1.urlhash, t1.text as content\n",
    "# FROM\n",
    "#     ahyjj.db_docinfo_text t1\n",
    "# WHERE\n",
    "#     t1.urlhash in {0}\n",
    "# '''.format(url_list)\n",
    "\n",
    "# ahyyj_content = pd.read_sql(sql_content, engine)\n",
    "# ahyyj_combined = pd.merge(ahyjj_label, ahyyj_content, on = 'urlhash', how = 'inner')\n",
    "# print(ahyyj_combined.shape)  \n",
    "# ahyyj_combined['label'] = ''\n",
    "# ahyyj_combined = ahyyj_combined[['id', 'label', 'title', 'content', 'group_id', 'publishtime', 'url']]\n",
    "# ahyyj_combined['title'] = ahyyj_combined['title'].astype(str)\n",
    "# ahyyj_combined['content'] = ahyyj_combined['content'].astype(str)\n",
    "# # ahyyj_combined.iloc[:1,:]\n",
    "\n",
    "# data = {\"types\":'1',\"record\":ahyyj_combined.loc[:,['id', 'title' ,'content']].to_dict(orient = 'records')}\n",
    "# url = \"http://39.105.162.87:6001/judge_correlation_b\"\n",
    "# col_name = 'cor'\n",
    "\n",
    "# # parse_data = get_server_res_yjh(data, url, col_name)\n",
    "# parse_data, elapsed_time = get_server_res(data, url, col_name)\n",
    "# print('elapsed_time: ', elapsed_time)\n",
    "# parse_data.columns = ['id', 'predict_label']\n",
    "# print(parse_data.shape)\n",
    "# # parse_data.head()\n",
    "\n",
    "# ahyyj_combined = pd.merge(parse_data, ahyyj_combined, on = 'id')\n",
    "# ahyyj_combined['predict_label'] = ahyyj_combined['predict_label'].apply(lambda x:class_name_dict[x])\n",
    "# print(ahyyj_combined.shape)\n",
    "# # ahyyj_combined.iloc[:1,:]\n",
    "\n",
    "# ahyyj_data = pd.merge(ahyyj_data, ahyyj_combined, on = 'url', how = 'left')\n",
    "# writer = pd.ExcelWriter('cbrc_data_class/安徽银监局数据_content_20181221.xlsx',\n",
    "#                         engine='xlsxwriter',\n",
    "#                         options={'strings_to_urls': False})\n",
    "# ahyyj_data.to_excel(writer, sheet_name='Sheet1', index = False)\n",
    "# writer.save()\n",
    "# print(ahyyj_data.shape)\n",
    "# ahyyj_data.iloc[:1,:]"
   ]
  },
  {
   "cell_type": "markdown",
   "metadata": {},
   "source": [
    "### 获取数据"
   ]
  },
  {
   "cell_type": "markdown",
   "metadata": {},
   "source": [
    "#### 系统采集\n",
    "- gather_type 0-系统采集"
   ]
  },
  {
   "cell_type": "code",
   "execution_count": 20,
   "metadata": {
    "ExecuteTime": {
     "end_time": "2018-12-20T09:36:04.334576Z",
     "start_time": "2018-12-20T09:25:13.882373Z"
    }
   },
   "outputs": [
    {
     "name": "stdout",
     "output_type": "stream",
     "text": [
      "获取 中国人保 数据...\n",
      "\n",
      "-- day_select:  2018-12-15\n",
      "label 去重前： (3631, 10)\n",
      "label 去重后： (3630, 10)\n",
      "label 去空值后： (3630, 10)\n",
      "content 去重前： (3630, 2)\n",
      "content 去重后： (3032, 2)\n",
      "content 去空值后： (3032, 2)\n",
      "(3032, 11)\n",
      "                len                                                     \n",
      "              title                                                     \n",
      "predict_label    交通 产品销售 公司内部管理 其他相关报道    噪音 消费服务  环保  监管  行业 资本市场   All\n",
      "tendency type                                                           \n",
      "-1       中国人保   256    0      5      2   189   13   6   5  11    3   490\n",
      "0        中国人保   810    3     13     20  1566   21  54  11  33   11  2542\n",
      "All            1066    3     18     22  1755   34  60  16  44   14  3032\n",
      "   已生成： cbirc_result/class/result/cbirc_class_predict_采集_types(5)_2018-12-15.xlsx\n",
      "\n",
      "-- day_select:  2018-12-16\n",
      "label 去重前： (4659, 10)\n",
      "label 去重后： (4659, 10)\n",
      "label 去空值后： (4659, 10)\n",
      "content 去重前： (4659, 2)\n",
      "content 去重后： (4192, 2)\n",
      "content 去空值后： (4192, 2)\n",
      "(4192, 11)\n",
      "                len                                                     \n",
      "              title                                                     \n",
      "predict_label    交通 产品销售 公司内部管理 其他相关报道    噪音 消费服务  环保  监管  行业 资本市场   All\n",
      "tendency type                                                           \n",
      "-1       中国人保   344    0      0      0   206   10   6   1  11    0   578\n",
      "0        中国人保  1616    5      5     15  1853   29  43  13  32    3  3614\n",
      "All            1960    5      5     15  2059   39  49  14  43    3  4192\n",
      "   已生成： cbirc_result/class/result/cbirc_class_predict_采集_types(5)_2018-12-16.xlsx\n",
      "\n",
      "-- day_select:  2018-12-17\n",
      "label 去重前： (5844, 10)\n",
      "label 去重后： (5844, 10)\n",
      "label 去空值后： (5844, 10)\n",
      "content 去重前： (5844, 2)\n",
      "content 去重后： (5529, 2)\n",
      "content 去空值后： (5529, 2)\n",
      "(5529, 11)\n",
      "                len                                                     \n",
      "              title                                                     \n",
      "predict_label    交通 产品销售 公司内部管理 其他相关报道    噪音 消费服务  环保  监管  行业 资本市场   All\n",
      "tendency type                                                           \n",
      "-1       中国人保   416    0      8      0   316    5   7   2  13    9   776\n",
      "0        中国人保  1921   11     47     25  2439   57  79  52  83   39  4753\n",
      "All            2337   11     55     25  2755   62  86  54  96   48  5529\n",
      "   已生成： cbirc_result/class/result/cbirc_class_predict_采集_types(5)_2018-12-17.xlsx\n",
      "\n",
      "-- day_select:  2018-12-18\n",
      "label 去重前： (5138, 10)\n",
      "label 去重后： (5137, 10)\n",
      "label 去空值后： (5137, 10)\n",
      "content 去重前： (5137, 2)\n",
      "content 去重后： (4918, 2)\n",
      "content 去空值后： (4918, 2)\n",
      "(4918, 11)\n",
      "                len                                                     \n",
      "              title                                                     \n",
      "predict_label    交通 产品销售 公司内部管理 其他相关报道    噪音 消费服务  环保  监管  行业 资本市场   All\n",
      "tendency type                                                           \n",
      "-1       中国人保   343    0      6      1   305    8   2   1  17    7   690\n",
      "0        中国人保  1456   13     45     35  2371   46  68  83  78   33  4228\n",
      "All            1799   13     51     36  2676   54  70  84  95   40  4918\n",
      "   已生成： cbirc_result/class/result/cbirc_class_predict_采集_types(5)_2018-12-18.xlsx\n",
      "\n",
      "-- day_select:  2018-12-19\n",
      "label 去重前： (3255, 10)\n",
      "label 去重后： (3255, 10)\n",
      "label 去空值后： (3255, 10)\n",
      "content 去重前： (3255, 2)\n",
      "content 去重后： (3178, 2)\n",
      "content 去空值后： (3178, 2)\n",
      "(3178, 11)\n",
      "                len                                                     \n",
      "              title                                                     \n",
      "predict_label    交通 产品销售 公司内部管理 其他相关报道    噪音 消费服务  环保  监管  行业 资本市场   All\n",
      "tendency type                                                           \n",
      "-1       中国人保   176    0      1      0   230    9   1   1  32    4   454\n",
      "0        中国人保   878    6     20     19  1579   47  38  59  53   25  2724\n",
      "All            1054    6     21     19  1809   56  39  60  85   29  3178\n",
      "   已生成： cbirc_result/class/result/cbirc_class_predict_采集_types(5)_2018-12-19.xlsx\n"
     ]
    }
   ],
   "source": [
    "types = 5\n",
    "gather_types = '采集'\n",
    "proj_name = proj_name_dict[types]\n",
    "print(\"获取 %s 数据...\"%(proj_name))\n",
    "if proj_name == proj_name_dict[6]: \n",
    "    sel_type = 1\n",
    "else :\n",
    "    sel_type = types\n",
    "for day_select in day_list:\n",
    "    print()\n",
    "    print('-- day_select: ', day_select)\n",
    "\n",
    "    # 获取八分类\n",
    "    if types in [1,2, 6]:\n",
    "        sql_label = '''\n",
    "        SELECT \n",
    "            t1.id, t1.type, t1.urlhash, t3.title, t3.group_id, t3.publishtime,\n",
    "            t1.traffic_id, t2.sen as tendency, t2.gather_type\n",
    "        FROM\n",
    "            cbrc_circ.db_classify_traffic_docinfo t1\n",
    "                LEFT JOIN\n",
    "            cbrc_circ.db_docinfo_trade t2 ON t1.urlhash = t2.urlhash\n",
    "                LEFT JOIN\n",
    "            cbrc_circ.db_docinfo t3 ON t2.urlhash = t3.urlhash\n",
    "        WHERE\n",
    "            t3.publishtime >= '{0} 07:00:00'\n",
    "                AND t3.publishtime <= '{0} 16:00:00'\n",
    "                and t1.type = {1}\n",
    "                and t1.type = t2.type\n",
    "                and t2.gather_type = 0\n",
    "        group by t3.titlehash\n",
    "        '''.format(day_select, sel_type)\n",
    "    elif types in [3,4,5]:\n",
    "        sql_label = '''\n",
    "        SELECT \n",
    "            t1.id, t1.type, t1.urlhash, t3.title, t3.group_id, t3.publishtime,\n",
    "            t1.traffic_id, t2.sen as tendency, t2.gather_type\n",
    "        FROM\n",
    "            cbrc_circ.db_classify_traffic_docinfo t1\n",
    "                LEFT JOIN\n",
    "            cbrc_circ.db_docinfo_trade t2 ON t1.urlhash = t2.urlhash\n",
    "                LEFT JOIN\n",
    "            cbrc_circ.db_docinfo t3 ON t2.urlhash = t3.urlhash\n",
    "        WHERE\n",
    "            t3.publishtime >= '{0} 00:00:00'\n",
    "                AND t3.publishtime <= '{0} 23:59:59'\n",
    "                and t1.type = {1}\n",
    "                and t1.type = t2.type\n",
    "                and t2.gather_type = 0\n",
    "        group by t3.titlehash\n",
    "        '''.format(day_select, sel_type)        \n",
    "\n",
    "    cbirc_label = pd.read_sql(sql_label, engine)\n",
    "    cbirc_label['predict_label'] = cbirc_label['traffic_id'].apply(lambda x:class_name_dict[x])\n",
    "    cbirc_label['group_id'] = cbirc_label['group_id'].apply(lambda x:group_dict[str(x)])\n",
    "    cbirc_label['type'] = cbirc_label['type'].apply(lambda x:proj_name_dict[x])\n",
    "    \n",
    "    if proj_name == proj_name_dict[6]: cbirc_label['type'] = proj_name_dict[6]\n",
    "    \n",
    "    cbirc_label['gather_type'] = cbirc_label['gather_type'].apply(lambda x:gather_type_name_dict[x])\n",
    "    print('label 去重前：', cbirc_label.shape)\n",
    "    cbirc_label = cbirc_label.drop_duplicates(subset = 'title')\n",
    "    print('label 去重后：', cbirc_label.shape)  \n",
    "    cbirc_label = cbirc_label.dropna(subset = ['title'], axis = 0)\n",
    "    print('label 去空值后：', cbirc_label.shape)  \n",
    "    \n",
    "    if cbirc_label['urlhash'].shape[0] != 0:\n",
    "        # 获取 content\n",
    "        url_l = cbirc_label['urlhash'].tolist()\n",
    "        if cbirc_label['urlhash'].shape[0] == 1:\n",
    "            url_l.append(url_l[0])\n",
    "        url_list = tuple(url_l)\n",
    "        sql_content = '''\n",
    "        SELECT \n",
    "            t1.urlhash, t1.text as content\n",
    "        FROM\n",
    "            cbrc_circ.db_docinfo_text t1\n",
    "        WHERE\n",
    "            t1.urlhash in {0}\n",
    "        '''.format(url_list)\n",
    "\n",
    "        cbirc_content = pd.read_sql(sql_content, engine)\n",
    "        print('content 去重前：', cbirc_content.shape)\n",
    "        cbirc_content = cbirc_content.drop_duplicates(subset = 'content')\n",
    "        print('content 去重后：', cbirc_content.shape)  \n",
    "        cbirc_content = cbirc_content.dropna(subset = ['content'], axis = 0)\n",
    "        print('content 去空值后：', cbirc_content.shape)  \n",
    "\n",
    "        cbirc_combined = pd.merge(cbirc_label, cbirc_content, on = 'urlhash', how = 'inner')\n",
    "        print(cbirc_combined.shape)\n",
    "        print(cbirc_combined.pivot_table(index = ['tendency', 'type'], columns = ['predict_label'], \n",
    "                                    aggfunc = [len], values = ['title'], \n",
    "                                    fill_value = 0, margins = True))    \n",
    "        cbirc_combined['label'] = ''\n",
    "        cbirc_combined = cbirc_combined[['id', 'gather_type', 'type', 'urlhash', 'predict_label', 'label', 'title', \n",
    "                                         'content', 'group_id', 'publishtime', 'tendency']]\n",
    "    #     fea_filename = 'cbirc_result/class/result/cbirc_class_predict_mysql_%s.xlsx'%day_select\n",
    "        fea_filename = 'cbirc_result/class/result/cbirc_class_predict_%s_types(%s)_%s.xlsx'%(gather_types, types, day_select)\n",
    "        cbirc_combined.to_excel(fea_filename, index = False) \n",
    "        print('   已生成：', fea_filename)\n",
    "    "
   ]
  },
  {
   "cell_type": "code",
   "execution_count": 42,
   "metadata": {
    "ExecuteTime": {
     "end_time": "2018-12-18T08:44:49.029719Z",
     "start_time": "2018-12-18T08:44:48.990717Z"
    }
   },
   "outputs": [
    {
     "data": {
      "text/html": [
       "<div>\n",
       "<style scoped>\n",
       "    .dataframe tbody tr th:only-of-type {\n",
       "        vertical-align: middle;\n",
       "    }\n",
       "\n",
       "    .dataframe tbody tr th {\n",
       "        vertical-align: top;\n",
       "    }\n",
       "\n",
       "    .dataframe thead th {\n",
       "        text-align: right;\n",
       "    }\n",
       "</style>\n",
       "<table border=\"1\" class=\"dataframe\">\n",
       "  <thead>\n",
       "    <tr style=\"text-align: right;\">\n",
       "      <th></th>\n",
       "      <th>id</th>\n",
       "      <th>gather_type</th>\n",
       "      <th>type</th>\n",
       "      <th>urlhash</th>\n",
       "      <th>predict_label</th>\n",
       "      <th>label</th>\n",
       "      <th>title</th>\n",
       "      <th>content</th>\n",
       "      <th>group_id</th>\n",
       "      <th>publishtime</th>\n",
       "      <th>tendency</th>\n",
       "    </tr>\n",
       "  </thead>\n",
       "  <tbody>\n",
       "  </tbody>\n",
       "</table>\n",
       "</div>"
      ],
      "text/plain": [
       "Empty DataFrame\n",
       "Columns: [id, gather_type, type, urlhash, predict_label, label, title, content, group_id, publishtime, tendency]\n",
       "Index: []"
      ]
     },
     "execution_count": 42,
     "metadata": {},
     "output_type": "execute_result"
    }
   ],
   "source": [
    "# combined_data[combined_data['predict_label'] == '交通'].to_excel('建行北分—交通.xlsx')\n",
    "# cbirc_combined[cbirc_combined['predict_label'] == '交通']"
   ]
  },
  {
   "cell_type": "markdown",
   "metadata": {},
   "source": [
    "#### 补录\n",
    "- gather_type 1-人工补录\n",
    "- gather_type 3-导入数据"
   ]
  },
  {
   "cell_type": "code",
   "execution_count": 39,
   "metadata": {
    "ExecuteTime": {
     "end_time": "2018-12-03T06:01:58.047403Z",
     "start_time": "2018-12-03T06:01:49.252900Z"
    }
   },
   "outputs": [
    {
     "name": "stdout",
     "output_type": "stream",
     "text": [
      "获取 中国人保 数据...\n",
      "-- day_select:  2018-09-02\n",
      "label 去重前： (0, 9)\n",
      "label 去重后： (0, 9)\n",
      "label 去空值后： (0, 9)\n",
      "-- day_select:  2018-09-03\n",
      "label 去重前： (0, 9)\n",
      "label 去重后： (0, 9)\n",
      "label 去空值后： (0, 9)\n",
      "-- day_select:  2018-09-04\n",
      "label 去重前： (0, 9)\n",
      "label 去重后： (0, 9)\n",
      "label 去空值后： (0, 9)\n",
      "-- day_select:  2018-09-05\n",
      "label 去重前： (0, 9)\n",
      "label 去重后： (0, 9)\n",
      "label 去空值后： (0, 9)\n",
      "-- day_select:  2018-09-06\n",
      "label 去重前： (0, 9)\n",
      "label 去重后： (0, 9)\n",
      "label 去空值后： (0, 9)\n",
      "-- day_select:  2018-09-07\n",
      "label 去重前： (0, 9)\n",
      "label 去重后： (0, 9)\n",
      "label 去空值后： (0, 9)\n",
      "-- day_select:  2018-09-08\n",
      "label 去重前： (0, 9)\n",
      "label 去重后： (0, 9)\n",
      "label 去空值后： (0, 9)\n",
      "-- day_select:  2018-09-09\n",
      "label 去重前： (0, 9)\n",
      "label 去重后： (0, 9)\n",
      "label 去空值后： (0, 9)\n",
      "-- day_select:  2018-09-10\n",
      "label 去重前： (0, 9)\n",
      "label 去重后： (0, 9)\n",
      "label 去空值后： (0, 9)\n",
      "-- day_select:  2018-09-11\n",
      "label 去重前： (0, 9)\n",
      "label 去重后： (0, 9)\n",
      "label 去空值后： (0, 9)\n",
      "-- day_select:  2018-09-12\n",
      "label 去重前： (0, 9)\n",
      "label 去重后： (0, 9)\n",
      "label 去空值后： (0, 9)\n",
      "-- day_select:  2018-09-13\n",
      "label 去重前： (0, 9)\n",
      "label 去重后： (0, 9)\n",
      "label 去空值后： (0, 9)\n",
      "-- day_select:  2018-09-14\n",
      "label 去重前： (0, 9)\n",
      "label 去重后： (0, 9)\n",
      "label 去空值后： (0, 9)\n",
      "-- day_select:  2018-09-15\n",
      "label 去重前： (0, 9)\n",
      "label 去重后： (0, 9)\n",
      "label 去空值后： (0, 9)\n",
      "-- day_select:  2018-09-16\n",
      "label 去重前： (0, 9)\n",
      "label 去重后： (0, 9)\n",
      "label 去空值后： (0, 9)\n",
      "-- day_select:  2018-09-17\n",
      "label 去重前： (0, 9)\n",
      "label 去重后： (0, 9)\n",
      "label 去空值后： (0, 9)\n",
      "-- day_select:  2018-09-18\n",
      "label 去重前： (0, 9)\n",
      "label 去重后： (0, 9)\n",
      "label 去空值后： (0, 9)\n",
      "-- day_select:  2018-09-19\n",
      "label 去重前： (0, 9)\n",
      "label 去重后： (0, 9)\n",
      "label 去空值后： (0, 9)\n",
      "-- day_select:  2018-09-20\n",
      "label 去重前： (0, 9)\n",
      "label 去重后： (0, 9)\n",
      "label 去空值后： (0, 9)\n",
      "-- day_select:  2018-09-21\n",
      "label 去重前： (0, 9)\n",
      "label 去重后： (0, 9)\n",
      "label 去空值后： (0, 9)\n",
      "-- day_select:  2018-09-22\n",
      "label 去重前： (0, 9)\n",
      "label 去重后： (0, 9)\n",
      "label 去空值后： (0, 9)\n",
      "-- day_select:  2018-09-23\n",
      "label 去重前： (0, 9)\n",
      "label 去重后： (0, 9)\n",
      "label 去空值后： (0, 9)\n",
      "-- day_select:  2018-09-24\n",
      "label 去重前： (0, 9)\n",
      "label 去重后： (0, 9)\n",
      "label 去空值后： (0, 9)\n",
      "-- day_select:  2018-09-25\n",
      "label 去重前： (0, 9)\n",
      "label 去重后： (0, 9)\n",
      "label 去空值后： (0, 9)\n",
      "-- day_select:  2018-09-26\n",
      "label 去重前： (0, 9)\n",
      "label 去重后： (0, 9)\n",
      "label 去空值后： (0, 9)\n",
      "-- day_select:  2018-09-27\n",
      "label 去重前： (0, 9)\n",
      "label 去重后： (0, 9)\n",
      "label 去空值后： (0, 9)\n",
      "-- day_select:  2018-09-28\n",
      "label 去重前： (0, 9)\n",
      "label 去重后： (0, 9)\n",
      "label 去空值后： (0, 9)\n",
      "-- day_select:  2018-09-29\n",
      "label 去重前： (0, 9)\n",
      "label 去重后： (0, 9)\n",
      "label 去空值后： (0, 9)\n",
      "-- day_select:  2018-09-30\n",
      "label 去重前： (0, 9)\n",
      "label 去重后： (0, 9)\n",
      "label 去空值后： (0, 9)\n",
      "-- day_select:  2018-10-01\n",
      "label 去重前： (0, 9)\n",
      "label 去重后： (0, 9)\n",
      "label 去空值后： (0, 9)\n",
      "-- day_select:  2018-10-02\n",
      "label 去重前： (0, 9)\n",
      "label 去重后： (0, 9)\n",
      "label 去空值后： (0, 9)\n",
      "-- day_select:  2018-10-03\n",
      "label 去重前： (0, 9)\n",
      "label 去重后： (0, 9)\n",
      "label 去空值后： (0, 9)\n",
      "-- day_select:  2018-10-04\n",
      "label 去重前： (0, 9)\n",
      "label 去重后： (0, 9)\n",
      "label 去空值后： (0, 9)\n",
      "-- day_select:  2018-10-05\n",
      "label 去重前： (0, 9)\n",
      "label 去重后： (0, 9)\n",
      "label 去空值后： (0, 9)\n",
      "-- day_select:  2018-10-06\n",
      "label 去重前： (0, 9)\n",
      "label 去重后： (0, 9)\n",
      "label 去空值后： (0, 9)\n",
      "-- day_select:  2018-10-07\n",
      "label 去重前： (0, 9)\n",
      "label 去重后： (0, 9)\n",
      "label 去空值后： (0, 9)\n",
      "-- day_select:  2018-10-08\n",
      "label 去重前： (0, 9)\n",
      "label 去重后： (0, 9)\n",
      "label 去空值后： (0, 9)\n",
      "-- day_select:  2018-10-09\n",
      "label 去重前： (0, 9)\n",
      "label 去重后： (0, 9)\n",
      "label 去空值后： (0, 9)\n",
      "-- day_select:  2018-10-10\n",
      "label 去重前： (0, 9)\n",
      "label 去重后： (0, 9)\n",
      "label 去空值后： (0, 9)\n",
      "-- day_select:  2018-10-11\n",
      "label 去重前： (0, 9)\n",
      "label 去重后： (0, 9)\n",
      "label 去空值后： (0, 9)\n",
      "-- day_select:  2018-10-12\n",
      "label 去重前： (0, 9)\n",
      "label 去重后： (0, 9)\n",
      "label 去空值后： (0, 9)\n",
      "-- day_select:  2018-10-13\n",
      "label 去重前： (0, 9)\n",
      "label 去重后： (0, 9)\n",
      "label 去空值后： (0, 9)\n",
      "-- day_select:  2018-10-14\n",
      "label 去重前： (0, 9)\n",
      "label 去重后： (0, 9)\n",
      "label 去空值后： (0, 9)\n",
      "-- day_select:  2018-10-15\n",
      "label 去重前： (0, 9)\n",
      "label 去重后： (0, 9)\n",
      "label 去空值后： (0, 9)\n",
      "-- day_select:  2018-10-16\n",
      "label 去重前： (0, 9)\n",
      "label 去重后： (0, 9)\n",
      "label 去空值后： (0, 9)\n",
      "-- day_select:  2018-10-17\n",
      "label 去重前： (0, 9)\n",
      "label 去重后： (0, 9)\n",
      "label 去空值后： (0, 9)\n",
      "-- day_select:  2018-10-18\n",
      "label 去重前： (0, 9)\n",
      "label 去重后： (0, 9)\n",
      "label 去空值后： (0, 9)\n",
      "-- day_select:  2018-10-19\n",
      "label 去重前： (0, 9)\n",
      "label 去重后： (0, 9)\n",
      "label 去空值后： (0, 9)\n",
      "-- day_select:  2018-10-20\n",
      "label 去重前： (0, 9)\n",
      "label 去重后： (0, 9)\n",
      "label 去空值后： (0, 9)\n",
      "-- day_select:  2018-10-21\n",
      "label 去重前： (0, 9)\n",
      "label 去重后： (0, 9)\n",
      "label 去空值后： (0, 9)\n",
      "-- day_select:  2018-10-22\n",
      "label 去重前： (0, 9)\n",
      "label 去重后： (0, 9)\n",
      "label 去空值后： (0, 9)\n",
      "-- day_select:  2018-10-23\n",
      "label 去重前： (0, 9)\n",
      "label 去重后： (0, 9)\n",
      "label 去空值后： (0, 9)\n",
      "-- day_select:  2018-10-24\n",
      "label 去重前： (0, 9)\n",
      "label 去重后： (0, 9)\n",
      "label 去空值后： (0, 9)\n",
      "-- day_select:  2018-10-25\n",
      "label 去重前： (0, 9)\n",
      "label 去重后： (0, 9)\n",
      "label 去空值后： (0, 9)\n",
      "-- day_select:  2018-10-26\n",
      "label 去重前： (0, 9)\n",
      "label 去重后： (0, 9)\n",
      "label 去空值后： (0, 9)\n",
      "-- day_select:  2018-10-27\n",
      "label 去重前： (0, 9)\n",
      "label 去重后： (0, 9)\n",
      "label 去空值后： (0, 9)\n",
      "-- day_select:  2018-10-28\n",
      "label 去重前： (0, 9)\n",
      "label 去重后： (0, 9)\n",
      "label 去空值后： (0, 9)\n",
      "-- day_select:  2018-10-29\n",
      "label 去重前： (0, 9)\n",
      "label 去重后： (0, 9)\n",
      "label 去空值后： (0, 9)\n",
      "-- day_select:  2018-10-30\n",
      "label 去重前： (0, 9)\n",
      "label 去重后： (0, 9)\n",
      "label 去空值后： (0, 9)\n",
      "-- day_select:  2018-10-31\n",
      "label 去重前： (0, 9)\n",
      "label 去重后： (0, 9)\n",
      "label 去空值后： (0, 9)\n",
      "-- day_select:  2018-11-01\n",
      "label 去重前： (0, 9)\n",
      "label 去重后： (0, 9)\n",
      "label 去空值后： (0, 9)\n",
      "-- day_select:  2018-11-02\n",
      "label 去重前： (0, 9)\n",
      "label 去重后： (0, 9)\n",
      "label 去空值后： (0, 9)\n",
      "-- day_select:  2018-11-03\n",
      "label 去重前： (0, 9)\n",
      "label 去重后： (0, 9)\n",
      "label 去空值后： (0, 9)\n",
      "-- day_select:  2018-11-04\n",
      "label 去重前： (0, 9)\n",
      "label 去重后： (0, 9)\n",
      "label 去空值后： (0, 9)\n",
      "-- day_select:  2018-11-05\n",
      "label 去重前： (0, 9)\n",
      "label 去重后： (0, 9)\n",
      "label 去空值后： (0, 9)\n",
      "-- day_select:  2018-11-06\n",
      "label 去重前： (0, 9)\n",
      "label 去重后： (0, 9)\n",
      "label 去空值后： (0, 9)\n",
      "-- day_select:  2018-11-07\n",
      "label 去重前： (0, 9)\n",
      "label 去重后： (0, 9)\n",
      "label 去空值后： (0, 9)\n",
      "-- day_select:  2018-11-08\n",
      "label 去重前： (0, 9)\n",
      "label 去重后： (0, 9)\n",
      "label 去空值后： (0, 9)\n",
      "-- day_select:  2018-11-09\n",
      "label 去重前： (0, 9)\n",
      "label 去重后： (0, 9)\n",
      "label 去空值后： (0, 9)\n",
      "-- day_select:  2018-11-10\n",
      "label 去重前： (0, 9)\n",
      "label 去重后： (0, 9)\n",
      "label 去空值后： (0, 9)\n",
      "-- day_select:  2018-11-11\n",
      "label 去重前： (0, 9)\n",
      "label 去重后： (0, 9)\n",
      "label 去空值后： (0, 9)\n",
      "-- day_select:  2018-11-12\n",
      "label 去重前： (0, 9)\n",
      "label 去重后： (0, 9)\n",
      "label 去空值后： (0, 9)\n",
      "-- day_select:  2018-11-13\n",
      "label 去重前： (0, 9)\n",
      "label 去重后： (0, 9)\n",
      "label 去空值后： (0, 9)\n",
      "-- day_select:  2018-11-14\n",
      "label 去重前： (0, 9)\n",
      "label 去重后： (0, 9)\n",
      "label 去空值后： (0, 9)\n",
      "-- day_select:  2018-11-15\n",
      "label 去重前： (0, 9)\n",
      "label 去重后： (0, 9)\n",
      "label 去空值后： (0, 9)\n",
      "-- day_select:  2018-11-16\n",
      "label 去重前： (0, 9)\n",
      "label 去重后： (0, 9)\n",
      "label 去空值后： (0, 9)\n",
      "-- day_select:  2018-11-17\n",
      "label 去重前： (0, 9)\n",
      "label 去重后： (0, 9)\n",
      "label 去空值后： (0, 9)\n",
      "-- day_select:  2018-11-18\n",
      "label 去重前： (1, 9)\n",
      "label 去重后： (1, 9)\n",
      "label 去空值后： (1, 9)\n",
      "content 去重前： (1, 2)\n",
      "content 去重后： (1, 2)\n",
      "content 去空值后： (1, 2)\n",
      "(1, 10)\n",
      "                len    \n",
      "              title    \n",
      "predict_label    环保 All\n",
      "tendency type          \n",
      "-1       中国人保     1   1\n",
      "All               1   1\n",
      "-- day_select:  2018-11-19\n",
      "label 去重前： (6, 9)\n",
      "label 去重后： (6, 9)\n",
      "label 去空值后： (6, 9)\n",
      "content 去重前： (6, 2)\n",
      "content 去重后： (6, 2)\n",
      "content 去空值后： (6, 2)\n",
      "(6, 10)\n",
      "                len                        \n",
      "              title                        \n",
      "predict_label  产品销售 其他相关报道 消费服务 监管 资本市场 All\n",
      "tendency type                              \n",
      "-1       中国人保     0      0    0  1    0   1\n",
      "0        中国人保     1      1    1  1    1   5\n",
      "All               1      1    1  2    1   6\n",
      "-- day_select:  2018-11-20\n",
      "label 去重前： (5, 9)\n",
      "label 去重后： (5, 9)\n",
      "label 去空值后： (5, 9)\n",
      "content 去重前： (5, 2)\n",
      "content 去重后： (5, 2)\n",
      "content 去空值后： (5, 2)\n",
      "(5, 10)\n",
      "                len             \n",
      "              title             \n",
      "predict_label    噪音 环保 监管 行业 All\n",
      "tendency type                   \n",
      "-1       中国人保     2  0  0  0   2\n",
      "0        中国人保     0  1  1  1   3\n",
      "All               2  1  1  1   5\n",
      "-- day_select:  2018-11-21\n",
      "label 去重前： (6, 9)\n",
      "label 去重后： (6, 9)\n",
      "label 去空值后： (6, 9)\n",
      "content 去重前： (6, 2)\n",
      "content 去重后： (6, 2)\n",
      "content 去空值后： (6, 2)\n",
      "(6, 10)\n",
      "                len          \n",
      "              title          \n",
      "predict_label  产品销售 监管 行业 All\n",
      "tendency type                \n",
      "-1       中国人保     0  0  2   2\n",
      "0        中国人保     1  2  1   4\n",
      "All               1  2  3   6\n",
      "-- day_select:  2018-11-22\n",
      "label 去重前： (11, 9)\n",
      "label 去重后： (11, 9)\n",
      "label 去空值后： (11, 9)\n",
      "content 去重前： (11, 2)\n",
      "content 去重后： (11, 2)\n",
      "content 去空值后： (11, 2)\n",
      "(11, 10)\n",
      "                len                                \n",
      "              title                                \n",
      "predict_label    交通 公司内部管理 其他相关报道 消费服务 环保 监管 行业 All\n",
      "tendency type                                      \n",
      "-1       中国人保     0      0      0    0  3  0  1   4\n",
      "0        中国人保     1      1      1    1  0  1  2   7\n",
      "All               1      1      1    1  3  1  3  11\n",
      "-- day_select:  2018-11-23\n",
      "label 去重前： (8, 9)\n",
      "label 去重后： (8, 9)\n",
      "label 去空值后： (8, 9)\n"
     ]
    },
    {
     "name": "stdout",
     "output_type": "stream",
     "text": [
      "content 去重前： (8, 2)\n",
      "content 去重后： (8, 2)\n",
      "content 去空值后： (8, 2)\n",
      "(8, 10)\n",
      "                len                 \n",
      "              title                 \n",
      "predict_label    交通 公司内部管理 环保 行业 All\n",
      "tendency type                       \n",
      "-1       中国人保     0      0  4  1   5\n",
      "0        中国人保     1      1  0  1   3\n",
      "All               1      1  4  2   8\n",
      "-- day_select:  2018-11-24\n",
      "label 去重前： (0, 9)\n",
      "label 去重后： (0, 9)\n",
      "label 去空值后： (0, 9)\n",
      "-- day_select:  2018-11-25\n",
      "label 去重前： (2, 9)\n",
      "label 去重后： (2, 9)\n",
      "label 去空值后： (2, 9)\n",
      "content 去重前： (2, 2)\n",
      "content 去重后： (2, 2)\n",
      "content 去空值后： (2, 2)\n",
      "(2, 10)\n",
      "                len       \n",
      "              title       \n",
      "predict_label    交通 环保 All\n",
      "tendency type             \n",
      "-1       中国人保     0  1   1\n",
      "0        中国人保     1  0   1\n",
      "All               1  1   2\n",
      "-- day_select:  2018-11-26\n",
      "label 去重前： (2, 9)\n",
      "label 去重后： (2, 9)\n",
      "label 去空值后： (2, 9)\n",
      "content 去重前： (2, 2)\n",
      "content 去重后： (2, 2)\n",
      "content 去空值后： (2, 2)\n",
      "(2, 10)\n",
      "                len       \n",
      "              title       \n",
      "predict_label    交通 行业 All\n",
      "tendency type             \n",
      "0        中国人保     1  1   2\n",
      "All               1  1   2\n",
      "-- day_select:  2018-11-27\n",
      "label 去重前： (7, 9)\n",
      "label 去重后： (7, 9)\n",
      "label 去空值后： (7, 9)\n",
      "content 去重前： (7, 2)\n",
      "content 去重后： (7, 2)\n",
      "content 去空值后： (7, 2)\n",
      "(7, 10)\n",
      "                len               \n",
      "              title               \n",
      "predict_label    交通 产品销售 环保 监管 All\n",
      "tendency type                     \n",
      "-1       中国人保     0    0  3  0   3\n",
      "0        中国人保     2    1  0  1   4\n",
      "All               2    1  3  1   7\n",
      "-- day_select:  2018-11-28\n",
      "label 去重前： (6, 9)\n",
      "label 去重后： (6, 9)\n",
      "label 去空值后： (6, 9)\n",
      "content 去重前： (6, 2)\n",
      "content 去重后： (6, 2)\n",
      "content 去空值后： (6, 2)\n",
      "(6, 10)\n",
      "                len             \n",
      "              title             \n",
      "predict_label    交通 环保 监管 行业 All\n",
      "tendency type                   \n",
      "-1       中国人保     0  2  1  0   3\n",
      "0        中国人保     1  0  1  1   3\n",
      "All               1  2  2  1   6\n",
      "-- day_select:  2018-11-29\n",
      "label 去重前： (8, 9)\n",
      "label 去重后： (8, 9)\n",
      "label 去空值后： (8, 9)\n",
      "content 去重前： (8, 2)\n",
      "content 去重后： (8, 2)\n",
      "content 去空值后： (8, 2)\n",
      "(8, 10)\n",
      "                len                  \n",
      "              title                  \n",
      "predict_label    噪音 消费服务 环保 监管 行业 All\n",
      "tendency type                        \n",
      "-1       中国人保     2    1  3  0  0   6\n",
      "0        中国人保     0    0  0  1  1   2\n",
      "All               2    1  3  1  1   8\n",
      "-- day_select:  2018-11-30\n",
      "label 去重前： (13, 9)\n",
      "label 去重后： (13, 9)\n",
      "label 去空值后： (13, 9)\n",
      "content 去重前： (13, 2)\n",
      "content 去重后： (13, 2)\n",
      "content 去空值后： (13, 2)\n",
      "(13, 10)\n",
      "                len                  \n",
      "              title                  \n",
      "predict_label  产品销售 噪音 消费服务 环保 行业 All\n",
      "tendency type                        \n",
      "-1       中国人保     0  5    1  2  0   8\n",
      "0        中国人保     1  1    0  0  3   5\n",
      "All               1  6    1  2  3  13\n",
      "-- day_select:  2018-12-01\n",
      "label 去重前： (3, 9)\n",
      "label 去重后： (3, 9)\n",
      "label 去空值后： (3, 9)\n",
      "content 去重前： (3, 2)\n",
      "content 去重后： (3, 2)\n",
      "content 去空值后： (3, 2)\n",
      "(3, 10)\n",
      "                 len          \n",
      "               title          \n",
      "predict_label 其他相关报道 监管 行业 All\n",
      "tendency type                 \n",
      "0        中国人保      1  1  1   3\n",
      "All                1  1  1   3\n",
      "-- day_select:  2018-12-02\n",
      "label 去重前： (3, 9)\n",
      "label 去重后： (3, 9)\n",
      "label 去空值后： (3, 9)\n",
      "content 去重前： (3, 2)\n",
      "content 去重后： (3, 2)\n",
      "content 去空值后： (3, 2)\n",
      "(3, 10)\n",
      "                len            \n",
      "              title            \n",
      "predict_label    交通 产品销售 行业 All\n",
      "tendency type                  \n",
      "0        中国人保     1    1  1   3\n",
      "All               1    1  1   3\n",
      "-- day_select:  2018-12-03\n",
      "label 去重前： (7, 9)\n",
      "label 去重后： (7, 9)\n",
      "label 去空值后： (7, 9)\n",
      "content 去重前： (7, 2)\n",
      "content 去重后： (7, 2)\n",
      "content 去空值后： (7, 2)\n",
      "(7, 10)\n",
      "                len                         \n",
      "              title                         \n",
      "predict_label  产品销售 公司内部管理 噪音 环保 监管 资本市场 All\n",
      "tendency type                               \n",
      "-1       中国人保     0      0  2  1  0    0   3\n",
      "0        中国人保     1      1  0  0  1    1   4\n",
      "All               1      1  2  1  1    1   7\n"
     ]
    }
   ],
   "source": [
    "types = 5\n",
    "gather_types = '补录'\n",
    "print(\"获取 %s 数据...\"%(proj_name_dict[types]))\n",
    "if proj_name == proj_name_dict[6]: \n",
    "    sel_type = 1\n",
    "else :\n",
    "    sel_type = types\n",
    "for day_select in day_list:\n",
    "    print('-- day_select: ', day_select)\n",
    "    \n",
    "    # 获取八分类\n",
    "    if types in [1,2, 6]:\n",
    "        sql_label = '''\n",
    "        SELECT \n",
    "            t1.type, t1.urlhash, t3.title, t3.group_id, t3.publishtime,\n",
    "            t1.traffic_id, t2.sen as tendency, t2.gather_type\n",
    "        FROM\n",
    "            cbrc_circ.db_classify_traffic_docinfo t1\n",
    "                LEFT JOIN\n",
    "            cbrc_circ.db_docinfo_trade t2 ON t1.urlhash = t2.urlhash\n",
    "                LEFT JOIN\n",
    "            cbrc_circ.db_docinfo t3 ON t2.urlhash = t3.urlhash\n",
    "        WHERE\n",
    "            t3.publishtime >= '{0} 00:00:00'\n",
    "                AND t3.publishtime <= '{0} 23:59:59'\n",
    "                and t1.type = {1}\n",
    "                and t1.type = t2.type\n",
    "                and t2.gather_type in (1,3)\n",
    "        group by t3.titlehash\n",
    "        '''.format(day_select, sel_type)\n",
    "    elif types in [3,4,5]:\n",
    "        sql_label = '''\n",
    "        SELECT \n",
    "            t1.type, t1.urlhash, t3.title, t3.group_id, t3.publishtime,\n",
    "            t1.traffic_id, t2.sen as tendency, t2.gather_type\n",
    "        FROM\n",
    "            cbrc_circ.db_classify_traffic_docinfo t1\n",
    "                LEFT JOIN\n",
    "            cbrc_circ.db_docinfo_trade t2 ON t1.urlhash = t2.urlhash\n",
    "                LEFT JOIN\n",
    "            cbrc_circ.db_docinfo t3 ON t2.urlhash = t3.urlhash\n",
    "        WHERE\n",
    "            t3.publishtime >= '{0} 00:00:00'\n",
    "                AND t3.publishtime <= '{0} 23:59:59'\n",
    "                and t1.type = {1}\n",
    "                and t1.type = t2.type\n",
    "                and t2.gather_type in (1,3)\n",
    "        group by t3.titlehash\n",
    "        '''.format(day_select, sel_type)        \n",
    "\n",
    "    cbirc_label = pd.read_sql(sql_label, engine)\n",
    "    cbirc_label['predict_label'] = cbirc_label['traffic_id'].apply(lambda x:class_name_dict[x])\n",
    "    cbirc_label['group_id'] = cbirc_label['group_id'].apply(lambda x:group_dict[str(x)])\n",
    "    cbirc_label['type'] = cbirc_label['type'].apply(lambda x:proj_name_dict[x])\n",
    "    cbirc_label['gather_type'] = cbirc_label['gather_type'].apply(lambda x:gather_type_name_dict[x])\n",
    "    \n",
    "    if proj_name == proj_name_dict[6]: cbirc_label['type'] = proj_name_dict[6]\n",
    "    \n",
    "    print('label 去重前：', cbirc_label.shape)\n",
    "    cbirc_label = cbirc_label.drop_duplicates(subset = 'title')\n",
    "    print('label 去重后：', cbirc_label.shape)  \n",
    "    cbirc_label = cbirc_label.dropna(subset = ['title'], axis = 0)\n",
    "    print('label 去空值后：', cbirc_label.shape)  \n",
    "        \n",
    "    if cbirc_label['urlhash'].shape[0] != 0:\n",
    "        # 获取 content\n",
    "        url_l = cbirc_label['urlhash'].tolist()\n",
    "        if cbirc_label['urlhash'].shape[0] == 1:\n",
    "            url_l.append(url_l[0])\n",
    "        url_list = tuple(url_l)\n",
    "        sql_content = '''\n",
    "        SELECT \n",
    "            t1.urlhash, t1.text as content\n",
    "        FROM\n",
    "            cbrc_circ.db_docinfo_text t1\n",
    "        WHERE\n",
    "            t1.urlhash in {0}\n",
    "        '''.format(url_list)\n",
    "        cbirc_content = pd.read_sql(sql_content, engine)\n",
    "        print('content 去重前：', cbirc_content.shape)\n",
    "        cbirc_content = cbirc_content.drop_duplicates(subset = 'content')\n",
    "        print('content 去重后：', cbirc_content.shape)  \n",
    "        cbirc_content = cbirc_content.dropna(subset = ['content'], axis = 0)\n",
    "        print('content 去空值后：', cbirc_content.shape)  \n",
    "\n",
    "        cbirc_combined = pd.merge(cbirc_label, cbirc_content, on = 'urlhash', how = 'inner')\n",
    "        print(cbirc_combined.shape)\n",
    "        print(cbirc_combined.pivot_table(index = ['tendency', 'type'], columns = ['predict_label'], \n",
    "                                    aggfunc = [len], values = ['title'], \n",
    "                                    fill_value = 0, margins = True))    \n",
    "        cbirc_combined['label'] = ''\n",
    "        cbirc_combined = cbirc_combined[['gather_type', 'type', 'urlhash', 'predict_label', 'label', 'title', \n",
    "                                         'content', 'group_id', 'publishtime', 'tendency']]\n",
    "    #     fea_filename = 'cbirc_result/class/result/cbirc_class_predict_mysql_%s.xlsx'%day_select\n",
    "        fea_filename = 'cbirc_result/class/result/cbirc_class_predict_%s_types(%s)_%s.xlsx'%(gather_types, types, day_select)\n",
    "        cbirc_combined.to_excel(fea_filename, index = False)\n",
    "    "
   ]
  },
  {
   "cell_type": "markdown",
   "metadata": {},
   "source": [
    "### 八分类数据"
   ]
  },
  {
   "cell_type": "markdown",
   "metadata": {},
   "source": [
    "#### 合并 & 保存"
   ]
  },
  {
   "cell_type": "code",
   "execution_count": 30,
   "metadata": {
    "ExecuteTime": {
     "end_time": "2018-12-03T02:54:33.085227Z",
     "start_time": "2018-12-03T02:54:33.081227Z"
    },
    "collapsed": true
   },
   "outputs": [],
   "source": [
    "# types = 3\n",
    "# gather_types = '采集'"
   ]
  },
  {
   "cell_type": "code",
   "execution_count": 22,
   "metadata": {
    "ExecuteTime": {
     "end_time": "2018-12-20T09:41:41.458859Z",
     "start_time": "2018-12-20T09:41:28.931142Z"
    }
   },
   "outputs": [
    {
     "name": "stdout",
     "output_type": "stream",
     "text": [
      "cbirc_result/class/result/cbirc_class_predict_采集_types(5)_2018-12-10.xlsx\n",
      "cbirc_result/class/result/cbirc_class_predict_采集_types(5)_2018-12-11.xlsx\n",
      "cbirc_result/class/result/cbirc_class_predict_采集_types(5)_2018-12-12.xlsx\n",
      "cbirc_result/class/result/cbirc_class_predict_采集_types(5)_2018-12-13.xlsx\n",
      "cbirc_result/class/result/cbirc_class_predict_采集_types(5)_2018-12-14.xlsx\n",
      "cbirc_result/class/result/cbirc_class_predict_采集_types(5)_2018-12-15.xlsx\n",
      "cbirc_result/class/result/cbirc_class_predict_采集_types(5)_2018-12-16.xlsx\n",
      "cbirc_result/class/result/cbirc_class_predict_采集_types(5)_2018-12-17.xlsx\n",
      "cbirc_result/class/result/cbirc_class_predict_采集_types(5)_2018-12-18.xlsx\n",
      "cbirc_result/class/result/cbirc_class_predict_采集_types(5)_2018-12-19.xlsx\n",
      "(48698, 11)\n",
      "                 len                                                       \\\n",
      "               title                                                        \n",
      "predict_label     交通 产品销售 公司内部管理 其他相关报道     噪音 消费服务    环保   监管    行业 资本市场   \n",
      "type                                                                        \n",
      "中国人保           17793  116    543    341  26198  712  1068  436  1018  473   \n",
      "All            17793  116    543    341  26198  712  1068  436  1018  473   \n",
      "\n",
      "                      \n",
      "                      \n",
      "predict_label    All  \n",
      "type                  \n",
      "中国人保           48698  \n",
      "All            48698  \n",
      "\n",
      "噪音        26198\n",
      "交通        17793\n",
      "环保         1068\n",
      "行业         1018\n",
      "消费服务        712\n",
      "公司内部管理      543\n",
      "资本市场        473\n",
      "监管          436\n",
      "其他相关报道      341\n",
      "产品销售        116\n",
      "Name: predict_label, dtype: int64\n"
     ]
    },
    {
     "data": {
      "text/html": [
       "<div>\n",
       "<style scoped>\n",
       "    .dataframe tbody tr th:only-of-type {\n",
       "        vertical-align: middle;\n",
       "    }\n",
       "\n",
       "    .dataframe tbody tr th {\n",
       "        vertical-align: top;\n",
       "    }\n",
       "\n",
       "    .dataframe thead th {\n",
       "        text-align: right;\n",
       "    }\n",
       "</style>\n",
       "<table border=\"1\" class=\"dataframe\">\n",
       "  <thead>\n",
       "    <tr style=\"text-align: right;\">\n",
       "      <th></th>\n",
       "      <th>id</th>\n",
       "      <th>gather_type</th>\n",
       "      <th>type</th>\n",
       "      <th>urlhash</th>\n",
       "      <th>predict_label</th>\n",
       "      <th>label</th>\n",
       "      <th>title</th>\n",
       "      <th>content</th>\n",
       "      <th>group_id</th>\n",
       "      <th>publishtime</th>\n",
       "      <th>tendency</th>\n",
       "    </tr>\n",
       "  </thead>\n",
       "  <tbody>\n",
       "    <tr>\n",
       "      <th>0</th>\n",
       "      <td>12351880</td>\n",
       "      <td>系统采集</td>\n",
       "      <td>中国人保</td>\n",
       "      <td>3432603509054117888</td>\n",
       "      <td>噪音</td>\n",
       "      <td>NaN</td>\n",
       "      <td>山东省农业农村厅\\n平邑县农业局积极安排部署雨雪和大风降温天气防范应对工作</td>\n",
       "      <td>受冷暖空气共同影响，平邑县5-6日迎来一场雨夹雪。降雪结束后，受较强冷空气影响，6-8日出现...</td>\n",
       "      <td>新闻</td>\n",
       "      <td>2018-12-10 00:00:00</td>\n",
       "      <td>0</td>\n",
       "    </tr>\n",
       "    <tr>\n",
       "      <th>1</th>\n",
       "      <td>12442494</td>\n",
       "      <td>系统采集</td>\n",
       "      <td>中国人保</td>\n",
       "      <td>-1751185622673544960</td>\n",
       "      <td>交通</td>\n",
       "      <td>NaN</td>\n",
       "      <td>石油从地下开采，长此以往会破坏地球的内部结构，地球会塌陷？</td>\n",
       "      <td>石油从地下开采，长此以往会破坏地球的内部结构，地球会塌陷？石油是地球上流动的黄金，是人类最重...</td>\n",
       "      <td>新闻</td>\n",
       "      <td>2018-12-10 19:27:52</td>\n",
       "      <td>0</td>\n",
       "    </tr>\n",
       "  </tbody>\n",
       "</table>\n",
       "</div>"
      ],
      "text/plain": [
       "         id gather_type  type              urlhash predict_label  label  \\\n",
       "0  12351880        系统采集  中国人保  3432603509054117888            噪音    NaN   \n",
       "1  12442494        系统采集  中国人保 -1751185622673544960            交通    NaN   \n",
       "\n",
       "                                   title  \\\n",
       "0  山东省农业农村厅\\n平邑县农业局积极安排部署雨雪和大风降温天气防范应对工作   \n",
       "1          石油从地下开采，长此以往会破坏地球的内部结构，地球会塌陷？   \n",
       "\n",
       "                                             content group_id  \\\n",
       "0  受冷暖空气共同影响，平邑县5-6日迎来一场雨夹雪。降雪结束后，受较强冷空气影响，6-8日出现...       新闻   \n",
       "1  石油从地下开采，长此以往会破坏地球的内部结构，地球会塌陷？石油是地球上流动的黄金，是人类最重...       新闻   \n",
       "\n",
       "          publishtime  tendency  \n",
       "0 2018-12-10 00:00:00         0  \n",
       "1 2018-12-10 19:27:52         0  "
      ]
     },
     "execution_count": 22,
     "metadata": {},
     "output_type": "execute_result"
    }
   ],
   "source": [
    "combined_data = pd.DataFrame()\n",
    "for day_select in day_list:\n",
    "#     tmp_data = pd.read_excel('cbirc_result/class/result/cbirc_class_predict_mysql_%s.xlsx'%day_select)\n",
    "    file_name = 'cbirc_result/class/result/cbirc_class_predict_%s_types(%s)_%s.xlsx'%(gather_types, types, day_select)\n",
    "    if os.path.isfile(file_name):\n",
    "        print(file_name)\n",
    "        tmp_data = pd.read_excel(file_name)\n",
    "        combined_data = pd.concat([combined_data, tmp_data], axis = 0)\n",
    "\n",
    "combined_data = combined_data[combined_data['predict_label'] != '补录']\n",
    "print(combined_data.shape)\n",
    "print(combined_data.pivot_table(index = ['type'], columns = ['predict_label'], \n",
    "                            aggfunc = [len], values = ['title'], \n",
    "                            fill_value = 0, margins = True)) \n",
    "print()\n",
    "# {1: '银监会', 2: '保监会', 3: '中国人寿', 4: '建行北分', 5: '中国人保'}\n",
    "# types = ['银监会', '建行北分']\n",
    "# types = [ '中国人寿', '中国人保'] # '保监会',\n",
    "# combined_data = combined_data[combined_data['type'].isin(types)]\n",
    "# print(combined_data.shape)  \n",
    "print(combined_data['predict_label'].value_counts())\n",
    "combined_data.iloc[:2, :]"
   ]
  },
  {
   "cell_type": "code",
   "execution_count": 24,
   "metadata": {
    "ExecuteTime": {
     "end_time": "2018-12-20T09:45:12.733943Z",
     "start_time": "2018-12-20T09:45:01.647309Z"
    }
   },
   "outputs": [
    {
     "data": {
      "text/plain": [
       "交通    17793\n",
       "环保     1068\n",
       "Name: predict_label, dtype: int64"
      ]
     },
     "execution_count": 24,
     "metadata": {},
     "output_type": "execute_result"
    }
   ],
   "source": [
    "combined_data_sel = combined_data[combined_data['predict_label'].isin(['交通', '环保'])]\n",
    "combined_data_sel.to_excel('picc_result_class/picc_data_20181220(1210-1219).xlsx', index = False)\n",
    "combined_data_sel['predict_label'].value_counts()"
   ]
  },
  {
   "cell_type": "code",
   "execution_count": 141,
   "metadata": {
    "ExecuteTime": {
     "end_time": "2018-11-26T06:37:30.427133Z",
     "start_time": "2018-11-26T06:37:30.419132Z"
    },
    "collapsed": true
   },
   "outputs": [],
   "source": [
    "# combined_data = combined_data[['type', 'urlhash', 'local_label', 'label', 'title', 'content']]\n",
    "# combined_data.rename(columns = {'local_label':'predict_label'}, inplace = True)\n",
    "# combined_data.head()"
   ]
  },
  {
   "cell_type": "code",
   "execution_count": 44,
   "metadata": {
    "ExecuteTime": {
     "end_time": "2018-12-18T08:47:31.596018Z",
     "start_time": "2018-12-18T08:47:29.868919Z"
    }
   },
   "outputs": [
    {
     "name": "stdout",
     "output_type": "stream",
     "text": [
      "cbirc_result/class/result/采集_安徽银监局_class_predict_mysql_20181218(1210-1215).xlsx\n",
      "噪音        37726\n",
      "资本市场       4228\n",
      "其他相关报道     3131\n",
      "公司内部管理     2521\n",
      "行业         2481\n",
      "消费服务       1941\n",
      "产品销售       1609\n",
      "监管         1472\n",
      "Name: predict_label, dtype: int64\n",
      "\n",
      "predict_label  产品销售  公司内部管理  其他相关报道   噪音  消费服务   监管   行业  资本市场   All\n",
      "type                                                                \n",
      "安徽银监局           200     200     200  200   200  200  200   200  1600\n",
      "All             200     200     200  200   200  200  200   200  1600\n"
     ]
    }
   ],
   "source": [
    "fea_filename = 'cbirc_result/class/result/%s_%s_class_predict_mysql_20181218(1210-1215).xlsx'%(gather_types, proj_name_dict[types])\n",
    "print(fea_filename)\n",
    "# sel_col = ['噪音', '消费服务', '公司内部管理', '监管',\n",
    "#            '行业', '资本市场', '其他相关报道','产品销售','交通','环保']\n",
    "# sel_col = ['公司内部管理', '监管', '行业', '产品销售']\n",
    "sel_col = combined_data['predict_label'].unique().tolist()\n",
    "sel_data = combined_data[combined_data['predict_label'].isin(sel_col)]\n",
    "print(sel_data['predict_label'].value_counts())\n",
    "print()\n",
    "c_data = pd.DataFrame()\n",
    "with pd.ExcelWriter(fea_filename) as writer:\n",
    "    for label in sel_data['predict_label'].unique():\n",
    "        tmp_data = sel_data[sel_data['predict_label'] == label]\n",
    "        if gather_types == '补录':\n",
    "            N = tmp_data.shape[0]\n",
    "        else :\n",
    "            if tmp_data.shape[0] > 200:\n",
    "                N = 200\n",
    "            else :\n",
    "                N = tmp_data.shape[0]\n",
    "            if label in ['交通',]: # '环保'\n",
    "                N =  200 # tmp_data.shape[0]\n",
    "            \n",
    "        save_data = tmp_data.sample(n = N, axis = 0, random_state=42)\n",
    "        save_data.to_excel(writer,label, index = False)\n",
    "        c_data = pd.concat([c_data, save_data], axis = 0)\n",
    "    print(c_data.pivot_table(index = ['type'], \n",
    "                                columns = ['predict_label'], \n",
    "                                values = 'title', aggfunc=len, \n",
    "                                fill_value=0, margins=True))      \n",
    "    writer.save()"
   ]
  },
  {
   "cell_type": "markdown",
   "metadata": {},
   "source": [
    "### 倾向性"
   ]
  },
  {
   "cell_type": "markdown",
   "metadata": {},
   "source": [
    "#### 合并 & 保存"
   ]
  },
  {
   "cell_type": "code",
   "execution_count": 53,
   "metadata": {
    "ExecuteTime": {
     "end_time": "2018-12-18T09:49:51.278915Z",
     "start_time": "2018-12-18T09:49:38.610191Z"
    }
   },
   "outputs": [
    {
     "name": "stdout",
     "output_type": "stream",
     "text": [
      "cbirc_result/class/result/cbirc_class_predict_采集_types(6)_2018-12-10.xlsx\n",
      "cbirc_result/class/result/cbirc_class_predict_采集_types(6)_2018-12-11.xlsx\n",
      "cbirc_result/class/result/cbirc_class_predict_采集_types(6)_2018-12-12.xlsx\n",
      "cbirc_result/class/result/cbirc_class_predict_采集_types(6)_2018-12-13.xlsx\n",
      "cbirc_result/class/result/cbirc_class_predict_采集_types(6)_2018-12-14.xlsx\n",
      "(55109, 11)\n",
      "predict_label       产品销售  公司内部管理  其他相关报道     噪音  消费服务    监管    行业  资本市场    All\n",
      "          tendency                                                            \n",
      "len title -1           0     447       0      0  1116   233   132     0   1928\n",
      "          0         1609    2074    3131  37726   825  1239  2349  4228  53181\n",
      "          All       1609    2521    3131  37726  1941  1472  2481  4228  55109\n",
      "\n",
      "(8415, 11)\n",
      "predict_label       公司内部管理  消费服务    监管    行业   All\n",
      "          tendency                                \n",
      "len title -1           447  1116   233   132  1928\n",
      "          0           2074   825  1239  2349  6487\n",
      "          All         2521  1941  1472  2481  8415\n",
      " 0    6487\n",
      "-1    1928\n",
      "Name: tendency, dtype: int64\n"
     ]
    },
    {
     "data": {
      "text/html": [
       "<div>\n",
       "<style scoped>\n",
       "    .dataframe tbody tr th:only-of-type {\n",
       "        vertical-align: middle;\n",
       "    }\n",
       "\n",
       "    .dataframe tbody tr th {\n",
       "        vertical-align: top;\n",
       "    }\n",
       "\n",
       "    .dataframe thead th {\n",
       "        text-align: right;\n",
       "    }\n",
       "</style>\n",
       "<table border=\"1\" class=\"dataframe\">\n",
       "  <thead>\n",
       "    <tr style=\"text-align: right;\">\n",
       "      <th></th>\n",
       "      <th>id</th>\n",
       "      <th>gather_type</th>\n",
       "      <th>type</th>\n",
       "      <th>urlhash</th>\n",
       "      <th>predict_label</th>\n",
       "      <th>label</th>\n",
       "      <th>title</th>\n",
       "      <th>content</th>\n",
       "      <th>group_id</th>\n",
       "      <th>publishtime</th>\n",
       "      <th>tendency</th>\n",
       "    </tr>\n",
       "  </thead>\n",
       "  <tbody>\n",
       "    <tr>\n",
       "      <th>18</th>\n",
       "      <td>12494994</td>\n",
       "      <td>系统采集</td>\n",
       "      <td>安徽银监局</td>\n",
       "      <td>1900330707589228032</td>\n",
       "      <td>监管</td>\n",
       "      <td>NaN</td>\n",
       "      <td>银保监会：既要避免一刀切的惜贷，一哄而上的送贷</td>\n",
       "      <td>习近平总书记在民营企业座谈会上的重要讲话，对我们坚定“四个自信”，应对当前复杂国内外经济...</td>\n",
       "      <td>新闻</td>\n",
       "      <td>2018-12-10 15:25:06</td>\n",
       "      <td>0</td>\n",
       "    </tr>\n",
       "    <tr>\n",
       "      <th>23</th>\n",
       "      <td>12351800</td>\n",
       "      <td>系统采集</td>\n",
       "      <td>安徽银监局</td>\n",
       "      <td>500909010888760576</td>\n",
       "      <td>监管</td>\n",
       "      <td>NaN</td>\n",
       "      <td>中国银保监会对六家银行开出合计1.5亿元的大额罚单 _凤凰财经</td>\n",
       "      <td>原标题： 中国银保监会对六家银行开出合计1.5亿元的大额罚单\\n\\r智通财经APP获悉，12...</td>\n",
       "      <td>新闻</td>\n",
       "      <td>2018-12-10 08:46:15</td>\n",
       "      <td>-1</td>\n",
       "    </tr>\n",
       "  </tbody>\n",
       "</table>\n",
       "</div>"
      ],
      "text/plain": [
       "          id gather_type   type              urlhash predict_label  label  \\\n",
       "18  12494994        系统采集  安徽银监局  1900330707589228032            监管    NaN   \n",
       "23  12351800        系统采集  安徽银监局   500909010888760576            监管    NaN   \n",
       "\n",
       "                              title  \\\n",
       "18          银保监会：既要避免一刀切的惜贷，一哄而上的送贷   \n",
       "23  中国银保监会对六家银行开出合计1.5亿元的大额罚单 _凤凰财经   \n",
       "\n",
       "                                              content group_id  \\\n",
       "18  　　习近平总书记在民营企业座谈会上的重要讲话，对我们坚定“四个自信”，应对当前复杂国内外经济...       新闻   \n",
       "23  原标题： 中国银保监会对六家银行开出合计1.5亿元的大额罚单\\n\\r智通财经APP获悉，12...       新闻   \n",
       "\n",
       "           publishtime  tendency  \n",
       "18 2018-12-10 15:25:06         0  \n",
       "23 2018-12-10 08:46:15        -1  "
      ]
     },
     "execution_count": 53,
     "metadata": {},
     "output_type": "execute_result"
    }
   ],
   "source": [
    "combined_data = pd.DataFrame()\n",
    "for day_select in day_list:\n",
    "#     tmp_data = pd.read_excel('cbirc_result/class/result/cbirc_class_predict_mysql_%s.xlsx'%day_select)\n",
    "    file_name = 'cbirc_result/class/result/cbirc_class_predict_%s_types(%s)_%s.xlsx'%(gather_types, types, day_select)\n",
    "    if os.path.isfile(file_name):\n",
    "        print(file_name)\n",
    "        tmp_data = pd.read_excel(file_name)\n",
    "        combined_data = pd.concat([combined_data, tmp_data], axis = 0)\n",
    "\n",
    "print(combined_data.shape)\n",
    "print(combined_data.pivot_table(index = ['predict_label'], columns = ['tendency'], \n",
    "                            aggfunc = [len], values = ['title'], \n",
    "                            fill_value = 0, margins = True).T) \n",
    "print()\n",
    "\n",
    "if types in [4,5]:\n",
    "    combined_data = combined_data[combined_data['predict_label'] != '噪音']\n",
    "else :\n",
    "    sel_col = ['公司内部管理', '监管', '行业', '消费服务']\n",
    "    combined_data = combined_data[combined_data['predict_label'].isin(sel_col)]\n",
    "\n",
    "print(combined_data.shape)  \n",
    "print(combined_data.pivot_table(index = ['predict_label'], columns = ['tendency'], \n",
    "                            aggfunc = [len], values = ['title'], \n",
    "                            fill_value = 0, margins = True).T) \n",
    "\n",
    "print(combined_data['tendency'].value_counts())\n",
    "combined_data.iloc[:2, :]"
   ]
  },
  {
   "cell_type": "code",
   "execution_count": 50,
   "metadata": {
    "ExecuteTime": {
     "end_time": "2018-12-18T09:46:32.659555Z",
     "start_time": "2018-12-18T09:46:30.714444Z"
    }
   },
   "outputs": [
    {
     "name": "stdout",
     "output_type": "stream",
     "text": [
      "cbirc_result/tendency/result/采集_安徽银监局_tendency_predict_mysql_20181218(1210-1214).xlsx\n",
      " 0    6487\n",
      "-1    1928\n",
      "Name: tendency, dtype: int64\n",
      "正负各 1000 条，共 4 类， 每类各 270 条\n",
      "-------------------------------------------------------\n",
      "tendency: 0, predict_label: 监管, size: (270, 11)\n",
      "tendency: 0, predict_label: 公司内部管理, size: (540, 11)\n",
      "tendency: 0, predict_label: 消费服务, size: (810, 11)\n",
      "tendency: 0, predict_label: 行业, size: (1080, 11)\n",
      "predict_label   公司内部管理  消费服务   监管   行业   All\n",
      "tendency type                               \n",
      "0        安徽银监局     252   253  254  241  1000\n",
      "All                252   253  254  241  1000\n",
      "-------------------------------------------------------\n",
      "tendency: -1, predict_label: 监管, size: (233, 11)\n",
      "tendency: -1, predict_label: 公司内部管理, size: (503, 11)\n",
      "tendency: -1, predict_label: 消费服务, size: (773, 11)\n",
      "tendency: -1, predict_label: 行业, size: (905, 11)\n",
      "predict_label   公司内部管理  消费服务   监管   行业  All\n",
      "tendency type                              \n",
      "-1       安徽银监局     270   270  233  132  905\n",
      "All                270   270  233  132  905\n"
     ]
    }
   ],
   "source": [
    "fea_filename = 'cbirc_result/tendency/result/%s_%s_tendency_predict_mysql_20181218(1210-1214).xlsx'%(gather_types, \n",
    "                                                                                                     proj_name_dict[types])\n",
    "print(fea_filename)\n",
    "print(combined_data['tendency'].value_counts())\n",
    "\n",
    "N = 1000 # 每类 N 条数据\n",
    "class_n = int(combined_data['predict_label'].unique().shape[0])\n",
    "n = int(N / class_n) + 20\n",
    "\n",
    "print('正负各 %s 条，共 %s 类， 每类各 %s 条'%(N, class_n, n))\n",
    "with pd.ExcelWriter(fea_filename) as writer:\n",
    "    for tendency in combined_data['tendency'].unique():\n",
    "        print('-------------------------------------------------------')\n",
    "        tmp_data = pd.DataFrame()\n",
    "        sel_data = combined_data[combined_data['tendency'] == tendency]        \n",
    "        for predict_label in combined_data['predict_label'].unique():\n",
    "            label_data = sel_data[sel_data['predict_label'] == predict_label]\n",
    "            if label_data.shape[0] > n:\n",
    "                sel_label_data = label_data.sample(n = n, axis = 0, random_state=3)\n",
    "            else :\n",
    "                sel_label_data = label_data\n",
    "            tmp_data = pd.concat([tmp_data, sel_label_data], axis = 0)        \n",
    "            print('tendency: %s, predict_label: %s, size: %s'%(tendency, predict_label, tmp_data.shape))\n",
    "\n",
    "        if gather_types == '补录':\n",
    "            t_n = tmp_data.shape[0]\n",
    "        else :            \n",
    "            if tmp_data.shape[0] > N:\n",
    "                t_n = N\n",
    "            else :\n",
    "                t_n = tmp_data.shape[0]\n",
    "        \n",
    "        tmp_data = tmp_data.sample(n = t_n, axis = 0, random_state=3)\n",
    "        tmp_data.to_excel(writer,str(tendency), index = False)        \n",
    "        print(tmp_data.pivot_table(index = ['tendency', 'type'], \n",
    "                                    columns = ['predict_label'], \n",
    "                                    values = 'title', aggfunc=len, \n",
    "                                    fill_value=0, margins=True))    \n",
    "        \n",
    "    writer.save()"
   ]
  },
  {
   "cell_type": "markdown",
   "metadata": {
    "collapsed": true
   },
   "source": [
    "## 本地模型"
   ]
  },
  {
   "cell_type": "markdown",
   "metadata": {},
   "source": [
    "### 八分类"
   ]
  },
  {
   "cell_type": "markdown",
   "metadata": {},
   "source": [
    "#### CBRC"
   ]
  },
  {
   "cell_type": "code",
   "execution_count": 75,
   "metadata": {
    "ExecuteTime": {
     "end_time": "2018-11-15T07:57:33.168863Z",
     "start_time": "2018-11-15T07:57:33.161863Z"
    },
    "collapsed": true
   },
   "outputs": [],
   "source": [
    "from sklearn.externals import joblib\n",
    "pipeline_old = joblib.load( \"model/cbrc_8classifier_1015.pkl.z\")\n",
    "\n",
    "url = 'http://47.93.183.157:6001/judge_correlation_b'\n",
    "col_name = 'cor'\n",
    "types = 1\n",
    "\n",
    "combined_data['title_content'] = combined_data['title'].astype(str) + '。' + combined_data['content'].astype(str)\n",
    "title_content = pre_cor_cbrc.handle_contents(combined_data['title_content'].tolist())\n",
    "print(len(title_content))"
   ]
  },
  {
   "cell_type": "markdown",
   "metadata": {},
   "source": [
    "#### CIRC"
   ]
  },
  {
   "cell_type": "code",
   "execution_count": 92,
   "metadata": {
    "ExecuteTime": {
     "end_time": "2018-11-26T06:23:19.978490Z",
     "start_time": "2018-11-26T06:23:09.913914Z"
    }
   },
   "outputs": [
    {
     "name": "stdout",
     "output_type": "stream",
     "text": [
      "43\n"
     ]
    }
   ],
   "source": [
    "from sklearn.externals import joblib\n",
    "pipeline_old = joblib.load( \"model/circ_8classifier_1113.pkl.z\")\n",
    "# pipeline_old = joblib.load( \"model/circ_picc_10classifier_1118.pkl.z\")\n",
    "\n",
    "url = 'http://47.93.183.157:10000/judge_correlation_i'\n",
    "col_name = 'cor'\n",
    "types = 5\n",
    "\n",
    "combined_data['title_content'] = combined_data['title'].astype(str) + '。' + combined_data['content'].astype(str)\n",
    "title_content = pre_cor_circ.handle_contents(combined_data['title_content'].tolist())\n",
    "print(len(title_content))"
   ]
  },
  {
   "cell_type": "markdown",
   "metadata": {},
   "source": [
    "#### pre"
   ]
  },
  {
   "cell_type": "code",
   "execution_count": 93,
   "metadata": {
    "ExecuteTime": {
     "end_time": "2018-11-26T06:23:21.615583Z",
     "start_time": "2018-11-26T06:23:21.128556Z"
    },
    "collapsed": true
   },
   "outputs": [],
   "source": [
    "local_label = pipeline_old.predict(title_content)\n",
    "local_proba = pipeline_old.predict_proba(title_content)"
   ]
  },
  {
   "cell_type": "code",
   "execution_count": 94,
   "metadata": {
    "ExecuteTime": {
     "end_time": "2018-11-26T06:23:22.492634Z",
     "start_time": "2018-11-26T06:23:22.454631Z"
    }
   },
   "outputs": [
    {
     "name": "stdout",
     "output_type": "stream",
     "text": [
      "(43, 13)\n"
     ]
    },
    {
     "data": {
      "text/html": [
       "<div>\n",
       "<style scoped>\n",
       "    .dataframe tbody tr th:only-of-type {\n",
       "        vertical-align: middle;\n",
       "    }\n",
       "\n",
       "    .dataframe tbody tr th {\n",
       "        vertical-align: top;\n",
       "    }\n",
       "\n",
       "    .dataframe thead th {\n",
       "        text-align: right;\n",
       "    }\n",
       "</style>\n",
       "<table border=\"1\" class=\"dataframe\">\n",
       "  <thead>\n",
       "    <tr style=\"text-align: right;\">\n",
       "      <th></th>\n",
       "      <th>gather_type</th>\n",
       "      <th>type</th>\n",
       "      <th>urlhash</th>\n",
       "      <th>predict_label</th>\n",
       "      <th>label</th>\n",
       "      <th>title</th>\n",
       "      <th>content</th>\n",
       "      <th>group_id</th>\n",
       "      <th>publishtime</th>\n",
       "      <th>tendency</th>\n",
       "      <th>title_content</th>\n",
       "      <th>local_label</th>\n",
       "      <th>local_proba</th>\n",
       "    </tr>\n",
       "  </thead>\n",
       "  <tbody>\n",
       "    <tr>\n",
       "      <th>0</th>\n",
       "      <td>补录</td>\n",
       "      <td>中国人保</td>\n",
       "      <td>-1451164327749029888</td>\n",
       "      <td>环保</td>\n",
       "      <td>NaN</td>\n",
       "      <td>11月18日21时40分新疆和田地区于田县发生3.0级地震</td>\n",
       "      <td>据中国地震台网测定，北京时间2018年11月18日21时40分在新疆和田地区于田县（北纬36...</td>\n",
       "      <td>新闻</td>\n",
       "      <td>2018-11-18 21:58:50</td>\n",
       "      <td>-1</td>\n",
       "      <td>11月18日21时40分新疆和田地区于田县发生3.0级地震。据中国地震台网测定，北京时间20...</td>\n",
       "      <td>噪音</td>\n",
       "      <td>0.605084</td>\n",
       "    </tr>\n",
       "    <tr>\n",
       "      <th>0</th>\n",
       "      <td>补录</td>\n",
       "      <td>中国人保</td>\n",
       "      <td>-6173404825726358528</td>\n",
       "      <td>监管</td>\n",
       "      <td>NaN</td>\n",
       "      <td>周亮：民营经济离场论调极其错误 银保监会对国有和民营经济一视同仁</td>\n",
       "      <td>11月19日，在第九届财新峰会上，中国银行保险监督管理委员会副主席周亮表示，改革开放40年中...</td>\n",
       "      <td>新闻</td>\n",
       "      <td>2018-11-19 11:09:19</td>\n",
       "      <td>0</td>\n",
       "      <td>周亮：民营经济离场论调极其错误 银保监会对国有和民营经济一视同仁。11月19日，在第九届财新...</td>\n",
       "      <td>监管</td>\n",
       "      <td>0.915518</td>\n",
       "    </tr>\n",
       "  </tbody>\n",
       "</table>\n",
       "</div>"
      ],
      "text/plain": [
       "  gather_type  type              urlhash predict_label  label  \\\n",
       "0          补录  中国人保 -1451164327749029888            环保    NaN   \n",
       "0          补录  中国人保 -6173404825726358528            监管    NaN   \n",
       "\n",
       "                              title  \\\n",
       "0     11月18日21时40分新疆和田地区于田县发生3.0级地震   \n",
       "0  周亮：民营经济离场论调极其错误 银保监会对国有和民营经济一视同仁   \n",
       "\n",
       "                                             content group_id  \\\n",
       "0  据中国地震台网测定，北京时间2018年11月18日21时40分在新疆和田地区于田县（北纬36...       新闻   \n",
       "0  11月19日，在第九届财新峰会上，中国银行保险监督管理委员会副主席周亮表示，改革开放40年中...       新闻   \n",
       "\n",
       "          publishtime  tendency  \\\n",
       "0 2018-11-18 21:58:50        -1   \n",
       "0 2018-11-19 11:09:19         0   \n",
       "\n",
       "                                       title_content local_label  local_proba  \n",
       "0  11月18日21时40分新疆和田地区于田县发生3.0级地震。据中国地震台网测定，北京时间20...          噪音     0.605084  \n",
       "0  周亮：民营经济离场论调极其错误 银保监会对国有和民营经济一视同仁。11月19日，在第九届财新...          监管     0.915518  "
      ]
     },
     "execution_count": 94,
     "metadata": {},
     "output_type": "execute_result"
    }
   ],
   "source": [
    "combined_data['local_label'] = local_label\n",
    "combined_data['local_proba'] = local_proba.max(axis = 1)\n",
    "combined_data['local_label'] = combined_data['local_label'].apply(lambda x:class_name_dict[x])\n",
    "print(combined_data.shape)\n",
    "combined_data.iloc[:2, :]"
   ]
  },
  {
   "cell_type": "code",
   "execution_count": 95,
   "metadata": {
    "ExecuteTime": {
     "end_time": "2018-11-26T06:23:25.590811Z",
     "start_time": "2018-11-26T06:23:25.577810Z"
    }
   },
   "outputs": [
    {
     "data": {
      "text/plain": [
       "噪音        13\n",
       "行业        12\n",
       "公司内部管理     5\n",
       "消费服务       5\n",
       "其他相关报道     4\n",
       "监管         3\n",
       "资本市场       1\n",
       "Name: local_label, dtype: int64"
      ]
     },
     "execution_count": 95,
     "metadata": {},
     "output_type": "execute_result"
    }
   ],
   "source": [
    "combined_data['local_label'].value_counts()"
   ]
  },
  {
   "cell_type": "markdown",
   "metadata": {},
   "source": [
    "#### 线上线下一致性: mysql 与 local"
   ]
  },
  {
   "cell_type": "code",
   "execution_count": 96,
   "metadata": {
    "ExecuteTime": {
     "end_time": "2018-11-26T06:23:27.156900Z",
     "start_time": "2018-11-26T06:23:27.056895Z"
    }
   },
   "outputs": [
    {
     "name": "stdout",
     "output_type": "stream",
     "text": [
      "0.46511627906976744\n",
      "Wrong    23\n",
      "Right    20\n",
      "Name: R_W, dtype: int64\n"
     ]
    },
    {
     "data": {
      "text/html": [
       "<div>\n",
       "<style scoped>\n",
       "    .dataframe tbody tr th:only-of-type {\n",
       "        vertical-align: middle;\n",
       "    }\n",
       "\n",
       "    .dataframe tbody tr th {\n",
       "        vertical-align: top;\n",
       "    }\n",
       "\n",
       "    .dataframe thead tr th {\n",
       "        text-align: left;\n",
       "    }\n",
       "\n",
       "    .dataframe thead tr:last-of-type th {\n",
       "        text-align: right;\n",
       "    }\n",
       "</style>\n",
       "<table border=\"1\" class=\"dataframe\">\n",
       "  <thead>\n",
       "    <tr>\n",
       "      <th></th>\n",
       "      <th colspan=\"7\" halign=\"left\">len</th>\n",
       "    </tr>\n",
       "    <tr>\n",
       "      <th></th>\n",
       "      <th colspan=\"7\" halign=\"left\">urlhash</th>\n",
       "    </tr>\n",
       "    <tr>\n",
       "      <th>predict_label</th>\n",
       "      <th>交通</th>\n",
       "      <th>产品销售</th>\n",
       "      <th>公司内部管理</th>\n",
       "      <th>环保</th>\n",
       "      <th>监管</th>\n",
       "      <th>行业</th>\n",
       "      <th>All</th>\n",
       "    </tr>\n",
       "    <tr>\n",
       "      <th>local_label</th>\n",
       "      <th></th>\n",
       "      <th></th>\n",
       "      <th></th>\n",
       "      <th></th>\n",
       "      <th></th>\n",
       "      <th></th>\n",
       "      <th></th>\n",
       "    </tr>\n",
       "  </thead>\n",
       "  <tbody>\n",
       "    <tr>\n",
       "      <th>公司内部管理</th>\n",
       "      <td>1</td>\n",
       "      <td>1</td>\n",
       "      <td>0</td>\n",
       "      <td>0</td>\n",
       "      <td>0</td>\n",
       "      <td>1</td>\n",
       "      <td>3</td>\n",
       "    </tr>\n",
       "    <tr>\n",
       "      <th>其他相关报道</th>\n",
       "      <td>1</td>\n",
       "      <td>1</td>\n",
       "      <td>0</td>\n",
       "      <td>0</td>\n",
       "      <td>0</td>\n",
       "      <td>0</td>\n",
       "      <td>2</td>\n",
       "    </tr>\n",
       "    <tr>\n",
       "      <th>噪音</th>\n",
       "      <td>1</td>\n",
       "      <td>0</td>\n",
       "      <td>0</td>\n",
       "      <td>9</td>\n",
       "      <td>0</td>\n",
       "      <td>1</td>\n",
       "      <td>11</td>\n",
       "    </tr>\n",
       "    <tr>\n",
       "      <th>消费服务</th>\n",
       "      <td>1</td>\n",
       "      <td>0</td>\n",
       "      <td>1</td>\n",
       "      <td>1</td>\n",
       "      <td>0</td>\n",
       "      <td>0</td>\n",
       "      <td>3</td>\n",
       "    </tr>\n",
       "    <tr>\n",
       "      <th>行业</th>\n",
       "      <td>0</td>\n",
       "      <td>0</td>\n",
       "      <td>0</td>\n",
       "      <td>0</td>\n",
       "      <td>4</td>\n",
       "      <td>0</td>\n",
       "      <td>4</td>\n",
       "    </tr>\n",
       "    <tr>\n",
       "      <th>All</th>\n",
       "      <td>4</td>\n",
       "      <td>2</td>\n",
       "      <td>1</td>\n",
       "      <td>10</td>\n",
       "      <td>4</td>\n",
       "      <td>2</td>\n",
       "      <td>23</td>\n",
       "    </tr>\n",
       "  </tbody>\n",
       "</table>\n",
       "</div>"
      ],
      "text/plain": [
       "                  len                          \n",
       "              urlhash                          \n",
       "predict_label      交通 产品销售 公司内部管理  环保 监管 行业 All\n",
       "local_label                                    \n",
       "公司内部管理              1    1      0   0  0  1   3\n",
       "其他相关报道              1    1      0   0  0  0   2\n",
       "噪音                  1    0      0   9  0  1  11\n",
       "消费服务                1    0      1   1  0  0   3\n",
       "行业                  0    0      0   0  4  0   4\n",
       "All                 4    2      1  10  4  2  23"
      ]
     },
     "execution_count": 96,
     "metadata": {},
     "output_type": "execute_result"
    }
   ],
   "source": [
    "combined_data['R_W'] = combined_data.apply(lambda x: 'Right' if x['local_label'] == x['predict_label'] else 'Wrong', axis = 1)\n",
    "print(combined_data[combined_data['R_W'] == 'Right'].shape[0]/combined_data.shape[0])\n",
    "print(combined_data['R_W'].value_counts())\n",
    "combined_data[combined_data['R_W'] == 'Wrong'].pivot_table(index = ['local_label'], columns = ['predict_label'], \n",
    "                                                            aggfunc = [len], values = ['urlhash'], \n",
    "                                                            fill_value = 0, margins = True)"
   ]
  },
  {
   "cell_type": "markdown",
   "metadata": {},
   "source": [
    "#### 线上线下一致性: online 与 local"
   ]
  },
  {
   "cell_type": "code",
   "execution_count": 97,
   "metadata": {
    "ExecuteTime": {
     "end_time": "2018-11-26T06:23:40.100641Z",
     "start_time": "2018-11-26T06:23:40.093640Z"
    },
    "collapsed": true
   },
   "outputs": [],
   "source": [
    "combined_data['id'] = range(combined_data.shape[0])\n",
    "combined_data['title'] = combined_data['title'].astype(str) \n",
    "combined_data['content'] = combined_data['content'].astype(str)"
   ]
  },
  {
   "cell_type": "code",
   "execution_count": 32,
   "metadata": {
    "ExecuteTime": {
     "end_time": "2018-12-04T08:52:13.964084Z",
     "start_time": "2018-12-04T08:52:08.618778Z"
    }
   },
   "outputs": [
    {
     "name": "stdout",
     "output_type": "stream",
     "text": [
      "elapsed_time:  5.00\n"
     ]
    },
    {
     "data": {
      "text/html": [
       "<div>\n",
       "<style scoped>\n",
       "    .dataframe tbody tr th:only-of-type {\n",
       "        vertical-align: middle;\n",
       "    }\n",
       "\n",
       "    .dataframe tbody tr th {\n",
       "        vertical-align: top;\n",
       "    }\n",
       "\n",
       "    .dataframe thead th {\n",
       "        text-align: right;\n",
       "    }\n",
       "</style>\n",
       "<table border=\"1\" class=\"dataframe\">\n",
       "  <thead>\n",
       "    <tr style=\"text-align: right;\">\n",
       "      <th></th>\n",
       "      <th>id</th>\n",
       "      <th>predict_label</th>\n",
       "    </tr>\n",
       "  </thead>\n",
       "  <tbody>\n",
       "    <tr>\n",
       "      <th>0</th>\n",
       "      <td>15238562</td>\n",
       "      <td>1</td>\n",
       "    </tr>\n",
       "    <tr>\n",
       "      <th>1</th>\n",
       "      <td>9567425</td>\n",
       "      <td>8</td>\n",
       "    </tr>\n",
       "    <tr>\n",
       "      <th>2</th>\n",
       "      <td>16364349</td>\n",
       "      <td>8</td>\n",
       "    </tr>\n",
       "    <tr>\n",
       "      <th>3</th>\n",
       "      <td>18131378</td>\n",
       "      <td>1</td>\n",
       "    </tr>\n",
       "    <tr>\n",
       "      <th>4</th>\n",
       "      <td>17741383</td>\n",
       "      <td>5</td>\n",
       "    </tr>\n",
       "  </tbody>\n",
       "</table>\n",
       "</div>"
      ],
      "text/plain": [
       "         id  predict_label\n",
       "0  15238562              1\n",
       "1   9567425              8\n",
       "2  16364349              8\n",
       "3  18131378              1\n",
       "4  17741383              5"
      ]
     },
     "execution_count": 32,
     "metadata": {},
     "output_type": "execute_result"
    }
   ],
   "source": [
    "combined_data = pd.read_excel('广发银行数据.xlsx')\n",
    "\n",
    "url = 'http://47.93.183.157:10000/judge_correlation_i'\n",
    "col_name = 'cor'\n",
    "types = 2\n",
    "\n",
    "data = {\"types\":types,\"record\":combined_data.loc[:,['id', 'title' ,'content']].to_dict(orient = 'records')}\n",
    "\n",
    "parse_data, elapsed_time = get_server_res(data, url, col_name)\n",
    "print('elapsed_time: ', elapsed_time)\n",
    "parse_data.columns = ['id', 'predict_label']\n",
    "combined_data = pd.merge(combined_data, parse_data, on  = 'id')\n",
    "parse_data.head()"
   ]
  },
  {
   "cell_type": "code",
   "execution_count": 36,
   "metadata": {
    "ExecuteTime": {
     "end_time": "2018-12-04T08:53:33.990661Z",
     "start_time": "2018-12-04T08:53:33.758648Z"
    }
   },
   "outputs": [
    {
     "name": "stdout",
     "output_type": "stream",
     "text": [
      "(129, 9)\n"
     ]
    },
    {
     "data": {
      "text/html": [
       "<div>\n",
       "<style scoped>\n",
       "    .dataframe tbody tr th:only-of-type {\n",
       "        vertical-align: middle;\n",
       "    }\n",
       "\n",
       "    .dataframe tbody tr th {\n",
       "        vertical-align: top;\n",
       "    }\n",
       "\n",
       "    .dataframe thead th {\n",
       "        text-align: right;\n",
       "    }\n",
       "</style>\n",
       "<table border=\"1\" class=\"dataframe\">\n",
       "  <thead>\n",
       "    <tr style=\"text-align: right;\">\n",
       "      <th></th>\n",
       "      <th>id</th>\n",
       "      <th>node_id</th>\n",
       "      <th>tendency</th>\n",
       "      <th>type</th>\n",
       "      <th>group_id</th>\n",
       "      <th>publishtime</th>\n",
       "      <th>title</th>\n",
       "      <th>content</th>\n",
       "      <th>predict_label</th>\n",
       "    </tr>\n",
       "  </thead>\n",
       "  <tbody>\n",
       "    <tr>\n",
       "      <th>0</th>\n",
       "      <td>15238562</td>\n",
       "      <td>1187</td>\n",
       "      <td>-1</td>\n",
       "      <td>3</td>\n",
       "      <td>1</td>\n",
       "      <td>2018-03-21 21:53:58</td>\n",
       "      <td>金融领域风险该戳的脓包要戳 否则有道德风险</td>\n",
       "      <td>金融领域也有一些违法违规行为或者规避风险的行为在兴风作浪。最近我们监管部门主动出手、果...</td>\n",
       "      <td>监管</td>\n",
       "    </tr>\n",
       "    <tr>\n",
       "      <th>1</th>\n",
       "      <td>9567425</td>\n",
       "      <td>1187</td>\n",
       "      <td>-1</td>\n",
       "      <td>3</td>\n",
       "      <td>1</td>\n",
       "      <td>2018-08-04 08:40:24</td>\n",
       "      <td>强监管之风继续吹   7月银监系统罚没金额超8000万</td>\n",
       "      <td>03:12            \\n\\n进入下半年以来，银行业乱象的整治仍在进行。本报记者...</td>\n",
       "      <td>噪音</td>\n",
       "    </tr>\n",
       "    <tr>\n",
       "      <th>2</th>\n",
       "      <td>16364349</td>\n",
       "      <td>1187</td>\n",
       "      <td>-1</td>\n",
       "      <td>3</td>\n",
       "      <td>1</td>\n",
       "      <td>2018-08-02 09:44:43</td>\n",
       "      <td>东莞市发展和改革局行政处罚决定书（东发改价监处〔2018〕21号）</td>\n",
       "      <td>当事人：\\n\\r东莞市臻品表业有限公司\\n\\r地\\n\\r址：\\n\\r东莞市黄江镇胜前岗村环城...</td>\n",
       "      <td>噪音</td>\n",
       "    </tr>\n",
       "    <tr>\n",
       "      <th>3</th>\n",
       "      <td>18131378</td>\n",
       "      <td>1187</td>\n",
       "      <td>0</td>\n",
       "      <td>3</td>\n",
       "      <td>1</td>\n",
       "      <td>2018-12-03 00:00:00</td>\n",
       "      <td>银行严监管边际改善</td>\n",
       "      <td>随着金融去杠杆进入尾声，严监管政策基本出尽，“降\\n利率\\n”阶段对\\n银行\\n负债成本...</td>\n",
       "      <td>监管</td>\n",
       "    </tr>\n",
       "    <tr>\n",
       "      <th>4</th>\n",
       "      <td>17741383</td>\n",
       "      <td>1187</td>\n",
       "      <td>0</td>\n",
       "      <td>3</td>\n",
       "      <td>1</td>\n",
       "      <td>2018-11-27 13:36:00</td>\n",
       "      <td>涉嫌多项违规 信美人寿“相互保”今日下架</td>\n",
       "      <td>来源标题：\\n涉嫌多项违规 信美人寿“相互保”今日下架\\n\\r上证报记者最新获悉，监管部门已...</td>\n",
       "      <td>公司内部管理</td>\n",
       "    </tr>\n",
       "  </tbody>\n",
       "</table>\n",
       "</div>"
      ],
      "text/plain": [
       "         id  node_id  tendency  type  group_id         publishtime  \\\n",
       "0  15238562     1187        -1     3         1 2018-03-21 21:53:58   \n",
       "1   9567425     1187        -1     3         1 2018-08-04 08:40:24   \n",
       "2  16364349     1187        -1     3         1 2018-08-02 09:44:43   \n",
       "3  18131378     1187         0     3         1 2018-12-03 00:00:00   \n",
       "4  17741383     1187         0     3         1 2018-11-27 13:36:00   \n",
       "\n",
       "                               title  \\\n",
       "0              金融领域风险该戳的脓包要戳 否则有道德风险   \n",
       "1        强监管之风继续吹   7月银监系统罚没金额超8000万   \n",
       "2  东莞市发展和改革局行政处罚决定书（东发改价监处〔2018〕21号）   \n",
       "3                          银行严监管边际改善   \n",
       "4               涉嫌多项违规 信美人寿“相互保”今日下架   \n",
       "\n",
       "                                             content predict_label  \n",
       "0  　　 金融领域也有一些违法违规行为或者规避风险的行为在兴风作浪。最近我们监管部门主动出手、果...            监管  \n",
       "1  03:12            \\n\\n进入下半年以来，银行业乱象的整治仍在进行。本报记者...            噪音  \n",
       "2  当事人：\\n\\r东莞市臻品表业有限公司\\n\\r地\\n\\r址：\\n\\r东莞市黄江镇胜前岗村环城...            噪音  \n",
       "3  　　随着金融去杠杆进入尾声，严监管政策基本出尽，“降\\n利率\\n”阶段对\\n银行\\n负债成本...            监管  \n",
       "4  来源标题：\\n涉嫌多项违规 信美人寿“相互保”今日下架\\n\\r上证报记者最新获悉，监管部门已...        公司内部管理  "
      ]
     },
     "execution_count": 36,
     "metadata": {},
     "output_type": "execute_result"
    }
   ],
   "source": [
    "# combined_data['predict_label'] = combined_data['predict_label'].apply(lambda x:class_name_dict[x])\n",
    "combined_data.to_excel('广发银行数据_20181204.xlsx')\n",
    "print(combined_data.shape)\n",
    "combined_data.head()"
   ]
  },
  {
   "cell_type": "code",
   "execution_count": 102,
   "metadata": {
    "ExecuteTime": {
     "end_time": "2018-11-26T06:27:05.589394Z",
     "start_time": "2018-11-26T06:27:04.737345Z"
    }
   },
   "outputs": [
    {
     "name": "stdout",
     "output_type": "stream",
     "text": [
      "elapsed_time:  0.00\n"
     ]
    },
    {
     "data": {
      "text/html": [
       "<div>\n",
       "<style scoped>\n",
       "    .dataframe tbody tr th:only-of-type {\n",
       "        vertical-align: middle;\n",
       "    }\n",
       "\n",
       "    .dataframe tbody tr th {\n",
       "        vertical-align: top;\n",
       "    }\n",
       "\n",
       "    .dataframe thead th {\n",
       "        text-align: right;\n",
       "    }\n",
       "</style>\n",
       "<table border=\"1\" class=\"dataframe\">\n",
       "  <thead>\n",
       "    <tr style=\"text-align: right;\">\n",
       "      <th></th>\n",
       "      <th>id</th>\n",
       "      <th>online_label</th>\n",
       "    </tr>\n",
       "  </thead>\n",
       "  <tbody>\n",
       "    <tr>\n",
       "      <th>0</th>\n",
       "      <td>0</td>\n",
       "      <td>8</td>\n",
       "    </tr>\n",
       "    <tr>\n",
       "      <th>1</th>\n",
       "      <td>1</td>\n",
       "      <td>1</td>\n",
       "    </tr>\n",
       "    <tr>\n",
       "      <th>2</th>\n",
       "      <td>2</td>\n",
       "      <td>2</td>\n",
       "    </tr>\n",
       "    <tr>\n",
       "      <th>3</th>\n",
       "      <td>3</td>\n",
       "      <td>7</td>\n",
       "    </tr>\n",
       "    <tr>\n",
       "      <th>4</th>\n",
       "      <td>4</td>\n",
       "      <td>6</td>\n",
       "    </tr>\n",
       "  </tbody>\n",
       "</table>\n",
       "</div>"
      ],
      "text/plain": [
       "   id  online_label\n",
       "0   0             8\n",
       "1   1             1\n",
       "2   2             2\n",
       "3   3             7\n",
       "4   4             6"
      ]
     },
     "execution_count": 102,
     "metadata": {},
     "output_type": "execute_result"
    }
   ],
   "source": [
    "data = {\"types\":types,\"record\":combined_data.loc[:,['id', 'title' ,'content']].to_dict(orient = 'records')}\n",
    "# url = \"http://47.93.77.19:6001/judge_correlation_yjh\"\n",
    "# col_name = 'sec'\n",
    "\n",
    "# parse_data = get_server_res_yjh(data, url, col_name)\n",
    "parse_data, elapsed_time = get_server_res(data, url, col_name)\n",
    "print('elapsed_time: ', elapsed_time)\n",
    "parse_data.columns = ['id', 'online_label']\n",
    "parse_data.head()"
   ]
  },
  {
   "cell_type": "code",
   "execution_count": 103,
   "metadata": {
    "ExecuteTime": {
     "end_time": "2018-11-26T06:27:10.826694Z",
     "start_time": "2018-11-26T06:27:10.746689Z"
    }
   },
   "outputs": [
    {
     "name": "stdout",
     "output_type": "stream",
     "text": [
      "(43, 16)\n",
      "0.7674418604651163\n",
      "Right    33\n",
      "Wrong    10\n",
      "Name: O_R_W, dtype: int64\n"
     ]
    },
    {
     "data": {
      "text/html": [
       "<div>\n",
       "<style scoped>\n",
       "    .dataframe tbody tr th:only-of-type {\n",
       "        vertical-align: middle;\n",
       "    }\n",
       "\n",
       "    .dataframe tbody tr th {\n",
       "        vertical-align: top;\n",
       "    }\n",
       "\n",
       "    .dataframe thead tr th {\n",
       "        text-align: left;\n",
       "    }\n",
       "\n",
       "    .dataframe thead tr:last-of-type th {\n",
       "        text-align: right;\n",
       "    }\n",
       "</style>\n",
       "<table border=\"1\" class=\"dataframe\">\n",
       "  <thead>\n",
       "    <tr>\n",
       "      <th></th>\n",
       "      <th colspan=\"6\" halign=\"left\">len</th>\n",
       "    </tr>\n",
       "    <tr>\n",
       "      <th></th>\n",
       "      <th colspan=\"6\" halign=\"left\">urlhash</th>\n",
       "    </tr>\n",
       "    <tr>\n",
       "      <th>online_label</th>\n",
       "      <th>交通</th>\n",
       "      <th>公司内部管理</th>\n",
       "      <th>噪音</th>\n",
       "      <th>监管</th>\n",
       "      <th>行业</th>\n",
       "      <th>All</th>\n",
       "    </tr>\n",
       "    <tr>\n",
       "      <th>local_label</th>\n",
       "      <th></th>\n",
       "      <th></th>\n",
       "      <th></th>\n",
       "      <th></th>\n",
       "      <th></th>\n",
       "      <th></th>\n",
       "    </tr>\n",
       "  </thead>\n",
       "  <tbody>\n",
       "    <tr>\n",
       "      <th>公司内部管理</th>\n",
       "      <td>0</td>\n",
       "      <td>0</td>\n",
       "      <td>2</td>\n",
       "      <td>1</td>\n",
       "      <td>0</td>\n",
       "      <td>3</td>\n",
       "    </tr>\n",
       "    <tr>\n",
       "      <th>其他相关报道</th>\n",
       "      <td>0</td>\n",
       "      <td>0</td>\n",
       "      <td>1</td>\n",
       "      <td>0</td>\n",
       "      <td>0</td>\n",
       "      <td>1</td>\n",
       "    </tr>\n",
       "    <tr>\n",
       "      <th>噪音</th>\n",
       "      <td>2</td>\n",
       "      <td>0</td>\n",
       "      <td>0</td>\n",
       "      <td>0</td>\n",
       "      <td>1</td>\n",
       "      <td>3</td>\n",
       "    </tr>\n",
       "    <tr>\n",
       "      <th>消费服务</th>\n",
       "      <td>1</td>\n",
       "      <td>1</td>\n",
       "      <td>0</td>\n",
       "      <td>0</td>\n",
       "      <td>0</td>\n",
       "      <td>2</td>\n",
       "    </tr>\n",
       "    <tr>\n",
       "      <th>行业</th>\n",
       "      <td>0</td>\n",
       "      <td>0</td>\n",
       "      <td>0</td>\n",
       "      <td>1</td>\n",
       "      <td>0</td>\n",
       "      <td>1</td>\n",
       "    </tr>\n",
       "    <tr>\n",
       "      <th>All</th>\n",
       "      <td>3</td>\n",
       "      <td>1</td>\n",
       "      <td>3</td>\n",
       "      <td>2</td>\n",
       "      <td>1</td>\n",
       "      <td>10</td>\n",
       "    </tr>\n",
       "  </tbody>\n",
       "</table>\n",
       "</div>"
      ],
      "text/plain": [
       "                 len                    \n",
       "             urlhash                    \n",
       "online_label      交通 公司内部管理 噪音 监管 行业 All\n",
       "local_label                             \n",
       "公司内部管理             0      0  2  1  0   3\n",
       "其他相关报道             0      0  1  0  0   1\n",
       "噪音                 2      0  0  0  1   3\n",
       "消费服务               1      1  0  0  0   2\n",
       "行业                 0      0  0  1  0   1\n",
       "All                3      1  3  2  1  10"
      ]
     },
     "execution_count": 103,
     "metadata": {},
     "output_type": "execute_result"
    }
   ],
   "source": [
    "combined_data = pd.merge(combined_data, parse_data, on  = 'id')\n",
    "print(combined_data.shape)\n",
    "combined_data['online_label'] = combined_data['online_label'].apply(lambda x:class_name_dict[x])\n",
    "combined_data['O_R_W'] = combined_data.apply(lambda x: 'Right' if x['local_label'] == x['online_label'] else 'Wrong', axis = 1)\n",
    "print(combined_data[combined_data['O_R_W'] == 'Right'].shape[0]/combined_data.shape[0])\n",
    "print(combined_data['O_R_W'].value_counts())\n",
    "combined_data[combined_data['O_R_W'] == 'Wrong'].pivot_table(index = ['local_label'], columns = ['online_label'], \n",
    "                                                            aggfunc = [len], values = ['urlhash'], \n",
    "                                                            fill_value = 0, margins = True)"
   ]
  },
  {
   "cell_type": "markdown",
   "metadata": {},
   "source": [
    "#### 线上线下一致性: online 与 mysql"
   ]
  },
  {
   "cell_type": "code",
   "execution_count": 104,
   "metadata": {
    "ExecuteTime": {
     "end_time": "2018-11-26T06:27:18.387126Z",
     "start_time": "2018-11-26T06:27:18.352124Z"
    }
   },
   "outputs": [
    {
     "name": "stdout",
     "output_type": "stream",
     "text": [
      "0.5348837209302325\n",
      "Right    23\n",
      "Wrong    20\n",
      "Name: O_R_W, dtype: int64\n"
     ]
    }
   ],
   "source": [
    "combined_data['O_R_W'] = combined_data.apply(lambda x: 'Right' if x['predict_label'] == x['online_label'] else 'Wrong', axis = 1)\n",
    "print(combined_data[combined_data['O_R_W'] == 'Right'].shape[0]/combined_data.shape[0])\n",
    "print(combined_data['O_R_W'].value_counts())\n",
    "# combined_data[combined_data['O_R_W'] == 'Wrong'].pivot_table(index = ['predict_label'], \n",
    "#                                                              columns = ['online_label'], \n",
    "#                                                              aggfunc = [len], values = ['urlhash'], \n",
    "#                                                              fill_value = 0, margins = True)"
   ]
  },
  {
   "cell_type": "markdown",
   "metadata": {},
   "source": [
    "### 倾向性"
   ]
  },
  {
   "cell_type": "code",
   "execution_count": 110,
   "metadata": {
    "ExecuteTime": {
     "end_time": "2018-11-15T08:37:47.541957Z",
     "start_time": "2018-11-15T08:37:47.521956Z"
    }
   },
   "outputs": [
    {
     "data": {
      "text/html": [
       "<div>\n",
       "<style scoped>\n",
       "    .dataframe tbody tr th:only-of-type {\n",
       "        vertical-align: middle;\n",
       "    }\n",
       "\n",
       "    .dataframe tbody tr th {\n",
       "        vertical-align: top;\n",
       "    }\n",
       "\n",
       "    .dataframe thead th {\n",
       "        text-align: right;\n",
       "    }\n",
       "</style>\n",
       "<table border=\"1\" class=\"dataframe\">\n",
       "  <thead>\n",
       "    <tr style=\"text-align: right;\">\n",
       "      <th></th>\n",
       "      <th>type</th>\n",
       "      <th>urlhash</th>\n",
       "      <th>predict_label</th>\n",
       "      <th>label</th>\n",
       "      <th>title</th>\n",
       "      <th>content</th>\n",
       "      <th>group_id</th>\n",
       "      <th>publishtime</th>\n",
       "      <th>tendency</th>\n",
       "      <th>title_content</th>\n",
       "    </tr>\n",
       "  </thead>\n",
       "  <tbody>\n",
       "    <tr>\n",
       "      <th>10724</th>\n",
       "      <td>中国人保</td>\n",
       "      <td>4823901446525329408</td>\n",
       "      <td>噪音</td>\n",
       "      <td>NaN</td>\n",
       "      <td>因祸得福！CDR基金惊现大动作</td>\n",
       "      <td>渐渐被市场遗忘CDR基金，最近又曝出新动向。\\n\\n11月7日晚间，中国人保A股IPO网下初...</td>\n",
       "      <td>新闻客户端</td>\n",
       "      <td>2018-11-11 12:28:47</td>\n",
       "      <td>-1</td>\n",
       "      <td>因祸得福！CDR基金惊现大动作。渐渐被市场遗忘CDR基金，最近又曝出新动向。\\n\\n11月7...</td>\n",
       "    </tr>\n",
       "    <tr>\n",
       "      <th>4469</th>\n",
       "      <td>中国人保</td>\n",
       "      <td>2875199957075597824</td>\n",
       "      <td>噪音</td>\n",
       "      <td>NaN</td>\n",
       "      <td>【招聘】中国人民财产保险股份有限公司珠海市分公司2019年校招</td>\n",
       "      <td>一 公司简介 （一）中国人民财产保险股份有限公司简介 中国人民财产保险股份有限公司（PICC...</td>\n",
       "      <td>微信</td>\n",
       "      <td>2018-11-13 13:29:47</td>\n",
       "      <td>0</td>\n",
       "      <td>【招聘】中国人民财产保险股份有限公司珠海市分公司2019年校招。一 公司简介 （一）中国人民...</td>\n",
       "    </tr>\n",
       "  </tbody>\n",
       "</table>\n",
       "</div>"
      ],
      "text/plain": [
       "       type              urlhash predict_label  label  \\\n",
       "10724  中国人保  4823901446525329408            噪音    NaN   \n",
       "4469   中国人保  2875199957075597824            噪音    NaN   \n",
       "\n",
       "                                 title  \\\n",
       "10724                  因祸得福！CDR基金惊现大动作   \n",
       "4469   【招聘】中国人民财产保险股份有限公司珠海市分公司2019年校招   \n",
       "\n",
       "                                                 content group_id  \\\n",
       "10724  渐渐被市场遗忘CDR基金，最近又曝出新动向。\\n\\n11月7日晚间，中国人保A股IPO网下初...    新闻客户端   \n",
       "4469   一 公司简介 （一）中国人民财产保险股份有限公司简介 中国人民财产保险股份有限公司（PICC...       微信   \n",
       "\n",
       "              publishtime  tendency  \\\n",
       "10724 2018-11-11 12:28:47        -1   \n",
       "4469  2018-11-13 13:29:47         0   \n",
       "\n",
       "                                           title_content  \n",
       "10724  因祸得福！CDR基金惊现大动作。渐渐被市场遗忘CDR基金，最近又曝出新动向。\\n\\n11月7...  \n",
       "4469   【招聘】中国人民财产保险股份有限公司珠海市分公司2019年校招。一 公司简介 （一）中国人民...  "
      ]
     },
     "execution_count": 110,
     "metadata": {},
     "output_type": "execute_result"
    }
   ],
   "source": [
    "combined_data.iloc[:2, :]"
   ]
  },
  {
   "cell_type": "markdown",
   "metadata": {},
   "source": [
    "#### CBRC"
   ]
  },
  {
   "cell_type": "code",
   "execution_count": null,
   "metadata": {
    "collapsed": true
   },
   "outputs": [],
   "source": [
    "from sklearn.externals import joblib\n",
    "pipeline_old = joblib.load( \"model/cbrc_tendency_pipeline_20181114.pkl.z\")\n",
    "\n",
    "url = 'http://47.93.183.157:6001/tendency_analysis_b'\n",
    "col_name = 'tendency'\n",
    "types = 1\n",
    "\n",
    "combined_data['title_content'] = combined_data['title'].astype(str) + '。' + combined_data['content'].astype(str)\n",
    "title_content = pre_cor_cbrc.handle_contents(combined_data['title_content'].tolist())\n",
    "print(len(title_content))"
   ]
  },
  {
   "cell_type": "markdown",
   "metadata": {},
   "source": [
    "#### CIRC"
   ]
  },
  {
   "cell_type": "code",
   "execution_count": 118,
   "metadata": {
    "ExecuteTime": {
     "end_time": "2018-11-26T06:31:59.882227Z",
     "start_time": "2018-11-26T06:31:59.087181Z"
    }
   },
   "outputs": [
    {
     "name": "stdout",
     "output_type": "stream",
     "text": [
      "43\n"
     ]
    }
   ],
   "source": [
    "from sklearn.externals import joblib\n",
    "pipeline_old = joblib.load( \"model/circ_chapter_tendency_1113.pkl.z\")\n",
    "\n",
    "url = 'http://47.93.183.157:10000/tendency_analysis_i'\n",
    "col_name = 'tendency'\n",
    "types = 5\n",
    "\n",
    "combined_data['title_content'] = combined_data['title'].astype(str) + '。' + combined_data['content'].astype(str)\n",
    "title_content = pre_cor_circ.handle_contents(combined_data['title_content'].tolist())\n",
    "print(len(title_content))"
   ]
  },
  {
   "cell_type": "markdown",
   "metadata": {},
   "source": [
    "#### pre"
   ]
  },
  {
   "cell_type": "code",
   "execution_count": 119,
   "metadata": {
    "ExecuteTime": {
     "end_time": "2018-11-26T06:32:00.498262Z",
     "start_time": "2018-11-26T06:32:00.410257Z"
    },
    "collapsed": true
   },
   "outputs": [],
   "source": [
    "local_label = pipeline_old.predict(title_content)\n",
    "local_proba = pipeline_old.predict_proba(title_content)"
   ]
  },
  {
   "cell_type": "code",
   "execution_count": 120,
   "metadata": {
    "ExecuteTime": {
     "end_time": "2018-11-26T06:32:01.197302Z",
     "start_time": "2018-11-26T06:32:01.164300Z"
    }
   },
   "outputs": [
    {
     "name": "stdout",
     "output_type": "stream",
     "text": [
      "(43, 13)\n"
     ]
    },
    {
     "data": {
      "text/html": [
       "<div>\n",
       "<style scoped>\n",
       "    .dataframe tbody tr th:only-of-type {\n",
       "        vertical-align: middle;\n",
       "    }\n",
       "\n",
       "    .dataframe tbody tr th {\n",
       "        vertical-align: top;\n",
       "    }\n",
       "\n",
       "    .dataframe thead th {\n",
       "        text-align: right;\n",
       "    }\n",
       "</style>\n",
       "<table border=\"1\" class=\"dataframe\">\n",
       "  <thead>\n",
       "    <tr style=\"text-align: right;\">\n",
       "      <th></th>\n",
       "      <th>gather_type</th>\n",
       "      <th>type</th>\n",
       "      <th>urlhash</th>\n",
       "      <th>predict_label</th>\n",
       "      <th>label</th>\n",
       "      <th>title</th>\n",
       "      <th>content</th>\n",
       "      <th>group_id</th>\n",
       "      <th>publishtime</th>\n",
       "      <th>tendency</th>\n",
       "      <th>title_content</th>\n",
       "      <th>local_label</th>\n",
       "      <th>local_proba</th>\n",
       "    </tr>\n",
       "  </thead>\n",
       "  <tbody>\n",
       "    <tr>\n",
       "      <th>0</th>\n",
       "      <td>补录</td>\n",
       "      <td>中国人保</td>\n",
       "      <td>-1451164327749029888</td>\n",
       "      <td>环保</td>\n",
       "      <td>NaN</td>\n",
       "      <td>11月18日21时40分新疆和田地区于田县发生3.0级地震</td>\n",
       "      <td>据中国地震台网测定，北京时间2018年11月18日21时40分在新疆和田地区于田县（北纬36...</td>\n",
       "      <td>新闻</td>\n",
       "      <td>2018-11-18 21:58:50</td>\n",
       "      <td>-1</td>\n",
       "      <td>11月18日21时40分新疆和田地区于田县发生3.0级地震。据中国地震台网测定，北京时间20...</td>\n",
       "      <td>-1</td>\n",
       "      <td>1.0</td>\n",
       "    </tr>\n",
       "    <tr>\n",
       "      <th>0</th>\n",
       "      <td>补录</td>\n",
       "      <td>中国人保</td>\n",
       "      <td>-6173404825726358528</td>\n",
       "      <td>监管</td>\n",
       "      <td>NaN</td>\n",
       "      <td>周亮：民营经济离场论调极其错误 银保监会对国有和民营经济一视同仁</td>\n",
       "      <td>11月19日，在第九届财新峰会上，中国银行保险监督管理委员会副主席周亮表示，改革开放40年中...</td>\n",
       "      <td>新闻</td>\n",
       "      <td>2018-11-19 11:09:19</td>\n",
       "      <td>0</td>\n",
       "      <td>周亮：民营经济离场论调极其错误 银保监会对国有和民营经济一视同仁。11月19日，在第九届财新...</td>\n",
       "      <td>0</td>\n",
       "      <td>1.0</td>\n",
       "    </tr>\n",
       "  </tbody>\n",
       "</table>\n",
       "</div>"
      ],
      "text/plain": [
       "  gather_type  type              urlhash predict_label  label  \\\n",
       "0          补录  中国人保 -1451164327749029888            环保    NaN   \n",
       "0          补录  中国人保 -6173404825726358528            监管    NaN   \n",
       "\n",
       "                              title  \\\n",
       "0     11月18日21时40分新疆和田地区于田县发生3.0级地震   \n",
       "0  周亮：民营经济离场论调极其错误 银保监会对国有和民营经济一视同仁   \n",
       "\n",
       "                                             content group_id  \\\n",
       "0  据中国地震台网测定，北京时间2018年11月18日21时40分在新疆和田地区于田县（北纬36...       新闻   \n",
       "0  11月19日，在第九届财新峰会上，中国银行保险监督管理委员会副主席周亮表示，改革开放40年中...       新闻   \n",
       "\n",
       "          publishtime  tendency  \\\n",
       "0 2018-11-18 21:58:50        -1   \n",
       "0 2018-11-19 11:09:19         0   \n",
       "\n",
       "                                       title_content  local_label  local_proba  \n",
       "0  11月18日21时40分新疆和田地区于田县发生3.0级地震。据中国地震台网测定，北京时间20...           -1          1.0  \n",
       "0  周亮：民营经济离场论调极其错误 银保监会对国有和民营经济一视同仁。11月19日，在第九届财新...            0          1.0  "
      ]
     },
     "execution_count": 120,
     "metadata": {},
     "output_type": "execute_result"
    }
   ],
   "source": [
    "combined_data['local_label'] = local_label\n",
    "combined_data['local_proba'] = local_proba.max(axis = 1)\n",
    "# combined_data['local_label'] = combined_data['local_label'].apply(lambda x:class_name_dict[x])\n",
    "print(combined_data.shape)\n",
    "combined_data.iloc[:2, :]"
   ]
  },
  {
   "cell_type": "markdown",
   "metadata": {},
   "source": [
    "#### 线上线下一致性: mysql 与 local"
   ]
  },
  {
   "cell_type": "code",
   "execution_count": 121,
   "metadata": {
    "ExecuteTime": {
     "end_time": "2018-11-26T06:32:02.856397Z",
     "start_time": "2018-11-26T06:32:02.793393Z"
    }
   },
   "outputs": [
    {
     "name": "stdout",
     "output_type": "stream",
     "text": [
      "0.813953488372093\n",
      "Right    35\n",
      "Wrong     8\n",
      "Name: R_W, dtype: int64\n"
     ]
    },
    {
     "data": {
      "text/html": [
       "<div>\n",
       "<style scoped>\n",
       "    .dataframe tbody tr th:only-of-type {\n",
       "        vertical-align: middle;\n",
       "    }\n",
       "\n",
       "    .dataframe tbody tr th {\n",
       "        vertical-align: top;\n",
       "    }\n",
       "\n",
       "    .dataframe thead tr th {\n",
       "        text-align: left;\n",
       "    }\n",
       "\n",
       "    .dataframe thead tr:last-of-type th {\n",
       "        text-align: right;\n",
       "    }\n",
       "</style>\n",
       "<table border=\"1\" class=\"dataframe\">\n",
       "  <thead>\n",
       "    <tr>\n",
       "      <th></th>\n",
       "      <th colspan=\"2\" halign=\"left\">len</th>\n",
       "    </tr>\n",
       "    <tr>\n",
       "      <th></th>\n",
       "      <th colspan=\"2\" halign=\"left\">urlhash</th>\n",
       "    </tr>\n",
       "    <tr>\n",
       "      <th>tendency</th>\n",
       "      <th>0</th>\n",
       "      <th>All</th>\n",
       "    </tr>\n",
       "    <tr>\n",
       "      <th>local_label</th>\n",
       "      <th></th>\n",
       "      <th></th>\n",
       "    </tr>\n",
       "  </thead>\n",
       "  <tbody>\n",
       "    <tr>\n",
       "      <th>-1</th>\n",
       "      <td>8</td>\n",
       "      <td>8</td>\n",
       "    </tr>\n",
       "    <tr>\n",
       "      <th>All</th>\n",
       "      <td>8</td>\n",
       "      <td>8</td>\n",
       "    </tr>\n",
       "  </tbody>\n",
       "</table>\n",
       "</div>"
      ],
      "text/plain": [
       "                len    \n",
       "            urlhash    \n",
       "tendency          0 All\n",
       "local_label            \n",
       "-1                8   8\n",
       "All               8   8"
      ]
     },
     "execution_count": 121,
     "metadata": {},
     "output_type": "execute_result"
    }
   ],
   "source": [
    "combined_data['R_W'] = combined_data.apply(lambda x: 'Right' if x['local_label'] == x['tendency'] else 'Wrong', axis = 1)\n",
    "print(combined_data[combined_data['R_W'] == 'Right'].shape[0]/combined_data.shape[0])\n",
    "print(combined_data['R_W'].value_counts())\n",
    "combined_data[combined_data['R_W'] == 'Wrong'].pivot_table(index = ['local_label'], columns = ['tendency'], \n",
    "                                                            aggfunc = [len], values = ['urlhash'], \n",
    "                                                            fill_value = 0, margins = True)"
   ]
  },
  {
   "cell_type": "markdown",
   "metadata": {},
   "source": [
    "#### 线上线下一致性: online 与 local"
   ]
  },
  {
   "cell_type": "code",
   "execution_count": 122,
   "metadata": {
    "ExecuteTime": {
     "end_time": "2018-11-26T06:32:06.366597Z",
     "start_time": "2018-11-26T06:32:06.350597Z"
    },
    "collapsed": true
   },
   "outputs": [],
   "source": [
    "combined_data['id'] = range(combined_data.shape[0])\n",
    "combined_data['title'] = combined_data['title'].astype(str) \n",
    "combined_data['content'] = combined_data['content'].astype(str)"
   ]
  },
  {
   "cell_type": "code",
   "execution_count": 123,
   "metadata": {
    "ExecuteTime": {
     "end_time": "2018-11-26T06:32:09.767792Z",
     "start_time": "2018-11-26T06:32:07.151642Z"
    }
   },
   "outputs": [
    {
     "name": "stdout",
     "output_type": "stream",
     "text": [
      "elapsed_time:  2.00\n"
     ]
    },
    {
     "data": {
      "text/html": [
       "<div>\n",
       "<style scoped>\n",
       "    .dataframe tbody tr th:only-of-type {\n",
       "        vertical-align: middle;\n",
       "    }\n",
       "\n",
       "    .dataframe tbody tr th {\n",
       "        vertical-align: top;\n",
       "    }\n",
       "\n",
       "    .dataframe thead th {\n",
       "        text-align: right;\n",
       "    }\n",
       "</style>\n",
       "<table border=\"1\" class=\"dataframe\">\n",
       "  <thead>\n",
       "    <tr style=\"text-align: right;\">\n",
       "      <th></th>\n",
       "      <th>id</th>\n",
       "      <th>online_label</th>\n",
       "    </tr>\n",
       "  </thead>\n",
       "  <tbody>\n",
       "    <tr>\n",
       "      <th>0</th>\n",
       "      <td>0</td>\n",
       "      <td>-1</td>\n",
       "    </tr>\n",
       "    <tr>\n",
       "      <th>1</th>\n",
       "      <td>1</td>\n",
       "      <td>0</td>\n",
       "    </tr>\n",
       "    <tr>\n",
       "      <th>2</th>\n",
       "      <td>2</td>\n",
       "      <td>-1</td>\n",
       "    </tr>\n",
       "    <tr>\n",
       "      <th>3</th>\n",
       "      <td>3</td>\n",
       "      <td>0</td>\n",
       "    </tr>\n",
       "    <tr>\n",
       "      <th>4</th>\n",
       "      <td>4</td>\n",
       "      <td>0</td>\n",
       "    </tr>\n",
       "  </tbody>\n",
       "</table>\n",
       "</div>"
      ],
      "text/plain": [
       "   id  online_label\n",
       "0   0            -1\n",
       "1   1             0\n",
       "2   2            -1\n",
       "3   3             0\n",
       "4   4             0"
      ]
     },
     "execution_count": 123,
     "metadata": {},
     "output_type": "execute_result"
    }
   ],
   "source": [
    "data = {\"types\":types, \"record\":combined_data.loc[:,['id', 'title' ,'content']].to_dict(orient = 'records')}\n",
    "# url = \"http://47.93.77.19:6001/judge_correlation_yjh\"\n",
    "# col_name = 'sec'\n",
    "\n",
    "# parse_data = get_server_res_yjh(data, url, col_name)\n",
    "parse_data, elapsed_time = get_server_res(data, url, col_name)\n",
    "print('elapsed_time: ', elapsed_time)\n",
    "parse_data.columns = ['id', 'online_label']\n",
    "parse_data.head()"
   ]
  },
  {
   "cell_type": "code",
   "execution_count": 124,
   "metadata": {
    "ExecuteTime": {
     "end_time": "2018-11-26T06:32:10.181816Z",
     "start_time": "2018-11-26T06:32:10.176815Z"
    },
    "collapsed": true
   },
   "outputs": [],
   "source": [
    "# combined_data.head()\n",
    "# combined_data.iloc[:2, :]"
   ]
  },
  {
   "cell_type": "code",
   "execution_count": 125,
   "metadata": {
    "ExecuteTime": {
     "end_time": "2018-11-26T06:32:10.700845Z",
     "start_time": "2018-11-26T06:32:10.623841Z"
    }
   },
   "outputs": [
    {
     "name": "stdout",
     "output_type": "stream",
     "text": [
      "(43, 16)\n",
      "0.9069767441860465\n",
      "Right    39\n",
      "Wrong     4\n",
      "Name: O_R_W, dtype: int64\n"
     ]
    },
    {
     "data": {
      "text/html": [
       "<div>\n",
       "<style scoped>\n",
       "    .dataframe tbody tr th:only-of-type {\n",
       "        vertical-align: middle;\n",
       "    }\n",
       "\n",
       "    .dataframe tbody tr th {\n",
       "        vertical-align: top;\n",
       "    }\n",
       "\n",
       "    .dataframe thead tr th {\n",
       "        text-align: left;\n",
       "    }\n",
       "\n",
       "    .dataframe thead tr:last-of-type th {\n",
       "        text-align: right;\n",
       "    }\n",
       "</style>\n",
       "<table border=\"1\" class=\"dataframe\">\n",
       "  <thead>\n",
       "    <tr>\n",
       "      <th></th>\n",
       "      <th colspan=\"2\" halign=\"left\">len</th>\n",
       "    </tr>\n",
       "    <tr>\n",
       "      <th></th>\n",
       "      <th colspan=\"2\" halign=\"left\">urlhash</th>\n",
       "    </tr>\n",
       "    <tr>\n",
       "      <th>online_label</th>\n",
       "      <th>0</th>\n",
       "      <th>All</th>\n",
       "    </tr>\n",
       "    <tr>\n",
       "      <th>local_label</th>\n",
       "      <th></th>\n",
       "      <th></th>\n",
       "    </tr>\n",
       "  </thead>\n",
       "  <tbody>\n",
       "    <tr>\n",
       "      <th>-1</th>\n",
       "      <td>4</td>\n",
       "      <td>4</td>\n",
       "    </tr>\n",
       "    <tr>\n",
       "      <th>All</th>\n",
       "      <td>4</td>\n",
       "      <td>4</td>\n",
       "    </tr>\n",
       "  </tbody>\n",
       "</table>\n",
       "</div>"
      ],
      "text/plain": [
       "                 len    \n",
       "             urlhash    \n",
       "online_label       0 All\n",
       "local_label             \n",
       "-1                 4   4\n",
       "All                4   4"
      ]
     },
     "execution_count": 125,
     "metadata": {},
     "output_type": "execute_result"
    }
   ],
   "source": [
    "combined_data = pd.merge(combined_data, parse_data, on  = 'id')\n",
    "print(combined_data.shape)\n",
    "# combined_data['online_label'] = combined_data['online_label'].apply(lambda x:class_name_dict[x])\n",
    "combined_data['O_R_W'] = combined_data.apply(lambda x: 'Right' if x['local_label'] == x['online_label'] else 'Wrong', axis = 1)\n",
    "print(combined_data[combined_data['O_R_W'] == 'Right'].shape[0]/combined_data.shape[0])\n",
    "print(combined_data['O_R_W'].value_counts())\n",
    "combined_data[combined_data['O_R_W'] == 'Wrong'].pivot_table(index = ['local_label'], columns = ['online_label'], \n",
    "                                                            aggfunc = [len], values = ['urlhash'], \n",
    "                                                            fill_value = 0, margins = True)"
   ]
  },
  {
   "cell_type": "markdown",
   "metadata": {},
   "source": [
    "#### 线上线下一致性: online 与 mysql"
   ]
  },
  {
   "cell_type": "code",
   "execution_count": 126,
   "metadata": {
    "ExecuteTime": {
     "end_time": "2018-11-26T06:32:14.542065Z",
     "start_time": "2018-11-26T06:32:14.512063Z"
    }
   },
   "outputs": [
    {
     "name": "stdout",
     "output_type": "stream",
     "text": [
      "0.9069767441860465\n",
      "Right    39\n",
      "Wrong     4\n",
      "Name: O_R_W, dtype: int64\n"
     ]
    }
   ],
   "source": [
    "combined_data['O_R_W'] = combined_data.apply(lambda x: 'Right' if x['tendency'] == x['online_label'] else 'Wrong', axis = 1)\n",
    "print(combined_data[combined_data['O_R_W'] == 'Right'].shape[0]/combined_data.shape[0])\n",
    "print(combined_data['O_R_W'].value_counts())\n",
    "# combined_data[combined_data['O_R_W'] == 'Wrong'].pivot_table(index = ['predict_label'], columns = ['online_label'], \n",
    "#                                                             aggfunc = [len], values = ['urlhash'], \n",
    "#                                                             fill_value = 0, margins = True)"
   ]
  },
  {
   "cell_type": "markdown",
   "metadata": {},
   "source": [
    "# 保存本文件"
   ]
  },
  {
   "cell_type": "code",
   "execution_count": null,
   "metadata": {
    "ExecuteTime": {
     "end_time": "2018-09-11T09:02:47.846195Z",
     "start_time": "2018-09-11T09:02:44.835Z"
    },
    "collapsed": true
   },
   "outputs": [],
   "source": [
    "if 0:\n",
    "    import datetime as dt\n",
    "    \n",
    "    def output_HTML(read_file, output_file):\n",
    "        from nbconvert import HTMLExporter\n",
    "        import codecs\n",
    "        import nbformat\n",
    "        exporter = HTMLExporter()\n",
    "        # read_file is '.ipynb', output_file is '.html'\n",
    "        output_notebook = nbformat.read(read_file, as_version=4)\n",
    "        output, resources = exporter.from_notebook_node(output_notebook)\n",
    "        codecs.open(output_file, 'w', encoding='utf-8').write(output)\n",
    "\n",
    "    html_file_folder = 'html_files'\n",
    "    if not os.path.exists(html_file_folder):\n",
    "        os.makedirs(html_file_folder)\n",
    "\n",
    "    today = dt.datetime.now().strftime('%Y%m%d')\n",
    "    current_file = 'circ_cor_model_2_train.ipynb'\n",
    "    output_file = 'html_files\\%s_%s.html'%(os.path.splitext(current_file)[0], today)\n",
    "    output_HTML(current_file, output_file)"
   ]
  }
 ],
 "metadata": {
  "kernelspec": {
   "display_name": "Python 3",
   "language": "python",
   "name": "python3"
  },
  "language_info": {
   "codemirror_mode": {
    "name": "ipython",
    "version": 3
   },
   "file_extension": ".py",
   "mimetype": "text/x-python",
   "name": "python",
   "nbconvert_exporter": "python",
   "pygments_lexer": "ipython3",
   "version": "3.6.3"
  },
  "toc": {
   "nav_menu": {},
   "number_sections": true,
   "sideBar": true,
   "skip_h1_title": false,
   "title_cell": "Table of Contents",
   "title_sidebar": "Contents",
   "toc_cell": false,
   "toc_position": {
    "height": "calc(100% - 180px)",
    "left": "10px",
    "top": "150px",
    "width": "376px"
   },
   "toc_section_display": true,
   "toc_window_display": true
  },
  "varInspector": {
   "cols": {
    "lenName": 16,
    "lenType": 16,
    "lenVar": 40
   },
   "kernels_config": {
    "python": {
     "delete_cmd_postfix": "",
     "delete_cmd_prefix": "del ",
     "library": "var_list.py",
     "varRefreshCmd": "print(var_dic_list())"
    },
    "r": {
     "delete_cmd_postfix": ") ",
     "delete_cmd_prefix": "rm(",
     "library": "var_list.r",
     "varRefreshCmd": "cat(var_dic_list()) "
    }
   },
   "types_to_exclude": [
    "module",
    "function",
    "builtin_function_or_method",
    "instance",
    "_Feature"
   ],
   "window_display": false
  }
 },
 "nbformat": 4,
 "nbformat_minor": 2
}
