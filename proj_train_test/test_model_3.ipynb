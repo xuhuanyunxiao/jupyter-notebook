{
 "cells": [
  {
   "cell_type": "markdown",
   "metadata": {},
   "source": [
    "# 本文件说明\n",
    "- 数据库里导出数据，本地模型、线上模型测试"
   ]
  },
  {
   "cell_type": "markdown",
   "metadata": {},
   "source": [
    "# 基本设置"
   ]
  },
  {
   "cell_type": "code",
   "execution_count": 1,
   "metadata": {
    "ExecuteTime": {
     "end_time": "2019-01-17T09:00:39.961855Z",
     "start_time": "2019-01-17T09:00:38.630223Z"
    }
   },
   "outputs": [],
   "source": [
    "import numpy as np\n",
    "import pandas as pd\n",
    "\n",
    "import os\n",
    "\n",
    "import requests,json\n",
    "from sklearn.externals import joblib\n",
    "\n",
    "import seaborn as sns\n",
    "import matplotlib as mpl\n",
    "import matplotlib.pyplot as plt\n",
    "%matplotlib inline\n",
    "\n",
    "import warnings\n",
    "warnings.filterwarnings('ignore')"
   ]
  },
  {
   "cell_type": "code",
   "execution_count": 2,
   "metadata": {
    "ExecuteTime": {
     "end_time": "2019-01-17T09:00:43.114910Z",
     "start_time": "2019-01-17T09:00:39.961855Z"
    }
   },
   "outputs": [
    {
     "name": "stderr",
     "output_type": "stream",
     "text": [
      "Building prefix dict from the default dictionary ...\n",
      "Loading model from cache C:\\Users\\ADMINI~1\\AppData\\Local\\Temp\\jieba.cache\n",
      "Loading model cost 0.896 seconds.\n",
      "Prefix dict has been built succesfully.\n"
     ]
    }
   ],
   "source": [
    "from toolkits.setup.date_time import get_day_list\n",
    "from toolkits.setup import specific_func\n",
    "\n",
    "from toolkits.nlp import pre_cor_circ\n",
    "from toolkits.nlp import pre_cor_cbrc"
   ]
  },
  {
   "cell_type": "code",
   "execution_count": 3,
   "metadata": {
    "ExecuteTime": {
     "end_time": "2019-01-17T09:00:43.365722Z",
     "start_time": "2019-01-17T09:00:43.114910Z"
    }
   },
   "outputs": [],
   "source": [
    "%load_ext autoreload\n",
    "%autoreload 2"
   ]
  },
  {
   "cell_type": "markdown",
   "metadata": {
    "collapsed": true
   },
   "source": [
    "## 一些函数"
   ]
  },
  {
   "cell_type": "code",
   "execution_count": 4,
   "metadata": {
    "ExecuteTime": {
     "end_time": "2019-01-17T09:00:43.581734Z",
     "start_time": "2019-01-17T09:00:43.370722Z"
    }
   },
   "outputs": [],
   "source": [
    "def get_server_res_yjh(data, url, col_name):\n",
    "    '''\n",
    "    服务器接口测试程序\n",
    "    传入 dict, 传出 DataFrame\n",
    "    '''\n",
    "    # data = {'record':[{'id':0,'title':'ss','content':'zzz'},]}\n",
    "    # data = {\"record\":marked_human_data.iloc[:5,:3].to_dict(orient = 'records')}\n",
    "    # url \"http://47.93.77.19:10000/correlation_negative\"\n",
    "    headers={'content-type':'application/json'}\n",
    "    result = requests.post(url,\n",
    "                      data = json.dumps(data),\n",
    "                      headers=headers, allow_redirects=True)\n",
    "    # print(result.text)\n",
    "    json_data = json.loads(result.text)\n",
    "    parse_data = []\n",
    "    elapsed_time = json_data['elapsed_time']\n",
    "    for i in range(len(json_data['docs'])):\n",
    "        parse_data.append([json_data['docs'][i]['id'],\n",
    "                          json_data['docs'][i][col_name]])\n",
    "    parse_data = pd.DataFrame(parse_data, columns = ['id', col_name])    \n",
    "    return parse_data , elapsed_time"
   ]
  },
  {
   "cell_type": "code",
   "execution_count": 5,
   "metadata": {
    "ExecuteTime": {
     "end_time": "2019-01-17T09:00:43.822748Z",
     "start_time": "2019-01-17T09:00:43.585734Z"
    }
   },
   "outputs": [],
   "source": [
    "def get_serve_data_yjh(day_list, sql_one_day, url, col_name, save_filename):    \n",
    "    chunksize = 1000\n",
    "    for day_select in day_list:\n",
    "        print('-- day_select: ', day_select)\n",
    "        mysql_data = pd.read_sql(eval(sql_one_day), engine, chunksize= chunksize)\n",
    "        num = 1\n",
    "        combined_data = pd.DataFrame()\n",
    "        for tmp_data in mysql_data:  \n",
    "            print('---- loop num: ', num, 'tmp_data: ', tmp_data.shape)\n",
    "            data = {\"record\":tmp_data.loc[:,['id', 'title' ,'content']].to_dict(orient = 'records')}\n",
    "            parse_data = get_server_res_yjh(data, url, col_name)\n",
    "\n",
    "            parse_data.columns = ['id', 'predict_label']\n",
    "            \n",
    "            parse_data['label'] = ''\n",
    "            combined_tmp = pd.merge(parse_data, tmp_data, on = 'id', how = 'inner')\n",
    "            combined_data = pd.concat([combined_tmp, combined_data])\n",
    "\n",
    "        combined_data['predict_label'] = combined_data['predict_label'].apply(lambda x:class_name_dict[x])\n",
    "        combined_data['group_id'] = combined_data['group_id'].apply(lambda x:group_dict[str(x)])\n",
    "        combined_data.to_excel(eval(save_filename), index = False)\n",
    "        print(combined_data['predict_label'].value_counts())"
   ]
  },
  {
   "cell_type": "code",
   "execution_count": 6,
   "metadata": {
    "ExecuteTime": {
     "end_time": "2019-01-17T09:00:44.061762Z",
     "start_time": "2019-01-17T09:00:43.825748Z"
    }
   },
   "outputs": [],
   "source": [
    "def get_server_res(data, url, col_name):\n",
    "    '''\n",
    "    服务器接口测试程序\n",
    "    传入 dict, 传出 DataFrame\n",
    "    '''\n",
    "    # data = {'record':[{'id':0,'title':'ss','content':'zzz'},]}\n",
    "    # data = {\"record\":marked_human_data.iloc[:5,:3].to_dict(orient = 'records')}\n",
    "    # url \"http://47.93.77.19:10000/correlation_negative\"\n",
    "    headers={'content-type':'application/json'}\n",
    "    result = requests.post(url,\n",
    "                      data = json.dumps(data),\n",
    "                      headers=headers, allow_redirects=True)\n",
    "    # print(result.text)\n",
    "    json_data = json.loads(result.text)\n",
    "    parse_data = []\n",
    "    elapsed_time = json_data['elapsed_time']\n",
    "    for i in range(len(json_data['docs'])):\n",
    "        parse_data.append([json_data['docs'][i]['id'],\n",
    "                          json_data['docs'][i][col_name]])\n",
    "    parse_data = pd.DataFrame(parse_data, columns = ['id', col_name])    \n",
    "    return parse_data, elapsed_time"
   ]
  },
  {
   "cell_type": "code",
   "execution_count": 7,
   "metadata": {
    "ExecuteTime": {
     "end_time": "2019-01-17T09:00:44.295775Z",
     "start_time": "2019-01-17T09:00:44.065762Z"
    }
   },
   "outputs": [],
   "source": [
    "def get_serve_data(day_list, sql_one_day, url, col_name):\n",
    "    combined_data = pd.DataFrame()\n",
    "    for day_select in day_list:\n",
    "        print('-- day_select: ', day_select)\n",
    "        mysql_data = pd.read_sql(eval(sql_one_day), engine)\n",
    "        print('去空值前：', mysql_data.shape)\n",
    "        mysql_data = mysql_data.drop_duplicates(subset = ['title', 'content'])\n",
    "        print('去空值后：', mysql_data.shape)\n",
    "        data = {\"record\":mysql_data.loc[:,['id', 'title' ,'content']].to_dict(orient = 'records')}\n",
    "        \n",
    "        parse_data, elapsed_time = get_server_res(data, url)\n",
    "        print('elapsed_time: ', elapsed_time)\n",
    "        \n",
    "        parse_data.columns = ['id', 'predict_label']\n",
    "        parse_data['predict_label'] = parse_data['predict_label'].apply(lambda x:class_name_dict[x])\n",
    "        parse_data['label'] = ''\n",
    "        combined_cor = pd.merge(parse_data, mysql_data, on = 'id', how = 'inner')\n",
    "        combined_data = pd.concat([combined_data, combined_cor], axis = 0)\n",
    "\n",
    "        print(combined_cor['predict_label'].value_counts())\n",
    "    return combined_data"
   ]
  },
  {
   "cell_type": "markdown",
   "metadata": {},
   "source": [
    "# 基本信息"
   ]
  },
  {
   "cell_type": "code",
   "execution_count": 8,
   "metadata": {
    "ExecuteTime": {
     "end_time": "2019-01-17T09:00:44.524788Z",
     "start_time": "2019-01-17T09:00:44.299775Z"
    }
   },
   "outputs": [
    {
     "data": {
      "text/plain": [
       "{0: '补录',\n",
       " 1: '监管',\n",
       " 2: '行业',\n",
       " 3: '产品销售',\n",
       " 4: '资本市场',\n",
       " 5: '公司内部管理',\n",
       " 6: '消费服务',\n",
       " 7: '其他相关报道',\n",
       " 8: '噪音',\n",
       " 9: '交通',\n",
       " 10: '环保'}"
      ]
     },
     "execution_count": 8,
     "metadata": {},
     "output_type": "execute_result"
    }
   ],
   "source": [
    "label_dic={'补录':0,'监管':1,'行业':2,'产品销售':3,'资本市场':4,'公司内部管理':5,\n",
    "           '消费服务':6,'其他相关报道':7,'噪音':8,'交通':9,'环保':10}\n",
    "class_name_dict = {v: k for k, v in label_dic.items()}\n",
    "class_name_dict"
   ]
  },
  {
   "cell_type": "code",
   "execution_count": 9,
   "metadata": {
    "ExecuteTime": {
     "end_time": "2019-01-17T09:00:44.793803Z",
     "start_time": "2019-01-17T09:00:44.527788Z"
    }
   },
   "outputs": [
    {
     "data": {
      "text/plain": [
       "{'1': '新闻',\n",
       " '11': '微信',\n",
       " '13': '新闻客户端',\n",
       " '15': '推特',\n",
       " '2': '论坛',\n",
       " '3': '博客',\n",
       " '4': '微博',\n",
       " '5': '纸媒',\n",
       " '6': '视频',\n",
       " '7': '外媒',\n",
       " '8': '广播',\n",
       " '9': '电视'}"
      ]
     },
     "execution_count": 9,
     "metadata": {},
     "output_type": "execute_result"
    }
   ],
   "source": [
    "group = '1-新闻，2-论坛，3-博客，4-微博，5-纸媒，6-视频，7-外媒，8-广播，9-电视，11-微信，13-新闻客户端，15-推特'\n",
    "group_dict = dict([x.split('-') for x in group.split('，')])\n",
    "group_dict"
   ]
  },
  {
   "cell_type": "code",
   "execution_count": 10,
   "metadata": {
    "ExecuteTime": {
     "end_time": "2019-01-17T09:00:45.115822Z",
     "start_time": "2019-01-17T09:00:44.799804Z"
    }
   },
   "outputs": [
    {
     "data": {
      "text/plain": [
       "{1: '银监会', 2: '保监会', 3: '中国人寿', 4: '建行北分', 5: '中国人保', 6: '安徽银监局'}"
      ]
     },
     "execution_count": 10,
     "metadata": {},
     "output_type": "execute_result"
    }
   ],
   "source": [
    "proj_dic={'银监会':1,'保监会':2,'中国人寿':3,'建行北分':4,'中国人保':5,'安徽银监局':6}\n",
    "proj_name_dict = {v: k for k, v in proj_dic.items()}\n",
    "proj_name_dict"
   ]
  },
  {
   "cell_type": "code",
   "execution_count": 11,
   "metadata": {
    "ExecuteTime": {
     "end_time": "2019-01-17T09:00:45.339835Z",
     "start_time": "2019-01-17T09:00:45.119822Z"
    }
   },
   "outputs": [
    {
     "data": {
      "text/plain": [
       "{0: '系统采集', 1: '补录', 2: '校正', 3: '导入数据', 4: '其它'}"
      ]
     },
     "execution_count": 11,
     "metadata": {},
     "output_type": "execute_result"
    }
   ],
   "source": [
    "gather_type_dic={'系统采集':0,'补录':1,'校正':2,'导入数据':3,'其它':4}\n",
    "gather_type_name_dict = {v: k for k, v in gather_type_dic.items()}\n",
    "gather_type_name_dict"
   ]
  },
  {
   "cell_type": "code",
   "execution_count": 11,
   "metadata": {
    "ExecuteTime": {
     "end_time": "2018-12-24T02:07:16.838976Z",
     "start_time": "2018-12-24T02:07:16.587962Z"
    },
    "collapsed": true
   },
   "outputs": [],
   "source": [
    "file_path = 'cbirc_result\\pom.json'\n",
    "\n",
    "with open(file_path,'r',encoding='utf-8-sig') as json_file:\n",
    "    cbrc_data = json.load(json_file)  \n",
    "    \n",
    "# cbrc_data = pd.DataFrame.from_dict(json_data['record'], orient='index' ) \n",
    "# cbrc_data.shape"
   ]
  },
  {
   "cell_type": "code",
   "execution_count": 12,
   "metadata": {
    "ExecuteTime": {
     "end_time": "2018-12-24T02:07:16.908980Z",
     "start_time": "2018-12-24T02:07:16.845977Z"
    },
    "collapsed": true
   },
   "outputs": [],
   "source": [
    "# from langconv import *\n",
    "from toolkits.nlp.langconv import *\n",
    "\n",
    "def Traditional2Simplified(sentence):\n",
    "    '''\n",
    "    将sentence中的繁体字转为简体字\n",
    "    :param sentence: 待转换的句子\n",
    "    :return: 将句子中繁体字转换为简体字之后的句子\n",
    "    '''\n",
    "    sentence = Converter('zh-hans').convert(sentence)\n",
    "    return sentence\n"
   ]
  },
  {
   "cell_type": "code",
   "execution_count": 13,
   "metadata": {
    "ExecuteTime": {
     "end_time": "2018-12-24T02:07:17.246000Z",
     "start_time": "2018-12-24T02:07:16.911980Z"
    }
   },
   "outputs": [
    {
     "ename": "NameError",
     "evalue": "name 'data' is not defined",
     "output_type": "error",
     "traceback": [
      "\u001b[1;31m---------------------------------------------------------------------------\u001b[0m",
      "\u001b[1;31mNameError\u001b[0m                                 Traceback (most recent call last)",
      "\u001b[1;32m<ipython-input-13-62e54cc4f3d1>\u001b[0m in \u001b[0;36m<module>\u001b[1;34m()\u001b[0m\n\u001b[0;32m      3\u001b[0m \u001b[1;31m# url = \"http://47.93.77.19:6001/judge_correlation_yjh\"\u001b[0m\u001b[1;33m\u001b[0m\u001b[1;33m\u001b[0m\u001b[0m\n\u001b[0;32m      4\u001b[0m data = {\"record\":[{'id':'1', \n\u001b[1;32m----> 5\u001b[1;33m                    \u001b[1;34m'title'\u001b[0m\u001b[1;33m:\u001b[0m \u001b[0mTraditional2Simplified\u001b[0m\u001b[1;33m(\u001b[0m\u001b[0mdata\u001b[0m\u001b[1;33m[\u001b[0m\u001b[1;34m'record'\u001b[0m\u001b[1;33m]\u001b[0m\u001b[1;33m[\u001b[0m\u001b[1;36m0\u001b[0m\u001b[1;33m]\u001b[0m\u001b[1;33m[\u001b[0m\u001b[1;34m'title'\u001b[0m\u001b[1;33m]\u001b[0m\u001b[1;33m)\u001b[0m\u001b[1;33m,\u001b[0m\u001b[1;33m\u001b[0m\u001b[0m\n\u001b[0m\u001b[0;32m      6\u001b[0m                    'content': Traditional2Simplified(data['record'][0]['content'])},]}\n\u001b[0;32m      7\u001b[0m \u001b[0murl\u001b[0m \u001b[1;33m=\u001b[0m \u001b[1;34m\"http://192.168.0.104:8100/judge_correlation_yjh\"\u001b[0m\u001b[1;33m\u001b[0m\u001b[0m\n",
      "\u001b[1;31mNameError\u001b[0m: name 'data' is not defined"
     ]
    }
   ],
   "source": [
    "index = 481\n",
    "# data = {\"record\":[cbrc_data['record'][index],]}\n",
    "# url = \"http://47.93.77.19:6001/judge_correlation_yjh\"\n",
    "data = {\"record\":[{'id':'1', \n",
    "                   'title': Traditional2Simplified(data['record'][0]['title']),  \n",
    "                   'content': Traditional2Simplified(data['record'][0]['content'])},]}\n",
    "url = \"http://192.168.0.104:8100/judge_correlation_yjh\"\n",
    "col_name = 'sec'\n",
    "\n",
    "parse_data , elapsed_time = get_server_res_yjh(data, url, col_name)\n",
    "print(index, '  耗时：%s s'%(elapsed_time))"
   ]
  },
  {
   "cell_type": "code",
   "execution_count": null,
   "metadata": {
    "ExecuteTime": {
     "end_time": "2018-12-24T02:07:17.248000Z",
     "start_time": "2018-12-24T02:07:05.011Z"
    },
    "collapsed": true
   },
   "outputs": [],
   "source": [
    "data['record'][0]['content']"
   ]
  },
  {
   "cell_type": "code",
   "execution_count": null,
   "metadata": {
    "ExecuteTime": {
     "end_time": "2018-12-24T02:07:17.250000Z",
     "start_time": "2018-12-24T02:07:05.017Z"
    },
    "collapsed": true
   },
   "outputs": [],
   "source": [
    "{\"record\":[cbrc_data['record'][152:155],]}"
   ]
  },
  {
   "cell_type": "code",
   "execution_count": null,
   "metadata": {
    "ExecuteTime": {
     "end_time": "2018-12-24T02:07:17.252000Z",
     "start_time": "2018-12-24T02:07:05.025Z"
    },
    "collapsed": true
   },
   "outputs": [],
   "source": [
    "{\"record\":[cbrc_data['record'][154],]}"
   ]
  },
  {
   "cell_type": "code",
   "execution_count": null,
   "metadata": {
    "ExecuteTime": {
     "end_time": "2018-12-24T02:07:17.254000Z",
     "start_time": "2018-12-24T02:07:05.033Z"
    },
    "collapsed": true
   },
   "outputs": [],
   "source": [
    "# data = {\"record\":combined_data.loc[:,['id', 'title' ,'content']].to_dict(orient = 'records')}\n",
    "import time\n",
    "for index in range(len(cbrc_data['record'])):\n",
    "#     data = {\"record\":[cbrc_data['record'][index],]}\n",
    "#     url = \"http://47.93.77.19:6001/judge_correlation_yjh\"\n",
    "    data = {\"record\":[{'id':cbrc_data['record'][index]['id'], \n",
    "                       'title': Traditional2Simplified(cbrc_data['record'][index]['title']),  \n",
    "                       'content': Traditional2Simplified(cbrc_data['record'][index]['content'])},]}\n",
    "    url = \"http://192.168.0.104:8100/judge_correlation_yjh\"\n",
    "    col_name = 'sec'\n",
    "    \n",
    "    parse_data , elapsed_time = get_server_res_yjh(data, url, col_name)\n",
    "    print(index, '  耗时：%s s'%(elapsed_time))"
   ]
  },
  {
   "cell_type": "code",
   "execution_count": null,
   "metadata": {
    "ExecuteTime": {
     "end_time": "2018-12-24T02:07:17.256000Z",
     "start_time": "2018-12-24T02:07:05.041Z"
    },
    "collapsed": true
   },
   "outputs": [],
   "source": [
    "import time\n",
    "for index in range(len(cbrc_data['record'])):\n",
    "    data = {\"record\":[cbrc_data['record'][index],]}\n",
    "#     url = \"http://47.93.77.19:6001/judge_correlation_yjh\"\n",
    "    url = \"http://192.168.0.104:8100/judge_correlation_yjh\"\n",
    "    col_name = 'sec'\n",
    "    \n",
    "    parse_data , elapsed_time = get_server_res_yjh(data, url, col_name)\n",
    "    print(index, '  耗时：%s s'%(elapsed_time))"
   ]
  },
  {
   "cell_type": "code",
   "execution_count": null,
   "metadata": {
    "ExecuteTime": {
     "end_time": "2018-12-24T02:07:17.257000Z",
     "start_time": "2018-12-24T02:07:05.049Z"
    },
    "collapsed": true
   },
   "outputs": [],
   "source": [
    "data = {\"record\":cbrc_data['record']}\n",
    "#     url = \"http://47.93.77.19:6001/judge_correlation_yjh\"\n",
    "url = \"http://192.168.0.104:8100/judge_correlation_yjh\"\n",
    "col_name = 'sec'\n",
    "\n",
    "parse_data , elapsed_time = get_server_res_yjh(data, url, col_name)\n",
    "print(index, '  耗时：%s s'%(elapsed_time))"
   ]
  },
  {
   "cell_type": "code",
   "execution_count": null,
   "metadata": {
    "ExecuteTime": {
     "end_time": "2018-12-24T02:07:17.259000Z",
     "start_time": "2018-12-24T02:07:05.055Z"
    },
    "collapsed": true
   },
   "outputs": [],
   "source": [
    "parse_data"
   ]
  },
  {
   "cell_type": "code",
   "execution_count": null,
   "metadata": {
    "ExecuteTime": {
     "end_time": "2018-12-24T02:07:17.260000Z",
     "start_time": "2018-12-24T02:07:05.061Z"
    },
    "collapsed": true
   },
   "outputs": [],
   "source": [
    "# data = {\"record\":combined_data.loc[:,['id', 'title' ,'content']].to_dict(orient = 'records')}\n",
    "import time\n",
    "for index in range(len(cbrc_data['record'])):\n",
    "    data = {\"record\":[cbrc_data['record'][index],]}\n",
    "#     url = \"http://47.93.77.19:6001/judge_correlation_yjh\"\n",
    "    url = \"http://192.168.0.104:8100/judge_correlation_yjh\"\n",
    "    col_name = 'sec'\n",
    "    \n",
    "    parse_data , elapsed_time = get_server_res_yjh(data, url, col_name)\n",
    "    print(index, '  耗时：%s s'%(elapsed_time))"
   ]
  },
  {
   "cell_type": "code",
   "execution_count": null,
   "metadata": {
    "ExecuteTime": {
     "end_time": "2018-12-24T02:07:17.262000Z",
     "start_time": "2018-12-24T02:07:05.068Z"
    },
    "collapsed": true
   },
   "outputs": [],
   "source": [
    "data = {\"record\":[cbrc_data['record'][0], ]}\n",
    "data"
   ]
  },
  {
   "cell_type": "code",
   "execution_count": null,
   "metadata": {
    "ExecuteTime": {
     "end_time": "2018-12-24T02:07:17.265001Z",
     "start_time": "2018-12-24T02:07:05.073Z"
    },
    "collapsed": true
   },
   "outputs": [],
   "source": [
    "cbrc_data['record'][0]\n",
    "len(cbrc_data['record'])"
   ]
  },
  {
   "cell_type": "markdown",
   "metadata": {
    "collapsed": true
   },
   "source": [
    "# 保险业--旧"
   ]
  },
  {
   "cell_type": "code",
   "execution_count": 14,
   "metadata": {
    "ExecuteTime": {
     "end_time": "2018-12-24T02:08:00.400468Z",
     "start_time": "2018-12-24T02:07:48.631795Z"
    },
    "collapsed": true
   },
   "outputs": [],
   "source": [
    "engine = specific_func.get_engine('circ')"
   ]
  },
  {
   "cell_type": "markdown",
   "metadata": {
    "collapsed": true
   },
   "source": [
    "## mysql 数据"
   ]
  },
  {
   "cell_type": "markdown",
   "metadata": {},
   "source": [
    "### 八分类"
   ]
  },
  {
   "cell_type": "code",
   "execution_count": 15,
   "metadata": {
    "ExecuteTime": {
     "end_time": "2018-12-24T02:08:00.496473Z",
     "start_time": "2018-12-24T02:08:00.482473Z"
    }
   },
   "outputs": [
    {
     "name": "stdout",
     "output_type": "stream",
     "text": [
      "['2018-12-15', '2018-12-16']\n"
     ]
    }
   ],
   "source": [
    "# day_select = '2018-09-09'\n",
    "day_list = get_day_list('2018-12-07', '2018-12-13')\n",
    "print(day_list)"
   ]
  },
  {
   "cell_type": "markdown",
   "metadata": {},
   "source": [
    "#### 获取数据--系统采集"
   ]
  },
  {
   "cell_type": "code",
   "execution_count": 17,
   "metadata": {
    "ExecuteTime": {
     "end_time": "2018-12-14T09:45:09.680338Z",
     "start_time": "2018-12-14T09:16:23.406601Z"
    }
   },
   "outputs": [
    {
     "name": "stdout",
     "output_type": "stream",
     "text": [
      "-- day_select:  2018-12-08\n",
      "circ_cor:  (4552, 6)\n",
      "circ_uncor:  (16098, 6)\n",
      "去重前： (20650, 6)\n",
      "去重后： (12808, 6)\n",
      "去空值后： (12808, 6)\n",
      "(12808, 7)\n",
      "噪音        8256\n",
      "资本市场       984\n",
      "监管         968\n",
      "消费服务       713\n",
      "产品销售       659\n",
      "其他相关报道     498\n",
      "行业         385\n",
      "公司内部管理     345\n",
      "Name: predict_label, dtype: int64\n",
      "-- day_select:  2018-12-09\n",
      "circ_cor:  (3720, 6)\n",
      "circ_uncor:  (17265, 6)\n",
      "去重前： (20985, 6)\n",
      "去重后： (13080, 6)\n",
      "去空值后： (13080, 6)\n",
      "(13080, 7)\n",
      "噪音        9360\n",
      "资本市场       660\n",
      "监管         655\n",
      "消费服务       607\n",
      "其他相关报道     556\n",
      "产品销售       537\n",
      "行业         432\n",
      "公司内部管理     273\n",
      "Name: predict_label, dtype: int64\n",
      "-- day_select:  2018-12-10\n",
      "circ_cor:  (5441, 6)\n",
      "circ_uncor:  (24823, 6)\n",
      "去重前： (30264, 6)\n",
      "去重后： (16171, 6)\n",
      "去空值后： (16171, 6)\n",
      "(16171, 7)\n",
      "噪音        10730\n",
      "资本市场       1596\n",
      "监管          920\n",
      "消费服务        726\n",
      "其他相关报道      681\n",
      "行业          556\n",
      "公司内部管理      536\n",
      "产品销售        426\n",
      "Name: predict_label, dtype: int64\n",
      "-- day_select:  2018-12-11\n",
      "circ_cor:  (5654, 6)\n",
      "circ_uncor:  (27224, 6)\n",
      "去重前： (32878, 6)\n",
      "去重后： (17581, 6)\n",
      "去空值后： (17581, 6)\n",
      "(17581, 7)\n",
      "噪音        11927\n",
      "资本市场       1451\n",
      "消费服务        986\n",
      "监管          766\n",
      "公司内部管理      732\n",
      "行业          645\n",
      "其他相关报道      602\n",
      "产品销售        472\n",
      "Name: predict_label, dtype: int64\n",
      "-- day_select:  2018-12-12\n",
      "circ_cor:  (5378, 6)\n",
      "circ_uncor:  (26787, 6)\n",
      "去重前： (32165, 6)\n",
      "去重后： (16906, 6)\n",
      "去空值后： (16906, 6)\n",
      "(16906, 7)\n",
      "噪音        11528\n",
      "资本市场       1500\n",
      "消费服务        954\n",
      "监管          744\n",
      "行业          595\n",
      "公司内部管理      588\n",
      "其他相关报道      543\n",
      "产品销售        454\n",
      "Name: predict_label, dtype: int64\n",
      "-- day_select:  2018-12-13\n",
      "circ_cor:  (5738, 6)\n",
      "circ_uncor:  (25835, 6)\n",
      "去重前： (31573, 6)\n",
      "去重后： (16940, 6)\n",
      "去空值后： (16940, 6)\n",
      "(16940, 7)\n",
      "噪音        11202\n",
      "资本市场       1426\n",
      "消费服务       1007\n",
      "监管          867\n",
      "公司内部管理      781\n",
      "行业          671\n",
      "其他相关报道      577\n",
      "产品销售        409\n",
      "Name: predict_label, dtype: int64\n"
     ]
    }
   ],
   "source": [
    "gather_types = '采集'\n",
    "\n",
    "for day_select in day_list:\n",
    "    print('-- day_select: ', day_select)\n",
    "\n",
    "    # 相关数据\n",
    "    sql_one_day = \"select t1.id, t1.group_id,t1.classify as predict_label,\\\n",
    "                        t1.title,t2.center as content, t1.publishtime as publishtime \\\n",
    "                        from wise_web_docinfo t1, wise_web_docinfo_center t2 \\\n",
    "                            where t1.id=t2.doc_id \\\n",
    "                                  and  date_format(t1.publishtime, '%%Y-%%m-%%d') = '{0}' \\\n",
    "                                  and t1.gather_type = 0 \\\n",
    "                                  group by t1.titlehash\".format(day_select) # \n",
    "    # # titlehash 去重后\n",
    "    circ_cor = pd.read_sql(sql_one_day, engine)\n",
    "    print('circ_cor: ', circ_cor.shape  )\n",
    "    \n",
    "    # 不相关数据\n",
    "    sql_one_day = \"select t1.id, t1.group_id,t1.title,t2.center as content, t1.publishtime as publishtime \\\n",
    "                        from wise_web_docinfo_uncorr t1, wise_web_docinfo_center_uncurr t2 \\\n",
    "                            where t1.id=t2.doc_id \\\n",
    "                                  and t1.publishtime >= '{0} 8:00:00' \\\n",
    "                              and t1.publishtime <= '{0} 14:00:00'\".format(day_select)\n",
    "    # 一段时间\n",
    "    circ_uncor = pd.read_sql(sql_one_day, engine)\n",
    "    circ_uncor.insert(2, 'predict_label', 8) # 噪音\n",
    "    print('circ_uncor: ', circ_uncor.shape)\n",
    "\n",
    "    circ_data = pd.concat([circ_cor, circ_uncor], axis = 0)\n",
    "    print('去重前：', circ_data.shape)\n",
    "    circ_data = circ_data.drop_duplicates(subset = 'title')\n",
    "    print('去重后：', circ_data.shape)  \n",
    "    circ_data = circ_data.dropna(subset = ['content'], axis = 0)\n",
    "    print('去空值后：', circ_data.shape)  \n",
    "\n",
    "    circ_data['predict_label'] = circ_data['predict_label'].apply(lambda x:class_name_dict[x])\n",
    "    circ_data['group_id'] = circ_data['group_id'].apply(lambda x:group_dict[str(x)])\n",
    "    circ_data.insert(3, 'label', '')\n",
    "    fea_filename = 'circ_result_class/result/%s_circ_class_predict_mysql_%s.xlsx'%(gather_types, day_select)\n",
    "    circ_data.to_excel(fea_filename, index = False)\n",
    "    print(circ_data.shape)\n",
    "    print(circ_data['predict_label'].value_counts())"
   ]
  },
  {
   "cell_type": "markdown",
   "metadata": {},
   "source": [
    "#### 合并 & 保存"
   ]
  },
  {
   "cell_type": "code",
   "execution_count": 18,
   "metadata": {
    "ExecuteTime": {
     "end_time": "2018-12-14T09:45:26.090276Z",
     "start_time": "2018-12-14T09:45:09.852348Z"
    }
   },
   "outputs": [
    {
     "name": "stdout",
     "output_type": "stream",
     "text": [
      "circ_result_class/result/采集_circ_class_predict_mysql_2018-12-08.xlsx\n",
      "circ_result_class/result/采集_circ_class_predict_mysql_2018-12-09.xlsx\n",
      "circ_result_class/result/采集_circ_class_predict_mysql_2018-12-10.xlsx\n",
      "circ_result_class/result/采集_circ_class_predict_mysql_2018-12-11.xlsx\n",
      "circ_result_class/result/采集_circ_class_predict_mysql_2018-12-12.xlsx\n",
      "circ_result_class/result/采集_circ_class_predict_mysql_2018-12-13.xlsx\n",
      "(93486, 7)\n",
      "去重前： (93486, 7)\n",
      "去重后： (86871, 7)\n",
      "去空值后： (86859, 7)\n",
      "噪音        59432\n",
      "资本市场       7019\n",
      "消费服务       4605\n",
      "监管         4251\n",
      "其他相关报道     3130\n",
      "公司内部管理     2930\n",
      "行业         2907\n",
      "产品销售       2585\n",
      "Name: predict_label, dtype: int64\n"
     ]
    },
    {
     "data": {
      "text/html": [
       "<div>\n",
       "<style scoped>\n",
       "    .dataframe tbody tr th:only-of-type {\n",
       "        vertical-align: middle;\n",
       "    }\n",
       "\n",
       "    .dataframe tbody tr th {\n",
       "        vertical-align: top;\n",
       "    }\n",
       "\n",
       "    .dataframe thead th {\n",
       "        text-align: right;\n",
       "    }\n",
       "</style>\n",
       "<table border=\"1\" class=\"dataframe\">\n",
       "  <thead>\n",
       "    <tr style=\"text-align: right;\">\n",
       "      <th></th>\n",
       "      <th>id</th>\n",
       "      <th>group_id</th>\n",
       "      <th>predict_label</th>\n",
       "      <th>label</th>\n",
       "      <th>title</th>\n",
       "      <th>content</th>\n",
       "      <th>publishtime</th>\n",
       "    </tr>\n",
       "  </thead>\n",
       "  <tbody>\n",
       "    <tr>\n",
       "      <th>0</th>\n",
       "      <td>12679251</td>\n",
       "      <td>微信</td>\n",
       "      <td>行业</td>\n",
       "      <td>NaN</td>\n",
       "      <td>周延礼：协同构建保险科技的新生态系统</td>\n",
       "      <td>12月5日，以“防范金融风险 维护金融安全”为主题的2018年北京金融安全论坛举行。全国政协...</td>\n",
       "      <td>2018-12-08 15:25:23</td>\n",
       "    </tr>\n",
       "    <tr>\n",
       "      <th>1</th>\n",
       "      <td>12657194</td>\n",
       "      <td>新闻</td>\n",
       "      <td>资本市场</td>\n",
       "      <td>NaN</td>\n",
       "      <td>中国人寿(601628)融资融券信息(12-07)</td>\n",
       "      <td>中国人寿(601628)融资融券信息(12-07)2018年12月08日 07:39来源：东...</td>\n",
       "      <td>2018-12-08 04:20:14</td>\n",
       "    </tr>\n",
       "    <tr>\n",
       "      <th>2</th>\n",
       "      <td>12677044</td>\n",
       "      <td>微博</td>\n",
       "      <td>消费服务</td>\n",
       "      <td>NaN</td>\n",
       "      <td>#普法判例#【交通事故受害人用医保卡支付医疗费 保险公司可否拒赔？！】 ​</td>\n",
       "      <td>#普法判例#【交通事故受害人用医保卡支付医疗费 保险公司可否拒赔？！】 ​</td>\n",
       "      <td>2018-12-08 11:12:54</td>\n",
       "    </tr>\n",
       "    <tr>\n",
       "      <th>3</th>\n",
       "      <td>12657807</td>\n",
       "      <td>新闻</td>\n",
       "      <td>消费服务</td>\n",
       "      <td>NaN</td>\n",
       "      <td>从申请到结案“8秒” 太平人寿“秒赔”就是快</td>\n",
       "      <td>客户李女士在太平人寿黑龙江分公司为自己投保了爱无忧系列意外伤害保险。2018年9月27日，李...</td>\n",
       "      <td>2018-12-08 08:57:00</td>\n",
       "    </tr>\n",
       "    <tr>\n",
       "      <th>4</th>\n",
       "      <td>12654634</td>\n",
       "      <td>微信</td>\n",
       "      <td>消费服务</td>\n",
       "      <td>NaN</td>\n",
       "      <td>茂名某学生在饭堂发生意外，诉状学校、保险公司，结果.....</td>\n",
       "      <td>学生在饭堂就餐时摔伤     法院判决学校和保险公司担责   近日，信宜法院执结了一起人身损...</td>\n",
       "      <td>2018-12-08 00:30:12</td>\n",
       "    </tr>\n",
       "  </tbody>\n",
       "</table>\n",
       "</div>"
      ],
      "text/plain": [
       "         id group_id predict_label  label  \\\n",
       "0  12679251       微信            行业    NaN   \n",
       "1  12657194       新闻          资本市场    NaN   \n",
       "2  12677044       微博          消费服务    NaN   \n",
       "3  12657807       新闻          消费服务    NaN   \n",
       "4  12654634       微信          消费服务    NaN   \n",
       "\n",
       "                                   title  \\\n",
       "0                     周延礼：协同构建保险科技的新生态系统   \n",
       "1              中国人寿(601628)融资融券信息(12-07)   \n",
       "2  #普法判例#【交通事故受害人用医保卡支付医疗费 保险公司可否拒赔？！】 ​   \n",
       "3                 从申请到结案“8秒” 太平人寿“秒赔”就是快   \n",
       "4         茂名某学生在饭堂发生意外，诉状学校、保险公司，结果.....   \n",
       "\n",
       "                                             content         publishtime  \n",
       "0  12月5日，以“防范金融风险 维护金融安全”为主题的2018年北京金融安全论坛举行。全国政协... 2018-12-08 15:25:23  \n",
       "1  中国人寿(601628)融资融券信息(12-07)2018年12月08日 07:39来源：东... 2018-12-08 04:20:14  \n",
       "2              #普法判例#【交通事故受害人用医保卡支付医疗费 保险公司可否拒赔？！】 ​ 2018-12-08 11:12:54  \n",
       "3  客户李女士在太平人寿黑龙江分公司为自己投保了爱无忧系列意外伤害保险。2018年9月27日，李... 2018-12-08 08:57:00  \n",
       "4  学生在饭堂就餐时摔伤     法院判决学校和保险公司担责   近日，信宜法院执结了一起人身损... 2018-12-08 00:30:12  "
      ]
     },
     "execution_count": 18,
     "metadata": {},
     "output_type": "execute_result"
    }
   ],
   "source": [
    "combined_data = pd.DataFrame()\n",
    "for day_select in day_list:\n",
    "    file_name = 'circ_result_class/result/%s_circ_class_predict_mysql_%s.xlsx'%(gather_types, day_select)\n",
    "    if os.path.isfile(file_name):\n",
    "        print(file_name)\n",
    "        tmp_data = pd.read_excel(file_name)\n",
    "        combined_data = pd.concat([combined_data, tmp_data], axis = 0)\n",
    "\n",
    "if gather_types != '补录':\n",
    "    combined_data = combined_data[combined_data['predict_label'] != '补录']\n",
    "print(combined_data.shape)  \n",
    "print('去重前：', combined_data.shape)\n",
    "combined_data = combined_data.drop_duplicates(subset = 'title')\n",
    "print('去重后：', combined_data.shape)  \n",
    "combined_data = combined_data.dropna(subset = ['content'], axis = 0)\n",
    "print('去空值后：', combined_data.shape)  \n",
    "\n",
    "print(combined_data['predict_label'].value_counts())\n",
    "combined_data.head()"
   ]
  },
  {
   "cell_type": "code",
   "execution_count": 19,
   "metadata": {
    "ExecuteTime": {
     "end_time": "2018-12-14T09:45:27.864378Z",
     "start_time": "2018-12-14T09:45:26.305289Z"
    }
   },
   "outputs": [
    {
     "name": "stdout",
     "output_type": "stream",
     "text": [
      "噪音        59432\n",
      "资本市场       7019\n",
      "消费服务       4605\n",
      "监管         4251\n",
      "其他相关报道     3130\n",
      "公司内部管理     2930\n",
      "行业         2907\n",
      "产品销售       2585\n",
      "Name: predict_label, dtype: int64\n"
     ]
    }
   ],
   "source": [
    "fea_filename = 'circ_result_class/result/%s_circ_class_predict_mysql_20181214(1208-1213).xlsx'%gather_types\n",
    "# sel_col = ['行业','资本市场', '消费服务', '公司内部管理', '监管']\n",
    "# sel_col = ['其他相关报道','行业',  '公司内部管理', '监管']\n",
    "sel_col = combined_data['predict_label'].unique().tolist()\n",
    "sel_data = combined_data[combined_data['predict_label'].isin(sel_col)]\n",
    "print(sel_data['predict_label'].value_counts())\n",
    "with pd.ExcelWriter(fea_filename) as writer:\n",
    "    for label in sel_data['predict_label'].unique():\n",
    "        tmp_data = sel_data[sel_data['predict_label'] == label]\n",
    "        if gather_types == '补录':\n",
    "            N = tmp_data.shape[0]\n",
    "        else :\n",
    "            if tmp_data.shape[0] > 200:\n",
    "                N = 200\n",
    "            else :\n",
    "                N = tmp_data.shape[0]\n",
    "    #         if label == '公司内部管理': \n",
    "    #             N = 200\n",
    "        tmp_data.sample(n = N, axis = 0, random_state=3).to_excel(writer,label, index = False)\n",
    "    \n",
    "    writer.save()"
   ]
  },
  {
   "cell_type": "markdown",
   "metadata": {},
   "source": [
    "### 倾向性"
   ]
  },
  {
   "cell_type": "code",
   "execution_count": 23,
   "metadata": {
    "ExecuteTime": {
     "end_time": "2018-12-24T02:44:45.057567Z",
     "start_time": "2018-12-24T02:44:45.043566Z"
    }
   },
   "outputs": [
    {
     "name": "stdout",
     "output_type": "stream",
     "text": [
      "['2018-12-17', '2018-12-18', '2018-12-19']\n"
     ]
    }
   ],
   "source": [
    "# day_select = '2018-09-09'\n",
    "day_list = get_day_list('2018-12-16', '2018-12-19')\n",
    "print(day_list)"
   ]
  },
  {
   "cell_type": "markdown",
   "metadata": {},
   "source": [
    "#### 获取数据"
   ]
  },
  {
   "cell_type": "code",
   "execution_count": 24,
   "metadata": {
    "ExecuteTime": {
     "end_time": "2018-12-24T02:53:07.297293Z",
     "start_time": "2018-12-24T02:44:53.169031Z"
    }
   },
   "outputs": [
    {
     "name": "stdout",
     "output_type": "stream",
     "text": [
      "-- day_select:  2018-12-17\n",
      "circ_cor:  (5822, 7)\n",
      "去重前： (5822, 7)\n",
      "去重后： (5822, 7)\n",
      "去空值后： (5822, 7)\n",
      "(5822, 8)\n",
      "predict_label  产品销售  公司内部管理  其他相关报道  消费服务   监管   行业  资本市场   All\n",
      "tendency                                                       \n",
      "-1                5     120      14   250   84   91   264   828\n",
      "0               428     524     552   592  891  602  1405  4994\n",
      "All             433     644     566   842  975  693  1669  5822\n",
      "-- day_select:  2018-12-18\n",
      "circ_cor:  (5455, 7)\n",
      "去重前： (5455, 7)\n",
      "去重后： (5455, 7)\n",
      "去空值后： (5455, 7)\n",
      "(5455, 8)\n",
      "predict_label  产品销售  公司内部管理  其他相关报道  消费服务   监管   行业  资本市场   All\n",
      "tendency                                                       \n",
      "-1               11     115       6   180   86  109   297   804\n",
      "0               426     693     534   578  718  447  1255  4651\n",
      "All             437     808     540   758  804  556  1552  5455\n",
      "-- day_select:  2018-12-19\n",
      "circ_cor:  (5647, 7)\n",
      "去重前： (5647, 7)\n",
      "去重后： (5647, 7)\n",
      "去空值后： (5647, 7)\n",
      "(5647, 8)\n",
      "predict_label  产品销售  公司内部管理  其他相关报道  消费服务   监管   行业  资本市场   All\n",
      "tendency                                                       \n",
      "-1                9     163       5   321   51  162   386  1097\n",
      "0               390     508     618   612  578  494  1350  4550\n",
      "All             399     671     623   933  629  656  1736  5647\n"
     ]
    }
   ],
   "source": [
    "for day_select in day_list:\n",
    "    print('-- day_select: ', day_select)\n",
    "\n",
    "    # 相关数据\n",
    "    sql_one_day = \"select t1.id, t1.group_id,t1.classify as predict_label, t1.tendency,\\\n",
    "                        t1.title,t2.center as content, t1.publishtime as publishtime \\\n",
    "                        from wise_web_docinfo t1, wise_web_docinfo_center t2 \\\n",
    "                            where t1.id=t2.doc_id \\\n",
    "                                  and  date_format(t1.publishtime, '%%Y-%%m-%%d') = '{0}' \\\n",
    "                                  and t1.gather_type = 0 \\\n",
    "                                  group by t1.titlehash\".format(day_select) # \n",
    "    # # titlehash 去重后\n",
    "    circ_cor = pd.read_sql(sql_one_day, engine)\n",
    "    print('circ_cor: ', circ_cor.shape  )\n",
    "\n",
    "    circ_data = circ_cor\n",
    "    print('去重前：', circ_data.shape)\n",
    "    circ_data = circ_data.drop_duplicates(subset = 'title')\n",
    "    print('去重后：', circ_data.shape)  \n",
    "    circ_data = circ_data.dropna(subset = ['content'], axis = 0)\n",
    "    print('去空值后：', circ_data.shape)  \n",
    "\n",
    "    circ_data['predict_label'] = circ_data['predict_label'].apply(lambda x:class_name_dict[x])\n",
    "    circ_data['group_id'] = circ_data['group_id'].apply(lambda x:group_dict[str(x)])\n",
    "    circ_data.insert(4, 'label', '')\n",
    "    fea_filename = 'circ_result_tendency/result/circ_tendency_predict_mysql_%s.xlsx'%day_select\n",
    "    circ_data.to_excel(fea_filename, index = False)\n",
    "    print(circ_data.shape)\n",
    "    \n",
    "    print(circ_data.pivot_table(index = ['tendency'], columns = ['predict_label'], \n",
    "                          values = 'title', aggfunc=len, \n",
    "                          fill_value=0, margins=True))"
   ]
  },
  {
   "cell_type": "markdown",
   "metadata": {},
   "source": [
    "#### 合并 & 保存"
   ]
  },
  {
   "cell_type": "code",
   "execution_count": 25,
   "metadata": {
    "ExecuteTime": {
     "end_time": "2018-12-24T02:53:10.345468Z",
     "start_time": "2018-12-24T02:53:07.542307Z"
    }
   },
   "outputs": [
    {
     "name": "stdout",
     "output_type": "stream",
     "text": [
      "(16924, 8)\n",
      "去重前： (16924, 8)\n",
      "去重后： (15853, 8)\n",
      "去空值后： (15853, 8)\n",
      " 0    13286\n",
      "-1     2567\n",
      "Name: tendency, dtype: int64\n"
     ]
    },
    {
     "data": {
      "text/html": [
       "<div>\n",
       "<style scoped>\n",
       "    .dataframe tbody tr th:only-of-type {\n",
       "        vertical-align: middle;\n",
       "    }\n",
       "\n",
       "    .dataframe tbody tr th {\n",
       "        vertical-align: top;\n",
       "    }\n",
       "\n",
       "    .dataframe thead th {\n",
       "        text-align: right;\n",
       "    }\n",
       "</style>\n",
       "<table border=\"1\" class=\"dataframe\">\n",
       "  <thead>\n",
       "    <tr style=\"text-align: right;\">\n",
       "      <th></th>\n",
       "      <th>predict_label</th>\n",
       "      <th>产品销售</th>\n",
       "      <th>公司内部管理</th>\n",
       "      <th>其他相关报道</th>\n",
       "      <th>消费服务</th>\n",
       "      <th>监管</th>\n",
       "      <th>行业</th>\n",
       "      <th>资本市场</th>\n",
       "      <th>All</th>\n",
       "    </tr>\n",
       "    <tr>\n",
       "      <th>tendency</th>\n",
       "      <th>group_id</th>\n",
       "      <th></th>\n",
       "      <th></th>\n",
       "      <th></th>\n",
       "      <th></th>\n",
       "      <th></th>\n",
       "      <th></th>\n",
       "      <th></th>\n",
       "      <th></th>\n",
       "    </tr>\n",
       "  </thead>\n",
       "  <tbody>\n",
       "    <tr>\n",
       "      <th rowspan=\"8\" valign=\"top\">-1</th>\n",
       "      <th>博客</th>\n",
       "      <td>0</td>\n",
       "      <td>2</td>\n",
       "      <td>0</td>\n",
       "      <td>1</td>\n",
       "      <td>1</td>\n",
       "      <td>1</td>\n",
       "      <td>16</td>\n",
       "      <td>21</td>\n",
       "    </tr>\n",
       "    <tr>\n",
       "      <th>外媒</th>\n",
       "      <td>1</td>\n",
       "      <td>1</td>\n",
       "      <td>0</td>\n",
       "      <td>1</td>\n",
       "      <td>0</td>\n",
       "      <td>1</td>\n",
       "      <td>1</td>\n",
       "      <td>5</td>\n",
       "    </tr>\n",
       "    <tr>\n",
       "      <th>微信</th>\n",
       "      <td>0</td>\n",
       "      <td>6</td>\n",
       "      <td>0</td>\n",
       "      <td>12</td>\n",
       "      <td>13</td>\n",
       "      <td>17</td>\n",
       "      <td>12</td>\n",
       "      <td>60</td>\n",
       "    </tr>\n",
       "    <tr>\n",
       "      <th>微博</th>\n",
       "      <td>0</td>\n",
       "      <td>5</td>\n",
       "      <td>0</td>\n",
       "      <td>15</td>\n",
       "      <td>6</td>\n",
       "      <td>6</td>\n",
       "      <td>3</td>\n",
       "      <td>35</td>\n",
       "    </tr>\n",
       "    <tr>\n",
       "      <th>新闻</th>\n",
       "      <td>16</td>\n",
       "      <td>314</td>\n",
       "      <td>23</td>\n",
       "      <td>526</td>\n",
       "      <td>159</td>\n",
       "      <td>285</td>\n",
       "      <td>748</td>\n",
       "      <td>2071</td>\n",
       "    </tr>\n",
       "    <tr>\n",
       "      <th>新闻客户端</th>\n",
       "      <td>7</td>\n",
       "      <td>33</td>\n",
       "      <td>2</td>\n",
       "      <td>132</td>\n",
       "      <td>17</td>\n",
       "      <td>31</td>\n",
       "      <td>101</td>\n",
       "      <td>323</td>\n",
       "    </tr>\n",
       "    <tr>\n",
       "      <th>纸媒</th>\n",
       "      <td>0</td>\n",
       "      <td>1</td>\n",
       "      <td>0</td>\n",
       "      <td>28</td>\n",
       "      <td>7</td>\n",
       "      <td>5</td>\n",
       "      <td>6</td>\n",
       "      <td>47</td>\n",
       "    </tr>\n",
       "    <tr>\n",
       "      <th>论坛</th>\n",
       "      <td>0</td>\n",
       "      <td>1</td>\n",
       "      <td>0</td>\n",
       "      <td>1</td>\n",
       "      <td>0</td>\n",
       "      <td>0</td>\n",
       "      <td>3</td>\n",
       "      <td>5</td>\n",
       "    </tr>\n",
       "    <tr>\n",
       "      <th rowspan=\"8\" valign=\"top\">0</th>\n",
       "      <th>博客</th>\n",
       "      <td>27</td>\n",
       "      <td>8</td>\n",
       "      <td>3</td>\n",
       "      <td>5</td>\n",
       "      <td>7</td>\n",
       "      <td>5</td>\n",
       "      <td>209</td>\n",
       "      <td>264</td>\n",
       "    </tr>\n",
       "    <tr>\n",
       "      <th>外媒</th>\n",
       "      <td>2</td>\n",
       "      <td>0</td>\n",
       "      <td>4</td>\n",
       "      <td>3</td>\n",
       "      <td>3</td>\n",
       "      <td>2</td>\n",
       "      <td>15</td>\n",
       "      <td>29</td>\n",
       "    </tr>\n",
       "    <tr>\n",
       "      <th>微信</th>\n",
       "      <td>135</td>\n",
       "      <td>37</td>\n",
       "      <td>35</td>\n",
       "      <td>40</td>\n",
       "      <td>120</td>\n",
       "      <td>67</td>\n",
       "      <td>18</td>\n",
       "      <td>452</td>\n",
       "    </tr>\n",
       "    <tr>\n",
       "      <th>微博</th>\n",
       "      <td>2</td>\n",
       "      <td>21</td>\n",
       "      <td>3</td>\n",
       "      <td>26</td>\n",
       "      <td>56</td>\n",
       "      <td>20</td>\n",
       "      <td>42</td>\n",
       "      <td>170</td>\n",
       "    </tr>\n",
       "    <tr>\n",
       "      <th>新闻</th>\n",
       "      <td>724</td>\n",
       "      <td>1314</td>\n",
       "      <td>1266</td>\n",
       "      <td>1212</td>\n",
       "      <td>1483</td>\n",
       "      <td>1168</td>\n",
       "      <td>2985</td>\n",
       "      <td>10152</td>\n",
       "    </tr>\n",
       "    <tr>\n",
       "      <th>新闻客户端</th>\n",
       "      <td>236</td>\n",
       "      <td>150</td>\n",
       "      <td>219</td>\n",
       "      <td>311</td>\n",
       "      <td>262</td>\n",
       "      <td>138</td>\n",
       "      <td>515</td>\n",
       "      <td>1831</td>\n",
       "    </tr>\n",
       "    <tr>\n",
       "      <th>纸媒</th>\n",
       "      <td>24</td>\n",
       "      <td>66</td>\n",
       "      <td>82</td>\n",
       "      <td>60</td>\n",
       "      <td>71</td>\n",
       "      <td>44</td>\n",
       "      <td>24</td>\n",
       "      <td>371</td>\n",
       "    </tr>\n",
       "    <tr>\n",
       "      <th>论坛</th>\n",
       "      <td>2</td>\n",
       "      <td>3</td>\n",
       "      <td>5</td>\n",
       "      <td>3</td>\n",
       "      <td>2</td>\n",
       "      <td>1</td>\n",
       "      <td>1</td>\n",
       "      <td>17</td>\n",
       "    </tr>\n",
       "    <tr>\n",
       "      <th>All</th>\n",
       "      <th></th>\n",
       "      <td>1176</td>\n",
       "      <td>1962</td>\n",
       "      <td>1642</td>\n",
       "      <td>2376</td>\n",
       "      <td>2207</td>\n",
       "      <td>1791</td>\n",
       "      <td>4699</td>\n",
       "      <td>15853</td>\n",
       "    </tr>\n",
       "  </tbody>\n",
       "</table>\n",
       "</div>"
      ],
      "text/plain": [
       "predict_label      产品销售  公司内部管理  其他相关报道  消费服务    监管    行业  资本市场    All\n",
       "tendency group_id                                                     \n",
       "-1       博客           0       2       0     1     1     1    16     21\n",
       "         外媒           1       1       0     1     0     1     1      5\n",
       "         微信           0       6       0    12    13    17    12     60\n",
       "         微博           0       5       0    15     6     6     3     35\n",
       "         新闻          16     314      23   526   159   285   748   2071\n",
       "         新闻客户端        7      33       2   132    17    31   101    323\n",
       "         纸媒           0       1       0    28     7     5     6     47\n",
       "         论坛           0       1       0     1     0     0     3      5\n",
       "0        博客          27       8       3     5     7     5   209    264\n",
       "         外媒           2       0       4     3     3     2    15     29\n",
       "         微信         135      37      35    40   120    67    18    452\n",
       "         微博           2      21       3    26    56    20    42    170\n",
       "         新闻         724    1314    1266  1212  1483  1168  2985  10152\n",
       "         新闻客户端      236     150     219   311   262   138   515   1831\n",
       "         纸媒          24      66      82    60    71    44    24    371\n",
       "         论坛           2       3       5     3     2     1     1     17\n",
       "All                1176    1962    1642  2376  2207  1791  4699  15853"
      ]
     },
     "execution_count": 25,
     "metadata": {},
     "output_type": "execute_result"
    }
   ],
   "source": [
    "combined_data = pd.DataFrame()\n",
    "for day_select in day_list:\n",
    "    tmp_data = pd.read_excel('circ_result_tendency/result/circ_tendency_predict_mysql_%s.xlsx'%day_select)\n",
    "    combined_data = pd.concat([combined_data, tmp_data], axis = 0)\n",
    "\n",
    "combined_data = combined_data[combined_data['predict_label'] != '补录']\n",
    "print(combined_data.shape)  \n",
    "print('去重前：', combined_data.shape)\n",
    "combined_data = combined_data.drop_duplicates(subset = 'title')\n",
    "print('去重后：', combined_data.shape)  \n",
    "combined_data = combined_data.dropna(subset = ['content'], axis = 0)\n",
    "print('去空值后：', combined_data.shape)  \n",
    "\n",
    "print(combined_data['tendency'].value_counts())\n",
    "combined_data.pivot_table(index = ['tendency', 'group_id'], \n",
    "                                columns = ['predict_label'], \n",
    "                                values = 'title', aggfunc=len, \n",
    "                                fill_value=0, margins=True)\n",
    "# combined_data.head()"
   ]
  },
  {
   "cell_type": "code",
   "execution_count": 26,
   "metadata": {
    "ExecuteTime": {
     "end_time": "2018-12-24T02:57:11.795278Z",
     "start_time": "2018-12-24T02:56:59.947600Z"
    }
   },
   "outputs": [
    {
     "data": {
      "text/plain": [
       " 0    13286\n",
       "-1     2567\n",
       "Name: tendency, dtype: int64"
      ]
     },
     "execution_count": 26,
     "metadata": {},
     "output_type": "execute_result"
    }
   ],
   "source": [
    "# combined_data_sel = combined_data # [combined_data['predict_label'].isin(['交通', '环保'])]\n",
    "# combined_data_sel.to_excel('circ_result_tendency/circ_tendency_data_20181224(1217-1219).xlsx', index = False)\n",
    "# combined_data_sel['tendency'].value_counts()"
   ]
  },
  {
   "cell_type": "code",
   "execution_count": 27,
   "metadata": {
    "ExecuteTime": {
     "end_time": "2018-12-14T10:15:15.823643Z",
     "start_time": "2018-12-14T10:15:13.929535Z"
    }
   },
   "outputs": [
    {
     "name": "stdout",
     "output_type": "stream",
     "text": [
      " 0    23211\n",
      "-1     4340\n",
      "Name: tendency, dtype: int64\n",
      "正负各 1000 条，共 7 类， 每类各 242 条\n",
      "predict_label  产品销售  公司内部管理  其他相关报道  消费服务    监管    行业  资本市场    All\n",
      "tendency                                                          \n",
      "0              2558    2378    3069  3352  3796  2352  5706  23211\n",
      "All            2558    2378    3069  3352  3796  2352  5706  23211\n",
      "tendency: 0, predict_label: 行业, size: (242, 8)\n",
      "tendency: 0, predict_label: 资本市场, size: (484, 8)\n",
      "tendency: 0, predict_label: 消费服务, size: (726, 8)\n",
      "tendency: 0, predict_label: 监管, size: (968, 8)\n",
      "tendency: 0, predict_label: 公司内部管理, size: (1210, 8)\n",
      "tendency: 0, predict_label: 产品销售, size: (1452, 8)\n",
      "tendency: 0, predict_label: 其他相关报道, size: (1694, 8)\n",
      "predict_label  产品销售  公司内部管理  其他相关报道  消费服务   监管   行业  资本市场   All\n",
      "tendency                                                       \n",
      "0               136     142     148   139  144  155   136  1000\n",
      "All             136     142     148   139  144  155   136  1000\n",
      "predict_label  产品销售  公司内部管理  其他相关报道  消费服务   监管   行业  资本市场   All\n",
      "tendency                                                       \n",
      "-1               35     568      85  1269  482  570  1331  4340\n",
      "All              35     568      85  1269  482  570  1331  4340\n",
      "tendency: -1, predict_label: 行业, size: (242, 8)\n",
      "tendency: -1, predict_label: 资本市场, size: (484, 8)\n",
      "tendency: -1, predict_label: 消费服务, size: (726, 8)\n",
      "tendency: -1, predict_label: 监管, size: (968, 8)\n",
      "tendency: -1, predict_label: 公司内部管理, size: (1210, 8)\n",
      "tendency: -1, predict_label: 产品销售, size: (1245, 8)\n",
      "tendency: -1, predict_label: 其他相关报道, size: (1330, 8)\n",
      "predict_label  产品销售  公司内部管理  其他相关报道  消费服务   监管   行业  资本市场   All\n",
      "tendency                                                       \n",
      "-1               27     181      61   181  186  187   177  1000\n",
      "All              27     181      61   181  186  187   177  1000\n"
     ]
    }
   ],
   "source": [
    "fea_filename = 'circ_result_tendency/result/circ_tendency_predict_mysql_20181214(1208-1213).xlsx'\n",
    "# sel_col = combined_data['predict_label'].unique().tolist()\n",
    "# sel_data = combined_data[combined_data['tendency'].isin(sel_col)]\n",
    "print(combined_data['tendency'].value_counts())\n",
    "\n",
    "N = 1000 # 每类 N 条数据\n",
    "class_n = int(combined_data['predict_label'].unique().shape[0])\n",
    "n = int(N / class_n) + 100\n",
    "\n",
    "print('正负各 %s 条，共 %s 类， 每类各 %s 条'%(N, class_n, n))\n",
    "with pd.ExcelWriter(fea_filename) as writer:\n",
    "    for tendency in combined_data['tendency'].unique():\n",
    "        tmp_data = pd.DataFrame()\n",
    "        sel_data = combined_data[combined_data['tendency'] == tendency]    \n",
    "        print(sel_data.pivot_table(index = ['tendency'], \n",
    "                            columns = ['predict_label'], \n",
    "                            values = 'title', aggfunc=len, \n",
    "                            fill_value=0, margins=True))  \n",
    "        for predict_label in combined_data['predict_label'].unique():\n",
    "            label_data = sel_data[sel_data['predict_label'] == predict_label]\n",
    "            if label_data.shape[0] > n:\n",
    "                sel_label_data = label_data.sample(n = n, axis = 0, random_state=3)\n",
    "            else :\n",
    "                sel_label_data = label_data\n",
    "            tmp_data = pd.concat([tmp_data, sel_label_data], axis = 0)        \n",
    "            print('tendency: %s, predict_label: %s, size: %s'%(tendency, predict_label, tmp_data.shape))\n",
    "        \n",
    "        if tmp_data.shape[0] > N:\n",
    "            t_n = N\n",
    "        else :\n",
    "            t_n = tmp_data.shape[0]\n",
    "        \n",
    "        tmp_data = tmp_data.sample(n = N, axis = 0, random_state=3)\n",
    "        tmp_data.to_excel(writer,str(tendency), index = False)\n",
    "        print(tmp_data.pivot_table(index = ['tendency'], \n",
    "                                    columns = ['predict_label'], \n",
    "                                    values = 'title', aggfunc=len, \n",
    "                                    fill_value=0, margins=True))    \n",
    "    writer.save()"
   ]
  },
  {
   "cell_type": "markdown",
   "metadata": {},
   "source": [
    "### 补录数据"
   ]
  },
  {
   "cell_type": "code",
   "execution_count": 58,
   "metadata": {
    "ExecuteTime": {
     "end_time": "2018-12-03T09:29:11.314545Z",
     "start_time": "2018-12-03T09:28:41.011812Z"
    }
   },
   "outputs": [
    {
     "name": "stdout",
     "output_type": "stream",
     "text": [
      "title 去重前： (573, 8)\n",
      "title 去重后： (573, 8)\n",
      "content 去重后： (573, 8)\n",
      "title 去空值后： (573, 8)\n"
     ]
    },
    {
     "data": {
      "text/html": [
       "<div>\n",
       "<style scoped>\n",
       "    .dataframe tbody tr th:only-of-type {\n",
       "        vertical-align: middle;\n",
       "    }\n",
       "\n",
       "    .dataframe tbody tr th {\n",
       "        vertical-align: top;\n",
       "    }\n",
       "\n",
       "    .dataframe thead th {\n",
       "        text-align: right;\n",
       "    }\n",
       "</style>\n",
       "<table border=\"1\" class=\"dataframe\">\n",
       "  <thead>\n",
       "    <tr style=\"text-align: right;\">\n",
       "      <th></th>\n",
       "      <th>id</th>\n",
       "      <th>group_id</th>\n",
       "      <th>publishtime</th>\n",
       "      <th>gather_type</th>\n",
       "      <th>tendency</th>\n",
       "      <th>mysql_label</th>\n",
       "      <th>title</th>\n",
       "      <th>content</th>\n",
       "    </tr>\n",
       "  </thead>\n",
       "  <tbody>\n",
       "    <tr>\n",
       "      <th>0</th>\n",
       "      <td>10933233</td>\n",
       "      <td>微信</td>\n",
       "      <td>2018-09-20</td>\n",
       "      <td>1</td>\n",
       "      <td>0</td>\n",
       "      <td>0</td>\n",
       "      <td>外资股东全搜罗：隐身中资险企，财险、寿险市场份额双双接近10%</td>\n",
       "      <td>(图片)\\n\\n说到外资在国内保险市场的表现，很多人首先就会想到市场份额低这一点。确实，自...</td>\n",
       "    </tr>\n",
       "    <tr>\n",
       "      <th>1</th>\n",
       "      <td>10910821</td>\n",
       "      <td>微信</td>\n",
       "      <td>2018-09-18</td>\n",
       "      <td>1</td>\n",
       "      <td>0</td>\n",
       "      <td>0</td>\n",
       "      <td>从“天鸽”到“山竹”，保险业用这些方法更好的“管住”风险</td>\n",
       "      <td>(图片)\\n\\n台风“山竹”在广东西部沿海过境已经3天，得益于国家及地方政府相关部门的及早...</td>\n",
       "    </tr>\n",
       "    <tr>\n",
       "      <th>2</th>\n",
       "      <td>11483454</td>\n",
       "      <td>微信</td>\n",
       "      <td>2018-10-20</td>\n",
       "      <td>1</td>\n",
       "      <td>-1</td>\n",
       "      <td>0</td>\n",
       "      <td>突发，上市公司举报“平安养老风控总监伪造公章夺控制权”</td>\n",
       "      <td>\\n\\t\\t\\t\\t\\t 关于&lt;font color=\"#FF0000\"&gt;平安养老保险&lt;/...</td>\n",
       "    </tr>\n",
       "    <tr>\n",
       "      <th>3</th>\n",
       "      <td>11666987</td>\n",
       "      <td>微信</td>\n",
       "      <td>2018-10-26</td>\n",
       "      <td>1</td>\n",
       "      <td>-1</td>\n",
       "      <td>0</td>\n",
       "      <td>上半年持续亏损   董事长遭逮捕华安保险精达股份玩起“二人转” | 保险</td>\n",
       "      <td>\\n\\t\\t\\t\\t\\t 特华投资与&lt;font color=\"#FF0000\"&gt;华安保险&lt;...</td>\n",
       "    </tr>\n",
       "    <tr>\n",
       "      <th>4</th>\n",
       "      <td>11765888</td>\n",
       "      <td>纸媒</td>\n",
       "      <td>2018-10-31</td>\n",
       "      <td>1</td>\n",
       "      <td>0</td>\n",
       "      <td>0</td>\n",
       "      <td>2018年10月31日--视点--业内专家分析如何保障重疾险消费者权益</td>\n",
       "      <td>\\n\\t\\t\\t\\t\\t \\n\\t\\t\\t\\t\\t今年6月,中国&lt;font color=\"...</td>\n",
       "    </tr>\n",
       "  </tbody>\n",
       "</table>\n",
       "</div>"
      ],
      "text/plain": [
       "         id group_id publishtime  gather_type  tendency  mysql_label  \\\n",
       "0  10933233       微信  2018-09-20            1         0            0   \n",
       "1  10910821       微信  2018-09-18            1         0            0   \n",
       "2  11483454       微信  2018-10-20            1        -1            0   \n",
       "3  11666987       微信  2018-10-26            1        -1            0   \n",
       "4  11765888       纸媒  2018-10-31            1         0            0   \n",
       "\n",
       "                                  title  \\\n",
       "0       外资股东全搜罗：隐身中资险企，财险、寿险市场份额双双接近10%   \n",
       "1          从“天鸽”到“山竹”，保险业用这些方法更好的“管住”风险   \n",
       "2           突发，上市公司举报“平安养老风控总监伪造公章夺控制权”   \n",
       "3  上半年持续亏损   董事长遭逮捕华安保险精达股份玩起“二人转” | 保险   \n",
       "4   2018年10月31日--视点--业内专家分析如何保障重疾险消费者权益   \n",
       "\n",
       "                                             content  \n",
       "0   (图片)\\n\\n说到外资在国内保险市场的表现，很多人首先就会想到市场份额低这一点。确实，自...  \n",
       "1   (图片)\\n\\n台风“山竹”在广东西部沿海过境已经3天，得益于国家及地方政府相关部门的及早...  \n",
       "2   \\n\\t\\t\\t\\t\\t 关于<font color=\"#FF0000\">平安养老保险</...  \n",
       "3   \\n\\t\\t\\t\\t\\t 特华投资与<font color=\"#FF0000\">华安保险<...  \n",
       "4   \\n\\t\\t\\t\\t\\t \\n\\t\\t\\t\\t\\t今年6月,中国<font color=\"...  "
      ]
     },
     "execution_count": 58,
     "metadata": {},
     "output_type": "execute_result"
    }
   ],
   "source": [
    "# 人工补录\n",
    "sql_human_additional = \"select t1.id, t1.group_id, date_format(t1.publishtime,'%%Y-%%m-%%d') as publishtime,  \\\n",
    "                            t1.gather_type, t1.tendency,t1.classify as mysql_label, \\\n",
    "                            t1.title, t2.center as content\\\n",
    "                            from wise_web_docinfo t1, wise_web_docinfo_center t2 \\\n",
    "                                where (date_format(publishtime, '%%Y-%%m-%%d') >= '{0}' and \\\n",
    "                                      date_format(publishtime, '%%Y-%%m-%%d') <= '{1}') and \\\n",
    "                                      t1.id = t2.doc_id and \\\n",
    "                                      t1.gather_type in (1,3) \\\n",
    "                            group by t1.titlehash\".format('2018-09-16', '2018-12-03') \n",
    "\n",
    "human_additional = pd.read_sql(sql_human_additional, engine)\n",
    "human_additional['group_id'] = human_additional['group_id'].apply(lambda x:group_dict[str(x)])\n",
    "print('title 去重前：', human_additional.shape)\n",
    "human_additional = human_additional.drop_duplicates(subset = 'title')\n",
    "print('title 去重后：', human_additional.shape)  \n",
    "human_additional = human_additional.drop_duplicates(subset = ['content'])\n",
    "print('content 去重后：', human_additional.shape)  \n",
    "human_additional = human_additional.dropna(subset = ['title'], axis = 0)\n",
    "print('title 去空值后：', human_additional.shape) \n",
    "human_additional.head()"
   ]
  },
  {
   "cell_type": "code",
   "execution_count": 59,
   "metadata": {
    "ExecuteTime": {
     "end_time": "2018-12-03T09:29:23.324232Z",
     "start_time": "2018-12-03T09:29:12.009585Z"
    }
   },
   "outputs": [
    {
     "name": "stdout",
     "output_type": "stream",
     "text": [
      "行业        180\n",
      "监管        109\n",
      "噪音        106\n",
      "公司内部管理    102\n",
      "资本市场       44\n",
      "消费服务       20\n",
      "产品销售       12\n",
      "Name: predict_label, dtype: int64\n"
     ]
    },
    {
     "data": {
      "text/html": [
       "<div>\n",
       "<style scoped>\n",
       "    .dataframe tbody tr th:only-of-type {\n",
       "        vertical-align: middle;\n",
       "    }\n",
       "\n",
       "    .dataframe tbody tr th {\n",
       "        vertical-align: top;\n",
       "    }\n",
       "\n",
       "    .dataframe thead th {\n",
       "        text-align: right;\n",
       "    }\n",
       "</style>\n",
       "<table border=\"1\" class=\"dataframe\">\n",
       "  <thead>\n",
       "    <tr style=\"text-align: right;\">\n",
       "      <th></th>\n",
       "      <th>id</th>\n",
       "      <th>group_id</th>\n",
       "      <th>publishtime</th>\n",
       "      <th>gather_type</th>\n",
       "      <th>tendency</th>\n",
       "      <th>mysql_label</th>\n",
       "      <th>label</th>\n",
       "      <th>title</th>\n",
       "      <th>content</th>\n",
       "      <th>predict_label</th>\n",
       "    </tr>\n",
       "  </thead>\n",
       "  <tbody>\n",
       "    <tr>\n",
       "      <th>0</th>\n",
       "      <td>10933233</td>\n",
       "      <td>微信</td>\n",
       "      <td>2018-09-20</td>\n",
       "      <td>1</td>\n",
       "      <td>0</td>\n",
       "      <td>0</td>\n",
       "      <td></td>\n",
       "      <td>外资股东全搜罗：隐身中资险企，财险、寿险市场份额双双接近10%</td>\n",
       "      <td>(图片)\\n\\n说到外资在国内保险市场的表现，很多人首先就会想到市场份额低这一点。确实，自...</td>\n",
       "      <td>行业</td>\n",
       "    </tr>\n",
       "    <tr>\n",
       "      <th>1</th>\n",
       "      <td>10910821</td>\n",
       "      <td>微信</td>\n",
       "      <td>2018-09-18</td>\n",
       "      <td>1</td>\n",
       "      <td>0</td>\n",
       "      <td>0</td>\n",
       "      <td></td>\n",
       "      <td>从“天鸽”到“山竹”，保险业用这些方法更好的“管住”风险</td>\n",
       "      <td>(图片)\\n\\n台风“山竹”在广东西部沿海过境已经3天，得益于国家及地方政府相关部门的及早...</td>\n",
       "      <td>行业</td>\n",
       "    </tr>\n",
       "    <tr>\n",
       "      <th>2</th>\n",
       "      <td>11483454</td>\n",
       "      <td>微信</td>\n",
       "      <td>2018-10-20</td>\n",
       "      <td>1</td>\n",
       "      <td>-1</td>\n",
       "      <td>0</td>\n",
       "      <td></td>\n",
       "      <td>突发，上市公司举报“平安养老风控总监伪造公章夺控制权”</td>\n",
       "      <td>\\n\\t\\t\\t\\t\\t 关于&lt;font color=\"#FF0000\"&gt;平安养老保险&lt;/...</td>\n",
       "      <td>资本市场</td>\n",
       "    </tr>\n",
       "    <tr>\n",
       "      <th>3</th>\n",
       "      <td>11666987</td>\n",
       "      <td>微信</td>\n",
       "      <td>2018-10-26</td>\n",
       "      <td>1</td>\n",
       "      <td>-1</td>\n",
       "      <td>0</td>\n",
       "      <td></td>\n",
       "      <td>上半年持续亏损   董事长遭逮捕华安保险精达股份玩起“二人转” | 保险</td>\n",
       "      <td>\\n\\t\\t\\t\\t\\t 特华投资与&lt;font color=\"#FF0000\"&gt;华安保险&lt;...</td>\n",
       "      <td>公司内部管理</td>\n",
       "    </tr>\n",
       "    <tr>\n",
       "      <th>4</th>\n",
       "      <td>11765888</td>\n",
       "      <td>纸媒</td>\n",
       "      <td>2018-10-31</td>\n",
       "      <td>1</td>\n",
       "      <td>0</td>\n",
       "      <td>0</td>\n",
       "      <td></td>\n",
       "      <td>2018年10月31日--视点--业内专家分析如何保障重疾险消费者权益</td>\n",
       "      <td>\\n\\t\\t\\t\\t\\t \\n\\t\\t\\t\\t\\t今年6月,中国&lt;font color=\"...</td>\n",
       "      <td>噪音</td>\n",
       "    </tr>\n",
       "  </tbody>\n",
       "</table>\n",
       "</div>"
      ],
      "text/plain": [
       "         id group_id publishtime  gather_type  tendency  mysql_label label  \\\n",
       "0  10933233       微信  2018-09-20            1         0            0         \n",
       "1  10910821       微信  2018-09-18            1         0            0         \n",
       "2  11483454       微信  2018-10-20            1        -1            0         \n",
       "3  11666987       微信  2018-10-26            1        -1            0         \n",
       "4  11765888       纸媒  2018-10-31            1         0            0         \n",
       "\n",
       "                                  title  \\\n",
       "0       外资股东全搜罗：隐身中资险企，财险、寿险市场份额双双接近10%   \n",
       "1          从“天鸽”到“山竹”，保险业用这些方法更好的“管住”风险   \n",
       "2           突发，上市公司举报“平安养老风控总监伪造公章夺控制权”   \n",
       "3  上半年持续亏损   董事长遭逮捕华安保险精达股份玩起“二人转” | 保险   \n",
       "4   2018年10月31日--视点--业内专家分析如何保障重疾险消费者权益   \n",
       "\n",
       "                                             content predict_label  \n",
       "0   (图片)\\n\\n说到外资在国内保险市场的表现，很多人首先就会想到市场份额低这一点。确实，自...            行业  \n",
       "1   (图片)\\n\\n台风“山竹”在广东西部沿海过境已经3天，得益于国家及地方政府相关部门的及早...            行业  \n",
       "2   \\n\\t\\t\\t\\t\\t 关于<font color=\"#FF0000\">平安养老保险</...          资本市场  \n",
       "3   \\n\\t\\t\\t\\t\\t 特华投资与<font color=\"#FF0000\">华安保险<...        公司内部管理  \n",
       "4   \\n\\t\\t\\t\\t\\t \\n\\t\\t\\t\\t\\t今年6月,中国<font color=\"...            噪音  "
      ]
     },
     "execution_count": 59,
     "metadata": {},
     "output_type": "execute_result"
    }
   ],
   "source": [
    "human_additional['title'] = human_additional['title'].astype(str) \n",
    "human_additional['content'] = human_additional['content'].astype(str)\n",
    "data = {\"record\":human_additional.loc[:,['id', 'title' ,'content']].to_dict(orient = 'records')}\n",
    "url = \"http://47.93.77.19:10000/judge_correlation_i\"\n",
    "col_name = 'cor'\n",
    "parse_data, elapsed_time = get_server_res(data, url, col_name)\n",
    "parse_data.columns = ['id', 'predict_label']\n",
    "human_additional = pd.merge(human_additional, parse_data, on = 'id', how = 'left')\n",
    "human_additional['predict_label'] = human_additional['predict_label'].apply(lambda x:class_name_dict[x])\n",
    "human_additional.insert(6, 'label', '')\n",
    "print(human_additional['predict_label'].value_counts())\n",
    "human_additional.head()"
   ]
  },
  {
   "cell_type": "code",
   "execution_count": 60,
   "metadata": {
    "ExecuteTime": {
     "end_time": "2018-12-03T09:29:24.581304Z",
     "start_time": "2018-12-03T09:29:23.882264Z"
    }
   },
   "outputs": [
    {
     "name": "stdout",
     "output_type": "stream",
     "text": [
      "circ_result_class/result/补录_保监会（旧）_class_predict_mysql_20181203(0917-1203).xlsx\n",
      "行业        180\n",
      "监管        109\n",
      "噪音        106\n",
      "公司内部管理    102\n",
      "资本市场       44\n",
      "消费服务       20\n",
      "产品销售       12\n",
      "Name: predict_label, dtype: int64\n",
      "\n",
      "predict_label  产品销售  公司内部管理   噪音  消费服务   监管   行业  资本市场  All\n",
      "group_id                                                   \n",
      "微信                3      23   27     2   26   69    11  161\n",
      "微博                0       0    1     0    0    0     0    1\n",
      "新闻                9      72   64    15   65   87    31  343\n",
      "新闻客户端             0       4    3     0    7    5     1   20\n",
      "纸媒                0       3    3     1   11   18     1   37\n",
      "视频                0       0    8     1    0    1     0   10\n",
      "论坛                0       0    0     1    0    0     0    1\n",
      "All              12     102  106    20  109  180    44  573\n"
     ]
    }
   ],
   "source": [
    "fea_filename = 'circ_result_class/result/补录_保监会（旧）_class_predict_mysql_20181203(0917-1203).xlsx'\n",
    "print(fea_filename)\n",
    "\n",
    "sel_col = ['噪音', '消费服务', '公司内部管理', '监管',\n",
    "           '行业', '资本市场', '其他相关报道','产品销售','交通','环保']\n",
    "sel_data = human_additional[human_additional['predict_label'].isin(sel_col)]\n",
    "print(sel_data['predict_label'].value_counts())\n",
    "print()\n",
    "\n",
    "c_data = pd.DataFrame()\n",
    "with pd.ExcelWriter(fea_filename) as writer:\n",
    "    for label in sel_data['predict_label'].unique():\n",
    "        tmp_data = sel_data[sel_data['predict_label'] == label]\n",
    "        N = tmp_data.shape[0]            \n",
    "        save_data = tmp_data.sample(n = N, axis = 0, random_state=42)\n",
    "        save_data.to_excel(writer,label, index = False)\n",
    "        c_data = pd.concat([c_data, save_data], axis = 0)\n",
    "    print(c_data.pivot_table(index = ['group_id'], \n",
    "                                columns = ['predict_label'], \n",
    "                                values = 'title', aggfunc=len, \n",
    "                                fill_value=0, margins=True))      \n",
    "    writer.save()"
   ]
  },
  {
   "cell_type": "code",
   "execution_count": 61,
   "metadata": {
    "ExecuteTime": {
     "end_time": "2018-12-03T09:29:25.627363Z",
     "start_time": "2018-12-03T09:29:25.075332Z"
    }
   },
   "outputs": [
    {
     "name": "stdout",
     "output_type": "stream",
     "text": [
      "circ_result_tendency/result/补录_保监会（旧）_tendency_predict_mysql_20181203(0917-1203).xlsx\n",
      " 0    381\n",
      "-1    192\n",
      "Name: tendency, dtype: int64\n"
     ]
    }
   ],
   "source": [
    "fea_filename = 'circ_result_tendency/result/补录_保监会（旧）_tendency_predict_mysql_20181203(0917-1203).xlsx'\n",
    "print(fea_filename)\n",
    "print(human_additional['tendency'].value_counts())\n",
    "\n",
    "with pd.ExcelWriter(fea_filename) as writer:\n",
    "    for tendency in human_additional['tendency'].unique():\n",
    "        sel_data = human_additional[human_additional['tendency'] == tendency]    \n",
    "        t_n = sel_data.shape[0]        \n",
    "        tmp_data = sel_data.sample(n = t_n, axis = 0, random_state=3)\n",
    "        tmp_data.to_excel(writer,str(tendency), index = False)           \n",
    "    writer.save()"
   ]
  },
  {
   "cell_type": "markdown",
   "metadata": {},
   "source": [
    "## 本地模型"
   ]
  },
  {
   "cell_type": "markdown",
   "metadata": {},
   "source": [
    "### 八分类"
   ]
  },
  {
   "cell_type": "code",
   "execution_count": null,
   "metadata": {
    "ExecuteTime": {
     "end_time": "2018-09-20T03:26:26.197443Z",
     "start_time": "2018-09-20T03:26:23.897915Z"
    },
    "collapsed": true
   },
   "outputs": [],
   "source": [
    "from sklearn.externals import joblib\n",
    "pipeline_old = joblib.load( \"model/circ_8classifier_1015.pkl.z\")"
   ]
  },
  {
   "cell_type": "code",
   "execution_count": null,
   "metadata": {
    "ExecuteTime": {
     "end_time": "2018-09-20T03:30:52.594390Z",
     "start_time": "2018-09-20T03:28:37.834752Z"
    },
    "collapsed": true
   },
   "outputs": [],
   "source": [
    "combined_data['title_content'] = combined_data['title'].astype(str) + '。' + combined_data['content'].astype(str)\n",
    "title_content = pre_cor_circ.handle_contents(combined_data['title_content'].tolist())\n",
    "print(len(title_content))"
   ]
  },
  {
   "cell_type": "code",
   "execution_count": null,
   "metadata": {
    "ExecuteTime": {
     "start_time": "2018-09-20T03:50:00.412Z"
    },
    "collapsed": true
   },
   "outputs": [],
   "source": [
    "local_label = pipeline_old.predict(title_content)\n",
    "local_proba = pipeline_old.predict_proba(title_content)\n",
    "\n",
    "combined_data['local_label'] = local_label\n",
    "combined_data['local_proba'] = local_proba.max(axis = 1)\n",
    "combined_data['local_label'] = combined_data['local_label'].apply(lambda x:class_name_dict[x])\n",
    "print(combined_data.shape)\n",
    "combined_data.iloc[:2, :]"
   ]
  },
  {
   "cell_type": "markdown",
   "metadata": {},
   "source": [
    "#### 线上线下一致性: mysql 与 local"
   ]
  },
  {
   "cell_type": "code",
   "execution_count": null,
   "metadata": {
    "ExecuteTime": {
     "end_time": "2018-09-20T03:48:25.094577Z",
     "start_time": "2018-09-20T03:48:24.380536Z"
    },
    "collapsed": true
   },
   "outputs": [],
   "source": [
    "combined_data['R_W'] = combined_data.apply(lambda x: 'Right' if x['local_label'] == x['predict_label'] else 'Wrong', axis = 1)\n",
    "print(combined_data[combined_data['R_W'] == 'Right'].shape[0]/combined_data.shape[0])\n",
    "print(combined_data['R_W'].value_counts())\n",
    "combined_data[combined_data['R_W'] == 'Wrong'].pivot_table(index = ['local_label'], columns = ['predict_label'], \n",
    "                                                            aggfunc = [len], values = ['id'], \n",
    "                                                            fill_value = 0, margins = True)"
   ]
  },
  {
   "cell_type": "markdown",
   "metadata": {},
   "source": [
    "#### 线上线下一致性: online 与 local"
   ]
  },
  {
   "cell_type": "code",
   "execution_count": null,
   "metadata": {
    "collapsed": true
   },
   "outputs": [],
   "source": [
    "combined_data['id'] = range(combined_data.shape[0])\n",
    "combined_data['title'] = combined_data['title'].astype(str) \n",
    "combined_data['content'] = combined_data['content'].astype(str)\n",
    "data = {\"record\":combined_data.loc[:,['id', 'title' ,'content']].to_dict(orient = 'records')}\n",
    "url = \"http://47.93.77.19:10000/judge_correlation_i\"\n",
    "col_name = 'cor'\n",
    "parse_data, elapsed_time = get_server_res(data, url, col_name)\n",
    "parse_data.columns = ['id', 'online_label']\n",
    "parse_data.head()"
   ]
  },
  {
   "cell_type": "code",
   "execution_count": null,
   "metadata": {
    "collapsed": true
   },
   "outputs": [],
   "source": [
    "combined_data = pd.merge(combined_data, parse_data, on  = 'id')\n",
    "print(combined_data.shape)\n",
    "combined_data['O_R_W'] = combined_data.apply(lambda x: 'Right' if x['local_label'] == x['online_label'] else 'Wrong', axis = 1)\n",
    "print(combined_data[combined_data['O_R_W'] == 'Right'].shape[0]/combined_data.shape[0])\n",
    "print(combined_data['O_R_W'].value_counts())\n",
    "combined_data[combined_data['O_R_W'] == 'Wrong'].pivot_table(index = ['local_label'], columns = ['online_label'], \n",
    "                                                            aggfunc = [len], values = ['urlhash'], \n",
    "                                                            fill_value = 0, margins = True)"
   ]
  },
  {
   "cell_type": "markdown",
   "metadata": {
    "collapsed": true
   },
   "source": [
    "# 银行业--旧"
   ]
  },
  {
   "cell_type": "code",
   "execution_count": 27,
   "metadata": {
    "ExecuteTime": {
     "end_time": "2018-12-24T03:25:38.496896Z",
     "start_time": "2018-12-24T03:25:38.429892Z"
    },
    "collapsed": true
   },
   "outputs": [],
   "source": [
    "engine = specific_func.get_engine('cbrc')"
   ]
  },
  {
   "cell_type": "code",
   "execution_count": 42,
   "metadata": {
    "ExecuteTime": {
     "end_time": "2018-12-24T06:39:22.791767Z",
     "start_time": "2018-12-24T06:39:22.785767Z"
    }
   },
   "outputs": [
    {
     "name": "stdout",
     "output_type": "stream",
     "text": [
      "['2018-12-17', '2018-12-18', '2018-12-19']\n"
     ]
    }
   ],
   "source": [
    "# day_select = '2018-09-09'\n",
    "day_list = get_day_list('2018-12-16', '2018-12-19')\n",
    "print(day_list)"
   ]
  },
  {
   "cell_type": "markdown",
   "metadata": {
    "collapsed": true
   },
   "source": [
    "## mysql 数据"
   ]
  },
  {
   "cell_type": "markdown",
   "metadata": {},
   "source": [
    "### 八分类数据"
   ]
  },
  {
   "cell_type": "markdown",
   "metadata": {},
   "source": [
    "#### 获取数据"
   ]
  },
  {
   "cell_type": "code",
   "execution_count": null,
   "metadata": {
    "ExecuteTime": {
     "end_time": "2018-11-12T03:49:29.356849Z",
     "start_time": "2018-11-12T03:49:29.348848Z"
    },
    "collapsed": true
   },
   "outputs": [],
   "source": [
    "# sql_circ_cor_one_day = \"select t1.id, t1.publishtime, t1.title,t2.text as content \\\n",
    "#                             from elint_web_docinfo t1, wise_web_docinfo_text t2 \\\n",
    "#                                 where t1.id = t2.doc_id \\\n",
    "#                                   and date_format(t1.publishtime, '%%Y-%%m-%%d') = '{0}'\".format('2018-08-07')\n",
    "# # 实际\n",
    "# circ_cor = pd.read_sql(sql_circ_cor_one_day, engine)\n",
    "# print(circ_cor.shape)\n",
    "# circ_cor.head()"
   ]
  },
  {
   "cell_type": "code",
   "execution_count": 16,
   "metadata": {
    "ExecuteTime": {
     "end_time": "2018-12-18T05:45:07.587056Z",
     "start_time": "2018-12-18T03:48:18.853180Z"
    }
   },
   "outputs": [
    {
     "name": "stdout",
     "output_type": "stream",
     "text": [
      "-- day_select:  2018-12-02\n",
      "cbrc_flag： (136661, 3)\n",
      "cbrc_cor： (3096, 5)\n",
      "cbrc_uncor： (5003, 5)\n",
      "去重前： (8099, 5)\n",
      "去重后： (7031, 5)\n",
      "去空值后： (7031, 5)\n",
      "(6781, 7)\n",
      "噪音        3145\n",
      "消费服务      1781\n",
      "行业         727\n",
      "监管         442\n",
      "资本市场       350\n",
      "公司内部管理     145\n",
      "产品销售       105\n",
      "其他相关报道      86\n",
      "Name: predict_label, dtype: int64\n",
      "-- day_select:  2018-12-03\n",
      "cbrc_flag： (199498, 3)\n",
      "cbrc_cor： (5964, 5)\n",
      "cbrc_uncor： (5003, 5)\n",
      "去重前： (10967, 5)\n",
      "去重后： (10035, 5)\n",
      "去空值后： (10035, 5)\n",
      "(9840, 7)\n",
      "噪音        3168\n",
      "消费服务      2250\n",
      "行业        1792\n",
      "监管        1294\n",
      "资本市场       553\n",
      "公司内部管理     540\n",
      "其他相关报道     147\n",
      "产品销售        96\n",
      "Name: predict_label, dtype: int64\n",
      "-- day_select:  2018-12-04\n",
      "cbrc_flag： (213134, 3)\n",
      "cbrc_cor： (5996, 5)\n",
      "cbrc_uncor： (5003, 5)\n",
      "去重前： (10999, 5)\n",
      "去重后： (10151, 5)\n",
      "去空值后： (10151, 5)\n",
      "(10012, 7)\n",
      "噪音        3042\n",
      "消费服务      2819\n",
      "行业        1661\n",
      "监管         964\n",
      "资本市场       733\n",
      "公司内部管理     528\n",
      "其他相关报道     151\n",
      "产品销售       114\n",
      "Name: predict_label, dtype: int64\n",
      "-- day_select:  2018-12-05\n",
      "cbrc_flag： (216402, 3)\n",
      "cbrc_cor： (5618, 5)\n",
      "cbrc_uncor： (5003, 5)\n",
      "去重前： (10621, 5)\n",
      "去重后： (9600, 5)\n",
      "去空值后： (9600, 5)\n",
      "(9379, 7)\n",
      "噪音        3047\n",
      "消费服务      2652\n",
      "行业        1451\n",
      "监管         961\n",
      "资本市场       587\n",
      "公司内部管理     435\n",
      "其他相关报道     162\n",
      "产品销售        84\n",
      "Name: predict_label, dtype: int64\n",
      "-- day_select:  2018-12-06\n",
      "cbrc_flag： (219173, 3)\n",
      "cbrc_cor： (5739, 5)\n",
      "cbrc_uncor： (5005, 5)\n",
      "去重前： (10744, 5)\n",
      "去重后： (9622, 5)\n",
      "去空值后： (9622, 5)\n",
      "(9165, 7)\n",
      "噪音        3035\n",
      "消费服务      2411\n",
      "行业        1593\n",
      "监管         811\n",
      "公司内部管理     537\n",
      "资本市场       530\n",
      "其他相关报道     136\n",
      "产品销售       112\n",
      "Name: predict_label, dtype: int64\n",
      "-- day_select:  2018-12-07\n",
      "cbrc_flag： (216759, 3)\n",
      "cbrc_cor： (6076, 5)\n",
      "cbrc_uncor： (5004, 5)\n",
      "去重前： (11080, 5)\n",
      "去重后： (10088, 5)\n",
      "去空值后： (10088, 5)\n",
      "(9630, 7)\n",
      "噪音        3112\n",
      "消费服务      2688\n",
      "行业        1522\n",
      "监管         967\n",
      "公司内部管理     605\n",
      "资本市场       474\n",
      "其他相关报道     146\n",
      "产品销售       116\n",
      "Name: predict_label, dtype: int64\n",
      "-- day_select:  2018-12-08\n",
      "cbrc_flag： (145356, 3)\n",
      "cbrc_cor： (3329, 5)\n",
      "cbrc_uncor： (5005, 5)\n",
      "去重前： (8334, 5)\n",
      "去重后： (6750, 5)\n",
      "去空值后： (6750, 5)\n",
      "(6694, 7)\n",
      "噪音        2827\n",
      "消费服务      1525\n",
      "行业         914\n",
      "监管         625\n",
      "资本市场       353\n",
      "公司内部管理     262\n",
      "其他相关报道     103\n",
      "产品销售        85\n",
      "Name: predict_label, dtype: int64\n",
      "-- day_select:  2018-12-09\n",
      "cbrc_flag： (118076, 3)\n",
      "cbrc_cor： (2402, 5)\n",
      "cbrc_uncor： (5005, 5)\n",
      "去重前： (7407, 5)\n",
      "去重后： (5913, 5)\n",
      "去空值后： (5913, 5)\n",
      "(5669, 7)\n",
      "噪音        2808\n",
      "消费服务      1073\n",
      "行业         841\n",
      "监管         330\n",
      "资本市场       282\n",
      "公司内部管理     158\n",
      "其他相关报道      90\n",
      "产品销售        87\n",
      "Name: predict_label, dtype: int64\n",
      "-- day_select:  2018-12-10\n",
      "cbrc_flag： (178445, 3)\n",
      "cbrc_cor： (4009, 5)\n",
      "cbrc_uncor： (5005, 5)\n",
      "去重前： (9014, 5)\n",
      "去重后： (7650, 5)\n",
      "去空值后： (7650, 5)\n",
      "(7180, 7)\n",
      "噪音        2807\n",
      "行业        1412\n",
      "消费服务      1142\n",
      "监管         706\n",
      "资本市场       534\n",
      "公司内部管理     358\n",
      "其他相关报道     141\n",
      "产品销售        80\n",
      "Name: predict_label, dtype: int64\n",
      "-- day_select:  2018-12-11\n",
      "cbrc_flag： (179142, 3)\n",
      "cbrc_cor： (4140, 5)\n",
      "cbrc_uncor： (5005, 5)\n",
      "去重前： (9145, 5)\n",
      "去重后： (7861, 5)\n",
      "去空值后： (7861, 5)\n",
      "(7269, 7)\n",
      "噪音        2709\n",
      "行业        1455\n",
      "消费服务      1311\n",
      "资本市场       564\n",
      "监管         529\n",
      "公司内部管理     489\n",
      "其他相关报道     133\n",
      "产品销售        79\n",
      "Name: predict_label, dtype: int64\n",
      "-- day_select:  2018-12-12\n",
      "cbrc_flag： (173929, 3)\n",
      "cbrc_cor： (4298, 5)\n",
      "cbrc_uncor： (5004, 5)\n",
      "去重前： (9302, 5)\n",
      "去重后： (7995, 5)\n",
      "去空值后： (7995, 5)\n",
      "(7775, 7)\n",
      "噪音        2774\n",
      "行业        1865\n",
      "消费服务      1332\n",
      "资本市场       572\n",
      "监管         519\n",
      "公司内部管理     471\n",
      "其他相关报道     144\n",
      "产品销售        98\n",
      "Name: predict_label, dtype: int64\n",
      "-- day_select:  2018-12-13\n",
      "cbrc_flag： (180305, 3)\n",
      "cbrc_cor： (4541, 5)\n",
      "cbrc_uncor： (5005, 5)\n",
      "去重前： (9546, 5)\n",
      "去重后： (8288, 5)\n",
      "去空值后： (8288, 5)\n",
      "(7735, 7)\n",
      "噪音        2742\n",
      "行业        1705\n",
      "消费服务      1245\n",
      "监管         751\n",
      "资本市场       566\n",
      "公司内部管理     497\n",
      "其他相关报道     133\n",
      "产品销售        96\n",
      "Name: predict_label, dtype: int64\n",
      "-- day_select:  2018-12-14\n",
      "cbrc_flag： (170458, 3)\n",
      "cbrc_cor： (4598, 5)\n",
      "cbrc_uncor： (5004, 5)\n",
      "去重前： (9602, 5)\n",
      "去重后： (8495, 5)\n",
      "去空值后： (8495, 5)\n",
      "(8110, 7)\n",
      "噪音        3020\n",
      "行业        1664\n",
      "消费服务      1371\n",
      "监管         690\n",
      "公司内部管理     572\n",
      "资本市场       556\n",
      "其他相关报道     150\n",
      "产品销售        87\n",
      "Name: predict_label, dtype: int64\n",
      "-- day_select:  2018-12-15\n",
      "cbrc_flag： (99194, 3)\n",
      "cbrc_cor： (2138, 5)\n",
      "cbrc_uncor： (5005, 5)\n",
      "去重前： (7143, 5)\n",
      "去重后： (5541, 5)\n",
      "去空值后： (5541, 5)\n",
      "(5450, 7)\n",
      "噪音        2730\n",
      "消费服务       799\n",
      "行业         723\n",
      "监管         382\n",
      "资本市场       359\n",
      "公司内部管理     233\n",
      "其他相关报道     124\n",
      "产品销售       100\n",
      "Name: predict_label, dtype: int64\n",
      "-- day_select:  2018-12-16\n",
      "cbrc_flag： (78896, 3)\n",
      "cbrc_cor： (1412, 5)\n",
      "cbrc_uncor： (5004, 5)\n",
      "去重前： (6416, 5)\n",
      "去重后： (4773, 5)\n",
      "去空值后： (4773, 5)\n",
      "(4665, 7)\n",
      "噪音        2736\n",
      "消费服务       554\n",
      "行业         529\n",
      "资本市场       350\n",
      "监管         197\n",
      "公司内部管理     131\n",
      "产品销售        95\n",
      "其他相关报道      73\n",
      "Name: predict_label, dtype: int64\n",
      "-- day_select:  2018-12-17\n",
      "cbrc_flag： (176336, 3)\n",
      "cbrc_cor： (4330, 5)\n",
      "cbrc_uncor： (5005, 5)\n",
      "去重前： (9335, 5)\n",
      "去重后： (7879, 5)\n",
      "去空值后： (7879, 5)\n",
      "(7419, 7)\n",
      "噪音        2749\n",
      "行业        1489\n",
      "消费服务      1225\n",
      "监管         715\n",
      "资本市场       570\n",
      "公司内部管理     497\n",
      "其他相关报道      97\n",
      "产品销售        77\n",
      "Name: predict_label, dtype: int64\n",
      "-- day_select:  2018-12-18\n",
      "cbrc_flag： (50753, 3)\n",
      "cbrc_cor： (2243, 5)\n",
      "cbrc_uncor： (0, 5)\n",
      "去重前： (2243, 5)\n",
      "去重后： (2243, 5)\n",
      "去空值后： (2243, 5)\n",
      "(1999, 7)\n",
      "行业        829\n",
      "消费服务      611\n",
      "监管        327\n",
      "公司内部管理    232\n",
      "Name: predict_label, dtype: int64\n"
     ]
    }
   ],
   "source": [
    "for day_select in day_list:\n",
    "    print('-- day_select: ', day_select)\n",
    "    \n",
    "    # 获取八分类\n",
    "    sql_one_day = \"select t2.urlhash, t1.traffic_id, t2.title as title_1\\\n",
    "                        from wise_web_classify_traffic_docinfo t1, wise_web_docinfo_basic t2 \\\n",
    "                            where t1.base_id=t2.id \\\n",
    "                                  and date_format(t2.publishtime, '%%Y-%%m-%%d') = '{0}' \".format(day_select)\n",
    "    cbrc_flag = pd.read_sql(sql_one_day, engine)\n",
    "    print('cbrc_flag：', cbrc_flag.shape)\n",
    "    \n",
    "    # 相关数据\n",
    "    sql_one_day = \"select t1.urlhash, t1.title,t2.text as content, t1.group_id, t1.publishtime as publishtime \\\n",
    "                        from elint_web_docinfo t1, wise_web_docinfo_text t2 \\\n",
    "                            where t1.id=t2.doc_id \\\n",
    "                                  and t1.publishtime >= '{0} 08:00:00' \\\n",
    "                                  and t1.publishtime <= '{0} 14:00:00' \\\n",
    "                                group by t1.titlehash\".format(day_select)\n",
    "    # titlehash 去重后\n",
    "    cbrc_cor = pd.read_sql(sql_one_day, engine) \n",
    "    print('cbrc_cor：', cbrc_cor.shape)\n",
    "    \n",
    "    # 不相关数据\n",
    "    sql_cbrc_uncor = \"select urlhash, title, content, group_id, publishtime \\\n",
    "                            from wise_web_docinfo_uncor \\\n",
    "                            where date_format(publishtime, '%%Y-%%m-%%d') = '{0}'\".format(day_select)\n",
    "    cbrc_uncor = pd.read_sql(sql_cbrc_uncor, engine)  \n",
    "    print('cbrc_uncor：', cbrc_uncor.shape)\n",
    "\n",
    "    cbrc_data = pd.concat([cbrc_cor, cbrc_uncor], axis = 0)\n",
    "    print('去重前：', cbrc_data.shape)\n",
    "    cbrc_data = cbrc_data.drop_duplicates(subset = 'title')\n",
    "    print('去重后：', cbrc_data.shape)  \n",
    "    cbrc_data = cbrc_data.dropna(subset = ['content'], axis = 0)\n",
    "    print('去空值后：', cbrc_data.shape)  \n",
    "\n",
    "    cbrc_combined = pd.merge(cbrc_flag, cbrc_data, how = 'inner', on = 'urlhash')\n",
    "    cbrc_combined['predict_label'] = cbrc_combined['traffic_id'].apply(lambda x:class_name_dict[x])\n",
    "    cbrc_combined['group_id'] = cbrc_combined['group_id'].apply(lambda x:group_dict[str(x)])\n",
    "    cbrc_combined['label'] = ''\n",
    "    cbrc_combined = cbrc_combined[['urlhash', 'predict_label', 'label', 'title', 'content', 'group_id', 'publishtime']]\n",
    "    fea_filename = 'cbrc_result_class/result/cbrc_class_predict_mysql_%s.xlsx'%day_select\n",
    "    cbrc_combined.to_excel(fea_filename, index = False)\n",
    "    print(cbrc_combined.shape)\n",
    "    print(cbrc_combined['predict_label'].value_counts())\n",
    "    "
   ]
  },
  {
   "cell_type": "markdown",
   "metadata": {},
   "source": [
    "#### 合并 & 保存"
   ]
  },
  {
   "cell_type": "code",
   "execution_count": 17,
   "metadata": {
    "ExecuteTime": {
     "end_time": "2018-12-18T05:49:16.110271Z",
     "start_time": "2018-12-18T05:48:54.031008Z"
    }
   },
   "outputs": [
    {
     "name": "stdout",
     "output_type": "stream",
     "text": [
      "(124772, 7)\n",
      "去重前： (124772, 7)\n",
      "去重后： (115169, 7)\n",
      "去空值后： (114701, 7)\n",
      "噪音        43441\n",
      "消费服务      25144\n",
      "行业        19446\n",
      "监管         9922\n",
      "资本市场       7435\n",
      "公司内部管理     6084\n",
      "其他相关报道     1843\n",
      "产品销售       1386\n",
      "Name: predict_label, dtype: int64\n"
     ]
    },
    {
     "data": {
      "text/html": [
       "<div>\n",
       "<style scoped>\n",
       "    .dataframe tbody tr th:only-of-type {\n",
       "        vertical-align: middle;\n",
       "    }\n",
       "\n",
       "    .dataframe tbody tr th {\n",
       "        vertical-align: top;\n",
       "    }\n",
       "\n",
       "    .dataframe thead th {\n",
       "        text-align: right;\n",
       "    }\n",
       "</style>\n",
       "<table border=\"1\" class=\"dataframe\">\n",
       "  <thead>\n",
       "    <tr style=\"text-align: right;\">\n",
       "      <th></th>\n",
       "      <th>urlhash</th>\n",
       "      <th>predict_label</th>\n",
       "      <th>label</th>\n",
       "      <th>title</th>\n",
       "      <th>content</th>\n",
       "      <th>group_id</th>\n",
       "      <th>publishtime</th>\n",
       "    </tr>\n",
       "  </thead>\n",
       "  <tbody>\n",
       "    <tr>\n",
       "      <th>0</th>\n",
       "      <td>6750155780831993856</td>\n",
       "      <td>噪音</td>\n",
       "      <td>NaN</td>\n",
       "      <td>登高望远，牢牢把握世界经济正确方向</td>\n",
       "      <td>尊敬的马克里总统，\\n\\n\\n　　各位同事：\\n\\n　　今年是国际金融危机发生10周年，...</td>\n",
       "      <td>纸媒</td>\n",
       "      <td>2018-12-02 12:45:13</td>\n",
       "    </tr>\n",
       "    <tr>\n",
       "      <th>1</th>\n",
       "      <td>7404290198078509056</td>\n",
       "      <td>消费服务</td>\n",
       "      <td>NaN</td>\n",
       "      <td>首笔对泰跨境人民币贷款落地</td>\n",
       "      <td>广州日报讯（全媒体记者 林晓丽）记者昨日了解到，继今年3月份与菲律宾首都银行专项营运资金...</td>\n",
       "      <td>纸媒</td>\n",
       "      <td>2018-12-02 12:45:43</td>\n",
       "    </tr>\n",
       "  </tbody>\n",
       "</table>\n",
       "</div>"
      ],
      "text/plain": [
       "               urlhash predict_label  label              title  \\\n",
       "0  6750155780831993856            噪音    NaN  登高望远，牢牢把握世界经济正确方向   \n",
       "1  7404290198078509056          消费服务    NaN      首笔对泰跨境人民币贷款落地   \n",
       "\n",
       "                                             content group_id  \\\n",
       "0  　　尊敬的马克里总统，\\n\\n\\n　　各位同事：\\n\\n　　今年是国际金融危机发生10周年，...       纸媒   \n",
       "1  　　广州日报讯（全媒体记者 林晓丽）记者昨日了解到，继今年3月份与菲律宾首都银行专项营运资金...       纸媒   \n",
       "\n",
       "          publishtime  \n",
       "0 2018-12-02 12:45:13  \n",
       "1 2018-12-02 12:45:43  "
      ]
     },
     "execution_count": 17,
     "metadata": {},
     "output_type": "execute_result"
    }
   ],
   "source": [
    "combined_data = pd.DataFrame()\n",
    "for day_select in day_list:\n",
    "    tmp_data = pd.read_excel('cbrc_result_class/result/cbrc_class_predict_mysql_%s.xlsx'%day_select)\n",
    "    combined_data = pd.concat([combined_data, tmp_data], axis = 0)\n",
    "\n",
    "combined_data = combined_data[combined_data['predict_label'] != '补录']\n",
    "print(combined_data.shape)  \n",
    "print('去重前：', combined_data.shape)\n",
    "combined_data = combined_data.drop_duplicates(subset = 'title')\n",
    "print('去重后：', combined_data.shape)  \n",
    "combined_data = combined_data.dropna(subset = ['content'], axis = 0)\n",
    "print('去空值后：', combined_data.shape)  \n",
    "\n",
    "print(combined_data['predict_label'].value_counts())\n",
    "combined_data.iloc[:2, :]"
   ]
  },
  {
   "cell_type": "code",
   "execution_count": null,
   "metadata": {
    "ExecuteTime": {
     "end_time": "2018-11-12T05:37:37.756021Z",
     "start_time": "2018-11-12T05:37:36.778775Z"
    },
    "collapsed": true
   },
   "outputs": [],
   "source": [
    "fea_filename = 'cbrc_result_class/result/cbrc_class_predict_mysql_20181112(1106-1110).xlsx'\n",
    "# sel_col = ['噪音', '消费服务', '公司内部管理', '监管',\n",
    "#            '行业', '资本市场', '其他相关报道','产品销售']\n",
    "sel_col = ['公司内部管理', '监管', '行业', '产品销售']\n",
    "# sel_col = combined_data['predict_label'].unique().tolist()\n",
    "sel_data = combined_data[combined_data['predict_label'].isin(sel_col)]\n",
    "print(sel_data['predict_label'].value_counts())\n",
    "with pd.ExcelWriter(fea_filename) as writer:\n",
    "    for label in sel_data['predict_label'].unique():\n",
    "        tmp_data = sel_data[sel_data['predict_label'] == label]\n",
    "        if tmp_data.shape[0] > 300:\n",
    "            N = 300\n",
    "        else :\n",
    "            N = tmp_data.shape[0]\n",
    "        tmp_data.sample(n = N, axis = 0, random_state=42).to_excel(writer,label, index = False)\n",
    "    \n",
    "    writer.save()"
   ]
  },
  {
   "cell_type": "markdown",
   "metadata": {},
   "source": [
    "### 倾向性"
   ]
  },
  {
   "cell_type": "markdown",
   "metadata": {},
   "source": [
    "#### 获取数据"
   ]
  },
  {
   "cell_type": "code",
   "execution_count": 43,
   "metadata": {
    "ExecuteTime": {
     "end_time": "2018-12-24T07:02:09.582943Z",
     "start_time": "2018-12-24T06:39:29.743165Z"
    }
   },
   "outputs": [
    {
     "name": "stdout",
     "output_type": "stream",
     "text": [
      "-- day_select:  2018-12-17\n",
      "cbrc_flag： (195870, 3)\n",
      "cbrc_cor： (4474, 7)\n",
      "去重前： (4474, 7)\n",
      "去重后： (4474, 7)\n",
      "去空值后： (4474, 7)\n",
      "(4071, 9)\n",
      "predict_label  产品销售  公司内部管理  消费服务   监管    行业   All\n",
      "tendency                                          \n",
      "-1                0     192  1066   90   188  1536\n",
      "0                 1     313   228  645  1348  2535\n",
      "All               1     505  1294  735  1536  4071\n",
      "-- day_select:  2018-12-18\n",
      "cbrc_flag： (170817, 3)\n",
      "cbrc_cor： (4178, 7)\n",
      "去重前： (4178, 7)\n",
      "去重后： (4178, 7)\n",
      "去空值后： (4178, 7)\n",
      "(3784, 9)\n",
      "predict_label  公司内部管理  消费服务   监管    行业   All\n",
      "tendency                                    \n",
      "-1                105  1054   74   250  1483\n",
      "0                 330   262  526  1183  2301\n",
      "All               435  1316  600  1433  3784\n",
      "-- day_select:  2018-12-19\n",
      "cbrc_flag： (161828, 3)\n",
      "cbrc_cor： (3813, 7)\n",
      "去重前： (3813, 7)\n",
      "去重后： (3813, 7)\n",
      "去空值后： (3813, 7)\n",
      "(3451, 9)\n",
      "predict_label  公司内部管理  消费服务   监管    行业  资本市场   All\n",
      "tendency                                          \n",
      "-1                 99   957   60   204     0  1320\n",
      "0                 329   178  452  1171     1  2131\n",
      "All               428  1135  512  1375     1  3451\n"
     ]
    }
   ],
   "source": [
    "for day_select in day_list:\n",
    "    print('-- day_select: ', day_select)\n",
    "    \n",
    "    # 获取八分类\n",
    "    sql_one_day = \"select t2.urlhash, t1.traffic_id, t2.title as title_1\\\n",
    "                        from wise_web_classify_traffic_docinfo t1, wise_web_docinfo_basic t2 \\\n",
    "                            where t1.base_id=t2.id \\\n",
    "                                  and date_format(t2.publishtime, '%%Y-%%m-%%d') = '{0}' \".format(day_select)\n",
    "    cbrc_flag = pd.read_sql(sql_one_day, engine)\n",
    "    print('cbrc_flag：', cbrc_flag.shape)\n",
    "    \n",
    "    # 相关数据\n",
    "    sql_one_day = \"select t1.id, t1.urlhash, t1.title,t2.text as content, t1.group_id, \\\n",
    "                            t1.sen as tendency, t1.publishtime as publishtime \\\n",
    "                        from elint_web_docinfo t1, wise_web_docinfo_text t2 \\\n",
    "                            where t1.id=t2.doc_id \\\n",
    "                                  and t1.publishtime >= '{0} 08:00:00' \\\n",
    "                                  and t1.publishtime <= '{0} 14:00:00' \\\n",
    "                                group by t1.titlehash\".format(day_select)\n",
    "    # titlehash 去重后\n",
    "    cbrc_cor = pd.read_sql(sql_one_day, engine) \n",
    "    print('cbrc_cor：', cbrc_cor.shape)\n",
    "\n",
    "    cbrc_data = cbrc_cor\n",
    "    print('去重前：', cbrc_data.shape)\n",
    "    cbrc_data = cbrc_data.drop_duplicates(subset = 'title')\n",
    "    print('去重后：', cbrc_data.shape)  \n",
    "    cbrc_data = cbrc_data.dropna(subset = ['content'], axis = 0)\n",
    "    print('去空值后：', cbrc_data.shape)  \n",
    "\n",
    "    cbrc_combined = pd.merge(cbrc_flag, cbrc_data, how = 'inner', on = 'urlhash')\n",
    "    cbrc_combined['predict_label'] = cbrc_combined['traffic_id'].apply(lambda x:class_name_dict[x])\n",
    "    cbrc_combined['group_id'] = cbrc_combined['group_id'].apply(lambda x:group_dict[str(x)])\n",
    "    cbrc_combined['label'] = ''\n",
    "    cbrc_combined = cbrc_combined[['id', 'urlhash', 'group_id', 'predict_label', 'tendency', \n",
    "                                   'label', 'title', 'content', 'publishtime']]\n",
    "    fea_filename = 'cbrc_result_tendency/result/cbrc_tendency_predict_mysql_%s.xlsx'%day_select\n",
    "    cbrc_combined.to_excel(fea_filename, index = False)\n",
    "    print(cbrc_combined.shape)\n",
    "    print(cbrc_combined.pivot_table(index = ['tendency'], columns = ['predict_label'], \n",
    "                          values = 'title', aggfunc=len, \n",
    "                          fill_value=0, margins=True))\n",
    "    "
   ]
  },
  {
   "cell_type": "markdown",
   "metadata": {},
   "source": [
    "#### 合并 & 保存"
   ]
  },
  {
   "cell_type": "code",
   "execution_count": 44,
   "metadata": {
    "ExecuteTime": {
     "end_time": "2018-12-24T07:02:15.322272Z",
     "start_time": "2018-12-24T07:02:09.964965Z"
    }
   },
   "outputs": [
    {
     "name": "stdout",
     "output_type": "stream",
     "text": [
      "(11306, 9)\n",
      "去重前： (11306, 9)\n",
      "去重后： (10833, 9)\n",
      "去空值后： (10833, 9)\n",
      " 0    6608\n",
      "-1    4225\n",
      "Name: tendency, dtype: int64\n"
     ]
    },
    {
     "data": {
      "text/html": [
       "<div>\n",
       "<style scoped>\n",
       "    .dataframe tbody tr th:only-of-type {\n",
       "        vertical-align: middle;\n",
       "    }\n",
       "\n",
       "    .dataframe tbody tr th {\n",
       "        vertical-align: top;\n",
       "    }\n",
       "\n",
       "    .dataframe thead th {\n",
       "        text-align: right;\n",
       "    }\n",
       "</style>\n",
       "<table border=\"1\" class=\"dataframe\">\n",
       "  <thead>\n",
       "    <tr style=\"text-align: right;\">\n",
       "      <th></th>\n",
       "      <th>predict_label</th>\n",
       "      <th>产品销售</th>\n",
       "      <th>公司内部管理</th>\n",
       "      <th>消费服务</th>\n",
       "      <th>监管</th>\n",
       "      <th>行业</th>\n",
       "      <th>资本市场</th>\n",
       "      <th>All</th>\n",
       "    </tr>\n",
       "    <tr>\n",
       "      <th>tendency</th>\n",
       "      <th>group_id</th>\n",
       "      <th></th>\n",
       "      <th></th>\n",
       "      <th></th>\n",
       "      <th></th>\n",
       "      <th></th>\n",
       "      <th></th>\n",
       "      <th></th>\n",
       "    </tr>\n",
       "  </thead>\n",
       "  <tbody>\n",
       "    <tr>\n",
       "      <th rowspan=\"8\" valign=\"top\">-1</th>\n",
       "      <th>博客</th>\n",
       "      <td>0</td>\n",
       "      <td>1</td>\n",
       "      <td>37</td>\n",
       "      <td>1</td>\n",
       "      <td>5</td>\n",
       "      <td>0</td>\n",
       "      <td>44</td>\n",
       "    </tr>\n",
       "    <tr>\n",
       "      <th>外媒</th>\n",
       "      <td>0</td>\n",
       "      <td>0</td>\n",
       "      <td>9</td>\n",
       "      <td>4</td>\n",
       "      <td>2</td>\n",
       "      <td>0</td>\n",
       "      <td>15</td>\n",
       "    </tr>\n",
       "    <tr>\n",
       "      <th>微信</th>\n",
       "      <td>0</td>\n",
       "      <td>6</td>\n",
       "      <td>37</td>\n",
       "      <td>4</td>\n",
       "      <td>18</td>\n",
       "      <td>0</td>\n",
       "      <td>65</td>\n",
       "    </tr>\n",
       "    <tr>\n",
       "      <th>微博</th>\n",
       "      <td>0</td>\n",
       "      <td>2</td>\n",
       "      <td>169</td>\n",
       "      <td>6</td>\n",
       "      <td>0</td>\n",
       "      <td>0</td>\n",
       "      <td>177</td>\n",
       "    </tr>\n",
       "    <tr>\n",
       "      <th>新闻</th>\n",
       "      <td>0</td>\n",
       "      <td>312</td>\n",
       "      <td>2201</td>\n",
       "      <td>182</td>\n",
       "      <td>490</td>\n",
       "      <td>0</td>\n",
       "      <td>3185</td>\n",
       "    </tr>\n",
       "    <tr>\n",
       "      <th>新闻客户端</th>\n",
       "      <td>0</td>\n",
       "      <td>46</td>\n",
       "      <td>460</td>\n",
       "      <td>20</td>\n",
       "      <td>80</td>\n",
       "      <td>0</td>\n",
       "      <td>606</td>\n",
       "    </tr>\n",
       "    <tr>\n",
       "      <th>纸媒</th>\n",
       "      <td>0</td>\n",
       "      <td>11</td>\n",
       "      <td>77</td>\n",
       "      <td>3</td>\n",
       "      <td>10</td>\n",
       "      <td>0</td>\n",
       "      <td>101</td>\n",
       "    </tr>\n",
       "    <tr>\n",
       "      <th>论坛</th>\n",
       "      <td>0</td>\n",
       "      <td>2</td>\n",
       "      <td>29</td>\n",
       "      <td>0</td>\n",
       "      <td>1</td>\n",
       "      <td>0</td>\n",
       "      <td>32</td>\n",
       "    </tr>\n",
       "    <tr>\n",
       "      <th rowspan=\"8\" valign=\"top\">0</th>\n",
       "      <th>博客</th>\n",
       "      <td>0</td>\n",
       "      <td>9</td>\n",
       "      <td>10</td>\n",
       "      <td>10</td>\n",
       "      <td>44</td>\n",
       "      <td>0</td>\n",
       "      <td>73</td>\n",
       "    </tr>\n",
       "    <tr>\n",
       "      <th>外媒</th>\n",
       "      <td>0</td>\n",
       "      <td>1</td>\n",
       "      <td>2</td>\n",
       "      <td>0</td>\n",
       "      <td>5</td>\n",
       "      <td>0</td>\n",
       "      <td>8</td>\n",
       "    </tr>\n",
       "    <tr>\n",
       "      <th>微信</th>\n",
       "      <td>0</td>\n",
       "      <td>18</td>\n",
       "      <td>11</td>\n",
       "      <td>68</td>\n",
       "      <td>99</td>\n",
       "      <td>0</td>\n",
       "      <td>196</td>\n",
       "    </tr>\n",
       "    <tr>\n",
       "      <th>微博</th>\n",
       "      <td>1</td>\n",
       "      <td>3</td>\n",
       "      <td>50</td>\n",
       "      <td>12</td>\n",
       "      <td>1</td>\n",
       "      <td>1</td>\n",
       "      <td>68</td>\n",
       "    </tr>\n",
       "    <tr>\n",
       "      <th>新闻</th>\n",
       "      <td>0</td>\n",
       "      <td>726</td>\n",
       "      <td>447</td>\n",
       "      <td>1177</td>\n",
       "      <td>2756</td>\n",
       "      <td>0</td>\n",
       "      <td>5106</td>\n",
       "    </tr>\n",
       "    <tr>\n",
       "      <th>新闻客户端</th>\n",
       "      <td>0</td>\n",
       "      <td>98</td>\n",
       "      <td>101</td>\n",
       "      <td>206</td>\n",
       "      <td>490</td>\n",
       "      <td>0</td>\n",
       "      <td>895</td>\n",
       "    </tr>\n",
       "    <tr>\n",
       "      <th>纸媒</th>\n",
       "      <td>0</td>\n",
       "      <td>71</td>\n",
       "      <td>26</td>\n",
       "      <td>49</td>\n",
       "      <td>97</td>\n",
       "      <td>0</td>\n",
       "      <td>243</td>\n",
       "    </tr>\n",
       "    <tr>\n",
       "      <th>论坛</th>\n",
       "      <td>0</td>\n",
       "      <td>5</td>\n",
       "      <td>1</td>\n",
       "      <td>7</td>\n",
       "      <td>6</td>\n",
       "      <td>0</td>\n",
       "      <td>19</td>\n",
       "    </tr>\n",
       "    <tr>\n",
       "      <th>All</th>\n",
       "      <th></th>\n",
       "      <td>1</td>\n",
       "      <td>1311</td>\n",
       "      <td>3667</td>\n",
       "      <td>1749</td>\n",
       "      <td>4104</td>\n",
       "      <td>1</td>\n",
       "      <td>10833</td>\n",
       "    </tr>\n",
       "  </tbody>\n",
       "</table>\n",
       "</div>"
      ],
      "text/plain": [
       "predict_label      产品销售  公司内部管理  消费服务    监管    行业  资本市场    All\n",
       "tendency group_id                                             \n",
       "-1       博客           0       1    37     1     5     0     44\n",
       "         外媒           0       0     9     4     2     0     15\n",
       "         微信           0       6    37     4    18     0     65\n",
       "         微博           0       2   169     6     0     0    177\n",
       "         新闻           0     312  2201   182   490     0   3185\n",
       "         新闻客户端        0      46   460    20    80     0    606\n",
       "         纸媒           0      11    77     3    10     0    101\n",
       "         论坛           0       2    29     0     1     0     32\n",
       "0        博客           0       9    10    10    44     0     73\n",
       "         外媒           0       1     2     0     5     0      8\n",
       "         微信           0      18    11    68    99     0    196\n",
       "         微博           1       3    50    12     1     1     68\n",
       "         新闻           0     726   447  1177  2756     0   5106\n",
       "         新闻客户端        0      98   101   206   490     0    895\n",
       "         纸媒           0      71    26    49    97     0    243\n",
       "         论坛           0       5     1     7     6     0     19\n",
       "All                   1    1311  3667  1749  4104     1  10833"
      ]
     },
     "execution_count": 44,
     "metadata": {},
     "output_type": "execute_result"
    }
   ],
   "source": [
    "combined_data = pd.DataFrame()\n",
    "for day_select in day_list:\n",
    "    tmp_data = pd.read_excel('cbrc_result_tendency/result/cbrc_tendency_predict_mysql_%s.xlsx'%day_select)\n",
    "    combined_data = pd.concat([combined_data, tmp_data], axis = 0)\n",
    "\n",
    "combined_data = combined_data[combined_data['predict_label'] != '补录']\n",
    "# sel_col = [ '消费服务', '公司内部管理', '监管','行业']\n",
    "# sel_col = ['噪音', '消费服务', '公司内部管理', '监管',\n",
    "#            '行业', '资本市场', '其他相关报道','产品销售']\n",
    "# sel_col = ['公司内部管理', '监管', '行业', '产品销售']\n",
    "sel_col = combined_data['predict_label'].unique().tolist()\n",
    "\n",
    "combined_data = combined_data[combined_data['predict_label'].isin(sel_col)]\n",
    "print(combined_data.shape)  \n",
    "print('去重前：', combined_data.shape)\n",
    "combined_data = combined_data.drop_duplicates(subset = 'title')\n",
    "print('去重后：', combined_data.shape)  \n",
    "combined_data = combined_data.dropna(subset = ['content'], axis = 0)\n",
    "print('去空值后：', combined_data.shape)  \n",
    "\n",
    "print(combined_data['tendency'].value_counts())\n",
    "combined_data.pivot_table(index = ['tendency', 'group_id'], \n",
    "                                columns = ['predict_label'], \n",
    "                                values = 'title', aggfunc=len, \n",
    "                                fill_value=0, margins=True)\n",
    "# combined_data.iloc[:2, :]"
   ]
  },
  {
   "cell_type": "code",
   "execution_count": 45,
   "metadata": {
    "ExecuteTime": {
     "end_time": "2018-12-24T07:02:24.234781Z",
     "start_time": "2018-12-24T07:02:15.817300Z"
    }
   },
   "outputs": [
    {
     "data": {
      "text/plain": [
       " 0    6608\n",
       "-1    4225\n",
       "Name: tendency, dtype: int64"
      ]
     },
     "execution_count": 45,
     "metadata": {},
     "output_type": "execute_result"
    }
   ],
   "source": [
    "combined_data_sel = combined_data # [combined_data['predict_label'].isin(['交通', '环保'])]\n",
    "combined_data_sel.to_excel('cbrc_result_tendency/cbrc_tendency_data_20181224(1217-1219).xlsx', index = False)\n",
    "combined_data_sel['tendency'].value_counts()"
   ]
  },
  {
   "cell_type": "code",
   "execution_count": 25,
   "metadata": {
    "ExecuteTime": {
     "end_time": "2018-12-18T07:26:43.418718Z",
     "start_time": "2018-12-18T07:26:41.821626Z"
    }
   },
   "outputs": [
    {
     "name": "stdout",
     "output_type": "stream",
     "text": [
      "-1    9859\n",
      " 0    9538\n",
      "Name: tendency, dtype: int64\n",
      "正负各 1000 条，共 7 类， 每类各 342 条\n",
      "tendency: -1, predict_label: 消费服务, size: (342, 8)\n",
      "tendency: -1, predict_label: 行业, size: (684, 8)\n",
      "tendency: -1, predict_label: 公司内部管理, size: (1026, 8)\n",
      "tendency: -1, predict_label: 监管, size: (1368, 8)\n",
      "tendency: -1, predict_label: 噪音, size: (1368, 8)\n",
      "tendency: -1, predict_label: 资本市场, size: (1368, 8)\n",
      "tendency: -1, predict_label: 产品销售, size: (1368, 8)\n",
      "predict_label  公司内部管理  消费服务   监管   行业   All\n",
      "tendency                                   \n",
      "-1                252   243  258  247  1000\n",
      "All               252   243  258  247  1000\n",
      "tendency: 0, predict_label: 消费服务, size: (342, 8)\n",
      "tendency: 0, predict_label: 行业, size: (684, 8)\n",
      "tendency: 0, predict_label: 公司内部管理, size: (1026, 8)\n",
      "tendency: 0, predict_label: 监管, size: (1368, 8)\n",
      "tendency: 0, predict_label: 噪音, size: (1375, 8)\n",
      "tendency: 0, predict_label: 资本市场, size: (1376, 8)\n",
      "tendency: 0, predict_label: 产品销售, size: (1377, 8)\n",
      "predict_label  产品销售  公司内部管理  噪音  消费服务   监管   行业  资本市场   All\n",
      "tendency                                                   \n",
      "0                 1     252   4   243  254  245     1  1000\n",
      "All               1     252   4   243  254  245     1  1000\n"
     ]
    }
   ],
   "source": [
    "fea_filename = 'cbrc_result_tendency/result/cbrc_tendency_predict_mysql_20181218(1202-1205).xlsx'\n",
    "print(combined_data['tendency'].value_counts())\n",
    "\n",
    "N = 1000 # 每类 N 条数据\n",
    "class_n = int(combined_data['predict_label'].unique().shape[0])\n",
    "n = int(N / class_n) + 200\n",
    "\n",
    "print('正负各 %s 条，共 %s 类， 每类各 %s 条'%(N, class_n, n))\n",
    "with pd.ExcelWriter(fea_filename) as writer:\n",
    "    for tendency in combined_data['tendency'].unique():\n",
    "        tmp_data = pd.DataFrame()\n",
    "        sel_data = combined_data[combined_data['tendency'] == tendency]        \n",
    "        for predict_label in combined_data['predict_label'].unique():\n",
    "            label_data = sel_data[sel_data['predict_label'] == predict_label]\n",
    "            if label_data.shape[0] > n:\n",
    "                sel_label_data = label_data.sample(n = n, axis = 0, random_state=3)\n",
    "            else :\n",
    "                sel_label_data = label_data\n",
    "            tmp_data = pd.concat([tmp_data, sel_label_data], axis = 0)        \n",
    "            print('tendency: %s, predict_label: %s, size: %s'%(tendency, predict_label, tmp_data.shape))\n",
    "        \n",
    "        if tmp_data.shape[0] > N:\n",
    "            t_n = N\n",
    "        else :\n",
    "            t_n = tmp_data.shape[0]\n",
    "        \n",
    "        tmp_data = tmp_data.sample(n = N, axis = 0, random_state=3)\n",
    "        tmp_data.to_excel(writer,str(tendency), index = False)\n",
    "        print(tmp_data.pivot_table(index = ['tendency'], \n",
    "                                    columns = ['predict_label'], \n",
    "                                    values = 'title', aggfunc=len, \n",
    "                                    fill_value=0, margins=True))    \n",
    "    writer.save()"
   ]
  },
  {
   "cell_type": "markdown",
   "metadata": {},
   "source": [
    "### 补录数据"
   ]
  },
  {
   "cell_type": "code",
   "execution_count": 20,
   "metadata": {
    "ExecuteTime": {
     "end_time": "2018-12-04T01:39:49.448143Z",
     "start_time": "2018-12-04T01:39:41.537690Z"
    }
   },
   "outputs": [
    {
     "name": "stdout",
     "output_type": "stream",
     "text": [
      "title 去重前： (3334, 7)\n",
      "title 去重后： (3334, 7)\n",
      "content 去重后： (3334, 7)\n",
      "title 去空值后： (3334, 7)\n"
     ]
    },
    {
     "data": {
      "text/html": [
       "<div>\n",
       "<style scoped>\n",
       "    .dataframe tbody tr th:only-of-type {\n",
       "        vertical-align: middle;\n",
       "    }\n",
       "\n",
       "    .dataframe tbody tr th {\n",
       "        vertical-align: top;\n",
       "    }\n",
       "\n",
       "    .dataframe thead th {\n",
       "        text-align: right;\n",
       "    }\n",
       "</style>\n",
       "<table border=\"1\" class=\"dataframe\">\n",
       "  <thead>\n",
       "    <tr style=\"text-align: right;\">\n",
       "      <th></th>\n",
       "      <th>id</th>\n",
       "      <th>group_id</th>\n",
       "      <th>publishtime</th>\n",
       "      <th>gather_type</th>\n",
       "      <th>tendency</th>\n",
       "      <th>title</th>\n",
       "      <th>content</th>\n",
       "    </tr>\n",
       "  </thead>\n",
       "  <tbody>\n",
       "    <tr>\n",
       "      <th>0</th>\n",
       "      <td>267289612</td>\n",
       "      <td>微博</td>\n",
       "      <td>2018-10-31 12:11:44</td>\n",
       "      <td>1</td>\n",
       "      <td>-1</td>\n",
       "      <td>24号没叫取了28号给我 26号后直接跳到了32号 @中国工商银行 麻烦请加强下底层工作人员...</td>\n",
       "      <td>24号没叫取了28号给我\\n26号后直接跳到了32号\\n@中国工商银行 麻烦请加强下底层工作...</td>\n",
       "    </tr>\n",
       "    <tr>\n",
       "      <th>1</th>\n",
       "      <td>266932412</td>\n",
       "      <td>微博</td>\n",
       "      <td>2018-10-30 11:46:06</td>\n",
       "      <td>1</td>\n",
       "      <td>-1</td>\n",
       "      <td>#魔法万圣节# 在建行庆祝万圣节 各种暂停服务 没人的情况下等待二十分钟 后边的一个叔叔等待...</td>\n",
       "      <td>#魔法万圣节# 在建行庆祝万圣节 各种暂停服务 没人的情况下等待二十分钟 后边的一个叔叔等待...</td>\n",
       "    </tr>\n",
       "    <tr>\n",
       "      <th>2</th>\n",
       "      <td>249135456</td>\n",
       "      <td>微博</td>\n",
       "      <td>2018-09-28 10:31:29</td>\n",
       "      <td>1</td>\n",
       "      <td>-1</td>\n",
       "      <td>工商银行的服务真是稀烂！不是财大气粗吗？从工作人员的业务熟悉度到业务平台系统都是渣渣！</td>\n",
       "      <td>工商银行的服务真是稀烂！不是财大气粗吗？从工作人员的业务熟悉度到业务平台系统都是渣渣！</td>\n",
       "    </tr>\n",
       "    <tr>\n",
       "      <th>3</th>\n",
       "      <td>263284185</td>\n",
       "      <td>微信</td>\n",
       "      <td>2018-10-17 00:00:00</td>\n",
       "      <td>1</td>\n",
       "      <td>-1</td>\n",
       "      <td>老牌长租公寓也摊事儿！雷军等明星投资人加持却也难逃一劫，年内已有5家爆雷</td>\n",
       "      <td>(图片)\\n\\n(图片)\\n\\n长租公寓又“摊上事儿”了。\\n\\n上海老牌长租公寓  寓见...</td>\n",
       "    </tr>\n",
       "    <tr>\n",
       "      <th>4</th>\n",
       "      <td>269162185</td>\n",
       "      <td>微博</td>\n",
       "      <td>2018-11-06 20:42:00</td>\n",
       "      <td>1</td>\n",
       "      <td>-1</td>\n",
       "      <td>不得不表扬下@招商银行信用卡 了，前几天在...</td>\n",
       "      <td>不得不表扬下\\n@招商银行信用卡\\n 了，前几天在苏格兰玩儿弄丢了卡，发现可以直接打开手机...</td>\n",
       "    </tr>\n",
       "  </tbody>\n",
       "</table>\n",
       "</div>"
      ],
      "text/plain": [
       "          id group_id         publishtime  gather_type  tendency  \\\n",
       "0  267289612       微博 2018-10-31 12:11:44            1        -1   \n",
       "1  266932412       微博 2018-10-30 11:46:06            1        -1   \n",
       "2  249135456       微博 2018-09-28 10:31:29            1        -1   \n",
       "3  263284185       微信 2018-10-17 00:00:00            1        -1   \n",
       "4  269162185       微博 2018-11-06 20:42:00            1        -1   \n",
       "\n",
       "                                               title  \\\n",
       "0  24号没叫取了28号给我 26号后直接跳到了32号 @中国工商银行 麻烦请加强下底层工作人员...   \n",
       "1  #魔法万圣节# 在建行庆祝万圣节 各种暂停服务 没人的情况下等待二十分钟 后边的一个叔叔等待...   \n",
       "2        工商银行的服务真是稀烂！不是财大气粗吗？从工作人员的业务熟悉度到业务平台系统都是渣渣！   \n",
       "3               老牌长租公寓也摊事儿！雷军等明星投资人加持却也难逃一劫，年内已有5家爆雷   \n",
       "4                           不得不表扬下@招商银行信用卡 了，前几天在...   \n",
       "\n",
       "                                             content  \n",
       "0  24号没叫取了28号给我\\n26号后直接跳到了32号\\n@中国工商银行 麻烦请加强下底层工作...  \n",
       "1  #魔法万圣节# 在建行庆祝万圣节 各种暂停服务 没人的情况下等待二十分钟 后边的一个叔叔等待...  \n",
       "2        工商银行的服务真是稀烂！不是财大气粗吗？从工作人员的业务熟悉度到业务平台系统都是渣渣！  \n",
       "3   (图片)\\n\\n(图片)\\n\\n长租公寓又“摊上事儿”了。\\n\\n上海老牌长租公寓  寓见...  \n",
       "4   不得不表扬下\\n@招商银行信用卡\\n 了，前几天在苏格兰玩儿弄丢了卡，发现可以直接打开手机...  "
      ]
     },
     "execution_count": 20,
     "metadata": {},
     "output_type": "execute_result"
    }
   ],
   "source": [
    "# 人工补录\n",
    "sql_one_day = \"select t1.id, t1.group_id, t1.publishtime as publishtime, t1.gather_type, \\\n",
    "                    t1.sen as tendency, t1.title,t2.text as content \\\n",
    "                    from elint_web_docinfo t1, wise_web_docinfo_text t2 \\\n",
    "                        where t1.id=t2.doc_id \\\n",
    "                              and t1.publishtime >= '{0} 00:00:00' \\\n",
    "                              and t1.publishtime <= '{1} 23:59:59' \\\n",
    "                              and t1.gather_type in (1,3) \\\n",
    "                            group by t1.titlehash\".format('2018-09-01', '2018-12-03')\n",
    "# titlehash 去重后\n",
    "human_additional = pd.read_sql(sql_one_day, engine) \n",
    "human_additional['group_id'] = human_additional['group_id'].apply(lambda x:group_dict[str(x)])\n",
    "print('title 去重前：', human_additional.shape)\n",
    "human_additional = human_additional.drop_duplicates(subset = 'title')\n",
    "print('title 去重后：', human_additional.shape)  \n",
    "human_additional = human_additional.drop_duplicates(subset = ['content'])\n",
    "print('content 去重后：', human_additional.shape)  \n",
    "human_additional = human_additional.dropna(subset = ['title'], axis = 0)\n",
    "print('title 去空值后：', human_additional.shape) \n",
    "human_additional.head()"
   ]
  },
  {
   "cell_type": "code",
   "execution_count": 21,
   "metadata": {
    "ExecuteTime": {
     "end_time": "2018-12-04T01:41:39.411432Z",
     "start_time": "2018-12-04T01:39:59.952744Z"
    }
   },
   "outputs": [
    {
     "name": "stdout",
     "output_type": "stream",
     "text": [
      "消费服务      2366\n",
      "行业         290\n",
      "噪音         252\n",
      "资本市场       131\n",
      "监管         103\n",
      "公司内部管理     101\n",
      "产品销售        80\n",
      "其他相关报道      11\n",
      "Name: predict_label, dtype: int64\n"
     ]
    },
    {
     "data": {
      "text/html": [
       "<div>\n",
       "<style scoped>\n",
       "    .dataframe tbody tr th:only-of-type {\n",
       "        vertical-align: middle;\n",
       "    }\n",
       "\n",
       "    .dataframe tbody tr th {\n",
       "        vertical-align: top;\n",
       "    }\n",
       "\n",
       "    .dataframe thead th {\n",
       "        text-align: right;\n",
       "    }\n",
       "</style>\n",
       "<table border=\"1\" class=\"dataframe\">\n",
       "  <thead>\n",
       "    <tr style=\"text-align: right;\">\n",
       "      <th></th>\n",
       "      <th>id</th>\n",
       "      <th>group_id</th>\n",
       "      <th>publishtime</th>\n",
       "      <th>gather_type</th>\n",
       "      <th>tendency</th>\n",
       "      <th>label</th>\n",
       "      <th>title</th>\n",
       "      <th>content</th>\n",
       "      <th>predict_label</th>\n",
       "    </tr>\n",
       "  </thead>\n",
       "  <tbody>\n",
       "    <tr>\n",
       "      <th>0</th>\n",
       "      <td>267289612</td>\n",
       "      <td>微博</td>\n",
       "      <td>2018-10-31 12:11:44</td>\n",
       "      <td>1</td>\n",
       "      <td>-1</td>\n",
       "      <td></td>\n",
       "      <td>24号没叫取了28号给我 26号后直接跳到了32号 @中国工商银行 麻烦请加强下底层工作人员...</td>\n",
       "      <td>24号没叫取了28号给我\\n26号后直接跳到了32号\\n@中国工商银行 麻烦请加强下底层工作...</td>\n",
       "      <td>消费服务</td>\n",
       "    </tr>\n",
       "    <tr>\n",
       "      <th>1</th>\n",
       "      <td>266932412</td>\n",
       "      <td>微博</td>\n",
       "      <td>2018-10-30 11:46:06</td>\n",
       "      <td>1</td>\n",
       "      <td>-1</td>\n",
       "      <td></td>\n",
       "      <td>#魔法万圣节# 在建行庆祝万圣节 各种暂停服务 没人的情况下等待二十分钟 后边的一个叔叔等待...</td>\n",
       "      <td>#魔法万圣节# 在建行庆祝万圣节 各种暂停服务 没人的情况下等待二十分钟 后边的一个叔叔等待...</td>\n",
       "      <td>消费服务</td>\n",
       "    </tr>\n",
       "    <tr>\n",
       "      <th>2</th>\n",
       "      <td>249135456</td>\n",
       "      <td>微博</td>\n",
       "      <td>2018-09-28 10:31:29</td>\n",
       "      <td>1</td>\n",
       "      <td>-1</td>\n",
       "      <td></td>\n",
       "      <td>工商银行的服务真是稀烂！不是财大气粗吗？从工作人员的业务熟悉度到业务平台系统都是渣渣！</td>\n",
       "      <td>工商银行的服务真是稀烂！不是财大气粗吗？从工作人员的业务熟悉度到业务平台系统都是渣渣！</td>\n",
       "      <td>消费服务</td>\n",
       "    </tr>\n",
       "    <tr>\n",
       "      <th>3</th>\n",
       "      <td>263284185</td>\n",
       "      <td>微信</td>\n",
       "      <td>2018-10-17 00:00:00</td>\n",
       "      <td>1</td>\n",
       "      <td>-1</td>\n",
       "      <td></td>\n",
       "      <td>老牌长租公寓也摊事儿！雷军等明星投资人加持却也难逃一劫，年内已有5家爆雷</td>\n",
       "      <td>(图片)\\n\\n(图片)\\n\\n长租公寓又“摊上事儿”了。\\n\\n上海老牌长租公寓  寓见...</td>\n",
       "      <td>行业</td>\n",
       "    </tr>\n",
       "    <tr>\n",
       "      <th>4</th>\n",
       "      <td>269162185</td>\n",
       "      <td>微博</td>\n",
       "      <td>2018-11-06 20:42:00</td>\n",
       "      <td>1</td>\n",
       "      <td>-1</td>\n",
       "      <td></td>\n",
       "      <td>不得不表扬下@招商银行信用卡 了，前几天在...</td>\n",
       "      <td>不得不表扬下\\n@招商银行信用卡\\n 了，前几天在苏格兰玩儿弄丢了卡，发现可以直接打开手机...</td>\n",
       "      <td>消费服务</td>\n",
       "    </tr>\n",
       "  </tbody>\n",
       "</table>\n",
       "</div>"
      ],
      "text/plain": [
       "          id group_id         publishtime  gather_type  tendency label  \\\n",
       "0  267289612       微博 2018-10-31 12:11:44            1        -1         \n",
       "1  266932412       微博 2018-10-30 11:46:06            1        -1         \n",
       "2  249135456       微博 2018-09-28 10:31:29            1        -1         \n",
       "3  263284185       微信 2018-10-17 00:00:00            1        -1         \n",
       "4  269162185       微博 2018-11-06 20:42:00            1        -1         \n",
       "\n",
       "                                               title  \\\n",
       "0  24号没叫取了28号给我 26号后直接跳到了32号 @中国工商银行 麻烦请加强下底层工作人员...   \n",
       "1  #魔法万圣节# 在建行庆祝万圣节 各种暂停服务 没人的情况下等待二十分钟 后边的一个叔叔等待...   \n",
       "2        工商银行的服务真是稀烂！不是财大气粗吗？从工作人员的业务熟悉度到业务平台系统都是渣渣！   \n",
       "3               老牌长租公寓也摊事儿！雷军等明星投资人加持却也难逃一劫，年内已有5家爆雷   \n",
       "4                           不得不表扬下@招商银行信用卡 了，前几天在...   \n",
       "\n",
       "                                             content predict_label  \n",
       "0  24号没叫取了28号给我\\n26号后直接跳到了32号\\n@中国工商银行 麻烦请加强下底层工作...          消费服务  \n",
       "1  #魔法万圣节# 在建行庆祝万圣节 各种暂停服务 没人的情况下等待二十分钟 后边的一个叔叔等待...          消费服务  \n",
       "2        工商银行的服务真是稀烂！不是财大气粗吗？从工作人员的业务熟悉度到业务平台系统都是渣渣！          消费服务  \n",
       "3   (图片)\\n\\n(图片)\\n\\n长租公寓又“摊上事儿”了。\\n\\n上海老牌长租公寓  寓见...            行业  \n",
       "4   不得不表扬下\\n@招商银行信用卡\\n 了，前几天在苏格兰玩儿弄丢了卡，发现可以直接打开手机...          消费服务  "
      ]
     },
     "execution_count": 21,
     "metadata": {},
     "output_type": "execute_result"
    }
   ],
   "source": [
    "human_additional['title'] = human_additional['title'].astype(str) \n",
    "human_additional['content'] = human_additional['content'].astype(str)\n",
    "data = {\"record\":human_additional.loc[:,['id', 'title' ,'content']].to_dict(orient = 'records')}\n",
    "url = \"http://47.93.77.19:6001/judge_correlation_yjh\"\n",
    "col_name = 'sec'\n",
    "parse_data, elapsed_time = get_server_res(data, url, col_name)\n",
    "parse_data.columns = ['id', 'predict_label']\n",
    "human_additional = pd.merge(human_additional, parse_data, on = 'id', how = 'left')\n",
    "human_additional['predict_label'] = human_additional['predict_label'].apply(lambda x:class_name_dict[x])\n",
    "human_additional.insert(5, 'label', '')\n",
    "print(human_additional['predict_label'].value_counts())\n",
    "human_additional.head()"
   ]
  },
  {
   "cell_type": "code",
   "execution_count": 24,
   "metadata": {
    "ExecuteTime": {
     "end_time": "2018-12-04T01:55:29.838930Z",
     "start_time": "2018-12-04T01:55:28.249839Z"
    }
   },
   "outputs": [
    {
     "name": "stdout",
     "output_type": "stream",
     "text": [
      "cbrc_result_class/result/补录_银监会（旧）_class_predict_mysql_20181203(0901-1203).xlsx\n",
      "消费服务      2366\n",
      "行业         290\n",
      "噪音         252\n",
      "资本市场       131\n",
      "监管         103\n",
      "公司内部管理     101\n",
      "产品销售        80\n",
      "其他相关报道      11\n",
      "Name: predict_label, dtype: int64\n",
      "\n",
      "predict_label  产品销售  公司内部管理  其他相关报道   噪音  消费服务   监管   行业  资本市场   All\n",
      "group_id                                                            \n",
      "博客                0       0       0    0     1    0    0     0     1\n",
      "微信                0       3       0    2     5    4   12     6    32\n",
      "微博               76       3       6  153  2282    4    9     4  2537\n",
      "新闻                2      86       4   64    23   61  165    63   468\n",
      "新闻客户端             0       2       0    2     0    4    1     2    11\n",
      "纸媒                0       5       1   25     7   30  103    56   227\n",
      "论坛                2       2       0    6    48    0    0     0    58\n",
      "All              80     101      11  252  2366  103  290   131  3334\n"
     ]
    }
   ],
   "source": [
    "fea_filename = 'cbrc_result_class/result/补录_银监会（旧）_class_predict_mysql_20181203(0901-1203).xlsx'\n",
    "print(fea_filename)\n",
    "\n",
    "sel_col = ['噪音', '消费服务', '公司内部管理', '监管',\n",
    "           '行业', '资本市场', '其他相关报道','产品销售','交通','环保']\n",
    "sel_data = human_additional[human_additional['predict_label'].isin(sel_col)]\n",
    "print(sel_data['predict_label'].value_counts())\n",
    "print()\n",
    "\n",
    "c_data = pd.DataFrame()\n",
    "with pd.ExcelWriter(fea_filename) as writer:\n",
    "    for label in sel_data['predict_label'].unique():\n",
    "        tmp_data = sel_data[sel_data['predict_label'] == label]\n",
    "        N = tmp_data.shape[0]            \n",
    "        save_data = tmp_data.sample(n = N, axis = 0, random_state=42)\n",
    "        save_data.to_excel(writer,label, index = False)\n",
    "        c_data = pd.concat([c_data, save_data], axis = 0)\n",
    "    print(c_data.pivot_table(index = ['group_id'], \n",
    "                                columns = ['predict_label'], \n",
    "                                values = 'title', aggfunc=len, \n",
    "                                fill_value=0, margins=True))      \n",
    "    writer.save()"
   ]
  },
  {
   "cell_type": "code",
   "execution_count": 25,
   "metadata": {
    "ExecuteTime": {
     "end_time": "2018-12-04T01:55:42.394648Z",
     "start_time": "2018-12-04T01:55:41.037570Z"
    }
   },
   "outputs": [
    {
     "name": "stdout",
     "output_type": "stream",
     "text": [
      "cbrc_result_tendency/result/补录_银监会（旧）_tendency_predict_mysql_20181204(0901-1203).xlsx\n",
      "-1    2892\n",
      " 0     345\n",
      " 1      97\n",
      "Name: tendency, dtype: int64\n"
     ]
    }
   ],
   "source": [
    "fea_filename = 'cbrc_result_tendency/result/补录_银监会（旧）_tendency_predict_mysql_20181204(0901-1203).xlsx'\n",
    "print(fea_filename)\n",
    "print(human_additional['tendency'].value_counts())\n",
    "\n",
    "with pd.ExcelWriter(fea_filename) as writer:\n",
    "    for tendency in human_additional['tendency'].unique():\n",
    "        sel_data = human_additional[human_additional['tendency'] == tendency]    \n",
    "        t_n = sel_data.shape[0]        \n",
    "        tmp_data = sel_data.sample(n = t_n, axis = 0, random_state=3)\n",
    "        tmp_data.to_excel(writer,str(tendency), index = False)           \n",
    "    writer.save()"
   ]
  },
  {
   "cell_type": "markdown",
   "metadata": {
    "collapsed": true
   },
   "source": [
    "## 本地模型"
   ]
  },
  {
   "cell_type": "markdown",
   "metadata": {},
   "source": [
    "### 八分类"
   ]
  },
  {
   "cell_type": "code",
   "execution_count": null,
   "metadata": {
    "ExecuteTime": {
     "end_time": "2018-10-08T06:08:55.607050Z",
     "start_time": "2018-10-08T06:08:53.117234Z"
    },
    "collapsed": true
   },
   "outputs": [],
   "source": [
    "from sklearn.externals import joblib\n",
    "pipeline_old = joblib.load( \"model/cbrc_8classifier_1015.pkl.z\")"
   ]
  },
  {
   "cell_type": "code",
   "execution_count": null,
   "metadata": {
    "ExecuteTime": {
     "end_time": "2018-10-08T06:18:52.561354Z",
     "start_time": "2018-10-08T06:08:56.797702Z"
    },
    "collapsed": true
   },
   "outputs": [],
   "source": [
    "combined_data['title_content'] = combined_data['title'].astype(str) + '。' + combined_data['content'].astype(str)\n",
    "title_content = pre_cor_cbrc.handle_contents(combined_data['title_content'].tolist())\n",
    "print(len(title_content))\n",
    "\n",
    "local_label = pipeline_old.predict(title_content)\n",
    "local_proba = pipeline_old.predict_proba(title_content)"
   ]
  },
  {
   "cell_type": "code",
   "execution_count": null,
   "metadata": {
    "ExecuteTime": {
     "end_time": "2018-10-08T06:18:53.780509Z",
     "start_time": "2018-10-08T06:18:53.751505Z"
    },
    "collapsed": true
   },
   "outputs": [],
   "source": [
    "combined_data['local_label'] = local_label\n",
    "combined_data['local_proba'] = local_proba.max(axis = 1)\n",
    "combined_data['local_label'] = combined_data['local_label'].apply(lambda x:class_name_dict[x])\n",
    "print(combined_data.shape)\n",
    "combined_data.iloc[:2, :]"
   ]
  },
  {
   "cell_type": "markdown",
   "metadata": {},
   "source": [
    "#### 线上线下一致性: mysql 与 local"
   ]
  },
  {
   "cell_type": "code",
   "execution_count": null,
   "metadata": {
    "ExecuteTime": {
     "end_time": "2018-10-08T06:18:57.152437Z",
     "start_time": "2018-10-08T06:18:55.000164Z"
    },
    "collapsed": true
   },
   "outputs": [],
   "source": [
    "combined_data['R_W'] = combined_data.apply(lambda x: 'Right' if x['local_label'] == x['predict_label'] else 'Wrong', axis = 1)\n",
    "print(combined_data[combined_data['R_W'] == 'Right'].shape[0]/combined_data.shape[0])\n",
    "print(combined_data['R_W'].value_counts())\n",
    "combined_data[combined_data['R_W'] == 'Wrong'].pivot_table(index = ['local_label'], columns = ['predict_label'], \n",
    "                                                            aggfunc = [len], values = ['urlhash'], \n",
    "                                                            fill_value = 0, margins = True)"
   ]
  },
  {
   "cell_type": "markdown",
   "metadata": {},
   "source": [
    "#### 线上线下一致性: online 与 local"
   ]
  },
  {
   "cell_type": "code",
   "execution_count": null,
   "metadata": {
    "ExecuteTime": {
     "end_time": "2018-10-08T06:18:58.463103Z",
     "start_time": "2018-10-08T06:18:58.420598Z"
    },
    "collapsed": true
   },
   "outputs": [],
   "source": [
    "combined_data['id'] = range(combined_data.shape[0])\n",
    "combined_data['title'] = combined_data['title'].astype(str) \n",
    "combined_data['content'] = combined_data['content'].astype(str)"
   ]
  },
  {
   "cell_type": "code",
   "execution_count": null,
   "metadata": {
    "ExecuteTime": {
     "end_time": "2018-10-08T06:49:05.543073Z",
     "start_time": "2018-10-08T06:18:59.725264Z"
    },
    "collapsed": true
   },
   "outputs": [],
   "source": [
    "data = {\"record\":combined_data.loc[:,['id', 'title' ,'content']].to_dict(orient = 'records')}\n",
    "url = \"http://47.93.77.19:6001/judge_correlation_yjh\"\n",
    "col_name = 'sec'\n",
    "parse_data = get_server_res_yjh(data, url, col_name)\n",
    "parse_data.columns = ['id', 'online_label']\n",
    "parse_data.head()"
   ]
  },
  {
   "cell_type": "code",
   "execution_count": null,
   "metadata": {
    "ExecuteTime": {
     "end_time": "2018-10-08T06:49:09.341056Z",
     "start_time": "2018-10-08T06:49:06.973255Z"
    },
    "collapsed": true
   },
   "outputs": [],
   "source": [
    "combined_data = pd.merge(combined_data, parse_data, on  = 'id')\n",
    "print(combined_data.shape)\n",
    "combined_data['online_label'] = combined_data['online_label'].apply(lambda x:class_name_dict[x])\n",
    "combined_data['O_R_W'] = combined_data.apply(lambda x: 'Right' if x['local_label'] == x['online_label'] else 'Wrong', axis = 1)\n",
    "print(combined_data[combined_data['O_R_W'] == 'Right'].shape[0]/combined_data.shape[0])\n",
    "print(combined_data['O_R_W'].value_counts())\n",
    "combined_data[combined_data['O_R_W'] == 'Wrong'].pivot_table(index = ['local_label'], columns = ['online_label'], \n",
    "                                                            aggfunc = [len], values = ['urlhash'], \n",
    "                                                            fill_value = 0, margins = True)"
   ]
  },
  {
   "cell_type": "markdown",
   "metadata": {},
   "source": [
    "#### 线上线下一致性: online 与 mysql"
   ]
  },
  {
   "cell_type": "code",
   "execution_count": null,
   "metadata": {
    "ExecuteTime": {
     "end_time": "2018-10-08T06:49:13.415073Z",
     "start_time": "2018-10-08T06:49:10.973263Z"
    },
    "collapsed": true
   },
   "outputs": [],
   "source": [
    "combined_data['O_R_W'] = combined_data.apply(lambda x: 'Right' if x['predict_label'] == x['online_label'] else 'Wrong', axis = 1)\n",
    "print(combined_data[combined_data['O_R_W'] == 'Right'].shape[0]/combined_data.shape[0])\n",
    "print(combined_data['O_R_W'].value_counts())\n",
    "combined_data[combined_data['O_R_W'] == 'Wrong'].pivot_table(index = ['predict_label'], columns = ['online_label'], \n",
    "                                                            aggfunc = [len], values = ['urlhash'], \n",
    "                                                            fill_value = 0, margins = True)"
   ]
  },
  {
   "cell_type": "markdown",
   "metadata": {},
   "source": [
    "### 倾向性"
   ]
  },
  {
   "cell_type": "code",
   "execution_count": null,
   "metadata": {
    "ExecuteTime": {
     "end_time": "2018-10-08T06:08:55.607050Z",
     "start_time": "2018-10-08T06:08:53.117234Z"
    },
    "collapsed": true
   },
   "outputs": [],
   "source": [
    "from sklearn.externals import joblib\n",
    "pipeline_old = joblib.load( \"model/cbrc_8classifier_1015.pkl.z\")"
   ]
  },
  {
   "cell_type": "code",
   "execution_count": null,
   "metadata": {
    "ExecuteTime": {
     "end_time": "2018-10-08T06:18:52.561354Z",
     "start_time": "2018-10-08T06:08:56.797702Z"
    },
    "collapsed": true
   },
   "outputs": [],
   "source": [
    "combined_data['title_content'] = combined_data['title'].astype(str) + '。' + combined_data['content'].astype(str)\n",
    "title_content = pre_cor_cbrc.handle_contents(combined_data['title_content'].tolist())\n",
    "print(len(title_content))\n",
    "\n",
    "local_label = pipeline_old.predict(title_content)\n",
    "local_proba = pipeline_old.predict_proba(title_content)"
   ]
  },
  {
   "cell_type": "code",
   "execution_count": null,
   "metadata": {
    "ExecuteTime": {
     "end_time": "2018-10-08T06:18:53.780509Z",
     "start_time": "2018-10-08T06:18:53.751505Z"
    },
    "collapsed": true
   },
   "outputs": [],
   "source": [
    "combined_data['local_label'] = local_label\n",
    "combined_data['local_proba'] = local_proba.max(axis = 1)\n",
    "combined_data['local_label'] = combined_data['local_label'].apply(lambda x:class_name_dict[x])\n",
    "print(combined_data.shape)\n",
    "combined_data.iloc[:2, :]"
   ]
  },
  {
   "cell_type": "markdown",
   "metadata": {},
   "source": [
    "#### 线上线下一致性: mysql 与 local"
   ]
  },
  {
   "cell_type": "code",
   "execution_count": null,
   "metadata": {
    "ExecuteTime": {
     "end_time": "2018-10-08T06:18:57.152437Z",
     "start_time": "2018-10-08T06:18:55.000164Z"
    },
    "collapsed": true
   },
   "outputs": [],
   "source": [
    "combined_data['R_W'] = combined_data.apply(lambda x: 'Right' if x['local_label'] == x['predict_label'] else 'Wrong', axis = 1)\n",
    "print(combined_data[combined_data['R_W'] == 'Right'].shape[0]/combined_data.shape[0])\n",
    "print(combined_data['R_W'].value_counts())\n",
    "combined_data[combined_data['R_W'] == 'Wrong'].pivot_table(index = ['local_label'], columns = ['predict_label'], \n",
    "                                                            aggfunc = [len], values = ['urlhash'], \n",
    "                                                            fill_value = 0, margins = True)"
   ]
  },
  {
   "cell_type": "markdown",
   "metadata": {},
   "source": [
    "#### 线上线下一致性: online 与 local"
   ]
  },
  {
   "cell_type": "code",
   "execution_count": null,
   "metadata": {
    "ExecuteTime": {
     "end_time": "2018-10-08T06:18:58.463103Z",
     "start_time": "2018-10-08T06:18:58.420598Z"
    },
    "collapsed": true
   },
   "outputs": [],
   "source": [
    "combined_data['id'] = range(combined_data.shape[0])\n",
    "combined_data['title'] = combined_data['title'].astype(str) \n",
    "combined_data['content'] = combined_data['content'].astype(str)"
   ]
  },
  {
   "cell_type": "code",
   "execution_count": null,
   "metadata": {
    "ExecuteTime": {
     "end_time": "2018-10-08T06:49:05.543073Z",
     "start_time": "2018-10-08T06:18:59.725264Z"
    },
    "collapsed": true
   },
   "outputs": [],
   "source": [
    "data = {\"record\":combined_data.loc[:,['id', 'title' ,'content']].to_dict(orient = 'records')}\n",
    "url = \"http://47.93.77.19:6001/judge_correlation_yjh\"\n",
    "col_name = 'sec'\n",
    "parse_data = get_server_res_yjh(data, url, col_name)\n",
    "parse_data.columns = ['id', 'online_label']\n",
    "parse_data.head()"
   ]
  },
  {
   "cell_type": "code",
   "execution_count": null,
   "metadata": {
    "ExecuteTime": {
     "end_time": "2018-10-08T06:49:09.341056Z",
     "start_time": "2018-10-08T06:49:06.973255Z"
    },
    "collapsed": true
   },
   "outputs": [],
   "source": [
    "combined_data = pd.merge(combined_data, parse_data, on  = 'id')\n",
    "print(combined_data.shape)\n",
    "combined_data['online_label'] = combined_data['online_label'].apply(lambda x:class_name_dict[x])\n",
    "combined_data['O_R_W'] = combined_data.apply(lambda x: 'Right' if x['local_label'] == x['online_label'] else 'Wrong', axis = 1)\n",
    "print(combined_data[combined_data['O_R_W'] == 'Right'].shape[0]/combined_data.shape[0])\n",
    "print(combined_data['O_R_W'].value_counts())\n",
    "combined_data[combined_data['O_R_W'] == 'Wrong'].pivot_table(index = ['local_label'], columns = ['online_label'], \n",
    "                                                            aggfunc = [len], values = ['urlhash'], \n",
    "                                                            fill_value = 0, margins = True)"
   ]
  },
  {
   "cell_type": "markdown",
   "metadata": {},
   "source": [
    "#### 线上线下一致性: online 与 mysql"
   ]
  },
  {
   "cell_type": "code",
   "execution_count": null,
   "metadata": {
    "ExecuteTime": {
     "end_time": "2018-10-08T06:49:13.415073Z",
     "start_time": "2018-10-08T06:49:10.973263Z"
    },
    "collapsed": true
   },
   "outputs": [],
   "source": [
    "combined_data['O_R_W'] = combined_data.apply(lambda x: 'Right' if x['predict_label'] == x['online_label'] else 'Wrong', axis = 1)\n",
    "print(combined_data[combined_data['O_R_W'] == 'Right'].shape[0]/combined_data.shape[0])\n",
    "print(combined_data['O_R_W'].value_counts())\n",
    "combined_data[combined_data['O_R_W'] == 'Wrong'].pivot_table(index = ['predict_label'], columns = ['online_label'], \n",
    "                                                            aggfunc = [len], values = ['urlhash'], \n",
    "                                                            fill_value = 0, margins = True)"
   ]
  },
  {
   "cell_type": "code",
   "execution_count": null,
   "metadata": {
    "collapsed": true
   },
   "outputs": [],
   "source": []
  },
  {
   "cell_type": "code",
   "execution_count": null,
   "metadata": {
    "collapsed": true
   },
   "outputs": [],
   "source": []
  },
  {
   "cell_type": "markdown",
   "metadata": {
    "ExecuteTime": {
     "end_time": "2018-09-11T03:51:49.646007Z",
     "start_time": "2018-09-11T03:51:48.860962Z"
    },
    "collapsed": true
   },
   "source": [
    "# 银行业与保险业--新"
   ]
  },
  {
   "cell_type": "markdown",
   "metadata": {
    "collapsed": true
   },
   "source": [
    "## mysql 数据"
   ]
  },
  {
   "cell_type": "code",
   "execution_count": 12,
   "metadata": {
    "ExecuteTime": {
     "end_time": "2019-01-17T09:01:03.099405Z",
     "start_time": "2019-01-17T09:00:52.659339Z"
    }
   },
   "outputs": [],
   "source": [
    "engine = specific_func.get_engine('cbirc')"
   ]
  },
  {
   "cell_type": "code",
   "execution_count": 105,
   "metadata": {
    "ExecuteTime": {
     "end_time": "2018-12-21T05:54:44.795252Z",
     "start_time": "2018-12-21T05:54:34.699675Z"
    },
    "collapsed": true
   },
   "outputs": [],
   "source": [
    "engine = specific_func.get_engine('ahyjj')"
   ]
  },
  {
   "cell_type": "code",
   "execution_count": 19,
   "metadata": {
    "ExecuteTime": {
     "end_time": "2019-01-17T09:07:09.424295Z",
     "start_time": "2019-01-17T09:07:09.122079Z"
    }
   },
   "outputs": [
    {
     "name": "stdout",
     "output_type": "stream",
     "text": [
      "['2018-12-02', '2018-12-03', '2018-12-04', '2018-12-05', '2018-12-06', '2018-12-07', '2018-12-08', '2018-12-09', '2018-12-10', '2018-12-11', '2018-12-12', '2018-12-13', '2018-12-14', '2018-12-15', '2018-12-16', '2018-12-17', '2018-12-18', '2018-12-19', '2018-12-20', '2018-12-21', '2018-12-22', '2018-12-23', '2018-12-24', '2018-12-25', '2018-12-26', '2018-12-27', '2018-12-28', '2018-12-29', '2018-12-30', '2018-12-31', '2019-01-01']\n"
     ]
    }
   ],
   "source": [
    "# day_select = '2018-09-09'\n",
    "day_list = get_day_list('2018-12-01', '2019-01-01')\n",
    "print(day_list)"
   ]
  },
  {
   "cell_type": "code",
   "execution_count": 104,
   "metadata": {
    "ExecuteTime": {
     "end_time": "2018-12-21T03:40:13.494600Z",
     "start_time": "2018-12-21T03:40:13.459598Z"
    },
    "collapsed": true
   },
   "outputs": [],
   "source": [
    "# ahyyj_data = pd.read_excel('cbrc_data_class/安徽银监局数据_20181221.xlsx')\n",
    "# print(ahyyj_data.shape)\n",
    "# # ahyyj_data.iloc[:1,:]\n",
    "\n",
    "# url_list = tuple(ahyyj_data['url'].tolist())\n",
    "# sql_label = '''\n",
    "#         SELECT \n",
    "#             t3.id, t3.title, t3.group_id, t3.publishtime, t3.url, t3.urlhash\n",
    "#         FROM\n",
    "#             ahyjj.db_docinfo t3\n",
    "#         WHERE\n",
    "#             t3.url in {0}\n",
    "#         '''.format(url_list)\n",
    "\n",
    "# ahyjj_label = pd.read_sql(sql_label, engine)\n",
    "# # ahyjj_label['predict_label_mysql'] = ahyjj_label['traffic_id'].apply(lambda x:class_name_dict[x])\n",
    "# ahyjj_label['group_id'] = ahyjj_label['group_id'].apply(lambda x:group_dict[str(x)])\n",
    "# # ahyjj_label['type'] = ahyjj_label['type'].apply(lambda x:proj_name_dict[6])\n",
    "# print(ahyjj_label.shape)\n",
    "# # ahyjj_label.iloc[:1,:]\n",
    "\n",
    "# url_l = ahyjj_label['urlhash'].tolist()\n",
    "# url_list = tuple(url_l)\n",
    "# sql_content = '''\n",
    "# SELECT \n",
    "#     t1.urlhash, t1.text as content\n",
    "# FROM\n",
    "#     ahyjj.db_docinfo_text t1\n",
    "# WHERE\n",
    "#     t1.urlhash in {0}\n",
    "# '''.format(url_list)\n",
    "\n",
    "# ahyyj_content = pd.read_sql(sql_content, engine)\n",
    "# ahyyj_combined = pd.merge(ahyjj_label, ahyyj_content, on = 'urlhash', how = 'inner')\n",
    "# print(ahyyj_combined.shape)  \n",
    "# ahyyj_combined['label'] = ''\n",
    "# ahyyj_combined = ahyyj_combined[['id', 'label', 'title', 'content', 'group_id', 'publishtime', 'url']]\n",
    "# ahyyj_combined['title'] = ahyyj_combined['title'].astype(str)\n",
    "# ahyyj_combined['content'] = ahyyj_combined['content'].astype(str)\n",
    "# # ahyyj_combined.iloc[:1,:]\n",
    "\n",
    "# data = {\"types\":'1',\"record\":ahyyj_combined.loc[:,['id', 'title' ,'content']].to_dict(orient = 'records')}\n",
    "# url = \"http://39.105.162.87:6001/judge_correlation_b\"\n",
    "# col_name = 'cor'\n",
    "\n",
    "# # parse_data = get_server_res_yjh(data, url, col_name)\n",
    "# parse_data, elapsed_time = get_server_res(data, url, col_name)\n",
    "# print('elapsed_time: ', elapsed_time)\n",
    "# parse_data.columns = ['id', 'predict_label']\n",
    "# print(parse_data.shape)\n",
    "# # parse_data.head()\n",
    "\n",
    "# ahyyj_combined = pd.merge(parse_data, ahyyj_combined, on = 'id')\n",
    "# ahyyj_combined['predict_label'] = ahyyj_combined['predict_label'].apply(lambda x:class_name_dict[x])\n",
    "# print(ahyyj_combined.shape)\n",
    "# # ahyyj_combined.iloc[:1,:]\n",
    "\n",
    "# ahyyj_data = pd.merge(ahyyj_data, ahyyj_combined, on = 'url', how = 'left')\n",
    "# writer = pd.ExcelWriter('cbrc_data_class/安徽银监局数据_content_20181221.xlsx',\n",
    "#                         engine='xlsxwriter',\n",
    "#                         options={'strings_to_urls': False})\n",
    "# ahyyj_data.to_excel(writer, sheet_name='Sheet1', index = False)\n",
    "# writer.save()\n",
    "# print(ahyyj_data.shape)\n",
    "# ahyyj_data.iloc[:1,:]"
   ]
  },
  {
   "cell_type": "markdown",
   "metadata": {},
   "source": [
    "### 获取数据"
   ]
  },
  {
   "cell_type": "markdown",
   "metadata": {},
   "source": [
    "#### 系统采集\n",
    "- gather_type 0-系统采集"
   ]
  },
  {
   "cell_type": "code",
   "execution_count": 20,
   "metadata": {
    "ExecuteTime": {
     "end_time": "2019-01-17T10:07:32.633653Z",
     "start_time": "2019-01-17T09:07:22.758647Z"
    }
   },
   "outputs": [
    {
     "name": "stdout",
     "output_type": "stream",
     "text": [
      "获取 建行北分 数据...\n",
      "\n",
      "-- day_select:  2018-12-02\n",
      "label 去重前： (395, 10)\n",
      "label 去重后： (395, 10)\n",
      "label 去空值后： (395, 10)\n",
      "content 去重前： (395, 2)\n",
      "content 去重后： (392, 2)\n",
      "content 去空值后： (392, 2)\n",
      "(392, 11)\n",
      "                len                                           \n",
      "              title                                           \n",
      "predict_label  产品销售 公司内部管理 其他相关报道   噪音 消费服务   监管  行业 资本市场  All\n",
      "tendency type                                                 \n",
      "-1       建行北分     0      3      3    0    1    5   0    4   16\n",
      "0        建行北分     1      4      5  178    2  121  20   45  376\n",
      "All               1      7      8  178    3  126  20   49  392\n",
      "   已生成： result/cbirc_result/class/result/cbirc_class_predict_采集_types(4)_2018-12-02.xlsx\n",
      "\n",
      "-- day_select:  2018-12-03\n",
      "label 去重前： (680, 10)\n",
      "label 去重后： (679, 10)\n",
      "label 去空值后： (679, 10)\n",
      "content 去重前： (679, 2)\n",
      "content 去重后： (674, 2)\n",
      "content 去空值后： (674, 2)\n",
      "(674, 11)\n",
      "                len                                           \n",
      "              title                                           \n",
      "predict_label  产品销售 公司内部管理 其他相关报道   噪音 消费服务   监管  行业 资本市场  All\n",
      "tendency type                                                 \n",
      "-1       建行北分     1      2     15    0    4    5   0    7   34\n",
      "0        建行北分     2     23     21  302    4  159  46   83  640\n",
      "All               3     25     36  302    8  164  46   90  674\n",
      "   已生成： result/cbirc_result/class/result/cbirc_class_predict_采集_types(4)_2018-12-03.xlsx\n",
      "\n",
      "-- day_select:  2018-12-04\n",
      "label 去重前： (1283, 10)\n",
      "label 去重后： (1282, 10)\n",
      "label 去空值后： (1282, 10)\n",
      "content 去重前： (1282, 2)\n",
      "content 去重后： (1271, 2)\n",
      "content 去空值后： (1271, 2)\n",
      "(1271, 11)\n",
      "                len                                            \n",
      "              title                                            \n",
      "predict_label  产品销售 公司内部管理 其他相关报道   噪音 消费服务   监管  行业 资本市场   All\n",
      "tendency type                                                  \n",
      "-1       建行北分     1      7      3    0    5   13   3    8    40\n",
      "0        建行北分     2     34     20  677    2  192  56  248  1231\n",
      "All               3     41     23  677    7  205  59  256  1271\n",
      "   已生成： result/cbirc_result/class/result/cbirc_class_predict_采集_types(4)_2018-12-04.xlsx\n",
      "\n",
      "-- day_select:  2018-12-05\n",
      "label 去重前： (731, 10)\n",
      "label 去重后： (730, 10)\n",
      "label 去空值后： (730, 10)\n",
      "content 去重前： (730, 2)\n",
      "content 去重后： (705, 2)\n",
      "content 去空值后： (705, 2)\n",
      "(705, 11)\n",
      "                len                                           \n",
      "              title                                           \n",
      "predict_label  产品销售 公司内部管理 其他相关报道   噪音 消费服务   监管  行业 资本市场  All\n",
      "tendency type                                                 \n",
      "-1       建行北分     1      8      3    0    1    7   2    6   28\n",
      "0        建行北分     3     27     22  348    4  146  56   71  677\n",
      "All               4     35     25  348    5  153  58   77  705\n",
      "   已生成： result/cbirc_result/class/result/cbirc_class_predict_采集_types(4)_2018-12-05.xlsx\n",
      "\n",
      "-- day_select:  2018-12-06\n",
      "label 去重前： (671, 10)\n",
      "label 去重后： (670, 10)\n",
      "label 去空值后： (670, 10)\n",
      "content 去重前： (670, 2)\n",
      "content 去重后： (661, 2)\n",
      "content 去空值后： (661, 2)\n",
      "(661, 11)\n",
      "                len                                           \n",
      "              title                                           \n",
      "predict_label  产品销售 公司内部管理 其他相关报道   噪音 消费服务   监管  行业 资本市场  All\n",
      "tendency type                                                 \n",
      "-1       建行北分     0      5      4    0    5    8   2    2   26\n",
      "0        建行北分     1     26     11  300    4  162  48   83  635\n",
      "All               1     31     15  300    9  170  50   85  661\n",
      "   已生成： result/cbirc_result/class/result/cbirc_class_predict_采集_types(4)_2018-12-06.xlsx\n",
      "\n",
      "-- day_select:  2018-12-07\n",
      "label 去重前： (984, 10)\n",
      "label 去重后： (984, 10)\n",
      "label 去空值后： (984, 10)\n",
      "content 去重前： (984, 2)\n",
      "content 去重后： (978, 2)\n",
      "content 去空值后： (978, 2)\n",
      "(978, 11)\n",
      "                len                                           \n",
      "              title                                           \n",
      "predict_label  产品销售 公司内部管理 其他相关报道   噪音 消费服务   监管  行业 资本市场  All\n",
      "tendency type                                                 \n",
      "-1       建行北分     2     15      2    0    6   28   2   11   66\n",
      "0        建行北分     3     32     16  408    7  272  62  112  912\n",
      "All               5     47     18  408   13  300  64  123  978\n",
      "   已生成： result/cbirc_result/class/result/cbirc_class_predict_采集_types(4)_2018-12-07.xlsx\n",
      "\n",
      "-- day_select:  2018-12-08\n",
      "label 去重前： (884, 10)\n",
      "label 去重后： (884, 10)\n",
      "label 去空值后： (884, 10)\n",
      "content 去重前： (884, 2)\n",
      "content 去重后： (842, 2)\n",
      "content 去空值后： (842, 2)\n",
      "(842, 11)\n",
      "                len                                           \n",
      "              title                                           \n",
      "predict_label  产品销售 公司内部管理 其他相关报道   噪音 消费服务   监管  行业 资本市场  All\n",
      "tendency type                                                 \n",
      "-1       建行北分     1      9     13    0    8   12   2    3   48\n",
      "0        建行北分     5     13     71  367    4  179  91   64  794\n",
      "All               6     22     84  367   12  191  93   67  842\n",
      "   已生成： result/cbirc_result/class/result/cbirc_class_predict_采集_types(4)_2018-12-08.xlsx\n",
      "\n",
      "-- day_select:  2018-12-09\n",
      "label 去重前： (568, 10)\n",
      "label 去重后： (568, 10)\n",
      "label 去空值后： (568, 10)\n",
      "content 去重前： (568, 2)\n",
      "content 去重后： (556, 2)\n",
      "content 去空值后： (556, 2)\n",
      "(556, 11)\n",
      "                len                                           \n",
      "              title                                           \n",
      "predict_label  产品销售 公司内部管理 其他相关报道   噪音 消费服务   监管  行业 资本市场  All\n",
      "tendency type                                                 \n",
      "-1       建行北分     0      3      2    0    6    3   7    4   25\n",
      "0        建行北分     2     19     27  259    8  139  44   33  531\n",
      "All               2     22     29  259   14  142  51   37  556\n",
      "   已生成： result/cbirc_result/class/result/cbirc_class_predict_采集_types(4)_2018-12-09.xlsx\n",
      "\n",
      "-- day_select:  2018-12-10\n",
      "label 去重前： (786, 10)\n",
      "label 去重后： (785, 10)\n",
      "label 去空值后： (785, 10)\n",
      "content 去重前： (785, 2)\n",
      "content 去重后： (779, 2)\n",
      "content 去空值后： (779, 2)\n",
      "(779, 11)\n",
      "                len                                           \n",
      "              title                                           \n",
      "predict_label  产品销售 公司内部管理 其他相关报道   噪音 消费服务   监管  行业 资本市场  All\n",
      "tendency type                                                 \n",
      "-1       建行北分     4      2      7    0    6   11   6    7   43\n",
      "0        建行北分     4     24     29  349    3  183  80   64  736\n",
      "All               8     26     36  349    9  194  86   71  779\n",
      "   已生成： result/cbirc_result/class/result/cbirc_class_predict_采集_types(4)_2018-12-10.xlsx\n",
      "\n",
      "-- day_select:  2018-12-11\n",
      "label 去重前： (642, 10)\n",
      "label 去重后： (641, 10)\n",
      "label 去空值后： (641, 10)\n",
      "content 去重前： (641, 2)\n",
      "content 去重后： (633, 2)\n",
      "content 去空值后： (633, 2)\n",
      "(633, 11)\n",
      "                len                                           \n",
      "              title                                           \n",
      "predict_label  产品销售 公司内部管理 其他相关报道   噪音 消费服务   监管  行业 资本市场  All\n",
      "tendency type                                                 \n",
      "-1       建行北分     2      9      0    0    9   10   2    7   39\n",
      "0        建行北分     2     44     24  270    5  133  70   46  594\n",
      "All               4     53     24  270   14  143  72   53  633\n",
      "   已生成： result/cbirc_result/class/result/cbirc_class_predict_采集_types(4)_2018-12-11.xlsx\n",
      "\n",
      "-- day_select:  2018-12-12\n",
      "label 去重前： (593, 10)\n",
      "label 去重后： (592, 10)\n",
      "label 去空值后： (592, 10)\n",
      "content 去重前： (592, 2)\n",
      "content 去重后： (589, 2)\n",
      "content 去空值后： (589, 2)\n",
      "(589, 11)\n",
      "                len                                           \n",
      "              title                                           \n",
      "predict_label  产品销售 公司内部管理 其他相关报道   噪音 消费服务   监管  行业 资本市场  All\n",
      "tendency type                                                 \n",
      "-1       建行北分     3      7      3    0   11    8   0    2   34\n",
      "0        建行北分     4     40     21  262    5   92  79   52  555\n",
      "All               7     47     24  262   16  100  79   54  589\n",
      "   已生成： result/cbirc_result/class/result/cbirc_class_predict_采集_types(4)_2018-12-12.xlsx\n",
      "\n",
      "-- day_select:  2018-12-13\n",
      "label 去重前： (794, 10)\n",
      "label 去重后： (793, 10)\n",
      "label 去空值后： (793, 10)\n",
      "content 去重前： (793, 2)\n",
      "content 去重后： (773, 2)\n",
      "content 去空值后： (773, 2)\n",
      "(773, 11)\n",
      "                len                                           \n",
      "              title                                           \n",
      "predict_label  产品销售 公司内部管理 其他相关报道   噪音 消费服务   监管  行业 资本市场  All\n",
      "tendency type                                                 \n",
      "-1       建行北分     4     10      4    0    9    5   3   13   48\n",
      "0        建行北分     7     38     14  399    5  114  96   52  725\n",
      "All              11     48     18  399   14  119  99   65  773\n"
     ]
    },
    {
     "name": "stdout",
     "output_type": "stream",
     "text": [
      "   已生成： result/cbirc_result/class/result/cbirc_class_predict_采集_types(4)_2018-12-13.xlsx\n",
      "\n",
      "-- day_select:  2018-12-14\n",
      "label 去重前： (1494, 10)\n",
      "label 去重后： (1493, 10)\n",
      "label 去空值后： (1493, 10)\n",
      "content 去重前： (1493, 2)\n",
      "content 去重后： (1481, 2)\n",
      "content 去空值后： (1481, 2)\n",
      "(1481, 11)\n",
      "                len                                             \n",
      "              title                                             \n",
      "predict_label  产品销售 公司内部管理 其他相关报道   噪音 消费服务   监管   行业 资本市场   All\n",
      "tendency type                                                   \n",
      "-1       建行北分     6      6      2    0    3   10    3   14    44\n",
      "0        建行北分     7     41     17  689    7  173  204  299  1437\n",
      "All              13     47     19  689   10  183  207  313  1481\n",
      "   已生成： result/cbirc_result/class/result/cbirc_class_predict_采集_types(4)_2018-12-14.xlsx\n",
      "\n",
      "-- day_select:  2018-12-15\n",
      "label 去重前： (846, 10)\n",
      "label 去重后： (845, 10)\n",
      "label 去空值后： (845, 10)\n",
      "content 去重前： (845, 2)\n",
      "content 去重后： (789, 2)\n",
      "content 去空值后： (789, 2)\n",
      "(789, 11)\n",
      "                len                                            \n",
      "              title                                            \n",
      "predict_label  产品销售 公司内部管理 其他相关报道   噪音 消费服务   监管   行业 资本市场  All\n",
      "tendency type                                                  \n",
      "-1       建行北分     1      7      1    0    2    6    1   11   29\n",
      "0        建行北分     5     21     15  400    5  114  100  100  760\n",
      "All               6     28     16  400    7  120  101  111  789\n",
      "   已生成： result/cbirc_result/class/result/cbirc_class_predict_采集_types(4)_2018-12-15.xlsx\n",
      "\n",
      "-- day_select:  2018-12-16\n",
      "label 去重前： (610, 10)\n",
      "label 去重后： (610, 10)\n",
      "label 去空值后： (610, 10)\n",
      "content 去重前： (610, 2)\n",
      "content 去重后： (605, 2)\n",
      "content 去空值后： (605, 2)\n",
      "(605, 11)\n",
      "                len                                          \n",
      "              title                                          \n",
      "predict_label  产品销售 公司内部管理 其他相关报道   噪音 消费服务  监管  行业 资本市场  All\n",
      "tendency type                                                \n",
      "-1       建行北分     0      5      0    0    2   4   1    2   14\n",
      "0        建行北分     2     18      7  327    3  69  81   84  591\n",
      "All               2     23      7  327    5  73  82   86  605\n",
      "   已生成： result/cbirc_result/class/result/cbirc_class_predict_采集_types(4)_2018-12-16.xlsx\n",
      "\n",
      "-- day_select:  2018-12-17\n",
      "label 去重前： (1593, 10)\n",
      "label 去重后： (1592, 10)\n",
      "label 去空值后： (1592, 10)\n",
      "content 去重前： (1592, 2)\n",
      "content 去重后： (1570, 2)\n",
      "content 去空值后： (1570, 2)\n",
      "(1570, 11)\n",
      "                len                                             \n",
      "              title                                             \n",
      "predict_label  产品销售 公司内部管理 其他相关报道   噪音 消费服务   监管   行业 资本市场   All\n",
      "tendency type                                                   \n",
      "-1       建行北分     1      7      4    0    2   18    1    4    37\n",
      "0        建行北分     4     35     39  793   10  285  117  250  1533\n",
      "All               5     42     43  793   12  303  118  254  1570\n",
      "   已生成： result/cbirc_result/class/result/cbirc_class_predict_采集_types(4)_2018-12-17.xlsx\n",
      "\n",
      "-- day_select:  2018-12-18\n",
      "label 去重前： (1291, 10)\n",
      "label 去重后： (1291, 10)\n",
      "label 去空值后： (1291, 10)\n",
      "content 去重前： (1291, 2)\n",
      "content 去重后： (1274, 2)\n",
      "content 去空值后： (1274, 2)\n",
      "(1274, 11)\n",
      "                len                                            \n",
      "              title                                            \n",
      "predict_label  产品销售 公司内部管理 其他相关报道   噪音 消费服务   监管  行业 资本市场   All\n",
      "tendency type                                                  \n",
      "-1       建行北分     1      3      1    0    5   11   1    8    30\n",
      "0        建行北分     8     31     28  691   19  233  97  137  1244\n",
      "All               9     34     29  691   24  244  98  145  1274\n",
      "   已生成： result/cbirc_result/class/result/cbirc_class_predict_采集_types(4)_2018-12-18.xlsx\n",
      "\n",
      "-- day_select:  2018-12-19\n",
      "label 去重前： (2754, 10)\n",
      "label 去重后： (2753, 10)\n",
      "label 去空值后： (2753, 10)\n",
      "content 去重前： (2753, 2)\n",
      "content 去重后： (2708, 2)\n",
      "content 去空值后： (2708, 2)\n",
      "(2708, 11)\n",
      "                len                                              \n",
      "              title                                              \n",
      "predict_label  产品销售 公司内部管理 其他相关报道    噪音 消费服务   监管   行业 资本市场   All\n",
      "tendency type                                                    \n",
      "-1       建行北分     3      5      2     0    4    7    6    5    32\n",
      "0        建行北分    74     85    125  1765   65  171  168  223  2676\n",
      "All              77     90    127  1765   69  178  174  228  2708\n",
      "   已生成： result/cbirc_result/class/result/cbirc_class_predict_采集_types(4)_2018-12-19.xlsx\n",
      "\n",
      "-- day_select:  2018-12-20\n",
      "label 去重前： (4762, 10)\n",
      "label 去重后： (4761, 10)\n",
      "label 去空值后： (4761, 10)\n",
      "content 去重前： (4761, 2)\n",
      "content 去重后： (4685, 2)\n",
      "content 去空值后： (4685, 2)\n",
      "(4685, 11)\n",
      "                len                                              \n",
      "              title                                              \n",
      "predict_label  产品销售 公司内部管理 其他相关报道    噪音 消费服务   监管   行业 资本市场   All\n",
      "tendency type                                                    \n",
      "-1       建行北分    10      5      5     0    7    7    2    9    45\n",
      "0        建行北分   170    140    190  2881  104  473  276  406  4640\n",
      "All             180    145    195  2881  111  480  278  415  4685\n",
      "   已生成： result/cbirc_result/class/result/cbirc_class_predict_采集_types(4)_2018-12-20.xlsx\n",
      "\n",
      "-- day_select:  2018-12-21\n",
      "label 去重前： (4715, 10)\n",
      "label 去重后： (4715, 10)\n",
      "label 去空值后： (4715, 10)\n",
      "content 去重前： (4715, 2)\n",
      "content 去重后： (4632, 2)\n",
      "content 去空值后： (4632, 2)\n",
      "(4632, 11)\n",
      "                len                                              \n",
      "              title                                              \n",
      "predict_label  产品销售 公司内部管理 其他相关报道    噪音 消费服务   监管   行业 资本市场   All\n",
      "tendency type                                                    \n",
      "-1       建行北分     7      6      8     0    9    5    2   10    47\n",
      "0        建行北分   184    188    234  2806  116  496  189  372  4585\n",
      "All             191    194    242  2806  125  501  191  382  4632\n",
      "   已生成： result/cbirc_result/class/result/cbirc_class_predict_采集_types(4)_2018-12-21.xlsx\n",
      "\n",
      "-- day_select:  2018-12-22\n",
      "label 去重前： (2220, 10)\n",
      "label 去重后： (2219, 10)\n",
      "label 去空值后： (2219, 10)\n",
      "content 去重前： (2219, 2)\n",
      "content 去重后： (2178, 2)\n",
      "content 去空值后： (2178, 2)\n",
      "(2178, 11)\n",
      "                len                                             \n",
      "              title                                             \n",
      "predict_label  产品销售 公司内部管理 其他相关报道    噪音 消费服务   监管  行业 资本市场   All\n",
      "tendency type                                                   \n",
      "-1       建行北分     5      2      5     0    0    0   3    1    16\n",
      "0        建行北分    91     66     62  1516   58  171  92  106  2162\n",
      "All              96     68     67  1516   58  171  95  107  2178\n",
      "   已生成： result/cbirc_result/class/result/cbirc_class_predict_采集_types(4)_2018-12-22.xlsx\n",
      "\n",
      "-- day_select:  2018-12-23\n",
      "label 去重前： (1640, 10)\n",
      "label 去重后： (1639, 10)\n",
      "label 去空值后： (1639, 10)\n",
      "content 去重前： (1639, 2)\n",
      "content 去重后： (1541, 2)\n",
      "content 去空值后： (1541, 2)\n",
      "(1541, 11)\n",
      "                len                                              \n",
      "              title                                              \n",
      "predict_label  产品销售 公司内部管理 其他相关报道    噪音 消费服务   监管   行业 资本市场   All\n",
      "tendency type                                                    \n",
      "-1       建行北分     3      2      1     0    4    2    1    0    13\n",
      "0        建行北分    45     38     36  1065   39  101  100  104  1528\n",
      "All              48     40     37  1065   43  103  101  104  1541\n",
      "   已生成： result/cbirc_result/class/result/cbirc_class_predict_采集_types(4)_2018-12-23.xlsx\n",
      "\n",
      "-- day_select:  2018-12-24\n",
      "label 去重前： (3150, 10)\n",
      "label 去重后： (3150, 10)\n",
      "label 去空值后： (3150, 10)\n",
      "content 去重前： (3150, 2)\n",
      "content 去重后： (3003, 2)\n",
      "content 去空值后： (3003, 2)\n",
      "(3003, 11)\n",
      "                len                                              \n",
      "              title                                              \n",
      "predict_label  产品销售 公司内部管理 其他相关报道    噪音 消费服务   监管   行业 资本市场   All\n",
      "tendency type                                                    \n",
      "-1       建行北分     5     11      7     0   14    5    1    6    49\n",
      "0        建行北分    78     91    114  2114   54  168  127  208  2954\n",
      "All              83    102    121  2114   68  173  128  214  3003\n",
      "   已生成： result/cbirc_result/class/result/cbirc_class_predict_采集_types(4)_2018-12-24.xlsx\n",
      "\n",
      "-- day_select:  2018-12-25\n",
      "label 去重前： (2899, 10)\n",
      "label 去重后： (2899, 10)\n",
      "label 去空值后： (2899, 10)\n",
      "content 去重前： (2899, 2)\n",
      "content 去重后： (2859, 2)\n",
      "content 去空值后： (2859, 2)\n",
      "(2859, 11)\n",
      "                len                                              \n",
      "              title                                              \n",
      "predict_label  产品销售 公司内部管理 其他相关报道    噪音 消费服务   监管   行业 资本市场   All\n",
      "tendency type                                                    \n",
      "-1       建行北分    12      7      5     0    6    8    2   11    51\n",
      "0        建行北分    75    147    110  1926   75  179  155  141  2808\n",
      "All              87    154    115  1926   81  187  157  152  2859\n"
     ]
    },
    {
     "name": "stdout",
     "output_type": "stream",
     "text": [
      "   已生成： result/cbirc_result/class/result/cbirc_class_predict_采集_types(4)_2018-12-25.xlsx\n",
      "\n",
      "-- day_select:  2018-12-26\n",
      "label 去重前： (3003, 10)\n",
      "label 去重后： (3003, 10)\n",
      "label 去空值后： (3003, 10)\n",
      "content 去重前： (3003, 2)\n",
      "content 去重后： (2946, 2)\n",
      "content 去空值后： (2946, 2)\n",
      "(2946, 11)\n",
      "                len                                              \n",
      "              title                                              \n",
      "predict_label  产品销售 公司内部管理 其他相关报道    噪音 消费服务   监管   行业 资本市场   All\n",
      "tendency type                                                    \n",
      "-1       建行北分     1     10      2     0    5    9    1    3    31\n",
      "0        建行北分   108    143    172  1784  143  223  125  217  2915\n",
      "All             109    153    174  1784  148  232  126  220  2946\n",
      "   已生成： result/cbirc_result/class/result/cbirc_class_predict_采集_types(4)_2018-12-26.xlsx\n",
      "\n",
      "-- day_select:  2018-12-27\n",
      "label 去重前： (3684, 10)\n",
      "label 去重后： (3683, 10)\n",
      "label 去空值后： (3683, 10)\n",
      "content 去重前： (3683, 2)\n",
      "content 去重后： (3430, 2)\n",
      "content 去空值后： (3430, 2)\n",
      "(3430, 11)\n",
      "                len                                              \n",
      "              title                                              \n",
      "predict_label  产品销售 公司内部管理 其他相关报道    噪音 消费服务   监管   行业 资本市场   All\n",
      "tendency type                                                    \n",
      "-1       建行北分     0      8      1     0    3    6    1   14    33\n",
      "0        建行北分   118    131    144  1857  189  351  205  402  3397\n",
      "All             118    139    145  1857  192  357  206  416  3430\n",
      "   已生成： result/cbirc_result/class/result/cbirc_class_predict_采集_types(4)_2018-12-27.xlsx\n",
      "\n",
      "-- day_select:  2018-12-28\n",
      "label 去重前： (3679, 10)\n",
      "label 去重后： (3679, 10)\n",
      "label 去空值后： (3679, 10)\n",
      "content 去重前： (3679, 2)\n",
      "content 去重后： (3314, 2)\n",
      "content 去空值后： (3314, 2)\n",
      "(3314, 11)\n",
      "                len                                              \n",
      "              title                                              \n",
      "predict_label  产品销售 公司内部管理 其他相关报道    噪音 消费服务   监管   行业 资本市场   All\n",
      "tendency type                                                    \n",
      "-1       建行北分     0      4      1     0    7    2    4    6    24\n",
      "0        建行北分    99    135    120  1845  151  379  212  349  3290\n",
      "All              99    139    121  1845  158  381  216  355  3314\n",
      "   已生成： result/cbirc_result/class/result/cbirc_class_predict_采集_types(4)_2018-12-28.xlsx\n",
      "\n",
      "-- day_select:  2018-12-29\n",
      "label 去重前： (3205, 10)\n",
      "label 去重后： (3204, 10)\n",
      "label 去空值后： (3204, 10)\n",
      "content 去重前： (3204, 2)\n",
      "content 去重后： (3105, 2)\n",
      "content 去空值后： (3105, 2)\n",
      "(3105, 11)\n",
      "                len                                              \n",
      "              title                                              \n",
      "predict_label  产品销售 公司内部管理 其他相关报道    噪音 消费服务   监管   行业 资本市场   All\n",
      "tendency type                                                    \n",
      "-1       建行北分     2     14      2     0    6    4    2    4    34\n",
      "0        建行北分   125    144    134  1810  147  222  180  309  3071\n",
      "All             127    158    136  1810  153  226  182  313  3105\n",
      "   已生成： result/cbirc_result/class/result/cbirc_class_predict_采集_types(4)_2018-12-29.xlsx\n",
      "\n",
      "-- day_select:  2018-12-30\n",
      "label 去重前： (1387, 10)\n",
      "label 去重后： (1387, 10)\n",
      "label 去空值后： (1387, 10)\n",
      "content 去重前： (1387, 2)\n",
      "content 去重后： (1306, 2)\n",
      "content 去空值后： (1306, 2)\n",
      "(1306, 11)\n",
      "                len                                            \n",
      "              title                                            \n",
      "predict_label  产品销售 公司内部管理 其他相关报道   噪音 消费服务   监管  行业 资本市场   All\n",
      "tendency type                                                  \n",
      "-1       建行北分     0      2      0    0    1    4   2    5    14\n",
      "0        建行北分    56     47     72  811   83   97  70   56  1292\n",
      "All              56     49     72  811   84  101  72   61  1306\n",
      "   已生成： result/cbirc_result/class/result/cbirc_class_predict_采集_types(4)_2018-12-30.xlsx\n",
      "\n",
      "-- day_select:  2018-12-31\n",
      "label 去重前： (497, 10)\n",
      "label 去重后： (497, 10)\n",
      "label 去空值后： (497, 10)\n",
      "content 去重前： (497, 2)\n",
      "content 去重后： (333, 2)\n",
      "content 去空值后： (333, 2)\n",
      "(333, 11)\n",
      "                len                                           \n",
      "              title                                           \n",
      "predict_label  产品销售 公司内部管理 其他相关报道   噪音 消费服务   监管  行业 资本市场  All\n",
      "tendency type                                                 \n",
      "-1       建行北分     2      0      0    0    8    1   2    2   15\n",
      "0        建行北分     5      9      3  135    4  104  37   21  318\n",
      "All               7      9      3  135   12  105  39   23  333\n",
      "   已生成： result/cbirc_result/class/result/cbirc_class_predict_采集_types(4)_2018-12-31.xlsx\n",
      "\n",
      "-- day_select:  2019-01-01\n",
      "label 去重前： (288, 10)\n",
      "label 去重后： (288, 10)\n",
      "label 去空值后： (288, 10)\n",
      "content 去重前： (288, 2)\n",
      "content 去重后： (287, 2)\n",
      "content 去空值后： (287, 2)\n",
      "(287, 11)\n",
      "                len                                          \n",
      "              title                                          \n",
      "predict_label  产品销售 公司内部管理 其他相关报道   噪音 消费服务  监管  行业 资本市场  All\n",
      "tendency type                                                \n",
      "-1       建行北分     0      2      1    0    1   2   1    2    9\n",
      "0        建行北分     1     13      5  123    3  67  37   29  278\n",
      "All               1     15      6  123    4  69  38   31  287\n",
      "   已生成： result/cbirc_result/class/result/cbirc_class_predict_采集_types(4)_2019-01-01.xlsx\n"
     ]
    }
   ],
   "source": [
    "types = 4\n",
    "gather_types = '采集'\n",
    "proj_name = proj_name_dict[types]\n",
    "print(\"获取 %s 数据...\"%(proj_name))\n",
    "if proj_name == proj_name_dict[6]: \n",
    "    sel_type = 1\n",
    "else :\n",
    "    sel_type = types\n",
    "for day_select in day_list:\n",
    "    print()\n",
    "    print('-- day_select: ', day_select)\n",
    "\n",
    "    # 获取八分类\n",
    "    if types in [1,2, 6]:\n",
    "        sql_label = '''\n",
    "        SELECT \n",
    "            t1.id, t1.type, t1.urlhash, t3.title, t3.group_id, t3.publishtime,\n",
    "            t1.traffic_id, t2.sen as tendency, t2.gather_type\n",
    "        FROM\n",
    "            db_classify_traffic_docinfo t1\n",
    "                LEFT JOIN\n",
    "            db_docinfo_trade t2 ON t1.urlhash = t2.urlhash\n",
    "                LEFT JOIN\n",
    "            db_docinfo t3 ON t2.urlhash = t3.urlhash\n",
    "        WHERE\n",
    "            t3.publishtime >= '{0} 07:00:00'\n",
    "                AND t3.publishtime <= '{0} 16:00:00'\n",
    "                and t1.type = {1}\n",
    "                and t1.type = t2.type\n",
    "                and t2.gather_type = 0\n",
    "        group by t3.titlehash\n",
    "        '''.format(day_select, sel_type)\n",
    "    elif types in [3,4,5]:\n",
    "        sql_label = '''\n",
    "        SELECT \n",
    "            t1.id, t1.type, t1.urlhash, t3.title, t3.group_id, t3.publishtime,\n",
    "            t1.traffic_id, t2.sen as tendency, t2.gather_type\n",
    "        FROM\n",
    "            db_classify_traffic_docinfo t1\n",
    "                LEFT JOIN\n",
    "            db_docinfo_trade t2 ON t1.urlhash = t2.urlhash\n",
    "                LEFT JOIN\n",
    "            db_docinfo t3 ON t2.urlhash = t3.urlhash\n",
    "        WHERE\n",
    "            t3.publishtime >= '{0} 00:00:00'\n",
    "                AND t3.publishtime <= '{0} 23:59:59'\n",
    "                and t1.type = {1}\n",
    "                and t1.type = t2.type\n",
    "                and t2.gather_type = 0\n",
    "        group by t3.titlehash\n",
    "        '''.format(day_select, sel_type)        \n",
    "\n",
    "    cbirc_label = pd.read_sql(sql_label, engine)\n",
    "    cbirc_label['predict_label'] = cbirc_label['traffic_id'].apply(lambda x:class_name_dict[x])\n",
    "    cbirc_label['group_id'] = cbirc_label['group_id'].apply(lambda x:group_dict[str(x)])\n",
    "    cbirc_label['type'] = cbirc_label['type'].apply(lambda x:proj_name_dict[x])\n",
    "    \n",
    "    if proj_name == proj_name_dict[6]: cbirc_label['type'] = proj_name_dict[6]\n",
    "    \n",
    "    cbirc_label['gather_type'] = cbirc_label['gather_type'].apply(lambda x:gather_type_name_dict[x])\n",
    "    print('label 去重前：', cbirc_label.shape)\n",
    "    cbirc_label = cbirc_label.drop_duplicates(subset = 'title')\n",
    "    print('label 去重后：', cbirc_label.shape)  \n",
    "    cbirc_label = cbirc_label.dropna(subset = ['title'], axis = 0)\n",
    "    print('label 去空值后：', cbirc_label.shape)  \n",
    "    \n",
    "    if cbirc_label['urlhash'].shape[0] != 0:\n",
    "        # 获取 content\n",
    "        url_l = cbirc_label['urlhash'].tolist()\n",
    "        if cbirc_label['urlhash'].shape[0] == 1:\n",
    "            url_l.append(url_l[0])\n",
    "        url_list = tuple(url_l)\n",
    "        sql_content = '''\n",
    "        SELECT \n",
    "            t1.urlhash, t1.text as content\n",
    "        FROM\n",
    "            db_docinfo_text t1\n",
    "        WHERE\n",
    "            t1.urlhash in {0}\n",
    "        '''.format(url_list)\n",
    "\n",
    "        cbirc_content = pd.read_sql(sql_content, engine)\n",
    "        print('content 去重前：', cbirc_content.shape)\n",
    "        cbirc_content = cbirc_content.drop_duplicates(subset = 'content')\n",
    "        print('content 去重后：', cbirc_content.shape)  \n",
    "        cbirc_content = cbirc_content.dropna(subset = ['content'], axis = 0)\n",
    "        print('content 去空值后：', cbirc_content.shape)  \n",
    "\n",
    "        cbirc_combined = pd.merge(cbirc_label, cbirc_content, on = 'urlhash', how = 'inner')\n",
    "        print(cbirc_combined.shape)\n",
    "        print(cbirc_combined.pivot_table(index = ['tendency', 'type'], columns = ['predict_label'], \n",
    "                                    aggfunc = [len], values = ['title'], \n",
    "                                    fill_value = 0, margins = True))    \n",
    "        cbirc_combined['label'] = ''\n",
    "        cbirc_combined = cbirc_combined[['id', 'gather_type', 'type', 'urlhash', 'predict_label', 'label', 'title', \n",
    "                                         'content', 'group_id', 'publishtime', 'tendency']]\n",
    "    #     fea_filename = 'cbirc_result/class/result/cbirc_class_predict_mysql_%s.xlsx'%day_select\n",
    "        fea_filename = 'result/cbirc_result/class/result/cbirc_class_predict_%s_types(%s)_%s.xlsx'%(gather_types, types, day_select)\n",
    "        cbirc_combined.to_excel(fea_filename, index = False) \n",
    "        print('   已生成：', fea_filename)\n",
    "    "
   ]
  },
  {
   "cell_type": "code",
   "execution_count": 42,
   "metadata": {
    "ExecuteTime": {
     "end_time": "2018-12-18T08:44:49.029719Z",
     "start_time": "2018-12-18T08:44:48.990717Z"
    }
   },
   "outputs": [
    {
     "data": {
      "text/html": [
       "<div>\n",
       "<style scoped>\n",
       "    .dataframe tbody tr th:only-of-type {\n",
       "        vertical-align: middle;\n",
       "    }\n",
       "\n",
       "    .dataframe tbody tr th {\n",
       "        vertical-align: top;\n",
       "    }\n",
       "\n",
       "    .dataframe thead th {\n",
       "        text-align: right;\n",
       "    }\n",
       "</style>\n",
       "<table border=\"1\" class=\"dataframe\">\n",
       "  <thead>\n",
       "    <tr style=\"text-align: right;\">\n",
       "      <th></th>\n",
       "      <th>id</th>\n",
       "      <th>gather_type</th>\n",
       "      <th>type</th>\n",
       "      <th>urlhash</th>\n",
       "      <th>predict_label</th>\n",
       "      <th>label</th>\n",
       "      <th>title</th>\n",
       "      <th>content</th>\n",
       "      <th>group_id</th>\n",
       "      <th>publishtime</th>\n",
       "      <th>tendency</th>\n",
       "    </tr>\n",
       "  </thead>\n",
       "  <tbody>\n",
       "  </tbody>\n",
       "</table>\n",
       "</div>"
      ],
      "text/plain": [
       "Empty DataFrame\n",
       "Columns: [id, gather_type, type, urlhash, predict_label, label, title, content, group_id, publishtime, tendency]\n",
       "Index: []"
      ]
     },
     "execution_count": 42,
     "metadata": {},
     "output_type": "execute_result"
    }
   ],
   "source": [
    "# combined_data[combined_data['predict_label'] == '交通'].to_excel('建行北分—交通.xlsx')\n",
    "# cbirc_combined[cbirc_combined['predict_label'] == '交通']"
   ]
  },
  {
   "cell_type": "markdown",
   "metadata": {},
   "source": [
    "#### 补录\n",
    "- gather_type 1-人工补录\n",
    "- gather_type 3-导入数据"
   ]
  },
  {
   "cell_type": "code",
   "execution_count": 39,
   "metadata": {
    "ExecuteTime": {
     "end_time": "2018-12-03T06:01:58.047403Z",
     "start_time": "2018-12-03T06:01:49.252900Z"
    }
   },
   "outputs": [
    {
     "name": "stdout",
     "output_type": "stream",
     "text": [
      "获取 中国人保 数据...\n",
      "-- day_select:  2018-09-02\n",
      "label 去重前： (0, 9)\n",
      "label 去重后： (0, 9)\n",
      "label 去空值后： (0, 9)\n",
      "-- day_select:  2018-09-03\n",
      "label 去重前： (0, 9)\n",
      "label 去重后： (0, 9)\n",
      "label 去空值后： (0, 9)\n",
      "-- day_select:  2018-09-04\n",
      "label 去重前： (0, 9)\n",
      "label 去重后： (0, 9)\n",
      "label 去空值后： (0, 9)\n",
      "-- day_select:  2018-09-05\n",
      "label 去重前： (0, 9)\n",
      "label 去重后： (0, 9)\n",
      "label 去空值后： (0, 9)\n",
      "-- day_select:  2018-09-06\n",
      "label 去重前： (0, 9)\n",
      "label 去重后： (0, 9)\n",
      "label 去空值后： (0, 9)\n",
      "-- day_select:  2018-09-07\n",
      "label 去重前： (0, 9)\n",
      "label 去重后： (0, 9)\n",
      "label 去空值后： (0, 9)\n",
      "-- day_select:  2018-09-08\n",
      "label 去重前： (0, 9)\n",
      "label 去重后： (0, 9)\n",
      "label 去空值后： (0, 9)\n",
      "-- day_select:  2018-09-09\n",
      "label 去重前： (0, 9)\n",
      "label 去重后： (0, 9)\n",
      "label 去空值后： (0, 9)\n",
      "-- day_select:  2018-09-10\n",
      "label 去重前： (0, 9)\n",
      "label 去重后： (0, 9)\n",
      "label 去空值后： (0, 9)\n",
      "-- day_select:  2018-09-11\n",
      "label 去重前： (0, 9)\n",
      "label 去重后： (0, 9)\n",
      "label 去空值后： (0, 9)\n",
      "-- day_select:  2018-09-12\n",
      "label 去重前： (0, 9)\n",
      "label 去重后： (0, 9)\n",
      "label 去空值后： (0, 9)\n",
      "-- day_select:  2018-09-13\n",
      "label 去重前： (0, 9)\n",
      "label 去重后： (0, 9)\n",
      "label 去空值后： (0, 9)\n",
      "-- day_select:  2018-09-14\n",
      "label 去重前： (0, 9)\n",
      "label 去重后： (0, 9)\n",
      "label 去空值后： (0, 9)\n",
      "-- day_select:  2018-09-15\n",
      "label 去重前： (0, 9)\n",
      "label 去重后： (0, 9)\n",
      "label 去空值后： (0, 9)\n",
      "-- day_select:  2018-09-16\n",
      "label 去重前： (0, 9)\n",
      "label 去重后： (0, 9)\n",
      "label 去空值后： (0, 9)\n",
      "-- day_select:  2018-09-17\n",
      "label 去重前： (0, 9)\n",
      "label 去重后： (0, 9)\n",
      "label 去空值后： (0, 9)\n",
      "-- day_select:  2018-09-18\n",
      "label 去重前： (0, 9)\n",
      "label 去重后： (0, 9)\n",
      "label 去空值后： (0, 9)\n",
      "-- day_select:  2018-09-19\n",
      "label 去重前： (0, 9)\n",
      "label 去重后： (0, 9)\n",
      "label 去空值后： (0, 9)\n",
      "-- day_select:  2018-09-20\n",
      "label 去重前： (0, 9)\n",
      "label 去重后： (0, 9)\n",
      "label 去空值后： (0, 9)\n",
      "-- day_select:  2018-09-21\n",
      "label 去重前： (0, 9)\n",
      "label 去重后： (0, 9)\n",
      "label 去空值后： (0, 9)\n",
      "-- day_select:  2018-09-22\n",
      "label 去重前： (0, 9)\n",
      "label 去重后： (0, 9)\n",
      "label 去空值后： (0, 9)\n",
      "-- day_select:  2018-09-23\n",
      "label 去重前： (0, 9)\n",
      "label 去重后： (0, 9)\n",
      "label 去空值后： (0, 9)\n",
      "-- day_select:  2018-09-24\n",
      "label 去重前： (0, 9)\n",
      "label 去重后： (0, 9)\n",
      "label 去空值后： (0, 9)\n",
      "-- day_select:  2018-09-25\n",
      "label 去重前： (0, 9)\n",
      "label 去重后： (0, 9)\n",
      "label 去空值后： (0, 9)\n",
      "-- day_select:  2018-09-26\n",
      "label 去重前： (0, 9)\n",
      "label 去重后： (0, 9)\n",
      "label 去空值后： (0, 9)\n",
      "-- day_select:  2018-09-27\n",
      "label 去重前： (0, 9)\n",
      "label 去重后： (0, 9)\n",
      "label 去空值后： (0, 9)\n",
      "-- day_select:  2018-09-28\n",
      "label 去重前： (0, 9)\n",
      "label 去重后： (0, 9)\n",
      "label 去空值后： (0, 9)\n",
      "-- day_select:  2018-09-29\n",
      "label 去重前： (0, 9)\n",
      "label 去重后： (0, 9)\n",
      "label 去空值后： (0, 9)\n",
      "-- day_select:  2018-09-30\n",
      "label 去重前： (0, 9)\n",
      "label 去重后： (0, 9)\n",
      "label 去空值后： (0, 9)\n",
      "-- day_select:  2018-10-01\n",
      "label 去重前： (0, 9)\n",
      "label 去重后： (0, 9)\n",
      "label 去空值后： (0, 9)\n",
      "-- day_select:  2018-10-02\n",
      "label 去重前： (0, 9)\n",
      "label 去重后： (0, 9)\n",
      "label 去空值后： (0, 9)\n",
      "-- day_select:  2018-10-03\n",
      "label 去重前： (0, 9)\n",
      "label 去重后： (0, 9)\n",
      "label 去空值后： (0, 9)\n",
      "-- day_select:  2018-10-04\n",
      "label 去重前： (0, 9)\n",
      "label 去重后： (0, 9)\n",
      "label 去空值后： (0, 9)\n",
      "-- day_select:  2018-10-05\n",
      "label 去重前： (0, 9)\n",
      "label 去重后： (0, 9)\n",
      "label 去空值后： (0, 9)\n",
      "-- day_select:  2018-10-06\n",
      "label 去重前： (0, 9)\n",
      "label 去重后： (0, 9)\n",
      "label 去空值后： (0, 9)\n",
      "-- day_select:  2018-10-07\n",
      "label 去重前： (0, 9)\n",
      "label 去重后： (0, 9)\n",
      "label 去空值后： (0, 9)\n",
      "-- day_select:  2018-10-08\n",
      "label 去重前： (0, 9)\n",
      "label 去重后： (0, 9)\n",
      "label 去空值后： (0, 9)\n",
      "-- day_select:  2018-10-09\n",
      "label 去重前： (0, 9)\n",
      "label 去重后： (0, 9)\n",
      "label 去空值后： (0, 9)\n",
      "-- day_select:  2018-10-10\n",
      "label 去重前： (0, 9)\n",
      "label 去重后： (0, 9)\n",
      "label 去空值后： (0, 9)\n",
      "-- day_select:  2018-10-11\n",
      "label 去重前： (0, 9)\n",
      "label 去重后： (0, 9)\n",
      "label 去空值后： (0, 9)\n",
      "-- day_select:  2018-10-12\n",
      "label 去重前： (0, 9)\n",
      "label 去重后： (0, 9)\n",
      "label 去空值后： (0, 9)\n",
      "-- day_select:  2018-10-13\n",
      "label 去重前： (0, 9)\n",
      "label 去重后： (0, 9)\n",
      "label 去空值后： (0, 9)\n",
      "-- day_select:  2018-10-14\n",
      "label 去重前： (0, 9)\n",
      "label 去重后： (0, 9)\n",
      "label 去空值后： (0, 9)\n",
      "-- day_select:  2018-10-15\n",
      "label 去重前： (0, 9)\n",
      "label 去重后： (0, 9)\n",
      "label 去空值后： (0, 9)\n",
      "-- day_select:  2018-10-16\n",
      "label 去重前： (0, 9)\n",
      "label 去重后： (0, 9)\n",
      "label 去空值后： (0, 9)\n",
      "-- day_select:  2018-10-17\n",
      "label 去重前： (0, 9)\n",
      "label 去重后： (0, 9)\n",
      "label 去空值后： (0, 9)\n",
      "-- day_select:  2018-10-18\n",
      "label 去重前： (0, 9)\n",
      "label 去重后： (0, 9)\n",
      "label 去空值后： (0, 9)\n",
      "-- day_select:  2018-10-19\n",
      "label 去重前： (0, 9)\n",
      "label 去重后： (0, 9)\n",
      "label 去空值后： (0, 9)\n",
      "-- day_select:  2018-10-20\n",
      "label 去重前： (0, 9)\n",
      "label 去重后： (0, 9)\n",
      "label 去空值后： (0, 9)\n",
      "-- day_select:  2018-10-21\n",
      "label 去重前： (0, 9)\n",
      "label 去重后： (0, 9)\n",
      "label 去空值后： (0, 9)\n",
      "-- day_select:  2018-10-22\n",
      "label 去重前： (0, 9)\n",
      "label 去重后： (0, 9)\n",
      "label 去空值后： (0, 9)\n",
      "-- day_select:  2018-10-23\n",
      "label 去重前： (0, 9)\n",
      "label 去重后： (0, 9)\n",
      "label 去空值后： (0, 9)\n",
      "-- day_select:  2018-10-24\n",
      "label 去重前： (0, 9)\n",
      "label 去重后： (0, 9)\n",
      "label 去空值后： (0, 9)\n",
      "-- day_select:  2018-10-25\n",
      "label 去重前： (0, 9)\n",
      "label 去重后： (0, 9)\n",
      "label 去空值后： (0, 9)\n",
      "-- day_select:  2018-10-26\n",
      "label 去重前： (0, 9)\n",
      "label 去重后： (0, 9)\n",
      "label 去空值后： (0, 9)\n",
      "-- day_select:  2018-10-27\n",
      "label 去重前： (0, 9)\n",
      "label 去重后： (0, 9)\n",
      "label 去空值后： (0, 9)\n",
      "-- day_select:  2018-10-28\n",
      "label 去重前： (0, 9)\n",
      "label 去重后： (0, 9)\n",
      "label 去空值后： (0, 9)\n",
      "-- day_select:  2018-10-29\n",
      "label 去重前： (0, 9)\n",
      "label 去重后： (0, 9)\n",
      "label 去空值后： (0, 9)\n",
      "-- day_select:  2018-10-30\n",
      "label 去重前： (0, 9)\n",
      "label 去重后： (0, 9)\n",
      "label 去空值后： (0, 9)\n",
      "-- day_select:  2018-10-31\n",
      "label 去重前： (0, 9)\n",
      "label 去重后： (0, 9)\n",
      "label 去空值后： (0, 9)\n",
      "-- day_select:  2018-11-01\n",
      "label 去重前： (0, 9)\n",
      "label 去重后： (0, 9)\n",
      "label 去空值后： (0, 9)\n",
      "-- day_select:  2018-11-02\n",
      "label 去重前： (0, 9)\n",
      "label 去重后： (0, 9)\n",
      "label 去空值后： (0, 9)\n",
      "-- day_select:  2018-11-03\n",
      "label 去重前： (0, 9)\n",
      "label 去重后： (0, 9)\n",
      "label 去空值后： (0, 9)\n",
      "-- day_select:  2018-11-04\n",
      "label 去重前： (0, 9)\n",
      "label 去重后： (0, 9)\n",
      "label 去空值后： (0, 9)\n",
      "-- day_select:  2018-11-05\n",
      "label 去重前： (0, 9)\n",
      "label 去重后： (0, 9)\n",
      "label 去空值后： (0, 9)\n",
      "-- day_select:  2018-11-06\n",
      "label 去重前： (0, 9)\n",
      "label 去重后： (0, 9)\n",
      "label 去空值后： (0, 9)\n",
      "-- day_select:  2018-11-07\n",
      "label 去重前： (0, 9)\n",
      "label 去重后： (0, 9)\n",
      "label 去空值后： (0, 9)\n",
      "-- day_select:  2018-11-08\n",
      "label 去重前： (0, 9)\n",
      "label 去重后： (0, 9)\n",
      "label 去空值后： (0, 9)\n",
      "-- day_select:  2018-11-09\n",
      "label 去重前： (0, 9)\n",
      "label 去重后： (0, 9)\n",
      "label 去空值后： (0, 9)\n",
      "-- day_select:  2018-11-10\n",
      "label 去重前： (0, 9)\n",
      "label 去重后： (0, 9)\n",
      "label 去空值后： (0, 9)\n",
      "-- day_select:  2018-11-11\n",
      "label 去重前： (0, 9)\n",
      "label 去重后： (0, 9)\n",
      "label 去空值后： (0, 9)\n",
      "-- day_select:  2018-11-12\n",
      "label 去重前： (0, 9)\n",
      "label 去重后： (0, 9)\n",
      "label 去空值后： (0, 9)\n",
      "-- day_select:  2018-11-13\n",
      "label 去重前： (0, 9)\n",
      "label 去重后： (0, 9)\n",
      "label 去空值后： (0, 9)\n",
      "-- day_select:  2018-11-14\n",
      "label 去重前： (0, 9)\n",
      "label 去重后： (0, 9)\n",
      "label 去空值后： (0, 9)\n",
      "-- day_select:  2018-11-15\n",
      "label 去重前： (0, 9)\n",
      "label 去重后： (0, 9)\n",
      "label 去空值后： (0, 9)\n",
      "-- day_select:  2018-11-16\n",
      "label 去重前： (0, 9)\n",
      "label 去重后： (0, 9)\n",
      "label 去空值后： (0, 9)\n",
      "-- day_select:  2018-11-17\n",
      "label 去重前： (0, 9)\n",
      "label 去重后： (0, 9)\n",
      "label 去空值后： (0, 9)\n",
      "-- day_select:  2018-11-18\n",
      "label 去重前： (1, 9)\n",
      "label 去重后： (1, 9)\n",
      "label 去空值后： (1, 9)\n",
      "content 去重前： (1, 2)\n",
      "content 去重后： (1, 2)\n",
      "content 去空值后： (1, 2)\n",
      "(1, 10)\n",
      "                len    \n",
      "              title    \n",
      "predict_label    环保 All\n",
      "tendency type          \n",
      "-1       中国人保     1   1\n",
      "All               1   1\n",
      "-- day_select:  2018-11-19\n",
      "label 去重前： (6, 9)\n",
      "label 去重后： (6, 9)\n",
      "label 去空值后： (6, 9)\n",
      "content 去重前： (6, 2)\n",
      "content 去重后： (6, 2)\n",
      "content 去空值后： (6, 2)\n",
      "(6, 10)\n",
      "                len                        \n",
      "              title                        \n",
      "predict_label  产品销售 其他相关报道 消费服务 监管 资本市场 All\n",
      "tendency type                              \n",
      "-1       中国人保     0      0    0  1    0   1\n",
      "0        中国人保     1      1    1  1    1   5\n",
      "All               1      1    1  2    1   6\n",
      "-- day_select:  2018-11-20\n",
      "label 去重前： (5, 9)\n",
      "label 去重后： (5, 9)\n",
      "label 去空值后： (5, 9)\n",
      "content 去重前： (5, 2)\n",
      "content 去重后： (5, 2)\n",
      "content 去空值后： (5, 2)\n",
      "(5, 10)\n",
      "                len             \n",
      "              title             \n",
      "predict_label    噪音 环保 监管 行业 All\n",
      "tendency type                   \n",
      "-1       中国人保     2  0  0  0   2\n",
      "0        中国人保     0  1  1  1   3\n",
      "All               2  1  1  1   5\n",
      "-- day_select:  2018-11-21\n",
      "label 去重前： (6, 9)\n",
      "label 去重后： (6, 9)\n",
      "label 去空值后： (6, 9)\n",
      "content 去重前： (6, 2)\n",
      "content 去重后： (6, 2)\n",
      "content 去空值后： (6, 2)\n",
      "(6, 10)\n",
      "                len          \n",
      "              title          \n",
      "predict_label  产品销售 监管 行业 All\n",
      "tendency type                \n",
      "-1       中国人保     0  0  2   2\n",
      "0        中国人保     1  2  1   4\n",
      "All               1  2  3   6\n",
      "-- day_select:  2018-11-22\n",
      "label 去重前： (11, 9)\n",
      "label 去重后： (11, 9)\n",
      "label 去空值后： (11, 9)\n",
      "content 去重前： (11, 2)\n",
      "content 去重后： (11, 2)\n",
      "content 去空值后： (11, 2)\n",
      "(11, 10)\n",
      "                len                                \n",
      "              title                                \n",
      "predict_label    交通 公司内部管理 其他相关报道 消费服务 环保 监管 行业 All\n",
      "tendency type                                      \n",
      "-1       中国人保     0      0      0    0  3  0  1   4\n",
      "0        中国人保     1      1      1    1  0  1  2   7\n",
      "All               1      1      1    1  3  1  3  11\n",
      "-- day_select:  2018-11-23\n",
      "label 去重前： (8, 9)\n",
      "label 去重后： (8, 9)\n",
      "label 去空值后： (8, 9)\n"
     ]
    },
    {
     "name": "stdout",
     "output_type": "stream",
     "text": [
      "content 去重前： (8, 2)\n",
      "content 去重后： (8, 2)\n",
      "content 去空值后： (8, 2)\n",
      "(8, 10)\n",
      "                len                 \n",
      "              title                 \n",
      "predict_label    交通 公司内部管理 环保 行业 All\n",
      "tendency type                       \n",
      "-1       中国人保     0      0  4  1   5\n",
      "0        中国人保     1      1  0  1   3\n",
      "All               1      1  4  2   8\n",
      "-- day_select:  2018-11-24\n",
      "label 去重前： (0, 9)\n",
      "label 去重后： (0, 9)\n",
      "label 去空值后： (0, 9)\n",
      "-- day_select:  2018-11-25\n",
      "label 去重前： (2, 9)\n",
      "label 去重后： (2, 9)\n",
      "label 去空值后： (2, 9)\n",
      "content 去重前： (2, 2)\n",
      "content 去重后： (2, 2)\n",
      "content 去空值后： (2, 2)\n",
      "(2, 10)\n",
      "                len       \n",
      "              title       \n",
      "predict_label    交通 环保 All\n",
      "tendency type             \n",
      "-1       中国人保     0  1   1\n",
      "0        中国人保     1  0   1\n",
      "All               1  1   2\n",
      "-- day_select:  2018-11-26\n",
      "label 去重前： (2, 9)\n",
      "label 去重后： (2, 9)\n",
      "label 去空值后： (2, 9)\n",
      "content 去重前： (2, 2)\n",
      "content 去重后： (2, 2)\n",
      "content 去空值后： (2, 2)\n",
      "(2, 10)\n",
      "                len       \n",
      "              title       \n",
      "predict_label    交通 行业 All\n",
      "tendency type             \n",
      "0        中国人保     1  1   2\n",
      "All               1  1   2\n",
      "-- day_select:  2018-11-27\n",
      "label 去重前： (7, 9)\n",
      "label 去重后： (7, 9)\n",
      "label 去空值后： (7, 9)\n",
      "content 去重前： (7, 2)\n",
      "content 去重后： (7, 2)\n",
      "content 去空值后： (7, 2)\n",
      "(7, 10)\n",
      "                len               \n",
      "              title               \n",
      "predict_label    交通 产品销售 环保 监管 All\n",
      "tendency type                     \n",
      "-1       中国人保     0    0  3  0   3\n",
      "0        中国人保     2    1  0  1   4\n",
      "All               2    1  3  1   7\n",
      "-- day_select:  2018-11-28\n",
      "label 去重前： (6, 9)\n",
      "label 去重后： (6, 9)\n",
      "label 去空值后： (6, 9)\n",
      "content 去重前： (6, 2)\n",
      "content 去重后： (6, 2)\n",
      "content 去空值后： (6, 2)\n",
      "(6, 10)\n",
      "                len             \n",
      "              title             \n",
      "predict_label    交通 环保 监管 行业 All\n",
      "tendency type                   \n",
      "-1       中国人保     0  2  1  0   3\n",
      "0        中国人保     1  0  1  1   3\n",
      "All               1  2  2  1   6\n",
      "-- day_select:  2018-11-29\n",
      "label 去重前： (8, 9)\n",
      "label 去重后： (8, 9)\n",
      "label 去空值后： (8, 9)\n",
      "content 去重前： (8, 2)\n",
      "content 去重后： (8, 2)\n",
      "content 去空值后： (8, 2)\n",
      "(8, 10)\n",
      "                len                  \n",
      "              title                  \n",
      "predict_label    噪音 消费服务 环保 监管 行业 All\n",
      "tendency type                        \n",
      "-1       中国人保     2    1  3  0  0   6\n",
      "0        中国人保     0    0  0  1  1   2\n",
      "All               2    1  3  1  1   8\n",
      "-- day_select:  2018-11-30\n",
      "label 去重前： (13, 9)\n",
      "label 去重后： (13, 9)\n",
      "label 去空值后： (13, 9)\n",
      "content 去重前： (13, 2)\n",
      "content 去重后： (13, 2)\n",
      "content 去空值后： (13, 2)\n",
      "(13, 10)\n",
      "                len                  \n",
      "              title                  \n",
      "predict_label  产品销售 噪音 消费服务 环保 行业 All\n",
      "tendency type                        \n",
      "-1       中国人保     0  5    1  2  0   8\n",
      "0        中国人保     1  1    0  0  3   5\n",
      "All               1  6    1  2  3  13\n",
      "-- day_select:  2018-12-01\n",
      "label 去重前： (3, 9)\n",
      "label 去重后： (3, 9)\n",
      "label 去空值后： (3, 9)\n",
      "content 去重前： (3, 2)\n",
      "content 去重后： (3, 2)\n",
      "content 去空值后： (3, 2)\n",
      "(3, 10)\n",
      "                 len          \n",
      "               title          \n",
      "predict_label 其他相关报道 监管 行业 All\n",
      "tendency type                 \n",
      "0        中国人保      1  1  1   3\n",
      "All                1  1  1   3\n",
      "-- day_select:  2018-12-02\n",
      "label 去重前： (3, 9)\n",
      "label 去重后： (3, 9)\n",
      "label 去空值后： (3, 9)\n",
      "content 去重前： (3, 2)\n",
      "content 去重后： (3, 2)\n",
      "content 去空值后： (3, 2)\n",
      "(3, 10)\n",
      "                len            \n",
      "              title            \n",
      "predict_label    交通 产品销售 行业 All\n",
      "tendency type                  \n",
      "0        中国人保     1    1  1   3\n",
      "All               1    1  1   3\n",
      "-- day_select:  2018-12-03\n",
      "label 去重前： (7, 9)\n",
      "label 去重后： (7, 9)\n",
      "label 去空值后： (7, 9)\n",
      "content 去重前： (7, 2)\n",
      "content 去重后： (7, 2)\n",
      "content 去空值后： (7, 2)\n",
      "(7, 10)\n",
      "                len                         \n",
      "              title                         \n",
      "predict_label  产品销售 公司内部管理 噪音 环保 监管 资本市场 All\n",
      "tendency type                               \n",
      "-1       中国人保     0      0  2  1  0    0   3\n",
      "0        中国人保     1      1  0  0  1    1   4\n",
      "All               1      1  2  1  1    1   7\n"
     ]
    }
   ],
   "source": [
    "types = 5\n",
    "gather_types = '补录'\n",
    "print(\"获取 %s 数据...\"%(proj_name_dict[types]))\n",
    "if proj_name == proj_name_dict[6]: \n",
    "    sel_type = 1\n",
    "else :\n",
    "    sel_type = types\n",
    "for day_select in day_list:\n",
    "    print('-- day_select: ', day_select)\n",
    "    \n",
    "    # 获取八分类\n",
    "    if types in [1,2, 6]:\n",
    "        sql_label = '''\n",
    "        SELECT \n",
    "            t1.type, t1.urlhash, t3.title, t3.group_id, t3.publishtime,\n",
    "            t1.traffic_id, t2.sen as tendency, t2.gather_type\n",
    "        FROM\n",
    "            db_classify_traffic_docinfo t1\n",
    "                LEFT JOIN\n",
    "            db_docinfo_trade t2 ON t1.urlhash = t2.urlhash\n",
    "                LEFT JOIN\n",
    "            db_docinfo t3 ON t2.urlhash = t3.urlhash\n",
    "        WHERE\n",
    "            t3.publishtime >= '{0} 00:00:00'\n",
    "                AND t3.publishtime <= '{0} 23:59:59'\n",
    "                and t1.type = {1}\n",
    "                and t1.type = t2.type\n",
    "                and t2.gather_type in (1,3)\n",
    "        group by t3.titlehash\n",
    "        '''.format(day_select, sel_type)\n",
    "    elif types in [3,4,5]:\n",
    "        sql_label = '''\n",
    "        SELECT \n",
    "            t1.type, t1.urlhash, t3.title, t3.group_id, t3.publishtime,\n",
    "            t1.traffic_id, t2.sen as tendency, t2.gather_type\n",
    "        FROM\n",
    "            db_classify_traffic_docinfo t1\n",
    "                LEFT JOIN\n",
    "            db_docinfo_trade t2 ON t1.urlhash = t2.urlhash\n",
    "                LEFT JOIN\n",
    "            db_docinfo t3 ON t2.urlhash = t3.urlhash\n",
    "        WHERE\n",
    "            t3.publishtime >= '{0} 00:00:00'\n",
    "                AND t3.publishtime <= '{0} 23:59:59'\n",
    "                and t1.type = {1}\n",
    "                and t1.type = t2.type\n",
    "                and t2.gather_type in (1,3)\n",
    "        group by t3.titlehash\n",
    "        '''.format(day_select, sel_type)        \n",
    "\n",
    "    cbirc_label = pd.read_sql(sql_label, engine)\n",
    "    cbirc_label['predict_label'] = cbirc_label['traffic_id'].apply(lambda x:class_name_dict[x])\n",
    "    cbirc_label['group_id'] = cbirc_label['group_id'].apply(lambda x:group_dict[str(x)])\n",
    "    cbirc_label['type'] = cbirc_label['type'].apply(lambda x:proj_name_dict[x])\n",
    "    cbirc_label['gather_type'] = cbirc_label['gather_type'].apply(lambda x:gather_type_name_dict[x])\n",
    "    \n",
    "    if proj_name == proj_name_dict[6]: cbirc_label['type'] = proj_name_dict[6]\n",
    "    \n",
    "    print('label 去重前：', cbirc_label.shape)\n",
    "    cbirc_label = cbirc_label.drop_duplicates(subset = 'title')\n",
    "    print('label 去重后：', cbirc_label.shape)  \n",
    "    cbirc_label = cbirc_label.dropna(subset = ['title'], axis = 0)\n",
    "    print('label 去空值后：', cbirc_label.shape)  \n",
    "        \n",
    "    if cbirc_label['urlhash'].shape[0] != 0:\n",
    "        # 获取 content\n",
    "        url_l = cbirc_label['urlhash'].tolist()\n",
    "        if cbirc_label['urlhash'].shape[0] == 1:\n",
    "            url_l.append(url_l[0])\n",
    "        url_list = tuple(url_l)\n",
    "        sql_content = '''\n",
    "        SELECT \n",
    "            t1.urlhash, t1.text as content\n",
    "        FROM\n",
    "            db_docinfo_text t1\n",
    "        WHERE\n",
    "            t1.urlhash in {0}\n",
    "        '''.format(url_list)\n",
    "        cbirc_content = pd.read_sql(sql_content, engine)\n",
    "        print('content 去重前：', cbirc_content.shape)\n",
    "        cbirc_content = cbirc_content.drop_duplicates(subset = 'content')\n",
    "        print('content 去重后：', cbirc_content.shape)  \n",
    "        cbirc_content = cbirc_content.dropna(subset = ['content'], axis = 0)\n",
    "        print('content 去空值后：', cbirc_content.shape)  \n",
    "\n",
    "        cbirc_combined = pd.merge(cbirc_label, cbirc_content, on = 'urlhash', how = 'inner')\n",
    "        print(cbirc_combined.shape)\n",
    "        print(cbirc_combined.pivot_table(index = ['tendency', 'type'], columns = ['predict_label'], \n",
    "                                    aggfunc = [len], values = ['title'], \n",
    "                                    fill_value = 0, margins = True))    \n",
    "        cbirc_combined['label'] = ''\n",
    "        cbirc_combined = cbirc_combined[['gather_type', 'type', 'urlhash', 'predict_label', 'label', 'title', \n",
    "                                         'content', 'group_id', 'publishtime', 'tendency']]\n",
    "    #     fea_filename = 'cbirc_result/class/result/cbirc_class_predict_mysql_%s.xlsx'%day_select\n",
    "        fea_filename = 'result/cbirc_result/class/result/cbirc_class_predict_%s_types(%s)_%s.xlsx'%(gather_types, types, day_select)\n",
    "        cbirc_combined.to_excel(fea_filename, index = False)\n",
    "    "
   ]
  },
  {
   "cell_type": "markdown",
   "metadata": {},
   "source": [
    "### 八分类数据"
   ]
  },
  {
   "cell_type": "markdown",
   "metadata": {},
   "source": [
    "#### 合并 & 保存"
   ]
  },
  {
   "cell_type": "code",
   "execution_count": 30,
   "metadata": {
    "ExecuteTime": {
     "end_time": "2018-12-03T02:54:33.085227Z",
     "start_time": "2018-12-03T02:54:33.081227Z"
    },
    "collapsed": true
   },
   "outputs": [],
   "source": [
    "# types = 3\n",
    "# gather_types = '采集'"
   ]
  },
  {
   "cell_type": "code",
   "execution_count": 17,
   "metadata": {
    "ExecuteTime": {
     "end_time": "2019-01-17T09:06:15.333603Z",
     "start_time": "2019-01-17T09:06:12.470677Z"
    }
   },
   "outputs": [
    {
     "name": "stdout",
     "output_type": "stream",
     "text": [
      "result/cbirc_result/class/result/cbirc_class_predict_采集_types(4)_2019-01-02.xlsx\n",
      "result/cbirc_result/class/result/cbirc_class_predict_采集_types(4)_2019-01-03.xlsx\n",
      "result/cbirc_result/class/result/cbirc_class_predict_采集_types(4)_2019-01-04.xlsx\n",
      "result/cbirc_result/class/result/cbirc_class_predict_采集_types(4)_2019-01-05.xlsx\n",
      "result/cbirc_result/class/result/cbirc_class_predict_采集_types(4)_2019-01-06.xlsx\n",
      "result/cbirc_result/class/result/cbirc_class_predict_采集_types(4)_2019-01-07.xlsx\n",
      "result/cbirc_result/class/result/cbirc_class_predict_采集_types(4)_2019-01-08.xlsx\n",
      "result/cbirc_result/class/result/cbirc_class_predict_采集_types(4)_2019-01-09.xlsx\n",
      "result/cbirc_result/class/result/cbirc_class_predict_采集_types(4)_2019-01-10.xlsx\n",
      "result/cbirc_result/class/result/cbirc_class_predict_采集_types(4)_2019-01-11.xlsx\n",
      "result/cbirc_result/class/result/cbirc_class_predict_采集_types(4)_2019-01-12.xlsx\n",
      "result/cbirc_result/class/result/cbirc_class_predict_采集_types(4)_2019-01-13.xlsx\n",
      "result/cbirc_result/class/result/cbirc_class_predict_采集_types(4)_2019-01-14.xlsx\n",
      "result/cbirc_result/class/result/cbirc_class_predict_采集_types(4)_2019-01-15.xlsx\n",
      "result/cbirc_result/class/result/cbirc_class_predict_采集_types(4)_2019-01-16.xlsx\n",
      "(8355, 11)\n",
      "                len                                               \n",
      "              title                                               \n",
      "predict_label  产品销售 公司内部管理 其他相关报道    噪音 消费服务    监管   行业 资本市场   All\n",
      "type                                                              \n",
      "建行北分             24    225    198  3553  227  2287  964  877  8355\n",
      "All              24    225    198  3553  227  2287  964  877  8355\n",
      "\n",
      "噪音        3553\n",
      "监管        2287\n",
      "行业         964\n",
      "资本市场       877\n",
      "消费服务       227\n",
      "公司内部管理     225\n",
      "其他相关报道     198\n",
      "产品销售        24\n",
      "Name: predict_label, dtype: int64\n"
     ]
    },
    {
     "data": {
      "text/html": [
       "<div>\n",
       "<style scoped>\n",
       "    .dataframe tbody tr th:only-of-type {\n",
       "        vertical-align: middle;\n",
       "    }\n",
       "\n",
       "    .dataframe tbody tr th {\n",
       "        vertical-align: top;\n",
       "    }\n",
       "\n",
       "    .dataframe thead th {\n",
       "        text-align: right;\n",
       "    }\n",
       "</style>\n",
       "<table border=\"1\" class=\"dataframe\">\n",
       "  <thead>\n",
       "    <tr style=\"text-align: right;\">\n",
       "      <th></th>\n",
       "      <th>id</th>\n",
       "      <th>gather_type</th>\n",
       "      <th>type</th>\n",
       "      <th>urlhash</th>\n",
       "      <th>predict_label</th>\n",
       "      <th>label</th>\n",
       "      <th>title</th>\n",
       "      <th>content</th>\n",
       "      <th>group_id</th>\n",
       "      <th>publishtime</th>\n",
       "      <th>tendency</th>\n",
       "    </tr>\n",
       "  </thead>\n",
       "  <tbody>\n",
       "    <tr>\n",
       "      <th>0</th>\n",
       "      <td>15202272</td>\n",
       "      <td>系统采集</td>\n",
       "      <td>建行北分</td>\n",
       "      <td>-1353774939804728064</td>\n",
       "      <td>监管</td>\n",
       "      <td>NaN</td>\n",
       "      <td>展望2019中国经济：统筹六稳 把握重要战略机遇期</td>\n",
       "      <td>时代周报记者 吴慧 发自广州\\n2018年的诺贝尔经济学奖颁给了威廉？诺德豪斯和保罗？罗默，...</td>\n",
       "      <td>新闻客户端</td>\n",
       "      <td>2019-01-02 09:46:00</td>\n",
       "      <td>0</td>\n",
       "    </tr>\n",
       "    <tr>\n",
       "      <th>1</th>\n",
       "      <td>15181093</td>\n",
       "      <td>系统采集</td>\n",
       "      <td>建行北分</td>\n",
       "      <td>-7741534737680654336</td>\n",
       "      <td>监管</td>\n",
       "      <td>NaN</td>\n",
       "      <td>梁涛： 银行保险监管工作要抓住两个重点</td>\n",
       "      <td>梁涛： 银行保险监管工作要抓住两个重点\\n\\r2019-01-02 16:38\\n\\r来源：...</td>\n",
       "      <td>新闻</td>\n",
       "      <td>2019-01-02 00:00:00</td>\n",
       "      <td>0</td>\n",
       "    </tr>\n",
       "  </tbody>\n",
       "</table>\n",
       "</div>"
      ],
      "text/plain": [
       "         id gather_type  type              urlhash predict_label  label  \\\n",
       "0  15202272        系统采集  建行北分 -1353774939804728064            监管    NaN   \n",
       "1  15181093        系统采集  建行北分 -7741534737680654336            监管    NaN   \n",
       "\n",
       "                       title  \\\n",
       "0  展望2019中国经济：统筹六稳 把握重要战略机遇期   \n",
       "1        梁涛： 银行保险监管工作要抓住两个重点   \n",
       "\n",
       "                                             content group_id  \\\n",
       "0  时代周报记者 吴慧 发自广州\\n2018年的诺贝尔经济学奖颁给了威廉？诺德豪斯和保罗？罗默，...    新闻客户端   \n",
       "1  梁涛： 银行保险监管工作要抓住两个重点\\n\\r2019-01-02 16:38\\n\\r来源：...       新闻   \n",
       "\n",
       "          publishtime  tendency  \n",
       "0 2019-01-02 09:46:00         0  \n",
       "1 2019-01-02 00:00:00         0  "
      ]
     },
     "execution_count": 17,
     "metadata": {},
     "output_type": "execute_result"
    }
   ],
   "source": [
    "combined_data = pd.DataFrame()\n",
    "for day_select in day_list:\n",
    "#     tmp_data = pd.read_excel('cbirc_result/class/result/cbirc_class_predict_mysql_%s.xlsx'%day_select)\n",
    "    file_name = 'result/cbirc_result/class/result/cbirc_class_predict_%s_types(%s)_%s.xlsx'%(gather_types, types, day_select)\n",
    "    if os.path.isfile(file_name):\n",
    "        print(file_name)\n",
    "        tmp_data = pd.read_excel(file_name)\n",
    "        combined_data = pd.concat([combined_data, tmp_data], axis = 0)\n",
    "\n",
    "combined_data = combined_data[combined_data['predict_label'] != '补录']\n",
    "print(combined_data.shape)\n",
    "print(combined_data.pivot_table(index = ['type'], columns = ['predict_label'], \n",
    "                            aggfunc = [len], values = ['title'], \n",
    "                            fill_value = 0, margins = True)) \n",
    "print()\n",
    "# {1: '银监会', 2: '保监会', 3: '中国人寿', 4: '建行北分', 5: '中国人保'}\n",
    "# types = ['银监会', '建行北分']\n",
    "# types = [ '中国人寿', '中国人保'] # '保监会',\n",
    "# combined_data = combined_data[combined_data['type'].isin(types)]\n",
    "# print(combined_data.shape)  \n",
    "print(combined_data['predict_label'].value_counts())\n",
    "combined_data.iloc[:2, :]"
   ]
  },
  {
   "cell_type": "code",
   "execution_count": 114,
   "metadata": {
    "ExecuteTime": {
     "end_time": "2018-12-21T06:01:09.379249Z",
     "start_time": "2018-12-21T06:01:09.368249Z"
    },
    "collapsed": true
   },
   "outputs": [],
   "source": [
    "# combined_data_sel = combined_data[combined_data['predict_label'].isin(['交通', '环保'])]\n",
    "# combined_data_sel.to_excel('picc_result_class/picc_data_20181220(1210-1219).xlsx', index = False)\n",
    "# combined_data_sel['predict_label'].value_counts()"
   ]
  },
  {
   "cell_type": "code",
   "execution_count": 141,
   "metadata": {
    "ExecuteTime": {
     "end_time": "2018-11-26T06:37:30.427133Z",
     "start_time": "2018-11-26T06:37:30.419132Z"
    },
    "collapsed": true
   },
   "outputs": [],
   "source": [
    "# combined_data = combined_data[['type', 'urlhash', 'local_label', 'label', 'title', 'content']]\n",
    "# combined_data.rename(columns = {'local_label':'predict_label'}, inplace = True)\n",
    "# combined_data.head()"
   ]
  },
  {
   "cell_type": "code",
   "execution_count": 18,
   "metadata": {
    "ExecuteTime": {
     "end_time": "2019-01-17T09:06:27.103388Z",
     "start_time": "2019-01-17T09:06:25.396734Z"
    }
   },
   "outputs": [
    {
     "name": "stdout",
     "output_type": "stream",
     "text": [
      "result/cbirc_result/class/result/采集_建行北分_class_predict_mysql_20190102(0102-0117).xlsx\n",
      "噪音        3553\n",
      "监管        2287\n",
      "行业         964\n",
      "资本市场       877\n",
      "消费服务       227\n",
      "公司内部管理     225\n",
      "其他相关报道     198\n",
      "产品销售        24\n",
      "Name: predict_label, dtype: int64\n",
      "\n",
      "predict_label  产品销售  公司内部管理  其他相关报道   噪音  消费服务   监管   行业  资本市场   All\n",
      "type                                                                \n",
      "建行北分             24     200     198  200   200  200  200   200  1422\n",
      "All              24     200     198  200   200  200  200   200  1422\n"
     ]
    }
   ],
   "source": [
    "fea_filename = 'result/cbirc_result/class/result/%s_%s_class_predict_mysql_20190102(0102-0117).xlsx'%(gather_types, \n",
    "                                                                                                      proj_name_dict[types])\n",
    "print(fea_filename)\n",
    "# sel_col = ['噪音', '消费服务', '公司内部管理', '监管',\n",
    "#            '行业', '资本市场', '其他相关报道','产品销售','交通','环保']\n",
    "# sel_col = ['公司内部管理', '监管', '行业', '产品销售']\n",
    "sel_col = combined_data['predict_label'].unique().tolist()\n",
    "sel_data = combined_data[combined_data['predict_label'].isin(sel_col)]\n",
    "print(sel_data['predict_label'].value_counts())\n",
    "print()\n",
    "c_data = pd.DataFrame()\n",
    "with pd.ExcelWriter(fea_filename) as writer:\n",
    "    for label in sel_data['predict_label'].unique():\n",
    "        tmp_data = sel_data[sel_data['predict_label'] == label]\n",
    "        if gather_types == '补录':\n",
    "            N = tmp_data.shape[0]\n",
    "        else :\n",
    "            if tmp_data.shape[0] > 200:\n",
    "                N = 200\n",
    "            else :\n",
    "                N = tmp_data.shape[0]\n",
    "            if label in ['交通',]: # '环保'\n",
    "                N =  200 # tmp_data.shape[0]\n",
    "            \n",
    "        save_data = tmp_data.sample(n = N, axis = 0, random_state=42)\n",
    "        save_data.to_excel(writer,label, index = False)\n",
    "        c_data = pd.concat([c_data, save_data], axis = 0)\n",
    "    print(c_data.pivot_table(index = ['type'], \n",
    "                                columns = ['predict_label'], \n",
    "                                values = 'title', aggfunc=len, \n",
    "                                fill_value=0, margins=True))      \n",
    "    writer.save()"
   ]
  },
  {
   "cell_type": "markdown",
   "metadata": {},
   "source": [
    "### 倾向性"
   ]
  },
  {
   "cell_type": "markdown",
   "metadata": {},
   "source": [
    "#### 合并 & 保存"
   ]
  },
  {
   "cell_type": "code",
   "execution_count": 116,
   "metadata": {
    "ExecuteTime": {
     "end_time": "2018-12-21T06:02:23.625496Z",
     "start_time": "2018-12-21T06:02:17.383139Z"
    }
   },
   "outputs": [
    {
     "name": "stdout",
     "output_type": "stream",
     "text": [
      "cbirc_result/class/result/cbirc_class_predict_采集_types(6)_2018-11-02.xlsx\n",
      "cbirc_result/class/result/cbirc_class_predict_采集_types(6)_2018-11-03.xlsx\n",
      "cbirc_result/class/result/cbirc_class_predict_采集_types(6)_2018-11-04.xlsx\n",
      "cbirc_result/class/result/cbirc_class_predict_采集_types(6)_2018-11-05.xlsx\n",
      "cbirc_result/class/result/cbirc_class_predict_采集_types(6)_2018-11-06.xlsx\n",
      "cbirc_result/class/result/cbirc_class_predict_采集_types(6)_2018-11-07.xlsx\n",
      "cbirc_result/class/result/cbirc_class_predict_采集_types(6)_2018-11-08.xlsx\n",
      "cbirc_result/class/result/cbirc_class_predict_采集_types(6)_2018-11-09.xlsx\n",
      "cbirc_result/class/result/cbirc_class_predict_采集_types(6)_2018-11-10.xlsx\n",
      "cbirc_result/class/result/cbirc_class_predict_采集_types(6)_2018-11-11.xlsx\n",
      "cbirc_result/class/result/cbirc_class_predict_采集_types(6)_2018-11-12.xlsx\n",
      "cbirc_result/class/result/cbirc_class_predict_采集_types(6)_2018-11-13.xlsx\n",
      "cbirc_result/class/result/cbirc_class_predict_采集_types(6)_2018-11-14.xlsx\n",
      "cbirc_result/class/result/cbirc_class_predict_采集_types(6)_2018-11-15.xlsx\n",
      "cbirc_result/class/result/cbirc_class_predict_采集_types(6)_2018-11-16.xlsx\n",
      "cbirc_result/class/result/cbirc_class_predict_采集_types(6)_2018-11-17.xlsx\n",
      "cbirc_result/class/result/cbirc_class_predict_采集_types(6)_2018-11-18.xlsx\n",
      "cbirc_result/class/result/cbirc_class_predict_采集_types(6)_2018-11-19.xlsx\n",
      "cbirc_result/class/result/cbirc_class_predict_采集_types(6)_2018-11-20.xlsx\n",
      "cbirc_result/class/result/cbirc_class_predict_采集_types(6)_2018-11-21.xlsx\n",
      "cbirc_result/class/result/cbirc_class_predict_采集_types(6)_2018-11-22.xlsx\n",
      "cbirc_result/class/result/cbirc_class_predict_采集_types(6)_2018-11-23.xlsx\n",
      "cbirc_result/class/result/cbirc_class_predict_采集_types(6)_2018-11-24.xlsx\n",
      "cbirc_result/class/result/cbirc_class_predict_采集_types(6)_2018-11-25.xlsx\n",
      "cbirc_result/class/result/cbirc_class_predict_采集_types(6)_2018-11-26.xlsx\n",
      "cbirc_result/class/result/cbirc_class_predict_采集_types(6)_2018-11-27.xlsx\n",
      "cbirc_result/class/result/cbirc_class_predict_采集_types(6)_2018-11-28.xlsx\n",
      "cbirc_result/class/result/cbirc_class_predict_采集_types(6)_2018-11-29.xlsx\n",
      "cbirc_result/class/result/cbirc_class_predict_采集_types(6)_2018-11-30.xlsx\n",
      "cbirc_result/class/result/cbirc_class_predict_采集_types(6)_2018-12-01.xlsx\n",
      "cbirc_result/class/result/cbirc_class_predict_采集_types(6)_2018-12-02.xlsx\n",
      "cbirc_result/class/result/cbirc_class_predict_采集_types(6)_2018-12-03.xlsx\n",
      "cbirc_result/class/result/cbirc_class_predict_采集_types(6)_2018-12-04.xlsx\n",
      "cbirc_result/class/result/cbirc_class_predict_采集_types(6)_2018-12-05.xlsx\n",
      "cbirc_result/class/result/cbirc_class_predict_采集_types(6)_2018-12-06.xlsx\n",
      "cbirc_result/class/result/cbirc_class_predict_采集_types(6)_2018-12-07.xlsx\n",
      "cbirc_result/class/result/cbirc_class_predict_采集_types(6)_2018-12-08.xlsx\n",
      "cbirc_result/class/result/cbirc_class_predict_采集_types(6)_2018-12-09.xlsx\n",
      "cbirc_result/class/result/cbirc_class_predict_采集_types(6)_2018-12-10.xlsx\n",
      "cbirc_result/class/result/cbirc_class_predict_采集_types(6)_2018-12-11.xlsx\n",
      "cbirc_result/class/result/cbirc_class_predict_采集_types(6)_2018-12-12.xlsx\n",
      "cbirc_result/class/result/cbirc_class_predict_采集_types(6)_2018-12-13.xlsx\n",
      "cbirc_result/class/result/cbirc_class_predict_采集_types(6)_2018-12-14.xlsx\n",
      "cbirc_result/class/result/cbirc_class_predict_采集_types(6)_2018-12-15.xlsx\n",
      "cbirc_result/class/result/cbirc_class_predict_采集_types(6)_2018-12-16.xlsx\n",
      "cbirc_result/class/result/cbirc_class_predict_采集_types(6)_2018-12-17.xlsx\n",
      "cbirc_result/class/result/cbirc_class_predict_采集_types(6)_2018-12-18.xlsx\n",
      "cbirc_result/class/result/cbirc_class_predict_采集_types(6)_2018-12-19.xlsx\n",
      "cbirc_result/class/result/cbirc_class_predict_采集_types(6)_2018-12-20.xlsx\n",
      "(15770, 11)\n",
      "predict_label       产品销售  公司内部管理  其他相关报道    噪音  消费服务   监管    行业  资本市场    All\n",
      "          tendency                                                          \n",
      "len title -1           0     215       0     0   352  144   269     0    980\n",
      "          0          193     451     515  9130   336  538  1837  1790  14790\n",
      "          All        193     666     515  9130   688  682  2106  1790  15770\n",
      "\n",
      "(4142, 11)\n",
      "predict_label       公司内部管理  消费服务   监管    行业   All\n",
      "          tendency                               \n",
      "len title -1           215   352  144   269   980\n",
      "          0            451   336  538  1837  3162\n",
      "          All          666   688  682  2106  4142\n",
      " 0    3162\n",
      "-1     980\n",
      "Name: tendency, dtype: int64\n"
     ]
    },
    {
     "data": {
      "text/html": [
       "<div>\n",
       "<style scoped>\n",
       "    .dataframe tbody tr th:only-of-type {\n",
       "        vertical-align: middle;\n",
       "    }\n",
       "\n",
       "    .dataframe tbody tr th {\n",
       "        vertical-align: top;\n",
       "    }\n",
       "\n",
       "    .dataframe thead th {\n",
       "        text-align: right;\n",
       "    }\n",
       "</style>\n",
       "<table border=\"1\" class=\"dataframe\">\n",
       "  <thead>\n",
       "    <tr style=\"text-align: right;\">\n",
       "      <th></th>\n",
       "      <th>id</th>\n",
       "      <th>gather_type</th>\n",
       "      <th>type</th>\n",
       "      <th>urlhash</th>\n",
       "      <th>predict_label</th>\n",
       "      <th>label</th>\n",
       "      <th>title</th>\n",
       "      <th>content</th>\n",
       "      <th>group_id</th>\n",
       "      <th>publishtime</th>\n",
       "      <th>tendency</th>\n",
       "    </tr>\n",
       "  </thead>\n",
       "  <tbody>\n",
       "    <tr>\n",
       "      <th>11</th>\n",
       "      <td>5835886</td>\n",
       "      <td>系统采集</td>\n",
       "      <td>安徽银监局</td>\n",
       "      <td>-9157588078424358912</td>\n",
       "      <td>消费服务</td>\n",
       "      <td>NaN</td>\n",
       "      <td>商河国寿财险重阳节送爱心</td>\n",
       "      <td>信托公司\\n\\r信托公司\\n\\rA-安徽国元信托有限责任公司\\n\\rA-安信信托股份有限公司...</td>\n",
       "      <td>新闻</td>\n",
       "      <td>2018-11-02 08:44:37</td>\n",
       "      <td>0</td>\n",
       "    </tr>\n",
       "    <tr>\n",
       "      <th>15</th>\n",
       "      <td>5830308</td>\n",
       "      <td>系统采集</td>\n",
       "      <td>安徽银监局</td>\n",
       "      <td>-7847497080215177216</td>\n",
       "      <td>公司内部管理</td>\n",
       "      <td>NaN</td>\n",
       "      <td>中信银行合肥财富广场支行因违规吸收存款被罚25万</td>\n",
       "      <td>\\n中国青年网北京11月2日电\\n 据中国银保监会网站消息，中国银保监会网站公布了安徽银...</td>\n",
       "      <td>新闻</td>\n",
       "      <td>2018-11-02 10:53:00</td>\n",
       "      <td>-1</td>\n",
       "    </tr>\n",
       "  </tbody>\n",
       "</table>\n",
       "</div>"
      ],
      "text/plain": [
       "         id gather_type   type              urlhash predict_label  label  \\\n",
       "11  5835886        系统采集  安徽银监局 -9157588078424358912          消费服务    NaN   \n",
       "15  5830308        系统采集  安徽银监局 -7847497080215177216        公司内部管理    NaN   \n",
       "\n",
       "                       title  \\\n",
       "11              商河国寿财险重阳节送爱心   \n",
       "15  中信银行合肥财富广场支行因违规吸收存款被罚25万   \n",
       "\n",
       "                                              content group_id  \\\n",
       "11  信托公司\\n\\r信托公司\\n\\rA-安徽国元信托有限责任公司\\n\\rA-安信信托股份有限公司...       新闻   \n",
       "15  　　\\n中国青年网北京11月2日电\\n 据中国银保监会网站消息，中国银保监会网站公布了安徽银...       新闻   \n",
       "\n",
       "           publishtime  tendency  \n",
       "11 2018-11-02 08:44:37         0  \n",
       "15 2018-11-02 10:53:00        -1  "
      ]
     },
     "execution_count": 116,
     "metadata": {},
     "output_type": "execute_result"
    }
   ],
   "source": [
    "combined_data = pd.DataFrame()\n",
    "for day_select in day_list:\n",
    "#     tmp_data = pd.read_excel('cbirc_result/class/result/cbirc_class_predict_mysql_%s.xlsx'%day_select)\n",
    "    file_name = 'cbirc_result/class/result/cbirc_class_predict_%s_types(%s)_%s.xlsx'%(gather_types, types, day_select)\n",
    "    if os.path.isfile(file_name):\n",
    "        print(file_name)\n",
    "        tmp_data = pd.read_excel(file_name)\n",
    "        combined_data = pd.concat([combined_data, tmp_data], axis = 0)\n",
    "\n",
    "print(combined_data.shape)\n",
    "print(combined_data.pivot_table(index = ['predict_label'], columns = ['tendency'], \n",
    "                            aggfunc = [len], values = ['title'], \n",
    "                            fill_value = 0, margins = True).T) \n",
    "print()\n",
    "\n",
    "if types in [4,5]:\n",
    "    combined_data = combined_data[combined_data['predict_label'] != '噪音']\n",
    "else :\n",
    "    sel_col = ['公司内部管理', '监管', '行业', '消费服务']\n",
    "    combined_data = combined_data[combined_data['predict_label'].isin(sel_col)]\n",
    "\n",
    "print(combined_data.shape)  \n",
    "print(combined_data.pivot_table(index = ['predict_label'], columns = ['tendency'], \n",
    "                            aggfunc = [len], values = ['title'], \n",
    "                            fill_value = 0, margins = True).T) \n",
    "\n",
    "print(combined_data['tendency'].value_counts())\n",
    "combined_data.iloc[:2, :]"
   ]
  },
  {
   "cell_type": "code",
   "execution_count": 119,
   "metadata": {
    "ExecuteTime": {
     "end_time": "2018-12-21T06:03:55.941776Z",
     "start_time": "2018-12-21T06:03:53.685647Z"
    }
   },
   "outputs": [
    {
     "name": "stdout",
     "output_type": "stream",
     "text": [
      "cbirc_result/tendency/result/采集_安徽银监局_tendency_predict_mysql_20181221(1102-1220).xlsx\n",
      " 0    3162\n",
      "-1     980\n",
      "Name: tendency, dtype: int64\n",
      "正负各 1000 条，共 4 类， 每类各 350 条\n",
      "-------------------------------------------------------\n",
      "tendency: 0, predict_label: 消费服务, size: (336, 11)\n",
      "tendency: 0, predict_label: 公司内部管理, size: (686, 11)\n",
      "tendency: 0, predict_label: 行业, size: (1036, 11)\n",
      "tendency: 0, predict_label: 监管, size: (1386, 11)\n",
      "predict_label   公司内部管理  消费服务   监管   行业   All\n",
      "tendency type                               \n",
      "0        安徽银监局     247   239  259  255  1000\n",
      "All                247   239  259  255  1000\n",
      "-------------------------------------------------------\n",
      "tendency: -1, predict_label: 消费服务, size: (350, 11)\n",
      "tendency: -1, predict_label: 公司内部管理, size: (565, 11)\n",
      "tendency: -1, predict_label: 行业, size: (834, 11)\n",
      "tendency: -1, predict_label: 监管, size: (978, 11)\n",
      "predict_label   公司内部管理  消费服务   监管   行业  All\n",
      "tendency type                              \n",
      "-1       安徽银监局     215   350  144  269  978\n",
      "All                215   350  144  269  978\n"
     ]
    }
   ],
   "source": [
    "fea_filename = 'cbirc_result/tendency/result/%s_%s_tendency_predict_mysql_20181221(1102-1220).xlsx'%(gather_types, \n",
    "                                                                                                     proj_name_dict[types])\n",
    "print(fea_filename)\n",
    "print(combined_data['tendency'].value_counts())\n",
    "\n",
    "N = 1000 # 每类 N 条数据\n",
    "class_n = int(combined_data['predict_label'].unique().shape[0])\n",
    "n = int(N / class_n) + 100\n",
    "\n",
    "print('正负各 %s 条，共 %s 类， 每类各 %s 条'%(N, class_n, n))\n",
    "with pd.ExcelWriter(fea_filename) as writer:\n",
    "    for tendency in combined_data['tendency'].unique():\n",
    "        print('-------------------------------------------------------')\n",
    "        tmp_data = pd.DataFrame()\n",
    "        sel_data = combined_data[combined_data['tendency'] == tendency]        \n",
    "        for predict_label in combined_data['predict_label'].unique():\n",
    "            label_data = sel_data[sel_data['predict_label'] == predict_label]\n",
    "            if label_data.shape[0] > n:\n",
    "                sel_label_data = label_data.sample(n = n, axis = 0, random_state=3)\n",
    "            else :\n",
    "                sel_label_data = label_data\n",
    "            tmp_data = pd.concat([tmp_data, sel_label_data], axis = 0)        \n",
    "            print('tendency: %s, predict_label: %s, size: %s'%(tendency, predict_label, tmp_data.shape))\n",
    "\n",
    "        if gather_types == '补录':\n",
    "            t_n = tmp_data.shape[0]\n",
    "        else :            \n",
    "            if tmp_data.shape[0] > N:\n",
    "                t_n = N\n",
    "            else :\n",
    "                t_n = tmp_data.shape[0]\n",
    "        \n",
    "        tmp_data = tmp_data.sample(n = t_n, axis = 0, random_state=3)\n",
    "        tmp_data.to_excel(writer,str(tendency), index = False)        \n",
    "        print(tmp_data.pivot_table(index = ['tendency', 'type'], \n",
    "                                    columns = ['predict_label'], \n",
    "                                    values = 'title', aggfunc=len, \n",
    "                                    fill_value=0, margins=True))    \n",
    "        \n",
    "    writer.save()"
   ]
  },
  {
   "cell_type": "markdown",
   "metadata": {
    "collapsed": true
   },
   "source": [
    "## 本地模型"
   ]
  },
  {
   "cell_type": "markdown",
   "metadata": {},
   "source": [
    "### 八分类"
   ]
  },
  {
   "cell_type": "markdown",
   "metadata": {},
   "source": [
    "#### CBRC"
   ]
  },
  {
   "cell_type": "code",
   "execution_count": 75,
   "metadata": {
    "ExecuteTime": {
     "end_time": "2018-11-15T07:57:33.168863Z",
     "start_time": "2018-11-15T07:57:33.161863Z"
    },
    "collapsed": true
   },
   "outputs": [],
   "source": [
    "from sklearn.externals import joblib\n",
    "pipeline_old = joblib.load( \"model/cbrc_8classifier_1015.pkl.z\")\n",
    "\n",
    "url = 'http://47.93.183.157:6001/judge_correlation_b'\n",
    "col_name = 'cor'\n",
    "types = 1\n",
    "\n",
    "combined_data['title_content'] = combined_data['title'].astype(str) + '。' + combined_data['content'].astype(str)\n",
    "title_content = pre_cor_cbrc.handle_contents(combined_data['title_content'].tolist())\n",
    "print(len(title_content))"
   ]
  },
  {
   "cell_type": "markdown",
   "metadata": {},
   "source": [
    "#### CIRC"
   ]
  },
  {
   "cell_type": "code",
   "execution_count": 92,
   "metadata": {
    "ExecuteTime": {
     "end_time": "2018-11-26T06:23:19.978490Z",
     "start_time": "2018-11-26T06:23:09.913914Z"
    }
   },
   "outputs": [
    {
     "name": "stdout",
     "output_type": "stream",
     "text": [
      "43\n"
     ]
    }
   ],
   "source": [
    "from sklearn.externals import joblib\n",
    "pipeline_old = joblib.load( \"model/circ_8classifier_1113.pkl.z\")\n",
    "# pipeline_old = joblib.load( \"model/circ_picc_10classifier_1118.pkl.z\")\n",
    "\n",
    "url = 'http://47.93.183.157:10000/judge_correlation_i'\n",
    "col_name = 'cor'\n",
    "types = 5\n",
    "\n",
    "combined_data['title_content'] = combined_data['title'].astype(str) + '。' + combined_data['content'].astype(str)\n",
    "title_content = pre_cor_circ.handle_contents(combined_data['title_content'].tolist())\n",
    "print(len(title_content))"
   ]
  },
  {
   "cell_type": "markdown",
   "metadata": {},
   "source": [
    "#### pre"
   ]
  },
  {
   "cell_type": "code",
   "execution_count": 93,
   "metadata": {
    "ExecuteTime": {
     "end_time": "2018-11-26T06:23:21.615583Z",
     "start_time": "2018-11-26T06:23:21.128556Z"
    },
    "collapsed": true
   },
   "outputs": [],
   "source": [
    "local_label = pipeline_old.predict(title_content)\n",
    "local_proba = pipeline_old.predict_proba(title_content)"
   ]
  },
  {
   "cell_type": "code",
   "execution_count": 94,
   "metadata": {
    "ExecuteTime": {
     "end_time": "2018-11-26T06:23:22.492634Z",
     "start_time": "2018-11-26T06:23:22.454631Z"
    }
   },
   "outputs": [
    {
     "name": "stdout",
     "output_type": "stream",
     "text": [
      "(43, 13)\n"
     ]
    },
    {
     "data": {
      "text/html": [
       "<div>\n",
       "<style scoped>\n",
       "    .dataframe tbody tr th:only-of-type {\n",
       "        vertical-align: middle;\n",
       "    }\n",
       "\n",
       "    .dataframe tbody tr th {\n",
       "        vertical-align: top;\n",
       "    }\n",
       "\n",
       "    .dataframe thead th {\n",
       "        text-align: right;\n",
       "    }\n",
       "</style>\n",
       "<table border=\"1\" class=\"dataframe\">\n",
       "  <thead>\n",
       "    <tr style=\"text-align: right;\">\n",
       "      <th></th>\n",
       "      <th>gather_type</th>\n",
       "      <th>type</th>\n",
       "      <th>urlhash</th>\n",
       "      <th>predict_label</th>\n",
       "      <th>label</th>\n",
       "      <th>title</th>\n",
       "      <th>content</th>\n",
       "      <th>group_id</th>\n",
       "      <th>publishtime</th>\n",
       "      <th>tendency</th>\n",
       "      <th>title_content</th>\n",
       "      <th>local_label</th>\n",
       "      <th>local_proba</th>\n",
       "    </tr>\n",
       "  </thead>\n",
       "  <tbody>\n",
       "    <tr>\n",
       "      <th>0</th>\n",
       "      <td>补录</td>\n",
       "      <td>中国人保</td>\n",
       "      <td>-1451164327749029888</td>\n",
       "      <td>环保</td>\n",
       "      <td>NaN</td>\n",
       "      <td>11月18日21时40分新疆和田地区于田县发生3.0级地震</td>\n",
       "      <td>据中国地震台网测定，北京时间2018年11月18日21时40分在新疆和田地区于田县（北纬36...</td>\n",
       "      <td>新闻</td>\n",
       "      <td>2018-11-18 21:58:50</td>\n",
       "      <td>-1</td>\n",
       "      <td>11月18日21时40分新疆和田地区于田县发生3.0级地震。据中国地震台网测定，北京时间20...</td>\n",
       "      <td>噪音</td>\n",
       "      <td>0.605084</td>\n",
       "    </tr>\n",
       "    <tr>\n",
       "      <th>0</th>\n",
       "      <td>补录</td>\n",
       "      <td>中国人保</td>\n",
       "      <td>-6173404825726358528</td>\n",
       "      <td>监管</td>\n",
       "      <td>NaN</td>\n",
       "      <td>周亮：民营经济离场论调极其错误 银保监会对国有和民营经济一视同仁</td>\n",
       "      <td>11月19日，在第九届财新峰会上，中国银行保险监督管理委员会副主席周亮表示，改革开放40年中...</td>\n",
       "      <td>新闻</td>\n",
       "      <td>2018-11-19 11:09:19</td>\n",
       "      <td>0</td>\n",
       "      <td>周亮：民营经济离场论调极其错误 银保监会对国有和民营经济一视同仁。11月19日，在第九届财新...</td>\n",
       "      <td>监管</td>\n",
       "      <td>0.915518</td>\n",
       "    </tr>\n",
       "  </tbody>\n",
       "</table>\n",
       "</div>"
      ],
      "text/plain": [
       "  gather_type  type              urlhash predict_label  label  \\\n",
       "0          补录  中国人保 -1451164327749029888            环保    NaN   \n",
       "0          补录  中国人保 -6173404825726358528            监管    NaN   \n",
       "\n",
       "                              title  \\\n",
       "0     11月18日21时40分新疆和田地区于田县发生3.0级地震   \n",
       "0  周亮：民营经济离场论调极其错误 银保监会对国有和民营经济一视同仁   \n",
       "\n",
       "                                             content group_id  \\\n",
       "0  据中国地震台网测定，北京时间2018年11月18日21时40分在新疆和田地区于田县（北纬36...       新闻   \n",
       "0  11月19日，在第九届财新峰会上，中国银行保险监督管理委员会副主席周亮表示，改革开放40年中...       新闻   \n",
       "\n",
       "          publishtime  tendency  \\\n",
       "0 2018-11-18 21:58:50        -1   \n",
       "0 2018-11-19 11:09:19         0   \n",
       "\n",
       "                                       title_content local_label  local_proba  \n",
       "0  11月18日21时40分新疆和田地区于田县发生3.0级地震。据中国地震台网测定，北京时间20...          噪音     0.605084  \n",
       "0  周亮：民营经济离场论调极其错误 银保监会对国有和民营经济一视同仁。11月19日，在第九届财新...          监管     0.915518  "
      ]
     },
     "execution_count": 94,
     "metadata": {},
     "output_type": "execute_result"
    }
   ],
   "source": [
    "combined_data['local_label'] = local_label\n",
    "combined_data['local_proba'] = local_proba.max(axis = 1)\n",
    "combined_data['local_label'] = combined_data['local_label'].apply(lambda x:class_name_dict[x])\n",
    "print(combined_data.shape)\n",
    "combined_data.iloc[:2, :]"
   ]
  },
  {
   "cell_type": "code",
   "execution_count": 95,
   "metadata": {
    "ExecuteTime": {
     "end_time": "2018-11-26T06:23:25.590811Z",
     "start_time": "2018-11-26T06:23:25.577810Z"
    }
   },
   "outputs": [
    {
     "data": {
      "text/plain": [
       "噪音        13\n",
       "行业        12\n",
       "公司内部管理     5\n",
       "消费服务       5\n",
       "其他相关报道     4\n",
       "监管         3\n",
       "资本市场       1\n",
       "Name: local_label, dtype: int64"
      ]
     },
     "execution_count": 95,
     "metadata": {},
     "output_type": "execute_result"
    }
   ],
   "source": [
    "combined_data['local_label'].value_counts()"
   ]
  },
  {
   "cell_type": "markdown",
   "metadata": {},
   "source": [
    "#### 线上线下一致性: mysql 与 local"
   ]
  },
  {
   "cell_type": "code",
   "execution_count": 96,
   "metadata": {
    "ExecuteTime": {
     "end_time": "2018-11-26T06:23:27.156900Z",
     "start_time": "2018-11-26T06:23:27.056895Z"
    }
   },
   "outputs": [
    {
     "name": "stdout",
     "output_type": "stream",
     "text": [
      "0.46511627906976744\n",
      "Wrong    23\n",
      "Right    20\n",
      "Name: R_W, dtype: int64\n"
     ]
    },
    {
     "data": {
      "text/html": [
       "<div>\n",
       "<style scoped>\n",
       "    .dataframe tbody tr th:only-of-type {\n",
       "        vertical-align: middle;\n",
       "    }\n",
       "\n",
       "    .dataframe tbody tr th {\n",
       "        vertical-align: top;\n",
       "    }\n",
       "\n",
       "    .dataframe thead tr th {\n",
       "        text-align: left;\n",
       "    }\n",
       "\n",
       "    .dataframe thead tr:last-of-type th {\n",
       "        text-align: right;\n",
       "    }\n",
       "</style>\n",
       "<table border=\"1\" class=\"dataframe\">\n",
       "  <thead>\n",
       "    <tr>\n",
       "      <th></th>\n",
       "      <th colspan=\"7\" halign=\"left\">len</th>\n",
       "    </tr>\n",
       "    <tr>\n",
       "      <th></th>\n",
       "      <th colspan=\"7\" halign=\"left\">urlhash</th>\n",
       "    </tr>\n",
       "    <tr>\n",
       "      <th>predict_label</th>\n",
       "      <th>交通</th>\n",
       "      <th>产品销售</th>\n",
       "      <th>公司内部管理</th>\n",
       "      <th>环保</th>\n",
       "      <th>监管</th>\n",
       "      <th>行业</th>\n",
       "      <th>All</th>\n",
       "    </tr>\n",
       "    <tr>\n",
       "      <th>local_label</th>\n",
       "      <th></th>\n",
       "      <th></th>\n",
       "      <th></th>\n",
       "      <th></th>\n",
       "      <th></th>\n",
       "      <th></th>\n",
       "      <th></th>\n",
       "    </tr>\n",
       "  </thead>\n",
       "  <tbody>\n",
       "    <tr>\n",
       "      <th>公司内部管理</th>\n",
       "      <td>1</td>\n",
       "      <td>1</td>\n",
       "      <td>0</td>\n",
       "      <td>0</td>\n",
       "      <td>0</td>\n",
       "      <td>1</td>\n",
       "      <td>3</td>\n",
       "    </tr>\n",
       "    <tr>\n",
       "      <th>其他相关报道</th>\n",
       "      <td>1</td>\n",
       "      <td>1</td>\n",
       "      <td>0</td>\n",
       "      <td>0</td>\n",
       "      <td>0</td>\n",
       "      <td>0</td>\n",
       "      <td>2</td>\n",
       "    </tr>\n",
       "    <tr>\n",
       "      <th>噪音</th>\n",
       "      <td>1</td>\n",
       "      <td>0</td>\n",
       "      <td>0</td>\n",
       "      <td>9</td>\n",
       "      <td>0</td>\n",
       "      <td>1</td>\n",
       "      <td>11</td>\n",
       "    </tr>\n",
       "    <tr>\n",
       "      <th>消费服务</th>\n",
       "      <td>1</td>\n",
       "      <td>0</td>\n",
       "      <td>1</td>\n",
       "      <td>1</td>\n",
       "      <td>0</td>\n",
       "      <td>0</td>\n",
       "      <td>3</td>\n",
       "    </tr>\n",
       "    <tr>\n",
       "      <th>行业</th>\n",
       "      <td>0</td>\n",
       "      <td>0</td>\n",
       "      <td>0</td>\n",
       "      <td>0</td>\n",
       "      <td>4</td>\n",
       "      <td>0</td>\n",
       "      <td>4</td>\n",
       "    </tr>\n",
       "    <tr>\n",
       "      <th>All</th>\n",
       "      <td>4</td>\n",
       "      <td>2</td>\n",
       "      <td>1</td>\n",
       "      <td>10</td>\n",
       "      <td>4</td>\n",
       "      <td>2</td>\n",
       "      <td>23</td>\n",
       "    </tr>\n",
       "  </tbody>\n",
       "</table>\n",
       "</div>"
      ],
      "text/plain": [
       "                  len                          \n",
       "              urlhash                          \n",
       "predict_label      交通 产品销售 公司内部管理  环保 监管 行业 All\n",
       "local_label                                    \n",
       "公司内部管理              1    1      0   0  0  1   3\n",
       "其他相关报道              1    1      0   0  0  0   2\n",
       "噪音                  1    0      0   9  0  1  11\n",
       "消费服务                1    0      1   1  0  0   3\n",
       "行业                  0    0      0   0  4  0   4\n",
       "All                 4    2      1  10  4  2  23"
      ]
     },
     "execution_count": 96,
     "metadata": {},
     "output_type": "execute_result"
    }
   ],
   "source": [
    "combined_data['R_W'] = combined_data.apply(lambda x: 'Right' if x['local_label'] == x['predict_label'] else 'Wrong', axis = 1)\n",
    "print(combined_data[combined_data['R_W'] == 'Right'].shape[0]/combined_data.shape[0])\n",
    "print(combined_data['R_W'].value_counts())\n",
    "combined_data[combined_data['R_W'] == 'Wrong'].pivot_table(index = ['local_label'], columns = ['predict_label'], \n",
    "                                                            aggfunc = [len], values = ['urlhash'], \n",
    "                                                            fill_value = 0, margins = True)"
   ]
  },
  {
   "cell_type": "markdown",
   "metadata": {},
   "source": [
    "#### 线上线下一致性: online 与 local"
   ]
  },
  {
   "cell_type": "code",
   "execution_count": 97,
   "metadata": {
    "ExecuteTime": {
     "end_time": "2018-11-26T06:23:40.100641Z",
     "start_time": "2018-11-26T06:23:40.093640Z"
    },
    "collapsed": true
   },
   "outputs": [],
   "source": [
    "combined_data['id'] = range(combined_data.shape[0])\n",
    "combined_data['title'] = combined_data['title'].astype(str) \n",
    "combined_data['content'] = combined_data['content'].astype(str)"
   ]
  },
  {
   "cell_type": "code",
   "execution_count": 32,
   "metadata": {
    "ExecuteTime": {
     "end_time": "2018-12-04T08:52:13.964084Z",
     "start_time": "2018-12-04T08:52:08.618778Z"
    }
   },
   "outputs": [
    {
     "name": "stdout",
     "output_type": "stream",
     "text": [
      "elapsed_time:  5.00\n"
     ]
    },
    {
     "data": {
      "text/html": [
       "<div>\n",
       "<style scoped>\n",
       "    .dataframe tbody tr th:only-of-type {\n",
       "        vertical-align: middle;\n",
       "    }\n",
       "\n",
       "    .dataframe tbody tr th {\n",
       "        vertical-align: top;\n",
       "    }\n",
       "\n",
       "    .dataframe thead th {\n",
       "        text-align: right;\n",
       "    }\n",
       "</style>\n",
       "<table border=\"1\" class=\"dataframe\">\n",
       "  <thead>\n",
       "    <tr style=\"text-align: right;\">\n",
       "      <th></th>\n",
       "      <th>id</th>\n",
       "      <th>predict_label</th>\n",
       "    </tr>\n",
       "  </thead>\n",
       "  <tbody>\n",
       "    <tr>\n",
       "      <th>0</th>\n",
       "      <td>15238562</td>\n",
       "      <td>1</td>\n",
       "    </tr>\n",
       "    <tr>\n",
       "      <th>1</th>\n",
       "      <td>9567425</td>\n",
       "      <td>8</td>\n",
       "    </tr>\n",
       "    <tr>\n",
       "      <th>2</th>\n",
       "      <td>16364349</td>\n",
       "      <td>8</td>\n",
       "    </tr>\n",
       "    <tr>\n",
       "      <th>3</th>\n",
       "      <td>18131378</td>\n",
       "      <td>1</td>\n",
       "    </tr>\n",
       "    <tr>\n",
       "      <th>4</th>\n",
       "      <td>17741383</td>\n",
       "      <td>5</td>\n",
       "    </tr>\n",
       "  </tbody>\n",
       "</table>\n",
       "</div>"
      ],
      "text/plain": [
       "         id  predict_label\n",
       "0  15238562              1\n",
       "1   9567425              8\n",
       "2  16364349              8\n",
       "3  18131378              1\n",
       "4  17741383              5"
      ]
     },
     "execution_count": 32,
     "metadata": {},
     "output_type": "execute_result"
    }
   ],
   "source": [
    "combined_data = pd.read_excel('广发银行数据.xlsx')\n",
    "\n",
    "url = 'http://47.93.183.157:10000/judge_correlation_i'\n",
    "col_name = 'cor'\n",
    "types = 2\n",
    "\n",
    "data = {\"types\":types,\"record\":combined_data.loc[:,['id', 'title' ,'content']].to_dict(orient = 'records')}\n",
    "\n",
    "parse_data, elapsed_time = get_server_res(data, url, col_name)\n",
    "print('elapsed_time: ', elapsed_time)\n",
    "parse_data.columns = ['id', 'predict_label']\n",
    "combined_data = pd.merge(combined_data, parse_data, on  = 'id')\n",
    "parse_data.head()"
   ]
  },
  {
   "cell_type": "code",
   "execution_count": 36,
   "metadata": {
    "ExecuteTime": {
     "end_time": "2018-12-04T08:53:33.990661Z",
     "start_time": "2018-12-04T08:53:33.758648Z"
    }
   },
   "outputs": [
    {
     "name": "stdout",
     "output_type": "stream",
     "text": [
      "(129, 9)\n"
     ]
    },
    {
     "data": {
      "text/html": [
       "<div>\n",
       "<style scoped>\n",
       "    .dataframe tbody tr th:only-of-type {\n",
       "        vertical-align: middle;\n",
       "    }\n",
       "\n",
       "    .dataframe tbody tr th {\n",
       "        vertical-align: top;\n",
       "    }\n",
       "\n",
       "    .dataframe thead th {\n",
       "        text-align: right;\n",
       "    }\n",
       "</style>\n",
       "<table border=\"1\" class=\"dataframe\">\n",
       "  <thead>\n",
       "    <tr style=\"text-align: right;\">\n",
       "      <th></th>\n",
       "      <th>id</th>\n",
       "      <th>node_id</th>\n",
       "      <th>tendency</th>\n",
       "      <th>type</th>\n",
       "      <th>group_id</th>\n",
       "      <th>publishtime</th>\n",
       "      <th>title</th>\n",
       "      <th>content</th>\n",
       "      <th>predict_label</th>\n",
       "    </tr>\n",
       "  </thead>\n",
       "  <tbody>\n",
       "    <tr>\n",
       "      <th>0</th>\n",
       "      <td>15238562</td>\n",
       "      <td>1187</td>\n",
       "      <td>-1</td>\n",
       "      <td>3</td>\n",
       "      <td>1</td>\n",
       "      <td>2018-03-21 21:53:58</td>\n",
       "      <td>金融领域风险该戳的脓包要戳 否则有道德风险</td>\n",
       "      <td>金融领域也有一些违法违规行为或者规避风险的行为在兴风作浪。最近我们监管部门主动出手、果...</td>\n",
       "      <td>监管</td>\n",
       "    </tr>\n",
       "    <tr>\n",
       "      <th>1</th>\n",
       "      <td>9567425</td>\n",
       "      <td>1187</td>\n",
       "      <td>-1</td>\n",
       "      <td>3</td>\n",
       "      <td>1</td>\n",
       "      <td>2018-08-04 08:40:24</td>\n",
       "      <td>强监管之风继续吹   7月银监系统罚没金额超8000万</td>\n",
       "      <td>03:12            \\n\\n进入下半年以来，银行业乱象的整治仍在进行。本报记者...</td>\n",
       "      <td>噪音</td>\n",
       "    </tr>\n",
       "    <tr>\n",
       "      <th>2</th>\n",
       "      <td>16364349</td>\n",
       "      <td>1187</td>\n",
       "      <td>-1</td>\n",
       "      <td>3</td>\n",
       "      <td>1</td>\n",
       "      <td>2018-08-02 09:44:43</td>\n",
       "      <td>东莞市发展和改革局行政处罚决定书（东发改价监处〔2018〕21号）</td>\n",
       "      <td>当事人：\\n\\r东莞市臻品表业有限公司\\n\\r地\\n\\r址：\\n\\r东莞市黄江镇胜前岗村环城...</td>\n",
       "      <td>噪音</td>\n",
       "    </tr>\n",
       "    <tr>\n",
       "      <th>3</th>\n",
       "      <td>18131378</td>\n",
       "      <td>1187</td>\n",
       "      <td>0</td>\n",
       "      <td>3</td>\n",
       "      <td>1</td>\n",
       "      <td>2018-12-03 00:00:00</td>\n",
       "      <td>银行严监管边际改善</td>\n",
       "      <td>随着金融去杠杆进入尾声，严监管政策基本出尽，“降\\n利率\\n”阶段对\\n银行\\n负债成本...</td>\n",
       "      <td>监管</td>\n",
       "    </tr>\n",
       "    <tr>\n",
       "      <th>4</th>\n",
       "      <td>17741383</td>\n",
       "      <td>1187</td>\n",
       "      <td>0</td>\n",
       "      <td>3</td>\n",
       "      <td>1</td>\n",
       "      <td>2018-11-27 13:36:00</td>\n",
       "      <td>涉嫌多项违规 信美人寿“相互保”今日下架</td>\n",
       "      <td>来源标题：\\n涉嫌多项违规 信美人寿“相互保”今日下架\\n\\r上证报记者最新获悉，监管部门已...</td>\n",
       "      <td>公司内部管理</td>\n",
       "    </tr>\n",
       "  </tbody>\n",
       "</table>\n",
       "</div>"
      ],
      "text/plain": [
       "         id  node_id  tendency  type  group_id         publishtime  \\\n",
       "0  15238562     1187        -1     3         1 2018-03-21 21:53:58   \n",
       "1   9567425     1187        -1     3         1 2018-08-04 08:40:24   \n",
       "2  16364349     1187        -1     3         1 2018-08-02 09:44:43   \n",
       "3  18131378     1187         0     3         1 2018-12-03 00:00:00   \n",
       "4  17741383     1187         0     3         1 2018-11-27 13:36:00   \n",
       "\n",
       "                               title  \\\n",
       "0              金融领域风险该戳的脓包要戳 否则有道德风险   \n",
       "1        强监管之风继续吹   7月银监系统罚没金额超8000万   \n",
       "2  东莞市发展和改革局行政处罚决定书（东发改价监处〔2018〕21号）   \n",
       "3                          银行严监管边际改善   \n",
       "4               涉嫌多项违规 信美人寿“相互保”今日下架   \n",
       "\n",
       "                                             content predict_label  \n",
       "0  　　 金融领域也有一些违法违规行为或者规避风险的行为在兴风作浪。最近我们监管部门主动出手、果...            监管  \n",
       "1  03:12            \\n\\n进入下半年以来，银行业乱象的整治仍在进行。本报记者...            噪音  \n",
       "2  当事人：\\n\\r东莞市臻品表业有限公司\\n\\r地\\n\\r址：\\n\\r东莞市黄江镇胜前岗村环城...            噪音  \n",
       "3  　　随着金融去杠杆进入尾声，严监管政策基本出尽，“降\\n利率\\n”阶段对\\n银行\\n负债成本...            监管  \n",
       "4  来源标题：\\n涉嫌多项违规 信美人寿“相互保”今日下架\\n\\r上证报记者最新获悉，监管部门已...        公司内部管理  "
      ]
     },
     "execution_count": 36,
     "metadata": {},
     "output_type": "execute_result"
    }
   ],
   "source": [
    "# combined_data['predict_label'] = combined_data['predict_label'].apply(lambda x:class_name_dict[x])\n",
    "combined_data.to_excel('广发银行数据_20181204.xlsx')\n",
    "print(combined_data.shape)\n",
    "combined_data.head()"
   ]
  },
  {
   "cell_type": "code",
   "execution_count": 102,
   "metadata": {
    "ExecuteTime": {
     "end_time": "2018-11-26T06:27:05.589394Z",
     "start_time": "2018-11-26T06:27:04.737345Z"
    }
   },
   "outputs": [
    {
     "name": "stdout",
     "output_type": "stream",
     "text": [
      "elapsed_time:  0.00\n"
     ]
    },
    {
     "data": {
      "text/html": [
       "<div>\n",
       "<style scoped>\n",
       "    .dataframe tbody tr th:only-of-type {\n",
       "        vertical-align: middle;\n",
       "    }\n",
       "\n",
       "    .dataframe tbody tr th {\n",
       "        vertical-align: top;\n",
       "    }\n",
       "\n",
       "    .dataframe thead th {\n",
       "        text-align: right;\n",
       "    }\n",
       "</style>\n",
       "<table border=\"1\" class=\"dataframe\">\n",
       "  <thead>\n",
       "    <tr style=\"text-align: right;\">\n",
       "      <th></th>\n",
       "      <th>id</th>\n",
       "      <th>online_label</th>\n",
       "    </tr>\n",
       "  </thead>\n",
       "  <tbody>\n",
       "    <tr>\n",
       "      <th>0</th>\n",
       "      <td>0</td>\n",
       "      <td>8</td>\n",
       "    </tr>\n",
       "    <tr>\n",
       "      <th>1</th>\n",
       "      <td>1</td>\n",
       "      <td>1</td>\n",
       "    </tr>\n",
       "    <tr>\n",
       "      <th>2</th>\n",
       "      <td>2</td>\n",
       "      <td>2</td>\n",
       "    </tr>\n",
       "    <tr>\n",
       "      <th>3</th>\n",
       "      <td>3</td>\n",
       "      <td>7</td>\n",
       "    </tr>\n",
       "    <tr>\n",
       "      <th>4</th>\n",
       "      <td>4</td>\n",
       "      <td>6</td>\n",
       "    </tr>\n",
       "  </tbody>\n",
       "</table>\n",
       "</div>"
      ],
      "text/plain": [
       "   id  online_label\n",
       "0   0             8\n",
       "1   1             1\n",
       "2   2             2\n",
       "3   3             7\n",
       "4   4             6"
      ]
     },
     "execution_count": 102,
     "metadata": {},
     "output_type": "execute_result"
    }
   ],
   "source": [
    "data = {\"types\":types,\"record\":combined_data.loc[:,['id', 'title' ,'content']].to_dict(orient = 'records')}\n",
    "# url = \"http://47.93.77.19:6001/judge_correlation_yjh\"\n",
    "# col_name = 'sec'\n",
    "\n",
    "# parse_data = get_server_res_yjh(data, url, col_name)\n",
    "parse_data, elapsed_time = get_server_res(data, url, col_name)\n",
    "print('elapsed_time: ', elapsed_time)\n",
    "parse_data.columns = ['id', 'online_label']\n",
    "parse_data.head()"
   ]
  },
  {
   "cell_type": "code",
   "execution_count": 103,
   "metadata": {
    "ExecuteTime": {
     "end_time": "2018-11-26T06:27:10.826694Z",
     "start_time": "2018-11-26T06:27:10.746689Z"
    }
   },
   "outputs": [
    {
     "name": "stdout",
     "output_type": "stream",
     "text": [
      "(43, 16)\n",
      "0.7674418604651163\n",
      "Right    33\n",
      "Wrong    10\n",
      "Name: O_R_W, dtype: int64\n"
     ]
    },
    {
     "data": {
      "text/html": [
       "<div>\n",
       "<style scoped>\n",
       "    .dataframe tbody tr th:only-of-type {\n",
       "        vertical-align: middle;\n",
       "    }\n",
       "\n",
       "    .dataframe tbody tr th {\n",
       "        vertical-align: top;\n",
       "    }\n",
       "\n",
       "    .dataframe thead tr th {\n",
       "        text-align: left;\n",
       "    }\n",
       "\n",
       "    .dataframe thead tr:last-of-type th {\n",
       "        text-align: right;\n",
       "    }\n",
       "</style>\n",
       "<table border=\"1\" class=\"dataframe\">\n",
       "  <thead>\n",
       "    <tr>\n",
       "      <th></th>\n",
       "      <th colspan=\"6\" halign=\"left\">len</th>\n",
       "    </tr>\n",
       "    <tr>\n",
       "      <th></th>\n",
       "      <th colspan=\"6\" halign=\"left\">urlhash</th>\n",
       "    </tr>\n",
       "    <tr>\n",
       "      <th>online_label</th>\n",
       "      <th>交通</th>\n",
       "      <th>公司内部管理</th>\n",
       "      <th>噪音</th>\n",
       "      <th>监管</th>\n",
       "      <th>行业</th>\n",
       "      <th>All</th>\n",
       "    </tr>\n",
       "    <tr>\n",
       "      <th>local_label</th>\n",
       "      <th></th>\n",
       "      <th></th>\n",
       "      <th></th>\n",
       "      <th></th>\n",
       "      <th></th>\n",
       "      <th></th>\n",
       "    </tr>\n",
       "  </thead>\n",
       "  <tbody>\n",
       "    <tr>\n",
       "      <th>公司内部管理</th>\n",
       "      <td>0</td>\n",
       "      <td>0</td>\n",
       "      <td>2</td>\n",
       "      <td>1</td>\n",
       "      <td>0</td>\n",
       "      <td>3</td>\n",
       "    </tr>\n",
       "    <tr>\n",
       "      <th>其他相关报道</th>\n",
       "      <td>0</td>\n",
       "      <td>0</td>\n",
       "      <td>1</td>\n",
       "      <td>0</td>\n",
       "      <td>0</td>\n",
       "      <td>1</td>\n",
       "    </tr>\n",
       "    <tr>\n",
       "      <th>噪音</th>\n",
       "      <td>2</td>\n",
       "      <td>0</td>\n",
       "      <td>0</td>\n",
       "      <td>0</td>\n",
       "      <td>1</td>\n",
       "      <td>3</td>\n",
       "    </tr>\n",
       "    <tr>\n",
       "      <th>消费服务</th>\n",
       "      <td>1</td>\n",
       "      <td>1</td>\n",
       "      <td>0</td>\n",
       "      <td>0</td>\n",
       "      <td>0</td>\n",
       "      <td>2</td>\n",
       "    </tr>\n",
       "    <tr>\n",
       "      <th>行业</th>\n",
       "      <td>0</td>\n",
       "      <td>0</td>\n",
       "      <td>0</td>\n",
       "      <td>1</td>\n",
       "      <td>0</td>\n",
       "      <td>1</td>\n",
       "    </tr>\n",
       "    <tr>\n",
       "      <th>All</th>\n",
       "      <td>3</td>\n",
       "      <td>1</td>\n",
       "      <td>3</td>\n",
       "      <td>2</td>\n",
       "      <td>1</td>\n",
       "      <td>10</td>\n",
       "    </tr>\n",
       "  </tbody>\n",
       "</table>\n",
       "</div>"
      ],
      "text/plain": [
       "                 len                    \n",
       "             urlhash                    \n",
       "online_label      交通 公司内部管理 噪音 监管 行业 All\n",
       "local_label                             \n",
       "公司内部管理             0      0  2  1  0   3\n",
       "其他相关报道             0      0  1  0  0   1\n",
       "噪音                 2      0  0  0  1   3\n",
       "消费服务               1      1  0  0  0   2\n",
       "行业                 0      0  0  1  0   1\n",
       "All                3      1  3  2  1  10"
      ]
     },
     "execution_count": 103,
     "metadata": {},
     "output_type": "execute_result"
    }
   ],
   "source": [
    "combined_data = pd.merge(combined_data, parse_data, on  = 'id')\n",
    "print(combined_data.shape)\n",
    "combined_data['online_label'] = combined_data['online_label'].apply(lambda x:class_name_dict[x])\n",
    "combined_data['O_R_W'] = combined_data.apply(lambda x: 'Right' if x['local_label'] == x['online_label'] else 'Wrong', axis = 1)\n",
    "print(combined_data[combined_data['O_R_W'] == 'Right'].shape[0]/combined_data.shape[0])\n",
    "print(combined_data['O_R_W'].value_counts())\n",
    "combined_data[combined_data['O_R_W'] == 'Wrong'].pivot_table(index = ['local_label'], columns = ['online_label'], \n",
    "                                                            aggfunc = [len], values = ['urlhash'], \n",
    "                                                            fill_value = 0, margins = True)"
   ]
  },
  {
   "cell_type": "markdown",
   "metadata": {},
   "source": [
    "#### 线上线下一致性: online 与 mysql"
   ]
  },
  {
   "cell_type": "code",
   "execution_count": 104,
   "metadata": {
    "ExecuteTime": {
     "end_time": "2018-11-26T06:27:18.387126Z",
     "start_time": "2018-11-26T06:27:18.352124Z"
    }
   },
   "outputs": [
    {
     "name": "stdout",
     "output_type": "stream",
     "text": [
      "0.5348837209302325\n",
      "Right    23\n",
      "Wrong    20\n",
      "Name: O_R_W, dtype: int64\n"
     ]
    }
   ],
   "source": [
    "combined_data['O_R_W'] = combined_data.apply(lambda x: 'Right' if x['predict_label'] == x['online_label'] else 'Wrong', axis = 1)\n",
    "print(combined_data[combined_data['O_R_W'] == 'Right'].shape[0]/combined_data.shape[0])\n",
    "print(combined_data['O_R_W'].value_counts())\n",
    "# combined_data[combined_data['O_R_W'] == 'Wrong'].pivot_table(index = ['predict_label'], \n",
    "#                                                              columns = ['online_label'], \n",
    "#                                                              aggfunc = [len], values = ['urlhash'], \n",
    "#                                                              fill_value = 0, margins = True)"
   ]
  },
  {
   "cell_type": "markdown",
   "metadata": {},
   "source": [
    "### 倾向性"
   ]
  },
  {
   "cell_type": "code",
   "execution_count": 110,
   "metadata": {
    "ExecuteTime": {
     "end_time": "2018-11-15T08:37:47.541957Z",
     "start_time": "2018-11-15T08:37:47.521956Z"
    }
   },
   "outputs": [
    {
     "data": {
      "text/html": [
       "<div>\n",
       "<style scoped>\n",
       "    .dataframe tbody tr th:only-of-type {\n",
       "        vertical-align: middle;\n",
       "    }\n",
       "\n",
       "    .dataframe tbody tr th {\n",
       "        vertical-align: top;\n",
       "    }\n",
       "\n",
       "    .dataframe thead th {\n",
       "        text-align: right;\n",
       "    }\n",
       "</style>\n",
       "<table border=\"1\" class=\"dataframe\">\n",
       "  <thead>\n",
       "    <tr style=\"text-align: right;\">\n",
       "      <th></th>\n",
       "      <th>type</th>\n",
       "      <th>urlhash</th>\n",
       "      <th>predict_label</th>\n",
       "      <th>label</th>\n",
       "      <th>title</th>\n",
       "      <th>content</th>\n",
       "      <th>group_id</th>\n",
       "      <th>publishtime</th>\n",
       "      <th>tendency</th>\n",
       "      <th>title_content</th>\n",
       "    </tr>\n",
       "  </thead>\n",
       "  <tbody>\n",
       "    <tr>\n",
       "      <th>10724</th>\n",
       "      <td>中国人保</td>\n",
       "      <td>4823901446525329408</td>\n",
       "      <td>噪音</td>\n",
       "      <td>NaN</td>\n",
       "      <td>因祸得福！CDR基金惊现大动作</td>\n",
       "      <td>渐渐被市场遗忘CDR基金，最近又曝出新动向。\\n\\n11月7日晚间，中国人保A股IPO网下初...</td>\n",
       "      <td>新闻客户端</td>\n",
       "      <td>2018-11-11 12:28:47</td>\n",
       "      <td>-1</td>\n",
       "      <td>因祸得福！CDR基金惊现大动作。渐渐被市场遗忘CDR基金，最近又曝出新动向。\\n\\n11月7...</td>\n",
       "    </tr>\n",
       "    <tr>\n",
       "      <th>4469</th>\n",
       "      <td>中国人保</td>\n",
       "      <td>2875199957075597824</td>\n",
       "      <td>噪音</td>\n",
       "      <td>NaN</td>\n",
       "      <td>【招聘】中国人民财产保险股份有限公司珠海市分公司2019年校招</td>\n",
       "      <td>一 公司简介 （一）中国人民财产保险股份有限公司简介 中国人民财产保险股份有限公司（PICC...</td>\n",
       "      <td>微信</td>\n",
       "      <td>2018-11-13 13:29:47</td>\n",
       "      <td>0</td>\n",
       "      <td>【招聘】中国人民财产保险股份有限公司珠海市分公司2019年校招。一 公司简介 （一）中国人民...</td>\n",
       "    </tr>\n",
       "  </tbody>\n",
       "</table>\n",
       "</div>"
      ],
      "text/plain": [
       "       type              urlhash predict_label  label  \\\n",
       "10724  中国人保  4823901446525329408            噪音    NaN   \n",
       "4469   中国人保  2875199957075597824            噪音    NaN   \n",
       "\n",
       "                                 title  \\\n",
       "10724                  因祸得福！CDR基金惊现大动作   \n",
       "4469   【招聘】中国人民财产保险股份有限公司珠海市分公司2019年校招   \n",
       "\n",
       "                                                 content group_id  \\\n",
       "10724  渐渐被市场遗忘CDR基金，最近又曝出新动向。\\n\\n11月7日晚间，中国人保A股IPO网下初...    新闻客户端   \n",
       "4469   一 公司简介 （一）中国人民财产保险股份有限公司简介 中国人民财产保险股份有限公司（PICC...       微信   \n",
       "\n",
       "              publishtime  tendency  \\\n",
       "10724 2018-11-11 12:28:47        -1   \n",
       "4469  2018-11-13 13:29:47         0   \n",
       "\n",
       "                                           title_content  \n",
       "10724  因祸得福！CDR基金惊现大动作。渐渐被市场遗忘CDR基金，最近又曝出新动向。\\n\\n11月7...  \n",
       "4469   【招聘】中国人民财产保险股份有限公司珠海市分公司2019年校招。一 公司简介 （一）中国人民...  "
      ]
     },
     "execution_count": 110,
     "metadata": {},
     "output_type": "execute_result"
    }
   ],
   "source": [
    "combined_data.iloc[:2, :]"
   ]
  },
  {
   "cell_type": "markdown",
   "metadata": {},
   "source": [
    "#### CBRC"
   ]
  },
  {
   "cell_type": "code",
   "execution_count": null,
   "metadata": {
    "collapsed": true
   },
   "outputs": [],
   "source": [
    "from sklearn.externals import joblib\n",
    "pipeline_old = joblib.load( \"model/cbrc_tendency_pipeline_20181114.pkl.z\")\n",
    "\n",
    "url = 'http://47.93.183.157:6001/tendency_analysis_b'\n",
    "col_name = 'tendency'\n",
    "types = 1\n",
    "\n",
    "combined_data['title_content'] = combined_data['title'].astype(str) + '。' + combined_data['content'].astype(str)\n",
    "title_content = pre_cor_cbrc.handle_contents(combined_data['title_content'].tolist())\n",
    "print(len(title_content))"
   ]
  },
  {
   "cell_type": "markdown",
   "metadata": {},
   "source": [
    "#### CIRC"
   ]
  },
  {
   "cell_type": "code",
   "execution_count": 118,
   "metadata": {
    "ExecuteTime": {
     "end_time": "2018-11-26T06:31:59.882227Z",
     "start_time": "2018-11-26T06:31:59.087181Z"
    }
   },
   "outputs": [
    {
     "name": "stdout",
     "output_type": "stream",
     "text": [
      "43\n"
     ]
    }
   ],
   "source": [
    "from sklearn.externals import joblib\n",
    "pipeline_old = joblib.load( \"model/circ_chapter_tendency_1113.pkl.z\")\n",
    "\n",
    "url = 'http://47.93.183.157:10000/tendency_analysis_i'\n",
    "col_name = 'tendency'\n",
    "types = 5\n",
    "\n",
    "combined_data['title_content'] = combined_data['title'].astype(str) + '。' + combined_data['content'].astype(str)\n",
    "title_content = pre_cor_circ.handle_contents(combined_data['title_content'].tolist())\n",
    "print(len(title_content))"
   ]
  },
  {
   "cell_type": "markdown",
   "metadata": {},
   "source": [
    "#### pre"
   ]
  },
  {
   "cell_type": "code",
   "execution_count": 119,
   "metadata": {
    "ExecuteTime": {
     "end_time": "2018-11-26T06:32:00.498262Z",
     "start_time": "2018-11-26T06:32:00.410257Z"
    },
    "collapsed": true
   },
   "outputs": [],
   "source": [
    "local_label = pipeline_old.predict(title_content)\n",
    "local_proba = pipeline_old.predict_proba(title_content)"
   ]
  },
  {
   "cell_type": "code",
   "execution_count": 120,
   "metadata": {
    "ExecuteTime": {
     "end_time": "2018-11-26T06:32:01.197302Z",
     "start_time": "2018-11-26T06:32:01.164300Z"
    }
   },
   "outputs": [
    {
     "name": "stdout",
     "output_type": "stream",
     "text": [
      "(43, 13)\n"
     ]
    },
    {
     "data": {
      "text/html": [
       "<div>\n",
       "<style scoped>\n",
       "    .dataframe tbody tr th:only-of-type {\n",
       "        vertical-align: middle;\n",
       "    }\n",
       "\n",
       "    .dataframe tbody tr th {\n",
       "        vertical-align: top;\n",
       "    }\n",
       "\n",
       "    .dataframe thead th {\n",
       "        text-align: right;\n",
       "    }\n",
       "</style>\n",
       "<table border=\"1\" class=\"dataframe\">\n",
       "  <thead>\n",
       "    <tr style=\"text-align: right;\">\n",
       "      <th></th>\n",
       "      <th>gather_type</th>\n",
       "      <th>type</th>\n",
       "      <th>urlhash</th>\n",
       "      <th>predict_label</th>\n",
       "      <th>label</th>\n",
       "      <th>title</th>\n",
       "      <th>content</th>\n",
       "      <th>group_id</th>\n",
       "      <th>publishtime</th>\n",
       "      <th>tendency</th>\n",
       "      <th>title_content</th>\n",
       "      <th>local_label</th>\n",
       "      <th>local_proba</th>\n",
       "    </tr>\n",
       "  </thead>\n",
       "  <tbody>\n",
       "    <tr>\n",
       "      <th>0</th>\n",
       "      <td>补录</td>\n",
       "      <td>中国人保</td>\n",
       "      <td>-1451164327749029888</td>\n",
       "      <td>环保</td>\n",
       "      <td>NaN</td>\n",
       "      <td>11月18日21时40分新疆和田地区于田县发生3.0级地震</td>\n",
       "      <td>据中国地震台网测定，北京时间2018年11月18日21时40分在新疆和田地区于田县（北纬36...</td>\n",
       "      <td>新闻</td>\n",
       "      <td>2018-11-18 21:58:50</td>\n",
       "      <td>-1</td>\n",
       "      <td>11月18日21时40分新疆和田地区于田县发生3.0级地震。据中国地震台网测定，北京时间20...</td>\n",
       "      <td>-1</td>\n",
       "      <td>1.0</td>\n",
       "    </tr>\n",
       "    <tr>\n",
       "      <th>0</th>\n",
       "      <td>补录</td>\n",
       "      <td>中国人保</td>\n",
       "      <td>-6173404825726358528</td>\n",
       "      <td>监管</td>\n",
       "      <td>NaN</td>\n",
       "      <td>周亮：民营经济离场论调极其错误 银保监会对国有和民营经济一视同仁</td>\n",
       "      <td>11月19日，在第九届财新峰会上，中国银行保险监督管理委员会副主席周亮表示，改革开放40年中...</td>\n",
       "      <td>新闻</td>\n",
       "      <td>2018-11-19 11:09:19</td>\n",
       "      <td>0</td>\n",
       "      <td>周亮：民营经济离场论调极其错误 银保监会对国有和民营经济一视同仁。11月19日，在第九届财新...</td>\n",
       "      <td>0</td>\n",
       "      <td>1.0</td>\n",
       "    </tr>\n",
       "  </tbody>\n",
       "</table>\n",
       "</div>"
      ],
      "text/plain": [
       "  gather_type  type              urlhash predict_label  label  \\\n",
       "0          补录  中国人保 -1451164327749029888            环保    NaN   \n",
       "0          补录  中国人保 -6173404825726358528            监管    NaN   \n",
       "\n",
       "                              title  \\\n",
       "0     11月18日21时40分新疆和田地区于田县发生3.0级地震   \n",
       "0  周亮：民营经济离场论调极其错误 银保监会对国有和民营经济一视同仁   \n",
       "\n",
       "                                             content group_id  \\\n",
       "0  据中国地震台网测定，北京时间2018年11月18日21时40分在新疆和田地区于田县（北纬36...       新闻   \n",
       "0  11月19日，在第九届财新峰会上，中国银行保险监督管理委员会副主席周亮表示，改革开放40年中...       新闻   \n",
       "\n",
       "          publishtime  tendency  \\\n",
       "0 2018-11-18 21:58:50        -1   \n",
       "0 2018-11-19 11:09:19         0   \n",
       "\n",
       "                                       title_content  local_label  local_proba  \n",
       "0  11月18日21时40分新疆和田地区于田县发生3.0级地震。据中国地震台网测定，北京时间20...           -1          1.0  \n",
       "0  周亮：民营经济离场论调极其错误 银保监会对国有和民营经济一视同仁。11月19日，在第九届财新...            0          1.0  "
      ]
     },
     "execution_count": 120,
     "metadata": {},
     "output_type": "execute_result"
    }
   ],
   "source": [
    "combined_data['local_label'] = local_label\n",
    "combined_data['local_proba'] = local_proba.max(axis = 1)\n",
    "# combined_data['local_label'] = combined_data['local_label'].apply(lambda x:class_name_dict[x])\n",
    "print(combined_data.shape)\n",
    "combined_data.iloc[:2, :]"
   ]
  },
  {
   "cell_type": "markdown",
   "metadata": {},
   "source": [
    "#### 线上线下一致性: mysql 与 local"
   ]
  },
  {
   "cell_type": "code",
   "execution_count": 121,
   "metadata": {
    "ExecuteTime": {
     "end_time": "2018-11-26T06:32:02.856397Z",
     "start_time": "2018-11-26T06:32:02.793393Z"
    }
   },
   "outputs": [
    {
     "name": "stdout",
     "output_type": "stream",
     "text": [
      "0.813953488372093\n",
      "Right    35\n",
      "Wrong     8\n",
      "Name: R_W, dtype: int64\n"
     ]
    },
    {
     "data": {
      "text/html": [
       "<div>\n",
       "<style scoped>\n",
       "    .dataframe tbody tr th:only-of-type {\n",
       "        vertical-align: middle;\n",
       "    }\n",
       "\n",
       "    .dataframe tbody tr th {\n",
       "        vertical-align: top;\n",
       "    }\n",
       "\n",
       "    .dataframe thead tr th {\n",
       "        text-align: left;\n",
       "    }\n",
       "\n",
       "    .dataframe thead tr:last-of-type th {\n",
       "        text-align: right;\n",
       "    }\n",
       "</style>\n",
       "<table border=\"1\" class=\"dataframe\">\n",
       "  <thead>\n",
       "    <tr>\n",
       "      <th></th>\n",
       "      <th colspan=\"2\" halign=\"left\">len</th>\n",
       "    </tr>\n",
       "    <tr>\n",
       "      <th></th>\n",
       "      <th colspan=\"2\" halign=\"left\">urlhash</th>\n",
       "    </tr>\n",
       "    <tr>\n",
       "      <th>tendency</th>\n",
       "      <th>0</th>\n",
       "      <th>All</th>\n",
       "    </tr>\n",
       "    <tr>\n",
       "      <th>local_label</th>\n",
       "      <th></th>\n",
       "      <th></th>\n",
       "    </tr>\n",
       "  </thead>\n",
       "  <tbody>\n",
       "    <tr>\n",
       "      <th>-1</th>\n",
       "      <td>8</td>\n",
       "      <td>8</td>\n",
       "    </tr>\n",
       "    <tr>\n",
       "      <th>All</th>\n",
       "      <td>8</td>\n",
       "      <td>8</td>\n",
       "    </tr>\n",
       "  </tbody>\n",
       "</table>\n",
       "</div>"
      ],
      "text/plain": [
       "                len    \n",
       "            urlhash    \n",
       "tendency          0 All\n",
       "local_label            \n",
       "-1                8   8\n",
       "All               8   8"
      ]
     },
     "execution_count": 121,
     "metadata": {},
     "output_type": "execute_result"
    }
   ],
   "source": [
    "combined_data['R_W'] = combined_data.apply(lambda x: 'Right' if x['local_label'] == x['tendency'] else 'Wrong', axis = 1)\n",
    "print(combined_data[combined_data['R_W'] == 'Right'].shape[0]/combined_data.shape[0])\n",
    "print(combined_data['R_W'].value_counts())\n",
    "combined_data[combined_data['R_W'] == 'Wrong'].pivot_table(index = ['local_label'], columns = ['tendency'], \n",
    "                                                            aggfunc = [len], values = ['urlhash'], \n",
    "                                                            fill_value = 0, margins = True)"
   ]
  },
  {
   "cell_type": "markdown",
   "metadata": {},
   "source": [
    "#### 线上线下一致性: online 与 local"
   ]
  },
  {
   "cell_type": "code",
   "execution_count": 122,
   "metadata": {
    "ExecuteTime": {
     "end_time": "2018-11-26T06:32:06.366597Z",
     "start_time": "2018-11-26T06:32:06.350597Z"
    },
    "collapsed": true
   },
   "outputs": [],
   "source": [
    "combined_data['id'] = range(combined_data.shape[0])\n",
    "combined_data['title'] = combined_data['title'].astype(str) \n",
    "combined_data['content'] = combined_data['content'].astype(str)"
   ]
  },
  {
   "cell_type": "code",
   "execution_count": 123,
   "metadata": {
    "ExecuteTime": {
     "end_time": "2018-11-26T06:32:09.767792Z",
     "start_time": "2018-11-26T06:32:07.151642Z"
    }
   },
   "outputs": [
    {
     "name": "stdout",
     "output_type": "stream",
     "text": [
      "elapsed_time:  2.00\n"
     ]
    },
    {
     "data": {
      "text/html": [
       "<div>\n",
       "<style scoped>\n",
       "    .dataframe tbody tr th:only-of-type {\n",
       "        vertical-align: middle;\n",
       "    }\n",
       "\n",
       "    .dataframe tbody tr th {\n",
       "        vertical-align: top;\n",
       "    }\n",
       "\n",
       "    .dataframe thead th {\n",
       "        text-align: right;\n",
       "    }\n",
       "</style>\n",
       "<table border=\"1\" class=\"dataframe\">\n",
       "  <thead>\n",
       "    <tr style=\"text-align: right;\">\n",
       "      <th></th>\n",
       "      <th>id</th>\n",
       "      <th>online_label</th>\n",
       "    </tr>\n",
       "  </thead>\n",
       "  <tbody>\n",
       "    <tr>\n",
       "      <th>0</th>\n",
       "      <td>0</td>\n",
       "      <td>-1</td>\n",
       "    </tr>\n",
       "    <tr>\n",
       "      <th>1</th>\n",
       "      <td>1</td>\n",
       "      <td>0</td>\n",
       "    </tr>\n",
       "    <tr>\n",
       "      <th>2</th>\n",
       "      <td>2</td>\n",
       "      <td>-1</td>\n",
       "    </tr>\n",
       "    <tr>\n",
       "      <th>3</th>\n",
       "      <td>3</td>\n",
       "      <td>0</td>\n",
       "    </tr>\n",
       "    <tr>\n",
       "      <th>4</th>\n",
       "      <td>4</td>\n",
       "      <td>0</td>\n",
       "    </tr>\n",
       "  </tbody>\n",
       "</table>\n",
       "</div>"
      ],
      "text/plain": [
       "   id  online_label\n",
       "0   0            -1\n",
       "1   1             0\n",
       "2   2            -1\n",
       "3   3             0\n",
       "4   4             0"
      ]
     },
     "execution_count": 123,
     "metadata": {},
     "output_type": "execute_result"
    }
   ],
   "source": [
    "data = {\"types\":types, \"record\":combined_data.loc[:,['id', 'title' ,'content']].to_dict(orient = 'records')}\n",
    "# url = \"http://47.93.77.19:6001/judge_correlation_yjh\"\n",
    "# col_name = 'sec'\n",
    "\n",
    "# parse_data = get_server_res_yjh(data, url, col_name)\n",
    "parse_data, elapsed_time = get_server_res(data, url, col_name)\n",
    "print('elapsed_time: ', elapsed_time)\n",
    "parse_data.columns = ['id', 'online_label']\n",
    "parse_data.head()"
   ]
  },
  {
   "cell_type": "code",
   "execution_count": 124,
   "metadata": {
    "ExecuteTime": {
     "end_time": "2018-11-26T06:32:10.181816Z",
     "start_time": "2018-11-26T06:32:10.176815Z"
    },
    "collapsed": true
   },
   "outputs": [],
   "source": [
    "# combined_data.head()\n",
    "# combined_data.iloc[:2, :]"
   ]
  },
  {
   "cell_type": "code",
   "execution_count": 125,
   "metadata": {
    "ExecuteTime": {
     "end_time": "2018-11-26T06:32:10.700845Z",
     "start_time": "2018-11-26T06:32:10.623841Z"
    }
   },
   "outputs": [
    {
     "name": "stdout",
     "output_type": "stream",
     "text": [
      "(43, 16)\n",
      "0.9069767441860465\n",
      "Right    39\n",
      "Wrong     4\n",
      "Name: O_R_W, dtype: int64\n"
     ]
    },
    {
     "data": {
      "text/html": [
       "<div>\n",
       "<style scoped>\n",
       "    .dataframe tbody tr th:only-of-type {\n",
       "        vertical-align: middle;\n",
       "    }\n",
       "\n",
       "    .dataframe tbody tr th {\n",
       "        vertical-align: top;\n",
       "    }\n",
       "\n",
       "    .dataframe thead tr th {\n",
       "        text-align: left;\n",
       "    }\n",
       "\n",
       "    .dataframe thead tr:last-of-type th {\n",
       "        text-align: right;\n",
       "    }\n",
       "</style>\n",
       "<table border=\"1\" class=\"dataframe\">\n",
       "  <thead>\n",
       "    <tr>\n",
       "      <th></th>\n",
       "      <th colspan=\"2\" halign=\"left\">len</th>\n",
       "    </tr>\n",
       "    <tr>\n",
       "      <th></th>\n",
       "      <th colspan=\"2\" halign=\"left\">urlhash</th>\n",
       "    </tr>\n",
       "    <tr>\n",
       "      <th>online_label</th>\n",
       "      <th>0</th>\n",
       "      <th>All</th>\n",
       "    </tr>\n",
       "    <tr>\n",
       "      <th>local_label</th>\n",
       "      <th></th>\n",
       "      <th></th>\n",
       "    </tr>\n",
       "  </thead>\n",
       "  <tbody>\n",
       "    <tr>\n",
       "      <th>-1</th>\n",
       "      <td>4</td>\n",
       "      <td>4</td>\n",
       "    </tr>\n",
       "    <tr>\n",
       "      <th>All</th>\n",
       "      <td>4</td>\n",
       "      <td>4</td>\n",
       "    </tr>\n",
       "  </tbody>\n",
       "</table>\n",
       "</div>"
      ],
      "text/plain": [
       "                 len    \n",
       "             urlhash    \n",
       "online_label       0 All\n",
       "local_label             \n",
       "-1                 4   4\n",
       "All                4   4"
      ]
     },
     "execution_count": 125,
     "metadata": {},
     "output_type": "execute_result"
    }
   ],
   "source": [
    "combined_data = pd.merge(combined_data, parse_data, on  = 'id')\n",
    "print(combined_data.shape)\n",
    "# combined_data['online_label'] = combined_data['online_label'].apply(lambda x:class_name_dict[x])\n",
    "combined_data['O_R_W'] = combined_data.apply(lambda x: 'Right' if x['local_label'] == x['online_label'] else 'Wrong', axis = 1)\n",
    "print(combined_data[combined_data['O_R_W'] == 'Right'].shape[0]/combined_data.shape[0])\n",
    "print(combined_data['O_R_W'].value_counts())\n",
    "combined_data[combined_data['O_R_W'] == 'Wrong'].pivot_table(index = ['local_label'], columns = ['online_label'], \n",
    "                                                            aggfunc = [len], values = ['urlhash'], \n",
    "                                                            fill_value = 0, margins = True)"
   ]
  },
  {
   "cell_type": "markdown",
   "metadata": {},
   "source": [
    "#### 线上线下一致性: online 与 mysql"
   ]
  },
  {
   "cell_type": "code",
   "execution_count": 126,
   "metadata": {
    "ExecuteTime": {
     "end_time": "2018-11-26T06:32:14.542065Z",
     "start_time": "2018-11-26T06:32:14.512063Z"
    }
   },
   "outputs": [
    {
     "name": "stdout",
     "output_type": "stream",
     "text": [
      "0.9069767441860465\n",
      "Right    39\n",
      "Wrong     4\n",
      "Name: O_R_W, dtype: int64\n"
     ]
    }
   ],
   "source": [
    "combined_data['O_R_W'] = combined_data.apply(lambda x: 'Right' if x['tendency'] == x['online_label'] else 'Wrong', axis = 1)\n",
    "print(combined_data[combined_data['O_R_W'] == 'Right'].shape[0]/combined_data.shape[0])\n",
    "print(combined_data['O_R_W'].value_counts())\n",
    "# combined_data[combined_data['O_R_W'] == 'Wrong'].pivot_table(index = ['predict_label'], columns = ['online_label'], \n",
    "#                                                             aggfunc = [len], values = ['urlhash'], \n",
    "#                                                             fill_value = 0, margins = True)"
   ]
  },
  {
   "cell_type": "markdown",
   "metadata": {},
   "source": [
    "# 保存本文件"
   ]
  },
  {
   "cell_type": "code",
   "execution_count": null,
   "metadata": {
    "ExecuteTime": {
     "end_time": "2018-09-11T09:02:47.846195Z",
     "start_time": "2018-09-11T09:02:44.835Z"
    },
    "collapsed": true
   },
   "outputs": [],
   "source": [
    "if 0:\n",
    "    import datetime as dt\n",
    "    \n",
    "    def output_HTML(read_file, output_file):\n",
    "        from nbconvert import HTMLExporter\n",
    "        import codecs\n",
    "        import nbformat\n",
    "        exporter = HTMLExporter()\n",
    "        # read_file is '.ipynb', output_file is '.html'\n",
    "        output_notebook = nbformat.read(read_file, as_version=4)\n",
    "        output, resources = exporter.from_notebook_node(output_notebook)\n",
    "        codecs.open(output_file, 'w', encoding='utf-8').write(output)\n",
    "\n",
    "    html_file_folder = 'html_files'\n",
    "    if not os.path.exists(html_file_folder):\n",
    "        os.makedirs(html_file_folder)\n",
    "\n",
    "    today = dt.datetime.now().strftime('%Y%m%d')\n",
    "    current_file = 'circ_cor_model_2_train.ipynb'\n",
    "    output_file = 'html_files\\%s_%s.html'%(os.path.splitext(current_file)[0], today)\n",
    "    output_HTML(current_file, output_file)"
   ]
  }
 ],
 "metadata": {
  "kernelspec": {
   "display_name": "Python 3",
   "language": "python",
   "name": "python3"
  },
  "language_info": {
   "codemirror_mode": {
    "name": "ipython",
    "version": 3
   },
   "file_extension": ".py",
   "mimetype": "text/x-python",
   "name": "python",
   "nbconvert_exporter": "python",
   "pygments_lexer": "ipython3",
   "version": "3.6.3"
  },
  "toc": {
   "nav_menu": {},
   "number_sections": true,
   "sideBar": true,
   "skip_h1_title": false,
   "title_cell": "Table of Contents",
   "title_sidebar": "Contents",
   "toc_cell": false,
   "toc_position": {
    "height": "calc(100% - 180px)",
    "left": "10px",
    "top": "150px",
    "width": "376px"
   },
   "toc_section_display": true,
   "toc_window_display": true
  },
  "varInspector": {
   "cols": {
    "lenName": 16,
    "lenType": 16,
    "lenVar": 40
   },
   "kernels_config": {
    "python": {
     "delete_cmd_postfix": "",
     "delete_cmd_prefix": "del ",
     "library": "var_list.py",
     "varRefreshCmd": "print(var_dic_list())"
    },
    "r": {
     "delete_cmd_postfix": ") ",
     "delete_cmd_prefix": "rm(",
     "library": "var_list.r",
     "varRefreshCmd": "cat(var_dic_list()) "
    }
   },
   "types_to_exclude": [
    "module",
    "function",
    "builtin_function_or_method",
    "instance",
    "_Feature"
   ],
   "window_display": false
  }
 },
 "nbformat": 4,
 "nbformat_minor": 2
}
