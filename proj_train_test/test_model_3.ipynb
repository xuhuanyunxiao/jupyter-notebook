{
 "cells": [
  {
   "cell_type": "markdown",
   "metadata": {},
   "source": [
    "# 本文件说明\n",
    "- 数据库里导出数据，本地模型、线上模型测试"
   ]
  },
  {
   "cell_type": "markdown",
   "metadata": {},
   "source": [
    "# 基本设置"
   ]
  },
  {
   "cell_type": "code",
   "execution_count": 1,
   "metadata": {
    "ExecuteTime": {
     "end_time": "2019-03-06T05:51:08.500510Z",
     "start_time": "2019-03-06T05:50:45.190327Z"
    },
    "collapsed": true
   },
   "outputs": [],
   "source": [
    "import numpy as np\n",
    "import pandas as pd\n",
    "\n",
    "import os\n",
    "\n",
    "import requests,json\n",
    "from sklearn.externals import joblib\n",
    "\n",
    "import seaborn as sns\n",
    "import matplotlib as mpl\n",
    "import matplotlib.pyplot as plt\n",
    "%matplotlib inline\n",
    "\n",
    "import warnings\n",
    "warnings.filterwarnings('ignore')"
   ]
  },
  {
   "cell_type": "code",
   "execution_count": 2,
   "metadata": {
    "ExecuteTime": {
     "end_time": "2019-03-06T05:51:13.592554Z",
     "start_time": "2019-03-06T05:51:08.511467Z"
    }
   },
   "outputs": [
    {
     "name": "stderr",
     "output_type": "stream",
     "text": [
      "Building prefix dict from the default dictionary ...\n",
      "Loading model from cache C:\\Users\\ADMINI~1\\AppData\\Local\\Temp\\jieba.cache\n",
      "Loading model cost 1.326 seconds.\n",
      "Prefix dict has been built succesfully.\n"
     ]
    }
   ],
   "source": [
    "from toolkits.setup.date_time import get_day_list\n",
    "from toolkits.setup import specific_func\n",
    "\n",
    "from toolkits.nlp import pre_cor_circ\n",
    "from toolkits.nlp import pre_cor_cbrc"
   ]
  },
  {
   "cell_type": "code",
   "execution_count": 3,
   "metadata": {
    "ExecuteTime": {
     "end_time": "2019-03-06T05:51:15.396234Z",
     "start_time": "2019-03-06T05:51:13.594560Z"
    },
    "collapsed": true
   },
   "outputs": [],
   "source": [
    "%load_ext autoreload\n",
    "%autoreload 2"
   ]
  },
  {
   "cell_type": "markdown",
   "metadata": {
    "collapsed": true
   },
   "source": [
    "## 一些函数"
   ]
  },
  {
   "cell_type": "code",
   "execution_count": 4,
   "metadata": {
    "ExecuteTime": {
     "end_time": "2019-03-06T05:51:15.594744Z",
     "start_time": "2019-03-06T05:51:15.399225Z"
    },
    "collapsed": true
   },
   "outputs": [],
   "source": [
    "def get_server_res_yjh(data, url, col_name):\n",
    "    '''\n",
    "    服务器接口测试程序\n",
    "    传入 dict, 传出 DataFrame\n",
    "    '''\n",
    "    # data = {'record':[{'id':0,'title':'ss','content':'zzz'},]}\n",
    "    # data = {\"record\":marked_human_data.iloc[:5,:3].to_dict(orient = 'records')}\n",
    "    # url \"http://47.93.77.19:10000/correlation_negative\"\n",
    "    headers={'content-type':'application/json'}\n",
    "    result = requests.post(url,\n",
    "                      data = json.dumps(data),\n",
    "                      headers=headers, allow_redirects=True)\n",
    "    # print(result.text)\n",
    "    json_data = json.loads(result.text)\n",
    "    parse_data = []\n",
    "    elapsed_time = json_data['elapsed_time']\n",
    "    for i in range(len(json_data['docs'])):\n",
    "        parse_data.append([json_data['docs'][i]['id'],\n",
    "                          json_data['docs'][i][col_name]])\n",
    "    parse_data = pd.DataFrame(parse_data, columns = ['id', col_name])    \n",
    "    return parse_data , elapsed_time"
   ]
  },
  {
   "cell_type": "code",
   "execution_count": 5,
   "metadata": {
    "ExecuteTime": {
     "end_time": "2019-03-06T05:51:16.481306Z",
     "start_time": "2019-03-06T05:51:15.602767Z"
    },
    "collapsed": true
   },
   "outputs": [],
   "source": [
    "def get_serve_data_yjh(day_list, sql_one_day, url, col_name, save_filename):    \n",
    "    chunksize = 1000\n",
    "    for day_select in day_list:\n",
    "        print('-- day_select: ', day_select)\n",
    "        mysql_data = pd.read_sql(eval(sql_one_day), engine, chunksize= chunksize)\n",
    "        num = 1\n",
    "        combined_data = pd.DataFrame()\n",
    "        for tmp_data in mysql_data:  \n",
    "            print('---- loop num: ', num, 'tmp_data: ', tmp_data.shape)\n",
    "            data = {\"record\":tmp_data.loc[:,['id', 'title' ,'content']].to_dict(orient = 'records')}\n",
    "            parse_data = get_server_res_yjh(data, url, col_name)\n",
    "\n",
    "            parse_data.columns = ['id', 'predict_label']\n",
    "            \n",
    "            parse_data['label'] = ''\n",
    "            combined_tmp = pd.merge(parse_data, tmp_data, on = 'id', how = 'inner')\n",
    "            combined_data = pd.concat([combined_tmp, combined_data])\n",
    "\n",
    "        combined_data['predict_label'] = combined_data['predict_label'].apply(lambda x:class_name_dict[x])\n",
    "        combined_data['group_id'] = combined_data['group_id'].apply(lambda x:group_dict[str(x)])\n",
    "        combined_data.to_excel(eval(save_filename), index = False)\n",
    "        print(combined_data['predict_label'].value_counts())"
   ]
  },
  {
   "cell_type": "code",
   "execution_count": 6,
   "metadata": {
    "ExecuteTime": {
     "end_time": "2019-03-06T05:51:16.757040Z",
     "start_time": "2019-03-06T05:51:16.484317Z"
    },
    "collapsed": true
   },
   "outputs": [],
   "source": [
    "def get_server_res(data, url, col_name):\n",
    "    '''\n",
    "    服务器接口测试程序\n",
    "    传入 dict, 传出 DataFrame\n",
    "    '''\n",
    "    # data = {'record':[{'id':0,'title':'ss','content':'zzz'},]}\n",
    "    # data = {\"record\":marked_human_data.iloc[:5,:3].to_dict(orient = 'records')}\n",
    "    # url \"http://47.93.77.19:10000/correlation_negative\"\n",
    "    headers={'content-type':'application/json'}\n",
    "    result = requests.post(url,\n",
    "                      data = json.dumps(data),\n",
    "                      headers=headers, allow_redirects=True)\n",
    "    # print(result.text)\n",
    "    json_data = json.loads(result.text)\n",
    "    parse_data = []\n",
    "    elapsed_time = json_data['elapsed_time']\n",
    "    for i in range(len(json_data['docs'])):\n",
    "        parse_data.append([json_data['docs'][i]['id'],\n",
    "                          json_data['docs'][i][col_name]])\n",
    "    parse_data = pd.DataFrame(parse_data, columns = ['id', col_name])    \n",
    "    return parse_data, elapsed_time"
   ]
  },
  {
   "cell_type": "code",
   "execution_count": 7,
   "metadata": {
    "ExecuteTime": {
     "end_time": "2019-03-06T05:51:16.990660Z",
     "start_time": "2019-03-06T05:51:16.760055Z"
    },
    "collapsed": true
   },
   "outputs": [],
   "source": [
    "def get_serve_data(day_list, sql_one_day, url, col_name):\n",
    "    combined_data = pd.DataFrame()\n",
    "    for day_select in day_list:\n",
    "        print('-- day_select: ', day_select)\n",
    "        mysql_data = pd.read_sql(eval(sql_one_day), engine)\n",
    "        print('去空值前：', mysql_data.shape)\n",
    "        mysql_data = mysql_data.drop_duplicates(subset = ['title', 'content'])\n",
    "        print('去空值后：', mysql_data.shape)\n",
    "        data = {\"record\":mysql_data.loc[:,['id', 'title' ,'content']].to_dict(orient = 'records')}\n",
    "        \n",
    "        parse_data, elapsed_time = get_server_res(data, url)\n",
    "        print('elapsed_time: ', elapsed_time)\n",
    "        \n",
    "        parse_data.columns = ['id', 'predict_label']\n",
    "        parse_data['predict_label'] = parse_data['predict_label'].apply(lambda x:class_name_dict[x])\n",
    "        parse_data['label'] = ''\n",
    "        combined_cor = pd.merge(parse_data, mysql_data, on = 'id', how = 'inner')\n",
    "        combined_data = pd.concat([combined_data, combined_cor], axis = 0)\n",
    "\n",
    "        print(combined_cor['predict_label'].value_counts())\n",
    "    return combined_data"
   ]
  },
  {
   "cell_type": "markdown",
   "metadata": {},
   "source": [
    "# 基本信息"
   ]
  },
  {
   "cell_type": "code",
   "execution_count": 8,
   "metadata": {
    "ExecuteTime": {
     "end_time": "2019-03-06T05:51:17.177157Z",
     "start_time": "2019-03-06T05:51:16.994673Z"
    }
   },
   "outputs": [
    {
     "data": {
      "text/plain": [
       "{0: '补录',\n",
       " 1: '监管',\n",
       " 2: '行业',\n",
       " 3: '产品销售',\n",
       " 4: '资本市场',\n",
       " 5: '公司内部管理',\n",
       " 6: '消费服务',\n",
       " 7: '其他相关报道',\n",
       " 8: '噪音',\n",
       " 9: '交通',\n",
       " 10: '环保'}"
      ]
     },
     "execution_count": 8,
     "metadata": {},
     "output_type": "execute_result"
    }
   ],
   "source": [
    "label_dic={'补录':0,'监管':1,'行业':2,'产品销售':3,'资本市场':4,'公司内部管理':5,\n",
    "           '消费服务':6,'其他相关报道':7,'噪音':8,'交通':9,'环保':10}\n",
    "class_name_dict = {v: k for k, v in label_dic.items()}\n",
    "class_name_dict"
   ]
  },
  {
   "cell_type": "code",
   "execution_count": 9,
   "metadata": {
    "ExecuteTime": {
     "end_time": "2019-03-06T05:51:17.432838Z",
     "start_time": "2019-03-06T05:51:17.184177Z"
    }
   },
   "outputs": [
    {
     "data": {
      "text/plain": [
       "{'1': '新闻',\n",
       " '11': '微信',\n",
       " '13': '新闻客户端',\n",
       " '15': '推特',\n",
       " '2': '论坛',\n",
       " '3': '博客',\n",
       " '4': '微博',\n",
       " '5': '纸媒',\n",
       " '6': '视频',\n",
       " '7': '外媒',\n",
       " '8': '广播',\n",
       " '9': '电视'}"
      ]
     },
     "execution_count": 9,
     "metadata": {},
     "output_type": "execute_result"
    }
   ],
   "source": [
    "group = '1-新闻，2-论坛，3-博客，4-微博，5-纸媒，6-视频，7-外媒，8-广播，9-电视，11-微信，13-新闻客户端，15-推特'\n",
    "group_dict = dict([x.split('-') for x in group.split('，')])\n",
    "group_dict"
   ]
  },
  {
   "cell_type": "code",
   "execution_count": 10,
   "metadata": {
    "ExecuteTime": {
     "end_time": "2019-03-06T05:51:17.690525Z",
     "start_time": "2019-03-06T05:51:17.437850Z"
    }
   },
   "outputs": [
    {
     "data": {
      "text/plain": [
       "{1: '银监会', 2: '保监会', 3: '中国人寿', 4: '建行北分', 5: '中国人保', 6: '安徽银监局'}"
      ]
     },
     "execution_count": 10,
     "metadata": {},
     "output_type": "execute_result"
    }
   ],
   "source": [
    "proj_dic={'银监会':1,'保监会':2,'中国人寿':3,'建行北分':4,'中国人保':5,'安徽银监局':6}\n",
    "proj_name_dict = {v: k for k, v in proj_dic.items()}\n",
    "proj_name_dict"
   ]
  },
  {
   "cell_type": "code",
   "execution_count": 11,
   "metadata": {
    "ExecuteTime": {
     "end_time": "2019-03-06T05:51:17.879035Z",
     "start_time": "2019-03-06T05:51:17.695536Z"
    }
   },
   "outputs": [
    {
     "data": {
      "text/plain": [
       "{0: '系统采集', 1: '补录', 2: '校正', 3: '导入数据', 4: '其它'}"
      ]
     },
     "execution_count": 11,
     "metadata": {},
     "output_type": "execute_result"
    }
   ],
   "source": [
    "gather_type_dic={'系统采集':0,'补录':1,'校正':2,'导入数据':3,'其它':4}\n",
    "gather_type_name_dict = {v: k for k, v in gather_type_dic.items()}\n",
    "gather_type_name_dict"
   ]
  },
  {
   "cell_type": "code",
   "execution_count": 12,
   "metadata": {
    "ExecuteTime": {
     "end_time": "2019-03-06T05:51:18.851641Z",
     "start_time": "2019-03-06T05:51:18.120679Z"
    }
   },
   "outputs": [
    {
     "ename": "FileNotFoundError",
     "evalue": "[Errno 2] No such file or directory: 'cbirc_result\\\\pom.json'",
     "output_type": "error",
     "traceback": [
      "\u001b[1;31m---------------------------------------------------------------------------\u001b[0m",
      "\u001b[1;31mFileNotFoundError\u001b[0m                         Traceback (most recent call last)",
      "\u001b[1;32m<ipython-input-12-a52218cef7b6>\u001b[0m in \u001b[0;36m<module>\u001b[1;34m()\u001b[0m\n\u001b[0;32m      1\u001b[0m \u001b[0mfile_path\u001b[0m \u001b[1;33m=\u001b[0m \u001b[1;34m'cbirc_result\\pom.json'\u001b[0m\u001b[1;33m\u001b[0m\u001b[0m\n\u001b[0;32m      2\u001b[0m \u001b[1;33m\u001b[0m\u001b[0m\n\u001b[1;32m----> 3\u001b[1;33m \u001b[1;32mwith\u001b[0m \u001b[0mopen\u001b[0m\u001b[1;33m(\u001b[0m\u001b[0mfile_path\u001b[0m\u001b[1;33m,\u001b[0m\u001b[1;34m'r'\u001b[0m\u001b[1;33m,\u001b[0m\u001b[0mencoding\u001b[0m\u001b[1;33m=\u001b[0m\u001b[1;34m'utf-8-sig'\u001b[0m\u001b[1;33m)\u001b[0m \u001b[1;32mas\u001b[0m \u001b[0mjson_file\u001b[0m\u001b[1;33m:\u001b[0m\u001b[1;33m\u001b[0m\u001b[0m\n\u001b[0m\u001b[0;32m      4\u001b[0m     \u001b[0mcbrc_data\u001b[0m \u001b[1;33m=\u001b[0m \u001b[0mjson\u001b[0m\u001b[1;33m.\u001b[0m\u001b[0mload\u001b[0m\u001b[1;33m(\u001b[0m\u001b[0mjson_file\u001b[0m\u001b[1;33m)\u001b[0m\u001b[1;33m\u001b[0m\u001b[0m\n\u001b[0;32m      5\u001b[0m \u001b[1;33m\u001b[0m\u001b[0m\n",
      "\u001b[1;31mFileNotFoundError\u001b[0m: [Errno 2] No such file or directory: 'cbirc_result\\\\pom.json'"
     ]
    }
   ],
   "source": [
    "file_path = 'cbirc_result\\pom.json'\n",
    "\n",
    "with open(file_path,'r',encoding='utf-8-sig') as json_file:\n",
    "    cbrc_data = json.load(json_file)  \n",
    "    \n",
    "# cbrc_data = pd.DataFrame.from_dict(json_data['record'], orient='index' ) \n",
    "# cbrc_data.shape"
   ]
  },
  {
   "cell_type": "code",
   "execution_count": null,
   "metadata": {
    "ExecuteTime": {
     "end_time": "2019-03-06T05:51:18.852638Z",
     "start_time": "2019-03-06T05:50:45.053Z"
    },
    "collapsed": true
   },
   "outputs": [],
   "source": [
    "# from langconv import *\n",
    "from toolkits.nlp.langconv import *\n",
    "\n",
    "def Traditional2Simplified(sentence):\n",
    "    '''\n",
    "    将sentence中的繁体字转为简体字\n",
    "    :param sentence: 待转换的句子\n",
    "    :return: 将句子中繁体字转换为简体字之后的句子\n",
    "    '''\n",
    "    sentence = Converter('zh-hans').convert(sentence)\n",
    "    return sentence\n"
   ]
  },
  {
   "cell_type": "code",
   "execution_count": null,
   "metadata": {
    "ExecuteTime": {
     "end_time": "2019-03-06T05:51:18.854643Z",
     "start_time": "2019-03-06T05:50:45.057Z"
    },
    "collapsed": true
   },
   "outputs": [],
   "source": [
    "index = 481\n",
    "# data = {\"record\":[cbrc_data['record'][index],]}\n",
    "# url = \"http://47.93.77.19:6001/judge_correlation_yjh\"\n",
    "data = {\"record\":[{'id':'1', \n",
    "                   'title': Traditional2Simplified(data['record'][0]['title']),  \n",
    "                   'content': Traditional2Simplified(data['record'][0]['content'])},]}\n",
    "url = \"http://192.168.0.104:8100/judge_correlation_yjh\"\n",
    "col_name = 'sec'\n",
    "\n",
    "parse_data , elapsed_time = get_server_res_yjh(data, url, col_name)\n",
    "print(index, '  耗时：%s s'%(elapsed_time))"
   ]
  },
  {
   "cell_type": "code",
   "execution_count": null,
   "metadata": {
    "ExecuteTime": {
     "end_time": "2019-03-06T05:51:18.855644Z",
     "start_time": "2019-03-06T05:50:45.062Z"
    },
    "collapsed": true
   },
   "outputs": [],
   "source": [
    "data['record'][0]['content']"
   ]
  },
  {
   "cell_type": "code",
   "execution_count": null,
   "metadata": {
    "ExecuteTime": {
     "end_time": "2019-03-06T05:51:18.857650Z",
     "start_time": "2019-03-06T05:50:45.066Z"
    },
    "collapsed": true
   },
   "outputs": [],
   "source": [
    "{\"record\":[cbrc_data['record'][152:155],]}"
   ]
  },
  {
   "cell_type": "code",
   "execution_count": null,
   "metadata": {
    "ExecuteTime": {
     "end_time": "2019-03-06T05:51:18.859655Z",
     "start_time": "2019-03-06T05:50:45.070Z"
    },
    "collapsed": true
   },
   "outputs": [],
   "source": [
    "{\"record\":[cbrc_data['record'][154],]}"
   ]
  },
  {
   "cell_type": "code",
   "execution_count": null,
   "metadata": {
    "ExecuteTime": {
     "end_time": "2019-03-06T05:51:18.860658Z",
     "start_time": "2019-03-06T05:50:45.073Z"
    },
    "collapsed": true
   },
   "outputs": [],
   "source": [
    "# data = {\"record\":combined_data.loc[:,['id', 'title' ,'content']].to_dict(orient = 'records')}\n",
    "import time\n",
    "for index in range(len(cbrc_data['record'])):\n",
    "#     data = {\"record\":[cbrc_data['record'][index],]}\n",
    "#     url = \"http://47.93.77.19:6001/judge_correlation_yjh\"\n",
    "    data = {\"record\":[{'id':cbrc_data['record'][index]['id'], \n",
    "                       'title': Traditional2Simplified(cbrc_data['record'][index]['title']),  \n",
    "                       'content': Traditional2Simplified(cbrc_data['record'][index]['content'])},]}\n",
    "    url = \"http://192.168.0.104:8100/judge_correlation_yjh\"\n",
    "    col_name = 'sec'\n",
    "    \n",
    "    parse_data , elapsed_time = get_server_res_yjh(data, url, col_name)\n",
    "    print(index, '  耗时：%s s'%(elapsed_time))"
   ]
  },
  {
   "cell_type": "code",
   "execution_count": null,
   "metadata": {
    "ExecuteTime": {
     "end_time": "2019-03-06T05:51:18.866673Z",
     "start_time": "2019-03-06T05:50:45.078Z"
    },
    "collapsed": true
   },
   "outputs": [],
   "source": [
    "import time\n",
    "for index in range(len(cbrc_data['record'])):\n",
    "    data = {\"record\":[cbrc_data['record'][index],]}\n",
    "#     url = \"http://47.93.77.19:6001/judge_correlation_yjh\"\n",
    "    url = \"http://192.168.0.104:8100/judge_correlation_yjh\"\n",
    "    col_name = 'sec'\n",
    "    \n",
    "    parse_data , elapsed_time = get_server_res_yjh(data, url, col_name)\n",
    "    print(index, '  耗时：%s s'%(elapsed_time))"
   ]
  },
  {
   "cell_type": "code",
   "execution_count": null,
   "metadata": {
    "ExecuteTime": {
     "end_time": "2019-03-06T05:51:18.870684Z",
     "start_time": "2019-03-06T05:50:45.084Z"
    },
    "collapsed": true
   },
   "outputs": [],
   "source": [
    "data = {\"record\":cbrc_data['record']}\n",
    "#     url = \"http://47.93.77.19:6001/judge_correlation_yjh\"\n",
    "url = \"http://192.168.0.104:8100/judge_correlation_yjh\"\n",
    "col_name = 'sec'\n",
    "\n",
    "parse_data , elapsed_time = get_server_res_yjh(data, url, col_name)\n",
    "print(index, '  耗时：%s s'%(elapsed_time))"
   ]
  },
  {
   "cell_type": "code",
   "execution_count": null,
   "metadata": {
    "ExecuteTime": {
     "end_time": "2019-03-06T05:51:18.871689Z",
     "start_time": "2019-03-06T05:50:45.089Z"
    },
    "collapsed": true
   },
   "outputs": [],
   "source": [
    "parse_data"
   ]
  },
  {
   "cell_type": "code",
   "execution_count": null,
   "metadata": {
    "ExecuteTime": {
     "end_time": "2019-03-06T05:51:18.873695Z",
     "start_time": "2019-03-06T05:50:45.093Z"
    },
    "collapsed": true
   },
   "outputs": [],
   "source": [
    "# data = {\"record\":combined_data.loc[:,['id', 'title' ,'content']].to_dict(orient = 'records')}\n",
    "import time\n",
    "for index in range(len(cbrc_data['record'])):\n",
    "    data = {\"record\":[cbrc_data['record'][index],]}\n",
    "#     url = \"http://47.93.77.19:6001/judge_correlation_yjh\"\n",
    "    url = \"http://192.168.0.104:8100/judge_correlation_yjh\"\n",
    "    col_name = 'sec'\n",
    "    \n",
    "    parse_data , elapsed_time = get_server_res_yjh(data, url, col_name)\n",
    "    print(index, '  耗时：%s s'%(elapsed_time))"
   ]
  },
  {
   "cell_type": "code",
   "execution_count": null,
   "metadata": {
    "ExecuteTime": {
     "end_time": "2019-03-06T05:51:18.876700Z",
     "start_time": "2019-03-06T05:50:45.097Z"
    },
    "collapsed": true
   },
   "outputs": [],
   "source": [
    "data = {\"record\":[cbrc_data['record'][0], ]}\n",
    "data"
   ]
  },
  {
   "cell_type": "code",
   "execution_count": null,
   "metadata": {
    "ExecuteTime": {
     "end_time": "2019-03-06T05:51:18.878706Z",
     "start_time": "2019-03-06T05:50:45.100Z"
    },
    "collapsed": true
   },
   "outputs": [],
   "source": [
    "cbrc_data['record'][0]\n",
    "len(cbrc_data['record'])"
   ]
  },
  {
   "cell_type": "markdown",
   "metadata": {
    "collapsed": true
   },
   "source": [
    "# 保险业--旧"
   ]
  },
  {
   "cell_type": "code",
   "execution_count": 15,
   "metadata": {
    "ExecuteTime": {
     "end_time": "2019-03-06T05:51:51.955741Z",
     "start_time": "2019-03-06T05:51:39.386829Z"
    },
    "collapsed": true
   },
   "outputs": [],
   "source": [
    "engine = specific_func.get_engine('circ')"
   ]
  },
  {
   "cell_type": "markdown",
   "metadata": {
    "collapsed": true
   },
   "source": [
    "## mysql 数据"
   ]
  },
  {
   "cell_type": "markdown",
   "metadata": {},
   "source": [
    "### 八分类"
   ]
  },
  {
   "cell_type": "code",
   "execution_count": 16,
   "metadata": {
    "ExecuteTime": {
     "end_time": "2019-03-06T05:51:52.445040Z",
     "start_time": "2019-03-06T05:51:52.302661Z"
    }
   },
   "outputs": [
    {
     "name": "stdout",
     "output_type": "stream",
     "text": [
      "['2019-03-02', '2019-03-03', '2019-03-04', '2019-03-05']\n"
     ]
    }
   ],
   "source": [
    "# day_select = '2018-09-09'\n",
    "day_list = get_day_list('2019-03-01', '2019-03-05')\n",
    "print(day_list)"
   ]
  },
  {
   "cell_type": "markdown",
   "metadata": {},
   "source": [
    "#### 获取数据--系统采集"
   ]
  },
  {
   "cell_type": "code",
   "execution_count": 17,
   "metadata": {
    "ExecuteTime": {
     "end_time": "2019-03-06T06:12:26.871822Z",
     "start_time": "2019-03-06T05:51:52.824047Z"
    }
   },
   "outputs": [
    {
     "name": "stdout",
     "output_type": "stream",
     "text": [
      "-- day_select:  2019-03-02\n",
      "circ_cor:  (5202, 6)\n",
      "circ_uncor:  (12811, 6)\n",
      "去重前： (18013, 6)\n",
      "去重后： (13402, 6)\n",
      "去空值后： (13402, 6)\n",
      "(13402, 7)\n",
      "噪音        8200\n",
      "资本市场      2173\n",
      "监管         817\n",
      "消费服务       726\n",
      "产品销售       535\n",
      "行业         340\n",
      "公司内部管理     321\n",
      "其他相关报道     290\n",
      "Name: predict_label, dtype: int64\n",
      "-- day_select:  2019-03-03\n",
      "circ_cor:  (4003, 6)\n",
      "circ_uncor:  (7950, 6)\n",
      "去重前： (11953, 6)\n",
      "去重后： (8422, 6)\n",
      "去空值后： (8422, 6)\n",
      "(8422, 7)\n",
      "噪音        4421\n",
      "资本市场      1830\n",
      "监管         511\n",
      "消费服务       488\n",
      "产品销售       411\n",
      "行业         320\n",
      "公司内部管理     245\n",
      "其他相关报道     196\n",
      "Name: predict_label, dtype: int64\n",
      "-- day_select:  2019-03-04\n",
      "circ_cor:  (9473, 6)\n",
      "circ_uncor:  (18880, 6)\n",
      "去重前： (28353, 6)\n",
      "去重后： (20752, 6)\n",
      "去空值后： (20752, 6)\n",
      "(20752, 7)\n",
      "噪音        11321\n",
      "资本市场       4502\n",
      "监管         1399\n",
      "消费服务        952\n",
      "产品销售        738\n",
      "行业          715\n",
      "公司内部管理      588\n",
      "其他相关报道      537\n",
      "Name: predict_label, dtype: int64\n",
      "-- day_select:  2019-03-05\n",
      "circ_cor:  (9010, 6)\n",
      "circ_uncor:  (23014, 6)\n",
      "去重前： (32024, 6)\n",
      "去重后： (22100, 6)\n",
      "去空值后： (22100, 6)\n",
      "(22100, 7)\n",
      "噪音        13090\n",
      "资本市场       3592\n",
      "监管         2362\n",
      "消费服务        733\n",
      "行业          715\n",
      "产品销售        592\n",
      "其他相关报道      547\n",
      "公司内部管理      469\n",
      "Name: predict_label, dtype: int64\n"
     ]
    }
   ],
   "source": [
    "gather_types = '采集'\n",
    "\n",
    "for day_select in day_list:\n",
    "    print('-- day_select: ', day_select)\n",
    "\n",
    "    # 相关数据\n",
    "    sql_one_day = \"select t1.id, t1.group_id,t1.classify as predict_label,\\\n",
    "                        t1.title,t2.center as content, t1.publishtime as publishtime \\\n",
    "                        from wise_web_docinfo t1, wise_web_docinfo_center t2 \\\n",
    "                            where t1.id=t2.doc_id \\\n",
    "                                  and  date_format(t1.publishtime, '%%Y-%%m-%%d') = '{0}' \\\n",
    "                                  and t1.gather_type = 0 \\\n",
    "                                  group by t1.titlehash\".format(day_select) # \n",
    "    # # titlehash 去重后\n",
    "    circ_cor = pd.read_sql(sql_one_day, engine)\n",
    "    print('circ_cor: ', circ_cor.shape  )\n",
    "    \n",
    "    # 不相关数据\n",
    "    sql_one_day = \"select t1.id, t1.group_id,t1.title,t2.center as content, t1.publishtime as publishtime \\\n",
    "                        from wise_web_docinfo_uncorr t1, wise_web_docinfo_center_uncurr t2 \\\n",
    "                            where t1.id=t2.doc_id \\\n",
    "                                  and t1.publishtime >= '{0} 8:00:00' \\\n",
    "                              and t1.publishtime <= '{0} 14:00:00'\".format(day_select)\n",
    "    # 一段时间\n",
    "    circ_uncor = pd.read_sql(sql_one_day, engine)\n",
    "    circ_uncor.insert(2, 'predict_label', 8) # 噪音\n",
    "    print('circ_uncor: ', circ_uncor.shape)\n",
    "\n",
    "    circ_data = pd.concat([circ_cor, circ_uncor], axis = 0)\n",
    "    print('去重前：', circ_data.shape)\n",
    "    circ_data = circ_data.drop_duplicates(subset = 'title')\n",
    "    print('去重后：', circ_data.shape)  \n",
    "    circ_data = circ_data.dropna(subset = ['content'], axis = 0)\n",
    "    print('去空值后：', circ_data.shape)  \n",
    "\n",
    "    circ_data['predict_label'] = circ_data['predict_label'].apply(lambda x:class_name_dict[x])\n",
    "    circ_data['group_id'] = circ_data['group_id'].apply(lambda x:group_dict[str(x)])\n",
    "    circ_data.insert(3, 'label', '')\n",
    "    fea_filename = 'result/circ_result_class/result/%s_circ_class_predict_mysql_%s.xlsx'%(gather_types, \n",
    "                                                                                          day_select)\n",
    "    circ_data.to_excel(fea_filename, index = False)\n",
    "    print(circ_data.shape)\n",
    "    print(circ_data['predict_label'].value_counts())"
   ]
  },
  {
   "cell_type": "markdown",
   "metadata": {},
   "source": [
    "#### 合并 & 保存"
   ]
  },
  {
   "cell_type": "code",
   "execution_count": 20,
   "metadata": {
    "ExecuteTime": {
     "end_time": "2019-03-06T06:25:28.654823Z",
     "start_time": "2019-03-06T06:25:14.087554Z"
    }
   },
   "outputs": [
    {
     "name": "stdout",
     "output_type": "stream",
     "text": [
      "result/circ_result_class/result/采集_circ_class_predict_mysql_2019-03-02.xlsx\n",
      "result/circ_result_class/result/采集_circ_class_predict_mysql_2019-03-03.xlsx\n",
      "result/circ_result_class/result/采集_circ_class_predict_mysql_2019-03-04.xlsx\n",
      "result/circ_result_class/result/采集_circ_class_predict_mysql_2019-03-05.xlsx\n",
      "(64676, 7)\n",
      "去重前： (64676, 7)\n",
      "去重后： (61048, 7)\n",
      "去空值后： (61008, 7)\n",
      "噪音        35276\n",
      "资本市场      11490\n",
      "监管         4597\n",
      "消费服务       2733\n",
      "产品销售       2056\n",
      "行业         1876\n",
      "公司内部管理     1508\n",
      "其他相关报道     1472\n",
      "Name: predict_label, dtype: int64\n"
     ]
    },
    {
     "data": {
      "text/html": [
       "<div>\n",
       "<style scoped>\n",
       "    .dataframe tbody tr th:only-of-type {\n",
       "        vertical-align: middle;\n",
       "    }\n",
       "\n",
       "    .dataframe tbody tr th {\n",
       "        vertical-align: top;\n",
       "    }\n",
       "\n",
       "    .dataframe thead th {\n",
       "        text-align: right;\n",
       "    }\n",
       "</style>\n",
       "<table border=\"1\" class=\"dataframe\">\n",
       "  <thead>\n",
       "    <tr style=\"text-align: right;\">\n",
       "      <th></th>\n",
       "      <th>id</th>\n",
       "      <th>group_id</th>\n",
       "      <th>predict_label</th>\n",
       "      <th>label</th>\n",
       "      <th>title</th>\n",
       "      <th>content</th>\n",
       "      <th>publishtime</th>\n",
       "    </tr>\n",
       "  </thead>\n",
       "  <tbody>\n",
       "    <tr>\n",
       "      <th>0</th>\n",
       "      <td>14246095</td>\n",
       "      <td>新闻</td>\n",
       "      <td>资本市场</td>\n",
       "      <td>NaN</td>\n",
       "      <td>中国人寿(601628)融资融券信息(03-01)</td>\n",
       "      <td>中国人寿(601628)融资融券信息(03-01)2019年03月02日 07:39来源： ...</td>\n",
       "      <td>2019-03-02 07:39:01</td>\n",
       "    </tr>\n",
       "    <tr>\n",
       "      <th>1</th>\n",
       "      <td>14245525</td>\n",
       "      <td>微信</td>\n",
       "      <td>资本市场</td>\n",
       "      <td>NaN</td>\n",
       "      <td>指数再次逼近3000点，下周一能否突破</td>\n",
       "      <td>点击“Top股市之路” 订阅，获取更多股市逻辑！ 昨天复盘看了很久，觉得大金融今天是很有可能...</td>\n",
       "      <td>2019-03-02 06:29:54</td>\n",
       "    </tr>\n",
       "    <tr>\n",
       "      <th>2</th>\n",
       "      <td>14243343</td>\n",
       "      <td>微信</td>\n",
       "      <td>产品销售</td>\n",
       "      <td>NaN</td>\n",
       "      <td>香港保险六问详解之二：如何鉴别保障类产品之重疾险</td>\n",
       "      <td>相信有过购买保险念头的朋友都清楚，保险合同条款晦涩难懂，经常给人一团乱麻的感觉，让人各种理不...</td>\n",
       "      <td>2019-03-02 01:24:46</td>\n",
       "    </tr>\n",
       "    <tr>\n",
       "      <th>3</th>\n",
       "      <td>14287687</td>\n",
       "      <td>新闻</td>\n",
       "      <td>资本市场</td>\n",
       "      <td>NaN</td>\n",
       "      <td>欢迎境外长期资金进入国内市场</td>\n",
       "      <td>3月1日早间,MSCI(明晟公司)表示,将扩大中国A股在MSCI全球基准指数中的纳入因子...</td>\n",
       "      <td>2019-03-02 00:00:00</td>\n",
       "    </tr>\n",
       "    <tr>\n",
       "      <th>4</th>\n",
       "      <td>14248264</td>\n",
       "      <td>新闻</td>\n",
       "      <td>公司内部管理</td>\n",
       "      <td>NaN</td>\n",
       "      <td>华夏保险衡水中支营销渠道召开三超一启动会</td>\n",
       "      <td>2月25日，华夏保险衡水中支营销渠道在职场会议室隆重召开“盛世定乾坤 决胜三超一”启动会，长...</td>\n",
       "      <td>2019-03-02 09:31:41</td>\n",
       "    </tr>\n",
       "  </tbody>\n",
       "</table>\n",
       "</div>"
      ],
      "text/plain": [
       "         id group_id predict_label  label                      title  \\\n",
       "0  14246095       新闻          资本市场    NaN  中国人寿(601628)融资融券信息(03-01)   \n",
       "1  14245525       微信          资本市场    NaN        指数再次逼近3000点，下周一能否突破   \n",
       "2  14243343       微信          产品销售    NaN   香港保险六问详解之二：如何鉴别保障类产品之重疾险   \n",
       "3  14287687       新闻          资本市场    NaN             欢迎境外长期资金进入国内市场   \n",
       "4  14248264       新闻        公司内部管理    NaN       华夏保险衡水中支营销渠道召开三超一启动会   \n",
       "\n",
       "                                             content         publishtime  \n",
       "0  中国人寿(601628)融资融券信息(03-01)2019年03月02日 07:39来源： ... 2019-03-02 07:39:01  \n",
       "1  点击“Top股市之路” 订阅，获取更多股市逻辑！ 昨天复盘看了很久，觉得大金融今天是很有可能... 2019-03-02 06:29:54  \n",
       "2  相信有过购买保险念头的朋友都清楚，保险合同条款晦涩难懂，经常给人一团乱麻的感觉，让人各种理不... 2019-03-02 01:24:46  \n",
       "3  　　3月1日早间,MSCI(明晟公司)表示,将扩大中国A股在MSCI全球基准指数中的纳入因子... 2019-03-02 00:00:00  \n",
       "4  2月25日，华夏保险衡水中支营销渠道在职场会议室隆重召开“盛世定乾坤 决胜三超一”启动会，长... 2019-03-02 09:31:41  "
      ]
     },
     "execution_count": 20,
     "metadata": {},
     "output_type": "execute_result"
    }
   ],
   "source": [
    "combined_data = pd.DataFrame()\n",
    "for day_select in day_list:\n",
    "    file_name = 'result/circ_result_class/result/%s_circ_class_predict_mysql_%s.xlsx'%(gather_types, day_select)\n",
    "    if os.path.isfile(file_name):\n",
    "        print(file_name)\n",
    "        tmp_data = pd.read_excel(file_name)\n",
    "        combined_data = pd.concat([combined_data, tmp_data], axis = 0)\n",
    "\n",
    "if gather_types != '补录':\n",
    "    combined_data = combined_data[combined_data['predict_label'] != '补录']\n",
    "print(combined_data.shape)  \n",
    "print('去重前：', combined_data.shape)\n",
    "combined_data = combined_data.drop_duplicates(subset = 'title')\n",
    "print('去重后：', combined_data.shape)  \n",
    "combined_data = combined_data.dropna(subset = ['content'], axis = 0)\n",
    "print('去空值后：', combined_data.shape)  \n",
    "\n",
    "print(combined_data['predict_label'].value_counts())\n",
    "combined_data.head()"
   ]
  },
  {
   "cell_type": "code",
   "execution_count": 21,
   "metadata": {
    "ExecuteTime": {
     "end_time": "2019-03-06T06:25:34.927689Z",
     "start_time": "2019-03-06T06:25:32.888681Z"
    }
   },
   "outputs": [
    {
     "name": "stdout",
     "output_type": "stream",
     "text": [
      "噪音        35276\n",
      "资本市场      11490\n",
      "监管         4597\n",
      "消费服务       2733\n",
      "产品销售       2056\n",
      "行业         1876\n",
      "公司内部管理     1508\n",
      "其他相关报道     1472\n",
      "Name: predict_label, dtype: int64\n"
     ]
    }
   ],
   "source": [
    "fea_filename = 'result/circ_result_class/result/%s_circ_class_predict_mysql_20190306(0302-0305).xlsx'%gather_types\n",
    "# sel_col = ['行业','资本市场', '消费服务', '公司内部管理', '监管']\n",
    "# sel_col = ['其他相关报道','行业',  '公司内部管理', '监管']\n",
    "sel_col = combined_data['predict_label'].unique().tolist()\n",
    "sel_data = combined_data[combined_data['predict_label'].isin(sel_col)]\n",
    "print(sel_data['predict_label'].value_counts())\n",
    "with pd.ExcelWriter(fea_filename) as writer:\n",
    "    for label in sel_data['predict_label'].unique():\n",
    "        tmp_data = sel_data[sel_data['predict_label'] == label]\n",
    "        if gather_types == '补录':\n",
    "            N = tmp_data.shape[0]\n",
    "        else :\n",
    "            if tmp_data.shape[0] > 200:\n",
    "                N = 200\n",
    "            else :\n",
    "                N = tmp_data.shape[0]\n",
    "    #         if label == '公司内部管理': \n",
    "    #             N = 200\n",
    "        tmp_data.sample(n = N, axis = 0, random_state=3).to_excel(writer,label, index = False)\n",
    "    \n",
    "    writer.save()"
   ]
  },
  {
   "cell_type": "markdown",
   "metadata": {},
   "source": [
    "### 倾向性"
   ]
  },
  {
   "cell_type": "code",
   "execution_count": 15,
   "metadata": {
    "ExecuteTime": {
     "end_time": "2019-02-26T02:56:59.585872Z",
     "start_time": "2019-02-26T02:56:59.360274Z"
    }
   },
   "outputs": [
    {
     "name": "stdout",
     "output_type": "stream",
     "text": [
      "['2019-02-23', '2019-02-24', '2019-02-25']\n"
     ]
    }
   ],
   "source": [
    "# day_select = '2018-09-09'\n",
    "day_list = get_day_list('2019-02-22', '2019-02-25')\n",
    "print(day_list)"
   ]
  },
  {
   "cell_type": "markdown",
   "metadata": {},
   "source": [
    "#### 获取数据"
   ]
  },
  {
   "cell_type": "code",
   "execution_count": 22,
   "metadata": {
    "ExecuteTime": {
     "end_time": "2019-03-06T06:33:39.646289Z",
     "start_time": "2019-03-06T06:25:56.061662Z"
    }
   },
   "outputs": [
    {
     "name": "stdout",
     "output_type": "stream",
     "text": [
      "-- day_select:  2019-03-02\n",
      "circ_cor:  (5202, 7)\n",
      "去重前： (5202, 7)\n",
      "去重后： (5202, 7)\n",
      "去空值后： (5202, 7)\n",
      "(5202, 8)\n",
      "predict_label  产品销售  公司内部管理  其他相关报道  消费服务   监管   行业  资本市场   All\n",
      "tendency                                                       \n",
      "-1                7      55       2   136   48   50   135   433\n",
      "0               528     266     288   590  769  290  2038  4769\n",
      "All             535     321     290   726  817  340  2173  5202\n",
      "-- day_select:  2019-03-03\n",
      "circ_cor:  (4003, 7)\n",
      "去重前： (4003, 7)\n",
      "去重后： (4001, 7)\n",
      "去空值后： (4001, 7)\n",
      "(4001, 8)\n",
      "predict_label  产品销售  公司内部管理  其他相关报道  消费服务   监管   行业  资本市场   All\n",
      "tendency                                                       \n",
      "-1               11      40       1   100   30   28   101   311\n",
      "0               400     205     195   388  481  292  1729  3690\n",
      "All             411     245     196   488  511  320  1830  4001\n",
      "-- day_select:  2019-03-04\n",
      "circ_cor:  (9477, 7)\n",
      "去重前： (9477, 7)\n",
      "去重后： (9435, 7)\n",
      "去空值后： (9435, 7)\n",
      "(9435, 8)\n",
      "predict_label  产品销售  公司内部管理  其他相关报道  消费服务    监管   行业  资本市场   All\n",
      "tendency                                                        \n",
      "-1                3      87       2   168    59  106   190   615\n",
      "0               736     502     536   785  1340  609  4312  8820\n",
      "All             739     589     538   953  1399  715  4502  9435\n",
      "-- day_select:  2019-03-05\n",
      "circ_cor:  (9016, 7)\n",
      "去重前： (9016, 7)\n",
      "去重后： (9016, 7)\n",
      "去空值后： (9016, 7)\n",
      "(9016, 8)\n",
      "predict_label  产品销售  公司内部管理  其他相关报道  消费服务    监管   行业  资本市场   All\n",
      "tendency                                                        \n",
      "-1                9      68       2   123    36   74   187   499\n",
      "0               586     401     545   611  2327  641  3406  8517\n",
      "All             595     469     547   734  2363  715  3593  9016\n"
     ]
    }
   ],
   "source": [
    "for day_select in day_list:\n",
    "    print('-- day_select: ', day_select)\n",
    "\n",
    "    # 相关数据\n",
    "    sql_one_day = \"select t1.id, t1.group_id,t1.classify as predict_label, t1.tendency,\\\n",
    "                        t1.title,t2.center as content, t1.publishtime as publishtime \\\n",
    "                        from wise_web_docinfo t1, wise_web_docinfo_center t2 \\\n",
    "                            where t1.id=t2.doc_id \\\n",
    "                                  and  date_format(t1.publishtime, '%%Y-%%m-%%d') = '{0}' \\\n",
    "                                  and t1.gather_type = 0 \\\n",
    "                                  group by t1.titlehash\".format(day_select) # \n",
    "    # # titlehash 去重后\n",
    "    circ_cor = pd.read_sql(sql_one_day, engine)\n",
    "    print('circ_cor: ', circ_cor.shape  )\n",
    "\n",
    "    circ_data = circ_cor\n",
    "    print('去重前：', circ_data.shape)\n",
    "    circ_data = circ_data.drop_duplicates(subset = 'title')\n",
    "    print('去重后：', circ_data.shape)  \n",
    "    circ_data = circ_data.dropna(subset = ['content'], axis = 0)\n",
    "    print('去空值后：', circ_data.shape)  \n",
    "\n",
    "    circ_data['predict_label'] = circ_data['predict_label'].apply(lambda x:class_name_dict[x])\n",
    "    circ_data['group_id'] = circ_data['group_id'].apply(lambda x:group_dict[str(x)])\n",
    "    circ_data.insert(4, 'label', '')\n",
    "    fea_filename = 'result/circ_result_tendency/result/circ_tendency_predict_mysql_%s.xlsx'%day_select\n",
    "    circ_data.to_excel(fea_filename, index = False)\n",
    "    print(circ_data.shape)\n",
    "    \n",
    "    print(circ_data.pivot_table(index = ['tendency'], columns = ['predict_label'], \n",
    "                          values = 'title', aggfunc=len, \n",
    "                          fill_value=0, margins=True))"
   ]
  },
  {
   "cell_type": "markdown",
   "metadata": {},
   "source": [
    "#### 合并 & 保存"
   ]
  },
  {
   "cell_type": "code",
   "execution_count": 23,
   "metadata": {
    "ExecuteTime": {
     "end_time": "2019-03-06T06:33:45.536990Z",
     "start_time": "2019-03-06T06:33:40.153606Z"
    }
   },
   "outputs": [
    {
     "name": "stdout",
     "output_type": "stream",
     "text": [
      "(27654, 8)\n",
      "去重前： (27654, 8)\n",
      "去重后： (25801, 8)\n",
      "去空值后： (25781, 8)\n",
      " 0    24067\n",
      "-1     1714\n",
      "Name: tendency, dtype: int64\n"
     ]
    },
    {
     "data": {
      "text/html": [
       "<div>\n",
       "<style scoped>\n",
       "    .dataframe tbody tr th:only-of-type {\n",
       "        vertical-align: middle;\n",
       "    }\n",
       "\n",
       "    .dataframe tbody tr th {\n",
       "        vertical-align: top;\n",
       "    }\n",
       "\n",
       "    .dataframe thead th {\n",
       "        text-align: right;\n",
       "    }\n",
       "</style>\n",
       "<table border=\"1\" class=\"dataframe\">\n",
       "  <thead>\n",
       "    <tr style=\"text-align: right;\">\n",
       "      <th></th>\n",
       "      <th>predict_label</th>\n",
       "      <th>产品销售</th>\n",
       "      <th>公司内部管理</th>\n",
       "      <th>其他相关报道</th>\n",
       "      <th>消费服务</th>\n",
       "      <th>监管</th>\n",
       "      <th>行业</th>\n",
       "      <th>资本市场</th>\n",
       "      <th>All</th>\n",
       "    </tr>\n",
       "    <tr>\n",
       "      <th>tendency</th>\n",
       "      <th>group_id</th>\n",
       "      <th></th>\n",
       "      <th></th>\n",
       "      <th></th>\n",
       "      <th></th>\n",
       "      <th></th>\n",
       "      <th></th>\n",
       "      <th></th>\n",
       "      <th></th>\n",
       "    </tr>\n",
       "  </thead>\n",
       "  <tbody>\n",
       "    <tr>\n",
       "      <th rowspan=\"7\" valign=\"top\">-1</th>\n",
       "      <th>博客</th>\n",
       "      <td>0</td>\n",
       "      <td>0</td>\n",
       "      <td>0</td>\n",
       "      <td>0</td>\n",
       "      <td>0</td>\n",
       "      <td>0</td>\n",
       "      <td>5</td>\n",
       "      <td>5</td>\n",
       "    </tr>\n",
       "    <tr>\n",
       "      <th>微信</th>\n",
       "      <td>3</td>\n",
       "      <td>15</td>\n",
       "      <td>0</td>\n",
       "      <td>109</td>\n",
       "      <td>24</td>\n",
       "      <td>44</td>\n",
       "      <td>163</td>\n",
       "      <td>358</td>\n",
       "    </tr>\n",
       "    <tr>\n",
       "      <th>微博</th>\n",
       "      <td>18</td>\n",
       "      <td>47</td>\n",
       "      <td>2</td>\n",
       "      <td>144</td>\n",
       "      <td>25</td>\n",
       "      <td>15</td>\n",
       "      <td>46</td>\n",
       "      <td>297</td>\n",
       "    </tr>\n",
       "    <tr>\n",
       "      <th>新闻</th>\n",
       "      <td>9</td>\n",
       "      <td>154</td>\n",
       "      <td>3</td>\n",
       "      <td>220</td>\n",
       "      <td>100</td>\n",
       "      <td>169</td>\n",
       "      <td>328</td>\n",
       "      <td>983</td>\n",
       "    </tr>\n",
       "    <tr>\n",
       "      <th>新闻客户端</th>\n",
       "      <td>0</td>\n",
       "      <td>4</td>\n",
       "      <td>0</td>\n",
       "      <td>5</td>\n",
       "      <td>3</td>\n",
       "      <td>4</td>\n",
       "      <td>32</td>\n",
       "      <td>48</td>\n",
       "    </tr>\n",
       "    <tr>\n",
       "      <th>纸媒</th>\n",
       "      <td>0</td>\n",
       "      <td>1</td>\n",
       "      <td>0</td>\n",
       "      <td>15</td>\n",
       "      <td>1</td>\n",
       "      <td>4</td>\n",
       "      <td>0</td>\n",
       "      <td>21</td>\n",
       "    </tr>\n",
       "    <tr>\n",
       "      <th>论坛</th>\n",
       "      <td>0</td>\n",
       "      <td>1</td>\n",
       "      <td>0</td>\n",
       "      <td>0</td>\n",
       "      <td>0</td>\n",
       "      <td>1</td>\n",
       "      <td>0</td>\n",
       "      <td>2</td>\n",
       "    </tr>\n",
       "    <tr>\n",
       "      <th rowspan=\"8\" valign=\"top\">0</th>\n",
       "      <th>博客</th>\n",
       "      <td>15</td>\n",
       "      <td>2</td>\n",
       "      <td>0</td>\n",
       "      <td>2</td>\n",
       "      <td>7</td>\n",
       "      <td>0</td>\n",
       "      <td>240</td>\n",
       "      <td>266</td>\n",
       "    </tr>\n",
       "    <tr>\n",
       "      <th>外媒</th>\n",
       "      <td>1</td>\n",
       "      <td>4</td>\n",
       "      <td>6</td>\n",
       "      <td>2</td>\n",
       "      <td>17</td>\n",
       "      <td>1</td>\n",
       "      <td>16</td>\n",
       "      <td>47</td>\n",
       "    </tr>\n",
       "    <tr>\n",
       "      <th>微信</th>\n",
       "      <td>1088</td>\n",
       "      <td>160</td>\n",
       "      <td>443</td>\n",
       "      <td>608</td>\n",
       "      <td>787</td>\n",
       "      <td>399</td>\n",
       "      <td>3353</td>\n",
       "      <td>6838</td>\n",
       "    </tr>\n",
       "    <tr>\n",
       "      <th>微博</th>\n",
       "      <td>395</td>\n",
       "      <td>275</td>\n",
       "      <td>127</td>\n",
       "      <td>530</td>\n",
       "      <td>754</td>\n",
       "      <td>139</td>\n",
       "      <td>1733</td>\n",
       "      <td>3953</td>\n",
       "    </tr>\n",
       "    <tr>\n",
       "      <th>新闻</th>\n",
       "      <td>495</td>\n",
       "      <td>800</td>\n",
       "      <td>820</td>\n",
       "      <td>1028</td>\n",
       "      <td>2690</td>\n",
       "      <td>1019</td>\n",
       "      <td>4837</td>\n",
       "      <td>11689</td>\n",
       "    </tr>\n",
       "    <tr>\n",
       "      <th>新闻客户端</th>\n",
       "      <td>31</td>\n",
       "      <td>17</td>\n",
       "      <td>18</td>\n",
       "      <td>32</td>\n",
       "      <td>132</td>\n",
       "      <td>48</td>\n",
       "      <td>690</td>\n",
       "      <td>968</td>\n",
       "    </tr>\n",
       "    <tr>\n",
       "      <th>纸媒</th>\n",
       "      <td>7</td>\n",
       "      <td>29</td>\n",
       "      <td>51</td>\n",
       "      <td>41</td>\n",
       "      <td>69</td>\n",
       "      <td>33</td>\n",
       "      <td>54</td>\n",
       "      <td>284</td>\n",
       "    </tr>\n",
       "    <tr>\n",
       "      <th>论坛</th>\n",
       "      <td>5</td>\n",
       "      <td>1</td>\n",
       "      <td>5</td>\n",
       "      <td>4</td>\n",
       "      <td>2</td>\n",
       "      <td>1</td>\n",
       "      <td>4</td>\n",
       "      <td>22</td>\n",
       "    </tr>\n",
       "    <tr>\n",
       "      <th>All</th>\n",
       "      <th></th>\n",
       "      <td>2067</td>\n",
       "      <td>1510</td>\n",
       "      <td>1475</td>\n",
       "      <td>2740</td>\n",
       "      <td>4611</td>\n",
       "      <td>1877</td>\n",
       "      <td>11501</td>\n",
       "      <td>25781</td>\n",
       "    </tr>\n",
       "  </tbody>\n",
       "</table>\n",
       "</div>"
      ],
      "text/plain": [
       "predict_label      产品销售  公司内部管理  其他相关报道  消费服务    监管    行业   资本市场    All\n",
       "tendency group_id                                                      \n",
       "-1       博客           0       0       0     0     0     0      5      5\n",
       "         微信           3      15       0   109    24    44    163    358\n",
       "         微博          18      47       2   144    25    15     46    297\n",
       "         新闻           9     154       3   220   100   169    328    983\n",
       "         新闻客户端        0       4       0     5     3     4     32     48\n",
       "         纸媒           0       1       0    15     1     4      0     21\n",
       "         论坛           0       1       0     0     0     1      0      2\n",
       "0        博客          15       2       0     2     7     0    240    266\n",
       "         外媒           1       4       6     2    17     1     16     47\n",
       "         微信        1088     160     443   608   787   399   3353   6838\n",
       "         微博         395     275     127   530   754   139   1733   3953\n",
       "         新闻         495     800     820  1028  2690  1019   4837  11689\n",
       "         新闻客户端       31      17      18    32   132    48    690    968\n",
       "         纸媒           7      29      51    41    69    33     54    284\n",
       "         论坛           5       1       5     4     2     1      4     22\n",
       "All                2067    1510    1475  2740  4611  1877  11501  25781"
      ]
     },
     "execution_count": 23,
     "metadata": {},
     "output_type": "execute_result"
    }
   ],
   "source": [
    "combined_data = pd.DataFrame()\n",
    "for day_select in day_list:\n",
    "    tmp_data = pd.read_excel('result/circ_result_tendency/result/circ_tendency_predict_mysql_%s.xlsx'%day_select)\n",
    "    combined_data = pd.concat([combined_data, tmp_data], axis = 0)\n",
    "\n",
    "combined_data = combined_data[combined_data['predict_label'] != '补录']\n",
    "print(combined_data.shape)  \n",
    "print('去重前：', combined_data.shape)\n",
    "combined_data = combined_data.drop_duplicates(subset = 'title')\n",
    "print('去重后：', combined_data.shape)  \n",
    "combined_data = combined_data.dropna(subset = ['content'], axis = 0)\n",
    "print('去空值后：', combined_data.shape)  \n",
    "\n",
    "print(combined_data['tendency'].value_counts())\n",
    "combined_data.pivot_table(index = ['tendency', 'group_id'], \n",
    "                                columns = ['predict_label'], \n",
    "                                values = 'title', aggfunc=len, \n",
    "                                fill_value=0, margins=True)\n",
    "# combined_data.head()"
   ]
  },
  {
   "cell_type": "code",
   "execution_count": 18,
   "metadata": {
    "ExecuteTime": {
     "end_time": "2019-02-20T03:41:26.748394Z",
     "start_time": "2019-02-20T03:41:26.582956Z"
    },
    "collapsed": true
   },
   "outputs": [],
   "source": [
    "# combined_data_sel = combined_data # [combined_data['predict_label'].isin(['交通', '环保'])]\n",
    "# combined_data_sel.to_excel('circ_result_tendency/circ_tendency_data_20181224(1217-1219).xlsx', index = False)\n",
    "# combined_data_sel['tendency'].value_counts()"
   ]
  },
  {
   "cell_type": "code",
   "execution_count": 24,
   "metadata": {
    "ExecuteTime": {
     "end_time": "2019-03-06T06:33:47.338768Z",
     "start_time": "2019-03-06T06:33:46.176680Z"
    }
   },
   "outputs": [
    {
     "name": "stdout",
     "output_type": "stream",
     "text": [
      " 0    24067\n",
      "-1     1714\n",
      "Name: tendency, dtype: int64\n",
      "正负各 200 条，共 7 类， 每类各 128 条\n",
      "predict_label  产品销售  公司内部管理  其他相关报道  消费服务    监管    行业   资本市场    All\n",
      "tendency                                                           \n",
      "0              2037    1288    1470  2247  4458  1640  10927  24067\n",
      "All            2037    1288    1470  2247  4458  1640  10927  24067\n",
      "tendency: 0, predict_label: 资本市场, size: (128, 8)\n",
      "tendency: 0, predict_label: 产品销售, size: (256, 8)\n",
      "tendency: 0, predict_label: 公司内部管理, size: (384, 8)\n",
      "tendency: 0, predict_label: 监管, size: (512, 8)\n",
      "tendency: 0, predict_label: 消费服务, size: (640, 8)\n",
      "tendency: 0, predict_label: 行业, size: (768, 8)\n",
      "tendency: 0, predict_label: 其他相关报道, size: (896, 8)\n",
      "predict_label  产品销售  公司内部管理  其他相关报道  消费服务  监管  行业  资本市场  All\n",
      "tendency                                                    \n",
      "0                31      28      24    26  24  31    36  200\n",
      "All              31      28      24    26  24  31    36  200\n",
      "predict_label  产品销售  公司内部管理  其他相关报道  消费服务   监管   行业  资本市场   All\n",
      "tendency                                                       \n",
      "-1               30     222       5   493  153  237   574  1714\n",
      "All              30     222       5   493  153  237   574  1714\n",
      "tendency: -1, predict_label: 资本市场, size: (128, 8)\n",
      "tendency: -1, predict_label: 产品销售, size: (158, 8)\n",
      "tendency: -1, predict_label: 公司内部管理, size: (286, 8)\n",
      "tendency: -1, predict_label: 监管, size: (414, 8)\n",
      "tendency: -1, predict_label: 消费服务, size: (542, 8)\n",
      "tendency: -1, predict_label: 行业, size: (670, 8)\n",
      "tendency: -1, predict_label: 其他相关报道, size: (675, 8)\n",
      "predict_label  产品销售  公司内部管理  其他相关报道  消费服务  监管  行业  资本市场  All\n",
      "tendency                                                    \n",
      "-1               12      36       1    34  42  33    42  200\n",
      "All              12      36       1    34  42  33    42  200\n"
     ]
    }
   ],
   "source": [
    "fea_filename = 'result/circ_result_tendency/result/circ_tendency_predict_mysql_20190306(0302-0305).xlsx'\n",
    "# sel_col = combined_data['predict_label'].unique().tolist()\n",
    "# sel_data = combined_data[combined_data['tendency'].isin(sel_col)]\n",
    "print(combined_data['tendency'].value_counts())\n",
    "\n",
    "N = 200 # 每类 N 条数据\n",
    "class_n = int(combined_data['predict_label'].unique().shape[0])\n",
    "n = int(N / class_n) + 100\n",
    "\n",
    "print('正负各 %s 条，共 %s 类， 每类各 %s 条'%(N, class_n, n))\n",
    "with pd.ExcelWriter(fea_filename) as writer:\n",
    "    for tendency in combined_data['tendency'].unique():\n",
    "        tmp_data = pd.DataFrame()\n",
    "        sel_data = combined_data[combined_data['tendency'] == tendency]    \n",
    "        print(sel_data.pivot_table(index = ['tendency'], \n",
    "                            columns = ['predict_label'], \n",
    "                            values = 'title', aggfunc=len, \n",
    "                            fill_value=0, margins=True))  \n",
    "        for predict_label in combined_data['predict_label'].unique():\n",
    "            label_data = sel_data[sel_data['predict_label'] == predict_label]\n",
    "            if label_data.shape[0] > n:\n",
    "                sel_label_data = label_data.sample(n = n, axis = 0, random_state=3)\n",
    "            else :\n",
    "                sel_label_data = label_data\n",
    "            tmp_data = pd.concat([tmp_data, sel_label_data], axis = 0)        \n",
    "            print('tendency: %s, predict_label: %s, size: %s'%(tendency, predict_label, tmp_data.shape))\n",
    "        \n",
    "        if tmp_data.shape[0] > N:\n",
    "            t_n = N\n",
    "        else :\n",
    "            t_n = tmp_data.shape[0]\n",
    "        \n",
    "        tmp_data = tmp_data.sample(n = N, axis = 0, random_state=3)\n",
    "        tmp_data.to_excel(writer,str(tendency), index = False)\n",
    "        print(tmp_data.pivot_table(index = ['tendency'], \n",
    "                                    columns = ['predict_label'], \n",
    "                                    values = 'title', aggfunc=len, \n",
    "                                    fill_value=0, margins=True))    \n",
    "    writer.save()"
   ]
  },
  {
   "cell_type": "markdown",
   "metadata": {},
   "source": [
    "### 补录数据"
   ]
  },
  {
   "cell_type": "code",
   "execution_count": 58,
   "metadata": {
    "ExecuteTime": {
     "end_time": "2018-12-03T09:29:11.314545Z",
     "start_time": "2018-12-03T09:28:41.011812Z"
    }
   },
   "outputs": [
    {
     "name": "stdout",
     "output_type": "stream",
     "text": [
      "title 去重前： (573, 8)\n",
      "title 去重后： (573, 8)\n",
      "content 去重后： (573, 8)\n",
      "title 去空值后： (573, 8)\n"
     ]
    },
    {
     "data": {
      "text/html": [
       "<div>\n",
       "<style scoped>\n",
       "    .dataframe tbody tr th:only-of-type {\n",
       "        vertical-align: middle;\n",
       "    }\n",
       "\n",
       "    .dataframe tbody tr th {\n",
       "        vertical-align: top;\n",
       "    }\n",
       "\n",
       "    .dataframe thead th {\n",
       "        text-align: right;\n",
       "    }\n",
       "</style>\n",
       "<table border=\"1\" class=\"dataframe\">\n",
       "  <thead>\n",
       "    <tr style=\"text-align: right;\">\n",
       "      <th></th>\n",
       "      <th>id</th>\n",
       "      <th>group_id</th>\n",
       "      <th>publishtime</th>\n",
       "      <th>gather_type</th>\n",
       "      <th>tendency</th>\n",
       "      <th>mysql_label</th>\n",
       "      <th>title</th>\n",
       "      <th>content</th>\n",
       "    </tr>\n",
       "  </thead>\n",
       "  <tbody>\n",
       "    <tr>\n",
       "      <th>0</th>\n",
       "      <td>10933233</td>\n",
       "      <td>微信</td>\n",
       "      <td>2018-09-20</td>\n",
       "      <td>1</td>\n",
       "      <td>0</td>\n",
       "      <td>0</td>\n",
       "      <td>外资股东全搜罗：隐身中资险企，财险、寿险市场份额双双接近10%</td>\n",
       "      <td>(图片)\\n\\n说到外资在国内保险市场的表现，很多人首先就会想到市场份额低这一点。确实，自...</td>\n",
       "    </tr>\n",
       "    <tr>\n",
       "      <th>1</th>\n",
       "      <td>10910821</td>\n",
       "      <td>微信</td>\n",
       "      <td>2018-09-18</td>\n",
       "      <td>1</td>\n",
       "      <td>0</td>\n",
       "      <td>0</td>\n",
       "      <td>从“天鸽”到“山竹”，保险业用这些方法更好的“管住”风险</td>\n",
       "      <td>(图片)\\n\\n台风“山竹”在广东西部沿海过境已经3天，得益于国家及地方政府相关部门的及早...</td>\n",
       "    </tr>\n",
       "    <tr>\n",
       "      <th>2</th>\n",
       "      <td>11483454</td>\n",
       "      <td>微信</td>\n",
       "      <td>2018-10-20</td>\n",
       "      <td>1</td>\n",
       "      <td>-1</td>\n",
       "      <td>0</td>\n",
       "      <td>突发，上市公司举报“平安养老风控总监伪造公章夺控制权”</td>\n",
       "      <td>\\n\\t\\t\\t\\t\\t 关于&lt;font color=\"#FF0000\"&gt;平安养老保险&lt;/...</td>\n",
       "    </tr>\n",
       "    <tr>\n",
       "      <th>3</th>\n",
       "      <td>11666987</td>\n",
       "      <td>微信</td>\n",
       "      <td>2018-10-26</td>\n",
       "      <td>1</td>\n",
       "      <td>-1</td>\n",
       "      <td>0</td>\n",
       "      <td>上半年持续亏损   董事长遭逮捕华安保险精达股份玩起“二人转” | 保险</td>\n",
       "      <td>\\n\\t\\t\\t\\t\\t 特华投资与&lt;font color=\"#FF0000\"&gt;华安保险&lt;...</td>\n",
       "    </tr>\n",
       "    <tr>\n",
       "      <th>4</th>\n",
       "      <td>11765888</td>\n",
       "      <td>纸媒</td>\n",
       "      <td>2018-10-31</td>\n",
       "      <td>1</td>\n",
       "      <td>0</td>\n",
       "      <td>0</td>\n",
       "      <td>2018年10月31日--视点--业内专家分析如何保障重疾险消费者权益</td>\n",
       "      <td>\\n\\t\\t\\t\\t\\t \\n\\t\\t\\t\\t\\t今年6月,中国&lt;font color=\"...</td>\n",
       "    </tr>\n",
       "  </tbody>\n",
       "</table>\n",
       "</div>"
      ],
      "text/plain": [
       "         id group_id publishtime  gather_type  tendency  mysql_label  \\\n",
       "0  10933233       微信  2018-09-20            1         0            0   \n",
       "1  10910821       微信  2018-09-18            1         0            0   \n",
       "2  11483454       微信  2018-10-20            1        -1            0   \n",
       "3  11666987       微信  2018-10-26            1        -1            0   \n",
       "4  11765888       纸媒  2018-10-31            1         0            0   \n",
       "\n",
       "                                  title  \\\n",
       "0       外资股东全搜罗：隐身中资险企，财险、寿险市场份额双双接近10%   \n",
       "1          从“天鸽”到“山竹”，保险业用这些方法更好的“管住”风险   \n",
       "2           突发，上市公司举报“平安养老风控总监伪造公章夺控制权”   \n",
       "3  上半年持续亏损   董事长遭逮捕华安保险精达股份玩起“二人转” | 保险   \n",
       "4   2018年10月31日--视点--业内专家分析如何保障重疾险消费者权益   \n",
       "\n",
       "                                             content  \n",
       "0   (图片)\\n\\n说到外资在国内保险市场的表现，很多人首先就会想到市场份额低这一点。确实，自...  \n",
       "1   (图片)\\n\\n台风“山竹”在广东西部沿海过境已经3天，得益于国家及地方政府相关部门的及早...  \n",
       "2   \\n\\t\\t\\t\\t\\t 关于<font color=\"#FF0000\">平安养老保险</...  \n",
       "3   \\n\\t\\t\\t\\t\\t 特华投资与<font color=\"#FF0000\">华安保险<...  \n",
       "4   \\n\\t\\t\\t\\t\\t \\n\\t\\t\\t\\t\\t今年6月,中国<font color=\"...  "
      ]
     },
     "execution_count": 58,
     "metadata": {},
     "output_type": "execute_result"
    }
   ],
   "source": [
    "# 人工补录\n",
    "sql_human_additional = \"select t1.id, t1.group_id, date_format(t1.publishtime,'%%Y-%%m-%%d') as publishtime,  \\\n",
    "                            t1.gather_type, t1.tendency,t1.classify as mysql_label, \\\n",
    "                            t1.title, t2.center as content\\\n",
    "                            from wise_web_docinfo t1, wise_web_docinfo_center t2 \\\n",
    "                                where (date_format(publishtime, '%%Y-%%m-%%d') >= '{0}' and \\\n",
    "                                      date_format(publishtime, '%%Y-%%m-%%d') <= '{1}') and \\\n",
    "                                      t1.id = t2.doc_id and \\\n",
    "                                      t1.gather_type in (1,3) \\\n",
    "                            group by t1.titlehash\".format('2018-09-16', '2018-12-03') \n",
    "\n",
    "human_additional = pd.read_sql(sql_human_additional, engine)\n",
    "human_additional['group_id'] = human_additional['group_id'].apply(lambda x:group_dict[str(x)])\n",
    "print('title 去重前：', human_additional.shape)\n",
    "human_additional = human_additional.drop_duplicates(subset = 'title')\n",
    "print('title 去重后：', human_additional.shape)  \n",
    "human_additional = human_additional.drop_duplicates(subset = ['content'])\n",
    "print('content 去重后：', human_additional.shape)  \n",
    "human_additional = human_additional.dropna(subset = ['title'], axis = 0)\n",
    "print('title 去空值后：', human_additional.shape) \n",
    "human_additional.head()"
   ]
  },
  {
   "cell_type": "code",
   "execution_count": 59,
   "metadata": {
    "ExecuteTime": {
     "end_time": "2018-12-03T09:29:23.324232Z",
     "start_time": "2018-12-03T09:29:12.009585Z"
    }
   },
   "outputs": [
    {
     "name": "stdout",
     "output_type": "stream",
     "text": [
      "行业        180\n",
      "监管        109\n",
      "噪音        106\n",
      "公司内部管理    102\n",
      "资本市场       44\n",
      "消费服务       20\n",
      "产品销售       12\n",
      "Name: predict_label, dtype: int64\n"
     ]
    },
    {
     "data": {
      "text/html": [
       "<div>\n",
       "<style scoped>\n",
       "    .dataframe tbody tr th:only-of-type {\n",
       "        vertical-align: middle;\n",
       "    }\n",
       "\n",
       "    .dataframe tbody tr th {\n",
       "        vertical-align: top;\n",
       "    }\n",
       "\n",
       "    .dataframe thead th {\n",
       "        text-align: right;\n",
       "    }\n",
       "</style>\n",
       "<table border=\"1\" class=\"dataframe\">\n",
       "  <thead>\n",
       "    <tr style=\"text-align: right;\">\n",
       "      <th></th>\n",
       "      <th>id</th>\n",
       "      <th>group_id</th>\n",
       "      <th>publishtime</th>\n",
       "      <th>gather_type</th>\n",
       "      <th>tendency</th>\n",
       "      <th>mysql_label</th>\n",
       "      <th>label</th>\n",
       "      <th>title</th>\n",
       "      <th>content</th>\n",
       "      <th>predict_label</th>\n",
       "    </tr>\n",
       "  </thead>\n",
       "  <tbody>\n",
       "    <tr>\n",
       "      <th>0</th>\n",
       "      <td>10933233</td>\n",
       "      <td>微信</td>\n",
       "      <td>2018-09-20</td>\n",
       "      <td>1</td>\n",
       "      <td>0</td>\n",
       "      <td>0</td>\n",
       "      <td></td>\n",
       "      <td>外资股东全搜罗：隐身中资险企，财险、寿险市场份额双双接近10%</td>\n",
       "      <td>(图片)\\n\\n说到外资在国内保险市场的表现，很多人首先就会想到市场份额低这一点。确实，自...</td>\n",
       "      <td>行业</td>\n",
       "    </tr>\n",
       "    <tr>\n",
       "      <th>1</th>\n",
       "      <td>10910821</td>\n",
       "      <td>微信</td>\n",
       "      <td>2018-09-18</td>\n",
       "      <td>1</td>\n",
       "      <td>0</td>\n",
       "      <td>0</td>\n",
       "      <td></td>\n",
       "      <td>从“天鸽”到“山竹”，保险业用这些方法更好的“管住”风险</td>\n",
       "      <td>(图片)\\n\\n台风“山竹”在广东西部沿海过境已经3天，得益于国家及地方政府相关部门的及早...</td>\n",
       "      <td>行业</td>\n",
       "    </tr>\n",
       "    <tr>\n",
       "      <th>2</th>\n",
       "      <td>11483454</td>\n",
       "      <td>微信</td>\n",
       "      <td>2018-10-20</td>\n",
       "      <td>1</td>\n",
       "      <td>-1</td>\n",
       "      <td>0</td>\n",
       "      <td></td>\n",
       "      <td>突发，上市公司举报“平安养老风控总监伪造公章夺控制权”</td>\n",
       "      <td>\\n\\t\\t\\t\\t\\t 关于&lt;font color=\"#FF0000\"&gt;平安养老保险&lt;/...</td>\n",
       "      <td>资本市场</td>\n",
       "    </tr>\n",
       "    <tr>\n",
       "      <th>3</th>\n",
       "      <td>11666987</td>\n",
       "      <td>微信</td>\n",
       "      <td>2018-10-26</td>\n",
       "      <td>1</td>\n",
       "      <td>-1</td>\n",
       "      <td>0</td>\n",
       "      <td></td>\n",
       "      <td>上半年持续亏损   董事长遭逮捕华安保险精达股份玩起“二人转” | 保险</td>\n",
       "      <td>\\n\\t\\t\\t\\t\\t 特华投资与&lt;font color=\"#FF0000\"&gt;华安保险&lt;...</td>\n",
       "      <td>公司内部管理</td>\n",
       "    </tr>\n",
       "    <tr>\n",
       "      <th>4</th>\n",
       "      <td>11765888</td>\n",
       "      <td>纸媒</td>\n",
       "      <td>2018-10-31</td>\n",
       "      <td>1</td>\n",
       "      <td>0</td>\n",
       "      <td>0</td>\n",
       "      <td></td>\n",
       "      <td>2018年10月31日--视点--业内专家分析如何保障重疾险消费者权益</td>\n",
       "      <td>\\n\\t\\t\\t\\t\\t \\n\\t\\t\\t\\t\\t今年6月,中国&lt;font color=\"...</td>\n",
       "      <td>噪音</td>\n",
       "    </tr>\n",
       "  </tbody>\n",
       "</table>\n",
       "</div>"
      ],
      "text/plain": [
       "         id group_id publishtime  gather_type  tendency  mysql_label label  \\\n",
       "0  10933233       微信  2018-09-20            1         0            0         \n",
       "1  10910821       微信  2018-09-18            1         0            0         \n",
       "2  11483454       微信  2018-10-20            1        -1            0         \n",
       "3  11666987       微信  2018-10-26            1        -1            0         \n",
       "4  11765888       纸媒  2018-10-31            1         0            0         \n",
       "\n",
       "                                  title  \\\n",
       "0       外资股东全搜罗：隐身中资险企，财险、寿险市场份额双双接近10%   \n",
       "1          从“天鸽”到“山竹”，保险业用这些方法更好的“管住”风险   \n",
       "2           突发，上市公司举报“平安养老风控总监伪造公章夺控制权”   \n",
       "3  上半年持续亏损   董事长遭逮捕华安保险精达股份玩起“二人转” | 保险   \n",
       "4   2018年10月31日--视点--业内专家分析如何保障重疾险消费者权益   \n",
       "\n",
       "                                             content predict_label  \n",
       "0   (图片)\\n\\n说到外资在国内保险市场的表现，很多人首先就会想到市场份额低这一点。确实，自...            行业  \n",
       "1   (图片)\\n\\n台风“山竹”在广东西部沿海过境已经3天，得益于国家及地方政府相关部门的及早...            行业  \n",
       "2   \\n\\t\\t\\t\\t\\t 关于<font color=\"#FF0000\">平安养老保险</...          资本市场  \n",
       "3   \\n\\t\\t\\t\\t\\t 特华投资与<font color=\"#FF0000\">华安保险<...        公司内部管理  \n",
       "4   \\n\\t\\t\\t\\t\\t \\n\\t\\t\\t\\t\\t今年6月,中国<font color=\"...            噪音  "
      ]
     },
     "execution_count": 59,
     "metadata": {},
     "output_type": "execute_result"
    }
   ],
   "source": [
    "human_additional['title'] = human_additional['title'].astype(str) \n",
    "human_additional['content'] = human_additional['content'].astype(str)\n",
    "data = {\"record\":human_additional.loc[:,['id', 'title' ,'content']].to_dict(orient = 'records')}\n",
    "url = \"http://47.93.77.19:10000/judge_correlation_i\"\n",
    "col_name = 'cor'\n",
    "parse_data, elapsed_time = get_server_res(data, url, col_name)\n",
    "parse_data.columns = ['id', 'predict_label']\n",
    "human_additional = pd.merge(human_additional, parse_data, on = 'id', how = 'left')\n",
    "human_additional['predict_label'] = human_additional['predict_label'].apply(lambda x:class_name_dict[x])\n",
    "human_additional.insert(6, 'label', '')\n",
    "print(human_additional['predict_label'].value_counts())\n",
    "human_additional.head()"
   ]
  },
  {
   "cell_type": "code",
   "execution_count": 60,
   "metadata": {
    "ExecuteTime": {
     "end_time": "2018-12-03T09:29:24.581304Z",
     "start_time": "2018-12-03T09:29:23.882264Z"
    }
   },
   "outputs": [
    {
     "name": "stdout",
     "output_type": "stream",
     "text": [
      "circ_result_class/result/补录_保监会（旧）_class_predict_mysql_20181203(0917-1203).xlsx\n",
      "行业        180\n",
      "监管        109\n",
      "噪音        106\n",
      "公司内部管理    102\n",
      "资本市场       44\n",
      "消费服务       20\n",
      "产品销售       12\n",
      "Name: predict_label, dtype: int64\n",
      "\n",
      "predict_label  产品销售  公司内部管理   噪音  消费服务   监管   行业  资本市场  All\n",
      "group_id                                                   \n",
      "微信                3      23   27     2   26   69    11  161\n",
      "微博                0       0    1     0    0    0     0    1\n",
      "新闻                9      72   64    15   65   87    31  343\n",
      "新闻客户端             0       4    3     0    7    5     1   20\n",
      "纸媒                0       3    3     1   11   18     1   37\n",
      "视频                0       0    8     1    0    1     0   10\n",
      "论坛                0       0    0     1    0    0     0    1\n",
      "All              12     102  106    20  109  180    44  573\n"
     ]
    }
   ],
   "source": [
    "fea_filename = 'circ_result_class/result/补录_保监会（旧）_class_predict_mysql_20181203(0917-1203).xlsx'\n",
    "print(fea_filename)\n",
    "\n",
    "sel_col = ['噪音', '消费服务', '公司内部管理', '监管',\n",
    "           '行业', '资本市场', '其他相关报道','产品销售','交通','环保']\n",
    "sel_data = human_additional[human_additional['predict_label'].isin(sel_col)]\n",
    "print(sel_data['predict_label'].value_counts())\n",
    "print()\n",
    "\n",
    "c_data = pd.DataFrame()\n",
    "with pd.ExcelWriter(fea_filename) as writer:\n",
    "    for label in sel_data['predict_label'].unique():\n",
    "        tmp_data = sel_data[sel_data['predict_label'] == label]\n",
    "        N = tmp_data.shape[0]            \n",
    "        save_data = tmp_data.sample(n = N, axis = 0, random_state=42)\n",
    "        save_data.to_excel(writer,label, index = False)\n",
    "        c_data = pd.concat([c_data, save_data], axis = 0)\n",
    "    print(c_data.pivot_table(index = ['group_id'], \n",
    "                                columns = ['predict_label'], \n",
    "                                values = 'title', aggfunc=len, \n",
    "                                fill_value=0, margins=True))      \n",
    "    writer.save()"
   ]
  },
  {
   "cell_type": "code",
   "execution_count": 61,
   "metadata": {
    "ExecuteTime": {
     "end_time": "2018-12-03T09:29:25.627363Z",
     "start_time": "2018-12-03T09:29:25.075332Z"
    }
   },
   "outputs": [
    {
     "name": "stdout",
     "output_type": "stream",
     "text": [
      "circ_result_tendency/result/补录_保监会（旧）_tendency_predict_mysql_20181203(0917-1203).xlsx\n",
      " 0    381\n",
      "-1    192\n",
      "Name: tendency, dtype: int64\n"
     ]
    }
   ],
   "source": [
    "fea_filename = 'circ_result_tendency/result/补录_保监会（旧）_tendency_predict_mysql_20181203(0917-1203).xlsx'\n",
    "print(fea_filename)\n",
    "print(human_additional['tendency'].value_counts())\n",
    "\n",
    "with pd.ExcelWriter(fea_filename) as writer:\n",
    "    for tendency in human_additional['tendency'].unique():\n",
    "        sel_data = human_additional[human_additional['tendency'] == tendency]    \n",
    "        t_n = sel_data.shape[0]        \n",
    "        tmp_data = sel_data.sample(n = t_n, axis = 0, random_state=3)\n",
    "        tmp_data.to_excel(writer,str(tendency), index = False)           \n",
    "    writer.save()"
   ]
  },
  {
   "cell_type": "markdown",
   "metadata": {},
   "source": [
    "## 本地模型"
   ]
  },
  {
   "cell_type": "markdown",
   "metadata": {},
   "source": [
    "### 八分类"
   ]
  },
  {
   "cell_type": "code",
   "execution_count": null,
   "metadata": {
    "ExecuteTime": {
     "end_time": "2018-09-20T03:26:26.197443Z",
     "start_time": "2018-09-20T03:26:23.897915Z"
    },
    "collapsed": true
   },
   "outputs": [],
   "source": [
    "from sklearn.externals import joblib\n",
    "pipeline_old = joblib.load( \"model/circ_8classifier_1015.pkl.z\")"
   ]
  },
  {
   "cell_type": "code",
   "execution_count": null,
   "metadata": {
    "ExecuteTime": {
     "end_time": "2018-09-20T03:30:52.594390Z",
     "start_time": "2018-09-20T03:28:37.834752Z"
    },
    "collapsed": true
   },
   "outputs": [],
   "source": [
    "combined_data['title_content'] = combined_data['title'].astype(str) + '。' + combined_data['content'].astype(str)\n",
    "title_content = pre_cor_circ.handle_contents(combined_data['title_content'].tolist())\n",
    "print(len(title_content))"
   ]
  },
  {
   "cell_type": "code",
   "execution_count": null,
   "metadata": {
    "ExecuteTime": {
     "start_time": "2018-09-20T03:50:00.412Z"
    },
    "collapsed": true
   },
   "outputs": [],
   "source": [
    "local_label = pipeline_old.predict(title_content)\n",
    "local_proba = pipeline_old.predict_proba(title_content)\n",
    "\n",
    "combined_data['local_label'] = local_label\n",
    "combined_data['local_proba'] = local_proba.max(axis = 1)\n",
    "combined_data['local_label'] = combined_data['local_label'].apply(lambda x:class_name_dict[x])\n",
    "print(combined_data.shape)\n",
    "combined_data.iloc[:2, :]"
   ]
  },
  {
   "cell_type": "markdown",
   "metadata": {},
   "source": [
    "#### 线上线下一致性: mysql 与 local"
   ]
  },
  {
   "cell_type": "code",
   "execution_count": null,
   "metadata": {
    "ExecuteTime": {
     "end_time": "2018-09-20T03:48:25.094577Z",
     "start_time": "2018-09-20T03:48:24.380536Z"
    },
    "collapsed": true
   },
   "outputs": [],
   "source": [
    "combined_data['R_W'] = combined_data.apply(lambda x: 'Right' if x['local_label'] == x['predict_label'] else 'Wrong', axis = 1)\n",
    "print(combined_data[combined_data['R_W'] == 'Right'].shape[0]/combined_data.shape[0])\n",
    "print(combined_data['R_W'].value_counts())\n",
    "combined_data[combined_data['R_W'] == 'Wrong'].pivot_table(index = ['local_label'], columns = ['predict_label'], \n",
    "                                                            aggfunc = [len], values = ['id'], \n",
    "                                                            fill_value = 0, margins = True)"
   ]
  },
  {
   "cell_type": "markdown",
   "metadata": {},
   "source": [
    "#### 线上线下一致性: online 与 local"
   ]
  },
  {
   "cell_type": "code",
   "execution_count": null,
   "metadata": {
    "collapsed": true
   },
   "outputs": [],
   "source": [
    "combined_data['id'] = range(combined_data.shape[0])\n",
    "combined_data['title'] = combined_data['title'].astype(str) \n",
    "combined_data['content'] = combined_data['content'].astype(str)\n",
    "data = {\"record\":combined_data.loc[:,['id', 'title' ,'content']].to_dict(orient = 'records')}\n",
    "url = \"http://47.93.77.19:10000/judge_correlation_i\"\n",
    "col_name = 'cor'\n",
    "parse_data, elapsed_time = get_server_res(data, url, col_name)\n",
    "parse_data.columns = ['id', 'online_label']\n",
    "parse_data.head()"
   ]
  },
  {
   "cell_type": "code",
   "execution_count": null,
   "metadata": {
    "collapsed": true
   },
   "outputs": [],
   "source": [
    "combined_data = pd.merge(combined_data, parse_data, on  = 'id')\n",
    "print(combined_data.shape)\n",
    "combined_data['O_R_W'] = combined_data.apply(lambda x: 'Right' if x['local_label'] == x['online_label'] else 'Wrong', axis = 1)\n",
    "print(combined_data[combined_data['O_R_W'] == 'Right'].shape[0]/combined_data.shape[0])\n",
    "print(combined_data['O_R_W'].value_counts())\n",
    "combined_data[combined_data['O_R_W'] == 'Wrong'].pivot_table(index = ['local_label'], columns = ['online_label'], \n",
    "                                                            aggfunc = [len], values = ['urlhash'], \n",
    "                                                            fill_value = 0, margins = True)"
   ]
  },
  {
   "cell_type": "markdown",
   "metadata": {
    "collapsed": true
   },
   "source": [
    "# 银行业--旧"
   ]
  },
  {
   "cell_type": "code",
   "execution_count": 25,
   "metadata": {
    "ExecuteTime": {
     "end_time": "2019-03-06T06:34:25.299908Z",
     "start_time": "2019-03-06T06:34:25.056200Z"
    },
    "collapsed": true
   },
   "outputs": [],
   "source": [
    "engine = specific_func.get_engine('cbrc')"
   ]
  },
  {
   "cell_type": "code",
   "execution_count": 15,
   "metadata": {
    "ExecuteTime": {
     "end_time": "2019-02-19T06:23:57.923027Z",
     "start_time": "2019-02-19T06:23:57.722764Z"
    }
   },
   "outputs": [
    {
     "name": "stdout",
     "output_type": "stream",
     "text": [
      "['2019-02-17']\n"
     ]
    }
   ],
   "source": [
    "# day_select = '2018-09-09'\n",
    "day_list = get_day_list('2019-02-22', '2019-02-25')\n",
    "print(day_list)"
   ]
  },
  {
   "cell_type": "markdown",
   "metadata": {
    "collapsed": true
   },
   "source": [
    "## mysql 数据"
   ]
  },
  {
   "cell_type": "markdown",
   "metadata": {},
   "source": [
    "### 八分类数据"
   ]
  },
  {
   "cell_type": "markdown",
   "metadata": {},
   "source": [
    "#### 获取数据"
   ]
  },
  {
   "cell_type": "code",
   "execution_count": null,
   "metadata": {
    "ExecuteTime": {
     "end_time": "2018-11-12T03:49:29.356849Z",
     "start_time": "2018-11-12T03:49:29.348848Z"
    },
    "collapsed": true
   },
   "outputs": [],
   "source": [
    "# sql_circ_cor_one_day = \"select t1.id, t1.publishtime, t1.title,t2.text as content \\\n",
    "#                             from elint_web_docinfo t1, wise_web_docinfo_text t2 \\\n",
    "#                                 where t1.id = t2.doc_id \\\n",
    "#                                   and date_format(t1.publishtime, '%%Y-%%m-%%d') = '{0}'\".format('2018-08-07')\n",
    "# # 实际\n",
    "# circ_cor = pd.read_sql(sql_circ_cor_one_day, engine)\n",
    "# print(circ_cor.shape)\n",
    "# circ_cor.head()"
   ]
  },
  {
   "cell_type": "code",
   "execution_count": 26,
   "metadata": {
    "ExecuteTime": {
     "end_time": "2019-03-06T07:10:40.190768Z",
     "start_time": "2019-03-06T06:34:30.825926Z"
    }
   },
   "outputs": [
    {
     "name": "stdout",
     "output_type": "stream",
     "text": [
      "-- day_select:  2019-03-02\n",
      "cbrc_flag： (78896, 3)\n",
      "cbrc_cor： (2671, 5)\n",
      "cbrc_uncor： (5004, 5)\n",
      "去重前： (7675, 5)\n",
      "去重后： (6354, 5)\n",
      "去空值后： (6354, 5)\n",
      "(5778, 7)\n",
      "噪音        2588\n",
      "消费服务      1623\n",
      "行业         564\n",
      "资本市场       364\n",
      "监管         325\n",
      "公司内部管理     158\n",
      "产品销售        79\n",
      "其他相关报道      77\n",
      "Name: predict_label, dtype: int64\n",
      "-- day_select:  2019-03-03\n",
      "cbrc_flag： (68232, 3)\n",
      "cbrc_cor： (1596, 5)\n",
      "cbrc_uncor： (5005, 5)\n",
      "去重前： (6601, 5)\n",
      "去重后： (5020, 5)\n",
      "去空值后： (5020, 5)\n",
      "(4643, 7)\n",
      "噪音        2607\n",
      "消费服务      1036\n",
      "资本市场       330\n",
      "行业         305\n",
      "监管         188\n",
      "公司内部管理      66\n",
      "产品销售        59\n",
      "其他相关报道      52\n",
      "Name: predict_label, dtype: int64\n",
      "-- day_select:  2019-03-04\n",
      "cbrc_flag： (109419, 3)\n",
      "cbrc_cor： (4238, 5)\n",
      "cbrc_uncor： (5003, 5)\n",
      "去重前： (9241, 5)\n",
      "去重后： (8153, 5)\n",
      "去空值后： (8153, 5)\n",
      "(7401, 7)\n",
      "噪音        2652\n",
      "消费服务      2068\n",
      "行业        1044\n",
      "资本市场       605\n",
      "监管         547\n",
      "公司内部管理     301\n",
      "其他相关报道      96\n",
      "产品销售        88\n",
      "Name: predict_label, dtype: int64\n",
      "-- day_select:  2019-03-05\n",
      "cbrc_flag： (100698, 3)\n",
      "cbrc_cor： (4509, 5)\n",
      "cbrc_uncor： (5006, 5)\n",
      "去重前： (9515, 5)\n",
      "去重后： (8547, 5)\n",
      "去空值后： (8547, 5)\n",
      "(7639, 7)\n",
      "噪音        2799\n",
      "消费服务      1581\n",
      "行业        1346\n",
      "监管         853\n",
      "资本市场       563\n",
      "公司内部管理     270\n",
      "其他相关报道     135\n",
      "产品销售        92\n",
      "Name: predict_label, dtype: int64\n"
     ]
    }
   ],
   "source": [
    "for day_select in day_list:\n",
    "    print('-- day_select: ', day_select)\n",
    "    \n",
    "    # 获取八分类\n",
    "    sql_one_day = \"select t2.urlhash, t1.traffic_id, t2.title as title_1\\\n",
    "                        from wise_web_classify_traffic_docinfo t1, wise_web_docinfo_basic t2 \\\n",
    "                            where t1.base_id=t2.id \\\n",
    "                                  and date_format(t2.publishtime, '%%Y-%%m-%%d') = '{0}' \".format(day_select)\n",
    "    cbrc_flag = pd.read_sql(sql_one_day, engine)\n",
    "    print('cbrc_flag：', cbrc_flag.shape)\n",
    "    \n",
    "    # 相关数据\n",
    "    sql_one_day = \"select t1.urlhash, t1.title,t2.text as content, t1.group_id, t1.publishtime as publishtime \\\n",
    "                        from elint_web_docinfo t1, wise_web_docinfo_text t2 \\\n",
    "                            where t1.id=t2.doc_id \\\n",
    "                                  and t1.publishtime >= '{0} 08:00:00' \\\n",
    "                                  and t1.publishtime <= '{0} 14:00:00' \\\n",
    "                                group by t1.titlehash\".format(day_select)\n",
    "    # titlehash 去重后\n",
    "    cbrc_cor = pd.read_sql(sql_one_day, engine) \n",
    "    print('cbrc_cor：', cbrc_cor.shape)\n",
    "    \n",
    "    # 不相关数据\n",
    "    sql_cbrc_uncor = \"select urlhash, title, content, group_id, publishtime \\\n",
    "                            from wise_web_docinfo_uncor \\\n",
    "                            where date_format(publishtime, '%%Y-%%m-%%d') = '{0}'\".format(day_select)\n",
    "    cbrc_uncor = pd.read_sql(sql_cbrc_uncor, engine)  \n",
    "    print('cbrc_uncor：', cbrc_uncor.shape)\n",
    "\n",
    "    cbrc_data = pd.concat([cbrc_cor, cbrc_uncor], axis = 0)\n",
    "    print('去重前：', cbrc_data.shape)\n",
    "    cbrc_data = cbrc_data.drop_duplicates(subset = 'title')\n",
    "    print('去重后：', cbrc_data.shape)  \n",
    "    cbrc_data = cbrc_data.dropna(subset = ['content'], axis = 0)\n",
    "    print('去空值后：', cbrc_data.shape)  \n",
    "\n",
    "    cbrc_combined = pd.merge(cbrc_flag, cbrc_data, how = 'inner', on = 'urlhash')\n",
    "    cbrc_combined['predict_label'] = cbrc_combined['traffic_id'].apply(lambda x:class_name_dict[x])\n",
    "    cbrc_combined['group_id'] = cbrc_combined['group_id'].apply(lambda x:group_dict[str(x)])\n",
    "    cbrc_combined['label'] = ''\n",
    "    cbrc_combined = cbrc_combined[['urlhash', 'predict_label', 'label', 'title', 'content', 'group_id', 'publishtime']]\n",
    "    fea_filename = 'result/cbrc_result_class/result/cbrc_class_predict_mysql_%s.xlsx'%day_select\n",
    "    cbrc_combined.to_excel(fea_filename, index = False)\n",
    "    print(cbrc_combined.shape)\n",
    "    print(cbrc_combined['predict_label'].value_counts())    "
   ]
  },
  {
   "cell_type": "markdown",
   "metadata": {},
   "source": [
    "#### 合并 & 保存"
   ]
  },
  {
   "cell_type": "code",
   "execution_count": 32,
   "metadata": {
    "ExecuteTime": {
     "end_time": "2019-03-06T08:07:08.835649Z",
     "start_time": "2019-03-06T08:07:02.628725Z"
    }
   },
   "outputs": [
    {
     "name": "stdout",
     "output_type": "stream",
     "text": [
      "(25461, 7)\n",
      "去重前： (25461, 7)\n",
      "去重后： (24336, 7)\n",
      "去空值后： (24297, 7)\n",
      "噪音        10134\n",
      "消费服务       6163\n",
      "行业         3019\n",
      "资本市场       1798\n",
      "监管         1779\n",
      "公司内部管理      742\n",
      "其他相关报道      347\n",
      "产品销售        315\n",
      "Name: predict_label, dtype: int64\n"
     ]
    },
    {
     "data": {
      "text/html": [
       "<div>\n",
       "<style scoped>\n",
       "    .dataframe tbody tr th:only-of-type {\n",
       "        vertical-align: middle;\n",
       "    }\n",
       "\n",
       "    .dataframe tbody tr th {\n",
       "        vertical-align: top;\n",
       "    }\n",
       "\n",
       "    .dataframe thead th {\n",
       "        text-align: right;\n",
       "    }\n",
       "</style>\n",
       "<table border=\"1\" class=\"dataframe\">\n",
       "  <thead>\n",
       "    <tr style=\"text-align: right;\">\n",
       "      <th></th>\n",
       "      <th>urlhash</th>\n",
       "      <th>predict_label</th>\n",
       "      <th>label</th>\n",
       "      <th>title</th>\n",
       "      <th>content</th>\n",
       "      <th>group_id</th>\n",
       "      <th>publishtime</th>\n",
       "    </tr>\n",
       "  </thead>\n",
       "  <tbody>\n",
       "    <tr>\n",
       "      <th>0</th>\n",
       "      <td>7835383079258223616</td>\n",
       "      <td>资本市场</td>\n",
       "      <td>NaN</td>\n",
       "      <td>600595:中孚实业:中德证券有限责任公司关于河南中孚实业股份有限公司控股子公司为林州市立...</td>\n",
       "      <td>600595:中孚实业:中德证券有限责任公司关于河南中孚实业股份有限公司控股子公司为林州市...</td>\n",
       "      <td>新闻</td>\n",
       "      <td>2019-03-02</td>\n",
       "    </tr>\n",
       "    <tr>\n",
       "      <th>1</th>\n",
       "      <td>8837754838192826368</td>\n",
       "      <td>噪音</td>\n",
       "      <td>NaN</td>\n",
       "      <td>格林美:独立董事候选人声明(吴树阶)</td>\n",
       "      <td>格林美股份有限公司\\n 独立董事候选人声明\\n 声明人吴树阶，作为格林美股份有限公司第五届...</td>\n",
       "      <td>新闻</td>\n",
       "      <td>2019-03-02</td>\n",
       "    </tr>\n",
       "  </tbody>\n",
       "</table>\n",
       "</div>"
      ],
      "text/plain": [
       "               urlhash predict_label  label  \\\n",
       "0  7835383079258223616          资本市场    NaN   \n",
       "1  8837754838192826368            噪音    NaN   \n",
       "\n",
       "                                               title  \\\n",
       "0  600595:中孚实业:中德证券有限责任公司关于河南中孚实业股份有限公司控股子公司为林州市立...   \n",
       "1                                 格林美:独立董事候选人声明(吴树阶)   \n",
       "\n",
       "                                             content group_id publishtime  \n",
       "0   600595:中孚实业:中德证券有限责任公司关于河南中孚实业股份有限公司控股子公司为林州市...       新闻  2019-03-02  \n",
       "1   格林美股份有限公司\\n 独立董事候选人声明\\n 声明人吴树阶，作为格林美股份有限公司第五届...       新闻  2019-03-02  "
      ]
     },
     "execution_count": 32,
     "metadata": {},
     "output_type": "execute_result"
    }
   ],
   "source": [
    "combined_data = pd.DataFrame()\n",
    "for day_select in day_list:\n",
    "    tmp_data = pd.read_excel('result/cbrc_result_class/result/cbrc_class_predict_mysql_%s.xlsx'%day_select)\n",
    "    combined_data = pd.concat([combined_data, tmp_data], axis = 0)\n",
    "\n",
    "combined_data = combined_data[combined_data['predict_label'] != '补录']\n",
    "print(combined_data.shape)  \n",
    "print('去重前：', combined_data.shape)\n",
    "combined_data = combined_data.drop_duplicates(subset = 'title')\n",
    "print('去重后：', combined_data.shape)  \n",
    "combined_data = combined_data.dropna(subset = ['content'], axis = 0)\n",
    "print('去空值后：', combined_data.shape)  \n",
    "\n",
    "print(combined_data['predict_label'].value_counts())\n",
    "combined_data.iloc[:2, :]"
   ]
  },
  {
   "cell_type": "code",
   "execution_count": 33,
   "metadata": {
    "ExecuteTime": {
     "end_time": "2019-03-06T08:07:11.365385Z",
     "start_time": "2019-03-06T08:07:09.723006Z"
    }
   },
   "outputs": [
    {
     "name": "stdout",
     "output_type": "stream",
     "text": [
      "噪音        10134\n",
      "消费服务       6163\n",
      "行业         3019\n",
      "资本市场       1798\n",
      "监管         1779\n",
      "公司内部管理      742\n",
      "其他相关报道      347\n",
      "产品销售        315\n",
      "Name: predict_label, dtype: int64\n"
     ]
    }
   ],
   "source": [
    "fea_filename = 'result/cbrc_result_class/result/cbrc_class_predict_mysql_20190306(0302-0305).xlsx'\n",
    "# sel_col = ['噪音', '消费服务', '公司内部管理', '监管',\n",
    "#            '行业', '资本市场', '其他相关报道','产品销售']\n",
    "# sel_col = ['公司内部管理', '监管', '行业', '产品销售']\n",
    "sel_col = combined_data['predict_label'].unique().tolist()\n",
    "sel_data = combined_data[combined_data['predict_label'].isin(sel_col)]\n",
    "print(sel_data['predict_label'].value_counts())\n",
    "with pd.ExcelWriter(fea_filename) as writer:\n",
    "    for label in sel_data['predict_label'].unique():\n",
    "        tmp_data = sel_data[sel_data['predict_label'] == label]\n",
    "        if tmp_data.shape[0] > 200:\n",
    "            N = 200\n",
    "        else :\n",
    "            N = tmp_data.shape[0]\n",
    "        tmp_data.sample(n = N, axis = 0, random_state=42).to_excel(writer,label, index = False)\n",
    "    \n",
    "    writer.save()"
   ]
  },
  {
   "cell_type": "markdown",
   "metadata": {},
   "source": [
    "### 倾向性"
   ]
  },
  {
   "cell_type": "markdown",
   "metadata": {},
   "source": [
    "#### 获取数据"
   ]
  },
  {
   "cell_type": "code",
   "execution_count": 29,
   "metadata": {
    "ExecuteTime": {
     "end_time": "2019-03-06T07:35:36.182857Z",
     "start_time": "2019-03-06T07:10:48.675484Z"
    }
   },
   "outputs": [
    {
     "name": "stdout",
     "output_type": "stream",
     "text": [
      "-- day_select:  2019-03-02\n",
      "cbrc_flag： (78906, 3)\n",
      "cbrc_cor： (2671, 7)\n",
      "去重前： (2671, 7)\n",
      "去重后： (2671, 7)\n",
      "去空值后： (2671, 7)\n",
      "(2670, 9)\n",
      "predict_label  公司内部管理  消费服务   监管   行业   All\n",
      "tendency                                   \n",
      "-1                 25  1261   16   42  1344\n",
      "0                 133   362  309  522  1326\n",
      "All               158  1623  325  564  2670\n",
      "-- day_select:  2019-03-03\n",
      "cbrc_flag： (68326, 3)\n",
      "cbrc_cor： (1597, 7)\n",
      "去重前： (1597, 7)\n",
      "去重后： (1597, 7)\n",
      "去空值后： (1597, 7)\n",
      "(1597, 9)\n",
      "predict_label  公司内部管理  消费服务   监管   行业   All\n",
      "tendency                                   \n",
      "-1                 16   877   25   28   946\n",
      "0                  50   161  163  277   651\n",
      "All                66  1038  188  305  1597\n",
      "-- day_select:  2019-03-04\n",
      "cbrc_flag： (109635, 3)\n",
      "cbrc_cor： (4242, 7)\n",
      "去重前： (4242, 7)\n",
      "去重后： (4241, 7)\n",
      "去空值后： (4241, 7)\n",
      "(3969, 9)\n",
      "predict_label  公司内部管理  噪音  消费服务   监管    行业  资本市场   All\n",
      "tendency                                              \n",
      "-1                 48   0  1423   40    63     1  1575\n",
      "0                 253   4   645  505   981     4  2392\n",
      "1                   0   0     0    2     0     0     2\n",
      "All               301   4  2068  547  1044     5  3969\n",
      "-- day_select:  2019-03-05\n",
      "cbrc_flag： (101003, 3)\n",
      "cbrc_cor： (4519, 7)\n",
      "去重前： (4519, 7)\n",
      "去重后： (4519, 7)\n",
      "去空值后： (4519, 7)\n",
      "(4064, 9)\n",
      "predict_label  公司内部管理  其他相关报道  噪音  消费服务   监管    行业  资本市场   All\n",
      "tendency                                                      \n",
      "-1                 48       0   1   980   76    70     0  1175\n",
      "0                 222       3   2   605  776  1274     2  2884\n",
      "1                   0       0   0     0    2     3     0     5\n",
      "All               270       3   3  1585  854  1347     2  4064\n"
     ]
    }
   ],
   "source": [
    "for day_select in day_list:\n",
    "    print('-- day_select: ', day_select)\n",
    "    \n",
    "    # 获取八分类\n",
    "    sql_one_day = \"select t2.urlhash, t1.traffic_id, t2.title as title_1\\\n",
    "                        from wise_web_classify_traffic_docinfo t1, wise_web_docinfo_basic t2 \\\n",
    "                            where t1.base_id=t2.id \\\n",
    "                                  and date_format(t2.publishtime, '%%Y-%%m-%%d') = '{0}' \".format(day_select)\n",
    "    cbrc_flag = pd.read_sql(sql_one_day, engine)\n",
    "    print('cbrc_flag：', cbrc_flag.shape)\n",
    "    \n",
    "    # 相关数据\n",
    "    sql_one_day = \"select t1.id, t1.urlhash, t1.title,t2.text as content, t1.group_id, \\\n",
    "                            t1.sen as tendency, t1.publishtime as publishtime \\\n",
    "                        from elint_web_docinfo t1, wise_web_docinfo_text t2 \\\n",
    "                            where t1.id=t2.doc_id \\\n",
    "                                  and t1.publishtime >= '{0} 08:00:00' \\\n",
    "                                  and t1.publishtime <= '{0} 14:00:00' \\\n",
    "                                group by t1.titlehash\".format(day_select)\n",
    "    # titlehash 去重后\n",
    "    cbrc_cor = pd.read_sql(sql_one_day, engine) \n",
    "    print('cbrc_cor：', cbrc_cor.shape)\n",
    "\n",
    "    cbrc_data = cbrc_cor\n",
    "    print('去重前：', cbrc_data.shape)\n",
    "    cbrc_data = cbrc_data.drop_duplicates(subset = 'title')\n",
    "    print('去重后：', cbrc_data.shape)  \n",
    "    cbrc_data = cbrc_data.dropna(subset = ['content'], axis = 0)\n",
    "    print('去空值后：', cbrc_data.shape)  \n",
    "\n",
    "    cbrc_combined = pd.merge(cbrc_flag, cbrc_data, how = 'inner', on = 'urlhash')\n",
    "    cbrc_combined['predict_label'] = cbrc_combined['traffic_id'].apply(lambda x:class_name_dict[x])\n",
    "    cbrc_combined['group_id'] = cbrc_combined['group_id'].apply(lambda x:group_dict[str(x)])\n",
    "    cbrc_combined['label'] = ''\n",
    "    cbrc_combined = cbrc_combined[['id', 'urlhash', 'group_id', 'predict_label', 'tendency', \n",
    "                                   'label', 'title', 'content', 'publishtime']]\n",
    "    fea_filename = 'result/cbrc_result_tendency/result/cbrc_tendency_predict_mysql_%s.xlsx'%day_select\n",
    "    cbrc_combined.to_excel(fea_filename, index = False)\n",
    "    print(cbrc_combined.shape)\n",
    "    print(cbrc_combined.pivot_table(index = ['tendency'], columns = ['predict_label'], \n",
    "                          values = 'title', aggfunc=len, \n",
    "                          fill_value=0, margins=True))"
   ]
  },
  {
   "cell_type": "markdown",
   "metadata": {},
   "source": [
    "#### 合并 & 保存"
   ]
  },
  {
   "cell_type": "code",
   "execution_count": 30,
   "metadata": {
    "ExecuteTime": {
     "end_time": "2019-03-06T07:35:39.106736Z",
     "start_time": "2019-03-06T07:35:36.905753Z"
    }
   },
   "outputs": [
    {
     "name": "stdout",
     "output_type": "stream",
     "text": [
      "(12293, 9)\n",
      "去重前： (12293, 9)\n",
      "去重后： (11755, 9)\n",
      "去空值后： (11747, 9)\n",
      " 0    6830\n",
      "-1    4917\n",
      "Name: tendency, dtype: int64\n"
     ]
    },
    {
     "data": {
      "text/html": [
       "<div>\n",
       "<style scoped>\n",
       "    .dataframe tbody tr th:only-of-type {\n",
       "        vertical-align: middle;\n",
       "    }\n",
       "\n",
       "    .dataframe tbody tr th {\n",
       "        vertical-align: top;\n",
       "    }\n",
       "\n",
       "    .dataframe thead th {\n",
       "        text-align: right;\n",
       "    }\n",
       "</style>\n",
       "<table border=\"1\" class=\"dataframe\">\n",
       "  <thead>\n",
       "    <tr style=\"text-align: right;\">\n",
       "      <th></th>\n",
       "      <th>predict_label</th>\n",
       "      <th>公司内部管理</th>\n",
       "      <th>其他相关报道</th>\n",
       "      <th>噪音</th>\n",
       "      <th>消费服务</th>\n",
       "      <th>监管</th>\n",
       "      <th>行业</th>\n",
       "      <th>资本市场</th>\n",
       "      <th>All</th>\n",
       "    </tr>\n",
       "    <tr>\n",
       "      <th>tendency</th>\n",
       "      <th>group_id</th>\n",
       "      <th></th>\n",
       "      <th></th>\n",
       "      <th></th>\n",
       "      <th></th>\n",
       "      <th></th>\n",
       "      <th></th>\n",
       "      <th></th>\n",
       "      <th></th>\n",
       "    </tr>\n",
       "  </thead>\n",
       "  <tbody>\n",
       "    <tr>\n",
       "      <th rowspan=\"8\" valign=\"top\">-1</th>\n",
       "      <th>博客</th>\n",
       "      <td>0</td>\n",
       "      <td>0</td>\n",
       "      <td>0</td>\n",
       "      <td>10</td>\n",
       "      <td>0</td>\n",
       "      <td>1</td>\n",
       "      <td>0</td>\n",
       "      <td>11</td>\n",
       "    </tr>\n",
       "    <tr>\n",
       "      <th>外媒</th>\n",
       "      <td>0</td>\n",
       "      <td>0</td>\n",
       "      <td>0</td>\n",
       "      <td>3</td>\n",
       "      <td>0</td>\n",
       "      <td>0</td>\n",
       "      <td>0</td>\n",
       "      <td>3</td>\n",
       "    </tr>\n",
       "    <tr>\n",
       "      <th>微信</th>\n",
       "      <td>14</td>\n",
       "      <td>0</td>\n",
       "      <td>0</td>\n",
       "      <td>293</td>\n",
       "      <td>10</td>\n",
       "      <td>23</td>\n",
       "      <td>0</td>\n",
       "      <td>340</td>\n",
       "    </tr>\n",
       "    <tr>\n",
       "      <th>微博</th>\n",
       "      <td>2</td>\n",
       "      <td>0</td>\n",
       "      <td>0</td>\n",
       "      <td>2204</td>\n",
       "      <td>25</td>\n",
       "      <td>4</td>\n",
       "      <td>0</td>\n",
       "      <td>2235</td>\n",
       "    </tr>\n",
       "    <tr>\n",
       "      <th>新闻</th>\n",
       "      <td>102</td>\n",
       "      <td>0</td>\n",
       "      <td>1</td>\n",
       "      <td>1849</td>\n",
       "      <td>103</td>\n",
       "      <td>155</td>\n",
       "      <td>1</td>\n",
       "      <td>2211</td>\n",
       "    </tr>\n",
       "    <tr>\n",
       "      <th>新闻客户端</th>\n",
       "      <td>4</td>\n",
       "      <td>0</td>\n",
       "      <td>0</td>\n",
       "      <td>45</td>\n",
       "      <td>7</td>\n",
       "      <td>4</td>\n",
       "      <td>0</td>\n",
       "      <td>60</td>\n",
       "    </tr>\n",
       "    <tr>\n",
       "      <th>纸媒</th>\n",
       "      <td>0</td>\n",
       "      <td>0</td>\n",
       "      <td>0</td>\n",
       "      <td>23</td>\n",
       "      <td>2</td>\n",
       "      <td>1</td>\n",
       "      <td>0</td>\n",
       "      <td>26</td>\n",
       "    </tr>\n",
       "    <tr>\n",
       "      <th>论坛</th>\n",
       "      <td>0</td>\n",
       "      <td>0</td>\n",
       "      <td>0</td>\n",
       "      <td>31</td>\n",
       "      <td>0</td>\n",
       "      <td>0</td>\n",
       "      <td>0</td>\n",
       "      <td>31</td>\n",
       "    </tr>\n",
       "    <tr>\n",
       "      <th rowspan=\"8\" valign=\"top\">0</th>\n",
       "      <th>博客</th>\n",
       "      <td>0</td>\n",
       "      <td>0</td>\n",
       "      <td>0</td>\n",
       "      <td>7</td>\n",
       "      <td>8</td>\n",
       "      <td>11</td>\n",
       "      <td>0</td>\n",
       "      <td>26</td>\n",
       "    </tr>\n",
       "    <tr>\n",
       "      <th>外媒</th>\n",
       "      <td>0</td>\n",
       "      <td>0</td>\n",
       "      <td>0</td>\n",
       "      <td>1</td>\n",
       "      <td>12</td>\n",
       "      <td>10</td>\n",
       "      <td>0</td>\n",
       "      <td>23</td>\n",
       "    </tr>\n",
       "    <tr>\n",
       "      <th>微信</th>\n",
       "      <td>60</td>\n",
       "      <td>0</td>\n",
       "      <td>0</td>\n",
       "      <td>352</td>\n",
       "      <td>279</td>\n",
       "      <td>402</td>\n",
       "      <td>0</td>\n",
       "      <td>1093</td>\n",
       "    </tr>\n",
       "    <tr>\n",
       "      <th>微博</th>\n",
       "      <td>13</td>\n",
       "      <td>3</td>\n",
       "      <td>6</td>\n",
       "      <td>240</td>\n",
       "      <td>117</td>\n",
       "      <td>33</td>\n",
       "      <td>6</td>\n",
       "      <td>418</td>\n",
       "    </tr>\n",
       "    <tr>\n",
       "      <th>新闻</th>\n",
       "      <td>510</td>\n",
       "      <td>0</td>\n",
       "      <td>0</td>\n",
       "      <td>1007</td>\n",
       "      <td>1128</td>\n",
       "      <td>2207</td>\n",
       "      <td>0</td>\n",
       "      <td>4852</td>\n",
       "    </tr>\n",
       "    <tr>\n",
       "      <th>新闻客户端</th>\n",
       "      <td>18</td>\n",
       "      <td>0</td>\n",
       "      <td>0</td>\n",
       "      <td>78</td>\n",
       "      <td>69</td>\n",
       "      <td>133</td>\n",
       "      <td>0</td>\n",
       "      <td>298</td>\n",
       "    </tr>\n",
       "    <tr>\n",
       "      <th>纸媒</th>\n",
       "      <td>22</td>\n",
       "      <td>0</td>\n",
       "      <td>0</td>\n",
       "      <td>31</td>\n",
       "      <td>17</td>\n",
       "      <td>33</td>\n",
       "      <td>0</td>\n",
       "      <td>103</td>\n",
       "    </tr>\n",
       "    <tr>\n",
       "      <th>论坛</th>\n",
       "      <td>0</td>\n",
       "      <td>0</td>\n",
       "      <td>0</td>\n",
       "      <td>7</td>\n",
       "      <td>1</td>\n",
       "      <td>9</td>\n",
       "      <td>0</td>\n",
       "      <td>17</td>\n",
       "    </tr>\n",
       "    <tr>\n",
       "      <th>All</th>\n",
       "      <th></th>\n",
       "      <td>745</td>\n",
       "      <td>3</td>\n",
       "      <td>7</td>\n",
       "      <td>6181</td>\n",
       "      <td>1778</td>\n",
       "      <td>3026</td>\n",
       "      <td>7</td>\n",
       "      <td>11747</td>\n",
       "    </tr>\n",
       "  </tbody>\n",
       "</table>\n",
       "</div>"
      ],
      "text/plain": [
       "predict_label      公司内部管理  其他相关报道  噪音  消费服务    监管    行业  资本市场    All\n",
       "tendency group_id                                                   \n",
       "-1       博客             0       0   0    10     0     1     0     11\n",
       "         外媒             0       0   0     3     0     0     0      3\n",
       "         微信            14       0   0   293    10    23     0    340\n",
       "         微博             2       0   0  2204    25     4     0   2235\n",
       "         新闻           102       0   1  1849   103   155     1   2211\n",
       "         新闻客户端          4       0   0    45     7     4     0     60\n",
       "         纸媒             0       0   0    23     2     1     0     26\n",
       "         论坛             0       0   0    31     0     0     0     31\n",
       "0        博客             0       0   0     7     8    11     0     26\n",
       "         外媒             0       0   0     1    12    10     0     23\n",
       "         微信            60       0   0   352   279   402     0   1093\n",
       "         微博            13       3   6   240   117    33     6    418\n",
       "         新闻           510       0   0  1007  1128  2207     0   4852\n",
       "         新闻客户端         18       0   0    78    69   133     0    298\n",
       "         纸媒            22       0   0    31    17    33     0    103\n",
       "         论坛             0       0   0     7     1     9     0     17\n",
       "All                   745       3   7  6181  1778  3026     7  11747"
      ]
     },
     "execution_count": 30,
     "metadata": {},
     "output_type": "execute_result"
    }
   ],
   "source": [
    "combined_data = pd.DataFrame()\n",
    "for day_select in day_list:\n",
    "    tmp_data = pd.read_excel('result/cbrc_result_tendency/result/cbrc_tendency_predict_mysql_%s.xlsx'%day_select)\n",
    "    combined_data = pd.concat([combined_data, tmp_data], axis = 0)\n",
    "\n",
    "combined_data = combined_data[combined_data['predict_label'] != '补录']\n",
    "combined_data = combined_data[combined_data['tendency'].isin([-1, 0]) ]\n",
    "# sel_col = [ '消费服务', '公司内部管理', '监管','行业']\n",
    "# sel_col = ['噪音', '消费服务', '公司内部管理', '监管',\n",
    "#            '行业', '资本市场', '其他相关报道','产品销售']\n",
    "# sel_col = ['公司内部管理', '监管', '行业', '产品销售']\n",
    "sel_col = combined_data['predict_label'].unique().tolist()\n",
    "\n",
    "combined_data = combined_data[combined_data['predict_label'].isin(sel_col)]\n",
    "print(combined_data.shape)  \n",
    "print('去重前：', combined_data.shape)\n",
    "combined_data = combined_data.drop_duplicates(subset = 'title')\n",
    "print('去重后：', combined_data.shape)  \n",
    "combined_data = combined_data.dropna(subset = ['content'], axis = 0)\n",
    "print('去空值后：', combined_data.shape)  \n",
    "\n",
    "print(combined_data['tendency'].value_counts())\n",
    "combined_data.pivot_table(index = ['tendency', 'group_id'], \n",
    "                                columns = ['predict_label'], \n",
    "                                values = 'title', aggfunc=len, \n",
    "                                fill_value=0, margins=True)\n",
    "# combined_data.iloc[:2, :]"
   ]
  },
  {
   "cell_type": "code",
   "execution_count": 19,
   "metadata": {
    "ExecuteTime": {
     "end_time": "2019-02-19T06:36:18.842645Z",
     "start_time": "2019-02-19T06:36:17.242585Z"
    }
   },
   "outputs": [
    {
     "data": {
      "text/plain": [
       "-1    1052\n",
       " 0     768\n",
       "Name: tendency, dtype: int64"
      ]
     },
     "execution_count": 19,
     "metadata": {},
     "output_type": "execute_result"
    }
   ],
   "source": [
    "# combined_data_sel = combined_data # [combined_data['predict_label'].isin(['交通', '环保'])]\n",
    "# combined_data_sel.to_excel('result/cbrc_result_tendency/cbrc_tendency_data_20190306(0302-0305).xlsx', \n",
    "#                            index = False)\n",
    "# combined_data_sel['tendency'].value_counts()"
   ]
  },
  {
   "cell_type": "code",
   "execution_count": 31,
   "metadata": {
    "ExecuteTime": {
     "end_time": "2019-03-06T07:35:40.593768Z",
     "start_time": "2019-03-06T07:35:39.778520Z"
    }
   },
   "outputs": [
    {
     "name": "stdout",
     "output_type": "stream",
     "text": [
      " 0    6830\n",
      "-1    4917\n",
      "Name: tendency, dtype: int64\n",
      "正负各 200 条，共 7 类， 每类各 228 条\n",
      "tendency: 0, predict_label: 行业, size: (228, 9)\n",
      "tendency: 0, predict_label: 监管, size: (456, 9)\n",
      "tendency: 0, predict_label: 消费服务, size: (684, 9)\n",
      "tendency: 0, predict_label: 公司内部管理, size: (912, 9)\n",
      "tendency: 0, predict_label: 噪音, size: (918, 9)\n",
      "tendency: 0, predict_label: 资本市场, size: (924, 9)\n",
      "tendency: 0, predict_label: 其他相关报道, size: (927, 9)\n",
      "predict_label  公司内部管理  其他相关报道  噪音  消费服务  监管  行业  资本市场  All\n",
      "tendency                                                  \n",
      "0                  46       1   1    45  46  60     1  200\n",
      "All                46       1   1    45  46  60     1  200\n",
      "tendency: -1, predict_label: 行业, size: (188, 9)\n",
      "tendency: -1, predict_label: 监管, size: (335, 9)\n",
      "tendency: -1, predict_label: 消费服务, size: (563, 9)\n",
      "tendency: -1, predict_label: 公司内部管理, size: (685, 9)\n",
      "tendency: -1, predict_label: 噪音, size: (686, 9)\n",
      "tendency: -1, predict_label: 资本市场, size: (687, 9)\n",
      "tendency: -1, predict_label: 其他相关报道, size: (687, 9)\n",
      "predict_label  公司内部管理  噪音  消费服务  监管  行业  All\n",
      "tendency                                    \n",
      "-1                 24   1    76  42  57  200\n",
      "All                24   1    76  42  57  200\n"
     ]
    }
   ],
   "source": [
    "fea_filename = 'result/cbrc_result_tendency/result/cbrc_tendency_predict_mysql_20190306(0302-0305).xlsx'\n",
    "print(combined_data['tendency'].value_counts())\n",
    "\n",
    "N = 200 # 每类 N 条数据\n",
    "class_n = int(combined_data['predict_label'].unique().shape[0])\n",
    "n = int(N / class_n) + 200\n",
    "\n",
    "print('正负各 %s 条，共 %s 类， 每类各 %s 条'%(N, class_n, n))\n",
    "with pd.ExcelWriter(fea_filename) as writer:\n",
    "    for tendency in combined_data['tendency'].unique():\n",
    "        tmp_data = pd.DataFrame()\n",
    "        sel_data = combined_data[combined_data['tendency'] == tendency]        \n",
    "        for predict_label in combined_data['predict_label'].unique():\n",
    "            label_data = sel_data[sel_data['predict_label'] == predict_label]\n",
    "            if label_data.shape[0] > n:\n",
    "                sel_label_data = label_data.sample(n = n, axis = 0, random_state=3)\n",
    "            else :\n",
    "                sel_label_data = label_data\n",
    "            tmp_data = pd.concat([tmp_data, sel_label_data], axis = 0)        \n",
    "            print('tendency: %s, predict_label: %s, size: %s'%(tendency, predict_label, tmp_data.shape))\n",
    "        \n",
    "        if tmp_data.shape[0] > N:\n",
    "            t_n = N\n",
    "        else :\n",
    "            t_n = tmp_data.shape[0]\n",
    "        \n",
    "        tmp_data = tmp_data.sample(n = N, axis = 0, random_state=3)\n",
    "        tmp_data.to_excel(writer,str(tendency), index = False)\n",
    "        print(tmp_data.pivot_table(index = ['tendency'], \n",
    "                                    columns = ['predict_label'], \n",
    "                                    values = 'title', aggfunc=len, \n",
    "                                    fill_value=0, margins=True))    \n",
    "    writer.save()"
   ]
  },
  {
   "cell_type": "markdown",
   "metadata": {},
   "source": [
    "### 补录数据"
   ]
  },
  {
   "cell_type": "code",
   "execution_count": 20,
   "metadata": {
    "ExecuteTime": {
     "end_time": "2018-12-04T01:39:49.448143Z",
     "start_time": "2018-12-04T01:39:41.537690Z"
    }
   },
   "outputs": [
    {
     "name": "stdout",
     "output_type": "stream",
     "text": [
      "title 去重前： (3334, 7)\n",
      "title 去重后： (3334, 7)\n",
      "content 去重后： (3334, 7)\n",
      "title 去空值后： (3334, 7)\n"
     ]
    },
    {
     "data": {
      "text/html": [
       "<div>\n",
       "<style scoped>\n",
       "    .dataframe tbody tr th:only-of-type {\n",
       "        vertical-align: middle;\n",
       "    }\n",
       "\n",
       "    .dataframe tbody tr th {\n",
       "        vertical-align: top;\n",
       "    }\n",
       "\n",
       "    .dataframe thead th {\n",
       "        text-align: right;\n",
       "    }\n",
       "</style>\n",
       "<table border=\"1\" class=\"dataframe\">\n",
       "  <thead>\n",
       "    <tr style=\"text-align: right;\">\n",
       "      <th></th>\n",
       "      <th>id</th>\n",
       "      <th>group_id</th>\n",
       "      <th>publishtime</th>\n",
       "      <th>gather_type</th>\n",
       "      <th>tendency</th>\n",
       "      <th>title</th>\n",
       "      <th>content</th>\n",
       "    </tr>\n",
       "  </thead>\n",
       "  <tbody>\n",
       "    <tr>\n",
       "      <th>0</th>\n",
       "      <td>267289612</td>\n",
       "      <td>微博</td>\n",
       "      <td>2018-10-31 12:11:44</td>\n",
       "      <td>1</td>\n",
       "      <td>-1</td>\n",
       "      <td>24号没叫取了28号给我 26号后直接跳到了32号 @中国工商银行 麻烦请加强下底层工作人员...</td>\n",
       "      <td>24号没叫取了28号给我\\n26号后直接跳到了32号\\n@中国工商银行 麻烦请加强下底层工作...</td>\n",
       "    </tr>\n",
       "    <tr>\n",
       "      <th>1</th>\n",
       "      <td>266932412</td>\n",
       "      <td>微博</td>\n",
       "      <td>2018-10-30 11:46:06</td>\n",
       "      <td>1</td>\n",
       "      <td>-1</td>\n",
       "      <td>#魔法万圣节# 在建行庆祝万圣节 各种暂停服务 没人的情况下等待二十分钟 后边的一个叔叔等待...</td>\n",
       "      <td>#魔法万圣节# 在建行庆祝万圣节 各种暂停服务 没人的情况下等待二十分钟 后边的一个叔叔等待...</td>\n",
       "    </tr>\n",
       "    <tr>\n",
       "      <th>2</th>\n",
       "      <td>249135456</td>\n",
       "      <td>微博</td>\n",
       "      <td>2018-09-28 10:31:29</td>\n",
       "      <td>1</td>\n",
       "      <td>-1</td>\n",
       "      <td>工商银行的服务真是稀烂！不是财大气粗吗？从工作人员的业务熟悉度到业务平台系统都是渣渣！</td>\n",
       "      <td>工商银行的服务真是稀烂！不是财大气粗吗？从工作人员的业务熟悉度到业务平台系统都是渣渣！</td>\n",
       "    </tr>\n",
       "    <tr>\n",
       "      <th>3</th>\n",
       "      <td>263284185</td>\n",
       "      <td>微信</td>\n",
       "      <td>2018-10-17 00:00:00</td>\n",
       "      <td>1</td>\n",
       "      <td>-1</td>\n",
       "      <td>老牌长租公寓也摊事儿！雷军等明星投资人加持却也难逃一劫，年内已有5家爆雷</td>\n",
       "      <td>(图片)\\n\\n(图片)\\n\\n长租公寓又“摊上事儿”了。\\n\\n上海老牌长租公寓  寓见...</td>\n",
       "    </tr>\n",
       "    <tr>\n",
       "      <th>4</th>\n",
       "      <td>269162185</td>\n",
       "      <td>微博</td>\n",
       "      <td>2018-11-06 20:42:00</td>\n",
       "      <td>1</td>\n",
       "      <td>-1</td>\n",
       "      <td>不得不表扬下@招商银行信用卡 了，前几天在...</td>\n",
       "      <td>不得不表扬下\\n@招商银行信用卡\\n 了，前几天在苏格兰玩儿弄丢了卡，发现可以直接打开手机...</td>\n",
       "    </tr>\n",
       "  </tbody>\n",
       "</table>\n",
       "</div>"
      ],
      "text/plain": [
       "          id group_id         publishtime  gather_type  tendency  \\\n",
       "0  267289612       微博 2018-10-31 12:11:44            1        -1   \n",
       "1  266932412       微博 2018-10-30 11:46:06            1        -1   \n",
       "2  249135456       微博 2018-09-28 10:31:29            1        -1   \n",
       "3  263284185       微信 2018-10-17 00:00:00            1        -1   \n",
       "4  269162185       微博 2018-11-06 20:42:00            1        -1   \n",
       "\n",
       "                                               title  \\\n",
       "0  24号没叫取了28号给我 26号后直接跳到了32号 @中国工商银行 麻烦请加强下底层工作人员...   \n",
       "1  #魔法万圣节# 在建行庆祝万圣节 各种暂停服务 没人的情况下等待二十分钟 后边的一个叔叔等待...   \n",
       "2        工商银行的服务真是稀烂！不是财大气粗吗？从工作人员的业务熟悉度到业务平台系统都是渣渣！   \n",
       "3               老牌长租公寓也摊事儿！雷军等明星投资人加持却也难逃一劫，年内已有5家爆雷   \n",
       "4                           不得不表扬下@招商银行信用卡 了，前几天在...   \n",
       "\n",
       "                                             content  \n",
       "0  24号没叫取了28号给我\\n26号后直接跳到了32号\\n@中国工商银行 麻烦请加强下底层工作...  \n",
       "1  #魔法万圣节# 在建行庆祝万圣节 各种暂停服务 没人的情况下等待二十分钟 后边的一个叔叔等待...  \n",
       "2        工商银行的服务真是稀烂！不是财大气粗吗？从工作人员的业务熟悉度到业务平台系统都是渣渣！  \n",
       "3   (图片)\\n\\n(图片)\\n\\n长租公寓又“摊上事儿”了。\\n\\n上海老牌长租公寓  寓见...  \n",
       "4   不得不表扬下\\n@招商银行信用卡\\n 了，前几天在苏格兰玩儿弄丢了卡，发现可以直接打开手机...  "
      ]
     },
     "execution_count": 20,
     "metadata": {},
     "output_type": "execute_result"
    }
   ],
   "source": [
    "# 人工补录\n",
    "sql_one_day = \"select t1.id, t1.group_id, t1.publishtime as publishtime, t1.gather_type, \\\n",
    "                    t1.sen as tendency, t1.title,t2.text as content \\\n",
    "                    from elint_web_docinfo t1, wise_web_docinfo_text t2 \\\n",
    "                        where t1.id=t2.doc_id \\\n",
    "                              and t1.publishtime >= '{0} 00:00:00' \\\n",
    "                              and t1.publishtime <= '{1} 23:59:59' \\\n",
    "                              and t1.gather_type in (1,3) \\\n",
    "                            group by t1.titlehash\".format('2018-09-01', '2018-12-03')\n",
    "# titlehash 去重后\n",
    "human_additional = pd.read_sql(sql_one_day, engine) \n",
    "human_additional['group_id'] = human_additional['group_id'].apply(lambda x:group_dict[str(x)])\n",
    "print('title 去重前：', human_additional.shape)\n",
    "human_additional = human_additional.drop_duplicates(subset = 'title')\n",
    "print('title 去重后：', human_additional.shape)  \n",
    "human_additional = human_additional.drop_duplicates(subset = ['content'])\n",
    "print('content 去重后：', human_additional.shape)  \n",
    "human_additional = human_additional.dropna(subset = ['title'], axis = 0)\n",
    "print('title 去空值后：', human_additional.shape) \n",
    "human_additional.head()"
   ]
  },
  {
   "cell_type": "code",
   "execution_count": 21,
   "metadata": {
    "ExecuteTime": {
     "end_time": "2018-12-04T01:41:39.411432Z",
     "start_time": "2018-12-04T01:39:59.952744Z"
    }
   },
   "outputs": [
    {
     "name": "stdout",
     "output_type": "stream",
     "text": [
      "消费服务      2366\n",
      "行业         290\n",
      "噪音         252\n",
      "资本市场       131\n",
      "监管         103\n",
      "公司内部管理     101\n",
      "产品销售        80\n",
      "其他相关报道      11\n",
      "Name: predict_label, dtype: int64\n"
     ]
    },
    {
     "data": {
      "text/html": [
       "<div>\n",
       "<style scoped>\n",
       "    .dataframe tbody tr th:only-of-type {\n",
       "        vertical-align: middle;\n",
       "    }\n",
       "\n",
       "    .dataframe tbody tr th {\n",
       "        vertical-align: top;\n",
       "    }\n",
       "\n",
       "    .dataframe thead th {\n",
       "        text-align: right;\n",
       "    }\n",
       "</style>\n",
       "<table border=\"1\" class=\"dataframe\">\n",
       "  <thead>\n",
       "    <tr style=\"text-align: right;\">\n",
       "      <th></th>\n",
       "      <th>id</th>\n",
       "      <th>group_id</th>\n",
       "      <th>publishtime</th>\n",
       "      <th>gather_type</th>\n",
       "      <th>tendency</th>\n",
       "      <th>label</th>\n",
       "      <th>title</th>\n",
       "      <th>content</th>\n",
       "      <th>predict_label</th>\n",
       "    </tr>\n",
       "  </thead>\n",
       "  <tbody>\n",
       "    <tr>\n",
       "      <th>0</th>\n",
       "      <td>267289612</td>\n",
       "      <td>微博</td>\n",
       "      <td>2018-10-31 12:11:44</td>\n",
       "      <td>1</td>\n",
       "      <td>-1</td>\n",
       "      <td></td>\n",
       "      <td>24号没叫取了28号给我 26号后直接跳到了32号 @中国工商银行 麻烦请加强下底层工作人员...</td>\n",
       "      <td>24号没叫取了28号给我\\n26号后直接跳到了32号\\n@中国工商银行 麻烦请加强下底层工作...</td>\n",
       "      <td>消费服务</td>\n",
       "    </tr>\n",
       "    <tr>\n",
       "      <th>1</th>\n",
       "      <td>266932412</td>\n",
       "      <td>微博</td>\n",
       "      <td>2018-10-30 11:46:06</td>\n",
       "      <td>1</td>\n",
       "      <td>-1</td>\n",
       "      <td></td>\n",
       "      <td>#魔法万圣节# 在建行庆祝万圣节 各种暂停服务 没人的情况下等待二十分钟 后边的一个叔叔等待...</td>\n",
       "      <td>#魔法万圣节# 在建行庆祝万圣节 各种暂停服务 没人的情况下等待二十分钟 后边的一个叔叔等待...</td>\n",
       "      <td>消费服务</td>\n",
       "    </tr>\n",
       "    <tr>\n",
       "      <th>2</th>\n",
       "      <td>249135456</td>\n",
       "      <td>微博</td>\n",
       "      <td>2018-09-28 10:31:29</td>\n",
       "      <td>1</td>\n",
       "      <td>-1</td>\n",
       "      <td></td>\n",
       "      <td>工商银行的服务真是稀烂！不是财大气粗吗？从工作人员的业务熟悉度到业务平台系统都是渣渣！</td>\n",
       "      <td>工商银行的服务真是稀烂！不是财大气粗吗？从工作人员的业务熟悉度到业务平台系统都是渣渣！</td>\n",
       "      <td>消费服务</td>\n",
       "    </tr>\n",
       "    <tr>\n",
       "      <th>3</th>\n",
       "      <td>263284185</td>\n",
       "      <td>微信</td>\n",
       "      <td>2018-10-17 00:00:00</td>\n",
       "      <td>1</td>\n",
       "      <td>-1</td>\n",
       "      <td></td>\n",
       "      <td>老牌长租公寓也摊事儿！雷军等明星投资人加持却也难逃一劫，年内已有5家爆雷</td>\n",
       "      <td>(图片)\\n\\n(图片)\\n\\n长租公寓又“摊上事儿”了。\\n\\n上海老牌长租公寓  寓见...</td>\n",
       "      <td>行业</td>\n",
       "    </tr>\n",
       "    <tr>\n",
       "      <th>4</th>\n",
       "      <td>269162185</td>\n",
       "      <td>微博</td>\n",
       "      <td>2018-11-06 20:42:00</td>\n",
       "      <td>1</td>\n",
       "      <td>-1</td>\n",
       "      <td></td>\n",
       "      <td>不得不表扬下@招商银行信用卡 了，前几天在...</td>\n",
       "      <td>不得不表扬下\\n@招商银行信用卡\\n 了，前几天在苏格兰玩儿弄丢了卡，发现可以直接打开手机...</td>\n",
       "      <td>消费服务</td>\n",
       "    </tr>\n",
       "  </tbody>\n",
       "</table>\n",
       "</div>"
      ],
      "text/plain": [
       "          id group_id         publishtime  gather_type  tendency label  \\\n",
       "0  267289612       微博 2018-10-31 12:11:44            1        -1         \n",
       "1  266932412       微博 2018-10-30 11:46:06            1        -1         \n",
       "2  249135456       微博 2018-09-28 10:31:29            1        -1         \n",
       "3  263284185       微信 2018-10-17 00:00:00            1        -1         \n",
       "4  269162185       微博 2018-11-06 20:42:00            1        -1         \n",
       "\n",
       "                                               title  \\\n",
       "0  24号没叫取了28号给我 26号后直接跳到了32号 @中国工商银行 麻烦请加强下底层工作人员...   \n",
       "1  #魔法万圣节# 在建行庆祝万圣节 各种暂停服务 没人的情况下等待二十分钟 后边的一个叔叔等待...   \n",
       "2        工商银行的服务真是稀烂！不是财大气粗吗？从工作人员的业务熟悉度到业务平台系统都是渣渣！   \n",
       "3               老牌长租公寓也摊事儿！雷军等明星投资人加持却也难逃一劫，年内已有5家爆雷   \n",
       "4                           不得不表扬下@招商银行信用卡 了，前几天在...   \n",
       "\n",
       "                                             content predict_label  \n",
       "0  24号没叫取了28号给我\\n26号后直接跳到了32号\\n@中国工商银行 麻烦请加强下底层工作...          消费服务  \n",
       "1  #魔法万圣节# 在建行庆祝万圣节 各种暂停服务 没人的情况下等待二十分钟 后边的一个叔叔等待...          消费服务  \n",
       "2        工商银行的服务真是稀烂！不是财大气粗吗？从工作人员的业务熟悉度到业务平台系统都是渣渣！          消费服务  \n",
       "3   (图片)\\n\\n(图片)\\n\\n长租公寓又“摊上事儿”了。\\n\\n上海老牌长租公寓  寓见...            行业  \n",
       "4   不得不表扬下\\n@招商银行信用卡\\n 了，前几天在苏格兰玩儿弄丢了卡，发现可以直接打开手机...          消费服务  "
      ]
     },
     "execution_count": 21,
     "metadata": {},
     "output_type": "execute_result"
    }
   ],
   "source": [
    "human_additional['title'] = human_additional['title'].astype(str) \n",
    "human_additional['content'] = human_additional['content'].astype(str)\n",
    "data = {\"record\":human_additional.loc[:,['id', 'title' ,'content']].to_dict(orient = 'records')}\n",
    "url = \"http://47.93.77.19:6001/judge_correlation_yjh\"\n",
    "col_name = 'sec'\n",
    "parse_data, elapsed_time = get_server_res(data, url, col_name)\n",
    "parse_data.columns = ['id', 'predict_label']\n",
    "human_additional = pd.merge(human_additional, parse_data, on = 'id', how = 'left')\n",
    "human_additional['predict_label'] = human_additional['predict_label'].apply(lambda x:class_name_dict[x])\n",
    "human_additional.insert(5, 'label', '')\n",
    "print(human_additional['predict_label'].value_counts())\n",
    "human_additional.head()"
   ]
  },
  {
   "cell_type": "code",
   "execution_count": 24,
   "metadata": {
    "ExecuteTime": {
     "end_time": "2018-12-04T01:55:29.838930Z",
     "start_time": "2018-12-04T01:55:28.249839Z"
    }
   },
   "outputs": [
    {
     "name": "stdout",
     "output_type": "stream",
     "text": [
      "cbrc_result_class/result/补录_银监会（旧）_class_predict_mysql_20181203(0901-1203).xlsx\n",
      "消费服务      2366\n",
      "行业         290\n",
      "噪音         252\n",
      "资本市场       131\n",
      "监管         103\n",
      "公司内部管理     101\n",
      "产品销售        80\n",
      "其他相关报道      11\n",
      "Name: predict_label, dtype: int64\n",
      "\n",
      "predict_label  产品销售  公司内部管理  其他相关报道   噪音  消费服务   监管   行业  资本市场   All\n",
      "group_id                                                            \n",
      "博客                0       0       0    0     1    0    0     0     1\n",
      "微信                0       3       0    2     5    4   12     6    32\n",
      "微博               76       3       6  153  2282    4    9     4  2537\n",
      "新闻                2      86       4   64    23   61  165    63   468\n",
      "新闻客户端             0       2       0    2     0    4    1     2    11\n",
      "纸媒                0       5       1   25     7   30  103    56   227\n",
      "论坛                2       2       0    6    48    0    0     0    58\n",
      "All              80     101      11  252  2366  103  290   131  3334\n"
     ]
    }
   ],
   "source": [
    "fea_filename = 'cbrc_result_class/result/补录_银监会（旧）_class_predict_mysql_20181203(0901-1203).xlsx'\n",
    "print(fea_filename)\n",
    "\n",
    "sel_col = ['噪音', '消费服务', '公司内部管理', '监管',\n",
    "           '行业', '资本市场', '其他相关报道','产品销售','交通','环保']\n",
    "sel_data = human_additional[human_additional['predict_label'].isin(sel_col)]\n",
    "print(sel_data['predict_label'].value_counts())\n",
    "print()\n",
    "\n",
    "c_data = pd.DataFrame()\n",
    "with pd.ExcelWriter(fea_filename) as writer:\n",
    "    for label in sel_data['predict_label'].unique():\n",
    "        tmp_data = sel_data[sel_data['predict_label'] == label]\n",
    "        N = tmp_data.shape[0]            \n",
    "        save_data = tmp_data.sample(n = N, axis = 0, random_state=42)\n",
    "        save_data.to_excel(writer,label, index = False)\n",
    "        c_data = pd.concat([c_data, save_data], axis = 0)\n",
    "    print(c_data.pivot_table(index = ['group_id'], \n",
    "                                columns = ['predict_label'], \n",
    "                                values = 'title', aggfunc=len, \n",
    "                                fill_value=0, margins=True))      \n",
    "    writer.save()"
   ]
  },
  {
   "cell_type": "code",
   "execution_count": 25,
   "metadata": {
    "ExecuteTime": {
     "end_time": "2018-12-04T01:55:42.394648Z",
     "start_time": "2018-12-04T01:55:41.037570Z"
    }
   },
   "outputs": [
    {
     "name": "stdout",
     "output_type": "stream",
     "text": [
      "cbrc_result_tendency/result/补录_银监会（旧）_tendency_predict_mysql_20181204(0901-1203).xlsx\n",
      "-1    2892\n",
      " 0     345\n",
      " 1      97\n",
      "Name: tendency, dtype: int64\n"
     ]
    }
   ],
   "source": [
    "fea_filename = 'cbrc_result_tendency/result/补录_银监会（旧）_tendency_predict_mysql_20181204(0901-1203).xlsx'\n",
    "print(fea_filename)\n",
    "print(human_additional['tendency'].value_counts())\n",
    "\n",
    "with pd.ExcelWriter(fea_filename) as writer:\n",
    "    for tendency in human_additional['tendency'].unique():\n",
    "        sel_data = human_additional[human_additional['tendency'] == tendency]    \n",
    "        t_n = sel_data.shape[0]        \n",
    "        tmp_data = sel_data.sample(n = t_n, axis = 0, random_state=3)\n",
    "        tmp_data.to_excel(writer,str(tendency), index = False)           \n",
    "    writer.save()"
   ]
  },
  {
   "cell_type": "markdown",
   "metadata": {
    "collapsed": true
   },
   "source": [
    "## 本地模型"
   ]
  },
  {
   "cell_type": "markdown",
   "metadata": {},
   "source": [
    "### 八分类"
   ]
  },
  {
   "cell_type": "code",
   "execution_count": null,
   "metadata": {
    "ExecuteTime": {
     "end_time": "2018-10-08T06:08:55.607050Z",
     "start_time": "2018-10-08T06:08:53.117234Z"
    },
    "collapsed": true
   },
   "outputs": [],
   "source": [
    "from sklearn.externals import joblib\n",
    "pipeline_old = joblib.load( \"model/cbrc_8classifier_1015.pkl.z\")"
   ]
  },
  {
   "cell_type": "code",
   "execution_count": null,
   "metadata": {
    "ExecuteTime": {
     "end_time": "2018-10-08T06:18:52.561354Z",
     "start_time": "2018-10-08T06:08:56.797702Z"
    },
    "collapsed": true
   },
   "outputs": [],
   "source": [
    "combined_data['title_content'] = combined_data['title'].astype(str) + '。' + combined_data['content'].astype(str)\n",
    "title_content = pre_cor_cbrc.handle_contents(combined_data['title_content'].tolist())\n",
    "print(len(title_content))\n",
    "\n",
    "local_label = pipeline_old.predict(title_content)\n",
    "local_proba = pipeline_old.predict_proba(title_content)"
   ]
  },
  {
   "cell_type": "code",
   "execution_count": null,
   "metadata": {
    "ExecuteTime": {
     "end_time": "2018-10-08T06:18:53.780509Z",
     "start_time": "2018-10-08T06:18:53.751505Z"
    },
    "collapsed": true
   },
   "outputs": [],
   "source": [
    "combined_data['local_label'] = local_label\n",
    "combined_data['local_proba'] = local_proba.max(axis = 1)\n",
    "combined_data['local_label'] = combined_data['local_label'].apply(lambda x:class_name_dict[x])\n",
    "print(combined_data.shape)\n",
    "combined_data.iloc[:2, :]"
   ]
  },
  {
   "cell_type": "markdown",
   "metadata": {},
   "source": [
    "#### 线上线下一致性: mysql 与 local"
   ]
  },
  {
   "cell_type": "code",
   "execution_count": null,
   "metadata": {
    "ExecuteTime": {
     "end_time": "2018-10-08T06:18:57.152437Z",
     "start_time": "2018-10-08T06:18:55.000164Z"
    },
    "collapsed": true
   },
   "outputs": [],
   "source": [
    "combined_data['R_W'] = combined_data.apply(lambda x: 'Right' if x['local_label'] == x['predict_label'] else 'Wrong', axis = 1)\n",
    "print(combined_data[combined_data['R_W'] == 'Right'].shape[0]/combined_data.shape[0])\n",
    "print(combined_data['R_W'].value_counts())\n",
    "combined_data[combined_data['R_W'] == 'Wrong'].pivot_table(index = ['local_label'], columns = ['predict_label'], \n",
    "                                                            aggfunc = [len], values = ['urlhash'], \n",
    "                                                            fill_value = 0, margins = True)"
   ]
  },
  {
   "cell_type": "markdown",
   "metadata": {},
   "source": [
    "#### 线上线下一致性: online 与 local"
   ]
  },
  {
   "cell_type": "code",
   "execution_count": null,
   "metadata": {
    "ExecuteTime": {
     "end_time": "2018-10-08T06:18:58.463103Z",
     "start_time": "2018-10-08T06:18:58.420598Z"
    },
    "collapsed": true
   },
   "outputs": [],
   "source": [
    "combined_data['id'] = range(combined_data.shape[0])\n",
    "combined_data['title'] = combined_data['title'].astype(str) \n",
    "combined_data['content'] = combined_data['content'].astype(str)"
   ]
  },
  {
   "cell_type": "code",
   "execution_count": null,
   "metadata": {
    "ExecuteTime": {
     "end_time": "2018-10-08T06:49:05.543073Z",
     "start_time": "2018-10-08T06:18:59.725264Z"
    },
    "collapsed": true
   },
   "outputs": [],
   "source": [
    "data = {\"record\":combined_data.loc[:,['id', 'title' ,'content']].to_dict(orient = 'records')}\n",
    "url = \"http://47.93.77.19:6001/judge_correlation_yjh\"\n",
    "col_name = 'sec'\n",
    "parse_data = get_server_res_yjh(data, url, col_name)\n",
    "parse_data.columns = ['id', 'online_label']\n",
    "parse_data.head()"
   ]
  },
  {
   "cell_type": "code",
   "execution_count": null,
   "metadata": {
    "ExecuteTime": {
     "end_time": "2018-10-08T06:49:09.341056Z",
     "start_time": "2018-10-08T06:49:06.973255Z"
    },
    "collapsed": true
   },
   "outputs": [],
   "source": [
    "combined_data = pd.merge(combined_data, parse_data, on  = 'id')\n",
    "print(combined_data.shape)\n",
    "combined_data['online_label'] = combined_data['online_label'].apply(lambda x:class_name_dict[x])\n",
    "combined_data['O_R_W'] = combined_data.apply(lambda x: 'Right' if x['local_label'] == x['online_label'] else 'Wrong', axis = 1)\n",
    "print(combined_data[combined_data['O_R_W'] == 'Right'].shape[0]/combined_data.shape[0])\n",
    "print(combined_data['O_R_W'].value_counts())\n",
    "combined_data[combined_data['O_R_W'] == 'Wrong'].pivot_table(index = ['local_label'], columns = ['online_label'], \n",
    "                                                            aggfunc = [len], values = ['urlhash'], \n",
    "                                                            fill_value = 0, margins = True)"
   ]
  },
  {
   "cell_type": "markdown",
   "metadata": {},
   "source": [
    "#### 线上线下一致性: online 与 mysql"
   ]
  },
  {
   "cell_type": "code",
   "execution_count": null,
   "metadata": {
    "ExecuteTime": {
     "end_time": "2018-10-08T06:49:13.415073Z",
     "start_time": "2018-10-08T06:49:10.973263Z"
    },
    "collapsed": true
   },
   "outputs": [],
   "source": [
    "combined_data['O_R_W'] = combined_data.apply(lambda x: 'Right' if x['predict_label'] == x['online_label'] else 'Wrong', axis = 1)\n",
    "print(combined_data[combined_data['O_R_W'] == 'Right'].shape[0]/combined_data.shape[0])\n",
    "print(combined_data['O_R_W'].value_counts())\n",
    "combined_data[combined_data['O_R_W'] == 'Wrong'].pivot_table(index = ['predict_label'], columns = ['online_label'], \n",
    "                                                            aggfunc = [len], values = ['urlhash'], \n",
    "                                                            fill_value = 0, margins = True)"
   ]
  },
  {
   "cell_type": "markdown",
   "metadata": {},
   "source": [
    "### 倾向性"
   ]
  },
  {
   "cell_type": "code",
   "execution_count": null,
   "metadata": {
    "ExecuteTime": {
     "end_time": "2018-10-08T06:08:55.607050Z",
     "start_time": "2018-10-08T06:08:53.117234Z"
    },
    "collapsed": true
   },
   "outputs": [],
   "source": [
    "from sklearn.externals import joblib\n",
    "pipeline_old = joblib.load( \"model/cbrc_8classifier_1015.pkl.z\")"
   ]
  },
  {
   "cell_type": "code",
   "execution_count": null,
   "metadata": {
    "ExecuteTime": {
     "end_time": "2018-10-08T06:18:52.561354Z",
     "start_time": "2018-10-08T06:08:56.797702Z"
    },
    "collapsed": true
   },
   "outputs": [],
   "source": [
    "combined_data['title_content'] = combined_data['title'].astype(str) + '。' + combined_data['content'].astype(str)\n",
    "title_content = pre_cor_cbrc.handle_contents(combined_data['title_content'].tolist())\n",
    "print(len(title_content))\n",
    "\n",
    "local_label = pipeline_old.predict(title_content)\n",
    "local_proba = pipeline_old.predict_proba(title_content)"
   ]
  },
  {
   "cell_type": "code",
   "execution_count": null,
   "metadata": {
    "ExecuteTime": {
     "end_time": "2018-10-08T06:18:53.780509Z",
     "start_time": "2018-10-08T06:18:53.751505Z"
    },
    "collapsed": true
   },
   "outputs": [],
   "source": [
    "combined_data['local_label'] = local_label\n",
    "combined_data['local_proba'] = local_proba.max(axis = 1)\n",
    "combined_data['local_label'] = combined_data['local_label'].apply(lambda x:class_name_dict[x])\n",
    "print(combined_data.shape)\n",
    "combined_data.iloc[:2, :]"
   ]
  },
  {
   "cell_type": "markdown",
   "metadata": {},
   "source": [
    "#### 线上线下一致性: mysql 与 local"
   ]
  },
  {
   "cell_type": "code",
   "execution_count": null,
   "metadata": {
    "ExecuteTime": {
     "end_time": "2018-10-08T06:18:57.152437Z",
     "start_time": "2018-10-08T06:18:55.000164Z"
    },
    "collapsed": true
   },
   "outputs": [],
   "source": [
    "combined_data['R_W'] = combined_data.apply(lambda x: 'Right' if x['local_label'] == x['predict_label'] else 'Wrong', axis = 1)\n",
    "print(combined_data[combined_data['R_W'] == 'Right'].shape[0]/combined_data.shape[0])\n",
    "print(combined_data['R_W'].value_counts())\n",
    "combined_data[combined_data['R_W'] == 'Wrong'].pivot_table(index = ['local_label'], columns = ['predict_label'], \n",
    "                                                            aggfunc = [len], values = ['urlhash'], \n",
    "                                                            fill_value = 0, margins = True)"
   ]
  },
  {
   "cell_type": "markdown",
   "metadata": {},
   "source": [
    "#### 线上线下一致性: online 与 local"
   ]
  },
  {
   "cell_type": "code",
   "execution_count": null,
   "metadata": {
    "ExecuteTime": {
     "end_time": "2018-10-08T06:18:58.463103Z",
     "start_time": "2018-10-08T06:18:58.420598Z"
    },
    "collapsed": true
   },
   "outputs": [],
   "source": [
    "combined_data['id'] = range(combined_data.shape[0])\n",
    "combined_data['title'] = combined_data['title'].astype(str) \n",
    "combined_data['content'] = combined_data['content'].astype(str)"
   ]
  },
  {
   "cell_type": "code",
   "execution_count": null,
   "metadata": {
    "ExecuteTime": {
     "end_time": "2018-10-08T06:49:05.543073Z",
     "start_time": "2018-10-08T06:18:59.725264Z"
    },
    "collapsed": true
   },
   "outputs": [],
   "source": [
    "data = {\"record\":combined_data.loc[:,['id', 'title' ,'content']].to_dict(orient = 'records')}\n",
    "url = \"http://47.93.77.19:6001/judge_correlation_yjh\"\n",
    "col_name = 'sec'\n",
    "parse_data = get_server_res_yjh(data, url, col_name)\n",
    "parse_data.columns = ['id', 'online_label']\n",
    "parse_data.head()"
   ]
  },
  {
   "cell_type": "code",
   "execution_count": null,
   "metadata": {
    "ExecuteTime": {
     "end_time": "2018-10-08T06:49:09.341056Z",
     "start_time": "2018-10-08T06:49:06.973255Z"
    },
    "collapsed": true
   },
   "outputs": [],
   "source": [
    "combined_data = pd.merge(combined_data, parse_data, on  = 'id')\n",
    "print(combined_data.shape)\n",
    "combined_data['online_label'] = combined_data['online_label'].apply(lambda x:class_name_dict[x])\n",
    "combined_data['O_R_W'] = combined_data.apply(lambda x: 'Right' if x['local_label'] == x['online_label'] else 'Wrong', axis = 1)\n",
    "print(combined_data[combined_data['O_R_W'] == 'Right'].shape[0]/combined_data.shape[0])\n",
    "print(combined_data['O_R_W'].value_counts())\n",
    "combined_data[combined_data['O_R_W'] == 'Wrong'].pivot_table(index = ['local_label'], columns = ['online_label'], \n",
    "                                                            aggfunc = [len], values = ['urlhash'], \n",
    "                                                            fill_value = 0, margins = True)"
   ]
  },
  {
   "cell_type": "markdown",
   "metadata": {},
   "source": [
    "#### 线上线下一致性: online 与 mysql"
   ]
  },
  {
   "cell_type": "code",
   "execution_count": null,
   "metadata": {
    "ExecuteTime": {
     "end_time": "2018-10-08T06:49:13.415073Z",
     "start_time": "2018-10-08T06:49:10.973263Z"
    },
    "collapsed": true
   },
   "outputs": [],
   "source": [
    "combined_data['O_R_W'] = combined_data.apply(lambda x: 'Right' if x['predict_label'] == x['online_label'] else 'Wrong', axis = 1)\n",
    "print(combined_data[combined_data['O_R_W'] == 'Right'].shape[0]/combined_data.shape[0])\n",
    "print(combined_data['O_R_W'].value_counts())\n",
    "combined_data[combined_data['O_R_W'] == 'Wrong'].pivot_table(index = ['predict_label'], columns = ['online_label'], \n",
    "                                                            aggfunc = [len], values = ['urlhash'], \n",
    "                                                            fill_value = 0, margins = True)"
   ]
  },
  {
   "cell_type": "code",
   "execution_count": null,
   "metadata": {
    "collapsed": true
   },
   "outputs": [],
   "source": []
  },
  {
   "cell_type": "code",
   "execution_count": null,
   "metadata": {
    "collapsed": true
   },
   "outputs": [],
   "source": []
  },
  {
   "cell_type": "markdown",
   "metadata": {
    "ExecuteTime": {
     "end_time": "2018-09-11T03:51:49.646007Z",
     "start_time": "2018-09-11T03:51:48.860962Z"
    },
    "collapsed": true
   },
   "source": [
    "# 银行业与保险业--新"
   ]
  },
  {
   "cell_type": "markdown",
   "metadata": {
    "collapsed": true
   },
   "source": [
    "## mysql 数据"
   ]
  },
  {
   "cell_type": "code",
   "execution_count": 13,
   "metadata": {
    "ExecuteTime": {
     "end_time": "2019-02-26T06:34:59.689719Z",
     "start_time": "2019-02-26T06:34:49.281728Z"
    },
    "collapsed": true
   },
   "outputs": [],
   "source": [
    "engine = specific_func.get_engine('cbirc')"
   ]
  },
  {
   "cell_type": "code",
   "execution_count": 26,
   "metadata": {
    "ExecuteTime": {
     "end_time": "2019-02-26T06:07:46.771289Z",
     "start_time": "2019-02-26T06:07:36.514784Z"
    },
    "collapsed": true
   },
   "outputs": [],
   "source": [
    "engine = specific_func.get_engine('ahyjj')"
   ]
  },
  {
   "cell_type": "code",
   "execution_count": 17,
   "metadata": {
    "ExecuteTime": {
     "end_time": "2019-02-26T06:43:06.267209Z",
     "start_time": "2019-02-26T06:43:06.050633Z"
    }
   },
   "outputs": [
    {
     "name": "stdout",
     "output_type": "stream",
     "text": [
      "['2019-02-02', '2019-02-03', '2019-02-04', '2019-02-05', '2019-02-06', '2019-02-07', '2019-02-08', '2019-02-09', '2019-02-10', '2019-02-11', '2019-02-12', '2019-02-13', '2019-02-14', '2019-02-15', '2019-02-16', '2019-02-17', '2019-02-18', '2019-02-19', '2019-02-20', '2019-02-21', '2019-02-22', '2019-02-23', '2019-02-24', '2019-02-25']\n"
     ]
    }
   ],
   "source": [
    "# day_select = '2018-09-09'\n",
    "day_list = get_day_list('2019-02-01', '2019-02-25')\n",
    "print(day_list)"
   ]
  },
  {
   "cell_type": "code",
   "execution_count": 104,
   "metadata": {
    "ExecuteTime": {
     "end_time": "2018-12-21T03:40:13.494600Z",
     "start_time": "2018-12-21T03:40:13.459598Z"
    },
    "collapsed": true
   },
   "outputs": [],
   "source": [
    "# ahyyj_data = pd.read_excel('cbrc_data_class/安徽银监局数据_20181221.xlsx')\n",
    "# print(ahyyj_data.shape)\n",
    "# # ahyyj_data.iloc[:1,:]\n",
    "\n",
    "# url_list = tuple(ahyyj_data['url'].tolist())\n",
    "# sql_label = '''\n",
    "#         SELECT \n",
    "#             t3.id, t3.title, t3.group_id, t3.publishtime, t3.url, t3.urlhash\n",
    "#         FROM\n",
    "#             ahyjj.db_docinfo t3\n",
    "#         WHERE\n",
    "#             t3.url in {0}\n",
    "#         '''.format(url_list)\n",
    "\n",
    "# ahyjj_label = pd.read_sql(sql_label, engine)\n",
    "# # ahyjj_label['predict_label_mysql'] = ahyjj_label['traffic_id'].apply(lambda x:class_name_dict[x])\n",
    "# ahyjj_label['group_id'] = ahyjj_label['group_id'].apply(lambda x:group_dict[str(x)])\n",
    "# # ahyjj_label['type'] = ahyjj_label['type'].apply(lambda x:proj_name_dict[6])\n",
    "# print(ahyjj_label.shape)\n",
    "# # ahyjj_label.iloc[:1,:]\n",
    "\n",
    "# url_l = ahyjj_label['urlhash'].tolist()\n",
    "# url_list = tuple(url_l)\n",
    "# sql_content = '''\n",
    "# SELECT \n",
    "#     t1.urlhash, t1.text as content\n",
    "# FROM\n",
    "#     ahyjj.db_docinfo_text t1\n",
    "# WHERE\n",
    "#     t1.urlhash in {0}\n",
    "# '''.format(url_list)\n",
    "\n",
    "# ahyyj_content = pd.read_sql(sql_content, engine)\n",
    "# ahyyj_combined = pd.merge(ahyjj_label, ahyyj_content, on = 'urlhash', how = 'inner')\n",
    "# print(ahyyj_combined.shape)  \n",
    "# ahyyj_combined['label'] = ''\n",
    "# ahyyj_combined = ahyyj_combined[['id', 'label', 'title', 'content', 'group_id', 'publishtime', 'url']]\n",
    "# ahyyj_combined['title'] = ahyyj_combined['title'].astype(str)\n",
    "# ahyyj_combined['content'] = ahyyj_combined['content'].astype(str)\n",
    "# # ahyyj_combined.iloc[:1,:]\n",
    "\n",
    "# data = {\"types\":'1',\"record\":ahyyj_combined.loc[:,['id', 'title' ,'content']].to_dict(orient = 'records')}\n",
    "# url = \"http://39.105.162.87:6001/judge_correlation_b\"\n",
    "# col_name = 'cor'\n",
    "\n",
    "# # parse_data = get_server_res_yjh(data, url, col_name)\n",
    "# parse_data, elapsed_time = get_server_res(data, url, col_name)\n",
    "# print('elapsed_time: ', elapsed_time)\n",
    "# parse_data.columns = ['id', 'predict_label']\n",
    "# print(parse_data.shape)\n",
    "# # parse_data.head()\n",
    "\n",
    "# ahyyj_combined = pd.merge(parse_data, ahyyj_combined, on = 'id')\n",
    "# ahyyj_combined['predict_label'] = ahyyj_combined['predict_label'].apply(lambda x:class_name_dict[x])\n",
    "# print(ahyyj_combined.shape)\n",
    "# # ahyyj_combined.iloc[:1,:]\n",
    "\n",
    "# ahyyj_data = pd.merge(ahyyj_data, ahyyj_combined, on = 'url', how = 'left')\n",
    "# writer = pd.ExcelWriter('cbrc_data_class/安徽银监局数据_content_20181221.xlsx',\n",
    "#                         engine='xlsxwriter',\n",
    "#                         options={'strings_to_urls': False})\n",
    "# ahyyj_data.to_excel(writer, sheet_name='Sheet1', index = False)\n",
    "# writer.save()\n",
    "# print(ahyyj_data.shape)\n",
    "# ahyyj_data.iloc[:1,:]"
   ]
  },
  {
   "cell_type": "markdown",
   "metadata": {},
   "source": [
    "### 获取数据"
   ]
  },
  {
   "cell_type": "markdown",
   "metadata": {},
   "source": [
    "#### 系统采集\n",
    "- gather_type 0-系统采集"
   ]
  },
  {
   "cell_type": "code",
   "execution_count": 18,
   "metadata": {
    "ExecuteTime": {
     "end_time": "2019-02-26T07:04:42.100769Z",
     "start_time": "2019-02-26T06:43:19.847394Z"
    }
   },
   "outputs": [
    {
     "name": "stdout",
     "output_type": "stream",
     "text": [
      "获取 中国人保 数据...\n",
      "\n",
      "-- day_select:  2019-02-02\n",
      "label 去重前： (3784, 10)\n",
      "label 去重后： (3784, 10)\n",
      "label 去空值后： (3784, 10)\n",
      "content 去重前： (3784, 2)\n",
      "content 去重后： (3751, 2)\n",
      "content 去空值后： (3751, 2)\n",
      "(3751, 11)\n",
      "                len                                                     \n",
      "              title                                                     \n",
      "predict_label    交通 产品销售 公司内部管理 其他相关报道    噪音 消费服务  环保  监管  行业 资本市场   All\n",
      "tendency type                                                           \n",
      "-1       中国人保    15    0      3      0   149    5   0   0   2    0   174\n",
      "0        中国人保   128   17     16     26  3204   50  69  11  38   18  3577\n",
      "All             143   17     19     26  3353   55  69  11  40   18  3751\n",
      "   已生成： result/cbirc_result/class/result/cbirc_class_predict_采集_types(5)_2019-02-02.xlsx\n",
      "\n",
      "-- day_select:  2019-02-03\n",
      "label 去重前： (3449, 10)\n",
      "label 去重后： (3449, 10)\n",
      "label 去空值后： (3449, 10)\n",
      "content 去重前： (3449, 2)\n",
      "content 去重后： (3436, 2)\n",
      "content 去空值后： (3436, 2)\n",
      "(3436, 11)\n",
      "                len                                                    \n",
      "              title                                                    \n",
      "predict_label    交通 产品销售 公司内部管理 其他相关报道    噪音 消费服务  环保 监管  行业 资本市场   All\n",
      "tendency type                                                          \n",
      "-1       中国人保    34    0      2      0   159    1   1  0   5    2   204\n",
      "0        中国人保   228    7      9     15  2846   43  28  7  26   23  3232\n",
      "All             262    7     11     15  3005   44  29  7  31   25  3436\n",
      "   已生成： result/cbirc_result/class/result/cbirc_class_predict_采集_types(5)_2019-02-03.xlsx\n",
      "\n",
      "-- day_select:  2019-02-04\n",
      "label 去重前： (2687, 10)\n",
      "label 去重后： (2686, 10)\n",
      "label 去空值后： (2686, 10)\n",
      "content 去重前： (2686, 2)\n",
      "content 去重后： (2671, 2)\n",
      "content 去空值后： (2671, 2)\n",
      "(2671, 11)\n",
      "                len                                                    \n",
      "              title                                                    \n",
      "predict_label    交通 产品销售 公司内部管理 其他相关报道    噪音 消费服务  环保 监管  行业 资本市场   All\n",
      "tendency type                                                          \n",
      "-1       中国人保    22    0      4      0   120    4   0  0   1    1   152\n",
      "0        中国人保   156    8     15     14  2221   41  24  2  24   14  2519\n",
      "All             178    8     19     14  2341   45  24  2  25   15  2671\n",
      "   已生成： result/cbirc_result/class/result/cbirc_class_predict_采集_types(5)_2019-02-04.xlsx\n",
      "\n",
      "-- day_select:  2019-02-05\n",
      "label 去重前： (2481, 10)\n",
      "label 去重后： (2480, 10)\n",
      "label 去空值后： (2480, 10)\n",
      "content 去重前： (2480, 2)\n",
      "content 去重后： (2460, 2)\n",
      "content 去空值后： (2460, 2)\n",
      "(2460, 11)\n",
      "                len                                                    \n",
      "              title                                                    \n",
      "predict_label    交通 产品销售 公司内部管理 其他相关报道    噪音 消费服务  环保 监管  行业 资本市场   All\n",
      "tendency type                                                          \n",
      "-1       中国人保    22    0      4      0   105    2   0  0   1    3   137\n",
      "0        中国人保   194   18     13      9  1995   32  24  5  20   13  2323\n",
      "All             216   18     17      9  2100   34  24  5  21   16  2460\n",
      "   已生成： result/cbirc_result/class/result/cbirc_class_predict_采集_types(5)_2019-02-05.xlsx\n",
      "\n",
      "-- day_select:  2019-02-06\n",
      "label 去重前： (2543, 10)\n",
      "label 去重后： (2543, 10)\n",
      "label 去空值后： (2543, 10)\n",
      "content 去重前： (2543, 2)\n",
      "content 去重后： (2521, 2)\n",
      "content 去空值后： (2521, 2)\n",
      "(2521, 11)\n",
      "                len                                                    \n",
      "              title                                                    \n",
      "predict_label    交通 产品销售 公司内部管理 其他相关报道    噪音 消费服务  环保 监管  行业 资本市场   All\n",
      "tendency type                                                          \n",
      "-1       中国人保    36    0      1      0    99    5   0  0   2    0   143\n",
      "0        中国人保   253   16     17      7  1993   37  23  2  14   16  2378\n",
      "All             289   16     18      7  2092   42  23  2  16   16  2521\n",
      "   已生成： result/cbirc_result/class/result/cbirc_class_predict_采集_types(5)_2019-02-06.xlsx\n",
      "\n",
      "-- day_select:  2019-02-07\n",
      "label 去重前： (2812, 10)\n",
      "label 去重后： (2811, 10)\n",
      "label 去空值后： (2811, 10)\n",
      "content 去重前： (2811, 2)\n",
      "content 去重后： (2776, 2)\n",
      "content 去空值后： (2776, 2)\n",
      "(2776, 11)\n",
      "                len                                                    \n",
      "              title                                                    \n",
      "predict_label    交通 产品销售 公司内部管理 其他相关报道    噪音 消费服务  环保 监管  行业 资本市场   All\n",
      "tendency type                                                          \n",
      "-1       中国人保    21    0      2      0   118    3   0  0   7    1   152\n",
      "0        中国人保   247   14      6      6  2223   46  41  2  26   13  2624\n",
      "All             268   14      8      6  2341   49  41  2  33   14  2776\n",
      "   已生成： result/cbirc_result/class/result/cbirc_class_predict_采集_types(5)_2019-02-07.xlsx\n",
      "\n",
      "-- day_select:  2019-02-08\n",
      "label 去重前： (3941, 10)\n",
      "label 去重后： (3941, 10)\n",
      "label 去空值后： (3941, 10)\n",
      "content 去重前： (3941, 2)\n",
      "content 去重后： (3892, 2)\n",
      "content 去空值后： (3892, 2)\n",
      "(3892, 11)\n",
      "                len                                                    \n",
      "              title                                                    \n",
      "predict_label    交通 产品销售 公司内部管理 其他相关报道    噪音 消费服务  环保 监管  行业 资本市场   All\n",
      "tendency type                                                          \n",
      "-1       中国人保    27    0      2      0   133    4   0  0   3    2   171\n",
      "0        中国人保   275   16     19      5  3253   55  59  2  22   15  3721\n",
      "All             302   16     21      5  3386   59  59  2  25   17  3892\n",
      "   已生成： result/cbirc_result/class/result/cbirc_class_predict_采集_types(5)_2019-02-08.xlsx\n",
      "\n",
      "-- day_select:  2019-02-09\n",
      "label 去重前： (3364, 10)\n",
      "label 去重后： (3364, 10)\n",
      "label 去空值后： (3364, 10)\n",
      "content 去重前： (3364, 2)\n",
      "content 去重后： (3320, 2)\n",
      "content 去空值后： (3320, 2)\n",
      "(3320, 11)\n",
      "                len                                                 \n",
      "              title                                                 \n",
      "predict_label    交通 产品销售 公司内部管理 其他相关报道    噪音 消费服务  环保  行业 资本市场   All\n",
      "tendency type                                                       \n",
      "-1       中国人保    20    0      2      0   133    6   1   2    7   171\n",
      "0        中国人保   309   15      6     18  2675   53  53  13    7  3149\n",
      "All             329   15      8     18  2808   59  54  15   14  3320\n",
      "   已生成： result/cbirc_result/class/result/cbirc_class_predict_采集_types(5)_2019-02-09.xlsx\n",
      "\n",
      "-- day_select:  2019-02-10\n",
      "label 去重前： (3512, 10)\n",
      "label 去重后： (3511, 10)\n",
      "label 去空值后： (3511, 10)\n",
      "content 去重前： (3511, 2)\n",
      "content 去重后： (3487, 2)\n",
      "content 去空值后： (3487, 2)\n",
      "(3487, 11)\n",
      "                len                                                    \n",
      "              title                                                    \n",
      "predict_label    交通 产品销售 公司内部管理 其他相关报道    噪音 消费服务  环保 监管  行业 资本市场   All\n",
      "tendency type                                                          \n",
      "-1       中国人保    34    0      2      0   138    7   0  0   1    2   184\n",
      "0        中国人保   343    9     21     11  2795   46  45  5  16   12  3303\n",
      "All             377    9     23     11  2933   53  45  5  17   14  3487\n",
      "   已生成： result/cbirc_result/class/result/cbirc_class_predict_采集_types(5)_2019-02-10.xlsx\n",
      "\n",
      "-- day_select:  2019-02-11\n",
      "label 去重前： (6050, 10)\n",
      "label 去重后： (6050, 10)\n",
      "label 去空值后： (6050, 10)\n",
      "content 去重前： (6050, 2)\n",
      "content 去重后： (6009, 2)\n",
      "content 去空值后： (6009, 2)\n",
      "(6009, 11)\n",
      "                len                                                    \n",
      "              title                                                    \n",
      "predict_label    交通 产品销售 公司内部管理 其他相关报道    噪音 消费服务  环保 监管  行业 资本市场   All\n",
      "tendency type                                                          \n",
      "-1       中国人保    45    0      1      0   216    7   0  0   3    3   275\n",
      "0        中国人保   478   25     16     22  5007   97  31  4  28   26  5734\n",
      "All             523   25     17     22  5223  104  31  4  31   29  6009\n",
      "   已生成： result/cbirc_result/class/result/cbirc_class_predict_采集_types(5)_2019-02-11.xlsx\n",
      "\n",
      "-- day_select:  2019-02-12\n",
      "label 去重前： (4875, 10)\n",
      "label 去重后： (4875, 10)\n",
      "label 去空值后： (4875, 10)\n",
      "content 去重前： (4875, 2)\n",
      "content 去重后： (4806, 2)\n",
      "content 去空值后： (4806, 2)\n",
      "(4806, 11)\n",
      "                len                                                    \n",
      "              title                                                    \n",
      "predict_label    交通 产品销售 公司内部管理 其他相关报道    噪音 消费服务  环保 监管  行业 资本市场   All\n",
      "tendency type                                                          \n",
      "-1       中国人保    30    1      1      0   190    5   0  0   5    0   232\n",
      "0        中国人保   384   28     11     25  3956   71  37  3  46   13  4574\n",
      "All             414   29     12     25  4146   76  37  3  51   13  4806\n"
     ]
    },
    {
     "name": "stdout",
     "output_type": "stream",
     "text": [
      "   已生成： result/cbirc_result/class/result/cbirc_class_predict_采集_types(5)_2019-02-12.xlsx\n",
      "\n",
      "-- day_select:  2019-02-13\n",
      "label 去重前： (5322, 10)\n",
      "label 去重后： (5321, 10)\n",
      "label 去空值后： (5321, 10)\n",
      "content 去重前： (5321, 2)\n",
      "content 去重后： (5279, 2)\n",
      "content 去空值后： (5279, 2)\n",
      "(5279, 11)\n",
      "                len                                                     \n",
      "              title                                                     \n",
      "predict_label    交通 产品销售 公司内部管理 其他相关报道    噪音 消费服务  环保  监管  行业 资本市场   All\n",
      "tendency type                                                           \n",
      "-1       中国人保    18    0      5      0   215    9   0   1  14    1   263\n",
      "0        中国人保   312   11     16     14  4440   78  69  22  45    9  5016\n",
      "All             330   11     21     14  4655   87  69  23  59   10  5279\n",
      "   已生成： result/cbirc_result/class/result/cbirc_class_predict_采集_types(5)_2019-02-13.xlsx\n",
      "\n",
      "-- day_select:  2019-02-14\n",
      "label 去重前： (4515, 10)\n",
      "label 去重后： (4515, 10)\n",
      "label 去空值后： (4515, 10)\n",
      "content 去重前： (4515, 2)\n",
      "content 去重后： (4466, 2)\n",
      "content 去空值后： (4466, 2)\n",
      "(4466, 11)\n",
      "                len                                                    \n",
      "              title                                                    \n",
      "predict_label    交通 产品销售 公司内部管理 其他相关报道    噪音 消费服务  环保 监管  行业 资本市场   All\n",
      "tendency type                                                          \n",
      "-1       中国人保    29    1      1      0   169    7   1  0  14    0   222\n",
      "0        中国人保   243   12     12      8  3774   69  58  8  43   17  4244\n",
      "All             272   13     13      8  3943   76  59  8  57   17  4466\n",
      "   已生成： result/cbirc_result/class/result/cbirc_class_predict_采集_types(5)_2019-02-14.xlsx\n",
      "\n",
      "-- day_select:  2019-02-15\n",
      "label 去重前： (4419, 10)\n",
      "label 去重后： (4419, 10)\n",
      "label 去空值后： (4419, 10)\n",
      "content 去重前： (4419, 2)\n",
      "content 去重后： (4379, 2)\n",
      "content 去空值后： (4379, 2)\n",
      "(4379, 11)\n",
      "                len                                                    \n",
      "              title                                                    \n",
      "predict_label    交通 产品销售 公司内部管理 其他相关报道    噪音 消费服务  环保 监管  行业 资本市场   All\n",
      "tendency type                                                          \n",
      "-1       中国人保    24    0      1      0   177    3   2  2   7    1   217\n",
      "0        中国人保   235    8     31     13  3711   71  40  3  33   17  4162\n",
      "All             259    8     32     13  3888   74  42  5  40   18  4379\n",
      "   已生成： result/cbirc_result/class/result/cbirc_class_predict_采集_types(5)_2019-02-15.xlsx\n",
      "\n",
      "-- day_select:  2019-02-16\n",
      "label 去重前： (3274, 10)\n",
      "label 去重后： (3274, 10)\n",
      "label 去空值后： (3274, 10)\n",
      "content 去重前： (3274, 2)\n",
      "content 去重后： (3248, 2)\n",
      "content 去空值后： (3248, 2)\n",
      "(3248, 11)\n",
      "                len                                                    \n",
      "              title                                                    \n",
      "predict_label    交通 产品销售 公司内部管理 其他相关报道    噪音 消费服务  环保 监管  行业 资本市场   All\n",
      "tendency type                                                          \n",
      "-1       中国人保    37    1      3      0   196    4   1  0   8    1   251\n",
      "0        中国人保   202   10     18      6  2705   10  23  4  13    6  2997\n",
      "All             239   11     21      6  2901   14  24  4  21    7  3248\n",
      "   已生成： result/cbirc_result/class/result/cbirc_class_predict_采集_types(5)_2019-02-16.xlsx\n",
      "\n",
      "-- day_select:  2019-02-17\n",
      "label 去重前： (2910, 10)\n",
      "label 去重后： (2910, 10)\n",
      "label 去空值后： (2910, 10)\n",
      "content 去重前： (2910, 2)\n",
      "content 去重后： (2893, 2)\n",
      "content 去空值后： (2893, 2)\n",
      "(2893, 11)\n",
      "                len                                                    \n",
      "              title                                                    \n",
      "predict_label    交通 产品销售 公司内部管理 其他相关报道    噪音 消费服务  环保 监管  行业 资本市场   All\n",
      "tendency type                                                          \n",
      "-1       中国人保    72    0      1      0   150    4   0  0   7    1   235\n",
      "0        中国人保   322    5     13      3  2221   15  55  2  11   11  2658\n",
      "All             394    5     14      3  2371   19  55  2  18   12  2893\n",
      "   已生成： result/cbirc_result/class/result/cbirc_class_predict_采集_types(5)_2019-02-17.xlsx\n",
      "\n",
      "-- day_select:  2019-02-18\n",
      "label 去重前： (5064, 10)\n",
      "label 去重后： (5063, 10)\n",
      "label 去空值后： (5063, 10)\n",
      "content 去重前： (5063, 2)\n",
      "content 去重后： (5036, 2)\n",
      "content 去空值后： (5036, 2)\n",
      "(5036, 11)\n",
      "                len                                                      \n",
      "              title                                                      \n",
      "predict_label    交通 产品销售 公司内部管理 其他相关报道    噪音 消费服务   环保  监管  行业 资本市场   All\n",
      "tendency type                                                            \n",
      "-1       中国人保    75    0      1      0   230    5    0   0  27    2   340\n",
      "0        中国人保   406   14     23      8  3971   64  120  11  40   39  4696\n",
      "All             481   14     24      8  4201   69  120  11  67   41  5036\n",
      "   已生成： result/cbirc_result/class/result/cbirc_class_predict_采集_types(5)_2019-02-18.xlsx\n",
      "\n",
      "-- day_select:  2019-02-19\n",
      "label 去重前： (4560, 10)\n",
      "label 去重后： (4559, 10)\n",
      "label 去空值后： (4559, 10)\n",
      "content 去重前： (4559, 2)\n",
      "content 去重后： (4537, 2)\n",
      "content 去空值后： (4537, 2)\n",
      "(4537, 11)\n",
      "                len                                                    \n",
      "              title                                                    \n",
      "predict_label    交通 产品销售 公司内部管理 其他相关报道    噪音 消费服务  环保 监管  行业 资本市场   All\n",
      "tendency type                                                          \n",
      "-1       中国人保    39    0      1      0   274   11   0  0  13    2   340\n",
      "0        中国人保   354   17     25      9  3529   54  66  8  55   80  4197\n",
      "All             393   17     26      9  3803   65  66  8  68   82  4537\n",
      "   已生成： result/cbirc_result/class/result/cbirc_class_predict_采集_types(5)_2019-02-19.xlsx\n",
      "\n",
      "-- day_select:  2019-02-20\n",
      "label 去重前： (4949, 10)\n",
      "label 去重后： (4948, 10)\n",
      "label 去空值后： (4948, 10)\n",
      "content 去重前： (4948, 2)\n",
      "content 去重后： (4898, 2)\n",
      "content 去空值后： (4898, 2)\n",
      "(4898, 11)\n",
      "                len                                                    \n",
      "              title                                                    \n",
      "predict_label    交通 产品销售 公司内部管理 其他相关报道    噪音 消费服务  环保 监管  行业 资本市场   All\n",
      "tendency type                                                          \n",
      "-1       中国人保    36    0      6      0   240   10   0  0  10    1   303\n",
      "0        中国人保   305   12     32     22  4002   53  66  5  58   40  4595\n",
      "All             341   12     38     22  4242   63  66  5  68   41  4898\n",
      "   已生成： result/cbirc_result/class/result/cbirc_class_predict_采集_types(5)_2019-02-20.xlsx\n",
      "\n",
      "-- day_select:  2019-02-21\n",
      "label 去重前： (5090, 10)\n",
      "label 去重后： (5089, 10)\n",
      "label 去空值后： (5089, 10)\n",
      "content 去重前： (5089, 2)\n",
      "content 去重后： (5024, 2)\n",
      "content 去空值后： (5024, 2)\n",
      "(5024, 11)\n",
      "                len                                                      \n",
      "              title                                                      \n",
      "predict_label    交通 产品销售 公司内部管理 其他相关报道    噪音 消费服务  环保  监管   行业 资本市场   All\n",
      "tendency type                                                            \n",
      "-1       中国人保    59    0     11      0   240    5   1   1   23    0   340\n",
      "0        中国人保   332   17     33     11  3933  112  95   9  111   31  4684\n",
      "All             391   17     44     11  4173  117  96  10  134   31  5024\n",
      "   已生成： result/cbirc_result/class/result/cbirc_class_predict_采集_types(5)_2019-02-21.xlsx\n",
      "\n",
      "-- day_select:  2019-02-22\n",
      "label 去重前： (5476, 10)\n",
      "label 去重后： (5475, 10)\n",
      "label 去空值后： (5475, 10)\n",
      "content 去重前： (5475, 2)\n",
      "content 去重后： (5395, 2)\n",
      "content 去空值后： (5395, 2)\n",
      "(5395, 11)\n",
      "                len                                                      \n",
      "              title                                                      \n",
      "predict_label    交通 产品销售 公司内部管理 其他相关报道    噪音 消费服务  环保  监管   行业 资本市场   All\n",
      "tendency type                                                            \n",
      "-1       中国人保    42    0     15      0   240   11   1   0   24    0   333\n",
      "0        中国人保   370   22     35     37  4317   68  63  22   92   36  5062\n",
      "All             412   22     50     37  4557   79  64  22  116   36  5395\n",
      "   已生成： result/cbirc_result/class/result/cbirc_class_predict_采集_types(5)_2019-02-22.xlsx\n",
      "\n",
      "-- day_select:  2019-02-23\n",
      "label 去重前： (3644, 10)\n",
      "label 去重后： (3644, 10)\n",
      "label 去空值后： (3644, 10)\n",
      "content 去重前： (3644, 2)\n",
      "content 去重后： (3603, 2)\n",
      "content 去空值后： (3603, 2)\n",
      "(3603, 11)\n",
      "                len                                                     \n",
      "              title                                                     \n",
      "predict_label    交通 产品销售 公司内部管理 其他相关报道    噪音 消费服务  环保  监管  行业 资本市场   All\n",
      "tendency type                                                           \n",
      "-1       中国人保    30    0      3      0   190    2   1   0  11    0   237\n",
      "0        中国人保   480    7     12      8  2733   28  40  12  30   16  3366\n",
      "All             510    7     15      8  2923   30  41  12  41   16  3603\n"
     ]
    },
    {
     "name": "stdout",
     "output_type": "stream",
     "text": [
      "   已生成： result/cbirc_result/class/result/cbirc_class_predict_采集_types(5)_2019-02-23.xlsx\n",
      "\n",
      "-- day_select:  2019-02-24\n",
      "label 去重前： (3934, 10)\n",
      "label 去重后： (3934, 10)\n",
      "label 去空值后： (3934, 10)\n",
      "content 去重前： (3934, 2)\n",
      "content 去重后： (3905, 2)\n",
      "content 去空值后： (3905, 2)\n",
      "(3905, 11)\n",
      "                len                                                    \n",
      "              title                                                    \n",
      "predict_label    交通 产品销售 公司内部管理 其他相关报道    噪音 消费服务  环保 监管  行业 资本市场   All\n",
      "tendency type                                                          \n",
      "-1       中国人保    31    0      5      0   205    4   2  0   8    1   256\n",
      "0        中国人保   409   16     11      6  3059   34  58  9  34   13  3649\n",
      "All             440   16     16      6  3264   38  60  9  42   14  3905\n",
      "   已生成： result/cbirc_result/class/result/cbirc_class_predict_采集_types(5)_2019-02-24.xlsx\n",
      "\n",
      "-- day_select:  2019-02-25\n",
      "label 去重前： (4153, 10)\n",
      "label 去重后： (4153, 10)\n",
      "label 去空值后： (4153, 10)\n",
      "content 去重前： (4153, 2)\n",
      "content 去重后： (4085, 2)\n",
      "content 去空值后： (4085, 2)\n",
      "(4085, 11)\n",
      "                len                                                     \n",
      "              title                                                     \n",
      "predict_label    交通 产品销售 公司内部管理 其他相关报道    噪音 消费服务  环保  监管  行业 资本市场   All\n",
      "tendency type                                                           \n",
      "-1       中国人保    24    0      9      0   242    7   4   9   6    2   303\n",
      "0        中国人保   296   14     32     10  3104   32  52  16  46  180  3782\n",
      "All             320   14     41     10  3346   39  56  25  52  182  4085\n",
      "   已生成： result/cbirc_result/class/result/cbirc_class_predict_采集_types(5)_2019-02-25.xlsx\n"
     ]
    }
   ],
   "source": [
    "types = 5\n",
    "gather_types = '采集'\n",
    "proj_name = proj_name_dict[types]\n",
    "print(\"获取 %s 数据...\"%(proj_name))\n",
    "if proj_name == proj_name_dict[6]: \n",
    "    sel_type = 1\n",
    "else :\n",
    "    sel_type = types\n",
    "for day_select in day_list:\n",
    "    print()\n",
    "    print('-- day_select: ', day_select)\n",
    "\n",
    "    # 获取八分类\n",
    "    if types in [1,2, 6]:\n",
    "        sql_label = '''\n",
    "        SELECT \n",
    "            t1.id, t1.type, t1.urlhash, t3.title, t3.group_id, t3.publishtime,\n",
    "            t1.traffic_id, t2.sen as tendency, t2.gather_type\n",
    "        FROM\n",
    "            db_classify_traffic_docinfo t1\n",
    "                LEFT JOIN\n",
    "            db_docinfo_trade t2 ON t1.urlhash = t2.urlhash\n",
    "                LEFT JOIN\n",
    "            db_docinfo t3 ON t2.urlhash = t3.urlhash\n",
    "        WHERE\n",
    "            t3.publishtime >= '{0} 07:00:00'\n",
    "                AND t3.publishtime <= '{0} 16:00:00'\n",
    "                and t1.type = {1}\n",
    "                and t1.type = t2.type\n",
    "                and t2.gather_type = 0\n",
    "        group by t3.titlehash\n",
    "        '''.format(day_select, sel_type)\n",
    "    elif types in [3,4,5]:\n",
    "        sql_label = '''\n",
    "        SELECT \n",
    "            t1.id, t1.type, t1.urlhash, t3.title, t3.group_id, t3.publishtime,\n",
    "            t1.traffic_id, t2.sen as tendency, t2.gather_type\n",
    "        FROM\n",
    "            db_classify_traffic_docinfo t1\n",
    "                LEFT JOIN\n",
    "            db_docinfo_trade t2 ON t1.urlhash = t2.urlhash\n",
    "                LEFT JOIN\n",
    "            db_docinfo t3 ON t2.urlhash = t3.urlhash\n",
    "        WHERE\n",
    "            t3.publishtime >= '{0} 00:00:00'\n",
    "                AND t3.publishtime <= '{0} 23:59:59'\n",
    "                and t1.type = {1}\n",
    "                and t1.type = t2.type\n",
    "                and t2.gather_type = 0\n",
    "        group by t3.titlehash\n",
    "        '''.format(day_select, sel_type)        \n",
    "\n",
    "    cbirc_label = pd.read_sql(sql_label, engine)\n",
    "    cbirc_label['predict_label'] = cbirc_label['traffic_id'].apply(lambda x:class_name_dict[x])\n",
    "    cbirc_label['group_id'] = cbirc_label['group_id'].apply(lambda x:group_dict[str(x)])\n",
    "    cbirc_label['type'] = cbirc_label['type'].apply(lambda x:proj_name_dict[x])\n",
    "    \n",
    "    if proj_name == proj_name_dict[6]: cbirc_label['type'] = proj_name_dict[6]\n",
    "    \n",
    "    cbirc_label['gather_type'] = cbirc_label['gather_type'].apply(lambda x:gather_type_name_dict[x])\n",
    "    print('label 去重前：', cbirc_label.shape)\n",
    "    cbirc_label = cbirc_label.drop_duplicates(subset = 'title')\n",
    "    print('label 去重后：', cbirc_label.shape)  \n",
    "    cbirc_label = cbirc_label.dropna(subset = ['title'], axis = 0)\n",
    "    print('label 去空值后：', cbirc_label.shape)  \n",
    "    \n",
    "    if cbirc_label['urlhash'].shape[0] != 0:\n",
    "        # 获取 content\n",
    "        url_l = cbirc_label['urlhash'].tolist()\n",
    "        if cbirc_label['urlhash'].shape[0] == 1:\n",
    "            url_l.append(url_l[0])\n",
    "        url_list = tuple(url_l)\n",
    "        sql_content = '''\n",
    "        SELECT \n",
    "            t1.urlhash, t1.text as content\n",
    "        FROM\n",
    "            db_docinfo_text t1\n",
    "        WHERE\n",
    "            t1.urlhash in {0}\n",
    "        '''.format(url_list)\n",
    "\n",
    "        cbirc_content = pd.read_sql(sql_content, engine)\n",
    "        print('content 去重前：', cbirc_content.shape)\n",
    "        cbirc_content = cbirc_content.drop_duplicates(subset = 'content')\n",
    "        print('content 去重后：', cbirc_content.shape)  \n",
    "        cbirc_content = cbirc_content.dropna(subset = ['content'], axis = 0)\n",
    "        print('content 去空值后：', cbirc_content.shape)  \n",
    "\n",
    "        cbirc_combined = pd.merge(cbirc_label, cbirc_content, on = 'urlhash', how = 'inner')\n",
    "        print(cbirc_combined.shape)\n",
    "        print(cbirc_combined.pivot_table(index = ['tendency', 'type'], columns = ['predict_label'], \n",
    "                                    aggfunc = [len], values = ['title'], \n",
    "                                    fill_value = 0, margins = True))    \n",
    "        cbirc_combined['label'] = ''\n",
    "        cbirc_combined = cbirc_combined[['id', 'gather_type', 'type', 'urlhash', 'predict_label', 'label', 'title', \n",
    "                                         'content', 'group_id', 'publishtime', 'tendency']]\n",
    "    #     fea_filename = 'cbirc_result/class/result/cbirc_class_predict_mysql_%s.xlsx'%day_select\n",
    "        fea_filename = 'result/cbirc_result/class/result/cbirc_class_predict_%s_types(%s)_%s.xlsx'%(gather_types, types, day_select)\n",
    "        cbirc_combined.to_excel(fea_filename, index = False) \n",
    "        print('   已生成：', fea_filename)    "
   ]
  },
  {
   "cell_type": "code",
   "execution_count": 42,
   "metadata": {
    "ExecuteTime": {
     "end_time": "2018-12-18T08:44:49.029719Z",
     "start_time": "2018-12-18T08:44:48.990717Z"
    }
   },
   "outputs": [
    {
     "data": {
      "text/html": [
       "<div>\n",
       "<style scoped>\n",
       "    .dataframe tbody tr th:only-of-type {\n",
       "        vertical-align: middle;\n",
       "    }\n",
       "\n",
       "    .dataframe tbody tr th {\n",
       "        vertical-align: top;\n",
       "    }\n",
       "\n",
       "    .dataframe thead th {\n",
       "        text-align: right;\n",
       "    }\n",
       "</style>\n",
       "<table border=\"1\" class=\"dataframe\">\n",
       "  <thead>\n",
       "    <tr style=\"text-align: right;\">\n",
       "      <th></th>\n",
       "      <th>id</th>\n",
       "      <th>gather_type</th>\n",
       "      <th>type</th>\n",
       "      <th>urlhash</th>\n",
       "      <th>predict_label</th>\n",
       "      <th>label</th>\n",
       "      <th>title</th>\n",
       "      <th>content</th>\n",
       "      <th>group_id</th>\n",
       "      <th>publishtime</th>\n",
       "      <th>tendency</th>\n",
       "    </tr>\n",
       "  </thead>\n",
       "  <tbody>\n",
       "  </tbody>\n",
       "</table>\n",
       "</div>"
      ],
      "text/plain": [
       "Empty DataFrame\n",
       "Columns: [id, gather_type, type, urlhash, predict_label, label, title, content, group_id, publishtime, tendency]\n",
       "Index: []"
      ]
     },
     "execution_count": 42,
     "metadata": {},
     "output_type": "execute_result"
    }
   ],
   "source": [
    "# combined_data[combined_data['predict_label'] == '交通'].to_excel('建行北分—交通.xlsx')\n",
    "# cbirc_combined[cbirc_combined['predict_label'] == '交通']"
   ]
  },
  {
   "cell_type": "markdown",
   "metadata": {},
   "source": [
    "#### 补录\n",
    "- gather_type 1-人工补录\n",
    "- gather_type 3-导入数据"
   ]
  },
  {
   "cell_type": "code",
   "execution_count": 39,
   "metadata": {
    "ExecuteTime": {
     "end_time": "2018-12-03T06:01:58.047403Z",
     "start_time": "2018-12-03T06:01:49.252900Z"
    }
   },
   "outputs": [
    {
     "name": "stdout",
     "output_type": "stream",
     "text": [
      "获取 中国人保 数据...\n",
      "-- day_select:  2018-09-02\n",
      "label 去重前： (0, 9)\n",
      "label 去重后： (0, 9)\n",
      "label 去空值后： (0, 9)\n",
      "-- day_select:  2018-09-03\n",
      "label 去重前： (0, 9)\n",
      "label 去重后： (0, 9)\n",
      "label 去空值后： (0, 9)\n",
      "-- day_select:  2018-09-04\n",
      "label 去重前： (0, 9)\n",
      "label 去重后： (0, 9)\n",
      "label 去空值后： (0, 9)\n",
      "-- day_select:  2018-09-05\n",
      "label 去重前： (0, 9)\n",
      "label 去重后： (0, 9)\n",
      "label 去空值后： (0, 9)\n",
      "-- day_select:  2018-09-06\n",
      "label 去重前： (0, 9)\n",
      "label 去重后： (0, 9)\n",
      "label 去空值后： (0, 9)\n",
      "-- day_select:  2018-09-07\n",
      "label 去重前： (0, 9)\n",
      "label 去重后： (0, 9)\n",
      "label 去空值后： (0, 9)\n",
      "-- day_select:  2018-09-08\n",
      "label 去重前： (0, 9)\n",
      "label 去重后： (0, 9)\n",
      "label 去空值后： (0, 9)\n",
      "-- day_select:  2018-09-09\n",
      "label 去重前： (0, 9)\n",
      "label 去重后： (0, 9)\n",
      "label 去空值后： (0, 9)\n",
      "-- day_select:  2018-09-10\n",
      "label 去重前： (0, 9)\n",
      "label 去重后： (0, 9)\n",
      "label 去空值后： (0, 9)\n",
      "-- day_select:  2018-09-11\n",
      "label 去重前： (0, 9)\n",
      "label 去重后： (0, 9)\n",
      "label 去空值后： (0, 9)\n",
      "-- day_select:  2018-09-12\n",
      "label 去重前： (0, 9)\n",
      "label 去重后： (0, 9)\n",
      "label 去空值后： (0, 9)\n",
      "-- day_select:  2018-09-13\n",
      "label 去重前： (0, 9)\n",
      "label 去重后： (0, 9)\n",
      "label 去空值后： (0, 9)\n",
      "-- day_select:  2018-09-14\n",
      "label 去重前： (0, 9)\n",
      "label 去重后： (0, 9)\n",
      "label 去空值后： (0, 9)\n",
      "-- day_select:  2018-09-15\n",
      "label 去重前： (0, 9)\n",
      "label 去重后： (0, 9)\n",
      "label 去空值后： (0, 9)\n",
      "-- day_select:  2018-09-16\n",
      "label 去重前： (0, 9)\n",
      "label 去重后： (0, 9)\n",
      "label 去空值后： (0, 9)\n",
      "-- day_select:  2018-09-17\n",
      "label 去重前： (0, 9)\n",
      "label 去重后： (0, 9)\n",
      "label 去空值后： (0, 9)\n",
      "-- day_select:  2018-09-18\n",
      "label 去重前： (0, 9)\n",
      "label 去重后： (0, 9)\n",
      "label 去空值后： (0, 9)\n",
      "-- day_select:  2018-09-19\n",
      "label 去重前： (0, 9)\n",
      "label 去重后： (0, 9)\n",
      "label 去空值后： (0, 9)\n",
      "-- day_select:  2018-09-20\n",
      "label 去重前： (0, 9)\n",
      "label 去重后： (0, 9)\n",
      "label 去空值后： (0, 9)\n",
      "-- day_select:  2018-09-21\n",
      "label 去重前： (0, 9)\n",
      "label 去重后： (0, 9)\n",
      "label 去空值后： (0, 9)\n",
      "-- day_select:  2018-09-22\n",
      "label 去重前： (0, 9)\n",
      "label 去重后： (0, 9)\n",
      "label 去空值后： (0, 9)\n",
      "-- day_select:  2018-09-23\n",
      "label 去重前： (0, 9)\n",
      "label 去重后： (0, 9)\n",
      "label 去空值后： (0, 9)\n",
      "-- day_select:  2018-09-24\n",
      "label 去重前： (0, 9)\n",
      "label 去重后： (0, 9)\n",
      "label 去空值后： (0, 9)\n",
      "-- day_select:  2018-09-25\n",
      "label 去重前： (0, 9)\n",
      "label 去重后： (0, 9)\n",
      "label 去空值后： (0, 9)\n",
      "-- day_select:  2018-09-26\n",
      "label 去重前： (0, 9)\n",
      "label 去重后： (0, 9)\n",
      "label 去空值后： (0, 9)\n",
      "-- day_select:  2018-09-27\n",
      "label 去重前： (0, 9)\n",
      "label 去重后： (0, 9)\n",
      "label 去空值后： (0, 9)\n",
      "-- day_select:  2018-09-28\n",
      "label 去重前： (0, 9)\n",
      "label 去重后： (0, 9)\n",
      "label 去空值后： (0, 9)\n",
      "-- day_select:  2018-09-29\n",
      "label 去重前： (0, 9)\n",
      "label 去重后： (0, 9)\n",
      "label 去空值后： (0, 9)\n",
      "-- day_select:  2018-09-30\n",
      "label 去重前： (0, 9)\n",
      "label 去重后： (0, 9)\n",
      "label 去空值后： (0, 9)\n",
      "-- day_select:  2018-10-01\n",
      "label 去重前： (0, 9)\n",
      "label 去重后： (0, 9)\n",
      "label 去空值后： (0, 9)\n",
      "-- day_select:  2018-10-02\n",
      "label 去重前： (0, 9)\n",
      "label 去重后： (0, 9)\n",
      "label 去空值后： (0, 9)\n",
      "-- day_select:  2018-10-03\n",
      "label 去重前： (0, 9)\n",
      "label 去重后： (0, 9)\n",
      "label 去空值后： (0, 9)\n",
      "-- day_select:  2018-10-04\n",
      "label 去重前： (0, 9)\n",
      "label 去重后： (0, 9)\n",
      "label 去空值后： (0, 9)\n",
      "-- day_select:  2018-10-05\n",
      "label 去重前： (0, 9)\n",
      "label 去重后： (0, 9)\n",
      "label 去空值后： (0, 9)\n",
      "-- day_select:  2018-10-06\n",
      "label 去重前： (0, 9)\n",
      "label 去重后： (0, 9)\n",
      "label 去空值后： (0, 9)\n",
      "-- day_select:  2018-10-07\n",
      "label 去重前： (0, 9)\n",
      "label 去重后： (0, 9)\n",
      "label 去空值后： (0, 9)\n",
      "-- day_select:  2018-10-08\n",
      "label 去重前： (0, 9)\n",
      "label 去重后： (0, 9)\n",
      "label 去空值后： (0, 9)\n",
      "-- day_select:  2018-10-09\n",
      "label 去重前： (0, 9)\n",
      "label 去重后： (0, 9)\n",
      "label 去空值后： (0, 9)\n",
      "-- day_select:  2018-10-10\n",
      "label 去重前： (0, 9)\n",
      "label 去重后： (0, 9)\n",
      "label 去空值后： (0, 9)\n",
      "-- day_select:  2018-10-11\n",
      "label 去重前： (0, 9)\n",
      "label 去重后： (0, 9)\n",
      "label 去空值后： (0, 9)\n",
      "-- day_select:  2018-10-12\n",
      "label 去重前： (0, 9)\n",
      "label 去重后： (0, 9)\n",
      "label 去空值后： (0, 9)\n",
      "-- day_select:  2018-10-13\n",
      "label 去重前： (0, 9)\n",
      "label 去重后： (0, 9)\n",
      "label 去空值后： (0, 9)\n",
      "-- day_select:  2018-10-14\n",
      "label 去重前： (0, 9)\n",
      "label 去重后： (0, 9)\n",
      "label 去空值后： (0, 9)\n",
      "-- day_select:  2018-10-15\n",
      "label 去重前： (0, 9)\n",
      "label 去重后： (0, 9)\n",
      "label 去空值后： (0, 9)\n",
      "-- day_select:  2018-10-16\n",
      "label 去重前： (0, 9)\n",
      "label 去重后： (0, 9)\n",
      "label 去空值后： (0, 9)\n",
      "-- day_select:  2018-10-17\n",
      "label 去重前： (0, 9)\n",
      "label 去重后： (0, 9)\n",
      "label 去空值后： (0, 9)\n",
      "-- day_select:  2018-10-18\n",
      "label 去重前： (0, 9)\n",
      "label 去重后： (0, 9)\n",
      "label 去空值后： (0, 9)\n",
      "-- day_select:  2018-10-19\n",
      "label 去重前： (0, 9)\n",
      "label 去重后： (0, 9)\n",
      "label 去空值后： (0, 9)\n",
      "-- day_select:  2018-10-20\n",
      "label 去重前： (0, 9)\n",
      "label 去重后： (0, 9)\n",
      "label 去空值后： (0, 9)\n",
      "-- day_select:  2018-10-21\n",
      "label 去重前： (0, 9)\n",
      "label 去重后： (0, 9)\n",
      "label 去空值后： (0, 9)\n",
      "-- day_select:  2018-10-22\n",
      "label 去重前： (0, 9)\n",
      "label 去重后： (0, 9)\n",
      "label 去空值后： (0, 9)\n",
      "-- day_select:  2018-10-23\n",
      "label 去重前： (0, 9)\n",
      "label 去重后： (0, 9)\n",
      "label 去空值后： (0, 9)\n",
      "-- day_select:  2018-10-24\n",
      "label 去重前： (0, 9)\n",
      "label 去重后： (0, 9)\n",
      "label 去空值后： (0, 9)\n",
      "-- day_select:  2018-10-25\n",
      "label 去重前： (0, 9)\n",
      "label 去重后： (0, 9)\n",
      "label 去空值后： (0, 9)\n",
      "-- day_select:  2018-10-26\n",
      "label 去重前： (0, 9)\n",
      "label 去重后： (0, 9)\n",
      "label 去空值后： (0, 9)\n",
      "-- day_select:  2018-10-27\n",
      "label 去重前： (0, 9)\n",
      "label 去重后： (0, 9)\n",
      "label 去空值后： (0, 9)\n",
      "-- day_select:  2018-10-28\n",
      "label 去重前： (0, 9)\n",
      "label 去重后： (0, 9)\n",
      "label 去空值后： (0, 9)\n",
      "-- day_select:  2018-10-29\n",
      "label 去重前： (0, 9)\n",
      "label 去重后： (0, 9)\n",
      "label 去空值后： (0, 9)\n",
      "-- day_select:  2018-10-30\n",
      "label 去重前： (0, 9)\n",
      "label 去重后： (0, 9)\n",
      "label 去空值后： (0, 9)\n",
      "-- day_select:  2018-10-31\n",
      "label 去重前： (0, 9)\n",
      "label 去重后： (0, 9)\n",
      "label 去空值后： (0, 9)\n",
      "-- day_select:  2018-11-01\n",
      "label 去重前： (0, 9)\n",
      "label 去重后： (0, 9)\n",
      "label 去空值后： (0, 9)\n",
      "-- day_select:  2018-11-02\n",
      "label 去重前： (0, 9)\n",
      "label 去重后： (0, 9)\n",
      "label 去空值后： (0, 9)\n",
      "-- day_select:  2018-11-03\n",
      "label 去重前： (0, 9)\n",
      "label 去重后： (0, 9)\n",
      "label 去空值后： (0, 9)\n",
      "-- day_select:  2018-11-04\n",
      "label 去重前： (0, 9)\n",
      "label 去重后： (0, 9)\n",
      "label 去空值后： (0, 9)\n",
      "-- day_select:  2018-11-05\n",
      "label 去重前： (0, 9)\n",
      "label 去重后： (0, 9)\n",
      "label 去空值后： (0, 9)\n",
      "-- day_select:  2018-11-06\n",
      "label 去重前： (0, 9)\n",
      "label 去重后： (0, 9)\n",
      "label 去空值后： (0, 9)\n",
      "-- day_select:  2018-11-07\n",
      "label 去重前： (0, 9)\n",
      "label 去重后： (0, 9)\n",
      "label 去空值后： (0, 9)\n",
      "-- day_select:  2018-11-08\n",
      "label 去重前： (0, 9)\n",
      "label 去重后： (0, 9)\n",
      "label 去空值后： (0, 9)\n",
      "-- day_select:  2018-11-09\n",
      "label 去重前： (0, 9)\n",
      "label 去重后： (0, 9)\n",
      "label 去空值后： (0, 9)\n",
      "-- day_select:  2018-11-10\n",
      "label 去重前： (0, 9)\n",
      "label 去重后： (0, 9)\n",
      "label 去空值后： (0, 9)\n",
      "-- day_select:  2018-11-11\n",
      "label 去重前： (0, 9)\n",
      "label 去重后： (0, 9)\n",
      "label 去空值后： (0, 9)\n",
      "-- day_select:  2018-11-12\n",
      "label 去重前： (0, 9)\n",
      "label 去重后： (0, 9)\n",
      "label 去空值后： (0, 9)\n",
      "-- day_select:  2018-11-13\n",
      "label 去重前： (0, 9)\n",
      "label 去重后： (0, 9)\n",
      "label 去空值后： (0, 9)\n",
      "-- day_select:  2018-11-14\n",
      "label 去重前： (0, 9)\n",
      "label 去重后： (0, 9)\n",
      "label 去空值后： (0, 9)\n",
      "-- day_select:  2018-11-15\n",
      "label 去重前： (0, 9)\n",
      "label 去重后： (0, 9)\n",
      "label 去空值后： (0, 9)\n",
      "-- day_select:  2018-11-16\n",
      "label 去重前： (0, 9)\n",
      "label 去重后： (0, 9)\n",
      "label 去空值后： (0, 9)\n",
      "-- day_select:  2018-11-17\n",
      "label 去重前： (0, 9)\n",
      "label 去重后： (0, 9)\n",
      "label 去空值后： (0, 9)\n",
      "-- day_select:  2018-11-18\n",
      "label 去重前： (1, 9)\n",
      "label 去重后： (1, 9)\n",
      "label 去空值后： (1, 9)\n",
      "content 去重前： (1, 2)\n",
      "content 去重后： (1, 2)\n",
      "content 去空值后： (1, 2)\n",
      "(1, 10)\n",
      "                len    \n",
      "              title    \n",
      "predict_label    环保 All\n",
      "tendency type          \n",
      "-1       中国人保     1   1\n",
      "All               1   1\n",
      "-- day_select:  2018-11-19\n",
      "label 去重前： (6, 9)\n",
      "label 去重后： (6, 9)\n",
      "label 去空值后： (6, 9)\n",
      "content 去重前： (6, 2)\n",
      "content 去重后： (6, 2)\n",
      "content 去空值后： (6, 2)\n",
      "(6, 10)\n",
      "                len                        \n",
      "              title                        \n",
      "predict_label  产品销售 其他相关报道 消费服务 监管 资本市场 All\n",
      "tendency type                              \n",
      "-1       中国人保     0      0    0  1    0   1\n",
      "0        中国人保     1      1    1  1    1   5\n",
      "All               1      1    1  2    1   6\n",
      "-- day_select:  2018-11-20\n",
      "label 去重前： (5, 9)\n",
      "label 去重后： (5, 9)\n",
      "label 去空值后： (5, 9)\n",
      "content 去重前： (5, 2)\n",
      "content 去重后： (5, 2)\n",
      "content 去空值后： (5, 2)\n",
      "(5, 10)\n",
      "                len             \n",
      "              title             \n",
      "predict_label    噪音 环保 监管 行业 All\n",
      "tendency type                   \n",
      "-1       中国人保     2  0  0  0   2\n",
      "0        中国人保     0  1  1  1   3\n",
      "All               2  1  1  1   5\n",
      "-- day_select:  2018-11-21\n",
      "label 去重前： (6, 9)\n",
      "label 去重后： (6, 9)\n",
      "label 去空值后： (6, 9)\n",
      "content 去重前： (6, 2)\n",
      "content 去重后： (6, 2)\n",
      "content 去空值后： (6, 2)\n",
      "(6, 10)\n",
      "                len          \n",
      "              title          \n",
      "predict_label  产品销售 监管 行业 All\n",
      "tendency type                \n",
      "-1       中国人保     0  0  2   2\n",
      "0        中国人保     1  2  1   4\n",
      "All               1  2  3   6\n",
      "-- day_select:  2018-11-22\n",
      "label 去重前： (11, 9)\n",
      "label 去重后： (11, 9)\n",
      "label 去空值后： (11, 9)\n",
      "content 去重前： (11, 2)\n",
      "content 去重后： (11, 2)\n",
      "content 去空值后： (11, 2)\n",
      "(11, 10)\n",
      "                len                                \n",
      "              title                                \n",
      "predict_label    交通 公司内部管理 其他相关报道 消费服务 环保 监管 行业 All\n",
      "tendency type                                      \n",
      "-1       中国人保     0      0      0    0  3  0  1   4\n",
      "0        中国人保     1      1      1    1  0  1  2   7\n",
      "All               1      1      1    1  3  1  3  11\n",
      "-- day_select:  2018-11-23\n",
      "label 去重前： (8, 9)\n",
      "label 去重后： (8, 9)\n",
      "label 去空值后： (8, 9)\n"
     ]
    },
    {
     "name": "stdout",
     "output_type": "stream",
     "text": [
      "content 去重前： (8, 2)\n",
      "content 去重后： (8, 2)\n",
      "content 去空值后： (8, 2)\n",
      "(8, 10)\n",
      "                len                 \n",
      "              title                 \n",
      "predict_label    交通 公司内部管理 环保 行业 All\n",
      "tendency type                       \n",
      "-1       中国人保     0      0  4  1   5\n",
      "0        中国人保     1      1  0  1   3\n",
      "All               1      1  4  2   8\n",
      "-- day_select:  2018-11-24\n",
      "label 去重前： (0, 9)\n",
      "label 去重后： (0, 9)\n",
      "label 去空值后： (0, 9)\n",
      "-- day_select:  2018-11-25\n",
      "label 去重前： (2, 9)\n",
      "label 去重后： (2, 9)\n",
      "label 去空值后： (2, 9)\n",
      "content 去重前： (2, 2)\n",
      "content 去重后： (2, 2)\n",
      "content 去空值后： (2, 2)\n",
      "(2, 10)\n",
      "                len       \n",
      "              title       \n",
      "predict_label    交通 环保 All\n",
      "tendency type             \n",
      "-1       中国人保     0  1   1\n",
      "0        中国人保     1  0   1\n",
      "All               1  1   2\n",
      "-- day_select:  2018-11-26\n",
      "label 去重前： (2, 9)\n",
      "label 去重后： (2, 9)\n",
      "label 去空值后： (2, 9)\n",
      "content 去重前： (2, 2)\n",
      "content 去重后： (2, 2)\n",
      "content 去空值后： (2, 2)\n",
      "(2, 10)\n",
      "                len       \n",
      "              title       \n",
      "predict_label    交通 行业 All\n",
      "tendency type             \n",
      "0        中国人保     1  1   2\n",
      "All               1  1   2\n",
      "-- day_select:  2018-11-27\n",
      "label 去重前： (7, 9)\n",
      "label 去重后： (7, 9)\n",
      "label 去空值后： (7, 9)\n",
      "content 去重前： (7, 2)\n",
      "content 去重后： (7, 2)\n",
      "content 去空值后： (7, 2)\n",
      "(7, 10)\n",
      "                len               \n",
      "              title               \n",
      "predict_label    交通 产品销售 环保 监管 All\n",
      "tendency type                     \n",
      "-1       中国人保     0    0  3  0   3\n",
      "0        中国人保     2    1  0  1   4\n",
      "All               2    1  3  1   7\n",
      "-- day_select:  2018-11-28\n",
      "label 去重前： (6, 9)\n",
      "label 去重后： (6, 9)\n",
      "label 去空值后： (6, 9)\n",
      "content 去重前： (6, 2)\n",
      "content 去重后： (6, 2)\n",
      "content 去空值后： (6, 2)\n",
      "(6, 10)\n",
      "                len             \n",
      "              title             \n",
      "predict_label    交通 环保 监管 行业 All\n",
      "tendency type                   \n",
      "-1       中国人保     0  2  1  0   3\n",
      "0        中国人保     1  0  1  1   3\n",
      "All               1  2  2  1   6\n",
      "-- day_select:  2018-11-29\n",
      "label 去重前： (8, 9)\n",
      "label 去重后： (8, 9)\n",
      "label 去空值后： (8, 9)\n",
      "content 去重前： (8, 2)\n",
      "content 去重后： (8, 2)\n",
      "content 去空值后： (8, 2)\n",
      "(8, 10)\n",
      "                len                  \n",
      "              title                  \n",
      "predict_label    噪音 消费服务 环保 监管 行业 All\n",
      "tendency type                        \n",
      "-1       中国人保     2    1  3  0  0   6\n",
      "0        中国人保     0    0  0  1  1   2\n",
      "All               2    1  3  1  1   8\n",
      "-- day_select:  2018-11-30\n",
      "label 去重前： (13, 9)\n",
      "label 去重后： (13, 9)\n",
      "label 去空值后： (13, 9)\n",
      "content 去重前： (13, 2)\n",
      "content 去重后： (13, 2)\n",
      "content 去空值后： (13, 2)\n",
      "(13, 10)\n",
      "                len                  \n",
      "              title                  \n",
      "predict_label  产品销售 噪音 消费服务 环保 行业 All\n",
      "tendency type                        \n",
      "-1       中国人保     0  5    1  2  0   8\n",
      "0        中国人保     1  1    0  0  3   5\n",
      "All               1  6    1  2  3  13\n",
      "-- day_select:  2018-12-01\n",
      "label 去重前： (3, 9)\n",
      "label 去重后： (3, 9)\n",
      "label 去空值后： (3, 9)\n",
      "content 去重前： (3, 2)\n",
      "content 去重后： (3, 2)\n",
      "content 去空值后： (3, 2)\n",
      "(3, 10)\n",
      "                 len          \n",
      "               title          \n",
      "predict_label 其他相关报道 监管 行业 All\n",
      "tendency type                 \n",
      "0        中国人保      1  1  1   3\n",
      "All                1  1  1   3\n",
      "-- day_select:  2018-12-02\n",
      "label 去重前： (3, 9)\n",
      "label 去重后： (3, 9)\n",
      "label 去空值后： (3, 9)\n",
      "content 去重前： (3, 2)\n",
      "content 去重后： (3, 2)\n",
      "content 去空值后： (3, 2)\n",
      "(3, 10)\n",
      "                len            \n",
      "              title            \n",
      "predict_label    交通 产品销售 行业 All\n",
      "tendency type                  \n",
      "0        中国人保     1    1  1   3\n",
      "All               1    1  1   3\n",
      "-- day_select:  2018-12-03\n",
      "label 去重前： (7, 9)\n",
      "label 去重后： (7, 9)\n",
      "label 去空值后： (7, 9)\n",
      "content 去重前： (7, 2)\n",
      "content 去重后： (7, 2)\n",
      "content 去空值后： (7, 2)\n",
      "(7, 10)\n",
      "                len                         \n",
      "              title                         \n",
      "predict_label  产品销售 公司内部管理 噪音 环保 监管 资本市场 All\n",
      "tendency type                               \n",
      "-1       中国人保     0      0  2  1  0    0   3\n",
      "0        中国人保     1      1  0  0  1    1   4\n",
      "All               1      1  2  1  1    1   7\n"
     ]
    }
   ],
   "source": [
    "types = 5\n",
    "gather_types = '补录'\n",
    "print(\"获取 %s 数据...\"%(proj_name_dict[types]))\n",
    "if proj_name == proj_name_dict[6]: \n",
    "    sel_type = 1\n",
    "else :\n",
    "    sel_type = types\n",
    "for day_select in day_list:\n",
    "    print('-- day_select: ', day_select)\n",
    "    \n",
    "    # 获取八分类\n",
    "    if types in [1,2, 6]:\n",
    "        sql_label = '''\n",
    "        SELECT \n",
    "            t1.type, t1.urlhash, t3.title, t3.group_id, t3.publishtime,\n",
    "            t1.traffic_id, t2.sen as tendency, t2.gather_type\n",
    "        FROM\n",
    "            db_classify_traffic_docinfo t1\n",
    "                LEFT JOIN\n",
    "            db_docinfo_trade t2 ON t1.urlhash = t2.urlhash\n",
    "                LEFT JOIN\n",
    "            db_docinfo t3 ON t2.urlhash = t3.urlhash\n",
    "        WHERE\n",
    "            t3.publishtime >= '{0} 00:00:00'\n",
    "                AND t3.publishtime <= '{0} 23:59:59'\n",
    "                and t1.type = {1}\n",
    "                and t1.type = t2.type\n",
    "                and t2.gather_type in (1,3)\n",
    "        group by t3.titlehash\n",
    "        '''.format(day_select, sel_type)\n",
    "    elif types in [3,4,5]:\n",
    "        sql_label = '''\n",
    "        SELECT \n",
    "            t1.type, t1.urlhash, t3.title, t3.group_id, t3.publishtime,\n",
    "            t1.traffic_id, t2.sen as tendency, t2.gather_type\n",
    "        FROM\n",
    "            db_classify_traffic_docinfo t1\n",
    "                LEFT JOIN\n",
    "            db_docinfo_trade t2 ON t1.urlhash = t2.urlhash\n",
    "                LEFT JOIN\n",
    "            db_docinfo t3 ON t2.urlhash = t3.urlhash\n",
    "        WHERE\n",
    "            t3.publishtime >= '{0} 00:00:00'\n",
    "                AND t3.publishtime <= '{0} 23:59:59'\n",
    "                and t1.type = {1}\n",
    "                and t1.type = t2.type\n",
    "                and t2.gather_type in (1,3)\n",
    "        group by t3.titlehash\n",
    "        '''.format(day_select, sel_type)        \n",
    "\n",
    "    cbirc_label = pd.read_sql(sql_label, engine)\n",
    "    cbirc_label['predict_label'] = cbirc_label['traffic_id'].apply(lambda x:class_name_dict[x])\n",
    "    cbirc_label['group_id'] = cbirc_label['group_id'].apply(lambda x:group_dict[str(x)])\n",
    "    cbirc_label['type'] = cbirc_label['type'].apply(lambda x:proj_name_dict[x])\n",
    "    cbirc_label['gather_type'] = cbirc_label['gather_type'].apply(lambda x:gather_type_name_dict[x])\n",
    "    \n",
    "    if proj_name == proj_name_dict[6]: cbirc_label['type'] = proj_name_dict[6]\n",
    "    \n",
    "    print('label 去重前：', cbirc_label.shape)\n",
    "    cbirc_label = cbirc_label.drop_duplicates(subset = 'title')\n",
    "    print('label 去重后：', cbirc_label.shape)  \n",
    "    cbirc_label = cbirc_label.dropna(subset = ['title'], axis = 0)\n",
    "    print('label 去空值后：', cbirc_label.shape)  \n",
    "        \n",
    "    if cbirc_label['urlhash'].shape[0] != 0:\n",
    "        # 获取 content\n",
    "        url_l = cbirc_label['urlhash'].tolist()\n",
    "        if cbirc_label['urlhash'].shape[0] == 1:\n",
    "            url_l.append(url_l[0])\n",
    "        url_list = tuple(url_l)\n",
    "        sql_content = '''\n",
    "        SELECT \n",
    "            t1.urlhash, t1.text as content\n",
    "        FROM\n",
    "            db_docinfo_text t1\n",
    "        WHERE\n",
    "            t1.urlhash in {0}\n",
    "        '''.format(url_list)\n",
    "        cbirc_content = pd.read_sql(sql_content, engine)\n",
    "        print('content 去重前：', cbirc_content.shape)\n",
    "        cbirc_content = cbirc_content.drop_duplicates(subset = 'content')\n",
    "        print('content 去重后：', cbirc_content.shape)  \n",
    "        cbirc_content = cbirc_content.dropna(subset = ['content'], axis = 0)\n",
    "        print('content 去空值后：', cbirc_content.shape)  \n",
    "\n",
    "        cbirc_combined = pd.merge(cbirc_label, cbirc_content, on = 'urlhash', how = 'inner')\n",
    "        print(cbirc_combined.shape)\n",
    "        print(cbirc_combined.pivot_table(index = ['tendency', 'type'], columns = ['predict_label'], \n",
    "                                    aggfunc = [len], values = ['title'], \n",
    "                                    fill_value = 0, margins = True))    \n",
    "        cbirc_combined['label'] = ''\n",
    "        cbirc_combined = cbirc_combined[['gather_type', 'type', 'urlhash', 'predict_label', 'label', 'title', \n",
    "                                         'content', 'group_id', 'publishtime', 'tendency']]\n",
    "    #     fea_filename = 'cbirc_result/class/result/cbirc_class_predict_mysql_%s.xlsx'%day_select\n",
    "        fea_filename = 'result/cbirc_result/class/result/cbirc_class_predict_%s_types(%s)_%s.xlsx'%(gather_types, types, day_select)\n",
    "        cbirc_combined.to_excel(fea_filename, index = False)\n",
    "    "
   ]
  },
  {
   "cell_type": "markdown",
   "metadata": {},
   "source": [
    "### 八分类数据"
   ]
  },
  {
   "cell_type": "markdown",
   "metadata": {},
   "source": [
    "#### 合并 & 保存"
   ]
  },
  {
   "cell_type": "code",
   "execution_count": 30,
   "metadata": {
    "ExecuteTime": {
     "end_time": "2018-12-03T02:54:33.085227Z",
     "start_time": "2018-12-03T02:54:33.081227Z"
    },
    "collapsed": true
   },
   "outputs": [],
   "source": [
    "# types = 3\n",
    "# gather_types = '采集'"
   ]
  },
  {
   "cell_type": "code",
   "execution_count": 19,
   "metadata": {
    "ExecuteTime": {
     "end_time": "2019-02-26T07:23:22.271768Z",
     "start_time": "2019-02-26T07:22:59.141433Z"
    }
   },
   "outputs": [
    {
     "name": "stdout",
     "output_type": "stream",
     "text": [
      "result/cbirc_result/class/result/cbirc_class_predict_采集_types(5)_2019-02-02.xlsx\n",
      "result/cbirc_result/class/result/cbirc_class_predict_采集_types(5)_2019-02-03.xlsx\n",
      "result/cbirc_result/class/result/cbirc_class_predict_采集_types(5)_2019-02-04.xlsx\n",
      "result/cbirc_result/class/result/cbirc_class_predict_采集_types(5)_2019-02-05.xlsx\n",
      "result/cbirc_result/class/result/cbirc_class_predict_采集_types(5)_2019-02-06.xlsx\n",
      "result/cbirc_result/class/result/cbirc_class_predict_采集_types(5)_2019-02-07.xlsx\n",
      "result/cbirc_result/class/result/cbirc_class_predict_采集_types(5)_2019-02-08.xlsx\n",
      "result/cbirc_result/class/result/cbirc_class_predict_采集_types(5)_2019-02-09.xlsx\n",
      "result/cbirc_result/class/result/cbirc_class_predict_采集_types(5)_2019-02-10.xlsx\n",
      "result/cbirc_result/class/result/cbirc_class_predict_采集_types(5)_2019-02-11.xlsx\n",
      "result/cbirc_result/class/result/cbirc_class_predict_采集_types(5)_2019-02-12.xlsx\n",
      "result/cbirc_result/class/result/cbirc_class_predict_采集_types(5)_2019-02-13.xlsx\n",
      "result/cbirc_result/class/result/cbirc_class_predict_采集_types(5)_2019-02-14.xlsx\n",
      "result/cbirc_result/class/result/cbirc_class_predict_采集_types(5)_2019-02-15.xlsx\n",
      "result/cbirc_result/class/result/cbirc_class_predict_采集_types(5)_2019-02-16.xlsx\n",
      "result/cbirc_result/class/result/cbirc_class_predict_采集_types(5)_2019-02-17.xlsx\n",
      "result/cbirc_result/class/result/cbirc_class_predict_采集_types(5)_2019-02-18.xlsx\n",
      "result/cbirc_result/class/result/cbirc_class_predict_采集_types(5)_2019-02-19.xlsx\n",
      "result/cbirc_result/class/result/cbirc_class_predict_采集_types(5)_2019-02-20.xlsx\n",
      "result/cbirc_result/class/result/cbirc_class_predict_采集_types(5)_2019-02-21.xlsx\n",
      "result/cbirc_result/class/result/cbirc_class_predict_采集_types(5)_2019-02-22.xlsx\n",
      "result/cbirc_result/class/result/cbirc_class_predict_采集_types(5)_2019-02-23.xlsx\n",
      "result/cbirc_result/class/result/cbirc_class_predict_采集_types(5)_2019-02-24.xlsx\n",
      "result/cbirc_result/class/result/cbirc_class_predict_采集_types(5)_2019-02-25.xlsx\n",
      "(95877, 11)\n",
      "                len                                                        \\\n",
      "              title                                                         \n",
      "predict_label    交通 产品销售 公司内部管理 其他相关报道     噪音  消费服务    环保   监管    行业 资本市场   \n",
      "type                                                                        \n",
      "中国人保           8083  341    528    313  81995  1390  1254  187  1088  698   \n",
      "All            8083  341    528    313  81991  1390  1254  187  1088  698   \n",
      "\n",
      "                      \n",
      "                      \n",
      "predict_label    All  \n",
      "type                  \n",
      "中国人保           95873  \n",
      "All            95873  \n",
      "\n",
      "噪音        81995\n",
      "交通         8083\n",
      "消费服务       1390\n",
      "环保         1254\n",
      "行业         1088\n",
      "资本市场        698\n",
      "公司内部管理      528\n",
      "产品销售        341\n",
      "其他相关报道      313\n",
      "监管          187\n",
      "Name: predict_label, dtype: int64\n"
     ]
    },
    {
     "data": {
      "text/html": [
       "<div>\n",
       "<style scoped>\n",
       "    .dataframe tbody tr th:only-of-type {\n",
       "        vertical-align: middle;\n",
       "    }\n",
       "\n",
       "    .dataframe tbody tr th {\n",
       "        vertical-align: top;\n",
       "    }\n",
       "\n",
       "    .dataframe thead th {\n",
       "        text-align: right;\n",
       "    }\n",
       "</style>\n",
       "<table border=\"1\" class=\"dataframe\">\n",
       "  <thead>\n",
       "    <tr style=\"text-align: right;\">\n",
       "      <th></th>\n",
       "      <th>id</th>\n",
       "      <th>gather_type</th>\n",
       "      <th>type</th>\n",
       "      <th>urlhash</th>\n",
       "      <th>predict_label</th>\n",
       "      <th>label</th>\n",
       "      <th>title</th>\n",
       "      <th>content</th>\n",
       "      <th>group_id</th>\n",
       "      <th>publishtime</th>\n",
       "      <th>tendency</th>\n",
       "    </tr>\n",
       "  </thead>\n",
       "  <tbody>\n",
       "    <tr>\n",
       "      <th>0</th>\n",
       "      <td>17741010</td>\n",
       "      <td>系统采集</td>\n",
       "      <td>中国人保</td>\n",
       "      <td>-1185302373855664896</td>\n",
       "      <td>噪音</td>\n",
       "      <td>NaN</td>\n",
       "      <td>【交通局】做好春节期间应急保障工作</td>\n",
       "      <td>为保障春节期间安全生产工作，全面落实省政府关于加强“两节”安全生产工作视频会议精神，县交...</td>\n",
       "      <td>新闻</td>\n",
       "      <td>2019-02-02 00:00:00</td>\n",
       "      <td>0</td>\n",
       "    </tr>\n",
       "    <tr>\n",
       "      <th>1</th>\n",
       "      <td>17733205</td>\n",
       "      <td>系统采集</td>\n",
       "      <td>中国人保</td>\n",
       "      <td>8725487249234027520</td>\n",
       "      <td>噪音</td>\n",
       "      <td>NaN</td>\n",
       "      <td>赤峰市商用大容量电煮锅哪家买</td>\n",
       "      <td>赤峰市商用大容量电煮锅哪家买　　保证风扇运转正常、进排气孔通畅是安全使用电磁炉的要点之 。所...</td>\n",
       "      <td>新闻</td>\n",
       "      <td>2019-02-02 04:33:25</td>\n",
       "      <td>0</td>\n",
       "    </tr>\n",
       "  </tbody>\n",
       "</table>\n",
       "</div>"
      ],
      "text/plain": [
       "         id gather_type  type              urlhash predict_label  label  \\\n",
       "0  17741010        系统采集  中国人保 -1185302373855664896            噪音    NaN   \n",
       "1  17733205        系统采集  中国人保  8725487249234027520            噪音    NaN   \n",
       "\n",
       "               title                                            content  \\\n",
       "0  【交通局】做好春节期间应急保障工作  　　为保障春节期间安全生产工作，全面落实省政府关于加强“两节”安全生产工作视频会议精神，县交...   \n",
       "1     赤峰市商用大容量电煮锅哪家买  赤峰市商用大容量电煮锅哪家买　　保证风扇运转正常、进排气孔通畅是安全使用电磁炉的要点之 。所...   \n",
       "\n",
       "  group_id         publishtime  tendency  \n",
       "0       新闻 2019-02-02 00:00:00         0  \n",
       "1       新闻 2019-02-02 04:33:25         0  "
      ]
     },
     "execution_count": 19,
     "metadata": {},
     "output_type": "execute_result"
    }
   ],
   "source": [
    "combined_data = pd.DataFrame()\n",
    "for day_select in day_list:\n",
    "#     tmp_data = pd.read_excel('cbirc_result/class/result/cbirc_class_predict_mysql_%s.xlsx'%day_select)\n",
    "    file_name = 'result/cbirc_result/class/result/cbirc_class_predict_%s_types(%s)_%s.xlsx'%(gather_types, types, day_select)\n",
    "    if os.path.isfile(file_name):\n",
    "        print(file_name)\n",
    "        tmp_data = pd.read_excel(file_name)\n",
    "        combined_data = pd.concat([combined_data, tmp_data], axis = 0)\n",
    "\n",
    "combined_data = combined_data[combined_data['predict_label'] != '补录']\n",
    "print(combined_data.shape)\n",
    "print(combined_data.pivot_table(index = ['type'], columns = ['predict_label'], \n",
    "                            aggfunc = [len], values = ['title'], \n",
    "                            fill_value = 0, margins = True)) \n",
    "print()\n",
    "# {1: '银监会', 2: '保监会', 3: '中国人寿', 4: '建行北分', 5: '中国人保'}\n",
    "# types = ['银监会', '建行北分']\n",
    "# types = [ '中国人寿', '中国人保'] # '保监会',\n",
    "# combined_data = combined_data[combined_data['type'].isin(types)]\n",
    "# print(combined_data.shape)  \n",
    "print(combined_data['predict_label'].value_counts())\n",
    "combined_data.iloc[:2, :]"
   ]
  },
  {
   "cell_type": "code",
   "execution_count": 114,
   "metadata": {
    "ExecuteTime": {
     "end_time": "2018-12-21T06:01:09.379249Z",
     "start_time": "2018-12-21T06:01:09.368249Z"
    },
    "collapsed": true
   },
   "outputs": [],
   "source": [
    "# combined_data_sel = combined_data[combined_data['predict_label'].isin(['交通', '环保'])]\n",
    "# combined_data_sel.to_excel('picc_result_class/picc_data_20181220(1210-1219).xlsx', index = False)\n",
    "# combined_data_sel['predict_label'].value_counts()"
   ]
  },
  {
   "cell_type": "code",
   "execution_count": 141,
   "metadata": {
    "ExecuteTime": {
     "end_time": "2018-11-26T06:37:30.427133Z",
     "start_time": "2018-11-26T06:37:30.419132Z"
    },
    "collapsed": true
   },
   "outputs": [],
   "source": [
    "# combined_data = combined_data[['type', 'urlhash', 'local_label', 'label', 'title', 'content']]\n",
    "# combined_data.rename(columns = {'local_label':'predict_label'}, inplace = True)\n",
    "# combined_data.head()"
   ]
  },
  {
   "cell_type": "code",
   "execution_count": 24,
   "metadata": {
    "ExecuteTime": {
     "end_time": "2019-02-26T07:27:52.537452Z",
     "start_time": "2019-02-26T07:27:49.735861Z"
    }
   },
   "outputs": [
    {
     "name": "stdout",
     "output_type": "stream",
     "text": [
      "result/cbirc_result/class/result/采集_中国人保_class_predict_mysql_20190226(0202-0225).xlsx\n",
      "噪音        81995\n",
      "交通         8083\n",
      "消费服务       1390\n",
      "环保         1254\n",
      "行业         1088\n",
      "资本市场        698\n",
      "公司内部管理      528\n",
      "产品销售        341\n",
      "其他相关报道      313\n",
      "监管          187\n",
      "Name: predict_label, dtype: int64\n",
      "\n",
      "predict_label      交通  产品销售  公司内部管理  其他相关报道   噪音  消费服务   环保   监管   行业  资本市场  \\\n",
      "type publishtime                                                              \n",
      "中国人保 2019-02-02     2     9      13      17   13     8   12   11    7     4   \n",
      "     2019-02-03     6     5       7       9   13     8    5    7   10     9   \n",
      "     2019-02-04     6     5       8       5    8     4    4    2    5     7   \n",
      "     2019-02-05     4     8       5       6    6     3    2    5    6     7   \n",
      "     2019-02-06     2     6      12       5    3     5    3    2    0     7   \n",
      "     2019-02-07     2    12       4       5    6     8    7    2    4     3   \n",
      "     2019-02-08     7     9       6       3    8     7   10    2    4     7   \n",
      "     2019-02-09     7     8       5      12    6     9   13    0    3     3   \n",
      "     2019-02-10    18     9       6       7    4     7   10    5    5     5   \n",
      "     2019-02-11    12    14       7      17   12    11    4    4    3     7   \n",
      "     2019-02-12    10    17       2      17   17    18    9    3   11     2   \n",
      "     2019-02-13     9     9      10       9   12    12   11   23   14     2   \n",
      "     2019-02-14     7     6       3       7   12     8   10    8    9     7   \n",
      "     2019-02-15     9     4      13       8    4    10   10    5   12     7   \n",
      "     2019-02-16     5     4       4       6    7     2    4    4    5     0   \n",
      "     2019-02-17    10     3       3       0    2     3    9    2    4     5   \n",
      "     2019-02-18    13    11      11       6   14    12   13   11   12    11   \n",
      "     2019-02-19    12     9       7       4    8    11    6    8   12    28   \n",
      "     2019-02-20     8     6      16      16   13    14    6    5    9     7   \n",
      "     2019-02-21     7    10      13       7    8    14   17   10   25     8   \n",
      "     2019-02-22     5    16      16      19    7    14   10   22   21     7   \n",
      "     2019-02-23    11     2       5       7    6     3    5   12    5     3   \n",
      "     2019-02-24    14    12       5       4    6     2    9    9    9     4   \n",
      "     2019-02-25    14     6      19       4    5     7   11   25    5    50   \n",
      "All               200   200     200     200  200   200  200  187  200   200   \n",
      "\n",
      "predict_label      All  \n",
      "type publishtime        \n",
      "中国人保 2019-02-02     96  \n",
      "     2019-02-03     79  \n",
      "     2019-02-04     54  \n",
      "     2019-02-05     52  \n",
      "     2019-02-06     45  \n",
      "     2019-02-07     53  \n",
      "     2019-02-08     63  \n",
      "     2019-02-09     66  \n",
      "     2019-02-10     76  \n",
      "     2019-02-11     91  \n",
      "     2019-02-12    106  \n",
      "     2019-02-13    111  \n",
      "     2019-02-14     77  \n",
      "     2019-02-15     82  \n",
      "     2019-02-16     41  \n",
      "     2019-02-17     41  \n",
      "     2019-02-18    114  \n",
      "     2019-02-19    105  \n",
      "     2019-02-20    100  \n",
      "     2019-02-21    119  \n",
      "     2019-02-22    137  \n",
      "     2019-02-23     59  \n",
      "     2019-02-24     74  \n",
      "     2019-02-25    146  \n",
      "All               1987  \n"
     ]
    }
   ],
   "source": [
    "fea_filename = 'result/cbirc_result/class/result/%s_%s_class_predict_mysql_20190226(0202-0225).xlsx'%(gather_types, \n",
    "                                                                                                      proj_name_dict[types])\n",
    "print(fea_filename)\n",
    "# sel_col = ['噪音', '消费服务', '公司内部管理', '监管',\n",
    "#            '行业', '资本市场', '其他相关报道','产品销售','交通','环保']\n",
    "# sel_col = ['公司内部管理', '监管', '行业', '产品销售']\n",
    "sel_col = combined_data['predict_label'].unique().tolist()\n",
    "sel_data = combined_data[combined_data['predict_label'].isin(sel_col)]\n",
    "print(sel_data['predict_label'].value_counts())\n",
    "print()\n",
    "c_data = pd.DataFrame()\n",
    "with pd.ExcelWriter(fea_filename) as writer:\n",
    "    for label in sel_data['predict_label'].unique():\n",
    "        tmp_data = sel_data[sel_data['predict_label'] == label]\n",
    "        if gather_types == '补录':\n",
    "            N = tmp_data.shape[0]\n",
    "        else :\n",
    "            if tmp_data.shape[0] > 200:\n",
    "                N = 200\n",
    "            else :\n",
    "                N = tmp_data.shape[0]\n",
    "            if label in ['交通',]: # '环保'\n",
    "                N =  200 # tmp_data.shape[0]\n",
    "            \n",
    "        save_data = tmp_data.sample(n = N, axis = 0, random_state=42)\n",
    "        save_data.to_excel(writer,label, index = False)\n",
    "        c_data = pd.concat([c_data, save_data], axis = 0)\n",
    "    cc_data = c_data.copy()\n",
    "    cc_data['publishtime'] = cc_data['publishtime'].astype(str).apply(lambda x:x[:10])\n",
    "    print(cc_data.pivot_table(index = ['type', 'publishtime'], \n",
    "                                columns = ['predict_label'], \n",
    "                                values = 'title', aggfunc=len, \n",
    "                                fill_value=0, margins=True))      \n",
    "    writer.save()"
   ]
  },
  {
   "cell_type": "markdown",
   "metadata": {},
   "source": [
    "### 倾向性"
   ]
  },
  {
   "cell_type": "markdown",
   "metadata": {},
   "source": [
    "#### 合并 & 保存"
   ]
  },
  {
   "cell_type": "code",
   "execution_count": 116,
   "metadata": {
    "ExecuteTime": {
     "end_time": "2018-12-21T06:02:23.625496Z",
     "start_time": "2018-12-21T06:02:17.383139Z"
    }
   },
   "outputs": [
    {
     "name": "stdout",
     "output_type": "stream",
     "text": [
      "cbirc_result/class/result/cbirc_class_predict_采集_types(6)_2018-11-02.xlsx\n",
      "cbirc_result/class/result/cbirc_class_predict_采集_types(6)_2018-11-03.xlsx\n",
      "cbirc_result/class/result/cbirc_class_predict_采集_types(6)_2018-11-04.xlsx\n",
      "cbirc_result/class/result/cbirc_class_predict_采集_types(6)_2018-11-05.xlsx\n",
      "cbirc_result/class/result/cbirc_class_predict_采集_types(6)_2018-11-06.xlsx\n",
      "cbirc_result/class/result/cbirc_class_predict_采集_types(6)_2018-11-07.xlsx\n",
      "cbirc_result/class/result/cbirc_class_predict_采集_types(6)_2018-11-08.xlsx\n",
      "cbirc_result/class/result/cbirc_class_predict_采集_types(6)_2018-11-09.xlsx\n",
      "cbirc_result/class/result/cbirc_class_predict_采集_types(6)_2018-11-10.xlsx\n",
      "cbirc_result/class/result/cbirc_class_predict_采集_types(6)_2018-11-11.xlsx\n",
      "cbirc_result/class/result/cbirc_class_predict_采集_types(6)_2018-11-12.xlsx\n",
      "cbirc_result/class/result/cbirc_class_predict_采集_types(6)_2018-11-13.xlsx\n",
      "cbirc_result/class/result/cbirc_class_predict_采集_types(6)_2018-11-14.xlsx\n",
      "cbirc_result/class/result/cbirc_class_predict_采集_types(6)_2018-11-15.xlsx\n",
      "cbirc_result/class/result/cbirc_class_predict_采集_types(6)_2018-11-16.xlsx\n",
      "cbirc_result/class/result/cbirc_class_predict_采集_types(6)_2018-11-17.xlsx\n",
      "cbirc_result/class/result/cbirc_class_predict_采集_types(6)_2018-11-18.xlsx\n",
      "cbirc_result/class/result/cbirc_class_predict_采集_types(6)_2018-11-19.xlsx\n",
      "cbirc_result/class/result/cbirc_class_predict_采集_types(6)_2018-11-20.xlsx\n",
      "cbirc_result/class/result/cbirc_class_predict_采集_types(6)_2018-11-21.xlsx\n",
      "cbirc_result/class/result/cbirc_class_predict_采集_types(6)_2018-11-22.xlsx\n",
      "cbirc_result/class/result/cbirc_class_predict_采集_types(6)_2018-11-23.xlsx\n",
      "cbirc_result/class/result/cbirc_class_predict_采集_types(6)_2018-11-24.xlsx\n",
      "cbirc_result/class/result/cbirc_class_predict_采集_types(6)_2018-11-25.xlsx\n",
      "cbirc_result/class/result/cbirc_class_predict_采集_types(6)_2018-11-26.xlsx\n",
      "cbirc_result/class/result/cbirc_class_predict_采集_types(6)_2018-11-27.xlsx\n",
      "cbirc_result/class/result/cbirc_class_predict_采集_types(6)_2018-11-28.xlsx\n",
      "cbirc_result/class/result/cbirc_class_predict_采集_types(6)_2018-11-29.xlsx\n",
      "cbirc_result/class/result/cbirc_class_predict_采集_types(6)_2018-11-30.xlsx\n",
      "cbirc_result/class/result/cbirc_class_predict_采集_types(6)_2018-12-01.xlsx\n",
      "cbirc_result/class/result/cbirc_class_predict_采集_types(6)_2018-12-02.xlsx\n",
      "cbirc_result/class/result/cbirc_class_predict_采集_types(6)_2018-12-03.xlsx\n",
      "cbirc_result/class/result/cbirc_class_predict_采集_types(6)_2018-12-04.xlsx\n",
      "cbirc_result/class/result/cbirc_class_predict_采集_types(6)_2018-12-05.xlsx\n",
      "cbirc_result/class/result/cbirc_class_predict_采集_types(6)_2018-12-06.xlsx\n",
      "cbirc_result/class/result/cbirc_class_predict_采集_types(6)_2018-12-07.xlsx\n",
      "cbirc_result/class/result/cbirc_class_predict_采集_types(6)_2018-12-08.xlsx\n",
      "cbirc_result/class/result/cbirc_class_predict_采集_types(6)_2018-12-09.xlsx\n",
      "cbirc_result/class/result/cbirc_class_predict_采集_types(6)_2018-12-10.xlsx\n",
      "cbirc_result/class/result/cbirc_class_predict_采集_types(6)_2018-12-11.xlsx\n",
      "cbirc_result/class/result/cbirc_class_predict_采集_types(6)_2018-12-12.xlsx\n",
      "cbirc_result/class/result/cbirc_class_predict_采集_types(6)_2018-12-13.xlsx\n",
      "cbirc_result/class/result/cbirc_class_predict_采集_types(6)_2018-12-14.xlsx\n",
      "cbirc_result/class/result/cbirc_class_predict_采集_types(6)_2018-12-15.xlsx\n",
      "cbirc_result/class/result/cbirc_class_predict_采集_types(6)_2018-12-16.xlsx\n",
      "cbirc_result/class/result/cbirc_class_predict_采集_types(6)_2018-12-17.xlsx\n",
      "cbirc_result/class/result/cbirc_class_predict_采集_types(6)_2018-12-18.xlsx\n",
      "cbirc_result/class/result/cbirc_class_predict_采集_types(6)_2018-12-19.xlsx\n",
      "cbirc_result/class/result/cbirc_class_predict_采集_types(6)_2018-12-20.xlsx\n",
      "(15770, 11)\n",
      "predict_label       产品销售  公司内部管理  其他相关报道    噪音  消费服务   监管    行业  资本市场    All\n",
      "          tendency                                                          \n",
      "len title -1           0     215       0     0   352  144   269     0    980\n",
      "          0          193     451     515  9130   336  538  1837  1790  14790\n",
      "          All        193     666     515  9130   688  682  2106  1790  15770\n",
      "\n",
      "(4142, 11)\n",
      "predict_label       公司内部管理  消费服务   监管    行业   All\n",
      "          tendency                               \n",
      "len title -1           215   352  144   269   980\n",
      "          0            451   336  538  1837  3162\n",
      "          All          666   688  682  2106  4142\n",
      " 0    3162\n",
      "-1     980\n",
      "Name: tendency, dtype: int64\n"
     ]
    },
    {
     "data": {
      "text/html": [
       "<div>\n",
       "<style scoped>\n",
       "    .dataframe tbody tr th:only-of-type {\n",
       "        vertical-align: middle;\n",
       "    }\n",
       "\n",
       "    .dataframe tbody tr th {\n",
       "        vertical-align: top;\n",
       "    }\n",
       "\n",
       "    .dataframe thead th {\n",
       "        text-align: right;\n",
       "    }\n",
       "</style>\n",
       "<table border=\"1\" class=\"dataframe\">\n",
       "  <thead>\n",
       "    <tr style=\"text-align: right;\">\n",
       "      <th></th>\n",
       "      <th>id</th>\n",
       "      <th>gather_type</th>\n",
       "      <th>type</th>\n",
       "      <th>urlhash</th>\n",
       "      <th>predict_label</th>\n",
       "      <th>label</th>\n",
       "      <th>title</th>\n",
       "      <th>content</th>\n",
       "      <th>group_id</th>\n",
       "      <th>publishtime</th>\n",
       "      <th>tendency</th>\n",
       "    </tr>\n",
       "  </thead>\n",
       "  <tbody>\n",
       "    <tr>\n",
       "      <th>11</th>\n",
       "      <td>5835886</td>\n",
       "      <td>系统采集</td>\n",
       "      <td>安徽银监局</td>\n",
       "      <td>-9157588078424358912</td>\n",
       "      <td>消费服务</td>\n",
       "      <td>NaN</td>\n",
       "      <td>商河国寿财险重阳节送爱心</td>\n",
       "      <td>信托公司\\n\\r信托公司\\n\\rA-安徽国元信托有限责任公司\\n\\rA-安信信托股份有限公司...</td>\n",
       "      <td>新闻</td>\n",
       "      <td>2018-11-02 08:44:37</td>\n",
       "      <td>0</td>\n",
       "    </tr>\n",
       "    <tr>\n",
       "      <th>15</th>\n",
       "      <td>5830308</td>\n",
       "      <td>系统采集</td>\n",
       "      <td>安徽银监局</td>\n",
       "      <td>-7847497080215177216</td>\n",
       "      <td>公司内部管理</td>\n",
       "      <td>NaN</td>\n",
       "      <td>中信银行合肥财富广场支行因违规吸收存款被罚25万</td>\n",
       "      <td>\\n中国青年网北京11月2日电\\n 据中国银保监会网站消息，中国银保监会网站公布了安徽银...</td>\n",
       "      <td>新闻</td>\n",
       "      <td>2018-11-02 10:53:00</td>\n",
       "      <td>-1</td>\n",
       "    </tr>\n",
       "  </tbody>\n",
       "</table>\n",
       "</div>"
      ],
      "text/plain": [
       "         id gather_type   type              urlhash predict_label  label  \\\n",
       "11  5835886        系统采集  安徽银监局 -9157588078424358912          消费服务    NaN   \n",
       "15  5830308        系统采集  安徽银监局 -7847497080215177216        公司内部管理    NaN   \n",
       "\n",
       "                       title  \\\n",
       "11              商河国寿财险重阳节送爱心   \n",
       "15  中信银行合肥财富广场支行因违规吸收存款被罚25万   \n",
       "\n",
       "                                              content group_id  \\\n",
       "11  信托公司\\n\\r信托公司\\n\\rA-安徽国元信托有限责任公司\\n\\rA-安信信托股份有限公司...       新闻   \n",
       "15  　　\\n中国青年网北京11月2日电\\n 据中国银保监会网站消息，中国银保监会网站公布了安徽银...       新闻   \n",
       "\n",
       "           publishtime  tendency  \n",
       "11 2018-11-02 08:44:37         0  \n",
       "15 2018-11-02 10:53:00        -1  "
      ]
     },
     "execution_count": 116,
     "metadata": {},
     "output_type": "execute_result"
    }
   ],
   "source": [
    "combined_data = pd.DataFrame()\n",
    "for day_select in day_list:\n",
    "#     tmp_data = pd.read_excel('cbirc_result/class/result/cbirc_class_predict_mysql_%s.xlsx'%day_select)\n",
    "    file_name = 'cbirc_result/class/result/cbirc_class_predict_%s_types(%s)_%s.xlsx'%(gather_types, types, day_select)\n",
    "    if os.path.isfile(file_name):\n",
    "        print(file_name)\n",
    "        tmp_data = pd.read_excel(file_name)\n",
    "        combined_data = pd.concat([combined_data, tmp_data], axis = 0)\n",
    "\n",
    "print(combined_data.shape)\n",
    "print(combined_data.pivot_table(index = ['predict_label'], columns = ['tendency'], \n",
    "                            aggfunc = [len], values = ['title'], \n",
    "                            fill_value = 0, margins = True).T) \n",
    "print()\n",
    "\n",
    "if types in [4,5]:\n",
    "    combined_data = combined_data[combined_data['predict_label'] != '噪音']\n",
    "else :\n",
    "    sel_col = ['公司内部管理', '监管', '行业', '消费服务']\n",
    "    combined_data = combined_data[combined_data['predict_label'].isin(sel_col)]\n",
    "\n",
    "print(combined_data.shape)  \n",
    "print(combined_data.pivot_table(index = ['predict_label'], columns = ['tendency'], \n",
    "                            aggfunc = [len], values = ['title'], \n",
    "                            fill_value = 0, margins = True).T) \n",
    "\n",
    "print(combined_data['tendency'].value_counts())\n",
    "combined_data.iloc[:2, :]"
   ]
  },
  {
   "cell_type": "code",
   "execution_count": 119,
   "metadata": {
    "ExecuteTime": {
     "end_time": "2018-12-21T06:03:55.941776Z",
     "start_time": "2018-12-21T06:03:53.685647Z"
    }
   },
   "outputs": [
    {
     "name": "stdout",
     "output_type": "stream",
     "text": [
      "cbirc_result/tendency/result/采集_安徽银监局_tendency_predict_mysql_20181221(1102-1220).xlsx\n",
      " 0    3162\n",
      "-1     980\n",
      "Name: tendency, dtype: int64\n",
      "正负各 1000 条，共 4 类， 每类各 350 条\n",
      "-------------------------------------------------------\n",
      "tendency: 0, predict_label: 消费服务, size: (336, 11)\n",
      "tendency: 0, predict_label: 公司内部管理, size: (686, 11)\n",
      "tendency: 0, predict_label: 行业, size: (1036, 11)\n",
      "tendency: 0, predict_label: 监管, size: (1386, 11)\n",
      "predict_label   公司内部管理  消费服务   监管   行业   All\n",
      "tendency type                               \n",
      "0        安徽银监局     247   239  259  255  1000\n",
      "All                247   239  259  255  1000\n",
      "-------------------------------------------------------\n",
      "tendency: -1, predict_label: 消费服务, size: (350, 11)\n",
      "tendency: -1, predict_label: 公司内部管理, size: (565, 11)\n",
      "tendency: -1, predict_label: 行业, size: (834, 11)\n",
      "tendency: -1, predict_label: 监管, size: (978, 11)\n",
      "predict_label   公司内部管理  消费服务   监管   行业  All\n",
      "tendency type                              \n",
      "-1       安徽银监局     215   350  144  269  978\n",
      "All                215   350  144  269  978\n"
     ]
    }
   ],
   "source": [
    "fea_filename = 'cbirc_result/tendency/result/%s_%s_tendency_predict_mysql_20181221(1102-1220).xlsx'%(gather_types, \n",
    "                                                                                                     proj_name_dict[types])\n",
    "print(fea_filename)\n",
    "print(combined_data['tendency'].value_counts())\n",
    "\n",
    "N = 1000 # 每类 N 条数据\n",
    "class_n = int(combined_data['predict_label'].unique().shape[0])\n",
    "n = int(N / class_n) + 100\n",
    "\n",
    "print('正负各 %s 条，共 %s 类， 每类各 %s 条'%(N, class_n, n))\n",
    "with pd.ExcelWriter(fea_filename) as writer:\n",
    "    for tendency in combined_data['tendency'].unique():\n",
    "        print('-------------------------------------------------------')\n",
    "        tmp_data = pd.DataFrame()\n",
    "        sel_data = combined_data[combined_data['tendency'] == tendency]        \n",
    "        for predict_label in combined_data['predict_label'].unique():\n",
    "            label_data = sel_data[sel_data['predict_label'] == predict_label]\n",
    "            if label_data.shape[0] > n:\n",
    "                sel_label_data = label_data.sample(n = n, axis = 0, random_state=3)\n",
    "            else :\n",
    "                sel_label_data = label_data\n",
    "            tmp_data = pd.concat([tmp_data, sel_label_data], axis = 0)        \n",
    "            print('tendency: %s, predict_label: %s, size: %s'%(tendency, predict_label, tmp_data.shape))\n",
    "\n",
    "        if gather_types == '补录':\n",
    "            t_n = tmp_data.shape[0]\n",
    "        else :            \n",
    "            if tmp_data.shape[0] > N:\n",
    "                t_n = N\n",
    "            else :\n",
    "                t_n = tmp_data.shape[0]\n",
    "        \n",
    "        tmp_data = tmp_data.sample(n = t_n, axis = 0, random_state=3)\n",
    "        tmp_data.to_excel(writer,str(tendency), index = False)        \n",
    "        print(tmp_data.pivot_table(index = ['tendency', 'type'], \n",
    "                                    columns = ['predict_label'], \n",
    "                                    values = 'title', aggfunc=len, \n",
    "                                    fill_value=0, margins=True))    \n",
    "        \n",
    "    writer.save()"
   ]
  },
  {
   "cell_type": "markdown",
   "metadata": {
    "collapsed": true
   },
   "source": [
    "## 本地模型"
   ]
  },
  {
   "cell_type": "markdown",
   "metadata": {},
   "source": [
    "### 八分类"
   ]
  },
  {
   "cell_type": "markdown",
   "metadata": {},
   "source": [
    "#### CBRC"
   ]
  },
  {
   "cell_type": "code",
   "execution_count": 75,
   "metadata": {
    "ExecuteTime": {
     "end_time": "2018-11-15T07:57:33.168863Z",
     "start_time": "2018-11-15T07:57:33.161863Z"
    },
    "collapsed": true
   },
   "outputs": [],
   "source": [
    "from sklearn.externals import joblib\n",
    "pipeline_old = joblib.load( \"model/cbrc_8classifier_1015.pkl.z\")\n",
    "\n",
    "url = 'http://47.93.183.157:6001/judge_correlation_b'\n",
    "col_name = 'cor'\n",
    "types = 1\n",
    "\n",
    "combined_data['title_content'] = combined_data['title'].astype(str) + '。' + combined_data['content'].astype(str)\n",
    "title_content = pre_cor_cbrc.handle_contents(combined_data['title_content'].tolist())\n",
    "print(len(title_content))"
   ]
  },
  {
   "cell_type": "markdown",
   "metadata": {},
   "source": [
    "#### CIRC"
   ]
  },
  {
   "cell_type": "code",
   "execution_count": 92,
   "metadata": {
    "ExecuteTime": {
     "end_time": "2018-11-26T06:23:19.978490Z",
     "start_time": "2018-11-26T06:23:09.913914Z"
    }
   },
   "outputs": [
    {
     "name": "stdout",
     "output_type": "stream",
     "text": [
      "43\n"
     ]
    }
   ],
   "source": [
    "from sklearn.externals import joblib\n",
    "pipeline_old = joblib.load( \"model/circ_8classifier_1113.pkl.z\")\n",
    "# pipeline_old = joblib.load( \"model/circ_picc_10classifier_1118.pkl.z\")\n",
    "\n",
    "url = 'http://47.93.183.157:10000/judge_correlation_i'\n",
    "col_name = 'cor'\n",
    "types = 5\n",
    "\n",
    "combined_data['title_content'] = combined_data['title'].astype(str) + '。' + combined_data['content'].astype(str)\n",
    "title_content = pre_cor_circ.handle_contents(combined_data['title_content'].tolist())\n",
    "print(len(title_content))"
   ]
  },
  {
   "cell_type": "markdown",
   "metadata": {},
   "source": [
    "#### pre"
   ]
  },
  {
   "cell_type": "code",
   "execution_count": 93,
   "metadata": {
    "ExecuteTime": {
     "end_time": "2018-11-26T06:23:21.615583Z",
     "start_time": "2018-11-26T06:23:21.128556Z"
    },
    "collapsed": true
   },
   "outputs": [],
   "source": [
    "local_label = pipeline_old.predict(title_content)\n",
    "local_proba = pipeline_old.predict_proba(title_content)"
   ]
  },
  {
   "cell_type": "code",
   "execution_count": 94,
   "metadata": {
    "ExecuteTime": {
     "end_time": "2018-11-26T06:23:22.492634Z",
     "start_time": "2018-11-26T06:23:22.454631Z"
    }
   },
   "outputs": [
    {
     "name": "stdout",
     "output_type": "stream",
     "text": [
      "(43, 13)\n"
     ]
    },
    {
     "data": {
      "text/html": [
       "<div>\n",
       "<style scoped>\n",
       "    .dataframe tbody tr th:only-of-type {\n",
       "        vertical-align: middle;\n",
       "    }\n",
       "\n",
       "    .dataframe tbody tr th {\n",
       "        vertical-align: top;\n",
       "    }\n",
       "\n",
       "    .dataframe thead th {\n",
       "        text-align: right;\n",
       "    }\n",
       "</style>\n",
       "<table border=\"1\" class=\"dataframe\">\n",
       "  <thead>\n",
       "    <tr style=\"text-align: right;\">\n",
       "      <th></th>\n",
       "      <th>gather_type</th>\n",
       "      <th>type</th>\n",
       "      <th>urlhash</th>\n",
       "      <th>predict_label</th>\n",
       "      <th>label</th>\n",
       "      <th>title</th>\n",
       "      <th>content</th>\n",
       "      <th>group_id</th>\n",
       "      <th>publishtime</th>\n",
       "      <th>tendency</th>\n",
       "      <th>title_content</th>\n",
       "      <th>local_label</th>\n",
       "      <th>local_proba</th>\n",
       "    </tr>\n",
       "  </thead>\n",
       "  <tbody>\n",
       "    <tr>\n",
       "      <th>0</th>\n",
       "      <td>补录</td>\n",
       "      <td>中国人保</td>\n",
       "      <td>-1451164327749029888</td>\n",
       "      <td>环保</td>\n",
       "      <td>NaN</td>\n",
       "      <td>11月18日21时40分新疆和田地区于田县发生3.0级地震</td>\n",
       "      <td>据中国地震台网测定，北京时间2018年11月18日21时40分在新疆和田地区于田县（北纬36...</td>\n",
       "      <td>新闻</td>\n",
       "      <td>2018-11-18 21:58:50</td>\n",
       "      <td>-1</td>\n",
       "      <td>11月18日21时40分新疆和田地区于田县发生3.0级地震。据中国地震台网测定，北京时间20...</td>\n",
       "      <td>噪音</td>\n",
       "      <td>0.605084</td>\n",
       "    </tr>\n",
       "    <tr>\n",
       "      <th>0</th>\n",
       "      <td>补录</td>\n",
       "      <td>中国人保</td>\n",
       "      <td>-6173404825726358528</td>\n",
       "      <td>监管</td>\n",
       "      <td>NaN</td>\n",
       "      <td>周亮：民营经济离场论调极其错误 银保监会对国有和民营经济一视同仁</td>\n",
       "      <td>11月19日，在第九届财新峰会上，中国银行保险监督管理委员会副主席周亮表示，改革开放40年中...</td>\n",
       "      <td>新闻</td>\n",
       "      <td>2018-11-19 11:09:19</td>\n",
       "      <td>0</td>\n",
       "      <td>周亮：民营经济离场论调极其错误 银保监会对国有和民营经济一视同仁。11月19日，在第九届财新...</td>\n",
       "      <td>监管</td>\n",
       "      <td>0.915518</td>\n",
       "    </tr>\n",
       "  </tbody>\n",
       "</table>\n",
       "</div>"
      ],
      "text/plain": [
       "  gather_type  type              urlhash predict_label  label  \\\n",
       "0          补录  中国人保 -1451164327749029888            环保    NaN   \n",
       "0          补录  中国人保 -6173404825726358528            监管    NaN   \n",
       "\n",
       "                              title  \\\n",
       "0     11月18日21时40分新疆和田地区于田县发生3.0级地震   \n",
       "0  周亮：民营经济离场论调极其错误 银保监会对国有和民营经济一视同仁   \n",
       "\n",
       "                                             content group_id  \\\n",
       "0  据中国地震台网测定，北京时间2018年11月18日21时40分在新疆和田地区于田县（北纬36...       新闻   \n",
       "0  11月19日，在第九届财新峰会上，中国银行保险监督管理委员会副主席周亮表示，改革开放40年中...       新闻   \n",
       "\n",
       "          publishtime  tendency  \\\n",
       "0 2018-11-18 21:58:50        -1   \n",
       "0 2018-11-19 11:09:19         0   \n",
       "\n",
       "                                       title_content local_label  local_proba  \n",
       "0  11月18日21时40分新疆和田地区于田县发生3.0级地震。据中国地震台网测定，北京时间20...          噪音     0.605084  \n",
       "0  周亮：民营经济离场论调极其错误 银保监会对国有和民营经济一视同仁。11月19日，在第九届财新...          监管     0.915518  "
      ]
     },
     "execution_count": 94,
     "metadata": {},
     "output_type": "execute_result"
    }
   ],
   "source": [
    "combined_data['local_label'] = local_label\n",
    "combined_data['local_proba'] = local_proba.max(axis = 1)\n",
    "combined_data['local_label'] = combined_data['local_label'].apply(lambda x:class_name_dict[x])\n",
    "print(combined_data.shape)\n",
    "combined_data.iloc[:2, :]"
   ]
  },
  {
   "cell_type": "code",
   "execution_count": 95,
   "metadata": {
    "ExecuteTime": {
     "end_time": "2018-11-26T06:23:25.590811Z",
     "start_time": "2018-11-26T06:23:25.577810Z"
    }
   },
   "outputs": [
    {
     "data": {
      "text/plain": [
       "噪音        13\n",
       "行业        12\n",
       "公司内部管理     5\n",
       "消费服务       5\n",
       "其他相关报道     4\n",
       "监管         3\n",
       "资本市场       1\n",
       "Name: local_label, dtype: int64"
      ]
     },
     "execution_count": 95,
     "metadata": {},
     "output_type": "execute_result"
    }
   ],
   "source": [
    "combined_data['local_label'].value_counts()"
   ]
  },
  {
   "cell_type": "markdown",
   "metadata": {},
   "source": [
    "#### 线上线下一致性: mysql 与 local"
   ]
  },
  {
   "cell_type": "code",
   "execution_count": 96,
   "metadata": {
    "ExecuteTime": {
     "end_time": "2018-11-26T06:23:27.156900Z",
     "start_time": "2018-11-26T06:23:27.056895Z"
    }
   },
   "outputs": [
    {
     "name": "stdout",
     "output_type": "stream",
     "text": [
      "0.46511627906976744\n",
      "Wrong    23\n",
      "Right    20\n",
      "Name: R_W, dtype: int64\n"
     ]
    },
    {
     "data": {
      "text/html": [
       "<div>\n",
       "<style scoped>\n",
       "    .dataframe tbody tr th:only-of-type {\n",
       "        vertical-align: middle;\n",
       "    }\n",
       "\n",
       "    .dataframe tbody tr th {\n",
       "        vertical-align: top;\n",
       "    }\n",
       "\n",
       "    .dataframe thead tr th {\n",
       "        text-align: left;\n",
       "    }\n",
       "\n",
       "    .dataframe thead tr:last-of-type th {\n",
       "        text-align: right;\n",
       "    }\n",
       "</style>\n",
       "<table border=\"1\" class=\"dataframe\">\n",
       "  <thead>\n",
       "    <tr>\n",
       "      <th></th>\n",
       "      <th colspan=\"7\" halign=\"left\">len</th>\n",
       "    </tr>\n",
       "    <tr>\n",
       "      <th></th>\n",
       "      <th colspan=\"7\" halign=\"left\">urlhash</th>\n",
       "    </tr>\n",
       "    <tr>\n",
       "      <th>predict_label</th>\n",
       "      <th>交通</th>\n",
       "      <th>产品销售</th>\n",
       "      <th>公司内部管理</th>\n",
       "      <th>环保</th>\n",
       "      <th>监管</th>\n",
       "      <th>行业</th>\n",
       "      <th>All</th>\n",
       "    </tr>\n",
       "    <tr>\n",
       "      <th>local_label</th>\n",
       "      <th></th>\n",
       "      <th></th>\n",
       "      <th></th>\n",
       "      <th></th>\n",
       "      <th></th>\n",
       "      <th></th>\n",
       "      <th></th>\n",
       "    </tr>\n",
       "  </thead>\n",
       "  <tbody>\n",
       "    <tr>\n",
       "      <th>公司内部管理</th>\n",
       "      <td>1</td>\n",
       "      <td>1</td>\n",
       "      <td>0</td>\n",
       "      <td>0</td>\n",
       "      <td>0</td>\n",
       "      <td>1</td>\n",
       "      <td>3</td>\n",
       "    </tr>\n",
       "    <tr>\n",
       "      <th>其他相关报道</th>\n",
       "      <td>1</td>\n",
       "      <td>1</td>\n",
       "      <td>0</td>\n",
       "      <td>0</td>\n",
       "      <td>0</td>\n",
       "      <td>0</td>\n",
       "      <td>2</td>\n",
       "    </tr>\n",
       "    <tr>\n",
       "      <th>噪音</th>\n",
       "      <td>1</td>\n",
       "      <td>0</td>\n",
       "      <td>0</td>\n",
       "      <td>9</td>\n",
       "      <td>0</td>\n",
       "      <td>1</td>\n",
       "      <td>11</td>\n",
       "    </tr>\n",
       "    <tr>\n",
       "      <th>消费服务</th>\n",
       "      <td>1</td>\n",
       "      <td>0</td>\n",
       "      <td>1</td>\n",
       "      <td>1</td>\n",
       "      <td>0</td>\n",
       "      <td>0</td>\n",
       "      <td>3</td>\n",
       "    </tr>\n",
       "    <tr>\n",
       "      <th>行业</th>\n",
       "      <td>0</td>\n",
       "      <td>0</td>\n",
       "      <td>0</td>\n",
       "      <td>0</td>\n",
       "      <td>4</td>\n",
       "      <td>0</td>\n",
       "      <td>4</td>\n",
       "    </tr>\n",
       "    <tr>\n",
       "      <th>All</th>\n",
       "      <td>4</td>\n",
       "      <td>2</td>\n",
       "      <td>1</td>\n",
       "      <td>10</td>\n",
       "      <td>4</td>\n",
       "      <td>2</td>\n",
       "      <td>23</td>\n",
       "    </tr>\n",
       "  </tbody>\n",
       "</table>\n",
       "</div>"
      ],
      "text/plain": [
       "                  len                          \n",
       "              urlhash                          \n",
       "predict_label      交通 产品销售 公司内部管理  环保 监管 行业 All\n",
       "local_label                                    \n",
       "公司内部管理              1    1      0   0  0  1   3\n",
       "其他相关报道              1    1      0   0  0  0   2\n",
       "噪音                  1    0      0   9  0  1  11\n",
       "消费服务                1    0      1   1  0  0   3\n",
       "行业                  0    0      0   0  4  0   4\n",
       "All                 4    2      1  10  4  2  23"
      ]
     },
     "execution_count": 96,
     "metadata": {},
     "output_type": "execute_result"
    }
   ],
   "source": [
    "combined_data['R_W'] = combined_data.apply(lambda x: 'Right' if x['local_label'] == x['predict_label'] else 'Wrong', axis = 1)\n",
    "print(combined_data[combined_data['R_W'] == 'Right'].shape[0]/combined_data.shape[0])\n",
    "print(combined_data['R_W'].value_counts())\n",
    "combined_data[combined_data['R_W'] == 'Wrong'].pivot_table(index = ['local_label'], columns = ['predict_label'], \n",
    "                                                            aggfunc = [len], values = ['urlhash'], \n",
    "                                                            fill_value = 0, margins = True)"
   ]
  },
  {
   "cell_type": "markdown",
   "metadata": {},
   "source": [
    "#### 线上线下一致性: online 与 local"
   ]
  },
  {
   "cell_type": "code",
   "execution_count": 97,
   "metadata": {
    "ExecuteTime": {
     "end_time": "2018-11-26T06:23:40.100641Z",
     "start_time": "2018-11-26T06:23:40.093640Z"
    },
    "collapsed": true
   },
   "outputs": [],
   "source": [
    "combined_data['id'] = range(combined_data.shape[0])\n",
    "combined_data['title'] = combined_data['title'].astype(str) \n",
    "combined_data['content'] = combined_data['content'].astype(str)"
   ]
  },
  {
   "cell_type": "code",
   "execution_count": 32,
   "metadata": {
    "ExecuteTime": {
     "end_time": "2018-12-04T08:52:13.964084Z",
     "start_time": "2018-12-04T08:52:08.618778Z"
    }
   },
   "outputs": [
    {
     "name": "stdout",
     "output_type": "stream",
     "text": [
      "elapsed_time:  5.00\n"
     ]
    },
    {
     "data": {
      "text/html": [
       "<div>\n",
       "<style scoped>\n",
       "    .dataframe tbody tr th:only-of-type {\n",
       "        vertical-align: middle;\n",
       "    }\n",
       "\n",
       "    .dataframe tbody tr th {\n",
       "        vertical-align: top;\n",
       "    }\n",
       "\n",
       "    .dataframe thead th {\n",
       "        text-align: right;\n",
       "    }\n",
       "</style>\n",
       "<table border=\"1\" class=\"dataframe\">\n",
       "  <thead>\n",
       "    <tr style=\"text-align: right;\">\n",
       "      <th></th>\n",
       "      <th>id</th>\n",
       "      <th>predict_label</th>\n",
       "    </tr>\n",
       "  </thead>\n",
       "  <tbody>\n",
       "    <tr>\n",
       "      <th>0</th>\n",
       "      <td>15238562</td>\n",
       "      <td>1</td>\n",
       "    </tr>\n",
       "    <tr>\n",
       "      <th>1</th>\n",
       "      <td>9567425</td>\n",
       "      <td>8</td>\n",
       "    </tr>\n",
       "    <tr>\n",
       "      <th>2</th>\n",
       "      <td>16364349</td>\n",
       "      <td>8</td>\n",
       "    </tr>\n",
       "    <tr>\n",
       "      <th>3</th>\n",
       "      <td>18131378</td>\n",
       "      <td>1</td>\n",
       "    </tr>\n",
       "    <tr>\n",
       "      <th>4</th>\n",
       "      <td>17741383</td>\n",
       "      <td>5</td>\n",
       "    </tr>\n",
       "  </tbody>\n",
       "</table>\n",
       "</div>"
      ],
      "text/plain": [
       "         id  predict_label\n",
       "0  15238562              1\n",
       "1   9567425              8\n",
       "2  16364349              8\n",
       "3  18131378              1\n",
       "4  17741383              5"
      ]
     },
     "execution_count": 32,
     "metadata": {},
     "output_type": "execute_result"
    }
   ],
   "source": [
    "combined_data = pd.read_excel('广发银行数据.xlsx')\n",
    "\n",
    "url = 'http://47.93.183.157:10000/judge_correlation_i'\n",
    "col_name = 'cor'\n",
    "types = 2\n",
    "\n",
    "data = {\"types\":types,\"record\":combined_data.loc[:,['id', 'title' ,'content']].to_dict(orient = 'records')}\n",
    "\n",
    "parse_data, elapsed_time = get_server_res(data, url, col_name)\n",
    "print('elapsed_time: ', elapsed_time)\n",
    "parse_data.columns = ['id', 'predict_label']\n",
    "combined_data = pd.merge(combined_data, parse_data, on  = 'id')\n",
    "parse_data.head()"
   ]
  },
  {
   "cell_type": "code",
   "execution_count": 36,
   "metadata": {
    "ExecuteTime": {
     "end_time": "2018-12-04T08:53:33.990661Z",
     "start_time": "2018-12-04T08:53:33.758648Z"
    }
   },
   "outputs": [
    {
     "name": "stdout",
     "output_type": "stream",
     "text": [
      "(129, 9)\n"
     ]
    },
    {
     "data": {
      "text/html": [
       "<div>\n",
       "<style scoped>\n",
       "    .dataframe tbody tr th:only-of-type {\n",
       "        vertical-align: middle;\n",
       "    }\n",
       "\n",
       "    .dataframe tbody tr th {\n",
       "        vertical-align: top;\n",
       "    }\n",
       "\n",
       "    .dataframe thead th {\n",
       "        text-align: right;\n",
       "    }\n",
       "</style>\n",
       "<table border=\"1\" class=\"dataframe\">\n",
       "  <thead>\n",
       "    <tr style=\"text-align: right;\">\n",
       "      <th></th>\n",
       "      <th>id</th>\n",
       "      <th>node_id</th>\n",
       "      <th>tendency</th>\n",
       "      <th>type</th>\n",
       "      <th>group_id</th>\n",
       "      <th>publishtime</th>\n",
       "      <th>title</th>\n",
       "      <th>content</th>\n",
       "      <th>predict_label</th>\n",
       "    </tr>\n",
       "  </thead>\n",
       "  <tbody>\n",
       "    <tr>\n",
       "      <th>0</th>\n",
       "      <td>15238562</td>\n",
       "      <td>1187</td>\n",
       "      <td>-1</td>\n",
       "      <td>3</td>\n",
       "      <td>1</td>\n",
       "      <td>2018-03-21 21:53:58</td>\n",
       "      <td>金融领域风险该戳的脓包要戳 否则有道德风险</td>\n",
       "      <td>金融领域也有一些违法违规行为或者规避风险的行为在兴风作浪。最近我们监管部门主动出手、果...</td>\n",
       "      <td>监管</td>\n",
       "    </tr>\n",
       "    <tr>\n",
       "      <th>1</th>\n",
       "      <td>9567425</td>\n",
       "      <td>1187</td>\n",
       "      <td>-1</td>\n",
       "      <td>3</td>\n",
       "      <td>1</td>\n",
       "      <td>2018-08-04 08:40:24</td>\n",
       "      <td>强监管之风继续吹   7月银监系统罚没金额超8000万</td>\n",
       "      <td>03:12            \\n\\n进入下半年以来，银行业乱象的整治仍在进行。本报记者...</td>\n",
       "      <td>噪音</td>\n",
       "    </tr>\n",
       "    <tr>\n",
       "      <th>2</th>\n",
       "      <td>16364349</td>\n",
       "      <td>1187</td>\n",
       "      <td>-1</td>\n",
       "      <td>3</td>\n",
       "      <td>1</td>\n",
       "      <td>2018-08-02 09:44:43</td>\n",
       "      <td>东莞市发展和改革局行政处罚决定书（东发改价监处〔2018〕21号）</td>\n",
       "      <td>当事人：\\n\\r东莞市臻品表业有限公司\\n\\r地\\n\\r址：\\n\\r东莞市黄江镇胜前岗村环城...</td>\n",
       "      <td>噪音</td>\n",
       "    </tr>\n",
       "    <tr>\n",
       "      <th>3</th>\n",
       "      <td>18131378</td>\n",
       "      <td>1187</td>\n",
       "      <td>0</td>\n",
       "      <td>3</td>\n",
       "      <td>1</td>\n",
       "      <td>2018-12-03 00:00:00</td>\n",
       "      <td>银行严监管边际改善</td>\n",
       "      <td>随着金融去杠杆进入尾声，严监管政策基本出尽，“降\\n利率\\n”阶段对\\n银行\\n负债成本...</td>\n",
       "      <td>监管</td>\n",
       "    </tr>\n",
       "    <tr>\n",
       "      <th>4</th>\n",
       "      <td>17741383</td>\n",
       "      <td>1187</td>\n",
       "      <td>0</td>\n",
       "      <td>3</td>\n",
       "      <td>1</td>\n",
       "      <td>2018-11-27 13:36:00</td>\n",
       "      <td>涉嫌多项违规 信美人寿“相互保”今日下架</td>\n",
       "      <td>来源标题：\\n涉嫌多项违规 信美人寿“相互保”今日下架\\n\\r上证报记者最新获悉，监管部门已...</td>\n",
       "      <td>公司内部管理</td>\n",
       "    </tr>\n",
       "  </tbody>\n",
       "</table>\n",
       "</div>"
      ],
      "text/plain": [
       "         id  node_id  tendency  type  group_id         publishtime  \\\n",
       "0  15238562     1187        -1     3         1 2018-03-21 21:53:58   \n",
       "1   9567425     1187        -1     3         1 2018-08-04 08:40:24   \n",
       "2  16364349     1187        -1     3         1 2018-08-02 09:44:43   \n",
       "3  18131378     1187         0     3         1 2018-12-03 00:00:00   \n",
       "4  17741383     1187         0     3         1 2018-11-27 13:36:00   \n",
       "\n",
       "                               title  \\\n",
       "0              金融领域风险该戳的脓包要戳 否则有道德风险   \n",
       "1        强监管之风继续吹   7月银监系统罚没金额超8000万   \n",
       "2  东莞市发展和改革局行政处罚决定书（东发改价监处〔2018〕21号）   \n",
       "3                          银行严监管边际改善   \n",
       "4               涉嫌多项违规 信美人寿“相互保”今日下架   \n",
       "\n",
       "                                             content predict_label  \n",
       "0  　　 金融领域也有一些违法违规行为或者规避风险的行为在兴风作浪。最近我们监管部门主动出手、果...            监管  \n",
       "1  03:12            \\n\\n进入下半年以来，银行业乱象的整治仍在进行。本报记者...            噪音  \n",
       "2  当事人：\\n\\r东莞市臻品表业有限公司\\n\\r地\\n\\r址：\\n\\r东莞市黄江镇胜前岗村环城...            噪音  \n",
       "3  　　随着金融去杠杆进入尾声，严监管政策基本出尽，“降\\n利率\\n”阶段对\\n银行\\n负债成本...            监管  \n",
       "4  来源标题：\\n涉嫌多项违规 信美人寿“相互保”今日下架\\n\\r上证报记者最新获悉，监管部门已...        公司内部管理  "
      ]
     },
     "execution_count": 36,
     "metadata": {},
     "output_type": "execute_result"
    }
   ],
   "source": [
    "# combined_data['predict_label'] = combined_data['predict_label'].apply(lambda x:class_name_dict[x])\n",
    "combined_data.to_excel('广发银行数据_20181204.xlsx')\n",
    "print(combined_data.shape)\n",
    "combined_data.head()"
   ]
  },
  {
   "cell_type": "code",
   "execution_count": 102,
   "metadata": {
    "ExecuteTime": {
     "end_time": "2018-11-26T06:27:05.589394Z",
     "start_time": "2018-11-26T06:27:04.737345Z"
    }
   },
   "outputs": [
    {
     "name": "stdout",
     "output_type": "stream",
     "text": [
      "elapsed_time:  0.00\n"
     ]
    },
    {
     "data": {
      "text/html": [
       "<div>\n",
       "<style scoped>\n",
       "    .dataframe tbody tr th:only-of-type {\n",
       "        vertical-align: middle;\n",
       "    }\n",
       "\n",
       "    .dataframe tbody tr th {\n",
       "        vertical-align: top;\n",
       "    }\n",
       "\n",
       "    .dataframe thead th {\n",
       "        text-align: right;\n",
       "    }\n",
       "</style>\n",
       "<table border=\"1\" class=\"dataframe\">\n",
       "  <thead>\n",
       "    <tr style=\"text-align: right;\">\n",
       "      <th></th>\n",
       "      <th>id</th>\n",
       "      <th>online_label</th>\n",
       "    </tr>\n",
       "  </thead>\n",
       "  <tbody>\n",
       "    <tr>\n",
       "      <th>0</th>\n",
       "      <td>0</td>\n",
       "      <td>8</td>\n",
       "    </tr>\n",
       "    <tr>\n",
       "      <th>1</th>\n",
       "      <td>1</td>\n",
       "      <td>1</td>\n",
       "    </tr>\n",
       "    <tr>\n",
       "      <th>2</th>\n",
       "      <td>2</td>\n",
       "      <td>2</td>\n",
       "    </tr>\n",
       "    <tr>\n",
       "      <th>3</th>\n",
       "      <td>3</td>\n",
       "      <td>7</td>\n",
       "    </tr>\n",
       "    <tr>\n",
       "      <th>4</th>\n",
       "      <td>4</td>\n",
       "      <td>6</td>\n",
       "    </tr>\n",
       "  </tbody>\n",
       "</table>\n",
       "</div>"
      ],
      "text/plain": [
       "   id  online_label\n",
       "0   0             8\n",
       "1   1             1\n",
       "2   2             2\n",
       "3   3             7\n",
       "4   4             6"
      ]
     },
     "execution_count": 102,
     "metadata": {},
     "output_type": "execute_result"
    }
   ],
   "source": [
    "data = {\"types\":types,\"record\":combined_data.loc[:,['id', 'title' ,'content']].to_dict(orient = 'records')}\n",
    "# url = \"http://47.93.77.19:6001/judge_correlation_yjh\"\n",
    "# col_name = 'sec'\n",
    "\n",
    "# parse_data = get_server_res_yjh(data, url, col_name)\n",
    "parse_data, elapsed_time = get_server_res(data, url, col_name)\n",
    "print('elapsed_time: ', elapsed_time)\n",
    "parse_data.columns = ['id', 'online_label']\n",
    "parse_data.head()"
   ]
  },
  {
   "cell_type": "code",
   "execution_count": 103,
   "metadata": {
    "ExecuteTime": {
     "end_time": "2018-11-26T06:27:10.826694Z",
     "start_time": "2018-11-26T06:27:10.746689Z"
    }
   },
   "outputs": [
    {
     "name": "stdout",
     "output_type": "stream",
     "text": [
      "(43, 16)\n",
      "0.7674418604651163\n",
      "Right    33\n",
      "Wrong    10\n",
      "Name: O_R_W, dtype: int64\n"
     ]
    },
    {
     "data": {
      "text/html": [
       "<div>\n",
       "<style scoped>\n",
       "    .dataframe tbody tr th:only-of-type {\n",
       "        vertical-align: middle;\n",
       "    }\n",
       "\n",
       "    .dataframe tbody tr th {\n",
       "        vertical-align: top;\n",
       "    }\n",
       "\n",
       "    .dataframe thead tr th {\n",
       "        text-align: left;\n",
       "    }\n",
       "\n",
       "    .dataframe thead tr:last-of-type th {\n",
       "        text-align: right;\n",
       "    }\n",
       "</style>\n",
       "<table border=\"1\" class=\"dataframe\">\n",
       "  <thead>\n",
       "    <tr>\n",
       "      <th></th>\n",
       "      <th colspan=\"6\" halign=\"left\">len</th>\n",
       "    </tr>\n",
       "    <tr>\n",
       "      <th></th>\n",
       "      <th colspan=\"6\" halign=\"left\">urlhash</th>\n",
       "    </tr>\n",
       "    <tr>\n",
       "      <th>online_label</th>\n",
       "      <th>交通</th>\n",
       "      <th>公司内部管理</th>\n",
       "      <th>噪音</th>\n",
       "      <th>监管</th>\n",
       "      <th>行业</th>\n",
       "      <th>All</th>\n",
       "    </tr>\n",
       "    <tr>\n",
       "      <th>local_label</th>\n",
       "      <th></th>\n",
       "      <th></th>\n",
       "      <th></th>\n",
       "      <th></th>\n",
       "      <th></th>\n",
       "      <th></th>\n",
       "    </tr>\n",
       "  </thead>\n",
       "  <tbody>\n",
       "    <tr>\n",
       "      <th>公司内部管理</th>\n",
       "      <td>0</td>\n",
       "      <td>0</td>\n",
       "      <td>2</td>\n",
       "      <td>1</td>\n",
       "      <td>0</td>\n",
       "      <td>3</td>\n",
       "    </tr>\n",
       "    <tr>\n",
       "      <th>其他相关报道</th>\n",
       "      <td>0</td>\n",
       "      <td>0</td>\n",
       "      <td>1</td>\n",
       "      <td>0</td>\n",
       "      <td>0</td>\n",
       "      <td>1</td>\n",
       "    </tr>\n",
       "    <tr>\n",
       "      <th>噪音</th>\n",
       "      <td>2</td>\n",
       "      <td>0</td>\n",
       "      <td>0</td>\n",
       "      <td>0</td>\n",
       "      <td>1</td>\n",
       "      <td>3</td>\n",
       "    </tr>\n",
       "    <tr>\n",
       "      <th>消费服务</th>\n",
       "      <td>1</td>\n",
       "      <td>1</td>\n",
       "      <td>0</td>\n",
       "      <td>0</td>\n",
       "      <td>0</td>\n",
       "      <td>2</td>\n",
       "    </tr>\n",
       "    <tr>\n",
       "      <th>行业</th>\n",
       "      <td>0</td>\n",
       "      <td>0</td>\n",
       "      <td>0</td>\n",
       "      <td>1</td>\n",
       "      <td>0</td>\n",
       "      <td>1</td>\n",
       "    </tr>\n",
       "    <tr>\n",
       "      <th>All</th>\n",
       "      <td>3</td>\n",
       "      <td>1</td>\n",
       "      <td>3</td>\n",
       "      <td>2</td>\n",
       "      <td>1</td>\n",
       "      <td>10</td>\n",
       "    </tr>\n",
       "  </tbody>\n",
       "</table>\n",
       "</div>"
      ],
      "text/plain": [
       "                 len                    \n",
       "             urlhash                    \n",
       "online_label      交通 公司内部管理 噪音 监管 行业 All\n",
       "local_label                             \n",
       "公司内部管理             0      0  2  1  0   3\n",
       "其他相关报道             0      0  1  0  0   1\n",
       "噪音                 2      0  0  0  1   3\n",
       "消费服务               1      1  0  0  0   2\n",
       "行业                 0      0  0  1  0   1\n",
       "All                3      1  3  2  1  10"
      ]
     },
     "execution_count": 103,
     "metadata": {},
     "output_type": "execute_result"
    }
   ],
   "source": [
    "combined_data = pd.merge(combined_data, parse_data, on  = 'id')\n",
    "print(combined_data.shape)\n",
    "combined_data['online_label'] = combined_data['online_label'].apply(lambda x:class_name_dict[x])\n",
    "combined_data['O_R_W'] = combined_data.apply(lambda x: 'Right' if x['local_label'] == x['online_label'] else 'Wrong', axis = 1)\n",
    "print(combined_data[combined_data['O_R_W'] == 'Right'].shape[0]/combined_data.shape[0])\n",
    "print(combined_data['O_R_W'].value_counts())\n",
    "combined_data[combined_data['O_R_W'] == 'Wrong'].pivot_table(index = ['local_label'], columns = ['online_label'], \n",
    "                                                            aggfunc = [len], values = ['urlhash'], \n",
    "                                                            fill_value = 0, margins = True)"
   ]
  },
  {
   "cell_type": "markdown",
   "metadata": {},
   "source": [
    "#### 线上线下一致性: online 与 mysql"
   ]
  },
  {
   "cell_type": "code",
   "execution_count": 104,
   "metadata": {
    "ExecuteTime": {
     "end_time": "2018-11-26T06:27:18.387126Z",
     "start_time": "2018-11-26T06:27:18.352124Z"
    }
   },
   "outputs": [
    {
     "name": "stdout",
     "output_type": "stream",
     "text": [
      "0.5348837209302325\n",
      "Right    23\n",
      "Wrong    20\n",
      "Name: O_R_W, dtype: int64\n"
     ]
    }
   ],
   "source": [
    "combined_data['O_R_W'] = combined_data.apply(lambda x: 'Right' if x['predict_label'] == x['online_label'] else 'Wrong', axis = 1)\n",
    "print(combined_data[combined_data['O_R_W'] == 'Right'].shape[0]/combined_data.shape[0])\n",
    "print(combined_data['O_R_W'].value_counts())\n",
    "# combined_data[combined_data['O_R_W'] == 'Wrong'].pivot_table(index = ['predict_label'], \n",
    "#                                                              columns = ['online_label'], \n",
    "#                                                              aggfunc = [len], values = ['urlhash'], \n",
    "#                                                              fill_value = 0, margins = True)"
   ]
  },
  {
   "cell_type": "markdown",
   "metadata": {},
   "source": [
    "### 倾向性"
   ]
  },
  {
   "cell_type": "code",
   "execution_count": 110,
   "metadata": {
    "ExecuteTime": {
     "end_time": "2018-11-15T08:37:47.541957Z",
     "start_time": "2018-11-15T08:37:47.521956Z"
    }
   },
   "outputs": [
    {
     "data": {
      "text/html": [
       "<div>\n",
       "<style scoped>\n",
       "    .dataframe tbody tr th:only-of-type {\n",
       "        vertical-align: middle;\n",
       "    }\n",
       "\n",
       "    .dataframe tbody tr th {\n",
       "        vertical-align: top;\n",
       "    }\n",
       "\n",
       "    .dataframe thead th {\n",
       "        text-align: right;\n",
       "    }\n",
       "</style>\n",
       "<table border=\"1\" class=\"dataframe\">\n",
       "  <thead>\n",
       "    <tr style=\"text-align: right;\">\n",
       "      <th></th>\n",
       "      <th>type</th>\n",
       "      <th>urlhash</th>\n",
       "      <th>predict_label</th>\n",
       "      <th>label</th>\n",
       "      <th>title</th>\n",
       "      <th>content</th>\n",
       "      <th>group_id</th>\n",
       "      <th>publishtime</th>\n",
       "      <th>tendency</th>\n",
       "      <th>title_content</th>\n",
       "    </tr>\n",
       "  </thead>\n",
       "  <tbody>\n",
       "    <tr>\n",
       "      <th>10724</th>\n",
       "      <td>中国人保</td>\n",
       "      <td>4823901446525329408</td>\n",
       "      <td>噪音</td>\n",
       "      <td>NaN</td>\n",
       "      <td>因祸得福！CDR基金惊现大动作</td>\n",
       "      <td>渐渐被市场遗忘CDR基金，最近又曝出新动向。\\n\\n11月7日晚间，中国人保A股IPO网下初...</td>\n",
       "      <td>新闻客户端</td>\n",
       "      <td>2018-11-11 12:28:47</td>\n",
       "      <td>-1</td>\n",
       "      <td>因祸得福！CDR基金惊现大动作。渐渐被市场遗忘CDR基金，最近又曝出新动向。\\n\\n11月7...</td>\n",
       "    </tr>\n",
       "    <tr>\n",
       "      <th>4469</th>\n",
       "      <td>中国人保</td>\n",
       "      <td>2875199957075597824</td>\n",
       "      <td>噪音</td>\n",
       "      <td>NaN</td>\n",
       "      <td>【招聘】中国人民财产保险股份有限公司珠海市分公司2019年校招</td>\n",
       "      <td>一 公司简介 （一）中国人民财产保险股份有限公司简介 中国人民财产保险股份有限公司（PICC...</td>\n",
       "      <td>微信</td>\n",
       "      <td>2018-11-13 13:29:47</td>\n",
       "      <td>0</td>\n",
       "      <td>【招聘】中国人民财产保险股份有限公司珠海市分公司2019年校招。一 公司简介 （一）中国人民...</td>\n",
       "    </tr>\n",
       "  </tbody>\n",
       "</table>\n",
       "</div>"
      ],
      "text/plain": [
       "       type              urlhash predict_label  label  \\\n",
       "10724  中国人保  4823901446525329408            噪音    NaN   \n",
       "4469   中国人保  2875199957075597824            噪音    NaN   \n",
       "\n",
       "                                 title  \\\n",
       "10724                  因祸得福！CDR基金惊现大动作   \n",
       "4469   【招聘】中国人民财产保险股份有限公司珠海市分公司2019年校招   \n",
       "\n",
       "                                                 content group_id  \\\n",
       "10724  渐渐被市场遗忘CDR基金，最近又曝出新动向。\\n\\n11月7日晚间，中国人保A股IPO网下初...    新闻客户端   \n",
       "4469   一 公司简介 （一）中国人民财产保险股份有限公司简介 中国人民财产保险股份有限公司（PICC...       微信   \n",
       "\n",
       "              publishtime  tendency  \\\n",
       "10724 2018-11-11 12:28:47        -1   \n",
       "4469  2018-11-13 13:29:47         0   \n",
       "\n",
       "                                           title_content  \n",
       "10724  因祸得福！CDR基金惊现大动作。渐渐被市场遗忘CDR基金，最近又曝出新动向。\\n\\n11月7...  \n",
       "4469   【招聘】中国人民财产保险股份有限公司珠海市分公司2019年校招。一 公司简介 （一）中国人民...  "
      ]
     },
     "execution_count": 110,
     "metadata": {},
     "output_type": "execute_result"
    }
   ],
   "source": [
    "combined_data.iloc[:2, :]"
   ]
  },
  {
   "cell_type": "markdown",
   "metadata": {},
   "source": [
    "#### CBRC"
   ]
  },
  {
   "cell_type": "code",
   "execution_count": null,
   "metadata": {
    "collapsed": true
   },
   "outputs": [],
   "source": [
    "from sklearn.externals import joblib\n",
    "pipeline_old = joblib.load( \"model/cbrc_tendency_pipeline_20181114.pkl.z\")\n",
    "\n",
    "url = 'http://47.93.183.157:6001/tendency_analysis_b'\n",
    "col_name = 'tendency'\n",
    "types = 1\n",
    "\n",
    "combined_data['title_content'] = combined_data['title'].astype(str) + '。' + combined_data['content'].astype(str)\n",
    "title_content = pre_cor_cbrc.handle_contents(combined_data['title_content'].tolist())\n",
    "print(len(title_content))"
   ]
  },
  {
   "cell_type": "markdown",
   "metadata": {},
   "source": [
    "#### CIRC"
   ]
  },
  {
   "cell_type": "code",
   "execution_count": 118,
   "metadata": {
    "ExecuteTime": {
     "end_time": "2018-11-26T06:31:59.882227Z",
     "start_time": "2018-11-26T06:31:59.087181Z"
    }
   },
   "outputs": [
    {
     "name": "stdout",
     "output_type": "stream",
     "text": [
      "43\n"
     ]
    }
   ],
   "source": [
    "from sklearn.externals import joblib\n",
    "pipeline_old = joblib.load( \"model/circ_chapter_tendency_1113.pkl.z\")\n",
    "\n",
    "url = 'http://47.93.183.157:10000/tendency_analysis_i'\n",
    "col_name = 'tendency'\n",
    "types = 5\n",
    "\n",
    "combined_data['title_content'] = combined_data['title'].astype(str) + '。' + combined_data['content'].astype(str)\n",
    "title_content = pre_cor_circ.handle_contents(combined_data['title_content'].tolist())\n",
    "print(len(title_content))"
   ]
  },
  {
   "cell_type": "markdown",
   "metadata": {},
   "source": [
    "#### pre"
   ]
  },
  {
   "cell_type": "code",
   "execution_count": 119,
   "metadata": {
    "ExecuteTime": {
     "end_time": "2018-11-26T06:32:00.498262Z",
     "start_time": "2018-11-26T06:32:00.410257Z"
    },
    "collapsed": true
   },
   "outputs": [],
   "source": [
    "local_label = pipeline_old.predict(title_content)\n",
    "local_proba = pipeline_old.predict_proba(title_content)"
   ]
  },
  {
   "cell_type": "code",
   "execution_count": 120,
   "metadata": {
    "ExecuteTime": {
     "end_time": "2018-11-26T06:32:01.197302Z",
     "start_time": "2018-11-26T06:32:01.164300Z"
    }
   },
   "outputs": [
    {
     "name": "stdout",
     "output_type": "stream",
     "text": [
      "(43, 13)\n"
     ]
    },
    {
     "data": {
      "text/html": [
       "<div>\n",
       "<style scoped>\n",
       "    .dataframe tbody tr th:only-of-type {\n",
       "        vertical-align: middle;\n",
       "    }\n",
       "\n",
       "    .dataframe tbody tr th {\n",
       "        vertical-align: top;\n",
       "    }\n",
       "\n",
       "    .dataframe thead th {\n",
       "        text-align: right;\n",
       "    }\n",
       "</style>\n",
       "<table border=\"1\" class=\"dataframe\">\n",
       "  <thead>\n",
       "    <tr style=\"text-align: right;\">\n",
       "      <th></th>\n",
       "      <th>gather_type</th>\n",
       "      <th>type</th>\n",
       "      <th>urlhash</th>\n",
       "      <th>predict_label</th>\n",
       "      <th>label</th>\n",
       "      <th>title</th>\n",
       "      <th>content</th>\n",
       "      <th>group_id</th>\n",
       "      <th>publishtime</th>\n",
       "      <th>tendency</th>\n",
       "      <th>title_content</th>\n",
       "      <th>local_label</th>\n",
       "      <th>local_proba</th>\n",
       "    </tr>\n",
       "  </thead>\n",
       "  <tbody>\n",
       "    <tr>\n",
       "      <th>0</th>\n",
       "      <td>补录</td>\n",
       "      <td>中国人保</td>\n",
       "      <td>-1451164327749029888</td>\n",
       "      <td>环保</td>\n",
       "      <td>NaN</td>\n",
       "      <td>11月18日21时40分新疆和田地区于田县发生3.0级地震</td>\n",
       "      <td>据中国地震台网测定，北京时间2018年11月18日21时40分在新疆和田地区于田县（北纬36...</td>\n",
       "      <td>新闻</td>\n",
       "      <td>2018-11-18 21:58:50</td>\n",
       "      <td>-1</td>\n",
       "      <td>11月18日21时40分新疆和田地区于田县发生3.0级地震。据中国地震台网测定，北京时间20...</td>\n",
       "      <td>-1</td>\n",
       "      <td>1.0</td>\n",
       "    </tr>\n",
       "    <tr>\n",
       "      <th>0</th>\n",
       "      <td>补录</td>\n",
       "      <td>中国人保</td>\n",
       "      <td>-6173404825726358528</td>\n",
       "      <td>监管</td>\n",
       "      <td>NaN</td>\n",
       "      <td>周亮：民营经济离场论调极其错误 银保监会对国有和民营经济一视同仁</td>\n",
       "      <td>11月19日，在第九届财新峰会上，中国银行保险监督管理委员会副主席周亮表示，改革开放40年中...</td>\n",
       "      <td>新闻</td>\n",
       "      <td>2018-11-19 11:09:19</td>\n",
       "      <td>0</td>\n",
       "      <td>周亮：民营经济离场论调极其错误 银保监会对国有和民营经济一视同仁。11月19日，在第九届财新...</td>\n",
       "      <td>0</td>\n",
       "      <td>1.0</td>\n",
       "    </tr>\n",
       "  </tbody>\n",
       "</table>\n",
       "</div>"
      ],
      "text/plain": [
       "  gather_type  type              urlhash predict_label  label  \\\n",
       "0          补录  中国人保 -1451164327749029888            环保    NaN   \n",
       "0          补录  中国人保 -6173404825726358528            监管    NaN   \n",
       "\n",
       "                              title  \\\n",
       "0     11月18日21时40分新疆和田地区于田县发生3.0级地震   \n",
       "0  周亮：民营经济离场论调极其错误 银保监会对国有和民营经济一视同仁   \n",
       "\n",
       "                                             content group_id  \\\n",
       "0  据中国地震台网测定，北京时间2018年11月18日21时40分在新疆和田地区于田县（北纬36...       新闻   \n",
       "0  11月19日，在第九届财新峰会上，中国银行保险监督管理委员会副主席周亮表示，改革开放40年中...       新闻   \n",
       "\n",
       "          publishtime  tendency  \\\n",
       "0 2018-11-18 21:58:50        -1   \n",
       "0 2018-11-19 11:09:19         0   \n",
       "\n",
       "                                       title_content  local_label  local_proba  \n",
       "0  11月18日21时40分新疆和田地区于田县发生3.0级地震。据中国地震台网测定，北京时间20...           -1          1.0  \n",
       "0  周亮：民营经济离场论调极其错误 银保监会对国有和民营经济一视同仁。11月19日，在第九届财新...            0          1.0  "
      ]
     },
     "execution_count": 120,
     "metadata": {},
     "output_type": "execute_result"
    }
   ],
   "source": [
    "combined_data['local_label'] = local_label\n",
    "combined_data['local_proba'] = local_proba.max(axis = 1)\n",
    "# combined_data['local_label'] = combined_data['local_label'].apply(lambda x:class_name_dict[x])\n",
    "print(combined_data.shape)\n",
    "combined_data.iloc[:2, :]"
   ]
  },
  {
   "cell_type": "markdown",
   "metadata": {},
   "source": [
    "#### 线上线下一致性: mysql 与 local"
   ]
  },
  {
   "cell_type": "code",
   "execution_count": 121,
   "metadata": {
    "ExecuteTime": {
     "end_time": "2018-11-26T06:32:02.856397Z",
     "start_time": "2018-11-26T06:32:02.793393Z"
    }
   },
   "outputs": [
    {
     "name": "stdout",
     "output_type": "stream",
     "text": [
      "0.813953488372093\n",
      "Right    35\n",
      "Wrong     8\n",
      "Name: R_W, dtype: int64\n"
     ]
    },
    {
     "data": {
      "text/html": [
       "<div>\n",
       "<style scoped>\n",
       "    .dataframe tbody tr th:only-of-type {\n",
       "        vertical-align: middle;\n",
       "    }\n",
       "\n",
       "    .dataframe tbody tr th {\n",
       "        vertical-align: top;\n",
       "    }\n",
       "\n",
       "    .dataframe thead tr th {\n",
       "        text-align: left;\n",
       "    }\n",
       "\n",
       "    .dataframe thead tr:last-of-type th {\n",
       "        text-align: right;\n",
       "    }\n",
       "</style>\n",
       "<table border=\"1\" class=\"dataframe\">\n",
       "  <thead>\n",
       "    <tr>\n",
       "      <th></th>\n",
       "      <th colspan=\"2\" halign=\"left\">len</th>\n",
       "    </tr>\n",
       "    <tr>\n",
       "      <th></th>\n",
       "      <th colspan=\"2\" halign=\"left\">urlhash</th>\n",
       "    </tr>\n",
       "    <tr>\n",
       "      <th>tendency</th>\n",
       "      <th>0</th>\n",
       "      <th>All</th>\n",
       "    </tr>\n",
       "    <tr>\n",
       "      <th>local_label</th>\n",
       "      <th></th>\n",
       "      <th></th>\n",
       "    </tr>\n",
       "  </thead>\n",
       "  <tbody>\n",
       "    <tr>\n",
       "      <th>-1</th>\n",
       "      <td>8</td>\n",
       "      <td>8</td>\n",
       "    </tr>\n",
       "    <tr>\n",
       "      <th>All</th>\n",
       "      <td>8</td>\n",
       "      <td>8</td>\n",
       "    </tr>\n",
       "  </tbody>\n",
       "</table>\n",
       "</div>"
      ],
      "text/plain": [
       "                len    \n",
       "            urlhash    \n",
       "tendency          0 All\n",
       "local_label            \n",
       "-1                8   8\n",
       "All               8   8"
      ]
     },
     "execution_count": 121,
     "metadata": {},
     "output_type": "execute_result"
    }
   ],
   "source": [
    "combined_data['R_W'] = combined_data.apply(lambda x: 'Right' if x['local_label'] == x['tendency'] else 'Wrong', axis = 1)\n",
    "print(combined_data[combined_data['R_W'] == 'Right'].shape[0]/combined_data.shape[0])\n",
    "print(combined_data['R_W'].value_counts())\n",
    "combined_data[combined_data['R_W'] == 'Wrong'].pivot_table(index = ['local_label'], columns = ['tendency'], \n",
    "                                                            aggfunc = [len], values = ['urlhash'], \n",
    "                                                            fill_value = 0, margins = True)"
   ]
  },
  {
   "cell_type": "markdown",
   "metadata": {},
   "source": [
    "#### 线上线下一致性: online 与 local"
   ]
  },
  {
   "cell_type": "code",
   "execution_count": 122,
   "metadata": {
    "ExecuteTime": {
     "end_time": "2018-11-26T06:32:06.366597Z",
     "start_time": "2018-11-26T06:32:06.350597Z"
    },
    "collapsed": true
   },
   "outputs": [],
   "source": [
    "combined_data['id'] = range(combined_data.shape[0])\n",
    "combined_data['title'] = combined_data['title'].astype(str) \n",
    "combined_data['content'] = combined_data['content'].astype(str)"
   ]
  },
  {
   "cell_type": "code",
   "execution_count": 123,
   "metadata": {
    "ExecuteTime": {
     "end_time": "2018-11-26T06:32:09.767792Z",
     "start_time": "2018-11-26T06:32:07.151642Z"
    }
   },
   "outputs": [
    {
     "name": "stdout",
     "output_type": "stream",
     "text": [
      "elapsed_time:  2.00\n"
     ]
    },
    {
     "data": {
      "text/html": [
       "<div>\n",
       "<style scoped>\n",
       "    .dataframe tbody tr th:only-of-type {\n",
       "        vertical-align: middle;\n",
       "    }\n",
       "\n",
       "    .dataframe tbody tr th {\n",
       "        vertical-align: top;\n",
       "    }\n",
       "\n",
       "    .dataframe thead th {\n",
       "        text-align: right;\n",
       "    }\n",
       "</style>\n",
       "<table border=\"1\" class=\"dataframe\">\n",
       "  <thead>\n",
       "    <tr style=\"text-align: right;\">\n",
       "      <th></th>\n",
       "      <th>id</th>\n",
       "      <th>online_label</th>\n",
       "    </tr>\n",
       "  </thead>\n",
       "  <tbody>\n",
       "    <tr>\n",
       "      <th>0</th>\n",
       "      <td>0</td>\n",
       "      <td>-1</td>\n",
       "    </tr>\n",
       "    <tr>\n",
       "      <th>1</th>\n",
       "      <td>1</td>\n",
       "      <td>0</td>\n",
       "    </tr>\n",
       "    <tr>\n",
       "      <th>2</th>\n",
       "      <td>2</td>\n",
       "      <td>-1</td>\n",
       "    </tr>\n",
       "    <tr>\n",
       "      <th>3</th>\n",
       "      <td>3</td>\n",
       "      <td>0</td>\n",
       "    </tr>\n",
       "    <tr>\n",
       "      <th>4</th>\n",
       "      <td>4</td>\n",
       "      <td>0</td>\n",
       "    </tr>\n",
       "  </tbody>\n",
       "</table>\n",
       "</div>"
      ],
      "text/plain": [
       "   id  online_label\n",
       "0   0            -1\n",
       "1   1             0\n",
       "2   2            -1\n",
       "3   3             0\n",
       "4   4             0"
      ]
     },
     "execution_count": 123,
     "metadata": {},
     "output_type": "execute_result"
    }
   ],
   "source": [
    "data = {\"types\":types, \"record\":combined_data.loc[:,['id', 'title' ,'content']].to_dict(orient = 'records')}\n",
    "# url = \"http://47.93.77.19:6001/judge_correlation_yjh\"\n",
    "# col_name = 'sec'\n",
    "\n",
    "# parse_data = get_server_res_yjh(data, url, col_name)\n",
    "parse_data, elapsed_time = get_server_res(data, url, col_name)\n",
    "print('elapsed_time: ', elapsed_time)\n",
    "parse_data.columns = ['id', 'online_label']\n",
    "parse_data.head()"
   ]
  },
  {
   "cell_type": "code",
   "execution_count": 124,
   "metadata": {
    "ExecuteTime": {
     "end_time": "2018-11-26T06:32:10.181816Z",
     "start_time": "2018-11-26T06:32:10.176815Z"
    },
    "collapsed": true
   },
   "outputs": [],
   "source": [
    "# combined_data.head()\n",
    "# combined_data.iloc[:2, :]"
   ]
  },
  {
   "cell_type": "code",
   "execution_count": 125,
   "metadata": {
    "ExecuteTime": {
     "end_time": "2018-11-26T06:32:10.700845Z",
     "start_time": "2018-11-26T06:32:10.623841Z"
    }
   },
   "outputs": [
    {
     "name": "stdout",
     "output_type": "stream",
     "text": [
      "(43, 16)\n",
      "0.9069767441860465\n",
      "Right    39\n",
      "Wrong     4\n",
      "Name: O_R_W, dtype: int64\n"
     ]
    },
    {
     "data": {
      "text/html": [
       "<div>\n",
       "<style scoped>\n",
       "    .dataframe tbody tr th:only-of-type {\n",
       "        vertical-align: middle;\n",
       "    }\n",
       "\n",
       "    .dataframe tbody tr th {\n",
       "        vertical-align: top;\n",
       "    }\n",
       "\n",
       "    .dataframe thead tr th {\n",
       "        text-align: left;\n",
       "    }\n",
       "\n",
       "    .dataframe thead tr:last-of-type th {\n",
       "        text-align: right;\n",
       "    }\n",
       "</style>\n",
       "<table border=\"1\" class=\"dataframe\">\n",
       "  <thead>\n",
       "    <tr>\n",
       "      <th></th>\n",
       "      <th colspan=\"2\" halign=\"left\">len</th>\n",
       "    </tr>\n",
       "    <tr>\n",
       "      <th></th>\n",
       "      <th colspan=\"2\" halign=\"left\">urlhash</th>\n",
       "    </tr>\n",
       "    <tr>\n",
       "      <th>online_label</th>\n",
       "      <th>0</th>\n",
       "      <th>All</th>\n",
       "    </tr>\n",
       "    <tr>\n",
       "      <th>local_label</th>\n",
       "      <th></th>\n",
       "      <th></th>\n",
       "    </tr>\n",
       "  </thead>\n",
       "  <tbody>\n",
       "    <tr>\n",
       "      <th>-1</th>\n",
       "      <td>4</td>\n",
       "      <td>4</td>\n",
       "    </tr>\n",
       "    <tr>\n",
       "      <th>All</th>\n",
       "      <td>4</td>\n",
       "      <td>4</td>\n",
       "    </tr>\n",
       "  </tbody>\n",
       "</table>\n",
       "</div>"
      ],
      "text/plain": [
       "                 len    \n",
       "             urlhash    \n",
       "online_label       0 All\n",
       "local_label             \n",
       "-1                 4   4\n",
       "All                4   4"
      ]
     },
     "execution_count": 125,
     "metadata": {},
     "output_type": "execute_result"
    }
   ],
   "source": [
    "combined_data = pd.merge(combined_data, parse_data, on  = 'id')\n",
    "print(combined_data.shape)\n",
    "# combined_data['online_label'] = combined_data['online_label'].apply(lambda x:class_name_dict[x])\n",
    "combined_data['O_R_W'] = combined_data.apply(lambda x: 'Right' if x['local_label'] == x['online_label'] else 'Wrong', axis = 1)\n",
    "print(combined_data[combined_data['O_R_W'] == 'Right'].shape[0]/combined_data.shape[0])\n",
    "print(combined_data['O_R_W'].value_counts())\n",
    "combined_data[combined_data['O_R_W'] == 'Wrong'].pivot_table(index = ['local_label'], columns = ['online_label'], \n",
    "                                                            aggfunc = [len], values = ['urlhash'], \n",
    "                                                            fill_value = 0, margins = True)"
   ]
  },
  {
   "cell_type": "markdown",
   "metadata": {},
   "source": [
    "#### 线上线下一致性: online 与 mysql"
   ]
  },
  {
   "cell_type": "code",
   "execution_count": 126,
   "metadata": {
    "ExecuteTime": {
     "end_time": "2018-11-26T06:32:14.542065Z",
     "start_time": "2018-11-26T06:32:14.512063Z"
    }
   },
   "outputs": [
    {
     "name": "stdout",
     "output_type": "stream",
     "text": [
      "0.9069767441860465\n",
      "Right    39\n",
      "Wrong     4\n",
      "Name: O_R_W, dtype: int64\n"
     ]
    }
   ],
   "source": [
    "combined_data['O_R_W'] = combined_data.apply(lambda x: 'Right' if x['tendency'] == x['online_label'] else 'Wrong', axis = 1)\n",
    "print(combined_data[combined_data['O_R_W'] == 'Right'].shape[0]/combined_data.shape[0])\n",
    "print(combined_data['O_R_W'].value_counts())\n",
    "# combined_data[combined_data['O_R_W'] == 'Wrong'].pivot_table(index = ['predict_label'], columns = ['online_label'], \n",
    "#                                                             aggfunc = [len], values = ['urlhash'], \n",
    "#                                                             fill_value = 0, margins = True)"
   ]
  },
  {
   "cell_type": "markdown",
   "metadata": {},
   "source": [
    "# 保存本文件"
   ]
  },
  {
   "cell_type": "code",
   "execution_count": null,
   "metadata": {
    "ExecuteTime": {
     "end_time": "2018-09-11T09:02:47.846195Z",
     "start_time": "2018-09-11T09:02:44.835Z"
    },
    "collapsed": true
   },
   "outputs": [],
   "source": [
    "if 0:\n",
    "    import datetime as dt\n",
    "    \n",
    "    def output_HTML(read_file, output_file):\n",
    "        from nbconvert import HTMLExporter\n",
    "        import codecs\n",
    "        import nbformat\n",
    "        exporter = HTMLExporter()\n",
    "        # read_file is '.ipynb', output_file is '.html'\n",
    "        output_notebook = nbformat.read(read_file, as_version=4)\n",
    "        output, resources = exporter.from_notebook_node(output_notebook)\n",
    "        codecs.open(output_file, 'w', encoding='utf-8').write(output)\n",
    "\n",
    "    html_file_folder = 'html_files'\n",
    "    if not os.path.exists(html_file_folder):\n",
    "        os.makedirs(html_file_folder)\n",
    "\n",
    "    today = dt.datetime.now().strftime('%Y%m%d')\n",
    "    current_file = 'circ_cor_model_2_train.ipynb'\n",
    "    output_file = 'html_files\\%s_%s.html'%(os.path.splitext(current_file)[0], today)\n",
    "    output_HTML(current_file, output_file)"
   ]
  }
 ],
 "metadata": {
  "kernelspec": {
   "display_name": "Python 3",
   "language": "python",
   "name": "python3"
  },
  "language_info": {
   "codemirror_mode": {
    "name": "ipython",
    "version": 3
   },
   "file_extension": ".py",
   "mimetype": "text/x-python",
   "name": "python",
   "nbconvert_exporter": "python",
   "pygments_lexer": "ipython3",
   "version": "3.6.3"
  },
  "toc": {
   "base_numbering": 1,
   "nav_menu": {},
   "number_sections": true,
   "sideBar": true,
   "skip_h1_title": false,
   "title_cell": "Table of Contents",
   "title_sidebar": "Contents",
   "toc_cell": false,
   "toc_position": {
    "height": "calc(100% - 180px)",
    "left": "10px",
    "top": "150px",
    "width": "338px"
   },
   "toc_section_display": true,
   "toc_window_display": true
  },
  "varInspector": {
   "cols": {
    "lenName": 16,
    "lenType": 16,
    "lenVar": 40
   },
   "kernels_config": {
    "python": {
     "delete_cmd_postfix": "",
     "delete_cmd_prefix": "del ",
     "library": "var_list.py",
     "varRefreshCmd": "print(var_dic_list())"
    },
    "r": {
     "delete_cmd_postfix": ") ",
     "delete_cmd_prefix": "rm(",
     "library": "var_list.r",
     "varRefreshCmd": "cat(var_dic_list()) "
    }
   },
   "types_to_exclude": [
    "module",
    "function",
    "builtin_function_or_method",
    "instance",
    "_Feature"
   ],
   "window_display": false
  }
 },
 "nbformat": 4,
 "nbformat_minor": 2
}
