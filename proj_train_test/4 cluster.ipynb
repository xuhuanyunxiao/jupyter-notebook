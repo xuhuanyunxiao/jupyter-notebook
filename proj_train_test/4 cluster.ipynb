{
 "cells": [
  {
   "cell_type": "markdown",
   "metadata": {},
   "source": [
    "# 本文件说明\n",
    "- 聚类分析"
   ]
  },
  {
   "cell_type": "markdown",
   "metadata": {},
   "source": [
    "# 基本设置"
   ]
  },
  {
   "cell_type": "code",
   "execution_count": 1,
   "metadata": {
    "ExecuteTime": {
     "end_time": "2019-01-08T02:36:01.882182Z",
     "start_time": "2019-01-08T02:35:45.391239Z"
    }
   },
   "outputs": [],
   "source": [
    "import jieba\n",
    "from jieba import analyse\n",
    "import sys\n",
    "import re\n",
    "import time\n",
    "import string\n",
    "from sklearn import feature_extraction\n",
    "from sklearn.pipeline import Pipeline,FeatureUnion\n",
    "from sklearn.model_selection import GridSearchCV\n",
    "from sklearn.feature_extraction.text import TfidfTransformer\n",
    "from sklearn.feature_extraction.text import CountVectorizer\n",
    "\n",
    "from sklearn.feature_extraction.text import TfidfVectorizer\n",
    "from sklearn.feature_selection import SelectKBest, chi2,mutual_info_classif,f_classif \n",
    "from sklearn.preprocessing import StandardScaler\n",
    "\n",
    "import xgboost as xgb\n",
    "from xgboost import XGBClassifier\n",
    "from sklearn import metrics\n",
    "\n",
    "from sklearn.base import BaseEstimator, TransformerMixin\n",
    "\n",
    "%matplotlib inline\n",
    "import numpy as np\n",
    "import pandas as pd\n",
    "import os\n",
    "from sklearn.model_selection import train_test_split\n",
    "from collections import Counter\n",
    "\n",
    "from mpl_toolkits.mplot3d import Axes3D\n",
    "import matplotlib.pyplot as plt\n",
    "import seaborn as sns\n",
    "\n",
    "colors = sns.color_palette(\"Set2\", 8)\n",
    "\n",
    "import warnings\n",
    "warnings.filterwarnings('ignore')"
   ]
  },
  {
   "cell_type": "code",
   "execution_count": 12,
   "metadata": {
    "ExecuteTime": {
     "end_time": "2019-01-08T02:46:58.300727Z",
     "start_time": "2019-01-08T02:46:58.198721Z"
    }
   },
   "outputs": [],
   "source": [
    "from toolkits.nlp.generate_keywords import generate_keywords\n",
    "from toolkits.nlp import myclass_circ\n",
    "from toolkits.nlp import myclass_cbrc\n",
    "from toolkits.nlp import utils\n",
    "from toolkits.setup.specific_func import set_ch_pd\n",
    "set_ch_pd()"
   ]
  },
  {
   "cell_type": "markdown",
   "metadata": {},
   "source": [
    "## 一些函数"
   ]
  },
  {
   "cell_type": "markdown",
   "metadata": {},
   "source": [
    "# 导入数据"
   ]
  },
  {
   "cell_type": "code",
   "execution_count": 7,
   "metadata": {
    "ExecuteTime": {
     "end_time": "2019-01-08T02:45:03.024133Z",
     "start_time": "2019-01-08T02:45:03.017133Z"
    }
   },
   "outputs": [],
   "source": [
    "label_dic={'监管':1,'行业':2,'产品销售':3,'资本市场':4,'公司内部管理':5,'消费服务':6,'其他相关报道':7,'噪音':8}\n",
    "class_name_dict = {v: k for k, v in label_dic.items()}"
   ]
  },
  {
   "cell_type": "code",
   "execution_count": 8,
   "metadata": {
    "ExecuteTime": {
     "end_time": "2019-01-08T02:45:03.608167Z",
     "start_time": "2019-01-08T02:45:03.603167Z"
    }
   },
   "outputs": [],
   "source": [
    "# from sklearn.externals import joblib\n",
    "# pipeline_train = joblib.load( \"model/circ_pipeline_20181108.pkl.z\")\n",
    "# X_features = joblib.load( \"model/circ_features_20181108.pkl.z\")\n",
    "# label = joblib.load( \"model/circ_labels_20181108.pkl.z\")\n",
    "# print(X_features.shape)\n",
    "# print(len(label))"
   ]
  },
  {
   "cell_type": "code",
   "execution_count": 10,
   "metadata": {
    "ExecuteTime": {
     "end_time": "2019-01-08T02:45:46.334611Z",
     "start_time": "2019-01-08T02:45:43.768464Z"
    }
   },
   "outputs": [
    {
     "name": "stdout",
     "output_type": "stream",
     "text": [
      "(14192, 21180)\n",
      "14192\n"
     ]
    }
   ],
   "source": [
    "from sklearn.externals import joblib\n",
    "pipeline_train = joblib.load( \"model/previous_model/cbrc_pipeline_20181108.pkl.z\")\n",
    "X_features = joblib.load( \"model/previous_model/cbrc_features_20181108.pkl.z\")\n",
    "label = joblib.load( \"model/previous_model/cbrc_labels_20181108.pkl.z\")\n",
    "print(X_features.shape)\n",
    "print(len(label))"
   ]
  },
  {
   "cell_type": "code",
   "execution_count": 13,
   "metadata": {
    "ExecuteTime": {
     "end_time": "2019-01-08T02:47:07.457251Z",
     "start_time": "2019-01-08T02:47:06.472194Z"
    }
   },
   "outputs": [
    {
     "name": "stdout",
     "output_type": "stream",
     "text": [
      "训练集： 9934\n",
      "训练集-各类数量： Counter({8: 1924, 7: 1430, 2: 1252, 6: 1183, 1: 1133, 4: 1123, 5: 973, 3: 916})\n",
      "测试集： 4258\n",
      "测试集-各类数量： Counter({8: 797, 7: 600, 2: 534, 6: 527, 1: 507, 4: 456, 5: 442, 3: 395})\n",
      "(4258, 21180)\n"
     ]
    }
   ],
   "source": [
    "X_train, X_test, y_train, y_test = train_test_split(X_features, label, test_size=0.3, random_state=42)\n",
    "print('训练集：',len(y_train))\n",
    "print('训练集-各类数量：',Counter(y_train))\n",
    "print('测试集：',len(y_test))\n",
    "print('测试集-各类数量：',Counter(y_test))\n",
    "\n",
    "X_train_dense = utils.DenseTransformer().fit_transform(X_train)\n",
    "X_test_dense = utils.DenseTransformer().fit_transform(X_test)\n",
    "print(X_test_dense.shape)"
   ]
  },
  {
   "cell_type": "markdown",
   "metadata": {},
   "source": [
    "# 聚类个数 k"
   ]
  },
  {
   "cell_type": "markdown",
   "metadata": {},
   "source": [
    "## SSE选择k\n",
    "- 手肘法的核心指标是SSE(sum of the squared errors，误差平方和)\n",
    "> - 手肘法的核心思想是：随着聚类数k的增大，样本划分会更加精细，每个簇的聚合程度会逐渐提高，那么误差平方和SSE自然会逐渐变小。并且，当k小于真实聚类数时，由于k的增大会大幅增加每个簇的聚合程度，故SSE的下降幅度会很大，而当k到达真实聚类数时，再增加k所得到的聚合程度回报会迅速变小，所以SSE的下降幅度会骤减，然后随着k值的继续增大而趋于平缓，也就是说SSE和k的关系图是一个手肘的形状，而这个肘部对应的k值就是数据的真实聚类数。"
   ]
  },
  {
   "cell_type": "code",
   "execution_count": 7,
   "metadata": {
    "ExecuteTime": {
     "end_time": "2018-11-09T08:40:35.452039Z",
     "start_time": "2018-11-09T08:40:17.884034Z"
    }
   },
   "outputs": [
    {
     "name": "stdout",
     "output_type": "stream",
     "text": [
      "1   -------------\n",
      "2   -------------\n",
      "3   -------------\n",
      "4   -------------\n",
      "5   -------------\n",
      "6   -------------\n",
      "7   -------------\n",
      "8   -------------\n",
      "9   -------------\n",
      "10   -------------\n",
      "11   -------------\n",
      "12   -------------\n",
      "13   -------------\n",
      "14   -------------\n",
      "15   -------------\n",
      "16   -------------\n",
      "17   -------------\n",
      "18   -------------\n",
      "19   -------------\n",
      "20   -------------\n",
      "21   -------------\n",
      "22   -------------\n",
      "23   -------------\n",
      "24   -------------\n",
      "25   -------------\n",
      "26   -------------\n",
      "27   -------------\n",
      "28   -------------\n",
      "29   -------------\n",
      "SSE:  [300743725.1549288, 300545134.1536706, 300712682.2299366, 300660190.8881691, 300586316.37852657, 300391072.77145994, 300448254.7768486, 300472756.5660409, 300347957.05482703, 300326154.47091496, 300438810.0821853, 300220521.14741296, 299981271.8131233, 300301840.0111316, 300245435.1743299, 300236386.1599827, 300175624.05211973, 300101220.91461897, 300143444.0514392, 300129432.3752903, 299888474.9207825, 300015064.3378631, 299937664.3292317, 299872439.3243932, 299824649.0133774, 299806973.89341825, 299713488.61301565, 299542906.81099236, 299844350.2663548]\n"
     ]
    }
   ],
   "source": [
    "from sklearn.cluster import MiniBatchKMeans\n",
    "\n",
    "k_max = 30\n",
    "SSE = []  # 存放每次结果的误差平方和\n",
    "for k in range(1,k_max):\n",
    "    print(k, '  -------------')\n",
    "    estimator = MiniBatchKMeans(n_clusters=k)  # 构造聚类器\n",
    "    estimator.fit(X_features)\n",
    "    SSE.append(estimator.inertia_)\n",
    "print('SSE: ', SSE)"
   ]
  },
  {
   "cell_type": "code",
   "execution_count": 8,
   "metadata": {
    "ExecuteTime": {
     "end_time": "2018-11-09T08:40:36.778115Z",
     "start_time": "2018-11-09T08:40:35.586047Z"
    }
   },
   "outputs": [
    {
     "data": {
      "image/png": "[encoded data removed]",
      "text/plain": [
       "<matplotlib.figure.Figure at 0x12ada5c0>"
      ]
     },
     "metadata": {},
     "output_type": "display_data"
    }
   ],
   "source": [
    "from scipy import interpolate\n",
    "\n",
    "X = range(1,k_max)\n",
    "Y = SSE\n",
    "\n",
    "# 多项式拟合曲线\n",
    "order = 1\n",
    "c = np.polyfit(X,Y,order)#拟合多项式的系数存储在数组c中\n",
    "y = np.polyval(c,X)#根据多项式求函数值\n",
    "\n",
    "#插值法平滑处理后曲线\n",
    "func = interpolate.interp1d(X, Y, kind='cubic')\n",
    "xnew = np.arange(1,max(X)-1,0.01)\n",
    "ynew = func(xnew)\n",
    "\n",
    "plt.figure(num=None, figsize=(15, 6))\n",
    "plt.plot(X,Y,'o-', alpha = 0.7)\n",
    "plt.plot(X,y)\n",
    "plt.plot(xnew,ynew)\n",
    "\n",
    "plt.xticks(list(X))\n",
    "plt.legend(['SSE', '拟合曲线', '平滑曲线'])\n",
    "plt.xlabel('k')\n",
    "plt.ylabel('SSE')\n",
    "\n",
    "ax = plt.gca()\n",
    "ax.xaxis.grid(True, which='major') #x坐标轴的网格使用主刻度\n",
    "\n",
    "plt.show()"
   ]
  },
  {
   "cell_type": "markdown",
   "metadata": {},
   "source": [
    "## 轮廓系数法\n",
    "- 平均轮廓系数的取值范围为[-1,1]，且簇内样本的距离越近，簇间样本距离越远，平均轮廓系数越大，聚类效果越好。那么，很自然地，平均轮廓系数最大的k便是最佳聚类数。"
   ]
  },
  {
   "cell_type": "code",
   "execution_count": null,
   "metadata": {
    "ExecuteTime": {
     "start_time": "2018-11-09T03:03:36.125Z"
    }
   },
   "outputs": [
    {
     "name": "stdout",
     "output_type": "stream",
     "text": [
      "2   -------------\n"
     ]
    }
   ],
   "source": [
    "# from sklearn.cluster import MiniBatchKMeans\n",
    "# from sklearn.metrics import silhouette_score\n",
    "\n",
    "# Scores = []  # 存放轮廓系数\n",
    "# for k in range(2,9):\n",
    "#     print(k, '  -------------')\n",
    "#     estimator = MiniBatchKMeans(n_clusters=k)  # 构造聚类器\n",
    "#     estimator.fit(X_features)\n",
    "#     Scores.append(silhouette_score(X_features, estimator.labels_,metric='euclidean'))\n",
    "# print('Scores: ', Scores)\n",
    "\n",
    "# plt.xlabel('k')\n",
    "# plt.ylabel('轮廓系数')\n",
    "# plt.plot(range(1,k_max), Scores, 'o-')\n",
    "# plt.show()"
   ]
  },
  {
   "cell_type": "markdown",
   "metadata": {},
   "source": [
    "## 总结"
   ]
  },
  {
   "cell_type": "markdown",
   "metadata": {},
   "source": [
    "- k=2时轮廓系数最大，聚类效果应该非常好，那为什么SSE会这么大呢？\n",
    "> - 原因在于轮廓系数考虑了分离度b，也就是样本与最近簇中所有样本的平均距离。为什么这么说，因为从定义上看，轮廓系数大，不一定是凝聚度a（样本与同簇的其他样本的平均距离）小，而可能是b和a都很大的情况下b相对a大得多，这么一来，a是有可能取得比较大的。a一大，样本与同簇的其他样本的平均距离就大，簇的紧凑程度就弱，那么簇内样本离质心的距离也大，从而导致SSE较大。所以，虽然轮廓系数引入了分离度b而限制了聚类划分的程度，但是同样会引来最优结果的SSE比较大的问题，这一点也是值得注意的。\n",
    "> - 轮廓系数法确定出的最优k值不一定是最优的，有时候还需要根据SSE去辅助选取"
   ]
  },
  {
   "cell_type": "markdown",
   "metadata": {},
   "source": [
    "# 基于距离的聚类算法"
   ]
  },
  {
   "cell_type": "markdown",
   "metadata": {},
   "source": [
    "- CH越大代表着类自身越紧密，类与类之间越分散，即更优的聚类结果。"
   ]
  },
  {
   "cell_type": "markdown",
   "metadata": {},
   "source": [
    "## K-means\n",
    "- 事先确定聚类簇的个数"
   ]
  },
  {
   "cell_type": "code",
   "execution_count": 12,
   "metadata": {
    "ExecuteTime": {
     "end_time": "2018-11-09T09:00:00.615683Z",
     "start_time": "2018-11-09T08:56:47.649646Z"
    }
   },
   "outputs": [
    {
     "name": "stdout",
     "output_type": "stream",
     "text": [
      "训练耗时：191.1449327468872 s, 预测耗时：0.027001619338989258 s\n",
      "CH指标:  5.605619643941353\n"
     ]
    },
    {
     "data": {
      "text/plain": [
       "2    3387\n",
       "3     821\n",
       "1      48\n",
       "7       1\n",
       "4       1\n",
       "Name: 0, dtype: int64"
      ]
     },
     "execution_count": 12,
     "metadata": {},
     "output_type": "execute_result"
    }
   ],
   "source": [
    "from sklearn.cluster import KMeans\n",
    "\n",
    "k_means = KMeans(n_clusters=8)\n",
    "t0 = time.time()\n",
    "k_means.fit(X_train)\n",
    "t1 = time.time()\n",
    "k_means_pred = k_means.predict(X_test)\n",
    "t2 = time.time()\n",
    "\n",
    "print('训练耗时：%s s, 预测耗时：%s s'%(t1-t0, t2-t1))\n",
    "print(\"CH指标: \", metrics.calinski_harabaz_score(X_test_dense, k_means_pred))\n",
    "pd.DataFrame(k_means_pred)[0].value_counts()"
   ]
  },
  {
   "cell_type": "code",
   "execution_count": null,
   "metadata": {},
   "outputs": [],
   "source": []
  },
  {
   "cell_type": "markdown",
   "metadata": {},
   "source": [
    "## MiniBatchKMeans\n",
    "- 事先确定聚类簇的个数\n",
    "- 当样本量大于1万做聚类时，就需要考虑选用Mini Batch K-Means算法。但是，在选择算法时，除了算法效率（运行时间）外，算法运行的准确度也是选择算法的重要因素。\n",
    "> - Mini Batch K-Means算法是K-Means算法的变种，采用小批量的数据子集减小计算时间，同时仍试图优化目标函数，这里所谓的小批量是指每次训练算法时所随机抽取的数据子集，采用这些随机产生的子集进行训练算法，大大减小了计算时间，与其他算法相比，减少了k-均值的收敛时间，小批量k-均值产生的结果，一般只略差于标准算法。"
   ]
  },
  {
   "cell_type": "code",
   "execution_count": 8,
   "metadata": {
    "ExecuteTime": {
     "end_time": "2018-11-09T09:05:38.574013Z",
     "start_time": "2018-11-09T09:05:33.092699Z"
    }
   },
   "outputs": [
    {
     "name": "stdout",
     "output_type": "stream",
     "text": [
      "训练耗时：3.2861881256103516 s, 预测耗时：0.48602771759033203 s\n",
      "CH指标:  1.0061113416595662\n"
     ]
    },
    {
     "data": {
      "text/plain": [
       "5    4256\n",
       "2       2\n",
       "Name: 0, dtype: int64"
      ]
     },
     "execution_count": 8,
     "metadata": {},
     "output_type": "execute_result"
    }
   ],
   "source": [
    "from sklearn.cluster import MiniBatchKMeans\n",
    "\n",
    "mbk = MiniBatchKMeans(n_clusters=8)\n",
    "t0 = time.time()\n",
    "mbk.fit(X_train_dense)\n",
    "t1 = time.time()\n",
    "mbk_pred = mbk.predict(X_test_dense)\n",
    "t2 = time.time()\n",
    "\n",
    "print('训练耗时：%s s, 预测耗时：%s s'%(t1-t0, t2-t1))\n",
    "print(\"CH指标: \", metrics.calinski_harabaz_score(X_test_dense, mbk_pred))\n",
    "pd.DataFrame(mbk_pred)[0].value_counts()"
   ]
  },
  {
   "cell_type": "markdown",
   "metadata": {},
   "source": [
    "## K-medoids\n",
    "- 事先确定聚类簇的个数"
   ]
  },
  {
   "cell_type": "code",
   "execution_count": null,
   "metadata": {
    "collapsed": true
   },
   "outputs": [],
   "source": []
  },
  {
   "cell_type": "markdown",
   "metadata": {},
   "source": [
    "## Mean-Shift\n",
    "- 自动确定k的个数"
   ]
  },
  {
   "cell_type": "code",
   "execution_count": null,
   "metadata": {
    "ExecuteTime": {
     "start_time": "2018-11-09T09:53:49.391Z"
    },
    "collapsed": true
   },
   "outputs": [],
   "source": [
    "from sklearn.cluster import MeanShift\n",
    "\n",
    "m_shift = MeanShift()\n",
    "t0 = time.time()\n",
    "m_shift.fit(X_train_dense)\n",
    "t1 = time.time()\n",
    "m_shift_pred = m_shift.predict(X_test_dense)\n",
    "t2 = time.time()\n",
    "\n",
    "print('训练耗时：%s s, 预测耗时：%s s'%(t1-t0, t2-t1))\n",
    "print(\"CH指标: \", metrics.calinski_harabaz_score(X_test_dense, m_shift_pred))\n",
    "pd.DataFrame(m_shift_pred)[0].value_counts()"
   ]
  },
  {
   "cell_type": "markdown",
   "metadata": {
    "collapsed": true
   },
   "source": [
    "# 基于密度的聚类算法"
   ]
  },
  {
   "cell_type": "markdown",
   "metadata": {},
   "source": [
    "## DBSCAN"
   ]
  },
  {
   "cell_type": "code",
   "execution_count": null,
   "metadata": {
    "collapsed": true
   },
   "outputs": [],
   "source": [
    "from sklearn.cluster import DBSCAN\n",
    "\n",
    "dbscan = SpectralClustering(n_clusters=8)\n",
    "t0 = time.time()\n",
    "dbscan.fit(X_train_dense)\n",
    "t1 = time.time()\n",
    "dbscan_pred = dbscan.predict(X_test_dense)\n",
    "t2 = time.time()\n",
    "\n",
    "print('训练耗时：%s s, 预测耗时：%s s'%(t1-t0, t2-t1))\n",
    "print(\"CH指标: \", metrics.calinski_harabaz_score(X_test_dense, dbscan_pred))\n",
    "pd.DataFrame(dbscan_pred)[0].value_counts()"
   ]
  },
  {
   "cell_type": "markdown",
   "metadata": {
    "collapsed": true
   },
   "source": [
    "# 基于图论的谱聚类算法"
   ]
  },
  {
   "cell_type": "code",
   "execution_count": null,
   "metadata": {
    "collapsed": true
   },
   "outputs": [],
   "source": [
    "from sklearn.cluster import SpectralClustering\n",
    "\n",
    "sc = SpectralClustering(n_clusters=8)\n",
    "t0 = time.time()\n",
    "sc.fit(X_train_dense)\n",
    "t1 = time.time()\n",
    "sc_pred = sc.predict(X_test_dense)\n",
    "t2 = time.time()\n",
    "\n",
    "print('训练耗时：%s s, 预测耗时：%s s'%(t1-t0, t2-t1))\n",
    "print(\"CH指标: \", metrics.calinski_harabaz_score(X_test_dense, sc_pred))\n",
    "pd.DataFrame(sc_pred)[0].value_counts()"
   ]
  },
  {
   "cell_type": "markdown",
   "metadata": {},
   "source": [
    "# 层次聚类"
   ]
  },
  {
   "cell_type": "markdown",
   "metadata": {},
   "source": [
    "## BIRCH(平均迭代规约和聚类)\n",
    "- 调参：类别数K、threshold和branching_factor。默认的threshold值0.5和默认的branching_factor值50."
   ]
  },
  {
   "cell_type": "code",
   "execution_count": 13,
   "metadata": {
    "ExecuteTime": {
     "end_time": "2018-11-09T09:01:12.847814Z",
     "start_time": "2018-11-09T09:00:01.069709Z"
    }
   },
   "outputs": [
    {
     "ename": "MemoryError",
     "evalue": "",
     "output_type": "error",
     "traceback": [
      "\u001b[1;31m---------------------------------------------------------------------------\u001b[0m",
      "\u001b[1;31mMemoryError\u001b[0m                               Traceback (most recent call last)",
      "\u001b[1;32m<ipython-input-13-208a589065aa>\u001b[0m in \u001b[0;36m<module>\u001b[1;34m()\u001b[0m\n\u001b[0;32m      3\u001b[0m \u001b[0mbirch\u001b[0m \u001b[1;33m=\u001b[0m \u001b[0mBirch\u001b[0m\u001b[1;33m(\u001b[0m\u001b[0mn_clusters\u001b[0m\u001b[1;33m=\u001b[0m\u001b[1;36m8\u001b[0m\u001b[1;33m)\u001b[0m\u001b[1;33m\u001b[0m\u001b[0m\n\u001b[0;32m      4\u001b[0m \u001b[0mt0\u001b[0m \u001b[1;33m=\u001b[0m \u001b[0mtime\u001b[0m\u001b[1;33m.\u001b[0m\u001b[0mtime\u001b[0m\u001b[1;33m(\u001b[0m\u001b[1;33m)\u001b[0m\u001b[1;33m\u001b[0m\u001b[0m\n\u001b[1;32m----> 5\u001b[1;33m \u001b[0mbirch\u001b[0m\u001b[1;33m.\u001b[0m\u001b[0mfit\u001b[0m\u001b[1;33m(\u001b[0m\u001b[0mX_train\u001b[0m\u001b[1;33m)\u001b[0m\u001b[1;33m\u001b[0m\u001b[0m\n\u001b[0m\u001b[0;32m      6\u001b[0m \u001b[0mt1\u001b[0m \u001b[1;33m=\u001b[0m \u001b[0mtime\u001b[0m\u001b[1;33m.\u001b[0m\u001b[0mtime\u001b[0m\u001b[1;33m(\u001b[0m\u001b[1;33m)\u001b[0m\u001b[1;33m\u001b[0m\u001b[0m\n\u001b[0;32m      7\u001b[0m \u001b[0mbirch_pred\u001b[0m \u001b[1;33m=\u001b[0m \u001b[0mbirch\u001b[0m\u001b[1;33m.\u001b[0m\u001b[0mpredict\u001b[0m\u001b[1;33m(\u001b[0m\u001b[0mX_test\u001b[0m\u001b[1;33m)\u001b[0m\u001b[1;33m\u001b[0m\u001b[0m\n",
      "\u001b[1;32mD:\\software\\conda\\lib\\site-packages\\sklearn\\cluster\\birch.py\u001b[0m in \u001b[0;36mfit\u001b[1;34m(self, X, y)\u001b[0m\n\u001b[0;32m    447\u001b[0m         \"\"\"\n\u001b[0;32m    448\u001b[0m         \u001b[0mself\u001b[0m\u001b[1;33m.\u001b[0m\u001b[0mfit_\u001b[0m\u001b[1;33m,\u001b[0m \u001b[0mself\u001b[0m\u001b[1;33m.\u001b[0m\u001b[0mpartial_fit_\u001b[0m \u001b[1;33m=\u001b[0m \u001b[1;32mTrue\u001b[0m\u001b[1;33m,\u001b[0m \u001b[1;32mFalse\u001b[0m\u001b[1;33m\u001b[0m\u001b[0m\n\u001b[1;32m--> 449\u001b[1;33m         \u001b[1;32mreturn\u001b[0m \u001b[0mself\u001b[0m\u001b[1;33m.\u001b[0m\u001b[0m_fit\u001b[0m\u001b[1;33m(\u001b[0m\u001b[0mX\u001b[0m\u001b[1;33m)\u001b[0m\u001b[1;33m\u001b[0m\u001b[0m\n\u001b[0m\u001b[0;32m    450\u001b[0m \u001b[1;33m\u001b[0m\u001b[0m\n\u001b[0;32m    451\u001b[0m     \u001b[1;32mdef\u001b[0m \u001b[0m_fit\u001b[0m\u001b[1;33m(\u001b[0m\u001b[0mself\u001b[0m\u001b[1;33m,\u001b[0m \u001b[0mX\u001b[0m\u001b[1;33m)\u001b[0m\u001b[1;33m:\u001b[0m\u001b[1;33m\u001b[0m\u001b[0m\n",
      "\u001b[1;32mD:\\software\\conda\\lib\\site-packages\\sklearn\\cluster\\birch.py\u001b[0m in \u001b[0;36m_fit\u001b[1;34m(self, X)\u001b[0m\n\u001b[0;32m    481\u001b[0m         \u001b[1;32mfor\u001b[0m \u001b[0msample\u001b[0m \u001b[1;32min\u001b[0m \u001b[0miter_func\u001b[0m\u001b[1;33m(\u001b[0m\u001b[0mX\u001b[0m\u001b[1;33m)\u001b[0m\u001b[1;33m:\u001b[0m\u001b[1;33m\u001b[0m\u001b[0m\n\u001b[0;32m    482\u001b[0m             \u001b[0msubcluster\u001b[0m \u001b[1;33m=\u001b[0m \u001b[0m_CFSubcluster\u001b[0m\u001b[1;33m(\u001b[0m\u001b[0mlinear_sum\u001b[0m\u001b[1;33m=\u001b[0m\u001b[0msample\u001b[0m\u001b[1;33m)\u001b[0m\u001b[1;33m\u001b[0m\u001b[0m\n\u001b[1;32m--> 483\u001b[1;33m             \u001b[0msplit\u001b[0m \u001b[1;33m=\u001b[0m \u001b[0mself\u001b[0m\u001b[1;33m.\u001b[0m\u001b[0mroot_\u001b[0m\u001b[1;33m.\u001b[0m\u001b[0minsert_cf_subcluster\u001b[0m\u001b[1;33m(\u001b[0m\u001b[0msubcluster\u001b[0m\u001b[1;33m)\u001b[0m\u001b[1;33m\u001b[0m\u001b[0m\n\u001b[0m\u001b[0;32m    484\u001b[0m \u001b[1;33m\u001b[0m\u001b[0m\n\u001b[0;32m    485\u001b[0m             \u001b[1;32mif\u001b[0m \u001b[0msplit\u001b[0m\u001b[1;33m:\u001b[0m\u001b[1;33m\u001b[0m\u001b[0m\n",
      "\u001b[1;32mD:\\software\\conda\\lib\\site-packages\\sklearn\\cluster\\birch.py\u001b[0m in \u001b[0;36minsert_cf_subcluster\u001b[1;34m(self, subcluster)\u001b[0m\n\u001b[0;32m    192\u001b[0m         \u001b[1;32mif\u001b[0m \u001b[0mclosest_subcluster\u001b[0m\u001b[1;33m.\u001b[0m\u001b[0mchild_\u001b[0m \u001b[1;32mis\u001b[0m \u001b[1;32mnot\u001b[0m \u001b[1;32mNone\u001b[0m\u001b[1;33m:\u001b[0m\u001b[1;33m\u001b[0m\u001b[0m\n\u001b[0;32m    193\u001b[0m             split_child = closest_subcluster.child_.insert_cf_subcluster(\n\u001b[1;32m--> 194\u001b[1;33m                 subcluster)\n\u001b[0m\u001b[0;32m    195\u001b[0m \u001b[1;33m\u001b[0m\u001b[0m\n\u001b[0;32m    196\u001b[0m             \u001b[1;32mif\u001b[0m \u001b[1;32mnot\u001b[0m \u001b[0msplit_child\u001b[0m\u001b[1;33m:\u001b[0m\u001b[1;33m\u001b[0m\u001b[0m\n",
      "\u001b[1;32mD:\\software\\conda\\lib\\site-packages\\sklearn\\cluster\\birch.py\u001b[0m in \u001b[0;36minsert_cf_subcluster\u001b[1;34m(self, subcluster)\u001b[0m\n\u001b[0;32m    192\u001b[0m         \u001b[1;32mif\u001b[0m \u001b[0mclosest_subcluster\u001b[0m\u001b[1;33m.\u001b[0m\u001b[0mchild_\u001b[0m \u001b[1;32mis\u001b[0m \u001b[1;32mnot\u001b[0m \u001b[1;32mNone\u001b[0m\u001b[1;33m:\u001b[0m\u001b[1;33m\u001b[0m\u001b[0m\n\u001b[0;32m    193\u001b[0m             split_child = closest_subcluster.child_.insert_cf_subcluster(\n\u001b[1;32m--> 194\u001b[1;33m                 subcluster)\n\u001b[0m\u001b[0;32m    195\u001b[0m \u001b[1;33m\u001b[0m\u001b[0m\n\u001b[0;32m    196\u001b[0m             \u001b[1;32mif\u001b[0m \u001b[1;32mnot\u001b[0m \u001b[0msplit_child\u001b[0m\u001b[1;33m:\u001b[0m\u001b[1;33m\u001b[0m\u001b[0m\n",
      "\u001b[1;32mD:\\software\\conda\\lib\\site-packages\\sklearn\\cluster\\birch.py\u001b[0m in \u001b[0;36minsert_cf_subcluster\u001b[1;34m(self, subcluster)\u001b[0m\n\u001b[0;32m    192\u001b[0m         \u001b[1;32mif\u001b[0m \u001b[0mclosest_subcluster\u001b[0m\u001b[1;33m.\u001b[0m\u001b[0mchild_\u001b[0m \u001b[1;32mis\u001b[0m \u001b[1;32mnot\u001b[0m \u001b[1;32mNone\u001b[0m\u001b[1;33m:\u001b[0m\u001b[1;33m\u001b[0m\u001b[0m\n\u001b[0;32m    193\u001b[0m             split_child = closest_subcluster.child_.insert_cf_subcluster(\n\u001b[1;32m--> 194\u001b[1;33m                 subcluster)\n\u001b[0m\u001b[0;32m    195\u001b[0m \u001b[1;33m\u001b[0m\u001b[0m\n\u001b[0;32m    196\u001b[0m             \u001b[1;32mif\u001b[0m \u001b[1;32mnot\u001b[0m \u001b[0msplit_child\u001b[0m\u001b[1;33m:\u001b[0m\u001b[1;33m\u001b[0m\u001b[0m\n",
      "\u001b[1;32mD:\\software\\conda\\lib\\site-packages\\sklearn\\cluster\\birch.py\u001b[0m in \u001b[0;36minsert_cf_subcluster\u001b[1;34m(self, subcluster)\u001b[0m\n\u001b[0;32m    192\u001b[0m         \u001b[1;32mif\u001b[0m \u001b[0mclosest_subcluster\u001b[0m\u001b[1;33m.\u001b[0m\u001b[0mchild_\u001b[0m \u001b[1;32mis\u001b[0m \u001b[1;32mnot\u001b[0m \u001b[1;32mNone\u001b[0m\u001b[1;33m:\u001b[0m\u001b[1;33m\u001b[0m\u001b[0m\n\u001b[0;32m    193\u001b[0m             split_child = closest_subcluster.child_.insert_cf_subcluster(\n\u001b[1;32m--> 194\u001b[1;33m                 subcluster)\n\u001b[0m\u001b[0;32m    195\u001b[0m \u001b[1;33m\u001b[0m\u001b[0m\n\u001b[0;32m    196\u001b[0m             \u001b[1;32mif\u001b[0m \u001b[1;32mnot\u001b[0m \u001b[0msplit_child\u001b[0m\u001b[1;33m:\u001b[0m\u001b[1;33m\u001b[0m\u001b[0m\n",
      "\u001b[1;32mD:\\software\\conda\\lib\\site-packages\\sklearn\\cluster\\birch.py\u001b[0m in \u001b[0;36minsert_cf_subcluster\u001b[1;34m(self, subcluster)\u001b[0m\n\u001b[0;32m    209\u001b[0m             \u001b[1;32melse\u001b[0m\u001b[1;33m:\u001b[0m\u001b[1;33m\u001b[0m\u001b[0m\n\u001b[0;32m    210\u001b[0m                 new_subcluster1, new_subcluster2 = _split_node(\n\u001b[1;32m--> 211\u001b[1;33m                     closest_subcluster.child_, threshold, branching_factor)\n\u001b[0m\u001b[0;32m    212\u001b[0m                 self.update_split_subclusters(\n\u001b[0;32m    213\u001b[0m                     closest_subcluster, new_subcluster1, new_subcluster2)\n",
      "\u001b[1;32mD:\\software\\conda\\lib\\site-packages\\sklearn\\cluster\\birch.py\u001b[0m in \u001b[0;36m_split_node\u001b[1;34m(node, threshold, branching_factor)\u001b[0m\n\u001b[0;32m     55\u001b[0m     new_node2 = _CFNode(\n\u001b[0;32m     56\u001b[0m         \u001b[0mthreshold\u001b[0m\u001b[1;33m,\u001b[0m \u001b[0mbranching_factor\u001b[0m\u001b[1;33m,\u001b[0m \u001b[0mis_leaf\u001b[0m\u001b[1;33m=\u001b[0m\u001b[0mnode\u001b[0m\u001b[1;33m.\u001b[0m\u001b[0mis_leaf\u001b[0m\u001b[1;33m,\u001b[0m\u001b[1;33m\u001b[0m\u001b[0m\n\u001b[1;32m---> 57\u001b[1;33m         n_features=node.n_features)\n\u001b[0m\u001b[0;32m     58\u001b[0m     \u001b[0mnew_subcluster1\u001b[0m\u001b[1;33m.\u001b[0m\u001b[0mchild_\u001b[0m \u001b[1;33m=\u001b[0m \u001b[0mnew_node1\u001b[0m\u001b[1;33m\u001b[0m\u001b[0m\n\u001b[0;32m     59\u001b[0m     \u001b[0mnew_subcluster2\u001b[0m\u001b[1;33m.\u001b[0m\u001b[0mchild_\u001b[0m \u001b[1;33m=\u001b[0m \u001b[0mnew_node2\u001b[0m\u001b[1;33m\u001b[0m\u001b[0m\n",
      "\u001b[1;32mD:\\software\\conda\\lib\\site-packages\\sklearn\\cluster\\birch.py\u001b[0m in \u001b[0;36m__init__\u001b[1;34m(self, threshold, branching_factor, is_leaf, n_features)\u001b[0m\n\u001b[0;32m    144\u001b[0m         \u001b[1;31m# to manipulate throughout.\u001b[0m\u001b[1;33m\u001b[0m\u001b[1;33m\u001b[0m\u001b[0m\n\u001b[0;32m    145\u001b[0m         \u001b[0mself\u001b[0m\u001b[1;33m.\u001b[0m\u001b[0msubclusters_\u001b[0m \u001b[1;33m=\u001b[0m \u001b[1;33m[\u001b[0m\u001b[1;33m]\u001b[0m\u001b[1;33m\u001b[0m\u001b[0m\n\u001b[1;32m--> 146\u001b[1;33m         \u001b[0mself\u001b[0m\u001b[1;33m.\u001b[0m\u001b[0minit_centroids_\u001b[0m \u001b[1;33m=\u001b[0m \u001b[0mnp\u001b[0m\u001b[1;33m.\u001b[0m\u001b[0mzeros\u001b[0m\u001b[1;33m(\u001b[0m\u001b[1;33m(\u001b[0m\u001b[0mbranching_factor\u001b[0m \u001b[1;33m+\u001b[0m \u001b[1;36m1\u001b[0m\u001b[1;33m,\u001b[0m \u001b[0mn_features\u001b[0m\u001b[1;33m)\u001b[0m\u001b[1;33m)\u001b[0m\u001b[1;33m\u001b[0m\u001b[0m\n\u001b[0m\u001b[0;32m    147\u001b[0m         \u001b[0mself\u001b[0m\u001b[1;33m.\u001b[0m\u001b[0minit_sq_norm_\u001b[0m \u001b[1;33m=\u001b[0m \u001b[0mnp\u001b[0m\u001b[1;33m.\u001b[0m\u001b[0mzeros\u001b[0m\u001b[1;33m(\u001b[0m\u001b[1;33m(\u001b[0m\u001b[0mbranching_factor\u001b[0m \u001b[1;33m+\u001b[0m \u001b[1;36m1\u001b[0m\u001b[1;33m)\u001b[0m\u001b[1;33m)\u001b[0m\u001b[1;33m\u001b[0m\u001b[0m\n\u001b[0;32m    148\u001b[0m         \u001b[0mself\u001b[0m\u001b[1;33m.\u001b[0m\u001b[0msquared_norm_\u001b[0m \u001b[1;33m=\u001b[0m \u001b[1;33m[\u001b[0m\u001b[1;33m]\u001b[0m\u001b[1;33m\u001b[0m\u001b[0m\n",
      "\u001b[1;31mMemoryError\u001b[0m: "
     ]
    }
   ],
   "source": [
    "from sklearn.cluster import Birch\n",
    "\n",
    "birch = Birch(n_clusters=8)\n",
    "t0 = time.time()\n",
    "birch.fit(X_train_dense)\n",
    "t1 = time.time()\n",
    "birch_pred = birch.predict(X_test_dense)\n",
    "t2 = time.time()\n",
    "\n",
    "print('训练耗时：%s s, 预测耗时：%s s'%(t1-t0, t2-t1))\n",
    "print(\"CH指标: \", metrics.calinski_harabaz_score(X_test_dense, birch_pred))\n",
    "pd.DataFrame(birch_pred)[0].value_counts()"
   ]
  },
  {
   "cell_type": "code",
   "execution_count": null,
   "metadata": {
    "collapsed": true
   },
   "outputs": [],
   "source": [
    "# 尝试多个threshold取值，和多个branching_factor取值\n",
    "param_grid = {'threshold':[0.5,0.3,0.1],'branching_factor':[50,20,10]}\n",
    "for threshold in param_grid['threshold']:\n",
    "    for branching_factor in param_grid['branching_factor']:\n",
    "        clf = Birch(n_clusters = 4,threshold=threshold,branching_factor=branching_factor)\n",
    "        clf.fit(X)\n",
    "        y_pred = clf.predict(X)\n",
    "        print(threshold,branching_factor,\"CH指标:\", metrics.calinski_harabaz_score(X, y_pred))\n"
   ]
  },
  {
   "cell_type": "markdown",
   "metadata": {},
   "source": [
    "## AG算法"
   ]
  },
  {
   "cell_type": "code",
   "execution_count": 9,
   "metadata": {
    "ExecuteTime": {
     "end_time": "2018-11-09T09:38:16.983027Z",
     "start_time": "2018-11-09T09:18:14.972276Z"
    }
   },
   "outputs": [
    {
     "ename": "AttributeError",
     "evalue": "'AgglomerativeClustering' object has no attribute 'predict'",
     "output_type": "error",
     "traceback": [
      "\u001b[1;31m---------------------------------------------------------------------------\u001b[0m",
      "\u001b[1;31mAttributeError\u001b[0m                            Traceback (most recent call last)",
      "\u001b[1;32m<ipython-input-9-a89d98cffe05>\u001b[0m in \u001b[0;36m<module>\u001b[1;34m()\u001b[0m\n\u001b[0;32m      5\u001b[0m \u001b[0magg\u001b[0m\u001b[1;33m.\u001b[0m\u001b[0mfit\u001b[0m\u001b[1;33m(\u001b[0m\u001b[0mX_train_dense\u001b[0m\u001b[1;33m)\u001b[0m\u001b[1;33m\u001b[0m\u001b[0m\n\u001b[0;32m      6\u001b[0m \u001b[0mt1\u001b[0m \u001b[1;33m=\u001b[0m \u001b[0mtime\u001b[0m\u001b[1;33m.\u001b[0m\u001b[0mtime\u001b[0m\u001b[1;33m(\u001b[0m\u001b[1;33m)\u001b[0m\u001b[1;33m\u001b[0m\u001b[0m\n\u001b[1;32m----> 7\u001b[1;33m \u001b[0magg_pred\u001b[0m \u001b[1;33m=\u001b[0m \u001b[0magg\u001b[0m\u001b[1;33m.\u001b[0m\u001b[0mpredict\u001b[0m\u001b[1;33m(\u001b[0m\u001b[0mX_test_dense\u001b[0m\u001b[1;33m)\u001b[0m\u001b[1;33m\u001b[0m\u001b[0m\n\u001b[0m\u001b[0;32m      8\u001b[0m \u001b[0mt2\u001b[0m \u001b[1;33m=\u001b[0m \u001b[0mtime\u001b[0m\u001b[1;33m.\u001b[0m\u001b[0mtime\u001b[0m\u001b[1;33m(\u001b[0m\u001b[1;33m)\u001b[0m\u001b[1;33m\u001b[0m\u001b[0m\n\u001b[0;32m      9\u001b[0m \u001b[1;33m\u001b[0m\u001b[0m\n",
      "\u001b[1;31mAttributeError\u001b[0m: 'AgglomerativeClustering' object has no attribute 'predict'"
     ]
    }
   ],
   "source": [
    "from sklearn.cluster import AgglomerativeClustering\n",
    "\n",
    "agg = AgglomerativeClustering(n_clusters=8)\n",
    "t0 = time.time()\n",
    "agg.fit(X_train_dense)\n",
    "t1 = time.time()\n",
    "agg_pred = agg.predict(X_test_dense)\n",
    "t2 = time.time()\n",
    "\n",
    "print('训练耗时：%s s, 预测耗时：%s s'%(t1-t0, t2-t1))\n",
    "print(\"CH指标: \", metrics.calinski_harabaz_score(X_test_dense, agg_pred))\n",
    "pd.DataFrame(agg_pred)[0].value_counts()"
   ]
  },
  {
   "cell_type": "markdown",
   "metadata": {},
   "source": [
    "# 聚类结果评价\n",
    "- 基于距离的聚类算法是以数据点为单位进行研究，基于密度的聚类算法则从点转化为面，基于图论的谱聚类算法则通过数据降维 高算法效率。"
   ]
  },
  {
   "cell_type": "code",
   "execution_count": null,
   "metadata": {
    "collapsed": true
   },
   "outputs": [],
   "source": []
  },
  {
   "cell_type": "code",
   "execution_count": null,
   "metadata": {
    "collapsed": true
   },
   "outputs": [],
   "source": []
  }
 ],
 "metadata": {
  "kernelspec": {
   "display_name": "Python 3",
   "language": "python",
   "name": "python3"
  },
  "language_info": {
   "codemirror_mode": {
    "name": "ipython",
    "version": 3
   },
   "file_extension": ".py",
   "mimetype": "text/x-python",
   "name": "python",
   "nbconvert_exporter": "python",
   "pygments_lexer": "ipython3",
   "version": "3.6.3"
  },
  "toc": {
   "nav_menu": {},
   "number_sections": true,
   "sideBar": true,
   "skip_h1_title": false,
   "title_cell": "Table of Contents",
   "title_sidebar": "Contents",
   "toc_cell": false,
   "toc_position": {},
   "toc_section_display": true,
   "toc_window_display": true
  },
  "varInspector": {
   "cols": {
    "lenName": 16,
    "lenType": 16,
    "lenVar": 40
   },
   "kernels_config": {
    "python": {
     "delete_cmd_postfix": "",
     "delete_cmd_prefix": "del ",
     "library": "var_list.py",
     "varRefreshCmd": "print(var_dic_list())"
    },
    "r": {
     "delete_cmd_postfix": ") ",
     "delete_cmd_prefix": "rm(",
     "library": "var_list.r",
     "varRefreshCmd": "cat(var_dic_list()) "
    }
   },
   "position": {
    "height": "605px",
    "left": "1510px",
    "right": "20px",
    "top": "120px",
    "width": "350px"
   },
   "types_to_exclude": [
    "module",
    "function",
    "builtin_function_or_method",
    "instance",
    "_Feature"
   ],
   "window_display": false
  }
 },
 "nbformat": 4,
 "nbformat_minor": 2
}
