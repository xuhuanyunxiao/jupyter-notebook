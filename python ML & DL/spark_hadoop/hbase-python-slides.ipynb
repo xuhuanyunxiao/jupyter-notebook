{
 "cells": [
  {
   "cell_type": "markdown",
   "metadata": {
    "slideshow": {
     "slide_type": "slide"
    }
   },
   "source": [
    "# Using HBase from Python\n",
    "\n",
    "(C) 2016 [Steve Phelps](http://sphelps.net)"
   ]
  },
  {
   "cell_type": "markdown",
   "metadata": {
    "slideshow": {
     "slide_type": "slide"
    }
   },
   "source": [
    "### Overview\n",
    "\n",
    "1. Column-oriented databases and Apache HBase\n",
    "2. Binary data in Python \n",
    "3. Serialization using the `Struct` class.\n",
    "4. The `happybase` API."
   ]
  },
  {
   "cell_type": "markdown",
   "metadata": {
    "slideshow": {
     "slide_type": "slide"
    }
   },
   "source": [
    "### Reading\n",
    "\n",
    "- [no-SQL Data Modelling Techniques](https://highlyscalable.wordpress.com/2012/03/01/nosql-data-modeling-techniques/)\n",
    "- [The HBase Data Model](https://hbase.apache.org/book.html#datamodel)\n",
    "- [Tutorial on binary data in Python](https://pymotw.com/2/struct/)\n",
    "- [The HappyBase User Guide](http://happybase.readthedocs.org/en/latest/user.html)"
   ]
  },
  {
   "cell_type": "markdown",
   "metadata": {
    "slideshow": {
     "slide_type": "slide"
    }
   },
   "source": [
    "# Apache HBase\n",
    "\n",
    "- HBase is a column-oriented database.\n",
    "- It is inspired by Google's Bigtable \\cite{Chang2006}.\n",
    "- HBase is written in Java (Bigtable was written in C++).\n",
    "- HBase can be used from Python through a [Thrift API](https://wiki.apache.org/hadoop/Hbase/ThriftApi).\n",
    "- It can also be access through the [Apache Spark Python API](https://spark.apache.org/)."
   ]
  },
  {
   "cell_type": "markdown",
   "metadata": {
    "slideshow": {
     "slide_type": "slide"
    }
   },
   "source": [
    "# Scalability\n",
    "\n",
    "- The design philosophy is based on highly-distributed, [shared-nothing architecture](https://en.wikipedia.org/wiki/Shared_nothing_architecture).\n",
    "- It provides automatic [sharding](https://en.wikipedia.org/wiki/Shard_\\%28database_architecture\\%29}{sharding}).\n",
    "- HBase is part of the [Hadoop](https://hadoop.apache.org/) Ecosystem."
   ]
  },
  {
   "cell_type": "markdown",
   "metadata": {
    "slideshow": {
     "slide_type": "slide"
    }
   },
   "source": [
    "# Shared-nothing architecture\n",
    "\n",
    "- When building scalable systems, we need to parallelize our computations.\n",
    "\n",
    "- This requires multiple processors (and/or multiple cores).\n",
    "\n",
    "- How do we distribute the data to each processor?\n",
    "\n",
    "\n",
    "Scheme                | Description\n",
    "------                | -----------\n",
    "Shared memory (SM)    | Multiple processors share a common central memory.\n",
    "Shared disk (SD)      | Multiple processors with private memory share a  common collection of disks.\n",
    "Shared nothing (SN)   | Neither memory not peripheral storage is shared among processors.\n",
    "\n",
    "\\cite{Stonebraker1986}"
   ]
  },
  {
   "cell_type": "markdown",
   "metadata": {
    "slideshow": {
     "slide_type": "slide"
    }
   },
   "source": [
    "# Sharding\n",
    "\n",
    "- We can provide parallel access to a database by storing different subsets\n",
    "of the data on different RDBMS servers.\n",
    "\n",
    "- We could use, e.g. a hash function to determine which server a piece of data should reside on.\n",
    "\n",
    "- Each of these subsets is called a shard.\n",
    "\n",
    "- With a traditional relational database, sharding is very costly in terms of duplicated resources and the complexity of the configuration.\n",
    "\n",
    "- HBase provides automatic sharding, with minimal duplication of state."
   ]
  },
  {
   "cell_type": "markdown",
   "metadata": {
    "slideshow": {
     "slide_type": "slide"
    }
   },
   "source": [
    "# Regions\n",
    "\n",
    "- Tables are partitioned vertically into different *regions*.\n",
    "\n",
    "- Different *region servers* are responsible for one or more regions.\n",
    "\n",
    "- The HBase Master process performs coordination and load balancing across the region servers."
   ]
  },
  {
   "cell_type": "markdown",
   "metadata": {
    "slideshow": {
     "slide_type": "slide"
    }
   },
   "source": [
    "# The Hadoop Distributed File System (HDFS)\n",
    "\n",
    "- In a production configuration HBase stores its underlying data on a file-system called [HDFS](https://hadoop.apache.org/docs/r1.0.4/hdfs_design.html#Introduction).\n",
    "\n",
    "- HDFS uses a cluster of computers to simulate a single file-system.\n",
    "\n",
    "- It provides:\n",
    "\n",
    "    - Resilience against hardware \n",
    "    - Streaming Data Access\n",
    "    - Support for large files (e.g. terabytes)\n",
    "    \n",
    "- It is based on the philosophy that moving computation is often cheaper than moving data."
   ]
  },
  {
   "cell_type": "markdown",
   "metadata": {
    "slideshow": {
     "slide_type": "slide"
    }
   },
   "source": [
    "# HBase Tables\n",
    "\n",
    "- Tables are maps of maps.\n",
    "- We first map from row key to a map of the data for that row.\n",
    "- Then within each row, column names are mapped to values.\n",
    "- Tables consist of:\n",
    "    - *Rows*, which hold the data associated with the row-key.\n",
    "    - *Column keys*, which are used to index each row.\n",
    "    - *Row keys*, which are used to index each attribute within a row.\n",
    "    - *Column families* which group related keys to specify access-control and options."
   ]
  },
  {
   "cell_type": "markdown",
   "metadata": {
    "slideshow": {
     "slide_type": "slide"
    }
   },
   "source": [
    "# Multi-dimensional sorted maps\n",
    "\n",
    "- Row keys are sorted in [lexicographic order](http://mathworld.wolfram.com/LexicographicOrder.html}{lexicographic order).\n",
    "- The number of columns per row is _unbounded_.\n",
    "- This design implements a persistent, sparse, multi-dimensional sorted map."
   ]
  },
  {
   "cell_type": "markdown",
   "metadata": {
    "slideshow": {
     "slide_type": "slide"
    }
   },
   "source": [
    "# Sparse data\n",
    "\n",
    "- When de-normalising a schema, we introduce many `NULL` values.\n",
    "- A data-set which contains a significant fraction of `NULL` values is called `sparse` data.\n",
    "- `NULL` values can be represented by the absence of a mapping.\n",
    "- Existence is tested using a [Bloom filter](https://en.wikipedia.org/wiki/Bloom_filter).\n",
    "- The bloom filter is cached in memory;\n",
    "    - This prevents unnecessary disk accesses."
   ]
  },
  {
   "cell_type": "markdown",
   "metadata": {
    "slideshow": {
     "slide_type": "slide"
    }
   },
   "source": [
    "# HBase is typeless\n",
    "\n",
    "- There are *no types*. \n",
    "- Both keys and their associated values are arbitrary-length arrays of bytes.\n",
    "- There is no limit on the size of a value."
   ]
  },
  {
   "cell_type": "markdown",
   "metadata": {
    "slideshow": {
     "slide_type": "slide"
    }
   },
   "source": [
    "# Lexicographic ordering\n",
    "\n",
    "- We can define an ordering over arbitrary binary data.\n",
    "\n",
    "- For example, the following Python code determines whether $x < y$\n",
    "according to lexicographic ordering:"
   ]
  },
  {
   "cell_type": "code",
   "execution_count": 5,
   "metadata": {
    "collapsed": false
   },
   "outputs": [
    {
     "data": {
      "text/plain": [
       "False"
      ]
     },
     "execution_count": 5,
     "metadata": {},
     "output_type": "execute_result"
    }
   ],
   "source": [
    "\n",
    "def lexicographic_le(x, y):   \n",
    "    for i in range(len(x)):\n",
    "        if x[i] == y[i]:\n",
    "            continue\n",
    "        else:\n",
    "            return x[i] < y[i]\n",
    "    return False\n",
    "\n",
    "lexicographic_le('steve', 'smith')"
   ]
  },
  {
   "cell_type": "markdown",
   "metadata": {
    "slideshow": {
     "slide_type": "slide"
    }
   },
   "source": [
    "# Ordering arrays of bytes"
   ]
  },
  {
   "cell_type": "code",
   "execution_count": 6,
   "metadata": {
    "collapsed": false
   },
   "outputs": [
    {
     "data": {
      "text/plain": [
       "True"
      ]
     },
     "execution_count": 6,
     "metadata": {},
     "output_type": "execute_result"
    }
   ],
   "source": [
    "import numpy as np\n",
    "\n",
    "x = np.array([15, 9, 5, 16, 4])\n",
    "\n",
    "y = np.array([15, 16, 1, 18, 1])\n",
    "\n",
    "lexicographic_le(x, y)\n"
   ]
  },
  {
   "cell_type": "markdown",
   "metadata": {
    "slideshow": {
     "slide_type": "slide"
    }
   },
   "source": [
    "# Joins in HBase\n",
    "\n",
    "- There is no automatic enforcement of referentially integrity in a column-oriented database.\n",
    "    - There are no foreign key constraints.\n",
    "\n",
    "- If we want to retrieve the value associated with a particular key from another table, then\n",
    "that will be a fast operation.\n",
    "\n",
    "- In general, however, the set-theoretic operations available in SQL can be very expensive.\n",
    "\n",
    "- Joins are not supported;\n",
    "    we \"pre-join\" the data through de-normalisation.\n",
    "    "
   ]
  },
  {
   "cell_type": "markdown",
   "metadata": {
    "slideshow": {
     "slide_type": "slide"
    }
   },
   "source": [
    "# An example table\n",
    "\n",
    "![hbase table](http://lwlink3.linkwithin.com/api/click?format=go&jsonp=vglnk_14684974959609&key=503c38809682907e0e07931326b1c03d&libId=iqm9hrid01012xfu000DAkt1oqmsc&loc=http%3A%2F%2Fgardenforkingpaths.blogspot.co.uk%2F2012%2F10%2Fhbase-column-family-store.html&v=1&out=http%3A%2F%2F1.bp.blogspot.com%2F-B8smblPeeqw%2FUHNjaBq-caI%2FAAAAAAAAAGU%2FHXMw8Hi2L90%2Fs1600%2Fhbase.png&ref=https%3A%2F%2Fduckduckgo.com&title=the%20Garden%20of%20Forking%20Paths%3A%20HBase%3A%20A%20Column-Family%20Store&txt=)"
   ]
  },
  {
   "cell_type": "markdown",
   "metadata": {
    "slideshow": {
     "slide_type": "slide"
    }
   },
   "source": [
    "# Column qualifiers\n",
    "\n",
    "- Row keys and column keys can consist of arbitrary binary data.\n",
    "\n",
    "- Often we will use strings (which HBase will see an array of 8-bit ASCII values).\n",
    "\n",
    "- Column-keys containing the character \"`:`\" specify membership of a column-family:\n",
    "\n",
    "~~~\n",
    "<column family name>:<column qualifer>\n",
    "~~~"
   ]
  },
  {
   "cell_type": "markdown",
   "metadata": {
    "slideshow": {
     "slide_type": "subslide"
    }
   },
   "source": [
    "- The column family name must consist of printable text.\n",
    "\n",
    "- For example, in the previous example, the `triangle` attribute would be written as:\n",
    "\n",
    "`shape:triangle`\n",
    "\n",
    "- The fully-qualified key is stored on disk.\n",
    "\n",
    "- Therefore, the name of a column-family should generally be short, in order to maintain capacity and IO throughput."
   ]
  },
  {
   "cell_type": "markdown",
   "metadata": {
    "slideshow": {
     "slide_type": "slide"
    }
   },
   "source": [
    "# The colors and shapes example with Python dicts"
   ]
  },
  {
   "cell_type": "code",
   "execution_count": 8,
   "metadata": {
    "collapsed": true
   },
   "outputs": [],
   "source": [
    "data = \\\n",
    "    {\n",
    "        'first': \n",
    "            {\n",
    "                'color:red': 0xf00, 'color:blue': 0x00f, \n",
    "                    'shape:yellow': 0xff0, 'shape:square': 4 \n",
    "            }, \n",
    "        'second': \n",
    "            { \n",
    "                'shape:square': 4, 'shape:triangle': 3 \n",
    "            } \n",
    "    }"
   ]
  },
  {
   "cell_type": "code",
   "execution_count": 9,
   "metadata": {
    "collapsed": false,
    "slideshow": {
     "slide_type": "fragment"
    }
   },
   "outputs": [
    {
     "data": {
      "text/plain": [
       "{'shape:square': 4, 'shape:triangle': 3}"
      ]
     },
     "execution_count": 9,
     "metadata": {},
     "output_type": "execute_result"
    }
   ],
   "source": [
    "data['second']"
   ]
  },
  {
   "cell_type": "code",
   "execution_count": 10,
   "metadata": {
    "collapsed": false,
    "slideshow": {
     "slide_type": "fragment"
    }
   },
   "outputs": [
    {
     "data": {
      "text/plain": [
       "3"
      ]
     },
     "execution_count": 10,
     "metadata": {},
     "output_type": "execute_result"
    }
   ],
   "source": [
    "data['second']['shape:triangle']"
   ]
  },
  {
   "cell_type": "markdown",
   "metadata": {
    "slideshow": {
     "slide_type": "slide"
    }
   },
   "source": [
    "# URLs\n",
    "\n",
    "- BigTable was originally designed to house web data (it originated from Google).\n",
    "\n",
    "- It is very common to use a URL as a row-key.\n",
    "\n",
    "- We would typically reverse the URL before using it as a key.\n",
    "\n",
    "- For example:\n",
    "\n",
    "`keats.kcl.ac.uk` becomes `uk.ac.kcl.keats`."
   ]
  },
  {
   "cell_type": "markdown",
   "metadata": {
    "slideshow": {
     "slide_type": "slide"
    }
   },
   "source": [
    "# Time stamps\n",
    "\n",
    "- HBase also allows multiple versions of the values associated with a given column for a given row.\n",
    "- We can optionally use this to index by the time-stamp of the datum.\n",
    "- For example, we might store several versions of a web page associated with a given URL.\n",
    "- The time-stamp dimension is optionally.\n",
    "- When writing data, if we do not specify the time-stamp, then the current system time is used.\n",
    "- When modifying data, the old value is kept along with the old time-stamp.\n",
    "- There are therefore three dimensions to the multi-dimensional map.\n",
    "- For some applications, we can use the time-dimension to store our own data."
   ]
  },
  {
   "cell_type": "markdown",
   "metadata": {
    "slideshow": {
     "slide_type": "slide"
    }
   },
   "source": [
    "# Epoch time\n",
    "\n",
    "- Time-stamps are stored as integers in [Unix epoch time](http://www.epochconverter.com/).\n",
    "- Epoch time is number of seconds that have elapsed since 00:00:00 Coordinated Universal Time (UTC), Thursday, 1 January 1970\n",
    "- To get the current epoch time on a Unix system:\n",
    "\n",
    "~~~bash\n",
    "date +%s\n",
    "~~~"
   ]
  },
  {
   "cell_type": "markdown",
   "metadata": {
    "slideshow": {
     "slide_type": "slide"
    }
   },
   "source": [
    "# Table operations\n",
    "\n",
    "- There are four core CRUD operations which we can perform on tables:\n",
    "\n",
    "    1. Get\n",
    "    2. Put\n",
    "    3. Delete\n",
    "    4. Scan\n",
    "\n",
    "- We execute them by either:\n",
    "    - Executing a command in the shell.\n",
    "    - Calling a Java method in the Java API.\n",
    "    - Calling a Python function in the Thrift API.\n",
    "    \n",
    "- On a big project, it is typically more practical to use the API than the shell."
   ]
  },
  {
   "cell_type": "markdown",
   "metadata": {
    "slideshow": {
     "slide_type": "slide"
    }
   },
   "source": [
    "# Get\n",
    "\n",
    "- Get returns attributes for a specified row-key and column(s).  \n",
    "\n",
    "- It can be used in several ways:\n",
    "    - Get everything for a row.\n",
    "    - To get all columns from specific column families.\n",
    "    - To get specific columns.\n",
    "    - To get values within a specified time range.\n",
    "\n",
    "- By default it will retrieve up to three versions of the data\n",
    "    - We can specify a different number each time we get."
   ]
  },
  {
   "cell_type": "markdown",
   "metadata": {
    "slideshow": {
     "slide_type": "slide"
    }
   },
   "source": [
    "# Put\n",
    "\n",
    "- Put can be used to insert new rows, or update existing rows.\n",
    "\n",
    "- We always specify a row key.\n",
    "\n",
    "- Where there is no existing value at a cell, new data is created.\n",
    "\n",
    "- If there is existing data, it is retained under the old time stamp."
   ]
  },
  {
   "cell_type": "markdown",
   "metadata": {
    "slideshow": {
     "slide_type": "slide"
    }
   },
   "source": [
    "# Delete\n",
    "\n",
    "- Delete a particular cell."
   ]
  },
  {
   "cell_type": "markdown",
   "metadata": {
    "slideshow": {
     "slide_type": "slide"
    }
   },
   "source": [
    "# Scan\n",
    "\n",
    "- Scan is used to retrieve a *range* of rows in one operation.\n",
    "\n",
    "- In its simplest form it will iterate over all rows in the table.\n",
    "\n",
    "- We can also specify a minimum and maximum row-key.\n",
    "\n",
    "- The ordering is given by the lexicographic ordering of the row-key itself.\n",
    "    - Ascending and descending are supported.\n",
    "    - Note that we cannot specify an arbitrary ordering of the data;\n",
    "    - there is no equivalent of SQL's `ORDER BY` clause.\n",
    "    "
   ]
  },
  {
   "cell_type": "markdown",
   "metadata": {
    "slideshow": {
     "slide_type": "slide"
    }
   },
   "source": [
    "# Tall-Narrow Versus Flat-Wide tables\n",
    "\n",
    "- In a column-oriented database we need to think carefully about the structure of the table in respect of the kinds of queries we want to support.\n",
    "\n",
    "- We can choose a tall-narrow design as opposed to a flat-wide design.\n",
    "    - Tall-narrow: very many rows, fewer columns\n",
    "    - Flat-wide: fewer rows, very many columns\n",
    "    \n",
    "- A tall-narrow design is more readily shard-able.\n",
    "    - Individual rows cannot be split across regions.\n",
    "    \n",
    "- A flat-wide design can be transformed into a tall-narrow design by storing additional data values in the row-key.\n",
    "\n",
    "- These attributes can be retrieved by scanning with a *partial-key*."
   ]
  },
  {
   "cell_type": "markdown",
   "metadata": {
    "slideshow": {
     "slide_type": "slide"
    }
   },
   "source": [
    "# Partial Key Scans\n",
    "\n",
    "- Because keys are sorted lexicographically, we can index several attributes simultaneously through concatenation.\n",
    "- e.g. suppose we use row`keys as with the following format:\n",
    "\n",
    "  `<userId>-<date>-<messageId>-<attachmentId>`\n",
    "  \n",
    "- We can then _scan_ the table by specifying a partial-key."
   ]
  },
  {
   "cell_type": "markdown",
   "metadata": {
    "slideshow": {
     "slide_type": "slide"
    }
   },
   "source": [
    "# Underlying data-structures.\n",
    "\n",
    "- The ordering over keys is provided by Log-Structured Merge Trees \\cite{Neil1996}.\n",
    "- In contrast to [B+ Trees](https://en.wikipedia.org/wiki/B\\%2B_tree) in traditional databases.\n",
    "- LSMT trees ensure that rows of tables can efficiently be read from disk sequentially.\n",
    "- The merging operation is scheduled in the background automatically.\n",
    "- No need to constantly optimise tables to avoid fragmentation of pages.\n",
    "- _Scanning_ a table over a large range is bound only by sequential IO latencies."
   ]
  },
  {
   "cell_type": "markdown",
   "metadata": {
    "slideshow": {
     "slide_type": "slide"
    }
   },
   "source": [
    "# CRUD operations from the shell\n",
    "\n",
    "- We can perform create, read, update and delete (CRUD) operations from the HBase shell.\n",
    "\n",
    "- To start the HBase shell type a command similar to the following from the Unix shell:\n",
    "\n",
    "`hbase shell`\n",
    "\n",
    "- To check the status of HBase use the command `status`."
   ]
  },
  {
   "cell_type": "markdown",
   "metadata": {
    "slideshow": {
     "slide_type": "slide"
    }
   },
   "source": [
    "## Types in HBase\n",
    "\n",
    "- HBase does not have any concept of data types.\n",
    "\n",
    "- All data is treated as binary data.\n"
   ]
  },
  {
   "cell_type": "markdown",
   "metadata": {
    "slideshow": {
     "slide_type": "slide"
    }
   },
   "source": [
    "## Unprintable characters\n",
    "\n",
    "- We can think of binary data as a sequence of bytes.\n",
    "\n",
    "- If we use utf8 or 8-bit ASCII, then we can represent binary data as a Python string.\n",
    "\n",
    "- Byte values which do not have an associated ASCII character are shown as [hexadecimal](https://en.wikipedia.org/wiki/Hexadecimal) values.\n",
    "\n",
    "- It is very easy to [convert between Hexadecimal and binary](http://www.ascii.cl/conversion.htm). \n"
   ]
  },
  {
   "cell_type": "code",
   "execution_count": 4,
   "metadata": {
    "collapsed": false,
    "slideshow": {
     "slide_type": "subslide"
    }
   },
   "outputs": [
    {
     "data": {
      "text/plain": [
       "'a'"
      ]
     },
     "execution_count": 4,
     "metadata": {},
     "output_type": "execute_result"
    }
   ],
   "source": [
    "chr(97)"
   ]
  },
  {
   "cell_type": "code",
   "execution_count": 5,
   "metadata": {
    "collapsed": false
   },
   "outputs": [
    {
     "data": {
      "text/plain": [
       "97"
      ]
     },
     "execution_count": 5,
     "metadata": {},
     "output_type": "execute_result"
    }
   ],
   "source": [
    "ord('a')"
   ]
  },
  {
   "cell_type": "code",
   "execution_count": 6,
   "metadata": {
    "collapsed": false
   },
   "outputs": [
    {
     "data": {
      "text/plain": [
       "'\\x00'"
      ]
     },
     "execution_count": 6,
     "metadata": {},
     "output_type": "execute_result"
    }
   ],
   "source": [
    "chr(0)"
   ]
  },
  {
   "cell_type": "markdown",
   "metadata": {
    "slideshow": {
     "slide_type": "subslide"
    }
   },
   "source": [
    "\n",
    "- We can write non-printable characters by prefixing the hexadecimal value with `\\x<value>`."
   ]
  },
  {
   "cell_type": "code",
   "execution_count": 7,
   "metadata": {
    "collapsed": false
   },
   "outputs": [
    {
     "data": {
      "text/plain": [
       "0"
      ]
     },
     "execution_count": 7,
     "metadata": {},
     "output_type": "execute_result"
    }
   ],
   "source": [
    "ord('\\x00')"
   ]
  },
  {
   "cell_type": "code",
   "execution_count": 8,
   "metadata": {
    "collapsed": false
   },
   "outputs": [
    {
     "data": {
      "text/plain": [
       "16"
      ]
     },
     "execution_count": 8,
     "metadata": {},
     "output_type": "execute_result"
    }
   ],
   "source": [
    "ord('\\x10')"
   ]
  },
  {
   "cell_type": "markdown",
   "metadata": {
    "slideshow": {
     "slide_type": "slide"
    }
   },
   "source": [
    "## Sequences of bytes\n",
    "\n",
    "- We can represent any 8-bit value as a character in Python.\n",
    "\n",
    "- We can represent arbitrary binary data as an ordered sequence of characters.\n"
   ]
  },
  {
   "cell_type": "markdown",
   "metadata": {
    "slideshow": {
     "slide_type": "fragment"
    }
   },
   "source": [
    "- This is simply a string.\n",
    "\n",
    "- For example, the sequence of bytes `0x0010` can be represented:\n"
   ]
  },
  {
   "cell_type": "code",
   "execution_count": 9,
   "metadata": {
    "collapsed": false,
    "slideshow": {
     "slide_type": "fragment"
    }
   },
   "outputs": [
    {
     "data": {
      "text/plain": [
       "'\\x00\\x10'"
      ]
     },
     "execution_count": 9,
     "metadata": {},
     "output_type": "execute_result"
    }
   ],
   "source": [
    "binary_data = '\\x00\\x10'\n",
    "binary_data"
   ]
  },
  {
   "cell_type": "code",
   "execution_count": 10,
   "metadata": {
    "collapsed": false,
    "slideshow": {
     "slide_type": "fragment"
    }
   },
   "outputs": [
    {
     "data": {
      "text/plain": [
       "'\\x00'"
      ]
     },
     "execution_count": 10,
     "metadata": {},
     "output_type": "execute_result"
    }
   ],
   "source": [
    "binary_data[0]"
   ]
  },
  {
   "cell_type": "markdown",
   "metadata": {
    "slideshow": {
     "slide_type": "slide"
    }
   },
   "source": [
    "## Lexicographic ordering of binary data\n",
    "\n",
    "- We can compare strings according to their alphabetic ordering; e.g.:\n",
    "    \n",
    "    "
   ]
  },
  {
   "cell_type": "code",
   "execution_count": 11,
   "metadata": {
    "collapsed": false
   },
   "outputs": [
    {
     "data": {
      "text/plain": [
       "True"
      ]
     },
     "execution_count": 11,
     "metadata": {},
     "output_type": "execute_result"
    }
   ],
   "source": [
    "'alpha' < 'beta'"
   ]
  },
  {
   "cell_type": "code",
   "execution_count": 12,
   "metadata": {
    "collapsed": false
   },
   "outputs": [
    {
     "data": {
      "text/plain": [
       "True"
      ]
     },
     "execution_count": 12,
     "metadata": {},
     "output_type": "execute_result"
    }
   ],
   "source": [
    "'smith' < 'steve'"
   ]
  },
  {
   "cell_type": "markdown",
   "metadata": {
    "slideshow": {
     "slide_type": "subslide"
    }
   },
   "source": [
    "- This still works with unprintable characters:"
   ]
  },
  {
   "cell_type": "code",
   "execution_count": 13,
   "metadata": {
    "collapsed": false
   },
   "outputs": [],
   "source": [
    "x = '\\x0f\\x09\\x05\\x10\\x04'\n",
    "y = '\\x0f\\x10\\x01\\x12\\x01'\n"
   ]
  },
  {
   "cell_type": "code",
   "execution_count": 14,
   "metadata": {
    "collapsed": false
   },
   "outputs": [
    {
     "name": "stdout",
     "output_type": "stream",
     "text": [
      "<type 'str'>\n",
      "<type 'str'>\n"
     ]
    }
   ],
   "source": [
    "print type(x)\n",
    "print type(y)"
   ]
  },
  {
   "cell_type": "code",
   "execution_count": 15,
   "metadata": {
    "collapsed": false
   },
   "outputs": [
    {
     "data": {
      "text/plain": [
       "True"
      ]
     },
     "execution_count": 15,
     "metadata": {},
     "output_type": "execute_result"
    }
   ],
   "source": [
    "x < y"
   ]
  },
  {
   "cell_type": "markdown",
   "metadata": {
    "slideshow": {
     "slide_type": "slide"
    }
   },
   "source": [
    "### Indexing binary data\n",
    "\n",
    "- Binary data can be considered as a sequence of bits.\n",
    "\n",
    "- Therefore it can be considered as a sequence of bytes.\n",
    "\n",
    "- Therefore binary data can be represented as a string.\n",
    "\n",
    "- Therefore binary data can be compared and sorted.\n",
    "\n",
    "- Therefore we can order binary data and store it in, e.g. a tree.\n",
    "\n",
    "- Therefore binary data can be *indexed*."
   ]
  },
  {
   "cell_type": "markdown",
   "metadata": {
    "slideshow": {
     "slide_type": "slide"
    }
   },
   "source": [
    "### Converting to and from binary data\n",
    "\n",
    "- All values in Python are ultimately stored as binary data.\n",
    "\n",
    "- This is usually hidden from the programmer.\n",
    "\n",
    "- When working with HBase we will often need to deal explicitly with the binary representation.\n",
    "\n",
    "- This is sometimes called *serialization*.\n",
    "\n",
    "- We can use Python's [struct class](https://docs.python.org/2/library/struct.html) to do this."
   ]
  },
  {
   "cell_type": "code",
   "execution_count": 1,
   "metadata": {
    "collapsed": false,
    "slideshow": {
     "slide_type": "subslide"
    }
   },
   "outputs": [
    {
     "data": {
      "text/plain": [
       "'\\x18-DT\\xfb!\\t@'"
      ]
     },
     "execution_count": 1,
     "metadata": {},
     "output_type": "execute_result"
    }
   ],
   "source": [
    "import struct\n",
    "import binascii\n",
    "\n",
    "data = 3.141592653589793\n",
    "float64s = struct.Struct('d')\n",
    "pi_in_binary = float64s.pack(data)\n",
    "pi_in_binary"
   ]
  },
  {
   "cell_type": "markdown",
   "metadata": {
    "slideshow": {
     "slide_type": "subslide"
    }
   },
   "source": [
    "- Because some of the characters are printable, it is hard to interpret the above string.\n",
    "\n",
    "- When dealing with binary data we often want to sequence of bits, or more conveniently the sequence of bytes represented in hexadecimal.\n",
    "\n",
    "- The `hexlify()` function in the `binascii` module will do this:"
   ]
  },
  {
   "cell_type": "code",
   "execution_count": 2,
   "metadata": {
    "collapsed": false
   },
   "outputs": [
    {
     "data": {
      "text/plain": [
       "'182d4454fb210940'"
      ]
     },
     "execution_count": 2,
     "metadata": {},
     "output_type": "execute_result"
    }
   ],
   "source": [
    "binascii.hexlify(pi_in_binary)"
   ]
  },
  {
   "cell_type": "code",
   "execution_count": 18,
   "metadata": {
    "collapsed": false,
    "slideshow": {
     "slide_type": "subslide"
    }
   },
   "outputs": [
    {
     "data": {
      "text/plain": [
       "'0500000000000000'"
      ]
     },
     "execution_count": 18,
     "metadata": {},
     "output_type": "execute_result"
    }
   ],
   "source": [
    "import struct\n",
    "import binascii\n",
    "\n",
    "data = 5\n",
    "integer64s = struct.Struct('l')\n",
    "binary_data = integer64s.pack(data)\n",
    "binascii.hexlify(binary_data)"
   ]
  },
  {
   "cell_type": "code",
   "execution_count": 19,
   "metadata": {
    "collapsed": false,
    "slideshow": {
     "slide_type": "subslide"
    }
   },
   "outputs": [
    {
     "data": {
      "text/plain": [
       "'fbffffffffffffff'"
      ]
     },
     "execution_count": 19,
     "metadata": {},
     "output_type": "execute_result"
    }
   ],
   "source": [
    "data = -5\n",
    "integer64s = struct.Struct('l')\n",
    "binary_data = integer64s.pack(data)\n",
    "binascii.hexlify(binary_data)"
   ]
  },
  {
   "cell_type": "markdown",
   "metadata": {
    "slideshow": {
     "slide_type": "slide"
    }
   },
   "source": [
    "## Deserializing\n"
   ]
  },
  {
   "cell_type": "code",
   "execution_count": 3,
   "metadata": {
    "collapsed": false
   },
   "outputs": [
    {
     "data": {
      "text/plain": [
       "(3.141592653589793,)"
      ]
     },
     "execution_count": 3,
     "metadata": {},
     "output_type": "execute_result"
    }
   ],
   "source": [
    "original_data = float64s.unpack(pi_in_binary)\n",
    "original_data"
   ]
  },
  {
   "cell_type": "code",
   "execution_count": 4,
   "metadata": {
    "collapsed": false
   },
   "outputs": [
    {
     "data": {
      "text/plain": [
       "3.141592653589793"
      ]
     },
     "execution_count": 4,
     "metadata": {},
     "output_type": "execute_result"
    }
   ],
   "source": [
    "original_value = original_data[0]\n",
    "original_value"
   ]
  },
  {
   "cell_type": "markdown",
   "metadata": {
    "slideshow": {
     "slide_type": "slide"
    }
   },
   "source": [
    "## Big- and Little-Endian formats\n",
    "\n",
    "- When we use decimal, by convention we write the most-significant digit on the left, and proceed towards the least-significant digit on the right.\n",
    "\n",
    "- This is called a [Big-endian](https://en.wikipedia.org/wiki/Endianness#Big-endian) format. \n",
    "\n",
    "- We can also use the opposite convention, which is [Little-endian](https://en.wikipedia.org/wiki/Endianness#Little-endian).\n",
    "\n",
    "- Different CPUs use different formats.\n",
    "\n",
    "- Intel processors use the Little-endian format.\n",
    "\n",
    "- The convention used by the CPU is called the *native* format.\n",
    "\n",
    "- If we want to make our data portable between machines, e.g. transmit it over the network, we may have to specify a particular convention."
   ]
  },
  {
   "cell_type": "markdown",
   "metadata": {
    "slideshow": {
     "slide_type": "slide"
    }
   },
   "source": [
    "## Endian conversions in Python\n",
    "\n"
   ]
  },
  {
   "cell_type": "code",
   "execution_count": 20,
   "metadata": {
    "collapsed": false
   },
   "outputs": [
    {
     "data": {
      "text/plain": [
       "'0001'"
      ]
     },
     "execution_count": 20,
     "metadata": {},
     "output_type": "execute_result"
    }
   ],
   "source": [
    "big_endian_short_int = struct.Struct('>h')\n",
    "v = big_endian_short_int.pack(1)\n",
    "binascii.hexlify(v)"
   ]
  },
  {
   "cell_type": "code",
   "execution_count": 21,
   "metadata": {
    "collapsed": false
   },
   "outputs": [
    {
     "data": {
      "text/plain": [
       "'0100'"
      ]
     },
     "execution_count": 21,
     "metadata": {},
     "output_type": "execute_result"
    }
   ],
   "source": [
    "little_endian_short_int = struct.Struct('<h')\n",
    "v = little_endian_short_int.pack(1)\n",
    "binascii.hexlify(v)"
   ]
  },
  {
   "cell_type": "code",
   "execution_count": 22,
   "metadata": {
    "collapsed": false
   },
   "outputs": [
    {
     "data": {
      "text/plain": [
       "'fffe'"
      ]
     },
     "execution_count": 22,
     "metadata": {},
     "output_type": "execute_result"
    }
   ],
   "source": [
    "big_endian_short_int = struct.Struct('>h')\n",
    "v = big_endian_short_int.pack(-2)\n",
    "binascii.hexlify(v)"
   ]
  },
  {
   "cell_type": "code",
   "execution_count": 23,
   "metadata": {
    "collapsed": false
   },
   "outputs": [
    {
     "data": {
      "text/plain": [
       "'feff'"
      ]
     },
     "execution_count": 23,
     "metadata": {},
     "output_type": "execute_result"
    }
   ],
   "source": [
    "little_endian_short_int = struct.Struct('<h')\n",
    "v = little_endian_short_int.pack(-2)\n",
    "binascii.hexlify(v)"
   ]
  },
  {
   "cell_type": "code",
   "execution_count": 26,
   "metadata": {
    "collapsed": false
   },
   "outputs": [
    {
     "data": {
      "text/plain": [
       "float"
      ]
     },
     "execution_count": 26,
     "metadata": {},
     "output_type": "execute_result"
    }
   ],
   "source": [
    "type(original_value)"
   ]
  },
  {
   "cell_type": "markdown",
   "metadata": {
    "slideshow": {
     "slide_type": "slide"
    }
   },
   "source": [
    "## Serializing multiple values"
   ]
  },
  {
   "cell_type": "code",
   "execution_count": 27,
   "metadata": {
    "collapsed": false,
    "slideshow": {
     "slide_type": "-"
    }
   },
   "outputs": [
    {
     "name": "stdout",
     "output_type": "stream",
     "text": [
      "Original values: (1, 'hello', 2.7)\n",
      "Format string  : I 5s d\n",
      "Uses           : 24 bytes\n",
      "Packed Value   : 0100000068656c6c6f000000000000009a99999999990540\n"
     ]
    }
   ],
   "source": [
    "import struct\n",
    "import binascii\n",
    "\n",
    "values = (1, 'hello', 2.7)\n",
    "s = struct.Struct('I 5s d')\n",
    "serialized = s.pack(*values)\n",
    "\n",
    "print 'Original values:', values\n",
    "print 'Format string  :', s.format\n",
    "print 'Uses           :', s.size, 'bytes'\n",
    "print 'Packed Value   :', binascii.hexlify(serialized)"
   ]
  },
  {
   "cell_type": "code",
   "execution_count": 28,
   "metadata": {
    "collapsed": false,
    "slideshow": {
     "slide_type": "fragment"
    }
   },
   "outputs": [
    {
     "data": {
      "text/plain": [
       "(1, 'hello', 2.7)"
      ]
     },
     "execution_count": 28,
     "metadata": {},
     "output_type": "execute_result"
    }
   ],
   "source": [
    "s.unpack(serialized)"
   ]
  },
  {
   "cell_type": "markdown",
   "metadata": {
    "slideshow": {
     "slide_type": "slide"
    }
   },
   "source": [
    "## HappyBase Prerequisites\n",
    "\n",
    "1. Install the [`happybase`](http://happybase.readthedocs.org/en/latest/) package:\n",
    "~~~bash\n",
    "conda install -c https://conda.anaconda.org/auto \\\n",
    "        happybase\n",
    "~~~\n",
    "2. Start HBase:\n",
    "~~~bash\n",
    "cd hbase-1.1.2/bin\n",
    "./start-hbase.sh\n",
    "~~~\n",
    "3. Start the HBase Thrift server:\n",
    "~~~\n",
    "./hbase thrift start\n",
    "~~~"
   ]
  },
  {
   "cell_type": "markdown",
   "metadata": {
    "slideshow": {
     "slide_type": "subslide"
    }
   },
   "source": [
    "- Once the thrift server is up and running you can obtain a connection from Python:"
   ]
  },
  {
   "cell_type": "code",
   "execution_count": 29,
   "metadata": {
    "collapsed": false,
    "slideshow": {
     "slide_type": "-"
    }
   },
   "outputs": [],
   "source": [
    "import happybase\n",
    "\n",
    "host = '127.0.0.1'\n",
    "connection = happybase.Connection(host)"
   ]
  },
  {
   "cell_type": "markdown",
   "metadata": {
    "slideshow": {
     "slide_type": "slide"
    }
   },
   "source": [
    "## Creating a table"
   ]
  },
  {
   "cell_type": "code",
   "execution_count": 30,
   "metadata": {
    "collapsed": false
   },
   "outputs": [],
   "source": [
    "table_name = 'my_table'\n",
    "connection.create_table(table_name,\n",
    "                        { 'color': dict(max_versions=10),\n",
    "                          'shape': dict(max_versions=1)\n",
    "                         })"
   ]
  },
  {
   "cell_type": "markdown",
   "metadata": {
    "slideshow": {
     "slide_type": "slide"
    }
   },
   "source": [
    "## Put\n",
    "\n"
   ]
  },
  {
   "cell_type": "code",
   "execution_count": 31,
   "metadata": {
    "collapsed": false
   },
   "outputs": [
    {
     "data": {
      "text/plain": [
       "'\\x04\\x00'"
      ]
     },
     "execution_count": 31,
     "metadata": {},
     "output_type": "execute_result"
    }
   ],
   "source": [
    "integer16s = struct.Struct('h')\n",
    "four_as_bytes = integer16s.pack(4) \n",
    "four_as_bytes"
   ]
  },
  {
   "cell_type": "code",
   "execution_count": 32,
   "metadata": {
    "collapsed": true
   },
   "outputs": [],
   "source": [
    "table = connection.table('my_table')\n",
    "table.put('first', {'shape:square': four_as_bytes} )"
   ]
  },
  {
   "cell_type": "markdown",
   "metadata": {
    "slideshow": {
     "slide_type": "slide"
    }
   },
   "source": [
    "## Batch operations"
   ]
  },
  {
   "cell_type": "code",
   "execution_count": 33,
   "metadata": {
    "collapsed": false
   },
   "outputs": [],
   "source": [
    "b = table.batch()\n",
    "b.put('first', {\n",
    "        'color:red': '\\xff\\x00\\x00', \n",
    "        'color:blue': '\\x00\\x00\\xff', \n",
    "        'color:yellow': '\\xff\\xff\\x00'\n",
    "        })\n",
    "b.put('second', {'shape:triangle': integer16s.pack(3)})\n",
    "b.send()"
   ]
  },
  {
   "cell_type": "markdown",
   "metadata": {
    "slideshow": {
     "slide_type": "slide"
    }
   },
   "source": [
    "## Get"
   ]
  },
  {
   "cell_type": "markdown",
   "metadata": {},
   "source": [
    "To retrieve a particular cell:"
   ]
  },
  {
   "cell_type": "code",
   "execution_count": 34,
   "metadata": {
    "collapsed": false,
    "slideshow": {
     "slide_type": "-"
    }
   },
   "outputs": [
    {
     "data": {
      "text/plain": [
       "{'shape:square': '\\x04\\x00'}"
      ]
     },
     "execution_count": 34,
     "metadata": {},
     "output_type": "execute_result"
    }
   ],
   "source": [
    "result = table.row('first', columns=['shape:square'])\n",
    "result"
   ]
  },
  {
   "cell_type": "code",
   "execution_count": 35,
   "metadata": {
    "collapsed": true
   },
   "outputs": [],
   "source": [
    "binary_data = result['shape:square']"
   ]
  },
  {
   "cell_type": "code",
   "execution_count": 36,
   "metadata": {
    "collapsed": false
   },
   "outputs": [
    {
     "data": {
      "text/plain": [
       "4"
      ]
     },
     "execution_count": 36,
     "metadata": {},
     "output_type": "execute_result"
    }
   ],
   "source": [
    "number_of_sides = integer16s.unpack(binary_data)[0]\n",
    "number_of_sides"
   ]
  },
  {
   "cell_type": "code",
   "execution_count": 37,
   "metadata": {
    "collapsed": false
   },
   "outputs": [
    {
     "data": {
      "text/plain": [
       "int"
      ]
     },
     "execution_count": 37,
     "metadata": {},
     "output_type": "execute_result"
    }
   ],
   "source": [
    "type(number_of_sides)"
   ]
  },
  {
   "cell_type": "markdown",
   "metadata": {
    "slideshow": {
     "slide_type": "subslide"
    }
   },
   "source": [
    "## Retrieving multiple columns\n",
    "\n"
   ]
  },
  {
   "cell_type": "code",
   "execution_count": 38,
   "metadata": {
    "collapsed": false
   },
   "outputs": [
    {
     "data": {
      "text/plain": [
       "{'color:blue': '\\x00\\x00\\xff', 'shape:square': '\\x04\\x00'}"
      ]
     },
     "execution_count": 38,
     "metadata": {},
     "output_type": "execute_result"
    }
   ],
   "source": [
    "result = table.row('first', columns=['shape:square', 'color:blue'])\n",
    "result"
   ]
  },
  {
   "cell_type": "markdown",
   "metadata": {
    "slideshow": {
     "slide_type": "subslide"
    }
   },
   "source": [
    "- We can also retrieve an entire column-family:"
   ]
  },
  {
   "cell_type": "code",
   "execution_count": 39,
   "metadata": {
    "collapsed": false
   },
   "outputs": [
    {
     "data": {
      "text/plain": [
       "{'color:blue': '\\x00\\x00\\xff',\n",
       " 'color:red': '\\xff\\x00\\x00',\n",
       " 'color:yellow': '\\xff\\xff\\x00'}"
      ]
     },
     "execution_count": 39,
     "metadata": {},
     "output_type": "execute_result"
    }
   ],
   "source": [
    "result = table.row('first', columns=['color'])\n",
    "result"
   ]
  },
  {
   "cell_type": "markdown",
   "metadata": {
    "slideshow": {
     "slide_type": "subslide"
    }
   },
   "source": [
    "- Or an entire row:"
   ]
  },
  {
   "cell_type": "code",
   "execution_count": 40,
   "metadata": {
    "collapsed": false
   },
   "outputs": [
    {
     "data": {
      "text/plain": [
       "{'color:blue': '\\x00\\x00\\xff',\n",
       " 'color:red': '\\xff\\x00\\x00',\n",
       " 'color:yellow': '\\xff\\xff\\x00',\n",
       " 'shape:square': '\\x04\\x00'}"
      ]
     },
     "execution_count": 40,
     "metadata": {},
     "output_type": "execute_result"
    }
   ],
   "source": [
    "table.row('first')"
   ]
  },
  {
   "cell_type": "markdown",
   "metadata": {
    "slideshow": {
     "slide_type": "slide"
    }
   },
   "source": [
    "## Scanning a table\n"
   ]
  },
  {
   "cell_type": "code",
   "execution_count": 41,
   "metadata": {
    "collapsed": false
   },
   "outputs": [
    {
     "name": "stdout",
     "output_type": "stream",
     "text": [
      "first {'color:blue': '\\x00\\x00\\xff', 'color:red': '\\xff\\x00\\x00', 'shape:square': '\\x04\\x00', 'color:yellow': '\\xff\\xff\\x00'}\n",
      "second {'shape:triangle': '\\x03\\x00'}\n"
     ]
    }
   ],
   "source": [
    "for row_key, data in table.scan():\n",
    "    print row_key, data"
   ]
  },
  {
   "cell_type": "code",
   "execution_count": 42,
   "metadata": {
    "collapsed": false
   },
   "outputs": [
    {
     "data": {
      "text/plain": [
       "{'shape:square': '\\x04\\x00'}"
      ]
     },
     "execution_count": 42,
     "metadata": {},
     "output_type": "execute_result"
    }
   ],
   "source": [
    "table.row('first', columns=['shape:square', 'shape:triangle'])"
   ]
  },
  {
   "cell_type": "markdown",
   "metadata": {
    "slideshow": {
     "slide_type": "slide"
    }
   },
   "source": [
    "## Using URLs as row keys\n",
    "\n",
    "It is very common to use a URL as the row key."
   ]
  },
  {
   "cell_type": "code",
   "execution_count": 43,
   "metadata": {
    "collapsed": false
   },
   "outputs": [],
   "source": [
    "urls = [\n",
    "    \"http://www.google.com/\",\n",
    "\"http://www.baidu.com/\",\n",
    "\"http://www.facebook.com/\",\n",
    "\"http://www.youtube.com/\",\n",
    "\"http://www.yahoo.com/\",\n",
    "\"http://www.wikipedia.org/\",\n",
    "\"http://www.taobao.com/\",\n",
    "\"http://www.qq.com/\",\n",
    "\"http://www.amazon.com/\",\n",
    "\"http://www.live.com/\",\n",
    "\"http://www.twitter.com/\",\n",
    "\"http://www.weibo.com/\",\n",
    "\"http://www.google.co.in/\",\n",
    "\"http://www.tmall.com/\",\n",
    "\"http://www.linkedin.com/\",\n",
    "\"http://www.blogspot.com/\",\n",
    "\"http://www.google.co.jp/\",\n",
    "\"http://www.google.de/\"\n",
    "    ]"
   ]
  },
  {
   "cell_type": "markdown",
   "metadata": {
    "slideshow": {
     "slide_type": "slide"
    }
   },
   "source": [
    " ### Reversing URLs\n",
    " \n",
    " - It is very useful to reverse the order of the domain names when storing them in an ordered-sequence.\n",
    " \n",
    " - This will allow us to retreive, e.g. all of the \".com\" URLs using a scan on a *partial key*.\n",
    " \n",
    " - Let's parse the URLs and then reverse the domain names, and then store the result in a list with the reversed domain and the original URL."
   ]
  },
  {
   "cell_type": "code",
   "execution_count": 44,
   "metadata": {
    "collapsed": false,
    "slideshow": {
     "slide_type": "subslide"
    }
   },
   "outputs": [
    {
     "data": {
      "text/plain": [
       "[('com.google.www', 'http://www.google.com/'),\n",
       " ('com.baidu.www', 'http://www.baidu.com/'),\n",
       " ('com.facebook.www', 'http://www.facebook.com/'),\n",
       " ('com.youtube.www', 'http://www.youtube.com/'),\n",
       " ('com.yahoo.www', 'http://www.yahoo.com/'),\n",
       " ('org.wikipedia.www', 'http://www.wikipedia.org/'),\n",
       " ('com.taobao.www', 'http://www.taobao.com/'),\n",
       " ('com.qq.www', 'http://www.qq.com/'),\n",
       " ('com.amazon.www', 'http://www.amazon.com/'),\n",
       " ('com.live.www', 'http://www.live.com/'),\n",
       " ('com.twitter.www', 'http://www.twitter.com/'),\n",
       " ('com.weibo.www', 'http://www.weibo.com/'),\n",
       " ('in.co.google.www', 'http://www.google.co.in/'),\n",
       " ('com.tmall.www', 'http://www.tmall.com/'),\n",
       " ('com.linkedin.www', 'http://www.linkedin.com/'),\n",
       " ('com.blogspot.www', 'http://www.blogspot.com/'),\n",
       " ('jp.co.google.www', 'http://www.google.co.jp/'),\n",
       " ('de.google.www', 'http://www.google.de/')]"
      ]
     },
     "execution_count": 44,
     "metadata": {},
     "output_type": "execute_result"
    }
   ],
   "source": [
    "import urlparse as up\n",
    "\n",
    "def reverse_domain(dom):\n",
    "    result = dom.split('.')\n",
    "    result.reverse()\n",
    "    return reduce(lambda x, y: x + '.' + y, result)\n",
    "\n",
    "reversed_domains = \\\n",
    "    [(reverse_domain(up.urlparse(i).netloc), i) for i in urls]\n",
    "reversed_domains"
   ]
  },
  {
   "cell_type": "markdown",
   "metadata": {
    "slideshow": {
     "slide_type": "slide"
    }
   },
   "source": [
    "### Storing the URLs in the database\n",
    "\n",
    "- We will now create a simple table called `pages` with a single column family `d`:"
   ]
  },
  {
   "cell_type": "code",
   "execution_count": 45,
   "metadata": {
    "collapsed": false
   },
   "outputs": [],
   "source": [
    "connection.create_table('pages', { 'd': dict() })"
   ]
  },
  {
   "cell_type": "markdown",
   "metadata": {},
   "source": [
    "- We will store the details of each URL on each row.\n",
    "\n",
    "- We will use a single column `times_crawled` to represent the number of times we have crawled the URL."
   ]
  },
  {
   "cell_type": "code",
   "execution_count": 46,
   "metadata": {
    "collapsed": false
   },
   "outputs": [],
   "source": [
    "integer64s = struct.Struct('I')\n",
    "pages_table = connection.table('pages')\n",
    "b = pages_table.batch()\n",
    "for (reversed_domain, url) in reversed_domains:\n",
    "    b.put(reversed_domain, {'d:url': str(url), 'd:times_crawled': integer64s.pack(0)})\n",
    "b.send()"
   ]
  },
  {
   "cell_type": "code",
   "execution_count": 47,
   "metadata": {
    "collapsed": false,
    "slideshow": {
     "slide_type": "subslide"
    }
   },
   "outputs": [
    {
     "name": "stdout",
     "output_type": "stream",
     "text": [
      "http://www.amazon.com/ was crawled 0 times\n",
      "http://www.baidu.com/ was crawled 0 times\n",
      "http://www.blogspot.com/ was crawled 0 times\n",
      "http://www.facebook.com/ was crawled 0 times\n",
      "http://www.google.com/ was crawled 0 times\n",
      "http://www.linkedin.com/ was crawled 0 times\n",
      "http://www.live.com/ was crawled 0 times\n",
      "http://www.qq.com/ was crawled 0 times\n",
      "http://www.taobao.com/ was crawled 0 times\n",
      "http://www.tmall.com/ was crawled 0 times\n",
      "http://www.twitter.com/ was crawled 0 times\n",
      "http://www.weibo.com/ was crawled 0 times\n",
      "http://www.yahoo.com/ was crawled 0 times\n",
      "http://www.youtube.com/ was crawled 0 times\n",
      "http://www.google.de/ was crawled 0 times\n",
      "http://www.google.co.in/ was crawled 0 times\n",
      "http://www.google.co.jp/ was crawled 0 times\n",
      "http://www.wikipedia.org/ was crawled 0 times\n"
     ]
    }
   ],
   "source": [
    "def to_int(bytes):\n",
    "    return integer64s.unpack(bytes)[0]\n",
    "\n",
    "for (url, data) in pages_table.scan():\n",
    "    print data['d:url'], \"was crawled\", \\\n",
    "        to_int(data['d:times_crawled']), \"times\""
   ]
  },
  {
   "cell_type": "markdown",
   "metadata": {
    "slideshow": {
     "slide_type": "slide"
    }
   },
   "source": [
    "## Partial key scans"
   ]
  },
  {
   "cell_type": "markdown",
   "metadata": {},
   "source": [
    "- We can now retreive URLs for a top-level domain by specifying a *partial key*.\n",
    "\n",
    "- Here we specify a row *prefix* parameter of `com.`\n",
    "\n",
    "- Because we have reversed the domain names this will allow us to retrieve particular top-level domains."
   ]
  },
  {
   "cell_type": "code",
   "execution_count": 48,
   "metadata": {
    "collapsed": false,
    "slideshow": {
     "slide_type": "subslide"
    }
   },
   "outputs": [
    {
     "name": "stdout",
     "output_type": "stream",
     "text": [
      "http://www.amazon.com/ was crawled 0 times\n",
      "http://www.baidu.com/ was crawled 0 times\n",
      "http://www.blogspot.com/ was crawled 0 times\n",
      "http://www.facebook.com/ was crawled 0 times\n",
      "http://www.google.com/ was crawled 0 times\n",
      "http://www.linkedin.com/ was crawled 0 times\n",
      "http://www.live.com/ was crawled 0 times\n",
      "http://www.qq.com/ was crawled 0 times\n",
      "http://www.taobao.com/ was crawled 0 times\n",
      "http://www.tmall.com/ was crawled 0 times\n",
      "http://www.twitter.com/ was crawled 0 times\n",
      "http://www.weibo.com/ was crawled 0 times\n",
      "http://www.yahoo.com/ was crawled 0 times\n",
      "http://www.youtube.com/ was crawled 0 times\n"
     ]
    }
   ],
   "source": [
    "for url, data in pages_table.scan(row_prefix=\"com.\"):\n",
    "    print data['d:url'], \"was crawled\", \\\n",
    "        to_int(data['d:times_crawled']), \"times\""
   ]
  },
  {
   "cell_type": "code",
   "execution_count": 49,
   "metadata": {
    "collapsed": false,
    "slideshow": {
     "slide_type": "subslide"
    }
   },
   "outputs": [
    {
     "name": "stdout",
     "output_type": "stream",
     "text": [
      "http://www.google.de/ was crawled 0 times\n"
     ]
    }
   ],
   "source": [
    "for url, data in pages_table.scan(row_prefix=\"de.\"):\n",
    "    print data['d:url'], \"was crawled\", \\\n",
    "        to_int(data['d:times_crawled']), \"times\""
   ]
  }
 ],
 "metadata": {
  "celltoolbar": "Slideshow",
  "kernelspec": {
   "display_name": "Python 2",
   "language": "python",
   "name": "python2"
  },
  "language_info": {
   "codemirror_mode": {
    "name": "ipython",
    "version": 2
   },
   "file_extension": ".py",
   "mimetype": "text/x-python",
   "name": "python",
   "nbconvert_exporter": "python",
   "pygments_lexer": "ipython2",
   "version": "2.7.11"
  }
 },
 "nbformat": 4,
 "nbformat_minor": 0
}
