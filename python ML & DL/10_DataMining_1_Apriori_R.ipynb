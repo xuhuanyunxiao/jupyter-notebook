{
 "cells": [
  {
   "cell_type": "markdown",
   "metadata": {},
   "source": [
    "基于R的关联规则算法：Apriori"
   ]
  },
  {
   "cell_type": "markdown",
   "metadata": {},
   "source": [
    "# load packages"
   ]
  },
  {
   "cell_type": "code",
   "execution_count": 5,
   "metadata": {
    "ExecuteTime": {
     "end_time": "2019-04-19T01:40:06.452467Z",
     "start_time": "2019-04-19T01:40:06.412Z"
    }
   },
   "outputs": [],
   "source": [
    "# if(!require(arules)){install.packages(\"arules\")}\n",
    "# if(!require(arulesViz)){install.packages(\"arulesViz\")}"
   ]
  },
  {
   "cell_type": "code",
   "execution_count": 4,
   "metadata": {
    "ExecuteTime": {
     "end_time": "2019-04-19T01:38:28.747488Z",
     "start_time": "2019-04-19T01:38:23.997Z"
    }
   },
   "outputs": [
    {
     "name": "stderr",
     "output_type": "stream",
     "text": [
      "Warning message:\n",
      "\"package 'arules' was built under R version 3.5.3\"Loading required package: Matrix\n",
      "\n",
      "Attaching package: 'arules'\n",
      "\n",
      "The following objects are masked from 'package:base':\n",
      "\n",
      "    abbreviate, write\n",
      "\n",
      "Warning message:\n",
      "\"package 'arulesViz' was built under R version 3.5.3\"Loading required package: grid\n"
     ]
    }
   ],
   "source": [
    "library('arules')\n",
    "library('arulesViz')"
   ]
  },
  {
   "cell_type": "markdown",
   "metadata": {},
   "source": [
    "# load data: 杂货集数据"
   ]
  },
  {
   "cell_type": "code",
   "execution_count": 7,
   "metadata": {
    "ExecuteTime": {
     "end_time": "2019-04-19T01:40:54.496872Z",
     "start_time": "2019-04-19T01:40:54.435Z"
    }
   },
   "outputs": [
    {
     "data": {
      "text/plain": [
       "transactions in sparse format with\n",
       " 9835 transactions (rows) and\n",
       " 169 items (columns)"
      ]
     },
     "metadata": {},
     "output_type": "display_data"
    }
   ],
   "source": [
    "# arules 包自带数据集 Groceries\n",
    "data(Groceries)\n",
    "Groceries"
   ]
  },
  {
   "cell_type": "markdown",
   "metadata": {},
   "source": [
    "# explore data"
   ]
  },
  {
   "cell_type": "code",
   "execution_count": 10,
   "metadata": {
    "ExecuteTime": {
     "end_time": "2019-04-19T01:46:08.337090Z",
     "start_time": "2019-04-19T01:46:08.260Z"
    }
   },
   "outputs": [
    {
     "data": {
      "text/plain": [
       "transactions as itemMatrix in sparse format with\n",
       " 9835 rows (elements/itemsets/transactions) and\n",
       " 169 columns (items) and a density of 0.02609146 \n",
       "\n",
       "most frequent items:\n",
       "      whole milk other vegetables       rolls/buns             soda \n",
       "            2513             1903             1809             1715 \n",
       "          yogurt          (Other) \n",
       "            1372            34055 \n",
       "\n",
       "element (itemset/transaction) length distribution:\n",
       "sizes\n",
       "   1    2    3    4    5    6    7    8    9   10   11   12   13   14   15   16 \n",
       "2159 1643 1299 1005  855  645  545  438  350  246  182  117   78   77   55   46 \n",
       "  17   18   19   20   21   22   23   24   26   27   28   29   32 \n",
       "  29   14   14    9   11    4    6    1    1    1    1    3    1 \n",
       "\n",
       "   Min. 1st Qu.  Median    Mean 3rd Qu.    Max. \n",
       "  1.000   2.000   3.000   4.409   6.000  32.000 \n",
       "\n",
       "includes extended item information - examples:\n",
       "       labels  level2           level1\n",
       "1 frankfurter sausage meat and sausage\n",
       "2     sausage sausage meat and sausage\n",
       "3  liver loaf sausage meat and sausage"
      ]
     },
     "metadata": {},
     "output_type": "display_data"
    }
   ],
   "source": [
    "summary(Groceries)"
   ]
  },
  {
   "cell_type": "code",
   "execution_count": 13,
   "metadata": {
    "ExecuteTime": {
     "end_time": "2019-04-19T01:49:05.827390Z",
     "start_time": "2019-04-19T01:49:05.782Z"
    }
   },
   "outputs": [
    {
     "data": {
      "text/html": [
       "'transactions'"
      ],
      "text/latex": [
       "'transactions'"
      ],
      "text/markdown": [
       "'transactions'"
      ],
      "text/plain": [
       "[1] \"transactions\"\n",
       "attr(,\"package\")\n",
       "[1] \"arules\""
      ]
     },
     "metadata": {},
     "output_type": "display_data"
    }
   ],
   "source": [
    "class(Groceries)"
   ]
  },
  {
   "cell_type": "code",
   "execution_count": 21,
   "metadata": {
    "ExecuteTime": {
     "end_time": "2019-04-19T01:58:48.173436Z",
     "start_time": "2019-04-19T01:58:48.103Z"
    }
   },
   "outputs": [
    {
     "data": {
      "text/html": [
       "<table>\n",
       "<thead><tr><th scope=col>labels</th><th scope=col>level2</th><th scope=col>level1</th></tr></thead>\n",
       "<tbody>\n",
       "\t<tr><td>frankfurter         </td><td>sausage             </td><td>meat and sausage    </td></tr>\n",
       "\t<tr><td>sausage             </td><td>sausage             </td><td>meat and sausage    </td></tr>\n",
       "\t<tr><td>liver loaf          </td><td>sausage             </td><td>meat and sausage    </td></tr>\n",
       "\t<tr><td>ham                 </td><td>sausage             </td><td>meat and sausage    </td></tr>\n",
       "\t<tr><td>meat                </td><td>sausage             </td><td>meat and sausage    </td></tr>\n",
       "\t<tr><td>finished products   </td><td>sausage             </td><td>meat and sausage    </td></tr>\n",
       "\t<tr><td>organic sausage     </td><td>sausage             </td><td>meat and sausage    </td></tr>\n",
       "\t<tr><td>chicken             </td><td>poultry             </td><td>meat and sausage    </td></tr>\n",
       "\t<tr><td>turkey              </td><td>poultry             </td><td>meat and sausage    </td></tr>\n",
       "\t<tr><td>pork                </td><td>pork                </td><td>meat and sausage    </td></tr>\n",
       "\t<tr><td>beef                </td><td>beef                </td><td>meat and sausage    </td></tr>\n",
       "\t<tr><td>hamburger meat      </td><td>beef                </td><td>meat and sausage    </td></tr>\n",
       "\t<tr><td>fish                </td><td>fish                </td><td>meat and sausage    </td></tr>\n",
       "\t<tr><td>citrus fruit        </td><td>fruit               </td><td>fruit and vegetables</td></tr>\n",
       "\t<tr><td>tropical fruit      </td><td>fruit               </td><td>fruit and vegetables</td></tr>\n",
       "\t<tr><td>pip fruit           </td><td>fruit               </td><td>fruit and vegetables</td></tr>\n",
       "\t<tr><td>grapes              </td><td>fruit               </td><td>fruit and vegetables</td></tr>\n",
       "\t<tr><td>berries             </td><td>fruit               </td><td>fruit and vegetables</td></tr>\n",
       "\t<tr><td>nuts/prunes         </td><td>fruit               </td><td>fruit and vegetables</td></tr>\n",
       "\t<tr><td>root vegetables     </td><td>vegetables          </td><td>fruit and vegetables</td></tr>\n",
       "</tbody>\n",
       "</table>\n"
      ],
      "text/latex": [
       "\\begin{tabular}{r|lll}\n",
       " labels & level2 & level1\\\\\n",
       "\\hline\n",
       "\t frankfurter          & sausage              & meat and sausage    \\\\\n",
       "\t sausage              & sausage              & meat and sausage    \\\\\n",
       "\t liver loaf           & sausage              & meat and sausage    \\\\\n",
       "\t ham                  & sausage              & meat and sausage    \\\\\n",
       "\t meat                 & sausage              & meat and sausage    \\\\\n",
       "\t finished products    & sausage              & meat and sausage    \\\\\n",
       "\t organic sausage      & sausage              & meat and sausage    \\\\\n",
       "\t chicken              & poultry              & meat and sausage    \\\\\n",
       "\t turkey               & poultry              & meat and sausage    \\\\\n",
       "\t pork                 & pork                 & meat and sausage    \\\\\n",
       "\t beef                 & beef                 & meat and sausage    \\\\\n",
       "\t hamburger meat       & beef                 & meat and sausage    \\\\\n",
       "\t fish                 & fish                 & meat and sausage    \\\\\n",
       "\t citrus fruit         & fruit                & fruit and vegetables\\\\\n",
       "\t tropical fruit       & fruit                & fruit and vegetables\\\\\n",
       "\t pip fruit            & fruit                & fruit and vegetables\\\\\n",
       "\t grapes               & fruit                & fruit and vegetables\\\\\n",
       "\t berries              & fruit                & fruit and vegetables\\\\\n",
       "\t nuts/prunes          & fruit                & fruit and vegetables\\\\\n",
       "\t root vegetables      & vegetables           & fruit and vegetables\\\\\n",
       "\\end{tabular}\n"
      ],
      "text/markdown": [
       "\n",
       "| labels | level2 | level1 |\n",
       "|---|---|---|\n",
       "| frankfurter          | sausage              | meat and sausage     |\n",
       "| sausage              | sausage              | meat and sausage     |\n",
       "| liver loaf           | sausage              | meat and sausage     |\n",
       "| ham                  | sausage              | meat and sausage     |\n",
       "| meat                 | sausage              | meat and sausage     |\n",
       "| finished products    | sausage              | meat and sausage     |\n",
       "| organic sausage      | sausage              | meat and sausage     |\n",
       "| chicken              | poultry              | meat and sausage     |\n",
       "| turkey               | poultry              | meat and sausage     |\n",
       "| pork                 | pork                 | meat and sausage     |\n",
       "| beef                 | beef                 | meat and sausage     |\n",
       "| hamburger meat       | beef                 | meat and sausage     |\n",
       "| fish                 | fish                 | meat and sausage     |\n",
       "| citrus fruit         | fruit                | fruit and vegetables |\n",
       "| tropical fruit       | fruit                | fruit and vegetables |\n",
       "| pip fruit            | fruit                | fruit and vegetables |\n",
       "| grapes               | fruit                | fruit and vegetables |\n",
       "| berries              | fruit                | fruit and vegetables |\n",
       "| nuts/prunes          | fruit                | fruit and vegetables |\n",
       "| root vegetables      | vegetables           | fruit and vegetables |\n",
       "\n"
      ],
      "text/plain": [
       "   labels            level2     level1              \n",
       "1  frankfurter       sausage    meat and sausage    \n",
       "2  sausage           sausage    meat and sausage    \n",
       "3  liver loaf        sausage    meat and sausage    \n",
       "4  ham               sausage    meat and sausage    \n",
       "5  meat              sausage    meat and sausage    \n",
       "6  finished products sausage    meat and sausage    \n",
       "7  organic sausage   sausage    meat and sausage    \n",
       "8  chicken           poultry    meat and sausage    \n",
       "9  turkey            poultry    meat and sausage    \n",
       "10 pork              pork       meat and sausage    \n",
       "11 beef              beef       meat and sausage    \n",
       "12 hamburger meat    beef       meat and sausage    \n",
       "13 fish              fish       meat and sausage    \n",
       "14 citrus fruit      fruit      fruit and vegetables\n",
       "15 tropical fruit    fruit      fruit and vegetables\n",
       "16 pip fruit         fruit      fruit and vegetables\n",
       "17 grapes            fruit      fruit and vegetables\n",
       "18 berries           fruit      fruit and vegetables\n",
       "19 nuts/prunes       fruit      fruit and vegetables\n",
       "20 root vegetables   vegetables fruit and vegetables"
      ]
     },
     "metadata": {},
     "output_type": "display_data"
    }
   ],
   "source": [
    "Groceries@itemInfo[1:20,]"
   ]
  },
  {
   "cell_type": "code",
   "execution_count": 26,
   "metadata": {
    "ExecuteTime": {
     "end_time": "2019-04-19T02:02:33.425475Z",
     "start_time": "2019-04-19T02:02:33.352Z"
    }
   },
   "outputs": [
    {
     "data": {
      "text/html": [
       "<ol class=list-inline>\n",
       "\t<li>'whole milk, cereals'</li>\n",
       "\t<li>'tropical fruit, other vegetables, white bread, bottled water, chocolate'</li>\n",
       "\t<li>'citrus fruit, tropical fruit, whole milk, butter, curd, yogurt, flour, bottled water, dishes'</li>\n",
       "\t<li>'beef'</li>\n",
       "\t<li>'frankfurter, rolls/buns, soda'</li>\n",
       "\t<li>'chicken, tropical fruit'</li>\n",
       "\t<li>'butter, sugar, fruit/vegetable juice, newspapers'</li>\n",
       "\t<li>'fruit/vegetable juice'</li>\n",
       "\t<li>'packaged fruit/vegetables'</li>\n",
       "\t<li>'chocolate'</li>\n",
       "\t<li>'specialty bar'</li>\n",
       "</ol>\n"
      ],
      "text/latex": [
       "\\begin{enumerate*}\n",
       "\\item 'whole milk, cereals'\n",
       "\\item 'tropical fruit, other vegetables, white bread, bottled water, chocolate'\n",
       "\\item 'citrus fruit, tropical fruit, whole milk, butter, curd, yogurt, flour, bottled water, dishes'\n",
       "\\item 'beef'\n",
       "\\item 'frankfurter, rolls/buns, soda'\n",
       "\\item 'chicken, tropical fruit'\n",
       "\\item 'butter, sugar, fruit/vegetable juice, newspapers'\n",
       "\\item 'fruit/vegetable juice'\n",
       "\\item 'packaged fruit/vegetables'\n",
       "\\item 'chocolate'\n",
       "\\item 'specialty bar'\n",
       "\\end{enumerate*}\n"
      ],
      "text/markdown": [
       "1. 'whole milk, cereals'\n",
       "2. 'tropical fruit, other vegetables, white bread, bottled water, chocolate'\n",
       "3. 'citrus fruit, tropical fruit, whole milk, butter, curd, yogurt, flour, bottled water, dishes'\n",
       "4. 'beef'\n",
       "5. 'frankfurter, rolls/buns, soda'\n",
       "6. 'chicken, tropical fruit'\n",
       "7. 'butter, sugar, fruit/vegetable juice, newspapers'\n",
       "8. 'fruit/vegetable juice'\n",
       "9. 'packaged fruit/vegetables'\n",
       "10. 'chocolate'\n",
       "11. 'specialty bar'\n",
       "\n",
       "\n"
      ],
      "text/plain": [
       " [1] \"whole milk, cereals\"                                                                         \n",
       " [2] \"tropical fruit, other vegetables, white bread, bottled water, chocolate\"                     \n",
       " [3] \"citrus fruit, tropical fruit, whole milk, butter, curd, yogurt, flour, bottled water, dishes\"\n",
       " [4] \"beef\"                                                                                        \n",
       " [5] \"frankfurter, rolls/buns, soda\"                                                               \n",
       " [6] \"chicken, tropical fruit\"                                                                     \n",
       " [7] \"butter, sugar, fruit/vegetable juice, newspapers\"                                            \n",
       " [8] \"fruit/vegetable juice\"                                                                       \n",
       " [9] \"packaged fruit/vegetables\"                                                                   \n",
       "[10] \"chocolate\"                                                                                   \n",
       "[11] \"specialty bar\"                                                                               "
      ]
     },
     "metadata": {},
     "output_type": "display_data"
    }
   ],
   "source": [
    "apply(Groceries@data[, 10:20], 2, \n",
    "     function(r) paste(Groceries@itemInfo[r, 'labels'], collapse = ', '))"
   ]
  },
  {
   "cell_type": "markdown",
   "metadata": {},
   "source": [
    "# Apriori"
   ]
  },
  {
   "cell_type": "markdown",
   "metadata": {},
   "source": [
    "## 生成频繁项集"
   ]
  },
  {
   "cell_type": "code",
   "execution_count": null,
   "metadata": {
    "collapsed": true
   },
   "outputs": [],
   "source": [
    "support = 0.02 # 支持度 1000 * 0.02 = 20，项集至少出现20次才是频繁项集\n",
    "confidence = 0.6 # 置信度\n",
    "minlen = 1 # 频繁项集的最小长度\n",
    "maxlen = 1 # 频繁项集的最大长度"
   ]
  },
  {
   "cell_type": "markdown",
   "metadata": {},
   "source": [
    "### 频繁1项集"
   ]
  },
  {
   "cell_type": "code",
   "execution_count": 27,
   "metadata": {
    "ExecuteTime": {
     "end_time": "2019-04-19T02:10:28.129147Z",
     "start_time": "2019-04-19T02:10:27.935Z"
    }
   },
   "outputs": [
    {
     "name": "stdout",
     "output_type": "stream",
     "text": [
      "Apriori\n",
      "\n",
      "Parameter specification:\n",
      " confidence minval smax arem  aval originalSupport maxtime support minlen\n",
      "         NA    0.1    1 none FALSE            TRUE       5    0.02      1\n",
      " maxlen            target   ext\n",
      "      1 frequent itemsets FALSE\n",
      "\n",
      "Algorithmic control:\n",
      " filter tree heap memopt load sort verbose\n",
      "    0.1 TRUE TRUE  FALSE TRUE    2    TRUE\n",
      "\n",
      "Absolute minimum support count: 196 \n",
      "\n",
      "set item appearances ...[0 item(s)] done [0.00s].\n",
      "set transactions ...[169 item(s), 9835 transaction(s)] done [0.01s].\n",
      "sorting and recoding items ... [59 item(s)] done [0.00s].\n",
      "creating transaction tree ... done [0.01s].\n",
      "checking subsets of size 1"
     ]
    },
    {
     "name": "stderr",
     "output_type": "stream",
     "text": [
      "Warning message in apriori(Groceries, parameter = list(minlen = 1, maxlen = 1, support = 0.02, :\n",
      "\"Mining stopped (maxlen reached). Only patterns up to a length of 1 returned!\""
     ]
    },
    {
     "name": "stdout",
     "output_type": "stream",
     "text": [
      " done [0.02s].\n",
      "writing ... [59 set(s)] done [0.00s].\n",
      "creating S4 object  ... done [0.00s].\n"
     ]
    }
   ],
   "source": [
    "itemsets <- apriori(Groceries, parameter = list(minlen=1, maxlen=1, support=0.02,\n",
    "                                               target='frequent itemsets'))"
   ]
  },
  {
   "cell_type": "code",
   "execution_count": 28,
   "metadata": {
    "ExecuteTime": {
     "end_time": "2019-04-19T03:08:33.401244Z",
     "start_time": "2019-04-19T03:08:33.317Z"
    }
   },
   "outputs": [
    {
     "data": {
      "text/plain": [
       "set of 59 itemsets\n",
       "\n",
       "most frequent items:\n",
       "frankfurter     sausage         ham        meat     chicken     (Other) \n",
       "          1           1           1           1           1          54 \n",
       "\n",
       "element (itemset/transaction) length distribution:sizes\n",
       " 1 \n",
       "59 \n",
       "\n",
       "   Min. 1st Qu.  Median    Mean 3rd Qu.    Max. \n",
       "      1       1       1       1       1       1 \n",
       "\n",
       "summary of quality measures:\n",
       "    support            count       \n",
       " Min.   :0.02105   Min.   : 207.0  \n",
       " 1st Qu.:0.03015   1st Qu.: 296.5  \n",
       " Median :0.04809   Median : 473.0  \n",
       " Mean   :0.06200   Mean   : 609.8  \n",
       " 3rd Qu.:0.07666   3rd Qu.: 754.0  \n",
       " Max.   :0.25552   Max.   :2513.0  \n",
       "\n",
       "includes transaction ID lists: FALSE \n",
       "\n",
       "mining info:\n",
       "      data ntransactions support confidence\n",
       " Groceries          9835    0.02          1"
      ]
     },
     "metadata": {},
     "output_type": "display_data"
    }
   ],
   "source": [
    "summary(itemsets)"
   ]
  },
  {
   "cell_type": "code",
   "execution_count": 29,
   "metadata": {
    "ExecuteTime": {
     "end_time": "2019-04-19T03:10:07.395777Z",
     "start_time": "2019-04-19T03:10:07.333Z"
    }
   },
   "outputs": [
    {
     "name": "stdout",
     "output_type": "stream",
     "text": [
      "    items              support   count\n",
      "[1] {whole milk}       0.2555160 2513 \n",
      "[2] {other vegetables} 0.1934926 1903 \n",
      "[3] {rolls/buns}       0.1839349 1809 \n",
      "[4] {soda}             0.1743772 1715 \n",
      "[5] {yogurt}           0.1395018 1372 \n",
      "[6] {bottled water}    0.1105236 1087 \n"
     ]
    }
   ],
   "source": [
    "inspect(head(itemsets, by = 'support'))"
   ]
  },
  {
   "cell_type": "markdown",
   "metadata": {},
   "source": [
    "### 频繁2项集"
   ]
  },
  {
   "cell_type": "code",
   "execution_count": 30,
   "metadata": {
    "ExecuteTime": {
     "end_time": "2019-04-19T03:11:44.489818Z",
     "start_time": "2019-04-19T03:11:44.394Z"
    }
   },
   "outputs": [
    {
     "name": "stdout",
     "output_type": "stream",
     "text": [
      "Apriori\n",
      "\n",
      "Parameter specification:\n",
      " confidence minval smax arem  aval originalSupport maxtime support minlen\n",
      "         NA    0.1    1 none FALSE            TRUE       5    0.02      2\n",
      " maxlen            target   ext\n",
      "      2 frequent itemsets FALSE\n",
      "\n",
      "Algorithmic control:\n",
      " filter tree heap memopt load sort verbose\n",
      "    0.1 TRUE TRUE  FALSE TRUE    2    TRUE\n",
      "\n",
      "Absolute minimum support count: 196 \n",
      "\n",
      "set item appearances ...[0 item(s)] done [0.00s].\n",
      "set transactions ...[169 item(s), 9835 transaction(s)] done [0.00s].\n",
      "sorting and recoding items ... [59 item(s)] done [0.00s].\n",
      "creating transaction tree ... done [0.01s].\n",
      "checking subsets of size 1 2"
     ]
    },
    {
     "name": "stderr",
     "output_type": "stream",
     "text": [
      "Warning message in apriori(Groceries, parameter = list(minlen = 2, maxlen = 2, support = 0.02, :\n",
      "\"Mining stopped (maxlen reached). Only patterns up to a length of 2 returned!\""
     ]
    },
    {
     "name": "stdout",
     "output_type": "stream",
     "text": [
      " done [0.01s].\n",
      "writing ... [61 set(s)] done [0.00s].\n",
      "creating S4 object  ... done [0.00s].\n"
     ]
    }
   ],
   "source": [
    "itemsets <- apriori(Groceries, parameter = list(minlen=2, maxlen=2, support=0.02,\n",
    "                                               target='frequent itemsets'))"
   ]
  },
  {
   "cell_type": "code",
   "execution_count": 32,
   "metadata": {
    "ExecuteTime": {
     "end_time": "2019-04-19T03:12:15.780188Z",
     "start_time": "2019-04-19T03:12:15.726Z"
    }
   },
   "outputs": [
    {
     "data": {
      "text/plain": [
       "set of 61 itemsets\n",
       "\n",
       "most frequent items:\n",
       "      whole milk other vegetables           yogurt       rolls/buns \n",
       "              25               17                9                9 \n",
       "            soda          (Other) \n",
       "               9               53 \n",
       "\n",
       "element (itemset/transaction) length distribution:sizes\n",
       " 2 \n",
       "61 \n",
       "\n",
       "   Min. 1st Qu.  Median    Mean 3rd Qu.    Max. \n",
       "      2       2       2       2       2       2 \n",
       "\n",
       "summary of quality measures:\n",
       "    support            count      \n",
       " Min.   :0.02003   Min.   :197.0  \n",
       " 1st Qu.:0.02227   1st Qu.:219.0  \n",
       " Median :0.02613   Median :257.0  \n",
       " Mean   :0.02951   Mean   :290.3  \n",
       " 3rd Qu.:0.03223   3rd Qu.:317.0  \n",
       " Max.   :0.07483   Max.   :736.0  \n",
       "\n",
       "includes transaction ID lists: FALSE \n",
       "\n",
       "mining info:\n",
       "      data ntransactions support confidence\n",
       " Groceries          9835    0.02          1"
      ]
     },
     "metadata": {},
     "output_type": "display_data"
    }
   ],
   "source": [
    "summary(itemsets)"
   ]
  },
  {
   "cell_type": "code",
   "execution_count": 31,
   "metadata": {
    "ExecuteTime": {
     "end_time": "2019-04-19T03:12:10.661020Z",
     "start_time": "2019-04-19T03:12:10.552Z"
    }
   },
   "outputs": [
    {
     "name": "stdout",
     "output_type": "stream",
     "text": [
      "    items                              support    count\n",
      "[1] {other vegetables,whole milk}      0.07483477 736  \n",
      "[2] {whole milk,rolls/buns}            0.05663447 557  \n",
      "[3] {whole milk,yogurt}                0.05602440 551  \n",
      "[4] {root vegetables,whole milk}       0.04890696 481  \n",
      "[5] {root vegetables,other vegetables} 0.04738180 466  \n",
      "[6] {other vegetables,yogurt}          0.04341637 427  \n"
     ]
    }
   ],
   "source": [
    "inspect(head(itemsets, by = 'support'))"
   ]
  },
  {
   "cell_type": "markdown",
   "metadata": {},
   "source": [
    "### 频繁项集"
   ]
  },
  {
   "cell_type": "code",
   "execution_count": 33,
   "metadata": {
    "ExecuteTime": {
     "end_time": "2019-04-19T03:14:59.553916Z",
     "start_time": "2019-04-19T03:14:59.481Z"
    }
   },
   "outputs": [
    {
     "name": "stdout",
     "output_type": "stream",
     "text": [
      "Apriori\n",
      "\n",
      "Parameter specification:\n",
      " confidence minval smax arem  aval originalSupport maxtime support minlen\n",
      "         NA    0.1    1 none FALSE            TRUE       5    0.02      1\n",
      " maxlen            target   ext\n",
      "     10 frequent itemsets FALSE\n",
      "\n",
      "Algorithmic control:\n",
      " filter tree heap memopt load sort verbose\n",
      "    0.1 TRUE TRUE  FALSE TRUE    2    TRUE\n",
      "\n",
      "Absolute minimum support count: 196 \n",
      "\n",
      "set item appearances ...[0 item(s)] done [0.00s].\n",
      "set transactions ...[169 item(s), 9835 transaction(s)] done [0.00s].\n",
      "sorting and recoding items ... [59 item(s)] done [0.00s].\n",
      "creating transaction tree ... done [0.00s].\n",
      "checking subsets of size 1 2 3 done [0.00s].\n",
      "writing ... [122 set(s)] done [0.00s].\n",
      "creating S4 object  ... done [0.00s].\n"
     ]
    }
   ],
   "source": [
    "itemsets <- apriori(Groceries, parameter = list(minlen=1,support=0.02,\n",
    "                                               target='frequent itemsets'))"
   ]
  },
  {
   "cell_type": "code",
   "execution_count": 34,
   "metadata": {
    "ExecuteTime": {
     "end_time": "2019-04-19T03:15:06.270280Z",
     "start_time": "2019-04-19T03:15:06.219Z"
    }
   },
   "outputs": [
    {
     "data": {
      "text/plain": [
       "set of 122 itemsets\n",
       "\n",
       "most frequent items:\n",
       "      whole milk other vegetables           yogurt       rolls/buns \n",
       "              28               20               11               10 \n",
       "            soda          (Other) \n",
       "              10              108 \n",
       "\n",
       "element (itemset/transaction) length distribution:sizes\n",
       " 1  2  3 \n",
       "59 61  2 \n",
       "\n",
       "   Min. 1st Qu.  Median    Mean 3rd Qu.    Max. \n",
       "  1.000   1.000   2.000   1.533   2.000   3.000 \n",
       "\n",
       "summary of quality measures:\n",
       "    support            count       \n",
       " Min.   :0.02003   Min.   : 197.0  \n",
       " 1st Qu.:0.02453   1st Qu.: 241.2  \n",
       " Median :0.03045   Median : 299.5  \n",
       " Mean   :0.04511   Mean   : 443.7  \n",
       " 3rd Qu.:0.05168   3rd Qu.: 508.2  \n",
       " Max.   :0.25552   Max.   :2513.0  \n",
       "\n",
       "includes transaction ID lists: FALSE \n",
       "\n",
       "mining info:\n",
       "      data ntransactions support confidence\n",
       " Groceries          9835    0.02          1"
      ]
     },
     "metadata": {},
     "output_type": "display_data"
    }
   ],
   "source": [
    "summary(itemsets)"
   ]
  },
  {
   "cell_type": "code",
   "execution_count": 35,
   "metadata": {
    "ExecuteTime": {
     "end_time": "2019-04-19T03:15:11.028231Z",
     "start_time": "2019-04-19T03:15:10.973Z"
    }
   },
   "outputs": [
    {
     "name": "stdout",
     "output_type": "stream",
     "text": [
      "    items              support   count\n",
      "[1] {whole milk}       0.2555160 2513 \n",
      "[2] {other vegetables} 0.1934926 1903 \n",
      "[3] {rolls/buns}       0.1839349 1809 \n",
      "[4] {soda}             0.1743772 1715 \n",
      "[5] {yogurt}           0.1395018 1372 \n",
      "[6] {bottled water}    0.1105236 1087 \n"
     ]
    }
   ],
   "source": [
    "inspect(head(itemsets, by = 'support'))"
   ]
  },
  {
   "cell_type": "markdown",
   "metadata": {},
   "source": [
    "## 规则生成与可视化"
   ]
  },
  {
   "cell_type": "code",
   "execution_count": 36,
   "metadata": {
    "ExecuteTime": {
     "end_time": "2019-04-19T03:21:05.329073Z",
     "start_time": "2019-04-19T03:21:05.216Z"
    }
   },
   "outputs": [
    {
     "name": "stdout",
     "output_type": "stream",
     "text": [
      "Apriori\n",
      "\n",
      "Parameter specification:\n",
      " confidence minval smax arem  aval originalSupport maxtime support minlen\n",
      "        0.6    0.1    1 none FALSE            TRUE       5   0.001      1\n",
      " maxlen target   ext\n",
      "     10  rules FALSE\n",
      "\n",
      "Algorithmic control:\n",
      " filter tree heap memopt load sort verbose\n",
      "    0.1 TRUE TRUE  FALSE TRUE    2    TRUE\n",
      "\n",
      "Absolute minimum support count: 9 \n",
      "\n",
      "set item appearances ...[0 item(s)] done [0.00s].\n",
      "set transactions ...[169 item(s), 9835 transaction(s)] done [0.00s].\n",
      "sorting and recoding items ... [157 item(s)] done [0.00s].\n",
      "creating transaction tree ... done [0.00s].\n",
      "checking subsets of size 1 2 3 4 5 6 done [0.02s].\n",
      "writing ... [2918 rule(s)] done [0.00s].\n",
      "creating S4 object  ... done [0.01s].\n"
     ]
    }
   ],
   "source": [
    "rules <- apriori(Groceries, parameter = list(minlen=1,support=0.001,\n",
    "                                               confidence=0.6, target='rules'))"
   ]
  },
  {
   "cell_type": "code",
   "execution_count": 37,
   "metadata": {
    "ExecuteTime": {
     "end_time": "2019-04-19T03:21:16.152773Z",
     "start_time": "2019-04-19T03:21:16.102Z"
    }
   },
   "outputs": [
    {
     "data": {
      "text/plain": [
       "set of 2918 rules\n",
       "\n",
       "rule length distribution (lhs + rhs):sizes\n",
       "   2    3    4    5    6 \n",
       "   3  490 1765  626   34 \n",
       "\n",
       "   Min. 1st Qu.  Median    Mean 3rd Qu.    Max. \n",
       "  2.000   4.000   4.000   4.068   4.000   6.000 \n",
       "\n",
       "summary of quality measures:\n",
       "    support           confidence          lift            count      \n",
       " Min.   :0.001017   Min.   :0.6000   Min.   : 2.348   Min.   :10.00  \n",
       " 1st Qu.:0.001118   1st Qu.:0.6316   1st Qu.: 2.668   1st Qu.:11.00  \n",
       " Median :0.001220   Median :0.6818   Median : 3.168   Median :12.00  \n",
       " Mean   :0.001480   Mean   :0.7028   Mean   : 3.450   Mean   :14.55  \n",
       " 3rd Qu.:0.001525   3rd Qu.:0.7500   3rd Qu.: 3.692   3rd Qu.:15.00  \n",
       " Max.   :0.009354   Max.   :1.0000   Max.   :18.996   Max.   :92.00  \n",
       "\n",
       "mining info:\n",
       "      data ntransactions support confidence\n",
       " Groceries          9835   0.001        0.6"
      ]
     },
     "metadata": {},
     "output_type": "display_data"
    }
   ],
   "source": [
    "summary(rules)"
   ]
  },
  {
   "cell_type": "code",
   "execution_count": 38,
   "metadata": {
    "ExecuteTime": {
     "end_time": "2019-04-19T03:21:55.718712Z",
     "start_time": "2019-04-19T03:21:55.265Z"
    }
   },
   "outputs": [
    {
     "name": "stderr",
     "output_type": "stream",
     "text": [
      "To reduce overplotting, jitter is added! Use jitter = 0 to prevent jitter.\n"
     ]
    },
    {
     "data": {
      "image/png": "[encoded data removed]",
      "text/plain": [
       "plot without title"
      ]
     },
     "metadata": {},
     "output_type": "display_data"
    }
   ],
   "source": [
    "plot(rules)"
   ]
  },
  {
   "cell_type": "code",
   "execution_count": 39,
   "metadata": {
    "ExecuteTime": {
     "end_time": "2019-04-19T03:23:02.654160Z",
     "start_time": "2019-04-19T03:23:00.875Z"
    }
   },
   "outputs": [
    {
     "data": {
      "image/png": "[encoded data removed]",
      "text/plain": [
       "plot without title"
      ]
     },
     "metadata": {},
     "output_type": "display_data"
    }
   ],
   "source": [
    "plot(rules@quality)"
   ]
  },
  {
   "cell_type": "code",
   "execution_count": 40,
   "metadata": {
    "ExecuteTime": {
     "end_time": "2019-04-19T03:30:26.450063Z",
     "start_time": "2019-04-19T03:30:26.353Z"
    }
   },
   "outputs": [
    {
     "name": "stdout",
     "output_type": "stream",
     "text": [
      "     lhs                        rhs                      support confidence      lift count\n",
      "[1]  {Instant food products,                                                               \n",
      "      soda}                  => {hamburger meat}     0.001220132  0.6315789 18.995654    12\n",
      "[2]  {soda,                                                                                \n",
      "      popcorn}               => {salty snack}        0.001220132  0.6315789 16.697793    12\n",
      "[3]  {ham,                                                                                 \n",
      "      processed cheese}      => {white bread}        0.001931876  0.6333333 15.045491    19\n",
      "[4]  {tropical fruit,                                                                      \n",
      "      other vegetables,                                                                    \n",
      "      yogurt,                                                                              \n",
      "      white bread}           => {butter}             0.001016777  0.6666667 12.030581    10\n",
      "[5]  {hamburger meat,                                                                      \n",
      "      yogurt,                                                                              \n",
      "      whipped/sour cream}    => {butter}             0.001016777  0.6250000 11.278670    10\n",
      "[6]  {tropical fruit,                                                                      \n",
      "      other vegetables,                                                                    \n",
      "      whole milk,                                                                          \n",
      "      yogurt,                                                                              \n",
      "      domestic eggs}         => {butter}             0.001016777  0.6250000 11.278670    10\n",
      "[7]  {liquor,                                                                              \n",
      "      red/blush wine}        => {bottled beer}       0.001931876  0.9047619 11.235269    19\n",
      "[8]  {other vegetables,                                                                    \n",
      "      butter,                                                                              \n",
      "      sugar}                 => {whipped/sour cream} 0.001016777  0.7142857  9.964539    10\n",
      "[9]  {whole milk,                                                                          \n",
      "      butter,                                                                              \n",
      "      hard cheese}           => {whipped/sour cream} 0.001423488  0.6666667  9.300236    14\n",
      "[10] {tropical fruit,                                                                      \n",
      "      other vegetables,                                                                    \n",
      "      butter,                                                                              \n",
      "      fruit/vegetable juice} => {whipped/sour cream} 0.001016777  0.6666667  9.300236    10\n"
     ]
    }
   ],
   "source": [
    "inspect(head(sort(rules, by = 'lift'), 10))"
   ]
  },
  {
   "cell_type": "code",
   "execution_count": 41,
   "metadata": {
    "ExecuteTime": {
     "end_time": "2019-04-19T03:32:15.272192Z",
     "start_time": "2019-04-19T03:32:15.202Z"
    }
   },
   "outputs": [
    {
     "data": {
      "text/plain": [
       "set of 127 rules "
      ]
     },
     "metadata": {},
     "output_type": "display_data"
    }
   ],
   "source": [
    "# confidence > 0.9\n",
    "confidenctRules <- rules[quality(rules)$confidence > 0.9]\n",
    "confidenctRules"
   ]
  },
  {
   "cell_type": "code",
   "execution_count": 43,
   "metadata": {
    "ExecuteTime": {
     "end_time": "2019-04-19T03:38:03.751781Z",
     "start_time": "2019-04-19T03:38:03.685Z"
    }
   },
   "outputs": [
    {
     "ename": "ERROR",
     "evalue": "Error in matrix_int(rules, measure, control, ...): Unknown reorder method: 'TRUE' Valid reorder methods are: 'none', 'measure', 'support/confidence', 'similarity'\n",
     "output_type": "error",
     "traceback": [
      "Error in matrix_int(rules, measure, control, ...): Unknown reorder method: 'TRUE' Valid reorder methods are: 'none', 'measure', 'support/confidence', 'similarity'\nTraceback:\n",
      "1. plot(confidenctRules, method = \"matrix\", measure = c(\"lift\", \n .     \"confidence\"), control = list(reorder = TRUE))",
      "2. plot.rules(confidenctRules, method = \"matrix\", measure = c(\"lift\", \n .     \"confidence\"), control = list(reorder = TRUE))",
      "3. matrix_arules(x, measure = shading, control, ...)",
      "4. matrix_int(rules, measure, control, ...)",
      "5. stop(\"Unknown reorder method: \", sQuote(control$reorder), \" Valid reorder methods are: \", \n .     paste(sQuote(reorderTypes), collapse = \", \"))"
     ]
    }
   ],
   "source": [
    "plot(confidenctRules, method='matrix', measure=c('lift', 'confidence'), control=list(reorder=TRUE))"
   ]
  },
  {
   "cell_type": "code",
   "execution_count": 44,
   "metadata": {
    "ExecuteTime": {
     "end_time": "2019-04-19T03:40:29.267574Z",
     "start_time": "2019-04-19T03:40:28.310Z"
    }
   },
   "outputs": [
    {
     "name": "stderr",
     "output_type": "stream",
     "text": [
      "Warning message:\n",
      "\"Unknown control parameters: type\""
     ]
    },
    {
     "name": "stdout",
     "output_type": "stream",
     "text": [
      "Available control parameters (with default values):\n",
      "main\t =  Graph for 5 rules\n",
      "nodeColors\t =  c(\"#66CC6680\", \"#9999CC80\")\n",
      "nodeCol\t =  c(\"#EE0000FF\", \"#EE0303FF\", \"#EE0606FF\", \"#EE0909FF\", \"#EE0C0CFF\", \"#EE0F0FFF\", \"#EE1212FF\", \"#EE1515FF\", \"#EE1818FF\", \"#EE1B1BFF\", \"#EE1E1EFF\", \"#EE2222FF\", \"#EE2525FF\", \"#EE2828FF\", \"#EE2B2BFF\", \"#EE2E2EFF\", \"#EE3131FF\", \"#EE3434FF\", \"#EE3737FF\", \"#EE3A3AFF\", \"#EE3D3DFF\", \"#EE4040FF\", \"#EE4444FF\", \"#EE4747FF\", \"#EE4A4AFF\", \"#EE4D4DFF\", \"#EE5050FF\", \"#EE5353FF\", \"#EE5656FF\", \"#EE5959FF\", \"#EE5C5CFF\", \"#EE5F5FFF\", \"#EE6262FF\", \"#EE6666FF\", \"#EE6969FF\", \"#EE6C6CFF\", \"#EE6F6FFF\", \"#EE7272FF\", \"#EE7575FF\",  \"#EE7878FF\", \"#EE7B7BFF\", \"#EE7E7EFF\", \"#EE8181FF\", \"#EE8484FF\", \"#EE8888FF\", \"#EE8B8BFF\", \"#EE8E8EFF\", \"#EE9191FF\", \"#EE9494FF\", \"#EE9797FF\", \"#EE9999FF\", \"#EE9B9BFF\", \"#EE9D9DFF\", \"#EE9F9FFF\", \"#EEA0A0FF\", \"#EEA2A2FF\", \"#EEA4A4FF\", \"#EEA5A5FF\", \"#EEA7A7FF\", \"#EEA9A9FF\", \"#EEABABFF\", \"#EEACACFF\", \"#EEAEAEFF\", \"#EEB0B0FF\", \"#EEB1B1FF\", \"#EEB3B3FF\", \"#EEB5B5FF\", \"#EEB7B7FF\", \"#EEB8B8FF\", \"#EEBABAFF\", \"#EEBCBCFF\", \"#EEBDBDFF\", \"#EEBFBFFF\", \"#EEC1C1FF\", \"#EEC3C3FF\", \"#EEC4C4FF\", \"#EEC6C6FF\", \"#EEC8C8FF\",  \"#EEC9C9FF\", \"#EECBCBFF\", \"#EECDCDFF\", \"#EECFCFFF\", \"#EED0D0FF\", \"#EED2D2FF\", \"#EED4D4FF\", \"#EED5D5FF\", \"#EED7D7FF\", \"#EED9D9FF\", \"#EEDBDBFF\", \"#EEDCDCFF\", \"#EEDEDEFF\", \"#EEE0E0FF\", \"#EEE1E1FF\", \"#EEE3E3FF\", \"#EEE5E5FF\", \"#EEE7E7FF\", \"#EEE8E8FF\", \"#EEEAEAFF\", \"#EEECECFF\", \"#EEEEEEFF\")\n",
      "edgeCol\t =  c(\"#474747FF\", \"#494949FF\", \"#4B4B4BFF\", \"#4D4D4DFF\", \"#4F4F4FFF\", \"#515151FF\", \"#535353FF\", \"#555555FF\", \"#575757FF\", \"#595959FF\", \"#5B5B5BFF\", \"#5E5E5EFF\", \"#606060FF\", \"#626262FF\", \"#646464FF\", \"#666666FF\", \"#686868FF\", \"#6A6A6AFF\", \"#6C6C6CFF\", \"#6E6E6EFF\", \"#707070FF\", \"#727272FF\", \"#747474FF\", \"#767676FF\", \"#787878FF\", \"#7A7A7AFF\", \"#7C7C7CFF\", \"#7E7E7EFF\", \"#808080FF\", \"#828282FF\", \"#848484FF\", \"#868686FF\", \"#888888FF\", \"#8A8A8AFF\", \"#8C8C8CFF\", \"#8D8D8DFF\", \"#8F8F8FFF\", \"#919191FF\", \"#939393FF\",  \"#959595FF\", \"#979797FF\", \"#999999FF\", \"#9A9A9AFF\", \"#9C9C9CFF\", \"#9E9E9EFF\", \"#A0A0A0FF\", \"#A2A2A2FF\", \"#A3A3A3FF\", \"#A5A5A5FF\", \"#A7A7A7FF\", \"#A9A9A9FF\", \"#AAAAAAFF\", \"#ACACACFF\", \"#AEAEAEFF\", \"#AFAFAFFF\", \"#B1B1B1FF\", \"#B3B3B3FF\", \"#B4B4B4FF\", \"#B6B6B6FF\", \"#B7B7B7FF\", \"#B9B9B9FF\", \"#BBBBBBFF\", \"#BCBCBCFF\", \"#BEBEBEFF\", \"#BFBFBFFF\", \"#C1C1C1FF\", \"#C2C2C2FF\", \"#C3C3C4FF\", \"#C5C5C5FF\", \"#C6C6C6FF\", \"#C8C8C8FF\", \"#C9C9C9FF\", \"#CACACAFF\", \"#CCCCCCFF\", \"#CDCDCDFF\", \"#CECECEFF\", \"#CFCFCFFF\", \"#D1D1D1FF\",  \"#D2D2D2FF\", \"#D3D3D3FF\", \"#D4D4D4FF\", \"#D5D5D5FF\", \"#D6D6D6FF\", \"#D7D7D7FF\", \"#D8D8D8FF\", \"#D9D9D9FF\", \"#DADADAFF\", \"#DBDBDBFF\", \"#DCDCDCFF\", \"#DDDDDDFF\", \"#DEDEDEFF\", \"#DEDEDEFF\", \"#DFDFDFFF\", \"#E0E0E0FF\", \"#E0E0E0FF\", \"#E1E1E1FF\", \"#E1E1E1FF\", \"#E2E2E2FF\", \"#E2E2E2FF\", \"#E2E2E2FF\")\n",
      "alpha\t =  0.5\n",
      "cex\t =  1\n",
      "itemLabels\t =  TRUE\n",
      "labelCol\t =  #000000B3\n",
      "measureLabels\t =  FALSE\n",
      "precision\t =  3\n",
      "layout\t =  NULL\n",
      "layoutParams\t =  list()\n",
      "arrowSize\t =  0.5\n",
      "engine\t =  igraph\n",
      "plot\t =  TRUE\n",
      "plot_options\t =  list()\n",
      "max\t =  100\n",
      "verbose\t =  FALSE\n"
     ]
    },
    {
     "data": {
      "image/png": "[encoded data removed]",
      "text/plain": [
       "Plot with title \"Graph for 5 rules\""
      ]
     },
     "metadata": {},
     "output_type": "display_data"
    }
   ],
   "source": [
    "highLiftRules <- head(sort(rules, by = 'lift'), 5)\n",
    "plot(highLiftRules, method='graph', control=list(type='items'))"
   ]
  },
  {
   "cell_type": "code",
   "execution_count": null,
   "metadata": {
    "collapsed": true
   },
   "outputs": [],
   "source": []
  },
  {
   "cell_type": "code",
   "execution_count": null,
   "metadata": {
    "collapsed": true
   },
   "outputs": [],
   "source": []
  },
  {
   "cell_type": "code",
   "execution_count": null,
   "metadata": {
    "collapsed": true
   },
   "outputs": [],
   "source": [
    "associationData <- read.transactions(\"http://user.informatik.uni-goettingen.de/~sherbold/AssociationRules.csv\",rm.duplicates = FALSE,format=\"basket\",sep=\" \")\n",
    "associationData\n",
    "\n",
    "#summary(associationData2)\n",
    "\n",
    "#https://www.youtube.com/watch?v=b5hgDPa7a2k\n",
    "#a=10000*98 #rows or transaction*column or item \n",
    "#b=0.1000643 #density can be found from summary \n",
    "#c=a*b #so total item must be equal to most frequent items  ( 4948  +  3699   + 3308  +  3035  +  2831  + 80242 )\n",
    "\n",
    "inspect(associationData[1:3])#show 1st to 3rd data\n",
    "itemFrequency(associationData[,1])#show 1st item frequency, c*0.1718 = 16847.23 \n",
    "itemFrequency(associationData[,1:6])\n",
    "itemFrequencyPlot(associationData,support=0.45)\n",
    "itemFrequencyPlot(associationData,topN=5)\n",
    "#so support is how a item is used in total transaction. the more it availave in transactions its support \n",
    "#is increaisng\n",
    "\n",
    "#confidence-> suppose someone buys item A and B, then how likely that he will also buy C. \n",
    "results <- apriori(associationData)\n",
    "results <- apriori(associationData,parameter = list(support=0.007,confidence=0.25,minlen=2))\n",
    "summary(results)\n",
    "results <- apriori(associationData,parameter = list(support=0.07,confidence=0.4,minlen=2))\n",
    "summary(results)\n",
    "inspect(results[1:2])\n",
    "# lift is how much more likely an item is to be purchased relative to its general purchse rate given that you know anotehr item has been purchased \n",
    "#higher lift is always good\n",
    "\n",
    "#the 1st and 3rd quartiles give a sense of the spread of the data, especially when compared to the minimum, maximum, and median\n",
    "\n",
    "#Here is how fivenum() calculates the 1st and 3rd quartiles.\n",
    "#Sort your data from smallest to largest\n",
    "#Find the median.  If your data set has an odd number of data, then the median is the datum such that the number of data above the median is the same as the number of data below the median.  If your data set has an even number, n, of data, the median is the average of the (n/2)th and (n/2 + 1)th largest data.\n",
    "#Find the set, L, of data below the median.  The 1st quartile is the median of L.\n",
    "#Find the set, U, of data above the median.  The 3rd quartile is the median of U.\n",
    "#summary() uses the quantile() function to calculate the 25% and 75% quantiles as the 1st and 3rd quartiles.  Thus, let's discuss how quantile() calculates quantiles.  \n",
    "#more at\n",
    "#https://chemicalstatistician.wordpress.com/2013/08/12/exploratory-data-analysis-the-5-number-summary-two-different-methods-in-r-2/\n",
    "\n",
    "\n",
    "inspect(sort(results,by=\"lift\")[1:4]) #by may support,confidence\n",
    "\n",
    "#Visualizing rules\n",
    "#https://www.youtube.com/watch?v=91CmrpD-4Fw\n",
    "\n",
    "library(\"arulesViz\")\n",
    "\n",
    "plot(results)\n",
    "plot(results,interactive=TRUE)#nice one :) \n",
    "\n",
    "\n",
    "plot(results,method=\"grouped\")\n",
    "#below code needs about 7-10 minutes to give output in this dataset of 11709 rules\n",
    "#plot(results,method = \"grap\", control = list(type=\"items\"))\n",
    "\n",
    "#reduced rules and it takes only few seconds\n",
    "plot(results[1:16],method = \"grap\", control = list(type=\"items\"))"
   ]
  }
 ],
 "metadata": {
  "kernelspec": {
   "display_name": "R",
   "language": "R",
   "name": "ir"
  },
  "language_info": {
   "codemirror_mode": "r",
   "file_extension": ".r",
   "mimetype": "text/x-r-source",
   "name": "R",
   "pygments_lexer": "r",
   "version": "3.5.2"
  },
  "toc": {
   "base_numbering": 1,
   "nav_menu": {},
   "number_sections": true,
   "sideBar": true,
   "skip_h1_title": false,
   "title_cell": "Table of Contents",
   "title_sidebar": "Contents",
   "toc_cell": false,
   "toc_position": {},
   "toc_section_display": true,
   "toc_window_display": true
  },
  "varInspector": {
   "cols": {
    "lenName": 16,
    "lenType": 16,
    "lenVar": 40
   },
   "kernels_config": {
    "python": {
     "delete_cmd_postfix": "",
     "delete_cmd_prefix": "del ",
     "library": "var_list.py",
     "varRefreshCmd": "print(var_dic_list())"
    },
    "r": {
     "delete_cmd_postfix": ") ",
     "delete_cmd_prefix": "rm(",
     "library": "var_list.r",
     "varRefreshCmd": "cat(var_dic_list()) "
    }
   },
   "types_to_exclude": [
    "module",
    "function",
    "builtin_function_or_method",
    "instance",
    "_Feature"
   ],
   "window_display": false
  }
 },
 "nbformat": 4,
 "nbformat_minor": 2
}
