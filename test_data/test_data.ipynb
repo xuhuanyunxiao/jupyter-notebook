{
 "cells": [
  {
   "cell_type": "code",
   "execution_count": null,
   "metadata": {},
   "outputs": [],
   "source": []
  },
  {
   "cell_type": "markdown",
   "metadata": {},
   "source": [
    "# 基本设置"
   ]
  },
  {
   "cell_type": "code",
   "execution_count": 1,
   "metadata": {
    "ExecuteTime": {
     "end_time": "2019-01-10T01:41:12.432668Z",
     "start_time": "2019-01-10T01:41:11.364607Z"
    }
   },
   "outputs": [],
   "source": [
    "import numpy as np\n",
    "import pandas as pd\n",
    "import matplotlib.pyplot as plt\n",
    "import matplotlib as mpl\n",
    "import seaborn as sns\n",
    "%matplotlib inline\n",
    "import warnings\n",
    "warnings.filterwarnings('ignore')\n",
    "%load_ext autoreload\n",
    "%autoreload 2"
   ]
  },
  {
   "cell_type": "code",
   "execution_count": 2,
   "metadata": {
    "ExecuteTime": {
     "end_time": "2019-01-10T01:41:16.657909Z",
     "start_time": "2019-01-10T01:41:13.052703Z"
    }
   },
   "outputs": [
    {
     "name": "stderr",
     "output_type": "stream",
     "text": [
      "Building prefix dict from the default dictionary ...\n",
      "Loading model from cache C:\\Users\\ADMINI~1\\AppData\\Local\\Temp\\jieba.cache\n",
      "Loading model cost 1.085 seconds.\n",
      "Prefix dict has been built succesfully.\n"
     ]
    }
   ],
   "source": [
    "from toolkits.setup import specific_func\n",
    "specific_func.set_ch_pd()\n",
    "from toolkits.setup.date_time import get_day_list\n",
    "from toolkits.nlp import pre_cor_circ\n",
    "from toolkits.nlp import pre_cor_cbrc\n",
    "from toolkits.nlp import myclass_circ\n",
    "from toolkits.nlp import myclass_cbrc"
   ]
  },
  {
   "cell_type": "code",
   "execution_count": 35,
   "metadata": {
    "ExecuteTime": {
     "end_time": "2019-01-10T02:10:10.695091Z",
     "start_time": "2019-01-10T02:10:10.376072Z"
    }
   },
   "outputs": [],
   "source": [
    "import requests,json"
   ]
  },
  {
   "cell_type": "code",
   "execution_count": 31,
   "metadata": {
    "ExecuteTime": {
     "end_time": "2019-01-10T02:09:10.100625Z",
     "start_time": "2019-01-10T02:09:09.923615Z"
    }
   },
   "outputs": [],
   "source": [
    "def get_server_res(data, url, col_name):\n",
    "    '''\n",
    "    服务器接口测试程序\n",
    "    传入 dict, 传出 DataFrame\n",
    "    '''\n",
    "    # data = {'record':[{'id':0,'title':'ss','content':'zzz'},]}\n",
    "    # data = {\"record\":marked_human_data.iloc[:5,:3].to_dict(orient = 'records')}\n",
    "    # url \"http://47.93.77.19:10000/correlation_negative\"\n",
    "    headers={'content-type':'application/json'}\n",
    "    result = requests.post(url,\n",
    "                      data = json.dumps(data),\n",
    "                      headers=headers, allow_redirects=True)\n",
    "    # print(result.text)\n",
    "    json_data = json.loads(result.text)\n",
    "    parse_data = []\n",
    "    elapsed_time = json_data['elapsed_time']\n",
    "    for i in range(len(json_data['docs'])):\n",
    "        parse_data.append([json_data['docs'][i]['id'],\n",
    "                          json_data['docs'][i][col_name]])\n",
    "    parse_data = pd.DataFrame(parse_data, columns = ['id', col_name])    \n",
    "    return parse_data, elapsed_time"
   ]
  },
  {
   "cell_type": "code",
   "execution_count": 46,
   "metadata": {
    "ExecuteTime": {
     "end_time": "2019-01-10T02:17:04.291747Z",
     "start_time": "2019-01-10T02:17:04.109737Z"
    }
   },
   "outputs": [],
   "source": [
    "def get_server_res_yjh(data, url, col_name):\n",
    "    '''\n",
    "    服务器接口测试程序\n",
    "    传入 dict, 传出 DataFrame\n",
    "    '''\n",
    "    # data = {'record':[{'id':0,'title':'ss','content':'zzz'},]}\n",
    "    # data = {\"record\":marked_human_data.iloc[:5,:3].to_dict(orient = 'records')}\n",
    "    # url \"http://47.93.77.19:10000/correlation_negative\"\n",
    "    headers={'content-type':'application/json'}\n",
    "    result = requests.post(url,\n",
    "                      data = json.dumps(data),\n",
    "                      headers=headers, allow_redirects=True)\n",
    "    # print(result.text)\n",
    "    json_data = json.loads(result.text)\n",
    "    parse_data = []\n",
    "    elapsed_time = json_data['elapsed_time']\n",
    "    for i in range(len(json_data['docs'])):\n",
    "        parse_data.append([json_data['docs'][i]['id'],\n",
    "                          json_data['docs'][i][col_name]])\n",
    "    parse_data = pd.DataFrame(parse_data, columns = ['id', col_name])    \n",
    "    return parse_data , elapsed_time"
   ]
  },
  {
   "cell_type": "markdown",
   "metadata": {},
   "source": [
    "# load data"
   ]
  },
  {
   "cell_type": "code",
   "execution_count": 72,
   "metadata": {
    "ExecuteTime": {
     "end_time": "2019-01-10T03:01:26.022989Z",
     "start_time": "2019-01-10T03:01:25.551962Z"
    }
   },
   "outputs": [
    {
     "name": "stdout",
     "output_type": "stream",
     "text": [
      "去空值前： (1877, 6)\n",
      "去空值后： (1875, 6)\n"
     ]
    },
    {
     "data": {
      "text/html": [
       "<div>\n",
       "<style scoped>\n",
       "    .dataframe tbody tr th:only-of-type {\n",
       "        vertical-align: middle;\n",
       "    }\n",
       "\n",
       "    .dataframe tbody tr th {\n",
       "        vertical-align: top;\n",
       "    }\n",
       "\n",
       "    .dataframe thead th {\n",
       "        text-align: right;\n",
       "    }\n",
       "</style>\n",
       "<table border=\"1\" class=\"dataframe\">\n",
       "  <thead>\n",
       "    <tr style=\"text-align: right;\">\n",
       "      <th></th>\n",
       "      <th>index</th>\n",
       "      <th>标题</th>\n",
       "      <th>链接</th>\n",
       "      <th>时间</th>\n",
       "      <th>时间2</th>\n",
       "      <th>项目</th>\n",
       "      <th>url</th>\n",
       "    </tr>\n",
       "  </thead>\n",
       "  <tbody>\n",
       "    <tr>\n",
       "      <th>0</th>\n",
       "      <td>1</td>\n",
       "      <td>超30家壽險公司三季度虧損 四季度保費有望扭轉頹勢</td>\n",
       "      <td>http//big5.china.com.cn/gate/big5/finance.china.com.cn/money/insurance/20181106/4801668.shtml</td>\n",
       "      <td>20181106091800</td>\n",
       "      <td>2018</td>\n",
       "      <td>保监会舆情CIRC</td>\n",
       "      <td>http://big5.china.com.cn/gate/big5/finance.china.com.cn/money/insurance/20181106/4801668.shtml</td>\n",
       "    </tr>\n",
       "  </tbody>\n",
       "</table>\n",
       "</div>"
      ],
      "text/plain": [
       "   index                         标题  \\\n",
       "0      1  超30家壽險公司三季度虧損 四季度保費有望扭轉頹勢   \n",
       "\n",
       "                                                                                              链接  \\\n",
       "0  http//big5.china.com.cn/gate/big5/finance.china.com.cn/money/insurance/20181106/4801668.shtml   \n",
       "\n",
       "               时间   时间2         项目  \\\n",
       "0  20181106091800  2018  保监会舆情CIRC   \n",
       "\n",
       "                                                                                              url  \n",
       "0  http://big5.china.com.cn/gate/big5/finance.china.com.cn/money/insurance/20181106/4801668.shtml  "
      ]
     },
     "execution_count": 72,
     "metadata": {},
     "output_type": "execute_result"
    }
   ],
   "source": [
    "data_test = pd.read_excel('20190108_验证补录数据/银保监、国寿、建行采到没有入库的数据.xlsx')\n",
    "print('去空值前：', data_test.shape)\n",
    "data_test = data_test.dropna()\n",
    "print('去空值后：', data_test.shape)\n",
    "data_test['url'] = data_test['链接'].apply(lambda x:x.replace('//', '://'))\n",
    "data_test.iloc[:1, :]"
   ]
  },
  {
   "cell_type": "code",
   "execution_count": 73,
   "metadata": {
    "ExecuteTime": {
     "end_time": "2019-01-10T03:01:27.323064Z",
     "start_time": "2019-01-10T03:01:27.125052Z"
    }
   },
   "outputs": [
    {
     "data": {
      "text/plain": [
       "银监会(15号)舆情    1651\n",
       "保监会舆情CIRC      121\n",
       "建行北京分行舆情        74\n",
       "中国人寿舆情项目        29\n",
       "Name: 项目, dtype: int64"
      ]
     },
     "execution_count": 73,
     "metadata": {},
     "output_type": "execute_result"
    }
   ],
   "source": [
    "data_test['项目'].value_counts()"
   ]
  },
  {
   "cell_type": "code",
   "execution_count": 74,
   "metadata": {
    "ExecuteTime": {
     "end_time": "2019-01-10T03:01:28.780147Z",
     "start_time": "2019-01-10T03:01:28.360123Z"
    }
   },
   "outputs": [
    {
     "name": "stdout",
     "output_type": "stream",
     "text": [
      "data_cbrc:  (1651, 7)\n",
      "data_circ:  (121, 7)\n",
      "data_ccb:  (74, 7)\n",
      "data_clic:  (29, 7)\n"
     ]
    }
   ],
   "source": [
    "data_cbrc = data_test[data_test['项目'].str.contains('银监会')]\n",
    "print('data_cbrc: ', data_cbrc.shape)\n",
    "data_circ = data_test[data_test['项目'].str.contains('保监会')]\n",
    "print('data_circ: ', data_circ.shape)\n",
    "data_ccb = data_test[data_test['项目'].str.contains('建行北京分行')]\n",
    "print('data_ccb: ', data_ccb.shape)\n",
    "data_clic = data_test[data_test['项目'].str.contains('中国人寿')]\n",
    "print('data_clic: ', data_clic.shape)"
   ]
  },
  {
   "cell_type": "markdown",
   "metadata": {},
   "source": [
    "# 调用接口"
   ]
  },
  {
   "cell_type": "code",
   "execution_count": 6,
   "metadata": {
    "ExecuteTime": {
     "end_time": "2019-01-10T01:41:24.236343Z",
     "start_time": "2019-01-10T01:41:24.087334Z"
    }
   },
   "outputs": [
    {
     "data": {
      "text/plain": [
       "{0: '补录',\n",
       " 1: '监管',\n",
       " 2: '行业',\n",
       " 3: '产品销售',\n",
       " 4: '资本市场',\n",
       " 5: '公司内部管理',\n",
       " 6: '消费服务',\n",
       " 7: '其他相关报道',\n",
       " 8: '噪音',\n",
       " 9: '交通',\n",
       " 10: '环保'}"
      ]
     },
     "execution_count": 6,
     "metadata": {},
     "output_type": "execute_result"
    }
   ],
   "source": [
    "label_dic={'补录':0,'监管':1,'行业':2,'产品销售':3,'资本市场':4,'公司内部管理':5,\n",
    "           '消费服务':6,'其他相关报道':7,'噪音':8,'交通':9,'环保':10}\n",
    "class_name_dict = {v: k for k, v in label_dic.items()}\n",
    "class_name_dict"
   ]
  },
  {
   "cell_type": "code",
   "execution_count": 7,
   "metadata": {
    "ExecuteTime": {
     "end_time": "2019-01-10T01:41:24.830377Z",
     "start_time": "2019-01-10T01:41:24.703370Z"
    }
   },
   "outputs": [
    {
     "data": {
      "text/plain": [
       "{0: '系统采集', 1: '补录', 2: '校正', 3: '导入数据', 4: '其它'}"
      ]
     },
     "execution_count": 7,
     "metadata": {},
     "output_type": "execute_result"
    }
   ],
   "source": [
    "gather_type_dic={'系统采集':0,'补录':1,'校正':2,'导入数据':3,'其它':4}\n",
    "gather_type_name_dict = {v: k for k, v in gather_type_dic.items()}\n",
    "gather_type_name_dict"
   ]
  },
  {
   "cell_type": "markdown",
   "metadata": {},
   "source": [
    "## 保监会"
   ]
  },
  {
   "cell_type": "code",
   "execution_count": 29,
   "metadata": {
    "ExecuteTime": {
     "end_time": "2019-01-10T02:07:48.135937Z",
     "start_time": "2019-01-10T02:07:37.903352Z"
    }
   },
   "outputs": [],
   "source": [
    "engine = specific_func.get_engine('circ')"
   ]
  },
  {
   "cell_type": "code",
   "execution_count": 41,
   "metadata": {
    "ExecuteTime": {
     "end_time": "2019-01-10T02:13:39.638042Z",
     "start_time": "2019-01-10T02:13:37.283907Z"
    }
   },
   "outputs": [
    {
     "name": "stdout",
     "output_type": "stream",
     "text": [
      "circ_cor:  (90, 6)\n"
     ]
    },
    {
     "data": {
      "text/html": [
       "<div>\n",
       "<style scoped>\n",
       "    .dataframe tbody tr th:only-of-type {\n",
       "        vertical-align: middle;\n",
       "    }\n",
       "\n",
       "    .dataframe tbody tr th {\n",
       "        vertical-align: top;\n",
       "    }\n",
       "\n",
       "    .dataframe thead th {\n",
       "        text-align: right;\n",
       "    }\n",
       "</style>\n",
       "<table border=\"1\" class=\"dataframe\">\n",
       "  <thead>\n",
       "    <tr style=\"text-align: right;\">\n",
       "      <th></th>\n",
       "      <th>id</th>\n",
       "      <th>gather_type</th>\n",
       "      <th>url</th>\n",
       "      <th>title</th>\n",
       "      <th>content</th>\n",
       "      <th>publishtime</th>\n",
       "    </tr>\n",
       "  </thead>\n",
       "  <tbody>\n",
       "    <tr>\n",
       "      <th>0</th>\n",
       "      <td>12581783</td>\n",
       "      <td>补录</td>\n",
       "      <td>https://m.thepaper.cn/newsDetail_forward_2705527</td>\n",
       "      <td>中国人寿一营销员发布自媒体文章虚假宣传，被罚6000元</td>\n",
       "      <td>由于发布自媒体文章进行虚假宣传及承诺，中国人寿海南省分公司一保险营销员被罚6000元。\\n12月4日，海南银保监局筹备组发布的一则行政处罚决定书显示，2018年，中国人寿保险股份有限公司海南省分公司保险营销员王小伟通过自己注册的微信公众号“海口车险”发布文章《买车险，高优惠（海口车主都传疯了......）》进行虚假宣传及承诺。与此同时，王小伟还主动联系某电台广告推广人员，将该文章在某电台微信公众号进行推广。\\n海南银保监局筹备组表示，王小伟的行为违反了《中华人民共和国保险法》中有关保险代理人、保险经纪人及其从业人员在办理保险业务活动中的禁止行为。上述违法行为，有现场检查事实确认书、调查笔录、微信公众号“海口车险”相关内容截图材料等证据证明，足以认定。\\n对此，王小伟提出陈述申辩，申请从轻处罚：一是推广公众号2小时后，其已将不实宣传文章删除并停止推广，同时积极配合检查组的调查及按要求注销“海口车险”公众号；二是其从事保险行业时间短、收入低、经济困难。\\n但海南银保监局筹备组并未采纳他的申辩意见，决定对其警告并罚款6000元。海南银保监局筹备组表示，王小伟陈述提到的删除文章、停止推广、积极配合检查等事实已在拟作出行政处罚时予以考虑；王小伟的陈述申辩中，对处罚事实和证据没有异议，且没有提出新的证据。\\n针对自媒体营销可能产生的一系列违规问题，银保监会早在今年6月便发文要求各保险公司、保险中介机构对本公司官方自媒体和所属保险从业人员个人自媒体情况展开自查。究其原因，银保监会表示，由于自媒体渠道参与门槛低、发布主体多、信息审核弱、转发传播快，已成为保险销售误导、不实信息传播的高发领域，严重损害保险消费者合法权益，埋下大量保险消费纠纷和群体性事件风险隐患。\\n6月4日，银保监会下发《关于加强自媒体保险营销宣传行为管理的通知》（下称《通知》），要求严格规范所属保险从业人员利用自媒体编发保险营销宣传信息行为，对于涉及保险产品介绍、销售政策和营销宣传推介活动的，应以公司官方自媒体信息为准，严禁保险公司分支机构、保险中介机构分级机构及保险从业人员自行编发，对于不涉及上述内容的，应当制定责任部门进行审核管理。在进行保险营销宣传信息转载时，严禁转载未经所在公司审核的内容，确保真实可靠以及信息源可追溯。\\n在责任追究方面，各保险公司、保险中介机构应当将违法和不当自媒体保险营销宣传行为...</td>\n",
       "      <td>2018-12-05 08:35:27</td>\n",
       "    </tr>\n",
       "  </tbody>\n",
       "</table>\n",
       "</div>"
      ],
      "text/plain": [
       "         id gather_type                                               url  \\\n",
       "0  12581783          补录  https://m.thepaper.cn/newsDetail_forward_2705527   \n",
       "\n",
       "                         title  \\\n",
       "0  中国人寿一营销员发布自媒体文章虚假宣传，被罚6000元   \n",
       "\n",
       "                                                                                                                                                                                                                                                                                                                                                                                                                                                                                                                                                                                                                                                                                                                                                                                                                                                                                                                                                                                                                                   content  \\\n",
       "0  由于发布自媒体文章进行虚假宣传及承诺，中国人寿海南省分公司一保险营销员被罚6000元。\\n12月4日，海南银保监局筹备组发布的一则行政处罚决定书显示，2018年，中国人寿保险股份有限公司海南省分公司保险营销员王小伟通过自己注册的微信公众号“海口车险”发布文章《买车险，高优惠（海口车主都传疯了......）》进行虚假宣传及承诺。与此同时，王小伟还主动联系某电台广告推广人员，将该文章在某电台微信公众号进行推广。\\n海南银保监局筹备组表示，王小伟的行为违反了《中华人民共和国保险法》中有关保险代理人、保险经纪人及其从业人员在办理保险业务活动中的禁止行为。上述违法行为，有现场检查事实确认书、调查笔录、微信公众号“海口车险”相关内容截图材料等证据证明，足以认定。\\n对此，王小伟提出陈述申辩，申请从轻处罚：一是推广公众号2小时后，其已将不实宣传文章删除并停止推广，同时积极配合检查组的调查及按要求注销“海口车险”公众号；二是其从事保险行业时间短、收入低、经济困难。\\n但海南银保监局筹备组并未采纳他的申辩意见，决定对其警告并罚款6000元。海南银保监局筹备组表示，王小伟陈述提到的删除文章、停止推广、积极配合检查等事实已在拟作出行政处罚时予以考虑；王小伟的陈述申辩中，对处罚事实和证据没有异议，且没有提出新的证据。\\n针对自媒体营销可能产生的一系列违规问题，银保监会早在今年6月便发文要求各保险公司、保险中介机构对本公司官方自媒体和所属保险从业人员个人自媒体情况展开自查。究其原因，银保监会表示，由于自媒体渠道参与门槛低、发布主体多、信息审核弱、转发传播快，已成为保险销售误导、不实信息传播的高发领域，严重损害保险消费者合法权益，埋下大量保险消费纠纷和群体性事件风险隐患。\\n6月4日，银保监会下发《关于加强自媒体保险营销宣传行为管理的通知》（下称《通知》），要求严格规范所属保险从业人员利用自媒体编发保险营销宣传信息行为，对于涉及保险产品介绍、销售政策和营销宣传推介活动的，应以公司官方自媒体信息为准，严禁保险公司分支机构、保险中介机构分级机构及保险从业人员自行编发，对于不涉及上述内容的，应当制定责任部门进行审核管理。在进行保险营销宣传信息转载时，严禁转载未经所在公司审核的内容，确保真实可靠以及信息源可追溯。\\n在责任追究方面，各保险公司、保险中介机构应当将违法和不当自媒体保险营销宣传行为...   \n",
       "\n",
       "          publishtime  \n",
       "0 2018-12-05 08:35:27  "
      ]
     },
     "execution_count": 41,
     "metadata": {},
     "output_type": "execute_result"
    }
   ],
   "source": [
    "url_tuple = tuple(data_circ['url'].tolist())\n",
    "\n",
    "sql_one_day = \"select t1.id, t1.gather_type,t1.url,t1.title,t2.center as content, t1.publishtime as publishtime \\\n",
    "                    from wise_web_docinfo t1, wise_web_docinfo_center t2 \\\n",
    "                        where t1.id=t2.doc_id \\\n",
    "                              and  t1.url in {0}\".format(url_tuple) # \n",
    "\n",
    "circ_cor = pd.read_sql(sql_one_day, engine)\n",
    "circ_cor['gather_type'] = circ_cor['gather_type'].apply(lambda x:gather_type_name_dict[x])\n",
    "print('circ_cor: ', circ_cor.shape)\n",
    "circ_cor.iloc[:1, :]"
   ]
  },
  {
   "cell_type": "code",
   "execution_count": 42,
   "metadata": {
    "ExecuteTime": {
     "end_time": "2019-01-10T02:13:42.808223Z",
     "start_time": "2019-01-10T02:13:40.380084Z"
    }
   },
   "outputs": [
    {
     "name": "stdout",
     "output_type": "stream",
     "text": [
      "(90, 2)\n"
     ]
    },
    {
     "data": {
      "text/html": [
       "<div>\n",
       "<style scoped>\n",
       "    .dataframe tbody tr th:only-of-type {\n",
       "        vertical-align: middle;\n",
       "    }\n",
       "\n",
       "    .dataframe tbody tr th {\n",
       "        vertical-align: top;\n",
       "    }\n",
       "\n",
       "    .dataframe thead th {\n",
       "        text-align: right;\n",
       "    }\n",
       "</style>\n",
       "<table border=\"1\" class=\"dataframe\">\n",
       "  <thead>\n",
       "    <tr style=\"text-align: right;\">\n",
       "      <th></th>\n",
       "      <th>id</th>\n",
       "      <th>predict_label</th>\n",
       "    </tr>\n",
       "  </thead>\n",
       "  <tbody>\n",
       "    <tr>\n",
       "      <th>0</th>\n",
       "      <td>12581783</td>\n",
       "      <td>5</td>\n",
       "    </tr>\n",
       "    <tr>\n",
       "      <th>1</th>\n",
       "      <td>12716633</td>\n",
       "      <td>4</td>\n",
       "    </tr>\n",
       "    <tr>\n",
       "      <th>2</th>\n",
       "      <td>12716640</td>\n",
       "      <td>4</td>\n",
       "    </tr>\n",
       "    <tr>\n",
       "      <th>3</th>\n",
       "      <td>12716662</td>\n",
       "      <td>8</td>\n",
       "    </tr>\n",
       "    <tr>\n",
       "      <th>4</th>\n",
       "      <td>12716664</td>\n",
       "      <td>8</td>\n",
       "    </tr>\n",
       "  </tbody>\n",
       "</table>\n",
       "</div>"
      ],
      "text/plain": [
       "         id  predict_label\n",
       "0  12581783              5\n",
       "1  12716633              4\n",
       "2  12716640              4\n",
       "3  12716662              8\n",
       "4  12716664              8"
      ]
     },
     "execution_count": 42,
     "metadata": {},
     "output_type": "execute_result"
    }
   ],
   "source": [
    "data = {\"record\":circ_cor.loc[:,['id', 'title' ,'content']].to_dict(orient = 'records')}\n",
    "url = \"http://47.93.77.19:10000/judge_correlation_i\"\n",
    "col_name = 'cor'\n",
    "parse_data, elapsed_time = get_server_res(data, url, col_name)\n",
    "parse_data.columns = ['id', 'predict_label']\n",
    "print(parse_data.shape)\n",
    "parse_data.head()"
   ]
  },
  {
   "cell_type": "code",
   "execution_count": 45,
   "metadata": {
    "ExecuteTime": {
     "end_time": "2019-01-10T02:14:10.065782Z",
     "start_time": "2019-01-10T02:14:09.843769Z"
    }
   },
   "outputs": [
    {
     "name": "stdout",
     "output_type": "stream",
     "text": [
      "(90, 7)\n",
      "公司内部管理    31\n",
      "噪音        31\n",
      "行业        13\n",
      "资本市场      10\n",
      "消费服务       3\n",
      "产品销售       1\n",
      "监管         1\n",
      "Name: predict_label, dtype: int64\n"
     ]
    },
    {
     "data": {
      "text/html": [
       "<div>\n",
       "<style scoped>\n",
       "    .dataframe tbody tr th:only-of-type {\n",
       "        vertical-align: middle;\n",
       "    }\n",
       "\n",
       "    .dataframe tbody tr th {\n",
       "        vertical-align: top;\n",
       "    }\n",
       "\n",
       "    .dataframe thead th {\n",
       "        text-align: right;\n",
       "    }\n",
       "</style>\n",
       "<table border=\"1\" class=\"dataframe\">\n",
       "  <thead>\n",
       "    <tr style=\"text-align: right;\">\n",
       "      <th></th>\n",
       "      <th>id</th>\n",
       "      <th>gather_type</th>\n",
       "      <th>url</th>\n",
       "      <th>title</th>\n",
       "      <th>content</th>\n",
       "      <th>publishtime</th>\n",
       "      <th>predict_label</th>\n",
       "    </tr>\n",
       "  </thead>\n",
       "  <tbody>\n",
       "    <tr>\n",
       "      <th>0</th>\n",
       "      <td>12581783</td>\n",
       "      <td>补录</td>\n",
       "      <td>https://m.thepaper.cn/newsDetail_forward_2705527</td>\n",
       "      <td>中国人寿一营销员发布自媒体文章虚假宣传，被罚6000元</td>\n",
       "      <td>由于发布自媒体文章进行虚假宣传及承诺，中国人寿海南省分公司一保险营销员被罚6000元。\\n12月4日，海南银保监局筹备组发布的一则行政处罚决定书显示，2018年，中国人寿保险股份有限公司海南省分公司保险营销员王小伟通过自己注册的微信公众号“海口车险”发布文章《买车险，高优惠（海口车主都传疯了......）》进行虚假宣传及承诺。与此同时，王小伟还主动联系某电台广告推广人员，将该文章在某电台微信公众号进行推广。\\n海南银保监局筹备组表示，王小伟的行为违反了《中华人民共和国保险法》中有关保险代理人、保险经纪人及其从业人员在办理保险业务活动中的禁止行为。上述违法行为，有现场检查事实确认书、调查笔录、微信公众号“海口车险”相关内容截图材料等证据证明，足以认定。\\n对此，王小伟提出陈述申辩，申请从轻处罚：一是推广公众号2小时后，其已将不实宣传文章删除并停止推广，同时积极配合检查组的调查及按要求注销“海口车险”公众号；二是其从事保险行业时间短、收入低、经济困难。\\n但海南银保监局筹备组并未采纳他的申辩意见，决定对其警告并罚款6000元。海南银保监局筹备组表示，王小伟陈述提到的删除文章、停止推广、积极配合检查等事实已在拟作出行政处罚时予以考虑；王小伟的陈述申辩中，对处罚事实和证据没有异议，且没有提出新的证据。\\n针对自媒体营销可能产生的一系列违规问题，银保监会早在今年6月便发文要求各保险公司、保险中介机构对本公司官方自媒体和所属保险从业人员个人自媒体情况展开自查。究其原因，银保监会表示，由于自媒体渠道参与门槛低、发布主体多、信息审核弱、转发传播快，已成为保险销售误导、不实信息传播的高发领域，严重损害保险消费者合法权益，埋下大量保险消费纠纷和群体性事件风险隐患。\\n6月4日，银保监会下发《关于加强自媒体保险营销宣传行为管理的通知》（下称《通知》），要求严格规范所属保险从业人员利用自媒体编发保险营销宣传信息行为，对于涉及保险产品介绍、销售政策和营销宣传推介活动的，应以公司官方自媒体信息为准，严禁保险公司分支机构、保险中介机构分级机构及保险从业人员自行编发，对于不涉及上述内容的，应当制定责任部门进行审核管理。在进行保险营销宣传信息转载时，严禁转载未经所在公司审核的内容，确保真实可靠以及信息源可追溯。\\n在责任追究方面，各保险公司、保险中介机构应当将违法和不当自媒体保险营销宣传行为...</td>\n",
       "      <td>2018-12-05 08:35:27</td>\n",
       "      <td>公司内部管理</td>\n",
       "    </tr>\n",
       "  </tbody>\n",
       "</table>\n",
       "</div>"
      ],
      "text/plain": [
       "         id gather_type                                               url  \\\n",
       "0  12581783          补录  https://m.thepaper.cn/newsDetail_forward_2705527   \n",
       "\n",
       "                         title  \\\n",
       "0  中国人寿一营销员发布自媒体文章虚假宣传，被罚6000元   \n",
       "\n",
       "                                                                                                                                                                                                                                                                                                                                                                                                                                                                                                                                                                                                                                                                                                                                                                                                                                                                                                                                                                                                                                   content  \\\n",
       "0  由于发布自媒体文章进行虚假宣传及承诺，中国人寿海南省分公司一保险营销员被罚6000元。\\n12月4日，海南银保监局筹备组发布的一则行政处罚决定书显示，2018年，中国人寿保险股份有限公司海南省分公司保险营销员王小伟通过自己注册的微信公众号“海口车险”发布文章《买车险，高优惠（海口车主都传疯了......）》进行虚假宣传及承诺。与此同时，王小伟还主动联系某电台广告推广人员，将该文章在某电台微信公众号进行推广。\\n海南银保监局筹备组表示，王小伟的行为违反了《中华人民共和国保险法》中有关保险代理人、保险经纪人及其从业人员在办理保险业务活动中的禁止行为。上述违法行为，有现场检查事实确认书、调查笔录、微信公众号“海口车险”相关内容截图材料等证据证明，足以认定。\\n对此，王小伟提出陈述申辩，申请从轻处罚：一是推广公众号2小时后，其已将不实宣传文章删除并停止推广，同时积极配合检查组的调查及按要求注销“海口车险”公众号；二是其从事保险行业时间短、收入低、经济困难。\\n但海南银保监局筹备组并未采纳他的申辩意见，决定对其警告并罚款6000元。海南银保监局筹备组表示，王小伟陈述提到的删除文章、停止推广、积极配合检查等事实已在拟作出行政处罚时予以考虑；王小伟的陈述申辩中，对处罚事实和证据没有异议，且没有提出新的证据。\\n针对自媒体营销可能产生的一系列违规问题，银保监会早在今年6月便发文要求各保险公司、保险中介机构对本公司官方自媒体和所属保险从业人员个人自媒体情况展开自查。究其原因，银保监会表示，由于自媒体渠道参与门槛低、发布主体多、信息审核弱、转发传播快，已成为保险销售误导、不实信息传播的高发领域，严重损害保险消费者合法权益，埋下大量保险消费纠纷和群体性事件风险隐患。\\n6月4日，银保监会下发《关于加强自媒体保险营销宣传行为管理的通知》（下称《通知》），要求严格规范所属保险从业人员利用自媒体编发保险营销宣传信息行为，对于涉及保险产品介绍、销售政策和营销宣传推介活动的，应以公司官方自媒体信息为准，严禁保险公司分支机构、保险中介机构分级机构及保险从业人员自行编发，对于不涉及上述内容的，应当制定责任部门进行审核管理。在进行保险营销宣传信息转载时，严禁转载未经所在公司审核的内容，确保真实可靠以及信息源可追溯。\\n在责任追究方面，各保险公司、保险中介机构应当将违法和不当自媒体保险营销宣传行为...   \n",
       "\n",
       "          publishtime predict_label  \n",
       "0 2018-12-05 08:35:27        公司内部管理  "
      ]
     },
     "execution_count": 45,
     "metadata": {},
     "output_type": "execute_result"
    }
   ],
   "source": [
    "circ_combined = pd.merge(circ_cor, parse_data, on = 'id')\n",
    "circ_combined['predict_label'] = circ_combined['predict_label'].apply(lambda x:class_name_dict[x])\n",
    "print(circ_combined.shape)\n",
    "print(circ_combined['predict_label'].value_counts())\n",
    "circ_combined.iloc[:1, :]"
   ]
  },
  {
   "cell_type": "markdown",
   "metadata": {},
   "source": [
    "## 银监会"
   ]
  },
  {
   "cell_type": "code",
   "execution_count": 47,
   "metadata": {
    "ExecuteTime": {
     "end_time": "2019-01-10T02:17:09.068020Z",
     "start_time": "2019-01-10T02:17:08.744002Z"
    }
   },
   "outputs": [],
   "source": [
    "engine = specific_func.get_engine('cbrc')"
   ]
  },
  {
   "cell_type": "code",
   "execution_count": 48,
   "metadata": {
    "ExecuteTime": {
     "end_time": "2019-01-10T02:17:13.771289Z",
     "start_time": "2019-01-10T02:17:09.739059Z"
    }
   },
   "outputs": [
    {
     "name": "stdout",
     "output_type": "stream",
     "text": [
      "cbrc_cor:  (720, 6)\n"
     ]
    },
    {
     "data": {
      "text/html": [
       "<div>\n",
       "<style scoped>\n",
       "    .dataframe tbody tr th:only-of-type {\n",
       "        vertical-align: middle;\n",
       "    }\n",
       "\n",
       "    .dataframe tbody tr th {\n",
       "        vertical-align: top;\n",
       "    }\n",
       "\n",
       "    .dataframe thead th {\n",
       "        text-align: right;\n",
       "    }\n",
       "</style>\n",
       "<table border=\"1\" class=\"dataframe\">\n",
       "  <thead>\n",
       "    <tr style=\"text-align: right;\">\n",
       "      <th></th>\n",
       "      <th>id</th>\n",
       "      <th>gather_type</th>\n",
       "      <th>url</th>\n",
       "      <th>title</th>\n",
       "      <th>content</th>\n",
       "      <th>publishtime</th>\n",
       "    </tr>\n",
       "  </thead>\n",
       "  <tbody>\n",
       "    <tr>\n",
       "      <th>0</th>\n",
       "      <td>207398163</td>\n",
       "      <td>系统采集</td>\n",
       "      <td>http://finance1.ce.cn/rolling/201801/01/t20180101_27507758.shtml</td>\n",
       "      <td>2018保险业：三大难题悬而未决</td>\n",
       "      <td>雄关漫道真如铁，而今迈步从头越。2018年，中国保险业前路艰辛，三道难题摆在面前：“开门红”难有作为，全年保费目标如何完成？“大监管”有增无减，合规成本如何控制？BATJ强势“搅局”，金融科技有何作为？“开门红”集体哑火“开门红，全年红”，这是保险业的一条“金科玉律”。2018年，这条“铁律”可能要被打破了。年底保险圈内聚会上，大佬们见面寒暄的第一句话是：“你们今年‘开门红’卖得怎么样？”一部分人面露难色，一部分频频摇头，还有些干脆用一句“不谈了”草草了事。2018年，“开门红”为什么集体哑火？一家大型寿险公司负责人在接受《国际金融报》记者采访时透露，“一方面，受134号文（《关于规范人身保险公司产品开发设计行为的通知》）和136号文（《关于进一步加强人身保险公司销售管理工作的通知》）影响，今年各家公司‘开门红’启动时间比较晚。另一方面，今年‘开门红’产品回归保障，规模上不去在情理之中。”这两个文件究竟对“开门红”有什么影响？对此，一位资深保险业内人士告诉《国际金融报》记者：“134号文主要针对产品设计，136号文则针对产品销售。相比之下，前者的影响更大。在134号文提出的2017年10月1日‘大限’之日，很多保险公司都被迫更新产品，这些产品都是计划作为‘开门红’的产品。但是，10月1日真正拿到批文的产品没几个。”134号文核心内容包括：两全保险产品、年金保险产品，首次生存保险金给付应在保单生效满5年之后，且每年给付或部分领取比例不得超过已交保险费的20%；万能型保险产品、投资连结型保险产品设计应提供不定期、不定额追加保险费，灵活调整保险金额等功能。保险公司不得以附加险形式设计万能型保险产品或投资连结型保险产品。“我们的‘开门红’产品刚刚批下来。”2017年12月28日，一家合资寿险公司有关负责人向《国际金融报》记者透露，“往年10月至11月是启动‘开门红’的重要节点，今年，整个行业的‘开门红’时间都有所推迟。这跟保监会产品审批趋严有关。”一家大型寿险公司上海分公司总经理告诉《国际金融报》记者：“我们直到去年12月才收到总公司对‘开门红’的安排以及目标任务。坦率地说，市场都比较谨慎，大家都看不清楚今年‘开门红’的趋势，也没有把握。”那么，最早一批启动“开门红”的公司，业绩表现如何？一家上市保险公司上海分公司有关负责人在接受《国际金融报》记者采访时说：“今年‘...</td>\n",
       "      <td>2018-01-01 08:22:34</td>\n",
       "    </tr>\n",
       "  </tbody>\n",
       "</table>\n",
       "</div>"
      ],
      "text/plain": [
       "          id gather_type  \\\n",
       "0  207398163        系统采集   \n",
       "\n",
       "                                                                url  \\\n",
       "0  http://finance1.ce.cn/rolling/201801/01/t20180101_27507758.shtml   \n",
       "\n",
       "              title  \\\n",
       "0  2018保险业：三大难题悬而未决   \n",
       "\n",
       "                                                                                                                                                                                                                                                                                                                                                                                                                                                                                                                                                                                                                                                                                                                                                                                                                                                                                                                                                                                                                                   content  \\\n",
       "0  雄关漫道真如铁，而今迈步从头越。2018年，中国保险业前路艰辛，三道难题摆在面前：“开门红”难有作为，全年保费目标如何完成？“大监管”有增无减，合规成本如何控制？BATJ强势“搅局”，金融科技有何作为？“开门红”集体哑火“开门红，全年红”，这是保险业的一条“金科玉律”。2018年，这条“铁律”可能要被打破了。年底保险圈内聚会上，大佬们见面寒暄的第一句话是：“你们今年‘开门红’卖得怎么样？”一部分人面露难色，一部分频频摇头，还有些干脆用一句“不谈了”草草了事。2018年，“开门红”为什么集体哑火？一家大型寿险公司负责人在接受《国际金融报》记者采访时透露，“一方面，受134号文（《关于规范人身保险公司产品开发设计行为的通知》）和136号文（《关于进一步加强人身保险公司销售管理工作的通知》）影响，今年各家公司‘开门红’启动时间比较晚。另一方面，今年‘开门红’产品回归保障，规模上不去在情理之中。”这两个文件究竟对“开门红”有什么影响？对此，一位资深保险业内人士告诉《国际金融报》记者：“134号文主要针对产品设计，136号文则针对产品销售。相比之下，前者的影响更大。在134号文提出的2017年10月1日‘大限’之日，很多保险公司都被迫更新产品，这些产品都是计划作为‘开门红’的产品。但是，10月1日真正拿到批文的产品没几个。”134号文核心内容包括：两全保险产品、年金保险产品，首次生存保险金给付应在保单生效满5年之后，且每年给付或部分领取比例不得超过已交保险费的20%；万能型保险产品、投资连结型保险产品设计应提供不定期、不定额追加保险费，灵活调整保险金额等功能。保险公司不得以附加险形式设计万能型保险产品或投资连结型保险产品。“我们的‘开门红’产品刚刚批下来。”2017年12月28日，一家合资寿险公司有关负责人向《国际金融报》记者透露，“往年10月至11月是启动‘开门红’的重要节点，今年，整个行业的‘开门红’时间都有所推迟。这跟保监会产品审批趋严有关。”一家大型寿险公司上海分公司总经理告诉《国际金融报》记者：“我们直到去年12月才收到总公司对‘开门红’的安排以及目标任务。坦率地说，市场都比较谨慎，大家都看不清楚今年‘开门红’的趋势，也没有把握。”那么，最早一批启动“开门红”的公司，业绩表现如何？一家上市保险公司上海分公司有关负责人在接受《国际金融报》记者采访时说：“今年‘...   \n",
       "\n",
       "          publishtime  \n",
       "0 2018-01-01 08:22:34  "
      ]
     },
     "execution_count": 48,
     "metadata": {},
     "output_type": "execute_result"
    }
   ],
   "source": [
    "url_tuple = tuple(data_cbrc['url'].tolist())\n",
    "\n",
    "sql_one_day = \"select t1.id, t1.gather_type, t1.url, t1.title,t2.text as content, t1.publishtime as publishtime \\\n",
    "                    from elint_web_docinfo t1, wise_web_docinfo_text t2 \\\n",
    "                        where t1.id=t2.doc_id \\\n",
    "                            and  t1.url in {0}\".format(url_tuple)\n",
    "\n",
    "cbrc_cor = pd.read_sql(sql_one_day, engine)\n",
    "cbrc_cor['gather_type'] = cbrc_cor['gather_type'].apply(lambda x:gather_type_name_dict[x])\n",
    "print('cbrc_cor: ', cbrc_cor.shape)\n",
    "cbrc_cor.iloc[:1, :]"
   ]
  },
  {
   "cell_type": "code",
   "execution_count": 55,
   "metadata": {
    "ExecuteTime": {
     "end_time": "2019-01-10T02:21:38.395425Z",
     "start_time": "2019-01-10T02:20:39.703068Z"
    }
   },
   "outputs": [
    {
     "name": "stdout",
     "output_type": "stream",
     "text": [
      "(720, 2)\n"
     ]
    },
    {
     "data": {
      "text/html": [
       "<div>\n",
       "<style scoped>\n",
       "    .dataframe tbody tr th:only-of-type {\n",
       "        vertical-align: middle;\n",
       "    }\n",
       "\n",
       "    .dataframe tbody tr th {\n",
       "        vertical-align: top;\n",
       "    }\n",
       "\n",
       "    .dataframe thead th {\n",
       "        text-align: right;\n",
       "    }\n",
       "</style>\n",
       "<table border=\"1\" class=\"dataframe\">\n",
       "  <thead>\n",
       "    <tr style=\"text-align: right;\">\n",
       "      <th></th>\n",
       "      <th>id</th>\n",
       "      <th>predict_label</th>\n",
       "    </tr>\n",
       "  </thead>\n",
       "  <tbody>\n",
       "    <tr>\n",
       "      <th>0</th>\n",
       "      <td>207398163</td>\n",
       "      <td>1</td>\n",
       "    </tr>\n",
       "    <tr>\n",
       "      <th>1</th>\n",
       "      <td>207598948</td>\n",
       "      <td>1</td>\n",
       "    </tr>\n",
       "    <tr>\n",
       "      <th>2</th>\n",
       "      <td>207633488</td>\n",
       "      <td>2</td>\n",
       "    </tr>\n",
       "    <tr>\n",
       "      <th>3</th>\n",
       "      <td>207637910</td>\n",
       "      <td>1</td>\n",
       "    </tr>\n",
       "    <tr>\n",
       "      <th>4</th>\n",
       "      <td>207640544</td>\n",
       "      <td>1</td>\n",
       "    </tr>\n",
       "  </tbody>\n",
       "</table>\n",
       "</div>"
      ],
      "text/plain": [
       "          id  predict_label\n",
       "0  207398163              1\n",
       "1  207598948              1\n",
       "2  207633488              2\n",
       "3  207637910              1\n",
       "4  207640544              1"
      ]
     },
     "execution_count": 55,
     "metadata": {},
     "output_type": "execute_result"
    }
   ],
   "source": [
    "data = {\"record\":cbrc_cor.loc[:,['id', 'title' ,'content']].to_dict(orient = 'records')}\n",
    "url = \"http://47.93.77.19:6001/judge_correlation_yjh\"\n",
    "col_name = 'sec'\n",
    "parse_data, elapsed_time = get_server_res(data, url, col_name)\n",
    "parse_data.columns = ['id', 'predict_label']\n",
    "print(parse_data.shape)\n",
    "parse_data.head()"
   ]
  },
  {
   "cell_type": "code",
   "execution_count": 56,
   "metadata": {
    "ExecuteTime": {
     "end_time": "2019-01-10T02:24:20.901720Z",
     "start_time": "2019-01-10T02:24:20.679707Z"
    }
   },
   "outputs": [
    {
     "name": "stdout",
     "output_type": "stream",
     "text": [
      "(720, 7)\n",
      "行业        186\n",
      "消费服务      181\n",
      "监管         97\n",
      "公司内部管理     88\n",
      "噪音         84\n",
      "资本市场       78\n",
      "其他相关报道      4\n",
      "产品销售        2\n",
      "Name: predict_label, dtype: int64\n"
     ]
    },
    {
     "data": {
      "text/html": [
       "<div>\n",
       "<style scoped>\n",
       "    .dataframe tbody tr th:only-of-type {\n",
       "        vertical-align: middle;\n",
       "    }\n",
       "\n",
       "    .dataframe tbody tr th {\n",
       "        vertical-align: top;\n",
       "    }\n",
       "\n",
       "    .dataframe thead th {\n",
       "        text-align: right;\n",
       "    }\n",
       "</style>\n",
       "<table border=\"1\" class=\"dataframe\">\n",
       "  <thead>\n",
       "    <tr style=\"text-align: right;\">\n",
       "      <th></th>\n",
       "      <th>id</th>\n",
       "      <th>gather_type</th>\n",
       "      <th>url</th>\n",
       "      <th>title</th>\n",
       "      <th>content</th>\n",
       "      <th>publishtime</th>\n",
       "      <th>predict_label</th>\n",
       "    </tr>\n",
       "  </thead>\n",
       "  <tbody>\n",
       "    <tr>\n",
       "      <th>0</th>\n",
       "      <td>207398163</td>\n",
       "      <td>系统采集</td>\n",
       "      <td>http://finance1.ce.cn/rolling/201801/01/t20180101_27507758.shtml</td>\n",
       "      <td>2018保险业：三大难题悬而未决</td>\n",
       "      <td>雄关漫道真如铁，而今迈步从头越。2018年，中国保险业前路艰辛，三道难题摆在面前：“开门红”难有作为，全年保费目标如何完成？“大监管”有增无减，合规成本如何控制？BATJ强势“搅局”，金融科技有何作为？“开门红”集体哑火“开门红，全年红”，这是保险业的一条“金科玉律”。2018年，这条“铁律”可能要被打破了。年底保险圈内聚会上，大佬们见面寒暄的第一句话是：“你们今年‘开门红’卖得怎么样？”一部分人面露难色，一部分频频摇头，还有些干脆用一句“不谈了”草草了事。2018年，“开门红”为什么集体哑火？一家大型寿险公司负责人在接受《国际金融报》记者采访时透露，“一方面，受134号文（《关于规范人身保险公司产品开发设计行为的通知》）和136号文（《关于进一步加强人身保险公司销售管理工作的通知》）影响，今年各家公司‘开门红’启动时间比较晚。另一方面，今年‘开门红’产品回归保障，规模上不去在情理之中。”这两个文件究竟对“开门红”有什么影响？对此，一位资深保险业内人士告诉《国际金融报》记者：“134号文主要针对产品设计，136号文则针对产品销售。相比之下，前者的影响更大。在134号文提出的2017年10月1日‘大限’之日，很多保险公司都被迫更新产品，这些产品都是计划作为‘开门红’的产品。但是，10月1日真正拿到批文的产品没几个。”134号文核心内容包括：两全保险产品、年金保险产品，首次生存保险金给付应在保单生效满5年之后，且每年给付或部分领取比例不得超过已交保险费的20%；万能型保险产品、投资连结型保险产品设计应提供不定期、不定额追加保险费，灵活调整保险金额等功能。保险公司不得以附加险形式设计万能型保险产品或投资连结型保险产品。“我们的‘开门红’产品刚刚批下来。”2017年12月28日，一家合资寿险公司有关负责人向《国际金融报》记者透露，“往年10月至11月是启动‘开门红’的重要节点，今年，整个行业的‘开门红’时间都有所推迟。这跟保监会产品审批趋严有关。”一家大型寿险公司上海分公司总经理告诉《国际金融报》记者：“我们直到去年12月才收到总公司对‘开门红’的安排以及目标任务。坦率地说，市场都比较谨慎，大家都看不清楚今年‘开门红’的趋势，也没有把握。”那么，最早一批启动“开门红”的公司，业绩表现如何？一家上市保险公司上海分公司有关负责人在接受《国际金融报》记者采访时说：“今年‘...</td>\n",
       "      <td>2018-01-01 08:22:34</td>\n",
       "      <td>监管</td>\n",
       "    </tr>\n",
       "  </tbody>\n",
       "</table>\n",
       "</div>"
      ],
      "text/plain": [
       "          id gather_type  \\\n",
       "0  207398163        系统采集   \n",
       "\n",
       "                                                                url  \\\n",
       "0  http://finance1.ce.cn/rolling/201801/01/t20180101_27507758.shtml   \n",
       "\n",
       "              title  \\\n",
       "0  2018保险业：三大难题悬而未决   \n",
       "\n",
       "                                                                                                                                                                                                                                                                                                                                                                                                                                                                                                                                                                                                                                                                                                                                                                                                                                                                                                                                                                                                                                   content  \\\n",
       "0  雄关漫道真如铁，而今迈步从头越。2018年，中国保险业前路艰辛，三道难题摆在面前：“开门红”难有作为，全年保费目标如何完成？“大监管”有增无减，合规成本如何控制？BATJ强势“搅局”，金融科技有何作为？“开门红”集体哑火“开门红，全年红”，这是保险业的一条“金科玉律”。2018年，这条“铁律”可能要被打破了。年底保险圈内聚会上，大佬们见面寒暄的第一句话是：“你们今年‘开门红’卖得怎么样？”一部分人面露难色，一部分频频摇头，还有些干脆用一句“不谈了”草草了事。2018年，“开门红”为什么集体哑火？一家大型寿险公司负责人在接受《国际金融报》记者采访时透露，“一方面，受134号文（《关于规范人身保险公司产品开发设计行为的通知》）和136号文（《关于进一步加强人身保险公司销售管理工作的通知》）影响，今年各家公司‘开门红’启动时间比较晚。另一方面，今年‘开门红’产品回归保障，规模上不去在情理之中。”这两个文件究竟对“开门红”有什么影响？对此，一位资深保险业内人士告诉《国际金融报》记者：“134号文主要针对产品设计，136号文则针对产品销售。相比之下，前者的影响更大。在134号文提出的2017年10月1日‘大限’之日，很多保险公司都被迫更新产品，这些产品都是计划作为‘开门红’的产品。但是，10月1日真正拿到批文的产品没几个。”134号文核心内容包括：两全保险产品、年金保险产品，首次生存保险金给付应在保单生效满5年之后，且每年给付或部分领取比例不得超过已交保险费的20%；万能型保险产品、投资连结型保险产品设计应提供不定期、不定额追加保险费，灵活调整保险金额等功能。保险公司不得以附加险形式设计万能型保险产品或投资连结型保险产品。“我们的‘开门红’产品刚刚批下来。”2017年12月28日，一家合资寿险公司有关负责人向《国际金融报》记者透露，“往年10月至11月是启动‘开门红’的重要节点，今年，整个行业的‘开门红’时间都有所推迟。这跟保监会产品审批趋严有关。”一家大型寿险公司上海分公司总经理告诉《国际金融报》记者：“我们直到去年12月才收到总公司对‘开门红’的安排以及目标任务。坦率地说，市场都比较谨慎，大家都看不清楚今年‘开门红’的趋势，也没有把握。”那么，最早一批启动“开门红”的公司，业绩表现如何？一家上市保险公司上海分公司有关负责人在接受《国际金融报》记者采访时说：“今年‘...   \n",
       "\n",
       "          publishtime predict_label  \n",
       "0 2018-01-01 08:22:34            监管  "
      ]
     },
     "execution_count": 56,
     "metadata": {},
     "output_type": "execute_result"
    }
   ],
   "source": [
    "cbrc_combined = pd.merge(cbrc_cor, parse_data, on = 'id')\n",
    "cbrc_combined['predict_label'] = cbrc_combined['predict_label'].apply(lambda x:class_name_dict[x])\n",
    "print(cbrc_combined.shape)\n",
    "print(cbrc_combined['predict_label'].value_counts())\n",
    "cbrc_combined.iloc[:1, :]"
   ]
  },
  {
   "cell_type": "markdown",
   "metadata": {},
   "source": [
    "## 中国人寿 3"
   ]
  },
  {
   "cell_type": "code",
   "execution_count": 57,
   "metadata": {
    "ExecuteTime": {
     "end_time": "2019-01-10T02:32:00.346999Z",
     "start_time": "2019-01-10T02:31:50.068411Z"
    }
   },
   "outputs": [],
   "source": [
    "engine = specific_func.get_engine('cbirc')"
   ]
  },
  {
   "cell_type": "code",
   "execution_count": 58,
   "metadata": {
    "ExecuteTime": {
     "end_time": "2019-01-10T02:32:01.631072Z",
     "start_time": "2019-01-10T02:32:01.294053Z"
    }
   },
   "outputs": [
    {
     "name": "stdout",
     "output_type": "stream",
     "text": [
      "clic_cor:  (21, 6)\n"
     ]
    },
    {
     "data": {
      "text/html": [
       "<div>\n",
       "<style scoped>\n",
       "    .dataframe tbody tr th:only-of-type {\n",
       "        vertical-align: middle;\n",
       "    }\n",
       "\n",
       "    .dataframe tbody tr th {\n",
       "        vertical-align: top;\n",
       "    }\n",
       "\n",
       "    .dataframe thead th {\n",
       "        text-align: right;\n",
       "    }\n",
       "</style>\n",
       "<table border=\"1\" class=\"dataframe\">\n",
       "  <thead>\n",
       "    <tr style=\"text-align: right;\">\n",
       "      <th></th>\n",
       "      <th>id</th>\n",
       "      <th>gather_type</th>\n",
       "      <th>url</th>\n",
       "      <th>title</th>\n",
       "      <th>content</th>\n",
       "      <th>publishtime</th>\n",
       "    </tr>\n",
       "  </thead>\n",
       "  <tbody>\n",
       "    <tr>\n",
       "      <th>0</th>\n",
       "      <td>103261546</td>\n",
       "      <td>补录</td>\n",
       "      <td>http://bbs.suqian.cn/forum.php?mod=viewthread&amp;tid=660316&amp;extra=page%3D1</td>\n",
       "      <td>【咨询投诉】 关于宿城区中国人寿保险分公司未理赔的问题 [复制链接]</td>\n",
       "      <td>关于宿城区中国人寿保险分公司未理赔的问题 - 问政论坛 - 宿迁12345 - 便民服务365 - Powered by Discuz!\\r\\n开启辅助访问\\r\\n请 登录 后使用快捷导航没有帐号？立即注册\\r\\n﻿\\nAPP下载\\n|\\n登录\\n|\\n注册\\n ﻿\\r\\n搜索\\r\\n本版文章帖子用户\\r\\n首页网站首页\\r\\n问政论坛\\r\\n政民互动\\r\\n宿迁12345 - 便民服务365?首页 &amp;rsaquo; 宿迁12345 &amp;rsaquo; 问政论坛 &amp;rsaquo; 关于宿城区中国人寿保险分公司未理赔的问题 ...\\r\\n查看详情\\n发帖\\r\\n受理\\r\\n办结\\r\\n发帖\\r\\n受理\\r\\n办结\\r\\n1、处理人：\\r\\n188608*****\\r\\n处理时间：\\r\\n2018-10-27 03:46:35\\r\\n发帖</td>\n",
       "      <td>2018-10-27 03:46:35</td>\n",
       "    </tr>\n",
       "  </tbody>\n",
       "</table>\n",
       "</div>"
      ],
      "text/plain": [
       "          id gather_type  \\\n",
       "0  103261546          补录   \n",
       "\n",
       "                                                                       url  \\\n",
       "0  http://bbs.suqian.cn/forum.php?mod=viewthread&tid=660316&extra=page%3D1   \n",
       "\n",
       "                                title  \\\n",
       "0  【咨询投诉】 关于宿城区中国人寿保险分公司未理赔的问题 [复制链接]   \n",
       "\n",
       "                                                                                                                                                                                                                                                                                                                                                                               content  \\\n",
       "0  关于宿城区中国人寿保险分公司未理赔的问题 - 问政论坛 - 宿迁12345 - 便民服务365 - Powered by Discuz!\\r\\n开启辅助访问\\r\\n请 登录 后使用快捷导航没有帐号？立即注册\\r\\n﻿\\nAPP下载\\n|\\n登录\\n|\\n注册\\n ﻿\\r\\n搜索\\r\\n本版文章帖子用户\\r\\n首页网站首页\\r\\n问政论坛\\r\\n政民互动\\r\\n宿迁12345 - 便民服务365?首页 &rsaquo; 宿迁12345 &rsaquo; 问政论坛 &rsaquo; 关于宿城区中国人寿保险分公司未理赔的问题 ...\\r\\n查看详情\\n发帖\\r\\n受理\\r\\n办结\\r\\n发帖\\r\\n受理\\r\\n办结\\r\\n1、处理人：\\r\\n188608*****\\r\\n处理时间：\\r\\n2018-10-27 03:46:35\\r\\n发帖   \n",
       "\n",
       "          publishtime  \n",
       "0 2018-10-27 03:46:35  "
      ]
     },
     "execution_count": 58,
     "metadata": {},
     "output_type": "execute_result"
    }
   ],
   "source": [
    "url_tuple = tuple(data_clic['url'].tolist())\n",
    "url_tuple = tuple([url.replace('%', '%%') for url in url_tuple])\n",
    "\n",
    "sql_one_day = '''SELECT \n",
    "    t1.id, t2.gather_type, t1.url, t1.title, t3.text as content, t1.publishtime\n",
    "FROM\n",
    "    cbrc_circ.db_docinfo t1,\n",
    "    cbrc_circ.db_docinfo_trade t2, \n",
    "    cbrc_circ.db_docinfo_text t3\n",
    "WHERE\n",
    "    t2.type = 3\n",
    "        and t1.url IN {0}\n",
    "        and t1.urlhash = t2.urlhash\n",
    "        and t1.urlhash = t3.urlhash\n",
    "        '''.format(url_tuple)\n",
    "\n",
    "clic_cor = pd.read_sql(sql_one_day, engine)\n",
    "clic_cor['gather_type'] = clic_cor['gather_type'].apply(lambda x:gather_type_name_dict[x])\n",
    "print('clic_cor: ', clic_cor.shape)\n",
    "clic_cor.iloc[:1, :]"
   ]
  },
  {
   "cell_type": "code",
   "execution_count": 60,
   "metadata": {
    "ExecuteTime": {
     "end_time": "2019-01-10T02:32:19.193076Z",
     "start_time": "2019-01-10T02:32:18.412032Z"
    }
   },
   "outputs": [
    {
     "name": "stdout",
     "output_type": "stream",
     "text": [
      "elapsed_time:  0.00\n",
      "(21, 2)\n"
     ]
    },
    {
     "data": {
      "text/html": [
       "<div>\n",
       "<style scoped>\n",
       "    .dataframe tbody tr th:only-of-type {\n",
       "        vertical-align: middle;\n",
       "    }\n",
       "\n",
       "    .dataframe tbody tr th {\n",
       "        vertical-align: top;\n",
       "    }\n",
       "\n",
       "    .dataframe thead th {\n",
       "        text-align: right;\n",
       "    }\n",
       "</style>\n",
       "<table border=\"1\" class=\"dataframe\">\n",
       "  <thead>\n",
       "    <tr style=\"text-align: right;\">\n",
       "      <th></th>\n",
       "      <th>id</th>\n",
       "      <th>predict_label</th>\n",
       "    </tr>\n",
       "  </thead>\n",
       "  <tbody>\n",
       "    <tr>\n",
       "      <th>0</th>\n",
       "      <td>103261546</td>\n",
       "      <td>6</td>\n",
       "    </tr>\n",
       "    <tr>\n",
       "      <th>1</th>\n",
       "      <td>81827252</td>\n",
       "      <td>5</td>\n",
       "    </tr>\n",
       "    <tr>\n",
       "      <th>2</th>\n",
       "      <td>81821923</td>\n",
       "      <td>8</td>\n",
       "    </tr>\n",
       "    <tr>\n",
       "      <th>3</th>\n",
       "      <td>82562137</td>\n",
       "      <td>2</td>\n",
       "    </tr>\n",
       "    <tr>\n",
       "      <th>4</th>\n",
       "      <td>87306251</td>\n",
       "      <td>2</td>\n",
       "    </tr>\n",
       "  </tbody>\n",
       "</table>\n",
       "</div>"
      ],
      "text/plain": [
       "          id  predict_label\n",
       "0  103261546              6\n",
       "1   81827252              5\n",
       "2   81821923              8\n",
       "3   82562137              2\n",
       "4   87306251              2"
      ]
     },
     "execution_count": 60,
     "metadata": {},
     "output_type": "execute_result"
    }
   ],
   "source": [
    "url = 'http://47.93.183.157:10000/judge_correlation_i'\n",
    "col_name = 'cor'\n",
    "types = 3\n",
    "data = {\"types\":types,\"record\":clic_cor.loc[:,['id', 'title' ,'content']].to_dict(orient = 'records')}\n",
    "parse_data, elapsed_time = get_server_res(data, url, col_name)\n",
    "print('elapsed_time: ', elapsed_time)\n",
    "parse_data.columns = ['id', 'predict_label']\n",
    "print(parse_data.shape)\n",
    "parse_data.head()"
   ]
  },
  {
   "cell_type": "code",
   "execution_count": 61,
   "metadata": {
    "ExecuteTime": {
     "end_time": "2019-01-10T02:32:23.155303Z",
     "start_time": "2019-01-10T02:32:22.942291Z"
    }
   },
   "outputs": [
    {
     "name": "stdout",
     "output_type": "stream",
     "text": [
      "(21, 7)\n",
      "噪音        11\n",
      "消费服务       3\n",
      "公司内部管理     3\n",
      "行业         2\n",
      "监管         1\n",
      "资本市场       1\n",
      "Name: predict_label, dtype: int64\n"
     ]
    },
    {
     "data": {
      "text/html": [
       "<div>\n",
       "<style scoped>\n",
       "    .dataframe tbody tr th:only-of-type {\n",
       "        vertical-align: middle;\n",
       "    }\n",
       "\n",
       "    .dataframe tbody tr th {\n",
       "        vertical-align: top;\n",
       "    }\n",
       "\n",
       "    .dataframe thead th {\n",
       "        text-align: right;\n",
       "    }\n",
       "</style>\n",
       "<table border=\"1\" class=\"dataframe\">\n",
       "  <thead>\n",
       "    <tr style=\"text-align: right;\">\n",
       "      <th></th>\n",
       "      <th>id</th>\n",
       "      <th>gather_type</th>\n",
       "      <th>url</th>\n",
       "      <th>title</th>\n",
       "      <th>content</th>\n",
       "      <th>publishtime</th>\n",
       "      <th>predict_label</th>\n",
       "    </tr>\n",
       "  </thead>\n",
       "  <tbody>\n",
       "    <tr>\n",
       "      <th>0</th>\n",
       "      <td>103261546</td>\n",
       "      <td>补录</td>\n",
       "      <td>http://bbs.suqian.cn/forum.php?mod=viewthread&amp;tid=660316&amp;extra=page%3D1</td>\n",
       "      <td>【咨询投诉】 关于宿城区中国人寿保险分公司未理赔的问题 [复制链接]</td>\n",
       "      <td>关于宿城区中国人寿保险分公司未理赔的问题 - 问政论坛 - 宿迁12345 - 便民服务365 - Powered by Discuz!\\r\\n开启辅助访问\\r\\n请 登录 后使用快捷导航没有帐号？立即注册\\r\\n﻿\\nAPP下载\\n|\\n登录\\n|\\n注册\\n ﻿\\r\\n搜索\\r\\n本版文章帖子用户\\r\\n首页网站首页\\r\\n问政论坛\\r\\n政民互动\\r\\n宿迁12345 - 便民服务365?首页 &amp;rsaquo; 宿迁12345 &amp;rsaquo; 问政论坛 &amp;rsaquo; 关于宿城区中国人寿保险分公司未理赔的问题 ...\\r\\n查看详情\\n发帖\\r\\n受理\\r\\n办结\\r\\n发帖\\r\\n受理\\r\\n办结\\r\\n1、处理人：\\r\\n188608*****\\r\\n处理时间：\\r\\n2018-10-27 03:46:35\\r\\n发帖</td>\n",
       "      <td>2018-10-27 03:46:35</td>\n",
       "      <td>消费服务</td>\n",
       "    </tr>\n",
       "  </tbody>\n",
       "</table>\n",
       "</div>"
      ],
      "text/plain": [
       "          id gather_type  \\\n",
       "0  103261546          补录   \n",
       "\n",
       "                                                                       url  \\\n",
       "0  http://bbs.suqian.cn/forum.php?mod=viewthread&tid=660316&extra=page%3D1   \n",
       "\n",
       "                                title  \\\n",
       "0  【咨询投诉】 关于宿城区中国人寿保险分公司未理赔的问题 [复制链接]   \n",
       "\n",
       "                                                                                                                                                                                                                                                                                                                                                                               content  \\\n",
       "0  关于宿城区中国人寿保险分公司未理赔的问题 - 问政论坛 - 宿迁12345 - 便民服务365 - Powered by Discuz!\\r\\n开启辅助访问\\r\\n请 登录 后使用快捷导航没有帐号？立即注册\\r\\n﻿\\nAPP下载\\n|\\n登录\\n|\\n注册\\n ﻿\\r\\n搜索\\r\\n本版文章帖子用户\\r\\n首页网站首页\\r\\n问政论坛\\r\\n政民互动\\r\\n宿迁12345 - 便民服务365?首页 &rsaquo; 宿迁12345 &rsaquo; 问政论坛 &rsaquo; 关于宿城区中国人寿保险分公司未理赔的问题 ...\\r\\n查看详情\\n发帖\\r\\n受理\\r\\n办结\\r\\n发帖\\r\\n受理\\r\\n办结\\r\\n1、处理人：\\r\\n188608*****\\r\\n处理时间：\\r\\n2018-10-27 03:46:35\\r\\n发帖   \n",
       "\n",
       "          publishtime predict_label  \n",
       "0 2018-10-27 03:46:35          消费服务  "
      ]
     },
     "execution_count": 61,
     "metadata": {},
     "output_type": "execute_result"
    }
   ],
   "source": [
    "clic_combined = pd.merge(clic_cor, parse_data, on = 'id')\n",
    "clic_combined['predict_label'] = clic_combined['predict_label'].apply(lambda x:class_name_dict[x])\n",
    "print(clic_combined.shape)\n",
    "print(clic_combined['predict_label'].value_counts())\n",
    "clic_combined.iloc[:1, :]"
   ]
  },
  {
   "cell_type": "markdown",
   "metadata": {},
   "source": [
    "## 建行北分"
   ]
  },
  {
   "cell_type": "code",
   "execution_count": 62,
   "metadata": {
    "ExecuteTime": {
     "end_time": "2019-01-10T02:33:16.330345Z",
     "start_time": "2019-01-10T02:33:15.689308Z"
    }
   },
   "outputs": [
    {
     "name": "stdout",
     "output_type": "stream",
     "text": [
      "ccb_cor:  (52, 6)\n"
     ]
    },
    {
     "data": {
      "text/html": [
       "<div>\n",
       "<style scoped>\n",
       "    .dataframe tbody tr th:only-of-type {\n",
       "        vertical-align: middle;\n",
       "    }\n",
       "\n",
       "    .dataframe tbody tr th {\n",
       "        vertical-align: top;\n",
       "    }\n",
       "\n",
       "    .dataframe thead th {\n",
       "        text-align: right;\n",
       "    }\n",
       "</style>\n",
       "<table border=\"1\" class=\"dataframe\">\n",
       "  <thead>\n",
       "    <tr style=\"text-align: right;\">\n",
       "      <th></th>\n",
       "      <th>id</th>\n",
       "      <th>gather_type</th>\n",
       "      <th>url</th>\n",
       "      <th>title</th>\n",
       "      <th>content</th>\n",
       "      <th>publishtime</th>\n",
       "    </tr>\n",
       "  </thead>\n",
       "  <tbody>\n",
       "    <tr>\n",
       "      <th>0</th>\n",
       "      <td>84505510</td>\n",
       "      <td>补录</td>\n",
       "      <td>http://house.qq.com/a/20180918/002706.htm</td>\n",
       "      <td>长租市场迎来国家队：银行进军租房市场能解决痛点吗?</td>\n",
       "      <td>近期租房市场可谓处在风口浪尖……细心观察，租房市场一系列尖锐矛盾的背后都离不开资本这把双刃剑。那么，当最擅长资本游戏的银行亲自披挂上阵，深度参与房屋租赁交易时，租客和业主们又会迎来怎样一番景象呢？\\n\\r要租房找银行\\n\\r白领丽人小叶在北京参加工作已有四年，目前在一家央企工作。入职以来，她屡屡听同事说单位要搬到河北，所以迟迟没有下决心在北京买房。最近，一直租房居住的她又因为房东要卖房不得不搬家，这几天为了找新房跟各路中介打交道，身心疲惫不堪。小叶远在武汉的同学小文建议她可以试试建设银行推出的“建融家园”APP，上面有不少房源，还可以方便获取贷款。小文就是通过“建融家园”APP在武汉租到了理想的房子。小叶听后颇为心动。\\n\\r她进入手机下载中心，发现有“CCB建融家园”和“CCB建融公寓”两款软件，前者有个人房源也有品牌公寓，后者主要是各种精品公寓。粗略看来，公寓房源远远多于个人房源。个人房源基本上都是与中介合作的，发布信息上都标注“政府验真”，北京地区三个月内只有36套。相比之下，品牌公寓的房源数量多、质量高，三个月内有1446套，大多来自金融街公寓、创业公社37度公寓、华贸公寓、丽都壹号、国贸世纪公寓、通泰文园、利锦新苑等。与其他房产中介APP一样，建融家园支持在线预约看房，不同的是租客可以直接在建融家园上签约租房，还可以利用该软件记录水电表度数、在线报修、下载智能门锁。\\n\\r小叶想在西城区找个1室1厅的房子。输入搜索条件后，她发现最贵的是长安兴融中心，100平方米的北向1室1厅，月租金5万元起。价格比较适中的有荣丰小区、一铭公寓等，1室1厅面积在40平方米左右，月租金3000元至4000元。小叶很快就选中了一套价格、户型、位置都很理想的房子，预约这周末去看房。小叶不禁感慨：“没想到银行还开发了租房软件，而且有这么多好房源，比房产中介给我推荐的性价比都高。”\\n\\r能存款也能存房\\n\\r相比北京地区，建融家园在南方城市的房源更加丰富。比如其官网9月6日公布的租房数据显示，上海地区最近三个月发布的房源是24988套，成都9574套，南京11578套，武汉9087套。同北京地区一样，建行在其他城市的房源也是品牌公寓的数量远远多于个人房源。\\n\\r为进一步拓展个人房源供给，今年1月，建行在广东地区首创推出了“家庭不动产财富管理”业务，亦称“存房”业务。所谓“...</td>\n",
       "      <td>2018-09-18 08:27:06</td>\n",
       "    </tr>\n",
       "  </tbody>\n",
       "</table>\n",
       "</div>"
      ],
      "text/plain": [
       "         id gather_type                                        url  \\\n",
       "0  84505510          补录  http://house.qq.com/a/20180918/002706.htm   \n",
       "\n",
       "                       title  \\\n",
       "0  长租市场迎来国家队：银行进军租房市场能解决痛点吗?   \n",
       "\n",
       "                                                                                                                                                                                                                                                                                                                                                                                                                                                                                                                                                                                                                                                                                                                                                                                                                                                                                                                                                                                                                                   content  \\\n",
       "0  近期租房市场可谓处在风口浪尖……细心观察，租房市场一系列尖锐矛盾的背后都离不开资本这把双刃剑。那么，当最擅长资本游戏的银行亲自披挂上阵，深度参与房屋租赁交易时，租客和业主们又会迎来怎样一番景象呢？\\n\\r要租房找银行\\n\\r白领丽人小叶在北京参加工作已有四年，目前在一家央企工作。入职以来，她屡屡听同事说单位要搬到河北，所以迟迟没有下决心在北京买房。最近，一直租房居住的她又因为房东要卖房不得不搬家，这几天为了找新房跟各路中介打交道，身心疲惫不堪。小叶远在武汉的同学小文建议她可以试试建设银行推出的“建融家园”APP，上面有不少房源，还可以方便获取贷款。小文就是通过“建融家园”APP在武汉租到了理想的房子。小叶听后颇为心动。\\n\\r她进入手机下载中心，发现有“CCB建融家园”和“CCB建融公寓”两款软件，前者有个人房源也有品牌公寓，后者主要是各种精品公寓。粗略看来，公寓房源远远多于个人房源。个人房源基本上都是与中介合作的，发布信息上都标注“政府验真”，北京地区三个月内只有36套。相比之下，品牌公寓的房源数量多、质量高，三个月内有1446套，大多来自金融街公寓、创业公社37度公寓、华贸公寓、丽都壹号、国贸世纪公寓、通泰文园、利锦新苑等。与其他房产中介APP一样，建融家园支持在线预约看房，不同的是租客可以直接在建融家园上签约租房，还可以利用该软件记录水电表度数、在线报修、下载智能门锁。\\n\\r小叶想在西城区找个1室1厅的房子。输入搜索条件后，她发现最贵的是长安兴融中心，100平方米的北向1室1厅，月租金5万元起。价格比较适中的有荣丰小区、一铭公寓等，1室1厅面积在40平方米左右，月租金3000元至4000元。小叶很快就选中了一套价格、户型、位置都很理想的房子，预约这周末去看房。小叶不禁感慨：“没想到银行还开发了租房软件，而且有这么多好房源，比房产中介给我推荐的性价比都高。”\\n\\r能存款也能存房\\n\\r相比北京地区，建融家园在南方城市的房源更加丰富。比如其官网9月6日公布的租房数据显示，上海地区最近三个月发布的房源是24988套，成都9574套，南京11578套，武汉9087套。同北京地区一样，建行在其他城市的房源也是品牌公寓的数量远远多于个人房源。\\n\\r为进一步拓展个人房源供给，今年1月，建行在广东地区首创推出了“家庭不动产财富管理”业务，亦称“存房”业务。所谓“...   \n",
       "\n",
       "          publishtime  \n",
       "0 2018-09-18 08:27:06  "
      ]
     },
     "execution_count": 62,
     "metadata": {},
     "output_type": "execute_result"
    }
   ],
   "source": [
    "url_tuple = tuple(data_ccb['url'].tolist())\n",
    "url_tuple = tuple([url.replace('%', '%%') for url in url_tuple])\n",
    "\n",
    "sql_one_day = '''SELECT \n",
    "    t1.id, t2.gather_type, t1.url, t1.title, t3.text as content, t1.publishtime\n",
    "FROM\n",
    "    cbrc_circ.db_docinfo t1,\n",
    "    cbrc_circ.db_docinfo_trade t2, \n",
    "    cbrc_circ.db_docinfo_text t3\n",
    "WHERE\n",
    "    t2.type = 4\n",
    "        and t1.url IN {0}\n",
    "        and t1.urlhash = t2.urlhash\n",
    "        and t1.urlhash = t3.urlhash\n",
    "        '''.format(url_tuple)\n",
    "\n",
    "ccb_cor = pd.read_sql(sql_one_day, engine)\n",
    "ccb_cor['gather_type'] = ccb_cor['gather_type'].apply(lambda x:gather_type_name_dict[x])\n",
    "print('ccb_cor: ', ccb_cor.shape)\n",
    "ccb_cor.iloc[:1, :]"
   ]
  },
  {
   "cell_type": "code",
   "execution_count": 64,
   "metadata": {
    "ExecuteTime": {
     "end_time": "2019-01-10T02:53:54.168145Z",
     "start_time": "2019-01-10T02:53:51.988020Z"
    }
   },
   "outputs": [
    {
     "name": "stdout",
     "output_type": "stream",
     "text": [
      "elapsed_time:  1.00\n",
      "(52, 2)\n"
     ]
    },
    {
     "data": {
      "text/html": [
       "<div>\n",
       "<style scoped>\n",
       "    .dataframe tbody tr th:only-of-type {\n",
       "        vertical-align: middle;\n",
       "    }\n",
       "\n",
       "    .dataframe tbody tr th {\n",
       "        vertical-align: top;\n",
       "    }\n",
       "\n",
       "    .dataframe thead th {\n",
       "        text-align: right;\n",
       "    }\n",
       "</style>\n",
       "<table border=\"1\" class=\"dataframe\">\n",
       "  <thead>\n",
       "    <tr style=\"text-align: right;\">\n",
       "      <th></th>\n",
       "      <th>id</th>\n",
       "      <th>predict_label</th>\n",
       "    </tr>\n",
       "  </thead>\n",
       "  <tbody>\n",
       "    <tr>\n",
       "      <th>0</th>\n",
       "      <td>84505510</td>\n",
       "      <td>8</td>\n",
       "    </tr>\n",
       "    <tr>\n",
       "      <th>1</th>\n",
       "      <td>84908689</td>\n",
       "      <td>1</td>\n",
       "    </tr>\n",
       "    <tr>\n",
       "      <th>2</th>\n",
       "      <td>85043496</td>\n",
       "      <td>5</td>\n",
       "    </tr>\n",
       "    <tr>\n",
       "      <th>3</th>\n",
       "      <td>85043616</td>\n",
       "      <td>5</td>\n",
       "    </tr>\n",
       "    <tr>\n",
       "      <th>4</th>\n",
       "      <td>85056913</td>\n",
       "      <td>5</td>\n",
       "    </tr>\n",
       "  </tbody>\n",
       "</table>\n",
       "</div>"
      ],
      "text/plain": [
       "         id  predict_label\n",
       "0  84505510              8\n",
       "1  84908689              1\n",
       "2  85043496              5\n",
       "3  85043616              5\n",
       "4  85056913              5"
      ]
     },
     "execution_count": 64,
     "metadata": {},
     "output_type": "execute_result"
    }
   ],
   "source": [
    "url = 'http://47.93.183.157:6001/judge_correlation_b'\n",
    "col_name = 'cor'\n",
    "types = 4\n",
    "data = {\"types\":types,\"record\":ccb_cor.loc[:,['id', 'title' ,'content']].to_dict(orient = 'records')}\n",
    "parse_data, elapsed_time = get_server_res(data, url, col_name)\n",
    "print('elapsed_time: ', elapsed_time)\n",
    "parse_data.columns = ['id', 'predict_label']\n",
    "print(parse_data.shape)\n",
    "parse_data.head()"
   ]
  },
  {
   "cell_type": "code",
   "execution_count": 65,
   "metadata": {
    "ExecuteTime": {
     "end_time": "2019-01-10T02:53:58.521394Z",
     "start_time": "2019-01-10T02:53:58.167374Z"
    }
   },
   "outputs": [
    {
     "name": "stdout",
     "output_type": "stream",
     "text": [
      "(52, 7)\n",
      "噪音        23\n",
      "消费服务      13\n",
      "公司内部管理     8\n",
      "其他相关报道     3\n",
      "行业         2\n",
      "监管         2\n",
      "产品销售       1\n",
      "Name: predict_label, dtype: int64\n"
     ]
    },
    {
     "data": {
      "text/html": [
       "<div>\n",
       "<style scoped>\n",
       "    .dataframe tbody tr th:only-of-type {\n",
       "        vertical-align: middle;\n",
       "    }\n",
       "\n",
       "    .dataframe tbody tr th {\n",
       "        vertical-align: top;\n",
       "    }\n",
       "\n",
       "    .dataframe thead th {\n",
       "        text-align: right;\n",
       "    }\n",
       "</style>\n",
       "<table border=\"1\" class=\"dataframe\">\n",
       "  <thead>\n",
       "    <tr style=\"text-align: right;\">\n",
       "      <th></th>\n",
       "      <th>id</th>\n",
       "      <th>gather_type</th>\n",
       "      <th>url</th>\n",
       "      <th>title</th>\n",
       "      <th>content</th>\n",
       "      <th>publishtime</th>\n",
       "      <th>predict_label</th>\n",
       "    </tr>\n",
       "  </thead>\n",
       "  <tbody>\n",
       "    <tr>\n",
       "      <th>0</th>\n",
       "      <td>84505510</td>\n",
       "      <td>补录</td>\n",
       "      <td>http://house.qq.com/a/20180918/002706.htm</td>\n",
       "      <td>长租市场迎来国家队：银行进军租房市场能解决痛点吗?</td>\n",
       "      <td>近期租房市场可谓处在风口浪尖……细心观察，租房市场一系列尖锐矛盾的背后都离不开资本这把双刃剑。那么，当最擅长资本游戏的银行亲自披挂上阵，深度参与房屋租赁交易时，租客和业主们又会迎来怎样一番景象呢？\\n\\r要租房找银行\\n\\r白领丽人小叶在北京参加工作已有四年，目前在一家央企工作。入职以来，她屡屡听同事说单位要搬到河北，所以迟迟没有下决心在北京买房。最近，一直租房居住的她又因为房东要卖房不得不搬家，这几天为了找新房跟各路中介打交道，身心疲惫不堪。小叶远在武汉的同学小文建议她可以试试建设银行推出的“建融家园”APP，上面有不少房源，还可以方便获取贷款。小文就是通过“建融家园”APP在武汉租到了理想的房子。小叶听后颇为心动。\\n\\r她进入手机下载中心，发现有“CCB建融家园”和“CCB建融公寓”两款软件，前者有个人房源也有品牌公寓，后者主要是各种精品公寓。粗略看来，公寓房源远远多于个人房源。个人房源基本上都是与中介合作的，发布信息上都标注“政府验真”，北京地区三个月内只有36套。相比之下，品牌公寓的房源数量多、质量高，三个月内有1446套，大多来自金融街公寓、创业公社37度公寓、华贸公寓、丽都壹号、国贸世纪公寓、通泰文园、利锦新苑等。与其他房产中介APP一样，建融家园支持在线预约看房，不同的是租客可以直接在建融家园上签约租房，还可以利用该软件记录水电表度数、在线报修、下载智能门锁。\\n\\r小叶想在西城区找个1室1厅的房子。输入搜索条件后，她发现最贵的是长安兴融中心，100平方米的北向1室1厅，月租金5万元起。价格比较适中的有荣丰小区、一铭公寓等，1室1厅面积在40平方米左右，月租金3000元至4000元。小叶很快就选中了一套价格、户型、位置都很理想的房子，预约这周末去看房。小叶不禁感慨：“没想到银行还开发了租房软件，而且有这么多好房源，比房产中介给我推荐的性价比都高。”\\n\\r能存款也能存房\\n\\r相比北京地区，建融家园在南方城市的房源更加丰富。比如其官网9月6日公布的租房数据显示，上海地区最近三个月发布的房源是24988套，成都9574套，南京11578套，武汉9087套。同北京地区一样，建行在其他城市的房源也是品牌公寓的数量远远多于个人房源。\\n\\r为进一步拓展个人房源供给，今年1月，建行在广东地区首创推出了“家庭不动产财富管理”业务，亦称“存房”业务。所谓“...</td>\n",
       "      <td>2018-09-18 08:27:06</td>\n",
       "      <td>噪音</td>\n",
       "    </tr>\n",
       "  </tbody>\n",
       "</table>\n",
       "</div>"
      ],
      "text/plain": [
       "         id gather_type                                        url  \\\n",
       "0  84505510          补录  http://house.qq.com/a/20180918/002706.htm   \n",
       "\n",
       "                       title  \\\n",
       "0  长租市场迎来国家队：银行进军租房市场能解决痛点吗?   \n",
       "\n",
       "                                                                                                                                                                                                                                                                                                                                                                                                                                                                                                                                                                                                                                                                                                                                                                                                                                                                                                                                                                                                                                   content  \\\n",
       "0  近期租房市场可谓处在风口浪尖……细心观察，租房市场一系列尖锐矛盾的背后都离不开资本这把双刃剑。那么，当最擅长资本游戏的银行亲自披挂上阵，深度参与房屋租赁交易时，租客和业主们又会迎来怎样一番景象呢？\\n\\r要租房找银行\\n\\r白领丽人小叶在北京参加工作已有四年，目前在一家央企工作。入职以来，她屡屡听同事说单位要搬到河北，所以迟迟没有下决心在北京买房。最近，一直租房居住的她又因为房东要卖房不得不搬家，这几天为了找新房跟各路中介打交道，身心疲惫不堪。小叶远在武汉的同学小文建议她可以试试建设银行推出的“建融家园”APP，上面有不少房源，还可以方便获取贷款。小文就是通过“建融家园”APP在武汉租到了理想的房子。小叶听后颇为心动。\\n\\r她进入手机下载中心，发现有“CCB建融家园”和“CCB建融公寓”两款软件，前者有个人房源也有品牌公寓，后者主要是各种精品公寓。粗略看来，公寓房源远远多于个人房源。个人房源基本上都是与中介合作的，发布信息上都标注“政府验真”，北京地区三个月内只有36套。相比之下，品牌公寓的房源数量多、质量高，三个月内有1446套，大多来自金融街公寓、创业公社37度公寓、华贸公寓、丽都壹号、国贸世纪公寓、通泰文园、利锦新苑等。与其他房产中介APP一样，建融家园支持在线预约看房，不同的是租客可以直接在建融家园上签约租房，还可以利用该软件记录水电表度数、在线报修、下载智能门锁。\\n\\r小叶想在西城区找个1室1厅的房子。输入搜索条件后，她发现最贵的是长安兴融中心，100平方米的北向1室1厅，月租金5万元起。价格比较适中的有荣丰小区、一铭公寓等，1室1厅面积在40平方米左右，月租金3000元至4000元。小叶很快就选中了一套价格、户型、位置都很理想的房子，预约这周末去看房。小叶不禁感慨：“没想到银行还开发了租房软件，而且有这么多好房源，比房产中介给我推荐的性价比都高。”\\n\\r能存款也能存房\\n\\r相比北京地区，建融家园在南方城市的房源更加丰富。比如其官网9月6日公布的租房数据显示，上海地区最近三个月发布的房源是24988套，成都9574套，南京11578套，武汉9087套。同北京地区一样，建行在其他城市的房源也是品牌公寓的数量远远多于个人房源。\\n\\r为进一步拓展个人房源供给，今年1月，建行在广东地区首创推出了“家庭不动产财富管理”业务，亦称“存房”业务。所谓“...   \n",
       "\n",
       "          publishtime predict_label  \n",
       "0 2018-09-18 08:27:06            噪音  "
      ]
     },
     "execution_count": 65,
     "metadata": {},
     "output_type": "execute_result"
    }
   ],
   "source": [
    "ccb_combined = pd.merge(ccb_cor, parse_data, on = 'id')\n",
    "ccb_combined['predict_label'] = ccb_combined['predict_label'].apply(lambda x:class_name_dict[x])\n",
    "print(ccb_combined.shape)\n",
    "print(ccb_combined['predict_label'].value_counts())\n",
    "ccb_combined.iloc[:1, :]"
   ]
  },
  {
   "cell_type": "markdown",
   "metadata": {},
   "source": [
    "# 合并数据"
   ]
  },
  {
   "cell_type": "code",
   "execution_count": 66,
   "metadata": {
    "ExecuteTime": {
     "end_time": "2019-01-10T02:55:32.035742Z",
     "start_time": "2019-01-10T02:55:31.789728Z"
    }
   },
   "outputs": [
    {
     "name": "stdout",
     "output_type": "stream",
     "text": [
      "(883, 7)\n",
      "行业        203\n",
      "消费服务      200\n",
      "噪音        149\n",
      "公司内部管理    130\n",
      "监管        101\n",
      "资本市场       89\n",
      "其他相关报道      7\n",
      "产品销售        4\n",
      "Name: predict_label, dtype: int64\n"
     ]
    },
    {
     "data": {
      "text/html": [
       "<div>\n",
       "<style scoped>\n",
       "    .dataframe tbody tr th:only-of-type {\n",
       "        vertical-align: middle;\n",
       "    }\n",
       "\n",
       "    .dataframe tbody tr th {\n",
       "        vertical-align: top;\n",
       "    }\n",
       "\n",
       "    .dataframe thead th {\n",
       "        text-align: right;\n",
       "    }\n",
       "</style>\n",
       "<table border=\"1\" class=\"dataframe\">\n",
       "  <thead>\n",
       "    <tr style=\"text-align: right;\">\n",
       "      <th></th>\n",
       "      <th>id</th>\n",
       "      <th>gather_type</th>\n",
       "      <th>url</th>\n",
       "      <th>title</th>\n",
       "      <th>content</th>\n",
       "      <th>publishtime</th>\n",
       "      <th>predict_label</th>\n",
       "    </tr>\n",
       "  </thead>\n",
       "  <tbody>\n",
       "    <tr>\n",
       "      <th>0</th>\n",
       "      <td>12581783</td>\n",
       "      <td>补录</td>\n",
       "      <td>https://m.thepaper.cn/newsDetail_forward_2705527</td>\n",
       "      <td>中国人寿一营销员发布自媒体文章虚假宣传，被罚6000元</td>\n",
       "      <td>由于发布自媒体文章进行虚假宣传及承诺，中国人寿海南省分公司一保险营销员被罚6000元。\\n12月4日，海南银保监局筹备组发布的一则行政处罚决定书显示，2018年，中国人寿保险股份有限公司海南省分公司保险营销员王小伟通过自己注册的微信公众号“海口车险”发布文章《买车险，高优惠（海口车主都传疯了......）》进行虚假宣传及承诺。与此同时，王小伟还主动联系某电台广告推广人员，将该文章在某电台微信公众号进行推广。\\n海南银保监局筹备组表示，王小伟的行为违反了《中华人民共和国保险法》中有关保险代理人、保险经纪人及其从业人员在办理保险业务活动中的禁止行为。上述违法行为，有现场检查事实确认书、调查笔录、微信公众号“海口车险”相关内容截图材料等证据证明，足以认定。\\n对此，王小伟提出陈述申辩，申请从轻处罚：一是推广公众号2小时后，其已将不实宣传文章删除并停止推广，同时积极配合检查组的调查及按要求注销“海口车险”公众号；二是其从事保险行业时间短、收入低、经济困难。\\n但海南银保监局筹备组并未采纳他的申辩意见，决定对其警告并罚款6000元。海南银保监局筹备组表示，王小伟陈述提到的删除文章、停止推广、积极配合检查等事实已在拟作出行政处罚时予以考虑；王小伟的陈述申辩中，对处罚事实和证据没有异议，且没有提出新的证据。\\n针对自媒体营销可能产生的一系列违规问题，银保监会早在今年6月便发文要求各保险公司、保险中介机构对本公司官方自媒体和所属保险从业人员个人自媒体情况展开自查。究其原因，银保监会表示，由于自媒体渠道参与门槛低、发布主体多、信息审核弱、转发传播快，已成为保险销售误导、不实信息传播的高发领域，严重损害保险消费者合法权益，埋下大量保险消费纠纷和群体性事件风险隐患。\\n6月4日，银保监会下发《关于加强自媒体保险营销宣传行为管理的通知》（下称《通知》），要求严格规范所属保险从业人员利用自媒体编发保险营销宣传信息行为，对于涉及保险产品介绍、销售政策和营销宣传推介活动的，应以公司官方自媒体信息为准，严禁保险公司分支机构、保险中介机构分级机构及保险从业人员自行编发，对于不涉及上述内容的，应当制定责任部门进行审核管理。在进行保险营销宣传信息转载时，严禁转载未经所在公司审核的内容，确保真实可靠以及信息源可追溯。\\n在责任追究方面，各保险公司、保险中介机构应当将违法和不当自媒体保险营销宣传行为...</td>\n",
       "      <td>2018-12-05 08:35:27</td>\n",
       "      <td>公司内部管理</td>\n",
       "    </tr>\n",
       "  </tbody>\n",
       "</table>\n",
       "</div>"
      ],
      "text/plain": [
       "         id gather_type                                               url  \\\n",
       "0  12581783          补录  https://m.thepaper.cn/newsDetail_forward_2705527   \n",
       "\n",
       "                         title  \\\n",
       "0  中国人寿一营销员发布自媒体文章虚假宣传，被罚6000元   \n",
       "\n",
       "                                                                                                                                                                                                                                                                                                                                                                                                                                                                                                                                                                                                                                                                                                                                                                                                                                                                                                                                                                                                                                   content  \\\n",
       "0  由于发布自媒体文章进行虚假宣传及承诺，中国人寿海南省分公司一保险营销员被罚6000元。\\n12月4日，海南银保监局筹备组发布的一则行政处罚决定书显示，2018年，中国人寿保险股份有限公司海南省分公司保险营销员王小伟通过自己注册的微信公众号“海口车险”发布文章《买车险，高优惠（海口车主都传疯了......）》进行虚假宣传及承诺。与此同时，王小伟还主动联系某电台广告推广人员，将该文章在某电台微信公众号进行推广。\\n海南银保监局筹备组表示，王小伟的行为违反了《中华人民共和国保险法》中有关保险代理人、保险经纪人及其从业人员在办理保险业务活动中的禁止行为。上述违法行为，有现场检查事实确认书、调查笔录、微信公众号“海口车险”相关内容截图材料等证据证明，足以认定。\\n对此，王小伟提出陈述申辩，申请从轻处罚：一是推广公众号2小时后，其已将不实宣传文章删除并停止推广，同时积极配合检查组的调查及按要求注销“海口车险”公众号；二是其从事保险行业时间短、收入低、经济困难。\\n但海南银保监局筹备组并未采纳他的申辩意见，决定对其警告并罚款6000元。海南银保监局筹备组表示，王小伟陈述提到的删除文章、停止推广、积极配合检查等事实已在拟作出行政处罚时予以考虑；王小伟的陈述申辩中，对处罚事实和证据没有异议，且没有提出新的证据。\\n针对自媒体营销可能产生的一系列违规问题，银保监会早在今年6月便发文要求各保险公司、保险中介机构对本公司官方自媒体和所属保险从业人员个人自媒体情况展开自查。究其原因，银保监会表示，由于自媒体渠道参与门槛低、发布主体多、信息审核弱、转发传播快，已成为保险销售误导、不实信息传播的高发领域，严重损害保险消费者合法权益，埋下大量保险消费纠纷和群体性事件风险隐患。\\n6月4日，银保监会下发《关于加强自媒体保险营销宣传行为管理的通知》（下称《通知》），要求严格规范所属保险从业人员利用自媒体编发保险营销宣传信息行为，对于涉及保险产品介绍、销售政策和营销宣传推介活动的，应以公司官方自媒体信息为准，严禁保险公司分支机构、保险中介机构分级机构及保险从业人员自行编发，对于不涉及上述内容的，应当制定责任部门进行审核管理。在进行保险营销宣传信息转载时，严禁转载未经所在公司审核的内容，确保真实可靠以及信息源可追溯。\\n在责任追究方面，各保险公司、保险中介机构应当将违法和不当自媒体保险营销宣传行为...   \n",
       "\n",
       "          publishtime predict_label  \n",
       "0 2018-12-05 08:35:27        公司内部管理  "
      ]
     },
     "execution_count": 66,
     "metadata": {},
     "output_type": "execute_result"
    }
   ],
   "source": [
    "combined_data = pd.concat([circ_combined, cbrc_combined, clic_combined, ccb_combined], axis = 0)\n",
    "print(combined_data.shape)\n",
    "print(combined_data['predict_label'].value_counts())\n",
    "combined_data.iloc[:1, :]"
   ]
  },
  {
   "cell_type": "code",
   "execution_count": 77,
   "metadata": {
    "ExecuteTime": {
     "end_time": "2019-01-10T03:02:34.511907Z",
     "start_time": "2019-01-10T03:02:34.226890Z"
    }
   },
   "outputs": [
    {
     "name": "stdout",
     "output_type": "stream",
     "text": [
      "(1879, 13)\n",
      "行业        203\n",
      "消费服务      200\n",
      "噪音        153\n",
      "公司内部管理    130\n",
      "监管        102\n",
      "资本市场       89\n",
      "其他相关报道      7\n",
      "产品销售        4\n",
      "Name: predict_label, dtype: int64\n",
      "数据库中未查到    991\n",
      "补录         789\n",
      "系统采集        94\n",
      "校正           5\n",
      "Name: gather_type, dtype: int64\n"
     ]
    },
    {
     "data": {
      "text/html": [
       "<div>\n",
       "<style scoped>\n",
       "    .dataframe tbody tr th:only-of-type {\n",
       "        vertical-align: middle;\n",
       "    }\n",
       "\n",
       "    .dataframe tbody tr th {\n",
       "        vertical-align: top;\n",
       "    }\n",
       "\n",
       "    .dataframe thead th {\n",
       "        text-align: right;\n",
       "    }\n",
       "</style>\n",
       "<table border=\"1\" class=\"dataframe\">\n",
       "  <thead>\n",
       "    <tr style=\"text-align: right;\">\n",
       "      <th></th>\n",
       "      <th>index</th>\n",
       "      <th>标题</th>\n",
       "      <th>链接</th>\n",
       "      <th>时间</th>\n",
       "      <th>时间2</th>\n",
       "      <th>项目</th>\n",
       "      <th>url</th>\n",
       "      <th>id</th>\n",
       "      <th>gather_type</th>\n",
       "      <th>title</th>\n",
       "      <th>content</th>\n",
       "      <th>publishtime</th>\n",
       "      <th>predict_label</th>\n",
       "    </tr>\n",
       "  </thead>\n",
       "  <tbody>\n",
       "    <tr>\n",
       "      <th>0</th>\n",
       "      <td>1</td>\n",
       "      <td>超30家壽險公司三季度虧損 四季度保費有望扭轉頹勢</td>\n",
       "      <td>http//big5.china.com.cn/gate/big5/finance.china.com.cn/money/insurance/20181106/4801668.shtml</td>\n",
       "      <td>20181106091800</td>\n",
       "      <td>2018</td>\n",
       "      <td>保监会舆情CIRC</td>\n",
       "      <td>http://big5.china.com.cn/gate/big5/finance.china.com.cn/money/insurance/20181106/4801668.shtml</td>\n",
       "      <td>12759108.000</td>\n",
       "      <td>补录</td>\n",
       "      <td>超30家壽險公司三季度虧損 四季度保費有望扭轉頹勢</td>\n",
       "      <td>近期，壽險公司陸續公佈了今年三季度的償付能力報告，備受市場關注的是壽險公司虧損情況也隨之出爐。據《證券日報》記者不完全統計，今年三季度，共有超過30家險企凈利虧損(由於各險企披露口徑不統一，無法統計總體虧損金額)。\\n\\n　　從虧損原因來看，在投資端，今年三季度，包括國壽股份等大型險企在內的不少險企，利潤受到權益類市場下跌的影響；從保費端來看，部分中小險企保障型保險暫未形成規模，死差益收入不足。\\n\\n　　具體來看，三季度單季保險公司利潤增幅收窄，源於投資收益率同比下滑。前三季度中國平安、國壽股份、中國太保、新華保險年化總投資收益率分別為4.9%、3.3%、4.7%、4.8%，分別同比下降0.5%、1.8%、0.5%、0.4%。\\n\\n　　雖然權益類投資收益不盡人意，拖累險企三季度凈利潤，但今年四季度保費端有望扭轉這一頹勢。\\n\\n　　天風證券分析師羅鑽輝認為，下半年以來，銀行理財産品預期年化收益率大幅下滑，有利於保險産品的銷售。另外，儲蓄型産品和保障型産品的銷售存在著“共振效應”，儲蓄型産品的銷售改善也會提升保障型業務保費。\\n\\n　　此外，從保險公司內部來看，2017年四季度保費基數較低，在前三季度保費仍有缺口的情況下，預計各家公司將大力推動四季度業務，全力達成年度目標，四季度新單保費和NBV將實現較快增長。長期來看，人身險保障缺口巨大，壽險深度仍低於全球平均水準的70%，壽險深度提升的過程中，隨著居民保險意識提升、每人平均可支配收入穩步提升、居民杠桿率的高位將在未來5年內提升人身險需求。\\n\\n　　今年三季度，除部分險企出現虧損之外，其他險企還由於此前萬能險佔比較高，進入轉型期後，萬能險收入驟降，但保障型保險收入不足，死差益收入不足，持續出現虧損。\\n\\n　　實際上，保險公司的利潤來源有三個：一是死差益，即保險條款預期的賠付額與實際的賠付額之間的差額；二是利差益，即保險條款預定的利率與保險公司實際投資收益之間的差額；三是費差益，即保險條款預定的費用和保險公司實際發生的費用之間的差額。\\n\\n　　投射到保險産品，可將保險産品分為：保障性保險、投資性保險和保障投資性保險。保障性保險是指純保障性産品，沒有任何投資成分，短期意外和健康險偏向此類；投資性保險是指純投資性産品，沒有任何保障成分，投連險和萬能險偏向於此類；保障投資性保險是指既有保障成分又有投資...</td>\n",
       "      <td>2018-11-06 09:18:00</td>\n",
       "      <td>行业</td>\n",
       "    </tr>\n",
       "  </tbody>\n",
       "</table>\n",
       "</div>"
      ],
      "text/plain": [
       "   index                         标题  \\\n",
       "0      1  超30家壽險公司三季度虧損 四季度保費有望扭轉頹勢   \n",
       "\n",
       "                                                                                              链接  \\\n",
       "0  http//big5.china.com.cn/gate/big5/finance.china.com.cn/money/insurance/20181106/4801668.shtml   \n",
       "\n",
       "               时间   时间2         项目  \\\n",
       "0  20181106091800  2018  保监会舆情CIRC   \n",
       "\n",
       "                                                                                              url  \\\n",
       "0  http://big5.china.com.cn/gate/big5/finance.china.com.cn/money/insurance/20181106/4801668.shtml   \n",
       "\n",
       "            id gather_type                      title  \\\n",
       "0 12759108.000          补录  超30家壽險公司三季度虧損 四季度保費有望扭轉頹勢   \n",
       "\n",
       "                                                                                                                                                                                                                                                                                                                                                                                                                                                                                                                                                                                                                                                                                                                                                                                                                                                                                                                                                                                                                                   content  \\\n",
       "0   　　近期，壽險公司陸續公佈了今年三季度的償付能力報告，備受市場關注的是壽險公司虧損情況也隨之出爐。據《證券日報》記者不完全統計，今年三季度，共有超過30家險企凈利虧損(由於各險企披露口徑不統一，無法統計總體虧損金額)。\\n\\n　　從虧損原因來看，在投資端，今年三季度，包括國壽股份等大型險企在內的不少險企，利潤受到權益類市場下跌的影響；從保費端來看，部分中小險企保障型保險暫未形成規模，死差益收入不足。\\n\\n　　具體來看，三季度單季保險公司利潤增幅收窄，源於投資收益率同比下滑。前三季度中國平安、國壽股份、中國太保、新華保險年化總投資收益率分別為4.9%、3.3%、4.7%、4.8%，分別同比下降0.5%、1.8%、0.5%、0.4%。\\n\\n　　雖然權益類投資收益不盡人意，拖累險企三季度凈利潤，但今年四季度保費端有望扭轉這一頹勢。\\n\\n　　天風證券分析師羅鑽輝認為，下半年以來，銀行理財産品預期年化收益率大幅下滑，有利於保險産品的銷售。另外，儲蓄型産品和保障型産品的銷售存在著“共振效應”，儲蓄型産品的銷售改善也會提升保障型業務保費。\\n\\n　　此外，從保險公司內部來看，2017年四季度保費基數較低，在前三季度保費仍有缺口的情況下，預計各家公司將大力推動四季度業務，全力達成年度目標，四季度新單保費和NBV將實現較快增長。長期來看，人身險保障缺口巨大，壽險深度仍低於全球平均水準的70%，壽險深度提升的過程中，隨著居民保險意識提升、每人平均可支配收入穩步提升、居民杠桿率的高位將在未來5年內提升人身險需求。\\n\\n　　今年三季度，除部分險企出現虧損之外，其他險企還由於此前萬能險佔比較高，進入轉型期後，萬能險收入驟降，但保障型保險收入不足，死差益收入不足，持續出現虧損。\\n\\n　　實際上，保險公司的利潤來源有三個：一是死差益，即保險條款預期的賠付額與實際的賠付額之間的差額；二是利差益，即保險條款預定的利率與保險公司實際投資收益之間的差額；三是費差益，即保險條款預定的費用和保險公司實際發生的費用之間的差額。\\n\\n　　投射到保險産品，可將保險産品分為：保障性保險、投資性保險和保障投資性保險。保障性保險是指純保障性産品，沒有任何投資成分，短期意外和健康險偏向此類；投資性保險是指純投資性産品，沒有任何保障成分，投連險和萬能險偏向於此類；保障投資性保險是指既有保障成分又有投資...   \n",
       "\n",
       "          publishtime predict_label  \n",
       "0 2018-11-06 09:18:00            行业  "
      ]
     },
     "execution_count": 77,
     "metadata": {},
     "output_type": "execute_result"
    }
   ],
   "source": [
    "data_test_1 = pd.merge(data_test, combined_data, on = 'url', how = 'left')\n",
    "data_test_1['gather_type'] = data_test_1['gather_type'].fillna('数据库中未查到')\n",
    "print(data_test_1.shape)\n",
    "print(data_test_1['predict_label'].value_counts())\n",
    "print(data_test_1['gather_type'].value_counts())\n",
    "data_test_1.iloc[:1, :]"
   ]
  },
  {
   "cell_type": "code",
   "execution_count": 79,
   "metadata": {
    "ExecuteTime": {
     "end_time": "2019-01-10T03:03:42.872817Z",
     "start_time": "2019-01-10T03:03:41.532740Z"
    }
   },
   "outputs": [],
   "source": [
    "writer = pd.ExcelWriter('银保监、国寿、建行_数据分析_20190110.xlsx',\n",
    "                        engine='xlsxwriter',\n",
    "                        options={'strings_to_urls': False})\n",
    "\n",
    "data_test_1.to_excel(writer, sheet_name='Sheet1', index = False)\n",
    "writer.save()"
   ]
  },
  {
   "cell_type": "code",
   "execution_count": null,
   "metadata": {},
   "outputs": [],
   "source": []
  }
 ],
 "metadata": {
  "kernelspec": {
   "display_name": "Python 3",
   "language": "python",
   "name": "python3"
  },
  "language_info": {
   "codemirror_mode": {
    "name": "ipython",
    "version": 3
   },
   "file_extension": ".py",
   "mimetype": "text/x-python",
   "name": "python",
   "nbconvert_exporter": "python",
   "pygments_lexer": "ipython3",
   "version": "3.6.3"
  },
  "toc": {
   "nav_menu": {},
   "number_sections": true,
   "sideBar": true,
   "skip_h1_title": false,
   "title_cell": "Table of Contents",
   "title_sidebar": "Contents",
   "toc_cell": false,
   "toc_position": {},
   "toc_section_display": true,
   "toc_window_display": true
  },
  "varInspector": {
   "cols": {
    "lenName": 16,
    "lenType": 16,
    "lenVar": 40
   },
   "kernels_config": {
    "python": {
     "delete_cmd_postfix": "",
     "delete_cmd_prefix": "del ",
     "library": "var_list.py",
     "varRefreshCmd": "print(var_dic_list())"
    },
    "r": {
     "delete_cmd_postfix": ") ",
     "delete_cmd_prefix": "rm(",
     "library": "var_list.r",
     "varRefreshCmd": "cat(var_dic_list()) "
    }
   },
   "types_to_exclude": [
    "module",
    "function",
    "builtin_function_or_method",
    "instance",
    "_Feature"
   ],
   "window_display": false
  }
 },
 "nbformat": 4,
 "nbformat_minor": 2
}
