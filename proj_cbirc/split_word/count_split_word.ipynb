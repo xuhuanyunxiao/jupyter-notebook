{
 "cells": [
  {
   "cell_type": "markdown",
   "metadata": {},
   "source": [
    "# 本文件说明\n",
    "- 需求时间：20180704\n",
    "- 挑出不同机构的预警数据（title + content）分词计算词频\n",
    "- 一条新闻涉及多家机构时会重复多次，算多条数据\n",
    "- 按机构统计词频"
   ]
  },
  {
   "cell_type": "markdown",
   "metadata": {},
   "source": [
    "# 基本设置"
   ]
  },
  {
   "cell_type": "code",
   "execution_count": 1,
   "metadata": {
    "ExecuteTime": {
     "end_time": "2018-07-05T01:27:36.126588Z",
     "start_time": "2018-07-05T01:27:32.717393Z"
    }
   },
   "outputs": [
    {
     "name": "stderr",
     "output_type": "stream",
     "text": [
      "Building prefix dict from the default dictionary ...\n",
      "Loading model from cache C:\\Users\\ADMINI~1\\AppData\\Local\\Temp\\jieba.cache\n",
      "Loading model cost 0.948 seconds.\n",
      "Prefix dict has been built succesfully.\n"
     ]
    }
   ],
   "source": [
    "import numpy as np\n",
    "import pandas as pd\n",
    "\n",
    "from matplotlib import pyplot as plt\n",
    "import seaborn as sns\n",
    "%matplotlib inline\n",
    "\n",
    "import jieba\n",
    "from collections import Counter\n",
    "import pre_bank"
   ]
  },
  {
   "cell_type": "markdown",
   "metadata": {},
   "source": [
    "# 导入数据"
   ]
  },
  {
   "cell_type": "code",
   "execution_count": 2,
   "metadata": {
    "ExecuteTime": {
     "end_time": "2018-07-05T01:27:36.137588Z",
     "start_time": "2018-07-05T01:27:36.130588Z"
    },
    "collapsed": true
   },
   "outputs": [],
   "source": [
    "org_dict = {'263':'国家开发银行','265':'进出口银行','269':'邮政储蓄银行',\n",
    "            '272':'工商银行','273':'农业银行','274':'中国银行','275':'建设银行',\n",
    "            '276':'交通银行','278':'中信银行','279':'光大银行','280':'华夏银行',\n",
    "            '281':'广华银行','282':'平安银行','283':'招商银行','284':'浦发银行',\n",
    "            '285':'兴业银行','286':'民生银行','287':'恒丰银行','288':'浙商银行',\n",
    "            '289':'渤海银行','1920':'农业发展银行'}"
   ]
  },
  {
   "cell_type": "code",
   "execution_count": 3,
   "metadata": {
    "ExecuteTime": {
     "end_time": "2018-07-05T01:27:37.810684Z",
     "start_time": "2018-07-05T01:27:36.142588Z"
    }
   },
   "outputs": [
    {
     "name": "stdout",
     "output_type": "stream",
     "text": [
      "(25683, 4)\n"
     ]
    },
    {
     "data": {
      "text/html": [
       "<div>\n",
       "<style scoped>\n",
       "    .dataframe tbody tr th:only-of-type {\n",
       "        vertical-align: middle;\n",
       "    }\n",
       "\n",
       "    .dataframe tbody tr th {\n",
       "        vertical-align: top;\n",
       "    }\n",
       "\n",
       "    .dataframe thead th {\n",
       "        text-align: right;\n",
       "    }\n",
       "</style>\n",
       "<table border=\"1\" class=\"dataframe\">\n",
       "  <thead>\n",
       "    <tr style=\"text-align: right;\">\n",
       "      <th></th>\n",
       "      <th>tree_node_id</th>\n",
       "      <th>title</th>\n",
       "      <th>content</th>\n",
       "      <th>title_content</th>\n",
       "    </tr>\n",
       "  </thead>\n",
       "  <tbody>\n",
       "    <tr>\n",
       "      <th>0</th>\n",
       "      <td>国家开发银行</td>\n",
       "      <td>结构性存款激增9000亿!银行祭出揽储利器</td>\n",
       "      <td>证券时报记者 刘筱攸    强监管下，银行保本理财正逐渐萎缩。而替代它的产品之一，是结构...</td>\n",
       "      <td>结构性存款激增9000亿!银行祭出揽储利器  证券时报记者 刘筱攸    强监管下，银行保本...</td>\n",
       "    </tr>\n",
       "    <tr>\n",
       "      <th>1</th>\n",
       "      <td>国家开发银行</td>\n",
       "      <td>结构性存款激增9000亿!银行祭出揽储利器</td>\n",
       "      <td>强监管下，银行保本理财正逐渐萎缩。而替代它的产品之一，是结构性存款。　　证券时报记者统计...</td>\n",
       "      <td>结构性存款激增9000亿!银行祭出揽储利器　　强监管下，银行保本理财正逐渐萎缩。而替代它的产...</td>\n",
       "    </tr>\n",
       "    <tr>\n",
       "      <th>2</th>\n",
       "      <td>国家开发银行</td>\n",
       "      <td>结构性存款激增9000亿 银行祭出揽储利器</td>\n",
       "      <td>强监管下，银行保本理财正逐渐萎缩。而替代它的产品之一，是结构性存款。 　　证券时报记者统...</td>\n",
       "      <td>结构性存款激增9000亿 银行祭出揽储利器　　强监管下，银行保本理财正逐渐萎缩。而替代它的产...</td>\n",
       "    </tr>\n",
       "    <tr>\n",
       "      <th>3</th>\n",
       "      <td>国家开发银行</td>\n",
       "      <td>结构性存款激增9000亿!银行祭出揽储利器</td>\n",
       "      <td>数据来源：金融机构信贷收支统计数据 东方IC/供图 郑加良/制表  证券时报记者 刘筱攸  ...</td>\n",
       "      <td>结构性存款激增9000亿!银行祭出揽储利器数据来源：金融机构信贷收支统计数据 东方IC/供图...</td>\n",
       "    </tr>\n",
       "    <tr>\n",
       "      <th>4</th>\n",
       "      <td>国家开发银行</td>\n",
       "      <td>结构性存款激增9000亿!银行祭出揽储利器</td>\n",
       "      <td>摘要            【结构性存款激增9000亿!银行祭出揽储利器】强监管下，银行保本...</td>\n",
       "      <td>结构性存款激增9000亿!银行祭出揽储利器摘要            【结构性存款激增900...</td>\n",
       "    </tr>\n",
       "  </tbody>\n",
       "</table>\n",
       "</div>"
      ],
      "text/plain": [
       "  tree_node_id                  title  \\\n",
       "0       国家开发银行  结构性存款激增9000亿!银行祭出揽储利器   \n",
       "1       国家开发银行  结构性存款激增9000亿!银行祭出揽储利器   \n",
       "2       国家开发银行  结构性存款激增9000亿 银行祭出揽储利器   \n",
       "3       国家开发银行  结构性存款激增9000亿!银行祭出揽储利器   \n",
       "4       国家开发银行  结构性存款激增9000亿!银行祭出揽储利器   \n",
       "\n",
       "                                             content  \\\n",
       "0    证券时报记者 刘筱攸    强监管下，银行保本理财正逐渐萎缩。而替代它的产品之一，是结构...   \n",
       "1  　　强监管下，银行保本理财正逐渐萎缩。而替代它的产品之一，是结构性存款。　　证券时报记者统计...   \n",
       "2  　　强监管下，银行保本理财正逐渐萎缩。而替代它的产品之一，是结构性存款。 　　证券时报记者统...   \n",
       "3  数据来源：金融机构信贷收支统计数据 东方IC/供图 郑加良/制表  证券时报记者 刘筱攸  ...   \n",
       "4  摘要            【结构性存款激增9000亿!银行祭出揽储利器】强监管下，银行保本...   \n",
       "\n",
       "                                       title_content  \n",
       "0  结构性存款激增9000亿!银行祭出揽储利器  证券时报记者 刘筱攸    强监管下，银行保本...  \n",
       "1  结构性存款激增9000亿!银行祭出揽储利器　　强监管下，银行保本理财正逐渐萎缩。而替代它的产...  \n",
       "2  结构性存款激增9000亿 银行祭出揽储利器　　强监管下，银行保本理财正逐渐萎缩。而替代它的产...  \n",
       "3  结构性存款激增9000亿!银行祭出揽储利器数据来源：金融机构信贷收支统计数据 东方IC/供图...  \n",
       "4  结构性存款激增9000亿!银行祭出揽储利器摘要            【结构性存款激增900...  "
      ]
     },
     "execution_count": 3,
     "metadata": {},
     "output_type": "execute_result"
    }
   ],
   "source": [
    "data = pd.read_excel('data/第二季度21家预警数据.xlsx')\n",
    "data['title_content'] = data['title'] + data['content']\n",
    "data['tree_node_id'] = data['tree_node_id'].apply(lambda x:org_dict[str(x)])\n",
    "print(data.shape)\n",
    "data.head()"
   ]
  },
  {
   "cell_type": "code",
   "execution_count": 4,
   "metadata": {
    "ExecuteTime": {
     "end_time": "2018-07-05T01:27:37.828685Z",
     "start_time": "2018-07-05T01:27:37.814684Z"
    }
   },
   "outputs": [
    {
     "data": {
      "text/plain": [
       "中国银行      5139\n",
       "工商银行      3479\n",
       "建设银行      3026\n",
       "农业银行      2258\n",
       "招商银行      1959\n",
       "交通银行      1611\n",
       "兴业银行      1264\n",
       "中信银行      1175\n",
       "民生银行       934\n",
       "浦发银行       830\n",
       "光大银行       656\n",
       "浙商银行       651\n",
       "广华银行       572\n",
       "平安银行       563\n",
       "华夏银行       395\n",
       "邮政储蓄银行     312\n",
       "国家开发银行     213\n",
       "恒丰银行       211\n",
       "进出口银行      205\n",
       "农业发展银行     155\n",
       "渤海银行        75\n",
       "Name: tree_node_id, dtype: int64"
      ]
     },
     "execution_count": 4,
     "metadata": {},
     "output_type": "execute_result"
    }
   ],
   "source": [
    "data['tree_node_id'].value_counts()"
   ]
  },
  {
   "cell_type": "markdown",
   "metadata": {},
   "source": [
    "# 导入字典"
   ]
  },
  {
   "cell_type": "markdown",
   "metadata": {},
   "source": [
    "## 负面词"
   ]
  },
  {
   "cell_type": "code",
   "execution_count": 5,
   "metadata": {
    "ExecuteTime": {
     "end_time": "2018-07-05T01:27:37.935691Z",
     "start_time": "2018-07-05T01:27:37.831685Z"
    }
   },
   "outputs": [
    {
     "name": "stdout",
     "output_type": "stream",
     "text": [
      "1147\n"
     ]
    }
   ],
   "source": [
    "neg_1 = []\n",
    "f = open('corpus/neg_words.txt', 'r+', encoding = 'utf-8')\n",
    "for line in f.readlines():\n",
    "    neg_1.append(line.strip().encode('utf-8').decode('utf-8-sig'))\n",
    "f.close()    \n",
    "print(len(neg_1))"
   ]
  },
  {
   "cell_type": "code",
   "execution_count": 6,
   "metadata": {
    "ExecuteTime": {
     "end_time": "2018-07-05T01:27:38.006695Z",
     "start_time": "2018-07-05T01:27:37.939691Z"
    },
    "collapsed": true
   },
   "outputs": [],
   "source": [
    "# neg_1[1080:]"
   ]
  },
  {
   "cell_type": "code",
   "execution_count": 7,
   "metadata": {
    "ExecuteTime": {
     "end_time": "2018-07-05T01:27:38.060698Z",
     "start_time": "2018-07-05T01:27:38.009695Z"
    }
   },
   "outputs": [
    {
     "name": "stdout",
     "output_type": "stream",
     "text": [
      "864\n"
     ]
    }
   ],
   "source": [
    "neg_2 = []\n",
    "f = open('corpus/negative_words.txt', 'r+', encoding = 'utf-8')\n",
    "for line in f.readlines():\n",
    "    neg_2.append(line.strip().encode('utf-8').decode('utf-8-sig'))\n",
    "f.close() \n",
    "print(len(neg_2))"
   ]
  },
  {
   "cell_type": "code",
   "execution_count": 8,
   "metadata": {
    "ExecuteTime": {
     "end_time": "2018-07-05T01:27:38.157704Z",
     "start_time": "2018-07-05T01:27:38.064698Z"
    }
   },
   "outputs": [
    {
     "name": "stdout",
     "output_type": "stream",
     "text": [
      "(243, 2)\n"
     ]
    },
    {
     "data": {
      "text/html": [
       "<div>\n",
       "<style scoped>\n",
       "    .dataframe tbody tr th:only-of-type {\n",
       "        vertical-align: middle;\n",
       "    }\n",
       "\n",
       "    .dataframe tbody tr th {\n",
       "        vertical-align: top;\n",
       "    }\n",
       "\n",
       "    .dataframe thead th {\n",
       "        text-align: right;\n",
       "    }\n",
       "</style>\n",
       "<table border=\"1\" class=\"dataframe\">\n",
       "  <thead>\n",
       "    <tr style=\"text-align: right;\">\n",
       "      <th></th>\n",
       "      <th>关键词</th>\n",
       "      <th>批次</th>\n",
       "    </tr>\n",
       "  </thead>\n",
       "  <tbody>\n",
       "    <tr>\n",
       "      <th>0</th>\n",
       "      <td>傻叉</td>\n",
       "      <td>第一批</td>\n",
       "    </tr>\n",
       "    <tr>\n",
       "      <th>1</th>\n",
       "      <td>有毒</td>\n",
       "      <td>第一批</td>\n",
       "    </tr>\n",
       "    <tr>\n",
       "      <th>2</th>\n",
       "      <td>有待提高</td>\n",
       "      <td>第一批</td>\n",
       "    </tr>\n",
       "    <tr>\n",
       "      <th>3</th>\n",
       "      <td>垃圾</td>\n",
       "      <td>第一批</td>\n",
       "    </tr>\n",
       "    <tr>\n",
       "      <th>4</th>\n",
       "      <td>效率低</td>\n",
       "      <td>第一批</td>\n",
       "    </tr>\n",
       "  </tbody>\n",
       "</table>\n",
       "</div>"
      ],
      "text/plain": [
       "    关键词   批次\n",
       "0    傻叉  第一批\n",
       "1    有毒  第一批\n",
       "2  有待提高  第一批\n",
       "3    垃圾  第一批\n",
       "4   效率低  第一批"
      ]
     },
     "execution_count": 8,
     "metadata": {},
     "output_type": "execute_result"
    }
   ],
   "source": [
    "neg_3 = pd.read_excel('corpus/银行业微博负面词.xlsx')\n",
    "print(neg_3.shape)\n",
    "neg_3.head()"
   ]
  },
  {
   "cell_type": "code",
   "execution_count": 9,
   "metadata": {
    "ExecuteTime": {
     "end_time": "2018-07-05T01:27:38.319713Z",
     "start_time": "2018-07-05T01:27:38.162704Z"
    }
   },
   "outputs": [
    {
     "name": "stdout",
     "output_type": "stream",
     "text": [
      "(604, 2)\n"
     ]
    },
    {
     "data": {
      "text/html": [
       "<div>\n",
       "<style scoped>\n",
       "    .dataframe tbody tr th:only-of-type {\n",
       "        vertical-align: middle;\n",
       "    }\n",
       "\n",
       "    .dataframe tbody tr th {\n",
       "        vertical-align: top;\n",
       "    }\n",
       "\n",
       "    .dataframe thead th {\n",
       "        text-align: right;\n",
       "    }\n",
       "</style>\n",
       "<table border=\"1\" class=\"dataframe\">\n",
       "  <thead>\n",
       "    <tr style=\"text-align: right;\">\n",
       "      <th></th>\n",
       "      <th>预警词</th>\n",
       "      <th>倾向性</th>\n",
       "    </tr>\n",
       "  </thead>\n",
       "  <tbody>\n",
       "    <tr>\n",
       "      <th>0</th>\n",
       "      <td>ATM故障</td>\n",
       "      <td>NaN</td>\n",
       "    </tr>\n",
       "    <tr>\n",
       "      <th>1</th>\n",
       "      <td>SB</td>\n",
       "      <td>NaN</td>\n",
       "    </tr>\n",
       "    <tr>\n",
       "      <th>2</th>\n",
       "      <td>暗箱操作</td>\n",
       "      <td>NaN</td>\n",
       "    </tr>\n",
       "    <tr>\n",
       "      <th>3</th>\n",
       "      <td>罢工</td>\n",
       "      <td>NaN</td>\n",
       "    </tr>\n",
       "    <tr>\n",
       "      <th>4</th>\n",
       "      <td>霸道</td>\n",
       "      <td>NaN</td>\n",
       "    </tr>\n",
       "  </tbody>\n",
       "</table>\n",
       "</div>"
      ],
      "text/plain": [
       "     预警词  倾向性\n",
       "0  ATM故障  NaN\n",
       "1     SB  NaN\n",
       "2   暗箱操作  NaN\n",
       "3     罢工  NaN\n",
       "4     霸道  NaN"
      ]
     },
     "execution_count": 9,
     "metadata": {},
     "output_type": "execute_result"
    }
   ],
   "source": [
    "neg_4 = pd.read_excel('corpus/银行业负面词及预警词-长文本.xlsx')\n",
    "print(neg_4.shape)\n",
    "neg_4.head()"
   ]
  },
  {
   "cell_type": "code",
   "execution_count": 10,
   "metadata": {
    "ExecuteTime": {
     "end_time": "2018-07-05T01:27:38.400718Z",
     "start_time": "2018-07-05T01:27:38.323713Z"
    }
   },
   "outputs": [
    {
     "name": "stdout",
     "output_type": "stream",
     "text": [
      "去重前： 2858\n",
      "去重后： 2589\n",
      "remove_word:  银行\n"
     ]
    }
   ],
   "source": [
    "neg_words = neg_1 + neg_2 + neg_3['关键词'].tolist() + neg_4['预警词'].tolist()\n",
    "print('去重前：', len(neg_words))\n",
    "neg_words = list(set(neg_words))\n",
    "print('去重后：', len(neg_words))\\\n",
    "\n",
    "remove_list = ['银行',]\n",
    "for remove_word in remove_list:\n",
    "    if remove_word in  neg_words:\n",
    "        neg_words.remove(remove_word)\n",
    "        print('remove_word: ', remove_word)"
   ]
  },
  {
   "cell_type": "code",
   "execution_count": 11,
   "metadata": {
    "ExecuteTime": {
     "end_time": "2018-07-05T01:27:38.481722Z",
     "start_time": "2018-07-05T01:27:38.411718Z"
    },
    "collapsed": true
   },
   "outputs": [],
   "source": [
    "# x = '银行'\n",
    "# if x in neg_words:\n",
    "#     print(neg_words.index(x))\n",
    "#     print(neg_words[neg_words.index(x)])"
   ]
  },
  {
   "cell_type": "code",
   "execution_count": 12,
   "metadata": {
    "ExecuteTime": {
     "end_time": "2018-07-05T01:27:38.565727Z",
     "start_time": "2018-07-05T01:27:38.484722Z"
    },
    "collapsed": true
   },
   "outputs": [],
   "source": [
    "f = open('corpus/neg_words_20180704.txt', 'w+', encoding = 'utf-8')\n",
    "for line in neg_words:\n",
    "    f.write(line + '\\n')\n",
    "f.close()    "
   ]
  },
  {
   "cell_type": "markdown",
   "metadata": {},
   "source": [
    "## 银行词典"
   ]
  },
  {
   "cell_type": "code",
   "execution_count": 13,
   "metadata": {
    "ExecuteTime": {
     "end_time": "2018-07-05T01:27:38.668733Z",
     "start_time": "2018-07-05T01:27:38.568727Z"
    }
   },
   "outputs": [
    {
     "name": "stdout",
     "output_type": "stream",
     "text": [
      "1354\n"
     ]
    }
   ],
   "source": [
    "bank_dict_1 = []\n",
    "f = open('corpus/bank_dict.txt', 'r+', encoding = 'utf-8')\n",
    "for line in f.readlines():\n",
    "    bank_dict_1.append(line.strip().encode('utf-8').decode('utf-8-sig'))\n",
    "f.close()    \n",
    "print(len(bank_dict_1))"
   ]
  },
  {
   "cell_type": "code",
   "execution_count": 14,
   "metadata": {
    "ExecuteTime": {
     "end_time": "2018-07-05T01:27:38.825742Z",
     "start_time": "2018-07-05T01:27:38.672733Z"
    }
   },
   "outputs": [
    {
     "name": "stdout",
     "output_type": "stream",
     "text": [
      "(1560, 1)\n"
     ]
    },
    {
     "data": {
      "text/html": [
       "<div>\n",
       "<style scoped>\n",
       "    .dataframe tbody tr th:only-of-type {\n",
       "        vertical-align: middle;\n",
       "    }\n",
       "\n",
       "    .dataframe tbody tr th {\n",
       "        vertical-align: top;\n",
       "    }\n",
       "\n",
       "    .dataframe thead th {\n",
       "        text-align: right;\n",
       "    }\n",
       "</style>\n",
       "<table border=\"1\" class=\"dataframe\">\n",
       "  <thead>\n",
       "    <tr style=\"text-align: right;\">\n",
       "      <th></th>\n",
       "      <th>关键词</th>\n",
       "    </tr>\n",
       "  </thead>\n",
       "  <tbody>\n",
       "    <tr>\n",
       "      <th>0</th>\n",
       "      <td>AMC</td>\n",
       "    </tr>\n",
       "    <tr>\n",
       "      <th>1</th>\n",
       "      <td>ATM</td>\n",
       "    </tr>\n",
       "    <tr>\n",
       "      <th>2</th>\n",
       "      <td>存取款机</td>\n",
       "    </tr>\n",
       "    <tr>\n",
       "      <th>3</th>\n",
       "      <td>ATM机</td>\n",
       "    </tr>\n",
       "    <tr>\n",
       "      <th>4</th>\n",
       "      <td>取款机</td>\n",
       "    </tr>\n",
       "  </tbody>\n",
       "</table>\n",
       "</div>"
      ],
      "text/plain": [
       "    关键词\n",
       "0   AMC\n",
       "1   ATM\n",
       "2  存取款机\n",
       "3  ATM机\n",
       "4   取款机"
      ]
     },
     "execution_count": 14,
     "metadata": {},
     "output_type": "execute_result"
    }
   ],
   "source": [
    "bank_dict_2 = pd.read_excel('corpus/银行业词典v5.xlsx')\n",
    "print(bank_dict_2.shape)\n",
    "bank_dict_2.head()"
   ]
  },
  {
   "cell_type": "code",
   "execution_count": 15,
   "metadata": {
    "ExecuteTime": {
     "end_time": "2018-07-05T01:27:39.180762Z",
     "start_time": "2018-07-05T01:27:38.829742Z"
    }
   },
   "outputs": [
    {
     "name": "stdout",
     "output_type": "stream",
     "text": [
      "(4432, 2)\n"
     ]
    },
    {
     "data": {
      "text/html": [
       "<div>\n",
       "<style scoped>\n",
       "    .dataframe tbody tr th:only-of-type {\n",
       "        vertical-align: middle;\n",
       "    }\n",
       "\n",
       "    .dataframe tbody tr th {\n",
       "        vertical-align: top;\n",
       "    }\n",
       "\n",
       "    .dataframe thead th {\n",
       "        text-align: right;\n",
       "    }\n",
       "</style>\n",
       "<table border=\"1\" class=\"dataframe\">\n",
       "  <thead>\n",
       "    <tr style=\"text-align: right;\">\n",
       "      <th></th>\n",
       "      <th>银行名称</th>\n",
       "      <th>银行同义词</th>\n",
       "    </tr>\n",
       "  </thead>\n",
       "  <tbody>\n",
       "    <tr>\n",
       "      <th>4427</th>\n",
       "      <td>温岭市箬横镇玉麟农村资金互助社</td>\n",
       "      <td>玉麟农村资金互助社 玉麟资金互助社</td>\n",
       "    </tr>\n",
       "    <tr>\n",
       "      <th>4428</th>\n",
       "      <td>瑞安市马屿镇汇民农村资金互助社</td>\n",
       "      <td>汇民农村资金互助社 汇民资金互助社</td>\n",
       "    </tr>\n",
       "    <tr>\n",
       "      <th>4429</th>\n",
       "      <td>建德市大同镇桑盈农村资金互助社</td>\n",
       "      <td>桑盈农村资金互助社 桑盈资金互助社</td>\n",
       "    </tr>\n",
       "    <tr>\n",
       "      <th>4430</th>\n",
       "      <td>重庆市黔江区城东诚信农村资金互助社</td>\n",
       "      <td>黔江区城东诚信农村资金互助社 黔江城东诚信资金互助社 黔江诚信农村资金互助社 黔江诚信资金互助社</td>\n",
       "    </tr>\n",
       "    <tr>\n",
       "      <th>4431</th>\n",
       "      <td>重庆市江津区白沙镇明星农村资金互助社</td>\n",
       "      <td>明星农村资金互助社 明星资金互助社</td>\n",
       "    </tr>\n",
       "  </tbody>\n",
       "</table>\n",
       "</div>"
      ],
      "text/plain": [
       "                    银行名称                                             银行同义词\n",
       "4427     温岭市箬横镇玉麟农村资金互助社                                 玉麟农村资金互助社 玉麟资金互助社\n",
       "4428     瑞安市马屿镇汇民农村资金互助社                                 汇民农村资金互助社 汇民资金互助社\n",
       "4429     建德市大同镇桑盈农村资金互助社                                 桑盈农村资金互助社 桑盈资金互助社\n",
       "4430   重庆市黔江区城东诚信农村资金互助社  黔江区城东诚信农村资金互助社 黔江城东诚信资金互助社 黔江诚信农村资金互助社 黔江诚信资金互助社\n",
       "4431  重庆市江津区白沙镇明星农村资金互助社                                 明星农村资金互助社 明星资金互助社"
      ]
     },
     "execution_count": 15,
     "metadata": {},
     "output_type": "execute_result"
    }
   ],
   "source": [
    "bank_dict_tmp = pd.read_excel('corpus/180511金融机构词表.xlsx')\n",
    "print(bank_dict_tmp.shape)\n",
    "bank_dict_tmp.tail()"
   ]
  },
  {
   "cell_type": "code",
   "execution_count": 16,
   "metadata": {
    "ExecuteTime": {
     "end_time": "2018-07-05T01:27:39.197763Z",
     "start_time": "2018-07-05T01:27:39.184762Z"
    },
    "collapsed": true
   },
   "outputs": [],
   "source": [
    "bank_dict_3 = bank_dict_tmp['银行名称'].tolist()\n",
    "bank_dict_4 = []\n",
    "for words in bank_dict_tmp['银行同义词'].tolist():\n",
    "    if str(words) != 'nan':\n",
    "        word_list = str(words).split(' ')\n",
    "        bank_dict_4 += word_list"
   ]
  },
  {
   "cell_type": "code",
   "execution_count": 17,
   "metadata": {
    "ExecuteTime": {
     "end_time": "2018-07-05T01:27:39.287768Z",
     "start_time": "2018-07-05T01:27:39.201763Z"
    }
   },
   "outputs": [
    {
     "name": "stdout",
     "output_type": "stream",
     "text": [
      "去重前： 23102\n",
      "去重后： 20371\n"
     ]
    }
   ],
   "source": [
    "bank_dict = bank_dict_1 + bank_dict_2['关键词'].tolist() + bank_dict_3 + bank_dict_4\n",
    "print('去重前：', len(bank_dict))\n",
    "bank_dict = list(set(bank_dict))\n",
    "print('去重后：', len(bank_dict))\n",
    "\n",
    "# remove_list = ['银行',]\n",
    "# for remove_word in remove_list:\n",
    "#     if remove_word in  neg_words:\n",
    "#         neg_words.remove(remove_word)\n",
    "#         print('remove_word: ', remove_word)"
   ]
  },
  {
   "cell_type": "code",
   "execution_count": 18,
   "metadata": {
    "ExecuteTime": {
     "end_time": "2018-07-05T01:27:39.373773Z",
     "start_time": "2018-07-05T01:27:39.292769Z"
    }
   },
   "outputs": [
    {
     "name": "stdout",
     "output_type": "stream",
     "text": [
      "861\n",
      "银行\n"
     ]
    }
   ],
   "source": [
    "x = '银行'\n",
    "if x in bank_dict_1:\n",
    "    print(bank_dict_1.index(x))\n",
    "    print(bank_dict_1[bank_dict_1.index(x)])"
   ]
  },
  {
   "cell_type": "code",
   "execution_count": 19,
   "metadata": {
    "ExecuteTime": {
     "end_time": "2018-07-05T01:27:39.466779Z",
     "start_time": "2018-07-05T01:27:39.378774Z"
    },
    "collapsed": true
   },
   "outputs": [],
   "source": [
    "# bank_dict_1[860:]"
   ]
  },
  {
   "cell_type": "code",
   "execution_count": 20,
   "metadata": {
    "ExecuteTime": {
     "end_time": "2018-07-05T01:27:39.606787Z",
     "start_time": "2018-07-05T01:27:39.472779Z"
    },
    "collapsed": true
   },
   "outputs": [],
   "source": [
    "f = open('corpus/bank_dict_20180704.txt', 'w+', encoding = 'utf-8')\n",
    "for line in bank_dict:\n",
    "    if len(line) > 0:\n",
    "        f.write(line + '\\n')\n",
    "f.close()   "
   ]
  },
  {
   "cell_type": "markdown",
   "metadata": {},
   "source": [
    "## 预处理 + 分词 + 词频统计"
   ]
  },
  {
   "cell_type": "code",
   "execution_count": 21,
   "metadata": {
    "ExecuteTime": {
     "end_time": "2018-07-05T01:27:39.665790Z",
     "start_time": "2018-07-05T01:27:39.610787Z"
    },
    "collapsed": true
   },
   "outputs": [],
   "source": [
    "class decide_neg():\n",
    "    def __init__(self):\n",
    "        self.neg_words = []\n",
    "        f = open('corpus/neg_words_20180704.txt', 'r+', encoding = 'utf-8')\n",
    "        for word in f.readlines():\n",
    "            self.neg_words.append(word.replace('\\n', ''))\n",
    "        f.close()  \n",
    "        \n",
    "    def get_neg_label(self, x):\n",
    "        for word in self.neg_words:\n",
    "            if word == x:\n",
    "#                 print('word', word)\n",
    "#                 print('x', x)\n",
    "                return 1\n",
    "                break\n",
    "        "
   ]
  },
  {
   "cell_type": "code",
   "execution_count": 22,
   "metadata": {
    "ExecuteTime": {
     "end_time": "2018-07-05T01:31:46.494296Z",
     "start_time": "2018-07-05T01:27:39.668790Z"
    }
   },
   "outputs": [
    {
     "name": "stdout",
     "output_type": "stream",
     "text": [
      "-- 处理机构： 国家开发银行\n",
      "---- 共 213 条数据\n",
      "-- 处理机构： 进出口银行\n",
      "---- 共 205 条数据\n",
      "-- 处理机构： 邮政储蓄银行\n",
      "---- 共 312 条数据\n",
      "-- 处理机构： 工商银行\n",
      "---- 共 3479 条数据\n",
      "-- 处理机构： 农业银行\n",
      "---- 共 2258 条数据\n",
      "-- 处理机构： 中国银行\n",
      "---- 共 5139 条数据\n",
      "-- 处理机构： 建设银行\n",
      "---- 共 3026 条数据\n",
      "-- 处理机构： 交通银行\n",
      "---- 共 1611 条数据\n",
      "-- 处理机构： 中信银行\n",
      "---- 共 1175 条数据\n",
      "-- 处理机构： 光大银行\n",
      "---- 共 656 条数据\n",
      "-- 处理机构： 华夏银行\n",
      "---- 共 395 条数据\n",
      "-- 处理机构： 广华银行\n",
      "---- 共 572 条数据\n",
      "-- 处理机构： 平安银行\n",
      "---- 共 563 条数据\n",
      "-- 处理机构： 招商银行\n",
      "---- 共 1959 条数据\n",
      "-- 处理机构： 浦发银行\n",
      "---- 共 830 条数据\n",
      "-- 处理机构： 兴业银行\n",
      "---- 共 1264 条数据\n",
      "-- 处理机构： 民生银行\n",
      "---- 共 934 条数据\n",
      "-- 处理机构： 恒丰银行\n",
      "---- 共 211 条数据\n",
      "-- 处理机构： 浙商银行\n",
      "---- 共 651 条数据\n",
      "-- 处理机构： 渤海银行\n",
      "---- 共 75 条数据\n",
      "-- 处理机构： 农业发展银行\n",
      "---- 共 155 条数据\n"
     ]
    }
   ],
   "source": [
    "for bank in data['tree_node_id'].unique():\n",
    "    print('-- 处理机构：', bank)    \n",
    "    bank_data = data[data['tree_node_id'] == bank]['title_content'].tolist()\n",
    "    print('---- 共 %s 条数据'%len(bank_data)) \n",
    "    \n",
    "    bank_pre = pre_bank.handle_contents(bank_data)\n",
    "    \n",
    "    word_count = {}\n",
    "    for words in bank_pre:\n",
    "        word_list = words.split(' ')\n",
    "        for word in word_list:\n",
    "            if len(word) <= 1: #排除单个字符的分词结果\n",
    "                continue\n",
    "            elif str(word) == 'nan':\n",
    "                continue\n",
    "            else :\n",
    "                word_count[word]=word_count.get(word,0)+1\n",
    "                \n",
    "    word_data = pd.DataFrame.from_dict(word_count, orient='index').sort_values(by = 0, ascending = False).reset_index()\n",
    "    word_data.columns = ['word', 'freq']\n",
    "    y = decide_neg()\n",
    "    word_data['neg'] = word_data['word'].apply(lambda x:y.get_neg_label(x))\n",
    "    word_data.fillna(0).to_excel('data_count/%s_word_counts_20180704.xlsx'%bank, index = False)"
   ]
  },
  {
   "cell_type": "code",
   "execution_count": null,
   "metadata": {
    "collapsed": true
   },
   "outputs": [],
   "source": []
  },
  {
   "cell_type": "code",
   "execution_count": null,
   "metadata": {
    "collapsed": true
   },
   "outputs": [],
   "source": []
  }
 ],
 "metadata": {
  "kernelspec": {
   "display_name": "Python 3",
   "language": "python",
   "name": "python3"
  },
  "language_info": {
   "codemirror_mode": {
    "name": "ipython",
    "version": 3
   },
   "file_extension": ".py",
   "mimetype": "text/x-python",
   "name": "python",
   "nbconvert_exporter": "python",
   "pygments_lexer": "ipython3",
   "version": "3.6.3"
  },
  "toc": {
   "nav_menu": {},
   "number_sections": true,
   "sideBar": true,
   "skip_h1_title": false,
   "title_cell": "Table of Contents",
   "title_sidebar": "Contents",
   "toc_cell": false,
   "toc_position": {
    "height": "calc(100% - 180px)",
    "left": "10px",
    "top": "150px",
    "width": "376px"
   },
   "toc_section_display": true,
   "toc_window_display": true
  },
  "varInspector": {
   "cols": {
    "lenName": 16,
    "lenType": 16,
    "lenVar": 40
   },
   "kernels_config": {
    "python": {
     "delete_cmd_postfix": "",
     "delete_cmd_prefix": "del ",
     "library": "var_list.py",
     "varRefreshCmd": "print(var_dic_list())"
    },
    "r": {
     "delete_cmd_postfix": ") ",
     "delete_cmd_prefix": "rm(",
     "library": "var_list.r",
     "varRefreshCmd": "cat(var_dic_list()) "
    }
   },
   "types_to_exclude": [
    "module",
    "function",
    "builtin_function_or_method",
    "instance",
    "_Feature"
   ],
   "window_display": false
  }
 },
 "nbformat": 4,
 "nbformat_minor": 2
}
