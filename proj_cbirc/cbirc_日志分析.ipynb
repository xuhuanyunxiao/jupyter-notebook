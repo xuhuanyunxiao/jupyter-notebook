{
 "cells": [
  {
   "cell_type": "code",
   "execution_count": 13,
   "metadata": {
    "ExecuteTime": {
     "end_time": "2018-06-06T10:07:25.449862Z",
     "start_time": "2018-06-06T10:07:25.424861Z"
    }
   },
   "outputs": [
    {
     "data": {
      "text/plain": [
       "['ret_list: 7', ' lost_seconds: 0s']"
      ]
     },
     "execution_count": 13,
     "metadata": {},
     "output_type": "execute_result"
    }
   ],
   "source": [
    "con.split('{')[1].replace('}','').replace('\\n', '').split(',')"
   ]
  },
  {
   "cell_type": "code",
   "execution_count": 1,
   "metadata": {
    "ExecuteTime": {
     "end_time": "2018-06-06T09:48:14.398629Z",
     "start_time": "2018-06-06T09:48:14.027608Z"
    },
    "collapsed": true
   },
   "outputs": [],
   "source": [
    "import pandas as pd"
   ]
  },
  {
   "cell_type": "code",
   "execution_count": 7,
   "metadata": {
    "ExecuteTime": {
     "end_time": "2018-06-06T09:53:09.184490Z",
     "start_time": "2018-06-06T09:53:09.133487Z"
    }
   },
   "outputs": [
    {
     "name": "stdout",
     "output_type": "stream",
     "text": [
      "﻿2018-06-06 15:25:25  CBIRC_Server.py[line:189]  INFO starting correlation_negative, {list_size: 1}\n",
      "['\\ufeff2018-06-06', '15:25:25', '', 'CBIRC_Server.py[line:189]', '', 'INFO', 'starting', 'correlation_negative,', '{list_size:', '1}']\n",
      "<class 'str'>\n",
      "2018-06-06 15:25:54  CBIRC_Server.py[line:96]  INFO starting sentiment_analysis_i, {list_size: 1}\n",
      "['2018-06-06', '15:25:54', '', 'CBIRC_Server.py[line:96]', '', 'INFO', 'starting', 'sentiment_analysis_i,', '{list_size:', '1}']\n",
      "<class 'str'>\n",
      "2018-06-06 15:26:14  CBIRC_Server.py[line:96]  INFO starting sentiment_analysis_i, {list_size: 1}\n",
      "['2018-06-06', '15:26:14', '', 'CBIRC_Server.py[line:96]', '', 'INFO', 'starting', 'sentiment_analysis_i,', '{list_size:', '1}']\n",
      "<class 'str'>\n",
      "2018-06-06 15:26:22  CBIRC_Server.py[line:96]  INFO starting sentiment_analysis_i, {list_size: 1}\n",
      "['2018-06-06', '15:26:22', '', 'CBIRC_Server.py[line:96]', '', 'INFO', 'starting', 'sentiment_analysis_i,', '{list_size:', '1}']\n",
      "<class 'str'>\n",
      "2018-06-06 15:26:56  CBIRC_Server.py[line:96]  INFO starting sentiment_analysis_i, {list_size: 1}\n",
      "['2018-06-06', '15:26:56', '', 'CBIRC_Server.py[line:96]', '', 'INFO', 'starting', 'sentiment_analysis_i,', '{list_size:', '1}']\n",
      "<class 'str'>\n",
      "2018-06-06 15:26:56  CBIRC_Server.py[line:123]  INFO end sentiment_analysis_i: {ret_list: 1, lost_seconds: 0s}\n",
      "['2018-06-06', '15:26:56', '', 'CBIRC_Server.py[line:123]', '', 'INFO', 'end', 'sentiment_analysis_i:', '{ret_list:', '1,', 'lost_seconds:', '0s}']\n",
      "<class 'str'>\n",
      "2018-06-06 15:27:56  CBIRC_Server.py[line:96]  INFO starting sentiment_analysis_i, {list_size: 1}\n",
      "['2018-06-06', '15:27:56', '', 'CBIRC_Server.py[line:96]', '', 'INFO', 'starting', 'sentiment_analysis_i,', '{list_size:', '1}']\n",
      "<class 'str'>\n",
      "2018-06-06 15:27:56  CBIRC_Server.py[line:123]  INFO end sentiment_analysis_i: {ret_list: 1, lost_seconds: 0s}\n",
      "['2018-06-06', '15:27:56', '', 'CBIRC_Server.py[line:123]', '', 'INFO', 'end', 'sentiment_analysis_i:', '{ret_list:', '1,', 'lost_seconds:', '0s}']\n",
      "<class 'str'>\n",
      "2018-06-06 15:28:04  CBIRC_Server.py[line:96]  INFO starting sentiment_analysis_i, {list_size: 1}\n",
      "['2018-06-06', '15:28:04', '', 'CBIRC_Server.py[line:96]', '', 'INFO', 'starting', 'sentiment_analysis_i,', '{list_size:', '1}']\n",
      "<class 'str'>\n",
      "2018-06-06 15:28:04  CBIRC_Server.py[line:123]  INFO end sentiment_analysis_i: {ret_list: 1, lost_seconds: 0s}\n",
      "['2018-06-06', '15:28:04', '', 'CBIRC_Server.py[line:123]', '', 'INFO', 'end', 'sentiment_analysis_i:', '{ret_list:', '1,', 'lost_seconds:', '0s}']\n",
      "<class 'str'>\n",
      "2018-06-06 15:34:43  CBIRC_Server.py[line:96]  INFO starting sentiment_analysis_i, {list_size: 1}\n",
      "['2018-06-06', '15:34:43', '', 'CBIRC_Server.py[line:96]', '', 'INFO', 'starting', 'sentiment_analysis_i,', '{list_size:', '1}']\n",
      "<class 'str'>\n",
      "2018-06-06 15:34:43  CBIRC_Server.py[line:123]  INFO end sentiment_analysis_i: {ret_list: 1, lost_seconds: 0s}\n",
      "['2018-06-06', '15:34:43', '', 'CBIRC_Server.py[line:123]', '', 'INFO', 'end', 'sentiment_analysis_i:', '{ret_list:', '1,', 'lost_seconds:', '0s}']\n",
      "<class 'str'>\n",
      "2018-06-06 17:11:15  predict.py[line:17]  INFO insurance predict: {lost_seconds: 0.000s}\n",
      "['2018-06-06', '17:11:15', '', 'predict.py[line:17]', '', 'INFO', 'insurance', 'predict:', '{lost_seconds:', '0.000s}']\n",
      "<class 'str'>\n",
      "2018-06-06 17:12:42  predict.py[line:17]  INFO insurance predict: {lost_seconds: 0.000s}\n",
      "['2018-06-06', '17:12:42', '', 'predict.py[line:17]', '', 'INFO', 'insurance', 'predict:', '{lost_seconds:', '0.000s}']\n",
      "<class 'str'>\n",
      "2018-06-06 17:13:15  predict.py[line:17]  INFO insurance predict: {lost_seconds: 0.000s}\n",
      "['2018-06-06', '17:13:15', '', 'predict.py[line:17]', '', 'INFO', 'insurance', 'predict:', '{lost_seconds:', '0.000s}']\n",
      "<class 'str'>\n",
      "2018-06-06 17:17:08  predict.py[line:17]  INFO insurance predict: {lost_seconds: 0.000s}\n",
      "['2018-06-06', '17:17:08', '', 'predict.py[line:17]', '', 'INFO', 'insurance', 'predict:', '{lost_seconds:', '0.000s}']\n",
      "<class 'str'>\n",
      "2018-06-06 17:19:07  predict.py[line:17]  INFO insurance predict: {lost_seconds: 0.000s}\n",
      "['2018-06-06', '17:19:07', '', 'predict.py[line:17]', '', 'INFO', 'insurance', 'predict:', '{lost_seconds:', '0.000s}']\n",
      "<class 'str'>\n",
      "2018-06-06 17:20:20  predict.py[line:17]  INFO insurance predict: {lost_seconds: 0.000s}\n",
      "['2018-06-06', '17:20:20', '', 'predict.py[line:17]', '', 'INFO', 'insurance', 'predict:', '{lost_seconds:', '0.000s}']\n",
      "<class 'str'>\n",
      "2018-06-06 17:21:16  CBIRC_Server.py[line:87]  INFO starting sentiment_analysis_i, {list_size: 7}\n",
      "['2018-06-06', '17:21:16', '', 'CBIRC_Server.py[line:87]', '', 'INFO', 'starting', 'sentiment_analysis_i,', '{list_size:', '7}']\n",
      "<class 'str'>\n",
      "2018-06-06 17:21:16  CBIRC_Server.py[line:114]  INFO end sentiment_analysis_i: {ret_list: 7, lost_seconds: 0s}\n",
      "['2018-06-06', '17:21:16', '', 'CBIRC_Server.py[line:114]', '', 'INFO', 'end', 'sentiment_analysis_i:', '{ret_list:', '7,', 'lost_seconds:', '0s}']\n",
      "<class 'str'>\n",
      "2018-06-06 17:23:12  CBIRC_Server.py[line:87]  INFO starting sentiment_analysis_i, {list_size: 7}\n",
      "['2018-06-06', '17:23:12', '', 'CBIRC_Server.py[line:87]', '', 'INFO', 'starting', 'sentiment_analysis_i,', '{list_size:', '7}']\n",
      "<class 'str'>\n",
      "2018-06-06 17:23:13  CBIRC_Server.py[line:114]  INFO end sentiment_analysis_i: {ret_list: 7, lost_seconds: 0s}\n",
      "['2018-06-06', '17:23:13', '', 'CBIRC_Server.py[line:114]', '', 'INFO', 'end', 'sentiment_analysis_i:', '{ret_list:', '7,', 'lost_seconds:', '0s}']\n",
      "<class 'str'>\n",
      "2018-06-06 17:24:37  CBIRC_Server.py[line:87]  INFO starting sentiment_analysis_i, {list_size: 7}\n",
      "['2018-06-06', '17:24:37', '', 'CBIRC_Server.py[line:87]', '', 'INFO', 'starting', 'sentiment_analysis_i,', '{list_size:', '7}']\n",
      "<class 'str'>\n",
      "2018-06-06 17:24:37  CBIRC_Server.py[line:114]  INFO end sentiment_analysis_i: {ret_list: 7, lost_seconds: 0s}\n",
      "['2018-06-06', '17:24:37', '', 'CBIRC_Server.py[line:114]', '', 'INFO', 'end', 'sentiment_analysis_i:', '{ret_list:', '7,', 'lost_seconds:', '0s}']\n",
      "<class 'str'>\n",
      "2018-06-06 17:25:48  predict.py[line:17]  INFO insurance predict: {lost_seconds: 0.000s}\n",
      "['2018-06-06', '17:25:48', '', 'predict.py[line:17]', '', 'INFO', 'insurance', 'predict:', '{lost_seconds:', '0.000s}']\n",
      "<class 'str'>\n",
      "2018-06-06 17:26:02  CBIRC_Server.py[line:87]  INFO starting sentiment_analysis_i, {list_size: 7}\n",
      "['2018-06-06', '17:26:02', '', 'CBIRC_Server.py[line:87]', '', 'INFO', 'starting', 'sentiment_analysis_i,', '{list_size:', '7}']\n",
      "<class 'str'>\n",
      "2018-06-06 17:26:03  CBIRC_Server.py[line:114]  INFO end sentiment_analysis_i: {ret_list: 7, lost_seconds: 0s}\n",
      "['2018-06-06', '17:26:03', '', 'CBIRC_Server.py[line:114]', '', 'INFO', 'end', 'sentiment_analysis_i:', '{ret_list:', '7,', 'lost_seconds:', '0s}']\n",
      "<class 'str'>\n",
      "2018-06-06 17:26:09  CBIRC_Server.py[line:87]  INFO starting sentiment_analysis_i, {list_size: 7}\n",
      "['2018-06-06', '17:26:09', '', 'CBIRC_Server.py[line:87]', '', 'INFO', 'starting', 'sentiment_analysis_i,', '{list_size:', '7}']\n",
      "<class 'str'>\n",
      "2018-06-06 17:26:09  CBIRC_Server.py[line:114]  INFO end sentiment_analysis_i: {ret_list: 7, lost_seconds: 0s}\n",
      "['2018-06-06', '17:26:09', '', 'CBIRC_Server.py[line:114]', '', 'INFO', 'end', 'sentiment_analysis_i:', '{ret_list:', '7,', 'lost_seconds:', '0s}']\n",
      "<class 'str'>\n"
     ]
    },
    {
     "data": {
      "text/plain": [
       "<function TextIOWrapper.close>"
      ]
     },
     "execution_count": 7,
     "metadata": {},
     "output_type": "execute_result"
    }
   ],
   "source": [
    "f = open('data/gunicorn.log', encoding='UTF-8' )\n",
    "for con in f:\n",
    "    print(con.replace('\\n', ''))\n",
    "    print(con.replace('\\n', '').split(' '))\n",
    "    print(type(con))\n",
    "f.close"
   ]
  },
  {
   "cell_type": "code",
   "execution_count": null,
   "metadata": {
    "collapsed": true
   },
   "outputs": [],
   "source": []
  },
  {
   "cell_type": "code",
   "execution_count": null,
   "metadata": {
    "collapsed": true
   },
   "outputs": [],
   "source": [
    "        f = open(\"corpus/neg_words.txt\",\"r+\", encoding='UTF-8')\n",
    "        for content in f:\n",
    "            self.neg.add(content)\n",
    "        f.close()"
   ]
  },
  {
   "cell_type": "code",
   "execution_count": null,
   "metadata": {
    "collapsed": true
   },
   "outputs": [],
   "source": []
  },
  {
   "cell_type": "code",
   "execution_count": null,
   "metadata": {
    "collapsed": true
   },
   "outputs": [],
   "source": []
  },
  {
   "cell_type": "code",
   "execution_count": null,
   "metadata": {
    "collapsed": true
   },
   "outputs": [],
   "source": []
  },
  {
   "cell_type": "code",
   "execution_count": null,
   "metadata": {
    "collapsed": true
   },
   "outputs": [],
   "source": []
  },
  {
   "cell_type": "code",
   "execution_count": null,
   "metadata": {
    "collapsed": true
   },
   "outputs": [],
   "source": []
  },
  {
   "cell_type": "code",
   "execution_count": null,
   "metadata": {
    "collapsed": true
   },
   "outputs": [],
   "source": []
  },
  {
   "cell_type": "code",
   "execution_count": null,
   "metadata": {
    "collapsed": true
   },
   "outputs": [],
   "source": []
  }
 ],
 "metadata": {
  "kernelspec": {
   "display_name": "Python 3",
   "language": "python",
   "name": "python3"
  },
  "language_info": {
   "codemirror_mode": {
    "name": "ipython",
    "version": 3
   },
   "file_extension": ".py",
   "mimetype": "text/x-python",
   "name": "python",
   "nbconvert_exporter": "python",
   "pygments_lexer": "ipython3",
   "version": "3.6.3"
  },
  "toc": {
   "nav_menu": {},
   "number_sections": true,
   "sideBar": true,
   "skip_h1_title": false,
   "title_cell": "Table of Contents",
   "title_sidebar": "Contents",
   "toc_cell": false,
   "toc_position": {},
   "toc_section_display": true,
   "toc_window_display": false
  },
  "varInspector": {
   "cols": {
    "lenName": 16,
    "lenType": 16,
    "lenVar": 40
   },
   "kernels_config": {
    "python": {
     "delete_cmd_postfix": "",
     "delete_cmd_prefix": "del ",
     "library": "var_list.py",
     "varRefreshCmd": "print(var_dic_list())"
    },
    "r": {
     "delete_cmd_postfix": ") ",
     "delete_cmd_prefix": "rm(",
     "library": "var_list.r",
     "varRefreshCmd": "cat(var_dic_list()) "
    }
   },
   "types_to_exclude": [
    "module",
    "function",
    "builtin_function_or_method",
    "instance",
    "_Feature"
   ],
   "window_display": false
  }
 },
 "nbformat": 4,
 "nbformat_minor": 2
}
