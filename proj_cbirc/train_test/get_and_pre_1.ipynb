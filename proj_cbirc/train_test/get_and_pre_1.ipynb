{
 "cells": [
  {
   "cell_type": "markdown",
   "metadata": {},
   "source": [
    "# 本文件说明\n",
    "- 读取数据、预处理数据"
   ]
  },
  {
   "cell_type": "markdown",
   "metadata": {},
   "source": [
    "# 基本设置"
   ]
  },
  {
   "cell_type": "code",
   "execution_count": 1,
   "metadata": {
    "ExecuteTime": {
     "end_time": "2018-09-10T10:53:31.272380Z",
     "start_time": "2018-09-10T10:53:27.568168Z"
    }
   },
   "outputs": [
    {
     "name": "stderr",
     "output_type": "stream",
     "text": [
      "Building prefix dict from the default dictionary ...\n",
      "Loading model from cache C:\\Users\\ADMINI~1\\AppData\\Local\\Temp\\jieba.cache\n",
      "Loading model cost 1.038 seconds.\n",
      "Prefix dict has been built succesfully.\n"
     ]
    }
   ],
   "source": [
    "import xlrd\n",
    "\n",
    "%matplotlib inline\n",
    "import numpy as np\n",
    "import pandas as pd\n",
    "from toolkits.nlp import pre_cor_circ\n",
    "from toolkits.nlp import pre_cor_cbrc\n",
    "\n",
    "import warnings\n",
    "warnings.filterwarnings('ignore')"
   ]
  },
  {
   "cell_type": "markdown",
   "metadata": {},
   "source": [
    "## 一些函数"
   ]
  },
  {
   "cell_type": "code",
   "execution_count": 2,
   "metadata": {
    "ExecuteTime": {
     "end_time": "2018-09-10T10:53:31.294381Z",
     "start_time": "2018-09-10T10:53:31.276380Z"
    },
    "collapsed": true
   },
   "outputs": [],
   "source": [
    "def predict_right(folder, file_list):\n",
    "    '''预测正确数据'''\n",
    "    right_data = pd.DataFrame()\n",
    "    for file_name in file_list:\n",
    "        currentPath  = '{0}/{1}'.format(folder, file_name)\n",
    "        excel = xlrd.open_workbook(currentPath)\n",
    "        sheet_names = [sheet.name for sheet in excel.sheets()]\n",
    "        for sheet_name in sheet_names:    \n",
    "            tmp_data = pd.read_excel(currentPath, sheet_name)\n",
    "    #         tmp_data = tmp_data[tmp_data['R_W'] == 'Right']\n",
    "            print('去空值前： ', tmp_data.shape, file_name, sheet_name)\n",
    "#             tmp_data = tmp_data[tmp_data['备注'] != '删除']\n",
    "    #         tmp_data = tmp_data.dropna(subset = ['raw_title'], axis = 0)\n",
    "#             print('去空值后： ', tmp_data.shape, file_name, sheet_name)\n",
    "            right_data = pd.concat([right_data, tmp_data], axis = 0)    \n",
    "    return right_data"
   ]
  },
  {
   "cell_type": "code",
   "execution_count": 3,
   "metadata": {
    "ExecuteTime": {
     "end_time": "2018-09-10T10:53:31.388386Z",
     "start_time": "2018-09-10T10:53:31.298381Z"
    },
    "collapsed": true
   },
   "outputs": [],
   "source": [
    "def correct_wrong_data(folder, file_list):\n",
    "    '''预测错误修正后数据'''\n",
    "    correct_wrong_data = pd.DataFrame()\n",
    "    for file_name in file_list:\n",
    "        currentPath  = '{0}/{1}'.format(folder, file_name)\n",
    "        excel = xlrd.open_workbook(currentPath)\n",
    "        sheet_names = [sheet.name for sheet in excel.sheets()]\n",
    "        for sheet_name in sheet_names:    \n",
    "            tmp_data = pd.read_excel(currentPath, sheet_name)\n",
    "    #         tmp_data = tmp_data[tmp_data['R_W'] == 'Wrong']\n",
    "            print('去删除前： ', tmp_data.shape, file_name, sheet_name)\n",
    "            tmp_data = tmp_data[tmp_data['备注'] != '删除']\n",
    "    #         tmp_data = tmp_data.dropna(subset = ['raw_title'], axis = 0)\n",
    "            print('去删除后： ', tmp_data.shape, file_name, sheet_name)\n",
    "\n",
    "            tmp_data['人工判断'] = tmp_data.apply(lambda x:1 if x['label'] == x['备注'] else 0, axis = 1)\n",
    "            tmp_data['算法判断'] = tmp_data.apply(lambda x:1 if x['predict_label'] == x['备注'] else 0, axis = 1)\n",
    "            print('人工误判率： %0.2f'%(1 - tmp_data['人工判断'].sum() / tmp_data.shape[0]),\n",
    "                  '算法误判率： %0.2f'%(1 - tmp_data['算法判断'].sum() / tmp_data.shape[0]))\n",
    "            print()\n",
    "\n",
    "            correct_wrong_data = pd.concat([correct_wrong_data, tmp_data], axis = 0)\n",
    "    return correct_wrong_data"
   ]
  },
  {
   "cell_type": "code",
   "execution_count": 4,
   "metadata": {
    "ExecuteTime": {
     "end_time": "2018-09-10T10:53:31.501393Z",
     "start_time": "2018-09-10T10:53:31.392387Z"
    },
    "collapsed": true
   },
   "outputs": [],
   "source": [
    "def get_new_data(folder, file_list):\n",
    "    '''新补充数据'''\n",
    "    new_data = pd.DataFrame()\n",
    "    for file_name in file_list:\n",
    "        currentPath  = '{0}/{1}'.format(folder, file_name)\n",
    "        excel = xlrd.open_workbook(currentPath)\n",
    "        sheet_names = [sheet.name for sheet in excel.sheets()]\n",
    "        for sheet_name in sheet_names:    \n",
    "            tmp_data = pd.read_excel(currentPath, sheet_name)\n",
    "            print(tmp_data.columns)\n",
    "            tmp_data = tmp_data[['label', 'title', 'content']]\n",
    "            print('去空值前： ', tmp_data.shape, file_name, sheet_name)\n",
    "            tmp_data = tmp_data.dropna(subset = ['label'], axis = 0)\n",
    "            print('去空值后： ', tmp_data.shape, file_name, sheet_name)\n",
    "            new_data = pd.concat([new_data, tmp_data], axis = 0)    \n",
    "    return new_data"
   ]
  },
  {
   "cell_type": "code",
   "execution_count": 5,
   "metadata": {
    "ExecuteTime": {
     "end_time": "2018-09-10T10:53:31.620400Z",
     "start_time": "2018-09-10T10:53:31.505393Z"
    },
    "collapsed": true
   },
   "outputs": [],
   "source": [
    "def get_feedback_data(folder, file_list):\n",
    "    '''模型预测后反馈数据'''\n",
    "    feedback_data = pd.DataFrame()\n",
    "    label_list = []\n",
    "    sum_list = []\n",
    "    right_list = []\n",
    "    for file_name in file_list:\n",
    "        currentPath  = '{0}/{1}'.format(folder, file_name)\n",
    "        excel = xlrd.open_workbook(currentPath)\n",
    "        sheet_names = [sheet.name for sheet in excel.sheets()]\n",
    "        for sheet_name in sheet_names:   \n",
    "            tmp_data = pd.read_excel(currentPath, sheet_name)    \n",
    "            tmp_data = tmp_data[tmp_data['label'] != '删除']\n",
    "            tmp_data_1 = tmp_data[tmp_data['label'] == sheet_name]\n",
    "\n",
    "            label_list.append(sheet_name)\n",
    "            sum_list.append(tmp_data.shape[0])\n",
    "            right_list.append(tmp_data_1.shape[0])\n",
    "            print('类别：', sheet_name, '总数：', tmp_data.shape[0], \n",
    "                  '正确数', tmp_data_1.shape[0], \n",
    "                  '正确比例', tmp_data_1.shape[0]/tmp_data.shape[0])\n",
    "\n",
    "            tmp_data_1 = tmp_data[['label', 'title', 'content']]\n",
    "            print('去空值前： ', tmp_data_1.shape, file_name, sheet_name)\n",
    "            tmp_data_1 = tmp_data_1.dropna(subset = ['label'], axis = 0)\n",
    "            print('去空值后： ', tmp_data_1.shape, file_name, sheet_name)\n",
    "            feedback_data = pd.concat([feedback_data, tmp_data_1], axis = 0)\n",
    "            print()    \n",
    "            \n",
    "    return feedback_data"
   ]
  },
  {
   "cell_type": "code",
   "execution_count": 6,
   "metadata": {
    "ExecuteTime": {
     "end_time": "2018-09-10T10:53:31.704405Z",
     "start_time": "2018-09-10T10:53:31.624400Z"
    },
    "collapsed": true
   },
   "outputs": [],
   "source": [
    "def pre_save(pre_func, data, save_folder):\n",
    "    print(data.shape)\n",
    "    print('save_folder: ', save_folder)\n",
    "    \n",
    "    titles = pre_func(data['title'].tolist())\n",
    "    print('title num: ', len(titles))\n",
    "    save_filename = save_folder + 'corpus/titles.txt'\n",
    "    fid = open(save_filename, \"w+\", encoding='UTF-8')\n",
    "    for line in titles:\n",
    "        fid.write(line + '\\n')\n",
    "    fid.close()  \n",
    "    \n",
    "#     print(len(data['content'].tolist()))\n",
    "    contents = pre_func(data['content'].tolist())\n",
    "    print('content num: ', len(contents))\n",
    "    print(contents[0])\n",
    "    # contents = [re.sub(r'[a-z]*', '', x) for x in contents]\n",
    "    # print(len(contents))\n",
    "    # print(contents[:2])\n",
    "    coprus_save_filename = save_folder + 'corpus/contents.txt'\n",
    "    f = open(coprus_save_filename, \"w+\", encoding='UTF-8')\n",
    "    for line in contents:\n",
    "        f.write(line + '\\n')\n",
    "    f.close()    \n",
    "\n",
    "    label = data['label'].tolist()\n",
    "    print('label num: ', len(label))\n",
    "    coprus_save_filename = save_folder + 'corpus/labels.txt'\n",
    "    f = open(coprus_save_filename, \"w+\", encoding='UTF-8')\n",
    "    for line in label:\n",
    "        f.write(str(line) + '\\n')\n",
    "    f.close()\n",
    "\n",
    "    data.to_excel(save_folder + 'corpus/title_content_label.xlsx', index = False)\n",
    "    "
   ]
  },
  {
   "cell_type": "markdown",
   "metadata": {},
   "source": [
    "# 保险业：1 八分类"
   ]
  },
  {
   "cell_type": "markdown",
   "metadata": {},
   "source": [
    "## 读取数据"
   ]
  },
  {
   "cell_type": "code",
   "execution_count": 7,
   "metadata": {
    "ExecuteTime": {
     "end_time": "2018-09-10T10:53:34.602570Z",
     "start_time": "2018-09-10T10:53:34.596570Z"
    },
    "collapsed": true
   },
   "outputs": [],
   "source": [
    "folder = 'circ_data_class/20180910'"
   ]
  },
  {
   "cell_type": "markdown",
   "metadata": {},
   "source": [
    "### 预测正确数据"
   ]
  },
  {
   "cell_type": "code",
   "execution_count": 8,
   "metadata": {
    "ExecuteTime": {
     "end_time": "2018-09-10T10:53:58.472936Z",
     "start_time": "2018-09-10T10:53:35.742636Z"
    }
   },
   "outputs": [
    {
     "name": "stdout",
     "output_type": "stream",
     "text": [
      "去空值前：  (1284, 8) circ_class_sel_else_20180827.xlsx 公司内部管理\n",
      "去空值前：  (3197, 8) circ_class_sel_else_20180827.xlsx 噪音\n",
      "去空值前：  (1320, 8) circ_class_sel_else_20180827.xlsx 行业\n",
      "去空值前：  (1463, 8) circ_class_sel_else_20180827.xlsx 消费服务\n",
      "去空值前：  (753, 8) circ_class_sel_else_20180827.xlsx 资本市场\n",
      "去空值前：  (1511, 8) circ_class_sel_else_20180827.xlsx 监管\n",
      "去空值前：  (500, 8) circ_class_sel_else_20180827.xlsx 产品销售\n",
      "去空值前：  (1403, 8) circ_class_sel_else_20180827.xlsx 其他相关报道\n",
      "总数： (11431, 3)\n"
     ]
    },
    {
     "data": {
      "text/html": [
       "<div>\n",
       "<style scoped>\n",
       "    .dataframe tbody tr th:only-of-type {\n",
       "        vertical-align: middle;\n",
       "    }\n",
       "\n",
       "    .dataframe tbody tr th {\n",
       "        vertical-align: top;\n",
       "    }\n",
       "\n",
       "    .dataframe thead th {\n",
       "        text-align: right;\n",
       "    }\n",
       "</style>\n",
       "<table border=\"1\" class=\"dataframe\">\n",
       "  <thead>\n",
       "    <tr style=\"text-align: right;\">\n",
       "      <th></th>\n",
       "      <th>label</th>\n",
       "      <th>title</th>\n",
       "      <th>content</th>\n",
       "    </tr>\n",
       "  </thead>\n",
       "  <tbody>\n",
       "    <tr>\n",
       "      <th>0</th>\n",
       "      <td>公司内部管理</td>\n",
       "      <td>天安销售虚列费用为员工发福利 相关负责人被处罚</td>\n",
       "      <td>天安销售虚列费用为员工发福利 相关负责人被处罚\\n\\r2018.01.09 11:24:2...</td>\n",
       "    </tr>\n",
       "    <tr>\n",
       "      <th>1</th>\n",
       "      <td>公司内部管理</td>\n",
       "      <td>泰康人寿疑设招聘骗局：3500元底薪扣到剩1200元</td>\n",
       "      <td>泰康人寿疑设招聘骗局：3500元底薪扣到剩1200元\\n\\r　　泰康人寿被爆疑设招聘“骗局...</td>\n",
       "    </tr>\n",
       "    <tr>\n",
       "      <th>2</th>\n",
       "      <td>公司内部管理</td>\n",
       "      <td>上海人寿整改应对监管 万能险收紧后仍过保费半数</td>\n",
       "      <td>上海人寿屡被监管关照 万能险收紧后仍占半壁江山\\n\\r(图片)\\n\\r投资时报\\n\\r01...</td>\n",
       "    </tr>\n",
       "    <tr>\n",
       "      <th>3</th>\n",
       "      <td>公司内部管理</td>\n",
       "      <td>“侨兴债”事件继续发酵，浙商财险9位高管被问责 保监会加大“双罚制”执行力度</td>\n",
       "      <td>“侨兴债”事件继续发酵，浙商财险9位高管被问责 保监会加大“双罚制”执行力度\\n\\r0\\n...</td>\n",
       "    </tr>\n",
       "    <tr>\n",
       "      <th>4</th>\n",
       "      <td>公司内部管理</td>\n",
       "      <td>“开门红”时期监管严查销售误导 民生人寿连吃5罚单</td>\n",
       "      <td>“开门红”时期监管严查销售误导 民生人寿连吃5罚单\\n\\r2018.01.09 01:22...</td>\n",
       "    </tr>\n",
       "  </tbody>\n",
       "</table>\n",
       "</div>"
      ],
      "text/plain": [
       "    label                                   title  \\\n",
       "0  公司内部管理                 天安销售虚列费用为员工发福利 相关负责人被处罚   \n",
       "1  公司内部管理              泰康人寿疑设招聘骗局：3500元底薪扣到剩1200元   \n",
       "2  公司内部管理                 上海人寿整改应对监管 万能险收紧后仍过保费半数   \n",
       "3  公司内部管理  “侨兴债”事件继续发酵，浙商财险9位高管被问责 保监会加大“双罚制”执行力度   \n",
       "4  公司内部管理               “开门红”时期监管严查销售误导 民生人寿连吃5罚单   \n",
       "\n",
       "                                             content  \n",
       "0   天安销售虚列费用为员工发福利 相关负责人被处罚\\n\\r2018.01.09 11:24:2...  \n",
       "1   泰康人寿疑设招聘骗局：3500元底薪扣到剩1200元\\n\\r　　泰康人寿被爆疑设招聘“骗局...  \n",
       "2   上海人寿屡被监管关照 万能险收紧后仍占半壁江山\\n\\r(图片)\\n\\r投资时报\\n\\r01...  \n",
       "3   “侨兴债”事件继续发酵，浙商财险9位高管被问责 保监会加大“双罚制”执行力度\\n\\r0\\n...  \n",
       "4   “开门红”时期监管严查销售误导 民生人寿连吃5罚单\\n\\r2018.01.09 01:22...  "
      ]
     },
     "execution_count": 8,
     "metadata": {},
     "output_type": "execute_result"
    }
   ],
   "source": [
    "file_list_1 = ['circ_class_sel_else_20180827.xlsx',]\n",
    "circ_raw_class_1 = predict_right(folder, file_list_1)\n",
    "\n",
    "circ_raw_class_1['label'] = circ_raw_class_1['label'].apply(lambda x:x.strip())    \n",
    "circ_raw_class_1 = circ_raw_class_1[['label', 'raw_title', 'raw_content']]\n",
    "circ_raw_class_1.columns = ['label', 'title', 'content']\n",
    "print('总数：', circ_raw_class_1.shape)\n",
    "circ_raw_class_1.head()"
   ]
  },
  {
   "cell_type": "code",
   "execution_count": 9,
   "metadata": {
    "ExecuteTime": {
     "end_time": "2018-09-10T10:53:58.544940Z",
     "start_time": "2018-09-10T10:53:58.532939Z"
    }
   },
   "outputs": [
    {
     "data": {
      "text/plain": [
       "噪音        3197\n",
       "监管        1511\n",
       "消费服务      1463\n",
       "其他相关报道    1403\n",
       "行业        1320\n",
       "公司内部管理    1284\n",
       "资本市场       753\n",
       "产品销售       500\n",
       "Name: label, dtype: int64"
      ]
     },
     "execution_count": 9,
     "metadata": {},
     "output_type": "execute_result"
    }
   ],
   "source": [
    "circ_raw_class_1['label'].value_counts()"
   ]
  },
  {
   "cell_type": "markdown",
   "metadata": {},
   "source": [
    "### 预测错误修正后数据"
   ]
  },
  {
   "cell_type": "code",
   "execution_count": 10,
   "metadata": {
    "ExecuteTime": {
     "end_time": "2018-09-10T10:54:02.118144Z",
     "start_time": "2018-09-10T10:53:58.632945Z"
    }
   },
   "outputs": [
    {
     "name": "stdout",
     "output_type": "stream",
     "text": [
      "去删除前：  (394, 8) circ_class_sel_20180827-1.xlsx 公司内部管理\n",
      "去删除后：  (390, 8) circ_class_sel_20180827-1.xlsx 公司内部管理\n",
      "人工误判率： 0.27 算法误判率： 0.47\n",
      "\n",
      "去删除前：  (193, 8) circ_class_sel_20180827-1.xlsx 资本市场\n",
      "去删除后：  (190, 8) circ_class_sel_20180827-1.xlsx 资本市场\n",
      "人工误判率： 0.24 算法误判率： 0.48\n",
      "\n",
      "去删除前：  (405, 8) circ_class_sel_20180827-1.xlsx 行业\n",
      "去删除后：  (397, 8) circ_class_sel_20180827-1.xlsx 行业\n",
      "人工误判率： 0.27 算法误判率： 0.53\n",
      "\n",
      "去删除前：  (385, 8) circ_class_sel_20180827-1.xlsx 监管\n",
      "去删除后：  (381, 8) circ_class_sel_20180827-1.xlsx 监管\n",
      "人工误判率： 0.12 算法误判率： 0.75\n",
      "\n",
      "去删除前：  (230, 8) circ_class_sel_20180827-2.xlsx 消费服务\n",
      "去删除后：  (228, 8) circ_class_sel_20180827-2.xlsx 消费服务\n",
      "人工误判率： 0.12 算法误判率： 0.71\n",
      "\n",
      "去删除前：  (486, 8) circ_class_sel_20180827-2.xlsx 噪音\n",
      "去删除后：  (469, 8) circ_class_sel_20180827-2.xlsx 噪音\n",
      "人工误判率： 0.18 算法误判率： 0.65\n",
      "\n",
      "去删除前：  (188, 8) circ_class_sel_20180827-2.xlsx 其他相关报道\n",
      "去删除后：  (184, 8) circ_class_sel_20180827-2.xlsx 其他相关报道\n",
      "人工误判率： 0.14 算法误判率： 0.65\n",
      "\n",
      "去删除前：  (144, 8) circ_class_sel_20180827-2.xlsx 产品销售\n",
      "去删除后：  (141, 8) circ_class_sel_20180827-2.xlsx 产品销售\n",
      "人工误判率： 0.24 算法误判率： 0.47\n",
      "\n",
      "总数： (2380, 3)\n"
     ]
    },
    {
     "data": {
      "text/html": [
       "<div>\n",
       "<style scoped>\n",
       "    .dataframe tbody tr th:only-of-type {\n",
       "        vertical-align: middle;\n",
       "    }\n",
       "\n",
       "    .dataframe tbody tr th {\n",
       "        vertical-align: top;\n",
       "    }\n",
       "\n",
       "    .dataframe thead th {\n",
       "        text-align: right;\n",
       "    }\n",
       "</style>\n",
       "<table border=\"1\" class=\"dataframe\">\n",
       "  <thead>\n",
       "    <tr style=\"text-align: right;\">\n",
       "      <th></th>\n",
       "      <th>label</th>\n",
       "      <th>title</th>\n",
       "      <th>content</th>\n",
       "    </tr>\n",
       "  </thead>\n",
       "  <tbody>\n",
       "    <tr>\n",
       "      <th>0</th>\n",
       "      <td>公司内部管理</td>\n",
       "      <td>太平人寿2016年原保费收入接近千亿大关</td>\n",
       "      <td>太平人寿2016年原保费收入接近千亿大关\\n\\r(图片) \\n财经头条 1年前\\n\\r记者...</td>\n",
       "    </tr>\n",
       "    <tr>\n",
       "      <th>1</th>\n",
       "      <td>公司内部管理</td>\n",
       "      <td>经过一年半时间的筹建 首家科技保险公司正式开业</td>\n",
       "      <td>现在是科技时代，在我们日常生活中，处处都离不开现代科技，比如快捷付款之类。但最近保险科技最...</td>\n",
       "    </tr>\n",
       "    <tr>\n",
       "      <th>2</th>\n",
       "      <td>公司内部管理</td>\n",
       "      <td>安心财险“闲时退费”产品违反车险条款</td>\n",
       "      <td>近日，中国保监会对安心财险发布的监管函显示，安心财险“闲时退费”产品被定性为违反车险条款...</td>\n",
       "    </tr>\n",
       "    <tr>\n",
       "      <th>3</th>\n",
       "      <td>公司内部管理</td>\n",
       "      <td>上海人寿保险被保监会出具监管函 指其六方面违规</td>\n",
       "      <td>原标题：上海人寿保险被保监会出具监管函 指其六方面违规  千龙网北京10月11日讯 10月1...</td>\n",
       "    </tr>\n",
       "    <tr>\n",
       "      <th>4</th>\n",
       "      <td>公司内部管理</td>\n",
       "      <td>中国太平2018年一季度保费收入624.7亿元</td>\n",
       "      <td>4月13日，中国太平保险控股(股份代码：HK00966)公布2018年一季度保费收入。中国太...</td>\n",
       "    </tr>\n",
       "  </tbody>\n",
       "</table>\n",
       "</div>"
      ],
      "text/plain": [
       "    label                    title  \\\n",
       "0  公司内部管理     太平人寿2016年原保费收入接近千亿大关   \n",
       "1  公司内部管理  经过一年半时间的筹建 首家科技保险公司正式开业   \n",
       "2  公司内部管理       安心财险“闲时退费”产品违反车险条款   \n",
       "3  公司内部管理  上海人寿保险被保监会出具监管函 指其六方面违规   \n",
       "4  公司内部管理  中国太平2018年一季度保费收入624.7亿元   \n",
       "\n",
       "                                             content  \n",
       "0   太平人寿2016年原保费收入接近千亿大关\\n\\r(图片) \\n财经头条 1年前\\n\\r记者...  \n",
       "1   现在是科技时代，在我们日常生活中，处处都离不开现代科技，比如快捷付款之类。但最近保险科技最...  \n",
       "2  　　近日，中国保监会对安心财险发布的监管函显示，安心财险“闲时退费”产品被定性为违反车险条款...  \n",
       "3  原标题：上海人寿保险被保监会出具监管函 指其六方面违规  千龙网北京10月11日讯 10月1...  \n",
       "4  4月13日，中国太平保险控股(股份代码：HK00966)公布2018年一季度保费收入。中国太...  "
      ]
     },
     "execution_count": 10,
     "metadata": {},
     "output_type": "execute_result"
    }
   ],
   "source": [
    "file_list_2 = ['circ_class_sel_20180827-1.xlsx','circ_class_sel_20180827-2.xlsx']\n",
    "\n",
    "circ_raw_class_2 = correct_wrong_data(folder, file_list_2)\n",
    "circ_raw_class_2['label'] = circ_raw_class_2['label'].apply(lambda x:x.strip())  \n",
    "circ_raw_class_2 = circ_raw_class_2[['备注', 'raw_title', 'raw_content']]\n",
    "circ_raw_class_2.columns = ['label', 'title', 'content']\n",
    "print('总数：', circ_raw_class_2.shape)\n",
    "circ_raw_class_2.head()"
   ]
  },
  {
   "cell_type": "code",
   "execution_count": 11,
   "metadata": {
    "ExecuteTime": {
     "end_time": "2018-09-10T10:54:02.205149Z",
     "start_time": "2018-09-10T10:54:02.193148Z"
    }
   },
   "outputs": [
    {
     "data": {
      "text/plain": [
       "行业        491\n",
       "公司内部管理    465\n",
       "噪音        427\n",
       "监管        254\n",
       "产品销售      221\n",
       "资本市场      215\n",
       "其他相关报道    180\n",
       "消费服务      127\n",
       "Name: label, dtype: int64"
      ]
     },
     "execution_count": 11,
     "metadata": {},
     "output_type": "execute_result"
    }
   ],
   "source": [
    "circ_raw_class_2['label'].value_counts()"
   ]
  },
  {
   "cell_type": "markdown",
   "metadata": {},
   "source": [
    "### 新补充数据"
   ]
  },
  {
   "cell_type": "code",
   "execution_count": 12,
   "metadata": {
    "ExecuteTime": {
     "end_time": "2018-09-10T10:54:02.507166Z",
     "start_time": "2018-09-10T10:54:02.277153Z"
    }
   },
   "outputs": [
    {
     "name": "stdout",
     "output_type": "stream",
     "text": [
      "Index(['title', 'content', 'label'], dtype='object')\n",
      "去空值前：  (319, 3) 20180827_circ_class_1.xlsx 社会医疗保险\n",
      "去空值后：  (319, 3) 20180827_circ_class_1.xlsx 社会医疗保险\n",
      "总数： (319, 3)\n"
     ]
    },
    {
     "data": {
      "text/html": [
       "<div>\n",
       "<style scoped>\n",
       "    .dataframe tbody tr th:only-of-type {\n",
       "        vertical-align: middle;\n",
       "    }\n",
       "\n",
       "    .dataframe tbody tr th {\n",
       "        vertical-align: top;\n",
       "    }\n",
       "\n",
       "    .dataframe thead th {\n",
       "        text-align: right;\n",
       "    }\n",
       "</style>\n",
       "<table border=\"1\" class=\"dataframe\">\n",
       "  <thead>\n",
       "    <tr style=\"text-align: right;\">\n",
       "      <th></th>\n",
       "      <th>label</th>\n",
       "      <th>title</th>\n",
       "      <th>content</th>\n",
       "    </tr>\n",
       "  </thead>\n",
       "  <tbody>\n",
       "    <tr>\n",
       "      <th>0</th>\n",
       "      <td>噪音</td>\n",
       "      <td>为什么医疗保险每年在加费用呢？相等的报销会增加吗？</td>\n",
       "      <td>为什么医疗保险每年在加费用呢？相等的报销会增加吗？ 待解决 匿名 问题与我的不同！ 我要立即...</td>\n",
       "    </tr>\n",
       "    <tr>\n",
       "      <th>1</th>\n",
       "      <td>噪音</td>\n",
       "      <td>临沂人注意了！有人看病多花好几万！只因不知道医疗保险的这一方面！</td>\n",
       "      <td>原标题:临沂人注意了！有人看病多花好几万！只因不知道医疗保险的这一方面！    古语说得好 ...</td>\n",
       "    </tr>\n",
       "    <tr>\n",
       "      <th>2</th>\n",
       "      <td>噪音</td>\n",
       "      <td>如何计算医疗保险个人账户中每月可以进账多少钱？</td>\n",
       "      <td>除了公积金这个小金库，我们还有一个医疗保险每月可以进账，医疗保险中的个人账户可以用来看病买药...</td>\n",
       "    </tr>\n",
       "    <tr>\n",
       "      <th>3</th>\n",
       "      <td>噪音</td>\n",
       "      <td>医疗保险是否跟贫困补助有关联</td>\n",
       "      <td>医疗保险是否跟贫困补助有关联 待解决 匿名 问题与我的不同！ 我要立即提问     尊敬的用...</td>\n",
       "    </tr>\n",
       "    <tr>\n",
       "      <th>4</th>\n",
       "      <td>噪音</td>\n",
       "      <td>这事受理了|农村合作医疗保险哪些群体可以减免费用</td>\n",
       "      <td>原标题:这事受理了|农村合作医疗保险哪些群体可以减免费用    有拍友反映：    请问一下...</td>\n",
       "    </tr>\n",
       "  </tbody>\n",
       "</table>\n",
       "</div>"
      ],
      "text/plain": [
       "  label                             title  \\\n",
       "0    噪音         为什么医疗保险每年在加费用呢？相等的报销会增加吗？   \n",
       "1    噪音  临沂人注意了！有人看病多花好几万！只因不知道医疗保险的这一方面！   \n",
       "2    噪音           如何计算医疗保险个人账户中每月可以进账多少钱？   \n",
       "3    噪音                    医疗保险是否跟贫困补助有关联   \n",
       "4    噪音          这事受理了|农村合作医疗保险哪些群体可以减免费用   \n",
       "\n",
       "                                             content  \n",
       "0  为什么医疗保险每年在加费用呢？相等的报销会增加吗？ 待解决 匿名 问题与我的不同！ 我要立即...  \n",
       "1  原标题:临沂人注意了！有人看病多花好几万！只因不知道医疗保险的这一方面！    古语说得好 ...  \n",
       "2  除了公积金这个小金库，我们还有一个医疗保险每月可以进账，医疗保险中的个人账户可以用来看病买药...  \n",
       "3  医疗保险是否跟贫困补助有关联 待解决 匿名 问题与我的不同！ 我要立即提问     尊敬的用...  \n",
       "4  原标题:这事受理了|农村合作医疗保险哪些群体可以减免费用    有拍友反映：    请问一下...  "
      ]
     },
     "execution_count": 12,
     "metadata": {},
     "output_type": "execute_result"
    }
   ],
   "source": [
    "file_list_3 = ['20180827_circ_class_1.xlsx'\n",
    "               ] # 多个 sheet\n",
    "\n",
    "circ_raw_class_3 = get_new_data(folder, file_list_3)\n",
    "\n",
    "circ_raw_class_3['label'] = circ_raw_class_3['label'].apply(lambda x:x.strip())    \n",
    "print('总数：', circ_raw_class_3.shape)\n",
    "circ_raw_class_3.head()"
   ]
  },
  {
   "cell_type": "code",
   "execution_count": 13,
   "metadata": {
    "ExecuteTime": {
     "end_time": "2018-09-10T10:54:02.614173Z",
     "start_time": "2018-09-10T10:54:02.598172Z"
    }
   },
   "outputs": [
    {
     "data": {
      "text/plain": [
       "噪音    319\n",
       "Name: label, dtype: int64"
      ]
     },
     "execution_count": 13,
     "metadata": {},
     "output_type": "execute_result"
    }
   ],
   "source": [
    "circ_raw_class_3['label'].value_counts()"
   ]
  },
  {
   "cell_type": "markdown",
   "metadata": {},
   "source": [
    "### 模型预测后反馈数据"
   ]
  },
  {
   "cell_type": "code",
   "execution_count": 14,
   "metadata": {
    "ExecuteTime": {
     "end_time": "2018-09-10T10:54:06.119373Z",
     "start_time": "2018-09-10T10:54:02.709178Z"
    }
   },
   "outputs": [
    {
     "name": "stdout",
     "output_type": "stream",
     "text": [
      "类别： 噪音 总数： 200 正确数 187 正确比例 0.935\n",
      "去空值前：  (200, 3) 20180904_circ_class_feedback.xlsx 噪音\n",
      "去空值后：  (200, 3) 20180904_circ_class_feedback.xlsx 噪音\n",
      "\n",
      "类别： 消费服务 总数： 198 正确数 137 正确比例 0.6919191919191919\n",
      "去空值前：  (198, 3) 20180904_circ_class_feedback.xlsx 消费服务\n",
      "去空值后：  (198, 3) 20180904_circ_class_feedback.xlsx 消费服务\n",
      "\n",
      "类别： 产品销售 总数： 194 正确数 183 正确比例 0.9432989690721649\n",
      "去空值前：  (194, 3) 20180904_circ_class_feedback.xlsx 产品销售\n",
      "去空值后：  (194, 3) 20180904_circ_class_feedback.xlsx 产品销售\n",
      "\n",
      "类别： 其他相关报道 总数： 200 正确数 155 正确比例 0.775\n",
      "去空值前：  (200, 3) 20180904_circ_class_feedback.xlsx 其他相关报道\n",
      "去空值后：  (200, 3) 20180904_circ_class_feedback.xlsx 其他相关报道\n",
      "\n",
      "类别： 监管 总数： 198 正确数 128 正确比例 0.6464646464646465\n",
      "去空值前：  (198, 3) 20180904_circ_class_feedback.xlsx 监管\n",
      "去空值后：  (198, 3) 20180904_circ_class_feedback.xlsx 监管\n",
      "\n",
      "类别： 行业 总数： 198 正确数 137 正确比例 0.6919191919191919\n",
      "去空值前：  (198, 3) 20180904_circ_class_feedback.xlsx 行业\n",
      "去空值后：  (198, 3) 20180904_circ_class_feedback.xlsx 行业\n",
      "\n",
      "类别： 资本市场 总数： 199 正确数 171 正确比例 0.8592964824120602\n",
      "去空值前：  (199, 3) 20180904_circ_class_feedback.xlsx 资本市场\n",
      "去空值后：  (199, 3) 20180904_circ_class_feedback.xlsx 资本市场\n",
      "\n",
      "类别： 公司内部管理 总数： 200 正确数 138 正确比例 0.69\n",
      "去空值前：  (200, 3) 20180904_circ_class_feedback.xlsx 公司内部管理\n",
      "去空值后：  (200, 3) 20180904_circ_class_feedback.xlsx 公司内部管理\n",
      "\n",
      "类别： 噪音 总数： 298 正确数 279 正确比例 0.9362416107382551\n",
      "去空值前：  (298, 3) 20180904_circ_class_feedback_1.xlsx 噪音\n",
      "去空值后：  (298, 3) 20180904_circ_class_feedback_1.xlsx 噪音\n",
      "\n",
      "类别： 监管 总数： 285 正确数 111 正确比例 0.3894736842105263\n",
      "去空值前：  (285, 3) 20180904_circ_class_feedback_1.xlsx 监管\n",
      "去空值后：  (285, 3) 20180904_circ_class_feedback_1.xlsx 监管\n",
      "\n",
      "类别： 行业 总数： 288 正确数 175 正确比例 0.6076388888888888\n",
      "去空值前：  (288, 3) 20180904_circ_class_feedback_1.xlsx 行业\n",
      "去空值后：  (288, 3) 20180904_circ_class_feedback_1.xlsx 行业\n",
      "\n",
      "类别： 公司内部管理 总数： 277 正确数 120 正确比例 0.4332129963898917\n",
      "去空值前：  (277, 3) 20180904_circ_class_feedback_1.xlsx 公司内部管理\n",
      "去空值后：  (277, 3) 20180904_circ_class_feedback_1.xlsx 公司内部管理\n",
      "\n",
      "总数： (2735, 3)\n"
     ]
    },
    {
     "data": {
      "text/html": [
       "<div>\n",
       "<style scoped>\n",
       "    .dataframe tbody tr th:only-of-type {\n",
       "        vertical-align: middle;\n",
       "    }\n",
       "\n",
       "    .dataframe tbody tr th {\n",
       "        vertical-align: top;\n",
       "    }\n",
       "\n",
       "    .dataframe thead th {\n",
       "        text-align: right;\n",
       "    }\n",
       "</style>\n",
       "<table border=\"1\" class=\"dataframe\">\n",
       "  <thead>\n",
       "    <tr style=\"text-align: right;\">\n",
       "      <th></th>\n",
       "      <th>label</th>\n",
       "      <th>title</th>\n",
       "      <th>content</th>\n",
       "    </tr>\n",
       "  </thead>\n",
       "  <tbody>\n",
       "    <tr>\n",
       "      <th>0</th>\n",
       "      <td>噪音</td>\n",
       "      <td>金塔县司法局三举措进一步加强对农民工追索劳动报酬提供法律援助服务</td>\n",
       "      <td>今年以来，金塔县司法局深刻认识新形势下做好对欠薪农民工提供法律服务和法律援助的重要性和紧...</td>\n",
       "    </tr>\n",
       "    <tr>\n",
       "      <th>1</th>\n",
       "      <td>噪音</td>\n",
       "      <td>经济日报：稳外贸需打“组合拳”</td>\n",
       "      <td>8月28日，江苏省太仓中集冷藏物流装备有限公司堆场上，各类冷藏箱整齐堆放，这些产品即将销...</td>\n",
       "    </tr>\n",
       "    <tr>\n",
       "      <th>2</th>\n",
       "      <td>行业</td>\n",
       "      <td>捷越晨报│多家网贷平台宣布入股银行, 意在牌照与增信；深圳互金协会提示长租公寓“租金贷”风险。</td>\n",
       "      <td>29 星期三 2018年8月 1 宏观经济 宏观数据 上证指数 2777.98 -2.92 ...</td>\n",
       "    </tr>\n",
       "    <tr>\n",
       "      <th>3</th>\n",
       "      <td>消费服务</td>\n",
       "      <td>山东紧急调运２０台长臂挖掘机支援抢险救灾</td>\n",
       "      <td>新华社济南８月２８日电（记者叶婧）记者从山东省抗灾救灾与恢复重建指挥部了解到，应潍坊市请求，...</td>\n",
       "    </tr>\n",
       "    <tr>\n",
       "      <th>4</th>\n",
       "      <td>噪音</td>\n",
       "      <td>[军工]景嘉微：自主可控GPU稀缺标的，军民产业融合发展 国产替代系列之三</td>\n",
       "      <td>摘要 一、 军用图形显控龙头，自主可控GPU空间广阔 公司主要业务为军用图形显控产品，从最开...</td>\n",
       "    </tr>\n",
       "  </tbody>\n",
       "</table>\n",
       "</div>"
      ],
      "text/plain": [
       "  label                                            title  \\\n",
       "0    噪音                 金塔县司法局三举措进一步加强对农民工追索劳动报酬提供法律援助服务   \n",
       "1    噪音                                  经济日报：稳外贸需打“组合拳”   \n",
       "2    行业  捷越晨报│多家网贷平台宣布入股银行, 意在牌照与增信；深圳互金协会提示长租公寓“租金贷”风险。   \n",
       "3  消费服务                             山东紧急调运２０台长臂挖掘机支援抢险救灾   \n",
       "4    噪音            [军工]景嘉微：自主可控GPU稀缺标的，军民产业融合发展 国产替代系列之三   \n",
       "\n",
       "                                             content  \n",
       "0  　　今年以来，金塔县司法局深刻认识新形势下做好对欠薪农民工提供法律服务和法律援助的重要性和紧...  \n",
       "1  　　8月28日，江苏省太仓中集冷藏物流装备有限公司堆场上，各类冷藏箱整齐堆放，这些产品即将销...  \n",
       "2  29 星期三 2018年8月 1 宏观经济 宏观数据 上证指数 2777.98 -2.92 ...  \n",
       "3  新华社济南８月２８日电（记者叶婧）记者从山东省抗灾救灾与恢复重建指挥部了解到，应潍坊市请求，...  \n",
       "4  摘要 一、 军用图形显控龙头，自主可控GPU空间广阔 公司主要业务为军用图形显控产品，从最开...  "
      ]
     },
     "execution_count": 14,
     "metadata": {},
     "output_type": "execute_result"
    }
   ],
   "source": [
    "file_list_4 = ['20180904_circ_class_feedback.xlsx', '20180904_circ_class_feedback_1.xlsx',\n",
    "              ] # 多个 sheet\n",
    "\n",
    "circ_raw_class_4 = get_feedback_data(folder, file_list_4)\n",
    "\n",
    "circ_raw_class_4['label'] = circ_raw_class_4['label'].apply(lambda x:x.strip())    \n",
    "print('总数：', circ_raw_class_4.shape)\n",
    "circ_raw_class_4.head()"
   ]
  },
  {
   "cell_type": "code",
   "execution_count": 15,
   "metadata": {
    "ExecuteTime": {
     "end_time": "2018-09-10T10:54:06.243380Z",
     "start_time": "2018-09-10T10:54:06.230379Z"
    }
   },
   "outputs": [
    {
     "data": {
      "text/plain": [
       "噪音        892\n",
       "行业        420\n",
       "公司内部管理    320\n",
       "监管        249\n",
       "产品销售      229\n",
       "资本市场      216\n",
       "其他相关报道    214\n",
       "消费服务      195\n",
       "Name: label, dtype: int64"
      ]
     },
     "execution_count": 15,
     "metadata": {},
     "output_type": "execute_result"
    }
   ],
   "source": [
    "circ_raw_class_4['label'].value_counts()"
   ]
  },
  {
   "cell_type": "markdown",
   "metadata": {},
   "source": [
    "## 合并数据"
   ]
  },
  {
   "cell_type": "code",
   "execution_count": 16,
   "metadata": {
    "ExecuteTime": {
     "end_time": "2018-09-10T10:54:07.112430Z",
     "start_time": "2018-09-10T10:54:06.379388Z"
    }
   },
   "outputs": [
    {
     "name": "stdout",
     "output_type": "stream",
     "text": [
      "去重前：  (16865, 5)\n",
      "去重后：  (16865, 5)\n"
     ]
    },
    {
     "data": {
      "text/html": [
       "<div>\n",
       "<style scoped>\n",
       "    .dataframe tbody tr th:only-of-type {\n",
       "        vertical-align: middle;\n",
       "    }\n",
       "\n",
       "    .dataframe tbody tr th {\n",
       "        vertical-align: top;\n",
       "    }\n",
       "\n",
       "    .dataframe thead th {\n",
       "        text-align: right;\n",
       "    }\n",
       "</style>\n",
       "<table border=\"1\" class=\"dataframe\">\n",
       "  <thead>\n",
       "    <tr style=\"text-align: right;\">\n",
       "      <th></th>\n",
       "      <th>label</th>\n",
       "      <th>title</th>\n",
       "      <th>content</th>\n",
       "      <th>title_content</th>\n",
       "      <th>index</th>\n",
       "    </tr>\n",
       "  </thead>\n",
       "  <tbody>\n",
       "    <tr>\n",
       "      <th>0</th>\n",
       "      <td>公司内部管理</td>\n",
       "      <td>天安销售虚列费用为员工发福利 相关负责人被处罚</td>\n",
       "      <td>天安销售虚列费用为员工发福利 相关负责人被处罚\\n\\r2018.01.09 11:24:2...</td>\n",
       "      <td>天安销售虚列费用为员工发福利 相关负责人被处罚。 天安销售虚列费用为员工发福利 相关负责人被...</td>\n",
       "      <td>0</td>\n",
       "    </tr>\n",
       "    <tr>\n",
       "      <th>1</th>\n",
       "      <td>公司内部管理</td>\n",
       "      <td>泰康人寿疑设招聘骗局：3500元底薪扣到剩1200元</td>\n",
       "      <td>泰康人寿疑设招聘骗局：3500元底薪扣到剩1200元\\n\\r　　泰康人寿被爆疑设招聘“骗局...</td>\n",
       "      <td>泰康人寿疑设招聘骗局：3500元底薪扣到剩1200元。 泰康人寿疑设招聘骗局：3500元底薪...</td>\n",
       "      <td>1</td>\n",
       "    </tr>\n",
       "    <tr>\n",
       "      <th>2</th>\n",
       "      <td>公司内部管理</td>\n",
       "      <td>上海人寿整改应对监管 万能险收紧后仍过保费半数</td>\n",
       "      <td>上海人寿屡被监管关照 万能险收紧后仍占半壁江山\\n\\r(图片)\\n\\r投资时报\\n\\r01...</td>\n",
       "      <td>上海人寿整改应对监管 万能险收紧后仍过保费半数。 上海人寿屡被监管关照 万能险收紧后仍占半壁...</td>\n",
       "      <td>2</td>\n",
       "    </tr>\n",
       "    <tr>\n",
       "      <th>3</th>\n",
       "      <td>公司内部管理</td>\n",
       "      <td>“侨兴债”事件继续发酵，浙商财险9位高管被问责 保监会加大“双罚制”执行力度</td>\n",
       "      <td>“侨兴债”事件继续发酵，浙商财险9位高管被问责 保监会加大“双罚制”执行力度\\n\\r0\\n...</td>\n",
       "      <td>“侨兴债”事件继续发酵，浙商财险9位高管被问责 保监会加大“双罚制”执行力度。 “侨兴债”事...</td>\n",
       "      <td>3</td>\n",
       "    </tr>\n",
       "    <tr>\n",
       "      <th>4</th>\n",
       "      <td>公司内部管理</td>\n",
       "      <td>“开门红”时期监管严查销售误导 民生人寿连吃5罚单</td>\n",
       "      <td>“开门红”时期监管严查销售误导 民生人寿连吃5罚单\\n\\r2018.01.09 01:22...</td>\n",
       "      <td>“开门红”时期监管严查销售误导 民生人寿连吃5罚单。 “开门红”时期监管严查销售误导 民生人...</td>\n",
       "      <td>4</td>\n",
       "    </tr>\n",
       "  </tbody>\n",
       "</table>\n",
       "</div>"
      ],
      "text/plain": [
       "    label                                   title  \\\n",
       "0  公司内部管理                 天安销售虚列费用为员工发福利 相关负责人被处罚   \n",
       "1  公司内部管理              泰康人寿疑设招聘骗局：3500元底薪扣到剩1200元   \n",
       "2  公司内部管理                 上海人寿整改应对监管 万能险收紧后仍过保费半数   \n",
       "3  公司内部管理  “侨兴债”事件继续发酵，浙商财险9位高管被问责 保监会加大“双罚制”执行力度   \n",
       "4  公司内部管理               “开门红”时期监管严查销售误导 民生人寿连吃5罚单   \n",
       "\n",
       "                                             content  \\\n",
       "0   天安销售虚列费用为员工发福利 相关负责人被处罚\\n\\r2018.01.09 11:24:2...   \n",
       "1   泰康人寿疑设招聘骗局：3500元底薪扣到剩1200元\\n\\r　　泰康人寿被爆疑设招聘“骗局...   \n",
       "2   上海人寿屡被监管关照 万能险收紧后仍占半壁江山\\n\\r(图片)\\n\\r投资时报\\n\\r01...   \n",
       "3   “侨兴债”事件继续发酵，浙商财险9位高管被问责 保监会加大“双罚制”执行力度\\n\\r0\\n...   \n",
       "4   “开门红”时期监管严查销售误导 民生人寿连吃5罚单\\n\\r2018.01.09 01:22...   \n",
       "\n",
       "                                       title_content  index  \n",
       "0  天安销售虚列费用为员工发福利 相关负责人被处罚。 天安销售虚列费用为员工发福利 相关负责人被...      0  \n",
       "1  泰康人寿疑设招聘骗局：3500元底薪扣到剩1200元。 泰康人寿疑设招聘骗局：3500元底薪...      1  \n",
       "2  上海人寿整改应对监管 万能险收紧后仍过保费半数。 上海人寿屡被监管关照 万能险收紧后仍占半壁...      2  \n",
       "3  “侨兴债”事件继续发酵，浙商财险9位高管被问责 保监会加大“双罚制”执行力度。 “侨兴债”事...      3  \n",
       "4  “开门红”时期监管严查销售误导 民生人寿连吃5罚单。 “开门红”时期监管严查销售误导 民生人...      4  "
      ]
     },
     "execution_count": 16,
     "metadata": {},
     "output_type": "execute_result"
    }
   ],
   "source": [
    "circ_raw_class = pd.concat([circ_raw_class_1, circ_raw_class_2,\n",
    "                          circ_raw_class_3, circ_raw_class_4], \n",
    "                         axis = 0)\n",
    "\n",
    "# circ_raw_class = cbrc_raw_class_4\n",
    "circ_raw_class['title_content'] = circ_raw_class['title'].astype(str) + '。' + circ_raw_class['content'].astype(str)\n",
    "circ_raw_class['label'] = circ_raw_class['label'].apply(lambda x:x.strip())\n",
    "circ_raw_class['index'] = range(circ_raw_class.shape[0])\n",
    "print('去重前： ', circ_raw_class.shape)\n",
    "circ_raw_class = circ_raw_class.drop_duplicates(subset = 'title_content')\n",
    "print('去重后： ', circ_raw_class.shape)\n",
    "circ_raw_class.head()"
   ]
  },
  {
   "cell_type": "code",
   "execution_count": 17,
   "metadata": {
    "ExecuteTime": {
     "end_time": "2018-09-10T10:54:07.285440Z",
     "start_time": "2018-09-10T10:54:07.268439Z"
    }
   },
   "outputs": [
    {
     "name": "stdout",
     "output_type": "stream",
     "text": [
      "(16865, 5)\n"
     ]
    },
    {
     "data": {
      "text/plain": [
       "label\n",
       "产品销售       950\n",
       "公司内部管理    2069\n",
       "其他相关报道    1797\n",
       "噪音        4835\n",
       "消费服务      1785\n",
       "监管        2014\n",
       "行业        2231\n",
       "资本市场      1184\n",
       "Name: title, dtype: int64"
      ]
     },
     "execution_count": 17,
     "metadata": {},
     "output_type": "execute_result"
    }
   ],
   "source": [
    "print(circ_raw_class.shape)\n",
    "circ_raw_class.groupby('label')['title'].count()"
   ]
  },
  {
   "cell_type": "markdown",
   "metadata": {},
   "source": [
    "## 预处理"
   ]
  },
  {
   "cell_type": "code",
   "execution_count": 19,
   "metadata": {
    "ExecuteTime": {
     "end_time": "2018-09-10T10:58:23.863115Z",
     "start_time": "2018-09-10T10:54:22.905333Z"
    }
   },
   "outputs": [
    {
     "name": "stdout",
     "output_type": "stream",
     "text": [
      "(16865, 5)\n",
      "save_folder:  circ_result_class/\n",
      "title num:  16865\n",
      "content num:  16865\n",
      "天安 销售 虚列费用 员工 发 福利 相关 负责人 被处罚 中国保监会 网站 当事人 张磊 身份证 号码 职务 天安 佰盈 销售 有限公司 宁波 分公司 简称 天安 销售 宁波 分公司 负责人 住所 宁波市 鄞州区 会展 路 号 层 D D 室 中华人民共和国 保险法 年 修正 我局 天安 销售 宁波 分公司 涉嫌 违法 一案 调查 审理 依法 当事人 告知 作出 行政处罚 事实 理由 当事人 依法 享有 权利 当事人 未 陈述 申辩 未 听证 经查 天安 销售 宁波 分公司 违法行为 财务 数据不真实 年 天安 销售 宁波 分公司 虚列 业务 招待费 万元 用于 员工 发放 福利 公司 负责人 张磊 负责 主管人员 变更 营业 场所 地址 未按规定 报告 年 月 天安 销售 宁波 分公司 营业 场所 地址 江北区 庄桥 街道 北环 西路 号 幢 二层 室 变更 鄞州区 会展 路 号 层 D D 室 年 月 日 事项 未按规定 我局 书面报告 公司 负责人 张磊 机构 负责 主管人员 上述事实 财务 凭证 租赁 合同 营业执照 情况 调查 笔录 任职 文件 现场 检查 事实 确认书 证据 证明 综上 我局 作出 处罚 天安 销售 宁波 分公司 财务 数据不真实 违反 中华人民共和国 保险法 年 修正 第八 十六条 第一百 三十二条 中华人民共和国 保险法 年 修正 一百七十 一条 给予 张磊 警告 并处 罚款 万元 行政处罚 天安 销售 宁波 分公司 变更 营业 场所 地址 未按规定 报告 违反 专业 代理 机构 监管 第十四条 专业 代理 机构 监管 七十条 给予 张磊 警告 处 罚款 万元 行政处罚 当事人 接到 处罚 决定书 之日起 日内持 缴款 码到 财政部 指定 家 代理 银行 中 任一 银行 同行 缴款 逾期 每日 罚款 数额 加处 罚款 缴款 码 行政处罚 决定书 送达 时 一并 告知 当事人 如对本 处罚 不服 接到 处罚 决定书 之日起 日内 依法 中国保监会 申请 行政复议 接到 处罚 决定书 之日起 月 内向 管辖权 人民法院 提起 行政诉讼 复议 诉讼 期间 停止 执行 宁波保监局 年 月 日 图片 \n",
      "label num:  16865\n"
     ]
    }
   ],
   "source": [
    "save_folder = 'circ_result_class/'\n",
    "pre_save(pre_cor_circ.handle_contents, circ_raw_class, save_folder)"
   ]
  },
  {
   "cell_type": "markdown",
   "metadata": {},
   "source": [
    "# 保险业：2 倾向性"
   ]
  },
  {
   "cell_type": "markdown",
   "metadata": {},
   "source": [
    "## 读取数据"
   ]
  },
  {
   "cell_type": "code",
   "execution_count": 20,
   "metadata": {
    "ExecuteTime": {
     "end_time": "2018-09-10T10:58:24.059126Z",
     "start_time": "2018-09-10T10:58:24.052126Z"
    },
    "collapsed": true
   },
   "outputs": [],
   "source": [
    "folder = 'circ_data_tendency/20180905'"
   ]
  },
  {
   "cell_type": "markdown",
   "metadata": {},
   "source": [
    "### 预测正确数据"
   ]
  },
  {
   "cell_type": "code",
   "execution_count": 21,
   "metadata": {
    "ExecuteTime": {
     "end_time": "2018-09-10T10:58:24.320141Z",
     "start_time": "2018-09-10T10:58:24.310141Z"
    },
    "collapsed": true
   },
   "outputs": [],
   "source": [
    "# file_list_1 = ['circ_class_sel_else_20180827.xlsx',]\n",
    "# circ_raw_class_1 = predict_right(folder, file_list_1)\n",
    "\n",
    "# circ_raw_class_1['label'] = circ_raw_class_1['label'].apply(lambda x:x.strip())    \n",
    "# circ_raw_class_1 = circ_raw_class_1[['label', 'raw_title', 'raw_content']]\n",
    "# circ_raw_class_1.columns = ['label', 'title', 'content']\n",
    "# print('总数：', circ_raw_class_1.shape)\n",
    "# circ_raw_class_1.head()"
   ]
  },
  {
   "cell_type": "code",
   "execution_count": 22,
   "metadata": {
    "ExecuteTime": {
     "end_time": "2018-09-10T10:58:24.538154Z",
     "start_time": "2018-09-10T10:58:24.533153Z"
    },
    "collapsed": true
   },
   "outputs": [],
   "source": [
    "# circ_raw_class_1['label'].value_counts()"
   ]
  },
  {
   "cell_type": "markdown",
   "metadata": {},
   "source": [
    "### 预测错误修正后数据"
   ]
  },
  {
   "cell_type": "code",
   "execution_count": 23,
   "metadata": {
    "ExecuteTime": {
     "end_time": "2018-09-10T10:58:24.714164Z",
     "start_time": "2018-09-10T10:58:24.706163Z"
    },
    "collapsed": true
   },
   "outputs": [],
   "source": [
    "# file_list_2 = ['circ_class_sel_20180827-1.xlsx','circ_class_sel_20180827-2.xlsx']\n",
    "\n",
    "# circ_raw_class_2 = correct_wrong_data(folder, file_list_2)\n",
    "# circ_raw_class_2['label'] = circ_raw_class_2['label'].apply(lambda x:x.strip())  \n",
    "# circ_raw_class_2 = circ_raw_class_2[['备注', 'raw_title', 'raw_content']]\n",
    "# circ_raw_class_2.columns = ['label', 'title', 'content']\n",
    "# print('总数：', circ_raw_class_2.shape)\n",
    "# circ_raw_class_2.head()"
   ]
  },
  {
   "cell_type": "code",
   "execution_count": 24,
   "metadata": {
    "ExecuteTime": {
     "end_time": "2018-09-10T10:58:24.866172Z",
     "start_time": "2018-09-10T10:58:24.862172Z"
    },
    "collapsed": true
   },
   "outputs": [],
   "source": [
    "# circ_raw_class_2['label'].value_counts()"
   ]
  },
  {
   "cell_type": "markdown",
   "metadata": {},
   "source": [
    "### 新补充数据"
   ]
  },
  {
   "cell_type": "code",
   "execution_count": 25,
   "metadata": {
    "ExecuteTime": {
     "end_time": "2018-09-10T10:58:25.518210Z",
     "start_time": "2018-09-10T10:58:25.026182Z"
    }
   },
   "outputs": [
    {
     "name": "stdout",
     "output_type": "stream",
     "text": [
      "Index(['title', 'content', 'label'], dtype='object')\n",
      "去空值前：  (368, 3) circ_0905_neg_raw_data.xlsx Sheet1\n",
      "去空值后：  (368, 3) circ_0905_neg_raw_data.xlsx Sheet1\n",
      "Index(['title', 'content', 'label'], dtype='object')\n",
      "去空值前：  (399, 3) circ_0905_pos_raw_data.xlsx Sheet1\n",
      "去空值后：  (399, 3) circ_0905_pos_raw_data.xlsx Sheet1\n",
      "Index(['title', 'content', 'label'], dtype='object')\n",
      "去空值前：  (255, 3) circ_0905_pos_raw_data_add.xlsx Sheet1\n",
      "去空值后：  (255, 3) circ_0905_pos_raw_data_add.xlsx Sheet1\n",
      "总数： (1022, 3)\n"
     ]
    },
    {
     "data": {
      "text/html": [
       "<div>\n",
       "<style scoped>\n",
       "    .dataframe tbody tr th:only-of-type {\n",
       "        vertical-align: middle;\n",
       "    }\n",
       "\n",
       "    .dataframe tbody tr th {\n",
       "        vertical-align: top;\n",
       "    }\n",
       "\n",
       "    .dataframe thead th {\n",
       "        text-align: right;\n",
       "    }\n",
       "</style>\n",
       "<table border=\"1\" class=\"dataframe\">\n",
       "  <thead>\n",
       "    <tr style=\"text-align: right;\">\n",
       "      <th></th>\n",
       "      <th>label</th>\n",
       "      <th>title</th>\n",
       "      <th>content</th>\n",
       "    </tr>\n",
       "  </thead>\n",
       "  <tbody>\n",
       "    <tr>\n",
       "      <th>0</th>\n",
       "      <td>0</td>\n",
       "      <td>股份被转股东却不知情原保监会审查批复遭</td>\n",
       "      <td>股份被转股东却不知情 原保监会审查批复遭质疑大股东私自转让公司所有股权后，故意违法被工商部门...</td>\n",
       "    </tr>\n",
       "    <tr>\n",
       "      <th>1</th>\n",
       "      <td>0</td>\n",
       "      <td>产寿险分裂七大阵营一季度家险企亏损</td>\n",
       "      <td>产寿险分裂七大阵营：一季度72家险企亏损2017年，35家险企亏损过亿的消息尚未远去。201...</td>\n",
       "    </tr>\n",
       "    <tr>\n",
       "      <th>2</th>\n",
       "      <td>0</td>\n",
       "      <td>年险企车险承保亏损榜出炉家</td>\n",
       "      <td>2017年险企车险承保亏损榜出炉：49家共亏62亿 安盛天平成“亏损王”财险公司2017年“...</td>\n",
       "    </tr>\n",
       "    <tr>\n",
       "      <th>3</th>\n",
       "      <td>0</td>\n",
       "      <td>车险承保亏损榜第名国任财险连亏两年去</td>\n",
       "      <td>车险承保亏损榜第2名 国任财险连亏两年去年净利-2.7亿每经记者 胡 杨 每经编辑 王可然国...</td>\n",
       "    </tr>\n",
       "    <tr>\n",
       "      <th>4</th>\n",
       "      <td>0</td>\n",
       "      <td>去年保费缩两成退保超亿富德生命</td>\n",
       "      <td>去年保费缩两成、退保超700亿，富德生命人寿一季度亏损延续专为&lt;font color=\"#F...</td>\n",
       "    </tr>\n",
       "  </tbody>\n",
       "</table>\n",
       "</div>"
      ],
      "text/plain": [
       "   label                title  \\\n",
       "0      0  股份被转股东却不知情原保监会审查批复遭   \n",
       "1      0    产寿险分裂七大阵营一季度家险企亏损   \n",
       "2      0        年险企车险承保亏损榜出炉家   \n",
       "3      0   车险承保亏损榜第名国任财险连亏两年去   \n",
       "4      0      去年保费缩两成退保超亿富德生命   \n",
       "\n",
       "                                             content  \n",
       "0  股份被转股东却不知情 原保监会审查批复遭质疑大股东私自转让公司所有股权后，故意违法被工商部门...  \n",
       "1  产寿险分裂七大阵营：一季度72家险企亏损2017年，35家险企亏损过亿的消息尚未远去。201...  \n",
       "2  2017年险企车险承保亏损榜出炉：49家共亏62亿 安盛天平成“亏损王”财险公司2017年“...  \n",
       "3  车险承保亏损榜第2名 国任财险连亏两年去年净利-2.7亿每经记者 胡 杨 每经编辑 王可然国...  \n",
       "4  去年保费缩两成、退保超700亿，富德生命人寿一季度亏损延续专为<font color=\"#F...  "
      ]
     },
     "execution_count": 25,
     "metadata": {},
     "output_type": "execute_result"
    }
   ],
   "source": [
    "file_list_3 = ['circ_0905_neg_raw_data.xlsx', 'circ_0905_pos_raw_data.xlsx',\n",
    "               'circ_0905_pos_raw_data_add.xlsx'\n",
    "               ] # 多个 sheet\n",
    "\n",
    "circ_raw_tendency_3 = get_new_data(folder, file_list_3)\n",
    "\n",
    "# circ_raw_tendency_3['label'] = circ_raw_tendency_3['label'].apply(lambda x:x.strip())    \n",
    "print('总数：', circ_raw_tendency_3.shape)\n",
    "circ_raw_tendency_3.head()"
   ]
  },
  {
   "cell_type": "code",
   "execution_count": 26,
   "metadata": {
    "ExecuteTime": {
     "end_time": "2018-09-10T10:58:25.697220Z",
     "start_time": "2018-09-10T10:58:25.685219Z"
    }
   },
   "outputs": [
    {
     "data": {
      "text/plain": [
       "1    654\n",
       "0    368\n",
       "Name: label, dtype: int64"
      ]
     },
     "execution_count": 26,
     "metadata": {},
     "output_type": "execute_result"
    }
   ],
   "source": [
    "circ_raw_tendency_3['label'].value_counts()"
   ]
  },
  {
   "cell_type": "markdown",
   "metadata": {},
   "source": [
    "### 模型预测后反馈数据"
   ]
  },
  {
   "cell_type": "code",
   "execution_count": 27,
   "metadata": {
    "ExecuteTime": {
     "end_time": "2018-09-10T10:58:25.914232Z",
     "start_time": "2018-09-10T10:58:25.906232Z"
    },
    "collapsed": true
   },
   "outputs": [],
   "source": [
    "# file_list_4 = ['20180904_circ_class_feedback.xlsx', '20180904_circ_class_feedback_1.xlsx',\n",
    "#               ] # 多个 sheet\n",
    "\n",
    "# circ_raw_class_4 = get_feedback_data(folder, file_list_4)\n",
    "\n",
    "# circ_raw_class_4['label'] = circ_raw_class_4['label'].apply(lambda x:x.strip())    \n",
    "# print('总数：', circ_raw_class_4.shape)\n",
    "# circ_raw_class_4.head()"
   ]
  },
  {
   "cell_type": "code",
   "execution_count": 28,
   "metadata": {
    "ExecuteTime": {
     "end_time": "2018-09-10T10:58:26.106243Z",
     "start_time": "2018-09-10T10:58:26.100243Z"
    },
    "collapsed": true
   },
   "outputs": [],
   "source": [
    "# circ_raw_class_4['label'].value_counts()"
   ]
  },
  {
   "cell_type": "markdown",
   "metadata": {},
   "source": [
    "## 合并数据"
   ]
  },
  {
   "cell_type": "code",
   "execution_count": 29,
   "metadata": {
    "ExecuteTime": {
     "end_time": "2018-09-10T10:58:26.327256Z",
     "start_time": "2018-09-10T10:58:26.267253Z"
    }
   },
   "outputs": [
    {
     "name": "stdout",
     "output_type": "stream",
     "text": [
      "去重前：  (1022, 4)\n",
      "去重后：  (767, 4)\n"
     ]
    },
    {
     "data": {
      "text/html": [
       "<div>\n",
       "<style scoped>\n",
       "    .dataframe tbody tr th:only-of-type {\n",
       "        vertical-align: middle;\n",
       "    }\n",
       "\n",
       "    .dataframe tbody tr th {\n",
       "        vertical-align: top;\n",
       "    }\n",
       "\n",
       "    .dataframe thead th {\n",
       "        text-align: right;\n",
       "    }\n",
       "</style>\n",
       "<table border=\"1\" class=\"dataframe\">\n",
       "  <thead>\n",
       "    <tr style=\"text-align: right;\">\n",
       "      <th></th>\n",
       "      <th>label</th>\n",
       "      <th>title</th>\n",
       "      <th>content</th>\n",
       "      <th>title_content</th>\n",
       "    </tr>\n",
       "  </thead>\n",
       "  <tbody>\n",
       "    <tr>\n",
       "      <th>0</th>\n",
       "      <td>0</td>\n",
       "      <td>股份被转股东却不知情原保监会审查批复遭</td>\n",
       "      <td>股份被转股东却不知情 原保监会审查批复遭质疑大股东私自转让公司所有股权后，故意违法被工商部门...</td>\n",
       "      <td>股份被转股东却不知情原保监会审查批复遭。股份被转股东却不知情 原保监会审查批复遭质疑大股东私...</td>\n",
       "    </tr>\n",
       "    <tr>\n",
       "      <th>1</th>\n",
       "      <td>0</td>\n",
       "      <td>产寿险分裂七大阵营一季度家险企亏损</td>\n",
       "      <td>产寿险分裂七大阵营：一季度72家险企亏损2017年，35家险企亏损过亿的消息尚未远去。201...</td>\n",
       "      <td>产寿险分裂七大阵营一季度家险企亏损。产寿险分裂七大阵营：一季度72家险企亏损2017年，35...</td>\n",
       "    </tr>\n",
       "    <tr>\n",
       "      <th>2</th>\n",
       "      <td>0</td>\n",
       "      <td>年险企车险承保亏损榜出炉家</td>\n",
       "      <td>2017年险企车险承保亏损榜出炉：49家共亏62亿 安盛天平成“亏损王”财险公司2017年“...</td>\n",
       "      <td>年险企车险承保亏损榜出炉家。2017年险企车险承保亏损榜出炉：49家共亏62亿 安盛天平成“...</td>\n",
       "    </tr>\n",
       "    <tr>\n",
       "      <th>3</th>\n",
       "      <td>0</td>\n",
       "      <td>车险承保亏损榜第名国任财险连亏两年去</td>\n",
       "      <td>车险承保亏损榜第2名 国任财险连亏两年去年净利-2.7亿每经记者 胡 杨 每经编辑 王可然国...</td>\n",
       "      <td>车险承保亏损榜第名国任财险连亏两年去。车险承保亏损榜第2名 国任财险连亏两年去年净利-2.7...</td>\n",
       "    </tr>\n",
       "    <tr>\n",
       "      <th>4</th>\n",
       "      <td>0</td>\n",
       "      <td>去年保费缩两成退保超亿富德生命</td>\n",
       "      <td>去年保费缩两成、退保超700亿，富德生命人寿一季度亏损延续专为&lt;font color=\"#F...</td>\n",
       "      <td>去年保费缩两成退保超亿富德生命。去年保费缩两成、退保超700亿，富德生命人寿一季度亏损延续专...</td>\n",
       "    </tr>\n",
       "  </tbody>\n",
       "</table>\n",
       "</div>"
      ],
      "text/plain": [
       "   label                title  \\\n",
       "0      0  股份被转股东却不知情原保监会审查批复遭   \n",
       "1      0    产寿险分裂七大阵营一季度家险企亏损   \n",
       "2      0        年险企车险承保亏损榜出炉家   \n",
       "3      0   车险承保亏损榜第名国任财险连亏两年去   \n",
       "4      0      去年保费缩两成退保超亿富德生命   \n",
       "\n",
       "                                             content  \\\n",
       "0  股份被转股东却不知情 原保监会审查批复遭质疑大股东私自转让公司所有股权后，故意违法被工商部门...   \n",
       "1  产寿险分裂七大阵营：一季度72家险企亏损2017年，35家险企亏损过亿的消息尚未远去。201...   \n",
       "2  2017年险企车险承保亏损榜出炉：49家共亏62亿 安盛天平成“亏损王”财险公司2017年“...   \n",
       "3  车险承保亏损榜第2名 国任财险连亏两年去年净利-2.7亿每经记者 胡 杨 每经编辑 王可然国...   \n",
       "4  去年保费缩两成、退保超700亿，富德生命人寿一季度亏损延续专为<font color=\"#F...   \n",
       "\n",
       "                                       title_content  \n",
       "0  股份被转股东却不知情原保监会审查批复遭。股份被转股东却不知情 原保监会审查批复遭质疑大股东私...  \n",
       "1  产寿险分裂七大阵营一季度家险企亏损。产寿险分裂七大阵营：一季度72家险企亏损2017年，35...  \n",
       "2  年险企车险承保亏损榜出炉家。2017年险企车险承保亏损榜出炉：49家共亏62亿 安盛天平成“...  \n",
       "3  车险承保亏损榜第名国任财险连亏两年去。车险承保亏损榜第2名 国任财险连亏两年去年净利-2.7...  \n",
       "4  去年保费缩两成退保超亿富德生命。去年保费缩两成、退保超700亿，富德生命人寿一季度亏损延续专...  "
      ]
     },
     "execution_count": 29,
     "metadata": {},
     "output_type": "execute_result"
    }
   ],
   "source": [
    "# circ_raw_tendency = pd.concat([circ_raw_class_1, circ_raw_class_2,\n",
    "#                           circ_raw_class_3, circ_raw_class_4], \n",
    "#                          axis = 0)\n",
    "\n",
    "circ_raw_tendency = circ_raw_tendency_3\n",
    "circ_raw_tendency['title_content'] = circ_raw_tendency['title'].astype(str) + '。' + circ_raw_tendency['content'].astype(str)\n",
    "# circ_raw_tendency['label'] = circ_raw_tendency['label'].apply(lambda x:x.strip())\n",
    "# circ_raw_tendency['index'] = range(circ_raw_tendency.shape[0])\n",
    "print('去重前： ', circ_raw_tendency.shape)\n",
    "circ_raw_tendency = circ_raw_tendency.drop_duplicates(subset = 'title_content')\n",
    "print('去重后： ', circ_raw_tendency.shape)\n",
    "circ_raw_tendency.head()"
   ]
  },
  {
   "cell_type": "code",
   "execution_count": 30,
   "metadata": {
    "ExecuteTime": {
     "end_time": "2018-09-10T10:58:26.561269Z",
     "start_time": "2018-09-10T10:58:26.544268Z"
    }
   },
   "outputs": [
    {
     "name": "stdout",
     "output_type": "stream",
     "text": [
      "(767, 4)\n"
     ]
    },
    {
     "data": {
      "text/plain": [
       "label\n",
       "0    368\n",
       "1    396\n",
       "Name: title, dtype: int64"
      ]
     },
     "execution_count": 30,
     "metadata": {},
     "output_type": "execute_result"
    }
   ],
   "source": [
    "print(circ_raw_tendency.shape)\n",
    "circ_raw_tendency.groupby('label')['title'].count()"
   ]
  },
  {
   "cell_type": "markdown",
   "metadata": {},
   "source": [
    "## 预处理"
   ]
  },
  {
   "cell_type": "code",
   "execution_count": 31,
   "metadata": {
    "ExecuteTime": {
     "end_time": "2018-09-10T10:58:43.336229Z",
     "start_time": "2018-09-10T10:58:26.760281Z"
    }
   },
   "outputs": [
    {
     "name": "stdout",
     "output_type": "stream",
     "text": [
      "(767, 4)\n",
      "save_folder:  circ_result_tendency/\n",
      "title num:  767\n",
      "content num:  767\n",
      "股份 转 股东 不知情 原 保监会 审查 批复 遭 质疑 股东 私自 转让 公司 股权 违法 工商部门 吊销 营业执照 股东 申请 法院 强制 清算 发现 公司 早 年前 股份 转让 公司 并未 收到 转让款 申请 政府 信息 公开 部门 并未 法定期限 答复 股东 行政诉讼 邮件 提供 少部分 信息 涉及 股东 利益 大部分 信息 并未 提供 大连人 李岩 接受 獬豸 新闻 ID 记者 采访 时 谈起 此事 摇头 李岩 说 做梦 想到 身为 北京 毕保信 投资 有限公司 下称 毕保信 公司 股东 未有 知情 情况 持 股份 公司 非法 转让 毕保信 公司 未 收到 分文 股权 转让款 毕保信 公司 成立 年 月 日 工商部门 认缴 出资额 万元 股东 林建伟 出资 万元 持有 毕保信 公司 股权 股东 李岩 出资 万元 持有 股权 担任 公司 监事 期间 毕保信 公司 经营 年 月初 李岩 发现 毕保信 公司 营业执照 工商部门 予以 强制 吊销 同年 月 日 李岩 毕保信 公司 被吊销 营业执照 超过 法定期限 未 成立 清算组 清算 北京市 第三 中级 人民法院 下称 北京 三中 院 申请 毕保信 公司 强制 清算 法院 审理 查明 毕保信 公司 早 年 月 日 北京市工商局 以未 期限内 接受 年度 企业 年检 吊销 营业执照 责令 股东 清算组 清算 债权债务 办理 注销 登记 年 月 日 北京 三中 院 民事裁定 毕保信 公司 成立 强制 清算组 清算 过程 中 李岩 得知 早 年 月 日 毕保信 公司 安达 北美洲 FF 控股公司 下称 安达 北美洲 FF 华泰财产保险 股份 有限公司 下称 华泰 公司 签订 股份 转让 协议 协议 约定 安达 北美洲 受让 毕保信 公司 持有 华泰 公司 股份 每股 价格 美元 共计 美元 合计 人民币 元 对此 李岩 称 并未 股权 转让 事宜 做出 参加 股东会 决议 毕保信 公司 未 收到 股权 转让款 毕保信 公司 股东 股权 转让 致使 毕保信 公司 股份 对价 资产 丧失 侵害到 股东 毕保信 公司 享有 盈余 分配权 剩余 财产 索取权 股权 权能 李岩 北京 三中 院 提起 侵权 诉讼 李岩 说 毕保信 公司 持股 FF 华泰财产保险 股份 有限公司 简称 华泰 公司 原始股 原始股 股东 年 月 日 华泰 公司 法院 提供 年 月 日原 国家 FF 保监会 作出 FF 华泰财产保险 股份 有限公司 股权 转让 批复 FF 保监 变审 号 文件 证明 毕保信 公司 转让 万股 事宜 FF 保监会 批复 李岩 行政 机关 作出 行政 时 尽到 审慎 审查 义务 李岩 代理律师 张良 规范 FF 公司 事项 变更 报批 程序 通知 中 明确规定 原 国家 FF 保监会 法律法规 股份 转让 材料 审查 作出 批准 不予 批准 李岩 毕保信 公司 自然人 股东 并未 股权 转让 过程 中 做出 原 国家 FF 保监会 华泰 公司 申请 审查 时 发现 行政许可 事项 关系 利益 告知 利害 关系人 李岩 李岩 有权 陈述 申辩 原 国家 FF 保监会 听取 李岩 意见 年 月 日 李岩 原 国家 FF 保监会 申请 公开 FF 华泰财产保险 股份 有限公司 股东 外资 公司 转让 股权 请示 及原 国家 FF 保监会 年 月 日 做出 FF 华泰财产保险 股份 有限公司 股权 转让 批复 文件 法定 期间 李岩 提出 公开 申请 并未 原 国家 FF 保监会 回复 通知 解释 李岩 未 法定 期间 接到 告知 理由 李岩 遂 北京 一中院 提起 行政诉讼 年 月 日 北京 一中院 开庭审理 李岩诉 FF 保监会 申请 信息 公开 行政 违法 案件 年 月 日 FF 保监会 李岩 回复 延期 回复 通知书 称因 公开 信息 涉及 FF 华泰保险 商业秘密 延期 答复 李岩 年 月 日 北京 一中院 裁定 驳回 李岩 诉讼请求 年 月 日 FF 保监会 发送 电子邮件 公开 信息 发送 李岩 李岩 称 涉及 利益 大部分 信息 并未 提供 李岩 告诉 獬豸 新闻 ID 记者 原 FF 保监会 公开 信息 中 华泰 公司 公开 第二届 董事会 临时 会议 决议 中 董事 签名 全是 打印 体 不仅如此 涉及 李岩 利益 相关 文件 FF 保监会 未 提供 年 月 日 记者 赶赴 中国 FF 银行保险监督管理委员会 简称 国家 FF 银保监会 欲 李岩 案件 涉及 相关 核实 求证 国家 FF 银保监会 传达室 记者 原 FF 保监会 案件 委托 代理人 FF 保监会 工作人员 任重 电话 同志 采访 国家 FF 保监会 新闻处 婉拒 记者 采访 后经 国家 FF 保监会 传达室 工作人员 接传 记者 国家 FF 保监会 新闻处 一位 不愿 透露 姓名 工作人员 通话 记者 采访 来意 新闻处 工作人员 托词 不愿 记者 见面 记者 再三 面向 递交 采访 函 工作人员 理由 推脱 接受 记者 当面 递交 采访 提纲 接受 传真 采访 提纲 无奈 之下 记者 只好 返回 报社 工作人员 提供 传真号码 拨打 语音 提醒 号码 错误 请 查证 拨 此事 獬豸 新闻 ID 予以 关注 \n",
      "label num:  767\n"
     ]
    }
   ],
   "source": [
    "save_folder = 'circ_result_tendency/'\n",
    "pre_save(pre_cor_circ.handle_contents, circ_raw_tendency, save_folder)"
   ]
  },
  {
   "cell_type": "markdown",
   "metadata": {},
   "source": [
    "# 保险业：3 预警"
   ]
  },
  {
   "cell_type": "markdown",
   "metadata": {},
   "source": [
    "- 1: 预警\n",
    "- 0: 非预警"
   ]
  },
  {
   "cell_type": "markdown",
   "metadata": {},
   "source": [
    "## 读取数据"
   ]
  },
  {
   "cell_type": "code",
   "execution_count": 32,
   "metadata": {
    "ExecuteTime": {
     "end_time": "2018-09-10T10:58:43.524240Z",
     "start_time": "2018-09-10T10:58:43.520239Z"
    },
    "collapsed": true
   },
   "outputs": [],
   "source": [
    "folder = 'circ_data_warn/20180621'"
   ]
  },
  {
   "cell_type": "markdown",
   "metadata": {},
   "source": [
    "### 预测正确数据"
   ]
  },
  {
   "cell_type": "code",
   "execution_count": 33,
   "metadata": {
    "ExecuteTime": {
     "end_time": "2018-09-10T10:58:43.711250Z",
     "start_time": "2018-09-10T10:58:43.703250Z"
    },
    "collapsed": true
   },
   "outputs": [],
   "source": [
    "# file_list_1 = ['circ_class_sel_else_20180827.xlsx',]\n",
    "# circ_raw_class_1 = predict_right(folder, file_list_1)\n",
    "\n",
    "# circ_raw_class_1['label'] = circ_raw_class_1['label'].apply(lambda x:x.strip())    \n",
    "# circ_raw_class_1 = circ_raw_class_1[['label', 'raw_title', 'raw_content']]\n",
    "# circ_raw_class_1.columns = ['label', 'title', 'content']\n",
    "# print('总数：', circ_raw_class_1.shape)\n",
    "# circ_raw_class_1.head()"
   ]
  },
  {
   "cell_type": "code",
   "execution_count": 34,
   "metadata": {
    "ExecuteTime": {
     "end_time": "2018-09-10T10:58:43.967265Z",
     "start_time": "2018-09-10T10:58:43.959265Z"
    },
    "collapsed": true
   },
   "outputs": [],
   "source": [
    "# circ_raw_class_1['label'].value_counts()"
   ]
  },
  {
   "cell_type": "markdown",
   "metadata": {},
   "source": [
    "### 预测错误修正后数据"
   ]
  },
  {
   "cell_type": "code",
   "execution_count": 35,
   "metadata": {
    "ExecuteTime": {
     "end_time": "2018-09-10T10:58:44.220279Z",
     "start_time": "2018-09-10T10:58:44.214279Z"
    },
    "collapsed": true
   },
   "outputs": [],
   "source": [
    "# file_list_2 = ['circ_class_sel_20180827-1.xlsx','circ_class_sel_20180827-2.xlsx']\n",
    "\n",
    "# circ_raw_class_2 = correct_wrong_data(folder, file_list_2)\n",
    "# circ_raw_class_2['label'] = circ_raw_class_2['label'].apply(lambda x:x.strip())  \n",
    "# circ_raw_class_2 = circ_raw_class_2[['备注', 'raw_title', 'raw_content']]\n",
    "# circ_raw_class_2.columns = ['label', 'title', 'content']\n",
    "# print('总数：', circ_raw_class_2.shape)\n",
    "# circ_raw_class_2.head()"
   ]
  },
  {
   "cell_type": "code",
   "execution_count": 36,
   "metadata": {
    "ExecuteTime": {
     "end_time": "2018-09-10T10:58:44.463293Z",
     "start_time": "2018-09-10T10:58:44.454293Z"
    },
    "collapsed": true
   },
   "outputs": [],
   "source": [
    "# circ_raw_class_2['label'].value_counts()"
   ]
  },
  {
   "cell_type": "markdown",
   "metadata": {},
   "source": [
    "### 新补充数据"
   ]
  },
  {
   "cell_type": "code",
   "execution_count": 37,
   "metadata": {
    "ExecuteTime": {
     "end_time": "2018-09-10T10:58:45.898375Z",
     "start_time": "2018-09-10T10:58:44.707307Z"
    }
   },
   "outputs": [
    {
     "name": "stdout",
     "output_type": "stream",
     "text": [
      "Index(['title', 'content', 'label'], dtype='object')\n",
      "去空值前：  (3551, 3) 20180621_circ_warn_data.xlsx Sheet1\n",
      "去空值后：  (3551, 3) 20180621_circ_warn_data.xlsx Sheet1\n",
      "总数： (3551, 3)\n"
     ]
    },
    {
     "data": {
      "text/html": [
       "<div>\n",
       "<style scoped>\n",
       "    .dataframe tbody tr th:only-of-type {\n",
       "        vertical-align: middle;\n",
       "    }\n",
       "\n",
       "    .dataframe tbody tr th {\n",
       "        vertical-align: top;\n",
       "    }\n",
       "\n",
       "    .dataframe thead th {\n",
       "        text-align: right;\n",
       "    }\n",
       "</style>\n",
       "<table border=\"1\" class=\"dataframe\">\n",
       "  <thead>\n",
       "    <tr style=\"text-align: right;\">\n",
       "      <th></th>\n",
       "      <th>label</th>\n",
       "      <th>title</th>\n",
       "      <th>content</th>\n",
       "    </tr>\n",
       "  </thead>\n",
       "  <tbody>\n",
       "    <tr>\n",
       "      <th>0</th>\n",
       "      <td>1</td>\n",
       "      <td>防风险治乱象 逾900张罚单直指险企问题重灾区</td>\n",
       "      <td>今日报纸每经网首页         &gt;         今日报纸        &gt;     ...</td>\n",
       "    </tr>\n",
       "    <tr>\n",
       "      <th>1</th>\n",
       "      <td>1</td>\n",
       "      <td>调结构回保障“保险+科技”已成行业新发力点</td>\n",
       "      <td>今日报纸每经网首页         &gt;         今日报纸        &gt;     ...</td>\n",
       "    </tr>\n",
       "    <tr>\n",
       "      <th>2</th>\n",
       "      <td>1</td>\n",
       "      <td>补短板强监管 2017年保监会密集发文60余份</td>\n",
       "      <td>今日报纸每经网首页         &gt;         今日报纸        &gt;     ...</td>\n",
       "    </tr>\n",
       "    <tr>\n",
       "      <th>3</th>\n",
       "      <td>1</td>\n",
       "      <td>寿险公司开门红产品调查： 上市险企增保障范围 中小险企暗提收益</td>\n",
       "      <td>本报记者 苏向杲 　　　　险企开门红首月已过大半，寿险公司推出开门红的产品也浮出水面。...</td>\n",
       "    </tr>\n",
       "    <tr>\n",
       "      <th>4</th>\n",
       "      <td>1</td>\n",
       "      <td>渎职行为违规行为终身追责</td>\n",
       "      <td>本报北京1月17日电  （记者曲哲涵）保监会17日发布《打赢保险业防范化解重大风险攻坚战...</td>\n",
       "    </tr>\n",
       "  </tbody>\n",
       "</table>\n",
       "</div>"
      ],
      "text/plain": [
       "   label                            title  \\\n",
       "0      1          防风险治乱象 逾900张罚单直指险企问题重灾区   \n",
       "1      1            调结构回保障“保险+科技”已成行业新发力点   \n",
       "2      1          补短板强监管 2017年保监会密集发文60余份   \n",
       "3      1  寿险公司开门红产品调查： 上市险企增保障范围 中小险企暗提收益   \n",
       "4      1                     渎职行为违规行为终身追责   \n",
       "\n",
       "                                             content  \n",
       "0  今日报纸每经网首页         >         今日报纸        >     ...  \n",
       "1  今日报纸每经网首页         >         今日报纸        >     ...  \n",
       "2  今日报纸每经网首页         >         今日报纸        >     ...  \n",
       "3  　　 本报记者 苏向杲 　　　　险企开门红首月已过大半，寿险公司推出开门红的产品也浮出水面。...  \n",
       "4  　　本报北京1月17日电  （记者曲哲涵）保监会17日发布《打赢保险业防范化解重大风险攻坚战...  "
      ]
     },
     "execution_count": 37,
     "metadata": {},
     "output_type": "execute_result"
    }
   ],
   "source": [
    "file_list_3 = ['20180621_circ_warn_data.xlsx'\n",
    "               ] # 多个 sheet\n",
    "\n",
    "circ_raw_warn_3 = get_new_data(folder, file_list_3)\n",
    "\n",
    "# circ_raw_warn_3['label'] = circ_raw_warn_3['label'].apply(lambda x:x.strip())    \n",
    "print('总数：', circ_raw_warn_3.shape)\n",
    "circ_raw_warn_3.head()"
   ]
  },
  {
   "cell_type": "code",
   "execution_count": 38,
   "metadata": {
    "ExecuteTime": {
     "end_time": "2018-09-10T10:58:46.277397Z",
     "start_time": "2018-09-10T10:58:46.259396Z"
    }
   },
   "outputs": [
    {
     "data": {
      "text/plain": [
       "0    1923\n",
       "1    1628\n",
       "Name: label, dtype: int64"
      ]
     },
     "execution_count": 38,
     "metadata": {},
     "output_type": "execute_result"
    }
   ],
   "source": [
    "circ_raw_warn_3['label'].value_counts()"
   ]
  },
  {
   "cell_type": "markdown",
   "metadata": {},
   "source": [
    "### 模型预测后反馈数据"
   ]
  },
  {
   "cell_type": "code",
   "execution_count": 39,
   "metadata": {
    "ExecuteTime": {
     "end_time": "2018-09-10T10:58:46.517411Z",
     "start_time": "2018-09-10T10:58:46.510410Z"
    },
    "collapsed": true
   },
   "outputs": [],
   "source": [
    "# file_list_4 = ['20180904_circ_class_feedback.xlsx', '20180904_circ_class_feedback_1.xlsx',\n",
    "#               ] # 多个 sheet\n",
    "\n",
    "# circ_raw_class_4 = get_feedback_data(folder, file_list_4)\n",
    "\n",
    "# circ_raw_class_4['label'] = circ_raw_class_4['label'].apply(lambda x:x.strip())    \n",
    "# print('总数：', circ_raw_class_4.shape)\n",
    "# circ_raw_class_4.head()"
   ]
  },
  {
   "cell_type": "code",
   "execution_count": 40,
   "metadata": {
    "ExecuteTime": {
     "end_time": "2018-09-10T10:58:46.751424Z",
     "start_time": "2018-09-10T10:58:46.747424Z"
    },
    "collapsed": true
   },
   "outputs": [],
   "source": [
    "# circ_raw_class_4['label'].value_counts()"
   ]
  },
  {
   "cell_type": "markdown",
   "metadata": {},
   "source": [
    "## 合并数据"
   ]
  },
  {
   "cell_type": "code",
   "execution_count": 41,
   "metadata": {
    "ExecuteTime": {
     "end_time": "2018-09-10T10:58:47.098444Z",
     "start_time": "2018-09-10T10:58:46.948435Z"
    }
   },
   "outputs": [
    {
     "name": "stdout",
     "output_type": "stream",
     "text": [
      "去重前：  (3551, 5)\n",
      "去重后：  (3549, 5)\n"
     ]
    },
    {
     "data": {
      "text/html": [
       "<div>\n",
       "<style scoped>\n",
       "    .dataframe tbody tr th:only-of-type {\n",
       "        vertical-align: middle;\n",
       "    }\n",
       "\n",
       "    .dataframe tbody tr th {\n",
       "        vertical-align: top;\n",
       "    }\n",
       "\n",
       "    .dataframe thead th {\n",
       "        text-align: right;\n",
       "    }\n",
       "</style>\n",
       "<table border=\"1\" class=\"dataframe\">\n",
       "  <thead>\n",
       "    <tr style=\"text-align: right;\">\n",
       "      <th></th>\n",
       "      <th>label</th>\n",
       "      <th>title</th>\n",
       "      <th>content</th>\n",
       "      <th>title_content</th>\n",
       "      <th>index</th>\n",
       "    </tr>\n",
       "  </thead>\n",
       "  <tbody>\n",
       "    <tr>\n",
       "      <th>0</th>\n",
       "      <td>1</td>\n",
       "      <td>防风险治乱象 逾900张罚单直指险企问题重灾区</td>\n",
       "      <td>今日报纸每经网首页         &gt;         今日报纸        &gt;     ...</td>\n",
       "      <td>防风险治乱象 逾900张罚单直指险企问题重灾区。今日报纸每经网首页         &gt;   ...</td>\n",
       "      <td>0</td>\n",
       "    </tr>\n",
       "    <tr>\n",
       "      <th>1</th>\n",
       "      <td>1</td>\n",
       "      <td>调结构回保障“保险+科技”已成行业新发力点</td>\n",
       "      <td>今日报纸每经网首页         &gt;         今日报纸        &gt;     ...</td>\n",
       "      <td>调结构回保障“保险+科技”已成行业新发力点。今日报纸每经网首页         &gt;     ...</td>\n",
       "      <td>1</td>\n",
       "    </tr>\n",
       "    <tr>\n",
       "      <th>2</th>\n",
       "      <td>1</td>\n",
       "      <td>补短板强监管 2017年保监会密集发文60余份</td>\n",
       "      <td>今日报纸每经网首页         &gt;         今日报纸        &gt;     ...</td>\n",
       "      <td>补短板强监管 2017年保监会密集发文60余份。今日报纸每经网首页         &gt;   ...</td>\n",
       "      <td>2</td>\n",
       "    </tr>\n",
       "    <tr>\n",
       "      <th>3</th>\n",
       "      <td>1</td>\n",
       "      <td>寿险公司开门红产品调查： 上市险企增保障范围 中小险企暗提收益</td>\n",
       "      <td>本报记者 苏向杲 　　　　险企开门红首月已过大半，寿险公司推出开门红的产品也浮出水面。...</td>\n",
       "      <td>寿险公司开门红产品调查： 上市险企增保障范围 中小险企暗提收益。　　 本报记者 苏向杲 　　...</td>\n",
       "      <td>3</td>\n",
       "    </tr>\n",
       "    <tr>\n",
       "      <th>4</th>\n",
       "      <td>1</td>\n",
       "      <td>渎职行为违规行为终身追责</td>\n",
       "      <td>本报北京1月17日电  （记者曲哲涵）保监会17日发布《打赢保险业防范化解重大风险攻坚战...</td>\n",
       "      <td>渎职行为违规行为终身追责。　　本报北京1月17日电  （记者曲哲涵）保监会17日发布《打赢保...</td>\n",
       "      <td>4</td>\n",
       "    </tr>\n",
       "  </tbody>\n",
       "</table>\n",
       "</div>"
      ],
      "text/plain": [
       "   label                            title  \\\n",
       "0      1          防风险治乱象 逾900张罚单直指险企问题重灾区   \n",
       "1      1            调结构回保障“保险+科技”已成行业新发力点   \n",
       "2      1          补短板强监管 2017年保监会密集发文60余份   \n",
       "3      1  寿险公司开门红产品调查： 上市险企增保障范围 中小险企暗提收益   \n",
       "4      1                     渎职行为违规行为终身追责   \n",
       "\n",
       "                                             content  \\\n",
       "0  今日报纸每经网首页         >         今日报纸        >     ...   \n",
       "1  今日报纸每经网首页         >         今日报纸        >     ...   \n",
       "2  今日报纸每经网首页         >         今日报纸        >     ...   \n",
       "3  　　 本报记者 苏向杲 　　　　险企开门红首月已过大半，寿险公司推出开门红的产品也浮出水面。...   \n",
       "4  　　本报北京1月17日电  （记者曲哲涵）保监会17日发布《打赢保险业防范化解重大风险攻坚战...   \n",
       "\n",
       "                                       title_content  index  \n",
       "0  防风险治乱象 逾900张罚单直指险企问题重灾区。今日报纸每经网首页         >   ...      0  \n",
       "1  调结构回保障“保险+科技”已成行业新发力点。今日报纸每经网首页         >     ...      1  \n",
       "2  补短板强监管 2017年保监会密集发文60余份。今日报纸每经网首页         >   ...      2  \n",
       "3  寿险公司开门红产品调查： 上市险企增保障范围 中小险企暗提收益。　　 本报记者 苏向杲 　　...      3  \n",
       "4  渎职行为违规行为终身追责。　　本报北京1月17日电  （记者曲哲涵）保监会17日发布《打赢保...      4  "
      ]
     },
     "execution_count": 41,
     "metadata": {},
     "output_type": "execute_result"
    }
   ],
   "source": [
    "# circ_raw_class = pd.concat([circ_raw_class_1, circ_raw_class_2,\n",
    "#                           circ_raw_class_3, circ_raw_class_4], \n",
    "#                          axis = 0)\n",
    "\n",
    "circ_raw_warn = circ_raw_warn_3\n",
    "circ_raw_warn['title_content'] = circ_raw_warn['title'].astype(str) + '。' + circ_raw_warn['content'].astype(str)\n",
    "# circ_raw_warn['label'] = circ_raw_warn['label'].apply(lambda x:x.strip())\n",
    "circ_raw_warn['index'] = range(circ_raw_warn.shape[0])\n",
    "print('去重前： ', circ_raw_warn.shape)\n",
    "circ_raw_warn = circ_raw_warn.drop_duplicates(subset = 'title_content')\n",
    "print('去重后： ', circ_raw_warn.shape)\n",
    "circ_raw_warn.head()"
   ]
  },
  {
   "cell_type": "code",
   "execution_count": 42,
   "metadata": {
    "ExecuteTime": {
     "end_time": "2018-09-10T10:58:47.312456Z",
     "start_time": "2018-09-10T10:58:47.298456Z"
    }
   },
   "outputs": [
    {
     "name": "stdout",
     "output_type": "stream",
     "text": [
      "(3549, 5)\n"
     ]
    },
    {
     "data": {
      "text/plain": [
       "label\n",
       "0    1921\n",
       "1    1628\n",
       "Name: title, dtype: int64"
      ]
     },
     "execution_count": 42,
     "metadata": {},
     "output_type": "execute_result"
    }
   ],
   "source": [
    "print(circ_raw_warn.shape)\n",
    "circ_raw_warn.groupby('label')['title'].count()"
   ]
  },
  {
   "cell_type": "markdown",
   "metadata": {},
   "source": [
    "## 预处理"
   ]
  },
  {
   "cell_type": "code",
   "execution_count": 43,
   "metadata": {
    "ExecuteTime": {
     "end_time": "2018-09-10T11:00:00.054617Z",
     "start_time": "2018-09-10T10:58:47.543470Z"
    }
   },
   "outputs": [
    {
     "name": "stdout",
     "output_type": "stream",
     "text": [
      "(3549, 5)\n",
      "save_folder:  circ_result_warn/\n",
      "title num:  3549\n",
      "content num:  3549\n",
      "今日 报纸 每经网 首页 今日 报纸 正文 防 风险 治乱 象 逾 张 罚单 直指 险企 重灾区 每日 经济 新闻 丨 每经 记者 胡 杨 每经 编辑 王可然 每经 记者 胡 杨 每经 编辑 王可然 回望 年 监管 姓监 四个 字 贯穿 始终 年 全国 保监系统 下发 张 监管函 超过 份 行政处罚 决定书 定期 通报 消费 投诉 情况 偿付能力 监管 工作 情况 首次 覆盖 全 行业 保险法 机构 公司 治理 现场 评估 体现 全方位 监管 之下 保险行业 乱象 整治 偿付能力 管理 为例 去年 三季度 末 家 公司 综合 偿付能力 溢额 万亿元 季度末 增加 亿元 人身险 公司 平均 核心偿付能力充足率 季度 百分点 连续 两个 季度 合计 处罚 金额 接近 亿据 每日 经济 新闻 记者 统计 年 全国 保监系统 一共 公开 多份 行政处罚 决定书 保监会 公布 余份 保监局 公布 多份 保监会 年 开出 张 罚单 相比 年 罚单 数量 增加 超过 五成 多份 处罚 决定书 涉及 家 保险机构 余位 关联 责任人 合计 处罚 金额 约 亿元 公司 性质 家 人身险 公司 家 财产险 公司 年内 吃 罚单 保险代理 公司 销售 公司 保险经纪 公司 相关 机构 接受 处罚 主力军 共有 家 机构 违规行为 监管部门 点名 往年 情况 销售误导 包括 电网 销 欺骗 投保人 虚列费用 给予 被保险人 保险合同 约定 利益 记录 客户 信息 不真实 聘任 不具有 任职 资格 人员 依旧 违规 重灾区 顽疾 深圳保监局 办公室 主任 汤志江 保监局 保监会 派出机构 违法行为 常规 工作 常抓不懈 进一步 监管 罚单 保监系统 日常 监管 体现 监管函 代表 保监会 违规 事件 面前 强 监管 态度 一年 中 保监会 发出 份 监管函 编号 推算 包含 未 披露 监管函 数十家 保险机构 被指 公司 治理 产品 业务 存在问题 每日 经济 新闻 记者 梳理 发现 年 保监会 开具 监管函 份 份 份 数量 皆 少于 年 公司 治理 评估 分 三批 下发 份 监管函 引发 行业 关注 去年 月 日 保监会 首发 张 监管函 直指 家 机构 公司 治理 存在问题 月 日 月 日 保监会 三会 一层 运作 内部 管控 关联交易 信息披露 家 家 机构 密集 下发 监管函 天 行业 乱象 整治 年 上半年 保监会 首次 覆盖 全 行业 保险法 机构 公司 治理 现场 评估 涉及 家 中资 保险法 机构 家 外资 保险公司 一轮 公司 治理 评价 分为 三会 一层 运作 内部 管控 机制 股东 股权 集团公司 四大 类别 下设 项子 指标 评估 家 中资 保险法 机构 公司 治理 综合 评价 平均 分为 分 集团公司 平均 得分 分 财产险 保险公司 人身险 公司 资产管理公司 平均 得分 分 评估 开具 监管函 中 保监会 明确指出 机构 应 抓紧 制定 整改 方案 方案 评估 发现 逐项 整改 整改 书面形式 上报 公司 治理 结构 完善 机构 评估 契机 进一步 完善 制度 规范 运作 问责 切实 提高 公司 治理 水平 防范 风险 受此 引导 包括 长城人寿 在内 多家 险企 公司章程 董事 监事 高管 人员培训 管理 办法 关联交易 管理 办法 十余项 性 制度 修订 完善 公司 治理 提供 制度 违规者 未能 陈述 资金 真实 来源 昆仑健康险 保监会 首次 责令 清退 违规股权 监管 措施 值得注意 清退 保监会 处置 违规股权 结束 严防 野蛮人 保险业 一步 股权 代持 股权纠纷 险企 君康人寿 长安 责任险 华汇人寿 保监会 陆续 行政 手段 实际上 一年一度 公司 治理 评估 保监会 定期 把脉 保险业 缩影 消费 投诉 偿付能力 监管 保险公司 服务 评价 完善 评价 体系 通报制度 支撑 全方位 多维度 监管 之下 保险业 乱象 整治 责编 祝裕 如需 转载 请 每日 经济 新闻 报社 未经 每日 经济 新闻 报社 授权 严禁 转载 镜像 违者必究 版权 合作 网站 合作 电话 转 读者 热线 特别 提醒 图片 请 作者 本站 索取 稿酬 希望 作品 本站 撤下 作品 每经 产品 官方 微博 官方 微信 官方 新闻 客户端 火山 财富 理财 不二 牛添 升宝 投资 宝张 道 达 每经 影视 图数馆 房产 粉巷 财经 NBD 汽车 返回 每经网 首页 \n",
      "label num:  3549\n"
     ]
    }
   ],
   "source": [
    "save_folder = 'circ_result_warn/'\n",
    "pre_save(pre_cor_circ.handle_contents, circ_raw_warn, save_folder)"
   ]
  },
  {
   "cell_type": "markdown",
   "metadata": {},
   "source": [
    "# 银行业：1 八分类"
   ]
  },
  {
   "cell_type": "markdown",
   "metadata": {},
   "source": [
    "## 读取数据"
   ]
  },
  {
   "cell_type": "code",
   "execution_count": 44,
   "metadata": {
    "ExecuteTime": {
     "end_time": "2018-09-10T11:00:00.364635Z",
     "start_time": "2018-09-10T11:00:00.355634Z"
    },
    "collapsed": true
   },
   "outputs": [],
   "source": [
    "folder = 'cbrc_data_class/20180910'"
   ]
  },
  {
   "cell_type": "markdown",
   "metadata": {},
   "source": [
    "### 预测正确数据"
   ]
  },
  {
   "cell_type": "code",
   "execution_count": null,
   "metadata": {
    "collapsed": true
   },
   "outputs": [],
   "source": []
  },
  {
   "cell_type": "markdown",
   "metadata": {},
   "source": [
    "### 预测错误修正后数据"
   ]
  },
  {
   "cell_type": "code",
   "execution_count": null,
   "metadata": {
    "collapsed": true
   },
   "outputs": [],
   "source": []
  },
  {
   "cell_type": "markdown",
   "metadata": {},
   "source": [
    "### 新补充数据"
   ]
  },
  {
   "cell_type": "code",
   "execution_count": 45,
   "metadata": {
    "ExecuteTime": {
     "end_time": "2018-09-10T11:00:04.828890Z",
     "start_time": "2018-09-10T11:00:00.730656Z"
    }
   },
   "outputs": [
    {
     "name": "stdout",
     "output_type": "stream",
     "text": [
      "Index(['url', 'title', 'content', 'label'], dtype='object')\n",
      "去空值前：  (100, 3) 20180814_cbrc_class_1.xlsx 噪音\n",
      "去空值后：  (100, 3) 20180814_cbrc_class_1.xlsx 噪音\n",
      "Index(['title', 'content', 'label'], dtype='object')\n",
      "去空值前：  (100, 3) 20180814_cbrc_class_1.xlsx 公司内部管理\n",
      "去空值后：  (100, 3) 20180814_cbrc_class_1.xlsx 公司内部管理\n",
      "Index(['title', 'content', 'label'], dtype='object')\n",
      "去空值前：  (100, 3) 20180814_cbrc_class_1.xlsx 行业\n",
      "去空值后：  (100, 3) 20180814_cbrc_class_1.xlsx 行业\n",
      "Index(['title', 'content', 'label'], dtype='object')\n",
      "去空值前：  (100, 3) 20180814_cbrc_class_1.xlsx 监管\n",
      "去空值后：  (100, 3) 20180814_cbrc_class_1.xlsx 监管\n",
      "Index(['title', 'content', 'label'], dtype='object')\n",
      "去空值前：  (100, 3) 20180814_cbrc_class_1.xlsx 消费服务\n",
      "去空值后：  (100, 3) 20180814_cbrc_class_1.xlsx 消费服务\n",
      "Index(['title', 'content', 'label'], dtype='object')\n",
      "去空值前：  (107, 3) 20180814_cbrc_class_1.xlsx 资本市场\n",
      "去空值后：  (107, 3) 20180814_cbrc_class_1.xlsx 资本市场\n",
      "Index(['title', 'content', 'label'], dtype='object')\n",
      "去空值前：  (100, 3) 20180814_cbrc_class_1.xlsx 产品销售\n",
      "去空值后：  (100, 3) 20180814_cbrc_class_1.xlsx 产品销售\n",
      "Index(['title', 'content', 'label'], dtype='object')\n",
      "去空值前：  (105, 3) 20180814_cbrc_class_1.xlsx 其他相关报道\n",
      "去空值后：  (105, 3) 20180814_cbrc_class_1.xlsx 其他相关报道\n",
      "Index(['url', 'title', 'content', 'titlehash', 'label'], dtype='object')\n",
      "去空值前：  (800, 3) 20180814_cbrc_class_2.xlsx Sheet1\n",
      "去空值后：  (800, 3) 20180814_cbrc_class_2.xlsx Sheet1\n",
      "Index(['title', 'content', 'label'], dtype='object')\n",
      "去空值前：  (462, 3) 20180817_cbrc_class_1.xlsx Sheet1\n",
      "去空值后：  (462, 3) 20180817_cbrc_class_1.xlsx Sheet1\n",
      "Index(['title', 'content', 'label'], dtype='object')\n",
      "去空值前：  (200, 3) 20180823_cbrc_class_1.xlsx 公司内部管理\n",
      "去空值后：  (200, 3) 20180823_cbrc_class_1.xlsx 公司内部管理\n",
      "Index(['title', 'content', 'label'], dtype='object')\n",
      "去空值前：  (718, 3) 20180823_cbrc_class_1.xlsx 消费服务\n",
      "去空值后：  (718, 3) 20180823_cbrc_class_1.xlsx 消费服务\n",
      "Index(['title', 'content', 'label'], dtype='object')\n",
      "去空值前：  (47, 3) 20180823_cbrc_class_1.xlsx 其他相关报道\n",
      "去空值后：  (47, 3) 20180823_cbrc_class_1.xlsx 其他相关报道\n",
      "Index(['title', 'content', 'label'], dtype='object')\n",
      "去空值前：  (91, 3) 20180823_cbrc_class_1.xlsx 资本市场\n",
      "去空值后：  (91, 3) 20180823_cbrc_class_1.xlsx 资本市场\n",
      "Index(['title', 'content', 'label'], dtype='object')\n",
      "去空值前：  (50, 3) 20180823_cbrc_class_1.xlsx 产品销售\n",
      "去空值后：  (50, 3) 20180823_cbrc_class_1.xlsx 产品销售\n",
      "Index(['title', 'content', 'label'], dtype='object')\n",
      "去空值前：  (944, 3) 20180823_cbrc_class_2.xlsx Sheet1\n",
      "去空值后：  (944, 3) 20180823_cbrc_class_2.xlsx Sheet1\n",
      "Index(['predict_proba', 'predict_label', 'label', 'title', 'content'], dtype='object')\n",
      "去空值前：  (508, 3) 20180823_cbrc_class_3.xlsx 其他相关报道\n",
      "去空值后：  (389, 3) 20180823_cbrc_class_3.xlsx 其他相关报道\n",
      "Index(['predict_proba', 'predict_label', 'label', 'title', 'content'], dtype='object')\n",
      "去空值前：  (278, 3) 20180823_cbrc_class_3.xlsx 资本市场\n",
      "去空值后：  (109, 3) 20180823_cbrc_class_3.xlsx 资本市场\n",
      "Index(['predict_proba', 'predict_label', 'label', 'title', 'content'], dtype='object')\n",
      "去空值前：  (722, 3) 20180823_cbrc_class_3.xlsx 产品销售\n",
      "去空值后：  (380, 3) 20180823_cbrc_class_3.xlsx 产品销售\n",
      "Index(['predict_proba', 'predict_label', 'label', 'title', 'content'], dtype='object')\n",
      "去空值前：  (826, 3) 20180824_cbrc_class_1.xlsx 消费服务\n",
      "去空值后：  (51, 3) 20180824_cbrc_class_1.xlsx 消费服务\n",
      "Index(['predict_proba', 'predict_label', 'label', 'title', 'content'], dtype='object')\n",
      "去空值前：  (685, 3) 20180824_cbrc_class_1.xlsx 监管\n",
      "去空值后：  (200, 3) 20180824_cbrc_class_1.xlsx 监管\n",
      "Index(['predict_proba', 'predict_label', 'label', 'title', 'content'], dtype='object')\n",
      "去空值前：  (213, 3) 20180824_cbrc_class_1.xlsx 公司内部管理\n",
      "去空值后：  (133, 3) 20180824_cbrc_class_1.xlsx 公司内部管理\n",
      "Index(['predict_label', 'label', 'title', 'content'], dtype='object')\n",
      "去空值前：  (58, 3) 20180824_cbrc_class_2.xlsx 公司内部管理\n",
      "去空值后：  (58, 3) 20180824_cbrc_class_2.xlsx 公司内部管理\n",
      "Index(['predict_label', 'label', 'title', 'content'], dtype='object')\n",
      "去空值前：  (102, 3) 20180824_cbrc_class_2.xlsx 资本市场\n",
      "去空值后：  (102, 3) 20180824_cbrc_class_2.xlsx 资本市场\n",
      "Index(['title', 'content', 'label'], dtype='object')\n",
      "去空值前：  (153, 3) 20180824_cbrc_class_3.xlsx 其他相关报道\n",
      "去空值后：  (153, 3) 20180824_cbrc_class_3.xlsx 其他相关报道\n",
      "Index(['title', 'content', 'label'], dtype='object')\n",
      "去空值前：  (52, 3) 20180824_cbrc_class_3.xlsx 公司内部管理\n",
      "去空值后：  (52, 3) 20180824_cbrc_class_3.xlsx 公司内部管理\n",
      "Index(['title', 'content', 'label'], dtype='object')\n",
      "去空值前：  (100, 3) 20180824_cbrc_class_3.xlsx 资本市场\n",
      "去空值后：  (100, 3) 20180824_cbrc_class_3.xlsx 资本市场\n",
      "总数： (5851, 3)\n"
     ]
    },
    {
     "data": {
      "text/html": [
       "<div>\n",
       "<style scoped>\n",
       "    .dataframe tbody tr th:only-of-type {\n",
       "        vertical-align: middle;\n",
       "    }\n",
       "\n",
       "    .dataframe tbody tr th {\n",
       "        vertical-align: top;\n",
       "    }\n",
       "\n",
       "    .dataframe thead th {\n",
       "        text-align: right;\n",
       "    }\n",
       "</style>\n",
       "<table border=\"1\" class=\"dataframe\">\n",
       "  <thead>\n",
       "    <tr style=\"text-align: right;\">\n",
       "      <th></th>\n",
       "      <th>label</th>\n",
       "      <th>title</th>\n",
       "      <th>content</th>\n",
       "    </tr>\n",
       "  </thead>\n",
       "  <tbody>\n",
       "    <tr>\n",
       "      <th>0</th>\n",
       "      <td>噪音</td>\n",
       "      <td>小白学保险之基础篇——买好宝宝保险，第一步该做啥？</td>\n",
       "      <td>话说上回，在《给宝宝买保险，你说该信谁？》 中，身为一家之主的小白，想为家里挑些合适的保险，...</td>\n",
       "    </tr>\n",
       "    <tr>\n",
       "      <th>1</th>\n",
       "      <td>噪音</td>\n",
       "      <td>过诉讼时效的债务如何处理？看最高法院的5个答复(全)</td>\n",
       "      <td>作者｜赫少华律师，远闻(上海)律师事务所，摘自微信公号“儒者如墨”，转载请注明 ▌一、...</td>\n",
       "    </tr>\n",
       "    <tr>\n",
       "      <th>2</th>\n",
       "      <td>噪音</td>\n",
       "      <td>国家旅游局局长李金早：推动从“高速旅游增长”向“优质旅游发展”转变</td>\n",
       "      <td>权威声音 1月8日全国旅游工作会议在厦门召开，国家旅游局局长李金早做了题为《以习近平新时代中...</td>\n",
       "    </tr>\n",
       "    <tr>\n",
       "      <th>3</th>\n",
       "      <td>噪音</td>\n",
       "      <td>【法律宣传】状告百度们侵犯隐私,须用好公益诉讼利剑</td>\n",
       "      <td>1月1日,李书福在谈及电话、微信的保密问题时隔空diss马化腾,称其肯定天天在看我...</td>\n",
       "    </tr>\n",
       "    <tr>\n",
       "      <th>4</th>\n",
       "      <td>噪音</td>\n",
       "      <td>百度被起诉，支付宝被约谈，网上隐私的边界在哪里？</td>\n",
       "      <td>据国家互联网信息办公室网站消息，针对近日新闻媒体报道的“支付宝年度账单事件”，1月6日，国家...</td>\n",
       "    </tr>\n",
       "  </tbody>\n",
       "</table>\n",
       "</div>"
      ],
      "text/plain": [
       "  label                              title  \\\n",
       "0    噪音          小白学保险之基础篇——买好宝宝保险，第一步该做啥？   \n",
       "1    噪音         过诉讼时效的债务如何处理？看最高法院的5个答复(全)   \n",
       "2    噪音  国家旅游局局长李金早：推动从“高速旅游增长”向“优质旅游发展”转变   \n",
       "3    噪音          【法律宣传】状告百度们侵犯隐私,须用好公益诉讼利剑   \n",
       "4    噪音           百度被起诉，支付宝被约谈，网上隐私的边界在哪里？   \n",
       "\n",
       "                                             content  \n",
       "0  话说上回，在《给宝宝买保险，你说该信谁？》 中，身为一家之主的小白，想为家里挑些合适的保险，...  \n",
       "1  　　 作者｜赫少华律师，远闻(上海)律师事务所，摘自微信公号“儒者如墨”，转载请注明 ▌一、...  \n",
       "2  权威声音 1月8日全国旅游工作会议在厦门召开，国家旅游局局长李金早做了题为《以习近平新时代中...  \n",
       "3       1月1日,李书福在谈及电话、微信的保密问题时隔空diss马化腾,称其肯定天天在看我...  \n",
       "4  据国家互联网信息办公室网站消息，针对近日新闻媒体报道的“支付宝年度账单事件”，1月6日，国家...  "
      ]
     },
     "execution_count": 45,
     "metadata": {},
     "output_type": "execute_result"
    }
   ],
   "source": [
    "file_list_class_3 = ['20180814_cbrc_class_1.xlsx', '20180814_cbrc_class_2.xlsx',\n",
    "               '20180817_cbrc_class_1.xlsx', '20180823_cbrc_class_1.xlsx',\n",
    "               '20180823_cbrc_class_2.xlsx', '20180823_cbrc_class_3.xlsx', \n",
    "               '20180824_cbrc_class_1.xlsx', '20180824_cbrc_class_2.xlsx', \n",
    "               '20180824_cbrc_class_3.xlsx'] # 多个 sheet\n",
    "\n",
    "cbrc_raw_class_3 = get_new_data(folder, file_list_class_3)\n",
    "\n",
    "cbrc_raw_class_3['label'] = cbrc_raw_class_3['label'].apply(lambda x:x.strip())    \n",
    "print('总数：', cbrc_raw_class_3.shape)\n",
    "cbrc_raw_class_3.head()"
   ]
  },
  {
   "cell_type": "markdown",
   "metadata": {},
   "source": [
    "### 模型预测后反馈数据"
   ]
  },
  {
   "cell_type": "code",
   "execution_count": 46,
   "metadata": {
    "ExecuteTime": {
     "end_time": "2018-09-10T11:00:09.425153Z",
     "start_time": "2018-09-10T11:00:05.189911Z"
    }
   },
   "outputs": [
    {
     "name": "stdout",
     "output_type": "stream",
     "text": [
      "类别： 产品销售 总数： 453 正确数 25 正确比例 0.05518763796909492\n",
      "去空值前：  (453, 3) 20180816_cbrc_class_feedback.xlsx 产品销售\n",
      "去空值后：  (25, 3) 20180816_cbrc_class_feedback.xlsx 产品销售\n",
      "\n",
      "类别： 噪音 总数： 700 正确数 700 正确比例 1.0\n",
      "去空值前：  (700, 3) 20180816_cbrc_class_feedback.xlsx 噪音\n",
      "去空值后：  (700, 3) 20180816_cbrc_class_feedback.xlsx 噪音\n",
      "\n",
      "类别： 消费服务 总数： 290 正确数 3 正确比例 0.010344827586206896\n",
      "去空值前：  (290, 3) 20180816_cbrc_class_feedback.xlsx 消费服务\n",
      "去空值后：  (3, 3) 20180816_cbrc_class_feedback.xlsx 消费服务\n",
      "\n",
      "类别： 行业 总数： 226 正确数 46 正确比例 0.20353982300884957\n",
      "去空值前：  (226, 3) 20180816_cbrc_class_feedback.xlsx 行业\n",
      "去空值后：  (46, 3) 20180816_cbrc_class_feedback.xlsx 行业\n",
      "\n",
      "类别： 公司内部管理 总数： 120 正确数 7 正确比例 0.058333333333333334\n",
      "去空值前：  (120, 3) 20180816_cbrc_class_feedback.xlsx 公司内部管理\n",
      "去空值后：  (7, 3) 20180816_cbrc_class_feedback.xlsx 公司内部管理\n",
      "\n",
      "类别： 资本市场 总数： 724 正确数 137 正确比例 0.18922651933701656\n",
      "去空值前：  (724, 3) 20180816_cbrc_class_feedback_2.xlsx 资本市场\n",
      "去空值后：  (137, 3) 20180816_cbrc_class_feedback_2.xlsx 资本市场\n",
      "\n",
      "类别： 监管 总数： 258 正确数 78 正确比例 0.3023255813953488\n",
      "去空值前：  (258, 3) 20180816_cbrc_class_feedback_2.xlsx 监管\n",
      "去空值后：  (78, 3) 20180816_cbrc_class_feedback_2.xlsx 监管\n",
      "\n",
      "类别： 其他相关报道 总数： 165 正确数 24 正确比例 0.14545454545454545\n",
      "去空值前：  (165, 3) 20180816_cbrc_class_feedback_2.xlsx 其他相关报道\n",
      "去空值后：  (24, 3) 20180816_cbrc_class_feedback_2.xlsx 其他相关报道\n",
      "\n",
      "类别： 产品销售 总数： 506 正确数 348 正确比例 0.6877470355731226\n",
      "去空值前：  (506, 3) 20180827_cbrc_class_feedback.xlsx 产品销售\n",
      "去空值后：  (348, 3) 20180827_cbrc_class_feedback.xlsx 产品销售\n",
      "\n",
      "类别： 公司内部管理 总数： 448 正确数 270 正确比例 0.6026785714285714\n",
      "去空值前：  (448, 3) 20180827_cbrc_class_feedback.xlsx 公司内部管理\n",
      "去空值后：  (270, 3) 20180827_cbrc_class_feedback.xlsx 公司内部管理\n",
      "\n",
      "类别： 资本市场 总数： 325 正确数 216 正确比例 0.6646153846153846\n",
      "去空值前：  (325, 3) 20180827_cbrc_class_feedback.xlsx 资本市场\n",
      "去空值后：  (216, 3) 20180827_cbrc_class_feedback.xlsx 资本市场\n",
      "\n",
      "类别： 其他相关报道 总数： 830 正确数 650 正确比例 0.7831325301204819\n",
      "去空值前：  (830, 3) 20180827_cbrc_class_feedback.xlsx 其他相关报道\n",
      "去空值后：  (650, 3) 20180827_cbrc_class_feedback.xlsx 其他相关报道\n",
      "\n",
      "总数： (2504, 3)\n"
     ]
    },
    {
     "data": {
      "text/html": [
       "<div>\n",
       "<style scoped>\n",
       "    .dataframe tbody tr th:only-of-type {\n",
       "        vertical-align: middle;\n",
       "    }\n",
       "\n",
       "    .dataframe tbody tr th {\n",
       "        vertical-align: top;\n",
       "    }\n",
       "\n",
       "    .dataframe thead th {\n",
       "        text-align: right;\n",
       "    }\n",
       "</style>\n",
       "<table border=\"1\" class=\"dataframe\">\n",
       "  <thead>\n",
       "    <tr style=\"text-align: right;\">\n",
       "      <th></th>\n",
       "      <th>label</th>\n",
       "      <th>title</th>\n",
       "      <th>content</th>\n",
       "    </tr>\n",
       "  </thead>\n",
       "  <tbody>\n",
       "    <tr>\n",
       "      <th>6</th>\n",
       "      <td>产品销售</td>\n",
       "      <td>弘扬中华优秀传统文化农行尊师系列信用卡精彩上市</td>\n",
       "      <td>近日，中国农业银行发布首张文化教育主题信用卡———尊师系列信用卡。该产品旨在弘扬尊师重道...</td>\n",
       "    </tr>\n",
       "    <tr>\n",
       "      <th>12</th>\n",
       "      <td>产品销售</td>\n",
       "      <td>信用卡额度怎么提高</td>\n",
       "      <td>\\n\\n平安的业务很多，而平安银行的主要业务那肯定就是信贷了，想必绝大多数小伙伴们想到的...</td>\n",
       "    </tr>\n",
       "    <tr>\n",
       "      <th>41</th>\n",
       "      <td>产品销售</td>\n",
       "      <td>有钱人都喜欢刷什么信用卡？</td>\n",
       "      <td>小编每次说“有钱人更容易申请到高端信用卡”的时候，总有不明真相的人跳出来怼我“有钱谁还用信用...</td>\n",
       "    </tr>\n",
       "    <tr>\n",
       "      <th>43</th>\n",
       "      <td>产品销售</td>\n",
       "      <td>今日工商银行理财产品排行榜（8月1日）</td>\n",
       "      <td>分享至：\\n\\n电邮\\n\\n打印\\n\\n评论(\\n0\\n)\\n\\n今日工商银行理财产品排行榜...</td>\n",
       "    </tr>\n",
       "    <tr>\n",
       "      <th>47</th>\n",
       "      <td>产品销售</td>\n",
       "      <td>信用卡是否可以提前还款？应该提前还款么？</td>\n",
       "      <td>在信用卡还款时，你会选择提前还款吗？怎样提前还款会对我们更有利？下面魔王就来说说提前还款那些...</td>\n",
       "    </tr>\n",
       "  </tbody>\n",
       "</table>\n",
       "</div>"
      ],
      "text/plain": [
       "   label                    title  \\\n",
       "6   产品销售  弘扬中华优秀传统文化农行尊师系列信用卡精彩上市   \n",
       "12  产品销售                信用卡额度怎么提高   \n",
       "41  产品销售            有钱人都喜欢刷什么信用卡？   \n",
       "43  产品销售      今日工商银行理财产品排行榜（8月1日）   \n",
       "47  产品销售     信用卡是否可以提前还款？应该提前还款么？   \n",
       "\n",
       "                                              content  \n",
       "6   　　近日，中国农业银行发布首张文化教育主题信用卡———尊师系列信用卡。该产品旨在弘扬尊师重道...  \n",
       "12  　　\\n\\n平安的业务很多，而平安银行的主要业务那肯定就是信贷了，想必绝大多数小伙伴们想到的...  \n",
       "41  小编每次说“有钱人更容易申请到高端信用卡”的时候，总有不明真相的人跳出来怼我“有钱谁还用信用...  \n",
       "43  分享至：\\n\\n电邮\\n\\n打印\\n\\n评论(\\n0\\n)\\n\\n今日工商银行理财产品排行榜...  \n",
       "47  在信用卡还款时，你会选择提前还款吗？怎样提前还款会对我们更有利？下面魔王就来说说提前还款那些...  "
      ]
     },
     "execution_count": 46,
     "metadata": {},
     "output_type": "execute_result"
    }
   ],
   "source": [
    "file_list_class_4 = ['20180816_cbrc_class_feedback.xlsx', '20180816_cbrc_class_feedback_2.xlsx',\n",
    "               '20180827_cbrc_class_feedback.xlsx'\n",
    "              ] # 多个 sheet\n",
    "\n",
    "cbrc_raw_class_4 = get_feedback_data(folder, file_list_class_4)\n",
    "\n",
    "# cbrc_raw_class_4['label'] = cbrc_raw_class_4['label'].apply(lambda x:x.strip())    \n",
    "print('总数：', cbrc_raw_class_4.shape)\n",
    "cbrc_raw_class_4.head()"
   ]
  },
  {
   "cell_type": "markdown",
   "metadata": {},
   "source": [
    "## 合并数据"
   ]
  },
  {
   "cell_type": "code",
   "execution_count": 47,
   "metadata": {
    "ExecuteTime": {
     "end_time": "2018-09-10T11:00:09.998186Z",
     "start_time": "2018-09-10T11:00:09.799174Z"
    }
   },
   "outputs": [
    {
     "name": "stdout",
     "output_type": "stream",
     "text": [
      "去重前：  (8355, 4)\n",
      "去重后：  (7920, 4)\n"
     ]
    },
    {
     "data": {
      "text/html": [
       "<div>\n",
       "<style scoped>\n",
       "    .dataframe tbody tr th:only-of-type {\n",
       "        vertical-align: middle;\n",
       "    }\n",
       "\n",
       "    .dataframe tbody tr th {\n",
       "        vertical-align: top;\n",
       "    }\n",
       "\n",
       "    .dataframe thead th {\n",
       "        text-align: right;\n",
       "    }\n",
       "</style>\n",
       "<table border=\"1\" class=\"dataframe\">\n",
       "  <thead>\n",
       "    <tr style=\"text-align: right;\">\n",
       "      <th></th>\n",
       "      <th>label</th>\n",
       "      <th>title</th>\n",
       "      <th>content</th>\n",
       "      <th>title_content</th>\n",
       "    </tr>\n",
       "  </thead>\n",
       "  <tbody>\n",
       "    <tr>\n",
       "      <th>0</th>\n",
       "      <td>噪音</td>\n",
       "      <td>小白学保险之基础篇——买好宝宝保险，第一步该做啥？</td>\n",
       "      <td>话说上回，在《给宝宝买保险，你说该信谁？》 中，身为一家之主的小白，想为家里挑些合适的保险，...</td>\n",
       "      <td>小白学保险之基础篇——买好宝宝保险，第一步该做啥？。话说上回，在《给宝宝买保险，你说该信谁？...</td>\n",
       "    </tr>\n",
       "    <tr>\n",
       "      <th>1</th>\n",
       "      <td>噪音</td>\n",
       "      <td>过诉讼时效的债务如何处理？看最高法院的5个答复(全)</td>\n",
       "      <td>作者｜赫少华律师，远闻(上海)律师事务所，摘自微信公号“儒者如墨”，转载请注明 ▌一、...</td>\n",
       "      <td>过诉讼时效的债务如何处理？看最高法院的5个答复(全)。　　 作者｜赫少华律师，远闻(上海)律...</td>\n",
       "    </tr>\n",
       "    <tr>\n",
       "      <th>2</th>\n",
       "      <td>噪音</td>\n",
       "      <td>国家旅游局局长李金早：推动从“高速旅游增长”向“优质旅游发展”转变</td>\n",
       "      <td>权威声音 1月8日全国旅游工作会议在厦门召开，国家旅游局局长李金早做了题为《以习近平新时代中...</td>\n",
       "      <td>国家旅游局局长李金早：推动从“高速旅游增长”向“优质旅游发展”转变。权威声音 1月8日全国旅...</td>\n",
       "    </tr>\n",
       "    <tr>\n",
       "      <th>3</th>\n",
       "      <td>噪音</td>\n",
       "      <td>【法律宣传】状告百度们侵犯隐私,须用好公益诉讼利剑</td>\n",
       "      <td>1月1日,李书福在谈及电话、微信的保密问题时隔空diss马化腾,称其肯定天天在看我...</td>\n",
       "      <td>【法律宣传】状告百度们侵犯隐私,须用好公益诉讼利剑。     1月1日,李书福在谈及电话、微...</td>\n",
       "    </tr>\n",
       "    <tr>\n",
       "      <th>4</th>\n",
       "      <td>噪音</td>\n",
       "      <td>百度被起诉，支付宝被约谈，网上隐私的边界在哪里？</td>\n",
       "      <td>据国家互联网信息办公室网站消息，针对近日新闻媒体报道的“支付宝年度账单事件”，1月6日，国家...</td>\n",
       "      <td>百度被起诉，支付宝被约谈，网上隐私的边界在哪里？。据国家互联网信息办公室网站消息，针对近日新...</td>\n",
       "    </tr>\n",
       "  </tbody>\n",
       "</table>\n",
       "</div>"
      ],
      "text/plain": [
       "  label                              title  \\\n",
       "0    噪音          小白学保险之基础篇——买好宝宝保险，第一步该做啥？   \n",
       "1    噪音         过诉讼时效的债务如何处理？看最高法院的5个答复(全)   \n",
       "2    噪音  国家旅游局局长李金早：推动从“高速旅游增长”向“优质旅游发展”转变   \n",
       "3    噪音          【法律宣传】状告百度们侵犯隐私,须用好公益诉讼利剑   \n",
       "4    噪音           百度被起诉，支付宝被约谈，网上隐私的边界在哪里？   \n",
       "\n",
       "                                             content  \\\n",
       "0  话说上回，在《给宝宝买保险，你说该信谁？》 中，身为一家之主的小白，想为家里挑些合适的保险，...   \n",
       "1  　　 作者｜赫少华律师，远闻(上海)律师事务所，摘自微信公号“儒者如墨”，转载请注明 ▌一、...   \n",
       "2  权威声音 1月8日全国旅游工作会议在厦门召开，国家旅游局局长李金早做了题为《以习近平新时代中...   \n",
       "3       1月1日,李书福在谈及电话、微信的保密问题时隔空diss马化腾,称其肯定天天在看我...   \n",
       "4  据国家互联网信息办公室网站消息，针对近日新闻媒体报道的“支付宝年度账单事件”，1月6日，国家...   \n",
       "\n",
       "                                       title_content  \n",
       "0  小白学保险之基础篇——买好宝宝保险，第一步该做啥？。话说上回，在《给宝宝买保险，你说该信谁？...  \n",
       "1  过诉讼时效的债务如何处理？看最高法院的5个答复(全)。　　 作者｜赫少华律师，远闻(上海)律...  \n",
       "2  国家旅游局局长李金早：推动从“高速旅游增长”向“优质旅游发展”转变。权威声音 1月8日全国旅...  \n",
       "3  【法律宣传】状告百度们侵犯隐私,须用好公益诉讼利剑。     1月1日,李书福在谈及电话、微...  \n",
       "4  百度被起诉，支付宝被约谈，网上隐私的边界在哪里？。据国家互联网信息办公室网站消息，针对近日新...  "
      ]
     },
     "execution_count": 47,
     "metadata": {},
     "output_type": "execute_result"
    }
   ],
   "source": [
    "cbrc_raw_class = pd.concat([#cbrc_raw_class_4, cbrc_raw_class_4,\n",
    "                          cbrc_raw_class_3, cbrc_raw_class_4], \n",
    "                         axis = 0)\n",
    "\n",
    "# cbrc_raw = cbrc_raw_class_4\n",
    "cbrc_raw_class['title_content'] = cbrc_raw_class['title'].astype(str) + '。' + cbrc_raw_class['content'].astype(str)\n",
    "cbrc_raw_class['label'] = cbrc_raw_class['label'].apply(lambda x:x.strip())\n",
    "# cbrc_raw_class['index'] = range(cbrc_raw_class.shape[0])\n",
    "print('去重前： ', cbrc_raw_class.shape)\n",
    "cbrc_raw_class = cbrc_raw_class.drop_duplicates(subset = 'title_content')\n",
    "print('去重后： ', cbrc_raw_class.shape)\n",
    "cbrc_raw_class.head()"
   ]
  },
  {
   "cell_type": "code",
   "execution_count": 48,
   "metadata": {
    "ExecuteTime": {
     "end_time": "2018-09-10T11:00:10.400209Z",
     "start_time": "2018-09-10T11:00:10.379207Z"
    }
   },
   "outputs": [
    {
     "name": "stdout",
     "output_type": "stream",
     "text": [
      "(7920, 4)\n"
     ]
    },
    {
     "data": {
      "text/plain": [
       "label\n",
       "产品销售       807\n",
       "公司内部管理     896\n",
       "其他相关报道    1365\n",
       "噪音         800\n",
       "消费服务       877\n",
       "监管        1334\n",
       "行业         984\n",
       "资本市场       857\n",
       "Name: title, dtype: int64"
      ]
     },
     "execution_count": 48,
     "metadata": {},
     "output_type": "execute_result"
    }
   ],
   "source": [
    "print(cbrc_raw_class.shape)\n",
    "cbrc_raw_class.groupby('label')['title'].count()"
   ]
  },
  {
   "cell_type": "markdown",
   "metadata": {},
   "source": [
    "## 预处理"
   ]
  },
  {
   "cell_type": "code",
   "execution_count": 49,
   "metadata": {
    "ExecuteTime": {
     "end_time": "2018-09-10T11:02:20.477649Z",
     "start_time": "2018-09-10T11:00:10.825233Z"
    },
    "scrolled": true
   },
   "outputs": [
    {
     "name": "stdout",
     "output_type": "stream",
     "text": [
      "(7920, 4)\n",
      "save_folder:  cbrc_result_class/\n",
      "title num:  7920\n",
      "content num:  7920\n",
      "话 说 回 宝宝 买保险 说 信 中 身为 一家之主 小白 想 家里 挑些 合适 产品 术语 绕晕 貌似 孩子 买保险 妈妈 上心 一筹莫展 之际 小白 偶然 结识 精算师 徐 老师 徐 老师 短暂 交流 小白 受益匪浅 内心 窃喜 终于 找到 谱 小白 迫不及待 徐 老师 发了 几份 计划书 希望 徐 老师 帮忙 分析 分析 徐 老师 计划书 心中 暗暗 叫苦 最最 基础 知识 懂 产品 这是 没上 产前 训练班 宝宝 徐 老师 回答 小白 眉头 紧 缓缓 问道 在你看来 小白 脱口而出 理财 工具 万一出 事儿 保险金 减轻负担 平安无事 当存 银行 徐 老师 哭笑不得 妈妈 可不是 这么回事 揭开 神秘 面纱 保障 未来 特定 事故 发生 时 给予 被保险人 受益人 经济 补偿 这是 教科书 定义 徐 老师 顾名思义 保障 风险 非 保 风险 风险 发生 带来 损失 带来 收益 炒股 炒房 赌博 买 彩票 不保 财产 意外 死亡 医疗 保 抗 风险 找 爱车 预备 胎 事故 说不定 发生 换上 出发 家庭 经济 预备 胎 风险 发生 至少 发生 不幸 宝宝 奶粉 钱 不用 担心 家庭 经济 垮掉 听 完徐 老师 讲解 小白 若有所思 生 疑问 为啥 接触 徐 老师 所说 徐 老师 手机 屏 叹 一口气 回复 小白 这口 锅 甩 代理人 代理人 现状 代理人 通病 不适 自动 省略 段 培训 时间 短 培训 质量 差 相关 保险代理 业务人员 上岗 前 接受 培训 时间 少于 小时 上岗 每人每年 接受 培训 教育 时间 累计 少于 小时 法律 知识 培训 职业道德 教育 少于 小时 小时 学习 经历 不足以 领域 入门级 菜鸟 高端 级 大师 小时 中 时间 极有 用于 销售 培训 夸夸其谈 谈笑风生 生活虎 狐假虎威 威逼利诱 诱 买保险 徐 老师 说 代理人 专业 外 服务 专业 服务差 扬长避短 销售 客观 公司 投资 类 兼顾 保障 投资收益 双重 需求 建议您 攻防 兼顾 角度 思考 投资 理财 架构 适度 防守 点上 加大 投入 投资 类 带给 投资收益 增加 保险金额 扩充 保障 利益 这话 说 痕迹 这位 代理人 分析 角度 代理人 总会 捡 产品 说 投资 功能 收益率 产品 瑕疵 费用率 代理人 选择 忽略 某款 万能险 产品 首年 费用率 高达 意味着 首 年 投资 环节 资金 保费 一半 先 花掉 一半 交 钱 用做 费用 发工资 剩下 钱 投资 妈妈 年 高 收益 地进 设下 坑 产品 买 想 退 没法 退 钱 当作 费用 花掉 产销 脱节 细节 不明确 设计 销售 人员 脱节 设计 资深 精算师 成本 费用 利润 相关 设计 一份 产品 这份 产品 种种 审批 手续 交到 代理人 手中 销售 代理人 销售 接受 产品 细节 培训 远远 不及 多半 是因为 不想 想 懂 情况 产品 保险合同 细节 清晰 销售 客户 主动 提及 涉及 精算师 解释 设计 产品 被代理人 卖成 导致 吃瓜 群众 印象 不好 精算师 绝望 授业解惑 搭救 听 完 小白 恍然大悟 转念 一想 老百姓 平时 想买份 找 代理人 不靠谱 如何是好 急 徐 老师 说 条条大路通罗马 互联网 发达 买保险 找 代理人 动动手 指 手机 投保 互联网保险 保障 功能 强 性价比 高 小白 妈妈 进一步 徐 老师 娓娓道来 互联网 销售 谱 网销 渠道 在线 买 在线 代理人 买 互联网保险 保险公司 销售 渠道 只不过 出道 较晚 代理人 卖 个代 渠道 银行 理财 经理 卖 银保渠道 渠道 名气 别忘了 出道 晚 正规军 正规 渠道 买到 保单 合同 保单 号 保证 买到 真 天猫 旗舰店 品牌 专卖店 买 正品 道理 保单 硬道理 我国 保险法 第十三条 合同法 条 解读 数据 电文 形式 载体 电子 保单 我国 法律 认可 法律 电子 保单 纸质 保单 法律效力 网上 买保险 投保 投保人 填写 邮箱 写错 付款 确认 投保 成功 约 分钟 收到 一封 xx 承保 成功 通知 邮件 邮件 内附 电子 保险单 这张 电子 保险单 相当于 保险公司 签订 保险合同 记录 投保 信息 保险条款 敲 黑板 电子 保单 纸质 保单 真实有效 可信 Wow 原来如此 小白 心想 搞懂 明白 网上 卖 挺 谱 挑选 产品 小白 迫不及待 地问 徐 老师 孩子 买 产品 条 消息 徐 老师 心中 无奈 小白 太 急于求成 心急 吃 热豆腐 弄清 家人 需求 买保险 买 合适 徐 老师 回复 道 别急 先 宝宝 家里人 需求 未完待续 敬请期待 下期 知识 妈妈 篇文章 疑问 添加 徐 老师 微信 renminFCAA 咨询 点击 阅读 原文 收听 少儿 徐 老师 课程 宝宝 配置 高性价比 方案 \n",
      "label num:  7920\n"
     ]
    }
   ],
   "source": [
    "save_folder = 'cbrc_result_class/'\n",
    "pre_save(pre_cor_cbrc.handle_contents, cbrc_raw_class, save_folder)"
   ]
  },
  {
   "cell_type": "markdown",
   "metadata": {},
   "source": [
    "# 银行业：2 倾向性"
   ]
  },
  {
   "cell_type": "markdown",
   "metadata": {},
   "source": [
    "## 读取数据"
   ]
  },
  {
   "cell_type": "code",
   "execution_count": 50,
   "metadata": {
    "ExecuteTime": {
     "end_time": "2018-09-10T11:02:20.817668Z",
     "start_time": "2018-09-10T11:02:20.810668Z"
    },
    "collapsed": true
   },
   "outputs": [],
   "source": [
    "folder = 'cbrc_data_tendency/20180622'"
   ]
  },
  {
   "cell_type": "markdown",
   "metadata": {},
   "source": [
    "### 预测正确数据"
   ]
  },
  {
   "cell_type": "code",
   "execution_count": 51,
   "metadata": {
    "ExecuteTime": {
     "end_time": "2018-09-10T11:02:21.189689Z",
     "start_time": "2018-09-10T11:02:21.179689Z"
    },
    "collapsed": true
   },
   "outputs": [],
   "source": [
    "# file_list_1 = ['circ_class_sel_else_20180827.xlsx',]\n",
    "# circ_raw_class_1 = predict_right(folder, file_list_1)\n",
    "\n",
    "# circ_raw_class_1['label'] = circ_raw_class_1['label'].apply(lambda x:x.strip())    \n",
    "# circ_raw_class_1 = circ_raw_class_1[['label', 'raw_title', 'raw_content']]\n",
    "# circ_raw_class_1.columns = ['label', 'title', 'content']\n",
    "# print('总数：', circ_raw_class_1.shape)\n",
    "# circ_raw_class_1.head()"
   ]
  },
  {
   "cell_type": "code",
   "execution_count": 52,
   "metadata": {
    "ExecuteTime": {
     "end_time": "2018-09-10T11:02:21.534709Z",
     "start_time": "2018-09-10T11:02:21.529709Z"
    },
    "collapsed": true
   },
   "outputs": [],
   "source": [
    "# circ_raw_class_1['label'].value_counts()"
   ]
  },
  {
   "cell_type": "markdown",
   "metadata": {},
   "source": [
    "### 预测错误修正后数据"
   ]
  },
  {
   "cell_type": "code",
   "execution_count": 53,
   "metadata": {
    "ExecuteTime": {
     "end_time": "2018-09-10T11:02:21.983735Z",
     "start_time": "2018-09-10T11:02:21.899730Z"
    },
    "collapsed": true
   },
   "outputs": [],
   "source": [
    "# file_list_2 = ['circ_class_sel_20180827-1.xlsx','circ_class_sel_20180827-2.xlsx']\n",
    "\n",
    "# circ_raw_class_2 = correct_wrong_data(folder, file_list_2)\n",
    "# circ_raw_class_2['label'] = circ_raw_class_2['label'].apply(lambda x:x.strip())  \n",
    "# circ_raw_class_2 = circ_raw_class_2[['备注', 'raw_title', 'raw_content']]\n",
    "# circ_raw_class_2.columns = ['label', 'title', 'content']\n",
    "# print('总数：', circ_raw_class_2.shape)\n",
    "# circ_raw_class_2.head()"
   ]
  },
  {
   "cell_type": "code",
   "execution_count": 54,
   "metadata": {
    "ExecuteTime": {
     "end_time": "2018-09-10T11:02:22.378757Z",
     "start_time": "2018-09-10T11:02:22.366757Z"
    },
    "collapsed": true
   },
   "outputs": [],
   "source": [
    "# circ_raw_class_2['label'].value_counts()"
   ]
  },
  {
   "cell_type": "markdown",
   "metadata": {},
   "source": [
    "### 新补充数据"
   ]
  },
  {
   "cell_type": "code",
   "execution_count": 55,
   "metadata": {
    "ExecuteTime": {
     "end_time": "2018-09-10T11:02:23.087798Z",
     "start_time": "2018-09-10T11:02:22.864785Z"
    }
   },
   "outputs": [
    {
     "name": "stdout",
     "output_type": "stream",
     "text": [
      "Index(['content', 'label', 'title'], dtype='object')\n",
      "去空值前：  (500, 3) cbrc_0609_pos_raw_data.xlsx Sheet1\n",
      "去空值后：  (500, 3) cbrc_0609_pos_raw_data.xlsx Sheet1\n",
      "Index(['content', 'label', 'title'], dtype='object')\n",
      "去空值前：  (398, 3) cbrc_0609_neg_raw_data.xlsx Sheet1\n",
      "去空值后：  (398, 3) cbrc_0609_neg_raw_data.xlsx Sheet1\n",
      "总数： (898, 3)\n"
     ]
    },
    {
     "data": {
      "text/html": [
       "<div>\n",
       "<style scoped>\n",
       "    .dataframe tbody tr th:only-of-type {\n",
       "        vertical-align: middle;\n",
       "    }\n",
       "\n",
       "    .dataframe tbody tr th {\n",
       "        vertical-align: top;\n",
       "    }\n",
       "\n",
       "    .dataframe thead th {\n",
       "        text-align: right;\n",
       "    }\n",
       "</style>\n",
       "<table border=\"1\" class=\"dataframe\">\n",
       "  <thead>\n",
       "    <tr style=\"text-align: right;\">\n",
       "      <th></th>\n",
       "      <th>label</th>\n",
       "      <th>title</th>\n",
       "      <th>content</th>\n",
       "    </tr>\n",
       "  </thead>\n",
       "  <tbody>\n",
       "    <tr>\n",
       "      <th>0</th>\n",
       "      <td>1</td>\n",
       "      <td>NaN</td>\n",
       "      <td>【消息面解析】 　　周三(12月14日)原油盘初，油价承压，美油跌逾1%。美油交投于52.3...</td>\n",
       "    </tr>\n",
       "    <tr>\n",
       "      <th>1</th>\n",
       "      <td>1</td>\n",
       "      <td>NaN</td>\n",
       "      <td>贵金属各大交易平台:在这两个转换下，总量数据在2010年达到高点后便持续处于下行通道当中，周...</td>\n",
       "    </tr>\n",
       "    <tr>\n",
       "      <th>2</th>\n",
       "      <td>1</td>\n",
       "      <td>NaN</td>\n",
       "      <td>关注：掌上有色：隔夜财经数据评论：非农利好提前消化美元持稳  中国数据向好金属表现较好期铜领...</td>\n",
       "    </tr>\n",
       "    <tr>\n",
       "      <th>3</th>\n",
       "      <td>1</td>\n",
       "      <td>NaN</td>\n",
       "      <td>周一就被行情怼死，有些意外直接破高，因为要上非农就可以直接涨，但非农冲高回落日线收阴，按理周...</td>\n",
       "    </tr>\n",
       "    <tr>\n",
       "      <th>4</th>\n",
       "      <td>1</td>\n",
       "      <td>NaN</td>\n",
       "      <td>今年以来，区环保局围绕区委区政府提出的“干好一三五”总体思路，根据“三年活动”“五大硬仗”总...</td>\n",
       "    </tr>\n",
       "  </tbody>\n",
       "</table>\n",
       "</div>"
      ],
      "text/plain": [
       "   label  title                                            content\n",
       "0      1    NaN  【消息面解析】 　　周三(12月14日)原油盘初，油价承压，美油跌逾1%。美油交投于52.3...\n",
       "1      1    NaN  贵金属各大交易平台:在这两个转换下，总量数据在2010年达到高点后便持续处于下行通道当中，周...\n",
       "2      1    NaN  关注：掌上有色：隔夜财经数据评论：非农利好提前消化美元持稳  中国数据向好金属表现较好期铜领...\n",
       "3      1    NaN  周一就被行情怼死，有些意外直接破高，因为要上非农就可以直接涨，但非农冲高回落日线收阴，按理周...\n",
       "4      1    NaN  今年以来，区环保局围绕区委区政府提出的“干好一三五”总体思路，根据“三年活动”“五大硬仗”总..."
      ]
     },
     "execution_count": 55,
     "metadata": {},
     "output_type": "execute_result"
    }
   ],
   "source": [
    "file_list_3 = ['cbrc_0609_pos_raw_data.xlsx', 'cbrc_0609_neg_raw_data.xlsx',\n",
    "               ] # 多个 sheet\n",
    "\n",
    "cbrc_raw_tendency_3 = get_new_data(folder, file_list_3)\n",
    "\n",
    "# circ_raw_tendency_3['label'] = circ_raw_tendency_3['label'].apply(lambda x:x.strip())    \n",
    "print('总数：', cbrc_raw_tendency_3.shape)\n",
    "cbrc_raw_tendency_3.head()"
   ]
  },
  {
   "cell_type": "code",
   "execution_count": 56,
   "metadata": {
    "ExecuteTime": {
     "end_time": "2018-09-10T11:02:23.527823Z",
     "start_time": "2018-09-10T11:02:23.510822Z"
    }
   },
   "outputs": [
    {
     "data": {
      "text/plain": [
       "1    500\n",
       "0    398\n",
       "Name: label, dtype: int64"
      ]
     },
     "execution_count": 56,
     "metadata": {},
     "output_type": "execute_result"
    }
   ],
   "source": [
    "cbrc_raw_tendency_3['label'].value_counts()"
   ]
  },
  {
   "cell_type": "markdown",
   "metadata": {},
   "source": [
    "### 模型预测后反馈数据"
   ]
  },
  {
   "cell_type": "code",
   "execution_count": 57,
   "metadata": {
    "ExecuteTime": {
     "end_time": "2018-09-10T11:02:24.052853Z",
     "start_time": "2018-09-10T11:02:24.046853Z"
    },
    "collapsed": true
   },
   "outputs": [],
   "source": [
    "# file_list_4 = ['20180904_circ_class_feedback.xlsx', '20180904_circ_class_feedback_1.xlsx',\n",
    "#               ] # 多个 sheet\n",
    "\n",
    "# circ_raw_class_4 = get_feedback_data(folder, file_list_4)\n",
    "\n",
    "# circ_raw_class_4['label'] = circ_raw_class_4['label'].apply(lambda x:x.strip())    \n",
    "# print('总数：', circ_raw_class_4.shape)\n",
    "# circ_raw_class_4.head()"
   ]
  },
  {
   "cell_type": "code",
   "execution_count": 58,
   "metadata": {
    "ExecuteTime": {
     "end_time": "2018-09-10T11:02:24.440875Z",
     "start_time": "2018-09-10T11:02:24.433875Z"
    },
    "collapsed": true
   },
   "outputs": [],
   "source": [
    "# circ_raw_class_4['label'].value_counts()"
   ]
  },
  {
   "cell_type": "markdown",
   "metadata": {},
   "source": [
    "## 合并数据"
   ]
  },
  {
   "cell_type": "code",
   "execution_count": 59,
   "metadata": {
    "ExecuteTime": {
     "end_time": "2018-09-10T11:02:24.859899Z",
     "start_time": "2018-09-10T11:02:24.812897Z"
    }
   },
   "outputs": [
    {
     "name": "stdout",
     "output_type": "stream",
     "text": [
      "去重前：  (898, 4)\n",
      "去重后：  (896, 4)\n"
     ]
    },
    {
     "data": {
      "text/html": [
       "<div>\n",
       "<style scoped>\n",
       "    .dataframe tbody tr th:only-of-type {\n",
       "        vertical-align: middle;\n",
       "    }\n",
       "\n",
       "    .dataframe tbody tr th {\n",
       "        vertical-align: top;\n",
       "    }\n",
       "\n",
       "    .dataframe thead th {\n",
       "        text-align: right;\n",
       "    }\n",
       "</style>\n",
       "<table border=\"1\" class=\"dataframe\">\n",
       "  <thead>\n",
       "    <tr style=\"text-align: right;\">\n",
       "      <th></th>\n",
       "      <th>label</th>\n",
       "      <th>title</th>\n",
       "      <th>content</th>\n",
       "      <th>title_content</th>\n",
       "    </tr>\n",
       "  </thead>\n",
       "  <tbody>\n",
       "    <tr>\n",
       "      <th>0</th>\n",
       "      <td>1</td>\n",
       "      <td>NaN</td>\n",
       "      <td>【消息面解析】 　　周三(12月14日)原油盘初，油价承压，美油跌逾1%。美油交投于52.3...</td>\n",
       "      <td>nan。【消息面解析】 　　周三(12月14日)原油盘初，油价承压，美油跌逾1%。美油交投于...</td>\n",
       "    </tr>\n",
       "    <tr>\n",
       "      <th>1</th>\n",
       "      <td>1</td>\n",
       "      <td>NaN</td>\n",
       "      <td>贵金属各大交易平台:在这两个转换下，总量数据在2010年达到高点后便持续处于下行通道当中，周...</td>\n",
       "      <td>nan。贵金属各大交易平台:在这两个转换下，总量数据在2010年达到高点后便持续处于下行通道...</td>\n",
       "    </tr>\n",
       "    <tr>\n",
       "      <th>2</th>\n",
       "      <td>1</td>\n",
       "      <td>NaN</td>\n",
       "      <td>关注：掌上有色：隔夜财经数据评论：非农利好提前消化美元持稳  中国数据向好金属表现较好期铜领...</td>\n",
       "      <td>nan。关注：掌上有色：隔夜财经数据评论：非农利好提前消化美元持稳  中国数据向好金属表现较...</td>\n",
       "    </tr>\n",
       "    <tr>\n",
       "      <th>3</th>\n",
       "      <td>1</td>\n",
       "      <td>NaN</td>\n",
       "      <td>周一就被行情怼死，有些意外直接破高，因为要上非农就可以直接涨，但非农冲高回落日线收阴，按理周...</td>\n",
       "      <td>nan。周一就被行情怼死，有些意外直接破高，因为要上非农就可以直接涨，但非农冲高回落日线收阴...</td>\n",
       "    </tr>\n",
       "    <tr>\n",
       "      <th>4</th>\n",
       "      <td>1</td>\n",
       "      <td>NaN</td>\n",
       "      <td>今年以来，区环保局围绕区委区政府提出的“干好一三五”总体思路，根据“三年活动”“五大硬仗”总...</td>\n",
       "      <td>nan。今年以来，区环保局围绕区委区政府提出的“干好一三五”总体思路，根据“三年活动”“五大...</td>\n",
       "    </tr>\n",
       "  </tbody>\n",
       "</table>\n",
       "</div>"
      ],
      "text/plain": [
       "   label  title                                            content  \\\n",
       "0      1    NaN  【消息面解析】 　　周三(12月14日)原油盘初，油价承压，美油跌逾1%。美油交投于52.3...   \n",
       "1      1    NaN  贵金属各大交易平台:在这两个转换下，总量数据在2010年达到高点后便持续处于下行通道当中，周...   \n",
       "2      1    NaN  关注：掌上有色：隔夜财经数据评论：非农利好提前消化美元持稳  中国数据向好金属表现较好期铜领...   \n",
       "3      1    NaN  周一就被行情怼死，有些意外直接破高，因为要上非农就可以直接涨，但非农冲高回落日线收阴，按理周...   \n",
       "4      1    NaN  今年以来，区环保局围绕区委区政府提出的“干好一三五”总体思路，根据“三年活动”“五大硬仗”总...   \n",
       "\n",
       "                                       title_content  \n",
       "0  nan。【消息面解析】 　　周三(12月14日)原油盘初，油价承压，美油跌逾1%。美油交投于...  \n",
       "1  nan。贵金属各大交易平台:在这两个转换下，总量数据在2010年达到高点后便持续处于下行通道...  \n",
       "2  nan。关注：掌上有色：隔夜财经数据评论：非农利好提前消化美元持稳  中国数据向好金属表现较...  \n",
       "3  nan。周一就被行情怼死，有些意外直接破高，因为要上非农就可以直接涨，但非农冲高回落日线收阴...  \n",
       "4  nan。今年以来，区环保局围绕区委区政府提出的“干好一三五”总体思路，根据“三年活动”“五大...  "
      ]
     },
     "execution_count": 59,
     "metadata": {},
     "output_type": "execute_result"
    }
   ],
   "source": [
    "# circ_raw_tendency = pd.concat([circ_raw_class_1, circ_raw_class_2,\n",
    "#                           circ_raw_class_3, circ_raw_class_4], \n",
    "#                          axis = 0)\n",
    "\n",
    "cbrc_raw_tendency = cbrc_raw_tendency_3\n",
    "cbrc_raw_tendency['title_content'] = cbrc_raw_tendency['title'].astype(str) + '。' + cbrc_raw_tendency['content'].astype(str)\n",
    "# circ_raw_tendency['label'] = circ_raw_tendency['label'].apply(lambda x:x.strip())\n",
    "# circ_raw_tendency['index'] = range(circ_raw_tendency.shape[0])\n",
    "print('去重前： ', cbrc_raw_tendency.shape)\n",
    "cbrc_raw_tendency = cbrc_raw_tendency.drop_duplicates(subset = 'title_content')\n",
    "print('去重后： ', cbrc_raw_tendency.shape)\n",
    "cbrc_raw_tendency.head()"
   ]
  },
  {
   "cell_type": "code",
   "execution_count": 60,
   "metadata": {
    "ExecuteTime": {
     "end_time": "2018-09-10T11:02:25.237921Z",
     "start_time": "2018-09-10T11:02:25.220920Z"
    }
   },
   "outputs": [
    {
     "name": "stdout",
     "output_type": "stream",
     "text": [
      "(896, 4)\n"
     ]
    },
    {
     "data": {
      "text/plain": [
       "label\n",
       "0    398\n",
       "1    498\n",
       "Name: title_content, dtype: int64"
      ]
     },
     "execution_count": 60,
     "metadata": {},
     "output_type": "execute_result"
    }
   ],
   "source": [
    "print(cbrc_raw_tendency.shape)\n",
    "cbrc_raw_tendency.groupby('label')['title_content'].count()"
   ]
  },
  {
   "cell_type": "markdown",
   "metadata": {},
   "source": [
    "## 预处理"
   ]
  },
  {
   "cell_type": "code",
   "execution_count": 61,
   "metadata": {
    "ExecuteTime": {
     "end_time": "2018-09-10T11:02:38.379673Z",
     "start_time": "2018-09-10T11:02:25.785952Z"
    }
   },
   "outputs": [
    {
     "name": "stdout",
     "output_type": "stream",
     "text": [
      "(896, 4)\n",
      "save_folder:  cbrc_result_tendency/\n",
      "title num:  896\n",
      "content num:  896\n",
      "消息面 解析 周三 月 日 原油 盘初 油价 承压 美油 跌逾 美油 交投 美元 桶 跌幅 约 布油 交投 美元 桶 跌幅 约 OPEC 与非 OPEC 达成 减产 协议 提振 市场 信心 令 油价 近期 高位 国际 能源 署 IEA 最新 公布 月 报 显示 月 全球 原油 供应 创新 高 美国 石油 协会 API 公布 数据 显示 美国 上周 API 原油 库存 汽油 库存 录得 意外 大增 令 油价 承压 日内 公布 OPEC 月 报 美国 EIA 库存 报告 油价 后市 走向 提供 指引 周三 月 日 亚市 盘中 美元 指数 震荡 交投 关口 非美 货币 盘中 涨跌 现货 黄金 盘中 温和 反弹 美国 原油 盘中 小幅 下跌 日 内需 关注 英国 失业率 美国 PPI 零售 销售 工业 产出 EIA 原油 库存 数据 OPEC 公布 月度 原油 市场 报告 英国 央行 行长 卡尼 发表 讲话 北京 时间 周四 凌晨 点将 公布 美联储 决议 技术 面 分析 现货 原油 沥青 周初 冲高回 落后 走 技术 面 调整 收取 带有 一根 影响 阳线 走势 偏 震荡 行情 早间 跳空 低开 配合 预期 技术 面 回调 回 补缺 口 修复 均线 指标 日线图 K 线 回归 于布林 通道 内部 日内 下方 关注 日 均线 支撑 日 均线 高开 缺口 回补 位置 MACD 金叉 运行 红色 动能 缩减 迹象 RSI KDJ 黏合 勾头 向下 发散 指标 呈 弱势 操作 反弹 做空 小时 布 林带 缩口 K 线 运行 中轨 上方 受 均线 压制 下方 短线 关注 中轨 支撑 MACD 死叉 运行 短线 偏 空头 趋势 操作 建议 高 做空 现货 沥青 操作 建议 策略 做空 止损 目标 策略 跌破 反弹 做空 止损 目标 策略 首次 触及 做 止损 目标 策略 由木易 点金 撰稿 分析 以宁贵 沥青 点位 为准 仅供参考 附 国际原油 操作 建议 做空 止损 目标 跌破 反弹 做空 目标 现货 黄金 走势 弱势 修正 想 反弹 日线 均线 压制 力度 一个月 金价 遭遇 上方 均线 压制 呈 弱势 下行 趋势 周一 低位 录取 一根 小阳 十字 K 翻转 信号 值得 待定 昨天 K 线收 阴 金价 依旧 呈 弱势 日内 预计 冲高 回落 行情 操作 建议 反弹 做空 参考 位置 日 均线 布局 空单 日线图 布 林带 缩口 附图 指标 MACD RSI KDJ 呈 黏合 勾头 向上 趋势 弱势 格局 提防 突破 行情 笔者 木易 点金 金价 站稳 日 均线 依旧 高空 思路 站稳 思路 现货 黄金 操作 建议 策略 反弹 做空 止损 目标 策略 下方 首次 触及 做 止损 目标 反弹 个点 今日 重点 关注 消息面 欧元区 月 工业 产出 月 率 前值 市场 影响 美国 月 生产者 物价指数 年率 前值 市场 影响 美国 月 核心 生产者 物价指数 年率 前值 美国 月 核心 生产者 物价指数 月 率 前值 市场 影响 美国 月 生产者 物价指数 月 率 前值 市场 影响 美国 月 零售 销售 月 率 前值 市场 影响 美国 月 核心 零售 销售 月 率 前值 市场 影响 美国 月 日当周 EIA 原油 库存 万桶 前值 市场 影响 美国 月 日当周 EIA 汽油 库存 万桶 前值 美国 月 日当周 EIA 精炼油 库存 万桶 前值 市场 影响 美国 月 日当周 EIA 俄克拉荷马州 库欣 原油 库存 万桶 前值 市场 影响 美国联邦 基金 基准利率 前值 预期 市场 影响 美国 美联储 发表 政策 声明 市场 影响 美国 美联储 主席 耶伦 主持 媒体 简会 市场 影响 \n",
      "label num:  896\n"
     ]
    }
   ],
   "source": [
    "save_folder = 'cbrc_result_tendency/'\n",
    "pre_save(pre_cor_cbrc.handle_contents, cbrc_raw_tendency, save_folder)"
   ]
  },
  {
   "cell_type": "markdown",
   "metadata": {},
   "source": [
    "# 保存本文件"
   ]
  },
  {
   "cell_type": "code",
   "execution_count": null,
   "metadata": {
    "collapsed": true
   },
   "outputs": [],
   "source": [
    "if 0:\n",
    "    import datetime as dt\n",
    "    \n",
    "    def output_HTML(read_file, output_file):\n",
    "        from nbconvert import HTMLExporter\n",
    "        import codecs\n",
    "        import nbformat\n",
    "        exporter = HTMLExporter()\n",
    "        # read_file is '.ipynb', output_file is '.html'\n",
    "        output_notebook = nbformat.read(read_file, as_version=4)\n",
    "        output, resources = exporter.from_notebook_node(output_notebook)\n",
    "        codecs.open(output_file, 'w', encoding='utf-8').write(output)\n",
    "\n",
    "    html_file_folder = 'html_files'\n",
    "    if not os.path.exists(html_file_folder):\n",
    "        os.makedirs(html_file_folder)\n",
    "\n",
    "    today = dt.datetime.now().strftime('%Y%m%d')\n",
    "    current_file = 'circ_cor_model_2_train.ipynb'\n",
    "    output_file = 'html_files\\%s_%s.html'%(os.path.splitext(current_file)[0], today)\n",
    "    output_HTML(current_file, output_file)"
   ]
  }
 ],
 "metadata": {
  "kernelspec": {
   "display_name": "Python 3",
   "language": "python",
   "name": "python3"
  },
  "language_info": {
   "codemirror_mode": {
    "name": "ipython",
    "version": 3
   },
   "file_extension": ".py",
   "mimetype": "text/x-python",
   "name": "python",
   "nbconvert_exporter": "python",
   "pygments_lexer": "ipython3",
   "version": "3.6.3"
  },
  "toc": {
   "nav_menu": {},
   "number_sections": true,
   "sideBar": true,
   "skip_h1_title": false,
   "title_cell": "Table of Contents",
   "title_sidebar": "Contents",
   "toc_cell": false,
   "toc_position": {
    "height": "calc(100% - 180px)",
    "left": "10px",
    "top": "150px",
    "width": "376px"
   },
   "toc_section_display": true,
   "toc_window_display": true
  },
  "varInspector": {
   "cols": {
    "lenName": 16,
    "lenType": 16,
    "lenVar": 40
   },
   "kernels_config": {
    "python": {
     "delete_cmd_postfix": "",
     "delete_cmd_prefix": "del ",
     "library": "var_list.py",
     "varRefreshCmd": "print(var_dic_list())"
    },
    "r": {
     "delete_cmd_postfix": ") ",
     "delete_cmd_prefix": "rm(",
     "library": "var_list.r",
     "varRefreshCmd": "cat(var_dic_list()) "
    }
   },
   "types_to_exclude": [
    "module",
    "function",
    "builtin_function_or_method",
    "instance",
    "_Feature"
   ],
   "window_display": false
  }
 },
 "nbformat": 4,
 "nbformat_minor": 2
}
