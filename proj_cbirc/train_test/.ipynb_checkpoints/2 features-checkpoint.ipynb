{
 "cells": [
  {
   "cell_type": "markdown",
   "metadata": {
    "ExecuteTime": {
     "end_time": "2018-11-08T03:49:09.977694Z",
     "start_time": "2018-11-08T03:49:09.783682Z"
    }
   },
   "source": [
    "# 本文件说明\n",
    "- 特征工程"
   ]
  },
  {
   "cell_type": "markdown",
   "metadata": {},
   "source": [
    "# 基本设置"
   ]
  },
  {
   "cell_type": "code",
   "execution_count": 13,
   "metadata": {
    "ExecuteTime": {
     "end_time": "2018-11-08T09:12:18.613362Z",
     "start_time": "2018-11-08T09:12:16.266228Z"
    },
    "collapsed": true
   },
   "outputs": [],
   "source": [
    "import jieba\n",
    "from jieba import analyse\n",
    "import sys\n",
    "import re\n",
    "import time\n",
    "import string\n",
    "from sklearn import feature_extraction\n",
    "from sklearn.pipeline import Pipeline,FeatureUnion\n",
    "from sklearn.model_selection import GridSearchCV\n",
    "from sklearn.feature_extraction.text import TfidfTransformer\n",
    "from sklearn.feature_extraction.text import CountVectorizer\n",
    "\n",
    "from sklearn.feature_extraction.text import TfidfVectorizer\n",
    "from sklearn.feature_selection import SelectKBest, chi2,mutual_info_classif,f_classif \n",
    "from sklearn.preprocessing import StandardScaler\n",
    "\n",
    "import xgboost as xgb\n",
    "from xgboost import XGBClassifier\n",
    "from sklearn import metrics\n",
    "\n",
    "from sklearn.base import BaseEstimator, TransformerMixin\n",
    "\n",
    "%matplotlib inline\n",
    "import numpy as np\n",
    "import pandas as pd\n",
    "import os\n",
    "from sklearn.model_selection import train_test_split\n",
    "from collections import Counter\n",
    "\n",
    "from mpl_toolkits.mplot3d import Axes3D\n",
    "import matplotlib.pyplot as plt\n",
    "import seaborn as sns\n",
    "\n",
    "colors = sns.color_palette(\"Set2\", 8)\n",
    "\n",
    "import warnings\n",
    "warnings.filterwarnings('ignore')"
   ]
  },
  {
   "cell_type": "code",
   "execution_count": 21,
   "metadata": {
    "ExecuteTime": {
     "end_time": "2018-11-08T09:14:31.862983Z",
     "start_time": "2018-11-08T09:14:31.856983Z"
    },
    "collapsed": true
   },
   "outputs": [],
   "source": [
    "from toolkits.nlp.generate_keywords import generate_keywords\n",
    "from toolkits.nlp import myclass_circ\n",
    "from toolkits.nlp import myclass_cbrc\n",
    "from toolkits.setup.specific_func import set_ch_pd\n",
    "set_ch_pd()"
   ]
  },
  {
   "cell_type": "markdown",
   "metadata": {},
   "source": [
    "## 一些函数"
   ]
  },
  {
   "cell_type": "code",
   "execution_count": 3,
   "metadata": {
    "ExecuteTime": {
     "end_time": "2018-11-08T08:39:16.115970Z",
     "start_time": "2018-11-08T08:39:16.047966Z"
    },
    "collapsed": true
   },
   "outputs": [],
   "source": [
    "def title_content_label(filepath):\n",
    "    title = []\n",
    "    filename = filepath + 'titles.txt'\n",
    "    fid = open(filename, \"r+\", encoding='UTF-8')\n",
    "    for f in fid:\n",
    "        title.append(f.strip().replace('\\n', ''))\n",
    "    fid.close()\n",
    "    print('title num: ', len(title))\n",
    "    print(title[:2])\n",
    "\n",
    "    content = []\n",
    "    filename = filepath + 'contents.txt'\n",
    "    fid = open(filename, \"r+\", encoding='UTF-8')\n",
    "    for f in fid:\n",
    "        content.append(f.strip().replace('\\n', ''))\n",
    "    fid.close()\n",
    "    print('content num: ', len(content))\n",
    "    # content[:2]\n",
    "\n",
    "    title_content = [t + ' ' + c for t,c in zip(title, content)]\n",
    "    print('title_content num: ', len(title_content))\n",
    "\n",
    "    label = []\n",
    "    filename = filepath + 'labels.txt'\n",
    "    fid = open(filename, \"r+\", encoding='UTF-8')\n",
    "    for f in fid:\n",
    "        label.append(f.strip().replace('\\n', ''))\n",
    "    fid.close()\n",
    "    print('label num: ', len(label))\n",
    "    print(label[:5])\n",
    "    \n",
    "    return title_content, label"
   ]
  },
  {
   "cell_type": "code",
   "execution_count": 4,
   "metadata": {
    "ExecuteTime": {
     "end_time": "2018-11-08T08:39:16.190974Z",
     "start_time": "2018-11-08T08:39:16.117970Z"
    },
    "collapsed": true
   },
   "outputs": [],
   "source": [
    "def plot2(features):\n",
    "    % matplotlib inline\n",
    "\n",
    "    f = plt.figure(figsize=(15, 9))\n",
    "    ax = f.add_subplot(111)\n",
    "\n",
    "    for i in range(1,9):\n",
    "        ax.scatter(features[features['label']==i]['f1'],\n",
    "                   features[features['label']==i]['f2'],\n",
    "                   color=colors[i-1], label=i, alpha=.8) \n",
    "    \n",
    "    ax.set_title(\"Truncated SVD, 2 Components\")    \n",
    "    plt.legend(loc='best', shadow=False, scatterpoints=1)\n",
    "    print(class_name_dict)\n",
    "    \n",
    "    plt.show()"
   ]
  },
  {
   "cell_type": "code",
   "execution_count": 5,
   "metadata": {
    "ExecuteTime": {
     "end_time": "2018-11-08T08:39:16.262978Z",
     "start_time": "2018-11-08T08:39:16.193974Z"
    },
    "collapsed": true
   },
   "outputs": [],
   "source": [
    "def plot3(features):    \n",
    "    % matplotlib notebook\n",
    "\n",
    "    f = plt.figure(figsize=(15, 9))\n",
    "    ax = f.add_subplot(111, projection='3d')  # 创建一个三维的绘图工程\n",
    "\n",
    "    for i in range(1,9):\n",
    "        ax.scatter(features[features['label']==i]['f1'],\n",
    "                   features[features['label']==i]['f2'],\n",
    "                   features[features['label']==i]['f3'],\n",
    "                   color=colors[i-1], label=i, alpha=.8)\n",
    "\n",
    "    ax.set_zlabel('f3')  # 坐标轴\n",
    "    ax.set_ylabel('f2')\n",
    "    ax.set_xlabel('f1')\n",
    "    plt.legend(loc='best', shadow=False, scatterpoints=1)\n",
    "    print(class_name_dict)\n",
    "\n",
    "    plt.show()"
   ]
  },
  {
   "cell_type": "code",
   "execution_count": 6,
   "metadata": {
    "ExecuteTime": {
     "end_time": "2018-11-08T08:39:16.372984Z",
     "start_time": "2018-11-08T08:39:16.265978Z"
    },
    "collapsed": true
   },
   "outputs": [],
   "source": [
    "class DenseTransformer(TransformerMixin):\n",
    "\n",
    "    def transform(self, X, y=None, **fit_params):\n",
    "        return X.todense()\n",
    "\n",
    "    def fit_transform(self, X, y=None, **fit_params):\n",
    "        self.fit(X, y, **fit_params)\n",
    "        return self.transform(X)\n",
    "\n",
    "    def fit(self, X, y=None, **fit_params):\n",
    "        return self"
   ]
  },
  {
   "cell_type": "markdown",
   "metadata": {},
   "source": [
    "# 数据与特征"
   ]
  },
  {
   "cell_type": "markdown",
   "metadata": {},
   "source": [
    "## 读取数据"
   ]
  },
  {
   "cell_type": "code",
   "execution_count": 16,
   "metadata": {
    "ExecuteTime": {
     "end_time": "2018-11-08T09:12:58.088620Z",
     "start_time": "2018-11-08T09:12:54.756429Z"
    }
   },
   "outputs": [
    {
     "name": "stdout",
     "output_type": "stream",
     "text": [
      "title num:  23559\n",
      "['天安 销售 虚列费用 员工 发 福利 相关 负责人 被处罚', '泰康人寿 疑设 招聘 骗局 元 底薪 扣到 剩 元']\n",
      "content num:  23559\n",
      "title_content num:  23559\n",
      "label num:  23559\n",
      "['公司内部管理', '公司内部管理', '公司内部管理', '公司内部管理', '公司内部管理']\n"
     ]
    }
   ],
   "source": [
    "file_path = 'circ_result_class/corpus/'\n",
    "# file_path = 'cbrc_result_class/corpus/'\n",
    "\n",
    "title_content, label = title_content_label(file_path)"
   ]
  },
  {
   "cell_type": "code",
   "execution_count": 17,
   "metadata": {
    "ExecuteTime": {
     "end_time": "2018-11-08T09:12:59.105678Z",
     "start_time": "2018-11-08T09:12:59.090677Z"
    }
   },
   "outputs": [],
   "source": [
    "label_dic={'监管':1,'行业':2,'产品销售':3,'资本市场':4,'公司内部管理':5,'消费服务':6,'其他相关报道':7,'噪音':8}\n",
    "class_name_dict = {v: k for k, v in label_dic.items()}\n",
    "label = [label_dic[l] for l in label]"
   ]
  },
  {
   "cell_type": "code",
   "execution_count": 18,
   "metadata": {
    "ExecuteTime": {
     "end_time": "2018-11-08T09:13:00.228742Z",
     "start_time": "2018-11-08T09:13:00.086734Z"
    }
   },
   "outputs": [
    {
     "name": "stdout",
     "output_type": "stream",
     "text": [
      "训练集： 16491\n",
      "训练集-各类数量： Counter({8: 4380, 2: 2284, 5: 2124, 1: 2001, 6: 1927, 7: 1625, 4: 1288, 3: 862})\n",
      "测试集： 7068\n",
      "测试集-各类数量： Counter({8: 1933, 1: 946, 2: 935, 5: 906, 6: 803, 7: 650, 4: 505, 3: 390})\n"
     ]
    }
   ],
   "source": [
    "X_train, X_test, y_train, y_test = train_test_split(title_content, label, test_size=0.3, random_state=42)\n",
    "print('训练集：',len(y_train))\n",
    "print('训练集-各类数量：',Counter(y_train))\n",
    "print('测试集：',len(y_test))\n",
    "print('测试集-各类数量：',Counter(y_test))"
   ]
  },
  {
   "cell_type": "markdown",
   "metadata": {},
   "source": [
    "## 计算特征"
   ]
  },
  {
   "cell_type": "markdown",
   "metadata": {},
   "source": [
    "### CIRC"
   ]
  },
  {
   "cell_type": "code",
   "execution_count": 8,
   "metadata": {
    "ExecuteTime": {
     "end_time": "2018-11-08T07:50:07.023589Z",
     "start_time": "2018-11-08T07:48:20.586501Z"
    }
   },
   "outputs": [
    {
     "name": "stdout",
     "output_type": "stream",
     "text": [
      "d:\\xh\\python_project\\tool\\toolkits\\nlp\n",
      "d:\\xh\\python_project\\tool\\toolkits\\nlp\n",
      "(23559, 21330)\n"
     ]
    },
    {
     "data": {
      "text/plain": [
       "['model/circ_labels_20181108.pkl.z']"
      ]
     },
     "execution_count": 8,
     "metadata": {},
     "output_type": "execute_result"
    }
   ],
   "source": [
    "## 保存特征\n",
    "pipeline = Pipeline([\n",
    "    ('features', FeatureUnion([\n",
    "        ('tf_idf', Pipeline([\n",
    "            ('counts', CountVectorizer(max_df=0.95, min_df=2)),\n",
    "            ('tf_idf', TfidfTransformer()),\n",
    "            ('chi', SelectKBest(chi2, k=20000))\n",
    "        ])),\n",
    "        ('len_stats', myclass_circ.StatsFeatures_cor()),\n",
    "        ('tf', myclass_circ.Statskeywords_cor(topk = 5000))\n",
    "    ])),\n",
    "    ('standard', StandardScaler(with_mean=False))\n",
    "])\n",
    "\n",
    "pipeline_train = pipeline.fit(title_content, label)\n",
    "X_features = pipeline_train.transform(title_content)\n",
    "print(X_features.shape)\n",
    "\n",
    "from sklearn.externals import joblib\n",
    "joblib.dump(pipeline_train, \"model/circ_pipeline_20181108.pkl.z\")\n",
    "joblib.dump(X_features, \"model/circ_features_20181108.pkl.z\")\n",
    "joblib.dump(label, \"model/circ_labels_20181108.pkl.z\")"
   ]
  },
  {
   "cell_type": "code",
   "execution_count": 7,
   "metadata": {
    "ExecuteTime": {
     "end_time": "2018-11-08T08:39:27.774636Z",
     "start_time": "2018-11-08T08:39:24.719462Z"
    }
   },
   "outputs": [
    {
     "name": "stdout",
     "output_type": "stream",
     "text": [
      "(23559, 21330)\n",
      "23559\n"
     ]
    }
   ],
   "source": [
    "from sklearn.externals import joblib\n",
    "pipeline_train = joblib.load( \"model/circ_pipeline_20181108.pkl.z\")\n",
    "X_features = joblib.load( \"model/circ_features_20181108.pkl.z\")\n",
    "label = joblib.load( \"model/circ_labels_20181108.pkl.z\")\n",
    "print(X_features.shape)\n",
    "print(len(label))"
   ]
  },
  {
   "cell_type": "markdown",
   "metadata": {},
   "source": [
    "### CBRC"
   ]
  },
  {
   "cell_type": "code",
   "execution_count": 13,
   "metadata": {
    "ExecuteTime": {
     "end_time": "2018-11-08T07:52:46.638719Z",
     "start_time": "2018-11-08T07:51:50.290496Z"
    }
   },
   "outputs": [
    {
     "name": "stdout",
     "output_type": "stream",
     "text": [
      "d:\\xh\\python_project\\tool\\toolkits\\nlp\n",
      "d:\\xh\\python_project\\tool\\toolkits\\nlp\n",
      "keywords num:  1170\n",
      "(14192, 21180)\n"
     ]
    },
    {
     "data": {
      "text/plain": [
       "['model/cbrc_labels_20181108.pkl.z']"
      ]
     },
     "execution_count": 13,
     "metadata": {},
     "output_type": "execute_result"
    }
   ],
   "source": [
    "## 保存特征\n",
    "pipeline = Pipeline([\n",
    "    ('features', FeatureUnion([\n",
    "        ('tf_idf', Pipeline([\n",
    "            ('counts', CountVectorizer(max_df=0.95, min_df=2)),\n",
    "            ('tf_idf', TfidfTransformer()),\n",
    "            ('chi', SelectKBest(chi2, k=20000))\n",
    "        ])),\n",
    "        ('len_stats', myclass_cbrc.StatsFeatures_cor()),\n",
    "        ('tf', myclass_cbrc.Statskeywords_cor(topk = 5000))\n",
    "    ])),\n",
    "    ('standard', StandardScaler(with_mean=False))\n",
    "])\n",
    "\n",
    "pipeline_train = pipeline.fit(title_content, label)\n",
    "X_features = pipeline_train.transform(title_content)\n",
    "print(X_features.shape)\n",
    "\n",
    "from sklearn.externals import joblib\n",
    "joblib.dump(pipeline_train, \"model/cbrc_pipeline_20181108.pkl.z\")\n",
    "joblib.dump(X_features, \"model/cbrc_features_20181108.pkl.z\")\n",
    "joblib.dump(label, \"model/cbrc_labels_20181108.pkl.z\")"
   ]
  },
  {
   "cell_type": "code",
   "execution_count": 7,
   "metadata": {
    "ExecuteTime": {
     "end_time": "2018-11-08T08:26:22.964748Z",
     "start_time": "2018-11-08T08:26:20.356599Z"
    }
   },
   "outputs": [
    {
     "name": "stdout",
     "output_type": "stream",
     "text": [
      "(14192, 21180)\n",
      "14192\n"
     ]
    }
   ],
   "source": [
    "from sklearn.externals import joblib\n",
    "pipeline_train = joblib.load( \"model/cbrc_pipeline_20181108.pkl.z\")\n",
    "X_features = joblib.load( \"model/cbrc_features_20181108.pkl.z\")\n",
    "label = joblib.load( \"model/cbrc_labels_20181108.pkl.z\")\n",
    "print(X_features.shape)\n",
    "print(len(label))"
   ]
  },
  {
   "cell_type": "markdown",
   "metadata": {},
   "source": [
    "# 特征工程"
   ]
  },
  {
   "cell_type": "markdown",
   "metadata": {},
   "source": [
    "## 特征可视化"
   ]
  },
  {
   "cell_type": "code",
   "execution_count": 8,
   "metadata": {
    "ExecuteTime": {
     "end_time": "2018-11-08T08:39:36.443132Z",
     "start_time": "2018-11-08T08:39:35.664088Z"
    },
    "collapsed": true
   },
   "outputs": [],
   "source": [
    "X_features_dense = DenseTransformer().fit_transform(X_features)"
   ]
  },
  {
   "cell_type": "markdown",
   "metadata": {},
   "source": [
    "### TruncatedSVD, SparsePCA, PCA"
   ]
  },
  {
   "cell_type": "code",
   "execution_count": 9,
   "metadata": {
    "ExecuteTime": {
     "end_time": "2018-11-08T08:40:49.716323Z",
     "start_time": "2018-11-08T08:40:47.076172Z"
    }
   },
   "outputs": [
    {
     "name": "stdout",
     "output_type": "stream",
     "text": [
      "-- TruncatedSVD: \n",
      "各维度的方差值:  [33.94499926 63.65043772 58.91393309]\n",
      "各维度的方差值占总方差值的比例:  [0.0015915  0.00298422 0.00276215]\n",
      "各维度的方差值之和占总方差值的比例:  0.007337867226216942\n",
      "(23559, 3)\n"
     ]
    }
   ],
   "source": [
    "from sklearn.decomposition import TruncatedSVD, SparsePCA, PCA\n",
    "\n",
    "tsvd = TruncatedSVD(n_components = 3) # 处理稀疏数据\n",
    "feature_tsvd = tsvd.fit_transform(X_features)\n",
    "print('-- TruncatedSVD: ')\n",
    "print(\"各维度的方差值: \", tsvd.explained_variance_)\n",
    "print(\"各维度的方差值占总方差值的比例: \", tsvd.explained_variance_ratio_) \n",
    "print(\"各维度的方差值之和占总方差值的比例: \", np.sum(tsvd.explained_variance_ratio_))\n",
    "print(feature_tsvd.shape)\n",
    "print()\n",
    "pca = PCA(n_components = 3, whiten = True)\n",
    "feature_pca = pca.fit_transform(X_features_dense)\n",
    "print('-- PCA: ')\n",
    "print(\"各维度的方差值: \", pca.explained_variance_)\n",
    "print(\"各维度的方差值占总方差值的比例: \", pca.explained_variance_ratio_) \n",
    "print(\"各维度的方差值之和占总方差值的比例: \", np.sum(pca.explained_variance_ratio_))\n",
    "feature_pca"
   ]
  },
  {
   "cell_type": "code",
   "execution_count": 22,
   "metadata": {
    "ExecuteTime": {
     "end_time": "2018-11-08T09:14:40.746491Z",
     "start_time": "2018-11-08T09:14:40.711489Z"
    }
   },
   "outputs": [
    {
     "name": "stdout",
     "output_type": "stream",
     "text": [
      "      f1     f2     f3  label\n",
      "0 -1.325 -0.001  0.779      5\n",
      "1 -0.580  0.764 -0.729      5\n",
      "2  0.593 -0.273 -0.091      5\n",
      "3  0.058 -0.326  0.197      5\n",
      "4  0.114 -0.387  0.427      5\n"
     ]
    },
    {
     "data": {
      "text/html": [
       "<div>\n",
       "<style scoped>\n",
       "    .dataframe tbody tr th:only-of-type {\n",
       "        vertical-align: middle;\n",
       "    }\n",
       "\n",
       "    .dataframe tbody tr th {\n",
       "        vertical-align: top;\n",
       "    }\n",
       "\n",
       "    .dataframe thead th {\n",
       "        text-align: right;\n",
       "    }\n",
       "</style>\n",
       "<table border=\"1\" class=\"dataframe\">\n",
       "  <thead>\n",
       "    <tr style=\"text-align: right;\">\n",
       "      <th></th>\n",
       "      <th>f1</th>\n",
       "      <th>f2</th>\n",
       "      <th>f3</th>\n",
       "      <th>label</th>\n",
       "    </tr>\n",
       "  </thead>\n",
       "  <tbody>\n",
       "    <tr>\n",
       "      <th>count</th>\n",
       "      <td>23559.000</td>\n",
       "      <td>23559.000</td>\n",
       "      <td>23559.000</td>\n",
       "      <td>23559.000</td>\n",
       "    </tr>\n",
       "    <tr>\n",
       "      <th>mean</th>\n",
       "      <td>0.000</td>\n",
       "      <td>-0.000</td>\n",
       "      <td>-0.000</td>\n",
       "      <td>5.020</td>\n",
       "    </tr>\n",
       "    <tr>\n",
       "      <th>std</th>\n",
       "      <td>1.000</td>\n",
       "      <td>1.000</td>\n",
       "      <td>1.000</td>\n",
       "      <td>2.536</td>\n",
       "    </tr>\n",
       "    <tr>\n",
       "      <th>min</th>\n",
       "      <td>-2.500</td>\n",
       "      <td>-6.640</td>\n",
       "      <td>-12.054</td>\n",
       "      <td>1.000</td>\n",
       "    </tr>\n",
       "    <tr>\n",
       "      <th>25%</th>\n",
       "      <td>-0.623</td>\n",
       "      <td>-0.295</td>\n",
       "      <td>-0.146</td>\n",
       "      <td>2.000</td>\n",
       "    </tr>\n",
       "    <tr>\n",
       "      <th>50%</th>\n",
       "      <td>-0.223</td>\n",
       "      <td>-0.122</td>\n",
       "      <td>0.202</td>\n",
       "      <td>5.000</td>\n",
       "    </tr>\n",
       "    <tr>\n",
       "      <th>75%</th>\n",
       "      <td>0.367</td>\n",
       "      <td>0.144</td>\n",
       "      <td>0.426</td>\n",
       "      <td>8.000</td>\n",
       "    </tr>\n",
       "    <tr>\n",
       "      <th>max</th>\n",
       "      <td>9.100</td>\n",
       "      <td>12.271</td>\n",
       "      <td>13.257</td>\n",
       "      <td>8.000</td>\n",
       "    </tr>\n",
       "  </tbody>\n",
       "</table>\n",
       "</div>"
      ],
      "text/plain": [
       "             f1        f2        f3     label\n",
       "count 23559.000 23559.000 23559.000 23559.000\n",
       "mean      0.000    -0.000    -0.000     5.020\n",
       "std       1.000     1.000     1.000     2.536\n",
       "min      -2.500    -6.640   -12.054     1.000\n",
       "25%      -0.623    -0.295    -0.146     2.000\n",
       "50%      -0.223    -0.122     0.202     5.000\n",
       "75%       0.367     0.144     0.426     8.000\n",
       "max       9.100    12.271    13.257     8.000"
      ]
     },
     "execution_count": 22,
     "metadata": {},
     "output_type": "execute_result"
    }
   ],
   "source": [
    "features = pd.DataFrame(feature_pca, columns = ['f1', 'f2', 'f3'])\n",
    "features['label'] = label\n",
    "print(features.head())\n",
    "features.describe()"
   ]
  },
  {
   "cell_type": "code",
   "execution_count": 19,
   "metadata": {
    "ExecuteTime": {
     "end_time": "2018-11-08T09:13:12.608450Z",
     "start_time": "2018-11-08T09:13:11.921411Z"
    }
   },
   "outputs": [
    {
     "name": "stdout",
     "output_type": "stream",
     "text": [
      "         f1        f2        f3  label\n",
      "0 -1.325401 -0.000871  0.778650      5\n",
      "1 -0.579938  0.763911 -0.728839      5\n",
      "2  0.592768 -0.273048 -0.090982      5\n",
      "3  0.057943 -0.326403  0.197012      5\n",
      "4  0.114431 -0.386941  0.426913      5\n",
      "{1: '监管', 2: '行业', 3: '产品销售', 4: '资本市场', 5: '公司内部管理', 6: '消费服务', 7: '其他相关报道', 8: '噪音'}\n"
     ]
    },
    {
     "data": {
      "image/png": "[encoded data removed]",
      "text/plain": [
       "<matplotlib.figure.Figure at 0x1239abe0>"
      ]
     },
     "metadata": {},
     "output_type": "display_data"
    }
   ],
   "source": [
    "plot2(features)"
   ]
  },
  {
   "cell_type": "code",
   "execution_count": 28,
   "metadata": {
    "ExecuteTime": {
     "end_time": "2018-11-08T09:15:19.810726Z",
     "start_time": "2018-11-08T09:15:19.499708Z"
    }
   },
   "outputs": [
    {
     "data": {
      "application/javascript": [
       "/* Put everything inside the global mpl namespace */\n",
       "window.mpl = {};\n",
       "\n",
       "\n",
       "mpl.get_websocket_type = function() {\n",
       "    if (typeof(WebSocket) !== 'undefined') {\n",
       "        return WebSocket;\n",
       "    } else if (typeof(MozWebSocket) !== 'undefined') {\n",
       "        return MozWebSocket;\n",
       "    } else {\n",
       "        alert('Your browser does not have WebSocket support.' +\n",
       "              'Please try Chrome, Safari or Firefox ≥ 6. ' +\n",
       "              'Firefox 4 and 5 are also supported but you ' +\n",
       "              'have to enable WebSockets in about:config.');\n",
       "    };\n",
       "}\n",
       "\n",
       "mpl.figure = function(figure_id, websocket, ondownload, parent_element) {\n",
       "    this.id = figure_id;\n",
       "\n",
       "    this.ws = websocket;\n",
       "\n",
       "    this.supports_binary = (this.ws.binaryType != undefined);\n",
       "\n",
       "    if (!this.supports_binary) {\n",
       "        var warnings = document.getElementById(\"mpl-warnings\");\n",
       "        if (warnings) {\n",
       "            warnings.style.display = 'block';\n",
       "            warnings.textContent = (\n",
       "                \"This browser does not support binary websocket messages. \" +\n",
       "                    \"Performance may be slow.\");\n",
       "        }\n",
       "    }\n",
       "\n",
       "    this.imageObj = new Image();\n",
       "\n",
       "    this.context = undefined;\n",
       "    this.message = undefined;\n",
       "    this.canvas = undefined;\n",
       "    this.rubberband_canvas = undefined;\n",
       "    this.rubberband_context = undefined;\n",
       "    this.format_dropdown = undefined;\n",
       "\n",
       "    this.image_mode = 'full';\n",
       "\n",
       "    this.root = $('<div/>');\n",
       "    this._root_extra_style(this.root)\n",
       "    this.root.attr('style', 'display: inline-block');\n",
       "\n",
       "    $(parent_element).append(this.root);\n",
       "\n",
       "    this._init_header(this);\n",
       "    this._init_canvas(this);\n",
       "    this._init_toolbar(this);\n",
       "\n",
       "    var fig = this;\n",
       "\n",
       "    this.waiting = false;\n",
       "\n",
       "    this.ws.onopen =  function () {\n",
       "            fig.send_message(\"supports_binary\", {value: fig.supports_binary});\n",
       "            fig.send_message(\"send_image_mode\", {});\n",
       "            if (mpl.ratio != 1) {\n",
       "                fig.send_message(\"set_dpi_ratio\", {'dpi_ratio': mpl.ratio});\n",
       "            }\n",
       "            fig.send_message(\"refresh\", {});\n",
       "        }\n",
       "\n",
       "    this.imageObj.onload = function() {\n",
       "            if (fig.image_mode == 'full') {\n",
       "                // Full images could contain transparency (where diff images\n",
       "                // almost always do), so we need to clear the canvas so that\n",
       "                // there is no ghosting.\n",
       "                fig.context.clearRect(0, 0, fig.canvas.width, fig.canvas.height);\n",
       "            }\n",
       "            fig.context.drawImage(fig.imageObj, 0, 0);\n",
       "        };\n",
       "\n",
       "    this.imageObj.onunload = function() {\n",
       "        fig.ws.close();\n",
       "    }\n",
       "\n",
       "    this.ws.onmessage = this._make_on_message_function(this);\n",
       "\n",
       "    this.ondownload = ondownload;\n",
       "}\n",
       "\n",
       "mpl.figure.prototype._init_header = function() {\n",
       "    var titlebar = $(\n",
       "        '<div class=\"ui-dialog-titlebar ui-widget-header ui-corner-all ' +\n",
       "        'ui-helper-clearfix\"/>');\n",
       "    var titletext = $(\n",
       "        '<div class=\"ui-dialog-title\" style=\"width: 100%; ' +\n",
       "        'text-align: center; padding: 3px;\"/>');\n",
       "    titlebar.append(titletext)\n",
       "    this.root.append(titlebar);\n",
       "    this.header = titletext[0];\n",
       "}\n",
       "\n",
       "\n",
       "\n",
       "mpl.figure.prototype._canvas_extra_style = function(canvas_div) {\n",
       "\n",
       "}\n",
       "\n",
       "\n",
       "mpl.figure.prototype._root_extra_style = function(canvas_div) {\n",
       "\n",
       "}\n",
       "\n",
       "mpl.figure.prototype._init_canvas = function() {\n",
       "    var fig = this;\n",
       "\n",
       "    var canvas_div = $('<div/>');\n",
       "\n",
       "    canvas_div.attr('style', 'position: relative; clear: both; outline: 0');\n",
       "\n",
       "    function canvas_keyboard_event(event) {\n",
       "        return fig.key_event(event, event['data']);\n",
       "    }\n",
       "\n",
       "    canvas_div.keydown('key_press', canvas_keyboard_event);\n",
       "    canvas_div.keyup('key_release', canvas_keyboard_event);\n",
       "    this.canvas_div = canvas_div\n",
       "    this._canvas_extra_style(canvas_div)\n",
       "    this.root.append(canvas_div);\n",
       "\n",
       "    var canvas = $('<canvas/>');\n",
       "    canvas.addClass('mpl-canvas');\n",
       "    canvas.attr('style', \"left: 0; top: 0; z-index: 0; outline: 0\")\n",
       "\n",
       "    this.canvas = canvas[0];\n",
       "    this.context = canvas[0].getContext(\"2d\");\n",
       "\n",
       "    var backingStore = this.context.backingStorePixelRatio ||\n",
       "\tthis.context.webkitBackingStorePixelRatio ||\n",
       "\tthis.context.mozBackingStorePixelRatio ||\n",
       "\tthis.context.msBackingStorePixelRatio ||\n",
       "\tthis.context.oBackingStorePixelRatio ||\n",
       "\tthis.context.backingStorePixelRatio || 1;\n",
       "\n",
       "    mpl.ratio = (window.devicePixelRatio || 1) / backingStore;\n",
       "\n",
       "    var rubberband = $('<canvas/>');\n",
       "    rubberband.attr('style', \"position: absolute; left: 0; top: 0; z-index: 1;\")\n",
       "\n",
       "    var pass_mouse_events = true;\n",
       "\n",
       "    canvas_div.resizable({\n",
       "        start: function(event, ui) {\n",
       "            pass_mouse_events = false;\n",
       "        },\n",
       "        resize: function(event, ui) {\n",
       "            fig.request_resize(ui.size.width, ui.size.height);\n",
       "        },\n",
       "        stop: function(event, ui) {\n",
       "            pass_mouse_events = true;\n",
       "            fig.request_resize(ui.size.width, ui.size.height);\n",
       "        },\n",
       "    });\n",
       "\n",
       "    function mouse_event_fn(event) {\n",
       "        if (pass_mouse_events)\n",
       "            return fig.mouse_event(event, event['data']);\n",
       "    }\n",
       "\n",
       "    rubberband.mousedown('button_press', mouse_event_fn);\n",
       "    rubberband.mouseup('button_release', mouse_event_fn);\n",
       "    // Throttle sequential mouse events to 1 every 20ms.\n",
       "    rubberband.mousemove('motion_notify', mouse_event_fn);\n",
       "\n",
       "    rubberband.mouseenter('figure_enter', mouse_event_fn);\n",
       "    rubberband.mouseleave('figure_leave', mouse_event_fn);\n",
       "\n",
       "    canvas_div.on(\"wheel\", function (event) {\n",
       "        event = event.originalEvent;\n",
       "        event['data'] = 'scroll'\n",
       "        if (event.deltaY < 0) {\n",
       "            event.step = 1;\n",
       "        } else {\n",
       "            event.step = -1;\n",
       "        }\n",
       "        mouse_event_fn(event);\n",
       "    });\n",
       "\n",
       "    canvas_div.append(canvas);\n",
       "    canvas_div.append(rubberband);\n",
       "\n",
       "    this.rubberband = rubberband;\n",
       "    this.rubberband_canvas = rubberband[0];\n",
       "    this.rubberband_context = rubberband[0].getContext(\"2d\");\n",
       "    this.rubberband_context.strokeStyle = \"#000000\";\n",
       "\n",
       "    this._resize_canvas = function(width, height) {\n",
       "        // Keep the size of the canvas, canvas container, and rubber band\n",
       "        // canvas in synch.\n",
       "        canvas_div.css('width', width)\n",
       "        canvas_div.css('height', height)\n",
       "\n",
       "        canvas.attr('width', width * mpl.ratio);\n",
       "        canvas.attr('height', height * mpl.ratio);\n",
       "        canvas.attr('style', 'width: ' + width + 'px; height: ' + height + 'px;');\n",
       "\n",
       "        rubberband.attr('width', width);\n",
       "        rubberband.attr('height', height);\n",
       "    }\n",
       "\n",
       "    // Set the figure to an initial 600x600px, this will subsequently be updated\n",
       "    // upon first draw.\n",
       "    this._resize_canvas(600, 600);\n",
       "\n",
       "    // Disable right mouse context menu.\n",
       "    $(this.rubberband_canvas).bind(\"contextmenu\",function(e){\n",
       "        return false;\n",
       "    });\n",
       "\n",
       "    function set_focus () {\n",
       "        canvas.focus();\n",
       "        canvas_div.focus();\n",
       "    }\n",
       "\n",
       "    window.setTimeout(set_focus, 100);\n",
       "}\n",
       "\n",
       "mpl.figure.prototype._init_toolbar = function() {\n",
       "    var fig = this;\n",
       "\n",
       "    var nav_element = $('<div/>')\n",
       "    nav_element.attr('style', 'width: 100%');\n",
       "    this.root.append(nav_element);\n",
       "\n",
       "    // Define a callback function for later on.\n",
       "    function toolbar_event(event) {\n",
       "        return fig.toolbar_button_onclick(event['data']);\n",
       "    }\n",
       "    function toolbar_mouse_event(event) {\n",
       "        return fig.toolbar_button_onmouseover(event['data']);\n",
       "    }\n",
       "\n",
       "    for(var toolbar_ind in mpl.toolbar_items) {\n",
       "        var name = mpl.toolbar_items[toolbar_ind][0];\n",
       "        var tooltip = mpl.toolbar_items[toolbar_ind][1];\n",
       "        var image = mpl.toolbar_items[toolbar_ind][2];\n",
       "        var method_name = mpl.toolbar_items[toolbar_ind][3];\n",
       "\n",
       "        if (!name) {\n",
       "            // put a spacer in here.\n",
       "            continue;\n",
       "        }\n",
       "        var button = $('<button/>');\n",
       "        button.addClass('ui-button ui-widget ui-state-default ui-corner-all ' +\n",
       "                        'ui-button-icon-only');\n",
       "        button.attr('role', 'button');\n",
       "        button.attr('aria-disabled', 'false');\n",
       "        button.click(method_name, toolbar_event);\n",
       "        button.mouseover(tooltip, toolbar_mouse_event);\n",
       "\n",
       "        var icon_img = $('<span/>');\n",
       "        icon_img.addClass('ui-button-icon-primary ui-icon');\n",
       "        icon_img.addClass(image);\n",
       "        icon_img.addClass('ui-corner-all');\n",
       "\n",
       "        var tooltip_span = $('<span/>');\n",
       "        tooltip_span.addClass('ui-button-text');\n",
       "        tooltip_span.html(tooltip);\n",
       "\n",
       "        button.append(icon_img);\n",
       "        button.append(tooltip_span);\n",
       "\n",
       "        nav_element.append(button);\n",
       "    }\n",
       "\n",
       "    var fmt_picker_span = $('<span/>');\n",
       "\n",
       "    var fmt_picker = $('<select/>');\n",
       "    fmt_picker.addClass('mpl-toolbar-option ui-widget ui-widget-content');\n",
       "    fmt_picker_span.append(fmt_picker);\n",
       "    nav_element.append(fmt_picker_span);\n",
       "    this.format_dropdown = fmt_picker[0];\n",
       "\n",
       "    for (var ind in mpl.extensions) {\n",
       "        var fmt = mpl.extensions[ind];\n",
       "        var option = $(\n",
       "            '<option/>', {selected: fmt === mpl.default_extension}).html(fmt);\n",
       "        fmt_picker.append(option)\n",
       "    }\n",
       "\n",
       "    // Add hover states to the ui-buttons\n",
       "    $( \".ui-button\" ).hover(\n",
       "        function() { $(this).addClass(\"ui-state-hover\");},\n",
       "        function() { $(this).removeClass(\"ui-state-hover\");}\n",
       "    );\n",
       "\n",
       "    var status_bar = $('<span class=\"mpl-message\"/>');\n",
       "    nav_element.append(status_bar);\n",
       "    this.message = status_bar[0];\n",
       "}\n",
       "\n",
       "mpl.figure.prototype.request_resize = function(x_pixels, y_pixels) {\n",
       "    // Request matplotlib to resize the figure. Matplotlib will then trigger a resize in the client,\n",
       "    // which will in turn request a refresh of the image.\n",
       "    this.send_message('resize', {'width': x_pixels, 'height': y_pixels});\n",
       "}\n",
       "\n",
       "mpl.figure.prototype.send_message = function(type, properties) {\n",
       "    properties['type'] = type;\n",
       "    properties['figure_id'] = this.id;\n",
       "    this.ws.send(JSON.stringify(properties));\n",
       "}\n",
       "\n",
       "mpl.figure.prototype.send_draw_message = function() {\n",
       "    if (!this.waiting) {\n",
       "        this.waiting = true;\n",
       "        this.ws.send(JSON.stringify({type: \"draw\", figure_id: this.id}));\n",
       "    }\n",
       "}\n",
       "\n",
       "\n",
       "mpl.figure.prototype.handle_save = function(fig, msg) {\n",
       "    var format_dropdown = fig.format_dropdown;\n",
       "    var format = format_dropdown.options[format_dropdown.selectedIndex].value;\n",
       "    fig.ondownload(fig, format);\n",
       "}\n",
       "\n",
       "\n",
       "mpl.figure.prototype.handle_resize = function(fig, msg) {\n",
       "    var size = msg['size'];\n",
       "    if (size[0] != fig.canvas.width || size[1] != fig.canvas.height) {\n",
       "        fig._resize_canvas(size[0], size[1]);\n",
       "        fig.send_message(\"refresh\", {});\n",
       "    };\n",
       "}\n",
       "\n",
       "mpl.figure.prototype.handle_rubberband = function(fig, msg) {\n",
       "    var x0 = msg['x0'] / mpl.ratio;\n",
       "    var y0 = (fig.canvas.height - msg['y0']) / mpl.ratio;\n",
       "    var x1 = msg['x1'] / mpl.ratio;\n",
       "    var y1 = (fig.canvas.height - msg['y1']) / mpl.ratio;\n",
       "    x0 = Math.floor(x0) + 0.5;\n",
       "    y0 = Math.floor(y0) + 0.5;\n",
       "    x1 = Math.floor(x1) + 0.5;\n",
       "    y1 = Math.floor(y1) + 0.5;\n",
       "    var min_x = Math.min(x0, x1);\n",
       "    var min_y = Math.min(y0, y1);\n",
       "    var width = Math.abs(x1 - x0);\n",
       "    var height = Math.abs(y1 - y0);\n",
       "\n",
       "    fig.rubberband_context.clearRect(\n",
       "        0, 0, fig.canvas.width, fig.canvas.height);\n",
       "\n",
       "    fig.rubberband_context.strokeRect(min_x, min_y, width, height);\n",
       "}\n",
       "\n",
       "mpl.figure.prototype.handle_figure_label = function(fig, msg) {\n",
       "    // Updates the figure title.\n",
       "    fig.header.textContent = msg['label'];\n",
       "}\n",
       "\n",
       "mpl.figure.prototype.handle_cursor = function(fig, msg) {\n",
       "    var cursor = msg['cursor'];\n",
       "    switch(cursor)\n",
       "    {\n",
       "    case 0:\n",
       "        cursor = 'pointer';\n",
       "        break;\n",
       "    case 1:\n",
       "        cursor = 'default';\n",
       "        break;\n",
       "    case 2:\n",
       "        cursor = 'crosshair';\n",
       "        break;\n",
       "    case 3:\n",
       "        cursor = 'move';\n",
       "        break;\n",
       "    }\n",
       "    fig.rubberband_canvas.style.cursor = cursor;\n",
       "}\n",
       "\n",
       "mpl.figure.prototype.handle_message = function(fig, msg) {\n",
       "    fig.message.textContent = msg['message'];\n",
       "}\n",
       "\n",
       "mpl.figure.prototype.handle_draw = function(fig, msg) {\n",
       "    // Request the server to send over a new figure.\n",
       "    fig.send_draw_message();\n",
       "}\n",
       "\n",
       "mpl.figure.prototype.handle_image_mode = function(fig, msg) {\n",
       "    fig.image_mode = msg['mode'];\n",
       "}\n",
       "\n",
       "mpl.figure.prototype.updated_canvas_event = function() {\n",
       "    // Called whenever the canvas gets updated.\n",
       "    this.send_message(\"ack\", {});\n",
       "}\n",
       "\n",
       "// A function to construct a web socket function for onmessage handling.\n",
       "// Called in the figure constructor.\n",
       "mpl.figure.prototype._make_on_message_function = function(fig) {\n",
       "    return function socket_on_message(evt) {\n",
       "        if (evt.data instanceof Blob) {\n",
       "            /* FIXME: We get \"Resource interpreted as Image but\n",
       "             * transferred with MIME type text/plain:\" errors on\n",
       "             * Chrome.  But how to set the MIME type?  It doesn't seem\n",
       "             * to be part of the websocket stream */\n",
       "            evt.data.type = \"image/png\";\n",
       "\n",
       "            /* Free the memory for the previous frames */\n",
       "            if (fig.imageObj.src) {\n",
       "                (window.URL || window.webkitURL).revokeObjectURL(\n",
       "                    fig.imageObj.src);\n",
       "            }\n",
       "\n",
       "            fig.imageObj.src = (window.URL || window.webkitURL).createObjectURL(\n",
       "                evt.data);\n",
       "            fig.updated_canvas_event();\n",
       "            fig.waiting = false;\n",
       "            return;\n",
       "        }\n",
       "        else if (typeof evt.data === 'string' && evt.data.slice(0, 21) == \"data:image/png;base64\") {\n",
       "            fig.imageObj.src = evt.data;\n",
       "            fig.updated_canvas_event();\n",
       "            fig.waiting = false;\n",
       "            return;\n",
       "        }\n",
       "\n",
       "        var msg = JSON.parse(evt.data);\n",
       "        var msg_type = msg['type'];\n",
       "\n",
       "        // Call the  \"handle_{type}\" callback, which takes\n",
       "        // the figure and JSON message as its only arguments.\n",
       "        try {\n",
       "            var callback = fig[\"handle_\" + msg_type];\n",
       "        } catch (e) {\n",
       "            console.log(\"No handler for the '\" + msg_type + \"' message type: \", msg);\n",
       "            return;\n",
       "        }\n",
       "\n",
       "        if (callback) {\n",
       "            try {\n",
       "                // console.log(\"Handling '\" + msg_type + \"' message: \", msg);\n",
       "                callback(fig, msg);\n",
       "            } catch (e) {\n",
       "                console.log(\"Exception inside the 'handler_\" + msg_type + \"' callback:\", e, e.stack, msg);\n",
       "            }\n",
       "        }\n",
       "    };\n",
       "}\n",
       "\n",
       "// from http://stackoverflow.com/questions/1114465/getting-mouse-location-in-canvas\n",
       "mpl.findpos = function(e) {\n",
       "    //this section is from http://www.quirksmode.org/js/events_properties.html\n",
       "    var targ;\n",
       "    if (!e)\n",
       "        e = window.event;\n",
       "    if (e.target)\n",
       "        targ = e.target;\n",
       "    else if (e.srcElement)\n",
       "        targ = e.srcElement;\n",
       "    if (targ.nodeType == 3) // defeat Safari bug\n",
       "        targ = targ.parentNode;\n",
       "\n",
       "    // jQuery normalizes the pageX and pageY\n",
       "    // pageX,Y are the mouse positions relative to the document\n",
       "    // offset() returns the position of the element relative to the document\n",
       "    var x = e.pageX - $(targ).offset().left;\n",
       "    var y = e.pageY - $(targ).offset().top;\n",
       "\n",
       "    return {\"x\": x, \"y\": y};\n",
       "};\n",
       "\n",
       "/*\n",
       " * return a copy of an object with only non-object keys\n",
       " * we need this to avoid circular references\n",
       " * http://stackoverflow.com/a/24161582/3208463\n",
       " */\n",
       "function simpleKeys (original) {\n",
       "  return Object.keys(original).reduce(function (obj, key) {\n",
       "    if (typeof original[key] !== 'object')\n",
       "        obj[key] = original[key]\n",
       "    return obj;\n",
       "  }, {});\n",
       "}\n",
       "\n",
       "mpl.figure.prototype.mouse_event = function(event, name) {\n",
       "    var canvas_pos = mpl.findpos(event)\n",
       "\n",
       "    if (name === 'button_press')\n",
       "    {\n",
       "        this.canvas.focus();\n",
       "        this.canvas_div.focus();\n",
       "    }\n",
       "\n",
       "    var x = canvas_pos.x * mpl.ratio;\n",
       "    var y = canvas_pos.y * mpl.ratio;\n",
       "\n",
       "    this.send_message(name, {x: x, y: y, button: event.button,\n",
       "                             step: event.step,\n",
       "                             guiEvent: simpleKeys(event)});\n",
       "\n",
       "    /* This prevents the web browser from automatically changing to\n",
       "     * the text insertion cursor when the button is pressed.  We want\n",
       "     * to control all of the cursor setting manually through the\n",
       "     * 'cursor' event from matplotlib */\n",
       "    event.preventDefault();\n",
       "    return false;\n",
       "}\n",
       "\n",
       "mpl.figure.prototype._key_event_extra = function(event, name) {\n",
       "    // Handle any extra behaviour associated with a key event\n",
       "}\n",
       "\n",
       "mpl.figure.prototype.key_event = function(event, name) {\n",
       "\n",
       "    // Prevent repeat events\n",
       "    if (name == 'key_press')\n",
       "    {\n",
       "        if (event.which === this._key)\n",
       "            return;\n",
       "        else\n",
       "            this._key = event.which;\n",
       "    }\n",
       "    if (name == 'key_release')\n",
       "        this._key = null;\n",
       "\n",
       "    var value = '';\n",
       "    if (event.ctrlKey && event.which != 17)\n",
       "        value += \"ctrl+\";\n",
       "    if (event.altKey && event.which != 18)\n",
       "        value += \"alt+\";\n",
       "    if (event.shiftKey && event.which != 16)\n",
       "        value += \"shift+\";\n",
       "\n",
       "    value += 'k';\n",
       "    value += event.which.toString();\n",
       "\n",
       "    this._key_event_extra(event, name);\n",
       "\n",
       "    this.send_message(name, {key: value,\n",
       "                             guiEvent: simpleKeys(event)});\n",
       "    return false;\n",
       "}\n",
       "\n",
       "mpl.figure.prototype.toolbar_button_onclick = function(name) {\n",
       "    if (name == 'download') {\n",
       "        this.handle_save(this, null);\n",
       "    } else {\n",
       "        this.send_message(\"toolbar_button\", {name: name});\n",
       "    }\n",
       "};\n",
       "\n",
       "mpl.figure.prototype.toolbar_button_onmouseover = function(tooltip) {\n",
       "    this.message.textContent = tooltip;\n",
       "};\n",
       "mpl.toolbar_items = [[\"Home\", \"Reset original view\", \"fa fa-home icon-home\", \"home\"], [\"Back\", \"Back to  previous view\", \"fa fa-arrow-left icon-arrow-left\", \"back\"], [\"Forward\", \"Forward to next view\", \"fa fa-arrow-right icon-arrow-right\", \"forward\"], [\"\", \"\", \"\", \"\"], [\"Pan\", \"Pan axes with left mouse, zoom with right\", \"fa fa-arrows icon-move\", \"pan\"], [\"Zoom\", \"Zoom to rectangle\", \"fa fa-square-o icon-check-empty\", \"zoom\"], [\"\", \"\", \"\", \"\"], [\"Download\", \"Download plot\", \"fa fa-floppy-o icon-save\", \"download\"]];\n",
       "\n",
       "mpl.extensions = [\"eps\", \"jpeg\", \"pdf\", \"png\", \"ps\", \"raw\", \"svg\", \"tif\"];\n",
       "\n",
       "mpl.default_extension = \"png\";var comm_websocket_adapter = function(comm) {\n",
       "    // Create a \"websocket\"-like object which calls the given IPython comm\n",
       "    // object with the appropriate methods. Currently this is a non binary\n",
       "    // socket, so there is still some room for performance tuning.\n",
       "    var ws = {};\n",
       "\n",
       "    ws.close = function() {\n",
       "        comm.close()\n",
       "    };\n",
       "    ws.send = function(m) {\n",
       "        //console.log('sending', m);\n",
       "        comm.send(m);\n",
       "    };\n",
       "    // Register the callback with on_msg.\n",
       "    comm.on_msg(function(msg) {\n",
       "        //console.log('receiving', msg['content']['data'], msg);\n",
       "        // Pass the mpl event to the overriden (by mpl) onmessage function.\n",
       "        ws.onmessage(msg['content']['data'])\n",
       "    });\n",
       "    return ws;\n",
       "}\n",
       "\n",
       "mpl.mpl_figure_comm = function(comm, msg) {\n",
       "    // This is the function which gets called when the mpl process\n",
       "    // starts-up an IPython Comm through the \"matplotlib\" channel.\n",
       "\n",
       "    var id = msg.content.data.id;\n",
       "    // Get hold of the div created by the display call when the Comm\n",
       "    // socket was opened in Python.\n",
       "    var element = $(\"#\" + id);\n",
       "    var ws_proxy = comm_websocket_adapter(comm)\n",
       "\n",
       "    function ondownload(figure, format) {\n",
       "        window.open(figure.imageObj.src);\n",
       "    }\n",
       "\n",
       "    var fig = new mpl.figure(id, ws_proxy,\n",
       "                           ondownload,\n",
       "                           element.get(0));\n",
       "\n",
       "    // Call onopen now - mpl needs it, as it is assuming we've passed it a real\n",
       "    // web socket which is closed, not our websocket->open comm proxy.\n",
       "    ws_proxy.onopen();\n",
       "\n",
       "    fig.parent_element = element.get(0);\n",
       "    fig.cell_info = mpl.find_output_cell(\"<div id='\" + id + \"'></div>\");\n",
       "    if (!fig.cell_info) {\n",
       "        console.error(\"Failed to find cell for figure\", id, fig);\n",
       "        return;\n",
       "    }\n",
       "\n",
       "    var output_index = fig.cell_info[2]\n",
       "    var cell = fig.cell_info[0];\n",
       "\n",
       "};\n",
       "\n",
       "mpl.figure.prototype.handle_close = function(fig, msg) {\n",
       "    var width = fig.canvas.width/mpl.ratio\n",
       "    fig.root.unbind('remove')\n",
       "\n",
       "    // Update the output cell to use the data from the current canvas.\n",
       "    fig.push_to_output();\n",
       "    var dataURL = fig.canvas.toDataURL();\n",
       "    // Re-enable the keyboard manager in IPython - without this line, in FF,\n",
       "    // the notebook keyboard shortcuts fail.\n",
       "    IPython.keyboard_manager.enable()\n",
       "    $(fig.parent_element).html('<img src=\"' + dataURL + '\" width=\"' + width + '\">');\n",
       "    fig.close_ws(fig, msg);\n",
       "}\n",
       "\n",
       "mpl.figure.prototype.close_ws = function(fig, msg){\n",
       "    fig.send_message('closing', msg);\n",
       "    // fig.ws.close()\n",
       "}\n",
       "\n",
       "mpl.figure.prototype.push_to_output = function(remove_interactive) {\n",
       "    // Turn the data on the canvas into data in the output cell.\n",
       "    var width = this.canvas.width/mpl.ratio\n",
       "    var dataURL = this.canvas.toDataURL();\n",
       "    this.cell_info[1]['text/html'] = '<img src=\"' + dataURL + '\" width=\"' + width + '\">';\n",
       "}\n",
       "\n",
       "mpl.figure.prototype.updated_canvas_event = function() {\n",
       "    // Tell IPython that the notebook contents must change.\n",
       "    IPython.notebook.set_dirty(true);\n",
       "    this.send_message(\"ack\", {});\n",
       "    var fig = this;\n",
       "    // Wait a second, then push the new image to the DOM so\n",
       "    // that it is saved nicely (might be nice to debounce this).\n",
       "    setTimeout(function () { fig.push_to_output() }, 1000);\n",
       "}\n",
       "\n",
       "mpl.figure.prototype._init_toolbar = function() {\n",
       "    var fig = this;\n",
       "\n",
       "    var nav_element = $('<div/>')\n",
       "    nav_element.attr('style', 'width: 100%');\n",
       "    this.root.append(nav_element);\n",
       "\n",
       "    // Define a callback function for later on.\n",
       "    function toolbar_event(event) {\n",
       "        return fig.toolbar_button_onclick(event['data']);\n",
       "    }\n",
       "    function toolbar_mouse_event(event) {\n",
       "        return fig.toolbar_button_onmouseover(event['data']);\n",
       "    }\n",
       "\n",
       "    for(var toolbar_ind in mpl.toolbar_items){\n",
       "        var name = mpl.toolbar_items[toolbar_ind][0];\n",
       "        var tooltip = mpl.toolbar_items[toolbar_ind][1];\n",
       "        var image = mpl.toolbar_items[toolbar_ind][2];\n",
       "        var method_name = mpl.toolbar_items[toolbar_ind][3];\n",
       "\n",
       "        if (!name) { continue; };\n",
       "\n",
       "        var button = $('<button class=\"btn btn-default\" href=\"#\" title=\"' + name + '\"><i class=\"fa ' + image + ' fa-lg\"></i></button>');\n",
       "        button.click(method_name, toolbar_event);\n",
       "        button.mouseover(tooltip, toolbar_mouse_event);\n",
       "        nav_element.append(button);\n",
       "    }\n",
       "\n",
       "    // Add the status bar.\n",
       "    var status_bar = $('<span class=\"mpl-message\" style=\"text-align:right; float: right;\"/>');\n",
       "    nav_element.append(status_bar);\n",
       "    this.message = status_bar[0];\n",
       "\n",
       "    // Add the close button to the window.\n",
       "    var buttongrp = $('<div class=\"btn-group inline pull-right\"></div>');\n",
       "    var button = $('<button class=\"btn btn-mini btn-primary\" href=\"#\" title=\"Stop Interaction\"><i class=\"fa fa-power-off icon-remove icon-large\"></i></button>');\n",
       "    button.click(function (evt) { fig.handle_close(fig, {}); } );\n",
       "    button.mouseover('Stop Interaction', toolbar_mouse_event);\n",
       "    buttongrp.append(button);\n",
       "    var titlebar = this.root.find($('.ui-dialog-titlebar'));\n",
       "    titlebar.prepend(buttongrp);\n",
       "}\n",
       "\n",
       "mpl.figure.prototype._root_extra_style = function(el){\n",
       "    var fig = this\n",
       "    el.on(\"remove\", function(){\n",
       "\tfig.close_ws(fig, {});\n",
       "    });\n",
       "}\n",
       "\n",
       "mpl.figure.prototype._canvas_extra_style = function(el){\n",
       "    // this is important to make the div 'focusable\n",
       "    el.attr('tabindex', 0)\n",
       "    // reach out to IPython and tell the keyboard manager to turn it's self\n",
       "    // off when our div gets focus\n",
       "\n",
       "    // location in version 3\n",
       "    if (IPython.notebook.keyboard_manager) {\n",
       "        IPython.notebook.keyboard_manager.register_events(el);\n",
       "    }\n",
       "    else {\n",
       "        // location in version 2\n",
       "        IPython.keyboard_manager.register_events(el);\n",
       "    }\n",
       "\n",
       "}\n",
       "\n",
       "mpl.figure.prototype._key_event_extra = function(event, name) {\n",
       "    var manager = IPython.notebook.keyboard_manager;\n",
       "    if (!manager)\n",
       "        manager = IPython.keyboard_manager;\n",
       "\n",
       "    // Check for shift+enter\n",
       "    if (event.shiftKey && event.which == 13) {\n",
       "        this.canvas_div.blur();\n",
       "        event.shiftKey = false;\n",
       "        // Send a \"J\" for go to next cell\n",
       "        event.which = 74;\n",
       "        event.keyCode = 74;\n",
       "        manager.command_mode();\n",
       "        manager.handle_keydown(event);\n",
       "    }\n",
       "}\n",
       "\n",
       "mpl.figure.prototype.handle_save = function(fig, msg) {\n",
       "    fig.ondownload(fig, null);\n",
       "}\n",
       "\n",
       "\n",
       "mpl.find_output_cell = function(html_output) {\n",
       "    // Return the cell and output element which can be found *uniquely* in the notebook.\n",
       "    // Note - this is a bit hacky, but it is done because the \"notebook_saving.Notebook\"\n",
       "    // IPython event is triggered only after the cells have been serialised, which for\n",
       "    // our purposes (turning an active figure into a static one), is too late.\n",
       "    var cells = IPython.notebook.get_cells();\n",
       "    var ncells = cells.length;\n",
       "    for (var i=0; i<ncells; i++) {\n",
       "        var cell = cells[i];\n",
       "        if (cell.cell_type === 'code'){\n",
       "            for (var j=0; j<cell.output_area.outputs.length; j++) {\n",
       "                var data = cell.output_area.outputs[j];\n",
       "                if (data.data) {\n",
       "                    // IPython >= 3 moved mimebundle to data attribute of output\n",
       "                    data = data.data;\n",
       "                }\n",
       "                if (data['text/html'] == html_output) {\n",
       "                    return [cell, data, j];\n",
       "                }\n",
       "            }\n",
       "        }\n",
       "    }\n",
       "}\n",
       "\n",
       "// Register the function which deals with the matplotlib target/channel.\n",
       "// The kernel may be null if the page has been refreshed.\n",
       "if (IPython.notebook.kernel != null) {\n",
       "    IPython.notebook.kernel.comm_manager.register_target('matplotlib', mpl.mpl_figure_comm);\n",
       "}\n"
      ],
      "text/plain": [
       "<IPython.core.display.Javascript object>"
      ]
     },
     "metadata": {},
     "output_type": "display_data"
    },
    {
     "data": {
      "text/html": [
       "<img src=\"data:image/png;base64,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\" width=\"1080\">"
      ],
      "text/plain": [
       "<IPython.core.display.HTML object>"
      ]
     },
     "metadata": {},
     "output_type": "display_data"
    },
    {
     "name": "stdout",
     "output_type": "stream",
     "text": [
      "{1: '监管', 2: '行业', 3: '产品销售', 4: '资本市场', 5: '公司内部管理', 6: '消费服务', 7: '其他相关报道', 8: '噪音'}\n"
     ]
    }
   ],
   "source": [
    "plot3(features)"
   ]
  },
  {
   "cell_type": "markdown",
   "metadata": {},
   "source": [
    "### lda"
   ]
  },
  {
   "cell_type": "code",
   "execution_count": null,
   "metadata": {
    "ExecuteTime": {
     "start_time": "2018-11-08T09:28:57.584Z"
    }
   },
   "outputs": [],
   "source": [
    "from sklearn.discriminant_analysis import LinearDiscriminantAnalysis\n",
    "\n",
    "lda = LinearDiscriminantAnalysis(n_components=3)\n",
    "lda.fit(X_features_dense, label)\n",
    "feature_lda = lda.transform(X_features_dense)\n",
    "\n",
    "print('-- lda: ')\n",
    "print(feature_lda.shape)\n",
    "# print(\"截距: \", lda.intercept_)\n",
    "# print(\"系数: \", lda.coef_)\n",
    "print(\"各维度的方差值占总方差值的比例: \", lda.explained_variance_ratio_) \n",
    "print(\"各维度的方差值之和占总方差值的比例: \", np.sum(lda.explained_variance_ratio_))\n",
    "feature_lda"
   ]
  },
  {
   "cell_type": "code",
   "execution_count": null,
   "metadata": {
    "ExecuteTime": {
     "start_time": "2018-11-08T09:28:58.250Z"
    },
    "collapsed": true
   },
   "outputs": [],
   "source": [
    "features = pd.DataFrame(feature_lda, columns = ['f1', 'f2', 'f3'])\n",
    "features['label'] = label\n",
    "print(features.head())\n",
    "features.describe()label"
   ]
  },
  {
   "cell_type": "code",
   "execution_count": null,
   "metadata": {
    "ExecuteTime": {
     "start_time": "2018-11-08T09:28:58.746Z"
    },
    "collapsed": true
   },
   "outputs": [],
   "source": [
    "plot2(features)"
   ]
  },
  {
   "cell_type": "code",
   "execution_count": null,
   "metadata": {
    "ExecuteTime": {
     "start_time": "2018-11-08T09:28:59.258Z"
    },
    "collapsed": true
   },
   "outputs": [],
   "source": [
    "plot3(features)"
   ]
  },
  {
   "cell_type": "markdown",
   "metadata": {},
   "source": [
    "## 特征降维"
   ]
  },
  {
   "cell_type": "code",
   "execution_count": null,
   "metadata": {
    "collapsed": true
   },
   "outputs": [],
   "source": [
    "tsvd = TruncatedSVD(n_components = 500) # 处理稀疏数据\n",
    "feature_tsvd = tsvd.fit_transform(X_features)\n",
    "print('-- TruncatedSVD: ')\n",
    "# print(\"各维度的方差值: \", tsvd.explained_variance_)\n",
    "# print(\"各维度的方差值占总方差值的比例: \", tsvd.explained_variance_ratio_) \n",
    "# print(\"各维度的方差值之和占总方差值的比例: \", np.sum(tsvd.explained_variance_ratio_))\n",
    "print(feature_tsvd.shape)\n",
    "\n",
    "var_exp = tsvd.explained_variance_ratio_\n",
    "cum_var_exp = np.cumsum(var_exp)"
   ]
  },
  {
   "cell_type": "code",
   "execution_count": null,
   "metadata": {
    "collapsed": true
   },
   "outputs": [],
   "source": [
    "plt.bar(range(1, len(var_exp) + 1), var_exp, alpha=0.5, align='center',\n",
    "        label='individual explained variance')\n",
    "plt.step(range(1, len(var_exp) + 1), cum_var_exp, where='mid',\n",
    "         label='cumulative explained variance')\n",
    "plt.ylabel('Explained variance ratio')\n",
    "plt.xlabel('Principal components')\n",
    "plt.legend(loc='best')\n",
    "plt.tight_layout()\n",
    "# plt.savefig('./figures/pca1.png', dpi=300)\n",
    "plt.show()"
   ]
  },
  {
   "cell_type": "code",
   "execution_count": null,
   "metadata": {
    "collapsed": true
   },
   "outputs": [],
   "source": []
  },
  {
   "cell_type": "code",
   "execution_count": null,
   "metadata": {
    "collapsed": true
   },
   "outputs": [],
   "source": []
  }
 ],
 "metadata": {
  "kernelspec": {
   "display_name": "Python 3",
   "language": "python",
   "name": "python3"
  },
  "language_info": {
   "codemirror_mode": {
    "name": "ipython",
    "version": 3
   },
   "file_extension": ".py",
   "mimetype": "text/x-python",
   "name": "python",
   "nbconvert_exporter": "python",
   "pygments_lexer": "ipython3",
   "version": "3.6.3"
  },
  "toc": {
   "nav_menu": {},
   "number_sections": true,
   "sideBar": true,
   "skip_h1_title": false,
   "title_cell": "Table of Contents",
   "title_sidebar": "Contents",
   "toc_cell": false,
   "toc_position": {},
   "toc_section_display": true,
   "toc_window_display": true
  },
  "varInspector": {
   "cols": {
    "lenName": 16,
    "lenType": 16,
    "lenVar": 40
   },
   "kernels_config": {
    "python": {
     "delete_cmd_postfix": "",
     "delete_cmd_prefix": "del ",
     "library": "var_list.py",
     "varRefreshCmd": "print(var_dic_list())"
    },
    "r": {
     "delete_cmd_postfix": ") ",
     "delete_cmd_prefix": "rm(",
     "library": "var_list.r",
     "varRefreshCmd": "cat(var_dic_list()) "
    }
   },
   "position": {
    "height": "360px",
    "left": "1510px",
    "right": "20px",
    "top": "120px",
    "width": "350px"
   },
   "types_to_exclude": [
    "module",
    "function",
    "builtin_function_or_method",
    "instance",
    "_Feature"
   ],
   "window_display": true
  }
 },
 "nbformat": 4,
 "nbformat_minor": 2
}
