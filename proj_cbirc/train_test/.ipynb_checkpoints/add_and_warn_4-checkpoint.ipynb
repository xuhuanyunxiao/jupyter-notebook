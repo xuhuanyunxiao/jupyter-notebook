{
 "cells": [
  {
   "cell_type": "markdown",
   "metadata": {},
   "source": [
    "# 本文件说明\n",
    "- 统计分析\n",
    "> - 八分类模型数据：噪音与非噪音\n",
    "> - 补录和预警数据"
   ]
  },
  {
   "cell_type": "markdown",
   "metadata": {},
   "source": [
    "# 基本设置"
   ]
  },
  {
   "cell_type": "code",
   "execution_count": 1,
   "metadata": {
    "ExecuteTime": {
     "end_time": "2018-09-19T02:10:07.190001Z",
     "start_time": "2018-09-19T02:10:06.149562Z"
    },
    "collapsed": true
   },
   "outputs": [],
   "source": [
    "import numpy as np\n",
    "import pandas as pd\n",
    "import os\n",
    "import datetime\n",
    "\n",
    "import requests,json\n",
    "from sklearn.externals import joblib\n",
    "\n",
    "import seaborn as sns\n",
    "import matplotlib as mpl\n",
    "import matplotlib.pyplot as plt\n",
    "%matplotlib inline\n",
    "\n",
    "import warnings\n",
    "warnings.filterwarnings('ignore')"
   ]
  },
  {
   "cell_type": "code",
   "execution_count": 2,
   "metadata": {
    "ExecuteTime": {
     "end_time": "2018-09-19T02:10:07.263005Z",
     "start_time": "2018-09-19T02:10:07.192001Z"
    },
    "collapsed": true
   },
   "outputs": [],
   "source": [
    "from toolkits.setup.date_time import get_day_list\n",
    "from toolkits.setup import specific_func\n",
    "specific_func.set_ch_pd()"
   ]
  },
  {
   "cell_type": "markdown",
   "metadata": {},
   "source": [
    "## 一些函数"
   ]
  },
  {
   "cell_type": "code",
   "execution_count": 3,
   "metadata": {
    "ExecuteTime": {
     "end_time": "2018-09-19T02:10:07.369011Z",
     "start_time": "2018-09-19T02:10:07.266005Z"
    },
    "collapsed": true
   },
   "outputs": [],
   "source": [
    "def plot_cor(count_data, day_thing, title):\n",
    "    fig = plt.figure(figsize = (15,6))\n",
    "    ax1 = fig.add_subplot(111)\n",
    "    rects = count_data[['al_cor', 'al_uncor']].plot(kind = 'bar', ax = ax1, alpha=0.5, stacked=True)\n",
    "    ax1.set_ylabel('num', fontsize = 16)\n",
    "    ax1.set_title(title, fontsize = 20)\n",
    "    ax1.legend(['al-cor', 'al-uncor'], loc='upper left')\n",
    "\n",
    "    ax2 = ax1.twinx()  # this is the important function\n",
    "    count_data[['al_cor_rate', 'al_uncor_rate']].plot(x = count_data['publishtime'],\n",
    "                                              kind = 'line', ax = ax2, marker = 'D')\n",
    "    ax2.set_ylabel('rate', fontsize = 16)\n",
    "    ax2.set_xlabel('publishtime', fontsize = 16)\n",
    "    ax2.set_ylim(0, 1)\n",
    "    ax2.legend(['al-cor-rate', 'al-uncor-rate'], loc='upper center')\n",
    "\n",
    "    y_list = [0.65, 0.75, 0.85, 0.95]\n",
    "    m = 0\n",
    "    for [d, t] in day_thing:    \n",
    "        if d in count_data['publishtime'].tolist():\n",
    "            x = count_data['publishtime'].tolist().index(d)\n",
    "            ax2.axvline(x=x, ymin = y_list[m] - 0.1, ymax = y_list[m] + 0.1, \n",
    "                        color='k', linestyle = \"--\", alpha = 0.75)\n",
    "            ax2.text(x - 0.25, y_list[m], t, va='center', fontsize = 12)\n",
    "            if m == 3: \n",
    "                m = 0\n",
    "            else :\n",
    "                m += 1\n",
    "\n",
    "    plt.grid(True, linestyle = \"--\", color = \"r\", alpha = 0.3) \n",
    "    plt.show()\n",
    "\n",
    "    print(count_data.sort_values(by = 'publishtime', ascending = False).head())"
   ]
  },
  {
   "cell_type": "code",
   "execution_count": 4,
   "metadata": {
    "ExecuteTime": {
     "end_time": "2018-09-19T02:10:07.467017Z",
     "start_time": "2018-09-19T02:10:07.372011Z"
    },
    "collapsed": true
   },
   "outputs": [],
   "source": [
    "def plot_tend(tend_count, day_thing, title):\n",
    "    tend_counts = tend_count.set_index([\"tendency\", 'publishtime']).unstack('tendency')\n",
    "    tend_counts.columns = ['neg', 'pos']\n",
    "    tend_counts['sum'] = tend_counts.sum(axis = 1)\n",
    "    tend_counts['neg_rate'] =  tend_counts['neg'] / tend_counts['sum']\n",
    "    tend_counts['pos_rate'] =  tend_counts['pos'] / tend_counts['sum']\n",
    "    tend_counts = tend_counts.reset_index('publishtime')\n",
    "\n",
    "    tend_counts = tend_counts.sort_values(by = 'publishtime')\n",
    "    fig = plt.figure(figsize = (15,6))\n",
    "    ax1 = fig.add_subplot(111)\n",
    "    tend_counts[['neg', 'pos']].plot(kind = 'bar', ax = ax1, alpha=0.5, stacked=True)\n",
    "    ax1.set_ylabel('N', fontsize = 16)\n",
    "    ax1.set_title(title, fontsize = 20)\n",
    "    ax1.legend(['neg N', 'pos N'], loc='upper left')\n",
    "\n",
    "    ax2 = ax1.twinx()  # this is the important function\n",
    "    tend_counts[['neg_rate', 'pos_rate']].plot(x = tend_counts['publishtime'],\n",
    "                                             kind = 'line', ax = ax2, marker = 'D')\n",
    "    ax2.set_ylabel('rate', fontsize = 16)\n",
    "    ax2.set_xlabel('publishtime', fontsize = 16)\n",
    "    ax2.set_ylim(0, 1)\n",
    "    ax2.legend(loc='upper center')\n",
    "    y_list = [0.65, 0.75, 0.85, 0.95]\n",
    "    m = 0\n",
    "    for [d, t] in circ_day_thing:    \n",
    "        if d in tend_counts['publishtime'].tolist():\n",
    "            x = tend_counts['publishtime'].tolist().index(d)\n",
    "            ax2.axvline(x=x, ymin = y_list[m] - 0.1, ymax = y_list[m] + 0.1, \n",
    "                        color='k', linestyle = \"--\", alpha = 0.75)\n",
    "            ax2.text(x - 0.25, y_list[m], t, va='center', fontsize = 12)\n",
    "            if m == 3: \n",
    "                m = 0\n",
    "            else :\n",
    "                m += 1\n",
    "\n",
    "    plt.grid(True, linestyle = \"--\", color = \"r\", alpha = 0.3) \n",
    "    plt.show()\n",
    "\n",
    "    print(tend_counts.sort_values(by = 'publishtime', ascending = False).head())"
   ]
  },
  {
   "cell_type": "code",
   "execution_count": 5,
   "metadata": {
    "ExecuteTime": {
     "end_time": "2018-09-19T02:10:07.559022Z",
     "start_time": "2018-09-19T02:10:07.471017Z"
    },
    "collapsed": true
   },
   "outputs": [],
   "source": [
    "def get_server_res(data, url):\n",
    "    '''\n",
    "    服务器接口测试程序\n",
    "    传入 dict, 传出 DataFrame\n",
    "    '''\n",
    "    # data = {'record':[{'id':0,'title':'ss','content':'zzz'},]}\n",
    "    # data = {\"record\":marked_human_data.iloc[:5,:3].to_dict(orient = 'records')}\n",
    "    # url \"http://47.93.77.19:10000/correlation_negative\"\n",
    "    headers={'content-type':'application/json'}\n",
    "    result = requests.post(url,\n",
    "                      data = json.dumps(data),\n",
    "                      headers=headers, allow_redirects=True)\n",
    "    # print(result.text)\n",
    "    json_data = json.loads(result.text)\n",
    "    parse_data = []\n",
    "    elapsed_time = json_data['elapsed_time']\n",
    "    for i in range(len(json_data['docs'])):\n",
    "        parse_data.append([json_data['docs'][i]['id'],\n",
    "                          json_data['docs'][i]['cor']])\n",
    "    parse_data = pd.DataFrame(parse_data, columns = ['id', 'cor'])    \n",
    "    return parse_data, elapsed_time"
   ]
  },
  {
   "cell_type": "code",
   "execution_count": 6,
   "metadata": {
    "ExecuteTime": {
     "end_time": "2018-09-19T02:10:07.655027Z",
     "start_time": "2018-09-19T02:10:07.562022Z"
    },
    "collapsed": true
   },
   "outputs": [],
   "source": [
    "def get_server_res_yjh(data, url, col_name):\n",
    "    '''\n",
    "    服务器接口测试程序\n",
    "    传入 dict, 传出 DataFrame\n",
    "    '''\n",
    "    # data = {'record':[{'id':0,'title':'ss','content':'zzz'},]}\n",
    "    # data = {\"record\":marked_human_data.iloc[:5,:3].to_dict(orient = 'records')}\n",
    "    # url \"http://47.93.77.19:10000/correlation_negative\"\n",
    "    headers={'content-type':'application/json'}\n",
    "    result = requests.post(url,\n",
    "                      data = json.dumps(data),\n",
    "                      headers=headers, allow_redirects=True)\n",
    "    # print(result.text)\n",
    "    json_data = json.loads(result.text)\n",
    "    parse_data = []\n",
    "#     elapsed_time = json_data['elapsed_time']\n",
    "    for i in range(len(json_data['docs'])):\n",
    "        parse_data.append([json_data['docs'][i]['id'],\n",
    "                          json_data['docs'][i][col_name]])\n",
    "    parse_data = pd.DataFrame(parse_data, columns = ['id', col_name])    \n",
    "    return parse_data #, elapsed_time"
   ]
  },
  {
   "cell_type": "code",
   "execution_count": 7,
   "metadata": {
    "ExecuteTime": {
     "end_time": "2018-09-19T02:10:07.748033Z",
     "start_time": "2018-09-19T02:10:07.659028Z"
    },
    "collapsed": true
   },
   "outputs": [],
   "source": [
    "def get_period_data_for_training(human_additional, warning, url, folder, filename, flag):\n",
    "    combined_data = pd.concat([human_additional, warning])\n",
    "    print('去重前', combined_data.shape)\n",
    "    combined_data = combined_data.drop_duplicates(subset = 'id')\n",
    "    print('去重后', combined_data.shape)\n",
    "\n",
    "    # predict\n",
    "    data = {\"record\":combined_data.loc[:,['id', 'title' ,'content']].to_dict(orient = 'records')}\n",
    "    if flag == 'circ':\n",
    "        parse_data, elapsed_time = get_server_res(data, url)\n",
    "    elif flag == 'cbrc':\n",
    "        col_name = 'sec'\n",
    "        parse_data = get_server_res_yjh(data, url, col_name)\n",
    "        \n",
    "    print(parse_data.shape)\n",
    "    # parse_data.head()  \n",
    "\n",
    "    parse_data.columns = ['id', 'predict_label']\n",
    "    parse_data['predict_label'] = parse_data['predict_label'].apply(lambda x:class_name_dict[x])\n",
    "    parse_data['label'] = ''\n",
    "    # parse_data['cor'] = parse_data['predict_label'].apply(lambda x:1 if x in ['监管', '行业', '经营管理', '消费服务'] else 0)\n",
    "    # parse_data['all_cor'] = parse_data['predict_label'].apply(lambda x:1 if x != '噪音' else 0)\n",
    "    print(parse_data.shape)\n",
    "    # parse_data.head()\n",
    "\n",
    "    combined_data = pd.merge(combined_data, parse_data, on  = 'id')\n",
    "    print(combined_data.head())\n",
    "\n",
    "    file_path = '%s/result/%s'%(folder, filename)\n",
    "    combined_data[['id', 'predict_label', \n",
    "                   'label', 'title', 'content']].to_excel(file_path, index = False)"
   ]
  },
  {
   "cell_type": "code",
   "execution_count": 8,
   "metadata": {
    "ExecuteTime": {
     "end_time": "2018-09-19T02:10:07.896041Z",
     "start_time": "2018-09-19T02:10:07.752033Z"
    },
    "collapsed": true
   },
   "outputs": [],
   "source": [
    "def get_class_data(class_count):\n",
    "    class_count['c'] = class_count['publishtime'] + class_count['classify']\n",
    "    class_count.index = range(class_count.shape[0])\n",
    "    combined_count = {}\n",
    "    for index in class_count.index:\n",
    "        c = class_count.loc[index, 'c']\n",
    "        if c not in combined_count:\n",
    "            combined_count[c] = {}\n",
    "            combined_count[c]['count'] = class_count.loc[index, 'count']\n",
    "        else :\n",
    "            combined_count[c]['count'] = combined_count[c]['count'] + class_count.loc[index, 'count']\n",
    "\n",
    "        combined_count[c]['publishtime'] = class_count.loc[index, 'publishtime']\n",
    "        combined_count[c]['classify'] = class_count.loc[index, 'classify']\n",
    "\n",
    "    class_count = pd.DataFrame().from_dict(combined_count, orient = 'index')\n",
    "    class_count.index = range(class_count.shape[0])    \n",
    "\n",
    "    cor_class = class_count.set_index(['publishtime', 'classify']).unstack()#.reset_index('publishtime')\n",
    "    cor_class['总量'] = cor_class['count'].sum(axis = 1)\n",
    "    cor_class_1 = cor_class.copy()\n",
    "    cor_class_1['非噪音'] = cor_class_1['总量'] - cor_class_1['count', '噪音']\n",
    "    cor_class_1['非噪音-比例'] = cor_class_1['非噪音'] / cor_class_1['总量']\n",
    "    cor_class_1['噪音-比例'] = cor_class_1['count', '噪音'] / cor_class_1['总量']\n",
    "    # cor_class_1.sort_index(ascending = False).head()    \n",
    "    \n",
    "    for k in cor_class['count'].columns.tolist():\n",
    "        cor_class['rate', k] = cor_class['count', k] / cor_class['总量']\n",
    "#     cor_class.sort_index(ascending = False).head()\n",
    "\n",
    "    count_data_7 = cor_class_1[['总量',  '非噪音', '非噪音-比例', '噪音-比例']]\n",
    "    count_data_7.insert(2, '噪音', cor_class_1['count', '噪音'])\n",
    "    count_data_7.columns = ['sum', 'al_cor', 'al_uncor', 'al_cor_rate', 'al_uncor_rate']\n",
    "    count_data_7 = count_data_7.reset_index()\n",
    "\n",
    "    cor_list = ['监管', '行业', '公司内部管理', '消费服务']\n",
    "    count_data_4 = cor_class_1['count'][cor_list].sum(axis = 1).reset_index()\n",
    "    ss = cor_class_1.reset_index()\n",
    "    count_data_4 = pd.merge(count_data_4, ss[['总量', 'publishtime']], on = 'publishtime')\n",
    "    count_data_4.columns = ['publishtime', 'al_cor', 'sum']\n",
    "    count_data_4['al_uncor'] = count_data_4['sum'] - count_data_4['al_cor']\n",
    "    count_data_4['al_cor_rate'] = count_data_4['al_cor'] / count_data_4['sum']\n",
    "    count_data_4['al_uncor_rate'] = count_data_4['al_uncor'] / count_data_4['sum']\n",
    "\n",
    "    return cor_class_1, cor_class, count_data_7, count_data_4"
   ]
  },
  {
   "cell_type": "markdown",
   "metadata": {},
   "source": [
    "# 参数设置"
   ]
  },
  {
   "cell_type": "code",
   "execution_count": 9,
   "metadata": {
    "ExecuteTime": {
     "end_time": "2018-09-19T02:10:08.012048Z",
     "start_time": "2018-09-19T02:10:07.903041Z"
    }
   },
   "outputs": [
    {
     "name": "stdout",
     "output_type": "stream",
     "text": [
      "今天是： 2018-09-19\n",
      "昨天是： 2018-09-18\n",
      "统计的是昨天的数据，即 2018-09-18 的数据\n",
      "start_day： 2018-08-19\n",
      "end_day： 2018-09-18\n"
     ]
    }
   ],
   "source": [
    "today = datetime.datetime.now()\n",
    "today_str = today.strftime(\"%Y-%m-%d\")\n",
    "yesterday = today - datetime.timedelta(days=1)\n",
    "yesterday_str = yesterday.strftime(\"%Y-%m-%d\")\n",
    "# data_folder = r'D:\\XH\\OneDrive\\网智天元\\4 银保监会\\cbirc_获取用于人工判断数据\\%s'% yesterday_str\n",
    "# if not os.path.exists(data_folder):\n",
    "#     os.makedirs(data_folder)\n",
    "\n",
    "print('今天是：',today.strftime(\"%Y-%m-%d\"))\n",
    "print('昨天是：',yesterday_str)\n",
    "print('统计的是昨天的数据，即 %s 的数据'%yesterday_str)\n",
    "# print('文件存储位置: ', data_folder)\n",
    "\n",
    "start_day = today - datetime.timedelta(days=31) # 30 天\n",
    "start_day = start_day.strftime(\"%Y-%m-%d\") # '2018-08-12'  # 含\n",
    "end_day = yesterday_str    # 含\n",
    "print('start_day：',start_day)\n",
    "print('end_day：',end_day)"
   ]
  },
  {
   "cell_type": "code",
   "execution_count": 10,
   "metadata": {
    "ExecuteTime": {
     "end_time": "2018-09-19T02:10:08.132055Z",
     "start_time": "2018-09-19T02:10:08.017048Z"
    }
   },
   "outputs": [
    {
     "data": {
      "text/plain": [
       "{0: '补录',\n",
       " 1: '监管',\n",
       " 2: '行业',\n",
       " 3: '产品销售',\n",
       " 4: '资本市场',\n",
       " 5: '公司内部管理',\n",
       " 6: '消费服务',\n",
       " 7: '其他相关报道',\n",
       " 8: '噪音'}"
      ]
     },
     "execution_count": 10,
     "metadata": {},
     "output_type": "execute_result"
    }
   ],
   "source": [
    "label_dic={'补录':0,'监管':1,'行业':2,'产品销售':3,'资本市场':4,'公司内部管理':5,'消费服务':6,'其他相关报道':7,'噪音':8}\n",
    "class_name_dict = {v: k for k, v in label_dic.items()}\n",
    "class_name_dict"
   ]
  },
  {
   "cell_type": "code",
   "execution_count": 11,
   "metadata": {
    "ExecuteTime": {
     "end_time": "2018-09-19T02:10:08.229060Z",
     "start_time": "2018-09-19T02:10:08.137055Z"
    }
   },
   "outputs": [
    {
     "data": {
      "text/plain": [
       "{'1': '新闻',\n",
       " '11': '微信',\n",
       " '13': '新闻客户端',\n",
       " '15': '推特',\n",
       " '2': '论坛',\n",
       " '3': '博客',\n",
       " '4': '微博',\n",
       " '5': '纸媒',\n",
       " '6': '视频',\n",
       " '7': '外媒',\n",
       " '8': '广播',\n",
       " '9': '电视'}"
      ]
     },
     "execution_count": 11,
     "metadata": {},
     "output_type": "execute_result"
    }
   ],
   "source": [
    "group = '1-新闻，2-论坛，3-博客，4-微博，5-纸媒，6-视频，7-外媒，8-广播，9-电视，11-微信，13-新闻客户端，15-推特'\n",
    "group_dict = dict([x.split('-') for x in group.split('，')])\n",
    "group_dict"
   ]
  },
  {
   "cell_type": "markdown",
   "metadata": {},
   "source": [
    "# 保险业--旧"
   ]
  },
  {
   "cell_type": "markdown",
   "metadata": {},
   "source": [
    "## 特殊时间点"
   ]
  },
  {
   "cell_type": "code",
   "execution_count": 20,
   "metadata": {
    "ExecuteTime": {
     "end_time": "2018-09-19T01:33:38.039818Z",
     "start_time": "2018-09-19T01:33:27.918239Z"
    },
    "collapsed": true
   },
   "outputs": [],
   "source": [
    "engine = specific_func.get_engine('circ')"
   ]
  },
  {
   "cell_type": "code",
   "execution_count": 21,
   "metadata": {
    "ExecuteTime": {
     "end_time": "2018-09-19T01:33:38.179826Z",
     "start_time": "2018-09-19T01:33:38.172826Z"
    },
    "collapsed": true
   },
   "outputs": [],
   "source": [
    "circ_day_thing = [['2018-05-31', '上线倾向性模型'], \n",
    "             ['2018-06-12', '更新倾向性模型'], \n",
    "             ['2018-06-13', '更新倾向性模型'], \n",
    "             ['2018-06-15', '更新相关性模型'], \n",
    "             ['2018-06-19', '修复bug'], \n",
    "             ['2018-06-24', '更新相关性模型'],\n",
    "             ['2018-06-24', '上线预警模型'], \n",
    "             ['2018-06-25', '更新相关性模型（加入交集数据作为噪音）']]"
   ]
  },
  {
   "cell_type": "markdown",
   "metadata": {},
   "source": [
    "## 八分类"
   ]
  },
  {
   "cell_type": "code",
   "execution_count": 22,
   "metadata": {
    "ExecuteTime": {
     "end_time": "2018-09-19T01:33:45.094221Z",
     "start_time": "2018-09-19T01:33:38.341835Z"
    }
   },
   "outputs": [
    {
     "data": {
      "text/html": [
       "<div>\n",
       "<style scoped>\n",
       "    .dataframe tbody tr th:only-of-type {\n",
       "        vertical-align: middle;\n",
       "    }\n",
       "\n",
       "    .dataframe tbody tr th {\n",
       "        vertical-align: top;\n",
       "    }\n",
       "\n",
       "    .dataframe thead th {\n",
       "        text-align: right;\n",
       "    }\n",
       "</style>\n",
       "<table border=\"1\" class=\"dataframe\">\n",
       "  <thead>\n",
       "    <tr style=\"text-align: right;\">\n",
       "      <th></th>\n",
       "      <th>publishtime</th>\n",
       "      <th>classify</th>\n",
       "      <th>count</th>\n",
       "    </tr>\n",
       "  </thead>\n",
       "  <tbody>\n",
       "    <tr>\n",
       "      <th>0</th>\n",
       "      <td>2018-09-18</td>\n",
       "      <td>补录</td>\n",
       "      <td>11</td>\n",
       "    </tr>\n",
       "    <tr>\n",
       "      <th>1</th>\n",
       "      <td>2018-09-18</td>\n",
       "      <td>监管</td>\n",
       "      <td>3200</td>\n",
       "    </tr>\n",
       "    <tr>\n",
       "      <th>2</th>\n",
       "      <td>2018-09-18</td>\n",
       "      <td>行业</td>\n",
       "      <td>2188</td>\n",
       "    </tr>\n",
       "    <tr>\n",
       "      <th>3</th>\n",
       "      <td>2018-09-18</td>\n",
       "      <td>产品销售</td>\n",
       "      <td>761</td>\n",
       "    </tr>\n",
       "    <tr>\n",
       "      <th>4</th>\n",
       "      <td>2018-09-18</td>\n",
       "      <td>资本市场</td>\n",
       "      <td>5607</td>\n",
       "    </tr>\n",
       "  </tbody>\n",
       "</table>\n",
       "</div>"
      ],
      "text/plain": [
       "  publishtime classify  count\n",
       "0  2018-09-18       补录     11\n",
       "1  2018-09-18       监管   3200\n",
       "2  2018-09-18       行业   2188\n",
       "3  2018-09-18     产品销售    761\n",
       "4  2018-09-18     资本市场   5607"
      ]
     },
     "execution_count": 22,
     "metadata": {},
     "output_type": "execute_result"
    }
   ],
   "source": [
    "# 相关数据\n",
    "sql_circ_cor = \"select date_format(t1.publishtime,'%%Y-%%m-%%d') as publishtime, t1.classify, \\\n",
    "                            count(t1.id) as count \\\n",
    "                            from wise_web_docinfo t1 \\\n",
    "                                where (date_format(publishtime, '%%Y-%%m-%%d') >= '{0}' and \\\n",
    "                                      date_format(publishtime, '%%Y-%%m-%%d') <= '{1}') \\\n",
    "                                group by date_format(t1.publishtime,'%%Y-%%m-%%d'), t1.classify \\\n",
    "                                order by date_format(t1.publishtime,'%%Y-%%m-%%d') desc\".format(start_day, end_day) \n",
    "\n",
    "circ_cor_count = pd.read_sql(sql_circ_cor, engine)\n",
    "circ_cor_count['classify'] = circ_cor_count['classify'].apply(lambda x:class_name_dict[x])\n",
    "circ_cor_count.head()"
   ]
  },
  {
   "cell_type": "code",
   "execution_count": 23,
   "metadata": {
    "ExecuteTime": {
     "end_time": "2018-09-19T01:36:18.575000Z",
     "start_time": "2018-09-19T01:33:45.276232Z"
    }
   },
   "outputs": [
    {
     "data": {
      "text/html": [
       "<div>\n",
       "<style scoped>\n",
       "    .dataframe tbody tr th:only-of-type {\n",
       "        vertical-align: middle;\n",
       "    }\n",
       "\n",
       "    .dataframe tbody tr th {\n",
       "        vertical-align: top;\n",
       "    }\n",
       "\n",
       "    .dataframe thead th {\n",
       "        text-align: right;\n",
       "    }\n",
       "</style>\n",
       "<table border=\"1\" class=\"dataframe\">\n",
       "  <thead>\n",
       "    <tr style=\"text-align: right;\">\n",
       "      <th></th>\n",
       "      <th>publishtime</th>\n",
       "      <th>classify</th>\n",
       "      <th>count</th>\n",
       "    </tr>\n",
       "  </thead>\n",
       "  <tbody>\n",
       "    <tr>\n",
       "      <th>0</th>\n",
       "      <td>2018-09-18</td>\n",
       "      <td>噪音</td>\n",
       "      <td>80531</td>\n",
       "    </tr>\n",
       "    <tr>\n",
       "      <th>1</th>\n",
       "      <td>2018-09-17</td>\n",
       "      <td>噪音</td>\n",
       "      <td>90503</td>\n",
       "    </tr>\n",
       "    <tr>\n",
       "      <th>2</th>\n",
       "      <td>2018-09-16</td>\n",
       "      <td>噪音</td>\n",
       "      <td>54648</td>\n",
       "    </tr>\n",
       "    <tr>\n",
       "      <th>3</th>\n",
       "      <td>2018-09-15</td>\n",
       "      <td>噪音</td>\n",
       "      <td>57186</td>\n",
       "    </tr>\n",
       "    <tr>\n",
       "      <th>4</th>\n",
       "      <td>2018-09-14</td>\n",
       "      <td>噪音</td>\n",
       "      <td>92786</td>\n",
       "    </tr>\n",
       "  </tbody>\n",
       "</table>\n",
       "</div>"
      ],
      "text/plain": [
       "  publishtime classify  count\n",
       "0  2018-09-18       噪音  80531\n",
       "1  2018-09-17       噪音  90503\n",
       "2  2018-09-16       噪音  54648\n",
       "3  2018-09-15       噪音  57186\n",
       "4  2018-09-14       噪音  92786"
      ]
     },
     "execution_count": 23,
     "metadata": {},
     "output_type": "execute_result"
    }
   ],
   "source": [
    "# 不相关数据\n",
    "sql_circ_uncor = \"select date_format(t1.publishtime,'%%Y-%%m-%%d') as publishtime,t1.classify, count(t1.id) as count \\\n",
    "                            from wise_web_docinfo_uncorr t1 \\\n",
    "                                where (date_format(t1.publishtime, '%%Y-%%m-%%d') >= '{0}' and \\\n",
    "                                      date_format(t1.publishtime, '%%Y-%%m-%%d') <= '{1}') \\\n",
    "                                group by t1.classify, date_format(t1.publishtime,'%%Y-%%m-%%d') \\\n",
    "                                order by date_format(t1.publishtime,'%%Y-%%m-%%d') desc\".format(start_day, end_day) \n",
    "\n",
    "circ_uncor_count = pd.read_sql(sql_circ_uncor, engine)\n",
    "circ_uncor_count['classify'] = circ_uncor_count['classify'].apply(lambda x:class_name_dict[x])\n",
    "circ_uncor_count.head()"
   ]
  },
  {
   "cell_type": "markdown",
   "metadata": {},
   "source": [
    "### 补录数据"
   ]
  },
  {
   "cell_type": "code",
   "execution_count": 24,
   "metadata": {
    "ExecuteTime": {
     "end_time": "2018-09-19T01:36:19.122031Z",
     "start_time": "2018-09-19T01:36:18.741010Z"
    }
   },
   "outputs": [
    {
     "data": {
      "text/html": [
       "<div>\n",
       "<style scoped>\n",
       "    .dataframe tbody tr th:only-of-type {\n",
       "        vertical-align: middle;\n",
       "    }\n",
       "\n",
       "    .dataframe tbody tr th {\n",
       "        vertical-align: top;\n",
       "    }\n",
       "\n",
       "    .dataframe thead th {\n",
       "        text-align: right;\n",
       "    }\n",
       "</style>\n",
       "<table border=\"1\" class=\"dataframe\">\n",
       "  <thead>\n",
       "    <tr style=\"text-align: right;\">\n",
       "      <th></th>\n",
       "      <th>publishtime</th>\n",
       "      <th>补录</th>\n",
       "    </tr>\n",
       "  </thead>\n",
       "  <tbody>\n",
       "    <tr>\n",
       "      <th>0</th>\n",
       "      <td>2018-09-18</td>\n",
       "      <td>11</td>\n",
       "    </tr>\n",
       "    <tr>\n",
       "      <th>8</th>\n",
       "      <td>2018-09-17</td>\n",
       "      <td>13</td>\n",
       "    </tr>\n",
       "    <tr>\n",
       "      <th>16</th>\n",
       "      <td>2018-09-16</td>\n",
       "      <td>5</td>\n",
       "    </tr>\n",
       "    <tr>\n",
       "      <th>24</th>\n",
       "      <td>2018-09-15</td>\n",
       "      <td>7</td>\n",
       "    </tr>\n",
       "    <tr>\n",
       "      <th>32</th>\n",
       "      <td>2018-09-14</td>\n",
       "      <td>10</td>\n",
       "    </tr>\n",
       "  </tbody>\n",
       "</table>\n",
       "</div>"
      ],
      "text/plain": [
       "   publishtime  补录\n",
       "0   2018-09-18  11\n",
       "8   2018-09-17  13\n",
       "16  2018-09-16   5\n",
       "24  2018-09-15   7\n",
       "32  2018-09-14  10"
      ]
     },
     "execution_count": 24,
     "metadata": {},
     "output_type": "execute_result"
    },
    {
     "data": {
      "image/png": "[encoded data removed]",
      "text/plain": [
       "<matplotlib.figure.Figure at 0xd087748>"
      ]
     },
     "metadata": {},
     "output_type": "display_data"
    }
   ],
   "source": [
    "# 补录\n",
    "apend = circ_cor_count[circ_cor_count['classify'] == '补录'][['publishtime', 'count']]\n",
    "apend.columns = ['publishtime', '补录']\n",
    "apend = apend.sort_values(by = 'publishtime', ascending = True)\n",
    "apend.plot(kind = 'bar', x = 'publishtime', y = '补录', figsize=(15,6), \n",
    "           title = '补录数据-每天', grid = True)\n",
    "apend.sort_values(by = 'publishtime', ascending = False).head()"
   ]
  },
  {
   "cell_type": "markdown",
   "metadata": {},
   "source": [
    "### class"
   ]
  },
  {
   "cell_type": "code",
   "execution_count": 25,
   "metadata": {
    "ExecuteTime": {
     "end_time": "2018-09-19T01:36:19.409048Z",
     "start_time": "2018-09-19T01:36:19.316042Z"
    }
   },
   "outputs": [
    {
     "data": {
      "text/html": [
       "<div>\n",
       "<style scoped>\n",
       "    .dataframe tbody tr th:only-of-type {\n",
       "        vertical-align: middle;\n",
       "    }\n",
       "\n",
       "    .dataframe tbody tr th {\n",
       "        vertical-align: top;\n",
       "    }\n",
       "\n",
       "    .dataframe thead tr th {\n",
       "        text-align: left;\n",
       "    }\n",
       "\n",
       "    .dataframe thead tr:last-of-type th {\n",
       "        text-align: right;\n",
       "    }\n",
       "</style>\n",
       "<table border=\"1\" class=\"dataframe\">\n",
       "  <thead>\n",
       "    <tr>\n",
       "      <th></th>\n",
       "      <th colspan=\"9\" halign=\"left\">count</th>\n",
       "      <th>总量</th>\n",
       "      <th>非噪音</th>\n",
       "      <th>非噪音-比例</th>\n",
       "      <th>噪音-比例</th>\n",
       "    </tr>\n",
       "    <tr>\n",
       "      <th>classify</th>\n",
       "      <th>产品销售</th>\n",
       "      <th>公司内部管理</th>\n",
       "      <th>其他相关报道</th>\n",
       "      <th>噪音</th>\n",
       "      <th>消费服务</th>\n",
       "      <th>监管</th>\n",
       "      <th>行业</th>\n",
       "      <th>补录</th>\n",
       "      <th>资本市场</th>\n",
       "      <th></th>\n",
       "      <th></th>\n",
       "      <th></th>\n",
       "      <th></th>\n",
       "    </tr>\n",
       "    <tr>\n",
       "      <th>publishtime</th>\n",
       "      <th></th>\n",
       "      <th></th>\n",
       "      <th></th>\n",
       "      <th></th>\n",
       "      <th></th>\n",
       "      <th></th>\n",
       "      <th></th>\n",
       "      <th></th>\n",
       "      <th></th>\n",
       "      <th></th>\n",
       "      <th></th>\n",
       "      <th></th>\n",
       "      <th></th>\n",
       "    </tr>\n",
       "  </thead>\n",
       "  <tbody>\n",
       "    <tr>\n",
       "      <th>2018-09-18</th>\n",
       "      <td>761</td>\n",
       "      <td>1734</td>\n",
       "      <td>1537</td>\n",
       "      <td>80531</td>\n",
       "      <td>1375</td>\n",
       "      <td>3200</td>\n",
       "      <td>2188</td>\n",
       "      <td>11</td>\n",
       "      <td>5607</td>\n",
       "      <td>96944</td>\n",
       "      <td>16413</td>\n",
       "      <td>0.169</td>\n",
       "      <td>0.831</td>\n",
       "    </tr>\n",
       "    <tr>\n",
       "      <th>2018-09-17</th>\n",
       "      <td>906</td>\n",
       "      <td>1880</td>\n",
       "      <td>1636</td>\n",
       "      <td>90503</td>\n",
       "      <td>1771</td>\n",
       "      <td>4411</td>\n",
       "      <td>2142</td>\n",
       "      <td>13</td>\n",
       "      <td>6250</td>\n",
       "      <td>109512</td>\n",
       "      <td>19009</td>\n",
       "      <td>0.174</td>\n",
       "      <td>0.826</td>\n",
       "    </tr>\n",
       "    <tr>\n",
       "      <th>2018-09-16</th>\n",
       "      <td>600</td>\n",
       "      <td>737</td>\n",
       "      <td>798</td>\n",
       "      <td>54648</td>\n",
       "      <td>835</td>\n",
       "      <td>1061</td>\n",
       "      <td>816</td>\n",
       "      <td>5</td>\n",
       "      <td>1706</td>\n",
       "      <td>61206</td>\n",
       "      <td>6558</td>\n",
       "      <td>0.107</td>\n",
       "      <td>0.893</td>\n",
       "    </tr>\n",
       "    <tr>\n",
       "      <th>2018-09-15</th>\n",
       "      <td>562</td>\n",
       "      <td>1084</td>\n",
       "      <td>793</td>\n",
       "      <td>57186</td>\n",
       "      <td>707</td>\n",
       "      <td>1520</td>\n",
       "      <td>1234</td>\n",
       "      <td>7</td>\n",
       "      <td>1916</td>\n",
       "      <td>65009</td>\n",
       "      <td>7823</td>\n",
       "      <td>0.120</td>\n",
       "      <td>0.880</td>\n",
       "    </tr>\n",
       "    <tr>\n",
       "      <th>2018-09-14</th>\n",
       "      <td>1226</td>\n",
       "      <td>2284</td>\n",
       "      <td>1759</td>\n",
       "      <td>92786</td>\n",
       "      <td>1461</td>\n",
       "      <td>3459</td>\n",
       "      <td>2025</td>\n",
       "      <td>10</td>\n",
       "      <td>14234</td>\n",
       "      <td>119244</td>\n",
       "      <td>26458</td>\n",
       "      <td>0.222</td>\n",
       "      <td>0.778</td>\n",
       "    </tr>\n",
       "  </tbody>\n",
       "</table>\n",
       "</div>"
      ],
      "text/plain": [
       "            count                                                        总量  \\\n",
       "classify     产品销售 公司内部管理 其他相关报道     噪音  消费服务    监管    行业  补录   资本市场           \n",
       "publishtime                                                                   \n",
       "2018-09-18    761   1734   1537  80531  1375  3200  2188  11   5607   96944   \n",
       "2018-09-17    906   1880   1636  90503  1771  4411  2142  13   6250  109512   \n",
       "2018-09-16    600    737    798  54648   835  1061   816   5   1706   61206   \n",
       "2018-09-15    562   1084    793  57186   707  1520  1234   7   1916   65009   \n",
       "2018-09-14   1226   2284   1759  92786  1461  3459  2025  10  14234  119244   \n",
       "\n",
       "               非噪音 非噪音-比例 噪音-比例  \n",
       "classify                         \n",
       "publishtime                      \n",
       "2018-09-18   16413  0.169 0.831  \n",
       "2018-09-17   19009  0.174 0.826  \n",
       "2018-09-16    6558  0.107 0.893  \n",
       "2018-09-15    7823  0.120 0.880  \n",
       "2018-09-14   26458  0.222 0.778  "
      ]
     },
     "execution_count": 25,
     "metadata": {},
     "output_type": "execute_result"
    }
   ],
   "source": [
    "class_count = pd.concat([circ_cor_count, circ_uncor_count])\n",
    "cor_class_1, cor_class, count_data_7, count_data_4 = get_class_data(class_count)\n",
    "cor_class_1.sort_index(ascending = False).head()"
   ]
  },
  {
   "cell_type": "code",
   "execution_count": 26,
   "metadata": {
    "ExecuteTime": {
     "end_time": "2018-09-19T01:36:32.399791Z",
     "start_time": "2018-09-19T01:36:32.108774Z"
    }
   },
   "outputs": [
    {
     "data": {
      "text/html": [
       "<div>\n",
       "<style scoped>\n",
       "    .dataframe tbody tr th:only-of-type {\n",
       "        vertical-align: middle;\n",
       "    }\n",
       "\n",
       "    .dataframe tbody tr th {\n",
       "        vertical-align: top;\n",
       "    }\n",
       "\n",
       "    .dataframe thead tr th {\n",
       "        text-align: left;\n",
       "    }\n",
       "\n",
       "    .dataframe thead tr:last-of-type th {\n",
       "        text-align: right;\n",
       "    }\n",
       "</style>\n",
       "<table border=\"1\" class=\"dataframe\">\n",
       "  <thead>\n",
       "    <tr>\n",
       "      <th></th>\n",
       "      <th colspan=\"9\" halign=\"left\">count</th>\n",
       "      <th>总量</th>\n",
       "      <th colspan=\"9\" halign=\"left\">rate</th>\n",
       "    </tr>\n",
       "    <tr>\n",
       "      <th>classify</th>\n",
       "      <th>产品销售</th>\n",
       "      <th>公司内部管理</th>\n",
       "      <th>其他相关报道</th>\n",
       "      <th>噪音</th>\n",
       "      <th>消费服务</th>\n",
       "      <th>监管</th>\n",
       "      <th>行业</th>\n",
       "      <th>补录</th>\n",
       "      <th>资本市场</th>\n",
       "      <th></th>\n",
       "      <th>产品销售</th>\n",
       "      <th>公司内部管理</th>\n",
       "      <th>其他相关报道</th>\n",
       "      <th>噪音</th>\n",
       "      <th>消费服务</th>\n",
       "      <th>监管</th>\n",
       "      <th>行业</th>\n",
       "      <th>补录</th>\n",
       "      <th>资本市场</th>\n",
       "    </tr>\n",
       "    <tr>\n",
       "      <th>publishtime</th>\n",
       "      <th></th>\n",
       "      <th></th>\n",
       "      <th></th>\n",
       "      <th></th>\n",
       "      <th></th>\n",
       "      <th></th>\n",
       "      <th></th>\n",
       "      <th></th>\n",
       "      <th></th>\n",
       "      <th></th>\n",
       "      <th></th>\n",
       "      <th></th>\n",
       "      <th></th>\n",
       "      <th></th>\n",
       "      <th></th>\n",
       "      <th></th>\n",
       "      <th></th>\n",
       "      <th></th>\n",
       "      <th></th>\n",
       "    </tr>\n",
       "  </thead>\n",
       "  <tbody>\n",
       "    <tr>\n",
       "      <th>2018-09-18</th>\n",
       "      <td>761</td>\n",
       "      <td>1734</td>\n",
       "      <td>1537</td>\n",
       "      <td>80531</td>\n",
       "      <td>1375</td>\n",
       "      <td>3200</td>\n",
       "      <td>2188</td>\n",
       "      <td>11</td>\n",
       "      <td>5607</td>\n",
       "      <td>96944</td>\n",
       "      <td>0.008</td>\n",
       "      <td>0.018</td>\n",
       "      <td>0.016</td>\n",
       "      <td>0.831</td>\n",
       "      <td>0.014</td>\n",
       "      <td>0.033</td>\n",
       "      <td>0.023</td>\n",
       "      <td>0.000</td>\n",
       "      <td>0.058</td>\n",
       "    </tr>\n",
       "    <tr>\n",
       "      <th>2018-09-17</th>\n",
       "      <td>906</td>\n",
       "      <td>1880</td>\n",
       "      <td>1636</td>\n",
       "      <td>90503</td>\n",
       "      <td>1771</td>\n",
       "      <td>4411</td>\n",
       "      <td>2142</td>\n",
       "      <td>13</td>\n",
       "      <td>6250</td>\n",
       "      <td>109512</td>\n",
       "      <td>0.008</td>\n",
       "      <td>0.017</td>\n",
       "      <td>0.015</td>\n",
       "      <td>0.826</td>\n",
       "      <td>0.016</td>\n",
       "      <td>0.040</td>\n",
       "      <td>0.020</td>\n",
       "      <td>0.000</td>\n",
       "      <td>0.057</td>\n",
       "    </tr>\n",
       "    <tr>\n",
       "      <th>2018-09-16</th>\n",
       "      <td>600</td>\n",
       "      <td>737</td>\n",
       "      <td>798</td>\n",
       "      <td>54648</td>\n",
       "      <td>835</td>\n",
       "      <td>1061</td>\n",
       "      <td>816</td>\n",
       "      <td>5</td>\n",
       "      <td>1706</td>\n",
       "      <td>61206</td>\n",
       "      <td>0.010</td>\n",
       "      <td>0.012</td>\n",
       "      <td>0.013</td>\n",
       "      <td>0.893</td>\n",
       "      <td>0.014</td>\n",
       "      <td>0.017</td>\n",
       "      <td>0.013</td>\n",
       "      <td>0.000</td>\n",
       "      <td>0.028</td>\n",
       "    </tr>\n",
       "    <tr>\n",
       "      <th>2018-09-15</th>\n",
       "      <td>562</td>\n",
       "      <td>1084</td>\n",
       "      <td>793</td>\n",
       "      <td>57186</td>\n",
       "      <td>707</td>\n",
       "      <td>1520</td>\n",
       "      <td>1234</td>\n",
       "      <td>7</td>\n",
       "      <td>1916</td>\n",
       "      <td>65009</td>\n",
       "      <td>0.009</td>\n",
       "      <td>0.017</td>\n",
       "      <td>0.012</td>\n",
       "      <td>0.880</td>\n",
       "      <td>0.011</td>\n",
       "      <td>0.023</td>\n",
       "      <td>0.019</td>\n",
       "      <td>0.000</td>\n",
       "      <td>0.029</td>\n",
       "    </tr>\n",
       "    <tr>\n",
       "      <th>2018-09-14</th>\n",
       "      <td>1226</td>\n",
       "      <td>2284</td>\n",
       "      <td>1759</td>\n",
       "      <td>92786</td>\n",
       "      <td>1461</td>\n",
       "      <td>3459</td>\n",
       "      <td>2025</td>\n",
       "      <td>10</td>\n",
       "      <td>14234</td>\n",
       "      <td>119244</td>\n",
       "      <td>0.010</td>\n",
       "      <td>0.019</td>\n",
       "      <td>0.015</td>\n",
       "      <td>0.778</td>\n",
       "      <td>0.012</td>\n",
       "      <td>0.029</td>\n",
       "      <td>0.017</td>\n",
       "      <td>0.000</td>\n",
       "      <td>0.119</td>\n",
       "    </tr>\n",
       "  </tbody>\n",
       "</table>\n",
       "</div>"
      ],
      "text/plain": [
       "            count                                                        总量  \\\n",
       "classify     产品销售 公司内部管理 其他相关报道     噪音  消费服务    监管    行业  补录   资本市场           \n",
       "publishtime                                                                   \n",
       "2018-09-18    761   1734   1537  80531  1375  3200  2188  11   5607   96944   \n",
       "2018-09-17    906   1880   1636  90503  1771  4411  2142  13   6250  109512   \n",
       "2018-09-16    600    737    798  54648   835  1061   816   5   1706   61206   \n",
       "2018-09-15    562   1084    793  57186   707  1520  1234   7   1916   65009   \n",
       "2018-09-14   1226   2284   1759  92786  1461  3459  2025  10  14234  119244   \n",
       "\n",
       "             rate                                                    \n",
       "classify     产品销售 公司内部管理 其他相关报道    噪音  消费服务    监管    行业    补录  资本市场  \n",
       "publishtime                                                          \n",
       "2018-09-18  0.008  0.018  0.016 0.831 0.014 0.033 0.023 0.000 0.058  \n",
       "2018-09-17  0.008  0.017  0.015 0.826 0.016 0.040 0.020 0.000 0.057  \n",
       "2018-09-16  0.010  0.012  0.013 0.893 0.014 0.017 0.013 0.000 0.028  \n",
       "2018-09-15  0.009  0.017  0.012 0.880 0.011 0.023 0.019 0.000 0.029  \n",
       "2018-09-14  0.010  0.019  0.015 0.778 0.012 0.029 0.017 0.000 0.119  "
      ]
     },
     "execution_count": 26,
     "metadata": {},
     "output_type": "execute_result"
    },
    {
     "data": {
      "image/png": "[encoded data removed]",
      "text/plain": [
       "<matplotlib.figure.Figure at 0xc3be4e0>"
      ]
     },
     "metadata": {},
     "output_type": "display_data"
    }
   ],
   "source": [
    "cor_class['rate'].reset_index().fillna(0).plot(x = 'publishtime', figsize = (15,6))\n",
    "cor_class.sort_index(ascending = False).head()"
   ]
  },
  {
   "cell_type": "markdown",
   "metadata": {},
   "source": [
    "### 总体"
   ]
  },
  {
   "cell_type": "code",
   "execution_count": 31,
   "metadata": {
    "ExecuteTime": {
     "end_time": "2018-09-19T01:38:42.639240Z",
     "start_time": "2018-09-19T01:38:42.123210Z"
    }
   },
   "outputs": [
    {
     "data": {
      "image/png": "[encoded data removed]",
      "text/plain": [
       "<matplotlib.figure.Figure at 0xd1ebcc0>"
      ]
     },
     "metadata": {},
     "output_type": "display_data"
    },
    {
     "name": "stdout",
     "output_type": "stream",
     "text": [
      "   publishtime     sum  al_cor  al_uncor  al_cor_rate  al_uncor_rate\n",
      "30  2018-09-18   96944   16413     80531        0.169          0.831\n",
      "29  2018-09-17  109512   19009     90503        0.174          0.826\n",
      "28  2018-09-16   61206    6558     54648        0.107          0.893\n",
      "27  2018-09-15   65009    7823     57186        0.120          0.880\n",
      "26  2018-09-14  119244   26458     92786        0.222          0.778\n"
     ]
    }
   ],
   "source": [
    "plot_cor(count_data_7, cbrc_day_thing, \"CIRC 8-class cor&uncor:7-1\")"
   ]
  },
  {
   "cell_type": "code",
   "execution_count": 33,
   "metadata": {
    "ExecuteTime": {
     "end_time": "2018-09-19T01:39:05.329538Z",
     "start_time": "2018-09-19T01:39:04.684501Z"
    }
   },
   "outputs": [
    {
     "data": {
      "image/png": "[encoded data removed]",
      "text/plain": [
       "<matplotlib.figure.Figure at 0xdd6ee80>"
      ]
     },
     "metadata": {},
     "output_type": "display_data"
    },
    {
     "name": "stdout",
     "output_type": "stream",
     "text": [
      "   publishtime  al_cor     sum  al_uncor  al_cor_rate  al_uncor_rate\n",
      "30  2018-09-18    8497   96944     88447        0.088          0.912\n",
      "29  2018-09-17   10204  109512     99308        0.093          0.907\n",
      "28  2018-09-16    3449   61206     57757        0.056          0.944\n",
      "27  2018-09-15    4545   65009     60464        0.070          0.930\n",
      "26  2018-09-14    9229  119244    110015        0.077          0.923\n"
     ]
    }
   ],
   "source": [
    "plot_cor(count_data_4, cbrc_day_thing, \"CIRC 8-class cor&uncor:4-4\")"
   ]
  },
  {
   "cell_type": "markdown",
   "metadata": {},
   "source": [
    "## 倾向性"
   ]
  },
  {
   "cell_type": "code",
   "execution_count": 130,
   "metadata": {
    "ExecuteTime": {
     "end_time": "2018-09-18T09:10:05.187860Z",
     "start_time": "2018-09-18T09:09:37.770292Z"
    }
   },
   "outputs": [
    {
     "data": {
      "text/html": [
       "<div>\n",
       "<style scoped>\n",
       "    .dataframe tbody tr th:only-of-type {\n",
       "        vertical-align: middle;\n",
       "    }\n",
       "\n",
       "    .dataframe tbody tr th {\n",
       "        vertical-align: top;\n",
       "    }\n",
       "\n",
       "    .dataframe thead th {\n",
       "        text-align: right;\n",
       "    }\n",
       "</style>\n",
       "<table border=\"1\" class=\"dataframe\">\n",
       "  <thead>\n",
       "    <tr style=\"text-align: right;\">\n",
       "      <th></th>\n",
       "      <th>publishtime</th>\n",
       "      <th>tendency</th>\n",
       "      <th>count</th>\n",
       "    </tr>\n",
       "  </thead>\n",
       "  <tbody>\n",
       "    <tr>\n",
       "      <th>0</th>\n",
       "      <td>2018-09-17</td>\n",
       "      <td>-1</td>\n",
       "      <td>1788</td>\n",
       "    </tr>\n",
       "    <tr>\n",
       "      <th>1</th>\n",
       "      <td>2018-09-17</td>\n",
       "      <td>0</td>\n",
       "      <td>16366</td>\n",
       "    </tr>\n",
       "    <tr>\n",
       "      <th>2</th>\n",
       "      <td>2018-09-16</td>\n",
       "      <td>-1</td>\n",
       "      <td>648</td>\n",
       "    </tr>\n",
       "    <tr>\n",
       "      <th>3</th>\n",
       "      <td>2018-09-16</td>\n",
       "      <td>0</td>\n",
       "      <td>5844</td>\n",
       "    </tr>\n",
       "    <tr>\n",
       "      <th>4</th>\n",
       "      <td>2018-09-15</td>\n",
       "      <td>-1</td>\n",
       "      <td>1117</td>\n",
       "    </tr>\n",
       "  </tbody>\n",
       "</table>\n",
       "</div>"
      ],
      "text/plain": [
       "  publishtime  tendency  count\n",
       "0  2018-09-17        -1   1788\n",
       "1  2018-09-17         0  16366\n",
       "2  2018-09-16        -1    648\n",
       "3  2018-09-16         0   5844\n",
       "4  2018-09-15        -1   1117"
      ]
     },
     "execution_count": 130,
     "metadata": {},
     "output_type": "execute_result"
    }
   ],
   "source": [
    "sql_tend = \"select date_format(t1.publishtime,'%%Y-%%m-%%d') as publishtime, t1.tendency, \\\n",
    "                            count(t1.id) as count \\\n",
    "                            from wise_web_docinfo t1 \\\n",
    "                                where (date_format(publishtime, '%%Y-%%m-%%d') >= '{0}' and \\\n",
    "                                      date_format(publishtime, '%%Y-%%m-%%d') <= '{1}') \\\n",
    "                                group by date_format(t1.publishtime,'%%Y-%%m-%%d'), t1.tendency \\\n",
    "                                order by date_format(t1.publishtime,'%%Y-%%m-%%d') desc\".format(start_day, end_day) \n",
    "\n",
    "tend_count = pd.read_sql(sql_tend, engine)\n",
    "tend_count.head()"
   ]
  },
  {
   "cell_type": "code",
   "execution_count": 131,
   "metadata": {
    "ExecuteTime": {
     "end_time": "2018-09-18T09:10:06.182917Z",
     "start_time": "2018-09-18T09:10:05.588883Z"
    }
   },
   "outputs": [
    {
     "data": {
      "image/png": "[encoded data removed]",
      "text/plain": [
       "<matplotlib.figure.Figure at 0x10d45940>"
      ]
     },
     "metadata": {},
     "output_type": "display_data"
    },
    {
     "name": "stdout",
     "output_type": "stream",
     "text": [
      "   publishtime   neg    pos    sum  neg_rate  pos_rate\n",
      "30  2018-09-17  1788  16366  18154     0.098     0.902\n",
      "29  2018-09-16   648   5844   6492     0.100     0.900\n",
      "28  2018-09-15  1117   6687   7804     0.143     0.857\n",
      "27  2018-09-14  2135  24303  26438     0.081     0.919\n",
      "26  2018-09-13  1975  14884  16859     0.117     0.883\n"
     ]
    }
   ],
   "source": [
    "plot_tend(tend_count, circ_day_thing, \"CIRC - tendency \")"
   ]
  },
  {
   "cell_type": "markdown",
   "metadata": {},
   "source": [
    "### group_id"
   ]
  },
  {
   "cell_type": "code",
   "execution_count": null,
   "metadata": {
    "collapsed": true
   },
   "outputs": [],
   "source": [
    "# sql_tend_group = \"select date_format(t1.publishtime,'%%Y-%%m-%%d') as publishtime, \\\n",
    "#                             t1.tendency, t1.group_id, count(t1.id) as cor_count \\\n",
    "#                             from wise_web_docinfo t1 \\\n",
    "#                                 where (date_format(t1.publishtime, '%%Y-%%m-%%d') >= '{0}' and \\\n",
    "#                                       date_format(t1.publishtime, '%%Y-%%m-%%d') <= '{1}') \\\n",
    "#                                 group by date_format(t1.publishtime,'%%Y-%%m-%%d'), t1.tendency, t1.group_id \\\n",
    "#                                 order by date_format(t1.publishtime,'%%Y-%%m-%%d') desc\".format(start_day, end_day) \n",
    "\n",
    "# tend_group_count = pd.read_sql(sql_tend_group, engine)\n",
    "# tend_group_count['group_id'] = tend_group_count['group_id'].apply(lambda x: group_dict[str(x)])\n",
    "# tend_group_count.head()"
   ]
  },
  {
   "cell_type": "markdown",
   "metadata": {},
   "source": [
    "## 补录和预警"
   ]
  },
  {
   "cell_type": "markdown",
   "metadata": {},
   "source": [
    "### 一周数据"
   ]
  },
  {
   "cell_type": "code",
   "execution_count": 106,
   "metadata": {
    "ExecuteTime": {
     "end_time": "2018-09-18T08:29:47.406571Z",
     "start_time": "2018-09-18T08:29:47.395570Z"
    },
    "collapsed": true
   },
   "outputs": [],
   "source": [
    "add_start_day = '2018-09-15'\n",
    "add_end_day = '2018-09-21'"
   ]
  },
  {
   "cell_type": "code",
   "execution_count": 107,
   "metadata": {
    "ExecuteTime": {
     "end_time": "2018-09-18T08:30:17.579297Z",
     "start_time": "2018-09-18T08:29:47.975603Z"
    }
   },
   "outputs": [
    {
     "name": "stdout",
     "output_type": "stream",
     "text": [
      "(31, 7)\n"
     ]
    }
   ],
   "source": [
    "# 人工补录\n",
    "sql_human_additional = \"select t1.id, t1.group_id, date_format(t1.publishtime,'%%Y-%%m-%%d') as publishtime,  \\\n",
    "                            t1.gather_type, t1.submited, t1.title, t2.center as content\\\n",
    "                            from wise_web_docinfo t1, wise_web_docinfo_center t2 \\\n",
    "                                where (date_format(publishtime, '%%Y-%%m-%%d') >= '{0}' and \\\n",
    "                                      date_format(publishtime, '%%Y-%%m-%%d') <= '{1}') and \\\n",
    "                                      t1.id = t2.doc_id and \\\n",
    "                                      t1.gather_type = 1 \".format(add_start_day, add_end_day) \n",
    "\n",
    "human_additional = pd.read_sql(sql_human_additional, engine)\n",
    "print(human_additional.shape)\n",
    "# human_additional.head()"
   ]
  },
  {
   "cell_type": "code",
   "execution_count": 108,
   "metadata": {
    "ExecuteTime": {
     "end_time": "2018-09-18T08:30:24.845712Z",
     "start_time": "2018-09-18T08:30:17.829311Z"
    }
   },
   "outputs": [
    {
     "name": "stdout",
     "output_type": "stream",
     "text": [
      "(50, 7)\n"
     ]
    }
   ],
   "source": [
    "# 预警数据\n",
    "sql_warning =  \"select t1.id, t1.group_id, date_format(t1.publishtime,'%%Y-%%m-%%d') as publishtime,  \\\n",
    "                            t1.gather_type, t1.submited, t1.title, t2.center as content\\\n",
    "                            from wise_web_docinfo t1, wise_web_docinfo_center t2 \\\n",
    "                                where (date_format(publishtime, '%%Y-%%m-%%d') >= '{0}' and \\\n",
    "                                      date_format(publishtime, '%%Y-%%m-%%d') <= '{1}') and \\\n",
    "                                      t1.id = t2.doc_id and \\\n",
    "                                      t1.submited = 1 \".format(add_start_day, add_end_day) \n",
    "\n",
    "warning = pd.read_sql(sql_warning, engine)\n",
    "print(warning.shape)\n",
    "# warning.head()"
   ]
  },
  {
   "cell_type": "code",
   "execution_count": 109,
   "metadata": {
    "ExecuteTime": {
     "end_time": "2018-09-18T08:30:25.268736Z",
     "start_time": "2018-09-18T08:30:25.145729Z"
    }
   },
   "outputs": [
    {
     "name": "stdout",
     "output_type": "stream",
     "text": [
      "去重前 (81, 7)\n",
      "去重后 (57, 7)\n"
     ]
    }
   ],
   "source": [
    "combined_data = pd.concat([human_additional, warning])\n",
    "print('去重前', combined_data.shape)\n",
    "combined_data = combined_data.drop_duplicates(subset = 'id')\n",
    "print('去重后', combined_data.shape)\n",
    "\n",
    "combined_data['group_id'] = combined_data['group_id'].apply(lambda x:group_dict[str(x)])\n",
    "combined_data['gather_type'] = combined_data['gather_type'].replace(1, '人工补录').replace(2, '人工修改')\n",
    "combined_data['submited'] = combined_data['submited'].replace(0, '不预警').replace(1, '预警')"
   ]
  },
  {
   "cell_type": "code",
   "execution_count": 110,
   "metadata": {
    "ExecuteTime": {
     "end_time": "2018-09-18T08:30:27.038838Z",
     "start_time": "2018-09-18T08:30:25.737763Z"
    }
   },
   "outputs": [
    {
     "data": {
      "text/html": [
       "<div>\n",
       "<style scoped>\n",
       "    .dataframe tbody tr th:only-of-type {\n",
       "        vertical-align: middle;\n",
       "    }\n",
       "\n",
       "    .dataframe tbody tr th {\n",
       "        vertical-align: top;\n",
       "    }\n",
       "\n",
       "    .dataframe thead th {\n",
       "        text-align: right;\n",
       "    }\n",
       "</style>\n",
       "<table border=\"1\" class=\"dataframe\">\n",
       "  <thead>\n",
       "    <tr style=\"text-align: right;\">\n",
       "      <th></th>\n",
       "      <th>id</th>\n",
       "      <th>predict_label</th>\n",
       "      <th>label</th>\n",
       "      <th>cor</th>\n",
       "      <th>all_cor</th>\n",
       "    </tr>\n",
       "  </thead>\n",
       "  <tbody>\n",
       "    <tr>\n",
       "      <th>0</th>\n",
       "      <td>10831338</td>\n",
       "      <td>噪音</td>\n",
       "      <td></td>\n",
       "      <td>0</td>\n",
       "      <td>0</td>\n",
       "    </tr>\n",
       "    <tr>\n",
       "      <th>1</th>\n",
       "      <td>10831339</td>\n",
       "      <td>产品销售</td>\n",
       "      <td></td>\n",
       "      <td>0</td>\n",
       "      <td>1</td>\n",
       "    </tr>\n",
       "    <tr>\n",
       "      <th>2</th>\n",
       "      <td>10831340</td>\n",
       "      <td>行业</td>\n",
       "      <td></td>\n",
       "      <td>1</td>\n",
       "      <td>1</td>\n",
       "    </tr>\n",
       "    <tr>\n",
       "      <th>3</th>\n",
       "      <td>10831341</td>\n",
       "      <td>监管</td>\n",
       "      <td></td>\n",
       "      <td>1</td>\n",
       "      <td>1</td>\n",
       "    </tr>\n",
       "    <tr>\n",
       "      <th>4</th>\n",
       "      <td>10831342</td>\n",
       "      <td>噪音</td>\n",
       "      <td></td>\n",
       "      <td>0</td>\n",
       "      <td>0</td>\n",
       "    </tr>\n",
       "  </tbody>\n",
       "</table>\n",
       "</div>"
      ],
      "text/plain": [
       "         id predict_label label  cor  all_cor\n",
       "0  10831338            噪音          0        0\n",
       "1  10831339          产品销售          0        1\n",
       "2  10831340            行业          1        1\n",
       "3  10831341            监管          1        1\n",
       "4  10831342            噪音          0        0"
      ]
     },
     "execution_count": 110,
     "metadata": {},
     "output_type": "execute_result"
    }
   ],
   "source": [
    "# predict\n",
    "data = {\"record\":combined_data.loc[:,['id', 'title' ,'content']].to_dict(orient = 'records')}\n",
    "# url = \"http://192.168.0.104:11000/judge_correlation_i\"\n",
    "url = \"http://47.93.77.19:10000/judge_correlation_i\"\n",
    "parse_data, elapsed_time = get_server_res(data, url)\n",
    "# parse_data.head()  \n",
    "\n",
    "parse_data.columns = ['id', 'predict_label']\n",
    "parse_data['predict_label'] = parse_data['predict_label'].apply(lambda x:class_name_dict[x])\n",
    "parse_data['label'] = ''\n",
    "parse_data['cor'] = parse_data['predict_label'].apply(lambda x:1 if x in ['监管', '行业', '经营管理', '消费服务'] else 0)\n",
    "parse_data['all_cor'] = parse_data['predict_label'].apply(lambda x:1 if x != '噪音' else 0)\n",
    "parse_data.head()"
   ]
  },
  {
   "cell_type": "code",
   "execution_count": 111,
   "metadata": {
    "ExecuteTime": {
     "end_time": "2018-09-18T08:30:27.480863Z",
     "start_time": "2018-09-18T08:30:27.388858Z"
    },
    "collapsed": true
   },
   "outputs": [],
   "source": [
    "combined_data = pd.merge(combined_data, parse_data, on  = 'id')\n",
    "stat = combined_data.groupby(['group_id', 'gather_type', 'submited'])['id'].count().reset_index()\n",
    "\n",
    "# 补录\n",
    "stat_a = combined_data.groupby(['group_id', 'gather_type'])['id'].count().reset_index()\n",
    "stat_a = stat_a[stat_a['gather_type'] == '人工补录']\n",
    "\n",
    "# 补录且预警\n",
    "stat_a_w = combined_data[combined_data['submited'] == '预警'].groupby(['group_id', 'gather_type'])['id'].count().reset_index()\n",
    "stat_a_w = stat_a_w[stat_a_w['gather_type'] == '人工补录']\n",
    "\n",
    "# 预警\n",
    "stat_w = combined_data.groupby(['group_id', 'submited'])['id'].count().reset_index()\n",
    "stat_w = stat_w[stat_w['submited'] == '预警']\n",
    "\n",
    "# 补录-过算法\n",
    "stat_a_cor = combined_data[combined_data['gather_type'] == '人工补录'].groupby(['group_id', 'cor'])['id'].count().reset_index()\n",
    "stat_a_cor = stat_a_cor[stat_a_cor['cor'] == 1]\n",
    "\n",
    "# 补录且预警-过算法\n",
    "stat_a_w_cor = combined_data[(combined_data['submited'] == '预警') & \\\n",
    "                             (combined_data['gather_type'] == '人工补录')\\\n",
    "                            ].groupby(['group_id', 'cor'])['id'].count().reset_index()\n",
    "stat_a_w_cor = stat_a_w_cor[stat_a_w_cor['cor'] == 1]\n",
    "\n",
    "# 补录-过算法\n",
    "stat_a_cor_7 = combined_data[combined_data['gather_type'] == '人工补录'].groupby(['group_id', 'all_cor'])['id'].count().reset_index()\n",
    "stat_a_cor_7 = stat_a_cor_7[stat_a_cor_7['all_cor'] == 1]\n",
    "\n",
    "# 补录且预警-过算法\n",
    "stat_a_w_cor_7 = combined_data[(combined_data['submited'] == '预警') & \\\n",
    "                             (combined_data['gather_type'] == '人工补录')\\\n",
    "                            ].groupby(['group_id', 'all_cor'])['id'].count().reset_index()\n",
    "stat_a_w_cor_7 = stat_a_w_cor_7[stat_a_w_cor_7['all_cor'] == 1]"
   ]
  },
  {
   "cell_type": "code",
   "execution_count": 112,
   "metadata": {
    "ExecuteTime": {
     "end_time": "2018-09-18T08:30:27.894887Z",
     "start_time": "2018-09-18T08:30:27.873885Z"
    },
    "collapsed": true
   },
   "outputs": [],
   "source": [
    "stat_a = stat_a[['group_id', 'id']]\n",
    "stat_a.columns = ['来源', '补录']\n",
    "stat_a_w = stat_a_w[['group_id', 'id']]\n",
    "stat_a_w.columns = ['来源', '补录且预警']\n",
    "stat_w = stat_w[['group_id', 'id']]\n",
    "stat_w.columns = ['来源', '预警数量']\n",
    "stat_a_cor = stat_a_cor[['group_id', 'id']]\n",
    "stat_a_cor.columns = ['来源', '补录&过算法(4类)']\n",
    "stat_a_w_cor = stat_a_w_cor[['group_id', 'id']]\n",
    "stat_a_w_cor.columns = ['来源', '补录且预警&过算法(4类)']\n",
    "stat_a_cor_7 = stat_a_cor_7[['group_id', 'id']]\n",
    "stat_a_cor_7.columns = ['来源', '补录&过算法(7类)']\n",
    "stat_a_w_cor_7 = stat_a_w_cor_7[['group_id', 'id']]\n",
    "stat_a_w_cor_7.columns = ['来源', '补录且预警&过算法(7类)']"
   ]
  },
  {
   "cell_type": "code",
   "execution_count": 115,
   "metadata": {
    "ExecuteTime": {
     "end_time": "2018-09-18T09:02:17.678120Z",
     "start_time": "2018-09-18T09:02:17.559113Z"
    }
   },
   "outputs": [
    {
     "data": {
      "text/html": [
       "<div>\n",
       "<style scoped>\n",
       "    .dataframe tbody tr th:only-of-type {\n",
       "        vertical-align: middle;\n",
       "    }\n",
       "\n",
       "    .dataframe tbody tr th {\n",
       "        vertical-align: top;\n",
       "    }\n",
       "\n",
       "    .dataframe thead th {\n",
       "        text-align: right;\n",
       "    }\n",
       "</style>\n",
       "<table border=\"1\" class=\"dataframe\">\n",
       "  <thead>\n",
       "    <tr style=\"text-align: right;\">\n",
       "      <th>来源</th>\n",
       "      <th>微信</th>\n",
       "      <th>新闻</th>\n",
       "      <th>新闻客户端</th>\n",
       "      <th>纸媒</th>\n",
       "      <th>总量</th>\n",
       "    </tr>\n",
       "    <tr>\n",
       "      <th>保监会：2018-08-12 到 2018-09-17</th>\n",
       "      <th></th>\n",
       "      <th></th>\n",
       "      <th></th>\n",
       "      <th></th>\n",
       "      <th></th>\n",
       "    </tr>\n",
       "  </thead>\n",
       "  <tbody>\n",
       "    <tr>\n",
       "      <th>补录</th>\n",
       "      <td>4.000</td>\n",
       "      <td>25.000</td>\n",
       "      <td>1.000</td>\n",
       "      <td>1.000</td>\n",
       "      <td>31.000</td>\n",
       "    </tr>\n",
       "    <tr>\n",
       "      <th>预警数量</th>\n",
       "      <td>4.000</td>\n",
       "      <td>31.000</td>\n",
       "      <td>2.000</td>\n",
       "      <td>13.000</td>\n",
       "      <td>50.000</td>\n",
       "    </tr>\n",
       "    <tr>\n",
       "      <th>补录且预警</th>\n",
       "      <td>4.000</td>\n",
       "      <td>18.000</td>\n",
       "      <td>1.000</td>\n",
       "      <td>1.000</td>\n",
       "      <td>24.000</td>\n",
       "    </tr>\n",
       "    <tr>\n",
       "      <th>补录&amp;过算法(7类)</th>\n",
       "      <td>3.000</td>\n",
       "      <td>18.000</td>\n",
       "      <td>1.000</td>\n",
       "      <td>1.000</td>\n",
       "      <td>23.000</td>\n",
       "    </tr>\n",
       "    <tr>\n",
       "      <th>补录且预警&amp;过算法(7类)</th>\n",
       "      <td>3.000</td>\n",
       "      <td>13.000</td>\n",
       "      <td>1.000</td>\n",
       "      <td>1.000</td>\n",
       "      <td>18.000</td>\n",
       "    </tr>\n",
       "    <tr>\n",
       "      <th>补录且预警 / 预警-比例</th>\n",
       "      <td>100%</td>\n",
       "      <td>58%</td>\n",
       "      <td>50%</td>\n",
       "      <td>8%</td>\n",
       "      <td>48%</td>\n",
       "    </tr>\n",
       "    <tr>\n",
       "      <th>补录且预警 / 补录-比例</th>\n",
       "      <td>100%</td>\n",
       "      <td>72%</td>\n",
       "      <td>100%</td>\n",
       "      <td>100%</td>\n",
       "      <td>77%</td>\n",
       "    </tr>\n",
       "    <tr>\n",
       "      <th>补录&amp;过算法(7类) / 补录-比例</th>\n",
       "      <td>75%</td>\n",
       "      <td>72%</td>\n",
       "      <td>100%</td>\n",
       "      <td>100%</td>\n",
       "      <td>74%</td>\n",
       "    </tr>\n",
       "    <tr>\n",
       "      <th>补录且预警&amp;过算法(7类) / 补录且预警-比例</th>\n",
       "      <td>75%</td>\n",
       "      <td>72%</td>\n",
       "      <td>100%</td>\n",
       "      <td>100%</td>\n",
       "      <td>75%</td>\n",
       "    </tr>\n",
       "  </tbody>\n",
       "</table>\n",
       "</div>"
      ],
      "text/plain": [
       "来源                             微信     新闻 新闻客户端     纸媒     总量\n",
       "保监会：2018-08-12 到 2018-09-17                                 \n",
       "补录                          4.000 25.000 1.000  1.000 31.000\n",
       "预警数量                        4.000 31.000 2.000 13.000 50.000\n",
       "补录且预警                       4.000 18.000 1.000  1.000 24.000\n",
       "补录&过算法(7类)                  3.000 18.000 1.000  1.000 23.000\n",
       "补录且预警&过算法(7类)               3.000 13.000 1.000  1.000 18.000\n",
       "补录且预警 / 预警-比例                100%    58%   50%     8%    48%\n",
       "补录且预警 / 补录-比例                100%    72%  100%   100%    77%\n",
       "补录&过算法(7类) / 补录-比例            75%    72%  100%   100%    74%\n",
       "补录且预警&过算法(7类) / 补录且预警-比例      75%    72%  100%   100%    75%"
      ]
     },
     "execution_count": 115,
     "metadata": {},
     "output_type": "execute_result"
    }
   ],
   "source": [
    "stat = pd.merge(stat_a, stat_w, on = '来源', how = 'outer')\n",
    "stat = pd.merge(stat, stat_a_w, on = '来源', how = 'outer')\n",
    "# stat = pd.merge(stat, stat_a_cor, on = '来源', how = 'outer')\n",
    "# stat = pd.merge(stat, stat_a_w_cor, on = '来源', how = 'outer')\n",
    "stat = pd.merge(stat, stat_a_cor_7, on = '来源', how = 'outer')\n",
    "stat = pd.merge(stat, stat_a_w_cor_7, on = '来源', how = 'outer')\n",
    "stat = stat.set_index('来源').stack().unstack(0)\n",
    "stat['总量'] =  stat.sum(axis = 1)\n",
    "stat.loc['补录且预警 / 预警-比例'] = stat.loc['补录且预警'] / stat.loc['预警数量'] \n",
    "stat.loc['补录且预警 / 预警-比例'] = stat.loc['补录且预警 / 预警-比例'].apply(lambda x: '{:.0f}%'.format(x*100))\n",
    "stat.loc['补录且预警 / 补录-比例'] = stat.loc['补录且预警'] / stat.loc['补录'] \n",
    "stat.loc['补录且预警 / 补录-比例'] = stat.loc['补录且预警 / 补录-比例'].apply(lambda x: '{:.0f}%'.format(x*100))\n",
    "# stat.loc['补录&过算法(4类) / 补录-比例'] = stat.loc['补录&过算法(4类)'] / stat.loc['补录'] \n",
    "# stat.loc['补录&过算法(4类) / 补录-比例'] = stat.loc['补录&过算法(4类) / 补录-比例'].apply(lambda x: '{:.0f}%'.format(x*100))\n",
    "# stat.loc['补录且预警&过算法(4类) / 预警-比例'] = stat.loc['补录且预警&过算法(4类)'] / stat.loc['预警数量'] \n",
    "# stat.loc['补录且预警&过算法(4类) / 预警-比例'] = stat.loc['补录且预警&过算法(4类) / 预警-比例'].apply(lambda x: '{:.0f}%'.format(x*100))\n",
    "stat.loc['补录&过算法(7类) / 补录-比例'] = stat.loc['补录&过算法(7类)'] / stat.loc['补录'] \n",
    "stat.loc['补录&过算法(7类) / 补录-比例'] = stat.loc['补录&过算法(7类) / 补录-比例'].apply(lambda x: '{:.0f}%'.format(x*100))\n",
    "stat.loc['补录且预警&过算法(7类) / 补录且预警-比例'] = stat.loc['补录且预警&过算法(7类)'] / stat.loc['补录且预警'] \n",
    "stat.loc['补录且预警&过算法(7类) / 补录且预警-比例'] = stat.loc['补录且预警&过算法(7类) / 补录且预警-比例'].apply(lambda x: '{:.0f}%'.format(x*100))\n",
    "stat.index.name = '保监会：{0} 到 {1}'.format(start_day, end_day)\n",
    "stat"
   ]
  },
  {
   "cell_type": "markdown",
   "metadata": {},
   "source": [
    "### 导出一段时间补录数据用于训练"
   ]
  },
  {
   "cell_type": "code",
   "execution_count": 83,
   "metadata": {
    "ExecuteTime": {
     "end_time": "2018-09-17T08:54:59.594721Z",
     "start_time": "2018-09-17T08:54:52.474313Z"
    }
   },
   "outputs": [
    {
     "name": "stdout",
     "output_type": "stream",
     "text": [
      "(359, 7)\n"
     ]
    }
   ],
   "source": [
    "# 人工补录\n",
    "sql_human_additional = \"select t1.id, t1.group_id, date_format(t1.publishtime,'%%Y-%%m-%%d') as publishtime,  \\\n",
    "                            t1.gather_type, t1.submited, t1.title, t2.center as content\\\n",
    "                            from wise_web_docinfo t1, wise_web_docinfo_center t2 \\\n",
    "                                where (date_format(publishtime, '%%Y-%%m-%%d') >= '{0}' and \\\n",
    "                                      date_format(publishtime, '%%Y-%%m-%%d') <= '{1}') and \\\n",
    "                                      t1.id = t2.doc_id and \\\n",
    "                                      t1.gather_type = 1 \".format('2018-08-20', '2018-09-16') \n",
    "\n",
    "# human_additional = pd.read_sql(sql_human_additional, engine)\n",
    "# print(human_additional.shape)\n",
    "# human_additional.head()"
   ]
  },
  {
   "cell_type": "code",
   "execution_count": 84,
   "metadata": {
    "ExecuteTime": {
     "end_time": "2018-09-17T08:55:08.210213Z",
     "start_time": "2018-09-17T08:55:00.061747Z"
    }
   },
   "outputs": [
    {
     "name": "stdout",
     "output_type": "stream",
     "text": [
      "(432, 7)\n"
     ]
    }
   ],
   "source": [
    "# 预警数据\n",
    "sql_warning =  \"select t1.id, t1.group_id, date_format(t1.publishtime,'%%Y-%%m-%%d') as publishtime,  \\\n",
    "                            t1.gather_type, t1.submited, t1.title, t2.center as content\\\n",
    "                            from wise_web_docinfo t1, wise_web_docinfo_center t2 \\\n",
    "                                where (date_format(publishtime, '%%Y-%%m-%%d') >= '{0}' and \\\n",
    "                                      date_format(publishtime, '%%Y-%%m-%%d') <= '{1}') and \\\n",
    "                                      t1.id = t2.doc_id and \\\n",
    "                                      t1.submited = 1 \".format('2018-08-20', '2018-09-16') \n",
    "\n",
    "# warning = pd.read_sql(sql_warning, engine)\n",
    "# print(warning.shape)\n",
    "# warning.head()"
   ]
  },
  {
   "cell_type": "code",
   "execution_count": 85,
   "metadata": {
    "ExecuteTime": {
     "end_time": "2018-09-17T08:55:08.778246Z",
     "start_time": "2018-09-17T08:55:08.653239Z"
    }
   },
   "outputs": [
    {
     "name": "stdout",
     "output_type": "stream",
     "text": [
      "去重前 (791, 7)\n",
      "去重后 (549, 7)\n"
     ]
    }
   ],
   "source": [
    "if 0:\n",
    "    # url = \"http://192.168.0.104:11000/judge_correlation_i\"\n",
    "    url = \"http://47.93.77.19:10000/judge_correlation_i\"\n",
    "    folder = 'circ_result_class'\n",
    "    filename = 'circ_add&warning_20180917(0820-0916).xlsx'\n",
    "    get_period_data_for_training(human_additional, warning, url, folder, filename, 'circ')"
   ]
  },
  {
   "cell_type": "markdown",
   "metadata": {},
   "source": [
    "# 银行业--旧"
   ]
  },
  {
   "cell_type": "markdown",
   "metadata": {},
   "source": [
    "## 特殊时间点"
   ]
  },
  {
   "cell_type": "code",
   "execution_count": 11,
   "metadata": {
    "ExecuteTime": {
     "end_time": "2018-09-19T01:29:31.841736Z",
     "start_time": "2018-09-19T01:29:31.656726Z"
    },
    "collapsed": true
   },
   "outputs": [],
   "source": [
    "engine = specific_func.get_engine('cbrc')"
   ]
  },
  {
   "cell_type": "code",
   "execution_count": 12,
   "metadata": {
    "ExecuteTime": {
     "end_time": "2018-09-19T01:29:32.357766Z",
     "start_time": "2018-09-19T01:29:32.353765Z"
    },
    "collapsed": true
   },
   "outputs": [],
   "source": [
    "cbrc_day_thing = [['2018-05-02', '相关性模型'], \n",
    "             ['2018-06-01', '更新相关性模型'], \n",
    "             ['2018-06-12', '更新相关性模型'], \n",
    "             ['2018-06-12', '上线倾向性模型']\n",
    "            ]"
   ]
  },
  {
   "cell_type": "markdown",
   "metadata": {},
   "source": [
    "## 八分类"
   ]
  },
  {
   "cell_type": "code",
   "execution_count": 13,
   "metadata": {
    "ExecuteTime": {
     "end_time": "2018-09-19T01:31:29.312455Z",
     "start_time": "2018-09-19T01:29:33.407826Z"
    }
   },
   "outputs": [
    {
     "data": {
      "text/html": [
       "<div>\n",
       "<style scoped>\n",
       "    .dataframe tbody tr th:only-of-type {\n",
       "        vertical-align: middle;\n",
       "    }\n",
       "\n",
       "    .dataframe tbody tr th {\n",
       "        vertical-align: top;\n",
       "    }\n",
       "\n",
       "    .dataframe thead th {\n",
       "        text-align: right;\n",
       "    }\n",
       "</style>\n",
       "<table border=\"1\" class=\"dataframe\">\n",
       "  <thead>\n",
       "    <tr style=\"text-align: right;\">\n",
       "      <th></th>\n",
       "      <th>publishtime</th>\n",
       "      <th>classify</th>\n",
       "      <th>count</th>\n",
       "    </tr>\n",
       "  </thead>\n",
       "  <tbody>\n",
       "    <tr>\n",
       "      <th>0</th>\n",
       "      <td>2018-09-18</td>\n",
       "      <td>监管</td>\n",
       "      <td>17874</td>\n",
       "    </tr>\n",
       "    <tr>\n",
       "      <th>1</th>\n",
       "      <td>2018-09-18</td>\n",
       "      <td>行业</td>\n",
       "      <td>23454</td>\n",
       "    </tr>\n",
       "    <tr>\n",
       "      <th>2</th>\n",
       "      <td>2018-09-18</td>\n",
       "      <td>产品销售</td>\n",
       "      <td>3488</td>\n",
       "    </tr>\n",
       "    <tr>\n",
       "      <th>3</th>\n",
       "      <td>2018-09-18</td>\n",
       "      <td>资本市场</td>\n",
       "      <td>23443</td>\n",
       "    </tr>\n",
       "    <tr>\n",
       "      <th>4</th>\n",
       "      <td>2018-09-18</td>\n",
       "      <td>公司内部管理</td>\n",
       "      <td>2370</td>\n",
       "    </tr>\n",
       "  </tbody>\n",
       "</table>\n",
       "</div>"
      ],
      "text/plain": [
       "  publishtime classify  count\n",
       "0  2018-09-18       监管  17874\n",
       "1  2018-09-18       行业  23454\n",
       "2  2018-09-18     产品销售   3488\n",
       "3  2018-09-18     资本市场  23443\n",
       "4  2018-09-18   公司内部管理   2370"
      ]
     },
     "execution_count": 13,
     "metadata": {},
     "output_type": "execute_result"
    }
   ],
   "source": [
    "sql_cbrc = \"select date_format(t1.publishtime,'%%Y-%%m-%%d') as publishtime, \\\n",
    "                        t2.traffic_id as classify, count(t1.id) as count \\\n",
    "                            from wise_web_docinfo_basic t1, wise_web_classify_traffic_docinfo t2 \\\n",
    "                                where (date_format(t1.publishtime, '%%Y-%%m-%%d') >= '{0}' and \\\n",
    "                                      date_format(t1.publishtime, '%%Y-%%m-%%d') <= '{1}') and \\\n",
    "                                      t2.base_id=t1.id \\\n",
    "                                group by date_format(t1.publishtime,'%%Y-%%m-%%d'), t2.traffic_id \\\n",
    "                                order by date_format(t1.publishtime,'%%Y-%%m-%%d') desc\".format(start_day, end_day) \n",
    "\n",
    "cbrc_count = pd.read_sql(sql_cbrc, engine)\n",
    "cbrc_count['classify'] = cbrc_count['classify'].apply(lambda x:class_name_dict[x])\n",
    "cbrc_count.head()"
   ]
  },
  {
   "cell_type": "markdown",
   "metadata": {
    "collapsed": true
   },
   "source": [
    "### class"
   ]
  },
  {
   "cell_type": "code",
   "execution_count": 15,
   "metadata": {
    "ExecuteTime": {
     "end_time": "2018-09-19T01:31:29.808484Z",
     "start_time": "2018-09-19T01:31:29.527467Z"
    }
   },
   "outputs": [
    {
     "data": {
      "text/html": [
       "<div>\n",
       "<style scoped>\n",
       "    .dataframe tbody tr th:only-of-type {\n",
       "        vertical-align: middle;\n",
       "    }\n",
       "\n",
       "    .dataframe tbody tr th {\n",
       "        vertical-align: top;\n",
       "    }\n",
       "\n",
       "    .dataframe thead tr th {\n",
       "        text-align: left;\n",
       "    }\n",
       "\n",
       "    .dataframe thead tr:last-of-type th {\n",
       "        text-align: right;\n",
       "    }\n",
       "</style>\n",
       "<table border=\"1\" class=\"dataframe\">\n",
       "  <thead>\n",
       "    <tr>\n",
       "      <th></th>\n",
       "      <th colspan=\"8\" halign=\"left\">count</th>\n",
       "      <th>总量</th>\n",
       "      <th>非噪音</th>\n",
       "      <th>非噪音-比例</th>\n",
       "      <th>噪音-比例</th>\n",
       "    </tr>\n",
       "    <tr>\n",
       "      <th>classify</th>\n",
       "      <th>产品销售</th>\n",
       "      <th>公司内部管理</th>\n",
       "      <th>其他相关报道</th>\n",
       "      <th>噪音</th>\n",
       "      <th>消费服务</th>\n",
       "      <th>监管</th>\n",
       "      <th>行业</th>\n",
       "      <th>资本市场</th>\n",
       "      <th></th>\n",
       "      <th></th>\n",
       "      <th></th>\n",
       "      <th></th>\n",
       "    </tr>\n",
       "    <tr>\n",
       "      <th>publishtime</th>\n",
       "      <th></th>\n",
       "      <th></th>\n",
       "      <th></th>\n",
       "      <th></th>\n",
       "      <th></th>\n",
       "      <th></th>\n",
       "      <th></th>\n",
       "      <th></th>\n",
       "      <th></th>\n",
       "      <th></th>\n",
       "      <th></th>\n",
       "      <th></th>\n",
       "    </tr>\n",
       "  </thead>\n",
       "  <tbody>\n",
       "    <tr>\n",
       "      <th>2018-09-18</th>\n",
       "      <td>3488.000</td>\n",
       "      <td>2370.000</td>\n",
       "      <td>5136.000</td>\n",
       "      <td>62246.000</td>\n",
       "      <td>15095.000</td>\n",
       "      <td>17874.000</td>\n",
       "      <td>23454.000</td>\n",
       "      <td>23443.000</td>\n",
       "      <td>153106.000</td>\n",
       "      <td>90860.000</td>\n",
       "      <td>0.593</td>\n",
       "      <td>0.407</td>\n",
       "    </tr>\n",
       "    <tr>\n",
       "      <th>2018-09-17</th>\n",
       "      <td>3952.000</td>\n",
       "      <td>2760.000</td>\n",
       "      <td>5734.000</td>\n",
       "      <td>69546.000</td>\n",
       "      <td>18342.000</td>\n",
       "      <td>19475.000</td>\n",
       "      <td>32521.000</td>\n",
       "      <td>16682.000</td>\n",
       "      <td>169012.000</td>\n",
       "      <td>99466.000</td>\n",
       "      <td>0.589</td>\n",
       "      <td>0.411</td>\n",
       "    </tr>\n",
       "    <tr>\n",
       "      <th>2018-09-16</th>\n",
       "      <td>2172.000</td>\n",
       "      <td>1301.000</td>\n",
       "      <td>2246.000</td>\n",
       "      <td>45296.000</td>\n",
       "      <td>16522.000</td>\n",
       "      <td>7638.000</td>\n",
       "      <td>10299.000</td>\n",
       "      <td>6319.000</td>\n",
       "      <td>91793.000</td>\n",
       "      <td>46497.000</td>\n",
       "      <td>0.507</td>\n",
       "      <td>0.493</td>\n",
       "    </tr>\n",
       "    <tr>\n",
       "      <th>2018-09-15</th>\n",
       "      <td>2891.000</td>\n",
       "      <td>1529.000</td>\n",
       "      <td>3403.000</td>\n",
       "      <td>47874.000</td>\n",
       "      <td>13832.000</td>\n",
       "      <td>9256.000</td>\n",
       "      <td>12220.000</td>\n",
       "      <td>8169.000</td>\n",
       "      <td>99174.000</td>\n",
       "      <td>51300.000</td>\n",
       "      <td>0.517</td>\n",
       "      <td>0.483</td>\n",
       "    </tr>\n",
       "    <tr>\n",
       "      <th>2018-09-14</th>\n",
       "      <td>4457.000</td>\n",
       "      <td>3908.000</td>\n",
       "      <td>6779.000</td>\n",
       "      <td>71444.000</td>\n",
       "      <td>24688.000</td>\n",
       "      <td>19492.000</td>\n",
       "      <td>23933.000</td>\n",
       "      <td>20634.000</td>\n",
       "      <td>175335.000</td>\n",
       "      <td>103891.000</td>\n",
       "      <td>0.593</td>\n",
       "      <td>0.407</td>\n",
       "    </tr>\n",
       "  </tbody>\n",
       "</table>\n",
       "</div>"
      ],
      "text/plain": [
       "               count                                                  \\\n",
       "classify        产品销售   公司内部管理   其他相关报道        噪音      消费服务        监管   \n",
       "publishtime                                                            \n",
       "2018-09-18  3488.000 2370.000 5136.000 62246.000 15095.000 17874.000   \n",
       "2018-09-17  3952.000 2760.000 5734.000 69546.000 18342.000 19475.000   \n",
       "2018-09-16  2172.000 1301.000 2246.000 45296.000 16522.000  7638.000   \n",
       "2018-09-15  2891.000 1529.000 3403.000 47874.000 13832.000  9256.000   \n",
       "2018-09-14  4457.000 3908.000 6779.000 71444.000 24688.000 19492.000   \n",
       "\n",
       "                                        总量        非噪音 非噪音-比例 噪音-比例  \n",
       "classify           行业      资本市场                                     \n",
       "publishtime                                                         \n",
       "2018-09-18  23454.000 23443.000 153106.000  90860.000  0.593 0.407  \n",
       "2018-09-17  32521.000 16682.000 169012.000  99466.000  0.589 0.411  \n",
       "2018-09-16  10299.000  6319.000  91793.000  46497.000  0.507 0.493  \n",
       "2018-09-15  12220.000  8169.000  99174.000  51300.000  0.517 0.483  \n",
       "2018-09-14  23933.000 20634.000 175335.000 103891.000  0.593 0.407  "
      ]
     },
     "execution_count": 15,
     "metadata": {},
     "output_type": "execute_result"
    }
   ],
   "source": [
    "class_count = cbrc_count\n",
    "cor_class_1, cor_class, count_data_7, count_data_4 = get_class_data(class_count)\n",
    "cor_class_1.sort_index(ascending = False).head()"
   ]
  },
  {
   "cell_type": "code",
   "execution_count": 16,
   "metadata": {
    "ExecuteTime": {
     "end_time": "2018-09-19T01:31:30.428519Z",
     "start_time": "2018-09-19T01:31:29.949492Z"
    }
   },
   "outputs": [
    {
     "data": {
      "text/html": [
       "<div>\n",
       "<style scoped>\n",
       "    .dataframe tbody tr th:only-of-type {\n",
       "        vertical-align: middle;\n",
       "    }\n",
       "\n",
       "    .dataframe tbody tr th {\n",
       "        vertical-align: top;\n",
       "    }\n",
       "\n",
       "    .dataframe thead tr th {\n",
       "        text-align: left;\n",
       "    }\n",
       "\n",
       "    .dataframe thead tr:last-of-type th {\n",
       "        text-align: right;\n",
       "    }\n",
       "</style>\n",
       "<table border=\"1\" class=\"dataframe\">\n",
       "  <thead>\n",
       "    <tr>\n",
       "      <th></th>\n",
       "      <th colspan=\"8\" halign=\"left\">count</th>\n",
       "      <th>总量</th>\n",
       "      <th colspan=\"8\" halign=\"left\">rate</th>\n",
       "    </tr>\n",
       "    <tr>\n",
       "      <th>classify</th>\n",
       "      <th>产品销售</th>\n",
       "      <th>公司内部管理</th>\n",
       "      <th>其他相关报道</th>\n",
       "      <th>噪音</th>\n",
       "      <th>消费服务</th>\n",
       "      <th>监管</th>\n",
       "      <th>行业</th>\n",
       "      <th>资本市场</th>\n",
       "      <th></th>\n",
       "      <th>产品销售</th>\n",
       "      <th>公司内部管理</th>\n",
       "      <th>其他相关报道</th>\n",
       "      <th>噪音</th>\n",
       "      <th>消费服务</th>\n",
       "      <th>监管</th>\n",
       "      <th>行业</th>\n",
       "      <th>资本市场</th>\n",
       "    </tr>\n",
       "    <tr>\n",
       "      <th>publishtime</th>\n",
       "      <th></th>\n",
       "      <th></th>\n",
       "      <th></th>\n",
       "      <th></th>\n",
       "      <th></th>\n",
       "      <th></th>\n",
       "      <th></th>\n",
       "      <th></th>\n",
       "      <th></th>\n",
       "      <th></th>\n",
       "      <th></th>\n",
       "      <th></th>\n",
       "      <th></th>\n",
       "      <th></th>\n",
       "      <th></th>\n",
       "      <th></th>\n",
       "      <th></th>\n",
       "    </tr>\n",
       "  </thead>\n",
       "  <tbody>\n",
       "    <tr>\n",
       "      <th>2018-09-18</th>\n",
       "      <td>3488.000</td>\n",
       "      <td>2370.000</td>\n",
       "      <td>5136.000</td>\n",
       "      <td>62246.000</td>\n",
       "      <td>15095.000</td>\n",
       "      <td>17874.000</td>\n",
       "      <td>23454.000</td>\n",
       "      <td>23443.000</td>\n",
       "      <td>153106.000</td>\n",
       "      <td>0.023</td>\n",
       "      <td>0.015</td>\n",
       "      <td>0.034</td>\n",
       "      <td>0.407</td>\n",
       "      <td>0.099</td>\n",
       "      <td>0.117</td>\n",
       "      <td>0.153</td>\n",
       "      <td>0.153</td>\n",
       "    </tr>\n",
       "    <tr>\n",
       "      <th>2018-09-17</th>\n",
       "      <td>3952.000</td>\n",
       "      <td>2760.000</td>\n",
       "      <td>5734.000</td>\n",
       "      <td>69546.000</td>\n",
       "      <td>18342.000</td>\n",
       "      <td>19475.000</td>\n",
       "      <td>32521.000</td>\n",
       "      <td>16682.000</td>\n",
       "      <td>169012.000</td>\n",
       "      <td>0.023</td>\n",
       "      <td>0.016</td>\n",
       "      <td>0.034</td>\n",
       "      <td>0.411</td>\n",
       "      <td>0.109</td>\n",
       "      <td>0.115</td>\n",
       "      <td>0.192</td>\n",
       "      <td>0.099</td>\n",
       "    </tr>\n",
       "    <tr>\n",
       "      <th>2018-09-16</th>\n",
       "      <td>2172.000</td>\n",
       "      <td>1301.000</td>\n",
       "      <td>2246.000</td>\n",
       "      <td>45296.000</td>\n",
       "      <td>16522.000</td>\n",
       "      <td>7638.000</td>\n",
       "      <td>10299.000</td>\n",
       "      <td>6319.000</td>\n",
       "      <td>91793.000</td>\n",
       "      <td>0.024</td>\n",
       "      <td>0.014</td>\n",
       "      <td>0.024</td>\n",
       "      <td>0.493</td>\n",
       "      <td>0.180</td>\n",
       "      <td>0.083</td>\n",
       "      <td>0.112</td>\n",
       "      <td>0.069</td>\n",
       "    </tr>\n",
       "    <tr>\n",
       "      <th>2018-09-15</th>\n",
       "      <td>2891.000</td>\n",
       "      <td>1529.000</td>\n",
       "      <td>3403.000</td>\n",
       "      <td>47874.000</td>\n",
       "      <td>13832.000</td>\n",
       "      <td>9256.000</td>\n",
       "      <td>12220.000</td>\n",
       "      <td>8169.000</td>\n",
       "      <td>99174.000</td>\n",
       "      <td>0.029</td>\n",
       "      <td>0.015</td>\n",
       "      <td>0.034</td>\n",
       "      <td>0.483</td>\n",
       "      <td>0.139</td>\n",
       "      <td>0.093</td>\n",
       "      <td>0.123</td>\n",
       "      <td>0.082</td>\n",
       "    </tr>\n",
       "    <tr>\n",
       "      <th>2018-09-14</th>\n",
       "      <td>4457.000</td>\n",
       "      <td>3908.000</td>\n",
       "      <td>6779.000</td>\n",
       "      <td>71444.000</td>\n",
       "      <td>24688.000</td>\n",
       "      <td>19492.000</td>\n",
       "      <td>23933.000</td>\n",
       "      <td>20634.000</td>\n",
       "      <td>175335.000</td>\n",
       "      <td>0.025</td>\n",
       "      <td>0.022</td>\n",
       "      <td>0.039</td>\n",
       "      <td>0.407</td>\n",
       "      <td>0.141</td>\n",
       "      <td>0.111</td>\n",
       "      <td>0.136</td>\n",
       "      <td>0.118</td>\n",
       "    </tr>\n",
       "  </tbody>\n",
       "</table>\n",
       "</div>"
      ],
      "text/plain": [
       "               count                                                  \\\n",
       "classify        产品销售   公司内部管理   其他相关报道        噪音      消费服务        监管   \n",
       "publishtime                                                            \n",
       "2018-09-18  3488.000 2370.000 5136.000 62246.000 15095.000 17874.000   \n",
       "2018-09-17  3952.000 2760.000 5734.000 69546.000 18342.000 19475.000   \n",
       "2018-09-16  2172.000 1301.000 2246.000 45296.000 16522.000  7638.000   \n",
       "2018-09-15  2891.000 1529.000 3403.000 47874.000 13832.000  9256.000   \n",
       "2018-09-14  4457.000 3908.000 6779.000 71444.000 24688.000 19492.000   \n",
       "\n",
       "                                        总量  rate                            \\\n",
       "classify           行业      资本市场             产品销售 公司内部管理 其他相关报道    噪音  消费服务   \n",
       "publishtime                                                                  \n",
       "2018-09-18  23454.000 23443.000 153106.000 0.023  0.015  0.034 0.407 0.099   \n",
       "2018-09-17  32521.000 16682.000 169012.000 0.023  0.016  0.034 0.411 0.109   \n",
       "2018-09-16  10299.000  6319.000  91793.000 0.024  0.014  0.024 0.493 0.180   \n",
       "2018-09-15  12220.000  8169.000  99174.000 0.029  0.015  0.034 0.483 0.139   \n",
       "2018-09-14  23933.000 20634.000 175335.000 0.025  0.022  0.039 0.407 0.141   \n",
       "\n",
       "                               \n",
       "classify       监管    行业  资本市场  \n",
       "publishtime                    \n",
       "2018-09-18  0.117 0.153 0.153  \n",
       "2018-09-17  0.115 0.192 0.099  \n",
       "2018-09-16  0.083 0.112 0.069  \n",
       "2018-09-15  0.093 0.123 0.082  \n",
       "2018-09-14  0.111 0.136 0.118  "
      ]
     },
     "execution_count": 16,
     "metadata": {},
     "output_type": "execute_result"
    },
    {
     "data": {
      "image/png": "[encoded data removed]",
      "text/plain": [
       "<matplotlib.figure.Figure at 0xc342cf8>"
      ]
     },
     "metadata": {},
     "output_type": "display_data"
    }
   ],
   "source": [
    "cor_class['rate'].reset_index().fillna(0).plot(x = 'publishtime', figsize = (15,6))\n",
    "cor_class.sort_index(ascending = False).head()"
   ]
  },
  {
   "cell_type": "markdown",
   "metadata": {
    "ExecuteTime": {
     "end_time": "2018-09-18T06:21:17.584594Z",
     "start_time": "2018-09-18T06:21:17.570593Z"
    }
   },
   "source": [
    "### 总体"
   ]
  },
  {
   "cell_type": "code",
   "execution_count": 17,
   "metadata": {
    "ExecuteTime": {
     "end_time": "2018-09-19T01:31:31.026553Z",
     "start_time": "2018-09-19T01:31:30.547526Z"
    }
   },
   "outputs": [
    {
     "data": {
      "image/png": "[encoded data removed]",
      "text/plain": [
       "<matplotlib.figure.Figure at 0x7c41198>"
      ]
     },
     "metadata": {},
     "output_type": "display_data"
    },
    {
     "name": "stdout",
     "output_type": "stream",
     "text": [
      "   publishtime        sum     al_cor  al_uncor  al_cor_rate  al_uncor_rate\n",
      "27  2018-09-18 153106.000  90860.000 62246.000        0.593          0.407\n",
      "26  2018-09-17 169012.000  99466.000 69546.000        0.589          0.411\n",
      "25  2018-09-16  91793.000  46497.000 45296.000        0.507          0.493\n",
      "24  2018-09-15  99174.000  51300.000 47874.000        0.517          0.483\n",
      "23  2018-09-14 175335.000 103891.000 71444.000        0.593          0.407\n"
     ]
    }
   ],
   "source": [
    "plot_cor(count_data_7, cbrc_day_thing, \"CBRC 8-class cor&uncor:7-1\")"
   ]
  },
  {
   "cell_type": "code",
   "execution_count": 18,
   "metadata": {
    "ExecuteTime": {
     "end_time": "2018-09-19T01:31:31.805598Z",
     "start_time": "2018-09-19T01:31:31.255566Z"
    }
   },
   "outputs": [
    {
     "data": {
      "image/png": "[encoded data removed]",
      "text/plain": [
       "<matplotlib.figure.Figure at 0xd0bc940>"
      ]
     },
     "metadata": {},
     "output_type": "display_data"
    },
    {
     "name": "stdout",
     "output_type": "stream",
     "text": [
      "   publishtime    al_cor        sum   al_uncor  al_cor_rate  al_uncor_rate\n",
      "27  2018-09-18 58793.000 153106.000  94313.000        0.384          0.616\n",
      "26  2018-09-17 73098.000 169012.000  95914.000        0.433          0.567\n",
      "25  2018-09-16 35760.000  91793.000  56033.000        0.390          0.610\n",
      "24  2018-09-15 36837.000  99174.000  62337.000        0.371          0.629\n",
      "23  2018-09-14 72021.000 175335.000 103314.000        0.411          0.589\n"
     ]
    }
   ],
   "source": [
    "plot_cor(count_data_4, cbrc_day_thing, \"CBRC 8-class cor&uncor:4-4\")"
   ]
  },
  {
   "cell_type": "markdown",
   "metadata": {},
   "source": [
    "## 倾向性"
   ]
  },
  {
   "cell_type": "code",
   "execution_count": 140,
   "metadata": {
    "ExecuteTime": {
     "end_time": "2018-09-18T09:22:56.183958Z",
     "start_time": "2018-09-18T09:19:09.553996Z"
    }
   },
   "outputs": [
    {
     "data": {
      "text/html": [
       "<div>\n",
       "<style scoped>\n",
       "    .dataframe tbody tr th:only-of-type {\n",
       "        vertical-align: middle;\n",
       "    }\n",
       "\n",
       "    .dataframe tbody tr th {\n",
       "        vertical-align: top;\n",
       "    }\n",
       "\n",
       "    .dataframe thead th {\n",
       "        text-align: right;\n",
       "    }\n",
       "</style>\n",
       "<table border=\"1\" class=\"dataframe\">\n",
       "  <thead>\n",
       "    <tr style=\"text-align: right;\">\n",
       "      <th></th>\n",
       "      <th>publishtime</th>\n",
       "      <th>tendency</th>\n",
       "      <th>cor_count</th>\n",
       "    </tr>\n",
       "  </thead>\n",
       "  <tbody>\n",
       "    <tr>\n",
       "      <th>0</th>\n",
       "      <td>2018-09-17</td>\n",
       "      <td>-1</td>\n",
       "      <td>3356</td>\n",
       "    </tr>\n",
       "    <tr>\n",
       "      <th>1</th>\n",
       "      <td>2018-09-17</td>\n",
       "      <td>0</td>\n",
       "      <td>63294</td>\n",
       "    </tr>\n",
       "    <tr>\n",
       "      <th>3</th>\n",
       "      <td>2018-09-16</td>\n",
       "      <td>-1</td>\n",
       "      <td>1502</td>\n",
       "    </tr>\n",
       "    <tr>\n",
       "      <th>4</th>\n",
       "      <td>2018-09-16</td>\n",
       "      <td>0</td>\n",
       "      <td>33057</td>\n",
       "    </tr>\n",
       "    <tr>\n",
       "      <th>6</th>\n",
       "      <td>2018-09-15</td>\n",
       "      <td>-1</td>\n",
       "      <td>1996</td>\n",
       "    </tr>\n",
       "  </tbody>\n",
       "</table>\n",
       "</div>"
      ],
      "text/plain": [
       "  publishtime  tendency  cor_count\n",
       "0  2018-09-17        -1       3356\n",
       "1  2018-09-17         0      63294\n",
       "3  2018-09-16        -1       1502\n",
       "4  2018-09-16         0      33057\n",
       "6  2018-09-15        -1       1996"
      ]
     },
     "execution_count": 140,
     "metadata": {},
     "output_type": "execute_result"
    }
   ],
   "source": [
    "sql_tend = \"select date_format(t1.publishtime,'%%Y-%%m-%%d') as publishtime, t1.sen as tendency, count(t1.id) as cor_count \\\n",
    "                            from elint_web_docinfo t1 \\\n",
    "                                where (date_format(t1.publishtime, '%%Y-%%m-%%d') >= '{0}' and \\\n",
    "                                      date_format(t1.publishtime, '%%Y-%%m-%%d') <= '{1}') \\\n",
    "                                group by date_format(t1.publishtime,'%%Y-%%m-%%d'), t1.sen \\\n",
    "                                order by date_format(t1.publishtime,'%%Y-%%m-%%d') desc\".format(start_day, end_day) \n",
    "\n",
    "tend_count = pd.read_sql(sql_tend, engine)\n",
    "tend_count = tend_count[tend_count['tendency'] != 1]\n",
    "tend_count.head()"
   ]
  },
  {
   "cell_type": "code",
   "execution_count": 141,
   "metadata": {
    "ExecuteTime": {
     "end_time": "2018-09-18T09:22:57.161014Z",
     "start_time": "2018-09-18T09:22:56.646985Z"
    }
   },
   "outputs": [
    {
     "data": {
      "image/png": "[encoded data removed]",
      "text/plain": [
       "<matplotlib.figure.Figure at 0xd9715c0>"
      ]
     },
     "metadata": {},
     "output_type": "display_data"
    },
    {
     "name": "stdout",
     "output_type": "stream",
     "text": [
      "   publishtime   neg    pos    sum  neg_rate  pos_rate\n",
      "30  2018-09-17  3356  63294  66650     0.050     0.950\n",
      "29  2018-09-16  1502  33057  34559     0.043     0.957\n",
      "28  2018-09-15  1996  35156  37152     0.054     0.946\n",
      "27  2018-09-14  3764  68951  72715     0.052     0.948\n",
      "26  2018-09-13  3547  61080  64627     0.055     0.945\n"
     ]
    }
   ],
   "source": [
    "plot_tend(tend_count, cbrc_day_thing, \"CBRC - tendency \")"
   ]
  },
  {
   "cell_type": "markdown",
   "metadata": {},
   "source": [
    "## 补录和预警"
   ]
  },
  {
   "cell_type": "markdown",
   "metadata": {},
   "source": [
    "### 补录数据"
   ]
  },
  {
   "cell_type": "code",
   "execution_count": 142,
   "metadata": {
    "ExecuteTime": {
     "end_time": "2018-09-18T09:22:58.454088Z",
     "start_time": "2018-09-18T09:22:57.605040Z"
    }
   },
   "outputs": [
    {
     "data": {
      "text/html": [
       "<div>\n",
       "<style scoped>\n",
       "    .dataframe tbody tr th:only-of-type {\n",
       "        vertical-align: middle;\n",
       "    }\n",
       "\n",
       "    .dataframe tbody tr th {\n",
       "        vertical-align: top;\n",
       "    }\n",
       "\n",
       "    .dataframe thead th {\n",
       "        text-align: right;\n",
       "    }\n",
       "</style>\n",
       "<table border=\"1\" class=\"dataframe\">\n",
       "  <thead>\n",
       "    <tr style=\"text-align: right;\">\n",
       "      <th></th>\n",
       "      <th>publishtime</th>\n",
       "      <th>gather_type</th>\n",
       "      <th>count</th>\n",
       "    </tr>\n",
       "  </thead>\n",
       "  <tbody>\n",
       "    <tr>\n",
       "      <th>0</th>\n",
       "      <td>2018-09-17</td>\n",
       "      <td>1</td>\n",
       "      <td>41</td>\n",
       "    </tr>\n",
       "    <tr>\n",
       "      <th>1</th>\n",
       "      <td>2018-09-16</td>\n",
       "      <td>1</td>\n",
       "      <td>2</td>\n",
       "    </tr>\n",
       "    <tr>\n",
       "      <th>2</th>\n",
       "      <td>2018-09-15</td>\n",
       "      <td>1</td>\n",
       "      <td>10</td>\n",
       "    </tr>\n",
       "    <tr>\n",
       "      <th>3</th>\n",
       "      <td>2018-09-14</td>\n",
       "      <td>1</td>\n",
       "      <td>21</td>\n",
       "    </tr>\n",
       "    <tr>\n",
       "      <th>4</th>\n",
       "      <td>2018-09-13</td>\n",
       "      <td>1</td>\n",
       "      <td>29</td>\n",
       "    </tr>\n",
       "  </tbody>\n",
       "</table>\n",
       "</div>"
      ],
      "text/plain": [
       "  publishtime  gather_type  count\n",
       "0  2018-09-17            1     41\n",
       "1  2018-09-16            1      2\n",
       "2  2018-09-15            1     10\n",
       "3  2018-09-14            1     21\n",
       "4  2018-09-13            1     29"
      ]
     },
     "execution_count": 142,
     "metadata": {},
     "output_type": "execute_result"
    }
   ],
   "source": [
    "sql_human_additional = \"select date_format(t1.publishtime,'%%Y-%%m-%%d') as publishtime,  \\\n",
    "                            t1.gather_type, count(t1.id) as count \\\n",
    "                            from elint_web_docinfo t1 \\\n",
    "                                where (date_format(publishtime, '%%Y-%%m-%%d') >= '{0}' and \\\n",
    "                                      date_format(publishtime, '%%Y-%%m-%%d') <= '{1}') and \\\n",
    "                                      t1.gather_type = 1 \\\n",
    "                                group by date_format(t1.publishtime,'%%Y-%%m-%%d') \\\n",
    "                                order by date_format(t1.publishtime,'%%Y-%%m-%%d') desc\".format(start_day, end_day) \n",
    "\n",
    "human_additional_count = pd.read_sql(sql_human_additional, engine)\n",
    "human_additional_count.sort_values(by = 'publishtime', ascending = False).head()"
   ]
  },
  {
   "cell_type": "code",
   "execution_count": 143,
   "metadata": {
    "ExecuteTime": {
     "end_time": "2018-09-18T09:22:59.496148Z",
     "start_time": "2018-09-18T09:22:58.894113Z"
    }
   },
   "outputs": [
    {
     "data": {
      "image/png": "[encoded data removed]",
      "text/plain": [
       "<matplotlib.figure.Figure at 0x10009400>"
      ]
     },
     "metadata": {},
     "output_type": "display_data"
    },
    {
     "data": {
      "text/html": [
       "<div>\n",
       "<style scoped>\n",
       "    .dataframe tbody tr th:only-of-type {\n",
       "        vertical-align: middle;\n",
       "    }\n",
       "\n",
       "    .dataframe tbody tr th {\n",
       "        vertical-align: top;\n",
       "    }\n",
       "\n",
       "    .dataframe thead th {\n",
       "        text-align: right;\n",
       "    }\n",
       "</style>\n",
       "<table border=\"1\" class=\"dataframe\">\n",
       "  <thead>\n",
       "    <tr style=\"text-align: right;\">\n",
       "      <th></th>\n",
       "      <th>publishtime</th>\n",
       "      <th>gather_type</th>\n",
       "      <th>count</th>\n",
       "    </tr>\n",
       "  </thead>\n",
       "  <tbody>\n",
       "    <tr>\n",
       "      <th>0</th>\n",
       "      <td>2018-09-17</td>\n",
       "      <td>1</td>\n",
       "      <td>41</td>\n",
       "    </tr>\n",
       "    <tr>\n",
       "      <th>1</th>\n",
       "      <td>2018-09-16</td>\n",
       "      <td>1</td>\n",
       "      <td>2</td>\n",
       "    </tr>\n",
       "    <tr>\n",
       "      <th>2</th>\n",
       "      <td>2018-09-15</td>\n",
       "      <td>1</td>\n",
       "      <td>10</td>\n",
       "    </tr>\n",
       "    <tr>\n",
       "      <th>3</th>\n",
       "      <td>2018-09-14</td>\n",
       "      <td>1</td>\n",
       "      <td>21</td>\n",
       "    </tr>\n",
       "    <tr>\n",
       "      <th>4</th>\n",
       "      <td>2018-09-13</td>\n",
       "      <td>1</td>\n",
       "      <td>29</td>\n",
       "    </tr>\n",
       "  </tbody>\n",
       "</table>\n",
       "</div>"
      ],
      "text/plain": [
       "  publishtime  gather_type  count\n",
       "0  2018-09-17            1     41\n",
       "1  2018-09-16            1      2\n",
       "2  2018-09-15            1     10\n",
       "3  2018-09-14            1     21\n",
       "4  2018-09-13            1     29"
      ]
     },
     "execution_count": 143,
     "metadata": {},
     "output_type": "execute_result"
    }
   ],
   "source": [
    "human_additional_count = human_additional_count.sort_values(by = 'publishtime')\n",
    "fig = plt.figure(figsize = (15,6))\n",
    "ax1 = fig.add_subplot(111)\n",
    "human_additional_count.plot(x = 'publishtime', y = 'count', kind = 'bar', figsize = (15, 6), ax = ax1)\n",
    "ax1.set_ylabel('数据量', fontsize = 16)\n",
    "ax1.set_title(\"（银监会）人工补录\", fontsize = 20)\n",
    "\n",
    "ax2 = ax1.twinx()  # this is the important function\n",
    "ax2.set_ylim(0, 1)\n",
    "y_list = [0.65, 0.75, 0.85, 0.95]\n",
    "m = 0\n",
    "for [d, t] in cbrc_day_thing:    \n",
    "    if d in human_additional_count['publishtime'].tolist():\n",
    "        x = human_additional_count['publishtime'].tolist().index(d)\n",
    "        ax2.axvline(x=x, ymin = y_list[m] - 0.1, ymax = y_list[m] + 0.1, \n",
    "                    color='k', linestyle = \"--\", alpha = 0.75)\n",
    "        ax2.text(x - 0.25, y_list[m], t, va='center', fontsize = 12)\n",
    "        if m == 3: \n",
    "            m = 0\n",
    "        else :\n",
    "            m += 1\n",
    "        \n",
    "plt.grid(True, linestyle = \"--\", color = \"r\", alpha = 0.3) \n",
    "plt.show()\n",
    "\n",
    "human_additional_count.sort_values(by = 'publishtime', ascending = False).head()"
   ]
  },
  {
   "cell_type": "markdown",
   "metadata": {},
   "source": [
    "### 一周数据"
   ]
  },
  {
   "cell_type": "code",
   "execution_count": 145,
   "metadata": {
    "ExecuteTime": {
     "end_time": "2018-09-18T09:23:00.323195Z",
     "start_time": "2018-09-18T09:23:00.319195Z"
    },
    "collapsed": true
   },
   "outputs": [],
   "source": [
    "add_start_day = '2018-09-15'\n",
    "add_end_day = '2018-09-21'"
   ]
  },
  {
   "cell_type": "code",
   "execution_count": 146,
   "metadata": {
    "ExecuteTime": {
     "end_time": "2018-09-18T09:23:01.084239Z",
     "start_time": "2018-09-18T09:23:00.703217Z"
    }
   },
   "outputs": [
    {
     "name": "stdout",
     "output_type": "stream",
     "text": [
      "(67, 7)\n"
     ]
    }
   ],
   "source": [
    "# 人工补录\n",
    "sql_human_additional = \"select t1.id, t1.group_id, date_format(t1.publishtime,'%%Y-%%m-%%d') as publishtime,  \\\n",
    "                            t1.gather_type, t1.sec, t1.title, t2.text as content\\\n",
    "                            from elint_web_docinfo t1, wise_web_docinfo_text t2\\\n",
    "                                where (date_format(publishtime, '%%Y-%%m-%%d') >= '{0}' and \\\n",
    "                                      date_format(publishtime, '%%Y-%%m-%%d') <= '{1}') and \\\n",
    "                                      t1.id = t2.doc_id and \\\n",
    "                                      t1.gather_type = 1 \".format(add_start_day, add_end_day) \n",
    "\n",
    "human_additional = pd.read_sql(sql_human_additional, engine)\n",
    "print(human_additional.shape)\n",
    "# human_additional.head()"
   ]
  },
  {
   "cell_type": "code",
   "execution_count": 147,
   "metadata": {
    "ExecuteTime": {
     "end_time": "2018-09-18T09:23:11.049809Z",
     "start_time": "2018-09-18T09:23:01.530264Z"
    }
   },
   "outputs": [
    {
     "name": "stdout",
     "output_type": "stream",
     "text": [
      "(691, 7)\n"
     ]
    }
   ],
   "source": [
    "# 预警数据\n",
    "sql_warning =  \"select t1.id, t1.group_id, date_format(t1.publishtime,'%%Y-%%m-%%d') as publishtime,  \\\n",
    "                            t1.gather_type, t1.sec, t1.title, t2.text as content\\\n",
    "                            from elint_web_docinfo t1, wise_web_docinfo_text t2\\\n",
    "                                where (date_format(publishtime, '%%Y-%%m-%%d') >= '{0}' and \\\n",
    "                                      date_format(publishtime, '%%Y-%%m-%%d') <= '{1}') and \\\n",
    "                                      t1.id = t2.doc_id and \\\n",
    "                                      t1.sec in (7,8,9) \".format(add_start_day, add_end_day)  \n",
    "\n",
    "warning = pd.read_sql(sql_warning, engine)\n",
    "print(warning.shape)\n",
    "# warning.head()"
   ]
  },
  {
   "cell_type": "code",
   "execution_count": 148,
   "metadata": {
    "ExecuteTime": {
     "end_time": "2018-09-18T09:23:11.663844Z",
     "start_time": "2018-09-18T09:23:11.511835Z"
    }
   },
   "outputs": [
    {
     "name": "stdout",
     "output_type": "stream",
     "text": [
      "去重前 (758, 7)\n",
      "去重后 (692, 7)\n"
     ]
    }
   ],
   "source": [
    "combined_data = pd.concat([human_additional, warning])\n",
    "print('去重前', combined_data.shape)\n",
    "combined_data = combined_data.drop_duplicates(subset = 'id')\n",
    "print('去重后', combined_data.shape)\n",
    "\n",
    "combined_data['group_id'] = combined_data['group_id'].apply(lambda x:group_dict[str(x)])\n",
    "combined_data['gather_type'] = combined_data['gather_type'].replace(0, '系统采集').replace(1, '人工补录').replace(2, '人工修改')\n",
    "combined_data['submited'] = combined_data['sec'].apply(lambda x: '预警' if x in [7,8,9] else '不预警')\n",
    "# combined_data.head()"
   ]
  },
  {
   "cell_type": "code",
   "execution_count": 149,
   "metadata": {
    "ExecuteTime": {
     "end_time": "2018-09-18T09:23:12.112869Z",
     "start_time": "2018-09-18T09:23:12.099869Z"
    }
   },
   "outputs": [
    {
     "data": {
      "text/plain": [
       "gather_type  group_id  submited\n",
       "人工修改         微博        预警            1\n",
       "             新闻        预警           14\n",
       "             新闻客户端     预警            2\n",
       "             纸媒        预警           23\n",
       "             论坛        预警            8\n",
       "人工补录         微博        预警           39\n",
       "             新闻        预警           13\n",
       "             纸媒        不预警           1\n",
       "                       预警           14\n",
       "系统采集         博客        预警            1\n",
       "             微信        预警            3\n",
       "             新闻        预警          411\n",
       "             新闻客户端     预警          159\n",
       "             纸媒        预警            3\n",
       "Name: id, dtype: int64"
      ]
     },
     "execution_count": 149,
     "metadata": {},
     "output_type": "execute_result"
    }
   ],
   "source": [
    "combined_data.groupby(['gather_type', 'group_id', 'submited'])['id'].count()"
   ]
  },
  {
   "cell_type": "code",
   "execution_count": 150,
   "metadata": {
    "ExecuteTime": {
     "end_time": "2018-09-18T09:23:53.152217Z",
     "start_time": "2018-09-18T09:23:12.589897Z"
    }
   },
   "outputs": [
    {
     "data": {
      "text/html": [
       "<div>\n",
       "<style scoped>\n",
       "    .dataframe tbody tr th:only-of-type {\n",
       "        vertical-align: middle;\n",
       "    }\n",
       "\n",
       "    .dataframe tbody tr th {\n",
       "        vertical-align: top;\n",
       "    }\n",
       "\n",
       "    .dataframe thead th {\n",
       "        text-align: right;\n",
       "    }\n",
       "</style>\n",
       "<table border=\"1\" class=\"dataframe\">\n",
       "  <thead>\n",
       "    <tr style=\"text-align: right;\">\n",
       "      <th></th>\n",
       "      <th>id</th>\n",
       "      <th>predict_label</th>\n",
       "      <th>label</th>\n",
       "      <th>cor</th>\n",
       "      <th>all_cor</th>\n",
       "    </tr>\n",
       "  </thead>\n",
       "  <tbody>\n",
       "    <tr>\n",
       "      <th>0</th>\n",
       "      <td>237144244</td>\n",
       "      <td>监管</td>\n",
       "      <td></td>\n",
       "      <td>1</td>\n",
       "      <td>1</td>\n",
       "    </tr>\n",
       "    <tr>\n",
       "      <th>1</th>\n",
       "      <td>237144328</td>\n",
       "      <td>监管</td>\n",
       "      <td></td>\n",
       "      <td>1</td>\n",
       "      <td>1</td>\n",
       "    </tr>\n",
       "    <tr>\n",
       "      <th>2</th>\n",
       "      <td>237167261</td>\n",
       "      <td>行业</td>\n",
       "      <td></td>\n",
       "      <td>1</td>\n",
       "      <td>1</td>\n",
       "    </tr>\n",
       "    <tr>\n",
       "      <th>3</th>\n",
       "      <td>237167264</td>\n",
       "      <td>资本市场</td>\n",
       "      <td></td>\n",
       "      <td>0</td>\n",
       "      <td>1</td>\n",
       "    </tr>\n",
       "    <tr>\n",
       "      <th>4</th>\n",
       "      <td>237167271</td>\n",
       "      <td>资本市场</td>\n",
       "      <td></td>\n",
       "      <td>0</td>\n",
       "      <td>1</td>\n",
       "    </tr>\n",
       "  </tbody>\n",
       "</table>\n",
       "</div>"
      ],
      "text/plain": [
       "          id predict_label label  cor  all_cor\n",
       "0  237144244            监管          1        1\n",
       "1  237144328            监管          1        1\n",
       "2  237167261            行业          1        1\n",
       "3  237167264          资本市场          0        1\n",
       "4  237167271          资本市场          0        1"
      ]
     },
     "execution_count": 150,
     "metadata": {},
     "output_type": "execute_result"
    }
   ],
   "source": [
    "# predict\n",
    "data = {\"record\":combined_data.loc[:,['id', 'title' ,'content']].to_dict(orient = 'records')}\n",
    "# url = \"http://192.168.0.104:11000/judge_correlation_yjh\"\n",
    "url = \"http://47.93.77.19:6001/judge_correlation_yjh\"\n",
    "parse_data = get_server_res_yjh(data, url, 'sec')\n",
    "# parse_data.head()  \n",
    "\n",
    "parse_data.columns = ['id', 'predict_label']\n",
    "parse_data['predict_label'] = parse_data['predict_label'].apply(lambda x:class_name_dict[x])\n",
    "parse_data['label'] = ''\n",
    "parse_data['cor'] = parse_data['predict_label'].apply(lambda x:1 if x in ['监管', '行业', '经营管理', '消费服务'] else 0)\n",
    "parse_data['all_cor'] = parse_data['predict_label'].apply(lambda x:1 if x != '噪音' else 0)\n",
    "parse_data.head()"
   ]
  },
  {
   "cell_type": "code",
   "execution_count": 151,
   "metadata": {
    "ExecuteTime": {
     "end_time": "2018-09-18T09:23:53.819255Z",
     "start_time": "2018-09-18T09:23:53.707249Z"
    },
    "collapsed": true
   },
   "outputs": [],
   "source": [
    "combined_data = pd.merge(combined_data, parse_data, on  = 'id')\n",
    "stat = combined_data.groupby(['group_id', 'gather_type', 'submited'])['id'].count().reset_index()\n",
    "\n",
    "# 补录\n",
    "stat_a = combined_data.groupby(['group_id', 'gather_type'])['id'].count().reset_index()\n",
    "stat_a = stat_a[stat_a['gather_type'] == '人工补录']\n",
    "\n",
    "# 补录且预警\n",
    "stat_a_w = combined_data[combined_data['submited'] == '预警'].groupby(['group_id', 'gather_type'])['id'].count().reset_index()\n",
    "stat_a_w = stat_a_w[stat_a_w['gather_type'] == '人工补录']\n",
    "\n",
    "# 预警\n",
    "stat_w = combined_data.groupby(['group_id', 'submited'])['id'].count().reset_index()\n",
    "stat_w = stat_w[stat_w['submited'] == '预警']\n",
    "\n",
    "# 补录-过算法\n",
    "stat_a_cor = combined_data[combined_data['gather_type'] == '人工补录'].groupby(['group_id', 'cor'])['id'].count().reset_index()\n",
    "stat_a_cor = stat_a_cor[stat_a_cor['cor'] == 1]\n",
    "\n",
    "# 补录且预警-过算法\n",
    "stat_a_w_cor = combined_data[(combined_data['submited'] == '预警') & \\\n",
    "                             (combined_data['gather_type'] == '人工补录')\\\n",
    "                            ].groupby(['group_id', 'cor'])['id'].count().reset_index()\n",
    "stat_a_w_cor = stat_a_w_cor[stat_a_w_cor['cor'] == 1]\n",
    "\n",
    "# 补录-过算法\n",
    "stat_a_cor_7 = combined_data[combined_data['gather_type'] == '人工补录'].groupby(['group_id', 'all_cor'])['id'].count().reset_index()\n",
    "stat_a_cor_7 = stat_a_cor_7[stat_a_cor_7['all_cor'] == 1]\n",
    "\n",
    "# 补录且预警-过算法\n",
    "stat_a_w_cor_7 = combined_data[(combined_data['submited'] == '预警') & \\\n",
    "                             (combined_data['gather_type'] == '人工补录')\\\n",
    "                            ].groupby(['group_id', 'all_cor'])['id'].count().reset_index()\n",
    "stat_a_w_cor_7 = stat_a_w_cor_7[stat_a_w_cor_7['all_cor'] == 1]"
   ]
  },
  {
   "cell_type": "code",
   "execution_count": 152,
   "metadata": {
    "ExecuteTime": {
     "end_time": "2018-09-18T09:23:54.362286Z",
     "start_time": "2018-09-18T09:23:54.333284Z"
    },
    "collapsed": true
   },
   "outputs": [],
   "source": [
    "stat_a = stat_a[['group_id', 'id']]\n",
    "stat_a.columns = ['来源', '补录']\n",
    "stat_a_w = stat_a_w[['group_id', 'id']]\n",
    "stat_a_w.columns = ['来源', '补录且预警']\n",
    "stat_w = stat_w[['group_id', 'id']]\n",
    "stat_w.columns = ['来源', '预警数量']\n",
    "stat_a_cor = stat_a_cor[['group_id', 'id']]\n",
    "stat_a_cor.columns = ['来源', '补录&过算法(4类)']\n",
    "stat_a_w_cor = stat_a_w_cor[['group_id', 'id']]\n",
    "stat_a_w_cor.columns = ['来源', '补录且预警&过算法(4类)']\n",
    "stat_a_cor_7 = stat_a_cor_7[['group_id', 'id']]\n",
    "stat_a_cor_7.columns = ['来源', '补录&过算法(7类)']\n",
    "stat_a_w_cor_7 = stat_a_w_cor_7[['group_id', 'id']]\n",
    "stat_a_w_cor_7.columns = ['来源', '补录且预警&过算法(7类)']"
   ]
  },
  {
   "cell_type": "code",
   "execution_count": 153,
   "metadata": {
    "ExecuteTime": {
     "end_time": "2018-09-18T09:23:54.974321Z",
     "start_time": "2018-09-18T09:23:54.876315Z"
    }
   },
   "outputs": [
    {
     "data": {
      "text/html": [
       "<div>\n",
       "<style scoped>\n",
       "    .dataframe tbody tr th:only-of-type {\n",
       "        vertical-align: middle;\n",
       "    }\n",
       "\n",
       "    .dataframe tbody tr th {\n",
       "        vertical-align: top;\n",
       "    }\n",
       "\n",
       "    .dataframe thead th {\n",
       "        text-align: right;\n",
       "    }\n",
       "</style>\n",
       "<table border=\"1\" class=\"dataframe\">\n",
       "  <thead>\n",
       "    <tr style=\"text-align: right;\">\n",
       "      <th>来源</th>\n",
       "      <th>微博</th>\n",
       "      <th>新闻</th>\n",
       "      <th>纸媒</th>\n",
       "      <th>博客</th>\n",
       "      <th>微信</th>\n",
       "      <th>新闻客户端</th>\n",
       "      <th>论坛</th>\n",
       "      <th>总量</th>\n",
       "    </tr>\n",
       "    <tr>\n",
       "      <th>保监会：2018-08-18 到 2018-09-17</th>\n",
       "      <th></th>\n",
       "      <th></th>\n",
       "      <th></th>\n",
       "      <th></th>\n",
       "      <th></th>\n",
       "      <th></th>\n",
       "      <th></th>\n",
       "      <th></th>\n",
       "    </tr>\n",
       "  </thead>\n",
       "  <tbody>\n",
       "    <tr>\n",
       "      <th>补录</th>\n",
       "      <td>39.000</td>\n",
       "      <td>13.000</td>\n",
       "      <td>15.000</td>\n",
       "      <td>0</td>\n",
       "      <td>0</td>\n",
       "      <td>0</td>\n",
       "      <td>0</td>\n",
       "      <td>67.000</td>\n",
       "    </tr>\n",
       "    <tr>\n",
       "      <th>预警数量</th>\n",
       "      <td>40.000</td>\n",
       "      <td>438.000</td>\n",
       "      <td>40.000</td>\n",
       "      <td>1.000</td>\n",
       "      <td>3.000</td>\n",
       "      <td>161.000</td>\n",
       "      <td>8.000</td>\n",
       "      <td>691.000</td>\n",
       "    </tr>\n",
       "    <tr>\n",
       "      <th>补录且预警</th>\n",
       "      <td>39.000</td>\n",
       "      <td>13.000</td>\n",
       "      <td>14.000</td>\n",
       "      <td>0</td>\n",
       "      <td>0</td>\n",
       "      <td>0</td>\n",
       "      <td>0</td>\n",
       "      <td>66.000</td>\n",
       "    </tr>\n",
       "    <tr>\n",
       "      <th>补录&amp;过算法(7类)</th>\n",
       "      <td>39.000</td>\n",
       "      <td>10.000</td>\n",
       "      <td>15.000</td>\n",
       "      <td>0</td>\n",
       "      <td>0</td>\n",
       "      <td>0</td>\n",
       "      <td>0</td>\n",
       "      <td>64.000</td>\n",
       "    </tr>\n",
       "    <tr>\n",
       "      <th>补录且预警&amp;过算法(7类)</th>\n",
       "      <td>39.000</td>\n",
       "      <td>10.000</td>\n",
       "      <td>14.000</td>\n",
       "      <td>0</td>\n",
       "      <td>0</td>\n",
       "      <td>0</td>\n",
       "      <td>0</td>\n",
       "      <td>63.000</td>\n",
       "    </tr>\n",
       "    <tr>\n",
       "      <th>补录且预警 / 预警-比例</th>\n",
       "      <td>98%</td>\n",
       "      <td>3%</td>\n",
       "      <td>35%</td>\n",
       "      <td>nan%</td>\n",
       "      <td>nan%</td>\n",
       "      <td>nan%</td>\n",
       "      <td>nan%</td>\n",
       "      <td>10%</td>\n",
       "    </tr>\n",
       "    <tr>\n",
       "      <th>补录且预警 / 补录-比例</th>\n",
       "      <td>100%</td>\n",
       "      <td>100%</td>\n",
       "      <td>93%</td>\n",
       "      <td>nan%</td>\n",
       "      <td>nan%</td>\n",
       "      <td>nan%</td>\n",
       "      <td>nan%</td>\n",
       "      <td>99%</td>\n",
       "    </tr>\n",
       "    <tr>\n",
       "      <th>补录&amp;过算法(7类) / 补录-比例</th>\n",
       "      <td>100%</td>\n",
       "      <td>77%</td>\n",
       "      <td>100%</td>\n",
       "      <td>nan%</td>\n",
       "      <td>nan%</td>\n",
       "      <td>nan%</td>\n",
       "      <td>nan%</td>\n",
       "      <td>96%</td>\n",
       "    </tr>\n",
       "    <tr>\n",
       "      <th>补录且预警&amp;过算法(7类) / 补录且预警-比例</th>\n",
       "      <td>100%</td>\n",
       "      <td>77%</td>\n",
       "      <td>100%</td>\n",
       "      <td>nan%</td>\n",
       "      <td>nan%</td>\n",
       "      <td>nan%</td>\n",
       "      <td>nan%</td>\n",
       "      <td>95%</td>\n",
       "    </tr>\n",
       "  </tbody>\n",
       "</table>\n",
       "</div>"
      ],
      "text/plain": [
       "来源                              微博      新闻     纸媒    博客    微信   新闻客户端    论坛  \\\n",
       "保监会：2018-08-18 到 2018-09-17                                                   \n",
       "补录                          39.000  13.000 15.000     0     0       0     0   \n",
       "预警数量                        40.000 438.000 40.000 1.000 3.000 161.000 8.000   \n",
       "补录且预警                       39.000  13.000 14.000     0     0       0     0   \n",
       "补录&过算法(7类)                  39.000  10.000 15.000     0     0       0     0   \n",
       "补录且预警&过算法(7类)               39.000  10.000 14.000     0     0       0     0   \n",
       "补录且预警 / 预警-比例                  98%      3%    35%  nan%  nan%    nan%  nan%   \n",
       "补录且预警 / 补录-比例                 100%    100%    93%  nan%  nan%    nan%  nan%   \n",
       "补录&过算法(7类) / 补录-比例            100%     77%   100%  nan%  nan%    nan%  nan%   \n",
       "补录且预警&过算法(7类) / 补录且预警-比例      100%     77%   100%  nan%  nan%    nan%  nan%   \n",
       "\n",
       "来源                               总量  \n",
       "保监会：2018-08-18 到 2018-09-17          \n",
       "补录                           67.000  \n",
       "预警数量                        691.000  \n",
       "补录且预警                        66.000  \n",
       "补录&过算法(7类)                   64.000  \n",
       "补录且预警&过算法(7类)                63.000  \n",
       "补录且预警 / 预警-比例                   10%  \n",
       "补录且预警 / 补录-比例                   99%  \n",
       "补录&过算法(7类) / 补录-比例              96%  \n",
       "补录且预警&过算法(7类) / 补录且预警-比例        95%  "
      ]
     },
     "execution_count": 153,
     "metadata": {},
     "output_type": "execute_result"
    }
   ],
   "source": [
    "stat = pd.merge(stat_a, stat_w, on = '来源', how = 'outer')\n",
    "stat = pd.merge(stat, stat_a_w, on = '来源', how = 'outer')\n",
    "# stat = pd.merge(stat, stat_a_cor, on = '来源')\n",
    "# stat = pd.merge(stat, stat_a_w_cor, on = '来源')\n",
    "stat = pd.merge(stat, stat_a_cor_7, on = '来源', how = 'outer')\n",
    "stat = pd.merge(stat, stat_a_w_cor_7, on = '来源', how = 'outer')\n",
    "stat = stat.set_index('来源').stack().unstack(0)\n",
    "# stat = stat.fillna(0)\n",
    "stat['总量'] =  stat.sum(axis = 1)\n",
    "stat.loc['补录且预警 / 预警-比例'] = stat.loc['补录且预警'] / stat.loc['预警数量'] \n",
    "stat.loc['补录且预警 / 预警-比例'] = stat.loc['补录且预警 / 预警-比例'].apply(lambda x: '{:.0f}%'.format(x*100))\n",
    "stat.loc['补录且预警 / 补录-比例'] = stat.loc['补录且预警'] / stat.loc['补录'] \n",
    "stat.loc['补录且预警 / 补录-比例'] = stat.loc['补录且预警 / 补录-比例'].apply(lambda x: '{:.0f}%'.format(x*100))\n",
    "# stat.loc['补录&过算法(4类) / 补录-比例'] = stat.loc['补录&过算法(4类)'] / stat.loc['补录'] \n",
    "# stat.loc['补录&过算法(4类) / 补录-比例'] = stat.loc['补录&过算法(4类) / 补录-比例'].apply(lambda x: '{:.0f}%'.format(x*100))\n",
    "# stat.loc['补录且预警&过算法(4类) / 预警-比例'] = stat.loc['补录且预警&过算法(4类)'] / stat.loc['预警数量'] \n",
    "# stat.loc['补录且预警&过算法(4类) / 预警-比例'] = stat.loc['补录且预警&过算法(4类) / 预警-比例'].apply(lambda x: '{:.0f}%'.format(x*100))\n",
    "stat.loc['补录&过算法(7类) / 补录-比例'] = stat.loc['补录&过算法(7类)'] / stat.loc['补录'] \n",
    "stat.loc['补录&过算法(7类) / 补录-比例'] = stat.loc['补录&过算法(7类) / 补录-比例'].apply(lambda x: '{:.0f}%'.format(x*100))\n",
    "stat.loc['补录且预警&过算法(7类) / 补录且预警-比例'] = stat.loc['补录且预警&过算法(7类)'] / stat.loc['补录且预警'] \n",
    "stat.loc['补录且预警&过算法(7类) / 补录且预警-比例'] = stat.loc['补录且预警&过算法(7类) / 补录且预警-比例'].apply(lambda x: '{:.0f}%'.format(x*100))\n",
    "stat.index.name = '保监会：{0} 到 {1}'.format(start_day, end_day)\n",
    "stat.fillna(0)"
   ]
  },
  {
   "cell_type": "markdown",
   "metadata": {},
   "source": [
    "### 导出一段时间补录数据用于训练"
   ]
  },
  {
   "cell_type": "code",
   "execution_count": 89,
   "metadata": {
    "ExecuteTime": {
     "end_time": "2018-09-18T07:04:55.375323Z",
     "start_time": "2018-09-18T07:04:55.365323Z"
    },
    "collapsed": true
   },
   "outputs": [],
   "source": [
    "# 人工补录\n",
    "sql_human_additional = \"select t1.id, t1.group_id, date_format(t1.publishtime,'%%Y-%%m-%%d') as publishtime,  \\\n",
    "                            t1.gather_type, t1.sec, t1.title, t2.text as content\\\n",
    "                            from elint_web_docinfo t1, wise_web_docinfo_text t2\\\n",
    "                                where (date_format(publishtime, '%%Y-%%m-%%d') >= '{0}' and \\\n",
    "                                      date_format(publishtime, '%%Y-%%m-%%d') <= '{1}') and \\\n",
    "                                      t1.id = t2.doc_id and \\\n",
    "                                      t1.gather_type = 1 \".format('2018-08-20', '2018-09-16') \n",
    "\n",
    "# human_additional = pd.read_sql(sql_human_additional, engine)\n",
    "# print(human_additional.shape)\n",
    "# human_additional.head()"
   ]
  },
  {
   "cell_type": "code",
   "execution_count": 90,
   "metadata": {
    "ExecuteTime": {
     "end_time": "2018-09-18T07:05:02.148711Z",
     "start_time": "2018-09-18T07:05:02.136710Z"
    },
    "collapsed": true
   },
   "outputs": [],
   "source": [
    "# 预警数据\n",
    "sql_warning =  \"select t1.id, t1.group_id, date_format(t1.publishtime,'%%Y-%%m-%%d') as publishtime,  \\\n",
    "                            t1.gather_type, t1.sec, t1.title, t2.text as content\\\n",
    "                            from elint_web_docinfo t1, wise_web_docinfo_text t2\\\n",
    "                                where (date_format(publishtime, '%%Y-%%m-%%d') >= '{0}' and \\\n",
    "                                      date_format(publishtime, '%%Y-%%m-%%d') <= '{1}') and \\\n",
    "                                      t1.id = t2.doc_id and \\\n",
    "                                      t1.sec in (7,8,9) \".format('2018-08-20', '2018-09-16') \n",
    "\n",
    "# warning = pd.read_sql(sql_warning, engine)\n",
    "# print(warning.shape)\n",
    "# warning.head()"
   ]
  },
  {
   "cell_type": "code",
   "execution_count": null,
   "metadata": {
    "ExecuteTime": {
     "start_time": "2018-09-17T10:05:15.899Z"
    }
   },
   "outputs": [
    {
     "name": "stdout",
     "output_type": "stream",
     "text": [
      "去重前 (9798, 7)\n",
      "去重后 (8939, 7)\n"
     ]
    }
   ],
   "source": [
    "if 0:\n",
    "    # url = \"http://192.168.0.104:11000/judge_correlation_yjh\"\n",
    "    url = \"http://47.93.77.19:6001/judge_correlation_yjh\"\n",
    "    folder = 'cbrc_result_class'\n",
    "    filename = 'cbrc_add&warning_20180917(0820-0916).xlsx'\n",
    "    get_period_data_for_training(human_additional, warning, url, folder, filename, 'cbrc')"
   ]
  },
  {
   "cell_type": "markdown",
   "metadata": {},
   "source": [
    "# 银保监会--新"
   ]
  },
  {
   "cell_type": "markdown",
   "metadata": {},
   "source": [
    "## 特殊时间点"
   ]
  },
  {
   "cell_type": "code",
   "execution_count": 12,
   "metadata": {
    "ExecuteTime": {
     "end_time": "2018-09-19T02:10:21.452501Z",
     "start_time": "2018-09-19T02:10:11.264005Z"
    },
    "collapsed": true
   },
   "outputs": [],
   "source": [
    "engine = specific_func.get_engine('cbirc')"
   ]
  },
  {
   "cell_type": "code",
   "execution_count": 13,
   "metadata": {
    "ExecuteTime": {
     "end_time": "2018-09-19T02:10:21.482503Z",
     "start_time": "2018-09-19T02:10:21.478503Z"
    },
    "collapsed": true
   },
   "outputs": [],
   "source": [
    "cbirc_day_thing = [['2018-05-02', '相关性模型'], \n",
    "             ['2018-06-01', '更新相关性模型'], \n",
    "             ['2018-06-12', '更新相关性模型'], \n",
    "             ['2018-06-12', '上线倾向性模型']\n",
    "            ]"
   ]
  },
  {
   "cell_type": "markdown",
   "metadata": {},
   "source": [
    "## 八分类"
   ]
  },
  {
   "cell_type": "code",
   "execution_count": null,
   "metadata": {
    "ExecuteTime": {
     "start_time": "2018-09-19T01:52:35.604Z"
    },
    "collapsed": true
   },
   "outputs": [],
   "source": [
    "sql_cbirc = '''\n",
    "select \n",
    "    date_format(t2.publishtime,'%%Y-%%m-%%d') as publishtime, t1.type, \n",
    "    t3.traffic_id as classify, count(t1.id) as count \n",
    "from db_docinfo_trade t1\n",
    "        left join \n",
    "    db_docinfo t2 on t1.urlhash = t2.urlhash\n",
    "        left join \n",
    "    db_classify_traffic_docinfo t3  on t2.urlhash = t3.urlhash\n",
    "where (date_format(t2.publishtime, '%%Y-%%m-%%d') >= '{0}' and \n",
    "      date_format(t2.publishtime, '%%Y-%%m-%%d') <= '{1}') \n",
    "group by date_format(t2.publishtime,'%%Y-%%m-%%d'), t1.type, t3.traffic_id \n",
    "order by date_format(t2.publishtime,'%%Y-%%m-%%d') desc'''.format(start_day, end_day) \n",
    "\n",
    "cbirc_count = pd.read_sql(sql_cbirc, engine)\n",
    "cbirc_count['classify'] = cbirc_count['classify'].apply(lambda x:class_name_dict[x])\n",
    "cbirc_count.head()"
   ]
  },
  {
   "cell_type": "code",
   "execution_count": 15,
   "metadata": {
    "ExecuteTime": {
     "end_time": "2018-09-19T02:10:39.287853Z",
     "start_time": "2018-09-19T02:10:38.999440Z"
    }
   },
   "outputs": [
    {
     "data": {
      "text/html": [
       "<div>\n",
       "<style scoped>\n",
       "    .dataframe tbody tr th:only-of-type {\n",
       "        vertical-align: middle;\n",
       "    }\n",
       "\n",
       "    .dataframe tbody tr th {\n",
       "        vertical-align: top;\n",
       "    }\n",
       "\n",
       "    .dataframe thead th {\n",
       "        text-align: right;\n",
       "    }\n",
       "</style>\n",
       "<table border=\"1\" class=\"dataframe\">\n",
       "  <thead>\n",
       "    <tr style=\"text-align: right;\">\n",
       "      <th></th>\n",
       "      <th>urlhash</th>\n",
       "      <th>type</th>\n",
       "      <th>publishtime</th>\n",
       "    </tr>\n",
       "  </thead>\n",
       "  <tbody>\n",
       "    <tr>\n",
       "      <th>0</th>\n",
       "      <td>-9223371258836227659</td>\n",
       "      <td>2</td>\n",
       "      <td>2018-09-05</td>\n",
       "    </tr>\n",
       "    <tr>\n",
       "      <th>1</th>\n",
       "      <td>-9223365503288202518</td>\n",
       "      <td>1</td>\n",
       "      <td>2018-09-07</td>\n",
       "    </tr>\n",
       "    <tr>\n",
       "      <th>2</th>\n",
       "      <td>-9223363393600594458</td>\n",
       "      <td>1</td>\n",
       "      <td>2018-09-10</td>\n",
       "    </tr>\n",
       "    <tr>\n",
       "      <th>3</th>\n",
       "      <td>-9223330839580335339</td>\n",
       "      <td>2</td>\n",
       "      <td>2018-09-18</td>\n",
       "    </tr>\n",
       "    <tr>\n",
       "      <th>4</th>\n",
       "      <td>-9223328479621995561</td>\n",
       "      <td>1</td>\n",
       "      <td>2018-09-14</td>\n",
       "    </tr>\n",
       "  </tbody>\n",
       "</table>\n",
       "</div>"
      ],
      "text/plain": [
       "               urlhash  type publishtime\n",
       "0 -9223371258836227659     2  2018-09-05\n",
       "1 -9223365503288202518     1  2018-09-07\n",
       "2 -9223363393600594458     1  2018-09-10\n",
       "3 -9223330839580335339     2  2018-09-18\n",
       "4 -9223328479621995561     1  2018-09-14"
      ]
     },
     "execution_count": 15,
     "metadata": {},
     "output_type": "execute_result"
    }
   ],
   "source": [
    "sql_1 = '''\n",
    "select \n",
    "    t1.urlhash, t1.type, date_format(t2.publishtime,'%%Y-%%m-%%d') as publishtime\n",
    "from \n",
    "    db_docinfo_trade t1, db_docinfo t2\n",
    "where (date_format(t2.publishtime, '%%Y-%%m-%%d') >= '{0}' and \n",
    "      date_format(t2.publishtime, '%%Y-%%m-%%d') <= '{1}') and\n",
    "      t1.urlhash = t2.urlhash'''.format(start_day, end_day) \n",
    "\n",
    "cbirc_count_1 = pd.read_sql(sql_1, engine)\n",
    "cbirc_count_1.head()"
   ]
  },
  {
   "cell_type": "code",
   "execution_count": null,
   "metadata": {
    "ExecuteTime": {
     "start_time": "2018-09-19T02:10:48.281Z"
    },
    "collapsed": true
   },
   "outputs": [],
   "source": [
    "sql_2 = '''\n",
    "select \n",
    "    t1.urlhash, t1.traffic_id as classify\n",
    "from \n",
    "    db_classify_traffic_docinfo t1, db_docinfo t2\n",
    "where (date_format(t2.publishtime, '%%Y-%%m-%%d') >= '{0}' and \n",
    "      date_format(t2.publishtime, '%%Y-%%m-%%d') <= '{1}') and\n",
    "      t1.urlhash = t2.urlhash'''.format(start_day, end_day) \n",
    "\n",
    "cbirc_count_2 = pd.read_sql(sql_2, engine)\n",
    "cbirc_count_2.head()"
   ]
  },
  {
   "cell_type": "code",
   "execution_count": null,
   "metadata": {
    "collapsed": true
   },
   "outputs": [],
   "source": []
  },
  {
   "cell_type": "markdown",
   "metadata": {
    "collapsed": true
   },
   "source": [
    "### 银监会"
   ]
  },
  {
   "cell_type": "code",
   "execution_count": null,
   "metadata": {
    "collapsed": true
   },
   "outputs": [],
   "source": [
    "class_count = cbirc_count[cbirc_count['type'] == 1].drop('type', axis = 1)\n",
    "cor_class_1, cor_class, count_data_7, count_data_4 = get_class_data(class_count)\n",
    "cor_class_1.sort_index(ascending = False).head()"
   ]
  },
  {
   "cell_type": "code",
   "execution_count": null,
   "metadata": {
    "collapsed": true
   },
   "outputs": [],
   "source": [
    "cor_class['rate'].reset_index().fillna(0).plot(x = 'publishtime', figsize = (15,6))\n",
    "cor_class.sort_index(ascending = False).head()"
   ]
  },
  {
   "cell_type": "code",
   "execution_count": null,
   "metadata": {
    "collapsed": true
   },
   "outputs": [],
   "source": [
    "plot_cor(count_data_4, cbrc_day_thing, \"CBRC 8-class cor&uncor:7-1\")"
   ]
  },
  {
   "cell_type": "code",
   "execution_count": null,
   "metadata": {
    "collapsed": true
   },
   "outputs": [],
   "source": [
    "plot_cor(count_data_4, cbrc_day_thing, \"CBRC 8-class cor&uncor:4-4\")"
   ]
  },
  {
   "cell_type": "markdown",
   "metadata": {},
   "source": [
    "### 保监会"
   ]
  },
  {
   "cell_type": "code",
   "execution_count": null,
   "metadata": {
    "collapsed": true
   },
   "outputs": [],
   "source": []
  },
  {
   "cell_type": "markdown",
   "metadata": {},
   "source": [
    "### 中国人寿"
   ]
  },
  {
   "cell_type": "code",
   "execution_count": null,
   "metadata": {
    "collapsed": true
   },
   "outputs": [],
   "source": []
  },
  {
   "cell_type": "code",
   "execution_count": null,
   "metadata": {
    "collapsed": true
   },
   "outputs": [],
   "source": []
  },
  {
   "cell_type": "markdown",
   "metadata": {},
   "source": [
    "### 建行北分"
   ]
  },
  {
   "cell_type": "code",
   "execution_count": null,
   "metadata": {
    "collapsed": true
   },
   "outputs": [],
   "source": []
  },
  {
   "cell_type": "markdown",
   "metadata": {},
   "source": [
    "## 倾向性"
   ]
  },
  {
   "cell_type": "code",
   "execution_count": 157,
   "metadata": {
    "ExecuteTime": {
     "end_time": "2018-09-18T09:30:44.329735Z",
     "start_time": "2018-09-18T09:26:23.167797Z"
    }
   },
   "outputs": [
    {
     "data": {
      "text/html": [
       "<div>\n",
       "<style scoped>\n",
       "    .dataframe tbody tr th:only-of-type {\n",
       "        vertical-align: middle;\n",
       "    }\n",
       "\n",
       "    .dataframe tbody tr th {\n",
       "        vertical-align: top;\n",
       "    }\n",
       "\n",
       "    .dataframe thead th {\n",
       "        text-align: right;\n",
       "    }\n",
       "</style>\n",
       "<table border=\"1\" class=\"dataframe\">\n",
       "  <thead>\n",
       "    <tr style=\"text-align: right;\">\n",
       "      <th></th>\n",
       "      <th>publishtime</th>\n",
       "      <th>type</th>\n",
       "      <th>tendency</th>\n",
       "      <th>cor_count</th>\n",
       "    </tr>\n",
       "  </thead>\n",
       "  <tbody>\n",
       "    <tr>\n",
       "      <th>0</th>\n",
       "      <td>2018-09-17</td>\n",
       "      <td>1</td>\n",
       "      <td>-1</td>\n",
       "      <td>1108</td>\n",
       "    </tr>\n",
       "    <tr>\n",
       "      <th>1</th>\n",
       "      <td>2018-09-17</td>\n",
       "      <td>1</td>\n",
       "      <td>0</td>\n",
       "      <td>66802</td>\n",
       "    </tr>\n",
       "    <tr>\n",
       "      <th>2</th>\n",
       "      <td>2018-09-17</td>\n",
       "      <td>2</td>\n",
       "      <td>-1</td>\n",
       "      <td>273</td>\n",
       "    </tr>\n",
       "    <tr>\n",
       "      <th>3</th>\n",
       "      <td>2018-09-17</td>\n",
       "      <td>2</td>\n",
       "      <td>0</td>\n",
       "      <td>65117</td>\n",
       "    </tr>\n",
       "    <tr>\n",
       "      <th>4</th>\n",
       "      <td>2018-09-17</td>\n",
       "      <td>3</td>\n",
       "      <td>-1</td>\n",
       "      <td>104</td>\n",
       "    </tr>\n",
       "  </tbody>\n",
       "</table>\n",
       "</div>"
      ],
      "text/plain": [
       "  publishtime  type  tendency  cor_count\n",
       "0  2018-09-17     1        -1       1108\n",
       "1  2018-09-17     1         0      66802\n",
       "2  2018-09-17     2        -1        273\n",
       "3  2018-09-17     2         0      65117\n",
       "4  2018-09-17     3        -1        104"
      ]
     },
     "execution_count": 157,
     "metadata": {},
     "output_type": "execute_result"
    }
   ],
   "source": [
    "sql_tend = \"select date_format(t2.publishtime,'%%Y-%%m-%%d') as publishtime, t1.type, \\\n",
    "                    t1.sen as tendency, count(t1.id) as cor_count \\\n",
    "                            from db_docinfo_trade t1, db_docinfo t2 \\\n",
    "                                where (date_format(t2.publishtime, '%%Y-%%m-%%d') >= '{0}' and \\\n",
    "                                      date_format(t2.publishtime, '%%Y-%%m-%%d') <= '{1}') and \\\n",
    "                                      t1.urlhash = t2.urlhash \\\n",
    "                                group by date_format(t2.publishtime,'%%Y-%%m-%%d'), t1.type, t1.sen \\\n",
    "                                order by date_format(t2.publishtime,'%%Y-%%m-%%d') desc\".format(start_day, end_day) \n",
    "\n",
    "tend_count = pd.read_sql(sql_tend, engine)\n",
    "tend_count = tend_count[tend_count['tendency'] != 1]\n",
    "tend_count.head()"
   ]
  },
  {
   "cell_type": "markdown",
   "metadata": {},
   "source": [
    "### 银监会"
   ]
  },
  {
   "cell_type": "code",
   "execution_count": 159,
   "metadata": {
    "ExecuteTime": {
     "end_time": "2018-09-18T09:31:56.062838Z",
     "start_time": "2018-09-18T09:31:55.477804Z"
    }
   },
   "outputs": [
    {
     "data": {
      "image/png": "[encoded data removed]",
      "text/plain": [
       "<matplotlib.figure.Figure at 0xffada58>"
      ]
     },
     "metadata": {},
     "output_type": "display_data"
    },
    {
     "name": "stdout",
     "output_type": "stream",
     "text": [
      "   publishtime      neg       pos       sum  neg_rate  pos_rate\n",
      "28  2018-09-17 1108.000 66802.000 67910.000     0.016     0.984\n",
      "27  2018-09-16 2143.000 32349.000 34492.000     0.062     0.938\n",
      "26  2018-09-15 3916.000 37340.000 41256.000     0.095     0.905\n",
      "25  2018-09-14 7190.000 72087.000 79277.000     0.091     0.909\n",
      "24  2018-09-13 6089.000 62320.000 68409.000     0.089     0.911\n"
     ]
    }
   ],
   "source": [
    "plot_tend(tend_count[tend_count['type'] == 1].drop('type', axis = 1), cbrc_day_thing, \"CBRC - tendency \")"
   ]
  },
  {
   "cell_type": "markdown",
   "metadata": {},
   "source": [
    "### 保监会"
   ]
  },
  {
   "cell_type": "code",
   "execution_count": 160,
   "metadata": {
    "ExecuteTime": {
     "end_time": "2018-09-18T09:32:57.510352Z",
     "start_time": "2018-09-18T09:32:57.034325Z"
    }
   },
   "outputs": [
    {
     "data": {
      "image/png": "[encoded data removed]",
      "text/plain": [
       "<matplotlib.figure.Figure at 0x10d4fb70>"
      ]
     },
     "metadata": {},
     "output_type": "display_data"
    },
    {
     "name": "stdout",
     "output_type": "stream",
     "text": [
      "   publishtime      neg       pos       sum  neg_rate  pos_rate\n",
      "25  2018-09-17  273.000 65117.000 65390.000     0.004     0.996\n",
      "24  2018-09-16  257.000 38633.000 38890.000     0.007     0.993\n",
      "23  2018-09-15  477.000 40931.000 41408.000     0.012     0.988\n",
      "22  2018-09-14 1045.000 73585.000 74630.000     0.014     0.986\n",
      "21  2018-09-13 1003.000 62930.000 63933.000     0.016     0.984\n"
     ]
    }
   ],
   "source": [
    "plot_tend(tend_count[tend_count['type'] == 2].drop('type', axis = 1), circ_day_thing, \"CIRC - tendency \")"
   ]
  },
  {
   "cell_type": "markdown",
   "metadata": {},
   "source": [
    "### 中国人寿"
   ]
  },
  {
   "cell_type": "code",
   "execution_count": 161,
   "metadata": {
    "ExecuteTime": {
     "end_time": "2018-09-18T09:33:08.723994Z",
     "start_time": "2018-09-18T09:33:08.228965Z"
    }
   },
   "outputs": [
    {
     "data": {
      "image/png": "[encoded data removed]",
      "text/plain": [
       "<matplotlib.figure.Figure at 0xd451320>"
      ]
     },
     "metadata": {},
     "output_type": "display_data"
    },
    {
     "name": "stdout",
     "output_type": "stream",
     "text": [
      "   publishtime     neg      pos      sum  neg_rate  pos_rate\n",
      "24  2018-09-17 104.000 5610.000 5714.000     0.018     0.982\n",
      "23  2018-09-16  48.000 3698.000 3746.000     0.013     0.987\n",
      "22  2018-09-15  50.000 4156.000 4206.000     0.012     0.988\n",
      "21  2018-09-14  58.000 7952.000 8010.000     0.007     0.993\n",
      "20  2018-09-13 261.000 6351.000 6612.000     0.039     0.961\n"
     ]
    }
   ],
   "source": [
    "plot_tend(tend_count[tend_count['type'] == 3].drop('type', axis = 1), circ_day_thing, \"CLIC - tendency \")"
   ]
  },
  {
   "cell_type": "markdown",
   "metadata": {},
   "source": [
    "### 建行北分"
   ]
  },
  {
   "cell_type": "code",
   "execution_count": 162,
   "metadata": {
    "ExecuteTime": {
     "end_time": "2018-09-18T09:33:13.251253Z",
     "start_time": "2018-09-18T09:33:12.758224Z"
    }
   },
   "outputs": [
    {
     "data": {
      "image/png": "[encoded data removed]",
      "text/plain": [
       "<matplotlib.figure.Figure at 0xdace358>"
      ]
     },
     "metadata": {},
     "output_type": "display_data"
    },
    {
     "name": "stdout",
     "output_type": "stream",
     "text": [
      "   publishtime     neg      pos      sum  neg_rate  pos_rate\n",
      "24  2018-09-17 123.000 2803.000 2926.000     0.042     0.958\n",
      "23  2018-09-16  36.000  574.000  610.000     0.059     0.941\n",
      "22  2018-09-15  31.000  523.000  554.000     0.056     0.944\n",
      "21  2018-09-14  55.000 1494.000 1549.000     0.036     0.964\n",
      "20  2018-09-13 208.000 3351.000 3559.000     0.058     0.942\n"
     ]
    }
   ],
   "source": [
    "plot_tend(tend_count[tend_count['type'] == 4].drop('type', axis = 1), cbrc_day_thing, \"CCB - tendency \")"
   ]
  },
  {
   "cell_type": "markdown",
   "metadata": {},
   "source": [
    "## 补录和预警"
   ]
  },
  {
   "cell_type": "code",
   "execution_count": null,
   "metadata": {
    "collapsed": true
   },
   "outputs": [],
   "source": []
  },
  {
   "cell_type": "code",
   "execution_count": null,
   "metadata": {
    "collapsed": true
   },
   "outputs": [],
   "source": []
  }
 ],
 "metadata": {
  "kernelspec": {
   "display_name": "Python 3",
   "language": "python",
   "name": "python3"
  },
  "language_info": {
   "codemirror_mode": {
    "name": "ipython",
    "version": 3
   },
   "file_extension": ".py",
   "mimetype": "text/x-python",
   "name": "python",
   "nbconvert_exporter": "python",
   "pygments_lexer": "ipython3",
   "version": "3.6.3"
  },
  "toc": {
   "nav_menu": {},
   "number_sections": true,
   "sideBar": true,
   "skip_h1_title": false,
   "title_cell": "Table of Contents",
   "title_sidebar": "Contents",
   "toc_cell": false,
   "toc_position": {
    "height": "calc(100% - 180px)",
    "left": "10px",
    "top": "150px",
    "width": "376px"
   },
   "toc_section_display": true,
   "toc_window_display": true
  },
  "varInspector": {
   "cols": {
    "lenName": 16,
    "lenType": 16,
    "lenVar": 40
   },
   "kernels_config": {
    "python": {
     "delete_cmd_postfix": "",
     "delete_cmd_prefix": "del ",
     "library": "var_list.py",
     "varRefreshCmd": "print(var_dic_list())"
    },
    "r": {
     "delete_cmd_postfix": ") ",
     "delete_cmd_prefix": "rm(",
     "library": "var_list.r",
     "varRefreshCmd": "cat(var_dic_list()) "
    }
   },
   "types_to_exclude": [
    "module",
    "function",
    "builtin_function_or_method",
    "instance",
    "_Feature"
   ],
   "window_display": false
  }
 },
 "nbformat": 4,
 "nbformat_minor": 2
}
