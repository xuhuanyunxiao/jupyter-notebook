{
 "cells": [
  {
   "cell_type": "markdown",
   "metadata": {
    "ExecuteTime": {
     "end_time": "2018-09-10T06:12:36.169323Z",
     "start_time": "2018-09-10T06:12:36.152322Z"
    }
   },
   "source": [
    "# 本文件说明\n",
    "- 训练模型,查看模型结果：包括K-fold、概率结果"
   ]
  },
  {
   "cell_type": "markdown",
   "metadata": {},
   "source": [
    "# 基本设置"
   ]
  },
  {
   "cell_type": "code",
   "execution_count": 44,
   "metadata": {
    "ExecuteTime": {
     "end_time": "2018-09-10T12:15:27.267559Z",
     "start_time": "2018-09-10T12:15:27.086548Z"
    },
    "collapsed": true
   },
   "outputs": [],
   "source": [
    "import jieba\n",
    "from jieba import analyse\n",
    "import sys\n",
    "import re\n",
    "import time\n",
    "import string\n",
    "from sklearn import feature_extraction\n",
    "from sklearn.pipeline import Pipeline,FeatureUnion\n",
    "from sklearn.model_selection import GridSearchCV\n",
    "from sklearn.feature_extraction.text import TfidfTransformer\n",
    "from sklearn.feature_extraction.text import CountVectorizer\n",
    "\n",
    "from sklearn.feature_extraction.text import TfidfVectorizer\n",
    "from sklearn.feature_selection import SelectKBest, chi2,mutual_info_classif,f_classif \n",
    "from sklearn.preprocessing import StandardScaler\n",
    "\n",
    "import xgboost as xgb\n",
    "from xgboost import XGBClassifier\n",
    "from sklearn import metrics\n",
    "\n",
    "from sklearn.base import BaseEstimator, TransformerMixin\n",
    "\n",
    "%matplotlib inline\n",
    "import numpy as np\n",
    "import pandas as pd\n",
    "import os\n",
    "from sklearn.model_selection import train_test_split\n",
    "from collections import Counter\n",
    "\n",
    "import warnings\n",
    "warnings.filterwarnings('ignore')"
   ]
  },
  {
   "cell_type": "code",
   "execution_count": 45,
   "metadata": {
    "ExecuteTime": {
     "end_time": "2018-09-10T12:15:27.346563Z",
     "start_time": "2018-09-10T12:15:27.275559Z"
    },
    "collapsed": true
   },
   "outputs": [],
   "source": [
    "from toolkits.nlp.generate_keywords import generate_keywords\n",
    "from toolkits.nlp import myclass_circ\n",
    "from toolkits.nlp import myclass_cbrc"
   ]
  },
  {
   "cell_type": "markdown",
   "metadata": {},
   "source": [
    "## 一些函数"
   ]
  },
  {
   "cell_type": "code",
   "execution_count": 46,
   "metadata": {
    "ExecuteTime": {
     "end_time": "2018-09-10T12:15:27.493572Z",
     "start_time": "2018-09-10T12:15:27.351564Z"
    },
    "collapsed": true
   },
   "outputs": [],
   "source": [
    "def title_content_label(filepath):\n",
    "    title = []\n",
    "    filename = filepath + 'titles.txt'\n",
    "    fid = open(filename, \"r+\", encoding='UTF-8')\n",
    "    for f in fid:\n",
    "        title.append(f.strip().replace('\\n', ''))\n",
    "    fid.close()\n",
    "    print('title num: ', len(title))\n",
    "    print(title[:2])\n",
    "\n",
    "    content = []\n",
    "    filename = filepath + 'contents.txt'\n",
    "    fid = open(filename, \"r+\", encoding='UTF-8')\n",
    "    for f in fid:\n",
    "        content.append(f.strip().replace('\\n', ''))\n",
    "    fid.close()\n",
    "    print('content num: ', len(content))\n",
    "    # content[:2]\n",
    "\n",
    "    title_content = [t + ' ' + c for t,c in zip(title, content)]\n",
    "    print('title_content num: ', len(title_content))\n",
    "\n",
    "    label = []\n",
    "    filename = filepath + 'labels.txt'\n",
    "    fid = open(filename, \"r+\", encoding='UTF-8')\n",
    "    for f in fid:\n",
    "        label.append(f.strip().replace('\\n', ''))\n",
    "    fid.close()\n",
    "    print('label num: ', len(label))\n",
    "    print(label[:5])\n",
    "    \n",
    "    return title_content, label"
   ]
  },
  {
   "cell_type": "code",
   "execution_count": null,
   "metadata": {
    "collapsed": true
   },
   "outputs": [],
   "source": []
  },
  {
   "cell_type": "code",
   "execution_count": 47,
   "metadata": {
    "ExecuteTime": {
     "end_time": "2018-09-10T12:15:27.622579Z",
     "start_time": "2018-09-10T12:15:27.496572Z"
    },
    "collapsed": true
   },
   "outputs": [],
   "source": [
    "def cal_kfold(title_content, label, pipeline):\n",
    "    from sklearn.model_selection import KFold\n",
    "    import numpy as np\n",
    "\n",
    "    kf = KFold(n_splits=5, shuffle=True, random_state=0)\n",
    "    title_content = np.array(title_content)\n",
    "    label = np.array(label)\n",
    "\n",
    "    num = 0\n",
    "    for train_index , test_index in kf.split(title_content):\n",
    "        print('---- %s'%(num+1))\n",
    "        X_train,X_test = title_content[train_index], title_content[test_index]\n",
    "        y_train,y_test = label[train_index], label[test_index]\n",
    "        \n",
    "        pipeline.fit(X_train, y_train)\n",
    "        print(pipeline.score(X_train, y_train))    \n",
    "\n",
    "        y_pred_class = pipeline.predict(X_test)\n",
    "        print('accuracy_score: ', metrics.accuracy_score(y_test, y_pred_class)) # 指所有分类正确的百分比\n",
    "        print(metrics.classification_report(y_test, y_pred_class))\n",
    "        print('confusion_matrix: ')\n",
    "        print( metrics.confusion_matrix(y_test, y_pred_class))    \n",
    "\n",
    "        num += 1"
   ]
  },
  {
   "cell_type": "code",
   "execution_count": 48,
   "metadata": {
    "ExecuteTime": {
     "end_time": "2018-09-10T12:15:27.746586Z",
     "start_time": "2018-09-10T12:15:27.624579Z"
    },
    "collapsed": true
   },
   "outputs": [],
   "source": [
    "def plot_class_proba(y_pred_class, y_pred_prob):\n",
    "    import seaborn as sns\n",
    "    import matplotlib.pyplot as plt\n",
    "\n",
    "    sel_data = pd.DataFrame()\n",
    "    sel_data['predict_label'] = y_pred_class\n",
    "    sel_data['predict_proba'] = y_pred_prob.max(axis = 1)\n",
    "    sel_data['label'] = y_test\n",
    "\n",
    "    label_dic={'监管':1,'行业':2,'产品销售':3,'资本市场':4,'公司内部管理':5,'消费服务':6,'其他相关报道':7,'噪音':8}\n",
    "    # sel_data['predict_label'] = sel_data['predict_label'].apply(lambda x:label_dic[x])\n",
    "    g = sns.FacetGrid(sel_data, col=\"predict_label\", col_wrap=4, sharex=False)\n",
    "    g.map(plt.hist, \"predict_proba\", bins = 10)\n",
    "\n",
    "    sel_data['proba'] = sel_data['predict_proba'].apply(lambda x:round(x, 1))\n",
    "    sel_data_stat = sel_data.groupby(['predict_label', 'proba'])['predict_proba'].count().unstack().fillna(0)\n",
    "    sel_data_stat['sum'] = sel_data_stat.sum(axis = 1)\n",
    "    sel_data_stat.loc['sum'] = sel_data_stat.sum(axis = 0)\n",
    "    return sel_data_stat"
   ]
  },
  {
   "cell_type": "markdown",
   "metadata": {
    "collapsed": true
   },
   "source": [
    "# 保险业：1 八分类"
   ]
  },
  {
   "cell_type": "markdown",
   "metadata": {},
   "source": [
    "## 导入与分割数据"
   ]
  },
  {
   "cell_type": "code",
   "execution_count": 49,
   "metadata": {
    "ExecuteTime": {
     "end_time": "2018-09-10T12:15:28.891652Z",
     "start_time": "2018-09-10T12:15:27.750586Z"
    }
   },
   "outputs": [
    {
     "name": "stdout",
     "output_type": "stream",
     "text": [
      "title num:  16865\n",
      "['天安 销售 虚列费用 员工 发 福利 相关 负责人 被处罚', '泰康人寿 疑设 招聘 骗局 元 底薪 扣到 剩 元']\n",
      "content num:  16865\n",
      "title_content num:  16865\n",
      "label num:  16865\n",
      "['公司内部管理', '公司内部管理', '公司内部管理', '公司内部管理', '公司内部管理']\n"
     ]
    }
   ],
   "source": [
    "cbrc_filepath_class = 'circ_result_class/corpus/'\n",
    "title_content, label = title_content_label(cbrc_filepath_class)"
   ]
  },
  {
   "cell_type": "code",
   "execution_count": 50,
   "metadata": {
    "ExecuteTime": {
     "end_time": "2018-09-10T12:15:28.912653Z",
     "start_time": "2018-09-10T12:15:28.898652Z"
    }
   },
   "outputs": [
    {
     "data": {
      "text/plain": [
       "{1: '监管',\n",
       " 2: '行业',\n",
       " 3: '产品销售',\n",
       " 4: '资本市场',\n",
       " 5: '公司内部管理',\n",
       " 6: '消费服务',\n",
       " 7: '其他相关报道',\n",
       " 8: '噪音'}"
      ]
     },
     "execution_count": 50,
     "metadata": {},
     "output_type": "execute_result"
    }
   ],
   "source": [
    "label_dic={'监管':1,'行业':2,'产品销售':3,'资本市场':4,'公司内部管理':5,'消费服务':6,'其他相关报道':7,'噪音':8}\n",
    "class_name_dict = {v: k for k, v in label_dic.items()}\n",
    "class_name_dict"
   ]
  },
  {
   "cell_type": "code",
   "execution_count": 51,
   "metadata": {
    "ExecuteTime": {
     "end_time": "2018-09-10T12:15:29.017659Z",
     "start_time": "2018-09-10T12:15:28.922653Z"
    }
   },
   "outputs": [
    {
     "data": {
      "text/plain": [
       "[5, 5, 5, 5, 5]"
      ]
     },
     "execution_count": 51,
     "metadata": {},
     "output_type": "execute_result"
    }
   ],
   "source": [
    "label = [label_dic[l] for l in label]\n",
    "label[:5]"
   ]
  },
  {
   "cell_type": "code",
   "execution_count": null,
   "metadata": {
    "ExecuteTime": {
     "start_time": "2018-09-10T12:15:27.138Z"
    }
   },
   "outputs": [
    {
     "name": "stdout",
     "output_type": "stream",
     "text": [
      "训练集： 11805\n",
      "训练集-各类数量： Counter({8: 3391, 2: 1564, 5: 1480, 1: 1382, 7: 1278, 6: 1232, 4: 834, 3: 644})\n",
      "测试集： 5060\n",
      "测试集-各类数量： Counter({8: 1444, 2: 667, 1: 632, 5: 589, 6: 553, 7: 519, 4: 350, 3: 306})\n"
     ]
    }
   ],
   "source": [
    "X_train, X_test, y_train, y_test = train_test_split(title_content, label, test_size=0.3, random_state=42)\n",
    "print('训练集：',len(y_train))\n",
    "print('训练集-各类数量：',Counter(y_train))\n",
    "print('测试集：',len(y_test))\n",
    "print('测试集-各类数量：',Counter(y_test))"
   ]
  },
  {
   "cell_type": "markdown",
   "metadata": {},
   "source": [
    "## 生成词典"
   ]
  },
  {
   "cell_type": "code",
   "execution_count": null,
   "metadata": {
    "ExecuteTime": {
     "start_time": "2018-09-10T12:15:27.144Z"
    }
   },
   "outputs": [
    {
     "name": "stdout",
     "output_type": "stream",
     "text": [
      "class_label:  [1 2 3 4 5 6 7 8]\n",
      "\n",
      "依据类别生成关键词：\n"
     ]
    }
   ],
   "source": [
    "g_k = generate_keywords(500)\n",
    "g_k.gen_keywords_by_class(title_content, label, v_thre = 3)"
   ]
  },
  {
   "cell_type": "code",
   "execution_count": null,
   "metadata": {
    "ExecuteTime": {
     "start_time": "2018-09-10T12:15:27.149Z"
    }
   },
   "outputs": [],
   "source": [
    "g_k.save_txt('keywords_i.txt')"
   ]
  },
  {
   "cell_type": "markdown",
   "metadata": {},
   "source": [
    "## train & test"
   ]
  },
  {
   "cell_type": "code",
   "execution_count": null,
   "metadata": {
    "ExecuteTime": {
     "start_time": "2018-09-10T12:15:27.156Z"
    },
    "collapsed": true
   },
   "outputs": [],
   "source": [
    "a = myclass_circ.Statskeywords_cor(1000)\n",
    "len(a.keywords)"
   ]
  },
  {
   "cell_type": "code",
   "execution_count": null,
   "metadata": {
    "ExecuteTime": {
     "start_time": "2018-09-10T12:15:27.161Z"
    }
   },
   "outputs": [],
   "source": [
    "pipeline = Pipeline([\n",
    "    ('features', FeatureUnion([\n",
    "        ('tf_idf', Pipeline([\n",
    "            ('counts', CountVectorizer(max_df=0.95, min_df=2)),\n",
    "            ('tf_idf', TfidfTransformer()),\n",
    "            ('chi', SelectKBest(chi2, k=2000))\n",
    "        ])),\n",
    "        ('len_stats', myclass_circ.StatsFeatures_cor()),\n",
    "        ('tf', myclass_circ.Statskeywords_cor(topk = 5000))\n",
    "    ])),\n",
    "    ('standard', StandardScaler(with_mean=False)),\n",
    "    ('classifier', XGBClassifier(max_depth=7,objective='multi:softmax', num_class=8))\n",
    "])\n",
    "\n",
    "pipeline.fit(X_train, y_train)\n",
    "print(pipeline.score(X_train, y_train))\n",
    "pipeline"
   ]
  },
  {
   "cell_type": "code",
   "execution_count": null,
   "metadata": {
    "ExecuteTime": {
     "start_time": "2018-09-10T12:15:27.167Z"
    }
   },
   "outputs": [],
   "source": [
    "y_pred_class = pipeline.predict(X_test)\n",
    "print('accuracy_score: ', metrics.accuracy_score(y_test, y_pred_class)) # 指所有分类正确的百分比\n",
    "print(metrics.classification_report(y_test, y_pred_class))\n",
    "print('confusion_matrix: ')\n",
    "print( metrics.confusion_matrix(y_test, y_pred_class))"
   ]
  },
  {
   "cell_type": "markdown",
   "metadata": {},
   "source": [
    "## 概率结果"
   ]
  },
  {
   "cell_type": "code",
   "execution_count": null,
   "metadata": {
    "ExecuteTime": {
     "start_time": "2018-09-10T12:15:27.174Z"
    }
   },
   "outputs": [],
   "source": [
    "y_pred_prob = pipeline.predict_proba(X_test)\n",
    "pd.DataFrame(y_pred_prob.max(axis = 1)).plot.hist(bins = 100)"
   ]
  },
  {
   "cell_type": "code",
   "execution_count": null,
   "metadata": {
    "ExecuteTime": {
     "start_time": "2018-09-10T12:15:27.181Z"
    }
   },
   "outputs": [],
   "source": [
    "sel_data_stat = plot_class_proba(y_pred_class, y_pred_prob)\n",
    "sel_data_stat"
   ]
  },
  {
   "cell_type": "markdown",
   "metadata": {},
   "source": [
    "## K-fold"
   ]
  },
  {
   "cell_type": "code",
   "execution_count": null,
   "metadata": {
    "ExecuteTime": {
     "start_time": "2018-09-10T12:15:27.190Z"
    }
   },
   "outputs": [],
   "source": [
    "pipeline = Pipeline([\n",
    "    ('features', FeatureUnion([\n",
    "        ('tf_idf', Pipeline([\n",
    "            ('counts', CountVectorizer(max_df=0.95, min_df=2)),\n",
    "            ('tf_idf', TfidfTransformer()),\n",
    "            ('chi', SelectKBest(chi2, k=2000))\n",
    "        ])),\n",
    "        ('len_stats', myclass_circ.StatsFeatures_cor()),\n",
    "        ('tf', myclass_circ.Statskeywords_cor(topk = 5000))\n",
    "    ])),\n",
    "    ('standard', StandardScaler(with_mean=False)),\n",
    "    ('classifier', XGBClassifier(max_depth=7,objective='multi:softmax', num_class=8))\n",
    "])\n",
    "\n",
    "cal_kfold(title_content, label, pipeline)"
   ]
  },
  {
   "cell_type": "markdown",
   "metadata": {},
   "source": [
    "## 保存模型"
   ]
  },
  {
   "cell_type": "code",
   "execution_count": null,
   "metadata": {
    "ExecuteTime": {
     "start_time": "2018-09-10T12:15:27.195Z"
    }
   },
   "outputs": [],
   "source": [
    "pipeline = Pipeline([\n",
    "    ('features', FeatureUnion([\n",
    "        ('tf_idf', Pipeline([\n",
    "            ('counts', CountVectorizer(max_df=0.95, min_df=2)),\n",
    "            ('tf_idf', TfidfTransformer()),\n",
    "            ('chi', SelectKBest(chi2, k=2000))\n",
    "        ])),\n",
    "        ('len_stats', myclass_circ.StatsFeatures_cor()),\n",
    "        ('tf', myclass_circ.Statskeywords_cor(topk = 5000))\n",
    "    ])),\n",
    "    ('standard', StandardScaler(with_mean=False)),\n",
    "    ('classifier', XGBClassifier(max_depth=7,objective='multi:softmax', num_class=8))\n",
    "])\n",
    "\n",
    "pipeline.fit(title_content, label)\n",
    "print(pipeline.score(title_content, label))\n",
    "pipeline"
   ]
  },
  {
   "cell_type": "code",
   "execution_count": null,
   "metadata": {
    "ExecuteTime": {
     "start_time": "2018-09-10T12:15:27.199Z"
    }
   },
   "outputs": [],
   "source": [
    "from sklearn.externals import joblib\n",
    "joblib.dump(pipeline, \"circ_result_class/model/circ_8classifier_0910.pkl.z\")"
   ]
  },
  {
   "cell_type": "markdown",
   "metadata": {
    "collapsed": true
   },
   "source": [
    "# 保险业：2 倾向性"
   ]
  },
  {
   "cell_type": "markdown",
   "metadata": {},
   "source": [
    "## 导入与分割数据"
   ]
  },
  {
   "cell_type": "code",
   "execution_count": null,
   "metadata": {
    "ExecuteTime": {
     "start_time": "2018-09-10T12:15:27.207Z"
    }
   },
   "outputs": [],
   "source": [
    "cbrc_filepath_class = 'circ_result_tendency/corpus/'\n",
    "title_content, label = title_content_label(cbrc_filepath_class)"
   ]
  },
  {
   "cell_type": "code",
   "execution_count": null,
   "metadata": {
    "ExecuteTime": {
     "start_time": "2018-09-10T12:15:27.212Z"
    }
   },
   "outputs": [],
   "source": [
    "X_train, X_test, y_train, y_test = train_test_split(title_content, label, test_size=0.3, random_state=42)\n",
    "print('训练集：',len(y_train))\n",
    "print('训练集-各类数量：',Counter(y_train))\n",
    "print('测试集：',len(y_test))\n",
    "print('测试集-各类数量：',Counter(y_test))"
   ]
  },
  {
   "cell_type": "markdown",
   "metadata": {},
   "source": [
    "## train & test"
   ]
  },
  {
   "cell_type": "code",
   "execution_count": null,
   "metadata": {
    "ExecuteTime": {
     "start_time": "2018-09-10T12:15:27.217Z"
    }
   },
   "outputs": [],
   "source": [
    "pipeline = Pipeline([\n",
    "    ('features', FeatureUnion([\n",
    "        ('tf_idf', Pipeline([\n",
    "            ('counts', CountVectorizer(max_df=0.95, min_df=2)),\n",
    "            ('tf_idf', TfidfTransformer()),\n",
    "            ('chi', SelectKBest(chi2, k=2000))\n",
    "        ])),\n",
    "        ('len_stats', myclass_circ.StatsFeatures_tendency()),\n",
    "    ])),\n",
    "    ('standard', StandardScaler(with_mean=False)),\n",
    "    ('classifier', XGBClassifier(max_depth=7,objective='multi:softmax', num_class=8))\n",
    "])\n",
    "\n",
    "pipeline.fit(X_train, y_train)\n",
    "print(pipeline.score(X_train, y_train))\n",
    "pipeline"
   ]
  },
  {
   "cell_type": "code",
   "execution_count": null,
   "metadata": {
    "ExecuteTime": {
     "start_time": "2018-09-10T12:15:27.221Z"
    }
   },
   "outputs": [],
   "source": [
    "y_pred_class = pipeline.predict(X_test)\n",
    "print('accuracy_score: ', metrics.accuracy_score(y_test, y_pred_class)) # 指所有分类正确的百分比\n",
    "print(metrics.classification_report(y_test, y_pred_class))\n",
    "print('confusion_matrix: ')\n",
    "print( metrics.confusion_matrix(y_test, y_pred_class))"
   ]
  },
  {
   "cell_type": "markdown",
   "metadata": {},
   "source": [
    "## 概率结果"
   ]
  },
  {
   "cell_type": "code",
   "execution_count": null,
   "metadata": {
    "ExecuteTime": {
     "start_time": "2018-09-10T12:15:27.227Z"
    }
   },
   "outputs": [],
   "source": [
    "y_pred_prob = pipeline.predict_proba(X_test)\n",
    "pd.DataFrame(y_pred_prob.max(axis = 1)).plot.hist(bins = 100)"
   ]
  },
  {
   "cell_type": "code",
   "execution_count": null,
   "metadata": {
    "ExecuteTime": {
     "start_time": "2018-09-10T12:15:27.232Z"
    }
   },
   "outputs": [],
   "source": [
    "sel_data_stat = plot_class_proba(y_pred_class, y_pred_prob)\n",
    "sel_data_stat"
   ]
  },
  {
   "cell_type": "markdown",
   "metadata": {},
   "source": [
    "## K-fold"
   ]
  },
  {
   "cell_type": "code",
   "execution_count": null,
   "metadata": {
    "ExecuteTime": {
     "start_time": "2018-09-10T12:15:27.238Z"
    }
   },
   "outputs": [],
   "source": [
    "pipeline = Pipeline([\n",
    "    ('features', FeatureUnion([\n",
    "        ('tf_idf', Pipeline([\n",
    "            ('counts', CountVectorizer(max_df=0.95, min_df=2)),\n",
    "            ('tf_idf', TfidfTransformer()),\n",
    "            ('chi', SelectKBest(chi2, k=2000))\n",
    "        ])),\n",
    "        ('len_stats', myclass_circ.StatsFeatures_tendency()),\n",
    "    ])),\n",
    "    ('standard', StandardScaler(with_mean=False)),\n",
    "    ('classifier', XGBClassifier(max_depth=7,objective='multi:softmax', num_class=8))\n",
    "])\n",
    "\n",
    "cal_kfold(title_content, label, pipeline)"
   ]
  },
  {
   "cell_type": "markdown",
   "metadata": {},
   "source": [
    "## 保存模型"
   ]
  },
  {
   "cell_type": "code",
   "execution_count": null,
   "metadata": {
    "ExecuteTime": {
     "start_time": "2018-09-10T12:15:27.243Z"
    }
   },
   "outputs": [],
   "source": [
    "pipeline = Pipeline([\n",
    "    ('features', FeatureUnion([\n",
    "        ('tf_idf', Pipeline([\n",
    "            ('counts', CountVectorizer(max_df=0.95, min_df=2)),\n",
    "            ('tf_idf', TfidfTransformer()),\n",
    "            ('chi', SelectKBest(chi2, k=2000))\n",
    "        ])),\n",
    "        ('len_stats', myclass_circ.StatsFeatures_tendency()),\n",
    "    ])),\n",
    "    ('standard', StandardScaler(with_mean=False)),\n",
    "    ('classifier', XGBClassifier(max_depth=7,objective='multi:softmax', num_class=8))\n",
    "])\n",
    "\n",
    "pipeline.fit(title_content, label)\n",
    "print(pipeline.score(title_content, label))\n",
    "pipeline"
   ]
  },
  {
   "cell_type": "code",
   "execution_count": null,
   "metadata": {
    "ExecuteTime": {
     "start_time": "2018-09-10T12:15:27.247Z"
    }
   },
   "outputs": [],
   "source": [
    "from sklearn.externals import joblib\n",
    "joblib.dump(pipeline, \"circ_result_tendency/model/circ_chapter_tendency_0905.pkl.z\")"
   ]
  },
  {
   "cell_type": "markdown",
   "metadata": {
    "collapsed": true
   },
   "source": [
    "# 保险业：3 预警模型"
   ]
  },
  {
   "cell_type": "markdown",
   "metadata": {},
   "source": [
    "## 导入与分割数据"
   ]
  },
  {
   "cell_type": "code",
   "execution_count": null,
   "metadata": {
    "ExecuteTime": {
     "start_time": "2018-09-10T12:15:27.252Z"
    }
   },
   "outputs": [],
   "source": [
    "cbrc_filepath_class = 'circ_result_warn/corpus/'\n",
    "title_content, label = title_content_label(cbrc_filepath_class)"
   ]
  },
  {
   "cell_type": "code",
   "execution_count": null,
   "metadata": {
    "ExecuteTime": {
     "start_time": "2018-09-10T12:15:27.257Z"
    }
   },
   "outputs": [],
   "source": [
    "X_train, X_test, y_train, y_test = train_test_split(title_content, label, test_size=0.3, random_state=42)\n",
    "print('训练集：',len(y_train))\n",
    "print('训练集-各类数量：',Counter(y_train))\n",
    "print('测试集：',len(y_test))\n",
    "print('测试集-各类数量：',Counter(y_test))"
   ]
  },
  {
   "cell_type": "markdown",
   "metadata": {},
   "source": [
    "## train & test"
   ]
  },
  {
   "cell_type": "code",
   "execution_count": null,
   "metadata": {
    "ExecuteTime": {
     "start_time": "2018-09-10T12:15:27.263Z"
    }
   },
   "outputs": [],
   "source": [
    "pipeline = Pipeline([\n",
    "    ('features', FeatureUnion([\n",
    "        ('tf_idf', Pipeline([\n",
    "            ('counts', CountVectorizer(max_df=0.95, min_df=2)),\n",
    "            ('tf_idf', TfidfTransformer()),\n",
    "            ('chi', SelectKBest(chi2, k=2000))\n",
    "        ])),\n",
    "        ('len_stats', myclass_circ.StatsFeatures_warn()),\n",
    "    ])),\n",
    "    ('standard', StandardScaler(with_mean=False)),\n",
    "    ('classifier', XGBClassifier(max_depth=7,objective='multi:softmax', num_class=8))\n",
    "])\n",
    "\n",
    "pipeline.fit(X_train, y_train)\n",
    "print(pipeline.score(X_train, y_train))\n",
    "pipeline"
   ]
  },
  {
   "cell_type": "code",
   "execution_count": null,
   "metadata": {
    "ExecuteTime": {
     "start_time": "2018-09-10T12:15:27.268Z"
    }
   },
   "outputs": [],
   "source": [
    "y_pred_class = pipeline.predict(X_test)\n",
    "print('accuracy_score: ', metrics.accuracy_score(y_test, y_pred_class)) # 指所有分类正确的百分比\n",
    "print(metrics.classification_report(y_test, y_pred_class))\n",
    "print('confusion_matrix: ')\n",
    "print( metrics.confusion_matrix(y_test, y_pred_class))"
   ]
  },
  {
   "cell_type": "markdown",
   "metadata": {},
   "source": [
    "## 概率结果"
   ]
  },
  {
   "cell_type": "code",
   "execution_count": null,
   "metadata": {
    "ExecuteTime": {
     "start_time": "2018-09-10T12:15:27.274Z"
    }
   },
   "outputs": [],
   "source": [
    "y_pred_prob = pipeline.predict_proba(X_test)\n",
    "pd.DataFrame(y_pred_prob.max(axis = 1)).plot.hist(bins = 100)"
   ]
  },
  {
   "cell_type": "code",
   "execution_count": null,
   "metadata": {
    "ExecuteTime": {
     "start_time": "2018-09-10T12:15:27.280Z"
    }
   },
   "outputs": [],
   "source": [
    "sel_data_stat = plot_class_proba(y_pred_class, y_pred_prob)\n",
    "sel_data_stat"
   ]
  },
  {
   "cell_type": "markdown",
   "metadata": {},
   "source": [
    "## K-fold"
   ]
  },
  {
   "cell_type": "code",
   "execution_count": null,
   "metadata": {
    "ExecuteTime": {
     "start_time": "2018-09-10T12:15:27.289Z"
    }
   },
   "outputs": [],
   "source": [
    "pipeline = Pipeline([\n",
    "    ('features', FeatureUnion([\n",
    "        ('tf_idf', Pipeline([\n",
    "            ('counts', CountVectorizer(max_df=0.95, min_df=2)),\n",
    "            ('tf_idf', TfidfTransformer()),\n",
    "            ('chi', SelectKBest(chi2, k=2000))\n",
    "        ])),\n",
    "        ('len_stats', myclass_circ.StatsFeatures_warn()),\n",
    "    ])),\n",
    "    ('standard', StandardScaler(with_mean=False)),\n",
    "    ('classifier', XGBClassifier(max_depth=7,objective='multi:softmax', num_class=8))\n",
    "])\n",
    "\n",
    "cal_kfold(title_content, label, pipeline)"
   ]
  },
  {
   "cell_type": "markdown",
   "metadata": {},
   "source": [
    "## 保存模型"
   ]
  },
  {
   "cell_type": "code",
   "execution_count": null,
   "metadata": {
    "ExecuteTime": {
     "start_time": "2018-09-10T12:15:27.296Z"
    }
   },
   "outputs": [],
   "source": [
    "pipeline = Pipeline([\n",
    "    ('features', FeatureUnion([\n",
    "        ('tf_idf', Pipeline([\n",
    "            ('counts', CountVectorizer(max_df=0.95, min_df=2)),\n",
    "            ('tf_idf', TfidfTransformer()),\n",
    "            ('chi', SelectKBest(chi2, k=2000))\n",
    "        ])),\n",
    "        ('len_stats', myclass_circ.StatsFeatures_warn()),\n",
    "    ])),\n",
    "    ('standard', StandardScaler(with_mean=False)),\n",
    "    ('classifier', XGBClassifier(max_depth=7,objective='multi:softmax', num_class=8))\n",
    "])\n",
    "\n",
    "pipeline.fit(title_content, label)\n",
    "print(pipeline.score(title_content, label))\n",
    "pipeline"
   ]
  },
  {
   "cell_type": "code",
   "execution_count": null,
   "metadata": {
    "ExecuteTime": {
     "start_time": "2018-09-10T12:15:27.303Z"
    }
   },
   "outputs": [],
   "source": [
    "from sklearn.externals import joblib\n",
    "joblib.dump(pipeline, \"circ_result_warn/model/circ_warning_0621.pkl.z\")"
   ]
  },
  {
   "cell_type": "markdown",
   "metadata": {},
   "source": [
    "# 银行业：1 八分类"
   ]
  },
  {
   "cell_type": "markdown",
   "metadata": {},
   "source": [
    "## 导入与分割数据"
   ]
  },
  {
   "cell_type": "code",
   "execution_count": null,
   "metadata": {
    "ExecuteTime": {
     "start_time": "2018-09-10T12:15:27.313Z"
    }
   },
   "outputs": [],
   "source": [
    "cbrc_filepath_class = 'cbrc_result_class/corpus/'\n",
    "title_content, label = title_content_label(cbrc_filepath_class)"
   ]
  },
  {
   "cell_type": "code",
   "execution_count": null,
   "metadata": {
    "ExecuteTime": {
     "start_time": "2018-09-10T12:15:27.319Z"
    }
   },
   "outputs": [],
   "source": [
    "label_dic={'监管':1,'行业':2,'产品销售':3,'资本市场':4,'公司内部管理':5,'消费服务':6,'其他相关报道':7,'噪音':8}\n",
    "class_name_dict = {v: k for k, v in label_dic.items()}\n",
    "class_name_dict"
   ]
  },
  {
   "cell_type": "code",
   "execution_count": null,
   "metadata": {
    "ExecuteTime": {
     "start_time": "2018-09-10T12:15:27.324Z"
    }
   },
   "outputs": [],
   "source": [
    "label = [label_dic[l] for l in label]\n",
    "label[:5]"
   ]
  },
  {
   "cell_type": "code",
   "execution_count": null,
   "metadata": {
    "ExecuteTime": {
     "start_time": "2018-09-10T12:15:27.329Z"
    }
   },
   "outputs": [],
   "source": [
    "X_train, X_test, y_train, y_test = train_test_split(title_content, label, test_size=0.3, random_state=42)\n",
    "print('训练集：',len(y_train))\n",
    "print('训练集-各类数量：',Counter(y_train))\n",
    "print('测试集：',len(y_test))\n",
    "print('测试集-各类数量：',Counter(y_test))"
   ]
  },
  {
   "cell_type": "markdown",
   "metadata": {},
   "source": [
    "## 生成词典"
   ]
  },
  {
   "cell_type": "code",
   "execution_count": null,
   "metadata": {
    "ExecuteTime": {
     "start_time": "2018-09-10T12:15:27.333Z"
    }
   },
   "outputs": [],
   "source": [
    "g_k = generate_keywords(500)\n",
    "g_k.gen_keywords_by_class(title_content, label, v_thre = 3)"
   ]
  },
  {
   "cell_type": "code",
   "execution_count": null,
   "metadata": {
    "ExecuteTime": {
     "start_time": "2018-09-10T12:15:27.339Z"
    }
   },
   "outputs": [],
   "source": [
    "g_k.save_txt('keywords_b.txt')"
   ]
  },
  {
   "cell_type": "markdown",
   "metadata": {},
   "source": [
    "## train & test"
   ]
  },
  {
   "cell_type": "code",
   "execution_count": null,
   "metadata": {
    "ExecuteTime": {
     "start_time": "2018-09-10T12:15:27.346Z"
    }
   },
   "outputs": [],
   "source": [
    "a = myclass_cbrc.Statskeywords_cor(1000)\n",
    "len(a.keywords)"
   ]
  },
  {
   "cell_type": "code",
   "execution_count": null,
   "metadata": {
    "ExecuteTime": {
     "start_time": "2018-09-10T12:15:27.354Z"
    }
   },
   "outputs": [],
   "source": [
    "pipeline = Pipeline([\n",
    "    ('features', FeatureUnion([\n",
    "        ('tf_idf', Pipeline([\n",
    "            ('counts', CountVectorizer(max_df=0.95, min_df=2)),\n",
    "            ('tf_idf', TfidfTransformer()),\n",
    "            ('chi', SelectKBest(chi2, k=2000))\n",
    "        ])),\n",
    "        ('len_stats', myclass_cbrc.StatsFeatures_cor()),\n",
    "        ('tf', myclass_cbrc.Statskeywords_cor(topk = 5000))\n",
    "    ])),\n",
    "    ('standard', StandardScaler(with_mean=False)),\n",
    "    ('classifier', XGBClassifier(max_depth=7,objective='multi:softmax', num_class=8))\n",
    "])\n",
    "\n",
    "pipeline.fit(X_train, y_train)\n",
    "print(pipeline.score(X_train, y_train))\n",
    "pipeline"
   ]
  },
  {
   "cell_type": "code",
   "execution_count": null,
   "metadata": {
    "ExecuteTime": {
     "start_time": "2018-09-10T12:15:27.361Z"
    }
   },
   "outputs": [],
   "source": [
    "y_pred_class = pipeline.predict(X_test)\n",
    "print('accuracy_score: ', metrics.accuracy_score(y_test, y_pred_class)) # 指所有分类正确的百分比\n",
    "print(metrics.classification_report(y_test, y_pred_class))\n",
    "print('confusion_matrix: ')\n",
    "print( metrics.confusion_matrix(y_test, y_pred_class))"
   ]
  },
  {
   "cell_type": "markdown",
   "metadata": {},
   "source": [
    "## 概率结果"
   ]
  },
  {
   "cell_type": "code",
   "execution_count": null,
   "metadata": {
    "ExecuteTime": {
     "start_time": "2018-09-10T12:15:27.368Z"
    }
   },
   "outputs": [],
   "source": [
    "y_pred_prob = pipeline.predict_proba(X_test)\n",
    "pd.DataFrame(y_pred_prob.max(axis = 1)).plot.hist(bins = 100)"
   ]
  },
  {
   "cell_type": "code",
   "execution_count": null,
   "metadata": {
    "ExecuteTime": {
     "start_time": "2018-09-10T12:15:27.375Z"
    }
   },
   "outputs": [],
   "source": [
    "sel_data_stat = plot_class_proba(y_pred_class, y_pred_prob)\n",
    "sel_data_stat"
   ]
  },
  {
   "cell_type": "markdown",
   "metadata": {},
   "source": [
    "## K-fold"
   ]
  },
  {
   "cell_type": "code",
   "execution_count": null,
   "metadata": {
    "ExecuteTime": {
     "start_time": "2018-09-10T12:15:27.382Z"
    }
   },
   "outputs": [],
   "source": [
    "pipeline = Pipeline([\n",
    "    ('features', FeatureUnion([\n",
    "        ('tf_idf', Pipeline([\n",
    "            ('counts', CountVectorizer(max_df=0.95, min_df=2)),\n",
    "            ('tf_idf', TfidfTransformer()),\n",
    "            ('chi', SelectKBest(chi2, k=2000))\n",
    "        ])),\n",
    "        ('len_stats', myclass_cbrc.StatsFeatures_cor()),\n",
    "        ('tf', myclass_cbrc.Statskeywords_cor(topk = 5000))\n",
    "    ])),\n",
    "    ('standard', StandardScaler(with_mean=False)),\n",
    "    ('classifier', XGBClassifier(max_depth=7,objective='multi:softmax', num_class=8))\n",
    "])\n",
    "\n",
    "cal_kfold(title_content, label, pipeline)"
   ]
  },
  {
   "cell_type": "markdown",
   "metadata": {},
   "source": [
    "## 保存模型"
   ]
  },
  {
   "cell_type": "code",
   "execution_count": null,
   "metadata": {
    "ExecuteTime": {
     "start_time": "2018-09-10T12:15:27.391Z"
    }
   },
   "outputs": [],
   "source": [
    "pipeline = Pipeline([\n",
    "    ('features', FeatureUnion([\n",
    "        ('tf_idf', Pipeline([\n",
    "            ('counts', CountVectorizer(max_df=0.95, min_df=2)),\n",
    "            ('tf_idf', TfidfTransformer()),\n",
    "            ('chi', SelectKBest(chi2, k=2000))\n",
    "        ])),\n",
    "        ('len_stats', myclass_cbrc.StatsFeatures_cor()),\n",
    "        ('tf', myclass_cbrc.Statskeywords_cor(topk = 5000))\n",
    "    ])),\n",
    "    ('standard', StandardScaler(with_mean=False)),\n",
    "    ('classifier', XGBClassifier(max_depth=7,objective='multi:softmax', num_class=8))\n",
    "])\n",
    "\n",
    "pipeline.fit(title_content, label)\n",
    "print(pipeline.score(title_content, label))\n",
    "pipeline"
   ]
  },
  {
   "cell_type": "code",
   "execution_count": null,
   "metadata": {
    "ExecuteTime": {
     "start_time": "2018-09-10T12:15:27.397Z"
    }
   },
   "outputs": [],
   "source": [
    "from sklearn.externals import joblib\n",
    "joblib.dump(pipeline, \"cbrc_result_class/model/cbrc_8classifier_0910.pkl.z\")"
   ]
  },
  {
   "cell_type": "markdown",
   "metadata": {
    "collapsed": true
   },
   "source": [
    "# 银行业：2 倾向性"
   ]
  },
  {
   "cell_type": "markdown",
   "metadata": {},
   "source": [
    "## 导入与分割数据"
   ]
  },
  {
   "cell_type": "code",
   "execution_count": null,
   "metadata": {
    "ExecuteTime": {
     "start_time": "2018-09-10T12:15:27.406Z"
    }
   },
   "outputs": [],
   "source": [
    "cbrc_filepath_class = 'cbrc_result_tendency/corpus/'\n",
    "title_content, label = title_content_label(cbrc_filepath_class)"
   ]
  },
  {
   "cell_type": "code",
   "execution_count": null,
   "metadata": {
    "ExecuteTime": {
     "start_time": "2018-09-10T12:15:27.413Z"
    }
   },
   "outputs": [],
   "source": [
    "X_train, X_test, y_train, y_test = train_test_split(title_content, label, test_size=0.3, random_state=42)\n",
    "print('训练集：',len(y_train))\n",
    "print('训练集-各类数量：',Counter(y_train))\n",
    "print('测试集：',len(y_test))\n",
    "print('测试集-各类数量：',Counter(y_test))"
   ]
  },
  {
   "cell_type": "markdown",
   "metadata": {},
   "source": [
    "## train & test"
   ]
  },
  {
   "cell_type": "code",
   "execution_count": null,
   "metadata": {
    "ExecuteTime": {
     "start_time": "2018-09-10T12:15:27.418Z"
    }
   },
   "outputs": [],
   "source": [
    "pipeline = Pipeline([\n",
    "    ('features', FeatureUnion([\n",
    "        ('tf_idf', Pipeline([\n",
    "            ('counts', CountVectorizer(max_df=0.95, min_df=2)),\n",
    "            ('tf_idf', TfidfTransformer()),\n",
    "            ('chi', SelectKBest(chi2, k=2000))\n",
    "        ])),\n",
    "        ('len_stats', myclass_cbrc.StatsFeatures_tendency()),\n",
    "    ])),\n",
    "    ('standard', StandardScaler(with_mean=False)),\n",
    "    ('classifier', XGBClassifier(max_depth=7,objective='multi:softmax', num_class=8))\n",
    "])\n",
    "\n",
    "pipeline.fit(X_train, y_train)\n",
    "print(pipeline.score(X_train, y_train))\n",
    "pipeline"
   ]
  },
  {
   "cell_type": "code",
   "execution_count": null,
   "metadata": {
    "ExecuteTime": {
     "start_time": "2018-09-10T12:15:27.424Z"
    }
   },
   "outputs": [],
   "source": [
    "y_pred_class = pipeline.predict(X_test)\n",
    "print('accuracy_score: ', metrics.accuracy_score(y_test, y_pred_class)) # 指所有分类正确的百分比\n",
    "print(metrics.classification_report(y_test, y_pred_class))\n",
    "print('confusion_matrix: ')\n",
    "print( metrics.confusion_matrix(y_test, y_pred_class))"
   ]
  },
  {
   "cell_type": "markdown",
   "metadata": {},
   "source": [
    "## 概率结果"
   ]
  },
  {
   "cell_type": "code",
   "execution_count": null,
   "metadata": {
    "ExecuteTime": {
     "start_time": "2018-09-10T12:15:27.429Z"
    }
   },
   "outputs": [],
   "source": [
    "y_pred_prob = pipeline.predict_proba(X_test)\n",
    "pd.DataFrame(y_pred_prob.max(axis = 1)).plot.hist(bins = 100)"
   ]
  },
  {
   "cell_type": "code",
   "execution_count": null,
   "metadata": {
    "ExecuteTime": {
     "start_time": "2018-09-10T12:15:27.436Z"
    }
   },
   "outputs": [],
   "source": [
    "sel_data_stat = plot_class_proba(y_pred_class, y_pred_prob)\n",
    "sel_data_stat"
   ]
  },
  {
   "cell_type": "markdown",
   "metadata": {},
   "source": [
    "## K-fold"
   ]
  },
  {
   "cell_type": "code",
   "execution_count": null,
   "metadata": {
    "ExecuteTime": {
     "start_time": "2018-09-10T12:15:27.441Z"
    }
   },
   "outputs": [],
   "source": [
    "pipeline = Pipeline([\n",
    "    ('features', FeatureUnion([\n",
    "        ('tf_idf', Pipeline([\n",
    "            ('counts', CountVectorizer(max_df=0.95, min_df=2)),\n",
    "            ('tf_idf', TfidfTransformer()),\n",
    "            ('chi', SelectKBest(chi2, k=2000))\n",
    "        ])),\n",
    "        ('len_stats', myclass_cbrc.StatsFeatures_tendency()),\n",
    "    ])),\n",
    "    ('standard', StandardScaler(with_mean=False)),\n",
    "    ('classifier', XGBClassifier(max_depth=7,objective='multi:softmax', num_class=8))\n",
    "])\n",
    "\n",
    "cal_kfold(title_content, label, pipeline)"
   ]
  },
  {
   "cell_type": "markdown",
   "metadata": {},
   "source": [
    "## 保存模型"
   ]
  },
  {
   "cell_type": "code",
   "execution_count": null,
   "metadata": {
    "ExecuteTime": {
     "start_time": "2018-09-10T12:15:27.448Z"
    }
   },
   "outputs": [],
   "source": [
    "pipeline = Pipeline([\n",
    "    ('features', FeatureUnion([\n",
    "        ('tf_idf', Pipeline([\n",
    "            ('counts', CountVectorizer(max_df=0.95, min_df=2)),\n",
    "            ('tf_idf', TfidfTransformer()),\n",
    "            ('chi', SelectKBest(chi2, k=2000))\n",
    "        ])),\n",
    "        ('len_stats', myclass_cbrc.StatsFeatures_tendency()),\n",
    "    ])),\n",
    "    ('standard', StandardScaler(with_mean=False)),\n",
    "    ('classifier', XGBClassifier(max_depth=7,objective='multi:softmax', num_class=8))\n",
    "])\n",
    "\n",
    "pipeline.fit(title_content, label)\n",
    "print(pipeline.score(title_content, label))\n",
    "pipeline"
   ]
  },
  {
   "cell_type": "code",
   "execution_count": null,
   "metadata": {
    "ExecuteTime": {
     "start_time": "2018-09-10T12:15:27.455Z"
    }
   },
   "outputs": [],
   "source": [
    "from sklearn.externals import joblib\n",
    "joblib.dump(pipeline, \"cbrc_result_tendency/model/cbrc_chapter_tendency_0622.pkl.z\")"
   ]
  },
  {
   "cell_type": "markdown",
   "metadata": {
    "collapsed": true
   },
   "source": [
    "# 保存本文件"
   ]
  },
  {
   "cell_type": "code",
   "execution_count": null,
   "metadata": {
    "ExecuteTime": {
     "start_time": "2018-09-10T12:15:27.465Z"
    },
    "collapsed": true
   },
   "outputs": [],
   "source": [
    "if 0:\n",
    "    import datetime as dt\n",
    "    \n",
    "    def output_HTML(read_file, output_file):\n",
    "        from nbconvert import HTMLExporter\n",
    "        import codecs\n",
    "        import nbformat\n",
    "        exporter = HTMLExporter()\n",
    "        # read_file is '.ipynb', output_file is '.html'\n",
    "        output_notebook = nbformat.read(read_file, as_version=4)\n",
    "        output, resources = exporter.from_notebook_node(output_notebook)\n",
    "        codecs.open(output_file, 'w', encoding='utf-8').write(output)\n",
    "\n",
    "    html_file_folder = 'html_files'\n",
    "    if not os.path.exists(html_file_folder):\n",
    "        os.makedirs(html_file_folder)\n",
    "\n",
    "    today = dt.datetime.now().strftime('%Y%m%d')\n",
    "    current_file = 'circ_cor_model_2_train.ipynb'\n",
    "    output_file = 'html_files\\%s_%s.html'%(os.path.splitext(current_file)[0], today)\n",
    "    output_HTML(current_file, output_file)"
   ]
  }
 ],
 "metadata": {
  "kernelspec": {
   "display_name": "Python 3",
   "language": "python",
   "name": "python3"
  },
  "language_info": {
   "codemirror_mode": {
    "name": "ipython",
    "version": 3
   },
   "file_extension": ".py",
   "mimetype": "text/x-python",
   "name": "python",
   "nbconvert_exporter": "python",
   "pygments_lexer": "ipython3",
   "version": "3.6.3"
  },
  "toc": {
   "nav_menu": {},
   "number_sections": true,
   "sideBar": true,
   "skip_h1_title": false,
   "title_cell": "Table of Contents",
   "title_sidebar": "Contents",
   "toc_cell": false,
   "toc_position": {
    "height": "calc(100% - 180px)",
    "left": "10px",
    "top": "150px",
    "width": "376px"
   },
   "toc_section_display": true,
   "toc_window_display": true
  },
  "varInspector": {
   "cols": {
    "lenName": 16,
    "lenType": 16,
    "lenVar": 40
   },
   "kernels_config": {
    "python": {
     "delete_cmd_postfix": "",
     "delete_cmd_prefix": "del ",
     "library": "var_list.py",
     "varRefreshCmd": "print(var_dic_list())"
    },
    "r": {
     "delete_cmd_postfix": ") ",
     "delete_cmd_prefix": "rm(",
     "library": "var_list.r",
     "varRefreshCmd": "cat(var_dic_list()) "
    }
   },
   "types_to_exclude": [
    "module",
    "function",
    "builtin_function_or_method",
    "instance",
    "_Feature"
   ],
   "window_display": false
  }
 },
 "nbformat": 4,
 "nbformat_minor": 2
}
