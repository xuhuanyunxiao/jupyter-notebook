{
 "cells": [
  {
   "cell_type": "markdown",
   "metadata": {},
   "source": [
    "# 本文件说明\n",
    "- 读取数据、预处理数据"
   ]
  },
  {
   "cell_type": "markdown",
   "metadata": {},
   "source": [
    "# 基本设置"
   ]
  },
  {
   "cell_type": "code",
   "execution_count": 1,
   "metadata": {
    "ExecuteTime": {
     "end_time": "2018-09-10T03:53:40.264537Z",
     "start_time": "2018-09-10T03:53:36.609328Z"
    }
   },
   "outputs": [
    {
     "name": "stderr",
     "output_type": "stream",
     "text": [
      "Building prefix dict from the default dictionary ...\n",
      "Loading model from cache C:\\Users\\ADMINI~1\\AppData\\Local\\Temp\\jieba.cache\n",
      "Loading model cost 0.930 seconds.\n",
      "Prefix dict has been built succesfully.\n"
     ]
    }
   ],
   "source": [
    "import xlrd\n",
    "\n",
    "%matplotlib inline\n",
    "import numpy as np\n",
    "import pandas as pd\n",
    "from toolkits.nlp import pre_cor_circ\n",
    "from toolkits.nlp import pre_cor_cbrc\n",
    "\n",
    "import warnings\n",
    "warnings.filterwarnings('ignore')"
   ]
  },
  {
   "cell_type": "markdown",
   "metadata": {},
   "source": [
    "## 一些函数"
   ]
  },
  {
   "cell_type": "code",
   "execution_count": 100,
   "metadata": {
    "ExecuteTime": {
     "end_time": "2018-09-10T09:09:55.990886Z",
     "start_time": "2018-09-10T09:09:55.973885Z"
    },
    "collapsed": true
   },
   "outputs": [],
   "source": [
    "def predict_right(folder, file_list):\n",
    "    '''预测正确数据'''\n",
    "    right_data = pd.DataFrame()\n",
    "    for file_name in file_list:\n",
    "        currentPath  = '{0}/{1}'.format(folder, file_name)\n",
    "        excel = xlrd.open_workbook(currentPath)\n",
    "        sheet_names = [sheet.name for sheet in excel.sheets()]\n",
    "        for sheet_name in sheet_names:    \n",
    "            tmp_data = pd.read_excel(currentPath, sheet_name)\n",
    "    #         tmp_data = tmp_data[tmp_data['R_W'] == 'Right']\n",
    "            print('去空值前： ', tmp_data.shape, file_name, sheet_name)\n",
    "#             tmp_data = tmp_data[tmp_data['备注'] != '删除']\n",
    "    #         tmp_data = tmp_data.dropna(subset = ['raw_title'], axis = 0)\n",
    "#             print('去空值后： ', tmp_data.shape, file_name, sheet_name)\n",
    "            right_data = pd.concat([right_data, tmp_data], axis = 0)    \n",
    "    return right_data"
   ]
  },
  {
   "cell_type": "code",
   "execution_count": 101,
   "metadata": {
    "ExecuteTime": {
     "end_time": "2018-09-10T09:09:56.679925Z",
     "start_time": "2018-09-10T09:09:56.641923Z"
    },
    "collapsed": true
   },
   "outputs": [],
   "source": [
    "def correct_wrong_data(folder, file_list):\n",
    "    '''预测错误修正后数据'''\n",
    "    correct_wrong_data = pd.DataFrame()\n",
    "    for file_name in file_list:\n",
    "        currentPath  = '{0}/{1}'.format(folder, file_name)\n",
    "        excel = xlrd.open_workbook(currentPath)\n",
    "        sheet_names = [sheet.name for sheet in excel.sheets()]\n",
    "        for sheet_name in sheet_names:    \n",
    "            tmp_data = pd.read_excel(currentPath, sheet_name)\n",
    "    #         tmp_data = tmp_data[tmp_data['R_W'] == 'Wrong']\n",
    "            print('去删除前： ', tmp_data.shape, file_name, sheet_name)\n",
    "            tmp_data = tmp_data[tmp_data['备注'] != '删除']\n",
    "    #         tmp_data = tmp_data.dropna(subset = ['raw_title'], axis = 0)\n",
    "            print('去删除后： ', tmp_data.shape, file_name, sheet_name)\n",
    "\n",
    "            tmp_data['人工判断'] = tmp_data.apply(lambda x:1 if x['label'] == x['备注'] else 0, axis = 1)\n",
    "            tmp_data['算法判断'] = tmp_data.apply(lambda x:1 if x['predict_label'] == x['备注'] else 0, axis = 1)\n",
    "            print('人工误判率： %0.2f'%(1 - tmp_data['人工判断'].sum() / tmp_data.shape[0]),\n",
    "                  '算法误判率： %0.2f'%(1 - tmp_data['算法判断'].sum() / tmp_data.shape[0]))\n",
    "            print()\n",
    "\n",
    "            correct_wrong_data = pd.concat([correct_wrong_data, tmp_data], axis = 0)\n",
    "    return correct_wrong_data"
   ]
  },
  {
   "cell_type": "code",
   "execution_count": 102,
   "metadata": {
    "ExecuteTime": {
     "end_time": "2018-09-10T09:09:57.254958Z",
     "start_time": "2018-09-10T09:09:57.226957Z"
    },
    "collapsed": true
   },
   "outputs": [],
   "source": [
    "def get_new_data(folder, file_list):\n",
    "    '''新补充数据'''\n",
    "    new_data = pd.DataFrame()\n",
    "    for file_name in file_list:\n",
    "        currentPath  = '{0}/{1}'.format(folder, file_name)\n",
    "        excel = xlrd.open_workbook(currentPath)\n",
    "        sheet_names = [sheet.name for sheet in excel.sheets()]\n",
    "        for sheet_name in sheet_names:    \n",
    "            tmp_data = pd.read_excel(currentPath, sheet_name)\n",
    "            print(tmp_data.columns)\n",
    "            tmp_data = tmp_data[['label', 'title', 'content']]\n",
    "            print('去空值前： ', tmp_data.shape, file_name, sheet_name)\n",
    "            tmp_data = tmp_data.dropna(subset = ['label'], axis = 0)\n",
    "            print('去空值后： ', tmp_data.shape, file_name, sheet_name)\n",
    "            new_data = pd.concat([new_data, tmp_data], axis = 0)    \n",
    "    return new_data"
   ]
  },
  {
   "cell_type": "code",
   "execution_count": 126,
   "metadata": {
    "ExecuteTime": {
     "end_time": "2018-09-10T09:18:14.042373Z",
     "start_time": "2018-09-10T09:18:13.995370Z"
    },
    "collapsed": true
   },
   "outputs": [],
   "source": [
    "def get_feedback_data(folder, file_list):\n",
    "    '''模型预测后反馈数据'''\n",
    "    feedback_data = pd.DataFrame()\n",
    "    label_list = []\n",
    "    sum_list = []\n",
    "    right_list = []\n",
    "    for file_name in file_list:\n",
    "        currentPath  = '{0}/{1}'.format(folder, file_name)\n",
    "        excel = xlrd.open_workbook(currentPath)\n",
    "        sheet_names = [sheet.name for sheet in excel.sheets()]\n",
    "        for sheet_name in sheet_names:   \n",
    "            tmp_data = pd.read_excel(currentPath, sheet_name)    \n",
    "            tmp_data = tmp_data[tmp_data['label'] != '删除']\n",
    "            tmp_data_1 = tmp_data[tmp_data['label'] == sheet_name]\n",
    "\n",
    "            label_list.append(sheet_name)\n",
    "            sum_list.append(tmp_data.shape[0])\n",
    "            right_list.append(tmp_data_1.shape[0])\n",
    "            print('类别：', sheet_name, '总数：', tmp_data.shape[0], \n",
    "                  '正确数', tmp_data_1.shape[0], \n",
    "                  '正确比例', tmp_data_1.shape[0]/tmp_data.shape[0])\n",
    "\n",
    "            tmp_data_1 = tmp_data[['label', 'title', 'content']]\n",
    "            print('去空值前： ', tmp_data_1.shape, file_name, sheet_name)\n",
    "            tmp_data_1 = tmp_data_1.dropna(subset = ['label'], axis = 0)\n",
    "            print('去空值后： ', tmp_data_1.shape, file_name, sheet_name)\n",
    "            feedback_data = pd.concat([feedback_data, tmp_data_1], axis = 0)\n",
    "            print()    \n",
    "            \n",
    "    return feedback_data"
   ]
  },
  {
   "cell_type": "markdown",
   "metadata": {},
   "source": [
    "# 保险业：1 八分类"
   ]
  },
  {
   "cell_type": "markdown",
   "metadata": {},
   "source": [
    "## 读取数据"
   ]
  },
  {
   "cell_type": "code",
   "execution_count": 104,
   "metadata": {
    "ExecuteTime": {
     "end_time": "2018-09-10T09:09:58.714042Z",
     "start_time": "2018-09-10T09:09:58.711042Z"
    },
    "collapsed": true
   },
   "outputs": [],
   "source": [
    "folder = 'circ_data_class/20180910'"
   ]
  },
  {
   "cell_type": "markdown",
   "metadata": {},
   "source": [
    "### 预测正确数据"
   ]
  },
  {
   "cell_type": "code",
   "execution_count": 99,
   "metadata": {
    "ExecuteTime": {
     "end_time": "2018-09-10T09:09:38.411881Z",
     "start_time": "2018-09-10T09:09:16.084604Z"
    }
   },
   "outputs": [
    {
     "name": "stdout",
     "output_type": "stream",
     "text": [
      "去空值前：  (1284, 8) circ_class_sel_else_20180827.xlsx 公司内部管理\n",
      "去空值前：  (3197, 8) circ_class_sel_else_20180827.xlsx 噪音\n",
      "去空值前：  (1320, 8) circ_class_sel_else_20180827.xlsx 行业\n",
      "去空值前：  (1463, 8) circ_class_sel_else_20180827.xlsx 消费服务\n",
      "去空值前：  (753, 8) circ_class_sel_else_20180827.xlsx 资本市场\n",
      "去空值前：  (1511, 8) circ_class_sel_else_20180827.xlsx 监管\n",
      "去空值前：  (500, 8) circ_class_sel_else_20180827.xlsx 产品销售\n",
      "去空值前：  (1403, 8) circ_class_sel_else_20180827.xlsx 其他相关报道\n",
      "总数： (11431, 3)\n"
     ]
    },
    {
     "data": {
      "text/html": [
       "<div>\n",
       "<style scoped>\n",
       "    .dataframe tbody tr th:only-of-type {\n",
       "        vertical-align: middle;\n",
       "    }\n",
       "\n",
       "    .dataframe tbody tr th {\n",
       "        vertical-align: top;\n",
       "    }\n",
       "\n",
       "    .dataframe thead th {\n",
       "        text-align: right;\n",
       "    }\n",
       "</style>\n",
       "<table border=\"1\" class=\"dataframe\">\n",
       "  <thead>\n",
       "    <tr style=\"text-align: right;\">\n",
       "      <th></th>\n",
       "      <th>label</th>\n",
       "      <th>title</th>\n",
       "      <th>content</th>\n",
       "    </tr>\n",
       "  </thead>\n",
       "  <tbody>\n",
       "    <tr>\n",
       "      <th>0</th>\n",
       "      <td>公司内部管理</td>\n",
       "      <td>天安销售虚列费用为员工发福利 相关负责人被处罚</td>\n",
       "      <td>天安销售虚列费用为员工发福利 相关负责人被处罚\\n\\r2018.01.09 11:24:2...</td>\n",
       "    </tr>\n",
       "    <tr>\n",
       "      <th>1</th>\n",
       "      <td>公司内部管理</td>\n",
       "      <td>泰康人寿疑设招聘骗局：3500元底薪扣到剩1200元</td>\n",
       "      <td>泰康人寿疑设招聘骗局：3500元底薪扣到剩1200元\\n\\r　　泰康人寿被爆疑设招聘“骗局...</td>\n",
       "    </tr>\n",
       "    <tr>\n",
       "      <th>2</th>\n",
       "      <td>公司内部管理</td>\n",
       "      <td>上海人寿整改应对监管 万能险收紧后仍过保费半数</td>\n",
       "      <td>上海人寿屡被监管关照 万能险收紧后仍占半壁江山\\n\\r(图片)\\n\\r投资时报\\n\\r01...</td>\n",
       "    </tr>\n",
       "    <tr>\n",
       "      <th>3</th>\n",
       "      <td>公司内部管理</td>\n",
       "      <td>“侨兴债”事件继续发酵，浙商财险9位高管被问责 保监会加大“双罚制”执行力度</td>\n",
       "      <td>“侨兴债”事件继续发酵，浙商财险9位高管被问责 保监会加大“双罚制”执行力度\\n\\r0\\n...</td>\n",
       "    </tr>\n",
       "    <tr>\n",
       "      <th>4</th>\n",
       "      <td>公司内部管理</td>\n",
       "      <td>“开门红”时期监管严查销售误导 民生人寿连吃5罚单</td>\n",
       "      <td>“开门红”时期监管严查销售误导 民生人寿连吃5罚单\\n\\r2018.01.09 01:22...</td>\n",
       "    </tr>\n",
       "  </tbody>\n",
       "</table>\n",
       "</div>"
      ],
      "text/plain": [
       "    label                                   title  \\\n",
       "0  公司内部管理                 天安销售虚列费用为员工发福利 相关负责人被处罚   \n",
       "1  公司内部管理              泰康人寿疑设招聘骗局：3500元底薪扣到剩1200元   \n",
       "2  公司内部管理                 上海人寿整改应对监管 万能险收紧后仍过保费半数   \n",
       "3  公司内部管理  “侨兴债”事件继续发酵，浙商财险9位高管被问责 保监会加大“双罚制”执行力度   \n",
       "4  公司内部管理               “开门红”时期监管严查销售误导 民生人寿连吃5罚单   \n",
       "\n",
       "                                             content  \n",
       "0   天安销售虚列费用为员工发福利 相关负责人被处罚\\n\\r2018.01.09 11:24:2...  \n",
       "1   泰康人寿疑设招聘骗局：3500元底薪扣到剩1200元\\n\\r　　泰康人寿被爆疑设招聘“骗局...  \n",
       "2   上海人寿屡被监管关照 万能险收紧后仍占半壁江山\\n\\r(图片)\\n\\r投资时报\\n\\r01...  \n",
       "3   “侨兴债”事件继续发酵，浙商财险9位高管被问责 保监会加大“双罚制”执行力度\\n\\r0\\n...  \n",
       "4   “开门红”时期监管严查销售误导 民生人寿连吃5罚单\\n\\r2018.01.09 01:22...  "
      ]
     },
     "execution_count": 99,
     "metadata": {},
     "output_type": "execute_result"
    }
   ],
   "source": [
    "file_list_1 = ['circ_class_sel_else_20180827.xlsx',]\n",
    "circ_raw_class_1 = predict_right(folder, file_list_1)\n",
    "\n",
    "circ_raw_class_1['label'] = circ_raw_class_1['label'].apply(lambda x:x.strip())    \n",
    "circ_raw_class_1 = circ_raw_class_1[['label', 'raw_title', 'raw_content']]\n",
    "circ_raw_class_1.columns = ['label', 'title', 'content']\n",
    "print('总数：', circ_raw_class_1.shape)\n",
    "circ_raw_class_1.head()"
   ]
  },
  {
   "cell_type": "code",
   "execution_count": 105,
   "metadata": {
    "ExecuteTime": {
     "end_time": "2018-09-10T09:10:03.493315Z",
     "start_time": "2018-09-10T09:10:03.482315Z"
    }
   },
   "outputs": [
    {
     "data": {
      "text/plain": [
       "噪音        3197\n",
       "监管        1511\n",
       "消费服务      1463\n",
       "其他相关报道    1403\n",
       "行业        1320\n",
       "公司内部管理    1284\n",
       "资本市场       753\n",
       "产品销售       500\n",
       "Name: label, dtype: int64"
      ]
     },
     "execution_count": 105,
     "metadata": {},
     "output_type": "execute_result"
    }
   ],
   "source": [
    "circ_raw_class_1['label'].value_counts()"
   ]
  },
  {
   "cell_type": "markdown",
   "metadata": {},
   "source": [
    "### 预测错误修正后数据"
   ]
  },
  {
   "cell_type": "code",
   "execution_count": 106,
   "metadata": {
    "ExecuteTime": {
     "end_time": "2018-09-10T09:10:27.672698Z",
     "start_time": "2018-09-10T09:10:24.235502Z"
    }
   },
   "outputs": [
    {
     "name": "stdout",
     "output_type": "stream",
     "text": [
      "去删除前：  (394, 8) circ_class_sel_20180827-1.xlsx 公司内部管理\n",
      "去删除后：  (390, 8) circ_class_sel_20180827-1.xlsx 公司内部管理\n",
      "人工误判率： 0.27 算法误判率： 0.47\n",
      "\n",
      "去删除前：  (193, 8) circ_class_sel_20180827-1.xlsx 资本市场\n",
      "去删除后：  (190, 8) circ_class_sel_20180827-1.xlsx 资本市场\n",
      "人工误判率： 0.24 算法误判率： 0.48\n",
      "\n",
      "去删除前：  (405, 8) circ_class_sel_20180827-1.xlsx 行业\n",
      "去删除后：  (397, 8) circ_class_sel_20180827-1.xlsx 行业\n",
      "人工误判率： 0.27 算法误判率： 0.53\n",
      "\n",
      "去删除前：  (385, 8) circ_class_sel_20180827-1.xlsx 监管\n",
      "去删除后：  (381, 8) circ_class_sel_20180827-1.xlsx 监管\n",
      "人工误判率： 0.12 算法误判率： 0.75\n",
      "\n",
      "去删除前：  (230, 8) circ_class_sel_20180827-2.xlsx 消费服务\n",
      "去删除后：  (228, 8) circ_class_sel_20180827-2.xlsx 消费服务\n",
      "人工误判率： 0.12 算法误判率： 0.71\n",
      "\n",
      "去删除前：  (486, 8) circ_class_sel_20180827-2.xlsx 噪音\n",
      "去删除后：  (469, 8) circ_class_sel_20180827-2.xlsx 噪音\n",
      "人工误判率： 0.18 算法误判率： 0.65\n",
      "\n",
      "去删除前：  (188, 8) circ_class_sel_20180827-2.xlsx 其他相关报道\n",
      "去删除后：  (184, 8) circ_class_sel_20180827-2.xlsx 其他相关报道\n",
      "人工误判率： 0.14 算法误判率： 0.65\n",
      "\n",
      "去删除前：  (144, 8) circ_class_sel_20180827-2.xlsx 产品销售\n",
      "去删除后：  (141, 8) circ_class_sel_20180827-2.xlsx 产品销售\n",
      "人工误判率： 0.24 算法误判率： 0.47\n",
      "\n",
      "总数： (2380, 3)\n"
     ]
    },
    {
     "data": {
      "text/html": [
       "<div>\n",
       "<style scoped>\n",
       "    .dataframe tbody tr th:only-of-type {\n",
       "        vertical-align: middle;\n",
       "    }\n",
       "\n",
       "    .dataframe tbody tr th {\n",
       "        vertical-align: top;\n",
       "    }\n",
       "\n",
       "    .dataframe thead th {\n",
       "        text-align: right;\n",
       "    }\n",
       "</style>\n",
       "<table border=\"1\" class=\"dataframe\">\n",
       "  <thead>\n",
       "    <tr style=\"text-align: right;\">\n",
       "      <th></th>\n",
       "      <th>label</th>\n",
       "      <th>title</th>\n",
       "      <th>content</th>\n",
       "    </tr>\n",
       "  </thead>\n",
       "  <tbody>\n",
       "    <tr>\n",
       "      <th>0</th>\n",
       "      <td>公司内部管理</td>\n",
       "      <td>太平人寿2016年原保费收入接近千亿大关</td>\n",
       "      <td>太平人寿2016年原保费收入接近千亿大关\\n\\r(图片) \\n财经头条 1年前\\n\\r记者...</td>\n",
       "    </tr>\n",
       "    <tr>\n",
       "      <th>1</th>\n",
       "      <td>公司内部管理</td>\n",
       "      <td>经过一年半时间的筹建 首家科技保险公司正式开业</td>\n",
       "      <td>现在是科技时代，在我们日常生活中，处处都离不开现代科技，比如快捷付款之类。但最近保险科技最...</td>\n",
       "    </tr>\n",
       "    <tr>\n",
       "      <th>2</th>\n",
       "      <td>公司内部管理</td>\n",
       "      <td>安心财险“闲时退费”产品违反车险条款</td>\n",
       "      <td>近日，中国保监会对安心财险发布的监管函显示，安心财险“闲时退费”产品被定性为违反车险条款...</td>\n",
       "    </tr>\n",
       "    <tr>\n",
       "      <th>3</th>\n",
       "      <td>公司内部管理</td>\n",
       "      <td>上海人寿保险被保监会出具监管函 指其六方面违规</td>\n",
       "      <td>原标题：上海人寿保险被保监会出具监管函 指其六方面违规  千龙网北京10月11日讯 10月1...</td>\n",
       "    </tr>\n",
       "    <tr>\n",
       "      <th>4</th>\n",
       "      <td>公司内部管理</td>\n",
       "      <td>中国太平2018年一季度保费收入624.7亿元</td>\n",
       "      <td>4月13日，中国太平保险控股(股份代码：HK00966)公布2018年一季度保费收入。中国太...</td>\n",
       "    </tr>\n",
       "  </tbody>\n",
       "</table>\n",
       "</div>"
      ],
      "text/plain": [
       "    label                    title  \\\n",
       "0  公司内部管理     太平人寿2016年原保费收入接近千亿大关   \n",
       "1  公司内部管理  经过一年半时间的筹建 首家科技保险公司正式开业   \n",
       "2  公司内部管理       安心财险“闲时退费”产品违反车险条款   \n",
       "3  公司内部管理  上海人寿保险被保监会出具监管函 指其六方面违规   \n",
       "4  公司内部管理  中国太平2018年一季度保费收入624.7亿元   \n",
       "\n",
       "                                             content  \n",
       "0   太平人寿2016年原保费收入接近千亿大关\\n\\r(图片) \\n财经头条 1年前\\n\\r记者...  \n",
       "1   现在是科技时代，在我们日常生活中，处处都离不开现代科技，比如快捷付款之类。但最近保险科技最...  \n",
       "2  　　近日，中国保监会对安心财险发布的监管函显示，安心财险“闲时退费”产品被定性为违反车险条款...  \n",
       "3  原标题：上海人寿保险被保监会出具监管函 指其六方面违规  千龙网北京10月11日讯 10月1...  \n",
       "4  4月13日，中国太平保险控股(股份代码：HK00966)公布2018年一季度保费收入。中国太...  "
      ]
     },
     "execution_count": 106,
     "metadata": {},
     "output_type": "execute_result"
    }
   ],
   "source": [
    "file_list_2 = ['circ_class_sel_20180827-1.xlsx','circ_class_sel_20180827-2.xlsx']\n",
    "\n",
    "circ_raw_class_2 = correct_wrong_data(folder, file_list_2)\n",
    "circ_raw_class_2['label'] = circ_raw_class_2['label'].apply(lambda x:x.strip())  \n",
    "circ_raw_class_2 = circ_raw_class_2[['备注', 'raw_title', 'raw_content']]\n",
    "circ_raw_class_2.columns = ['label', 'title', 'content']\n",
    "print('总数：', circ_raw_class_2.shape)\n",
    "circ_raw_class_2.head()"
   ]
  },
  {
   "cell_type": "code",
   "execution_count": 107,
   "metadata": {
    "ExecuteTime": {
     "end_time": "2018-09-10T09:10:31.374910Z",
     "start_time": "2018-09-10T09:10:31.362909Z"
    }
   },
   "outputs": [
    {
     "data": {
      "text/plain": [
       "行业        491\n",
       "公司内部管理    465\n",
       "噪音        427\n",
       "监管        254\n",
       "产品销售      221\n",
       "资本市场      215\n",
       "其他相关报道    180\n",
       "消费服务      127\n",
       "Name: label, dtype: int64"
      ]
     },
     "execution_count": 107,
     "metadata": {},
     "output_type": "execute_result"
    }
   ],
   "source": [
    "circ_raw_class_2['label'].value_counts()"
   ]
  },
  {
   "cell_type": "markdown",
   "metadata": {},
   "source": [
    "### 新补充数据"
   ]
  },
  {
   "cell_type": "code",
   "execution_count": 108,
   "metadata": {
    "ExecuteTime": {
     "end_time": "2018-09-10T09:10:34.294077Z",
     "start_time": "2018-09-10T09:10:34.159069Z"
    }
   },
   "outputs": [
    {
     "name": "stdout",
     "output_type": "stream",
     "text": [
      "Index(['title', 'content', 'label'], dtype='object')\n",
      "去空值前：  (319, 3) 20180827_circ_class_1.xlsx 社会医疗保险\n",
      "去空值后：  (319, 3) 20180827_circ_class_1.xlsx 社会医疗保险\n",
      "总数： (319, 3)\n"
     ]
    },
    {
     "data": {
      "text/html": [
       "<div>\n",
       "<style scoped>\n",
       "    .dataframe tbody tr th:only-of-type {\n",
       "        vertical-align: middle;\n",
       "    }\n",
       "\n",
       "    .dataframe tbody tr th {\n",
       "        vertical-align: top;\n",
       "    }\n",
       "\n",
       "    .dataframe thead th {\n",
       "        text-align: right;\n",
       "    }\n",
       "</style>\n",
       "<table border=\"1\" class=\"dataframe\">\n",
       "  <thead>\n",
       "    <tr style=\"text-align: right;\">\n",
       "      <th></th>\n",
       "      <th>label</th>\n",
       "      <th>title</th>\n",
       "      <th>content</th>\n",
       "    </tr>\n",
       "  </thead>\n",
       "  <tbody>\n",
       "    <tr>\n",
       "      <th>0</th>\n",
       "      <td>噪音</td>\n",
       "      <td>为什么医疗保险每年在加费用呢？相等的报销会增加吗？</td>\n",
       "      <td>为什么医疗保险每年在加费用呢？相等的报销会增加吗？ 待解决 匿名 问题与我的不同！ 我要立即...</td>\n",
       "    </tr>\n",
       "    <tr>\n",
       "      <th>1</th>\n",
       "      <td>噪音</td>\n",
       "      <td>临沂人注意了！有人看病多花好几万！只因不知道医疗保险的这一方面！</td>\n",
       "      <td>原标题:临沂人注意了！有人看病多花好几万！只因不知道医疗保险的这一方面！    古语说得好 ...</td>\n",
       "    </tr>\n",
       "    <tr>\n",
       "      <th>2</th>\n",
       "      <td>噪音</td>\n",
       "      <td>如何计算医疗保险个人账户中每月可以进账多少钱？</td>\n",
       "      <td>除了公积金这个小金库，我们还有一个医疗保险每月可以进账，医疗保险中的个人账户可以用来看病买药...</td>\n",
       "    </tr>\n",
       "    <tr>\n",
       "      <th>3</th>\n",
       "      <td>噪音</td>\n",
       "      <td>医疗保险是否跟贫困补助有关联</td>\n",
       "      <td>医疗保险是否跟贫困补助有关联 待解决 匿名 问题与我的不同！ 我要立即提问     尊敬的用...</td>\n",
       "    </tr>\n",
       "    <tr>\n",
       "      <th>4</th>\n",
       "      <td>噪音</td>\n",
       "      <td>这事受理了|农村合作医疗保险哪些群体可以减免费用</td>\n",
       "      <td>原标题:这事受理了|农村合作医疗保险哪些群体可以减免费用    有拍友反映：    请问一下...</td>\n",
       "    </tr>\n",
       "  </tbody>\n",
       "</table>\n",
       "</div>"
      ],
      "text/plain": [
       "  label                             title  \\\n",
       "0    噪音         为什么医疗保险每年在加费用呢？相等的报销会增加吗？   \n",
       "1    噪音  临沂人注意了！有人看病多花好几万！只因不知道医疗保险的这一方面！   \n",
       "2    噪音           如何计算医疗保险个人账户中每月可以进账多少钱？   \n",
       "3    噪音                    医疗保险是否跟贫困补助有关联   \n",
       "4    噪音          这事受理了|农村合作医疗保险哪些群体可以减免费用   \n",
       "\n",
       "                                             content  \n",
       "0  为什么医疗保险每年在加费用呢？相等的报销会增加吗？ 待解决 匿名 问题与我的不同！ 我要立即...  \n",
       "1  原标题:临沂人注意了！有人看病多花好几万！只因不知道医疗保险的这一方面！    古语说得好 ...  \n",
       "2  除了公积金这个小金库，我们还有一个医疗保险每月可以进账，医疗保险中的个人账户可以用来看病买药...  \n",
       "3  医疗保险是否跟贫困补助有关联 待解决 匿名 问题与我的不同！ 我要立即提问     尊敬的用...  \n",
       "4  原标题:这事受理了|农村合作医疗保险哪些群体可以减免费用    有拍友反映：    请问一下...  "
      ]
     },
     "execution_count": 108,
     "metadata": {},
     "output_type": "execute_result"
    }
   ],
   "source": [
    "file_list_3 = ['20180827_circ_class_1.xlsx'\n",
    "               ] # 多个 sheet\n",
    "\n",
    "circ_raw_class_3 = get_new_data(folder, file_list_3)\n",
    "\n",
    "circ_raw_class_3['label'] = circ_raw_class_3['label'].apply(lambda x:x.strip())    \n",
    "print('总数：', circ_raw_class_3.shape)\n",
    "circ_raw_class_3.head()"
   ]
  },
  {
   "cell_type": "code",
   "execution_count": 109,
   "metadata": {
    "ExecuteTime": {
     "end_time": "2018-09-10T09:10:37.877282Z",
     "start_time": "2018-09-10T09:10:37.864281Z"
    }
   },
   "outputs": [
    {
     "data": {
      "text/plain": [
       "噪音    319\n",
       "Name: label, dtype: int64"
      ]
     },
     "execution_count": 109,
     "metadata": {},
     "output_type": "execute_result"
    }
   ],
   "source": [
    "circ_raw_class_3['label'].value_counts()"
   ]
  },
  {
   "cell_type": "markdown",
   "metadata": {},
   "source": [
    "### 模型预测后反馈数据"
   ]
  },
  {
   "cell_type": "code",
   "execution_count": 115,
   "metadata": {
    "ExecuteTime": {
     "end_time": "2018-09-10T09:13:14.753255Z",
     "start_time": "2018-09-10T09:13:11.449066Z"
    }
   },
   "outputs": [
    {
     "name": "stdout",
     "output_type": "stream",
     "text": [
      "类别： 噪音 总数： 200 正确数 187 正确比例 0.935\n",
      "去空值前：  (200, 3) 20180904_circ_class_feedback.xlsx 噪音\n",
      "去空值后：  (200, 3) 20180904_circ_class_feedback.xlsx 噪音\n",
      "\n",
      "类别： 消费服务 总数： 198 正确数 137 正确比例 0.6919191919191919\n",
      "去空值前：  (198, 3) 20180904_circ_class_feedback.xlsx 消费服务\n",
      "去空值后：  (198, 3) 20180904_circ_class_feedback.xlsx 消费服务\n",
      "\n",
      "类别： 产品销售 总数： 194 正确数 183 正确比例 0.9432989690721649\n",
      "去空值前：  (194, 3) 20180904_circ_class_feedback.xlsx 产品销售\n",
      "去空值后：  (194, 3) 20180904_circ_class_feedback.xlsx 产品销售\n",
      "\n",
      "类别： 其他相关报道 总数： 200 正确数 155 正确比例 0.775\n",
      "去空值前：  (200, 3) 20180904_circ_class_feedback.xlsx 其他相关报道\n",
      "去空值后：  (200, 3) 20180904_circ_class_feedback.xlsx 其他相关报道\n",
      "\n",
      "类别： 监管 总数： 198 正确数 128 正确比例 0.6464646464646465\n",
      "去空值前：  (198, 3) 20180904_circ_class_feedback.xlsx 监管\n",
      "去空值后：  (198, 3) 20180904_circ_class_feedback.xlsx 监管\n",
      "\n",
      "类别： 行业 总数： 198 正确数 137 正确比例 0.6919191919191919\n",
      "去空值前：  (198, 3) 20180904_circ_class_feedback.xlsx 行业\n",
      "去空值后：  (198, 3) 20180904_circ_class_feedback.xlsx 行业\n",
      "\n",
      "类别： 资本市场 总数： 199 正确数 171 正确比例 0.8592964824120602\n",
      "去空值前：  (199, 3) 20180904_circ_class_feedback.xlsx 资本市场\n",
      "去空值后：  (199, 3) 20180904_circ_class_feedback.xlsx 资本市场\n",
      "\n",
      "类别： 公司内部管理 总数： 200 正确数 138 正确比例 0.69\n",
      "去空值前：  (200, 3) 20180904_circ_class_feedback.xlsx 公司内部管理\n",
      "去空值后：  (200, 3) 20180904_circ_class_feedback.xlsx 公司内部管理\n",
      "\n",
      "类别： 噪音 总数： 298 正确数 279 正确比例 0.9362416107382551\n",
      "去空值前：  (298, 3) 20180904_circ_class_feedback_1.xlsx 噪音\n",
      "去空值后：  (298, 3) 20180904_circ_class_feedback_1.xlsx 噪音\n",
      "\n",
      "类别： 监管 总数： 285 正确数 111 正确比例 0.3894736842105263\n",
      "去空值前：  (285, 3) 20180904_circ_class_feedback_1.xlsx 监管\n",
      "去空值后：  (285, 3) 20180904_circ_class_feedback_1.xlsx 监管\n",
      "\n",
      "类别： 行业 总数： 288 正确数 175 正确比例 0.6076388888888888\n",
      "去空值前：  (288, 3) 20180904_circ_class_feedback_1.xlsx 行业\n",
      "去空值后：  (288, 3) 20180904_circ_class_feedback_1.xlsx 行业\n",
      "\n",
      "类别： 公司内部管理 总数： 277 正确数 120 正确比例 0.4332129963898917\n",
      "去空值前：  (277, 3) 20180904_circ_class_feedback_1.xlsx 公司内部管理\n",
      "去空值后：  (277, 3) 20180904_circ_class_feedback_1.xlsx 公司内部管理\n",
      "\n",
      "总数： (2735, 3)\n"
     ]
    },
    {
     "data": {
      "text/html": [
       "<div>\n",
       "<style scoped>\n",
       "    .dataframe tbody tr th:only-of-type {\n",
       "        vertical-align: middle;\n",
       "    }\n",
       "\n",
       "    .dataframe tbody tr th {\n",
       "        vertical-align: top;\n",
       "    }\n",
       "\n",
       "    .dataframe thead th {\n",
       "        text-align: right;\n",
       "    }\n",
       "</style>\n",
       "<table border=\"1\" class=\"dataframe\">\n",
       "  <thead>\n",
       "    <tr style=\"text-align: right;\">\n",
       "      <th></th>\n",
       "      <th>label</th>\n",
       "      <th>title</th>\n",
       "      <th>content</th>\n",
       "    </tr>\n",
       "  </thead>\n",
       "  <tbody>\n",
       "    <tr>\n",
       "      <th>0</th>\n",
       "      <td>噪音</td>\n",
       "      <td>金塔县司法局三举措进一步加强对农民工追索劳动报酬提供法律援助服务</td>\n",
       "      <td>今年以来，金塔县司法局深刻认识新形势下做好对欠薪农民工提供法律服务和法律援助的重要性和紧...</td>\n",
       "    </tr>\n",
       "    <tr>\n",
       "      <th>1</th>\n",
       "      <td>噪音</td>\n",
       "      <td>经济日报：稳外贸需打“组合拳”</td>\n",
       "      <td>8月28日，江苏省太仓中集冷藏物流装备有限公司堆场上，各类冷藏箱整齐堆放，这些产品即将销...</td>\n",
       "    </tr>\n",
       "    <tr>\n",
       "      <th>2</th>\n",
       "      <td>行业</td>\n",
       "      <td>捷越晨报│多家网贷平台宣布入股银行, 意在牌照与增信；深圳互金协会提示长租公寓“租金贷”风险。</td>\n",
       "      <td>29 星期三 2018年8月 1 宏观经济 宏观数据 上证指数 2777.98 -2.92 ...</td>\n",
       "    </tr>\n",
       "    <tr>\n",
       "      <th>3</th>\n",
       "      <td>消费服务</td>\n",
       "      <td>山东紧急调运２０台长臂挖掘机支援抢险救灾</td>\n",
       "      <td>新华社济南８月２８日电（记者叶婧）记者从山东省抗灾救灾与恢复重建指挥部了解到，应潍坊市请求，...</td>\n",
       "    </tr>\n",
       "    <tr>\n",
       "      <th>4</th>\n",
       "      <td>噪音</td>\n",
       "      <td>[军工]景嘉微：自主可控GPU稀缺标的，军民产业融合发展 国产替代系列之三</td>\n",
       "      <td>摘要 一、 军用图形显控龙头，自主可控GPU空间广阔 公司主要业务为军用图形显控产品，从最开...</td>\n",
       "    </tr>\n",
       "  </tbody>\n",
       "</table>\n",
       "</div>"
      ],
      "text/plain": [
       "  label                                            title  \\\n",
       "0    噪音                 金塔县司法局三举措进一步加强对农民工追索劳动报酬提供法律援助服务   \n",
       "1    噪音                                  经济日报：稳外贸需打“组合拳”   \n",
       "2    行业  捷越晨报│多家网贷平台宣布入股银行, 意在牌照与增信；深圳互金协会提示长租公寓“租金贷”风险。   \n",
       "3  消费服务                             山东紧急调运２０台长臂挖掘机支援抢险救灾   \n",
       "4    噪音            [军工]景嘉微：自主可控GPU稀缺标的，军民产业融合发展 国产替代系列之三   \n",
       "\n",
       "                                             content  \n",
       "0  　　今年以来，金塔县司法局深刻认识新形势下做好对欠薪农民工提供法律服务和法律援助的重要性和紧...  \n",
       "1  　　8月28日，江苏省太仓中集冷藏物流装备有限公司堆场上，各类冷藏箱整齐堆放，这些产品即将销...  \n",
       "2  29 星期三 2018年8月 1 宏观经济 宏观数据 上证指数 2777.98 -2.92 ...  \n",
       "3  新华社济南８月２８日电（记者叶婧）记者从山东省抗灾救灾与恢复重建指挥部了解到，应潍坊市请求，...  \n",
       "4  摘要 一、 军用图形显控龙头，自主可控GPU空间广阔 公司主要业务为军用图形显控产品，从最开...  "
      ]
     },
     "execution_count": 115,
     "metadata": {},
     "output_type": "execute_result"
    }
   ],
   "source": [
    "file_list_4 = ['20180904_circ_class_feedback.xlsx', '20180904_circ_class_feedback_1.xlsx',\n",
    "              ] # 多个 sheet\n",
    "\n",
    "circ_raw_class_4 = get_feedback_data(folder, file_list_4)\n",
    "\n",
    "circ_raw_class_4['label'] = circ_raw_class_4['label'].apply(lambda x:x.strip())    \n",
    "print('总数：', circ_raw_class_4.shape)\n",
    "circ_raw_class_4.head()"
   ]
  },
  {
   "cell_type": "code",
   "execution_count": 116,
   "metadata": {
    "ExecuteTime": {
     "end_time": "2018-09-10T09:13:21.173622Z",
     "start_time": "2018-09-10T09:13:21.160621Z"
    }
   },
   "outputs": [
    {
     "data": {
      "text/plain": [
       "噪音        892\n",
       "行业        420\n",
       "公司内部管理    320\n",
       "监管        249\n",
       "产品销售      229\n",
       "资本市场      216\n",
       "其他相关报道    214\n",
       "消费服务      195\n",
       "Name: label, dtype: int64"
      ]
     },
     "execution_count": 116,
     "metadata": {},
     "output_type": "execute_result"
    }
   ],
   "source": [
    "circ_raw_class_4['label'].value_counts()"
   ]
  },
  {
   "cell_type": "markdown",
   "metadata": {},
   "source": [
    "## 合并数据"
   ]
  },
  {
   "cell_type": "code",
   "execution_count": 117,
   "metadata": {
    "ExecuteTime": {
     "end_time": "2018-09-10T09:14:42.088250Z",
     "start_time": "2018-09-10T09:14:41.611223Z"
    }
   },
   "outputs": [
    {
     "name": "stdout",
     "output_type": "stream",
     "text": [
      "去重前：  (16865, 5)\n",
      "去重后：  (16865, 5)\n"
     ]
    },
    {
     "data": {
      "text/html": [
       "<div>\n",
       "<style scoped>\n",
       "    .dataframe tbody tr th:only-of-type {\n",
       "        vertical-align: middle;\n",
       "    }\n",
       "\n",
       "    .dataframe tbody tr th {\n",
       "        vertical-align: top;\n",
       "    }\n",
       "\n",
       "    .dataframe thead th {\n",
       "        text-align: right;\n",
       "    }\n",
       "</style>\n",
       "<table border=\"1\" class=\"dataframe\">\n",
       "  <thead>\n",
       "    <tr style=\"text-align: right;\">\n",
       "      <th></th>\n",
       "      <th>label</th>\n",
       "      <th>title</th>\n",
       "      <th>content</th>\n",
       "      <th>title_content</th>\n",
       "      <th>index</th>\n",
       "    </tr>\n",
       "  </thead>\n",
       "  <tbody>\n",
       "    <tr>\n",
       "      <th>0</th>\n",
       "      <td>公司内部管理</td>\n",
       "      <td>天安销售虚列费用为员工发福利 相关负责人被处罚</td>\n",
       "      <td>天安销售虚列费用为员工发福利 相关负责人被处罚\\n\\r2018.01.09 11:24:2...</td>\n",
       "      <td>天安销售虚列费用为员工发福利 相关负责人被处罚。 天安销售虚列费用为员工发福利 相关负责人被...</td>\n",
       "      <td>0</td>\n",
       "    </tr>\n",
       "    <tr>\n",
       "      <th>1</th>\n",
       "      <td>公司内部管理</td>\n",
       "      <td>泰康人寿疑设招聘骗局：3500元底薪扣到剩1200元</td>\n",
       "      <td>泰康人寿疑设招聘骗局：3500元底薪扣到剩1200元\\n\\r　　泰康人寿被爆疑设招聘“骗局...</td>\n",
       "      <td>泰康人寿疑设招聘骗局：3500元底薪扣到剩1200元。 泰康人寿疑设招聘骗局：3500元底薪...</td>\n",
       "      <td>1</td>\n",
       "    </tr>\n",
       "    <tr>\n",
       "      <th>2</th>\n",
       "      <td>公司内部管理</td>\n",
       "      <td>上海人寿整改应对监管 万能险收紧后仍过保费半数</td>\n",
       "      <td>上海人寿屡被监管关照 万能险收紧后仍占半壁江山\\n\\r(图片)\\n\\r投资时报\\n\\r01...</td>\n",
       "      <td>上海人寿整改应对监管 万能险收紧后仍过保费半数。 上海人寿屡被监管关照 万能险收紧后仍占半壁...</td>\n",
       "      <td>2</td>\n",
       "    </tr>\n",
       "    <tr>\n",
       "      <th>3</th>\n",
       "      <td>公司内部管理</td>\n",
       "      <td>“侨兴债”事件继续发酵，浙商财险9位高管被问责 保监会加大“双罚制”执行力度</td>\n",
       "      <td>“侨兴债”事件继续发酵，浙商财险9位高管被问责 保监会加大“双罚制”执行力度\\n\\r0\\n...</td>\n",
       "      <td>“侨兴债”事件继续发酵，浙商财险9位高管被问责 保监会加大“双罚制”执行力度。 “侨兴债”事...</td>\n",
       "      <td>3</td>\n",
       "    </tr>\n",
       "    <tr>\n",
       "      <th>4</th>\n",
       "      <td>公司内部管理</td>\n",
       "      <td>“开门红”时期监管严查销售误导 民生人寿连吃5罚单</td>\n",
       "      <td>“开门红”时期监管严查销售误导 民生人寿连吃5罚单\\n\\r2018.01.09 01:22...</td>\n",
       "      <td>“开门红”时期监管严查销售误导 民生人寿连吃5罚单。 “开门红”时期监管严查销售误导 民生人...</td>\n",
       "      <td>4</td>\n",
       "    </tr>\n",
       "  </tbody>\n",
       "</table>\n",
       "</div>"
      ],
      "text/plain": [
       "    label                                   title  \\\n",
       "0  公司内部管理                 天安销售虚列费用为员工发福利 相关负责人被处罚   \n",
       "1  公司内部管理              泰康人寿疑设招聘骗局：3500元底薪扣到剩1200元   \n",
       "2  公司内部管理                 上海人寿整改应对监管 万能险收紧后仍过保费半数   \n",
       "3  公司内部管理  “侨兴债”事件继续发酵，浙商财险9位高管被问责 保监会加大“双罚制”执行力度   \n",
       "4  公司内部管理               “开门红”时期监管严查销售误导 民生人寿连吃5罚单   \n",
       "\n",
       "                                             content  \\\n",
       "0   天安销售虚列费用为员工发福利 相关负责人被处罚\\n\\r2018.01.09 11:24:2...   \n",
       "1   泰康人寿疑设招聘骗局：3500元底薪扣到剩1200元\\n\\r　　泰康人寿被爆疑设招聘“骗局...   \n",
       "2   上海人寿屡被监管关照 万能险收紧后仍占半壁江山\\n\\r(图片)\\n\\r投资时报\\n\\r01...   \n",
       "3   “侨兴债”事件继续发酵，浙商财险9位高管被问责 保监会加大“双罚制”执行力度\\n\\r0\\n...   \n",
       "4   “开门红”时期监管严查销售误导 民生人寿连吃5罚单\\n\\r2018.01.09 01:22...   \n",
       "\n",
       "                                       title_content  index  \n",
       "0  天安销售虚列费用为员工发福利 相关负责人被处罚。 天安销售虚列费用为员工发福利 相关负责人被...      0  \n",
       "1  泰康人寿疑设招聘骗局：3500元底薪扣到剩1200元。 泰康人寿疑设招聘骗局：3500元底薪...      1  \n",
       "2  上海人寿整改应对监管 万能险收紧后仍过保费半数。 上海人寿屡被监管关照 万能险收紧后仍占半壁...      2  \n",
       "3  “侨兴债”事件继续发酵，浙商财险9位高管被问责 保监会加大“双罚制”执行力度。 “侨兴债”事...      3  \n",
       "4  “开门红”时期监管严查销售误导 民生人寿连吃5罚单。 “开门红”时期监管严查销售误导 民生人...      4  "
      ]
     },
     "execution_count": 117,
     "metadata": {},
     "output_type": "execute_result"
    }
   ],
   "source": [
    "circ_raw_class = pd.concat([circ_raw_class_1, circ_raw_class_2,\n",
    "                          circ_raw_class_3, circ_raw_class_4], \n",
    "                         axis = 0)\n",
    "\n",
    "# circ_raw_class = cbrc_raw_class_4\n",
    "circ_raw_class['title_content'] = circ_raw_class['title'].astype(str) + '。' + circ_raw_class['content'].astype(str)\n",
    "circ_raw_class['label'] = circ_raw_class['label'].apply(lambda x:x.strip())\n",
    "circ_raw_class['index'] = range(circ_raw_class.shape[0])\n",
    "print('去重前： ', circ_raw_class.shape)\n",
    "circ_raw_class = circ_raw_class.drop_duplicates(subset = 'title_content')\n",
    "print('去重后： ', circ_raw_class.shape)\n",
    "circ_raw_class.head()"
   ]
  },
  {
   "cell_type": "code",
   "execution_count": 118,
   "metadata": {
    "ExecuteTime": {
     "end_time": "2018-09-10T09:14:46.400497Z",
     "start_time": "2018-09-10T09:14:46.387496Z"
    }
   },
   "outputs": [
    {
     "name": "stdout",
     "output_type": "stream",
     "text": [
      "(16865, 5)\n"
     ]
    },
    {
     "data": {
      "text/plain": [
       "label\n",
       "产品销售       950\n",
       "公司内部管理    2069\n",
       "其他相关报道    1797\n",
       "噪音        4835\n",
       "消费服务      1785\n",
       "监管        2014\n",
       "行业        2231\n",
       "资本市场      1184\n",
       "Name: title, dtype: int64"
      ]
     },
     "execution_count": 118,
     "metadata": {},
     "output_type": "execute_result"
    }
   ],
   "source": [
    "print(circ_raw_class.shape)\n",
    "circ_raw_class.groupby('label')['title'].count()"
   ]
  },
  {
   "cell_type": "markdown",
   "metadata": {},
   "source": [
    "## 预处理"
   ]
  },
  {
   "cell_type": "code",
   "execution_count": null,
   "metadata": {
    "collapsed": true
   },
   "outputs": [],
   "source": []
  },
  {
   "cell_type": "code",
   "execution_count": null,
   "metadata": {
    "collapsed": true
   },
   "outputs": [],
   "source": []
  },
  {
   "cell_type": "code",
   "execution_count": null,
   "metadata": {
    "collapsed": true
   },
   "outputs": [],
   "source": []
  },
  {
   "cell_type": "markdown",
   "metadata": {},
   "source": [
    "# 银行业：1 八分类"
   ]
  },
  {
   "cell_type": "markdown",
   "metadata": {},
   "source": [
    "## 读取数据"
   ]
  },
  {
   "cell_type": "code",
   "execution_count": 119,
   "metadata": {
    "ExecuteTime": {
     "end_time": "2018-09-10T09:16:23.006022Z",
     "start_time": "2018-09-10T09:16:23.002022Z"
    },
    "collapsed": true
   },
   "outputs": [],
   "source": [
    "folder = 'cbrc_data_class/20180910'"
   ]
  },
  {
   "cell_type": "markdown",
   "metadata": {},
   "source": [
    "### 预测正确数据"
   ]
  },
  {
   "cell_type": "code",
   "execution_count": null,
   "metadata": {
    "collapsed": true
   },
   "outputs": [],
   "source": []
  },
  {
   "cell_type": "markdown",
   "metadata": {},
   "source": [
    "### 预测错误修正后数据"
   ]
  },
  {
   "cell_type": "code",
   "execution_count": null,
   "metadata": {
    "collapsed": true
   },
   "outputs": [],
   "source": []
  },
  {
   "cell_type": "markdown",
   "metadata": {},
   "source": [
    "### 新补充数据"
   ]
  },
  {
   "cell_type": "code",
   "execution_count": 122,
   "metadata": {
    "ExecuteTime": {
     "end_time": "2018-09-10T09:16:40.987051Z",
     "start_time": "2018-09-10T09:16:37.378844Z"
    }
   },
   "outputs": [
    {
     "name": "stdout",
     "output_type": "stream",
     "text": [
      "Index(['url', 'title', 'content', 'label'], dtype='object')\n",
      "去空值前：  (100, 3) 20180814_cbrc_class_1.xlsx 噪音\n",
      "去空值后：  (100, 3) 20180814_cbrc_class_1.xlsx 噪音\n",
      "Index(['title', 'content', 'label'], dtype='object')\n",
      "去空值前：  (100, 3) 20180814_cbrc_class_1.xlsx 公司内部管理\n",
      "去空值后：  (100, 3) 20180814_cbrc_class_1.xlsx 公司内部管理\n",
      "Index(['title', 'content', 'label'], dtype='object')\n",
      "去空值前：  (100, 3) 20180814_cbrc_class_1.xlsx 行业\n",
      "去空值后：  (100, 3) 20180814_cbrc_class_1.xlsx 行业\n",
      "Index(['title', 'content', 'label'], dtype='object')\n",
      "去空值前：  (100, 3) 20180814_cbrc_class_1.xlsx 监管\n",
      "去空值后：  (100, 3) 20180814_cbrc_class_1.xlsx 监管\n",
      "Index(['title', 'content', 'label'], dtype='object')\n",
      "去空值前：  (100, 3) 20180814_cbrc_class_1.xlsx 消费服务\n",
      "去空值后：  (100, 3) 20180814_cbrc_class_1.xlsx 消费服务\n",
      "Index(['title', 'content', 'label'], dtype='object')\n",
      "去空值前：  (107, 3) 20180814_cbrc_class_1.xlsx 资本市场\n",
      "去空值后：  (107, 3) 20180814_cbrc_class_1.xlsx 资本市场\n",
      "Index(['title', 'content', 'label'], dtype='object')\n",
      "去空值前：  (100, 3) 20180814_cbrc_class_1.xlsx 产品销售\n",
      "去空值后：  (100, 3) 20180814_cbrc_class_1.xlsx 产品销售\n",
      "Index(['title', 'content', 'label'], dtype='object')\n",
      "去空值前：  (105, 3) 20180814_cbrc_class_1.xlsx 其他相关报道\n",
      "去空值后：  (105, 3) 20180814_cbrc_class_1.xlsx 其他相关报道\n",
      "Index(['url', 'title', 'content', 'titlehash', 'label'], dtype='object')\n",
      "去空值前：  (800, 3) 20180814_cbrc_class_2.xlsx Sheet1\n",
      "去空值后：  (800, 3) 20180814_cbrc_class_2.xlsx Sheet1\n",
      "Index(['title', 'content', 'label'], dtype='object')\n",
      "去空值前：  (462, 3) 20180817_cbrc_class_1.xlsx Sheet1\n",
      "去空值后：  (462, 3) 20180817_cbrc_class_1.xlsx Sheet1\n",
      "Index(['title', 'content', 'label'], dtype='object')\n",
      "去空值前：  (200, 3) 20180823_cbrc_class_1.xlsx 公司内部管理\n",
      "去空值后：  (200, 3) 20180823_cbrc_class_1.xlsx 公司内部管理\n",
      "Index(['title', 'content', 'label'], dtype='object')\n",
      "去空值前：  (718, 3) 20180823_cbrc_class_1.xlsx 消费服务\n",
      "去空值后：  (718, 3) 20180823_cbrc_class_1.xlsx 消费服务\n",
      "Index(['title', 'content', 'label'], dtype='object')\n",
      "去空值前：  (47, 3) 20180823_cbrc_class_1.xlsx 其他相关报道\n",
      "去空值后：  (47, 3) 20180823_cbrc_class_1.xlsx 其他相关报道\n",
      "Index(['title', 'content', 'label'], dtype='object')\n",
      "去空值前：  (91, 3) 20180823_cbrc_class_1.xlsx 资本市场\n",
      "去空值后：  (91, 3) 20180823_cbrc_class_1.xlsx 资本市场\n",
      "Index(['title', 'content', 'label'], dtype='object')\n",
      "去空值前：  (50, 3) 20180823_cbrc_class_1.xlsx 产品销售\n",
      "去空值后：  (50, 3) 20180823_cbrc_class_1.xlsx 产品销售\n",
      "Index(['title', 'content', 'label'], dtype='object')\n",
      "去空值前：  (944, 3) 20180823_cbrc_class_2.xlsx Sheet1\n",
      "去空值后：  (944, 3) 20180823_cbrc_class_2.xlsx Sheet1\n",
      "Index(['predict_proba', 'predict_label', 'label', 'title', 'content'], dtype='object')\n",
      "去空值前：  (508, 3) 20180823_cbrc_class_3.xlsx 其他相关报道\n",
      "去空值后：  (389, 3) 20180823_cbrc_class_3.xlsx 其他相关报道\n",
      "Index(['predict_proba', 'predict_label', 'label', 'title', 'content'], dtype='object')\n",
      "去空值前：  (278, 3) 20180823_cbrc_class_3.xlsx 资本市场\n",
      "去空值后：  (109, 3) 20180823_cbrc_class_3.xlsx 资本市场\n",
      "Index(['predict_proba', 'predict_label', 'label', 'title', 'content'], dtype='object')\n",
      "去空值前：  (722, 3) 20180823_cbrc_class_3.xlsx 产品销售\n",
      "去空值后：  (380, 3) 20180823_cbrc_class_3.xlsx 产品销售\n",
      "Index(['predict_proba', 'predict_label', 'label', 'title', 'content'], dtype='object')\n",
      "去空值前：  (826, 3) 20180824_cbrc_class_1.xlsx 消费服务\n",
      "去空值后：  (51, 3) 20180824_cbrc_class_1.xlsx 消费服务\n",
      "Index(['predict_proba', 'predict_label', 'label', 'title', 'content'], dtype='object')\n",
      "去空值前：  (685, 3) 20180824_cbrc_class_1.xlsx 监管\n",
      "去空值后：  (200, 3) 20180824_cbrc_class_1.xlsx 监管\n",
      "Index(['predict_proba', 'predict_label', 'label', 'title', 'content'], dtype='object')\n",
      "去空值前：  (213, 3) 20180824_cbrc_class_1.xlsx 公司内部管理\n",
      "去空值后：  (133, 3) 20180824_cbrc_class_1.xlsx 公司内部管理\n",
      "Index(['predict_label', 'label', 'title', 'content'], dtype='object')\n",
      "去空值前：  (58, 3) 20180824_cbrc_class_2.xlsx 公司内部管理\n",
      "去空值后：  (58, 3) 20180824_cbrc_class_2.xlsx 公司内部管理\n",
      "Index(['predict_label', 'label', 'title', 'content'], dtype='object')\n",
      "去空值前：  (102, 3) 20180824_cbrc_class_2.xlsx 资本市场\n",
      "去空值后：  (102, 3) 20180824_cbrc_class_2.xlsx 资本市场\n",
      "Index(['title', 'content', 'label'], dtype='object')\n",
      "去空值前：  (153, 3) 20180824_cbrc_class_3.xlsx 其他相关报道\n",
      "去空值后：  (153, 3) 20180824_cbrc_class_3.xlsx 其他相关报道\n",
      "Index(['title', 'content', 'label'], dtype='object')\n",
      "去空值前：  (52, 3) 20180824_cbrc_class_3.xlsx 公司内部管理\n",
      "去空值后：  (52, 3) 20180824_cbrc_class_3.xlsx 公司内部管理\n",
      "Index(['title', 'content', 'label'], dtype='object')\n",
      "去空值前：  (100, 3) 20180824_cbrc_class_3.xlsx 资本市场\n",
      "去空值后：  (100, 3) 20180824_cbrc_class_3.xlsx 资本市场\n",
      "总数： (5851, 3)\n"
     ]
    },
    {
     "data": {
      "text/html": [
       "<div>\n",
       "<style scoped>\n",
       "    .dataframe tbody tr th:only-of-type {\n",
       "        vertical-align: middle;\n",
       "    }\n",
       "\n",
       "    .dataframe tbody tr th {\n",
       "        vertical-align: top;\n",
       "    }\n",
       "\n",
       "    .dataframe thead th {\n",
       "        text-align: right;\n",
       "    }\n",
       "</style>\n",
       "<table border=\"1\" class=\"dataframe\">\n",
       "  <thead>\n",
       "    <tr style=\"text-align: right;\">\n",
       "      <th></th>\n",
       "      <th>label</th>\n",
       "      <th>title</th>\n",
       "      <th>content</th>\n",
       "    </tr>\n",
       "  </thead>\n",
       "  <tbody>\n",
       "    <tr>\n",
       "      <th>0</th>\n",
       "      <td>噪音</td>\n",
       "      <td>小白学保险之基础篇——买好宝宝保险，第一步该做啥？</td>\n",
       "      <td>话说上回，在《给宝宝买保险，你说该信谁？》 中，身为一家之主的小白，想为家里挑些合适的保险，...</td>\n",
       "    </tr>\n",
       "    <tr>\n",
       "      <th>1</th>\n",
       "      <td>噪音</td>\n",
       "      <td>过诉讼时效的债务如何处理？看最高法院的5个答复(全)</td>\n",
       "      <td>作者｜赫少华律师，远闻(上海)律师事务所，摘自微信公号“儒者如墨”，转载请注明 ▌一、...</td>\n",
       "    </tr>\n",
       "    <tr>\n",
       "      <th>2</th>\n",
       "      <td>噪音</td>\n",
       "      <td>国家旅游局局长李金早：推动从“高速旅游增长”向“优质旅游发展”转变</td>\n",
       "      <td>权威声音 1月8日全国旅游工作会议在厦门召开，国家旅游局局长李金早做了题为《以习近平新时代中...</td>\n",
       "    </tr>\n",
       "    <tr>\n",
       "      <th>3</th>\n",
       "      <td>噪音</td>\n",
       "      <td>【法律宣传】状告百度们侵犯隐私,须用好公益诉讼利剑</td>\n",
       "      <td>1月1日,李书福在谈及电话、微信的保密问题时隔空diss马化腾,称其肯定天天在看我...</td>\n",
       "    </tr>\n",
       "    <tr>\n",
       "      <th>4</th>\n",
       "      <td>噪音</td>\n",
       "      <td>百度被起诉，支付宝被约谈，网上隐私的边界在哪里？</td>\n",
       "      <td>据国家互联网信息办公室网站消息，针对近日新闻媒体报道的“支付宝年度账单事件”，1月6日，国家...</td>\n",
       "    </tr>\n",
       "  </tbody>\n",
       "</table>\n",
       "</div>"
      ],
      "text/plain": [
       "  label                              title  \\\n",
       "0    噪音          小白学保险之基础篇——买好宝宝保险，第一步该做啥？   \n",
       "1    噪音         过诉讼时效的债务如何处理？看最高法院的5个答复(全)   \n",
       "2    噪音  国家旅游局局长李金早：推动从“高速旅游增长”向“优质旅游发展”转变   \n",
       "3    噪音          【法律宣传】状告百度们侵犯隐私,须用好公益诉讼利剑   \n",
       "4    噪音           百度被起诉，支付宝被约谈，网上隐私的边界在哪里？   \n",
       "\n",
       "                                             content  \n",
       "0  话说上回，在《给宝宝买保险，你说该信谁？》 中，身为一家之主的小白，想为家里挑些合适的保险，...  \n",
       "1  　　 作者｜赫少华律师，远闻(上海)律师事务所，摘自微信公号“儒者如墨”，转载请注明 ▌一、...  \n",
       "2  权威声音 1月8日全国旅游工作会议在厦门召开，国家旅游局局长李金早做了题为《以习近平新时代中...  \n",
       "3       1月1日,李书福在谈及电话、微信的保密问题时隔空diss马化腾,称其肯定天天在看我...  \n",
       "4  据国家互联网信息办公室网站消息，针对近日新闻媒体报道的“支付宝年度账单事件”，1月6日，国家...  "
      ]
     },
     "execution_count": 122,
     "metadata": {},
     "output_type": "execute_result"
    }
   ],
   "source": [
    "file_list_class_3 = ['20180814_cbrc_class_1.xlsx', '20180814_cbrc_class_2.xlsx',\n",
    "               '20180817_cbrc_class_1.xlsx', '20180823_cbrc_class_1.xlsx',\n",
    "               '20180823_cbrc_class_2.xlsx', '20180823_cbrc_class_3.xlsx', \n",
    "               '20180824_cbrc_class_1.xlsx', '20180824_cbrc_class_2.xlsx', \n",
    "               '20180824_cbrc_class_3.xlsx'] # 多个 sheet\n",
    "\n",
    "cbrc_raw_class_3 = get_new_data(folder, file_list_class_3)\n",
    "\n",
    "cbrc_raw_class_3['label'] = cbrc_raw_class_3['label'].apply(lambda x:x.strip())    \n",
    "print('总数：', cbrc_raw_class_3.shape)\n",
    "cbrc_raw_class_3.head()"
   ]
  },
  {
   "cell_type": "markdown",
   "metadata": {},
   "source": [
    "### 模型预测后反馈数据"
   ]
  },
  {
   "cell_type": "code",
   "execution_count": 127,
   "metadata": {
    "ExecuteTime": {
     "end_time": "2018-09-10T09:18:21.631807Z",
     "start_time": "2018-09-10T09:18:18.520629Z"
    }
   },
   "outputs": [
    {
     "name": "stdout",
     "output_type": "stream",
     "text": [
      "类别： 产品销售 总数： 453 正确数 25 正确比例 0.05518763796909492\n",
      "去空值前：  (453, 3) 20180816_cbrc_class_feedback.xlsx 产品销售\n",
      "去空值后：  (25, 3) 20180816_cbrc_class_feedback.xlsx 产品销售\n",
      "\n",
      "类别： 噪音 总数： 700 正确数 700 正确比例 1.0\n",
      "去空值前：  (700, 3) 20180816_cbrc_class_feedback.xlsx 噪音\n",
      "去空值后：  (700, 3) 20180816_cbrc_class_feedback.xlsx 噪音\n",
      "\n",
      "类别： 消费服务 总数： 290 正确数 3 正确比例 0.010344827586206896\n",
      "去空值前：  (290, 3) 20180816_cbrc_class_feedback.xlsx 消费服务\n",
      "去空值后：  (3, 3) 20180816_cbrc_class_feedback.xlsx 消费服务\n",
      "\n",
      "类别： 行业 总数： 226 正确数 46 正确比例 0.20353982300884957\n",
      "去空值前：  (226, 3) 20180816_cbrc_class_feedback.xlsx 行业\n",
      "去空值后：  (46, 3) 20180816_cbrc_class_feedback.xlsx 行业\n",
      "\n",
      "类别： 公司内部管理 总数： 120 正确数 7 正确比例 0.058333333333333334\n",
      "去空值前：  (120, 3) 20180816_cbrc_class_feedback.xlsx 公司内部管理\n",
      "去空值后：  (7, 3) 20180816_cbrc_class_feedback.xlsx 公司内部管理\n",
      "\n",
      "类别： 资本市场 总数： 724 正确数 137 正确比例 0.18922651933701656\n",
      "去空值前：  (724, 3) 20180816_cbrc_class_feedback_2.xlsx 资本市场\n",
      "去空值后：  (137, 3) 20180816_cbrc_class_feedback_2.xlsx 资本市场\n",
      "\n",
      "类别： 监管 总数： 258 正确数 78 正确比例 0.3023255813953488\n",
      "去空值前：  (258, 3) 20180816_cbrc_class_feedback_2.xlsx 监管\n",
      "去空值后：  (78, 3) 20180816_cbrc_class_feedback_2.xlsx 监管\n",
      "\n",
      "类别： 其他相关报道 总数： 165 正确数 24 正确比例 0.14545454545454545\n",
      "去空值前：  (165, 3) 20180816_cbrc_class_feedback_2.xlsx 其他相关报道\n",
      "去空值后：  (24, 3) 20180816_cbrc_class_feedback_2.xlsx 其他相关报道\n",
      "\n",
      "类别： 产品销售 总数： 506 正确数 348 正确比例 0.6877470355731226\n",
      "去空值前：  (506, 3) 20180827_cbrc_class_feedback.xlsx 产品销售\n",
      "去空值后：  (348, 3) 20180827_cbrc_class_feedback.xlsx 产品销售\n",
      "\n",
      "类别： 公司内部管理 总数： 448 正确数 270 正确比例 0.6026785714285714\n",
      "去空值前：  (448, 3) 20180827_cbrc_class_feedback.xlsx 公司内部管理\n",
      "去空值后：  (270, 3) 20180827_cbrc_class_feedback.xlsx 公司内部管理\n",
      "\n",
      "类别： 资本市场 总数： 325 正确数 216 正确比例 0.6646153846153846\n",
      "去空值前：  (325, 3) 20180827_cbrc_class_feedback.xlsx 资本市场\n",
      "去空值后：  (216, 3) 20180827_cbrc_class_feedback.xlsx 资本市场\n",
      "\n",
      "类别： 其他相关报道 总数： 830 正确数 650 正确比例 0.7831325301204819\n",
      "去空值前：  (830, 3) 20180827_cbrc_class_feedback.xlsx 其他相关报道\n",
      "去空值后：  (650, 3) 20180827_cbrc_class_feedback.xlsx 其他相关报道\n",
      "\n",
      "总数： (2504, 3)\n"
     ]
    },
    {
     "data": {
      "text/html": [
       "<div>\n",
       "<style scoped>\n",
       "    .dataframe tbody tr th:only-of-type {\n",
       "        vertical-align: middle;\n",
       "    }\n",
       "\n",
       "    .dataframe tbody tr th {\n",
       "        vertical-align: top;\n",
       "    }\n",
       "\n",
       "    .dataframe thead th {\n",
       "        text-align: right;\n",
       "    }\n",
       "</style>\n",
       "<table border=\"1\" class=\"dataframe\">\n",
       "  <thead>\n",
       "    <tr style=\"text-align: right;\">\n",
       "      <th></th>\n",
       "      <th>label</th>\n",
       "      <th>title</th>\n",
       "      <th>content</th>\n",
       "    </tr>\n",
       "  </thead>\n",
       "  <tbody>\n",
       "    <tr>\n",
       "      <th>6</th>\n",
       "      <td>产品销售</td>\n",
       "      <td>弘扬中华优秀传统文化农行尊师系列信用卡精彩上市</td>\n",
       "      <td>近日，中国农业银行发布首张文化教育主题信用卡———尊师系列信用卡。该产品旨在弘扬尊师重道...</td>\n",
       "    </tr>\n",
       "    <tr>\n",
       "      <th>12</th>\n",
       "      <td>产品销售</td>\n",
       "      <td>信用卡额度怎么提高</td>\n",
       "      <td>\\n\\n平安的业务很多，而平安银行的主要业务那肯定就是信贷了，想必绝大多数小伙伴们想到的...</td>\n",
       "    </tr>\n",
       "    <tr>\n",
       "      <th>41</th>\n",
       "      <td>产品销售</td>\n",
       "      <td>有钱人都喜欢刷什么信用卡？</td>\n",
       "      <td>小编每次说“有钱人更容易申请到高端信用卡”的时候，总有不明真相的人跳出来怼我“有钱谁还用信用...</td>\n",
       "    </tr>\n",
       "    <tr>\n",
       "      <th>43</th>\n",
       "      <td>产品销售</td>\n",
       "      <td>今日工商银行理财产品排行榜（8月1日）</td>\n",
       "      <td>分享至：\\n\\n电邮\\n\\n打印\\n\\n评论(\\n0\\n)\\n\\n今日工商银行理财产品排行榜...</td>\n",
       "    </tr>\n",
       "    <tr>\n",
       "      <th>47</th>\n",
       "      <td>产品销售</td>\n",
       "      <td>信用卡是否可以提前还款？应该提前还款么？</td>\n",
       "      <td>在信用卡还款时，你会选择提前还款吗？怎样提前还款会对我们更有利？下面魔王就来说说提前还款那些...</td>\n",
       "    </tr>\n",
       "  </tbody>\n",
       "</table>\n",
       "</div>"
      ],
      "text/plain": [
       "   label                    title  \\\n",
       "6   产品销售  弘扬中华优秀传统文化农行尊师系列信用卡精彩上市   \n",
       "12  产品销售                信用卡额度怎么提高   \n",
       "41  产品销售            有钱人都喜欢刷什么信用卡？   \n",
       "43  产品销售      今日工商银行理财产品排行榜（8月1日）   \n",
       "47  产品销售     信用卡是否可以提前还款？应该提前还款么？   \n",
       "\n",
       "                                              content  \n",
       "6   　　近日，中国农业银行发布首张文化教育主题信用卡———尊师系列信用卡。该产品旨在弘扬尊师重道...  \n",
       "12  　　\\n\\n平安的业务很多，而平安银行的主要业务那肯定就是信贷了，想必绝大多数小伙伴们想到的...  \n",
       "41  小编每次说“有钱人更容易申请到高端信用卡”的时候，总有不明真相的人跳出来怼我“有钱谁还用信用...  \n",
       "43  分享至：\\n\\n电邮\\n\\n打印\\n\\n评论(\\n0\\n)\\n\\n今日工商银行理财产品排行榜...  \n",
       "47  在信用卡还款时，你会选择提前还款吗？怎样提前还款会对我们更有利？下面魔王就来说说提前还款那些...  "
      ]
     },
     "execution_count": 127,
     "metadata": {},
     "output_type": "execute_result"
    }
   ],
   "source": [
    "file_list_class_4 = ['20180816_cbrc_class_feedback.xlsx', '20180816_cbrc_class_feedback_2.xlsx',\n",
    "               '20180827_cbrc_class_feedback.xlsx'\n",
    "              ] # 多个 sheet\n",
    "\n",
    "cbrc_raw_class_4 = get_feedback_data(folder, file_list_class_4)\n",
    "\n",
    "# cbrc_raw_class_4['label'] = cbrc_raw_class_4['label'].apply(lambda x:x.strip())    \n",
    "print('总数：', cbrc_raw_class_4.shape)\n",
    "cbrc_raw_class_4.head()"
   ]
  },
  {
   "cell_type": "markdown",
   "metadata": {},
   "source": [
    "## 合并数据"
   ]
  },
  {
   "cell_type": "code",
   "execution_count": 148,
   "metadata": {
    "ExecuteTime": {
     "end_time": "2018-09-10T09:33:04.093281Z",
     "start_time": "2018-09-10T09:33:03.894270Z"
    }
   },
   "outputs": [
    {
     "name": "stdout",
     "output_type": "stream",
     "text": [
      "去重前：  (8355, 4)\n",
      "去重后：  (7920, 4)\n"
     ]
    },
    {
     "data": {
      "text/html": [
       "<div>\n",
       "<style scoped>\n",
       "    .dataframe tbody tr th:only-of-type {\n",
       "        vertical-align: middle;\n",
       "    }\n",
       "\n",
       "    .dataframe tbody tr th {\n",
       "        vertical-align: top;\n",
       "    }\n",
       "\n",
       "    .dataframe thead th {\n",
       "        text-align: right;\n",
       "    }\n",
       "</style>\n",
       "<table border=\"1\" class=\"dataframe\">\n",
       "  <thead>\n",
       "    <tr style=\"text-align: right;\">\n",
       "      <th></th>\n",
       "      <th>label</th>\n",
       "      <th>title</th>\n",
       "      <th>content</th>\n",
       "      <th>title_content</th>\n",
       "    </tr>\n",
       "  </thead>\n",
       "  <tbody>\n",
       "    <tr>\n",
       "      <th>0</th>\n",
       "      <td>噪音</td>\n",
       "      <td>小白学保险之基础篇——买好宝宝保险，第一步该做啥？</td>\n",
       "      <td>话说上回，在《给宝宝买保险，你说该信谁？》 中，身为一家之主的小白，想为家里挑些合适的保险，...</td>\n",
       "      <td>小白学保险之基础篇——买好宝宝保险，第一步该做啥？。话说上回，在《给宝宝买保险，你说该信谁？...</td>\n",
       "    </tr>\n",
       "    <tr>\n",
       "      <th>1</th>\n",
       "      <td>噪音</td>\n",
       "      <td>过诉讼时效的债务如何处理？看最高法院的5个答复(全)</td>\n",
       "      <td>作者｜赫少华律师，远闻(上海)律师事务所，摘自微信公号“儒者如墨”，转载请注明 ▌一、...</td>\n",
       "      <td>过诉讼时效的债务如何处理？看最高法院的5个答复(全)。　　 作者｜赫少华律师，远闻(上海)律...</td>\n",
       "    </tr>\n",
       "    <tr>\n",
       "      <th>2</th>\n",
       "      <td>噪音</td>\n",
       "      <td>国家旅游局局长李金早：推动从“高速旅游增长”向“优质旅游发展”转变</td>\n",
       "      <td>权威声音 1月8日全国旅游工作会议在厦门召开，国家旅游局局长李金早做了题为《以习近平新时代中...</td>\n",
       "      <td>国家旅游局局长李金早：推动从“高速旅游增长”向“优质旅游发展”转变。权威声音 1月8日全国旅...</td>\n",
       "    </tr>\n",
       "    <tr>\n",
       "      <th>3</th>\n",
       "      <td>噪音</td>\n",
       "      <td>【法律宣传】状告百度们侵犯隐私,须用好公益诉讼利剑</td>\n",
       "      <td>1月1日,李书福在谈及电话、微信的保密问题时隔空diss马化腾,称其肯定天天在看我...</td>\n",
       "      <td>【法律宣传】状告百度们侵犯隐私,须用好公益诉讼利剑。     1月1日,李书福在谈及电话、微...</td>\n",
       "    </tr>\n",
       "    <tr>\n",
       "      <th>4</th>\n",
       "      <td>噪音</td>\n",
       "      <td>百度被起诉，支付宝被约谈，网上隐私的边界在哪里？</td>\n",
       "      <td>据国家互联网信息办公室网站消息，针对近日新闻媒体报道的“支付宝年度账单事件”，1月6日，国家...</td>\n",
       "      <td>百度被起诉，支付宝被约谈，网上隐私的边界在哪里？。据国家互联网信息办公室网站消息，针对近日新...</td>\n",
       "    </tr>\n",
       "  </tbody>\n",
       "</table>\n",
       "</div>"
      ],
      "text/plain": [
       "  label                              title  \\\n",
       "0    噪音          小白学保险之基础篇——买好宝宝保险，第一步该做啥？   \n",
       "1    噪音         过诉讼时效的债务如何处理？看最高法院的5个答复(全)   \n",
       "2    噪音  国家旅游局局长李金早：推动从“高速旅游增长”向“优质旅游发展”转变   \n",
       "3    噪音          【法律宣传】状告百度们侵犯隐私,须用好公益诉讼利剑   \n",
       "4    噪音           百度被起诉，支付宝被约谈，网上隐私的边界在哪里？   \n",
       "\n",
       "                                             content  \\\n",
       "0  话说上回，在《给宝宝买保险，你说该信谁？》 中，身为一家之主的小白，想为家里挑些合适的保险，...   \n",
       "1  　　 作者｜赫少华律师，远闻(上海)律师事务所，摘自微信公号“儒者如墨”，转载请注明 ▌一、...   \n",
       "2  权威声音 1月8日全国旅游工作会议在厦门召开，国家旅游局局长李金早做了题为《以习近平新时代中...   \n",
       "3       1月1日,李书福在谈及电话、微信的保密问题时隔空diss马化腾,称其肯定天天在看我...   \n",
       "4  据国家互联网信息办公室网站消息，针对近日新闻媒体报道的“支付宝年度账单事件”，1月6日，国家...   \n",
       "\n",
       "                                       title_content  \n",
       "0  小白学保险之基础篇——买好宝宝保险，第一步该做啥？。话说上回，在《给宝宝买保险，你说该信谁？...  \n",
       "1  过诉讼时效的债务如何处理？看最高法院的5个答复(全)。　　 作者｜赫少华律师，远闻(上海)律...  \n",
       "2  国家旅游局局长李金早：推动从“高速旅游增长”向“优质旅游发展”转变。权威声音 1月8日全国旅...  \n",
       "3  【法律宣传】状告百度们侵犯隐私,须用好公益诉讼利剑。     1月1日,李书福在谈及电话、微...  \n",
       "4  百度被起诉，支付宝被约谈，网上隐私的边界在哪里？。据国家互联网信息办公室网站消息，针对近日新...  "
      ]
     },
     "execution_count": 148,
     "metadata": {},
     "output_type": "execute_result"
    }
   ],
   "source": [
    "cbrc_raw_class = pd.concat([#cbrc_raw_class_4, cbrc_raw_class_4,\n",
    "                          cbrc_raw_class_3, cbrc_raw_class_4], \n",
    "                         axis = 0)\n",
    "\n",
    "# cbrc_raw = cbrc_raw_class_4\n",
    "cbrc_raw_class['title_content'] = cbrc_raw_class['title'].astype(str) + '。' + cbrc_raw_class['content'].astype(str)\n",
    "cbrc_raw_class['label'] = cbrc_raw_class['label'].apply(lambda x:x.strip())\n",
    "# cbrc_raw_class['index'] = range(cbrc_raw_class.shape[0])\n",
    "print('去重前： ', cbrc_raw_class.shape)\n",
    "cbrc_raw_class = cbrc_raw_class.drop_duplicates(subset = 'title_content')\n",
    "print('去重后： ', cbrc_raw_class.shape)\n",
    "cbrc_raw_class.head()"
   ]
  },
  {
   "cell_type": "code",
   "execution_count": 129,
   "metadata": {
    "ExecuteTime": {
     "end_time": "2018-09-10T09:18:39.734843Z",
     "start_time": "2018-09-10T09:18:39.715841Z"
    }
   },
   "outputs": [
    {
     "name": "stdout",
     "output_type": "stream",
     "text": [
      "(7920, 5)\n"
     ]
    },
    {
     "data": {
      "text/plain": [
       "label\n",
       "产品销售       807\n",
       "公司内部管理     896\n",
       "其他相关报道    1365\n",
       "噪音         800\n",
       "消费服务       877\n",
       "监管        1334\n",
       "行业         984\n",
       "资本市场       857\n",
       "Name: title, dtype: int64"
      ]
     },
     "execution_count": 129,
     "metadata": {},
     "output_type": "execute_result"
    }
   ],
   "source": [
    "print(cbrc_raw_class.shape)\n",
    "cbrc_raw_class.groupby('label')['title'].count()"
   ]
  },
  {
   "cell_type": "markdown",
   "metadata": {},
   "source": [
    "## 预处理"
   ]
  },
  {
   "cell_type": "code",
   "execution_count": 152,
   "metadata": {
    "ExecuteTime": {
     "end_time": "2018-09-10T09:34:28.948134Z",
     "start_time": "2018-09-10T09:34:28.889131Z"
    },
    "collapsed": true
   },
   "outputs": [],
   "source": [
    "def pre_save(pre_func, data, save_folder):\n",
    "    print(data.shape)\n",
    "    print('save_folder: ', save_folder)\n",
    "    \n",
    "    titles = pre_func(data['title'].tolist())\n",
    "    print('title num: ', len(titles))\n",
    "    save_filename = save_folder + 'corpus/titles.txt'\n",
    "    fid = open(save_filename, \"w+\", encoding='UTF-8')\n",
    "    for line in titles:\n",
    "        fid.write(line + '\\n')\n",
    "    fid.close()  \n",
    "    \n",
    "#     print(len(data['content'].tolist()))\n",
    "    contents = pre_func(data['content'].tolist())\n",
    "    print('content num: ', len(contents))\n",
    "    print(contents[0])\n",
    "    # contents = [re.sub(r'[a-z]*', '', x) for x in contents]\n",
    "    # print(len(contents))\n",
    "    # print(contents[:2])\n",
    "    coprus_save_filename = save_folder + 'corpus/contents.txt'\n",
    "    f = open(coprus_save_filename, \"w+\", encoding='UTF-8')\n",
    "    for line in contents:\n",
    "        f.write(line + '\\n')\n",
    "    f.close()    \n",
    "\n",
    "    label = data['label'].tolist()\n",
    "    print('label num: ', len(label))\n",
    "    coprus_save_filename = save_folder + 'corpus/labels.txt'\n",
    "    f = open(coprus_save_filename, \"w+\", encoding='UTF-8')\n",
    "    for line in label:\n",
    "        f.write(line + '\\n')\n",
    "    f.close()\n",
    "\n",
    "    data.to_excel(save_folder + 'corpus/title_content_label.xlsx', index = False)\n",
    "    "
   ]
  },
  {
   "cell_type": "code",
   "execution_count": 153,
   "metadata": {
    "ExecuteTime": {
     "end_time": "2018-09-10T09:34:31.598286Z",
     "start_time": "2018-09-10T09:34:29.729179Z"
    },
    "scrolled": true
   },
   "outputs": [
    {
     "name": "stdout",
     "output_type": "stream",
     "text": [
      "(7920, 4)\n",
      "save_folder:  cbrc_result_class/\n",
      "title num:  7920\n"
     ]
    },
    {
     "ename": "AttributeError",
     "evalue": "'str' object has no attribute 'loc'",
     "output_type": "error",
     "traceback": [
      "\u001b[1;31m---------------------------------------------------------------------------\u001b[0m",
      "\u001b[1;31mAttributeError\u001b[0m                            Traceback (most recent call last)",
      "\u001b[1;32m<ipython-input-153-c185a91ed2e0>\u001b[0m in \u001b[0;36m<module>\u001b[1;34m()\u001b[0m\n\u001b[0;32m      1\u001b[0m \u001b[0msave_folder\u001b[0m \u001b[1;33m=\u001b[0m \u001b[1;34m'cbrc_result_class/'\u001b[0m\u001b[1;33m\u001b[0m\u001b[0m\n\u001b[1;32m----> 2\u001b[1;33m \u001b[0mpre_save\u001b[0m\u001b[1;33m(\u001b[0m\u001b[0mpre_cor_cbrc\u001b[0m\u001b[1;33m.\u001b[0m\u001b[0mhandle_contents\u001b[0m\u001b[1;33m,\u001b[0m \u001b[0mcbrc_raw_class\u001b[0m\u001b[1;33m,\u001b[0m \u001b[0msave_folder\u001b[0m\u001b[1;33m)\u001b[0m\u001b[1;33m\u001b[0m\u001b[0m\n\u001b[0m",
      "\u001b[1;32m<ipython-input-152-2c1e2e1bde42>\u001b[0m in \u001b[0;36mpre_save\u001b[1;34m(pre_func, data, save_folder)\u001b[0m\n\u001b[0;32m     12\u001b[0m \u001b[1;33m\u001b[0m\u001b[0m\n\u001b[0;32m     13\u001b[0m \u001b[1;31m#     print(len(data['content'].tolist()))\u001b[0m\u001b[1;33m\u001b[0m\u001b[1;33m\u001b[0m\u001b[0m\n\u001b[1;32m---> 14\u001b[1;33m     \u001b[0mcontents\u001b[0m \u001b[1;33m=\u001b[0m \u001b[0mpre_func\u001b[0m\u001b[1;33m(\u001b[0m\u001b[0mdata\u001b[0m\u001b[1;33m.\u001b[0m\u001b[0mloc\u001b[0m\u001b[1;33m[\u001b[0m\u001b[1;33m:\u001b[0m\u001b[1;33m,\u001b[0m \u001b[1;34m'content'\u001b[0m\u001b[1;33m]\u001b[0m\u001b[1;33m.\u001b[0m\u001b[0mtolist\u001b[0m\u001b[1;33m(\u001b[0m\u001b[1;33m)\u001b[0m\u001b[1;33m)\u001b[0m\u001b[1;33m\u001b[0m\u001b[0m\n\u001b[0m\u001b[0;32m     15\u001b[0m     \u001b[0mprint\u001b[0m\u001b[1;33m(\u001b[0m\u001b[1;34m'content num: '\u001b[0m\u001b[1;33m,\u001b[0m \u001b[0mlen\u001b[0m\u001b[1;33m(\u001b[0m\u001b[0mcontents\u001b[0m\u001b[1;33m)\u001b[0m\u001b[1;33m)\u001b[0m\u001b[1;33m\u001b[0m\u001b[0m\n\u001b[0;32m     16\u001b[0m     \u001b[0mprint\u001b[0m\u001b[1;33m(\u001b[0m\u001b[0mcontents\u001b[0m\u001b[1;33m[\u001b[0m\u001b[1;36m0\u001b[0m\u001b[1;33m]\u001b[0m\u001b[1;33m)\u001b[0m\u001b[1;33m\u001b[0m\u001b[0m\n",
      "\u001b[1;31mAttributeError\u001b[0m: 'str' object has no attribute 'loc'"
     ]
    }
   ],
   "source": [
    "save_folder = 'cbrc_result_class/'\n",
    "pre_save(pre_cor_cbrc.handle_contents, cbrc_raw_class, save_folder)"
   ]
  },
  {
   "cell_type": "markdown",
   "metadata": {},
   "source": [
    "# 保存本文件"
   ]
  },
  {
   "cell_type": "code",
   "execution_count": null,
   "metadata": {
    "collapsed": true
   },
   "outputs": [],
   "source": [
    "if 0:\n",
    "    import datetime as dt\n",
    "    \n",
    "    def output_HTML(read_file, output_file):\n",
    "        from nbconvert import HTMLExporter\n",
    "        import codecs\n",
    "        import nbformat\n",
    "        exporter = HTMLExporter()\n",
    "        # read_file is '.ipynb', output_file is '.html'\n",
    "        output_notebook = nbformat.read(read_file, as_version=4)\n",
    "        output, resources = exporter.from_notebook_node(output_notebook)\n",
    "        codecs.open(output_file, 'w', encoding='utf-8').write(output)\n",
    "\n",
    "    html_file_folder = 'html_files'\n",
    "    if not os.path.exists(html_file_folder):\n",
    "        os.makedirs(html_file_folder)\n",
    "\n",
    "    today = dt.datetime.now().strftime('%Y%m%d')\n",
    "    current_file = 'circ_cor_model_2_train.ipynb'\n",
    "    output_file = 'html_files\\%s_%s.html'%(os.path.splitext(current_file)[0], today)\n",
    "    output_HTML(current_file, output_file)"
   ]
  }
 ],
 "metadata": {
  "kernelspec": {
   "display_name": "Python 3",
   "language": "python",
   "name": "python3"
  },
  "language_info": {
   "codemirror_mode": {
    "name": "ipython",
    "version": 3
   },
   "file_extension": ".py",
   "mimetype": "text/x-python",
   "name": "python",
   "nbconvert_exporter": "python",
   "pygments_lexer": "ipython3",
   "version": "3.6.3"
  },
  "toc": {
   "nav_menu": {},
   "number_sections": true,
   "sideBar": true,
   "skip_h1_title": false,
   "title_cell": "Table of Contents",
   "title_sidebar": "Contents",
   "toc_cell": false,
   "toc_position": {
    "height": "calc(100% - 180px)",
    "left": "10px",
    "top": "150px",
    "width": "376px"
   },
   "toc_section_display": true,
   "toc_window_display": true
  },
  "varInspector": {
   "cols": {
    "lenName": 16,
    "lenType": 16,
    "lenVar": 40
   },
   "kernels_config": {
    "python": {
     "delete_cmd_postfix": "",
     "delete_cmd_prefix": "del ",
     "library": "var_list.py",
     "varRefreshCmd": "print(var_dic_list())"
    },
    "r": {
     "delete_cmd_postfix": ") ",
     "delete_cmd_prefix": "rm(",
     "library": "var_list.r",
     "varRefreshCmd": "cat(var_dic_list()) "
    }
   },
   "types_to_exclude": [
    "module",
    "function",
    "builtin_function_or_method",
    "instance",
    "_Feature"
   ],
   "window_display": false
  }
 },
 "nbformat": 4,
 "nbformat_minor": 2
}
