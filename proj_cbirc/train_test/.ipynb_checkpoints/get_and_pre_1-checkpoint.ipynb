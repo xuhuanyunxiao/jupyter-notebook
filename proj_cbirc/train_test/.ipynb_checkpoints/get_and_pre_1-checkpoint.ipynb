{
 "cells": [
  {
   "cell_type": "markdown",
   "metadata": {},
   "source": [
    "# 本文件说明\n",
    "- 读取数据、预处理数据"
   ]
  },
  {
   "cell_type": "markdown",
   "metadata": {},
   "source": [
    "# 基本设置"
   ]
  },
  {
   "cell_type": "code",
   "execution_count": 108,
   "metadata": {
    "ExecuteTime": {
     "end_time": "2018-10-19T08:20:16.288301Z",
     "start_time": "2018-10-19T08:20:16.263299Z"
    }
   },
   "outputs": [],
   "source": [
    "import xlrd\n",
    "\n",
    "%matplotlib inline\n",
    "import numpy as np\n",
    "import pandas as pd\n",
    "from toolkits.nlp import pre_cor_circ\n",
    "from toolkits.nlp import pre_cor_cbrc\n",
    "from toolkits.setup.specific_func import contain_ch, set_ch_pd\n",
    "set_ch_pd()\n",
    "from sklearn import metrics\n",
    "\n",
    "import warnings\n",
    "warnings.filterwarnings('ignore')"
   ]
  },
  {
   "cell_type": "markdown",
   "metadata": {},
   "source": [
    "## 一些函数"
   ]
  },
  {
   "cell_type": "code",
   "execution_count": 2,
   "metadata": {
    "ExecuteTime": {
     "end_time": "2018-10-19T07:20:03.605667Z",
     "start_time": "2018-10-19T07:20:03.584666Z"
    },
    "collapsed": true
   },
   "outputs": [],
   "source": [
    "def predict_right(folder, file_list):\n",
    "    '''预测正确数据'''\n",
    "    right_data = pd.DataFrame()\n",
    "    for file_name in file_list:\n",
    "        currentPath  = '{0}/{1}'.format(folder, file_name)\n",
    "        excel = xlrd.open_workbook(currentPath)\n",
    "        sheet_names = [sheet.name for sheet in excel.sheets()]\n",
    "        for sheet_name in sheet_names:    \n",
    "            tmp_data = pd.read_excel(currentPath, sheet_name)\n",
    "    #         tmp_data = tmp_data[tmp_data['R_W'] == 'Right']\n",
    "            print('去空值前： ', tmp_data.shape, file_name, sheet_name)\n",
    "#             tmp_data = tmp_data[tmp_data['备注'] != '删除']\n",
    "    #         tmp_data = tmp_data.dropna(subset = ['raw_title'], axis = 0)\n",
    "#             print('去空值后： ', tmp_data.shape, file_name, sheet_name)\n",
    "            right_data = pd.concat([right_data, tmp_data], axis = 0)    \n",
    "    return right_data"
   ]
  },
  {
   "cell_type": "code",
   "execution_count": 3,
   "metadata": {
    "ExecuteTime": {
     "end_time": "2018-10-19T07:20:03.683672Z",
     "start_time": "2018-10-19T07:20:03.608667Z"
    },
    "collapsed": true
   },
   "outputs": [],
   "source": [
    "def correct_wrong_data(folder, file_list):\n",
    "    '''预测错误修正后数据'''\n",
    "    correct_wrong_data = pd.DataFrame()\n",
    "    for file_name in file_list:\n",
    "        currentPath  = '{0}/{1}'.format(folder, file_name)\n",
    "        excel = xlrd.open_workbook(currentPath)\n",
    "        sheet_names = [sheet.name for sheet in excel.sheets()]\n",
    "        for sheet_name in sheet_names:    \n",
    "            tmp_data = pd.read_excel(currentPath, sheet_name)\n",
    "    #         tmp_data = tmp_data[tmp_data['R_W'] == 'Wrong']\n",
    "            print('去删除前： ', tmp_data.shape, file_name, sheet_name)\n",
    "            tmp_data = tmp_data[tmp_data['备注'] != '删除']\n",
    "    #         tmp_data = tmp_data.dropna(subset = ['raw_title'], axis = 0)\n",
    "            print('去删除后： ', tmp_data.shape, file_name, sheet_name)\n",
    "\n",
    "            tmp_data['人工判断'] = tmp_data.apply(lambda x:1 if x['label'] == x['备注'] else 0, axis = 1)\n",
    "            tmp_data['算法判断'] = tmp_data.apply(lambda x:1 if x['predict_label'] == x['备注'] else 0, axis = 1)\n",
    "            print('人工误判率： %0.2f'%(1 - tmp_data['人工判断'].sum() / tmp_data.shape[0]),\n",
    "                  '算法误判率： %0.2f'%(1 - tmp_data['算法判断'].sum() / tmp_data.shape[0]))\n",
    "            print()\n",
    "\n",
    "            correct_wrong_data = pd.concat([correct_wrong_data, tmp_data], axis = 0)\n",
    "    return correct_wrong_data"
   ]
  },
  {
   "cell_type": "code",
   "execution_count": 4,
   "metadata": {
    "ExecuteTime": {
     "end_time": "2018-10-19T07:20:03.775677Z",
     "start_time": "2018-10-19T07:20:03.687672Z"
    },
    "collapsed": true
   },
   "outputs": [],
   "source": [
    "def get_new_data(folder, file_list):\n",
    "    '''新补充数据'''\n",
    "    new_data = pd.DataFrame()\n",
    "    for file_name in file_list:\n",
    "        currentPath  = '{0}/{1}'.format(folder, file_name)\n",
    "        excel = xlrd.open_workbook(currentPath)\n",
    "        sheet_names = [sheet.name for sheet in excel.sheets()]\n",
    "        for sheet_name in sheet_names:    \n",
    "            tmp_data = pd.read_excel(currentPath, sheet_name)\n",
    "            print(tmp_data.columns)\n",
    "            tmp_data = tmp_data[['label', 'title', 'content']]\n",
    "            print('去空值前： ', tmp_data.shape, file_name, sheet_name)\n",
    "            tmp_data = tmp_data.dropna(subset = ['label'], axis = 0)\n",
    "            print('去空值后： ', tmp_data.shape, file_name, sheet_name)\n",
    "            new_data = pd.concat([new_data, tmp_data], axis = 0)    \n",
    "    return new_data"
   ]
  },
  {
   "cell_type": "code",
   "execution_count": 5,
   "metadata": {
    "ExecuteTime": {
     "end_time": "2018-10-19T07:20:03.912685Z",
     "start_time": "2018-10-19T07:20:03.778677Z"
    },
    "collapsed": true
   },
   "outputs": [],
   "source": [
    "def get_feedback_data(folder, file_list):\n",
    "    '''模型预测后反馈数据'''\n",
    "    feedback_data = pd.DataFrame()\n",
    "    label_list = []\n",
    "    sum_list = []\n",
    "    right_list = []\n",
    "    plot_data = []\n",
    "    for file_name in file_list:\n",
    "        print('  ----    ', file_name)\n",
    "        date = file_name.split('_')[0]\n",
    "        currentPath  = '{0}/{1}'.format(folder, file_name)\n",
    "        excel = xlrd.open_workbook(currentPath)\n",
    "        sheet_names = [sheet.name for sheet in excel.sheets()]\n",
    "        for sheet_name in sheet_names:   \n",
    "            tmp_data = pd.read_excel(currentPath, sheet_name)    \n",
    "            tmp_data = tmp_data[tmp_data['label'] != '删除']\n",
    "            tmp_data_1 = tmp_data[tmp_data['label'] == sheet_name]\n",
    "\n",
    "            label_list.append(sheet_name)\n",
    "            sum_list.append(tmp_data.shape[0])\n",
    "            right_list.append(tmp_data_1.shape[0])\n",
    "            print('类别：', sheet_name, '总数：', tmp_data.shape[0], \n",
    "                  '正确数', tmp_data_1.shape[0], \n",
    "                  '正确比例', tmp_data_1.shape[0]/tmp_data.shape[0])\n",
    "            \n",
    "            if 'predict_label' in tmp_data_1.columns:\n",
    "                tmp_data_1 = tmp_data[['predict_label', 'label', 'title', 'content']]\n",
    "            else :\n",
    "                tmp_data_1 = tmp_data[['label', 'title', 'content']]\n",
    "                if contain_ch(sheet_name) :\n",
    "                    tmp_data_1['predict_label'] = sheet_name\n",
    "                else :\n",
    "                    tmp_data_1['predict_label'] = ''\n",
    "                \n",
    "            tmp_data_1['date'] = date\n",
    "            print('去空值前： ', tmp_data_1.shape, file_name, sheet_name)\n",
    "            tmp_data_1 = tmp_data_1.dropna(subset = ['label'], axis = 0)\n",
    "            print('去空值后： ', tmp_data_1.shape, file_name, sheet_name)\n",
    "            feedback_data = pd.concat([feedback_data, tmp_data_1], axis = 0)\n",
    "            print() \n",
    "                        \n",
    "        plot_data = get_PR_plot_data(feedback_data, date, plot_data) \n",
    "            \n",
    "    PR_data = feedback_data[['date', 'predict_label', 'label']]\n",
    "    feedback_data = feedback_data.drop('date', axis = 1)\n",
    "    feedback_data = feedback_data.drop('predict_label', axis = 1)\n",
    "    PR_plot_data  = pd.DataFrame(plot_data, columns = ['label', 'precision', 'recall', \n",
    "                                                    'f1-score', 'support', 'date'])     \n",
    "    \n",
    "    return feedback_data, PR_data, PR_plot_data"
   ]
  },
  {
   "cell_type": "code",
   "execution_count": 6,
   "metadata": {
    "ExecuteTime": {
     "end_time": "2018-10-19T07:20:04.043692Z",
     "start_time": "2018-10-19T07:20:03.918685Z"
    },
    "collapsed": true
   },
   "outputs": [],
   "source": [
    "def pre_save(pre_func, data, save_folder):\n",
    "    print(data.shape)\n",
    "    print('save_folder: ', save_folder)\n",
    "    \n",
    "    titles = pre_func(data['title'].tolist())\n",
    "    print('title num: ', len(titles))\n",
    "    save_filename = save_folder + 'corpus/titles.txt'\n",
    "    fid = open(save_filename, \"w+\", encoding='UTF-8')\n",
    "    for line in titles:\n",
    "        fid.write(line + '\\n')\n",
    "    fid.close()  \n",
    "    \n",
    "#     print(len(data['content'].tolist()))\n",
    "    contents = pre_func(data['content'].tolist())\n",
    "    print('content num: ', len(contents))\n",
    "    print(contents[0])\n",
    "    # contents = [re.sub(r'[a-z]*', '', x) for x in contents]\n",
    "    # print(len(contents))\n",
    "    # print(contents[:2])\n",
    "    coprus_save_filename = save_folder + 'corpus/contents.txt'\n",
    "    f = open(coprus_save_filename, \"w+\", encoding='UTF-8')\n",
    "    for line in contents:\n",
    "        f.write(line + '\\n')\n",
    "    f.close()    \n",
    "\n",
    "    label = data['label'].tolist()\n",
    "    print('label num: ', len(label))\n",
    "    coprus_save_filename = save_folder + 'corpus/labels.txt'\n",
    "    f = open(coprus_save_filename, \"w+\", encoding='UTF-8')\n",
    "    for line in label:\n",
    "        f.write(str(line) + '\\n')\n",
    "    f.close()\n",
    "\n",
    "    data.to_excel(save_folder + 'corpus/title_content_label.xlsx', index = False)\n",
    "    "
   ]
  },
  {
   "cell_type": "markdown",
   "metadata": {},
   "source": [
    "# 保险业：1 八分类"
   ]
  },
  {
   "cell_type": "markdown",
   "metadata": {},
   "source": [
    "## 读取数据"
   ]
  },
  {
   "cell_type": "code",
   "execution_count": 7,
   "metadata": {
    "ExecuteTime": {
     "end_time": "2018-10-19T07:20:04.132697Z",
     "start_time": "2018-10-19T07:20:04.047693Z"
    },
    "collapsed": true
   },
   "outputs": [],
   "source": [
    "folder = 'circ_data_class/20180910'"
   ]
  },
  {
   "cell_type": "markdown",
   "metadata": {},
   "source": [
    "### 预测正确数据"
   ]
  },
  {
   "cell_type": "code",
   "execution_count": 8,
   "metadata": {
    "ExecuteTime": {
     "end_time": "2018-10-19T07:20:26.774992Z",
     "start_time": "2018-10-19T07:20:04.135698Z"
    }
   },
   "outputs": [
    {
     "name": "stdout",
     "output_type": "stream",
     "text": [
      "去空值前：  (1284, 8) circ_class_sel_else_20180827.xlsx 公司内部管理\n",
      "去空值前：  (3197, 8) circ_class_sel_else_20180827.xlsx 噪音\n",
      "去空值前：  (1320, 8) circ_class_sel_else_20180827.xlsx 行业\n",
      "去空值前：  (1463, 8) circ_class_sel_else_20180827.xlsx 消费服务\n",
      "去空值前：  (753, 8) circ_class_sel_else_20180827.xlsx 资本市场\n",
      "去空值前：  (1511, 8) circ_class_sel_else_20180827.xlsx 监管\n",
      "去空值前：  (500, 8) circ_class_sel_else_20180827.xlsx 产品销售\n",
      "去空值前：  (1403, 8) circ_class_sel_else_20180827.xlsx 其他相关报道\n",
      "总数： (11431, 3)\n"
     ]
    },
    {
     "data": {
      "text/html": [
       "<div>\n",
       "<style scoped>\n",
       "    .dataframe tbody tr th:only-of-type {\n",
       "        vertical-align: middle;\n",
       "    }\n",
       "\n",
       "    .dataframe tbody tr th {\n",
       "        vertical-align: top;\n",
       "    }\n",
       "\n",
       "    .dataframe thead th {\n",
       "        text-align: right;\n",
       "    }\n",
       "</style>\n",
       "<table border=\"1\" class=\"dataframe\">\n",
       "  <thead>\n",
       "    <tr style=\"text-align: right;\">\n",
       "      <th></th>\n",
       "      <th>label</th>\n",
       "      <th>title</th>\n",
       "      <th>content</th>\n",
       "    </tr>\n",
       "  </thead>\n",
       "  <tbody>\n",
       "    <tr>\n",
       "      <th>0</th>\n",
       "      <td>公司内部管理</td>\n",
       "      <td>天安销售虚列费用为员工发福利 相关负责人被处罚</td>\n",
       "      <td>天安销售虚列费用为员工发福利 相关负责人被处罚\\n\\r2018.01.09 11:24:2...</td>\n",
       "    </tr>\n",
       "    <tr>\n",
       "      <th>1</th>\n",
       "      <td>公司内部管理</td>\n",
       "      <td>泰康人寿疑设招聘骗局：3500元底薪扣到剩1200元</td>\n",
       "      <td>泰康人寿疑设招聘骗局：3500元底薪扣到剩1200元\\n\\r　　泰康人寿被爆疑设招聘“骗局...</td>\n",
       "    </tr>\n",
       "    <tr>\n",
       "      <th>2</th>\n",
       "      <td>公司内部管理</td>\n",
       "      <td>上海人寿整改应对监管 万能险收紧后仍过保费半数</td>\n",
       "      <td>上海人寿屡被监管关照 万能险收紧后仍占半壁江山\\n\\r(图片)\\n\\r投资时报\\n\\r01...</td>\n",
       "    </tr>\n",
       "    <tr>\n",
       "      <th>3</th>\n",
       "      <td>公司内部管理</td>\n",
       "      <td>“侨兴债”事件继续发酵，浙商财险9位高管被问责 保监会加大“双罚制”执行力度</td>\n",
       "      <td>“侨兴债”事件继续发酵，浙商财险9位高管被问责 保监会加大“双罚制”执行力度\\n\\r0\\n...</td>\n",
       "    </tr>\n",
       "    <tr>\n",
       "      <th>4</th>\n",
       "      <td>公司内部管理</td>\n",
       "      <td>“开门红”时期监管严查销售误导 民生人寿连吃5罚单</td>\n",
       "      <td>“开门红”时期监管严查销售误导 民生人寿连吃5罚单\\n\\r2018.01.09 01:22...</td>\n",
       "    </tr>\n",
       "  </tbody>\n",
       "</table>\n",
       "</div>"
      ],
      "text/plain": [
       "    label                                   title  \\\n",
       "0  公司内部管理                 天安销售虚列费用为员工发福利 相关负责人被处罚   \n",
       "1  公司内部管理              泰康人寿疑设招聘骗局：3500元底薪扣到剩1200元   \n",
       "2  公司内部管理                 上海人寿整改应对监管 万能险收紧后仍过保费半数   \n",
       "3  公司内部管理  “侨兴债”事件继续发酵，浙商财险9位高管被问责 保监会加大“双罚制”执行力度   \n",
       "4  公司内部管理               “开门红”时期监管严查销售误导 民生人寿连吃5罚单   \n",
       "\n",
       "                                             content  \n",
       "0   天安销售虚列费用为员工发福利 相关负责人被处罚\\n\\r2018.01.09 11:24:2...  \n",
       "1   泰康人寿疑设招聘骗局：3500元底薪扣到剩1200元\\n\\r　　泰康人寿被爆疑设招聘“骗局...  \n",
       "2   上海人寿屡被监管关照 万能险收紧后仍占半壁江山\\n\\r(图片)\\n\\r投资时报\\n\\r01...  \n",
       "3   “侨兴债”事件继续发酵，浙商财险9位高管被问责 保监会加大“双罚制”执行力度\\n\\r0\\n...  \n",
       "4   “开门红”时期监管严查销售误导 民生人寿连吃5罚单\\n\\r2018.01.09 01:22...  "
      ]
     },
     "execution_count": 8,
     "metadata": {},
     "output_type": "execute_result"
    }
   ],
   "source": [
    "file_list_1 = ['circ_class_sel_else_20180827.xlsx',]\n",
    "circ_raw_class_1 = predict_right(folder, file_list_1)\n",
    "\n",
    "circ_raw_class_1['label'] = circ_raw_class_1['label'].apply(lambda x:x.strip())    \n",
    "circ_raw_class_1 = circ_raw_class_1[['label', 'raw_title', 'raw_content']]\n",
    "circ_raw_class_1.columns = ['label', 'title', 'content']\n",
    "print('总数：', circ_raw_class_1.shape)\n",
    "circ_raw_class_1.head()"
   ]
  },
  {
   "cell_type": "code",
   "execution_count": 9,
   "metadata": {
    "ExecuteTime": {
     "end_time": "2018-10-19T07:20:26.794994Z",
     "start_time": "2018-10-19T07:20:26.778993Z"
    }
   },
   "outputs": [
    {
     "data": {
      "text/plain": [
       "噪音        3197\n",
       "监管        1511\n",
       "消费服务      1463\n",
       "其他相关报道    1403\n",
       "行业        1320\n",
       "公司内部管理    1284\n",
       "资本市场       753\n",
       "产品销售       500\n",
       "Name: label, dtype: int64"
      ]
     },
     "execution_count": 9,
     "metadata": {},
     "output_type": "execute_result"
    }
   ],
   "source": [
    "circ_raw_class_1['label'].value_counts()"
   ]
  },
  {
   "cell_type": "markdown",
   "metadata": {},
   "source": [
    "### 预测错误修正后数据"
   ]
  },
  {
   "cell_type": "code",
   "execution_count": 10,
   "metadata": {
    "ExecuteTime": {
     "end_time": "2018-10-19T07:20:30.126184Z",
     "start_time": "2018-10-19T07:20:26.798994Z"
    }
   },
   "outputs": [
    {
     "name": "stdout",
     "output_type": "stream",
     "text": [
      "去删除前：  (394, 8) circ_class_sel_20180827-1.xlsx 公司内部管理\n",
      "去删除后：  (390, 8) circ_class_sel_20180827-1.xlsx 公司内部管理\n",
      "人工误判率： 0.27 算法误判率： 0.47\n",
      "\n",
      "去删除前：  (193, 8) circ_class_sel_20180827-1.xlsx 资本市场\n",
      "去删除后：  (190, 8) circ_class_sel_20180827-1.xlsx 资本市场\n",
      "人工误判率： 0.24 算法误判率： 0.48\n",
      "\n",
      "去删除前：  (405, 8) circ_class_sel_20180827-1.xlsx 行业\n",
      "去删除后：  (397, 8) circ_class_sel_20180827-1.xlsx 行业\n",
      "人工误判率： 0.27 算法误判率： 0.53\n",
      "\n",
      "去删除前：  (385, 8) circ_class_sel_20180827-1.xlsx 监管\n",
      "去删除后：  (381, 8) circ_class_sel_20180827-1.xlsx 监管\n",
      "人工误判率： 0.12 算法误判率： 0.75\n",
      "\n",
      "去删除前：  (230, 8) circ_class_sel_20180827-2.xlsx 消费服务\n",
      "去删除后：  (228, 8) circ_class_sel_20180827-2.xlsx 消费服务\n",
      "人工误判率： 0.12 算法误判率： 0.71\n",
      "\n",
      "去删除前：  (486, 8) circ_class_sel_20180827-2.xlsx 噪音\n",
      "去删除后：  (469, 8) circ_class_sel_20180827-2.xlsx 噪音\n",
      "人工误判率： 0.18 算法误判率： 0.65\n",
      "\n",
      "去删除前：  (188, 8) circ_class_sel_20180827-2.xlsx 其他相关报道\n",
      "去删除后：  (184, 8) circ_class_sel_20180827-2.xlsx 其他相关报道\n",
      "人工误判率： 0.14 算法误判率： 0.65\n",
      "\n",
      "去删除前：  (144, 8) circ_class_sel_20180827-2.xlsx 产品销售\n",
      "去删除后：  (141, 8) circ_class_sel_20180827-2.xlsx 产品销售\n",
      "人工误判率： 0.24 算法误判率： 0.47\n",
      "\n",
      "总数： (2380, 3)\n"
     ]
    },
    {
     "data": {
      "text/html": [
       "<div>\n",
       "<style scoped>\n",
       "    .dataframe tbody tr th:only-of-type {\n",
       "        vertical-align: middle;\n",
       "    }\n",
       "\n",
       "    .dataframe tbody tr th {\n",
       "        vertical-align: top;\n",
       "    }\n",
       "\n",
       "    .dataframe thead th {\n",
       "        text-align: right;\n",
       "    }\n",
       "</style>\n",
       "<table border=\"1\" class=\"dataframe\">\n",
       "  <thead>\n",
       "    <tr style=\"text-align: right;\">\n",
       "      <th></th>\n",
       "      <th>label</th>\n",
       "      <th>title</th>\n",
       "      <th>content</th>\n",
       "    </tr>\n",
       "  </thead>\n",
       "  <tbody>\n",
       "    <tr>\n",
       "      <th>0</th>\n",
       "      <td>公司内部管理</td>\n",
       "      <td>太平人寿2016年原保费收入接近千亿大关</td>\n",
       "      <td>太平人寿2016年原保费收入接近千亿大关\\n\\r(图片) \\n财经头条 1年前\\n\\r记者...</td>\n",
       "    </tr>\n",
       "    <tr>\n",
       "      <th>1</th>\n",
       "      <td>公司内部管理</td>\n",
       "      <td>经过一年半时间的筹建 首家科技保险公司正式开业</td>\n",
       "      <td>现在是科技时代，在我们日常生活中，处处都离不开现代科技，比如快捷付款之类。但最近保险科技最...</td>\n",
       "    </tr>\n",
       "    <tr>\n",
       "      <th>2</th>\n",
       "      <td>公司内部管理</td>\n",
       "      <td>安心财险“闲时退费”产品违反车险条款</td>\n",
       "      <td>近日，中国保监会对安心财险发布的监管函显示，安心财险“闲时退费”产品被定性为违反车险条款...</td>\n",
       "    </tr>\n",
       "    <tr>\n",
       "      <th>3</th>\n",
       "      <td>公司内部管理</td>\n",
       "      <td>上海人寿保险被保监会出具监管函 指其六方面违规</td>\n",
       "      <td>原标题：上海人寿保险被保监会出具监管函 指其六方面违规  千龙网北京10月11日讯 10月1...</td>\n",
       "    </tr>\n",
       "    <tr>\n",
       "      <th>4</th>\n",
       "      <td>公司内部管理</td>\n",
       "      <td>中国太平2018年一季度保费收入624.7亿元</td>\n",
       "      <td>4月13日，中国太平保险控股(股份代码：HK00966)公布2018年一季度保费收入。中国太...</td>\n",
       "    </tr>\n",
       "  </tbody>\n",
       "</table>\n",
       "</div>"
      ],
      "text/plain": [
       "    label                    title  \\\n",
       "0  公司内部管理     太平人寿2016年原保费收入接近千亿大关   \n",
       "1  公司内部管理  经过一年半时间的筹建 首家科技保险公司正式开业   \n",
       "2  公司内部管理       安心财险“闲时退费”产品违反车险条款   \n",
       "3  公司内部管理  上海人寿保险被保监会出具监管函 指其六方面违规   \n",
       "4  公司内部管理  中国太平2018年一季度保费收入624.7亿元   \n",
       "\n",
       "                                             content  \n",
       "0   太平人寿2016年原保费收入接近千亿大关\\n\\r(图片) \\n财经头条 1年前\\n\\r记者...  \n",
       "1   现在是科技时代，在我们日常生活中，处处都离不开现代科技，比如快捷付款之类。但最近保险科技最...  \n",
       "2  　　近日，中国保监会对安心财险发布的监管函显示，安心财险“闲时退费”产品被定性为违反车险条款...  \n",
       "3  原标题：上海人寿保险被保监会出具监管函 指其六方面违规  千龙网北京10月11日讯 10月1...  \n",
       "4  4月13日，中国太平保险控股(股份代码：HK00966)公布2018年一季度保费收入。中国太...  "
      ]
     },
     "execution_count": 10,
     "metadata": {},
     "output_type": "execute_result"
    }
   ],
   "source": [
    "file_list_2 = ['circ_class_sel_20180827-1.xlsx','circ_class_sel_20180827-2.xlsx']\n",
    "\n",
    "circ_raw_class_2 = correct_wrong_data(folder, file_list_2)\n",
    "circ_raw_class_2['label'] = circ_raw_class_2['label'].apply(lambda x:x.strip())  \n",
    "circ_raw_class_2 = circ_raw_class_2[['备注', 'raw_title', 'raw_content']]\n",
    "circ_raw_class_2.columns = ['label', 'title', 'content']\n",
    "print('总数：', circ_raw_class_2.shape)\n",
    "circ_raw_class_2.head()"
   ]
  },
  {
   "cell_type": "code",
   "execution_count": 11,
   "metadata": {
    "ExecuteTime": {
     "end_time": "2018-10-19T07:20:30.143185Z",
     "start_time": "2018-10-19T07:20:30.130184Z"
    }
   },
   "outputs": [
    {
     "data": {
      "text/plain": [
       "行业        491\n",
       "公司内部管理    465\n",
       "噪音        427\n",
       "监管        254\n",
       "产品销售      221\n",
       "资本市场      215\n",
       "其他相关报道    180\n",
       "消费服务      127\n",
       "Name: label, dtype: int64"
      ]
     },
     "execution_count": 11,
     "metadata": {},
     "output_type": "execute_result"
    }
   ],
   "source": [
    "circ_raw_class_2['label'].value_counts()"
   ]
  },
  {
   "cell_type": "markdown",
   "metadata": {},
   "source": [
    "### 新补充数据"
   ]
  },
  {
   "cell_type": "code",
   "execution_count": 12,
   "metadata": {
    "ExecuteTime": {
     "end_time": "2018-10-19T07:20:30.371198Z",
     "start_time": "2018-10-19T07:20:30.147185Z"
    }
   },
   "outputs": [
    {
     "name": "stdout",
     "output_type": "stream",
     "text": [
      "Index(['title', 'content', 'label'], dtype='object')\n",
      "去空值前：  (319, 3) 20180827_circ_class_1.xlsx 社会医疗保险\n",
      "去空值后：  (319, 3) 20180827_circ_class_1.xlsx 社会医疗保险\n",
      "总数： (319, 3)\n"
     ]
    },
    {
     "data": {
      "text/html": [
       "<div>\n",
       "<style scoped>\n",
       "    .dataframe tbody tr th:only-of-type {\n",
       "        vertical-align: middle;\n",
       "    }\n",
       "\n",
       "    .dataframe tbody tr th {\n",
       "        vertical-align: top;\n",
       "    }\n",
       "\n",
       "    .dataframe thead th {\n",
       "        text-align: right;\n",
       "    }\n",
       "</style>\n",
       "<table border=\"1\" class=\"dataframe\">\n",
       "  <thead>\n",
       "    <tr style=\"text-align: right;\">\n",
       "      <th></th>\n",
       "      <th>label</th>\n",
       "      <th>title</th>\n",
       "      <th>content</th>\n",
       "    </tr>\n",
       "  </thead>\n",
       "  <tbody>\n",
       "    <tr>\n",
       "      <th>0</th>\n",
       "      <td>噪音</td>\n",
       "      <td>为什么医疗保险每年在加费用呢？相等的报销会增加吗？</td>\n",
       "      <td>为什么医疗保险每年在加费用呢？相等的报销会增加吗？ 待解决 匿名 问题与我的不同！ 我要立即...</td>\n",
       "    </tr>\n",
       "    <tr>\n",
       "      <th>1</th>\n",
       "      <td>噪音</td>\n",
       "      <td>临沂人注意了！有人看病多花好几万！只因不知道医疗保险的这一方面！</td>\n",
       "      <td>原标题:临沂人注意了！有人看病多花好几万！只因不知道医疗保险的这一方面！    古语说得好 ...</td>\n",
       "    </tr>\n",
       "    <tr>\n",
       "      <th>2</th>\n",
       "      <td>噪音</td>\n",
       "      <td>如何计算医疗保险个人账户中每月可以进账多少钱？</td>\n",
       "      <td>除了公积金这个小金库，我们还有一个医疗保险每月可以进账，医疗保险中的个人账户可以用来看病买药...</td>\n",
       "    </tr>\n",
       "    <tr>\n",
       "      <th>3</th>\n",
       "      <td>噪音</td>\n",
       "      <td>医疗保险是否跟贫困补助有关联</td>\n",
       "      <td>医疗保险是否跟贫困补助有关联 待解决 匿名 问题与我的不同！ 我要立即提问     尊敬的用...</td>\n",
       "    </tr>\n",
       "    <tr>\n",
       "      <th>4</th>\n",
       "      <td>噪音</td>\n",
       "      <td>这事受理了|农村合作医疗保险哪些群体可以减免费用</td>\n",
       "      <td>原标题:这事受理了|农村合作医疗保险哪些群体可以减免费用    有拍友反映：    请问一下...</td>\n",
       "    </tr>\n",
       "  </tbody>\n",
       "</table>\n",
       "</div>"
      ],
      "text/plain": [
       "  label                             title  \\\n",
       "0    噪音         为什么医疗保险每年在加费用呢？相等的报销会增加吗？   \n",
       "1    噪音  临沂人注意了！有人看病多花好几万！只因不知道医疗保险的这一方面！   \n",
       "2    噪音           如何计算医疗保险个人账户中每月可以进账多少钱？   \n",
       "3    噪音                    医疗保险是否跟贫困补助有关联   \n",
       "4    噪音          这事受理了|农村合作医疗保险哪些群体可以减免费用   \n",
       "\n",
       "                                             content  \n",
       "0  为什么医疗保险每年在加费用呢？相等的报销会增加吗？ 待解决 匿名 问题与我的不同！ 我要立即...  \n",
       "1  原标题:临沂人注意了！有人看病多花好几万！只因不知道医疗保险的这一方面！    古语说得好 ...  \n",
       "2  除了公积金这个小金库，我们还有一个医疗保险每月可以进账，医疗保险中的个人账户可以用来看病买药...  \n",
       "3  医疗保险是否跟贫困补助有关联 待解决 匿名 问题与我的不同！ 我要立即提问     尊敬的用...  \n",
       "4  原标题:这事受理了|农村合作医疗保险哪些群体可以减免费用    有拍友反映：    请问一下...  "
      ]
     },
     "execution_count": 12,
     "metadata": {},
     "output_type": "execute_result"
    }
   ],
   "source": [
    "file_list_3 = ['20180827_circ_class_1.xlsx'\n",
    "               ] # 多个 sheet\n",
    "\n",
    "circ_raw_class_3 = get_new_data(folder, file_list_3)\n",
    "\n",
    "circ_raw_class_3['label'] = circ_raw_class_3['label'].apply(lambda x:x.strip())    \n",
    "print('总数：', circ_raw_class_3.shape)\n",
    "circ_raw_class_3.head()"
   ]
  },
  {
   "cell_type": "code",
   "execution_count": 13,
   "metadata": {
    "ExecuteTime": {
     "end_time": "2018-10-19T07:20:30.395200Z",
     "start_time": "2018-10-19T07:20:30.381199Z"
    }
   },
   "outputs": [
    {
     "data": {
      "text/plain": [
       "噪音    319\n",
       "Name: label, dtype: int64"
      ]
     },
     "execution_count": 13,
     "metadata": {},
     "output_type": "execute_result"
    }
   ],
   "source": [
    "circ_raw_class_3['label'].value_counts()"
   ]
  },
  {
   "cell_type": "markdown",
   "metadata": {},
   "source": [
    "### 模型预测后反馈数据"
   ]
  },
  {
   "cell_type": "code",
   "execution_count": 97,
   "metadata": {
    "ExecuteTime": {
     "end_time": "2018-10-19T08:17:33.286978Z",
     "start_time": "2018-10-19T08:17:33.244975Z"
    }
   },
   "outputs": [],
   "source": [
    "def get_PR_plot_data(feedback_data, date, plot_data):\n",
    "    y_pred_class = feedback_data[feedback_data['date'] == date]['predict_label'].tolist()\n",
    "    y_test = feedback_data[feedback_data['date'] == date]['label'].tolist()\n",
    "    print('accuracy_score: ', metrics.accuracy_score(y_test, y_pred_class)) # 指所有分类正确的百分比\n",
    "    print(metrics.classification_report(y_test, y_pred_class))\n",
    "    print('confusion_matrix: ')\n",
    "    print( metrics.confusion_matrix(y_test, y_pred_class))\n",
    "    print()       \n",
    "    \n",
    "    classification_report = metrics.classification_report(y_test, y_pred_class)\n",
    "    lines = classification_report.split('\\n')\n",
    "    # plot_data = []\n",
    "    for index, line in enumerate(lines[2 : len(lines)]):\n",
    "        t = line.strip().split()\n",
    "        if len(t) < 2: continue    \n",
    "        if (index + 2) < (len(lines) - 2):\n",
    "            t = [float(v) if i > 0 else v for i, v in enumerate(t)]\n",
    "            plot_data.append(t + [date])\n",
    "        else :\n",
    "            t = [float(v) if i > 2 else v for i, v in enumerate(t) ]\n",
    "            plot_data.append(['avg/total'] + t[3:] + [date])    \n",
    "            \n",
    "    return plot_data"
   ]
  },
  {
   "cell_type": "code",
   "execution_count": 98,
   "metadata": {
    "ExecuteTime": {
     "end_time": "2018-10-19T08:17:34.113025Z",
     "start_time": "2018-10-19T08:17:33.996018Z"
    },
    "collapsed": true
   },
   "outputs": [],
   "source": []
  },
  {
   "cell_type": "code",
   "execution_count": 99,
   "metadata": {
    "ExecuteTime": {
     "end_time": "2018-10-19T08:17:45.260663Z",
     "start_time": "2018-10-19T08:17:34.923071Z"
    }
   },
   "outputs": [
    {
     "name": "stdout",
     "output_type": "stream",
     "text": [
      "  ----     20180904_circ_class_feedback.xlsx\n",
      "类别： 噪音 总数： 200 正确数 187 正确比例 0.935\n",
      "去空值前：  (200, 5) 20180904_circ_class_feedback.xlsx 噪音\n",
      "去空值后：  (200, 5) 20180904_circ_class_feedback.xlsx 噪音\n",
      "\n",
      "类别： 消费服务 总数： 198 正确数 137 正确比例 0.6919191919191919\n",
      "去空值前：  (198, 5) 20180904_circ_class_feedback.xlsx 消费服务\n",
      "去空值后：  (198, 5) 20180904_circ_class_feedback.xlsx 消费服务\n",
      "\n",
      "类别： 产品销售 总数： 194 正确数 183 正确比例 0.9432989690721649\n",
      "去空值前：  (194, 5) 20180904_circ_class_feedback.xlsx 产品销售\n",
      "去空值后：  (194, 5) 20180904_circ_class_feedback.xlsx 产品销售\n",
      "\n",
      "类别： 其他相关报道 总数： 200 正确数 155 正确比例 0.775\n",
      "去空值前：  (200, 5) 20180904_circ_class_feedback.xlsx 其他相关报道\n",
      "去空值后：  (200, 5) 20180904_circ_class_feedback.xlsx 其他相关报道\n",
      "\n",
      "类别： 监管 总数： 198 正确数 128 正确比例 0.6464646464646465\n",
      "去空值前：  (198, 5) 20180904_circ_class_feedback.xlsx 监管\n",
      "去空值后：  (198, 5) 20180904_circ_class_feedback.xlsx 监管\n",
      "\n",
      "类别： 行业 总数： 198 正确数 137 正确比例 0.6919191919191919\n",
      "去空值前：  (198, 5) 20180904_circ_class_feedback.xlsx 行业\n",
      "去空值后：  (198, 5) 20180904_circ_class_feedback.xlsx 行业\n",
      "\n",
      "类别： 资本市场 总数： 199 正确数 171 正确比例 0.8592964824120602\n",
      "去空值前：  (199, 5) 20180904_circ_class_feedback.xlsx 资本市场\n",
      "去空值后：  (199, 5) 20180904_circ_class_feedback.xlsx 资本市场\n",
      "\n",
      "类别： 公司内部管理 总数： 200 正确数 138 正确比例 0.69\n",
      "去空值前：  (200, 5) 20180904_circ_class_feedback.xlsx 公司内部管理\n",
      "去空值后：  (200, 5) 20180904_circ_class_feedback.xlsx 公司内部管理\n",
      "\n",
      "accuracy_score:  0.77882797731569\n",
      "             precision    recall  f1-score   support\n",
      "\n",
      "       产品销售       0.94      0.89      0.92       205\n",
      "     公司内部管理       0.69      0.84      0.76       165\n",
      "     其他相关报道       0.78      0.92      0.84       168\n",
      "         噪音       0.94      0.50      0.65       375\n",
      "       消费服务       0.69      0.82      0.75       167\n",
      "         监管       0.65      0.98      0.78       131\n",
      "         行业       0.69      0.72      0.71       190\n",
      "       资本市场       0.86      0.92      0.89       186\n",
      "\n",
      "avg / total       0.81      0.78      0.77      1587\n",
      "\n",
      "confusion_matrix: \n",
      "[[183   2   2   0  11   0   7   0]\n",
      " [  0 138   5   1   3   1  17   0]\n",
      " [  0   5 155   2   5   0   1   0]\n",
      " [  7  30  27 187  14  55  27  28]\n",
      " [  0  17   9   3 137   1   0   0]\n",
      " [  1   0   0   0   1 128   1   0]\n",
      " [  2   5   1   5  27  13 137   0]\n",
      " [  1   3   1   2   0   0   8 171]]\n",
      "\n",
      "  ----     20180905_circ_class_feedback.xlsx\n",
      "类别： 噪音 总数： 298 正确数 279 正确比例 0.9362416107382551\n",
      "去空值前：  (298, 5) 20180905_circ_class_feedback.xlsx 噪音\n",
      "去空值后：  (298, 5) 20180905_circ_class_feedback.xlsx 噪音\n",
      "\n",
      "类别： 监管 总数： 285 正确数 111 正确比例 0.3894736842105263\n",
      "去空值前：  (285, 5) 20180905_circ_class_feedback.xlsx 监管\n",
      "去空值后：  (285, 5) 20180905_circ_class_feedback.xlsx 监管\n",
      "\n",
      "类别： 行业 总数： 288 正确数 175 正确比例 0.6076388888888888\n",
      "去空值前：  (288, 5) 20180905_circ_class_feedback.xlsx 行业\n",
      "去空值后：  (288, 5) 20180905_circ_class_feedback.xlsx 行业\n",
      "\n",
      "类别： 公司内部管理 总数： 277 正确数 120 正确比例 0.4332129963898917\n",
      "去空值前：  (277, 5) 20180905_circ_class_feedback.xlsx 公司内部管理\n",
      "去空值后：  (277, 5) 20180905_circ_class_feedback.xlsx 公司内部管理\n",
      "\n",
      "accuracy_score:  0.5966898954703833\n",
      "             precision    recall  f1-score   support\n",
      "\n",
      "       产品销售       0.00      0.00      0.00        24\n",
      "     公司内部管理       0.43      0.77      0.56       155\n",
      "     其他相关报道       0.00      0.00      0.00        46\n",
      "         噪音       0.94      0.54      0.68       517\n",
      "       消费服务       0.00      0.00      0.00        28\n",
      "         监管       0.39      0.94      0.55       118\n",
      "         行业       0.61      0.76      0.68       230\n",
      "       资本市场       0.00      0.00      0.00        30\n",
      "\n",
      "avg / total       0.64      0.60      0.58      1148\n",
      "\n",
      "confusion_matrix: \n",
      "[[  0   7   0   0   0   2  15   0]\n",
      " [  0 120   0   1   0   1  33   0]\n",
      " [  0  34   0   5   0   1   6   0]\n",
      " [  0  57   0 279   0 141  40   0]\n",
      " [  0  15   0   3   0   2   8   0]\n",
      " [  0   0   0   0   0 111   7   0]\n",
      " [  0  27   0   6   0  22 175   0]\n",
      " [  0  17   0   4   0   5   4   0]]\n",
      "\n",
      "  ----     20180912_circ_class_feedback.xlsx\n",
      "类别： 噪音 总数： 298 正确数 288 正确比例 0.9664429530201343\n",
      "去空值前：  (298, 5) 20180912_circ_class_feedback.xlsx 噪音\n",
      "去空值后：  (298, 5) 20180912_circ_class_feedback.xlsx 噪音\n",
      "\n",
      "类别： 监管 总数： 290 正确数 159 正确比例 0.5482758620689655\n",
      "去空值前：  (290, 5) 20180912_circ_class_feedback.xlsx 监管\n",
      "去空值后：  (290, 5) 20180912_circ_class_feedback.xlsx 监管\n",
      "\n",
      "类别： 行业 总数： 281 正确数 219 正确比例 0.7793594306049823\n",
      "去空值前：  (281, 5) 20180912_circ_class_feedback.xlsx 行业\n",
      "去空值后：  (281, 5) 20180912_circ_class_feedback.xlsx 行业\n",
      "\n",
      "类别： 公司内部管理 总数： 289 正确数 142 正确比例 0.4913494809688581\n",
      "去空值前：  (289, 5) 20180912_circ_class_feedback.xlsx 公司内部管理\n",
      "去空值后：  (289, 5) 20180912_circ_class_feedback.xlsx 公司内部管理\n",
      "\n",
      "accuracy_score:  0.697754749568221\n",
      "             precision    recall  f1-score   support\n",
      "\n",
      "       产品销售       0.00      0.00      0.00        14\n",
      "     公司内部管理       0.49      0.90      0.64       158\n",
      "     其他相关报道       0.00      0.00      0.00        55\n",
      "         噪音       0.97      0.63      0.76       459\n",
      "       消费服务       0.00      0.00      0.00        33\n",
      "         监管       0.55      0.98      0.70       162\n",
      "         行业       0.78      0.90      0.84       243\n",
      "       资本市场       0.00      0.00      0.00        34\n",
      "\n",
      "avg / total       0.69      0.70      0.66      1158\n",
      "\n",
      "confusion_matrix: \n",
      "[[  0  12   0   1   0   1   0   0]\n",
      " [  0 142   0   0   0   1  15   0]\n",
      " [  0  29   0   5   0  18   3   0]\n",
      " [  0  48   0 288   0  96  27   0]\n",
      " [  0  22   0   1   0   1   9   0]\n",
      " [  0   0   0   0   0 159   3   0]\n",
      " [  0  17   0   1   0   6 219   0]\n",
      " [  0  19   0   2   0   8   5   0]]\n",
      "\n",
      "  ----     20180920_circ_class_feedback.xlsx\n",
      "类别： 噪音 总数： 298 正确数 288 正确比例 0.9664429530201343\n",
      "去空值前：  (298, 5) 20180920_circ_class_feedback.xlsx 噪音\n",
      "去空值后：  (298, 5) 20180920_circ_class_feedback.xlsx 噪音\n",
      "\n",
      "类别： 监管 总数： 293 正确数 182 正确比例 0.621160409556314\n",
      "去空值前：  (293, 5) 20180920_circ_class_feedback.xlsx 监管\n",
      "去空值后：  (293, 5) 20180920_circ_class_feedback.xlsx 监管\n",
      "\n",
      "类别： 公司内部管理 总数： 287 正确数 171 正确比例 0.5958188153310104\n",
      "去空值前：  (287, 5) 20180920_circ_class_feedback.xlsx 公司内部管理\n",
      "去空值后：  (287, 5) 20180920_circ_class_feedback.xlsx 公司内部管理\n",
      "\n",
      "类别： 消费服务 总数： 297 正确数 242 正确比例 0.8148148148148148\n",
      "去空值前：  (297, 5) 20180920_circ_class_feedback.xlsx 消费服务\n",
      "去空值后：  (297, 5) 20180920_circ_class_feedback.xlsx 消费服务\n",
      "\n",
      "accuracy_score:  0.7514893617021277\n",
      "             precision    recall  f1-score   support\n",
      "\n",
      "       产品销售       0.00      0.00      0.00        18\n",
      "     公司内部管理       0.60      0.98      0.74       174\n",
      "     其他相关报道       0.00      0.00      0.00        37\n",
      "         噪音       0.97      0.69      0.80       420\n",
      "       消费服务       0.81      0.90      0.86       269\n",
      "         监管       0.62      0.88      0.73       207\n",
      "         行业       0.00      0.00      0.00        32\n",
      "       资本市场       0.00      0.00      0.00        18\n",
      "\n",
      "avg / total       0.73      0.75      0.72      1175\n",
      "\n",
      "confusion_matrix: \n",
      "[[  0   2   0   0  16   0   0   0]\n",
      " [  0 171   0   0   1   2   0   0]\n",
      " [  0  23   0   6   2   6   0   0]\n",
      " [  0  45   0 288  12  75   0   0]\n",
      " [  0  25   0   0 242   2   0   0]\n",
      " [  0   3   0   2  20 182   0   0]\n",
      " [  0   4   0   1   3  24   0   0]\n",
      " [  0  14   0   1   1   2   0   0]]\n",
      "\n",
      "  ----     20180925_circ_class_feedback.xlsx\n",
      "类别： 行业 总数： 262 正确数 187 正确比例 0.7137404580152672\n",
      "去空值前：  (262, 5) 20180925_circ_class_feedback.xlsx 行业\n",
      "去空值后：  (262, 5) 20180925_circ_class_feedback.xlsx 行业\n",
      "\n",
      "类别： 资本市场 总数： 298 正确数 277 正确比例 0.9295302013422819\n",
      "去空值前：  (298, 5) 20180925_circ_class_feedback.xlsx 资本市场\n",
      "去空值后：  (298, 5) 20180925_circ_class_feedback.xlsx 资本市场\n",
      "\n",
      "类别： 公司内部管理 总数： 269 正确数 157 正确比例 0.5836431226765799\n",
      "去空值前：  (269, 5) 20180925_circ_class_feedback.xlsx 公司内部管理\n",
      "去空值后：  (269, 5) 20180925_circ_class_feedback.xlsx 公司内部管理\n",
      "\n",
      "类别： 监管 总数： 270 正确数 191 正确比例 0.7074074074074074\n",
      "去空值前：  (270, 5) 20180925_circ_class_feedback.xlsx 监管\n",
      "去空值后：  (270, 5) 20180925_circ_class_feedback.xlsx 监管\n",
      "\n",
      "类别： 消费服务 总数： 276 正确数 224 正确比例 0.8115942028985508\n",
      "去空值前：  (276, 5) 20180925_circ_class_feedback.xlsx 消费服务\n",
      "去空值后：  (276, 5) 20180925_circ_class_feedback.xlsx 消费服务\n",
      "\n",
      "accuracy_score:  0.7534545454545455\n",
      "             precision    recall  f1-score   support\n",
      "\n",
      "       产品销售       0.00      0.00      0.00        24\n",
      "     公司内部管理       0.58      0.92      0.71       171\n",
      "     其他相关报道       0.00      0.00      0.00        35\n",
      "         噪音       0.00      0.00      0.00       160\n",
      "       消费服务       0.81      0.80      0.81       279\n",
      "         监管       0.71      0.93      0.80       205\n",
      "         行业       0.71      0.87      0.78       216\n",
      "       资本市场       0.93      0.97      0.95       285\n",
      "\n",
      "avg / total       0.65      0.75      0.69      1375\n",
      "\n",
      "confusion_matrix: \n",
      "[[  0   7   0   0   5   0  12   0]\n",
      " [  0 157   0   0   2   1  10   1]\n",
      " [  0  19   0   0   1   9   6   0]\n",
      " [  0  33   0   0  40  51  19  17]\n",
      " [  0  36   0   0 224   2  17   0]\n",
      " [  0   1   0   0   3 191  10   0]\n",
      " [  0  12   0   0   0  14 187   3]\n",
      " [  0   4   0   0   1   2   1 277]]\n",
      "\n",
      "  ----     20181008_circ_class_feedback.xlsx\n"
     ]
    },
    {
     "name": "stdout",
     "output_type": "stream",
     "text": [
      "类别： 监管 总数： 195 正确数 126 正确比例 0.6461538461538462\n",
      "去空值前：  (195, 5) 20181008_circ_class_feedback.xlsx 监管\n",
      "去空值后：  (195, 5) 20181008_circ_class_feedback.xlsx 监管\n",
      "\n",
      "类别： 行业 总数： 171 正确数 101 正确比例 0.5906432748538012\n",
      "去空值前：  (171, 5) 20181008_circ_class_feedback.xlsx 行业\n",
      "去空值后：  (171, 5) 20181008_circ_class_feedback.xlsx 行业\n",
      "\n",
      "类别： 其他相关报道 总数： 196 正确数 124 正确比例 0.6326530612244898\n",
      "去空值前：  (196, 5) 20181008_circ_class_feedback.xlsx 其他相关报道\n",
      "去空值后：  (196, 5) 20181008_circ_class_feedback.xlsx 其他相关报道\n",
      "\n",
      "类别： 公司内部管理 总数： 362 正确数 158 正确比例 0.43646408839779005\n",
      "去空值前：  (362, 5) 20181008_circ_class_feedback.xlsx 公司内部管理\n",
      "去空值后：  (362, 5) 20181008_circ_class_feedback.xlsx 公司内部管理\n",
      "\n",
      "accuracy_score:  0.5508658008658008\n",
      "             precision    recall  f1-score   support\n",
      "\n",
      "       产品销售       0.00      0.00      0.00        49\n",
      "     公司内部管理       0.44      0.91      0.59       173\n",
      "     其他相关报道       0.63      0.75      0.69       165\n",
      "         噪音       0.00      0.00      0.00       150\n",
      "       消费服务       0.00      0.00      0.00        68\n",
      "         监管       0.65      0.98      0.78       128\n",
      "         行业       0.59      0.74      0.66       137\n",
      "       资本市场       0.00      0.00      0.00        54\n",
      "\n",
      "avg / total       0.37      0.55      0.44       924\n",
      "\n",
      "confusion_matrix: \n",
      "[[  0  17  14   0   0   0  18   0]\n",
      " [  0 158   3   0   0   1  11   0]\n",
      " [  0  40 124   0   0   1   0   0]\n",
      " [  0  56  29   0   0  52  13   0]\n",
      " [  0  25  21   0   0   1  21   0]\n",
      " [  0   0   0   0   0 126   2   0]\n",
      " [  0  17   5   0   0  14 101   0]\n",
      " [  0  49   0   0   0   0   5   0]]\n",
      "\n",
      "总数： (7367, 3)\n"
     ]
    },
    {
     "data": {
      "text/html": [
       "<div>\n",
       "<style scoped>\n",
       "    .dataframe tbody tr th:only-of-type {\n",
       "        vertical-align: middle;\n",
       "    }\n",
       "\n",
       "    .dataframe tbody tr th {\n",
       "        vertical-align: top;\n",
       "    }\n",
       "\n",
       "    .dataframe thead th {\n",
       "        text-align: right;\n",
       "    }\n",
       "</style>\n",
       "<table border=\"1\" class=\"dataframe\">\n",
       "  <thead>\n",
       "    <tr style=\"text-align: right;\">\n",
       "      <th></th>\n",
       "      <th>content</th>\n",
       "      <th>label</th>\n",
       "      <th>title</th>\n",
       "    </tr>\n",
       "  </thead>\n",
       "  <tbody>\n",
       "    <tr>\n",
       "      <th>0</th>\n",
       "      <td>今年以来，金塔县司法局深刻认识新形势下做好对欠薪农民工提供法律服务和法律援助的重要性和紧...</td>\n",
       "      <td>噪音</td>\n",
       "      <td>金塔县司法局三举措进一步加强对农民工追索劳动报酬提供法律援助服务</td>\n",
       "    </tr>\n",
       "    <tr>\n",
       "      <th>1</th>\n",
       "      <td>8月28日，江苏省太仓中集冷藏物流装备有限公司堆场上，各类冷藏箱整齐堆放，这些产品即将销...</td>\n",
       "      <td>噪音</td>\n",
       "      <td>经济日报：稳外贸需打“组合拳”</td>\n",
       "    </tr>\n",
       "    <tr>\n",
       "      <th>2</th>\n",
       "      <td>29 星期三 2018年8月 1 宏观经济 宏观数据 上证指数 2777.98 -2.92 ...</td>\n",
       "      <td>行业</td>\n",
       "      <td>捷越晨报│多家网贷平台宣布入股银行, 意在牌照与增信；深圳互金协会提示长租公寓“租金贷”风险。</td>\n",
       "    </tr>\n",
       "    <tr>\n",
       "      <th>3</th>\n",
       "      <td>新华社济南８月２８日电（记者叶婧）记者从山东省抗灾救灾与恢复重建指挥部了解到，应潍坊市请求，...</td>\n",
       "      <td>消费服务</td>\n",
       "      <td>山东紧急调运２０台长臂挖掘机支援抢险救灾</td>\n",
       "    </tr>\n",
       "    <tr>\n",
       "      <th>4</th>\n",
       "      <td>摘要 一、 军用图形显控龙头，自主可控GPU空间广阔 公司主要业务为军用图形显控产品，从最开...</td>\n",
       "      <td>噪音</td>\n",
       "      <td>[军工]景嘉微：自主可控GPU稀缺标的，军民产业融合发展 国产替代系列之三</td>\n",
       "    </tr>\n",
       "  </tbody>\n",
       "</table>\n",
       "</div>"
      ],
      "text/plain": [
       "                                             content label  \\\n",
       "0  　　今年以来，金塔县司法局深刻认识新形势下做好对欠薪农民工提供法律服务和法律援助的重要性和紧...    噪音   \n",
       "1  　　8月28日，江苏省太仓中集冷藏物流装备有限公司堆场上，各类冷藏箱整齐堆放，这些产品即将销...    噪音   \n",
       "2  29 星期三 2018年8月 1 宏观经济 宏观数据 上证指数 2777.98 -2.92 ...    行业   \n",
       "3  新华社济南８月２８日电（记者叶婧）记者从山东省抗灾救灾与恢复重建指挥部了解到，应潍坊市请求，...  消费服务   \n",
       "4  摘要 一、 军用图形显控龙头，自主可控GPU空间广阔 公司主要业务为军用图形显控产品，从最开...    噪音   \n",
       "\n",
       "                                             title  \n",
       "0                 金塔县司法局三举措进一步加强对农民工追索劳动报酬提供法律援助服务  \n",
       "1                                  经济日报：稳外贸需打“组合拳”  \n",
       "2  捷越晨报│多家网贷平台宣布入股银行, 意在牌照与增信；深圳互金协会提示长租公寓“租金贷”风险。  \n",
       "3                             山东紧急调运２０台长臂挖掘机支援抢险救灾  \n",
       "4            [军工]景嘉微：自主可控GPU稀缺标的，军民产业融合发展 国产替代系列之三  "
      ]
     },
     "execution_count": 99,
     "metadata": {},
     "output_type": "execute_result"
    }
   ],
   "source": [
    "file_list_4 = ['20180904_circ_class_feedback.xlsx', '20180905_circ_class_feedback.xlsx',\n",
    "               '20180912_circ_class_feedback.xlsx','20180920_circ_class_feedback.xlsx',\n",
    "               '20180925_circ_class_feedback.xlsx', '20181008_circ_class_feedback.xlsx'\n",
    "              ] # 多个 sheet\n",
    "\n",
    "circ_raw_class_4, PR_data, PR_plot_data = get_feedback_data(folder, file_list_4)\n",
    "\n",
    "circ_raw_class_4['label'] = circ_raw_class_4['label'].apply(lambda x:x.strip())    \n",
    "print('总数：', circ_raw_class_4.shape)\n",
    "circ_raw_class_4.head()"
   ]
  },
  {
   "cell_type": "code",
   "execution_count": 100,
   "metadata": {
    "ExecuteTime": {
     "end_time": "2018-10-19T08:17:45.461674Z",
     "start_time": "2018-10-19T08:17:45.445673Z"
    }
   },
   "outputs": [
    {
     "data": {
      "text/plain": [
       "噪音        2081\n",
       "行业        1048\n",
       "公司内部管理     996\n",
       "监管         951\n",
       "消费服务       844\n",
       "资本市场       607\n",
       "其他相关报道     506\n",
       "产品销售       334\n",
       "Name: label, dtype: int64"
      ]
     },
     "execution_count": 100,
     "metadata": {},
     "output_type": "execute_result"
    }
   ],
   "source": [
    "circ_raw_class_4['label'].value_counts()"
   ]
  },
  {
   "cell_type": "code",
   "execution_count": 101,
   "metadata": {
    "ExecuteTime": {
     "end_time": "2018-10-19T08:17:45.796693Z",
     "start_time": "2018-10-19T08:17:45.712688Z"
    }
   },
   "outputs": [
    {
     "name": "stdout",
     "output_type": "stream",
     "text": [
      "accuracy_score:  0.7000135740464233\n",
      "             precision    recall  f1-score   support\n",
      "\n",
      "       产品销售       0.94      0.55      0.69       334\n",
      "     公司内部管理       0.53      0.89      0.66       996\n",
      "     其他相关报道       0.70      0.55      0.62       506\n",
      "         噪音       0.95      0.50      0.66      2081\n",
      "       消费服务       0.78      0.71      0.75       844\n",
      "         监管       0.59      0.94      0.72       951\n",
      "         行业       0.68      0.78      0.73      1048\n",
      "       资本市场       0.90      0.74      0.81       607\n",
      "\n",
      "avg / total       0.77      0.70      0.70      7367\n",
      "\n",
      "confusion_matrix: \n",
      "[[ 183   47   16    1   32    3   52    0]\n",
      " [   0  886    8    2    6    7   86    1]\n",
      " [   0  150  279   18    8   35   16    0]\n",
      " [   7  269   56 1042   66  470  126   45]\n",
      " [   0  140   30    7  603    9   55    0]\n",
      " [   1    4    0    2   24  897   23    0]\n",
      " [   2   82    6   13   30   93  819    3]\n",
      " [   1  106    1    9    2   17   23  448]]\n"
     ]
    }
   ],
   "source": [
    "y_pred_class = PR_data['predict_label'].tolist()\n",
    "y_test = PR_data['label'].tolist()\n",
    "print('accuracy_score: ', metrics.accuracy_score(y_test, y_pred_class)) # 指所有分类正确的百分比\n",
    "print(metrics.classification_report(y_test, y_pred_class))\n",
    "print('confusion_matrix: ')\n",
    "print( metrics.confusion_matrix(y_test, y_pred_class))\n",
    "# PR_data.head()"
   ]
  },
  {
   "cell_type": "code",
   "execution_count": 102,
   "metadata": {
    "ExecuteTime": {
     "end_time": "2018-10-19T08:17:46.107711Z",
     "start_time": "2018-10-19T08:17:46.079709Z"
    }
   },
   "outputs": [
    {
     "data": {
      "text/html": [
       "<div>\n",
       "<style scoped>\n",
       "    .dataframe tbody tr th:only-of-type {\n",
       "        vertical-align: middle;\n",
       "    }\n",
       "\n",
       "    .dataframe tbody tr th {\n",
       "        vertical-align: top;\n",
       "    }\n",
       "\n",
       "    .dataframe thead th {\n",
       "        text-align: right;\n",
       "    }\n",
       "</style>\n",
       "<table border=\"1\" class=\"dataframe\">\n",
       "  <thead>\n",
       "    <tr style=\"text-align: right;\">\n",
       "      <th></th>\n",
       "      <th>label</th>\n",
       "      <th>precision</th>\n",
       "      <th>recall</th>\n",
       "      <th>f1-score</th>\n",
       "      <th>support</th>\n",
       "      <th>date</th>\n",
       "    </tr>\n",
       "  </thead>\n",
       "  <tbody>\n",
       "    <tr>\n",
       "      <th>0</th>\n",
       "      <td>产品销售</td>\n",
       "      <td>0.94</td>\n",
       "      <td>0.89</td>\n",
       "      <td>0.92</td>\n",
       "      <td>205.0</td>\n",
       "      <td>20180904</td>\n",
       "    </tr>\n",
       "    <tr>\n",
       "      <th>1</th>\n",
       "      <td>公司内部管理</td>\n",
       "      <td>0.69</td>\n",
       "      <td>0.84</td>\n",
       "      <td>0.76</td>\n",
       "      <td>165.0</td>\n",
       "      <td>20180904</td>\n",
       "    </tr>\n",
       "    <tr>\n",
       "      <th>2</th>\n",
       "      <td>其他相关报道</td>\n",
       "      <td>0.78</td>\n",
       "      <td>0.92</td>\n",
       "      <td>0.84</td>\n",
       "      <td>168.0</td>\n",
       "      <td>20180904</td>\n",
       "    </tr>\n",
       "    <tr>\n",
       "      <th>3</th>\n",
       "      <td>噪音</td>\n",
       "      <td>0.94</td>\n",
       "      <td>0.50</td>\n",
       "      <td>0.65</td>\n",
       "      <td>375.0</td>\n",
       "      <td>20180904</td>\n",
       "    </tr>\n",
       "    <tr>\n",
       "      <th>4</th>\n",
       "      <td>消费服务</td>\n",
       "      <td>0.69</td>\n",
       "      <td>0.82</td>\n",
       "      <td>0.75</td>\n",
       "      <td>167.0</td>\n",
       "      <td>20180904</td>\n",
       "    </tr>\n",
       "    <tr>\n",
       "      <th>5</th>\n",
       "      <td>监管</td>\n",
       "      <td>0.65</td>\n",
       "      <td>0.98</td>\n",
       "      <td>0.78</td>\n",
       "      <td>131.0</td>\n",
       "      <td>20180904</td>\n",
       "    </tr>\n",
       "    <tr>\n",
       "      <th>6</th>\n",
       "      <td>行业</td>\n",
       "      <td>0.69</td>\n",
       "      <td>0.72</td>\n",
       "      <td>0.71</td>\n",
       "      <td>190.0</td>\n",
       "      <td>20180904</td>\n",
       "    </tr>\n",
       "    <tr>\n",
       "      <th>7</th>\n",
       "      <td>资本市场</td>\n",
       "      <td>0.86</td>\n",
       "      <td>0.92</td>\n",
       "      <td>0.89</td>\n",
       "      <td>186.0</td>\n",
       "      <td>20180904</td>\n",
       "    </tr>\n",
       "    <tr>\n",
       "      <th>8</th>\n",
       "      <td>avg/total</td>\n",
       "      <td>0.81</td>\n",
       "      <td>0.78</td>\n",
       "      <td>0.77</td>\n",
       "      <td>1587.0</td>\n",
       "      <td>20180904</td>\n",
       "    </tr>\n",
       "    <tr>\n",
       "      <th>9</th>\n",
       "      <td>产品销售</td>\n",
       "      <td>0.00</td>\n",
       "      <td>0.00</td>\n",
       "      <td>0.00</td>\n",
       "      <td>24.0</td>\n",
       "      <td>20180905</td>\n",
       "    </tr>\n",
       "    <tr>\n",
       "      <th>10</th>\n",
       "      <td>公司内部管理</td>\n",
       "      <td>0.43</td>\n",
       "      <td>0.77</td>\n",
       "      <td>0.56</td>\n",
       "      <td>155.0</td>\n",
       "      <td>20180905</td>\n",
       "    </tr>\n",
       "    <tr>\n",
       "      <th>11</th>\n",
       "      <td>其他相关报道</td>\n",
       "      <td>0.00</td>\n",
       "      <td>0.00</td>\n",
       "      <td>0.00</td>\n",
       "      <td>46.0</td>\n",
       "      <td>20180905</td>\n",
       "    </tr>\n",
       "    <tr>\n",
       "      <th>12</th>\n",
       "      <td>噪音</td>\n",
       "      <td>0.94</td>\n",
       "      <td>0.54</td>\n",
       "      <td>0.68</td>\n",
       "      <td>517.0</td>\n",
       "      <td>20180905</td>\n",
       "    </tr>\n",
       "    <tr>\n",
       "      <th>13</th>\n",
       "      <td>消费服务</td>\n",
       "      <td>0.00</td>\n",
       "      <td>0.00</td>\n",
       "      <td>0.00</td>\n",
       "      <td>28.0</td>\n",
       "      <td>20180905</td>\n",
       "    </tr>\n",
       "    <tr>\n",
       "      <th>14</th>\n",
       "      <td>监管</td>\n",
       "      <td>0.39</td>\n",
       "      <td>0.94</td>\n",
       "      <td>0.55</td>\n",
       "      <td>118.0</td>\n",
       "      <td>20180905</td>\n",
       "    </tr>\n",
       "    <tr>\n",
       "      <th>15</th>\n",
       "      <td>行业</td>\n",
       "      <td>0.61</td>\n",
       "      <td>0.76</td>\n",
       "      <td>0.68</td>\n",
       "      <td>230.0</td>\n",
       "      <td>20180905</td>\n",
       "    </tr>\n",
       "    <tr>\n",
       "      <th>16</th>\n",
       "      <td>资本市场</td>\n",
       "      <td>0.00</td>\n",
       "      <td>0.00</td>\n",
       "      <td>0.00</td>\n",
       "      <td>30.0</td>\n",
       "      <td>20180905</td>\n",
       "    </tr>\n",
       "    <tr>\n",
       "      <th>17</th>\n",
       "      <td>avg/total</td>\n",
       "      <td>0.64</td>\n",
       "      <td>0.60</td>\n",
       "      <td>0.58</td>\n",
       "      <td>1148.0</td>\n",
       "      <td>20180905</td>\n",
       "    </tr>\n",
       "    <tr>\n",
       "      <th>18</th>\n",
       "      <td>产品销售</td>\n",
       "      <td>0.00</td>\n",
       "      <td>0.00</td>\n",
       "      <td>0.00</td>\n",
       "      <td>14.0</td>\n",
       "      <td>20180912</td>\n",
       "    </tr>\n",
       "    <tr>\n",
       "      <th>19</th>\n",
       "      <td>公司内部管理</td>\n",
       "      <td>0.49</td>\n",
       "      <td>0.90</td>\n",
       "      <td>0.64</td>\n",
       "      <td>158.0</td>\n",
       "      <td>20180912</td>\n",
       "    </tr>\n",
       "    <tr>\n",
       "      <th>20</th>\n",
       "      <td>其他相关报道</td>\n",
       "      <td>0.00</td>\n",
       "      <td>0.00</td>\n",
       "      <td>0.00</td>\n",
       "      <td>55.0</td>\n",
       "      <td>20180912</td>\n",
       "    </tr>\n",
       "    <tr>\n",
       "      <th>21</th>\n",
       "      <td>噪音</td>\n",
       "      <td>0.97</td>\n",
       "      <td>0.63</td>\n",
       "      <td>0.76</td>\n",
       "      <td>459.0</td>\n",
       "      <td>20180912</td>\n",
       "    </tr>\n",
       "    <tr>\n",
       "      <th>22</th>\n",
       "      <td>消费服务</td>\n",
       "      <td>0.00</td>\n",
       "      <td>0.00</td>\n",
       "      <td>0.00</td>\n",
       "      <td>33.0</td>\n",
       "      <td>20180912</td>\n",
       "    </tr>\n",
       "    <tr>\n",
       "      <th>23</th>\n",
       "      <td>监管</td>\n",
       "      <td>0.55</td>\n",
       "      <td>0.98</td>\n",
       "      <td>0.70</td>\n",
       "      <td>162.0</td>\n",
       "      <td>20180912</td>\n",
       "    </tr>\n",
       "    <tr>\n",
       "      <th>24</th>\n",
       "      <td>行业</td>\n",
       "      <td>0.78</td>\n",
       "      <td>0.90</td>\n",
       "      <td>0.84</td>\n",
       "      <td>243.0</td>\n",
       "      <td>20180912</td>\n",
       "    </tr>\n",
       "    <tr>\n",
       "      <th>25</th>\n",
       "      <td>资本市场</td>\n",
       "      <td>0.00</td>\n",
       "      <td>0.00</td>\n",
       "      <td>0.00</td>\n",
       "      <td>34.0</td>\n",
       "      <td>20180912</td>\n",
       "    </tr>\n",
       "    <tr>\n",
       "      <th>26</th>\n",
       "      <td>avg/total</td>\n",
       "      <td>0.69</td>\n",
       "      <td>0.70</td>\n",
       "      <td>0.66</td>\n",
       "      <td>1158.0</td>\n",
       "      <td>20180912</td>\n",
       "    </tr>\n",
       "    <tr>\n",
       "      <th>27</th>\n",
       "      <td>产品销售</td>\n",
       "      <td>0.00</td>\n",
       "      <td>0.00</td>\n",
       "      <td>0.00</td>\n",
       "      <td>18.0</td>\n",
       "      <td>20180920</td>\n",
       "    </tr>\n",
       "    <tr>\n",
       "      <th>28</th>\n",
       "      <td>公司内部管理</td>\n",
       "      <td>0.60</td>\n",
       "      <td>0.98</td>\n",
       "      <td>0.74</td>\n",
       "      <td>174.0</td>\n",
       "      <td>20180920</td>\n",
       "    </tr>\n",
       "    <tr>\n",
       "      <th>29</th>\n",
       "      <td>其他相关报道</td>\n",
       "      <td>0.00</td>\n",
       "      <td>0.00</td>\n",
       "      <td>0.00</td>\n",
       "      <td>37.0</td>\n",
       "      <td>20180920</td>\n",
       "    </tr>\n",
       "    <tr>\n",
       "      <th>30</th>\n",
       "      <td>噪音</td>\n",
       "      <td>0.97</td>\n",
       "      <td>0.69</td>\n",
       "      <td>0.80</td>\n",
       "      <td>420.0</td>\n",
       "      <td>20180920</td>\n",
       "    </tr>\n",
       "    <tr>\n",
       "      <th>31</th>\n",
       "      <td>消费服务</td>\n",
       "      <td>0.81</td>\n",
       "      <td>0.90</td>\n",
       "      <td>0.86</td>\n",
       "      <td>269.0</td>\n",
       "      <td>20180920</td>\n",
       "    </tr>\n",
       "    <tr>\n",
       "      <th>32</th>\n",
       "      <td>监管</td>\n",
       "      <td>0.62</td>\n",
       "      <td>0.88</td>\n",
       "      <td>0.73</td>\n",
       "      <td>207.0</td>\n",
       "      <td>20180920</td>\n",
       "    </tr>\n",
       "    <tr>\n",
       "      <th>33</th>\n",
       "      <td>行业</td>\n",
       "      <td>0.00</td>\n",
       "      <td>0.00</td>\n",
       "      <td>0.00</td>\n",
       "      <td>32.0</td>\n",
       "      <td>20180920</td>\n",
       "    </tr>\n",
       "    <tr>\n",
       "      <th>34</th>\n",
       "      <td>资本市场</td>\n",
       "      <td>0.00</td>\n",
       "      <td>0.00</td>\n",
       "      <td>0.00</td>\n",
       "      <td>18.0</td>\n",
       "      <td>20180920</td>\n",
       "    </tr>\n",
       "    <tr>\n",
       "      <th>35</th>\n",
       "      <td>avg/total</td>\n",
       "      <td>0.73</td>\n",
       "      <td>0.75</td>\n",
       "      <td>0.72</td>\n",
       "      <td>1175.0</td>\n",
       "      <td>20180920</td>\n",
       "    </tr>\n",
       "    <tr>\n",
       "      <th>36</th>\n",
       "      <td>产品销售</td>\n",
       "      <td>0.00</td>\n",
       "      <td>0.00</td>\n",
       "      <td>0.00</td>\n",
       "      <td>24.0</td>\n",
       "      <td>20180925</td>\n",
       "    </tr>\n",
       "    <tr>\n",
       "      <th>37</th>\n",
       "      <td>公司内部管理</td>\n",
       "      <td>0.58</td>\n",
       "      <td>0.92</td>\n",
       "      <td>0.71</td>\n",
       "      <td>171.0</td>\n",
       "      <td>20180925</td>\n",
       "    </tr>\n",
       "    <tr>\n",
       "      <th>38</th>\n",
       "      <td>其他相关报道</td>\n",
       "      <td>0.00</td>\n",
       "      <td>0.00</td>\n",
       "      <td>0.00</td>\n",
       "      <td>35.0</td>\n",
       "      <td>20180925</td>\n",
       "    </tr>\n",
       "    <tr>\n",
       "      <th>39</th>\n",
       "      <td>噪音</td>\n",
       "      <td>0.00</td>\n",
       "      <td>0.00</td>\n",
       "      <td>0.00</td>\n",
       "      <td>160.0</td>\n",
       "      <td>20180925</td>\n",
       "    </tr>\n",
       "    <tr>\n",
       "      <th>40</th>\n",
       "      <td>消费服务</td>\n",
       "      <td>0.81</td>\n",
       "      <td>0.80</td>\n",
       "      <td>0.81</td>\n",
       "      <td>279.0</td>\n",
       "      <td>20180925</td>\n",
       "    </tr>\n",
       "    <tr>\n",
       "      <th>41</th>\n",
       "      <td>监管</td>\n",
       "      <td>0.71</td>\n",
       "      <td>0.93</td>\n",
       "      <td>0.80</td>\n",
       "      <td>205.0</td>\n",
       "      <td>20180925</td>\n",
       "    </tr>\n",
       "    <tr>\n",
       "      <th>42</th>\n",
       "      <td>行业</td>\n",
       "      <td>0.71</td>\n",
       "      <td>0.87</td>\n",
       "      <td>0.78</td>\n",
       "      <td>216.0</td>\n",
       "      <td>20180925</td>\n",
       "    </tr>\n",
       "    <tr>\n",
       "      <th>43</th>\n",
       "      <td>资本市场</td>\n",
       "      <td>0.93</td>\n",
       "      <td>0.97</td>\n",
       "      <td>0.95</td>\n",
       "      <td>285.0</td>\n",
       "      <td>20180925</td>\n",
       "    </tr>\n",
       "    <tr>\n",
       "      <th>44</th>\n",
       "      <td>avg/total</td>\n",
       "      <td>0.65</td>\n",
       "      <td>0.75</td>\n",
       "      <td>0.69</td>\n",
       "      <td>1375.0</td>\n",
       "      <td>20180925</td>\n",
       "    </tr>\n",
       "    <tr>\n",
       "      <th>45</th>\n",
       "      <td>产品销售</td>\n",
       "      <td>0.00</td>\n",
       "      <td>0.00</td>\n",
       "      <td>0.00</td>\n",
       "      <td>49.0</td>\n",
       "      <td>20181008</td>\n",
       "    </tr>\n",
       "    <tr>\n",
       "      <th>46</th>\n",
       "      <td>公司内部管理</td>\n",
       "      <td>0.44</td>\n",
       "      <td>0.91</td>\n",
       "      <td>0.59</td>\n",
       "      <td>173.0</td>\n",
       "      <td>20181008</td>\n",
       "    </tr>\n",
       "    <tr>\n",
       "      <th>47</th>\n",
       "      <td>其他相关报道</td>\n",
       "      <td>0.63</td>\n",
       "      <td>0.75</td>\n",
       "      <td>0.69</td>\n",
       "      <td>165.0</td>\n",
       "      <td>20181008</td>\n",
       "    </tr>\n",
       "    <tr>\n",
       "      <th>48</th>\n",
       "      <td>噪音</td>\n",
       "      <td>0.00</td>\n",
       "      <td>0.00</td>\n",
       "      <td>0.00</td>\n",
       "      <td>150.0</td>\n",
       "      <td>20181008</td>\n",
       "    </tr>\n",
       "    <tr>\n",
       "      <th>49</th>\n",
       "      <td>消费服务</td>\n",
       "      <td>0.00</td>\n",
       "      <td>0.00</td>\n",
       "      <td>0.00</td>\n",
       "      <td>68.0</td>\n",
       "      <td>20181008</td>\n",
       "    </tr>\n",
       "    <tr>\n",
       "      <th>50</th>\n",
       "      <td>监管</td>\n",
       "      <td>0.65</td>\n",
       "      <td>0.98</td>\n",
       "      <td>0.78</td>\n",
       "      <td>128.0</td>\n",
       "      <td>20181008</td>\n",
       "    </tr>\n",
       "    <tr>\n",
       "      <th>51</th>\n",
       "      <td>行业</td>\n",
       "      <td>0.59</td>\n",
       "      <td>0.74</td>\n",
       "      <td>0.66</td>\n",
       "      <td>137.0</td>\n",
       "      <td>20181008</td>\n",
       "    </tr>\n",
       "    <tr>\n",
       "      <th>52</th>\n",
       "      <td>资本市场</td>\n",
       "      <td>0.00</td>\n",
       "      <td>0.00</td>\n",
       "      <td>0.00</td>\n",
       "      <td>54.0</td>\n",
       "      <td>20181008</td>\n",
       "    </tr>\n",
       "    <tr>\n",
       "      <th>53</th>\n",
       "      <td>avg/total</td>\n",
       "      <td>0.37</td>\n",
       "      <td>0.55</td>\n",
       "      <td>0.44</td>\n",
       "      <td>924.0</td>\n",
       "      <td>20181008</td>\n",
       "    </tr>\n",
       "  </tbody>\n",
       "</table>\n",
       "</div>"
      ],
      "text/plain": [
       "        label  precision  recall  f1-score  support      date\n",
       "0        产品销售       0.94    0.89      0.92    205.0  20180904\n",
       "1      公司内部管理       0.69    0.84      0.76    165.0  20180904\n",
       "2      其他相关报道       0.78    0.92      0.84    168.0  20180904\n",
       "3          噪音       0.94    0.50      0.65    375.0  20180904\n",
       "4        消费服务       0.69    0.82      0.75    167.0  20180904\n",
       "5          监管       0.65    0.98      0.78    131.0  20180904\n",
       "6          行业       0.69    0.72      0.71    190.0  20180904\n",
       "7        资本市场       0.86    0.92      0.89    186.0  20180904\n",
       "8   avg/total       0.81    0.78      0.77   1587.0  20180904\n",
       "9        产品销售       0.00    0.00      0.00     24.0  20180905\n",
       "10     公司内部管理       0.43    0.77      0.56    155.0  20180905\n",
       "11     其他相关报道       0.00    0.00      0.00     46.0  20180905\n",
       "12         噪音       0.94    0.54      0.68    517.0  20180905\n",
       "13       消费服务       0.00    0.00      0.00     28.0  20180905\n",
       "14         监管       0.39    0.94      0.55    118.0  20180905\n",
       "15         行业       0.61    0.76      0.68    230.0  20180905\n",
       "16       资本市场       0.00    0.00      0.00     30.0  20180905\n",
       "17  avg/total       0.64    0.60      0.58   1148.0  20180905\n",
       "18       产品销售       0.00    0.00      0.00     14.0  20180912\n",
       "19     公司内部管理       0.49    0.90      0.64    158.0  20180912\n",
       "20     其他相关报道       0.00    0.00      0.00     55.0  20180912\n",
       "21         噪音       0.97    0.63      0.76    459.0  20180912\n",
       "22       消费服务       0.00    0.00      0.00     33.0  20180912\n",
       "23         监管       0.55    0.98      0.70    162.0  20180912\n",
       "24         行业       0.78    0.90      0.84    243.0  20180912\n",
       "25       资本市场       0.00    0.00      0.00     34.0  20180912\n",
       "26  avg/total       0.69    0.70      0.66   1158.0  20180912\n",
       "27       产品销售       0.00    0.00      0.00     18.0  20180920\n",
       "28     公司内部管理       0.60    0.98      0.74    174.0  20180920\n",
       "29     其他相关报道       0.00    0.00      0.00     37.0  20180920\n",
       "30         噪音       0.97    0.69      0.80    420.0  20180920\n",
       "31       消费服务       0.81    0.90      0.86    269.0  20180920\n",
       "32         监管       0.62    0.88      0.73    207.0  20180920\n",
       "33         行业       0.00    0.00      0.00     32.0  20180920\n",
       "34       资本市场       0.00    0.00      0.00     18.0  20180920\n",
       "35  avg/total       0.73    0.75      0.72   1175.0  20180920\n",
       "36       产品销售       0.00    0.00      0.00     24.0  20180925\n",
       "37     公司内部管理       0.58    0.92      0.71    171.0  20180925\n",
       "38     其他相关报道       0.00    0.00      0.00     35.0  20180925\n",
       "39         噪音       0.00    0.00      0.00    160.0  20180925\n",
       "40       消费服务       0.81    0.80      0.81    279.0  20180925\n",
       "41         监管       0.71    0.93      0.80    205.0  20180925\n",
       "42         行业       0.71    0.87      0.78    216.0  20180925\n",
       "43       资本市场       0.93    0.97      0.95    285.0  20180925\n",
       "44  avg/total       0.65    0.75      0.69   1375.0  20180925\n",
       "45       产品销售       0.00    0.00      0.00     49.0  20181008\n",
       "46     公司内部管理       0.44    0.91      0.59    173.0  20181008\n",
       "47     其他相关报道       0.63    0.75      0.69    165.0  20181008\n",
       "48         噪音       0.00    0.00      0.00    150.0  20181008\n",
       "49       消费服务       0.00    0.00      0.00     68.0  20181008\n",
       "50         监管       0.65    0.98      0.78    128.0  20181008\n",
       "51         行业       0.59    0.74      0.66    137.0  20181008\n",
       "52       资本市场       0.00    0.00      0.00     54.0  20181008\n",
       "53  avg/total       0.37    0.55      0.44    924.0  20181008"
      ]
     },
     "execution_count": 102,
     "metadata": {},
     "output_type": "execute_result"
    }
   ],
   "source": [
    "PR_plot_data\n",
    "# PR_plot_data = PR_plot_data.reset_index('date')"
   ]
  },
  {
   "cell_type": "code",
   "execution_count": 103,
   "metadata": {
    "ExecuteTime": {
     "end_time": "2018-10-19T08:17:52.529078Z",
     "start_time": "2018-10-19T08:17:52.322066Z"
    }
   },
   "outputs": [
    {
     "data": {
      "text/html": [
       "<div>\n",
       "<style scoped>\n",
       "    .dataframe tbody tr th:only-of-type {\n",
       "        vertical-align: middle;\n",
       "    }\n",
       "\n",
       "    .dataframe tbody tr th {\n",
       "        vertical-align: top;\n",
       "    }\n",
       "\n",
       "    .dataframe thead th {\n",
       "        text-align: right;\n",
       "    }\n",
       "</style>\n",
       "<table border=\"1\" class=\"dataframe\">\n",
       "  <thead>\n",
       "    <tr style=\"text-align: right;\">\n",
       "      <th></th>\n",
       "      <th>label</th>\n",
       "      <th>precision</th>\n",
       "      <th>recall</th>\n",
       "      <th>f1-score</th>\n",
       "      <th>support</th>\n",
       "      <th>date</th>\n",
       "    </tr>\n",
       "  </thead>\n",
       "  <tbody>\n",
       "    <tr>\n",
       "      <th>8</th>\n",
       "      <td>avg/total</td>\n",
       "      <td>0.81</td>\n",
       "      <td>0.78</td>\n",
       "      <td>0.77</td>\n",
       "      <td>1587.0</td>\n",
       "      <td>20180904</td>\n",
       "    </tr>\n",
       "    <tr>\n",
       "      <th>17</th>\n",
       "      <td>avg/total</td>\n",
       "      <td>0.64</td>\n",
       "      <td>0.60</td>\n",
       "      <td>0.58</td>\n",
       "      <td>1148.0</td>\n",
       "      <td>20180905</td>\n",
       "    </tr>\n",
       "    <tr>\n",
       "      <th>26</th>\n",
       "      <td>avg/total</td>\n",
       "      <td>0.69</td>\n",
       "      <td>0.70</td>\n",
       "      <td>0.66</td>\n",
       "      <td>1158.0</td>\n",
       "      <td>20180912</td>\n",
       "    </tr>\n",
       "    <tr>\n",
       "      <th>35</th>\n",
       "      <td>avg/total</td>\n",
       "      <td>0.73</td>\n",
       "      <td>0.75</td>\n",
       "      <td>0.72</td>\n",
       "      <td>1175.0</td>\n",
       "      <td>20180920</td>\n",
       "    </tr>\n",
       "    <tr>\n",
       "      <th>44</th>\n",
       "      <td>avg/total</td>\n",
       "      <td>0.65</td>\n",
       "      <td>0.75</td>\n",
       "      <td>0.69</td>\n",
       "      <td>1375.0</td>\n",
       "      <td>20180925</td>\n",
       "    </tr>\n",
       "    <tr>\n",
       "      <th>53</th>\n",
       "      <td>avg/total</td>\n",
       "      <td>0.37</td>\n",
       "      <td>0.55</td>\n",
       "      <td>0.44</td>\n",
       "      <td>924.0</td>\n",
       "      <td>20181008</td>\n",
       "    </tr>\n",
       "  </tbody>\n",
       "</table>\n",
       "</div>"
      ],
      "text/plain": [
       "        label  precision  recall  f1-score  support      date\n",
       "8   avg/total       0.81    0.78      0.77   1587.0  20180904\n",
       "17  avg/total       0.64    0.60      0.58   1148.0  20180905\n",
       "26  avg/total       0.69    0.70      0.66   1158.0  20180912\n",
       "35  avg/total       0.73    0.75      0.72   1175.0  20180920\n",
       "44  avg/total       0.65    0.75      0.69   1375.0  20180925\n",
       "53  avg/total       0.37    0.55      0.44    924.0  20181008"
      ]
     },
     "execution_count": 103,
     "metadata": {},
     "output_type": "execute_result"
    },
    {
     "data": {
      "image/png": "[encoded data removed]",
      "text/plain": [
       "<matplotlib.figure.Figure at 0x1b08f2e8>"
      ]
     },
     "metadata": {},
     "output_type": "display_data"
    }
   ],
   "source": [
    "PR_plot_data[PR_plot_data['label'] == 'avg/total'][[ 'date', 'precision', 'recall' ,'f1-score']].plot(x = 'date')\n",
    "PR_plot_data[PR_plot_data['label'] == 'avg/total']"
   ]
  },
  {
   "cell_type": "code",
   "execution_count": 109,
   "metadata": {
    "ExecuteTime": {
     "end_time": "2018-10-19T08:20:33.672295Z",
     "start_time": "2018-10-19T08:20:33.349277Z"
    }
   },
   "outputs": [
    {
     "data": {
      "text/html": [
       "<div>\n",
       "<style scoped>\n",
       "    .dataframe tbody tr th:only-of-type {\n",
       "        vertical-align: middle;\n",
       "    }\n",
       "\n",
       "    .dataframe tbody tr th {\n",
       "        vertical-align: top;\n",
       "    }\n",
       "\n",
       "    .dataframe thead tr th {\n",
       "        text-align: left;\n",
       "    }\n",
       "\n",
       "    .dataframe thead tr:last-of-type th {\n",
       "        text-align: right;\n",
       "    }\n",
       "</style>\n",
       "<table border=\"1\" class=\"dataframe\">\n",
       "  <thead>\n",
       "    <tr>\n",
       "      <th></th>\n",
       "      <th colspan=\"8\" halign=\"left\">precision</th>\n",
       "    </tr>\n",
       "    <tr>\n",
       "      <th>label</th>\n",
       "      <th>产品销售</th>\n",
       "      <th>公司内部管理</th>\n",
       "      <th>其他相关报道</th>\n",
       "      <th>噪音</th>\n",
       "      <th>消费服务</th>\n",
       "      <th>监管</th>\n",
       "      <th>行业</th>\n",
       "      <th>资本市场</th>\n",
       "    </tr>\n",
       "    <tr>\n",
       "      <th>date</th>\n",
       "      <th></th>\n",
       "      <th></th>\n",
       "      <th></th>\n",
       "      <th></th>\n",
       "      <th></th>\n",
       "      <th></th>\n",
       "      <th></th>\n",
       "      <th></th>\n",
       "    </tr>\n",
       "  </thead>\n",
       "  <tbody>\n",
       "    <tr>\n",
       "      <th>20180904</th>\n",
       "      <td>0.940</td>\n",
       "      <td>0.690</td>\n",
       "      <td>0.780</td>\n",
       "      <td>0.940</td>\n",
       "      <td>0.690</td>\n",
       "      <td>0.650</td>\n",
       "      <td>0.690</td>\n",
       "      <td>0.860</td>\n",
       "    </tr>\n",
       "    <tr>\n",
       "      <th>20180905</th>\n",
       "      <td>0.000</td>\n",
       "      <td>0.430</td>\n",
       "      <td>0.000</td>\n",
       "      <td>0.940</td>\n",
       "      <td>0.000</td>\n",
       "      <td>0.390</td>\n",
       "      <td>0.610</td>\n",
       "      <td>0.000</td>\n",
       "    </tr>\n",
       "    <tr>\n",
       "      <th>20180912</th>\n",
       "      <td>0.000</td>\n",
       "      <td>0.490</td>\n",
       "      <td>0.000</td>\n",
       "      <td>0.970</td>\n",
       "      <td>0.000</td>\n",
       "      <td>0.550</td>\n",
       "      <td>0.780</td>\n",
       "      <td>0.000</td>\n",
       "    </tr>\n",
       "    <tr>\n",
       "      <th>20180920</th>\n",
       "      <td>0.000</td>\n",
       "      <td>0.600</td>\n",
       "      <td>0.000</td>\n",
       "      <td>0.970</td>\n",
       "      <td>0.810</td>\n",
       "      <td>0.620</td>\n",
       "      <td>0.000</td>\n",
       "      <td>0.000</td>\n",
       "    </tr>\n",
       "    <tr>\n",
       "      <th>20180925</th>\n",
       "      <td>0.000</td>\n",
       "      <td>0.580</td>\n",
       "      <td>0.000</td>\n",
       "      <td>0.000</td>\n",
       "      <td>0.810</td>\n",
       "      <td>0.710</td>\n",
       "      <td>0.710</td>\n",
       "      <td>0.930</td>\n",
       "    </tr>\n",
       "    <tr>\n",
       "      <th>20181008</th>\n",
       "      <td>0.000</td>\n",
       "      <td>0.440</td>\n",
       "      <td>0.630</td>\n",
       "      <td>0.000</td>\n",
       "      <td>0.000</td>\n",
       "      <td>0.650</td>\n",
       "      <td>0.590</td>\n",
       "      <td>0.000</td>\n",
       "    </tr>\n",
       "  </tbody>\n",
       "</table>\n",
       "</div>"
      ],
      "text/plain": [
       "         precision                                            \n",
       "label         产品销售 公司内部管理 其他相关报道    噪音  消费服务    监管    行业  资本市场\n",
       "date                                                          \n",
       "20180904     0.940  0.690  0.780 0.940 0.690 0.650 0.690 0.860\n",
       "20180905     0.000  0.430  0.000 0.940 0.000 0.390 0.610 0.000\n",
       "20180912     0.000  0.490  0.000 0.970 0.000 0.550 0.780 0.000\n",
       "20180920     0.000  0.600  0.000 0.970 0.810 0.620 0.000 0.000\n",
       "20180925     0.000  0.580  0.000 0.000 0.810 0.710 0.710 0.930\n",
       "20181008     0.000  0.440  0.630 0.000 0.000 0.650 0.590 0.000"
      ]
     },
     "execution_count": 109,
     "metadata": {},
     "output_type": "execute_result"
    },
    {
     "data": {
      "image/png": "[encoded data removed]",
      "text/plain": [
       "<matplotlib.figure.Figure at 0x27269c50>"
      ]
     },
     "metadata": {},
     "output_type": "display_data"
    }
   ],
   "source": [
    "P_data = PR_plot_data[PR_plot_data['label'] != 'avg/total'][ ['date', 'label', 'precision']]\n",
    "P_data.set_index(['date','label']).unstack('label').plot(figsize = (15,6))\n",
    "P_data.set_index(['date','label']).unstack('label')"
   ]
  },
  {
   "cell_type": "code",
   "execution_count": 110,
   "metadata": {
    "ExecuteTime": {
     "end_time": "2018-10-19T08:21:51.117725Z",
     "start_time": "2018-10-19T08:21:50.815708Z"
    }
   },
   "outputs": [
    {
     "data": {
      "text/html": [
       "<div>\n",
       "<style scoped>\n",
       "    .dataframe tbody tr th:only-of-type {\n",
       "        vertical-align: middle;\n",
       "    }\n",
       "\n",
       "    .dataframe tbody tr th {\n",
       "        vertical-align: top;\n",
       "    }\n",
       "\n",
       "    .dataframe thead tr th {\n",
       "        text-align: left;\n",
       "    }\n",
       "\n",
       "    .dataframe thead tr:last-of-type th {\n",
       "        text-align: right;\n",
       "    }\n",
       "</style>\n",
       "<table border=\"1\" class=\"dataframe\">\n",
       "  <thead>\n",
       "    <tr>\n",
       "      <th></th>\n",
       "      <th colspan=\"8\" halign=\"left\">recall</th>\n",
       "    </tr>\n",
       "    <tr>\n",
       "      <th>label</th>\n",
       "      <th>产品销售</th>\n",
       "      <th>公司内部管理</th>\n",
       "      <th>其他相关报道</th>\n",
       "      <th>噪音</th>\n",
       "      <th>消费服务</th>\n",
       "      <th>监管</th>\n",
       "      <th>行业</th>\n",
       "      <th>资本市场</th>\n",
       "    </tr>\n",
       "    <tr>\n",
       "      <th>date</th>\n",
       "      <th></th>\n",
       "      <th></th>\n",
       "      <th></th>\n",
       "      <th></th>\n",
       "      <th></th>\n",
       "      <th></th>\n",
       "      <th></th>\n",
       "      <th></th>\n",
       "    </tr>\n",
       "  </thead>\n",
       "  <tbody>\n",
       "    <tr>\n",
       "      <th>20180904</th>\n",
       "      <td>0.890</td>\n",
       "      <td>0.840</td>\n",
       "      <td>0.920</td>\n",
       "      <td>0.500</td>\n",
       "      <td>0.820</td>\n",
       "      <td>0.980</td>\n",
       "      <td>0.720</td>\n",
       "      <td>0.920</td>\n",
       "    </tr>\n",
       "    <tr>\n",
       "      <th>20180905</th>\n",
       "      <td>0.000</td>\n",
       "      <td>0.770</td>\n",
       "      <td>0.000</td>\n",
       "      <td>0.540</td>\n",
       "      <td>0.000</td>\n",
       "      <td>0.940</td>\n",
       "      <td>0.760</td>\n",
       "      <td>0.000</td>\n",
       "    </tr>\n",
       "    <tr>\n",
       "      <th>20180912</th>\n",
       "      <td>0.000</td>\n",
       "      <td>0.900</td>\n",
       "      <td>0.000</td>\n",
       "      <td>0.630</td>\n",
       "      <td>0.000</td>\n",
       "      <td>0.980</td>\n",
       "      <td>0.900</td>\n",
       "      <td>0.000</td>\n",
       "    </tr>\n",
       "    <tr>\n",
       "      <th>20180920</th>\n",
       "      <td>0.000</td>\n",
       "      <td>0.980</td>\n",
       "      <td>0.000</td>\n",
       "      <td>0.690</td>\n",
       "      <td>0.900</td>\n",
       "      <td>0.880</td>\n",
       "      <td>0.000</td>\n",
       "      <td>0.000</td>\n",
       "    </tr>\n",
       "    <tr>\n",
       "      <th>20180925</th>\n",
       "      <td>0.000</td>\n",
       "      <td>0.920</td>\n",
       "      <td>0.000</td>\n",
       "      <td>0.000</td>\n",
       "      <td>0.800</td>\n",
       "      <td>0.930</td>\n",
       "      <td>0.870</td>\n",
       "      <td>0.970</td>\n",
       "    </tr>\n",
       "    <tr>\n",
       "      <th>20181008</th>\n",
       "      <td>0.000</td>\n",
       "      <td>0.910</td>\n",
       "      <td>0.750</td>\n",
       "      <td>0.000</td>\n",
       "      <td>0.000</td>\n",
       "      <td>0.980</td>\n",
       "      <td>0.740</td>\n",
       "      <td>0.000</td>\n",
       "    </tr>\n",
       "  </tbody>\n",
       "</table>\n",
       "</div>"
      ],
      "text/plain": [
       "         recall                                            \n",
       "label      产品销售 公司内部管理 其他相关报道    噪音  消费服务    监管    行业  资本市场\n",
       "date                                                       \n",
       "20180904  0.890  0.840  0.920 0.500 0.820 0.980 0.720 0.920\n",
       "20180905  0.000  0.770  0.000 0.540 0.000 0.940 0.760 0.000\n",
       "20180912  0.000  0.900  0.000 0.630 0.000 0.980 0.900 0.000\n",
       "20180920  0.000  0.980  0.000 0.690 0.900 0.880 0.000 0.000\n",
       "20180925  0.000  0.920  0.000 0.000 0.800 0.930 0.870 0.970\n",
       "20181008  0.000  0.910  0.750 0.000 0.000 0.980 0.740 0.000"
      ]
     },
     "execution_count": 110,
     "metadata": {},
     "output_type": "execute_result"
    },
    {
     "data": {
      "image/png": "[encoded data removed]",
      "text/plain": [
       "<matplotlib.figure.Figure at 0x2783b9e8>"
      ]
     },
     "metadata": {},
     "output_type": "display_data"
    }
   ],
   "source": [
    "P_data = PR_plot_data[PR_plot_data['label'] != 'avg/total'][ ['date', 'label', 'recall']]\n",
    "P_data.set_index(['date','label']).unstack('label').plot(figsize = (15,6))\n",
    "P_data.set_index(['date','label']).unstack('label')"
   ]
  },
  {
   "cell_type": "code",
   "execution_count": 111,
   "metadata": {
    "ExecuteTime": {
     "end_time": "2018-10-19T08:22:12.137927Z",
     "start_time": "2018-10-19T08:22:11.824909Z"
    }
   },
   "outputs": [
    {
     "data": {
      "text/html": [
       "<div>\n",
       "<style scoped>\n",
       "    .dataframe tbody tr th:only-of-type {\n",
       "        vertical-align: middle;\n",
       "    }\n",
       "\n",
       "    .dataframe tbody tr th {\n",
       "        vertical-align: top;\n",
       "    }\n",
       "\n",
       "    .dataframe thead tr th {\n",
       "        text-align: left;\n",
       "    }\n",
       "\n",
       "    .dataframe thead tr:last-of-type th {\n",
       "        text-align: right;\n",
       "    }\n",
       "</style>\n",
       "<table border=\"1\" class=\"dataframe\">\n",
       "  <thead>\n",
       "    <tr>\n",
       "      <th></th>\n",
       "      <th colspan=\"8\" halign=\"left\">f1-score</th>\n",
       "    </tr>\n",
       "    <tr>\n",
       "      <th>label</th>\n",
       "      <th>产品销售</th>\n",
       "      <th>公司内部管理</th>\n",
       "      <th>其他相关报道</th>\n",
       "      <th>噪音</th>\n",
       "      <th>消费服务</th>\n",
       "      <th>监管</th>\n",
       "      <th>行业</th>\n",
       "      <th>资本市场</th>\n",
       "    </tr>\n",
       "    <tr>\n",
       "      <th>date</th>\n",
       "      <th></th>\n",
       "      <th></th>\n",
       "      <th></th>\n",
       "      <th></th>\n",
       "      <th></th>\n",
       "      <th></th>\n",
       "      <th></th>\n",
       "      <th></th>\n",
       "    </tr>\n",
       "  </thead>\n",
       "  <tbody>\n",
       "    <tr>\n",
       "      <th>20180904</th>\n",
       "      <td>0.920</td>\n",
       "      <td>0.760</td>\n",
       "      <td>0.840</td>\n",
       "      <td>0.650</td>\n",
       "      <td>0.750</td>\n",
       "      <td>0.780</td>\n",
       "      <td>0.710</td>\n",
       "      <td>0.890</td>\n",
       "    </tr>\n",
       "    <tr>\n",
       "      <th>20180905</th>\n",
       "      <td>0.000</td>\n",
       "      <td>0.560</td>\n",
       "      <td>0.000</td>\n",
       "      <td>0.680</td>\n",
       "      <td>0.000</td>\n",
       "      <td>0.550</td>\n",
       "      <td>0.680</td>\n",
       "      <td>0.000</td>\n",
       "    </tr>\n",
       "    <tr>\n",
       "      <th>20180912</th>\n",
       "      <td>0.000</td>\n",
       "      <td>0.640</td>\n",
       "      <td>0.000</td>\n",
       "      <td>0.760</td>\n",
       "      <td>0.000</td>\n",
       "      <td>0.700</td>\n",
       "      <td>0.840</td>\n",
       "      <td>0.000</td>\n",
       "    </tr>\n",
       "    <tr>\n",
       "      <th>20180920</th>\n",
       "      <td>0.000</td>\n",
       "      <td>0.740</td>\n",
       "      <td>0.000</td>\n",
       "      <td>0.800</td>\n",
       "      <td>0.860</td>\n",
       "      <td>0.730</td>\n",
       "      <td>0.000</td>\n",
       "      <td>0.000</td>\n",
       "    </tr>\n",
       "    <tr>\n",
       "      <th>20180925</th>\n",
       "      <td>0.000</td>\n",
       "      <td>0.710</td>\n",
       "      <td>0.000</td>\n",
       "      <td>0.000</td>\n",
       "      <td>0.810</td>\n",
       "      <td>0.800</td>\n",
       "      <td>0.780</td>\n",
       "      <td>0.950</td>\n",
       "    </tr>\n",
       "    <tr>\n",
       "      <th>20181008</th>\n",
       "      <td>0.000</td>\n",
       "      <td>0.590</td>\n",
       "      <td>0.690</td>\n",
       "      <td>0.000</td>\n",
       "      <td>0.000</td>\n",
       "      <td>0.780</td>\n",
       "      <td>0.660</td>\n",
       "      <td>0.000</td>\n",
       "    </tr>\n",
       "  </tbody>\n",
       "</table>\n",
       "</div>"
      ],
      "text/plain": [
       "         f1-score                                            \n",
       "label        产品销售 公司内部管理 其他相关报道    噪音  消费服务    监管    行业  资本市场\n",
       "date                                                         \n",
       "20180904    0.920  0.760  0.840 0.650 0.750 0.780 0.710 0.890\n",
       "20180905    0.000  0.560  0.000 0.680 0.000 0.550 0.680 0.000\n",
       "20180912    0.000  0.640  0.000 0.760 0.000 0.700 0.840 0.000\n",
       "20180920    0.000  0.740  0.000 0.800 0.860 0.730 0.000 0.000\n",
       "20180925    0.000  0.710  0.000 0.000 0.810 0.800 0.780 0.950\n",
       "20181008    0.000  0.590  0.690 0.000 0.000 0.780 0.660 0.000"
      ]
     },
     "execution_count": 111,
     "metadata": {},
     "output_type": "execute_result"
    },
    {
     "data": {
      "image/png": "[encoded data removed]",
      "text/plain": [
       "<matplotlib.figure.Figure at 0x278ddfd0>"
      ]
     },
     "metadata": {},
     "output_type": "display_data"
    }
   ],
   "source": [
    "P_data = PR_plot_data[PR_plot_data['label'] != 'avg/total'][ ['date', 'label', 'f1-score']]\n",
    "P_data.set_index(['date','label']).unstack('label').plot(figsize = (15,6))\n",
    "P_data.set_index(['date','label']).unstack('label')"
   ]
  },
  {
   "cell_type": "markdown",
   "metadata": {},
   "source": [
    "### 补录与预警数据"
   ]
  },
  {
   "cell_type": "code",
   "execution_count": 17,
   "metadata": {
    "ExecuteTime": {
     "end_time": "2018-10-15T01:54:14.720135Z",
     "start_time": "2018-10-15T01:54:14.412118Z"
    },
    "collapsed": true
   },
   "outputs": [],
   "source": [
    "file_list_5 = ['20180917_circ_class_feedback.xlsx'\n",
    "              ] \n",
    "add_warn_data = pd.DataFrame()\n",
    "for file_name in file_list_5:\n",
    "    currentPath  = '{0}/{1}'.format(folder, file_name)\n",
    "    excel = xlrd.open_workbook(currentPath)\n",
    "    sheet_names = [sheet.name for sheet in excel.sheets()]\n",
    "    for sheet_name in sheet_names:   \n",
    "        tmp_data = pd.read_excel(currentPath, sheet_name)    \n",
    "        tmp_data = tmp_data[tmp_data['label'] != '删除']\n",
    "        add_warn_data = pd.concat([add_warn_data, tmp_data], axis = 0)\n",
    "\n",
    "circ_raw_class_5 = add_warn_data[['label', 'title', 'content']]"
   ]
  },
  {
   "cell_type": "code",
   "execution_count": 18,
   "metadata": {
    "ExecuteTime": {
     "end_time": "2018-10-15T01:54:16.053211Z",
     "start_time": "2018-10-15T01:54:15.578184Z"
    }
   },
   "outputs": [
    {
     "name": "stdout",
     "output_type": "stream",
     "text": [
      "accuracy_score:  0.7766599597585513\n",
      "             precision    recall  f1-score   support\n",
      "\n",
      "       产品销售       0.36      0.57      0.44         7\n",
      "     公司内部管理       0.81      0.79      0.80       104\n",
      "     其他相关报道       0.50      0.50      0.50         2\n",
      "         噪音       0.20      0.91      0.33        11\n",
      "       消费服务       0.97      0.48      0.65        62\n",
      "         监管       0.88      0.81      0.84        72\n",
      "         行业       0.87      0.88      0.88       211\n",
      "       资本市场       0.65      0.54      0.59        28\n",
      "\n",
      "avg / total       0.84      0.78      0.79       497\n",
      "\n",
      "confusion_matrix: \n",
      "[[  4   0   0   0   0   0   3   0]\n",
      " [  0  82   0   3   0   2  13   4]\n",
      " [  0   0   1   1   0   0   0   0]\n",
      " [  0   0   0  10   0   1   0   0]\n",
      " [  2   5   1  18  30   0   6   0]\n",
      " [  0   0   0  11   0  58   3   0]\n",
      " [  5   6   0   5   1   4 186   4]\n",
      " [  0   8   0   2   0   1   2  15]]\n"
     ]
    }
   ],
   "source": [
    "from sklearn import metrics\n",
    "\n",
    "y_pred_class = add_warn_data['predict_label']\n",
    "y_test = add_warn_data['label']\n",
    "print('accuracy_score: ', metrics.accuracy_score(y_test, y_pred_class)) # 指所有分类正确的百分比\n",
    "print(metrics.classification_report(y_test, y_pred_class))\n",
    "print('confusion_matrix: ')\n",
    "print( metrics.confusion_matrix(y_test, y_pred_class))"
   ]
  },
  {
   "cell_type": "code",
   "execution_count": 19,
   "metadata": {
    "ExecuteTime": {
     "end_time": "2018-10-15T01:54:20.249451Z",
     "start_time": "2018-10-15T01:54:20.234451Z"
    }
   },
   "outputs": [
    {
     "data": {
      "text/plain": [
       "行业        211\n",
       "公司内部管理    104\n",
       "监管         72\n",
       "消费服务       62\n",
       "资本市场       28\n",
       "噪音         11\n",
       "产品销售        7\n",
       "其他相关报道      2\n",
       "Name: label, dtype: int64"
      ]
     },
     "execution_count": 19,
     "metadata": {},
     "output_type": "execute_result"
    }
   ],
   "source": [
    "circ_raw_class_5['label'].value_counts()"
   ]
  },
  {
   "cell_type": "markdown",
   "metadata": {},
   "source": [
    "## 合并数据"
   ]
  },
  {
   "cell_type": "code",
   "execution_count": 20,
   "metadata": {
    "ExecuteTime": {
     "end_time": "2018-10-15T01:54:27.281854Z",
     "start_time": "2018-10-15T01:54:26.434805Z"
    }
   },
   "outputs": [
    {
     "name": "stdout",
     "output_type": "stream",
     "text": [
      "去重前：  (21994, 5)\n",
      "去重后：  (21981, 5)\n"
     ]
    },
    {
     "data": {
      "text/html": [
       "<div>\n",
       "<style scoped>\n",
       "    .dataframe tbody tr th:only-of-type {\n",
       "        vertical-align: middle;\n",
       "    }\n",
       "\n",
       "    .dataframe tbody tr th {\n",
       "        vertical-align: top;\n",
       "    }\n",
       "\n",
       "    .dataframe thead th {\n",
       "        text-align: right;\n",
       "    }\n",
       "</style>\n",
       "<table border=\"1\" class=\"dataframe\">\n",
       "  <thead>\n",
       "    <tr style=\"text-align: right;\">\n",
       "      <th></th>\n",
       "      <th>label</th>\n",
       "      <th>title</th>\n",
       "      <th>content</th>\n",
       "      <th>title_content</th>\n",
       "      <th>index</th>\n",
       "    </tr>\n",
       "  </thead>\n",
       "  <tbody>\n",
       "    <tr>\n",
       "      <th>0</th>\n",
       "      <td>公司内部管理</td>\n",
       "      <td>天安销售虚列费用为员工发福利 相关负责人被处罚</td>\n",
       "      <td>天安销售虚列费用为员工发福利 相关负责人被处罚\\n\\r2018.01.09 11:24:2...</td>\n",
       "      <td>天安销售虚列费用为员工发福利 相关负责人被处罚。 天安销售虚列费用为员工发福利 相关负责人被...</td>\n",
       "      <td>0</td>\n",
       "    </tr>\n",
       "    <tr>\n",
       "      <th>1</th>\n",
       "      <td>公司内部管理</td>\n",
       "      <td>泰康人寿疑设招聘骗局：3500元底薪扣到剩1200元</td>\n",
       "      <td>泰康人寿疑设招聘骗局：3500元底薪扣到剩1200元\\n\\r　　泰康人寿被爆疑设招聘“骗局...</td>\n",
       "      <td>泰康人寿疑设招聘骗局：3500元底薪扣到剩1200元。 泰康人寿疑设招聘骗局：3500元底薪...</td>\n",
       "      <td>1</td>\n",
       "    </tr>\n",
       "    <tr>\n",
       "      <th>2</th>\n",
       "      <td>公司内部管理</td>\n",
       "      <td>上海人寿整改应对监管 万能险收紧后仍过保费半数</td>\n",
       "      <td>上海人寿屡被监管关照 万能险收紧后仍占半壁江山\\n\\r(图片)\\n\\r投资时报\\n\\r01...</td>\n",
       "      <td>上海人寿整改应对监管 万能险收紧后仍过保费半数。 上海人寿屡被监管关照 万能险收紧后仍占半壁...</td>\n",
       "      <td>2</td>\n",
       "    </tr>\n",
       "    <tr>\n",
       "      <th>3</th>\n",
       "      <td>公司内部管理</td>\n",
       "      <td>“侨兴债”事件继续发酵，浙商财险9位高管被问责 保监会加大“双罚制”执行力度</td>\n",
       "      <td>“侨兴债”事件继续发酵，浙商财险9位高管被问责 保监会加大“双罚制”执行力度\\n\\r0\\n...</td>\n",
       "      <td>“侨兴债”事件继续发酵，浙商财险9位高管被问责 保监会加大“双罚制”执行力度。 “侨兴债”事...</td>\n",
       "      <td>3</td>\n",
       "    </tr>\n",
       "    <tr>\n",
       "      <th>4</th>\n",
       "      <td>公司内部管理</td>\n",
       "      <td>“开门红”时期监管严查销售误导 民生人寿连吃5罚单</td>\n",
       "      <td>“开门红”时期监管严查销售误导 民生人寿连吃5罚单\\n\\r2018.01.09 01:22...</td>\n",
       "      <td>“开门红”时期监管严查销售误导 民生人寿连吃5罚单。 “开门红”时期监管严查销售误导 民生人...</td>\n",
       "      <td>4</td>\n",
       "    </tr>\n",
       "  </tbody>\n",
       "</table>\n",
       "</div>"
      ],
      "text/plain": [
       "    label                                   title  \\\n",
       "0  公司内部管理                 天安销售虚列费用为员工发福利 相关负责人被处罚   \n",
       "1  公司内部管理              泰康人寿疑设招聘骗局：3500元底薪扣到剩1200元   \n",
       "2  公司内部管理                 上海人寿整改应对监管 万能险收紧后仍过保费半数   \n",
       "3  公司内部管理  “侨兴债”事件继续发酵，浙商财险9位高管被问责 保监会加大“双罚制”执行力度   \n",
       "4  公司内部管理               “开门红”时期监管严查销售误导 民生人寿连吃5罚单   \n",
       "\n",
       "                                             content  \\\n",
       "0   天安销售虚列费用为员工发福利 相关负责人被处罚\\n\\r2018.01.09 11:24:2...   \n",
       "1   泰康人寿疑设招聘骗局：3500元底薪扣到剩1200元\\n\\r　　泰康人寿被爆疑设招聘“骗局...   \n",
       "2   上海人寿屡被监管关照 万能险收紧后仍占半壁江山\\n\\r(图片)\\n\\r投资时报\\n\\r01...   \n",
       "3   “侨兴债”事件继续发酵，浙商财险9位高管被问责 保监会加大“双罚制”执行力度\\n\\r0\\n...   \n",
       "4   “开门红”时期监管严查销售误导 民生人寿连吃5罚单\\n\\r2018.01.09 01:22...   \n",
       "\n",
       "                                       title_content  index  \n",
       "0  天安销售虚列费用为员工发福利 相关负责人被处罚。 天安销售虚列费用为员工发福利 相关负责人被...      0  \n",
       "1  泰康人寿疑设招聘骗局：3500元底薪扣到剩1200元。 泰康人寿疑设招聘骗局：3500元底薪...      1  \n",
       "2  上海人寿整改应对监管 万能险收紧后仍过保费半数。 上海人寿屡被监管关照 万能险收紧后仍占半壁...      2  \n",
       "3  “侨兴债”事件继续发酵，浙商财险9位高管被问责 保监会加大“双罚制”执行力度。 “侨兴债”事...      3  \n",
       "4  “开门红”时期监管严查销售误导 民生人寿连吃5罚单。 “开门红”时期监管严查销售误导 民生人...      4  "
      ]
     },
     "execution_count": 20,
     "metadata": {},
     "output_type": "execute_result"
    }
   ],
   "source": [
    "circ_raw_class = pd.concat([circ_raw_class_1, circ_raw_class_2,\n",
    "                          circ_raw_class_3, circ_raw_class_4,\n",
    "                           circ_raw_class_5], \n",
    "                         axis = 0)\n",
    "\n",
    "# circ_raw_class = cbrc_raw_class_4\n",
    "circ_raw_class['title_content'] = circ_raw_class['title'].astype(str) + '。' + circ_raw_class['content'].astype(str)\n",
    "circ_raw_class['label'] = circ_raw_class['label'].apply(lambda x:x.strip())\n",
    "circ_raw_class['index'] = range(circ_raw_class.shape[0])\n",
    "print('去重前： ', circ_raw_class.shape)\n",
    "circ_raw_class = circ_raw_class.drop_duplicates(subset = 'title_content')\n",
    "print('去重后： ', circ_raw_class.shape)\n",
    "circ_raw_class.head()"
   ]
  },
  {
   "cell_type": "code",
   "execution_count": 21,
   "metadata": {
    "ExecuteTime": {
     "end_time": "2018-10-15T01:54:27.554869Z",
     "start_time": "2018-10-15T01:54:27.537868Z"
    }
   },
   "outputs": [
    {
     "name": "stdout",
     "output_type": "stream",
     "text": [
      "(21981, 5)\n"
     ]
    },
    {
     "data": {
      "text/plain": [
       "label\n",
       "产品销售      1062\n",
       "公司内部管理    2846\n",
       "其他相关报道    2091\n",
       "噪音        6034\n",
       "消费服务      2493\n",
       "监管        2783\n",
       "行业        3070\n",
       "资本市场      1602\n",
       "Name: title, dtype: int64"
      ]
     },
     "execution_count": 21,
     "metadata": {},
     "output_type": "execute_result"
    }
   ],
   "source": [
    "print(circ_raw_class.shape)\n",
    "circ_raw_class.groupby('label')['title'].count()"
   ]
  },
  {
   "cell_type": "markdown",
   "metadata": {},
   "source": [
    "## 预处理"
   ]
  },
  {
   "cell_type": "code",
   "execution_count": 22,
   "metadata": {
    "ExecuteTime": {
     "end_time": "2018-10-15T02:00:29.774587Z",
     "start_time": "2018-10-15T01:54:34.812284Z"
    }
   },
   "outputs": [
    {
     "name": "stdout",
     "output_type": "stream",
     "text": [
      "(21981, 5)\n",
      "save_folder:  circ_result_class/\n",
      "title num:  21981\n",
      "content num:  21981\n",
      "天安 销售 虚列费用 员工 发 福利 相关 负责人 被处罚 中国保监会 网站 当事人 张磊 身份证 号码 职务 天安 佰盈 销售 有限公司 宁波 分公司 简称 天安 销售 宁波 分公司 负责人 住所 宁波市 鄞州区 会展 路 号 层 D D 室 中华人民共和国 保险法 年 修正 我局 天安 销售 宁波 分公司 涉嫌 违法 一案 调查 审理 依法 当事人 告知 作出 行政处罚 事实 理由 当事人 依法 享有 权利 当事人 未 陈述 申辩 未 听证 经查 天安 销售 宁波 分公司 违法行为 财务 数据不真实 年 天安 销售 宁波 分公司 虚列 业务 招待费 万元 用于 员工 发放 福利 公司 负责人 张磊 负责 主管人员 变更 营业 场所 地址 未按规定 报告 年 月 天安 销售 宁波 分公司 营业 场所 地址 江北区 庄桥 街道 北环 西路 号 幢 二层 室 变更 鄞州区 会展 路 号 层 D D 室 年 月 日 事项 未按规定 我局 书面报告 公司 负责人 张磊 机构 负责 主管人员 上述事实 财务 凭证 租赁 合同 营业执照 情况 调查 笔录 任职 文件 现场 检查 事实 确认书 证据 证明 综上 我局 作出 处罚 天安 销售 宁波 分公司 财务 数据不真实 违反 中华人民共和国 保险法 年 修正 第八 十六条 第一百 三十二条 中华人民共和国 保险法 年 修正 一百七十 一条 给予 张磊 警告 并处 罚款 万元 行政处罚 天安 销售 宁波 分公司 变更 营业 场所 地址 未按规定 报告 违反 专业 代理 机构 监管 第十四条 专业 代理 机构 监管 七十条 给予 张磊 警告 处 罚款 万元 行政处罚 当事人 接到 处罚 决定书 之日起 日内持 缴款 码到 财政部 指定 家 代理 银行 中 任一 银行 同行 缴款 逾期 每日 罚款 数额 加处 罚款 缴款 码 行政处罚 决定书 送达 时 一并 告知 当事人 如对本 处罚 不服 接到 处罚 决定书 之日起 日内 依法 中国保监会 申请 行政复议 接到 处罚 决定书 之日起 月 内向 管辖权 人民法院 提起 行政诉讼 复议 诉讼 期间 停止 执行 宁波保监局 年 月 日 图片 \n",
      "label num:  21981\n"
     ]
    }
   ],
   "source": [
    "save_folder = 'circ_result_class/'\n",
    "pre_save(pre_cor_circ.handle_contents, circ_raw_class, save_folder)"
   ]
  },
  {
   "cell_type": "markdown",
   "metadata": {},
   "source": [
    "# 保险业：2 倾向性"
   ]
  },
  {
   "cell_type": "markdown",
   "metadata": {},
   "source": [
    "## 读取数据"
   ]
  },
  {
   "cell_type": "code",
   "execution_count": 20,
   "metadata": {
    "ExecuteTime": {
     "end_time": "2018-09-10T10:58:24.059126Z",
     "start_time": "2018-09-10T10:58:24.052126Z"
    },
    "collapsed": true
   },
   "outputs": [],
   "source": [
    "folder = 'circ_data_tendency/20180905'"
   ]
  },
  {
   "cell_type": "markdown",
   "metadata": {},
   "source": [
    "### 预测正确数据"
   ]
  },
  {
   "cell_type": "code",
   "execution_count": 21,
   "metadata": {
    "ExecuteTime": {
     "end_time": "2018-09-10T10:58:24.320141Z",
     "start_time": "2018-09-10T10:58:24.310141Z"
    },
    "collapsed": true
   },
   "outputs": [],
   "source": [
    "# file_list_1 = ['circ_class_sel_else_20180827.xlsx',]\n",
    "# circ_raw_class_1 = predict_right(folder, file_list_1)\n",
    "\n",
    "# circ_raw_class_1['label'] = circ_raw_class_1['label'].apply(lambda x:x.strip())    \n",
    "# circ_raw_class_1 = circ_raw_class_1[['label', 'raw_title', 'raw_content']]\n",
    "# circ_raw_class_1.columns = ['label', 'title', 'content']\n",
    "# print('总数：', circ_raw_class_1.shape)\n",
    "# circ_raw_class_1.head()"
   ]
  },
  {
   "cell_type": "code",
   "execution_count": 22,
   "metadata": {
    "ExecuteTime": {
     "end_time": "2018-09-10T10:58:24.538154Z",
     "start_time": "2018-09-10T10:58:24.533153Z"
    },
    "collapsed": true
   },
   "outputs": [],
   "source": [
    "# circ_raw_class_1['label'].value_counts()"
   ]
  },
  {
   "cell_type": "markdown",
   "metadata": {},
   "source": [
    "### 预测错误修正后数据"
   ]
  },
  {
   "cell_type": "code",
   "execution_count": 23,
   "metadata": {
    "ExecuteTime": {
     "end_time": "2018-09-10T10:58:24.714164Z",
     "start_time": "2018-09-10T10:58:24.706163Z"
    },
    "collapsed": true
   },
   "outputs": [],
   "source": [
    "# file_list_2 = ['circ_class_sel_20180827-1.xlsx','circ_class_sel_20180827-2.xlsx']\n",
    "\n",
    "# circ_raw_class_2 = correct_wrong_data(folder, file_list_2)\n",
    "# circ_raw_class_2['label'] = circ_raw_class_2['label'].apply(lambda x:x.strip())  \n",
    "# circ_raw_class_2 = circ_raw_class_2[['备注', 'raw_title', 'raw_content']]\n",
    "# circ_raw_class_2.columns = ['label', 'title', 'content']\n",
    "# print('总数：', circ_raw_class_2.shape)\n",
    "# circ_raw_class_2.head()"
   ]
  },
  {
   "cell_type": "code",
   "execution_count": 24,
   "metadata": {
    "ExecuteTime": {
     "end_time": "2018-09-10T10:58:24.866172Z",
     "start_time": "2018-09-10T10:58:24.862172Z"
    },
    "collapsed": true
   },
   "outputs": [],
   "source": [
    "# circ_raw_class_2['label'].value_counts()"
   ]
  },
  {
   "cell_type": "markdown",
   "metadata": {},
   "source": [
    "### 新补充数据"
   ]
  },
  {
   "cell_type": "code",
   "execution_count": 25,
   "metadata": {
    "ExecuteTime": {
     "end_time": "2018-09-10T10:58:25.518210Z",
     "start_time": "2018-09-10T10:58:25.026182Z"
    }
   },
   "outputs": [
    {
     "name": "stdout",
     "output_type": "stream",
     "text": [
      "Index(['title', 'content', 'label'], dtype='object')\n",
      "去空值前：  (368, 3) circ_0905_neg_raw_data.xlsx Sheet1\n",
      "去空值后：  (368, 3) circ_0905_neg_raw_data.xlsx Sheet1\n",
      "Index(['title', 'content', 'label'], dtype='object')\n",
      "去空值前：  (399, 3) circ_0905_pos_raw_data.xlsx Sheet1\n",
      "去空值后：  (399, 3) circ_0905_pos_raw_data.xlsx Sheet1\n",
      "Index(['title', 'content', 'label'], dtype='object')\n",
      "去空值前：  (255, 3) circ_0905_pos_raw_data_add.xlsx Sheet1\n",
      "去空值后：  (255, 3) circ_0905_pos_raw_data_add.xlsx Sheet1\n",
      "总数： (1022, 3)\n"
     ]
    },
    {
     "data": {
      "text/html": [
       "<div>\n",
       "<style scoped>\n",
       "    .dataframe tbody tr th:only-of-type {\n",
       "        vertical-align: middle;\n",
       "    }\n",
       "\n",
       "    .dataframe tbody tr th {\n",
       "        vertical-align: top;\n",
       "    }\n",
       "\n",
       "    .dataframe thead th {\n",
       "        text-align: right;\n",
       "    }\n",
       "</style>\n",
       "<table border=\"1\" class=\"dataframe\">\n",
       "  <thead>\n",
       "    <tr style=\"text-align: right;\">\n",
       "      <th></th>\n",
       "      <th>label</th>\n",
       "      <th>title</th>\n",
       "      <th>content</th>\n",
       "    </tr>\n",
       "  </thead>\n",
       "  <tbody>\n",
       "    <tr>\n",
       "      <th>0</th>\n",
       "      <td>0</td>\n",
       "      <td>股份被转股东却不知情原保监会审查批复遭</td>\n",
       "      <td>股份被转股东却不知情 原保监会审查批复遭质疑大股东私自转让公司所有股权后，故意违法被工商部门...</td>\n",
       "    </tr>\n",
       "    <tr>\n",
       "      <th>1</th>\n",
       "      <td>0</td>\n",
       "      <td>产寿险分裂七大阵营一季度家险企亏损</td>\n",
       "      <td>产寿险分裂七大阵营：一季度72家险企亏损2017年，35家险企亏损过亿的消息尚未远去。201...</td>\n",
       "    </tr>\n",
       "    <tr>\n",
       "      <th>2</th>\n",
       "      <td>0</td>\n",
       "      <td>年险企车险承保亏损榜出炉家</td>\n",
       "      <td>2017年险企车险承保亏损榜出炉：49家共亏62亿 安盛天平成“亏损王”财险公司2017年“...</td>\n",
       "    </tr>\n",
       "    <tr>\n",
       "      <th>3</th>\n",
       "      <td>0</td>\n",
       "      <td>车险承保亏损榜第名国任财险连亏两年去</td>\n",
       "      <td>车险承保亏损榜第2名 国任财险连亏两年去年净利-2.7亿每经记者 胡 杨 每经编辑 王可然国...</td>\n",
       "    </tr>\n",
       "    <tr>\n",
       "      <th>4</th>\n",
       "      <td>0</td>\n",
       "      <td>去年保费缩两成退保超亿富德生命</td>\n",
       "      <td>去年保费缩两成、退保超700亿，富德生命人寿一季度亏损延续专为&lt;font color=\"#F...</td>\n",
       "    </tr>\n",
       "  </tbody>\n",
       "</table>\n",
       "</div>"
      ],
      "text/plain": [
       "   label                title  \\\n",
       "0      0  股份被转股东却不知情原保监会审查批复遭   \n",
       "1      0    产寿险分裂七大阵营一季度家险企亏损   \n",
       "2      0        年险企车险承保亏损榜出炉家   \n",
       "3      0   车险承保亏损榜第名国任财险连亏两年去   \n",
       "4      0      去年保费缩两成退保超亿富德生命   \n",
       "\n",
       "                                             content  \n",
       "0  股份被转股东却不知情 原保监会审查批复遭质疑大股东私自转让公司所有股权后，故意违法被工商部门...  \n",
       "1  产寿险分裂七大阵营：一季度72家险企亏损2017年，35家险企亏损过亿的消息尚未远去。201...  \n",
       "2  2017年险企车险承保亏损榜出炉：49家共亏62亿 安盛天平成“亏损王”财险公司2017年“...  \n",
       "3  车险承保亏损榜第2名 国任财险连亏两年去年净利-2.7亿每经记者 胡 杨 每经编辑 王可然国...  \n",
       "4  去年保费缩两成、退保超700亿，富德生命人寿一季度亏损延续专为<font color=\"#F...  "
      ]
     },
     "execution_count": 25,
     "metadata": {},
     "output_type": "execute_result"
    }
   ],
   "source": [
    "file_list_3 = ['circ_0905_neg_raw_data.xlsx', 'circ_0905_pos_raw_data.xlsx',\n",
    "               'circ_0905_pos_raw_data_add.xlsx'\n",
    "               ] # 多个 sheet\n",
    "\n",
    "circ_raw_tendency_3 = get_new_data(folder, file_list_3)\n",
    "\n",
    "# circ_raw_tendency_3['label'] = circ_raw_tendency_3['label'].apply(lambda x:x.strip())    \n",
    "print('总数：', circ_raw_tendency_3.shape)\n",
    "circ_raw_tendency_3.head()"
   ]
  },
  {
   "cell_type": "code",
   "execution_count": 26,
   "metadata": {
    "ExecuteTime": {
     "end_time": "2018-09-10T10:58:25.697220Z",
     "start_time": "2018-09-10T10:58:25.685219Z"
    }
   },
   "outputs": [
    {
     "data": {
      "text/plain": [
       "1    654\n",
       "0    368\n",
       "Name: label, dtype: int64"
      ]
     },
     "execution_count": 26,
     "metadata": {},
     "output_type": "execute_result"
    }
   ],
   "source": [
    "circ_raw_tendency_3['label'].value_counts()"
   ]
  },
  {
   "cell_type": "markdown",
   "metadata": {},
   "source": [
    "### 模型预测后反馈数据"
   ]
  },
  {
   "cell_type": "code",
   "execution_count": 27,
   "metadata": {
    "ExecuteTime": {
     "end_time": "2018-09-10T10:58:25.914232Z",
     "start_time": "2018-09-10T10:58:25.906232Z"
    },
    "collapsed": true
   },
   "outputs": [],
   "source": [
    "# file_list_4 = ['20180904_circ_class_feedback.xlsx', '20180904_circ_class_feedback_1.xlsx',\n",
    "#               ] # 多个 sheet\n",
    "\n",
    "# circ_raw_class_4 = get_feedback_data(folder, file_list_4)\n",
    "\n",
    "# circ_raw_class_4['label'] = circ_raw_class_4['label'].apply(lambda x:x.strip())    \n",
    "# print('总数：', circ_raw_class_4.shape)\n",
    "# circ_raw_class_4.head()"
   ]
  },
  {
   "cell_type": "code",
   "execution_count": 28,
   "metadata": {
    "ExecuteTime": {
     "end_time": "2018-09-10T10:58:26.106243Z",
     "start_time": "2018-09-10T10:58:26.100243Z"
    },
    "collapsed": true
   },
   "outputs": [],
   "source": [
    "# circ_raw_class_4['label'].value_counts()"
   ]
  },
  {
   "cell_type": "markdown",
   "metadata": {},
   "source": [
    "## 合并数据"
   ]
  },
  {
   "cell_type": "code",
   "execution_count": 29,
   "metadata": {
    "ExecuteTime": {
     "end_time": "2018-09-10T10:58:26.327256Z",
     "start_time": "2018-09-10T10:58:26.267253Z"
    }
   },
   "outputs": [
    {
     "name": "stdout",
     "output_type": "stream",
     "text": [
      "去重前：  (1022, 4)\n",
      "去重后：  (767, 4)\n"
     ]
    },
    {
     "data": {
      "text/html": [
       "<div>\n",
       "<style scoped>\n",
       "    .dataframe tbody tr th:only-of-type {\n",
       "        vertical-align: middle;\n",
       "    }\n",
       "\n",
       "    .dataframe tbody tr th {\n",
       "        vertical-align: top;\n",
       "    }\n",
       "\n",
       "    .dataframe thead th {\n",
       "        text-align: right;\n",
       "    }\n",
       "</style>\n",
       "<table border=\"1\" class=\"dataframe\">\n",
       "  <thead>\n",
       "    <tr style=\"text-align: right;\">\n",
       "      <th></th>\n",
       "      <th>label</th>\n",
       "      <th>title</th>\n",
       "      <th>content</th>\n",
       "      <th>title_content</th>\n",
       "    </tr>\n",
       "  </thead>\n",
       "  <tbody>\n",
       "    <tr>\n",
       "      <th>0</th>\n",
       "      <td>0</td>\n",
       "      <td>股份被转股东却不知情原保监会审查批复遭</td>\n",
       "      <td>股份被转股东却不知情 原保监会审查批复遭质疑大股东私自转让公司所有股权后，故意违法被工商部门...</td>\n",
       "      <td>股份被转股东却不知情原保监会审查批复遭。股份被转股东却不知情 原保监会审查批复遭质疑大股东私...</td>\n",
       "    </tr>\n",
       "    <tr>\n",
       "      <th>1</th>\n",
       "      <td>0</td>\n",
       "      <td>产寿险分裂七大阵营一季度家险企亏损</td>\n",
       "      <td>产寿险分裂七大阵营：一季度72家险企亏损2017年，35家险企亏损过亿的消息尚未远去。201...</td>\n",
       "      <td>产寿险分裂七大阵营一季度家险企亏损。产寿险分裂七大阵营：一季度72家险企亏损2017年，35...</td>\n",
       "    </tr>\n",
       "    <tr>\n",
       "      <th>2</th>\n",
       "      <td>0</td>\n",
       "      <td>年险企车险承保亏损榜出炉家</td>\n",
       "      <td>2017年险企车险承保亏损榜出炉：49家共亏62亿 安盛天平成“亏损王”财险公司2017年“...</td>\n",
       "      <td>年险企车险承保亏损榜出炉家。2017年险企车险承保亏损榜出炉：49家共亏62亿 安盛天平成“...</td>\n",
       "    </tr>\n",
       "    <tr>\n",
       "      <th>3</th>\n",
       "      <td>0</td>\n",
       "      <td>车险承保亏损榜第名国任财险连亏两年去</td>\n",
       "      <td>车险承保亏损榜第2名 国任财险连亏两年去年净利-2.7亿每经记者 胡 杨 每经编辑 王可然国...</td>\n",
       "      <td>车险承保亏损榜第名国任财险连亏两年去。车险承保亏损榜第2名 国任财险连亏两年去年净利-2.7...</td>\n",
       "    </tr>\n",
       "    <tr>\n",
       "      <th>4</th>\n",
       "      <td>0</td>\n",
       "      <td>去年保费缩两成退保超亿富德生命</td>\n",
       "      <td>去年保费缩两成、退保超700亿，富德生命人寿一季度亏损延续专为&lt;font color=\"#F...</td>\n",
       "      <td>去年保费缩两成退保超亿富德生命。去年保费缩两成、退保超700亿，富德生命人寿一季度亏损延续专...</td>\n",
       "    </tr>\n",
       "  </tbody>\n",
       "</table>\n",
       "</div>"
      ],
      "text/plain": [
       "   label                title  \\\n",
       "0      0  股份被转股东却不知情原保监会审查批复遭   \n",
       "1      0    产寿险分裂七大阵营一季度家险企亏损   \n",
       "2      0        年险企车险承保亏损榜出炉家   \n",
       "3      0   车险承保亏损榜第名国任财险连亏两年去   \n",
       "4      0      去年保费缩两成退保超亿富德生命   \n",
       "\n",
       "                                             content  \\\n",
       "0  股份被转股东却不知情 原保监会审查批复遭质疑大股东私自转让公司所有股权后，故意违法被工商部门...   \n",
       "1  产寿险分裂七大阵营：一季度72家险企亏损2017年，35家险企亏损过亿的消息尚未远去。201...   \n",
       "2  2017年险企车险承保亏损榜出炉：49家共亏62亿 安盛天平成“亏损王”财险公司2017年“...   \n",
       "3  车险承保亏损榜第2名 国任财险连亏两年去年净利-2.7亿每经记者 胡 杨 每经编辑 王可然国...   \n",
       "4  去年保费缩两成、退保超700亿，富德生命人寿一季度亏损延续专为<font color=\"#F...   \n",
       "\n",
       "                                       title_content  \n",
       "0  股份被转股东却不知情原保监会审查批复遭。股份被转股东却不知情 原保监会审查批复遭质疑大股东私...  \n",
       "1  产寿险分裂七大阵营一季度家险企亏损。产寿险分裂七大阵营：一季度72家险企亏损2017年，35...  \n",
       "2  年险企车险承保亏损榜出炉家。2017年险企车险承保亏损榜出炉：49家共亏62亿 安盛天平成“...  \n",
       "3  车险承保亏损榜第名国任财险连亏两年去。车险承保亏损榜第2名 国任财险连亏两年去年净利-2.7...  \n",
       "4  去年保费缩两成退保超亿富德生命。去年保费缩两成、退保超700亿，富德生命人寿一季度亏损延续专...  "
      ]
     },
     "execution_count": 29,
     "metadata": {},
     "output_type": "execute_result"
    }
   ],
   "source": [
    "# circ_raw_tendency = pd.concat([circ_raw_class_1, circ_raw_class_2,\n",
    "#                           circ_raw_class_3, circ_raw_class_4], \n",
    "#                          axis = 0)\n",
    "\n",
    "circ_raw_tendency = circ_raw_tendency_3\n",
    "circ_raw_tendency['title_content'] = circ_raw_tendency['title'].astype(str) + '。' + circ_raw_tendency['content'].astype(str)\n",
    "# circ_raw_tendency['label'] = circ_raw_tendency['label'].apply(lambda x:x.strip())\n",
    "# circ_raw_tendency['index'] = range(circ_raw_tendency.shape[0])\n",
    "print('去重前： ', circ_raw_tendency.shape)\n",
    "circ_raw_tendency = circ_raw_tendency.drop_duplicates(subset = 'title_content')\n",
    "print('去重后： ', circ_raw_tendency.shape)\n",
    "circ_raw_tendency.head()"
   ]
  },
  {
   "cell_type": "code",
   "execution_count": 30,
   "metadata": {
    "ExecuteTime": {
     "end_time": "2018-09-10T10:58:26.561269Z",
     "start_time": "2018-09-10T10:58:26.544268Z"
    }
   },
   "outputs": [
    {
     "name": "stdout",
     "output_type": "stream",
     "text": [
      "(767, 4)\n"
     ]
    },
    {
     "data": {
      "text/plain": [
       "label\n",
       "0    368\n",
       "1    396\n",
       "Name: title, dtype: int64"
      ]
     },
     "execution_count": 30,
     "metadata": {},
     "output_type": "execute_result"
    }
   ],
   "source": [
    "print(circ_raw_tendency.shape)\n",
    "circ_raw_tendency.groupby('label')['title'].count()"
   ]
  },
  {
   "cell_type": "markdown",
   "metadata": {},
   "source": [
    "## 预处理"
   ]
  },
  {
   "cell_type": "code",
   "execution_count": 31,
   "metadata": {
    "ExecuteTime": {
     "end_time": "2018-09-10T10:58:43.336229Z",
     "start_time": "2018-09-10T10:58:26.760281Z"
    }
   },
   "outputs": [
    {
     "name": "stdout",
     "output_type": "stream",
     "text": [
      "(767, 4)\n",
      "save_folder:  circ_result_tendency/\n",
      "title num:  767\n",
      "content num:  767\n",
      "股份 转 股东 不知情 原 保监会 审查 批复 遭 质疑 股东 私自 转让 公司 股权 违法 工商部门 吊销 营业执照 股东 申请 法院 强制 清算 发现 公司 早 年前 股份 转让 公司 并未 收到 转让款 申请 政府 信息 公开 部门 并未 法定期限 答复 股东 行政诉讼 邮件 提供 少部分 信息 涉及 股东 利益 大部分 信息 并未 提供 大连人 李岩 接受 獬豸 新闻 ID 记者 采访 时 谈起 此事 摇头 李岩 说 做梦 想到 身为 北京 毕保信 投资 有限公司 下称 毕保信 公司 股东 未有 知情 情况 持 股份 公司 非法 转让 毕保信 公司 未 收到 分文 股权 转让款 毕保信 公司 成立 年 月 日 工商部门 认缴 出资额 万元 股东 林建伟 出资 万元 持有 毕保信 公司 股权 股东 李岩 出资 万元 持有 股权 担任 公司 监事 期间 毕保信 公司 经营 年 月初 李岩 发现 毕保信 公司 营业执照 工商部门 予以 强制 吊销 同年 月 日 李岩 毕保信 公司 被吊销 营业执照 超过 法定期限 未 成立 清算组 清算 北京市 第三 中级 人民法院 下称 北京 三中 院 申请 毕保信 公司 强制 清算 法院 审理 查明 毕保信 公司 早 年 月 日 北京市工商局 以未 期限内 接受 年度 企业 年检 吊销 营业执照 责令 股东 清算组 清算 债权债务 办理 注销 登记 年 月 日 北京 三中 院 民事裁定 毕保信 公司 成立 强制 清算组 清算 过程 中 李岩 得知 早 年 月 日 毕保信 公司 安达 北美洲 FF 控股公司 下称 安达 北美洲 FF 华泰财产保险 股份 有限公司 下称 华泰 公司 签订 股份 转让 协议 协议 约定 安达 北美洲 受让 毕保信 公司 持有 华泰 公司 股份 每股 价格 美元 共计 美元 合计 人民币 元 对此 李岩 称 并未 股权 转让 事宜 做出 参加 股东会 决议 毕保信 公司 未 收到 股权 转让款 毕保信 公司 股东 股权 转让 致使 毕保信 公司 股份 对价 资产 丧失 侵害到 股东 毕保信 公司 享有 盈余 分配权 剩余 财产 索取权 股权 权能 李岩 北京 三中 院 提起 侵权 诉讼 李岩 说 毕保信 公司 持股 FF 华泰财产保险 股份 有限公司 简称 华泰 公司 原始股 原始股 股东 年 月 日 华泰 公司 法院 提供 年 月 日原 国家 FF 保监会 作出 FF 华泰财产保险 股份 有限公司 股权 转让 批复 FF 保监 变审 号 文件 证明 毕保信 公司 转让 万股 事宜 FF 保监会 批复 李岩 行政 机关 作出 行政 时 尽到 审慎 审查 义务 李岩 代理律师 张良 规范 FF 公司 事项 变更 报批 程序 通知 中 明确规定 原 国家 FF 保监会 法律法规 股份 转让 材料 审查 作出 批准 不予 批准 李岩 毕保信 公司 自然人 股东 并未 股权 转让 过程 中 做出 原 国家 FF 保监会 华泰 公司 申请 审查 时 发现 行政许可 事项 关系 利益 告知 利害 关系人 李岩 李岩 有权 陈述 申辩 原 国家 FF 保监会 听取 李岩 意见 年 月 日 李岩 原 国家 FF 保监会 申请 公开 FF 华泰财产保险 股份 有限公司 股东 外资 公司 转让 股权 请示 及原 国家 FF 保监会 年 月 日 做出 FF 华泰财产保险 股份 有限公司 股权 转让 批复 文件 法定 期间 李岩 提出 公开 申请 并未 原 国家 FF 保监会 回复 通知 解释 李岩 未 法定 期间 接到 告知 理由 李岩 遂 北京 一中院 提起 行政诉讼 年 月 日 北京 一中院 开庭审理 李岩诉 FF 保监会 申请 信息 公开 行政 违法 案件 年 月 日 FF 保监会 李岩 回复 延期 回复 通知书 称因 公开 信息 涉及 FF 华泰保险 商业秘密 延期 答复 李岩 年 月 日 北京 一中院 裁定 驳回 李岩 诉讼请求 年 月 日 FF 保监会 发送 电子邮件 公开 信息 发送 李岩 李岩 称 涉及 利益 大部分 信息 并未 提供 李岩 告诉 獬豸 新闻 ID 记者 原 FF 保监会 公开 信息 中 华泰 公司 公开 第二届 董事会 临时 会议 决议 中 董事 签名 全是 打印 体 不仅如此 涉及 李岩 利益 相关 文件 FF 保监会 未 提供 年 月 日 记者 赶赴 中国 FF 银行保险监督管理委员会 简称 国家 FF 银保监会 欲 李岩 案件 涉及 相关 核实 求证 国家 FF 银保监会 传达室 记者 原 FF 保监会 案件 委托 代理人 FF 保监会 工作人员 任重 电话 同志 采访 国家 FF 保监会 新闻处 婉拒 记者 采访 后经 国家 FF 保监会 传达室 工作人员 接传 记者 国家 FF 保监会 新闻处 一位 不愿 透露 姓名 工作人员 通话 记者 采访 来意 新闻处 工作人员 托词 不愿 记者 见面 记者 再三 面向 递交 采访 函 工作人员 理由 推脱 接受 记者 当面 递交 采访 提纲 接受 传真 采访 提纲 无奈 之下 记者 只好 返回 报社 工作人员 提供 传真号码 拨打 语音 提醒 号码 错误 请 查证 拨 此事 獬豸 新闻 ID 予以 关注 \n",
      "label num:  767\n"
     ]
    }
   ],
   "source": [
    "save_folder = 'circ_result_tendency/'\n",
    "pre_save(pre_cor_circ.handle_contents, circ_raw_tendency, save_folder)"
   ]
  },
  {
   "cell_type": "markdown",
   "metadata": {},
   "source": [
    "# 保险业：3 预警"
   ]
  },
  {
   "cell_type": "markdown",
   "metadata": {},
   "source": [
    "- 1: 预警\n",
    "- 0: 非预警"
   ]
  },
  {
   "cell_type": "markdown",
   "metadata": {},
   "source": [
    "## 读取数据"
   ]
  },
  {
   "cell_type": "code",
   "execution_count": 32,
   "metadata": {
    "ExecuteTime": {
     "end_time": "2018-09-10T10:58:43.524240Z",
     "start_time": "2018-09-10T10:58:43.520239Z"
    },
    "collapsed": true
   },
   "outputs": [],
   "source": [
    "folder = 'circ_data_warn/20180621'"
   ]
  },
  {
   "cell_type": "markdown",
   "metadata": {},
   "source": [
    "### 预测正确数据"
   ]
  },
  {
   "cell_type": "code",
   "execution_count": 33,
   "metadata": {
    "ExecuteTime": {
     "end_time": "2018-09-10T10:58:43.711250Z",
     "start_time": "2018-09-10T10:58:43.703250Z"
    },
    "collapsed": true
   },
   "outputs": [],
   "source": [
    "# file_list_1 = ['circ_class_sel_else_20180827.xlsx',]\n",
    "# circ_raw_class_1 = predict_right(folder, file_list_1)\n",
    "\n",
    "# circ_raw_class_1['label'] = circ_raw_class_1['label'].apply(lambda x:x.strip())    \n",
    "# circ_raw_class_1 = circ_raw_class_1[['label', 'raw_title', 'raw_content']]\n",
    "# circ_raw_class_1.columns = ['label', 'title', 'content']\n",
    "# print('总数：', circ_raw_class_1.shape)\n",
    "# circ_raw_class_1.head()"
   ]
  },
  {
   "cell_type": "code",
   "execution_count": 34,
   "metadata": {
    "ExecuteTime": {
     "end_time": "2018-09-10T10:58:43.967265Z",
     "start_time": "2018-09-10T10:58:43.959265Z"
    },
    "collapsed": true
   },
   "outputs": [],
   "source": [
    "# circ_raw_class_1['label'].value_counts()"
   ]
  },
  {
   "cell_type": "markdown",
   "metadata": {},
   "source": [
    "### 预测错误修正后数据"
   ]
  },
  {
   "cell_type": "code",
   "execution_count": 35,
   "metadata": {
    "ExecuteTime": {
     "end_time": "2018-09-10T10:58:44.220279Z",
     "start_time": "2018-09-10T10:58:44.214279Z"
    },
    "collapsed": true
   },
   "outputs": [],
   "source": [
    "# file_list_2 = ['circ_class_sel_20180827-1.xlsx','circ_class_sel_20180827-2.xlsx']\n",
    "\n",
    "# circ_raw_class_2 = correct_wrong_data(folder, file_list_2)\n",
    "# circ_raw_class_2['label'] = circ_raw_class_2['label'].apply(lambda x:x.strip())  \n",
    "# circ_raw_class_2 = circ_raw_class_2[['备注', 'raw_title', 'raw_content']]\n",
    "# circ_raw_class_2.columns = ['label', 'title', 'content']\n",
    "# print('总数：', circ_raw_class_2.shape)\n",
    "# circ_raw_class_2.head()"
   ]
  },
  {
   "cell_type": "code",
   "execution_count": 36,
   "metadata": {
    "ExecuteTime": {
     "end_time": "2018-09-10T10:58:44.463293Z",
     "start_time": "2018-09-10T10:58:44.454293Z"
    },
    "collapsed": true
   },
   "outputs": [],
   "source": [
    "# circ_raw_class_2['label'].value_counts()"
   ]
  },
  {
   "cell_type": "markdown",
   "metadata": {},
   "source": [
    "### 新补充数据"
   ]
  },
  {
   "cell_type": "code",
   "execution_count": 37,
   "metadata": {
    "ExecuteTime": {
     "end_time": "2018-09-10T10:58:45.898375Z",
     "start_time": "2018-09-10T10:58:44.707307Z"
    }
   },
   "outputs": [
    {
     "name": "stdout",
     "output_type": "stream",
     "text": [
      "Index(['title', 'content', 'label'], dtype='object')\n",
      "去空值前：  (3551, 3) 20180621_circ_warn_data.xlsx Sheet1\n",
      "去空值后：  (3551, 3) 20180621_circ_warn_data.xlsx Sheet1\n",
      "总数： (3551, 3)\n"
     ]
    },
    {
     "data": {
      "text/html": [
       "<div>\n",
       "<style scoped>\n",
       "    .dataframe tbody tr th:only-of-type {\n",
       "        vertical-align: middle;\n",
       "    }\n",
       "\n",
       "    .dataframe tbody tr th {\n",
       "        vertical-align: top;\n",
       "    }\n",
       "\n",
       "    .dataframe thead th {\n",
       "        text-align: right;\n",
       "    }\n",
       "</style>\n",
       "<table border=\"1\" class=\"dataframe\">\n",
       "  <thead>\n",
       "    <tr style=\"text-align: right;\">\n",
       "      <th></th>\n",
       "      <th>label</th>\n",
       "      <th>title</th>\n",
       "      <th>content</th>\n",
       "    </tr>\n",
       "  </thead>\n",
       "  <tbody>\n",
       "    <tr>\n",
       "      <th>0</th>\n",
       "      <td>1</td>\n",
       "      <td>防风险治乱象 逾900张罚单直指险企问题重灾区</td>\n",
       "      <td>今日报纸每经网首页         &gt;         今日报纸        &gt;     ...</td>\n",
       "    </tr>\n",
       "    <tr>\n",
       "      <th>1</th>\n",
       "      <td>1</td>\n",
       "      <td>调结构回保障“保险+科技”已成行业新发力点</td>\n",
       "      <td>今日报纸每经网首页         &gt;         今日报纸        &gt;     ...</td>\n",
       "    </tr>\n",
       "    <tr>\n",
       "      <th>2</th>\n",
       "      <td>1</td>\n",
       "      <td>补短板强监管 2017年保监会密集发文60余份</td>\n",
       "      <td>今日报纸每经网首页         &gt;         今日报纸        &gt;     ...</td>\n",
       "    </tr>\n",
       "    <tr>\n",
       "      <th>3</th>\n",
       "      <td>1</td>\n",
       "      <td>寿险公司开门红产品调查： 上市险企增保障范围 中小险企暗提收益</td>\n",
       "      <td>本报记者 苏向杲 　　　　险企开门红首月已过大半，寿险公司推出开门红的产品也浮出水面。...</td>\n",
       "    </tr>\n",
       "    <tr>\n",
       "      <th>4</th>\n",
       "      <td>1</td>\n",
       "      <td>渎职行为违规行为终身追责</td>\n",
       "      <td>本报北京1月17日电  （记者曲哲涵）保监会17日发布《打赢保险业防范化解重大风险攻坚战...</td>\n",
       "    </tr>\n",
       "  </tbody>\n",
       "</table>\n",
       "</div>"
      ],
      "text/plain": [
       "   label                            title  \\\n",
       "0      1          防风险治乱象 逾900张罚单直指险企问题重灾区   \n",
       "1      1            调结构回保障“保险+科技”已成行业新发力点   \n",
       "2      1          补短板强监管 2017年保监会密集发文60余份   \n",
       "3      1  寿险公司开门红产品调查： 上市险企增保障范围 中小险企暗提收益   \n",
       "4      1                     渎职行为违规行为终身追责   \n",
       "\n",
       "                                             content  \n",
       "0  今日报纸每经网首页         >         今日报纸        >     ...  \n",
       "1  今日报纸每经网首页         >         今日报纸        >     ...  \n",
       "2  今日报纸每经网首页         >         今日报纸        >     ...  \n",
       "3  　　 本报记者 苏向杲 　　　　险企开门红首月已过大半，寿险公司推出开门红的产品也浮出水面。...  \n",
       "4  　　本报北京1月17日电  （记者曲哲涵）保监会17日发布《打赢保险业防范化解重大风险攻坚战...  "
      ]
     },
     "execution_count": 37,
     "metadata": {},
     "output_type": "execute_result"
    }
   ],
   "source": [
    "file_list_3 = ['20180621_circ_warn_data.xlsx'\n",
    "               ] # 多个 sheet\n",
    "\n",
    "circ_raw_warn_3 = get_new_data(folder, file_list_3)\n",
    "\n",
    "# circ_raw_warn_3['label'] = circ_raw_warn_3['label'].apply(lambda x:x.strip())    \n",
    "print('总数：', circ_raw_warn_3.shape)\n",
    "circ_raw_warn_3.head()"
   ]
  },
  {
   "cell_type": "code",
   "execution_count": 38,
   "metadata": {
    "ExecuteTime": {
     "end_time": "2018-09-10T10:58:46.277397Z",
     "start_time": "2018-09-10T10:58:46.259396Z"
    }
   },
   "outputs": [
    {
     "data": {
      "text/plain": [
       "0    1923\n",
       "1    1628\n",
       "Name: label, dtype: int64"
      ]
     },
     "execution_count": 38,
     "metadata": {},
     "output_type": "execute_result"
    }
   ],
   "source": [
    "circ_raw_warn_3['label'].value_counts()"
   ]
  },
  {
   "cell_type": "markdown",
   "metadata": {},
   "source": [
    "### 模型预测后反馈数据"
   ]
  },
  {
   "cell_type": "code",
   "execution_count": 39,
   "metadata": {
    "ExecuteTime": {
     "end_time": "2018-09-10T10:58:46.517411Z",
     "start_time": "2018-09-10T10:58:46.510410Z"
    },
    "collapsed": true
   },
   "outputs": [],
   "source": [
    "# file_list_4 = ['20180904_circ_class_feedback.xlsx', '20180904_circ_class_feedback_1.xlsx',\n",
    "#               ] # 多个 sheet\n",
    "\n",
    "# circ_raw_class_4 = get_feedback_data(folder, file_list_4)\n",
    "\n",
    "# circ_raw_class_4['label'] = circ_raw_class_4['label'].apply(lambda x:x.strip())    \n",
    "# print('总数：', circ_raw_class_4.shape)\n",
    "# circ_raw_class_4.head()"
   ]
  },
  {
   "cell_type": "code",
   "execution_count": 40,
   "metadata": {
    "ExecuteTime": {
     "end_time": "2018-09-10T10:58:46.751424Z",
     "start_time": "2018-09-10T10:58:46.747424Z"
    },
    "collapsed": true
   },
   "outputs": [],
   "source": [
    "# circ_raw_class_4['label'].value_counts()"
   ]
  },
  {
   "cell_type": "markdown",
   "metadata": {},
   "source": [
    "## 合并数据"
   ]
  },
  {
   "cell_type": "code",
   "execution_count": 41,
   "metadata": {
    "ExecuteTime": {
     "end_time": "2018-09-10T10:58:47.098444Z",
     "start_time": "2018-09-10T10:58:46.948435Z"
    }
   },
   "outputs": [
    {
     "name": "stdout",
     "output_type": "stream",
     "text": [
      "去重前：  (3551, 5)\n",
      "去重后：  (3549, 5)\n"
     ]
    },
    {
     "data": {
      "text/html": [
       "<div>\n",
       "<style scoped>\n",
       "    .dataframe tbody tr th:only-of-type {\n",
       "        vertical-align: middle;\n",
       "    }\n",
       "\n",
       "    .dataframe tbody tr th {\n",
       "        vertical-align: top;\n",
       "    }\n",
       "\n",
       "    .dataframe thead th {\n",
       "        text-align: right;\n",
       "    }\n",
       "</style>\n",
       "<table border=\"1\" class=\"dataframe\">\n",
       "  <thead>\n",
       "    <tr style=\"text-align: right;\">\n",
       "      <th></th>\n",
       "      <th>label</th>\n",
       "      <th>title</th>\n",
       "      <th>content</th>\n",
       "      <th>title_content</th>\n",
       "      <th>index</th>\n",
       "    </tr>\n",
       "  </thead>\n",
       "  <tbody>\n",
       "    <tr>\n",
       "      <th>0</th>\n",
       "      <td>1</td>\n",
       "      <td>防风险治乱象 逾900张罚单直指险企问题重灾区</td>\n",
       "      <td>今日报纸每经网首页         &gt;         今日报纸        &gt;     ...</td>\n",
       "      <td>防风险治乱象 逾900张罚单直指险企问题重灾区。今日报纸每经网首页         &gt;   ...</td>\n",
       "      <td>0</td>\n",
       "    </tr>\n",
       "    <tr>\n",
       "      <th>1</th>\n",
       "      <td>1</td>\n",
       "      <td>调结构回保障“保险+科技”已成行业新发力点</td>\n",
       "      <td>今日报纸每经网首页         &gt;         今日报纸        &gt;     ...</td>\n",
       "      <td>调结构回保障“保险+科技”已成行业新发力点。今日报纸每经网首页         &gt;     ...</td>\n",
       "      <td>1</td>\n",
       "    </tr>\n",
       "    <tr>\n",
       "      <th>2</th>\n",
       "      <td>1</td>\n",
       "      <td>补短板强监管 2017年保监会密集发文60余份</td>\n",
       "      <td>今日报纸每经网首页         &gt;         今日报纸        &gt;     ...</td>\n",
       "      <td>补短板强监管 2017年保监会密集发文60余份。今日报纸每经网首页         &gt;   ...</td>\n",
       "      <td>2</td>\n",
       "    </tr>\n",
       "    <tr>\n",
       "      <th>3</th>\n",
       "      <td>1</td>\n",
       "      <td>寿险公司开门红产品调查： 上市险企增保障范围 中小险企暗提收益</td>\n",
       "      <td>本报记者 苏向杲 　　　　险企开门红首月已过大半，寿险公司推出开门红的产品也浮出水面。...</td>\n",
       "      <td>寿险公司开门红产品调查： 上市险企增保障范围 中小险企暗提收益。　　 本报记者 苏向杲 　　...</td>\n",
       "      <td>3</td>\n",
       "    </tr>\n",
       "    <tr>\n",
       "      <th>4</th>\n",
       "      <td>1</td>\n",
       "      <td>渎职行为违规行为终身追责</td>\n",
       "      <td>本报北京1月17日电  （记者曲哲涵）保监会17日发布《打赢保险业防范化解重大风险攻坚战...</td>\n",
       "      <td>渎职行为违规行为终身追责。　　本报北京1月17日电  （记者曲哲涵）保监会17日发布《打赢保...</td>\n",
       "      <td>4</td>\n",
       "    </tr>\n",
       "  </tbody>\n",
       "</table>\n",
       "</div>"
      ],
      "text/plain": [
       "   label                            title  \\\n",
       "0      1          防风险治乱象 逾900张罚单直指险企问题重灾区   \n",
       "1      1            调结构回保障“保险+科技”已成行业新发力点   \n",
       "2      1          补短板强监管 2017年保监会密集发文60余份   \n",
       "3      1  寿险公司开门红产品调查： 上市险企增保障范围 中小险企暗提收益   \n",
       "4      1                     渎职行为违规行为终身追责   \n",
       "\n",
       "                                             content  \\\n",
       "0  今日报纸每经网首页         >         今日报纸        >     ...   \n",
       "1  今日报纸每经网首页         >         今日报纸        >     ...   \n",
       "2  今日报纸每经网首页         >         今日报纸        >     ...   \n",
       "3  　　 本报记者 苏向杲 　　　　险企开门红首月已过大半，寿险公司推出开门红的产品也浮出水面。...   \n",
       "4  　　本报北京1月17日电  （记者曲哲涵）保监会17日发布《打赢保险业防范化解重大风险攻坚战...   \n",
       "\n",
       "                                       title_content  index  \n",
       "0  防风险治乱象 逾900张罚单直指险企问题重灾区。今日报纸每经网首页         >   ...      0  \n",
       "1  调结构回保障“保险+科技”已成行业新发力点。今日报纸每经网首页         >     ...      1  \n",
       "2  补短板强监管 2017年保监会密集发文60余份。今日报纸每经网首页         >   ...      2  \n",
       "3  寿险公司开门红产品调查： 上市险企增保障范围 中小险企暗提收益。　　 本报记者 苏向杲 　　...      3  \n",
       "4  渎职行为违规行为终身追责。　　本报北京1月17日电  （记者曲哲涵）保监会17日发布《打赢保...      4  "
      ]
     },
     "execution_count": 41,
     "metadata": {},
     "output_type": "execute_result"
    }
   ],
   "source": [
    "# circ_raw_class = pd.concat([circ_raw_class_1, circ_raw_class_2,\n",
    "#                           circ_raw_class_3, circ_raw_class_4], \n",
    "#                          axis = 0)\n",
    "\n",
    "circ_raw_warn = circ_raw_warn_3\n",
    "circ_raw_warn['title_content'] = circ_raw_warn['title'].astype(str) + '。' + circ_raw_warn['content'].astype(str)\n",
    "# circ_raw_warn['label'] = circ_raw_warn['label'].apply(lambda x:x.strip())\n",
    "circ_raw_warn['index'] = range(circ_raw_warn.shape[0])\n",
    "print('去重前： ', circ_raw_warn.shape)\n",
    "circ_raw_warn = circ_raw_warn.drop_duplicates(subset = 'title_content')\n",
    "print('去重后： ', circ_raw_warn.shape)\n",
    "circ_raw_warn.head()"
   ]
  },
  {
   "cell_type": "code",
   "execution_count": 42,
   "metadata": {
    "ExecuteTime": {
     "end_time": "2018-09-10T10:58:47.312456Z",
     "start_time": "2018-09-10T10:58:47.298456Z"
    }
   },
   "outputs": [
    {
     "name": "stdout",
     "output_type": "stream",
     "text": [
      "(3549, 5)\n"
     ]
    },
    {
     "data": {
      "text/plain": [
       "label\n",
       "0    1921\n",
       "1    1628\n",
       "Name: title, dtype: int64"
      ]
     },
     "execution_count": 42,
     "metadata": {},
     "output_type": "execute_result"
    }
   ],
   "source": [
    "print(circ_raw_warn.shape)\n",
    "circ_raw_warn.groupby('label')['title'].count()"
   ]
  },
  {
   "cell_type": "markdown",
   "metadata": {},
   "source": [
    "## 预处理"
   ]
  },
  {
   "cell_type": "code",
   "execution_count": 43,
   "metadata": {
    "ExecuteTime": {
     "end_time": "2018-09-10T11:00:00.054617Z",
     "start_time": "2018-09-10T10:58:47.543470Z"
    }
   },
   "outputs": [
    {
     "name": "stdout",
     "output_type": "stream",
     "text": [
      "(3549, 5)\n",
      "save_folder:  circ_result_warn/\n",
      "title num:  3549\n",
      "content num:  3549\n",
      "今日 报纸 每经网 首页 今日 报纸 正文 防 风险 治乱 象 逾 张 罚单 直指 险企 重灾区 每日 经济 新闻 丨 每经 记者 胡 杨 每经 编辑 王可然 每经 记者 胡 杨 每经 编辑 王可然 回望 年 监管 姓监 四个 字 贯穿 始终 年 全国 保监系统 下发 张 监管函 超过 份 行政处罚 决定书 定期 通报 消费 投诉 情况 偿付能力 监管 工作 情况 首次 覆盖 全 行业 保险法 机构 公司 治理 现场 评估 体现 全方位 监管 之下 保险行业 乱象 整治 偿付能力 管理 为例 去年 三季度 末 家 公司 综合 偿付能力 溢额 万亿元 季度末 增加 亿元 人身险 公司 平均 核心偿付能力充足率 季度 百分点 连续 两个 季度 合计 处罚 金额 接近 亿据 每日 经济 新闻 记者 统计 年 全国 保监系统 一共 公开 多份 行政处罚 决定书 保监会 公布 余份 保监局 公布 多份 保监会 年 开出 张 罚单 相比 年 罚单 数量 增加 超过 五成 多份 处罚 决定书 涉及 家 保险机构 余位 关联 责任人 合计 处罚 金额 约 亿元 公司 性质 家 人身险 公司 家 财产险 公司 年内 吃 罚单 保险代理 公司 销售 公司 保险经纪 公司 相关 机构 接受 处罚 主力军 共有 家 机构 违规行为 监管部门 点名 往年 情况 销售误导 包括 电网 销 欺骗 投保人 虚列费用 给予 被保险人 保险合同 约定 利益 记录 客户 信息 不真实 聘任 不具有 任职 资格 人员 依旧 违规 重灾区 顽疾 深圳保监局 办公室 主任 汤志江 保监局 保监会 派出机构 违法行为 常规 工作 常抓不懈 进一步 监管 罚单 保监系统 日常 监管 体现 监管函 代表 保监会 违规 事件 面前 强 监管 态度 一年 中 保监会 发出 份 监管函 编号 推算 包含 未 披露 监管函 数十家 保险机构 被指 公司 治理 产品 业务 存在问题 每日 经济 新闻 记者 梳理 发现 年 保监会 开具 监管函 份 份 份 数量 皆 少于 年 公司 治理 评估 分 三批 下发 份 监管函 引发 行业 关注 去年 月 日 保监会 首发 张 监管函 直指 家 机构 公司 治理 存在问题 月 日 月 日 保监会 三会 一层 运作 内部 管控 关联交易 信息披露 家 家 机构 密集 下发 监管函 天 行业 乱象 整治 年 上半年 保监会 首次 覆盖 全 行业 保险法 机构 公司 治理 现场 评估 涉及 家 中资 保险法 机构 家 外资 保险公司 一轮 公司 治理 评价 分为 三会 一层 运作 内部 管控 机制 股东 股权 集团公司 四大 类别 下设 项子 指标 评估 家 中资 保险法 机构 公司 治理 综合 评价 平均 分为 分 集团公司 平均 得分 分 财产险 保险公司 人身险 公司 资产管理公司 平均 得分 分 评估 开具 监管函 中 保监会 明确指出 机构 应 抓紧 制定 整改 方案 方案 评估 发现 逐项 整改 整改 书面形式 上报 公司 治理 结构 完善 机构 评估 契机 进一步 完善 制度 规范 运作 问责 切实 提高 公司 治理 水平 防范 风险 受此 引导 包括 长城人寿 在内 多家 险企 公司章程 董事 监事 高管 人员培训 管理 办法 关联交易 管理 办法 十余项 性 制度 修订 完善 公司 治理 提供 制度 违规者 未能 陈述 资金 真实 来源 昆仑健康险 保监会 首次 责令 清退 违规股权 监管 措施 值得注意 清退 保监会 处置 违规股权 结束 严防 野蛮人 保险业 一步 股权 代持 股权纠纷 险企 君康人寿 长安 责任险 华汇人寿 保监会 陆续 行政 手段 实际上 一年一度 公司 治理 评估 保监会 定期 把脉 保险业 缩影 消费 投诉 偿付能力 监管 保险公司 服务 评价 完善 评价 体系 通报制度 支撑 全方位 多维度 监管 之下 保险业 乱象 整治 责编 祝裕 如需 转载 请 每日 经济 新闻 报社 未经 每日 经济 新闻 报社 授权 严禁 转载 镜像 违者必究 版权 合作 网站 合作 电话 转 读者 热线 特别 提醒 图片 请 作者 本站 索取 稿酬 希望 作品 本站 撤下 作品 每经 产品 官方 微博 官方 微信 官方 新闻 客户端 火山 财富 理财 不二 牛添 升宝 投资 宝张 道 达 每经 影视 图数馆 房产 粉巷 财经 NBD 汽车 返回 每经网 首页 \n",
      "label num:  3549\n"
     ]
    }
   ],
   "source": [
    "save_folder = 'circ_result_warn/'\n",
    "pre_save(pre_cor_circ.handle_contents, circ_raw_warn, save_folder)"
   ]
  },
  {
   "cell_type": "markdown",
   "metadata": {},
   "source": [
    "# 银行业：1 八分类"
   ]
  },
  {
   "cell_type": "markdown",
   "metadata": {},
   "source": [
    "## 读取数据"
   ]
  },
  {
   "cell_type": "code",
   "execution_count": 23,
   "metadata": {
    "ExecuteTime": {
     "end_time": "2018-10-15T02:02:38.977977Z",
     "start_time": "2018-10-15T02:02:38.972977Z"
    },
    "collapsed": true
   },
   "outputs": [],
   "source": [
    "folder = 'cbrc_data_class/20180925'"
   ]
  },
  {
   "cell_type": "markdown",
   "metadata": {},
   "source": [
    "### 预测正确数据"
   ]
  },
  {
   "cell_type": "code",
   "execution_count": 24,
   "metadata": {
    "ExecuteTime": {
     "end_time": "2018-10-15T02:02:58.954120Z",
     "start_time": "2018-10-15T02:02:40.671074Z"
    }
   },
   "outputs": [
    {
     "name": "stdout",
     "output_type": "stream",
     "text": [
      "去空值前：  (1310, 8) 20180918_cbrc_class_else.xlsx 噪音\n",
      "去空值前：  (794, 8) 20180918_cbrc_class_else.xlsx 公司内部管理\n",
      "去空值前：  (1016, 8) 20180918_cbrc_class_else.xlsx 行业\n",
      "去空值前：  (1247, 8) 20180918_cbrc_class_else.xlsx 监管\n",
      "去空值前：  (874, 8) 20180918_cbrc_class_else.xlsx 消费服务\n",
      "去空值前：  (781, 8) 20180918_cbrc_class_else.xlsx 资本市场\n",
      "去空值前：  (803, 8) 20180918_cbrc_class_else.xlsx 产品销售\n",
      "去空值前：  (1371, 8) 20180918_cbrc_class_else.xlsx 其他相关报道\n",
      "总数： (8196, 3)\n"
     ]
    },
    {
     "data": {
      "text/html": [
       "<div>\n",
       "<style scoped>\n",
       "    .dataframe tbody tr th:only-of-type {\n",
       "        vertical-align: middle;\n",
       "    }\n",
       "\n",
       "    .dataframe tbody tr th {\n",
       "        vertical-align: top;\n",
       "    }\n",
       "\n",
       "    .dataframe thead th {\n",
       "        text-align: right;\n",
       "    }\n",
       "</style>\n",
       "<table border=\"1\" class=\"dataframe\">\n",
       "  <thead>\n",
       "    <tr style=\"text-align: right;\">\n",
       "      <th></th>\n",
       "      <th>label</th>\n",
       "      <th>title</th>\n",
       "      <th>content</th>\n",
       "    </tr>\n",
       "  </thead>\n",
       "  <tbody>\n",
       "    <tr>\n",
       "      <th>0</th>\n",
       "      <td>噪音</td>\n",
       "      <td>月线反转阴包阳，原油逢高先空——股友2ze8vS149120——东方财富网博客2015</td>\n",
       "      <td>月线反转阴包阳，原油逢高先空\\n(2018-08-01 09:59:13)\\n\\n美原油市场...</td>\n",
       "    </tr>\n",
       "    <tr>\n",
       "      <th>1</th>\n",
       "      <td>噪音</td>\n",
       "      <td>汇乔金色名都在售价格为：18000元/平方米</td>\n",
       "      <td>汇乔金色名都18000元/平方米。毛坯,非毛坯交房。汇乔金色名都项目为小高层,高层。坦洲镇界...</td>\n",
       "    </tr>\n",
       "    <tr>\n",
       "      <th>2</th>\n",
       "      <td>噪音</td>\n",
       "      <td>冒充微博好友实施诈骗 嫌疑人模仿“谍战”以“暗语”联系</td>\n",
       "      <td>好朋友突然在微博上私信你，让你帮忙转账购买高价机票&amp;hellip;&amp;hellip;谁能想到这...</td>\n",
       "    </tr>\n",
       "    <tr>\n",
       "      <th>3</th>\n",
       "      <td>噪音</td>\n",
       "      <td>倒数3天 | 2018年工业污水处理运营管理培训暨国家职业资格认证（附最新课程）</td>\n",
       "      <td>各污水处理运营单位： 近年来，随着《水污染防治行动计划》、《中华人民共和国水污染防治法》等政...</td>\n",
       "    </tr>\n",
       "    <tr>\n",
       "      <th>4</th>\n",
       "      <td>噪音</td>\n",
       "      <td>嘉盛集团：欧元/美元蓄势上破，等待FOMC与非农就业 ，大非农几点开始</td>\n",
       "      <td>原标题：嘉盛集团：欧元/美元蓄势上破，等待FOMC与非农就业\\n\\n原标题：嘉盛集团：欧元/...</td>\n",
       "    </tr>\n",
       "  </tbody>\n",
       "</table>\n",
       "</div>"
      ],
      "text/plain": [
       "  label                                        title  \\\n",
       "0    噪音  月线反转阴包阳，原油逢高先空——股友2ze8vS149120——东方财富网博客2015   \n",
       "1    噪音                       汇乔金色名都在售价格为：18000元/平方米   \n",
       "2    噪音                  冒充微博好友实施诈骗 嫌疑人模仿“谍战”以“暗语”联系   \n",
       "3    噪音     倒数3天 | 2018年工业污水处理运营管理培训暨国家职业资格认证（附最新课程）   \n",
       "4    噪音          嘉盛集团：欧元/美元蓄势上破，等待FOMC与非农就业 ，大非农几点开始   \n",
       "\n",
       "                                             content  \n",
       "0  月线反转阴包阳，原油逢高先空\\n(2018-08-01 09:59:13)\\n\\n美原油市场...  \n",
       "1  汇乔金色名都18000元/平方米。毛坯,非毛坯交房。汇乔金色名都项目为小高层,高层。坦洲镇界...  \n",
       "2  好朋友突然在微博上私信你，让你帮忙转账购买高价机票&hellip;&hellip;谁能想到这...  \n",
       "3  各污水处理运营单位： 近年来，随着《水污染防治行动计划》、《中华人民共和国水污染防治法》等政...  \n",
       "4  原标题：嘉盛集团：欧元/美元蓄势上破，等待FOMC与非农就业\\n\\n原标题：嘉盛集团：欧元/...  "
      ]
     },
     "execution_count": 24,
     "metadata": {},
     "output_type": "execute_result"
    }
   ],
   "source": [
    "file_list_1 = ['20180918_cbrc_class_else.xlsx',]\n",
    "cbrc_raw_class_1 = predict_right(folder, file_list_1)\n",
    "\n",
    "cbrc_raw_class_1['label'] = cbrc_raw_class_1['label'].apply(lambda x:x.strip())    \n",
    "cbrc_raw_class_1 = cbrc_raw_class_1[['label', 'raw_title', 'raw_content']]\n",
    "cbrc_raw_class_1.columns = ['label', 'title', 'content']\n",
    "print('总数：', cbrc_raw_class_1.shape)\n",
    "cbrc_raw_class_1.head()"
   ]
  },
  {
   "cell_type": "markdown",
   "metadata": {},
   "source": [
    "### 预测错误修正后数据"
   ]
  },
  {
   "cell_type": "code",
   "execution_count": 25,
   "metadata": {
    "ExecuteTime": {
     "end_time": "2018-10-15T02:03:04.390431Z",
     "start_time": "2018-10-15T02:02:59.298139Z"
    }
   },
   "outputs": [
    {
     "name": "stdout",
     "output_type": "stream",
     "text": [
      "去删除前：  (140, 8) 20180918_cbrc_class_sel.xlsx 公司内部管理\n",
      "去删除后：  (136, 8) 20180918_cbrc_class_sel.xlsx 公司内部管理\n",
      "人工误判率： 0.17 算法误判率： 0.57\n",
      "\n",
      "去删除前：  (226, 8) 20180918_cbrc_class_sel.xlsx 资本市场\n",
      "去删除后：  (219, 8) 20180918_cbrc_class_sel.xlsx 资本市场\n",
      "人工误判率： 0.14 算法误判率： 0.50\n",
      "\n",
      "去删除前：  (182, 8) 20180918_cbrc_class_sel.xlsx 监管\n",
      "去删除后：  (179, 8) 20180918_cbrc_class_sel.xlsx 监管\n",
      "人工误判率： 0.25 算法误判率： 0.56\n",
      "\n",
      "去删除前：  (163, 8) 20180918_cbrc_class_sel.xlsx 消费服务\n",
      "去删除后：  (157, 8) 20180918_cbrc_class_sel.xlsx 消费服务\n",
      "人工误判率： 0.11 算法误判率： 0.57\n",
      "\n",
      "去删除前：  (346, 8) 20180918_cbrc_class_sel.xlsx 噪音\n",
      "去删除后：  (339, 8) 20180918_cbrc_class_sel.xlsx 噪音\n",
      "人工误判率： 0.17 算法误判率： 0.60\n",
      "\n",
      "去删除前：  (136, 8) 20180918_cbrc_class_sel.xlsx 产品销售\n",
      "去删除后：  (127, 8) 20180918_cbrc_class_sel.xlsx 产品销售\n",
      "人工误判率： 0.02 算法误判率： 0.66\n",
      "\n",
      "去删除前：  (275, 8) 20180918_cbrc_class_sel.xlsx 行业\n",
      "去删除后：  (275, 8) 20180918_cbrc_class_sel.xlsx 行业\n",
      "人工误判率： 0.15 算法误判率： 0.58\n",
      "\n",
      "去删除前：  (162, 8) 20180918_cbrc_class_sel.xlsx 其他相关报道\n",
      "去删除后：  (159, 8) 20180918_cbrc_class_sel.xlsx 其他相关报道\n",
      "人工误判率： 0.17 算法误判率： 0.67\n",
      "\n",
      "总数： (1591, 3)\n"
     ]
    },
    {
     "data": {
      "text/html": [
       "<div>\n",
       "<style scoped>\n",
       "    .dataframe tbody tr th:only-of-type {\n",
       "        vertical-align: middle;\n",
       "    }\n",
       "\n",
       "    .dataframe tbody tr th {\n",
       "        vertical-align: top;\n",
       "    }\n",
       "\n",
       "    .dataframe thead th {\n",
       "        text-align: right;\n",
       "    }\n",
       "</style>\n",
       "<table border=\"1\" class=\"dataframe\">\n",
       "  <thead>\n",
       "    <tr style=\"text-align: right;\">\n",
       "      <th></th>\n",
       "      <th>label</th>\n",
       "      <th>title</th>\n",
       "      <th>content</th>\n",
       "    </tr>\n",
       "  </thead>\n",
       "  <tbody>\n",
       "    <tr>\n",
       "      <th>0</th>\n",
       "      <td>资本市场</td>\n",
       "      <td>国药集团融资租赁有限公司首笔跨境融资业务成功落地</td>\n",
       "      <td>国药集团融资租赁有限公司首笔跨境融资业务成功落地 \\n\\n\\n \\n\\n\\n2018年7月3...</td>\n",
       "    </tr>\n",
       "    <tr>\n",
       "      <th>1</th>\n",
       "      <td>行业</td>\n",
       "      <td>强监管加码 新年4家信托公司被罚150万</td>\n",
       "      <td>北京商报讯（记者 程维妙）在银行业频频被天价罚单引发震动的同时，信托业的罚单数量也在悄然...</td>\n",
       "    </tr>\n",
       "    <tr>\n",
       "      <th>2</th>\n",
       "      <td>公司内部管理</td>\n",
       "      <td>无锡交行提升营运管理工作质量</td>\n",
       "      <td>为深入推进基层营业机构转型发展，无锡交行切实加强营运人员劳动力组合的管理质效，着力推进压...</td>\n",
       "    </tr>\n",
       "    <tr>\n",
       "      <th>3</th>\n",
       "      <td>其他相关报道</td>\n",
       "      <td>兴业银行荣获IDC中国金融行业最佳创新项目奖</td>\n",
       "      <td>兴业银行荣获IDC“中国金融行业最佳创新项目奖”2018-09-10 11:21作者：来源：...</td>\n",
       "    </tr>\n",
       "    <tr>\n",
       "      <th>4</th>\n",
       "      <td>公司内部管理</td>\n",
       "      <td>切实维护支付市场秩序，天价罚单再现_科普网</td>\n",
       "      <td>您所在的位置： 首页 &gt; 科技前沿切实维护支付市场秩序，天价罚单再现2018-08-01 1...</td>\n",
       "    </tr>\n",
       "  </tbody>\n",
       "</table>\n",
       "</div>"
      ],
      "text/plain": [
       "    label                     title  \\\n",
       "0    资本市场  国药集团融资租赁有限公司首笔跨境融资业务成功落地   \n",
       "1      行业      强监管加码 新年4家信托公司被罚150万   \n",
       "2  公司内部管理            无锡交行提升营运管理工作质量   \n",
       "3  其他相关报道    兴业银行荣获IDC中国金融行业最佳创新项目奖   \n",
       "4  公司内部管理     切实维护支付市场秩序，天价罚单再现_科普网   \n",
       "\n",
       "                                             content  \n",
       "0  国药集团融资租赁有限公司首笔跨境融资业务成功落地 \\n\\n\\n \\n\\n\\n2018年7月3...  \n",
       "1  　　北京商报讯（记者 程维妙）在银行业频频被天价罚单引发震动的同时，信托业的罚单数量也在悄然...  \n",
       "2  　　为深入推进基层营业机构转型发展，无锡交行切实加强营运人员劳动力组合的管理质效，着力推进压...  \n",
       "3  兴业银行荣获IDC“中国金融行业最佳创新项目奖”2018-09-10 11:21作者：来源：...  \n",
       "4  您所在的位置： 首页 > 科技前沿切实维护支付市场秩序，天价罚单再现2018-08-01 1...  "
      ]
     },
     "execution_count": 25,
     "metadata": {},
     "output_type": "execute_result"
    }
   ],
   "source": [
    "file_list_2 = ['20180918_cbrc_class_sel.xlsx']\n",
    "\n",
    "cbrc_raw_class_2 = correct_wrong_data(folder, file_list_2)\n",
    "cbrc_raw_class_2['label'] = cbrc_raw_class_2['label'].apply(lambda x:x.strip())  \n",
    "cbrc_raw_class_2 = cbrc_raw_class_2[['备注', 'raw_title', 'raw_content']]\n",
    "cbrc_raw_class_2.columns = ['label', 'title', 'content']\n",
    "print('总数：', cbrc_raw_class_2.shape)\n",
    "cbrc_raw_class_2.head()"
   ]
  },
  {
   "cell_type": "markdown",
   "metadata": {},
   "source": [
    "### 新补充数据"
   ]
  },
  {
   "cell_type": "code",
   "execution_count": 26,
   "metadata": {
    "ExecuteTime": {
     "end_time": "2018-10-15T02:03:04.775453Z",
     "start_time": "2018-10-15T02:03:04.767452Z"
    },
    "collapsed": true
   },
   "outputs": [],
   "source": [
    "# file_list_class_3 = ['20180814_cbrc_class_1.xlsx', '20180814_cbrc_class_2.xlsx',\n",
    "#                '20180817_cbrc_class_1.xlsx', '20180823_cbrc_class_1.xlsx',\n",
    "#                '20180823_cbrc_class_2.xlsx', '20180823_cbrc_class_3.xlsx', \n",
    "#                '20180824_cbrc_class_1.xlsx', '20180824_cbrc_class_2.xlsx', \n",
    "#                '20180824_cbrc_class_3.xlsx', '20180911_cbrc_class_1.xlsx'] # 多个 sheet\n",
    "\n",
    "# cbrc_raw_class_3 = get_new_data(folder, file_list_class_3)\n",
    "\n",
    "# cbrc_raw_class_3['label'] = cbrc_raw_class_3['label'].apply(lambda x:x.strip())    \n",
    "# print('总数：', cbrc_raw_class_3.shape)\n",
    "# cbrc_raw_class_3.head()"
   ]
  },
  {
   "cell_type": "code",
   "execution_count": 27,
   "metadata": {
    "ExecuteTime": {
     "end_time": "2018-10-15T02:03:05.176476Z",
     "start_time": "2018-10-15T02:03:05.171475Z"
    },
    "collapsed": true
   },
   "outputs": [],
   "source": [
    "# cbrc_raw_class_3.groupby('label')['title'].count()"
   ]
  },
  {
   "cell_type": "markdown",
   "metadata": {},
   "source": [
    "### 模型预测后反馈数据"
   ]
  },
  {
   "cell_type": "code",
   "execution_count": 28,
   "metadata": {
    "ExecuteTime": {
     "end_time": "2018-10-15T02:03:10.354772Z",
     "start_time": "2018-10-15T02:03:05.605500Z"
    }
   },
   "outputs": [
    {
     "name": "stdout",
     "output_type": "stream",
     "text": [
      "类别： 行业 总数： 277 正确数 141 正确比例 0.5090252707581228\n",
      "去空值前：  (277, 3) 20181008_cbrc_class_feedback.xlsx 行业\n",
      "去空值后：  (277, 3) 20181008_cbrc_class_feedback.xlsx 行业\n",
      "\n",
      "类别： 监管 总数： 280 正确数 73 正确比例 0.26071428571428573\n",
      "去空值前：  (280, 3) 20181008_cbrc_class_feedback.xlsx 监管\n",
      "去空值后：  (280, 3) 20181008_cbrc_class_feedback.xlsx 监管\n",
      "\n",
      "类别： 资本市场 总数： 292 正确数 210 正确比例 0.7191780821917808\n",
      "去空值前：  (292, 3) 20181008_cbrc_class_feedback.xlsx 资本市场\n",
      "去空值后：  (292, 3) 20181008_cbrc_class_feedback.xlsx 资本市场\n",
      "\n",
      "类别： 噪音 总数： 294 正确数 265 正确比例 0.9013605442176871\n",
      "去空值前：  (294, 3) 20181008_cbrc_class_feedback.xlsx 噪音\n",
      "去空值后：  (294, 3) 20181008_cbrc_class_feedback.xlsx 噪音\n",
      "\n",
      "类别： 公司内部管理 总数： 256 正确数 104 正确比例 0.40625\n",
      "去空值前：  (256, 3) 20181008_cbrc_class_feedback.xlsx 公司内部管理\n",
      "去空值后：  (256, 3) 20181008_cbrc_class_feedback.xlsx 公司内部管理\n",
      "\n",
      "类别： 消费服务 总数： 190 正确数 72 正确比例 0.37894736842105264\n",
      "去空值前：  (190, 3) 20181008_cbrc_class_feedback.xlsx 消费服务\n",
      "去空值后：  (190, 3) 20181008_cbrc_class_feedback.xlsx 消费服务\n",
      "\n",
      "类别： 其他相关报道 总数： 290 正确数 185 正确比例 0.6379310344827587\n",
      "去空值前：  (290, 3) 20181008_cbrc_class_feedback.xlsx 其他相关报道\n",
      "去空值后：  (290, 3) 20181008_cbrc_class_feedback.xlsx 其他相关报道\n",
      "\n",
      "类别： 产品销售 总数： 291 正确数 148 正确比例 0.5085910652920962\n",
      "去空值前：  (291, 3) 20181008_cbrc_class_feedback.xlsx 产品销售\n",
      "去空值后：  (291, 3) 20181008_cbrc_class_feedback.xlsx 产品销售\n",
      "\n",
      "总数： (2170, 3)\n"
     ]
    },
    {
     "data": {
      "text/html": [
       "<div>\n",
       "<style scoped>\n",
       "    .dataframe tbody tr th:only-of-type {\n",
       "        vertical-align: middle;\n",
       "    }\n",
       "\n",
       "    .dataframe tbody tr th {\n",
       "        vertical-align: top;\n",
       "    }\n",
       "\n",
       "    .dataframe thead th {\n",
       "        text-align: right;\n",
       "    }\n",
       "</style>\n",
       "<table border=\"1\" class=\"dataframe\">\n",
       "  <thead>\n",
       "    <tr style=\"text-align: right;\">\n",
       "      <th></th>\n",
       "      <th>label</th>\n",
       "      <th>title</th>\n",
       "      <th>content</th>\n",
       "    </tr>\n",
       "  </thead>\n",
       "  <tbody>\n",
       "    <tr>\n",
       "      <th>0</th>\n",
       "      <td>行业</td>\n",
       "      <td>非银金融行业专题报告</td>\n",
       "      <td>行业6月以来频频爆雷，7月单月问题平台163家，达到历史峰值，停业及转型53家。流动性收紧是...</td>\n",
       "    </tr>\n",
       "    <tr>\n",
       "      <th>1</th>\n",
       "      <td>行业</td>\n",
       "      <td>2018上半年上市银行排名 | 四大行占到全行业净利润8314亿的64%</td>\n",
       "      <td>资本充足率是银行资本总额对其风险加权资产的比率，反映银行在存款人和债权人的资产遭到损失之前，...</td>\n",
       "    </tr>\n",
       "    <tr>\n",
       "      <th>2</th>\n",
       "      <td>行业</td>\n",
       "      <td>贸战影响年底前浮现</td>\n",
       "      <td>??? 罗兵咸：内银已在做减值　　贸战影响年底前浮现　 【香港商报讯】记者吕希蕴报道：罗兵咸...</td>\n",
       "    </tr>\n",
       "    <tr>\n",
       "      <th>3</th>\n",
       "      <td>消费服务</td>\n",
       "      <td>千万注意！个人账户不能备注公司名，否则会被认定为偷税行为！</td>\n",
       "      <td>近日，一则“个人银行卡账户的现金往来，备注有‘**公司’及‘货款’字样的往来账款，银行及税局...</td>\n",
       "    </tr>\n",
       "    <tr>\n",
       "      <th>4</th>\n",
       "      <td>行业</td>\n",
       "      <td>ICO是一个伟大的融资发明打破传统融资的局限</td>\n",
       "      <td>新闻速览一分钟 1.昆士兰大学博士：USDT增发并没有对BTC价格造成影响2.今日恐慌指数3...</td>\n",
       "    </tr>\n",
       "  </tbody>\n",
       "</table>\n",
       "</div>"
      ],
      "text/plain": [
       "  label                                 title  \\\n",
       "0    行业                            非银金融行业专题报告   \n",
       "1    行业  2018上半年上市银行排名 | 四大行占到全行业净利润8314亿的64%   \n",
       "2    行业                             贸战影响年底前浮现   \n",
       "3  消费服务         千万注意！个人账户不能备注公司名，否则会被认定为偷税行为！   \n",
       "4    行业                ICO是一个伟大的融资发明打破传统融资的局限   \n",
       "\n",
       "                                             content  \n",
       "0  行业6月以来频频爆雷，7月单月问题平台163家，达到历史峰值，停业及转型53家。流动性收紧是...  \n",
       "1  资本充足率是银行资本总额对其风险加权资产的比率，反映银行在存款人和债权人的资产遭到损失之前，...  \n",
       "2  ??? 罗兵咸：内银已在做减值　　贸战影响年底前浮现　 【香港商报讯】记者吕希蕴报道：罗兵咸...  \n",
       "3  近日，一则“个人银行卡账户的现金往来，备注有‘**公司’及‘货款’字样的往来账款，银行及税局...  \n",
       "4  新闻速览一分钟 1.昆士兰大学博士：USDT增发并没有对BTC价格造成影响2.今日恐慌指数3...  "
      ]
     },
     "execution_count": 28,
     "metadata": {},
     "output_type": "execute_result"
    }
   ],
   "source": [
    "file_list_class_4 = ['20181008_cbrc_class_feedback.xlsx',\n",
    "              ] # 多个 sheet\n",
    "\n",
    "cbrc_raw_class_4 = get_feedback_data(folder, file_list_class_4)\n",
    "\n",
    "# cbrc_raw_class_4['label'] = cbrc_raw_class_4['label'].apply(lambda x:x.strip())    \n",
    "print('总数：', cbrc_raw_class_4.shape)\n",
    "cbrc_raw_class_4.head()"
   ]
  },
  {
   "cell_type": "code",
   "execution_count": 32,
   "metadata": {
    "ExecuteTime": {
     "end_time": "2018-10-15T02:03:20.931377Z",
     "start_time": "2018-10-15T02:03:20.921376Z"
    }
   },
   "outputs": [
    {
     "data": {
      "text/plain": [
       "label\n",
       "产品销售      190\n",
       "公司内部管理    186\n",
       "其他相关报道    256\n",
       "噪音        627\n",
       "消费服务      312\n",
       "监管         83\n",
       "行业        259\n",
       "资本市场      257\n",
       "Name: title, dtype: int64"
      ]
     },
     "execution_count": 32,
     "metadata": {},
     "output_type": "execute_result"
    }
   ],
   "source": [
    "cbrc_raw_class_4.groupby('label')['title'].count()"
   ]
  },
  {
   "cell_type": "markdown",
   "metadata": {},
   "source": [
    "## 合并数据"
   ]
  },
  {
   "cell_type": "code",
   "execution_count": 30,
   "metadata": {
    "ExecuteTime": {
     "end_time": "2018-10-15T02:03:11.500837Z",
     "start_time": "2018-10-15T02:03:11.186819Z"
    }
   },
   "outputs": [
    {
     "name": "stdout",
     "output_type": "stream",
     "text": [
      "去重前：  (11957, 4)\n",
      "去重后：  (11955, 4)\n"
     ]
    },
    {
     "data": {
      "text/html": [
       "<div>\n",
       "<style scoped>\n",
       "    .dataframe tbody tr th:only-of-type {\n",
       "        vertical-align: middle;\n",
       "    }\n",
       "\n",
       "    .dataframe tbody tr th {\n",
       "        vertical-align: top;\n",
       "    }\n",
       "\n",
       "    .dataframe thead th {\n",
       "        text-align: right;\n",
       "    }\n",
       "</style>\n",
       "<table border=\"1\" class=\"dataframe\">\n",
       "  <thead>\n",
       "    <tr style=\"text-align: right;\">\n",
       "      <th></th>\n",
       "      <th>label</th>\n",
       "      <th>title</th>\n",
       "      <th>content</th>\n",
       "      <th>title_content</th>\n",
       "    </tr>\n",
       "  </thead>\n",
       "  <tbody>\n",
       "    <tr>\n",
       "      <th>0</th>\n",
       "      <td>噪音</td>\n",
       "      <td>月线反转阴包阳，原油逢高先空——股友2ze8vS149120——东方财富网博客2015</td>\n",
       "      <td>月线反转阴包阳，原油逢高先空\\n(2018-08-01 09:59:13)\\n\\n美原油市场...</td>\n",
       "      <td>月线反转阴包阳，原油逢高先空——股友2ze8vS149120——东方财富网博客2015。月线...</td>\n",
       "    </tr>\n",
       "    <tr>\n",
       "      <th>1</th>\n",
       "      <td>噪音</td>\n",
       "      <td>汇乔金色名都在售价格为：18000元/平方米</td>\n",
       "      <td>汇乔金色名都18000元/平方米。毛坯,非毛坯交房。汇乔金色名都项目为小高层,高层。坦洲镇界...</td>\n",
       "      <td>汇乔金色名都在售价格为：18000元/平方米。汇乔金色名都18000元/平方米。毛坯,非毛坯...</td>\n",
       "    </tr>\n",
       "    <tr>\n",
       "      <th>2</th>\n",
       "      <td>噪音</td>\n",
       "      <td>冒充微博好友实施诈骗 嫌疑人模仿“谍战”以“暗语”联系</td>\n",
       "      <td>好朋友突然在微博上私信你，让你帮忙转账购买高价机票&amp;hellip;&amp;hellip;谁能想到这...</td>\n",
       "      <td>冒充微博好友实施诈骗 嫌疑人模仿“谍战”以“暗语”联系。好朋友突然在微博上私信你，让你帮忙转...</td>\n",
       "    </tr>\n",
       "    <tr>\n",
       "      <th>3</th>\n",
       "      <td>噪音</td>\n",
       "      <td>倒数3天 | 2018年工业污水处理运营管理培训暨国家职业资格认证（附最新课程）</td>\n",
       "      <td>各污水处理运营单位： 近年来，随着《水污染防治行动计划》、《中华人民共和国水污染防治法》等政...</td>\n",
       "      <td>倒数3天 | 2018年工业污水处理运营管理培训暨国家职业资格认证（附最新课程）。各污水处理...</td>\n",
       "    </tr>\n",
       "    <tr>\n",
       "      <th>4</th>\n",
       "      <td>噪音</td>\n",
       "      <td>嘉盛集团：欧元/美元蓄势上破，等待FOMC与非农就业 ，大非农几点开始</td>\n",
       "      <td>原标题：嘉盛集团：欧元/美元蓄势上破，等待FOMC与非农就业\\n\\n原标题：嘉盛集团：欧元/...</td>\n",
       "      <td>嘉盛集团：欧元/美元蓄势上破，等待FOMC与非农就业 ，大非农几点开始。原标题：嘉盛集团：欧...</td>\n",
       "    </tr>\n",
       "  </tbody>\n",
       "</table>\n",
       "</div>"
      ],
      "text/plain": [
       "  label                                        title  \\\n",
       "0    噪音  月线反转阴包阳，原油逢高先空——股友2ze8vS149120——东方财富网博客2015   \n",
       "1    噪音                       汇乔金色名都在售价格为：18000元/平方米   \n",
       "2    噪音                  冒充微博好友实施诈骗 嫌疑人模仿“谍战”以“暗语”联系   \n",
       "3    噪音     倒数3天 | 2018年工业污水处理运营管理培训暨国家职业资格认证（附最新课程）   \n",
       "4    噪音          嘉盛集团：欧元/美元蓄势上破，等待FOMC与非农就业 ，大非农几点开始   \n",
       "\n",
       "                                             content  \\\n",
       "0  月线反转阴包阳，原油逢高先空\\n(2018-08-01 09:59:13)\\n\\n美原油市场...   \n",
       "1  汇乔金色名都18000元/平方米。毛坯,非毛坯交房。汇乔金色名都项目为小高层,高层。坦洲镇界...   \n",
       "2  好朋友突然在微博上私信你，让你帮忙转账购买高价机票&hellip;&hellip;谁能想到这...   \n",
       "3  各污水处理运营单位： 近年来，随着《水污染防治行动计划》、《中华人民共和国水污染防治法》等政...   \n",
       "4  原标题：嘉盛集团：欧元/美元蓄势上破，等待FOMC与非农就业\\n\\n原标题：嘉盛集团：欧元/...   \n",
       "\n",
       "                                       title_content  \n",
       "0  月线反转阴包阳，原油逢高先空——股友2ze8vS149120——东方财富网博客2015。月线...  \n",
       "1  汇乔金色名都在售价格为：18000元/平方米。汇乔金色名都18000元/平方米。毛坯,非毛坯...  \n",
       "2  冒充微博好友实施诈骗 嫌疑人模仿“谍战”以“暗语”联系。好朋友突然在微博上私信你，让你帮忙转...  \n",
       "3  倒数3天 | 2018年工业污水处理运营管理培训暨国家职业资格认证（附最新课程）。各污水处理...  \n",
       "4  嘉盛集团：欧元/美元蓄势上破，等待FOMC与非农就业 ，大非农几点开始。原标题：嘉盛集团：欧...  "
      ]
     },
     "execution_count": 30,
     "metadata": {},
     "output_type": "execute_result"
    }
   ],
   "source": [
    "cbrc_raw_class = pd.concat([cbrc_raw_class_1, cbrc_raw_class_2, cbrc_raw_class_4\n",
    "                          #cbrc_raw_class_3, \n",
    "                        ], \n",
    "                         axis = 0)\n",
    "\n",
    "# cbrc_raw = cbrc_raw_class_4\n",
    "cbrc_raw_class['title_content'] = cbrc_raw_class['title'].astype(str) + '。' + cbrc_raw_class['content'].astype(str)\n",
    "cbrc_raw_class['label'] = cbrc_raw_class['label'].apply(lambda x:x.strip())\n",
    "# cbrc_raw_class['index'] = range(cbrc_raw_class.shape[0])\n",
    "print('去重前： ', cbrc_raw_class.shape)\n",
    "cbrc_raw_class = cbrc_raw_class.drop_duplicates(subset = 'title_content')\n",
    "print('去重后： ', cbrc_raw_class.shape)\n",
    "cbrc_raw_class.head()"
   ]
  },
  {
   "cell_type": "code",
   "execution_count": 31,
   "metadata": {
    "ExecuteTime": {
     "end_time": "2018-10-15T02:03:11.940863Z",
     "start_time": "2018-10-15T02:03:11.926862Z"
    }
   },
   "outputs": [
    {
     "name": "stdout",
     "output_type": "stream",
     "text": [
      "(11955, 4)\n"
     ]
    },
    {
     "data": {
      "text/plain": [
       "label\n",
       "产品销售      1114\n",
       "公司内部管理    1178\n",
       "其他相关报道    1767\n",
       "噪音        2234\n",
       "消费服务      1393\n",
       "监管        1470\n",
       "行业        1520\n",
       "资本市场      1279\n",
       "Name: title, dtype: int64"
      ]
     },
     "execution_count": 31,
     "metadata": {},
     "output_type": "execute_result"
    }
   ],
   "source": [
    "print(cbrc_raw_class.shape)\n",
    "cbrc_raw_class.groupby('label')['title'].count()"
   ]
  },
  {
   "cell_type": "markdown",
   "metadata": {},
   "source": [
    "## 预处理"
   ]
  },
  {
   "cell_type": "code",
   "execution_count": 33,
   "metadata": {
    "ExecuteTime": {
     "end_time": "2018-10-15T02:08:49.098147Z",
     "start_time": "2018-10-15T02:04:51.540559Z"
    },
    "scrolled": true
   },
   "outputs": [
    {
     "name": "stdout",
     "output_type": "stream",
     "text": [
      "(11955, 4)\n",
      "save_folder:  cbrc_result_class/\n",
      "title num:  11955\n",
      "content num:  11955\n",
      "月线 反转 阴包 阳 原油 高 先空 美 原油 市场 昨日 月 最终 形态 构造 回顾 月线 走势 月初 行情 低开 位置 行情 先回 补缺 口 给出 新高 行情 压力 回落 周线 黄昏 之星 形态 行情 延续 下行 月 中 行情 最低 位置 行情 整理 最终 月线 收线 月线 行情 一根 下影线 稍 长于 上影线 阴线 形态 收线 形态 收尾 月线 阴包 阳 技术 信号 月线 进一步 回落 低点 需求 点位 今日 给出 轻仓空 止损 目标 上海 原油 操作 今日 给出 空 止损 下方 目标 基本面 刚刚 结束 月 基本面 说 事件 频繁 中 美 开端 欧美 美国 伊朗 制裁 美国 第二季度 GDP 增速 提高 长远 性质 基本面 事件 事件 相关 方都 美国 一步 美国 动向 距离 美国 中期 选举 天 时间 特朗普 想 连任 国内 经济 稳定 竞选 言论 实施 就业 进一步 增强 连任 核心 影响 中美上 美国 亿美元 回补 美国 大豆 种植者 很大 程度 缓解 事件 国内 影响 单边主义 不利于 世界 经济 美国 经济体 美元 国际 唯一 国际 货币 说 主导 全球 经济 发展 方向 美国 损失 世界 国家 补充 美国 中国 政府 富 后果 只能 中国 民众 承担 长此以往 只会 加重 国内 通胀 压力 税负 增加 房地产 泡沫 民众 民企 艰难度日 环境 想要 扩大内需 消耗掉 带来 影响 并非易事 想要 找到 出路 中国政府 需 另辟蹊径 非 一味 对抗 今日 基本面 美国 ADP 就业 数据 数据 非农 前 预期 美国 ISM 制造业 指数 营建 许可 关注 美国 EIA 原油 库存 报告 即可 这一 数据 上周 意外 大跌 本周 数据 关注 明晨 美联储 利率 上限 即可 操作 美 原油 今日 给出 轻仓空 止损 目标 上海 原油 今日 给出 空 止损 下方 目标 阅读 评论 分享 前 一篇 一根 大阳 穿云箭 原油 回 踩 做 发表 评论 新一代 涨粉 神器 \n",
      "label num:  11955\n"
     ]
    }
   ],
   "source": [
    "save_folder = 'cbrc_result_class/'\n",
    "pre_save(pre_cor_cbrc.handle_contents, cbrc_raw_class, save_folder)"
   ]
  },
  {
   "cell_type": "markdown",
   "metadata": {},
   "source": [
    "# 银行业：2 倾向性"
   ]
  },
  {
   "cell_type": "markdown",
   "metadata": {},
   "source": [
    "## 读取数据"
   ]
  },
  {
   "cell_type": "code",
   "execution_count": 50,
   "metadata": {
    "ExecuteTime": {
     "end_time": "2018-09-10T11:02:20.817668Z",
     "start_time": "2018-09-10T11:02:20.810668Z"
    },
    "collapsed": true
   },
   "outputs": [],
   "source": [
    "folder = 'cbrc_data_tendency/20180622'"
   ]
  },
  {
   "cell_type": "markdown",
   "metadata": {},
   "source": [
    "### 预测正确数据"
   ]
  },
  {
   "cell_type": "code",
   "execution_count": 51,
   "metadata": {
    "ExecuteTime": {
     "end_time": "2018-09-10T11:02:21.189689Z",
     "start_time": "2018-09-10T11:02:21.179689Z"
    },
    "collapsed": true
   },
   "outputs": [],
   "source": [
    "# file_list_1 = ['circ_class_sel_else_20180827.xlsx',]\n",
    "# circ_raw_class_1 = predict_right(folder, file_list_1)\n",
    "\n",
    "# circ_raw_class_1['label'] = circ_raw_class_1['label'].apply(lambda x:x.strip())    \n",
    "# circ_raw_class_1 = circ_raw_class_1[['label', 'raw_title', 'raw_content']]\n",
    "# circ_raw_class_1.columns = ['label', 'title', 'content']\n",
    "# print('总数：', circ_raw_class_1.shape)\n",
    "# circ_raw_class_1.head()"
   ]
  },
  {
   "cell_type": "code",
   "execution_count": 52,
   "metadata": {
    "ExecuteTime": {
     "end_time": "2018-09-10T11:02:21.534709Z",
     "start_time": "2018-09-10T11:02:21.529709Z"
    },
    "collapsed": true
   },
   "outputs": [],
   "source": [
    "# circ_raw_class_1['label'].value_counts()"
   ]
  },
  {
   "cell_type": "markdown",
   "metadata": {},
   "source": [
    "### 预测错误修正后数据"
   ]
  },
  {
   "cell_type": "code",
   "execution_count": 53,
   "metadata": {
    "ExecuteTime": {
     "end_time": "2018-09-10T11:02:21.983735Z",
     "start_time": "2018-09-10T11:02:21.899730Z"
    },
    "collapsed": true
   },
   "outputs": [],
   "source": [
    "# file_list_2 = ['circ_class_sel_20180827-1.xlsx','circ_class_sel_20180827-2.xlsx']\n",
    "\n",
    "# circ_raw_class_2 = correct_wrong_data(folder, file_list_2)\n",
    "# circ_raw_class_2['label'] = circ_raw_class_2['label'].apply(lambda x:x.strip())  \n",
    "# circ_raw_class_2 = circ_raw_class_2[['备注', 'raw_title', 'raw_content']]\n",
    "# circ_raw_class_2.columns = ['label', 'title', 'content']\n",
    "# print('总数：', circ_raw_class_2.shape)\n",
    "# circ_raw_class_2.head()"
   ]
  },
  {
   "cell_type": "code",
   "execution_count": 54,
   "metadata": {
    "ExecuteTime": {
     "end_time": "2018-09-10T11:02:22.378757Z",
     "start_time": "2018-09-10T11:02:22.366757Z"
    },
    "collapsed": true
   },
   "outputs": [],
   "source": [
    "# circ_raw_class_2['label'].value_counts()"
   ]
  },
  {
   "cell_type": "markdown",
   "metadata": {},
   "source": [
    "### 新补充数据"
   ]
  },
  {
   "cell_type": "code",
   "execution_count": 55,
   "metadata": {
    "ExecuteTime": {
     "end_time": "2018-09-10T11:02:23.087798Z",
     "start_time": "2018-09-10T11:02:22.864785Z"
    }
   },
   "outputs": [
    {
     "name": "stdout",
     "output_type": "stream",
     "text": [
      "Index(['content', 'label', 'title'], dtype='object')\n",
      "去空值前：  (500, 3) cbrc_0609_pos_raw_data.xlsx Sheet1\n",
      "去空值后：  (500, 3) cbrc_0609_pos_raw_data.xlsx Sheet1\n",
      "Index(['content', 'label', 'title'], dtype='object')\n",
      "去空值前：  (398, 3) cbrc_0609_neg_raw_data.xlsx Sheet1\n",
      "去空值后：  (398, 3) cbrc_0609_neg_raw_data.xlsx Sheet1\n",
      "总数： (898, 3)\n"
     ]
    },
    {
     "data": {
      "text/html": [
       "<div>\n",
       "<style scoped>\n",
       "    .dataframe tbody tr th:only-of-type {\n",
       "        vertical-align: middle;\n",
       "    }\n",
       "\n",
       "    .dataframe tbody tr th {\n",
       "        vertical-align: top;\n",
       "    }\n",
       "\n",
       "    .dataframe thead th {\n",
       "        text-align: right;\n",
       "    }\n",
       "</style>\n",
       "<table border=\"1\" class=\"dataframe\">\n",
       "  <thead>\n",
       "    <tr style=\"text-align: right;\">\n",
       "      <th></th>\n",
       "      <th>label</th>\n",
       "      <th>title</th>\n",
       "      <th>content</th>\n",
       "    </tr>\n",
       "  </thead>\n",
       "  <tbody>\n",
       "    <tr>\n",
       "      <th>0</th>\n",
       "      <td>1</td>\n",
       "      <td>NaN</td>\n",
       "      <td>【消息面解析】 　　周三(12月14日)原油盘初，油价承压，美油跌逾1%。美油交投于52.3...</td>\n",
       "    </tr>\n",
       "    <tr>\n",
       "      <th>1</th>\n",
       "      <td>1</td>\n",
       "      <td>NaN</td>\n",
       "      <td>贵金属各大交易平台:在这两个转换下，总量数据在2010年达到高点后便持续处于下行通道当中，周...</td>\n",
       "    </tr>\n",
       "    <tr>\n",
       "      <th>2</th>\n",
       "      <td>1</td>\n",
       "      <td>NaN</td>\n",
       "      <td>关注：掌上有色：隔夜财经数据评论：非农利好提前消化美元持稳  中国数据向好金属表现较好期铜领...</td>\n",
       "    </tr>\n",
       "    <tr>\n",
       "      <th>3</th>\n",
       "      <td>1</td>\n",
       "      <td>NaN</td>\n",
       "      <td>周一就被行情怼死，有些意外直接破高，因为要上非农就可以直接涨，但非农冲高回落日线收阴，按理周...</td>\n",
       "    </tr>\n",
       "    <tr>\n",
       "      <th>4</th>\n",
       "      <td>1</td>\n",
       "      <td>NaN</td>\n",
       "      <td>今年以来，区环保局围绕区委区政府提出的“干好一三五”总体思路，根据“三年活动”“五大硬仗”总...</td>\n",
       "    </tr>\n",
       "  </tbody>\n",
       "</table>\n",
       "</div>"
      ],
      "text/plain": [
       "   label  title                                            content\n",
       "0      1    NaN  【消息面解析】 　　周三(12月14日)原油盘初，油价承压，美油跌逾1%。美油交投于52.3...\n",
       "1      1    NaN  贵金属各大交易平台:在这两个转换下，总量数据在2010年达到高点后便持续处于下行通道当中，周...\n",
       "2      1    NaN  关注：掌上有色：隔夜财经数据评论：非农利好提前消化美元持稳  中国数据向好金属表现较好期铜领...\n",
       "3      1    NaN  周一就被行情怼死，有些意外直接破高，因为要上非农就可以直接涨，但非农冲高回落日线收阴，按理周...\n",
       "4      1    NaN  今年以来，区环保局围绕区委区政府提出的“干好一三五”总体思路，根据“三年活动”“五大硬仗”总..."
      ]
     },
     "execution_count": 55,
     "metadata": {},
     "output_type": "execute_result"
    }
   ],
   "source": [
    "file_list_3 = ['cbrc_0609_pos_raw_data.xlsx', 'cbrc_0609_neg_raw_data.xlsx',\n",
    "               ] # 多个 sheet\n",
    "\n",
    "cbrc_raw_tendency_3 = get_new_data(folder, file_list_3)\n",
    "\n",
    "# circ_raw_tendency_3['label'] = circ_raw_tendency_3['label'].apply(lambda x:x.strip())    \n",
    "print('总数：', cbrc_raw_tendency_3.shape)\n",
    "cbrc_raw_tendency_3.head()"
   ]
  },
  {
   "cell_type": "code",
   "execution_count": 56,
   "metadata": {
    "ExecuteTime": {
     "end_time": "2018-09-10T11:02:23.527823Z",
     "start_time": "2018-09-10T11:02:23.510822Z"
    }
   },
   "outputs": [
    {
     "data": {
      "text/plain": [
       "1    500\n",
       "0    398\n",
       "Name: label, dtype: int64"
      ]
     },
     "execution_count": 56,
     "metadata": {},
     "output_type": "execute_result"
    }
   ],
   "source": [
    "cbrc_raw_tendency_3['label'].value_counts()"
   ]
  },
  {
   "cell_type": "markdown",
   "metadata": {},
   "source": [
    "### 模型预测后反馈数据"
   ]
  },
  {
   "cell_type": "code",
   "execution_count": 57,
   "metadata": {
    "ExecuteTime": {
     "end_time": "2018-09-10T11:02:24.052853Z",
     "start_time": "2018-09-10T11:02:24.046853Z"
    },
    "collapsed": true
   },
   "outputs": [],
   "source": [
    "# file_list_4 = ['20180904_circ_class_feedback.xlsx', '20180904_circ_class_feedback_1.xlsx',\n",
    "#               ] # 多个 sheet\n",
    "\n",
    "# circ_raw_class_4 = get_feedback_data(folder, file_list_4)\n",
    "\n",
    "# circ_raw_class_4['label'] = circ_raw_class_4['label'].apply(lambda x:x.strip())    \n",
    "# print('总数：', circ_raw_class_4.shape)\n",
    "# circ_raw_class_4.head()"
   ]
  },
  {
   "cell_type": "code",
   "execution_count": 58,
   "metadata": {
    "ExecuteTime": {
     "end_time": "2018-09-10T11:02:24.440875Z",
     "start_time": "2018-09-10T11:02:24.433875Z"
    },
    "collapsed": true
   },
   "outputs": [],
   "source": [
    "# circ_raw_class_4['label'].value_counts()"
   ]
  },
  {
   "cell_type": "markdown",
   "metadata": {},
   "source": [
    "## 合并数据"
   ]
  },
  {
   "cell_type": "code",
   "execution_count": 59,
   "metadata": {
    "ExecuteTime": {
     "end_time": "2018-09-10T11:02:24.859899Z",
     "start_time": "2018-09-10T11:02:24.812897Z"
    }
   },
   "outputs": [
    {
     "name": "stdout",
     "output_type": "stream",
     "text": [
      "去重前：  (898, 4)\n",
      "去重后：  (896, 4)\n"
     ]
    },
    {
     "data": {
      "text/html": [
       "<div>\n",
       "<style scoped>\n",
       "    .dataframe tbody tr th:only-of-type {\n",
       "        vertical-align: middle;\n",
       "    }\n",
       "\n",
       "    .dataframe tbody tr th {\n",
       "        vertical-align: top;\n",
       "    }\n",
       "\n",
       "    .dataframe thead th {\n",
       "        text-align: right;\n",
       "    }\n",
       "</style>\n",
       "<table border=\"1\" class=\"dataframe\">\n",
       "  <thead>\n",
       "    <tr style=\"text-align: right;\">\n",
       "      <th></th>\n",
       "      <th>label</th>\n",
       "      <th>title</th>\n",
       "      <th>content</th>\n",
       "      <th>title_content</th>\n",
       "    </tr>\n",
       "  </thead>\n",
       "  <tbody>\n",
       "    <tr>\n",
       "      <th>0</th>\n",
       "      <td>1</td>\n",
       "      <td>NaN</td>\n",
       "      <td>【消息面解析】 　　周三(12月14日)原油盘初，油价承压，美油跌逾1%。美油交投于52.3...</td>\n",
       "      <td>nan。【消息面解析】 　　周三(12月14日)原油盘初，油价承压，美油跌逾1%。美油交投于...</td>\n",
       "    </tr>\n",
       "    <tr>\n",
       "      <th>1</th>\n",
       "      <td>1</td>\n",
       "      <td>NaN</td>\n",
       "      <td>贵金属各大交易平台:在这两个转换下，总量数据在2010年达到高点后便持续处于下行通道当中，周...</td>\n",
       "      <td>nan。贵金属各大交易平台:在这两个转换下，总量数据在2010年达到高点后便持续处于下行通道...</td>\n",
       "    </tr>\n",
       "    <tr>\n",
       "      <th>2</th>\n",
       "      <td>1</td>\n",
       "      <td>NaN</td>\n",
       "      <td>关注：掌上有色：隔夜财经数据评论：非农利好提前消化美元持稳  中国数据向好金属表现较好期铜领...</td>\n",
       "      <td>nan。关注：掌上有色：隔夜财经数据评论：非农利好提前消化美元持稳  中国数据向好金属表现较...</td>\n",
       "    </tr>\n",
       "    <tr>\n",
       "      <th>3</th>\n",
       "      <td>1</td>\n",
       "      <td>NaN</td>\n",
       "      <td>周一就被行情怼死，有些意外直接破高，因为要上非农就可以直接涨，但非农冲高回落日线收阴，按理周...</td>\n",
       "      <td>nan。周一就被行情怼死，有些意外直接破高，因为要上非农就可以直接涨，但非农冲高回落日线收阴...</td>\n",
       "    </tr>\n",
       "    <tr>\n",
       "      <th>4</th>\n",
       "      <td>1</td>\n",
       "      <td>NaN</td>\n",
       "      <td>今年以来，区环保局围绕区委区政府提出的“干好一三五”总体思路，根据“三年活动”“五大硬仗”总...</td>\n",
       "      <td>nan。今年以来，区环保局围绕区委区政府提出的“干好一三五”总体思路，根据“三年活动”“五大...</td>\n",
       "    </tr>\n",
       "  </tbody>\n",
       "</table>\n",
       "</div>"
      ],
      "text/plain": [
       "   label  title                                            content  \\\n",
       "0      1    NaN  【消息面解析】 　　周三(12月14日)原油盘初，油价承压，美油跌逾1%。美油交投于52.3...   \n",
       "1      1    NaN  贵金属各大交易平台:在这两个转换下，总量数据在2010年达到高点后便持续处于下行通道当中，周...   \n",
       "2      1    NaN  关注：掌上有色：隔夜财经数据评论：非农利好提前消化美元持稳  中国数据向好金属表现较好期铜领...   \n",
       "3      1    NaN  周一就被行情怼死，有些意外直接破高，因为要上非农就可以直接涨，但非农冲高回落日线收阴，按理周...   \n",
       "4      1    NaN  今年以来，区环保局围绕区委区政府提出的“干好一三五”总体思路，根据“三年活动”“五大硬仗”总...   \n",
       "\n",
       "                                       title_content  \n",
       "0  nan。【消息面解析】 　　周三(12月14日)原油盘初，油价承压，美油跌逾1%。美油交投于...  \n",
       "1  nan。贵金属各大交易平台:在这两个转换下，总量数据在2010年达到高点后便持续处于下行通道...  \n",
       "2  nan。关注：掌上有色：隔夜财经数据评论：非农利好提前消化美元持稳  中国数据向好金属表现较...  \n",
       "3  nan。周一就被行情怼死，有些意外直接破高，因为要上非农就可以直接涨，但非农冲高回落日线收阴...  \n",
       "4  nan。今年以来，区环保局围绕区委区政府提出的“干好一三五”总体思路，根据“三年活动”“五大...  "
      ]
     },
     "execution_count": 59,
     "metadata": {},
     "output_type": "execute_result"
    }
   ],
   "source": [
    "# circ_raw_tendency = pd.concat([circ_raw_class_1, circ_raw_class_2,\n",
    "#                           circ_raw_class_3, circ_raw_class_4], \n",
    "#                          axis = 0)\n",
    "\n",
    "cbrc_raw_tendency = cbrc_raw_tendency_3\n",
    "cbrc_raw_tendency['title_content'] = cbrc_raw_tendency['title'].astype(str) + '。' + cbrc_raw_tendency['content'].astype(str)\n",
    "# circ_raw_tendency['label'] = circ_raw_tendency['label'].apply(lambda x:x.strip())\n",
    "# circ_raw_tendency['index'] = range(circ_raw_tendency.shape[0])\n",
    "print('去重前： ', cbrc_raw_tendency.shape)\n",
    "cbrc_raw_tendency = cbrc_raw_tendency.drop_duplicates(subset = 'title_content')\n",
    "print('去重后： ', cbrc_raw_tendency.shape)\n",
    "cbrc_raw_tendency.head()"
   ]
  },
  {
   "cell_type": "code",
   "execution_count": 60,
   "metadata": {
    "ExecuteTime": {
     "end_time": "2018-09-10T11:02:25.237921Z",
     "start_time": "2018-09-10T11:02:25.220920Z"
    }
   },
   "outputs": [
    {
     "name": "stdout",
     "output_type": "stream",
     "text": [
      "(896, 4)\n"
     ]
    },
    {
     "data": {
      "text/plain": [
       "label\n",
       "0    398\n",
       "1    498\n",
       "Name: title_content, dtype: int64"
      ]
     },
     "execution_count": 60,
     "metadata": {},
     "output_type": "execute_result"
    }
   ],
   "source": [
    "print(cbrc_raw_tendency.shape)\n",
    "cbrc_raw_tendency.groupby('label')['title_content'].count()"
   ]
  },
  {
   "cell_type": "markdown",
   "metadata": {},
   "source": [
    "## 预处理"
   ]
  },
  {
   "cell_type": "code",
   "execution_count": 61,
   "metadata": {
    "ExecuteTime": {
     "end_time": "2018-09-10T11:02:38.379673Z",
     "start_time": "2018-09-10T11:02:25.785952Z"
    }
   },
   "outputs": [
    {
     "name": "stdout",
     "output_type": "stream",
     "text": [
      "(896, 4)\n",
      "save_folder:  cbrc_result_tendency/\n",
      "title num:  896\n",
      "content num:  896\n",
      "消息面 解析 周三 月 日 原油 盘初 油价 承压 美油 跌逾 美油 交投 美元 桶 跌幅 约 布油 交投 美元 桶 跌幅 约 OPEC 与非 OPEC 达成 减产 协议 提振 市场 信心 令 油价 近期 高位 国际 能源 署 IEA 最新 公布 月 报 显示 月 全球 原油 供应 创新 高 美国 石油 协会 API 公布 数据 显示 美国 上周 API 原油 库存 汽油 库存 录得 意外 大增 令 油价 承压 日内 公布 OPEC 月 报 美国 EIA 库存 报告 油价 后市 走向 提供 指引 周三 月 日 亚市 盘中 美元 指数 震荡 交投 关口 非美 货币 盘中 涨跌 现货 黄金 盘中 温和 反弹 美国 原油 盘中 小幅 下跌 日 内需 关注 英国 失业率 美国 PPI 零售 销售 工业 产出 EIA 原油 库存 数据 OPEC 公布 月度 原油 市场 报告 英国 央行 行长 卡尼 发表 讲话 北京 时间 周四 凌晨 点将 公布 美联储 决议 技术 面 分析 现货 原油 沥青 周初 冲高回 落后 走 技术 面 调整 收取 带有 一根 影响 阳线 走势 偏 震荡 行情 早间 跳空 低开 配合 预期 技术 面 回调 回 补缺 口 修复 均线 指标 日线图 K 线 回归 于布林 通道 内部 日内 下方 关注 日 均线 支撑 日 均线 高开 缺口 回补 位置 MACD 金叉 运行 红色 动能 缩减 迹象 RSI KDJ 黏合 勾头 向下 发散 指标 呈 弱势 操作 反弹 做空 小时 布 林带 缩口 K 线 运行 中轨 上方 受 均线 压制 下方 短线 关注 中轨 支撑 MACD 死叉 运行 短线 偏 空头 趋势 操作 建议 高 做空 现货 沥青 操作 建议 策略 做空 止损 目标 策略 跌破 反弹 做空 止损 目标 策略 首次 触及 做 止损 目标 策略 由木易 点金 撰稿 分析 以宁贵 沥青 点位 为准 仅供参考 附 国际原油 操作 建议 做空 止损 目标 跌破 反弹 做空 目标 现货 黄金 走势 弱势 修正 想 反弹 日线 均线 压制 力度 一个月 金价 遭遇 上方 均线 压制 呈 弱势 下行 趋势 周一 低位 录取 一根 小阳 十字 K 翻转 信号 值得 待定 昨天 K 线收 阴 金价 依旧 呈 弱势 日内 预计 冲高 回落 行情 操作 建议 反弹 做空 参考 位置 日 均线 布局 空单 日线图 布 林带 缩口 附图 指标 MACD RSI KDJ 呈 黏合 勾头 向上 趋势 弱势 格局 提防 突破 行情 笔者 木易 点金 金价 站稳 日 均线 依旧 高空 思路 站稳 思路 现货 黄金 操作 建议 策略 反弹 做空 止损 目标 策略 下方 首次 触及 做 止损 目标 反弹 个点 今日 重点 关注 消息面 欧元区 月 工业 产出 月 率 前值 市场 影响 美国 月 生产者 物价指数 年率 前值 市场 影响 美国 月 核心 生产者 物价指数 年率 前值 美国 月 核心 生产者 物价指数 月 率 前值 市场 影响 美国 月 生产者 物价指数 月 率 前值 市场 影响 美国 月 零售 销售 月 率 前值 市场 影响 美国 月 核心 零售 销售 月 率 前值 市场 影响 美国 月 日当周 EIA 原油 库存 万桶 前值 市场 影响 美国 月 日当周 EIA 汽油 库存 万桶 前值 美国 月 日当周 EIA 精炼油 库存 万桶 前值 市场 影响 美国 月 日当周 EIA 俄克拉荷马州 库欣 原油 库存 万桶 前值 市场 影响 美国联邦 基金 基准利率 前值 预期 市场 影响 美国 美联储 发表 政策 声明 市场 影响 美国 美联储 主席 耶伦 主持 媒体 简会 市场 影响 \n",
      "label num:  896\n"
     ]
    }
   ],
   "source": [
    "save_folder = 'cbrc_result_tendency/'\n",
    "pre_save(pre_cor_cbrc.handle_contents, cbrc_raw_tendency, save_folder)"
   ]
  },
  {
   "cell_type": "markdown",
   "metadata": {},
   "source": [
    "# 保存本文件"
   ]
  },
  {
   "cell_type": "code",
   "execution_count": null,
   "metadata": {
    "collapsed": true
   },
   "outputs": [],
   "source": [
    "if 0:\n",
    "    import datetime as dt\n",
    "    \n",
    "    def output_HTML(read_file, output_file):\n",
    "        from nbconvert import HTMLExporter\n",
    "        import codecs\n",
    "        import nbformat\n",
    "        exporter = HTMLExporter()\n",
    "        # read_file is '.ipynb', output_file is '.html'\n",
    "        output_notebook = nbformat.read(read_file, as_version=4)\n",
    "        output, resources = exporter.from_notebook_node(output_notebook)\n",
    "        codecs.open(output_file, 'w', encoding='utf-8').write(output)\n",
    "\n",
    "    html_file_folder = 'html_files'\n",
    "    if not os.path.exists(html_file_folder):\n",
    "        os.makedirs(html_file_folder)\n",
    "\n",
    "    today = dt.datetime.now().strftime('%Y%m%d')\n",
    "    current_file = 'circ_cor_model_2_train.ipynb'\n",
    "    output_file = 'html_files\\%s_%s.html'%(os.path.splitext(current_file)[0], today)\n",
    "    output_HTML(current_file, output_file)"
   ]
  }
 ],
 "metadata": {
  "kernelspec": {
   "display_name": "Python 3",
   "language": "python",
   "name": "python3"
  },
  "language_info": {
   "codemirror_mode": {
    "name": "ipython",
    "version": 3
   },
   "file_extension": ".py",
   "mimetype": "text/x-python",
   "name": "python",
   "nbconvert_exporter": "python",
   "pygments_lexer": "ipython3",
   "version": "3.6.3"
  },
  "toc": {
   "nav_menu": {},
   "number_sections": true,
   "sideBar": true,
   "skip_h1_title": false,
   "title_cell": "Table of Contents",
   "title_sidebar": "Contents",
   "toc_cell": false,
   "toc_position": {
    "height": "calc(100% - 180px)",
    "left": "10px",
    "top": "150px",
    "width": "376px"
   },
   "toc_section_display": true,
   "toc_window_display": true
  },
  "varInspector": {
   "cols": {
    "lenName": 16,
    "lenType": 16,
    "lenVar": 40
   },
   "kernels_config": {
    "python": {
     "delete_cmd_postfix": "",
     "delete_cmd_prefix": "del ",
     "library": "var_list.py",
     "varRefreshCmd": "print(var_dic_list())"
    },
    "r": {
     "delete_cmd_postfix": ") ",
     "delete_cmd_prefix": "rm(",
     "library": "var_list.r",
     "varRefreshCmd": "cat(var_dic_list()) "
    }
   },
   "types_to_exclude": [
    "module",
    "function",
    "builtin_function_or_method",
    "instance",
    "_Feature"
   ],
   "window_display": false
  }
 },
 "nbformat": 4,
 "nbformat_minor": 2
}
