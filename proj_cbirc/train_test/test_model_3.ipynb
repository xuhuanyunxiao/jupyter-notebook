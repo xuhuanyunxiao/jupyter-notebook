{
 "cells": [
  {
   "cell_type": "markdown",
   "metadata": {},
   "source": [
    "# 本文件说明\n",
    "- 数据库里导出数据，本地模型、线上模型测试"
   ]
  },
  {
   "cell_type": "markdown",
   "metadata": {},
   "source": [
    "# 基本设置"
   ]
  },
  {
   "cell_type": "code",
   "execution_count": 1,
   "metadata": {
    "ExecuteTime": {
     "end_time": "2018-10-30T08:10:59.756708Z",
     "start_time": "2018-10-30T08:10:58.694648Z"
    },
    "collapsed": true
   },
   "outputs": [],
   "source": [
    "import numpy as np\n",
    "import pandas as pd\n",
    "\n",
    "import os\n",
    "\n",
    "import requests,json\n",
    "from sklearn.externals import joblib\n",
    "\n",
    "import seaborn as sns\n",
    "import matplotlib as mpl\n",
    "import matplotlib.pyplot as plt\n",
    "%matplotlib inline\n",
    "\n",
    "import warnings\n",
    "warnings.filterwarnings('ignore')"
   ]
  },
  {
   "cell_type": "code",
   "execution_count": 2,
   "metadata": {
    "ExecuteTime": {
     "end_time": "2018-10-30T08:11:02.924890Z",
     "start_time": "2018-10-30T08:10:59.758708Z"
    }
   },
   "outputs": [
    {
     "name": "stderr",
     "output_type": "stream",
     "text": [
      "Building prefix dict from the default dictionary ...\n",
      "Dumping model to file cache C:\\Users\\ADMINI~1\\AppData\\Local\\Temp\\jieba.cache\n",
      "Loading model cost 1.018 seconds.\n",
      "Prefix dict has been built succesfully.\n"
     ]
    }
   ],
   "source": [
    "from toolkits.setup.date_time import get_day_list\n",
    "from toolkits.setup import specific_func\n",
    "\n",
    "from toolkits.nlp import pre_cor_circ\n",
    "from toolkits.nlp import pre_cor_cbrc"
   ]
  },
  {
   "cell_type": "markdown",
   "metadata": {
    "collapsed": true
   },
   "source": [
    "## 一些函数"
   ]
  },
  {
   "cell_type": "code",
   "execution_count": 3,
   "metadata": {
    "ExecuteTime": {
     "end_time": "2018-10-30T08:11:02.946891Z",
     "start_time": "2018-10-30T08:11:02.926890Z"
    },
    "collapsed": true
   },
   "outputs": [],
   "source": [
    "def get_server_res_yjh(data, url, col_name):\n",
    "    '''\n",
    "    服务器接口测试程序\n",
    "    传入 dict, 传出 DataFrame\n",
    "    '''\n",
    "    # data = {'record':[{'id':0,'title':'ss','content':'zzz'},]}\n",
    "    # data = {\"record\":marked_human_data.iloc[:5,:3].to_dict(orient = 'records')}\n",
    "    # url \"http://47.93.77.19:10000/correlation_negative\"\n",
    "    headers={'content-type':'application/json'}\n",
    "    result = requests.post(url,\n",
    "                      data = json.dumps(data),\n",
    "                      headers=headers, allow_redirects=True)\n",
    "    # print(result.text)\n",
    "    json_data = json.loads(result.text)\n",
    "    parse_data = []\n",
    "#     elapsed_time = json_data['elapsed_time']\n",
    "    for i in range(len(json_data['docs'])):\n",
    "        parse_data.append([json_data['docs'][i]['id'],\n",
    "                          json_data['docs'][i][col_name]])\n",
    "    parse_data = pd.DataFrame(parse_data, columns = ['id', col_name])    \n",
    "    return parse_data #, elapsed_time"
   ]
  },
  {
   "cell_type": "code",
   "execution_count": 4,
   "metadata": {
    "ExecuteTime": {
     "end_time": "2018-10-30T08:11:03.034896Z",
     "start_time": "2018-10-30T08:11:02.949891Z"
    },
    "collapsed": true
   },
   "outputs": [],
   "source": [
    "def get_serve_data_yjh(day_list, sql_one_day, url, col_name, save_filename):    \n",
    "    chunksize = 1000\n",
    "    for day_select in day_list:\n",
    "        print('-- day_select: ', day_select)\n",
    "        mysql_data = pd.read_sql(eval(sql_one_day), engine, chunksize= chunksize)\n",
    "        num = 1\n",
    "        combined_data = pd.DataFrame()\n",
    "        for tmp_data in mysql_data:  \n",
    "            print('---- loop num: ', num, 'tmp_data: ', tmp_data.shape)\n",
    "            data = {\"record\":tmp_data.loc[:,['id', 'title' ,'content']].to_dict(orient = 'records')}\n",
    "            parse_data = get_server_res_yjh(data, url, col_name)\n",
    "\n",
    "            parse_data.columns = ['id', 'predict_label']\n",
    "            \n",
    "            parse_data['label'] = ''\n",
    "            combined_tmp = pd.merge(parse_data, tmp_data, on = 'id', how = 'inner')\n",
    "            combined_data = pd.concat([combined_tmp, combined_data])\n",
    "\n",
    "        combined_data['predict_label'] = combined_data['predict_label'].apply(lambda x:class_name_dict[x])\n",
    "        combined_data['group_id'] = combined_data['group_id'].apply(lambda x:group_dict[str(x)])\n",
    "        combined_data.to_excel(eval(save_filename), index = False)\n",
    "        print(combined_data['predict_label'].value_counts())"
   ]
  },
  {
   "cell_type": "code",
   "execution_count": 5,
   "metadata": {
    "ExecuteTime": {
     "end_time": "2018-10-30T08:11:03.094899Z",
     "start_time": "2018-10-30T08:11:03.037896Z"
    },
    "collapsed": true
   },
   "outputs": [],
   "source": [
    "def get_server_res(data, url, col_name):\n",
    "    '''\n",
    "    服务器接口测试程序\n",
    "    传入 dict, 传出 DataFrame\n",
    "    '''\n",
    "    # data = {'record':[{'id':0,'title':'ss','content':'zzz'},]}\n",
    "    # data = {\"record\":marked_human_data.iloc[:5,:3].to_dict(orient = 'records')}\n",
    "    # url \"http://47.93.77.19:10000/correlation_negative\"\n",
    "    headers={'content-type':'application/json'}\n",
    "    result = requests.post(url,\n",
    "                      data = json.dumps(data),\n",
    "                      headers=headers, allow_redirects=True)\n",
    "    # print(result.text)\n",
    "    json_data = json.loads(result.text)\n",
    "    parse_data = []\n",
    "    elapsed_time = json_data['elapsed_time']\n",
    "    for i in range(len(json_data['docs'])):\n",
    "        parse_data.append([json_data['docs'][i]['id'],\n",
    "                          json_data['docs'][i][col_name]])\n",
    "    parse_data = pd.DataFrame(parse_data, columns = ['id', col_name])    \n",
    "    return parse_data, elapsed_time"
   ]
  },
  {
   "cell_type": "code",
   "execution_count": 6,
   "metadata": {
    "ExecuteTime": {
     "end_time": "2018-10-30T08:11:03.203906Z",
     "start_time": "2018-10-30T08:11:03.099900Z"
    },
    "collapsed": true
   },
   "outputs": [],
   "source": [
    "def get_serve_data(day_list, sql_one_day, url, col_name):\n",
    "    combined_data = pd.DataFrame()\n",
    "    for day_select in day_list:\n",
    "        print('-- day_select: ', day_select)\n",
    "        mysql_data = pd.read_sql(eval(sql_one_day), engine)\n",
    "        print('去空值前：', mysql_data.shape)\n",
    "        mysql_data = mysql_data.drop_duplicates(subset = ['title', 'content'])\n",
    "        print('去空值后：', mysql_data.shape)\n",
    "        data = {\"record\":mysql_data.loc[:,['id', 'title' ,'content']].to_dict(orient = 'records')}\n",
    "        \n",
    "        parse_data, elapsed_time = get_server_res(data, url)\n",
    "        print('elapsed_time: ', elapsed_time)\n",
    "        \n",
    "        parse_data.columns = ['id', 'predict_label']\n",
    "        parse_data['predict_label'] = parse_data['predict_label'].apply(lambda x:class_name_dict[x])\n",
    "        parse_data['label'] = ''\n",
    "        combined_cor = pd.merge(parse_data, mysql_data, on = 'id', how = 'inner')\n",
    "        combined_data = pd.concat([combined_data, combined_cor], axis = 0)\n",
    "\n",
    "        print(combined_cor['predict_label'].value_counts())\n",
    "    return combined_data"
   ]
  },
  {
   "cell_type": "markdown",
   "metadata": {},
   "source": [
    "# 基本信息"
   ]
  },
  {
   "cell_type": "code",
   "execution_count": 7,
   "metadata": {
    "ExecuteTime": {
     "end_time": "2018-10-30T08:11:03.307911Z",
     "start_time": "2018-10-30T08:11:03.206906Z"
    }
   },
   "outputs": [
    {
     "data": {
      "text/plain": [
       "{0: '补录',\n",
       " 1: '监管',\n",
       " 2: '行业',\n",
       " 3: '产品销售',\n",
       " 4: '资本市场',\n",
       " 5: '公司内部管理',\n",
       " 6: '消费服务',\n",
       " 7: '其他相关报道',\n",
       " 8: '噪音'}"
      ]
     },
     "execution_count": 7,
     "metadata": {},
     "output_type": "execute_result"
    }
   ],
   "source": [
    "label_dic={'补录':0,'监管':1,'行业':2,'产品销售':3,'资本市场':4,'公司内部管理':5,'消费服务':6,'其他相关报道':7,'噪音':8}\n",
    "class_name_dict = {v: k for k, v in label_dic.items()}\n",
    "class_name_dict"
   ]
  },
  {
   "cell_type": "code",
   "execution_count": 8,
   "metadata": {
    "ExecuteTime": {
     "end_time": "2018-10-30T08:11:03.402917Z",
     "start_time": "2018-10-30T08:11:03.313912Z"
    }
   },
   "outputs": [
    {
     "data": {
      "text/plain": [
       "{'1': '新闻',\n",
       " '11': '微信',\n",
       " '13': '新闻客户端',\n",
       " '15': '推特',\n",
       " '2': '论坛',\n",
       " '3': '博客',\n",
       " '4': '微博',\n",
       " '5': '纸媒',\n",
       " '6': '视频',\n",
       " '7': '外媒',\n",
       " '8': '广播',\n",
       " '9': '电视'}"
      ]
     },
     "execution_count": 8,
     "metadata": {},
     "output_type": "execute_result"
    }
   ],
   "source": [
    "group = '1-新闻，2-论坛，3-博客，4-微博，5-纸媒，6-视频，7-外媒，8-广播，9-电视，11-微信，13-新闻客户端，15-推特'\n",
    "group_dict = dict([x.split('-') for x in group.split('，')])\n",
    "group_dict"
   ]
  },
  {
   "cell_type": "markdown",
   "metadata": {
    "collapsed": true
   },
   "source": [
    "# 保险业--旧"
   ]
  },
  {
   "cell_type": "code",
   "execution_count": 9,
   "metadata": {
    "ExecuteTime": {
     "end_time": "2018-10-19T01:36:12.988343Z",
     "start_time": "2018-10-19T01:36:02.587748Z"
    },
    "collapsed": true
   },
   "outputs": [],
   "source": [
    "engine = specific_func.get_engine('circ')"
   ]
  },
  {
   "cell_type": "markdown",
   "metadata": {
    "collapsed": true
   },
   "source": [
    "## mysql 数据"
   ]
  },
  {
   "cell_type": "code",
   "execution_count": 17,
   "metadata": {
    "ExecuteTime": {
     "end_time": "2018-10-19T01:47:02.617020Z",
     "start_time": "2018-10-19T01:47:02.592018Z"
    }
   },
   "outputs": [
    {
     "name": "stdout",
     "output_type": "stream",
     "text": [
      "['2018-10-18', '2018-10-19']\n"
     ]
    }
   ],
   "source": [
    "# day_select = '2018-09-09'\n",
    "day_list = get_day_list('2018-10-17', '2018-10-19')\n",
    "print(day_list)"
   ]
  },
  {
   "cell_type": "markdown",
   "metadata": {},
   "source": [
    "### 八分类"
   ]
  },
  {
   "cell_type": "markdown",
   "metadata": {},
   "source": [
    "#### 获取数据"
   ]
  },
  {
   "cell_type": "code",
   "execution_count": 16,
   "metadata": {
    "ExecuteTime": {
     "end_time": "2018-10-19T01:46:11.066779Z",
     "start_time": "2018-10-19T01:45:13.275482Z"
    }
   },
   "outputs": [
    {
     "name": "stdout",
     "output_type": "stream",
     "text": [
      "-- day_select:  2018-10-18\n",
      "circ_cor:  (2886, 6)\n",
      "circ_uncor:  (3506, 6)\n",
      "去重前： (6392, 6)\n",
      "去重后： (5306, 6)\n",
      "去空值后： (5306, 6)\n",
      "(5306, 7)\n",
      "噪音        2420\n",
      "资本市场       759\n",
      "监管         549\n",
      "公司内部管理     387\n",
      "行业         327\n",
      "消费服务       318\n",
      "其他相关报道     310\n",
      "产品销售       232\n",
      "补录           4\n",
      "Name: predict_label, dtype: int64\n"
     ]
    }
   ],
   "source": [
    "for day_select in day_list:\n",
    "    print('-- day_select: ', day_select)\n",
    "\n",
    "    # 相关数据\n",
    "    sql_one_day = \"select t1.id, t1.group_id,t1.classify as predict_label,\\\n",
    "                        t1.title,t2.center as content, t1.publishtime as publishtime \\\n",
    "                        from wise_web_docinfo t1, wise_web_docinfo_center t2 \\\n",
    "                            where t1.id=t2.doc_id \\\n",
    "                                  and  date_format(t1.publishtime, '%%Y-%%m-%%d') = '{0}' \\\n",
    "                                  group by t1.titlehash\".format(day_select) # \n",
    "    # # titlehash 去重后\n",
    "    circ_cor = pd.read_sql(sql_one_day, engine)\n",
    "    print('circ_cor: ', circ_cor.shape  )\n",
    "    \n",
    "    # 不相关数据\n",
    "    sql_one_day = \"select t1.id, t1.group_id,t1.title,t2.center as content, t1.publishtime as publishtime \\\n",
    "                        from wise_web_docinfo_uncorr t1, wise_web_docinfo_center_uncurr t2 \\\n",
    "                            where t1.id=t2.doc_id \\\n",
    "                                  and t1.publishtime >= '{0} 8:00:00' \\\n",
    "                              and t1.publishtime <= '{0} 14:00:00'\".format(day_select)\n",
    "    # 一段时间\n",
    "    circ_uncor = pd.read_sql(sql_one_day, engine)\n",
    "    circ_uncor.insert(2, 'predict_label', 8) # 噪音\n",
    "    print('circ_uncor: ', circ_uncor.shape)\n",
    "\n",
    "    circ_data = pd.concat([circ_cor, circ_uncor], axis = 0)\n",
    "    print('去重前：', circ_data.shape)\n",
    "    circ_data = circ_data.drop_duplicates(subset = 'title')\n",
    "    print('去重后：', circ_data.shape)  \n",
    "    circ_data = circ_data.dropna(subset = ['content'], axis = 0)\n",
    "    print('去空值后：', circ_data.shape)  \n",
    "\n",
    "    circ_data['predict_label'] = circ_data['predict_label'].apply(lambda x:class_name_dict[x])\n",
    "    circ_data['group_id'] = circ_data['group_id'].apply(lambda x:group_dict[str(x)])\n",
    "    circ_data.insert(3, 'label', '')\n",
    "    fea_filename = 'circ_result_class/result/circ_class_predict_mysql_%s.xlsx'%day_select\n",
    "    circ_data.to_excel(fea_filename, index = False)\n",
    "    print(circ_data.shape)\n",
    "    print(circ_data['predict_label'].value_counts())"
   ]
  },
  {
   "cell_type": "markdown",
   "metadata": {},
   "source": [
    "#### 合并 & 保存"
   ]
  },
  {
   "cell_type": "code",
   "execution_count": 18,
   "metadata": {
    "ExecuteTime": {
     "end_time": "2018-10-19T01:47:09.527799Z",
     "start_time": "2018-10-19T01:47:08.242725Z"
    }
   },
   "outputs": [
    {
     "name": "stdout",
     "output_type": "stream",
     "text": [
      "(8039, 7)\n",
      "去重前： (8039, 7)\n",
      "去重后： (6669, 7)\n",
      "去空值后： (6668, 7)\n",
      "噪音        3714\n",
      "资本市场       783\n",
      "监管         569\n",
      "公司内部管理     395\n",
      "行业         336\n",
      "消费服务       324\n",
      "其他相关报道     313\n",
      "产品销售       234\n",
      "Name: predict_label, dtype: int64\n"
     ]
    },
    {
     "data": {
      "text/html": [
       "<div>\n",
       "<style scoped>\n",
       "    .dataframe tbody tr th:only-of-type {\n",
       "        vertical-align: middle;\n",
       "    }\n",
       "\n",
       "    .dataframe tbody tr th {\n",
       "        vertical-align: top;\n",
       "    }\n",
       "\n",
       "    .dataframe thead th {\n",
       "        text-align: right;\n",
       "    }\n",
       "</style>\n",
       "<table border=\"1\" class=\"dataframe\">\n",
       "  <thead>\n",
       "    <tr style=\"text-align: right;\">\n",
       "      <th></th>\n",
       "      <th>id</th>\n",
       "      <th>group_id</th>\n",
       "      <th>predict_label</th>\n",
       "      <th>label</th>\n",
       "      <th>title</th>\n",
       "      <th>content</th>\n",
       "      <th>publishtime</th>\n",
       "    </tr>\n",
       "  </thead>\n",
       "  <tbody>\n",
       "    <tr>\n",
       "      <th>0</th>\n",
       "      <td>11434656</td>\n",
       "      <td>新闻</td>\n",
       "      <td>监管</td>\n",
       "      <td>NaN</td>\n",
       "      <td>银保监局整合加速：地方监管36名筹备组负责人已确定</td>\n",
       "      <td>独家丨最全！银保监局整合加速：36名筹备组负责人名单　　21世纪经济报道 21财经APP...</td>\n",
       "      <td>2018-10-18 22:06:00</td>\n",
       "    </tr>\n",
       "    <tr>\n",
       "      <th>1</th>\n",
       "      <td>11434782</td>\n",
       "      <td>新闻</td>\n",
       "      <td>资本市场</td>\n",
       "      <td>NaN</td>\n",
       "      <td>中国人寿(601628)融资融券信息(10-18)</td>\n",
       "      <td>中国人寿(601628)融资融券信息(10-18)2018年10月19日 07:39来源：东...</td>\n",
       "      <td>2018-10-19 07:39:13</td>\n",
       "    </tr>\n",
       "    <tr>\n",
       "      <th>2</th>\n",
       "      <td>11432632</td>\n",
       "      <td>新闻</td>\n",
       "      <td>产品销售</td>\n",
       "      <td>NaN</td>\n",
       "      <td>相互保2天吸引超150万人参与，专家预计每年费用不会超过一两百</td>\n",
       "      <td>(图片)　　近日，蚂蚁保险联合信美相互推出了一种互助型健康保障服务“相互保”，在他人生病时参...</td>\n",
       "      <td>2018-10-19 00:00:00</td>\n",
       "    </tr>\n",
       "    <tr>\n",
       "      <th>3</th>\n",
       "      <td>11425553</td>\n",
       "      <td>微博</td>\n",
       "      <td>公司内部管理</td>\n",
       "      <td>NaN</td>\n",
       "      <td>【银保监会合并后首张保险业罚单出炉！新华保险回应：严肃整改 引以为戒】银保监会今日下发监管合...</td>\n",
       "      <td>【银保监会合并后首张保险业罚单出炉！新华保险回应：严肃整改 引以为戒】银保监会今日下发监管合...</td>\n",
       "      <td>2018-10-18 18:14:19</td>\n",
       "    </tr>\n",
       "    <tr>\n",
       "      <th>4</th>\n",
       "      <td>11425801</td>\n",
       "      <td>新闻</td>\n",
       "      <td>资本市场</td>\n",
       "      <td>NaN</td>\n",
       "      <td>今日股市收评：短线变盘行情或一触即发</td>\n",
       "      <td>0</td>\n",
       "      <td>2018-10-18 18:15:00</td>\n",
       "    </tr>\n",
       "  </tbody>\n",
       "</table>\n",
       "</div>"
      ],
      "text/plain": [
       "         id group_id predict_label  label  \\\n",
       "0  11434656       新闻            监管    NaN   \n",
       "1  11434782       新闻          资本市场    NaN   \n",
       "2  11432632       新闻          产品销售    NaN   \n",
       "3  11425553       微博        公司内部管理    NaN   \n",
       "4  11425801       新闻          资本市场    NaN   \n",
       "\n",
       "                                               title  \\\n",
       "0                          银保监局整合加速：地方监管36名筹备组负责人已确定   \n",
       "1                          中国人寿(601628)融资融券信息(10-18)   \n",
       "2                    相互保2天吸引超150万人参与，专家预计每年费用不会超过一两百   \n",
       "3  【银保监会合并后首张保险业罚单出炉！新华保险回应：严肃整改 引以为戒】银保监会今日下发监管合...   \n",
       "4                                 今日股市收评：短线变盘行情或一触即发   \n",
       "\n",
       "                                             content         publishtime  \n",
       "0  　　独家丨最全！银保监局整合加速：36名筹备组负责人名单　　21世纪经济报道 21财经APP... 2018-10-18 22:06:00  \n",
       "1  中国人寿(601628)融资融券信息(10-18)2018年10月19日 07:39来源：东... 2018-10-19 07:39:13  \n",
       "2  (图片)　　近日，蚂蚁保险联合信美相互推出了一种互助型健康保障服务“相互保”，在他人生病时参... 2018-10-19 00:00:00  \n",
       "3  【银保监会合并后首张保险业罚单出炉！新华保险回应：严肃整改 引以为戒】银保监会今日下发监管合... 2018-10-18 18:14:19  \n",
       "4                                                  0 2018-10-18 18:15:00  "
      ]
     },
     "execution_count": 18,
     "metadata": {},
     "output_type": "execute_result"
    }
   ],
   "source": [
    "combined_data = pd.DataFrame()\n",
    "for day_select in day_list:\n",
    "    tmp_data = pd.read_excel('circ_result_class/result/circ_class_predict_mysql_%s.xlsx'%day_select)\n",
    "    combined_data = pd.concat([combined_data, tmp_data], axis = 0)\n",
    "\n",
    "combined_data = combined_data[combined_data['predict_label'] != '补录']\n",
    "print(combined_data.shape)  \n",
    "print('去重前：', combined_data.shape)\n",
    "combined_data = combined_data.drop_duplicates(subset = 'title')\n",
    "print('去重后：', combined_data.shape)  \n",
    "combined_data = combined_data.dropna(subset = ['content'], axis = 0)\n",
    "print('去空值后：', combined_data.shape)  \n",
    "\n",
    "print(combined_data['predict_label'].value_counts())\n",
    "combined_data.head()"
   ]
  },
  {
   "cell_type": "code",
   "execution_count": 21,
   "metadata": {
    "ExecuteTime": {
     "end_time": "2018-10-19T01:48:57.087704Z",
     "start_time": "2018-10-19T01:48:55.908240Z"
    }
   },
   "outputs": [
    {
     "name": "stdout",
     "output_type": "stream",
     "text": [
      "噪音        3714\n",
      "资本市场       783\n",
      "监管         569\n",
      "公司内部管理     395\n",
      "行业         336\n",
      "消费服务       324\n",
      "其他相关报道     313\n",
      "产品销售       234\n",
      "Name: predict_label, dtype: int64\n"
     ]
    }
   ],
   "source": [
    "fea_filename = 'circ_result_class/result/circ_class_predict_mysql_20181019(1018-1019).xlsx'\n",
    "# sel_col = ['行业','资本市场', '消费服务', '公司内部管理', '监管']\n",
    "# sel_col = ['其他相关报道','行业',  '公司内部管理', '监管']\n",
    "sel_col = combined_data['predict_label'].unique().tolist()\n",
    "sel_data = combined_data[combined_data['predict_label'].isin(sel_col)]\n",
    "print(sel_data['predict_label'].value_counts())\n",
    "with pd.ExcelWriter(fea_filename) as writer:\n",
    "    for label in sel_data['predict_label'].unique():\n",
    "        tmp_data = sel_data[sel_data['predict_label'] == label]\n",
    "        if tmp_data.shape[0] > 200:\n",
    "            N = 200\n",
    "        else :\n",
    "            N = tmp_data.shape[0]\n",
    "        if label == '公司内部管理': \n",
    "            N = 200\n",
    "        tmp_data.sample(n = N, axis = 0, random_state=3).to_excel(writer,label, index = False)\n",
    "    \n",
    "    writer.save()"
   ]
  },
  {
   "cell_type": "markdown",
   "metadata": {},
   "source": [
    "## 本地模型"
   ]
  },
  {
   "cell_type": "markdown",
   "metadata": {},
   "source": [
    "### 八分类"
   ]
  },
  {
   "cell_type": "code",
   "execution_count": 19,
   "metadata": {
    "ExecuteTime": {
     "end_time": "2018-09-20T03:26:26.197443Z",
     "start_time": "2018-09-20T03:26:23.897915Z"
    },
    "collapsed": true
   },
   "outputs": [],
   "source": [
    "from sklearn.externals import joblib\n",
    "pipeline_old = joblib.load( \"model/circ_8classifier_1015.pkl.z\")"
   ]
  },
  {
   "cell_type": "code",
   "execution_count": 24,
   "metadata": {
    "ExecuteTime": {
     "end_time": "2018-09-20T03:30:52.594390Z",
     "start_time": "2018-09-20T03:28:37.834752Z"
    }
   },
   "outputs": [
    {
     "name": "stdout",
     "output_type": "stream",
     "text": [
      "8511\n"
     ]
    }
   ],
   "source": [
    "combined_data['title_content'] = combined_data['title'].astype(str) + '。' + combined_data['content'].astype(str)\n",
    "title_content = pre_cor_circ.handle_contents(combined_data['title_content'].tolist())\n",
    "print(len(title_content))"
   ]
  },
  {
   "cell_type": "code",
   "execution_count": null,
   "metadata": {
    "ExecuteTime": {
     "start_time": "2018-09-20T03:50:00.412Z"
    },
    "collapsed": true
   },
   "outputs": [],
   "source": [
    "local_label = pipeline_old.predict(title_content)\n",
    "local_proba = pipeline_old.predict_proba(title_content)\n",
    "\n",
    "combined_data['local_label'] = local_label\n",
    "combined_data['local_proba'] = local_proba.max(axis = 1)\n",
    "combined_data['local_label'] = combined_data['local_label'].apply(lambda x:class_name_dict[x])\n",
    "print(combined_data.shape)\n",
    "combined_data.iloc[:2, :]"
   ]
  },
  {
   "cell_type": "markdown",
   "metadata": {},
   "source": [
    "#### 线上线下一致性: mysql 与 local"
   ]
  },
  {
   "cell_type": "code",
   "execution_count": 34,
   "metadata": {
    "ExecuteTime": {
     "end_time": "2018-09-20T03:48:25.094577Z",
     "start_time": "2018-09-20T03:48:24.380536Z"
    }
   },
   "outputs": [
    {
     "name": "stdout",
     "output_type": "stream",
     "text": [
      "0.9836681941017507\n",
      "Right    8372\n",
      "Wrong     139\n",
      "Name: R_W, dtype: int64\n"
     ]
    },
    {
     "data": {
      "text/html": [
       "<div>\n",
       "<style scoped>\n",
       "    .dataframe tbody tr th:only-of-type {\n",
       "        vertical-align: middle;\n",
       "    }\n",
       "\n",
       "    .dataframe tbody tr th {\n",
       "        vertical-align: top;\n",
       "    }\n",
       "\n",
       "    .dataframe thead tr th {\n",
       "        text-align: left;\n",
       "    }\n",
       "\n",
       "    .dataframe thead tr:last-of-type th {\n",
       "        text-align: right;\n",
       "    }\n",
       "</style>\n",
       "<table border=\"1\" class=\"dataframe\">\n",
       "  <thead>\n",
       "    <tr>\n",
       "      <th></th>\n",
       "      <th colspan=\"9\" halign=\"left\">len</th>\n",
       "    </tr>\n",
       "    <tr>\n",
       "      <th></th>\n",
       "      <th colspan=\"9\" halign=\"left\">id</th>\n",
       "    </tr>\n",
       "    <tr>\n",
       "      <th>predict_label</th>\n",
       "      <th>产品销售</th>\n",
       "      <th>公司内部管理</th>\n",
       "      <th>其他相关报道</th>\n",
       "      <th>噪音</th>\n",
       "      <th>消费服务</th>\n",
       "      <th>监管</th>\n",
       "      <th>行业</th>\n",
       "      <th>资本市场</th>\n",
       "      <th>All</th>\n",
       "    </tr>\n",
       "    <tr>\n",
       "      <th>local_label</th>\n",
       "      <th></th>\n",
       "      <th></th>\n",
       "      <th></th>\n",
       "      <th></th>\n",
       "      <th></th>\n",
       "      <th></th>\n",
       "      <th></th>\n",
       "      <th></th>\n",
       "      <th></th>\n",
       "    </tr>\n",
       "  </thead>\n",
       "  <tbody>\n",
       "    <tr>\n",
       "      <th>产品销售</th>\n",
       "      <td>0</td>\n",
       "      <td>1</td>\n",
       "      <td>1</td>\n",
       "      <td>2</td>\n",
       "      <td>0</td>\n",
       "      <td>0</td>\n",
       "      <td>0</td>\n",
       "      <td>0</td>\n",
       "      <td>4</td>\n",
       "    </tr>\n",
       "    <tr>\n",
       "      <th>公司内部管理</th>\n",
       "      <td>1</td>\n",
       "      <td>0</td>\n",
       "      <td>3</td>\n",
       "      <td>6</td>\n",
       "      <td>0</td>\n",
       "      <td>0</td>\n",
       "      <td>0</td>\n",
       "      <td>0</td>\n",
       "      <td>10</td>\n",
       "    </tr>\n",
       "    <tr>\n",
       "      <th>其他相关报道</th>\n",
       "      <td>0</td>\n",
       "      <td>4</td>\n",
       "      <td>0</td>\n",
       "      <td>6</td>\n",
       "      <td>0</td>\n",
       "      <td>0</td>\n",
       "      <td>1</td>\n",
       "      <td>0</td>\n",
       "      <td>11</td>\n",
       "    </tr>\n",
       "    <tr>\n",
       "      <th>噪音</th>\n",
       "      <td>17</td>\n",
       "      <td>2</td>\n",
       "      <td>2</td>\n",
       "      <td>0</td>\n",
       "      <td>1</td>\n",
       "      <td>2</td>\n",
       "      <td>4</td>\n",
       "      <td>12</td>\n",
       "      <td>40</td>\n",
       "    </tr>\n",
       "    <tr>\n",
       "      <th>消费服务</th>\n",
       "      <td>0</td>\n",
       "      <td>1</td>\n",
       "      <td>1</td>\n",
       "      <td>9</td>\n",
       "      <td>0</td>\n",
       "      <td>0</td>\n",
       "      <td>1</td>\n",
       "      <td>1</td>\n",
       "      <td>13</td>\n",
       "    </tr>\n",
       "    <tr>\n",
       "      <th>监管</th>\n",
       "      <td>0</td>\n",
       "      <td>0</td>\n",
       "      <td>0</td>\n",
       "      <td>17</td>\n",
       "      <td>3</td>\n",
       "      <td>0</td>\n",
       "      <td>2</td>\n",
       "      <td>0</td>\n",
       "      <td>22</td>\n",
       "    </tr>\n",
       "    <tr>\n",
       "      <th>行业</th>\n",
       "      <td>2</td>\n",
       "      <td>2</td>\n",
       "      <td>0</td>\n",
       "      <td>5</td>\n",
       "      <td>4</td>\n",
       "      <td>1</td>\n",
       "      <td>0</td>\n",
       "      <td>0</td>\n",
       "      <td>14</td>\n",
       "    </tr>\n",
       "    <tr>\n",
       "      <th>资本市场</th>\n",
       "      <td>0</td>\n",
       "      <td>0</td>\n",
       "      <td>0</td>\n",
       "      <td>25</td>\n",
       "      <td>0</td>\n",
       "      <td>0</td>\n",
       "      <td>0</td>\n",
       "      <td>0</td>\n",
       "      <td>25</td>\n",
       "    </tr>\n",
       "    <tr>\n",
       "      <th>All</th>\n",
       "      <td>20</td>\n",
       "      <td>10</td>\n",
       "      <td>7</td>\n",
       "      <td>70</td>\n",
       "      <td>8</td>\n",
       "      <td>3</td>\n",
       "      <td>8</td>\n",
       "      <td>13</td>\n",
       "      <td>139</td>\n",
       "    </tr>\n",
       "  </tbody>\n",
       "</table>\n",
       "</div>"
      ],
      "text/plain": [
       "               len                                       \n",
       "                id                                       \n",
       "predict_label 产品销售 公司内部管理 其他相关报道  噪音 消费服务 监管 行业 资本市场  All\n",
       "local_label                                              \n",
       "产品销售             0      1      1   2    0  0  0    0    4\n",
       "公司内部管理           1      0      3   6    0  0  0    0   10\n",
       "其他相关报道           0      4      0   6    0  0  1    0   11\n",
       "噪音              17      2      2   0    1  2  4   12   40\n",
       "消费服务             0      1      1   9    0  0  1    1   13\n",
       "监管               0      0      0  17    3  0  2    0   22\n",
       "行业               2      2      0   5    4  1  0    0   14\n",
       "资本市场             0      0      0  25    0  0  0    0   25\n",
       "All             20     10      7  70    8  3  8   13  139"
      ]
     },
     "execution_count": 34,
     "metadata": {},
     "output_type": "execute_result"
    }
   ],
   "source": [
    "combined_data['R_W'] = combined_data.apply(lambda x: 'Right' if x['local_label'] == x['predict_label'] else 'Wrong', axis = 1)\n",
    "print(combined_data[combined_data['R_W'] == 'Right'].shape[0]/combined_data.shape[0])\n",
    "print(combined_data['R_W'].value_counts())\n",
    "combined_data[combined_data['R_W'] == 'Wrong'].pivot_table(index = ['local_label'], columns = ['predict_label'], \n",
    "                                                            aggfunc = [len], values = ['id'], \n",
    "                                                            fill_value = 0, margins = True)"
   ]
  },
  {
   "cell_type": "markdown",
   "metadata": {},
   "source": [
    "#### 线上线下一致性: online 与 local"
   ]
  },
  {
   "cell_type": "code",
   "execution_count": null,
   "metadata": {
    "collapsed": true
   },
   "outputs": [],
   "source": [
    "combined_data['id'] = range(combined_data.shape[0])\n",
    "combined_data['title'] = combined_data['title'].astype(str) \n",
    "combined_data['content'] = combined_data['content'].astype(str)\n",
    "data = {\"record\":combined_data.loc[:,['id', 'title' ,'content']].to_dict(orient = 'records')}\n",
    "url = \"http://47.93.77.19:10000/judge_correlation_i\"\n",
    "col_name = 'cor'\n",
    "parse_data, elapsed_time = get_server_res(data, url, col_name)\n",
    "parse_data.columns = ['id', 'online_label']\n",
    "parse_data.head()"
   ]
  },
  {
   "cell_type": "code",
   "execution_count": null,
   "metadata": {
    "collapsed": true
   },
   "outputs": [],
   "source": [
    "combined_data = pd.merge(combined_data, parse_data, on  = 'id')\n",
    "print(combined_data.shape)\n",
    "combined_data['O_R_W'] = combined_data.apply(lambda x: 'Right' if x['local_label'] == x['online_label'] else 'Wrong', axis = 1)\n",
    "print(combined_data[combined_data['O_R_W'] == 'Right'].shape[0]/combined_data.shape[0])\n",
    "print(combined_data['O_R_W'].value_counts())\n",
    "combined_data[combined_data['O_R_W'] == 'Wrong'].pivot_table(index = ['local_label'], columns = ['online_label'], \n",
    "                                                            aggfunc = [len], values = ['urlhash'], \n",
    "                                                            fill_value = 0, margins = True)"
   ]
  },
  {
   "cell_type": "markdown",
   "metadata": {},
   "source": [
    "## 线上模型"
   ]
  },
  {
   "cell_type": "markdown",
   "metadata": {
    "collapsed": true
   },
   "source": [
    "### 八分类"
   ]
  },
  {
   "cell_type": "code",
   "execution_count": null,
   "metadata": {
    "collapsed": true
   },
   "outputs": [],
   "source": []
  },
  {
   "cell_type": "code",
   "execution_count": null,
   "metadata": {
    "collapsed": true
   },
   "outputs": [],
   "source": []
  },
  {
   "cell_type": "code",
   "execution_count": null,
   "metadata": {
    "collapsed": true
   },
   "outputs": [],
   "source": []
  },
  {
   "cell_type": "code",
   "execution_count": null,
   "metadata": {
    "collapsed": true
   },
   "outputs": [],
   "source": []
  },
  {
   "cell_type": "code",
   "execution_count": null,
   "metadata": {
    "collapsed": true
   },
   "outputs": [],
   "source": []
  },
  {
   "cell_type": "markdown",
   "metadata": {
    "collapsed": true
   },
   "source": [
    "# 银行业--旧"
   ]
  },
  {
   "cell_type": "code",
   "execution_count": 9,
   "metadata": {
    "ExecuteTime": {
     "end_time": "2018-10-30T08:11:08.787225Z",
     "start_time": "2018-10-30T08:11:08.537211Z"
    },
    "collapsed": true
   },
   "outputs": [],
   "source": [
    "engine = specific_func.get_engine('cbrc')"
   ]
  },
  {
   "cell_type": "code",
   "execution_count": 10,
   "metadata": {
    "ExecuteTime": {
     "end_time": "2018-10-30T08:11:09.921290Z",
     "start_time": "2018-10-30T08:11:09.907289Z"
    }
   },
   "outputs": [
    {
     "name": "stdout",
     "output_type": "stream",
     "text": [
      "['2018-10-24', '2018-10-25', '2018-10-26', '2018-10-27', '2018-10-28', '2018-10-29']\n"
     ]
    }
   ],
   "source": [
    "# day_select = '2018-09-09'\n",
    "day_list = get_day_list('2018-10-23', '2018-10-29')\n",
    "print(day_list)"
   ]
  },
  {
   "cell_type": "markdown",
   "metadata": {
    "collapsed": true
   },
   "source": [
    "## mysql 数据"
   ]
  },
  {
   "cell_type": "markdown",
   "metadata": {},
   "source": [
    "### 八分类数据"
   ]
  },
  {
   "cell_type": "markdown",
   "metadata": {},
   "source": [
    "#### 获取数据"
   ]
  },
  {
   "cell_type": "code",
   "execution_count": 59,
   "metadata": {
    "ExecuteTime": {
     "end_time": "2018-10-08T05:47:55.426283Z",
     "start_time": "2018-10-08T05:47:55.411282Z"
    },
    "collapsed": true
   },
   "outputs": [],
   "source": [
    "# sql_circ_cor_one_day = \"select t1.id, t1.publishtime, t1.title,t2.text as content \\\n",
    "#                             from elint_web_docinfo t1, wise_web_docinfo_text t2 \\\n",
    "#                                 where t1.id = t2.doc_id \\\n",
    "#                                   and date_format(t1.publishtime, '%%Y-%%m-%%d') = '{0}'\".format('2018-08-07')\n",
    "# # 实际\n",
    "# circ_cor = pd.read_sql(sql_circ_cor_one_day, engine)\n",
    "# print(circ_cor.shape)\n",
    "# circ_cor.head()"
   ]
  },
  {
   "cell_type": "code",
   "execution_count": 11,
   "metadata": {
    "ExecuteTime": {
     "end_time": "2018-10-30T08:48:04.737413Z",
     "start_time": "2018-10-30T08:11:19.393832Z"
    }
   },
   "outputs": [
    {
     "name": "stdout",
     "output_type": "stream",
     "text": [
      "-- day_select:  2018-10-24\n",
      "cbrc_flag： (204529, 3)\n",
      "cbrc_cor： (6078, 5)\n",
      "cbrc_uncor： (5005, 5)\n",
      "去重前： (11083, 5)\n",
      "去重后： (10044, 5)\n",
      "去空值后： (10044, 5)\n",
      "(9980, 7)\n",
      "噪音        2870\n",
      "消费服务      2151\n",
      "行业        1660\n",
      "监管        1604\n",
      "资本市场       793\n",
      "公司内部管理     655\n",
      "其他相关报道     179\n",
      "产品销售        68\n",
      "Name: predict_label, dtype: int64\n",
      "-- day_select:  2018-10-25\n",
      "cbrc_flag： (231192, 3)\n",
      "cbrc_cor： (6514, 5)\n",
      "cbrc_uncor： (5006, 5)\n",
      "去重前： (11520, 5)\n",
      "去重后： (10383, 5)\n",
      "去空值后： (10383, 5)\n",
      "(10305, 7)\n",
      "噪音        2769\n",
      "消费服务      2232\n",
      "行业        1795\n",
      "监管        1795\n",
      "资本市场       812\n",
      "公司内部管理     683\n",
      "其他相关报道     148\n",
      "产品销售        71\n",
      "Name: predict_label, dtype: int64\n",
      "-- day_select:  2018-10-26\n",
      "cbrc_flag： (194749, 3)\n",
      "cbrc_cor： (5934, 5)\n",
      "cbrc_uncor： (5004, 5)\n",
      "去重前： (10938, 5)\n",
      "去重后： (10057, 5)\n",
      "去空值后： (10057, 5)\n",
      "(9984, 7)\n",
      "噪音        2845\n",
      "消费服务      2061\n",
      "监管        1662\n",
      "行业        1612\n",
      "资本市场       941\n",
      "公司内部管理     597\n",
      "其他相关报道     175\n",
      "产品销售        91\n",
      "Name: predict_label, dtype: int64\n",
      "-- day_select:  2018-10-27\n",
      "cbrc_flag： (105576, 3)\n",
      "cbrc_cor： (2498, 5)\n",
      "cbrc_uncor： (5004, 5)\n",
      "去重前： (7502, 5)\n",
      "去重后： (6552, 5)\n",
      "去空值后： (6552, 5)\n",
      "(6516, 7)\n",
      "噪音        3170\n",
      "消费服务       951\n",
      "行业         681\n",
      "监管         679\n",
      "资本市场       623\n",
      "公司内部管理     185\n",
      "其他相关报道     126\n",
      "产品销售       101\n",
      "Name: predict_label, dtype: int64\n",
      "-- day_select:  2018-10-28\n",
      "cbrc_flag： (78774, 3)\n",
      "cbrc_cor： (1808, 5)\n",
      "cbrc_uncor： (5004, 5)\n",
      "去重前： (6812, 5)\n",
      "去重后： (5891, 5)\n",
      "去空值后： (5891, 5)\n",
      "(5805, 7)\n",
      "噪音        3222\n",
      "消费服务       783\n",
      "资本市场       577\n",
      "行业         484\n",
      "监管         393\n",
      "公司内部管理     147\n",
      "其他相关报道     121\n",
      "产品销售        78\n",
      "Name: predict_label, dtype: int64\n",
      "-- day_select:  2018-10-29\n",
      "cbrc_flag： (108760, 3)\n",
      "cbrc_cor： (3726, 5)\n",
      "cbrc_uncor： (5005, 5)\n",
      "去重前： (8731, 5)\n",
      "去重后： (7652, 5)\n",
      "去空值后： (7652, 5)\n",
      "(7578, 7)\n",
      "噪音        2709\n",
      "消费服务      1319\n",
      "行业        1154\n",
      "资本市场       913\n",
      "监管         855\n",
      "公司内部管理     355\n",
      "其他相关报道     182\n",
      "产品销售        91\n",
      "Name: predict_label, dtype: int64\n"
     ]
    }
   ],
   "source": [
    "for day_select in day_list:\n",
    "    print('-- day_select: ', day_select)\n",
    "    \n",
    "    # 获取八分类\n",
    "    sql_one_day = \"select t2.urlhash, t1.traffic_id, t2.title as title_1\\\n",
    "                        from wise_web_classify_traffic_docinfo t1, wise_web_docinfo_basic t2 \\\n",
    "                            where t1.base_id=t2.id \\\n",
    "                                  and date_format(t2.publishtime, '%%Y-%%m-%%d') = '{0}' \".format(day_select)\n",
    "    cbrc_flag = pd.read_sql(sql_one_day, engine)\n",
    "    print('cbrc_flag：', cbrc_flag.shape)\n",
    "    \n",
    "    # 相关数据\n",
    "    sql_one_day = \"select t1.urlhash, t1.title,t2.text as content, t1.group_id, t1.publishtime as publishtime \\\n",
    "                        from elint_web_docinfo t1, wise_web_docinfo_text t2 \\\n",
    "                            where t1.id=t2.doc_id \\\n",
    "                                  and t1.publishtime >= '{0} 08:00:00' \\\n",
    "                                  and t1.publishtime <= '{0} 14:00:00' \\\n",
    "                                group by t1.titlehash\".format(day_select)\n",
    "    # titlehash 去重后\n",
    "    cbrc_cor = pd.read_sql(sql_one_day, engine) \n",
    "    print('cbrc_cor：', cbrc_cor.shape)\n",
    "    \n",
    "    # 不相关数据\n",
    "    sql_cbrc_uncor = \"select urlhash, title, content, group_id, publishtime \\\n",
    "                            from wise_web_docinfo_uncor \\\n",
    "                            where date_format(publishtime, '%%Y-%%m-%%d') = '{0}'\".format(day_select)\n",
    "    cbrc_uncor = pd.read_sql(sql_cbrc_uncor, engine)  \n",
    "    print('cbrc_uncor：', cbrc_uncor.shape)\n",
    "\n",
    "    cbrc_data = pd.concat([cbrc_cor, cbrc_uncor], axis = 0)\n",
    "    print('去重前：', cbrc_data.shape)\n",
    "    cbrc_data = cbrc_data.drop_duplicates(subset = 'title')\n",
    "    print('去重后：', cbrc_data.shape)  \n",
    "    cbrc_data = cbrc_data.dropna(subset = ['content'], axis = 0)\n",
    "    print('去空值后：', cbrc_data.shape)  \n",
    "\n",
    "    cbrc_combined = pd.merge(cbrc_flag, cbrc_data, how = 'inner', on = 'urlhash')\n",
    "    cbrc_combined['predict_label'] = cbrc_combined['traffic_id'].apply(lambda x:class_name_dict[x])\n",
    "    cbrc_combined['group_id'] = cbrc_combined['group_id'].apply(lambda x:group_dict[str(x)])\n",
    "    cbrc_combined['label'] = ''\n",
    "    cbrc_combined = cbrc_combined[['urlhash', 'predict_label', 'label', 'title', 'content', 'group_id', 'publishtime']]\n",
    "    fea_filename = 'cbrc_result_class/result/cbrc_class_predict_mysql_%s.xlsx'%day_select\n",
    "    cbrc_combined.to_excel(fea_filename, index = False)\n",
    "    print(cbrc_combined.shape)\n",
    "    print(cbrc_combined['predict_label'].value_counts())\n",
    "    "
   ]
  },
  {
   "cell_type": "markdown",
   "metadata": {},
   "source": [
    "#### 合并 & 保存"
   ]
  },
  {
   "cell_type": "code",
   "execution_count": 12,
   "metadata": {
    "ExecuteTime": {
     "end_time": "2018-10-30T08:48:13.993335Z",
     "start_time": "2018-10-30T08:48:04.880421Z"
    }
   },
   "outputs": [
    {
     "name": "stdout",
     "output_type": "stream",
     "text": [
      "(50168, 7)\n",
      "去重前： (50168, 7)\n",
      "去重后： (47595, 7)\n",
      "去空值后： (47071, 7)\n",
      "噪音        16612\n",
      "消费服务       9039\n",
      "行业         6842\n",
      "监管         6470\n",
      "资本市场       4331\n",
      "公司内部管理     2450\n",
      "其他相关报道      885\n",
      "产品销售        442\n",
      "Name: predict_label, dtype: int64\n"
     ]
    },
    {
     "data": {
      "text/html": [
       "<div>\n",
       "<style scoped>\n",
       "    .dataframe tbody tr th:only-of-type {\n",
       "        vertical-align: middle;\n",
       "    }\n",
       "\n",
       "    .dataframe tbody tr th {\n",
       "        vertical-align: top;\n",
       "    }\n",
       "\n",
       "    .dataframe thead th {\n",
       "        text-align: right;\n",
       "    }\n",
       "</style>\n",
       "<table border=\"1\" class=\"dataframe\">\n",
       "  <thead>\n",
       "    <tr style=\"text-align: right;\">\n",
       "      <th></th>\n",
       "      <th>urlhash</th>\n",
       "      <th>predict_label</th>\n",
       "      <th>label</th>\n",
       "      <th>title</th>\n",
       "      <th>content</th>\n",
       "      <th>group_id</th>\n",
       "      <th>publishtime</th>\n",
       "    </tr>\n",
       "  </thead>\n",
       "  <tbody>\n",
       "    <tr>\n",
       "      <th>0</th>\n",
       "      <td>2994115534462627840</td>\n",
       "      <td>噪音</td>\n",
       "      <td>NaN</td>\n",
       "      <td>豪华中型车二十万出头 开上豪车不是梦</td>\n",
       "      <td>凤凰网汽车 长春 导购 ： 很多富裕的平民家庭在用车方面已经开始不仅追求代步了，而乘坐的舒适...</td>\n",
       "      <td>新闻客户端</td>\n",
       "      <td>2018-10-24 07:50:00</td>\n",
       "    </tr>\n",
       "    <tr>\n",
       "      <th>1</th>\n",
       "      <td>4661064664638386176</td>\n",
       "      <td>行业</td>\n",
       "      <td>NaN</td>\n",
       "      <td>苏宁金融研究院发布《2018年3季度互联网金融行业报告》</td>\n",
       "      <td>首先，简单通过几组数据，反映截至2018年第三季度互联网金融行业的市场结构。 股权融资： 据...</td>\n",
       "      <td>新闻</td>\n",
       "      <td>2018-10-24 08:00:00</td>\n",
       "    </tr>\n",
       "  </tbody>\n",
       "</table>\n",
       "</div>"
      ],
      "text/plain": [
       "               urlhash predict_label  label                         title  \\\n",
       "0  2994115534462627840            噪音    NaN            豪华中型车二十万出头 开上豪车不是梦   \n",
       "1  4661064664638386176            行业    NaN  苏宁金融研究院发布《2018年3季度互联网金融行业报告》   \n",
       "\n",
       "                                             content group_id  \\\n",
       "0  凤凰网汽车 长春 导购 ： 很多富裕的平民家庭在用车方面已经开始不仅追求代步了，而乘坐的舒适...    新闻客户端   \n",
       "1  首先，简单通过几组数据，反映截至2018年第三季度互联网金融行业的市场结构。 股权融资： 据...       新闻   \n",
       "\n",
       "          publishtime  \n",
       "0 2018-10-24 07:50:00  \n",
       "1 2018-10-24 08:00:00  "
      ]
     },
     "execution_count": 12,
     "metadata": {},
     "output_type": "execute_result"
    }
   ],
   "source": [
    "combined_data = pd.DataFrame()\n",
    "for day_select in day_list:\n",
    "    tmp_data = pd.read_excel('cbrc_result_class/result/cbrc_class_predict_mysql_%s.xlsx'%day_select)\n",
    "    combined_data = pd.concat([combined_data, tmp_data], axis = 0)\n",
    "\n",
    "combined_data = combined_data[combined_data['predict_label'] != '补录']\n",
    "print(combined_data.shape)  \n",
    "print('去重前：', combined_data.shape)\n",
    "combined_data = combined_data.drop_duplicates(subset = 'title')\n",
    "print('去重后：', combined_data.shape)  \n",
    "combined_data = combined_data.dropna(subset = ['content'], axis = 0)\n",
    "print('去空值后：', combined_data.shape)  \n",
    "\n",
    "print(combined_data['predict_label'].value_counts())\n",
    "combined_data.iloc[:2, :]"
   ]
  },
  {
   "cell_type": "code",
   "execution_count": 13,
   "metadata": {
    "ExecuteTime": {
     "end_time": "2018-10-30T08:48:16.205858Z",
     "start_time": "2018-10-30T08:48:14.201347Z"
    }
   },
   "outputs": [
    {
     "name": "stdout",
     "output_type": "stream",
     "text": [
      "噪音        16612\n",
      "消费服务       9039\n",
      "行业         6842\n",
      "监管         6470\n",
      "资本市场       4331\n",
      "公司内部管理     2450\n",
      "其他相关报道      885\n",
      "产品销售        442\n",
      "Name: predict_label, dtype: int64\n"
     ]
    }
   ],
   "source": [
    "fea_filename = 'cbrc_result_class/result/cbrc_class_predict_mysql_20181030(1024-1029).xlsx'\n",
    "# sel_col = ['噪音', '消费服务', '公司内部管理', '监管',\n",
    "#            '行业', '资本市场', '其他相关报道','产品销售']\n",
    "# sel_col = ['消费服务', '公司内部管理', '监管', '行业', '产品销售']\n",
    "sel_col = combined_data['predict_label'].unique().tolist()\n",
    "sel_data = combined_data[combined_data['predict_label'].isin(sel_col)]\n",
    "print(sel_data['predict_label'].value_counts())\n",
    "with pd.ExcelWriter(fea_filename) as writer:\n",
    "    for label in sel_data['predict_label'].unique():\n",
    "        tmp_data = sel_data[sel_data['predict_label'] == label]\n",
    "        if tmp_data.shape[0] > 300:\n",
    "            N = 300\n",
    "        else :\n",
    "            N = tmp_data.shape[0]\n",
    "        tmp_data.sample(n = N, axis = 0, random_state=42).to_excel(writer,label, index = False)\n",
    "    \n",
    "    writer.save()"
   ]
  },
  {
   "cell_type": "markdown",
   "metadata": {
    "collapsed": true
   },
   "source": [
    "## 本地模型"
   ]
  },
  {
   "cell_type": "markdown",
   "metadata": {},
   "source": [
    "### 八分类"
   ]
  },
  {
   "cell_type": "code",
   "execution_count": 63,
   "metadata": {
    "ExecuteTime": {
     "end_time": "2018-10-08T06:08:55.607050Z",
     "start_time": "2018-10-08T06:08:53.117234Z"
    },
    "collapsed": true
   },
   "outputs": [],
   "source": [
    "from sklearn.externals import joblib\n",
    "pipeline_old = joblib.load( \"model/cbrc_8classifier_1015.pkl.z\")"
   ]
  },
  {
   "cell_type": "code",
   "execution_count": 64,
   "metadata": {
    "ExecuteTime": {
     "end_time": "2018-10-08T06:18:52.561354Z",
     "start_time": "2018-10-08T06:08:56.797702Z"
    }
   },
   "outputs": [
    {
     "name": "stdout",
     "output_type": "stream",
     "text": [
      "25072\n"
     ]
    }
   ],
   "source": [
    "combined_data['title_content'] = combined_data['title'].astype(str) + '。' + combined_data['content'].astype(str)\n",
    "title_content = pre_cor_cbrc.handle_contents(combined_data['title_content'].tolist())\n",
    "print(len(title_content))\n",
    "\n",
    "local_label = pipeline_old.predict(title_content)\n",
    "local_proba = pipeline_old.predict_proba(title_content)"
   ]
  },
  {
   "cell_type": "code",
   "execution_count": 65,
   "metadata": {
    "ExecuteTime": {
     "end_time": "2018-10-08T06:18:53.780509Z",
     "start_time": "2018-10-08T06:18:53.751505Z"
    }
   },
   "outputs": [
    {
     "name": "stdout",
     "output_type": "stream",
     "text": [
      "(25072, 10)\n"
     ]
    },
    {
     "data": {
      "text/html": [
       "<div>\n",
       "<style scoped>\n",
       "    .dataframe tbody tr th:only-of-type {\n",
       "        vertical-align: middle;\n",
       "    }\n",
       "\n",
       "    .dataframe tbody tr th {\n",
       "        vertical-align: top;\n",
       "    }\n",
       "\n",
       "    .dataframe thead th {\n",
       "        text-align: right;\n",
       "    }\n",
       "</style>\n",
       "<table border=\"1\" class=\"dataframe\">\n",
       "  <thead>\n",
       "    <tr style=\"text-align: right;\">\n",
       "      <th></th>\n",
       "      <th>urlhash</th>\n",
       "      <th>predict_label</th>\n",
       "      <th>label</th>\n",
       "      <th>title</th>\n",
       "      <th>content</th>\n",
       "      <th>group_id</th>\n",
       "      <th>publishtime</th>\n",
       "      <th>title_content</th>\n",
       "      <th>local_label</th>\n",
       "      <th>local_proba</th>\n",
       "    </tr>\n",
       "  </thead>\n",
       "  <tbody>\n",
       "    <tr>\n",
       "      <th>0</th>\n",
       "      <td>4683329437982043136</td>\n",
       "      <td>公司内部管理</td>\n",
       "      <td>NaN</td>\n",
       "      <td>浦发银行： 拟成立金融科技直投基金</td>\n",
       "      <td>银行探索金融科技业务再现新模式。浦发银行日前宣布成立“科技合作共同体”，并与首批16家国内外...</td>\n",
       "      <td>纸媒</td>\n",
       "      <td>2018-09-25 00:02:17</td>\n",
       "      <td>浦发银行： 拟成立金融科技直投基金。银行探索金融科技业务再现新模式。浦发银行日前宣布成立“科...</td>\n",
       "      <td>公司内部管理</td>\n",
       "      <td>0.741746</td>\n",
       "    </tr>\n",
       "    <tr>\n",
       "      <th>1</th>\n",
       "      <td>4296445329237014016</td>\n",
       "      <td>监管</td>\n",
       "      <td>NaN</td>\n",
       "      <td>财经热点 Financial Topic</td>\n",
       "      <td>银保监会： 8月末制造业贷款余额17万亿□记者 钟源 北京报道 中国银行保险监督管理委员会新...</td>\n",
       "      <td>纸媒</td>\n",
       "      <td>2018-09-25 00:02:16</td>\n",
       "      <td>财经热点 Financial Topic。银保监会： 8月末制造业贷款余额17万亿□记者 钟...</td>\n",
       "      <td>监管</td>\n",
       "      <td>0.795061</td>\n",
       "    </tr>\n",
       "  </tbody>\n",
       "</table>\n",
       "</div>"
      ],
      "text/plain": [
       "               urlhash predict_label  label                 title  \\\n",
       "0  4683329437982043136        公司内部管理    NaN     浦发银行： 拟成立金融科技直投基金   \n",
       "1  4296445329237014016            监管    NaN  财经热点 Financial Topic   \n",
       "\n",
       "                                             content group_id  \\\n",
       "0  银行探索金融科技业务再现新模式。浦发银行日前宣布成立“科技合作共同体”，并与首批16家国内外...       纸媒   \n",
       "1  银保监会： 8月末制造业贷款余额17万亿□记者 钟源 北京报道 中国银行保险监督管理委员会新...       纸媒   \n",
       "\n",
       "          publishtime                                      title_content  \\\n",
       "0 2018-09-25 00:02:17  浦发银行： 拟成立金融科技直投基金。银行探索金融科技业务再现新模式。浦发银行日前宣布成立“科...   \n",
       "1 2018-09-25 00:02:16  财经热点 Financial Topic。银保监会： 8月末制造业贷款余额17万亿□记者 钟...   \n",
       "\n",
       "  local_label  local_proba  \n",
       "0      公司内部管理     0.741746  \n",
       "1          监管     0.795061  "
      ]
     },
     "execution_count": 65,
     "metadata": {},
     "output_type": "execute_result"
    }
   ],
   "source": [
    "combined_data['local_label'] = local_label\n",
    "combined_data['local_proba'] = local_proba.max(axis = 1)\n",
    "combined_data['local_label'] = combined_data['local_label'].apply(lambda x:class_name_dict[x])\n",
    "print(combined_data.shape)\n",
    "combined_data.iloc[:2, :]"
   ]
  },
  {
   "cell_type": "markdown",
   "metadata": {},
   "source": [
    "#### 线上线下一致性: mysql 与 local"
   ]
  },
  {
   "cell_type": "code",
   "execution_count": 66,
   "metadata": {
    "ExecuteTime": {
     "end_time": "2018-10-08T06:18:57.152437Z",
     "start_time": "2018-10-08T06:18:55.000164Z"
    }
   },
   "outputs": [
    {
     "name": "stdout",
     "output_type": "stream",
     "text": [
      "0.691847479259732\n",
      "Right    17346\n",
      "Wrong     7726\n",
      "Name: R_W, dtype: int64\n"
     ]
    },
    {
     "data": {
      "text/html": [
       "<div>\n",
       "<style scoped>\n",
       "    .dataframe tbody tr th:only-of-type {\n",
       "        vertical-align: middle;\n",
       "    }\n",
       "\n",
       "    .dataframe tbody tr th {\n",
       "        vertical-align: top;\n",
       "    }\n",
       "\n",
       "    .dataframe thead tr th {\n",
       "        text-align: left;\n",
       "    }\n",
       "\n",
       "    .dataframe thead tr:last-of-type th {\n",
       "        text-align: right;\n",
       "    }\n",
       "</style>\n",
       "<table border=\"1\" class=\"dataframe\">\n",
       "  <thead>\n",
       "    <tr>\n",
       "      <th></th>\n",
       "      <th colspan=\"9\" halign=\"left\">len</th>\n",
       "    </tr>\n",
       "    <tr>\n",
       "      <th></th>\n",
       "      <th colspan=\"9\" halign=\"left\">urlhash</th>\n",
       "    </tr>\n",
       "    <tr>\n",
       "      <th>predict_label</th>\n",
       "      <th>产品销售</th>\n",
       "      <th>公司内部管理</th>\n",
       "      <th>其他相关报道</th>\n",
       "      <th>噪音</th>\n",
       "      <th>消费服务</th>\n",
       "      <th>监管</th>\n",
       "      <th>行业</th>\n",
       "      <th>资本市场</th>\n",
       "      <th>All</th>\n",
       "    </tr>\n",
       "    <tr>\n",
       "      <th>local_label</th>\n",
       "      <th></th>\n",
       "      <th></th>\n",
       "      <th></th>\n",
       "      <th></th>\n",
       "      <th></th>\n",
       "      <th></th>\n",
       "      <th></th>\n",
       "      <th></th>\n",
       "      <th></th>\n",
       "    </tr>\n",
       "  </thead>\n",
       "  <tbody>\n",
       "    <tr>\n",
       "      <th>产品销售</th>\n",
       "      <td>0</td>\n",
       "      <td>15</td>\n",
       "      <td>0</td>\n",
       "      <td>4</td>\n",
       "      <td>1042</td>\n",
       "      <td>35</td>\n",
       "      <td>89</td>\n",
       "      <td>0</td>\n",
       "      <td>1185</td>\n",
       "    </tr>\n",
       "    <tr>\n",
       "      <th>公司内部管理</th>\n",
       "      <td>0</td>\n",
       "      <td>0</td>\n",
       "      <td>2</td>\n",
       "      <td>0</td>\n",
       "      <td>45</td>\n",
       "      <td>57</td>\n",
       "      <td>58</td>\n",
       "      <td>1</td>\n",
       "      <td>163</td>\n",
       "    </tr>\n",
       "    <tr>\n",
       "      <th>其他相关报道</th>\n",
       "      <td>4</td>\n",
       "      <td>93</td>\n",
       "      <td>0</td>\n",
       "      <td>15</td>\n",
       "      <td>244</td>\n",
       "      <td>129</td>\n",
       "      <td>88</td>\n",
       "      <td>2</td>\n",
       "      <td>575</td>\n",
       "    </tr>\n",
       "    <tr>\n",
       "      <th>噪音</th>\n",
       "      <td>19</td>\n",
       "      <td>161</td>\n",
       "      <td>29</td>\n",
       "      <td>0</td>\n",
       "      <td>1500</td>\n",
       "      <td>1332</td>\n",
       "      <td>790</td>\n",
       "      <td>113</td>\n",
       "      <td>3944</td>\n",
       "    </tr>\n",
       "    <tr>\n",
       "      <th>消费服务</th>\n",
       "      <td>9</td>\n",
       "      <td>25</td>\n",
       "      <td>1</td>\n",
       "      <td>16</td>\n",
       "      <td>0</td>\n",
       "      <td>37</td>\n",
       "      <td>282</td>\n",
       "      <td>2</td>\n",
       "      <td>372</td>\n",
       "    </tr>\n",
       "    <tr>\n",
       "      <th>监管</th>\n",
       "      <td>1</td>\n",
       "      <td>15</td>\n",
       "      <td>1</td>\n",
       "      <td>7</td>\n",
       "      <td>60</td>\n",
       "      <td>0</td>\n",
       "      <td>117</td>\n",
       "      <td>1</td>\n",
       "      <td>202</td>\n",
       "    </tr>\n",
       "    <tr>\n",
       "      <th>行业</th>\n",
       "      <td>7</td>\n",
       "      <td>56</td>\n",
       "      <td>0</td>\n",
       "      <td>16</td>\n",
       "      <td>77</td>\n",
       "      <td>280</td>\n",
       "      <td>0</td>\n",
       "      <td>2</td>\n",
       "      <td>438</td>\n",
       "    </tr>\n",
       "    <tr>\n",
       "      <th>资本市场</th>\n",
       "      <td>0</td>\n",
       "      <td>22</td>\n",
       "      <td>0</td>\n",
       "      <td>29</td>\n",
       "      <td>373</td>\n",
       "      <td>245</td>\n",
       "      <td>178</td>\n",
       "      <td>0</td>\n",
       "      <td>847</td>\n",
       "    </tr>\n",
       "    <tr>\n",
       "      <th>All</th>\n",
       "      <td>40</td>\n",
       "      <td>387</td>\n",
       "      <td>33</td>\n",
       "      <td>87</td>\n",
       "      <td>3341</td>\n",
       "      <td>2115</td>\n",
       "      <td>1602</td>\n",
       "      <td>121</td>\n",
       "      <td>7726</td>\n",
       "    </tr>\n",
       "  </tbody>\n",
       "</table>\n",
       "</div>"
      ],
      "text/plain": [
       "                  len                                               \n",
       "              urlhash                                               \n",
       "predict_label    产品销售 公司内部管理 其他相关报道  噪音  消费服务    监管    行业 资本市场   All\n",
       "local_label                                                         \n",
       "产品销售                0     15      0   4  1042    35    89    0  1185\n",
       "公司内部管理              0      0      2   0    45    57    58    1   163\n",
       "其他相关报道              4     93      0  15   244   129    88    2   575\n",
       "噪音                 19    161     29   0  1500  1332   790  113  3944\n",
       "消费服务                9     25      1  16     0    37   282    2   372\n",
       "监管                  1     15      1   7    60     0   117    1   202\n",
       "行业                  7     56      0  16    77   280     0    2   438\n",
       "资本市场                0     22      0  29   373   245   178    0   847\n",
       "All                40    387     33  87  3341  2115  1602  121  7726"
      ]
     },
     "execution_count": 66,
     "metadata": {},
     "output_type": "execute_result"
    }
   ],
   "source": [
    "combined_data['R_W'] = combined_data.apply(lambda x: 'Right' if x['local_label'] == x['predict_label'] else 'Wrong', axis = 1)\n",
    "print(combined_data[combined_data['R_W'] == 'Right'].shape[0]/combined_data.shape[0])\n",
    "print(combined_data['R_W'].value_counts())\n",
    "combined_data[combined_data['R_W'] == 'Wrong'].pivot_table(index = ['local_label'], columns = ['predict_label'], \n",
    "                                                            aggfunc = [len], values = ['urlhash'], \n",
    "                                                            fill_value = 0, margins = True)"
   ]
  },
  {
   "cell_type": "markdown",
   "metadata": {},
   "source": [
    "#### 线上线下一致性: online 与 local"
   ]
  },
  {
   "cell_type": "code",
   "execution_count": 67,
   "metadata": {
    "ExecuteTime": {
     "end_time": "2018-10-08T06:18:58.463103Z",
     "start_time": "2018-10-08T06:18:58.420598Z"
    },
    "collapsed": true
   },
   "outputs": [],
   "source": [
    "combined_data['id'] = range(combined_data.shape[0])\n",
    "combined_data['title'] = combined_data['title'].astype(str) \n",
    "combined_data['content'] = combined_data['content'].astype(str)"
   ]
  },
  {
   "cell_type": "code",
   "execution_count": 68,
   "metadata": {
    "ExecuteTime": {
     "end_time": "2018-10-08T06:49:05.543073Z",
     "start_time": "2018-10-08T06:18:59.725264Z"
    }
   },
   "outputs": [
    {
     "data": {
      "text/html": [
       "<div>\n",
       "<style scoped>\n",
       "    .dataframe tbody tr th:only-of-type {\n",
       "        vertical-align: middle;\n",
       "    }\n",
       "\n",
       "    .dataframe tbody tr th {\n",
       "        vertical-align: top;\n",
       "    }\n",
       "\n",
       "    .dataframe thead th {\n",
       "        text-align: right;\n",
       "    }\n",
       "</style>\n",
       "<table border=\"1\" class=\"dataframe\">\n",
       "  <thead>\n",
       "    <tr style=\"text-align: right;\">\n",
       "      <th></th>\n",
       "      <th>id</th>\n",
       "      <th>online_label</th>\n",
       "    </tr>\n",
       "  </thead>\n",
       "  <tbody>\n",
       "    <tr>\n",
       "      <th>0</th>\n",
       "      <td>0</td>\n",
       "      <td>5</td>\n",
       "    </tr>\n",
       "    <tr>\n",
       "      <th>1</th>\n",
       "      <td>1</td>\n",
       "      <td>1</td>\n",
       "    </tr>\n",
       "    <tr>\n",
       "      <th>2</th>\n",
       "      <td>2</td>\n",
       "      <td>1</td>\n",
       "    </tr>\n",
       "    <tr>\n",
       "      <th>3</th>\n",
       "      <td>3</td>\n",
       "      <td>1</td>\n",
       "    </tr>\n",
       "    <tr>\n",
       "      <th>4</th>\n",
       "      <td>4</td>\n",
       "      <td>8</td>\n",
       "    </tr>\n",
       "  </tbody>\n",
       "</table>\n",
       "</div>"
      ],
      "text/plain": [
       "   id  online_label\n",
       "0   0             5\n",
       "1   1             1\n",
       "2   2             1\n",
       "3   3             1\n",
       "4   4             8"
      ]
     },
     "execution_count": 68,
     "metadata": {},
     "output_type": "execute_result"
    }
   ],
   "source": [
    "data = {\"record\":combined_data.loc[:,['id', 'title' ,'content']].to_dict(orient = 'records')}\n",
    "url = \"http://47.93.77.19:6001/judge_correlation_yjh\"\n",
    "col_name = 'sec'\n",
    "parse_data = get_server_res_yjh(data, url, col_name)\n",
    "parse_data.columns = ['id', 'online_label']\n",
    "parse_data.head()"
   ]
  },
  {
   "cell_type": "code",
   "execution_count": 69,
   "metadata": {
    "ExecuteTime": {
     "end_time": "2018-10-08T06:49:09.341056Z",
     "start_time": "2018-10-08T06:49:06.973255Z"
    }
   },
   "outputs": [
    {
     "name": "stdout",
     "output_type": "stream",
     "text": [
      "(25072, 13)\n",
      "0.7174138481174218\n",
      "Right    17987\n",
      "Wrong     7085\n",
      "Name: O_R_W, dtype: int64\n"
     ]
    },
    {
     "data": {
      "text/html": [
       "<div>\n",
       "<style scoped>\n",
       "    .dataframe tbody tr th:only-of-type {\n",
       "        vertical-align: middle;\n",
       "    }\n",
       "\n",
       "    .dataframe tbody tr th {\n",
       "        vertical-align: top;\n",
       "    }\n",
       "\n",
       "    .dataframe thead tr th {\n",
       "        text-align: left;\n",
       "    }\n",
       "\n",
       "    .dataframe thead tr:last-of-type th {\n",
       "        text-align: right;\n",
       "    }\n",
       "</style>\n",
       "<table border=\"1\" class=\"dataframe\">\n",
       "  <thead>\n",
       "    <tr>\n",
       "      <th></th>\n",
       "      <th colspan=\"9\" halign=\"left\">len</th>\n",
       "    </tr>\n",
       "    <tr>\n",
       "      <th></th>\n",
       "      <th colspan=\"9\" halign=\"left\">urlhash</th>\n",
       "    </tr>\n",
       "    <tr>\n",
       "      <th>online_label</th>\n",
       "      <th>产品销售</th>\n",
       "      <th>公司内部管理</th>\n",
       "      <th>其他相关报道</th>\n",
       "      <th>噪音</th>\n",
       "      <th>消费服务</th>\n",
       "      <th>监管</th>\n",
       "      <th>行业</th>\n",
       "      <th>资本市场</th>\n",
       "      <th>All</th>\n",
       "    </tr>\n",
       "    <tr>\n",
       "      <th>local_label</th>\n",
       "      <th></th>\n",
       "      <th></th>\n",
       "      <th></th>\n",
       "      <th></th>\n",
       "      <th></th>\n",
       "      <th></th>\n",
       "      <th></th>\n",
       "      <th></th>\n",
       "      <th></th>\n",
       "    </tr>\n",
       "  </thead>\n",
       "  <tbody>\n",
       "    <tr>\n",
       "      <th>产品销售</th>\n",
       "      <td>0</td>\n",
       "      <td>14</td>\n",
       "      <td>0</td>\n",
       "      <td>5</td>\n",
       "      <td>780</td>\n",
       "      <td>30</td>\n",
       "      <td>89</td>\n",
       "      <td>0</td>\n",
       "      <td>918</td>\n",
       "    </tr>\n",
       "    <tr>\n",
       "      <th>公司内部管理</th>\n",
       "      <td>0</td>\n",
       "      <td>0</td>\n",
       "      <td>3</td>\n",
       "      <td>3</td>\n",
       "      <td>37</td>\n",
       "      <td>57</td>\n",
       "      <td>58</td>\n",
       "      <td>1</td>\n",
       "      <td>159</td>\n",
       "    </tr>\n",
       "    <tr>\n",
       "      <th>其他相关报道</th>\n",
       "      <td>4</td>\n",
       "      <td>93</td>\n",
       "      <td>0</td>\n",
       "      <td>19</td>\n",
       "      <td>228</td>\n",
       "      <td>128</td>\n",
       "      <td>88</td>\n",
       "      <td>2</td>\n",
       "      <td>562</td>\n",
       "    </tr>\n",
       "    <tr>\n",
       "      <th>噪音</th>\n",
       "      <td>23</td>\n",
       "      <td>158</td>\n",
       "      <td>35</td>\n",
       "      <td>0</td>\n",
       "      <td>1238</td>\n",
       "      <td>1317</td>\n",
       "      <td>768</td>\n",
       "      <td>119</td>\n",
       "      <td>3658</td>\n",
       "    </tr>\n",
       "    <tr>\n",
       "      <th>消费服务</th>\n",
       "      <td>27</td>\n",
       "      <td>24</td>\n",
       "      <td>2</td>\n",
       "      <td>22</td>\n",
       "      <td>0</td>\n",
       "      <td>36</td>\n",
       "      <td>276</td>\n",
       "      <td>3</td>\n",
       "      <td>390</td>\n",
       "    </tr>\n",
       "    <tr>\n",
       "      <th>监管</th>\n",
       "      <td>1</td>\n",
       "      <td>14</td>\n",
       "      <td>1</td>\n",
       "      <td>10</td>\n",
       "      <td>43</td>\n",
       "      <td>0</td>\n",
       "      <td>116</td>\n",
       "      <td>1</td>\n",
       "      <td>186</td>\n",
       "    </tr>\n",
       "    <tr>\n",
       "      <th>行业</th>\n",
       "      <td>8</td>\n",
       "      <td>55</td>\n",
       "      <td>1</td>\n",
       "      <td>18</td>\n",
       "      <td>62</td>\n",
       "      <td>278</td>\n",
       "      <td>0</td>\n",
       "      <td>2</td>\n",
       "      <td>424</td>\n",
       "    </tr>\n",
       "    <tr>\n",
       "      <th>资本市场</th>\n",
       "      <td>11</td>\n",
       "      <td>22</td>\n",
       "      <td>0</td>\n",
       "      <td>33</td>\n",
       "      <td>303</td>\n",
       "      <td>243</td>\n",
       "      <td>176</td>\n",
       "      <td>0</td>\n",
       "      <td>788</td>\n",
       "    </tr>\n",
       "    <tr>\n",
       "      <th>All</th>\n",
       "      <td>74</td>\n",
       "      <td>380</td>\n",
       "      <td>42</td>\n",
       "      <td>110</td>\n",
       "      <td>2691</td>\n",
       "      <td>2089</td>\n",
       "      <td>1571</td>\n",
       "      <td>128</td>\n",
       "      <td>7085</td>\n",
       "    </tr>\n",
       "  </tbody>\n",
       "</table>\n",
       "</div>"
      ],
      "text/plain": [
       "                 len                                                \n",
       "             urlhash                                                \n",
       "online_label    产品销售 公司内部管理 其他相关报道   噪音  消费服务    监管    行业 资本市场   All\n",
       "local_label                                                         \n",
       "产品销售               0     14      0    5   780    30    89    0   918\n",
       "公司内部管理             0      0      3    3    37    57    58    1   159\n",
       "其他相关报道             4     93      0   19   228   128    88    2   562\n",
       "噪音                23    158     35    0  1238  1317   768  119  3658\n",
       "消费服务              27     24      2   22     0    36   276    3   390\n",
       "监管                 1     14      1   10    43     0   116    1   186\n",
       "行业                 8     55      1   18    62   278     0    2   424\n",
       "资本市场              11     22      0   33   303   243   176    0   788\n",
       "All               74    380     42  110  2691  2089  1571  128  7085"
      ]
     },
     "execution_count": 69,
     "metadata": {},
     "output_type": "execute_result"
    }
   ],
   "source": [
    "combined_data = pd.merge(combined_data, parse_data, on  = 'id')\n",
    "print(combined_data.shape)\n",
    "combined_data['online_label'] = combined_data['online_label'].apply(lambda x:class_name_dict[x])\n",
    "combined_data['O_R_W'] = combined_data.apply(lambda x: 'Right' if x['local_label'] == x['online_label'] else 'Wrong', axis = 1)\n",
    "print(combined_data[combined_data['O_R_W'] == 'Right'].shape[0]/combined_data.shape[0])\n",
    "print(combined_data['O_R_W'].value_counts())\n",
    "combined_data[combined_data['O_R_W'] == 'Wrong'].pivot_table(index = ['local_label'], columns = ['online_label'], \n",
    "                                                            aggfunc = [len], values = ['urlhash'], \n",
    "                                                            fill_value = 0, margins = True)"
   ]
  },
  {
   "cell_type": "markdown",
   "metadata": {},
   "source": [
    "#### 线上线下一致性: online 与 mysql"
   ]
  },
  {
   "cell_type": "code",
   "execution_count": 70,
   "metadata": {
    "ExecuteTime": {
     "end_time": "2018-10-08T06:49:13.415073Z",
     "start_time": "2018-10-08T06:49:10.973263Z"
    }
   },
   "outputs": [
    {
     "name": "stdout",
     "output_type": "stream",
     "text": [
      "0.9673739629865986\n",
      "Right    24254\n",
      "Wrong      818\n",
      "Name: O_R_W, dtype: int64\n"
     ]
    },
    {
     "data": {
      "text/html": [
       "<div>\n",
       "<style scoped>\n",
       "    .dataframe tbody tr th:only-of-type {\n",
       "        vertical-align: middle;\n",
       "    }\n",
       "\n",
       "    .dataframe tbody tr th {\n",
       "        vertical-align: top;\n",
       "    }\n",
       "\n",
       "    .dataframe thead tr th {\n",
       "        text-align: left;\n",
       "    }\n",
       "\n",
       "    .dataframe thead tr:last-of-type th {\n",
       "        text-align: right;\n",
       "    }\n",
       "</style>\n",
       "<table border=\"1\" class=\"dataframe\">\n",
       "  <thead>\n",
       "    <tr>\n",
       "      <th></th>\n",
       "      <th colspan=\"9\" halign=\"left\">len</th>\n",
       "    </tr>\n",
       "    <tr>\n",
       "      <th></th>\n",
       "      <th colspan=\"9\" halign=\"left\">urlhash</th>\n",
       "    </tr>\n",
       "    <tr>\n",
       "      <th>online_label</th>\n",
       "      <th>产品销售</th>\n",
       "      <th>公司内部管理</th>\n",
       "      <th>其他相关报道</th>\n",
       "      <th>噪音</th>\n",
       "      <th>消费服务</th>\n",
       "      <th>监管</th>\n",
       "      <th>行业</th>\n",
       "      <th>资本市场</th>\n",
       "      <th>All</th>\n",
       "    </tr>\n",
       "    <tr>\n",
       "      <th>predict_label</th>\n",
       "      <th></th>\n",
       "      <th></th>\n",
       "      <th></th>\n",
       "      <th></th>\n",
       "      <th></th>\n",
       "      <th></th>\n",
       "      <th></th>\n",
       "      <th></th>\n",
       "      <th></th>\n",
       "    </tr>\n",
       "  </thead>\n",
       "  <tbody>\n",
       "    <tr>\n",
       "      <th>产品销售</th>\n",
       "      <td>0</td>\n",
       "      <td>0</td>\n",
       "      <td>0</td>\n",
       "      <td>0</td>\n",
       "      <td>1</td>\n",
       "      <td>0</td>\n",
       "      <td>0</td>\n",
       "      <td>0</td>\n",
       "      <td>1</td>\n",
       "    </tr>\n",
       "    <tr>\n",
       "      <th>公司内部管理</th>\n",
       "      <td>0</td>\n",
       "      <td>0</td>\n",
       "      <td>1</td>\n",
       "      <td>8</td>\n",
       "      <td>2</td>\n",
       "      <td>1</td>\n",
       "      <td>1</td>\n",
       "      <td>1</td>\n",
       "      <td>14</td>\n",
       "    </tr>\n",
       "    <tr>\n",
       "      <th>噪音</th>\n",
       "      <td>0</td>\n",
       "      <td>0</td>\n",
       "      <td>0</td>\n",
       "      <td>0</td>\n",
       "      <td>7</td>\n",
       "      <td>0</td>\n",
       "      <td>0</td>\n",
       "      <td>1</td>\n",
       "      <td>8</td>\n",
       "    </tr>\n",
       "    <tr>\n",
       "      <th>消费服务</th>\n",
       "      <td>296</td>\n",
       "      <td>9</td>\n",
       "      <td>19</td>\n",
       "      <td>263</td>\n",
       "      <td>0</td>\n",
       "      <td>25</td>\n",
       "      <td>21</td>\n",
       "      <td>63</td>\n",
       "      <td>696</td>\n",
       "    </tr>\n",
       "    <tr>\n",
       "      <th>监管</th>\n",
       "      <td>1</td>\n",
       "      <td>1</td>\n",
       "      <td>0</td>\n",
       "      <td>23</td>\n",
       "      <td>7</td>\n",
       "      <td>0</td>\n",
       "      <td>10</td>\n",
       "      <td>3</td>\n",
       "      <td>45</td>\n",
       "    </tr>\n",
       "    <tr>\n",
       "      <th>行业</th>\n",
       "      <td>4</td>\n",
       "      <td>1</td>\n",
       "      <td>2</td>\n",
       "      <td>19</td>\n",
       "      <td>11</td>\n",
       "      <td>9</td>\n",
       "      <td>0</td>\n",
       "      <td>3</td>\n",
       "      <td>49</td>\n",
       "    </tr>\n",
       "    <tr>\n",
       "      <th>资本市场</th>\n",
       "      <td>1</td>\n",
       "      <td>0</td>\n",
       "      <td>0</td>\n",
       "      <td>4</td>\n",
       "      <td>0</td>\n",
       "      <td>0</td>\n",
       "      <td>0</td>\n",
       "      <td>0</td>\n",
       "      <td>5</td>\n",
       "    </tr>\n",
       "    <tr>\n",
       "      <th>All</th>\n",
       "      <td>302</td>\n",
       "      <td>11</td>\n",
       "      <td>22</td>\n",
       "      <td>317</td>\n",
       "      <td>28</td>\n",
       "      <td>35</td>\n",
       "      <td>32</td>\n",
       "      <td>71</td>\n",
       "      <td>818</td>\n",
       "    </tr>\n",
       "  </tbody>\n",
       "</table>\n",
       "</div>"
      ],
      "text/plain": [
       "                  len                                          \n",
       "              urlhash                                          \n",
       "online_label     产品销售 公司内部管理 其他相关报道   噪音 消费服务  监管  行业 资本市场  All\n",
       "predict_label                                                  \n",
       "产品销售                0      0      0    0    1   0   0    0    1\n",
       "公司内部管理              0      0      1    8    2   1   1    1   14\n",
       "噪音                  0      0      0    0    7   0   0    1    8\n",
       "消费服务              296      9     19  263    0  25  21   63  696\n",
       "监管                  1      1      0   23    7   0  10    3   45\n",
       "行业                  4      1      2   19   11   9   0    3   49\n",
       "资本市场                1      0      0    4    0   0   0    0    5\n",
       "All               302     11     22  317   28  35  32   71  818"
      ]
     },
     "execution_count": 70,
     "metadata": {},
     "output_type": "execute_result"
    }
   ],
   "source": [
    "combined_data['O_R_W'] = combined_data.apply(lambda x: 'Right' if x['predict_label'] == x['online_label'] else 'Wrong', axis = 1)\n",
    "print(combined_data[combined_data['O_R_W'] == 'Right'].shape[0]/combined_data.shape[0])\n",
    "print(combined_data['O_R_W'].value_counts())\n",
    "combined_data[combined_data['O_R_W'] == 'Wrong'].pivot_table(index = ['predict_label'], columns = ['online_label'], \n",
    "                                                            aggfunc = [len], values = ['urlhash'], \n",
    "                                                            fill_value = 0, margins = True)"
   ]
  },
  {
   "cell_type": "markdown",
   "metadata": {},
   "source": [
    "## 线上模型"
   ]
  },
  {
   "cell_type": "markdown",
   "metadata": {},
   "source": [
    "### 八分类数据"
   ]
  },
  {
   "cell_type": "markdown",
   "metadata": {},
   "source": [
    "#### 计算数据"
   ]
  },
  {
   "cell_type": "code",
   "execution_count": null,
   "metadata": {
    "ExecuteTime": {
     "end_time": "2018-09-11T09:02:47.823194Z",
     "start_time": "2018-09-11T09:02:44.801Z"
    },
    "collapsed": true
   },
   "outputs": [],
   "source": [
    "# url = \"http://192.168.0.104:6001/judge_correlation_yjh\"\n",
    "url = \"http://47.93.77.19:6001/judge_correlation_yjh\"\n",
    "\n",
    "day_list = get_day_list('2018-09-08', '2018-09-10')\n",
    "print(day_list)"
   ]
  },
  {
   "cell_type": "code",
   "execution_count": null,
   "metadata": {
    "ExecuteTime": {
     "end_time": "2018-09-11T09:02:47.826194Z",
     "start_time": "2018-09-11T09:02:44.807Z"
    },
    "collapsed": true
   },
   "outputs": [],
   "source": [
    "# 不相关\n",
    "sql_cbrc_uncor = '''\"select id, title, content, group_id, publishtime \\\n",
    "                        from wise_web_docinfo_uncor \\\n",
    "                        where date_format(publishtime, '%%Y-%%m-%%d') = '{0}'\".format(day_select)'''\n",
    "\n",
    "save_filename = ''''cbrc_result_class/result/cbrc_uncor_predict_%s.xlsx'%day_select'''\n",
    "get_serve_data_yjh(day_list, sql_cbrc_uncor, url, 'sec', save_filename)"
   ]
  },
  {
   "cell_type": "code",
   "execution_count": null,
   "metadata": {
    "ExecuteTime": {
     "end_time": "2018-09-11T09:02:47.828194Z",
     "start_time": "2018-09-11T09:02:44.811Z"
    },
    "collapsed": true
   },
   "outputs": [],
   "source": [
    "# 相关\n",
    "sql_cbrc_cor = '''\n",
    "\"select t1.id, t1.title,t2.text as content, t1.group_id, t1.publishtime as publishtime \\\n",
    "                    from elint_web_docinfo t1, wise_web_docinfo_text t2 \\\n",
    "                        where t1.id=t2.doc_id \\\n",
    "                              and date_format(t1.publishtime, '%%Y-%%m-%%d') = '{0}' \\\n",
    "                              group by t1.titlehash\".format(day_select)\n",
    "'''\n",
    "\n",
    "save_filename = ''''cbrc_result_class/result/cbrc_cor_predict_%s.xlsx'%day_select'''\n",
    "get_serve_data_yjh(day_list, sql_cbrc_cor, url, 'sec', save_filename)"
   ]
  },
  {
   "cell_type": "markdown",
   "metadata": {},
   "source": [
    "#### 合并 & 保存"
   ]
  },
  {
   "cell_type": "code",
   "execution_count": null,
   "metadata": {
    "ExecuteTime": {
     "end_time": "2018-09-11T09:02:47.831194Z",
     "start_time": "2018-09-11T09:02:44.816Z"
    },
    "collapsed": true
   },
   "outputs": [],
   "source": [
    "combined_uncor = pd.DataFrame()\n",
    "for day_select in day_list:\n",
    "    tmp_data = pd.read_excel('cbrc_result_class/result/cbrc_uncor_predict_%s.xlsx'%day_select)\n",
    "    combined_uncor = pd.concat([combined_uncor, tmp_data], axis = 0)\n",
    "    \n",
    "print(combined_uncor.shape)  \n",
    "print('去重前：', combined_uncor.shape)\n",
    "combined_uncor = combined_uncor.drop_duplicates(subset = ['title', 'content'])\n",
    "print('去重后：', combined_uncor.shape)  \n",
    "combined_uncor = combined_uncor.dropna(subset = ['title', 'content'], axis = 0)\n",
    "print('去空值后：', combined_uncor.shape)  \n",
    "\n",
    "print(combined_uncor['predict_label'].value_counts())\n",
    "combined_uncor.head()"
   ]
  },
  {
   "cell_type": "code",
   "execution_count": null,
   "metadata": {
    "ExecuteTime": {
     "end_time": "2018-09-11T09:02:47.836194Z",
     "start_time": "2018-09-11T09:02:44.820Z"
    },
    "collapsed": true
   },
   "outputs": [],
   "source": [
    "fea_filename = 'cbrc_result_class/result/cbrc_uncor_predict_class_20180911(0909-0910).xlsx'\n",
    "with pd.ExcelWriter(fea_filename) as writer:\n",
    "    for label in combined_uncor['predict_label'].unique():\n",
    "        tmp_data = combined_uncor[combined_uncor['predict_label'] == label]\n",
    "        if tmp_data.shape[0] > 100:\n",
    "            N = 200\n",
    "            tmp_data.sample(n = N, axis = 0, random_state=42).to_excel(writer,label, index = False)\n",
    "    \n",
    "    writer.save()"
   ]
  },
  {
   "cell_type": "code",
   "execution_count": null,
   "metadata": {
    "ExecuteTime": {
     "end_time": "2018-09-11T09:02:47.839195Z",
     "start_time": "2018-09-11T09:02:44.826Z"
    },
    "collapsed": true
   },
   "outputs": [],
   "source": [
    "combined_cor = pd.DataFrame()\n",
    "for day_select in day_list:\n",
    "    tmp_data = pd.read_excel('cbrc_result_class/result/cbrc_cor_predict_%s.xlsx'%day_select)\n",
    "    combined_cor = pd.concat([combined_cor, tmp_data], axis = 0)\n",
    "\n",
    "print(combined_cor.shape)  \n",
    "print('去重前：', combined_cor.shape)\n",
    "combined_cor = combined_cor.drop_duplicates(subset = ['title', 'content'])\n",
    "print('去重后：', combined_cor.shape)  \n",
    "combined_cor = combined_cor.dropna(subset = ['title', 'content'], axis = 0)\n",
    "print('去空值后：', combined_cor.shape)  \n",
    "\n",
    "print(combined_cor.shape)  \n",
    "print(combined_cor['predict_label'].value_counts())\n",
    "combined_cor.head()"
   ]
  },
  {
   "cell_type": "code",
   "execution_count": null,
   "metadata": {
    "ExecuteTime": {
     "end_time": "2018-09-11T09:02:47.844195Z",
     "start_time": "2018-09-11T09:02:44.829Z"
    },
    "collapsed": true
   },
   "outputs": [],
   "source": [
    "fea_filename = 'cbrc_result_class/result/cbrc_cor_predict_class_20180911(0909-0910).xlsx'\n",
    "with pd.ExcelWriter(fea_filename) as writer:\n",
    "    for label in combined_cor['predict_label'].unique():\n",
    "        tmp_data = combined_cor[combined_cor['predict_label'] == label]\n",
    "        if tmp_data.shape[0] > 700:\n",
    "            N = 200\n",
    "            tmp_data.sample(n = N, axis = 0, random_state=42).to_excel(writer,label, index = False)\n",
    "    \n",
    "    writer.save()"
   ]
  },
  {
   "cell_type": "markdown",
   "metadata": {
    "ExecuteTime": {
     "end_time": "2018-09-11T03:51:49.646007Z",
     "start_time": "2018-09-11T03:51:48.860962Z"
    },
    "collapsed": true
   },
   "source": [
    "# 银行业与保险业--新"
   ]
  },
  {
   "cell_type": "code",
   "execution_count": null,
   "metadata": {
    "collapsed": true
   },
   "outputs": [],
   "source": [
    "engine = specific_func.get_engine('cbirc')"
   ]
  },
  {
   "cell_type": "code",
   "execution_count": null,
   "metadata": {
    "collapsed": true
   },
   "outputs": [],
   "source": []
  },
  {
   "cell_type": "markdown",
   "metadata": {},
   "source": [
    "## mysql 数据"
   ]
  },
  {
   "cell_type": "code",
   "execution_count": null,
   "metadata": {
    "collapsed": true
   },
   "outputs": [],
   "source": []
  },
  {
   "cell_type": "markdown",
   "metadata": {},
   "source": [
    "## 本地模型"
   ]
  },
  {
   "cell_type": "markdown",
   "metadata": {},
   "source": [
    "### 八分类"
   ]
  },
  {
   "cell_type": "code",
   "execution_count": 19,
   "metadata": {
    "ExecuteTime": {
     "end_time": "2018-09-20T03:26:26.197443Z",
     "start_time": "2018-09-20T03:26:23.897915Z"
    },
    "collapsed": true
   },
   "outputs": [],
   "source": [
    "from sklearn.externals import joblib\n",
    "pipeline_old = joblib.load( \"model/circ_8classifier_1015.pkl.z\")"
   ]
  },
  {
   "cell_type": "code",
   "execution_count": 24,
   "metadata": {
    "ExecuteTime": {
     "end_time": "2018-09-20T03:30:52.594390Z",
     "start_time": "2018-09-20T03:28:37.834752Z"
    }
   },
   "outputs": [
    {
     "name": "stdout",
     "output_type": "stream",
     "text": [
      "8511\n"
     ]
    }
   ],
   "source": [
    "combined_data['title_content'] = combined_data['title'].astype(str) + '。' + combined_data['content'].astype(str)\n",
    "title_content = pre_cor_circ.handle_contents(combined_data['title_content'].tolist())\n",
    "print(len(title_content))"
   ]
  },
  {
   "cell_type": "code",
   "execution_count": 36,
   "metadata": {
    "ExecuteTime": {
     "end_time": "2018-09-20T03:50:49.215820Z",
     "start_time": "2018-09-20T03:50:00.421029Z"
    }
   },
   "outputs": [
    {
     "name": "stdout",
     "output_type": "stream",
     "text": [
      "(8511, 12)\n"
     ]
    },
    {
     "data": {
      "text/html": [
       "<div>\n",
       "<style scoped>\n",
       "    .dataframe tbody tr th:only-of-type {\n",
       "        vertical-align: middle;\n",
       "    }\n",
       "\n",
       "    .dataframe tbody tr th {\n",
       "        vertical-align: top;\n",
       "    }\n",
       "\n",
       "    .dataframe thead th {\n",
       "        text-align: right;\n",
       "    }\n",
       "</style>\n",
       "<table border=\"1\" class=\"dataframe\">\n",
       "  <thead>\n",
       "    <tr style=\"text-align: right;\">\n",
       "      <th></th>\n",
       "      <th>id</th>\n",
       "      <th>group_id</th>\n",
       "      <th>predict_label</th>\n",
       "      <th>label</th>\n",
       "      <th>title</th>\n",
       "      <th>content</th>\n",
       "      <th>publishtime</th>\n",
       "      <th>title_content</th>\n",
       "      <th>local_label</th>\n",
       "      <th>predict_proba</th>\n",
       "      <th>R_W</th>\n",
       "      <th>local_proba</th>\n",
       "    </tr>\n",
       "  </thead>\n",
       "  <tbody>\n",
       "    <tr>\n",
       "      <th>0</th>\n",
       "      <td>10910729</td>\n",
       "      <td>新闻</td>\n",
       "      <td>其他相关报道</td>\n",
       "      <td>NaN</td>\n",
       "      <td>阳光人寿天津分公司组织开展贫困生帮扶活动</td>\n",
       "      <td>近日，为深入贯彻党的十九大工作报告关于坚决打赢脱贫攻坚战的新任务、新要求，深入落实中央、...</td>\n",
       "      <td>2018-09-20 10:20:46</td>\n",
       "      <td>阳光人寿天津分公司组织开展贫困生帮扶活动。　　近日，为深入贯彻党的十九大工作报告关于坚决打赢...</td>\n",
       "      <td>其他相关报道</td>\n",
       "      <td>0.995057</td>\n",
       "      <td>Right</td>\n",
       "      <td>0.995057</td>\n",
       "    </tr>\n",
       "    <tr>\n",
       "      <th>1</th>\n",
       "      <td>10908460</td>\n",
       "      <td>微信</td>\n",
       "      <td>监管</td>\n",
       "      <td>NaN</td>\n",
       "      <td>监管风暴再度来袭，3000个虚拟货币交易账户被关闭</td>\n",
       "      <td>链尚财经 链尙未来，链上你我 从去年的“9.4风暴”开始，监管层对数字货币的打击态度从未放松...</td>\n",
       "      <td>2018-09-20 08:23:52</td>\n",
       "      <td>监管风暴再度来袭，3000个虚拟货币交易账户被关闭。链尚财经 链尙未来，链上你我 从去年的“...</td>\n",
       "      <td>监管</td>\n",
       "      <td>0.781802</td>\n",
       "      <td>Right</td>\n",
       "      <td>0.781802</td>\n",
       "    </tr>\n",
       "  </tbody>\n",
       "</table>\n",
       "</div>"
      ],
      "text/plain": [
       "         id group_id predict_label  label                      title  \\\n",
       "0  10910729       新闻        其他相关报道    NaN       阳光人寿天津分公司组织开展贫困生帮扶活动   \n",
       "1  10908460       微信            监管    NaN  监管风暴再度来袭，3000个虚拟货币交易账户被关闭   \n",
       "\n",
       "                                             content         publishtime  \\\n",
       "0  　　近日，为深入贯彻党的十九大工作报告关于坚决打赢脱贫攻坚战的新任务、新要求，深入落实中央、... 2018-09-20 10:20:46   \n",
       "1  链尚财经 链尙未来，链上你我 从去年的“9.4风暴”开始，监管层对数字货币的打击态度从未放松... 2018-09-20 08:23:52   \n",
       "\n",
       "                                       title_content local_label  \\\n",
       "0  阳光人寿天津分公司组织开展贫困生帮扶活动。　　近日，为深入贯彻党的十九大工作报告关于坚决打赢...      其他相关报道   \n",
       "1  监管风暴再度来袭，3000个虚拟货币交易账户被关闭。链尚财经 链尙未来，链上你我 从去年的“...          监管   \n",
       "\n",
       "   predict_proba    R_W  local_proba  \n",
       "0       0.995057  Right     0.995057  \n",
       "1       0.781802  Right     0.781802  "
      ]
     },
     "execution_count": 36,
     "metadata": {},
     "output_type": "execute_result"
    }
   ],
   "source": [
    "local_label = pipeline_old.predict(title_content)\n",
    "local_proba = pipeline_old.predict_proba(title_content)\n",
    "\n",
    "combined_data['local_label'] = local_label\n",
    "combined_data['local_proba'] = local_proba.max(axis = 1)\n",
    "combined_data['local_label'] = combined_data['local_label'].apply(lambda x:class_name_dict[x])\n",
    "print(combined_data.shape)\n",
    "combined_data.iloc[:2, :]"
   ]
  },
  {
   "cell_type": "markdown",
   "metadata": {},
   "source": [
    "#### 线上线下一致性"
   ]
  },
  {
   "cell_type": "code",
   "execution_count": 34,
   "metadata": {
    "ExecuteTime": {
     "end_time": "2018-09-20T03:48:25.094577Z",
     "start_time": "2018-09-20T03:48:24.380536Z"
    }
   },
   "outputs": [
    {
     "name": "stdout",
     "output_type": "stream",
     "text": [
      "0.9836681941017507\n",
      "Right    8372\n",
      "Wrong     139\n",
      "Name: R_W, dtype: int64\n"
     ]
    },
    {
     "data": {
      "text/html": [
       "<div>\n",
       "<style scoped>\n",
       "    .dataframe tbody tr th:only-of-type {\n",
       "        vertical-align: middle;\n",
       "    }\n",
       "\n",
       "    .dataframe tbody tr th {\n",
       "        vertical-align: top;\n",
       "    }\n",
       "\n",
       "    .dataframe thead tr th {\n",
       "        text-align: left;\n",
       "    }\n",
       "\n",
       "    .dataframe thead tr:last-of-type th {\n",
       "        text-align: right;\n",
       "    }\n",
       "</style>\n",
       "<table border=\"1\" class=\"dataframe\">\n",
       "  <thead>\n",
       "    <tr>\n",
       "      <th></th>\n",
       "      <th colspan=\"9\" halign=\"left\">len</th>\n",
       "    </tr>\n",
       "    <tr>\n",
       "      <th></th>\n",
       "      <th colspan=\"9\" halign=\"left\">id</th>\n",
       "    </tr>\n",
       "    <tr>\n",
       "      <th>predict_label</th>\n",
       "      <th>产品销售</th>\n",
       "      <th>公司内部管理</th>\n",
       "      <th>其他相关报道</th>\n",
       "      <th>噪音</th>\n",
       "      <th>消费服务</th>\n",
       "      <th>监管</th>\n",
       "      <th>行业</th>\n",
       "      <th>资本市场</th>\n",
       "      <th>All</th>\n",
       "    </tr>\n",
       "    <tr>\n",
       "      <th>local_label</th>\n",
       "      <th></th>\n",
       "      <th></th>\n",
       "      <th></th>\n",
       "      <th></th>\n",
       "      <th></th>\n",
       "      <th></th>\n",
       "      <th></th>\n",
       "      <th></th>\n",
       "      <th></th>\n",
       "    </tr>\n",
       "  </thead>\n",
       "  <tbody>\n",
       "    <tr>\n",
       "      <th>产品销售</th>\n",
       "      <td>0</td>\n",
       "      <td>1</td>\n",
       "      <td>1</td>\n",
       "      <td>2</td>\n",
       "      <td>0</td>\n",
       "      <td>0</td>\n",
       "      <td>0</td>\n",
       "      <td>0</td>\n",
       "      <td>4</td>\n",
       "    </tr>\n",
       "    <tr>\n",
       "      <th>公司内部管理</th>\n",
       "      <td>1</td>\n",
       "      <td>0</td>\n",
       "      <td>3</td>\n",
       "      <td>6</td>\n",
       "      <td>0</td>\n",
       "      <td>0</td>\n",
       "      <td>0</td>\n",
       "      <td>0</td>\n",
       "      <td>10</td>\n",
       "    </tr>\n",
       "    <tr>\n",
       "      <th>其他相关报道</th>\n",
       "      <td>0</td>\n",
       "      <td>4</td>\n",
       "      <td>0</td>\n",
       "      <td>6</td>\n",
       "      <td>0</td>\n",
       "      <td>0</td>\n",
       "      <td>1</td>\n",
       "      <td>0</td>\n",
       "      <td>11</td>\n",
       "    </tr>\n",
       "    <tr>\n",
       "      <th>噪音</th>\n",
       "      <td>17</td>\n",
       "      <td>2</td>\n",
       "      <td>2</td>\n",
       "      <td>0</td>\n",
       "      <td>1</td>\n",
       "      <td>2</td>\n",
       "      <td>4</td>\n",
       "      <td>12</td>\n",
       "      <td>40</td>\n",
       "    </tr>\n",
       "    <tr>\n",
       "      <th>消费服务</th>\n",
       "      <td>0</td>\n",
       "      <td>1</td>\n",
       "      <td>1</td>\n",
       "      <td>9</td>\n",
       "      <td>0</td>\n",
       "      <td>0</td>\n",
       "      <td>1</td>\n",
       "      <td>1</td>\n",
       "      <td>13</td>\n",
       "    </tr>\n",
       "    <tr>\n",
       "      <th>监管</th>\n",
       "      <td>0</td>\n",
       "      <td>0</td>\n",
       "      <td>0</td>\n",
       "      <td>17</td>\n",
       "      <td>3</td>\n",
       "      <td>0</td>\n",
       "      <td>2</td>\n",
       "      <td>0</td>\n",
       "      <td>22</td>\n",
       "    </tr>\n",
       "    <tr>\n",
       "      <th>行业</th>\n",
       "      <td>2</td>\n",
       "      <td>2</td>\n",
       "      <td>0</td>\n",
       "      <td>5</td>\n",
       "      <td>4</td>\n",
       "      <td>1</td>\n",
       "      <td>0</td>\n",
       "      <td>0</td>\n",
       "      <td>14</td>\n",
       "    </tr>\n",
       "    <tr>\n",
       "      <th>资本市场</th>\n",
       "      <td>0</td>\n",
       "      <td>0</td>\n",
       "      <td>0</td>\n",
       "      <td>25</td>\n",
       "      <td>0</td>\n",
       "      <td>0</td>\n",
       "      <td>0</td>\n",
       "      <td>0</td>\n",
       "      <td>25</td>\n",
       "    </tr>\n",
       "    <tr>\n",
       "      <th>All</th>\n",
       "      <td>20</td>\n",
       "      <td>10</td>\n",
       "      <td>7</td>\n",
       "      <td>70</td>\n",
       "      <td>8</td>\n",
       "      <td>3</td>\n",
       "      <td>8</td>\n",
       "      <td>13</td>\n",
       "      <td>139</td>\n",
       "    </tr>\n",
       "  </tbody>\n",
       "</table>\n",
       "</div>"
      ],
      "text/plain": [
       "               len                                       \n",
       "                id                                       \n",
       "predict_label 产品销售 公司内部管理 其他相关报道  噪音 消费服务 监管 行业 资本市场  All\n",
       "local_label                                              \n",
       "产品销售             0      1      1   2    0  0  0    0    4\n",
       "公司内部管理           1      0      3   6    0  0  0    0   10\n",
       "其他相关报道           0      4      0   6    0  0  1    0   11\n",
       "噪音              17      2      2   0    1  2  4   12   40\n",
       "消费服务             0      1      1   9    0  0  1    1   13\n",
       "监管               0      0      0  17    3  0  2    0   22\n",
       "行业               2      2      0   5    4  1  0    0   14\n",
       "资本市场             0      0      0  25    0  0  0    0   25\n",
       "All             20     10      7  70    8  3  8   13  139"
      ]
     },
     "execution_count": 34,
     "metadata": {},
     "output_type": "execute_result"
    }
   ],
   "source": [
    "combined_data['R_W'] = combined_data.apply(lambda x: 'Right' if x['local_label'] == x['predict_label'] else 'Wrong', axis = 1)\n",
    "print(combined_data[combined_data['R_W'] == 'Right'].shape[0]/combined_data.shape[0])\n",
    "print(combined_data['R_W'].value_counts())\n",
    "combined_data[combined_data['R_W'] == 'Wrong'].pivot_table(index = ['local_label'], columns = ['predict_label'], \n",
    "                                                            aggfunc = [len], values = ['id'], \n",
    "                                                            fill_value = 0, margins = True)"
   ]
  },
  {
   "cell_type": "markdown",
   "metadata": {},
   "source": [
    "# 保存本文件"
   ]
  },
  {
   "cell_type": "code",
   "execution_count": null,
   "metadata": {
    "ExecuteTime": {
     "end_time": "2018-09-11T09:02:47.846195Z",
     "start_time": "2018-09-11T09:02:44.835Z"
    },
    "collapsed": true
   },
   "outputs": [],
   "source": [
    "if 0:\n",
    "    import datetime as dt\n",
    "    \n",
    "    def output_HTML(read_file, output_file):\n",
    "        from nbconvert import HTMLExporter\n",
    "        import codecs\n",
    "        import nbformat\n",
    "        exporter = HTMLExporter()\n",
    "        # read_file is '.ipynb', output_file is '.html'\n",
    "        output_notebook = nbformat.read(read_file, as_version=4)\n",
    "        output, resources = exporter.from_notebook_node(output_notebook)\n",
    "        codecs.open(output_file, 'w', encoding='utf-8').write(output)\n",
    "\n",
    "    html_file_folder = 'html_files'\n",
    "    if not os.path.exists(html_file_folder):\n",
    "        os.makedirs(html_file_folder)\n",
    "\n",
    "    today = dt.datetime.now().strftime('%Y%m%d')\n",
    "    current_file = 'circ_cor_model_2_train.ipynb'\n",
    "    output_file = 'html_files\\%s_%s.html'%(os.path.splitext(current_file)[0], today)\n",
    "    output_HTML(current_file, output_file)"
   ]
  }
 ],
 "metadata": {
  "kernelspec": {
   "display_name": "Python 3",
   "language": "python",
   "name": "python3"
  },
  "language_info": {
   "codemirror_mode": {
    "name": "ipython",
    "version": 3
   },
   "file_extension": ".py",
   "mimetype": "text/x-python",
   "name": "python",
   "nbconvert_exporter": "python",
   "pygments_lexer": "ipython3",
   "version": "3.6.3"
  },
  "toc": {
   "nav_menu": {},
   "number_sections": true,
   "sideBar": true,
   "skip_h1_title": false,
   "title_cell": "Table of Contents",
   "title_sidebar": "Contents",
   "toc_cell": false,
   "toc_position": {
    "height": "calc(100% - 180px)",
    "left": "10px",
    "top": "150px",
    "width": "376px"
   },
   "toc_section_display": true,
   "toc_window_display": true
  },
  "varInspector": {
   "cols": {
    "lenName": 16,
    "lenType": 16,
    "lenVar": 40
   },
   "kernels_config": {
    "python": {
     "delete_cmd_postfix": "",
     "delete_cmd_prefix": "del ",
     "library": "var_list.py",
     "varRefreshCmd": "print(var_dic_list())"
    },
    "r": {
     "delete_cmd_postfix": ") ",
     "delete_cmd_prefix": "rm(",
     "library": "var_list.r",
     "varRefreshCmd": "cat(var_dic_list()) "
    }
   },
   "types_to_exclude": [
    "module",
    "function",
    "builtin_function_or_method",
    "instance",
    "_Feature"
   ],
   "window_display": false
  }
 },
 "nbformat": 4,
 "nbformat_minor": 2
}
