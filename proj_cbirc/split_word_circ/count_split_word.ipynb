{
 "cells": [
  {
   "cell_type": "markdown",
   "metadata": {},
   "source": [
    "# 本文件说明\n",
    "- 需求时间：20180731\n",
    "- 挑出八分类找那个各类数据（title + content）分词计算词频"
   ]
  },
  {
   "cell_type": "markdown",
   "metadata": {},
   "source": [
    "# 基本设置"
   ]
  },
  {
   "cell_type": "code",
   "execution_count": 66,
   "metadata": {
    "ExecuteTime": {
     "end_time": "2018-08-03T07:31:19.147372Z",
     "start_time": "2018-08-03T07:31:18.930359Z"
    }
   },
   "outputs": [],
   "source": [
    "import numpy as np\n",
    "import pandas as pd\n",
    "\n",
    "from matplotlib import pyplot as plt\n",
    "import seaborn as sns\n",
    "%matplotlib inline\n",
    "\n",
    "import jieba\n",
    "from collections import Counter\n",
    "import pre_cor_1"
   ]
  },
  {
   "cell_type": "markdown",
   "metadata": {},
   "source": [
    "# 导入数据"
   ]
  },
  {
   "cell_type": "code",
   "execution_count": 67,
   "metadata": {
    "ExecuteTime": {
     "end_time": "2018-08-03T07:33:12.257841Z",
     "start_time": "2018-08-03T07:33:10.023713Z"
    }
   },
   "outputs": [
    {
     "name": "stdout",
     "output_type": "stream",
     "text": [
      "(10530, 5)\n"
     ]
    },
    {
     "data": {
      "text/html": [
       "<div>\n",
       "<style scoped>\n",
       "    .dataframe tbody tr th:only-of-type {\n",
       "        vertical-align: middle;\n",
       "    }\n",
       "\n",
       "    .dataframe tbody tr th {\n",
       "        vertical-align: top;\n",
       "    }\n",
       "\n",
       "    .dataframe thead th {\n",
       "        text-align: right;\n",
       "    }\n",
       "</style>\n",
       "<table border=\"1\" class=\"dataframe\">\n",
       "  <thead>\n",
       "    <tr style=\"text-align: right;\">\n",
       "      <th></th>\n",
       "      <th>title</th>\n",
       "      <th>content</th>\n",
       "      <th>label</th>\n",
       "      <th>title_content</th>\n",
       "      <th>index</th>\n",
       "    </tr>\n",
       "  </thead>\n",
       "  <tbody>\n",
       "    <tr>\n",
       "      <th>0</th>\n",
       "      <td>做好规划不当月光族不做守财奴</td>\n",
       "      <td>一一妈妈说理财·出品\\n (图片)\\n\\r月光族困惑：···这个月才过半，各种经费不够啊！...</td>\n",
       "      <td>噪音</td>\n",
       "      <td>做好规划不当月光族不做守财奴。 一一妈妈说理财·出品\\n (图片)\\n\\r月光族困惑：···...</td>\n",
       "      <td>0</td>\n",
       "    </tr>\n",
       "    <tr>\n",
       "      <th>1</th>\n",
       "      <td>做车险代理的前景如何 谊信合让你的财富事业迈上新高度</td>\n",
       "      <td>小本创业网\\n\\r»\\n\\r加盟项目资讯›\\n\\r»\\n\\r资讯中心\\n\\r»\\n\\r做车...</td>\n",
       "      <td>噪音</td>\n",
       "      <td>做车险代理的前景如何 谊信合让你的财富事业迈上新高度。 小本创业网\\n\\r»\\n\\r加盟项目...</td>\n",
       "      <td>1</td>\n",
       "    </tr>\n",
       "    <tr>\n",
       "      <th>2</th>\n",
       "      <td>坐飞机必须买保险？航意险适合哪些人？</td>\n",
       "      <td>坐飞机必须买保险？航意险适合哪些人？\\n\\r　　随着经济的发展，大家对生活品质的追求，越来...</td>\n",
       "      <td>产品销售</td>\n",
       "      <td>坐飞机必须买保险？航意险适合哪些人？。 坐飞机必须买保险？航意险适合哪些人？\\n\\r　　随着...</td>\n",
       "      <td>2</td>\n",
       "    </tr>\n",
       "    <tr>\n",
       "      <th>3</th>\n",
       "      <td>左权县人民政府金融工作办公室2017年统筹整合财政资金项目公示</td>\n",
       "      <td>\\n\\r为推进我县\\n“五位一体”扶贫小额信贷工作，各承贷银行对全县建档立卡贫困户累计备案...</td>\n",
       "      <td>噪音</td>\n",
       "      <td>左权县人民政府金融工作办公室2017年统筹整合财政资金项目公示。 \\n\\r为推进我县\\n“五...</td>\n",
       "      <td>3</td>\n",
       "    </tr>\n",
       "    <tr>\n",
       "      <th>4</th>\n",
       "      <td>昨天车险报案比平常翻倍</td>\n",
       "      <td>(图片)\\n\\r雪中骑行滑倒 朱小军 摄\\n\\r　　一场暴雪让扬州各家保险公司忙翻了天，车...</td>\n",
       "      <td>消费服务</td>\n",
       "      <td>昨天车险报案比平常翻倍。 (图片)\\n\\r雪中骑行滑倒 朱小军 摄\\n\\r　　一场暴雪让扬州...</td>\n",
       "      <td>4</td>\n",
       "    </tr>\n",
       "  </tbody>\n",
       "</table>\n",
       "</div>"
      ],
      "text/plain": [
       "                             title  \\\n",
       "0                   做好规划不当月光族不做守财奴   \n",
       "1       做车险代理的前景如何 谊信合让你的财富事业迈上新高度   \n",
       "2               坐飞机必须买保险？航意险适合哪些人？   \n",
       "3  左权县人民政府金融工作办公室2017年统筹整合财政资金项目公示   \n",
       "4                      昨天车险报案比平常翻倍   \n",
       "\n",
       "                                             content label  \\\n",
       "0   一一妈妈说理财·出品\\n (图片)\\n\\r月光族困惑：···这个月才过半，各种经费不够啊！...    噪音   \n",
       "1   小本创业网\\n\\r»\\n\\r加盟项目资讯›\\n\\r»\\n\\r资讯中心\\n\\r»\\n\\r做车...    噪音   \n",
       "2   坐飞机必须买保险？航意险适合哪些人？\\n\\r　　随着经济的发展，大家对生活品质的追求，越来...  产品销售   \n",
       "3   \\n\\r为推进我县\\n“五位一体”扶贫小额信贷工作，各承贷银行对全县建档立卡贫困户累计备案...    噪音   \n",
       "4   (图片)\\n\\r雪中骑行滑倒 朱小军 摄\\n\\r　　一场暴雪让扬州各家保险公司忙翻了天，车...  消费服务   \n",
       "\n",
       "                                       title_content  index  \n",
       "0  做好规划不当月光族不做守财奴。 一一妈妈说理财·出品\\n (图片)\\n\\r月光族困惑：···...      0  \n",
       "1  做车险代理的前景如何 谊信合让你的财富事业迈上新高度。 小本创业网\\n\\r»\\n\\r加盟项目...      1  \n",
       "2  坐飞机必须买保险？航意险适合哪些人？。 坐飞机必须买保险？航意险适合哪些人？\\n\\r　　随着...      2  \n",
       "3  左权县人民政府金融工作办公室2017年统筹整合财政资金项目公示。 \\n\\r为推进我县\\n“五...      3  \n",
       "4  昨天车险报案比平常翻倍。 (图片)\\n\\r雪中骑行滑倒 朱小军 摄\\n\\r　　一场暴雪让扬州...      4  "
      ]
     },
     "execution_count": 67,
     "metadata": {},
     "output_type": "execute_result"
    }
   ],
   "source": [
    "data = pd.read_excel('data/title_content_label.xlsx')\n",
    "data['label'] = data['label'].apply(lambda x:x.strip())\n",
    "print(data.shape)\n",
    "data.head()"
   ]
  },
  {
   "cell_type": "code",
   "execution_count": 68,
   "metadata": {
    "ExecuteTime": {
     "end_time": "2018-08-03T07:33:12.407850Z",
     "start_time": "2018-08-03T07:33:12.386848Z"
    }
   },
   "outputs": [
    {
     "data": {
      "text/plain": [
       "噪音        3376\n",
       "消费服务      1573\n",
       "监管        1488\n",
       "其他相关报道    1456\n",
       "公司内部管理     901\n",
       "行业         763\n",
       "资本市场       583\n",
       "产品销售       390\n",
       "Name: label, dtype: int64"
      ]
     },
     "execution_count": 68,
     "metadata": {},
     "output_type": "execute_result"
    }
   ],
   "source": [
    "data['label'].value_counts()"
   ]
  },
  {
   "cell_type": "markdown",
   "metadata": {},
   "source": [
    "# 导入字典"
   ]
  },
  {
   "cell_type": "markdown",
   "metadata": {},
   "source": [
    "## 负面词"
   ]
  },
  {
   "cell_type": "code",
   "execution_count": 69,
   "metadata": {
    "ExecuteTime": {
     "end_time": "2018-08-03T07:33:19.331246Z",
     "start_time": "2018-08-03T07:33:19.302244Z"
    }
   },
   "outputs": [
    {
     "name": "stdout",
     "output_type": "stream",
     "text": [
      "1147\n"
     ]
    }
   ],
   "source": [
    "neg_1 = []\n",
    "f = open('corpus/neg_words.txt', 'r+', encoding = 'utf-8')\n",
    "for line in f.readlines():\n",
    "    neg_1.append(line.strip().encode('utf-8').decode('utf-8-sig'))\n",
    "f.close()    \n",
    "print(len(neg_1))"
   ]
  },
  {
   "cell_type": "code",
   "execution_count": 70,
   "metadata": {
    "ExecuteTime": {
     "end_time": "2018-08-03T07:33:19.879277Z",
     "start_time": "2018-08-03T07:33:19.858276Z"
    }
   },
   "outputs": [
    {
     "name": "stdout",
     "output_type": "stream",
     "text": [
      "864\n"
     ]
    }
   ],
   "source": [
    "neg_2 = []\n",
    "f = open('corpus/negative_words.txt', 'r+', encoding = 'utf-8')\n",
    "for line in f.readlines():\n",
    "    neg_2.append(line.strip().encode('utf-8').decode('utf-8-sig'))\n",
    "f.close() \n",
    "print(len(neg_2))"
   ]
  },
  {
   "cell_type": "code",
   "execution_count": 71,
   "metadata": {
    "ExecuteTime": {
     "end_time": "2018-08-03T07:33:20.394306Z",
     "start_time": "2018-08-03T07:33:20.388306Z"
    },
    "collapsed": true
   },
   "outputs": [],
   "source": [
    "# neg_3 = pd.read_excel('corpus/银行业微博负面词.xlsx')\n",
    "# print(neg_3.shape)\n",
    "# neg_3.head()"
   ]
  },
  {
   "cell_type": "code",
   "execution_count": 72,
   "metadata": {
    "ExecuteTime": {
     "end_time": "2018-08-03T07:33:20.905336Z",
     "start_time": "2018-08-03T07:33:20.902336Z"
    },
    "collapsed": true
   },
   "outputs": [],
   "source": [
    "# neg_4 = pd.read_excel('corpus/银行业负面词及预警词-长文本.xlsx')\n",
    "# print(neg_4.shape)\n",
    "# neg_4.head()"
   ]
  },
  {
   "cell_type": "code",
   "execution_count": 73,
   "metadata": {
    "ExecuteTime": {
     "end_time": "2018-08-03T07:33:21.744384Z",
     "start_time": "2018-08-03T07:33:21.726383Z"
    }
   },
   "outputs": [
    {
     "name": "stdout",
     "output_type": "stream",
     "text": [
      "去重前： 2011\n",
      "去重后： 1959\n",
      "remove_word:  银行\n"
     ]
    }
   ],
   "source": [
    "neg_words = neg_1 + neg_2 # + neg_3['关键词'].tolist() + neg_4['预警词'].tolist()\n",
    "print('去重前：', len(neg_words))\n",
    "neg_words = list(set(neg_words))\n",
    "print('去重后：', len(neg_words))\\\n",
    "\n",
    "remove_list = ['银行',]\n",
    "for remove_word in remove_list:\n",
    "    if remove_word in  neg_words:\n",
    "        neg_words.remove(remove_word)\n",
    "        print('remove_word: ', remove_word)"
   ]
  },
  {
   "cell_type": "code",
   "execution_count": 74,
   "metadata": {
    "ExecuteTime": {
     "end_time": "2018-08-03T07:33:22.239412Z",
     "start_time": "2018-08-03T07:33:22.236412Z"
    },
    "collapsed": true
   },
   "outputs": [],
   "source": [
    "# x = '银行'\n",
    "# if x in neg_words:\n",
    "#     print(neg_words.index(x))\n",
    "#     print(neg_words[neg_words.index(x)])"
   ]
  },
  {
   "cell_type": "code",
   "execution_count": 75,
   "metadata": {
    "ExecuteTime": {
     "end_time": "2018-08-03T07:33:22.669437Z",
     "start_time": "2018-08-03T07:33:22.661436Z"
    },
    "collapsed": true
   },
   "outputs": [],
   "source": [
    "f = open('corpus/neg_words_20180731_insurance.txt', 'w+', encoding = 'utf-8')\n",
    "for line in neg_words:\n",
    "    f.write(line + '\\n')\n",
    "f.close()    "
   ]
  },
  {
   "cell_type": "markdown",
   "metadata": {},
   "source": [
    "## 保险业词典"
   ]
  },
  {
   "cell_type": "code",
   "execution_count": 76,
   "metadata": {
    "ExecuteTime": {
     "end_time": "2018-08-03T07:33:23.904507Z",
     "start_time": "2018-08-03T07:33:23.884506Z"
    }
   },
   "outputs": [
    {
     "name": "stdout",
     "output_type": "stream",
     "text": [
      "282\n"
     ]
    },
    {
     "data": {
      "text/plain": [
       "['“奇葩”险', '保单', '保单贷款', '保单过期', '保单门']"
      ]
     },
     "execution_count": 76,
     "metadata": {},
     "output_type": "execute_result"
    }
   ],
   "source": [
    "bank_dict_1 = []\n",
    "f = open('corpus/business.txt', 'r+', encoding = 'utf-8')\n",
    "for line in f.readlines():\n",
    "    bank_dict_1.append(line.strip().encode('utf-8').decode('utf-8-sig'))\n",
    "f.close()    \n",
    "print(len(bank_dict_1))\n",
    "bank_dict_1[:5]"
   ]
  },
  {
   "cell_type": "code",
   "execution_count": 77,
   "metadata": {
    "ExecuteTime": {
     "end_time": "2018-08-03T07:33:24.418537Z",
     "start_time": "2018-08-03T07:33:24.387535Z"
    }
   },
   "outputs": [
    {
     "name": "stdout",
     "output_type": "stream",
     "text": [
      "1735\n"
     ]
    },
    {
     "data": {
      "text/plain": [
       "['紫金财产保险股份有限公司', '紫金保险', '紫金财产保险', '紫金财险', '珠峰财产保险股份有限公司']"
      ]
     },
     "execution_count": 77,
     "metadata": {},
     "output_type": "execute_result"
    }
   ],
   "source": [
    "bank_dict_2 = []\n",
    "f = open('corpus/companies_name.txt', 'r+', encoding = 'utf-8')\n",
    "for line in f.readlines():\n",
    "    bank_dict_2.append(line.strip().encode('utf-8').decode('utf-8-sig'))\n",
    "f.close()    \n",
    "print(len(bank_dict_2))\n",
    "bank_dict_2[:5]"
   ]
  },
  {
   "cell_type": "code",
   "execution_count": 78,
   "metadata": {
    "ExecuteTime": {
     "end_time": "2018-08-03T07:33:24.956567Z",
     "start_time": "2018-08-03T07:33:24.920565Z"
    }
   },
   "outputs": [
    {
     "name": "stdout",
     "output_type": "stream",
     "text": [
      "1109\n"
     ]
    },
    {
     "data": {
      "text/plain": [
       "['RGA美国再保险公司上海分公司',\n",
       " '爱和谊日生同和财产保险（中国）有限公司',\n",
       " '爱心人寿保险股份有限公司',\n",
       " '安邦保险集团股份有限公司',\n",
       " '安邦财产保险股份有限公司']"
      ]
     },
     "execution_count": 78,
     "metadata": {},
     "output_type": "execute_result"
    }
   ],
   "source": [
    "bank_dict_3 = []\n",
    "f = open('corpus/company.txt', 'r+', encoding = 'utf-8')\n",
    "for line in f.readlines():\n",
    "    bank_dict_3.append(line.strip().encode('utf-8').decode('utf-8-sig'))\n",
    "f.close()    \n",
    "print(len(bank_dict_3))\n",
    "bank_dict_3[:5]"
   ]
  },
  {
   "cell_type": "code",
   "execution_count": 79,
   "metadata": {
    "ExecuteTime": {
     "end_time": "2018-08-03T07:33:25.816617Z",
     "start_time": "2018-08-03T07:33:25.773614Z"
    }
   },
   "outputs": [
    {
     "name": "stdout",
     "output_type": "stream",
     "text": [
      "去重前： 2844\n",
      "去重后： 1975\n"
     ]
    }
   ],
   "source": [
    "insurance_company = bank_dict_2 + bank_dict_3\n",
    "print('去重前：', len(insurance_company))\n",
    "insurance_company = list(set(insurance_company))\n",
    "insurance_company = [w for w in insurance_company if len(w) > 1]\n",
    "print('去重后：', len(insurance_company))\n",
    "\n",
    "f = open('corpus/insurance_company_20180803.txt', 'w+', encoding = 'utf-8')\n",
    "for line in insurance_company:\n",
    "    if len(line) > 0:\n",
    "        f.write(line + '\\n')\n",
    "f.close()   "
   ]
  },
  {
   "cell_type": "code",
   "execution_count": 80,
   "metadata": {
    "ExecuteTime": {
     "end_time": "2018-08-03T07:33:26.476654Z",
     "start_time": "2018-08-03T07:33:26.424651Z"
    }
   },
   "outputs": [
    {
     "name": "stdout",
     "output_type": "stream",
     "text": [
      "5504\n"
     ]
    },
    {
     "data": {
      "text/plain": [
       "['监管函', '存问题', '偿付能力下降', '违规股权', '关联交易']"
      ]
     },
     "execution_count": 80,
     "metadata": {},
     "output_type": "execute_result"
    }
   ],
   "source": [
    "bank_dict_4 = []\n",
    "f = open('corpus/user_dict.txt', 'r+', encoding = 'utf-8')\n",
    "for line in f.readlines():\n",
    "    bank_dict_4.append(line.strip().encode('utf-8').decode('utf-8-sig'))\n",
    "f.close()    \n",
    "\n",
    "bank_dict_4 = [b.split(' ')[0] for b in bank_dict_4 if len(b) > 0]\n",
    "print(len(bank_dict_4))\n",
    "bank_dict_4[:5]"
   ]
  },
  {
   "cell_type": "code",
   "execution_count": 81,
   "metadata": {
    "ExecuteTime": {
     "end_time": "2018-08-03T07:33:27.000684Z",
     "start_time": "2018-08-03T07:33:26.990684Z"
    }
   },
   "outputs": [
    {
     "name": "stdout",
     "output_type": "stream",
     "text": [
      "去重前： 5504\n",
      "去重后： 3127\n"
     ]
    }
   ],
   "source": [
    "print('去重前：', len(bank_dict_4))\n",
    "bank_dict_4 = list(set(bank_dict_4))\n",
    "print('去重后：', len(bank_dict_4))"
   ]
  },
  {
   "cell_type": "code",
   "execution_count": 82,
   "metadata": {
    "ExecuteTime": {
     "end_time": "2018-08-03T07:33:37.557288Z",
     "start_time": "2018-08-03T07:33:27.508713Z"
    }
   },
   "outputs": [
    {
     "name": "stdout",
     "output_type": "stream",
     "text": [
      "1436\n"
     ]
    },
    {
     "data": {
      "text/plain": [
       "['英大人寿', '北京保监局', '东海航运保险股份有限公司', '珠峰财险', '众安在线产险']"
      ]
     },
     "execution_count": 82,
     "metadata": {},
     "output_type": "execute_result"
    }
   ],
   "source": [
    "import dict_dbutils\n",
    "bank_dict_5 = list(set(dict_dbutils.get_dicts().keys()))\n",
    "print(len(bank_dict_5))\n",
    "bank_dict_5[:5]"
   ]
  },
  {
   "cell_type": "code",
   "execution_count": 83,
   "metadata": {
    "ExecuteTime": {
     "end_time": "2018-08-03T07:33:37.818303Z",
     "start_time": "2018-08-03T07:33:37.690296Z"
    }
   },
   "outputs": [
    {
     "name": "stdout",
     "output_type": "stream",
     "text": [
      "(1154, 4)\n"
     ]
    },
    {
     "data": {
      "text/html": [
       "<div>\n",
       "<style scoped>\n",
       "    .dataframe tbody tr th:only-of-type {\n",
       "        vertical-align: middle;\n",
       "    }\n",
       "\n",
       "    .dataframe tbody tr th {\n",
       "        vertical-align: top;\n",
       "    }\n",
       "\n",
       "    .dataframe thead th {\n",
       "        text-align: right;\n",
       "    }\n",
       "</style>\n",
       "<table border=\"1\" class=\"dataframe\">\n",
       "  <thead>\n",
       "    <tr style=\"text-align: right;\">\n",
       "      <th></th>\n",
       "      <th>采集词</th>\n",
       "      <th>批次</th>\n",
       "      <th>状态</th>\n",
       "      <th>备注</th>\n",
       "    </tr>\n",
       "  </thead>\n",
       "  <tbody>\n",
       "    <tr>\n",
       "      <th>0</th>\n",
       "      <td>保险</td>\n",
       "      <td>第一批</td>\n",
       "      <td>其他</td>\n",
       "      <td>NaN</td>\n",
       "    </tr>\n",
       "    <tr>\n",
       "      <th>1</th>\n",
       "      <td>保监</td>\n",
       "      <td>第一批</td>\n",
       "      <td>监管-机构</td>\n",
       "      <td>NaN</td>\n",
       "    </tr>\n",
       "    <tr>\n",
       "      <th>2</th>\n",
       "      <td>险种</td>\n",
       "      <td>第一批</td>\n",
       "      <td>其他</td>\n",
       "      <td>NaN</td>\n",
       "    </tr>\n",
       "    <tr>\n",
       "      <th>3</th>\n",
       "      <td>寿险</td>\n",
       "      <td>第一批</td>\n",
       "      <td>其他</td>\n",
       "      <td>NaN</td>\n",
       "    </tr>\n",
       "    <tr>\n",
       "      <th>4</th>\n",
       "      <td>保费</td>\n",
       "      <td>第一批</td>\n",
       "      <td>其他</td>\n",
       "      <td>NaN</td>\n",
       "    </tr>\n",
       "  </tbody>\n",
       "</table>\n",
       "</div>"
      ],
      "text/plain": [
       "  采集词   批次     状态  备注\n",
       "0  保险  第一批     其他 NaN\n",
       "1  保监  第一批  监管-机构 NaN\n",
       "2  险种  第一批     其他 NaN\n",
       "3  寿险  第一批     其他 NaN\n",
       "4  保费  第一批     其他 NaN"
      ]
     },
     "execution_count": 83,
     "metadata": {},
     "output_type": "execute_result"
    }
   ],
   "source": [
    "bank_dict_6 = pd.read_excel('corpus/180801保监会采集词.xlsx')\n",
    "print(bank_dict_6.shape)\n",
    "bank_dict_6.head()"
   ]
  },
  {
   "cell_type": "code",
   "execution_count": 84,
   "metadata": {
    "ExecuteTime": {
     "end_time": "2018-08-03T07:33:37.929309Z",
     "start_time": "2018-08-03T07:33:37.908308Z"
    }
   },
   "outputs": [
    {
     "name": "stdout",
     "output_type": "stream",
     "text": [
      "Cao Yu\n",
      "Chen Wenhui \n",
      "Guo Shuqing\n",
      "Huang Hong\n",
      "Li Xinran\n",
      "Liang Tao\n",
      "Wang Zhaoxing\n",
      "Zhou Liang\n",
      "Zhu Shumin\n",
      "insurance\n",
      "Chinese insurance regulator\n",
      "去重前： 1177\n",
      "去重后： 1148\n"
     ]
    }
   ],
   "source": [
    "bank_dict_6_1 = []\n",
    "for w in bank_dict_6['采集词']:\n",
    "    if bool(re.search('[a-z]', w)):\n",
    "        w_l = [w]\n",
    "        print(w)\n",
    "    else :\n",
    "        w_l = w.split()\n",
    "    bank_dict_6_1 += w_l\n",
    "\n",
    "print('去重前：', len(bank_dict_6_1))\n",
    "bank_dict_6_1 = list(set(bank_dict_6_1))\n",
    "print('去重后：', len(bank_dict_6_1))"
   ]
  },
  {
   "cell_type": "code",
   "execution_count": 91,
   "metadata": {
    "ExecuteTime": {
     "end_time": "2018-08-03T07:45:47.505039Z",
     "start_time": "2018-08-03T07:45:47.466037Z"
    }
   },
   "outputs": [
    {
     "name": "stdout",
     "output_type": "stream",
     "text": [
      "去重前： 351\n",
      "去重后： 298\n"
     ]
    }
   ],
   "source": [
    "bank_dict_7 = []\n",
    "filename = 'corpus/insurance_regulators_20180803.txt'\n",
    "fid = open(filename, \"r+\", encoding='UTF-8-sig')\n",
    "for f in fid:\n",
    "    bank_dict_7.append(f.strip().replace('\\n', ''))\n",
    "fid.close()\n",
    "\n",
    "print('去重前：', len(bank_dict_7))\n",
    "bank_dict_7 = list(set(bank_dict_7))\n",
    "print('去重后：', len(bank_dict_7))\n",
    "\n",
    "filename = 'corpus/insurance_regulators_20180804.txt'\n",
    "fid = open(filename, \"w+\", encoding='UTF-8')\n",
    "for line in bank_dict_7:\n",
    "    fid.write(line + '\\n')\n",
    "fid.close()"
   ]
  },
  {
   "cell_type": "code",
   "execution_count": 86,
   "metadata": {
    "ExecuteTime": {
     "end_time": "2018-08-03T07:33:38.297330Z",
     "start_time": "2018-08-03T07:33:38.167323Z"
    }
   },
   "outputs": [],
   "source": [
    "# print(bank_dict_7)"
   ]
  },
  {
   "cell_type": "code",
   "execution_count": 87,
   "metadata": {
    "ExecuteTime": {
     "end_time": "2018-08-03T07:33:38.430338Z",
     "start_time": "2018-08-03T07:33:38.405337Z"
    }
   },
   "outputs": [
    {
     "name": "stdout",
     "output_type": "stream",
     "text": [
      "去重前： 9135\n",
      "去重后： 3849\n"
     ]
    }
   ],
   "source": [
    "bank_dict = bank_dict_1 + bank_dict_2 + bank_dict_3 + bank_dict_4 + bank_dict_5 + bank_dict_6_1 + bank_dict_7\n",
    "print('去重前：', len(bank_dict))\n",
    "bank_dict = list(set(bank_dict))\n",
    "print('去重后：', len(bank_dict))\n",
    "\n",
    "# remove_list = ['银行',]\n",
    "# for remove_word in remove_list:\n",
    "#     if remove_word in  neg_words:\n",
    "#         neg_words.remove(remove_word)\n",
    "#         print('remove_word: ', remove_word)"
   ]
  },
  {
   "cell_type": "code",
   "execution_count": 88,
   "metadata": {
    "ExecuteTime": {
     "end_time": "2018-08-03T07:33:38.871363Z",
     "start_time": "2018-08-03T07:33:38.853362Z"
    },
    "collapsed": true
   },
   "outputs": [],
   "source": [
    "f = open('corpus/insurance_dict_20180803.txt', 'w+', encoding = 'utf-8')\n",
    "for line in bank_dict:\n",
    "    if len(line) > 0:\n",
    "        f.write(line + '\\n')\n",
    "f.close()   "
   ]
  },
  {
   "cell_type": "markdown",
   "metadata": {},
   "source": [
    "## 预处理 + 分词 + 词频统计"
   ]
  },
  {
   "cell_type": "code",
   "execution_count": 90,
   "metadata": {
    "ExecuteTime": {
     "end_time": "2018-08-03T07:36:27.986036Z",
     "start_time": "2018-08-03T07:34:05.560890Z"
    }
   },
   "outputs": [
    {
     "name": "stdout",
     "output_type": "stream",
     "text": [
      "-- 处理机构： 噪音\n",
      "---- 共 3376 条数据\n",
      "-- 处理机构： 产品销售\n",
      "---- 共 390 条数据\n",
      "-- 处理机构： 消费服务\n",
      "---- 共 1573 条数据\n",
      "-- 处理机构： 资本市场\n",
      "---- 共 583 条数据\n",
      "-- 处理机构： 监管\n",
      "---- 共 1488 条数据\n",
      "-- 处理机构： 公司内部管理\n",
      "---- 共 901 条数据\n",
      "-- 处理机构： 其他相关报道\n",
      "---- 共 1456 条数据\n",
      "-- 处理机构： 行业\n",
      "---- 共 763 条数据\n"
     ]
    }
   ],
   "source": [
    "with pd.ExcelWriter('data_count/class_word_counts_20180803.xlsx') as writer:\n",
    "    for label in data['label'].unique():\n",
    "        print('-- 处理机构：', label)    \n",
    "        bank_data = data[data['label'] == label]['title_content'].tolist()\n",
    "        print('---- 共 %s 条数据'%len(bank_data)) \n",
    "\n",
    "        bank_pre = pre_cor_1.handle_contents(bank_data)\n",
    "\n",
    "        word_count = {}\n",
    "        for words in bank_pre:\n",
    "            word_list = words.split(' ')\n",
    "            for word in word_list:\n",
    "                if len(word) <= 1: #排除单个字符的分词结果\n",
    "                    continue\n",
    "                elif str(word) == 'nan':\n",
    "                    continue\n",
    "                else :\n",
    "                    word_count[word]=word_count.get(word,0)+1\n",
    "\n",
    "        word_data = pd.DataFrame.from_dict(word_count, orient='index').sort_values(by = 0, ascending = False).reset_index()\n",
    "        word_data.columns = ['word', 'freq']\n",
    "        word_data.fillna(0).to_excel(writer, label, index = False)\n",
    "    writer.save() "
   ]
  },
  {
   "cell_type": "code",
   "execution_count": null,
   "metadata": {
    "collapsed": true
   },
   "outputs": [],
   "source": []
  }
 ],
 "metadata": {
  "kernelspec": {
   "display_name": "Python 3",
   "language": "python",
   "name": "python3"
  },
  "language_info": {
   "codemirror_mode": {
    "name": "ipython",
    "version": 3
   },
   "file_extension": ".py",
   "mimetype": "text/x-python",
   "name": "python",
   "nbconvert_exporter": "python",
   "pygments_lexer": "ipython3",
   "version": "3.6.3"
  },
  "toc": {
   "nav_menu": {},
   "number_sections": true,
   "sideBar": true,
   "skip_h1_title": false,
   "title_cell": "Table of Contents",
   "title_sidebar": "Contents",
   "toc_cell": false,
   "toc_position": {
    "height": "calc(100% - 180px)",
    "left": "10px",
    "top": "150px",
    "width": "376px"
   },
   "toc_section_display": true,
   "toc_window_display": true
  },
  "varInspector": {
   "cols": {
    "lenName": 16,
    "lenType": 16,
    "lenVar": 40
   },
   "kernels_config": {
    "python": {
     "delete_cmd_postfix": "",
     "delete_cmd_prefix": "del ",
     "library": "var_list.py",
     "varRefreshCmd": "print(var_dic_list())"
    },
    "r": {
     "delete_cmd_postfix": ") ",
     "delete_cmd_prefix": "rm(",
     "library": "var_list.r",
     "varRefreshCmd": "cat(var_dic_list()) "
    }
   },
   "types_to_exclude": [
    "module",
    "function",
    "builtin_function_or_method",
    "instance",
    "_Feature"
   ],
   "window_display": false
  }
 },
 "nbformat": 4,
 "nbformat_minor": 2
}
