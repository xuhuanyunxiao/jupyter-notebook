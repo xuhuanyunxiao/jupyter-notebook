{
 "cells": [
  {
   "cell_type": "markdown",
   "metadata": {},
   "source": [
    "- 保监会 预警模型 1 预处理"
   ]
  },
  {
   "cell_type": "markdown",
   "metadata": {},
   "source": [
    "# 基本设置"
   ]
  },
  {
   "cell_type": "code",
   "execution_count": 10,
   "metadata": {
    "ExecuteTime": {
     "end_time": "2018-09-10T10:03:59.206387Z",
     "start_time": "2018-09-10T10:03:58.787363Z"
    }
   },
   "outputs": [],
   "source": [
    "import jieba\n",
    "import sys\n",
    "import re\n",
    "import time\n",
    "import string\n",
    "\n",
    "%matplotlib inline\n",
    "import numpy as np\n",
    "import pandas as pd\n",
    "# import pre\n",
    "import os\n",
    "from sqlalchemy import create_engine\n",
    "from pandas.io import sql\n",
    "\n",
    "import warnings\n",
    "warnings.filterwarnings('ignore')"
   ]
  },
  {
   "cell_type": "markdown",
   "metadata": {},
   "source": [
    "## 一些函数"
   ]
  },
  {
   "cell_type": "code",
   "execution_count": 2,
   "metadata": {
    "ExecuteTime": {
     "end_time": "2018-09-10T10:03:04.526260Z",
     "start_time": "2018-09-10T10:03:04.513259Z"
    },
    "collapsed": true
   },
   "outputs": [],
   "source": [
    "def get_txt_encode(file_path):\n",
    "    '''\n",
    "    Function:\n",
    "        获取txt文档的编码格式\n",
    "    Arguments:\n",
    "        file_path -> string -- 文档所在路径\n",
    "    Return:\n",
    "        encode -> string -- txt文档的编码格式\n",
    "    '''\n",
    "    decode_set = ['utf-8','gb18030','ISO-8859-2','gb2312','gbk', 'ANSI'] # 编码集\n",
    "    encode = 0\n",
    "    for k in decode_set:\n",
    "        try :\n",
    "            file = open(file_path, 'r', encoding = k).read()\n",
    "            # print('\\n\\t读取成功： %s \\n\\t编码方式为： %s' %(file_path, k))\n",
    "            encode = k\n",
    "            break\n",
    "        except :\n",
    "            continue\n",
    "    if encode:\n",
    "        return encode\n",
    "    else :\n",
    "        return 'No encode'"
   ]
  },
  {
   "cell_type": "code",
   "execution_count": 3,
   "metadata": {
    "ExecuteTime": {
     "end_time": "2018-09-10T10:03:05.022288Z",
     "start_time": "2018-09-10T10:03:05.002287Z"
    },
    "collapsed": true
   },
   "outputs": [],
   "source": [
    "def combined_data(data_folder, save_filename):\n",
    "    '''\n",
    "    保监会\n",
    "        txt 文本：文件名（包含标题）\n",
    "                  正  文（包含标题）\n",
    "    '''\n",
    "    file_list = os.listdir(data_folder)\n",
    "    combined_data = []\n",
    "    for file in file_list:\n",
    "        tmp = os.getcwd() + '\\\\' + data_folder + '\\\\' + file\n",
    "        encoding = get_txt_encode(tmp)\n",
    "        f = open(tmp, \"r+\", encoding = encoding)\n",
    "        ff = f.readlines()\n",
    "        title = ff[0]  # 提取标题\n",
    "        lines = ''\n",
    "        for index, line in enumerate(ff):\n",
    "            if index != 0:\n",
    "                lines += line.strip()\n",
    "        f.close()\n",
    "        combined_data.append([title, lines])\n",
    "        \n",
    "    combined_data = pd.DataFrame(combined_data, columns = ['title', 'content'])\n",
    "    combined_data.to_excel(save_filename)"
   ]
  },
  {
   "cell_type": "code",
   "execution_count": 4,
   "metadata": {
    "ExecuteTime": {
     "end_time": "2018-09-10T10:03:05.737329Z",
     "start_time": "2018-09-10T10:03:05.650324Z"
    },
    "collapsed": true
   },
   "outputs": [],
   "source": [
    "def set_ch():\n",
    "    '''\n",
    "    功能：设定绘图时显示中文\n",
    "    '''\t\n",
    "    from pylab import mpl\n",
    "    mpl.rcParams['font.sans-serif'] = ['FangSong'] # 指定默认字体\n",
    "    mpl.rcParams['axes.unicode_minus'] = False   # 解决保存图像是负号'-'显示为方块的问题\n",
    "set_ch()"
   ]
  },
  {
   "cell_type": "markdown",
   "metadata": {},
   "source": [
    "# 导入数据"
   ]
  },
  {
   "cell_type": "markdown",
   "metadata": {},
   "source": [
    "## 预警数据"
   ]
  },
  {
   "cell_type": "code",
   "execution_count": 5,
   "metadata": {
    "ExecuteTime": {
     "end_time": "2018-09-10T10:03:07.927454Z",
     "start_time": "2018-09-10T10:03:07.921454Z"
    },
    "collapsed": true
   },
   "outputs": [],
   "source": [
    "folder_list = []\n",
    "\n",
    "data_file_list = ['0612保监会预警数据.xlsx']\n",
    "\n",
    "for folder_name in folder_list:\n",
    "    data_folder = 'data/%s'%folder_name\n",
    "    save_filename = 'data/%s.xlsx'%folder_name\n",
    "    combined_data(data_folder, save_filename)  \n",
    "    data_file_list.append(folder_name + '.xlsx')"
   ]
  },
  {
   "cell_type": "code",
   "execution_count": 8,
   "metadata": {
    "ExecuteTime": {
     "end_time": "2018-09-10T10:03:35.412026Z",
     "start_time": "2018-09-10T10:03:34.862995Z"
    }
   },
   "outputs": [
    {
     "name": "stdout",
     "output_type": "stream",
     "text": [
      "0612保监会预警数据.xlsx:  (1628, 2)\n",
      "未去空值时： (1628, 3)\n",
      "已去空值时： (1628, 3)\n"
     ]
    },
    {
     "data": {
      "text/html": [
       "<div>\n",
       "<style scoped>\n",
       "    .dataframe tbody tr th:only-of-type {\n",
       "        vertical-align: middle;\n",
       "    }\n",
       "\n",
       "    .dataframe tbody tr th {\n",
       "        vertical-align: top;\n",
       "    }\n",
       "\n",
       "    .dataframe thead th {\n",
       "        text-align: right;\n",
       "    }\n",
       "</style>\n",
       "<table border=\"1\" class=\"dataframe\">\n",
       "  <thead>\n",
       "    <tr style=\"text-align: right;\">\n",
       "      <th></th>\n",
       "      <th>title</th>\n",
       "      <th>content</th>\n",
       "      <th>label</th>\n",
       "    </tr>\n",
       "  </thead>\n",
       "  <tbody>\n",
       "    <tr>\n",
       "      <th>0</th>\n",
       "      <td>防风险治乱象 逾900张罚单直指险企问题重灾区</td>\n",
       "      <td>今日报纸每经网首页         &gt;         今日报纸        &gt;     ...</td>\n",
       "      <td>1</td>\n",
       "    </tr>\n",
       "    <tr>\n",
       "      <th>1</th>\n",
       "      <td>调结构回保障“保险+科技”已成行业新发力点</td>\n",
       "      <td>今日报纸每经网首页         &gt;         今日报纸        &gt;     ...</td>\n",
       "      <td>1</td>\n",
       "    </tr>\n",
       "    <tr>\n",
       "      <th>2</th>\n",
       "      <td>补短板强监管 2017年保监会密集发文60余份</td>\n",
       "      <td>今日报纸每经网首页         &gt;         今日报纸        &gt;     ...</td>\n",
       "      <td>1</td>\n",
       "    </tr>\n",
       "    <tr>\n",
       "      <th>3</th>\n",
       "      <td>寿险公司开门红产品调查： 上市险企增保障范围 中小险企暗提收益</td>\n",
       "      <td>本报记者 苏向杲 　　　　险企开门红首月已过大半，寿险公司推出开门红的产品也浮出水面。...</td>\n",
       "      <td>1</td>\n",
       "    </tr>\n",
       "    <tr>\n",
       "      <th>4</th>\n",
       "      <td>渎职行为违规行为终身追责</td>\n",
       "      <td>本报北京1月17日电  （记者曲哲涵）保监会17日发布《打赢保险业防范化解重大风险攻坚战...</td>\n",
       "      <td>1</td>\n",
       "    </tr>\n",
       "  </tbody>\n",
       "</table>\n",
       "</div>"
      ],
      "text/plain": [
       "                             title  \\\n",
       "0          防风险治乱象 逾900张罚单直指险企问题重灾区   \n",
       "1            调结构回保障“保险+科技”已成行业新发力点   \n",
       "2          补短板强监管 2017年保监会密集发文60余份   \n",
       "3  寿险公司开门红产品调查： 上市险企增保障范围 中小险企暗提收益   \n",
       "4                     渎职行为违规行为终身追责   \n",
       "\n",
       "                                             content  label  \n",
       "0  今日报纸每经网首页         >         今日报纸        >     ...      1  \n",
       "1  今日报纸每经网首页         >         今日报纸        >     ...      1  \n",
       "2  今日报纸每经网首页         >         今日报纸        >     ...      1  \n",
       "3  　　 本报记者 苏向杲 　　　　险企开门红首月已过大半，寿险公司推出开门红的产品也浮出水面。...      1  \n",
       "4  　　本报北京1月17日电  （记者曲哲涵）保监会17日发布《打赢保险业防范化解重大风险攻坚战...      1  "
      ]
     },
     "execution_count": 8,
     "metadata": {},
     "output_type": "execute_result"
    }
   ],
   "source": [
    "cor_data_raw = pd.DataFrame()    \n",
    "for file_name in data_file_list:\n",
    "    tmp_data = pd.read_excel('data/20180622/%s'%file_name)\n",
    "    print('%s: '%file_name, tmp_data.shape)\n",
    "    cor_data_raw = pd.concat([cor_data_raw, tmp_data], axis = 0)\n",
    "\n",
    "cor_data_raw['label'] = 1\n",
    "print('未去空值时：', cor_data_raw.shape)\n",
    "cor_data_raw = cor_data_raw.dropna(how = 'any')\n",
    "print('已去空值时：', cor_data_raw.shape)\n",
    "cor_data_raw.head()"
   ]
  },
  {
   "cell_type": "markdown",
   "metadata": {},
   "source": [
    "## 非预警数据"
   ]
  },
  {
   "cell_type": "code",
   "execution_count": 11,
   "metadata": {
    "ExecuteTime": {
     "end_time": "2018-09-10T10:04:08.906942Z",
     "start_time": "2018-09-10T10:04:05.861768Z"
    }
   },
   "outputs": [],
   "source": [
    "folder_list = ['0612保监会非预警',]\n",
    "\n",
    "data_file_list = []\n",
    "\n",
    "for folder_name in folder_list:\n",
    "    data_folder = 'data/20180622/%s'%folder_name\n",
    "    save_filename = 'data/%s.xlsx'%folder_name\n",
    "    combined_data(data_folder, save_filename)  \n",
    "    data_file_list.append(folder_name + '.xlsx')"
   ]
  },
  {
   "cell_type": "code",
   "execution_count": 12,
   "metadata": {
    "ExecuteTime": {
     "end_time": "2018-09-10T10:04:11.763106Z",
     "start_time": "2018-09-10T10:04:11.534093Z"
    }
   },
   "outputs": [
    {
     "name": "stdout",
     "output_type": "stream",
     "text": [
      "0612保监会非预警.xlsx:  (1924, 2)\n",
      "未去空值时： (1924, 3)\n",
      "已去空值时： (1923, 3)\n"
     ]
    },
    {
     "data": {
      "text/html": [
       "<div>\n",
       "<style scoped>\n",
       "    .dataframe tbody tr th:only-of-type {\n",
       "        vertical-align: middle;\n",
       "    }\n",
       "\n",
       "    .dataframe tbody tr th {\n",
       "        vertical-align: top;\n",
       "    }\n",
       "\n",
       "    .dataframe thead th {\n",
       "        text-align: right;\n",
       "    }\n",
       "</style>\n",
       "<table border=\"1\" class=\"dataframe\">\n",
       "  <thead>\n",
       "    <tr style=\"text-align: right;\">\n",
       "      <th></th>\n",
       "      <th>title</th>\n",
       "      <th>content</th>\n",
       "      <th>label</th>\n",
       "    </tr>\n",
       "  </thead>\n",
       "  <tbody>\n",
       "    <tr>\n",
       "      <th>0</th>\n",
       "      <td>五星定位胆技巧，中奖的心态小技巧！\\n</td>\n",
       "      <td>一招：咬定大奖加倍投注五星玩法和三星玩法都属于玩法，系出同门，从玩法规则上看，两种玩法相互关...</td>\n",
       "      <td>0</td>\n",
       "    </tr>\n",
       "    <tr>\n",
       "      <th>1</th>\n",
       "      <td>让你全面提升商业思维的20部电影\\n</td>\n",
       "      <td>信息爆炸的时代里，我们会关注股市动荡、食品安全、转基因食物、鸿茅药酒事件、医疗体制、知识产权...</td>\n",
       "      <td>0</td>\n",
       "    </tr>\n",
       "    <tr>\n",
       "      <th>2</th>\n",
       "      <td>何为违法运用资金罪\\n</td>\n",
       "      <td>说到是一个的话题，公司里面的资金不是可以随便乱用的，如果随便乱用就会构成违法运用现金罪，那么...</td>\n",
       "      <td>0</td>\n",
       "    </tr>\n",
       "    <tr>\n",
       "      <th>3</th>\n",
       "      <td>MFC易物点\\n</td>\n",
       "      <td>很多人错误的理解，投资做MFC，一个人不找不卖货也赚钱就是骗局，是天上掉馅饼，其实这只是观念...</td>\n",
       "      <td>0</td>\n",
       "    </tr>\n",
       "    <tr>\n",
       "      <th>4</th>\n",
       "      <td>深圳市平乐骨伤科医院违法涂改病历,伪造病历,拒绝住院病人查阅复制病历\\n</td>\n",
       "      <td>深圳市平乐骨伤科医院违法涂改病历,伪造病历,拒绝住院病人查阅复制病历,矛盾正在激化！　　我友...</td>\n",
       "      <td>0</td>\n",
       "    </tr>\n",
       "  </tbody>\n",
       "</table>\n",
       "</div>"
      ],
      "text/plain": [
       "                                  title  \\\n",
       "0                   五星定位胆技巧，中奖的心态小技巧！\\n   \n",
       "1                    让你全面提升商业思维的20部电影\\n   \n",
       "2                           何为违法运用资金罪\\n   \n",
       "3                              MFC易物点\\n   \n",
       "4  深圳市平乐骨伤科医院违法涂改病历,伪造病历,拒绝住院病人查阅复制病历\\n   \n",
       "\n",
       "                                             content  label  \n",
       "0  一招：咬定大奖加倍投注五星玩法和三星玩法都属于玩法，系出同门，从玩法规则上看，两种玩法相互关...      0  \n",
       "1  信息爆炸的时代里，我们会关注股市动荡、食品安全、转基因食物、鸿茅药酒事件、医疗体制、知识产权...      0  \n",
       "2  说到是一个的话题，公司里面的资金不是可以随便乱用的，如果随便乱用就会构成违法运用现金罪，那么...      0  \n",
       "3  很多人错误的理解，投资做MFC，一个人不找不卖货也赚钱就是骗局，是天上掉馅饼，其实这只是观念...      0  \n",
       "4  深圳市平乐骨伤科医院违法涂改病历,伪造病历,拒绝住院病人查阅复制病历,矛盾正在激化！　　我友...      0  "
      ]
     },
     "execution_count": 12,
     "metadata": {},
     "output_type": "execute_result"
    }
   ],
   "source": [
    "uncor_data_raw = pd.DataFrame()    \n",
    "for file_name in data_file_list:\n",
    "    tmp_data = pd.read_excel('data/%s'%file_name)\n",
    "    print('%s: '%file_name, tmp_data.shape)\n",
    "    uncor_data_raw = pd.concat([uncor_data_raw, tmp_data], axis = 0)\n",
    "\n",
    "uncor_data_raw['label'] = 0\n",
    "print('未去空值时：', uncor_data_raw.shape)\n",
    "uncor_data_raw = uncor_data_raw.dropna(how = 'any')\n",
    "print('已去空值时：', uncor_data_raw.shape)\n",
    "uncor_data_raw.head()"
   ]
  },
  {
   "cell_type": "code",
   "execution_count": 18,
   "metadata": {
    "ExecuteTime": {
     "end_time": "2018-09-10T10:07:02.405866Z",
     "start_time": "2018-09-10T10:07:02.389865Z"
    }
   },
   "outputs": [
    {
     "name": "stdout",
     "output_type": "stream",
     "text": [
      "(3551, 3)\n"
     ]
    },
    {
     "data": {
      "text/html": [
       "<div>\n",
       "<style scoped>\n",
       "    .dataframe tbody tr th:only-of-type {\n",
       "        vertical-align: middle;\n",
       "    }\n",
       "\n",
       "    .dataframe tbody tr th {\n",
       "        vertical-align: top;\n",
       "    }\n",
       "\n",
       "    .dataframe thead th {\n",
       "        text-align: right;\n",
       "    }\n",
       "</style>\n",
       "<table border=\"1\" class=\"dataframe\">\n",
       "  <thead>\n",
       "    <tr style=\"text-align: right;\">\n",
       "      <th></th>\n",
       "      <th>title</th>\n",
       "      <th>content</th>\n",
       "      <th>label</th>\n",
       "    </tr>\n",
       "  </thead>\n",
       "  <tbody>\n",
       "    <tr>\n",
       "      <th>0</th>\n",
       "      <td>防风险治乱象 逾900张罚单直指险企问题重灾区</td>\n",
       "      <td>今日报纸每经网首页         &gt;         今日报纸        &gt;     ...</td>\n",
       "      <td>1</td>\n",
       "    </tr>\n",
       "    <tr>\n",
       "      <th>1</th>\n",
       "      <td>调结构回保障“保险+科技”已成行业新发力点</td>\n",
       "      <td>今日报纸每经网首页         &gt;         今日报纸        &gt;     ...</td>\n",
       "      <td>1</td>\n",
       "    </tr>\n",
       "    <tr>\n",
       "      <th>2</th>\n",
       "      <td>补短板强监管 2017年保监会密集发文60余份</td>\n",
       "      <td>今日报纸每经网首页         &gt;         今日报纸        &gt;     ...</td>\n",
       "      <td>1</td>\n",
       "    </tr>\n",
       "    <tr>\n",
       "      <th>3</th>\n",
       "      <td>寿险公司开门红产品调查： 上市险企增保障范围 中小险企暗提收益</td>\n",
       "      <td>本报记者 苏向杲 　　　　险企开门红首月已过大半，寿险公司推出开门红的产品也浮出水面。...</td>\n",
       "      <td>1</td>\n",
       "    </tr>\n",
       "    <tr>\n",
       "      <th>4</th>\n",
       "      <td>渎职行为违规行为终身追责</td>\n",
       "      <td>本报北京1月17日电  （记者曲哲涵）保监会17日发布《打赢保险业防范化解重大风险攻坚战...</td>\n",
       "      <td>1</td>\n",
       "    </tr>\n",
       "  </tbody>\n",
       "</table>\n",
       "</div>"
      ],
      "text/plain": [
       "                             title  \\\n",
       "0          防风险治乱象 逾900张罚单直指险企问题重灾区   \n",
       "1            调结构回保障“保险+科技”已成行业新发力点   \n",
       "2          补短板强监管 2017年保监会密集发文60余份   \n",
       "3  寿险公司开门红产品调查： 上市险企增保障范围 中小险企暗提收益   \n",
       "4                     渎职行为违规行为终身追责   \n",
       "\n",
       "                                             content  label  \n",
       "0  今日报纸每经网首页         >         今日报纸        >     ...      1  \n",
       "1  今日报纸每经网首页         >         今日报纸        >     ...      1  \n",
       "2  今日报纸每经网首页         >         今日报纸        >     ...      1  \n",
       "3  　　 本报记者 苏向杲 　　　　险企开门红首月已过大半，寿险公司推出开门红的产品也浮出水面。...      1  \n",
       "4  　　本报北京1月17日电  （记者曲哲涵）保监会17日发布《打赢保险业防范化解重大风险攻坚战...      1  "
      ]
     },
     "execution_count": 18,
     "metadata": {},
     "output_type": "execute_result"
    }
   ],
   "source": [
    "combined_data = pd.concat([cor_data_raw, uncor_data_raw], axis = 0)\n",
    "print(combined_data.shape)\n",
    "combined_data.head()"
   ]
  },
  {
   "cell_type": "code",
   "execution_count": 19,
   "metadata": {
    "ExecuteTime": {
     "end_time": "2018-09-10T10:07:05.370035Z",
     "start_time": "2018-09-10T10:07:05.359035Z"
    }
   },
   "outputs": [
    {
     "data": {
      "text/plain": [
       "label\n",
       "0    1923\n",
       "1    1628\n",
       "Name: title, dtype: int64"
      ]
     },
     "execution_count": 19,
     "metadata": {},
     "output_type": "execute_result"
    }
   ],
   "source": [
    "combined_data.groupby('label')['title'].count()"
   ]
  },
  {
   "cell_type": "code",
   "execution_count": 20,
   "metadata": {
    "ExecuteTime": {
     "end_time": "2018-09-10T10:08:59.769579Z",
     "start_time": "2018-09-10T10:08:57.638457Z"
    },
    "collapsed": true
   },
   "outputs": [],
   "source": [
    "combined_data.to_excel('data/20180621_circ_warn_data.xlsx', index = False)"
   ]
  },
  {
   "cell_type": "markdown",
   "metadata": {},
   "source": [
    "# 预处理数据"
   ]
  },
  {
   "cell_type": "code",
   "execution_count": 11,
   "metadata": {
    "ExecuteTime": {
     "end_time": "2018-06-21T08:06:57.732798Z",
     "start_time": "2018-06-21T08:06:28.692012Z"
    }
   },
   "outputs": [
    {
     "name": "stdout",
     "output_type": "stream",
     "text": [
      "1628\n"
     ]
    }
   ],
   "source": [
    "# 预警数据\n",
    "cor_data = cor_data_raw['content'].tolist()\n",
    "print(len(cor_data))\n",
    "corpus_cor = pre.handle_contents(cor_data)\n",
    "\n",
    "save_filename = 'data/corpus_pre_warn_0621.txt'\n",
    "fid = open(save_filename, \"w+\", encoding='UTF-8')\n",
    "for data in corpus_cor:\n",
    "    fid.write(data + '\\n')\n",
    "fid.close()"
   ]
  },
  {
   "cell_type": "code",
   "execution_count": 12,
   "metadata": {
    "ExecuteTime": {
     "end_time": "2018-06-21T08:07:23.011567Z",
     "start_time": "2018-06-21T08:06:58.241625Z"
    }
   },
   "outputs": [
    {
     "name": "stdout",
     "output_type": "stream",
     "text": [
      "1923\n"
     ]
    }
   ],
   "source": [
    "# 非预警数据\n",
    "uncor_data = uncor_data_raw['content'].tolist()\n",
    "print(len(uncor_data))\n",
    "corpus_uncor = pre.handle_contents(uncor_data)\n",
    "\n",
    "save_filename = 'data/corpus_pre_no_warn_0621.txt'\n",
    "fid = open(save_filename, \"w+\", encoding='UTF-8')\n",
    "for data in corpus_uncor:\n",
    "    fid.write(data + '\\n')\n",
    "fid.close()"
   ]
  }
 ],
 "metadata": {
  "kernelspec": {
   "display_name": "Python 3",
   "language": "python",
   "name": "python3"
  },
  "language_info": {
   "codemirror_mode": {
    "name": "ipython",
    "version": 3
   },
   "file_extension": ".py",
   "mimetype": "text/x-python",
   "name": "python",
   "nbconvert_exporter": "python",
   "pygments_lexer": "ipython3",
   "version": "3.6.3"
  },
  "toc": {
   "nav_menu": {},
   "number_sections": true,
   "sideBar": true,
   "skip_h1_title": false,
   "title_cell": "Table of Contents",
   "title_sidebar": "Contents",
   "toc_cell": false,
   "toc_position": {
    "height": "calc(100% - 180px)",
    "left": "10px",
    "top": "150px",
    "width": "376px"
   },
   "toc_section_display": true,
   "toc_window_display": true
  },
  "varInspector": {
   "cols": {
    "lenName": 16,
    "lenType": 16,
    "lenVar": 40
   },
   "kernels_config": {
    "python": {
     "delete_cmd_postfix": "",
     "delete_cmd_prefix": "del ",
     "library": "var_list.py",
     "varRefreshCmd": "print(var_dic_list())"
    },
    "r": {
     "delete_cmd_postfix": ") ",
     "delete_cmd_prefix": "rm(",
     "library": "var_list.r",
     "varRefreshCmd": "cat(var_dic_list()) "
    }
   },
   "types_to_exclude": [
    "module",
    "function",
    "builtin_function_or_method",
    "instance",
    "_Feature"
   ],
   "window_display": false
  }
 },
 "nbformat": 4,
 "nbformat_minor": 2
}
