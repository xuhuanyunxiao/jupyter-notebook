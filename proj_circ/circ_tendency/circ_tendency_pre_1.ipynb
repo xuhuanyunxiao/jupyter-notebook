{
 "cells": [
  {
   "cell_type": "markdown",
   "metadata": {},
   "source": [
    "# 基本设置"
   ]
  },
  {
   "cell_type": "code",
   "execution_count": 1,
   "metadata": {
    "ExecuteTime": {
     "end_time": "2018-11-13T01:30:26.378031Z",
     "start_time": "2018-11-13T01:30:23.808884Z"
    }
   },
   "outputs": [
    {
     "name": "stderr",
     "output_type": "stream",
     "text": [
      "Building prefix dict from the default dictionary ...\n",
      "Dumping model to file cache C:\\Users\\ADMINI~1\\AppData\\Local\\Temp\\jieba.cache\n",
      "Loading model cost 1.205 seconds.\n",
      "Prefix dict has been built succesfully.\n"
     ]
    }
   ],
   "source": [
    "import os\n",
    "import pandas as pd\n",
    "\n",
    "import xlrd\n",
    "\n",
    "%matplotlib inline\n",
    "import numpy as np\n",
    "import pandas as pd\n",
    "# import pre_cor_1\n",
    "# import pre_cor\n",
    "from toolkits.nlp import pre_cor_circ\n",
    "import os\n",
    "from sqlalchemy import create_engine\n",
    "from pandas.io import sql\n",
    "import re \n",
    "import warnings\n",
    "warnings.filterwarnings('ignore')"
   ]
  },
  {
   "cell_type": "code",
   "execution_count": 2,
   "metadata": {
    "ExecuteTime": {
     "end_time": "2018-11-13T01:30:26.434034Z",
     "start_time": "2018-11-13T01:30:26.402032Z"
    },
    "collapsed": true
   },
   "outputs": [],
   "source": [
    "def get_txt_encode(file_path):\n",
    "    '''\n",
    "    Function:\n",
    "        获取txt文档的编码格式\n",
    "    Arguments:\n",
    "        file_path -> string -- 文档所在路径\n",
    "    Return:\n",
    "        encode -> string -- txt文档的编码格式\n",
    "    '''\n",
    "    decode_set = ['utf-8','gb18030','ISO-8859-2','gb2312','gbk', 'ANSI'] # 编码集\n",
    "    encode = 0\n",
    "    for k in decode_set:\n",
    "        try :\n",
    "            file = open(file_path, 'r', encoding = k).read()\n",
    "            # print('\\n\\t读取成功： %s \\n\\t编码方式为： %s' %(file_path, k))\n",
    "            encode = k\n",
    "            break\n",
    "        except :\n",
    "            continue\n",
    "    if encode:\n",
    "        return encode\n",
    "    else :\n",
    "        return 'No encode'"
   ]
  },
  {
   "cell_type": "code",
   "execution_count": 24,
   "metadata": {
    "ExecuteTime": {
     "end_time": "2018-11-13T01:45:55.341239Z",
     "start_time": "2018-11-13T01:45:55.025027Z"
    },
    "collapsed": true
   },
   "outputs": [],
   "source": [
    "def combined_data(data_folder, save_filename, label = None):\n",
    "    file_list = os.listdir(data_folder)\n",
    "    combined_data = []\n",
    "    for file in file_list:\n",
    "        tmp = os.getcwd() + '\\\\' + data_folder + '\\\\' + file\n",
    "        encoding = get_txt_encode(tmp)\n",
    "        f = open(tmp, \"r+\", encoding = encoding)\n",
    "        title = file.replace('.txt', '').split('_')[1]\n",
    "        content = ''\n",
    "        for line in f:\n",
    "            content += line.strip()\n",
    "        f.close()\n",
    "        combined_data.append([title,content])\n",
    "    data = pd.DataFrame(combined_data, columns = ['title', 'content'])\n",
    "    data['label'] = label\n",
    "    data.to_excel(save_filename, index=False)\n",
    "    \n",
    "circ_neg_folder = 'data/20181112/0604-0608保监会非负补充'\n",
    "circ_neg_filename = 'data/20181112/0604-0608保监会非负补充.xlsx'\n",
    "combined_data(circ_neg_folder, circ_neg_filename, label = 0)\n",
    "# circ_pos_folder = 'data/20180619/0604-0608保监会误判为负面的数据'\n",
    "# circ_pos_filename = 'data/circ_0905_pos_raw_data.xlsx'\n",
    "# combined_data(circ_pos_folder, circ_pos_filename, label = 1)\n",
    "# circ_pos_folder = 'data/20180619/0604-0608保监会非负补充'\n",
    "# circ_pos_filename = 'data/circ_0905_pos_raw_data_add.xlsx'\n",
    "# combined_data(circ_pos_folder, circ_pos_filename, label = 1)"
   ]
  },
  {
   "cell_type": "markdown",
   "metadata": {},
   "source": [
    "# 导入数据"
   ]
  },
  {
   "cell_type": "code",
   "execution_count": 4,
   "metadata": {
    "ExecuteTime": {
     "end_time": "2018-11-13T01:30:41.602902Z",
     "start_time": "2018-11-13T01:30:41.598902Z"
    },
    "collapsed": true
   },
   "outputs": [],
   "source": [
    "forder = '20181112'"
   ]
  },
  {
   "cell_type": "markdown",
   "metadata": {
    "collapsed": true
   },
   "source": [
    "## 负面数据"
   ]
  },
  {
   "cell_type": "code",
   "execution_count": 45,
   "metadata": {
    "ExecuteTime": {
     "end_time": "2018-11-13T02:00:43.543687Z",
     "start_time": "2018-11-13T02:00:43.536687Z"
    },
    "collapsed": true
   },
   "outputs": [],
   "source": [
    "file_list_1 = ['0101-0228保监会负面_人工校正.xlsx',\n",
    "               '0301-0521保监会负面_人工校正.xlsx',\n",
    "               '0502-0507保监会负面.xlsx',\n",
    "               '0604-0608保监会负面.xlsx']"
   ]
  },
  {
   "cell_type": "code",
   "execution_count": 46,
   "metadata": {
    "ExecuteTime": {
     "end_time": "2018-11-13T02:00:44.776948Z",
     "start_time": "2018-11-13T02:00:44.114518Z"
    }
   },
   "outputs": [
    {
     "name": "stdout",
     "output_type": "stream",
     "text": [
      "去空值前：  (905, 2) 0101-0228保监会负面_人工校正.xlsx 1-2月份数据\n",
      "去空值后：  (905, 2) 0101-0228保监会负面_人工校正.xlsx 1-2月份数据\n",
      "去空值前：  (1110, 2) 0301-0521保监会负面_人工校正.xlsx 3月1号到5月21号\n",
      "去空值后：  (1110, 2) 0301-0521保监会负面_人工校正.xlsx 3月1号到5月21号\n",
      "去空值前：  (174, 3) 0502-0507保监会负面.xlsx Sheet1\n",
      "去空值后：  (174, 3) 0502-0507保监会负面.xlsx Sheet1\n",
      "去空值前：  (321, 3) 0604-0608保监会负面.xlsx Sheet1\n",
      "去空值后：  (321, 3) 0604-0608保监会负面.xlsx Sheet1\n",
      "总数： (2510, 3)\n"
     ]
    },
    {
     "data": {
      "text/html": [
       "<div>\n",
       "<style scoped>\n",
       "    .dataframe tbody tr th:only-of-type {\n",
       "        vertical-align: middle;\n",
       "    }\n",
       "\n",
       "    .dataframe tbody tr th {\n",
       "        vertical-align: top;\n",
       "    }\n",
       "\n",
       "    .dataframe thead th {\n",
       "        text-align: right;\n",
       "    }\n",
       "</style>\n",
       "<table border=\"1\" class=\"dataframe\">\n",
       "  <thead>\n",
       "    <tr style=\"text-align: right;\">\n",
       "      <th></th>\n",
       "      <th>content</th>\n",
       "      <th>label</th>\n",
       "      <th>title</th>\n",
       "    </tr>\n",
       "  </thead>\n",
       "  <tbody>\n",
       "    <tr>\n",
       "      <th>0</th>\n",
       "      <td>\\n\\t\\t\\t\\t\\t　　&lt;font color=\"#FF0000\"&gt;保监会&lt;/font...</td>\n",
       "      <td>-1</td>\n",
       "      <td>根据决定书，国寿财险瑞金支公司存在以下违法行为：</td>\n",
       "    </tr>\n",
       "    <tr>\n",
       "      <th>1</th>\n",
       "      <td>\\n\\t\\t\\t\\t\\t　　随着&lt;font color=\"#FF0000\"&gt;寿险&lt;/fon...</td>\n",
       "      <td>-1</td>\n",
       "      <td>转型阵痛 净利下滑</td>\n",
       "    </tr>\n",
       "    <tr>\n",
       "      <th>2</th>\n",
       "      <td>\\t\\t#监督# 【中华联合产险江西现两宗违法 给投保人约定以外利益】保监会网站公布江西保监...</td>\n",
       "      <td>-1</td>\n",
       "      <td>\\t\\t#监督# 【中华联合产险江西现两宗违法 给投保人约定以外利益】保监会网站公布江西保监...</td>\n",
       "    </tr>\n",
       "    <tr>\n",
       "      <th>3</th>\n",
       "      <td>\\t\\t【4季度偿付能力报告：珠江人寿风险综合评级再降级】截至2月6日，百余家保险公司已经悉...</td>\n",
       "      <td>-1</td>\n",
       "      <td>\\t\\t【4季度偿付能力报告：珠江人寿风险综合评级再降级】截至2月6日，百余家保险公司已经悉...</td>\n",
       "    </tr>\n",
       "    <tr>\n",
       "      <th>4</th>\n",
       "      <td>【偿付能力再降 中法&lt;em class=“red“&gt;人寿&lt;/em&gt;深陷困局】业内常年垫底的中...</td>\n",
       "      <td>-1</td>\n",
       "      <td>\\t\\t【偿付能力再降 中法&lt;em class=“red“&gt;人寿&lt;/em&gt;深陷困局】业内常年...</td>\n",
       "    </tr>\n",
       "  </tbody>\n",
       "</table>\n",
       "</div>"
      ],
      "text/plain": [
       "                                             content  label  \\\n",
       "0   \\n\\t\\t\\t\\t\\t　　<font color=\"#FF0000\">保监会</font...     -1   \n",
       "1   \\n\\t\\t\\t\\t\\t　　随着<font color=\"#FF0000\">寿险</fon...     -1   \n",
       "2  \\t\\t#监督# 【中华联合产险江西现两宗违法 给投保人约定以外利益】保监会网站公布江西保监...     -1   \n",
       "3  \\t\\t【4季度偿付能力报告：珠江人寿风险综合评级再降级】截至2月6日，百余家保险公司已经悉...     -1   \n",
       "4  【偿付能力再降 中法<em class=“red“>人寿</em>深陷困局】业内常年垫底的中...     -1   \n",
       "\n",
       "                                               title  \n",
       "0                         　　根据决定书，国寿财险瑞金支公司存在以下违法行为：  \n",
       "1                                        　　转型阵痛 净利下滑  \n",
       "2  \\t\\t#监督# 【中华联合产险江西现两宗违法 给投保人约定以外利益】保监会网站公布江西保监...  \n",
       "3  \\t\\t【4季度偿付能力报告：珠江人寿风险综合评级再降级】截至2月6日，百余家保险公司已经悉...  \n",
       "4  \\t\\t【偿付能力再降 中法<em class=“red“>人寿</em>深陷困局】业内常年...  "
      ]
     },
     "execution_count": 46,
     "metadata": {},
     "output_type": "execute_result"
    }
   ],
   "source": [
    "cir_data_raw_1 = pd.DataFrame()\n",
    "for file_name in file_list_1:\n",
    "    currentPath  = 'data/{0}/{1}'.format(forder, file_name)\n",
    "    excel = xlrd.open_workbook(currentPath)\n",
    "    sheet_names = [sheet.name for sheet in excel.sheets()]\n",
    "    for sheet_name in sheet_names:    \n",
    "        tmp_data = pd.read_excel(currentPath, sheet_name)\n",
    "#         tmp_data = tmp_data[tmp_data['R_W'] == 'Right']\n",
    "        print('去空值前： ', tmp_data.shape, file_name, sheet_name)\n",
    "#         tmp_data = tmp_data[tmp_data['备注'] != '删除']\n",
    "#         tmp_data = tmp_data.dropna(subset = ['raw_title'], axis = 0)\n",
    "        print('去空值后： ', tmp_data.shape, file_name, sheet_name)\n",
    "        cir_data_raw_1 = pd.concat([cir_data_raw_1, tmp_data], axis = 0)\n",
    "\n",
    "cir_data_raw_1['label'] = -1 # cir_data_raw_1['label'].apply(lambda x:x.strip())    \n",
    "# cir_data_raw_1 = cir_data_raw_1[['label', 'title', 'content']]\n",
    "# cir_data_raw_1.columns = ['label', 'title', 'content']\n",
    "print('总数：', cir_data_raw_1.shape)\n",
    "cir_data_raw_1.head()"
   ]
  },
  {
   "cell_type": "code",
   "execution_count": 47,
   "metadata": {
    "ExecuteTime": {
     "end_time": "2018-11-13T02:00:45.607995Z",
     "start_time": "2018-11-13T02:00:45.587994Z"
    }
   },
   "outputs": [
    {
     "data": {
      "text/plain": [
       "-1    2510\n",
       "Name: label, dtype: int64"
      ]
     },
     "execution_count": 47,
     "metadata": {},
     "output_type": "execute_result"
    }
   ],
   "source": [
    "cir_data_raw_1['label'].value_counts()"
   ]
  },
  {
   "cell_type": "markdown",
   "metadata": {},
   "source": [
    "## 正面数据"
   ]
  },
  {
   "cell_type": "code",
   "execution_count": 48,
   "metadata": {
    "ExecuteTime": {
     "end_time": "2018-11-13T02:00:48.773159Z",
     "start_time": "2018-11-13T02:00:48.770159Z"
    },
    "collapsed": true
   },
   "outputs": [],
   "source": [
    "file_list_2 = ['0604-0608保监会非负补充.xlsx',\n",
    "               '0604-0608保监会误判为负面的数据.xlsx',\n",
    "               '180518保监会非负-来自校正非负-提交许欢.xlsx',]"
   ]
  },
  {
   "cell_type": "code",
   "execution_count": 49,
   "metadata": {
    "ExecuteTime": {
     "end_time": "2018-11-13T02:01:20.915259Z",
     "start_time": "2018-11-13T02:00:49.462591Z"
    }
   },
   "outputs": [
    {
     "name": "stdout",
     "output_type": "stream",
     "text": [
      "去空值前：  (183, 3) 0604-0608保监会非负补充.xlsx Sheet1\n",
      "去空值后：  (183, 3) 0604-0608保监会非负补充.xlsx Sheet1\n",
      "去空值前：  (40, 3) 0604-0608保监会误判为负面的数据.xlsx Sheet1\n",
      "去空值后：  (40, 3) 0604-0608保监会误判为负面的数据.xlsx Sheet1\n",
      "去空值前：  (883, 3) 180518保监会非负-来自校正非负-提交许欢.xlsx Sheet1\n",
      "去空值后：  (883, 3) 180518保监会非负-来自校正非负-提交许欢.xlsx Sheet1\n",
      "总数： (1106, 3)\n"
     ]
    },
    {
     "data": {
      "text/html": [
       "<div>\n",
       "<style scoped>\n",
       "    .dataframe tbody tr th:only-of-type {\n",
       "        vertical-align: middle;\n",
       "    }\n",
       "\n",
       "    .dataframe tbody tr th {\n",
       "        vertical-align: top;\n",
       "    }\n",
       "\n",
       "    .dataframe thead th {\n",
       "        text-align: right;\n",
       "    }\n",
       "</style>\n",
       "<table border=\"1\" class=\"dataframe\">\n",
       "  <thead>\n",
       "    <tr style=\"text-align: right;\">\n",
       "      <th></th>\n",
       "      <th>title</th>\n",
       "      <th>content</th>\n",
       "      <th>label</th>\n",
       "    </tr>\n",
       "  </thead>\n",
       "  <tbody>\n",
       "    <tr>\n",
       "      <th>0</th>\n",
       "      <td>数数中国平安的硬家底</td>\n",
       "      <td>数数中国平安的硬家底中国第一强寿险 平安寿险 中国第二大财险 平安财险 中国三流冲二流的银行...</td>\n",
       "      <td>0</td>\n",
       "    </tr>\n",
       "    <tr>\n",
       "      <th>1</th>\n",
       "      <td>分公司举办反腐倡廉教育专题讲座</td>\n",
       "      <td>分公司举办反腐倡廉教育专题讲座为了进一步落实总公司反欺诈工作会议精神，加强反内部舞弊工作和员...</td>\n",
       "      <td>0</td>\n",
       "    </tr>\n",
       "    <tr>\n",
       "      <th>2</th>\n",
       "      <td>医生告诉你人生第一份保险该怎么买</td>\n",
       "      <td>医生告诉你：人生第一份保险该怎么买？刘先生，33周岁，无社保，于2016年8月24日投保了医...</td>\n",
       "      <td>0</td>\n",
       "    </tr>\n",
       "    <tr>\n",
       "      <th>3</th>\n",
       "      <td>中小企业网税延养老险分层满足多元需</td>\n",
       "      <td>中小企业网:税延养老险“分层”满足多元需求个人税收递延型商业养老保险（以下简称“税延养老保险...</td>\n",
       "      <td>0</td>\n",
       "    </tr>\n",
       "    <tr>\n",
       "      <th>4</th>\n",
       "      <td>快讯受惠政策免税内险股大涨中国太平一</td>\n",
       "      <td>快讯：受惠政策免税内险股大涨 中国太平一度涨超7%确定不再关注此人吗新浪港股讯 保险公司一季...</td>\n",
       "      <td>0</td>\n",
       "    </tr>\n",
       "  </tbody>\n",
       "</table>\n",
       "</div>"
      ],
      "text/plain": [
       "                title                                            content  \\\n",
       "0          数数中国平安的硬家底  数数中国平安的硬家底中国第一强寿险 平安寿险 中国第二大财险 平安财险 中国三流冲二流的银行...   \n",
       "1     分公司举办反腐倡廉教育专题讲座  分公司举办反腐倡廉教育专题讲座为了进一步落实总公司反欺诈工作会议精神，加强反内部舞弊工作和员...   \n",
       "2    医生告诉你人生第一份保险该怎么买  医生告诉你：人生第一份保险该怎么买？刘先生，33周岁，无社保，于2016年8月24日投保了医...   \n",
       "3   中小企业网税延养老险分层满足多元需  中小企业网:税延养老险“分层”满足多元需求个人税收递延型商业养老保险（以下简称“税延养老保险...   \n",
       "4  快讯受惠政策免税内险股大涨中国太平一  快讯：受惠政策免税内险股大涨 中国太平一度涨超7%确定不再关注此人吗新浪港股讯 保险公司一季...   \n",
       "\n",
       "   label  \n",
       "0      0  \n",
       "1      0  \n",
       "2      0  \n",
       "3      0  \n",
       "4      0  "
      ]
     },
     "execution_count": 49,
     "metadata": {},
     "output_type": "execute_result"
    }
   ],
   "source": [
    "cir_data_raw_2 = pd.DataFrame()\n",
    "for file_name in file_list_2:\n",
    "    currentPath  = 'data/{0}/{1}'.format(forder, file_name)\n",
    "    excel = xlrd.open_workbook(currentPath)\n",
    "    sheet_names = [sheet.name for sheet in excel.sheets()]\n",
    "    for sheet_name in sheet_names:    \n",
    "        tmp_data = pd.read_excel(currentPath, sheet_name)\n",
    "#         tmp_data = tmp_data[tmp_data['R_W'] == 'Right']\n",
    "        print('去空值前： ', tmp_data.shape, file_name, sheet_name)\n",
    "#         tmp_data = tmp_data[tmp_data['备注'] != '删除']\n",
    "#         tmp_data = tmp_data.dropna(subset = ['raw_title'], axis = 0)\n",
    "        print('去空值后： ', tmp_data.shape, file_name, sheet_name)\n",
    "        cir_data_raw_2 = pd.concat([cir_data_raw_2, tmp_data], axis = 0)\n",
    "\n",
    "cir_data_raw_2['label'] = 0 # cir_data_raw_1['label'].apply(lambda x:x.strip())    \n",
    "# cir_data_raw_2 = cir_data_raw_2[['label', 'title', 'content']]\n",
    "# cir_data_raw_1.columns = ['label', 'title', 'content']\n",
    "print('总数：', cir_data_raw_2.shape)\n",
    "cir_data_raw_2.head()"
   ]
  },
  {
   "cell_type": "code",
   "execution_count": 50,
   "metadata": {
    "ExecuteTime": {
     "end_time": "2018-11-13T02:01:21.047267Z",
     "start_time": "2018-11-13T02:01:21.033266Z"
    }
   },
   "outputs": [
    {
     "data": {
      "text/plain": [
       "0    1106\n",
       "Name: label, dtype: int64"
      ]
     },
     "execution_count": 50,
     "metadata": {},
     "output_type": "execute_result"
    }
   ],
   "source": [
    "cir_data_raw_2['label'].value_counts()"
   ]
  },
  {
   "cell_type": "code",
   "execution_count": 51,
   "metadata": {
    "ExecuteTime": {
     "end_time": "2018-11-13T02:01:24.276033Z",
     "start_time": "2018-11-13T02:01:21.119271Z"
    }
   },
   "outputs": [
    {
     "name": "stdout",
     "output_type": "stream",
     "text": [
      "-1    2510\n",
      " 0    1106\n",
      "Name: label, dtype: int64\n"
     ]
    }
   ],
   "source": [
    "fea_filename = 'data/circ_tendency_data.xlsx'\n",
    "cir_data_raw = pd.concat([cir_data_raw_1, cir_data_raw_2], axis = 0)\n",
    "cir_data_raw['title_content'] = cir_data_raw['title'].astype(str) + '。' + cir_data_raw['content'].astype(str)\n",
    "print(cir_data_raw['label'].value_counts())\n",
    "with pd.ExcelWriter(fea_filename) as writer:\n",
    "    cir_data_raw.to_excel(writer,'tendency', index = False)\n",
    "    writer.save()"
   ]
  },
  {
   "cell_type": "markdown",
   "metadata": {
    "ExecuteTime": {
     "end_time": "2018-09-05T09:10:12.470878Z",
     "start_time": "2018-09-05T09:10:11.917847Z"
    }
   },
   "source": [
    "## 合并数据"
   ]
  },
  {
   "cell_type": "code",
   "execution_count": 52,
   "metadata": {
    "ExecuteTime": {
     "end_time": "2018-11-13T02:04:39.633103Z",
     "start_time": "2018-11-13T02:04:39.478896Z"
    }
   },
   "outputs": [
    {
     "name": "stdout",
     "output_type": "stream",
     "text": [
      "去重前：  (3616, 5)\n",
      "去重后：  (3608, 5)\n"
     ]
    },
    {
     "data": {
      "text/html": [
       "<div>\n",
       "<style scoped>\n",
       "    .dataframe tbody tr th:only-of-type {\n",
       "        vertical-align: middle;\n",
       "    }\n",
       "\n",
       "    .dataframe tbody tr th {\n",
       "        vertical-align: top;\n",
       "    }\n",
       "\n",
       "    .dataframe thead th {\n",
       "        text-align: right;\n",
       "    }\n",
       "</style>\n",
       "<table border=\"1\" class=\"dataframe\">\n",
       "  <thead>\n",
       "    <tr style=\"text-align: right;\">\n",
       "      <th></th>\n",
       "      <th>content</th>\n",
       "      <th>label</th>\n",
       "      <th>title</th>\n",
       "      <th>title_content</th>\n",
       "      <th>index</th>\n",
       "    </tr>\n",
       "  </thead>\n",
       "  <tbody>\n",
       "    <tr>\n",
       "      <th>0</th>\n",
       "      <td>\\n\\t\\t\\t\\t\\t　　&lt;font color=\"#FF0000\"&gt;保监会&lt;/font...</td>\n",
       "      <td>-1</td>\n",
       "      <td>根据决定书，国寿财险瑞金支公司存在以下违法行为：</td>\n",
       "      <td>根据决定书，国寿财险瑞金支公司存在以下违法行为：。 \\n\\t\\t\\t\\t\\t　　&lt;fon...</td>\n",
       "      <td>0</td>\n",
       "    </tr>\n",
       "    <tr>\n",
       "      <th>1</th>\n",
       "      <td>\\n\\t\\t\\t\\t\\t　　随着&lt;font color=\"#FF0000\"&gt;寿险&lt;/fon...</td>\n",
       "      <td>-1</td>\n",
       "      <td>转型阵痛 净利下滑</td>\n",
       "      <td>转型阵痛 净利下滑。 \\n\\t\\t\\t\\t\\t　　随着&lt;font color=\"#FF0...</td>\n",
       "      <td>1</td>\n",
       "    </tr>\n",
       "    <tr>\n",
       "      <th>2</th>\n",
       "      <td>\\t\\t#监督# 【中华联合产险江西现两宗违法 给投保人约定以外利益】保监会网站公布江西保监...</td>\n",
       "      <td>-1</td>\n",
       "      <td>\\t\\t#监督# 【中华联合产险江西现两宗违法 给投保人约定以外利益】保监会网站公布江西保监...</td>\n",
       "      <td>\\t\\t#监督# 【中华联合产险江西现两宗违法 给投保人约定以外利益】保监会网站公布江西保监...</td>\n",
       "      <td>2</td>\n",
       "    </tr>\n",
       "    <tr>\n",
       "      <th>3</th>\n",
       "      <td>\\t\\t【4季度偿付能力报告：珠江人寿风险综合评级再降级】截至2月6日，百余家保险公司已经悉...</td>\n",
       "      <td>-1</td>\n",
       "      <td>\\t\\t【4季度偿付能力报告：珠江人寿风险综合评级再降级】截至2月6日，百余家保险公司已经悉...</td>\n",
       "      <td>\\t\\t【4季度偿付能力报告：珠江人寿风险综合评级再降级】截至2月6日，百余家保险公司已经悉...</td>\n",
       "      <td>3</td>\n",
       "    </tr>\n",
       "    <tr>\n",
       "      <th>4</th>\n",
       "      <td>【偿付能力再降 中法&lt;em class=“red“&gt;人寿&lt;/em&gt;深陷困局】业内常年垫底的中...</td>\n",
       "      <td>-1</td>\n",
       "      <td>\\t\\t【偿付能力再降 中法&lt;em class=“red“&gt;人寿&lt;/em&gt;深陷困局】业内常年...</td>\n",
       "      <td>\\t\\t【偿付能力再降 中法&lt;em class=“red“&gt;人寿&lt;/em&gt;深陷困局】业内常年...</td>\n",
       "      <td>4</td>\n",
       "    </tr>\n",
       "  </tbody>\n",
       "</table>\n",
       "</div>"
      ],
      "text/plain": [
       "                                             content  label  \\\n",
       "0   \\n\\t\\t\\t\\t\\t　　<font color=\"#FF0000\">保监会</font...     -1   \n",
       "1   \\n\\t\\t\\t\\t\\t　　随着<font color=\"#FF0000\">寿险</fon...     -1   \n",
       "2  \\t\\t#监督# 【中华联合产险江西现两宗违法 给投保人约定以外利益】保监会网站公布江西保监...     -1   \n",
       "3  \\t\\t【4季度偿付能力报告：珠江人寿风险综合评级再降级】截至2月6日，百余家保险公司已经悉...     -1   \n",
       "4  【偿付能力再降 中法<em class=“red“>人寿</em>深陷困局】业内常年垫底的中...     -1   \n",
       "\n",
       "                                               title  \\\n",
       "0                         　　根据决定书，国寿财险瑞金支公司存在以下违法行为：   \n",
       "1                                        　　转型阵痛 净利下滑   \n",
       "2  \\t\\t#监督# 【中华联合产险江西现两宗违法 给投保人约定以外利益】保监会网站公布江西保监...   \n",
       "3  \\t\\t【4季度偿付能力报告：珠江人寿风险综合评级再降级】截至2月6日，百余家保险公司已经悉...   \n",
       "4  \\t\\t【偿付能力再降 中法<em class=“red“>人寿</em>深陷困局】业内常年...   \n",
       "\n",
       "                                       title_content  index  \n",
       "0  　　根据决定书，国寿财险瑞金支公司存在以下违法行为：。 \\n\\t\\t\\t\\t\\t　　<fon...      0  \n",
       "1  　　转型阵痛 净利下滑。 \\n\\t\\t\\t\\t\\t　　随着<font color=\"#FF0...      1  \n",
       "2  \\t\\t#监督# 【中华联合产险江西现两宗违法 给投保人约定以外利益】保监会网站公布江西保监...      2  \n",
       "3  \\t\\t【4季度偿付能力报告：珠江人寿风险综合评级再降级】截至2月6日，百余家保险公司已经悉...      3  \n",
       "4  \\t\\t【偿付能力再降 中法<em class=“red“>人寿</em>深陷困局】业内常年...      4  "
      ]
     },
     "execution_count": 52,
     "metadata": {},
     "output_type": "execute_result"
    }
   ],
   "source": [
    "cir_data_raw = pd.concat([cir_data_raw_1, cir_data_raw_2],\n",
    "                          #cir_data_raw_3], \n",
    "                         axis = 0)\n",
    "\n",
    "# cir_data_raw = cir_data_raw_2\n",
    "cir_data_raw['title_content'] = cir_data_raw['title'].astype(str) + '。' + cir_data_raw['content'].astype(str)\n",
    "# cir_data_raw['label'] = cir_data_raw['label'].apply(lambda x:x.strip())\n",
    "cir_data_raw['index'] = range(cir_data_raw.shape[0])\n",
    "print('去重前： ', cir_data_raw.shape)\n",
    "cir_data_raw = cir_data_raw.drop_duplicates(subset = 'title_content')\n",
    "print('去重后： ', cir_data_raw.shape)\n",
    "cir_data_raw.head()"
   ]
  },
  {
   "cell_type": "code",
   "execution_count": 53,
   "metadata": {
    "ExecuteTime": {
     "end_time": "2018-11-13T02:04:45.537014Z",
     "start_time": "2018-11-13T02:04:45.512013Z"
    }
   },
   "outputs": [
    {
     "name": "stdout",
     "output_type": "stream",
     "text": [
      "(3608, 5)\n"
     ]
    },
    {
     "data": {
      "text/plain": [
       "label\n",
       "-1    2502\n",
       " 0    1103\n",
       "Name: title, dtype: int64"
      ]
     },
     "execution_count": 53,
     "metadata": {},
     "output_type": "execute_result"
    }
   ],
   "source": [
    "print(cir_data_raw.shape)\n",
    "cir_data_raw.groupby('label')['title'].count()"
   ]
  },
  {
   "cell_type": "code",
   "execution_count": 54,
   "metadata": {
    "ExecuteTime": {
     "end_time": "2018-11-13T02:31:06.154711Z",
     "start_time": "2018-11-13T02:31:06.141710Z"
    },
    "collapsed": true
   },
   "outputs": [],
   "source": [
    "import re"
   ]
  },
  {
   "cell_type": "code",
   "execution_count": 58,
   "metadata": {
    "ExecuteTime": {
     "end_time": "2018-11-13T02:34:33.406565Z",
     "start_time": "2018-11-13T02:34:33.401565Z"
    }
   },
   "outputs": [
    {
     "name": "stdout",
     "output_type": "stream",
     "text": [
      "Help on function sub in module re:\n",
      "\n",
      "sub(pattern, repl, string, count=0, flags=0)\n",
      "    Return the string obtained by replacing the leftmost\n",
      "    non-overlapping occurrences of the pattern in string by the\n",
      "    replacement repl.  repl can be either a string or a callable;\n",
      "    if a string, backslash escapes in it are processed.  If it is\n",
      "    a callable, it's passed the match object and must return\n",
      "    a replacement string to be used.\n",
      "\n"
     ]
    }
   ],
   "source": [
    "help(re.sub)"
   ]
  },
  {
   "cell_type": "code",
   "execution_count": 60,
   "metadata": {
    "ExecuteTime": {
     "end_time": "2018-11-13T02:35:10.610693Z",
     "start_time": "2018-11-13T02:35:10.589692Z"
    }
   },
   "outputs": [
    {
     "name": "stdout",
     "output_type": "stream",
     "text": [
      "sss<font color=\"#FF0000\">kkk\n",
      "ssskkk\n"
     ]
    }
   ],
   "source": [
    "s = 'sss<font color=\"#FF0000\">kkk' \n",
    "print(s)\n",
    "print(re.sub('<font color=\"#FF0000\">', '', s))"
   ]
  },
  {
   "cell_type": "markdown",
   "metadata": {},
   "source": [
    "# 预处理"
   ]
  },
  {
   "cell_type": "code",
   "execution_count": 49,
   "metadata": {
    "ExecuteTime": {
     "end_time": "2018-09-05T09:34:13.246286Z",
     "start_time": "2018-09-05T09:34:13.111278Z"
    }
   },
   "outputs": [
    {
     "name": "stdout",
     "output_type": "stream",
     "text": [
      "623\n"
     ]
    }
   ],
   "source": [
    "titles = pre_cor_circ.handle_contents(cir_data_raw['title'].tolist())\n",
    "print(len(titles))\n",
    "\n",
    "save_filename = 'data/titles.txt'\n",
    "fid = open(save_filename, \"w+\", encoding='UTF-8')\n",
    "for data in titles:\n",
    "    fid.write(data + '\\n')\n",
    "fid.close()"
   ]
  },
  {
   "cell_type": "code",
   "execution_count": 50,
   "metadata": {
    "ExecuteTime": {
     "end_time": "2018-09-05T09:34:34.221486Z",
     "start_time": "2018-09-05T09:34:22.063790Z"
    }
   },
   "outputs": [
    {
     "name": "stdout",
     "output_type": "stream",
     "text": [
      "623\n",
      "['股份 转 股东 不知情 原 保监会 审查 批复 遭 质疑 股东 私自 转让 公司 股权 违法 工商部门 吊销 营业执照 股东 申请 法院 强制 清算 发现 公司 早 年前 股份 转让 公司 并未 收到 转让款 申请 政府 信息 公开 部门 并未 法定期限 答复 股东 行政诉讼 邮件 提供 少部分 信息 涉及 股东 利益 大部分 信息 并未 提供 大连人 李岩 接受 獬豸 新闻 ID 记者 采访 时 谈起 此事 摇头 李岩 说 做梦 想到 身为 北京 毕保信 投资 有限公司 下称 毕保信 公司 股东 未有 知情 情况 持 股份 公司 非法 转让 毕保信 公司 未 收到 分文 股权 转让款 毕保信 公司 成立 年 月 日 工商部门 认缴 出资额 万元 股东 林建伟 出资 万元 持有 毕保信 公司 股权 股东 李岩 出资 万元 持有 股权 担任 公司 监事 期间 毕保信 公司 经营 年 月初 李岩 发现 毕保信 公司 营业执照 工商部门 予以 强制 吊销 同年 月 日 李岩 毕保信 公司 吊销 营业执照 超过 法定期限 未 成立 清算组 清算 北京市 第三 中级 人民法院 下称 北京 三中 院 申请 毕保信 公司 强制 清算 法院 审理 查明 毕保信 公司 早 年 月 日 北京市工商局 以未 期限内 接受 年度 企业 年检 吊销 营业执照 责令 股东 清算组 清算 债权债务 办理 注销 登记 年 月 日 北京 三中 院 民事裁定 毕保信 公司 成立 强制 清算组 清算 过程 中 李岩 得知 早 年 月 日 毕保信 公司 安达 北美洲 FF 控股公司 下称 安达 北美洲 FF 华泰财产保险 股份 有限公司 下称 华泰 公司 签订 股份 转让 协议 协议 约定 安达 北美洲 受让 毕保信 公司 持有 华泰 公司 股份 每股 价格 美元 共计 美元 合计 人民币 元 对此 李岩 称 并未 股权 转让 事宜 做出 参加 股东会 决议 毕保信 公司 未 收到 股权 转让款 毕保信 公司 股东 股权 转让 致使 毕保信 公司 股份 对价 资产 丧失 侵害到 股东 毕保信 公司 享有 盈余 分配权 剩余 财产 索取权 股权 权能 李岩 北京 三中 院 提起 侵权 诉讼 李岩 说 毕保信 公司 持股 FF 华泰财产保险 股份 有限公司 简称 华泰 公司 原始股 原始股 股东 年 月 日 华泰 公司 法院 提供 年 月 日原 国家 FF 保监会 作出 FF 华泰财产保险 股份 有限公司 股权 转让 批复 FF 保监 变审 号 文件 证明 毕保信 公司 转让 万股 事宜 FF 保监会 批复 李岩 行政 机关 作出 行政 时 尽到 审慎 审查 义务 李岩 代理律师 张良 规范 FF 公司 事项 变更 报批 程序 通知 中 明确规定 原 国家 FF 保监会 法律法规 股份 转让 材料 审查 作出 批准 不予 批准 李岩 毕保信 公司 自然人 股东 并未 股权 转让 过程 中 做出 原 国家 FF 保监会 华泰 公司 申请 审查 时 发现 行政许可 事项 关系 利益 告知 利害 关系人 李岩 李岩 有权 陈述 申辩 原 国家 FF 保监会 听取 李岩 意见 年 月 日 李岩 原 国家 FF 保监会 申请 公开 FF 华泰财产保险 股份 有限公司 股东 外资 公司 转让 股权 请示 及原 国家 FF 保监会 年 月 日 做出 FF 华泰财产保险 股份 有限公司 股权 转让 批复 文件 法定 期间 李岩 提出 公开 申请 并未 原 国家 FF 保监会 回复 通知 解释 李岩 未 法定 期间 接到 告知 理由 李岩 遂 北京 一中院 提起 行政诉讼 年 月 日 北京 一中院 开庭审理 李岩诉 FF 保监会 申请 信息 公开 行政 违法 案件 年 月 日 FF 保监会 李岩 回复 延期 回复 通知书 称因 公开 信息 涉及 FF 华泰保险 商业秘密 延期 答复 李岩 年 月 日 北京 一中院 裁定 驳回 李岩 诉讼请求 年 月 日 FF 保监会 发送 电子邮件 公开 信息 发送 李岩 李岩 称 涉及 利益 大部分 信息 并未 提供 李岩 告诉 獬豸 新闻 ID 记者 原 FF 保监会 公开 信息 中 华泰 公司 公开 第二届 董事会 临时 会议 决议 中 董事 签名 全是 打印 体 不仅如此 涉及 李岩 利益 相关 文件 FF 保监会 未 提供 年 月 日 记者 赶赴 中国 FF 银行保险监督管理委员会 简称 国家 FF 银保监会 欲 李岩 案件 涉及 相关 核实 求证 国家 FF 银保监会 传达室 记者 原 FF 保监会 案件 委托 代理人 FF 保监会 工作人员 任重 电话 同志 采访 国家 FF 保监会 新闻处 婉拒 记者 采访 后经 国家 FF 保监会 传达室 工作人员 接传 记者 国家 FF 保监会 新闻处 一位 不愿 透露 姓名 工作人员 通话 记者 采访 来意 新闻处 工作人员 托词 不愿 记者 见面 记者 再三 面向 递交 采访 函 工作人员 理由 推脱 接受 记者 当面 递交 采访 提纲 接受 传真 采访 提纲 无奈 之下 记者 只好 返回 报社 工作人员 提供 传真号码 拨打 语音 提醒 号码 错误 请 查证 拨 此事 獬豸 新闻 ID 予以 关注 ', '产 寿险 分裂 七大 阵营 一季度 家 险企 亏损 年 家 险企 亏损 亿 消息 尚未 远去 年 季报 数据 再度 凸显 FF 公司 生存 难题 寡头 险企 利润 高启 盆满 钵 溢 漫天 红火 中 新型 FF 公司 镜花水月 接连 遭遇 渠道 困境 产品 困境 政策 调整 越发 凸显 险企 经营 利润 低下 高 价值 业务 占 低 管理 基础薄弱 持续 发展 能力 不强 困境 亟待 破局 年 第一季度 偿付能力报告 披露 完毕 FF 安邦系 险企 FF 中石油自保 家 公司 未 披露 外 今日 FF 统计 FF 家财险 公司 家 FF 寿险 公司 季报 数据 中 家中 FF 公司 亏损 不乏 成立 多年 FF 公司 财险 两大 头 利润 占 财险 行业 FF 寿险 六家 利润 占 FF 寿险 行业 财险 篇 阶层 固化 亏损 家 第一 阵营 双 寡头 加剧 FF 家财险 公司 第一季度 净利润 合计 亿元 FF 人保财险 FF 平安财险 净利润 亿元 占 成 市场份额 攫取 九成 利润 巨头 进化 双 寡头 财险 市场 寂寞 年 保费 千亿 财险 老三 太保 幸免 年 一季度 净利润 亿元 距离 老二 远 阵营 七家 公司 盈利 亿 FF 太保财险 FF 天安财险 FF 英大财险 FF 大地财险 FF 中原农险 FF 阳光财险 FF 国寿财险 两大 头 外仅 净利润 亿元 财险 公司 FF 天安财险 颇为 意外 亿元 净利润 仅次于 FF 太保财险 公司 净利润 排名 行业 第四 尚存 千亿元 规模 理财险 财险 资金 当有 贡献 保费 排名 位置 高 FF 英大财险 股东 业务 这份 盈利 榜单 FF 中原农险 借力 省市 FF 农险 业务 不错 利润 表现 FF 国寿财险 中华 联合 净利润 表现 保费规模 排名 成正比 中华 联合 净利润 亿元 跌出 行业 前十 位居 第三 阵营 十三家 险企 盈利 亿 年 第一季度 盈利 亿元 财险 公司 中 包括 十九 家 公司 盈利 超过 万元 公司 FF 太平财险 FF 中华联合财险 老牌 公司 期间 中小型 FF 公司 拥有 强劲 股东 资源 FF 公司 成立 时间 较久 外资 FF 公司 背靠 中国银行 FF 中银保险 大型 电网 集团 做 靠山 FF 鼎和财险 FF 锦泰财险 FF 北部湾财险 FF 永安财险 地方 法人 FF 公司 另有 老字号 外资 FF 公司 FF 美亚保险 FF 日本财险 FF 三井住友 FF 苏黎世财险 FF 三星财险 FF 家财险 公司 盈利 微利 千万元 处于 盈亏 平衡 线 边缘 这部分 公司 外资 财险 公司 居多 第四 阵营 四十 FF 家财险 公司 亏损 亏损 财险 公司 亿元 基准线 分为 两大类 亏损 亿元 五家 FF 华安财险 FF 富德财险 长安责任 FF 国元农业 FF 众安在线 继 年 约 亿元 亏损 年 一季度 众安 依旧 亏损 最多 财险 公司 亏损 额度 亿元 几家 公司 FF 国元农业 外 公司 实际控制 FF 董事长 出事 FF 华安财险 实际控制 身陷囹圄 FF 富德财险 违规股权 长安责任 皆 治理 机构 险企 业务 发展 程度 可想而知 剩余 家 亏损 未过 亿元 财险 公司 除个别 常年 业绩 亏损 差 生外 以新 公司 居多 FF 黄河财险 FF 长江财险 几家 互联网 财险 公司 值得 关注 最早 一批 地方 法人 FF 公司 FF 紫金财险 浙江 财险 较大 额度 亏损 毗邻 而存 财险 公司 成立 已达 七八年 久 FF 紫金财险 尚未 走出 监管 重罚 事件 阴影 年 第一季度 亏损 亿元 FF 浙商财险 亏损额 超过 万元 FF 寿险 篇 个险 天下 亏损 家 第一 阵营 六家 净利润 占 近九成 回归 保障 趋势 拥有 个险 基础 六家 再度 彰显 深厚 底蕴 利润 排名 前十 FF 寿险 公司 中 六家 占据 榜单 前列 六家 合计 亿元 净利润 占 FF 寿险 行业 平安 国寿 净利润 超过 亿元 占 成 强劲 依旧 并未 财险 双 寡头 垄断 压制 利润表 排名 保费 排名 差距 泰康 FF 太平人寿 表现 更好 利润 能力 超越 太保 新华 处于 股权 转换 阶段 FF 华夏人寿 利润 表现 雄起 继 年 净利润 暴 增至 亿元 年 第一季度 超过 亿元 唯一 一家 非老 六家 险企 闯入 盈利 前六 FF 寿险 公司 阵营 十九 家中 FF 寿险 公司 盈利 亿 盈利 十 亿元 超过 亿元 FF 寿险 公司 家 FF 寿险 公司 中 经营 不错 FF 友邦 人寿 FF 中英人寿 FF 中信保诚 FF 中美联泰 老牌 外资 FF 寿险 公司 列 这部分 公司 稳健 著称 期间 投资 见长 资产 驱动 负债 型 险企 FF 恒大人寿 FF 国华人寿 FF 君康人寿 面临 较大 转型 压力 FF 农银人寿 FF 招商信诺 FF 建信人寿 FF 工银安盛 FF 中邮人寿 银行 系 险企 此列 股东 银行 渠道 这部分 险企 盈利 情况 颇为 稳定 盈利 公司 中 微利 盈利 亿元 这部分 公司 多以 常年 挣扎 盈亏 平衡 线 公司 居多 第三 阵营 三十二 家 FF 寿险 公司 亏损 合计 亿元 家 FF 寿险 公司 第一季度 未 盈利 合计 亏损 亿元 亏损 超过 亿元 公司 家 FF 利安人寿 FF 珠江人寿 英大 泰和 FF 中融人寿 FF 渤海人寿 FF 昆仑健康 FF 前海人寿 FF 天安人寿 FF 幸福人寿 FF 富德生命 不难看出 类 公司 面临 转型 压力 资产 驱动 负债 型 险企 缺少 个险 底蕴 家 亏损 亿元 FF 寿险 公司 这部分 公司 年 成立 公司 有意 个险 路径 走 持续 亏损 路上 ']\n"
     ]
    }
   ],
   "source": [
    "contents = pre_cor_circ.handle_contents(cir_data_raw['content'].tolist())\n",
    "print(len(contents))\n",
    "print(contents[:2])\n",
    "# contents = [re.sub(r'[a-z]*', '', x) for x in contents]\n",
    "# print(len(contents))\n",
    "# print(contents[:2])\n",
    "\n",
    "coprus_save_filename = 'data/contents.txt'\n",
    "f = open(coprus_save_filename, \"w+\", encoding='UTF-8')\n",
    "for data in contents:\n",
    "    f.write(data + '\\n')\n",
    "f.close()"
   ]
  },
  {
   "cell_type": "code",
   "execution_count": 52,
   "metadata": {
    "ExecuteTime": {
     "end_time": "2018-09-05T09:35:02.108081Z",
     "start_time": "2018-09-05T09:35:02.096080Z"
    }
   },
   "outputs": [
    {
     "name": "stdout",
     "output_type": "stream",
     "text": [
      "623\n"
     ]
    }
   ],
   "source": [
    "label = cir_data_raw['label'].tolist()\n",
    "print(len(label))\n",
    "\n",
    "coprus_save_filename = 'data/labels.txt'\n",
    "f = open(coprus_save_filename, \"w+\", encoding='UTF-8')\n",
    "for data in label:\n",
    "    f.write(str(data) + '\\n')\n",
    "f.close()"
   ]
  },
  {
   "cell_type": "code",
   "execution_count": 54,
   "metadata": {
    "ExecuteTime": {
     "end_time": "2018-09-05T09:35:53.393014Z",
     "start_time": "2018-09-05T09:35:52.424959Z"
    }
   },
   "outputs": [
    {
     "data": {
      "text/plain": [
       "(623, 5)"
      ]
     },
     "execution_count": 54,
     "metadata": {},
     "output_type": "execute_result"
    }
   ],
   "source": [
    "cir_data_raw.to_excel('data/result/title_content_label.xlsx', index = False)\n",
    "cir_data_raw.shape"
   ]
  }
 ],
 "metadata": {
  "kernelspec": {
   "display_name": "Python 3",
   "language": "python",
   "name": "python3"
  },
  "language_info": {
   "codemirror_mode": {
    "name": "ipython",
    "version": 3
   },
   "file_extension": ".py",
   "mimetype": "text/x-python",
   "name": "python",
   "nbconvert_exporter": "python",
   "pygments_lexer": "ipython3",
   "version": "3.6.3"
  },
  "toc": {
   "nav_menu": {},
   "number_sections": true,
   "sideBar": true,
   "skip_h1_title": false,
   "title_cell": "Table of Contents",
   "title_sidebar": "Contents",
   "toc_cell": false,
   "toc_position": {},
   "toc_section_display": true,
   "toc_window_display": true
  },
  "varInspector": {
   "cols": {
    "lenName": 16,
    "lenType": 16,
    "lenVar": 40
   },
   "kernels_config": {
    "python": {
     "delete_cmd_postfix": "",
     "delete_cmd_prefix": "del ",
     "library": "var_list.py",
     "varRefreshCmd": "print(var_dic_list())"
    },
    "r": {
     "delete_cmd_postfix": ") ",
     "delete_cmd_prefix": "rm(",
     "library": "var_list.r",
     "varRefreshCmd": "cat(var_dic_list()) "
    }
   },
   "types_to_exclude": [
    "module",
    "function",
    "builtin_function_or_method",
    "instance",
    "_Feature"
   ],
   "window_display": false
  }
 },
 "nbformat": 4,
 "nbformat_minor": 2
}
