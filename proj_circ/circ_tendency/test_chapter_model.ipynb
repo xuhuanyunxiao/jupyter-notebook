{
 "cells": [
  {
   "cell_type": "markdown",
   "metadata": {},
   "source": [
    "# 基本设置"
   ]
  },
  {
   "cell_type": "code",
   "execution_count": 1,
   "metadata": {
    "ExecuteTime": {
     "end_time": "2018-06-13T05:42:28.882215Z",
     "start_time": "2018-06-13T05:42:27.640144Z"
    }
   },
   "outputs": [
    {
     "name": "stderr",
     "output_type": "stream",
     "text": [
      "D:\\software\\conda\\lib\\site-packages\\sklearn\\cross_validation.py:41: DeprecationWarning: This module was deprecated in version 0.18 in favor of the model_selection module into which all the refactored classes and functions are moved. Also note that the interface of the new CV iterators are different from that of this module. This module will be removed in 0.20.\n",
      "  \"This module will be removed in 0.20.\", DeprecationWarning)\n"
     ]
    }
   ],
   "source": [
    "# encoding=utf-8\n",
    "\n",
    "# X_train, X_test, y_train, y_test\n",
    "\n",
    "import jieba\n",
    "import sys\n",
    "import re\n",
    "import time\n",
    "import string\n",
    "from sklearn import feature_extraction\n",
    "from sklearn.pipeline import Pipeline,FeatureUnion\n",
    "\n",
    "from sklearn.feature_extraction.text import TfidfTransformer\n",
    "from sklearn.feature_extraction.text import CountVectorizer\n",
    "\n",
    "from sklearn.feature_extraction.text import TfidfVectorizer\n",
    "from sklearn.feature_selection import SelectKBest, chi2,mutual_info_classif,f_classif\n",
    "\n",
    "import pickle\n",
    "\n",
    "import numpy as np\n",
    "from sklearn import cross_validation\n",
    "from sklearn.cross_validation import KFold  \n",
    "from sklearn.linear_model import LogisticRegression  \n",
    "from sklearn.naive_bayes import GaussianNB  \n",
    "from sklearn.neighbors import KNeighborsClassifier   \n",
    "from sklearn import svm  \n",
    "from sklearn.tree import DecisionTreeClassifier  \n",
    "from sklearn.ensemble import RandomForestClassifier  \n",
    "\n",
    "from sklearn.datasets.base import Bunch\n",
    "from sklearn.linear_model import SGDClassifier\n",
    "from sklearn.metrics import confusion_matrix, f1_score\n",
    "from sklearn.ensemble import ExtraTreesClassifier\n",
    "\n",
    "import xgboost as xgb\n",
    "from xgboost import XGBClassifier\n",
    "from sklearn import metrics\n",
    "\n",
    "from sklearn.base import BaseEstimator, TransformerMixin\n",
    "from collections import defaultdict\n",
    "\n",
    "import joblib\n",
    "from sklearn import metrics\n",
    "%matplotlib inline"
   ]
  },
  {
   "cell_type": "code",
   "execution_count": 2,
   "metadata": {
    "ExecuteTime": {
     "end_time": "2018-06-13T05:42:28.939218Z",
     "start_time": "2018-06-13T05:42:28.905216Z"
    },
    "collapsed": true
   },
   "outputs": [],
   "source": [
    "class StatsFeatures(BaseEstimator, TransformerMixin):\n",
    "    \n",
    "    def __init__(self):\n",
    "        self.neg = set()\n",
    "        f = open(\"neg_words.txt\",\"r+\", encoding='UTF-8')\n",
    "        for content in f:\n",
    "            self.neg.add(content)\n",
    "        f.close()\n",
    "\n",
    "    def fit(self, X, y=None):\n",
    "        return self\n",
    "\n",
    "    def getcnt(self,x):\n",
    "        return len(list(set(x)))\n",
    "\n",
    "    def getnegcnt(self,x):\n",
    "        negcnt = 0\n",
    "        words = x.split()\n",
    "        for w in words:\n",
    "            if w in self.neg:\n",
    "                negcnt = negcnt+1\n",
    "        return negcnt\n",
    "    \n",
    "    def transform(self, X):\n",
    "        return [[len(x),self.getcnt(x),self.getcnt(x)/len(x),self.getnegcnt(x),self.getnegcnt(x)/len(x)] for x in X]\n",
    "    "
   ]
  },
  {
   "cell_type": "code",
   "execution_count": 3,
   "metadata": {
    "ExecuteTime": {
     "end_time": "2018-06-13T05:42:30.341298Z",
     "start_time": "2018-06-13T05:42:30.325297Z"
    },
    "collapsed": true
   },
   "outputs": [],
   "source": [
    "def classified_index(corpus_p, corpus_n, corpus, lab):\n",
    "    '''\n",
    "    二分类模型各指标的结果\n",
    "    '''\n",
    "    \n",
    "    res = chapter_pipeline_1.predict(corpus_p)\n",
    "    print('正样本预测准确率: ', float(sum(res))/len(res),len(res))\n",
    "    \n",
    "    res = chapter_pipeline_1.predict(corpus_n)\n",
    "    print('负样本预测准确率: ',  1-float(sum(res))/len(res),len(res))\n",
    "    \n",
    "    y_pred_class = chapter_pipeline_1.predict(corpus)\n",
    "    print('accuracy_score: ', metrics.accuracy_score(lab, y_pred_class)) # 指所有分类正确的百分比\n",
    "    print(metrics.classification_report(lab, y_pred_class))\n",
    "    print('confusion_matrix: ')\n",
    "    print( metrics.confusion_matrix(lab, y_pred_class))"
   ]
  },
  {
   "cell_type": "markdown",
   "metadata": {},
   "source": [
    "# 银监会--倾向性模型"
   ]
  },
  {
   "cell_type": "markdown",
   "metadata": {},
   "source": [
    "## 导入预处理后正负预测样本"
   ]
  },
  {
   "cell_type": "code",
   "execution_count": 64,
   "metadata": {
    "ExecuteTime": {
     "end_time": "2018-06-12T07:25:49.500219Z",
     "start_time": "2018-06-12T07:25:46.737061Z"
    }
   },
   "outputs": [
    {
     "name": "stderr",
     "output_type": "stream",
     "text": [
      "D:\\software\\conda\\lib\\site-packages\\sklearn\\preprocessing\\label.py:151: DeprecationWarning: The truth value of an empty array is ambiguous. Returning False, but in future this will result in an error. Use `array.size > 0` to check that an array is not empty.\n",
      "  if diff:\n"
     ]
    },
    {
     "name": "stdout",
     "output_type": "stream",
     "text": [
      "正样本预测准确率:  0.982 500\n"
     ]
    },
    {
     "name": "stderr",
     "output_type": "stream",
     "text": [
      "D:\\software\\conda\\lib\\site-packages\\sklearn\\preprocessing\\label.py:151: DeprecationWarning: The truth value of an empty array is ambiguous. Returning False, but in future this will result in an error. Use `array.size > 0` to check that an array is not empty.\n",
      "  if diff:\n"
     ]
    },
    {
     "name": "stdout",
     "output_type": "stream",
     "text": [
      "负样本预测准确率:  0.864321608040201 398\n",
      "accuracy_score:  0.9298440979955457\n",
      "             precision    recall  f1-score   support\n",
      "\n",
      "          0       0.97      0.86      0.92       398\n",
      "          1       0.90      0.98      0.94       500\n",
      "\n",
      "avg / total       0.93      0.93      0.93       898\n",
      "\n",
      "confusion_matrix: \n",
      "[[344  54]\n",
      " [  9 491]]\n"
     ]
    },
    {
     "name": "stderr",
     "output_type": "stream",
     "text": [
      "D:\\software\\conda\\lib\\site-packages\\sklearn\\preprocessing\\label.py:151: DeprecationWarning: The truth value of an empty array is ambiguous. Returning False, but in future this will result in an error. Use `array.size > 0` to check that an array is not empty.\n",
      "  if diff:\n"
     ]
    }
   ],
   "source": [
    "# pos samples\n",
    "corpus_p = []   \n",
    "lab_p = [] \n",
    "f = open(\"0609_p_1.txt\",\"r+\", encoding='UTF-8')\n",
    "for content in f:\n",
    "    corpus_p.append(content.split(\"\\t\")[0])\n",
    "    lab_p.append(1)\n",
    "f.close()  \n",
    "\n",
    "# neg samples\n",
    "corpus_n = []   \n",
    "lab_n = []   \n",
    "f = open(\"0609_n_1.txt\",\"r+\", encoding='UTF-8')\n",
    "for content in f:\n",
    "    corpus_n.append(content.split(\"\\t\")[0])\n",
    "    lab_n.append(0)\n",
    "f.close()\n",
    "\n",
    "corpus, lab = [], []\n",
    "corpus = corpus_p + corpus_n\n",
    "lab = lab_p + lab_n\n",
    "\n",
    "# 导入模型\n",
    "chapter_pipeline_1 = joblib.load(\"NP_model_b.pkl.z\")  \n",
    "\n",
    "# 结果查看\n",
    "classified_index(corpus_p, corpus_n, corpus, lab)"
   ]
  },
  {
   "cell_type": "markdown",
   "metadata": {},
   "source": [
    "## 导入原始数据\n",
    "- 0604-0608银监会负面\n",
    "- 0604-0608银监误判为负面的数据"
   ]
  },
  {
   "cell_type": "code",
   "execution_count": 39,
   "metadata": {
    "ExecuteTime": {
     "end_time": "2018-06-12T03:16:57.348149Z",
     "start_time": "2018-06-12T03:16:40.987213Z"
    }
   },
   "outputs": [
    {
     "name": "stderr",
     "output_type": "stream",
     "text": [
      "D:\\software\\conda\\lib\\site-packages\\sklearn\\preprocessing\\label.py:151: DeprecationWarning: The truth value of an empty array is ambiguous. Returning False, but in future this will result in an error. Use `array.size > 0` to check that an array is not empty.\n",
      "  if diff:\n"
     ]
    },
    {
     "name": "stdout",
     "output_type": "stream",
     "text": [
      "正样本预测准确率:  0.97 500\n"
     ]
    },
    {
     "name": "stderr",
     "output_type": "stream",
     "text": [
      "D:\\software\\conda\\lib\\site-packages\\sklearn\\preprocessing\\label.py:151: DeprecationWarning: The truth value of an empty array is ambiguous. Returning False, but in future this will result in an error. Use `array.size > 0` to check that an array is not empty.\n",
      "  if diff:\n"
     ]
    },
    {
     "name": "stdout",
     "output_type": "stream",
     "text": [
      "负样本预测准确率:  0.864321608040201 398\n",
      "accuracy_score:  0.923162583518931\n",
      "             precision    recall  f1-score   support\n",
      "\n",
      "          0       0.96      0.86      0.91       398\n",
      "          1       0.90      0.97      0.93       500\n",
      "\n",
      "avg / total       0.93      0.92      0.92       898\n",
      "\n",
      "confusion_matrix: \n",
      "[[344  54]\n",
      " [ 15 485]]\n"
     ]
    },
    {
     "name": "stderr",
     "output_type": "stream",
     "text": [
      "D:\\software\\conda\\lib\\site-packages\\sklearn\\preprocessing\\label.py:151: DeprecationWarning: The truth value of an empty array is ambiguous. Returning False, but in future this will result in an error. Use `array.size > 0` to check that an array is not empty.\n",
      "  if diff:\n"
     ]
    }
   ],
   "source": [
    "# pos samples\n",
    "corpus_p = []   \n",
    "lab_p = [] \n",
    "cbrc_pos_filename = 'data/0609_pos_raw_data.txt'\n",
    "f = open(cbrc_pos_filename,\"r+\", encoding='UTF-8')\n",
    "for content in f:\n",
    "    corpus_p.append(content.split(\"\\t\")[0])\n",
    "    lab_p.append(1)\n",
    "f.close()  \n",
    "\n",
    "# neg samples\n",
    "corpus_n = []   \n",
    "lab_n = []   \n",
    "cbrc_neg_filename = 'data/0609_neg_raw_data.txt'\n",
    "f = open(cbrc_neg_filename,\"r+\", encoding='UTF-8')\n",
    "for content in f:\n",
    "    corpus_n.append(content.split(\"\\t\")[0])\n",
    "    lab_n.append(0)\n",
    "f.close()\n",
    "\n",
    "corpus, lab = [], []\n",
    "corpus = corpus_p + corpus_n\n",
    "lab = lab_p + lab_n\n",
    "\n",
    "# 预处理\n",
    "import pre\n",
    "corpus_p = pre.handle_contents(corpus_p)\n",
    "corpus_n = pre.handle_contents(corpus_n)\n",
    "corpus = pre.handle_contents(corpus)\n",
    "del pre\n",
    "\n",
    "# 导入模型\n",
    "chapter_pipeline_1 = joblib.load(\"NP_model_b.pkl.z\")  \n",
    "\n",
    "# 查看结果\n",
    "classified_index(corpus_p, corpus_n, corpus, lab)"
   ]
  },
  {
   "cell_type": "code",
   "execution_count": 27,
   "metadata": {
    "ExecuteTime": {
     "end_time": "2018-06-12T02:52:29.514193Z",
     "start_time": "2018-06-12T02:52:29.500193Z"
    }
   },
   "outputs": [
    {
     "data": {
      "text/plain": [
       "898"
      ]
     },
     "execution_count": 27,
     "metadata": {},
     "output_type": "execute_result"
    }
   ],
   "source": [
    "len(corpus)"
   ]
  },
  {
   "cell_type": "markdown",
   "metadata": {},
   "source": [
    "## 银监会：结论\n",
    "- 韩老师预处理后数据，使用模型预测后结果：0.983/0.86/0.93（正样本精度、负样本精度、总体正确率）\n",
    "- 线上程序预处理后数据，使用模型预测和结果：0.975/0.86/0.92（正样本精度、负样本精度、总体正确率）\n",
    "- 两套程序基本一致"
   ]
  },
  {
   "cell_type": "markdown",
   "metadata": {},
   "source": [
    "# 保监会--倾向性模型"
   ]
  },
  {
   "cell_type": "markdown",
   "metadata": {},
   "source": [
    "## 导入原始数据\n",
    "- 0604-0608保监会非负补充\n",
    "- 0604-0608保监会负面\n",
    "- 0604-0608保监会误判为负面的数据"
   ]
  },
  {
   "cell_type": "code",
   "execution_count": 4,
   "metadata": {
    "ExecuteTime": {
     "end_time": "2018-06-13T05:42:35.781609Z",
     "start_time": "2018-06-13T05:42:35.538595Z"
    },
    "collapsed": true
   },
   "outputs": [],
   "source": [
    "# pos samples\n",
    "corpus_p = []   \n",
    "lab_p = [] \n",
    "circ_pos_filename = 'data/circ_0609_pos_raw_data.txt'\n",
    "f = open(circ_pos_filename,\"r+\", encoding='UTF-8')\n",
    "for content in f:\n",
    "    corpus_p.append(content.split(\"\\t\")[0])\n",
    "    lab_p.append(1)\n",
    "f.close()  \n",
    "\n",
    "# neg samples\n",
    "corpus_n = []   \n",
    "lab_n = []   \n",
    "circ_neg_filename = 'data/circ_0609_neg_raw_data.txt'\n",
    "f = open(circ_neg_filename,\"r+\", encoding='UTF-8')\n",
    "for content in f:\n",
    "    corpus_n.append(content.split(\"\\t\")[0])\n",
    "    lab_n.append(0)\n",
    "f.close()\n",
    "\n",
    "corpus, lab = [], []\n",
    "corpus = corpus_p + corpus_n\n",
    "lab = lab_p + lab_n"
   ]
  },
  {
   "cell_type": "code",
   "execution_count": 5,
   "metadata": {
    "ExecuteTime": {
     "end_time": "2018-06-13T05:42:36.234635Z",
     "start_time": "2018-06-13T05:42:36.228635Z"
    }
   },
   "outputs": [
    {
     "name": "stdout",
     "output_type": "stream",
     "text": [
      "767\n",
      "399\n",
      "368\n"
     ]
    }
   ],
   "source": [
    "print(len(corpus))\n",
    "print(len(corpus_p))\n",
    "print(len(corpus_n))"
   ]
  },
  {
   "cell_type": "markdown",
   "metadata": {},
   "source": [
    "### 预处理（true） + 模型（NP_model_i）"
   ]
  },
  {
   "cell_type": "code",
   "execution_count": 58,
   "metadata": {
    "ExecuteTime": {
     "end_time": "2018-06-12T07:09:18.839556Z",
     "start_time": "2018-06-12T07:08:44.520593Z"
    }
   },
   "outputs": [
    {
     "name": "stderr",
     "output_type": "stream",
     "text": [
      "D:\\software\\conda\\lib\\site-packages\\sklearn\\preprocessing\\label.py:151: DeprecationWarning: The truth value of an empty array is ambiguous. Returning False, but in future this will result in an error. Use `array.size > 0` to check that an array is not empty.\n",
      "  if diff:\n"
     ]
    },
    {
     "name": "stdout",
     "output_type": "stream",
     "text": [
      "正样本预测准确率:  0.6616541353383458 399\n"
     ]
    },
    {
     "name": "stderr",
     "output_type": "stream",
     "text": [
      "D:\\software\\conda\\lib\\site-packages\\sklearn\\preprocessing\\label.py:151: DeprecationWarning: The truth value of an empty array is ambiguous. Returning False, but in future this will result in an error. Use `array.size > 0` to check that an array is not empty.\n",
      "  if diff:\n"
     ]
    },
    {
     "name": "stdout",
     "output_type": "stream",
     "text": [
      "负样本预测准确率:  0.8206521739130435 368\n",
      "accuracy_score:  0.7379400260756193\n",
      "             precision    recall  f1-score   support\n",
      "\n",
      "          0       0.69      0.82      0.75       368\n",
      "          1       0.80      0.66      0.72       399\n",
      "\n",
      "avg / total       0.75      0.74      0.74       767\n",
      "\n",
      "confusion_matrix: \n",
      "[[302  66]\n",
      " [135 264]]\n"
     ]
    },
    {
     "name": "stderr",
     "output_type": "stream",
     "text": [
      "D:\\software\\conda\\lib\\site-packages\\sklearn\\preprocessing\\label.py:151: DeprecationWarning: The truth value of an empty array is ambiguous. Returning False, but in future this will result in an error. Use `array.size > 0` to check that an array is not empty.\n",
      "  if diff:\n"
     ]
    }
   ],
   "source": [
    "# 预处理  True\n",
    "import pre\n",
    "corpus_p_i = pre.handle_contents(corpus_p)\n",
    "corpus_n_i = pre.handle_contents(corpus_n)\n",
    "corpus_i = pre.handle_contents(corpus)\n",
    "\n",
    "# 导入模型\n",
    "chapter_pipeline_1 = joblib.load(\"NP_model_i.pkl.z\")  \n",
    "\n",
    "# 查看结果\n",
    "classified_index(corpus_p_i, corpus_n_i, corpus_i, lab)"
   ]
  },
  {
   "cell_type": "markdown",
   "metadata": {},
   "source": [
    "### 预处理（true） + 模型（0609_NP_model_i）"
   ]
  },
  {
   "cell_type": "code",
   "execution_count": 59,
   "metadata": {
    "ExecuteTime": {
     "end_time": "2018-06-12T07:09:53.961565Z",
     "start_time": "2018-06-12T07:09:19.095571Z"
    }
   },
   "outputs": [
    {
     "name": "stderr",
     "output_type": "stream",
     "text": [
      "D:\\software\\conda\\lib\\site-packages\\sklearn\\preprocessing\\label.py:151: DeprecationWarning: The truth value of an empty array is ambiguous. Returning False, but in future this will result in an error. Use `array.size > 0` to check that an array is not empty.\n",
      "  if diff:\n"
     ]
    },
    {
     "name": "stdout",
     "output_type": "stream",
     "text": [
      "正样本预测准确率:  0.9899749373433584 399\n"
     ]
    },
    {
     "name": "stderr",
     "output_type": "stream",
     "text": [
      "D:\\software\\conda\\lib\\site-packages\\sklearn\\preprocessing\\label.py:151: DeprecationWarning: The truth value of an empty array is ambiguous. Returning False, but in future this will result in an error. Use `array.size > 0` to check that an array is not empty.\n",
      "  if diff:\n"
     ]
    },
    {
     "name": "stdout",
     "output_type": "stream",
     "text": [
      "负样本预测准确率:  0.016304347826086918 368\n",
      "accuracy_score:  0.5228161668839635\n",
      "             precision    recall  f1-score   support\n",
      "\n",
      "          0       0.60      0.02      0.03       368\n",
      "          1       0.52      0.99      0.68       399\n",
      "\n",
      "avg / total       0.56      0.52      0.37       767\n",
      "\n",
      "confusion_matrix: \n",
      "[[  6 362]\n",
      " [  4 395]]\n"
     ]
    },
    {
     "name": "stderr",
     "output_type": "stream",
     "text": [
      "D:\\software\\conda\\lib\\site-packages\\sklearn\\preprocessing\\label.py:151: DeprecationWarning: The truth value of an empty array is ambiguous. Returning False, but in future this will result in an error. Use `array.size > 0` to check that an array is not empty.\n",
      "  if diff:\n"
     ]
    }
   ],
   "source": [
    "# 预处理  True\n",
    "import pre\n",
    "corpus_p_i = pre.handle_contents(corpus_p)\n",
    "corpus_n_i = pre.handle_contents(corpus_n)\n",
    "corpus_i = pre.handle_contents(corpus)\n",
    "\n",
    "# 导入模型\n",
    "chapter_pipeline_1 = joblib.load(\"0609_NP_model_i.pkl.z\")  \n",
    "\n",
    "# 查看结果\n",
    "classified_index(corpus_p_i, corpus_n_i, corpus_i, lab)"
   ]
  },
  {
   "cell_type": "markdown",
   "metadata": {},
   "source": [
    "### 预处理（false） + 模型（NP_model_i）"
   ]
  },
  {
   "cell_type": "code",
   "execution_count": 60,
   "metadata": {
    "ExecuteTime": {
     "end_time": "2018-06-12T07:10:29.000569Z",
     "start_time": "2018-06-12T07:09:54.234581Z"
    }
   },
   "outputs": [
    {
     "name": "stderr",
     "output_type": "stream",
     "text": [
      "D:\\software\\conda\\lib\\site-packages\\sklearn\\preprocessing\\label.py:151: DeprecationWarning: The truth value of an empty array is ambiguous. Returning False, but in future this will result in an error. Use `array.size > 0` to check that an array is not empty.\n",
      "  if diff:\n"
     ]
    },
    {
     "name": "stdout",
     "output_type": "stream",
     "text": [
      "正样本预测准确率:  0.6616541353383458 399\n"
     ]
    },
    {
     "name": "stderr",
     "output_type": "stream",
     "text": [
      "D:\\software\\conda\\lib\\site-packages\\sklearn\\preprocessing\\label.py:151: DeprecationWarning: The truth value of an empty array is ambiguous. Returning False, but in future this will result in an error. Use `array.size > 0` to check that an array is not empty.\n",
      "  if diff:\n"
     ]
    },
    {
     "name": "stdout",
     "output_type": "stream",
     "text": [
      "负样本预测准确率:  0.8206521739130435 368\n",
      "accuracy_score:  0.7379400260756193\n",
      "             precision    recall  f1-score   support\n",
      "\n",
      "          0       0.69      0.82      0.75       368\n",
      "          1       0.80      0.66      0.72       399\n",
      "\n",
      "avg / total       0.75      0.74      0.74       767\n",
      "\n",
      "confusion_matrix: \n",
      "[[302  66]\n",
      " [135 264]]\n"
     ]
    },
    {
     "name": "stderr",
     "output_type": "stream",
     "text": [
      "D:\\software\\conda\\lib\\site-packages\\sklearn\\preprocessing\\label.py:151: DeprecationWarning: The truth value of an empty array is ambiguous. Returning False, but in future this will result in an error. Use `array.size > 0` to check that an array is not empty.\n",
      "  if diff:\n"
     ]
    }
   ],
   "source": [
    "# 预处理  False\n",
    "import pre_1\n",
    "corpus_p_i = pre_1.handle_contents(corpus_p)\n",
    "corpus_n_i = pre_1.handle_contents(corpus_n)\n",
    "corpus_i = pre_1.handle_contents(corpus)\n",
    "\n",
    "# 导入模型\n",
    "chapter_pipeline_1 = joblib.load(\"NP_model_i.pkl.z\")  \n",
    "\n",
    "# 查看结果\n",
    "classified_index(corpus_p_i, corpus_n_i, corpus_i, lab)"
   ]
  },
  {
   "cell_type": "markdown",
   "metadata": {},
   "source": [
    "### 预处理（false） + 模型（0609_NP_model_i）"
   ]
  },
  {
   "cell_type": "code",
   "execution_count": 61,
   "metadata": {
    "ExecuteTime": {
     "end_time": "2018-06-12T07:11:03.946568Z",
     "start_time": "2018-06-12T07:10:29.276585Z"
    }
   },
   "outputs": [
    {
     "name": "stderr",
     "output_type": "stream",
     "text": [
      "D:\\software\\conda\\lib\\site-packages\\sklearn\\preprocessing\\label.py:151: DeprecationWarning: The truth value of an empty array is ambiguous. Returning False, but in future this will result in an error. Use `array.size > 0` to check that an array is not empty.\n",
      "  if diff:\n"
     ]
    },
    {
     "name": "stdout",
     "output_type": "stream",
     "text": [
      "正样本预测准确率:  0.9899749373433584 399\n"
     ]
    },
    {
     "name": "stderr",
     "output_type": "stream",
     "text": [
      "D:\\software\\conda\\lib\\site-packages\\sklearn\\preprocessing\\label.py:151: DeprecationWarning: The truth value of an empty array is ambiguous. Returning False, but in future this will result in an error. Use `array.size > 0` to check that an array is not empty.\n",
      "  if diff:\n"
     ]
    },
    {
     "name": "stdout",
     "output_type": "stream",
     "text": [
      "负样本预测准确率:  0.016304347826086918 368\n",
      "accuracy_score:  0.5228161668839635\n",
      "             precision    recall  f1-score   support\n",
      "\n",
      "          0       0.60      0.02      0.03       368\n",
      "          1       0.52      0.99      0.68       399\n",
      "\n",
      "avg / total       0.56      0.52      0.37       767\n",
      "\n",
      "confusion_matrix: \n",
      "[[  6 362]\n",
      " [  4 395]]\n"
     ]
    },
    {
     "name": "stderr",
     "output_type": "stream",
     "text": [
      "D:\\software\\conda\\lib\\site-packages\\sklearn\\preprocessing\\label.py:151: DeprecationWarning: The truth value of an empty array is ambiguous. Returning False, but in future this will result in an error. Use `array.size > 0` to check that an array is not empty.\n",
      "  if diff:\n"
     ]
    }
   ],
   "source": [
    "# 预处理  False\n",
    "import pre_1\n",
    "corpus_p_i = pre_1.handle_contents(corpus_p)\n",
    "corpus_n_i = pre_1.handle_contents(corpus_n)\n",
    "corpus_i = pre_1.handle_contents(corpus)\n",
    "\n",
    "# 导入模型\n",
    "chapter_pipeline_1 = joblib.load(\"0609_NP_model_i.pkl.z\")  \n",
    "\n",
    "# 查看结果\n",
    "classified_index(corpus_p_i, corpus_n_i, corpus_i, lab)"
   ]
  },
  {
   "cell_type": "markdown",
   "metadata": {},
   "source": [
    "### 预处理（false 韩） + 模型（NP_model_i）"
   ]
  },
  {
   "cell_type": "code",
   "execution_count": 63,
   "metadata": {
    "ExecuteTime": {
     "end_time": "2018-06-12T07:22:17.735107Z",
     "start_time": "2018-06-12T07:21:43.543151Z"
    }
   },
   "outputs": [
    {
     "name": "stderr",
     "output_type": "stream",
     "text": [
      "D:\\software\\conda\\lib\\site-packages\\sklearn\\preprocessing\\label.py:151: DeprecationWarning: The truth value of an empty array is ambiguous. Returning False, but in future this will result in an error. Use `array.size > 0` to check that an array is not empty.\n",
      "  if diff:\n"
     ]
    },
    {
     "name": "stdout",
     "output_type": "stream",
     "text": [
      "正样本预测准确率:  0.6641604010025063 399\n"
     ]
    },
    {
     "name": "stderr",
     "output_type": "stream",
     "text": [
      "D:\\software\\conda\\lib\\site-packages\\sklearn\\preprocessing\\label.py:151: DeprecationWarning: The truth value of an empty array is ambiguous. Returning False, but in future this will result in an error. Use `array.size > 0` to check that an array is not empty.\n",
      "  if diff:\n"
     ]
    },
    {
     "name": "stdout",
     "output_type": "stream",
     "text": [
      "负样本预测准确率:  0.8206521739130435 368\n",
      "accuracy_score:  0.7392438070404173\n",
      "             precision    recall  f1-score   support\n",
      "\n",
      "          0       0.69      0.82      0.75       368\n",
      "          1       0.80      0.66      0.73       399\n",
      "\n",
      "avg / total       0.75      0.74      0.74       767\n",
      "\n",
      "confusion_matrix: \n",
      "[[302  66]\n",
      " [134 265]]\n"
     ]
    },
    {
     "name": "stderr",
     "output_type": "stream",
     "text": [
      "D:\\software\\conda\\lib\\site-packages\\sklearn\\preprocessing\\label.py:151: DeprecationWarning: The truth value of an empty array is ambiguous. Returning False, but in future this will result in an error. Use `array.size > 0` to check that an array is not empty.\n",
      "  if diff:\n"
     ]
    }
   ],
   "source": [
    "# 预处理  False\n",
    "import pre_2\n",
    "corpus_p_i = pre_2.handle_contents(corpus_p)\n",
    "corpus_n_i = pre_2.handle_contents(corpus_n)\n",
    "corpus_i = pre_2.handle_contents(corpus)\n",
    "\n",
    "# 导入模型\n",
    "chapter_pipeline_1 = joblib.load(\"NP_model_i.pkl.z\")  \n",
    "\n",
    "# 查看结果\n",
    "classified_index(corpus_p_i, corpus_n_i, corpus_i, lab)"
   ]
  },
  {
   "cell_type": "markdown",
   "metadata": {},
   "source": [
    "### 预处理（false 韩） + 模型（0609_NP_model_i）"
   ]
  },
  {
   "cell_type": "code",
   "execution_count": 9,
   "metadata": {
    "ExecuteTime": {
     "end_time": "2018-06-13T05:45:22.693156Z",
     "start_time": "2018-06-13T05:44:49.455255Z"
    }
   },
   "outputs": [
    {
     "name": "stderr",
     "output_type": "stream",
     "text": [
      "D:\\software\\conda\\lib\\site-packages\\sklearn\\preprocessing\\label.py:151: DeprecationWarning: The truth value of an empty array is ambiguous. Returning False, but in future this will result in an error. Use `array.size > 0` to check that an array is not empty.\n",
      "  if diff:\n"
     ]
    },
    {
     "name": "stdout",
     "output_type": "stream",
     "text": [
      "正样本预测准确率:  0.8170426065162907 399\n"
     ]
    },
    {
     "name": "stderr",
     "output_type": "stream",
     "text": [
      "D:\\software\\conda\\lib\\site-packages\\sklearn\\preprocessing\\label.py:151: DeprecationWarning: The truth value of an empty array is ambiguous. Returning False, but in future this will result in an error. Use `array.size > 0` to check that an array is not empty.\n",
      "  if diff:\n"
     ]
    },
    {
     "name": "stdout",
     "output_type": "stream",
     "text": [
      "负样本预测准确率:  0.7934782608695652 368\n",
      "accuracy_score:  0.8057366362451108\n",
      "             precision    recall  f1-score   support\n",
      "\n",
      "          0       0.80      0.79      0.80       368\n",
      "          1       0.81      0.82      0.81       399\n",
      "\n",
      "avg / total       0.81      0.81      0.81       767\n",
      "\n",
      "confusion_matrix: \n",
      "[[292  76]\n",
      " [ 73 326]]\n"
     ]
    },
    {
     "name": "stderr",
     "output_type": "stream",
     "text": [
      "D:\\software\\conda\\lib\\site-packages\\sklearn\\preprocessing\\label.py:151: DeprecationWarning: The truth value of an empty array is ambiguous. Returning False, but in future this will result in an error. Use `array.size > 0` to check that an array is not empty.\n",
      "  if diff:\n"
     ]
    }
   ],
   "source": [
    "# 预处理  False\n",
    "import pre_2\n",
    "corpus_p_i = pre_2.handle_contents(corpus_p)\n",
    "corpus_n_i = pre_2.handle_contents(corpus_n)\n",
    "corpus_i = pre_2.handle_contents(corpus)\n",
    "\n",
    "# 导入模型\n",
    "from sklearn.externals import joblib\n",
    "chapter_pipeline_1 = joblib.load(\"0613_NP_model_i.pkl.z\")  \n",
    "\n",
    "# 查看结果\n",
    "classified_index(corpus_p_i, corpus_n_i, corpus_i, lab)"
   ]
  },
  {
   "cell_type": "code",
   "execution_count": 21,
   "metadata": {
    "ExecuteTime": {
     "end_time": "2018-06-13T06:42:25.293918Z",
     "start_time": "2018-06-13T06:42:21.605707Z"
    }
   },
   "outputs": [
    {
     "name": "stderr",
     "output_type": "stream",
     "text": [
      "D:\\software\\conda\\lib\\site-packages\\sklearn\\preprocessing\\label.py:151: DeprecationWarning: The truth value of an empty array is ambiguous. Returning False, but in future this will result in an error. Use `array.size > 0` to check that an array is not empty.\n",
      "  if diff:\n"
     ]
    },
    {
     "name": "stdout",
     "output_type": "stream",
     "text": [
      "正样本预测准确率:  0.8220551378446115 399\n"
     ]
    },
    {
     "name": "stderr",
     "output_type": "stream",
     "text": [
      "D:\\software\\conda\\lib\\site-packages\\sklearn\\preprocessing\\label.py:151: DeprecationWarning: The truth value of an empty array is ambiguous. Returning False, but in future this will result in an error. Use `array.size > 0` to check that an array is not empty.\n",
      "  if diff:\n"
     ]
    },
    {
     "name": "stdout",
     "output_type": "stream",
     "text": [
      "负样本预测准确率:  0.8043478260869565 368\n",
      "accuracy_score:  0.8135593220338984\n",
      "             precision    recall  f1-score   support\n",
      "\n",
      "          0       0.81      0.80      0.81       368\n",
      "          1       0.82      0.82      0.82       399\n",
      "\n",
      "avg / total       0.81      0.81      0.81       767\n",
      "\n",
      "confusion_matrix: \n",
      "[[296  72]\n",
      " [ 71 328]]\n"
     ]
    },
    {
     "name": "stderr",
     "output_type": "stream",
     "text": [
      "D:\\software\\conda\\lib\\site-packages\\sklearn\\preprocessing\\label.py:151: DeprecationWarning: The truth value of an empty array is ambiguous. Returning False, but in future this will result in an error. Use `array.size > 0` to check that an array is not empty.\n",
      "  if diff:\n"
     ]
    }
   ],
   "source": [
    "corpus = []\n",
    "lab = []\n",
    "corpus_p_i = []\n",
    "lab_p_i = []\n",
    "corpus_n_i = []\n",
    "lab_n_i = []\n",
    "\n",
    "f = open(\"0613_p.txt\",\"r+\", encoding='UTF-8')\n",
    "for content in f:\n",
    "    corpus_p_i.append(content.split(\"\\t\")[0])\n",
    "    lab_p_i.append(1)\n",
    "f.close()\n",
    "\n",
    "#neg sample\n",
    "f = open(\"0613_n.txt\",\"r+\", encoding='UTF-8')\n",
    "for content in f:\n",
    "    corpus_n_i.append(content.split(\"\\t\")[0])\n",
    "    lab_n_i.append(0)\n",
    "f.close()\n",
    "\n",
    "corpus_i = corpus_p_i + corpus_n_i\n",
    "lab = lab_p_i + lab_n_i\n",
    "\n",
    "# 导入模型\n",
    "from sklearn.externals import joblib\n",
    "chapter_pipeline_1 = joblib.load(\"0613_NP_model_i.pkl.z\")  \n",
    "\n",
    "# 查看结果\n",
    "classified_index(corpus_p_i, corpus_n_i, corpus_i, lab)"
   ]
  },
  {
   "cell_type": "code",
   "execution_count": 15,
   "metadata": {
    "ExecuteTime": {
     "end_time": "2018-06-13T05:56:18.820684Z",
     "start_time": "2018-06-13T05:56:15.210478Z"
    }
   },
   "outputs": [
    {
     "name": "stderr",
     "output_type": "stream",
     "text": [
      "D:\\software\\conda\\lib\\site-packages\\sklearn\\preprocessing\\label.py:151: DeprecationWarning: The truth value of an empty array is ambiguous. Returning False, but in future this will result in an error. Use `array.size > 0` to check that an array is not empty.\n",
      "  if diff:\n",
      "D:\\software\\conda\\lib\\site-packages\\sklearn\\preprocessing\\label.py:151: DeprecationWarning: The truth value of an empty array is ambiguous. Returning False, but in future this will result in an error. Use `array.size > 0` to check that an array is not empty.\n",
      "  if diff:\n"
     ]
    },
    {
     "name": "stdout",
     "output_type": "stream",
     "text": [
      "正样本预测准确率:  0.9933774834437086 755\n",
      "负样本预测准确率:  0.9899497487437185 398\n",
      "accuracy_score:  0.9921942758022549\n",
      "             precision    recall  f1-score   support\n",
      "\n",
      "          0       0.99      0.99      0.99       398\n",
      "          1       0.99      0.99      0.99       755\n",
      "\n",
      "avg / total       0.99      0.99      0.99      1153\n",
      "\n",
      "confusion_matrix: \n",
      "[[394   4]\n",
      " [  5 750]]\n"
     ]
    },
    {
     "name": "stderr",
     "output_type": "stream",
     "text": [
      "D:\\software\\conda\\lib\\site-packages\\sklearn\\preprocessing\\label.py:151: DeprecationWarning: The truth value of an empty array is ambiguous. Returning False, but in future this will result in an error. Use `array.size > 0` to check that an array is not empty.\n",
      "  if diff:\n"
     ]
    }
   ],
   "source": [
    "corpus = []\n",
    "lab = []\n",
    "corpus_p_i = []\n",
    "lab_p_i = []\n",
    "corpus_n_i = []\n",
    "lab_n_i = []\n",
    "\n",
    "f = open(\"0609_p_1.txt\",\"r+\", encoding='UTF-8')\n",
    "for content in f:\n",
    "    corpus_p_i.append(content.split(\"\\t\")[0])\n",
    "    lab_p_i.append(1)\n",
    "f.close()\n",
    "f = open(\"0609_p_2.txt\",\"r+\", encoding='UTF-8')\n",
    "for content in f:\n",
    "    corpus_p_i.append(content.split(\"\\t\")[0])\n",
    "    lab_p_i.append(1)\n",
    "f.close()\n",
    "\n",
    "#neg sample\n",
    "f = open(\"0609_n_1.txt\",\"r+\", encoding='UTF-8')\n",
    "for content in f:\n",
    "    corpus_n_i.append(content.split(\"\\t\")[0])\n",
    "    lab_n_i.append(0)\n",
    "f.close()\n",
    "\n",
    "corpus_i = corpus_p_i + corpus_n_i\n",
    "lab = lab_p_i + lab_n_i\n",
    "\n",
    "# 导入模型\n",
    "from sklearn.externals import joblib\n",
    "chapter_pipeline_1 = joblib.load(\"0613_NP_model_i.pkl.z\")  \n",
    "\n",
    "# 查看结果\n",
    "classified_index(corpus_p_i, corpus_n_i, corpus_i, lab)"
   ]
  },
  {
   "cell_type": "code",
   "execution_count": 16,
   "metadata": {
    "ExecuteTime": {
     "end_time": "2018-06-13T06:03:30.641383Z",
     "start_time": "2018-06-13T06:03:27.319193Z"
    }
   },
   "outputs": [
    {
     "name": "stderr",
     "output_type": "stream",
     "text": [
      "D:\\software\\conda\\lib\\site-packages\\sklearn\\preprocessing\\label.py:151: DeprecationWarning: The truth value of an empty array is ambiguous. Returning False, but in future this will result in an error. Use `array.size > 0` to check that an array is not empty.\n",
      "  if diff:\n"
     ]
    },
    {
     "name": "stdout",
     "output_type": "stream",
     "text": [
      "正样本预测准确率:  0.9496688741721855 755\n"
     ]
    },
    {
     "name": "stderr",
     "output_type": "stream",
     "text": [
      "D:\\software\\conda\\lib\\site-packages\\sklearn\\preprocessing\\label.py:151: DeprecationWarning: The truth value of an empty array is ambiguous. Returning False, but in future this will result in an error. Use `array.size > 0` to check that an array is not empty.\n",
      "  if diff:\n"
     ]
    },
    {
     "name": "stdout",
     "output_type": "stream",
     "text": [
      "负样本预测准确率:  0.7412060301507537 398\n",
      "accuracy_score:  0.8777103209019947\n",
      "             precision    recall  f1-score   support\n",
      "\n",
      "          0       0.89      0.74      0.81       398\n",
      "          1       0.87      0.95      0.91       755\n",
      "\n",
      "avg / total       0.88      0.88      0.87      1153\n",
      "\n",
      "confusion_matrix: \n",
      "[[295 103]\n",
      " [ 38 717]]\n"
     ]
    },
    {
     "name": "stderr",
     "output_type": "stream",
     "text": [
      "D:\\software\\conda\\lib\\site-packages\\sklearn\\preprocessing\\label.py:151: DeprecationWarning: The truth value of an empty array is ambiguous. Returning False, but in future this will result in an error. Use `array.size > 0` to check that an array is not empty.\n",
      "  if diff:\n"
     ]
    }
   ],
   "source": [
    "# 导入模型\n",
    "import joblib\n",
    "chapter_pipeline_1 = joblib.load(\"NP_model_i.pkl.z\")  \n",
    "\n",
    "# 查看结果\n",
    "classified_index(corpus_p_i, corpus_n_i, corpus_i, lab)"
   ]
  },
  {
   "cell_type": "markdown",
   "metadata": {},
   "source": [
    "## 保监会：结果 + 结论\n",
    "> - 预处理（true）：预处理时 jieba 分词使用模式 cut_all=True\n",
    "> - 模型（NP_model_i）：预测所用模型\n",
    "> - 韩：韩老师所用预处理程序"
   ]
  },
  {
   "cell_type": "markdown",
   "metadata": {},
   "source": [
    "- 预处理（true） + 模型（NP_model_i）：0.66、0.82、0.7379（正样本精度、负样本精度、总体正确率）\n",
    "- 预处理（true） + 模型（0609_NP_model_i）：0.98997/0.016/0.52\n",
    "- 预处理（false） + 模型（NP_model_i）：0.66、0.82、0.7379\n",
    "- 预处理（false） + 模型（0609_NP_model_i）：0.98997/0.016/0.52 \n",
    "- 预处理（false 韩） + 模型（NP_model_i）：0.66/0.82/0.7392\n",
    "- 预处理（false 韩） + 模型（0609_NP_model_i）：0.98997/0.016/0.52 "
   ]
  },
  {
   "cell_type": "markdown",
   "metadata": {},
   "source": [
    "- 预处理过程中的分词模式影响不大。（周一中 cut_all=True 设置的影响没有重复出来）\n",
    "- 新旧模型在精准率（precision）上的差别较小，而在召回率上差异较大。\n",
    "- 新模型对正样本的 召回率 超高（0.99），对负样本的 召回率 超低（0.02）。说明标识为正样本的数量实际为正样本的比例高，而标识为负样本实际为负样本的比例很低。"
   ]
  }
 ],
 "metadata": {
  "kernelspec": {
   "display_name": "Python 3",
   "language": "python",
   "name": "python3"
  },
  "language_info": {
   "codemirror_mode": {
    "name": "ipython",
    "version": 3
   },
   "file_extension": ".py",
   "mimetype": "text/x-python",
   "name": "python",
   "nbconvert_exporter": "python",
   "pygments_lexer": "ipython3",
   "version": "3.6.3"
  },
  "toc": {
   "nav_menu": {},
   "number_sections": true,
   "sideBar": true,
   "skip_h1_title": false,
   "title_cell": "Table of Contents",
   "title_sidebar": "Contents",
   "toc_cell": false,
   "toc_position": {},
   "toc_section_display": true,
   "toc_window_display": true
  },
  "varInspector": {
   "cols": {
    "lenName": 16,
    "lenType": 16,
    "lenVar": 40
   },
   "kernels_config": {
    "python": {
     "delete_cmd_postfix": "",
     "delete_cmd_prefix": "del ",
     "library": "var_list.py",
     "varRefreshCmd": "print(var_dic_list())"
    },
    "r": {
     "delete_cmd_postfix": ") ",
     "delete_cmd_prefix": "rm(",
     "library": "var_list.r",
     "varRefreshCmd": "cat(var_dic_list()) "
    }
   },
   "types_to_exclude": [
    "module",
    "function",
    "builtin_function_or_method",
    "instance",
    "_Feature"
   ],
   "window_display": false
  }
 },
 "nbformat": 4,
 "nbformat_minor": 2
}
