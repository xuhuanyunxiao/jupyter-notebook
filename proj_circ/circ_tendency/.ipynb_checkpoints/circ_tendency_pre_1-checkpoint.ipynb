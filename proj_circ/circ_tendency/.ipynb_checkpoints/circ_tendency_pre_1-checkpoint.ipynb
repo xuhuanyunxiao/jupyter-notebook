{
 "cells": [
  {
   "cell_type": "markdown",
   "metadata": {},
   "source": [
    "# 基本设置"
   ]
  },
  {
   "cell_type": "code",
   "execution_count": 34,
   "metadata": {
    "ExecuteTime": {
     "end_time": "2018-09-05T09:28:38.889162Z",
     "start_time": "2018-09-05T09:28:36.464023Z"
    }
   },
   "outputs": [
    {
     "name": "stderr",
     "output_type": "stream",
     "text": [
      "Building prefix dict from the default dictionary ...\n",
      "Loading model from cache C:\\Users\\ADMINI~1\\AppData\\Local\\Temp\\jieba.cache\n",
      "Loading model cost 1.041 seconds.\n",
      "Prefix dict has been built succesfully.\n"
     ]
    }
   ],
   "source": [
    "import os\n",
    "import pandas as pd\n",
    "\n",
    "import xlrd\n",
    "\n",
    "%matplotlib inline\n",
    "import numpy as np\n",
    "import pandas as pd\n",
    "# import pre_cor_1\n",
    "# import pre_cor\n",
    "from toolkits.nlp import pre_cor_circ\n",
    "import os\n",
    "from sqlalchemy import create_engine\n",
    "from pandas.io import sql\n",
    "import re \n",
    "import warnings\n",
    "warnings.filterwarnings('ignore')"
   ]
  },
  {
   "cell_type": "code",
   "execution_count": 35,
   "metadata": {
    "ExecuteTime": {
     "end_time": "2018-09-05T09:28:39.486196Z",
     "start_time": "2018-09-05T09:28:39.466195Z"
    },
    "collapsed": true
   },
   "outputs": [],
   "source": [
    "def get_txt_encode(file_path):\n",
    "    '''\n",
    "    Function:\n",
    "        获取txt文档的编码格式\n",
    "    Arguments:\n",
    "        file_path -> string -- 文档所在路径\n",
    "    Return:\n",
    "        encode -> string -- txt文档的编码格式\n",
    "    '''\n",
    "    decode_set = ['utf-8','gb18030','ISO-8859-2','gb2312','gbk', 'ANSI'] # 编码集\n",
    "    encode = 0\n",
    "    for k in decode_set:\n",
    "        try :\n",
    "            file = open(file_path, 'r', encoding = k).read()\n",
    "            # print('\\n\\t读取成功： %s \\n\\t编码方式为： %s' %(file_path, k))\n",
    "            encode = k\n",
    "            break\n",
    "        except :\n",
    "            continue\n",
    "    if encode:\n",
    "        return encode\n",
    "    else :\n",
    "        return 'No encode'"
   ]
  },
  {
   "cell_type": "code",
   "execution_count": 41,
   "metadata": {
    "ExecuteTime": {
     "end_time": "2018-09-05T09:30:07.472229Z",
     "start_time": "2018-09-05T09:30:05.926140Z"
    },
    "collapsed": true
   },
   "outputs": [],
   "source": [
    "def combined_data(data_folder, save_filename, label = None):\n",
    "    file_list = os.listdir(data_folder)\n",
    "    combined_data = []\n",
    "    for file in file_list:\n",
    "        tmp = os.getcwd() + '\\\\' + data_folder + '\\\\' + file\n",
    "        encoding = get_txt_encode(tmp)\n",
    "        f = open(tmp, \"r+\", encoding = encoding)\n",
    "        title = file.replace('.txt', '').split('_')[1]\n",
    "        content = ''\n",
    "        for line in f:\n",
    "            content += line.strip()\n",
    "        f.close()\n",
    "        combined_data.append([title,content])\n",
    "    data = pd.DataFrame(combined_data, columns = ['title', 'content'])\n",
    "    data['label'] = label\n",
    "    data.to_excel(save_filename, index=False)\n",
    "    \n",
    "# circ_neg_folder = 'data/20180619/0604-0608保监会负面'\n",
    "# circ_neg_filename = 'data/circ_0905_neg_raw_data.xlsx'\n",
    "# combined_data(circ_neg_folder, circ_neg_filename, label = 0)\n",
    "# circ_pos_folder = 'data/20180619/0604-0608保监会误判为负面的数据'\n",
    "# circ_pos_filename = 'data/circ_0905_pos_raw_data.xlsx'\n",
    "# combined_data(circ_pos_folder, circ_pos_filename, label = 1)\n",
    "# circ_pos_folder = 'data/20180619/0604-0608保监会非负补充'\n",
    "# circ_pos_filename = 'data/circ_0905_pos_raw_data_add.xlsx'\n",
    "# combined_data(circ_pos_folder, circ_pos_filename, label = 1)"
   ]
  },
  {
   "cell_type": "markdown",
   "metadata": {},
   "source": [
    "# 导入数据"
   ]
  },
  {
   "cell_type": "code",
   "execution_count": 37,
   "metadata": {
    "ExecuteTime": {
     "end_time": "2018-09-05T09:28:41.475310Z",
     "start_time": "2018-09-05T09:28:41.472310Z"
    },
    "collapsed": true
   },
   "outputs": [],
   "source": [
    "forder = '20180905'"
   ]
  },
  {
   "cell_type": "markdown",
   "metadata": {
    "collapsed": true
   },
   "source": [
    "## 负面数据"
   ]
  },
  {
   "cell_type": "code",
   "execution_count": 38,
   "metadata": {
    "ExecuteTime": {
     "end_time": "2018-09-05T09:28:42.667378Z",
     "start_time": "2018-09-05T09:28:42.663378Z"
    }
   },
   "outputs": [],
   "source": [
    "file_list_1 = ['circ_0905_neg_raw_data.xlsx',]"
   ]
  },
  {
   "cell_type": "code",
   "execution_count": 40,
   "metadata": {
    "ExecuteTime": {
     "end_time": "2018-09-05T09:29:24.525772Z",
     "start_time": "2018-09-05T09:29:24.311760Z"
    }
   },
   "outputs": [
    {
     "name": "stdout",
     "output_type": "stream",
     "text": [
      "去空值前：  (368, 3) circ_0905_neg_raw_data.xlsx Sheet1\n",
      "去空值后：  (368, 3) circ_0905_neg_raw_data.xlsx Sheet1\n",
      "总数： (368, 3)\n"
     ]
    },
    {
     "data": {
      "text/html": [
       "<div>\n",
       "<style scoped>\n",
       "    .dataframe tbody tr th:only-of-type {\n",
       "        vertical-align: middle;\n",
       "    }\n",
       "\n",
       "    .dataframe tbody tr th {\n",
       "        vertical-align: top;\n",
       "    }\n",
       "\n",
       "    .dataframe thead th {\n",
       "        text-align: right;\n",
       "    }\n",
       "</style>\n",
       "<table border=\"1\" class=\"dataframe\">\n",
       "  <thead>\n",
       "    <tr style=\"text-align: right;\">\n",
       "      <th></th>\n",
       "      <th>label</th>\n",
       "      <th>title</th>\n",
       "      <th>content</th>\n",
       "    </tr>\n",
       "  </thead>\n",
       "  <tbody>\n",
       "    <tr>\n",
       "      <th>0</th>\n",
       "      <td>0</td>\n",
       "      <td>股份被转股东却不知情原保监会审查批复遭.txt</td>\n",
       "      <td>股份被转股东却不知情 原保监会审查批复遭质疑大股东私自转让公司所有股权后，故意违法被工商部门...</td>\n",
       "    </tr>\n",
       "    <tr>\n",
       "      <th>1</th>\n",
       "      <td>0</td>\n",
       "      <td>产寿险分裂七大阵营一季度家险企亏损.txt</td>\n",
       "      <td>产寿险分裂七大阵营：一季度72家险企亏损2017年，35家险企亏损过亿的消息尚未远去。201...</td>\n",
       "    </tr>\n",
       "    <tr>\n",
       "      <th>2</th>\n",
       "      <td>0</td>\n",
       "      <td>年险企车险承保亏损榜出炉家.txt</td>\n",
       "      <td>2017年险企车险承保亏损榜出炉：49家共亏62亿 安盛天平成“亏损王”财险公司2017年“...</td>\n",
       "    </tr>\n",
       "    <tr>\n",
       "      <th>3</th>\n",
       "      <td>0</td>\n",
       "      <td>车险承保亏损榜第名国任财险连亏两年去.txt</td>\n",
       "      <td>车险承保亏损榜第2名 国任财险连亏两年去年净利-2.7亿每经记者 胡 杨 每经编辑 王可然国...</td>\n",
       "    </tr>\n",
       "    <tr>\n",
       "      <th>4</th>\n",
       "      <td>0</td>\n",
       "      <td>去年保费缩两成退保超亿富德生命.txt</td>\n",
       "      <td>去年保费缩两成、退保超700亿，富德生命人寿一季度亏损延续专为&lt;font color=\"#F...</td>\n",
       "    </tr>\n",
       "  </tbody>\n",
       "</table>\n",
       "</div>"
      ],
      "text/plain": [
       "   label                    title  \\\n",
       "0      0  股份被转股东却不知情原保监会审查批复遭.txt   \n",
       "1      0    产寿险分裂七大阵营一季度家险企亏损.txt   \n",
       "2      0        年险企车险承保亏损榜出炉家.txt   \n",
       "3      0   车险承保亏损榜第名国任财险连亏两年去.txt   \n",
       "4      0      去年保费缩两成退保超亿富德生命.txt   \n",
       "\n",
       "                                             content  \n",
       "0  股份被转股东却不知情 原保监会审查批复遭质疑大股东私自转让公司所有股权后，故意违法被工商部门...  \n",
       "1  产寿险分裂七大阵营：一季度72家险企亏损2017年，35家险企亏损过亿的消息尚未远去。201...  \n",
       "2  2017年险企车险承保亏损榜出炉：49家共亏62亿 安盛天平成“亏损王”财险公司2017年“...  \n",
       "3  车险承保亏损榜第2名 国任财险连亏两年去年净利-2.7亿每经记者 胡 杨 每经编辑 王可然国...  \n",
       "4  去年保费缩两成、退保超700亿，富德生命人寿一季度亏损延续专为<font color=\"#F...  "
      ]
     },
     "execution_count": 40,
     "metadata": {},
     "output_type": "execute_result"
    }
   ],
   "source": [
    "cir_data_raw_1 = pd.DataFrame()\n",
    "for file_name in file_list_1:\n",
    "    currentPath  = 'data/{0}/{1}'.format(forder, file_name)\n",
    "    excel = xlrd.open_workbook(currentPath)\n",
    "    sheet_names = [sheet.name for sheet in excel.sheets()]\n",
    "    for sheet_name in sheet_names:    \n",
    "        tmp_data = pd.read_excel(currentPath, sheet_name)\n",
    "#         tmp_data = tmp_data[tmp_data['R_W'] == 'Right']\n",
    "        print('去空值前： ', tmp_data.shape, file_name, sheet_name)\n",
    "#         tmp_data = tmp_data[tmp_data['备注'] != '删除']\n",
    "#         tmp_data = tmp_data.dropna(subset = ['raw_title'], axis = 0)\n",
    "        print('去空值后： ', tmp_data.shape, file_name, sheet_name)\n",
    "        cir_data_raw_1 = pd.concat([cir_data_raw_1, tmp_data], axis = 0)\n",
    "\n",
    "# cir_data_raw_1['label'] = cir_data_raw_1['label'].apply(lambda x:x.strip())    \n",
    "cir_data_raw_1 = cir_data_raw_1[['label', 'title', 'content']]\n",
    "# cir_data_raw_1.columns = ['label', 'title', 'content']\n",
    "print('总数：', cir_data_raw_1.shape)\n",
    "cir_data_raw_1.head()"
   ]
  },
  {
   "cell_type": "markdown",
   "metadata": {},
   "source": [
    "## 正面数据"
   ]
  },
  {
   "cell_type": "code",
   "execution_count": 28,
   "metadata": {
    "ExecuteTime": {
     "end_time": "2018-09-05T09:20:07.219896Z",
     "start_time": "2018-09-05T09:20:06.550858Z"
    },
    "collapsed": true
   },
   "outputs": [],
   "source": []
  },
  {
   "cell_type": "code",
   "execution_count": 15,
   "metadata": {
    "ExecuteTime": {
     "end_time": "2018-09-05T09:08:41.598681Z",
     "start_time": "2018-09-05T09:08:41.296664Z"
    },
    "collapsed": true
   },
   "outputs": [],
   "source": []
  },
  {
   "cell_type": "code",
   "execution_count": 27,
   "metadata": {
    "ExecuteTime": {
     "end_time": "2018-09-05T09:20:04.778756Z",
     "start_time": "2018-09-05T09:20:04.263727Z"
    },
    "collapsed": true
   },
   "outputs": [],
   "source": []
  },
  {
   "cell_type": "code",
   "execution_count": 17,
   "metadata": {
    "ExecuteTime": {
     "end_time": "2018-09-05T09:10:12.470878Z",
     "start_time": "2018-09-05T09:10:11.917847Z"
    },
    "collapsed": true
   },
   "outputs": [],
   "source": []
  },
  {
   "cell_type": "markdown",
   "metadata": {},
   "source": [
    "# 预处理"
   ]
  },
  {
   "cell_type": "code",
   "execution_count": null,
   "metadata": {
    "collapsed": true
   },
   "outputs": [],
   "source": []
  },
  {
   "cell_type": "code",
   "execution_count": null,
   "metadata": {
    "collapsed": true
   },
   "outputs": [],
   "source": []
  }
 ],
 "metadata": {
  "kernelspec": {
   "display_name": "Python 3",
   "language": "python",
   "name": "python3"
  },
  "language_info": {
   "codemirror_mode": {
    "name": "ipython",
    "version": 3
   },
   "file_extension": ".py",
   "mimetype": "text/x-python",
   "name": "python",
   "nbconvert_exporter": "python",
   "pygments_lexer": "ipython3",
   "version": "3.6.3"
  },
  "toc": {
   "nav_menu": {},
   "number_sections": true,
   "sideBar": true,
   "skip_h1_title": false,
   "title_cell": "Table of Contents",
   "title_sidebar": "Contents",
   "toc_cell": false,
   "toc_position": {},
   "toc_section_display": true,
   "toc_window_display": true
  },
  "varInspector": {
   "cols": {
    "lenName": 16,
    "lenType": 16,
    "lenVar": 40
   },
   "kernels_config": {
    "python": {
     "delete_cmd_postfix": "",
     "delete_cmd_prefix": "del ",
     "library": "var_list.py",
     "varRefreshCmd": "print(var_dic_list())"
    },
    "r": {
     "delete_cmd_postfix": ") ",
     "delete_cmd_prefix": "rm(",
     "library": "var_list.r",
     "varRefreshCmd": "cat(var_dic_list()) "
    }
   },
   "types_to_exclude": [
    "module",
    "function",
    "builtin_function_or_method",
    "instance",
    "_Feature"
   ],
   "window_display": false
  }
 },
 "nbformat": 4,
 "nbformat_minor": 2
}
