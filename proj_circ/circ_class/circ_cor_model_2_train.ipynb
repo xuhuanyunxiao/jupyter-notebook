{
 "cells": [
  {
   "cell_type": "markdown",
   "metadata": {},
   "source": [
    "- 保监会 分类模型 2 训练 "
   ]
  },
  {
   "cell_type": "markdown",
   "metadata": {},
   "source": [
    "# 基本设置"
   ]
  },
  {
   "cell_type": "code",
   "execution_count": 1,
   "metadata": {
    "ExecuteTime": {
     "end_time": "2018-09-06T08:38:21.145937Z",
     "start_time": "2018-09-06T08:38:08.373206Z"
    },
    "collapsed": true
   },
   "outputs": [],
   "source": [
    "##load packages, needed\n",
    "# encoding=utf-8\n",
    "\n",
    "import jieba\n",
    "import sys\n",
    "import re\n",
    "import time\n",
    "import string\n",
    "from sklearn import feature_extraction\n",
    "from sklearn.pipeline import Pipeline,FeatureUnion\n",
    "\n",
    "from sklearn.feature_extraction.text import TfidfTransformer\n",
    "from sklearn.feature_extraction.text import CountVectorizer\n",
    "\n",
    "from sklearn.feature_extraction.text import TfidfVectorizer\n",
    "from sklearn.feature_selection import SelectKBest, chi2,mutual_info_classif,f_classif \n",
    "\n",
    "import xgboost as xgb\n",
    "from xgboost import XGBClassifier\n",
    "from sklearn import metrics\n",
    "\n",
    "from sklearn.base import BaseEstimator, TransformerMixin\n",
    "from collections import defaultdict\n",
    "\n",
    "import pickle\n",
    "\n",
    "import joblib\n",
    "%matplotlib inline\n",
    "import numpy as np\n",
    "import pandas as pd\n",
    "import pre_cor\n",
    "import os\n",
    "from sklearn.model_selection import train_test_split\n",
    "from sqlalchemy import create_engine\n",
    "from pandas.io import sql\n",
    "from collections import Counter\n",
    "\n",
    "import warnings\n",
    "warnings.filterwarnings('ignore')"
   ]
  },
  {
   "cell_type": "code",
   "execution_count": 2,
   "metadata": {
    "ExecuteTime": {
     "end_time": "2018-09-06T08:38:21.196939Z",
     "start_time": "2018-09-06T08:38:21.147937Z"
    },
    "collapsed": true
   },
   "outputs": [],
   "source": [
    "class StatsFeatures(BaseEstimator, TransformerMixin):\n",
    "    \n",
    "    def __init__(self):\n",
    "        self.neg = set()\n",
    "        f = open(\"corpus/neg_words.txt\",\"r+\", encoding='UTF-8')\n",
    "        for content in f:\n",
    "            self.neg.add(content)\n",
    "        f.close()\n",
    "\n",
    "    def fit(self, X, y=None):\n",
    "        return self\n",
    "\n",
    "    def getcnt(self,x):        \n",
    "        return len(list(set(x)))\n",
    "\n",
    "    def getnegcnt(self,x):\n",
    "        negcnt = 0\n",
    "        words = x.split()\n",
    "        for w in words:\n",
    "            if w in self.neg:\n",
    "                negcnt = negcnt+1\n",
    "        return negcnt\n",
    "    \n",
    "    def transform(self, X):\n",
    "        data = []\n",
    "        for x in X:\n",
    "            if len(x) == 0:\n",
    "                length  = 1\n",
    "            else :\n",
    "                length = len(x)\n",
    "            data.append([len(x),self.getcnt(x),self.getcnt(x)/length,\n",
    "                         self.getnegcnt(x),self.getnegcnt(x)/length])            \n",
    "        return data"
   ]
  },
  {
   "cell_type": "code",
   "execution_count": 16,
   "metadata": {
    "ExecuteTime": {
     "end_time": "2018-09-06T09:06:12.493532Z",
     "start_time": "2018-09-06T09:06:12.490532Z"
    },
    "collapsed": true
   },
   "outputs": [],
   "source": []
  },
  {
   "cell_type": "markdown",
   "metadata": {},
   "source": [
    "## 上一版模型读入"
   ]
  },
  {
   "cell_type": "code",
   "execution_count": 3,
   "metadata": {
    "ExecuteTime": {
     "end_time": "2018-09-06T08:38:21.380950Z",
     "start_time": "2018-09-06T08:38:21.201940Z"
    },
    "collapsed": true
   },
   "outputs": [],
   "source": [
    "# 上一版模型\n",
    "# from sklearn.externals import joblib\n",
    "# pipeline_old = joblib.load( \"model/circ_cor_0625.pkl.z\") "
   ]
  },
  {
   "cell_type": "markdown",
   "metadata": {},
   "source": [
    "# 导入数据"
   ]
  },
  {
   "cell_type": "code",
   "execution_count": 4,
   "metadata": {
    "ExecuteTime": {
     "end_time": "2018-09-06T08:38:21.514958Z",
     "start_time": "2018-09-06T08:38:21.383950Z"
    }
   },
   "outputs": [
    {
     "name": "stdout",
     "output_type": "stream",
     "text": [
      "7511\n"
     ]
    }
   ],
   "source": [
    "title = []\n",
    "filename = 'data/titles.txt'\n",
    "fid = open(filename, \"r+\", encoding='UTF-8')\n",
    "for f in fid:\n",
    "    title.append(f.strip().replace('\\n', ''))\n",
    "fid.close()\n",
    "print(len(title))"
   ]
  },
  {
   "cell_type": "code",
   "execution_count": 5,
   "metadata": {
    "ExecuteTime": {
     "end_time": "2018-09-06T08:38:22.058989Z",
     "start_time": "2018-09-06T08:38:21.599963Z"
    }
   },
   "outputs": [
    {
     "name": "stdout",
     "output_type": "stream",
     "text": [
      "7511\n"
     ]
    }
   ],
   "source": [
    "content = []\n",
    "filename = 'data/contents.txt'\n",
    "fid = open(filename, \"r+\", encoding='UTF-8')\n",
    "for f in fid:\n",
    "    content.append(f.strip().replace('\\n', ''))\n",
    "fid.close()\n",
    "print(len(content))\n",
    "# content[:2]"
   ]
  },
  {
   "cell_type": "code",
   "execution_count": 6,
   "metadata": {
    "ExecuteTime": {
     "end_time": "2018-09-06T08:38:22.110992Z",
     "start_time": "2018-09-06T08:38:22.063989Z"
    }
   },
   "outputs": [
    {
     "name": "stdout",
     "output_type": "stream",
     "text": [
      "7511\n"
     ]
    }
   ],
   "source": [
    "title_content = [t + ' ' + c for t,c in zip(title, content)]\n",
    "print(len(title_content))"
   ]
  },
  {
   "cell_type": "code",
   "execution_count": 13,
   "metadata": {
    "ExecuteTime": {
     "end_time": "2018-09-06T08:45:09.176275Z",
     "start_time": "2018-09-06T08:45:09.170274Z"
    },
    "collapsed": true
   },
   "outputs": [],
   "source": [
    "# del generate_keywords\n",
    "from toolkits.nlp import generate_keywords"
   ]
  },
  {
   "cell_type": "code",
   "execution_count": 10,
   "metadata": {
    "ExecuteTime": {
     "end_time": "2018-09-06T08:39:44.234689Z",
     "start_time": "2018-09-06T08:38:51.257659Z"
    }
   },
   "outputs": [
    {
     "name": "stdout",
     "output_type": "stream",
     "text": [
      "['保险', '公司', '保险公司', '产品', '进行', '业务', '投资', '分公司', '监管', '销售']\n",
      "keywords num:  200\n"
     ]
    },
    {
     "data": {
      "text/plain": [
       "['保险',\n",
       " '公司',\n",
       " '保险公司',\n",
       " '产品',\n",
       " '进行',\n",
       " '业务',\n",
       " '投资',\n",
       " '分公司',\n",
       " '监管',\n",
       " '销售',\n",
       " '服务',\n",
       " '风险',\n",
       " '机构',\n",
       " '相关',\n",
       " '中国',\n",
       " '管理',\n",
       " '图片',\n",
       " '批复',\n",
       " '工作',\n",
       " '保障',\n",
       " '规定',\n",
       " '市场',\n",
       " '决定',\n",
       " '客户',\n",
       " '有限公司',\n",
       " '保费',\n",
       " '问题',\n",
       " '资格',\n",
       " '任职',\n",
       " '支公司',\n",
       " '发展',\n",
       " '企业',\n",
       " '消费者',\n",
       " '保单',\n",
       " '理赔',\n",
       " '要求',\n",
       " '罚款',\n",
       " '投保',\n",
       " '处罚',\n",
       " '经营',\n",
       " '购买',\n",
       " '行业',\n",
       " '行为',\n",
       " '应当',\n",
       " '人员',\n",
       " '提供',\n",
       " '资金',\n",
       " '作出',\n",
       " '之日起',\n",
       " '金融',\n",
       " '行政处罚',\n",
       " '开展',\n",
       " '寿险',\n",
       " '经济',\n",
       " '计划',\n",
       " '董事',\n",
       " '任命',\n",
       " '核准',\n",
       " '信息',\n",
       " '中心',\n",
       " '股权',\n",
       " '收到',\n",
       " '通知',\n",
       " '保险业',\n",
       " '设立',\n",
       " '数据',\n",
       " '投保人',\n",
       " '银行',\n",
       " '车险',\n",
       " '方式',\n",
       " '公告',\n",
       " '活动',\n",
       " '监事',\n",
       " '责任',\n",
       " '股份',\n",
       " '情况',\n",
       " '请示',\n",
       " '资产',\n",
       " '需要',\n",
       " '保险产品',\n",
       " '保险资金',\n",
       " '项目',\n",
       " '时间',\n",
       " '当事人',\n",
       " '决定书',\n",
       " '基金',\n",
       " '保险代理',\n",
       " '保险法',\n",
       " '营业',\n",
       " '代理',\n",
       " '医疗保险',\n",
       " '办理',\n",
       " '医疗',\n",
       " '依法',\n",
       " '申请',\n",
       " '网站',\n",
       " '内容',\n",
       " '平台',\n",
       " '保险业务',\n",
       " '人身保险',\n",
       " '专业',\n",
       " '没有',\n",
       " '费用',\n",
       " '价值',\n",
       " '资料',\n",
       " '增长',\n",
       " '发生',\n",
       " '负责人',\n",
       " '社会',\n",
       " '方面',\n",
       " '可能',\n",
       " '股东',\n",
       " '变更',\n",
       " '乱象',\n",
       " '电话',\n",
       " '收益',\n",
       " '集团',\n",
       " '管理人员',\n",
       " '选择',\n",
       " '营销',\n",
       " '事实',\n",
       " '实体',\n",
       " '存在',\n",
       " '利用',\n",
       " '调查',\n",
       " '科技',\n",
       " '被保险人',\n",
       " '分红',\n",
       " '地址',\n",
       " '创新',\n",
       " '是否',\n",
       " '不得',\n",
       " '文件',\n",
       " '审核',\n",
       " '保险条款',\n",
       " '总经理',\n",
       " '表示',\n",
       " '出现',\n",
       " '治理',\n",
       " '专项',\n",
       " '给予',\n",
       " '利率',\n",
       " '显示',\n",
       " '重点',\n",
       " '渠道',\n",
       " '理财',\n",
       " '变相',\n",
       " '交易',\n",
       " '收悉',\n",
       " '年度',\n",
       " '汽车',\n",
       " '扶贫',\n",
       " '赔付',\n",
       " '注册',\n",
       " '互联网',\n",
       " '调整',\n",
       " '包括',\n",
       " '部分',\n",
       " '经理',\n",
       " '成为',\n",
       " '疾病',\n",
       " '事故',\n",
       " '部门',\n",
       " '金额',\n",
       " '政府',\n",
       " '合作',\n",
       " '行动',\n",
       " '系统',\n",
       " '保险费率',\n",
       " '大家',\n",
       " '上海',\n",
       " '赔偿',\n",
       " '个人',\n",
       " '符合',\n",
       " '管理机构',\n",
       " '财富',\n",
       " '个股',\n",
       " '车辆',\n",
       " '板块',\n",
       " '政策',\n",
       " '组织',\n",
       " '单位',\n",
       " '发布',\n",
       " '香港',\n",
       " '退保',\n",
       " '提升',\n",
       " '时任',\n",
       " '医院',\n",
       " '证券',\n",
       " '整治',\n",
       " '大风',\n",
       " '消费',\n",
       " '继续',\n",
       " '提示',\n",
       " '保险合同',\n",
       " '使用',\n",
       " '解决',\n",
       " '观点',\n",
       " '现场',\n",
       " '实现']"
      ]
     },
     "execution_count": 10,
     "metadata": {},
     "output_type": "execute_result"
    }
   ],
   "source": [
    "g_k = generate_keywords.generate_keywords(topk = 200)\n",
    "g_k.gen_keywords(title_content[:2000])\n",
    "# g_k.gen_keywords_by_class(title_content, label, topK=20, v_thre=5)\n"
   ]
  },
  {
   "cell_type": "code",
   "execution_count": 14,
   "metadata": {
    "ExecuteTime": {
     "end_time": "2018-09-06T08:45:14.312568Z",
     "start_time": "2018-09-06T08:45:14.305568Z"
    },
    "collapsed": true
   },
   "outputs": [],
   "source": [
    "g_k.save_txt('keywords_i.txt')"
   ]
  },
  {
   "cell_type": "code",
   "execution_count": 17,
   "metadata": {
    "ExecuteTime": {
     "end_time": "2018-09-06T07:47:34.593684Z",
     "start_time": "2018-09-06T07:46:11.069906Z"
    }
   },
   "outputs": [
    {
     "name": "stdout",
     "output_type": "stream",
     "text": [
      "['产品销售' '公司内部管理' '其他相关报道' '噪音' '消费服务' '监管' '行业' '资本市场']\n",
      "依据类别生成关键词：\n",
      "['价值', '停售', '支行', '打折', '资产', '车辆', '癌症', '需求', '业务', '总额']\n",
      "keywords num:  419\n",
      "类别：产品销售 -- 文本个数：253，label个数:253，取词个数：419\n",
      "['成都', '扬州', '价值', '总裁', '支行', '电销', '意识', '资产', '联想', '公网']\n",
      "keywords num:  524\n",
      "类别：公司内部管理 -- 文本个数：417，label个数:417，取词个数：524\n",
      "['价值', '区长', '支行', '透过', '本站', '带领', '文章', '种植', '爱心', '身材']\n",
      "keywords num:  529\n",
      "类别：其他相关报道 -- 文本个数：426，label个数:426，取词个数：529\n",
      "['养殖', '价值', '晋中市', '熟手', '基点', '制造', '空间', '座谈会', '意识', '资产']\n",
      "keywords num:  1242\n",
      "类别：噪音 -- 文本个数：665，label个数:665，取词个数：1242\n",
      "['养殖', '当事人', '人员', '经营', '价值', '年缴', '定损', '理赔金', '我司', '湖南']\n",
      "keywords num:  292\n",
      "类别：消费服务 -- 文本个数：156，label个数:156，取词个数：292\n",
      "['扬州', '价值', '制造', '口径', '延误', '资产', '董事会', '文章', '保险代理', '中间业务']\n",
      "keywords num:  538\n",
      "类别：监管 -- 文本个数：644，label个数:644，取词个数：538\n",
      "['备案', '养殖', '经营', '价值', '人员', '壽險', '股权', '贸易', '外贸', '提供']\n",
      "keywords num:  297\n",
      "类别：行业 -- 文本个数：140，label个数:140，取词个数：297\n",
      "['有变', '价值', '受访', '资产', '拉升', '选股', '反弹', '保险代理', '乐视', '整理']\n",
      "keywords num:  465\n",
      "类别：资本市场 -- 文本个数：299，label个数:299，取词个数：465\n",
      "去除词（key_count_list）个数： 809\n",
      "词典词（key_dict）个数： 2476\n",
      "前后对比：去除超过阈值的词\n",
      "类别：产品销售 -- 去除前：419， 去除后：133\n",
      "类别：公司内部管理 -- 去除前：524， 去除后：186\n",
      "类别：其他相关报道 -- 去除前：529， 去除后：269\n",
      "类别：噪音 -- 去除前：1242， 去除后：694\n",
      "类别：消费服务 -- 去除前：292， 去除后：122\n",
      "类别：监管 -- 去除前：538， 去除后：189\n",
      "类别：行业 -- 去除前：297， 去除后：84\n",
      "类别：资本市场 -- 去除前：465， 去除后：259\n",
      "['晋中市', '透过', '座谈会', '延误', '优化', '董事会', '联想', '拟任', '选股', '校园']\n",
      "len(keywords):  1667\n"
     ]
    }
   ],
   "source": [
    "g_k.gen_keywords_by_class(title_content[:3000], label[:3000], v_thre=3)"
   ]
  },
  {
   "cell_type": "code",
   "execution_count": 18,
   "metadata": {
    "ExecuteTime": {
     "end_time": "2018-09-06T07:47:49.684547Z",
     "start_time": "2018-09-06T07:47:49.670546Z"
    }
   },
   "outputs": [
    {
     "name": "stdout",
     "output_type": "stream",
     "text": [
      "['晋中市', '透过', '座谈会', '延误', '优化', '董事会', '联想', '拟任', '选股', '校园', '乐视', '需求', '表达', '折价', '不计', '接力', '蚯蚓', '意外事故', '排行', '增幅', '矿业', '抽查', '活跃', '情系', '帖子', '加大', '禁止', '包含', '成都市', '强制保险', '贵州', '电子', '局长', '提交', '中宏', '西安', '低估', '大额', '头版', '职业病', '电缆', '社会化', '保通', '黔南', '标的', '负担', '雅砻江', '不用', '民宿', '车网', '车损险', '遭遇', '监测', '经历', '关系', '受托', '远海', '自查', '放心', '河北省', '身体', '负责', '理性', '上行', '厂里', '金牌榜', '动车', '看看', '香氛', '标段', '章程', '保险费用', '贫困人口', '首例', '登陆', '撤诉', '继承人', '视为', '自燃', '华夏', '志愿', '遇上', '糖尿病', '信用卡', '低息', '循化', '抚养人', '商旅', '倒闭', '填写', '新能源', '保險', '原油', '责任编辑', '盘面', '地产股', '天标', '白对虾', '消防', '同事', '主管', '安徽', '版图', '芙蓉', '沪深股市', '犯愁', '党员干部', '兴安盟', '车界', '信访', '意外保险', '拆完', '下降', '实施办法', '空调', '尿素', '访问', '获得者', '最佳答案', '回报', '学员', '全流通', '责令', '乘客', '善款', '质询', '出门', '不想', '干支', '保單', '模拟', '公共关系', '前提', '观察期', '协商', '白血病', '混合', '合约', '专员办', '抓住', '外汇', '损失', '灾情', '净流入', '唐山市', '客戶', '灌南', '行政许可', '武川县', '盘升', '净资产', '并购', '获奖', '待遇', '反洗钱法', '金融界', '妻子', '潮头', '华北', '职责', '强者', '家属', '外出', '不具', '认购', '海口市', '呼叫', '无需', '增员', '薪资', '中科', '保人', '世界', '证券时报', '关节', '影响', '购车', '陷阱', '征求意见', '知道', '茂林', '哈尔滨', '爱人', '儿子', '昭平县', '长城', '主险', '大会', '百色', '分罚', '游资', '引导', '赡养', '志愿者', '大灾', '标准化', '环节', '处理', '膝下', '规则', '证券报', '开发', '领导', '兴宁', '年报', '涉外', '节目', '广西', '检验', '暂行办法', '连城县', '被执行人', '朝阳', '选购', '股东大会', '三棵树', '爱情', '统一', '助手', '晚会', '工作人员', '抚宁', '东莞', '格力', '车市', '保本', '先锋', '出没', '炸雷', '公估', '解析', '首席', '海城', '派发', '老人', '合众', '网络平台', '石油化工', '货币', '移民', '时代', '带来', '涌入', '全线', '雨雪', '骗人', '实际', '评审', '驻村', '位于', '安阳', '西城区', '遭罚', '承担', '尊易', '全险', '终端', '外观', '退休金', '衡水', '关键', '转增', '南宁市', '律师函', '回升', '重庆市', '主体', '警示', '全保', '三者', '供应商', '腾安', '爆发', '信息网', '登入', '快速反应', '晨报', '利用', '手续', '解禁', '回赠', '母亲', '欺诈', '台商', '维护', '道理', '作品', '常州市', '普法', '套房', '服务费', '知识产权', '开发票', '遗失', '上海东方', '建行', '行车', '进出', '大儿子', '没错', '产险', '扶持', '汉沽', '莲藕', '尾盘', '车船税', '能建', '专员', '约束', '矿山企业', '不肯', '智能', '押金', '市值', '治乱', '入围', '学会', '传承', '电子科技', '马耳峪村', '扣款', '鼎丰', '年终奖', '袭任', '受理', '跟进', '信息技术', '分期', '工程', '定存', '后者', '在编', '新闻报道', '完毕', '队伍', '广州', '官方', '病历', '喝酒', '克什克腾旗', '兴业', '高聚物', '讨论', '绿能', '自考', '滴滴', '豪车', '生病', '执业', '储备', '出租车', '内险', '就医', '高度', '钢铁', '汇总', '电商', '暴雪', '防范', '稀土', '爱车', '来访', '预警', '辽河', '模块', '中标', '强势', '出口', '人防', '对冲', '蓬溪县', '外伤', '题材', '醉酒', '出行', '真实性', '贵金属', '天气', '急送', '轻症', '市场化', '萍乡', '遇难', '共享', '降雪', '实施', '责任险', '窒息', '手续费', '协助', '骨干', '核准', '小区', '停售', '区长', '公网', '拉升', '爱心', '机制', '受灾', '治安', '中间业务', '主持', '水平', '告知', '宣告', '中资', '民事', '橡胶', '离不开', '新流', '人工智能', '一览', '肇事', '全职', '工具', '警告', '走势', '居民', '家用轿车', '決定', '机场', '信任危机', '青睐', '成型', '通城', '双方', '阿克苏', '扣分', '日本', '凭证', '武汉市', '表彰大会', '纳税', '文化', '运营', '黑色', '震荡', '运通', '现代科技', '洗钱', '全国性', '资质证书', '潜江市', '老将', '增至', '兄弟', '肯定', '收条', '投资收益', '文字', '注销', '摘要', '写字楼', '造成', '棉花', '发稿', '过户', '事物', '安装', '窝轮', '江南', '绿色', '预估', '探索', '副经理', '分配', '规管', '治疗', '截止', '总资产', '想要', '停车', '完善', '区别', '上车', '手臂', '骗保', '得到', '青海', '感人', '违章', '遗产税', '浮动', '投行', '保险人', '阜阳', '下跌', '成果', '专业性', '配网', '缴费', '南山人寿', '煤矿', '旺季', '净利润', '存单', '决定书', '主板', '净额', '供销社', '猪价', '拨付', '郫县', '财经频道', '关键点', '蛋鸡', '直播室', '纳入', '基层', '树险', '大雪', '尾号', '聘任', '推出', '存款', '传媒', '地域', '叉车', '排查', '评估', '银邮', '批准', '支出', '悬崖', '回访', '后续', '遂川', '中止', '西双版纳州', '苏州工业园区', '参与', '云南省', '亲子', '运用', '篮球', '涨幅', '清退', '潍坊', '编制', '板材', '羡慕', '报免', '东吴', '筹建', '广州市', '宝鸡市', '无忧', '黄丹', '交通', '套餐', '扣掉', '潘定国', '澄海', '科创', '佛山', '可能性', '华区', '领涨', '传递', '劳务', '养老险', '底薪', '全民', '展望', '清扫', '研究室', '行业协会', '招聘广告', '买卖', '能够', '答案', '小蜜', '建仓', '目录', '洋河', '地产', '注意事项', '波动', '限号', '冶炼', '转战', '块钱', '小孩子', '西威', '破产', '走低', '错误', '台湾', '成交额', '残疾人', '地点', '东营', '抵扣', '招聘网', '标致', '实习', '鸡西市', '阳线', '观致', '骗取', '听听', '续期', '学者', '赣榆', '所得', '健步', '电讯', '处于', '经办', '房屋', '标题', '密码', '验证', '演讲', '看好', '财产保险', '投票', '签订合同', '自动', '设置', '具备', '翡翠', '个别', '委员会', '优势', '拼车', '阶段', '计生', '实债', '精算师', '汉中市', '大童', '智通', '职位', '球迷', '对应', '为准', '三门峡市', '送到', '新低', '事发', '发起', '条码', '总值', '农合', '工业', '宽限期', '华侨', '作废', '虹數', '用途', '美食', '涪陵', '点评', '台江', '公开审理', '学车', '低迷', '北分', '为民', '传播', '财商', '置业', '捐赠', '香巴拉', '工资', '营业室', '印花税', '永安', '连发', '长安', '报料', '受益', '连云港市', '电信业务', '收于', '燃气', '滁州市', '被盗', '预增', '方法', '达成', '欢迎', '比重', '从业者', '债转股', '网官', '体验', '吉林', '扶养', '收涨', '利空', '我司', '应该', '茅台酒', '弱电', '包头市', '退回', '梦想', '保险费率', '珠海', '职能', '赔还', '授权', '银行贷款', '台湾地区', '行驶证', '不可', '京东', '人事', '收入', '玻璃', '全景网', '会计师', '概念股', '二维码', '短信', '展业', '预测', '违约', '实业', '听说', '妈妈', '少女', '农民工', '回调', '公司地址', '伊吾县', '通城县', '奎屯市', '经代', '油菜', '审计', '客户经理', '笔者', '海南', '感谢', '出来', '享有', '民警', '不能', '资源', '确诊', '豁免', '时事', '流向', '管理人员', '安置', '经纪', '南京', '音乐', '图书室', '呼伦贝尔市', '颜色', '罚金', '公用', '業務', '投资人', '逃逸', '常州', '优缺点', '泸州市', '中介机构', '天使', '义坑', '隧道', '收报', '天伦', '揭秘', '诵读', '结构性', '易县', '偿付能力', '被害人', '代码', '展会', '公营', '科技产业', '青岛', '跌停', '低温', '碰撞', '名股', '严禁', '过热', '名城', '医生', '免赔', '宣布', '流动性', '设定', '电动汽车', '股通', '好看', '架构', '女人', '家数', '常袋', '太极', '轮训班', '小民', '盘点', '存钱', '电视', '排行榜', '合计', '萍乡市', '课程', '大街', '红河', '南川', '成都', '扬州', '熟手', '打折', '顺序', '带领', '解散', '劳保', '种植', '创造', '总额', '工程师', '失业', '电池', '村民', '购置税', '六盘水', '农产品', '返贫', '代销', '旅行社', '融券', '锦江', '机电设备', '医药', '分类', '枭阳村', '发证', '识别', '使得', '居首', '对话', '净量', '宏观', '暴露', '签单', '列车', '瑞金', '贫困村', '滨海新区', '体检', '建新', '全责', '酒店', '期货市场', '豆子', '交易日', '连接', '有所', '奋战', '喜欢', '场所', '零售', '简历', '建设工程', '我会', '吕梁市', '铁路', '纠纷', '抢筹', '额度', '深圳市', '农客', '眼科', '不符', '继续', '零食', '恩施', '要闻', '传真', '融合', '森林', '转型', '长春市', '异地', '收盘', '特治', '农场', '分中心', '投放', '开庭', '定制', '大夫', '合法', '建平', '安责险', '损毁', '集体', '学历', '普查', '提前', '有没有', '进出口', '盱眙', '融汇', '房子', '托管', '参与度', '民眾', '改建', '电汇', '时候', '事业部', '政务', '优质', '高新技术', '返型', '补充', '平安保险', '快递', '开发区', '新华联', '全额', '财新网', '报送', '陕西省', '农庄', '电动', '网络营销', '大豆', '委托人', '生育', '利息', '例如', '辖区', '社会主义', '内勤', '赞助商', '招标人', '合资', '关联方', '数位', '机器', '聊城', '在职', '企稳', '另类', '公示', '酿酒', '债务', '盈喜', '杠杆', '信用', '被告', '电动车', '强化', '蔬菜', '濮阳', '保定', '期权', '赠送', '男人', '安行', '公司章程', '国乐', '长岭', '商标', '官方网站', '不会', '应聘', '品牌价值', '乌海', '宁国', '安庆', '银行间', '说明', '准确性', '法律', '全体', '猜想', '精英', '收悉', '合算', '软件', '毕业', '城镇职工', '正阳', '持有人', '核保', '红原县', '业内人士', '女儿', '法官', '诊疗', '关节炎', '回馈', '水滴', '利益', '桦川县', '补助', '中安', '经理', '绵阳', '统筹', '实行', '低保', '雷州', '支柱', '南明区', '行政', '建筑', '不到', '指引', '航班', '肠胃', '清算', '热点', '外贸', '估损', '湖南', '新西兰', '贵阳市', '玫瑰', '旅居', '乌鲁木齐市', '证明', '給付', '红岛', '科学化', '扩大', '溢价', '热线', '获利', '截至', '年均收入', '小麦', '体育比赛', '金融业务', '同增', '停运', '传统', '人才网', '经典', '牡丹江', '管理中心', '属性', '二手房', '运动员', '帮扶', '奔驰', '丽江', '芜湖', '监管部', '限行', '场景', '伙伴', '邮件', '零售价', '缺货', '开走', '欧洲', '干吗', '勐腊县', '大盘', '群众', '表现', '分散', '界面', '商业保险', '岗位', '变现', '朝鲜', '通解', '倒挂', '版面', '苏州', '免费', '零售店', '求偿', '谨防', '财政', '新高', '扣留', '高利', '书包', '介绍', '收费', '管家', '儿女', '概念', '救助', '受损', '涉案', '盐山', '直付', '增强', '频道', '吃药', '加费', '阿美', '诉讼', '路北区', '事项', '都昌县', '名字', '财宝', '丈夫', '工人', '贴现', '颁发', '经济网', '股指', '汽车保险', '了解', '港币', '交费', '设施', '金汇', '替代性', '举牌', '宜黄', '创业板', '电单车', '限额', '保戶', '妨碍', '表决', '霸道', '补偿', '行使', '銀行', '走高', '抱歉', '壽險', '九江', '生殖', '关爱', '河北', '德阳', '属于', '机动车辆', '采掘业', '政融', '反复', '甘肃省', '库存', '遭受', '享家', '行人', '菏泽', '逼近', '雨刮器', '电子商务', '灾害', '件数', '资助', '温州', '包头', '条件', '工作队', '电子政务', '经深', '审议', '编码', '水泥', '中领', '磋商', '兑换', '提出', '检疫', '陆金', '添加', '红河州', '捐助', '试点工作', '宁波市', '华人', '篡改', '钱包', '亚洲', '悬赏', '谈判', '甲状腺癌', '竞争性', '泰山', '亚欧', '涉嫌', '倒班', '游戏', '睢宁县', '创业', '交叉', '条例', '五原', '歹徒', '出租', '商报', '扩散', '物流', '农民', '外幣', '导航', '高血压', '女子', '常驻', '行驶', '楼主', '门店', '花城', '收展员', '驾驶', '披露', '就业', '下滑', '有望', '抚慰金', '启动', '档案', '病逝', '清盘', '牛股', '达到', '上调', '必读', '特点', '收到', '从业', '误工费', '总结', '家用电器', '黑江', '尊荣', '有变', '总裁', '电销', '意识', '编号', '找上门', '专家', '身材', '反弹', '立案', '整理', '代位', '彩路', '私隐', '聚源', '甘孜', '出去', '刷卡', '老师', '广告', '大姐', '后果', '挖掘', '佣金', '医疗保障', '外资', '奖项', '临床', '返回', '品种', '查看', '城阳', '留守', '考勤表', '流入', '落地', '冠军', '宁夏', '副董事长', '投标人', '江西', '宿州', '金股', '南城', '朋友', '业务范围', '全球', '公益', '结合', '巴林右旗', '对比', '消息人士', '伪造', '福建省', '额外开支', '专利', '交通事故', '烟草', '权力', '主线', '对象', '原告', '名单', '之日起', '竞技', '有色金属', '日喀则', '湛江市', '职务', '惠州', '基础', '垫付', '交时', '保价', '尿酸', '伤者', '工银', '开关', '董事长', '嫌疑人', '意义', '用款', '避税', '茶叶', '小时', '保全', '专项资金', '争议', '个股', '养子', '驾驶员', '新股', '形成', '分红险', '乳腺', '分布式', '来自', '人兽', '不见', '妇女', '提问', '城乡居民', '调解', '营销员', '无锡', '陕西', '救治', '反向', '页面', '助力', '应用', '中层', '急救站', '通辽市', '光强', '陪伴', '容城县', '意见', '新车', '贸易', '飞行', '济宁', '次数', '慢性病', '登记', '保险经纪', '兼业', '芦笋', '盐池县', '国际', '报价表', '退旧', '减持', '高额', '达州', '个人资料', '在于', '演唱会', '反洗钱', '变动', '罚单', '流动', '药物', '笔记本', '律师', '烟台市', '领域', '气候', '解除', '预算', '出售', '出色', '共计', '爆光', '住房', '街道', '沈阳', '股交', '工作岗位', '功用', '义务', '扩编', '算不算', '房东', '基金会', '时系', '全省', '永助', '离销', '住所', '综合性', '出错', '整体', '云南', '定价', '报收', '担任', '单车', '年薪', '收藏', '澳大利亚', '复制', '公开市场', '名片', '职场', '造好', '专业化', '江苏', '河南省', '债券市场', '控股公司', '过失', '法商', '智研', '索赔', '美丽', '计算机', '流感', '步入', '服务部', '评标', '厂房', '传感器', '大单', '参赛', '车牌', '注意', '比赛', '代言', '使用', '武都', '策略', '中央空调', '娱乐', '体育', '太平洋', '继承', '储蓄', '旅客', '赔案', '即墨', '威海', '折腾', '小孩', '首选', '打击', '分局', '应当', '动能', '游客', '加密', '大连市', '信贷', '预知', '打响', '高见', '世纪', '代收', '富平县', '收支', '化妆品', '身份证', '拒赔', '上证指数', '增值', '应答', '伊宁市', '投顾', '教育', '犯罪', '事情', '首信', '使用税', '财产险', '撤保', '学校', '流出', '农担', '次新股', '询价', '撮合', '南美', '连阳', '友邦保险', '新周刊', '青年干部', '区块', '人数', '返现', '环卫工人', '任命', '江西省', '借款人', '安备', '沧州', '痛风', '老区', '赔偿款', '永康市', '负债', '瑞峰', '宿迁市', '濮阳市', '金融风险', '股神', '穿透', '人壽', '两江', '缴款', '面试', '儿童', '对方', '交纳', '物资', '产能', '卖出', '旅行', '走强', '违法', '跨境', '滨州', '依法', '期限', '淮南', '监管部门', '起付', '录得', '身亡', '团体', '汉台', '片尾曲', '征收', '户口', '北鏈', '淳安县', '虚开', '适合', '分为', '延安', '和林格尔县', '外界', '入围奖', '参加', '太安', '老客户', '专属', '预告', '五粮液', '车祸', '统计', '技能', '父親', '复印件', '收购', '现价', '天津市', '连涨', '雅砻', '字样', '辽宁', '理赔金', '加强', '鼻子', '数字', '搜榜', '评价', '支撑', '证券网', '保险期限', '头条', '移为', '获批', '呼和浩特', '百行', '开业', '认可', '厦门', '消息', '斧子', '内江市', '拓展', '医疗卫生', '法治', '车窗', '农垦', '对接', '站稳', '职业', '上浮', '批复', '形势', '车型', '增持', '网警', '展示', '作出', '人次', '迎来', '人身险', '提额', '被告人', '爆款', '责任人', '石油', '成交', '发发', '体系', '涨停', '学徒', '撤离', '改造', '精品', '应对', '绵长', '论坛', '鄂州市', '进入', '机会', '两河口', '寿县', '验证码', '原则', '连版', '特征', '机器人', '成跃', '行程', '声明', '走进', '质押', '说话', '中瑞', '时效', '江汉区', '保利', '营业', '防控', '花瓶', '屏山县', '速递', '中央', '勇于', '住宿', '男性', '官鬼', '天海', '标识码', '均线', '退还', '没法', '安海', '分支机构', '节省']\n"
     ]
    }
   ],
   "source": [
    "print(g_k.keywords)"
   ]
  },
  {
   "cell_type": "code",
   "execution_count": 8,
   "metadata": {
    "ExecuteTime": {
     "end_time": "2018-09-06T07:42:24.624955Z",
     "start_time": "2018-09-06T07:42:24.610954Z"
    }
   },
   "outputs": [
    {
     "data": {
      "text/plain": [
       "{1: '监管',\n",
       " 2: '行业',\n",
       " 3: '产品销售',\n",
       " 4: '资本市场',\n",
       " 5: '公司内部管理',\n",
       " 6: '消费服务',\n",
       " 7: '其他相关报道',\n",
       " 8: '噪音'}"
      ]
     },
     "execution_count": 8,
     "metadata": {},
     "output_type": "execute_result"
    }
   ],
   "source": [
    "label_dic={'监管':1,'行业':2,'产品销售':3,'资本市场':4,'公司内部管理':5,'消费服务':6,'其他相关报道':7,'噪音':8}\n",
    "class_name_dict = {v: k for k, v in label_dic.items()}\n",
    "class_name_dict"
   ]
  },
  {
   "cell_type": "code",
   "execution_count": 8,
   "metadata": {
    "ExecuteTime": {
     "end_time": "2018-09-06T08:38:29.101392Z",
     "start_time": "2018-09-06T08:38:29.070390Z"
    }
   },
   "outputs": [
    {
     "name": "stdout",
     "output_type": "stream",
     "text": [
      "7511\n"
     ]
    },
    {
     "data": {
      "text/plain": [
       "['噪音',\n",
       " '噪音',\n",
       " '产品销售',\n",
       " '噪音',\n",
       " '消费服务',\n",
       " '噪音',\n",
       " '噪音',\n",
       " '资本市场',\n",
       " '监管',\n",
       " '公司内部管理',\n",
       " '资本市场',\n",
       " '其他相关报道',\n",
       " '噪音',\n",
       " '噪音',\n",
       " '噪音',\n",
       " '噪音',\n",
       " '消费服务',\n",
       " '噪音',\n",
       " '噪音',\n",
       " '资本市场',\n",
       " '监管',\n",
       " '监管',\n",
       " '行业',\n",
       " '行业',\n",
       " '噪音',\n",
       " '噪音',\n",
       " '噪音',\n",
       " '噪音',\n",
       " '公司内部管理',\n",
       " '产品销售']"
      ]
     },
     "execution_count": 8,
     "metadata": {},
     "output_type": "execute_result"
    }
   ],
   "source": [
    "label = []\n",
    "filename = 'data/labels.txt'\n",
    "fid = open(filename, \"r+\", encoding='UTF-8')\n",
    "for f in fid:\n",
    "    label.append(f.strip().replace('\\n', ''))\n",
    "fid.close()\n",
    "print(len(label))\n",
    "label[:30]"
   ]
  },
  {
   "cell_type": "markdown",
   "metadata": {},
   "source": [
    "# 训练模型"
   ]
  },
  {
   "cell_type": "markdown",
   "metadata": {},
   "source": [
    "## 分割训练集、测试集"
   ]
  },
  {
   "cell_type": "code",
   "execution_count": 12,
   "metadata": {
    "ExecuteTime": {
     "end_time": "2018-09-06T06:34:54.741314Z",
     "start_time": "2018-09-06T06:34:54.723313Z"
    }
   },
   "outputs": [
    {
     "name": "stdout",
     "output_type": "stream",
     "text": [
      "训练集： 5257\n",
      "训练集-各类数量： Counter({'噪音': 2376, '监管': 1034, '其他相关报道': 472, '公司内部管理': 399, '资本市场': 329, '产品销售': 231, '行业': 218, '消费服务': 198})\n",
      "测试集： 2254\n",
      "测试集-各类数量： Counter({'噪音': 1005, '监管': 456, '其他相关报道': 207, '公司内部管理': 181, '资本市场': 132, '行业': 100, '产品销售': 91, '消费服务': 82})\n"
     ]
    }
   ],
   "source": [
    "X_train, X_test, y_train, y_test = train_test_split(title_content, label, test_size=0.3, random_state=42)\n",
    "print('训练集：',len(y_train))\n",
    "print('训练集-各类数量：',Counter(y_train))\n",
    "print('测试集：',len(y_test))\n",
    "print('测试集-各类数量：',Counter(y_test))"
   ]
  },
  {
   "cell_type": "markdown",
   "metadata": {},
   "source": [
    "## xgboost"
   ]
  },
  {
   "cell_type": "markdown",
   "metadata": {},
   "source": [
    "### train"
   ]
  },
  {
   "cell_type": "code",
   "execution_count": null,
   "metadata": {
    "ExecuteTime": {
     "end_time": "2018-09-06T06:31:54.506006Z",
     "start_time": "2018-09-06T06:31:40.891Z"
    },
    "collapsed": true
   },
   "outputs": [],
   "source": [
    "pipeline = Pipeline([\n",
    "    ('features', FeatureUnion([\n",
    "        ('tf_idf', Pipeline([\n",
    "            ('counts', CountVectorizer()),\n",
    "            ('tf_idf', TfidfTransformer()),\n",
    "            ('chi', SelectKBest(chi2, k=20000))\n",
    "        ])),\n",
    "        ('len_stats', StatsFeatures())\n",
    "    ])),\n",
    "    ('classifier', XGBClassifier(max_depth=7,objective='multi:softmax', num_class=2))\n",
    "])"
   ]
  },
  {
   "cell_type": "code",
   "execution_count": null,
   "metadata": {
    "ExecuteTime": {
     "end_time": "2018-09-06T06:31:54.512006Z",
     "start_time": "2018-09-06T06:31:40.893Z"
    },
    "collapsed": true,
    "scrolled": true
   },
   "outputs": [],
   "source": [
    "pipeline = Pipeline([\n",
    "    ('features', FeatureUnion([\n",
    "        ('tf_idf', Pipeline([\n",
    "            ('counts', CountVectorizer()),\n",
    "            ('tf_idf', TfidfTransformer()),\n",
    "            ('chi', SelectKBest(chi2, k=20000))\n",
    "        ])),\n",
    "        ('len_stats', StatsFeatures())\n",
    "    ])),\n",
    "    ('classifier', XGBClassifier(max_depth=7,objective='multi:softmax', num_class=2))\n",
    "])\n",
    "\n",
    "pipeline.fit(X_train, y_train)"
   ]
  },
  {
   "cell_type": "code",
   "execution_count": null,
   "metadata": {
    "ExecuteTime": {
     "end_time": "2018-09-06T06:31:54.515006Z",
     "start_time": "2018-09-06T06:31:40.896Z"
    },
    "collapsed": true
   },
   "outputs": [],
   "source": [
    "print(pipeline.score(X_train, y_train))"
   ]
  },
  {
   "cell_type": "markdown",
   "metadata": {},
   "source": [
    "### test"
   ]
  },
  {
   "cell_type": "code",
   "execution_count": null,
   "metadata": {
    "ExecuteTime": {
     "end_time": "2018-09-06T06:31:54.518006Z",
     "start_time": "2018-09-06T06:31:40.899Z"
    },
    "collapsed": true
   },
   "outputs": [],
   "source": [
    "y_pred_class = pipeline.predict(X_test)\n",
    "print('accuracy_score: ', metrics.accuracy_score(y_test, y_pred_class)) # 指所有分类正确的百分比\n",
    "print(metrics.classification_report(y_test, y_pred_class))\n",
    "print('confusion_matrix: ')\n",
    "print( metrics.confusion_matrix(y_test, y_pred_class))"
   ]
  },
  {
   "cell_type": "code",
   "execution_count": null,
   "metadata": {
    "ExecuteTime": {
     "end_time": "2018-09-06T06:31:54.521006Z",
     "start_time": "2018-09-06T06:31:40.902Z"
    },
    "collapsed": true
   },
   "outputs": [],
   "source": [
    "# 上一版模型 \n",
    "y_pred_class = pipeline_old.predict(X_test)\n",
    "print('accuracy_score: ', metrics.accuracy_score(y_test, y_pred_class)) # 指所有分类正确的百分比\n",
    "print(metrics.classification_report(y_test, y_pred_class))\n",
    "print('confusion_matrix: ')\n",
    "print( metrics.confusion_matrix(y_test, y_pred_class))"
   ]
  },
  {
   "cell_type": "markdown",
   "metadata": {
    "ExecuteTime": {
     "end_time": "2018-06-13T09:51:12.095774Z",
     "start_time": "2018-06-13T09:51:11.751754Z"
    },
    "collapsed": true
   },
   "source": [
    "# 模型保存"
   ]
  },
  {
   "cell_type": "code",
   "execution_count": null,
   "metadata": {
    "ExecuteTime": {
     "end_time": "2018-09-06T06:31:54.525007Z",
     "start_time": "2018-09-06T06:31:40.905Z"
    },
    "collapsed": true
   },
   "outputs": [],
   "source": [
    "from sklearn.externals import joblib\n",
    "joblib.dump(pipeline, \"model/circ_cor_0703.pkl.z\")  "
   ]
  },
  {
   "cell_type": "markdown",
   "metadata": {},
   "source": [
    "# 保存本文件"
   ]
  },
  {
   "cell_type": "code",
   "execution_count": null,
   "metadata": {
    "ExecuteTime": {
     "end_time": "2018-09-06T06:31:54.528007Z",
     "start_time": "2018-09-06T06:31:40.909Z"
    },
    "collapsed": true
   },
   "outputs": [],
   "source": [
    "if 0:\n",
    "    import datetime as dt\n",
    "    \n",
    "    def output_HTML(read_file, output_file):\n",
    "        from nbconvert import HTMLExporter\n",
    "        import codecs\n",
    "        import nbformat\n",
    "        exporter = HTMLExporter()\n",
    "        # read_file is '.ipynb', output_file is '.html'\n",
    "        output_notebook = nbformat.read(read_file, as_version=4)\n",
    "        output, resources = exporter.from_notebook_node(output_notebook)\n",
    "        codecs.open(output_file, 'w', encoding='utf-8').write(output)\n",
    "\n",
    "    html_file_folder = 'html_files'\n",
    "    if not os.path.exists(html_file_folder):\n",
    "        os.makedirs(html_file_folder)\n",
    "\n",
    "    today = dt.datetime.now().strftime('%Y%m%d')\n",
    "    current_file = 'circ_cor_model_2_train.ipynb'\n",
    "    output_file = 'html_files\\%s_%s.html'%(os.path.splitext(current_file)[0], today)\n",
    "    output_HTML(current_file, output_file)"
   ]
  }
 ],
 "metadata": {
  "kernelspec": {
   "display_name": "Python 3",
   "language": "python",
   "name": "python3"
  },
  "language_info": {
   "codemirror_mode": {
    "name": "ipython",
    "version": 3
   },
   "file_extension": ".py",
   "mimetype": "text/x-python",
   "name": "python",
   "nbconvert_exporter": "python",
   "pygments_lexer": "ipython3",
   "version": "3.6.3"
  },
  "toc": {
   "nav_menu": {},
   "number_sections": true,
   "sideBar": true,
   "skip_h1_title": false,
   "title_cell": "Table of Contents",
   "title_sidebar": "Contents",
   "toc_cell": false,
   "toc_position": {
    "height": "calc(100% - 180px)",
    "left": "10px",
    "top": "150px",
    "width": "376px"
   },
   "toc_section_display": true,
   "toc_window_display": true
  },
  "varInspector": {
   "cols": {
    "lenName": 16,
    "lenType": 16,
    "lenVar": 40
   },
   "kernels_config": {
    "python": {
     "delete_cmd_postfix": "",
     "delete_cmd_prefix": "del ",
     "library": "var_list.py",
     "varRefreshCmd": "print(var_dic_list())"
    },
    "r": {
     "delete_cmd_postfix": ") ",
     "delete_cmd_prefix": "rm(",
     "library": "var_list.r",
     "varRefreshCmd": "cat(var_dic_list()) "
    }
   },
   "types_to_exclude": [
    "module",
    "function",
    "builtin_function_or_method",
    "instance",
    "_Feature"
   ],
   "window_display": false
  }
 },
 "nbformat": 4,
 "nbformat_minor": 2
}
