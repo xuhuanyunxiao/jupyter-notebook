{
 "cells": [
  {
   "cell_type": "markdown",
   "metadata": {},
   "source": [
    "- 保监会 八分类模型 1 预处理"
   ]
  },
  {
   "cell_type": "markdown",
   "metadata": {},
   "source": [
    "# 基本设置"
   ]
  },
  {
   "cell_type": "code",
   "execution_count": 2,
   "metadata": {
    "ExecuteTime": {
     "end_time": "2018-07-23T09:05:23.099384Z",
     "start_time": "2018-07-23T09:05:21.224145Z"
    }
   },
   "outputs": [
    {
     "name": "stderr",
     "output_type": "stream",
     "text": [
      "Building prefix dict from the default dictionary ...\n",
      "Loading model from cache C:\\Users\\ADMINI~1\\AppData\\Local\\Temp\\jieba.cache\n",
      "Loading model cost 0.869 seconds.\n",
      "Prefix dict has been built succesfully.\n"
     ]
    }
   ],
   "source": [
    "import jieba\n",
    "import sys\n",
    "import re\n",
    "import time\n",
    "import string\n",
    "\n",
    "%matplotlib inline\n",
    "import numpy as np\n",
    "import pandas as pd\n",
    "import pre_cor\n",
    "import os\n",
    "import json\n",
    "import urllib\n",
    "\n",
    "import warnings\n",
    "warnings.filterwarnings('ignore')"
   ]
  },
  {
   "cell_type": "markdown",
   "metadata": {},
   "source": [
    "# 导入数据"
   ]
  },
  {
   "cell_type": "code",
   "execution_count": 6,
   "metadata": {
    "ExecuteTime": {
     "end_time": "2018-07-23T09:05:25.565697Z",
     "start_time": "2018-07-23T09:05:25.551695Z"
    },
    "collapsed": true
   },
   "outputs": [],
   "source": [
    "folder = '20180723' # 数据文件夹\n",
    "file_list = ['20180723_circ_class_1.xlsx',]"
   ]
  },
  {
   "cell_type": "markdown",
   "metadata": {},
   "source": [
    "## title + url"
   ]
  },
  {
   "cell_type": "code",
   "execution_count": 11,
   "metadata": {
    "ExecuteTime": {
     "end_time": "2018-07-23T09:09:26.952349Z",
     "start_time": "2018-07-23T09:09:26.608305Z"
    }
   },
   "outputs": [
    {
     "name": "stdout",
     "output_type": "stream",
     "text": [
      "(3001, 5) 20180723_circ_class_1.xlsx\n",
      "\n",
      "总数： (3001, 5)\n"
     ]
    },
    {
     "data": {
      "text/html": [
       "<div>\n",
       "<style scoped>\n",
       "    .dataframe tbody tr th:only-of-type {\n",
       "        vertical-align: middle;\n",
       "    }\n",
       "\n",
       "    .dataframe tbody tr th {\n",
       "        vertical-align: top;\n",
       "    }\n",
       "\n",
       "    .dataframe thead th {\n",
       "        text-align: right;\n",
       "    }\n",
       "</style>\n",
       "<table border=\"1\" class=\"dataframe\">\n",
       "  <thead>\n",
       "    <tr style=\"text-align: right;\">\n",
       "      <th></th>\n",
       "      <th>label</th>\n",
       "      <th>title</th>\n",
       "      <th>url</th>\n",
       "      <th>publishtime</th>\n",
       "      <th>name</th>\n",
       "    </tr>\n",
       "  </thead>\n",
       "  <tbody>\n",
       "    <tr>\n",
       "      <th>0</th>\n",
       "      <td>1</td>\n",
       "      <td>做好规划不当月光族不做守财奴</td>\n",
       "      <td>https://xueqiu.com/1983578372/98551727</td>\n",
       "      <td>2018-01-02 15:11:33</td>\n",
       "      <td>噪音</td>\n",
       "    </tr>\n",
       "    <tr>\n",
       "      <th>1</th>\n",
       "      <td>2</td>\n",
       "      <td>做到以下三点，汽车保费想不便宜都难</td>\n",
       "      <td>http://mp.weixin.qq.com/s?__biz=MzA4ODYwMTczNg...</td>\n",
       "      <td>2018-01-04 06:59:56</td>\n",
       "      <td>噪音</td>\n",
       "    </tr>\n",
       "    <tr>\n",
       "      <th>2</th>\n",
       "      <td>3</td>\n",
       "      <td>做车险代理的前景如何 谊信合让你的财富事业迈上新高度</td>\n",
       "      <td>http://jxhb.91cy.cn/119134.shtml</td>\n",
       "      <td>2018-01-01 12:02:45</td>\n",
       "      <td>噪音</td>\n",
       "    </tr>\n",
       "    <tr>\n",
       "      <th>3</th>\n",
       "      <td>4</td>\n",
       "      <td>做保险想要高业绩，那就每天晚上8:30，来抢投保意向客户啊！</td>\n",
       "      <td>http://mp.weixin.qq.com/s?__biz=MzI2NjUyMTUxNQ...</td>\n",
       "      <td>2018-01-01 15:06:10</td>\n",
       "      <td>噪音</td>\n",
       "    </tr>\n",
       "    <tr>\n",
       "      <th>4</th>\n",
       "      <td>5</td>\n",
       "      <td>坐顺风车出事了，车险理赔吗</td>\n",
       "      <td>http://baijiahao.baidu.com/s?id=15887496924060...</td>\n",
       "      <td>2018-01-06 14:47:41</td>\n",
       "      <td>噪音</td>\n",
       "    </tr>\n",
       "  </tbody>\n",
       "</table>\n",
       "</div>"
      ],
      "text/plain": [
       "   label                           title  \\\n",
       "0      1                  做好规划不当月光族不做守财奴   \n",
       "1      2               做到以下三点，汽车保费想不便宜都难   \n",
       "2      3      做车险代理的前景如何 谊信合让你的财富事业迈上新高度   \n",
       "3      4  做保险想要高业绩，那就每天晚上8:30，来抢投保意向客户啊！   \n",
       "4      5                   坐顺风车出事了，车险理赔吗   \n",
       "\n",
       "                                                 url         publishtime name  \n",
       "0             https://xueqiu.com/1983578372/98551727 2018-01-02 15:11:33   噪音  \n",
       "1  http://mp.weixin.qq.com/s?__biz=MzA4ODYwMTczNg... 2018-01-04 06:59:56   噪音  \n",
       "2                   http://jxhb.91cy.cn/119134.shtml 2018-01-01 12:02:45   噪音  \n",
       "3  http://mp.weixin.qq.com/s?__biz=MzI2NjUyMTUxNQ... 2018-01-01 15:06:10   噪音  \n",
       "4  http://baijiahao.baidu.com/s?id=15887496924060... 2018-01-06 14:47:41   噪音  "
      ]
     },
     "execution_count": 11,
     "metadata": {},
     "output_type": "execute_result"
    }
   ],
   "source": [
    "cor_data_raw = pd.DataFrame()\n",
    "for file_name in file_list:\n",
    "    tmp_data = pd.read_excel('data/{0}/{1}'.format(folder, file_name))\n",
    "    print(tmp_data.shape, file_name)\n",
    "    print()\n",
    "    \n",
    "    cor_data_raw = pd.concat([cor_data_raw, tmp_data], axis = 0)\n",
    "    \n",
    "print('总数：', cor_data_raw.shape)\n",
    "cor_data_raw.head()"
   ]
  },
  {
   "cell_type": "markdown",
   "metadata": {},
   "source": [
    "## content"
   ]
  },
  {
   "cell_type": "code",
   "execution_count": null,
   "metadata": {
    "ExecuteTime": {
     "start_time": "2018-07-23T09:47:05.839Z"
    }
   },
   "outputs": [
    {
     "name": "stdout",
     "output_type": "stream",
     "text": [
      "---------------\n",
      "171 产品销售 众安平安强强联手——你的车险“保骉”正驶来\n",
      "http://www.toutiao.com/i6507825874241323524\n",
      "'utf-8' codec can't decode byte 0x9c in position 86: invalid start byte\n",
      "---------------\n",
      "541 行业 野村：第三季友邦新业务保费增长减慢 吁“买入”新华保险等\n",
      "http://www.lianlianmoney.com/c/article-4-565352-0.html\n",
      "HTTP Error 504: Gateway Timeout\n",
      "---------------\n",
      "565 噪音 延平：儿子酒驾撞坏车 父亲“顶包”骗保被查获\n",
      "东南网讯（通讯员 陈宇）儿子酒驾把车撞坏了，父亲不仅没有做好教育引导，反而为骗取2万元保费自己“顶包”，企图瞒天过海。12月21日，经延平警方细致调查，该起骗保案件成功告破。http://t.cn/RHpSTjo ​\n",
      "http://weibo.com/2216651507/FCjRsgnQj\n",
      "HTTP Error 504: Gateway Timeout\n",
      "---------------\n",
      "924 监管 深圳保监局：推动保险纠纷“诉调对接”\n",
      "http://www.heimaba.com/money/insurance/2018/0101/1493624.html\n",
      "HTTP Error 504: Gateway Timeout\n",
      "---------------\n",
      "1142 产品销售 农行百色分行元旦节代理保险业务营销“开门红”\n",
      "http://3g.k.sohu.com/t/n253400849\n",
      "[WinError 10060] 由于连接方在一段时间后没有正确答复或连接的主机没有反应，连接尝试失败。\n",
      "---------------\n",
      "1351 经营管理 揭秘保险业内幕：为什么保险公司一直在招人？_小大多少_mail63491821的和讯博客 ​\n",
      "http://weibo.com/1305295745/FCNO0vboo\n",
      "HTTP Error 504: Gateway Timeout\n",
      "---------------\n",
      "1457 经营管理 黄河财险获保监会批复，成为2018年首家获批开业的保险公司\n",
      "http://www.cx368.com/baoxian/2018/0103/70944.html\n",
      "'utf-8' codec can't decode byte 0xbb in position 47: invalid start byte\n",
      "---------------\n",
      "1691 噪音 刚开年，帮自己买了重疾险和意外险。投资策略进行了调整，原先买的基金投资份额降低，分别再投资了其它3只基金，并且把原来那只基金投资进去的钱拿出来一部分买了一只股票基金。今年比较傻的事情是在什么都不知道的情况下申购了可转债，我真的是个呆子啊。 今年再帮自己买一个医疗险，然后养好身体，想办法多赚钱，变得美美的。今年牙套应该可以下了，然后考虑下巴的事情。不管别人怎么说，怎么怎么不可能，我始终坚持自己的道路走，让说不可能的人去不可能吧。\n",
      "http://weibo.com/1775981135/FCP1ReQEG\n",
      "HTTP Error 504: Gateway Timeout\n",
      "---------------\n",
      "1737 监管 风险提示｜中国保监会发布“开门红”保险销售的风险提示\n",
      "http://www.toutiao.com/item/6507367662236992004\n",
      "'utf-8' codec can't decode byte 0x9c in position 51: invalid start byte\n",
      "---------------\n",
      "1763 噪音 发布了头条文章：《连云港市医疗保险管理处招聘工作人员》 http://t.cn/RHYsJk5 ​\n",
      "http://weibo.com/2247760403/FCCJXhJez\n",
      "HTTP Error 504: Gateway Timeout\n",
      "---------------\n",
      "2133 监管 保监会副主席黄洪：让保险在养老保障体系中发挥更大的作用_保险经纪吴兴利... - 由中国保险学会与中国社会科学院世界社保研究中心联合主办的“中国养老与健康保险50人论坛成立暨《中国养老金发展报告2017》发布式”日前在京召开。中国保险监督管理委员会副主席... - 保监会副主席黄洪：让保险在养老保障体系中发挥更大的作用 ​\n",
      "http://www.weibo.com/6323866286/FCVf2jWYx\n",
      "HTTP Error 504: Gateway Timeout\n",
      "---------------\n",
      "2376 噪音 2018开年篇：如何用好理赔神器——“两年不可抗辩条款”\n",
      "http://www.toutiao.com/i6505971172281156100\n",
      "'utf-8' codec can't decode byte 0x9c in position 102: invalid start byte\n",
      "---------------\n",
      "2467 监管 【中国保监会开展人身保险专项整治行动 治理销售乱象、打击非法\n",
      "http://www.heimaba.com/money/insurance/2018/0101/1493357.html\n",
      "HTTP Error 504: Gateway Timeout\n",
      "---------------\n",
      "2566 股市研报 【九大股票】主力去哪了？\n",
      "2018年第一周，最热门的股票是：\n",
      "中国平安+1.0%、方大炭素+14.5%、京东方-3.8%、紫金矿业-0.6%、贵州茅台+4.2%、格力电器+8.3%、绿地控股+19.5%、士兰微+7.8%、工商银行-1.8%、。\n",
      "\n",
      "从中我们可一窥主力动向。\n",
      "中国平安股东去年底减持超过200亿，市场主力全部接盘耗资最大，故 ​\n",
      "http://weibo.com/1443251663/FD23zuvf9\n",
      "HTTP Error 504: Gateway Timeout\n"
     ]
    }
   ],
   "source": [
    "if 1:    \n",
    "    raw_data = []\n",
    "    for index in cor_data_raw.index:\n",
    "        if index % 1000 == 0:print('index: ', index)\n",
    "        try :\n",
    "            label = cor_data_raw.loc[index, 'name']\n",
    "            title = cor_data_raw.loc[index, 'title']\n",
    "            row = cor_data_raw.loc[index, 'url']\n",
    "            url = \"http://121.42.224.166/extract?url=\" + row +\"?j=1\"\n",
    "            #print(url)\n",
    "            request = urllib.request.Request(url)\n",
    "            response = urllib.request.urlopen(request)\n",
    "            pageCode = response.read().decode('utf-8')\n",
    "            content = pageCode[pageCode.index(\"Content\") + 8:]\n",
    "\n",
    "            raw_data.append([label, title, content])\n",
    "        except Exception as e:\n",
    "            print('---------------')\n",
    "            print(index, label, title)\n",
    "            print(row)\n",
    "            print(e)\n",
    "            continue\n",
    "\n",
    "    raw_data = pd.DataFrame(raw_data, columns = ['label', 'title', 'content'])\n",
    "    filename = 'circ_class_combined_20180723.xlsx'\n",
    "    raw_data.to_excel('data/%s'%filename, index = False)\n",
    "    print(raw_data.shape)\n",
    "    raw_data.head()"
   ]
  },
  {
   "cell_type": "markdown",
   "metadata": {},
   "source": [
    "## label + title + content"
   ]
  },
  {
   "cell_type": "code",
   "execution_count": null,
   "metadata": {
    "collapsed": true
   },
   "outputs": [],
   "source": [
    "filename = 'circ_class_combined_20180723.xlsx'\n",
    "raw_data = pd.read_excel('data/%s'%filename)\n",
    "print(raw_data.shape)\n",
    "raw_data.head()"
   ]
  },
  {
   "cell_type": "markdown",
   "metadata": {},
   "source": [
    "# 预处理数据"
   ]
  },
  {
   "cell_type": "code",
   "execution_count": null,
   "metadata": {
    "collapsed": true
   },
   "outputs": [],
   "source": [
    "# label\n",
    "label_list = raw_data['label'].tolist()\n",
    "print(len(label_list))\n",
    "\n",
    "save_filename = 'data/{0}/label_pre_0723.txt'.format(folder)\n",
    "print(save_filename)\n",
    "fid = open(save_filename, \"w+\", encoding='UTF-8')\n",
    "for data in label_pre:\n",
    "    fid.write(data + '\\n')\n",
    "fid.close()"
   ]
  },
  {
   "cell_type": "code",
   "execution_count": null,
   "metadata": {
    "collapsed": true
   },
   "outputs": [],
   "source": [
    "# title\n",
    "title_list = raw_data['title'].tolist()\n",
    "print(len(title_list))\n",
    "title_pre = pre_cor.handle_contents(title_list)\n",
    "\n",
    "save_filename = 'data/{0}/title_pre_0723.txt'.format(folder)\n",
    "print(save_filename)\n",
    "fid = open(save_filename, \"w+\", encoding='UTF-8')\n",
    "for data in title_pre:\n",
    "    fid.write(data + '\\n')\n",
    "fid.close()"
   ]
  },
  {
   "cell_type": "code",
   "execution_count": 73,
   "metadata": {
    "ExecuteTime": {
     "end_time": "2018-07-03T06:47:46.735784Z",
     "start_time": "2018-07-03T06:46:50.231626Z"
    }
   },
   "outputs": [
    {
     "name": "stdout",
     "output_type": "stream",
     "text": [
      "6111\n",
      "data/20180703/corpus_pre_cor_0703.txt\n"
     ]
    }
   ],
   "source": [
    "# content\n",
    "content_list = raw_data['content'].tolist()\n",
    "print(len(content_list))\n",
    "content_pre = pre_cor.handle_contents(content_list)\n",
    "\n",
    "save_filename = 'data/{0}/content_pre_0723.txt'.format(folder)\n",
    "print(save_filename)\n",
    "fid = open(save_filename, \"w+\", encoding='UTF-8')\n",
    "for data in content_pre:\n",
    "    fid.write(data + '\\n')\n",
    "fid.close()"
   ]
  },
  {
   "cell_type": "markdown",
   "metadata": {
    "collapsed": true
   },
   "source": [
    "# 保存本文件"
   ]
  },
  {
   "cell_type": "code",
   "execution_count": 70,
   "metadata": {
    "ExecuteTime": {
     "end_time": "2018-06-27T08:59:12.287167Z",
     "start_time": "2018-06-27T08:59:12.234164Z"
    },
    "collapsed": true
   },
   "outputs": [],
   "source": [
    "if 0:\n",
    "    import datetime as dt\n",
    "    \n",
    "    def output_HTML(read_file, output_file):\n",
    "        from nbconvert import HTMLExporter\n",
    "        import codecs\n",
    "        import nbformat\n",
    "        exporter = HTMLExporter()\n",
    "        # read_file is '.ipynb', output_file is '.html'\n",
    "        output_notebook = nbformat.read(read_file, as_version=4)\n",
    "        output, resources = exporter.from_notebook_node(output_notebook)\n",
    "        codecs.open(output_file, 'w', encoding='utf-8').write(output)\n",
    "\n",
    "    html_file_folder = 'html_files'\n",
    "    if not os.path.exists(html_file_folder):\n",
    "        os.makedirs(html_file_folder)\n",
    "\n",
    "    today = dt.datetime.now().strftime('%Y%m%d')\n",
    "    current_file = 'circ_cor_model_1_pre.ipynb'\n",
    "    output_file = 'html_files\\%s_%s.html'%(os.path.splitext(current_file)[0], today)\n",
    "    output_HTML(current_file, output_file)"
   ]
  }
 ],
 "metadata": {
  "kernelspec": {
   "display_name": "Python 3",
   "language": "python",
   "name": "python3"
  },
  "language_info": {
   "codemirror_mode": {
    "name": "ipython",
    "version": 3
   },
   "file_extension": ".py",
   "mimetype": "text/x-python",
   "name": "python",
   "nbconvert_exporter": "python",
   "pygments_lexer": "ipython3",
   "version": "3.6.3"
  },
  "toc": {
   "nav_menu": {},
   "number_sections": true,
   "sideBar": true,
   "skip_h1_title": false,
   "title_cell": "Table of Contents",
   "title_sidebar": "Contents",
   "toc_cell": false,
   "toc_position": {
    "height": "calc(100% - 180px)",
    "left": "10px",
    "top": "150px",
    "width": "376px"
   },
   "toc_section_display": true,
   "toc_window_display": true
  },
  "varInspector": {
   "cols": {
    "lenName": 16,
    "lenType": 16,
    "lenVar": 40
   },
   "kernels_config": {
    "python": {
     "delete_cmd_postfix": "",
     "delete_cmd_prefix": "del ",
     "library": "var_list.py",
     "varRefreshCmd": "print(var_dic_list())"
    },
    "r": {
     "delete_cmd_postfix": ") ",
     "delete_cmd_prefix": "rm(",
     "library": "var_list.r",
     "varRefreshCmd": "cat(var_dic_list()) "
    }
   },
   "types_to_exclude": [
    "module",
    "function",
    "builtin_function_or_method",
    "instance",
    "_Feature"
   ],
   "window_display": false
  }
 },
 "nbformat": 4,
 "nbformat_minor": 2
}
