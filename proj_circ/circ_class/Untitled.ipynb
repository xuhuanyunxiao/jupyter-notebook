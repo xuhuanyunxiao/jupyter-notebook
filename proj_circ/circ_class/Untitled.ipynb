{
 "cells": [
  {
   "cell_type": "code",
   "execution_count": 1,
   "metadata": {
    "ExecuteTime": {
     "end_time": "2018-08-02T02:11:52.787946Z",
     "start_time": "2018-08-02T02:11:50.946753Z"
    }
   },
   "outputs": [
    {
     "name": "stdout",
     "output_type": "stream",
     "text": [
      "{'one', 'for', 'all', 'be', 'by', 'or', 'in', 'with', 'have', 'which', 'has', 'not', 'you', 'on', 'if', 'are', 'an', 'is', 'the', 'of', 'at', 'it', 'this', 'and', 'to', 'from', 'as', 'can', 'then', 'we', 'that'}\n",
      "{'等等', '那时', 'be', '[', '!', '每', '每当', '~', '同时', '【', '唉', '她们', '\\ufeff报', '呀', '另', '那儿', '这些', 'with', '啊', '兮', '与其', '呵', '沿着', '得', '或者', '的', '作为', '由', '可是', '是', '至于', '在下', '嗬', '怎么样', '宁肯', '他', '那', '各', 'or', '及', '分享', \"'\", '回', '既然', '哈哈', '只限', '毋宁', '似的', 'an', '这就是说', '又', '喏', 'at', '焉', '着呢', '总之', ']', '这里', '】', '啦', '.', 'by', '他们', '尽', '笑', '这会儿', '自从', 'has', '即若', '论', '有些', '可', '转发', '啐', '它', '谁', 'this', '博主', '至', '乃至', '有关', 'then', '这时', 'we', '你', '等', '这儿', '第', '哪些', 'have', '即', '虽然', '与', '心', '关注', '乌乎', '赞', '及其', '地', '睡 ', '那个', '与否', '吧哒', '靠', '嘛', '要', '嘘', 'are', '哎', '升级', '嗯', '着', '同', '照着', '哪个', '咋', '正如', '罢了', '他人', '于是', 'the', '那里', '那么样', '照', '无论', '拍', 'as', '看', '向', '那么', '或', '虽说', '转', '吗', '即令', '纵然', '经', '哪年', '与此同时', '随', '这边', '己', '微博', '旁人', '我们', '怎么', '在', '只是', '汗', '呜', '纵令', '记者', '极了', '再者', '乎', '怎', '诸位', '呜呼', '用', '咱', '于', '自', '喂', 'to', '哎呀', '喔唷', '呸', '这么', '既', 'one', '回复', 'for', '都', '宁可', ',', '谢谢', '牛', '之', '好', '吱', '哪天', 'on', '点', '呼哧', '就是', '咳', '哪怕', '那边', '向着', '只要', '个', '者', 'of', '咱们', '咦', '嘿', '哪样', '阿', '我', '那些', 'not', '哈哈哈哈', '几', '再说', '\\\\', '把', '经过', '嘻嘻', '能', '自己', '可见', '可以', '嘻嘻嘻', '之一', '的话', '嗯嗯', '之类', '们', '这样', '呢', '虽', '随着', '哉', '_', '嗡嗡', '云云', '即或', '所', '那会儿', '不', '沿', 'that', '哈', '咚', '哪儿', '之所以', '么', '哪边', '几时', 'is', '纵使', '自身', '报道', '自个儿', '虽则', '怎样', '顺着', '宁愿', '嗯嗯嗯', '另外', '就是说', '哈哈哈', '怎么办', 'which', '哇', '既是', '是的', '遵照', '纵', 'and', '哪里', '就', '蜡烛', '只有', '及至', '或是', 'in', '和', '她', '于是乎', '这', '您', '有的', '由此可见', '即便', '求', '由于', '啪达', '你们', '无宁', 'it', '越是', '另一方面', '恩', '嗳', '本报', '呃', 'all', '哼', '则', '呗', '?', 'you', 'if', '了', '哎哟', '那样', '所以', '吧', '啥', 'from', '即使', '乃', '况且', '它们', '嘻', '呕', '自各儿', '哦', '自家', '哗', '呵呵', '那么些', '宁', '尽管', '哼唷', '这个', '有', '临', 'can'}\n"
     ]
    }
   ],
   "source": [
    "from jieba import analyse\n",
    "print(analyse.default_textrank.stop_words)\n",
    "analyse.set_stop_words(\"corpus/stop_words_cor.txt\")\n",
    "print(analyse.default_textrank.stop_words)\n"
   ]
  },
  {
   "cell_type": "code",
   "execution_count": 5,
   "metadata": {
    "ExecuteTime": {
     "end_time": "2018-08-02T02:17:55.114916Z",
     "start_time": "2018-08-02T02:17:55.098902Z"
    }
   },
   "outputs": [
    {
     "name": "stdout",
     "output_type": "stream",
     "text": [
      "<__main__.a object at 0x7f2f60ccbeb8>\n",
      "<__main__.b object at 0x7f2f60ccbda0>\n",
      "<__main__.b object at 0x7f2f60ccbda0>\n",
      "<__main__.b object at 0x7f2f60ccbda0>\n"
     ]
    }
   ],
   "source": [
    "class a(object):\n",
    "\n",
    "    STOP_WORDS = set((\n",
    "        \"the\", \"of\", \"is\", \"and\", \"to\", \"in\", \"that\", \"we\", \"for\", \"an\", \"are\",\n",
    "        \"by\", \"be\", \"as\", \"on\", \"with\", \"can\", \"if\", \"from\", \"which\", \"you\", \"it\",\n",
    "        \"this\", \"then\", \"at\", \"have\", \"all\", \"not\", \"one\", \"has\", \"or\", \"that\"\n",
    "    ))\n",
    "\n",
    "    def set_stop_words(self):\n",
    "\n",
    "            print(self)\n",
    "\n",
    "    def extract_tags(self, *args, **kwargs):\n",
    "        raise NotImplementedError\n",
    "class b(a):\n",
    "    def dd(self):\n",
    "        print(self)\n",
    "        super().set_stop_words()\n",
    "\n",
    "aa=a()\n",
    "bb=b()\n",
    "aa.set_stop_words()\n",
    "bb.set_stop_words()\n",
    "bb.dd()\n"
   ]
  },
  {
   "cell_type": "code",
   "execution_count": 8,
   "metadata": {
    "ExecuteTime": {
     "end_time": "2018-08-02T03:14:25.143761Z",
     "start_time": "2018-08-02T03:14:25.133130Z"
    }
   },
   "outputs": [
    {
     "name": "stdout",
     "output_type": "stream",
     "text": [
      "0\n",
      "0\n"
     ]
    }
   ],
   "source": [
    "from collections import defaultdict\n",
    "a=defaultdict(int)\n",
    "print(a['你'])\n",
    "print(a.get('你'))"
   ]
  },
  {
   "cell_type": "code",
   "execution_count": 13,
   "metadata": {
    "ExecuteTime": {
     "end_time": "2018-08-02T03:17:33.546438Z",
     "start_time": "2018-08-02T03:17:33.532565Z"
    }
   },
   "outputs": [
    {
     "name": "stdout",
     "output_type": "stream",
     "text": [
      "None\n"
     ]
    },
    {
     "ename": "KeyError",
     "evalue": "'c'",
     "output_type": "error",
     "traceback": [
      "\u001b[0;31m---------------------------------------------------------------------------\u001b[0m",
      "\u001b[0;31mKeyError\u001b[0m                                  Traceback (most recent call last)",
      "\u001b[0;32m<ipython-input-13-08629acd7f34>\u001b[0m in \u001b[0;36m<module>\u001b[0;34m()\u001b[0m\n\u001b[1;32m      1\u001b[0m \u001b[0mc\u001b[0m\u001b[0;34m=\u001b[0m\u001b[0mdefaultdict\u001b[0m\u001b[0;34m(\u001b[0m\u001b[0;34m)\u001b[0m\u001b[0;34m\u001b[0m\u001b[0m\n\u001b[1;32m      2\u001b[0m \u001b[0mprint\u001b[0m\u001b[0;34m(\u001b[0m\u001b[0mc\u001b[0m\u001b[0;34m.\u001b[0m\u001b[0mget\u001b[0m\u001b[0;34m(\u001b[0m\u001b[0;34m'c'\u001b[0m\u001b[0;34m)\u001b[0m\u001b[0;34m)\u001b[0m\u001b[0;34m\u001b[0m\u001b[0m\n\u001b[0;32m----> 3\u001b[0;31m \u001b[0mprint\u001b[0m\u001b[0;34m(\u001b[0m\u001b[0mc\u001b[0m\u001b[0;34m[\u001b[0m\u001b[0;34m'c'\u001b[0m\u001b[0;34m]\u001b[0m\u001b[0;34m)\u001b[0m\u001b[0;34m\u001b[0m\u001b[0m\n\u001b[0m",
      "\u001b[0;31mKeyError\u001b[0m: 'c'"
     ]
    }
   ],
   "source": [
    "c=defaultdict()\n",
    "print(c.get('c'))\n",
    "print(c['c'])"
   ]
  }
 ],
 "metadata": {
  "kernelspec": {
   "display_name": "Python 3",
   "language": "python",
   "name": "python3"
  },
  "language_info": {
   "codemirror_mode": {
    "name": "ipython",
    "version": 3
   },
   "file_extension": ".py",
   "mimetype": "text/x-python",
   "name": "python",
   "nbconvert_exporter": "python",
   "pygments_lexer": "ipython3",
   "version": "3.6.4"
  },
  "toc": {
   "base_numbering": 1,
   "nav_menu": {},
   "number_sections": true,
   "sideBar": true,
   "skip_h1_title": false,
   "title_cell": "Table of Contents",
   "title_sidebar": "Contents",
   "toc_cell": false,
   "toc_position": {},
   "toc_section_display": true,
   "toc_window_display": false
  }
 },
 "nbformat": 4,
 "nbformat_minor": 2
}
