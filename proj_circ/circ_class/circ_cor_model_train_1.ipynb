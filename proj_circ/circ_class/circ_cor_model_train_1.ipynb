{
 "cells": [
  {
   "cell_type": "markdown",
   "metadata": {},
   "source": [
    "- 保监会 分类模型 2 训练 "
   ]
  },
  {
   "cell_type": "markdown",
   "metadata": {},
   "source": [
    "# 基本设置"
   ]
  },
  {
   "cell_type": "code",
   "execution_count": 4,
   "metadata": {
    "ExecuteTime": {
     "end_time": "2018-08-27T05:40:14.670262Z",
     "start_time": "2018-08-27T05:40:14.658806Z"
    },
    "collapsed": true
   },
   "outputs": [],
   "source": [
    "##load packages, needed\n",
    "# encoding=utf-8\n",
    "\n",
    "import jieba\n",
    "from jieba import analyse\n",
    "import sys\n",
    "import re\n",
    "import time\n",
    "import string\n",
    "from sklearn import feature_extraction\n",
    "from sklearn.pipeline import Pipeline,FeatureUnion\n",
    "from sklearn.model_selection import GridSearchCV\n",
    "from sklearn.feature_extraction.text import TfidfTransformer\n",
    "from sklearn.feature_extraction.text import CountVectorizer\n",
    "\n",
    "from sklearn.feature_extraction.text import TfidfVectorizer\n",
    "from sklearn.feature_selection import SelectKBest, chi2,mutual_info_classif,f_classif \n",
    "from sklearn.preprocessing import StandardScaler\n",
    "\n",
    "import xgboost as xgb\n",
    "from xgboost import XGBClassifier\n",
    "from sklearn import metrics\n",
    "\n",
    "from sklearn.base import BaseEstimator, TransformerMixin\n",
    "from collections import defaultdict\n",
    "\n",
    "import pickle\n",
    "\n",
    "%matplotlib inline\n",
    "import numpy as np\n",
    "import pandas as pd\n",
    "import pre_cor\n",
    "import dict_dbutils\n",
    "import os\n",
    "from sklearn.model_selection import train_test_split\n",
    "from sqlalchemy import create_engine\n",
    "from pandas.io import sql\n",
    "from collections import Counter\n",
    "\n",
    "import warnings\n",
    "warnings.filterwarnings('ignore')"
   ]
  },
  {
   "cell_type": "code",
   "execution_count": 5,
   "metadata": {
    "ExecuteTime": {
     "end_time": "2018-08-27T05:40:14.690633Z",
     "start_time": "2018-08-27T05:40:14.672608Z"
    },
    "collapsed": true
   },
   "outputs": [],
   "source": [
    "class StatsFeatures_cor(BaseEstimator, TransformerMixin):\n",
    "    \n",
    "    def __init__(self):\n",
    "        self.neg = set()\n",
    "        f = open(\"corpus/neg_words.txt\",\"r+\", encoding='UTF-8')\n",
    "        for content in f:\n",
    "            self.neg.add(content.strip())\n",
    "        f.close()\n",
    "        \n",
    "        self.company = set() # 公司\n",
    "        f = open(\"corpus/insurance_company_20180803.txt\",\"r+\", encoding='UTF-8')\n",
    "        for content in f:\n",
    "            self.company.add(content.strip())\n",
    "        f.close()\n",
    "\n",
    "        self.regulators = set() # 监管机构及领导\n",
    "        f = open(\"corpus/insurance_regulators_20180804.txt\",\"r+\", encoding='UTF-8')\n",
    "        for content in f:\n",
    "            self.regulators.add(content.strip())\n",
    "        f.close()    \n",
    "        \n",
    "        #初始化字典liwc\n",
    "        self.liwc = {} \n",
    "        f2 = open(\"corpus/scliwc.txt\",'r', encoding = 'gb18030')\n",
    "        for ii in f2:     #ii在scliwc.txt中循环\n",
    "            i = ii.strip().split() \n",
    "            self.liwc[i[0]] = i[1:len(i)]\n",
    "        f2.close      \n",
    "        \n",
    "        self.category = set()\n",
    "        for i in list(self.liwc.values()):\n",
    "            for j in i:\n",
    "                self.category.add(j)         \n",
    "        \n",
    "    def fit(self, X, y=None):\n",
    "        return self\n",
    "\n",
    "    def getcnt(self,x):        \n",
    "        return len(list(set(x)))\n",
    "\n",
    "    def getnegcnt(self,x):\n",
    "        negcnt = 0\n",
    "        words = x.split()\n",
    "        for w in words:\n",
    "            if w in self.neg:\n",
    "                negcnt = negcnt+1\n",
    "        return negcnt\n",
    "    \n",
    "    def getorgcnttf(self,x):\n",
    "        companycnt=0\n",
    "        companytf=0\n",
    "        regcnt = 0\n",
    "        regtf = 0\n",
    "        \n",
    "        words = x.split()\n",
    "        words_set=set(words)\n",
    "        for w in words_set:\n",
    "            if w in self.company:\n",
    "                companycnt = companycnt+1\n",
    "                companytf=companytf+words.count(w)\n",
    "                \n",
    "            if w in self.regulators:\n",
    "                regcnt = regcnt+1\n",
    "                regtf=regtf+words.count(w)            \n",
    "                \n",
    "        return companycnt, companytf, regcnt, regtf\n",
    "    \n",
    "    def transform(self, X):\n",
    "        data = []\n",
    "        for x in X:\n",
    "            if len(x) == 0:\n",
    "                length  = 1\n",
    "            else :\n",
    "                length = len(x)\n",
    "                \n",
    "            companycnt, companytf, regcnt, regtf=self.getorgcnttf(x)\n",
    "            \n",
    "#             words = x.split()\n",
    "#             psy = []\n",
    "#             for w in words:\n",
    "#                 if w in self.liwc: #是否liwc字典包含分词结果列表words的哪些分词\n",
    "#                     psy += self.liwc[w] \n",
    "            \n",
    "#             cat_tf = []\n",
    "#             for cat in self.category:\n",
    "#                 cat_tf.append(psy.count(cat)) \n",
    "                \n",
    "            data.append([len(x),self.getcnt(x),self.getcnt(x)/length,\n",
    "                         self.getnegcnt(x),self.getnegcnt(x)/length,\n",
    "                         companycnt, companytf, regcnt, regtf]) #  + cat_tf            \n",
    "        return data"
   ]
  },
  {
   "cell_type": "code",
   "execution_count": 6,
   "metadata": {
    "ExecuteTime": {
     "end_time": "2018-08-27T05:40:14.704457Z",
     "start_time": "2018-08-27T05:40:14.692965Z"
    },
    "collapsed": true
   },
   "outputs": [],
   "source": [
    "def getkeywords(X, N = 1000):\n",
    "    '''\n",
    "    训练时生成，合并所有记录，取N个关键词\n",
    "    '''\n",
    "    textrank = analyse.textrank\n",
    "\n",
    "    text_combined = ' '.join(X)\n",
    "    keywords = textrank(text_combined, topK = N)\n",
    "    print('keywords num: ', len(keywords))\n",
    "    if len(keywords) < N : \n",
    "        N  = len(keywords)\n",
    "\n",
    "    if keywords:\n",
    "        f = open(\"corpus/keywords.txt\",\"w+\", encoding='UTF-8')\n",
    "        for content in keywords:\n",
    "            content = content.strip()\n",
    "            f.write(content + '\\n')\n",
    "        f.close()"
   ]
  },
  {
   "cell_type": "code",
   "execution_count": 7,
   "metadata": {
    "ExecuteTime": {
     "end_time": "2018-08-27T05:40:14.718653Z",
     "start_time": "2018-08-27T05:40:14.706919Z"
    },
    "collapsed": true
   },
   "outputs": [],
   "source": [
    "class Statskeywords(BaseEstimator, TransformerMixin):\n",
    "    \n",
    "    def __init__(self, topk = 100):\n",
    "        self.topk = topk\n",
    "        \n",
    "        self.keywords = set()\n",
    "        f = open(\"corpus/keywords.txt\",\"r+\", encoding='UTF-8')\n",
    "        num = 0\n",
    "        for content in f:\n",
    "            if num < topk:\n",
    "                self.keywords.add(content.strip().replace('\\n', ''))\n",
    "            num += 1\n",
    "        f.close() \n",
    "                \n",
    "#         self.otherwords = ['保险业','保险行业','保费','险资','险企', # 行业\n",
    "#                            '罚款', # 公司 \n",
    "#                            '产品', '销售', '投保', '保单', '续保', # 产品\n",
    "#                            '投诉','骗保','案例','快速理赔','快赔','赔付', # 消费\n",
    "#                            '个股','港股','股市','股票','大盘','目标价','评级', # 资本\n",
    "#                            '活动','扶贫','奖','批复' # 其他\n",
    "#                           ]\n",
    "    \n",
    "    def fit(self, X, y=None):\n",
    "        return self \n",
    "    \n",
    "    def transform(self, X):\n",
    "        '''\n",
    "        文本中关键词的词频\n",
    "        '''                        \n",
    "        data = []\n",
    "        for x in X:\n",
    "            words = x.split()\n",
    "            word_tf = []\n",
    "            keycnt = 0\n",
    "            for kw in self.keywords:\n",
    "                word_tf.append(words.count(kw)) # 各个关键词的词频\n",
    "                if kw in words:keycnt+=1\n",
    "            word_tf.append(keycnt) # 关键词的个数\n",
    "            \n",
    "#             tw_tf = []\n",
    "#             for tw in self.otherwords:\n",
    "#                 tw_tf.append(words.count(tw))               \n",
    "                \n",
    "            data.append(word_tf ) # + tw_tf            \n",
    "        return data        "
   ]
  },
  {
   "cell_type": "code",
   "execution_count": null,
   "metadata": {
    "collapsed": true
   },
   "outputs": [],
   "source": []
  },
  {
   "cell_type": "markdown",
   "metadata": {},
   "source": [
    "## 上一版模型读入"
   ]
  },
  {
   "cell_type": "code",
   "execution_count": 8,
   "metadata": {
    "ExecuteTime": {
     "end_time": "2018-08-27T05:40:17.376029Z",
     "start_time": "2018-08-27T05:40:14.721264Z"
    },
    "collapsed": true
   },
   "outputs": [],
   "source": [
    "# 上一版模型\n",
    "from sklearn.externals import joblib\n",
    "pipeline_old = joblib.load( \"model/circ_8classifier_0815.pkl.z\") "
   ]
  },
  {
   "cell_type": "markdown",
   "metadata": {},
   "source": [
    "# 导入数据"
   ]
  },
  {
   "cell_type": "code",
   "execution_count": 9,
   "metadata": {
    "ExecuteTime": {
     "end_time": "2018-08-27T05:40:17.408446Z",
     "start_time": "2018-08-27T05:40:17.379192Z"
    }
   },
   "outputs": [
    {
     "name": "stdout",
     "output_type": "stream",
     "text": [
      "14175\n"
     ]
    }
   ],
   "source": [
    "title = []\n",
    "filename = 'data/titles1.txt'\n",
    "fid = open(filename, \"r+\", encoding='UTF-8')\n",
    "for f in fid:\n",
    "    title.append(f.strip().replace('\\n', ''))\n",
    "fid.close()\n",
    "print(len(title))"
   ]
  },
  {
   "cell_type": "code",
   "execution_count": 10,
   "metadata": {
    "ExecuteTime": {
     "end_time": "2018-08-27T05:40:17.421574Z",
     "start_time": "2018-08-27T05:40:17.410711Z"
    }
   },
   "outputs": [
    {
     "data": {
      "text/plain": [
       "['中华保险 因未 按规定 报送 可疑交易 报告 遭 央行 罚 万', '中国人寿 北京 违法 欺骗 投保人 保险 金融 频道 首页 财经网']"
      ]
     },
     "execution_count": 10,
     "metadata": {},
     "output_type": "execute_result"
    }
   ],
   "source": [
    "title[:2]"
   ]
  },
  {
   "cell_type": "code",
   "execution_count": 11,
   "metadata": {
    "ExecuteTime": {
     "end_time": "2018-08-27T05:40:17.835029Z",
     "start_time": "2018-08-27T05:40:17.423951Z"
    }
   },
   "outputs": [
    {
     "name": "stdout",
     "output_type": "stream",
     "text": [
      "14175\n"
     ]
    }
   ],
   "source": [
    "content = []\n",
    "filename = 'data/contents1.txt'\n",
    "fid = open(filename, \"r+\", encoding='UTF-8')\n",
    "for f in fid:\n",
    "    content.append(f.strip().replace('\\n', ''))\n",
    "fid.close()\n",
    "print(len(content))\n",
    "# content[:2]"
   ]
  },
  {
   "cell_type": "code",
   "execution_count": 12,
   "metadata": {
    "ExecuteTime": {
     "end_time": "2018-08-27T05:40:17.907186Z",
     "start_time": "2018-08-27T05:40:17.837807Z"
    }
   },
   "outputs": [
    {
     "name": "stdout",
     "output_type": "stream",
     "text": [
      "14175\n"
     ]
    }
   ],
   "source": [
    "title_content = [t + ' ' + c for t,c in zip(title, content)]\n",
    "print(len(title_content))"
   ]
  },
  {
   "cell_type": "code",
   "execution_count": 13,
   "metadata": {
    "ExecuteTime": {
     "end_time": "2018-08-27T05:40:17.923132Z",
     "start_time": "2018-08-27T05:40:17.909641Z"
    }
   },
   "outputs": [
    {
     "data": {
      "text/plain": [
       "{1: '监管',\n",
       " 2: '行业',\n",
       " 3: '产品销售',\n",
       " 4: '资本市场',\n",
       " 5: '公司内部管理',\n",
       " 6: '消费服务',\n",
       " 7: '其他相关报道',\n",
       " 8: '噪音'}"
      ]
     },
     "execution_count": 13,
     "metadata": {},
     "output_type": "execute_result"
    }
   ],
   "source": [
    "label_dic={'监管':1,'行业':2,'产品销售':3,'资本市场':4,'公司内部管理':5,'消费服务':6,'其他相关报道':7,'噪音':8}\n",
    "class_name_dict = {v: k for k, v in label_dic.items()}\n",
    "class_name_dict"
   ]
  },
  {
   "cell_type": "code",
   "execution_count": 14,
   "metadata": {
    "ExecuteTime": {
     "end_time": "2018-08-27T05:40:17.948619Z",
     "start_time": "2018-08-27T05:40:17.925414Z"
    }
   },
   "outputs": [
    {
     "name": "stdout",
     "output_type": "stream",
     "text": [
      "14175\n"
     ]
    },
    {
     "data": {
      "text/plain": [
       "['公司内部管理', '公司内部管理', '公司内部管理', '公司内部管理', '公司内部管理']"
      ]
     },
     "execution_count": 14,
     "metadata": {},
     "output_type": "execute_result"
    }
   ],
   "source": [
    "label = []\n",
    "filename = 'data/labels.txt'\n",
    "fid = open(filename, \"r+\", encoding='UTF-8')\n",
    "for f in fid:\n",
    "    label.append(f.strip().replace('\\n', ''))\n",
    "fid.close()\n",
    "print(len(label))\n",
    "label[:5]"
   ]
  },
  {
   "cell_type": "code",
   "execution_count": 15,
   "metadata": {
    "ExecuteTime": {
     "end_time": "2018-08-27T05:40:17.961014Z",
     "start_time": "2018-08-27T05:40:17.951227Z"
    }
   },
   "outputs": [
    {
     "data": {
      "text/plain": [
       "[5, 5, 5, 5, 5]"
      ]
     },
     "execution_count": 15,
     "metadata": {},
     "output_type": "execute_result"
    }
   ],
   "source": [
    "label = [label_dic[l] for l in label]\n",
    "label[:5]"
   ]
  },
  {
   "cell_type": "markdown",
   "metadata": {},
   "source": [
    "# 训练模型"
   ]
  },
  {
   "cell_type": "markdown",
   "metadata": {},
   "source": [
    "## 分割训练集、测试集"
   ]
  },
  {
   "cell_type": "code",
   "execution_count": 16,
   "metadata": {
    "ExecuteTime": {
     "end_time": "2018-08-27T05:40:17.984830Z",
     "start_time": "2018-08-27T05:40:17.963305Z"
    }
   },
   "outputs": [
    {
     "name": "stdout",
     "output_type": "stream",
     "text": [
      "训练集： 9922\n",
      "训练集-各类数量： Counter({8: 2776, 1: 1273, 2: 1245, 5: 1154, 7: 1133, 6: 1125, 4: 705, 3: 511})\n",
      "测试集： 4253\n",
      "测试集-各类数量： Counter({8: 1220, 1: 541, 2: 510, 7: 501, 5: 496, 6: 482, 4: 287, 3: 216})\n"
     ]
    }
   ],
   "source": [
    "X_train, X_test, y_train, y_test = train_test_split(title_content, label, test_size=0.3, random_state=42)\n",
    "print('训练集：',len(y_train))\n",
    "print('训练集-各类数量：',Counter(y_train))\n",
    "print('测试集：',len(y_test))\n",
    "print('测试集-各类数量：',Counter(y_test))"
   ]
  },
  {
   "cell_type": "markdown",
   "metadata": {},
   "source": [
    "## 生成词典"
   ]
  },
  {
   "cell_type": "code",
   "execution_count": 35,
   "metadata": {
    "ExecuteTime": {
     "end_time": "2018-08-17T06:18:54.451347Z",
     "start_time": "2018-08-17T06:18:54.447803Z"
    },
    "collapsed": true
   },
   "outputs": [],
   "source": [
    "if 0: \n",
    "    from jieba import analyse\n",
    "    getkeywords(title_content, N = 1000)"
   ]
  },
  {
   "cell_type": "markdown",
   "metadata": {},
   "source": [
    "### 分类生成词典"
   ]
  },
  {
   "cell_type": "code",
   "execution_count": 14,
   "metadata": {
    "ExecuteTime": {
     "end_time": "2018-08-22T01:42:39.993074Z",
     "start_time": "2018-08-22T01:32:05.385743Z"
    }
   },
   "outputs": [
    {
     "name": "stdout",
     "output_type": "stream",
     "text": [
      "1814\n",
      "1814\n",
      "keywords num:  500\n",
      "1755\n",
      "1755\n",
      "keywords num:  500\n",
      "727\n",
      "727\n",
      "keywords num:  500\n",
      "992\n",
      "992\n",
      "keywords num:  500\n",
      "1650\n",
      "1650\n",
      "keywords num:  500\n",
      "1607\n",
      "1607\n",
      "keywords num:  500\n",
      "1634\n",
      "1634\n",
      "keywords num:  500\n",
      "3677\n",
      "3677\n",
      "keywords num:  500\n"
     ]
    }
   ],
   "source": [
    "# j = 1\n",
    "N = 500\n",
    "class_key_dict = {}\n",
    "key_dict = {}\n",
    "for j in range(1,9):\n",
    "    str_list = [m for m,n in zip(title_content, label) if n == j]\n",
    "    print(len(str_list))\n",
    "    print(label.count(j))\n",
    "    textrank = analyse.textrank\n",
    "    text_combined = ' '.join(str_list)\n",
    "    keywords = textrank(text_combined, topK = N)\n",
    "    print('keywords num: ', len(keywords))\n",
    "#     print('%s -- %s: '%(j, class_name_dict[j]) , keywords)\n",
    "    class_key_dict[j] = keywords\n",
    "    for key in keywords:\n",
    "        if key not in key_dict:            \n",
    "            key_dict[key] = 1\n",
    "        else :\n",
    "            key_dict[key] += 1\n",
    "    "
   ]
  },
  {
   "cell_type": "code",
   "execution_count": 15,
   "metadata": {
    "ExecuteTime": {
     "end_time": "2018-08-22T01:42:39.999956Z",
     "start_time": "2018-08-22T01:42:39.995535Z"
    }
   },
   "outputs": [
    {
     "name": "stdout",
     "output_type": "stream",
     "text": [
      "410\n",
      "1499\n",
      "[8, 7, 7, 7, 8, 8, 8, 8, 8, 8, 8, 8, 8, 5, 8, 7, 8, 8, 8, 5, 1, 8, 8, 8, 8, 8, 8, 5, 8, 8, 6, 7, 3, 8, 8, 8, 8, 5, 6, 8, 8, 5, 7, 5, 3, 6, 6, 7, 2, 4, 7, 8, 6, 4, 8, 8, 8, 6, 7, 4, 7, 6, 8, 6, 1, 8, 4, 8, 8, 8, 5, 8, 5, 6, 8, 1, 7, 7, 8, 8, 7, 7, 6, 4, 1, 7, 2, 4, 8, 4, 8, 1, 5, 4, 4, 6, 8, 2, 8, 8, 8, 6, 8, 7, 8, 5, 6, 8, 8, 7, 4, 5, 5, 8, 7, 8, 7, 2, 7, 6, 6, 5, 3, 1, 6, 8, 8, 7, 3, 1, 8, 8, 4, 1, 7, 6, 1, 4, 1, 8, 7, 4, 4, 5, 6, 2, 1, 7, 5, 6, 3, 8, 6, 5, 8, 4, 5, 4, 2, 5, 5, 3, 3, 6, 3, 5, 8, 1, 3, 4, 8, 2, 8, 4, 6, 8, 8, 8, 6, 8, 8, 2, 6, 8, 2, 6, 7, 4, 8, 4, 7, 1, 8, 2, 5, 4, 7, 5, 7, 8, 3, 6, 4, 5, 4, 5, 2, 8, 2, 3, 8, 8, 8, 5, 4, 6, 1, 8, 1, 4, 6, 2, 7, 6, 7, 1, 5, 7, 5, 2, 5, 2, 2, 1, 8, 2, 5, 4, 1, 2, 6, 1, 7, 1, 1, 1, 7, 4, 5, 8, 2, 2, 6, 3, 1, 5, 6, 5, 4, 7, 2, 1, 6, 2, 7, 5, 8, 4, 2, 8, 6, 8, 2, 5, 2, 2, 8, 6, 7, 3, 2, 4, 8, 3, 2, 5, 7, 7, 2, 8, 6, 3, 1, 3, 1, 8, 2, 1, 4, 2, 3, 7, 7, 1, 6, 1, 4, 1, 4, 6, 4, 1, 8, 4, 8, 5, 2, 8, 2, 7, 5, 8, 8, 7, 4, 5, 4, 8, 5, 6, 1, 2, 2, 8, 3, 1, 1, 6, 5, 2, 2, 7, 4, 2, 2, 1, 5, 6, 5, 1, 6, 4, 4, 1, 7, 6, 5, 4, 5, 6, 3, 4, 2, 1, 2, 2, 3, 3, 7, 4, 5, 1, 5, 7, 1, 1, 1, 1, 1, 6, 3, 3, 7, 1, 5, 6, 7, 3, 8, 8, 4, 5, 1, 3, 6, 1, 1, 5, 8, 1, 1, 1, 1, 4, 2, 7, 3, 7, 1, 1, 6, 2, 1, 1, 3, 5, 2, 4, 8, 2, 5, 5, 4, 2, 1, 1, 5, 1, 7, 8, 8, 1, 1, 2, 7, 6, 2, 2, 7, 1, 5, 3, 4, 3, 1, 2, 5, 6, 2, 6, 4, 1, 3, 1, 7, 4, 2, 2, 6, 3, 8, 8, 2, 4, 5, 3, 6, 6, 1, 4, 8, 1, 4, 1, 2, 1, 2, 2, 2, 7, 3, 1, 2, 4, 1, 1, 5, 8, 4, 1, 7, 2, 6, 5, 3, 5, 8, 4, 7, 1, 3, 4, 7, 5, 4, 6, 4, 2, 4, 5, 1, 5, 2, 5, 4, 3, 2, 1, 1, 3, 4, 5, 5, 1, 5, 3, 2, 4, 5, 3, 3, 2, 6, 3, 3, 3, 3, 2, 1, 4, 3, 5, 3, 1, 3, 5, 3, 1, 3, 2, 3, 3, 1, 4, 5, 3, 7, 2, 5, 2, 3, 2, 6, 3, 4, 3, 1, 1, 1, 3, 1, 1, 4, 5, 5, 2, 4, 5, 1, 4, 1, 5, 2, 2, 3, 3, 2, 2, 1, 5, 3, 4, 2, 3, 3, 2, 2, 4, 5, 2, 2, 2, 6, 3, 4, 4, 3, 5, 5, 3, 1, 2, 2, 2, 2, 2, 2, 2, 1, 2, 1, 1, 2, 2, 1, 2, 2, 5, 5, 1, 1, 3, 1, 5, 5, 5, 1, 2, 3, 1, 4, 2, 2, 1, 5, 5, 2, 4, 5, 2, 3, 1, 4, 3, 3, 2, 1, 3, 5, 3, 2, 1, 2, 1, 2, 1, 2, 2, 5, 2, 4, 2, 2, 2, 1, 1, 5, 2, 2, 2, 2, 1, 3, 2, 1, 2, 1, 1, 4, 2, 2, 3, 4, 1, 1, 1, 2, 1, 3, 1, 4, 1, 1, 3, 1, 3, 1, 2, 1, 1, 1, 1, 3, 3, 1, 1, 2, 1, 3, 1, 1, 3, 3, 3, 2, 4, 2, 3, 1, 1, 1, 2, 3, 4, 1, 1, 5, 1, 2, 1, 1, 1, 1, 1, 2, 1, 3, 4, 4, 1, 1, 3, 2, 1, 5, 1, 3, 1, 2, 2, 3, 1, 1, 2, 4, 3, 1, 4, 1, 1, 1, 1, 2, 2, 2, 1, 2, 1, 2, 2, 3, 3, 1, 3, 1, 1, 2, 1, 4, 1, 1, 1, 1, 2, 1, 1, 1, 2, 3, 1, 2, 1, 1, 1, 1, 4, 1, 2, 2, 4, 2, 4, 2, 1, 1, 3, 1, 1, 1, 1, 1, 2, 1, 1, 1, 2, 1, 1, 1, 2, 1, 2, 1, 2, 1, 1, 1, 1, 1, 1, 1, 1, 2, 3, 1, 1, 3, 2, 2, 1, 4, 2, 3, 3, 3, 1, 1, 1, 2, 1, 1, 1, 1, 1, 1, 4, 1, 1, 1, 1, 1, 1, 1, 1, 1, 1, 1, 1, 1, 1, 1, 1, 2, 1, 1, 1, 1, 1, 1, 1, 1, 1, 1, 1, 1, 4, 3, 3, 1, 1, 1, 1, 1, 2, 2, 2, 1, 1, 1, 1, 1, 2, 1, 1, 1, 1, 1, 1, 1, 1, 1, 1, 1, 2, 1, 1, 1, 2, 1, 1, 1, 1, 3, 1, 1, 1, 1, 1, 1, 1, 1, 2, 1, 1, 1, 1, 1, 1, 1, 1, 2, 1, 2, 1, 1, 1, 1, 1, 1, 2, 1, 1, 1, 3, 1, 1, 1, 1, 1, 1, 1, 1, 2, 2, 1, 1, 1, 1, 1, 1, 1, 2, 1, 1, 1, 1, 1, 1, 4, 1, 1, 1, 1, 2, 1, 1, 1, 3, 1, 1, 1, 2, 1, 1, 2, 1, 3, 3, 2, 2, 2, 3, 3, 2, 1, 3, 2, 1, 1, 1, 2, 1, 1, 2, 4, 1, 1, 2, 2, 1, 1, 1, 1, 4, 2, 1, 1, 2, 2, 1, 1, 1, 1, 3, 3, 1, 1, 2, 1, 1, 1, 3, 1, 3, 2, 1, 1, 1, 1, 1, 1, 1, 1, 1, 1, 1, 2, 2, 2, 1, 1, 1, 1, 2, 1, 1, 1, 2, 2, 2, 2, 1, 1, 1, 3, 1, 3, 1, 2, 1, 1, 3, 2, 1, 1, 1, 2, 2, 1, 1, 1, 2, 1, 1, 3, 2, 1, 1, 1, 1, 1, 1, 1, 1, 1, 1, 1, 1, 2, 1, 1, 1, 1, 1, 1, 1, 1, 1, 1, 1, 1, 1, 1, 2, 1, 1, 1, 1, 1, 1, 1, 1, 1, 1, 1, 1, 1, 1, 1, 1, 1, 2, 1, 1, 1, 2, 2, 1, 1, 1, 1, 2, 3, 2, 1, 1, 1, 1, 2, 1, 1, 2, 1, 1, 1, 1, 1, 2, 1, 1, 1, 1, 1, 1, 1, 1, 1, 1, 1, 1, 1, 1, 1, 1, 1, 1, 1, 1, 1, 2, 1, 1, 1, 1, 2, 1, 1, 2, 1, 1, 1, 1, 2, 2, 1, 1, 1, 1, 1, 1, 1, 1, 1, 1, 1, 1, 1, 1, 1, 1, 1, 1, 1, 1, 1, 1, 1, 1, 1, 1, 1, 1, 2, 1, 1, 1, 3, 1, 1, 1, 1, 1, 2, 1, 2, 2, 1, 1, 1, 1, 1, 1, 1, 1, 1, 1, 1, 1, 1, 1, 1, 1, 2, 1, 1, 1, 1, 1, 2, 1, 1, 2, 1, 1, 1, 1, 1, 1, 1, 1, 1, 1, 1, 1, 1, 2, 1, 1, 1, 1, 1, 1, 1, 1, 1, 1, 1, 2, 1, 1, 1, 1, 1, 1, 1, 1, 1, 1, 1, 1, 1, 1, 2, 1, 1, 1, 1, 1, 1, 1, 1, 1, 1, 1, 1, 2, 1, 1, 1, 1, 1, 1, 1, 1, 1, 1, 1, 1, 2, 1, 2, 1, 1, 1, 2, 1, 1, 1, 1, 1, 1, 1, 1, 1, 1, 1, 1, 1, 1, 1, 1, 1, 1, 1, 1, 1, 1, 1, 1, 2, 1, 1, 1, 1, 1, 1, 1, 1, 1, 2, 1, 2, 1, 1, 1, 1, 1, 1, 1, 1, 1, 1, 1, 1, 1, 1, 1, 1, 1, 1, 1, 1, 1, 1, 1, 1, 1, 1, 1, 1, 1, 1, 1, 1, 1, 1, 1, 1, 1, 1, 1, 1, 1, 1, 1, 1, 1, 1, 1, 1, 1, 1, 1, 1, 1, 1, 1, 1, 1, 1, 1, 1, 1, 1, 1, 1, 1, 1, 1, 1, 1, 1, 1, 1, 1, 1, 1, 1, 1, 1, 1, 1, 1, 1, 1, 1, 1, 1, 1, 1, 1, 1, 1, 1, 1, 1, 1, 1, 1, 1, 1, 1, 1, 1, 1, 1, 1, 1, 1]\n"
     ]
    }
   ],
   "source": [
    "key_count_list = [k for k,v in key_dict.items() if v > 3]\n",
    "print(len(key_count_list))\n",
    "print(len(key_dict.values()))\n",
    "print(list(key_dict.values()))"
   ]
  },
  {
   "cell_type": "code",
   "execution_count": 16,
   "metadata": {
    "ExecuteTime": {
     "end_time": "2018-08-22T01:42:40.532027Z",
     "start_time": "2018-08-22T01:42:40.002323Z"
    },
    "collapsed": true
   },
   "outputs": [],
   "source": [
    "with pd.ExcelWriter('data/word_class_freq.xlsx') as writer:\n",
    "    for j in class_key_dict:\n",
    "        class_name = class_name_dict[j]\n",
    "        tmp_data = pd.DataFrame(class_key_dict[j])\n",
    "        tmp_data.columns = ['word']\n",
    "        tmp_data['class_freq'] = tmp_data['word'].apply(lambda x: key_dict[x])\n",
    "        tmp_data.to_excel(writer, class_name)\n",
    "    writer.save() "
   ]
  },
  {
   "cell_type": "code",
   "execution_count": 17,
   "metadata": {
    "ExecuteTime": {
     "end_time": "2018-08-22T01:42:40.567378Z",
     "start_time": "2018-08-22T01:42:40.535129Z"
    }
   },
   "outputs": [
    {
     "name": "stdout",
     "output_type": "stream",
     "text": [
      "1 --\n",
      "去除前： 500\n",
      "去除后： 169\n",
      "2 --\n",
      "去除前： 500\n",
      "去除后： 138\n",
      "3 --\n",
      "去除前： 500\n",
      "去除后： 207\n",
      "4 --\n",
      "去除前： 500\n",
      "去除后： 217\n",
      "5 --\n",
      "去除前： 500\n",
      "去除后： 161\n",
      "6 --\n",
      "去除前： 500\n",
      "去除后： 253\n",
      "7 --\n",
      "去除前： 500\n",
      "去除后： 221\n",
      "8 --\n",
      "去除前： 500\n",
      "去除后： 191\n",
      "['聘任', '市场化', '保额', '乱象', '知道', '暴雨', '水泥', '经纪', '投标', '主题']\n",
      "len(keywords):  1089\n"
     ]
    }
   ],
   "source": [
    "keywords = []\n",
    "for j in range(1,9):\n",
    "    print('%s --'%j)\n",
    "    keyword_list = class_key_dict[j]\n",
    "    print('去除前：', len(keyword_list))\n",
    "    for k in key_count_list:        \n",
    "        if k in keyword_list:\n",
    "            keyword_list.remove(k)\n",
    "    print('去除后：', len(keyword_list)) \n",
    "    \n",
    "    keywords += keyword_list\n",
    "\n",
    "keywords = list(set(keywords))\n",
    "print(keywords[:10])\n",
    "print('len(keywords): ', len(keywords))\n",
    "f = open(\"corpus/keywords.txt\",\"w+\", encoding='UTF-8')\n",
    "for content in keywords:\n",
    "    content = content.strip()\n",
    "    f.write(content + '\\n')\n",
    "f.close()    "
   ]
  },
  {
   "cell_type": "markdown",
   "metadata": {},
   "source": [
    "## LDA: 主题模型选特征"
   ]
  },
  {
   "cell_type": "code",
   "execution_count": 30,
   "metadata": {
    "ExecuteTime": {
     "end_time": "2018-08-15T06:11:53.132836Z",
     "start_time": "2018-08-15T06:11:53.125123Z"
    },
    "collapsed": true
   },
   "outputs": [],
   "source": [
    "def print_top_words(model, feature_names, n_top_words):\n",
    "    #打印每个主题下权重较高的term\n",
    "    for topic_idx, topic in enumerate(model.components_):\n",
    "        print(\"Topic #%d:\" % topic_idx)\n",
    "        print(\" \".join([feature_names[i]\n",
    "                        for i in topic.argsort()[:-n_top_words - 1:-1]]))\n",
    "    print()\n",
    "    #打印主题-词语分布矩阵\n",
    "    print(model.components_)"
   ]
  },
  {
   "cell_type": "code",
   "execution_count": 33,
   "metadata": {
    "ExecuteTime": {
     "end_time": "2018-08-15T14:58:01.455619Z",
     "start_time": "2018-08-15T07:15:16.770812Z"
    }
   },
   "outputs": [
    {
     "data": {
      "text/plain": [
       "2215.660897178133"
      ]
     },
     "execution_count": 33,
     "metadata": {},
     "output_type": "execute_result"
    }
   ],
   "source": [
    "# from sklearn.decomposition import LatentDirichletAllocation\n",
    "\n",
    "# tf_vectorizer  = CountVectorizer(max_df=0.95, min_df=2)\n",
    "# tf = tf_vectorizer.fit_transform(X_train)\n",
    "\n",
    "# lda = LatentDirichletAllocation(n_topics=100,\n",
    "#                                 max_iter=1000,\n",
    "#                                 learning_method='batch',\n",
    "#                                 random_state=0)\n",
    "# docres = lda.fit_transform(tf)\n",
    "# lda.perplexity(tf)"
   ]
  },
  {
   "cell_type": "code",
   "execution_count": 52,
   "metadata": {
    "ExecuteTime": {
     "end_time": "2018-08-17T06:49:54.430439Z",
     "start_time": "2018-08-17T06:49:54.420303Z"
    },
    "collapsed": true
   },
   "outputs": [],
   "source": [
    "# lda.transform(tf)"
   ]
  },
  {
   "cell_type": "code",
   "execution_count": 53,
   "metadata": {
    "ExecuteTime": {
     "end_time": "2018-08-17T06:49:54.439148Z",
     "start_time": "2018-08-17T06:49:54.432730Z"
    },
    "collapsed": true
   },
   "outputs": [],
   "source": [
    "# lda.n_iter_"
   ]
  },
  {
   "cell_type": "code",
   "execution_count": 54,
   "metadata": {
    "ExecuteTime": {
     "end_time": "2018-08-17T06:49:54.445232Z",
     "start_time": "2018-08-17T06:49:54.441614Z"
    },
    "collapsed": true
   },
   "outputs": [],
   "source": [
    "# len(tf.data), tf.data\n",
    "\n",
    "# tf_feature_names = tf_vectorizer.get_feature_names()\n",
    "# print(tf_feature_names[:10])\n",
    "# len(tf_feature_names)\n",
    "\n",
    "# n_top_words=20\n",
    "# tf_feature_names = tf_vectorizer.get_feature_names()\n",
    "# print_top_words(lda, tf_feature_names, n_top_words)"
   ]
  },
  {
   "cell_type": "code",
   "execution_count": 55,
   "metadata": {
    "ExecuteTime": {
     "end_time": "2018-08-17T06:49:54.454974Z",
     "start_time": "2018-08-17T06:49:54.447460Z"
    },
    "collapsed": true
   },
   "outputs": [],
   "source": [
    "# docres"
   ]
  },
  {
   "cell_type": "code",
   "execution_count": 56,
   "metadata": {
    "ExecuteTime": {
     "end_time": "2018-08-17T06:49:54.464016Z",
     "start_time": "2018-08-17T06:49:54.457425Z"
    },
    "collapsed": true
   },
   "outputs": [],
   "source": [
    "# lda.components_"
   ]
  },
  {
   "cell_type": "code",
   "execution_count": 57,
   "metadata": {
    "ExecuteTime": {
     "end_time": "2018-08-17T06:49:54.469533Z",
     "start_time": "2018-08-17T06:49:54.466509Z"
    },
    "collapsed": true
   },
   "outputs": [],
   "source": [
    "# doc_topic_dist = lda.transform(tf)"
   ]
  },
  {
   "cell_type": "code",
   "execution_count": 58,
   "metadata": {
    "ExecuteTime": {
     "end_time": "2018-08-17T06:49:54.485124Z",
     "start_time": "2018-08-17T06:49:54.471971Z"
    },
    "collapsed": true
   },
   "outputs": [],
   "source": [
    "# from time import time\n",
    "# n_topics = [200,] #range(20, 75, 5)\n",
    "# perplexityLst = [1.0]*len(n_topics)\n",
    "\n",
    "# #训练LDA并打印训练时间\n",
    "# lda_models = []\n",
    "# for idx, n_topic in enumerate(n_topics):\n",
    "#     lda = LatentDirichletAllocation(n_topics=100,\n",
    "#                                     max_iter=1000,\n",
    "#                                     learning_method='batch',\n",
    "#                                     evaluate_every=200,\n",
    "# #                                    perp_tol=0.1, #default                                       \n",
    "# #                                    doc_topic_prior=1/n_topic, #default\n",
    "# #                                    topic_word_prior=1/n_topic, #default\n",
    "#                                     verbose=0)\n",
    "#     t0 = time()\n",
    "#     lda.fit(tf)\n",
    "#     perplexityLst[idx] = lda.perplexity(tf)\n",
    "#     lda_models.append(lda)\n",
    "#     print(\"# of Topic: %d, \" % n_topics[idx])\n",
    "#     print(\"done in %0.3fs, N_iter %d, \" % ((time() - t0), lda.n_iter_))\n",
    "#     print(\"Perplexity Score %0.3f\" % perplexityLst[idx])"
   ]
  },
  {
   "cell_type": "code",
   "execution_count": null,
   "metadata": {
    "ExecuteTime": {
     "start_time": "2018-08-02T10:17:32.308Z"
    },
    "collapsed": true
   },
   "outputs": [],
   "source": [
    "# #打印最佳模型\n",
    "# best_index = perplexityLst.index(min(perplexityLst))\n",
    "# best_n_topic = n_topics[best_index]\n",
    "# best_model = lda_models[best_index]\n",
    "# print(\"Best # of Topic: \", best_n_topic)"
   ]
  },
  {
   "cell_type": "markdown",
   "metadata": {},
   "source": [
    "## xgboost"
   ]
  },
  {
   "cell_type": "markdown",
   "metadata": {},
   "source": [
    "### train"
   ]
  },
  {
   "cell_type": "code",
   "execution_count": 17,
   "metadata": {
    "ExecuteTime": {
     "end_time": "2018-08-27T05:59:53.027789Z",
     "start_time": "2018-08-27T05:41:35.290270Z"
    },
    "scrolled": false
   },
   "outputs": [
    {
     "name": "stdout",
     "output_type": "stream",
     "text": [
      "0.9967748437814956\n"
     ]
    },
    {
     "data": {
      "text/plain": [
       "Pipeline(memory=None,\n",
       "     steps=[('features', FeatureUnion(n_jobs=1,\n",
       "       transformer_list=[('tf_idf', Pipeline(memory=None,\n",
       "     steps=[('counts', CountVectorizer(analyzer='word', binary=False, decode_error='strict',\n",
       "        dtype=<class 'numpy.int64'>, encoding='utf-8', input='content',\n",
       "        lowercase=True, max_df=0.9...tate=0, reg_alpha=0, reg_lambda=1, scale_pos_weight=1,\n",
       "       seed=None, silent=True, subsample=1))])"
      ]
     },
     "execution_count": 17,
     "metadata": {},
     "output_type": "execute_result"
    }
   ],
   "source": [
    "pipeline = Pipeline([\n",
    "    ('features', FeatureUnion([\n",
    "        ('tf_idf', Pipeline([\n",
    "            ('counts', CountVectorizer(max_df=0.95, min_df=2)),\n",
    "            ('tf_idf', TfidfTransformer()),\n",
    "            ('chi', SelectKBest(chi2, k=20000))\n",
    "        ])),\n",
    "        ('len_stats', StatsFeatures_cor()),\n",
    "        ('tf', Pipeline([\n",
    "            ('tf_k', Statskeywords(topk = 5000)),\n",
    "            ('chi', SelectKBest(chi2, k=500))])),\n",
    "    ])),\n",
    "    ('standard', StandardScaler(with_mean=False)),\n",
    "    ('classifier', XGBClassifier(max_depth=7,objective='multi:softmax', num_class=8))\n",
    "])\n",
    "\n",
    "pipeline.fit(X_train, y_train)\n",
    "print(pipeline.score(X_train, y_train))\n",
    "pipeline"
   ]
  },
  {
   "cell_type": "markdown",
   "metadata": {},
   "source": [
    "### test"
   ]
  },
  {
   "cell_type": "code",
   "execution_count": 18,
   "metadata": {
    "ExecuteTime": {
     "end_time": "2018-08-27T06:02:30.605697Z",
     "start_time": "2018-08-27T05:59:53.030247Z"
    }
   },
   "outputs": [
    {
     "name": "stdout",
     "output_type": "stream",
     "text": [
      "accuracy_score:  0.8676228544556783\n",
      "             precision    recall  f1-score   support\n",
      "\n",
      "          1       0.85      0.86      0.85       541\n",
      "          2       0.83      0.77      0.80       510\n",
      "          3       0.85      0.76      0.80       216\n",
      "          4       0.85      0.81      0.83       287\n",
      "          5       0.80      0.86      0.83       496\n",
      "          6       0.92      0.93      0.92       482\n",
      "          7       0.91      0.89      0.90       501\n",
      "          8       0.89      0.91      0.90      1220\n",
      "\n",
      "avg / total       0.87      0.87      0.87      4253\n",
      "\n",
      "confusion_matrix: \n",
      "[[ 463   24    1    5    7    0    3   38]\n",
      " [  35  394    9   11   20   13    3   25]\n",
      " [   4   10  164    0   17    4    5   12]\n",
      " [   3    7    0  233   19    0    0   25]\n",
      " [   3   18    4   10  425    5   13   18]\n",
      " [   1    4    5    0    5  450    8    9]\n",
      " [   6    6    4    1   16   10  448   10]\n",
      " [  30   13    7   15   23    9   10 1113]]\n"
     ]
    }
   ],
   "source": [
    "y_pred_class = pipeline.predict(X_test)\n",
    "print('accuracy_score: ', metrics.accuracy_score(y_test, y_pred_class)) # 指所有分类正确的百分比\n",
    "print(metrics.classification_report(y_test, y_pred_class))\n",
    "print('confusion_matrix: ')\n",
    "print( metrics.confusion_matrix(y_test, y_pred_class))"
   ]
  },
  {
   "cell_type": "code",
   "execution_count": 19,
   "metadata": {
    "ExecuteTime": {
     "end_time": "2018-08-27T06:06:13.764897Z",
     "start_time": "2018-08-27T06:02:30.608769Z"
    },
    "scrolled": false
   },
   "outputs": [
    {
     "name": "stdout",
     "output_type": "stream",
     "text": [
      "accuracy_score:  0.9130025864095932\n",
      "             precision    recall  f1-score   support\n",
      "\n",
      "          1       0.88      0.91      0.90       541\n",
      "          2       0.88      0.81      0.84       510\n",
      "          3       0.86      0.89      0.88       216\n",
      "          4       0.89      0.87      0.88       287\n",
      "          5       0.90      0.91      0.90       496\n",
      "          6       0.94      0.97      0.95       482\n",
      "          7       0.95      0.95      0.95       501\n",
      "          8       0.94      0.94      0.94      1220\n",
      "\n",
      "avg / total       0.91      0.91      0.91      4253\n",
      "\n",
      "confusion_matrix: \n",
      "[[ 495   18    2    2    3    0    1   20]\n",
      " [  30  413   14    7   13    8    4   21]\n",
      " [   3    3  192    1    4    3    3    7]\n",
      " [   6    8    0  251   10    1    1   10]\n",
      " [   0   15    5    5  449    7    7    8]\n",
      " [   0    2    2    0    2  466    2    8]\n",
      " [   2    2    0    0   10    6  476    5]\n",
      " [  25    8    7   17    9    6    7 1141]]\n"
     ]
    }
   ],
   "source": [
    "# 上一版模型 \n",
    "y_pred_class = pipeline_old.predict(X_test)\n",
    "print('accuracy_score: ', metrics.accuracy_score(y_test, y_pred_class)) # 指所有分类正确的百分比\n",
    "print(metrics.classification_report(y_test, y_pred_class))\n",
    "print('confusion_matrix: ')\n",
    "print( metrics.confusion_matrix(y_test, y_pred_class))"
   ]
  },
  {
   "cell_type": "markdown",
   "metadata": {},
   "source": [
    "### 概率分布"
   ]
  },
  {
   "cell_type": "code",
   "execution_count": 20,
   "metadata": {
    "ExecuteTime": {
     "end_time": "2018-08-22T02:04:55.942602Z",
     "start_time": "2018-08-22T02:02:41.327475Z"
    },
    "collapsed": true
   },
   "outputs": [],
   "source": [
    "y_pred_prob = pipeline.predict_proba(X_test)"
   ]
  },
  {
   "cell_type": "code",
   "execution_count": 31,
   "metadata": {
    "ExecuteTime": {
     "end_time": "2018-08-22T02:36:52.173884Z",
     "start_time": "2018-08-22T02:36:52.169178Z"
    },
    "collapsed": true
   },
   "outputs": [],
   "source": [
    "#list(y_pred_prob.max(axis = 1))"
   ]
  },
  {
   "cell_type": "code",
   "execution_count": 21,
   "metadata": {
    "ExecuteTime": {
     "end_time": "2018-08-22T02:04:56.735593Z",
     "start_time": "2018-08-22T02:04:55.945426Z"
    }
   },
   "outputs": [
    {
     "data": {
      "text/plain": [
       "<matplotlib.axes._subplots.AxesSubplot at 0x7fe7ef04a710>"
      ]
     },
     "execution_count": 21,
     "metadata": {},
     "output_type": "execute_result"
    },
    {
     "data": {
      "image/png": "[encoded data removed]",
      "text/plain": [
       "<matplotlib.figure.Figure at 0x7fe81ce78f98>"
      ]
     },
     "metadata": {},
     "output_type": "display_data"
    }
   ],
   "source": [
    "pd.DataFrame(y_pred_prob.max(axis = 1)).plot.hist(bins = 100)"
   ]
  },
  {
   "cell_type": "code",
   "execution_count": 22,
   "metadata": {
    "ExecuteTime": {
     "end_time": "2018-08-22T02:04:56.748278Z",
     "start_time": "2018-08-22T02:04:56.738081Z"
    }
   },
   "outputs": [
    {
     "data": {
      "text/plain": [
       "array([1, 2, 3, 4, 5, 6, 7, 8])"
      ]
     },
     "execution_count": 22,
     "metadata": {},
     "output_type": "execute_result"
    }
   ],
   "source": [
    "pipeline.classes_"
   ]
  },
  {
   "cell_type": "code",
   "execution_count": 23,
   "metadata": {
    "ExecuteTime": {
     "end_time": "2018-08-22T02:04:58.412830Z",
     "start_time": "2018-08-22T02:04:56.750674Z"
    }
   },
   "outputs": [
    {
     "data": {
      "text/html": [
       "<div>\n",
       "<style scoped>\n",
       "    .dataframe tbody tr th:only-of-type {\n",
       "        vertical-align: middle;\n",
       "    }\n",
       "\n",
       "    .dataframe tbody tr th {\n",
       "        vertical-align: top;\n",
       "    }\n",
       "\n",
       "    .dataframe thead th {\n",
       "        text-align: right;\n",
       "    }\n",
       "</style>\n",
       "<table border=\"1\" class=\"dataframe\">\n",
       "  <thead>\n",
       "    <tr style=\"text-align: right;\">\n",
       "      <th>proba</th>\n",
       "      <th>0.2</th>\n",
       "      <th>0.3</th>\n",
       "      <th>0.4</th>\n",
       "      <th>0.5</th>\n",
       "      <th>0.6</th>\n",
       "      <th>0.7</th>\n",
       "      <th>0.8</th>\n",
       "      <th>0.9</th>\n",
       "      <th>1.0</th>\n",
       "      <th>sum</th>\n",
       "    </tr>\n",
       "    <tr>\n",
       "      <th>predict_label</th>\n",
       "      <th></th>\n",
       "      <th></th>\n",
       "      <th></th>\n",
       "      <th></th>\n",
       "      <th></th>\n",
       "      <th></th>\n",
       "      <th></th>\n",
       "      <th></th>\n",
       "      <th></th>\n",
       "      <th></th>\n",
       "    </tr>\n",
       "  </thead>\n",
       "  <tbody>\n",
       "    <tr>\n",
       "      <th>1</th>\n",
       "      <td>0.0</td>\n",
       "      <td>2.0</td>\n",
       "      <td>15.0</td>\n",
       "      <td>33.0</td>\n",
       "      <td>30.0</td>\n",
       "      <td>49.0</td>\n",
       "      <td>71.0</td>\n",
       "      <td>125.0</td>\n",
       "      <td>238.0</td>\n",
       "      <td>563.0</td>\n",
       "    </tr>\n",
       "    <tr>\n",
       "      <th>2</th>\n",
       "      <td>0.0</td>\n",
       "      <td>7.0</td>\n",
       "      <td>26.0</td>\n",
       "      <td>41.0</td>\n",
       "      <td>46.0</td>\n",
       "      <td>44.0</td>\n",
       "      <td>52.0</td>\n",
       "      <td>95.0</td>\n",
       "      <td>183.0</td>\n",
       "      <td>494.0</td>\n",
       "    </tr>\n",
       "    <tr>\n",
       "      <th>3</th>\n",
       "      <td>2.0</td>\n",
       "      <td>4.0</td>\n",
       "      <td>11.0</td>\n",
       "      <td>19.0</td>\n",
       "      <td>15.0</td>\n",
       "      <td>16.0</td>\n",
       "      <td>16.0</td>\n",
       "      <td>43.0</td>\n",
       "      <td>68.0</td>\n",
       "      <td>194.0</td>\n",
       "    </tr>\n",
       "    <tr>\n",
       "      <th>4</th>\n",
       "      <td>1.0</td>\n",
       "      <td>3.0</td>\n",
       "      <td>11.0</td>\n",
       "      <td>23.0</td>\n",
       "      <td>23.0</td>\n",
       "      <td>19.0</td>\n",
       "      <td>31.0</td>\n",
       "      <td>57.0</td>\n",
       "      <td>119.0</td>\n",
       "      <td>287.0</td>\n",
       "    </tr>\n",
       "    <tr>\n",
       "      <th>5</th>\n",
       "      <td>3.0</td>\n",
       "      <td>17.0</td>\n",
       "      <td>18.0</td>\n",
       "      <td>37.0</td>\n",
       "      <td>40.0</td>\n",
       "      <td>33.0</td>\n",
       "      <td>52.0</td>\n",
       "      <td>76.0</td>\n",
       "      <td>246.0</td>\n",
       "      <td>522.0</td>\n",
       "    </tr>\n",
       "    <tr>\n",
       "      <th>6</th>\n",
       "      <td>0.0</td>\n",
       "      <td>2.0</td>\n",
       "      <td>9.0</td>\n",
       "      <td>12.0</td>\n",
       "      <td>20.0</td>\n",
       "      <td>25.0</td>\n",
       "      <td>40.0</td>\n",
       "      <td>76.0</td>\n",
       "      <td>303.0</td>\n",
       "      <td>487.0</td>\n",
       "    </tr>\n",
       "    <tr>\n",
       "      <th>7</th>\n",
       "      <td>1.0</td>\n",
       "      <td>9.0</td>\n",
       "      <td>13.0</td>\n",
       "      <td>19.0</td>\n",
       "      <td>11.0</td>\n",
       "      <td>17.0</td>\n",
       "      <td>21.0</td>\n",
       "      <td>60.0</td>\n",
       "      <td>343.0</td>\n",
       "      <td>494.0</td>\n",
       "    </tr>\n",
       "    <tr>\n",
       "      <th>8</th>\n",
       "      <td>1.0</td>\n",
       "      <td>8.0</td>\n",
       "      <td>17.0</td>\n",
       "      <td>48.0</td>\n",
       "      <td>66.0</td>\n",
       "      <td>65.0</td>\n",
       "      <td>60.0</td>\n",
       "      <td>151.0</td>\n",
       "      <td>700.0</td>\n",
       "      <td>1116.0</td>\n",
       "    </tr>\n",
       "    <tr>\n",
       "      <th>sum</th>\n",
       "      <td>8.0</td>\n",
       "      <td>52.0</td>\n",
       "      <td>120.0</td>\n",
       "      <td>232.0</td>\n",
       "      <td>251.0</td>\n",
       "      <td>268.0</td>\n",
       "      <td>343.0</td>\n",
       "      <td>683.0</td>\n",
       "      <td>2200.0</td>\n",
       "      <td>4157.0</td>\n",
       "    </tr>\n",
       "  </tbody>\n",
       "</table>\n",
       "</div>"
      ],
      "text/plain": [
       "proba          0.2   0.3    0.4    0.5    0.6    0.7    0.8    0.9     1.0  \\\n",
       "predict_label                                                                \n",
       "1              0.0   2.0   15.0   33.0   30.0   49.0   71.0  125.0   238.0   \n",
       "2              0.0   7.0   26.0   41.0   46.0   44.0   52.0   95.0   183.0   \n",
       "3              2.0   4.0   11.0   19.0   15.0   16.0   16.0   43.0    68.0   \n",
       "4              1.0   3.0   11.0   23.0   23.0   19.0   31.0   57.0   119.0   \n",
       "5              3.0  17.0   18.0   37.0   40.0   33.0   52.0   76.0   246.0   \n",
       "6              0.0   2.0    9.0   12.0   20.0   25.0   40.0   76.0   303.0   \n",
       "7              1.0   9.0   13.0   19.0   11.0   17.0   21.0   60.0   343.0   \n",
       "8              1.0   8.0   17.0   48.0   66.0   65.0   60.0  151.0   700.0   \n",
       "sum            8.0  52.0  120.0  232.0  251.0  268.0  343.0  683.0  2200.0   \n",
       "\n",
       "proba             sum  \n",
       "predict_label          \n",
       "1               563.0  \n",
       "2               494.0  \n",
       "3               194.0  \n",
       "4               287.0  \n",
       "5               522.0  \n",
       "6               487.0  \n",
       "7               494.0  \n",
       "8              1116.0  \n",
       "sum            4157.0  "
      ]
     },
     "execution_count": 23,
     "metadata": {},
     "output_type": "execute_result"
    },
    {
     "data": {
      "image/png": "[encoded data removed]",
      "text/plain": [
       "<matplotlib.figure.Figure at 0x7fe7bb7840b8>"
      ]
     },
     "metadata": {},
     "output_type": "display_data"
    }
   ],
   "source": [
    "import seaborn as sns\n",
    "import matplotlib.pyplot as plt\n",
    "\n",
    "sel_data = pd.DataFrame()\n",
    "sel_data['predict_label'] = y_pred_class\n",
    "sel_data['predict_proba'] = y_pred_prob.max(axis = 1)\n",
    "sel_data['label'] = y_test\n",
    "\n",
    "label_dic={'监管':1,'行业':2,'产品销售':3,'资本市场':4,'公司内部管理':5,'消费服务':6,'其他相关报道':7,'噪音':8}\n",
    "# sel_data['predict_label'] = sel_data['predict_label'].apply(lambda x:label_dic[x])\n",
    "g = sns.FacetGrid(sel_data, col=\"predict_label\", col_wrap=4, sharex=False)\n",
    "g.map(plt.hist, \"predict_proba\", bins = 10)\n",
    "\n",
    "sel_data['proba'] = sel_data['predict_proba'].apply(lambda x:round(x, 1))\n",
    "sel_data_stat = sel_data.groupby(['predict_label', 'proba'])['predict_proba'].count().unstack().fillna(0)\n",
    "sel_data_stat['sum'] = sel_data_stat.sum(axis = 1)\n",
    "sel_data_stat.loc['sum'] = sel_data_stat.sum(axis = 0)\n",
    "sel_data_stat"
   ]
  },
  {
   "cell_type": "markdown",
   "metadata": {},
   "source": [
    "### KFold"
   ]
  },
  {
   "cell_type": "code",
   "execution_count": 15,
   "metadata": {
    "ExecuteTime": {
     "end_time": "2018-08-21T02:02:34.584883Z",
     "start_time": "2018-08-21T02:02:33.158642Z"
    },
    "collapsed": true
   },
   "outputs": [],
   "source": [
    "from sklearn.model_selection import KFold\n",
    "import numpy as np\n",
    "\n",
    "kf = KFold(n_splits=5, shuffle=True, random_state=0)\n",
    "title_content = np.array(title_content)\n",
    "label = np.array(label)"
   ]
  },
  {
   "cell_type": "code",
   "execution_count": 16,
   "metadata": {
    "ExecuteTime": {
     "end_time": "2018-08-21T03:47:44.322929Z",
     "start_time": "2018-08-21T02:03:05.325728Z"
    }
   },
   "outputs": [
    {
     "name": "stdout",
     "output_type": "stream",
     "text": [
      "---- 1\n",
      "0.9964726631393298\n",
      "accuracy_score:  0.8726489028213166\n",
      "             precision    recall  f1-score   support\n",
      "\n",
      "          1       0.84      0.87      0.85       329\n",
      "          2       0.78      0.81      0.79       278\n",
      "          3       0.90      0.76      0.82       150\n",
      "          4       0.86      0.85      0.85       172\n",
      "          5       0.86      0.83      0.84       265\n",
      "          6       0.90      0.94      0.92       316\n",
      "          7       0.92      0.92      0.92       346\n",
      "          8       0.90      0.89      0.89       696\n",
      "\n",
      "avg / total       0.87      0.87      0.87      2552\n",
      "\n",
      "confusion_matrix: \n",
      "[[286  16   1   4   4   1   2  15]\n",
      " [ 16 225   4   4   7   6   1  15]\n",
      " [  1  11 114   0   5   3   6  10]\n",
      " [  3   5   0 146   6   0   0  12]\n",
      " [  3  15   3   3 219   9   7   6]\n",
      " [  0   3   4   0   3 297   5   4]\n",
      " [  3   4   0   0   7   4 320   8]\n",
      " [ 29  11   1  13   4  10   8 620]]\n",
      "---- 2\n",
      "0.9964726631393298\n",
      "accuracy_score:  0.8793103448275862\n",
      "             precision    recall  f1-score   support\n",
      "\n",
      "          1       0.85      0.88      0.86       320\n",
      "          2       0.80      0.80      0.80       260\n",
      "          3       0.82      0.79      0.80       146\n",
      "          4       0.88      0.83      0.85       186\n",
      "          5       0.85      0.83      0.84       263\n",
      "          6       0.92      0.96      0.94       305\n",
      "          7       0.95      0.88      0.91       349\n",
      "          8       0.90      0.93      0.91       723\n",
      "\n",
      "avg / total       0.88      0.88      0.88      2552\n",
      "\n",
      "confusion_matrix: \n",
      "[[280  18   1   3   2   0   1  15]\n",
      " [ 14 209   7   3   7   6   2  12]\n",
      " [  3   3 115   1   3   8   4   9]\n",
      " [  6   2   1 154   8   0   0  15]\n",
      " [  3  16   3   4 219   4   5   9]\n",
      " [  0   2   3   0   1 292   3   4]\n",
      " [  5   7   3   1  14   4 306   9]\n",
      " [ 19   5   8  10   5   5   2 669]]\n",
      "---- 3\n",
      "0.9962766999804037\n",
      "accuracy_score:  0.8769592476489029\n",
      "             precision    recall  f1-score   support\n",
      "\n",
      "          1       0.86      0.88      0.87       342\n",
      "          2       0.79      0.82      0.80       283\n",
      "          3       0.93      0.79      0.85       125\n",
      "          4       0.88      0.81      0.84       201\n",
      "          5       0.79      0.83      0.81       236\n",
      "          6       0.91      0.96      0.93       297\n",
      "          7       0.92      0.91      0.91       309\n",
      "          8       0.91      0.90      0.91       759\n",
      "\n",
      "avg / total       0.88      0.88      0.88      2552\n",
      "\n",
      "confusion_matrix: \n",
      "[[301  17   0   2   2   0   2  18]\n",
      " [ 10 233   0   4  12   7   3  14]\n",
      " [  4   6  99   1   2   4   3   6]\n",
      " [  3   6   0 162  12   0   1  17]\n",
      " [  3  12   1   2 196   7  12   3]\n",
      " [  0   7   1   0   3 284   0   2]\n",
      " [  1   5   3   0   8   7 280   5]\n",
      " [ 29  10   3  13  14   3   4 683]]\n",
      "---- 4\n",
      "0.9966689526795337\n",
      "accuracy_score:  0.8725989807918463\n",
      "             precision    recall  f1-score   support\n",
      "\n",
      "          1       0.83      0.87      0.85       291\n",
      "          2       0.84      0.75      0.79       279\n",
      "          3       0.85      0.79      0.82       142\n",
      "          4       0.84      0.80      0.82       177\n",
      "          5       0.81      0.83      0.82       247\n",
      "          6       0.90      0.96      0.92       339\n",
      "          7       0.90      0.92      0.91       330\n",
      "          8       0.91      0.90      0.91       746\n",
      "\n",
      "avg / total       0.87      0.87      0.87      2551\n",
      "\n",
      "confusion_matrix: \n",
      "[[254  14   1   4   2   3   1  12]\n",
      " [ 10 210   6   6  12   9   6  20]\n",
      " [  3   3 112   0   7   9   2   6]\n",
      " [  4   9   0 141   8   0   1  14]\n",
      " [  2   8   4   7 205   3  12   6]\n",
      " [  0   0   1   1   3 324   6   4]\n",
      " [  3   1   0   0   9   8 305   4]\n",
      " [ 30   6   8   9   6   6   6 675]]\n",
      "---- 5\n",
      "0.9968648966395611\n",
      "accuracy_score:  0.8804390435123481\n",
      "             precision    recall  f1-score   support\n",
      "\n",
      "          1       0.86      0.90      0.88       311\n",
      "          2       0.81      0.81      0.81       275\n",
      "          3       0.86      0.78      0.82       160\n",
      "          4       0.88      0.85      0.86       191\n",
      "          5       0.85      0.81      0.83       271\n",
      "          6       0.90      0.93      0.91       318\n",
      "          7       0.91      0.93      0.92       299\n",
      "          8       0.91      0.91      0.91       726\n",
      "\n",
      "avg / total       0.88      0.88      0.88      2551\n",
      "\n",
      "confusion_matrix: \n",
      "[[281  12   0   0   1   1   2  14]\n",
      " [ 14 222   2   5  11   6   5  10]\n",
      " [  1   2 125   1   7  13   2   9]\n",
      " [  1   7   1 162   9   0   0  11]\n",
      " [  2  18   5   5 220   4  10   7]\n",
      " [  1   3   5   0   2 295   5   7]\n",
      " [  1   3   0   0   3   5 279   8]\n",
      " [ 25   8   7  12   6   3   3 662]]\n"
     ]
    }
   ],
   "source": [
    "num = 0\n",
    "for train_index , test_index in kf.split(title_content):\n",
    "    print('---- %s'%(num+1))\n",
    "    X_train,X_test = title_content[train_index], title_content[test_index]\n",
    "    y_train,y_test = label[train_index], label[test_index]\n",
    "    \n",
    "    pipeline = Pipeline([\n",
    "        ('features', FeatureUnion([\n",
    "            ('tf_idf', Pipeline([\n",
    "                ('counts', CountVectorizer(max_df=0.95, min_df=2)),\n",
    "                ('tf_idf', TfidfTransformer()),\n",
    "                ('chi', SelectKBest(chi2, k=20000))\n",
    "            ])),\n",
    "            ('len_stats', StatsFeatures_cor()),\n",
    "            ('tf', Pipeline([\n",
    "                ('tf_k', Statskeywords(topk = 5000)),\n",
    "                ('chi', SelectKBest(chi2, k=500))])),\n",
    "        ])),\n",
    "        ('standard', StandardScaler(with_mean=False)),\n",
    "        ('classifier', XGBClassifier(max_depth=7,objective='multi:softmax', num_class=8))\n",
    "    ])\n",
    "    pipeline.fit(X_train, y_train)\n",
    "    print(pipeline.score(X_train, y_train))    \n",
    "    \n",
    "    y_pred_class = pipeline.predict(X_test)\n",
    "    print('accuracy_score: ', metrics.accuracy_score(y_test, y_pred_class)) # 指所有分类正确的百分比\n",
    "    print(metrics.classification_report(y_test, y_pred_class))\n",
    "    print('confusion_matrix: ')\n",
    "    print( metrics.confusion_matrix(y_test, y_pred_class))    \n",
    "    \n",
    "    num += 1"
   ]
  },
  {
   "cell_type": "code",
   "execution_count": null,
   "metadata": {
    "collapsed": true
   },
   "outputs": [],
   "source": []
  },
  {
   "cell_type": "markdown",
   "metadata": {},
   "source": [
    "# 调参"
   ]
  },
  {
   "cell_type": "code",
   "execution_count": 38,
   "metadata": {
    "ExecuteTime": {
     "end_time": "2018-08-22T09:42:09.419406Z",
     "start_time": "2018-08-22T09:42:09.414370Z"
    },
    "collapsed": true
   },
   "outputs": [],
   "source": [
    "score_1_best_para = {}\n",
    "score_2_best_para = {}\n",
    "cv = 3\n",
    "score_1 = 'accuracy'\n",
    "score_2 = 'recall_macro'"
   ]
  },
  {
   "cell_type": "code",
   "execution_count": 39,
   "metadata": {
    "ExecuteTime": {
     "end_time": "2018-08-22T09:42:09.993439Z",
     "start_time": "2018-08-22T09:42:09.944594Z"
    },
    "collapsed": true
   },
   "outputs": [],
   "source": [
    "combined_features = Pipeline([\n",
    "                        ('features', FeatureUnion([\n",
    "                            ('tf_idf', Pipeline([\n",
    "                                ('counts', CountVectorizer(max_df=0.95, min_df=2)),\n",
    "                                ('tf_idf', TfidfTransformer()),\n",
    "                                ('chi', SelectKBest(chi2, k=20000))\n",
    "                            ])),\n",
    "                            ('len_stats', StatsFeatures_cor()),\n",
    "                            ('tf', Pipeline([\n",
    "                                ('tf_k', Statskeywords(topk = 5000)),\n",
    "                                ('chi', SelectKBest(chi2, k=500))])),\n",
    "                        ])),\n",
    "                        ('standard', StandardScaler(with_mean=False)),\n",
    "                    ])"
   ]
  },
  {
   "cell_type": "markdown",
   "metadata": {},
   "source": [
    "## topk、chi_k"
   ]
  },
  {
   "cell_type": "code",
   "execution_count": 42,
   "metadata": {
    "ExecuteTime": {
     "end_time": "2018-08-22T09:43:26.812216Z",
     "start_time": "2018-08-22T09:43:26.802318Z"
    }
   },
   "outputs": [
    {
     "data": {
      "text/plain": [
       "{'process__features__tf_idf__chi__k': [2000, 5000, 20000, 40000],\n",
       " 'process__features__tf__chi__k': [100, 300, 500, 800]}"
      ]
     },
     "execution_count": 42,
     "metadata": {},
     "output_type": "execute_result"
    }
   ],
   "source": [
    "pipeline = Pipeline([('process', combined_features), \n",
    "                     ('classifier', XGBClassifier(max_depth = 7, gamma = 0,\n",
    "                                                  objective='multi:softmax', num_class=8))])\n",
    "\n",
    "param_grid_0 = dict(process__features__tf_idf__chi__k = [2000, 5000, 20000, 40000 ],\n",
    "                   process__features__tf__chi__k = [100, 300, 500, 800]) \n",
    "param_grid_0"
   ]
  },
  {
   "cell_type": "code",
   "execution_count": 43,
   "metadata": {
    "ExecuteTime": {
     "end_time": "2018-08-22T15:54:22.112470Z",
     "start_time": "2018-08-22T09:43:27.625773Z"
    }
   },
   "outputs": [
    {
     "name": "stdout",
     "output_type": "stream",
     "text": [
      "Fitting 3 folds for each of 16 candidates, totalling 48 fits\n",
      "[CV] process__features__tf__chi__k=100, process__features__tf_idf__chi__k=2000 \n",
      "[CV] process__features__tf__chi__k=100, process__features__tf_idf__chi__k=2000 \n",
      "[CV] process__features__tf__chi__k=100, process__features__tf_idf__chi__k=2000 \n",
      "[CV] process__features__tf__chi__k=100, process__features__tf_idf__chi__k=5000 \n",
      "[CV]  process__features__tf__chi__k=100, process__features__tf_idf__chi__k=2000, score=0.8501547987616099, total=18.5min\n",
      "[CV] process__features__tf__chi__k=100, process__features__tf_idf__chi__k=5000 \n",
      "[CV]  process__features__tf__chi__k=100, process__features__tf_idf__chi__k=2000, score=0.8510046367851622, total=18.9min\n",
      "[CV] process__features__tf__chi__k=100, process__features__tf_idf__chi__k=5000 \n",
      "[CV]  process__features__tf__chi__k=100, process__features__tf_idf__chi__k=2000, score=0.8695114409400123, total=18.9min\n",
      "[CV] process__features__tf__chi__k=100, process__features__tf_idf__chi__k=20000 \n",
      "[CV]  process__features__tf__chi__k=100, process__features__tf_idf__chi__k=5000, score=0.850386398763524, total=23.4min\n",
      "[CV] process__features__tf__chi__k=100, process__features__tf_idf__chi__k=20000 \n",
      "[CV]  process__features__tf__chi__k=100, process__features__tf_idf__chi__k=5000, score=0.8679653679653679, total=25.6min\n"
     ]
    },
    {
     "name": "stderr",
     "output_type": "stream",
     "text": [
      "[Parallel(n_jobs=-1)]: Done   5 tasks      | elapsed: 64.9min\n"
     ]
    },
    {
     "name": "stdout",
     "output_type": "stream",
     "text": [
      "[CV] process__features__tf__chi__k=100, process__features__tf_idf__chi__k=20000 \n",
      "[CV]  process__features__tf__chi__k=100, process__features__tf_idf__chi__k=5000, score=0.8544891640866873, total=25.3min\n",
      "[CV] process__features__tf__chi__k=100, process__features__tf_idf__chi__k=40000 \n",
      "[CV]  process__features__tf__chi__k=100, process__features__tf_idf__chi__k=20000, score=0.8553323029366307, total=31.5min\n",
      "[CV] process__features__tf__chi__k=100, process__features__tf_idf__chi__k=40000 \n",
      "[CV]  process__features__tf__chi__k=100, process__features__tf_idf__chi__k=20000, score=0.8670377241805813, total=30.6min\n",
      "[CV] process__features__tf__chi__k=100, process__features__tf_idf__chi__k=40000 \n",
      "[CV]  process__features__tf__chi__k=100, process__features__tf_idf__chi__k=20000, score=0.8529411764705882, total=27.4min\n",
      "[CV] process__features__tf__chi__k=300, process__features__tf_idf__chi__k=2000 \n",
      "[CV]  process__features__tf__chi__k=100, process__features__tf_idf__chi__k=40000, score=0.8565687789799072, total=29.8min\n"
     ]
    },
    {
     "name": "stderr",
     "output_type": "stream",
     "text": [
      "[Parallel(n_jobs=-1)]: Done  10 tasks      | elapsed: 104.1min\n"
     ]
    },
    {
     "name": "stdout",
     "output_type": "stream",
     "text": [
      "[CV] process__features__tf__chi__k=300, process__features__tf_idf__chi__k=2000 \n",
      "[CV]  process__features__tf__chi__k=100, process__features__tf_idf__chi__k=40000, score=0.8670377241805813, total=30.8min\n",
      "[CV] process__features__tf__chi__k=300, process__features__tf_idf__chi__k=2000 \n",
      "[CV]  process__features__tf__chi__k=100, process__features__tf_idf__chi__k=40000, score=0.8538699690402477, total=29.5min\n",
      "[CV] process__features__tf__chi__k=300, process__features__tf_idf__chi__k=5000 \n",
      "[CV]  process__features__tf__chi__k=300, process__features__tf_idf__chi__k=2000, score=0.850386398763524, total=17.9min\n",
      "[CV] process__features__tf__chi__k=300, process__features__tf_idf__chi__k=5000 \n",
      "[CV]  process__features__tf__chi__k=300, process__features__tf_idf__chi__k=2000, score=0.8642547928262214, total=18.4min\n",
      "[CV] process__features__tf__chi__k=300, process__features__tf_idf__chi__k=5000 \n",
      "[CV]  process__features__tf__chi__k=300, process__features__tf_idf__chi__k=2000, score=0.8526315789473684, total=19.3min\n",
      "[CV] process__features__tf__chi__k=300, process__features__tf_idf__chi__k=20000 \n",
      "[CV]  process__features__tf__chi__k=300, process__features__tf_idf__chi__k=5000, score=0.854095826893354, total=22.5min\n",
      "[CV] process__features__tf__chi__k=300, process__features__tf_idf__chi__k=20000 \n",
      "[CV]  process__features__tf__chi__k=300, process__features__tf_idf__chi__k=5000, score=0.865491651205937, total=21.2min\n"
     ]
    },
    {
     "name": "stderr",
     "output_type": "stream",
     "text": [
      "[Parallel(n_jobs=-1)]: Done  17 tasks      | elapsed: 157.3min\n"
     ]
    },
    {
     "name": "stdout",
     "output_type": "stream",
     "text": [
      "[CV] process__features__tf__chi__k=300, process__features__tf_idf__chi__k=20000 \n",
      "[CV]  process__features__tf__chi__k=300, process__features__tf_idf__chi__k=5000, score=0.8560371517027864, total=20.2min\n",
      "[CV] process__features__tf__chi__k=300, process__features__tf_idf__chi__k=40000 \n",
      "[CV]  process__features__tf__chi__k=300, process__features__tf_idf__chi__k=20000, score=0.8547140649149922, total=23.1min\n",
      "[CV] process__features__tf__chi__k=300, process__features__tf_idf__chi__k=40000 \n",
      "[CV]  process__features__tf__chi__k=300, process__features__tf_idf__chi__k=20000, score=0.865491651205937, total=21.7min\n",
      "[CV] process__features__tf__chi__k=300, process__features__tf_idf__chi__k=40000 \n",
      "[CV]  process__features__tf__chi__k=300, process__features__tf_idf__chi__k=20000, score=0.8513931888544891, total=22.0min\n",
      "[CV] process__features__tf__chi__k=500, process__features__tf_idf__chi__k=2000 \n",
      "[CV]  process__features__tf__chi__k=300, process__features__tf_idf__chi__k=40000, score=0.8550231839258114, total=23.5min\n",
      "[CV] process__features__tf__chi__k=500, process__features__tf_idf__chi__k=2000 \n",
      "[CV]  process__features__tf__chi__k=300, process__features__tf_idf__chi__k=40000, score=0.8667285095856524, total=23.7min\n",
      "[CV] process__features__tf__chi__k=500, process__features__tf_idf__chi__k=2000 \n",
      "[CV]  process__features__tf__chi__k=300, process__features__tf_idf__chi__k=40000, score=0.8510835913312693, total=23.4min\n"
     ]
    },
    {
     "name": "stderr",
     "output_type": "stream",
     "text": [
      "[Parallel(n_jobs=-1)]: Done  24 tasks      | elapsed: 203.7min\n"
     ]
    },
    {
     "name": "stdout",
     "output_type": "stream",
     "text": [
      "[CV] process__features__tf__chi__k=500, process__features__tf_idf__chi__k=5000 \n",
      "[CV]  process__features__tf__chi__k=500, process__features__tf_idf__chi__k=2000, score=0.854095826893354, total=15.8min\n",
      "[CV] process__features__tf__chi__k=500, process__features__tf_idf__chi__k=5000 \n",
      "[CV]  process__features__tf__chi__k=500, process__features__tf_idf__chi__k=2000, score=0.8642547928262214, total=15.6min\n",
      "[CV] process__features__tf__chi__k=500, process__features__tf_idf__chi__k=5000 \n",
      "[CV]  process__features__tf__chi__k=500, process__features__tf_idf__chi__k=2000, score=0.8523219814241486, total=13.7min\n",
      "[CV] process__features__tf__chi__k=500, process__features__tf_idf__chi__k=20000 \n",
      "[CV]  process__features__tf__chi__k=500, process__features__tf_idf__chi__k=5000, score=0.8525502318392582, total=17.7min\n",
      "[CV] process__features__tf__chi__k=500, process__features__tf_idf__chi__k=20000 \n",
      "[CV]  process__features__tf__chi__k=500, process__features__tf_idf__chi__k=5000, score=0.8698206555349413, total=18.0min\n",
      "[CV] process__features__tf__chi__k=500, process__features__tf_idf__chi__k=20000 \n",
      "[CV]  process__features__tf__chi__k=500, process__features__tf_idf__chi__k=5000, score=0.8554179566563468, total=17.1min\n",
      "[CV] process__features__tf__chi__k=500, process__features__tf_idf__chi__k=40000 \n",
      "[CV]  process__features__tf__chi__k=500, process__features__tf_idf__chi__k=20000, score=0.8547140649149922, total=21.5min\n",
      "[CV] process__features__tf__chi__k=500, process__features__tf_idf__chi__k=40000 \n",
      "[CV]  process__features__tf__chi__k=500, process__features__tf_idf__chi__k=20000, score=0.865182436611008, total=22.0min\n",
      "[CV] process__features__tf__chi__k=500, process__features__tf_idf__chi__k=40000 \n",
      "[CV]  process__features__tf__chi__k=500, process__features__tf_idf__chi__k=20000, score=0.8529411764705882, total=21.8min\n"
     ]
    },
    {
     "name": "stderr",
     "output_type": "stream",
     "text": [
      "[Parallel(n_jobs=-1)]: Done  33 tasks      | elapsed: 261.9min\n"
     ]
    },
    {
     "name": "stdout",
     "output_type": "stream",
     "text": [
      "[CV] process__features__tf__chi__k=800, process__features__tf_idf__chi__k=2000 \n",
      "[CV]  process__features__tf__chi__k=500, process__features__tf_idf__chi__k=40000, score=0.8565687789799072, total=25.3min\n",
      "[CV] process__features__tf__chi__k=800, process__features__tf_idf__chi__k=2000 \n",
      "[CV]  process__features__tf__chi__k=500, process__features__tf_idf__chi__k=40000, score=0.8639455782312925, total=23.4min\n",
      "[CV] process__features__tf__chi__k=800, process__features__tf_idf__chi__k=2000 \n",
      "[CV]  process__features__tf__chi__k=800, process__features__tf_idf__chi__k=2000, score=0.8568778979907264, total=14.9min\n",
      "[CV] process__features__tf__chi__k=800, process__features__tf_idf__chi__k=5000 \n",
      "[CV]  process__features__tf__chi__k=500, process__features__tf_idf__chi__k=40000, score=0.8535603715170279, total=23.3min\n",
      "[CV] process__features__tf__chi__k=800, process__features__tf_idf__chi__k=5000 \n",
      "[CV]  process__features__tf__chi__k=800, process__features__tf_idf__chi__k=2000, score=0.8661100803957947, total=15.4min\n",
      "[CV] process__features__tf__chi__k=800, process__features__tf_idf__chi__k=5000 \n",
      "[CV]  process__features__tf__chi__k=800, process__features__tf_idf__chi__k=2000, score=0.848297213622291, total=14.5min\n",
      "[CV] process__features__tf__chi__k=800, process__features__tf_idf__chi__k=20000 \n",
      "[CV]  process__features__tf__chi__k=800, process__features__tf_idf__chi__k=5000, score=0.8519319938176197, total=19.1min\n",
      "[CV] process__features__tf__chi__k=800, process__features__tf_idf__chi__k=20000 \n",
      "[CV]  process__features__tf__chi__k=800, process__features__tf_idf__chi__k=5000, score=0.8688930117501547, total=18.9min\n",
      "[CV] process__features__tf__chi__k=800, process__features__tf_idf__chi__k=20000 \n",
      "[CV]  process__features__tf__chi__k=800, process__features__tf_idf__chi__k=5000, score=0.8535603715170279, total=19.0min\n",
      "[CV] process__features__tf__chi__k=800, process__features__tf_idf__chi__k=40000 \n",
      "[CV]  process__features__tf__chi__k=800, process__features__tf_idf__chi__k=20000, score=0.8531684698608965, total=22.4min\n",
      "[CV] process__features__tf__chi__k=800, process__features__tf_idf__chi__k=40000 \n",
      "[CV]  process__features__tf__chi__k=800, process__features__tf_idf__chi__k=20000, score=0.870439084724799, total=22.9min\n",
      "[CV] process__features__tf__chi__k=800, process__features__tf_idf__chi__k=40000 \n",
      "[CV]  process__features__tf__chi__k=800, process__features__tf_idf__chi__k=20000, score=0.8535603715170279, total=23.7min\n",
      "[CV]  process__features__tf__chi__k=800, process__features__tf_idf__chi__k=40000, score=0.8556414219474497, total=26.8min\n"
     ]
    },
    {
     "name": "stderr",
     "output_type": "stream",
     "text": [
      "[Parallel(n_jobs=-1)]: Done  46 out of  48 | elapsed: 346.7min remaining: 15.1min\n"
     ]
    },
    {
     "name": "stdout",
     "output_type": "stream",
     "text": [
      "[CV]  process__features__tf__chi__k=800, process__features__tf_idf__chi__k=40000, score=0.8645640074211502, total=20.3min\n",
      "[CV]  process__features__tf__chi__k=800, process__features__tf_idf__chi__k=40000, score=0.8501547987616099, total=17.6min\n"
     ]
    },
    {
     "name": "stderr",
     "output_type": "stream",
     "text": [
      "[Parallel(n_jobs=-1)]: Done  48 out of  48 | elapsed: 361.5min finished\n"
     ]
    },
    {
     "name": "stdout",
     "output_type": "stream",
     "text": [
      "score_1_tf_idf__chi__k:  5000\n",
      "score_1_tf__chi__k:  500\n"
     ]
    },
    {
     "data": {
      "text/plain": [
       "([mean: 0.85689, std: 0.00893, params: {'process__features__tf__chi__k': 100, 'process__features__tf_idf__chi__k': 2000},\n",
       "  mean: 0.85761, std: 0.00751, params: {'process__features__tf__chi__k': 100, 'process__features__tf_idf__chi__k': 5000},\n",
       "  mean: 0.85844, std: 0.00616, params: {'process__features__tf__chi__k': 100, 'process__features__tf_idf__chi__k': 20000},\n",
       "  mean: 0.85916, std: 0.00568, params: {'process__features__tf__chi__k': 100, 'process__features__tf_idf__chi__k': 40000},\n",
       "  mean: 0.85576, std: 0.00608, params: {'process__features__tf__chi__k': 300, 'process__features__tf_idf__chi__k': 2000},\n",
       "  mean: 0.85854, std: 0.00498, params: {'process__features__tf__chi__k': 300, 'process__features__tf_idf__chi__k': 5000},\n",
       "  mean: 0.85720, std: 0.00602, params: {'process__features__tf__chi__k': 300, 'process__features__tf_idf__chi__k': 20000},\n",
       "  mean: 0.85761, std: 0.00664, params: {'process__features__tf__chi__k': 300, 'process__features__tf_idf__chi__k': 40000},\n",
       "  mean: 0.85689, std: 0.00526, params: {'process__features__tf__chi__k': 500, 'process__features__tf_idf__chi__k': 2000},\n",
       "  mean: 0.85926, std: 0.00756, params: {'process__features__tf__chi__k': 500, 'process__features__tf_idf__chi__k': 5000},\n",
       "  mean: 0.85761, std: 0.00540, params: {'process__features__tf__chi__k': 500, 'process__features__tf_idf__chi__k': 20000},\n",
       "  mean: 0.85803, std: 0.00436, params: {'process__features__tf__chi__k': 500, 'process__features__tf_idf__chi__k': 40000},\n",
       "  mean: 0.85710, std: 0.00727, params: {'process__features__tf__chi__k': 800, 'process__features__tf_idf__chi__k': 2000},\n",
       "  mean: 0.85813, std: 0.00764, params: {'process__features__tf__chi__k': 800, 'process__features__tf_idf__chi__k': 5000},\n",
       "  mean: 0.85906, std: 0.00805, params: {'process__features__tf__chi__k': 800, 'process__features__tf_idf__chi__k': 20000},\n",
       "  mean: 0.85679, std: 0.00594, params: {'process__features__tf__chi__k': 800, 'process__features__tf_idf__chi__k': 40000}],\n",
       " {'process__features__tf__chi__k': 500,\n",
       "  'process__features__tf_idf__chi__k': 5000},\n",
       " 0.859263841633158)"
      ]
     },
     "execution_count": 43,
     "metadata": {},
     "output_type": "execute_result"
    }
   ],
   "source": [
    "clf = GridSearchCV(pipeline, param_grid=param_grid_0, \n",
    "                   cv = cv, scoring=score_1, n_jobs=-1, verbose=10)\n",
    "clf.fit(X_train, y_train)\n",
    "score_1_best_para['tf_idf__chi__k'] = clf.best_params_['process__features__tf_idf__chi__k']\n",
    "score_1_best_para['tf__chi__k'] = clf.best_params_['process__features__tf__chi__k']\n",
    "print('score_1_tf_idf__chi__k: ', score_1_best_para['tf_idf__chi__k'])\n",
    "print('score_1_tf__chi__k: ', score_1_best_para['tf__chi__k'])\n",
    "clf.grid_scores_, clf.best_params_, clf.best_score_"
   ]
  },
  {
   "cell_type": "code",
   "execution_count": null,
   "metadata": {
    "ExecuteTime": {
     "end_time": "2018-08-20T10:27:13.907638Z",
     "start_time": "2018-08-20T10:09:51.871Z"
    },
    "collapsed": true
   },
   "outputs": [],
   "source": [
    "pipeline = Pipeline([('process', combined_features), \n",
    "                     ('classifier', XGBClassifier(max_depth = 7, gamma = 0,\n",
    "                                                  objective='multi:softmax', num_class=8))])\n",
    "\n",
    "param_grid_0 = dict(process__features__tf_idf__chi__k = [2000, 5000, 20000, 40000 ],\n",
    "                   process__features__tf__chi__k = [50,100, 500]) \n",
    "param_grid_0"
   ]
  },
  {
   "cell_type": "code",
   "execution_count": null,
   "metadata": {
    "ExecuteTime": {
     "end_time": "2018-08-20T10:27:13.908953Z",
     "start_time": "2018-08-20T10:09:54.479Z"
    },
    "collapsed": true
   },
   "outputs": [],
   "source": [
    "clf = GridSearchCV(pipeline, param_grid=param_grid_0, \n",
    "                   cv = cv, scoring=score_2, n_jobs=-1, verbose=10)\n",
    "clf.fit(X_train, y_train)\n",
    "score_2_best_para['tf_idf__chi__k'] = clf.best_params_['process__features__tf_idf__chi__k']\n",
    "score_2_best_para['tf__chi__k'] = clf.best_params_['process__features__tf__chi__k']\n",
    "print('score_2_tf_idf__chi__k: ', score_2_best_para['tf_idf__chi__k'])\n",
    "print('score_2_tf__chi__k: ', score_2_best_para['tf__chi__k'])\n",
    "clf.grid_scores_, clf.best_params_, clf.best_score_"
   ]
  },
  {
   "cell_type": "markdown",
   "metadata": {},
   "source": [
    "## combined_features"
   ]
  },
  {
   "cell_type": "code",
   "execution_count": 44,
   "metadata": {
    "ExecuteTime": {
     "end_time": "2018-08-22T15:54:22.137578Z",
     "start_time": "2018-08-22T15:54:22.115221Z"
    },
    "collapsed": true
   },
   "outputs": [],
   "source": [
    "combined_features_1 = Pipeline([\n",
    "                        ('features', FeatureUnion([\n",
    "                            ('tf_idf', Pipeline([\n",
    "                                ('counts', CountVectorizer(max_df=0.95, min_df=2)),\n",
    "                                ('tf_idf', TfidfTransformer()),\n",
    "                                ('chi', SelectKBest(chi2, k=score_1_best_para['tf_idf__chi__k']))\n",
    "                            ])),\n",
    "                            ('len_stats', StatsFeatures_cor()),\n",
    "                            ('tf', Pipeline([\n",
    "                                ('tf_k', Statskeywords(topk = 5000)),\n",
    "                                ('chi', SelectKBest(chi2, k=score_1_best_para['tf__chi__k']))])),\n",
    "                        ])),\n",
    "                        ('standard', StandardScaler(with_mean=False)),\n",
    "                    ])"
   ]
  },
  {
   "cell_type": "code",
   "execution_count": 45,
   "metadata": {
    "ExecuteTime": {
     "end_time": "2018-08-22T16:10:31.830505Z",
     "start_time": "2018-08-22T15:54:22.140247Z"
    }
   },
   "outputs": [
    {
     "name": "stdout",
     "output_type": "stream",
     "text": [
      "0.9962882771419734\n",
      "accuracy_score:  0.8638441183545826\n",
      "             precision    recall  f1-score   support\n",
      "\n",
      "          1       0.82      0.86      0.84       537\n",
      "          2       0.81      0.77      0.79       526\n",
      "          3       0.89      0.74      0.80       220\n",
      "          4       0.83      0.80      0.81       290\n",
      "          5       0.83      0.87      0.85       505\n",
      "          6       0.91      0.94      0.92       470\n",
      "          7       0.92      0.92      0.92       493\n",
      "          8       0.89      0.89      0.89      1116\n",
      "\n",
      "avg / total       0.86      0.86      0.86      4157\n",
      "\n",
      "confusion_matrix: \n",
      "[[461  30   1   7   5   0   4  29]\n",
      " [ 34 405   6  15  16  15   1  34]\n",
      " [  4   8 162   1  12  11   6  16]\n",
      " [ 11   8   1 231  19   1   0  19]\n",
      " [  5  32   4   5 437   6   7   9]\n",
      " [  1   3   2   0   2 444   9   9]\n",
      " [  4   3   2   0  13   7 454  10]\n",
      " [ 45  10   5  20  21   6  12 997]]\n"
     ]
    }
   ],
   "source": [
    "pipeline = Pipeline([('process', combined_features_1), \n",
    "                     ('classifier', XGBClassifier(max_depth = 7, gamma = 0, \n",
    "                                                  objective='multi:softmax', num_class=8))])\n",
    "\n",
    "pipeline.fit(X_train, y_train)\n",
    "print(pipeline.score(X_train, y_train))\n",
    "y_pred_class = pipeline.predict(X_test)\n",
    "print('accuracy_score: ', metrics.accuracy_score(y_test, y_pred_class)) # 指所有分类正确的百分比\n",
    "print(metrics.classification_report(y_test, y_pred_class))\n",
    "print('confusion_matrix: ')\n",
    "print( metrics.confusion_matrix(y_test, y_pred_class))"
   ]
  },
  {
   "cell_type": "code",
   "execution_count": 46,
   "metadata": {
    "ExecuteTime": {
     "end_time": "2018-08-22T16:10:31.853536Z",
     "start_time": "2018-08-22T16:10:31.833722Z"
    }
   },
   "outputs": [
    {
     "ename": "KeyError",
     "evalue": "'tf_idf__chi__k'",
     "output_type": "error",
     "traceback": [
      "\u001b[0;31m---------------------------------------------------------------------------\u001b[0m",
      "\u001b[0;31mKeyError\u001b[0m                                  Traceback (most recent call last)",
      "\u001b[0;32m<ipython-input-46-9f9b37bf6309>\u001b[0m in \u001b[0;36m<module>\u001b[0;34m()\u001b[0m\n\u001b[1;32m      4\u001b[0m                                 \u001b[0;34m(\u001b[0m\u001b[0;34m'counts'\u001b[0m\u001b[0;34m,\u001b[0m \u001b[0mCountVectorizer\u001b[0m\u001b[0;34m(\u001b[0m\u001b[0mmax_df\u001b[0m\u001b[0;34m=\u001b[0m\u001b[0;36m0.95\u001b[0m\u001b[0;34m,\u001b[0m \u001b[0mmin_df\u001b[0m\u001b[0;34m=\u001b[0m\u001b[0;36m2\u001b[0m\u001b[0;34m)\u001b[0m\u001b[0;34m)\u001b[0m\u001b[0;34m,\u001b[0m\u001b[0;34m\u001b[0m\u001b[0m\n\u001b[1;32m      5\u001b[0m                                 \u001b[0;34m(\u001b[0m\u001b[0;34m'tf_idf'\u001b[0m\u001b[0;34m,\u001b[0m \u001b[0mTfidfTransformer\u001b[0m\u001b[0;34m(\u001b[0m\u001b[0;34m)\u001b[0m\u001b[0;34m)\u001b[0m\u001b[0;34m,\u001b[0m\u001b[0;34m\u001b[0m\u001b[0m\n\u001b[0;32m----> 6\u001b[0;31m                                 \u001b[0;34m(\u001b[0m\u001b[0;34m'chi'\u001b[0m\u001b[0;34m,\u001b[0m \u001b[0mSelectKBest\u001b[0m\u001b[0;34m(\u001b[0m\u001b[0mchi2\u001b[0m\u001b[0;34m,\u001b[0m \u001b[0mk\u001b[0m\u001b[0;34m=\u001b[0m\u001b[0mscore_2_best_para\u001b[0m\u001b[0;34m[\u001b[0m\u001b[0;34m'tf_idf__chi__k'\u001b[0m\u001b[0;34m]\u001b[0m\u001b[0;34m)\u001b[0m\u001b[0;34m)\u001b[0m\u001b[0;34m\u001b[0m\u001b[0m\n\u001b[0m\u001b[1;32m      7\u001b[0m                             ])),\n\u001b[1;32m      8\u001b[0m                             \u001b[0;34m(\u001b[0m\u001b[0;34m'len_stats'\u001b[0m\u001b[0;34m,\u001b[0m \u001b[0mStatsFeatures_cor\u001b[0m\u001b[0;34m(\u001b[0m\u001b[0;34m)\u001b[0m\u001b[0;34m)\u001b[0m\u001b[0;34m,\u001b[0m\u001b[0;34m\u001b[0m\u001b[0m\n",
      "\u001b[0;31mKeyError\u001b[0m: 'tf_idf__chi__k'"
     ]
    }
   ],
   "source": [
    "combined_features_2 = Pipeline([\n",
    "                        ('features', FeatureUnion([\n",
    "                            ('tf_idf', Pipeline([\n",
    "                                ('counts', CountVectorizer(max_df=0.95, min_df=2)),\n",
    "                                ('tf_idf', TfidfTransformer()),\n",
    "                                ('chi', SelectKBest(chi2, k=score_2_best_para['tf_idf__chi__k']))\n",
    "                            ])),\n",
    "                            ('len_stats', StatsFeatures_cor()),\n",
    "                            ('tf', Pipeline([\n",
    "                                ('tf_k', Statskeywords(topk = 5000)),\n",
    "                                ('chi', SelectKBest(chi2, k=score_2_best_para['tf__chi__k']))])),\n",
    "                        ])),\n",
    "                        ('standard', StandardScaler(with_mean=False)),\n",
    "                    ])"
   ]
  },
  {
   "cell_type": "code",
   "execution_count": null,
   "metadata": {
    "ExecuteTime": {
     "end_time": "2018-08-22T16:10:31.854608Z",
     "start_time": "2018-08-22T09:47:43.831Z"
    },
    "collapsed": true
   },
   "outputs": [],
   "source": [
    "pipeline = Pipeline([('process', combined_features_2), \n",
    "                     ('classifier', XGBClassifier(max_depth = 7, gamma = 0, \n",
    "                                                  objective='multi:softmax', num_class=8))])\n",
    "\n",
    "pipeline.fit(X_train, y_train)\n",
    "print(pipeline.score(X_train, y_train))\n",
    "y_pred_class = pipeline.predict(X_test)\n",
    "print('accuracy_score: ', metrics.accuracy_score(y_test, y_pred_class)) # 指所有分类正确的百分比\n",
    "print(metrics.classification_report(y_test, y_pred_class))\n",
    "print('confusion_matrix: ')\n",
    "print( metrics.confusion_matrix(y_test, y_pred_class))"
   ]
  },
  {
   "cell_type": "markdown",
   "metadata": {},
   "source": [
    "## n_estimators、learning_rate"
   ]
  },
  {
   "cell_type": "code",
   "execution_count": null,
   "metadata": {
    "ExecuteTime": {
     "end_time": "2018-08-20T10:27:13.915334Z",
     "start_time": "2018-08-20T10:09:56.038Z"
    },
    "collapsed": true
   },
   "outputs": [],
   "source": [
    "pipeline = Pipeline([('process', combined_features_1), \n",
    "                     ('classifier', XGBClassifier(max_depth = 7, gamma = 0, \n",
    "                                                  objective='multi:softmax', num_class=8))])\n",
    "\n",
    "param_grid_1 = dict(process__classifier__n_estimators = range(100,271,30), # 迭代次数/分类器个数\n",
    "                   process__classifier__learning_rate=[0.01, 0.1, 0.3]) \n",
    "param_grid_1"
   ]
  },
  {
   "cell_type": "code",
   "execution_count": null,
   "metadata": {
    "ExecuteTime": {
     "end_time": "2018-08-20T10:27:13.916663Z",
     "start_time": "2018-08-20T10:09:56.232Z"
    },
    "collapsed": true
   },
   "outputs": [],
   "source": [
    "clf = GridSearchCV(pipeline, param_grid=param_grid_1, \n",
    "                   cv = cv, scoring=score_1, n_jobs=-1)\n",
    "clf.fit(X_train, y_train)\n",
    "score_1_best_para['n_estimators'] = clf.best_params_['process__classifier__n_estimators']\n",
    "score_1_best_para['learning_rate'] = clf.best_params_['process__classifier__learning_rate']\n",
    "print('score_1_n_estimators: ', score_1_best_para['n_estimators'])\n",
    "print('score_1_learning_rate: ', score_1_best_para['learning_rate'])\n",
    "clf.grid_scores_, clf.best_params_, clf.best_score_"
   ]
  },
  {
   "cell_type": "code",
   "execution_count": null,
   "metadata": {
    "ExecuteTime": {
     "end_time": "2018-08-20T10:27:13.917926Z",
     "start_time": "2018-08-20T10:09:56.414Z"
    },
    "collapsed": true
   },
   "outputs": [],
   "source": [
    "pipeline = Pipeline([('process', combined_features_1), \n",
    "                     ('classifier', XGBClassifier(max_depth = 7, gamma = 0, \n",
    "                                                  n_estimators = score_1_best_para['n_estimators'],\n",
    "                                                  learning_rate = score_1_best_para['learning_rate'],                                                  \n",
    "                                                  objective='multi:softmax', num_class=8))])\n",
    "\n",
    "pipeline.fit(X_train, y_train)\n",
    "print(pipeline.score(X_train, y_train))\n",
    "y_pred_class = pipeline.predict(X_test)\n",
    "print('accuracy_score: ', metrics.accuracy_score(y_test, y_pred_class)) # 指所有分类正确的百分比\n",
    "print(metrics.classification_report(y_test, y_pred_class))\n",
    "print('confusion_matrix: ')\n",
    "print( metrics.confusion_matrix(y_test, y_pred_class))"
   ]
  },
  {
   "cell_type": "code",
   "execution_count": null,
   "metadata": {
    "ExecuteTime": {
     "end_time": "2018-08-20T10:27:13.919213Z",
     "start_time": "2018-08-20T10:09:56.609Z"
    },
    "collapsed": true
   },
   "outputs": [],
   "source": [
    "pipeline = Pipeline([('process', combined_features_2), \n",
    "                     ('classifier', XGBClassifier(max_depth = 7, gamma = 0, \n",
    "                                                  objective='multi:softmax', num_class=2))])\n",
    "\n",
    "param_grid_1 = dict(process__classifier__n_estimators = range(30,161,20), # 迭代次数/分类器个数\n",
    "                   process__classifier__learning_rate=[0.01, 0.1, 0.3]) \n",
    "param_grid_1"
   ]
  },
  {
   "cell_type": "code",
   "execution_count": null,
   "metadata": {
    "ExecuteTime": {
     "end_time": "2018-08-20T10:27:13.920719Z",
     "start_time": "2018-08-20T10:09:56.799Z"
    },
    "collapsed": true
   },
   "outputs": [],
   "source": [
    "clf = GridSearchCV(pipeline, param_grid=param_grid_1, \n",
    "                   cv = cv, scoring=score_2, n_jobs=-1)\n",
    "clf.fit(X_train, y_train)\n",
    "score_2_best_para['n_estimators'] = clf.best_params_['process__classifier__n_estimators']\n",
    "score_2_best_para['learning_rate'] = clf.best_params_['process__classifier__learning_rate']\n",
    "print('score_2_n_estimators: ', score_2_best_para['n_estimators'])\n",
    "print('score_2_learning_rate: ', score_2_best_para['learning_rate'])\n",
    "clf.grid_scores_, clf.best_params_, clf.best_score_"
   ]
  },
  {
   "cell_type": "code",
   "execution_count": null,
   "metadata": {
    "ExecuteTime": {
     "end_time": "2018-08-20T10:27:13.922554Z",
     "start_time": "2018-08-20T10:09:56.966Z"
    },
    "collapsed": true
   },
   "outputs": [],
   "source": [
    "pipeline = Pipeline([('process', combined_features_1), \n",
    "                     ('classifier', XGBClassifier(max_depth = 7, gamma = 0, \n",
    "                                                  n_estimators = score_2_best_para['n_estimators'],\n",
    "                                                  learning_rate = score_2_best_para['learning_rate'],                                                  \n",
    "                                                  objective='multi:softmax', num_class=8))])\n",
    "\n",
    "pipeline.fit(X_train, y_train)\n",
    "print(pipeline.score(X_train, y_train))\n",
    "y_pred_class = pipeline.predict(X_test)\n",
    "print('accuracy_score: ', metrics.accuracy_score(y_test, y_pred_class)) # 指所有分类正确的百分比\n",
    "print(metrics.classification_report(y_test, y_pred_class))\n",
    "print('confusion_matrix: ')\n",
    "print( metrics.confusion_matrix(y_test, y_pred_class))"
   ]
  },
  {
   "cell_type": "markdown",
   "metadata": {},
   "source": [
    "## max_depth、min_child_weight"
   ]
  },
  {
   "cell_type": "code",
   "execution_count": null,
   "metadata": {
    "ExecuteTime": {
     "end_time": "2018-08-20T10:27:13.923982Z",
     "start_time": "2018-08-20T10:09:57.335Z"
    },
    "collapsed": true
   },
   "outputs": [],
   "source": [
    "pipeline = Pipeline([('process', combined_features_1), \n",
    "                     ('classifier', XGBClassifier(n_estimators = score_1_best_para['n_estimators'],\n",
    "                                                  learning_rate = score_1_best_para['learning_rate'],\n",
    "                                                  objective='multi:softmax', num_class=2))])\n",
    "\n",
    "param_grid_2 = dict(process__classifier__max_depth=range(3,14,2), # 决策树最大深度\n",
    "                    process__classifier__min_child_weight=[4, 5, 6]) \n",
    "param_grid_2"
   ]
  },
  {
   "cell_type": "code",
   "execution_count": null,
   "metadata": {
    "ExecuteTime": {
     "end_time": "2018-08-20T10:27:13.925314Z",
     "start_time": "2018-08-20T10:09:57.966Z"
    },
    "collapsed": true
   },
   "outputs": [],
   "source": [
    "clf = GridSearchCV(pipeline, param_grid=param_grid_2, \n",
    "                   cv = cv, scoring=score_1, n_jobs=-1)\n",
    "clf.fit(X_train, y_train)\n",
    "score_1_best_para['max_depth'] = clf.best_params_['process__classifier__max_depth']\n",
    "score_1_best_para['min_child_weight'] = clf.best_params_['process__classifier__min_child_weight']\n",
    "print('score_1_max_depth: ', score_1_best_para['max_depth'])\n",
    "print('score_1_min_child_weight: ', score_1_best_para['min_child_weight'])\n",
    "clf.grid_scores_, clf.best_params_, clf.best_score_"
   ]
  },
  {
   "cell_type": "code",
   "execution_count": null,
   "metadata": {
    "ExecuteTime": {
     "end_time": "2018-08-20T10:27:13.926787Z",
     "start_time": "2018-08-20T10:09:58.607Z"
    },
    "collapsed": true
   },
   "outputs": [],
   "source": [
    "pipeline = Pipeline([('process', combined_features_1), \n",
    "                     ('classifier', XGBClassifier(gamma = 0, \n",
    "                                                  n_estimators = score_1_best_para['n_estimators'],\n",
    "                                                  learning_rate = score_1_best_para['learning_rate'],        \n",
    "                                                  max_depth = score_1_best_para['max_depth'],\n",
    "                                                  min_child_weight = score_1_best_para['min_child_weight'],                                                   \n",
    "                                                  objective='multi:softmax', num_class=8))])\n",
    "\n",
    "pipeline.fit(X_train, y_train)\n",
    "print(pipeline.score(X_train, y_train))\n",
    "y_pred_class = pipeline.predict(X_test)\n",
    "print('accuracy_score: ', metrics.accuracy_score(y_test, y_pred_class)) # 指所有分类正确的百分比\n",
    "print(metrics.classification_report(y_test, y_pred_class))\n",
    "print('confusion_matrix: ')\n",
    "print( metrics.confusion_matrix(y_test, y_pred_class))"
   ]
  },
  {
   "cell_type": "code",
   "execution_count": null,
   "metadata": {
    "ExecuteTime": {
     "end_time": "2018-08-20T10:27:13.928048Z",
     "start_time": "2018-08-20T10:09:59.472Z"
    },
    "collapsed": true
   },
   "outputs": [],
   "source": [
    "score_1_best_para"
   ]
  },
  {
   "cell_type": "code",
   "execution_count": null,
   "metadata": {
    "ExecuteTime": {
     "end_time": "2018-08-20T10:27:13.929416Z",
     "start_time": "2018-08-20T10:10:02.398Z"
    },
    "collapsed": true
   },
   "outputs": [],
   "source": [
    "combined_features_1 = Pipeline([\n",
    "                        ('features', FeatureUnion([\n",
    "                            ('tf_idf', Pipeline([\n",
    "                                ('counts', CountVectorizer(max_df=0.95, min_df=2)),\n",
    "                                ('tf_idf', TfidfTransformer()),\n",
    "                                ('chi', SelectKBest(chi2, k=20000))\n",
    "                            ])),\n",
    "                            ('len_stats', StatsFeatures_cor()),\n",
    "                            ('tf', Pipeline([\n",
    "                                ('tf_k', Statskeywords(topk = 5000)),\n",
    "                                ('chi', SelectKBest(chi2, k=500))])),\n",
    "                        ])),\n",
    "                        ('standard', StandardScaler(with_mean=False)),\n",
    "                    ])"
   ]
  },
  {
   "cell_type": "code",
   "execution_count": null,
   "metadata": {
    "ExecuteTime": {
     "end_time": "2018-08-20T10:27:13.930764Z",
     "start_time": "2018-08-20T10:10:03.677Z"
    },
    "collapsed": true
   },
   "outputs": [],
   "source": [
    "pipeline = Pipeline([('process', combined_features_1), \n",
    "                     ('classifier', XGBClassifier(gamma = 0, \n",
    "                                                  n_estimators = 160,\n",
    "                                                  learning_rate = 0.1,        \n",
    "                                                  max_depth = 5,\n",
    "                                                  min_child_weight = 4,                                                   \n",
    "                                                  objective='multi:softmax', num_class=8))])\n",
    "\n",
    "pipeline.fit(X_train, y_train)\n",
    "print(pipeline.score(X_train, y_train))\n",
    "y_pred_class = pipeline.predict(X_test)\n",
    "print('accuracy_score: ', metrics.accuracy_score(y_test, y_pred_class)) # 指所有分类正确的百分比\n",
    "print(metrics.classification_report(y_test, y_pred_class))\n",
    "print('confusion_matrix: ')\n",
    "print( metrics.confusion_matrix(y_test, y_pred_class))"
   ]
  },
  {
   "cell_type": "markdown",
   "metadata": {
    "ExecuteTime": {
     "end_time": "2018-06-13T09:51:12.095774Z",
     "start_time": "2018-06-13T09:51:11.751754Z"
    },
    "collapsed": true
   },
   "source": [
    "# 模型保存"
   ]
  },
  {
   "cell_type": "code",
   "execution_count": 22,
   "metadata": {
    "ExecuteTime": {
     "end_time": "2018-08-22T09:30:59.968247Z",
     "start_time": "2018-08-22T09:30:54.668529Z"
    }
   },
   "outputs": [
    {
     "data": {
      "text/plain": [
       "['model/circ_8classifier_0822.pkl.z']"
      ]
     },
     "execution_count": 22,
     "metadata": {},
     "output_type": "execute_result"
    }
   ],
   "source": [
    "from sklearn.externals import joblib\n",
    "joblib.dump(pipeline, \"model/circ_8classifier_0822.pkl.z\")"
   ]
  },
  {
   "cell_type": "markdown",
   "metadata": {},
   "source": [
    "# 保存本文件"
   ]
  },
  {
   "cell_type": "code",
   "execution_count": 56,
   "metadata": {
    "ExecuteTime": {
     "end_time": "2018-07-03T06:53:13.560161Z",
     "start_time": "2018-07-03T06:53:13.537160Z"
    },
    "collapsed": true
   },
   "outputs": [],
   "source": [
    "if 0:\n",
    "    import datetime as dt\n",
    "    \n",
    "    def output_HTML(read_file, output_file):\n",
    "        from nbconvert import HTMLExporter\n",
    "        import codecs\n",
    "        import nbformat\n",
    "        exporter = HTMLExporter()\n",
    "        # read_file is '.ipynb', output_file is '.html'\n",
    "        output_notebook = nbformat.read(read_file, as_version=4)\n",
    "        output, resources = exporter.from_notebook_node(output_notebook)\n",
    "        codecs.open(output_file, 'w', encoding='utf-8').write(output)\n",
    "\n",
    "    html_file_folder = 'html_files'\n",
    "    if not os.path.exists(html_file_folder):\n",
    "        os.makedirs(html_file_folder)\n",
    "\n",
    "    today = dt.datetime.now().strftime('%Y%m%d')\n",
    "    current_file = 'circ_cor_model_2_train.ipynb'\n",
    "    output_file = 'html_files\\%s_%s.html'%(os.path.splitext(current_file)[0], today)\n",
    "    output_HTML(current_file, output_file)"
   ]
  }
 ],
 "metadata": {
  "kernelspec": {
   "display_name": "Python 3",
   "language": "python",
   "name": "python3"
  },
  "language_info": {
   "codemirror_mode": {
    "name": "ipython",
    "version": 3
   },
   "file_extension": ".py",
   "mimetype": "text/x-python",
   "name": "python",
   "nbconvert_exporter": "python",
   "pygments_lexer": "ipython3",
   "version": "3.6.3"
  },
  "toc": {
   "nav_menu": {},
   "number_sections": true,
   "sideBar": true,
   "skip_h1_title": false,
   "title_cell": "Table of Contents",
   "title_sidebar": "Contents",
   "toc_cell": false,
   "toc_position": {
    "height": "calc(100% - 180px)",
    "left": "10px",
    "top": "150px",
    "width": "376px"
   },
   "toc_section_display": true,
   "toc_window_display": true
  },
  "varInspector": {
   "cols": {
    "lenName": 16,
    "lenType": 16,
    "lenVar": 40
   },
   "kernels_config": {
    "python": {
     "delete_cmd_postfix": "",
     "delete_cmd_prefix": "del ",
     "library": "var_list.py",
     "varRefreshCmd": "print(var_dic_list())"
    },
    "r": {
     "delete_cmd_postfix": ") ",
     "delete_cmd_prefix": "rm(",
     "library": "var_list.r",
     "varRefreshCmd": "cat(var_dic_list()) "
    }
   },
   "types_to_exclude": [
    "module",
    "function",
    "builtin_function_or_method",
    "instance",
    "_Feature"
   ],
   "window_display": false
  }
 },
 "nbformat": 4,
 "nbformat_minor": 2
}
