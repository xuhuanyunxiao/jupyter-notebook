{
 "cells": [
  {
   "cell_type": "markdown",
   "metadata": {},
   "source": [
    "# 基本设置"
   ]
  },
  {
   "cell_type": "code",
   "execution_count": 44,
   "metadata": {
    "ExecuteTime": {
     "end_time": "2018-08-03T07:32:59.171908Z",
     "start_time": "2018-08-03T07:32:59.164979Z"
    }
   },
   "outputs": [],
   "source": [
    "\n",
    "import sys\n",
    "import re\n",
    "import time\n",
    "import string\n",
    "\n",
    "%matplotlib inline\n",
    "import numpy as np\n",
    "import pandas as pd\n",
    "import pre_cor_1\n",
    "import os\n",
    "from sqlalchemy import create_engine\n",
    "from pandas.io import sql\n",
    "import re \n",
    "import warnings\n",
    "warnings.filterwarnings('ignore')"
   ]
  },
  {
   "cell_type": "markdown",
   "metadata": {},
   "source": [
    "# 读取文件"
   ]
  },
  {
   "cell_type": "code",
   "execution_count": 2,
   "metadata": {
    "ExecuteTime": {
     "end_time": "2018-08-03T05:38:57.432714Z",
     "start_time": "2018-08-03T05:38:57.429201Z"
    }
   },
   "outputs": [],
   "source": [
    "#这两个文件是自行爬取的正文\n",
    "file_list1 = ['20180723_revise_clearn.xlsx','20180725_clearn.xlsx']"
   ]
  },
  {
   "cell_type": "code",
   "execution_count": 3,
   "metadata": {
    "ExecuteTime": {
     "end_time": "2018-08-03T05:38:58.402239Z",
     "start_time": "2018-08-03T05:38:57.959923Z"
    },
    "scrolled": true
   },
   "outputs": [
    {
     "name": "stdout",
     "output_type": "stream",
     "text": [
      "(1410, 5) 20180723_revise_clearn.xlsx\n",
      "(1620, 5) 20180725_clearn.xlsx\n",
      "总数： (3030, 5)\n",
      "     label                  title  \\\n",
      "1554    噪音  听说出来了一款保证续保的医疗险?真相如何?   \n",
      "\n",
      "                                              content  \\\n",
      "1554   听说出来了一款保证续保的医疗险?真相如何?\\n\\r2018-01-03 23:46\\n\"}}   \n",
      "\n",
      "                                                    url              title_url  \n",
      "1554  http://www.orz520.com/a/economy/2018/0103/8582...  听说出来了一款保证续保的医疗险?真相如何?  \n"
     ]
    },
    {
     "data": {
      "text/html": [
       "<div>\n",
       "<style scoped>\n",
       "    .dataframe tbody tr th:only-of-type {\n",
       "        vertical-align: middle;\n",
       "    }\n",
       "\n",
       "    .dataframe tbody tr th {\n",
       "        vertical-align: top;\n",
       "    }\n",
       "\n",
       "    .dataframe thead th {\n",
       "        text-align: right;\n",
       "    }\n",
       "</style>\n",
       "<table border=\"1\" class=\"dataframe\">\n",
       "  <thead>\n",
       "    <tr style=\"text-align: right;\">\n",
       "      <th></th>\n",
       "      <th>label</th>\n",
       "      <th>title</th>\n",
       "      <th>content</th>\n",
       "      <th>url</th>\n",
       "      <th>title_url</th>\n",
       "    </tr>\n",
       "  </thead>\n",
       "  <tbody>\n",
       "    <tr>\n",
       "      <th>0</th>\n",
       "      <td>噪音</td>\n",
       "      <td>做好规划不当月光族不做守财奴</td>\n",
       "      <td>一一妈妈说理财·出品\\n (图片)\\n\\r月光族困惑：···这个月才过半，各种经费不够啊！...</td>\n",
       "      <td>https://xueqiu.com/1983578372/98551727</td>\n",
       "      <td>妈妈说理财: 做好规划不当月光族不做守财奴 一一妈妈说理财·出品 月光族困惑：···这个月才...</td>\n",
       "    </tr>\n",
       "    <tr>\n",
       "      <th>1</th>\n",
       "      <td>噪音</td>\n",
       "      <td>做车险代理的前景如何 谊信合让你的财富事业迈上新高度</td>\n",
       "      <td>小本创业网\\n\\r»\\n\\r加盟项目资讯›\\n\\r»\\n\\r资讯中心\\n\\r»\\n\\r做车...</td>\n",
       "      <td>http://jxhb.91cy.cn/119134.shtml</td>\n",
       "      <td>做车险代理的前景如何 谊信合让你的财富事业迈上新高度</td>\n",
       "    </tr>\n",
       "    <tr>\n",
       "      <th>2</th>\n",
       "      <td>产品销售</td>\n",
       "      <td>坐飞机必须买保险？航意险适合哪些人？</td>\n",
       "      <td>坐飞机必须买保险？航意险适合哪些人？\\n\\r　　随着经济的发展，大家对生活品质的追求，越来...</td>\n",
       "      <td>http://www.dtnews.cn/2018/january/99502C93.html</td>\n",
       "      <td>坐飞机必须买保险？航意险适合哪些人？\\r\\n        - 大同新闻网</td>\n",
       "    </tr>\n",
       "    <tr>\n",
       "      <th>3</th>\n",
       "      <td>噪音</td>\n",
       "      <td>左权县人民政府金融工作办公室2017年统筹整合财政资金项目公示</td>\n",
       "      <td>\\n\\r为推进我县\\n“五位一体”扶贫小额信贷工作，各承贷银行对全县建档立卡贫困户累计备案...</td>\n",
       "      <td>http://www.zqxzf.com/newscont.asp?id=61811&amp;pid...</td>\n",
       "      <td>左权县人民政府金融工作办公室2017年统筹整合财政资金项目公示</td>\n",
       "    </tr>\n",
       "    <tr>\n",
       "      <th>4</th>\n",
       "      <td>消费服务</td>\n",
       "      <td>昨天车险报案比平常翻倍</td>\n",
       "      <td>(图片)\\n\\r雪中骑行滑倒 朱小军 摄\\n\\r　　一场暴雪让扬州各家保险公司忙翻了天，车...</td>\n",
       "      <td>http://3g.k.sohu.com/t/n253854349</td>\n",
       "      <td>昨天车险报案比平常翻倍</td>\n",
       "    </tr>\n",
       "  </tbody>\n",
       "</table>\n",
       "</div>"
      ],
      "text/plain": [
       "  label                            title  \\\n",
       "0    噪音                   做好规划不当月光族不做守财奴   \n",
       "1    噪音       做车险代理的前景如何 谊信合让你的财富事业迈上新高度   \n",
       "2  产品销售               坐飞机必须买保险？航意险适合哪些人？   \n",
       "3    噪音  左权县人民政府金融工作办公室2017年统筹整合财政资金项目公示   \n",
       "4  消费服务                      昨天车险报案比平常翻倍   \n",
       "\n",
       "                                             content  \\\n",
       "0   一一妈妈说理财·出品\\n (图片)\\n\\r月光族困惑：···这个月才过半，各种经费不够啊！...   \n",
       "1   小本创业网\\n\\r»\\n\\r加盟项目资讯›\\n\\r»\\n\\r资讯中心\\n\\r»\\n\\r做车...   \n",
       "2   坐飞机必须买保险？航意险适合哪些人？\\n\\r　　随着经济的发展，大家对生活品质的追求，越来...   \n",
       "3   \\n\\r为推进我县\\n“五位一体”扶贫小额信贷工作，各承贷银行对全县建档立卡贫困户累计备案...   \n",
       "4   (图片)\\n\\r雪中骑行滑倒 朱小军 摄\\n\\r　　一场暴雪让扬州各家保险公司忙翻了天，车...   \n",
       "\n",
       "                                                 url  \\\n",
       "0             https://xueqiu.com/1983578372/98551727   \n",
       "1                   http://jxhb.91cy.cn/119134.shtml   \n",
       "2    http://www.dtnews.cn/2018/january/99502C93.html   \n",
       "3  http://www.zqxzf.com/newscont.asp?id=61811&pid...   \n",
       "4                  http://3g.k.sohu.com/t/n253854349   \n",
       "\n",
       "                                           title_url  \n",
       "0  妈妈说理财: 做好规划不当月光族不做守财奴 一一妈妈说理财·出品 月光族困惑：···这个月才...  \n",
       "1                         做车险代理的前景如何 谊信合让你的财富事业迈上新高度  \n",
       "2              坐飞机必须买保险？航意险适合哪些人？\\r\\n        - 大同新闻网  \n",
       "3                    左权县人民政府金融工作办公室2017年统筹整合财政资金项目公示  \n",
       "4                                        昨天车险报案比平常翻倍  "
      ]
     },
     "execution_count": 3,
     "metadata": {},
     "output_type": "execute_result"
    }
   ],
   "source": [
    "cir_data_raw_1 = pd.DataFrame()\n",
    "for file_name in file_list1:\n",
    "    tmp_data = pd.read_excel('data/result/{0}'.format(file_name))\n",
    "    print(tmp_data.shape, file_name)\n",
    "    cir_data_raw_1 = pd.concat([cir_data_raw_1, tmp_data], axis = 0)\n",
    "\n",
    "# result.to_excel('data/result/class_data_raw_1.xlsx', index = False)\n",
    "print('总数：', cir_data_raw_1.shape)\n",
    "print(cir_data_raw_1[cir_data_raw_1['title']=='听说出来了一款保证续保的医疗险?真相如何?'])\n",
    "cir_data_raw_1.head()"
   ]
  },
  {
   "cell_type": "code",
   "execution_count": 4,
   "metadata": {
    "ExecuteTime": {
     "end_time": "2018-08-03T05:38:58.519457Z",
     "start_time": "2018-08-03T05:38:58.511598Z"
    }
   },
   "outputs": [
    {
     "data": {
      "text/plain": [
       "噪音        663\n",
       "监管        649\n",
       "公司内部管理    434\n",
       "其他相关报道    425\n",
       "资本市场      302\n",
       "产品销售      255\n",
       "消费服务      157\n",
       "行业        145\n",
       "Name: label, dtype: int64"
      ]
     },
     "execution_count": 4,
     "metadata": {},
     "output_type": "execute_result"
    }
   ],
   "source": [
    "cir_data_raw_1['label'].value_counts()"
   ]
  },
  {
   "cell_type": "code",
   "execution_count": 28,
   "metadata": {
    "ExecuteTime": {
     "end_time": "2018-08-03T07:21:10.165901Z",
     "start_time": "2018-08-03T07:21:10.158259Z"
    }
   },
   "outputs": [],
   "source": [
    "#这些文件是自身带有正文的文件\n",
    "file_list2 = ['20180727_circ_class_1.xlsx', '20180803_circ_class_1.xlsx', \n",
    "              '20180803_circ_class_2.xlsx', '20180803_circ_class_3.xlsx'] # 多个 sheet"
   ]
  },
  {
   "cell_type": "code",
   "execution_count": 29,
   "metadata": {
    "ExecuteTime": {
     "end_time": "2018-08-03T07:21:10.640827Z",
     "start_time": "2018-08-03T07:21:10.636561Z"
    }
   },
   "outputs": [],
   "source": [
    "import xlrd"
   ]
  },
  {
   "cell_type": "code",
   "execution_count": 31,
   "metadata": {
    "ExecuteTime": {
     "end_time": "2018-08-03T07:22:31.597788Z",
     "start_time": "2018-08-03T07:22:25.720825Z"
    }
   },
   "outputs": [
    {
     "name": "stdout",
     "output_type": "stream",
     "text": [
      "去空值前：  (4478, 3) 20180727_circ_class_1.xlsx 数据\n",
      "去空值后：  (4477, 3) 20180727_circ_class_1.xlsx 数据\n",
      "去空值前：  (74, 3) 20180803_circ_class_1.xlsx Sheet1\n",
      "去空值后：  (74, 3) 20180803_circ_class_1.xlsx Sheet1\n",
      "去空值前：  (706, 3) 20180803_circ_class_1.xlsx Sheet2\n",
      "去空值后：  (706, 3) 20180803_circ_class_1.xlsx Sheet2\n",
      "去空值前：  (397, 3) 20180803_circ_class_1.xlsx Sheet3\n",
      "去空值后：  (397, 3) 20180803_circ_class_1.xlsx Sheet3\n",
      "去空值前：  (519, 3) 20180803_circ_class_1.xlsx Sheet4\n",
      "去空值后：  (519, 3) 20180803_circ_class_1.xlsx Sheet4\n",
      "去空值前：  (117, 3) 20180803_circ_class_2.xlsx Sheet1\n",
      "去空值后：  (117, 3) 20180803_circ_class_2.xlsx Sheet1\n",
      "去空值前：  (73, 3) 20180803_circ_class_2.xlsx Sheet2\n",
      "去空值后：  (73, 3) 20180803_circ_class_2.xlsx Sheet2\n",
      "去空值前：  (113, 3) 20180803_circ_class_2.xlsx Sheet3\n",
      "去空值后：  (113, 3) 20180803_circ_class_2.xlsx Sheet3\n",
      "去空值前：  (94, 3) 20180803_circ_class_2.xlsx Sheet4\n",
      "去空值后：  (94, 3) 20180803_circ_class_2.xlsx Sheet4\n",
      "去空值前：  (49, 3) 20180803_circ_class_2.xlsx Sheet5\n",
      "去空值后：  (49, 3) 20180803_circ_class_2.xlsx Sheet5\n",
      "去空值前：  (216, 3) 20180803_circ_class_3.xlsx 公司内部管理\n",
      "去空值后：  (216, 3) 20180803_circ_class_3.xlsx 公司内部管理\n",
      "去空值前：  (18, 3) 20180803_circ_class_3.xlsx 产品销售\n",
      "去空值后：  (18, 3) 20180803_circ_class_3.xlsx 产品销售\n",
      "去空值前：  (497, 3) 20180803_circ_class_3.xlsx 消费服务\n",
      "去空值后：  (497, 3) 20180803_circ_class_3.xlsx 消费服务\n",
      "去空值前：  (53, 3) 20180803_circ_class_3.xlsx 其他相关报道\n",
      "去空值后：  (53, 3) 20180803_circ_class_3.xlsx 其他相关报道\n",
      "去空值前：  (97, 3) 20180803_circ_class_3.xlsx 行业\n",
      "去空值后：  (97, 3) 20180803_circ_class_3.xlsx 行业\n",
      "总数： (7500, 3)\n"
     ]
    },
    {
     "data": {
      "text/html": [
       "<div>\n",
       "<style scoped>\n",
       "    .dataframe tbody tr th:only-of-type {\n",
       "        vertical-align: middle;\n",
       "    }\n",
       "\n",
       "    .dataframe tbody tr th {\n",
       "        vertical-align: top;\n",
       "    }\n",
       "\n",
       "    .dataframe thead th {\n",
       "        text-align: right;\n",
       "    }\n",
       "</style>\n",
       "<table border=\"1\" class=\"dataframe\">\n",
       "  <thead>\n",
       "    <tr style=\"text-align: right;\">\n",
       "      <th></th>\n",
       "      <th>label</th>\n",
       "      <th>title</th>\n",
       "      <th>content</th>\n",
       "    </tr>\n",
       "  </thead>\n",
       "  <tbody>\n",
       "    <tr>\n",
       "      <th>0</th>\n",
       "      <td>产品销售</td>\n",
       "      <td>做人干干净净，善良终有好报！</td>\n",
       "      <td>牵手国寿 中国人寿，一言九鼎；相知多年，值得托付！ 做人，就两个字：善良。 善良的人，永远都...</td>\n",
       "    </tr>\n",
       "    <tr>\n",
       "      <th>1</th>\n",
       "      <td>产品销售</td>\n",
       "      <td>做个好人心正身安魂梦稳 行些善事天知地鉴鬼神钦 以人为本 以天为则</td>\n",
       "      <td>完整财富=家庭 健康 教育 事业 服务 金钱 精神 传播聚财 守财 传财 散财 善财之道 家...</td>\n",
       "    </tr>\n",
       "    <tr>\n",
       "      <th>2</th>\n",
       "      <td>产品销售</td>\n",
       "      <td>昨天这对夫妻的聊天记录曝光了，网友们都炸了，女人，要不娘家有钱，要不自己有保险...</td>\n",
       "      <td>爱华云服务 让生活更美好，让华夏充满爱！ 关注 什么是女人的安全感？不是什么漂亮的...</td>\n",
       "    </tr>\n",
       "    <tr>\n",
       "      <th>3</th>\n",
       "      <td>其他相关报道</td>\n",
       "      <td>尊享代驾  安全快捷送您回家</td>\n",
       "      <td>为回馈广大客户，富德生命人寿第十二届客服节期间特意为客户提供了免费补发保单、尊享代驾等增值服...</td>\n",
       "    </tr>\n",
       "    <tr>\n",
       "      <th>4</th>\n",
       "      <td>产品销售</td>\n",
       "      <td>尊享e生旗舰版震撼升级！上海质子重离子医院治疗也可100%报销！！！</td>\n",
       "      <td>各位亲爱的会员，国民医保再次升级，现在购买尊享e生旗舰版，可自主增加质子重离子医院治...</td>\n",
       "    </tr>\n",
       "  </tbody>\n",
       "</table>\n",
       "</div>"
      ],
      "text/plain": [
       "    label                                       title  \\\n",
       "0    产品销售                              做人干干净净，善良终有好报！   \n",
       "1    产品销售           做个好人心正身安魂梦稳 行些善事天知地鉴鬼神钦 以人为本 以天为则   \n",
       "2    产品销售  昨天这对夫妻的聊天记录曝光了，网友们都炸了，女人，要不娘家有钱，要不自己有保险...   \n",
       "3  其他相关报道                              尊享代驾  安全快捷送您回家   \n",
       "4    产品销售          尊享e生旗舰版震撼升级！上海质子重离子医院治疗也可100%报销！！！   \n",
       "\n",
       "                                             content  \n",
       "0  牵手国寿 中国人寿，一言九鼎；相知多年，值得托付！ 做人，就两个字：善良。 善良的人，永远都...  \n",
       "1  完整财富=家庭 健康 教育 事业 服务 金钱 精神 传播聚财 守财 传财 散财 善财之道 家...  \n",
       "2       爱华云服务 让生活更美好，让华夏充满爱！ 关注 什么是女人的安全感？不是什么漂亮的...  \n",
       "3  为回馈广大客户，富德生命人寿第十二届客服节期间特意为客户提供了免费补发保单、尊享代驾等增值服...  \n",
       "4      各位亲爱的会员，国民医保再次升级，现在购买尊享e生旗舰版，可自主增加质子重离子医院治...  "
      ]
     },
     "execution_count": 31,
     "metadata": {},
     "output_type": "execute_result"
    }
   ],
   "source": [
    "cir_data_raw_2 = pd.DataFrame()\n",
    "for file_name in file_list2:\n",
    "    currentPath  = 'data/raw_data/{0}'.format(file_name)\n",
    "    excel = xlrd.open_workbook(currentPath)\n",
    "    sheet_names = [sheet.name for sheet in excel.sheets()]\n",
    "    for sheet_name in sheet_names:    \n",
    "        tmp_data = pd.read_excel(currentPath, sheet_name)\n",
    "        if 'label' in tmp_data.columns:\n",
    "            tmp_data = tmp_data[['label', 'title', 'content']]\n",
    "            print('去空值前： ', tmp_data.shape, file_name, sheet_name)\n",
    "            tmp_data = tmp_data.dropna(subset = ['title'], axis = 0)\n",
    "            print('去空值后： ', tmp_data.shape, file_name, sheet_name)\n",
    "            cir_data_raw_2 = pd.concat([cir_data_raw_2, tmp_data], axis = 0)\n",
    "\n",
    "cir_data_raw_2['label'] = cir_data_raw_2['label'].apply(lambda x:x.strip())    \n",
    "print('总数：', cir_data_raw_2.shape)\n",
    "cir_data_raw_2.head()"
   ]
  },
  {
   "cell_type": "code",
   "execution_count": 32,
   "metadata": {
    "ExecuteTime": {
     "end_time": "2018-08-03T07:22:38.353253Z",
     "start_time": "2018-08-03T07:22:38.341435Z"
    }
   },
   "outputs": [
    {
     "data": {
      "text/plain": [
       "噪音        2713\n",
       "消费服务      1416\n",
       "其他相关报道    1031\n",
       "监管         839\n",
       "行业         618\n",
       "公司内部管理     467\n",
       "资本市场       281\n",
       "产品销售       135\n",
       "Name: label, dtype: int64"
      ]
     },
     "execution_count": 32,
     "metadata": {},
     "output_type": "execute_result"
    }
   ],
   "source": [
    "cir_data_raw_2['label'].value_counts()"
   ]
  },
  {
   "cell_type": "code",
   "execution_count": 33,
   "metadata": {
    "ExecuteTime": {
     "end_time": "2018-08-03T07:22:53.558939Z",
     "start_time": "2018-08-03T07:22:53.490621Z"
    }
   },
   "outputs": [
    {
     "name": "stdout",
     "output_type": "stream",
     "text": [
      "(10530, 5)\n"
     ]
    },
    {
     "data": {
      "text/html": [
       "<div>\n",
       "<style scoped>\n",
       "    .dataframe tbody tr th:only-of-type {\n",
       "        vertical-align: middle;\n",
       "    }\n",
       "\n",
       "    .dataframe tbody tr th {\n",
       "        vertical-align: top;\n",
       "    }\n",
       "\n",
       "    .dataframe thead th {\n",
       "        text-align: right;\n",
       "    }\n",
       "</style>\n",
       "<table border=\"1\" class=\"dataframe\">\n",
       "  <thead>\n",
       "    <tr style=\"text-align: right;\">\n",
       "      <th></th>\n",
       "      <th>title</th>\n",
       "      <th>content</th>\n",
       "      <th>label</th>\n",
       "      <th>title_content</th>\n",
       "      <th>index</th>\n",
       "    </tr>\n",
       "  </thead>\n",
       "  <tbody>\n",
       "    <tr>\n",
       "      <th>0</th>\n",
       "      <td>做好规划不当月光族不做守财奴</td>\n",
       "      <td>一一妈妈说理财·出品\\n (图片)\\n\\r月光族困惑：···这个月才过半，各种经费不够啊！...</td>\n",
       "      <td>噪音</td>\n",
       "      <td>做好规划不当月光族不做守财奴。 一一妈妈说理财·出品\\n (图片)\\n\\r月光族困惑：···...</td>\n",
       "      <td>0</td>\n",
       "    </tr>\n",
       "    <tr>\n",
       "      <th>1</th>\n",
       "      <td>做车险代理的前景如何 谊信合让你的财富事业迈上新高度</td>\n",
       "      <td>小本创业网\\n\\r»\\n\\r加盟项目资讯›\\n\\r»\\n\\r资讯中心\\n\\r»\\n\\r做车...</td>\n",
       "      <td>噪音</td>\n",
       "      <td>做车险代理的前景如何 谊信合让你的财富事业迈上新高度。 小本创业网\\n\\r»\\n\\r加盟项目...</td>\n",
       "      <td>1</td>\n",
       "    </tr>\n",
       "    <tr>\n",
       "      <th>2</th>\n",
       "      <td>坐飞机必须买保险？航意险适合哪些人？</td>\n",
       "      <td>坐飞机必须买保险？航意险适合哪些人？\\n\\r　　随着经济的发展，大家对生活品质的追求，越来...</td>\n",
       "      <td>产品销售</td>\n",
       "      <td>坐飞机必须买保险？航意险适合哪些人？。 坐飞机必须买保险？航意险适合哪些人？\\n\\r　　随着...</td>\n",
       "      <td>2</td>\n",
       "    </tr>\n",
       "    <tr>\n",
       "      <th>3</th>\n",
       "      <td>左权县人民政府金融工作办公室2017年统筹整合财政资金项目公示</td>\n",
       "      <td>\\n\\r为推进我县\\n“五位一体”扶贫小额信贷工作，各承贷银行对全县建档立卡贫困户累计备案...</td>\n",
       "      <td>噪音</td>\n",
       "      <td>左权县人民政府金融工作办公室2017年统筹整合财政资金项目公示。 \\n\\r为推进我县\\n“五...</td>\n",
       "      <td>3</td>\n",
       "    </tr>\n",
       "    <tr>\n",
       "      <th>4</th>\n",
       "      <td>昨天车险报案比平常翻倍</td>\n",
       "      <td>(图片)\\n\\r雪中骑行滑倒 朱小军 摄\\n\\r　　一场暴雪让扬州各家保险公司忙翻了天，车...</td>\n",
       "      <td>消费服务</td>\n",
       "      <td>昨天车险报案比平常翻倍。 (图片)\\n\\r雪中骑行滑倒 朱小军 摄\\n\\r　　一场暴雪让扬州...</td>\n",
       "      <td>4</td>\n",
       "    </tr>\n",
       "  </tbody>\n",
       "</table>\n",
       "</div>"
      ],
      "text/plain": [
       "                             title  \\\n",
       "0                   做好规划不当月光族不做守财奴   \n",
       "1       做车险代理的前景如何 谊信合让你的财富事业迈上新高度   \n",
       "2               坐飞机必须买保险？航意险适合哪些人？   \n",
       "3  左权县人民政府金融工作办公室2017年统筹整合财政资金项目公示   \n",
       "4                      昨天车险报案比平常翻倍   \n",
       "\n",
       "                                             content label  \\\n",
       "0   一一妈妈说理财·出品\\n (图片)\\n\\r月光族困惑：···这个月才过半，各种经费不够啊！...    噪音   \n",
       "1   小本创业网\\n\\r»\\n\\r加盟项目资讯›\\n\\r»\\n\\r资讯中心\\n\\r»\\n\\r做车...    噪音   \n",
       "2   坐飞机必须买保险？航意险适合哪些人？\\n\\r　　随着经济的发展，大家对生活品质的追求，越来...  产品销售   \n",
       "3   \\n\\r为推进我县\\n“五位一体”扶贫小额信贷工作，各承贷银行对全县建档立卡贫困户累计备案...    噪音   \n",
       "4   (图片)\\n\\r雪中骑行滑倒 朱小军 摄\\n\\r　　一场暴雪让扬州各家保险公司忙翻了天，车...  消费服务   \n",
       "\n",
       "                                       title_content  index  \n",
       "0  做好规划不当月光族不做守财奴。 一一妈妈说理财·出品\\n (图片)\\n\\r月光族困惑：···...      0  \n",
       "1  做车险代理的前景如何 谊信合让你的财富事业迈上新高度。 小本创业网\\n\\r»\\n\\r加盟项目...      1  \n",
       "2  坐飞机必须买保险？航意险适合哪些人？。 坐飞机必须买保险？航意险适合哪些人？\\n\\r　　随着...      2  \n",
       "3  左权县人民政府金融工作办公室2017年统筹整合财政资金项目公示。 \\n\\r为推进我县\\n“五...      3  \n",
       "4  昨天车险报案比平常翻倍。 (图片)\\n\\r雪中骑行滑倒 朱小军 摄\\n\\r　　一场暴雪让扬州...      4  "
      ]
     },
     "execution_count": 33,
     "metadata": {},
     "output_type": "execute_result"
    }
   ],
   "source": [
    "cir_data_raw = pd.concat([cir_data_raw_1[['title', 'content', 'label']], \n",
    "                          cir_data_raw_2[['title', 'content', 'label']]], \n",
    "                         axis = 0)\n",
    "cir_data_raw['title_content'] = cir_data_raw['title'].astype(str) + '。' + cir_data_raw['content'].astype(str)\n",
    "cir_data_raw['label'] = cir_data_raw['label'].apply(lambda x:x.strip())\n",
    "cir_data_raw['index'] = range(cir_data_raw.shape[0])\n",
    "print(cir_data_raw.shape)\n",
    "cir_data_raw.head()"
   ]
  },
  {
   "cell_type": "code",
   "execution_count": 34,
   "metadata": {
    "ExecuteTime": {
     "end_time": "2018-08-03T07:22:57.924927Z",
     "start_time": "2018-08-03T07:22:57.909264Z"
    }
   },
   "outputs": [
    {
     "data": {
      "text/plain": [
       "label\n",
       "产品销售       390\n",
       "公司内部管理     901\n",
       "其他相关报道    1456\n",
       "噪音        3376\n",
       "消费服务      1573\n",
       "监管        1488\n",
       "行业         763\n",
       "资本市场       583\n",
       "Name: title, dtype: int64"
      ]
     },
     "execution_count": 34,
     "metadata": {},
     "output_type": "execute_result"
    }
   ],
   "source": [
    "cir_data_raw.groupby('label')['title'].count()"
   ]
  },
  {
   "cell_type": "code",
   "execution_count": 35,
   "metadata": {
    "ExecuteTime": {
     "end_time": "2018-08-03T07:27:11.985302Z",
     "start_time": "2018-08-03T07:27:11.961434Z"
    }
   },
   "outputs": [],
   "source": [
    "test_index = []\n",
    "val_index = []\n",
    "train_index = []\n",
    "\n",
    "for label in cir_data_raw['label'].unique():\n",
    "    indexs = cir_data_raw[cir_data_raw['label'] == label]['index'].tolist()\n",
    "    test_index += indexs[:40] # 40\n",
    "    val_index += indexs[40:60] # 20\n",
    "    train_index += indexs[60:]"
   ]
  },
  {
   "cell_type": "code",
   "execution_count": 36,
   "metadata": {
    "ExecuteTime": {
     "end_time": "2018-08-03T07:27:12.487101Z",
     "start_time": "2018-08-03T07:27:12.472961Z"
    }
   },
   "outputs": [
    {
     "name": "stdout",
     "output_type": "stream",
     "text": [
      "(320, 2)\n"
     ]
    }
   ],
   "source": [
    "coprus_save_filename = 'data/cnews.test.txt'\n",
    "\n",
    "test_data = np.array(cir_data_raw[cir_data_raw['index'].isin(test_index)][['label', 'title_content']])\n",
    "print(test_data.shape)\n",
    "\n",
    "f = open(coprus_save_filename, \"w+\", encoding='UTF-8')\n",
    "for [l, d] in test_data:\n",
    "    f.write(l + '----' + d + '\\n')\n",
    "f.close()"
   ]
  },
  {
   "cell_type": "code",
   "execution_count": 37,
   "metadata": {
    "ExecuteTime": {
     "end_time": "2018-08-03T07:27:13.018419Z",
     "start_time": "2018-08-03T07:27:13.006796Z"
    }
   },
   "outputs": [
    {
     "name": "stdout",
     "output_type": "stream",
     "text": [
      "(160, 2)\n"
     ]
    }
   ],
   "source": [
    "coprus_save_filename = 'data/cnews.val.txt'\n",
    "\n",
    "val_data = np.array(cir_data_raw[cir_data_raw['index'].isin(val_index)][['label', 'title_content']])\n",
    "print(val_data.shape)\n",
    "\n",
    "f = open(coprus_save_filename, \"w+\", encoding='UTF-8')\n",
    "for [l, d] in val_data:\n",
    "    f.write(l + '----' + d + '\\n')\n",
    "f.close()"
   ]
  },
  {
   "cell_type": "code",
   "execution_count": 38,
   "metadata": {
    "ExecuteTime": {
     "end_time": "2018-08-03T07:27:13.914850Z",
     "start_time": "2018-08-03T07:27:13.723990Z"
    }
   },
   "outputs": [
    {
     "name": "stdout",
     "output_type": "stream",
     "text": [
      "(10050, 2)\n"
     ]
    }
   ],
   "source": [
    "coprus_save_filename = 'data/cnews.train.txt'\n",
    "\n",
    "train_data = np.array(cir_data_raw[cir_data_raw['index'].isin(train_index)][['label', 'title_content']])\n",
    "print(train_data.shape)\n",
    "\n",
    "f = open(coprus_save_filename, \"w+\", encoding='UTF-8')\n",
    "for [l, d] in train_data:\n",
    "    f.write(l + '----' + d + '\\n')\n",
    "f.close()"
   ]
  },
  {
   "cell_type": "code",
   "execution_count": 39,
   "metadata": {
    "ExecuteTime": {
     "end_time": "2018-08-03T07:27:14.702713Z",
     "start_time": "2018-08-03T07:27:14.695831Z"
    }
   },
   "outputs": [
    {
     "data": {
      "text/plain": [
       "dict_keys(['监管', '行业', '产品销售', '资本市场', '公司内部管理', '消费服务', '其他相关报道', '噪音'])"
      ]
     },
     "execution_count": 39,
     "metadata": {},
     "output_type": "execute_result"
    }
   ],
   "source": [
    "label_dic={'监管':1,'行业':2,'产品销售':3,'资本市场':4,'公司内部管理':5,'消费服务':6,'其他相关报道':7,'噪音':8}\n",
    "label_dic.keys()"
   ]
  },
  {
   "cell_type": "markdown",
   "metadata": {},
   "source": [
    "# 预处理"
   ]
  },
  {
   "cell_type": "code",
   "execution_count": 40,
   "metadata": {
    "ExecuteTime": {
     "end_time": "2018-08-03T07:27:20.284226Z",
     "start_time": "2018-08-03T07:27:17.500389Z"
    }
   },
   "outputs": [
    {
     "name": "stdout",
     "output_type": "stream",
     "text": [
      "10530\n"
     ]
    }
   ],
   "source": [
    "titles = pre_cor_1.handle_contents(cir_data_raw['title'].tolist())\n",
    "print(len(titles))\n",
    "\n",
    "save_filename = 'data/titles.txt'\n",
    "fid = open(save_filename, \"w+\", encoding='UTF-8')\n",
    "for data in titles:\n",
    "    fid.write(data + '\\n')\n",
    "fid.close()"
   ]
  },
  {
   "cell_type": "code",
   "execution_count": 41,
   "metadata": {
    "ExecuteTime": {
     "end_time": "2018-08-03T07:31:16.618100Z",
     "start_time": "2018-08-03T07:28:45.858717Z"
    }
   },
   "outputs": [
    {
     "name": "stdout",
     "output_type": "stream",
     "text": [
      "10530\n",
      "['一一 妈妈 理财 出品 图片 月光族 困惑 过半 各种 经费 不够 小伙伴 同感 拯救 钱包 包养 求蹭饭 前段时间 一一 妈妈 台北 忙里偷闲 感受 台北 风景 同行 导游 介绍 城市 规划 说道 一个 城市 新市区 市区 最大 差别 新市区 通常 都市计划 然后 居民 进驻 市区 居民 后来 都市计划 例如 新北市 永和 地区 典型 市区 台北市 信义 区则 新市区 典范 看看 永和 每条 道路 狭窄 弯弯曲曲 计程车 司机 永和 没有 一条 建筑物 一栋 连著 一栋 中间 几乎 没有 空地 看看 信义 每条 道路 除了 非常 宽大 之外 非常 笔直 建筑物 空地 非常 充足 整个 地区 一点 不会 拥挤 感觉 地区 主要用途 商业中心 住宅区 特别 规划 一定 范围 规划 重要性 新旧 市区 只差 都市计划 时间 其实 凡事 必须 事先 规划 未来 照著 计划 方向 发展 结果 预期 一致 家庭 财务 一样 如果 没有 事先 规划 走入 两个 极端 不是 过度 花费 太过 节俭 因為 没有 规划 知道 每月 多少 过度 乐观 来说 有钱 不管 未来 如何 享受 容易 月光族 过度 保守 因為 未来 没有 把握 造成 过度 担忧 有钱 不敢 享用 之后 徒留 大笔 财富 子孙 贫穷 日子 注定 守财奴 月光族 守财奴 两种 极端 不是 所要 理想 境界 即时 享乐 能够 顾及 未来 需求 达到 目标 唯有 做好 财务 规划 机会 达成 财务 规划 基本上 分為 短期 长期 规划 两种 短期 规划 做好 一年 财务预算 长期 规划 建立 家庭 终身 财务 蓝图 图片 短期 财务 规划 短期 财务 规划 主要 针对 一年 收入 支出 做出 最好 调配 例如 预估 当年 多少 收入 费用 必备 支出 奢侈 开销 每月 应该 储蓄 多少 金额 才能 配合 长期 财务 规划 短期 规划 重点 年度 收支 做好 年度预算 重要 预备 当年 如何 开支 一般来说 年收入 薪资 相当 固定 但是 支出 变化 比较 究其原因 奢侈 费用 聚餐 国外 旅游 治装费 一不小心 超支 需要 严谨 控制 才行 现在 很多 好用 工具 一直 随手 提前 预算表 记录 日常 开销 每月 进行 及时 图表 分析 总结 图片 长期 财务 规划 长期 财务 规划 终身 财务 蓝图 一生 一定 需求 小孩 教育 基金 退休金 以及 购屋 规划 除了 之外 对於 突如其来 状况 有所 準备 风险管理 不论是 教育 基金 退休金 面临 通货 膨涨 问题 如何 估算 未来 经通 调整 费用 公式 计算 膨涨 调整 费用 现值 通货 膨涨 年数 公式 现值 通货 膨涨 年数 风险管理 短期 财务 规划 不够 风险管理 非常 重要 常听到 人家 计划 赶不上 变化 发生 这种 状况 原因 主要 两个 一个 规划 不够 确实 一个 不可 预期 状况 发生 其实 一定 生老病死 问题 加上 意外 突发事件 什么 时候 会上 天堂 没有 人会 知道 最好 方式 可能 发生 风险 利用 保险 规避 保险公司 提供 险种 非常 必须 具有 保障 险种 有用 保额 足够 才行 至於 甚麼样 保险 一个 简单 原则 担心 甚麼 然后 保障 安心 除此之外 其他 险种 例如 储蓄 主要 功能 储蓄 没有 保障 功能 不用 保费 险种 常见 小孩 年纪 万一 担负 家庭 主要 经济 来源 失能 身故 造成 家庭 生活 困难 那麼 经济 来源 寿险 保障 未来 生活 一般 建议 定期 需要 终身 寿险 两者 保费 相差 甚多 通常 保障 涵盖 儿女 独立 即可 通常 定期 足够 同样 保费 定期 险所 得到 保障 终身 寿险 好几倍 医疗险 一样 目前 已经 全民 健保 补足 健保 没有 给付 部分 即可 不管 财务 规划 怎麼 完善 没有 保障 一起 考量 万一 发生 不幸 事件 整个 家庭 财务 规划 全部 改变 保险 功能 财务 规划 完整 结论 财务 规划 一个 家庭 非常 重要 课题 不是 万能 但是 没有 万万不能 完整 家庭 财务 蓝图 按照 规划 方式 一步 一步 达成 目标 整个 家庭 保障 能够 完成 财务 自由 目标 一一 妈妈 理财 ', '创业网 加盟 项目 资讯 资讯中心 车险 代理 前景 如何 信合 财富 事业 迈上 高度 童装 加盟 女装 加盟 小吃 加盟 汉堡 加盟 汽车 美容 室内 环保 网店 加盟 特种 养殖 ']\n",
      "10530\n",
      "['一一 妈妈 理财 出品 图片 月光族 困惑 过半 各种 经费 不够 小伙伴 同感 拯救 钱包 包养 求蹭饭 前段时间 一一 妈妈 台北 忙里偷闲 感受 台北 风景 同行 导游 介绍 城市 规划 说道 一个 城市 新市区 市区 最大 差别 新市区 通常 都市计划 然后 居民 进驻 市区 居民 后来 都市计划 例如 新北市 永和 地区 典型 市区 台北市 信义 区则 新市区 典范 看看 永和 每条 道路 狭窄 弯弯曲曲 计程车 司机 永和 没有 一条 建筑物 一栋 连著 一栋 中间 几乎 没有 空地 看看 信义 每条 道路 除了 非常 宽大 之外 非常 笔直 建筑物 空地 非常 充足 整个 地区 一点 不会 拥挤 感觉 地区 主要用途 商业中心 住宅区 特别 规划 一定 范围 规划 重要性 新旧 市区 只差 都市计划 时间 其实 凡事 必须 事先 规划 未来 照著 计划 方向 发展 结果 预期 一致 家庭 财务 一样 如果 没有 事先 规划 走入 两个 极端 不是 过度 花费 太过 节俭 因為 没有 规划 知道 每月 多少 过度 乐观 来说 有钱 不管 未来 如何 享受 容易 月光族 过度 保守 因為 未来 没有 把握 造成 过度 担忧 有钱 不敢 享用 之后 徒留 大笔 财富 子孙 贫穷 日子 注定 守财奴 月光族 守财奴 两种 极端 不是 所要 理想 境界 即时 享乐 能够 顾及 未来 需求 达到 目标 唯有 做好 财务 规划 机会 达成 财务 规划 基本上 分為 短期 长期 规划 两种 短期 规划 做好 一年 财务预算 长期 规划 建立 家庭 终身 财务 蓝图 图片 短期 财务 规划 短期 财务 规划 主要 针对 一年 收入 支出 做出 最好 调配 例如 预估 当年 多少 收入 费用 必备 支出 奢侈 开销 每月 应该 储蓄 多少 金额 才能 配合 长期 财务 规划 短期 规划 重点 年度 收支 做好 年度预算 重要 预备 当年 如何 开支 一般来说 年收入 薪资 相当 固定 但是 支出 变化 比较 究其原因 奢侈 费用 聚餐 国外 旅游 治装费 一不小心 超支 需要 严谨 控制 才行 现在 很多 好用 工具 一直 随手 提前 预算表 记录 日常 开销 每月 进行 及时 图表 分析 总结 图片 长期 财务 规划 长期 财务 规划 终身 财务 蓝图 一生 一定 需求 小孩 教育 基金 退休金 以及 购屋 规划 除了 之外 对於 突如其来 状况 有所 準备 风险管理 不论是 教育 基金 退休金 面临 通货 膨涨 问题 如何 估算 未来 经通 调整 费用 公式 计算 膨涨 调整 费用 现值 通货 膨涨 年数 公式 现值 通货 膨涨 年数 风险管理 短期 财务 规划 不够 风险管理 非常 重要 常听到 人家 计划 赶不上 变化 发生 这种 状况 原因 主要 两个 一个 规划 不够 确实 一个 不可 预期 状况 发生 其实 一定 生老病死 问题 加上 意外 突发事件 什么 时候 会上 天堂 没有 人会 知道 最好 方式 可能 发生 风险 利用 保险 规避 保险公司 提供 险种 非常 必须 具有 保障 险种 有用 保额 足够 才行 至於 甚麼样 保险 一个 简单 原则 担心 甚麼 然后 保障 安心 除此之外 其他 险种 例如 储蓄 主要 功能 储蓄 没有 保障 功能 不用 保费 险种 常见 小孩 年纪 万一 担负 家庭 主要 经济 来源 失能 身故 造成 家庭 生活 困难 那麼 经济 来源 寿险 保障 未来 生活 一般 建议 定期 需要 终身 寿险 两者 保费 相差 甚多 通常 保障 涵盖 儿女 独立 即可 通常 定期 足够 同样 保费 定期 险所 得到 保障 终身 寿险 好几倍 医疗险 一样 目前 已经 全民 健保 补足 健保 没有 给付 部分 即可 不管 财务 规划 怎麼 完善 没有 保障 一起 考量 万一 发生 不幸 事件 整个 家庭 财务 规划 全部 改变 保险 功能 财务 规划 完整 结论 财务 规划 一个 家庭 非常 重要 课题 不是 万能 但是 没有 万万不能 完整 家庭 财务 蓝图 按照 规划 方式 一步 一步 达成 目标 整个 家庭 保障 能够 完成 财务 自由 目标 一一 妈妈 理财 ', '创业网 加盟 项目 资讯 资讯中心 车险 代理 前景 如何 信合 财富 事业 迈上 高度 童装 加盟 女装 加盟 小吃 加盟 汉堡 加盟 汽车 美容 室内 环保 网店 加盟 特种 养殖 ']\n"
     ]
    }
   ],
   "source": [
    "contents = pre_cor_1.handle_contents(cir_data_raw['content'].tolist())\n",
    "print(len(contents))\n",
    "print(contents[:2])\n",
    "contents = [re.sub(r'[a-z]*', '', x) for x in contents]\n",
    "print(len(contents))\n",
    "print(contents[:2])\n",
    "\n",
    "coprus_save_filename = 'data/contents.txt'\n",
    "f = open(coprus_save_filename, \"w+\", encoding='UTF-8')\n",
    "for data in contents:\n",
    "    f.write(data + '\\n')\n",
    "f.close()"
   ]
  },
  {
   "cell_type": "code",
   "execution_count": 42,
   "metadata": {
    "ExecuteTime": {
     "end_time": "2018-08-03T07:31:16.633806Z",
     "start_time": "2018-08-03T07:31:16.620668Z"
    }
   },
   "outputs": [
    {
     "name": "stdout",
     "output_type": "stream",
     "text": [
      "10530\n"
     ]
    }
   ],
   "source": [
    "label = cir_data_raw['label'].tolist()\n",
    "print(len(label))\n",
    "\n",
    "coprus_save_filename = 'data/labels.txt'\n",
    "f = open(coprus_save_filename, \"w+\", encoding='UTF-8')\n",
    "for data in label:\n",
    "    f.write(data + '\\n')\n",
    "f.close()"
   ]
  },
  {
   "cell_type": "code",
   "execution_count": 43,
   "metadata": {
    "ExecuteTime": {
     "end_time": "2018-08-03T07:31:26.240871Z",
     "start_time": "2018-08-03T07:31:16.636436Z"
    }
   },
   "outputs": [
    {
     "data": {
      "text/plain": [
       "(10530, 5)"
      ]
     },
     "execution_count": 43,
     "metadata": {},
     "output_type": "execute_result"
    }
   ],
   "source": [
    "cir_data_raw.to_excel('data/result/title_content_label.xlsx', index = False)\n",
    "cir_data_raw.shape"
   ]
  },
  {
   "cell_type": "code",
   "execution_count": null,
   "metadata": {},
   "outputs": [],
   "source": []
  }
 ],
 "metadata": {
  "kernelspec": {
   "display_name": "Python 3",
   "language": "python",
   "name": "python3"
  },
  "language_info": {
   "codemirror_mode": {
    "name": "ipython",
    "version": 3
   },
   "file_extension": ".py",
   "mimetype": "text/x-python",
   "name": "python",
   "nbconvert_exporter": "python",
   "pygments_lexer": "ipython3",
   "version": "3.6.4"
  },
  "toc": {
   "base_numbering": 1,
   "nav_menu": {},
   "number_sections": true,
   "sideBar": true,
   "skip_h1_title": false,
   "title_cell": "Table of Contents",
   "title_sidebar": "Contents",
   "toc_cell": false,
   "toc_position": {
    "height": "calc(100% - 180px)",
    "left": "10px",
    "top": "150px",
    "width": "376px"
   },
   "toc_section_display": true,
   "toc_window_display": true
  }
 },
 "nbformat": 4,
 "nbformat_minor": 2
}
