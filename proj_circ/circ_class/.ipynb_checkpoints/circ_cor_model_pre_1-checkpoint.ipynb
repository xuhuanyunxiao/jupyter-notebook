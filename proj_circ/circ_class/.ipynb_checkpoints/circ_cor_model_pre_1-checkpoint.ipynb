{
 "cells": [
  {
   "cell_type": "markdown",
   "metadata": {},
   "source": [
    "# 基本设置"
   ]
  },
  {
   "cell_type": "code",
   "execution_count": 37,
   "metadata": {
    "ExecuteTime": {
     "end_time": "2018-07-30T08:00:18.437804Z",
     "start_time": "2018-07-30T08:00:18.428876Z"
    }
   },
   "outputs": [],
   "source": [
    "\n",
    "import sys\n",
    "import re\n",
    "import time\n",
    "import string\n",
    "\n",
    "%matplotlib inline\n",
    "import numpy as np\n",
    "import pandas as pd\n",
    "import pre_cor\n",
    "import os\n",
    "from sqlalchemy import create_engine\n",
    "from pandas.io import sql\n",
    "import re \n",
    "import warnings\n",
    "warnings.filterwarnings('ignore')"
   ]
  },
  {
   "cell_type": "markdown",
   "metadata": {},
   "source": [
    "# 读取文件"
   ]
  },
  {
   "cell_type": "code",
   "execution_count": 38,
   "metadata": {
    "ExecuteTime": {
     "end_time": "2018-07-30T08:00:19.594836Z",
     "start_time": "2018-07-30T08:00:19.591630Z"
    }
   },
   "outputs": [],
   "source": [
    "#这两个文件是自行爬取的正文\n",
    "file_list1 = ['20180723_revise_clearn.xlsx','20180725_clearn.xlsx']"
   ]
  },
  {
   "cell_type": "code",
   "execution_count": 40,
   "metadata": {
    "ExecuteTime": {
     "end_time": "2018-07-30T08:00:43.498132Z",
     "start_time": "2018-07-30T08:00:42.902131Z"
    },
    "scrolled": true
   },
   "outputs": [
    {
     "name": "stdout",
     "output_type": "stream",
     "text": [
      "(1413, 5) 20180723_revise_clearn.xlsx\n",
      "(1621, 5) 20180725_clearn.xlsx\n",
      "总数： (3034, 5)\n",
      "     label                  title  \\\n",
      "1555    噪音  听说出来了一款保证续保的医疗险?真相如何?   \n",
      "\n",
      "                                              content  \\\n",
      "1555   听说出来了一款保证续保的医疗险?真相如何?\\n\\r2018-01-03 23:46\\n\"}}   \n",
      "\n",
      "                                                    url              title_url  \n",
      "1555  http://www.orz520.com/a/economy/2018/0103/8582...  听说出来了一款保证续保的医疗险?真相如何?  \n"
     ]
    },
    {
     "data": {
      "text/html": [
       "<div>\n",
       "<style scoped>\n",
       "    .dataframe tbody tr th:only-of-type {\n",
       "        vertical-align: middle;\n",
       "    }\n",
       "\n",
       "    .dataframe tbody tr th {\n",
       "        vertical-align: top;\n",
       "    }\n",
       "\n",
       "    .dataframe thead th {\n",
       "        text-align: right;\n",
       "    }\n",
       "</style>\n",
       "<table border=\"1\" class=\"dataframe\">\n",
       "  <thead>\n",
       "    <tr style=\"text-align: right;\">\n",
       "      <th></th>\n",
       "      <th>label</th>\n",
       "      <th>title</th>\n",
       "      <th>content</th>\n",
       "      <th>url</th>\n",
       "      <th>title_url</th>\n",
       "    </tr>\n",
       "  </thead>\n",
       "  <tbody>\n",
       "    <tr>\n",
       "      <th>0</th>\n",
       "      <td>噪音</td>\n",
       "      <td>做好规划不当月光族不做守财奴</td>\n",
       "      <td>一一妈妈说理财·出品\\n (图片)\\n\\r月光族困惑：···这个月才过半，各种经费不够啊！...</td>\n",
       "      <td>https://xueqiu.com/1983578372/98551727</td>\n",
       "      <td>妈妈说理财: 做好规划不当月光族不做守财奴 一一妈妈说理财·出品 月光族困惑：···这个月才...</td>\n",
       "    </tr>\n",
       "    <tr>\n",
       "      <th>1</th>\n",
       "      <td>噪音</td>\n",
       "      <td>做车险代理的前景如何 谊信合让你的财富事业迈上新高度</td>\n",
       "      <td>小本创业网\\n\\r»\\n\\r加盟项目资讯›\\n\\r»\\n\\r资讯中心\\n\\r»\\n\\r做车...</td>\n",
       "      <td>http://jxhb.91cy.cn/119134.shtml</td>\n",
       "      <td>做车险代理的前景如何 谊信合让你的财富事业迈上新高度</td>\n",
       "    </tr>\n",
       "    <tr>\n",
       "      <th>2</th>\n",
       "      <td>产品销售</td>\n",
       "      <td>坐飞机必须买保险？航意险适合哪些人？</td>\n",
       "      <td>坐飞机必须买保险？航意险适合哪些人？\\n\\r　　随着经济的发展，大家对生活品质的追求，越来...</td>\n",
       "      <td>http://www.dtnews.cn/2018/january/99502C93.html</td>\n",
       "      <td>坐飞机必须买保险？航意险适合哪些人？\\r\\n        - 大同新闻网</td>\n",
       "    </tr>\n",
       "    <tr>\n",
       "      <th>3</th>\n",
       "      <td>噪音</td>\n",
       "      <td>左权县人民政府金融工作办公室2017年统筹整合财政资金项目公示</td>\n",
       "      <td>\\n\\r为推进我县\\n“五位一体”扶贫小额信贷工作，各承贷银行对全县建档立卡贫困户累计备案...</td>\n",
       "      <td>http://www.zqxzf.com/newscont.asp?id=61811&amp;pid...</td>\n",
       "      <td>左权县人民政府金融工作办公室2017年统筹整合财政资金项目公示</td>\n",
       "    </tr>\n",
       "    <tr>\n",
       "      <th>4</th>\n",
       "      <td>消费服务</td>\n",
       "      <td>昨天车险报案比平常翻倍</td>\n",
       "      <td>(图片)\\n\\r雪中骑行滑倒 朱小军 摄\\n\\r　　一场暴雪让扬州各家保险公司忙翻了天，车...</td>\n",
       "      <td>http://3g.k.sohu.com/t/n253854349</td>\n",
       "      <td>昨天车险报案比平常翻倍</td>\n",
       "    </tr>\n",
       "  </tbody>\n",
       "</table>\n",
       "</div>"
      ],
      "text/plain": [
       "  label                            title  \\\n",
       "0    噪音                   做好规划不当月光族不做守财奴   \n",
       "1    噪音       做车险代理的前景如何 谊信合让你的财富事业迈上新高度   \n",
       "2  产品销售               坐飞机必须买保险？航意险适合哪些人？   \n",
       "3    噪音  左权县人民政府金融工作办公室2017年统筹整合财政资金项目公示   \n",
       "4  消费服务                      昨天车险报案比平常翻倍   \n",
       "\n",
       "                                             content  \\\n",
       "0   一一妈妈说理财·出品\\n (图片)\\n\\r月光族困惑：···这个月才过半，各种经费不够啊！...   \n",
       "1   小本创业网\\n\\r»\\n\\r加盟项目资讯›\\n\\r»\\n\\r资讯中心\\n\\r»\\n\\r做车...   \n",
       "2   坐飞机必须买保险？航意险适合哪些人？\\n\\r　　随着经济的发展，大家对生活品质的追求，越来...   \n",
       "3   \\n\\r为推进我县\\n“五位一体”扶贫小额信贷工作，各承贷银行对全县建档立卡贫困户累计备案...   \n",
       "4   (图片)\\n\\r雪中骑行滑倒 朱小军 摄\\n\\r　　一场暴雪让扬州各家保险公司忙翻了天，车...   \n",
       "\n",
       "                                                 url  \\\n",
       "0             https://xueqiu.com/1983578372/98551727   \n",
       "1                   http://jxhb.91cy.cn/119134.shtml   \n",
       "2    http://www.dtnews.cn/2018/january/99502C93.html   \n",
       "3  http://www.zqxzf.com/newscont.asp?id=61811&pid...   \n",
       "4                  http://3g.k.sohu.com/t/n253854349   \n",
       "\n",
       "                                           title_url  \n",
       "0  妈妈说理财: 做好规划不当月光族不做守财奴 一一妈妈说理财·出品 月光族困惑：···这个月才...  \n",
       "1                         做车险代理的前景如何 谊信合让你的财富事业迈上新高度  \n",
       "2              坐飞机必须买保险？航意险适合哪些人？\\r\\n        - 大同新闻网  \n",
       "3                    左权县人民政府金融工作办公室2017年统筹整合财政资金项目公示  \n",
       "4                                        昨天车险报案比平常翻倍  "
      ]
     },
     "execution_count": 40,
     "metadata": {},
     "output_type": "execute_result"
    }
   ],
   "source": [
    "cir_data_raw_1 = pd.DataFrame()\n",
    "for file_name in file_list1:\n",
    "    tmp_data = pd.read_excel('data/result/{0}'.format(file_name))\n",
    "    print(tmp_data.shape, file_name)\n",
    "    cir_data_raw_1 = pd.concat([cir_data_raw_1, tmp_data], axis = 0)\n",
    "\n",
    "# result.to_excel('data/result/class_data_raw_1.xlsx', index = False)\n",
    "print('总数：', cir_data_raw_1.shape)\n",
    "print(cir_data_raw_1[cir_data_raw_1['title']=='听说出来了一款保证续保的医疗险?真相如何?'])\n",
    "cir_data_raw_1.head()"
   ]
  },
  {
   "cell_type": "code",
   "execution_count": 41,
   "metadata": {
    "ExecuteTime": {
     "end_time": "2018-07-30T08:00:51.695808Z",
     "start_time": "2018-07-30T08:00:51.691210Z"
    }
   },
   "outputs": [],
   "source": [
    "#这些文件是自身带有正文的文件\n",
    "file_list2 = ['20180727_circ_class_1.xlsx']"
   ]
  },
  {
   "cell_type": "code",
   "execution_count": 42,
   "metadata": {
    "ExecuteTime": {
     "end_time": "2018-07-30T08:00:53.166037Z",
     "start_time": "2018-07-30T08:00:52.293581Z"
    }
   },
   "outputs": [
    {
     "name": "stdout",
     "output_type": "stream",
     "text": [
      "去空值前：  (4478, 4) 20180727_circ_class_1.xlsx\n",
      "去空值后：  (4477, 4) 20180727_circ_class_1.xlsx\n",
      "总数： (4477, 4)\n"
     ]
    },
    {
     "data": {
      "text/html": [
       "<div>\n",
       "<style scoped>\n",
       "    .dataframe tbody tr th:only-of-type {\n",
       "        vertical-align: middle;\n",
       "    }\n",
       "\n",
       "    .dataframe tbody tr th {\n",
       "        vertical-align: top;\n",
       "    }\n",
       "\n",
       "    .dataframe thead th {\n",
       "        text-align: right;\n",
       "    }\n",
       "</style>\n",
       "<table border=\"1\" class=\"dataframe\">\n",
       "  <thead>\n",
       "    <tr style=\"text-align: right;\">\n",
       "      <th></th>\n",
       "      <th>number</th>\n",
       "      <th>title</th>\n",
       "      <th>content</th>\n",
       "      <th>label</th>\n",
       "    </tr>\n",
       "  </thead>\n",
       "  <tbody>\n",
       "    <tr>\n",
       "      <th>0</th>\n",
       "      <td>1</td>\n",
       "      <td>做人干干净净，善良终有好报！</td>\n",
       "      <td>牵手国寿 中国人寿，一言九鼎；相知多年，值得托付！ 做人，就两个字：善良。 善良的人，永远都...</td>\n",
       "      <td>产品销售</td>\n",
       "    </tr>\n",
       "    <tr>\n",
       "      <th>1</th>\n",
       "      <td>2</td>\n",
       "      <td>做个好人心正身安魂梦稳 行些善事天知地鉴鬼神钦 以人为本 以天为则</td>\n",
       "      <td>完整财富=家庭 健康 教育 事业 服务 金钱 精神 传播聚财 守财 传财 散财 善财之道 家...</td>\n",
       "      <td>产品销售</td>\n",
       "    </tr>\n",
       "    <tr>\n",
       "      <th>2</th>\n",
       "      <td>3</td>\n",
       "      <td>昨天这对夫妻的聊天记录曝光了，网友们都炸了，女人，要不娘家有钱，要不自己有保险...</td>\n",
       "      <td>爱华云服务 让生活更美好，让华夏充满爱！ 关注 什么是女人的安全感？不是什么漂亮的...</td>\n",
       "      <td>产品销售</td>\n",
       "    </tr>\n",
       "    <tr>\n",
       "      <th>3</th>\n",
       "      <td>4</td>\n",
       "      <td>尊享代驾  安全快捷送您回家</td>\n",
       "      <td>为回馈广大客户，富德生命人寿第十二届客服节期间特意为客户提供了免费补发保单、尊享代驾等增值服...</td>\n",
       "      <td>消费服务</td>\n",
       "    </tr>\n",
       "    <tr>\n",
       "      <th>4</th>\n",
       "      <td>5</td>\n",
       "      <td>尊享e生旗舰版震撼升级！上海质子重离子医院治疗也可100%报销！！！</td>\n",
       "      <td>各位亲爱的会员，国民医保再次升级，现在购买尊享e生旗舰版，可自主增加质子重离子医院治...</td>\n",
       "      <td>产品销售</td>\n",
       "    </tr>\n",
       "  </tbody>\n",
       "</table>\n",
       "</div>"
      ],
      "text/plain": [
       "   number                                       title  \\\n",
       "0       1                              做人干干净净，善良终有好报！   \n",
       "1       2           做个好人心正身安魂梦稳 行些善事天知地鉴鬼神钦 以人为本 以天为则   \n",
       "2       3  昨天这对夫妻的聊天记录曝光了，网友们都炸了，女人，要不娘家有钱，要不自己有保险...   \n",
       "3       4                              尊享代驾  安全快捷送您回家   \n",
       "4       5          尊享e生旗舰版震撼升级！上海质子重离子医院治疗也可100%报销！！！   \n",
       "\n",
       "                                             content label  \n",
       "0  牵手国寿 中国人寿，一言九鼎；相知多年，值得托付！ 做人，就两个字：善良。 善良的人，永远都...  产品销售  \n",
       "1  完整财富=家庭 健康 教育 事业 服务 金钱 精神 传播聚财 守财 传财 散财 善财之道 家...  产品销售  \n",
       "2       爱华云服务 让生活更美好，让华夏充满爱！ 关注 什么是女人的安全感？不是什么漂亮的...  产品销售  \n",
       "3  为回馈广大客户，富德生命人寿第十二届客服节期间特意为客户提供了免费补发保单、尊享代驾等增值服...  消费服务  \n",
       "4      各位亲爱的会员，国民医保再次升级，现在购买尊享e生旗舰版，可自主增加质子重离子医院治...  产品销售  "
      ]
     },
     "execution_count": 42,
     "metadata": {},
     "output_type": "execute_result"
    }
   ],
   "source": [
    "cir_data_raw_2 = pd.DataFrame()\n",
    "for file_name in file_list2:\n",
    "    tmp_data = pd.read_excel('data/raw_data/{0}'.format(file_name))\n",
    "    print('去空值前： ', tmp_data.shape, file_name)\n",
    "    tmp_data = tmp_data.dropna(subset = ['title'], axis = 0)\n",
    "    print('去空值后： ', tmp_data.shape, file_name)\n",
    "    cir_data_raw_2 = pd.concat([cir_data_raw_2, tmp_data], axis = 0)\n",
    "    \n",
    "print('总数：', cir_data_raw_2.shape)\n",
    "cir_data_raw_2.head()"
   ]
  },
  {
   "cell_type": "code",
   "execution_count": 43,
   "metadata": {
    "ExecuteTime": {
     "end_time": "2018-07-30T08:00:53.243820Z",
     "start_time": "2018-07-30T08:00:53.198349Z"
    }
   },
   "outputs": [
    {
     "name": "stdout",
     "output_type": "stream",
     "text": [
      "(7511, 4)\n"
     ]
    },
    {
     "data": {
      "text/html": [
       "<div>\n",
       "<style scoped>\n",
       "    .dataframe tbody tr th:only-of-type {\n",
       "        vertical-align: middle;\n",
       "    }\n",
       "\n",
       "    .dataframe tbody tr th {\n",
       "        vertical-align: top;\n",
       "    }\n",
       "\n",
       "    .dataframe thead th {\n",
       "        text-align: right;\n",
       "    }\n",
       "</style>\n",
       "<table border=\"1\" class=\"dataframe\">\n",
       "  <thead>\n",
       "    <tr style=\"text-align: right;\">\n",
       "      <th></th>\n",
       "      <th>title</th>\n",
       "      <th>content</th>\n",
       "      <th>label</th>\n",
       "      <th>title_content</th>\n",
       "    </tr>\n",
       "  </thead>\n",
       "  <tbody>\n",
       "    <tr>\n",
       "      <th>0</th>\n",
       "      <td>做好规划不当月光族不做守财奴</td>\n",
       "      <td>一一妈妈说理财·出品\\n (图片)\\n\\r月光族困惑：···这个月才过半，各种经费不够啊！...</td>\n",
       "      <td>噪音</td>\n",
       "      <td>做好规划不当月光族不做守财奴。 一一妈妈说理财·出品\\n (图片)\\n\\r月光族困惑：···...</td>\n",
       "    </tr>\n",
       "    <tr>\n",
       "      <th>1</th>\n",
       "      <td>做车险代理的前景如何 谊信合让你的财富事业迈上新高度</td>\n",
       "      <td>小本创业网\\n\\r»\\n\\r加盟项目资讯›\\n\\r»\\n\\r资讯中心\\n\\r»\\n\\r做车...</td>\n",
       "      <td>噪音</td>\n",
       "      <td>做车险代理的前景如何 谊信合让你的财富事业迈上新高度。 小本创业网\\n\\r»\\n\\r加盟项目...</td>\n",
       "    </tr>\n",
       "    <tr>\n",
       "      <th>2</th>\n",
       "      <td>坐飞机必须买保险？航意险适合哪些人？</td>\n",
       "      <td>坐飞机必须买保险？航意险适合哪些人？\\n\\r　　随着经济的发展，大家对生活品质的追求，越来...</td>\n",
       "      <td>产品销售</td>\n",
       "      <td>坐飞机必须买保险？航意险适合哪些人？。 坐飞机必须买保险？航意险适合哪些人？\\n\\r　　随着...</td>\n",
       "    </tr>\n",
       "    <tr>\n",
       "      <th>3</th>\n",
       "      <td>左权县人民政府金融工作办公室2017年统筹整合财政资金项目公示</td>\n",
       "      <td>\\n\\r为推进我县\\n“五位一体”扶贫小额信贷工作，各承贷银行对全县建档立卡贫困户累计备案...</td>\n",
       "      <td>噪音</td>\n",
       "      <td>左权县人民政府金融工作办公室2017年统筹整合财政资金项目公示。 \\n\\r为推进我县\\n“五...</td>\n",
       "    </tr>\n",
       "    <tr>\n",
       "      <th>4</th>\n",
       "      <td>昨天车险报案比平常翻倍</td>\n",
       "      <td>(图片)\\n\\r雪中骑行滑倒 朱小军 摄\\n\\r　　一场暴雪让扬州各家保险公司忙翻了天，车...</td>\n",
       "      <td>消费服务</td>\n",
       "      <td>昨天车险报案比平常翻倍。 (图片)\\n\\r雪中骑行滑倒 朱小军 摄\\n\\r　　一场暴雪让扬州...</td>\n",
       "    </tr>\n",
       "  </tbody>\n",
       "</table>\n",
       "</div>"
      ],
      "text/plain": [
       "                             title  \\\n",
       "0                   做好规划不当月光族不做守财奴   \n",
       "1       做车险代理的前景如何 谊信合让你的财富事业迈上新高度   \n",
       "2               坐飞机必须买保险？航意险适合哪些人？   \n",
       "3  左权县人民政府金融工作办公室2017年统筹整合财政资金项目公示   \n",
       "4                      昨天车险报案比平常翻倍   \n",
       "\n",
       "                                             content label  \\\n",
       "0   一一妈妈说理财·出品\\n (图片)\\n\\r月光族困惑：···这个月才过半，各种经费不够啊！...    噪音   \n",
       "1   小本创业网\\n\\r»\\n\\r加盟项目资讯›\\n\\r»\\n\\r资讯中心\\n\\r»\\n\\r做车...    噪音   \n",
       "2   坐飞机必须买保险？航意险适合哪些人？\\n\\r　　随着经济的发展，大家对生活品质的追求，越来...  产品销售   \n",
       "3   \\n\\r为推进我县\\n“五位一体”扶贫小额信贷工作，各承贷银行对全县建档立卡贫困户累计备案...    噪音   \n",
       "4   (图片)\\n\\r雪中骑行滑倒 朱小军 摄\\n\\r　　一场暴雪让扬州各家保险公司忙翻了天，车...  消费服务   \n",
       "\n",
       "                                       title_content  \n",
       "0  做好规划不当月光族不做守财奴。 一一妈妈说理财·出品\\n (图片)\\n\\r月光族困惑：···...  \n",
       "1  做车险代理的前景如何 谊信合让你的财富事业迈上新高度。 小本创业网\\n\\r»\\n\\r加盟项目...  \n",
       "2  坐飞机必须买保险？航意险适合哪些人？。 坐飞机必须买保险？航意险适合哪些人？\\n\\r　　随着...  \n",
       "3  左权县人民政府金融工作办公室2017年统筹整合财政资金项目公示。 \\n\\r为推进我县\\n“五...  \n",
       "4  昨天车险报案比平常翻倍。 (图片)\\n\\r雪中骑行滑倒 朱小军 摄\\n\\r　　一场暴雪让扬州...  "
      ]
     },
     "execution_count": 43,
     "metadata": {},
     "output_type": "execute_result"
    }
   ],
   "source": [
    "cir_data_raw = pd.concat([cir_data_raw_1[['title', 'content', 'label']], \n",
    "                          cir_data_raw_2[['title', 'content', 'label']]], \n",
    "                         axis = 0)\n",
    "cir_data_raw['title_content'] = cir_data_raw['title'].astype(str) + '。' + cir_data_raw['content'].astype(str)\n",
    "print(cir_data_raw.shape)\n",
    "cir_data_raw.head()"
   ]
  },
  {
   "cell_type": "code",
   "execution_count": 44,
   "metadata": {
    "ExecuteTime": {
     "end_time": "2018-07-30T08:00:55.092811Z",
     "start_time": "2018-07-30T08:00:55.082537Z"
    }
   },
   "outputs": [
    {
     "data": {
      "text/plain": [
       "label\n",
       "产品销售       322\n",
       "公司内部管理     580\n",
       "其他相关报道     679\n",
       "噪音        3375\n",
       "噪音           6\n",
       "消费服务       280\n",
       "监管        1490\n",
       "行业         318\n",
       "资本市场       461\n",
       "Name: title, dtype: int64"
      ]
     },
     "execution_count": 44,
     "metadata": {},
     "output_type": "execute_result"
    }
   ],
   "source": [
    "cir_data_raw.groupby('label')['title'].count()"
   ]
  },
  {
   "cell_type": "markdown",
   "metadata": {},
   "source": [
    "# 预处理"
   ]
  },
  {
   "cell_type": "code",
   "execution_count": 45,
   "metadata": {
    "ExecuteTime": {
     "end_time": "2018-07-30T08:01:15.235619Z",
     "start_time": "2018-07-30T08:01:13.569553Z"
    }
   },
   "outputs": [
    {
     "name": "stdout",
     "output_type": "stream",
     "text": [
      "7511\n"
     ]
    }
   ],
   "source": [
    "title = pre_cor.handle_contents(cir_data_raw['title'].tolist())\n",
    "print(len(title))\n",
    "\n",
    "coprus_save_filename = 'data/titles.txt'\n",
    "f = open(coprus_save_filename, \"w+\", encoding='UTF-8')\n",
    "for data in title:\n",
    "    f.write(data + '\\n')\n",
    "f.close()"
   ]
  },
  {
   "cell_type": "code",
   "execution_count": null,
   "metadata": {
    "ExecuteTime": {
     "start_time": "2018-07-30T08:01:14.350Z"
    }
   },
   "outputs": [],
   "source": [
    "contents = pre_cor.handle_contents(cir_data_raw['content'].tolist())\n",
    "print(len(contents))\n",
    "contents = [re.sub(r'[A-Za-z]*', '', x) for x in contents]\n",
    "print(len(contents))\n",
    "\n",
    "coprus_save_filename = 'data/contents.txt'\n",
    "f = open(coprus_save_filename, \"w+\", encoding='UTF-8')\n",
    "for data in contents:\n",
    "    f.write(data + '\\n')\n",
    "f.close()"
   ]
  },
  {
   "cell_type": "code",
   "execution_count": null,
   "metadata": {
    "ExecuteTime": {
     "start_time": "2018-07-30T08:01:14.941Z"
    }
   },
   "outputs": [],
   "source": [
    "label = cir_data_raw['label'].tolist()\n",
    "print(len(label))\n",
    "\n",
    "coprus_save_filename = 'data/labels.txt'\n",
    "f = open(coprus_save_filename, \"w+\", encoding='UTF-8')\n",
    "for data in label:\n",
    "    f.write(data + '\\n')\n",
    "f.close()"
   ]
  },
  {
   "cell_type": "code",
   "execution_count": null,
   "metadata": {
    "ExecuteTime": {
     "start_time": "2018-07-30T08:01:15.565Z"
    }
   },
   "outputs": [],
   "source": [
    "cir_data_raw.to_excel('data/result/title_content_label.xlsx', index = False)\n",
    "cir_data_raw.shape"
   ]
  },
  {
   "cell_type": "code",
   "execution_count": null,
   "metadata": {},
   "outputs": [],
   "source": []
  }
 ],
 "metadata": {
  "kernelspec": {
   "display_name": "Python 3",
   "language": "python",
   "name": "python3"
  },
  "language_info": {
   "codemirror_mode": {
    "name": "ipython",
    "version": 3
   },
   "file_extension": ".py",
   "mimetype": "text/x-python",
   "name": "python",
   "nbconvert_exporter": "python",
   "pygments_lexer": "ipython3",
   "version": "3.6.4"
  },
  "toc": {
   "base_numbering": 1,
   "nav_menu": {},
   "number_sections": true,
   "sideBar": true,
   "skip_h1_title": false,
   "title_cell": "Table of Contents",
   "title_sidebar": "Contents",
   "toc_cell": false,
   "toc_position": {},
   "toc_section_display": true,
   "toc_window_display": true
  }
 },
 "nbformat": 4,
 "nbformat_minor": 2
}
