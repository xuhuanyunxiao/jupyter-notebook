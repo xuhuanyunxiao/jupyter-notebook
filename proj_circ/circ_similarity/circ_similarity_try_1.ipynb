{
 "cells": [
  {
   "cell_type": "markdown",
   "metadata": {},
   "source": [
    "- 保监会 相关度判定"
   ]
  },
  {
   "cell_type": "markdown",
   "metadata": {},
   "source": [
    "# 基本设定"
   ]
  },
  {
   "cell_type": "code",
   "execution_count": 1,
   "metadata": {
    "ExecuteTime": {
     "end_time": "2018-07-04T08:46:26.454338Z",
     "start_time": "2018-07-04T08:46:23.147148Z"
    }
   },
   "outputs": [
    {
     "name": "stderr",
     "output_type": "stream",
     "text": [
      "D:\\software\\conda\\lib\\site-packages\\gensim\\utils.py:1197: UserWarning: detected Windows; aliasing chunkize to chunkize_serial\n",
      "  warnings.warn(\"detected Windows; aliasing chunkize to chunkize_serial\")\n",
      "Building prefix dict from the default dictionary ...\n",
      "Loading model from cache C:\\Users\\ADMINI~1\\AppData\\Local\\Temp\\jieba.cache\n",
      "Loading model cost 1.292 seconds.\n",
      "Prefix dict has been built succesfully.\n"
     ]
    }
   ],
   "source": [
    "import os\n",
    "import time\n",
    "import sys\n",
    "import os\n",
    "import re\n",
    "import random\n",
    "import time\n",
    "import binascii\n",
    "from bisect import bisect_right\n",
    "from heapq import heappop, heappush\n",
    "from gensim import corpora, models, similarities\n",
    "\n",
    "import numpy as np\n",
    "import pandas as pd\n",
    "from scipy.sparse import csr_matrix\n",
    "\n",
    "from matplotlib import pyplot as plt\n",
    "import seaborn as sns\n",
    "%matplotlib inline\n",
    "\n",
    "import pre_cor\n",
    "from datasketch import MinHash"
   ]
  },
  {
   "cell_type": "code",
   "execution_count": 2,
   "metadata": {
    "ExecuteTime": {
     "end_time": "2018-07-04T08:46:26.473339Z",
     "start_time": "2018-07-04T08:46:26.459338Z"
    },
    "collapsed": true
   },
   "outputs": [],
   "source": [
    "def fig_heatmap(data):\n",
    "    fig, ax = plt.subplots(figsize=(22, 15))\n",
    "    cmap = sns.diverging_palette(220, 20, n=20)\n",
    "    sns.heatmap(data, cmap = cmap,\n",
    "                annot = True, annot_kws={'size':8, 'weight':'bold', 'color':'blue'}, \n",
    "                cbar = True, cbar_kws ={'orientation':'vertical',\n",
    "                                        'pad':0.005, 'fraction':0.45}, \n",
    "                vmax = 1, vmin = -1, linewidths=.5, fmt=\"0.2f\")\n",
    "    plt.yticks(fontsize = 15)\n",
    "    plt.xticks(fontsize = 15)"
   ]
  },
  {
   "cell_type": "markdown",
   "metadata": {},
   "source": [
    "# 导入数据"
   ]
  },
  {
   "cell_type": "code",
   "execution_count": 3,
   "metadata": {
    "ExecuteTime": {
     "end_time": "2018-07-04T08:46:26.674350Z",
     "start_time": "2018-07-04T08:46:26.476339Z"
    }
   },
   "outputs": [
    {
     "data": {
      "text/html": [
       "<div>\n",
       "<style scoped>\n",
       "    .dataframe tbody tr th:only-of-type {\n",
       "        vertical-align: middle;\n",
       "    }\n",
       "\n",
       "    .dataframe tbody tr th {\n",
       "        vertical-align: top;\n",
       "    }\n",
       "\n",
       "    .dataframe thead th {\n",
       "        text-align: right;\n",
       "    }\n",
       "</style>\n",
       "<table border=\"1\" class=\"dataframe\">\n",
       "  <thead>\n",
       "    <tr style=\"text-align: right;\">\n",
       "      <th></th>\n",
       "      <th>id</th>\n",
       "      <th>content</th>\n",
       "      <th>title</th>\n",
       "      <th>author</th>\n",
       "    </tr>\n",
       "  </thead>\n",
       "  <tbody>\n",
       "    <tr>\n",
       "      <th>0</th>\n",
       "      <td>1</td>\n",
       "      <td>来源：人民币交易与研究\\n人民银行会同银监会、证监会、保监会、外汇局等部门于11月17 日发...</td>\n",
       "      <td>10银行联名上书:资管新规可能引发系统性金融风险</td>\n",
       "      <td>网易</td>\n",
       "    </tr>\n",
       "    <tr>\n",
       "      <th>1</th>\n",
       "      <td>2</td>\n",
       "      <td>来源：人民币交易与研究\\n人民银行会同银监会、证监会、保监会、外汇局等部门于11月17 日发...</td>\n",
       "      <td>10银行联名上书:资管新规可能引发系统性金融风险</td>\n",
       "      <td>网易</td>\n",
       "    </tr>\n",
       "    <tr>\n",
       "      <th>2</th>\n",
       "      <td>3</td>\n",
       "      <td>新华社北京11月28日电（记者罗沙）最高人民法院、公安部、司法部、保监会28日联合召开视...</td>\n",
       "      <td>14省市开展交通事故纠纷“网上数据一体化处理”试点</td>\n",
       "      <td>新浪新闻</td>\n",
       "    </tr>\n",
       "    <tr>\n",
       "      <th>3</th>\n",
       "      <td>11</td>\n",
       "      <td>11月24日,中国保监会官方网站公布了2017年保险公司服务评价评级结果,在参评的59家人身...</td>\n",
       "      <td>新华保险再次荣获保监会服务评价AA 评级---三湘都市报数字报刊</td>\n",
       "      <td>三湘都市报</td>\n",
       "    </tr>\n",
       "    <tr>\n",
       "      <th>4</th>\n",
       "      <td>12</td>\n",
       "      <td>11月24日,保监会官方网站公布了2017年保险公司服务评价评级结果,在参评的59家人身险公...</td>\n",
       "      <td>新华保险再次荣获保监会服务评价AA评级</td>\n",
       "      <td>新浪</td>\n",
       "    </tr>\n",
       "  </tbody>\n",
       "</table>\n",
       "</div>"
      ],
      "text/plain": [
       "   id                                            content  \\\n",
       "0   1  来源：人民币交易与研究\\n人民银行会同银监会、证监会、保监会、外汇局等部门于11月17 日发...   \n",
       "1   2  来源：人民币交易与研究\\n人民银行会同银监会、证监会、保监会、外汇局等部门于11月17 日发...   \n",
       "2   3  　　新华社北京11月28日电（记者罗沙）最高人民法院、公安部、司法部、保监会28日联合召开视...   \n",
       "3  11  11月24日,中国保监会官方网站公布了2017年保险公司服务评价评级结果,在参评的59家人身...   \n",
       "4  12  11月24日,保监会官方网站公布了2017年保险公司服务评价评级结果,在参评的59家人身险公...   \n",
       "\n",
       "                              title author  \n",
       "0          10银行联名上书:资管新规可能引发系统性金融风险     网易  \n",
       "1          10银行联名上书:资管新规可能引发系统性金融风险     网易  \n",
       "2         14省市开展交通事故纠纷“网上数据一体化处理”试点   新浪新闻  \n",
       "3  新华保险再次荣获保监会服务评价AA 评级---三湘都市报数字报刊  三湘都市报  \n",
       "4               新华保险再次荣获保监会服务评价AA评级     新浪  "
      ]
     },
     "execution_count": 3,
     "metadata": {},
     "output_type": "execute_result"
    }
   ],
   "source": [
    "data = pd.read_excel('data/similarity_select.xlsx')\n",
    "data.head()"
   ]
  },
  {
   "cell_type": "markdown",
   "metadata": {},
   "source": [
    "# 预处理数据"
   ]
  },
  {
   "cell_type": "code",
   "execution_count": 4,
   "metadata": {
    "ExecuteTime": {
     "end_time": "2018-07-04T08:46:27.276385Z",
     "start_time": "2018-07-04T08:46:26.680351Z"
    }
   },
   "outputs": [
    {
     "data": {
      "text/plain": [
       "25"
      ]
     },
     "execution_count": 4,
     "metadata": {},
     "output_type": "execute_result"
    }
   ],
   "source": [
    "data_content = data['content'].tolist()\n",
    "data_list = pre_cor.handle_contents(data_content) # 数据结构：['word word']\n",
    "len(data_list)"
   ]
  },
  {
   "cell_type": "markdown",
   "metadata": {},
   "source": [
    "# minhash\n",
    "- minhash包的时间太长，完全不能接受\n",
    "- 只能自编代码实现"
   ]
  },
  {
   "cell_type": "markdown",
   "metadata": {},
   "source": [
    "## 简单案例\n",
    "- 案例的大致步骤为：\n",
    "> - MinHash初始化状态，需要预先设定MinHash()初始化\n",
    "> - 内容哈希化，内容m1.update哈希化\n",
    "> - jaccard距离，float(len(s1.intersection(s2)))/float(len(s1.union(s2)))用集合的方式求距离"
   ]
  },
  {
   "cell_type": "code",
   "execution_count": 5,
   "metadata": {
    "ExecuteTime": {
     "end_time": "2018-07-04T08:46:28.178436Z",
     "start_time": "2018-07-04T08:46:27.281385Z"
    }
   },
   "outputs": [
    {
     "name": "stdout",
     "output_type": "stream",
     "text": [
      "Estimated Jaccard for data1 and data2 is 1.0\n",
      "Actual Jaccard for data1 and data2 is 1.0\n"
     ]
    }
   ],
   "source": [
    "data1 = data_list[0]\n",
    "data2 = data_list[1]\n",
    "\n",
    "m1, m2 = MinHash(), MinHash()\n",
    "for d in data1:\n",
    "    m1.update(d.encode('utf8'))\n",
    "for d in data2:\n",
    "    m2.update(d.encode('utf8'))\n",
    "print(\"Estimated Jaccard for data1 and data2 is\", m1.jaccard(m2))\n",
    "\n",
    "s1 = set(data1)\n",
    "s2 = set(data2)\n",
    "actual_jaccard = float(len(s1.intersection(s2)))/float(len(s1.union(s2)))\n",
    "print(\"Actual Jaccard for data1 and data2 is\", actual_jaccard)"
   ]
  },
  {
   "cell_type": "markdown",
   "metadata": {},
   "source": [
    "## 相似度计算 Jaccard"
   ]
  },
  {
   "cell_type": "code",
   "execution_count": 34,
   "metadata": {
    "ExecuteTime": {
     "end_time": "2018-07-04T08:56:48.890939Z",
     "start_time": "2018-07-04T08:56:36.763245Z"
    },
    "collapsed": true
   },
   "outputs": [],
   "source": [
    "doc_simi_estimated = []\n",
    "doc_simi_actual = []\n",
    "\n",
    "num_perm=128\n",
    "\n",
    "for i, value in enumerate(data_list):\n",
    "    doc_simi_est = []\n",
    "    doc_simi_act = []\n",
    "    for j, value in enumerate(data_list):\n",
    "        data_1 = data_list[i].split(' ')\n",
    "        data_2 = data_list[j].split(' ')\n",
    "        \n",
    "        m1, m2 = MinHash(num_perm=num_perm), MinHash(num_perm=num_perm)\n",
    "        for d in data_1: \n",
    "            if len(d) >0:\n",
    "                m1.update(d.encode('utf8'))\n",
    "        for d in data_2: \n",
    "            if len(d) >0:\n",
    "                m2.update(d.encode('utf8'))\n",
    "\n",
    "        s1 = set(data_1)\n",
    "        s2 = set(data_2)\n",
    "        estimated_simi = m1.jaccard(m2)\n",
    "        actual_simi = float(len(s1.intersection(s2)))/float(len(s1.union(s2)))\n",
    "        \n",
    "        doc_simi_est.append(estimated_simi) \n",
    "        doc_simi_act.append(actual_simi)\n",
    "\n",
    "    doc_simi_estimated.append(doc_simi_est) \n",
    "    doc_simi_actual.append(doc_simi_act)            "
   ]
  },
  {
   "cell_type": "code",
   "execution_count": 35,
   "metadata": {
    "ExecuteTime": {
     "end_time": "2018-07-04T08:56:48.975944Z",
     "start_time": "2018-07-04T08:56:48.938942Z"
    }
   },
   "outputs": [
    {
     "data": {
      "text/html": [
       "<div>\n",
       "<style scoped>\n",
       "    .dataframe tbody tr th:only-of-type {\n",
       "        vertical-align: middle;\n",
       "    }\n",
       "\n",
       "    .dataframe tbody tr th {\n",
       "        vertical-align: top;\n",
       "    }\n",
       "\n",
       "    .dataframe thead th {\n",
       "        text-align: right;\n",
       "    }\n",
       "</style>\n",
       "<table border=\"1\" class=\"dataframe\">\n",
       "  <thead>\n",
       "    <tr style=\"text-align: right;\">\n",
       "      <th></th>\n",
       "      <th>1</th>\n",
       "      <th>2</th>\n",
       "      <th>3</th>\n",
       "      <th>11</th>\n",
       "      <th>12</th>\n",
       "      <th>13</th>\n",
       "      <th>21</th>\n",
       "      <th>22</th>\n",
       "      <th>31</th>\n",
       "      <th>32</th>\n",
       "      <th>...</th>\n",
       "      <th>61</th>\n",
       "      <th>62</th>\n",
       "      <th>71</th>\n",
       "      <th>72</th>\n",
       "      <th>73</th>\n",
       "      <th>74</th>\n",
       "      <th>81</th>\n",
       "      <th>82</th>\n",
       "      <th>83</th>\n",
       "      <th>84</th>\n",
       "    </tr>\n",
       "  </thead>\n",
       "  <tbody>\n",
       "    <tr>\n",
       "      <th>1</th>\n",
       "      <td>1.000000</td>\n",
       "      <td>1.000000</td>\n",
       "      <td>0.023438</td>\n",
       "      <td>0.000000</td>\n",
       "      <td>0.000000</td>\n",
       "      <td>0.000000</td>\n",
       "      <td>0.125000</td>\n",
       "      <td>0.140625</td>\n",
       "      <td>0.093750</td>\n",
       "      <td>0.101562</td>\n",
       "      <td>...</td>\n",
       "      <td>0.062500</td>\n",
       "      <td>0.054688</td>\n",
       "      <td>0.000000</td>\n",
       "      <td>0.000000</td>\n",
       "      <td>0.007812</td>\n",
       "      <td>0.000000</td>\n",
       "      <td>0.007812</td>\n",
       "      <td>0.007812</td>\n",
       "      <td>0.007812</td>\n",
       "      <td>0.007812</td>\n",
       "    </tr>\n",
       "    <tr>\n",
       "      <th>2</th>\n",
       "      <td>1.000000</td>\n",
       "      <td>1.000000</td>\n",
       "      <td>0.023438</td>\n",
       "      <td>0.000000</td>\n",
       "      <td>0.000000</td>\n",
       "      <td>0.000000</td>\n",
       "      <td>0.125000</td>\n",
       "      <td>0.140625</td>\n",
       "      <td>0.093750</td>\n",
       "      <td>0.101562</td>\n",
       "      <td>...</td>\n",
       "      <td>0.062500</td>\n",
       "      <td>0.054688</td>\n",
       "      <td>0.000000</td>\n",
       "      <td>0.000000</td>\n",
       "      <td>0.007812</td>\n",
       "      <td>0.000000</td>\n",
       "      <td>0.007812</td>\n",
       "      <td>0.007812</td>\n",
       "      <td>0.007812</td>\n",
       "      <td>0.007812</td>\n",
       "    </tr>\n",
       "    <tr>\n",
       "      <th>3</th>\n",
       "      <td>0.023438</td>\n",
       "      <td>0.023438</td>\n",
       "      <td>1.000000</td>\n",
       "      <td>0.007812</td>\n",
       "      <td>0.023438</td>\n",
       "      <td>0.007812</td>\n",
       "      <td>0.062500</td>\n",
       "      <td>0.054688</td>\n",
       "      <td>0.023438</td>\n",
       "      <td>0.023438</td>\n",
       "      <td>...</td>\n",
       "      <td>0.046875</td>\n",
       "      <td>0.039062</td>\n",
       "      <td>0.023438</td>\n",
       "      <td>0.007812</td>\n",
       "      <td>0.023438</td>\n",
       "      <td>0.007812</td>\n",
       "      <td>0.015625</td>\n",
       "      <td>0.023438</td>\n",
       "      <td>0.023438</td>\n",
       "      <td>0.007812</td>\n",
       "    </tr>\n",
       "    <tr>\n",
       "      <th>11</th>\n",
       "      <td>0.000000</td>\n",
       "      <td>0.000000</td>\n",
       "      <td>0.007812</td>\n",
       "      <td>1.000000</td>\n",
       "      <td>0.875000</td>\n",
       "      <td>0.726562</td>\n",
       "      <td>0.000000</td>\n",
       "      <td>0.023438</td>\n",
       "      <td>0.031250</td>\n",
       "      <td>0.031250</td>\n",
       "      <td>...</td>\n",
       "      <td>0.023438</td>\n",
       "      <td>0.023438</td>\n",
       "      <td>0.757812</td>\n",
       "      <td>1.000000</td>\n",
       "      <td>0.789062</td>\n",
       "      <td>0.859375</td>\n",
       "      <td>0.039062</td>\n",
       "      <td>0.031250</td>\n",
       "      <td>0.031250</td>\n",
       "      <td>0.000000</td>\n",
       "    </tr>\n",
       "    <tr>\n",
       "      <th>12</th>\n",
       "      <td>0.000000</td>\n",
       "      <td>0.000000</td>\n",
       "      <td>0.023438</td>\n",
       "      <td>0.875000</td>\n",
       "      <td>1.000000</td>\n",
       "      <td>0.648438</td>\n",
       "      <td>0.015625</td>\n",
       "      <td>0.031250</td>\n",
       "      <td>0.046875</td>\n",
       "      <td>0.046875</td>\n",
       "      <td>...</td>\n",
       "      <td>0.023438</td>\n",
       "      <td>0.023438</td>\n",
       "      <td>0.820312</td>\n",
       "      <td>0.875000</td>\n",
       "      <td>0.820312</td>\n",
       "      <td>0.757812</td>\n",
       "      <td>0.039062</td>\n",
       "      <td>0.031250</td>\n",
       "      <td>0.031250</td>\n",
       "      <td>0.000000</td>\n",
       "    </tr>\n",
       "  </tbody>\n",
       "</table>\n",
       "<p>5 rows × 25 columns</p>\n",
       "</div>"
      ],
      "text/plain": [
       "          1         2         3         11        12        13        21  \\\n",
       "1   1.000000  1.000000  0.023438  0.000000  0.000000  0.000000  0.125000   \n",
       "2   1.000000  1.000000  0.023438  0.000000  0.000000  0.000000  0.125000   \n",
       "3   0.023438  0.023438  1.000000  0.007812  0.023438  0.007812  0.062500   \n",
       "11  0.000000  0.000000  0.007812  1.000000  0.875000  0.726562  0.000000   \n",
       "12  0.000000  0.000000  0.023438  0.875000  1.000000  0.648438  0.015625   \n",
       "\n",
       "          22        31        32    ...           61        62        71  \\\n",
       "1   0.140625  0.093750  0.101562    ...     0.062500  0.054688  0.000000   \n",
       "2   0.140625  0.093750  0.101562    ...     0.062500  0.054688  0.000000   \n",
       "3   0.054688  0.023438  0.023438    ...     0.046875  0.039062  0.023438   \n",
       "11  0.023438  0.031250  0.031250    ...     0.023438  0.023438  0.757812   \n",
       "12  0.031250  0.046875  0.046875    ...     0.023438  0.023438  0.820312   \n",
       "\n",
       "          72        73        74        81        82        83        84  \n",
       "1   0.000000  0.007812  0.000000  0.007812  0.007812  0.007812  0.007812  \n",
       "2   0.000000  0.007812  0.000000  0.007812  0.007812  0.007812  0.007812  \n",
       "3   0.007812  0.023438  0.007812  0.015625  0.023438  0.023438  0.007812  \n",
       "11  1.000000  0.789062  0.859375  0.039062  0.031250  0.031250  0.000000  \n",
       "12  0.875000  0.820312  0.757812  0.039062  0.031250  0.031250  0.000000  \n",
       "\n",
       "[5 rows x 25 columns]"
      ]
     },
     "execution_count": 35,
     "metadata": {},
     "output_type": "execute_result"
    }
   ],
   "source": [
    "col_ind = data['id'].tolist()\n",
    "doc_simi_estimated = pd.DataFrame(doc_simi_estimated, index = col_ind, columns = col_ind)\n",
    "doc_simi_estimated.head()"
   ]
  },
  {
   "cell_type": "code",
   "execution_count": 36,
   "metadata": {
    "ExecuteTime": {
     "end_time": "2018-07-04T08:56:49.100951Z",
     "start_time": "2018-07-04T08:56:49.033947Z"
    }
   },
   "outputs": [
    {
     "data": {
      "text/html": [
       "<div>\n",
       "<style scoped>\n",
       "    .dataframe tbody tr th:only-of-type {\n",
       "        vertical-align: middle;\n",
       "    }\n",
       "\n",
       "    .dataframe tbody tr th {\n",
       "        vertical-align: top;\n",
       "    }\n",
       "\n",
       "    .dataframe thead th {\n",
       "        text-align: right;\n",
       "    }\n",
       "</style>\n",
       "<table border=\"1\" class=\"dataframe\">\n",
       "  <thead>\n",
       "    <tr style=\"text-align: right;\">\n",
       "      <th></th>\n",
       "      <th>1</th>\n",
       "      <th>2</th>\n",
       "      <th>3</th>\n",
       "      <th>11</th>\n",
       "      <th>12</th>\n",
       "      <th>13</th>\n",
       "      <th>21</th>\n",
       "      <th>22</th>\n",
       "      <th>31</th>\n",
       "      <th>32</th>\n",
       "      <th>...</th>\n",
       "      <th>61</th>\n",
       "      <th>62</th>\n",
       "      <th>71</th>\n",
       "      <th>72</th>\n",
       "      <th>73</th>\n",
       "      <th>74</th>\n",
       "      <th>81</th>\n",
       "      <th>82</th>\n",
       "      <th>83</th>\n",
       "      <th>84</th>\n",
       "    </tr>\n",
       "  </thead>\n",
       "  <tbody>\n",
       "    <tr>\n",
       "      <th>1</th>\n",
       "      <td>1.000000</td>\n",
       "      <td>1.000000</td>\n",
       "      <td>0.042639</td>\n",
       "      <td>0.009557</td>\n",
       "      <td>0.011304</td>\n",
       "      <td>0.008666</td>\n",
       "      <td>0.094625</td>\n",
       "      <td>0.125514</td>\n",
       "      <td>0.067610</td>\n",
       "      <td>0.070423</td>\n",
       "      <td>...</td>\n",
       "      <td>0.055732</td>\n",
       "      <td>0.055200</td>\n",
       "      <td>0.009574</td>\n",
       "      <td>0.009557</td>\n",
       "      <td>0.009549</td>\n",
       "      <td>0.008703</td>\n",
       "      <td>0.006076</td>\n",
       "      <td>0.006944</td>\n",
       "      <td>0.006944</td>\n",
       "      <td>0.006055</td>\n",
       "    </tr>\n",
       "    <tr>\n",
       "      <th>2</th>\n",
       "      <td>1.000000</td>\n",
       "      <td>1.000000</td>\n",
       "      <td>0.042639</td>\n",
       "      <td>0.009557</td>\n",
       "      <td>0.011304</td>\n",
       "      <td>0.008666</td>\n",
       "      <td>0.094625</td>\n",
       "      <td>0.125514</td>\n",
       "      <td>0.067610</td>\n",
       "      <td>0.070423</td>\n",
       "      <td>...</td>\n",
       "      <td>0.055732</td>\n",
       "      <td>0.055200</td>\n",
       "      <td>0.009574</td>\n",
       "      <td>0.009557</td>\n",
       "      <td>0.009549</td>\n",
       "      <td>0.008703</td>\n",
       "      <td>0.006076</td>\n",
       "      <td>0.006944</td>\n",
       "      <td>0.006944</td>\n",
       "      <td>0.006055</td>\n",
       "    </tr>\n",
       "    <tr>\n",
       "      <th>3</th>\n",
       "      <td>0.042639</td>\n",
       "      <td>0.042639</td>\n",
       "      <td>1.000000</td>\n",
       "      <td>0.027933</td>\n",
       "      <td>0.033520</td>\n",
       "      <td>0.021978</td>\n",
       "      <td>0.051685</td>\n",
       "      <td>0.059105</td>\n",
       "      <td>0.043956</td>\n",
       "      <td>0.045576</td>\n",
       "      <td>...</td>\n",
       "      <td>0.045045</td>\n",
       "      <td>0.039634</td>\n",
       "      <td>0.028249</td>\n",
       "      <td>0.027933</td>\n",
       "      <td>0.027778</td>\n",
       "      <td>0.022599</td>\n",
       "      <td>0.022599</td>\n",
       "      <td>0.028249</td>\n",
       "      <td>0.028249</td>\n",
       "      <td>0.010929</td>\n",
       "    </tr>\n",
       "    <tr>\n",
       "      <th>11</th>\n",
       "      <td>0.009557</td>\n",
       "      <td>0.009557</td>\n",
       "      <td>0.027933</td>\n",
       "      <td>1.000000</td>\n",
       "      <td>0.888889</td>\n",
       "      <td>0.733333</td>\n",
       "      <td>0.021407</td>\n",
       "      <td>0.025194</td>\n",
       "      <td>0.046809</td>\n",
       "      <td>0.044898</td>\n",
       "      <td>...</td>\n",
       "      <td>0.038835</td>\n",
       "      <td>0.040201</td>\n",
       "      <td>0.777778</td>\n",
       "      <td>1.000000</td>\n",
       "      <td>0.821429</td>\n",
       "      <td>0.880000</td>\n",
       "      <td>0.093023</td>\n",
       "      <td>0.090909</td>\n",
       "      <td>0.090909</td>\n",
       "      <td>0.020000</td>\n",
       "    </tr>\n",
       "    <tr>\n",
       "      <th>12</th>\n",
       "      <td>0.011304</td>\n",
       "      <td>0.011304</td>\n",
       "      <td>0.033520</td>\n",
       "      <td>0.888889</td>\n",
       "      <td>1.000000</td>\n",
       "      <td>0.656250</td>\n",
       "      <td>0.027607</td>\n",
       "      <td>0.027132</td>\n",
       "      <td>0.055556</td>\n",
       "      <td>0.053279</td>\n",
       "      <td>...</td>\n",
       "      <td>0.033654</td>\n",
       "      <td>0.034826</td>\n",
       "      <td>0.814815</td>\n",
       "      <td>0.888889</td>\n",
       "      <td>0.793103</td>\n",
       "      <td>0.777778</td>\n",
       "      <td>0.090909</td>\n",
       "      <td>0.088889</td>\n",
       "      <td>0.088889</td>\n",
       "      <td>0.019608</td>\n",
       "    </tr>\n",
       "  </tbody>\n",
       "</table>\n",
       "<p>5 rows × 25 columns</p>\n",
       "</div>"
      ],
      "text/plain": [
       "          1         2         3         11        12        13        21  \\\n",
       "1   1.000000  1.000000  0.042639  0.009557  0.011304  0.008666  0.094625   \n",
       "2   1.000000  1.000000  0.042639  0.009557  0.011304  0.008666  0.094625   \n",
       "3   0.042639  0.042639  1.000000  0.027933  0.033520  0.021978  0.051685   \n",
       "11  0.009557  0.009557  0.027933  1.000000  0.888889  0.733333  0.021407   \n",
       "12  0.011304  0.011304  0.033520  0.888889  1.000000  0.656250  0.027607   \n",
       "\n",
       "          22        31        32    ...           61        62        71  \\\n",
       "1   0.125514  0.067610  0.070423    ...     0.055732  0.055200  0.009574   \n",
       "2   0.125514  0.067610  0.070423    ...     0.055732  0.055200  0.009574   \n",
       "3   0.059105  0.043956  0.045576    ...     0.045045  0.039634  0.028249   \n",
       "11  0.025194  0.046809  0.044898    ...     0.038835  0.040201  0.777778   \n",
       "12  0.027132  0.055556  0.053279    ...     0.033654  0.034826  0.814815   \n",
       "\n",
       "          72        73        74        81        82        83        84  \n",
       "1   0.009557  0.009549  0.008703  0.006076  0.006944  0.006944  0.006055  \n",
       "2   0.009557  0.009549  0.008703  0.006076  0.006944  0.006944  0.006055  \n",
       "3   0.027933  0.027778  0.022599  0.022599  0.028249  0.028249  0.010929  \n",
       "11  1.000000  0.821429  0.880000  0.093023  0.090909  0.090909  0.020000  \n",
       "12  0.888889  0.793103  0.777778  0.090909  0.088889  0.088889  0.019608  \n",
       "\n",
       "[5 rows x 25 columns]"
      ]
     },
     "execution_count": 36,
     "metadata": {},
     "output_type": "execute_result"
    }
   ],
   "source": [
    "col_ind = data['id'].tolist()\n",
    "doc_simi_actual = pd.DataFrame(doc_simi_actual, index = col_ind, columns = col_ind)\n",
    "doc_simi_actual.head()"
   ]
  },
  {
   "cell_type": "code",
   "execution_count": 37,
   "metadata": {
    "ExecuteTime": {
     "end_time": "2018-07-04T08:56:51.251074Z",
     "start_time": "2018-07-04T08:56:49.161954Z"
    }
   },
   "outputs": [
    {
     "data": {
      "image/png": "[encoded data removed]",
      "text/plain": [
       "<matplotlib.figure.Figure at 0x1187a400>"
      ]
     },
     "metadata": {},
     "output_type": "display_data"
    }
   ],
   "source": [
    "fig_heatmap(doc_simi_estimated)"
   ]
  },
  {
   "cell_type": "code",
   "execution_count": 38,
   "metadata": {
    "ExecuteTime": {
     "end_time": "2018-07-04T08:56:53.724215Z",
     "start_time": "2018-07-04T08:56:51.365080Z"
    }
   },
   "outputs": [
    {
     "data": {
      "image/png": "[encoded data removed]",
      "text/plain": [
       "<matplotlib.figure.Figure at 0x1186fc88>"
      ]
     },
     "metadata": {},
     "output_type": "display_data"
    }
   ],
   "source": [
    "fig_heatmap(doc_simi_actual)"
   ]
  },
  {
   "cell_type": "markdown",
   "metadata": {},
   "source": [
    "# simhash"
   ]
  },
  {
   "cell_type": "code",
   "execution_count": 24,
   "metadata": {
    "ExecuteTime": {
     "end_time": "2018-07-04T08:50:12.658276Z",
     "start_time": "2018-07-04T08:50:12.640275Z"
    }
   },
   "outputs": [
    {
     "name": "stdout",
     "output_type": "stream",
     "text": [
      "4d4da690b5a57e47\n",
      "69deac90b5a15eeb\n",
      "4f08a4f4b5a13a4b\n"
     ]
    }
   ],
   "source": [
    "import re\n",
    "from simhash import Simhash\n",
    "\n",
    "def get_features(s):\n",
    "    width = 3\n",
    "    s = s.lower()\n",
    "    s = re.sub(r'[^\\w]+', '', s)\n",
    "    return [s[i:i + width] for i in range(max(len(s) - width + 1, 1))]\n",
    "\n",
    "print('%x'%Simhash(get_features('How are you? I am fine. Thanks.')).value)\n",
    "print('%x'% Simhash(get_features('How are u? I am fine.     Thanks.')).value)\n",
    "print('%x'% Simhash(get_features('How r you?I    am fine. Thanks.')).value)"
   ]
  },
  {
   "cell_type": "code",
   "execution_count": 41,
   "metadata": {
    "ExecuteTime": {
     "end_time": "2018-07-04T09:12:09.787611Z",
     "start_time": "2018-07-04T09:12:09.753609Z"
    }
   },
   "outputs": [
    {
     "name": "stdout",
     "output_type": "stream",
     "text": [
      "11\n",
      "['1']\n",
      "['1', '4']\n"
     ]
    }
   ],
   "source": [
    "import re\n",
    "from simhash import Simhash, SimhashIndex\n",
    "def get_features(s):\n",
    "    width = 3\n",
    "    s = s.lower()\n",
    "    s = re.sub(r'[^\\w]+', '', s)\n",
    "    return [s[i:i + width] for i in range(max(len(s) - width + 1, 1))]\n",
    "\n",
    "data = {\n",
    "    1: u'How are you? I Am fine. blar blar blar blar blar Thanks.',\n",
    "    2: u'How are you i am fine. blar blar blar blar blar than',\n",
    "    3: u'This is simhash test.',\n",
    "}\n",
    "objs = [(str(k), Simhash(get_features(v))) for k, v in data.items()]\n",
    "index = SimhashIndex(objs, k=3)\n",
    "\n",
    "print(index.bucket_size())\n",
    "\n",
    "s1 = Simhash(get_features(u'How are you i am fine. blar blar blar blar blar thank'))\n",
    "print(index.get_near_dups(s1))\n",
    "\n",
    "index.add('4', s1)\n",
    "print(index.get_near_dups(s1))"
   ]
  },
  {
   "cell_type": "code",
   "execution_count": 25,
   "metadata": {
    "ExecuteTime": {
     "end_time": "2018-07-04T08:50:47.797286Z",
     "start_time": "2018-07-04T08:50:47.784285Z"
    }
   },
   "outputs": [
    {
     "name": "stdout",
     "output_type": "stream",
     "text": [
      "31\n",
      "0\n"
     ]
    }
   ],
   "source": [
    "print(Simhash('aa').distance(Simhash('bb')))\n",
    "print( Simhash('aa').distance(Simhash('aa')))"
   ]
  },
  {
   "cell_type": "code",
   "execution_count": 44,
   "metadata": {
    "ExecuteTime": {
     "end_time": "2018-07-04T09:15:17.532350Z",
     "start_time": "2018-07-04T09:15:17.521349Z"
    }
   },
   "outputs": [
    {
     "name": "stdout",
     "output_type": "stream",
     "text": [
      "Help on function distance in module simhash:\n",
      "\n",
      "distance(self, another)\n",
      "\n"
     ]
    }
   ],
   "source": [
    "help(Simhash.distance)"
   ]
  },
  {
   "cell_type": "code",
   "execution_count": null,
   "metadata": {
    "collapsed": true
   },
   "outputs": [],
   "source": [
    "doc_sim = []\n",
    "\n",
    "num_perm=128\n",
    "\n",
    "for i, value in enumerate(data_list):\n",
    "    doc_simi_est = []\n",
    "    doc_simi_act = []\n",
    "    for j, value in enumerate(data_list):\n",
    "        data_1 = data_list[i].split(' ')\n",
    "        data_2 = data_list[j].split(' ')\n",
    "        \n",
    "        m1, m2 = MinHash(num_perm=num_perm), MinHash(num_perm=num_perm)\n",
    "        for d in data_1: \n",
    "            if len(d) >0:\n",
    "                m1.update(d.encode('utf8'))\n",
    "        for d in data_2: \n",
    "            if len(d) >0:\n",
    "                m2.update(d.encode('utf8'))\n",
    "\n",
    "        s1 = set(data_1)\n",
    "        s2 = set(data_2)\n",
    "        estimated_simi = m1.jaccard(m2)\n",
    "        actual_simi = float(len(s1.intersection(s2)))/float(len(s1.union(s2)))\n",
    "        \n",
    "        doc_simi_est.append(estimated_simi) \n",
    "        doc_simi_act.append(actual_simi)\n",
    "\n",
    "    doc_simi_estimated.append(doc_simi_est) \n",
    "    doc_simi_actual.append(doc_simi_act)            "
   ]
  },
  {
   "cell_type": "markdown",
   "metadata": {
    "collapsed": true
   },
   "source": [
    "# python code"
   ]
  },
  {
   "cell_type": "code",
   "execution_count": 11,
   "metadata": {
    "ExecuteTime": {
     "end_time": "2018-07-04T08:47:11.952940Z",
     "start_time": "2018-07-04T08:47:11.943940Z"
    }
   },
   "outputs": [
    {
     "data": {
      "text/plain": [
       "25"
      ]
     },
     "execution_count": 11,
     "metadata": {},
     "output_type": "execute_result"
    }
   ],
   "source": [
    "# 随机哈希函数个数\n",
    "numHashes = 10 \n",
    "\n",
    "# 文本代号\n",
    "docNames = data['id'].tolist()\n",
    "\n",
    "# 文件数量\n",
    "numDocs = len(data_list) #100  \n",
    "numDocs"
   ]
  },
  {
   "cell_type": "code",
   "execution_count": null,
   "metadata": {
    "ExecuteTime": {
     "end_time": "2018-06-28T02:58:55.988624Z",
     "start_time": "2018-06-28T02:58:55.980623Z"
    },
    "collapsed": true
   },
   "outputs": [],
   "source": []
  },
  {
   "cell_type": "markdown",
   "metadata": {},
   "source": [
    "## Shingling articles"
   ]
  },
  {
   "cell_type": "code",
   "execution_count": 12,
   "metadata": {
    "ExecuteTime": {
     "end_time": "2018-07-04T08:47:12.085948Z",
     "start_time": "2018-07-04T08:47:11.955940Z"
    }
   },
   "outputs": [
    {
     "name": "stdout",
     "output_type": "stream",
     "text": [
      "0  --  14459\n",
      "1  --  14459\n",
      "2  --  786\n",
      "3  --  94\n",
      "4  --  94\n",
      "5  --  92\n",
      "6  --  1575\n",
      "7  --  2561\n",
      "8  --  1188\n",
      "9  --  1250\n",
      "10  --  482\n",
      "11  --  108\n",
      "12  --  95\n",
      "13  --  1363\n",
      "14  --  1396\n",
      "15  --  1072\n",
      "16  --  1066\n",
      "17  --  74\n",
      "18  --  94\n",
      "19  --  95\n",
      "20  --  79\n",
      "21  --  99\n",
      "22  --  95\n",
      "23  --  95\n",
      "24  --  94\n",
      "\n",
      "Shingling 25 docs took 0.063 sec.\n"
     ]
    }
   ],
   "source": [
    "# The current shingle ID value to assign to the next new shingle we \n",
    "# encounter. When a shingle gets added to the dictionary, we'll increment this\n",
    "# value.\n",
    "curShingleID = 0\n",
    "\n",
    "# 文本shingle后集合\n",
    "docsAsShingleSets = {}\n",
    "\n",
    "# \n",
    "totalShingles = 0\n",
    "\n",
    "t0 = time.time()\n",
    "for i in range(0, numDocs):\n",
    "    docID = docNames[i]\n",
    "    words = data_list[i]\n",
    "    print(i, ' -- ', len(words))\n",
    "    \n",
    "    shinglesInDoc = set()\n",
    "    \n",
    "    for index in range(0, len(words) - 2): # len(words) - 2\n",
    "        # Construct the shingle text by combining three words together.\n",
    "        # 连续三个word合并成shingle\n",
    "        shingle = words[index] + \" \" + words[index + 1] + \" \" + words[index + 2]   \n",
    "#         shingle = words[index]\n",
    "        \n",
    "        # Hash the shingle to a 32-bit integer.\n",
    "        crc = binascii.crc32(shingle.encode()) & 0xffffffff  \n",
    "        shinglesInDoc.add(crc)\n",
    "        \n",
    "    docsAsShingleSets[docID] = shinglesInDoc\n",
    "    \n",
    "    # Count the number of shingles across all documents.\n",
    "    totalShingles = totalShingles + (len(words) - 2)    \n",
    "#     totalShingles = totalShingles\n",
    "    \n",
    "print('\\nShingling ' + str(numDocs) + ' docs took %.3f sec.' % (time.time() - t0))    "
   ]
  },
  {
   "cell_type": "code",
   "execution_count": 13,
   "metadata": {
    "ExecuteTime": {
     "end_time": "2018-07-04T08:47:12.141951Z",
     "start_time": "2018-07-04T08:47:12.089948Z"
    }
   },
   "outputs": [
    {
     "data": {
      "text/plain": [
       "42815"
      ]
     },
     "execution_count": 13,
     "metadata": {},
     "output_type": "execute_result"
    }
   ],
   "source": [
    "totalShingles"
   ]
  },
  {
   "cell_type": "markdown",
   "metadata": {},
   "source": [
    "## Define Triangle Matrices"
   ]
  },
  {
   "cell_type": "code",
   "execution_count": 14,
   "metadata": {
    "ExecuteTime": {
     "end_time": "2018-07-04T08:47:12.240956Z",
     "start_time": "2018-07-04T08:47:12.146951Z"
    },
    "collapsed": true
   },
   "outputs": [],
   "source": [
    "def getTriangleIndex(i, j):\n",
    "    '''\n",
    "        # Define a function to map a 2D matrix coordinate into a 1D index.\n",
    "    '''\n",
    "    # If i == j that's an error.\n",
    "    if i == j:\n",
    "        sys.stderr.write(\"Can't access triangle matrix with i == j\")\n",
    "        sys.exit(1)\n",
    "    # If j < i just swap the values.\n",
    "    if j < i:\n",
    "        temp = i\n",
    "        i = j\n",
    "        j = temp\n",
    "  \n",
    "    # Calculate the index within the triangular array.\n",
    "    k = int(i * (numDocs - (i + 1) / 2.0) + j - i) - 1\n",
    "  \n",
    "    return k"
   ]
  },
  {
   "cell_type": "code",
   "execution_count": 15,
   "metadata": {
    "ExecuteTime": {
     "end_time": "2018-07-04T08:47:12.325961Z",
     "start_time": "2018-07-04T08:47:12.246957Z"
    },
    "collapsed": true
   },
   "outputs": [],
   "source": [
    "# Calculate the number of elements needed in our triangle matrix\n",
    "numElems = int(numDocs * (numDocs - 1) / 2)\n",
    "\n",
    "# Initialize two empty lists to store the similarity values. \n",
    "# 'JSim' will be for the actual Jaccard Similarity values. \n",
    "# 'estJSim' will be for the estimated Jaccard Similarities found by comparing\n",
    "# the MinHash signatures.\n",
    "JSim = [0 for x in range(numElems)]\n",
    "estJSim = [0 for x in range(numElems)]"
   ]
  },
  {
   "cell_type": "code",
   "execution_count": 16,
   "metadata": {
    "ExecuteTime": {
     "end_time": "2018-07-04T08:47:12.408966Z",
     "start_time": "2018-07-04T08:47:12.329962Z"
    }
   },
   "outputs": [
    {
     "name": "stdout",
     "output_type": "stream",
     "text": [
      "[0, 0, 0, 0, 0, 0, 0, 0, 0, 0, 0, 0, 0, 0, 0, 0, 0, 0, 0, 0, 0, 0, 0, 0, 0, 0, 0, 0, 0, 0, 0, 0, 0, 0, 0, 0, 0, 0, 0, 0, 0, 0, 0, 0, 0, 0, 0, 0, 0, 0, 0, 0, 0, 0, 0, 0, 0, 0, 0, 0, 0, 0, 0, 0, 0, 0, 0, 0, 0, 0, 0, 0, 0, 0, 0, 0, 0, 0, 0, 0, 0, 0, 0, 0, 0, 0, 0, 0, 0, 0, 0, 0, 0, 0, 0, 0, 0, 0, 0, 0, 0, 0, 0, 0, 0, 0, 0, 0, 0, 0, 0, 0, 0, 0, 0, 0, 0, 0, 0, 0, 0, 0, 0, 0, 0, 0, 0, 0, 0, 0, 0, 0, 0, 0, 0, 0, 0, 0, 0, 0, 0, 0, 0, 0, 0, 0, 0, 0, 0, 0, 0, 0, 0, 0, 0, 0, 0, 0, 0, 0, 0, 0, 0, 0, 0, 0, 0, 0, 0, 0, 0, 0, 0, 0, 0, 0, 0, 0, 0, 0, 0, 0, 0, 0, 0, 0, 0, 0, 0, 0, 0, 0, 0, 0, 0, 0, 0, 0, 0, 0, 0, 0, 0, 0, 0, 0, 0, 0, 0, 0, 0, 0, 0, 0, 0, 0, 0, 0, 0, 0, 0, 0, 0, 0, 0, 0, 0, 0, 0, 0, 0, 0, 0, 0, 0, 0, 0, 0, 0, 0, 0, 0, 0, 0, 0, 0, 0, 0, 0, 0, 0, 0, 0, 0, 0, 0, 0, 0, 0, 0, 0, 0, 0, 0, 0, 0, 0, 0, 0, 0, 0, 0, 0, 0, 0, 0, 0, 0, 0, 0, 0, 0, 0, 0, 0, 0, 0, 0, 0, 0, 0, 0, 0, 0, 0, 0, 0, 0, 0, 0]\n"
     ]
    }
   ],
   "source": [
    "print(estJSim)"
   ]
  },
  {
   "cell_type": "markdown",
   "metadata": {
    "ExecuteTime": {
     "end_time": "2018-06-28T03:11:00.200209Z",
     "start_time": "2018-06-28T03:11:00.099203Z"
    }
   },
   "source": [
    "## Generate MinHash Signatures"
   ]
  },
  {
   "cell_type": "code",
   "execution_count": 17,
   "metadata": {
    "ExecuteTime": {
     "end_time": "2018-07-04T08:47:12.515972Z",
     "start_time": "2018-07-04T08:47:12.412966Z"
    },
    "collapsed": true
   },
   "outputs": [],
   "source": [
    "# Record the maximum shingle ID that we assigned.\n",
    "maxShingleID = 2**32-1\n",
    "\n",
    "# We need the next largest prime number above 'maxShingleID'.\n",
    "# 比maxShingleID稍大一点，用于求余\n",
    "nextPrime = 4294967311\n"
   ]
  },
  {
   "cell_type": "code",
   "execution_count": 18,
   "metadata": {
    "ExecuteTime": {
     "end_time": "2018-07-04T08:47:12.615978Z",
     "start_time": "2018-07-04T08:47:12.525973Z"
    },
    "collapsed": true
   },
   "outputs": [],
   "source": [
    "def pickRandomCoeffs(k):\n",
    "    '''\n",
    "    # Our random hash function will take the form of:\n",
    "    #   h(x) = (a*x + b) % c\n",
    "    # Where 'x' is the input value, 'a' and 'b' are random coefficients, and 'c' is\n",
    "    # a prime number just greater than maxShingleID.\n",
    "\n",
    "    # Generate a list of 'k' random coefficients for the random hash functions,\n",
    "    # while ensuring that the same value does not appear multiple times in the \n",
    "    # list.    \n",
    "    '''\n",
    "    \n",
    "    # Create a list of 'k' random values.\n",
    "    randList = []\n",
    "\n",
    "    while k > 0:\n",
    "        # Get a random shingle ID.\n",
    "        randIndex = random.randint(0, maxShingleID) \n",
    "\n",
    "        # Ensure that each random number is unique.\n",
    "        while randIndex in randList:\n",
    "              randIndex = random.randint(0, maxShingleID) \n",
    "\n",
    "        # Add the random number to the list.\n",
    "        randList.append(randIndex)\n",
    "        k = k - 1\n",
    "\n",
    "    return randList"
   ]
  },
  {
   "cell_type": "code",
   "execution_count": 19,
   "metadata": {
    "ExecuteTime": {
     "end_time": "2018-07-04T08:47:12.863992Z",
     "start_time": "2018-07-04T08:47:12.624978Z"
    }
   },
   "outputs": [
    {
     "name": "stdout",
     "output_type": "stream",
     "text": [
      "\n",
      "Generating MinHash signatures took 0.13sec\n"
     ]
    }
   ],
   "source": [
    "t0 = time.time()\n",
    "\n",
    "# List of documents represented as signature vectors\n",
    "signatures = []\n",
    "\n",
    "# For each of the 'numHashes' hash functions, generate a different coefficient 'a' and 'b'.   \n",
    "coeffA = pickRandomCoeffs(numHashes)\n",
    "coeffB = pickRandomCoeffs(numHashes)\n",
    "\n",
    "for docID in docNames:  \n",
    "    # Get the shingle set for this document.\n",
    "    shingleIDSet = docsAsShingleSets[docID]\n",
    "  \n",
    "    # The resulting minhash signature for this document. \n",
    "    signature = []\n",
    "  \n",
    "    # For each of the random hash functions...\n",
    "    for i in range(0, numHashes):    \n",
    "        # For each of the shingles actually in the document, calculate its hash code\n",
    "        # using hash function 'i'. \n",
    "\n",
    "        # Track the lowest hash ID seen. Initialize 'minHashCode' to be greater than\n",
    "        # the maximum possible value output by the hash.\n",
    "        minHashCode = nextPrime + 1\n",
    "\n",
    "        # For each shingle in the document...\n",
    "        for shingleID in shingleIDSet:\n",
    "          # Evaluate the hash function.\n",
    "          hashCode = (coeffA[i] * shingleID + coeffB[i]) % nextPrime \n",
    "\n",
    "          # Track the lowest hash code seen.\n",
    "          if hashCode < minHashCode:\n",
    "            minHashCode = hashCode\n",
    "\n",
    "        # Add the smallest hash code value as component number 'i' of the signature.\n",
    "        signature.append(minHashCode)\n",
    "  \n",
    "    # Store the MinHash signature for this document.\n",
    "    signatures.append(signature)\n",
    "\n",
    "elapsed = (time.time() - t0)        \n",
    "print(\"\\nGenerating MinHash signatures took %.2fsec\" % elapsed  )"
   ]
  },
  {
   "cell_type": "markdown",
   "metadata": {},
   "source": [
    "## Compare All Signatures"
   ]
  },
  {
   "cell_type": "code",
   "execution_count": 20,
   "metadata": {
    "ExecuteTime": {
     "end_time": "2018-07-04T08:47:12.890994Z",
     "start_time": "2018-07-04T08:47:12.868992Z"
    }
   },
   "outputs": [
    {
     "name": "stdout",
     "output_type": "stream",
     "text": [
      "\n",
      "Comparing MinHash signatures took 0.00sec\n"
     ]
    }
   ],
   "source": [
    "t0 = time.time()\n",
    "\n",
    "for i in range(0, numDocs):\n",
    "    # Get the MinHash signature for document i.\n",
    "    signature1 = signatures[i]\n",
    "    \n",
    "    for j in range(i + 1, numDocs):    \n",
    "        # Get the MinHash signature for document j.\n",
    "        signature2 = signatures[j]\n",
    "\n",
    "        count = 0\n",
    "        # Count the number of positions in the minhash signature which are equal.\n",
    "        for k in range(0, numHashes):\n",
    "            count = count + (signature1[k] == signature2[k])\n",
    "\n",
    "        # Record the percentage of positions which matched.    \n",
    "        estJSim[getTriangleIndex(i, j)] = (count / numHashes)\n",
    "\n",
    "elapsed = (time.time() - t0)        \n",
    "print(\"\\nComparing MinHash signatures took %.2fsec\" % elapsed  )"
   ]
  },
  {
   "cell_type": "markdown",
   "metadata": {},
   "source": [
    "## display"
   ]
  },
  {
   "cell_type": "code",
   "execution_count": null,
   "metadata": {
    "collapsed": true
   },
   "outputs": [],
   "source": []
  },
  {
   "cell_type": "code",
   "execution_count": 21,
   "metadata": {
    "ExecuteTime": {
     "end_time": "2018-07-04T08:47:12.980999Z",
     "start_time": "2018-07-04T08:47:12.894994Z"
    }
   },
   "outputs": [
    {
     "name": "stdout",
     "output_type": "stream",
     "text": [
      "      1 -->     2   1.00     1.00\n",
      "     11 -->    12   0.90     0.90\n",
      "     11 -->    13   0.70     0.74\n",
      "     11 -->    71   0.70     0.75\n",
      "     11 -->    72   1.00     1.00\n",
      "     11 -->    73   0.80     0.74\n",
      "     11 -->    74   0.80     0.81\n",
      "     12 -->    13   0.60     0.66\n",
      "     12 -->    71   0.80     0.79\n",
      "     12 -->    72   0.90     0.90\n",
      "     12 -->    73   0.70     0.68\n",
      "     12 -->    74   0.70     0.72\n",
      "     13 -->    71   0.70     0.74\n",
      "     13 -->    72   0.70     0.74\n",
      "     13 -->    73   0.70     0.68\n",
      "     13 -->    74   0.80     0.84\n",
      "     31 -->    32   1.00     0.96\n",
      "     51 -->    52   1.00     0.97\n",
      "     61 -->    62   1.00     0.91\n",
      "     71 -->    72   0.70     0.75\n",
      "     71 -->    73   0.70     0.68\n",
      "     71 -->    74   0.90     0.87\n",
      "     72 -->    73   0.80     0.74\n",
      "     72 -->    74   0.80     0.81\n",
      "     73 -->    74   0.80     0.76\n",
      "     82 -->    83   1.00     1.00\n"
     ]
    }
   ],
   "source": [
    "threshold = 0.5  \n",
    "\n",
    "for i in range(0, numDocs):  \n",
    "    for j in range(i + 1, numDocs):\n",
    "        # Retrieve the estimated similarity value for this pair.\n",
    "        estJ = estJSim[getTriangleIndex(i, j)]\n",
    "        #print('i: %s; j: %s'%(i,j))\n",
    "        #print('getTriangleIndex(i, j): ', getTriangleIndex(i, j))\n",
    "\n",
    "        if estJ > threshold:\n",
    "            # Calculate the actual Jaccard similarity for validation.\n",
    "            s1 = docsAsShingleSets[docNames[i]]\n",
    "            s2 = docsAsShingleSets[docNames[j]]\n",
    "            J = (len(s1.intersection(s2)) / len(s1.union(s2)))\n",
    "\n",
    "            # Print out the match and similarity values with pretty spacing.\n",
    "            print(\"  %5s --> %5s   %.2f     %.2f\" % (docNames[i], docNames[j], estJ, J))"
   ]
  },
  {
   "cell_type": "code",
   "execution_count": null,
   "metadata": {
    "collapsed": true
   },
   "outputs": [],
   "source": []
  },
  {
   "cell_type": "code",
   "execution_count": null,
   "metadata": {
    "collapsed": true
   },
   "outputs": [],
   "source": []
  },
  {
   "cell_type": "code",
   "execution_count": null,
   "metadata": {
    "collapsed": true
   },
   "outputs": [],
   "source": []
  },
  {
   "cell_type": "code",
   "execution_count": null,
   "metadata": {
    "collapsed": true
   },
   "outputs": [],
   "source": []
  },
  {
   "cell_type": "code",
   "execution_count": null,
   "metadata": {
    "collapsed": true
   },
   "outputs": [],
   "source": []
  }
 ],
 "metadata": {
  "kernelspec": {
   "display_name": "Python 3",
   "language": "python",
   "name": "python3"
  },
  "language_info": {
   "codemirror_mode": {
    "name": "ipython",
    "version": 3
   },
   "file_extension": ".py",
   "mimetype": "text/x-python",
   "name": "python",
   "nbconvert_exporter": "python",
   "pygments_lexer": "ipython3",
   "version": "3.6.3"
  },
  "toc": {
   "nav_menu": {},
   "number_sections": true,
   "sideBar": true,
   "skip_h1_title": false,
   "title_cell": "Table of Contents",
   "title_sidebar": "Contents",
   "toc_cell": false,
   "toc_position": {
    "height": "calc(100% - 180px)",
    "left": "10px",
    "top": "150px",
    "width": "376px"
   },
   "toc_section_display": true,
   "toc_window_display": true
  },
  "varInspector": {
   "cols": {
    "lenName": 16,
    "lenType": 16,
    "lenVar": 40
   },
   "kernels_config": {
    "python": {
     "delete_cmd_postfix": "",
     "delete_cmd_prefix": "del ",
     "library": "var_list.py",
     "varRefreshCmd": "print(var_dic_list())"
    },
    "r": {
     "delete_cmd_postfix": ") ",
     "delete_cmd_prefix": "rm(",
     "library": "var_list.r",
     "varRefreshCmd": "cat(var_dic_list()) "
    }
   },
   "types_to_exclude": [
    "module",
    "function",
    "builtin_function_or_method",
    "instance",
    "_Feature"
   ],
   "window_display": false
  }
 },
 "nbformat": 4,
 "nbformat_minor": 2
}
