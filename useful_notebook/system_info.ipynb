{
 "cells": [
  {
   "cell_type": "markdown",
   "metadata": {},
   "source": [
    "- 系统信息：包括CPU、GPU、内存、硬盘等"
   ]
  },
  {
   "cell_type": "markdown",
   "metadata": {},
   "source": [
    "# 基本设置"
   ]
  },
  {
   "cell_type": "code",
   "execution_count": 2,
   "metadata": {
    "ExecuteTime": {
     "end_time": "2019-03-07T16:21:47.580530Z",
     "start_time": "2019-03-07T16:21:47.552161Z"
    }
   },
   "outputs": [],
   "source": [
    "import psutil\n",
    "import pynvml\n",
    "import time\n",
    "import datetime\n",
    "import os\n",
    "\n",
    "def getProcess(pName):\n",
    "    # 获取当前系统所有进程id列表\n",
    "    all_pids  = psutil.pids()\n",
    "\n",
    "    # 遍历所有进程，名称匹配的加入process_lst\n",
    "    process_lst = []\n",
    "    for pid in all_pids:\n",
    "        p = psutil.Process(pid)\n",
    "        if (p.name() == pName):\n",
    "            process_lst.append(p)\n",
    "\n",
    "    return process_lst"
   ]
  },
  {
   "cell_type": "markdown",
   "metadata": {},
   "source": [
    "# CPU/GPU/Memory"
   ]
  },
  {
   "cell_type": "markdown",
   "metadata": {},
   "source": [
    "## 总体"
   ]
  },
  {
   "cell_type": "code",
   "execution_count": 3,
   "metadata": {
    "ExecuteTime": {
     "end_time": "2019-03-07T16:21:53.036487Z",
     "start_time": "2019-03-07T16:21:52.887484Z"
    },
    "scrolled": true
   },
   "outputs": [
    {
     "name": "stdout",
     "output_type": "stream",
     "text": [
      "USER         PID %MEM     VSZ     RSS TTY           START    TIME  COMMAND\n",
      "root           0    ?       ?       ? ?             Jan14   00:00  kernel_task\n",
      "root           1    ?       ?       ? ?             Jan14   00:00  launchd\n",
      "root          46    ?       ?       ? ?             Jan14   00:00  syslogd\n",
      "root          47    ?       ?       ? ?             Jan14   00:00  UserEventAgent\n",
      "root          50    ?       ?       ? ?             Jan14   00:00  uninstalld\n",
      "root          51    ?       ?       ? ?             Jan14   00:00  kextd\n",
      "root          52    ?       ?       ? ?             Jan14   00:00  fseventsd\n",
      "root          54    ?       ?       ? ?             Jan14   00:00  mediaremoted\n",
      "_appleeven    57    ?       ?       ? ?             Jan14   00:00  appleeventsd\n",
      "root          58    ?       ?       ? ?             Jan14   00:00  systemstats\n",
      "root          60    ?       ?       ? ?             Jan14   00:00  configd\n",
      "root          61    ?       ?       ? ?             Jan14   00:00  powerd\n",
      "root          64    ?       ?       ? ?             Jan14   00:00  logd\n",
      "root          65    ?       ?       ? ?             Jan14   00:00  keybagd\n",
      "root          71    ?       ?       ? ?             Jan14   00:00  mds\n",
      "_iconservi    72    ?       ?       ? ?             Jan14   00:00  iconservicesd\n",
      "root          73    ?       ?       ? ?             Jan14   00:00  diskarbitrationd\n",
      "root          76    ?       ?       ? ?             Jan14   00:00  backupd-helper\n",
      "root          77    ?       ?       ? ?             Jan14   00:00  coreduetd\n",
      "root          80    ?       ?       ? ?             Jan14   00:00  opendirectoryd\n",
      "root          81    ?       ?       ? ?             Jan14   00:00  apsd\n",
      "root          82    ?       ?       ? ?             Jan14   00:00  nbstated\n",
      "root          83    ?       ?       ? ?             Jan14   00:00  launchservicesd\n",
      "_timed        84    ?       ?       ? ?             Jan14   00:00  timed\n",
      "root          85    ?       ?       ? ?             Jan14   00:00  securityd\n",
      "_usbmuxd      86    ?       ?       ? ?             Jan14   00:00  usbmuxd\n",
      "_locationd    88    ?       ?       ? ?             Jan14   00:00  locationd\n",
      "root          90    ?       ?       ? ?             Jan14   00:00  autofsd\n",
      "_displaypo    91    ?       ?       ? ?             Jan14   00:00  displaypolicyd\n",
      "root          92    ?       ?       ? ?             Jan14   00:00  dasd\n",
      "root          96  0.2 5013180   16888 ?             Jan14   02:15  loginwindow\n",
      "root          97    ?       ?       ? ?             Jan14   00:00  logind\n",
      "root          98    ?       ?       ? ?             Jan14   00:00  revisiond\n",
      "root          99    ?       ?       ? ?             Jan14   00:00  KernelEventAgent\n",
      "root         101    ?       ?       ? ?             Jan14   00:00  bluetoothd\n",
      "_hidd        102    ?       ?       ? ?             Jan14   00:00  hidd\n",
      "root         104    ?       ?       ? ?             Jan14   00:00  corebrightnessd\n",
      "root         105    ?       ?       ? ?             Jan14   00:00  AirPlayXPCHelper\n",
      "root         106    ?       ?       ? ?             Jan14   00:00  notifyd\n",
      "_distnote    107    ?       ?       ? ?             Jan14   00:00  distnoted\n",
      "root         108    ?       ?       ? ?             Jan14   00:00  cfprefsd\n",
      "root         110    ?       ?       ? ?             Jan14   00:00  authd\n",
      "root         111    ?       ?       ? ?             Jan14   00:00  coreservicesd\n",
      "root         112    ?       ?       ? ?             Jan14   00:00  aslmanager\n",
      "root         125    ?       ?       ? ?             Jan14   00:00  contextstored\n",
      "root         132    ?       ?       ? ?             Jan14   00:00  airportd\n",
      "_coreaudio   134    ?       ?       ? ?             Jan14   00:00  coreaudiod\n",
      "root         135    ?       ?       ? ?             Jan14   00:00  trustd\n",
      "root         144    ?       ?       ? ?             Jan14   00:00  com.apple.ctkpcs\n",
      "root         145    ?       ?       ? ?             Jan14   00:00  nehelper\n",
      "_ctkd        147    ?       ?       ? ?             Jan14   00:00  ctkd\n",
      "_coreaudio   150    ?       ?       ? ?             Jan14   00:00  com.apple.audio.\n",
      "root         152    ?       ?       ? ?             Jan14   00:00  mobileassetd\n",
      "_networkd    165    ?       ?       ? ?             Jan14   00:00  symptomsd\n",
      "_nsurlsess   166    ?       ?       ? ?             Jan14   00:00  nsurlsessiond\n",
      "root         168    ?       ?       ? ?             Jan14   00:00  lsd\n",
      "_mdnsrespo   169    ?       ?       ? ?             Jan14   00:00  mDNSResponder\n",
      "root         177    ?       ?       ? ?             Jan14   00:00  mDNSResponderHel\n",
      "root         178    ?       ?       ? ?             Jan14   00:00  awdd\n",
      "root         184    ?       ?       ? ?             Jan14   00:00  com.apple.ifdrea\n",
      "root         185    ?       ?       ? ?             Jan14   00:00  apfsd\n",
      "root         186    ?       ?       ? ?             Jan14   00:00  WindowServer\n",
      "root         188    ?       ?       ? ?             Jan14   00:00  usbd\n",
      "root         190    ?       ?       ? ?             Jan14   00:00  tzd\n",
      "root         191    ?       ?       ? ?             Jan14   00:00  nesessionmanager\n",
      "root         196    ?       ?       ? ?             Jan14   00:00  watchdogd\n",
      "root         197    ?       ?       ? ?             Jan14   00:00  thermald\n",
      "root         199    ?       ?       ? ?             Jan14   00:00  secinitd\n",
      "root         200    ?       ?       ? ?             Jan14   00:00  CVMServer\n",
      "root         201    ?       ?       ? ?             Jan14   00:00  tccd\n",
      "root         202    ?       ?       ? ?             Jan14   00:00  colorsync.displa\n",
      "root         203    ?       ?       ? ?             Jan14   00:00  colorsyncd\n",
      "root         204    ?       ?       ? ?             Jan14   00:00  com.apple.ColorS\n",
      "root         213    ?       ?       ? ?             Jan14   00:00  com.apple.CodeSi\n",
      "_nsurlstor   214    ?       ?       ? ?             Jan14   00:00  nsurlstoraged\n",
      "root         215    ?       ?       ? ?             Jan14   00:00  bootinstalld\n",
      "root         216    ?       ?       ? ?             Jan14   00:00  mds_stores\n",
      "root         217    ?       ?       ? ?             Jan14   00:00  AudioComponentRe\n",
      "_coreaudio   218    ?       ?       ? ?             Jan14   00:00  com.apple.audio.\n",
      "root         226    ?       ?       ? ?             Jan14   00:00  com.apple.Perfor\n",
      "root         227    ?       ?       ? ?             Jan14   00:00  com.apple.Accoun\n",
      "root         231    ?       ?       ? ?             Jan14   00:00  GSSCred\n",
      "root         234    ?       ?       ? ?             Jan14   00:00  coreauthd\n",
      "root         235    ?       ?       ? ?             Jan14   00:00  securityd_servic\n",
      "xuhuan       236  0.1 4317352    5088 ?             Jan14   01:58  cfprefsd\n",
      "xuhuan       237  0.1 4334220    5124 ?             Jan14   00:44  UserEventAgent\n",
      "root         238    ?       ?       ? ?             Jan14   00:00  ViewBridgeAuxili\n",
      "xuhuan       240    ? 4305860    3776 ?             Jan14   03:47  distnoted\n",
      "xuhuan       242  0.1 4338240    5628 ?             Jan14   00:12  lsd\n",
      "xuhuan       243  0.1 4345760    5616 ?             Jan14   00:52  CommCenter\n",
      "root         244    ?       ?       ? ?             Jan14   00:00  distnoted\n",
      "xuhuan       245  0.2 4362232   17476 ?             Jan14   03:27  trustd\n",
      "root         247    ?       ?       ? ?             Jan14   00:00  amfid\n",
      "xuhuan       248  0.1 4334552    5996 ?             Jan14   00:10  sharedfilelistd\n",
      "xuhuan       252  0.1 4339396    5700 ?             Jan14   00:47  secd\n",
      "xuhuan       253    ? 4370152    2956 ?             Jan14   00:31  talagent\n",
      "xuhuan       254  0.3 5033276   28736 ?             Jan14   13:39  Dock\n",
      "xuhuan       256  2.0 5269324  169788 ?             Jan14   17:15  Finder\n",
      "xuhuan       259    ? 4305832    2204 ?             Jan14   00:23  pboard\n",
      "root         260    ?       ?       ? ?             Jan14   00:00  systemsoundserve\n",
      "root         261    ?       ?       ? ?             Jan14   00:00  WirelessRadioMan\n",
      "xuhuan       262    ? 4341312    2968 ?             Jan14   00:06  callservicesd\n",
      "xuhuan       264  0.1 4350400    5460 ?             Jan14   00:15  identityservicesd\n",
      "xuhuan       266  0.1 4340892    7068 ?             Jan14   00:11  tccd\n",
      "_locationd   267    ?       ?       ? ?             Jan14   00:00  com.apple.geod\n",
      "xuhuan       269  0.1 4422632   11032 ?             Jan14   01:29  accountsd\n",
      "_locationd   270    ?       ?       ? ?             Jan14   00:00  secinitd\n",
      "_locationd   272    ?       ?       ? ?             Jan14   00:00  cfprefsd\n",
      "xuhuan       274  0.1 4337528    6088 ?             Jan14   00:27  pkd\n",
      "_captiveag   275    ?       ?       ? ?             Jan14   00:00  captiveagent\n",
      "_locationd   277    ?       ?       ? ?             Jan14   00:00  trustd\n",
      "xuhuan       278    ? 4336096     964 ?             Jan14   00:02  VTDecoderXPCService\n",
      "xuhuan       279    ? 4332940    3764 ?             Jan14   00:29  ViewBridgeAuxiliary\n",
      "xuhuan       280  0.1 4334340    4660 ?             Jan14   00:12  imagent\n",
      "xuhuan       281    ? 4332416    1452 ?             Jan14   00:04  IMDPersistenceAgent\n",
      "xuhuan       283    ? 4304708    2552 ?             Jan14   00:06  ContactsAccountsService\n",
      "xuhuan       284  0.1 4335224    5604 ?             Jan14   00:05  secinitd\n",
      "xuhuan       285  0.1 4976796   12028 ?             Jan14   00:36  Spotlight\n",
      "xuhuan       286  0.1 4334256    6064 ?             Jan14   00:59  fontd\n",
      "root         288    ?       ?       ? ?             Jan14   00:00  wirelessproxd\n",
      "xuhuan       289    ? 4333476    1992 ?             Jan14   00:02  rapportd\n",
      "xuhuan       290  0.1 4334308    6384 ?             Jan14   00:09  bird\n",
      "xuhuan       291  0.2 4357004   18700 ?             Jan14   01:14  cloudd\n",
      "root         292    ?       ?       ? ?             Jan14   00:00  spindump\n",
      "xuhuan       293  0.1 4344632    5188 ?             Jan14   00:15  akd\n",
      "root         294    ?       ?       ? ?             Jan14   00:00  SubmitDiagInfo\n",
      "xuhuan       295  0.2 4345000   12940 ?             Jan14   00:50  routined\n",
      "_analytics   296    ?       ?       ? ?             Jan14   00:00  analyticsd\n",
      "xuhuan       297  0.1 4340796    5460 ?             Jan14   00:33  nsurlsessiond\n",
      "root         298    ?       ?       ? ?             Jan14   00:00  findmydeviced\n",
      "xuhuan       300  0.1 4337252    6048 ?             Jan14   00:10  usernoted\n",
      "root         301    ?       ?       ? ?             Jan14   00:00  CrashReporterSup\n",
      "xuhuan       302  0.2 5228992   19128 ?             Jan14   01:34  NotificationCenter\n",
      "xuhuan       303    ? 4333260    1072 ?             Jan14   00:00  networkserviceproxy\n",
      "xuhuan       304  0.1 4340888    7276 ?             Jan14   00:16  parsecd\n",
      "xuhuan       305  0.1 4375984    6204 ?             Jan14   00:20  commerce\n",
      "xuhuan       306  0.1 4343484    6984 ?             Jan14   00:18  com.apple.geod\n",
      "xuhuan       307    ? 4305232     348 ?             Jan14   00:00  APFSUserAgent\n",
      "xuhuan       308    ? 4338752    1276 ?             Jan14   00:07  IMRemoteURLConnectionAgent\n",
      "xuhuan       309    ? 4338252    1060 ?             Jan14   00:02  soagent\n",
      "xuhuan       310  0.3 4476076   27104 ?             Jan14   00:43  iconservicesagent\n",
      "xuhuan       311    ? 4334380    3616 ?             Jan14   00:20  useractivityd\n",
      "xuhuan       312  0.1 4335716    4528 ?             Jan14   00:21  homed\n",
      "xuhuan       314  0.1 4863276    6040 ?             Jan14   00:28  com.apple.dock.extra\n",
      "root         315    ?       ?       ? ?             Jan14   00:00  filecoordination\n",
      "xuhuan       319  0.2 4364136   14796 ?             Jan14   01:24  sharingd\n",
      "xuhuan       320  0.1 4336564    7784 ?             Jan14   01:36  nsurlstoraged\n",
      "xuhuan       322    ? 4305224    1076 ?             Jan14   00:00  CloudKeychainProxy\n",
      "xuhuan       323    ? 4306452    1928 ?             Jan14   00:00  storeaccountd\n",
      "xuhuan       324    ? 4331604     632 ?             Jan14   00:00  coreauthd\n",
      "xuhuan       325    ? 4304712     492 ?             Jan14   00:02  IMRemoteURLConnectionAgent\n",
      "xuhuan       326    ? 4348440    3276 ?             Jan14   00:27  CoreLocationAgent\n",
      "xuhuan       327    ? 4344440    1644 ?             Jan14   00:08  fmfd\n",
      "root         328    ?       ?       ? ?             Jan14   00:00  com.apple.Ambien\n",
      "xuhuan       329    ? 4332780    1244 ?             Jan14   00:02  IMRemoteURLConnectionAgent\n",
      "xuhuan       331  0.2 4365184   15064 ?             Jan14   01:01  CalendarAgent\n",
      "_fpsd        332    ?       ?       ? ?             Jan14   00:00  adid\n",
      "xuhuan       338  0.1 4338548    5096 ?             Jan14   00:16  CalNCService\n",
      "xuhuan       339    ? 4332140    3184 ?             Jan14   00:01  fileproviderd\n",
      "xuhuan       341    ? 4304704     880 ?             Jan14   00:00  CMFSyncAgent\n",
      "_locationd   342    ?       ?       ? ?             Jan14   00:00  distnoted\n",
      "xuhuan       345    ? 4304656    1208 ?             Jan14   00:00  cdpd\n",
      "xuhuan       346    ? 4331832    2952 ?             Jan14   00:02  ContainerMetadataExtractor\n",
      "xuhuan       348    ? 4335892    3364 ?             Jan14   00:21  imklaunchagent\n",
      "root         351    ?       ?       ? ?             Jan14   00:00  taskgated\n",
      "xuhuan       355    ? 4332732     552 ?             Jan14   00:00  familycircled\n",
      "xuhuan       356    ? 4340212    3056 ?             Jan14   00:27  WiFiAgent\n",
      "xuhuan       357    ? 4332852    2612 ?             Jan14   00:01  backgroundtaskmanagementagent\n",
      "xuhuan       359    ? 4331848     604 ?             Jan14   00:00  CallHistoryPluginHelper\n",
      "xuhuan       360    ? 4333460    2144 ?             Jan14   00:01  swcd\n",
      "xuhuan       361  0.3 4371292   22320 ?             Jan14   00:38  assistantd\n",
      "xuhuan       363    ? 4812076       8 ?             Jan14   00:00  SafeEjectGPUAgent\n",
      "xuhuan       364    ? 4332444     528 ?             Jan14   00:00  SafeEjectGPUService\n",
      "xuhuan       367    ? 4331884    1992 ?             Jan14   00:01  ProtectedCloudKeySyncing\n",
      "xuhuan       368    ? 4332780    1292 ?             Jan14   00:02  IMRemoteURLConnectionAgent\n",
      "root         369    ?       ?       ? ?             Jan14   00:00  ctkahp\n",
      "xuhuan       370    ? 4850228    1276 ?             Jan14   00:16  iTunesHelper\n",
      "xuhuan       371    ? 4306008    1500 ?             Jan14   00:00  ctkahp\n",
      "xuhuan       373    ? 4306452    1180 ?             Jan14   00:00  ctkd\n",
      "xuhuan       374    ? 4304836     224 ?             Jan14   00:00  followupd\n",
      "xuhuan       378    ? 4338184    3392 ?             Jan14   00:07  AssetCacheLocatorService\n",
      "_assetcach   379    ?       ?       ? ?             Jan14   00:00  AssetCache\n",
      "xuhuan       381    ? 4304756     344 ?             Jan14   00:00  corespeechd\n",
      "xuhuan       385    ? 4331316     732 ?             Jan14   00:00  SocialPushAgent\n",
      "xuhuan       387    ? 4332608    1556 ?             Jan14   00:01  dmd\n",
      "xuhuan       388    ? 4342968    4072 ?             Jan14   00:40  Siri\n",
      "xuhuan       389    ? 4332616    1044 ?             Jan14   00:01  icdd\n",
      "xuhuan       391    ? 4855216    2304 ?             Jan14   00:29  AirPlayUIAgent\n",
      "xuhuan       392  0.1 4345756    8680 ?             Jan14   00:12  knowledge-agent\n",
      "xuhuan       393    ? 4332984    1612 ?             Jan14   00:04  cloudpaird\n",
      "xuhuan       394  0.1 4348832    5500 ?             Jan14   00:35  nbagent\n",
      "xuhuan       395  0.1 4332624    4220 ?             Jan14   00:11  diagnostics_agent\n",
      "xuhuan       396  0.1 4336956    6272 ?             Jan14   00:10  adprivacyd\n",
      "xuhuan       399  0.1 4335788    4244 ?             Jan14   00:02  pbs\n",
      "xuhuan       406    ? 4305844     648 ?             Jan14   00:00  spindump_agent\n",
      "xuhuan       410    ? 4305752     796 ?             Jan14   00:00  loginitemregisterd\n",
      "root         411    ?       ?       ? ?             Jan14   00:00  smd\n",
      "root         413    ?       ?       ? ?             Jan14   00:00  iconservicesagen\n",
      "xuhuan       415    ? 4305896    2128 ?             Jan14   00:00  softwareupdate_notify_agent\n",
      "_softwareu   416    ?       ?       ? ?             Jan14   00:00  softwareupdated\n",
      "root         417    ?       ?       ? ?             Jan14   00:00  suhelperd\n",
      "root         418    ?       ?       ? ?             Jan14   00:00  coresymbolicatio\n",
      "xuhuan       420    ? 4333004    1012 ?             Jan14   00:00  storelegacy\n",
      "xuhuan       422    ? 4306348     108 ?             Jan14   00:00  USBAgent\n",
      "xuhuan       425  0.1 4886220    5604 ?             Jan14   00:34  OSDUIHelper\n",
      "xuhuan       429  0.1 4373360    9872 ?             Jan14   00:38  storeassetd\n",
      "xuhuan       430  0.6 4597072   52672 ?             Jan14   00:20  AppleSpell\n",
      "xuhuan       431    ? 4341268    3772 ?             Jan14   00:09  keyboardservicesd\n",
      "_spotlight   432    ?       ?       ? ?             Jan14   00:00  trustd\n",
      "root         433    ?       ?       ? ?             Jan14   00:00  sysmond\n",
      "xuhuan       434  0.8 4606764   69012 ?             Jan14   01:45  suggestd\n",
      "root         437    ?       ?       ? ?             Jan14   00:00  systemstats\n",
      "root         438    ?       ?       ? ?             Jan14   00:00  com.apple.cmio.r\n",
      "_cmiodalas   439    ?       ?       ? ?             Jan14   00:00  AppleCameraAssis\n",
      "xuhuan       440  0.4 4934636   36668 ?             Jan14   01:05  SiriNCService\n",
      "xuhuan       442    ? 4333224    3084 ?             Jan14   00:01  AudioComponentRegistrar\n",
      "xuhuan       443  0.1 4411864    5432 ?             Jan14   00:06  media-indexer\n",
      "xuhuan       446    ? 4342904    3244 ?             Jan14   00:29  LaterAgent\n",
      "xuhuan       449    ? 4333832    1436 ?             Jan14   00:01  com.apple.iTunesLibraryService\n",
      "xuhuan       454    ? 4305320     580 ?             Jan14   00:00  mdwrite\n",
      "xuhuan       456    ? 4305176       8 ?             Jan14   00:00  com.apple.audio.SandboxHelper\n",
      "xuhuan       457    ? 4305920     656 ?             Jan14   00:00  findmydevice-user-agent\n",
      "_applepay    458    ?       ?       ? ?             Jan14   00:00  nfcd\n",
      "root         466    ?       ?       ? ?             Jan14   00:00  akd\n",
      "root         474    ?       ?       ? ?             Jan14   00:00  dmd\n",
      "xuhuan       475    ? 4366560    3036 ?             Jan14   00:03  atsd\n",
      "xuhuan       476  0.1 4381992    4372 ?             Jan14   00:43  cloudphotosd\n",
      "xuhuan       489    ? 4304832     300 ?             Jan14   00:00  mobileactivationd\n",
      "xuhuan       491    ? 4304712    1012 ?             Jan14   00:00  EscrowSecurityAlert\n",
      "xuhuan       492    ? 4345116    3776 ?             Jan14   00:12  com.apple.sbd\n",
      "xuhuan       493  0.1 4358356    4228 ?             Jan14   00:02  com.apple.CloudPhotosConfiguration\n",
      "xuhuan       497  0.1 4337356    7024 ?             Jan14   01:50  SafariBookmarksSyncAgent\n",
      "xuhuan       498    ? 4367536    2436 ?             Jan14   00:02  photolibraryd\n",
      "xuhuan       502    ? 4331244     416 ?             Jan14   00:00  com.apple.photomoments\n",
      "xuhuan       503    ? 4331804     356 ?             Jan14   00:00  com.apple.PhotoIngestService\n",
      "_spotlight   521    ?       ?       ? ?             Jan14   00:00  distnoted\n",
      "xuhuan       544    ? 4305256    1276 ?             Jan14   00:26  com.apple.hiservices-xpcservice\n",
      "xuhuan       546    ? 4305216     688 ?             Jan14   00:00  com.apple.accessibility.mediaaccessibilityd\n",
      "xuhuan       547    ? 4334236    3472 ?             Jan14   00:04  ScopedBookmarkAgent\n",
      "root         563    ?       ?       ? ?             Jan14   00:00  diskmanagementd\n",
      "xuhuan       630  0.2 4399476   15388 ?             Jan14   00:22  assistant_service\n",
      "xuhuan       642    ? 4333832    1928 ?             Jan14   00:01  com.apple.iTunesLibraryService\n",
      "xuhuan       643    ? 4332168    1788 ?             Jan14   00:01  siriknowledged\n",
      "xuhuan       644    ? 4342600    2124 ?             Jan14   00:06  FMIPClientXPCService\n",
      "xuhuan       665  0.1 4337172    5448 ?             Jan14   00:11  com.apple.Safari.History\n",
      "xuhuan       674    ? 4332768    1492 ?             Jan14   01:46  SafariCloudHistoryPushAgent\n",
      "xuhuan       676  0.1 4360192    6976 ?             Jan14   00:39  com.apple.Safari.SafeBrowsing.Service\n",
      "root         678    ?       ?       ? ?             Jan14   00:00  dprivacyd\n",
      "xuhuan       695  0.1 4394304   10980 ?             Jan14   00:02  ContextService\n",
      "_assetcach   923    ?       ?       ? ?             Jan16   00:00  AssetCacheLocato\n",
      "xuhuan       962  0.1 4348748    4260 ?             Jan16   00:23  appstoreagent\n",
      "xuhuan       964  0.1 4414260    7764 ?             Jan16   00:55  storedownloadd\n",
      "xuhuan       966  0.1 4334168    6012 ?             Jan16   00:04  mapspushd\n",
      "_fpsd        968    ?       ?       ? ?             Jan16   00:00  fpsd\n",
      "root         970    ?       ?       ? ?             Jan16   00:00  system_installd\n",
      "root         971    ?       ?       ? ?             Jan16   00:00  installd\n",
      "xuhuan       977    ? 4331204     760 ?             Jan16   00:00  photoanalysisd\n",
      "xuhuan       984    ? 4308964     364 ?             Jan16   00:00  com.apple.CommerceKit.TransactionService\n",
      "root         985    ?       ?       ? ?             Jan16   00:00  rtcreportingd\n",
      "_softwareu   997    ?       ?       ? ?             Jan16   00:00  softwareupdate_d\n",
      "xuhuan      1000    ? 4332084     612 ?             Jan16   00:00  UsageTrackingAgent\n",
      "root        1003    ?       ?       ? ?             Jan16   00:00  storeinstalld\n",
      "xuhuan      1004    ? 4335476    1156 ?             Jan16   00:00  com.apple.CommerceKit.TransactionService\n",
      "xuhuan      1005    ? 4332220     816 ?             Jan16   00:01  IMAutomaticHistoryDeletionAgent\n",
      "xuhuan      1007    ? 4334032    3412 ?             Jan16   00:02  deleted\n",
      "xuhuan      1008    ? 4331412    1356 ?             Jan16   00:00  com.apple.quicklook.ThumbnailsAgent\n",
      "root        1010    ?       ?       ? ?             Jan16   00:00  sysdiagnose\n",
      "xuhuan      1016    ? 4305912    1156 ?             Jan16   00:02  silhouette\n",
      "xuhuan      1017    ? 4358952    2292 ?             Jan16   00:01  com.apple.photomodel\n",
      "root        1018    ?       ?       ? ?             Jan16   00:00  periodic-wrapper\n",
      "root        1081    ?       ?       ? ?             Jan16   00:00  periodic-wrapper\n",
      "_spotlight  1100    ?       ?       ? ?             Jan16   00:00  mdworker\n",
      "_datadetec  1115    ?       ?       ? ?             Jan16   00:00  DataDetectorsSou\n",
      "_windowser  1183    ?       ?       ? ?             Jan16   00:00  MTLCompilerServi\n",
      "xuhuan      1198  0.2 4358032   17312 ?             Jan16   00:03  com.apple.speech.speechsynthesisd\n",
      "xuhuan      1199  0.1 4889280    8344 ?             Jan16   00:53  LocationMenu\n",
      "xuhuan      1200    ? 4304992    1364 ?             Jan16   00:04  assertiond\n",
      "xuhuan      1201    ? 4343560    1512 ?             Jan16   00:00  com.apple.siri.ClientFlow.ClientScripter\n",
      "xuhuan      1202    ? 4305176       8 ?             Jan16   00:00  com.apple.audio.SandboxHelper\n",
      "xuhuan      1203  0.1 4339800    9960 ?             Jan16   00:01  VTDecoderXPCService\n",
      "xuhuan      1232    ? 4331796     312 ?             Jan16   00:00  colorsync.useragent\n",
      "root        1661    ?       ?       ? ?             Jan19   00:00  aslmanager\n",
      "xuhuan      2076    ? 4309204     368 ?             Jan20   00:00  PrintUITool\n",
      "xuhuan      2086    ? 4305284     600 ?             Jan20   00:00  DiskUnmountWatcher\n",
      "xuhuan      2108  0.1 4382328    4624 ?             Jan20   00:02  com.apple.MediaLibraryService\n",
      "xuhuan      3274  0.1 4389664    5260 ?             Jan26   00:24  storeuid\n",
      "xuhuan      3275    ? 4331980     756 ?             Jan26   00:00  com.apple.CommerceKit.StoreAEService\n",
      "root        3479    ?       ?       ? ?             Jan26   00:00  hdiejectd\n",
      "xuhuan      4006  0.2 5277700   18156 ?             Jan28   00:26  SCIM_Extension\n",
      "root        4347    ?       ?       ? ?             Jan29   00:00  periodic-wrapper\n",
      "root        4936    ?       ?       ? ?             Feb10   00:00  ReportCrash\n",
      "_atsserver  5307    ?       ?       ? ?             Feb10   00:00  fontd\n",
      "root        5311    ?       ?       ? ?             Feb10   00:00  com.apple.speech\n",
      "root        5312    ?       ?       ? ?             Feb10   00:00  com.apple.audio.\n",
      "xuhuan      5484    ? 4341896    2308 ?             Feb11   00:06  passd\n",
      "root        5724    ?       ?       ? ?             Feb15   00:00  diskimages-helpe\n",
      "xuhuan      5758    ? 4306564     316 ?             Feb15   00:00  SafariPlugInUpdateNotifier\n",
      "xuhuan      6726  2.1 6374512  177408 ?             Feb17   28:15  360Chrome\n",
      "_gamecontr  6727    ?       ?       ? ?             Feb17   00:00  gamecontrollerd\n",
      "xuhuan      6729    ? 4299856       8 ?             Feb17   00:00  crashpad_handler\n",
      "xuhuan      6731    ? 4287488       8 ?             Feb17   00:00  crashpad_handler\n",
      "xuhuan      6732  0.7 4737396   57084 ?             Feb17   17:42  360Chrome Helper\n",
      "xuhuan      6733    ? 4304956       8 ?             Feb17   00:00  AlertNotificationService\n",
      "xuhuan      6734    ? 4333060     560 ?             Feb17   00:00  VTDecoderXPCService\n",
      "xuhuan      6736  0.2 4773032   20208 ?             Feb17   00:35  360Chrome Helper\n",
      "xuhuan      6743    ? 4333368    1052 ?             Feb17   00:12  MIDIServer\n",
      "xuhuan      6904  0.1 4973972   10440 ?             Feb17   01:00  360Chrome Helper\n",
      "xuhuan      6924  0.4 4988316   32152 ?             Feb17   07:15  360Chrome Helper\n",
      "xuhuan      7043  0.7 5382444   60576 ?             Feb18   22:40  360Chrome Helper\n",
      "xuhuan      7050    ? 4842256       8 ?             Feb18   00:00  MTLCompilerService\n",
      "xuhuan      7145  0.5 4910916   41068 ?             Feb18   06:31  360Chrome Helper\n",
      "xuhuan      7923    ? 4331764     340 ?             Feb22   00:00  com.apple.DictionaryServiceHelper\n",
      "xuhuan      8254  0.1 4412972    8484 ?             Feb26   00:22  ReportCrash\n",
      "xuhuan      8255  0.2 4661508   20260 ?             Feb26   00:24  corespotlightd\n",
      "root        8360    ?       ?       ? ?             Feb26   00:00  syspolicyd\n",
      "xuhuan      8458    ? 4398476     384 ?             Mar01   00:00  reversetemplated\n",
      "xuhuan      8566  0.1 4999356   12300 ?             Mar01   00:40  SystemUIServer\n",
      "xuhuan      8569    ? 4331476    1484 ?             Mar01   00:03  WiFiProxy\n",
      "xuhuan      8572  0.1 5394956    8104 ?             Mar01   00:13  SogouServices\n",
      "xuhuan      8579  0.4 5225676   31176 ?             Mar01   01:26  SogouInput\n",
      "xuhuan      8607    ? 4858848    2856 ?             Mar01   00:09  universalAccessAuthWarn\n",
      "xuhuan      9469    ? 4331432    1728 ?             Mar02   00:02  rcd\n",
      "xuhuan     10237    ? 4842256       8 ?             Mar04   00:00  MTLCompilerService\n",
      "xuhuan     10659    ? 4354548    2828 ?             Mar06   00:01  FinderSync\n",
      "xuhuan     10661    ? 4355572    2836 ?             Mar06   00:01  FinderSync\n",
      "xuhuan     10709  0.5 4874648   38860 ?             Mar06   00:18  360Chrome Helper\n",
      "root       10863    ?       ?       ? ?             Mar07   00:00  ocspd\n",
      "_netbios   10872    ?       ?       ? ?             Mar07   00:00  netbiosd\n",
      "root       10877    ?       ?       ? ?             Mar07   00:00  sandboxd\n",
      "xuhuan     10926  0.5 5155080   45028 ?             Mar07   01:20  Terminal\n",
      "xuhuan     10927  0.1 4842256   10444 ?             Mar07   00:00  MTLCompilerService\n",
      "xuhuan     10928    ?       ?       ? /dev/ttys000  Mar07   00:00  login\n",
      "xuhuan     10929    ? 4296508    1012 /dev/ttys000  Mar07   00:00  bash\n",
      "xuhuan     10945  1.5 6409144  128428 ?             Mar07   02:46  Safari\n",
      "xuhuan     10948  0.6 4377908   51752 ?             Mar07   00:55  com.apple.WebKit.Networking\n",
      "xuhuan     10949  0.2 4340212   13308 ?             Mar07   00:00  com.apple.WebKit.Storage\n",
      "xuhuan     11090  0.2 4332648   14368 ?             Mar07   00:00  com.apple.Safari.ImageDecoder\n",
      "xuhuan     11091  0.3 4334644   24732 ?             Mar07   00:00  com.apple.Safari.SearchHelper\n",
      "xuhuan     11095  0.3 4855840   27496 ?             Mar07   00:00  com.apple.Safari.SandboxBroker\n",
      "root       11141    ?       ?       ? ?             Mar07   00:00  PerfPowerService\n",
      "xuhuan     11173  0.2 4842256   14788 ?             Mar07   00:00  MTLCompilerService\n",
      "xuhuan     11330  0.1 4331776   10260 ?             Mar07   00:00  SandboxedServiceRunner\n",
      "_softwareu 11445    ?       ?       ? ?             Mar07   00:00  cfprefsd\n",
      "_softwareu 11446    ?       ?       ? ?             Mar07   00:00  distnoted\n",
      "xuhuan     18400  0.1 4345456    9756 ?             Mar07   00:00  diskimages-helper\n",
      "xuhuan     77722  0.4 4313292   36780 /dev/ttys000  Mar07   00:09  python3.6\n",
      "xuhuan     78705  3.1 90194488  261352 ?             Mar07   00:52  com.apple.WebKit.WebContent\n",
      "xuhuan     78756  0.9 5063740   74476 ?             Mar07   00:08  Sublime Text\n",
      "xuhuan     78757  0.3 4334000   24200 ?             Mar07   00:00  plugin_host\n",
      "xuhuan     78788  1.5 4987744  123112 ?             Mar07   00:05  360Chrome Helper\n",
      "xuhuan     78826  0.2 4833040   18560 ?             Mar07   00:00  MTLCompilerService\n",
      "xuhuan     79592    ?       ?       ? /dev/ttys002  Mar07   00:00  login\n",
      "xuhuan     79593    ? 4296508    1564 /dev/ttys002  Mar07   00:00  bash\n",
      "xuhuan     79622  3.8 4612848  316844 ?             Mar07   00:06  R\n",
      "xuhuan     79658  0.2 4320924   17368 ?             Mar07   00:00  mdworker\n",
      "xuhuan     79663  2.6 6397728  215184 ?             Mar07   00:17  WeChat\n",
      "xuhuan     79684  0.3 4331896   25608 ?             Mar07   00:00  com.apple.SafariServices\n",
      "xuhuan     79685  2.1 109373216  177656 ?             Mar07   00:04  com.apple.WebKit.WebContent\n",
      "xuhuan     79686  0.3 4341612   25052 ?             Mar07   00:00  com.apple.WebKit.Networking\n",
      "xuhuan     79687  0.5 5007336   44868 ?             Mar07   00:01  com.apple.appkit.xpc.openAndSavePanelService\n",
      "xuhuan     80273  0.8 4352444   69528 ?             00:02   00:05  mdworker_shared\n",
      "xuhuan     80274  0.9 4351384   72116 ?             00:02   00:06  mdworker_shared\n",
      "xuhuan     80278  0.4 4326120   33960 ?             00:02   00:01  mdworker_shared\n",
      "xuhuan     80283  0.8 4350680   68056 ?             00:03   00:06  mdworker_shared\n",
      "xuhuan     80284  0.9 4352468   74924 ?             00:03   00:05  mdworker_shared\n",
      "xuhuan     80300  0.2 4315952   13740 ?             00:03   00:00  mdworker_shared\n",
      "xuhuan     80305  0.2 4345856   15516 ?             00:03   00:00  CoreServicesUIAgent\n",
      "xuhuan     80306  0.2 4315952   13608 ?             00:03   00:00  mdworker_shared\n",
      "xuhuan     80310  0.2 4342700   13992 ?             00:03   00:00  mdworker_shared\n",
      "xuhuan     80318  0.2 4315952   13484 ?             00:03   00:00  mdworker_shared\n",
      "xuhuan     80319  0.2 4316040   13200 ?             00:04   00:00  mdworker_shared\n",
      "xuhuan     80320  0.2 4316040   13208 ?             00:04   00:00  mdworker_shared\n",
      "xuhuan     80328  0.2 4316040   13072 ?             00:04   00:00  mdworker_shared\n",
      "xuhuan     80337  0.2 4342480   18908 ?             00:04   00:00  mdworker_shared\n",
      "xuhuan     80566    ? 4288316    1384 /dev/ttys004  00:09   00:00  bash\n",
      "xuhuan     80702    ? 4296508    1384 /dev/ttys005  00:11   00:00  bash\n",
      "xuhuan     80743  0.5 4365332   45680 /dev/ttys005  00:11   00:00  R\n",
      "xuhuan     80766  0.8 4356448   66624 /dev/ttys002  00:12   00:00  R\n",
      "xuhuan     80956  1.5 6071444  127852 ?             00:15   00:04  R\n",
      "xuhuan     80957  0.2 4332288   15772 ?             00:18   00:00  com.apple.iCloudHelper\n",
      "xuhuan     80958  0.3 4322016   26884 ?             00:18   00:00  mdworker_shared\n",
      "xuhuan     80965  0.7 4321744   57684 ?             00:18   00:02  python3.6\n",
      "xuhuan     80970    ?       ?       ? /dev/ttys001  00:19   00:00  login\n",
      "xuhuan     80971    ? 4296508    1568 /dev/ttys001  00:19   00:00  bash\n",
      "xuhuan     80983  2.3 90058264  191776 ?             00:20   00:10  com.apple.WebKit.WebContent\n",
      "xuhuan     80994  0.2 4318240   17760 ?             00:21   00:00  mdworker_shared\n",
      "xuhuan     80995  0.2 4317968   17448 ?             00:21   00:00  mdworker_shared\n"
     ]
    }
   ],
   "source": [
    "psutil.test() "
   ]
  },
  {
   "cell_type": "markdown",
   "metadata": {},
   "source": [
    "### 用户"
   ]
  },
  {
   "cell_type": "code",
   "execution_count": 4,
   "metadata": {
    "ExecuteTime": {
     "end_time": "2019-03-07T16:22:04.874317Z",
     "start_time": "2019-03-07T16:22:04.865206Z"
    }
   },
   "outputs": [
    {
     "name": "stdout",
     "output_type": "stream",
     "text": [
      "开机时间:  2019-01-14 01: 04: 00\n",
      "用户数:  4\n",
      "suser(name='xuhuan', terminal='console', host=None, started=1547399168.0, pid=96)\n",
      "suser(name='xuhuan', terminal='ttys000', host=None, started=1551968384.0, pid=10928)\n",
      "suser(name='xuhuan', terminal='ttys002', host=None, started=1551973888.0, pid=79592)\n",
      "suser(name='xuhuan', terminal='ttys001', host=None, started=1551975552.0, pid=80970)\n"
     ]
    }
   ],
   "source": [
    "print('开机时间: ', datetime.datetime.fromtimestamp(psutil.boot_time ()).strftime(\"%Y-%m-%d %H: %M: %S\"))\n",
    "users_count = len(psutil.users())\n",
    "print('用户数: ', users_count)\n",
    "for u in psutil.users():print(u)"
   ]
  },
  {
   "cell_type": "markdown",
   "metadata": {},
   "source": [
    "### GPU"
   ]
  },
  {
   "cell_type": "code",
   "execution_count": 5,
   "metadata": {
    "ExecuteTime": {
     "end_time": "2019-03-07T16:22:13.996434Z",
     "start_time": "2019-03-07T16:22:13.917498Z"
    }
   },
   "outputs": [
    {
     "ename": "NVMLError_LibraryNotFound",
     "evalue": "NVML Shared Library Not Found",
     "output_type": "error",
     "traceback": [
      "\u001b[0;31m---------------------------------------------------------------------------\u001b[0m",
      "\u001b[0;31mOSError\u001b[0m                                   Traceback (most recent call last)",
      "\u001b[0;32m~/anaconda3/lib/python3.6/site-packages/pynvml.py\u001b[0m in \u001b[0;36m_LoadNvmlLibrary\u001b[0;34m()\u001b[0m\n\u001b[1;32m    643\u001b[0m                         \u001b[0;31m# assume linux\u001b[0m\u001b[0;34m\u001b[0m\u001b[0;34m\u001b[0m\u001b[0m\n\u001b[0;32m--> 644\u001b[0;31m                         \u001b[0mnvmlLib\u001b[0m \u001b[0;34m=\u001b[0m \u001b[0mCDLL\u001b[0m\u001b[0;34m(\u001b[0m\u001b[0;34m\"libnvidia-ml.so.1\"\u001b[0m\u001b[0;34m)\u001b[0m\u001b[0;34m\u001b[0m\u001b[0m\n\u001b[0m\u001b[1;32m    645\u001b[0m                 \u001b[0;32mexcept\u001b[0m \u001b[0mOSError\u001b[0m \u001b[0;32mas\u001b[0m \u001b[0mose\u001b[0m\u001b[0;34m:\u001b[0m\u001b[0;34m\u001b[0m\u001b[0m\n",
      "\u001b[0;32m~/anaconda3/lib/python3.6/ctypes/__init__.py\u001b[0m in \u001b[0;36m__init__\u001b[0;34m(self, name, mode, handle, use_errno, use_last_error)\u001b[0m\n\u001b[1;32m    347\u001b[0m         \u001b[0;32mif\u001b[0m \u001b[0mhandle\u001b[0m \u001b[0;32mis\u001b[0m \u001b[0;32mNone\u001b[0m\u001b[0;34m:\u001b[0m\u001b[0;34m\u001b[0m\u001b[0m\n\u001b[0;32m--> 348\u001b[0;31m             \u001b[0mself\u001b[0m\u001b[0;34m.\u001b[0m\u001b[0m_handle\u001b[0m \u001b[0;34m=\u001b[0m \u001b[0m_dlopen\u001b[0m\u001b[0;34m(\u001b[0m\u001b[0mself\u001b[0m\u001b[0;34m.\u001b[0m\u001b[0m_name\u001b[0m\u001b[0;34m,\u001b[0m \u001b[0mmode\u001b[0m\u001b[0;34m)\u001b[0m\u001b[0;34m\u001b[0m\u001b[0m\n\u001b[0m\u001b[1;32m    349\u001b[0m         \u001b[0;32melse\u001b[0m\u001b[0;34m:\u001b[0m\u001b[0;34m\u001b[0m\u001b[0m\n",
      "\u001b[0;31mOSError\u001b[0m: dlopen(libnvidia-ml.so.1, 6): image not found",
      "\nDuring handling of the above exception, another exception occurred:\n",
      "\u001b[0;31mNVMLError_LibraryNotFound\u001b[0m                 Traceback (most recent call last)",
      "\u001b[0;32m<ipython-input-5-f30e1286f26d>\u001b[0m in \u001b[0;36m<module>\u001b[0;34m()\u001b[0m\n\u001b[0;32m----> 1\u001b[0;31m \u001b[0mpynvml\u001b[0m\u001b[0;34m.\u001b[0m\u001b[0mnvmlInit\u001b[0m\u001b[0;34m(\u001b[0m\u001b[0;34m)\u001b[0m\u001b[0;34m\u001b[0m\u001b[0m\n\u001b[0m\u001b[1;32m      2\u001b[0m \u001b[0mprint\u001b[0m\u001b[0;34m(\u001b[0m\u001b[0;34m'显示驱动信息: '\u001b[0m\u001b[0;34m)\u001b[0m\u001b[0;34m\u001b[0m\u001b[0m\n\u001b[1;32m      3\u001b[0m \u001b[0mprint\u001b[0m\u001b[0;34m(\u001b[0m\u001b[0;34m\"Driver: \"\u001b[0m\u001b[0;34m,\u001b[0m \u001b[0mpynvml\u001b[0m\u001b[0;34m.\u001b[0m\u001b[0mnvmlSystemGetDriverVersion\u001b[0m\u001b[0;34m(\u001b[0m\u001b[0;34m)\u001b[0m\u001b[0;34m)\u001b[0m\u001b[0;34m\u001b[0m\u001b[0m\n\u001b[1;32m      4\u001b[0m \u001b[0mprint\u001b[0m\u001b[0;34m(\u001b[0m\u001b[0;34m'--------------'\u001b[0m\u001b[0;34m)\u001b[0m\u001b[0;34m\u001b[0m\u001b[0m\n\u001b[1;32m      5\u001b[0m \u001b[0mprint\u001b[0m\u001b[0;34m(\u001b[0m\u001b[0;34m'设备信息: '\u001b[0m\u001b[0;34m)\u001b[0m\u001b[0;34m\u001b[0m\u001b[0m\n",
      "\u001b[0;32m~/anaconda3/lib/python3.6/site-packages/pynvml.py\u001b[0m in \u001b[0;36mnvmlInit\u001b[0;34m()\u001b[0m\n\u001b[1;32m    606\u001b[0m \u001b[0;31m## C function wrappers ##\u001b[0m\u001b[0;34m\u001b[0m\u001b[0;34m\u001b[0m\u001b[0m\n\u001b[1;32m    607\u001b[0m \u001b[0;32mdef\u001b[0m \u001b[0mnvmlInit\u001b[0m\u001b[0;34m(\u001b[0m\u001b[0;34m)\u001b[0m\u001b[0;34m:\u001b[0m\u001b[0;34m\u001b[0m\u001b[0m\n\u001b[0;32m--> 608\u001b[0;31m     \u001b[0m_LoadNvmlLibrary\u001b[0m\u001b[0;34m(\u001b[0m\u001b[0;34m)\u001b[0m\u001b[0;34m\u001b[0m\u001b[0m\n\u001b[0m\u001b[1;32m    609\u001b[0m \u001b[0;34m\u001b[0m\u001b[0m\n\u001b[1;32m    610\u001b[0m     \u001b[0;31m#\u001b[0m\u001b[0;34m\u001b[0m\u001b[0;34m\u001b[0m\u001b[0m\n",
      "\u001b[0;32m~/anaconda3/lib/python3.6/site-packages/pynvml.py\u001b[0m in \u001b[0;36m_LoadNvmlLibrary\u001b[0;34m()\u001b[0m\n\u001b[1;32m    644\u001b[0m                         \u001b[0mnvmlLib\u001b[0m \u001b[0;34m=\u001b[0m \u001b[0mCDLL\u001b[0m\u001b[0;34m(\u001b[0m\u001b[0;34m\"libnvidia-ml.so.1\"\u001b[0m\u001b[0;34m)\u001b[0m\u001b[0;34m\u001b[0m\u001b[0m\n\u001b[1;32m    645\u001b[0m                 \u001b[0;32mexcept\u001b[0m \u001b[0mOSError\u001b[0m \u001b[0;32mas\u001b[0m \u001b[0mose\u001b[0m\u001b[0;34m:\u001b[0m\u001b[0;34m\u001b[0m\u001b[0m\n\u001b[0;32m--> 646\u001b[0;31m                     \u001b[0m_nvmlCheckReturn\u001b[0m\u001b[0;34m(\u001b[0m\u001b[0mNVML_ERROR_LIBRARY_NOT_FOUND\u001b[0m\u001b[0;34m)\u001b[0m\u001b[0;34m\u001b[0m\u001b[0m\n\u001b[0m\u001b[1;32m    647\u001b[0m                 \u001b[0;32mif\u001b[0m \u001b[0;34m(\u001b[0m\u001b[0mnvmlLib\u001b[0m \u001b[0;34m==\u001b[0m \u001b[0;32mNone\u001b[0m\u001b[0;34m)\u001b[0m\u001b[0;34m:\u001b[0m\u001b[0;34m\u001b[0m\u001b[0m\n\u001b[1;32m    648\u001b[0m                     \u001b[0m_nvmlCheckReturn\u001b[0m\u001b[0;34m(\u001b[0m\u001b[0mNVML_ERROR_LIBRARY_NOT_FOUND\u001b[0m\u001b[0;34m)\u001b[0m\u001b[0;34m\u001b[0m\u001b[0m\n",
      "\u001b[0;32m~/anaconda3/lib/python3.6/site-packages/pynvml.py\u001b[0m in \u001b[0;36m_nvmlCheckReturn\u001b[0;34m(ret)\u001b[0m\n\u001b[1;32m    308\u001b[0m \u001b[0;32mdef\u001b[0m \u001b[0m_nvmlCheckReturn\u001b[0m\u001b[0;34m(\u001b[0m\u001b[0mret\u001b[0m\u001b[0;34m)\u001b[0m\u001b[0;34m:\u001b[0m\u001b[0;34m\u001b[0m\u001b[0m\n\u001b[1;32m    309\u001b[0m     \u001b[0;32mif\u001b[0m \u001b[0;34m(\u001b[0m\u001b[0mret\u001b[0m \u001b[0;34m!=\u001b[0m \u001b[0mNVML_SUCCESS\u001b[0m\u001b[0;34m)\u001b[0m\u001b[0;34m:\u001b[0m\u001b[0;34m\u001b[0m\u001b[0m\n\u001b[0;32m--> 310\u001b[0;31m         \u001b[0;32mraise\u001b[0m \u001b[0mNVMLError\u001b[0m\u001b[0;34m(\u001b[0m\u001b[0mret\u001b[0m\u001b[0;34m)\u001b[0m\u001b[0;34m\u001b[0m\u001b[0m\n\u001b[0m\u001b[1;32m    311\u001b[0m     \u001b[0;32mreturn\u001b[0m \u001b[0mret\u001b[0m\u001b[0;34m\u001b[0m\u001b[0m\n\u001b[1;32m    312\u001b[0m \u001b[0;34m\u001b[0m\u001b[0m\n",
      "\u001b[0;31mNVMLError_LibraryNotFound\u001b[0m: NVML Shared Library Not Found"
     ]
    }
   ],
   "source": [
    "pynvml.nvmlInit()\n",
    "print('显示驱动信息: ')\n",
    "print(\"Driver: \", pynvml.nvmlSystemGetDriverVersion()) \n",
    "print('--------------')\n",
    "print('设备信息: ')\n",
    "deviceCount = pynvml.nvmlDeviceGetCount()\n",
    "print('  共 %s 块 GPU，名称为：'%deviceCount)\n",
    "for i in range(deviceCount):\n",
    "    handle = pynvml.nvmlDeviceGetHandleByIndex(i)\n",
    "    print(\"    GPU\", i, \":\", pynvml.nvmlDeviceGetName(handle))\n",
    "print('--------------')\n",
    "for i in range(deviceCount):\n",
    "    print('查看第 %s 块GPU的显存、温度、风扇、电源: '%i)\n",
    "    handle = pynvml.nvmlDeviceGetHandleByIndex(i)\n",
    "    info = pynvml.nvmlDeviceGetMemoryInfo(handle)\n",
    "    print(\"Memory Total: %0.2f G\"%(info.total/1024/1024/1024)) # 总的显存大小\n",
    "    print(\"Memory Free: %0.2f G \"%(info.free/1024/1024/1024)) # 剩余显存大小\n",
    "    print(\"Memory Used: %0.2f G \"%(info.used/1024/1024/1024)) \n",
    "    print(\"Memory Used percent: %0.2f %% \"%(info.used/info.total*100))\n",
    "    print(\"Temperature is %d C\"%(pynvml.nvmlDeviceGetTemperature(handle,0)))\n",
    "    try :\n",
    "        print(\"Fan speed is \",pynvml.nvmlDeviceGetFanSpeed(handle))\n",
    "    except :\n",
    "        continue\n",
    "    print(\"Power ststus\",pynvml.nvmlDeviceGetPowerState(handle))\n",
    "    print('--------------')\n",
    "\n",
    "#最后要关闭管理工具\n",
    "pynvml.nvmlShutdown()"
   ]
  },
  {
   "cell_type": "markdown",
   "metadata": {},
   "source": [
    "### CPU "
   ]
  },
  {
   "cell_type": "code",
   "execution_count": 6,
   "metadata": {
    "ExecuteTime": {
     "end_time": "2019-03-07T16:22:43.888360Z",
     "start_time": "2019-03-07T16:22:39.870792Z"
    }
   },
   "outputs": [
    {
     "name": "stdout",
     "output_type": "stream",
     "text": [
      "CPU物理个数:  2\n",
      "CPU逻辑个数:  4\n",
      "\n",
      "系统的CPU利用率: \n",
      "19.4\n",
      "\n",
      "每块的CPU利用率: \n",
      "[28.0, 9.0, 26.5, 6.5]\n"
     ]
    }
   ],
   "source": [
    "print('CPU物理个数: ', psutil.cpu_count(logical=False))\n",
    "print('CPU逻辑个数: ', psutil.cpu_count())\n",
    "print()\n",
    "print('系统的CPU利用率: ')\n",
    "print(psutil.cpu_percent(interval = 2))\n",
    "print()\n",
    "print('每块的CPU利用率: ')\n",
    "print(psutil.cpu_percent(interval = 2, percpu = True))"
   ]
  },
  {
   "cell_type": "code",
   "execution_count": 7,
   "metadata": {
    "ExecuteTime": {
     "end_time": "2019-03-07T16:22:49.276013Z",
     "start_time": "2019-03-07T16:22:47.265620Z"
    }
   },
   "outputs": [
    {
     "name": "stdout",
     "output_type": "stream",
     "text": [
      "[5.0, 2.0, 2.0, 1.0]\n"
     ]
    }
   ],
   "source": [
    "print(psutil.cpu_percent(interval = 2, percpu = True))"
   ]
  },
  {
   "cell_type": "markdown",
   "metadata": {},
   "source": [
    "### Memory"
   ]
  },
  {
   "cell_type": "code",
   "execution_count": 8,
   "metadata": {
    "ExecuteTime": {
     "end_time": "2019-03-07T16:22:51.690230Z",
     "start_time": "2019-03-07T16:22:51.677496Z"
    }
   },
   "outputs": [
    {
     "name": "stdout",
     "output_type": "stream",
     "text": [
      "Memory Total: 8.00 G\n",
      "Memory Free: 0.95 G \n",
      "Memory Used: 7.05 G \n",
      "Memory Used percent: 88.07 % \n",
      "--------------\n",
      "Memory Used percent: 61.10 % \n"
     ]
    }
   ],
   "source": [
    "memory = psutil.virtual_memory()\n",
    "# print('内存利用率: ', psutil.virtual_memory().percent)\n",
    "print(\"Memory Total: %0.2f G\"%(memory.total/1024/1024/1024)) # 总的内存大小\n",
    "print(\"Memory Free: %0.2f G \"%(memory.free/1024/1024/1024)) # 剩余内存大小\n",
    "memory_used = memory.total - memory.free\n",
    "print(\"Memory Used: %0.2f G \"%(memory_used/1024/1024/1024)) \n",
    "print(\"Memory Used percent: %0.2f %% \"%(memory_used/memory.total * 100))\n",
    "print('--------------')\n",
    "print(\"Memory Used percent: %0.2f %% \"%(memory.percent))"
   ]
  },
  {
   "cell_type": "code",
   "execution_count": null,
   "metadata": {},
   "outputs": [],
   "source": []
  },
  {
   "cell_type": "markdown",
   "metadata": {
    "ExecuteTime": {
     "end_time": "2019-01-03T09:27:54.996007Z",
     "start_time": "2019-01-03T09:27:54.770994Z"
    }
   },
   "source": [
    "### 硬盘"
   ]
  },
  {
   "cell_type": "code",
   "execution_count": 9,
   "metadata": {
    "ExecuteTime": {
     "end_time": "2019-03-07T16:23:03.953387Z",
     "start_time": "2019-03-07T16:23:03.923599Z"
    }
   },
   "outputs": [
    {
     "name": "stdout",
     "output_type": "stream",
     "text": [
      "Disk Total: 233.57 G\n",
      "Disk Free: 53.95 G \n",
      "Disk Used: 175.97 G \n",
      "Disk Used percent: 75.34 % \n",
      "--------------\n",
      "Disk Used percent: 76.50 % \n"
     ]
    },
    {
     "data": {
      "text/plain": [
       "[sdiskpart(device='/dev/disk1s1', mountpoint='/', fstype='apfs', opts='rw,local,rootfs,dovolfs,journaled,multilabel'),\n",
       " sdiskpart(device='/dev/disk1s4', mountpoint='/private/var/vm', fstype='apfs', opts='rw,noexec,local,dovolfs,dontbrowse,journaled,multilabel,noatime'),\n",
       " sdiskpart(device='/dev/disk2s1', mountpoint='/Volumes/Git 2.21.0 Mavericks Intel Universal', fstype='hfs', opts='ro,nosuid,quarantine,local,dovolfs,ignore-ownership,multilabel')]"
      ]
     },
     "execution_count": 9,
     "metadata": {},
     "output_type": "execute_result"
    }
   ],
   "source": [
    "# print('磁盘使用情况: ', psutil.disk_usage('/'))\n",
    "# disk = psutil.disk_usage('C:\\\\')\n",
    "disk = psutil.disk_usage('/') # 文件所在硬盘\n",
    "# print('硬盘利用率: ', disk.percent)\n",
    "print(\"Disk Total: %0.2f G\"%(disk.total/1024/1024/1024)) # 总的内存大小\n",
    "print(\"Disk Free: %0.2f G \"%(disk.free/1024/1024/1024)) # 剩余内存大小\n",
    "print(\"Disk Used: %0.2f G \"%(disk.used/1024/1024/1024)) \n",
    "print(\"Disk Used percent: %0.2f %% \"%(disk.used/disk.total  * 100))\n",
    "print('--------------')\n",
    "print(\"Disk Used percent: %0.2f %% \"%(disk.percent))\n",
    "\n",
    "psutil.disk_partitions()  # 磁盘分配"
   ]
  },
  {
   "cell_type": "code",
   "execution_count": 10,
   "metadata": {
    "ExecuteTime": {
     "end_time": "2019-03-07T16:23:14.055417Z",
     "start_time": "2019-03-07T16:23:14.043522Z"
    }
   },
   "outputs": [
    {
     "name": "stdout",
     "output_type": "stream",
     "text": [
      "磁盘读写计数器:  sdiskio(read_count=8810478, write_count=25615733, read_bytes=250165725696, write_bytes=491744050688, read_time=6228921, write_time=14322025)\n"
     ]
    },
    {
     "data": {
      "text/plain": [
       "{'disk0': sdiskio(read_count=8810150, write_count=25615733, read_bytes=250069134848, write_bytes=491744050688, read_time=6223895, write_time=14322025),\n",
       " 'disk2': sdiskio(read_count=168, write_count=0, read_bytes=72352768, write_bytes=0, read_time=188, write_time=0),\n",
       " 'disk3': sdiskio(read_count=160, write_count=0, read_bytes=24238080, write_bytes=0, read_time=4838, write_time=0)}"
      ]
     },
     "execution_count": 10,
     "metadata": {},
     "output_type": "execute_result"
    }
   ],
   "source": [
    "# read_count：读取次数\n",
    "# write_count：写入次数\n",
    "# read_bytes：读取的字节数\n",
    "# write_bytes：写入的字节数\n",
    "# read_time(磁盘读时间)\n",
    "# write_time(磁盘写时间)\n",
    "print('磁盘读写计数器: ', psutil.disk_io_counters())\n",
    "# perdisk=True参数获取单个分区IO个数    \n",
    "psutil.disk_io_counters(perdisk=True) "
   ]
  },
  {
   "cell_type": "markdown",
   "metadata": {},
   "source": [
    "### 网络"
   ]
  },
  {
   "cell_type": "code",
   "execution_count": 11,
   "metadata": {
    "ExecuteTime": {
     "end_time": "2019-03-07T16:23:17.430114Z",
     "start_time": "2019-03-07T16:23:17.399152Z"
    }
   },
   "outputs": [
    {
     "name": "stdout",
     "output_type": "stream",
     "text": [
      "网络接口状态:\n",
      "  --  1  lo0\n",
      "snicstats(isup=True, duplex=<NicDuplex.NIC_DUPLEX_UNKNOWN: 0>, speed=0, mtu=16384)\n",
      "  --  2  gif0\n",
      "snicstats(isup=False, duplex=<NicDuplex.NIC_DUPLEX_UNKNOWN: 0>, speed=0, mtu=1280)\n",
      "  --  3  stf0\n",
      "snicstats(isup=False, duplex=<NicDuplex.NIC_DUPLEX_UNKNOWN: 0>, speed=0, mtu=1280)\n",
      "  --  4  XHC20\n",
      "snicstats(isup=False, duplex=<NicDuplex.NIC_DUPLEX_UNKNOWN: 0>, speed=0, mtu=0)\n",
      "  --  5  en0\n",
      "snicstats(isup=True, duplex=<NicDuplex.NIC_DUPLEX_UNKNOWN: 0>, speed=0, mtu=1500)\n",
      "  --  6  p2p0\n",
      "snicstats(isup=True, duplex=<NicDuplex.NIC_DUPLEX_UNKNOWN: 0>, speed=0, mtu=2304)\n",
      "  --  7  awdl0\n",
      "snicstats(isup=True, duplex=<NicDuplex.NIC_DUPLEX_UNKNOWN: 0>, speed=0, mtu=1484)\n",
      "  --  8  en1\n",
      "snicstats(isup=True, duplex=<NicDuplex.NIC_DUPLEX_FULL: 2>, speed=0, mtu=1500)\n",
      "  --  9  bridge0\n",
      "snicstats(isup=True, duplex=<NicDuplex.NIC_DUPLEX_UNKNOWN: 0>, speed=0, mtu=1500)\n",
      "  --  10  utun0\n",
      "snicstats(isup=True, duplex=<NicDuplex.NIC_DUPLEX_UNKNOWN: 0>, speed=0, mtu=2000)\n",
      "\n",
      "网卡信息: \n",
      "  --  1  lo0\n",
      "[snic(family=<AddressFamily.AF_INET: 2>, address='127.0.0.1', netmask='255.0.0.0', broadcast=None, ptp=None), snic(family=<AddressFamily.AF_INET6: 30>, address='::1', netmask='ffff:ffff:ffff:ffff:ffff:ffff:ffff:ffff', broadcast=None, ptp=None), snic(family=<AddressFamily.AF_INET6: 30>, address='fe80::1%lo0', netmask='ffff:ffff:ffff:ffff::', broadcast=None, ptp=None)]\n",
      "  --  2  en0\n",
      "[snic(family=<AddressFamily.AF_INET: 2>, address='192.168.1.72', netmask='255.255.255.0', broadcast='192.168.1.255', ptp=None), snic(family=<AddressFamily.AF_LINK: 18>, address='48:bf:6b:de:59:30', netmask=None, broadcast=None, ptp=None), snic(family=<AddressFamily.AF_INET6: 30>, address='fe80::14f5:b553:467f:3429%en0', netmask='ffff:ffff:ffff:ffff::', broadcast=None, ptp=None)]\n",
      "  --  3  p2p0\n",
      "[snic(family=<AddressFamily.AF_LINK: 18>, address='0a:bf:6b:de:59:30', netmask=None, broadcast=None, ptp=None)]\n",
      "  --  4  awdl0\n",
      "[snic(family=<AddressFamily.AF_LINK: 18>, address='b2:c5:1d:75:8b:ba', netmask=None, broadcast=None, ptp=None), snic(family=<AddressFamily.AF_INET6: 30>, address='fe80::b0c5:1dff:fe75:8bba%awdl0', netmask='ffff:ffff:ffff:ffff::', broadcast=None, ptp=None)]\n",
      "  --  5  en1\n",
      "[snic(family=<AddressFamily.AF_LINK: 18>, address='9a:00:0d:7f:e3:00', netmask=None, broadcast=None, ptp=None)]\n",
      "  --  6  bridge0\n",
      "[snic(family=<AddressFamily.AF_LINK: 18>, address='9a:00:0d:7f:e3:00', netmask=None, broadcast=None, ptp=None)]\n",
      "  --  7  utun0\n",
      "[snic(family=<AddressFamily.AF_INET6: 30>, address='fe80::c8dd:2c76:fd90:fccf%utun0', netmask='ffff:ffff:ffff:ffff::', broadcast=None, ptp=None)]\n"
     ]
    }
   ],
   "source": [
    "print('网络接口状态:')\n",
    "for index, key in enumerate(psutil.net_if_stats()):\n",
    "    print('  --  %s  %s'%(index +1, key))\n",
    "    print(psutil.net_if_stats()[key])\n",
    "print()\n",
    "print('网卡信息: ')\n",
    "for index, key in enumerate(psutil.net_if_addrs()):\n",
    "    print('  --  %s  %s'%(index +1, key))\n",
    "    print(psutil.net_if_addrs()[key])"
   ]
  },
  {
   "cell_type": "code",
   "execution_count": 12,
   "metadata": {
    "ExecuteTime": {
     "end_time": "2019-03-07T16:23:24.758615Z",
     "start_time": "2019-03-07T16:23:24.744274Z"
    }
   },
   "outputs": [
    {
     "name": "stdout",
     "output_type": "stream",
     "text": [
      "系统网络总的IO信息:  snetio(bytes_sent=67454950400, bytes_recv=349137507328, packets_sent=138330311, packets_recv=226492994, errin=0, errout=0, dropin=0, dropout=0)\n"
     ]
    },
    {
     "data": {
      "text/plain": [
       "{'XHC20': snetio(bytes_sent=0, bytes_recv=0, packets_sent=0, packets_recv=0, errin=0, errout=0, dropin=0, dropout=0),\n",
       " 'awdl0': snetio(bytes_sent=30720, bytes_recv=0, packets_sent=275, packets_recv=0, errin=0, errout=0, dropin=0, dropout=0),\n",
       " 'bridge0': snetio(bytes_sent=0, bytes_recv=0, packets_sent=1, packets_recv=0, errin=0, errout=0, dropin=0, dropout=0),\n",
       " 'en0': snetio(bytes_sent=18411131904, bytes_recv=300093719552, packets_sent=132049142, packets_recv=220212103, errin=0, errout=0, dropin=0, dropout=0),\n",
       " 'en1': snetio(bytes_sent=0, bytes_recv=0, packets_sent=0, packets_recv=0, errin=0, errout=0, dropin=0, dropout=0),\n",
       " 'gif0': snetio(bytes_sent=0, bytes_recv=0, packets_sent=0, packets_recv=0, errin=0, errout=0, dropin=0, dropout=0),\n",
       " 'lo0': snetio(bytes_sent=49043787776, bytes_recv=49043787776, packets_sent=6280891, packets_recv=6280891, errin=0, errout=0, dropin=0, dropout=0),\n",
       " 'p2p0': snetio(bytes_sent=0, bytes_recv=0, packets_sent=0, packets_recv=0, errin=0, errout=0, dropin=0, dropout=0),\n",
       " 'stf0': snetio(bytes_sent=0, bytes_recv=0, packets_sent=0, packets_recv=0, errin=0, errout=0, dropin=0, dropout=0),\n",
       " 'utun0': snetio(bytes_sent=0, bytes_recv=0, packets_sent=2, packets_recv=0, errin=0, errout=0, dropin=0, dropout=0)}"
      ]
     },
     "execution_count": 12,
     "metadata": {},
     "output_type": "execute_result"
    }
   ],
   "source": [
    "# bytes_sent:发送的字节数\n",
    "# bytes_recv:收到的字节数\n",
    "# packets_sent:发送的数据包数量\n",
    "# packets_recv:收到的数据包shul\n",
    "# errin：接收时的错误数\n",
    "# errout:发送时的错误数\n",
    "# dropin:丢弃的传入数据包总数\n",
    "# dropout：丢弃的传出数据包总数\n",
    "print('系统网络总的IO信息: ', psutil.net_io_counters())\n",
    "# pernic=True时输出每个网络接口的信息\n",
    "psutil.net_io_counters(pernic = True)"
   ]
  },
  {
   "cell_type": "code",
   "execution_count": 13,
   "metadata": {
    "ExecuteTime": {
     "end_time": "2019-03-07T16:23:29.678615Z",
     "start_time": "2019-03-07T16:23:29.632878Z"
    }
   },
   "outputs": [
    {
     "name": "stdout",
     "output_type": "stream",
     "text": [
      "当前网络连接信息:\n"
     ]
    },
    {
     "ename": "AccessDenied",
     "evalue": "psutil.AccessDenied (pid=80970)",
     "output_type": "error",
     "traceback": [
      "\u001b[0;31m---------------------------------------------------------------------------\u001b[0m",
      "\u001b[0;31mPermissionError\u001b[0m                           Traceback (most recent call last)",
      "\u001b[0;32m~/anaconda3/lib/python3.6/site-packages/psutil/_psosx.py\u001b[0m in \u001b[0;36mwrapper\u001b[0;34m(self, *args, **kwargs)\u001b[0m\n\u001b[1;32m    329\u001b[0m         \u001b[0;32mtry\u001b[0m\u001b[0;34m:\u001b[0m\u001b[0;34m\u001b[0m\u001b[0m\n\u001b[0;32m--> 330\u001b[0;31m             \u001b[0;32mreturn\u001b[0m \u001b[0mfun\u001b[0m\u001b[0;34m(\u001b[0m\u001b[0mself\u001b[0m\u001b[0;34m,\u001b[0m \u001b[0;34m*\u001b[0m\u001b[0margs\u001b[0m\u001b[0;34m,\u001b[0m \u001b[0;34m**\u001b[0m\u001b[0mkwargs\u001b[0m\u001b[0;34m)\u001b[0m\u001b[0;34m\u001b[0m\u001b[0m\n\u001b[0m\u001b[1;32m    331\u001b[0m         \u001b[0;32mexcept\u001b[0m \u001b[0mOSError\u001b[0m \u001b[0;32mas\u001b[0m \u001b[0merr\u001b[0m\u001b[0;34m:\u001b[0m\u001b[0;34m\u001b[0m\u001b[0m\n",
      "\u001b[0;32m~/anaconda3/lib/python3.6/site-packages/psutil/_psosx.py\u001b[0m in \u001b[0;36mconnections\u001b[0;34m(self, kind)\u001b[0m\n\u001b[1;32m    514\u001b[0m         \u001b[0;32mwith\u001b[0m \u001b[0mcatch_zombie\u001b[0m\u001b[0;34m(\u001b[0m\u001b[0mself\u001b[0m\u001b[0;34m)\u001b[0m\u001b[0;34m:\u001b[0m\u001b[0;34m\u001b[0m\u001b[0m\n\u001b[0;32m--> 515\u001b[0;31m             \u001b[0mrawlist\u001b[0m \u001b[0;34m=\u001b[0m \u001b[0mcext\u001b[0m\u001b[0;34m.\u001b[0m\u001b[0mproc_connections\u001b[0m\u001b[0;34m(\u001b[0m\u001b[0mself\u001b[0m\u001b[0;34m.\u001b[0m\u001b[0mpid\u001b[0m\u001b[0;34m,\u001b[0m \u001b[0mfamilies\u001b[0m\u001b[0;34m,\u001b[0m \u001b[0mtypes\u001b[0m\u001b[0;34m)\u001b[0m\u001b[0;34m\u001b[0m\u001b[0m\n\u001b[0m\u001b[1;32m    516\u001b[0m         \u001b[0mret\u001b[0m \u001b[0;34m=\u001b[0m \u001b[0;34m[\u001b[0m\u001b[0;34m]\u001b[0m\u001b[0;34m\u001b[0m\u001b[0m\n",
      "\u001b[0;31mPermissionError\u001b[0m: [Errno 1] Operation not permitted",
      "\nDuring handling of the above exception, another exception occurred:\n",
      "\u001b[0;31mAccessDenied\u001b[0m                              Traceback (most recent call last)",
      "\u001b[0;32m<ipython-input-13-39580c25fab4>\u001b[0m in \u001b[0;36m<module>\u001b[0;34m()\u001b[0m\n\u001b[1;32m      1\u001b[0m \u001b[0mprint\u001b[0m\u001b[0;34m(\u001b[0m\u001b[0;34m'当前网络连接信息:'\u001b[0m\u001b[0;34m)\u001b[0m\u001b[0;34m\u001b[0m\u001b[0m\n\u001b[0;32m----> 2\u001b[0;31m \u001b[0;32mfor\u001b[0m \u001b[0mindex\u001b[0m\u001b[0;34m,\u001b[0m \u001b[0mkey\u001b[0m \u001b[0;32min\u001b[0m \u001b[0menumerate\u001b[0m\u001b[0;34m(\u001b[0m\u001b[0mpsutil\u001b[0m\u001b[0;34m.\u001b[0m\u001b[0mnet_connections\u001b[0m\u001b[0;34m(\u001b[0m\u001b[0mkind\u001b[0m \u001b[0;34m=\u001b[0m \u001b[0;34m'inet'\u001b[0m\u001b[0;34m)\u001b[0m\u001b[0;34m)\u001b[0m\u001b[0;34m:\u001b[0m\u001b[0;34m\u001b[0m\u001b[0m\n\u001b[0m\u001b[1;32m      3\u001b[0m     \u001b[0;32mif\u001b[0m \u001b[0mkey\u001b[0m\u001b[0;34m.\u001b[0m\u001b[0mladdr\u001b[0m\u001b[0;34m.\u001b[0m\u001b[0mport\u001b[0m \u001b[0;32min\u001b[0m \u001b[0;34m[\u001b[0m\u001b[0;36m8888\u001b[0m\u001b[0;34m,\u001b[0m \u001b[0;36m8097\u001b[0m\u001b[0;34m,\u001b[0m \u001b[0;36m6006\u001b[0m\u001b[0;34m,\u001b[0m \u001b[0;36m9001\u001b[0m\u001b[0;34m]\u001b[0m\u001b[0;34m:\u001b[0m  \u001b[0;31m# 本地\u001b[0m\u001b[0;34m\u001b[0m\u001b[0m\n\u001b[1;32m      4\u001b[0m         print('  - 本地  %s  ip :%s  port :%s  status :%s  pid :%s'%(index +1, \n\u001b[1;32m      5\u001b[0m                                                                 \u001b[0mkey\u001b[0m\u001b[0;34m.\u001b[0m\u001b[0mladdr\u001b[0m\u001b[0;34m.\u001b[0m\u001b[0mip\u001b[0m\u001b[0;34m,\u001b[0m\u001b[0;34m\u001b[0m\u001b[0m\n",
      "\u001b[0;32m~/anaconda3/lib/python3.6/site-packages/psutil/__init__.py\u001b[0m in \u001b[0;36mnet_connections\u001b[0;34m(kind)\u001b[0m\n\u001b[1;32m   2106\u001b[0m     \u001b[0mOn\u001b[0m \u001b[0mOSX\u001b[0m \u001b[0mthis\u001b[0m \u001b[0mfunction\u001b[0m \u001b[0mrequires\u001b[0m \u001b[0mroot\u001b[0m \u001b[0mprivileges\u001b[0m\u001b[0;34m.\u001b[0m\u001b[0;34m\u001b[0m\u001b[0m\n\u001b[1;32m   2107\u001b[0m     \"\"\"\n\u001b[0;32m-> 2108\u001b[0;31m     \u001b[0;32mreturn\u001b[0m \u001b[0m_psplatform\u001b[0m\u001b[0;34m.\u001b[0m\u001b[0mnet_connections\u001b[0m\u001b[0;34m(\u001b[0m\u001b[0mkind\u001b[0m\u001b[0;34m)\u001b[0m\u001b[0;34m\u001b[0m\u001b[0m\n\u001b[0m\u001b[1;32m   2109\u001b[0m \u001b[0;34m\u001b[0m\u001b[0m\n\u001b[1;32m   2110\u001b[0m \u001b[0;34m\u001b[0m\u001b[0m\n",
      "\u001b[0;32m~/anaconda3/lib/python3.6/site-packages/psutil/_psosx.py\u001b[0m in \u001b[0;36mnet_connections\u001b[0;34m(kind)\u001b[0m\n\u001b[1;32m    247\u001b[0m     \u001b[0;32mfor\u001b[0m \u001b[0mpid\u001b[0m \u001b[0;32min\u001b[0m \u001b[0mpids\u001b[0m\u001b[0;34m(\u001b[0m\u001b[0;34m)\u001b[0m\u001b[0;34m:\u001b[0m\u001b[0;34m\u001b[0m\u001b[0m\n\u001b[1;32m    248\u001b[0m         \u001b[0;32mtry\u001b[0m\u001b[0;34m:\u001b[0m\u001b[0;34m\u001b[0m\u001b[0m\n\u001b[0;32m--> 249\u001b[0;31m             \u001b[0mcons\u001b[0m \u001b[0;34m=\u001b[0m \u001b[0mProcess\u001b[0m\u001b[0;34m(\u001b[0m\u001b[0mpid\u001b[0m\u001b[0;34m)\u001b[0m\u001b[0;34m.\u001b[0m\u001b[0mconnections\u001b[0m\u001b[0;34m(\u001b[0m\u001b[0mkind\u001b[0m\u001b[0;34m)\u001b[0m\u001b[0;34m\u001b[0m\u001b[0m\n\u001b[0m\u001b[1;32m    250\u001b[0m         \u001b[0;32mexcept\u001b[0m \u001b[0mNoSuchProcess\u001b[0m\u001b[0;34m:\u001b[0m\u001b[0;34m\u001b[0m\u001b[0m\n\u001b[1;32m    251\u001b[0m             \u001b[0;32mcontinue\u001b[0m\u001b[0;34m\u001b[0m\u001b[0m\n",
      "\u001b[0;32m~/anaconda3/lib/python3.6/site-packages/psutil/_psosx.py\u001b[0m in \u001b[0;36mwrapper\u001b[0;34m(self, *args, **kwargs)\u001b[0m\n\u001b[1;32m    333\u001b[0m                 \u001b[0;32mraise\u001b[0m \u001b[0mNoSuchProcess\u001b[0m\u001b[0;34m(\u001b[0m\u001b[0mself\u001b[0m\u001b[0;34m.\u001b[0m\u001b[0mpid\u001b[0m\u001b[0;34m,\u001b[0m \u001b[0mself\u001b[0m\u001b[0;34m.\u001b[0m\u001b[0m_name\u001b[0m\u001b[0;34m)\u001b[0m\u001b[0;34m\u001b[0m\u001b[0m\n\u001b[1;32m    334\u001b[0m             \u001b[0;32mif\u001b[0m \u001b[0merr\u001b[0m\u001b[0;34m.\u001b[0m\u001b[0merrno\u001b[0m \u001b[0;32min\u001b[0m \u001b[0;34m(\u001b[0m\u001b[0merrno\u001b[0m\u001b[0;34m.\u001b[0m\u001b[0mEPERM\u001b[0m\u001b[0;34m,\u001b[0m \u001b[0merrno\u001b[0m\u001b[0;34m.\u001b[0m\u001b[0mEACCES\u001b[0m\u001b[0;34m)\u001b[0m\u001b[0;34m:\u001b[0m\u001b[0;34m\u001b[0m\u001b[0m\n\u001b[0;32m--> 335\u001b[0;31m                 \u001b[0;32mraise\u001b[0m \u001b[0mAccessDenied\u001b[0m\u001b[0;34m(\u001b[0m\u001b[0mself\u001b[0m\u001b[0;34m.\u001b[0m\u001b[0mpid\u001b[0m\u001b[0;34m,\u001b[0m \u001b[0mself\u001b[0m\u001b[0;34m.\u001b[0m\u001b[0m_name\u001b[0m\u001b[0;34m)\u001b[0m\u001b[0;34m\u001b[0m\u001b[0m\n\u001b[0m\u001b[1;32m    336\u001b[0m             \u001b[0;32mraise\u001b[0m\u001b[0;34m\u001b[0m\u001b[0m\n\u001b[1;32m    337\u001b[0m     \u001b[0;32mreturn\u001b[0m \u001b[0mwrapper\u001b[0m\u001b[0;34m\u001b[0m\u001b[0m\n",
      "\u001b[0;31mAccessDenied\u001b[0m: psutil.AccessDenied (pid=80970)"
     ]
    }
   ],
   "source": [
    "print('当前网络连接信息:')\n",
    "for index, key in enumerate(psutil.net_connections(kind = 'inet')):\n",
    "    if key.laddr.port in [8888, 8097, 6006, 9001]:  # 本地\n",
    "        print('  - 本地  %s  ip :%s  port :%s  status :%s  pid :%s'%(index +1, \n",
    "                                                                key.laddr.ip, \n",
    "                                                                key.laddr.port, \n",
    "                                                                key.status, \n",
    "                                                                key.pid))\n",
    "#         print(key)\n",
    "    if len(key.raddr) > 0: \n",
    "        if key.raddr.port in [8888, 8097, 6006, 9001]:  # 远程\n",
    "            print('  * 远程  %s  laddr ip :%s  laddr port :%s  raddr ip :%s  raddr port :%s  status :%s  pid :%s'%(index +1,\n",
    "                                                                                                               key.laddr.ip,\n",
    "                                                                                                               key.laddr.port,\n",
    "                                                                                                               key.raddr.ip,\n",
    "                                                                                                               key.raddr.port, \n",
    "                                                                                                               key.status,\n",
    "                                                                                                               key.pid))\n",
    "#             print(key)"
   ]
  },
  {
   "cell_type": "markdown",
   "metadata": {},
   "source": [
    "## 特定"
   ]
  },
  {
   "cell_type": "code",
   "execution_count": 14,
   "metadata": {
    "ExecuteTime": {
     "end_time": "2019-03-07T16:23:40.072879Z",
     "start_time": "2019-03-07T16:23:40.064553Z"
    }
   },
   "outputs": [],
   "source": [
    "all_pids  = psutil.pids() # 所有进程ID\n",
    "# process_lst = []\n",
    "# for pid in all_pids:\n",
    "#     p = psutil.Process(pid)\n",
    "#     process_lst.append(p)"
   ]
  },
  {
   "cell_type": "code",
   "execution_count": 15,
   "metadata": {
    "ExecuteTime": {
     "end_time": "2019-03-07T16:23:40.797871Z",
     "start_time": "2019-03-07T16:23:40.789911Z"
    }
   },
   "outputs": [
    {
     "name": "stdout",
     "output_type": "stream",
     "text": [
      "<bound method Process.create_time of psutil.Process(pid=80965, name='python3.6', started='00:18:59')>\n"
     ]
    }
   ],
   "source": [
    "p = psutil.Process(os.getpid())\n",
    "print(p.create_time)\n",
    "# datetime.datetime.fromtimestamp(p.create_time).strftime(\"%Y-%m-%d %H:%M:%S\")"
   ]
  },
  {
   "cell_type": "code",
   "execution_count": 16,
   "metadata": {
    "ExecuteTime": {
     "end_time": "2019-03-07T16:23:42.762094Z",
     "start_time": "2019-03-07T16:23:42.729021Z"
    }
   },
   "outputs": [
    {
     "name": "stdout",
     "output_type": "stream",
     "text": [
      "进程名 mdworker_shared       内存利用率 0.15707015991210938 进程状态 running    创建时间 1551975723.711471 \n",
      "进程名 mdworker_shared       内存利用率 0.20799636840820312 进程状态 running    创建时间 1551975700.811798 \n",
      "进程名 mdworker_shared       内存利用率 0.2117156982421875 进程状态 running    创建时间 1551975700.810642 \n",
      "进程名 com.apple.WebKit.WebContent  内存利用率 2.2373199462890625 进程状态 running    创建时间 1551975630.287543 \n",
      "进程名 bash                  内存利用率 0.0186920166015625 进程状态 running    创建时间 1551975553.443887 \n"
     ]
    },
    {
     "ename": "AccessDenied",
     "evalue": "psutil.AccessDenied (pid=80970, name='login')",
     "output_type": "error",
     "traceback": [
      "\u001b[0;31m---------------------------------------------------------------------------\u001b[0m",
      "\u001b[0;31mPermissionError\u001b[0m                           Traceback (most recent call last)",
      "\u001b[0;32m~/anaconda3/lib/python3.6/site-packages/psutil/_psosx.py\u001b[0m in \u001b[0;36mwrapper\u001b[0;34m(self, *args, **kwargs)\u001b[0m\n\u001b[1;32m    329\u001b[0m         \u001b[0;32mtry\u001b[0m\u001b[0;34m:\u001b[0m\u001b[0;34m\u001b[0m\u001b[0m\n\u001b[0;32m--> 330\u001b[0;31m             \u001b[0;32mreturn\u001b[0m \u001b[0mfun\u001b[0m\u001b[0;34m(\u001b[0m\u001b[0mself\u001b[0m\u001b[0;34m,\u001b[0m \u001b[0;34m*\u001b[0m\u001b[0margs\u001b[0m\u001b[0;34m,\u001b[0m \u001b[0;34m**\u001b[0m\u001b[0mkwargs\u001b[0m\u001b[0;34m)\u001b[0m\u001b[0;34m\u001b[0m\u001b[0m\n\u001b[0m\u001b[1;32m    331\u001b[0m         \u001b[0;32mexcept\u001b[0m \u001b[0mOSError\u001b[0m \u001b[0;32mas\u001b[0m \u001b[0merr\u001b[0m\u001b[0;34m:\u001b[0m\u001b[0;34m\u001b[0m\u001b[0m\n",
      "\u001b[0;32m~/anaconda3/lib/python3.6/site-packages/psutil/_psosx.py\u001b[0m in \u001b[0;36mmemory_info\u001b[0;34m(self)\u001b[0m\n\u001b[1;32m    455\u001b[0m     \u001b[0;32mdef\u001b[0m \u001b[0mmemory_info\u001b[0m\u001b[0;34m(\u001b[0m\u001b[0mself\u001b[0m\u001b[0;34m)\u001b[0m\u001b[0;34m:\u001b[0m\u001b[0;34m\u001b[0m\u001b[0m\n\u001b[0;32m--> 456\u001b[0;31m         \u001b[0mrawtuple\u001b[0m \u001b[0;34m=\u001b[0m \u001b[0mself\u001b[0m\u001b[0;34m.\u001b[0m\u001b[0m_get_pidtaskinfo\u001b[0m\u001b[0;34m(\u001b[0m\u001b[0;34m)\u001b[0m\u001b[0;34m\u001b[0m\u001b[0m\n\u001b[0m\u001b[1;32m    457\u001b[0m         return pmem(\n",
      "\u001b[0;32m~/anaconda3/lib/python3.6/site-packages/psutil/_common.py\u001b[0m in \u001b[0;36mwrapper\u001b[0;34m(self)\u001b[0m\n\u001b[1;32m    336\u001b[0m         \u001b[0;32mif\u001b[0m \u001b[0;32mnot\u001b[0m \u001b[0mwrapper\u001b[0m\u001b[0;34m.\u001b[0m\u001b[0mcache_activated\u001b[0m\u001b[0;34m:\u001b[0m\u001b[0;34m\u001b[0m\u001b[0m\n\u001b[0;32m--> 337\u001b[0;31m             \u001b[0;32mreturn\u001b[0m \u001b[0mfun\u001b[0m\u001b[0;34m(\u001b[0m\u001b[0mself\u001b[0m\u001b[0;34m)\u001b[0m\u001b[0;34m\u001b[0m\u001b[0m\n\u001b[0m\u001b[1;32m    338\u001b[0m         \u001b[0;32melse\u001b[0m\u001b[0;34m:\u001b[0m\u001b[0;34m\u001b[0m\u001b[0m\n",
      "\u001b[0;32m~/anaconda3/lib/python3.6/site-packages/psutil/_psosx.py\u001b[0m in \u001b[0;36m_get_pidtaskinfo\u001b[0;34m(self)\u001b[0m\n\u001b[1;32m    386\u001b[0m         \u001b[0;32mwith\u001b[0m \u001b[0mcatch_zombie\u001b[0m\u001b[0;34m(\u001b[0m\u001b[0mself\u001b[0m\u001b[0;34m)\u001b[0m\u001b[0;34m:\u001b[0m\u001b[0;34m\u001b[0m\u001b[0m\n\u001b[0;32m--> 387\u001b[0;31m             \u001b[0mret\u001b[0m \u001b[0;34m=\u001b[0m \u001b[0mcext\u001b[0m\u001b[0;34m.\u001b[0m\u001b[0mproc_pidtaskinfo_oneshot\u001b[0m\u001b[0;34m(\u001b[0m\u001b[0mself\u001b[0m\u001b[0;34m.\u001b[0m\u001b[0mpid\u001b[0m\u001b[0;34m)\u001b[0m\u001b[0;34m\u001b[0m\u001b[0m\n\u001b[0m\u001b[1;32m    388\u001b[0m         \u001b[0;32massert\u001b[0m \u001b[0mlen\u001b[0m\u001b[0;34m(\u001b[0m\u001b[0mret\u001b[0m\u001b[0;34m)\u001b[0m \u001b[0;34m==\u001b[0m \u001b[0mlen\u001b[0m\u001b[0;34m(\u001b[0m\u001b[0mpidtaskinfo_map\u001b[0m\u001b[0;34m)\u001b[0m\u001b[0;34m\u001b[0m\u001b[0m\n",
      "\u001b[0;31mPermissionError\u001b[0m: [Errno 1] Operation not permitted",
      "\nDuring handling of the above exception, another exception occurred:\n",
      "\u001b[0;31mAccessDenied\u001b[0m                              Traceback (most recent call last)",
      "\u001b[0;32m<ipython-input-16-64d3588dda42>\u001b[0m in \u001b[0;36m<module>\u001b[0;34m()\u001b[0m\n\u001b[1;32m      2\u001b[0m \u001b[0;32mfor\u001b[0m \u001b[0mpnum\u001b[0m \u001b[0;32min\u001b[0m \u001b[0mpsutil\u001b[0m\u001b[0;34m.\u001b[0m\u001b[0mpids\u001b[0m\u001b[0;34m(\u001b[0m\u001b[0;34m)\u001b[0m\u001b[0;34m:\u001b[0m\u001b[0;34m\u001b[0m\u001b[0m\n\u001b[1;32m      3\u001b[0m     \u001b[0mp\u001b[0m \u001b[0;34m=\u001b[0m \u001b[0mpsutil\u001b[0m\u001b[0;34m.\u001b[0m\u001b[0mProcess\u001b[0m\u001b[0;34m(\u001b[0m\u001b[0mpnum\u001b[0m\u001b[0;34m)\u001b[0m\u001b[0;34m\u001b[0m\u001b[0m\n\u001b[0;32m----> 4\u001b[0;31m     \u001b[0mprint\u001b[0m\u001b[0;34m(\u001b[0m\u001b[0;34mu\"进程名 %-20s  内存利用率 %-18s 进程状态 %-10s 创建时间 %-10s \"\u001b[0m     \u001b[0;34m%\u001b[0m \u001b[0;34m(\u001b[0m\u001b[0mp\u001b[0m\u001b[0;34m.\u001b[0m\u001b[0mname\u001b[0m\u001b[0;34m(\u001b[0m\u001b[0;34m)\u001b[0m\u001b[0;34m,\u001b[0m \u001b[0mp\u001b[0m\u001b[0;34m.\u001b[0m\u001b[0mmemory_percent\u001b[0m\u001b[0;34m(\u001b[0m\u001b[0;34m)\u001b[0m\u001b[0;34m,\u001b[0m \u001b[0mp\u001b[0m\u001b[0;34m.\u001b[0m\u001b[0mstatus\u001b[0m\u001b[0;34m(\u001b[0m\u001b[0;34m)\u001b[0m\u001b[0;34m,\u001b[0m \u001b[0mp\u001b[0m\u001b[0;34m.\u001b[0m\u001b[0mcreate_time\u001b[0m\u001b[0;34m(\u001b[0m\u001b[0;34m)\u001b[0m\u001b[0;34m)\u001b[0m\u001b[0;34m)\u001b[0m\u001b[0;34m\u001b[0m\u001b[0m\n\u001b[0m",
      "\u001b[0;32m~/anaconda3/lib/python3.6/site-packages/psutil/__init__.py\u001b[0m in \u001b[0;36mmemory_percent\u001b[0;34m(self, memtype)\u001b[0m\n\u001b[1;32m   1085\u001b[0m         \u001b[0mfun\u001b[0m \u001b[0;34m=\u001b[0m \u001b[0mself\u001b[0m\u001b[0;34m.\u001b[0m\u001b[0mmemory_info\u001b[0m \u001b[0;32mif\u001b[0m \u001b[0mmemtype\u001b[0m \u001b[0;32min\u001b[0m \u001b[0m_psplatform\u001b[0m\u001b[0;34m.\u001b[0m\u001b[0mpmem\u001b[0m\u001b[0;34m.\u001b[0m\u001b[0m_fields\u001b[0m \u001b[0;32melse\u001b[0m\u001b[0;31m \u001b[0m\u001b[0;31m\\\u001b[0m\u001b[0;34m\u001b[0m\u001b[0m\n\u001b[1;32m   1086\u001b[0m             \u001b[0mself\u001b[0m\u001b[0;34m.\u001b[0m\u001b[0mmemory_full_info\u001b[0m\u001b[0;34m\u001b[0m\u001b[0m\n\u001b[0;32m-> 1087\u001b[0;31m         \u001b[0mmetrics\u001b[0m \u001b[0;34m=\u001b[0m \u001b[0mfun\u001b[0m\u001b[0;34m(\u001b[0m\u001b[0;34m)\u001b[0m\u001b[0;34m\u001b[0m\u001b[0m\n\u001b[0m\u001b[1;32m   1088\u001b[0m         \u001b[0mvalue\u001b[0m \u001b[0;34m=\u001b[0m \u001b[0mgetattr\u001b[0m\u001b[0;34m(\u001b[0m\u001b[0mmetrics\u001b[0m\u001b[0;34m,\u001b[0m \u001b[0mmemtype\u001b[0m\u001b[0;34m)\u001b[0m\u001b[0;34m\u001b[0m\u001b[0m\n\u001b[1;32m   1089\u001b[0m \u001b[0;34m\u001b[0m\u001b[0m\n",
      "\u001b[0;32m~/anaconda3/lib/python3.6/site-packages/psutil/_common.py\u001b[0m in \u001b[0;36mwrapper\u001b[0;34m(self)\u001b[0m\n\u001b[1;32m    335\u001b[0m     \u001b[0;32mdef\u001b[0m \u001b[0mwrapper\u001b[0m\u001b[0;34m(\u001b[0m\u001b[0mself\u001b[0m\u001b[0;34m)\u001b[0m\u001b[0;34m:\u001b[0m\u001b[0;34m\u001b[0m\u001b[0m\n\u001b[1;32m    336\u001b[0m         \u001b[0;32mif\u001b[0m \u001b[0;32mnot\u001b[0m \u001b[0mwrapper\u001b[0m\u001b[0;34m.\u001b[0m\u001b[0mcache_activated\u001b[0m\u001b[0;34m:\u001b[0m\u001b[0;34m\u001b[0m\u001b[0m\n\u001b[0;32m--> 337\u001b[0;31m             \u001b[0;32mreturn\u001b[0m \u001b[0mfun\u001b[0m\u001b[0;34m(\u001b[0m\u001b[0mself\u001b[0m\u001b[0;34m)\u001b[0m\u001b[0;34m\u001b[0m\u001b[0m\n\u001b[0m\u001b[1;32m    338\u001b[0m         \u001b[0;32melse\u001b[0m\u001b[0;34m:\u001b[0m\u001b[0;34m\u001b[0m\u001b[0m\n\u001b[1;32m    339\u001b[0m             \u001b[0;32mtry\u001b[0m\u001b[0;34m:\u001b[0m\u001b[0;34m\u001b[0m\u001b[0m\n",
      "\u001b[0;32m~/anaconda3/lib/python3.6/site-packages/psutil/__init__.py\u001b[0m in \u001b[0;36mmemory_info\u001b[0;34m(self)\u001b[0m\n\u001b[1;32m   1047\u001b[0m         \u001b[0mAll\u001b[0m \u001b[0mnumbers\u001b[0m \u001b[0mare\u001b[0m \u001b[0mexpressed\u001b[0m \u001b[0;32min\u001b[0m \u001b[0mbytes\u001b[0m\u001b[0;34m.\u001b[0m\u001b[0;34m\u001b[0m\u001b[0m\n\u001b[1;32m   1048\u001b[0m         \"\"\"\n\u001b[0;32m-> 1049\u001b[0;31m         \u001b[0;32mreturn\u001b[0m \u001b[0mself\u001b[0m\u001b[0;34m.\u001b[0m\u001b[0m_proc\u001b[0m\u001b[0;34m.\u001b[0m\u001b[0mmemory_info\u001b[0m\u001b[0;34m(\u001b[0m\u001b[0;34m)\u001b[0m\u001b[0;34m\u001b[0m\u001b[0m\n\u001b[0m\u001b[1;32m   1050\u001b[0m \u001b[0;34m\u001b[0m\u001b[0m\n\u001b[1;32m   1051\u001b[0m     \u001b[0;34m@\u001b[0m\u001b[0mdeprecated_method\u001b[0m\u001b[0;34m(\u001b[0m\u001b[0mreplacement\u001b[0m\u001b[0;34m=\u001b[0m\u001b[0;34m\"memory_info\"\u001b[0m\u001b[0;34m)\u001b[0m\u001b[0;34m\u001b[0m\u001b[0m\n",
      "\u001b[0;32m~/anaconda3/lib/python3.6/site-packages/psutil/_psosx.py\u001b[0m in \u001b[0;36mwrapper\u001b[0;34m(self, *args, **kwargs)\u001b[0m\n\u001b[1;32m    333\u001b[0m                 \u001b[0;32mraise\u001b[0m \u001b[0mNoSuchProcess\u001b[0m\u001b[0;34m(\u001b[0m\u001b[0mself\u001b[0m\u001b[0;34m.\u001b[0m\u001b[0mpid\u001b[0m\u001b[0;34m,\u001b[0m \u001b[0mself\u001b[0m\u001b[0;34m.\u001b[0m\u001b[0m_name\u001b[0m\u001b[0;34m)\u001b[0m\u001b[0;34m\u001b[0m\u001b[0m\n\u001b[1;32m    334\u001b[0m             \u001b[0;32mif\u001b[0m \u001b[0merr\u001b[0m\u001b[0;34m.\u001b[0m\u001b[0merrno\u001b[0m \u001b[0;32min\u001b[0m \u001b[0;34m(\u001b[0m\u001b[0merrno\u001b[0m\u001b[0;34m.\u001b[0m\u001b[0mEPERM\u001b[0m\u001b[0;34m,\u001b[0m \u001b[0merrno\u001b[0m\u001b[0;34m.\u001b[0m\u001b[0mEACCES\u001b[0m\u001b[0;34m)\u001b[0m\u001b[0;34m:\u001b[0m\u001b[0;34m\u001b[0m\u001b[0m\n\u001b[0;32m--> 335\u001b[0;31m                 \u001b[0;32mraise\u001b[0m \u001b[0mAccessDenied\u001b[0m\u001b[0;34m(\u001b[0m\u001b[0mself\u001b[0m\u001b[0;34m.\u001b[0m\u001b[0mpid\u001b[0m\u001b[0;34m,\u001b[0m \u001b[0mself\u001b[0m\u001b[0;34m.\u001b[0m\u001b[0m_name\u001b[0m\u001b[0;34m)\u001b[0m\u001b[0;34m\u001b[0m\u001b[0m\n\u001b[0m\u001b[1;32m    336\u001b[0m             \u001b[0;32mraise\u001b[0m\u001b[0;34m\u001b[0m\u001b[0m\n\u001b[1;32m    337\u001b[0m     \u001b[0;32mreturn\u001b[0m \u001b[0mwrapper\u001b[0m\u001b[0;34m\u001b[0m\u001b[0m\n",
      "\u001b[0;31mAccessDenied\u001b[0m: psutil.AccessDenied (pid=80970, name='login')"
     ]
    }
   ],
   "source": [
    "# 查看系统全部进程\n",
    "for pnum in psutil.pids():\n",
    "    p = psutil.Process(pnum)\n",
    "    print(u\"进程名 %-20s  内存利用率 %-18s 进程状态 %-10s 创建时间 %-10s \" \\\n",
    "    % (p.name(), p.memory_percent(), p.status(), p.create_time()))"
   ]
  },
  {
   "cell_type": "code",
   "execution_count": null,
   "metadata": {},
   "outputs": [],
   "source": []
  },
  {
   "cell_type": "code",
   "execution_count": null,
   "metadata": {},
   "outputs": [],
   "source": []
  }
 ],
 "metadata": {
  "kernelspec": {
   "display_name": "Python 3",
   "language": "python",
   "name": "python3"
  },
  "language_info": {
   "codemirror_mode": {
    "name": "ipython",
    "version": 3
   },
   "file_extension": ".py",
   "mimetype": "text/x-python",
   "name": "python",
   "nbconvert_exporter": "python",
   "pygments_lexer": "ipython3",
   "version": "3.6.4"
  },
  "toc": {
   "nav_menu": {},
   "number_sections": true,
   "sideBar": true,
   "skip_h1_title": false,
   "title_cell": "Table of Contents",
   "title_sidebar": "Contents",
   "toc_cell": false,
   "toc_position": {},
   "toc_section_display": true,
   "toc_window_display": true
  },
  "varInspector": {
   "cols": {
    "lenName": 16,
    "lenType": 16,
    "lenVar": 40
   },
   "kernels_config": {
    "python": {
     "delete_cmd_postfix": "",
     "delete_cmd_prefix": "del ",
     "library": "var_list.py",
     "varRefreshCmd": "print(var_dic_list())"
    },
    "r": {
     "delete_cmd_postfix": ") ",
     "delete_cmd_prefix": "rm(",
     "library": "var_list.r",
     "varRefreshCmd": "cat(var_dic_list()) "
    }
   },
   "types_to_exclude": [
    "module",
    "function",
    "builtin_function_or_method",
    "instance",
    "_Feature"
   ],
   "window_display": false
  }
 },
 "nbformat": 4,
 "nbformat_minor": 2
}
