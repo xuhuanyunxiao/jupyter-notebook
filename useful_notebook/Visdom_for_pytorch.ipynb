{
 "cells": [
  {
   "cell_type": "markdown",
   "metadata": {},
   "source": [
    "- pytorch 结果可视化工具 Visdom"
   ]
  },
  {
   "cell_type": "markdown",
   "metadata": {},
   "source": [
    "# 基本设置"
   ]
  },
  {
   "cell_type": "code",
   "execution_count": 53,
   "metadata": {
    "ExecuteTime": {
     "end_time": "2018-11-30T03:41:55.614018Z",
     "start_time": "2018-11-30T03:41:55.603018Z"
    },
    "collapsed": true
   },
   "outputs": [],
   "source": [
    "from __future__ import absolute_import\n",
    "from __future__ import division\n",
    "from __future__ import print_function\n",
    "from __future__ import unicode_literals\n",
    "\n",
    "import time\n",
    "import numpy as np\n",
    "\n",
    "import math\n",
    "import os.path\n",
    "import getpass\n",
    "from sys import platform as _platform\n",
    "from six.moves import urllib"
   ]
  },
  {
   "cell_type": "code",
   "execution_count": 54,
   "metadata": {
    "ExecuteTime": {
     "end_time": "2018-11-30T03:41:56.461067Z",
     "start_time": "2018-11-30T03:41:56.328059Z"
    },
    "collapsed": true
   },
   "outputs": [],
   "source": [
    "import visdom\n",
    "vis = visdom.Visdom()\n",
    "assert vis.check_connection()"
   ]
  },
  {
   "cell_type": "markdown",
   "metadata": {},
   "source": [
    "# Visdom 介绍\n",
    "- Visdom以Plotly为基础，支持丰富的可视化操作"
   ]
  },
  {
   "cell_type": "markdown",
   "metadata": {},
   "source": [
    "## 基本信息"
   ]
  },
  {
   "cell_type": "markdown",
   "metadata": {},
   "source": [
    "- 两点需要注意的地方：\n",
    "  - 需手动指定保存env，可在web界面点击save按钮或在程序中调用save方法，否则visdom服务重启后，env等信息会丢失。\n",
    "  - 客户端与服务器之间的交互采用tornado异步框架，可视化操作不会阻塞当前程序，网络异常也不会导致程序退出。"
   ]
  },
  {
   "cell_type": "markdown",
   "metadata": {},
   "source": [
    "- 重要概念：\n",
    "  - env：环境\n",
    "    - 不同环境的可视化结果相互隔离，互不影响，在使用时如果不指定env，默认使用main。\n",
    "    - 不同用户、不同程序一般使用不同的env。\n",
    "    - env对可视化空间进行分区，每个用户默认有个main的env, envs的状态是长期保持的\n",
    "  - pane：窗格\n",
    "    - 窗格可用于可视化图像、数值或打印文本等，其可以拖动、缩放、保存和关闭。\n",
    "    - 一个程序中可使用同一个env中的不同pane，每个pane可视化或记录某一信息。\n",
    "    - interface刚打开是个白板，可以用将数据和图片发送到backend，生成多个对应的窗格\n",
    "  - State(状态）\n",
    "    - 当你创建一些可视化后，服务器自动缓存这些可视化，重新加载页面，重新打开服务器都会再现这些可视化。\n",
    "    - save\n",
    "      - 可以序列化env的状态，并以json文件保持在电脑里\n",
    "    - fork\n",
    "      - 当输入一个新的名字，会复制当前的状态到这个new env下\n",
    "      - （注：这个fork等价于github的fork，跟复制的意思差不多）"
   ]
  },
  {
   "cell_type": "markdown",
   "metadata": {},
   "source": [
    "## 安装与启动"
   ]
  },
  {
   "cell_type": "markdown",
   "metadata": {},
   "source": [
    "- 安装：pip install visdom\n",
    "- 启动：python -m visdom.server (-port 9100)\n",
    "  - nohup python3 -m visdom.server -port 9100 &\n",
    "  - http://192.168.30.220:9100\n",
    "- 浏览器：localhost:8097\n",
    "  - http://192.168.0.104:8097"
   ]
  },
  {
   "cell_type": "markdown",
   "metadata": {
    "ExecuteTime": {
     "end_time": "2018-11-30T03:13:30.116469Z",
     "start_time": "2018-11-30T03:13:30.102469Z"
    }
   },
   "source": [
    "> - 可用参数：\n",
    "  - -port：运行服务器的端口。\n",
    "  - -env_path：重新加载序列化会话的路径。\n",
    "  - -logging_level：记录级别（默认=INFO）。接受标准文本和数字记录值。"
   ]
  },
  {
   "cell_type": "markdown",
   "metadata": {},
   "source": [
    "## API\n",
    "- 大多数接口可以输入一个tensor(保存数据），和一个可选的tensor Y（标签或者时间戳）,\n",
    "- 另外都可以指定窗口win,和汇出图添加到那个env上\n",
    "- 另外options输入可以修改默认的绘图属性，输入参数基于表中键的匹配，有一些通用的options可以选择"
   ]
  },
  {
   "cell_type": "markdown",
   "metadata": {},
   "source": [
    "### 可视化接口\n",
    "  - vis.scatter : 2D 或 3D 散点图\n",
    "  - vis.line : 线图\n",
    "  - vis.stem : 茎叶图\n",
    "  - vis.heatmap : 热力图\n",
    "  - vis.bar : 条形图\n",
    "  - vis.histogram: 直方图\n",
    "  - vis.boxplot : 箱型图\n",
    "  - vis.surf : 表面图\n",
    "  - vis.contour : 轮廓图\n",
    "  - vis.quiver : 绘出二维矢量场\n",
    "  - vis.mesh : 网格图"
   ]
  },
  {
   "cell_type": "markdown",
   "metadata": {},
   "source": [
    "  - vis.image : 图片\n",
    "  - vis.images : list of images\n",
    "  - vis.text : 文本  \n",
    "  - vis.save : 序列化状态\n",
    "  - vis.properties : properties grid\n",
    "  - vis.audio : audio\n",
    "  - vis.video : videos\n",
    "  - vis.svg : SVG object\n",
    "  - vis.matplot : matplotlib plot"
   ]
  },
  {
   "cell_type": "markdown",
   "metadata": {},
   "source": [
    "  - vis.close : 通过ID关闭一个窗口\n",
    "  - vis.delete_env : delete an environment by env_id\n",
    "  - vis.win_exists : 通过id检查一个窗口是否已经存在\n",
    "  - vis.get_env_list : get a list of all of the environments on your server\n",
    "  - vis.win_hash: get md5 hash of window's contents\n",
    "  - vis.get_window_data: get current data for a window\n",
    "  - vis.check_connection: 检查服务器是否连接\n",
    "  - vis.replay_log: replay the actions from the provided log file"
   ]
  },
  {
   "cell_type": "code",
   "execution_count": 10,
   "metadata": {
    "ExecuteTime": {
     "end_time": "2018-11-30T02:28:09.588864Z",
     "start_time": "2018-11-30T02:28:08.581807Z"
    }
   },
   "outputs": [
    {
     "data": {
      "text/plain": [
       "'mywin'"
      ]
     },
     "execution_count": 10,
     "metadata": {},
     "output_type": "execute_result"
    }
   ],
   "source": [
    "vis = visdom.Visdom()\n",
    "\n",
    "trace = dict(x=[1, 2, 3], y=[4, 5, 6], mode=\"markers+lines\", type='custom',\n",
    "             marker={'color': 'red', 'symbol': 104, 'size': \"10\"},\n",
    "             text=[\"one\", \"two\", \"three\"], name='1st Trace')\n",
    "layout = dict(title=\"First Plot\", xaxis={'title': 'x1'}, yaxis={'title': 'x2'})\n",
    "\n",
    "vis._send({'data': [trace], 'layout': layout, 'win': 'mywin'})"
   ]
  },
  {
   "cell_type": "markdown",
   "metadata": {},
   "source": [
    "### 通用的可视化options\n",
    "> - (除了plot.image和plot.text外）\n",
    "  - opts.title : figure title\n",
    "  - opts.width : figure width\n",
    "  - opts.height : figure height\n",
    "  - opts.showlegend : show legend (true or false)\n",
    "  - opts.xtype : type of x-axis (\\\\\\\\\\\\'linear\\\\\\\\\\\\' or \\\\\\\\\\\\'log\\\\\\\\\\\\')\n",
    "  - opts.xlabel : label of x-axis\n",
    "  - opts.xtick : show ticks on x-axis (boolean)\n",
    "  - opts.xtickmin : first tick on x-axis (number)\n",
    "  - opts.xtickmax : last tick on x-axis (number)\n",
    "  - opts.xtickvals : locations of ticks on x-axis (table of numbers)\n",
    "  - opts.xticklabels : ticks labels on x-axis (table of strings)\n",
    "  - opts.xtickstep : distances between ticks on x-axis (number)\n",
    "  - opts.ytype : type of y-axis (\\\\\\\\\\\\'linear\\\\\\\\\\\\' or \\\\\\\\\\\\'log\\\\\\\\\\\\')\n",
    "  - opts.ylabel : label of y-axis\n",
    "  - opts.ytick : show ticks on y-axis (boolean)\n",
    "  - opts.ytickmin : first tick on y-axis (number)\n",
    "  - opts.ytickmax : last tick on y-axis (number)\n",
    "  - opts.ytickvals : locations of ticks on y-axis (table of numbers)\n",
    "  - opts.yticklabels : ticks labels on y-axis (table of strings)\n",
    "  - opts.ytickstep : distances between ticks on y-axis (number)\n",
    "  - opts.marginleft : left margin (in pixels)\n",
    "  - opts.marginright : right margin (in pixels)\n",
    "  - opts.margintop : top margin (in pixels)\n",
    "  - opts.marginbottom: bottom margin (in pixels)"
   ]
  },
  {
   "cell_type": "markdown",
   "metadata": {},
   "source": [
    "# Visdom 使用实例"
   ]
  },
  {
   "cell_type": "markdown",
   "metadata": {},
   "source": [
    "## 绘制随程序运行逐渐产生的值\n",
    "- 如在训练的时候，可以采用line的update方法"
   ]
  },
  {
   "cell_type": "code",
   "execution_count": 68,
   "metadata": {
    "ExecuteTime": {
     "end_time": "2018-11-30T04:00:44.329577Z",
     "start_time": "2018-11-30T04:00:34.196998Z"
    }
   },
   "outputs": [],
   "source": [
    "vis = visdom.Visdom(env='my_wind')\n",
    "x,y=0,0\n",
    "win = vis.line(X=np.array([x]),Y=np.array([y]),\n",
    "               opts=dict(title='two_lines'))\n",
    "for i in range(1000):\n",
    "    x+=i\n",
    "    y+=i\n",
    "    vis.line(X=np.array([x]),Y=np.array([y]),\n",
    "        win=win,#win要保持一致\n",
    "        update='append')"
   ]
  },
  {
   "cell_type": "markdown",
   "metadata": {},
   "source": [
    "## 损失函数可视化"
   ]
  },
  {
   "cell_type": "code",
   "execution_count": 63,
   "metadata": {
    "ExecuteTime": {
     "end_time": "2018-11-30T03:57:02.743903Z",
     "start_time": "2018-11-30T03:57:02.710901Z"
    },
    "collapsed": true
   },
   "outputs": [],
   "source": [
    "import visdom\n",
    "import time\n",
    "import numpy as np\n",
    "from torchnet import meter\n",
    "\n",
    "class Visualizer(object):\n",
    "    def __init__(self, env='default', **kwargs):\n",
    "        self.vis = visdom.Visdom(env=env, **kwargs)\n",
    "        self.index = {}         \n",
    "    def plot_many_stack(self, d):\n",
    "        '''\n",
    "        self.plot('loss',1.00)\n",
    "        '''\n",
    "        name=list(d.keys())\n",
    "        name_total=\" \".join(name)\n",
    "        x = self.index.get(name_total, 0)\n",
    "        val=list(d.values())\n",
    "        if len(val)==1:\n",
    "            y=np.array(val)\n",
    "        else:\n",
    "            y=np.array(val).reshape(-1,len(val))\n",
    "        #print(x)\n",
    "        self.vis.line(Y=y,X=np.ones(y.shape)*x,\n",
    "                    win=str(name_total),#unicode\n",
    "                    opts=dict(legend=name,\n",
    "                        title=name_total),\n",
    "                    update=None if x == 0 else 'append'\n",
    "                    )\n",
    "        self.index[name_total] = x + 1  "
   ]
  },
  {
   "cell_type": "code",
   "execution_count": 69,
   "metadata": {
    "ExecuteTime": {
     "end_time": "2018-11-30T04:02:05.429216Z",
     "start_time": "2018-11-30T04:01:54.641599Z"
    }
   },
   "outputs": [],
   "source": [
    "#用 torchnet来存放损失函数，如果没有，请安装conda install torchnet\n",
    "'''\n",
    "训练前的模型、损失函数设置 \n",
    "vis = Visualizer(env='my_wind')#为了可视化增加的内容\n",
    "loss_meter = meter.AverageValueMeter()#为了可视化增加的内容\n",
    "for epoch in range(10):\n",
    "    #每个epoch开始前，将存放的loss清除，重新开始记录\n",
    "    loss_meter.reset()#为了可视化增加的内容\n",
    "    model.train()\n",
    "    for ii,(data,label)in enumerate(trainloader):     \n",
    "        ...\n",
    "        out=model(input)\n",
    "        loss=...\n",
    "        loss_meter.add(loss.data[0])#为了可视化增加的内容\n",
    "        \n",
    "    #loss可视化\n",
    "    #loss_meter.value()[0]返回存放的loss的均值\n",
    "    vis.plot_many_stack({'train_loss': loss_meter.value()[0]})#为了可视化增加的内容    \n",
    "'''\n",
    "\n",
    "vis = Visualizer(env='my_wind')#为了可视化增加的内容\n",
    "loss_meter = meter.AverageValueMeter()#为了可视化增加的内容\n",
    "for epoch in range(1000):\n",
    "    loss_meter.reset()#为了可视化增加的内容\n",
    "    loss_meter.add(epoch)#假设loss=epoch\n",
    "    vis.plot_many_stack({'train_loss': loss_meter.value()[0]})#为了可视化增加的内容 \n",
    "    #如果还想同时显示test loss，如法炮制,并用字典的形式赋值，如下。还可以同时显示train和test accuracy\n",
    "    #vis.plot_many_stack({'train_loss': loss_meter.value()[0]，'test_loss':test_loss_meter.value()[0]})#为了可视化增加的内容"
   ]
  },
  {
   "cell_type": "code",
   "execution_count": null,
   "metadata": {
    "collapsed": true
   },
   "outputs": [],
   "source": []
  },
  {
   "cell_type": "markdown",
   "metadata": {},
   "source": [
    "# Visdom API 示例"
   ]
  },
  {
   "cell_type": "markdown",
   "metadata": {},
   "source": [
    "## vis.scatter 2D或3D数据的散点图\n",
    "- 输入 N*2或N*3的 tensor X来指定N个点的位置\n",
    "- 一个可供选择的长度为N的vector用来保存X中的点对应的标签(1 到 K)\n",
    "- 标签可以通过点的颜色反应出来。\n",
    "\n",
    ">- scatter()支持下列的选项：\n",
    "  - options.colormap : 色图（控制图的颜色） (string; default = 'Viridis')\n",
    "  - options.markersymbol: 标记符号 (string; default = 'dot')\n",
    "  - options.markersize : 标记大小(number; default = '10')\n",
    "  - options.markercolor : 每个标记的颜色. (torch.*Tensor; default = nil)\n",
    "  - options.legend : 包含图例名字的table\n",
    "  - options.markercolor 是一个包含整数值的Tensor。Tensor的形状可以是 N 或 N x 3 或 K 或 K x 3.\n",
    "  - Tensor of size N: 表示每个点的单通道颜色强度。 0 = black, 255 = red\n",
    "  - Tensor of size N x 3: 用三通道表示每个点的颜色。 0,0,0 = black, 255,255,255 = white\n",
    "  - Tensor of size K and K x 3: 为每个类别指定颜色，不是为每个点指定颜色。"
   ]
  },
  {
   "cell_type": "code",
   "execution_count": 23,
   "metadata": {
    "ExecuteTime": {
     "end_time": "2018-11-30T02:59:13.460472Z",
     "start_time": "2018-11-30T02:59:13.409469Z"
    }
   },
   "outputs": [
    {
     "data": {
      "text/plain": [
       "'window_36d679d756130a'"
      ]
     },
     "execution_count": 23,
     "metadata": {},
     "output_type": "execute_result"
    }
   ],
   "source": [
    "# 2D scatterplot with custom intensities (red channel)\n",
    "vis.scatter(X=np.random.rand(255, 2),\n",
    "            Y=(np.random.rand(255) + 1.5).astype(int),\n",
    "            opts=dict(markersize=10,\n",
    "                      markercolor=np.random.randint(0, 255, (2, 3,)),),)"
   ]
  },
  {
   "cell_type": "code",
   "execution_count": 52,
   "metadata": {
    "ExecuteTime": {
     "end_time": "2018-11-30T03:39:27.569551Z",
     "start_time": "2018-11-30T03:39:22.511261Z"
    }
   },
   "outputs": [
    {
     "data": {
      "text/plain": [
       "'window_36d67f7343d9fa'"
      ]
     },
     "execution_count": 52,
     "metadata": {},
     "output_type": "execute_result"
    }
   ],
   "source": [
    "#画出随机的散点图\n",
    "Y = np.random.rand(100)\n",
    "old_scatter = vis.scatter(X=np.random.rand(100, 2),Y=(Y + 1.5).astype(int),\n",
    "                          opts=dict(legend=['Didnt', 'Update'],xtickmin=-50,\n",
    "                                    xtickmax=50,xtickstep=0.5,ytickmin=-50,\n",
    "                                    ytickmax=50,ytickstep=0.5,\n",
    "                                    markersymbol='cross-thin-open',),) \n",
    "time.sleep(5)\n",
    " \n",
    "#对窗口进行更新,包括标注,坐标,样式等\n",
    "vis.update_window_opts(win=old_scatter,\n",
    "                       opts=dict(legend=['Apples', 'Pears'],xtickmin=0,\n",
    "                                 xtickmax=1,xtickstep=0.5,ytickmin=0,\n",
    "                                 ytickmax=1,ytickstep=0.5,\n",
    "                                 markersymbol='cross-thin-open',),)"
   ]
  },
  {
   "cell_type": "code",
   "execution_count": 47,
   "metadata": {
    "ExecuteTime": {
     "end_time": "2018-11-30T03:34:37.931984Z",
     "start_time": "2018-11-30T03:34:37.894982Z"
    }
   },
   "outputs": [
    {
     "data": {
      "text/plain": [
       "'window_36d67ec99eb382'"
      ]
     },
     "execution_count": 47,
     "metadata": {},
     "output_type": "execute_result"
    }
   ],
   "source": [
    "#3D 散点图\n",
    "Y = np.random.rand(100)\n",
    "vis.scatter(X=np.random.rand(100, 3),Y=(Y + 1.5).astype(int),\n",
    "            opts=dict(legend=['Men', 'Women'],markersize=5,))"
   ]
  },
  {
   "cell_type": "markdown",
   "metadata": {},
   "source": [
    "## vis.line 线图\n",
    "- 一个形状为N或者N×M的tensor Y，用来指定 M条线的值(每条线上有N个点), 和一个可供选择的 tensor X 用来指定对应的 x轴的值; \n",
    "- X可以是一个长度为N的tensor（这种情况下，M条线共享同一个 x轴），也可以是形状和Y一样的tensor。\n",
    "\n",
    "> - The following options are supported:\n",
    "  - options.fillarea : 填充线下面的区域 (boolean)\n",
    "  - options.colormap : 色图 (string; default = 'Viridis')\n",
    "  - options.markers : 显示点标记 (boolean; default = false)\n",
    "  - options.markersymbol: 标记的形状 (string; default = 'dot')\n",
    "  - options.markersize : 标记的大小 (number; default = '10')\n",
    "  - options.legend : 保存图例名字的 table"
   ]
  },
  {
   "cell_type": "markdown",
   "metadata": {},
   "source": [
    "### Line(Custom)"
   ]
  },
  {
   "cell_type": "code",
   "execution_count": 12,
   "metadata": {
    "ExecuteTime": {
     "end_time": "2018-11-30T02:32:50.917955Z",
     "start_time": "2018-11-30T02:32:50.755946Z"
    }
   },
   "outputs": [
    {
     "name": "stdout",
     "output_type": "stream",
     "text": [
      "\n",
      "\n",
      "\n",
      "\n",
      "\n",
      "\n",
      "\n"
     ]
    },
    {
     "data": {
      "text/plain": [
       "'XYCURVE'"
      ]
     },
     "execution_count": 12,
     "metadata": {},
     "output_type": "execute_result"
    }
   ],
   "source": [
    "X = [[] for i in range(7)]\n",
    "Y = [[] for i in range(7)]\n",
    "trace=[]\n",
    "colors = [\"red\",\"blue\",\"yellow\",\"green\",\"orange\",\"violet\",\"brown\"]\n",
    "symbols = [5, 1, 31, 104, 126, 21, 27]\n",
    "m=[1,2,3,4,5,6,7]\n",
    "n =[8,9,10,11,12,13,14]\n",
    "\n",
    "c = -1\n",
    "for j in range(7):\n",
    "    print()\n",
    "    c=c+1\n",
    "    X[j].append(m[c])\n",
    "    Y[j].append(n[c])\n",
    "    tr = dict(x=X[j], y=Y[j], marker={'color': colors[j], 'symbol': symbols[j], 'size': \"10\"},\n",
    "                        mode=\"markers+lines\", name='class-'+str(j), type=\"custom\")\n",
    "    trace.append(tr)\n",
    "    layout=dict(title=\"XY---Curve\", xaxis={'title':'X'}, yaxis={'title':'Y'})\n",
    "\n",
    "vis._send({'data': trace, 'layout': layout, \n",
    "           'win': 'XYCURVE',\n",
    "           'update':'append'})"
   ]
  },
  {
   "cell_type": "code",
   "execution_count": 13,
   "metadata": {
    "ExecuteTime": {
     "end_time": "2018-11-30T02:38:14.414458Z",
     "start_time": "2018-11-30T02:38:14.364455Z"
    }
   },
   "outputs": [
    {
     "data": {
      "text/plain": [
       "'XYCURVE'"
      ]
     },
     "execution_count": 13,
     "metadata": {},
     "output_type": "execute_result"
    }
   ],
   "source": [
    "trace1 = dict(x=[1,3,5,7], y=[1,3,5,7], marker={'color': 'red', 'symbol': 5, 'size': \"10\"},\n",
    "                          mode=\"markers+lines\",name='class-1', type=\"custom\")  \n",
    "trace2 = dict(x=[2,4,6,8], y=[2,3,4,5], marker={'color': 'blue', 'symbol': 1, 'size': \"10\"},\n",
    "                          mode=\"markers+lines\", name='class-2', type=\"custom\")  \n",
    "trace3 = dict(x=[1,2,3,4], y=[4,3,2,1], marker={'color': 'green', 'symbol': 31, 'size': \"10\"},\n",
    "                          mode=\"markers+lines\", name='class-3', type=\"custom\") \n",
    "trace4 = dict(x=[5,3,2,1], y=[1,2,3,6], marker={'color': 'orange', 'symbol': 104, 'size': \"10\"},\n",
    "                          mode=\"markers+lines\",name='class-4', type=\"custom\")  \n",
    "trace5 = dict(x=[3,6,9,10], y=[3,2,1,0], marker={'color': 'violet', 'symbol': 126, 'size': \"10\"},\n",
    "                          mode=\"markers+lines\",name='class-5', type=\"custom\")  \n",
    "trace6 = dict(x=[1,2,3,4], y=[1,4,7,8], marker={'color': 'brown', 'symbol': 21, 'size': \"10\"},\n",
    "                          mode=\"markers+lines\",name='class-6', type=\"custom\")  \n",
    "trace7 = dict(x=[1,2,6,8], y=[1,4,3,7], marker={'color': 'yellow', 'symbol': 27, 'size': \"10\"},\n",
    "                          mode=\"markers+lines\",name='class-7', type=\"custom\")\n",
    "layout=dict(title=\"XY---Curve\", xaxis={'title':'X'}, yaxis={'title':'Y'})\n",
    "vis._send({'data': [trace1, trace2, trace3, trace4, trace5, trace6, trace7], \n",
    "           'layout': layout, \n",
    "           'win': 'XYCURVE',\n",
    "           'update':'append'})"
   ]
  },
  {
   "cell_type": "code",
   "execution_count": 16,
   "metadata": {
    "ExecuteTime": {
     "end_time": "2018-11-30T02:39:17.215050Z",
     "start_time": "2018-11-30T02:39:17.186049Z"
    }
   },
   "outputs": [],
   "source": [
    "vis_line = vis.line(X = np.array([1,2,3]), \n",
    "                    Y = np.array([[1,1,1],[2,2,4],[3,4,7]]), \n",
    "                    win=\"my_line\")"
   ]
  },
  {
   "cell_type": "markdown",
   "metadata": {},
   "source": [
    "### Multiple Lines"
   ]
  },
  {
   "cell_type": "code",
   "execution_count": 17,
   "metadata": {
    "ExecuteTime": {
     "end_time": "2018-11-30T02:42:12.723089Z",
     "start_time": "2018-11-30T02:42:12.603082Z"
    }
   },
   "outputs": [
    {
     "name": "stdout",
     "output_type": "stream",
     "text": [
      "class-1 2 3\n",
      "class-2 4 3\n",
      "class-1 3 6\n",
      "class-2 8 4\n",
      "class-1 4 9\n",
      "class-2 12 5\n",
      "class-1 5 12\n",
      "class-2 16 6\n",
      "class-1 6 15\n",
      "class-2 20 7\n",
      "class-1 7 18\n",
      "class-2 24 8\n"
     ]
    }
   ],
   "source": [
    "def plot_combine(name,d):\n",
    "        #index = {}\n",
    "        #multiple plots in one single graph\n",
    "        X = []\n",
    "        Y = []\n",
    "        legend = []\n",
    "        for k, v in sorted(d.items()):\n",
    "            print(k,v[0],v[1])\n",
    "            Y.append(v[0])\n",
    "            X.append(v[1])\n",
    "            legend.append(k)\n",
    "        Y = np.array([Y])\n",
    "        X = np.array([X])\n",
    "        vis.line(Y=Y, X=X,win=name,env= 'main',\n",
    "            opts=dict(title=name, legend=legend),\n",
    "            update= 'append',)\n",
    "for i in [1,2,3,4,5,6]:\n",
    "    d = {'class-1': [i+1,i*3] ,'class-2': [i*4,i+2]}\n",
    "    plot_combine(\"combined_Lines\",d)     "
   ]
  },
  {
   "cell_type": "code",
   "execution_count": 18,
   "metadata": {
    "ExecuteTime": {
     "end_time": "2018-11-30T02:45:34.591635Z",
     "start_time": "2018-11-30T02:45:34.545632Z"
    },
    "collapsed": true
   },
   "outputs": [],
   "source": [
    "def combined_plot():\n",
    "    x = [0,1,2,3,4]\n",
    "    data = [{'x': x, 'y': list(map(lambda i: i, x)),\n",
    "                'marker':{'color': 'red','symbol': 104,'size': \"10\"},\n",
    "                'mode':\"markers+lines\",'name':'class-1', 'type':'line',},{\n",
    "                'x': x,'y': list(map(lambda i: i*2, x)),\n",
    "                'marker':{ 'color': 'green', 'symbol': 104, 'size': \"10\"},\n",
    "                'mode':\"markers+lines\",'name':'class-2','type':'line',  },{\n",
    "                'x': x,'y': list(map(lambda i: i*3, x)),\n",
    "                'marker':{ 'color': 'blue', 'symbol': 104, 'size': \"10\"},\n",
    "                'mode':\"markers+lines\",'name':'class-3','type':'line',},{\n",
    "                'x': x,'y': list(map(lambda i: i*4, x)),\n",
    "                'marker':{'color': 'green','symbol': 104,'size': \"10\"},\n",
    "                'mode':\"markers+lines\", 'name':'class-3', 'type':'line',}]\n",
    "    win = 'custom_multiple_lines'\n",
    "    env = 'main'\n",
    "\n",
    "    layout= {'title':\"combined_plot\", 'xaxis':{'title':'x1'},'yaxis':{'title':'x2'}}\n",
    "    opts = {}\n",
    "\n",
    "    vis._send({'data': data, 'win': win, 'eid': env, 'layout': layout, 'opts': opts})\n",
    "combined_plot()"
   ]
  },
  {
   "cell_type": "markdown",
   "metadata": {},
   "source": [
    "## vis.updateTrace\n",
    "- 此功能允许更新现存的线或散点图的数据。\n",
    "\n",
    "- 用户可以指定name一个现有的轨迹，如果他们想要添加到它的话，还可以指定一个新name的轨迹。\n",
    "- 默认情况下，如果在首次创建时没有指定图例，那么图例name中的行的索引是。\n",
    "\n",
    "- 如果没有name指定，所有的痕迹应该被更新。\n",
    "- 跟踪更新数据全部NaN被忽略; 这可以用于掩蔽更新。\n",
    "- 该append参数确定更新数据是否应附加到或替换现有数据。"
   ]
  },
  {
   "cell_type": "code",
   "execution_count": null,
   "metadata": {
    "collapsed": true
   },
   "outputs": [],
   "source": []
  },
  {
   "cell_type": "markdown",
   "metadata": {},
   "source": [
    "## vis.stem 茎叶图\n",
    "- 形状为N或者N*M的 tensor X 来指定M时间序列中N个点的值。\n",
    "- 一个可选择的Y，形状为N或者N×M，用Y来指定时间戳，如果Y的形状是N，那么默认M时间序列共享同一个时间戳。\n",
    "\n",
    "> - 支持以下特定选项：\n",
    "  - options.colormap: colormap (string; default = 'Viridis')\n",
    "  - options.legend : table containing legend names"
   ]
  },
  {
   "cell_type": "code",
   "execution_count": null,
   "metadata": {
    "collapsed": true
   },
   "outputs": [],
   "source": []
  },
  {
   "cell_type": "markdown",
   "metadata": {},
   "source": [
    "## vis.heatmap 热力图\n",
    "- 形状为N×M的 tensor X。\n",
    "- X指定了热力图中位置的值。\n",
    "\n",
    "> - 支持下列特定选项：\n",
    "  - options.colormap : 色图 (string; default = 'Viridis')\n",
    "  - options.xmin : 小于这个值的会被剪切成这个值(number; default = X:min())\n",
    "  - options.xmax : 大于这个值的会被剪切成这个值 (number; default = X:max())\n",
    "  - options.columnnames: 包含x轴标签的table\n",
    "  - options.rownames : 包含y轴标签的table"
   ]
  },
  {
   "cell_type": "code",
   "execution_count": 32,
   "metadata": {
    "ExecuteTime": {
     "end_time": "2018-11-30T03:07:28.159767Z",
     "start_time": "2018-11-30T03:07:28.099763Z"
    }
   },
   "outputs": [
    {
     "name": "stdout",
     "output_type": "stream",
     "text": [
      "<bound method ConfusionMeter.value of <torchnet.meter.confusionmeter.ConfusionMeter object at 0x000000000A5569B0>>\n"
     ]
    },
    {
     "data": {
      "text/plain": [
       "'window_36d67afe31d2ae'"
      ]
     },
     "execution_count": 32,
     "metadata": {},
     "output_type": "execute_result"
    }
   ],
   "source": [
    "import torchnet as tnt\n",
    "import torch\n",
    "\n",
    "confusion_matrix = tnt.meter.ConfusionMeter(3) # 3 classes \n",
    "y_actu = np.array([2, 2, 1, 2, 0, 2, 1])\n",
    "y_pred = np.array([2, 2, 1, 2, 0, 2, 1])\n",
    "confusion_matrix.add((torch.from_numpy(y_actu)),(torch.from_numpy(y_pred)))\n",
    "print(confusion_matrix.value)\n",
    "\n",
    "# vis = visdom.Visdom(port='6002')\n",
    "vis.heatmap(X=confusion_matrix.value(),\n",
    "            opts=dict(columnnames=['a', 'b', 'c'],\n",
    "                      rownames=['a', 'b', 'c'],\n",
    "                      colormap='Electric',) )"
   ]
  },
  {
   "cell_type": "code",
   "execution_count": 33,
   "metadata": {
    "ExecuteTime": {
     "end_time": "2018-11-30T03:08:15.916498Z",
     "start_time": "2018-11-30T03:08:15.889497Z"
    }
   },
   "outputs": [
    {
     "data": {
      "text/plain": [
       "'window_36d67b1aaa2484'"
      ]
     },
     "execution_count": 33,
     "metadata": {},
     "output_type": "execute_result"
    }
   ],
   "source": [
    "vis.heatmap(\n",
    "        X=np.flipud(confusion_matrix.value()),  # Flip the matrix \n",
    "        opts=dict(\n",
    "            columnnames=['a', 'b', 'c'],\n",
    "            rownames=['c', 'b', 'a'],    # change the order of labels\n",
    "            colormap='Electric',))"
   ]
  },
  {
   "cell_type": "markdown",
   "metadata": {},
   "source": [
    "## vis.bar 条形图\n",
    "这个函数可以画 正常的，堆起来的，或分组的的条形图。 \n",
    "输入参数：\n",
    "\n",
    "X(tensor):形状 N 或 N×M，指定每个条的高度。如果X有M列，那么每行的值可以看作一组或者把他们值堆起来（取决与options.stacked是否为True）。\n",
    "Y(tensor, optional):形状 N，指定对应的x轴的值。\n",
    "支持以下特定选项：\n",
    "\n",
    "options.columnnames: table containing x-axis labels\n",
    "options.stacked : stack multiple columns in X\n",
    "options.legend : table containing legend labels"
   ]
  },
  {
   "cell_type": "code",
   "execution_count": 57,
   "metadata": {
    "ExecuteTime": {
     "end_time": "2018-11-30T03:44:22.645428Z",
     "start_time": "2018-11-30T03:44:22.603426Z"
    }
   },
   "outputs": [
    {
     "data": {
      "text/plain": [
       "'window_36d6802623599a'"
      ]
     },
     "execution_count": 57,
     "metadata": {},
     "output_type": "execute_result"
    }
   ],
   "source": [
    "vis.bar(X=np.random.rand(20))\n",
    "\n",
    "vis.bar(X=np.abs(np.random.rand(5, 3)), \n",
    "        opts=dict(stacked=True,\n",
    "                  legend=['Facebook', 'Google', 'Twitter'],\n",
    "                  rownames=['2012', '2013', '2014', '2015', '2016']    ))\n",
    "\n",
    "vis.bar(X=np.random.rand(20, 3),\n",
    "        opts=dict(stacked=False,\n",
    "                  legend=['The Netherlands', 'France', 'United States']    ))"
   ]
  },
  {
   "cell_type": "markdown",
   "metadata": {},
   "source": [
    "## vis.histogram 直方图\n",
    "这个函数用来画指定数据的直方图。他需要输入长度为 N 的 tensor X。X保存了构建直方图的值。\n",
    "\n",
    "支持下面特定选项：\n",
    "\n",
    "options.numbins: bins的个数 (number; default = 30)"
   ]
  },
  {
   "cell_type": "code",
   "execution_count": null,
   "metadata": {
    "collapsed": true
   },
   "outputs": [],
   "source": []
  },
  {
   "cell_type": "markdown",
   "metadata": {},
   "source": [
    "## vis.boxplot 箱型图\n",
    "X(tensor): 形状 N或N×M，指定做第m个箱型图的N个值。\n",
    "    \n",
    "支持以下特定选项：\n",
    "options.legend: labels for each of the columns in X"
   ]
  },
  {
   "cell_type": "code",
   "execution_count": null,
   "metadata": {
    "collapsed": true
   },
   "outputs": [],
   "source": []
  },
  {
   "cell_type": "markdown",
   "metadata": {},
   "source": [
    "## vis.surf 表面图： \n",
    "- X(tensor):形状 N×M，指定表面图上位置的值.\n",
    "> - 支持以下特定选项：\n",
    "  - options.colormap: colormap (string; default = 'Viridis')\n",
    "  - options.xmin : clip minimum value (number; default = X:min())\n",
    "  - options.xmax : clip maximum value (number; default = X:max())"
   ]
  },
  {
   "cell_type": "code",
   "execution_count": 70,
   "metadata": {
    "ExecuteTime": {
     "end_time": "2018-11-30T04:02:38.764122Z",
     "start_time": "2018-11-30T04:02:38.751122Z"
    }
   },
   "outputs": [],
   "source": [
    "# vis.surf(X=X, opts=dict(colormap='Hot'))"
   ]
  },
  {
   "cell_type": "markdown",
   "metadata": {},
   "source": [
    "## vis.contour 轮廓图。\n",
    "- X(tensor)：形状 N×M，指定了轮廓图中的值\n",
    "> - 支持以下特定选项：\n",
    "   - options.colormap: colormap (string; default = 'Viridis')\n",
    "   - options.xmin : clip minimum value (number; default = X:min())\n",
    "   - options.xmax : clip maximum value (number; default = X:max())"
   ]
  },
  {
   "cell_type": "code",
   "execution_count": 71,
   "metadata": {
    "ExecuteTime": {
     "end_time": "2018-11-30T04:02:45.182490Z",
     "start_time": "2018-11-30T04:02:45.165489Z"
    }
   },
   "outputs": [],
   "source": [
    "# x = np.tile(np.arange(1, 101), (100, 1))\n",
    "# y = x.transpose()\n",
    "# X = np.exp((((x - 50) ** 2)   ((y - 50) ** 2)) / -(20.0 ** 2))\n",
    "# vis.contour(X=X, \n",
    "#             opts=dict(colormap='Viridis'))"
   ]
  },
  {
   "cell_type": "markdown",
   "metadata": {},
   "source": [
    "## vis.quiver 二维矢量场图。\n",
    "\n",
    "输入：\n",
    "\n",
    "X(tensor): 形状 N*M\n",
    "Y(tensor):形状 N*M\n",
    "gridX(tensor, optional):形状 N*M\n",
    "gradY(tensor, optional): 形状 N*M \n",
    "X 与 Y决定了 箭头的长度和方向。可选的gridX和gridY指定了偏移。\n",
    "\n",
    "支持下列特定选项：\n",
    "\n",
    "options.normalize: 最长肩头的长度 (number)\n",
    "options.arrowheads: 是否现实箭头 (boolean; default = true)"
   ]
  },
  {
   "cell_type": "code",
   "execution_count": null,
   "metadata": {
    "collapsed": true
   },
   "outputs": [],
   "source": []
  },
  {
   "cell_type": "markdown",
   "metadata": {},
   "source": [
    "## vis.image 图片 \n",
    "- img(tensor): 包含图像的CxHxW张量作为输入img。\n",
    "\n",
    "> - 支持下面特定选项:\n",
    "  - opts.jpgquality：JPG质量（number0-100;默认= 100）\n",
    "  - opts.caption：图像的标题"
   ]
  },
  {
   "cell_type": "code",
   "execution_count": 20,
   "metadata": {
    "ExecuteTime": {
     "end_time": "2018-11-30T02:54:30.017260Z",
     "start_time": "2018-11-30T02:54:29.332220Z"
    }
   },
   "outputs": [
    {
     "data": {
      "text/plain": [
       "'IMG'"
      ]
     },
     "execution_count": 20,
     "metadata": {},
     "output_type": "execute_result"
    }
   ],
   "source": [
    "img = np.random.rand(3, 512, 256)\n",
    "vis.images(img,  win=\"IMG\", opts=dict(title=\"IMAGE\"))"
   ]
  },
  {
   "cell_type": "markdown",
   "metadata": {},
   "source": [
    "## vis.images 列表images\n",
    "- 输入B x C x H x W张量或list of images全部相同的大小\n",
    "- 它使大小的图像（B / Nrow，Nrow）的网格。\n",
    "\n",
    "> - 以下参数和opts支持：\n",
    "  - nrow：连续的图像数量\n",
    "  - padding：在图像周围填充，四边均匀填充\n",
    "  - opts.jpgquality：JPG质量（number0-100;默认= 100）\n",
    "  - opts.caption：图像的标题"
   ]
  },
  {
   "cell_type": "code",
   "execution_count": 21,
   "metadata": {
    "ExecuteTime": {
     "end_time": "2018-11-30T02:55:35.635013Z",
     "start_time": "2018-11-30T02:55:35.575009Z"
    }
   },
   "outputs": [
    {
     "data": {
      "text/plain": [
       "'window_36d679557f7a9a'"
      ]
     },
     "execution_count": 21,
     "metadata": {},
     "output_type": "execute_result"
    }
   ],
   "source": [
    "imgs =  np.random.random((4, 3, 128, 128))*255\n",
    "vis.images(imgs,opts=dict(title='Random Images', caption='How random.'))"
   ]
  },
  {
   "cell_type": "markdown",
   "metadata": {},
   "source": [
    "## vis.video 播放一个 video\n",
    "- 输入视频的文件名videofile或一个LxCxHxW尺度的tensor（在Lua）或或LxHxWxC尺度的tensor包含视频作为输入的所有帧（在Python）。\n",
    "- 该功能不支持任何情节特定opts。\n",
    "\n",
    "> - 以下opts是支持的：\n",
    "  - opts.fps：视频的FPS（integer>0;默认= 25）\n",
    "- 注意:使用tensor作为输入的时候，需要安装ffmpeg。 \n",
    "- 能不能播放video取决你使用的浏览器：浏览器必须要支持Theano codec in an OGG container。（chrome可以用）。"
   ]
  },
  {
   "cell_type": "code",
   "execution_count": 72,
   "metadata": {
    "ExecuteTime": {
     "end_time": "2018-11-30T04:02:53.814983Z",
     "start_time": "2018-11-30T04:02:53.800983Z"
    }
   },
   "outputs": [],
   "source": [
    "# try:\n",
    "#     # video demo: download video from http://media.w3.org/2010/05/sintel/trailer.ogv\n",
    "#     video_url = 'http://media.w3.org/2010/05/sintel/trailer.ogv'\n",
    "#     # linux\n",
    "#     if _platform == \"linux\" or _platform == \"linux2\":\n",
    "#         videofile = '/home/%s/trailer.ogv' % getpass.getuser()\n",
    "#     # MAC OS X\n",
    "#     elif _platform == \"darwin\":\n",
    "#         videofile = '/Users/%s/trailer.ogv' % getpass.getuser()\n",
    "#     # download video\n",
    "#     urllib.request.urlretrieve(video_url, videofile)\n",
    " \n",
    "#     if os.path.isfile(videofile):\n",
    "#         vis.video(videofile=videofile)\n",
    "# except ImportError:\n",
    "#     print('Skipped video example')"
   ]
  },
  {
   "cell_type": "markdown",
   "metadata": {},
   "source": [
    "## vis.svg SVG对象\n",
    "- 输入是一个SVG字符串或 一个SVG文件的名称。\n",
    "- 该功能不支持任何特定的功能 "
   ]
  },
  {
   "cell_type": "code",
   "execution_count": null,
   "metadata": {
    "collapsed": true
   },
   "outputs": [],
   "source": []
  },
  {
   "cell_type": "markdown",
   "metadata": {},
   "source": [
    "## vis.text 在文本框中打印文本\n",
    "- 输入一个text字符串\n",
    "- 嵌入任意的HTML\n",
    "- 目前不支持特定的options"
   ]
  },
  {
   "cell_type": "code",
   "execution_count": null,
   "metadata": {
    "collapsed": true
   },
   "outputs": [],
   "source": [
    "vis.text('Hello, world!')"
   ]
  },
  {
   "cell_type": "markdown",
   "metadata": {},
   "source": [
    "## vis.mesh 网格图\n",
    "- X(tensor): shape(N*2或N*3) 定义N个顶点\n",
    "- Y(tensor， optional)：shape(M*2或M×3) 定义多边形\n",
    "\n",
    "> - 支持下列特定选项:\n",
    "  - options.color: color (string)\n",
    "  - options.opacity: 多边形的不透明性 (number between 0 and 1)"
   ]
  },
  {
   "cell_type": "code",
   "execution_count": 35,
   "metadata": {
    "ExecuteTime": {
     "end_time": "2018-11-30T03:14:06.443547Z",
     "start_time": "2018-11-30T03:14:06.412545Z"
    }
   },
   "outputs": [
    {
     "data": {
      "text/plain": [
       "'window_36d67beb98a180'"
      ]
     },
     "execution_count": 35,
     "metadata": {},
     "output_type": "execute_result"
    }
   ],
   "source": []
  },
  {
   "cell_type": "markdown",
   "metadata": {},
   "source": [
    "## vis.matplot  matplotlib plot\n",
    "- The function supports one plot-specific option: resizable.\n",
    "\n",
    "> - Note When set to True the plot is resized with the pane. You need beautifulsoup4 and lxml packages installed to use this option.\n",
    "> - Note: matplot is not rendered using the same backend as plotly plots, and is somewhat less efficient. Using too many matplot windows may degrade visdom performance."
   ]
  },
  {
   "cell_type": "code",
   "execution_count": 22,
   "metadata": {
    "ExecuteTime": {
     "end_time": "2018-11-30T02:56:38.561612Z",
     "start_time": "2018-11-30T02:56:37.532553Z"
    }
   },
   "outputs": [
    {
     "data": {
      "text/plain": [
       "'window_36d6797b028966'"
      ]
     },
     "execution_count": 22,
     "metadata": {},
     "output_type": "execute_result"
    }
   ],
   "source": [
    "import matplotlib.pyplot as plt\n",
    "\n",
    "plt.plot([1, 7, 2, 4])\n",
    "plt.title(\"Line\")\n",
    "plt.ylabel('some numbers')\n",
    "vis.matplot(plt)"
   ]
  },
  {
   "cell_type": "markdown",
   "metadata": {},
   "source": [
    "## vis.pie 饼图"
   ]
  },
  {
   "cell_type": "code",
   "execution_count": 24,
   "metadata": {
    "ExecuteTime": {
     "end_time": "2018-11-30T03:00:27.004678Z",
     "start_time": "2018-11-30T03:00:26.927674Z"
    }
   },
   "outputs": [
    {
     "data": {
      "text/plain": [
       "'window_36d67a032c7ccc'"
      ]
     },
     "execution_count": 24,
     "metadata": {},
     "output_type": "execute_result"
    }
   ],
   "source": [
    " # pie chart\n",
    "X = np.asarray([10, 22, 13, 52])\n",
    "vis.pie(X=X, opts=dict(legend=['A','B','C','D']))"
   ]
  },
  {
   "cell_type": "code",
   "execution_count": null,
   "metadata": {
    "collapsed": true
   },
   "outputs": [],
   "source": []
  }
 ],
 "metadata": {
  "kernelspec": {
   "display_name": "Python 3",
   "language": "python",
   "name": "python3"
  },
  "language_info": {
   "codemirror_mode": {
    "name": "ipython",
    "version": 3
   },
   "file_extension": ".py",
   "mimetype": "text/x-python",
   "name": "python",
   "nbconvert_exporter": "python",
   "pygments_lexer": "ipython3",
   "version": "3.6.3"
  },
  "toc": {
   "nav_menu": {},
   "number_sections": true,
   "sideBar": true,
   "skip_h1_title": false,
   "title_cell": "Table of Contents",
   "title_sidebar": "Contents",
   "toc_cell": false,
   "toc_position": {
    "height": "calc(100% - 180px)",
    "left": "10px",
    "top": "150px",
    "width": "384px"
   },
   "toc_section_display": true,
   "toc_window_display": true
  },
  "varInspector": {
   "cols": {
    "lenName": 16,
    "lenType": 16,
    "lenVar": 40
   },
   "kernels_config": {
    "python": {
     "delete_cmd_postfix": "",
     "delete_cmd_prefix": "del ",
     "library": "var_list.py",
     "varRefreshCmd": "print(var_dic_list())"
    },
    "r": {
     "delete_cmd_postfix": ") ",
     "delete_cmd_prefix": "rm(",
     "library": "var_list.r",
     "varRefreshCmd": "cat(var_dic_list()) "
    }
   },
   "types_to_exclude": [
    "module",
    "function",
    "builtin_function_or_method",
    "instance",
    "_Feature"
   ],
   "window_display": false
  }
 },
 "nbformat": 4,
 "nbformat_minor": 2
}
