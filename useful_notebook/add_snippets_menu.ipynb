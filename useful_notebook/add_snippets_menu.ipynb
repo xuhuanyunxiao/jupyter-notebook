{
 "cells": [
  {
   "cell_type": "markdown",
   "metadata": {},
   "source": [
    "# 读取文件"
   ]
  },
  {
   "cell_type": "code",
   "execution_count": 6,
   "metadata": {
    "ExecuteTime": {
     "end_time": "2018-12-26T07:26:17.441119Z",
     "start_time": "2018-12-26T07:26:17.076098Z"
    }
   },
   "outputs": [
    {
     "name": "stdout",
     "output_type": "stream",
     "text": [
      "C:\\Users\\Administrator\\AppData\\Roaming\\jupyter\n",
      "path_win:  C:\\Users\\Administrator\\AppData\\Roaming\\jupyter\\nbextensions\\snippets\\snippets.json\n"
     ]
    },
    {
     "data": {
      "text/plain": [
       "'C:\\\\Users\\\\Administrator\\\\AppData\\\\Roaming\\\\jupyter\\\\nbextensions\\\\snippets\\\\snippets.json'"
      ]
     },
     "execution_count": 6,
     "metadata": {},
     "output_type": "execute_result"
    }
   ],
   "source": [
    "import json\n",
    "import os\n",
    "\n",
    "path = get_ipython().getoutput('jupyter --data-dir')\n",
    "print(path[0])\n",
    "path = \"\".join([path[0],r\"/nbextensions/snippets/snippets.json\"])\n",
    "path = os.path.normpath(path)\n",
    "path_win = path.replace('\\\\\\\\', '\\\\')\n",
    "print('path_win: ', path_win)\n",
    "path"
   ]
  },
  {
   "cell_type": "markdown",
   "metadata": {},
   "source": [
    "# 查看已有的snips"
   ]
  },
  {
   "cell_type": "code",
   "execution_count": 7,
   "metadata": {
    "ExecuteTime": {
     "end_time": "2018-12-26T07:26:18.439176Z",
     "start_time": "2018-12-26T07:26:18.413174Z"
    }
   },
   "outputs": [
    {
     "name": "stdout",
     "output_type": "stream",
     "text": [
      "原来的snips:\n"
     ]
    },
    {
     "data": {
      "text/plain": [
       "{'snippets': [{'code': ['# This is an example snippet!',\n",
       "    '# To create your own, add a new snippet block to the',\n",
       "    '# snippets.json file in your jupyter data directory under nbextensions:',\n",
       "    '# $(jupyter --data-dir)/nbextensions/snippets/snippets.json',\n",
       "    'import this'],\n",
       "   'name': 'example'},\n",
       "  {'code': ['import numpy as np',\n",
       "    'import pandas as pd',\n",
       "    'import matplotlib.pyplot as plt',\n",
       "    'import matplotlib as mpl',\n",
       "    'import seaborn as sns',\n",
       "    '%matplotlib inline',\n",
       "    'import warnings',\n",
       "    \"warnings.filterwarnings('ignore')\",\n",
       "    '%load_ext autoreload',\n",
       "    '%autoreload 2'],\n",
       "   'name': 'usually'},\n",
       "  {'code': ['import os',\n",
       "    'import sys',\n",
       "    'import re',\n",
       "    'import datetime',\n",
       "    'import time'],\n",
       "   'name': 'os_time'},\n",
       "  {'code': ['from sklearn.externals import joblib',\n",
       "    'from sklearn.model_selection import train_test_split',\n",
       "    'from sklearn import metrics',\n",
       "    'from sklearn.pipeline import Pipeline,FeatureUnion',\n",
       "    'from sklearn.feature_selection import SelectKBest, chi2',\n",
       "    'from sklearn.feature_extraction.text import TfidfVectorizer',\n",
       "    'from sklearn.feature_extraction.text import CountVectorizer',\n",
       "    'from sklearn.feature_extraction.text import TfidfTransformer',\n",
       "    'from xgboost import XGBClassifier',\n",
       "    'from jieba import analyse',\n",
       "    'import jieba'],\n",
       "   'name': 'sklearn'},\n",
       "  {'code': ['import torch as t',\n",
       "    'import torch.nn as nn',\n",
       "    'import torch.nn.functional as F',\n",
       "    'from torch import optim',\n",
       "    'import visdom',\n",
       "    '# vis = visdom.Visdom()',\n",
       "    'assert vis.check_connection()'],\n",
       "   'name': 'pytorch'},\n",
       "  {'code': ['from toolkits.setup import specific_func',\n",
       "    'specific_func.set_ch_pd()',\n",
       "    'from toolkits.setup.date_time import get_day_list',\n",
       "    'from toolkits.nlp import pre_cor_circ',\n",
       "    'from toolkits.nlp import pre_cor_cbrc',\n",
       "    'from toolkits.nlp import myclass_circ',\n",
       "    'from toolkits.nlp import myclass_cbrc'],\n",
       "   'name': 'toolkits'}]}"
      ]
     },
     "execution_count": 7,
     "metadata": {},
     "output_type": "execute_result"
    }
   ],
   "source": [
    "file = open(path,\"r\",encoding=\"utf-8\")\n",
    "snips = json.load(file)\n",
    "print(\"原来的snips:\")\n",
    "snips"
   ]
  },
  {
   "cell_type": "markdown",
   "metadata": {},
   "source": [
    "# 自定义 snips"
   ]
  },
  {
   "cell_type": "code",
   "execution_count": 8,
   "metadata": {
    "ExecuteTime": {
     "end_time": "2018-12-26T07:26:19.863257Z",
     "start_time": "2018-12-26T07:26:19.827255Z"
    },
    "collapsed": true
   },
   "outputs": [],
   "source": [
    "snips = {\n",
    "    \"snippets\" : [{\n",
    "            \"name\" : \"usually\",\n",
    "            \"code\" : [\n",
    "                \"import numpy as np\",\n",
    "                \"import pandas as pd\",\n",
    "                \"import matplotlib.pyplot as plt\",\n",
    "                \"import matplotlib as mpl\",\n",
    "                \"import seaborn as sns\",\n",
    "                \"%matplotlib inline\",\n",
    "                \"import warnings\",\n",
    "                \"warnings.filterwarnings('ignore')\",\n",
    "                \"%load_ext autoreload\",\n",
    "                \"%autoreload 2\"\n",
    "            ]\n",
    "        },\n",
    "        {\n",
    "            \"name\" : \"os_time\",\n",
    "            \"code\" : [\n",
    "                \"import os\",\n",
    "                \"import sys\",\n",
    "                \"import re\",\n",
    "                \"import datetime\",\n",
    "                \"import time\",\n",
    "            ]\n",
    "        },\n",
    "        {\n",
    "            \"name\" : \"sklearn\",\n",
    "            \"code\" : [\n",
    "                \"from sklearn.externals import joblib\",\n",
    "                \"from sklearn.model_selection import train_test_split\",\n",
    "                \"from sklearn import metrics\",\n",
    "                \"from sklearn.pipeline import Pipeline,FeatureUnion\",\n",
    "                \"from sklearn.feature_selection import SelectKBest, chi2\",\n",
    "                \"from sklearn.feature_extraction.text import TfidfVectorizer\",\n",
    "                \"from sklearn.feature_extraction.text import CountVectorizer\",\n",
    "                \"from sklearn.feature_extraction.text import TfidfTransformer\",\n",
    "                \"from xgboost import XGBClassifier\",\n",
    "                \"from jieba import analyse\",\n",
    "                \"import jieba\"\n",
    "            ]\n",
    "        },\n",
    "        {\n",
    "            \"name\" : \"pytorch\",\n",
    "            \"code\" : [\n",
    "                \"import torch as t\",\n",
    "                \"import torch.nn as nn\",\n",
    "                \"import torch.nn.functional as F\",\n",
    "                \"from torch import optim\",\n",
    "                \"import visdom\",\n",
    "                \"# vis = visdom.Visdom()\",\n",
    "                \"assert vis.check_connection()\"\n",
    "            ]\n",
    "        },\n",
    "        {\n",
    "            \"name\" : \"toolkits\",\n",
    "            \"code\" : [\n",
    "                \"from toolkits.setup import specific_func\",\n",
    "                \"specific_func.set_ch_pd()\",\n",
    "                \"from toolkits.setup.date_time import get_day_list\",\n",
    "                \"from toolkits.nlp import pre_cor_circ\",\n",
    "                \"from toolkits.nlp import pre_cor_cbrc\",\n",
    "                \"from toolkits.nlp import myclass_circ\",\n",
    "                \"from toolkits.nlp import myclass_cbrc\"\n",
    "            ]\n",
    "        }                \n",
    "    ]\n",
    "}\n"
   ]
  },
  {
   "cell_type": "markdown",
   "metadata": {
    "collapsed": true
   },
   "source": [
    "# 写入snips"
   ]
  },
  {
   "cell_type": "code",
   "execution_count": null,
   "metadata": {
    "collapsed": true
   },
   "outputs": [],
   "source": [
    "model = snips #数据\n",
    "with open(path,'w',encoding='utf-8') as json_file:\n",
    "         json.dump(model,json_file,ensure_ascii=False)"
   ]
  }
 ],
 "metadata": {
  "kernelspec": {
   "display_name": "Python 3",
   "language": "python",
   "name": "python3"
  },
  "language_info": {
   "codemirror_mode": {
    "name": "ipython",
    "version": 3
   },
   "file_extension": ".py",
   "mimetype": "text/x-python",
   "name": "python",
   "nbconvert_exporter": "python",
   "pygments_lexer": "ipython3",
   "version": "3.6.3"
  },
  "toc": {
   "nav_menu": {},
   "number_sections": true,
   "sideBar": true,
   "skip_h1_title": false,
   "title_cell": "Table of Contents",
   "title_sidebar": "Contents",
   "toc_cell": false,
   "toc_position": {},
   "toc_section_display": true,
   "toc_window_display": true
  },
  "varInspector": {
   "cols": {
    "lenName": 16,
    "lenType": 16,
    "lenVar": 40
   },
   "kernels_config": {
    "python": {
     "delete_cmd_postfix": "",
     "delete_cmd_prefix": "del ",
     "library": "var_list.py",
     "varRefreshCmd": "print(var_dic_list())"
    },
    "r": {
     "delete_cmd_postfix": ") ",
     "delete_cmd_prefix": "rm(",
     "library": "var_list.r",
     "varRefreshCmd": "cat(var_dic_list()) "
    }
   },
   "types_to_exclude": [
    "module",
    "function",
    "builtin_function_or_method",
    "instance",
    "_Feature"
   ],
   "window_display": false
  }
 },
 "nbformat": 4,
 "nbformat_minor": 2
}
