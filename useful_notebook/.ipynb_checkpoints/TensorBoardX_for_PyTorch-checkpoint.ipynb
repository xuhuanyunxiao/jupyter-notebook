{
 "cells": [
  {
   "cell_type": "markdown",
   "metadata": {},
   "source": [
    "- 用tensorboard/tensorboardX可视化pytorch结果"
   ]
  },
  {
   "cell_type": "markdown",
   "metadata": {},
   "source": [
    "# TensorboardX 介绍"
   ]
  },
  {
   "cell_type": "markdown",
   "metadata": {},
   "source": [
    "## 安装与启动"
   ]
  },
  {
   "cell_type": "markdown",
   "metadata": {},
   "source": [
    "- 安装\n",
    "> - pip install tensorboard\n",
    "> - pip install tensorboardX\n",
    "\n",
    "- 启动\n",
    "> - tensorboard --logdir=tensorboard_log -host=127.0.0.1\n",
    "> - http://127.0.0.1:6006"
   ]
  },
  {
   "cell_type": "markdown",
   "metadata": {},
   "source": [
    "- -host=127.0.0.1是我自己添加的，不加的话也可以。但我自己电脑不加的话显示不出\n",
    "- tensorboard要更新到最新版本，不然有些功能没有\n",
    "- 数据量大的时候耐心等一等，可能要读取一会才出现"
   ]
  },
  {
   "cell_type": "markdown",
   "metadata": {},
   "source": [
    "# TensorboardX 实例"
   ]
  },
  {
   "cell_type": "markdown",
   "metadata": {},
   "source": [
    "## demo"
   ]
  },
  {
   "cell_type": "code",
   "execution_count": 1,
   "metadata": {
    "ExecuteTime": {
     "end_time": "2018-12-05T09:05:31.765223Z",
     "start_time": "2018-12-05T09:04:32.422829Z"
    }
   },
   "outputs": [
    {
     "name": "stdout",
     "output_type": "stream",
     "text": [
      "Downloading http://yann.lecun.com/exdb/mnist/train-images-idx3-ubyte.gz\n",
      "Downloading http://yann.lecun.com/exdb/mnist/train-labels-idx1-ubyte.gz\n",
      "Downloading http://yann.lecun.com/exdb/mnist/t10k-images-idx3-ubyte.gz\n",
      "Downloading http://yann.lecun.com/exdb/mnist/t10k-labels-idx1-ubyte.gz\n",
      "Processing...\n",
      "Done!\n"
     ]
    }
   ],
   "source": [
    "import torch\n",
    "import torchvision.utils as vutils\n",
    "import numpy as np\n",
    "import torchvision.models as models\n",
    "from torchvision import datasets\n",
    "from tensorboardX import SummaryWriter\n",
    "\n",
    "resnet18 = models.resnet18(False)\n",
    "writer = SummaryWriter(log_dir='tensorboard_log/demo', comment='demo')\n",
    "sample_rate = 44100\n",
    "freqs = [262, 294, 330, 349, 392, 440, 440, 440, 440, 440, 440]\n",
    "\n",
    "for n_iter in range(100):\n",
    "\n",
    "    dummy_s1 = torch.rand(1)\n",
    "    dummy_s2 = torch.rand(1)\n",
    "    # data grouping by `slash`\n",
    "    writer.add_scalar('data/scalar1', dummy_s1[0], n_iter)\n",
    "    writer.add_scalar('data/scalar2', dummy_s2[0], n_iter)\n",
    "\n",
    "    writer.add_scalars('data/scalar_group', {'xsinx': n_iter * np.sin(n_iter),\n",
    "                                             'xcosx': n_iter * np.cos(n_iter),\n",
    "                                             'arctanx': np.arctan(n_iter)}, n_iter)\n",
    "\n",
    "    dummy_img = torch.rand(32, 3, 64, 64)  # output from network\n",
    "    if n_iter % 10 == 0:\n",
    "        x = vutils.make_grid(dummy_img, normalize=True, scale_each=True)\n",
    "        writer.add_image('Image', x, n_iter)\n",
    "\n",
    "        dummy_audio = torch.zeros(sample_rate * 2)\n",
    "        for i in range(x.size(0)):\n",
    "            # amplitude of sound should in [-1, 1]\n",
    "            dummy_audio[i] = np.cos(freqs[n_iter // 10] * np.pi * float(i) / float(sample_rate))\n",
    "        writer.add_audio('myAudio', dummy_audio, n_iter, sample_rate=sample_rate)\n",
    "\n",
    "        writer.add_text('Text', 'text logged at step:' + str(n_iter), n_iter)\n",
    "\n",
    "        for name, param in resnet18.named_parameters():\n",
    "            writer.add_histogram(name, param.clone().cpu().data.numpy(), n_iter)\n",
    "\n",
    "        # needs tensorboard 0.4RC or later\n",
    "        writer.add_pr_curve('xoxo', np.random.randint(2, size=100), np.random.rand(100), n_iter)\n",
    "\n",
    "dataset = datasets.MNIST('mnist', train=False, download=True)\n",
    "images = dataset.test_data[:100].float()\n",
    "label = dataset.test_labels[:100]\n",
    "\n",
    "features = images.view(100, 784)\n",
    "writer.add_embedding(features, metadata=label, label_img=images.unsqueeze(1))\n",
    "\n",
    "# export scalar data to JSON for external processing\n",
    "writer.export_scalars_to_json(\"./all_scalars.json\")\n",
    "writer.close()"
   ]
  },
  {
   "cell_type": "markdown",
   "metadata": {},
   "source": [
    "## 线性拟合的训练过程中的loss可视化和模型的保存"
   ]
  },
  {
   "cell_type": "code",
   "execution_count": 11,
   "metadata": {
    "ExecuteTime": {
     "end_time": "2018-12-05T08:20:13.614754Z",
     "start_time": "2018-12-05T08:20:13.238733Z"
    }
   },
   "outputs": [
    {
     "name": "stdout",
     "output_type": "stream",
     "text": [
      "Epoch 5/60,loss:0.1699\n",
      "Epoch 10/60,loss:0.1699\n",
      "Epoch 15/60,loss:0.1698\n",
      "Epoch 20/60,loss:0.1698\n",
      "Epoch 25/60,loss:0.1698\n",
      "Epoch 30/60,loss:0.1698\n",
      "Epoch 35/60,loss:0.1698\n",
      "Epoch 40/60,loss:0.1697\n",
      "Epoch 45/60,loss:0.1697\n",
      "Epoch 50/60,loss:0.1697\n",
      "Epoch 55/60,loss:0.1697\n",
      "Epoch 60/60,loss:0.1697\n"
     ]
    },
    {
     "data": {
      "image/png": "[encoded data removed]",
      "text/plain": [
       "<matplotlib.figure.Figure at 0xa292ba8>"
      ]
     },
     "metadata": {},
     "output_type": "display_data"
    }
   ],
   "source": [
    "import torch\n",
    "import torch.nn as nn\n",
    "from tensorboardX import SummaryWriter\n",
    "import matplotlib.pyplot as plt\n",
    "import numpy as np\n",
    "\n",
    "input_size = 1\n",
    "output_size = 1\n",
    "num_epoches = 60\n",
    "learning_rate = 0.01\n",
    "writer = SummaryWriter(log_dir='tensorboard_log/example', comment='Linear')\n",
    "x_train = np.array([[3.3], [4.4], [5.5], [6.71], [6.93], [4.168],\n",
    "                    [9.779], [6.182], [7.59], [2.167], [7.042],\n",
    "                    [10.791], [5.313], [7.997], [3.1]], dtype=np.float32)\n",
    "y_train = np.array([[1.7], [2.76], [2.09], [3.19], [1.694], [1.573],\n",
    "                    [3.366], [2.596], [2.53], [1.221], [2.827],\n",
    "                    [3.465], [1.65], [2.904], [1.3]], dtype=np.float32)\n",
    "\n",
    "model = nn.Linear(input_size, output_size)\n",
    "\n",
    "criterion = nn.MSELoss()\n",
    "optimizer = torch.optim.SGD(model.parameters(), lr=learning_rate)\n",
    "\n",
    "for epoch in range(num_epoches):\n",
    "    inputs = torch.from_numpy(x_train)\n",
    "    targets = torch.from_numpy(y_train)\n",
    "\n",
    "    output = model(inputs)\n",
    "    loss = criterion(output, targets)\n",
    "\n",
    "    optimizer.zero_grad()\n",
    "    loss.backward()\n",
    "    optimizer.step()\n",
    "    # 保存loss的数据与epoch数值\n",
    "    writer.add_scalar('Train', loss, epoch)\n",
    "    if (epoch + 1) % 5 == 0:\n",
    "        print('Epoch {}/{},loss:{:.4f}'.format(epoch + 1, num_epoches, loss.item()))\n",
    "\n",
    "# 将model保存为graph\n",
    "writer.add_graph(model, (inputs,))\n",
    "\n",
    "predicted = model(torch.from_numpy(x_train)).detach().numpy()\n",
    "plt.plot(x_train, y_train, 'ro', label='Original data')\n",
    "plt.plot(x_train, predicted, label='Fitted line')\n",
    "plt.legend()\n",
    "plt.show()\n",
    "writer.close()"
   ]
  },
  {
   "cell_type": "markdown",
   "metadata": {},
   "source": [
    "# TensorboardX 可视化方式"
   ]
  },
  {
   "cell_type": "markdown",
   "metadata": {},
   "source": [
    "## scalar 变量\n",
    "- SummaryWriter: log_dir为生成的文件所放的目录，comment为文件名称\n",
    "- writer.add_scalar('scalar/test', np.random.rand(), epoch)，这句代码的作用就是，将我们所需要的数据保存在文件里面供可视化使用。 \n",
    "- 这里是Scalar类型，所以使用writer.add_scalar()，其他的队形使用对应的函数。\n",
    "    - 第一个参数可以简单理解为保存图的名称，\n",
    "    - 第二个参数是可以理解为Y轴数据，\n",
    "    - 第三个参数可以理解为X轴数据。\n",
    "    - 当Y轴数据不止一个时，可以使用writer.add_scalars()."
   ]
  },
  {
   "cell_type": "code",
   "execution_count": 10,
   "metadata": {
    "ExecuteTime": {
     "end_time": "2018-12-05T08:19:58.370882Z",
     "start_time": "2018-12-05T08:19:58.249875Z"
    },
    "collapsed": true
   },
   "outputs": [],
   "source": [
    "import numpy as np\n",
    "from tensorboardX import SummaryWriter\n",
    "\n",
    "writer = SummaryWriter(log_dir='tensorboard_log/scalar')\n",
    "for epoch in range(100):\n",
    "    writer.add_scalar('test', np.random.rand(), epoch)\n",
    "    writer.add_scalars('scalars_test', \n",
    "                       {'xsinx': epoch * np.sin(epoch), \n",
    "                        'xcosx': epoch * np.cos(epoch)}, epoch)\n",
    "\n",
    "writer.close()"
   ]
  },
  {
   "cell_type": "markdown",
   "metadata": {
    "collapsed": true
   },
   "source": [
    "## Graph 神经网络架构\n",
    "- 因为这是一个神经网络架构，所以使用 w.add_graph(model, (dummy_input,))\n",
    "    - 第一个参数为需要保存的模型，\n",
    "    - 第二个参数为输入值，元祖类型。"
   ]
  },
  {
   "cell_type": "code",
   "execution_count": 9,
   "metadata": {
    "ExecuteTime": {
     "end_time": "2018-12-05T08:19:31.201328Z",
     "start_time": "2018-12-05T08:19:31.059320Z"
    },
    "collapsed": true
   },
   "outputs": [],
   "source": [
    "import torch\n",
    "import torch.nn as nn\n",
    "import torch.nn.functional as F\n",
    "from tensorboardX import SummaryWriter\n",
    "\n",
    "\n",
    "class Net1(nn.Module):\n",
    "    def __init__(self):\n",
    "        super(Net1, self).__init__()\n",
    "        self.conv1 = nn.Conv2d(1, 10, kernel_size=5)\n",
    "        self.conv2 = nn.Conv2d(10, 20, kernel_size=5)\n",
    "        self.conv2_drop = nn.Dropout2d()\n",
    "        self.fc1 = nn.Linear(320, 50)\n",
    "        self.fc2 = nn.Linear(50, 10)\n",
    "        self.bn = nn.BatchNorm2d(20)\n",
    "\n",
    "    def forward(self, x):\n",
    "        x = F.max_pool2d(self.conv1(x), 2)\n",
    "        x = F.relu(x) + F.relu(-x)\n",
    "        x = F.relu(F.max_pool2d(self.conv2_drop(self.conv2(x)), 2))\n",
    "        x = self.bn(x)\n",
    "        x = x.view(-1, 320)\n",
    "        x = F.relu(self.fc1(x))\n",
    "        x = F.dropout(x, training=self.training)\n",
    "        x = self.fc2(x)\n",
    "        x = F.softmax(x, dim=1)\n",
    "        return x\n",
    "\n",
    "\n",
    "dummy_input = torch.rand(13, 1, 28, 28)\n",
    "\n",
    "model = Net1()\n",
    "# with 语句，可以避免因w.close未写造成的问题\n",
    "with SummaryWriter(log_dir='tensorboard_log/graph', comment='Net1') as w:\n",
    "    w.add_graph(model, (dummy_input,))"
   ]
  },
  {
   "cell_type": "markdown",
   "metadata": {
    "collapsed": true
   },
   "source": [
    "## embedding 降维"
   ]
  },
  {
   "cell_type": "code",
   "execution_count": 7,
   "metadata": {
    "ExecuteTime": {
     "end_time": "2018-12-05T08:18:41.570489Z",
     "start_time": "2018-12-05T08:18:36.852220Z"
    }
   },
   "outputs": [
    {
     "name": "stdout",
     "output_type": "stream",
     "text": [
      "loss_value:0.6920217871665955\n",
      "loss_value:0.8206109404563904\n",
      "loss_value:0.5653269290924072\n",
      "loss_value:0.3914765417575836\n",
      "loss_value:0.4490695893764496\n",
      "loss_value:0.3116423487663269\n",
      "loss_value:0.2449614703655243\n",
      "loss_value:0.16987621784210205\n",
      "loss_value:0.11793910712003708\n",
      "loss_value:0.09033066779375076\n",
      "loss_value:0.1099458634853363\n",
      "loss_value:0.06549552828073502\n",
      "loss_value:0.07312457263469696\n",
      "loss_value:0.02840356156229973\n",
      "loss_value:0.027275869622826576\n",
      "loss_value:0.014830809086561203\n",
      "loss_value:0.0212051123380661\n",
      "loss_value:0.015640197321772575\n",
      "loss_value:0.019302107393741608\n",
      "loss_value:0.0127271618694067\n",
      "loss_value:0.006987855304032564\n",
      "loss_value:0.009496339596807957\n",
      "loss_value:0.013434902764856815\n",
      "loss_value:0.008479253388941288\n",
      "loss_value:0.006454657297581434\n",
      "loss_value:0.005604037083685398\n",
      "loss_value:0.008889805525541306\n",
      "loss_value:0.006641479674726725\n",
      "loss_value:0.006279394030570984\n",
      "loss_value:0.00678213220089674\n",
      "loss_value:0.006556646898388863\n",
      "loss_value:0.002577589126303792\n",
      "loss_value:0.005362409166991711\n",
      "loss_value:0.004429006949067116\n",
      "loss_value:0.005015226546674967\n",
      "loss_value:0.00717742508277297\n",
      "loss_value:0.0034603315871208906\n",
      "loss_value:0.004064172971993685\n",
      "loss_value:0.0036517754197120667\n",
      "loss_value:0.0045912801288068295\n"
     ]
    }
   ],
   "source": [
    "import torch\n",
    "import torch.nn as nn\n",
    "import torch.nn.functional as F\n",
    "import os\n",
    "from torch.autograd.variable import Variable\n",
    "from tensorboardX import SummaryWriter\n",
    "from torch.utils.data import TensorDataset, DataLoader\n",
    "\n",
    "# EMBEDDING VISUALIZATION FOR A TWO-CLASSES PROBLEM\n",
    "\n",
    "# just a bunch of layers\n",
    "\n",
    "\n",
    "class M(nn.Module):\n",
    "    def __init__(self):\n",
    "        super(M, self).__init__()\n",
    "        self.cn1 = nn.Conv2d(in_channels=1, out_channels=64, kernel_size=3)\n",
    "        self.cn2 = nn.Conv2d(in_channels=64, out_channels=32, kernel_size=3)\n",
    "        self.fc1 = nn.Linear(in_features=128, out_features=2)\n",
    "\n",
    "    def forward(self, i):\n",
    "        i = self.cn1(i)\n",
    "        i = F.relu(i)\n",
    "        i = F.max_pool2d(i, 2)\n",
    "        i = self.cn2(i)\n",
    "        i = F.relu(i)\n",
    "        i = F.max_pool2d(i, 2)\n",
    "        i = i.view(len(i), -1)\n",
    "        i = self.fc1(i)\n",
    "        i = F.log_softmax(i, dim=1)\n",
    "        return i\n",
    "\n",
    "# get some random data around value\n",
    "\n",
    "\n",
    "def get_data(value, shape):\n",
    "    data = torch.ones(shape) * value\n",
    "    # add some noise\n",
    "    data += torch.randn(shape)**2\n",
    "    return data\n",
    "\n",
    "\n",
    "# dataset\n",
    "# cat some data with different values\n",
    "data = torch.cat(\n",
    "    (get_data(\n",
    "        0, (100, 1, 14, 14)), get_data(\n",
    "            0.5, (100, 1, 14, 14))), 0)\n",
    "# labels\n",
    "labels = torch.cat((torch.zeros(100), torch.ones(100)), 0)\n",
    "# generator\n",
    "gen = DataLoader(TensorDataset(data, labels), batch_size=25, shuffle=True)\n",
    "# network\n",
    "m = M()\n",
    "#loss and optim\n",
    "loss = nn.NLLLoss()\n",
    "optimizer = torch.optim.Adam(params=m.parameters())\n",
    "# settings for train and log\n",
    "num_epochs = 20\n",
    "embedding_log = 5\n",
    "writer = SummaryWriter(log_dir='tensorboard_log/embedding', comment='mnist_embedding_training')\n",
    "\n",
    "# TRAIN\n",
    "for epoch in range(num_epochs):\n",
    "    for j, sample in enumerate(gen):\n",
    "        n_iter = (epoch * len(gen)) + j\n",
    "        # reset grad\n",
    "        m.zero_grad()\n",
    "        optimizer.zero_grad()\n",
    "        # get batch data\n",
    "        data_batch = Variable(sample[0], requires_grad=True).float()\n",
    "        label_batch = Variable(sample[1], requires_grad=False).long()\n",
    "        # FORWARD\n",
    "        out = m(data_batch)\n",
    "        loss_value = loss(out, label_batch)\n",
    "        # BACKWARD\n",
    "        loss_value.backward()\n",
    "        optimizer.step()\n",
    "        # LOGGING\n",
    "        writer.add_scalar('loss', loss_value.data.item(), n_iter)\n",
    "\n",
    "        if j % embedding_log == 0:\n",
    "            print(\"loss_value:{}\".format(loss_value.data.item()))\n",
    "            # we need 3 dimension for tensor to visualize it!\n",
    "            out = torch.cat((out.data, torch.ones(len(out), 1)), 1)\n",
    "            writer.add_embedding(\n",
    "                out,\n",
    "                metadata=label_batch.data,\n",
    "                label_img=data_batch.data,\n",
    "                global_step=n_iter)\n",
    "\n",
    "writer.close()\n",
    "\n",
    "# tensorboard --logdir runs\n",
    "# you should now see a dropdown list with all the timestep,\n",
    "# last timestep should have a visible separation between the two classes"
   ]
  },
  {
   "cell_type": "markdown",
   "metadata": {
    "collapsed": true
   },
   "source": [
    "### multiple_embedding"
   ]
  },
  {
   "cell_type": "code",
   "execution_count": 8,
   "metadata": {
    "ExecuteTime": {
     "end_time": "2018-12-05T08:19:00.046546Z",
     "start_time": "2018-12-05T08:18:57.481399Z"
    },
    "collapsed": true
   },
   "outputs": [],
   "source": [
    "import math\n",
    "import numpy as np\n",
    "from tensorboardX import SummaryWriter\n",
    "\n",
    "\n",
    "def main():\n",
    "    degrees = np.linspace(0, 3600 * math.pi / 180.0, 3600)\n",
    "    degrees = degrees.reshape(3600, 1)\n",
    "    labels = [\"%d\" % (i) for i in range(0, 3600)]\n",
    "\n",
    "    with SummaryWriter(log_dir='tensorboard_log/multiple_embedding', comment='multiple_embedding') as writer:\n",
    "        # Maybe make a bunch of data that's always shifted in some\n",
    "        # way, and that will be hard for PCA to turn into a sphere?\n",
    "\n",
    "        for epoch in range(0, 16):\n",
    "            shift = epoch * 2 * math.pi / 16.0\n",
    "            mat = np.concatenate([\n",
    "                np.sin(shift + degrees * 2 * math.pi / 180.0),\n",
    "                np.sin(shift + degrees * 3 * math.pi / 180.0),\n",
    "                np.sin(shift + degrees * 5 * math.pi / 180.0),\n",
    "                np.sin(shift + degrees * 7 * math.pi / 180.0),\n",
    "                np.sin(shift + degrees * 11 * math.pi / 180.0)\n",
    "            ], axis=1)\n",
    "            writer.add_embedding(\n",
    "                mat=mat,\n",
    "                metadata=labels,\n",
    "                tag=\"sin\",\n",
    "                global_step=epoch)\n",
    "\n",
    "            mat = np.concatenate([\n",
    "                np.cos(shift + degrees * 2 * math.pi / 180.0),\n",
    "                np.cos(shift + degrees * 3 * math.pi / 180.0),\n",
    "                np.cos(shift + degrees * 5 * math.pi / 180.0),\n",
    "                np.cos(shift + degrees * 7 * math.pi / 180.0),\n",
    "                np.cos(shift + degrees * 11 * math.pi / 180.0)\n",
    "            ], axis=1)\n",
    "            writer.add_embedding(\n",
    "                mat=mat,\n",
    "                metadata=labels,\n",
    "                tag=\"cos\",\n",
    "                global_step=epoch)\n",
    "\n",
    "            mat = np.concatenate([\n",
    "                np.tan(shift + degrees * 2 * math.pi / 180.0),\n",
    "                np.tan(shift + degrees * 3 * math.pi / 180.0),\n",
    "                np.tan(shift + degrees * 5 * math.pi / 180.0),\n",
    "                np.tan(shift + degrees * 7 * math.pi / 180.0),\n",
    "                np.tan(shift + degrees * 11 * math.pi / 180.0)\n",
    "            ], axis=1)\n",
    "            writer.add_embedding(\n",
    "                mat=mat,\n",
    "                metadata=labels,\n",
    "                tag=\"tan\",\n",
    "                global_step=epoch)\n",
    "\n",
    "\n",
    "# if __name__ == \"__main__\":\n",
    "main()\n",
    "\n",
    "# tensorboard --logdir runs\n",
    "# Under \"Projection, you should see\n",
    "#  48 tensor found named\n",
    "#     cos:cos-00000 to cos:cos-00016\n",
    "#     sin:sin-00000 to sin:sin-00016\n",
    "#     tan:tan-00000 to tan:tan-00016"
   ]
  },
  {
   "cell_type": "markdown",
   "metadata": {
    "collapsed": true
   },
   "source": [
    "## matplotlib"
   ]
  },
  {
   "cell_type": "code",
   "execution_count": 12,
   "metadata": {
    "ExecuteTime": {
     "end_time": "2018-12-05T08:36:58.981258Z",
     "start_time": "2018-12-05T08:36:58.468228Z"
    },
    "collapsed": true
   },
   "outputs": [],
   "source": [
    "import matplotlib.pyplot as plt\n",
    "plt.switch_backend('agg')\n",
    "\n",
    "fig = plt.figure()\n",
    "\n",
    "c1 = plt.Circle((0.2, 0.5), 0.2, color='r')\n",
    "c2 = plt.Circle((0.8, 0.5), 0.2, color='r')\n",
    "\n",
    "ax = plt.gca()\n",
    "ax.add_patch(c1)\n",
    "ax.add_patch(c2)\n",
    "plt.axis('scaled')\n",
    "\n",
    "\n",
    "from tensorboardX import SummaryWriter\n",
    "writer = SummaryWriter(log_dir='tensorboard_log/matplotlib', comment='matplotlib_plt')\n",
    "writer.add_figure('matplotlib', fig)\n",
    "writer.close()"
   ]
  },
  {
   "cell_type": "markdown",
   "metadata": {
    "collapsed": true
   },
   "source": [
    "## nvidia_smi GPU使用情况"
   ]
  },
  {
   "cell_type": "code",
   "execution_count": 1,
   "metadata": {
    "ExecuteTime": {
     "end_time": "2018-12-05T08:41:34.273003Z",
     "start_time": "2018-12-05T08:41:32.996931Z"
    }
   },
   "outputs": [
    {
     "name": "stdout",
     "output_type": "stream",
     "text": [
      "This demo needs nvidia-ml-py or nvidia-ml-py3\n"
     ]
    }
   ],
   "source": [
    "from tensorboardX import SummaryWriter\n",
    "import time\n",
    "import torch\n",
    "\n",
    "try:\n",
    "    import nvidia_smi\n",
    "    nvidia_smi.nvmlInit()\n",
    "    handle = nvidia_smi.nvmlDeviceGetHandleByIndex(0)  # gpu0\n",
    "except ImportError:\n",
    "    print('This demo needs nvidia-ml-py or nvidia-ml-py3')\n",
    "    exit()\n",
    "\n",
    "with SummaryWriter(log_dir='tensorboard_log/nvidia_smi', comment='nvidia_smi') as writer:\n",
    "    x = []\n",
    "    for n_iter in range(50):\n",
    "        x.append(torch.Tensor(1000, 1000).cuda())\n",
    "        res = nvidia_smi.nvmlDeviceGetUtilizationRates(handle)\n",
    "        writer.add_scalar('nv/gpu', res.gpu, n_iter)\n",
    "        res = nvidia_smi.nvmlDeviceGetMemoryInfo(handle)\n",
    "        writer.add_scalar('nv/gpu_mem', res.used, n_iter)\n",
    "        time.sleep(0.1)"
   ]
  },
  {
   "cell_type": "markdown",
   "metadata": {
    "collapsed": true
   },
   "source": [
    "## image 图片\n",
    "- writer.add_image('Image', x, n_iter)"
   ]
  },
  {
   "cell_type": "code",
   "execution_count": null,
   "metadata": {
    "collapsed": true
   },
   "outputs": [],
   "source": []
  },
  {
   "cell_type": "markdown",
   "metadata": {
    "collapsed": true
   },
   "source": [
    "## audio\n",
    "- writer.add_audio('myAudio', dummy_audio, n_iter, sample_rate=sample_rate)"
   ]
  },
  {
   "cell_type": "code",
   "execution_count": null,
   "metadata": {
    "collapsed": true
   },
   "outputs": [],
   "source": []
  },
  {
   "cell_type": "markdown",
   "metadata": {
    "collapsed": true
   },
   "source": [
    "## DISTRIBUTIONS和 HISTOGRAMS"
   ]
  },
  {
   "cell_type": "code",
   "execution_count": null,
   "metadata": {
    "collapsed": true
   },
   "outputs": [],
   "source": [
    "for name, param in resnet18.named_parameters():\n",
    "    writer.add_histogram(name, param.clone().cpu().data.numpy(), n_iter)"
   ]
  },
  {
   "cell_type": "code",
   "execution_count": null,
   "metadata": {
    "collapsed": true
   },
   "outputs": [],
   "source": []
  },
  {
   "cell_type": "markdown",
   "metadata": {
    "collapsed": true
   },
   "source": [
    "## TEXT：\n",
    "- writer.add_text('Text', 'text logged at step:' + str(n_iter), n_iter)"
   ]
  },
  {
   "cell_type": "code",
   "execution_count": null,
   "metadata": {
    "collapsed": true
   },
   "outputs": [],
   "source": []
  },
  {
   "cell_type": "markdown",
   "metadata": {},
   "source": [
    "## PR CURVES:\n",
    "- needs tensorboard 0.4RC or later\n",
    "- writer.add_pr_curve('xoxo', np.random.randint(2, size=100), np.random.rand(100), n_iter)"
   ]
  },
  {
   "cell_type": "code",
   "execution_count": null,
   "metadata": {
    "collapsed": true
   },
   "outputs": [],
   "source": []
  },
  {
   "cell_type": "code",
   "execution_count": null,
   "metadata": {
    "collapsed": true
   },
   "outputs": [],
   "source": []
  }
 ],
 "metadata": {
  "kernelspec": {
   "display_name": "Python 3",
   "language": "python",
   "name": "python3"
  },
  "language_info": {
   "codemirror_mode": {
    "name": "ipython",
    "version": 3
   },
   "file_extension": ".py",
   "mimetype": "text/x-python",
   "name": "python",
   "nbconvert_exporter": "python",
   "pygments_lexer": "ipython3",
   "version": "3.6.3"
  },
  "toc": {
   "nav_menu": {},
   "number_sections": true,
   "sideBar": true,
   "skip_h1_title": false,
   "title_cell": "Table of Contents",
   "title_sidebar": "Contents",
   "toc_cell": false,
   "toc_position": {},
   "toc_section_display": true,
   "toc_window_display": true
  },
  "varInspector": {
   "cols": {
    "lenName": 16,
    "lenType": 16,
    "lenVar": 40
   },
   "kernels_config": {
    "python": {
     "delete_cmd_postfix": "",
     "delete_cmd_prefix": "del ",
     "library": "var_list.py",
     "varRefreshCmd": "print(var_dic_list())"
    },
    "r": {
     "delete_cmd_postfix": ") ",
     "delete_cmd_prefix": "rm(",
     "library": "var_list.r",
     "varRefreshCmd": "cat(var_dic_list()) "
    }
   },
   "types_to_exclude": [
    "module",
    "function",
    "builtin_function_or_method",
    "instance",
    "_Feature"
   ],
   "window_display": false
  }
 },
 "nbformat": 4,
 "nbformat_minor": 2
}
