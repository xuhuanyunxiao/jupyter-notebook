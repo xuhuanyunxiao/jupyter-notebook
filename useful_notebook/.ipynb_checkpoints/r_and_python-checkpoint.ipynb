{
 "cells": [
  {
   "cell_type": "markdown",
   "metadata": {
    "slideshow": {
     "slide_type": "slide"
    }
   },
   "source": [
    "# R和Python的相遇\n",
    "- **肖凯** \n",
    "![alt text](intro.jpg)"
   ]
  },
  {
   "cell_type": "markdown",
   "metadata": {
    "slideshow": {
     "slide_type": "slide"
    }
   },
   "source": [
    "## 阵营之争\n"
   ]
  },
  {
   "cell_type": "markdown",
   "metadata": {
    "slideshow": {
     "slide_type": "fragment"
    }
   },
   "source": [
    "- Windows vs Linux"
   ]
  },
  {
   "cell_type": "markdown",
   "metadata": {
    "slideshow": {
     "slide_type": "fragment"
    }
   },
   "source": [
    "- iPhone vs Andriod"
   ]
  },
  {
   "cell_type": "markdown",
   "metadata": {
    "slideshow": {
     "slide_type": "fragment"
    }
   },
   "source": [
    "- 甜豆花 vs 咸豆花"
   ]
  },
  {
   "cell_type": "markdown",
   "metadata": {
    "slideshow": {
     "slide_type": "fragment"
    }
   },
   "source": [
    "- R vs Python"
   ]
  },
  {
   "cell_type": "markdown",
   "metadata": {
    "slideshow": {
     "slide_type": "subslide"
    }
   },
   "source": [
    "## 大纲\n",
    "- 二种工具的介绍\n",
    "- 组合R和Python的方式（rpy2）\n",
    "- 在ipython notebook里使用R\n",
    "- 一个简单例子"
   ]
  },
  {
   "cell_type": "markdown",
   "metadata": {
    "slideshow": {
     "slide_type": "slide"
    }
   },
   "source": [
    "## 两种工具的介绍：共同点\n",
    "- 均为开源免费\n",
    "- 均可在三种操作系统中运行\n",
    "- 均有大量的用户群和社区支持\n",
    "- 均有大量的扩展包和教程资源\n",
    "- 最近的一项调查显示它们是业界人士最为喜爱的两种工具"
   ]
  },
  {
   "cell_type": "markdown",
   "metadata": {
    "slideshow": {
     "slide_type": "subslide"
    }
   },
   "source": [
    "![alt text](kdpoll.png)"
   ]
  },
  {
   "cell_type": "markdown",
   "metadata": {
    "slideshow": {
     "slide_type": "subslide"
    }
   },
   "source": [
    "![alt text](language.jpg)"
   ]
  },
  {
   "cell_type": "markdown",
   "metadata": {
    "slideshow": {
     "slide_type": "subslide"
    }
   },
   "source": [
    "## Python的数据分析能力\n",
    "\n",
    "- [NumPy/Scipy](http://www.numpy.org/)  \n",
    "- [pandas](http://pandas.pydata.org/)  \n",
    "- [statsmodels](https://pypi.python.org/pypi/statsmodels)\n",
    "- [scikit-learn](http://scikit-learn.org/stable)\n",
    "- [PyMC](https://github.com/pymc-devs/pymc)  "
   ]
  },
  {
   "cell_type": "markdown",
   "metadata": {
    "slideshow": {
     "slide_type": "subslide"
    }
   },
   "source": [
    "## 两种工具的介绍：差异点\n",
    "\n",
    "- Python是一种通用编程工具\n",
    "- R有更为丰富的统计分析函数\n",
    "- R有更好的可视化包\n",
    "- R的核心语法较为简洁，但R包的语法兼收并蓄，错综复杂\n",
    "\n",
    "Python:\n",
    "```\n",
    "results = sm.OLS(y, X).fit()\n",
    "```\n",
    "\n",
    "R:\n",
    "```\n",
    "results <- lm(y ~ x1 + x2 + x3, data=A)\n",
    "```\n"
   ]
  },
  {
   "cell_type": "markdown",
   "metadata": {
    "slideshow": {
     "slide_type": "subslide"
    }
   },
   "source": [
    "## 运用场景\n",
    "\n",
    "- 算法研究R，生产实践python\n",
    "- 根据现有资源进行选择\n",
    "- 各自做擅长的事情，将他们组合\n",
    "![alt text](zuhe.jpg)"
   ]
  },
  {
   "cell_type": "markdown",
   "metadata": {
    "slideshow": {
     "slide_type": "slide"
    }
   },
   "source": [
    "## 组合R和Python的方式\n",
    "\n",
    "- rpy2 提供了用Python调用R的包\n",
    "- rPython 提供了用R来调用Python的包"
   ]
  },
  {
   "cell_type": "markdown",
   "metadata": {
    "slideshow": {
     "slide_type": "subslide"
    }
   },
   "source": [
    "## rpy2使用例子\n",
    "\n",
    "- 使用rpy2.robjects包的r对象\n",
    "- r对象可以看作是python内部的一个R控制台"
   ]
  },
  {
   "cell_type": "code",
   "execution_count": 1,
   "metadata": {
    "ExecuteTime": {
     "end_time": "2018-11-05T08:21:36.007624Z",
     "start_time": "2018-11-05T08:21:31.894388Z"
    },
    "slideshow": {
     "slide_type": "subslide"
    }
   },
   "outputs": [
    {
     "data": {
      "text/plain": [
       "3.141592653589793"
      ]
     },
     "execution_count": 1,
     "metadata": {},
     "output_type": "execute_result"
    }
   ],
   "source": [
    "import rpy2.robjects as robjects\n",
    "pi = robjects.r('pi')\n",
    "pi[0]"
   ]
  },
  {
   "cell_type": "markdown",
   "metadata": {
    "slideshow": {
     "slide_type": "subslide"
    }
   },
   "source": [
    "**用R做线性回归**"
   ]
  },
  {
   "cell_type": "code",
   "execution_count": 2,
   "metadata": {
    "ExecuteTime": {
     "end_time": "2018-11-05T08:21:38.191749Z",
     "start_time": "2018-11-05T08:21:37.987737Z"
    }
   },
   "outputs": [],
   "source": [
    "rscript = '''\n",
    "df = read.csv('iris.csv')\n",
    "m = lm(Sepal_Length~Sepal_Width, data = df)\n",
    "'''\n",
    "pymodel = robjects.r(rscript)"
   ]
  },
  {
   "cell_type": "code",
   "execution_count": 4,
   "metadata": {
    "ExecuteTime": {
     "end_time": "2018-11-05T08:21:51.096487Z",
     "start_time": "2018-11-05T08:21:51.085486Z"
    },
    "slideshow": {
     "slide_type": "fragment"
    }
   },
   "outputs": [
    {
     "name": "stdout",
     "output_type": "stream",
     "text": [
      " [1] \"coefficients\"  \"residuals\"     \"effects\"       \"rank\"         \n",
      "\r\n",
      " [5] \"fitted.values\" \"assign\"        \"qr\"            \"df.residual\"  \n",
      "\r\n",
      " [9] \"xlevels\"       \"call\"          \"terms\"         \"model\"        \n",
      "\n"
     ]
    }
   ],
   "source": [
    "print(pymodel.names)"
   ]
  },
  {
   "cell_type": "code",
   "execution_count": 5,
   "metadata": {
    "ExecuteTime": {
     "end_time": "2018-11-05T08:22:01.885104Z",
     "start_time": "2018-11-05T08:22:01.694093Z"
    },
    "slideshow": {
     "slide_type": "subslide"
    }
   },
   "outputs": [
    {
     "name": "stdout",
     "output_type": "stream",
     "text": [
      "4.7369515717340015e-17\n"
     ]
    }
   ],
   "source": [
    "import numpy as np\n",
    "print(np.mean(pymodel.rx2('residuals')))"
   ]
  },
  {
   "cell_type": "code",
   "execution_count": 6,
   "metadata": {
    "ExecuteTime": {
     "end_time": "2018-11-05T08:22:15.777898Z",
     "start_time": "2018-11-05T08:22:15.437879Z"
    },
    "slideshow": {
     "slide_type": "subslide"
    }
   },
   "outputs": [
    {
     "name": "stdout",
     "output_type": "stream",
     "text": [
      "\n",
      "\r\n",
      "Call:\n",
      "\r\n",
      "lm(formula = Sepal_Length ~ Sepal_Width, data = df)\n",
      "\r\n",
      "\n",
      "\r\n",
      "Residuals:\n",
      "\r\n",
      "    Min      1Q  Median      3Q     Max \n",
      "\r\n",
      "-1.5561 -0.6333 -0.1120  0.5579  2.2226 \n",
      "\r\n",
      "\n",
      "\r\n",
      "Coefficients:\n",
      "\r\n",
      "            Estimate Std. Error t value Pr(>|t|)    \n",
      "\r\n",
      "(Intercept)   6.5262     0.4789   13.63   <2e-16 ***\n",
      "\r\n",
      "Sepal_Width  -0.2234     0.1551   -1.44    0.152    \n",
      "\r\n",
      "---\n",
      "\r\n",
      "Signif. codes:  0 '***' 0.001 '**' 0.01 '*' 0.05 '.' 0.1 ' ' 1\n",
      "\r\n",
      "\n",
      "\r\n",
      "Residual standard error: 0.8251 on 148 degrees of freedom\n",
      "\r\n",
      "Multiple R-squared:  0.01382,\tAdjusted R-squared:  0.007159 \n",
      "\r\n",
      "F-statistic: 2.074 on 1 and 148 DF,  p-value: 0.1519\n",
      "\r\n",
      "\n",
      "\n"
     ]
    }
   ],
   "source": [
    "res = robjects.r('summary(m)')\n",
    "print(res)"
   ]
  },
  {
   "cell_type": "code",
   "execution_count": 7,
   "metadata": {
    "ExecuteTime": {
     "end_time": "2018-11-05T08:22:25.931479Z",
     "start_time": "2018-11-05T08:22:25.917478Z"
    },
    "slideshow": {
     "slide_type": "subslide"
    }
   },
   "outputs": [
    {
     "name": "stdout",
     "output_type": "stream",
     "text": [
      " [1] \"call\"          \"terms\"         \"residuals\"     \"coefficients\" \n",
      "\r\n",
      " [5] \"aliased\"       \"sigma\"         \"df\"            \"r.squared\"    \n",
      "\r\n",
      " [9] \"adj.r.squared\" \"fstatistic\"    \"cov.unscaled\" \n",
      "\n"
     ]
    }
   ],
   "source": [
    "print(res.names)"
   ]
  },
  {
   "cell_type": "code",
   "execution_count": 8,
   "metadata": {
    "ExecuteTime": {
     "end_time": "2018-11-05T08:22:44.025514Z",
     "start_time": "2018-11-05T08:22:44.013513Z"
    },
    "slideshow": {
     "slide_type": "fragment"
    }
   },
   "outputs": [
    {
     "name": "stdout",
     "output_type": "stream",
     "text": [
      "              Estimate Std. Error   t value     Pr(>|t|)\n",
      "\r\n",
      "(Intercept)  6.5262226  0.4788963 13.627631 6.469702e-28\n",
      "\r\n",
      "Sepal_Width -0.2233611  0.1550809 -1.440287 1.518983e-01\n",
      "\n"
     ]
    }
   ],
   "source": [
    "print(res.rx2('coefficients'))"
   ]
  },
  {
   "cell_type": "code",
   "execution_count": 9,
   "metadata": {
    "ExecuteTime": {
     "end_time": "2018-11-05T08:22:51.380935Z",
     "start_time": "2018-11-05T08:22:51.373934Z"
    },
    "slideshow": {
     "slide_type": "fragment"
    }
   },
   "outputs": [
    {
     "name": "stdout",
     "output_type": "stream",
     "text": [
      "[1] 0.1518983\n",
      "\n"
     ]
    }
   ],
   "source": [
    "print(res.rx2('coefficients').rx(2,4)) # p value of slope"
   ]
  },
  {
   "cell_type": "code",
   "execution_count": 10,
   "metadata": {
    "ExecuteTime": {
     "end_time": "2018-11-05T08:22:57.732298Z",
     "start_time": "2018-11-05T08:22:57.701296Z"
    },
    "slideshow": {
     "slide_type": "subslide"
    }
   },
   "outputs": [
    {
     "name": "stdout",
     "output_type": "stream",
     "text": [
      "[[ 6.52622255e+00  4.78896340e-01  1.36276309e+01  6.46970170e-28]\n",
      " [-2.23361061e-01  1.55080930e-01 -1.44028709e+00  1.51898261e-01]]\n"
     ]
    },
    {
     "data": {
      "text/plain": [
       "0.15189826071144782"
      ]
     },
     "execution_count": 10,
     "metadata": {},
     "output_type": "execute_result"
    }
   ],
   "source": [
    "print(np.mat(res.rx2('coefficients')))\n",
    "np.mat(res.rx2('coefficients'))[1,3]"
   ]
  },
  {
   "cell_type": "markdown",
   "metadata": {
    "slideshow": {
     "slide_type": "slide"
    }
   },
   "source": [
    "## 在IPython Notebook里使用R"
   ]
  },
  {
   "cell_type": "markdown",
   "metadata": {
    "slideshow": {
     "slide_type": "fragment"
    }
   },
   "source": [
    "## 什么是IPython Notebook\n",
    "\n",
    "- IPython 是一个加强版的交互式 Shell\n",
    "- IPython Notebook是一个交互计算平台，也是一个记录计算过程的笔记本\n",
    "- 满足交互计算和批处理计算，同时能保存脚本文件以记录计算过程\n",
    "- 能兼容markdown等语法，满足可重复数据分析的需求，以及课程教学、博客写作\n",
    "- 能在本地的计算机上对远程服务器中的数据进行分析"
   ]
  },
  {
   "cell_type": "code",
   "execution_count": 11,
   "metadata": {
    "ExecuteTime": {
     "end_time": "2018-11-05T08:23:05.538745Z",
     "start_time": "2018-11-05T08:23:03.214612Z"
    },
    "slideshow": {
     "slide_type": "subslide"
    }
   },
   "outputs": [
    {
     "data": {
      "image/png": "[encoded data removed]",
      "text/plain": [
       "<matplotlib.figure.Figure at 0xc6192e8>"
      ]
     },
     "metadata": {},
     "output_type": "display_data"
    }
   ],
   "source": [
    "import numpy as np\n",
    "import matplotlib.pylab as plt\n",
    "from scipy import stats\n",
    "%matplotlib inline\n",
    "x = np.random.randn(300)\n",
    "density = stats.kde.gaussian_kde(x)\n",
    "plt.hist(x, 30, normed=1, alpha=0.5, facecolor='#377EB8')\n",
    "xd = np.linspace(min(x), max(x), 100)\n",
    "plt.plot(xd, density(xd), lw=2, alpha=0.2,color='r') #line\n",
    "plt.fill_between(xd, 0, density(xd), alpha=0.2, color='r')\n",
    "plt.show()"
   ]
  },
  {
   "cell_type": "markdown",
   "metadata": {
    "slideshow": {
     "slide_type": "subslide"
    }
   },
   "source": [
    "## 如何在notebook中使用R\n"
   ]
  },
  {
   "cell_type": "code",
   "execution_count": 12,
   "metadata": {
    "ExecuteTime": {
     "end_time": "2018-11-05T08:23:06.171781Z",
     "start_time": "2018-11-05T08:23:05.661752Z"
    },
    "slideshow": {
     "slide_type": "fragment"
    }
   },
   "outputs": [],
   "source": [
    "%load_ext rpy2.ipython"
   ]
  },
  {
   "cell_type": "code",
   "execution_count": 13,
   "metadata": {
    "ExecuteTime": {
     "end_time": "2018-11-05T08:23:07.332847Z",
     "start_time": "2018-11-05T08:23:07.291845Z"
    },
    "slideshow": {
     "slide_type": "subslide"
    }
   },
   "outputs": [],
   "source": [
    "%%R\n",
    "df = read.csv('iris.csv')\n",
    "m = lm(Sepal_Length~Sepal_Width, data = df)\n",
    "res = summary(m)\n",
    "res$coefficients"
   ]
  },
  {
   "cell_type": "code",
   "execution_count": 14,
   "metadata": {
    "ExecuteTime": {
     "end_time": "2018-11-05T08:23:10.811046Z",
     "start_time": "2018-11-05T08:23:10.769044Z"
    },
    "slideshow": {
     "slide_type": "subslide"
    }
   },
   "outputs": [
    {
     "data": {
      "image/png": "[encoded data removed]"
     },
     "metadata": {},
     "output_type": "display_data"
    }
   ],
   "source": [
    "%%R -w 500 -h 300 \n",
    "# 画图\n",
    "x = rnorm(1000)\n",
    "hist(x,c='gray')"
   ]
  },
  {
   "cell_type": "markdown",
   "metadata": {
    "slideshow": {
     "slide_type": "subslide"
    }
   },
   "source": [
    "**一个cell中的R代码默认不会和python输入输出**"
   ]
  },
  {
   "cell_type": "code",
   "execution_count": 15,
   "metadata": {
    "ExecuteTime": {
     "end_time": "2018-11-05T08:23:14.605263Z",
     "start_time": "2018-11-05T08:23:14.590262Z"
    },
    "collapsed": true
   },
   "outputs": [],
   "source": [
    "%%R \n",
    "x = rnorm(100)"
   ]
  },
  {
   "cell_type": "code",
   "execution_count": 17,
   "metadata": {
    "ExecuteTime": {
     "end_time": "2018-11-05T08:23:26.905967Z",
     "start_time": "2018-11-05T08:23:26.884965Z"
    }
   },
   "outputs": [],
   "source": [
    "%%R\n",
    "print(summary(x))"
   ]
  },
  {
   "cell_type": "markdown",
   "metadata": {
    "slideshow": {
     "slide_type": "subslide"
    }
   },
   "source": [
    "**和python交互需要使用-i -o**"
   ]
  },
  {
   "cell_type": "code",
   "execution_count": 18,
   "metadata": {
    "ExecuteTime": {
     "end_time": "2018-11-05T08:23:29.759130Z",
     "start_time": "2018-11-05T08:23:29.745129Z"
    },
    "collapsed": true
   },
   "outputs": [],
   "source": [
    "%%R -o x,y\n",
    "x = rnorm(100)\n",
    "y = rnorm(100)"
   ]
  },
  {
   "cell_type": "code",
   "execution_count": 19,
   "metadata": {
    "ExecuteTime": {
     "end_time": "2018-11-05T08:23:31.302218Z",
     "start_time": "2018-11-05T08:23:31.109207Z"
    },
    "slideshow": {
     "slide_type": "subslide"
    }
   },
   "outputs": [
    {
     "data": {
      "image/png": "[encoded data removed]",
      "text/plain": [
       "<matplotlib.figure.Figure at 0xeeb2da0>"
      ]
     },
     "metadata": {},
     "output_type": "display_data"
    }
   ],
   "source": [
    "x = np.array(x)\n",
    "y = np.array(y)\n",
    "z = np.random.choice(['r','b'], size=100, replace=True)\n",
    "plt.show(plt.scatter(x,y,s=80,c=z ,alpha=0.7))"
   ]
  },
  {
   "cell_type": "code",
   "execution_count": 20,
   "metadata": {
    "ExecuteTime": {
     "end_time": "2018-11-05T08:23:34.450398Z",
     "start_time": "2018-11-05T08:23:34.175382Z"
    },
    "slideshow": {
     "slide_type": "subslide"
    }
   },
   "outputs": [
    {
     "data": {
      "text/html": [
       "<div>\n",
       "<style scoped>\n",
       "    .dataframe tbody tr th:only-of-type {\n",
       "        vertical-align: middle;\n",
       "    }\n",
       "\n",
       "    .dataframe tbody tr th {\n",
       "        vertical-align: top;\n",
       "    }\n",
       "\n",
       "    .dataframe thead th {\n",
       "        text-align: right;\n",
       "    }\n",
       "</style>\n",
       "<table border=\"1\" class=\"dataframe\">\n",
       "  <thead>\n",
       "    <tr style=\"text-align: right;\">\n",
       "      <th></th>\n",
       "      <th>x</th>\n",
       "      <th>y</th>\n",
       "      <th>z</th>\n",
       "    </tr>\n",
       "  </thead>\n",
       "  <tbody>\n",
       "    <tr>\n",
       "      <th>0</th>\n",
       "      <td>-1.466605</td>\n",
       "      <td>-1.081168</td>\n",
       "      <td>r</td>\n",
       "    </tr>\n",
       "    <tr>\n",
       "      <th>1</th>\n",
       "      <td>-1.107500</td>\n",
       "      <td>1.357312</td>\n",
       "      <td>b</td>\n",
       "    </tr>\n",
       "    <tr>\n",
       "      <th>2</th>\n",
       "      <td>-0.020647</td>\n",
       "      <td>-0.477178</td>\n",
       "      <td>r</td>\n",
       "    </tr>\n",
       "    <tr>\n",
       "      <th>3</th>\n",
       "      <td>-0.232662</td>\n",
       "      <td>0.095582</td>\n",
       "      <td>b</td>\n",
       "    </tr>\n",
       "    <tr>\n",
       "      <th>4</th>\n",
       "      <td>1.489715</td>\n",
       "      <td>0.008783</td>\n",
       "      <td>b</td>\n",
       "    </tr>\n",
       "  </tbody>\n",
       "</table>\n",
       "</div>"
      ],
      "text/plain": [
       "          x         y  z\n",
       "0 -1.466605 -1.081168  r\n",
       "1 -1.107500  1.357312  b\n",
       "2 -0.020647 -0.477178  r\n",
       "3 -0.232662  0.095582  b\n",
       "4  1.489715  0.008783  b"
      ]
     },
     "execution_count": 20,
     "metadata": {},
     "output_type": "execute_result"
    }
   ],
   "source": [
    "import pandas as pd\n",
    "df = pd.DataFrame({'x':x, 'y':y, 'z':z})\n",
    "df.head()"
   ]
  },
  {
   "cell_type": "code",
   "execution_count": 21,
   "metadata": {
    "ExecuteTime": {
     "end_time": "2018-11-05T08:23:35.233443Z",
     "start_time": "2018-11-05T08:23:35.208442Z"
    },
    "slideshow": {
     "slide_type": "subslide"
    }
   },
   "outputs": [
    {
     "name": "stdout",
     "output_type": "stream",
     "text": [
      "\n"
     ]
    }
   ],
   "source": [
    "%%R -i df -w 500 -h 300 \n",
    "library(ggplot2)\n",
    "p = ggplot(df,aes(x = x, y = y, color = z)) + geom_point(size=4)\n",
    "print(p)"
   ]
  },
  {
   "cell_type": "markdown",
   "metadata": {
    "slideshow": {
     "slide_type": "subslide"
    }
   },
   "source": [
    "**同一个cell中混编python和R代码**"
   ]
  },
  {
   "cell_type": "code",
   "execution_count": 22,
   "metadata": {
    "ExecuteTime": {
     "end_time": "2018-11-05T08:23:47.200127Z",
     "start_time": "2018-11-05T08:23:47.181126Z"
    }
   },
   "outputs": [
    {
     "data": {
      "text/plain": [
       "array([-17.58,   3.93])"
      ]
     },
     "execution_count": 22,
     "metadata": {},
     "output_type": "execute_result"
    }
   ],
   "source": [
    "%R -o coefs data(cars); model = lm(dist~speed, data=cars); coefs = model$coef \n",
    "coefs = np.array(coefs).round(2)\n",
    "coefs"
   ]
  },
  {
   "cell_type": "markdown",
   "metadata": {
    "slideshow": {
     "slide_type": "subslide"
    }
   },
   "source": [
    "**如何不需要%就可以使用notebook**\n",
    "\n",
    "- http://jupyter.org/ 可以解析R语言的notebook\n",
    "- http://blog.dominodatalab.com/r-notebooks/ 一种取巧的做法，仍是使用ipython notebook"
   ]
  },
  {
   "cell_type": "markdown",
   "metadata": {
    "slideshow": {
     "slide_type": "slide"
    }
   },
   "source": [
    "## 一个整合R和python的例子\n",
    "- python抓取网页，结合R的可视化"
   ]
  },
  {
   "cell_type": "code",
   "execution_count": 23,
   "metadata": {
    "ExecuteTime": {
     "end_time": "2018-11-05T08:23:53.604494Z",
     "start_time": "2018-11-05T08:23:52.574435Z"
    },
    "slideshow": {
     "slide_type": "subslide"
    }
   },
   "outputs": [
    {
     "name": "stderr",
     "output_type": "stream",
     "text": [
      "D:\\software\\conda\\lib\\site-packages\\bs4\\__init__.py:181: UserWarning: No parser was explicitly specified, so I'm using the best available HTML parser for this system (\"lxml\"). This usually isn't a problem, but if you run this code on another system, or in a different virtual environment, it may use a different parser and behave differently.\n",
      "\n",
      "The code that caused this warning is on line 193 of the file D:\\software\\conda\\lib\\runpy.py. To get rid of this warning, change code that looks like this:\n",
      "\n",
      " BeautifulSoup(YOUR_MARKUP})\n",
      "\n",
      "to this:\n",
      "\n",
      " BeautifulSoup(YOUR_MARKUP, \"lxml\")\n",
      "\n",
      "  markup_type=markup_type))\n"
     ]
    }
   ],
   "source": [
    "import requests\n",
    "from bs4 import BeautifulSoup\n",
    "import re\n",
    "url = \"http://movie.douban.com/top250\"\n",
    "r = requests.get(url)\n",
    "soup_packtpage = BeautifulSoup(r.text)"
   ]
  },
  {
   "cell_type": "code",
   "execution_count": 24,
   "metadata": {
    "ExecuteTime": {
     "end_time": "2018-11-05T08:23:55.026575Z",
     "start_time": "2018-11-05T08:23:54.975572Z"
    },
    "collapsed": true,
    "slideshow": {
     "slide_type": "subslide"
    }
   },
   "outputs": [],
   "source": [
    "def namefunc(movie):\n",
    "    names = [x.findChild('span',attrs={'class':'title'}).string for x in movie]\n",
    "    return names\n",
    "def scorefunc(movie):\n",
    "    scores = [float(str(x.findChild('em').string)) for x in movie]\n",
    "    return scores\n",
    "def numfunc(movie):\n",
    "    num = [x.findChild('span',attrs=None).string for x in movie]\n",
    "    num = [int(str(re.sub('\\D', '', x))) for x in num]\n",
    "    return num\n",
    "url = \"http://movie.douban.com/top250\"\n",
    "def getinfo(url):\n",
    "    r = requests.get(url)\n",
    "    soup_packtpage = BeautifulSoup(r.text)\n",
    "    movie = soup_packtpage.findAll('div',attrs={'class':'info'})\n",
    "    names = namefunc(movie)\n",
    "    scores = scorefunc(movie)\n",
    "    num = numfunc(movie)\n",
    "    res = {'names': names, 'scores': scores, 'num': num}\n",
    "    return res"
   ]
  },
  {
   "cell_type": "code",
   "execution_count": 25,
   "metadata": {
    "ExecuteTime": {
     "end_time": "2018-11-05T08:23:56.060634Z",
     "start_time": "2018-11-05T08:23:56.044633Z"
    },
    "slideshow": {
     "slide_type": "subslide"
    }
   },
   "outputs": [
    {
     "data": {
      "text/plain": [
       "['http://movie.douban.com/top250?start=0&filter=&type=',\n",
       " 'http://movie.douban.com/top250?start=25&filter=&type=',\n",
       " 'http://movie.douban.com/top250?start=50&filter=&type=',\n",
       " 'http://movie.douban.com/top250?start=75&filter=&type=',\n",
       " 'http://movie.douban.com/top250?start=100&filter=&type=',\n",
       " 'http://movie.douban.com/top250?start=125&filter=&type=',\n",
       " 'http://movie.douban.com/top250?start=150&filter=&type=',\n",
       " 'http://movie.douban.com/top250?start=175&filter=&type=',\n",
       " 'http://movie.douban.com/top250?start=200&filter=&type=',\n",
       " 'http://movie.douban.com/top250?start=225&filter=&type=']"
      ]
     },
     "execution_count": 25,
     "metadata": {},
     "output_type": "execute_result"
    }
   ],
   "source": [
    "urls = []\n",
    "index = range(0,250,25)\n",
    "for x in index:\n",
    "    urls.append('http://movie.douban.com/top250?start='+str(x)+'&filter=&type=')\n",
    "urls"
   ]
  },
  {
   "cell_type": "code",
   "execution_count": 26,
   "metadata": {
    "ExecuteTime": {
     "end_time": "2018-11-05T08:23:57.518718Z",
     "start_time": "2018-11-05T08:23:56.861680Z"
    },
    "slideshow": {
     "slide_type": "subslide"
    }
   },
   "outputs": [
    {
     "name": "stderr",
     "output_type": "stream",
     "text": [
      "D:\\software\\conda\\lib\\site-packages\\bs4\\__init__.py:181: UserWarning: No parser was explicitly specified, so I'm using the best available HTML parser for this system (\"lxml\"). This usually isn't a problem, but if you run this code on another system, or in a different virtual environment, it may use a different parser and behave differently.\n",
      "\n",
      "The code that caused this warning is on line 193 of the file D:\\software\\conda\\lib\\runpy.py. To get rid of this warning, change code that looks like this:\n",
      "\n",
      " BeautifulSoup(YOUR_MARKUP})\n",
      "\n",
      "to this:\n",
      "\n",
      " BeautifulSoup(YOUR_MARKUP, \"lxml\")\n",
      "\n",
      "  markup_type=markup_type))\n"
     ]
    },
    {
     "ename": "AttributeError",
     "evalue": "'NoneType' object has no attribute 'string'",
     "output_type": "error",
     "traceback": [
      "\u001b[1;31m---------------------------------------------------------------------------\u001b[0m",
      "\u001b[1;31mAttributeError\u001b[0m                            Traceback (most recent call last)",
      "\u001b[1;32m<ipython-input-26-7f21e5c38aee>\u001b[0m in \u001b[0;36m<module>\u001b[1;34m()\u001b[0m\n\u001b[0;32m      1\u001b[0m \u001b[0mres\u001b[0m \u001b[1;33m=\u001b[0m \u001b[1;33m{\u001b[0m\u001b[1;34m'names'\u001b[0m\u001b[1;33m:\u001b[0m \u001b[1;33m[\u001b[0m\u001b[1;33m]\u001b[0m\u001b[1;33m,\u001b[0m \u001b[1;34m'scores'\u001b[0m\u001b[1;33m:\u001b[0m \u001b[1;33m[\u001b[0m\u001b[1;33m]\u001b[0m\u001b[1;33m,\u001b[0m \u001b[1;34m'num'\u001b[0m\u001b[1;33m:\u001b[0m \u001b[1;33m[\u001b[0m\u001b[1;33m]\u001b[0m\u001b[1;33m}\u001b[0m\u001b[1;33m\u001b[0m\u001b[0m\n\u001b[0;32m      2\u001b[0m \u001b[1;32mfor\u001b[0m \u001b[0murl\u001b[0m \u001b[1;32min\u001b[0m \u001b[0murls\u001b[0m\u001b[1;33m:\u001b[0m\u001b[1;33m\u001b[0m\u001b[0m\n\u001b[1;32m----> 3\u001b[1;33m     \u001b[0mnew\u001b[0m \u001b[1;33m=\u001b[0m \u001b[0mgetinfo\u001b[0m\u001b[1;33m(\u001b[0m\u001b[0murl\u001b[0m\u001b[1;33m)\u001b[0m\u001b[1;33m\u001b[0m\u001b[0m\n\u001b[0m\u001b[0;32m      4\u001b[0m     \u001b[0mres\u001b[0m\u001b[1;33m[\u001b[0m\u001b[1;34m'names'\u001b[0m\u001b[1;33m]\u001b[0m\u001b[1;33m.\u001b[0m\u001b[0mextend\u001b[0m\u001b[1;33m(\u001b[0m\u001b[0mnew\u001b[0m\u001b[1;33m[\u001b[0m\u001b[1;34m'names'\u001b[0m\u001b[1;33m]\u001b[0m\u001b[1;33m)\u001b[0m\u001b[1;33m\u001b[0m\u001b[0m\n\u001b[0;32m      5\u001b[0m     \u001b[0mres\u001b[0m\u001b[1;33m[\u001b[0m\u001b[1;34m'scores'\u001b[0m\u001b[1;33m]\u001b[0m\u001b[1;33m.\u001b[0m\u001b[0mextend\u001b[0m\u001b[1;33m(\u001b[0m\u001b[0mnew\u001b[0m\u001b[1;33m[\u001b[0m\u001b[1;34m'scores'\u001b[0m\u001b[1;33m]\u001b[0m\u001b[1;33m)\u001b[0m\u001b[1;33m\u001b[0m\u001b[0m\n",
      "\u001b[1;32m<ipython-input-24-ef8fc9b2201c>\u001b[0m in \u001b[0;36mgetinfo\u001b[1;34m(url)\u001b[0m\n\u001b[0;32m     15\u001b[0m     \u001b[0mmovie\u001b[0m \u001b[1;33m=\u001b[0m \u001b[0msoup_packtpage\u001b[0m\u001b[1;33m.\u001b[0m\u001b[0mfindAll\u001b[0m\u001b[1;33m(\u001b[0m\u001b[1;34m'div'\u001b[0m\u001b[1;33m,\u001b[0m\u001b[0mattrs\u001b[0m\u001b[1;33m=\u001b[0m\u001b[1;33m{\u001b[0m\u001b[1;34m'class'\u001b[0m\u001b[1;33m:\u001b[0m\u001b[1;34m'info'\u001b[0m\u001b[1;33m}\u001b[0m\u001b[1;33m)\u001b[0m\u001b[1;33m\u001b[0m\u001b[0m\n\u001b[0;32m     16\u001b[0m     \u001b[0mnames\u001b[0m \u001b[1;33m=\u001b[0m \u001b[0mnamefunc\u001b[0m\u001b[1;33m(\u001b[0m\u001b[0mmovie\u001b[0m\u001b[1;33m)\u001b[0m\u001b[1;33m\u001b[0m\u001b[0m\n\u001b[1;32m---> 17\u001b[1;33m     \u001b[0mscores\u001b[0m \u001b[1;33m=\u001b[0m \u001b[0mscorefunc\u001b[0m\u001b[1;33m(\u001b[0m\u001b[0mmovie\u001b[0m\u001b[1;33m)\u001b[0m\u001b[1;33m\u001b[0m\u001b[0m\n\u001b[0m\u001b[0;32m     18\u001b[0m     \u001b[0mnum\u001b[0m \u001b[1;33m=\u001b[0m \u001b[0mnumfunc\u001b[0m\u001b[1;33m(\u001b[0m\u001b[0mmovie\u001b[0m\u001b[1;33m)\u001b[0m\u001b[1;33m\u001b[0m\u001b[0m\n\u001b[0;32m     19\u001b[0m     \u001b[0mres\u001b[0m \u001b[1;33m=\u001b[0m \u001b[1;33m{\u001b[0m\u001b[1;34m'names'\u001b[0m\u001b[1;33m:\u001b[0m \u001b[0mnames\u001b[0m\u001b[1;33m,\u001b[0m \u001b[1;34m'scores'\u001b[0m\u001b[1;33m:\u001b[0m \u001b[0mscores\u001b[0m\u001b[1;33m,\u001b[0m \u001b[1;34m'num'\u001b[0m\u001b[1;33m:\u001b[0m \u001b[0mnum\u001b[0m\u001b[1;33m}\u001b[0m\u001b[1;33m\u001b[0m\u001b[0m\n",
      "\u001b[1;32m<ipython-input-24-ef8fc9b2201c>\u001b[0m in \u001b[0;36mscorefunc\u001b[1;34m(movie)\u001b[0m\n\u001b[0;32m      3\u001b[0m     \u001b[1;32mreturn\u001b[0m \u001b[0mnames\u001b[0m\u001b[1;33m\u001b[0m\u001b[0m\n\u001b[0;32m      4\u001b[0m \u001b[1;32mdef\u001b[0m \u001b[0mscorefunc\u001b[0m\u001b[1;33m(\u001b[0m\u001b[0mmovie\u001b[0m\u001b[1;33m)\u001b[0m\u001b[1;33m:\u001b[0m\u001b[1;33m\u001b[0m\u001b[0m\n\u001b[1;32m----> 5\u001b[1;33m     \u001b[0mscores\u001b[0m \u001b[1;33m=\u001b[0m \u001b[1;33m[\u001b[0m\u001b[0mfloat\u001b[0m\u001b[1;33m(\u001b[0m\u001b[0mstr\u001b[0m\u001b[1;33m(\u001b[0m\u001b[0mx\u001b[0m\u001b[1;33m.\u001b[0m\u001b[0mfindChild\u001b[0m\u001b[1;33m(\u001b[0m\u001b[1;34m'em'\u001b[0m\u001b[1;33m)\u001b[0m\u001b[1;33m.\u001b[0m\u001b[0mstring\u001b[0m\u001b[1;33m)\u001b[0m\u001b[1;33m)\u001b[0m \u001b[1;32mfor\u001b[0m \u001b[0mx\u001b[0m \u001b[1;32min\u001b[0m \u001b[0mmovie\u001b[0m\u001b[1;33m]\u001b[0m\u001b[1;33m\u001b[0m\u001b[0m\n\u001b[0m\u001b[0;32m      6\u001b[0m     \u001b[1;32mreturn\u001b[0m \u001b[0mscores\u001b[0m\u001b[1;33m\u001b[0m\u001b[0m\n\u001b[0;32m      7\u001b[0m \u001b[1;32mdef\u001b[0m \u001b[0mnumfunc\u001b[0m\u001b[1;33m(\u001b[0m\u001b[0mmovie\u001b[0m\u001b[1;33m)\u001b[0m\u001b[1;33m:\u001b[0m\u001b[1;33m\u001b[0m\u001b[0m\n",
      "\u001b[1;32m<ipython-input-24-ef8fc9b2201c>\u001b[0m in \u001b[0;36m<listcomp>\u001b[1;34m(.0)\u001b[0m\n\u001b[0;32m      3\u001b[0m     \u001b[1;32mreturn\u001b[0m \u001b[0mnames\u001b[0m\u001b[1;33m\u001b[0m\u001b[0m\n\u001b[0;32m      4\u001b[0m \u001b[1;32mdef\u001b[0m \u001b[0mscorefunc\u001b[0m\u001b[1;33m(\u001b[0m\u001b[0mmovie\u001b[0m\u001b[1;33m)\u001b[0m\u001b[1;33m:\u001b[0m\u001b[1;33m\u001b[0m\u001b[0m\n\u001b[1;32m----> 5\u001b[1;33m     \u001b[0mscores\u001b[0m \u001b[1;33m=\u001b[0m \u001b[1;33m[\u001b[0m\u001b[0mfloat\u001b[0m\u001b[1;33m(\u001b[0m\u001b[0mstr\u001b[0m\u001b[1;33m(\u001b[0m\u001b[0mx\u001b[0m\u001b[1;33m.\u001b[0m\u001b[0mfindChild\u001b[0m\u001b[1;33m(\u001b[0m\u001b[1;34m'em'\u001b[0m\u001b[1;33m)\u001b[0m\u001b[1;33m.\u001b[0m\u001b[0mstring\u001b[0m\u001b[1;33m)\u001b[0m\u001b[1;33m)\u001b[0m \u001b[1;32mfor\u001b[0m \u001b[0mx\u001b[0m \u001b[1;32min\u001b[0m \u001b[0mmovie\u001b[0m\u001b[1;33m]\u001b[0m\u001b[1;33m\u001b[0m\u001b[0m\n\u001b[0m\u001b[0;32m      6\u001b[0m     \u001b[1;32mreturn\u001b[0m \u001b[0mscores\u001b[0m\u001b[1;33m\u001b[0m\u001b[0m\n\u001b[0;32m      7\u001b[0m \u001b[1;32mdef\u001b[0m \u001b[0mnumfunc\u001b[0m\u001b[1;33m(\u001b[0m\u001b[0mmovie\u001b[0m\u001b[1;33m)\u001b[0m\u001b[1;33m:\u001b[0m\u001b[1;33m\u001b[0m\u001b[0m\n",
      "\u001b[1;31mAttributeError\u001b[0m: 'NoneType' object has no attribute 'string'"
     ]
    }
   ],
   "source": [
    "res = {'names': [], 'scores': [], 'num': []}\n",
    "for url in urls:\n",
    "    new = getinfo(url)\n",
    "    res['names'].extend(new['names'])\n",
    "    res['scores'].extend(new['scores'])\n",
    "    res['num'].extend(new['num'])"
   ]
  },
  {
   "cell_type": "code",
   "execution_count": 27,
   "metadata": {
    "ExecuteTime": {
     "end_time": "2018-11-05T08:23:57.988745Z",
     "start_time": "2018-11-05T08:23:57.973744Z"
    },
    "slideshow": {
     "slide_type": "subslide"
    }
   },
   "outputs": [
    {
     "data": {
      "text/html": [
       "<div>\n",
       "<style scoped>\n",
       "    .dataframe tbody tr th:only-of-type {\n",
       "        vertical-align: middle;\n",
       "    }\n",
       "\n",
       "    .dataframe tbody tr th {\n",
       "        vertical-align: top;\n",
       "    }\n",
       "\n",
       "    .dataframe thead th {\n",
       "        text-align: right;\n",
       "    }\n",
       "</style>\n",
       "<table border=\"1\" class=\"dataframe\">\n",
       "  <thead>\n",
       "    <tr style=\"text-align: right;\">\n",
       "      <th></th>\n",
       "      <th>names</th>\n",
       "      <th>num</th>\n",
       "      <th>scores</th>\n",
       "    </tr>\n",
       "  </thead>\n",
       "  <tbody>\n",
       "  </tbody>\n",
       "</table>\n",
       "</div>"
      ],
      "text/plain": [
       "Empty DataFrame\n",
       "Columns: [names, num, scores]\n",
       "Index: []"
      ]
     },
     "execution_count": 27,
     "metadata": {},
     "output_type": "execute_result"
    }
   ],
   "source": [
    "import pandas as pd\n",
    "df = pd.DataFrame(res)\n",
    "df.head()"
   ]
  },
  {
   "cell_type": "code",
   "execution_count": 28,
   "metadata": {
    "ExecuteTime": {
     "end_time": "2018-11-05T08:23:58.873795Z",
     "start_time": "2018-11-05T08:23:58.856794Z"
    },
    "slideshow": {
     "slide_type": "subslide"
    }
   },
   "outputs": [
    {
     "name": "stdout",
     "output_type": "stream",
     "text": [
      "\n"
     ]
    }
   ],
   "source": [
    "%%R -i df -w 500 -h 300 \n",
    "library(ggplot2)\n",
    "p = ggplot(df,aes(x = num, y = scores)) + geom_point(size=4,alpha=0.5) + stat_smooth()\n",
    "print(p)"
   ]
  },
  {
   "cell_type": "markdown",
   "metadata": {
    "slideshow": {
     "slide_type": "subslide"
    }
   },
   "source": [
    "**Thank You!**"
   ]
  },
  {
   "cell_type": "code",
   "execution_count": 29,
   "metadata": {
    "ExecuteTime": {
     "end_time": "2018-11-05T08:24:06.608238Z",
     "start_time": "2018-11-05T08:24:02.078978Z"
    },
    "slideshow": {
     "slide_type": "skip"
    }
   },
   "outputs": [
    {
     "name": "stderr",
     "output_type": "stream",
     "text": [
      "[TerminalIPythonApp] WARNING | Subcommand `ipython nbconvert` is deprecated and will be removed in future versions.\n",
      "[TerminalIPythonApp] WARNING | You likely want to use `jupyter nbconvert` in the future\n",
      "[NbConvertApp] Converting notebook r_and_python.ipynb to slides\n",
      "[NbConvertApp] Writing 446468 bytes to r_and_python.slides.html\n",
      "[NbConvertApp] Redirecting reveal.js requests to https://cdnjs.cloudflare.com/ajax/libs/reveal.js/3.5.0\n",
      "Traceback (most recent call last):\n",
      "  File \"D:\\software\\conda\\Scripts\\ipython-script.py\", line 10, in <module>\n",
      "    sys.exit(start_ipython())\n",
      "  File \"D:\\software\\conda\\lib\\site-packages\\IPython\\__init__.py\", line 125, in start_ipython\n",
      "    return launch_new_instance(argv=argv, **kwargs)\n",
      "  File \"D:\\software\\conda\\lib\\site-packages\\traitlets\\config\\application.py\", line 658, in launch_instance\n",
      "    app.start()\n",
      "  File \"D:\\software\\conda\\lib\\site-packages\\IPython\\terminal\\ipapp.py\", line 352, in start\n",
      "    return self.subapp.start()\n",
      "  File \"D:\\software\\conda\\lib\\site-packages\\nbconvert\\nbconvertapp.py\", line 325, in start\n",
      "    self.convert_notebooks()\n",
      "  File \"D:\\software\\conda\\lib\\site-packages\\nbconvert\\nbconvertapp.py\", line 493, in convert_notebooks\n",
      "    self.convert_single_notebook(notebook_filename)\n",
      "  File \"D:\\software\\conda\\lib\\site-packages\\nbconvert\\nbconvertapp.py\", line 466, in convert_single_notebook\n",
      "    self.postprocess_single_notebook(write_results)\n",
      "  File \"D:\\software\\conda\\lib\\site-packages\\nbconvert\\nbconvertapp.py\", line 438, in postprocess_single_notebook\n",
      "    self.postprocessor(write_results)\n",
      "  File \"D:\\software\\conda\\lib\\site-packages\\nbconvert\\postprocessors\\base.py\", line 28, in __call__\n",
      "    self.postprocess(input)\n",
      "  File \"D:\\software\\conda\\lib\\site-packages\\nbconvert\\postprocessors\\serve.py\", line 95, in postprocess\n",
      "    http_server.listen(self.port, address=self.ip)\n",
      "  File \"C:\\Users\\Administrator\\AppData\\Roaming\\Python\\Python36\\site-packages\\tornado\\tcpserver.py\", line 126, in listen\n",
      "    sockets = bind_sockets(port, address=address)\n",
      "  File \"C:\\Users\\Administrator\\AppData\\Roaming\\Python\\Python36\\site-packages\\tornado\\netutil.py\", line 187, in bind_sockets\n",
      "    sock.bind(sockaddr)\n",
      "OSError: [WinError 10013] 以一种访问权限不允许的方式做了一个访问套接字的尝试。\n",
      "\n",
      "If you suspect this is an IPython bug, please report it at:\n",
      "    https://github.com/ipython/ipython/issues\n",
      "or send an email to the mailing list at ipython-dev@python.org\n",
      "\n",
      "You can print a more detailed traceback right now with \"%tb\", or use \"%debug\"\n",
      "to interactively debug it.\n",
      "\n",
      "Extra-detailed tracebacks for bug-reporting purposes can be enabled via:\n",
      "    c.Application.verbose_crash=True\n",
      "\n"
     ]
    }
   ],
   "source": [
    "!ipython nbconvert r_and_python.ipynb --to slides --post serve"
   ]
  },
  {
   "cell_type": "code",
   "execution_count": null,
   "metadata": {
    "collapsed": true
   },
   "outputs": [],
   "source": []
  }
 ],
 "metadata": {
  "celltoolbar": "Slideshow",
  "kernelspec": {
   "display_name": "Python 3",
   "language": "python",
   "name": "python3"
  },
  "language_info": {
   "codemirror_mode": {
    "name": "ipython",
    "version": 3
   },
   "file_extension": ".py",
   "mimetype": "text/x-python",
   "name": "python",
   "nbconvert_exporter": "python",
   "pygments_lexer": "ipython3",
   "version": "3.6.3"
  },
  "toc": {
   "nav_menu": {},
   "number_sections": true,
   "sideBar": true,
   "skip_h1_title": false,
   "title_cell": "Table of Contents",
   "title_sidebar": "Contents",
   "toc_cell": false,
   "toc_position": {},
   "toc_section_display": true,
   "toc_window_display": true
  },
  "varInspector": {
   "cols": {
    "lenName": 16,
    "lenType": 16,
    "lenVar": 40
   },
   "kernels_config": {
    "python": {
     "delete_cmd_postfix": "",
     "delete_cmd_prefix": "del ",
     "library": "var_list.py",
     "varRefreshCmd": "print(var_dic_list())"
    },
    "r": {
     "delete_cmd_postfix": ") ",
     "delete_cmd_prefix": "rm(",
     "library": "var_list.r",
     "varRefreshCmd": "cat(var_dic_list()) "
    }
   },
   "types_to_exclude": [
    "module",
    "function",
    "builtin_function_or_method",
    "instance",
    "_Feature"
   ],
   "window_display": false
  }
 },
 "nbformat": 4,
 "nbformat_minor": 1
}
