{
 "cells": [
  {
   "cell_type": "markdown",
   "metadata": {},
   "source": [
    "- 系统信息：包括CPU、GPU、内存、硬盘等"
   ]
  },
  {
   "cell_type": "markdown",
   "metadata": {},
   "source": [
    "# 基本设置"
   ]
  },
  {
   "cell_type": "code",
   "execution_count": 67,
   "metadata": {
    "ExecuteTime": {
     "end_time": "2019-01-03T10:02:20.945173Z",
     "start_time": "2019-01-03T10:02:20.935172Z"
    }
   },
   "outputs": [],
   "source": [
    "import psutil\n",
    "import pynvml\n",
    "import time\n",
    "import datetime\n",
    "import os\n",
    "\n",
    "def getProcess(pName):\n",
    "    # 获取当前系统所有进程id列表\n",
    "    all_pids  = psutil.pids()\n",
    "\n",
    "    # 遍历所有进程，名称匹配的加入process_lst\n",
    "    process_lst = []\n",
    "    for pid in all_pids:\n",
    "        p = psutil.Process(pid)\n",
    "        if (p.name() == pName):\n",
    "            process_lst.append(p)\n",
    "\n",
    "    return process_lst"
   ]
  },
  {
   "cell_type": "markdown",
   "metadata": {},
   "source": [
    "# CPU/GPU/Memory"
   ]
  },
  {
   "cell_type": "markdown",
   "metadata": {},
   "source": [
    "## 总体"
   ]
  },
  {
   "cell_type": "code",
   "execution_count": 14,
   "metadata": {
    "ExecuteTime": {
     "end_time": "2019-01-03T09:31:04.402841Z",
     "start_time": "2019-01-03T09:31:04.223830Z"
    },
    "scrolled": true
   },
   "outputs": [
    {
     "name": "stdout",
     "output_type": "stream",
     "text": [
      "USER         PID %MEM     VSZ     RSS TTY           START    TIME  COMMAND\n",
      "SYSTEM         0    ?       ?      24 ?             10:19   08:43  System Idle Process\n",
      "SYSTEM         4    ?     232    1084 ?             10:19   10:32  System\n",
      "             164  0.1   11884   10656 ?             10:19   00:10  svchost.exe\n",
      "             392    ?     548      76 ?             10:19   00:00  smss.exe\n",
      "             632    ?    2480    1584 ?             10:19   00:01  csrss.exe\n",
      "             644  0.1    5264    4576 ?             10:19   00:07  NVDisplay.Container.exe\n",
      "             664  0.1   24828   10100 ?             10:19   00:28  svchost.exe\n",
      "             712    ?    2184      80 ?             10:19   00:00  wininit.exe\n",
      "             736  0.9    4128   73864 ?             10:19   00:36  csrss.exe\n",
      "             740  2.6  236088  212728 ?             10:19   06:40  svchost.exe\n",
      "             780  0.1    8400    6680 ?             10:19   42:15  services.exe\n",
      "             812    ?    3600      88 ?             10:19   00:00  winlogon.exe\n",
      "             840  0.1    4600    5516 ?             10:19   00:23  lsass.exe\n",
      "             848    ?    2820    1684 ?             10:19   00:00  lsm.exe\n",
      "             892  0.3   26156   21292 ?             10:19   01:56  svchost.exe\n",
      "             952  0.1    5076    4212 ?             10:19   00:40  svchost.exe\n",
      "Administra  1112    ?   11828    3952 ?             10:22   00:00  wdswfsafe.exe\n",
      "Administra  1116  0.5   20584   42632 ?             16:52   00:02  Xshell.exe\n",
      "            1124    ?    3500    3844 ?             10:19   00:01  svchost.exe\n",
      "            1160  0.1    9508    9584 ?             10:19   00:12  svchost.exe\n",
      "            1312  0.1   18640    8196 ?             10:19   00:03  QQProtect.exe\n",
      "            1352  0.1   20988    5528 ?             10:19   00:15  ZhuDongFangYu.exe\n",
      "            1376  0.1   16348    6796 ?             10:19   00:19  svchost.exe\n",
      "            1552    ?    4924     156 ?             10:19   00:01  httpd.exe\n",
      "            1608    ?    7244    1956 ?             10:19   00:01  spoolsv.exe\n",
      "            1636  0.1    9860    4820 ?             10:19   00:10  svchost.exe\n",
      "Administra  1760    ?   35100     768 ?             10:22   00:07  WeChatWeb.exe\n",
      "            1768    ?    3292    1288 ?             10:19   00:02  httpd.exe\n",
      "            1940    ?    2256    1432 ?             10:19   00:01  svchost.exe\n",
      "            1972    ?    2784    3112 ?             10:19   00:03  FNPLicensingService.exe\n",
      "            2012    ?    4624    1536 ?             10:19   00:01  svchost.exe\n",
      "            2212  0.1   11916    7804 ?             10:19   00:02  nvxdsync.exe\n",
      "            2412  0.2   12176   12836 ?             10:19   08:29  WmiPrvSE.exe\n",
      "            2456    ?    1704    1200 ?             10:24   00:02  alg.exe\n",
      "            2860    ?    2184    1236 ?             10:19   00:01  svchost.exe\n",
      "Administra  2992    ?   14888    3216 ?             10:25   00:05  DocToPDF.exe\n",
      "            3068    ?    2224    1204 ?             10:19   00:00  svchost.exe\n",
      "Administra  3080    ?    9312    2400 ?             10:21   00:02  TSVNCache.exe\n",
      "Administra  3100    ?   19616    1212 ?             10:24   00:00  WeChatWeb.exe\n",
      "Administra  3176  0.1    9072    4304 ?             10:21   00:00  360bdoctor.exe\n",
      "Administra  3368  0.1   13408    6380 ?             10:20   00:10  taskhost.exe\n",
      "Administra  3396    ?    9768     984 ?             10:20   00:00  taskeng.exe\n",
      "Administra  3432  0.6   32844   48152 ?             10:20   05:22  dwm.exe\n",
      "Administra  3504  0.1   48836   11568 ?             10:20   02:01  360AP.exe\n",
      "Administra  3512  0.7   89896   57832 ?             10:20   04:41  explorer.exe\n",
      "Administra  3608  1.3  154356  108888 ?             10:23   10:21  DingTalkHelper.exe\n",
      "Administra  3728  0.1   26692    8956 ?             10:21   00:06  MySQLNotifier.exe\n",
      "Administra  3764  0.7  174884   58676 ?             10:21   02:49  360tray.exe\n",
      "Administra  3788    ?    2396      72 ?             10:33   00:00  cmd.exe\n",
      "Administra  3820    ?    7560    1040 ?             10:21   00:02  iusb3mon.exe\n",
      "            3944  0.1   23512    7092 ?             10:21   00:11  SearchIndexer.exe\n",
      "Administra  4276  0.7   86168   56184 ?             10:21   28:52  YoudaoNote.exe\n",
      "Administra  4512  0.9   77540   70752 ?             10:25   00:31  YNoteCefRender.exe\n",
      "Administra  4600  1.0   71944   82384 ?             17:24   00:04  python.exe\n",
      "Administra  4940  0.4   81316   32040 ?             10:21   00:45  WeChat.exe\n",
      "Administra  4984  0.8  105552   70188 ?             10:21   01:48  DingTalk.exe\n",
      "Administra  5164  0.2   10716   18876 ?             16:59   00:05  SogouCloud.exe\n",
      "Administra  5536  0.1   34096   12248 ?             10:22   00:07  YNoteCefRender.exe\n",
      "Administra  6000    ?  232700    2800 ?             10:34   00:06  pythonw.exe\n",
      "Administra  6192  0.3   37788   22020 ?             10:24   00:36  360se.exe\n",
      "Administra  6548    ?   25544    1728 ?             10:24   00:00  360se.exe\n",
      "Administra  6624  1.6  117328  129856 ?             10:24   05:18  360se.exe\n",
      "            6908  0.1    3480    4668 ?             15:12   00:00  svchost.exe\n",
      "Administra  7080  0.5   41528   41700 ?             17:24   00:00  firefox.exe\n",
      "Administra  7088  0.3  382216   26220 ?             10:33   01:16  python.exe\n",
      "Administra  7380  1.2  104440  101056 ?             10:32   03:47  360se.exe\n",
      "Administra  7964    ?    6436     984 ?             10:24   00:05  360AP.exe\n",
      "Administra  8128    ?    2072      72 ?             10:33   00:00  spyder.exe\n",
      "Administra  8180    ?   12020     536 ?             10:24   00:01  360AP.exe\n",
      "Administra  8748  0.9   51640   77620 ?             16:48   00:07  360se.exe\n",
      "Administra  8892    ?   11864    1232 ?             10:33   00:00  conhost.exe\n",
      "Administra 10876  0.4   33428   33300 ?             17:26   00:00  360se.exe\n",
      "Administra 13516  0.6   35412   53252 ?             16:52   02:57  Xftp.exe\n",
      "Administra 14184  1.5   31492  122700 ?             17:16   00:20  firefox.exe\n",
      "Administra 14764  1.0   71108   86432 ?             17:16   00:02  firefox.exe\n",
      "Administra 15112  3.8  220352  310972 ?             17:16   01:15  firefox.exe\n",
      "Administra 15984    ?    2412    4128 ?             17:24   00:00  cmd.exe\n",
      "Administra 16000  0.1   40720   10024 ?             14:51   00:37  sublime_text.exe\n",
      "Administra 16120    ?   30432    3264 ?             14:51   00:02  plugin_host.exe\n",
      "Administra 16556  1.8  115476  151420 ?             17:16   01:31  firefox.exe\n",
      "Administra 16652  3.7  189016  302600 ?             17:16   00:52  firefox.exe\n",
      "Administra 19916  0.4   11440   31288 ?             17:23   00:00  conhost.exe\n",
      "Administra 20264    ?    2396    4072 ?             17:23   00:00  cmd.exe\n",
      "           20332  0.2   19184   18280 ?             17:23   00:00  audiodg.exe\n",
      "Administra 21136  0.1    2072    5072 ?             17:23   00:00  conda.exe\n",
      "Administra 21140  0.3   11284   27120 ?             17:24   00:00  conhost.exe\n",
      "Administra 21160  0.2    9196   14228 ?             17:23   00:00  python.exe\n",
      "Administra 21176  1.0   72968   86612 ?             17:23   00:06  python.exe\n",
      "Administra 21236  0.6   24044   45748 ?             16:52   00:05  XshellCore.exe\n",
      "Administra 21432  0.9   57868   70524 ?             17:08   00:02  360se.exe\n",
      "Administra 21452  0.1    2072    5104 ?             17:23   00:00  jupyter-notebook.exe\n"
     ]
    }
   ],
   "source": [
    "psutil.test() "
   ]
  },
  {
   "cell_type": "markdown",
   "metadata": {},
   "source": [
    "### 用户"
   ]
  },
  {
   "cell_type": "code",
   "execution_count": 12,
   "metadata": {
    "ExecuteTime": {
     "end_time": "2019-01-03T09:30:11.209798Z",
     "start_time": "2019-01-03T09:30:11.182797Z"
    }
   },
   "outputs": [
    {
     "name": "stdout",
     "output_type": "stream",
     "text": [
      "开机时间:  2019-01-03 10: 19: 28\n",
      "用户数:  1\n",
      "suser(name='Administrator', terminal=None, host='0.0.0.0', started=1546481985.0, pid=None)\n"
     ]
    }
   ],
   "source": [
    "print('开机时间: ', datetime.datetime.fromtimestamp(psutil.boot_time ()).strftime(\"%Y-%m-%d %H: %M: %S\"))\n",
    "users_count = len(psutil.users())\n",
    "print('用户数: ', users_count)\n",
    "for u in psutil.users():print(u)"
   ]
  },
  {
   "cell_type": "markdown",
   "metadata": {},
   "source": [
    "### GPU"
   ]
  },
  {
   "cell_type": "code",
   "execution_count": 11,
   "metadata": {
    "ExecuteTime": {
     "end_time": "2019-01-03T09:29:41.007071Z",
     "start_time": "2019-01-03T09:29:40.904065Z"
    }
   },
   "outputs": [
    {
     "name": "stdout",
     "output_type": "stream",
     "text": [
      "显示驱动信息: \n",
      "Driver:  b'376.54'\n",
      "--------------\n",
      "设备信息: \n",
      "  共 1 块 GPU，名称为：\n",
      "    GPU 0 : b'GeForce 800M'\n",
      "--------------\n",
      "查看第 0 块GPU的显存、温度、风扇、电源: \n",
      "Memory Total: 2.00 G\n",
      "Memory Free: 1.95 G \n",
      "Memory Used: 0.05 G \n",
      "Memory Used percent: 2.36 % \n",
      "Temperature is 43 C\n"
     ]
    }
   ],
   "source": [
    "pynvml.nvmlInit()\n",
    "print('显示驱动信息: ')\n",
    "print(\"Driver: \", pynvml.nvmlSystemGetDriverVersion()) \n",
    "print('--------------')\n",
    "print('设备信息: ')\n",
    "deviceCount = pynvml.nvmlDeviceGetCount()\n",
    "print('  共 %s 块 GPU，名称为：'%deviceCount)\n",
    "for i in range(deviceCount):\n",
    "    handle = pynvml.nvmlDeviceGetHandleByIndex(i)\n",
    "    print(\"    GPU\", i, \":\", pynvml.nvmlDeviceGetName(handle))\n",
    "print('--------------')\n",
    "for i in range(deviceCount):\n",
    "    print('查看第 %s 块GPU的显存、温度、风扇、电源: '%i)\n",
    "    handle = pynvml.nvmlDeviceGetHandleByIndex(i)\n",
    "    info = pynvml.nvmlDeviceGetMemoryInfo(handle)\n",
    "    print(\"Memory Total: %0.2f G\"%(info.total/1024/1024/1024)) # 总的显存大小\n",
    "    print(\"Memory Free: %0.2f G \"%(info.free/1024/1024/1024)) # 剩余显存大小\n",
    "    print(\"Memory Used: %0.2f G \"%(info.used/1024/1024/1024)) \n",
    "    print(\"Memory Used percent: %0.2f %% \"%(info.used/info.total*100))\n",
    "    print(\"Temperature is %d C\"%(pynvml.nvmlDeviceGetTemperature(handle,0)))\n",
    "    try :\n",
    "        print(\"Fan speed is \",pynvml.nvmlDeviceGetFanSpeed(handle))\n",
    "    except :\n",
    "        continue\n",
    "    print(\"Power ststus\",pynvml.nvmlDeviceGetPowerState(handle))\n",
    "    print('--------------')\n",
    "\n",
    "#最后要关闭管理工具\n",
    "pynvml.nvmlShutdown()"
   ]
  },
  {
   "cell_type": "markdown",
   "metadata": {},
   "source": [
    "### CPU "
   ]
  },
  {
   "cell_type": "code",
   "execution_count": 13,
   "metadata": {
    "ExecuteTime": {
     "end_time": "2019-01-03T09:30:30.132881Z",
     "start_time": "2019-01-03T09:30:28.104765Z"
    }
   },
   "outputs": [
    {
     "name": "stdout",
     "output_type": "stream",
     "text": [
      "CPU物理个数:  2\n",
      "CPU逻辑个数:  4\n",
      "系统的CPU利用率: \n",
      "18.3\n",
      "18.3\n"
     ]
    }
   ],
   "source": [
    "print('CPU物理个数: ', psutil.cpu_count(logical=False))\n",
    "print('CPU逻辑个数: ', psutil.cpu_count())\n",
    "print('系统的CPU利用率: ')\n",
    "print(psutil.cpu_percent(None))\n",
    "time.sleep(2) \n",
    "print(psutil.cpu_percent(None))"
   ]
  },
  {
   "cell_type": "markdown",
   "metadata": {},
   "source": [
    "### Memory"
   ]
  },
  {
   "cell_type": "code",
   "execution_count": 6,
   "metadata": {
    "ExecuteTime": {
     "end_time": "2019-01-03T09:27:45.366456Z",
     "start_time": "2019-01-03T09:27:45.352456Z"
    }
   },
   "outputs": [
    {
     "name": "stdout",
     "output_type": "stream",
     "text": [
      "内存利用率:  38.2\n",
      "Memory Total: 7.91 G\n",
      "Memory Free: 4.88 G \n",
      "Memory Used: 3.02 G \n",
      "Memory Used percent: 38.23 % \n",
      "--------------\n",
      "Memory Used percent: 38.20 % \n"
     ]
    }
   ],
   "source": [
    "memory = psutil.virtual_memory()\n",
    "# print('内存利用率: ', psutil.virtual_memory().percent)\n",
    "print(\"Memory Total: %0.2f G\"%(memory.total/1024/1024/1024)) # 总的内存大小\n",
    "print(\"Memory Free: %0.2f G \"%(memory.free/1024/1024/1024)) # 剩余内存大小\n",
    "memory_used = memory.total - memory.free\n",
    "print(\"Memory Used: %0.2f G \"%(memory_used/1024/1024/1024)) \n",
    "print(\"Memory Used percent: %0.2f %% \"%(memory_used/memory.total * 100))\n",
    "print('--------------')\n",
    "print(\"Memory Used percent: %0.2f %% \"%(memory.percent))"
   ]
  },
  {
   "cell_type": "markdown",
   "metadata": {
    "ExecuteTime": {
     "end_time": "2019-01-03T09:27:54.996007Z",
     "start_time": "2019-01-03T09:27:54.770994Z"
    }
   },
   "source": [
    "### 硬盘"
   ]
  },
  {
   "cell_type": "code",
   "execution_count": 31,
   "metadata": {
    "ExecuteTime": {
     "end_time": "2019-01-03T09:42:32.631205Z",
     "start_time": "2019-01-03T09:42:32.604204Z"
    }
   },
   "outputs": [
    {
     "name": "stdout",
     "output_type": "stream",
     "text": [
      "Disk Total: 320.00 G\n",
      "Disk Free: 48.11 G \n",
      "Disk Used: 271.89 G \n",
      "Disk Used percent: 84.96 % \n",
      "--------------\n",
      "Disk Used percent: 85.00 % \n"
     ]
    },
    {
     "data": {
      "text/plain": [
       "[sdiskpart(device='C:\\\\', mountpoint='C:\\\\', fstype='NTFS', opts='rw,fixed'),\n",
       " sdiskpart(device='D:\\\\', mountpoint='D:\\\\', fstype='NTFS', opts='rw,fixed'),\n",
       " sdiskpart(device='E:\\\\', mountpoint='E:\\\\', fstype='NTFS', opts='rw,fixed'),\n",
       " sdiskpart(device='F:\\\\', mountpoint='F:\\\\', fstype='NTFS', opts='rw,fixed'),\n",
       " sdiskpart(device='G:\\\\', mountpoint='G:\\\\', fstype='', opts='cdrom')]"
      ]
     },
     "execution_count": 31,
     "metadata": {},
     "output_type": "execute_result"
    }
   ],
   "source": [
    "# print('磁盘使用情况: ', psutil.disk_usage('/'))\n",
    "# disk = psutil.disk_usage('C:\\\\')\n",
    "disk = psutil.disk_usage('/') # 文件所在硬盘\n",
    "# print('硬盘利用率: ', disk.percent)\n",
    "print(\"Disk Total: %0.2f G\"%(disk.total/1024/1024/1024)) # 总的内存大小\n",
    "print(\"Disk Free: %0.2f G \"%(disk.free/1024/1024/1024)) # 剩余内存大小\n",
    "print(\"Disk Used: %0.2f G \"%(disk.used/1024/1024/1024)) \n",
    "print(\"Disk Used percent: %0.2f %% \"%(disk.used/disk.total  * 100))\n",
    "print('--------------')\n",
    "print(\"Disk Used percent: %0.2f %% \"%(disk.percent))\n",
    "\n",
    "psutil.disk_partitions()  # 磁盘分配"
   ]
  },
  {
   "cell_type": "code",
   "execution_count": 32,
   "metadata": {
    "ExecuteTime": {
     "end_time": "2019-01-03T09:43:17.800789Z",
     "start_time": "2019-01-03T09:43:17.781788Z"
    }
   },
   "outputs": [
    {
     "name": "stdout",
     "output_type": "stream",
     "text": [
      "磁盘读写计数器:  sdiskio(read_count=1100169, write_count=742644, read_bytes=29648849920, write_bytes=25966551552, read_time=35321, write_time=1851)\n"
     ]
    },
    {
     "data": {
      "text/plain": [
       "{'PhysicalDrive0': sdiskio(read_count=1100169, write_count=742644, read_bytes=29648849920, write_bytes=25966551552, read_time=35321, write_time=1851)}"
      ]
     },
     "execution_count": 32,
     "metadata": {},
     "output_type": "execute_result"
    }
   ],
   "source": [
    "# read_count：读取次数\n",
    "# write_count：写入次数\n",
    "# read_bytes：读取的字节数\n",
    "# write_bytes：写入的字节数\n",
    "# read_time(磁盘读时间)\n",
    "# write_time(磁盘写时间)\n",
    "print('磁盘读写计数器: ', psutil.disk_io_counters())\n",
    "# perdisk=True参数获取单个分区IO个数    \n",
    "psutil.disk_io_counters(perdisk=True) "
   ]
  },
  {
   "cell_type": "markdown",
   "metadata": {},
   "source": [
    "### 网络"
   ]
  },
  {
   "cell_type": "code",
   "execution_count": 53,
   "metadata": {
    "ExecuteTime": {
     "end_time": "2019-01-03T09:52:59.538062Z",
     "start_time": "2019-01-03T09:52:59.434056Z"
    }
   },
   "outputs": [
    {
     "name": "stdout",
     "output_type": "stream",
     "text": [
      "网络接口状态:\n",
      "  --  1  本地连接\n",
      "snicstats(isup=True, duplex=<NicDuplex.NIC_DUPLEX_FULL: 2>, speed=100, mtu=1500)\n",
      "  --  2  Loopback Pseudo-Interface 1\n",
      "snicstats(isup=True, duplex=<NicDuplex.NIC_DUPLEX_FULL: 2>, speed=1073, mtu=1500)\n",
      "  --  3  无线网络连接\n",
      "snicstats(isup=False, duplex=<NicDuplex.NIC_DUPLEX_FULL: 2>, speed=0, mtu=1500)\n",
      "  --  4  无线网络连接 2\n",
      "snicstats(isup=True, duplex=<NicDuplex.NIC_DUPLEX_FULL: 2>, speed=108, mtu=1500)\n",
      "  --  5  Teredo Tunneling Pseudo-Interface\n",
      "snicstats(isup=False, duplex=<NicDuplex.NIC_DUPLEX_FULL: 2>, speed=0, mtu=1472)\n",
      "  --  6  isatap.{C1681DE1-CFC3-4754-AF17-CE0B49D14586}\n",
      "snicstats(isup=False, duplex=<NicDuplex.NIC_DUPLEX_FULL: 2>, speed=0, mtu=1280)\n",
      "  --  7  isatap.{A1CFE103-A39F-426A-A2ED-FE2802200374}\n",
      "snicstats(isup=False, duplex=<NicDuplex.NIC_DUPLEX_FULL: 2>, speed=0, mtu=1280)\n",
      "\n",
      "网卡信息: \n",
      "  --  1  Bluetooth 网络连接 2\n",
      "[snic(family=<AddressFamily.AF_LINK: -1>, address='D0-53-49-AD-FC-67', netmask=None, broadcast=None, ptp=None), snic(family=<AddressFamily.AF_INET: 2>, address='169.254.234.207', netmask='255.255.0.0', broadcast=None, ptp=None), snic(family=<AddressFamily.AF_INET6: 23>, address='fe80::ed55:13ad:af25:eacf', netmask=None, broadcast=None, ptp=None)]\n",
      "  --  2  无线网络连接 2\n",
      "[snic(family=<AddressFamily.AF_LINK: -1>, address='22-53-49-AD-BF-F9', netmask=None, broadcast=None, ptp=None), snic(family=<AddressFamily.AF_INET: 2>, address='172.27.35.1', netmask='255.255.0.0', broadcast=None, ptp=None), snic(family=<AddressFamily.AF_INET6: 23>, address='fe80::5896:76df:d4d0:b9b4', netmask=None, broadcast=None, ptp=None)]\n",
      "  --  3  本地连接\n",
      "[snic(family=<AddressFamily.AF_LINK: -1>, address='F0-76-1C-68-19-1A', netmask=None, broadcast=None, ptp=None), snic(family=<AddressFamily.AF_INET: 2>, address='192.168.0.104', netmask='255.255.255.0', broadcast=None, ptp=None)]\n",
      "  --  4  无线网络连接\n",
      "[snic(family=<AddressFamily.AF_LINK: -1>, address='D0-53-49-AD-BF-F9', netmask=None, broadcast=None, ptp=None), snic(family=<AddressFamily.AF_INET: 2>, address='169.254.250.40', netmask='255.255.0.0', broadcast=None, ptp=None), snic(family=<AddressFamily.AF_INET6: 23>, address='fe80::4d29:c755:385:fa28', netmask=None, broadcast=None, ptp=None)]\n",
      "  --  5  Teredo Tunneling Pseudo-Interface\n",
      "[snic(family=<AddressFamily.AF_LINK: -1>, address='00-00-00-00-00-00-00-E0', netmask=None, broadcast=None, ptp=None), snic(family=<AddressFamily.AF_INET6: 23>, address='fe80::100:7f:fffe', netmask=None, broadcast=None, ptp=None)]\n",
      "  --  6  isatap.{C1681DE1-CFC3-4754-AF17-CE0B49D14586}\n",
      "[snic(family=<AddressFamily.AF_LINK: -1>, address='00-00-00-00-00-00-00-E0', netmask=None, broadcast=None, ptp=None), snic(family=<AddressFamily.AF_INET6: 23>, address='fe80::5efe:172.27.35.1', netmask=None, broadcast=None, ptp=None)]\n",
      "  --  7  isatap.{A1CFE103-A39F-426A-A2ED-FE2802200374}\n",
      "[snic(family=<AddressFamily.AF_LINK: -1>, address='00-00-00-00-00-00-00-E0', netmask=None, broadcast=None, ptp=None), snic(family=<AddressFamily.AF_INET6: 23>, address='fe80::5efe:192.168.0.104', netmask=None, broadcast=None, ptp=None)]\n",
      "  --  8  Loopback Pseudo-Interface 1\n",
      "[snic(family=<AddressFamily.AF_INET: 2>, address='127.0.0.1', netmask='255.0.0.0', broadcast=None, ptp=None), snic(family=<AddressFamily.AF_INET6: 23>, address='::1', netmask=None, broadcast=None, ptp=None)]\n"
     ]
    }
   ],
   "source": [
    "print('网络接口状态:')\n",
    "for index, key in enumerate(psutil.net_if_stats()):\n",
    "    print('  --  %s  %s'%(index +1, key))\n",
    "    print(psutil.net_if_stats()[key])\n",
    "print()\n",
    "print('网卡信息: ')\n",
    "for index, key in enumerate(psutil.net_if_addrs()):\n",
    "    print('  --  %s  %s'%(index +1, key))\n",
    "    print(psutil.net_if_addrs()[key])"
   ]
  },
  {
   "cell_type": "code",
   "execution_count": 37,
   "metadata": {
    "ExecuteTime": {
     "end_time": "2019-01-03T09:46:12.140760Z",
     "start_time": "2019-01-03T09:46:12.115759Z"
    }
   },
   "outputs": [
    {
     "name": "stdout",
     "output_type": "stream",
     "text": [
      "系统网络总的IO信息:  snetio(bytes_sent=6184629393, bytes_recv=268959246, packets_sent=4325018, packets_recv=2380188, errin=0, errout=0, dropin=0, dropout=0)\n"
     ]
    },
    {
     "data": {
      "text/plain": [
       "{'Bluetooth 网络连接 2': snetio(bytes_sent=0, bytes_recv=0, packets_sent=0, packets_recv=0, errin=0, errout=0, dropin=0, dropout=0),\n",
       " 'Loopback Pseudo-Interface 1': snetio(bytes_sent=0, bytes_recv=0, packets_sent=0, packets_recv=0, errin=0, errout=0, dropin=0, dropout=0),\n",
       " 'Teredo Tunneling Pseudo-Interface': snetio(bytes_sent=0, bytes_recv=0, packets_sent=0, packets_recv=0, errin=0, errout=0, dropin=0, dropout=0),\n",
       " 'isatap.{A1CFE103-A39F-426A-A2ED-FE2802200374}': snetio(bytes_sent=0, bytes_recv=0, packets_sent=0, packets_recv=0, errin=0, errout=0, dropin=0, dropout=0),\n",
       " 'isatap.{C1681DE1-CFC3-4754-AF17-CE0B49D14586}': snetio(bytes_sent=0, bytes_recv=0, packets_sent=0, packets_recv=0, errin=0, errout=0, dropin=0, dropout=0),\n",
       " '无线网络连接': snetio(bytes_sent=0, bytes_recv=0, packets_sent=0, packets_recv=0, errin=0, errout=0, dropin=0, dropout=0),\n",
       " '无线网络连接 2': snetio(bytes_sent=1067660, bytes_recv=448267, packets_sent=2117, packets_recv=2434, errin=0, errout=0, dropin=0, dropout=0),\n",
       " '本地连接': snetio(bytes_sent=6183561733, bytes_recv=268510979, packets_sent=4322901, packets_recv=2377754, errin=0, errout=0, dropin=0, dropout=0)}"
      ]
     },
     "execution_count": 37,
     "metadata": {},
     "output_type": "execute_result"
    }
   ],
   "source": [
    "# bytes_sent:发送的字节数\n",
    "# bytes_recv:收到的字节数\n",
    "# packets_sent:发送的数据包数量\n",
    "# packets_recv:收到的数据包shul\n",
    "# errin：接收时的错误数\n",
    "# errout:发送时的错误数\n",
    "# dropin:丢弃的传入数据包总数\n",
    "# dropout：丢弃的传出数据包总数\n",
    "print('系统网络总的IO信息: ', psutil.net_io_counters())\n",
    "# pernic=True时输出每个网络接口的信息\n",
    "psutil.net_io_counters(pernic = True)"
   ]
  },
  {
   "cell_type": "code",
   "execution_count": 82,
   "metadata": {
    "ExecuteTime": {
     "end_time": "2019-01-03T10:10:14.916282Z",
     "start_time": "2019-01-03T10:10:14.904282Z"
    }
   },
   "outputs": [
    {
     "name": "stdout",
     "output_type": "stream",
     "text": [
      "11\n"
     ]
    }
   ],
   "source": [
    "if not key.raddr: \n",
    "    print('11')"
   ]
  },
  {
   "cell_type": "code",
   "execution_count": 94,
   "metadata": {
    "ExecuteTime": {
     "end_time": "2019-01-03T10:19:53.428371Z",
     "start_time": "2019-01-03T10:19:53.397370Z"
    }
   },
   "outputs": [
    {
     "name": "stdout",
     "output_type": "stream",
     "text": [
      "当前网络连接信息:\n",
      "  --  15  ip :127.0.0.1  port :8888  status :LISTEN  pid :21176\n",
      "  **  33  laddr ip :::1  laddr port :56033  raddr ip :::1  raddr port :8888  status :TIME_WAIT  pid :0\n",
      "  **  64  laddr ip :192.168.0.104  laddr port :56015  raddr ip :192.168.30.220  raddr port :6006  status :ESTABLISHED  pid :15112\n",
      "  --  68  ip :::1  port :8888  status :ESTABLISHED  pid :21176\n",
      "  **  78  laddr ip :192.168.0.104  laddr port :56013  raddr ip :192.168.30.220  raddr port :6006  status :ESTABLISHED  pid :15112\n",
      "  **  80  laddr ip :192.168.0.104  laddr port :56014  raddr ip :192.168.30.220  raddr port :6006  status :ESTABLISHED  pid :15112\n",
      "  **  100  laddr ip :192.168.0.104  laddr port :56017  raddr ip :192.168.30.220  raddr port :6006  status :ESTABLISHED  pid :15112\n",
      "  **  104  laddr ip :::1  laddr port :54076  raddr ip :::1  raddr port :8888  status :ESTABLISHED  pid :15112\n",
      "  **  161  laddr ip :::1  laddr port :56040  raddr ip :::1  raddr port :8888  status :ESTABLISHED  pid :15112\n",
      "  --  217  ip :::1  port :8888  status :ESTABLISHED  pid :21176\n",
      "  **  227  laddr ip :192.168.0.104  laddr port :55768  raddr ip :192.168.30.220  raddr port :8097  status :ESTABLISHED  pid :15112\n",
      "  --  279  ip :::1  port :8888  status :LISTEN  pid :21176\n"
     ]
    }
   ],
   "source": [
    "print('当前网络连接信息:')\n",
    "for index, key in enumerate(psutil.net_connections(kind = 'inet')):\n",
    "    if key.laddr.port in [8888, 8097, 6006]:  # 本地\n",
    "        print('  --  %s  ip :%s  port :%s  status :%s  pid :%s'%(index +1, \n",
    "                                                                key.laddr.ip, \n",
    "                                                                key.laddr.port, \n",
    "                                                                key.status, \n",
    "                                                                key.pid))\n",
    "#         print(key)\n",
    "    if len(key.raddr) > 0: \n",
    "        if key.raddr.port in [8888, 8097, 6006]:  # 远程\n",
    "            print('  远程  %s  laddr ip :%s  laddr port :%s  raddr ip :%s  raddr port :%s  status :%s  pid :%s'%(index +1,\n",
    "                                                                                                               key.laddr.ip,\n",
    "                                                                                                               key.laddr.port,\n",
    "                                                                                                               key.raddr.ip,\n",
    "                                                                                                               key.raddr.port, \n",
    "                                                                                                               key.status,\n",
    "                                                                                                               key.pid))\n",
    "#             print(key)"
   ]
  },
  {
   "cell_type": "markdown",
   "metadata": {},
   "source": [
    "## 特定"
   ]
  },
  {
   "cell_type": "code",
   "execution_count": 8,
   "metadata": {
    "ExecuteTime": {
     "end_time": "2019-01-03T09:27:59.920289Z",
     "start_time": "2019-01-03T09:27:59.910288Z"
    }
   },
   "outputs": [],
   "source": [
    "all_pids  = psutil.pids() # 所有进程ID\n",
    "# process_lst = []\n",
    "# for pid in all_pids:\n",
    "#     p = psutil.Process(pid)\n",
    "#     process_lst.append(p)"
   ]
  },
  {
   "cell_type": "code",
   "execution_count": 73,
   "metadata": {
    "ExecuteTime": {
     "end_time": "2019-01-03T10:04:05.539155Z",
     "start_time": "2019-01-03T10:04:05.521154Z"
    }
   },
   "outputs": [
    {
     "name": "stdout",
     "output_type": "stream",
     "text": [
      "<bound method Process.create_time of <psutil.Process(pid=4600, name='python.exe') at 128974576>>\n"
     ]
    }
   ],
   "source": [
    "p = psutil.Process(os.getpid())\n",
    "print(p.create_time)\n",
    "# datetime.datetime.fromtimestamp(p.create_time).strftime(\"%Y-%m-%d %H:%M:%S\")"
   ]
  },
  {
   "cell_type": "code",
   "execution_count": 9,
   "metadata": {
    "ExecuteTime": {
     "end_time": "2019-01-03T09:28:00.878344Z",
     "start_time": "2019-01-03T09:28:00.542324Z"
    }
   },
   "outputs": [
    {
     "name": "stdout",
     "output_type": "stream",
     "text": [
      "进程名 System Idle Process   内存利用率 0.00028949537096901816 进程状态 running    创建时间 1546481968.0 \n",
      "进程名 System                内存利用率 0.013027291693605818 进程状态 running    创建时间 1546481968.0 \n",
      "进程名 smss.exe              内存利用率 0.0009167353414018909 进程状态 running    创建时间 1546481976.0 \n",
      "进程名 csrss.exe             内存利用率 0.019203192940944875 进程状态 running    创建时间 1546481980.0 \n",
      "进程名 wininit.exe           内存利用率 0.0009649845698967274 进程状态 running    创建时间 1546481981.0 \n",
      "进程名 csrss.exe             内存利用率 0.8988348776303067 进程状态 running    创建时间 1546481981.0 \n",
      "进程名 services.exe          内存利用率 0.0805279623578819 进程状态 running    创建时间 1546481981.0 \n",
      "进程名 winlogon.exe          内存利用率 0.0010614830268864002 进程状态 running    创建时间 1546481982.0 \n",
      "进程名 lsass.exe             内存利用率 0.06658393532287418 进程状态 running    创建时间 1546481982.0 \n",
      "进程名 lsm.exe               内存利用率 0.019685685225893236 进程状态 running    创建时间 1546481982.0 \n",
      "进程名 svchost.exe           内存利用率 0.05109593297603171 进程状态 running    创建时间 1546481983.0 \n",
      "进程名 svchost.exe           内存利用率 0.12839119702475957 进程状态 running    创建时间 1546481983.0 \n",
      "进程名 svchost.exe           内存利用率 0.12211879732043085 进程状态 running    创建时间 1546481983.0 \n",
      "进程名 svchost.exe           内存利用率 2.5625165253607594 进程状态 running    创建时间 1546481983.0 \n",
      "进程名 svchost.exe           内存利用率 0.25842286781834356 进程状态 running    创建时间 1546481983.0 \n",
      "进程名 svchost.exe           内存利用率 0.04636750858353775 进程状态 running    创建时间 1546481983.0 \n",
      "进程名 svchost.exe           内存利用率 0.11546040378814344 进程状态 running    创建时间 1546481983.0 \n",
      "进程名 ZhuDongFangYu.exe     内存利用率 0.06668043377986385 进程状态 running    创建时间 1546481985.0 \n",
      "进程名 svchost.exe           内存利用率 0.08192718998423215 进程状态 running    创建时间 1546481985.0 \n",
      "进程名 spoolsv.exe           内存利用率 0.02340087581999564 进程状态 running    创建时间 1546481986.0 \n",
      "进程名 svchost.exe           内存利用率 0.058236818793267496 进程状态 running    创建时间 1546481987.0 \n",
      "进程名 httpd.exe             内存利用率 0.015488002346842476 进程状态 running    创建时间 1546481987.0 \n",
      "进程名 FNPLicensingService.exe  内存利用率 0.03758614899747753 进程状态 running    创建时间 1546481990.0 \n",
      "进程名 svchost.exe           内存利用率 0.018527703742017163 进程状态 running    创建时间 1546481990.0 \n",
      "进程名 httpd.exe             内存利用率 0.0018817199112986182 进程状态 running    创建时间 1546481991.0 \n",
      "进程名 NVDisplay.Container.exe  内存利用率 0.055197117398092806 进程状态 running    创建时间 1546481991.0 \n",
      "进程名 QQProtect.exe         内存利用率 0.09862142304344554 进程状态 running    创建时间 1546481991.0 \n",
      "进程名 svchost.exe           内存利用率 0.017224974572656582 进程状态 running    创建时间 1546481991.0 \n",
      "进程名 nvxdsync.exe          内存利用率 0.09408599556493091 进程状态 running    创建时间 1546481992.0 \n",
      "进程名 WmiPrvSE.exe          内存利用率 0.1540115373555177 进程状态 running    创建时间 1546481992.0 \n",
      "进程名 svchost.exe           内存利用率 0.014716014690925093 进程状态 running    创建时间 1546481997.0 \n",
      "进程名 svchost.exe           内存利用率 0.014571267005440583 进程状态 running    创建时间 1546481998.0 \n",
      "进程名 taskhost.exe          内存利用率 0.07690927022076917 进程状态 running    创建时间 1546482055.0 \n",
      "进程名 taskeng.exe           内存利用率 0.011869310209729747 进程状态 running    创建时间 1546482055.0 \n",
      "进程名 dwm.exe               内存利用率 0.5806794649353557 进程状态 running    创建时间 1546482055.0 \n",
      "进程名 360AP.exe             内存利用率 0.16472286608137135 进程状态 running    创建时间 1546482055.0 \n",
      "进程名 explorer.exe          内存利用率 0.6943546472691902 进程状态 running    创建时间 1546482056.0 \n",
      "进程名 MySQLNotifier.exe     内存利用率 0.10735453340101092 进程状态 running    创建时间 1546482060.0 \n",
      "进程名 360tray.exe           内存利用率 0.7000963054600757 进程状态 running    创建时间 1546482061.0 \n",
      "进程名 iusb3mon.exe          内存利用率 0.012544799408657456 进程状态 running    创建时间 1546482061.0 \n",
      "进程名 SearchIndexer.exe     内存利用率 0.08564238057833455 进程状态 running    创建时间 1546482062.0 \n",
      "进程名 TSVNCache.exe         内存利用率 0.029287281696365672 进程状态 running    创建时间 1546482063.0 \n",
      "进程名 360bdoctor.exe        内存利用率 0.051916169860443936 进程状态 running    创建时间 1546482064.0 \n",
      "进程名 WeChat.exe            内存利用率 0.3867658156146083 进程状态 running    创建时间 1546482097.0 \n",
      "进程名 DingTalk.exe          内存利用率 0.8470152062268523 进程状态 running    创建时间 1546482098.0 \n",
      "进程名 YoudaoNote.exe        内存利用率 0.6778051618954613 进程状态 running    创建时间 1546482105.0 \n",
      "进程名 WeChatWeb.exe         内存利用率 0.009263851871008581 进程状态 running    创建时间 1546482129.0 \n",
      "进程名 wdswfsafe.exe         内存利用率 0.04767023775289833 进程状态 running    创建时间 1546482129.0 \n",
      "进程名 YNoteCefRender.exe    内存利用率 0.14773913765118896 进程状态 running    创建时间 1546482141.0 \n",
      "进程名 DingTalkHelper.exe    内存利用率 1.3081330829520037 进程状态 running    创建时间 1546482225.0 \n",
      "进程名 360se.exe             内存利用率 1.566314704627873  进程状态 running    创建时间 1546482262.0 \n",
      "进程名 WeChatWeb.exe         内存利用率 0.01461951623393542 进程状态 running    创建时间 1546482267.0 \n",
      "进程名 360se.exe             内存利用率 0.26315129221083755 进程状态 running    创建时间 1546482268.0 \n",
      "进程名 360se.exe             内存利用率 0.02084366670976931 进程状态 running    创建时间 1546482273.0 \n",
      "进程名 alg.exe               内存利用率 0.01447476854845091 进程状态 running    创建时间 1546482274.0 \n",
      "进程名 360AP.exe             内存利用率 0.01635648845974953 进程状态 running    创建时间 1546482292.0 \n",
      "进程名 360AP.exe             内存利用率 0.007333882731215127 进程状态 running    创建时间 1546482296.0 \n",
      "进程名 DocToPDF.exe          内存利用率 0.03879237970984844 进程状态 running    创建时间 1546482310.0 \n",
      "进程名 YNoteCefRender.exe    内存利用率 0.8525638675037587 进程状态 running    创建时间 1546482317.0 \n",
      "进程名 360se.exe             内存利用率 1.4939408618856185 进程状态 running    创建时间 1546482775.0 \n",
      "进程名 cmd.exe               内存利用率 0.0008684861129070546 进程状态 running    创建时间 1546482827.0 \n",
      "进程名 conhost.exe           内存利用率 0.014860762376409603 进程状态 running    创建时间 1546482828.0 \n",
      "进程名 spyder.exe            内存利用率 0.0008684861129070546 进程状态 running    创建时间 1546482832.0 \n",
      "进程名 python.exe            内存利用率 0.31569470204171435 进程状态 running    创建时间 1546482832.0 \n",
      "进程名 pythonw.exe           内存利用率 0.03377445994638546 进程状态 running    创建时间 1546482845.0 \n",
      "进程名 sublime_text.exe      内存利用率 0.12091256660805995 进程状态 running    创建时间 1546498297.0 \n",
      "进程名 plugin_host.exe       内存利用率 0.03937137045178647 进程状态 running    创建时间 1546498298.0 \n",
      "进程名 svchost.exe           内存利用率 0.05606560351099985 进程状态 running    创建时间 1546499525.0 \n",
      "进程名 360se.exe             内存利用率 0.9174108306008186 进程状态 running    创建时间 1546505338.0 \n",
      "进程名 Xshell.exe            内存利用率 0.5142402772979661 进程状态 running    创建时间 1546505542.0 \n",
      "进程名 XshellCore.exe        内存利用率 0.5518264262954435 进程状态 running    创建时间 1546505555.0 \n",
      "进程名 Xftp.exe              内存利用率 0.64277622200821   进程状态 running    创建时间 1546505569.0 \n",
      "进程名 SogouCloud.exe        内存利用率 0.2242624140439994 进程状态 running    创建时间 1546505995.0 \n",
      "进程名 360se.exe             内存利用率 0.8154119615627345 进程状态 running    创建时间 1546506523.0 \n",
      "进程名 firefox.exe           内存利用率 3.6089457929567708 进程状态 running    创建时间 1546506981.0 \n",
      "进程名 firefox.exe           内存利用率 0.996057073047402  进程状态 running    创建时间 1546506987.0 \n",
      "进程名 firefox.exe           内存利用率 1.0375031603244664 进程状态 running    创建时间 1546506989.0 \n",
      "进程名 firefox.exe           内存利用率 2.0628475150682344 进程状态 running    创建时间 1546506991.0 \n",
      "进程名 firefox.exe           内存利用率 2.580513487589333  进程状态 running    创建时间 1546506999.0 \n",
      "进程名 audiodg.exe           内存利用率 0.22083671882086606 进程状态 running    创建时间 1546507382.0 \n",
      "进程名 cmd.exe               内存利用率 0.04911771460774342 进程状态 running    创建时间 1546507404.0 \n",
      "进程名 conhost.exe           内存利用率 0.37735721605811523 进程状态 running    创建时间 1546507405.0 \n",
      "进程名 conda.exe             内存利用率 0.06118002173145251 进程状态 running    创建时间 1546507411.0 \n",
      "进程名 python.exe            内存利用率 0.17176725344161747 进程状态 running    创建时间 1546507411.0 \n",
      "进程名 jupyter-notebook.exe  内存利用率 0.0615660155594112 进程状态 running    创建时间 1546507412.0 \n",
      "进程名 python.exe            内存利用率 1.0400603694346926 进程状态 running    创建时间 1546507412.0 \n",
      "进程名 firefox.exe           内存利用率 0.5032394532011433 进程状态 running    创建时间 1546507454.0 \n",
      "进程名 python.exe            内存利用率 0.9885784426307023 进程状态 running    创建时间 1546507464.0 \n",
      "进程名 cmd.exe               内存利用率 0.049793203806671134 进程状态 running    创建时间 1546507475.0 \n",
      "进程名 conhost.exe           内存利用率 0.32712976919499054 进程状态 running    创建时间 1546507475.0 \n",
      "进程名 SGTool.exe            内存利用率 0.28930237405503884 进程状态 running    创建时间 1546507506.0 \n",
      "进程名 360se.exe             内存利用率 0.3961261659426066 进程状态 running    创建时间 1546507579.0 \n",
      "进程名 SearchProtocolHost.exe  内存利用率 0.08429140218047913 进程状态 running    创建时间 1546507616.0 \n",
      "进程名 SearchFilterHost.exe  内存利用率 0.08868208197350924 进程状态 running    创建时间 1546507616.0 \n"
     ]
    }
   ],
   "source": [
    "# 查看系统全部进程\n",
    "for pnum in psutil.pids():\n",
    "    p = psutil.Process(pnum)\n",
    "    print(u\"进程名 %-20s  内存利用率 %-18s 进程状态 %-10s 创建时间 %-10s \" \\\n",
    "    % (p.name(), p.memory_percent(), p.status(), p.create_time()))"
   ]
  },
  {
   "cell_type": "code",
   "execution_count": null,
   "metadata": {},
   "outputs": [],
   "source": []
  },
  {
   "cell_type": "code",
   "execution_count": null,
   "metadata": {},
   "outputs": [],
   "source": []
  }
 ],
 "metadata": {
  "kernelspec": {
   "display_name": "Python 3",
   "language": "python",
   "name": "python3"
  },
  "language_info": {
   "codemirror_mode": {
    "name": "ipython",
    "version": 3
   },
   "file_extension": ".py",
   "mimetype": "text/x-python",
   "name": "python",
   "nbconvert_exporter": "python",
   "pygments_lexer": "ipython3",
   "version": "3.6.3"
  },
  "toc": {
   "nav_menu": {},
   "number_sections": true,
   "sideBar": true,
   "skip_h1_title": false,
   "title_cell": "Table of Contents",
   "title_sidebar": "Contents",
   "toc_cell": false,
   "toc_position": {},
   "toc_section_display": true,
   "toc_window_display": true
  },
  "varInspector": {
   "cols": {
    "lenName": 16,
    "lenType": 16,
    "lenVar": 40
   },
   "kernels_config": {
    "python": {
     "delete_cmd_postfix": "",
     "delete_cmd_prefix": "del ",
     "library": "var_list.py",
     "varRefreshCmd": "print(var_dic_list())"
    },
    "r": {
     "delete_cmd_postfix": ") ",
     "delete_cmd_prefix": "rm(",
     "library": "var_list.r",
     "varRefreshCmd": "cat(var_dic_list()) "
    }
   },
   "types_to_exclude": [
    "module",
    "function",
    "builtin_function_or_method",
    "instance",
    "_Feature"
   ],
   "window_display": false
  }
 },
 "nbformat": 4,
 "nbformat_minor": 2
}
