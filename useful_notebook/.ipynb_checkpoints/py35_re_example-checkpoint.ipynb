{
 "cells": [
  {
   "cell_type": "code",
   "execution_count": 1,
   "metadata": {
    "ExecuteTime": {
     "end_time": "2018-11-13T02:40:52.548251Z",
     "start_time": "2018-11-13T02:40:52.533250Z"
    },
    "collapsed": true
   },
   "outputs": [],
   "source": [
    "import re"
   ]
  },
  {
   "cell_type": "code",
   "execution_count": 6,
   "metadata": {
    "ExecuteTime": {
     "end_time": "2018-11-13T02:45:37.478548Z",
     "start_time": "2018-11-13T02:45:37.451546Z"
    }
   },
   "outputs": [
    {
     "name": "stdout",
     "output_type": "stream",
     "text": [
      "ss三十30见证者AAA20感恩lll三十CDR平安伴123456489/*dd\n",
      "去除 汉字：  ss30AAA20lllCDR123456489/*dd\n",
      "去除 英文：  三十30见证者20感恩三十平安伴123456489/*\n",
      "去除 数字：  ss三十见证者AAA感恩lll三十CDR平安伴/*dd\n"
     ]
    }
   ],
   "source": [
    "s = 'ss三十30见证者AAA20感恩lll三十CDR平安伴123456489/*dd'\n",
    "print(s)\n",
    "\n",
    "p = re.compile(r'[\\u4e00-\\u9fa5]{0,}')\n",
    "print('去除 汉字： ', p.sub('', s))\n",
    "\n",
    "p = re.compile(r'[a-zA-z]{0,}')\n",
    "print('去除 英文： ', p.sub('', s))\n",
    "\n",
    "p = re.compile(r'[0-9]{0,}')\n",
    "print('去除 数字： ', p.sub('', s))"
   ]
  },
  {
   "cell_type": "code",
   "execution_count": 17,
   "metadata": {
    "ExecuteTime": {
     "end_time": "2018-11-13T02:57:40.723001Z",
     "start_time": "2018-11-13T02:57:40.701000Z"
    }
   },
   "outputs": [
    {
     "name": "stdout",
     "output_type": "stream",
     "text": [
      "漫威之父 12.32.35.23 斯坦·李去世 109823434@qq.com 享年95岁https://mbd.baidu.com/newspage/data/landingsuper?context=%7B%22nid%22%3A%22news_5464213320578954357%22%7D&n_type=0&p_from=1\n",
      "去除 URL：  漫威之父 12.32.35.23 斯坦·李去世 109823434@qq.com 享年95岁\n",
      "去除 E-mail：  漫威之父 12.32.35.23 斯坦·李去世  享年95岁https://mbd.baidu.com/newspage/data/landingsuper?context=%7B%22nid%22%3A%22news_5464213320578954357%22%7D&n_type=0&p_from=1\n",
      "去除 IP：  漫威之父  斯坦·李去世 109823434@qq.com 享年95岁https://mbd.baidu.com/newspage/data/landingsuper?context=%7B%22nid%22%3A%22news_5464213320578954357%22%7D&n_type=0&p_from=1\n"
     ]
    }
   ],
   "source": [
    "s = '漫威之父 12.32.35.23 斯坦·李去世 109823434@qq.com 享年95岁https://mbd.baidu.com/newspage/data/landingsuper?context=%7B%22nid%22%3A%22news_5464213320578954357%22%7D&n_type=0&p_from=1'\n",
    "print(s)\n",
    "\n",
    "p = re.compile(r'(http|ftp|https):\\/\\/[\\w\\-_]+(\\.[\\w\\-_]+)+([\\w\\-\\.,@?^=%&amp;:/~\\+#]*[\\w\\-\\@?^=%&amp;/~\\+#])?')\n",
    "print('去除 URL： ', p.sub('', s))\n",
    "\n",
    "p = re.compile(r'\\w+@([0-9a-zA-Z]+[-0-9a-zA-Z]*)(\\.[0-9a-zA-Z]+[-0-9a-zA-Z]*)+')\n",
    "print('去除 E-mail： ', p.sub('', s))\n",
    "\n",
    "p = re.compile(r'\\b(?:(?:25[0-5]|2[0-4][0-9]|[01]?[0-9][0-9]?)\\.){3}(?:25[0-5]|2[0-4][0-9]|[01]?[0-9][0-9]?)')\n",
    "print('去除 IP： ', p.sub('', s))"
   ]
  },
  {
   "cell_type": "code",
   "execution_count": 116,
   "metadata": {
    "ExecuteTime": {
     "end_time": "2018-11-13T06:58:31.069114Z",
     "start_time": "2018-11-13T06:58:31.038112Z"
    }
   },
   "outputs": [
    {
     "name": "stdout",
     "output_type": "stream",
     "text": [
      "<font color=\"”#FF0000”\"> 考虑 what is（文 徐维建 编辑 孙娟）到什么 </font> （专栏作家 聂方义） <h1 class=\"art_tit_h1\"> （记者刘美群）        <article class=\"art_box\"> why that is right（通讯员 郑浩） </h1>  (图)  (图片) (刘敬元)\n",
      "去除 < >：  <font color=\"”#FF0000”\"> 考虑 what is（文 徐维建 编辑 孙娟）到什么 <> （专栏作家 聂方义） <> （记者刘美群）        <> why that is right（通讯员 郑浩） <>  (图)  (图片) (刘敬元)\n",
      "去除 < >：  <> 考虑 what is（文 徐维建 编辑 孙娟）到什么 <> （专栏作家 聂方义） <> （记者刘美群）        <> why that is right（通讯员 郑浩） <>  (图)  (图片) (刘敬元)\n",
      "去除 ( )：  <font color=\"”#FF0000”\"> 考虑 what is（）到什么 </font> （） <h1 class=\"art_tit_h1\"> （）        <article class=\"art_box\"> why that is right（） </h1>  (图)  (图片) (刘敬元)\n",
      "去除 ( )：  <font color=\"”#FF0000”\"> 考虑 what is（文 徐维建 编辑 孙娟）到什么 </font> （专栏作家 聂方义） <h1 class=\"art_tit_h1\"> （记者刘美群）        <article class=\"art_box\"> why that is right（通讯员 郑浩） </h1>     \n"
     ]
    }
   ],
   "source": [
    "s = '<font color=\"”#FF0000”\"> 考虑 what is（文 徐维建 编辑 孙娟）到什么 </font> （专栏作家 聂方义） <h1 class=\"art_tit_h1\"> （记者刘美群）\\\n",
    "        <article class=\"art_box\"> why that is right（通讯员 郑浩） </h1>  (图)  (图片) (刘敬元)'\n",
    "print(s)\n",
    "       \n",
    "p = re.compile(r'(?<=<)[/a-zA-Z0-9 ]+=?[“\"#a-zA-Z0-9_]*(?=>)')\n",
    "print('去除 < >： ', p.sub('', s))\n",
    "\n",
    "p = re.compile(r'(?<=<)[[/a-zA-Z0-9 ]+=?\"?[”#a-zA-Z0-9_]*\"?]*(?=>)')\n",
    "print('去除 < >： ', p.sub('', s))\n",
    "\n",
    "p = re.compile(r'(?<=（)[文|专栏作家|记者|通讯员| ]*[\\u4e00-\\u9fa5 ]{0,}(?=）)')\n",
    "print('去除 ( )： ', p.sub('', s))\n",
    "\n",
    "p = re.compile(r'[(?<=（)|(?<=\\()][\\u4e00-\\u9fa5]{0,3}[(?=）)|(?=))]')\n",
    "print('去除 ( )： ', p.sub('', s))"
   ]
  },
  {
   "cell_type": "code",
   "execution_count": 98,
   "metadata": {
    "ExecuteTime": {
     "end_time": "2018-11-13T06:11:18.128079Z",
     "start_time": "2018-11-13T06:11:18.105078Z"
    }
   },
   "outputs": [
    {
     "name": "stdout",
     "output_type": "stream",
     "text": [
      "ss三十手机号13389456821见证者固定电话95105768AAA20感恩lll身份证号421083199202121235QQ号三十CDR平安伴123456489/*dd\n",
      "去除 身份证号：  ss三十手机号13389456821见证者固定电话95105768AAA20感恩lll身份证号QQ号三十CDR平安伴123456489/*dd\n",
      "去除 手机号码：  ss三十手机号见证者固定电话95105768AAA20感恩lll身份证号421083199202121235QQ号三十CDR平安伴123456489/*dd\n",
      "去除 固定电话：  ss三十手机号821见证者固定电话AAA20感恩lll身份证号35QQ号三十CDR平安伴9/*dd\n"
     ]
    }
   ],
   "source": [
    "s = 'ss三十手机号13389456821见证者固定电话95105768AAA20感恩lll身份证号421083199202121235QQ号三十CDR平安伴123456489/*dd'\n",
    "print(s)\n",
    "\n",
    "p = re.compile(r'([1-9]\\d{5}[12]\\d{3}(0[1-9]|1[012])(0[1-9]|[12][0-9]|3[01])\\d{3}[0-9xX])')\n",
    "print('去除 身份证号： ', p.sub('', s))\n",
    "\n",
    "p = re.compile(r'(86)?(1[34578]\\d{9})')\n",
    "print('去除 手机号码： ', p.sub('', s))\n",
    "\n",
    "p = re.compile(r'\\(?(0\\d{2,3})?[) -]?\\d{7,8}')\n",
    "print('去除 固定电话： ', p.sub('', s))"
   ]
  },
  {
   "cell_type": "code",
   "execution_count": null,
   "metadata": {
    "collapsed": true
   },
   "outputs": [],
   "source": []
  },
  {
   "cell_type": "code",
   "execution_count": 106,
   "metadata": {
    "ExecuteTime": {
     "end_time": "2018-11-13T06:40:39.720836Z",
     "start_time": "2018-11-13T06:40:39.698835Z"
    }
   },
   "outputs": [
    {
     "name": "stdout",
     "output_type": "stream",
     "text": [
      "ss中<a href=“//weibo.com/n/%E7%95%8C%E9%9D%A2?refer_flag=1001030001_“ disable_usercard=“name=界面“ suda-data=“key=tblog_search_weibo&amp;value=weibo_feed_at“ target=“_blank“ class=“W_linkb“>@界面</a>\n",
      "去除 < >：  ss中<a href=“//weibo.com/n/%E7%95%8C%E9%9D%A2?refer_flag=1001030001_“ disable_usercard=“name=界面“ suda-data=“key=tblog_search_weibo&amp;value=weibo_feed_at“ target=“_blank“ class=“W_linkb“>@界面<>\n",
      "去除 < >：  ss中\n"
     ]
    }
   ],
   "source": [
    "s = 'ss中<a href=“//weibo.com/n/%E7%95%8C%E9%9D%A2?refer_flag=1001030001_“ disable_usercard=“name=界面“ suda-data=“key=tblog_search_weibo&amp;value=weibo_feed_at“ target=“_blank“ class=“W_linkb“>@界面</a>'\n",
    "print(s)\n",
    "\n",
    "p = re.compile(r'(?<=<)[[/a-zA-Z0-9 ]+=?[“\"#a-zA-Z0-9_]*]*(?=>)')\n",
    "print('去除 < >： ', p.sub('', s))\n",
    "\n",
    "p = re.compile(r'<a .*?>(.*?)</a>') \n",
    "print('去除 < >： ', p.sub('', s))"
   ]
  },
  {
   "cell_type": "code",
   "execution_count": 113,
   "metadata": {
    "ExecuteTime": {
     "end_time": "2018-11-13T06:56:15.836379Z",
     "start_time": "2018-11-13T06:56:15.819378Z"
    }
   },
   "outputs": [
    {
     "name": "stdout",
     "output_type": "stream",
     "text": [
      "<font color=\"”#FF0000”\">\n",
      "去除 < >：  <>\n"
     ]
    }
   ],
   "source": [
    "s = '<font color=\"”#FF0000”\"> 责任编辑：张羽'\n",
    "print(s)\n",
    "\n",
    "p = re.compile(r'(?<=<)[[/a-zA-Z0-9 ]+=?\"?[”#a-zA-Z0-9_]*\"?]*(?=>)')\n",
    "print('去除 < >： ', p.sub('', s))"
   ]
  },
  {
   "cell_type": "code",
   "execution_count": null,
   "metadata": {
    "collapsed": true
   },
   "outputs": [],
   "source": [
    "\n"
   ]
  },
  {
   "cell_type": "code",
   "execution_count": null,
   "metadata": {
    "collapsed": true
   },
   "outputs": [],
   "source": []
  },
  {
   "cell_type": "code",
   "execution_count": null,
   "metadata": {
    "collapsed": true
   },
   "outputs": [],
   "source": []
  }
 ],
 "metadata": {
  "kernelspec": {
   "display_name": "Python 3",
   "language": "python",
   "name": "python3"
  },
  "language_info": {
   "codemirror_mode": {
    "name": "ipython",
    "version": 3
   },
   "file_extension": ".py",
   "mimetype": "text/x-python",
   "name": "python",
   "nbconvert_exporter": "python",
   "pygments_lexer": "ipython3",
   "version": "3.6.3"
  },
  "toc": {
   "nav_menu": {},
   "number_sections": true,
   "sideBar": true,
   "skip_h1_title": false,
   "title_cell": "Table of Contents",
   "title_sidebar": "Contents",
   "toc_cell": false,
   "toc_position": {},
   "toc_section_display": true,
   "toc_window_display": false
  },
  "varInspector": {
   "cols": {
    "lenName": 16,
    "lenType": 16,
    "lenVar": 40
   },
   "kernels_config": {
    "python": {
     "delete_cmd_postfix": "",
     "delete_cmd_prefix": "del ",
     "library": "var_list.py",
     "varRefreshCmd": "print(var_dic_list())"
    },
    "r": {
     "delete_cmd_postfix": ") ",
     "delete_cmd_prefix": "rm(",
     "library": "var_list.r",
     "varRefreshCmd": "cat(var_dic_list()) "
    }
   },
   "types_to_exclude": [
    "module",
    "function",
    "builtin_function_or_method",
    "instance",
    "_Feature"
   ],
   "window_display": false
  }
 },
 "nbformat": 4,
 "nbformat_minor": 2
}
