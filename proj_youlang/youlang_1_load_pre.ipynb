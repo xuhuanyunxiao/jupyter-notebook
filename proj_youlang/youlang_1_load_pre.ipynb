{
 "cells": [
  {
   "cell_type": "markdown",
   "metadata": {},
   "source": [
    "# 本文件说明"
   ]
  },
  {
   "cell_type": "code",
   "execution_count": null,
   "metadata": {
    "collapsed": true
   },
   "outputs": [],
   "source": []
  },
  {
   "cell_type": "markdown",
   "metadata": {},
   "source": [
    "# 基本设置"
   ]
  },
  {
   "cell_type": "code",
   "execution_count": 46,
   "metadata": {
    "ExecuteTime": {
     "end_time": "2018-07-23T06:51:51.047982Z",
     "start_time": "2018-07-23T06:51:51.032980Z"
    },
    "collapsed": true
   },
   "outputs": [],
   "source": [
    "import jieba\n",
    "import sys\n",
    "import os\n",
    "\n",
    "%matplotlib inline\n",
    "import numpy as np\n",
    "import pandas as pd\n",
    "import pre_cor\n",
    "import json\n",
    "\n",
    "import warnings\n",
    "warnings.filterwarnings('ignore')"
   ]
  },
  {
   "cell_type": "code",
   "execution_count": 47,
   "metadata": {
    "ExecuteTime": {
     "end_time": "2018-07-23T06:51:51.156496Z",
     "start_time": "2018-07-23T06:51:51.051983Z"
    },
    "collapsed": true
   },
   "outputs": [],
   "source": [
    "def get_txt_encode(file_path):\n",
    "    '''\n",
    "    Function:\n",
    "        获取txt文档的编码格式\n",
    "    Arguments:\n",
    "        file_path -> string -- 文档所在路径\n",
    "    Return:\n",
    "        encode -> string -- txt文档的编码格式\n",
    "    '''\n",
    "    decode_set = ['utf-8','gb18030','ISO-8859-2','gb2312','gbk', 'ANSI'] # 编码集\n",
    "    encode = 0\n",
    "    for k in decode_set:\n",
    "        try :\n",
    "            file = open(file_path, 'r', encoding = k).read()\n",
    "            # print('\\n\\t读取成功： %s \\n\\t编码方式为： %s' %(file_path, k))\n",
    "            encode = k\n",
    "            break\n",
    "        except :\n",
    "            continue\n",
    "    if encode:\n",
    "        return encode\n",
    "    else :\n",
    "        return 'No encode'"
   ]
  },
  {
   "cell_type": "code",
   "execution_count": 48,
   "metadata": {
    "ExecuteTime": {
     "end_time": "2018-07-23T06:51:51.230005Z",
     "start_time": "2018-07-23T06:51:51.161497Z"
    },
    "collapsed": true
   },
   "outputs": [],
   "source": [
    "def load_raw_files(data_folder, from_row = 4):\n",
    "    filename_list = os.listdir(data_folder)\n",
    "    data = []\n",
    "    for filename in filename_list:\n",
    "        file_path = os.path.join(data_folder, filename)\n",
    "        data_a = []\n",
    "        data_b = []\n",
    "        data_c = [] # 例外\n",
    "        try :\n",
    "            encoding = get_txt_encode(file_path)\n",
    "            f = open(file_path, \"r+\", encoding = encoding)\n",
    "            for index, line in enumerate(f):\n",
    "                if index > from_row: # 跳过 N 行\n",
    "                    if line.startswith('A：'):\n",
    "                        data_a.append(line.replace('A：', ''))\n",
    "                    elif line.startswith('B：'):\n",
    "                        data_b.append(line.replace('B：', ''))\n",
    "                    else :\n",
    "                        data_c.append(line)\n",
    "\n",
    "            data.append({'id': filename, 'A':\"。\".join(data_a),\n",
    "                         'B':\"。\".join(data_b), 'C':\"。\".join(data_c)})                 \n",
    "            f.close()               \n",
    "        except Exception as e:\n",
    "            print('---------------')\n",
    "            print(e)\n",
    "            print(file_path)\n",
    "            continue  \n",
    "            \n",
    "    return data"
   ]
  },
  {
   "cell_type": "markdown",
   "metadata": {},
   "source": [
    "# 导入原始数据"
   ]
  },
  {
   "cell_type": "markdown",
   "metadata": {},
   "source": [
    "## 诈骗电话记录"
   ]
  },
  {
   "cell_type": "code",
   "execution_count": 49,
   "metadata": {
    "ExecuteTime": {
     "end_time": "2018-07-23T06:51:51.315016Z",
     "start_time": "2018-07-23T06:51:51.233506Z"
    }
   },
   "outputs": [
    {
     "name": "stdout",
     "output_type": "stream",
     "text": [
      "3\n"
     ]
    },
    {
     "data": {
      "text/plain": [
       "{'A': '嗯啊！喂喂。\\n。啊！我我我在你这是实心的一个号码吗？\\n。对对对我现在是在室内然后安静的一个环境然后是多少。\\n',\n",
       " 'B': '喂一个。\\n。诶\\n。那我正好玩那么好。\\n。啊！就是我之前那样的号码。\\n。哦哦哦。\\n。呃，这个是那个车子零跟你们说就是多医生采集是吧！\\n。用移动的号码。\\n。嗯哦。\\n。是你你们那边。',\n",
       " 'C': '语种：汉语\\t性别：男和女\\n。主叫：201806280909\\t被叫：2018062809010\\n。开始时间：2018-06-28 09:08:24\\t结束时间：2018-06-28 09:14:01\\n。\\n',\n",
       " 'id': 'test - 副本 (2).txt'}"
      ]
     },
     "execution_count": 49,
     "metadata": {},
     "output_type": "execute_result"
    }
   ],
   "source": [
    "data_folder_pos = r'D:\\XH\\Python_Project\\notebook\\proj_youlang\\data\\201180720'\n",
    "pos_raw_data = load_raw_files(data_folder_pos, from_row = 0)\n",
    "print(len(pos_raw_data))\n",
    "pos_raw_data[0]"
   ]
  },
  {
   "cell_type": "code",
   "execution_count": 50,
   "metadata": {
    "ExecuteTime": {
     "end_time": "2018-07-23T06:51:51.388526Z",
     "start_time": "2018-07-23T06:51:51.319517Z"
    }
   },
   "outputs": [],
   "source": [
    "if not os.path.exists('data/'):\n",
    "    os.mkdir('data')"
   ]
  },
  {
   "cell_type": "code",
   "execution_count": 51,
   "metadata": {
    "ExecuteTime": {
     "end_time": "2018-07-23T06:51:51.492039Z",
     "start_time": "2018-07-23T06:51:51.392526Z"
    }
   },
   "outputs": [],
   "source": [
    "with open(\"data/raw_pos.json\",'w',encoding='utf-8') as json_file:\n",
    "        json.dump(pos_raw_data,json_file,ensure_ascii=False) "
   ]
  },
  {
   "cell_type": "markdown",
   "metadata": {},
   "source": [
    "## 非诈骗电话记录"
   ]
  },
  {
   "cell_type": "code",
   "execution_count": 52,
   "metadata": {
    "ExecuteTime": {
     "end_time": "2018-07-23T06:51:51.559547Z",
     "start_time": "2018-07-23T06:51:51.497539Z"
    }
   },
   "outputs": [
    {
     "name": "stdout",
     "output_type": "stream",
     "text": [
      "3\n"
     ]
    },
    {
     "data": {
      "text/plain": [
       "{'A': '嗯啊！喂喂。\\n。啊！我我我在你这是实心的一个号码吗？\\n。对对对我现在是在室内然后安静的一个环境然后是多少。\\n',\n",
       " 'B': '喂一个。\\n。诶\\n。那我正好玩那么好。\\n。啊！就是我之前那样的号码。\\n。哦哦哦。\\n。呃，这个是那个车子零跟你们说就是多医生采集是吧！\\n。用移动的号码。\\n。嗯哦。\\n。是你你们那边。',\n",
       " 'C': '语种：汉语\\t性别：男和女\\n。主叫：201806280909\\t被叫：2018062809010\\n。开始时间：2018-06-28 09:08:24\\t结束时间：2018-06-28 09:14:01\\n。\\n',\n",
       " 'id': 'test - 副本 (2).txt'}"
      ]
     },
     "execution_count": 52,
     "metadata": {},
     "output_type": "execute_result"
    }
   ],
   "source": [
    "data_folder_neg = r'D:\\XH\\Python_Project\\notebook\\proj_youlang\\data\\201180720'\n",
    "neg_raw_data = load_raw_files(data_folder_neg, from_row = 0)\n",
    "print(len(neg_raw_data))\n",
    "neg_raw_data[0]"
   ]
  },
  {
   "cell_type": "code",
   "execution_count": 53,
   "metadata": {
    "ExecuteTime": {
     "end_time": "2018-07-23T06:51:51.631056Z",
     "start_time": "2018-07-23T06:51:51.566548Z"
    },
    "collapsed": true
   },
   "outputs": [],
   "source": [
    "with open(\"data/raw_neg.json\",'w',encoding='utf-8') as json_file:\n",
    "        json.dump(neg_raw_data,json_file,ensure_ascii=False) "
   ]
  },
  {
   "cell_type": "markdown",
   "metadata": {},
   "source": [
    "# 预处理"
   ]
  },
  {
   "cell_type": "code",
   "execution_count": 54,
   "metadata": {
    "ExecuteTime": {
     "end_time": "2018-07-23T06:51:51.734569Z",
     "start_time": "2018-07-23T06:51:51.634557Z"
    }
   },
   "outputs": [
    {
     "name": "stdout",
     "output_type": "stream",
     "text": [
      "3\n",
      "喂喂 实心 一个 号码 对 对 对 现在 室内 然后 安静 一个 环境 然后 多少 :AB: 一个 诶 正好 玩 之前 号码 哦哦哦 车子 零 跟 说 多 医生 采集 移动 号码 \n",
      "data/pos_pre_20180723.txt\n"
     ]
    }
   ],
   "source": [
    "# 诈骗电话\n",
    "pos_pre = [pre_cor.handle_content(content['A']) + ':AB: ' + pre_cor.handle_content(content['B']) for content in pos_raw_data]\n",
    "print(len(pos_pre))\n",
    "print(pos_pre[0])\n",
    "\n",
    "save_filename = 'data/pos_pre_20180723.txt'\n",
    "print(save_filename)\n",
    "fid = open(save_filename, \"w+\", encoding='UTF-8')\n",
    "for data in pos_pre:\n",
    "    fid.write(data + '\\n')\n",
    "fid.close()"
   ]
  },
  {
   "cell_type": "code",
   "execution_count": 55,
   "metadata": {
    "ExecuteTime": {
     "end_time": "2018-07-23T06:51:51.848584Z",
     "start_time": "2018-07-23T06:51:51.739070Z"
    }
   },
   "outputs": [
    {
     "name": "stdout",
     "output_type": "stream",
     "text": [
      "3\n",
      "喂喂 实心 一个 号码 对 对 对 现在 室内 然后 安静 一个 环境 然后 多少 :AB: 一个 诶 正好 玩 之前 号码 哦哦哦 车子 零 跟 说 多 医生 采集 移动 号码 \n",
      "data/neg_pre_20180723.txt\n"
     ]
    }
   ],
   "source": [
    "# 非诈骗电话\n",
    "neg_pre = [pre_cor.handle_content(content['A']) + ':AB: ' + pre_cor.handle_content(content['B']) for content in neg_raw_data]\n",
    "print(len(neg_pre))\n",
    "print(neg_pre[0])\n",
    "\n",
    "save_filename = 'data/neg_pre_20180723.txt'\n",
    "print(save_filename)\n",
    "fid = open(save_filename, \"w+\", encoding='UTF-8')\n",
    "for data in neg_pre:\n",
    "    fid.write(data + '\\n')\n",
    "fid.close()"
   ]
  },
  {
   "cell_type": "markdown",
   "metadata": {},
   "source": [
    "# 保存文件"
   ]
  },
  {
   "cell_type": "code",
   "execution_count": null,
   "metadata": {
    "collapsed": true
   },
   "outputs": [],
   "source": []
  },
  {
   "cell_type": "code",
   "execution_count": null,
   "metadata": {
    "collapsed": true
   },
   "outputs": [],
   "source": []
  }
 ],
 "metadata": {
  "kernelspec": {
   "display_name": "Python 3",
   "language": "python",
   "name": "python3"
  },
  "language_info": {
   "codemirror_mode": {
    "name": "ipython",
    "version": 3
   },
   "file_extension": ".py",
   "mimetype": "text/x-python",
   "name": "python",
   "nbconvert_exporter": "python",
   "pygments_lexer": "ipython3",
   "version": "3.6.4"
  },
  "toc": {
   "base_numbering": 1,
   "nav_menu": {},
   "number_sections": true,
   "sideBar": true,
   "skip_h1_title": false,
   "title_cell": "Table of Contents",
   "title_sidebar": "Contents",
   "toc_cell": false,
   "toc_position": {
    "height": "calc(100% - 180px)",
    "left": "10px",
    "top": "150px",
    "width": "376px"
   },
   "toc_section_display": true,
   "toc_window_display": true
  },
  "varInspector": {
   "cols": {
    "lenName": 16,
    "lenType": 16,
    "lenVar": 40
   },
   "kernels_config": {
    "python": {
     "delete_cmd_postfix": "",
     "delete_cmd_prefix": "del ",
     "library": "var_list.py",
     "varRefreshCmd": "print(var_dic_list())"
    },
    "r": {
     "delete_cmd_postfix": ") ",
     "delete_cmd_prefix": "rm(",
     "library": "var_list.r",
     "varRefreshCmd": "cat(var_dic_list()) "
    }
   },
   "types_to_exclude": [
    "module",
    "function",
    "builtin_function_or_method",
    "instance",
    "_Feature"
   ],
   "window_display": false
  }
 },
 "nbformat": 4,
 "nbformat_minor": 2
}
