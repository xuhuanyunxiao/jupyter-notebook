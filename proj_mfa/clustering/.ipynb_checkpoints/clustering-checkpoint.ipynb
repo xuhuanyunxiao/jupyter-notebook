{
 "cells": [
  {
   "cell_type": "markdown",
   "metadata": {},
   "source": [
    "# 基本设置"
   ]
  },
  {
   "cell_type": "code",
   "execution_count": 7,
   "metadata": {
    "ExecuteTime": {
     "end_time": "2019-04-04T09:18:08.539565Z",
     "start_time": "2019-04-04T09:18:08.506589Z"
    }
   },
   "outputs": [],
   "source": [
    "import jieba\n",
    "import sys\n",
    "import re\n",
    "import time\n",
    "import string\n",
    "\n",
    "import numpy as np\n",
    "import pandas as pd\n",
    "# import pre_cor\n",
    "import os\n",
    "from sqlalchemy import create_engine\n",
    "from pandas.io import sql"
   ]
  },
  {
   "cell_type": "code",
   "execution_count": 8,
   "metadata": {
    "ExecuteTime": {
     "end_time": "2019-04-04T09:18:08.572921Z",
     "start_time": "2019-04-04T09:18:08.544462Z"
    }
   },
   "outputs": [
    {
     "name": "stdout",
     "output_type": "stream",
     "text": [
      "The autoreload extension is already loaded. To reload it, use:\n",
      "  %reload_ext autoreload\n"
     ]
    }
   ],
   "source": [
    "%matplotlib inline\n",
    "import warnings\n",
    "warnings.filterwarnings('ignore')\n",
    "%load_ext autoreload\n",
    "%autoreload 2"
   ]
  },
  {
   "cell_type": "code",
   "execution_count": 9,
   "metadata": {
    "ExecuteTime": {
     "end_time": "2019-04-04T09:18:08.602670Z",
     "start_time": "2019-04-04T09:18:08.578379Z"
    }
   },
   "outputs": [],
   "source": [
    "from sklearn import cluster\n",
    "import chardet"
   ]
  },
  {
   "cell_type": "markdown",
   "metadata": {},
   "source": [
    "## 一些函数"
   ]
  },
  {
   "cell_type": "code",
   "execution_count": 56,
   "metadata": {
    "ExecuteTime": {
     "end_time": "2019-04-04T10:00:19.589112Z",
     "start_time": "2019-04-04T10:00:19.541943Z"
    }
   },
   "outputs": [],
   "source": [
    "import sys\n",
    "from datetime import datetime\n",
    "# from multiprocessing.pool import ThreadPool as Pool\n",
    "from multiprocessing import Pool\n",
    "\n",
    "def multi_process(func_name, func, param):\n",
    "    '''\n",
    "    多线程处理\n",
    "    '''\n",
    "    if 'win' in sys.platform:\n",
    "        njobs = 3 # 一半\n",
    "    elif 'linux' in sys.platform:\n",
    "        njobs = 6\n",
    "    \n",
    "    t1 = datetime.now()\n",
    "#     logger.info('starting func: %s. num: %s'%(func_name, len(param)))\n",
    "    print 'starting func: %s. njobs: %s, num: %s'%(func_name, njobs, len(param))\n",
    "    p = Pool(processes = njobs) # 创建5条进程\n",
    "    result = p.map(func,param)\n",
    "    p.close() # 关闭进程池，不再接受请求\n",
    "    p.join() # 等待所有的子进程结束\n",
    "    \n",
    "    result_list = [(p, re) for p, re in zip(param, result)]\n",
    "    \n",
    "    t2 = datetime.now()\n",
    "    elapsed_time = '%0.2f'%((t2 - t1).seconds)\n",
    "#     logger.info('end func: %s. elapsed_time: %s, num_sent: %s'%(func_name, elapsed_time, \n",
    "#                                                                 len(result_list)))\n",
    "    print 'end func: %s. elapsed_time: %s, num_sent: %s'%(func_name, elapsed_time, len(result_list))\n",
    "    return result_list\n",
    "                "
   ]
  },
  {
   "cell_type": "code",
   "execution_count": 10,
   "metadata": {
    "ExecuteTime": {
     "end_time": "2019-04-04T09:18:08.639025Z",
     "start_time": "2019-04-04T09:18:08.607613Z"
    }
   },
   "outputs": [],
   "source": [
    "from sklearn import metrics\n",
    "\n",
    "def clustering_metrics(labels_pred, labels_true = None, feature = None):\n",
    "    '''\n",
    "    聚类算法结果评估\n",
    "    需要真实标签：\n",
    "        兰德指数 ARI: 输入参数没有顺序要求，ARI值的范围是[-1,1]，\n",
    "            负的结果都是较差的，说明标签是独立分布的，相似分布的ARI结果是正的，\n",
    "            1是最佳结果，说明两种标签的分布完全一致\n",
    "        互信息 AMI：输入参数没有顺序要求，最好的值为1，最差的值（与labels_true不相关），其结果为非正值\n",
    "        同质性、完整性、两者的调和平均V-measure：从0到1反应出最差到最优的表现\n",
    "        Fowlkes-Mallows指数：针对训练集和验证集数据之间求得的查全率和查准率的几何平均值\n",
    "        \n",
    "    不需要真实标签：        \n",
    "        轮廓系数：取值范围是[-1,1]，同类别样本距离越相近不同类别样本距离越远，分数越高。\n",
    "        Calinski-Harabaz Index：分数值越大则聚类效果越好        \n",
    "    '''\n",
    "    \n",
    "    if labels_true is not None:\n",
    "        print u'兰德指数 ARI: ', metrics.adjusted_rand_score(labels_true, labels_pred)\n",
    "        print u'互信息 AMI: ', metrics.adjusted_mutual_info_score(labels_true, labels_pred)\n",
    "        print u'同质性、完整性、两者的调和平均V-measure: ', metrics.homogeneity_completeness_v_measure(labels_true, labels_pred)\n",
    "        print u'Fowlkes-Mallows指数 FMI: ', metrics.fowlkes_mallows_score(labels_true, labels_pred)\n",
    "        \n",
    "    if feature is not None:\n",
    "        print u'轮廓系数: ', metrics.silhouette_score(feature, labels_pred, metric='euclidean')\n",
    "        print u'Calinski-Harabaz Index: ', metrics.calinski_harabaz_score(feature, labels_pred) "
   ]
  },
  {
   "cell_type": "markdown",
   "metadata": {},
   "source": [
    "# load data"
   ]
  },
  {
   "cell_type": "code",
   "execution_count": 5,
   "metadata": {
    "ExecuteTime": {
     "end_time": "2019-04-04T08:31:20.875057Z",
     "start_time": "2019-04-04T08:31:19.438957Z"
    }
   },
   "outputs": [
    {
     "name": "stdout",
     "output_type": "stream",
     "text": [
      "(7396, 5)\n"
     ]
    },
    {
     "data": {
      "text/html": [
       "<div>\n",
       "<style scoped>\n",
       "    .dataframe tbody tr th:only-of-type {\n",
       "        vertical-align: middle;\n",
       "    }\n",
       "\n",
       "    .dataframe tbody tr th {\n",
       "        vertical-align: top;\n",
       "    }\n",
       "\n",
       "    .dataframe thead th {\n",
       "        text-align: right;\n",
       "    }\n",
       "</style>\n",
       "<table border=\"1\" class=\"dataframe\">\n",
       "  <thead>\n",
       "    <tr style=\"text-align: right;\">\n",
       "      <th></th>\n",
       "      <th>id</th>\n",
       "      <th>title</th>\n",
       "      <th>publishtime</th>\n",
       "      <th>site_name</th>\n",
       "      <th>content</th>\n",
       "    </tr>\n",
       "  </thead>\n",
       "  <tbody>\n",
       "    <tr>\n",
       "      <th>0</th>\n",
       "      <td>29064424</td>\n",
       "      <td>Serie A Roundup: Moise Kean keeps up scoring f...</td>\n",
       "      <td>2019-03-31 13:35:20</td>\n",
       "      <td>印度快报</td>\n",
       "      <td>Moise Kean can’t seem to miss lately. Days aft...</td>\n",
       "    </tr>\n",
       "    <tr>\n",
       "      <th>1</th>\n",
       "      <td>29102555</td>\n",
       "      <td>Motor racing-We will come back stronger, says ...</td>\n",
       "      <td>2019-04-01 04:45:23</td>\n",
       "      <td>每日邮报</td>\n",
       "      <td>MANAMA, March 31 (Reuters) - Charles Leclerc p...</td>\n",
       "    </tr>\n",
       "    <tr>\n",
       "      <th>2</th>\n",
       "      <td>29087495</td>\n",
       "      <td>Two women reveal how tragedy made them 'really...</td>\n",
       "      <td>2019-04-01 00:15:39</td>\n",
       "      <td>每日邮报</td>\n",
       "      <td>Georgina Brown (pictured) was hit by tragedy w...</td>\n",
       "    </tr>\n",
       "    <tr>\n",
       "      <th>3</th>\n",
       "      <td>29099506</td>\n",
       "      <td>Kevin Maher: I promise to cook more often than...</td>\n",
       "      <td>2019-04-01 07:01:00</td>\n",
       "      <td>泰晤士报</td>\n",
       "      <td>Young couples in love, what’s wrong with you? ...</td>\n",
       "    </tr>\n",
       "    <tr>\n",
       "      <th>4</th>\n",
       "      <td>29067200</td>\n",
       "      <td>Farewell to the Telegraph and its readers afte...</td>\n",
       "      <td>2019-03-31 15:00:00</td>\n",
       "      <td>每日电讯报</td>\n",
       "      <td>Farewell to the Telegraph and its readers afte...</td>\n",
       "    </tr>\n",
       "  </tbody>\n",
       "</table>\n",
       "</div>"
      ],
      "text/plain": [
       "         id                                              title  \\\n",
       "0  29064424  Serie A Roundup: Moise Kean keeps up scoring f...   \n",
       "1  29102555  Motor racing-We will come back stronger, says ...   \n",
       "2  29087495  Two women reveal how tragedy made them 'really...   \n",
       "3  29099506  Kevin Maher: I promise to cook more often than...   \n",
       "4  29067200  Farewell to the Telegraph and its readers afte...   \n",
       "\n",
       "          publishtime site_name  \\\n",
       "0 2019-03-31 13:35:20      印度快报   \n",
       "1 2019-04-01 04:45:23      每日邮报   \n",
       "2 2019-04-01 00:15:39      每日邮报   \n",
       "3 2019-04-01 07:01:00      泰晤士报   \n",
       "4 2019-03-31 15:00:00     每日电讯报   \n",
       "\n",
       "                                             content  \n",
       "0  Moise Kean can’t seem to miss lately. Days aft...  \n",
       "1  MANAMA, March 31 (Reuters) - Charles Leclerc p...  \n",
       "2  Georgina Brown (pictured) was hit by tragedy w...  \n",
       "3  Young couples in love, what’s wrong with you? ...  \n",
       "4  Farewell to the Telegraph and its readers afte...  "
      ]
     },
     "execution_count": 5,
     "metadata": {},
     "output_type": "execute_result"
    }
   ],
   "source": [
    "raw_data = pd.read_excel('news_data_20190401/news_data.xls')\n",
    "print(raw_data.shape)\n",
    "raw_data.head()"
   ]
  },
  {
   "cell_type": "markdown",
   "metadata": {},
   "source": [
    "# baseline"
   ]
  },
  {
   "cell_type": "code",
   "execution_count": 4,
   "metadata": {
    "ExecuteTime": {
     "end_time": "2019-04-02T10:01:48.595000Z",
     "start_time": "2019-04-02T10:01:47.168000Z"
    },
    "scrolled": true
   },
   "outputs": [
    {
     "name": "stderr",
     "output_type": "stream",
     "text": [
      "2019-04-02 18:01:48 16776 16196 textcleaner.py [line:37] INFO 'pattern' package not found; tag filters are not available for English\n",
      "2019-04-02 18:09:33 16776 16196 nltk_multipro_new.py [line:170] INFO start cut_tasks ....\n",
      "2019-04-02 18:09:33 16776 16196 nltk_multipro_new.py [line:181] INFO end cut_tasks ...., 0s\n",
      "2019-04-02 18:09:33 16776 16196 nltk_multipro_new.py [line:223] INFO start multi_process ....\n",
      "2019-04-02 18:11:51 16776 16196 nltk_multipro_new.py [line:238] INFO end multi_process ...., 138s\n",
      "2019-04-02 18:11:51 16776 16196 hierarchical_cluster.py [line:326] INFO first_cut_results end....\n",
      "2019-04-02 18:11:52 16776 16196 hierarchical_cluster.py [line:336] INFO first_tfidf_matrix end....\n",
      "2019-04-02 18:27:57 16776 16196 hierarchical_cluster.py [line:341] INFO first_cluster_results end....\n",
      "2019-04-02 18:27:57 16776 16196 nltk_multipro_new.py [line:170] INFO start cut_tasks ....\n",
      "2019-04-02 18:27:57 16776 16196 nltk_multipro_new.py [line:181] INFO end cut_tasks ...., 0s\n",
      "2019-04-02 18:27:57 16776 16196 nltk_multipro_new.py [line:223] INFO start multi_process ....\n",
      "2019-04-02 18:28:13 16776 16196 nltk_multipro_new.py [line:238] INFO end multi_process ...., 15s\n",
      "2019-04-02 18:28:13 16776 16196 hierarchical_cluster.py [line:358] INFO second_cut_results end....\n",
      "2019-04-02 18:30:51 16776 16196 hierarchical_cluster.py [line:372] INFO second_tf_matrix end....\n",
      "2019-04-02 18:33:43 16776 16196 hierarchical_cluster.py [line:376] INFO second_cluster_results end....\n",
      "2019-04-02 18:33:44 16776 16196 hierarchical_cluster.py [line:393] INFO cluster_results....\n"
     ]
    }
   ],
   "source": [
    "from dao.mysql.base_data_view import BaseDataView\n",
    "\n",
    "import hierarchical_cluster\n",
    "'''\n",
    "perform_cluster(is_manual, cluster_type, manual_id, subtopic_id, language_type,\n",
    "                    corpus, min_sample, save_group_id)\n",
    "'''"
   ]
  },
  {
   "cell_type": "code",
   "execution_count": 5,
   "metadata": {
    "ExecuteTime": {
     "end_time": "2019-04-02T10:02:20.214000Z",
     "start_time": "2019-04-02T10:01:48.656000Z"
    },
    "collapsed": true
   },
   "outputs": [],
   "source": [
    "is_manual = 0\n",
    "cluster_type = 0\n",
    "manual_id = 0\n",
    "subtopic_id = 0\n",
    "language_type = 1\n",
    "min_sample = 1\n",
    "save_group_id = 5\n",
    "\n",
    "base_data_view = BaseDataView()\n",
    "dict_data = raw_data.to_dict('records')\n",
    "corpus = BaseDataView.parse_corpus_records(dict_data, language_type=1)"
   ]
  },
  {
   "cell_type": "code",
   "execution_count": 37,
   "metadata": {
    "ExecuteTime": {
     "end_time": "2019-04-03T01:44:17.219000Z",
     "start_time": "2019-04-03T01:44:17.211000Z"
    }
   },
   "outputs": [
    {
     "data": {
      "text/plain": [
       "7302"
      ]
     },
     "execution_count": 37,
     "metadata": {},
     "output_type": "execute_result"
    }
   ],
   "source": [
    "print raw_data.shape\n",
    "len(corpus)\n",
    "# corpus[0]"
   ]
  },
  {
   "cell_type": "code",
   "execution_count": 12,
   "metadata": {
    "ExecuteTime": {
     "end_time": "2019-04-02T10:33:47.692000Z",
     "start_time": "2019-04-02T10:09:33.564000Z"
    },
    "collapsed": true
   },
   "outputs": [],
   "source": [
    "cluster_results = hierarchical_cluster.perform_cluster(is_manual, cluster_type, manual_id, \n",
    "                                                       subtopic_id, language_type,corpus, \n",
    "                                                       min_sample, save_group_id)"
   ]
  },
  {
   "cell_type": "code",
   "execution_count": 14,
   "metadata": {
    "ExecuteTime": {
     "end_time": "2019-04-03T01:14:33.221000Z",
     "start_time": "2019-04-03T01:14:33.211000Z"
    }
   },
   "outputs": [
    {
     "data": {
      "text/plain": [
       "<entity.cluster_result.MergerClusterResult at 0x301a9748>"
      ]
     },
     "execution_count": 14,
     "metadata": {},
     "output_type": "execute_result"
    }
   ],
   "source": [
    "len(cluster_results)\n",
    "cluster_results[0]"
   ]
  },
  {
   "cell_type": "markdown",
   "metadata": {},
   "source": [
    "## save baseline result"
   ]
  },
  {
   "cell_type": "code",
   "execution_count": 38,
   "metadata": {
    "ExecuteTime": {
     "end_time": "2019-04-03T01:45:30.917000Z",
     "start_time": "2019-04-03T01:45:30.875000Z"
    }
   },
   "outputs": [
    {
     "data": {
      "text/plain": [
       "['29077036',\n",
       " u\"Warren: Decision on 2020 up to Biden after woman's claim(accuser/biden/warren)\",\n",
       " '0_3085',\n",
       " u'Ex-U.S. Vice President Biden denies inappropriate conduct over alleged kiss(biden/joe/woman/kiss/act/inappropriate)',\n",
       " 3085,\n",
       " 0,\n",
       " 3,\n",
       " 3,\n",
       " '29077036^A29076426^A29054671^A29103572^A29089361^A29082773^A29086886^A29084555^A29081648^A29087088^A29086922^A29087906^A29089186^A29099413^A29103568^A29084836^A29099059^A29092063^A29083362^A29085250^A29071826^A29100379^A29101552^A29085788^A29100658^A29085775^A29091997^A29081865^A29094944^A29121113^A29081501^A29090051^A29103137^A29117505^A29090770^A29080284^A29081512^A29098701^A29082701^A29083242^A29082429^A29086277^A29084773^A29080298^A29080912^A29066161^A29093998^A29090846^A29086676^A29094440^A29101521^A29092325^A29087122^A29090847^A29094774^A29085927^A29084956^A29090062^A29096712^A29088431^A29093997^A29081605^A29081375^A29085011',\n",
       " 64]"
      ]
     },
     "execution_count": 38,
     "metadata": {},
     "output_type": "execute_result"
    }
   ],
   "source": [
    "baseline_result = []\n",
    "\n",
    "for fir_cluster_ind, merger_cluster_result in enumerate(cluster_results):\n",
    "    fir_topic = merger_cluster_result.topic\n",
    "    fir_member = merger_cluster_result.member\n",
    "    fir_member_count = merger_cluster_result.member_count\n",
    "    for sub_cluster_result in merger_cluster_result.sub_cluster_results:\n",
    "        member_list = sub_cluster_result.member.split('^A')\n",
    "        topic = sub_cluster_result.topic        \n",
    "        member_count = sub_cluster_result.member_count\n",
    "        site_count = sub_cluster_result.site_count\n",
    "        cluster_id = sub_cluster_result.cluster_id\n",
    "        c_id = str(fir_cluster_ind) + '_' + str(cluster_id)\n",
    "        for member in member_list:\n",
    "            baseline_result.append([member, topic, c_id, fir_topic, cluster_id, fir_cluster_ind, \n",
    "                                    member_count, site_count, fir_member, fir_member_count])\n",
    "        \n",
    "baseline_result[0]"
   ]
  },
  {
   "cell_type": "code",
   "execution_count": 40,
   "metadata": {
    "ExecuteTime": {
     "end_time": "2019-04-03T01:47:14.853000Z",
     "start_time": "2019-04-03T01:47:10.721000Z"
    }
   },
   "outputs": [
    {
     "data": {
      "text/plain": [
       "(7302, 10)"
      ]
     },
     "execution_count": 40,
     "metadata": {},
     "output_type": "execute_result"
    }
   ],
   "source": [
    "col = '''member, topic, c_id, fir_topic, cluster_id, fir_cluster_ind, member_count, site_count, fir_member, fir_member_count'''\n",
    "baseline_result = pd.DataFrame(baseline_result, columns = col.split(', '))\n",
    "baseline_result.shape"
   ]
  },
  {
   "cell_type": "code",
   "execution_count": 47,
   "metadata": {
    "ExecuteTime": {
     "end_time": "2019-04-03T01:54:02.199000Z",
     "start_time": "2019-04-03T01:54:01.417000Z"
    },
    "collapsed": true
   },
   "outputs": [],
   "source": [
    "raw_data['id'] = raw_data['id'].astype(str)\n",
    "baseline_result = pd.merge(baseline_result, raw_data, how = 'left', left_on = 'member', right_on = 'id')\n",
    "baseline_result.shape\n",
    "# baseline_result.head()\n",
    "# baseline_result.to_csv('baseline_result_0403.csv', index = False)"
   ]
  },
  {
   "cell_type": "code",
   "execution_count": 50,
   "metadata": {
    "ExecuteTime": {
     "end_time": "2019-04-03T02:12:41.961000Z",
     "start_time": "2019-04-03T02:12:33.714000Z"
    },
    "collapsed": true
   },
   "outputs": [],
   "source": [
    "import xlsxwriter\n",
    "bb = pd.ExcelWriter('baseline_result_0403.xlsx',engine='xlsxwriter')\n",
    "baseline_result.to_excel(bb, sheet_name='Sheet1')\n",
    "bb.save()"
   ]
  },
  {
   "cell_type": "markdown",
   "metadata": {},
   "source": [
    "## filtered data"
   ]
  },
  {
   "cell_type": "code",
   "execution_count": 11,
   "metadata": {
    "ExecuteTime": {
     "end_time": "2019-04-04T09:18:17.303298Z",
     "start_time": "2019-04-04T09:18:14.907323Z"
    }
   },
   "outputs": [
    {
     "data": {
      "text/plain": [
       "(7302, 15)"
      ]
     },
     "execution_count": 11,
     "metadata": {},
     "output_type": "execute_result"
    }
   ],
   "source": [
    "# filtered_data = baseline_result[['id', 'title', 'content']]\n",
    "filtered_data = pd.read_excel('baseline_result_0403.xlsx')\n",
    "filtered_data.shape"
   ]
  },
  {
   "cell_type": "code",
   "execution_count": 12,
   "metadata": {
    "ExecuteTime": {
     "end_time": "2019-04-04T09:18:17.610933Z",
     "start_time": "2019-04-04T09:18:17.550545Z"
    }
   },
   "outputs": [
    {
     "data": {
      "text/html": [
       "<div>\n",
       "<style scoped>\n",
       "    .dataframe tbody tr th:only-of-type {\n",
       "        vertical-align: middle;\n",
       "    }\n",
       "\n",
       "    .dataframe tbody tr th {\n",
       "        vertical-align: top;\n",
       "    }\n",
       "\n",
       "    .dataframe thead th {\n",
       "        text-align: right;\n",
       "    }\n",
       "</style>\n",
       "<table border=\"1\" class=\"dataframe\">\n",
       "  <thead>\n",
       "    <tr style=\"text-align: right;\">\n",
       "      <th></th>\n",
       "      <th>member</th>\n",
       "      <th>topic</th>\n",
       "      <th>c_id</th>\n",
       "      <th>fir_topic</th>\n",
       "      <th>cluster_id</th>\n",
       "      <th>fir_cluster_ind</th>\n",
       "      <th>member_count</th>\n",
       "      <th>site_count</th>\n",
       "      <th>fir_member</th>\n",
       "      <th>fir_member_count</th>\n",
       "      <th>id</th>\n",
       "      <th>title</th>\n",
       "      <th>publishtime</th>\n",
       "      <th>site_name</th>\n",
       "      <th>content</th>\n",
       "    </tr>\n",
       "  </thead>\n",
       "  <tbody>\n",
       "    <tr>\n",
       "      <th>0</th>\n",
       "      <td>29077036</td>\n",
       "      <td>Warren: Decision on 2020 up to Biden after wom...</td>\n",
       "      <td>0_3085</td>\n",
       "      <td>Ex-U.S. Vice President Biden denies inappropri...</td>\n",
       "      <td>3085</td>\n",
       "      <td>0</td>\n",
       "      <td>3</td>\n",
       "      <td>3</td>\n",
       "      <td>29077036^A29076426^A29054671^A29103572^A290893...</td>\n",
       "      <td>64</td>\n",
       "      <td>29077036</td>\n",
       "      <td>Event organizer: Biden, accuser were never alo...</td>\n",
       "      <td>2019-03-31 19:53:39</td>\n",
       "      <td>国会山报</td>\n",
       "      <td>\\nThe organizer of a Nevada campaign rally sa...</td>\n",
       "    </tr>\n",
       "    <tr>\n",
       "      <th>1</th>\n",
       "      <td>29076426</td>\n",
       "      <td>Warren: Decision on 2020 up to Biden after wom...</td>\n",
       "      <td>0_3085</td>\n",
       "      <td>Ex-U.S. Vice President Biden denies inappropri...</td>\n",
       "      <td>3085</td>\n",
       "      <td>0</td>\n",
       "      <td>3</td>\n",
       "      <td>3</td>\n",
       "      <td>29077036^A29076426^A29054671^A29103572^A290893...</td>\n",
       "      <td>64</td>\n",
       "      <td>29076426</td>\n",
       "      <td>Warren and Castro back Biden accuser – but don...</td>\n",
       "      <td>2019-03-31 19:23:53</td>\n",
       "      <td>卫报</td>\n",
       "      <td>Lucy Flores says then-VP kissed her at 2014 Ne...</td>\n",
       "    </tr>\n",
       "    <tr>\n",
       "      <th>2</th>\n",
       "      <td>29054671</td>\n",
       "      <td>Warren: Decision on 2020 up to Biden after wom...</td>\n",
       "      <td>0_3085</td>\n",
       "      <td>Ex-U.S. Vice President Biden denies inappropri...</td>\n",
       "      <td>3085</td>\n",
       "      <td>0</td>\n",
       "      <td>3</td>\n",
       "      <td>3</td>\n",
       "      <td>29077036^A29076426^A29054671^A29103572^A290893...</td>\n",
       "      <td>64</td>\n",
       "      <td>29054671</td>\n",
       "      <td>Warren: Decision on 2020 up to Biden after wom...</td>\n",
       "      <td>2019-03-31 10:00:13</td>\n",
       "      <td>美国广播公司</td>\n",
       "      <td>Some Democratic presidential candidates are ex...</td>\n",
       "    </tr>\n",
       "    <tr>\n",
       "      <th>3</th>\n",
       "      <td>29103572</td>\n",
       "      <td>Biden responds to allegation of unwanted touch...</td>\n",
       "      <td>0_3086</td>\n",
       "      <td>Ex-U.S. Vice President Biden denies inappropri...</td>\n",
       "      <td>3086</td>\n",
       "      <td>0</td>\n",
       "      <td>7</td>\n",
       "      <td>3</td>\n",
       "      <td>29077036^A29076426^A29054671^A29103572^A290893...</td>\n",
       "      <td>64</td>\n",
       "      <td>29103572</td>\n",
       "      <td>Flores: Interaction with Biden 'a violation of...</td>\n",
       "      <td>2019-04-01 09:02:46</td>\n",
       "      <td>国会山报</td>\n",
       "      <td>Lucy Flores, a former Nevada state assemblyw...</td>\n",
       "    </tr>\n",
       "    <tr>\n",
       "      <th>4</th>\n",
       "      <td>29089361</td>\n",
       "      <td>Biden responds to allegation of unwanted touch...</td>\n",
       "      <td>0_3086</td>\n",
       "      <td>Ex-U.S. Vice President Biden denies inappropri...</td>\n",
       "      <td>3086</td>\n",
       "      <td>0</td>\n",
       "      <td>7</td>\n",
       "      <td>3</td>\n",
       "      <td>29077036^A29076426^A29054671^A29103572^A290893...</td>\n",
       "      <td>64</td>\n",
       "      <td>29089361</td>\n",
       "      <td>Bernie Sanders: 'No Reason' To Doubt Lucy Flor...</td>\n",
       "      <td>2019-04-01 01:33:39</td>\n",
       "      <td>新闻周刊</td>\n",
       "      <td>By  Benjamin Fearnow  On 3/31/19 at 1:33 PM ED...</td>\n",
       "    </tr>\n",
       "  </tbody>\n",
       "</table>\n",
       "</div>"
      ],
      "text/plain": [
       "     member                                              topic    c_id  \\\n",
       "0  29077036  Warren: Decision on 2020 up to Biden after wom...  0_3085   \n",
       "1  29076426  Warren: Decision on 2020 up to Biden after wom...  0_3085   \n",
       "2  29054671  Warren: Decision on 2020 up to Biden after wom...  0_3085   \n",
       "3  29103572  Biden responds to allegation of unwanted touch...  0_3086   \n",
       "4  29089361  Biden responds to allegation of unwanted touch...  0_3086   \n",
       "\n",
       "                                           fir_topic  cluster_id  \\\n",
       "0  Ex-U.S. Vice President Biden denies inappropri...        3085   \n",
       "1  Ex-U.S. Vice President Biden denies inappropri...        3085   \n",
       "2  Ex-U.S. Vice President Biden denies inappropri...        3085   \n",
       "3  Ex-U.S. Vice President Biden denies inappropri...        3086   \n",
       "4  Ex-U.S. Vice President Biden denies inappropri...        3086   \n",
       "\n",
       "   fir_cluster_ind  member_count  site_count  \\\n",
       "0                0             3           3   \n",
       "1                0             3           3   \n",
       "2                0             3           3   \n",
       "3                0             7           3   \n",
       "4                0             7           3   \n",
       "\n",
       "                                          fir_member  fir_member_count  \\\n",
       "0  29077036^A29076426^A29054671^A29103572^A290893...                64   \n",
       "1  29077036^A29076426^A29054671^A29103572^A290893...                64   \n",
       "2  29077036^A29076426^A29054671^A29103572^A290893...                64   \n",
       "3  29077036^A29076426^A29054671^A29103572^A290893...                64   \n",
       "4  29077036^A29076426^A29054671^A29103572^A290893...                64   \n",
       "\n",
       "         id                                              title  \\\n",
       "0  29077036  Event organizer: Biden, accuser were never alo...   \n",
       "1  29076426  Warren and Castro back Biden accuser – but don...   \n",
       "2  29054671  Warren: Decision on 2020 up to Biden after wom...   \n",
       "3  29103572  Flores: Interaction with Biden 'a violation of...   \n",
       "4  29089361  Bernie Sanders: 'No Reason' To Doubt Lucy Flor...   \n",
       "\n",
       "          publishtime site_name  \\\n",
       "0 2019-03-31 19:53:39      国会山报   \n",
       "1 2019-03-31 19:23:53        卫报   \n",
       "2 2019-03-31 10:00:13    美国广播公司   \n",
       "3 2019-04-01 09:02:46      国会山报   \n",
       "4 2019-04-01 01:33:39      新闻周刊   \n",
       "\n",
       "                                             content  \n",
       "0   \\nThe organizer of a Nevada campaign rally sa...  \n",
       "1  Lucy Flores says then-VP kissed her at 2014 Ne...  \n",
       "2  Some Democratic presidential candidates are ex...  \n",
       "3    Lucy Flores, a former Nevada state assemblyw...  \n",
       "4  By  Benjamin Fearnow  On 3/31/19 at 1:33 PM ED...  "
      ]
     },
     "execution_count": 12,
     "metadata": {},
     "output_type": "execute_result"
    }
   ],
   "source": [
    "filtered_data.head()"
   ]
  },
  {
   "cell_type": "markdown",
   "metadata": {},
   "source": [
    "# pre"
   ]
  },
  {
   "cell_type": "code",
   "execution_count": 13,
   "metadata": {
    "ExecuteTime": {
     "end_time": "2019-04-04T09:18:27.598416Z",
     "start_time": "2019-04-04T09:18:26.924449Z"
    }
   },
   "outputs": [],
   "source": [
    "import nltk\n",
    "from nltk.stem import WordNetLemmatizer\n",
    "from string import digits\n",
    "import re\n",
    "\n",
    "stopwords = {}\n",
    "stw = open(\"corpus/stopwords.txt\")\n",
    "for ws in stw:\n",
    "    ws = ws.replace(\"\\n\", \"\")\n",
    "    ws = ws.replace(\"\\r\", \"\")\n",
    "    stopwords[ws] = 1\n",
    "stw.close()\n",
    "\n",
    "# stopwords\n",
    "\n",
    "\n",
    "def clean_text(text):\n",
    "    # 去网页中的特殊编码字符串\n",
    "    text = \" \".join(text.split())\n",
    "    word_list = []\n",
    "    for word in text.split():\n",
    "        try :\n",
    "#             print 'word: ', word, chardet.detect(bytes(word))\n",
    "            word_code = word.encode('raw_unicode_escape').decode('utf-8', \"ignore\")\n",
    "#             print 'word_code: ', word_code, chardet.detect(bytes(word_code))\n",
    "            clear_flag = False\n",
    "            if \"\\\\u\" in word_code:\n",
    "                clear_flag = True\n",
    "                clear_num = 6\n",
    "            elif '\\u' in word_code:\n",
    "                clear_flag = True\n",
    "                clear_num = 5                \n",
    "            if clear_flag:\n",
    "                if len(word_code) >= (word_code.index('\\\\u') +6):\n",
    "                    w = word_code[word_code.index('\\\\u'): word_code.index('\\\\u') +6]\n",
    "                else :\n",
    "                    w = word_code[word_code.index('\\\\u'): ]\n",
    "                word_code = word_code.replace(w, ' ')\n",
    "            word_list.append(word_code) \n",
    "        except :\n",
    "            print '---', word, chardet.detect(bytes(word))\n",
    "            \n",
    "    text = \" \".join(word_list)\n",
    "            \n",
    "    text = text.replace(\"\\n\", \" \").replace('\\r',' ').replace('\\r\\n',' ').replace('\\t', ' ')\n",
    "    reobj = re.compile('//@(.*?)[:\\s]')\n",
    "    text = reobj.sub(\"\", text)\n",
    "    reobj = re.compile(\"@(.*?)[:\\s]\")\n",
    "    text = reobj.sub(\"\", text)\n",
    "    reobj = re.compile(r\"\\[[^\\[\\]]*?\\]\")\n",
    "    text = reobj.sub(\"\", text)\n",
    "\n",
    "    return text\n",
    "\n",
    "def clean_word(s):  \n",
    "    # 去除标点和特殊字符、数字、汉字\n",
    "    regex = re.compile(r\"[^a-zA-Z]\")\n",
    "    s = regex.sub('', s)\n",
    "    \n",
    "    # 去除字符串中的数字 s = 'abc123def456ghi789zero0'\n",
    "#     remove_digits = str.maketrans('', '', digits)\n",
    "#     res = s.translate(remove_digits)\n",
    "    res = s\n",
    "    return res"
   ]
  },
  {
   "cell_type": "code",
   "execution_count": 15,
   "metadata": {
    "ExecuteTime": {
     "end_time": "2019-04-04T09:18:33.036196Z",
     "start_time": "2019-04-04T09:18:32.977536Z"
    }
   },
   "outputs": [],
   "source": [
    "def handle_content(content):\n",
    "    line = \"\"\n",
    "#     try :\n",
    "#         content = str(content.decode('utf-8'))\n",
    "    content = content.strip()    \n",
    "    if content != \"\":       \n",
    "        # 1 清理字符串\n",
    "        content = clean_text(content)\n",
    "\n",
    "        # 2 分句\n",
    "        sent_tokenize_list = nltk.sent_tokenize(content)\n",
    "\n",
    "        # 3 清理句子\n",
    "        clean_sent_list = [clean_text(sent) for sent in sent_tokenize_list]\n",
    "\n",
    "        # 4 分词 \n",
    "        # 去掉长度小于3、去掉数字、去掉标点符号/去掉 non-alpha 词\n",
    "        word_tokenize_list = []\n",
    "        for sent in clean_sent_list:\n",
    "#                 word_t_l = filter(lambda x: len(x) > 2, map(clean_word, nltk.word_tokenize(sent)))\n",
    "            word_list = nltk.word_tokenize(sent)\n",
    "            word_pos_tag = nltk.pos_tag(word_list)\n",
    "            word_t_l = []\n",
    "            for word, pos in word_pos_tag:\n",
    "                if len(word) > 2:\n",
    "                    word = clean_word(word)\n",
    "                    item = ''\n",
    "                    if pos.startswith('NN'):  # 名词\n",
    "                        item = word\n",
    "                    if pos.startswith('VB'):  # 动词\n",
    "                        item = word\n",
    "                    if pos.startswith('JJ'):  # 形容词\n",
    "                        item = word  \n",
    "                    if len(item)>0:word_t_l.append(item)\n",
    "            word_tokenize_list += list(word_t_l)\n",
    "\n",
    "        # 5 清理词\n",
    "        # 去掉停用词、，小写化\n",
    "        word_list = [word.lower() for word in word_tokenize_list if word.lower() not in stopwords]\n",
    "\n",
    "        # 6 词形还原\n",
    "        wnl = WordNetLemmatizer()\n",
    "        word_list = [wnl.lemmatize(word) for word in word_list]\n",
    "\n",
    "        line = \" \".join(word_list)\n",
    "#     except Exception as e:\n",
    "#         print e, content\n",
    "#         return line\n",
    "    return line\n"
   ]
  },
  {
   "cell_type": "code",
   "execution_count": 16,
   "metadata": {
    "ExecuteTime": {
     "end_time": "2019-04-04T09:18:34.723665Z",
     "start_time": "2019-04-04T09:18:34.692439Z"
    }
   },
   "outputs": [],
   "source": [
    "def handle_contents(l_contents):\n",
    "    lines = multi_process('handle_content', handle_content, l_contents)\n",
    "#     lines = []\n",
    "#     for line in l_contents:\n",
    "#         lines.append(handle_content(line))\n",
    "    return lines    "
   ]
  },
  {
   "cell_type": "code",
   "execution_count": 78,
   "metadata": {
    "ExecuteTime": {
     "end_time": "2019-04-04T06:46:07.507339Z",
     "start_time": "2019-04-04T06:46:07.470131Z"
    }
   },
   "outputs": [
    {
     "data": {
      "text/plain": [
       "u'event organizer biden accuser'"
      ]
     },
     "execution_count": 78,
     "metadata": {},
     "output_type": "execute_result"
    }
   ],
   "source": [
    "clean_title[0]\n",
    "clean_text(a)\n",
    "handle_content(a)\n",
    "\n",
    "a = filtered_data['title'].tolist()[0]\n",
    "print a\n",
    "chardet.detect(bytes(a))"
   ]
  },
  {
   "cell_type": "markdown",
   "metadata": {},
   "source": [
    "## title and content"
   ]
  },
  {
   "cell_type": "code",
   "execution_count": 17,
   "metadata": {
    "ExecuteTime": {
     "end_time": "2019-04-04T09:18:39.387522Z",
     "start_time": "2019-04-04T09:18:34.833888Z"
    }
   },
   "outputs": [
    {
     "name": "stdout",
     "output_type": "stream",
     "text": [
      "starting func: handle_content. njobs: 6, num: 7302\n",
      "end func: handle_content. elapsed_time: 4.00, num_sent: 7302\n",
      "7302\n"
     ]
    },
    {
     "data": {
      "text/plain": [
       "u'event organizer biden accuser'"
      ]
     },
     "execution_count": 17,
     "metadata": {},
     "output_type": "execute_result"
    }
   ],
   "source": [
    "clean_title = handle_contents(filtered_data['title'].tolist())\n",
    "print len(clean_title)\n",
    "clean_title[0]"
   ]
  },
  {
   "cell_type": "code",
   "execution_count": 18,
   "metadata": {
    "ExecuteTime": {
     "end_time": "2019-04-04T09:19:51.892808Z",
     "start_time": "2019-04-04T09:18:55.339183Z"
    }
   },
   "outputs": [
    {
     "name": "stdout",
     "output_type": "stream",
     "text": [
      "starting func: handle_content. njobs: 6, num: 7302\n",
      "end func: handle_content. elapsed_time: 56.00, num_sent: 7302\n"
     ]
    },
    {
     "data": {
      "text/plain": [
       "7302"
      ]
     },
     "execution_count": 18,
     "metadata": {},
     "output_type": "execute_result"
    }
   ],
   "source": [
    "clean_content = handle_contents(filtered_data['content'].tolist())\n",
    "len(clean_content)"
   ]
  },
  {
   "cell_type": "code",
   "execution_count": 106,
   "metadata": {
    "ExecuteTime": {
     "end_time": "2019-04-04T07:37:20.006437Z",
     "start_time": "2019-04-04T07:31:43.750091Z"
    }
   },
   "outputs": [
    {
     "data": {
      "text/plain": [
       "7302"
      ]
     },
     "execution_count": 106,
     "metadata": {},
     "output_type": "execute_result"
    }
   ],
   "source": [
    "clean_content = handle_contents(filtered_data['content'].tolist())\n",
    "len(clean_content)"
   ]
  },
  {
   "cell_type": "code",
   "execution_count": 38,
   "metadata": {
    "ExecuteTime": {
     "end_time": "2019-04-04T05:52:49.325608Z",
     "start_time": "2019-04-04T05:52:49.283495Z"
    }
   },
   "outputs": [
    {
     "data": {
      "text/plain": [
       "u' \\nThe organizer of\\xa0a\\xa0Nevada\\xa0campaign rally said late Saturday that   Joe Biden      Joseph (Joe) Robinette Biden      Former Dem politician accuses Biden of \\\\\\'inappropriate\\\\\\' contact      Poll: Americans more likely to say Ocasio-Cortez is \\\\\\'bad\\\\\\' than \\\\\\'good\\\\\\' for Democrats      The Hill\\\\\\'s 12:30 Report: Trump raises stakes with threat to close Mexican border      MORE and the former state assemblywoman who  accused the former vice president of inappropriate contact at the event were never alone together.\\n\\n\\u201cI have thoroughly reviewed photographic documentation from the event, and spoken to nearly every principle in attendance, as well as staff associated with the event. To the best of our recollection, at no time were Lucy Flores and Vice President Biden alone,\\u201d Henry Munoz, co-founder of Latino Victory Project, said in a statement.\\n    ADVERTISEMENT \\nFlores on Friday accused former Biden, who is expected to announce his 2020 presidential campaign in the coming weeks, of inappropriately touching her at\\xa0the rally when she was running for Nevada lieutenant governor in 2014.\\n\\nFlores  wrote in The Cut that Biden put his hands on her shoulders, leaned in to smell her hair and kissed the back of her head while she stood next to the stage at the campaign event.\\n\\n\\u201cMy brain couldn\\u2019t process what was happening. I was embarrassed. I was shocked. I was confused,\\u201d she wrote.\\n\\nFlores added that she \\\\\"never experienced anything so blatantly inappropriate and unnerving before.\\\\\"\\n\\nMunoz said in his statement that Biden had his\\xa0own holding room at the event, while Flores waited in the same room as he and\\xa0organization leaders, advance staff and campaign staff did.\\xa0\\n\\n\\\\\"In the moments before the Vice President and the candidate went onstage to address supporters and press, they were together just off stage left, and surrounded by security, medical and production staff,\\u201d\\xa0Munoz said.\\n\\n\\u201cLucy is my good friend and a good friend to Latino Victory, which has strongly supported her political career. I also firmly believe that women need to be supported and heard and that there is a reckoning in our culture that is long overdue. Vice President Biden is also my close friend, to the degree that he presided over my own marriage. These are both individuals that I love and respect,\\u201d he said.\\n\\n\\u201cYet at no time were these two leaders alone together and I, and the organization I cofounded and those in attendance, do not believe that circumstances support allegations that such an event took place,\\u201d he added.\\n\\nA spokesman for Biden told The Hill\\xa0on Friday that neither the former vice president nor his staff recalled the events described by Flores, but\\xa0added that Biden believes she has a right to share her recollection.\\n\\nSen.   Elizabeth Warren      Elizabeth Ann Warren      On The Money: McMahon to step down as Small Business administrator | Trump defends reversing North Korea sanctions | White House touts progress in China trade talks | 2020 Dem Inslee releases his tax returns      Hillicon Valley \\u2014 Presented by NCTA \\u2014 Huawei lashes out, says US has \\\\\\'loser\\\\\\'s attitude\\\\\\' | Koch group attacks Warren plan for tech crackdown | New bipartisan push to end NSA surveillance program      Warren puts gender front and center in new fundraising campaign      MORE (Mass.) and former Housing and Urban Development Secretary Juli\\xe1n Castro, both 2020 Democratic presidential candidates,  said Saturday that they believe Flores.\\n'"
      ]
     },
     "execution_count": 38,
     "metadata": {},
     "output_type": "execute_result"
    }
   ],
   "source": [
    "b = filtered_data['content'].tolist()[0]\n",
    "b"
   ]
  },
  {
   "cell_type": "code",
   "execution_count": 74,
   "metadata": {
    "ExecuteTime": {
     "end_time": "2019-04-04T06:25:42.622721Z",
     "start_time": "2019-04-04T06:25:42.584232Z"
    }
   },
   "outputs": [
    {
     "data": {
      "text/plain": [
       "u'organizer nevada campaign rally late saturday joe biden joseph joe robinette biden dem politician accuses biden inappropriate contact poll american ocasiocortez bad democrat hill report trump raise stake threat close mexican border assemblywoman accused vice president inappropriate contact event reviewed photographic documentation event spoken principle attendance staff event recollection time lucy flores vice president biden henry munoz cofounder latino victory project statement advertisement flores friday accused biden expected presidential campaign coming week inappropriately touching rally running nevada lieutenant governor flores wrote cut biden hand shoulder leaned smell hair kissed head stood stage campaign event brain couldn process happening embarrassed shocked confused wrote flores experienced blatantly inappropriate unnerving munoz statement biden holding event flores waited organization leader advance staff campaign staff moment vice president candidate onstage address supporter press stage left surrounded security medical production staff munoz lucy friend friend latino victory supported political career firmly woman supported heard reckoning culture overdue vice president biden close friend degree presided marriage individual love respect time leader organization cofounded attendance circumstance support allegation event spokesman biden told hill friday vice president staff recalled event flores biden belief share recollection sen elizabeth warren elizabeth ann warren money mcmahon step business administrator trump defends reversing north korea sanction white house tout progress china trade talk dem inslee release tax return hillicon valley ncta huawei lash loser attitude koch attack warren plan tech crackdown bipartisan push nsa surveillance program warren gender front center fundraising campaign mass housing urban development secretary julin castro democratic presidential candidate saturday flores'"
      ]
     },
     "execution_count": 74,
     "metadata": {},
     "output_type": "execute_result"
    }
   ],
   "source": [
    "clean_content[0]"
   ]
  },
  {
   "cell_type": "code",
   "execution_count": 109,
   "metadata": {
    "ExecuteTime": {
     "end_time": "2019-04-04T07:42:39.150168Z",
     "start_time": "2019-04-04T07:42:39.112598Z"
    }
   },
   "outputs": [
    {
     "data": {
      "text/plain": [
       "u'organizer nevada campaign rally late saturday joe biden joseph joe robinette biden dem politician accuses biden inappropriate contact poll american ocasiocortez bad democrat hill report trump raise stake threat close mexican border assemblywoman accused vice president inappropriate contact event reviewed photographic documentation event spoken principle attendance staff event recollection time lucy flores vice president biden henry munoz cofounder latino victory project statement advertisement flores friday accused biden expected presidential campaign coming week touching rally running nevada lieutenant governor flores wrote cut biden hand shoulder leaned smell hair kissed head stood stage campaign event brain couldn process happening embarrassed shocked confused wrote flores experienced inappropriate unnerving munoz statement biden holding event flores waited organization leader advance staff campaign staff moment vice president candidate onstage address supporter press stage left surrounded security medical production staff munoz lucy friend friend latino victory supported political career woman supported heard reckoning culture overdue vice president biden close friend degree presided marriage individual love respect time leader organization cofounded attendance circumstance support allegation event spokesman biden told hill friday vice president staff recalled event flores biden belief share recollection sen elizabeth warren elizabeth ann warren money mcmahon step business administrator trump defends reversing north korea sanction white house tout progress china trade talk dem inslee release tax return hillicon valley ncta huawei lash loser attitude koch attack warren plan tech crackdown bipartisan push nsa surveillance program warren gender front center fundraising campaign mass housing urban development secretary julin castro democratic presidential candidate saturday flores'"
      ]
     },
     "execution_count": 109,
     "metadata": {},
     "output_type": "execute_result"
    }
   ],
   "source": [
    "clean_content[0]"
   ]
  },
  {
   "cell_type": "markdown",
   "metadata": {},
   "source": [
    "# feature"
   ]
  },
  {
   "cell_type": "markdown",
   "metadata": {},
   "source": [
    "## get feature"
   ]
  },
  {
   "cell_type": "code",
   "execution_count": 19,
   "metadata": {
    "ExecuteTime": {
     "end_time": "2019-04-04T09:20:15.555877Z",
     "start_time": "2019-04-04T09:20:15.512433Z"
    }
   },
   "outputs": [],
   "source": [
    "from sklearn.feature_extraction.text import TfidfVectorizer\n",
    "from sklearn.feature_extraction.text import TfidfTransformer\n",
    "from sklearn.feature_extraction.text import CountVectorizer\n",
    "\n",
    "def get_tfidf_matrix(clean_content, flag = 'OneStep'):\n",
    "    if flag == 'OneStep':\n",
    "        vectorizer = TfidfVectorizer()\n",
    "        tfidf_matrix = vectorizer.fit_transform(clean_content).toarray() \n",
    "    elif flag == 'TwoStep':\n",
    "        vectorizer = CountVectorizer(max_df=0.95, min_df=2)\n",
    "        transformer = TfidfTransformer() # norm=None 不归一化\n",
    "\n",
    "        vec_count = vectorizer.fit_transform(corpus)\n",
    "        tfidf_matrix = transformer.fit_transform(vec_count)  \n",
    "    return tfidf_matrix.toarray()"
   ]
  },
  {
   "cell_type": "code",
   "execution_count": 36,
   "metadata": {
    "ExecuteTime": {
     "end_time": "2019-04-04T09:36:49.569655Z",
     "start_time": "2019-04-04T09:36:49.531975Z"
    }
   },
   "outputs": [
    {
     "data": {
      "text/plain": [
       "[u'organizer nevada campaign rally late saturday joe biden joseph joe robinette biden dem politician accuses biden inappropriate contact poll american ocasiocortez bad democrat hill report trump raise stake threat close mexican border assemblywoman accused vice president inappropriate contact event reviewed photographic documentation event spoken principle attendance staff event recollection time lucy flores vice president biden henry munoz cofounder latino victory project statement advertisement flores friday accused biden expected presidential campaign coming week touching rally running nevada lieutenant governor flores wrote cut biden hand shoulder leaned smell hair kissed head stood stage campaign event brain couldn process happening embarrassed shocked confused wrote flores experienced inappropriate unnerving munoz statement biden holding event flores waited organization leader advance staff campaign staff moment vice president candidate onstage address supporter press stage left surrounded security medical production staff munoz lucy friend friend latino victory supported political career woman supported heard reckoning culture overdue vice president biden close friend degree presided marriage individual love respect time leader organization cofounded attendance circumstance support allegation event spokesman biden told hill friday vice president staff recalled event flores biden belief share recollection sen elizabeth warren elizabeth ann warren money mcmahon step business administrator trump defends reversing north korea sanction white house tout progress china trade talk dem inslee release tax return hillicon valley ncta huawei lash loser attitude koch attack warren plan tech crackdown bipartisan push nsa surveillance program warren gender front center fundraising campaign mass housing urban development secretary julin castro democratic presidential candidate saturday flores']"
      ]
     },
     "execution_count": 36,
     "metadata": {},
     "output_type": "execute_result"
    }
   ],
   "source": [
    "clean_content[:1]"
   ]
  },
  {
   "cell_type": "markdown",
   "metadata": {
    "collapsed": true
   },
   "source": [
    "### tf-idf"
   ]
  },
  {
   "cell_type": "code",
   "execution_count": 44,
   "metadata": {
    "ExecuteTime": {
     "end_time": "2019-04-04T09:56:14.815501Z",
     "start_time": "2019-04-04T09:56:11.319234Z"
    }
   },
   "outputs": [
    {
     "name": "stdout",
     "output_type": "stream",
     "text": [
      "(7302, 76986)\n"
     ]
    },
    {
     "data": {
      "text/plain": [
       "array([0., 0., 0., 0., 0., 0., 0., 0., 0., 0., 0., 0., 0., 0., 0., 0., 0.,\n",
       "       0., 0., 0., 0., 0., 0., 0., 0., 0., 0., 0., 0., 0., 0., 0., 0., 0.,\n",
       "       0., 0., 0., 0., 0., 0., 0., 0., 0., 0., 0., 0., 0., 0., 0., 0., 0.,\n",
       "       0., 0., 0., 0., 0., 0., 0., 0., 0., 0., 0., 0., 0., 0., 0., 0., 0.,\n",
       "       0., 0., 0., 0., 0., 0., 0., 0., 0., 0., 0., 0., 0., 0., 0., 0., 0.,\n",
       "       0., 0., 0., 0., 0., 0., 0., 0., 0., 0., 0., 0., 0., 0., 0.])"
      ]
     },
     "execution_count": 44,
     "metadata": {},
     "output_type": "execute_result"
    }
   ],
   "source": [
    "vectorizer = TfidfVectorizer()\n",
    "tfidf_matrix_1 = vectorizer.fit_transform(clean_content).toarray()\n",
    "\n",
    "print tfidf_matrix_1.shape\n",
    "tfidf_matrix_1[0][:100]"
   ]
  },
  {
   "cell_type": "code",
   "execution_count": 51,
   "metadata": {
    "ExecuteTime": {
     "end_time": "2019-04-04T09:58:17.754396Z",
     "start_time": "2019-04-04T09:58:14.929273Z"
    }
   },
   "outputs": [
    {
     "name": "stdout",
     "output_type": "stream",
     "text": [
      "(7302, 38904)\n",
      "[0. 0. 0. 0. 0. 0. 0. 0. 0. 0. 0. 0. 0. 0. 0. 0. 0. 0. 0. 0. 0. 0. 0. 0.\n",
      " 0. 0. 0. 0. 0. 0. 0. 0. 0. 0. 0. 0. 0. 0. 0. 0. 0. 0. 0. 0. 0. 0. 0. 0.\n",
      " 0. 0. 0. 0. 0. 0. 0. 0. 0. 0. 0. 0. 0. 0. 0. 0. 0. 0. 0. 0. 0. 0. 0. 0.\n",
      " 0. 0. 0. 0. 0. 0. 0. 0. 0. 0. 0. 0. 0. 0. 0. 0. 0. 0. 0. 0. 0. 0. 0. 0.\n",
      " 0. 0. 0. 0.]\n"
     ]
    }
   ],
   "source": [
    "vectorizer = CountVectorizer(max_df=0.95, min_df=2)\n",
    "transformer = TfidfTransformer()\n",
    "\n",
    "vec_count = vectorizer.fit_transform(clean_content)\n",
    "tfidf_matrix_2 = transformer.fit_transform(vec_count).toarray()\n",
    "\n",
    "print tfidf_matrix_2.shape\n",
    "print tfidf_matrix_2[0][:100]"
   ]
  },
  {
   "cell_type": "code",
   "execution_count": 55,
   "metadata": {
    "ExecuteTime": {
     "end_time": "2019-04-04T09:58:46.708818Z",
     "start_time": "2019-04-04T09:58:46.667682Z"
    }
   },
   "outputs": [
    {
     "data": {
      "text/plain": [
       "0.45507857715012556"
      ]
     },
     "execution_count": 55,
     "metadata": {},
     "output_type": "execute_result"
    }
   ],
   "source": [
    "max(tfidf_matrix_2[1])"
   ]
  },
  {
   "cell_type": "markdown",
   "metadata": {},
   "source": [
    "## feature selection"
   ]
  },
  {
   "cell_type": "code",
   "execution_count": 23,
   "metadata": {
    "ExecuteTime": {
     "end_time": "2019-04-04T09:23:41.510339Z",
     "start_time": "2019-04-04T09:23:41.469571Z"
    }
   },
   "outputs": [],
   "source": [
    "from sklearn.decomposition import PCA, TruncatedSVD\n",
    "\n",
    "def get_decomposition_feature(feature_matrix, flag, n = 1000):\n",
    "    \n",
    "    if flag == 'pca':\n",
    "        pca = PCA(n_components=n, copy=False)\n",
    "        decomposition_matrix = pca.fit_transform(feature_matrix) \n",
    "    elif flag == 'svd':\n",
    "        pca = TruncatedSVD(n_components=n, algorithm='arpack')\n",
    "        decomposition_matrix = pca.fit_transform(feature_matrix)\n",
    "    elif flag == 'agg':\n",
    "        agglo = cluster.FeatureAgglomeration(n_clusters=n)\n",
    "        decomposition_matrix = agglo.fit_transform(feature_matrix)\n",
    "    elif flag == 'tfidf':\n",
    "        decomposition_matrix = feature_matrix       \n",
    "        \n",
    "    return decomposition_matrix"
   ]
  },
  {
   "cell_type": "code",
   "execution_count": 24,
   "metadata": {
    "ExecuteTime": {
     "end_time": "2019-04-04T09:23:44.221368Z",
     "start_time": "2019-04-04T09:23:43.051194Z"
    }
   },
   "outputs": [],
   "source": [
    "tfidf_matrix = tfidf_matrix_2.toarray()"
   ]
  },
  {
   "cell_type": "markdown",
   "metadata": {},
   "source": [
    "### PCA"
   ]
  },
  {
   "cell_type": "code",
   "execution_count": 25,
   "metadata": {
    "ExecuteTime": {
     "end_time": "2019-04-04T09:27:48.855592Z",
     "start_time": "2019-04-04T09:23:46.896557Z"
    }
   },
   "outputs": [
    {
     "data": {
      "text/plain": [
       "(7302, 1000)"
      ]
     },
     "execution_count": 25,
     "metadata": {},
     "output_type": "execute_result"
    }
   ],
   "source": [
    "n = 1000\n",
    "pca = PCA(n_components=n, copy=False)\n",
    "fea_pca_matrix = pca.fit_transform(tfidf_matrix)\n",
    "print fea_pca_matrix.shape\n",
    "fea_pca_matrix[0][:10]"
   ]
  },
  {
   "cell_type": "code",
   "execution_count": 42,
   "metadata": {
    "ExecuteTime": {
     "end_time": "2019-04-04T09:39:35.423307Z",
     "start_time": "2019-04-04T09:39:35.382418Z"
    }
   },
   "outputs": [
    {
     "data": {
      "text/plain": [
       "array([ -2.97236305,   1.52667073,  -0.69822775,  10.07828765,\n",
       "         0.18059459,  20.34658564,  -6.26308804, -29.12818558,\n",
       "       -20.57586251,   3.00293467])"
      ]
     },
     "execution_count": 42,
     "metadata": {},
     "output_type": "execute_result"
    }
   ],
   "source": [
    "fea_pca_matrix[0][:10]"
   ]
  },
  {
   "cell_type": "markdown",
   "metadata": {},
   "source": [
    "### TruncatedSVD"
   ]
  },
  {
   "cell_type": "code",
   "execution_count": 122,
   "metadata": {
    "ExecuteTime": {
     "end_time": "2019-04-04T08:04:47.326458Z",
     "start_time": "2019-04-04T08:00:51.879988Z"
    }
   },
   "outputs": [
    {
     "data": {
      "text/plain": [
       "(7302, 1000)"
      ]
     },
     "execution_count": 122,
     "metadata": {},
     "output_type": "execute_result"
    }
   ],
   "source": [
    "n = 1000\n",
    "svd = TruncatedSVD(n_components=n, algorithm='arpack')\n",
    "fea_svd_matrix = pca.fit_transform(tfidf_matrix)\n",
    "print fea_svd_matrix.shape"
   ]
  },
  {
   "cell_type": "markdown",
   "metadata": {
    "collapsed": true
   },
   "source": [
    "### feature agglomeration\n",
    "- feature agglomeration with Ward hierarchical clustering\n",
    "- 时间太长，不实用"
   ]
  },
  {
   "cell_type": "code",
   "execution_count": null,
   "metadata": {
    "ExecuteTime": {
     "start_time": "2019-04-04T08:05:11.775Z"
    }
   },
   "outputs": [],
   "source": [
    "n = 1000\n",
    "agglo = cluster.FeatureAgglomeration(n_clusters=n)\n",
    "fea_agg_matrix = agglo.fit_transform(tfidf_matrix)\n",
    "fea_agg_matrix.shape"
   ]
  },
  {
   "cell_type": "markdown",
   "metadata": {},
   "source": [
    "# clustering"
   ]
  },
  {
   "cell_type": "code",
   "execution_count": 27,
   "metadata": {
    "ExecuteTime": {
     "end_time": "2019-04-04T09:30:45.342226Z",
     "start_time": "2019-04-04T09:30:45.301104Z"
    }
   },
   "outputs": [],
   "source": [
    "def get_labels(feature_matrix,flag, t = None):\n",
    "    if flag =='sci_h':\n",
    "        labels = hierarchy_cluster(feature_matrix, t)\n",
    "    elif flag =='birch':\n",
    "        brc = cluster.Birch(branching_factor=50, n_clusters=None, \n",
    "                            threshold=t,compute_labels=True)\n",
    "        labels = brc.fit_predict(feature_matrix) \n",
    "    elif flag =='dbscan':\n",
    "        clustering = cluster.DBSCAN(eps=t, min_samples=2).fit(feature_matrix)\n",
    "        labels = clustering.labels_       \n",
    "    elif flag =='meanshift':\n",
    "        clustering = cluster.MeanShift(bandwidth=t).fit(feature_matrix)\n",
    "        labels = clustering.labels_      \n",
    "    elif flag =='affinity':\n",
    "        clustering = AffinityPropagation().fit(feature_matrix)\n",
    "        labels = clustering.labels_\n",
    "        \n",
    "    return labels   "
   ]
  },
  {
   "cell_type": "code",
   "execution_count": 28,
   "metadata": {
    "ExecuteTime": {
     "end_time": "2019-04-04T09:30:45.775320Z",
     "start_time": "2019-04-04T09:30:45.745696Z"
    }
   },
   "outputs": [],
   "source": [
    "feature_matrix = fea_pca_matrix"
   ]
  },
  {
   "cell_type": "markdown",
   "metadata": {
    "collapsed": true
   },
   "source": [
    "## scipy hierarchy"
   ]
  },
  {
   "cell_type": "code",
   "execution_count": 28,
   "metadata": {
    "ExecuteTime": {
     "end_time": "2019-04-04T08:45:11.615002Z",
     "start_time": "2019-04-04T08:45:11.575552Z"
    }
   },
   "outputs": [],
   "source": [
    "import scipy.cluster.hierarchy as sch\n",
    "\n",
    "def hierarchy_cluster(tfidf_matrix, t):\n",
    "\n",
    "    # 1. 层次聚类\n",
    "    # 生成点与点之间的距离矩阵,这里用的cos距离\n",
    "    disMat = sch.distance.pdist(tfidf_matrix, 'cosine')\n",
    "\n",
    "    # 进行层次聚类:\n",
    "    # Z = sch.linkage(disMat)\n",
    "    Z = sch.linkage(disMat, method='average')\n",
    "\n",
    "    # 将层级聚类结果以树状图表示出来并保存为plot_dendrogram.png\n",
    "    # P=sch.dendrogram(Z)\n",
    "    # plt.savefig('plot_dendrogram.png')\n",
    "\n",
    "    # 根据linkage matrix Z得到聚类结果:\n",
    "    labels = sch.fcluster(Z, t=t, criterion='distance')\n",
    "    return labels"
   ]
  },
  {
   "cell_type": "code",
   "execution_count": null,
   "metadata": {
    "ExecuteTime": {
     "start_time": "2019-04-04T09:00:56.156Z"
    }
   },
   "outputs": [],
   "source": [
    "labels = hierarchy_cluster(feature_matrix, 0.6)\n",
    "print 'cluster num: ', len(np.unique(labels))\n",
    "clustering_metrics(labels, labels_true = None, feature = feature_matrix)"
   ]
  },
  {
   "cell_type": "code",
   "execution_count": 30,
   "metadata": {
    "ExecuteTime": {
     "end_time": "2019-04-04T09:00:39.168748Z",
     "start_time": "2019-04-04T08:46:20.671756Z"
    }
   },
   "outputs": [
    {
     "name": "stdout",
     "output_type": "stream",
     "text": [
      "轮廓系数:  0.01723679201198816\n",
      "Calinski-Harabaz Index:  5.49469950420941\n",
      "t: 0.5, silhouette_score: None\n",
      "轮廓系数:  -0.018624661631729766\n",
      "Calinski-Harabaz Index:  6.089848575294732\n",
      "t: 0.6, silhouette_score: None\n",
      "轮廓系数:  -0.06433405481253106\n",
      "Calinski-Harabaz Index:  6.7473834739780365\n",
      "t: 0.7, silhouette_score: None\n",
      "轮廓系数:  -0.10583192554093637\n",
      "Calinski-Harabaz Index:  7.751228063124646\n",
      "t: 0.8, silhouette_score: None\n",
      "轮廓系数:  -0.11526961064008873\n",
      "Calinski-Harabaz Index:  8.932294779975003\n",
      "t: 0.9, silhouette_score: None\n",
      "轮廓系数:  -0.011609053534844316\n",
      "Calinski-Harabaz Index:  119.09626862234866\n",
      "t: 1.0, silhouette_score: None\n"
     ]
    }
   ],
   "source": [
    "for t in [0.6, 0.7, 0.8, 0.9, 1.0]:    \n",
    "    labels = hierarchy_cluster(feature_matrix, t)\n",
    "    silhouette_score = metrics.silhouette_score(feature_matrix, labels, metric='cosine')\n",
    "    print '---- t: %s, cluster num: %s, silhouette_score: %s' % (t, len(np.unique(labels)), silhouette_score)"
   ]
  },
  {
   "cell_type": "code",
   "execution_count": null,
   "metadata": {
    "collapsed": true
   },
   "outputs": [],
   "source": []
  },
  {
   "cell_type": "markdown",
   "metadata": {
    "collapsed": true
   },
   "source": [
    "## sklearn BIRCH"
   ]
  },
  {
   "cell_type": "code",
   "execution_count": null,
   "metadata": {
    "ExecuteTime": {
     "start_time": "2019-04-04T09:00:46.878Z"
    }
   },
   "outputs": [
    {
     "name": "stdout",
     "output_type": "stream",
     "text": [
      "cluster num:  7257\n",
      "轮廓系数: "
     ]
    }
   ],
   "source": [
    "brc = cluster.Birch(branching_factor=50, n_clusters=None, threshold=0.5,compute_labels=True)\n",
    "labels = brc.fit_predict(feature_matrix) \n",
    "print 'cluster num: ', len(np.unique(labels))\n",
    "clustering_metrics(labels, labels_true = None, feature = feature_matrix)"
   ]
  },
  {
   "cell_type": "code",
   "execution_count": null,
   "metadata": {
    "collapsed": true
   },
   "outputs": [],
   "source": [
    "for t in [0.3, 0.4, 0.5, 0.7, 0.9]:    \n",
    "    brc = cluster.Birch(branching_factor=50, n_clusters=None, threshold=t,compute_labels=True)\n",
    "    labels = brc.fit_predict(feature_matrix) \n",
    "    silhouette_score = metrics.silhouette_score(feature_matrix, labels, metric='euclidean')\n",
    "    print '---- t: %s, cluster num: %s, silhouette_score: %s' % (t, len(np.unique(labels)), silhouette_score)"
   ]
  },
  {
   "cell_type": "code",
   "execution_count": 64,
   "metadata": {
    "ExecuteTime": {
     "end_time": "2019-04-09T02:06:22.559951Z",
     "start_time": "2019-04-09T02:06:22.526010Z"
    }
   },
   "outputs": [],
   "source": [
    "def get_birch_labels(t):\n",
    "    brc = cluster.Birch(branching_factor=50, n_clusters=None, threshold=t,compute_labels=True)\n",
    "    labels = brc.fit_predict(feature_matrix)  \n",
    "    return labels"
   ]
  },
  {
   "cell_type": "code",
   "execution_count": null,
   "metadata": {
    "ExecuteTime": {
     "start_time": "2019-04-09T02:06:28.946Z"
    }
   },
   "outputs": [
    {
     "name": "stdout",
     "output_type": "stream",
     "text": [
      "starting func: get_birch_labels. njobs: 6, num: 5\n"
     ]
    },
    {
     "name": "stderr",
     "output_type": "stream",
     "text": [
      "Exception in thread Thread-16:\n",
      "Traceback (most recent call last):\n",
      "  File \"/usr/lib/python2.7/threading.py\", line 801, in __bootstrap_inner\n",
      "    self.run()\n",
      "  File \"/usr/lib/python2.7/threading.py\", line 754, in run\n",
      "    self.__target(*self.__args, **self.__kwargs)\n",
      "  File \"/usr/lib/python2.7/multiprocessing/pool.py\", line 328, in _handle_workers\n",
      "    pool._maintain_pool()\n",
      "  File \"/usr/lib/python2.7/multiprocessing/pool.py\", line 232, in _maintain_pool\n",
      "    self._repopulate_pool()\n",
      "  File \"/usr/lib/python2.7/multiprocessing/pool.py\", line 225, in _repopulate_pool\n",
      "    w.start()\n",
      "  File \"/usr/lib/python2.7/multiprocessing/process.py\", line 130, in start\n",
      "    self._popen = Popen(self)\n",
      "  File \"/usr/lib/python2.7/multiprocessing/forking.py\", line 121, in __init__\n",
      "    self.pid = os.fork()\n",
      "OSError: [Errno 12] Cannot allocate memory\n",
      "\n",
      "Process PoolWorker-30:\n",
      "Traceback (most recent call last):\n",
      "  File \"/usr/lib/python2.7/multiprocessing/process.py\", line 267, in _bootstrap\n",
      "    self.run()\n",
      "  File \"/usr/lib/python2.7/multiprocessing/process.py\", line 114, in run\n",
      "    self._target(*self._args, **self._kwargs)\n",
      "  File \"/usr/lib/python2.7/multiprocessing/pool.py\", line 102, in worker\n",
      "Process PoolWorker-27:\n",
      "Process PoolWorker-29:\n",
      "    task = get()\n",
      "Traceback (most recent call last):\n",
      "Traceback (most recent call last):\n",
      "  File \"/usr/lib/python2.7/multiprocessing/queues.py\", line 376, in get\n",
      "  File \"/usr/lib/python2.7/multiprocessing/process.py\", line 267, in _bootstrap\n",
      "Process PoolWorker-28:\n",
      "    return recv()\n",
      "  File \"/usr/lib/python2.7/multiprocessing/process.py\", line 267, in _bootstrap\n",
      "    self.run()\n",
      "Traceback (most recent call last):\n",
      "KeyboardInterrupt\n",
      "    self.run()\n",
      "  File \"/usr/lib/python2.7/multiprocessing/process.py\", line 267, in _bootstrap\n",
      "  File \"/usr/lib/python2.7/multiprocessing/process.py\", line 114, in run\n",
      "  File \"/usr/lib/python2.7/multiprocessing/process.py\", line 114, in run\n",
      "    self._target(*self._args, **self._kwargs)\n",
      "    self._target(*self._args, **self._kwargs)\n",
      "    self.run()\n",
      "  File \"/usr/lib/python2.7/multiprocessing/pool.py\", line 102, in worker\n",
      "  File \"/usr/lib/python2.7/multiprocessing/pool.py\", line 102, in worker\n",
      "  File \"/usr/lib/python2.7/multiprocessing/process.py\", line 114, in run\n",
      "    task = get()\n",
      "    task = get()\n",
      "    self._target(*self._args, **self._kwargs)\n",
      "  File \"/usr/lib/python2.7/multiprocessing/queues.py\", line 374, in get\n",
      "  File \"/usr/lib/python2.7/multiprocessing/queues.py\", line 374, in get\n",
      "  File \"/usr/lib/python2.7/multiprocessing/pool.py\", line 102, in worker\n",
      "    racquire()\n",
      "    racquire()\n",
      "    task = get()\n",
      "KeyboardInterrupt\n",
      "KeyboardInterrupt\n",
      "  File \"/usr/lib/python2.7/multiprocessing/queues.py\", line 374, in get\n",
      "    racquire()\n",
      "KeyboardInterrupt\n"
     ]
    }
   ],
   "source": [
    "feature_matrix = tfidf_matrix_2\n",
    "param = [0.3, 0.4, 0.5, 0.7, 0.9]\n",
    "result_list = multi_process('get_birch_labels', get_birch_labels, param)"
   ]
  },
  {
   "cell_type": "code",
   "execution_count": null,
   "metadata": {
    "ExecuteTime": {
     "start_time": "2019-04-09T02:16:53.155Z"
    }
   },
   "outputs": [],
   "source": [
    "for (t, labels) in result_list:     \n",
    "    silhouette_score = metrics.silhouette_score(feature_matrix, labels, metric='cosine')\n",
    "    print '---- t: %s, cluster num: %s, silhouette_score: %s' % (t, len(np.unique(labels)), silhouette_score)"
   ]
  },
  {
   "cell_type": "markdown",
   "metadata": {},
   "source": [
    "## sklearn DBSCAN"
   ]
  },
  {
   "cell_type": "code",
   "execution_count": 29,
   "metadata": {
    "ExecuteTime": {
     "end_time": "2019-04-04T09:31:05.334700Z",
     "start_time": "2019-04-04T09:30:49.444502Z"
    }
   },
   "outputs": [
    {
     "name": "stdout",
     "output_type": "stream",
     "text": [
      "cluster num:  44\n",
      "轮廓系数:  -0.4322634632199418\n",
      "Calinski-Harabaz Index:  1.753317512942638\n"
     ]
    }
   ],
   "source": [
    "clustering = cluster.DBSCAN(eps=1, min_samples=2).fit(feature_matrix)\n",
    "labels = clustering.labels_\n",
    "print 'cluster num: ', len(np.unique(labels))\n",
    "clustering_metrics(labels, labels_true = None, feature = feature_matrix)"
   ]
  },
  {
   "cell_type": "code",
   "execution_count": 57,
   "metadata": {
    "ExecuteTime": {
     "end_time": "2019-04-04T10:02:17.528349Z",
     "start_time": "2019-04-04T10:02:17.492640Z"
    }
   },
   "outputs": [],
   "source": [
    "def get_dbscan_labels(t):\n",
    "    clustering = cluster.DBSCAN(eps=t, min_samples=2).fit(feature_matrix)\n",
    "    labels = clustering.labels_   \n",
    "    return labels"
   ]
  },
  {
   "cell_type": "code",
   "execution_count": 60,
   "metadata": {
    "ExecuteTime": {
     "end_time": "2019-04-04T11:23:45.180315Z",
     "start_time": "2019-04-04T10:07:17.279629Z"
    }
   },
   "outputs": [
    {
     "name": "stdout",
     "output_type": "stream",
     "text": [
      "starting func: get_dbscan_labels. njobs: 6, num: 5\n",
      "end func: get_dbscan_labels. elapsed_time: 4587.00, num_sent: 5\n"
     ]
    }
   ],
   "source": [
    "feature_matrix = tfidf_matrix_2\n",
    "param = [0.5, 0.7, 1.0, 1.5, 2.0]\n",
    "result_list = multi_process('get_dbscan_labels', get_dbscan_labels, param)"
   ]
  },
  {
   "cell_type": "code",
   "execution_count": 62,
   "metadata": {
    "ExecuteTime": {
     "end_time": "2019-04-09T01:53:21.811678Z",
     "start_time": "2019-04-09T01:51:52.692043Z"
    }
   },
   "outputs": [
    {
     "name": "stdout",
     "output_type": "stream",
     "text": [
      "---- t: 0.5, cluster num: 553, silhouette_score: -0.016488248821948426\n",
      "---- t: 0.7, cluster num: 653, silhouette_score: 0.03634354577836485\n",
      "---- t: 1.0, cluster num: 70, silhouette_score: -0.061784057133209315\n"
     ]
    },
    {
     "ename": "ValueError",
     "evalue": "Number of labels is 1. Valid values are 2 to n_samples - 1 (inclusive)",
     "output_type": "error",
     "traceback": [
      "\u001b[0;31m\u001b[0m",
      "\u001b[0;31mValueError\u001b[0mTraceback (most recent call last)",
      "\u001b[0;32m<ipython-input-62-4a6cc541971f>\u001b[0m in \u001b[0;36m<module>\u001b[0;34m()\u001b[0m\n\u001b[1;32m      1\u001b[0m \u001b[0;32mfor\u001b[0m \u001b[0;34m(\u001b[0m\u001b[0mt\u001b[0m\u001b[0;34m,\u001b[0m \u001b[0mlabels\u001b[0m\u001b[0;34m)\u001b[0m \u001b[0;32min\u001b[0m \u001b[0mresult_list\u001b[0m\u001b[0;34m:\u001b[0m\u001b[0;34m\u001b[0m\u001b[0m\n\u001b[0;32m----> 2\u001b[0;31m     \u001b[0msilhouette_score\u001b[0m \u001b[0;34m=\u001b[0m \u001b[0mmetrics\u001b[0m\u001b[0;34m.\u001b[0m\u001b[0msilhouette_score\u001b[0m\u001b[0;34m(\u001b[0m\u001b[0mfeature_matrix\u001b[0m\u001b[0;34m,\u001b[0m \u001b[0mlabels\u001b[0m\u001b[0;34m,\u001b[0m \u001b[0mmetric\u001b[0m\u001b[0;34m=\u001b[0m\u001b[0;34m'cosine'\u001b[0m\u001b[0;34m)\u001b[0m\u001b[0;34m\u001b[0m\u001b[0m\n\u001b[0m\u001b[1;32m      3\u001b[0m     \u001b[0;32mprint\u001b[0m \u001b[0;34m'---- t: %s, cluster num: %s, silhouette_score: %s'\u001b[0m \u001b[0;34m%\u001b[0m \u001b[0;34m(\u001b[0m\u001b[0mt\u001b[0m\u001b[0;34m,\u001b[0m \u001b[0mlen\u001b[0m\u001b[0;34m(\u001b[0m\u001b[0mnp\u001b[0m\u001b[0;34m.\u001b[0m\u001b[0munique\u001b[0m\u001b[0;34m(\u001b[0m\u001b[0mlabels\u001b[0m\u001b[0;34m)\u001b[0m\u001b[0;34m)\u001b[0m\u001b[0;34m,\u001b[0m \u001b[0msilhouette_score\u001b[0m\u001b[0;34m)\u001b[0m\u001b[0;34m\u001b[0m\u001b[0m\n",
      "\u001b[0;32m/usr/lib/python2.7/dist-packages/sklearn/metrics/cluster/unsupervised.pyc\u001b[0m in \u001b[0;36msilhouette_score\u001b[0;34m(X, labels, metric, sample_size, random_state, **kwds)\u001b[0m\n\u001b[1;32m     99\u001b[0m         \u001b[0;32melse\u001b[0m\u001b[0;34m:\u001b[0m\u001b[0;34m\u001b[0m\u001b[0m\n\u001b[1;32m    100\u001b[0m             \u001b[0mX\u001b[0m\u001b[0;34m,\u001b[0m \u001b[0mlabels\u001b[0m \u001b[0;34m=\u001b[0m \u001b[0mX\u001b[0m\u001b[0;34m[\u001b[0m\u001b[0mindices\u001b[0m\u001b[0;34m]\u001b[0m\u001b[0;34m,\u001b[0m \u001b[0mlabels\u001b[0m\u001b[0;34m[\u001b[0m\u001b[0mindices\u001b[0m\u001b[0;34m]\u001b[0m\u001b[0;34m\u001b[0m\u001b[0m\n\u001b[0;32m--> 101\u001b[0;31m     \u001b[0;32mreturn\u001b[0m \u001b[0mnp\u001b[0m\u001b[0;34m.\u001b[0m\u001b[0mmean\u001b[0m\u001b[0;34m(\u001b[0m\u001b[0msilhouette_samples\u001b[0m\u001b[0;34m(\u001b[0m\u001b[0mX\u001b[0m\u001b[0;34m,\u001b[0m \u001b[0mlabels\u001b[0m\u001b[0;34m,\u001b[0m \u001b[0mmetric\u001b[0m\u001b[0;34m=\u001b[0m\u001b[0mmetric\u001b[0m\u001b[0;34m,\u001b[0m \u001b[0;34m**\u001b[0m\u001b[0mkwds\u001b[0m\u001b[0;34m)\u001b[0m\u001b[0;34m)\u001b[0m\u001b[0;34m\u001b[0m\u001b[0m\n\u001b[0m\u001b[1;32m    102\u001b[0m \u001b[0;34m\u001b[0m\u001b[0m\n\u001b[1;32m    103\u001b[0m \u001b[0;34m\u001b[0m\u001b[0m\n",
      "\u001b[0;32m/usr/lib/python2.7/dist-packages/sklearn/metrics/cluster/unsupervised.pyc\u001b[0m in \u001b[0;36msilhouette_samples\u001b[0;34m(X, labels, metric, **kwds)\u001b[0m\n\u001b[1;32m    165\u001b[0m     \u001b[0mle\u001b[0m \u001b[0;34m=\u001b[0m \u001b[0mLabelEncoder\u001b[0m\u001b[0;34m(\u001b[0m\u001b[0;34m)\u001b[0m\u001b[0;34m\u001b[0m\u001b[0m\n\u001b[1;32m    166\u001b[0m     \u001b[0mlabels\u001b[0m \u001b[0;34m=\u001b[0m \u001b[0mle\u001b[0m\u001b[0;34m.\u001b[0m\u001b[0mfit_transform\u001b[0m\u001b[0;34m(\u001b[0m\u001b[0mlabels\u001b[0m\u001b[0;34m)\u001b[0m\u001b[0;34m\u001b[0m\u001b[0m\n\u001b[0;32m--> 167\u001b[0;31m     \u001b[0mcheck_number_of_labels\u001b[0m\u001b[0;34m(\u001b[0m\u001b[0mlen\u001b[0m\u001b[0;34m(\u001b[0m\u001b[0mle\u001b[0m\u001b[0;34m.\u001b[0m\u001b[0mclasses_\u001b[0m\u001b[0;34m)\u001b[0m\u001b[0;34m,\u001b[0m \u001b[0mX\u001b[0m\u001b[0;34m.\u001b[0m\u001b[0mshape\u001b[0m\u001b[0;34m[\u001b[0m\u001b[0;36m0\u001b[0m\u001b[0;34m]\u001b[0m\u001b[0;34m)\u001b[0m\u001b[0;34m\u001b[0m\u001b[0m\n\u001b[0m\u001b[1;32m    168\u001b[0m \u001b[0;34m\u001b[0m\u001b[0m\n\u001b[1;32m    169\u001b[0m     \u001b[0mdistances\u001b[0m \u001b[0;34m=\u001b[0m \u001b[0mpairwise_distances\u001b[0m\u001b[0;34m(\u001b[0m\u001b[0mX\u001b[0m\u001b[0;34m,\u001b[0m \u001b[0mmetric\u001b[0m\u001b[0;34m=\u001b[0m\u001b[0mmetric\u001b[0m\u001b[0;34m,\u001b[0m \u001b[0;34m**\u001b[0m\u001b[0mkwds\u001b[0m\u001b[0;34m)\u001b[0m\u001b[0;34m\u001b[0m\u001b[0m\n",
      "\u001b[0;32m/usr/lib/python2.7/dist-packages/sklearn/metrics/cluster/unsupervised.pyc\u001b[0m in \u001b[0;36mcheck_number_of_labels\u001b[0;34m(n_labels, n_samples)\u001b[0m\n\u001b[1;32m     17\u001b[0m     \u001b[0;32mif\u001b[0m \u001b[0;32mnot\u001b[0m \u001b[0;36m1\u001b[0m \u001b[0;34m<\u001b[0m \u001b[0mn_labels\u001b[0m \u001b[0;34m<\u001b[0m \u001b[0mn_samples\u001b[0m\u001b[0;34m:\u001b[0m\u001b[0;34m\u001b[0m\u001b[0m\n\u001b[1;32m     18\u001b[0m         raise ValueError(\"Number of labels is %d. Valid values are 2 \"\n\u001b[0;32m---> 19\u001b[0;31m                          \"to n_samples - 1 (inclusive)\" % n_labels)\n\u001b[0m\u001b[1;32m     20\u001b[0m \u001b[0;34m\u001b[0m\u001b[0m\n\u001b[1;32m     21\u001b[0m \u001b[0;34m\u001b[0m\u001b[0m\n",
      "\u001b[0;31mValueError\u001b[0m: Number of labels is 1. Valid values are 2 to n_samples - 1 (inclusive)"
     ]
    }
   ],
   "source": [
    "for (t, labels) in result_list:     \n",
    "    silhouette_score = metrics.silhouette_score(feature_matrix, labels, metric='cosine')\n",
    "    print '---- t: %s, cluster num: %s, silhouette_score: %s' % (t, len(np.unique(labels)), silhouette_score)"
   ]
  },
  {
   "cell_type": "code",
   "execution_count": 43,
   "metadata": {
    "ExecuteTime": {
     "end_time": "2019-04-04T09:56:11.113842Z",
     "start_time": "2019-04-04T09:41:19.123962Z"
    }
   },
   "outputs": [
    {
     "name": "stdout",
     "output_type": "stream",
     "text": [
      "---- t: 0.5, cluster num: 36, silhouette_score: -0.3648390771398579\n",
      "---- t: 0.7, cluster num: 36, silhouette_score: -0.3648390771398579\n",
      "---- t: 1.0, cluster num: 36, silhouette_score: -0.3648390771398579\n",
      "---- t: 1.5, cluster num: 36, silhouette_score: -0.3648390771398579\n",
      "---- t: 2.0, cluster num: 36, silhouette_score: -0.3648390771398579\n"
     ]
    }
   ],
   "source": [
    "feature_matrix = tfidf_matrix_2\n",
    "for t in [0.5, 0.7, 1.0, 1.5, 2.0]:    \n",
    "    clustering = cluster.DBSCAN(eps=t, min_samples=2).fit(feature_matrix)\n",
    "    labels = clustering.labels_    \n",
    "    silhouette_score = metrics.silhouette_score(feature_matrix, labels, metric='euclidean')\n",
    "    print '---- t: %s, cluster num: %s, silhouette_score: %s' % (t, len(np.unique(labels)), silhouette_score)"
   ]
  },
  {
   "cell_type": "markdown",
   "metadata": {},
   "source": [
    "## sklearn mean-shift"
   ]
  },
  {
   "cell_type": "code",
   "execution_count": null,
   "metadata": {
    "ExecuteTime": {
     "start_time": "2019-04-04T09:01:03.132Z"
    }
   },
   "outputs": [],
   "source": [
    "clustering = cluster.MeanShift(bandwidth=2).fit(feature_matrix)\n",
    "labels = clustering.labels_\n",
    "print 'cluster num: ', len(np.unique(labels))\n",
    "clustering_metrics(labels, labels_true = None, feature = feature_matrix)"
   ]
  },
  {
   "cell_type": "code",
   "execution_count": null,
   "metadata": {
    "collapsed": true
   },
   "outputs": [],
   "source": [
    "for t in [0.5, 1, 2, 3]:    \n",
    "    clustering = cluster.MeanShift(bandwidth=2).fit(feature_matrix)\n",
    "    labels = clustering.labels_\n",
    "    silhouette_score = metrics.silhouette_score(feature_matrix, labels, metric='euclidean')\n",
    "    print '---- t: %s, cluster num: %s, silhouette_score: %s' % (t, len(np.unique(labels)), silhouette_score)"
   ]
  },
  {
   "cell_type": "markdown",
   "metadata": {},
   "source": [
    "## sklearn Affinity Propagation"
   ]
  },
  {
   "cell_type": "code",
   "execution_count": null,
   "metadata": {
    "ExecuteTime": {
     "start_time": "2019-04-04T09:01:07.711Z"
    }
   },
   "outputs": [],
   "source": [
    "clustering = AffinityPropagation().fit(feature_matrix)\n",
    "labels = clustering.labels_\n",
    "silhouette_score = metrics.silhouette_score(feature_matrix, labels, metric='euclidean')\n",
    "print 'cluster num: %s, silhouette_score: %s' % (len(np.unique(labels)), silhouette_score)"
   ]
  },
  {
   "cell_type": "code",
   "execution_count": null,
   "metadata": {
    "collapsed": true
   },
   "outputs": [],
   "source": []
  },
  {
   "cell_type": "markdown",
   "metadata": {},
   "source": [
    "# compare and plot"
   ]
  },
  {
   "cell_type": "code",
   "execution_count": null,
   "metadata": {},
   "outputs": [],
   "source": [
    "result = []\n",
    "cluster_dict = {'sci_h':[0.6, 0.7, 0.8, 0.9], \n",
    "                'birch':[0.1, 0.3, 0.5, 0.7, 0.9], \n",
    "                'dbscan':[0.5, 0.7, 1.0, 1.5, 2.0], \n",
    "                'meanshift':[0.5, 1, 2, 3], \n",
    "                'affinity':[]}\n",
    "fea_sel_list = ['pca', 'svd', 'tfidf'] # , 'agg'\n",
    "tfidf_list = ['OneStep', 'TwoStep']\n",
    "\n",
    "for tfidf_flag in tfidf_list:\n",
    "    tfidf_matrix = get_tfidf_matrix(clean_content, flag = tfidf_flag)\n",
    "    for fea_flag in fea_sel_list:\n",
    "        decomposition_matrix = get_decomposition_feature(tfidf_matrix, fea_flag, n = 1000)\n",
    "        for key, value in cluster_dict.items():\n",
    "            if value:\n",
    "                for t in value:\n",
    "                    labels = get_labels(decomposition_matrix,flag, t)\n",
    "                    silhouette_score = metrics.silhouette_score(decomposition_matrix, labels, metric='euclidean')\n",
    "                    ret = [tfidf_flag, fea_flag, key, t, silhouette_score, \n",
    "                           len(np.unique(labels)), len(labels), labels]\n",
    "                    result += ret\n",
    "                    print ret\n",
    "            else :\n",
    "                labels = get_labels(decomposition_matrix,flag)\n",
    "                silhouette_score = metrics.silhouette_score(decomposition_matrix, labels, metric='euclidean')\n",
    "                ret = [tfidf_flag, fea_flag, key, t, silhouette_score, \n",
    "                       len(np.unique(labels)), len(labels), labels]\n",
    "                result += ret\n",
    "                print ret\n",
    "                    "
   ]
  },
  {
   "cell_type": "code",
   "execution_count": null,
   "metadata": {},
   "outputs": [],
   "source": []
  }
 ],
 "metadata": {
  "kernelspec": {
   "display_name": "Python 2",
   "language": "python",
   "name": "python2"
  },
  "language_info": {
   "codemirror_mode": {
    "name": "ipython",
    "version": 2
   },
   "file_extension": ".py",
   "mimetype": "text/x-python",
   "name": "python",
   "nbconvert_exporter": "python",
   "pygments_lexer": "ipython2",
   "version": "2.7.15rc1"
  },
  "toc": {
   "base_numbering": 1,
   "nav_menu": {},
   "number_sections": true,
   "sideBar": true,
   "skip_h1_title": false,
   "title_cell": "Table of Contents",
   "title_sidebar": "Contents",
   "toc_cell": false,
   "toc_position": {
    "height": "calc(100% - 180px)",
    "left": "10px",
    "top": "150px",
    "width": "265px"
   },
   "toc_section_display": true,
   "toc_window_display": true
  },
  "varInspector": {
   "cols": {
    "lenName": 16,
    "lenType": 16,
    "lenVar": 40
   },
   "kernels_config": {
    "python": {
     "delete_cmd_postfix": "",
     "delete_cmd_prefix": "del ",
     "library": "var_list.py",
     "varRefreshCmd": "print(var_dic_list())"
    },
    "r": {
     "delete_cmd_postfix": ") ",
     "delete_cmd_prefix": "rm(",
     "library": "var_list.r",
     "varRefreshCmd": "cat(var_dic_list()) "
    }
   },
   "types_to_exclude": [
    "module",
    "function",
    "builtin_function_or_method",
    "instance",
    "_Feature"
   ],
   "window_display": false
  }
 },
 "nbformat": 4,
 "nbformat_minor": 2
}
