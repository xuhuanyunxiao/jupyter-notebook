{
 "cells": [
  {
   "cell_type": "code",
   "execution_count": null,
   "metadata": {},
   "outputs": [],
   "source": []
  },
  {
   "cell_type": "markdown",
   "metadata": {},
   "source": [
    "# 基本设置"
   ]
  },
  {
   "cell_type": "code",
   "execution_count": 4,
   "metadata": {
    "ExecuteTime": {
     "end_time": "2019-01-15T08:28:18.338133Z",
     "start_time": "2019-01-15T08:28:17.877305Z"
    }
   },
   "outputs": [
    {
     "name": "stdout",
     "output_type": "stream",
     "text": [
      "The autoreload extension is already loaded. To reload it, use:\n",
      "  %reload_ext autoreload\n"
     ]
    }
   ],
   "source": [
    "import numpy as np\n",
    "import pandas as pd\n",
    "import matplotlib.pyplot as plt\n",
    "import matplotlib as mpl\n",
    "import seaborn as sns\n",
    "%matplotlib inline\n",
    "import warnings\n",
    "warnings.filterwarnings('ignore')\n",
    "%load_ext autoreload\n",
    "%autoreload 2"
   ]
  },
  {
   "cell_type": "code",
   "execution_count": null,
   "metadata": {},
   "outputs": [],
   "source": []
  },
  {
   "cell_type": "markdown",
   "metadata": {},
   "source": [
    "# load data"
   ]
  },
  {
   "cell_type": "code",
   "execution_count": 5,
   "metadata": {
    "ExecuteTime": {
     "end_time": "2019-01-15T08:28:21.818691Z",
     "start_time": "2019-01-15T08:28:20.279813Z"
    }
   },
   "outputs": [
    {
     "name": "stdout",
     "output_type": "stream",
     "text": [
      "(328, 328)\n",
      "(328, 1)\n"
     ]
    }
   ],
   "source": [
    "cor_table = pd.read_excel('datasets_fea/topic_data_fea/topic_cor_table.xlsx', header = None)\n",
    "print cor_table.shape\n",
    "used_data = pd.read_excel('datasets_fea/topic_data_fea/topic_data.xlsx', header = None)\n",
    "print used_data.shape"
   ]
  },
  {
   "cell_type": "markdown",
   "metadata": {},
   "source": [
    "# cluster"
   ]
  },
  {
   "cell_type": "markdown",
   "metadata": {},
   "source": [
    "## DBSCAN"
   ]
  },
  {
   "cell_type": "code",
   "execution_count": 7,
   "metadata": {
    "ExecuteTime": {
     "end_time": "2019-01-15T08:33:22.185708Z",
     "start_time": "2019-01-15T08:33:22.069021Z"
    }
   },
   "outputs": [],
   "source": [
    "import numpy as np\n",
    "from sklearn.cluster import DBSCAN\n",
    "\n",
    "# Compute DBSCAN\n",
    "db = DBSCAN(eps=0.2, min_samples=10).fit(cor_table)"
   ]
  },
  {
   "cell_type": "code",
   "execution_count": 10,
   "metadata": {
    "ExecuteTime": {
     "end_time": "2019-01-15T08:35:09.264977Z",
     "start_time": "2019-01-15T08:35:09.227644Z"
    }
   },
   "outputs": [
    {
     "name": "stdout",
     "output_type": "stream",
     "text": [
      "---------- predict_label  328\n",
      "[ 0 -1 -1 -1 -1 -1  0 -1  0 -1  0 -1  0 -1 -1 -1  0 -1 -1 -1  0 -1 -1 -1\n",
      "  1  0  0 -1  0  0 -1 -1 -1  0 -1  0  0  0  0 -1  0  0  0  0  0  0  0 -1\n",
      " -1  0 -1 -1 -1  0  0  0 -1 -1  0  0  0  0  0  0  0 -1 -1  0  0 -1  0  0\n",
      "  0 -1  0  0  0 -1  0  0  0 -1  0  0  0  0  0  0  0 -1  0 -1  0 -1  0  0\n",
      " -1 -1 -1  0  0 -1  0  0 -1  0  0 -1 -1  0 -1  0 -1  0  0 -1  0  0  0 -1\n",
      " -1  0  0  0 -1 -1  0 -1 -1 -1  0  0 -1 -1  0 -1 -1 -1 -1  0 -1 -1 -1  0\n",
      " -1 -1  0 -1 -1  0  0 -1 -1  0 -1  0  1 -1  0  1  0  0 -1  0 -1 -1 -1 -1\n",
      " -1  1 -1  0 -1  0  0  0  0  0  0 -1  0 -1  0 -1  0  0  0 -1  0  0  0  0\n",
      "  0 -1  0 -1  0 -1  0  0 -1  0  0 -1 -1 -1 -1  0 -1 -1  0 -1  0 -1 -1  0\n",
      "  1 -1  0  0 -1 -1 -1  0 -1 -1  0  0 -1 -1  0  0 -1  0 -1  0 -1  1  0  0\n",
      "  0  0 -1  0  0  0  0  0  0  0  1 -1 -1  0 -1 -1 -1  0 -1 -1 -1 -1  1  0\n",
      " -1  0 -1  0  0 -1  0 -1 -1  1  1 -1  0 -1 -1  0 -1  0 -1  0  0 -1  0  0\n",
      "  0 -1 -1 -1 -1  0  0 -1  0  0 -1 -1  0 -1 -1  0 -1  0 -1  0 -1 -1 -1 -1\n",
      " -1 -1 -1 -1 -1 -1 -1  0 -1 -1 -1 -1  0  0  0 -1]\n",
      "---------- label_indice  143\n",
      "[  0   6   8  12  20  24  25  26  28  33  36  37  38  40  41  42  43  44\n",
      "  45  46  49  53  54  55  58  59  60  62  63  64  67  68  70  71  72  74\n",
      "  75  76  78  79  82  83  84  85  87  88  90  92  94  99 100 102 103 105\n",
      " 106 109 111 113 114 116 117 118 121 123 130 131 134 139 143 146 149 150\n",
      " 153 155 156 158 159 160 161 163 169 171 173 174 175 176 177 180 184 185\n",
      " 188 189 190 192 196 198 201 202 207 210 212 215 216 218 219 223 226 237\n",
      " 240 241 243 244 245 246 247 248 249 250 253 257 262 263 265 267 270 273\n",
      " 274 279 281 283 284 286 287 288 293 294 297 300 307 319 324 325 326]\n"
     ]
    }
   ],
   "source": [
    "predict_label = db.labels_  # 类别标签\n",
    "label_indice = db.core_sample_indices_ # 标签位置\n",
    "print '---------- predict_label ' , len(predict_label)\n",
    "print predict_label\n",
    "print '---------- label_indice ' , len(label_indice)\n",
    "print label_indice"
   ]
  },
  {
   "cell_type": "code",
   "execution_count": null,
   "metadata": {},
   "outputs": [],
   "source": []
  },
  {
   "cell_type": "markdown",
   "metadata": {},
   "source": [
    "### 评价"
   ]
  },
  {
   "cell_type": "code",
   "execution_count": 16,
   "metadata": {
    "ExecuteTime": {
     "end_time": "2019-01-15T09:46:43.647874Z",
     "start_time": "2019-01-15T09:46:43.597810Z"
    }
   },
   "outputs": [
    {
     "name": "stdout",
     "output_type": "stream",
     "text": [
      "Calinski-Harabaz Index： 99.59247767409852\n",
      "轮廓系数： 0.25576044660447456\n"
     ]
    }
   ],
   "source": [
    "from sklearn import metrics\n",
    "\n",
    "print 'Calinski-Harabaz Index：', metrics.calinski_harabaz_score(cor_table, predict_label)  # 分数值越大则聚类效果越好\n",
    "print '轮廓系数：', metrics.silhouette_score(cor_table, predict_label, metric='euclidean')  # 分数值越大则聚类效果越好 [-1， 1]"
   ]
  },
  {
   "cell_type": "code",
   "execution_count": 32,
   "metadata": {
    "ExecuteTime": {
     "end_time": "2019-01-15T10:25:37.412117Z",
     "start_time": "2019-01-15T10:25:37.360030Z"
    }
   },
   "outputs": [
    {
     "ename": "SyntaxError",
     "evalue": "invalid syntax (<ipython-input-32-c90fb0c0db9e>, line 27)",
     "output_type": "error",
     "traceback": [
      "\u001b[0;36m  File \u001b[0;32m\"<ipython-input-32-c90fb0c0db9e>\"\u001b[0;36m, line \u001b[0;32m27\u001b[0m\n\u001b[0;31m    calinski_score =\u001b[0m\n\u001b[0m                     ^\u001b[0m\n\u001b[0;31mSyntaxError\u001b[0m\u001b[0;31m:\u001b[0m invalid syntax\n"
     ]
    }
   ],
   "source": [
    "def get_optimal_eps(dataset,eps_list, min_samples_list):\n",
    "    '''get optimal eps param for DBSCAN \n",
    "       params: \n",
    "            dataset: the whole dataset.\n",
    "            eps_list: must be in np.linspace() format or list format.\n",
    "        return:\n",
    "            three values：optimal eps value, \n",
    "                optimal model with optimal eps\n",
    "                silhouette_scores of all candidate eps.\n",
    "        '''\n",
    "    scores=[]\n",
    "    models=[]\n",
    "    pram_res = []  # eps, min_samples, Calinski, 轮廓系数, label_num, label_class\n",
    "    for eps in eps_list:\n",
    "        for min_samples in min_samples_list:\n",
    "            model=DBSCAN(eps=eps,min_samples=5).fit(dataset)\n",
    "            labels=model.labels_\n",
    "            label_class = np.unique(labels)\n",
    "            label_num=len(label_class)\n",
    "            if label_num>1: # 需要判断label种类，因为如果只有一个label，silhouette_score报错\n",
    "                silhouette_score = metrics.silhouette_score(dataset, model.labels_)\n",
    "                calinski_score = metrics.calinski_harabaz_score(dataset, model.labels_)\n",
    "                scores.append(silhouette_score)\n",
    "                models.append(model)\n",
    "            else:\n",
    "                silhouette_score = 0\n",
    "                calinski_score = 0\n",
    "                scores.append(silhouette_score)\n",
    "                models.append(None)\n",
    "            \n",
    "            pram_res.append([eps, min_samples, calinski_score, silhouette_score, label_num, label_class])\n",
    "    optimal_id=scores.index(max(scores))\n",
    "    return eps_list[optimal_id], min_samples_list[optimal_id],models[optimal_id],scores, pram_res"
   ]
  },
  {
   "cell_type": "code",
   "execution_count": null,
   "metadata": {
    "ExecuteTime": {
     "end_time": "2019-01-15T10:25:38.087134Z",
     "start_time": "2019-01-15T10:25:39.888Z"
    }
   },
   "outputs": [],
   "source": [
    "eps_list = np.linspace(0.3, 1.7, num=3)\n",
    "min_samples_list = np.linspace(3, 15, num=3)\n",
    "\n",
    "optimal_eps, optimal_min_samples, optimal_model,scores, pram_res = get_optimal_eps(cor_table,eps_list, min_samples_list)"
   ]
  },
  {
   "cell_type": "code",
   "execution_count": 27,
   "metadata": {
    "ExecuteTime": {
     "end_time": "2019-01-15T10:24:08.677074Z",
     "start_time": "2019-01-15T10:24:08.629976Z"
    }
   },
   "outputs": [
    {
     "name": "stdout",
     "output_type": "stream",
     "text": [
      "eps_list: "
     ]
    },
    {
     "ename": "NameError",
     "evalue": "name 'eps_list' is not defined",
     "output_type": "error",
     "traceback": [
      "\u001b[0;31m\u001b[0m",
      "\u001b[0;31mNameError\u001b[0mTraceback (most recent call last)",
      "\u001b[0;32m<ipython-input-27-4fc024205067>\u001b[0m in \u001b[0;36m<module>\u001b[0;34m()\u001b[0m\n\u001b[0;32m----> 1\u001b[0;31m \u001b[0;32mprint\u001b[0m \u001b[0;34m'eps_list: '\u001b[0m\u001b[0;34m,\u001b[0m\u001b[0meps_list\u001b[0m\u001b[0;34m\u001b[0m\u001b[0m\n\u001b[0m\u001b[1;32m      2\u001b[0m \u001b[0;32mprint\u001b[0m \u001b[0;34m'min_samples_list: '\u001b[0m\u001b[0;34m,\u001b[0m\u001b[0mmin_samples_list\u001b[0m\u001b[0;34m\u001b[0m\u001b[0m\n\u001b[1;32m      3\u001b[0m \u001b[0;32mprint\u001b[0m \u001b[0;34m'scores: %s, optimal_eps: %s, optimal_min_samples: %s'\u001b[0m\u001b[0;34m%\u001b[0m\u001b[0;34m(\u001b[0m\u001b[0mscores\u001b[0m\u001b[0;34m,\u001b[0m \u001b[0moptimal_eps\u001b[0m\u001b[0;34m,\u001b[0m \u001b[0moptimal_min_samples\u001b[0m\u001b[0;34m)\u001b[0m\u001b[0;34m\u001b[0m\u001b[0m\n\u001b[1;32m      4\u001b[0m \u001b[0;32mprint\u001b[0m \u001b[0;34m'optimal_model: '\u001b[0m\u001b[0;34m,\u001b[0m\u001b[0moptimal_model\u001b[0m\u001b[0;34m\u001b[0m\u001b[0m\n\u001b[1;32m      5\u001b[0m \u001b[0mpram_res\u001b[0m\u001b[0;34m\u001b[0m\u001b[0m\n",
      "\u001b[0;31mNameError\u001b[0m: name 'eps_list' is not defined"
     ]
    }
   ],
   "source": [
    "print 'eps_list: ',eps_list \n",
    "print 'min_samples_list: ',min_samples_list \n",
    "print 'scores: %s, optimal_eps: %s, optimal_min_samples: %s'%(scores, optimal_eps, optimal_min_samples)\n",
    "print 'optimal_model: ',optimal_model \n",
    "pram_res"
   ]
  },
  {
   "cell_type": "code",
   "execution_count": null,
   "metadata": {},
   "outputs": [],
   "source": []
  }
 ],
 "metadata": {
  "kernelspec": {
   "display_name": "Python 2",
   "language": "python",
   "name": "python2"
  },
  "language_info": {
   "codemirror_mode": {
    "name": "ipython",
    "version": 2
   },
   "file_extension": ".py",
   "mimetype": "text/x-python",
   "name": "python",
   "nbconvert_exporter": "python",
   "pygments_lexer": "ipython2",
   "version": "2.7.15rc1"
  },
  "toc": {
   "base_numbering": 1,
   "nav_menu": {},
   "number_sections": true,
   "sideBar": true,
   "skip_h1_title": false,
   "title_cell": "Table of Contents",
   "title_sidebar": "Contents",
   "toc_cell": false,
   "toc_position": {},
   "toc_section_display": true,
   "toc_window_display": true
  },
  "varInspector": {
   "cols": {
    "lenName": 16,
    "lenType": 16,
    "lenVar": 40
   },
   "kernels_config": {
    "python": {
     "delete_cmd_postfix": "",
     "delete_cmd_prefix": "del ",
     "library": "var_list.py",
     "varRefreshCmd": "print(var_dic_list())"
    },
    "r": {
     "delete_cmd_postfix": ") ",
     "delete_cmd_prefix": "rm(",
     "library": "var_list.r",
     "varRefreshCmd": "cat(var_dic_list()) "
    }
   },
   "types_to_exclude": [
    "module",
    "function",
    "builtin_function_or_method",
    "instance",
    "_Feature"
   ],
   "window_display": false
  }
 },
 "nbformat": 4,
 "nbformat_minor": 2
}
