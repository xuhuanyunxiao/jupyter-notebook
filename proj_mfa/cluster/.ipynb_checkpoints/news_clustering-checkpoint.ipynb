{
 "cells": [
  {
   "cell_type": "markdown",
   "metadata": {},
   "source": [
    "- 中英文新闻数据聚类分析"
   ]
  },
  {
   "cell_type": "markdown",
   "metadata": {},
   "source": [
    "# 基本设置"
   ]
  },
  {
   "cell_type": "code",
   "execution_count": 2,
   "metadata": {
    "ExecuteTime": {
     "end_time": "2019-02-14T07:50:50.684383Z",
     "start_time": "2019-02-14T07:50:50.282717Z"
    }
   },
   "outputs": [],
   "source": [
    "from sklearn.datasets import fetch_20newsgroups"
   ]
  },
  {
   "cell_type": "code",
   "execution_count": 15,
   "metadata": {
    "ExecuteTime": {
     "end_time": "2019-02-14T08:24:40.581210Z",
     "start_time": "2019-02-14T08:24:40.278245Z"
    }
   },
   "outputs": [],
   "source": [
    "%matplotlib inline\n",
    "import warnings\n",
    "warnings.filterwarnings('ignore')\n",
    "%load_ext autoreload\n",
    "%autoreload 2"
   ]
  },
  {
   "cell_type": "code",
   "execution_count": 23,
   "metadata": {
    "ExecuteTime": {
     "end_time": "2019-02-14T08:28:52.278108Z",
     "start_time": "2019-02-14T08:28:52.245332Z"
    }
   },
   "outputs": [
    {
     "ename": "IndentationError",
     "evalue": "unexpected indent (<ipython-input-23-3949a61fd11a>, line 23)",
     "output_type": "error",
     "traceback": [
      "\u001b[0;36m  File \u001b[0;32m\"<ipython-input-23-3949a61fd11a>\"\u001b[0;36m, line \u001b[0;32m23\u001b[0m\n\u001b[0;31m    metrics.homogeneity_completeness_v_measure(labels_true, labels_pred)\u001b[0m\n\u001b[0m    ^\u001b[0m\n\u001b[0;31mIndentationError\u001b[0m\u001b[0;31m:\u001b[0m unexpected indent\n"
     ]
    }
   ],
   "source": [
    "from sklearn import metrics\n",
    "\n",
    "def clustering_metrics(labels_pred, labels_true = None, feature = None):\n",
    "    '''\n",
    "    聚类算法结果评估\n",
    "    需要真实标签：\n",
    "        兰德指数 ARI: 输入参数没有顺序要求，ARI值的范围是[-1,1]，\n",
    "            负的结果都是较差的，说明标签是独立分布的，相似分布的ARI结果是正的，\n",
    "            1是最佳结果，说明两种标签的分布完全一致\n",
    "        互信息 AMI：输入参数没有顺序要求，最好的值为1，最差的值（与labels_true不相关），其结果为非正值\n",
    "        同质性、完整性、两者的调和平均V-measure：从0到1反应出最差到最优的表现\n",
    "        Fowlkes-Mallows指数：针对训练集和验证集数据之间求得的查全率和查准率的几何平均值\n",
    "        \n",
    "    不需要真实标签：        \n",
    "        轮廓系数：取值范围是[-1,1]，同类别样本距离越相近不同类别样本距离越远，分数越高。\n",
    "        Calinski-Harabaz Index：分数值越大则聚类效果越好        \n",
    "    '''\n",
    "    \n",
    "    if labels_true is not None:\n",
    "        print u'兰德指数 ARI: ', metrics.adjusted_rand_score(labels_true, labels_pred)\n",
    "        print u'互信息 AMI: ', metrics.adjusted_mutual_info_score(labels_true, labels_pred)\n",
    "        print u'同质性、完整性、两者的调和平均V-measure: ', \n",
    "              metrics.homogeneity_completeness_v_measure(labels_true, labels_pred)\n",
    "        print u'Fowlkes-Mallows指数 FMI: ', metrics.fowlkes_mallows_score(labels_true, labels_pred)\n",
    "        \n",
    "    if feature is not None:\n",
    "        print u'轮廓系数: ', metrics.silhouette_score(feature, labels_pred, metric='euclidean')\n",
    "        print u'Calinski-Harabaz Index: ', metrics.calinski_harabaz_score(feature, labels_pred) \n"
   ]
  },
  {
   "cell_type": "code",
   "execution_count": 11,
   "metadata": {
    "ExecuteTime": {
     "end_time": "2019-02-14T08:20:46.128780Z",
     "start_time": "2019-02-14T08:20:46.104347Z"
    }
   },
   "outputs": [
    {
     "data": {
      "text/plain": [
       "False"
      ]
     },
     "execution_count": 11,
     "metadata": {},
     "output_type": "execute_result"
    }
   ],
   "source": [
    "labels_true = None\n",
    "labels_true is not None"
   ]
  },
  {
   "cell_type": "markdown",
   "metadata": {},
   "source": [
    "# English dataset"
   ]
  },
  {
   "cell_type": "markdown",
   "metadata": {},
   "source": [
    "## 20newsgroups"
   ]
  },
  {
   "cell_type": "code",
   "execution_count": 3,
   "metadata": {
    "ExecuteTime": {
     "end_time": "2019-02-14T07:58:49.710628Z",
     "start_time": "2019-02-14T07:50:52.819001Z"
    }
   },
   "outputs": [
    {
     "name": "stderr",
     "output_type": "stream",
     "text": [
      "Downloading 20news dataset. This may take a few minutes.\n",
      "Downloading dataset from https://ndownloader.figshare.com/files/5975967 (14 MB)\n"
     ]
    },
    {
     "name": "stdout",
     "output_type": "stream",
     "text": [
      "(2854, 1899)\n"
     ]
    }
   ],
   "source": [
    "sample_cate = ['alt.atheism', 'soc.religion.christian','comp.graphics', 'sci.med', 'rec.sport.baseball']\n",
    "newsgroups_train = fetch_20newsgroups(subset='train',categories=sample_cate,shuffle=True, \n",
    "                                      random_state=42,remove = ('headers', 'footers', 'quotes'))\n",
    "newsgroups_test = fetch_20newsgroups(subset='test', categories=sample_cate,shuffle=True, \n",
    "                                     random_state=42,remove = ('headers', 'footers', 'quotes'))\n",
    "\n",
    "# newsgroups_train.target, newsgroups_train.data\n",
    "print(len(newsgroups_train.data), len(newsgroups_test.data))"
   ]
  },
  {
   "cell_type": "code",
   "execution_count": 20,
   "metadata": {
    "ExecuteTime": {
     "end_time": "2019-02-14T08:26:52.035777Z",
     "start_time": "2019-02-14T08:26:52.003391Z"
    }
   },
   "outputs": [
    {
     "data": {
      "text/plain": [
       "Counter({0: 480, 1: 584, 2: 597, 3: 594, 4: 599})"
      ]
     },
     "execution_count": 20,
     "metadata": {},
     "output_type": "execute_result"
    }
   ],
   "source": [
    "train_targe = newsgroups_train.target\n",
    "test_targe = newsgroups_test.target\n",
    "\n",
    "from collections import Counter\n",
    "Counter(train_targe)"
   ]
  },
  {
   "cell_type": "markdown",
   "metadata": {},
   "source": [
    "# Feature"
   ]
  },
  {
   "cell_type": "markdown",
   "metadata": {},
   "source": [
    "## TF-IDF"
   ]
  },
  {
   "cell_type": "code",
   "execution_count": 6,
   "metadata": {
    "ExecuteTime": {
     "end_time": "2019-02-14T08:18:48.550992Z",
     "start_time": "2019-02-14T08:18:47.255090Z"
    }
   },
   "outputs": [
    {
     "name": "stdout",
     "output_type": "stream",
     "text": [
      "(2854, 31057)\n",
      "(1899, 31057)\n"
     ]
    }
   ],
   "source": [
    "from sklearn.feature_extraction.text import TfidfVectorizer\n",
    "vectorizer = TfidfVectorizer(stop_words='english',lowercase=True)\n",
    "train_vector = vectorizer.fit_transform(newsgroups_train.data)\n",
    "print(train_vector.shape)\n",
    " \n",
    "test_vector = vectorizer.transform(newsgroups_test.data)\n",
    "print(test_vector.shape)"
   ]
  },
  {
   "cell_type": "code",
   "execution_count": null,
   "metadata": {},
   "outputs": [],
   "source": []
  },
  {
   "cell_type": "markdown",
   "metadata": {},
   "source": [
    "# Clustering"
   ]
  },
  {
   "cell_type": "markdown",
   "metadata": {},
   "source": [
    "## K-means"
   ]
  },
  {
   "cell_type": "code",
   "execution_count": 8,
   "metadata": {
    "ExecuteTime": {
     "end_time": "2019-02-14T08:19:22.696690Z",
     "start_time": "2019-02-14T08:18:55.644995Z"
    }
   },
   "outputs": [],
   "source": [
    "from sklearn.cluster import KMeans\n",
    "\n",
    "k = len(sample_cate)\n",
    "labels_pred = KMeans(n_clusters=k, random_state=9).fit_predict(train_vector)"
   ]
  },
  {
   "cell_type": "code",
   "execution_count": 22,
   "metadata": {
    "ExecuteTime": {
     "end_time": "2019-02-14T08:27:28.935112Z",
     "start_time": "2019-02-14T08:27:26.024708Z"
    }
   },
   "outputs": [
    {
     "name": "stdout",
     "output_type": "stream",
     "text": [
      "(u'\\u5170\\u5fb7\\u6307\\u6570 ARI: ', 0.23258349597157577)\n",
      "(u'\\u4e92\\u4fe1\\u606f AMI: ', 0.37796164387174314)\n",
      "(u'\\u540c\\u8d28\\u6027\\u3001\\u5b8c\\u6574\\u6027\\u3001\\u4e24\\u8005\\u7684\\u8c03\\u548c\\u5e73\\u5747V-measure: ', (0.37905346928372147, 0.4793982836042738, 0.4233612010401955))\n",
      "(u'Fowlkes-Mallows\\u6307\\u6570 FMI: ', 0.4454366344757007)\n",
      "(u'\\u8f6e\\u5ed3\\u7cfb\\u6570: ', 0.009611675581713221)\n",
      "(u'Calinski-Harabaz Index: ', 12.851271959374374)\n"
     ]
    }
   ],
   "source": [
    "clustering_metrics(labels_pred, labels_true = train_targe, feature = train_vector.toarray())"
   ]
  },
  {
   "cell_type": "markdown",
   "metadata": {},
   "source": [
    "## DBSCAN"
   ]
  },
  {
   "cell_type": "code",
   "execution_count": null,
   "metadata": {},
   "outputs": [],
   "source": []
  },
  {
   "cell_type": "code",
   "execution_count": null,
   "metadata": {},
   "outputs": [],
   "source": []
  },
  {
   "cell_type": "code",
   "execution_count": null,
   "metadata": {},
   "outputs": [],
   "source": []
  }
 ],
 "metadata": {
  "kernelspec": {
   "display_name": "Python 2",
   "language": "python",
   "name": "python2"
  },
  "language_info": {
   "codemirror_mode": {
    "name": "ipython",
    "version": 2
   },
   "file_extension": ".py",
   "mimetype": "text/x-python",
   "name": "python",
   "nbconvert_exporter": "python",
   "pygments_lexer": "ipython2",
   "version": "2.7.15rc1"
  },
  "toc": {
   "base_numbering": 1,
   "nav_menu": {},
   "number_sections": true,
   "sideBar": true,
   "skip_h1_title": false,
   "title_cell": "Table of Contents",
   "title_sidebar": "Contents",
   "toc_cell": false,
   "toc_position": {
    "height": "calc(100% - 180px)",
    "left": "10px",
    "top": "150px",
    "width": "179.2px"
   },
   "toc_section_display": true,
   "toc_window_display": true
  },
  "varInspector": {
   "cols": {
    "lenName": 16,
    "lenType": 16,
    "lenVar": 40
   },
   "kernels_config": {
    "python": {
     "delete_cmd_postfix": "",
     "delete_cmd_prefix": "del ",
     "library": "var_list.py",
     "varRefreshCmd": "print(var_dic_list())"
    },
    "r": {
     "delete_cmd_postfix": ") ",
     "delete_cmd_prefix": "rm(",
     "library": "var_list.r",
     "varRefreshCmd": "cat(var_dic_list()) "
    }
   },
   "types_to_exclude": [
    "module",
    "function",
    "builtin_function_or_method",
    "instance",
    "_Feature"
   ],
   "window_display": false
  }
 },
 "nbformat": 4,
 "nbformat_minor": 2
}
