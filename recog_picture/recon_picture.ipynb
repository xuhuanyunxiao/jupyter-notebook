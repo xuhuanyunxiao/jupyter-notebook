{
 "cells": [
  {
   "cell_type": "markdown",
   "metadata": {},
   "source": [
    "# 本文件说明\n",
    "- 图片识别"
   ]
  },
  {
   "cell_type": "markdown",
   "metadata": {},
   "source": [
    "# 基本设置"
   ]
  },
  {
   "cell_type": "code",
   "execution_count": 1,
   "metadata": {
    "ExecuteTime": {
     "end_time": "2018-08-23T01:58:18.563094Z",
     "start_time": "2018-08-23T01:58:18.357082Z"
    },
    "collapsed": true
   },
   "outputs": [],
   "source": [
    "import os\n",
    "import base64\n",
    "import hashlib  \n",
    "import time  \n",
    "import random  \n",
    "import string  \n",
    "from urllib.parse import quote  \n",
    "import requests  "
   ]
  },
  {
   "cell_type": "code",
   "execution_count": 2,
   "metadata": {
    "ExecuteTime": {
     "end_time": "2018-08-23T01:58:18.646098Z",
     "start_time": "2018-08-23T01:58:18.592095Z"
    },
    "collapsed": true
   },
   "outputs": [],
   "source": [
    "def curlmd5(src):  \n",
    "    m = hashlib.md5(src.encode('UTF-8'))\n",
    "    return m.hexdigest().upper()\n",
    " \n",
    "# 请求时间戳（秒级），用于防止请求重放（保证签名5分钟有效） \n",
    "def get_params(base64_data):\n",
    "    t = time.time()\n",
    "    time_stamp=str(int(t))  \n",
    "    # 请求随机字符串，用于保证签名不可预测  \n",
    "    nonce_str = ''.join(random.sample(string.ascii_letters + string.digits, 10))  \n",
    "    #print(nonce_str)\n",
    "    # 应用标志，这里修改成自己的id和key  \n",
    "    app_id = '2107878067'  \n",
    "    app_key = '1GhxSLrCfQydpL81'\n",
    "    params = {'app_id':app_id,  \n",
    "              'image':base64_data,\n",
    "              'time_stamp':time_stamp,\n",
    "              'nonce_str':nonce_str,\n",
    "              #'format':'1',\n",
    "              #'topk':'5',\n",
    "             }\n",
    "    sign_before = ''\n",
    "    # 要对key排序再拼接\n",
    "    for key in sorted(params):\n",
    "        # 键值拼接过程value部分需要URL编码，URL编码算法用大写字母，例如%E8。quote默认大写。  \n",
    "        sign_before += '{}={}&'.format(key,quote(params[key], safe=''))\n",
    "        #print(quote(params[key], safe=''))\n",
    "    # 将应用密钥以app_key为键名，拼接到字符串sign_before末尾  \n",
    "    sign_before += 'app_key={}'.format(app_key)\n",
    "    # 对字符串sign_before进行MD5运算，得到接口请求签名\n",
    "    #print(sign_before)\n",
    "    sign = curlmd5(sign_before)\n",
    "    params['sign'] = sign\n",
    "    #print(sign)\n",
    "    #print(params)\n",
    "    return params"
   ]
  },
  {
   "cell_type": "markdown",
   "metadata": {},
   "source": [
    "# 识别图片"
   ]
  },
  {
   "cell_type": "code",
   "execution_count": 26,
   "metadata": {
    "ExecuteTime": {
     "end_time": "2018-08-23T02:26:24.995552Z",
     "start_time": "2018-08-23T02:26:24.984551Z"
    }
   },
   "outputs": [
    {
     "data": {
      "text/plain": [
       "['河南_APP.png',\n",
       " '河南_公众号.png',\n",
       " '河南_网站.png',\n",
       " '湖北_APP.png',\n",
       " '湖北_公众号.png',\n",
       " '湖北_网站.png']"
      ]
     },
     "execution_count": 26,
     "metadata": {},
     "output_type": "execute_result"
    }
   ],
   "source": [
    "name_list = os.listdir('data/')\n",
    "name_list"
   ]
  },
  {
   "cell_type": "code",
   "execution_count": 27,
   "metadata": {
    "ExecuteTime": {
     "end_time": "2018-08-23T02:26:40.837458Z",
     "start_time": "2018-08-23T02:26:25.887603Z"
    }
   },
   "outputs": [],
   "source": [
    "url = \"https://api.ai.qq.com/fcgi-bin/ocr/ocr_generalocr\"\n",
    "#url = \"https://api.ai.qq.com/fcgi-bin/vision/vision_objectr\"\n",
    "\n",
    "res = []\n",
    "\n",
    "for name in name_list:\n",
    "    p = name.split('_')[0]\n",
    "    c = name.split('.')[0].split('_')[1]\n",
    "    with open('data/{0}'.format(name),'rb') as fin:\n",
    "        image_data = fin.read()\n",
    "    base64_data = base64.b64encode(image_data)\n",
    "    params = get_params(base64_data)\n",
    "    #print(params)\n",
    "    r = requests.post(url,data=params)\n",
    "    item_list = r.json()['data']['item_list']\n",
    "    #print(r.json())\n",
    "    \n",
    "    tmp_res = []\n",
    "    for index, s in enumerate(item_list):\n",
    "        if index > 3:\n",
    "            tmp_res.append(s['itemstring'].replace(' ',''))\n",
    "            if (index+1) % 4 == 0:\n",
    "    #             print(s['itemstring'])\n",
    "                res.append([p,c] + tmp_res)\n",
    "                tmp_res = []\n",
    "            "
   ]
  },
  {
   "cell_type": "code",
   "execution_count": 28,
   "metadata": {
    "ExecuteTime": {
     "end_time": "2018-08-23T02:26:40.883461Z",
     "start_time": "2018-08-23T02:26:40.872460Z"
    }
   },
   "outputs": [
    {
     "data": {
      "text/plain": [
       "[['河南', 'APP', '1', '“大河网”', '大河网络传媒集团有限公司', '41120170001'],\n",
       " ['河南', 'APP', '2', '“眼遇”', '大河网络传媒集团有限公司', '41120170001'],\n",
       " ['河南', 'APP', '3', '“掌上洛阳”', '洛阳日报社', '41120170003'],\n",
       " ['河南', 'APP', '4', '“汴梁风”', '开封日报社', '41120170004'],\n",
       " ['河南', 'APP', '5', '“掌上开封”', '开封日报社', '41120170004'],\n",
       " ['河南', 'APP', '6', '“映象新闻客户端”', '河南广播电视台', '41120170005'],\n",
       " ['河南', '公众号', '“大河网”，腾讯微信', '大河网络传媒集团有限公司', '41120170001', '公众账号。'],\n",
       " ['河南', '公众号', '“大河网”,新浪微博', '大河网络传媒集团有限公司', '41120170001', '公众账号。'],\n",
       " ['河南', '公众号', '“中原网”，腾讯微信', '郑州报业集团', '41120170002', '公众账号。'],\n",
       " ['河南', '公众号', '“中原网”,新浪微博', '郑州报业集团', '41120170002', '公众账号。'],\n",
       " ['河南', '公众号', '“洛阳网”，腾讯微信', '洛阳日报社', '41120170003', '公众账号。'],\n",
       " ['河南', '公众号', '“洛阳网”，新浪微博', '洛阳日报社', '41120170003', '公众账号。'],\n",
       " ['河南', '公众号', '“开封网”，腾讯微信', '开封日报社', '41120170004', '公众账号。'],\n",
       " ['河南', '公众号', '8', '“开封网”，新浪微博', '开封日报社', '41120170004'],\n",
       " ['河南', '公众号', '公众账号。', '9', '“映象网”，腾讯微信', '河南广播电视台'],\n",
       " ['河南', '公众号', '41120170005', '公众账号。', '10', '“映象网”，新浪微博'],\n",
       " ['河南', '网站', '1', '大河网', 'www.dahe.cn', '41120170001'],\n",
       " ['河南', '网站', 'wwwwwwwwwwwww.www', '2', '中原网', 'www.zvnews.cn'],\n",
       " ['河南', '网站', '41120170002', '3', '洛阳网', 'www.lvd.com.cn'],\n",
       " ['河南', '网站', '41120170003', '4', '开封网', 'www.kf.cn'],\n",
       " ['河南', '网站', '41120170004', 'wwww.www', '5', '映象网'],\n",
       " ['湖北', 'APP', '“湖北日报”', '湖北日报传媒集团', '42120170001', '2'],\n",
       " ['湖北', 'APP', '“长江云”', '湖北广播电视台', '42120170002', '3'],\n",
       " ['湖北', '公众号', '“湖北日报”，新浪微', '湖北日报传媒集团', '42120170001', '博公众平台'],\n",
       " ['湖北', '公众号', '“湖北日报”，腾讯徽', '湖北日报传媒集团', '42120170001', '信公众平台'],\n",
       " ['湖北', '公众号', '“长江云官方微博”，', '湖北广播电视台', '42120170002', '新浪徽博公众平台'],\n",
       " ['湖北', '公众号', '“湖北新闻中心”，新|', '湖北广播电视台', '42120170002', '浪微博公众平台'],\n",
       " ['湖北', '公众号', '“长江新闻号”，新浪', '湖北广播电视台', '42120170002', '微博公众平台'],\n",
       " ['湖北', '公众号', '“湖北之声”，新浪徽', '湖北广播电视台', '42120170002', '博公众平台'],\n",
       " ['湖北', '公众号', '“长江云”，腾讯微信', '湖北广播电视台', '42120170002', '公众平台'],\n",
       " ['湖北', '公众号', '“湖北新闻”，腾讯微', '湖北广播电视台', '42120170002', '8'],\n",
       " ['湖北', '公众号', '信公众平台', '“长江新闻号”，腾讯', '湖北广播电视台', '42120170002'],\n",
       " ['湖北', '公众号', '微信公众平台', '“湖北之声”，腾讯微', '湖北广播电视台', '42120170002'],\n",
       " ['湖北', '公众号', '10', '信公众平台', '“长江网”，新浪徵博', '长江互动传媒网'],\n",
       " ['湖北', '公众号', '42120170003', '1', '公众平台', '“长江网”，腾讯微信'],\n",
       " ['湖北', '公众号', '长江互动传媒网', '42120170003', '12', '公众平台'],\n",
       " ['湖北', '公众号', '“三峡日报”，新浪微', '三峡日报传媒集团', '42120170004', '13'],\n",
       " ['湖北', '公众号', '博公众平台', '“三峡商报”，新浪微', '三峡日报传媒集团', '42120170004'],\n",
       " ['湖北', '公众号', '博公众平台', '“三峡日报”，腾讯微', '三峡日报传媒集团', '42120170004'],\n",
       " ['湖北', '公众号', '15', '信公众平台', '“三峡商报”，腾讯徵', '三峡日报传媒集团'],\n",
       " ['湖北', '网站', '湖北日报网', 'www.cnhubei.com', '42120170001', '湖北网络广播电'],\n",
       " ['湖北', '网站', 'news.hbtv.com.cn', '42120170002', '视台', '3'],\n",
       " ['湖北', '网站', '长江网', 'www.c.jn.cn', '42120170003', '三峡宜昌网']]"
      ]
     },
     "execution_count": 28,
     "metadata": {},
     "output_type": "execute_result"
    }
   ],
   "source": [
    "res"
   ]
  },
  {
   "cell_type": "code",
   "execution_count": 30,
   "metadata": {
    "ExecuteTime": {
     "end_time": "2018-08-23T02:26:50.647019Z",
     "start_time": "2018-08-23T02:26:50.600016Z"
    },
    "collapsed": true
   },
   "outputs": [],
   "source": [
    "import pandas as pd\n",
    "pd.DataFrame(res).to_excel('图片识别结果.xlsx')"
   ]
  },
  {
   "cell_type": "code",
   "execution_count": null,
   "metadata": {
    "collapsed": true
   },
   "outputs": [],
   "source": []
  }
 ],
 "metadata": {
  "kernelspec": {
   "display_name": "Python 3",
   "language": "python",
   "name": "python3"
  },
  "language_info": {
   "codemirror_mode": {
    "name": "ipython",
    "version": 3
   },
   "file_extension": ".py",
   "mimetype": "text/x-python",
   "name": "python",
   "nbconvert_exporter": "python",
   "pygments_lexer": "ipython3",
   "version": "3.6.3"
  },
  "toc": {
   "nav_menu": {},
   "number_sections": true,
   "sideBar": true,
   "skip_h1_title": false,
   "title_cell": "Table of Contents",
   "title_sidebar": "Contents",
   "toc_cell": false,
   "toc_position": {},
   "toc_section_display": true,
   "toc_window_display": true
  },
  "varInspector": {
   "cols": {
    "lenName": 16,
    "lenType": 16,
    "lenVar": 40
   },
   "kernels_config": {
    "python": {
     "delete_cmd_postfix": "",
     "delete_cmd_prefix": "del ",
     "library": "var_list.py",
     "varRefreshCmd": "print(var_dic_list())"
    },
    "r": {
     "delete_cmd_postfix": ") ",
     "delete_cmd_prefix": "rm(",
     "library": "var_list.r",
     "varRefreshCmd": "cat(var_dic_list()) "
    }
   },
   "types_to_exclude": [
    "module",
    "function",
    "builtin_function_or_method",
    "instance",
    "_Feature"
   ],
   "window_display": false
  }
 },
 "nbformat": 4,
 "nbformat_minor": 2
}
