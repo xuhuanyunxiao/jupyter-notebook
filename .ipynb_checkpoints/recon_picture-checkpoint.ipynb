{
 "cells": [
  {
   "cell_type": "code",
   "execution_count": 1,
   "metadata": {},
   "outputs": [
    {
     "name": "stdout",
     "output_type": "stream",
     "text": [
      "服务名称\n",
      "服务地址\n",
      "www.cnjiwang.com\n",
      "www.cnjiwang.cn\n",
      "中国吉林网\n",
      "www.cniiwangnet\n",
      "www.cniwang.com.cn\n",
      "www.neabridge. com\n",
      "中国彩虹网\n",
      "www.neabridge.cn\n",
      "www.neabridge net\n",
      "吉视网\n",
      "http://www.jlnty.cn\n",
      "吉林广播网\n",
      "www.lradio.cn\n",
      "松花江网\n",
      "htt://www.shjnet.cn\n",
      "延边新闻网\n",
      "http://www.ybnews.cn\n"
     ]
    }
   ],
   "source": [
    "\n",
    "import base64\n",
    "import hashlib  \n",
    "import time  \n",
    "import random  \n",
    "import string  \n",
    "from urllib.parse import quote  \n",
    "import requests  \n",
    " \n",
    "def curlmd5(src):  \n",
    "    m = hashlib.md5(src.encode('UTF-8'))\n",
    "    return m.hexdigest().upper()\n",
    " \n",
    "# 请求时间戳（秒级），用于防止请求重放（保证签名5分钟有效） \n",
    "def get_params(base64_data):\n",
    "    t = time.time()\n",
    "    time_stamp=str(int(t))  \n",
    "    # 请求随机字符串，用于保证签名不可预测  \n",
    "    nonce_str = ''.join(random.sample(string.ascii_letters + string.digits, 10))  \n",
    "    #print(nonce_str)\n",
    "    # 应用标志，这里修改成自己的id和key  \n",
    "    app_id = '2107878067'  \n",
    "    app_key = '1GhxSLrCfQydpL81'\n",
    "    params = {'app_id':app_id,  \n",
    "              'image':base64_data,\n",
    "              'time_stamp':time_stamp,\n",
    "              'nonce_str':nonce_str,\n",
    "              #'format':'1',\n",
    "              #'topk':'5',\n",
    "             }\n",
    "    sign_before = ''\n",
    "    # 要对key排序再拼接\n",
    "    for key in sorted(params):\n",
    "        # 键值拼接过程value部分需要URL编码，URL编码算法用大写字母，例如%E8。quote默认大写。  \n",
    "        sign_before += '{}={}&'.format(key,quote(params[key], safe=''))\n",
    "        #print(quote(params[key], safe=''))\n",
    "    # 将应用密钥以app_key为键名，拼接到字符串sign_before末尾  \n",
    "    sign_before += 'app_key={}'.format(app_key)\n",
    "    # 对字符串sign_before进行MD5运算，得到接口请求签名\n",
    "    #print(sign_before)\n",
    "    sign = curlmd5(sign_before)\n",
    "    params['sign'] = sign\n",
    "    #print(sign)\n",
    "    #print(params)\n",
    "    return params\n",
    " \n",
    "url = \"https://api.ai.qq.com/fcgi-bin/ocr/ocr_generalocr\"\n",
    "#url = \"https://api.ai.qq.com/fcgi-bin/vision/vision_objectr\"\n",
    "with open('000.jpg','rb') as fin:\n",
    "    image_data = fin.read()\n",
    "base64_data = base64.b64encode(image_data)\n",
    "params = get_params(base64_data)\n",
    "#print(params)\n",
    "r = requests.post(url,data=params)\n",
    "item_list = r.json()['data']['item_list']\n",
    "#print(r.json())\n",
    "for s in item_list:\n",
    "    print(s['itemstring'])"
   ]
  },
  {
   "cell_type": "code",
   "execution_count": null,
   "metadata": {
    "collapsed": true
   },
   "outputs": [],
   "source": []
  },
  {
   "cell_type": "code",
   "execution_count": null,
   "metadata": {
    "collapsed": true
   },
   "outputs": [],
   "source": []
  }
 ],
 "metadata": {
  "kernelspec": {
   "display_name": "Python 3",
   "language": "python",
   "name": "python3"
  },
  "language_info": {
   "codemirror_mode": {
    "name": "ipython",
    "version": 3
   },
   "file_extension": ".py",
   "mimetype": "text/x-python",
   "name": "python",
   "nbconvert_exporter": "python",
   "pygments_lexer": "ipython3",
   "version": "3.6.3"
  },
  "toc": {
   "nav_menu": {},
   "number_sections": true,
   "sideBar": true,
   "skip_h1_title": false,
   "title_cell": "Table of Contents",
   "title_sidebar": "Contents",
   "toc_cell": false,
   "toc_position": {},
   "toc_section_display": true,
   "toc_window_display": true
  },
  "varInspector": {
   "cols": {
    "lenName": 16,
    "lenType": 16,
    "lenVar": 40
   },
   "kernels_config": {
    "python": {
     "delete_cmd_postfix": "",
     "delete_cmd_prefix": "del ",
     "library": "var_list.py",
     "varRefreshCmd": "print(var_dic_list())"
    },
    "r": {
     "delete_cmd_postfix": ") ",
     "delete_cmd_prefix": "rm(",
     "library": "var_list.r",
     "varRefreshCmd": "cat(var_dic_list()) "
    }
   },
   "types_to_exclude": [
    "module",
    "function",
    "builtin_function_or_method",
    "instance",
    "_Feature"
   ],
   "window_display": false
  }
 },
 "nbformat": 4,
 "nbformat_minor": 2
}
