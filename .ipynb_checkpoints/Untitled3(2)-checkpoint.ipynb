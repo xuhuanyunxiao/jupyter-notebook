{
 "cells": [
  {
   "cell_type": "code",
   "execution_count": 1,
   "metadata": {},
   "outputs": [
    {
     "name": "stderr",
     "output_type": "stream",
     "text": [
      "C:\\ProgramData\\Anaconda3\\lib\\site-packages\\sklearn\\cross_validation.py:41: DeprecationWarning: This module was deprecated in version 0.18 in favor of the model_selection module into which all the refactored classes and functions are moved. Also note that the interface of the new CV iterators are different from that of this module. This module will be removed in 0.20.\n",
      "  \"This module will be removed in 0.20.\", DeprecationWarning)\n"
     ]
    }
   ],
   "source": [
    "##load packages, needed\n",
    "# encoding=utf-8\n",
    "\n",
    "import jieba\n",
    "import sys\n",
    "import re\n",
    "import time\n",
    "import string\n",
    "from sklearn import feature_extraction\n",
    "from sklearn.feature_extraction.text import TfidfTransformer\n",
    "from sklearn.feature_extraction.text import CountVectorizer\n",
    "\n",
    "from sklearn.feature_extraction.text import TfidfVectorizer\n",
    "from sklearn.feature_selection import SelectKBest, chi2,mutual_info_classif,f_classif\n",
    "\n",
    "import pickle\n",
    "import numpy as np\n",
    "from sklearn import cross_validation\n",
    "from sklearn.cross_validation import KFold  \n",
    "from sklearn.linear_model import LogisticRegression  \n",
    "from sklearn.naive_bayes import GaussianNB  \n",
    "from sklearn.neighbors import KNeighborsClassifier   \n",
    "from sklearn import svm  \n",
    "from sklearn.tree import DecisionTreeClassifier  \n",
    "from sklearn.ensemble import RandomForestClassifier  \n",
    "\n",
    "from sklearn.datasets.base import Bunch\n",
    "from sklearn.linear_model import SGDClassifier\n",
    "from sklearn.metrics import confusion_matrix, f1_score\n",
    "from sklearn.ensemble import ExtraTreesClassifier\n",
    "\n",
    "import xgboost as xgb\n",
    "from sklearn import metrics\n"
   ]
  },
  {
   "cell_type": "code",
   "execution_count": 2,
   "metadata": {
    "collapsed": true
   },
   "outputs": [],
   "source": [
    "##load model, needed\n",
    "vectorizer = pickle.load(open(\"vectorizer_0504.pickle\",'rb'))\n",
    "selector = pickle.load(open(\"selector_0504.pickle\",'rb'))\n",
    "bst = xgb.Booster({'nthread':4}) #init model\n",
    "bst.load_model(\"model_0504xgb.model\") # load data"
   ]
  },
  {
   "cell_type": "code",
   "execution_count": null,
   "metadata": {
    "collapsed": true
   },
   "outputs": [],
   "source": [
    "vectorizer = pickle.load(open(\"vectorizer_0504.pickle\",'rb'))\n",
    "selector = pickle.load(open(\"selector_b.pickle\",'rb'))\n",
    "clf =  pickle.load(open(\"clf_b.pickle\",'rb'))"
   ]
  },
  {
   "cell_type": "code",
   "execution_count": 11,
   "metadata": {},
   "outputs": [
    {
     "name": "stdout",
     "output_type": "stream",
     "text": [
      "0.8566493955094991 579\n"
     ]
    }
   ],
   "source": [
    "corpus_test = []\n",
    "f = open(\"0428_bank_0_0.txt\",\"r+\", encoding='UTF-8')\n",
    "for content in f:\n",
    "    if(len(content)>12):\n",
    "        corpus_test.append(content.strip())\n",
    "f.close()\n",
    "\n",
    "#vectorizer = CountVectorizer()\n",
    "#transformer = TfidfTransformer()\n",
    "\n",
    "X_test = vectorizer.transform(corpus_test)\n",
    "#X_test = transformer.fit_transform(vectorizer.fit_transform(corpus_test))\n",
    "#print(X_test.shape)\n",
    "X_test = selector.transform(X_test)\n",
    "\n",
    "#print(X_test.shape)\n",
    "res = clf.predict(X_test.toarray())\n",
    "\n",
    "print( 1-float(sum(res))/len(res),len(res))"
   ]
  },
  {
   "cell_type": "code",
   "execution_count": 3,
   "metadata": {},
   "outputs": [
    {
     "name": "stdout",
     "output_type": "stream",
     "text": [
      "0.0 6\n"
     ]
    }
   ],
   "source": [
    "##load data and test, needed\n",
    "corpus_test = []\n",
    "f = open(\"test_new_0.txt\",\"r+\", encoding='UTF-8')\n",
    "for content in f:\n",
    "    if(len(content)>0):\n",
    "        corpus_test.append(content.strip())\n",
    "f.close()\n",
    "\n",
    "#vectorizer = CountVectorizer()\n",
    "#transformer = TfidfTransformer()\n",
    "\n",
    "X_test = vectorizer.transform(corpus_test)\n",
    "#X_test = transformer.fit_transform(vectorizer.fit_transform(corpus_test))\n",
    "#print(X_test.shape)\n",
    "X_test = selector.transform(X_test)\n",
    "\n",
    "#print(X_test.shape)\n",
    "#res = clf.predict(X_test.toarray())\n",
    "\n",
    "res = bst.predict(xgb.DMatrix(X_test))\n",
    "\n",
    "print( 1-float(sum(res))/len(res),len(res))"
   ]
  },
  {
   "cell_type": "code",
   "execution_count": 8,
   "metadata": {
    "collapsed": true
   },
   "outputs": [],
   "source": [
    "i = 0\n",
    "ef = open(\"i_error_0.txt\",\"w\")\n",
    "for rs in res:\n",
    "    if rs==1:\n",
    "        ef.write(corpus_test[i]+\"\\n\")\n",
    "    i = i+1"
   ]
  },
  {
   "cell_type": "code",
   "execution_count": 4,
   "metadata": {},
   "outputs": [
    {
     "name": "stdout",
     "output_type": "stream",
     "text": [
      "[1. 1. 1. 1. 1. 1.]\n"
     ]
    }
   ],
   "source": [
    "print(res)"
   ]
  },
  {
   "cell_type": "code",
   "execution_count": null,
   "metadata": {
    "collapsed": true
   },
   "outputs": [],
   "source": []
  }
 ],
 "metadata": {
  "kernelspec": {
   "display_name": "Python 3",
   "language": "python",
   "name": "python3"
  },
  "language_info": {
   "codemirror_mode": {
    "name": "ipython",
    "version": 3
   },
   "file_extension": ".py",
   "mimetype": "text/x-python",
   "name": "python",
   "nbconvert_exporter": "python",
   "pygments_lexer": "ipython3",
   "version": "3.6.3"
  },
  "toc": {
   "nav_menu": {},
   "number_sections": true,
   "sideBar": true,
   "skip_h1_title": false,
   "title_cell": "Table of Contents",
   "title_sidebar": "Contents",
   "toc_cell": false,
   "toc_position": {},
   "toc_section_display": true,
   "toc_window_display": false
  },
  "varInspector": {
   "cols": {
    "lenName": 16,
    "lenType": 16,
    "lenVar": 40
   },
   "kernels_config": {
    "python": {
     "delete_cmd_postfix": "",
     "delete_cmd_prefix": "del ",
     "library": "var_list.py",
     "varRefreshCmd": "print(var_dic_list())"
    },
    "r": {
     "delete_cmd_postfix": ") ",
     "delete_cmd_prefix": "rm(",
     "library": "var_list.r",
     "varRefreshCmd": "cat(var_dic_list()) "
    }
   },
   "types_to_exclude": [
    "module",
    "function",
    "builtin_function_or_method",
    "instance",
    "_Feature"
   ],
   "window_display": false
  }
 },
 "nbformat": 4,
 "nbformat_minor": 2
}
