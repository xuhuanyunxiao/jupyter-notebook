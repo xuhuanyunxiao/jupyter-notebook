{
 "cells": [
  {
   "cell_type": "markdown",
   "metadata": {},
   "source": [
    "# 基本设置\n",
    "- 读取csv文件几行数据，在hive上建立外联表，同时写hadoop上的关联语句"
   ]
  },
  {
   "cell_type": "code",
   "execution_count": 1,
   "metadata": {
    "ExecuteTime": {
     "end_time": "2018-05-19T03:36:22.292098Z",
     "start_time": "2018-05-19T03:36:21.887075Z"
    },
    "collapsed": true
   },
   "outputs": [],
   "source": [
    "import pandas as pd\n",
    "import numpy as np\n",
    "import os\n",
    "\n",
    "names = locals()\n",
    "data_folder = r'F:\\jxg_data\\jxg_data'\n",
    "result_folder = r'F:\\jxg_data'"
   ]
  },
  {
   "cell_type": "code",
   "execution_count": 2,
   "metadata": {
    "ExecuteTime": {
     "end_time": "2018-05-19T03:36:25.482280Z",
     "start_time": "2018-05-19T03:36:24.627231Z"
    },
    "collapsed": true
   },
   "outputs": [],
   "source": [
    "from impala.dbapi import connect\n",
    "from impala.util import as_pandas\n",
    "\n",
    "conn = connect(host=\"192.168.20.102\", port=10000,  # database=\"system\", \n",
    "               auth_mechanism=\"PLAIN\",\n",
    "               user = 'admin', password = 'admin')\n",
    "cursor = conn.cursor()"
   ]
  },
  {
   "cell_type": "markdown",
   "metadata": {},
   "source": [
    "# 建hive表 + 写hadoop语句"
   ]
  },
  {
   "cell_type": "code",
   "execution_count": 3,
   "metadata": {
    "ExecuteTime": {
     "end_time": "2018-05-19T03:36:28.687464Z",
     "start_time": "2018-05-19T03:36:28.515454Z"
    }
   },
   "outputs": [
    {
     "data": {
      "text/plain": [
       "['company_base_business_merge_new_bak',\n",
       " 'company_base_contact_info_new',\n",
       " 'company_branch_new',\n",
       " 'company_business_change_new',\n",
       " 'company_custom_rating',\n",
       " 'company_execute_persons',\n",
       " 'company_imp_exp_credit_info',\n",
       " 'company_outbound_investment',\n",
       " 'company_promoters_info_new',\n",
       " 'company_senior_manager_new']"
      ]
     },
     "execution_count": 3,
     "metadata": {},
     "output_type": "execute_result"
    }
   ],
   "source": [
    "def run_hive_query(sql_command):   \n",
    "    cursor.execute(sql_command)  \n",
    "    return cursor.fetchall() \n",
    "\n",
    "database_name = 'data_analysis'\n",
    "cursor.execute(\"use \"+ database_name) \n",
    "\n",
    "table_list = [name[0] for name in run_hive_query(\"show tables\")] \n",
    "table_list.remove('company_base_business_merge_new_tmp')\n",
    "table_list.remove('company_base_business_merge_old')\n",
    "table_list"
   ]
  },
  {
   "cell_type": "code",
   "execution_count": null,
   "metadata": {
    "ExecuteTime": {
     "start_time": "2018-05-19T03:34:10.950Z"
    },
    "collapsed": true
   },
   "outputs": [],
   "source": [
    "cursor.execute(\"select * from company_execute_persons\")\n",
    "tmp_data = as_pandas(cursor)\n",
    "tmp_data.shape"
   ]
  },
  {
   "cell_type": "code",
   "execution_count": 6,
   "metadata": {
    "ExecuteTime": {
     "end_time": "2018-05-19T03:37:16.759213Z",
     "start_time": "2018-05-19T03:36:56.711066Z"
    }
   },
   "outputs": [
    {
     "name": "stdout",
     "output_type": "stream",
     "text": [
      "--  处理第 2 张表：company_execute_persons\n"
     ]
    }
   ],
   "source": [
    "index = 1\n",
    "file_name = os.path.join(data_folder, filename_list['文件名称'][index])\n",
    "table_name = filename_list['file_name'][index]    \n",
    "print('--  处理第 %s 张表：%s'%(index +1, table_name))\n",
    "data = pd.read_csv(file_name) "
   ]
  },
  {
   "cell_type": "code",
   "execution_count": 8,
   "metadata": {
    "ExecuteTime": {
     "end_time": "2018-05-19T03:37:57.168524Z",
     "start_time": "2018-05-19T03:37:57.134522Z"
    }
   },
   "outputs": [
    {
     "name": "stdout",
     "output_type": "stream",
     "text": [
      "(6396392, 5)\n"
     ]
    },
    {
     "data": {
      "text/html": [
       "<div>\n",
       "<style scoped>\n",
       "    .dataframe tbody tr th:only-of-type {\n",
       "        vertical-align: middle;\n",
       "    }\n",
       "\n",
       "    .dataframe tbody tr th {\n",
       "        vertical-align: top;\n",
       "    }\n",
       "\n",
       "    .dataframe thead th {\n",
       "        text-align: right;\n",
       "    }\n",
       "</style>\n",
       "<table border=\"1\" class=\"dataframe\">\n",
       "  <thead>\n",
       "    <tr style=\"text-align: right;\">\n",
       "      <th></th>\n",
       "      <th>execute_type</th>\n",
       "      <th>execute_perform</th>\n",
       "      <th>chanle_id</th>\n",
       "      <th>company_gather_time</th>\n",
       "      <th>company_name</th>\n",
       "    </tr>\n",
       "  </thead>\n",
       "  <tbody>\n",
       "    <tr>\n",
       "      <th>0</th>\n",
       "      <td>0.0</td>\n",
       "      <td>全部未履行</td>\n",
       "      <td>63e6ab8d-2fd9-4398-83d5-44ae8add0b3b</td>\n",
       "      <td>2017-12-07 18:18:40</td>\n",
       "      <td>王新华</td>\n",
       "    </tr>\n",
       "    <tr>\n",
       "      <th>1</th>\n",
       "      <td>0.0</td>\n",
       "      <td>全部未履行</td>\n",
       "      <td>6befce1f-586f-4eb3-9737-64a56324a384</td>\n",
       "      <td>2018-01-17 02:13:42</td>\n",
       "      <td>杨福权</td>\n",
       "    </tr>\n",
       "    <tr>\n",
       "      <th>2</th>\n",
       "      <td>1.0</td>\n",
       "      <td>全部未履行</td>\n",
       "      <td>acc16ae7-6f98-421f-8336-91cc59d1b556</td>\n",
       "      <td>2018-01-19 22:20:41</td>\n",
       "      <td>徐州鼎恒新型材料有限公司</td>\n",
       "    </tr>\n",
       "    <tr>\n",
       "      <th>3</th>\n",
       "      <td>0.0</td>\n",
       "      <td>全部未履行</td>\n",
       "      <td>acc1cb36-8f8c-4159-8ee1-8bb945e618a0</td>\n",
       "      <td>2017-09-22 08:53:36</td>\n",
       "      <td>段小建</td>\n",
       "    </tr>\n",
       "    <tr>\n",
       "      <th>4</th>\n",
       "      <td>0.0</td>\n",
       "      <td>全部未履行</td>\n",
       "      <td>0efd611f-9330-4af8-87df-6a4ac0458b41</td>\n",
       "      <td>2017-09-15 19:42:30</td>\n",
       "      <td>孙凤</td>\n",
       "    </tr>\n",
       "  </tbody>\n",
       "</table>\n",
       "</div>"
      ],
      "text/plain": [
       "   execute_type execute_perform                             chanle_id  \\\n",
       "0           0.0           全部未履行  63e6ab8d-2fd9-4398-83d5-44ae8add0b3b   \n",
       "1           0.0           全部未履行  6befce1f-586f-4eb3-9737-64a56324a384   \n",
       "2           1.0           全部未履行  acc16ae7-6f98-421f-8336-91cc59d1b556   \n",
       "3           0.0           全部未履行  acc1cb36-8f8c-4159-8ee1-8bb945e618a0   \n",
       "4           0.0           全部未履行  0efd611f-9330-4af8-87df-6a4ac0458b41   \n",
       "\n",
       "   company_gather_time  company_name  \n",
       "0  2017-12-07 18:18:40           王新华  \n",
       "1  2018-01-17 02:13:42           杨福权  \n",
       "2  2018-01-19 22:20:41  徐州鼎恒新型材料有限公司  \n",
       "3  2017-09-22 08:53:36           段小建  \n",
       "4  2017-09-15 19:42:30            孙凤  "
      ]
     },
     "execution_count": 8,
     "metadata": {},
     "output_type": "execute_result"
    }
   ],
   "source": [
    "print(data.shape)\n",
    "data.head()"
   ]
  },
  {
   "cell_type": "code",
   "execution_count": 9,
   "metadata": {
    "ExecuteTime": {
     "end_time": "2018-05-19T03:39:14.025920Z",
     "start_time": "2018-05-19T03:39:11.383769Z"
    },
    "collapsed": true
   },
   "outputs": [],
   "source": [
    "data['name_length'] = data['company_name'].apply(lambda x: len(x))"
   ]
  },
  {
   "cell_type": "code",
   "execution_count": 10,
   "metadata": {
    "ExecuteTime": {
     "end_time": "2018-05-19T03:39:30.986891Z",
     "start_time": "2018-05-19T03:39:30.961889Z"
    }
   },
   "outputs": [
    {
     "data": {
      "text/html": [
       "<div>\n",
       "<style scoped>\n",
       "    .dataframe tbody tr th:only-of-type {\n",
       "        vertical-align: middle;\n",
       "    }\n",
       "\n",
       "    .dataframe tbody tr th {\n",
       "        vertical-align: top;\n",
       "    }\n",
       "\n",
       "    .dataframe thead th {\n",
       "        text-align: right;\n",
       "    }\n",
       "</style>\n",
       "<table border=\"1\" class=\"dataframe\">\n",
       "  <thead>\n",
       "    <tr style=\"text-align: right;\">\n",
       "      <th></th>\n",
       "      <th>execute_type</th>\n",
       "      <th>execute_perform</th>\n",
       "      <th>chanle_id</th>\n",
       "      <th>company_gather_time</th>\n",
       "      <th>company_name</th>\n",
       "      <th>name_length</th>\n",
       "    </tr>\n",
       "  </thead>\n",
       "  <tbody>\n",
       "    <tr>\n",
       "      <th>0</th>\n",
       "      <td>0.0</td>\n",
       "      <td>全部未履行</td>\n",
       "      <td>63e6ab8d-2fd9-4398-83d5-44ae8add0b3b</td>\n",
       "      <td>2017-12-07 18:18:40</td>\n",
       "      <td>王新华</td>\n",
       "      <td>3</td>\n",
       "    </tr>\n",
       "    <tr>\n",
       "      <th>1</th>\n",
       "      <td>0.0</td>\n",
       "      <td>全部未履行</td>\n",
       "      <td>6befce1f-586f-4eb3-9737-64a56324a384</td>\n",
       "      <td>2018-01-17 02:13:42</td>\n",
       "      <td>杨福权</td>\n",
       "      <td>3</td>\n",
       "    </tr>\n",
       "    <tr>\n",
       "      <th>2</th>\n",
       "      <td>1.0</td>\n",
       "      <td>全部未履行</td>\n",
       "      <td>acc16ae7-6f98-421f-8336-91cc59d1b556</td>\n",
       "      <td>2018-01-19 22:20:41</td>\n",
       "      <td>徐州鼎恒新型材料有限公司</td>\n",
       "      <td>12</td>\n",
       "    </tr>\n",
       "    <tr>\n",
       "      <th>3</th>\n",
       "      <td>0.0</td>\n",
       "      <td>全部未履行</td>\n",
       "      <td>acc1cb36-8f8c-4159-8ee1-8bb945e618a0</td>\n",
       "      <td>2017-09-22 08:53:36</td>\n",
       "      <td>段小建</td>\n",
       "      <td>3</td>\n",
       "    </tr>\n",
       "    <tr>\n",
       "      <th>4</th>\n",
       "      <td>0.0</td>\n",
       "      <td>全部未履行</td>\n",
       "      <td>0efd611f-9330-4af8-87df-6a4ac0458b41</td>\n",
       "      <td>2017-09-15 19:42:30</td>\n",
       "      <td>孙凤</td>\n",
       "      <td>2</td>\n",
       "    </tr>\n",
       "  </tbody>\n",
       "</table>\n",
       "</div>"
      ],
      "text/plain": [
       "   execute_type execute_perform                             chanle_id  \\\n",
       "0           0.0           全部未履行  63e6ab8d-2fd9-4398-83d5-44ae8add0b3b   \n",
       "1           0.0           全部未履行  6befce1f-586f-4eb3-9737-64a56324a384   \n",
       "2           1.0           全部未履行  acc16ae7-6f98-421f-8336-91cc59d1b556   \n",
       "3           0.0           全部未履行  acc1cb36-8f8c-4159-8ee1-8bb945e618a0   \n",
       "4           0.0           全部未履行  0efd611f-9330-4af8-87df-6a4ac0458b41   \n",
       "\n",
       "   company_gather_time  company_name  name_length  \n",
       "0  2017-12-07 18:18:40           王新华            3  \n",
       "1  2018-01-17 02:13:42           杨福权            3  \n",
       "2  2018-01-19 22:20:41  徐州鼎恒新型材料有限公司           12  \n",
       "3  2017-09-22 08:53:36           段小建            3  \n",
       "4  2017-09-15 19:42:30            孙凤            2  "
      ]
     },
     "execution_count": 10,
     "metadata": {},
     "output_type": "execute_result"
    }
   ],
   "source": [
    "data.head()"
   ]
  },
  {
   "cell_type": "code",
   "execution_count": 12,
   "metadata": {
    "ExecuteTime": {
     "end_time": "2018-05-19T03:40:10.099128Z",
     "start_time": "2018-05-19T03:40:09.406088Z"
    }
   },
   "outputs": [
    {
     "data": {
      "text/plain": [
       "(4800066, 6)"
      ]
     },
     "execution_count": 12,
     "metadata": {},
     "output_type": "execute_result"
    }
   ],
   "source": [
    "data[data['name_length'] < 4].shape"
   ]
  },
  {
   "cell_type": "code",
   "execution_count": 18,
   "metadata": {
    "ExecuteTime": {
     "end_time": "2018-05-19T03:31:36.538754Z",
     "start_time": "2018-05-19T03:31:28.507294Z"
    }
   },
   "outputs": [
    {
     "name": "stdout",
     "output_type": "stream",
     "text": [
      "--------------   company_base_business_merge_new_bak\n",
      "                      0                     1                      2   \\\n",
      "0  company_regis_capital  company_operat_state           company_type   \n",
      "1               0.000000          存续（在营、开业、在册）                  个体工商户   \n",
      "2               0.000000          存续（在营、开业、在册）                  个体工商户   \n",
      "3              50.000000          存续（在营、开业、在册）       有限责任公司(自然人投资或控股)   \n",
      "4               0.000000                    注销                  个体工商户   \n",
      "5             500.000000          存续（在营、开业、在册）                农民专业合作社   \n",
      "6             500.000000          存续（在营、开业、在册）           限责任公司(自然人独资)   \n",
      "7             300.000000          存续（在营、开业、在册）                 有限责任公司   \n",
      "8              10.000000          存续（在营、开业、在册）  有限责任公司(自然人投资或控股的法人独资)   \n",
      "9              50.000000                    存续                 有限责任公司   \n",
      "\n",
      "                 3                          4                      5   \\\n",
      "0  company_currency  company_registration_time  company_regis_capital   \n",
      "1                未知                 2016-03-30               0.000000   \n",
      "2                未知                 2015-01-29               0.000000   \n",
      "3              万人民币                 2011-08-26              50.000000   \n",
      "4                未知                 2010-12-13               0.000000   \n",
      "5              万人民币                 2015-06-25             500.000000   \n",
      "6              万人民币                 2014-05-27             500.000000   \n",
      "7              万人民币                 2014-12-11             300.000000   \n",
      "8              万人民币                 2010-11-03              10.000000   \n",
      "9              万人民币                 2012-08-10              50.000000   \n",
      "\n",
      "                  6                 7                   8   \\\n",
      "0  company_area_code  company_industry  company_legal_name   \n",
      "1             411322             食品制造业                  王征   \n",
      "2             210727           农副食品加工业                 孙长存   \n",
      "3             420525             商务服务业                 皮官淑   \n",
      "4             220702               餐饮业                 张玉良   \n",
      "5             210181                农业                 刘俊亮   \n",
      "6             510108             商务服务业                  陈锦   \n",
      "7             350982               批发业                 陈家情   \n",
      "8             210244           专业技术服务业                 范久慧   \n",
      "9             120110               批发业                 黎耀谦   \n",
      "\n",
      "                                     9                    10  \\\n",
      "0                             chanle_id          gather_time   \n",
      "1  242d55b8-97fa-4ddf-afe7-7e6d1040349d  2017-12-20 12:31:40   \n",
      "2  a6d574a8-1a6f-460e-b672-95506e305a7a  2017-07-17 18:36:31   \n",
      "3  a735bb03-087b-4ffb-b1b1-2e0055b3787c  2017-10-08 20:20:21   \n",
      "4  580f5165-d913-4933-9cde-c7ae0a2a6345  2017-09-24 14:39:58   \n",
      "5  a0a9a2f1-c8ef-4b74-93e3-99116f84a534  2017-11-13 20:14:58   \n",
      "6  d8ef235b-7e24-49bb-b13c-1863853df4e3  2017-06-23 10:32:03   \n",
      "7  81b98356-a48a-4bea-b94c-2865eb757460  2017-06-21 06:12:35   \n",
      "8  4d2bd802-a978-4bf4-bf19-cba5bbe7504f  2017-07-01 03:16:43   \n",
      "9  aa1f39f1-6a2b-4bb8-b3af-a6092cba42a3  2017-11-05 07:43:53   \n",
      "\n",
      "                     11  \n",
      "0          company_name  \n",
      "1           方城县王征酱香饼小作坊  \n",
      "2           义县义州镇孙长存熟食店  \n",
      "3           远安县安逸物业有限公司  \n",
      "4    松原市宁江区玉良正宗四川麻辣烫小吃部  \n",
      "5          新民市俊亮种植专业合作社  \n",
      "6         成都花千束文化传播有限公司  \n",
      "7          福鼎市润智堂茶业有限公司  \n",
      "8  大连长兴岛经济区大丰工程造价咨询有限公司  \n",
      "9          天津茂宁机电销售有限公司  \n",
      "--------------   company_base_contact_info_new\n",
      "                      0              1                  2  \\\n",
      "0  company_company_size  company_email  company_telephone   \n",
      "1                                   暂无                 暂无   \n",
      "2                                   暂无                 暂无   \n",
      "3                                   暂无                 暂无   \n",
      "4                                           0757-81680688   \n",
      "5                                   暂无                 暂无   \n",
      "6                                   暂无                 暂无   \n",
      "7                                   暂无                 暂无   \n",
      "8                                   暂无                 暂无   \n",
      "9                                   暂无                 暂无   \n",
      "\n",
      "                       3                                     4  \\\n",
      "0   company_web_site_url                             chanle_id   \n",
      "1                     暂无  7aeb68e1-9631-4794-b590-5424a93da913   \n",
      "2                     暂无  4d5e499b-00f0-4b00-bddd-46fe8ec2efd0   \n",
      "3                     暂无  b54fcd7f-8fbb-4e6c-82e5-610f9d748b15   \n",
      "4  http://www.aia.com.cn  e6c56853-1b72-4cd2-bcf3-2ebff26b89a1   \n",
      "5                     暂无  f34d11b2-3eee-48bf-a86f-20e496a4ba62   \n",
      "6                     暂无  b2db80a6-8cb8-40b8-b179-18eeb8419974   \n",
      "7                         746fc813-fdfd-40f2-be5a-e7e861ab9be2   \n",
      "8                     暂无  569a2b19-0962-47c1-89e5-174f6ec99a90   \n",
      "9                     暂无  4c7686a5-c504-4302-a411-077c1be42856   \n",
      "\n",
      "                     5                                6  \n",
      "0  company_gather_time                     company_name  \n",
      "1  2017-11-23 13:53:39                         陕西外销供货公司  \n",
      "2  2017-09-21 06:29:33                    辉县市城关灶君庙摩托修理部  \n",
      "3  2017-09-06 09:25:40                     合肥魔宝科技有限责任公司  \n",
      "4  2018-01-20 03:18:49  友邦保险有限公司广东分公司佛山支公司友邦金融中心四处营销服务部  \n",
      "5  2017-10-23 11:00:41             上海众利房屋租赁服务有限公司云音休闲茶吧  \n",
      "6  2017-11-13 17:40:32                  220302600099081  \n",
      "7  2017-07-01 00:10:10                      海丰县附城泰艺石业门市  \n",
      "8  2017-10-23 15:24:19                      国际风联潍坊风筝研究所  \n",
      "9  2017-11-21 13:49:58                   茅箭区火车站前程教育咨询中心  \n",
      "--------------   company_branch_new\n",
      "                     0                                     1  \\\n",
      "0  father_company_name                             chanle_id   \n",
      "1         广东壹号食品股份有限公司  9cfd5446-8d69-479f-b2d4-52c6cf940883   \n",
      "2           山东临沂烟草有限公司  b3d7502a-1cab-4195-bbb3-2cacee23c78d   \n",
      "3            上海致立医疗器械厂  fb8356b8-0b16-4110-98be-06222d173394   \n",
      "4         深圳市德庆祥实业有限公司  d643d329-7d31-46dd-a784-b3e56d215bad   \n",
      "5          长沙云茶旅行社有限公司  d8a5a0e0-be75-4ea3-bf0f-215792961aad   \n",
      "6           上海劲达报关有限公司  c45c58d7-3d85-4a16-889a-2fe296cd87b7   \n",
      "7          上海金诺标准件有限公司  860d0a54-e127-4347-be38-aefe1d8452fc   \n",
      "8         烟台振华购物中心有限公司  280e8022-d322-4514-aec6-ed94d8deb55d   \n",
      "9        泰安市鲁科通讯器材有限公司  9ae9e009-254c-4a87-800e-db88dfbfd207   \n",
      "\n",
      "                     2                     3  \n",
      "0  company_gather_time          company_name  \n",
      "1  2017-12-06 10:03:20     广东壹号食品股份有限公司遂溪分公司  \n",
      "2  2018-04-26 08:20:46  山东临沂烟草有限公司沂南县苏村卷烟批发部  \n",
      "3  2017-10-20 19:35:04             上海华澳真空器材厂  \n",
      "4  2017-09-24 06:05:50     深圳市德庆祥实业有限公司小南山石场  \n",
      "5  2017-12-13 01:47:24      长沙云茶旅行社有限公司株洲分公司  \n",
      "6  2018-01-10 19:35:44      上海劲达报关有限公司外高桥分公司  \n",
      "7  2017-10-20 19:55:25        上海金诺标准件有限公司分公司  \n",
      "8  2018-04-13 07:33:03   烟台振华购物中心有限公司第十二家具商场  \n",
      "9  2017-12-29 06:44:22     泰安市鲁科通讯器材有限公司数码超市  \n",
      "--------------   company_business_change_new\n",
      "                                     0            1  \\\n",
      "0                       change_project  change_time   \n",
      "1                                 章程备案   2016-10-28   \n",
      "2                            投资人(股权)变更   2016-07-22   \n",
      "3                         经营范围(业务范围)变更   2012-05-17   \n",
      "4                               增、补、换照   2016-12-17   \n",
      "5                                股东发起人   2015-11-19   \n",
      "6  投资人信息变更（包括投资人、出资额、出资方式、出资日期、投资人名称等）   2017-06-20   \n",
      "7                    经营范围变更（含业务范围变更）变更   2014-04-08   \n",
      "8                        住所(营业场所、地址)变更   1997-10-05   \n",
      "9                               经营范围变更   2016-05-11   \n",
      "\n",
      "                                      2                    3                 4  \n",
      "0                             chanle_id  company_gather_time      company_name  \n",
      "1  46f96902-b7c3-46d3-84ed-76c2a2498c79  2017-10-20 02:51:38  成都德圣智融信息技术服务有限公司  \n",
      "2  dec9cabe-d34d-4fda-a81d-ac31af99452b  2017-10-11 11:40:07      临沂世藏文化传媒有限公司  \n",
      "3  d58d46a3-62e5-4156-8dea-dd2428ed0b56  2017-08-07 22:47:35        奉化市达岙岭休闲农庄  \n",
      "4  8c17cc81-d992-45a0-a11b-86fe7ccf099a  2017-11-04 19:38:13     将乐县新潭建设工程有限公司  \n",
      "5  3636aaab-3615-4599-be35-29cf4602760a  2018-04-16 23:39:18        山东鑫东肥业有限公司  \n",
      "6  8a90a27b-8723-4a1e-a549-3ab27d0d0afa  2018-01-04 15:14:30   贵州省盘州市大山播土专业合作社  \n",
      "7  8a9b4328-25b8-44f4-bc09-3ff74f17c8ad  2017-10-20 18:26:30         商城县苏扬足疗中心  \n",
      "8  fb375766-27e8-46f1-be4b-6d1d6b6081e5  2017-08-08 01:53:01         金华县财务开发公司  \n",
      "9  a5f0e2f3-8aca-4f84-81bb-ce3a9b392965  2017-07-06 19:19:42        陕西鸿恩实业有限公司  \n"
     ]
    },
    {
     "name": "stdout",
     "output_type": "stream",
     "text": [
      "--------------   company_custom_rating\n",
      "                0              1                                     2  \\\n",
      "0  business_level  industry_type                             chanle_id   \n",
      "1               0                 6fd83758-c580-46c9-b645-50527d9979b2   \n",
      "2               B                 cef92ed7-97b5-4f45-9459-9027f31435d0   \n",
      "3               B                 97b38c64-1725-4619-a158-0c31d63e6821   \n",
      "4               B                 94e5c000-4df3-45d2-b354-545c11ba3aee   \n",
      "5               A                 f4bc6656-d329-4a7e-9737-ce3f72dafaf4   \n",
      "6               B                 db0d7f98-6979-4842-8cd1-62e471489f96   \n",
      "7               B                 10c6aecf-dc9f-4707-9452-3ae92d9472bf   \n",
      "8               B                 0addb0d5-e5b9-43cc-91d3-6e29137b338e   \n",
      "9               B                 1d4bfa3c-ff46-4f3c-a3db-32195b546f72   \n",
      "\n",
      "                     3               4  \n",
      "0  company_gather_time    company_name  \n",
      "1  2017-02-17 15:46:12    上海通用电气广电有限公司  \n",
      "2  2017-01-12 15:37:33    苍山信诚地球食品有限公司  \n",
      "3  2017-01-16 08:14:31  梅州南洋（思乡）食品有限公司  \n",
      "4  2017-01-14 02:48:28      温州昊昊贸易有限公司  \n",
      "5  2017-01-17 13:44:51   中山高美合成新材料有限公司  \n",
      "6  2017-01-11 19:20:02      无锡中亚包装有限公司  \n",
      "7  2017-02-18 20:13:39    启明信息技术股份有限公司  \n",
      "8  2017-02-19 12:11:50    恒昌涂料(浙江)有限公司  \n",
      "9  2017-01-13 01:43:46   厦门象屿维一进出口有限公司  \n",
      "--------------   company_execute_persons\n",
      "              0                1                                     2  \\\n",
      "0  execute_type  execute_perform                             chanle_id   \n",
      "1             0            全部未履行  63e6ab8d-2fd9-4398-83d5-44ae8add0b3b   \n",
      "2             0            全部未履行  6befce1f-586f-4eb3-9737-64a56324a384   \n",
      "3             1            全部未履行  acc16ae7-6f98-421f-8336-91cc59d1b556   \n",
      "4             0            全部未履行  acc1cb36-8f8c-4159-8ee1-8bb945e618a0   \n",
      "5             0            全部未履行  0efd611f-9330-4af8-87df-6a4ac0458b41   \n",
      "6             1            全部未履行  4ab5f7d6-b01a-483a-8815-94cbc86193d3   \n",
      "7             1            全部未履行  10d61351-146d-400b-ad3a-d25d1604557f   \n",
      "8             0            全部未履行  db16ccf8-fd00-4c65-bc08-a38a45a844c1   \n",
      "9                                 50d94d68-46c4-464a-ab45-6e26f7625992   \n",
      "\n",
      "                     3             4  \n",
      "0  company_gather_time  company_name  \n",
      "1  2017-12-07 18:18:40           王新华  \n",
      "2  2018-01-17 02:13:42           杨福权  \n",
      "3  2018-01-19 22:20:41  徐州鼎恒新型材料有限公司  \n",
      "4  2017-09-22 08:53:36           段小建  \n",
      "5  2017-09-15 19:42:30            孙凤  \n",
      "6  2017-11-23 20:32:40  淄博鼎泰建筑安装有限公司  \n",
      "7  2017-01-04 18:55:38    江西宏华矿业有限公司  \n",
      "8  2016-09-20 15:25:50           李汉忠  \n",
      "9  2017-12-08 16:31:24  湖南长重机器股份有限公司  \n",
      "--------------   company_imp_exp_credit_info\n",
      "       0   1       2       3        4      5  \\\n",
      "0  超期未报送  正常  一般信用企业  一般经济区域  进出口收发货人  非特殊区域   \n",
      "1    已报送  正常  一般认证企业  一般经济区域  进出口收发货人  非特殊区域   \n",
      "2  超期未报送  正常  一般信用企业  一般经济区域  进出口收发货人  非特殊区域   \n",
      "3  超期未报送  正常  一般信用企业  一般经济区域  进出口收发货人  非特殊区域   \n",
      "4  超期未报送  注销  一般信用企业  一般经济区域  进出口收发货人  非特殊区域   \n",
      "5    已报送  正常  一般信用企业  一般经济区域  进出口收发货人  非特殊区域   \n",
      "6  超期未报送  注销  一般信用企业  一般经济区域  进出口收发货人  非特殊区域   \n",
      "7    已报送  正常  一般信用企业  一般经济区域  进出口收发货人  非特殊区域   \n",
      "8  超期未报送  注销  一般信用企业  一般经济区域  进出口收发货人  非特殊区域   \n",
      "9  超期未报送  正常  一般信用企业  一般经济区域  进出口收发货人  非特殊区域   \n",
      "\n",
      "                                      6                    7                 8  \n",
      "0  b7afee83-0435-45ed-867e-aae6807fff4b  2018-01-12 12:57:31        青岛正兴集团有限公司  \n",
      "1  ed2574a3-8a67-475f-ab77-0da147f71f9c  2017-12-26 20:42:22  大安东方国际贸易（北京）有限公司  \n",
      "2  58d25de5-1120-4b1f-9b01-96a0eefd1f73  2018-01-20 12:22:22      湖北高曼重工股份有限公司  \n",
      "3  d04d116d-bfde-4558-a3b8-697e31d2c2e3  2017-12-23 06:57:38        枣庄嘉瑞服饰有限公司  \n",
      "4  afb26331-ef3b-4761-af39-49d108e6f341  2017-11-16 05:37:55        茂名鼎晟表业有限公司  \n",
      "5  0ef41846-a67b-41f7-9e1b-0dfa992d9182  2017-11-24 10:49:25          中原圣起有限公司  \n",
      "6  5679b4ee-5796-4c3b-b4c8-e25fb637e289  2017-10-30 18:01:13   安徽省科苑（集团）股份有限公司  \n",
      "7  f1214531-407d-4784-b8d0-9b6a9b5c9881  2017-12-19 23:04:56     北京国合源建材股份有限公司  \n",
      "8  2428c94d-831d-4287-bbd2-ae624cee9b30  2017-11-13 15:36:24      天津巨裕汽车用品有限公司  \n",
      "9  3aa30d90-61ab-4013-817e-a2f7b941af64  2017-12-18 21:56:49      湖南天赐氢氧能源有限公司  \n",
      "--------------   company_outbound_investment\n",
      "                         0                                     1  \\\n",
      "0  investment_company_name                             chanle_id   \n",
      "1             沈阳安运灯具电器配送中心  43bd0e21-1a86-4a3e-89c5-43e23df6a59e   \n",
      "2           龙元市政养护（上海）有限公司  3d8b723a-46a9-4f05-ad54-42f678ce8e89   \n",
      "3               重庆红石科技有限公司  da4e0e4d-cb14-4246-b162-adb6b14a28a5   \n",
      "4       平山县敬业西城华府房地产开发有限公司  1a8b34be-00be-497b-bdac-a6a2674d0cf2   \n",
      "5        岑溪市诚谏供销合作社孔任综合门市部  ee3077ac-1ab2-48c5-bbaa-c82c1935990d   \n",
      "6    桃源居实业（深圳）集团（简称：桃源居集团）  45e4337a-a53b-4ad4-9ef3-79f3fa64118b   \n",
      "7          高州市谢鸡供销社香蕉专业合作社  73f31a20-b568-419d-9209-72c31094fc5a   \n",
      "8           青岛华商汇通金融服务有限公司  85114266-edd8-462c-ba15-ae9f8df7ab0e   \n",
      "9               太仓市直塘粮食管理所  7fa81db7-46b0-42f2-893f-a56cf21b36fa   \n",
      "\n",
      "                     2                                                  3  \n",
      "0  company_gather_time                                       company_name  \n",
      "1  2017-10-08 01:38:47                                       沈阳安运货物运输有限公司  \n",
      "2  2017-10-02 17:00:08  杭州市路桥集团股份有限公司公司的名称和住所是公司登记的主要事项，也是设立公司的组织条件。公司...  \n",
      "3  2017-10-26 10:06:57                                         重庆雷邦科技有限公司  \n",
      "4  2018-04-04 11:07:58                                           敬业集团有限公司  \n",
      "5  2017-10-31 08:26:37                                         岑溪市诚谏供销合作社  \n",
      "6  2017-08-03 00:45:43                                      深圳市桃源物业管理有限公司  \n",
      "7  2017-11-23 05:22:32                                           高州市谢鸡供销社  \n",
      "8  2018-01-29 11:11:50                               青岛华通国有资本运营（集团）有限责任公司  \n",
      "9  2017-11-20 12:47:34                                             太仓市粮食局  \n",
      "--------------   company_promoters_info_new\n",
      "                       0                                     1  \\\n",
      "0  company_initiate_type                             chanle_id   \n",
      "1                      1  ec2ccba1-d8e3-4723-b0bc-0823c0bb01ae   \n",
      "2                      1  53688ec0-762a-4cb1-a215-15cb983e826a   \n",
      "3                      2  4980845f-7174-45df-8195-77f19aeccd97   \n",
      "4                      1  a233c938-f4d3-471a-bd9d-57076ca9486d   \n",
      "5                      1  0da2cd73-e5f8-49d4-b787-c9ba48a3b7c0   \n",
      "6                      1  5bc3ed1d-dd61-4bf9-b249-9f1a83de40f7   \n",
      "7                      1  923c089f-cf24-48e9-9852-b451719a9cf3   \n",
      "8                      1  7be5c993-9397-4563-8f99-f12e3c244778   \n",
      "9                      1  097ae17a-ac12-4e39-b169-39744dfe5fac   \n",
      "\n",
      "                     2                       3  \n",
      "0  company_gather_time            company_name  \n",
      "1  2017-08-08 07:34:03        泰州市万木钦园林绿化工程有限公司  \n",
      "2  2017-11-09 10:39:37            广州展华数字传媒有限公司  \n",
      "3  2017-11-28 00:55:30  珠海横琴粤财和佳医疗产业合伙企业（有限合伙）  \n",
      "4  2017-10-13 12:36:49              济南林丰奶业有限公司  \n",
      "5  2017-09-20 12:06:43           盐城市源丰包装材料有限公司  \n",
      "6  2017-10-13 05:31:02            广州俊染纺织服饰有限公司  \n",
      "7  2017-09-09 11:53:09          江苏欧锐智能建筑科技有限公司  \n",
      "8  2017-11-08 12:23:22            德阳大方文化传播有限公司  \n",
      "9  2018-04-11 18:54:22            青岛硕万电子科技有限公司  \n",
      "--------------   company_senior_manager_new\n",
      "                                0               1  \\\n",
      "0           company_employee_name  company_posite   \n",
      "1                              牛刚              监事   \n",
      "2                             刘吉仇              未知   \n",
      "3                             黄元莉              监事   \n",
      "4                             吴进益             董事长   \n",
      "5                             黄治芳            家庭成员   \n",
      "6  Ananias Richard Tan Seng Keong              董事   \n",
      "7                             丁法明             经营者   \n",
      "8                              李茹              监事   \n",
      "9                             马宬旸              监事   \n",
      "\n",
      "                                      2                    3  \\\n",
      "0                             chanle_id  company_gather_time   \n",
      "1  46742751-7eb1-4c4e-b0e0-74a44737bc10  2017-06-20 23:03:44   \n",
      "2  233c6bbc-c50b-4f76-8e11-80596de8f6c2  2017-09-20 22:41:58   \n",
      "3  db712983-b643-46fc-9f45-f798478ef086  2017-11-24 03:03:58   \n",
      "4  d5fa1e16-11cf-4b53-a822-53d27cda50b4  2017-10-20 18:17:23   \n",
      "5  db01292b-682b-44ed-8443-049c9dc0ecf0  2018-01-12 21:55:52   \n",
      "6  b9e0900f-7a9c-45cf-8be2-684015496f16  2017-06-05 11:31:20   \n",
      "7  a7d7c5af-57f9-41fc-8987-9428cdff6a40  2017-11-13 07:59:15   \n",
      "8  0cb7dbe3-e270-4b8f-a5b7-467ef96092d8  2018-04-19 14:09:33   \n",
      "9  a74fe584-1573-413a-81ee-c293f715496a  2017-12-19 17:52:30   \n",
      "\n",
      "                    4  \n",
      "0        company_name  \n",
      "1        通辽市桦琪新能源有限公司  \n",
      "2     大冶市昆泰种养殖农民专业合作社  \n",
      "3        江阴陆叁叁贵金属有限公司  \n",
      "4          上海健泰铭版有限公司  \n",
      "5  黄治芳620102600306121  \n",
      "6       上海壹品家餐饮管理有限公司  \n",
      "7         武进区湖塘老家味道菜馆  \n",
      "8      济南金冠毛纺集团有限责任公司  \n",
      "9      北京天柱泰奉石鑫矿业有限公司  \n"
     ]
    }
   ],
   "source": [
    "for table_name in table_list:\n",
    "    cursor.execute(\"select * from %s limit 10\"%table_name)\n",
    "    tmp = cursor.fetchall()\n",
    "    tmp = pd.DataFrame(tmp)\n",
    "    print('--------------  ', table_name)\n",
    "    print(tmp)"
   ]
  },
  {
   "cell_type": "code",
   "execution_count": 5,
   "metadata": {
    "ExecuteTime": {
     "end_time": "2018-05-19T03:36:51.466766Z",
     "start_time": "2018-05-19T03:36:51.433765Z"
    }
   },
   "outputs": [
    {
     "data": {
      "text/html": [
       "<div>\n",
       "<style scoped>\n",
       "    .dataframe tbody tr th:only-of-type {\n",
       "        vertical-align: middle;\n",
       "    }\n",
       "\n",
       "    .dataframe tbody tr th {\n",
       "        vertical-align: top;\n",
       "    }\n",
       "\n",
       "    .dataframe thead th {\n",
       "        text-align: right;\n",
       "    }\n",
       "</style>\n",
       "<table border=\"1\" class=\"dataframe\">\n",
       "  <thead>\n",
       "    <tr style=\"text-align: right;\">\n",
       "      <th></th>\n",
       "      <th>文件名称</th>\n",
       "      <th>file_name</th>\n",
       "    </tr>\n",
       "  </thead>\n",
       "  <tbody>\n",
       "    <tr>\n",
       "      <th>0</th>\n",
       "      <td>company_custom_rating.csv</td>\n",
       "      <td>company_custom_rating</td>\n",
       "    </tr>\n",
       "    <tr>\n",
       "      <th>1</th>\n",
       "      <td>company_execute_persons.csv</td>\n",
       "      <td>company_execute_persons</td>\n",
       "    </tr>\n",
       "    <tr>\n",
       "      <th>2</th>\n",
       "      <td>company_outbound_investment.csv</td>\n",
       "      <td>company_outbound_investment</td>\n",
       "    </tr>\n",
       "    <tr>\n",
       "      <th>3</th>\n",
       "      <td>company_senior_manager_new.csv</td>\n",
       "      <td>company_senior_manager_new</td>\n",
       "    </tr>\n",
       "  </tbody>\n",
       "</table>\n",
       "</div>"
      ],
      "text/plain": [
       "                              文件名称                    file_name\n",
       "0        company_custom_rating.csv        company_custom_rating\n",
       "1      company_execute_persons.csv      company_execute_persons\n",
       "2  company_outbound_investment.csv  company_outbound_investment\n",
       "3   company_senior_manager_new.csv   company_senior_manager_new"
      ]
     },
     "execution_count": 5,
     "metadata": {},
     "output_type": "execute_result"
    }
   ],
   "source": [
    "filename_list = pd.DataFrame(os.listdir(data_folder), columns = ['文件名称'])\n",
    "filename_list['file_name'] = filename_list['文件名称'].apply(lambda x: os.path.splitext(x)[0])\n",
    "filename_list"
   ]
  },
  {
   "cell_type": "code",
   "execution_count": 68,
   "metadata": {
    "ExecuteTime": {
     "end_time": "2018-05-18T05:48:33.010206Z",
     "start_time": "2018-05-18T05:48:28.802172Z"
    }
   },
   "outputs": [
    {
     "name": "stdout",
     "output_type": "stream",
     "text": [
      "--  处理第 1 张表：company_custom_rating\n",
      "create external table if not exists company_custom_rating(business_level string, industry_type string, chanle_id string, company_gather_time string, company_name string)\n",
      "ROW FORMAT DELIMITED FIELDS TERMINATED BY ','\n",
      "LOCATION '/tmp/jxg_data/company_custom_rating'\n",
      "--  处理第 2 张表：company_execute_persons\n",
      "create external table if not exists company_execute_persons(execute_type string, chanle_id string, company_gather_time string, company_name string)\n",
      "ROW FORMAT DELIMITED FIELDS TERMINATED BY ','\n",
      "LOCATION '/tmp/jxg_data/company_execute_persons'\n",
      "--  处理第 3 张表：company_outbound_investment\n",
      "create external table if not exists company_outbound_investment(investment_company_name string, chanle_id string, company_gather_time string, company_name string)\n",
      "ROW FORMAT DELIMITED FIELDS TERMINATED BY ','\n",
      "LOCATION '/tmp/jxg_data/company_outbound_investment'\n",
      "--  处理第 4 张表：company_senior_manager_new\n",
      "create external table if not exists company_senior_manager_new(company_employee_name string, company_posite string, chanle_id string, company_gather_time string, company_name string)\n",
      "ROW FORMAT DELIMITED FIELDS TERMINATED BY ','\n",
      "LOCATION '/tmp/jxg_data/company_senior_manager_new'\n"
     ]
    }
   ],
   "source": [
    "save_filename = os.path.join(result_folder, 'hadoop_put_data.txt')\n",
    "file = open(save_filename,\"w\")\n",
    "\n",
    "database_name = 'data_analysis'\n",
    "cursor.execute(\"create database if not exists {0} \".format(database_name))\n",
    "cursor.execute(\"use \"+ database_name)\n",
    "for index in filename_list.index:\n",
    "\n",
    "    # 读入csv文件    \n",
    "    file_name = os.path.join(data_folder, filename_list['文件名称'][index])\n",
    "    table_name = filename_list['file_name'][index]    \n",
    "    print('--  处理第 %s 张表：%s'%(index +1, table_name))\n",
    "    data = pd.read_csv(file_name,nrows =5) \n",
    "    \n",
    "    field = [x + ' string' for x in data.columns.tolist()]\n",
    "    \n",
    "    # 在hive上建立标准表 \n",
    "    cursor.execute('drop table if exists %s;' %table_name)     \n",
    "    sql_code  =  \"create external table if not exists {0}{1}\".\\\n",
    "            format(table_name,tuple(field)).replace(\"'\",\"\") \\\n",
    "            + '\\n' + \"ROW FORMAT DELIMITED FIELDS TERMINATED BY ','\" \\\n",
    "            + '\\n' + \"LOCATION '/tmp/jxg_data/{0}'\".format(table_name)    \n",
    "    print(sql_code)\n",
    "    try :\n",
    "        cursor.execute(sql_code)\n",
    "    except Exception as e:\n",
    "        print(e)\n",
    "        print(table_name)\n",
    "        \n",
    "    file.write(\"hdfs dfs -put -f '/mnt/disk2/jxg_data/{1}.csv' '/tmp/jxg_data/{1}'\".\\\n",
    "               format(database_name,table_name) + \"\\n\")    \n",
    "\n",
    "file.close()"
   ]
  },
  {
   "cell_type": "markdown",
   "metadata": {},
   "source": [
    "# 匹配company_execute_persons中的company_name"
   ]
  },
  {
   "cell_type": "code",
   "execution_count": 24,
   "metadata": {
    "ExecuteTime": {
     "end_time": "2018-05-19T05:46:09.783389Z",
     "start_time": "2018-05-19T05:46:09.222357Z"
    },
    "collapsed": true
   },
   "outputs": [],
   "source": [
    "from impala.dbapi import connect\n",
    "from impala.util import as_pandas\n",
    "\n",
    "conn = connect(host=\"192.168.20.102\", port=10000,  # database=\"system\", \n",
    "               auth_mechanism=\"PLAIN\",\n",
    "               user = 'admin', password = 'admin')\n",
    "cursor = conn.cursor()\n",
    "\n",
    "database_name = 'data_analysis'\n",
    "cursor.execute(\"use \"+ database_name) "
   ]
  },
  {
   "cell_type": "code",
   "execution_count": 1,
   "metadata": {
    "ExecuteTime": {
     "end_time": "2018-05-19T04:02:44.916619Z",
     "start_time": "2018-05-19T04:02:44.543597Z"
    }
   },
   "outputs": [
    {
     "name": "stdout",
     "output_type": "stream",
     "text": [
      "--  处理第 2 张表：company_execute_persons\n"
     ]
    }
   ],
   "source": [
    "import pandas as pd\n",
    "import numpy as np\n",
    "import os\n",
    "\n",
    "names = locals()\n",
    "data_folder = r'F:\\jxg_data\\jxg_data'\n",
    "result_folder = r'F:\\jxg_data'\n",
    "\n",
    "filename_list = pd.DataFrame(os.listdir(data_folder), columns = ['文件名称'])\n",
    "filename_list['file_name'] = filename_list['文件名称'].apply(lambda x: os.path.splitext(x)[0])\n",
    "filename_list\n",
    "\n",
    "index = 1\n",
    "file_name = os.path.join(data_folder, filename_list['文件名称'][index])\n",
    "table_name = filename_list['file_name'][index]    \n",
    "print('--  处理第 %s 张表：%s'%(index +1, table_name))"
   ]
  },
  {
   "cell_type": "code",
   "execution_count": 12,
   "metadata": {
    "ExecuteTime": {
     "end_time": "2018-05-19T04:30:08.263700Z",
     "start_time": "2018-05-19T04:30:08.230698Z"
    }
   },
   "outputs": [
    {
     "data": {
      "text/html": [
       "<div>\n",
       "<style scoped>\n",
       "    .dataframe tbody tr th:only-of-type {\n",
       "        vertical-align: middle;\n",
       "    }\n",
       "\n",
       "    .dataframe tbody tr th {\n",
       "        vertical-align: top;\n",
       "    }\n",
       "\n",
       "    .dataframe thead th {\n",
       "        text-align: right;\n",
       "    }\n",
       "</style>\n",
       "<table border=\"1\" class=\"dataframe\">\n",
       "  <thead>\n",
       "    <tr style=\"text-align: right;\">\n",
       "      <th></th>\n",
       "      <th>execute_type</th>\n",
       "      <th>execute_perform</th>\n",
       "      <th>chanle_id</th>\n",
       "      <th>company_gather_time</th>\n",
       "    </tr>\n",
       "  </thead>\n",
       "  <tbody>\n",
       "    <tr>\n",
       "      <th>0</th>\n",
       "      <td>0</td>\n",
       "      <td>全部未履行</td>\n",
       "      <td>63e6ab8d-2fd9-4398-83d5-44ae8add0b3b</td>\n",
       "      <td>2017-12-07 18:18:40</td>\n",
       "    </tr>\n",
       "    <tr>\n",
       "      <th>1</th>\n",
       "      <td>0</td>\n",
       "      <td>全部未履行</td>\n",
       "      <td>6befce1f-586f-4eb3-9737-64a56324a384</td>\n",
       "      <td>2018-01-17 02:13:42</td>\n",
       "    </tr>\n",
       "    <tr>\n",
       "      <th>2</th>\n",
       "      <td>1</td>\n",
       "      <td>全部未履行</td>\n",
       "      <td>acc16ae7-6f98-421f-8336-91cc59d1b556</td>\n",
       "      <td>2018-01-19 22:20:41</td>\n",
       "    </tr>\n",
       "  </tbody>\n",
       "</table>\n",
       "</div>"
      ],
      "text/plain": [
       "   execute_type execute_perform                             chanle_id  \\\n",
       "0             0           全部未履行  63e6ab8d-2fd9-4398-83d5-44ae8add0b3b   \n",
       "1             0           全部未履行  6befce1f-586f-4eb3-9737-64a56324a384   \n",
       "2             1           全部未履行  acc16ae7-6f98-421f-8336-91cc59d1b556   \n",
       "\n",
       "   company_gather_time  \n",
       "0  2017-12-07 18:18:40  \n",
       "1  2018-01-17 02:13:42  \n",
       "2  2018-01-19 22:20:41  "
      ]
     },
     "execution_count": 12,
     "metadata": {},
     "output_type": "execute_result"
    }
   ],
   "source": [
    "tmp_data.head()"
   ]
  },
  {
   "cell_type": "code",
   "execution_count": 40,
   "metadata": {
    "ExecuteTime": {
     "end_time": "2018-05-19T05:54:13.094358Z",
     "start_time": "2018-05-19T05:54:13.065356Z"
    }
   },
   "outputs": [
    {
     "data": {
      "text/plain": [
       "\"SELECT company_name, chanle_id FROM company_base_business_merge_new_bak where chanle_id in ('63e6ab8d-2fd9-4398-83d5-44ae8add0b3b', '6befce1f-586f-4eb3-9737-64a56324a384', 'acc16ae7-6f98-421f-8336-91cc59d1b556', 'acc1cb36-8f8c-4159-8ee1-8bb945e618a0', '0efd611f-9330-4af8-87df-6a4ac0458b41')\""
      ]
     },
     "execution_count": 40,
     "metadata": {},
     "output_type": "execute_result"
    }
   ],
   "source": [
    "sql_1\n",
    "#table_name"
   ]
  },
  {
   "cell_type": "code",
   "execution_count": 39,
   "metadata": {
    "ExecuteTime": {
     "end_time": "2018-05-19T05:53:56.587875Z",
     "start_time": "2018-05-19T05:53:48.648296Z"
    }
   },
   "outputs": [
    {
     "name": "stdout",
     "output_type": "stream",
     "text": [
      "('徐州鼎恒新型材料有限公司', 'acc16ae7-6f98-421f-8336-91cc59d1b556')\n",
      "('孙凤', '0efd611f-9330-4af8-87df-6a4ac0458b41')\n",
      "('王新华', '63e6ab8d-2fd9-4398-83d5-44ae8add0b3b')\n"
     ]
    }
   ],
   "source": [
    "sql_1 = 'SELECT company_name, chanle_id FROM %s where chanle_id in (%s)' %(table_name, chanle_id_list[:5])\n",
    "sql_1 = sql_1.replace('[', '').replace(']', '')\n",
    "cursor.execute(sql_1)\n",
    "#cursor.description\n",
    "# cursor.fetchall()\n",
    "# sql_c\n",
    "for row in cursor:\n",
    "    print(row)"
   ]
  },
  {
   "cell_type": "code",
   "execution_count": 36,
   "metadata": {
    "ExecuteTime": {
     "end_time": "2018-05-19T05:53:00.858409Z",
     "start_time": "2018-05-19T05:53:00.836407Z"
    }
   },
   "outputs": [
    {
     "data": {
      "text/plain": [
       "['63e6ab8d-2fd9-4398-83d5-44ae8add0b3b',\n",
       " '6befce1f-586f-4eb3-9737-64a56324a384',\n",
       " 'acc16ae7-6f98-421f-8336-91cc59d1b556',\n",
       " 'acc1cb36-8f8c-4159-8ee1-8bb945e618a0',\n",
       " '0efd611f-9330-4af8-87df-6a4ac0458b41']"
      ]
     },
     "execution_count": 36,
     "metadata": {},
     "output_type": "execute_result"
    }
   ],
   "source": [
    "chanle_id_list[:5]"
   ]
  },
  {
   "cell_type": "code",
   "execution_count": 41,
   "metadata": {
    "ExecuteTime": {
     "end_time": "2018-05-19T05:55:21.945208Z",
     "start_time": "2018-05-19T05:55:08.166524Z"
    }
   },
   "outputs": [
    {
     "name": "stdout",
     "output_type": "stream",
     "text": [
      "--  第 1 次获取数据，开始...\n",
      "   execute_type execute_perform                             chanle_id  \\\n",
      "0           0.0           全部未履行  63e6ab8d-2fd9-4398-83d5-44ae8add0b3b   \n",
      "1           0.0           全部未履行  6befce1f-586f-4eb3-9737-64a56324a384   \n",
      "2           1.0           全部未履行  acc16ae7-6f98-421f-8336-91cc59d1b556   \n",
      "3           0.0           全部未履行  acc1cb36-8f8c-4159-8ee1-8bb945e618a0   \n",
      "4           0.0           全部未履行  0efd611f-9330-4af8-87df-6a4ac0458b41   \n",
      "\n",
      "   company_gather_time  company_name  \n",
      "0  2017-12-07 18:18:40           王新华  \n",
      "1  2018-01-17 02:13:42           NaN  \n",
      "2  2018-01-19 22:20:41  徐州鼎恒新型材料有限公司  \n",
      "3  2017-09-22 08:53:36           NaN  \n",
      "4  2017-09-15 19:42:30            孙凤  \n",
      "\n"
     ]
    },
    {
     "ename": "NameError",
     "evalue": "name 'df' is not defined",
     "output_type": "error",
     "traceback": [
      "\u001b[1;31m---------------------------------------------------------------------------\u001b[0m",
      "\u001b[1;31mNameError\u001b[0m                                 Traceback (most recent call last)",
      "\u001b[1;32m<ipython-input-41-9e1e55cc0a6e>\u001b[0m in \u001b[0;36m<module>\u001b[1;34m()\u001b[0m\n\u001b[0;32m     25\u001b[0m     \u001b[0mprint\u001b[0m\u001b[1;33m(\u001b[0m\u001b[1;33m)\u001b[0m\u001b[1;33m\u001b[0m\u001b[0m\n\u001b[0;32m     26\u001b[0m \u001b[1;33m\u001b[0m\u001b[0m\n\u001b[1;32m---> 27\u001b[1;33m     \u001b[0mdf\u001b[0m\u001b[1;33m.\u001b[0m\u001b[0mto_csv\u001b[0m \u001b[1;33m(\u001b[0m\u001b[0msave_file\u001b[0m\u001b[1;33m,\u001b[0m \u001b[0mencoding\u001b[0m\u001b[1;33m=\u001b[0m\u001b[1;34m'gbk'\u001b[0m\u001b[1;33m,\u001b[0m \u001b[0mheader\u001b[0m\u001b[1;33m=\u001b[0m\u001b[1;32mFalse\u001b[0m\u001b[1;33m,\u001b[0m \u001b[0mmode\u001b[0m\u001b[1;33m=\u001b[0m\u001b[1;34m'a'\u001b[0m\u001b[1;33m)\u001b[0m\u001b[1;33m\u001b[0m\u001b[0m\n\u001b[0m\u001b[0;32m     28\u001b[0m \u001b[1;33m\u001b[0m\u001b[0m\n",
      "\u001b[1;31mNameError\u001b[0m: name 'df' is not defined"
     ]
    }
   ],
   "source": [
    "fields = ['company_name', 'chanle_id']\n",
    "table_name = 'company_base_business_merge_new_bak'\n",
    "\n",
    "chunksize = 1000\n",
    "chunks = pd.read_csv(file_name,iterator = True)\n",
    "loop = 3\n",
    "\n",
    "save_file = os.path.join(data_folder, 'company_execute_persons_111.csv')\n",
    "for i in range(loop):\n",
    "    tmp_data = chunks.get_chunk(chunksize)\n",
    "    tmp_data = tmp_data.drop('company_name', axis = 1)\n",
    "\n",
    "    chanle_id_list = tmp_data['chanle_id'].tolist()\n",
    "    sql_c = 'SELECT company_name, chanle_id FROM %s where chanle_id in (%s)' %(table_name, chanle_id_list)\n",
    "    sql_c = sql_c.replace('[', '').replace(']', '')\n",
    "\n",
    "    cursor.execute(sql_c)\n",
    "    base_business = as_pandas(cursor)\n",
    "    base_business.columns = fields  \n",
    "    \n",
    "    company_execute_persons = pd.merge(tmp_data, base_business,\n",
    "                                      how = 'left', on = 'chanle_id')\n",
    "    print('--  第 %s 次获取数据，开始...'%(str(i + 1)))\n",
    "    print(company_execute_persons.head())\n",
    "    print()\n",
    "    \n",
    "    if i == 0:      \n",
    "        if os.path.exists(save_filename):\n",
    "            os.remove(save_filename)\n",
    "    company_execute_persons.to_csv (save_file, encoding='gbk', header=False, mode='a')\n",
    " "
   ]
  },
  {
   "cell_type": "code",
   "execution_count": 3,
   "metadata": {
    "ExecuteTime": {
     "end_time": "2018-05-19T04:10:50.631400Z",
     "start_time": "2018-05-19T04:10:50.611399Z"
    },
    "collapsed": true
   },
   "outputs": [],
   "source": [
    "chunks = pd.read_csv(file_name,iterator = True)\n",
    "chunk = chunks.get_chunk(5)"
   ]
  },
  {
   "cell_type": "code",
   "execution_count": 7,
   "metadata": {
    "ExecuteTime": {
     "end_time": "2018-05-19T04:11:54.500053Z",
     "start_time": "2018-05-19T04:11:54.416048Z"
    }
   },
   "outputs": [
    {
     "name": "stdout",
     "output_type": "stream",
     "text": [
      "Help on TextFileReader in module pandas.io.parsers object:\n",
      "\n",
      "class TextFileReader(pandas.io.common.BaseIterator)\n",
      " |  Passed dialect overrides any of the related parser options\n",
      " |  \n",
      " |  Method resolution order:\n",
      " |      TextFileReader\n",
      " |      pandas.io.common.BaseIterator\n",
      " |      builtins.object\n",
      " |  \n",
      " |  Methods defined here:\n",
      " |  \n",
      " |  __init__(self, f, engine=None, **kwds)\n",
      " |      Initialize self.  See help(type(self)) for accurate signature.\n",
      " |  \n",
      " |  __next__(self)\n",
      " |  \n",
      " |  close(self)\n",
      " |  \n",
      " |  get_chunk(self, size=None)\n",
      " |  \n",
      " |  read(self, nrows=None)\n",
      " |  \n",
      " |  ----------------------------------------------------------------------\n",
      " |  Methods inherited from pandas.io.common.BaseIterator:\n",
      " |  \n",
      " |  __iter__(self)\n",
      " |  \n",
      " |  ----------------------------------------------------------------------\n",
      " |  Data descriptors inherited from pandas.io.common.BaseIterator:\n",
      " |  \n",
      " |  __dict__\n",
      " |      dictionary for instance variables (if defined)\n",
      " |  \n",
      " |  __weakref__\n",
      " |      list of weak references to the object (if defined)\n",
      "\n"
     ]
    }
   ],
   "source": [
    "help(chunks)"
   ]
  },
  {
   "cell_type": "code",
   "execution_count": 5,
   "metadata": {
    "ExecuteTime": {
     "end_time": "2018-05-19T04:11:14.475764Z",
     "start_time": "2018-05-19T04:11:14.441762Z"
    }
   },
   "outputs": [
    {
     "data": {
      "text/html": [
       "<div>\n",
       "<style scoped>\n",
       "    .dataframe tbody tr th:only-of-type {\n",
       "        vertical-align: middle;\n",
       "    }\n",
       "\n",
       "    .dataframe tbody tr th {\n",
       "        vertical-align: top;\n",
       "    }\n",
       "\n",
       "    .dataframe thead th {\n",
       "        text-align: right;\n",
       "    }\n",
       "</style>\n",
       "<table border=\"1\" class=\"dataframe\">\n",
       "  <thead>\n",
       "    <tr style=\"text-align: right;\">\n",
       "      <th></th>\n",
       "      <th>execute_type</th>\n",
       "      <th>execute_perform</th>\n",
       "      <th>chanle_id</th>\n",
       "      <th>company_gather_time</th>\n",
       "      <th>company_name</th>\n",
       "    </tr>\n",
       "  </thead>\n",
       "  <tbody>\n",
       "    <tr>\n",
       "      <th>5</th>\n",
       "      <td>1.0</td>\n",
       "      <td>全部未履行</td>\n",
       "      <td>4ab5f7d6-b01a-483a-8815-94cbc86193d3</td>\n",
       "      <td>2017-11-23 20:32:40</td>\n",
       "      <td>淄博鼎泰建筑安装有限公司</td>\n",
       "    </tr>\n",
       "    <tr>\n",
       "      <th>6</th>\n",
       "      <td>1.0</td>\n",
       "      <td>全部未履行</td>\n",
       "      <td>10d61351-146d-400b-ad3a-d25d1604557f</td>\n",
       "      <td>2017-01-04 18:55:38</td>\n",
       "      <td>江西宏华矿业有限公司</td>\n",
       "    </tr>\n",
       "    <tr>\n",
       "      <th>7</th>\n",
       "      <td>0.0</td>\n",
       "      <td>全部未履行</td>\n",
       "      <td>db16ccf8-fd00-4c65-bc08-a38a45a844c1</td>\n",
       "      <td>2016-09-20 15:25:50</td>\n",
       "      <td>李汉忠</td>\n",
       "    </tr>\n",
       "    <tr>\n",
       "      <th>8</th>\n",
       "      <td>NaN</td>\n",
       "      <td>NaN</td>\n",
       "      <td>50d94d68-46c4-464a-ab45-6e26f7625992</td>\n",
       "      <td>2017-12-08 16:31:24</td>\n",
       "      <td>湖南长重机器股份有限公司</td>\n",
       "    </tr>\n",
       "    <tr>\n",
       "      <th>9</th>\n",
       "      <td>1.0</td>\n",
       "      <td>全部未履行</td>\n",
       "      <td>b78f4365-6182-48f8-8673-cec4dbd586ad</td>\n",
       "      <td>2017-01-02 00:25:54</td>\n",
       "      <td>洛阳银冶金属炉料有限公司</td>\n",
       "    </tr>\n",
       "  </tbody>\n",
       "</table>\n",
       "</div>"
      ],
      "text/plain": [
       "   execute_type execute_perform                             chanle_id  \\\n",
       "5           1.0           全部未履行  4ab5f7d6-b01a-483a-8815-94cbc86193d3   \n",
       "6           1.0           全部未履行  10d61351-146d-400b-ad3a-d25d1604557f   \n",
       "7           0.0           全部未履行  db16ccf8-fd00-4c65-bc08-a38a45a844c1   \n",
       "8           NaN             NaN  50d94d68-46c4-464a-ab45-6e26f7625992   \n",
       "9           1.0           全部未履行  b78f4365-6182-48f8-8673-cec4dbd586ad   \n",
       "\n",
       "   company_gather_time  company_name  \n",
       "5  2017-11-23 20:32:40  淄博鼎泰建筑安装有限公司  \n",
       "6  2017-01-04 18:55:38    江西宏华矿业有限公司  \n",
       "7  2016-09-20 15:25:50           李汉忠  \n",
       "8  2017-12-08 16:31:24  湖南长重机器股份有限公司  \n",
       "9  2017-01-02 00:25:54  洛阳银冶金属炉料有限公司  "
      ]
     },
     "execution_count": 5,
     "metadata": {},
     "output_type": "execute_result"
    }
   ],
   "source": [
    "chunks.get_chunk(5)"
   ]
  },
  {
   "cell_type": "code",
   "execution_count": 6,
   "metadata": {
    "ExecuteTime": {
     "end_time": "2018-05-19T04:11:19.414046Z",
     "start_time": "2018-05-19T04:11:19.382044Z"
    }
   },
   "outputs": [
    {
     "data": {
      "text/html": [
       "<div>\n",
       "<style scoped>\n",
       "    .dataframe tbody tr th:only-of-type {\n",
       "        vertical-align: middle;\n",
       "    }\n",
       "\n",
       "    .dataframe tbody tr th {\n",
       "        vertical-align: top;\n",
       "    }\n",
       "\n",
       "    .dataframe thead th {\n",
       "        text-align: right;\n",
       "    }\n",
       "</style>\n",
       "<table border=\"1\" class=\"dataframe\">\n",
       "  <thead>\n",
       "    <tr style=\"text-align: right;\">\n",
       "      <th></th>\n",
       "      <th>execute_type</th>\n",
       "      <th>execute_perform</th>\n",
       "      <th>chanle_id</th>\n",
       "      <th>company_gather_time</th>\n",
       "      <th>company_name</th>\n",
       "    </tr>\n",
       "  </thead>\n",
       "  <tbody>\n",
       "    <tr>\n",
       "      <th>10</th>\n",
       "      <td>0</td>\n",
       "      <td>全部未履行</td>\n",
       "      <td>408dfeb7-3410-438e-bafe-8db87b931fd9</td>\n",
       "      <td>2016-09-20 20:39:01</td>\n",
       "      <td>张杭生</td>\n",
       "    </tr>\n",
       "    <tr>\n",
       "      <th>11</th>\n",
       "      <td>0</td>\n",
       "      <td>全部未履行</td>\n",
       "      <td>693f3eb4-a6a8-45d3-b61a-7e339cf76b69</td>\n",
       "      <td>2016-09-20 18:25:28</td>\n",
       "      <td>冯佩</td>\n",
       "    </tr>\n",
       "    <tr>\n",
       "      <th>12</th>\n",
       "      <td>0</td>\n",
       "      <td>全部未履行</td>\n",
       "      <td>a564dbdd-e7c3-4a8c-9350-c123e799d369</td>\n",
       "      <td>2016-09-20 20:56:19</td>\n",
       "      <td>鄢剑文</td>\n",
       "    </tr>\n",
       "    <tr>\n",
       "      <th>13</th>\n",
       "      <td>1</td>\n",
       "      <td>全部未履行</td>\n",
       "      <td>ceb942ec-fc4b-4d5e-ac4c-8d274def4537</td>\n",
       "      <td>2017-09-21 11:55:46</td>\n",
       "      <td>山东宏阳矿业有限公司</td>\n",
       "    </tr>\n",
       "    <tr>\n",
       "      <th>14</th>\n",
       "      <td>0</td>\n",
       "      <td>全部未履行</td>\n",
       "      <td>80f4019d-a4f8-4803-9ae0-2629b190c1ca</td>\n",
       "      <td>2016-09-20 19:32:28</td>\n",
       "      <td>汤自花</td>\n",
       "    </tr>\n",
       "  </tbody>\n",
       "</table>\n",
       "</div>"
      ],
      "text/plain": [
       "    execute_type execute_perform                             chanle_id  \\\n",
       "10             0           全部未履行  408dfeb7-3410-438e-bafe-8db87b931fd9   \n",
       "11             0           全部未履行  693f3eb4-a6a8-45d3-b61a-7e339cf76b69   \n",
       "12             0           全部未履行  a564dbdd-e7c3-4a8c-9350-c123e799d369   \n",
       "13             1           全部未履行  ceb942ec-fc4b-4d5e-ac4c-8d274def4537   \n",
       "14             0           全部未履行  80f4019d-a4f8-4803-9ae0-2629b190c1ca   \n",
       "\n",
       "    company_gather_time company_name  \n",
       "10  2016-09-20 20:39:01          张杭生  \n",
       "11  2016-09-20 18:25:28           冯佩  \n",
       "12  2016-09-20 20:56:19          鄢剑文  \n",
       "13  2017-09-21 11:55:46   山东宏阳矿业有限公司  \n",
       "14  2016-09-20 19:32:28          汤自花  "
      ]
     },
     "execution_count": 6,
     "metadata": {},
     "output_type": "execute_result"
    }
   ],
   "source": [
    "chunks.get_chunk(5)"
   ]
  },
  {
   "cell_type": "code",
   "execution_count": null,
   "metadata": {
    "collapsed": true
   },
   "outputs": [],
   "source": []
  }
 ],
 "metadata": {
  "kernelspec": {
   "display_name": "Python 3",
   "language": "python",
   "name": "python3"
  },
  "language_info": {
   "codemirror_mode": {
    "name": "ipython",
    "version": 3
   },
   "file_extension": ".py",
   "mimetype": "text/x-python",
   "name": "python",
   "nbconvert_exporter": "python",
   "pygments_lexer": "ipython3",
   "version": "3.6.3"
  },
  "toc": {
   "nav_menu": {},
   "number_sections": true,
   "sideBar": true,
   "skip_h1_title": false,
   "title_cell": "Table of Contents",
   "title_sidebar": "Contents",
   "toc_cell": false,
   "toc_position": {},
   "toc_section_display": true,
   "toc_window_display": true
  },
  "varInspector": {
   "cols": {
    "lenName": 16,
    "lenType": 16,
    "lenVar": 40
   },
   "kernels_config": {
    "python": {
     "delete_cmd_postfix": "",
     "delete_cmd_prefix": "del ",
     "library": "var_list.py",
     "varRefreshCmd": "print(var_dic_list())"
    },
    "r": {
     "delete_cmd_postfix": ") ",
     "delete_cmd_prefix": "rm(",
     "library": "var_list.r",
     "varRefreshCmd": "cat(var_dic_list()) "
    }
   },
   "types_to_exclude": [
    "module",
    "function",
    "builtin_function_or_method",
    "instance",
    "_Feature"
   ],
   "window_display": false
  }
 },
 "nbformat": 4,
 "nbformat_minor": 2
}
