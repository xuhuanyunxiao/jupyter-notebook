{
 "cells": [
  {
   "cell_type": "markdown",
   "metadata": {},
   "source": [
    "- 中国人寿 相关性模型 1 预处理"
   ]
  },
  {
   "cell_type": "markdown",
   "metadata": {},
   "source": [
    "# 基本设置"
   ]
  },
  {
   "cell_type": "code",
   "execution_count": 1,
   "metadata": {
    "ExecuteTime": {
     "end_time": "2018-07-17T06:30:28.652636Z",
     "start_time": "2018-07-17T06:30:20.432023Z"
    }
   },
   "outputs": [
    {
     "name": "stderr",
     "output_type": "stream",
     "text": [
      "Building prefix dict from the default dictionary ...\n",
      "Dumping model to file cache C:\\Users\\ADMINI~1\\AppData\\Local\\Temp\\jieba.cache\n",
      "Loading model cost 1.057 seconds.\n",
      "Prefix dict has been built succesfully.\n"
     ]
    }
   ],
   "source": [
    "import jieba\n",
    "import sys\n",
    "import re\n",
    "import time\n",
    "import string\n",
    "\n",
    "%matplotlib inline\n",
    "import numpy as np\n",
    "import pandas as pd\n",
    "import pre_cor\n",
    "import os\n",
    "from sqlalchemy import create_engine\n",
    "from pandas.io import sql\n",
    "\n",
    "import warnings\n",
    "warnings.filterwarnings('ignore')"
   ]
  },
  {
   "cell_type": "markdown",
   "metadata": {},
   "source": [
    "## 一些函数"
   ]
  },
  {
   "cell_type": "code",
   "execution_count": 2,
   "metadata": {
    "ExecuteTime": {
     "end_time": "2018-07-17T06:30:28.674637Z",
     "start_time": "2018-07-17T06:30:28.656636Z"
    },
    "collapsed": true
   },
   "outputs": [],
   "source": [
    "def get_txt_encode(file_path):\n",
    "    '''\n",
    "    Function:\n",
    "        获取txt文档的编码格式\n",
    "    Arguments:\n",
    "        file_path -> string -- 文档所在路径\n",
    "    Return:\n",
    "        encode -> string -- txt文档的编码格式\n",
    "    '''\n",
    "    decode_set = ['utf-8','gb18030','ISO-8859-2','gb2312','gbk', 'ANSI'] # 编码集\n",
    "    encode = 0\n",
    "    for k in decode_set:\n",
    "        try :\n",
    "            file = open(file_path, 'r', encoding = k).read()\n",
    "            # print('\\n\\t读取成功： %s \\n\\t编码方式为： %s' %(file_path, k))\n",
    "            encode = k\n",
    "            break\n",
    "        except :\n",
    "            continue\n",
    "    if encode:\n",
    "        return encode\n",
    "    else :\n",
    "        return 'No encode'"
   ]
  },
  {
   "cell_type": "code",
   "execution_count": 3,
   "metadata": {
    "ExecuteTime": {
     "end_time": "2018-07-17T06:30:28.800644Z",
     "start_time": "2018-07-17T06:30:28.686638Z"
    },
    "collapsed": true
   },
   "outputs": [],
   "source": [
    "def combined_data(data_folder, save_filename):\n",
    "    '''\n",
    "    保监会\n",
    "        txt 文本：文件名（包含标题）\n",
    "                  正  文（包含标题）\n",
    "    '''\n",
    "    file_list = os.listdir(data_folder)\n",
    "    combined_data = []\n",
    "    for file in file_list:\n",
    "        tmp = os.getcwd() + '\\\\' + data_folder + '\\\\' + file\n",
    "        encoding = get_txt_encode(tmp)\n",
    "        f = open(tmp, \"r+\", encoding = encoding)\n",
    "        ff = f.readlines()\n",
    "        title = ff[0]  # 提取标题\n",
    "        lines = ''\n",
    "        for index, line in enumerate(ff):\n",
    "            if index != 0:\n",
    "                lines += line.strip()\n",
    "        f.close()\n",
    "        combined_data.append([title, lines])\n",
    "        \n",
    "    combined_data = pd.DataFrame(combined_data, columns = ['title', 'content'])\n",
    "    combined_data.to_excel(save_filename)"
   ]
  },
  {
   "cell_type": "code",
   "execution_count": 4,
   "metadata": {
    "ExecuteTime": {
     "end_time": "2018-07-17T06:30:29.115662Z",
     "start_time": "2018-07-17T06:30:28.804644Z"
    },
    "collapsed": true
   },
   "outputs": [],
   "source": [
    "def set_ch():\n",
    "    '''\n",
    "    功能：设定绘图时显示中文\n",
    "    '''\t\n",
    "    from pylab import mpl\n",
    "    mpl.rcParams['font.sans-serif'] = ['FangSong'] # 指定默认字体\n",
    "    mpl.rcParams['axes.unicode_minus'] = False   # 解决保存图像是负号'-'显示为方块的问题\n",
    "set_ch()"
   ]
  },
  {
   "cell_type": "markdown",
   "metadata": {},
   "source": [
    "# 导入数据"
   ]
  },
  {
   "cell_type": "code",
   "execution_count": 5,
   "metadata": {
    "ExecuteTime": {
     "end_time": "2018-07-17T06:30:29.149664Z",
     "start_time": "2018-07-17T06:30:29.120662Z"
    },
    "collapsed": true
   },
   "outputs": [],
   "source": [
    "folder = '20180717' # 数据文件夹\n",
    "error_file_list = ['20180624-20180628_保监会_相关性模型_误判_交集数据重筛后.xlsx',]"
   ]
  },
  {
   "cell_type": "markdown",
   "metadata": {},
   "source": [
    "## 中国人寿相关"
   ]
  },
  {
   "cell_type": "code",
   "execution_count": 10,
   "metadata": {
    "ExecuteTime": {
     "end_time": "2018-07-17T06:32:10.846824Z",
     "start_time": "2018-07-17T06:32:09.820377Z"
    }
   },
   "outputs": [
    {
     "name": "stdout",
     "output_type": "stream",
     "text": [
      "20180717/20180713_中国人寿_相关数据.xlsx\n",
      "(3001, 7)\n"
     ]
    },
    {
     "data": {
      "text/html": [
       "<div>\n",
       "<style scoped>\n",
       "    .dataframe tbody tr th:only-of-type {\n",
       "        vertical-align: middle;\n",
       "    }\n",
       "\n",
       "    .dataframe tbody tr th {\n",
       "        vertical-align: top;\n",
       "    }\n",
       "\n",
       "    .dataframe thead th {\n",
       "        text-align: right;\n",
       "    }\n",
       "</style>\n",
       "<table border=\"1\" class=\"dataframe\">\n",
       "  <thead>\n",
       "    <tr style=\"text-align: right;\">\n",
       "      <th></th>\n",
       "      <th>id</th>\n",
       "      <th>site_name</th>\n",
       "      <th>author</th>\n",
       "      <th>publishtime</th>\n",
       "      <th>group_id</th>\n",
       "      <th>title</th>\n",
       "      <th>content</th>\n",
       "    </tr>\n",
       "  </thead>\n",
       "  <tbody>\n",
       "    <tr>\n",
       "      <th>0</th>\n",
       "      <td>47366975</td>\n",
       "      <td>凤凰新闻</td>\n",
       "      <td>NaN</td>\n",
       "      <td>2018-06-28 10:23:00</td>\n",
       "      <td>13</td>\n",
       "      <td>做强保险主业 做好社会事业</td>\n",
       "      <td>阳光龙泉远程问诊医务站首次开诊。   资料图片   经过近13年探索，阳光保险集团形成了一套...</td>\n",
       "    </tr>\n",
       "    <tr>\n",
       "      <th>1</th>\n",
       "      <td>49748372</td>\n",
       "      <td>微信</td>\n",
       "      <td>NaN</td>\n",
       "      <td>2018-07-04 19:38:18</td>\n",
       "      <td>11</td>\n",
       "      <td>做大金融保险产业  做优文化创意产业</td>\n",
       "      <td>作为金融行业的重要组成部分，我国保险业的发展逐渐趋于成熟和完善。互联网技术在金融行业催生了广...</td>\n",
       "    </tr>\n",
       "    <tr>\n",
       "      <th>2</th>\n",
       "      <td>51184741</td>\n",
       "      <td>微博</td>\n",
       "      <td>蓉Bob儿</td>\n",
       "      <td>2018-06-14 05:31:34</td>\n",
       "      <td>4</td>\n",
       "      <td>昨晚在妈妈家住，爸爸值班，妈妈头疼我去帮她买头疼药，妈妈这隔三差五的头疼可咋办啊[费解]赵先...</td>\n",
       "      <td>昨晚在妈妈家住，爸爸值班，妈妈头疼我去帮她买头疼药，妈妈这隔三差五的头疼可咋办啊[费解]赵先...</td>\n",
       "    </tr>\n",
       "    <tr>\n",
       "      <th>3</th>\n",
       "      <td>51231649</td>\n",
       "      <td>微博</td>\n",
       "      <td>爱签单保险课堂</td>\n",
       "      <td>2018-06-08 16:10:00</td>\n",
       "      <td>4</td>\n",
       "      <td>最新的寿险公司保费收入排名，看看你买的保险排第几？@中国人寿 @中国平安 @中国太平洋保险 ...</td>\n",
       "      <td>最新的寿险公司保费收入排名，看看你买的保险排第几？@中国人寿 @中国平安 @中国太平洋保险 ...</td>\n",
       "    </tr>\n",
       "    <tr>\n",
       "      <th>4</th>\n",
       "      <td>49657930</td>\n",
       "      <td>搜狐新闻</td>\n",
       "      <td>NaN</td>\n",
       "      <td>2018-07-04 11:42:00</td>\n",
       "      <td>13</td>\n",
       "      <td>最出人意料的世界杯大赢家竟然是保险业</td>\n",
       "      <td>世界杯如火如荼地在绿茵场进行，看各国球员在场上厮杀，踢着踢着球就成近身肉搏抢球，有时...</td>\n",
       "    </tr>\n",
       "  </tbody>\n",
       "</table>\n",
       "</div>"
      ],
      "text/plain": [
       "         id site_name   author         publishtime  group_id  \\\n",
       "0  47366975      凤凰新闻      NaN 2018-06-28 10:23:00        13   \n",
       "1  49748372        微信      NaN 2018-07-04 19:38:18        11   \n",
       "2  51184741        微博    蓉Bob儿 2018-06-14 05:31:34         4   \n",
       "3  51231649        微博  爱签单保险课堂 2018-06-08 16:10:00         4   \n",
       "4  49657930      搜狐新闻      NaN 2018-07-04 11:42:00        13   \n",
       "\n",
       "                                               title  \\\n",
       "0                                      做强保险主业 做好社会事业   \n",
       "1                                 做大金融保险产业  做优文化创意产业   \n",
       "2  昨晚在妈妈家住，爸爸值班，妈妈头疼我去帮她买头疼药，妈妈这隔三差五的头疼可咋办啊[费解]赵先...   \n",
       "3  最新的寿险公司保费收入排名，看看你买的保险排第几？@中国人寿 @中国平安 @中国太平洋保险 ...   \n",
       "4                                 最出人意料的世界杯大赢家竟然是保险业   \n",
       "\n",
       "                                             content  \n",
       "0  阳光龙泉远程问诊医务站首次开诊。   资料图片   经过近13年探索，阳光保险集团形成了一套...  \n",
       "1  作为金融行业的重要组成部分，我国保险业的发展逐渐趋于成熟和完善。互联网技术在金融行业催生了广...  \n",
       "2  昨晚在妈妈家住，爸爸值班，妈妈头疼我去帮她买头疼药，妈妈这隔三差五的头疼可咋办啊[费解]赵先...  \n",
       "3  最新的寿险公司保费收入排名，看看你买的保险排第几？@中国人寿 @中国平安 @中国太平洋保险 ...  \n",
       "4  　　  世界杯如火如荼地在绿茵场进行，看各国球员在场上厮杀，踢着踢着球就成近身肉搏抢球，有时...  "
      ]
     },
     "execution_count": 10,
     "metadata": {},
     "output_type": "execute_result"
    }
   ],
   "source": [
    "cor_data_raw = pd.DataFrame()\n",
    "\n",
    "file_name = '{0}/20180713_中国人寿_相关数据.xlsx'.format(folder)\n",
    "print(file_name)\n",
    "cor_1 = pd.read_excel('data/%s'%file_name)\n",
    "print(cor_1.shape)\n",
    "cor_1.head()"
   ]
  },
  {
   "cell_type": "code",
   "execution_count": 6,
   "metadata": {
    "ExecuteTime": {
     "end_time": "2018-07-17T06:31:06.334148Z",
     "start_time": "2018-07-17T06:31:06.321147Z"
    }
   },
   "outputs": [],
   "source": [
    "# cor_2 = pd.DataFrame()\n",
    "# for file_name in error_file_list:\n",
    "#     cor_tmp = pd.read_excel('data/{0}/{1}'.format(folder, file_name), '算法-不相关')\n",
    "#     cor_tmp = cor_tmp[['title', 'content']]\n",
    "#     print('-------- %s'%file_name)\n",
    "#     print(cor_tmp.shape)\n",
    "    \n",
    "#     cor_2 = pd.concat([cor_2, cor_tmp], axis = 0)\n",
    "\n",
    "# print(cor_2.shape)\n",
    "# cor_2.head()"
   ]
  },
  {
   "cell_type": "code",
   "execution_count": 7,
   "metadata": {
    "ExecuteTime": {
     "end_time": "2018-07-17T06:31:12.500867Z",
     "start_time": "2018-07-17T06:31:12.496867Z"
    }
   },
   "outputs": [],
   "source": [
    "# file_name = '{0}/保监会监管数据.xlsx'.format(folder)\n",
    "# print(file_name)\n",
    "# cor_3 = pd.read_excel('data/%s'%file_name)\n",
    "# #cor_5 = cor_5[['title', 'center']]\n",
    "# print(cor_3.shape)\n",
    "# cor_3.columns = ['title', 'content']\n",
    "# print('去重前：', cor_3.shape)\n",
    "# cor_3 = cor_3.drop_duplicates( subset = 'title')\n",
    "# print('去重后：', cor_3.shape)\n",
    "# cor_3.head()"
   ]
  },
  {
   "cell_type": "code",
   "execution_count": 11,
   "metadata": {
    "ExecuteTime": {
     "end_time": "2018-07-17T06:32:22.916837Z",
     "start_time": "2018-07-17T06:32:22.843833Z"
    }
   },
   "outputs": [
    {
     "name": "stdout",
     "output_type": "stream",
     "text": [
      "去重前： (3001, 7)\n",
      "去重后： (2992, 7)\n"
     ]
    },
    {
     "data": {
      "text/html": [
       "<div>\n",
       "<style scoped>\n",
       "    .dataframe tbody tr th:only-of-type {\n",
       "        vertical-align: middle;\n",
       "    }\n",
       "\n",
       "    .dataframe tbody tr th {\n",
       "        vertical-align: top;\n",
       "    }\n",
       "\n",
       "    .dataframe thead th {\n",
       "        text-align: right;\n",
       "    }\n",
       "</style>\n",
       "<table border=\"1\" class=\"dataframe\">\n",
       "  <thead>\n",
       "    <tr style=\"text-align: right;\">\n",
       "      <th></th>\n",
       "      <th>id</th>\n",
       "      <th>site_name</th>\n",
       "      <th>author</th>\n",
       "      <th>publishtime</th>\n",
       "      <th>group_id</th>\n",
       "      <th>title</th>\n",
       "      <th>content</th>\n",
       "    </tr>\n",
       "  </thead>\n",
       "  <tbody>\n",
       "    <tr>\n",
       "      <th>0</th>\n",
       "      <td>47366975</td>\n",
       "      <td>凤凰新闻</td>\n",
       "      <td>NaN</td>\n",
       "      <td>2018-06-28 10:23:00</td>\n",
       "      <td>13</td>\n",
       "      <td>做强保险主业 做好社会事业</td>\n",
       "      <td>阳光龙泉远程问诊医务站首次开诊。   资料图片   经过近13年探索，阳光保险集团形成了一套...</td>\n",
       "    </tr>\n",
       "    <tr>\n",
       "      <th>1</th>\n",
       "      <td>49748372</td>\n",
       "      <td>微信</td>\n",
       "      <td>NaN</td>\n",
       "      <td>2018-07-04 19:38:18</td>\n",
       "      <td>11</td>\n",
       "      <td>做大金融保险产业  做优文化创意产业</td>\n",
       "      <td>作为金融行业的重要组成部分，我国保险业的发展逐渐趋于成熟和完善。互联网技术在金融行业催生了广...</td>\n",
       "    </tr>\n",
       "    <tr>\n",
       "      <th>2</th>\n",
       "      <td>51184741</td>\n",
       "      <td>微博</td>\n",
       "      <td>蓉Bob儿</td>\n",
       "      <td>2018-06-14 05:31:34</td>\n",
       "      <td>4</td>\n",
       "      <td>昨晚在妈妈家住，爸爸值班，妈妈头疼我去帮她买头疼药，妈妈这隔三差五的头疼可咋办啊[费解]赵先...</td>\n",
       "      <td>昨晚在妈妈家住，爸爸值班，妈妈头疼我去帮她买头疼药，妈妈这隔三差五的头疼可咋办啊[费解]赵先...</td>\n",
       "    </tr>\n",
       "    <tr>\n",
       "      <th>3</th>\n",
       "      <td>51231649</td>\n",
       "      <td>微博</td>\n",
       "      <td>爱签单保险课堂</td>\n",
       "      <td>2018-06-08 16:10:00</td>\n",
       "      <td>4</td>\n",
       "      <td>最新的寿险公司保费收入排名，看看你买的保险排第几？@中国人寿 @中国平安 @中国太平洋保险 ...</td>\n",
       "      <td>最新的寿险公司保费收入排名，看看你买的保险排第几？@中国人寿 @中国平安 @中国太平洋保险 ...</td>\n",
       "    </tr>\n",
       "    <tr>\n",
       "      <th>4</th>\n",
       "      <td>49657930</td>\n",
       "      <td>搜狐新闻</td>\n",
       "      <td>NaN</td>\n",
       "      <td>2018-07-04 11:42:00</td>\n",
       "      <td>13</td>\n",
       "      <td>最出人意料的世界杯大赢家竟然是保险业</td>\n",
       "      <td>世界杯如火如荼地在绿茵场进行，看各国球员在场上厮杀，踢着踢着球就成近身肉搏抢球，有时...</td>\n",
       "    </tr>\n",
       "  </tbody>\n",
       "</table>\n",
       "</div>"
      ],
      "text/plain": [
       "         id site_name   author         publishtime  group_id  \\\n",
       "0  47366975      凤凰新闻      NaN 2018-06-28 10:23:00        13   \n",
       "1  49748372        微信      NaN 2018-07-04 19:38:18        11   \n",
       "2  51184741        微博    蓉Bob儿 2018-06-14 05:31:34         4   \n",
       "3  51231649        微博  爱签单保险课堂 2018-06-08 16:10:00         4   \n",
       "4  49657930      搜狐新闻      NaN 2018-07-04 11:42:00        13   \n",
       "\n",
       "                                               title  \\\n",
       "0                                      做强保险主业 做好社会事业   \n",
       "1                                 做大金融保险产业  做优文化创意产业   \n",
       "2  昨晚在妈妈家住，爸爸值班，妈妈头疼我去帮她买头疼药，妈妈这隔三差五的头疼可咋办啊[费解]赵先...   \n",
       "3  最新的寿险公司保费收入排名，看看你买的保险排第几？@中国人寿 @中国平安 @中国太平洋保险 ...   \n",
       "4                                 最出人意料的世界杯大赢家竟然是保险业   \n",
       "\n",
       "                                             content  \n",
       "0  阳光龙泉远程问诊医务站首次开诊。   资料图片   经过近13年探索，阳光保险集团形成了一套...  \n",
       "1  作为金融行业的重要组成部分，我国保险业的发展逐渐趋于成熟和完善。互联网技术在金融行业催生了广...  \n",
       "2  昨晚在妈妈家住，爸爸值班，妈妈头疼我去帮她买头疼药，妈妈这隔三差五的头疼可咋办啊[费解]赵先...  \n",
       "3  最新的寿险公司保费收入排名，看看你买的保险排第几？@中国人寿 @中国平安 @中国太平洋保险 ...  \n",
       "4  　　  世界杯如火如荼地在绿茵场进行，看各国球员在场上厮杀，踢着踢着球就成近身肉搏抢球，有时...  "
      ]
     },
     "execution_count": 11,
     "metadata": {},
     "output_type": "execute_result"
    }
   ],
   "source": [
    "# tmp_data = pd.concat([cor_1, cor_2], axis = 0)\n",
    "# cor_data_raw = pd.concat([tmp_data, cor_3], axis = 0)\n",
    "cor_data_raw = cor_1\n",
    "print('去重前：', cor_data_raw.shape)\n",
    "cor_data_raw = cor_data_raw.drop_duplicates( subset = 'title')\n",
    "print('去重后：', cor_data_raw.shape)\n",
    "cor_data_raw.head()"
   ]
  },
  {
   "cell_type": "markdown",
   "metadata": {},
   "source": [
    "## 中国人寿不相关"
   ]
  },
  {
   "cell_type": "code",
   "execution_count": 12,
   "metadata": {
    "ExecuteTime": {
     "end_time": "2018-07-17T06:32:41.475349Z",
     "start_time": "2018-07-17T06:32:40.173482Z"
    }
   },
   "outputs": [
    {
     "name": "stdout",
     "output_type": "stream",
     "text": [
      "20180717/20180713_中国人寿_不相关数据.xlsx\n",
      "(3400, 7)\n"
     ]
    },
    {
     "data": {
      "text/html": [
       "<div>\n",
       "<style scoped>\n",
       "    .dataframe tbody tr th:only-of-type {\n",
       "        vertical-align: middle;\n",
       "    }\n",
       "\n",
       "    .dataframe tbody tr th {\n",
       "        vertical-align: top;\n",
       "    }\n",
       "\n",
       "    .dataframe thead th {\n",
       "        text-align: right;\n",
       "    }\n",
       "</style>\n",
       "<table border=\"1\" class=\"dataframe\">\n",
       "  <thead>\n",
       "    <tr style=\"text-align: right;\">\n",
       "      <th></th>\n",
       "      <th>id</th>\n",
       "      <th>site_name</th>\n",
       "      <th>author</th>\n",
       "      <th>publishtime</th>\n",
       "      <th>group_id</th>\n",
       "      <th>title</th>\n",
       "      <th>content</th>\n",
       "    </tr>\n",
       "  </thead>\n",
       "  <tbody>\n",
       "    <tr>\n",
       "      <th>0</th>\n",
       "      <td>49406085</td>\n",
       "      <td>微信</td>\n",
       "      <td>NaN</td>\n",
       "      <td>2018-07-03 05:30:32</td>\n",
       "      <td>11</td>\n",
       "      <td>最新招聘|柘荣找工作，看这里！</td>\n",
       "      <td>如果你想找工作 你想招聘 你想发布广告 你想了解更多的便民消息 欢迎添加直击柘荣微信号“is...</td>\n",
       "    </tr>\n",
       "    <tr>\n",
       "      <th>1</th>\n",
       "      <td>48541396</td>\n",
       "      <td>微信</td>\n",
       "      <td>NaN</td>\n",
       "      <td>2018-06-30 19:53:49</td>\n",
       "      <td>11</td>\n",
       "      <td>最新招聘！嘉峪关这些好岗位等你来，有你需要的吗？</td>\n",
       "      <td>中核和诚实业有限公司 招聘人数：20 招聘岗位：厨师、服务员、后厨配菜、保洁、面点师、取样分...</td>\n",
       "    </tr>\n",
       "    <tr>\n",
       "      <th>2</th>\n",
       "      <td>48177425</td>\n",
       "      <td>微信</td>\n",
       "      <td>NaN</td>\n",
       "      <td>2018-06-29 19:37:52</td>\n",
       "      <td>11</td>\n",
       "      <td>最新区块链岗位招聘丨广州日耀，万物链ITC等</td>\n",
       "      <td>链聘 区块链垂直领域招聘社区 这里是链聘，区块链垂直领域招聘社区！ 在这里，我们为优质的区块...</td>\n",
       "    </tr>\n",
       "    <tr>\n",
       "      <th>3</th>\n",
       "      <td>47981834</td>\n",
       "      <td>搜狐新闻</td>\n",
       "      <td>NaN</td>\n",
       "      <td>2018-06-29 22:41:00</td>\n",
       "      <td>13</td>\n",
       "      <td>周末找工作，就上体育馆找海南人才招聘网，企业多多岗位多多，职等你来！</td>\n",
       "      <td>\\n    6月30日企业及岗位表  \\n    \\n    \\n    单位名称 ...</td>\n",
       "    </tr>\n",
       "    <tr>\n",
       "      <th>4</th>\n",
       "      <td>48335438</td>\n",
       "      <td>微信</td>\n",
       "      <td>NaN</td>\n",
       "      <td>2018-06-30 17:19:01</td>\n",
       "      <td>11</td>\n",
       "      <td>重要提醒|中国人保甘肃分公司招聘报名今天截止！</td>\n",
       "      <td>人保甘肃 中国人民财产保险股份有限公司甘肃分公司招聘简历投递起止时间为：2018年6月1日至...</td>\n",
       "    </tr>\n",
       "  </tbody>\n",
       "</table>\n",
       "</div>"
      ],
      "text/plain": [
       "         id site_name author         publishtime  group_id  \\\n",
       "0  49406085        微信    NaN 2018-07-03 05:30:32        11   \n",
       "1  48541396        微信    NaN 2018-06-30 19:53:49        11   \n",
       "2  48177425        微信    NaN 2018-06-29 19:37:52        11   \n",
       "3  47981834      搜狐新闻    NaN 2018-06-29 22:41:00        13   \n",
       "4  48335438        微信    NaN 2018-06-30 17:19:01        11   \n",
       "\n",
       "                                title  \\\n",
       "0                     最新招聘|柘荣找工作，看这里！   \n",
       "1            最新招聘！嘉峪关这些好岗位等你来，有你需要的吗？   \n",
       "2              最新区块链岗位招聘丨广州日耀，万物链ITC等   \n",
       "3  周末找工作，就上体育馆找海南人才招聘网，企业多多岗位多多，职等你来！   \n",
       "4             重要提醒|中国人保甘肃分公司招聘报名今天截止！   \n",
       "\n",
       "                                             content  \n",
       "0  如果你想找工作 你想招聘 你想发布广告 你想了解更多的便民消息 欢迎添加直击柘荣微信号“is...  \n",
       "1  中核和诚实业有限公司 招聘人数：20 招聘岗位：厨师、服务员、后厨配菜、保洁、面点师、取样分...  \n",
       "2  链聘 区块链垂直领域招聘社区 这里是链聘，区块链垂直领域招聘社区！ 在这里，我们为优质的区块...  \n",
       "3  　　  \\n    6月30日企业及岗位表  \\n    \\n    \\n    单位名称 ...  \n",
       "4  人保甘肃 中国人民财产保险股份有限公司甘肃分公司招聘简历投递起止时间为：2018年6月1日至...  "
      ]
     },
     "execution_count": 12,
     "metadata": {},
     "output_type": "execute_result"
    }
   ],
   "source": [
    "uncor_data_raw = pd.DataFrame()\n",
    "\n",
    "file_name = '{0}/20180713_中国人寿_不相关数据.xlsx'.format(folder)\n",
    "print(file_name)\n",
    "uncor_1 = pd.read_excel('data/%s'%file_name)\n",
    "# uncor_1 = uncor_1[['title', 'content']]\n",
    "print(uncor_1.shape)\n",
    "uncor_1.head()"
   ]
  },
  {
   "cell_type": "code",
   "execution_count": 13,
   "metadata": {
    "ExecuteTime": {
     "end_time": "2018-07-17T06:32:49.287141Z",
     "start_time": "2018-07-17T06:32:49.275140Z"
    }
   },
   "outputs": [],
   "source": [
    "# file_name = '{0}/保监会交集数据.xlsx'.format(folder)\n",
    "# print(file_name)\n",
    "# uncor_2 = pd.read_excel('data/%s'%file_name)\n",
    "# # uncor_2 = uncor_2[['title', 'content']]\n",
    "# print(uncor_2.shape)\n",
    "# uncor_2.head()"
   ]
  },
  {
   "cell_type": "code",
   "execution_count": 14,
   "metadata": {
    "ExecuteTime": {
     "end_time": "2018-07-17T06:32:54.970026Z",
     "start_time": "2018-07-17T06:32:54.956025Z"
    }
   },
   "outputs": [],
   "source": [
    "# uncor_3 = pd.DataFrame()\n",
    "# for file_name in error_file_list:\n",
    "#     print('-------- %s'%file_name)\n",
    "#     uncor_tmp_1 = pd.read_excel('data/{0}/{1}'.format(folder, file_name), '算法-相关')\n",
    "#     print('算法-相关-误判：', uncor_tmp_1.shape)\n",
    "#     uncor_tmp_2 = pd.read_excel('data/{0}/{1}'.format(folder, file_name), '交集')    \n",
    "#     print('算法-相关-交集：', uncor_tmp_2.shape)\n",
    "#     uncor_tmp = pd.concat([uncor_tmp_1, uncor_tmp_2], axis = 0)\n",
    "#     uncor_tmp = uncor_tmp[['title', 'content']]\n",
    "#     uncor_3 = pd.concat([uncor_3, uncor_tmp], axis = 0)\n",
    "\n",
    "# print('--------')\n",
    "# print(uncor_3.shape)\n",
    "# uncor_3.head()"
   ]
  },
  {
   "cell_type": "code",
   "execution_count": 15,
   "metadata": {
    "ExecuteTime": {
     "end_time": "2018-07-17T06:33:10.202177Z",
     "start_time": "2018-07-17T06:33:10.164175Z"
    }
   },
   "outputs": [
    {
     "name": "stdout",
     "output_type": "stream",
     "text": [
      "去重前： (3400, 7)\n",
      "去重后： (3362, 7)\n"
     ]
    },
    {
     "data": {
      "text/html": [
       "<div>\n",
       "<style scoped>\n",
       "    .dataframe tbody tr th:only-of-type {\n",
       "        vertical-align: middle;\n",
       "    }\n",
       "\n",
       "    .dataframe tbody tr th {\n",
       "        vertical-align: top;\n",
       "    }\n",
       "\n",
       "    .dataframe thead th {\n",
       "        text-align: right;\n",
       "    }\n",
       "</style>\n",
       "<table border=\"1\" class=\"dataframe\">\n",
       "  <thead>\n",
       "    <tr style=\"text-align: right;\">\n",
       "      <th></th>\n",
       "      <th>id</th>\n",
       "      <th>site_name</th>\n",
       "      <th>author</th>\n",
       "      <th>publishtime</th>\n",
       "      <th>group_id</th>\n",
       "      <th>title</th>\n",
       "      <th>content</th>\n",
       "    </tr>\n",
       "  </thead>\n",
       "  <tbody>\n",
       "    <tr>\n",
       "      <th>0</th>\n",
       "      <td>49406085</td>\n",
       "      <td>微信</td>\n",
       "      <td>NaN</td>\n",
       "      <td>2018-07-03 05:30:32</td>\n",
       "      <td>11</td>\n",
       "      <td>最新招聘|柘荣找工作，看这里！</td>\n",
       "      <td>如果你想找工作 你想招聘 你想发布广告 你想了解更多的便民消息 欢迎添加直击柘荣微信号“is...</td>\n",
       "    </tr>\n",
       "    <tr>\n",
       "      <th>1</th>\n",
       "      <td>48541396</td>\n",
       "      <td>微信</td>\n",
       "      <td>NaN</td>\n",
       "      <td>2018-06-30 19:53:49</td>\n",
       "      <td>11</td>\n",
       "      <td>最新招聘！嘉峪关这些好岗位等你来，有你需要的吗？</td>\n",
       "      <td>中核和诚实业有限公司 招聘人数：20 招聘岗位：厨师、服务员、后厨配菜、保洁、面点师、取样分...</td>\n",
       "    </tr>\n",
       "    <tr>\n",
       "      <th>2</th>\n",
       "      <td>48177425</td>\n",
       "      <td>微信</td>\n",
       "      <td>NaN</td>\n",
       "      <td>2018-06-29 19:37:52</td>\n",
       "      <td>11</td>\n",
       "      <td>最新区块链岗位招聘丨广州日耀，万物链ITC等</td>\n",
       "      <td>链聘 区块链垂直领域招聘社区 这里是链聘，区块链垂直领域招聘社区！ 在这里，我们为优质的区块...</td>\n",
       "    </tr>\n",
       "    <tr>\n",
       "      <th>3</th>\n",
       "      <td>47981834</td>\n",
       "      <td>搜狐新闻</td>\n",
       "      <td>NaN</td>\n",
       "      <td>2018-06-29 22:41:00</td>\n",
       "      <td>13</td>\n",
       "      <td>周末找工作，就上体育馆找海南人才招聘网，企业多多岗位多多，职等你来！</td>\n",
       "      <td>\\n    6月30日企业及岗位表  \\n    \\n    \\n    单位名称 ...</td>\n",
       "    </tr>\n",
       "    <tr>\n",
       "      <th>4</th>\n",
       "      <td>48335438</td>\n",
       "      <td>微信</td>\n",
       "      <td>NaN</td>\n",
       "      <td>2018-06-30 17:19:01</td>\n",
       "      <td>11</td>\n",
       "      <td>重要提醒|中国人保甘肃分公司招聘报名今天截止！</td>\n",
       "      <td>人保甘肃 中国人民财产保险股份有限公司甘肃分公司招聘简历投递起止时间为：2018年6月1日至...</td>\n",
       "    </tr>\n",
       "  </tbody>\n",
       "</table>\n",
       "</div>"
      ],
      "text/plain": [
       "         id site_name author         publishtime  group_id  \\\n",
       "0  49406085        微信    NaN 2018-07-03 05:30:32        11   \n",
       "1  48541396        微信    NaN 2018-06-30 19:53:49        11   \n",
       "2  48177425        微信    NaN 2018-06-29 19:37:52        11   \n",
       "3  47981834      搜狐新闻    NaN 2018-06-29 22:41:00        13   \n",
       "4  48335438        微信    NaN 2018-06-30 17:19:01        11   \n",
       "\n",
       "                                title  \\\n",
       "0                     最新招聘|柘荣找工作，看这里！   \n",
       "1            最新招聘！嘉峪关这些好岗位等你来，有你需要的吗？   \n",
       "2              最新区块链岗位招聘丨广州日耀，万物链ITC等   \n",
       "3  周末找工作，就上体育馆找海南人才招聘网，企业多多岗位多多，职等你来！   \n",
       "4             重要提醒|中国人保甘肃分公司招聘报名今天截止！   \n",
       "\n",
       "                                             content  \n",
       "0  如果你想找工作 你想招聘 你想发布广告 你想了解更多的便民消息 欢迎添加直击柘荣微信号“is...  \n",
       "1  中核和诚实业有限公司 招聘人数：20 招聘岗位：厨师、服务员、后厨配菜、保洁、面点师、取样分...  \n",
       "2  链聘 区块链垂直领域招聘社区 这里是链聘，区块链垂直领域招聘社区！ 在这里，我们为优质的区块...  \n",
       "3  　　  \\n    6月30日企业及岗位表  \\n    \\n    \\n    单位名称 ...  \n",
       "4  人保甘肃 中国人民财产保险股份有限公司甘肃分公司招聘简历投递起止时间为：2018年6月1日至...  "
      ]
     },
     "execution_count": 15,
     "metadata": {},
     "output_type": "execute_result"
    }
   ],
   "source": [
    "# tmp_data = pd.concat([uncor_1, uncor_2], axis = 0)\n",
    "# uncor_data_raw = pd.concat([tmp_data, uncor_3], axis = 0)\n",
    "uncor_data_raw = uncor_1\n",
    "print('去重前：', uncor_data_raw.shape)\n",
    "uncor_data_raw = uncor_data_raw.drop_duplicates(subset = 'title')\n",
    "print('去重后：', uncor_data_raw.shape)\n",
    "uncor_data_raw.head()"
   ]
  },
  {
   "cell_type": "markdown",
   "metadata": {},
   "source": [
    "## 合并数据"
   ]
  },
  {
   "cell_type": "code",
   "execution_count": 17,
   "metadata": {
    "ExecuteTime": {
     "end_time": "2018-07-17T06:33:26.981800Z",
     "start_time": "2018-07-17T06:33:26.944798Z"
    }
   },
   "outputs": [
    {
     "name": "stdout",
     "output_type": "stream",
     "text": [
      "去重前： (2992, 7)\n",
      "去重后： (2992, 7)\n"
     ]
    },
    {
     "data": {
      "text/html": [
       "<div>\n",
       "<style scoped>\n",
       "    .dataframe tbody tr th:only-of-type {\n",
       "        vertical-align: middle;\n",
       "    }\n",
       "\n",
       "    .dataframe tbody tr th {\n",
       "        vertical-align: top;\n",
       "    }\n",
       "\n",
       "    .dataframe thead th {\n",
       "        text-align: right;\n",
       "    }\n",
       "</style>\n",
       "<table border=\"1\" class=\"dataframe\">\n",
       "  <thead>\n",
       "    <tr style=\"text-align: right;\">\n",
       "      <th></th>\n",
       "      <th>id</th>\n",
       "      <th>site_name</th>\n",
       "      <th>author</th>\n",
       "      <th>publishtime</th>\n",
       "      <th>group_id</th>\n",
       "      <th>title</th>\n",
       "      <th>content</th>\n",
       "    </tr>\n",
       "  </thead>\n",
       "  <tbody>\n",
       "    <tr>\n",
       "      <th>0</th>\n",
       "      <td>47366975</td>\n",
       "      <td>凤凰新闻</td>\n",
       "      <td>NaN</td>\n",
       "      <td>2018-06-28 10:23:00</td>\n",
       "      <td>13</td>\n",
       "      <td>做强保险主业 做好社会事业</td>\n",
       "      <td>阳光龙泉远程问诊医务站首次开诊。   资料图片   经过近13年探索，阳光保险集团形成了一套...</td>\n",
       "    </tr>\n",
       "    <tr>\n",
       "      <th>1</th>\n",
       "      <td>49748372</td>\n",
       "      <td>微信</td>\n",
       "      <td>NaN</td>\n",
       "      <td>2018-07-04 19:38:18</td>\n",
       "      <td>11</td>\n",
       "      <td>做大金融保险产业  做优文化创意产业</td>\n",
       "      <td>作为金融行业的重要组成部分，我国保险业的发展逐渐趋于成熟和完善。互联网技术在金融行业催生了广...</td>\n",
       "    </tr>\n",
       "    <tr>\n",
       "      <th>2</th>\n",
       "      <td>51184741</td>\n",
       "      <td>微博</td>\n",
       "      <td>蓉Bob儿</td>\n",
       "      <td>2018-06-14 05:31:34</td>\n",
       "      <td>4</td>\n",
       "      <td>昨晚在妈妈家住，爸爸值班，妈妈头疼我去帮她买头疼药，妈妈这隔三差五的头疼可咋办啊[费解]赵先...</td>\n",
       "      <td>昨晚在妈妈家住，爸爸值班，妈妈头疼我去帮她买头疼药，妈妈这隔三差五的头疼可咋办啊[费解]赵先...</td>\n",
       "    </tr>\n",
       "    <tr>\n",
       "      <th>3</th>\n",
       "      <td>51231649</td>\n",
       "      <td>微博</td>\n",
       "      <td>爱签单保险课堂</td>\n",
       "      <td>2018-06-08 16:10:00</td>\n",
       "      <td>4</td>\n",
       "      <td>最新的寿险公司保费收入排名，看看你买的保险排第几？@中国人寿 @中国平安 @中国太平洋保险 ...</td>\n",
       "      <td>最新的寿险公司保费收入排名，看看你买的保险排第几？@中国人寿 @中国平安 @中国太平洋保险 ...</td>\n",
       "    </tr>\n",
       "    <tr>\n",
       "      <th>4</th>\n",
       "      <td>49657930</td>\n",
       "      <td>搜狐新闻</td>\n",
       "      <td>NaN</td>\n",
       "      <td>2018-07-04 11:42:00</td>\n",
       "      <td>13</td>\n",
       "      <td>最出人意料的世界杯大赢家竟然是保险业</td>\n",
       "      <td>世界杯如火如荼地在绿茵场进行，看各国球员在场上厮杀，踢着踢着球就成近身肉搏抢球，有时...</td>\n",
       "    </tr>\n",
       "  </tbody>\n",
       "</table>\n",
       "</div>"
      ],
      "text/plain": [
       "         id site_name   author         publishtime  group_id  \\\n",
       "0  47366975      凤凰新闻      NaN 2018-06-28 10:23:00        13   \n",
       "1  49748372        微信      NaN 2018-07-04 19:38:18        11   \n",
       "2  51184741        微博    蓉Bob儿 2018-06-14 05:31:34         4   \n",
       "3  51231649        微博  爱签单保险课堂 2018-06-08 16:10:00         4   \n",
       "4  49657930      搜狐新闻      NaN 2018-07-04 11:42:00        13   \n",
       "\n",
       "                                               title  \\\n",
       "0                                      做强保险主业 做好社会事业   \n",
       "1                                 做大金融保险产业  做优文化创意产业   \n",
       "2  昨晚在妈妈家住，爸爸值班，妈妈头疼我去帮她买头疼药，妈妈这隔三差五的头疼可咋办啊[费解]赵先...   \n",
       "3  最新的寿险公司保费收入排名，看看你买的保险排第几？@中国人寿 @中国平安 @中国太平洋保险 ...   \n",
       "4                                 最出人意料的世界杯大赢家竟然是保险业   \n",
       "\n",
       "                                             content  \n",
       "0  阳光龙泉远程问诊医务站首次开诊。   资料图片   经过近13年探索，阳光保险集团形成了一套...  \n",
       "1  作为金融行业的重要组成部分，我国保险业的发展逐渐趋于成熟和完善。互联网技术在金融行业催生了广...  \n",
       "2  昨晚在妈妈家住，爸爸值班，妈妈头疼我去帮她买头疼药，妈妈这隔三差五的头疼可咋办啊[费解]赵先...  \n",
       "3  最新的寿险公司保费收入排名，看看你买的保险排第几？@中国人寿 @中国平安 @中国太平洋保险 ...  \n",
       "4  　　  世界杯如火如荼地在绿茵场进行，看各国球员在场上厮杀，踢着踢着球就成近身肉搏抢球，有时...  "
      ]
     },
     "execution_count": 17,
     "metadata": {},
     "output_type": "execute_result"
    }
   ],
   "source": [
    "# 相关\n",
    "# cor_data_raw = pd.concat([cor_data_raw, cor_additional_data], axis = 0) # 合并补录数据\n",
    "print('去重前：', cor_data_raw.shape)\n",
    "cor_data_raw = cor_data_raw.drop_duplicates(subset = 'title')\n",
    "print('去重后：', cor_data_raw.shape)\n",
    "cor_data_raw.head()"
   ]
  },
  {
   "cell_type": "code",
   "execution_count": 18,
   "metadata": {
    "ExecuteTime": {
     "end_time": "2018-07-17T06:33:31.621824Z",
     "start_time": "2018-07-17T06:33:31.586822Z"
    }
   },
   "outputs": [
    {
     "name": "stdout",
     "output_type": "stream",
     "text": [
      "去重前： (3362, 7)\n",
      "去重后： (3362, 7)\n"
     ]
    },
    {
     "data": {
      "text/html": [
       "<div>\n",
       "<style scoped>\n",
       "    .dataframe tbody tr th:only-of-type {\n",
       "        vertical-align: middle;\n",
       "    }\n",
       "\n",
       "    .dataframe tbody tr th {\n",
       "        vertical-align: top;\n",
       "    }\n",
       "\n",
       "    .dataframe thead th {\n",
       "        text-align: right;\n",
       "    }\n",
       "</style>\n",
       "<table border=\"1\" class=\"dataframe\">\n",
       "  <thead>\n",
       "    <tr style=\"text-align: right;\">\n",
       "      <th></th>\n",
       "      <th>id</th>\n",
       "      <th>site_name</th>\n",
       "      <th>author</th>\n",
       "      <th>publishtime</th>\n",
       "      <th>group_id</th>\n",
       "      <th>title</th>\n",
       "      <th>content</th>\n",
       "    </tr>\n",
       "  </thead>\n",
       "  <tbody>\n",
       "    <tr>\n",
       "      <th>0</th>\n",
       "      <td>49406085</td>\n",
       "      <td>微信</td>\n",
       "      <td>NaN</td>\n",
       "      <td>2018-07-03 05:30:32</td>\n",
       "      <td>11</td>\n",
       "      <td>最新招聘|柘荣找工作，看这里！</td>\n",
       "      <td>如果你想找工作 你想招聘 你想发布广告 你想了解更多的便民消息 欢迎添加直击柘荣微信号“is...</td>\n",
       "    </tr>\n",
       "    <tr>\n",
       "      <th>1</th>\n",
       "      <td>48541396</td>\n",
       "      <td>微信</td>\n",
       "      <td>NaN</td>\n",
       "      <td>2018-06-30 19:53:49</td>\n",
       "      <td>11</td>\n",
       "      <td>最新招聘！嘉峪关这些好岗位等你来，有你需要的吗？</td>\n",
       "      <td>中核和诚实业有限公司 招聘人数：20 招聘岗位：厨师、服务员、后厨配菜、保洁、面点师、取样分...</td>\n",
       "    </tr>\n",
       "    <tr>\n",
       "      <th>2</th>\n",
       "      <td>48177425</td>\n",
       "      <td>微信</td>\n",
       "      <td>NaN</td>\n",
       "      <td>2018-06-29 19:37:52</td>\n",
       "      <td>11</td>\n",
       "      <td>最新区块链岗位招聘丨广州日耀，万物链ITC等</td>\n",
       "      <td>链聘 区块链垂直领域招聘社区 这里是链聘，区块链垂直领域招聘社区！ 在这里，我们为优质的区块...</td>\n",
       "    </tr>\n",
       "    <tr>\n",
       "      <th>3</th>\n",
       "      <td>47981834</td>\n",
       "      <td>搜狐新闻</td>\n",
       "      <td>NaN</td>\n",
       "      <td>2018-06-29 22:41:00</td>\n",
       "      <td>13</td>\n",
       "      <td>周末找工作，就上体育馆找海南人才招聘网，企业多多岗位多多，职等你来！</td>\n",
       "      <td>\\n    6月30日企业及岗位表  \\n    \\n    \\n    单位名称 ...</td>\n",
       "    </tr>\n",
       "    <tr>\n",
       "      <th>4</th>\n",
       "      <td>48335438</td>\n",
       "      <td>微信</td>\n",
       "      <td>NaN</td>\n",
       "      <td>2018-06-30 17:19:01</td>\n",
       "      <td>11</td>\n",
       "      <td>重要提醒|中国人保甘肃分公司招聘报名今天截止！</td>\n",
       "      <td>人保甘肃 中国人民财产保险股份有限公司甘肃分公司招聘简历投递起止时间为：2018年6月1日至...</td>\n",
       "    </tr>\n",
       "  </tbody>\n",
       "</table>\n",
       "</div>"
      ],
      "text/plain": [
       "         id site_name author         publishtime  group_id  \\\n",
       "0  49406085        微信    NaN 2018-07-03 05:30:32        11   \n",
       "1  48541396        微信    NaN 2018-06-30 19:53:49        11   \n",
       "2  48177425        微信    NaN 2018-06-29 19:37:52        11   \n",
       "3  47981834      搜狐新闻    NaN 2018-06-29 22:41:00        13   \n",
       "4  48335438        微信    NaN 2018-06-30 17:19:01        11   \n",
       "\n",
       "                                title  \\\n",
       "0                     最新招聘|柘荣找工作，看这里！   \n",
       "1            最新招聘！嘉峪关这些好岗位等你来，有你需要的吗？   \n",
       "2              最新区块链岗位招聘丨广州日耀，万物链ITC等   \n",
       "3  周末找工作，就上体育馆找海南人才招聘网，企业多多岗位多多，职等你来！   \n",
       "4             重要提醒|中国人保甘肃分公司招聘报名今天截止！   \n",
       "\n",
       "                                             content  \n",
       "0  如果你想找工作 你想招聘 你想发布广告 你想了解更多的便民消息 欢迎添加直击柘荣微信号“is...  \n",
       "1  中核和诚实业有限公司 招聘人数：20 招聘岗位：厨师、服务员、后厨配菜、保洁、面点师、取样分...  \n",
       "2  链聘 区块链垂直领域招聘社区 这里是链聘，区块链垂直领域招聘社区！ 在这里，我们为优质的区块...  \n",
       "3  　　  \\n    6月30日企业及岗位表  \\n    \\n    \\n    单位名称 ...  \n",
       "4  人保甘肃 中国人民财产保险股份有限公司甘肃分公司招聘简历投递起止时间为：2018年6月1日至...  "
      ]
     },
     "execution_count": 18,
     "metadata": {},
     "output_type": "execute_result"
    }
   ],
   "source": [
    "# 不相关\n",
    "# uncor_data_raw = pd.concat([uncor_data_raw, uncor_noise_data_raw[['title', 'content']]], axis = 0) # 合并噪音数据\n",
    "print('去重前：', uncor_data_raw.shape)\n",
    "uncor_data_raw = uncor_data_raw.drop_duplicates( subset = 'title')\n",
    "print('去重后：', uncor_data_raw.shape)\n",
    "uncor_data_raw.head()"
   ]
  },
  {
   "cell_type": "code",
   "execution_count": 19,
   "metadata": {
    "ExecuteTime": {
     "end_time": "2018-07-17T06:33:42.546966Z",
     "start_time": "2018-07-17T06:33:42.453961Z"
    }
   },
   "outputs": [
    {
     "name": "stdout",
     "output_type": "stream",
     "text": [
      "去重前： (6354, 8)\n",
      "去重后： (6346, 8)\n",
      "cor_data_raw:  (2988, 2)\n",
      "uncor_data_raw:  (3358, 2)\n"
     ]
    }
   ],
   "source": [
    "# 相关与不相关\n",
    "cor_data_raw['label'] = 1\n",
    "uncor_data_raw['label'] = 0\n",
    "data_raw = pd.concat([cor_data_raw, uncor_data_raw])\n",
    "print('去重前：', data_raw.shape)\n",
    "data_raw = data_raw.drop_duplicates( subset = 'title', keep = False)\n",
    "print('去重后：', data_raw.shape)\n",
    "\n",
    "cor_data_raw = data_raw[data_raw['label'] == 1][['title', 'content']]\n",
    "uncor_data_raw = data_raw[data_raw['label'] == 0][['title', 'content']]\n",
    "print('cor_data_raw: ', cor_data_raw.shape)\n",
    "print('uncor_data_raw: ', uncor_data_raw.shape)"
   ]
  },
  {
   "cell_type": "code",
   "execution_count": null,
   "metadata": {
    "collapsed": true
   },
   "outputs": [],
   "source": []
  },
  {
   "cell_type": "markdown",
   "metadata": {},
   "source": [
    "# 预处理数据"
   ]
  },
  {
   "cell_type": "code",
   "execution_count": null,
   "metadata": {
    "ExecuteTime": {
     "start_time": "2018-07-17T06:34:09.496Z"
    }
   },
   "outputs": [
    {
     "name": "stdout",
     "output_type": "stream",
     "text": [
      "2988\n"
     ]
    }
   ],
   "source": [
    "# 相关数据\n",
    "cor_data = cor_data_raw['content'].tolist()\n",
    "print(len(cor_data))\n",
    "corpus_cor = pre_cor.handle_contents(cor_data)\n",
    "\n",
    "save_filename = 'data/{0}/corpus_pre_cor_0717.txt'.format(folder)\n",
    "print(save_filename)\n",
    "fid = open(save_filename, \"w+\", encoding='UTF-8')\n",
    "for data in corpus_cor:\n",
    "    fid.write(data + '\\n')\n",
    "fid.close()"
   ]
  },
  {
   "cell_type": "code",
   "execution_count": 74,
   "metadata": {
    "ExecuteTime": {
     "end_time": "2018-07-03T06:49:18.621632Z",
     "start_time": "2018-07-03T06:47:52.405087Z"
    }
   },
   "outputs": [
    {
     "name": "stdout",
     "output_type": "stream",
     "text": [
      "8949\n",
      "data/20180703/corpus_pre_uncor_0703.txt\n"
     ]
    }
   ],
   "source": [
    "# 不相关数据\n",
    "uncor_data = uncor_data_raw['content'].tolist()\n",
    "print(len(uncor_data))\n",
    "corpus_uncor = pre_cor.handle_contents(uncor_data)\n",
    "\n",
    "save_filename = 'data/{0}/corpus_pre_uncor_0717.txt'.format(folder)\n",
    "print(save_filename)\n",
    "fid = open(save_filename, \"w+\", encoding='UTF-8')\n",
    "for data in corpus_uncor:\n",
    "    fid.write(data + '\\n')\n",
    "fid.close()"
   ]
  },
  {
   "cell_type": "markdown",
   "metadata": {
    "collapsed": true
   },
   "source": [
    "# 保存本文件"
   ]
  },
  {
   "cell_type": "code",
   "execution_count": 70,
   "metadata": {
    "ExecuteTime": {
     "end_time": "2018-06-27T08:59:12.287167Z",
     "start_time": "2018-06-27T08:59:12.234164Z"
    },
    "collapsed": true
   },
   "outputs": [],
   "source": [
    "if 0:\n",
    "    import datetime as dt\n",
    "    \n",
    "    def output_HTML(read_file, output_file):\n",
    "        from nbconvert import HTMLExporter\n",
    "        import codecs\n",
    "        import nbformat\n",
    "        exporter = HTMLExporter()\n",
    "        # read_file is '.ipynb', output_file is '.html'\n",
    "        output_notebook = nbformat.read(read_file, as_version=4)\n",
    "        output, resources = exporter.from_notebook_node(output_notebook)\n",
    "        codecs.open(output_file, 'w', encoding='utf-8').write(output)\n",
    "\n",
    "    html_file_folder = 'html_files'\n",
    "    if not os.path.exists(html_file_folder):\n",
    "        os.makedirs(html_file_folder)\n",
    "\n",
    "    today = dt.datetime.now().strftime('%Y%m%d')\n",
    "    current_file = 'circ_cor_model_1_pre.ipynb'\n",
    "    output_file = 'html_files\\%s_%s.html'%(os.path.splitext(current_file)[0], today)\n",
    "    output_HTML(current_file, output_file)"
   ]
  }
 ],
 "metadata": {
  "kernelspec": {
   "display_name": "Python 3",
   "language": "python",
   "name": "python3"
  },
  "language_info": {
   "codemirror_mode": {
    "name": "ipython",
    "version": 3
   },
   "file_extension": ".py",
   "mimetype": "text/x-python",
   "name": "python",
   "nbconvert_exporter": "python",
   "pygments_lexer": "ipython3",
   "version": "3.6.3"
  },
  "toc": {
   "nav_menu": {},
   "number_sections": true,
   "sideBar": true,
   "skip_h1_title": false,
   "title_cell": "Table of Contents",
   "title_sidebar": "Contents",
   "toc_cell": false,
   "toc_position": {
    "height": "calc(100% - 180px)",
    "left": "10px",
    "top": "150px",
    "width": "376px"
   },
   "toc_section_display": true,
   "toc_window_display": true
  },
  "varInspector": {
   "cols": {
    "lenName": 16,
    "lenType": 16,
    "lenVar": 40
   },
   "kernels_config": {
    "python": {
     "delete_cmd_postfix": "",
     "delete_cmd_prefix": "del ",
     "library": "var_list.py",
     "varRefreshCmd": "print(var_dic_list())"
    },
    "r": {
     "delete_cmd_postfix": ") ",
     "delete_cmd_prefix": "rm(",
     "library": "var_list.r",
     "varRefreshCmd": "cat(var_dic_list()) "
    }
   },
   "types_to_exclude": [
    "module",
    "function",
    "builtin_function_or_method",
    "instance",
    "_Feature"
   ],
   "window_display": false
  }
 },
 "nbformat": 4,
 "nbformat_minor": 2
}
