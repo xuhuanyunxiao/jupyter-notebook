{
 "cells": [
  {
   "cell_type": "code",
   "execution_count": null,
   "metadata": {},
   "outputs": [],
   "source": [
    "#!/usr/bin/env python\n",
    "# -*- coding: utf-8 -*-\n",
    "\n",
    "from job_cluster import *\n",
    "\n",
    "# 鍒涘缓job\n",
    "cluster_job_01 = ChineseClusterJob01()\n",
    "cluster_job_02 = EnglishClusterJob02()\n",
    "cluster_job_03 = ChineseClusterJob03()\n",
    "cluster_job_04 = EnglishClusterJob04()\n",
    "cluster_job_05 = EnglishClusterJob05()\n",
    "\n",
    "involved_china_job_02 = InvolvedChinaJob02()\n",
    "\n",
    "\n",
    "# 璋冨害job\n",
    "def cluster_job():\n",
    "    import datetime\n",
    "    now = datetime.datetime.now()\n",
    "    end_dt = datetime.datetime.combine(now.date(), datetime.time(now.time().hour, 00, 00))\n",
    "    start_dt = end_dt - datetime.timedelta(days=1)\n",
    "    end_time = end_dt.strftime('%Y-%m-%d %H:%M:%S')\n",
    "    start_time = start_dt.strftime('%Y-%m-%d %H:%M:%S')\n",
    "\n",
    "    # 璋冨害\n",
    "    # cluster_job_01.run(start_time, end_time)\n",
    "    #cluster_job_02.run(start_time, end_time)\n",
    "    #cluster_job_03.run(start_time,  end_time)\n",
    "    # cluster_job_04.run(start_time, end_time)\n",
    "    # cluster_job_05.run(start_time, end_time)\n",
    "    involved_china_job_02.run(start_time, end_time)\n",
    "\n",
    "\n",
    "if __name__ == '__main__':\n",
    "    cluster_job()\n"
   ]
  }
 ],
 "metadata": {
  "language": "python"
 },
 "nbformat": 4,
 "nbformat_minor": 2
}
