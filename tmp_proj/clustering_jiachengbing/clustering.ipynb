{
 "cells": [
  {
   "cell_type": "markdown",
   "metadata": {},
   "source": [
    "- 贾承斌\n",
    "    - 接口和定时聚类程序都试下数据"
   ]
  },
  {
   "cell_type": "markdown",
   "metadata": {},
   "source": [
    "# 基本设置"
   ]
  },
  {
   "cell_type": "code",
   "execution_count": 1,
   "metadata": {
    "ExecuteTime": {
     "end_time": "2019-04-26T07:23:00.450614Z",
     "start_time": "2019-04-26T07:22:49.700904Z"
    }
   },
   "outputs": [
    {
     "data": {
      "text/plain": [
       "'en'"
      ]
     },
     "execution_count": 1,
     "metadata": {},
     "output_type": "execute_result"
    }
   ],
   "source": [
    "import pandas as pd\n",
    "import sys\n",
    "\n",
    "import langid # 语种检测\n",
    "langid.classify(\"I do not speak english\")[0]"
   ]
  },
  {
   "cell_type": "code",
   "execution_count": 68,
   "metadata": {
    "ExecuteTime": {
     "end_time": "2019-04-26T08:16:13.498860Z",
     "start_time": "2019-04-26T08:16:13.490837Z"
    }
   },
   "outputs": [
    {
     "name": "stdout",
     "output_type": "stream",
     "text": [
      "D:\\XH\\Python_Project\\notebook\\tmp_proj\\clustering_jiachengbing\n"
     ]
    }
   ],
   "source": [
    "import os\n",
    "pwd = os.getcwd()\n",
    "print(pwd)\n",
    "sys.path.append(pwd)"
   ]
  },
  {
   "cell_type": "code",
   "execution_count": 22,
   "metadata": {
    "ExecuteTime": {
     "end_time": "2019-04-26T07:37:47.473295Z",
     "start_time": "2019-04-26T07:37:47.462770Z"
    },
    "collapsed": true
   },
   "outputs": [],
   "source": [
    "class ClusterMessageObj(object):\n",
    "    \"\"\"\n",
    "    聚类实体类\n",
    "    \"\"\"\n",
    "\n",
    "    def __init__(self, messageId=0, messageTitle='', messagePublishtime='', messageContent='', site_name=''):\n",
    "        self.messageId = messageId\n",
    "        self.messageTitle = messageTitle\n",
    "        self.messagePublishtime = messagePublishtime\n",
    "        self.messageContent = messageContent\n",
    "        self.site_name = site_name"
   ]
  },
  {
   "cell_type": "code",
   "execution_count": 29,
   "metadata": {
    "ExecuteTime": {
     "end_time": "2019-04-26T07:44:20.198729Z",
     "start_time": "2019-04-26T07:44:20.156117Z"
    },
    "collapsed": true
   },
   "outputs": [],
   "source": [
    "def parse_corpus_records(records, language_type=None):\n",
    "    data = []\n",
    "    for row in records:\n",
    "        id = row['id']\n",
    "\n",
    "        title = row['title']\n",
    "        title = title.encode('utf-8')\n",
    "\n",
    "        content = row['content']\n",
    "        content = content.encode('utf-8')\n",
    "\n",
    "        publish_time = row['publishtime'].encode('utf-8') # .strftime(\"%Y-%m-%d %H:%M:%S\")\n",
    "        site_name = row['site_name']\n",
    "        site_name = site_name.encode('utf-8')\n",
    "\n",
    "        cluster_obj = ClusterMessageObj(id, title, publish_time, content, site_name)\n",
    "\n",
    "        # 进行语言过滤\n",
    "        if language_type is not None:\n",
    "            if BaseDataView.is_valid_language(language_type, content):\n",
    "                data.append(cluster_obj)\n",
    "        else:\n",
    "            data.append(cluster_obj)\n",
    "    return data"
   ]
  },
  {
   "cell_type": "code",
   "execution_count": 2,
   "metadata": {
    "ExecuteTime": {
     "end_time": "2019-04-26T07:23:04.196822Z",
     "start_time": "2019-04-26T07:23:04.190304Z"
    }
   },
   "outputs": [
    {
     "data": {
      "text/plain": [
       "'utf-8'"
      ]
     },
     "execution_count": 2,
     "metadata": {},
     "output_type": "execute_result"
    }
   ],
   "source": [
    "sys.getdefaultencoding()"
   ]
  },
  {
   "cell_type": "code",
   "execution_count": 49,
   "metadata": {
    "ExecuteTime": {
     "end_time": "2019-04-26T07:53:27.985259Z",
     "start_time": "2019-04-26T07:53:27.675735Z"
    },
    "collapsed": true
   },
   "outputs": [],
   "source": [
    "from toolkits.nlp.langconv import *\n",
    "\n",
    "def Traditional2Simplified(sentence):\n",
    "    '''\n",
    "    将sentence中的繁体字转为简体字\n",
    "    :param sentence: 待转换的句子\n",
    "    :return: 将句子中繁体字转换为简体字之后的句子\n",
    "    '''\n",
    "    sentence = Converter('zh-hans').convert(sentence)\n",
    "    return sentence"
   ]
  },
  {
   "cell_type": "markdown",
   "metadata": {},
   "source": [
    "# load data"
   ]
  },
  {
   "cell_type": "code",
   "execution_count": 16,
   "metadata": {
    "ExecuteTime": {
     "end_time": "2019-04-26T07:35:06.494397Z",
     "start_time": "2019-04-26T07:35:04.440510Z"
    }
   },
   "outputs": [
    {
     "name": "stdout",
     "output_type": "stream",
     "text": [
      "(9641, 15)\n",
      "Index(['id', '来源id', '来源', '标题', '发布时间', '链接', '作者', '点击', '点赞', '回复', '转发',\n",
      "       '查询关键词', '正文文件名称', '正文', '类型'],\n",
      "      dtype='object')\n"
     ]
    },
    {
     "data": {
      "text/html": [
       "<div>\n",
       "<style scoped>\n",
       "    .dataframe tbody tr th:only-of-type {\n",
       "        vertical-align: middle;\n",
       "    }\n",
       "\n",
       "    .dataframe tbody tr th {\n",
       "        vertical-align: top;\n",
       "    }\n",
       "\n",
       "    .dataframe thead th {\n",
       "        text-align: right;\n",
       "    }\n",
       "</style>\n",
       "<table border=\"1\" class=\"dataframe\">\n",
       "  <thead>\n",
       "    <tr style=\"text-align: right;\">\n",
       "      <th></th>\n",
       "      <th>id</th>\n",
       "      <th>来源id</th>\n",
       "      <th>来源</th>\n",
       "      <th>标题</th>\n",
       "      <th>发布时间</th>\n",
       "      <th>链接</th>\n",
       "      <th>作者</th>\n",
       "      <th>点击</th>\n",
       "      <th>点赞</th>\n",
       "      <th>回复</th>\n",
       "      <th>转发</th>\n",
       "      <th>查询关键词</th>\n",
       "      <th>正文文件名称</th>\n",
       "      <th>正文</th>\n",
       "      <th>类型</th>\n",
       "    </tr>\n",
       "  </thead>\n",
       "  <tbody>\n",
       "    <tr>\n",
       "      <th>0</th>\n",
       "      <td>1</td>\n",
       "      <td>299507</td>\n",
       "      <td>华尔街日报中文网</td>\n",
       "      <td>隔夜市场回顾</td>\n",
       "      <td>2019-04-24 09:45:00.0</td>\n",
       "      <td>https://cn.wsj.com/articles/隔夜市场回顾-11556062811</td>\n",
       "      <td>NaN</td>\n",
       "      <td>0</td>\n",
       "      <td>0</td>\n",
       "      <td>0</td>\n",
       "      <td>0</td>\n",
       "      <td>cn.wsj.com</td>\n",
       "      <td>NaN</td>\n",
       "      <td>美股收盘上涨，标普500和纳指双双收于纪录高点；美元升至今年高点，因房地产数据强劲；美国国债...</td>\n",
       "      <td>外媒</td>\n",
       "    </tr>\n",
       "  </tbody>\n",
       "</table>\n",
       "</div>"
      ],
      "text/plain": [
       "   id    来源id        来源      标题                   发布时间  \\\n",
       "0   1  299507  华尔街日报中文网  隔夜市场回顾  2019-04-24 09:45:00.0   \n",
       "\n",
       "                                               链接  作者  点击  点赞  回复  转发  \\\n",
       "0  https://cn.wsj.com/articles/隔夜市场回顾-11556062811 NaN   0   0   0   0   \n",
       "\n",
       "        查询关键词  正文文件名称                                                 正文  类型  \n",
       "0  cn.wsj.com     NaN  美股收盘上涨，标普500和纳指双双收于纪录高点；美元升至今年高点，因房地产数据强劲；美国国债...  外媒  "
      ]
     },
     "execution_count": 16,
     "metadata": {},
     "output_type": "execute_result"
    }
   ],
   "source": [
    "data = pd.read_excel(u'外媒_20190426070934.xlsx')\n",
    "print(data.shape)\n",
    "print(data.columns)\n",
    "data.iloc[:1, :]"
   ]
  },
  {
   "cell_type": "markdown",
   "metadata": {},
   "source": [
    "## 检测语种"
   ]
  },
  {
   "cell_type": "code",
   "execution_count": 17,
   "metadata": {
    "ExecuteTime": {
     "end_time": "2019-04-26T07:36:07.479779Z",
     "start_time": "2019-04-26T07:35:16.799736Z"
    }
   },
   "outputs": [],
   "source": [
    "data['language'] = data['标题'].astype('str').apply(lambda x: langid.classify(x)[0])"
   ]
  },
  {
   "cell_type": "code",
   "execution_count": 18,
   "metadata": {
    "ExecuteTime": {
     "end_time": "2019-04-26T07:36:07.749986Z",
     "start_time": "2019-04-26T07:36:07.718907Z"
    }
   },
   "outputs": [
    {
     "name": "stdout",
     "output_type": "stream",
     "text": [
      "(9641, 16)\n"
     ]
    },
    {
     "data": {
      "text/html": [
       "<div>\n",
       "<style scoped>\n",
       "    .dataframe tbody tr th:only-of-type {\n",
       "        vertical-align: middle;\n",
       "    }\n",
       "\n",
       "    .dataframe tbody tr th {\n",
       "        vertical-align: top;\n",
       "    }\n",
       "\n",
       "    .dataframe thead th {\n",
       "        text-align: right;\n",
       "    }\n",
       "</style>\n",
       "<table border=\"1\" class=\"dataframe\">\n",
       "  <thead>\n",
       "    <tr style=\"text-align: right;\">\n",
       "      <th></th>\n",
       "      <th>id</th>\n",
       "      <th>来源id</th>\n",
       "      <th>来源</th>\n",
       "      <th>标题</th>\n",
       "      <th>发布时间</th>\n",
       "      <th>链接</th>\n",
       "      <th>作者</th>\n",
       "      <th>点击</th>\n",
       "      <th>点赞</th>\n",
       "      <th>回复</th>\n",
       "      <th>转发</th>\n",
       "      <th>查询关键词</th>\n",
       "      <th>正文文件名称</th>\n",
       "      <th>正文</th>\n",
       "      <th>类型</th>\n",
       "      <th>language</th>\n",
       "    </tr>\n",
       "  </thead>\n",
       "  <tbody>\n",
       "    <tr>\n",
       "      <th>0</th>\n",
       "      <td>1</td>\n",
       "      <td>299507</td>\n",
       "      <td>华尔街日报中文网</td>\n",
       "      <td>隔夜市场回顾</td>\n",
       "      <td>2019-04-24 09:45:00.0</td>\n",
       "      <td>https://cn.wsj.com/articles/隔夜市场回顾-11556062811</td>\n",
       "      <td>NaN</td>\n",
       "      <td>0</td>\n",
       "      <td>0</td>\n",
       "      <td>0</td>\n",
       "      <td>0</td>\n",
       "      <td>cn.wsj.com</td>\n",
       "      <td>NaN</td>\n",
       "      <td>美股收盘上涨，标普500和纳指双双收于纪录高点；美元升至今年高点，因房地产数据强劲；美国国债...</td>\n",
       "      <td>外媒</td>\n",
       "      <td>zh</td>\n",
       "    </tr>\n",
       "  </tbody>\n",
       "</table>\n",
       "</div>"
      ],
      "text/plain": [
       "   id    来源id        来源      标题                   发布时间  \\\n",
       "0   1  299507  华尔街日报中文网  隔夜市场回顾  2019-04-24 09:45:00.0   \n",
       "\n",
       "                                               链接  作者  点击  点赞  回复  转发  \\\n",
       "0  https://cn.wsj.com/articles/隔夜市场回顾-11556062811 NaN   0   0   0   0   \n",
       "\n",
       "        查询关键词  正文文件名称                                                 正文  类型  \\\n",
       "0  cn.wsj.com     NaN  美股收盘上涨，标普500和纳指双双收于纪录高点；美元升至今年高点，因房地产数据强劲；美国国债...  外媒   \n",
       "\n",
       "  language  \n",
       "0       zh  "
      ]
     },
     "execution_count": 18,
     "metadata": {},
     "output_type": "execute_result"
    }
   ],
   "source": [
    "print(data.shape)\n",
    "data.iloc[:1, :]"
   ]
  },
  {
   "cell_type": "code",
   "execution_count": 21,
   "metadata": {
    "ExecuteTime": {
     "end_time": "2019-04-26T07:36:22.035156Z",
     "start_time": "2019-04-26T07:36:21.997560Z"
    }
   },
   "outputs": [
    {
     "data": {
      "text/html": [
       "<div>\n",
       "<style scoped>\n",
       "    .dataframe tbody tr th:only-of-type {\n",
       "        vertical-align: middle;\n",
       "    }\n",
       "\n",
       "    .dataframe tbody tr th {\n",
       "        vertical-align: top;\n",
       "    }\n",
       "\n",
       "    .dataframe thead th {\n",
       "        text-align: right;\n",
       "    }\n",
       "</style>\n",
       "<table border=\"1\" class=\"dataframe\">\n",
       "  <thead>\n",
       "    <tr style=\"text-align: right;\">\n",
       "      <th></th>\n",
       "      <th>id</th>\n",
       "      <th>来源id</th>\n",
       "      <th>来源</th>\n",
       "      <th>标题</th>\n",
       "      <th>发布时间</th>\n",
       "      <th>链接</th>\n",
       "      <th>作者</th>\n",
       "      <th>点击</th>\n",
       "      <th>点赞</th>\n",
       "      <th>回复</th>\n",
       "      <th>转发</th>\n",
       "      <th>查询关键词</th>\n",
       "      <th>正文文件名称</th>\n",
       "      <th>正文</th>\n",
       "      <th>类型</th>\n",
       "      <th>language</th>\n",
       "    </tr>\n",
       "  </thead>\n",
       "  <tbody>\n",
       "    <tr>\n",
       "      <th>7913</th>\n",
       "      <td>7914</td>\n",
       "      <td>299138</td>\n",
       "      <td>联合新闻网</td>\n",
       "      <td>影／網路叫車平台代僱駕自救會 赴交通部抗議</td>\n",
       "      <td>2019-04-25 15:21:30.0</td>\n",
       "      <td>https://udn.com/news/story/7266/3776682</td>\n",
       "      <td>NaN</td>\n",
       "      <td>0</td>\n",
       "      <td>0</td>\n",
       "      <td>0</td>\n",
       "      <td>0</td>\n",
       "      <td>udn.com</td>\n",
       "      <td>NaN</td>\n",
       "      <td>網路叫車平台代僱駕自救會今天到交通前陳情，高喊口號呼籲重視網路叫車平台代僱駕自救會司機的權益...</td>\n",
       "      <td>外媒</td>\n",
       "      <td>zh</td>\n",
       "    </tr>\n",
       "  </tbody>\n",
       "</table>\n",
       "</div>"
      ],
      "text/plain": [
       "        id    来源id     来源                     标题                   发布时间  \\\n",
       "7913  7914  299138  联合新闻网  影／網路叫車平台代僱駕自救會 赴交通部抗議  2019-04-25 15:21:30.0   \n",
       "\n",
       "                                           链接  作者  点击  点赞  回复  转发    查询关键词  \\\n",
       "7913  https://udn.com/news/story/7266/3776682 NaN   0   0   0   0  udn.com   \n",
       "\n",
       "      正文文件名称                                                 正文  类型 language  \n",
       "7913     NaN  網路叫車平台代僱駕自救會今天到交通前陳情，高喊口號呼籲重視網路叫車平台代僱駕自救會司機的權益...  外媒       zh  "
      ]
     },
     "execution_count": 21,
     "metadata": {},
     "output_type": "execute_result"
    }
   ],
   "source": [
    "# 繁体\n",
    "data[data['id'] == 7914]"
   ]
  },
  {
   "cell_type": "code",
   "execution_count": 19,
   "metadata": {
    "ExecuteTime": {
     "end_time": "2019-04-26T07:36:08.022211Z",
     "start_time": "2019-04-26T07:36:08.003159Z"
    }
   },
   "outputs": [
    {
     "data": {
      "text/plain": [
       "en    3941\n",
       "zh    3346\n",
       "ja    1022\n",
       "pt     465\n",
       "ar     299\n",
       "tl     165\n",
       "id      48\n",
       "de      43\n",
       "es      40\n",
       "fr      39\n",
       "it      35\n",
       "nl      24\n",
       "da      20\n",
       "gl      19\n",
       "xh      12\n",
       "no      10\n",
       "sv      10\n",
       "pl       9\n",
       "rw       9\n",
       "af       9\n",
       "sw       7\n",
       "mt       6\n",
       "ms       6\n",
       "la       6\n",
       "et       6\n",
       "ca       5\n",
       "jv       5\n",
       "lt       4\n",
       "ro       4\n",
       "tr       3\n",
       "eu       3\n",
       "hu       3\n",
       "se       2\n",
       "ur       2\n",
       "fi       2\n",
       "mg       2\n",
       "nn       2\n",
       "oc       1\n",
       "ku       1\n",
       "vo       1\n",
       "sl       1\n",
       "sq       1\n",
       "fa       1\n",
       "eo       1\n",
       "nb       1\n",
       "Name: language, dtype: int64"
      ]
     },
     "execution_count": 19,
     "metadata": {},
     "output_type": "execute_result"
    }
   ],
   "source": [
    "data['language'].value_counts()"
   ]
  },
  {
   "cell_type": "markdown",
   "metadata": {},
   "source": [
    "## 英文数据"
   ]
  },
  {
   "cell_type": "code",
   "execution_count": 94,
   "metadata": {
    "ExecuteTime": {
     "end_time": "2019-04-26T09:32:49.494560Z",
     "start_time": "2019-04-26T09:32:48.367244Z"
    }
   },
   "outputs": [
    {
     "name": "stdout",
     "output_type": "stream",
     "text": [
      "(3941, 5)\n"
     ]
    },
    {
     "data": {
      "text/html": [
       "<div>\n",
       "<style scoped>\n",
       "    .dataframe tbody tr th:only-of-type {\n",
       "        vertical-align: middle;\n",
       "    }\n",
       "\n",
       "    .dataframe tbody tr th {\n",
       "        vertical-align: top;\n",
       "    }\n",
       "\n",
       "    .dataframe thead th {\n",
       "        text-align: right;\n",
       "    }\n",
       "</style>\n",
       "<table border=\"1\" class=\"dataframe\">\n",
       "  <thead>\n",
       "    <tr style=\"text-align: right;\">\n",
       "      <th></th>\n",
       "      <th>id</th>\n",
       "      <th>title</th>\n",
       "      <th>content</th>\n",
       "      <th>publishtime</th>\n",
       "      <th>site_name</th>\n",
       "    </tr>\n",
       "  </thead>\n",
       "  <tbody>\n",
       "    <tr>\n",
       "      <th>42</th>\n",
       "      <td>43</td>\n",
       "      <td>China Is Not Interested in War with America</td>\n",
       "      <td>Editor’s note: This essay was a runner up in...</td>\n",
       "      <td>2019-04-25 01:19:17.0</td>\n",
       "      <td>国家利益杂志</td>\n",
       "    </tr>\n",
       "  </tbody>\n",
       "</table>\n",
       "</div>"
      ],
      "text/plain": [
       "    id                                        title  \\\n",
       "42  43  China Is Not Interested in War with America   \n",
       "\n",
       "                                              content            publishtime  \\\n",
       "42    Editor’s note: This essay was a runner up in...  2019-04-25 01:19:17.0   \n",
       "\n",
       "   site_name  \n",
       "42    国家利益杂志  "
      ]
     },
     "execution_count": 94,
     "metadata": {},
     "output_type": "execute_result"
    }
   ],
   "source": [
    "data_en = data[data['language'] == 'en'][['id', '标题', '正文', '发布时间', '来源']]\n",
    "data_en.columns = ['id', 'title', 'content', 'publishtime', 'site_name']\n",
    "print(data_en.shape)\n",
    "data_en.iloc[:1, :]"
   ]
  },
  {
   "cell_type": "code",
   "execution_count": 95,
   "metadata": {
    "ExecuteTime": {
     "end_time": "2019-04-26T09:32:51.224031Z",
     "start_time": "2019-04-26T09:32:50.758444Z"
    },
    "collapsed": true
   },
   "outputs": [],
   "source": [
    "file_path =  \"mlUtil_MOE/corpus/corpus_en_20190426070934.json\"\n",
    "with open(file_path,'w',encoding='utf-8') as json_file:\n",
    "        json.dump(data_en.to_dict('records'),json_file,ensure_ascii=False)  "
   ]
  },
  {
   "cell_type": "code",
   "execution_count": 36,
   "metadata": {
    "ExecuteTime": {
     "end_time": "2019-04-26T07:49:13.086392Z",
     "start_time": "2019-04-26T07:49:12.977601Z"
    }
   },
   "outputs": [
    {
     "data": {
      "text/plain": [
       "b'China Is Not Interested in War with America'"
      ]
     },
     "execution_count": 36,
     "metadata": {},
     "output_type": "execute_result"
    }
   ],
   "source": [
    "# corpus_en = parse_corpus_records(data_en.to_dict('records'), language_type=None)\n",
    "# dir(corpus_en[0])\n",
    "# corpus_en[0].messageTitle"
   ]
  },
  {
   "cell_type": "code",
   "execution_count": 89,
   "metadata": {
    "ExecuteTime": {
     "end_time": "2019-04-26T09:05:48.163136Z",
     "start_time": "2019-04-26T09:05:48.157120Z"
    }
   },
   "outputs": [],
   "source": [
    "# from sklearn.externals import joblib\n",
    "# import pickle\n",
    "# file_path =  \"mlUtil_MOE/corpus/corpus_en_20190426070934.pkl\"\n",
    "# pickle.dump(corpus_en, file_path)\n",
    "# pipeline_train = joblib.load( \"model/previous_model/cbrc_pipeline_20181108.pkl.z\")"
   ]
  },
  {
   "cell_type": "code",
   "execution_count": 88,
   "metadata": {
    "ExecuteTime": {
     "end_time": "2019-04-26T09:05:45.767271Z",
     "start_time": "2019-04-26T09:05:45.761252Z"
    }
   },
   "outputs": [],
   "source": [
    "# py2 与 py3 兼容\n",
    "# # 在python3中将数据格式转换成python2可读的数据格式\n",
    "# with open(file_path, 'rb') as f:\n",
    "#     w = pickle.load(f)\n",
    "# pickle.dump(w, open(file_path,\"wb\"), protocol=2)"
   ]
  },
  {
   "cell_type": "markdown",
   "metadata": {},
   "source": [
    "## 中文数据"
   ]
  },
  {
   "cell_type": "code",
   "execution_count": 96,
   "metadata": {
    "ExecuteTime": {
     "end_time": "2019-04-26T09:33:54.273427Z",
     "start_time": "2019-04-26T09:33:29.710438Z"
    }
   },
   "outputs": [
    {
     "name": "stdout",
     "output_type": "stream",
     "text": [
      "(3346, 7)\n"
     ]
    },
    {
     "data": {
      "text/html": [
       "<div>\n",
       "<style scoped>\n",
       "    .dataframe tbody tr th:only-of-type {\n",
       "        vertical-align: middle;\n",
       "    }\n",
       "\n",
       "    .dataframe tbody tr th {\n",
       "        vertical-align: top;\n",
       "    }\n",
       "\n",
       "    .dataframe thead th {\n",
       "        text-align: right;\n",
       "    }\n",
       "</style>\n",
       "<table border=\"1\" class=\"dataframe\">\n",
       "  <thead>\n",
       "    <tr style=\"text-align: right;\">\n",
       "      <th></th>\n",
       "      <th>id</th>\n",
       "      <th>title_raw</th>\n",
       "      <th>content_raw</th>\n",
       "      <th>publishtime</th>\n",
       "      <th>site_name</th>\n",
       "      <th>title</th>\n",
       "      <th>content</th>\n",
       "    </tr>\n",
       "  </thead>\n",
       "  <tbody>\n",
       "    <tr>\n",
       "      <th>0</th>\n",
       "      <td>1</td>\n",
       "      <td>隔夜市场回顾</td>\n",
       "      <td>美股收盘上涨，标普500和纳指双双收于纪录高点；美元升至今年高点，因房地产数据强劲；美国国债...</td>\n",
       "      <td>2019-04-24 09:45:00.0</td>\n",
       "      <td>华尔街日报中文网</td>\n",
       "      <td>隔夜市场回顾</td>\n",
       "      <td>美股收盘上涨，标普500和纳指双双收于纪录高点；美元升至今年高点，因房地产数据强劲；美国国债...</td>\n",
       "    </tr>\n",
       "  </tbody>\n",
       "</table>\n",
       "</div>"
      ],
      "text/plain": [
       "   id title_raw                                        content_raw  \\\n",
       "0   1    隔夜市场回顾  美股收盘上涨，标普500和纳指双双收于纪录高点；美元升至今年高点，因房地产数据强劲；美国国债...   \n",
       "\n",
       "             publishtime site_name   title  \\\n",
       "0  2019-04-24 09:45:00.0  华尔街日报中文网  隔夜市场回顾   \n",
       "\n",
       "                                             content  \n",
       "0  美股收盘上涨，标普500和纳指双双收于纪录高点；美元升至今年高点，因房地产数据强劲；美国国债...  "
      ]
     },
     "execution_count": 96,
     "metadata": {},
     "output_type": "execute_result"
    }
   ],
   "source": [
    "data_zh = data[data['language'] == 'zh'][['id', '标题', '正文', '发布时间', '来源']]\n",
    "data_zh.columns = ['id', 'title_raw', 'content_raw', 'publishtime', 'site_name']\n",
    "# 繁体转简体\n",
    "data_zh['title'] = data_zh['title_raw'].apply(lambda x: Traditional2Simplified(x))\n",
    "data_zh['content'] = data_zh['content_raw'].apply(lambda x: Traditional2Simplified(x))\n",
    "print(data_zh.shape)\n",
    "data_zh.iloc[:1, :]"
   ]
  },
  {
   "cell_type": "code",
   "execution_count": 97,
   "metadata": {
    "ExecuteTime": {
     "end_time": "2019-04-26T09:33:54.744604Z",
     "start_time": "2019-04-26T09:33:54.611324Z"
    }
   },
   "outputs": [
    {
     "data": {
      "text/plain": [
       "id                                                          7915\n",
       "title_raw                                  長榮航空勞資協商破局 林佳龍：仍有可談空間\n",
       "content_raw    長榮航空勞資調解沒共識，桃園市空服員職業工會宣布5月13日啟動罷工投票，圖為長榮空服員。 記...\n",
       "publishtime                                2019-04-25 15:25:27.0\n",
       "site_name                                                  联合新闻网\n",
       "title                                      长荣航空劳资协商破局 林佳龙：仍有可谈空间\n",
       "content        长荣航空劳资调解没共识，桃园市空服员职业工会宣布5月13日启动罢工投票，图为长荣空服员。 记...\n",
       "Name: 7914, dtype: object"
      ]
     },
     "execution_count": 97,
     "metadata": {},
     "output_type": "execute_result"
    }
   ],
   "source": [
    "data_zh.loc[7914, :]"
   ]
  },
  {
   "cell_type": "code",
   "execution_count": 101,
   "metadata": {
    "ExecuteTime": {
     "end_time": "2019-04-26T09:55:47.176719Z",
     "start_time": "2019-04-26T09:55:43.604409Z"
    },
    "collapsed": true
   },
   "outputs": [],
   "source": [
    "file_path =  \"mlUtil_MOE/corpus/corpus_zh_20190426070934.json\"\n",
    "data_zh.to_excel(file_path.replace('.json', '.xlsx'), index = False)\n",
    "with open(file_path,'w',encoding='utf-8') as json_file:\n",
    "        json.dump(data_zh.to_dict('records'),json_file,ensure_ascii=False)  "
   ]
  },
  {
   "cell_type": "code",
   "execution_count": 57,
   "metadata": {
    "ExecuteTime": {
     "end_time": "2019-04-26T07:57:55.035537Z",
     "start_time": "2019-04-26T07:57:54.937276Z"
    }
   },
   "outputs": [
    {
     "data": {
      "text/plain": [
       "'隔夜市场回顾'"
      ]
     },
     "execution_count": 57,
     "metadata": {},
     "output_type": "execute_result"
    }
   ],
   "source": [
    "# corpus_zh = parse_corpus_records(data_zh.to_dict('records'), language_type=None)\n",
    "# dir(corpus_zh[0])\n",
    "# corpus_zh[0].messageTitle.decode('utf-8')"
   ]
  },
  {
   "cell_type": "code",
   "execution_count": 82,
   "metadata": {
    "ExecuteTime": {
     "end_time": "2019-04-26T08:31:26.074178Z",
     "start_time": "2019-04-26T08:31:25.528725Z"
    }
   },
   "outputs": [
    {
     "data": {
      "text/plain": [
       "['mlUtil_MOE/corpus/corpus_en_20190426070934.pkl.z']"
      ]
     },
     "execution_count": 82,
     "metadata": {},
     "output_type": "execute_result"
    }
   ],
   "source": [
    "# from sklearn.externals import joblib\n",
    "# joblib.dump(corpus_zh, \"mlUtil_MOE/corpus/corpus_en_20190426070934.pkl.z\")"
   ]
  },
  {
   "cell_type": "markdown",
   "metadata": {},
   "source": [
    "# 接口结果"
   ]
  },
  {
   "cell_type": "code",
   "execution_count": null,
   "metadata": {
    "collapsed": true
   },
   "outputs": [],
   "source": []
  },
  {
   "cell_type": "code",
   "execution_count": null,
   "metadata": {
    "collapsed": true
   },
   "outputs": [],
   "source": []
  },
  {
   "cell_type": "code",
   "execution_count": null,
   "metadata": {
    "collapsed": true
   },
   "outputs": [],
   "source": []
  },
  {
   "cell_type": "markdown",
   "metadata": {},
   "source": [
    "# 定时结果"
   ]
  },
  {
   "cell_type": "markdown",
   "metadata": {
    "collapsed": true
   },
   "source": [
    "## 中文聚类 DBSCAN"
   ]
  },
  {
   "cell_type": "code",
   "execution_count": 77,
   "metadata": {
    "ExecuteTime": {
     "end_time": "2019-04-26T08:21:50.246052Z",
     "start_time": "2019-04-26T08:21:49.947859Z"
    }
   },
   "outputs": [],
   "source": []
  },
  {
   "cell_type": "code",
   "execution_count": null,
   "metadata": {
    "collapsed": true
   },
   "outputs": [],
   "source": []
  },
  {
   "cell_type": "code",
   "execution_count": null,
   "metadata": {
    "collapsed": true
   },
   "outputs": [],
   "source": []
  },
  {
   "cell_type": "markdown",
   "metadata": {},
   "source": [
    "## 英文聚类"
   ]
  },
  {
   "cell_type": "code",
   "execution_count": 93,
   "metadata": {
    "ExecuteTime": {
     "end_time": "2019-04-26T09:27:40.835093Z",
     "start_time": "2019-04-26T09:27:40.571488Z"
    }
   },
   "outputs": [
    {
     "ename": "ModuleNotFoundError",
     "evalue": "No module named 'entity.cluster_result'",
     "output_type": "error",
     "traceback": [
      "\u001b[1;31m---------------------------------------------------------------------------\u001b[0m",
      "\u001b[1;31mModuleNotFoundError\u001b[0m                       Traceback (most recent call last)",
      "\u001b[1;32m<ipython-input-93-510a361ac882>\u001b[0m in \u001b[0;36m<module>\u001b[1;34m()\u001b[0m\n\u001b[0;32m      1\u001b[0m \u001b[1;32mfrom\u001b[0m \u001b[0msklearn\u001b[0m\u001b[1;33m.\u001b[0m\u001b[0mexternals\u001b[0m \u001b[1;32mimport\u001b[0m \u001b[0mjoblib\u001b[0m\u001b[1;33m\u001b[0m\u001b[0m\n\u001b[0;32m      2\u001b[0m \u001b[0mfile_path\u001b[0m \u001b[1;33m=\u001b[0m \u001b[1;34m'mlUtil_MOE/result/result_en_20190426070934.json'\u001b[0m\u001b[1;33m\u001b[0m\u001b[0m\n\u001b[1;32m----> 3\u001b[1;33m \u001b[0mresult_en\u001b[0m \u001b[1;33m=\u001b[0m \u001b[0mjoblib\u001b[0m\u001b[1;33m.\u001b[0m\u001b[0mload\u001b[0m\u001b[1;33m(\u001b[0m\u001b[0mfile_path\u001b[0m\u001b[1;33m)\u001b[0m\u001b[1;33m\u001b[0m\u001b[0m\n\u001b[0m",
      "\u001b[1;32mD:\\software_setup\\conda\\lib\\site-packages\\sklearn\\externals\\joblib\\numpy_pickle.py\u001b[0m in \u001b[0;36mload\u001b[1;34m(filename, mmap_mode)\u001b[0m\n\u001b[0;32m    576\u001b[0m                     \u001b[1;32mreturn\u001b[0m \u001b[0mload_compatibility\u001b[0m\u001b[1;33m(\u001b[0m\u001b[0mfobj\u001b[0m\u001b[1;33m)\u001b[0m\u001b[1;33m\u001b[0m\u001b[0m\n\u001b[0;32m    577\u001b[0m \u001b[1;33m\u001b[0m\u001b[0m\n\u001b[1;32m--> 578\u001b[1;33m                 \u001b[0mobj\u001b[0m \u001b[1;33m=\u001b[0m \u001b[0m_unpickle\u001b[0m\u001b[1;33m(\u001b[0m\u001b[0mfobj\u001b[0m\u001b[1;33m,\u001b[0m \u001b[0mfilename\u001b[0m\u001b[1;33m,\u001b[0m \u001b[0mmmap_mode\u001b[0m\u001b[1;33m)\u001b[0m\u001b[1;33m\u001b[0m\u001b[0m\n\u001b[0m\u001b[0;32m    579\u001b[0m \u001b[1;33m\u001b[0m\u001b[0m\n\u001b[0;32m    580\u001b[0m     \u001b[1;32mreturn\u001b[0m \u001b[0mobj\u001b[0m\u001b[1;33m\u001b[0m\u001b[0m\n",
      "\u001b[1;32mD:\\software_setup\\conda\\lib\\site-packages\\sklearn\\externals\\joblib\\numpy_pickle.py\u001b[0m in \u001b[0;36m_unpickle\u001b[1;34m(fobj, filename, mmap_mode)\u001b[0m\n\u001b[0;32m    506\u001b[0m     \u001b[0mobj\u001b[0m \u001b[1;33m=\u001b[0m \u001b[1;32mNone\u001b[0m\u001b[1;33m\u001b[0m\u001b[0m\n\u001b[0;32m    507\u001b[0m     \u001b[1;32mtry\u001b[0m\u001b[1;33m:\u001b[0m\u001b[1;33m\u001b[0m\u001b[0m\n\u001b[1;32m--> 508\u001b[1;33m         \u001b[0mobj\u001b[0m \u001b[1;33m=\u001b[0m \u001b[0munpickler\u001b[0m\u001b[1;33m.\u001b[0m\u001b[0mload\u001b[0m\u001b[1;33m(\u001b[0m\u001b[1;33m)\u001b[0m\u001b[1;33m\u001b[0m\u001b[0m\n\u001b[0m\u001b[0;32m    509\u001b[0m         \u001b[1;32mif\u001b[0m \u001b[0munpickler\u001b[0m\u001b[1;33m.\u001b[0m\u001b[0mcompat_mode\u001b[0m\u001b[1;33m:\u001b[0m\u001b[1;33m\u001b[0m\u001b[0m\n\u001b[0;32m    510\u001b[0m             warnings.warn(\"The file '%s' has been generated with a \"\n",
      "\u001b[1;32mD:\\software_setup\\conda\\lib\\pickle.py\u001b[0m in \u001b[0;36mload\u001b[1;34m(self)\u001b[0m\n\u001b[0;32m   1048\u001b[0m                     \u001b[1;32mraise\u001b[0m \u001b[0mEOFError\u001b[0m\u001b[1;33m\u001b[0m\u001b[0m\n\u001b[0;32m   1049\u001b[0m                 \u001b[1;32massert\u001b[0m \u001b[0misinstance\u001b[0m\u001b[1;33m(\u001b[0m\u001b[0mkey\u001b[0m\u001b[1;33m,\u001b[0m \u001b[0mbytes_types\u001b[0m\u001b[1;33m)\u001b[0m\u001b[1;33m\u001b[0m\u001b[0m\n\u001b[1;32m-> 1050\u001b[1;33m                 \u001b[0mdispatch\u001b[0m\u001b[1;33m[\u001b[0m\u001b[0mkey\u001b[0m\u001b[1;33m[\u001b[0m\u001b[1;36m0\u001b[0m\u001b[1;33m]\u001b[0m\u001b[1;33m]\u001b[0m\u001b[1;33m(\u001b[0m\u001b[0mself\u001b[0m\u001b[1;33m)\u001b[0m\u001b[1;33m\u001b[0m\u001b[0m\n\u001b[0m\u001b[0;32m   1051\u001b[0m         \u001b[1;32mexcept\u001b[0m \u001b[0m_Stop\u001b[0m \u001b[1;32mas\u001b[0m \u001b[0mstopinst\u001b[0m\u001b[1;33m:\u001b[0m\u001b[1;33m\u001b[0m\u001b[0m\n\u001b[0;32m   1052\u001b[0m             \u001b[1;32mreturn\u001b[0m \u001b[0mstopinst\u001b[0m\u001b[1;33m.\u001b[0m\u001b[0mvalue\u001b[0m\u001b[1;33m\u001b[0m\u001b[0m\n",
      "\u001b[1;32mD:\\software_setup\\conda\\lib\\pickle.py\u001b[0m in \u001b[0;36mload_global\u001b[1;34m(self)\u001b[0m\n\u001b[0;32m   1336\u001b[0m         \u001b[0mmodule\u001b[0m \u001b[1;33m=\u001b[0m \u001b[0mself\u001b[0m\u001b[1;33m.\u001b[0m\u001b[0mreadline\u001b[0m\u001b[1;33m(\u001b[0m\u001b[1;33m)\u001b[0m\u001b[1;33m[\u001b[0m\u001b[1;33m:\u001b[0m\u001b[1;33m-\u001b[0m\u001b[1;36m1\u001b[0m\u001b[1;33m]\u001b[0m\u001b[1;33m.\u001b[0m\u001b[0mdecode\u001b[0m\u001b[1;33m(\u001b[0m\u001b[1;34m\"utf-8\"\u001b[0m\u001b[1;33m)\u001b[0m\u001b[1;33m\u001b[0m\u001b[0m\n\u001b[0;32m   1337\u001b[0m         \u001b[0mname\u001b[0m \u001b[1;33m=\u001b[0m \u001b[0mself\u001b[0m\u001b[1;33m.\u001b[0m\u001b[0mreadline\u001b[0m\u001b[1;33m(\u001b[0m\u001b[1;33m)\u001b[0m\u001b[1;33m[\u001b[0m\u001b[1;33m:\u001b[0m\u001b[1;33m-\u001b[0m\u001b[1;36m1\u001b[0m\u001b[1;33m]\u001b[0m\u001b[1;33m.\u001b[0m\u001b[0mdecode\u001b[0m\u001b[1;33m(\u001b[0m\u001b[1;34m\"utf-8\"\u001b[0m\u001b[1;33m)\u001b[0m\u001b[1;33m\u001b[0m\u001b[0m\n\u001b[1;32m-> 1338\u001b[1;33m         \u001b[0mklass\u001b[0m \u001b[1;33m=\u001b[0m \u001b[0mself\u001b[0m\u001b[1;33m.\u001b[0m\u001b[0mfind_class\u001b[0m\u001b[1;33m(\u001b[0m\u001b[0mmodule\u001b[0m\u001b[1;33m,\u001b[0m \u001b[0mname\u001b[0m\u001b[1;33m)\u001b[0m\u001b[1;33m\u001b[0m\u001b[0m\n\u001b[0m\u001b[0;32m   1339\u001b[0m         \u001b[0mself\u001b[0m\u001b[1;33m.\u001b[0m\u001b[0mappend\u001b[0m\u001b[1;33m(\u001b[0m\u001b[0mklass\u001b[0m\u001b[1;33m)\u001b[0m\u001b[1;33m\u001b[0m\u001b[0m\n\u001b[0;32m   1340\u001b[0m     \u001b[0mdispatch\u001b[0m\u001b[1;33m[\u001b[0m\u001b[0mGLOBAL\u001b[0m\u001b[1;33m[\u001b[0m\u001b[1;36m0\u001b[0m\u001b[1;33m]\u001b[0m\u001b[1;33m]\u001b[0m \u001b[1;33m=\u001b[0m \u001b[0mload_global\u001b[0m\u001b[1;33m\u001b[0m\u001b[0m\n",
      "\u001b[1;32mD:\\software_setup\\conda\\lib\\pickle.py\u001b[0m in \u001b[0;36mfind_class\u001b[1;34m(self, module, name)\u001b[0m\n\u001b[0;32m   1386\u001b[0m             \u001b[1;32melif\u001b[0m \u001b[0mmodule\u001b[0m \u001b[1;32min\u001b[0m \u001b[0m_compat_pickle\u001b[0m\u001b[1;33m.\u001b[0m\u001b[0mIMPORT_MAPPING\u001b[0m\u001b[1;33m:\u001b[0m\u001b[1;33m\u001b[0m\u001b[0m\n\u001b[0;32m   1387\u001b[0m                 \u001b[0mmodule\u001b[0m \u001b[1;33m=\u001b[0m \u001b[0m_compat_pickle\u001b[0m\u001b[1;33m.\u001b[0m\u001b[0mIMPORT_MAPPING\u001b[0m\u001b[1;33m[\u001b[0m\u001b[0mmodule\u001b[0m\u001b[1;33m]\u001b[0m\u001b[1;33m\u001b[0m\u001b[0m\n\u001b[1;32m-> 1388\u001b[1;33m         \u001b[0m__import__\u001b[0m\u001b[1;33m(\u001b[0m\u001b[0mmodule\u001b[0m\u001b[1;33m,\u001b[0m \u001b[0mlevel\u001b[0m\u001b[1;33m=\u001b[0m\u001b[1;36m0\u001b[0m\u001b[1;33m)\u001b[0m\u001b[1;33m\u001b[0m\u001b[0m\n\u001b[0m\u001b[0;32m   1389\u001b[0m         \u001b[1;32mif\u001b[0m \u001b[0mself\u001b[0m\u001b[1;33m.\u001b[0m\u001b[0mproto\u001b[0m \u001b[1;33m>=\u001b[0m \u001b[1;36m4\u001b[0m\u001b[1;33m:\u001b[0m\u001b[1;33m\u001b[0m\u001b[0m\n\u001b[0;32m   1390\u001b[0m             \u001b[1;32mreturn\u001b[0m \u001b[0m_getattribute\u001b[0m\u001b[1;33m(\u001b[0m\u001b[0msys\u001b[0m\u001b[1;33m.\u001b[0m\u001b[0mmodules\u001b[0m\u001b[1;33m[\u001b[0m\u001b[0mmodule\u001b[0m\u001b[1;33m]\u001b[0m\u001b[1;33m,\u001b[0m \u001b[0mname\u001b[0m\u001b[1;33m)\u001b[0m\u001b[1;33m[\u001b[0m\u001b[1;36m0\u001b[0m\u001b[1;33m]\u001b[0m\u001b[1;33m\u001b[0m\u001b[0m\n",
      "\u001b[1;31mModuleNotFoundError\u001b[0m: No module named 'entity.cluster_result'"
     ]
    }
   ],
   "source": [
    "from sklearn.externals import joblib\n",
    "file_path = 'mlUtil_MOE/result/result_en_20190426070934.json'\n",
    "result_en = joblib.load(file_path)"
   ]
  },
  {
   "cell_type": "code",
   "execution_count": null,
   "metadata": {
    "collapsed": true
   },
   "outputs": [],
   "source": []
  }
 ],
 "metadata": {
  "kernelspec": {
   "display_name": "Python 3",
   "language": "python",
   "name": "python3"
  },
  "toc": {
   "base_numbering": 1,
   "nav_menu": {},
   "number_sections": true,
   "sideBar": true,
   "skip_h1_title": false,
   "title_cell": "Table of Contents",
   "title_sidebar": "Contents",
   "toc_cell": false,
   "toc_position": {},
   "toc_section_display": true,
   "toc_window_display": true
  },
  "varInspector": {
   "cols": {
    "lenName": 16,
    "lenType": 16,
    "lenVar": 40
   },
   "kernels_config": {
    "python": {
     "delete_cmd_postfix": "",
     "delete_cmd_prefix": "del ",
     "library": "var_list.py",
     "varRefreshCmd": "print(var_dic_list())"
    },
    "r": {
     "delete_cmd_postfix": ") ",
     "delete_cmd_prefix": "rm(",
     "library": "var_list.r",
     "varRefreshCmd": "cat(var_dic_list()) "
    }
   },
   "types_to_exclude": [
    "module",
    "function",
    "builtin_function_or_method",
    "instance",
    "_Feature"
   ],
   "window_display": false
  }
 },
 "nbformat": 4,
 "nbformat_minor": 2
}
