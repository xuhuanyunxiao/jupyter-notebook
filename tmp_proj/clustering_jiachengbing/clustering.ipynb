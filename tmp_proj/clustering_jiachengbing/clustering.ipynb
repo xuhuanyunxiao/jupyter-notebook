{
 "cells": [
  {
   "cell_type": "markdown",
   "metadata": {},
   "source": [
    "- 贾承斌\n",
    "    - 接口和定时聚类程序都试下数据"
   ]
  },
  {
   "cell_type": "markdown",
   "metadata": {},
   "source": [
    "# 基本设置"
   ]
  },
  {
   "cell_type": "code",
   "execution_count": 1,
   "metadata": {
    "ExecuteTime": {
     "end_time": "2019-05-07T10:33:57.840279Z",
     "start_time": "2019-05-07T10:33:28.471814Z"
    }
   },
   "outputs": [
    {
     "data": {
      "text/plain": [
       "'en'"
      ]
     },
     "execution_count": 1,
     "metadata": {},
     "output_type": "execute_result"
    }
   ],
   "source": [
    "import pandas as pd\n",
    "import sys\n",
    "\n",
    "import langid # 语种检测\n",
    "langid.classify(\"I do not speak english\")[0]"
   ]
  },
  {
   "cell_type": "code",
   "execution_count": 2,
   "metadata": {
    "ExecuteTime": {
     "end_time": "2019-05-07T10:33:57.852345Z",
     "start_time": "2019-05-07T10:33:57.844289Z"
    }
   },
   "outputs": [
    {
     "name": "stdout",
     "output_type": "stream",
     "text": [
      "D:\\XH\\Python_Project\\notebook\\tmp_proj\\clustering_jiachengbing\n"
     ]
    }
   ],
   "source": [
    "import os\n",
    "pwd = os.getcwd()\n",
    "print(pwd)\n",
    "sys.path.append(pwd)"
   ]
  },
  {
   "cell_type": "code",
   "execution_count": 3,
   "metadata": {
    "ExecuteTime": {
     "end_time": "2019-05-07T10:33:58.130816Z",
     "start_time": "2019-05-07T10:33:57.856324Z"
    },
    "collapsed": true
   },
   "outputs": [],
   "source": [
    "class ClusterMessageObj(object):\n",
    "    \"\"\"\n",
    "    聚类实体类\n",
    "    \"\"\"\n",
    "\n",
    "    def __init__(self, messageId=0, messageTitle='', messagePublishtime='', messageContent='', site_name=''):\n",
    "        self.messageId = messageId\n",
    "        self.messageTitle = messageTitle\n",
    "        self.messagePublishtime = messagePublishtime\n",
    "        self.messageContent = messageContent\n",
    "        self.site_name = site_name"
   ]
  },
  {
   "cell_type": "code",
   "execution_count": 4,
   "metadata": {
    "ExecuteTime": {
     "end_time": "2019-05-07T10:33:58.395952Z",
     "start_time": "2019-05-07T10:33:58.133824Z"
    },
    "collapsed": true
   },
   "outputs": [],
   "source": [
    "def parse_corpus_records(records, language_type=None):\n",
    "    data = []\n",
    "    for row in records:\n",
    "        id = row['id']\n",
    "\n",
    "        title = row['title']\n",
    "        title = title.encode('utf-8')\n",
    "\n",
    "        content = row['content']\n",
    "        content = content.encode('utf-8')\n",
    "\n",
    "        publish_time = row['publishtime'].encode('utf-8') # .strftime(\"%Y-%m-%d %H:%M:%S\")\n",
    "        site_name = row['site_name']\n",
    "        site_name = site_name.encode('utf-8')\n",
    "\n",
    "        cluster_obj = ClusterMessageObj(id, title, publish_time, content, site_name)\n",
    "\n",
    "        # 进行语言过滤\n",
    "        if language_type is not None:\n",
    "            if BaseDataView.is_valid_language(language_type, content):\n",
    "                data.append(cluster_obj)\n",
    "        else:\n",
    "            data.append(cluster_obj)\n",
    "    return data"
   ]
  },
  {
   "cell_type": "code",
   "execution_count": 5,
   "metadata": {
    "ExecuteTime": {
     "end_time": "2019-05-07T10:33:58.705505Z",
     "start_time": "2019-05-07T10:33:58.398968Z"
    }
   },
   "outputs": [
    {
     "data": {
      "text/plain": [
       "'utf-8'"
      ]
     },
     "execution_count": 5,
     "metadata": {},
     "output_type": "execute_result"
    }
   ],
   "source": [
    "sys.getdefaultencoding()"
   ]
  },
  {
   "cell_type": "code",
   "execution_count": 6,
   "metadata": {
    "ExecuteTime": {
     "end_time": "2019-05-07T10:33:59.729955Z",
     "start_time": "2019-05-07T10:33:58.709515Z"
    },
    "collapsed": true
   },
   "outputs": [],
   "source": [
    "from toolkits.nlp.langconv import *\n",
    "\n",
    "def Traditional2Simplified(sentence):\n",
    "    '''\n",
    "    将sentence中的繁体字转为简体字\n",
    "    :param sentence: 待转换的句子\n",
    "    :return: 将句子中繁体字转换为简体字之后的句子\n",
    "    '''\n",
    "    sentence = Converter('zh-hans').convert(sentence)\n",
    "    return sentence"
   ]
  },
  {
   "cell_type": "code",
   "execution_count": 7,
   "metadata": {
    "ExecuteTime": {
     "end_time": "2019-05-07T10:34:10.211877Z",
     "start_time": "2019-05-07T10:33:59.734970Z"
    },
    "collapsed": true
   },
   "outputs": [],
   "source": [
    "from sklearn import metrics\n",
    "\n",
    "def clustering_metrics(labels_pred, labels_true = None, feature = None):\n",
    "    '''\n",
    "    聚类算法结果评估\n",
    "    需要真实标签：\n",
    "        兰德指数 ARI: 输入参数没有顺序要求，ARI值的范围是[-1,1]，\n",
    "            负的结果都是较差的，说明标签是独立分布的，相似分布的ARI结果是正的，\n",
    "            1是最佳结果，说明两种标签的分布完全一致\n",
    "        互信息 AMI：输入参数没有顺序要求，最好的值为1，最差的值（与labels_true不相关），其结果为非正值\n",
    "        同质性、完整性、两者的调和平均V-measure：从0到1反应出最差到最优的表现\n",
    "        Fowlkes-Mallows指数：针对训练集和验证集数据之间求得的查全率和查准率的几何平均值\n",
    "        \n",
    "    不需要真实标签：        \n",
    "        轮廓系数：取值范围是[-1,1]，同类别样本距离越相近不同类别样本距离越远，分数越高。\n",
    "        Calinski-Harabaz Index：分数值越大则聚类效果越好        \n",
    "    '''\n",
    "    \n",
    "    if labels_true is not None:\n",
    "        print(u'兰德指数 ARI: ', metrics.adjusted_rand_score(labels_true, labels_pred))\n",
    "        print(u'互信息 AMI: ', metrics.adjusted_mutual_info_score(labels_true, labels_pred))\n",
    "        print(u'同质性、完整性、两者的调和平均V-measure: ', metrics.homogeneity_completeness_v_measure(labels_true, labels_pred))\n",
    "        print(u'Fowlkes-Mallows指数 FMI: ', metrics.fowlkes_mallows_score(labels_true, labels_pred))\n",
    "        \n",
    "    if feature is not None:\n",
    "        print(u'轮廓系数: ', metrics.silhouette_score(feature, labels_pred, metric='euclidean'))\n",
    "        print(u'Calinski-Harabaz Index: ', metrics.calinski_harabaz_score(feature, labels_pred) )"
   ]
  },
  {
   "cell_type": "code",
   "execution_count": 8,
   "metadata": {
    "ExecuteTime": {
     "end_time": "2019-05-07T10:34:10.225544Z",
     "start_time": "2019-05-07T10:34:10.214980Z"
    },
    "collapsed": true
   },
   "outputs": [],
   "source": [
    "import sys\n",
    "from datetime import datetime\n",
    "# from multiprocessing.pool import ThreadPool as Pool\n",
    "from multiprocessing import Pool\n",
    "\n",
    "def multi_process(func_name, func, param):\n",
    "    '''\n",
    "    多线程处理\n",
    "    '''\n",
    "    if 'win' in sys.platform:\n",
    "        njobs = 3 # 一半\n",
    "    elif 'linux' in sys.platform:\n",
    "        njobs = 6\n",
    "    \n",
    "    t1 = datetime.now()\n",
    "    print('starting func: %s. njobs: %s, num: %s'%(func_name, njobs, len(param)))\n",
    "    p = Pool(processes = njobs) # 创建5条进程\n",
    "    result = p.map(func,param)\n",
    "    p.close() # 关闭进程池，不再接受请求\n",
    "    p.join() # 等待所有的子进程结束\n",
    "    \n",
    "    result_list = [(p, re) for p, re in zip(param, result)]\n",
    "    \n",
    "    t2 = datetime.now()\n",
    "    elapsed_time = '%0.2f'%((t2 - t1).seconds)\n",
    "    print('end func: %s. elapsed_time: %s, num_sent: %s'%(func_name, elapsed_time, len(result_list)))\n",
    "    return result_list\n",
    "                "
   ]
  },
  {
   "cell_type": "markdown",
   "metadata": {},
   "source": [
    "# load data"
   ]
  },
  {
   "cell_type": "code",
   "execution_count": 99,
   "metadata": {
    "ExecuteTime": {
     "end_time": "2019-05-08T07:54:34.998356Z",
     "start_time": "2019-05-08T07:54:34.157121Z"
    }
   },
   "outputs": [
    {
     "name": "stdout",
     "output_type": "stream",
     "text": [
      "(3011, 15)\n",
      "Index(['site_id', 'site_name', 'title', 'publishtime', 'url', 'author',\n",
      "       'click', 'top', 'reply', 'retweet', 'keywords', 'txt_file', 'content',\n",
      "       'group_id', 'id'],\n",
      "      dtype='object')\n"
     ]
    },
    {
     "data": {
      "text/html": [
       "<div>\n",
       "<style scoped>\n",
       "    .dataframe tbody tr th:only-of-type {\n",
       "        vertical-align: middle;\n",
       "    }\n",
       "\n",
       "    .dataframe tbody tr th {\n",
       "        vertical-align: top;\n",
       "    }\n",
       "\n",
       "    .dataframe thead th {\n",
       "        text-align: right;\n",
       "    }\n",
       "</style>\n",
       "<table border=\"1\" class=\"dataframe\">\n",
       "  <thead>\n",
       "    <tr style=\"text-align: right;\">\n",
       "      <th></th>\n",
       "      <th>site_id</th>\n",
       "      <th>site_name</th>\n",
       "      <th>title</th>\n",
       "      <th>publishtime</th>\n",
       "      <th>url</th>\n",
       "      <th>author</th>\n",
       "      <th>click</th>\n",
       "      <th>top</th>\n",
       "      <th>reply</th>\n",
       "      <th>retweet</th>\n",
       "      <th>keywords</th>\n",
       "      <th>txt_file</th>\n",
       "      <th>content</th>\n",
       "      <th>group_id</th>\n",
       "      <th>id</th>\n",
       "    </tr>\n",
       "  </thead>\n",
       "  <tbody>\n",
       "    <tr>\n",
       "      <th>0</th>\n",
       "      <td>299507</td>\n",
       "      <td>华尔街日报中文网</td>\n",
       "      <td>隔夜市场回顾</td>\n",
       "      <td>2019-05-08 07:50:00.0</td>\n",
       "      <td>https://cn.wsj.com/articles/隔夜市场回顾-11557271810</td>\n",
       "      <td>NaN</td>\n",
       "      <td>0</td>\n",
       "      <td>0</td>\n",
       "      <td>0</td>\n",
       "      <td>0</td>\n",
       "      <td>cn.wsj.com</td>\n",
       "      <td>NaN</td>\n",
       "      <td>美股收盘重挫，道指跌近500点；美元基本持平；美国国债走高，受贸易紧张局势影响；油价下跌，投...</td>\n",
       "      <td>7</td>\n",
       "      <td>1</td>\n",
       "    </tr>\n",
       "  </tbody>\n",
       "</table>\n",
       "</div>"
      ],
      "text/plain": [
       "   site_id site_name   title            publishtime  \\\n",
       "0   299507  华尔街日报中文网  隔夜市场回顾  2019-05-08 07:50:00.0   \n",
       "\n",
       "                                              url  author  click  top  reply  \\\n",
       "0  https://cn.wsj.com/articles/隔夜市场回顾-11557271810     NaN      0    0      0   \n",
       "\n",
       "   retweet    keywords  txt_file  \\\n",
       "0        0  cn.wsj.com       NaN   \n",
       "\n",
       "                                             content  group_id  id  \n",
       "0  美股收盘重挫，道指跌近500点；美元基本持平；美国国债走高，受贸易紧张局势影响；油价下跌，投...         7   1  "
      ]
     },
     "execution_count": 99,
     "metadata": {},
     "output_type": "execute_result"
    }
   ],
   "source": [
    "# file_list = ['7_20190507155552.xlsx', '7_20190507161908.xlsx', '7_20190507163150.xlsx']\n",
    "# data = pd.DataFrame()\n",
    "# for filename in file_list:\n",
    "#     file_path = 'raw_data/20190507/' + filename\n",
    "#     tmp_data = pd.read_excel(file_path) # u'外媒_20190426070934.xlsx'\n",
    "#     print(filename, data.shape)\n",
    "#     data = pd.concat([data, tmp_data], axis = 0)\n",
    "\n",
    "filename = '7_20190508082141.xlsx'\n",
    "file_path = 'raw_data/20190508/' + filename\n",
    "data = pd.read_excel(file_path) # u'外媒_20190426070934.xlsx'\n",
    "\n",
    "print(data.shape)\n",
    "print(data.columns)\n",
    "data.iloc[:1, :]"
   ]
  },
  {
   "cell_type": "markdown",
   "metadata": {},
   "source": [
    "## 检测语种"
   ]
  },
  {
   "cell_type": "code",
   "execution_count": 100,
   "metadata": {
    "ExecuteTime": {
     "end_time": "2019-05-08T07:54:51.490860Z",
     "start_time": "2019-05-08T07:54:36.719585Z"
    },
    "collapsed": true
   },
   "outputs": [],
   "source": [
    "# data['language'] = data['标题'].astype('str').apply(lambda x: langid.classify(x)[0])\n",
    "data['language'] = data['title'].astype('str').apply(lambda x: langid.classify(x)[0])"
   ]
  },
  {
   "cell_type": "code",
   "execution_count": 101,
   "metadata": {
    "ExecuteTime": {
     "end_time": "2019-05-08T07:54:51.709440Z",
     "start_time": "2019-05-08T07:54:51.679359Z"
    }
   },
   "outputs": [
    {
     "name": "stdout",
     "output_type": "stream",
     "text": [
      "(3011, 16)\n"
     ]
    },
    {
     "data": {
      "text/html": [
       "<div>\n",
       "<style scoped>\n",
       "    .dataframe tbody tr th:only-of-type {\n",
       "        vertical-align: middle;\n",
       "    }\n",
       "\n",
       "    .dataframe tbody tr th {\n",
       "        vertical-align: top;\n",
       "    }\n",
       "\n",
       "    .dataframe thead th {\n",
       "        text-align: right;\n",
       "    }\n",
       "</style>\n",
       "<table border=\"1\" class=\"dataframe\">\n",
       "  <thead>\n",
       "    <tr style=\"text-align: right;\">\n",
       "      <th></th>\n",
       "      <th>site_id</th>\n",
       "      <th>site_name</th>\n",
       "      <th>title</th>\n",
       "      <th>publishtime</th>\n",
       "      <th>url</th>\n",
       "      <th>author</th>\n",
       "      <th>click</th>\n",
       "      <th>top</th>\n",
       "      <th>reply</th>\n",
       "      <th>retweet</th>\n",
       "      <th>keywords</th>\n",
       "      <th>txt_file</th>\n",
       "      <th>content</th>\n",
       "      <th>group_id</th>\n",
       "      <th>id</th>\n",
       "      <th>language</th>\n",
       "    </tr>\n",
       "  </thead>\n",
       "  <tbody>\n",
       "    <tr>\n",
       "      <th>0</th>\n",
       "      <td>299507</td>\n",
       "      <td>华尔街日报中文网</td>\n",
       "      <td>隔夜市场回顾</td>\n",
       "      <td>2019-05-08 07:50:00.0</td>\n",
       "      <td>https://cn.wsj.com/articles/隔夜市场回顾-11557271810</td>\n",
       "      <td>NaN</td>\n",
       "      <td>0</td>\n",
       "      <td>0</td>\n",
       "      <td>0</td>\n",
       "      <td>0</td>\n",
       "      <td>cn.wsj.com</td>\n",
       "      <td>NaN</td>\n",
       "      <td>美股收盘重挫，道指跌近500点；美元基本持平；美国国债走高，受贸易紧张局势影响；油价下跌，投...</td>\n",
       "      <td>7</td>\n",
       "      <td>1</td>\n",
       "      <td>zh</td>\n",
       "    </tr>\n",
       "  </tbody>\n",
       "</table>\n",
       "</div>"
      ],
      "text/plain": [
       "   site_id site_name   title            publishtime  \\\n",
       "0   299507  华尔街日报中文网  隔夜市场回顾  2019-05-08 07:50:00.0   \n",
       "\n",
       "                                              url  author  click  top  reply  \\\n",
       "0  https://cn.wsj.com/articles/隔夜市场回顾-11557271810     NaN      0    0      0   \n",
       "\n",
       "   retweet    keywords  txt_file  \\\n",
       "0        0  cn.wsj.com       NaN   \n",
       "\n",
       "                                             content  group_id  id language  \n",
       "0  美股收盘重挫，道指跌近500点；美元基本持平；美国国债走高，受贸易紧张局势影响；油价下跌，投...         7   1       zh  "
      ]
     },
     "execution_count": 101,
     "metadata": {},
     "output_type": "execute_result"
    }
   ],
   "source": [
    "print(data.shape)\n",
    "data.iloc[:1, :]"
   ]
  },
  {
   "cell_type": "code",
   "execution_count": 102,
   "metadata": {
    "ExecuteTime": {
     "end_time": "2019-05-08T07:54:51.938047Z",
     "start_time": "2019-05-08T07:54:51.931028Z"
    },
    "collapsed": true
   },
   "outputs": [],
   "source": [
    "# 繁体\n",
    "# data[data['id'] == 7914]"
   ]
  },
  {
   "cell_type": "code",
   "execution_count": 103,
   "metadata": {
    "ExecuteTime": {
     "end_time": "2019-05-08T07:54:52.200747Z",
     "start_time": "2019-05-08T07:54:52.181696Z"
    }
   },
   "outputs": [
    {
     "name": "stdout",
     "output_type": "stream",
     "text": [
      "3011\n"
     ]
    },
    {
     "data": {
      "text/plain": [
       "en    1401\n",
       "zh     819\n",
       "ja     304\n",
       "pt     223\n",
       "ar     122\n",
       "tl      26\n",
       "id      16\n",
       "it      14\n",
       "fr      13\n",
       "de      12\n",
       "es       9\n",
       "da       9\n",
       "gl       5\n",
       "xh       4\n",
       "ms       4\n",
       "br       4\n",
       "nl       3\n",
       "sw       2\n",
       "cy       2\n",
       "la       2\n",
       "ca       2\n",
       "se       1\n",
       "no       1\n",
       "fi       1\n",
       "jv       1\n",
       "sl       1\n",
       "fa       1\n",
       "zu       1\n",
       "nn       1\n",
       "et       1\n",
       "af       1\n",
       "hr       1\n",
       "oc       1\n",
       "ur       1\n",
       "rw       1\n",
       "pl       1\n",
       "Name: language, dtype: int64"
      ]
     },
     "execution_count": 103,
     "metadata": {},
     "output_type": "execute_result"
    }
   ],
   "source": [
    "print(data['language'].value_counts().sum())\n",
    "data['language'].value_counts()"
   ]
  },
  {
   "cell_type": "markdown",
   "metadata": {},
   "source": [
    "## 英文数据"
   ]
  },
  {
   "cell_type": "code",
   "execution_count": 148,
   "metadata": {
    "ExecuteTime": {
     "end_time": "2019-05-08T08:40:57.084299Z",
     "start_time": "2019-05-08T08:40:57.060233Z"
    }
   },
   "outputs": [
    {
     "name": "stdout",
     "output_type": "stream",
     "text": [
      "(1401, 5)\n"
     ]
    },
    {
     "data": {
      "text/html": [
       "<div>\n",
       "<style scoped>\n",
       "    .dataframe tbody tr th:only-of-type {\n",
       "        vertical-align: middle;\n",
       "    }\n",
       "\n",
       "    .dataframe tbody tr th {\n",
       "        vertical-align: top;\n",
       "    }\n",
       "\n",
       "    .dataframe thead th {\n",
       "        text-align: right;\n",
       "    }\n",
       "</style>\n",
       "<table border=\"1\" class=\"dataframe\">\n",
       "  <thead>\n",
       "    <tr style=\"text-align: right;\">\n",
       "      <th></th>\n",
       "      <th>id</th>\n",
       "      <th>title</th>\n",
       "      <th>content</th>\n",
       "      <th>publishtime</th>\n",
       "      <th>site_name</th>\n",
       "    </tr>\n",
       "  </thead>\n",
       "  <tbody>\n",
       "    <tr>\n",
       "      <th>18</th>\n",
       "      <td>19</td>\n",
       "      <td>Taiwan's National Security Is at Risk</td>\n",
       "      <td>Taiwan’s military must feel pressured on two f...</td>\n",
       "      <td>2019-05-08 04:55:09.0</td>\n",
       "      <td>国家利益杂志</td>\n",
       "    </tr>\n",
       "  </tbody>\n",
       "</table>\n",
       "</div>"
      ],
      "text/plain": [
       "    id                                  title  \\\n",
       "18  19  Taiwan's National Security Is at Risk   \n",
       "\n",
       "                                              content            publishtime  \\\n",
       "18  Taiwan’s military must feel pressured on two f...  2019-05-08 04:55:09.0   \n",
       "\n",
       "   site_name  \n",
       "18    国家利益杂志  "
      ]
     },
     "execution_count": 148,
     "metadata": {},
     "output_type": "execute_result"
    }
   ],
   "source": [
    "# data_en = data[data['language'] == 'en'][['id', '标题', '正文', '发布时间', '来源']]\n",
    "# data_en.columns = ['id', 'title', 'content', 'publishtime', 'site_name']\n",
    "data_en = data[data['language'] == 'en'][['id', 'title', 'content', 'publishtime', 'site_name']]\n",
    "# data_en = data_en.iloc[:1000, :]\n",
    "print(data_en.shape)\n",
    "data_en.iloc[:1, :]"
   ]
  },
  {
   "cell_type": "code",
   "execution_count": 149,
   "metadata": {
    "ExecuteTime": {
     "end_time": "2019-05-08T08:40:58.226334Z",
     "start_time": "2019-05-08T08:40:58.123061Z"
    }
   },
   "outputs": [
    {
     "name": "stdout",
     "output_type": "stream",
     "text": [
      "file_path:  mlUtil_MOE/corpus/corpus_en_7_20190508082141.json\n"
     ]
    }
   ],
   "source": [
    "file_path =  'mlUtil_MOE/corpus/corpus_en_' + filename.replace('.xlsx', '.json')\n",
    "print('file_path: ', file_path)\n",
    "with open(file_path,'w',encoding='utf-8') as json_file:\n",
    "        json.dump(data_en.to_dict('records'),json_file,ensure_ascii=False)  "
   ]
  },
  {
   "cell_type": "code",
   "execution_count": 16,
   "metadata": {
    "ExecuteTime": {
     "end_time": "2019-05-07T10:36:25.312076Z",
     "start_time": "2019-05-07T10:36:25.306562Z"
    },
    "collapsed": true
   },
   "outputs": [],
   "source": [
    "# corpus_en = parse_corpus_records(data_en.to_dict('records'), language_type=None)\n",
    "# dir(corpus_en[0])\n",
    "# corpus_en[0].messageTitle"
   ]
  },
  {
   "cell_type": "code",
   "execution_count": 17,
   "metadata": {
    "ExecuteTime": {
     "end_time": "2019-05-07T10:36:25.873377Z",
     "start_time": "2019-05-07T10:36:25.319601Z"
    },
    "collapsed": true
   },
   "outputs": [],
   "source": [
    "# from sklearn.externals import joblib\n",
    "# import pickle\n",
    "# file_path =  \"mlUtil_MOE/corpus/corpus_en_20190426070934.pkl\"\n",
    "# pickle.dump(corpus_en, file_path)\n",
    "# pipeline_train = joblib.load( \"model/previous_model/cbrc_pipeline_20181108.pkl.z\")"
   ]
  },
  {
   "cell_type": "code",
   "execution_count": 18,
   "metadata": {
    "ExecuteTime": {
     "end_time": "2019-05-07T10:36:26.640593Z",
     "start_time": "2019-05-07T10:36:25.879389Z"
    },
    "collapsed": true
   },
   "outputs": [],
   "source": [
    "# py2 与 py3 兼容\n",
    "# # 在python3中将数据格式转换成python2可读的数据格式\n",
    "# with open(file_path, 'rb') as f:\n",
    "#     w = pickle.load(f)\n",
    "# pickle.dump(w, open(file_path,\"wb\"), protocol=2)"
   ]
  },
  {
   "cell_type": "markdown",
   "metadata": {},
   "source": [
    "## 中文数据"
   ]
  },
  {
   "cell_type": "code",
   "execution_count": 132,
   "metadata": {
    "ExecuteTime": {
     "end_time": "2019-05-08T08:18:27.993706Z",
     "start_time": "2019-05-08T08:18:23.120750Z"
    }
   },
   "outputs": [
    {
     "name": "stdout",
     "output_type": "stream",
     "text": [
      "(819, 7)\n"
     ]
    },
    {
     "data": {
      "text/html": [
       "<div>\n",
       "<style scoped>\n",
       "    .dataframe tbody tr th:only-of-type {\n",
       "        vertical-align: middle;\n",
       "    }\n",
       "\n",
       "    .dataframe tbody tr th {\n",
       "        vertical-align: top;\n",
       "    }\n",
       "\n",
       "    .dataframe thead th {\n",
       "        text-align: right;\n",
       "    }\n",
       "</style>\n",
       "<table border=\"1\" class=\"dataframe\">\n",
       "  <thead>\n",
       "    <tr style=\"text-align: right;\">\n",
       "      <th></th>\n",
       "      <th>id</th>\n",
       "      <th>title_raw</th>\n",
       "      <th>content_raw</th>\n",
       "      <th>publishtime</th>\n",
       "      <th>site_name</th>\n",
       "      <th>title</th>\n",
       "      <th>content</th>\n",
       "    </tr>\n",
       "  </thead>\n",
       "  <tbody>\n",
       "    <tr>\n",
       "      <th>0</th>\n",
       "      <td>1</td>\n",
       "      <td>隔夜市场回顾</td>\n",
       "      <td>美股收盘重挫，道指跌近500点；美元基本持平；美国国债走高，受贸易紧张局势影响；油价下跌，投...</td>\n",
       "      <td>2019-05-08 07:50:00.0</td>\n",
       "      <td>华尔街日报中文网</td>\n",
       "      <td>隔夜市场回顾</td>\n",
       "      <td>美股收盘重挫，道指跌近500点；美元基本持平；美国国债走高，受贸易紧张局势影响；油价下跌，投...</td>\n",
       "    </tr>\n",
       "  </tbody>\n",
       "</table>\n",
       "</div>"
      ],
      "text/plain": [
       "   id title_raw                                        content_raw  \\\n",
       "0   1    隔夜市场回顾  美股收盘重挫，道指跌近500点；美元基本持平；美国国债走高，受贸易紧张局势影响；油价下跌，投...   \n",
       "\n",
       "             publishtime site_name   title  \\\n",
       "0  2019-05-08 07:50:00.0  华尔街日报中文网  隔夜市场回顾   \n",
       "\n",
       "                                             content  \n",
       "0  美股收盘重挫，道指跌近500点；美元基本持平；美国国债走高，受贸易紧张局势影响；油价下跌，投...  "
      ]
     },
     "execution_count": 132,
     "metadata": {},
     "output_type": "execute_result"
    }
   ],
   "source": [
    "# data_zh = data[data['language'] == 'zh'][['id', '标题', '正文', '发布时间', '来源']]\n",
    "data_zh = data[data['language'] == 'zh'][['id', 'title', 'content', 'publishtime', 'site_name']]\n",
    "data_zh.columns = ['id', 'title_raw', 'content_raw', 'publishtime', 'site_name']\n",
    "data_zh = data_zh.iloc[:1000, :]\n",
    "\n",
    "# 繁体转简体\n",
    "data_zh['title'] = data_zh['title_raw'].apply(lambda x: Traditional2Simplified(x))\n",
    "data_zh['content'] = data_zh['content_raw'].apply(lambda x: Traditional2Simplified(x))\n",
    "print(data_zh.shape)\n",
    "data_zh.iloc[:1, :]"
   ]
  },
  {
   "cell_type": "code",
   "execution_count": 133,
   "metadata": {
    "ExecuteTime": {
     "end_time": "2019-05-08T08:18:28.170173Z",
     "start_time": "2019-05-08T08:18:28.165160Z"
    },
    "collapsed": true
   },
   "outputs": [],
   "source": [
    "# data_zh.loc[7914, :]"
   ]
  },
  {
   "cell_type": "code",
   "execution_count": 134,
   "metadata": {
    "ExecuteTime": {
     "end_time": "2019-05-08T08:18:29.136742Z",
     "start_time": "2019-05-08T08:18:28.373724Z"
    }
   },
   "outputs": [
    {
     "name": "stdout",
     "output_type": "stream",
     "text": [
      "file_path:  mlUtil_MOE/corpus/corpus_zh_7_20190508082141.json\n"
     ]
    }
   ],
   "source": [
    "# file_path =  \"mlUtil_MOE/corpus/corpus_zh_20190426070934.json\"\n",
    "file_path =  'mlUtil_MOE/corpus/corpus_zh_' + filename.replace('.xlsx', '.json')\n",
    "print('file_path: ', file_path)\n",
    "data_zh.to_excel(file_path.replace('.json', '.xlsx'), index = False)\n",
    "with open(file_path,'w',encoding='utf-8') as json_file:\n",
    "        json.dump(data_zh.to_dict('records'),json_file,ensure_ascii=False)  "
   ]
  },
  {
   "cell_type": "code",
   "execution_count": 22,
   "metadata": {
    "ExecuteTime": {
     "end_time": "2019-05-07T10:37:21.091477Z",
     "start_time": "2019-05-07T10:37:21.084455Z"
    },
    "collapsed": true
   },
   "outputs": [],
   "source": [
    "# corpus_zh = parse_corpus_records(data_zh.to_dict('records'), language_type=None)\n",
    "# dir(corpus_zh[0])\n",
    "# corpus_zh[0].messageTitle.decode('utf-8')"
   ]
  },
  {
   "cell_type": "code",
   "execution_count": 23,
   "metadata": {
    "ExecuteTime": {
     "end_time": "2019-05-07T10:37:21.727060Z",
     "start_time": "2019-05-07T10:37:21.102504Z"
    },
    "collapsed": true
   },
   "outputs": [],
   "source": [
    "# from sklearn.externals import joblib\n",
    "# joblib.dump(corpus_zh, \"mlUtil_MOE/corpus/corpus_en_20190426070934.pkl.z\")"
   ]
  },
  {
   "cell_type": "markdown",
   "metadata": {},
   "source": [
    "# 定时结果解析"
   ]
  },
  {
   "cell_type": "markdown",
   "metadata": {
    "collapsed": true
   },
   "source": [
    "## 中文聚类 DBSCAN"
   ]
  },
  {
   "cell_type": "code",
   "execution_count": 135,
   "metadata": {
    "ExecuteTime": {
     "end_time": "2019-05-08T08:18:33.502083Z",
     "start_time": "2019-05-08T08:18:33.194265Z"
    }
   },
   "outputs": [
    {
     "name": "stdout",
     "output_type": "stream",
     "text": [
      "file_path:  mlUtil_MOE/result/result_zh_7_20190508082141.xlsx\n",
      "data num:  819\n",
      "data cluster num:  819\n",
      "(708, 17)\n",
      "Index(['id', 'cluster_id', 'cluster_topic', 'cluster_begin', 'cluster_end',\n",
      "       'group_id', 'cluster_member', 'language_type', 'cluster_member_count',\n",
      "       'site_count', 'is_manual', 'manual_id', 'subtopic_id', 'create_time',\n",
      "       'cluster_type', 'keyword_id', 'order_id'],\n",
      "      dtype='object')\n"
     ]
    },
    {
     "data": {
      "text/html": [
       "<div>\n",
       "<style scoped>\n",
       "    .dataframe tbody tr th:only-of-type {\n",
       "        vertical-align: middle;\n",
       "    }\n",
       "\n",
       "    .dataframe tbody tr th {\n",
       "        vertical-align: top;\n",
       "    }\n",
       "\n",
       "    .dataframe thead th {\n",
       "        text-align: right;\n",
       "    }\n",
       "</style>\n",
       "<table border=\"1\" class=\"dataframe\">\n",
       "  <thead>\n",
       "    <tr style=\"text-align: right;\">\n",
       "      <th></th>\n",
       "      <th>id</th>\n",
       "      <th>cluster_id</th>\n",
       "      <th>cluster_topic</th>\n",
       "      <th>cluster_begin</th>\n",
       "      <th>cluster_end</th>\n",
       "      <th>group_id</th>\n",
       "      <th>cluster_member</th>\n",
       "      <th>language_type</th>\n",
       "      <th>cluster_member_count</th>\n",
       "      <th>site_count</th>\n",
       "      <th>is_manual</th>\n",
       "      <th>manual_id</th>\n",
       "      <th>subtopic_id</th>\n",
       "      <th>create_time</th>\n",
       "      <th>cluster_type</th>\n",
       "      <th>keyword_id</th>\n",
       "      <th>order_id</th>\n",
       "    </tr>\n",
       "  </thead>\n",
       "  <tbody>\n",
       "    <tr>\n",
       "      <th>0</th>\n",
       "      <td>460918472</td>\n",
       "      <td>232</td>\n",
       "      <td>英业达4月营收392.09亿元 年增2.18%</td>\n",
       "      <td>2019-05-07 19:10:18.0</td>\n",
       "      <td>2019-05-07 23:30:36.0</td>\n",
       "      <td>3</td>\n",
       "      <td>2183^A2333^A2721</td>\n",
       "      <td>0</td>\n",
       "      <td>3</td>\n",
       "      <td>1</td>\n",
       "      <td>0</td>\n",
       "      <td>1</td>\n",
       "      <td>3</td>\n",
       "      <td>2019-05-08 15:31:52</td>\n",
       "      <td>0</td>\n",
       "      <td>16</td>\n",
       "      <td>1</td>\n",
       "    </tr>\n",
       "  </tbody>\n",
       "</table>\n",
       "</div>"
      ],
      "text/plain": [
       "          id  cluster_id            cluster_topic          cluster_begin  \\\n",
       "0  460918472         232  英业达4月营收392.09亿元 年增2.18%  2019-05-07 19:10:18.0   \n",
       "\n",
       "             cluster_end  group_id    cluster_member  language_type  \\\n",
       "0  2019-05-07 23:30:36.0         3  2183^A2333^A2721              0   \n",
       "\n",
       "   cluster_member_count  site_count  is_manual  manual_id  subtopic_id  \\\n",
       "0                     3           1          0          1            3   \n",
       "\n",
       "           create_time  cluster_type  keyword_id  order_id  \n",
       "0  2019-05-08 15:31:52             0          16         1  "
      ]
     },
     "execution_count": 135,
     "metadata": {},
     "output_type": "execute_result"
    }
   ],
   "source": [
    "# file_path = \"mlUtil_MOE/result/result_zh_20190426070934.xlsx\"\n",
    "file_path =  'mlUtil_MOE/result/result_zh_' + filename\n",
    "print('file_path: ', file_path)\n",
    "result_zh = pd.read_excel(file_path)\n",
    "print('data num: ', data_zh.shape[0])\n",
    "print('data cluster num: ', result_zh['cluster_member_count'].sum())\n",
    "result_zh = pd.read_excel(file_path)\n",
    "print(result_zh.shape)\n",
    "print(result_zh.columns)\n",
    "result_zh.iloc[:1, :]"
   ]
  },
  {
   "cell_type": "code",
   "execution_count": 136,
   "metadata": {
    "ExecuteTime": {
     "end_time": "2019-05-08T08:18:35.826939Z",
     "start_time": "2019-05-08T08:18:35.801838Z"
    }
   },
   "outputs": [
    {
     "name": "stdout",
     "output_type": "stream",
     "text": [
      "819\n"
     ]
    },
    {
     "data": {
      "text/html": [
       "<div>\n",
       "<style scoped>\n",
       "    .dataframe tbody tr th:only-of-type {\n",
       "        vertical-align: middle;\n",
       "    }\n",
       "\n",
       "    .dataframe tbody tr th {\n",
       "        vertical-align: top;\n",
       "    }\n",
       "\n",
       "    .dataframe thead th {\n",
       "        text-align: right;\n",
       "    }\n",
       "</style>\n",
       "<table border=\"1\" class=\"dataframe\">\n",
       "  <thead>\n",
       "    <tr style=\"text-align: right;\">\n",
       "      <th></th>\n",
       "      <th>cluster_id</th>\n",
       "      <th>cluster_member_count</th>\n",
       "    </tr>\n",
       "  </thead>\n",
       "  <tbody>\n",
       "    <tr>\n",
       "      <th>0</th>\n",
       "      <td>232</td>\n",
       "      <td>3</td>\n",
       "    </tr>\n",
       "    <tr>\n",
       "      <th>1</th>\n",
       "      <td>279</td>\n",
       "      <td>3</td>\n",
       "    </tr>\n",
       "    <tr>\n",
       "      <th>2</th>\n",
       "      <td>142</td>\n",
       "      <td>2</td>\n",
       "    </tr>\n",
       "    <tr>\n",
       "      <th>3</th>\n",
       "      <td>222</td>\n",
       "      <td>2</td>\n",
       "    </tr>\n",
       "    <tr>\n",
       "      <th>4</th>\n",
       "      <td>252</td>\n",
       "      <td>2</td>\n",
       "    </tr>\n",
       "    <tr>\n",
       "      <th>5</th>\n",
       "      <td>542</td>\n",
       "      <td>2</td>\n",
       "    </tr>\n",
       "    <tr>\n",
       "      <th>6</th>\n",
       "      <td>15</td>\n",
       "      <td>1</td>\n",
       "    </tr>\n",
       "    <tr>\n",
       "      <th>7</th>\n",
       "      <td>35</td>\n",
       "      <td>1</td>\n",
       "    </tr>\n",
       "    <tr>\n",
       "      <th>8</th>\n",
       "      <td>54</td>\n",
       "      <td>1</td>\n",
       "    </tr>\n",
       "    <tr>\n",
       "      <th>9</th>\n",
       "      <td>55</td>\n",
       "      <td>1</td>\n",
       "    </tr>\n",
       "    <tr>\n",
       "      <th>10</th>\n",
       "      <td>105</td>\n",
       "      <td>1</td>\n",
       "    </tr>\n",
       "    <tr>\n",
       "      <th>11</th>\n",
       "      <td>112</td>\n",
       "      <td>1</td>\n",
       "    </tr>\n",
       "    <tr>\n",
       "      <th>12</th>\n",
       "      <td>136</td>\n",
       "      <td>1</td>\n",
       "    </tr>\n",
       "    <tr>\n",
       "      <th>13</th>\n",
       "      <td>137</td>\n",
       "      <td>1</td>\n",
       "    </tr>\n",
       "    <tr>\n",
       "      <th>14</th>\n",
       "      <td>172</td>\n",
       "      <td>1</td>\n",
       "    </tr>\n",
       "    <tr>\n",
       "      <th>15</th>\n",
       "      <td>215</td>\n",
       "      <td>1</td>\n",
       "    </tr>\n",
       "    <tr>\n",
       "      <th>16</th>\n",
       "      <td>220</td>\n",
       "      <td>1</td>\n",
       "    </tr>\n",
       "    <tr>\n",
       "      <th>17</th>\n",
       "      <td>253</td>\n",
       "      <td>1</td>\n",
       "    </tr>\n",
       "    <tr>\n",
       "      <th>18</th>\n",
       "      <td>277</td>\n",
       "      <td>1</td>\n",
       "    </tr>\n",
       "    <tr>\n",
       "      <th>19</th>\n",
       "      <td>284</td>\n",
       "      <td>1</td>\n",
       "    </tr>\n",
       "    <tr>\n",
       "      <th>20</th>\n",
       "      <td>306</td>\n",
       "      <td>1</td>\n",
       "    </tr>\n",
       "    <tr>\n",
       "      <th>21</th>\n",
       "      <td>343</td>\n",
       "      <td>1</td>\n",
       "    </tr>\n",
       "    <tr>\n",
       "      <th>22</th>\n",
       "      <td>378</td>\n",
       "      <td>1</td>\n",
       "    </tr>\n",
       "    <tr>\n",
       "      <th>23</th>\n",
       "      <td>406</td>\n",
       "      <td>1</td>\n",
       "    </tr>\n",
       "    <tr>\n",
       "      <th>24</th>\n",
       "      <td>437</td>\n",
       "      <td>1</td>\n",
       "    </tr>\n",
       "    <tr>\n",
       "      <th>25</th>\n",
       "      <td>452</td>\n",
       "      <td>1</td>\n",
       "    </tr>\n",
       "    <tr>\n",
       "      <th>26</th>\n",
       "      <td>454</td>\n",
       "      <td>1</td>\n",
       "    </tr>\n",
       "    <tr>\n",
       "      <th>27</th>\n",
       "      <td>512</td>\n",
       "      <td>1</td>\n",
       "    </tr>\n",
       "    <tr>\n",
       "      <th>28</th>\n",
       "      <td>519</td>\n",
       "      <td>1</td>\n",
       "    </tr>\n",
       "    <tr>\n",
       "      <th>29</th>\n",
       "      <td>568</td>\n",
       "      <td>1</td>\n",
       "    </tr>\n",
       "    <tr>\n",
       "      <th>...</th>\n",
       "      <td>...</td>\n",
       "      <td>...</td>\n",
       "    </tr>\n",
       "    <tr>\n",
       "      <th>678</th>\n",
       "      <td>677</td>\n",
       "      <td>1</td>\n",
       "    </tr>\n",
       "    <tr>\n",
       "      <th>679</th>\n",
       "      <td>678</td>\n",
       "      <td>1</td>\n",
       "    </tr>\n",
       "    <tr>\n",
       "      <th>680</th>\n",
       "      <td>679</td>\n",
       "      <td>1</td>\n",
       "    </tr>\n",
       "    <tr>\n",
       "      <th>681</th>\n",
       "      <td>680</td>\n",
       "      <td>1</td>\n",
       "    </tr>\n",
       "    <tr>\n",
       "      <th>682</th>\n",
       "      <td>681</td>\n",
       "      <td>1</td>\n",
       "    </tr>\n",
       "    <tr>\n",
       "      <th>683</th>\n",
       "      <td>682</td>\n",
       "      <td>1</td>\n",
       "    </tr>\n",
       "    <tr>\n",
       "      <th>684</th>\n",
       "      <td>683</td>\n",
       "      <td>1</td>\n",
       "    </tr>\n",
       "    <tr>\n",
       "      <th>685</th>\n",
       "      <td>684</td>\n",
       "      <td>1</td>\n",
       "    </tr>\n",
       "    <tr>\n",
       "      <th>686</th>\n",
       "      <td>685</td>\n",
       "      <td>1</td>\n",
       "    </tr>\n",
       "    <tr>\n",
       "      <th>687</th>\n",
       "      <td>686</td>\n",
       "      <td>1</td>\n",
       "    </tr>\n",
       "    <tr>\n",
       "      <th>688</th>\n",
       "      <td>687</td>\n",
       "      <td>1</td>\n",
       "    </tr>\n",
       "    <tr>\n",
       "      <th>689</th>\n",
       "      <td>688</td>\n",
       "      <td>1</td>\n",
       "    </tr>\n",
       "    <tr>\n",
       "      <th>690</th>\n",
       "      <td>689</td>\n",
       "      <td>1</td>\n",
       "    </tr>\n",
       "    <tr>\n",
       "      <th>691</th>\n",
       "      <td>690</td>\n",
       "      <td>1</td>\n",
       "    </tr>\n",
       "    <tr>\n",
       "      <th>692</th>\n",
       "      <td>691</td>\n",
       "      <td>1</td>\n",
       "    </tr>\n",
       "    <tr>\n",
       "      <th>693</th>\n",
       "      <td>692</td>\n",
       "      <td>1</td>\n",
       "    </tr>\n",
       "    <tr>\n",
       "      <th>694</th>\n",
       "      <td>693</td>\n",
       "      <td>1</td>\n",
       "    </tr>\n",
       "    <tr>\n",
       "      <th>695</th>\n",
       "      <td>694</td>\n",
       "      <td>1</td>\n",
       "    </tr>\n",
       "    <tr>\n",
       "      <th>696</th>\n",
       "      <td>695</td>\n",
       "      <td>1</td>\n",
       "    </tr>\n",
       "    <tr>\n",
       "      <th>697</th>\n",
       "      <td>696</td>\n",
       "      <td>1</td>\n",
       "    </tr>\n",
       "    <tr>\n",
       "      <th>698</th>\n",
       "      <td>698</td>\n",
       "      <td>1</td>\n",
       "    </tr>\n",
       "    <tr>\n",
       "      <th>699</th>\n",
       "      <td>699</td>\n",
       "      <td>1</td>\n",
       "    </tr>\n",
       "    <tr>\n",
       "      <th>700</th>\n",
       "      <td>700</td>\n",
       "      <td>1</td>\n",
       "    </tr>\n",
       "    <tr>\n",
       "      <th>701</th>\n",
       "      <td>701</td>\n",
       "      <td>1</td>\n",
       "    </tr>\n",
       "    <tr>\n",
       "      <th>702</th>\n",
       "      <td>702</td>\n",
       "      <td>1</td>\n",
       "    </tr>\n",
       "    <tr>\n",
       "      <th>703</th>\n",
       "      <td>703</td>\n",
       "      <td>1</td>\n",
       "    </tr>\n",
       "    <tr>\n",
       "      <th>704</th>\n",
       "      <td>704</td>\n",
       "      <td>1</td>\n",
       "    </tr>\n",
       "    <tr>\n",
       "      <th>705</th>\n",
       "      <td>705</td>\n",
       "      <td>1</td>\n",
       "    </tr>\n",
       "    <tr>\n",
       "      <th>706</th>\n",
       "      <td>706</td>\n",
       "      <td>1</td>\n",
       "    </tr>\n",
       "    <tr>\n",
       "      <th>707</th>\n",
       "      <td>707</td>\n",
       "      <td>1</td>\n",
       "    </tr>\n",
       "  </tbody>\n",
       "</table>\n",
       "<p>708 rows × 2 columns</p>\n",
       "</div>"
      ],
      "text/plain": [
       "     cluster_id  cluster_member_count\n",
       "0           232                     3\n",
       "1           279                     3\n",
       "2           142                     2\n",
       "3           222                     2\n",
       "4           252                     2\n",
       "5           542                     2\n",
       "6            15                     1\n",
       "7            35                     1\n",
       "8            54                     1\n",
       "9            55                     1\n",
       "10          105                     1\n",
       "11          112                     1\n",
       "12          136                     1\n",
       "13          137                     1\n",
       "14          172                     1\n",
       "15          215                     1\n",
       "16          220                     1\n",
       "17          253                     1\n",
       "18          277                     1\n",
       "19          284                     1\n",
       "20          306                     1\n",
       "21          343                     1\n",
       "22          378                     1\n",
       "23          406                     1\n",
       "24          437                     1\n",
       "25          452                     1\n",
       "26          454                     1\n",
       "27          512                     1\n",
       "28          519                     1\n",
       "29          568                     1\n",
       "..          ...                   ...\n",
       "678         677                     1\n",
       "679         678                     1\n",
       "680         679                     1\n",
       "681         680                     1\n",
       "682         681                     1\n",
       "683         682                     1\n",
       "684         683                     1\n",
       "685         684                     1\n",
       "686         685                     1\n",
       "687         686                     1\n",
       "688         687                     1\n",
       "689         688                     1\n",
       "690         689                     1\n",
       "691         690                     1\n",
       "692         691                     1\n",
       "693         692                     1\n",
       "694         693                     1\n",
       "695         694                     1\n",
       "696         695                     1\n",
       "697         696                     1\n",
       "698         698                     1\n",
       "699         699                     1\n",
       "700         700                     1\n",
       "701         701                     1\n",
       "702         702                     1\n",
       "703         703                     1\n",
       "704         704                     1\n",
       "705         705                     1\n",
       "706         706                     1\n",
       "707         707                     1\n",
       "\n",
       "[708 rows x 2 columns]"
      ]
     },
     "execution_count": 136,
     "metadata": {},
     "output_type": "execute_result"
    }
   ],
   "source": [
    "print(result_zh['cluster_member_count'].sum())\n",
    "result_zh[['cluster_id', 'cluster_member_count']]"
   ]
  },
  {
   "cell_type": "code",
   "execution_count": 137,
   "metadata": {
    "ExecuteTime": {
     "end_time": "2019-05-08T08:18:41.575279Z",
     "start_time": "2019-05-08T08:18:38.400835Z"
    }
   },
   "outputs": [
    {
     "name": "stdout",
     "output_type": "stream",
     "text": [
      "file_path:  mlUtil_MOE/result/raw_data_result_zh_7_20190508082141.xlsx\n",
      "(819, 8)\n"
     ]
    },
    {
     "data": {
      "text/html": [
       "<div>\n",
       "<style scoped>\n",
       "    .dataframe tbody tr th:only-of-type {\n",
       "        vertical-align: middle;\n",
       "    }\n",
       "\n",
       "    .dataframe tbody tr th {\n",
       "        vertical-align: top;\n",
       "    }\n",
       "\n",
       "    .dataframe thead th {\n",
       "        text-align: right;\n",
       "    }\n",
       "</style>\n",
       "<table border=\"1\" class=\"dataframe\">\n",
       "  <thead>\n",
       "    <tr style=\"text-align: right;\">\n",
       "      <th></th>\n",
       "      <th>id</th>\n",
       "      <th>title_raw</th>\n",
       "      <th>content_raw</th>\n",
       "      <th>publishtime</th>\n",
       "      <th>site_name</th>\n",
       "      <th>title</th>\n",
       "      <th>content</th>\n",
       "      <th>cluster_id</th>\n",
       "    </tr>\n",
       "  </thead>\n",
       "  <tbody>\n",
       "    <tr>\n",
       "      <th>0</th>\n",
       "      <td>1</td>\n",
       "      <td>隔夜市场回顾</td>\n",
       "      <td>美股收盘重挫，道指跌近500点；美元基本持平；美国国债走高，受贸易紧张局势影响；油价下跌，投...</td>\n",
       "      <td>2019-05-08 07:50:00.0</td>\n",
       "      <td>华尔街日报中文网</td>\n",
       "      <td>隔夜市场回顾</td>\n",
       "      <td>美股收盘重挫，道指跌近500点；美元基本持平；美国国债走高，受贸易紧张局势影响；油价下跌，投...</td>\n",
       "      <td>0</td>\n",
       "    </tr>\n",
       "  </tbody>\n",
       "</table>\n",
       "</div>"
      ],
      "text/plain": [
       "   id title_raw                                        content_raw  \\\n",
       "0   1    隔夜市场回顾  美股收盘重挫，道指跌近500点；美元基本持平；美国国债走高，受贸易紧张局势影响；油价下跌，投...   \n",
       "\n",
       "             publishtime site_name   title  \\\n",
       "0  2019-05-08 07:50:00.0  华尔街日报中文网  隔夜市场回顾   \n",
       "\n",
       "                                             content  cluster_id  \n",
       "0  美股收盘重挫，道指跌近500点；美元基本持平；美国国债走高，受贸易紧张局势影响；油价下跌，投...           0  "
      ]
     },
     "execution_count": 137,
     "metadata": {},
     "output_type": "execute_result"
    }
   ],
   "source": [
    "data_zh['cluster_id'] = -1\n",
    "for index in result_zh.index:\n",
    "    cluster_member_list = result_zh.loc[index, 'cluster_member'].split('^A')\n",
    "    cluster_id = result_zh.loc[index, 'cluster_id']\n",
    "#     cluster_topic = result_zh.loc[index, 'cluster_topic']\n",
    "    for c_id in cluster_member_list:\n",
    "        data_zh.loc[data_zh['id'] == int(c_id),'cluster_id'] = cluster_id\n",
    "#         data_zh.loc[data_zh['id'] == int(c_id),'cluster_topic'] = cluster_topic\n",
    "        \n",
    "# data_zh = pd.merge(data_zh, result_zh.loc[:, ['cluster_id', 'cluster_topic', \n",
    "#                                               'cluster_member_count','site_count']], \n",
    "#                    on = 'cluster_id', how  = 'left')\n",
    "# file_path = \"mlUtil_MOE/result/raw_data_result_zh_20190426070934.xlsx\"\n",
    "file_path =  'mlUtil_MOE/result/raw_data_result_zh_' + filename\n",
    "print('file_path: ', file_path)\n",
    "data_zh.to_excel(file_path, index = False)\n",
    "print(data_zh.shape)\n",
    "data_zh.iloc[:1, :]"
   ]
  },
  {
   "cell_type": "code",
   "execution_count": 139,
   "metadata": {
    "ExecuteTime": {
     "end_time": "2019-05-08T08:25:24.380542Z",
     "start_time": "2019-05-08T08:25:23.695721Z"
    }
   },
   "outputs": [
    {
     "data": {
      "text/html": [
       "<div>\n",
       "<style scoped>\n",
       "    .dataframe tbody tr th:only-of-type {\n",
       "        vertical-align: middle;\n",
       "    }\n",
       "\n",
       "    .dataframe tbody tr th {\n",
       "        vertical-align: top;\n",
       "    }\n",
       "\n",
       "    .dataframe thead th {\n",
       "        text-align: right;\n",
       "    }\n",
       "</style>\n",
       "<table border=\"1\" class=\"dataframe\">\n",
       "  <thead>\n",
       "    <tr style=\"text-align: right;\">\n",
       "      <th></th>\n",
       "      <th>id</th>\n",
       "      <th>title_raw</th>\n",
       "      <th>content_raw</th>\n",
       "      <th>publishtime</th>\n",
       "      <th>site_name</th>\n",
       "      <th>title</th>\n",
       "      <th>content</th>\n",
       "      <th>cluster_id</th>\n",
       "      <th>cluster_topic</th>\n",
       "      <th>cluster_member_count</th>\n",
       "      <th>site_count</th>\n",
       "    </tr>\n",
       "  </thead>\n",
       "  <tbody>\n",
       "    <tr>\n",
       "      <th>0</th>\n",
       "      <td>1</td>\n",
       "      <td>隔夜市场回顾</td>\n",
       "      <td>美股收盘重挫，道指跌近500点；美元基本持平；美国国债走高，受贸易紧张局势影响；油价下跌，投...</td>\n",
       "      <td>2019-05-08 07:50:00.0</td>\n",
       "      <td>华尔街日报中文网</td>\n",
       "      <td>隔夜市场回顾</td>\n",
       "      <td>美股收盘重挫，道指跌近500点；美元基本持平；美国国债走高，受贸易紧张局势影响；油价下跌，投...</td>\n",
       "      <td>0</td>\n",
       "      <td>隔夜市场回顾</td>\n",
       "      <td>1</td>\n",
       "      <td>1</td>\n",
       "    </tr>\n",
       "    <tr>\n",
       "      <th>1</th>\n",
       "      <td>2</td>\n",
       "      <td>TikTok为何让年轻人上瘾？</td>\n",
       "      <td>23岁的霍莉‧格蕾丝(Holly Grace)是田纳西州纳什维尔一名全职护士和业余歌手，当她...</td>\n",
       "      <td>2019-05-07 16:20:00.0</td>\n",
       "      <td>华尔街日报中文网</td>\n",
       "      <td>TikTok为何让年轻人上瘾？</td>\n",
       "      <td>23岁的霍莉‧格蕾丝(Holly Grace)是田纳西州纳什维尔一名全职护士和业馀歌手，当她...</td>\n",
       "      <td>1</td>\n",
       "      <td>TikTok为何让年轻人上瘾？</td>\n",
       "      <td>1</td>\n",
       "      <td>1</td>\n",
       "    </tr>\n",
       "    <tr>\n",
       "      <th>2</th>\n",
       "      <td>3</td>\n",
       "      <td>Facebook可将用户群组变成金矿</td>\n",
       "      <td>群组的意义对Facebook (FB)用户来说不言而喻，但对净利润并非如此。改变这点可能打开...</td>\n",
       "      <td>2019-05-08 08:05:00.0</td>\n",
       "      <td>华尔街日报中文网</td>\n",
       "      <td>Facebook可将用户群组变成金矿</td>\n",
       "      <td>群组的意义对Facebook (FB)用户来说不言而喻，但对净利润并非如此。改变这点可能打开...</td>\n",
       "      <td>2</td>\n",
       "      <td>Facebook可将用户群组变成金矿</td>\n",
       "      <td>1</td>\n",
       "      <td>1</td>\n",
       "    </tr>\n",
       "    <tr>\n",
       "      <th>3</th>\n",
       "      <td>4</td>\n",
       "      <td>贸易紧张局势加剧拖累美股重挫</td>\n",
       "      <td>美股跌势周二加剧，道琼斯指数下跌逾450点，投资者为美国越来越有可能在本周晚些时候提高对华关...</td>\n",
       "      <td>2019-05-08 07:55:00.0</td>\n",
       "      <td>华尔街日报中文网</td>\n",
       "      <td>贸易紧张局势加剧拖累美股重挫</td>\n",
       "      <td>美股跌势周二加剧，道琼斯指数下跌逾450点，投资者为美国越来越有可能在本周晚些时候提高对华关...</td>\n",
       "      <td>3</td>\n",
       "      <td>贸易紧张局势加剧拖累美股重挫</td>\n",
       "      <td>1</td>\n",
       "      <td>1</td>\n",
       "    </tr>\n",
       "    <tr>\n",
       "      <th>4</th>\n",
       "      <td>5</td>\n",
       "      <td>中国同意恢复与美国的贸易谈判</td>\n",
       "      <td>中国将派遣高级贸易特使前往华盛顿，恢复谈判，应对中国政府回避的美方要求，并将处理美国总统特朗...</td>\n",
       "      <td>2019-05-08 07:30:00.0</td>\n",
       "      <td>华尔街日报中文网</td>\n",
       "      <td>中国同意恢复与美国的贸易谈判</td>\n",
       "      <td>中国将派遣高级贸易特使前往华盛顿，恢复谈判，应对中国政府回避的美方要求，并将处理美国总统特朗...</td>\n",
       "      <td>4</td>\n",
       "      <td>中国同意恢复与美国的贸易谈判</td>\n",
       "      <td>1</td>\n",
       "      <td>1</td>\n",
       "    </tr>\n",
       "  </tbody>\n",
       "</table>\n",
       "</div>"
      ],
      "text/plain": [
       "   id           title_raw                                        content_raw  \\\n",
       "0   1              隔夜市场回顾  美股收盘重挫，道指跌近500点；美元基本持平；美国国债走高，受贸易紧张局势影响；油价下跌，投...   \n",
       "1   2     TikTok为何让年轻人上瘾？  23岁的霍莉‧格蕾丝(Holly Grace)是田纳西州纳什维尔一名全职护士和业余歌手，当她...   \n",
       "2   3  Facebook可将用户群组变成金矿  群组的意义对Facebook (FB)用户来说不言而喻，但对净利润并非如此。改变这点可能打开...   \n",
       "3   4      贸易紧张局势加剧拖累美股重挫  美股跌势周二加剧，道琼斯指数下跌逾450点，投资者为美国越来越有可能在本周晚些时候提高对华关...   \n",
       "4   5      中国同意恢复与美国的贸易谈判  中国将派遣高级贸易特使前往华盛顿，恢复谈判，应对中国政府回避的美方要求，并将处理美国总统特朗...   \n",
       "\n",
       "             publishtime site_name               title  \\\n",
       "0  2019-05-08 07:50:00.0  华尔街日报中文网              隔夜市场回顾   \n",
       "1  2019-05-07 16:20:00.0  华尔街日报中文网     TikTok为何让年轻人上瘾？   \n",
       "2  2019-05-08 08:05:00.0  华尔街日报中文网  Facebook可将用户群组变成金矿   \n",
       "3  2019-05-08 07:55:00.0  华尔街日报中文网      贸易紧张局势加剧拖累美股重挫   \n",
       "4  2019-05-08 07:30:00.0  华尔街日报中文网      中国同意恢复与美国的贸易谈判   \n",
       "\n",
       "                                             content  cluster_id  \\\n",
       "0  美股收盘重挫，道指跌近500点；美元基本持平；美国国债走高，受贸易紧张局势影响；油价下跌，投...           0   \n",
       "1  23岁的霍莉‧格蕾丝(Holly Grace)是田纳西州纳什维尔一名全职护士和业馀歌手，当她...           1   \n",
       "2  群组的意义对Facebook (FB)用户来说不言而喻，但对净利润并非如此。改变这点可能打开...           2   \n",
       "3  美股跌势周二加剧，道琼斯指数下跌逾450点，投资者为美国越来越有可能在本周晚些时候提高对华关...           3   \n",
       "4  中国将派遣高级贸易特使前往华盛顿，恢复谈判，应对中国政府回避的美方要求，并将处理美国总统特朗...           4   \n",
       "\n",
       "        cluster_topic  cluster_member_count  site_count  \n",
       "0              隔夜市场回顾                     1           1  \n",
       "1     TikTok为何让年轻人上瘾？                     1           1  \n",
       "2  Facebook可将用户群组变成金矿                     1           1  \n",
       "3      贸易紧张局势加剧拖累美股重挫                     1           1  \n",
       "4      中国同意恢复与美国的贸易谈判                     1           1  "
      ]
     },
     "execution_count": 139,
     "metadata": {},
     "output_type": "execute_result"
    }
   ],
   "source": [
    "combined_zh = pd.merge(data_zh, result_zh.loc[:, ['cluster_id', 'cluster_topic', \n",
    "                                              'cluster_member_count','site_count']], \n",
    "                   on = 'cluster_id', how  = 'left')\n",
    "\n",
    "file_path =  'mlUtil_MOE/result/combined_zh_' + filename\n",
    "combined_zh.to_excel(file_path, index = False)\n",
    "\n",
    "combined_zh.head()"
   ]
  },
  {
   "cell_type": "code",
   "execution_count": 131,
   "metadata": {
    "ExecuteTime": {
     "end_time": "2019-05-08T08:14:10.843291Z",
     "start_time": "2019-05-08T08:14:10.830290Z"
    }
   },
   "outputs": [
    {
     "data": {
      "text/plain": [
       "587    8\n",
       "255    6\n",
       "124    5\n",
       "319    4\n",
       "279    3\n",
       "232    3\n",
       "396    3\n",
       "225    3\n",
       "151    3\n",
       "574    3\n",
       "243    3\n",
       "251    3\n",
       "399    3\n",
       "315    3\n",
       "534    3\n",
       "23     3\n",
       "633    2\n",
       "469    2\n",
       "78     2\n",
       "66     2\n",
       "281    2\n",
       "69     2\n",
       "156    2\n",
       "388    2\n",
       "644    2\n",
       "646    2\n",
       "542    2\n",
       "289    2\n",
       "382    2\n",
       "222    2\n",
       "      ..\n",
       "443    1\n",
       "442    1\n",
       "441    1\n",
       "440    1\n",
       "438    1\n",
       "437    1\n",
       "436    1\n",
       "434    1\n",
       "455    1\n",
       "458    1\n",
       "479    1\n",
       "460    1\n",
       "478    1\n",
       "477    1\n",
       "476    1\n",
       "475    1\n",
       "474    1\n",
       "473    1\n",
       "472    1\n",
       "471    1\n",
       "470    1\n",
       "468    1\n",
       "467    1\n",
       "466    1\n",
       "465    1\n",
       "464    1\n",
       "463    1\n",
       "462    1\n",
       "461    1\n",
       "0      1\n",
       "Name: cluster_id, Length: 708, dtype: int64"
      ]
     },
     "execution_count": 131,
     "metadata": {},
     "output_type": "execute_result"
    }
   ],
   "source": [
    "data_zh['cluster_id'].value_counts()#.count()"
   ]
  },
  {
   "cell_type": "code",
   "execution_count": 38,
   "metadata": {
    "ExecuteTime": {
     "end_time": "2019-05-07T10:42:25.565379Z",
     "start_time": "2019-05-07T10:42:25.561401Z"
    },
    "collapsed": true
   },
   "outputs": [],
   "source": [
    "# result_zh.loc[0, 'cluster_member'].split('^A')"
   ]
  },
  {
   "cell_type": "code",
   "execution_count": 39,
   "metadata": {
    "ExecuteTime": {
     "end_time": "2019-05-07T10:42:26.029289Z",
     "start_time": "2019-05-07T10:42:26.024276Z"
    },
    "collapsed": true
   },
   "outputs": [],
   "source": [
    "# data_zh['cluster_id'] = -1\n",
    "# data_zh.loc[data_zh['id'] == int('551'),'cluster_id'] = 1\n",
    "# data_zh[data_zh['id'] == int('551')]"
   ]
  },
  {
   "cell_type": "markdown",
   "metadata": {},
   "source": [
    "## 英文聚类"
   ]
  },
  {
   "cell_type": "code",
   "execution_count": 159,
   "metadata": {
    "ExecuteTime": {
     "end_time": "2019-05-08T08:57:12.891735Z",
     "start_time": "2019-05-08T08:57:12.805506Z"
    }
   },
   "outputs": [
    {
     "name": "stdout",
     "output_type": "stream",
     "text": [
      "file_path:  mlUtil_MOE/result/result_en_7_20190508082141.xlsx\n",
      "data num:  272\n",
      "data cluster num:  939\n",
      "(272, 17)\n"
     ]
    },
    {
     "data": {
      "text/html": [
       "<div>\n",
       "<style scoped>\n",
       "    .dataframe tbody tr th:only-of-type {\n",
       "        vertical-align: middle;\n",
       "    }\n",
       "\n",
       "    .dataframe tbody tr th {\n",
       "        vertical-align: top;\n",
       "    }\n",
       "\n",
       "    .dataframe thead th {\n",
       "        text-align: right;\n",
       "    }\n",
       "</style>\n",
       "<table border=\"1\" class=\"dataframe\">\n",
       "  <thead>\n",
       "    <tr style=\"text-align: right;\">\n",
       "      <th></th>\n",
       "      <th>id</th>\n",
       "      <th>cluster_id</th>\n",
       "      <th>cluster_topic</th>\n",
       "      <th>cluster_begin</th>\n",
       "      <th>cluster_end</th>\n",
       "      <th>cluster_member_count</th>\n",
       "      <th>site_count</th>\n",
       "      <th>cluster_type</th>\n",
       "      <th>language_type</th>\n",
       "      <th>group_id</th>\n",
       "      <th>is_manual</th>\n",
       "      <th>manual_id</th>\n",
       "      <th>subtopic_id</th>\n",
       "      <th>create_time</th>\n",
       "      <th>cluster_member</th>\n",
       "      <th>keyword_id</th>\n",
       "      <th>order_id</th>\n",
       "    </tr>\n",
       "  </thead>\n",
       "  <tbody>\n",
       "    <tr>\n",
       "      <th>0</th>\n",
       "      <td>126286511</td>\n",
       "      <td>30</td>\n",
       "      <td>Teachers Can Eat for FREE at Chipotle Today. H...</td>\n",
       "      <td>2019-05-07 16:09:00.0</td>\n",
       "      <td>2019-05-08 03:48:22.0</td>\n",
       "      <td>4</td>\n",
       "      <td>3</td>\n",
       "      <td>1</td>\n",
       "      <td>1</td>\n",
       "      <td>3</td>\n",
       "      <td>0</td>\n",
       "      <td>2</td>\n",
       "      <td>3</td>\n",
       "      <td>2019-05-08 15:38:44</td>\n",
       "      <td>352^A82^A124^A214</td>\n",
       "      <td>16</td>\n",
       "      <td>1</td>\n",
       "    </tr>\n",
       "  </tbody>\n",
       "</table>\n",
       "</div>"
      ],
      "text/plain": [
       "          id  cluster_id                                      cluster_topic  \\\n",
       "0  126286511          30  Teachers Can Eat for FREE at Chipotle Today. H...   \n",
       "\n",
       "           cluster_begin            cluster_end  cluster_member_count  \\\n",
       "0  2019-05-07 16:09:00.0  2019-05-08 03:48:22.0                     4   \n",
       "\n",
       "   site_count  cluster_type  language_type  group_id  is_manual  manual_id  \\\n",
       "0           3             1              1         3          0          2   \n",
       "\n",
       "   subtopic_id          create_time     cluster_member  keyword_id  order_id  \n",
       "0            3  2019-05-08 15:38:44  352^A82^A124^A214          16         1  "
      ]
     },
     "execution_count": 159,
     "metadata": {},
     "output_type": "execute_result"
    }
   ],
   "source": [
    "# file_path = \"mlUtil_MOE/result/result_en_20190426070934.xlsx\"\n",
    "file_path =  'mlUtil_MOE/result/result_en_' + filename\n",
    "print('file_path: ', file_path)\n",
    "result_en_1 = pd.read_excel(file_path)\n",
    "print('data num: ', result_en_1.shape[0])\n",
    "print('data cluster num: ', result_en_1['cluster_member_count'].sum())\n",
    "print(result_en_1.shape)\n",
    "result_en_1.iloc[:1, :]"
   ]
  },
  {
   "cell_type": "code",
   "execution_count": 152,
   "metadata": {
    "ExecuteTime": {
     "end_time": "2019-05-08T08:43:02.654195Z",
     "start_time": "2019-05-08T08:43:02.532873Z"
    }
   },
   "outputs": [
    {
     "name": "stdout",
     "output_type": "stream",
     "text": [
      "file_path:  mlUtil_MOE/result/result_en_7_20190508082141_sub.xlsx\n",
      "data cluster num:  939\n",
      "(544, 15)\n",
      "Index(['cluster_id', 'cluster_topic', 'cluster_begin', 'cluster_end',\n",
      "       'cluster_member', 'cluster_member_count', 'site_count',\n",
      "       'cluster_result_id', 'cluster_type', 'language_type', 'group_id',\n",
      "       'is_manual', 'manual_id', 'subtopic_id', 'create_time'],\n",
      "      dtype='object')\n"
     ]
    },
    {
     "data": {
      "text/html": [
       "<div>\n",
       "<style scoped>\n",
       "    .dataframe tbody tr th:only-of-type {\n",
       "        vertical-align: middle;\n",
       "    }\n",
       "\n",
       "    .dataframe tbody tr th {\n",
       "        vertical-align: top;\n",
       "    }\n",
       "\n",
       "    .dataframe thead th {\n",
       "        text-align: right;\n",
       "    }\n",
       "</style>\n",
       "<table border=\"1\" class=\"dataframe\">\n",
       "  <thead>\n",
       "    <tr style=\"text-align: right;\">\n",
       "      <th></th>\n",
       "      <th>cluster_id</th>\n",
       "      <th>cluster_topic</th>\n",
       "      <th>cluster_begin</th>\n",
       "      <th>cluster_end</th>\n",
       "      <th>cluster_member</th>\n",
       "      <th>cluster_member_count</th>\n",
       "      <th>site_count</th>\n",
       "      <th>cluster_result_id</th>\n",
       "      <th>cluster_type</th>\n",
       "      <th>language_type</th>\n",
       "      <th>group_id</th>\n",
       "      <th>is_manual</th>\n",
       "      <th>manual_id</th>\n",
       "      <th>subtopic_id</th>\n",
       "      <th>create_time</th>\n",
       "    </tr>\n",
       "  </thead>\n",
       "  <tbody>\n",
       "    <tr>\n",
       "      <th>0</th>\n",
       "      <td>49</td>\n",
       "      <td>2020 Dems take to Twitter to celebrate Teacher...</td>\n",
       "      <td>2019-05-08 03:48:22.0</td>\n",
       "      <td>2019-05-08 03:48:22.0</td>\n",
       "      <td>352</td>\n",
       "      <td>1</td>\n",
       "      <td>1</td>\n",
       "      <td>126286511</td>\n",
       "      <td>1</td>\n",
       "      <td>1</td>\n",
       "      <td>3</td>\n",
       "      <td>0</td>\n",
       "      <td>2</td>\n",
       "      <td>3</td>\n",
       "      <td>2019-05-08 15:38:44</td>\n",
       "    </tr>\n",
       "  </tbody>\n",
       "</table>\n",
       "</div>"
      ],
      "text/plain": [
       "   cluster_id                                      cluster_topic  \\\n",
       "0          49  2020 Dems take to Twitter to celebrate Teacher...   \n",
       "\n",
       "           cluster_begin            cluster_end cluster_member  \\\n",
       "0  2019-05-08 03:48:22.0  2019-05-08 03:48:22.0            352   \n",
       "\n",
       "   cluster_member_count  site_count  cluster_result_id  cluster_type  \\\n",
       "0                     1           1          126286511             1   \n",
       "\n",
       "   language_type  group_id  is_manual  manual_id  subtopic_id  \\\n",
       "0              1         3          0          2            3   \n",
       "\n",
       "           create_time  \n",
       "0  2019-05-08 15:38:44  "
      ]
     },
     "execution_count": 152,
     "metadata": {},
     "output_type": "execute_result"
    }
   ],
   "source": [
    "# file_path = \"mlUtil_MOE/result/result_en_20190426070934_sub.xlsx\"\n",
    "file_path =  'mlUtil_MOE/result/result_en_' + filename.replace('.xlsx', '_sub.xlsx')\n",
    "print('file_path: ', file_path)\n",
    "result_en = pd.read_excel(file_path)\n",
    "print('data cluster num: ', result_en['cluster_member_count'].sum())\n",
    "print(result_en.shape)\n",
    "print(result_en.columns)\n",
    "result_en.iloc[:1, :]"
   ]
  },
  {
   "cell_type": "code",
   "execution_count": null,
   "metadata": {
    "collapsed": true
   },
   "outputs": [],
   "source": [
    "for index in result_en.index:\n",
    "    cluster_member_list = result_en.loc[index, 'cluster_member'].split('^A')\n",
    "    for c_id in cluster_member_list:"
   ]
  },
  {
   "cell_type": "code",
   "execution_count": 157,
   "metadata": {
    "ExecuteTime": {
     "end_time": "2019-05-08T08:53:24.842052Z",
     "start_time": "2019-05-08T08:53:09.394982Z"
    }
   },
   "outputs": [
    {
     "name": "stdout",
     "output_type": "stream",
     "text": [
      "file_path:  mlUtil_MOE/result/raw_data_result_en_7_20190508082141.xlsx\n",
      "(924, 10)\n"
     ]
    },
    {
     "data": {
      "text/html": [
       "<div>\n",
       "<style scoped>\n",
       "    .dataframe tbody tr th:only-of-type {\n",
       "        vertical-align: middle;\n",
       "    }\n",
       "\n",
       "    .dataframe tbody tr th {\n",
       "        vertical-align: top;\n",
       "    }\n",
       "\n",
       "    .dataframe thead th {\n",
       "        text-align: right;\n",
       "    }\n",
       "</style>\n",
       "<table border=\"1\" class=\"dataframe\">\n",
       "  <thead>\n",
       "    <tr style=\"text-align: right;\">\n",
       "      <th></th>\n",
       "      <th>id</th>\n",
       "      <th>title</th>\n",
       "      <th>content</th>\n",
       "      <th>publishtime</th>\n",
       "      <th>site_name</th>\n",
       "      <th>cluster_id</th>\n",
       "      <th>sub_cluster_id</th>\n",
       "      <th>sub_cluster_member_count</th>\n",
       "      <th>sub_site_count</th>\n",
       "      <th>sub_cluster_topic</th>\n",
       "    </tr>\n",
       "  </thead>\n",
       "  <tbody>\n",
       "    <tr>\n",
       "      <th>18</th>\n",
       "      <td>19</td>\n",
       "      <td>Taiwan's National Security Is at Risk</td>\n",
       "      <td>Taiwan’s military must feel pressured on two f...</td>\n",
       "      <td>2019-05-08 04:55:09.0</td>\n",
       "      <td>国家利益杂志</td>\n",
       "      <td>932226311</td>\n",
       "      <td>492</td>\n",
       "      <td>2.0</td>\n",
       "      <td>2.0</td>\n",
       "      <td>Will Xi Jinping Blockade Taiwan?(taiwan/blocka...</td>\n",
       "    </tr>\n",
       "  </tbody>\n",
       "</table>\n",
       "</div>"
      ],
      "text/plain": [
       "    id                                  title  \\\n",
       "18  19  Taiwan's National Security Is at Risk   \n",
       "\n",
       "                                              content            publishtime  \\\n",
       "18  Taiwan’s military must feel pressured on two f...  2019-05-08 04:55:09.0   \n",
       "\n",
       "   site_name  cluster_id  sub_cluster_id  sub_cluster_member_count  \\\n",
       "18    国家利益杂志   932226311             492                       2.0   \n",
       "\n",
       "    sub_site_count                                  sub_cluster_topic  \n",
       "18             2.0  Will Xi Jinping Blockade Taiwan?(taiwan/blocka...  "
      ]
     },
     "execution_count": 157,
     "metadata": {},
     "output_type": "execute_result"
    }
   ],
   "source": [
    "data_en['cluster_id'] = -1\n",
    "data_en['sub_cluster_id'] = -1\n",
    "for index in result_en.index:\n",
    "    cluster_member_list = result_en.loc[index, 'cluster_member'].split('^A')\n",
    "    cluster_id = result_en.loc[index, 'cluster_result_id']\n",
    "    sub_cluster_id = result_en.loc[index, 'cluster_id']\n",
    "    sub_cluster_topic = result_en.loc[index, 'cluster_topic']\n",
    "    sub_cluster_member_count = result_en.loc[index, 'cluster_member_count']\n",
    "    sub_site_count = result_en.loc[index, 'site_count']\n",
    "    for c_id in cluster_member_list:\n",
    "        data_en.loc[data_en['id'] == int(c_id),'cluster_id'] = cluster_id        \n",
    "        data_en.loc[data_en['id'] == int(c_id),'sub_cluster_id'] = sub_cluster_id\n",
    "        data_en.loc[data_en['id'] == int(c_id),'sub_cluster_topic'] = sub_cluster_topic\n",
    "        data_en.loc[data_en['id'] == int(c_id),'sub_cluster_member_count'] = sub_cluster_member_count\n",
    "        data_en.loc[data_en['id'] == int(c_id),'sub_site_count'] = sub_site_count\n",
    "        \n",
    "data_en = data_en[data_en['cluster_id'] != -1]\n",
    "# data_en = pd.merge(data_en, result_en_1.loc[:, ['id', 'cluster_topic']], how = 'left', \n",
    "#                                        left_on = 'cluster_id', right_on = 'id')\n",
    "# file_path = \"mlUtil_MOE/result/raw_data_result_en_20190426070934.xlsx\"\n",
    "file_path =  'mlUtil_MOE/result/raw_data_result_en_' + filename\n",
    "print('file_path: ', file_path)\n",
    "data_en.to_excel(file_path, index = False)\n",
    "print(data_en.shape)\n",
    "data_en.iloc[:1, :]"
   ]
  },
  {
   "cell_type": "code",
   "execution_count": 162,
   "metadata": {
    "ExecuteTime": {
     "end_time": "2019-05-08T08:58:23.377455Z",
     "start_time": "2019-05-08T08:58:22.430966Z"
    }
   },
   "outputs": [
    {
     "data": {
      "text/html": [
       "<div>\n",
       "<style scoped>\n",
       "    .dataframe tbody tr th:only-of-type {\n",
       "        vertical-align: middle;\n",
       "    }\n",
       "\n",
       "    .dataframe tbody tr th {\n",
       "        vertical-align: top;\n",
       "    }\n",
       "\n",
       "    .dataframe thead th {\n",
       "        text-align: right;\n",
       "    }\n",
       "</style>\n",
       "<table border=\"1\" class=\"dataframe\">\n",
       "  <thead>\n",
       "    <tr style=\"text-align: right;\">\n",
       "      <th></th>\n",
       "      <th>id_x</th>\n",
       "      <th>title</th>\n",
       "      <th>content</th>\n",
       "      <th>publishtime</th>\n",
       "      <th>site_name</th>\n",
       "      <th>cluster_id</th>\n",
       "      <th>sub_cluster_id</th>\n",
       "      <th>sub_cluster_member_count</th>\n",
       "      <th>sub_site_count</th>\n",
       "      <th>sub_cluster_topic</th>\n",
       "      <th>id_y</th>\n",
       "      <th>cluster_topic</th>\n",
       "      <th>cluster_member_count</th>\n",
       "      <th>site_count</th>\n",
       "    </tr>\n",
       "  </thead>\n",
       "  <tbody>\n",
       "    <tr>\n",
       "      <th>0</th>\n",
       "      <td>19</td>\n",
       "      <td>Taiwan's National Security Is at Risk</td>\n",
       "      <td>Taiwan’s military must feel pressured on two f...</td>\n",
       "      <td>2019-05-08 04:55:09.0</td>\n",
       "      <td>国家利益杂志</td>\n",
       "      <td>932226311</td>\n",
       "      <td>492</td>\n",
       "      <td>2.0</td>\n",
       "      <td>2.0</td>\n",
       "      <td>Will Xi Jinping Blockade Taiwan?(taiwan/blocka...</td>\n",
       "      <td>932226311</td>\n",
       "      <td>Will Xi Jinping Blockade Taiwan?(taiwan/jinpin...</td>\n",
       "      <td>2</td>\n",
       "      <td>2</td>\n",
       "    </tr>\n",
       "    <tr>\n",
       "      <th>1</th>\n",
       "      <td>20</td>\n",
       "      <td>McConnell Says 'Case Closed,' But is It?</td>\n",
       "      <td>The two-word Republican mantra has changed fro...</td>\n",
       "      <td>2019-05-08 05:33:46.0</td>\n",
       "      <td>国家利益杂志</td>\n",
       "      <td>1844525250</td>\n",
       "      <td>432</td>\n",
       "      <td>8.0</td>\n",
       "      <td>5.0</td>\n",
       "      <td>Schumer: McConnell trying to 'whitewash' Muell...</td>\n",
       "      <td>1844525250</td>\n",
       "      <td>Schumer: McConnell trying to 'whitewash' Muell...</td>\n",
       "      <td>9</td>\n",
       "      <td>5</td>\n",
       "    </tr>\n",
       "    <tr>\n",
       "      <th>2</th>\n",
       "      <td>21</td>\n",
       "      <td>Could 1989 Have Led to Democracy in China?</td>\n",
       "      <td>There are two great “what if” questions in mod...</td>\n",
       "      <td>2019-05-08 05:35:04.0</td>\n",
       "      <td>国家利益杂志</td>\n",
       "      <td>1857878505</td>\n",
       "      <td>485</td>\n",
       "      <td>2.0</td>\n",
       "      <td>2.0</td>\n",
       "      <td>Could 1989 Have Led to Democracy in China?(chi...</td>\n",
       "      <td>1857878505</td>\n",
       "      <td>Could 1989 Have Led to Democracy in China?(chi...</td>\n",
       "      <td>4</td>\n",
       "      <td>4</td>\n",
       "    </tr>\n",
       "    <tr>\n",
       "      <th>3</th>\n",
       "      <td>22</td>\n",
       "      <td>Diplomacy Is the Best Way Forward with Iran</td>\n",
       "      <td>Editor’s Note: This statement was released tod...</td>\n",
       "      <td>2019-05-08 05:49:50.0</td>\n",
       "      <td>国家利益杂志</td>\n",
       "      <td>90215590</td>\n",
       "      <td>408</td>\n",
       "      <td>4.0</td>\n",
       "      <td>4.0</td>\n",
       "      <td>Iran may partially revive nuclear program(iran...</td>\n",
       "      <td>90215590</td>\n",
       "      <td>Secretary of State Pompeo Makes Surprise Trip ...</td>\n",
       "      <td>12</td>\n",
       "      <td>6</td>\n",
       "    </tr>\n",
       "    <tr>\n",
       "      <th>4</th>\n",
       "      <td>23</td>\n",
       "      <td>This Fighter Jet Terrorized North Korea: Check...</td>\n",
       "      <td>By 1954, the superior swept-wing F-84F Thunder...</td>\n",
       "      <td>2019-05-07 22:48:50.0</td>\n",
       "      <td>国家利益杂志</td>\n",
       "      <td>1834530930</td>\n",
       "      <td>101</td>\n",
       "      <td>1.0</td>\n",
       "      <td>1.0</td>\n",
       "      <td>This Fighter Jet Terrorized North Korea: Check...</td>\n",
       "      <td>1834530930</td>\n",
       "      <td>This Fighter Jet Terrorized North Korea: Check...</td>\n",
       "      <td>2</td>\n",
       "      <td>1</td>\n",
       "    </tr>\n",
       "  </tbody>\n",
       "</table>\n",
       "</div>"
      ],
      "text/plain": [
       "   id_x                                              title  \\\n",
       "0    19              Taiwan's National Security Is at Risk   \n",
       "1    20           McConnell Says 'Case Closed,' But is It?   \n",
       "2    21         Could 1989 Have Led to Democracy in China?   \n",
       "3    22        Diplomacy Is the Best Way Forward with Iran   \n",
       "4    23  This Fighter Jet Terrorized North Korea: Check...   \n",
       "\n",
       "                                             content            publishtime  \\\n",
       "0  Taiwan’s military must feel pressured on two f...  2019-05-08 04:55:09.0   \n",
       "1  The two-word Republican mantra has changed fro...  2019-05-08 05:33:46.0   \n",
       "2  There are two great “what if” questions in mod...  2019-05-08 05:35:04.0   \n",
       "3  Editor’s Note: This statement was released tod...  2019-05-08 05:49:50.0   \n",
       "4  By 1954, the superior swept-wing F-84F Thunder...  2019-05-07 22:48:50.0   \n",
       "\n",
       "  site_name  cluster_id  sub_cluster_id  sub_cluster_member_count  \\\n",
       "0    国家利益杂志   932226311             492                       2.0   \n",
       "1    国家利益杂志  1844525250             432                       8.0   \n",
       "2    国家利益杂志  1857878505             485                       2.0   \n",
       "3    国家利益杂志    90215590             408                       4.0   \n",
       "4    国家利益杂志  1834530930             101                       1.0   \n",
       "\n",
       "   sub_site_count                                  sub_cluster_topic  \\\n",
       "0             2.0  Will Xi Jinping Blockade Taiwan?(taiwan/blocka...   \n",
       "1             5.0  Schumer: McConnell trying to 'whitewash' Muell...   \n",
       "2             2.0  Could 1989 Have Led to Democracy in China?(chi...   \n",
       "3             4.0  Iran may partially revive nuclear program(iran...   \n",
       "4             1.0  This Fighter Jet Terrorized North Korea: Check...   \n",
       "\n",
       "         id_y                                      cluster_topic  \\\n",
       "0   932226311  Will Xi Jinping Blockade Taiwan?(taiwan/jinpin...   \n",
       "1  1844525250  Schumer: McConnell trying to 'whitewash' Muell...   \n",
       "2  1857878505  Could 1989 Have Led to Democracy in China?(chi...   \n",
       "3    90215590  Secretary of State Pompeo Makes Surprise Trip ...   \n",
       "4  1834530930  This Fighter Jet Terrorized North Korea: Check...   \n",
       "\n",
       "   cluster_member_count  site_count  \n",
       "0                     2           2  \n",
       "1                     9           5  \n",
       "2                     4           4  \n",
       "3                    12           6  \n",
       "4                     2           1  "
      ]
     },
     "execution_count": 162,
     "metadata": {},
     "output_type": "execute_result"
    }
   ],
   "source": [
    "combined_en = pd.merge(data_en, result_en_1.loc[:, ['id', 'cluster_topic', \n",
    "                                              'cluster_member_count','site_count']], \n",
    "                   left_on = 'cluster_id', right_on = 'id', how  = 'left')\n",
    "\n",
    "file_path =  'mlUtil_MOE/result/combined_en_' + filename\n",
    "combined_en.to_excel(file_path, index = False)\n",
    "\n",
    "combined_en.head()"
   ]
  },
  {
   "cell_type": "code",
   "execution_count": 83,
   "metadata": {
    "ExecuteTime": {
     "end_time": "2019-05-08T07:39:39.446505Z",
     "start_time": "2019-05-08T07:39:39.432470Z"
    }
   },
   "outputs": [
    {
     "name": "stdout",
     "output_type": "stream",
     "text": [
      "272\n"
     ]
    },
    {
     "data": {
      "text/plain": [
       "544"
      ]
     },
     "execution_count": 83,
     "metadata": {},
     "output_type": "execute_result"
    }
   ],
   "source": [
    "print(data_en['cluster_id'].value_counts().count())\n",
    "data_en['sub_cluster_id'].value_counts().count()\n",
    "# data_en['cluster_id'].value_counts()"
   ]
  },
  {
   "cell_type": "markdown",
   "metadata": {
    "collapsed": true
   },
   "source": [
    "# 聚类分析"
   ]
  },
  {
   "cell_type": "markdown",
   "metadata": {
    "collapsed": true
   },
   "source": [
    "## 中文"
   ]
  },
  {
   "cell_type": "code",
   "execution_count": 40,
   "metadata": {
    "ExecuteTime": {
     "end_time": "2019-05-07T10:42:30.486455Z",
     "start_time": "2019-05-07T10:42:29.913319Z"
    }
   },
   "outputs": [
    {
     "name": "stdout",
     "output_type": "stream",
     "text": [
      "(1000, 4)\n"
     ]
    },
    {
     "name": "stderr",
     "output_type": "stream",
     "text": [
      "D:\\software_setup\\conda\\lib\\site-packages\\ipykernel_launcher.py:2: SettingWithCopyWarning: \n",
      "A value is trying to be set on a copy of a slice from a DataFrame.\n",
      "Try using .loc[row_indexer,col_indexer] = value instead\n",
      "\n",
      "See the caveats in the documentation: http://pandas.pydata.org/pandas-docs/stable/indexing.html#indexing-view-versus-copy\n",
      "  \n"
     ]
    },
    {
     "data": {
      "text/html": [
       "<div>\n",
       "<style scoped>\n",
       "    .dataframe tbody tr th:only-of-type {\n",
       "        vertical-align: middle;\n",
       "    }\n",
       "\n",
       "    .dataframe tbody tr th {\n",
       "        vertical-align: top;\n",
       "    }\n",
       "\n",
       "    .dataframe thead th {\n",
       "        text-align: right;\n",
       "    }\n",
       "</style>\n",
       "<table border=\"1\" class=\"dataframe\">\n",
       "  <thead>\n",
       "    <tr style=\"text-align: right;\">\n",
       "      <th></th>\n",
       "      <th>id</th>\n",
       "      <th>title</th>\n",
       "      <th>content</th>\n",
       "      <th>title_content</th>\n",
       "    </tr>\n",
       "  </thead>\n",
       "  <tbody>\n",
       "    <tr>\n",
       "      <th>0</th>\n",
       "      <td>1</td>\n",
       "      <td>Facebook曾开白名单，一些公司可获得有关用户好友的额外信息</td>\n",
       "      <td>根据法院文件、公司官员和知情人士，Facebook Inc. (FB)和选定的一些公司签署了...</td>\n",
       "      <td>Facebook曾开白名单，一些公司可获得有关用户好友的额外信息。根据法院文件、公司官员和知...</td>\n",
       "    </tr>\n",
       "  </tbody>\n",
       "</table>\n",
       "</div>"
      ],
      "text/plain": [
       "   id                             title  \\\n",
       "0   1  Facebook曾开白名单，一些公司可获得有关用户好友的额外信息   \n",
       "\n",
       "                                             content  \\\n",
       "0  根据法院文件、公司官员和知情人士，Facebook Inc. (FB)和选定的一些公司签署了...   \n",
       "\n",
       "                                       title_content  \n",
       "0  Facebook曾开白名单，一些公司可获得有关用户好友的额外信息。根据法院文件、公司官员和知...  "
      ]
     },
     "execution_count": 40,
     "metadata": {},
     "output_type": "execute_result"
    }
   ],
   "source": [
    "clustering_data = data_zh[['id', 'title', 'content']]\n",
    "clustering_data['title_content'] = clustering_data['title'] + '。' + clustering_data['content']\n",
    "print(clustering_data.shape)\n",
    "clustering_data.iloc[:1, :]"
   ]
  },
  {
   "cell_type": "markdown",
   "metadata": {},
   "source": [
    "### 预处理"
   ]
  },
  {
   "cell_type": "code",
   "execution_count": 41,
   "metadata": {
    "ExecuteTime": {
     "end_time": "2019-05-07T10:42:36.642623Z",
     "start_time": "2019-05-07T10:42:31.778410Z"
    }
   },
   "outputs": [
    {
     "name": "stderr",
     "output_type": "stream",
     "text": [
      "Building prefix dict from the default dictionary ...\n",
      "Dumping model to file cache C:\\Users\\ADMINI~1\\AppData\\Local\\Temp\\jieba.cache\n",
      "Loading model cost 1.165 seconds.\n",
      "Prefix dict has been built succesfully.\n"
     ]
    }
   ],
   "source": [
    "from toolkits.nlp import pre_text"
   ]
  },
  {
   "cell_type": "code",
   "execution_count": 42,
   "metadata": {
    "ExecuteTime": {
     "end_time": "2019-05-07T10:42:46.650846Z",
     "start_time": "2019-05-07T10:42:36.756973Z"
    }
   },
   "outputs": [
    {
     "name": "stdout",
     "output_type": "stream",
     "text": [
      "1000\n"
     ]
    },
    {
     "data": {
      "text/plain": [
       "['曾开 白名单 公司 获得 用户 好友 额外 信息 法院 文件 公司 官员 知情 人士 选定 公司 签署 订制 数据 分享 协议 协议 公司 年 之后 很长 一段时间 仍能 取得 用户 记录 社交 媒体 巨头 年 表示 不再 开发商 提供 信息 知情 人士 透露 内部 称做 白名单 未 披露 协议 公司 取得 用户 好友 额外 信息 人士 称 信息 包括 手机号码 一种 称做 好友 关联 指标 用于 衡量 用户 好友 之间 亲密 程度 订制 协议 独立 上周 披露 至少 家 设备 制造商 达成 数据 分享 协议 几名 议员 监管 机构 表示 需 进一步 调查 设备 制造商 协议 知情 人士 称 白名单 协议 理由 具有 价值 广告 客户 合作伙伴 签署 公司 包括 加拿大 皇家 银行 日产 汽车 协议 显示 特殊 数据 准入 权给 之前 所知 更 广泛 公司 引发 更 疑问 取得 数十亿 用户 数据 取得 数据 理由 国会 正 要求 数据 转移 负 责任 一名 发言人 表示 公司 开发商 签署 少量 协议 主要 提升 用户 体验 测试 新 功能 帮助 特定 合作伙伴 结束 之前 数据 分享 项目 发言人 表示 所有人 关闭 之后 少数 公司 取得 用户 朋友 数据 他称 获 展延 权限 长 达 数周 数月 至少 部分 公司 逾 一年 取得 数据 ',\n",
       " '隔夜 市场 回顾 美联储 重申 利率 保持 耐心 导致 美股 收跌 美元 走强 美国 国债 收益率 走高 黄金 下跌 美国 油价 收跌 美国 原油 库存 增加 铜价 下跌 以下 隔夜 各大 市场 收盘 综述 股票市场 美国股市 周三 收盘 下跌 此前 美联储 维持 利率 不变 重申 会 保持 耐心 通胀 近期 疲弱 道琼斯 指数 收盘 下跌 点至点 跌幅 去年 纪录 高点 跌 标普 指数 下跌 点至点 跌幅 纳斯达克 综合 指数 下跌 点至点 跌幅 欧洲 斯托克 指数 下跌 不到 交投 依旧 清淡 外汇市场 美元 周三 走高 美联储 主席 鲍威尔 称 最近 通胀 压力 疲软 可能 暂时 华尔街日报 美元 指数 上涨 指数 去年 月 最高 水平 附近 徘徊 投资者 关注 焦点 欧洲 经济 增长 放缓 迹象 美联储 官员 周三 维持 利率 不变 指出 第一季度 主要 经济 活动 放缓 美元 最初 应声 继续 下跌 鲍威尔 讲话 美元 转而 走高 美国 国债 美国 国债 周三 摇摆 收盘 走低 美联储 发出 互相矛盾 信号 引发 国债 市场 震荡 美联储 宣布 维持 短期 利率 不变 并称 通胀 低于 目标 国债 收益率 最初 下跌 美联储 主席 鲍威尔 淡化 最近 通胀 压力 减轻 讲话 国债 收益率 转而 上涨 升至 盘中 高点 基准 年期 国债 收益率 收于 周二 盘中 一度 跌至 短期 国债 走 软 逆转 盘中 早些时候 涨势 交易员 短期 利率 预期 较为 敏感 年期 国债 收益率 周二 升至 商品 市场 美国 原油期货 周三 收盘 下跌 此前 公布 政府 数据 显示 美国 原油 库存 增幅 超越 预期 纽约 商交所 月份 交割 轻质 低硫 原油期货 结算价 下跌 美元 桶 美国能源 情报署 提供 数据 月 日 一周 美国 原油 库存 增加 万桶 超过 分析师 预期 数据 显示 美国 原油 产量 上周 升至 新高 达 万桶 日 全球 基准 布伦特 原油期货 结算价 上涨 美元 桶 黄金 期货 周三 下跌 美联储 主席 鲍威尔 暗示 央行 未来 几个 月 不太可能 降息 纽约商品交易所 电子 交易 时段 月 交割 黄金 期货 下跌 美元 盎司 常规 交易 时段 收盘 下跌 美元 盎司 贱 金属 方面 月 交割 铜期货 下跌 美元 磅 对美中 贸易谈判 遇挫 担忧 打压 中国 世界 最大 铜 消费国 占 全球 需求 近 ']"
      ]
     },
     "execution_count": 42,
     "metadata": {},
     "output_type": "execute_result"
    }
   ],
   "source": [
    "title_content_list = pre_text.handle_contents(clustering_data['title_content'].tolist())\n",
    "print(len(title_content_list))\n",
    "title_content_list[:2]"
   ]
  },
  {
   "cell_type": "code",
   "execution_count": 43,
   "metadata": {
    "ExecuteTime": {
     "end_time": "2019-05-07T10:42:46.784261Z",
     "start_time": "2019-05-07T10:42:46.767209Z"
    }
   },
   "outputs": [
    {
     "name": "stdout",
     "output_type": "stream",
     "text": [
      "1000\n"
     ]
    },
    {
     "data": {
      "text/plain": [
       "[1, 2]"
      ]
     },
     "execution_count": 43,
     "metadata": {},
     "output_type": "execute_result"
    }
   ],
   "source": [
    "id_list = clustering_data['id'].tolist()\n",
    "print(len(id_list))\n",
    "id_list[:2]"
   ]
  },
  {
   "cell_type": "markdown",
   "metadata": {
    "ExecuteTime": {
     "end_time": "2019-04-29T02:45:05.930224Z",
     "start_time": "2019-04-29T02:45:05.871064Z"
    }
   },
   "source": [
    "### featrue "
   ]
  },
  {
   "cell_type": "markdown",
   "metadata": {},
   "source": [
    "#### tfidf"
   ]
  },
  {
   "cell_type": "code",
   "execution_count": 44,
   "metadata": {
    "ExecuteTime": {
     "end_time": "2019-05-07T10:42:47.385439Z",
     "start_time": "2019-05-07T10:42:46.907599Z"
    },
    "collapsed": true
   },
   "outputs": [],
   "source": [
    "from sklearn.feature_extraction.text import TfidfTransformer\n",
    "from sklearn.feature_extraction.text import CountVectorizer"
   ]
  },
  {
   "cell_type": "code",
   "execution_count": 45,
   "metadata": {
    "ExecuteTime": {
     "end_time": "2019-05-07T10:42:48.081911Z",
     "start_time": "2019-05-07T10:42:47.516797Z"
    },
    "collapsed": true
   },
   "outputs": [],
   "source": [
    "vectorizer = CountVectorizer(max_df=0.95, min_df=2)\n",
    "transformer = TfidfTransformer() # norm=None 不归一化\n",
    "\n",
    "vec_count = vectorizer.fit_transform(title_content_list)\n",
    "tfidf_matrix = transformer.fit_transform(vec_count)  "
   ]
  },
  {
   "cell_type": "code",
   "execution_count": 46,
   "metadata": {
    "ExecuteTime": {
     "end_time": "2019-05-07T10:42:48.226303Z",
     "start_time": "2019-05-07T10:42:48.218282Z"
    }
   },
   "outputs": [
    {
     "data": {
      "text/plain": [
       "(1000, 9529)"
      ]
     },
     "execution_count": 46,
     "metadata": {},
     "output_type": "execute_result"
    }
   ],
   "source": [
    "tfidf_matrix.shape"
   ]
  },
  {
   "cell_type": "markdown",
   "metadata": {},
   "source": [
    "#### N-gram"
   ]
  },
  {
   "cell_type": "code",
   "execution_count": null,
   "metadata": {
    "collapsed": true
   },
   "outputs": [],
   "source": []
  },
  {
   "cell_type": "markdown",
   "metadata": {},
   "source": [
    "### DBSCAN"
   ]
  },
  {
   "cell_type": "code",
   "execution_count": 47,
   "metadata": {
    "ExecuteTime": {
     "end_time": "2019-05-07T10:42:51.194605Z",
     "start_time": "2019-05-07T10:42:48.362671Z"
    },
    "collapsed": true
   },
   "outputs": [],
   "source": [
    "from sklearn import cluster"
   ]
  },
  {
   "cell_type": "code",
   "execution_count": 48,
   "metadata": {
    "ExecuteTime": {
     "end_time": "2019-05-07T10:42:51.379769Z",
     "start_time": "2019-05-07T10:42:51.334615Z"
    },
    "collapsed": true
   },
   "outputs": [],
   "source": [
    "feature_matrix = tfidf_matrix.toarray()"
   ]
  },
  {
   "cell_type": "code",
   "execution_count": 49,
   "metadata": {
    "ExecuteTime": {
     "end_time": "2019-05-07T10:43:32.197474Z",
     "start_time": "2019-05-07T10:42:51.507091Z"
    }
   },
   "outputs": [
    {
     "name": "stdout",
     "output_type": "stream",
     "text": [
      "data num:  1000\n",
      "cluster num:  170\n",
      "轮廓系数:  0.2444755345626969\n",
      "Calinski-Harabaz Index:  4.0066027212767565\n"
     ]
    }
   ],
   "source": [
    "clustering = cluster.DBSCAN(eps=1, min_samples=2).fit(feature_matrix)\n",
    "labels = clustering.labels_\n",
    "print('data num: ', feature_matrix.shape[0])\n",
    "print('cluster num: ', len(np.unique(labels)))\n",
    "clustering_metrics(labels, labels_true = None, feature = feature_matrix)"
   ]
  },
  {
   "cell_type": "code",
   "execution_count": 50,
   "metadata": {
    "ExecuteTime": {
     "end_time": "2019-05-07T10:43:32.356436Z",
     "start_time": "2019-05-07T10:43:32.344402Z"
    }
   },
   "outputs": [
    {
     "data": {
      "text/plain": [
       "-1      401\n",
       " 18      24\n",
       " 10      21\n",
       " 26      17\n",
       " 163     16\n",
       " 55      15\n",
       " 52      15\n",
       " 154     13\n",
       " 51       9\n",
       " 62       7\n",
       " 56       7\n",
       " 69       7\n",
       " 49       7\n",
       " 16       7\n",
       " 15       6\n",
       " 122      6\n",
       " 80       6\n",
       " 35       6\n",
       " 91       6\n",
       " 165      5\n",
       " 64       5\n",
       " 108      5\n",
       " 40       5\n",
       " 4        5\n",
       " 158      5\n",
       " 46       5\n",
       " 54       4\n",
       " 8        4\n",
       " 88       4\n",
       " 160      4\n",
       "       ... \n",
       " 87       2\n",
       " 101      2\n",
       " 100      2\n",
       " 99       2\n",
       " 98       2\n",
       " 97       2\n",
       " 93       2\n",
       " 74       2\n",
       " 106      2\n",
       " 72       2\n",
       " 117      2\n",
       " 131      2\n",
       " 94       2\n",
       " 127      2\n",
       " 125      2\n",
       " 124      2\n",
       " 119      2\n",
       " 118      2\n",
       " 58       2\n",
       " 60       2\n",
       " 71       2\n",
       " 116      2\n",
       " 114      2\n",
       " 113      2\n",
       " 65       2\n",
       " 111      2\n",
       " 67       2\n",
       " 110      2\n",
       " 109      2\n",
       " 84       2\n",
       "Length: 170, dtype: int64"
      ]
     },
     "execution_count": 50,
     "metadata": {},
     "output_type": "execute_result"
    }
   ],
   "source": [
    "pd.Series(labels).value_counts()"
   ]
  },
  {
   "cell_type": "code",
   "execution_count": 51,
   "metadata": {
    "ExecuteTime": {
     "end_time": "2019-05-07T10:44:22.820682Z",
     "start_time": "2019-05-07T10:43:32.518634Z"
    }
   },
   "outputs": [
    {
     "name": "stdout",
     "output_type": "stream",
     "text": [
      "data num:  1000\n",
      "cluster num:  570\n",
      "轮廓系数:  0.2685670252865887\n",
      "Calinski-Harabaz Index:  4.457234919957061\n"
     ]
    }
   ],
   "source": [
    "clustering = cluster.DBSCAN(eps=1, min_samples=1).fit(feature_matrix)\n",
    "labels = clustering.labels_\n",
    "print('data num: ', feature_matrix.shape[0])\n",
    "print('cluster num: ', len(np.unique(labels)))\n",
    "clustering_metrics(labels, labels_true = None, feature = feature_matrix)"
   ]
  },
  {
   "cell_type": "code",
   "execution_count": 52,
   "metadata": {
    "ExecuteTime": {
     "end_time": "2019-05-07T10:44:23.047785Z",
     "start_time": "2019-05-07T10:44:23.026229Z"
    }
   },
   "outputs": [
    {
     "data": {
      "text/plain": [
       "49     24\n",
       "32     21\n",
       "80     17\n",
       "443    16\n",
       "150    15\n",
       "147    15\n",
       "383    13\n",
       "146     9\n",
       "151     7\n",
       "46      7\n",
       "159     7\n",
       "143     7\n",
       "172     7\n",
       "239     6\n",
       "42      6\n",
       "185     6\n",
       "197     6\n",
       "126     6\n",
       "396     5\n",
       "218     5\n",
       "139     5\n",
       "20      5\n",
       "132     5\n",
       "473     5\n",
       "161     5\n",
       "38      4\n",
       "262     4\n",
       "48      4\n",
       "145     4\n",
       "158     4\n",
       "       ..\n",
       "355     1\n",
       "356     1\n",
       "357     1\n",
       "358     1\n",
       "359     1\n",
       "360     1\n",
       "361     1\n",
       "362     1\n",
       "363     1\n",
       "364     1\n",
       "365     1\n",
       "366     1\n",
       "367     1\n",
       "368     1\n",
       "369     1\n",
       "370     1\n",
       "371     1\n",
       "372     1\n",
       "373     1\n",
       "374     1\n",
       "375     1\n",
       "377     1\n",
       "378     1\n",
       "379     1\n",
       "380     1\n",
       "381     1\n",
       "382     1\n",
       "384     1\n",
       "385     1\n",
       "0       1\n",
       "Length: 570, dtype: int64"
      ]
     },
     "execution_count": 52,
     "metadata": {},
     "output_type": "execute_result"
    }
   ],
   "source": [
    "pd.Series(labels).value_counts()"
   ]
  },
  {
   "cell_type": "markdown",
   "metadata": {},
   "source": [
    "#### 参数优化"
   ]
  },
  {
   "cell_type": "code",
   "execution_count": 53,
   "metadata": {
    "ExecuteTime": {
     "end_time": "2019-05-07T10:44:23.554131Z",
     "start_time": "2019-05-07T10:44:23.246312Z"
    },
    "collapsed": true
   },
   "outputs": [],
   "source": [
    "import datetime"
   ]
  },
  {
   "cell_type": "code",
   "execution_count": 54,
   "metadata": {
    "ExecuteTime": {
     "end_time": "2019-05-07T10:57:04.016682Z",
     "start_time": "2019-05-07T10:44:23.723581Z"
    }
   },
   "outputs": [
    {
     "name": "stdout",
     "output_type": "stream",
     "text": [
      "-------------  index: 1; min_s: 1; eps: 0.6\n",
      "elapse_time: 14 s\n",
      "data num:  1000\n",
      "cluster num:  797\n",
      "轮廓系数:  0.29928072503559006\n",
      "Calinski-Harabaz Index:  40.10177612026728\n",
      "-------------  index: 2; min_s: 1; eps: 0.7\n",
      "elapse_time: 19 s\n",
      "data num:  1000\n",
      "cluster num:  781\n",
      "轮廓系数:  0.30271698821147014\n",
      "Calinski-Harabaz Index:  24.857388995254393\n",
      "-------------  index: 3; min_s: 1; eps: 0.8\n",
      "elapse_time: 26 s\n",
      "data num:  1000\n",
      "cluster num:  742\n",
      "轮廓系数:  0.3099784381993435\n",
      "Calinski-Harabaz Index:  13.519989104178558\n",
      "-------------  index: 4; min_s: 1; eps: 0.9\n",
      "elapse_time: 31 s\n",
      "data num:  1000\n",
      "cluster num:  668\n",
      "轮廓系数:  0.3156745263788334\n",
      "Calinski-Harabaz Index:  7.268661711796795\n",
      "-------------  index: 5; min_s: 1; eps: 1.0\n",
      "elapse_time: 41 s\n",
      "data num:  1000\n",
      "cluster num:  570\n",
      "轮廓系数:  0.2685670252865887\n",
      "Calinski-Harabaz Index:  4.457234919957061\n",
      "-------------  index: 6; min_s: 1; eps: 1.1\n",
      "elapse_time: 41 s\n",
      "data num:  1000\n",
      "cluster num:  419\n",
      "轮廓系数:  0.16333324995210663\n",
      "Calinski-Harabaz Index:  2.4237023582889257\n",
      "-------------  index: 7; min_s: 1; eps: 1.2\n",
      "elapse_time: 41 s\n",
      "data num:  1000\n",
      "cluster num:  236\n",
      "轮廓系数:  0.046951295338490545\n",
      "Calinski-Harabaz Index:  1.7032885132611657\n",
      "-------------  index: 8; min_s: 1; eps: 1.3\n",
      "elapse_time: 41 s\n",
      "data num:  1000\n",
      "cluster num:  53\n",
      "轮廓系数:  -0.00048346784219359764\n",
      "Calinski-Harabaz Index:  1.2813447990358413\n",
      "-------------  index: 9; min_s: 1; eps: 1.4\n",
      "elapse_time: 41 s\n",
      "data num:  1000\n",
      "cluster num:  1\n",
      "-------------  index: 10; min_s: 2; eps: 0.6\n",
      "elapse_time: 14 s\n",
      "data num:  1000\n",
      "cluster num:  144\n",
      "轮廓系数:  0.225364544102174\n",
      "Calinski-Harabaz Index:  3.020115439554956\n",
      "-------------  index: 11; min_s: 2; eps: 0.7\n",
      "elapse_time: 18 s\n",
      "data num:  1000\n",
      "cluster num:  152\n",
      "轮廓系数:  0.22937743158730672\n",
      "Calinski-Harabaz Index:  3.082961290914331\n",
      "-------------  index: 12; min_s: 2; eps: 0.8\n",
      "elapse_time: 24 s\n",
      "data num:  1000\n",
      "cluster num:  172\n",
      "轮廓系数:  0.24734558101947735\n",
      "Calinski-Harabaz Index:  3.2276099109415424\n",
      "-------------  index: 13; min_s: 2; eps: 0.9\n",
      "elapse_time: 31 s\n",
      "data num:  1000\n",
      "cluster num:  185\n",
      "轮廓系数:  0.2725056143953338\n",
      "Calinski-Harabaz Index:  3.5881911014036256\n",
      "-------------  index: 14; min_s: 2; eps: 1.0\n",
      "elapse_time: 38 s\n",
      "data num:  1000\n",
      "cluster num:  170\n",
      "轮廓系数:  0.2444755345626969\n",
      "Calinski-Harabaz Index:  4.0066027212767565\n",
      "-------------  index: 15; min_s: 2; eps: 1.1\n",
      "elapse_time: 41 s\n",
      "data num:  1000\n",
      "cluster num:  127\n",
      "轮廓系数:  0.15869490269562436\n",
      "Calinski-Harabaz Index:  3.541200945871492\n",
      "-------------  index: 16; min_s: 2; eps: 1.2\n",
      "elapse_time: 41 s\n",
      "data num:  1000\n",
      "cluster num:  71\n",
      "轮廓系数:  0.057803762056283334\n",
      "Calinski-Harabaz Index:  2.823213786345997\n",
      "-------------  index: 17; min_s: 2; eps: 1.3\n",
      "elapse_time: 41 s\n",
      "data num:  1000\n",
      "cluster num:  15\n",
      "轮廓系数:  0.010869121175118462\n",
      "Calinski-Harabaz Index:  1.9400838203353719\n",
      "-------------  index: 18; min_s: 2; eps: 1.4\n",
      "elapse_time: 40 s\n",
      "data num:  1000\n",
      "cluster num:  1\n"
     ]
    }
   ],
   "source": [
    "eps_list = [round(0.5 + 0.1*a, 1) for a in range(1, 10)] # [0.5, 0.7, 1.0, 1.5, 2.0]\n",
    "min_list = [1, 2]\n",
    "index = 0\n",
    "\n",
    "result_list = []\n",
    "for m in min_list:\n",
    "    for eps in eps_list:\n",
    "        index += 1\n",
    "        silhouette_score = 0\n",
    "        print('-------------  index: %s; min_s: %s; eps: %s'%(index, m, eps))\n",
    "        starttime = datetime.datetime.now()\n",
    "        clustering = cluster.DBSCAN(eps=eps, min_samples=m).fit(feature_matrix)\n",
    "        endtime = datetime.datetime.now()\n",
    "        elapse_time = (endtime - starttime).seconds\n",
    "        print('elapse_time: %s s'%(elapse_time))\n",
    "        labels = clustering.labels_\n",
    "        print('data num: ', feature_matrix.shape[0])\n",
    "        print('cluster num: ', len(np.unique(labels)))\n",
    "        if len(np.unique(labels)) > 1:\n",
    "            clustering_metrics(labels, labels_true = None, feature = feature_matrix)\n",
    "            silhouette_score = metrics.silhouette_score(feature_matrix, labels, metric='euclidean')\n",
    "            \n",
    "        result_list.append([index, m, eps, elapse_time, feature_matrix.shape[0], \n",
    "                            len(np.unique(labels)), silhouette_score])"
   ]
  },
  {
   "cell_type": "code",
   "execution_count": 66,
   "metadata": {
    "ExecuteTime": {
     "end_time": "2019-04-29T06:35:33.210478Z",
     "start_time": "2019-04-29T06:35:33.202485Z"
    }
   },
   "outputs": [
    {
     "data": {
      "text/plain": [
       "[0.6, 0.7, 0.8, 0.9, 1.0, 1.1, 1.2, 1.3, 1.4]"
      ]
     },
     "execution_count": 66,
     "metadata": {},
     "output_type": "execute_result"
    }
   ],
   "source": [
    "[round(0.5 + 0.1*a, 1) for a in range(1, 10)]"
   ]
  },
  {
   "cell_type": "code",
   "execution_count": 65,
   "metadata": {
    "ExecuteTime": {
     "end_time": "2019-04-29T06:35:22.432947Z",
     "start_time": "2019-04-29T06:35:22.425929Z"
    }
   },
   "outputs": [
    {
     "data": {
      "text/plain": [
       "0.3"
      ]
     },
     "execution_count": 65,
     "metadata": {},
     "output_type": "execute_result"
    }
   ],
   "source": [
    "round(0.3002, 1)"
   ]
  },
  {
   "cell_type": "markdown",
   "metadata": {},
   "source": [
    "#### combined result"
   ]
  },
  {
   "cell_type": "code",
   "execution_count": 55,
   "metadata": {
    "ExecuteTime": {
     "end_time": "2019-05-07T10:57:04.161567Z",
     "start_time": "2019-05-07T10:57:04.153546Z"
    }
   },
   "outputs": [
    {
     "data": {
      "text/plain": [
       "(1000, 8)"
      ]
     },
     "execution_count": 55,
     "metadata": {},
     "output_type": "execute_result"
    }
   ],
   "source": [
    "data_zh.shape"
   ]
  },
  {
   "cell_type": "code",
   "execution_count": 60,
   "metadata": {
    "ExecuteTime": {
     "end_time": "2019-05-07T10:57:56.245860Z",
     "start_time": "2019-05-07T10:57:10.053911Z"
    }
   },
   "outputs": [
    {
     "name": "stdout",
     "output_type": "stream",
     "text": [
      "data num:  1000\n",
      "cluster num:  668\n",
      "轮廓系数:  0.3156745263788334\n",
      "Calinski-Harabaz Index:  7.268661711796795\n"
     ]
    }
   ],
   "source": [
    "clustering = cluster.DBSCAN(eps=0.9, min_samples=1).fit(feature_matrix)\n",
    "labels = clustering.labels_\n",
    "print('data num: ', feature_matrix.shape[0])\n",
    "print('cluster num: ', len(np.unique(labels)))\n",
    "clustering_metrics(labels, labels_true = None, feature = feature_matrix)"
   ]
  },
  {
   "cell_type": "code",
   "execution_count": 61,
   "metadata": {
    "ExecuteTime": {
     "end_time": "2019-05-07T10:57:57.102106Z",
     "start_time": "2019-05-07T10:57:56.404249Z"
    }
   },
   "outputs": [
    {
     "name": "stdout",
     "output_type": "stream",
     "text": [
      "file_path:  mlUtil_MOE/result/new_raw_data_result_zh_7_20190507161908.xlsx\n",
      "(1000, 9)\n"
     ]
    },
    {
     "data": {
      "text/html": [
       "<div>\n",
       "<style scoped>\n",
       "    .dataframe tbody tr th:only-of-type {\n",
       "        vertical-align: middle;\n",
       "    }\n",
       "\n",
       "    .dataframe tbody tr th {\n",
       "        vertical-align: top;\n",
       "    }\n",
       "\n",
       "    .dataframe thead th {\n",
       "        text-align: right;\n",
       "    }\n",
       "</style>\n",
       "<table border=\"1\" class=\"dataframe\">\n",
       "  <thead>\n",
       "    <tr style=\"text-align: right;\">\n",
       "      <th></th>\n",
       "      <th>id</th>\n",
       "      <th>title_raw</th>\n",
       "      <th>content_raw</th>\n",
       "      <th>publishtime</th>\n",
       "      <th>site_name</th>\n",
       "      <th>title</th>\n",
       "      <th>content</th>\n",
       "      <th>cluster_id</th>\n",
       "      <th>label</th>\n",
       "    </tr>\n",
       "  </thead>\n",
       "  <tbody>\n",
       "    <tr>\n",
       "      <th>0</th>\n",
       "      <td>1</td>\n",
       "      <td>Facebook曾开白名单，一些公司可获得有关用户好友的额外信息</td>\n",
       "      <td>根据法院文件、公司官员和知情人士，Facebook Inc. (FB)和选定的一些公司签署了...</td>\n",
       "      <td>2019-05-07 10:16:00.0</td>\n",
       "      <td>华尔街日报中文网</td>\n",
       "      <td>Facebook曾开白名单，一些公司可获得有关用户好友的额外信息</td>\n",
       "      <td>根据法院文件、公司官员和知情人士，Facebook Inc. (FB)和选定的一些公司签署了...</td>\n",
       "      <td>-1</td>\n",
       "      <td>0</td>\n",
       "    </tr>\n",
       "  </tbody>\n",
       "</table>\n",
       "</div>"
      ],
      "text/plain": [
       "   id                         title_raw  \\\n",
       "0   1  Facebook曾开白名单，一些公司可获得有关用户好友的额外信息   \n",
       "\n",
       "                                         content_raw            publishtime  \\\n",
       "0  根据法院文件、公司官员和知情人士，Facebook Inc. (FB)和选定的一些公司签署了...  2019-05-07 10:16:00.0   \n",
       "\n",
       "  site_name                             title  \\\n",
       "0  华尔街日报中文网  Facebook曾开白名单，一些公司可获得有关用户好友的额外信息   \n",
       "\n",
       "                                             content  cluster_id  label  \n",
       "0  根据法院文件、公司官员和知情人士，Facebook Inc. (FB)和选定的一些公司签署了...          -1      0  "
      ]
     },
     "execution_count": 61,
     "metadata": {},
     "output_type": "execute_result"
    }
   ],
   "source": [
    "data_zh['label'] = labels\n",
    "file_path =  'mlUtil_MOE/result/new_raw_data_result_zh_' + filename\n",
    "print('file_path: ', file_path)\n",
    "data_zh.to_excel(file_path, index = False)\n",
    "print(data_zh.shape)\n",
    "data_zh.iloc[:1, :]"
   ]
  },
  {
   "cell_type": "code",
   "execution_count": null,
   "metadata": {
    "collapsed": true
   },
   "outputs": [],
   "source": []
  }
 ],
 "metadata": {
  "kernelspec": {
   "display_name": "Python 3",
   "language": "python",
   "name": "python3"
  },
  "language_info": {
   "codemirror_mode": {
    "name": "ipython",
    "version": 3
   },
   "file_extension": ".py",
   "mimetype": "text/x-python",
   "name": "python",
   "nbconvert_exporter": "python",
   "pygments_lexer": "ipython3",
   "version": "3.6.3"
  },
  "toc": {
   "base_numbering": 1,
   "nav_menu": {},
   "number_sections": true,
   "sideBar": true,
   "skip_h1_title": false,
   "title_cell": "Table of Contents",
   "title_sidebar": "Contents",
   "toc_cell": false,
   "toc_position": {
    "height": "calc(100% - 180px)",
    "left": "10px",
    "top": "150px",
    "width": "273px"
   },
   "toc_section_display": true,
   "toc_window_display": true
  },
  "varInspector": {
   "cols": {
    "lenName": 16,
    "lenType": 16,
    "lenVar": 40
   },
   "kernels_config": {
    "python": {
     "delete_cmd_postfix": "",
     "delete_cmd_prefix": "del ",
     "library": "var_list.py",
     "varRefreshCmd": "print(var_dic_list())"
    },
    "r": {
     "delete_cmd_postfix": ") ",
     "delete_cmd_prefix": "rm(",
     "library": "var_list.r",
     "varRefreshCmd": "cat(var_dic_list()) "
    }
   },
   "types_to_exclude": [
    "module",
    "function",
    "builtin_function_or_method",
    "instance",
    "_Feature"
   ],
   "window_display": false
  }
 },
 "nbformat": 4,
 "nbformat_minor": 2
}
