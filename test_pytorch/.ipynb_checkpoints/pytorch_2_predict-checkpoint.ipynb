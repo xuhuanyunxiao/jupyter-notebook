{
 "cells": [
  {
   "cell_type": "code",
   "execution_count": null,
   "metadata": {
    "collapsed": true
   },
   "outputs": [],
   "source": []
  },
  {
   "cell_type": "markdown",
   "metadata": {},
   "source": [
    "# 基本设置"
   ]
  },
  {
   "cell_type": "code",
   "execution_count": 1,
   "metadata": {
    "ExecuteTime": {
     "end_time": "2018-07-17T11:14:19.838799Z",
     "start_time": "2018-07-17T11:14:19.329770Z"
    },
    "collapsed": true
   },
   "outputs": [],
   "source": [
    "import torch\n",
    "import torch.nn.functional as F  # 主要实现激活函数\n",
    "import matplotlib.pyplot as plt  # 绘图的工具\n",
    "from torch.autograd import Variable"
   ]
  },
  {
   "cell_type": "markdown",
   "metadata": {},
   "source": [
    "# 生成伪数据"
   ]
  },
  {
   "cell_type": "markdown",
   "metadata": {},
   "source": [
    "- torch.linspace是为了生成连续间断的数据，第一个参数表示起点，第二个参数表示终点，第三个参数表示将这个区间分成平均几份，即生成几个数据。\n",
    "- 因为torch只能处理二维的数据，所以我们用torch.unsqueeze给伪数据添加一个维度，dim表示添加在第几维。\n",
    "- torch.rand返回的是[0,1)之间的均匀分布。"
   ]
  },
  {
   "cell_type": "code",
   "execution_count": 2,
   "metadata": {
    "ExecuteTime": {
     "end_time": "2018-07-17T11:14:53.287713Z",
     "start_time": "2018-07-17T11:14:53.177706Z"
    }
   },
   "outputs": [
    {
     "name": "stdout",
     "output_type": "stream",
     "text": [
      "tensor([[-1.0000],\n",
      "        [-0.9798],\n",
      "        [-0.9596],\n",
      "        [-0.9394],\n",
      "        [-0.9192],\n",
      "        [-0.8990],\n",
      "        [-0.8788],\n",
      "        [-0.8586],\n",
      "        [-0.8384],\n",
      "        [-0.8182],\n",
      "        [-0.7980],\n",
      "        [-0.7778],\n",
      "        [-0.7576],\n",
      "        [-0.7374],\n",
      "        [-0.7172],\n",
      "        [-0.6970],\n",
      "        [-0.6768],\n",
      "        [-0.6566],\n",
      "        [-0.6364],\n",
      "        [-0.6162],\n",
      "        [-0.5960],\n",
      "        [-0.5758],\n",
      "        [-0.5556],\n",
      "        [-0.5354],\n",
      "        [-0.5152],\n",
      "        [-0.4949],\n",
      "        [-0.4747],\n",
      "        [-0.4545],\n",
      "        [-0.4343],\n",
      "        [-0.4141],\n",
      "        [-0.3939],\n",
      "        [-0.3737],\n",
      "        [-0.3535],\n",
      "        [-0.3333],\n",
      "        [-0.3131],\n",
      "        [-0.2929],\n",
      "        [-0.2727],\n",
      "        [-0.2525],\n",
      "        [-0.2323],\n",
      "        [-0.2121],\n",
      "        [-0.1919],\n",
      "        [-0.1717],\n",
      "        [-0.1515],\n",
      "        [-0.1313],\n",
      "        [-0.1111],\n",
      "        [-0.0909],\n",
      "        [-0.0707],\n",
      "        [-0.0505],\n",
      "        [-0.0303],\n",
      "        [-0.0101],\n",
      "        [ 0.0101],\n",
      "        [ 0.0303],\n",
      "        [ 0.0505],\n",
      "        [ 0.0707],\n",
      "        [ 0.0909],\n",
      "        [ 0.1111],\n",
      "        [ 0.1313],\n",
      "        [ 0.1515],\n",
      "        [ 0.1717],\n",
      "        [ 0.1919],\n",
      "        [ 0.2121],\n",
      "        [ 0.2323],\n",
      "        [ 0.2525],\n",
      "        [ 0.2727],\n",
      "        [ 0.2929],\n",
      "        [ 0.3131],\n",
      "        [ 0.3333],\n",
      "        [ 0.3535],\n",
      "        [ 0.3737],\n",
      "        [ 0.3939],\n",
      "        [ 0.4141],\n",
      "        [ 0.4343],\n",
      "        [ 0.4545],\n",
      "        [ 0.4747],\n",
      "        [ 0.4949],\n",
      "        [ 0.5152],\n",
      "        [ 0.5354],\n",
      "        [ 0.5556],\n",
      "        [ 0.5758],\n",
      "        [ 0.5960],\n",
      "        [ 0.6162],\n",
      "        [ 0.6364],\n",
      "        [ 0.6566],\n",
      "        [ 0.6768],\n",
      "        [ 0.6970],\n",
      "        [ 0.7172],\n",
      "        [ 0.7374],\n",
      "        [ 0.7576],\n",
      "        [ 0.7778],\n",
      "        [ 0.7980],\n",
      "        [ 0.8182],\n",
      "        [ 0.8384],\n",
      "        [ 0.8586],\n",
      "        [ 0.8788],\n",
      "        [ 0.8990],\n",
      "        [ 0.9192],\n",
      "        [ 0.9394],\n",
      "        [ 0.9596],\n",
      "        [ 0.9798],\n",
      "        [ 1.0000]])\n"
     ]
    },
    {
     "data": {
      "text/plain": [
       "tensor([[ 1.1954],\n",
       "        [ 1.0669],\n",
       "        [ 1.0971],\n",
       "        [ 0.9610],\n",
       "        [ 0.8875],\n",
       "        [ 0.9578],\n",
       "        [ 0.8279],\n",
       "        [ 0.7648],\n",
       "        [ 0.7355],\n",
       "        [ 0.7281],\n",
       "        [ 0.7256],\n",
       "        [ 0.6260],\n",
       "        [ 0.5852],\n",
       "        [ 0.5659],\n",
       "        [ 0.5176],\n",
       "        [ 0.6633],\n",
       "        [ 0.4696],\n",
       "        [ 0.5023],\n",
       "        [ 0.6005],\n",
       "        [ 0.4372],\n",
       "        [ 0.4348],\n",
       "        [ 0.4893],\n",
       "        [ 0.4030],\n",
       "        [ 0.4150],\n",
       "        [ 0.3455],\n",
       "        [ 0.4403],\n",
       "        [ 0.2854],\n",
       "        [ 0.3397],\n",
       "        [ 0.2224],\n",
       "        [ 0.3471],\n",
       "        [ 0.2071],\n",
       "        [ 0.2430],\n",
       "        [ 0.1624],\n",
       "        [ 0.2386],\n",
       "        [ 0.2615],\n",
       "        [ 0.1818],\n",
       "        [ 0.0898],\n",
       "        [ 0.1306],\n",
       "        [ 0.1156],\n",
       "        [ 0.2413],\n",
       "        [ 0.0449],\n",
       "        [ 0.0335],\n",
       "        [ 0.0705],\n",
       "        [ 0.1748],\n",
       "        [ 0.1466],\n",
       "        [ 0.1473],\n",
       "        [ 0.0963],\n",
       "        [ 0.0792],\n",
       "        [ 0.0918],\n",
       "        [ 0.0073],\n",
       "        [ 0.1012],\n",
       "        [ 0.1203],\n",
       "        [ 0.1733],\n",
       "        [ 0.0967],\n",
       "        [ 0.1103],\n",
       "        [ 0.1701],\n",
       "        [ 0.0909],\n",
       "        [ 0.1014],\n",
       "        [ 0.0911],\n",
       "        [ 0.2110],\n",
       "        [ 0.2266],\n",
       "        [ 0.1324],\n",
       "        [ 0.0960],\n",
       "        [ 0.1312],\n",
       "        [ 0.2031],\n",
       "        [ 0.1975],\n",
       "        [ 0.1896],\n",
       "        [ 0.1401],\n",
       "        [ 0.1882],\n",
       "        [ 0.2714],\n",
       "        [ 0.2436],\n",
       "        [ 0.2957],\n",
       "        [ 0.2875],\n",
       "        [ 0.2865],\n",
       "        [ 0.4432],\n",
       "        [ 0.3186],\n",
       "        [ 0.4198],\n",
       "        [ 0.3714],\n",
       "        [ 0.5040],\n",
       "        [ 0.3647],\n",
       "        [ 0.4040],\n",
       "        [ 0.5913],\n",
       "        [ 0.4632],\n",
       "        [ 0.4687],\n",
       "        [ 0.5310],\n",
       "        [ 0.5151],\n",
       "        [ 0.6244],\n",
       "        [ 0.5902],\n",
       "        [ 0.7704],\n",
       "        [ 0.8316],\n",
       "        [ 0.7795],\n",
       "        [ 0.8665],\n",
       "        [ 0.8814],\n",
       "        [ 0.8656],\n",
       "        [ 0.8470],\n",
       "        [ 1.0298],\n",
       "        [ 0.9237],\n",
       "        [ 1.0364],\n",
       "        [ 1.0963],\n",
       "        [ 1.0661]])"
      ]
     },
     "execution_count": 2,
     "metadata": {},
     "output_type": "execute_result"
    }
   ],
   "source": [
    "x = torch.unsqueeze(torch.linspace(-1, 1, 100), dim = 1)\n",
    "y = x.pow(2) + 0.2 * torch.rand(x.size())\n",
    "\n",
    "# 变为Variable\n",
    "x, y = Variable(x), Variable(y)\n",
    "\n",
    "print(x)\n",
    "y"
   ]
  },
  {
   "cell_type": "markdown",
   "metadata": {},
   "source": [
    "# 绘制数据图像"
   ]
  },
  {
   "cell_type": "code",
   "execution_count": 3,
   "metadata": {
    "ExecuteTime": {
     "end_time": "2018-07-17T11:15:57.225370Z",
     "start_time": "2018-07-17T11:15:57.017358Z"
    }
   },
   "outputs": [
    {
     "data": {
      "image/png": "[encoded data removed]",
      "text/plain": [
       "<matplotlib.figure.Figure at 0x9542f28>"
      ]
     },
     "metadata": {},
     "output_type": "display_data"
    }
   ],
   "source": [
    "plt.scatter(x.data.numpy(), y.data.numpy())\n",
    "plt.show()"
   ]
  },
  {
   "cell_type": "markdown",
   "metadata": {},
   "source": [
    "# 建立神经网络"
   ]
  },
  {
   "cell_type": "markdown",
   "metadata": {},
   "source": [
    "- 一般神经网络的类都继承自torch.nn.Module，__init__()和forward()两个函数是自定义类的主要函数。\n",
    "- 在__init__()中都要添加一句super(Net, self).__init__()，这是固定的标准写法，用于继承父类的初始化函数。\n",
    "- __init__()中只是对神经网络的模块进行了声明，真正的搭建是在forwad()中实现。\n",
    "- 自定义类中的成员都通过self指针来进行访问，所以参数列表中都包含了self。"
   ]
  },
  {
   "cell_type": "code",
   "execution_count": 4,
   "metadata": {
    "ExecuteTime": {
     "end_time": "2018-07-17T11:16:25.487986Z",
     "start_time": "2018-07-17T11:16:25.477986Z"
    },
    "collapsed": true
   },
   "outputs": [],
   "source": [
    "class Net(torch.nn.Module):\n",
    "    def __init__(self, n_feature, n_hidden, n_output):\n",
    "        super(Net, self).__init__()\n",
    "        self.hidden = torch.nn.Linear(n_feature, n_hidden)   # hidden layer\n",
    "        self.predict = torch.nn.Linear(n_hidden, n_output)   # output layer\n",
    "\n",
    "    def forward(self, x):\n",
    "        x = F.relu(self.hidden(x))      # activation function for hidden layer\n",
    "        x = self.predict(x)             # linear output\n",
    "        return x"
   ]
  },
  {
   "cell_type": "code",
   "execution_count": 5,
   "metadata": {
    "ExecuteTime": {
     "end_time": "2018-07-17T11:16:30.515274Z",
     "start_time": "2018-07-17T11:16:30.507273Z"
    }
   },
   "outputs": [
    {
     "name": "stdout",
     "output_type": "stream",
     "text": [
      "Net(\n",
      "  (hidden): Linear(in_features=1, out_features=10, bias=True)\n",
      "  (predict): Linear(in_features=10, out_features=1, bias=True)\n",
      ")\n"
     ]
    }
   ],
   "source": [
    "net = Net(n_feature=1, n_hidden=10, n_output=1)     # define the network\n",
    "print(net)  # net architecture"
   ]
  },
  {
   "cell_type": "markdown",
   "metadata": {},
   "source": [
    "# 训练网络"
   ]
  },
  {
   "cell_type": "code",
   "execution_count": 6,
   "metadata": {
    "ExecuteTime": {
     "end_time": "2018-07-17T11:17:32.835838Z",
     "start_time": "2018-07-17T11:17:32.672829Z"
    }
   },
   "outputs": [
    {
     "ename": "NameError",
     "evalue": "name 'loss_func' is not defined",
     "output_type": "error",
     "traceback": [
      "\u001b[1;31m---------------------------------------------------------------------------\u001b[0m",
      "\u001b[1;31mNameError\u001b[0m                                 Traceback (most recent call last)",
      "\u001b[1;32m<ipython-input-6-6c8bdbca9e33>\u001b[0m in \u001b[0;36m<module>\u001b[1;34m()\u001b[0m\n\u001b[0;32m      3\u001b[0m     \u001b[0mprediction\u001b[0m \u001b[1;33m=\u001b[0m \u001b[0mnet\u001b[0m\u001b[1;33m(\u001b[0m\u001b[0mx\u001b[0m\u001b[1;33m)\u001b[0m     \u001b[1;31m# input x and predict based on x\u001b[0m\u001b[1;33m\u001b[0m\u001b[0m\n\u001b[0;32m      4\u001b[0m \u001b[1;33m\u001b[0m\u001b[0m\n\u001b[1;32m----> 5\u001b[1;33m     \u001b[0mloss\u001b[0m \u001b[1;33m=\u001b[0m \u001b[0mloss_func\u001b[0m\u001b[1;33m(\u001b[0m\u001b[0mprediction\u001b[0m\u001b[1;33m,\u001b[0m \u001b[0my\u001b[0m\u001b[1;33m)\u001b[0m     \u001b[1;31m# 一定要是输出在前，标签在后 (1. nn output, 2. target)\u001b[0m\u001b[1;33m\u001b[0m\u001b[0m\n\u001b[0m\u001b[0;32m      6\u001b[0m \u001b[1;33m\u001b[0m\u001b[0m\n\u001b[0;32m      7\u001b[0m     \u001b[0moptimizer\u001b[0m\u001b[1;33m.\u001b[0m\u001b[0mzero_grad\u001b[0m\u001b[1;33m(\u001b[0m\u001b[1;33m)\u001b[0m   \u001b[1;31m# clear gradients for next train\u001b[0m\u001b[1;33m\u001b[0m\u001b[0m\n",
      "\u001b[1;31mNameError\u001b[0m: name 'loss_func' is not defined"
     ]
    }
   ],
   "source": [
    "# 训练100次\n",
    "for t in range(100):\n",
    "    prediction = net(x)     # input x and predict based on x\n",
    "\n",
    "    loss = loss_func(prediction, y)     # 一定要是输出在前，标签在后 (1. nn output, 2. target)\n",
    "\n",
    "    optimizer.zero_grad()   # clear gradients for next train\n",
    "    loss.backward()         # backpropagation, compute gradients\n",
    "    optimizer.step()        # apply gradients"
   ]
  },
  {
   "cell_type": "markdown",
   "metadata": {},
   "source": [
    "# 可视化训练过程"
   ]
  },
  {
   "cell_type": "code",
   "execution_count": null,
   "metadata": {
    "collapsed": true
   },
   "outputs": [],
   "source": [
    "plt.ion()   # something about plotting\n",
    "\n",
    "for t in range(100):\n",
    "    ...\n",
    "\n",
    "    if t % 5 == 0:\n",
    "        # plot and show learning process\n",
    "        plt.cla()\n",
    "        plt.scatter(x.data.numpy(), y.data.numpy())\n",
    "        plt.plot(x.data.numpy(), prediction.data.numpy(), 'r-', lw=5)\n",
    "        plt.text(0.5, 0, 'Loss=%.4f' % loss.data[0], fontdict={'size': 20, 'color':  'red'})\n",
    "        plt.pause(0.1)\n",
    "\n",
    "plt.ioff()\n",
    "plt.show()"
   ]
  },
  {
   "cell_type": "code",
   "execution_count": null,
   "metadata": {
    "collapsed": true
   },
   "outputs": [],
   "source": []
  },
  {
   "cell_type": "code",
   "execution_count": null,
   "metadata": {
    "collapsed": true
   },
   "outputs": [],
   "source": []
  },
  {
   "cell_type": "code",
   "execution_count": null,
   "metadata": {
    "collapsed": true
   },
   "outputs": [],
   "source": []
  },
  {
   "cell_type": "code",
   "execution_count": null,
   "metadata": {
    "collapsed": true
   },
   "outputs": [],
   "source": []
  },
  {
   "cell_type": "code",
   "execution_count": null,
   "metadata": {
    "collapsed": true
   },
   "outputs": [],
   "source": []
  },
  {
   "cell_type": "code",
   "execution_count": null,
   "metadata": {
    "collapsed": true
   },
   "outputs": [],
   "source": []
  },
  {
   "cell_type": "code",
   "execution_count": null,
   "metadata": {
    "collapsed": true
   },
   "outputs": [],
   "source": []
  },
  {
   "cell_type": "code",
   "execution_count": null,
   "metadata": {
    "collapsed": true
   },
   "outputs": [],
   "source": []
  }
 ],
 "metadata": {
  "kernelspec": {
   "display_name": "Python 3",
   "language": "python",
   "name": "python3"
  },
  "language_info": {
   "codemirror_mode": {
    "name": "ipython",
    "version": 3
   },
   "file_extension": ".py",
   "mimetype": "text/x-python",
   "name": "python",
   "nbconvert_exporter": "python",
   "pygments_lexer": "ipython3",
   "version": "3.6.3"
  },
  "toc": {
   "nav_menu": {},
   "number_sections": true,
   "sideBar": true,
   "skip_h1_title": false,
   "title_cell": "Table of Contents",
   "title_sidebar": "Contents",
   "toc_cell": false,
   "toc_position": {},
   "toc_section_display": true,
   "toc_window_display": true
  },
  "varInspector": {
   "cols": {
    "lenName": 16,
    "lenType": 16,
    "lenVar": 40
   },
   "kernels_config": {
    "python": {
     "delete_cmd_postfix": "",
     "delete_cmd_prefix": "del ",
     "library": "var_list.py",
     "varRefreshCmd": "print(var_dic_list())"
    },
    "r": {
     "delete_cmd_postfix": ") ",
     "delete_cmd_prefix": "rm(",
     "library": "var_list.r",
     "varRefreshCmd": "cat(var_dic_list()) "
    }
   },
   "types_to_exclude": [
    "module",
    "function",
    "builtin_function_or_method",
    "instance",
    "_Feature"
   ],
   "window_display": false
  }
 },
 "nbformat": 4,
 "nbformat_minor": 2
}
